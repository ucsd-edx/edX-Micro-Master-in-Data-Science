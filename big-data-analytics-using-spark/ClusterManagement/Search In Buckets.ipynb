{
 "cells": [
  {
   "cell_type": "code",
   "execution_count": 2,
   "metadata": {},
   "outputs": [],
   "source": [
    "!aws s3 ls > buckets.txt"
   ]
  },
  {
   "cell_type": "code",
   "execution_count": 5,
   "metadata": {},
   "outputs": [],
   "source": [
    "buckets=['mas-dse-emr','mas-dse-open','mas-dse-public','ucsd-twitter']\n"
   ]
  },
  {
   "cell_type": "code",
   "execution_count": 16,
   "metadata": {},
   "outputs": [],
   "source": [
    "!rm files.txt\n",
    "for bucket in buckets:\n",
    "    !echo \"$bucket\" >> files.txt\n",
    "    !aws s3 ls --recursive $bucket >>files.txt"
   ]
  },
  {
   "cell_type": "code",
   "execution_count": 17,
   "metadata": {},
   "outputs": [
    {
     "name": "stdout",
     "output_type": "stream",
     "text": [
      "mas-dse-emr\r\n",
      "2018-02-15 13:21:41         63 hello-world.sh\r\n",
      "2018-02-15 09:46:00       2641 jupyter-provision-v0.4.sh\r\n",
      "2018-02-15 08:35:33       2640 jupyter-provision.sh\r\n",
      "mas-dse-open\r\n",
      "2016-04-06 17:45:45    1257260 Moby-Dick.txt\r\n",
      "2017-06-13 15:00:09  470619736 Stocks/Stock Prices From QuandL.zip\r\n",
      "2017-06-13 15:00:42  109237346 Stocks/spdata_csv.tgz\r\n",
      "2017-06-13 14:59:59          0 Stocks_$folder$\r\n",
      "2018-03-15 09:04:14        702 Weather/Info/README.md\r\n"
     ]
    }
   ],
   "source": [
    "!head files.txt"
   ]
  },
  {
   "cell_type": "code",
   "execution_count": 18,
   "metadata": {},
   "outputs": [
    {
     "name": "stdout",
     "output_type": "stream",
     "text": [
      "ucsd-twitter\r\n"
     ]
    }
   ],
   "source": [
    "!grep -i twitter files.txt"
   ]
  },
  {
   "cell_type": "code",
   "execution_count": null,
   "metadata": {
    "collapsed": true
   },
   "outputs": [],
   "source": []
  }
 ],
 "metadata": {
  "kernelspec": {
   "display_name": "Python 3",
   "language": "python",
   "name": "python3"
  },
  "language_info": {
   "codemirror_mode": {
    "name": "ipython",
    "version": 3
   },
   "file_extension": ".py",
   "mimetype": "text/x-python",
   "name": "python",
   "nbconvert_exporter": "python",
   "pygments_lexer": "ipython3",
   "version": "3.6.3"
  },
  "toc": {
   "nav_menu": {},
   "number_sections": true,
   "sideBar": true,
   "skip_h1_title": false,
   "title_cell": "Table of Contents",
   "title_sidebar": "Contents",
   "toc_cell": false,
   "toc_position": {},
   "toc_section_display": true,
   "toc_window_display": false
  }
 },
 "nbformat": 4,
 "nbformat_minor": 2
}
