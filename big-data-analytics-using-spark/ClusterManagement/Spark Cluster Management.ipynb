{
 "cells": [
  {
   "cell_type": "markdown",
   "metadata": {},
   "source": [
    "## General\n",
    "\n",
    "This notebook documents and provides scripts for managing a spark cluster.\n",
    "\n",
    "The cluster is started using the spark-notebook script created by Kevin Coakley which is based on a script create by Julaiti Alafat. The advantage of Coakley's script is that it uses AWS-EMR instead of directly managing ec2 instances. Clone Coakley's script using \n",
    "```sh\n",
    "git clone https://github.com/mas-dse/spark-notebook.git\n",
    "```\n",
    "\n",
    "Follow directions to initialize and start the web interface. The command you use to start the cluster spinner is \n",
    "```\n",
    "./run.py &\n",
    "```\n",
    "The first time you use the script you will need to enter your AWS credentials. Those will be kept in a yaml file for the next times."
   ]
  },
  {
   "cell_type": "markdown",
   "metadata": {},
   "source": [
    "## Bootstrap\n",
    "After the script starts the cluster, it executes a bootstrap script. The script is in the spark notebook directory in the file `provision/jupyter-provision-v0.4.sh`\n",
    "\n",
    "## Per-session bootstrap\n",
    "You can add an additional script that will be executed after the general bootstrap. This script will be executed on both the head node and the worker nodes. In order to restrict the execution to the head node surround your commands with the following if-then:\n",
    "```sh\n",
    "# check for master node\n",
    "if grep isMaster /mnt/var/lib/info/instance.json | grep true;\n",
    "then\n",
    "   #put here commands that are intended only for the head node\n",
    "fi\n",
    "```\n",
    "An example script is below:"
   ]
  },
  {
   "cell_type": "markdown",
   "metadata": {},
   "source": [
    "```sh\n",
    "# %load PrivateBootstrap.sh\n",
    "# check for master node\n",
    "if grep isMaster /mnt/var/lib/info/instance.json | grep true;\n",
    "then\n",
    "   cd /mnt/workspace/\n",
    "\n",
    "   date +%H.%M:%S:%N  #>> /mnt/workspace/PrivateBootstrap.log\n",
    "   echo “Start of bootsrap, set up git” #>> /mnt/workspace/PrivateBootstrap.log\n",
    "   git config --global user.email \"yoav.freund@gmail.com\"\n",
    "   git config --global user.name “Yoav Freund”\n",
    "   git config --global credential.helper cache\n",
    "   echo \"git clone https://github.com/ucsd-edx/edX-Micro-Master-in-Data-Science.git\" >clone.sh    # could not figure a way to clone withut user intervensin, \n",
    "   # so making the clone into a one line script that need to be executed manually.\n",
    "\n",
    "   date +%H.%M:%S:%N  #>> /mnt/workspace/PrivateBootstrap.log\n",
    "   echo “copy files from S3 to Local”  #>> /mnt/workspace/PrivateBootstrap.log\n",
    "   mkdir Data\n",
    "   cd Data\n",
    "   aws s3 cp --recursive s3://dse-weather/weather.parquet  ./weather.parquet\n",
    "\n",
    "   date +%H.%M:%S:%N  #>> /mnt/workspace/PrivateBootstrap.log\n",
    "   echo “copy files from Local to HDFS”  #>> /mnt/workspace/PrivateBootstrap.log\n",
    "   hadoop fs -mkdir /weather\n",
    "   hadoop fs -copyFromLocal weather.parquet /weather/weather.parquet\n",
    "\n",
    "   date +%H.%M:%S:%N  #>> /mnt/workspace/PrivateBootstrap.log\n",
    "   echo “Bootstrap done”  #>> /mnt/workspace/PrivateBootstrap.log\n",
    "fi\n",
    "```"
   ]
  },
  {
   "cell_type": "markdown",
   "metadata": {},
   "source": [
    "The cluster nodes will recieve the script from s3. You therefor need to copy the script into s3 before starting the cluster. You can use the AWS command line (which you need to install on your laptop) to copy a local script to an s3 bucket that is accessible using the credentials f the cluster:\n",
    "```sh\n",
    "aws s3 cp PrivateBootstrap.sh s3://dse-weather/PrivateBootstrap.sh\n",
    "```\n",
    "You then need to type the s3 location when you start the script under \"advanced options\""
   ]
  },
  {
   "cell_type": "markdown",
   "metadata": {},
   "source": [
    "## log files\n",
    "\n",
    "At the bottom of the spark-notebook page, before you start a cluster, there is a line of the form:\n",
    "```\n",
    "EMR Logs S3 Bucket [?] s3://aws-logs-846273844940-us-east-1\n",
    "```\n",
    "This line tells you the s3 bucket where the logs reside.\n",
    "\n",
    "It is not easy to find out which of the logs are related to your current cluster and which are left over from previous runs. I wrote some code here to help with that.\n",
    "\n",
    "First, we get a listing of all of the files in the bucket"
   ]
  },
  {
   "cell_type": "code",
   "execution_count": 107,
   "metadata": {},
   "outputs": [],
   "source": [
    "logs_bucket=\"aws-logs-846273844940-us-east-1\"\n",
    "!aws s3 ls --recursive $logs_bucket/ > logOfLogs"
   ]
  },
  {
   "cell_type": "code",
   "execution_count": 53,
   "metadata": {},
   "outputs": [
    {
     "data": {
      "text/plain": [
       "18"
      ]
     },
     "execution_count": 53,
     "metadata": {},
     "output_type": "execute_result"
    }
   ],
   "source": [
    "# I now grep for today's date\n",
    "import datetime as dt\n",
    "now=dt.datetime.now()\n",
    "now.day\n",
    "#dt.datetime.strptime"
   ]
  },
  {
   "cell_type": "code",
   "execution_count": 110,
   "metadata": {},
   "outputs": [
    {
     "name": "stdout",
     "output_type": "stream",
     "text": [
      "2017-05-25 09:46:45       2258 elasticmapreduce/j-11GVYBFRIKQ8I/containers/application_1495728137505_0001/container_1495728137505_0001_01_000001/stderr.gz\r\n"
     ]
    }
   ],
   "source": [
    "!head -1 logOfLogs"
   ]
  },
  {
   "cell_type": "code",
   "execution_count": 101,
   "metadata": {},
   "outputs": [
    {
     "name": "stdout",
     "output_type": "stream",
     "text": [
      "A listing of today's logs\n",
      "\n",
      " session\t Started\t\t Ended \t\t\t No. of files\n",
      "j-1IIG6WD2TZPLR\t2018-02-18 12:45:52\t2018-02-18 13:26:31\t 269\n",
      "j-1VQQ62TIGBTRE\t2018-02-18 12:24:51\t2018-02-18 12:42:08\t 239\n",
      "j-2ZV5LAR33KCKC\t2018-02-18 10:59:54\t2018-02-18 11:02:25\t 62\n",
      "j-35XHQPIDSTWW\t2018-02-18 09:38:33\t2018-02-18 10:56:05\t 237\n",
      "j-JU6TGVTKCC9Y\t2018-02-18 13:33:31\t2018-02-18 14:23:33\t 262\n",
      "_dir= elasticmapreduce/\n"
     ]
    }
   ],
   "source": [
    "i=0\n",
    "import re\n",
    "rp=r''\n",
    "pat=re.compile(r'(\\d+-\\d+-\\d+\\s+\\d+:\\d+:\\d+)\\s+(\\d+)\\s+([^/]+/)([^/]+)/(.*)')\n",
    "from collections import Counter\n",
    "C={}\n",
    "with open('logOfLogs','r') as logs:\n",
    "    for line in logs.readlines():\n",
    "        m=pat.search(line)\n",
    "        if m:\n",
    "            timestamp,size,_dir,prefix,file=m.groups()\n",
    "            #print(timestamp,size,prefix,file)\n",
    "\n",
    "            ts=dt.datetime.strptime(timestamp,'%Y-%m-%d %H:%M:%S')\n",
    "            if now.year==ts.year and now.month==ts.month and now.day==ts.day:\n",
    "                if prefix in C:\n",
    "                    C[prefix].append(ts)\n",
    "                else:\n",
    "                    C[prefix]=[ts]\n",
    "            i+=1\n",
    "print(\"A listing of today's logs\\n\")\n",
    "print(\" session\\t Started\\t\\t Ended \\t\\t\\t No. of files\")\n",
    "for prefix in C.keys():\n",
    "    print('%s\\t%s\\t%s\\t %d'%(prefix,min(C[prefix]),max(C[prefix]),len(C[prefix])))\n",
    "\n",
    "print(\"_dir=\",dir)"
   ]
  },
  {
   "cell_type": "markdown",
   "metadata": {},
   "source": [
    "### download a specific session for inspection"
   ]
  },
  {
   "cell_type": "code",
   "execution_count": 113,
   "metadata": {},
   "outputs": [
    {
     "name": "stdout",
     "output_type": "stream",
     "text": [
      "s3://aws-logs-846273844940-us-east-1/elasticmapreduce/j-JU6TGVTKCC9Y/\n",
      "/private/tmp\n",
      "download: s3://aws-logs-846273844940-us-east-1/elasticmapreduce/j-JU6TGVTKCC9Y/node/i-00ef5ccc42effdfa1/applications/hadoop-hdfs/hadoop-hdfs-datanode-ip-10-129-239-205.log.gz to j-JU6TGVTKCC9Y/node/i-00ef5ccc42effdfa1/applications/hadoop-hdfs/hadoop-hdfs-datanode-ip-10-129-239-205.log.gz\n",
      "download: s3://aws-logs-846273844940-us-east-1/elasticmapreduce/j-JU6TGVTKCC9Y/node/i-00ef5ccc42effdfa1/applications/hadoop-hdfs/hadoop-hdfs-datanode-ip-10-129-239-205.log.2018-02-18-21.gz to j-JU6TGVTKCC9Y/node/i-00ef5ccc42effdfa1/applications/hadoop-hdfs/hadoop-hdfs-datanode-ip-10-129-239-205.log.2018-02-18-21.gz\n",
      "download: s3://aws-logs-846273844940-us-east-1/elasticmapreduce/j-JU6TGVTKCC9Y/node/i-00ef5ccc42effdfa1/applications/hadoop-hdfs/hadoop-hdfs-datanode-ip-10-129-239-205.out.gz to j-JU6TGVTKCC9Y/node/i-00ef5ccc42effdfa1/applications/hadoop-hdfs/hadoop-hdfs-datanode-ip-10-129-239-205.out.gz\n",
      "download: s3://aws-logs-846273844940-us-east-1/elasticmapreduce/j-JU6TGVTKCC9Y/node/i-00ef5ccc42effdfa1/applications/hadoop-yarn/yarn-yarn-nodemanager-ip-10-129-239-205.log.gz to j-JU6TGVTKCC9Y/node/i-00ef5ccc42effdfa1/applications/hadoop-yarn/yarn-yarn-nodemanager-ip-10-129-239-205.log.gz\n",
      "download: s3://aws-logs-846273844940-us-east-1/elasticmapreduce/j-JU6TGVTKCC9Y/node/i-00ef5ccc42effdfa1/bootstrap-actions/2/controller.gz to j-JU6TGVTKCC9Y/node/i-00ef5ccc42effdfa1/bootstrap-actions/2/controller.gz\n",
      "download: s3://aws-logs-846273844940-us-east-1/elasticmapreduce/j-JU6TGVTKCC9Y/node/i-00ef5ccc42effdfa1/daemons/instance-state/instance-state.log-2018-02-18-21-45.gz to j-JU6TGVTKCC9Y/node/i-00ef5ccc42effdfa1/daemons/instance-state/instance-state.log-2018-02-18-21-45.gz\n",
      "download: s3://aws-logs-846273844940-us-east-1/elasticmapreduce/j-JU6TGVTKCC9Y/node/i-00ef5ccc42effdfa1/daemons/instance-state/instance-state.log-2018-02-18-22-15.gz to j-JU6TGVTKCC9Y/node/i-00ef5ccc42effdfa1/daemons/instance-state/instance-state.log-2018-02-18-22-15.gz\n",
      "download: s3://aws-logs-846273844940-us-east-1/elasticmapreduce/j-JU6TGVTKCC9Y/node/i-00ef5ccc42effdfa1/applications/hadoop-yarn/yarn-yarn-nodemanager-ip-10-129-239-205.out.gz to j-JU6TGVTKCC9Y/node/i-00ef5ccc42effdfa1/applications/hadoop-yarn/yarn-yarn-nodemanager-ip-10-129-239-205.out.gz\n",
      "download: s3://aws-logs-846273844940-us-east-1/elasticmapreduce/j-JU6TGVTKCC9Y/node/i-00ef5ccc42effdfa1/daemons/instance-state/instance-state.log-2018-02-18-22-30.gz to j-JU6TGVTKCC9Y/node/i-00ef5ccc42effdfa1/daemons/instance-state/instance-state.log-2018-02-18-22-30.gz\n",
      "download: s3://aws-logs-846273844940-us-east-1/elasticmapreduce/j-JU6TGVTKCC9Y/node/i-00ef5ccc42effdfa1/daemons/instance-state/instance-state.log-2018-02-18-22-45.gz to j-JU6TGVTKCC9Y/node/i-00ef5ccc42effdfa1/daemons/instance-state/instance-state.log-2018-02-18-22-45.gz\n",
      "download: s3://aws-logs-846273844940-us-east-1/elasticmapreduce/j-JU6TGVTKCC9Y/node/i-00ef5ccc42effdfa1/daemons/instance-state/instance-state.log-2018-02-18-23-00.gz to j-JU6TGVTKCC9Y/node/i-00ef5ccc42effdfa1/daemons/instance-state/instance-state.log-2018-02-18-23-00.gz\n",
      "download: s3://aws-logs-846273844940-us-east-1/elasticmapreduce/j-JU6TGVTKCC9Y/node/i-00ef5ccc42effdfa1/daemons/instance-state/instance-state.log-2018-02-18-23-15.gz to j-JU6TGVTKCC9Y/node/i-00ef5ccc42effdfa1/daemons/instance-state/instance-state.log-2018-02-18-23-15.gz\n",
      "download: s3://aws-logs-846273844940-us-east-1/elasticmapreduce/j-JU6TGVTKCC9Y/node/i-00ef5ccc42effdfa1/daemons/instance-state/instance-state.log-2018-02-18-23-30.gz to j-JU6TGVTKCC9Y/node/i-00ef5ccc42effdfa1/daemons/instance-state/instance-state.log-2018-02-18-23-30.gz\n",
      "download: s3://aws-logs-846273844940-us-east-1/elasticmapreduce/j-JU6TGVTKCC9Y/node/i-00ef5ccc42effdfa1/provision-node/apps-phase/stderr.gz to j-JU6TGVTKCC9Y/node/i-00ef5ccc42effdfa1/provision-node/apps-phase/stderr.gz\n",
      "download: s3://aws-logs-846273844940-us-east-1/elasticmapreduce/j-JU6TGVTKCC9Y/node/i-00ef5ccc42effdfa1/bootstrap-actions/1/controller.gz to j-JU6TGVTKCC9Y/node/i-00ef5ccc42effdfa1/bootstrap-actions/1/controller.gz\n",
      "download: s3://aws-logs-846273844940-us-east-1/elasticmapreduce/j-JU6TGVTKCC9Y/node/i-00ef5ccc42effdfa1/daemons/instance-state/instance-state.log-2018-02-18-22-00.gz to j-JU6TGVTKCC9Y/node/i-00ef5ccc42effdfa1/daemons/instance-state/instance-state.log-2018-02-18-22-00.gz\n",
      "download: s3://aws-logs-846273844940-us-east-1/elasticmapreduce/j-JU6TGVTKCC9Y/node/i-00ef5ccc42effdfa1/provision-node/apps-phase/stdout.gz to j-JU6TGVTKCC9Y/node/i-00ef5ccc42effdfa1/provision-node/apps-phase/stdout.gz\n",
      "download: s3://aws-logs-846273844940-us-east-1/elasticmapreduce/j-JU6TGVTKCC9Y/node/i-00ef5ccc42effdfa1/provision-node/f683ab78-85c8-4a66-b076-056377e52eb6/controller.gz to j-JU6TGVTKCC9Y/node/i-00ef5ccc42effdfa1/provision-node/f683ab78-85c8-4a66-b076-056377e52eb6/controller.gz\n",
      "download: s3://aws-logs-846273844940-us-east-1/elasticmapreduce/j-JU6TGVTKCC9Y/node/i-00ef5ccc42effdfa1/provision-node/f683ab78-85c8-4a66-b076-056377e52eb6/stderr.gz to j-JU6TGVTKCC9Y/node/i-00ef5ccc42effdfa1/provision-node/f683ab78-85c8-4a66-b076-056377e52eb6/stderr.gz\n",
      "download: s3://aws-logs-846273844940-us-east-1/elasticmapreduce/j-JU6TGVTKCC9Y/node/i-00ef5ccc42effdfa1/provision-node/f683ab78-85c8-4a66-b076-056377e52eb6/stdout.gz to j-JU6TGVTKCC9Y/node/i-00ef5ccc42effdfa1/provision-node/f683ab78-85c8-4a66-b076-056377e52eb6/stdout.gz\n",
      "download: s3://aws-logs-846273844940-us-east-1/elasticmapreduce/j-JU6TGVTKCC9Y/node/i-00ef5ccc42effdfa1/setup-devices/DiskEncryptor.log.gz to j-JU6TGVTKCC9Y/node/i-00ef5ccc42effdfa1/setup-devices/DiskEncryptor.log.gz\n",
      "download: s3://aws-logs-846273844940-us-east-1/elasticmapreduce/j-JU6TGVTKCC9Y/node/i-00ef5ccc42effdfa1/setup-devices/setup_drives.log.gz to j-JU6TGVTKCC9Y/node/i-00ef5ccc42effdfa1/setup-devices/setup_drives.log.gz\n",
      "download: s3://aws-logs-846273844940-us-east-1/elasticmapreduce/j-JU6TGVTKCC9Y/node/i-00ef5ccc42effdfa1/setup-devices/setup_tmp_dir.log.gz to j-JU6TGVTKCC9Y/node/i-00ef5ccc42effdfa1/setup-devices/setup_tmp_dir.log.gz\n",
      "download: s3://aws-logs-846273844940-us-east-1/elasticmapreduce/j-JU6TGVTKCC9Y/node/i-00ef5ccc42effdfa1/setup-devices/setup_emr_metrics.log.gz to j-JU6TGVTKCC9Y/node/i-00ef5ccc42effdfa1/setup-devices/setup_emr_metrics.log.gz\n",
      "download: s3://aws-logs-846273844940-us-east-1/elasticmapreduce/j-JU6TGVTKCC9Y/node/i-00ef5ccc42effdfa1/setup-devices/setup_var_lib_dir.log.gz to j-JU6TGVTKCC9Y/node/i-00ef5ccc42effdfa1/setup-devices/setup_var_lib_dir.log.gz\n",
      "download: s3://aws-logs-846273844940-us-east-1/elasticmapreduce/j-JU6TGVTKCC9Y/node/i-00ef5ccc42effdfa1/setup-devices/setup_var_log_dir.log.gz to j-JU6TGVTKCC9Y/node/i-00ef5ccc42effdfa1/setup-devices/setup_var_log_dir.log.gz\n",
      "download: s3://aws-logs-846273844940-us-east-1/elasticmapreduce/j-JU6TGVTKCC9Y/node/i-00ef5ccc42effdfa1/setup-devices/setup_var_cache_dir.log.gz to j-JU6TGVTKCC9Y/node/i-00ef5ccc42effdfa1/setup-devices/setup_var_cache_dir.log.gz\n",
      "download: s3://aws-logs-846273844940-us-east-1/elasticmapreduce/j-JU6TGVTKCC9Y/node/i-00ef5ccc42effdfa1/setup-devices/setup_var_tmp_dir.log.gz to j-JU6TGVTKCC9Y/node/i-00ef5ccc42effdfa1/setup-devices/setup_var_tmp_dir.log.gz\n",
      "download: s3://aws-logs-846273844940-us-east-1/elasticmapreduce/j-JU6TGVTKCC9Y/node/i-0288ea472349f126e/applications/hadoop-hdfs/hadoop-hdfs-datanode-ip-10-129-228-145.log.gz to j-JU6TGVTKCC9Y/node/i-0288ea472349f126e/applications/hadoop-hdfs/hadoop-hdfs-datanode-ip-10-129-228-145.log.gz\n",
      "download: s3://aws-logs-846273844940-us-east-1/elasticmapreduce/j-JU6TGVTKCC9Y/node/i-0288ea472349f126e/applications/hadoop-hdfs/hadoop-hdfs-datanode-ip-10-129-228-145.out.gz to j-JU6TGVTKCC9Y/node/i-0288ea472349f126e/applications/hadoop-hdfs/hadoop-hdfs-datanode-ip-10-129-228-145.out.gz\n",
      "download: s3://aws-logs-846273844940-us-east-1/elasticmapreduce/j-JU6TGVTKCC9Y/node/i-0288ea472349f126e/applications/hadoop-yarn/yarn-yarn-nodemanager-ip-10-129-228-145.log.gz to j-JU6TGVTKCC9Y/node/i-0288ea472349f126e/applications/hadoop-yarn/yarn-yarn-nodemanager-ip-10-129-228-145.log.gz\n",
      "download: s3://aws-logs-846273844940-us-east-1/elasticmapreduce/j-JU6TGVTKCC9Y/node/i-0288ea472349f126e/bootstrap-actions/1/controller.gz to j-JU6TGVTKCC9Y/node/i-0288ea472349f126e/bootstrap-actions/1/controller.gz\n",
      "download: s3://aws-logs-846273844940-us-east-1/elasticmapreduce/j-JU6TGVTKCC9Y/node/i-0288ea472349f126e/bootstrap-actions/2/controller.gz to j-JU6TGVTKCC9Y/node/i-0288ea472349f126e/bootstrap-actions/2/controller.gz\n"
     ]
    },
    {
     "name": "stdout",
     "output_type": "stream",
     "text": [
      "download: s3://aws-logs-846273844940-us-east-1/elasticmapreduce/j-JU6TGVTKCC9Y/node/i-0288ea472349f126e/daemons/instance-state/instance-state.log-2018-02-18-21-45.gz to j-JU6TGVTKCC9Y/node/i-0288ea472349f126e/daemons/instance-state/instance-state.log-2018-02-18-21-45.gz\n",
      "download: s3://aws-logs-846273844940-us-east-1/elasticmapreduce/j-JU6TGVTKCC9Y/node/i-0288ea472349f126e/daemons/instance-state/instance-state.log-2018-02-18-22-00.gz to j-JU6TGVTKCC9Y/node/i-0288ea472349f126e/daemons/instance-state/instance-state.log-2018-02-18-22-00.gz\n",
      "download: s3://aws-logs-846273844940-us-east-1/elasticmapreduce/j-JU6TGVTKCC9Y/node/i-0288ea472349f126e/daemons/instance-state/instance-state.log-2018-02-18-22-30.gz to j-JU6TGVTKCC9Y/node/i-0288ea472349f126e/daemons/instance-state/instance-state.log-2018-02-18-22-30.gz\n",
      "download: s3://aws-logs-846273844940-us-east-1/elasticmapreduce/j-JU6TGVTKCC9Y/node/i-0288ea472349f126e/provision-node/51d7c60d-3b01-4f7b-9a38-adbbfb7115af/controller.gz to j-JU6TGVTKCC9Y/node/i-0288ea472349f126e/provision-node/51d7c60d-3b01-4f7b-9a38-adbbfb7115af/controller.gz\n",
      "download: s3://aws-logs-846273844940-us-east-1/elasticmapreduce/j-JU6TGVTKCC9Y/node/i-0288ea472349f126e/daemons/instance-state/instance-state.log-2018-02-18-22-15.gz to j-JU6TGVTKCC9Y/node/i-0288ea472349f126e/daemons/instance-state/instance-state.log-2018-02-18-22-15.gz\n",
      "download: s3://aws-logs-846273844940-us-east-1/elasticmapreduce/j-JU6TGVTKCC9Y/node/i-0288ea472349f126e/daemons/instance-state/instance-state.log-2018-02-18-23-15.gz to j-JU6TGVTKCC9Y/node/i-0288ea472349f126e/daemons/instance-state/instance-state.log-2018-02-18-23-15.gz\n",
      "download: s3://aws-logs-846273844940-us-east-1/elasticmapreduce/j-JU6TGVTKCC9Y/node/i-0288ea472349f126e/daemons/instance-state/instance-state.log-2018-02-18-22-45.gz to j-JU6TGVTKCC9Y/node/i-0288ea472349f126e/daemons/instance-state/instance-state.log-2018-02-18-22-45.gz\n",
      "download: s3://aws-logs-846273844940-us-east-1/elasticmapreduce/j-JU6TGVTKCC9Y/node/i-0288ea472349f126e/daemons/instance-state/instance-state.log-2018-02-18-23-00.gz to j-JU6TGVTKCC9Y/node/i-0288ea472349f126e/daemons/instance-state/instance-state.log-2018-02-18-23-00.gz\n",
      "download: s3://aws-logs-846273844940-us-east-1/elasticmapreduce/j-JU6TGVTKCC9Y/node/i-0288ea472349f126e/applications/hadoop-yarn/yarn-yarn-nodemanager-ip-10-129-228-145.out.gz to j-JU6TGVTKCC9Y/node/i-0288ea472349f126e/applications/hadoop-yarn/yarn-yarn-nodemanager-ip-10-129-228-145.out.gz\n",
      "download: s3://aws-logs-846273844940-us-east-1/elasticmapreduce/j-JU6TGVTKCC9Y/node/i-0288ea472349f126e/daemons/instance-state/instance-state.log-2018-02-18-23-30.gz to j-JU6TGVTKCC9Y/node/i-0288ea472349f126e/daemons/instance-state/instance-state.log-2018-02-18-23-30.gz\n",
      "download: s3://aws-logs-846273844940-us-east-1/elasticmapreduce/j-JU6TGVTKCC9Y/node/i-0288ea472349f126e/provision-node/51d7c60d-3b01-4f7b-9a38-adbbfb7115af/stderr.gz to j-JU6TGVTKCC9Y/node/i-0288ea472349f126e/provision-node/51d7c60d-3b01-4f7b-9a38-adbbfb7115af/stderr.gz\n",
      "download: s3://aws-logs-846273844940-us-east-1/elasticmapreduce/j-JU6TGVTKCC9Y/node/i-0288ea472349f126e/setup-devices/DiskEncryptor.log.gz to j-JU6TGVTKCC9Y/node/i-0288ea472349f126e/setup-devices/DiskEncryptor.log.gz\n",
      "download: s3://aws-logs-846273844940-us-east-1/elasticmapreduce/j-JU6TGVTKCC9Y/node/i-0288ea472349f126e/provision-node/apps-phase/stdout.gz to j-JU6TGVTKCC9Y/node/i-0288ea472349f126e/provision-node/apps-phase/stdout.gz\n",
      "download: s3://aws-logs-846273844940-us-east-1/elasticmapreduce/j-JU6TGVTKCC9Y/node/i-0288ea472349f126e/provision-node/apps-phase/stderr.gz to j-JU6TGVTKCC9Y/node/i-0288ea472349f126e/provision-node/apps-phase/stderr.gz\n",
      "download: s3://aws-logs-846273844940-us-east-1/elasticmapreduce/j-JU6TGVTKCC9Y/node/i-0288ea472349f126e/setup-devices/setup_drives.log.gz to j-JU6TGVTKCC9Y/node/i-0288ea472349f126e/setup-devices/setup_drives.log.gz\n",
      "download: s3://aws-logs-846273844940-us-east-1/elasticmapreduce/j-JU6TGVTKCC9Y/node/i-0288ea472349f126e/setup-devices/setup_tmp_dir.log.gz to j-JU6TGVTKCC9Y/node/i-0288ea472349f126e/setup-devices/setup_tmp_dir.log.gz\n",
      "download: s3://aws-logs-846273844940-us-east-1/elasticmapreduce/j-JU6TGVTKCC9Y/node/i-0288ea472349f126e/setup-devices/setup_emr_metrics.log.gz to j-JU6TGVTKCC9Y/node/i-0288ea472349f126e/setup-devices/setup_emr_metrics.log.gz\n",
      "download: s3://aws-logs-846273844940-us-east-1/elasticmapreduce/j-JU6TGVTKCC9Y/node/i-0288ea472349f126e/setup-devices/setup_var_cache_dir.log.gz to j-JU6TGVTKCC9Y/node/i-0288ea472349f126e/setup-devices/setup_var_cache_dir.log.gz\n",
      "download: s3://aws-logs-846273844940-us-east-1/elasticmapreduce/j-JU6TGVTKCC9Y/node/i-0288ea472349f126e/setup-devices/setup_var_lib_dir.log.gz to j-JU6TGVTKCC9Y/node/i-0288ea472349f126e/setup-devices/setup_var_lib_dir.log.gz\n",
      "download: s3://aws-logs-846273844940-us-east-1/elasticmapreduce/j-JU6TGVTKCC9Y/node/i-0288ea472349f126e/setup-devices/setup_var_log_dir.log.gz to j-JU6TGVTKCC9Y/node/i-0288ea472349f126e/setup-devices/setup_var_log_dir.log.gz\n",
      "download: s3://aws-logs-846273844940-us-east-1/elasticmapreduce/j-JU6TGVTKCC9Y/node/i-02fe4b250d74129e3/applications/hadoop-hdfs/hadoop-hdfs-datanode-ip-10-129-248-207.log.gz to j-JU6TGVTKCC9Y/node/i-02fe4b250d74129e3/applications/hadoop-hdfs/hadoop-hdfs-datanode-ip-10-129-248-207.log.gz\n",
      "download: s3://aws-logs-846273844940-us-east-1/elasticmapreduce/j-JU6TGVTKCC9Y/node/i-0288ea472349f126e/setup-devices/setup_var_tmp_dir.log.gz to j-JU6TGVTKCC9Y/node/i-0288ea472349f126e/setup-devices/setup_var_tmp_dir.log.gz\n",
      "download: s3://aws-logs-846273844940-us-east-1/elasticmapreduce/j-JU6TGVTKCC9Y/node/i-02fe4b250d74129e3/applications/hadoop-hdfs/hadoop-hdfs-datanode-ip-10-129-248-207.out.gz to j-JU6TGVTKCC9Y/node/i-02fe4b250d74129e3/applications/hadoop-hdfs/hadoop-hdfs-datanode-ip-10-129-248-207.out.gz\n",
      "download: s3://aws-logs-846273844940-us-east-1/elasticmapreduce/j-JU6TGVTKCC9Y/node/i-02fe4b250d74129e3/applications/hadoop-yarn/yarn-yarn-nodemanager-ip-10-129-248-207.log.gz to j-JU6TGVTKCC9Y/node/i-02fe4b250d74129e3/applications/hadoop-yarn/yarn-yarn-nodemanager-ip-10-129-248-207.log.gz\n",
      "download: s3://aws-logs-846273844940-us-east-1/elasticmapreduce/j-JU6TGVTKCC9Y/node/i-0288ea472349f126e/provision-node/51d7c60d-3b01-4f7b-9a38-adbbfb7115af/stdout.gz to j-JU6TGVTKCC9Y/node/i-0288ea472349f126e/provision-node/51d7c60d-3b01-4f7b-9a38-adbbfb7115af/stdout.gz\n",
      "download: s3://aws-logs-846273844940-us-east-1/elasticmapreduce/j-JU6TGVTKCC9Y/node/i-02fe4b250d74129e3/applications/hadoop-yarn/yarn-yarn-nodemanager-ip-10-129-248-207.out.gz to j-JU6TGVTKCC9Y/node/i-02fe4b250d74129e3/applications/hadoop-yarn/yarn-yarn-nodemanager-ip-10-129-248-207.out.gz\n",
      "download: s3://aws-logs-846273844940-us-east-1/elasticmapreduce/j-JU6TGVTKCC9Y/node/i-02fe4b250d74129e3/bootstrap-actions/1/controller.gz to j-JU6TGVTKCC9Y/node/i-02fe4b250d74129e3/bootstrap-actions/1/controller.gz\n",
      "download: s3://aws-logs-846273844940-us-east-1/elasticmapreduce/j-JU6TGVTKCC9Y/node/i-02fe4b250d74129e3/bootstrap-actions/2/controller.gz to j-JU6TGVTKCC9Y/node/i-02fe4b250d74129e3/bootstrap-actions/2/controller.gz\n",
      "download: s3://aws-logs-846273844940-us-east-1/elasticmapreduce/j-JU6TGVTKCC9Y/node/i-02fe4b250d74129e3/provision-node/1a3a4a2e-8dda-4048-83dc-f33909e13d8b/controller.gz to j-JU6TGVTKCC9Y/node/i-02fe4b250d74129e3/provision-node/1a3a4a2e-8dda-4048-83dc-f33909e13d8b/controller.gz\n",
      "download: s3://aws-logs-846273844940-us-east-1/elasticmapreduce/j-JU6TGVTKCC9Y/node/i-02fe4b250d74129e3/daemons/instance-state/instance-state.log-2018-02-18-22-00.gz to j-JU6TGVTKCC9Y/node/i-02fe4b250d74129e3/daemons/instance-state/instance-state.log-2018-02-18-22-00.gz\n",
      "download: s3://aws-logs-846273844940-us-east-1/elasticmapreduce/j-JU6TGVTKCC9Y/node/i-02fe4b250d74129e3/daemons/instance-state/instance-state.log-2018-02-18-21-45.gz to j-JU6TGVTKCC9Y/node/i-02fe4b250d74129e3/daemons/instance-state/instance-state.log-2018-02-18-21-45.gz\n",
      "download: s3://aws-logs-846273844940-us-east-1/elasticmapreduce/j-JU6TGVTKCC9Y/node/i-02fe4b250d74129e3/daemons/instance-state/instance-state.log-2018-02-18-22-15.gz to j-JU6TGVTKCC9Y/node/i-02fe4b250d74129e3/daemons/instance-state/instance-state.log-2018-02-18-22-15.gz\n",
      "download: s3://aws-logs-846273844940-us-east-1/elasticmapreduce/j-JU6TGVTKCC9Y/node/i-02fe4b250d74129e3/daemons/instance-state/instance-state.log-2018-02-18-22-30.gz to j-JU6TGVTKCC9Y/node/i-02fe4b250d74129e3/daemons/instance-state/instance-state.log-2018-02-18-22-30.gz\n"
     ]
    },
    {
     "name": "stdout",
     "output_type": "stream",
     "text": [
      "download: s3://aws-logs-846273844940-us-east-1/elasticmapreduce/j-JU6TGVTKCC9Y/node/i-02fe4b250d74129e3/daemons/instance-state/instance-state.log-2018-02-18-23-30.gz to j-JU6TGVTKCC9Y/node/i-02fe4b250d74129e3/daemons/instance-state/instance-state.log-2018-02-18-23-30.gz\n",
      "download: s3://aws-logs-846273844940-us-east-1/elasticmapreduce/j-JU6TGVTKCC9Y/node/i-02fe4b250d74129e3/daemons/instance-state/instance-state.log-2018-02-18-23-00.gz to j-JU6TGVTKCC9Y/node/i-02fe4b250d74129e3/daemons/instance-state/instance-state.log-2018-02-18-23-00.gz\n",
      "download: s3://aws-logs-846273844940-us-east-1/elasticmapreduce/j-JU6TGVTKCC9Y/node/i-02fe4b250d74129e3/daemons/instance-state/instance-state.log-2018-02-18-23-15.gz to j-JU6TGVTKCC9Y/node/i-02fe4b250d74129e3/daemons/instance-state/instance-state.log-2018-02-18-23-15.gz\n",
      "download: s3://aws-logs-846273844940-us-east-1/elasticmapreduce/j-JU6TGVTKCC9Y/node/i-02fe4b250d74129e3/daemons/instance-state/instance-state.log-2018-02-18-22-45.gz to j-JU6TGVTKCC9Y/node/i-02fe4b250d74129e3/daemons/instance-state/instance-state.log-2018-02-18-22-45.gz\n",
      "download: s3://aws-logs-846273844940-us-east-1/elasticmapreduce/j-JU6TGVTKCC9Y/node/i-02fe4b250d74129e3/provision-node/1a3a4a2e-8dda-4048-83dc-f33909e13d8b/stderr.gz to j-JU6TGVTKCC9Y/node/i-02fe4b250d74129e3/provision-node/1a3a4a2e-8dda-4048-83dc-f33909e13d8b/stderr.gz\n",
      "download: s3://aws-logs-846273844940-us-east-1/elasticmapreduce/j-JU6TGVTKCC9Y/node/i-02fe4b250d74129e3/provision-node/apps-phase/stderr.gz to j-JU6TGVTKCC9Y/node/i-02fe4b250d74129e3/provision-node/apps-phase/stderr.gz\n",
      "download: s3://aws-logs-846273844940-us-east-1/elasticmapreduce/j-JU6TGVTKCC9Y/node/i-02fe4b250d74129e3/provision-node/1a3a4a2e-8dda-4048-83dc-f33909e13d8b/stdout.gz to j-JU6TGVTKCC9Y/node/i-02fe4b250d74129e3/provision-node/1a3a4a2e-8dda-4048-83dc-f33909e13d8b/stdout.gz\n",
      "download: s3://aws-logs-846273844940-us-east-1/elasticmapreduce/j-JU6TGVTKCC9Y/node/i-02fe4b250d74129e3/provision-node/apps-phase/stdout.gz to j-JU6TGVTKCC9Y/node/i-02fe4b250d74129e3/provision-node/apps-phase/stdout.gz\n",
      "download: s3://aws-logs-846273844940-us-east-1/elasticmapreduce/j-JU6TGVTKCC9Y/node/i-02fe4b250d74129e3/setup-devices/DiskEncryptor.log.gz to j-JU6TGVTKCC9Y/node/i-02fe4b250d74129e3/setup-devices/DiskEncryptor.log.gz\n",
      "download: s3://aws-logs-846273844940-us-east-1/elasticmapreduce/j-JU6TGVTKCC9Y/node/i-02fe4b250d74129e3/setup-devices/setup_drives.log.gz to j-JU6TGVTKCC9Y/node/i-02fe4b250d74129e3/setup-devices/setup_drives.log.gz\n",
      "download: s3://aws-logs-846273844940-us-east-1/elasticmapreduce/j-JU6TGVTKCC9Y/node/i-02fe4b250d74129e3/setup-devices/setup_emr_metrics.log.gz to j-JU6TGVTKCC9Y/node/i-02fe4b250d74129e3/setup-devices/setup_emr_metrics.log.gz\n",
      "download: s3://aws-logs-846273844940-us-east-1/elasticmapreduce/j-JU6TGVTKCC9Y/node/i-02fe4b250d74129e3/setup-devices/setup_tmp_dir.log.gz to j-JU6TGVTKCC9Y/node/i-02fe4b250d74129e3/setup-devices/setup_tmp_dir.log.gz\n",
      "download: s3://aws-logs-846273844940-us-east-1/elasticmapreduce/j-JU6TGVTKCC9Y/node/i-02fe4b250d74129e3/setup-devices/setup_var_lib_dir.log.gz to j-JU6TGVTKCC9Y/node/i-02fe4b250d74129e3/setup-devices/setup_var_lib_dir.log.gz\n",
      "download: s3://aws-logs-846273844940-us-east-1/elasticmapreduce/j-JU6TGVTKCC9Y/node/i-02fe4b250d74129e3/setup-devices/setup_var_log_dir.log.gz to j-JU6TGVTKCC9Y/node/i-02fe4b250d74129e3/setup-devices/setup_var_log_dir.log.gz\n",
      "download: s3://aws-logs-846273844940-us-east-1/elasticmapreduce/j-JU6TGVTKCC9Y/node/i-02fe4b250d74129e3/setup-devices/setup_var_tmp_dir.log.gz to j-JU6TGVTKCC9Y/node/i-02fe4b250d74129e3/setup-devices/setup_var_tmp_dir.log.gz\n",
      "download: s3://aws-logs-846273844940-us-east-1/elasticmapreduce/j-JU6TGVTKCC9Y/node/i-02ff8b34babf37087/applications/hadoop-hdfs/hadoop-hdfs-datanode-ip-10-129-239-241.out.gz to j-JU6TGVTKCC9Y/node/i-02ff8b34babf37087/applications/hadoop-hdfs/hadoop-hdfs-datanode-ip-10-129-239-241.out.gz\n",
      "download: s3://aws-logs-846273844940-us-east-1/elasticmapreduce/j-JU6TGVTKCC9Y/node/i-02ff8b34babf37087/applications/hadoop-yarn/yarn-yarn-nodemanager-ip-10-129-239-241.log.gz to j-JU6TGVTKCC9Y/node/i-02ff8b34babf37087/applications/hadoop-yarn/yarn-yarn-nodemanager-ip-10-129-239-241.log.gz\n",
      "download: s3://aws-logs-846273844940-us-east-1/elasticmapreduce/j-JU6TGVTKCC9Y/node/i-02ff8b34babf37087/applications/hadoop-yarn/yarn-yarn-nodemanager-ip-10-129-239-241.out.gz to j-JU6TGVTKCC9Y/node/i-02ff8b34babf37087/applications/hadoop-yarn/yarn-yarn-nodemanager-ip-10-129-239-241.out.gz\n",
      "download: s3://aws-logs-846273844940-us-east-1/elasticmapreduce/j-JU6TGVTKCC9Y/node/i-02ff8b34babf37087/bootstrap-actions/1/controller.gz to j-JU6TGVTKCC9Y/node/i-02ff8b34babf37087/bootstrap-actions/1/controller.gz\n",
      "download: s3://aws-logs-846273844940-us-east-1/elasticmapreduce/j-JU6TGVTKCC9Y/node/i-02ff8b34babf37087/bootstrap-actions/2/controller.gz to j-JU6TGVTKCC9Y/node/i-02ff8b34babf37087/bootstrap-actions/2/controller.gz\n",
      "download: s3://aws-logs-846273844940-us-east-1/elasticmapreduce/j-JU6TGVTKCC9Y/node/i-02fe4b250d74129e3/setup-devices/setup_var_cache_dir.log.gz to j-JU6TGVTKCC9Y/node/i-02fe4b250d74129e3/setup-devices/setup_var_cache_dir.log.gz\n",
      "download: s3://aws-logs-846273844940-us-east-1/elasticmapreduce/j-JU6TGVTKCC9Y/node/i-02ff8b34babf37087/applications/hadoop-hdfs/hadoop-hdfs-datanode-ip-10-129-239-241.log.gz to j-JU6TGVTKCC9Y/node/i-02ff8b34babf37087/applications/hadoop-hdfs/hadoop-hdfs-datanode-ip-10-129-239-241.log.gz\n",
      "download: s3://aws-logs-846273844940-us-east-1/elasticmapreduce/j-JU6TGVTKCC9Y/node/i-02ff8b34babf37087/daemons/instance-state/instance-state.log-2018-02-18-21-45.gz to j-JU6TGVTKCC9Y/node/i-02ff8b34babf37087/daemons/instance-state/instance-state.log-2018-02-18-21-45.gz\n",
      "download: s3://aws-logs-846273844940-us-east-1/elasticmapreduce/j-JU6TGVTKCC9Y/node/i-02ff8b34babf37087/daemons/instance-state/instance-state.log-2018-02-18-22-00.gz to j-JU6TGVTKCC9Y/node/i-02ff8b34babf37087/daemons/instance-state/instance-state.log-2018-02-18-22-00.gz\n",
      "download: s3://aws-logs-846273844940-us-east-1/elasticmapreduce/j-JU6TGVTKCC9Y/node/i-02ff8b34babf37087/provision-node/4cf0eee3-ccc9-4c3e-9ee4-ff437eca76b8/controller.gz to j-JU6TGVTKCC9Y/node/i-02ff8b34babf37087/provision-node/4cf0eee3-ccc9-4c3e-9ee4-ff437eca76b8/controller.gz\n",
      "download: s3://aws-logs-846273844940-us-east-1/elasticmapreduce/j-JU6TGVTKCC9Y/node/i-02ff8b34babf37087/daemons/instance-state/instance-state.log-2018-02-18-22-15.gz to j-JU6TGVTKCC9Y/node/i-02ff8b34babf37087/daemons/instance-state/instance-state.log-2018-02-18-22-15.gz\n",
      "download: s3://aws-logs-846273844940-us-east-1/elasticmapreduce/j-JU6TGVTKCC9Y/node/i-02ff8b34babf37087/daemons/instance-state/instance-state.log-2018-02-18-22-30.gz to j-JU6TGVTKCC9Y/node/i-02ff8b34babf37087/daemons/instance-state/instance-state.log-2018-02-18-22-30.gz\n",
      "download: s3://aws-logs-846273844940-us-east-1/elasticmapreduce/j-JU6TGVTKCC9Y/node/i-02ff8b34babf37087/provision-node/4cf0eee3-ccc9-4c3e-9ee4-ff437eca76b8/stderr.gz to j-JU6TGVTKCC9Y/node/i-02ff8b34babf37087/provision-node/4cf0eee3-ccc9-4c3e-9ee4-ff437eca76b8/stderr.gz\n",
      "download: s3://aws-logs-846273844940-us-east-1/elasticmapreduce/j-JU6TGVTKCC9Y/node/i-02ff8b34babf37087/daemons/instance-state/instance-state.log-2018-02-18-22-45.gz to j-JU6TGVTKCC9Y/node/i-02ff8b34babf37087/daemons/instance-state/instance-state.log-2018-02-18-22-45.gz\n",
      "download: s3://aws-logs-846273844940-us-east-1/elasticmapreduce/j-JU6TGVTKCC9Y/node/i-02ff8b34babf37087/daemons/instance-state/instance-state.log-2018-02-18-23-30.gz to j-JU6TGVTKCC9Y/node/i-02ff8b34babf37087/daemons/instance-state/instance-state.log-2018-02-18-23-30.gz\n",
      "download: s3://aws-logs-846273844940-us-east-1/elasticmapreduce/j-JU6TGVTKCC9Y/node/i-02ff8b34babf37087/daemons/instance-state/instance-state.log-2018-02-18-23-15.gz to j-JU6TGVTKCC9Y/node/i-02ff8b34babf37087/daemons/instance-state/instance-state.log-2018-02-18-23-15.gz\n",
      "download: s3://aws-logs-846273844940-us-east-1/elasticmapreduce/j-JU6TGVTKCC9Y/node/i-02ff8b34babf37087/provision-node/apps-phase/stderr.gz to j-JU6TGVTKCC9Y/node/i-02ff8b34babf37087/provision-node/apps-phase/stderr.gz\n",
      "download: s3://aws-logs-846273844940-us-east-1/elasticmapreduce/j-JU6TGVTKCC9Y/node/i-02ff8b34babf37087/setup-devices/setup_emr_metrics.log.gz to j-JU6TGVTKCC9Y/node/i-02ff8b34babf37087/setup-devices/setup_emr_metrics.log.gz\n",
      "download: s3://aws-logs-846273844940-us-east-1/elasticmapreduce/j-JU6TGVTKCC9Y/node/i-02ff8b34babf37087/setup-devices/DiskEncryptor.log.gz to j-JU6TGVTKCC9Y/node/i-02ff8b34babf37087/setup-devices/DiskEncryptor.log.gz\n",
      "download: s3://aws-logs-846273844940-us-east-1/elasticmapreduce/j-JU6TGVTKCC9Y/node/i-02ff8b34babf37087/provision-node/apps-phase/stdout.gz to j-JU6TGVTKCC9Y/node/i-02ff8b34babf37087/provision-node/apps-phase/stdout.gz\n",
      "download: s3://aws-logs-846273844940-us-east-1/elasticmapreduce/j-JU6TGVTKCC9Y/node/i-02ff8b34babf37087/daemons/instance-state/instance-state.log-2018-02-18-23-00.gz to j-JU6TGVTKCC9Y/node/i-02ff8b34babf37087/daemons/instance-state/instance-state.log-2018-02-18-23-00.gz\n",
      "download: s3://aws-logs-846273844940-us-east-1/elasticmapreduce/j-JU6TGVTKCC9Y/node/i-02ff8b34babf37087/setup-devices/setup_tmp_dir.log.gz to j-JU6TGVTKCC9Y/node/i-02ff8b34babf37087/setup-devices/setup_tmp_dir.log.gz\n",
      "download: s3://aws-logs-846273844940-us-east-1/elasticmapreduce/j-JU6TGVTKCC9Y/node/i-02ff8b34babf37087/setup-devices/setup_drives.log.gz to j-JU6TGVTKCC9Y/node/i-02ff8b34babf37087/setup-devices/setup_drives.log.gz\n"
     ]
    },
    {
     "name": "stdout",
     "output_type": "stream",
     "text": [
      "download: s3://aws-logs-846273844940-us-east-1/elasticmapreduce/j-JU6TGVTKCC9Y/node/i-02ff8b34babf37087/setup-devices/setup_var_cache_dir.log.gz to j-JU6TGVTKCC9Y/node/i-02ff8b34babf37087/setup-devices/setup_var_cache_dir.log.gz\n",
      "download: s3://aws-logs-846273844940-us-east-1/elasticmapreduce/j-JU6TGVTKCC9Y/node/i-02ff8b34babf37087/provision-node/4cf0eee3-ccc9-4c3e-9ee4-ff437eca76b8/stdout.gz to j-JU6TGVTKCC9Y/node/i-02ff8b34babf37087/provision-node/4cf0eee3-ccc9-4c3e-9ee4-ff437eca76b8/stdout.gz\n",
      "download: s3://aws-logs-846273844940-us-east-1/elasticmapreduce/j-JU6TGVTKCC9Y/node/i-02ff8b34babf37087/setup-devices/setup_var_lib_dir.log.gz to j-JU6TGVTKCC9Y/node/i-02ff8b34babf37087/setup-devices/setup_var_lib_dir.log.gz\n",
      "download: s3://aws-logs-846273844940-us-east-1/elasticmapreduce/j-JU6TGVTKCC9Y/node/i-02ff8b34babf37087/setup-devices/setup_var_log_dir.log.gz to j-JU6TGVTKCC9Y/node/i-02ff8b34babf37087/setup-devices/setup_var_log_dir.log.gz\n",
      "download: s3://aws-logs-846273844940-us-east-1/elasticmapreduce/j-JU6TGVTKCC9Y/node/i-0371fc8754bf345c5/applications/hadoop-hdfs/hadoop-hdfs-datanode-ip-10-129-239-143.out.gz to j-JU6TGVTKCC9Y/node/i-0371fc8754bf345c5/applications/hadoop-hdfs/hadoop-hdfs-datanode-ip-10-129-239-143.out.gz\n",
      "download: s3://aws-logs-846273844940-us-east-1/elasticmapreduce/j-JU6TGVTKCC9Y/node/i-0371fc8754bf345c5/bootstrap-actions/2/controller.gz to j-JU6TGVTKCC9Y/node/i-0371fc8754bf345c5/bootstrap-actions/2/controller.gz\n",
      "download: s3://aws-logs-846273844940-us-east-1/elasticmapreduce/j-JU6TGVTKCC9Y/node/i-0371fc8754bf345c5/bootstrap-actions/1/controller.gz to j-JU6TGVTKCC9Y/node/i-0371fc8754bf345c5/bootstrap-actions/1/controller.gz\n",
      "download: s3://aws-logs-846273844940-us-east-1/elasticmapreduce/j-JU6TGVTKCC9Y/node/i-0371fc8754bf345c5/applications/hadoop-hdfs/hadoop-hdfs-datanode-ip-10-129-239-143.log.gz to j-JU6TGVTKCC9Y/node/i-0371fc8754bf345c5/applications/hadoop-hdfs/hadoop-hdfs-datanode-ip-10-129-239-143.log.gz\n",
      "download: s3://aws-logs-846273844940-us-east-1/elasticmapreduce/j-JU6TGVTKCC9Y/node/i-0371fc8754bf345c5/applications/hadoop-yarn/yarn-yarn-nodemanager-ip-10-129-239-143.out.gz to j-JU6TGVTKCC9Y/node/i-0371fc8754bf345c5/applications/hadoop-yarn/yarn-yarn-nodemanager-ip-10-129-239-143.out.gz\n",
      "download: s3://aws-logs-846273844940-us-east-1/elasticmapreduce/j-JU6TGVTKCC9Y/node/i-0371fc8754bf345c5/daemons/instance-state/instance-state.log-2018-02-18-22-00.gz to j-JU6TGVTKCC9Y/node/i-0371fc8754bf345c5/daemons/instance-state/instance-state.log-2018-02-18-22-00.gz\n",
      "download: s3://aws-logs-846273844940-us-east-1/elasticmapreduce/j-JU6TGVTKCC9Y/node/i-0371fc8754bf345c5/applications/hadoop-yarn/yarn-yarn-nodemanager-ip-10-129-239-143.log.gz to j-JU6TGVTKCC9Y/node/i-0371fc8754bf345c5/applications/hadoop-yarn/yarn-yarn-nodemanager-ip-10-129-239-143.log.gz\n",
      "download: s3://aws-logs-846273844940-us-east-1/elasticmapreduce/j-JU6TGVTKCC9Y/node/i-02ff8b34babf37087/setup-devices/setup_var_tmp_dir.log.gz to j-JU6TGVTKCC9Y/node/i-02ff8b34babf37087/setup-devices/setup_var_tmp_dir.log.gz\n",
      "download: s3://aws-logs-846273844940-us-east-1/elasticmapreduce/j-JU6TGVTKCC9Y/node/i-0371fc8754bf345c5/daemons/instance-state/instance-state.log-2018-02-18-21-45.gz to j-JU6TGVTKCC9Y/node/i-0371fc8754bf345c5/daemons/instance-state/instance-state.log-2018-02-18-21-45.gz\n",
      "download: s3://aws-logs-846273844940-us-east-1/elasticmapreduce/j-JU6TGVTKCC9Y/node/i-0371fc8754bf345c5/daemons/instance-state/instance-state.log-2018-02-18-22-15.gz to j-JU6TGVTKCC9Y/node/i-0371fc8754bf345c5/daemons/instance-state/instance-state.log-2018-02-18-22-15.gz\n",
      "download: s3://aws-logs-846273844940-us-east-1/elasticmapreduce/j-JU6TGVTKCC9Y/node/i-0371fc8754bf345c5/provision-node/apps-phase/stdout.gz to j-JU6TGVTKCC9Y/node/i-0371fc8754bf345c5/provision-node/apps-phase/stdout.gz\n",
      "download: s3://aws-logs-846273844940-us-east-1/elasticmapreduce/j-JU6TGVTKCC9Y/node/i-0371fc8754bf345c5/provision-node/apps-phase/stderr.gz to j-JU6TGVTKCC9Y/node/i-0371fc8754bf345c5/provision-node/apps-phase/stderr.gz\n",
      "download: s3://aws-logs-846273844940-us-east-1/elasticmapreduce/j-JU6TGVTKCC9Y/node/i-0371fc8754bf345c5/daemons/instance-state/instance-state.log-2018-02-18-22-30.gz to j-JU6TGVTKCC9Y/node/i-0371fc8754bf345c5/daemons/instance-state/instance-state.log-2018-02-18-22-30.gz\n",
      "download: s3://aws-logs-846273844940-us-east-1/elasticmapreduce/j-JU6TGVTKCC9Y/node/i-0371fc8754bf345c5/daemons/instance-state/instance-state.log-2018-02-18-22-45.gz to j-JU6TGVTKCC9Y/node/i-0371fc8754bf345c5/daemons/instance-state/instance-state.log-2018-02-18-22-45.gz\n",
      "download: s3://aws-logs-846273844940-us-east-1/elasticmapreduce/j-JU6TGVTKCC9Y/node/i-0371fc8754bf345c5/provision-node/c44978d9-4536-45ab-87f6-ef93fb6111e2/controller.gz to j-JU6TGVTKCC9Y/node/i-0371fc8754bf345c5/provision-node/c44978d9-4536-45ab-87f6-ef93fb6111e2/controller.gz\n",
      "download: s3://aws-logs-846273844940-us-east-1/elasticmapreduce/j-JU6TGVTKCC9Y/node/i-0371fc8754bf345c5/daemons/instance-state/instance-state.log-2018-02-18-23-30.gz to j-JU6TGVTKCC9Y/node/i-0371fc8754bf345c5/daemons/instance-state/instance-state.log-2018-02-18-23-30.gz\n",
      "download: s3://aws-logs-846273844940-us-east-1/elasticmapreduce/j-JU6TGVTKCC9Y/node/i-0371fc8754bf345c5/daemons/instance-state/instance-state.log-2018-02-18-23-00.gz to j-JU6TGVTKCC9Y/node/i-0371fc8754bf345c5/daemons/instance-state/instance-state.log-2018-02-18-23-00.gz\n",
      "download: s3://aws-logs-846273844940-us-east-1/elasticmapreduce/j-JU6TGVTKCC9Y/node/i-0371fc8754bf345c5/daemons/instance-state/instance-state.log-2018-02-18-23-15.gz to j-JU6TGVTKCC9Y/node/i-0371fc8754bf345c5/daemons/instance-state/instance-state.log-2018-02-18-23-15.gz\n",
      "download: s3://aws-logs-846273844940-us-east-1/elasticmapreduce/j-JU6TGVTKCC9Y/node/i-0371fc8754bf345c5/provision-node/c44978d9-4536-45ab-87f6-ef93fb6111e2/stdout.gz to j-JU6TGVTKCC9Y/node/i-0371fc8754bf345c5/provision-node/c44978d9-4536-45ab-87f6-ef93fb6111e2/stdout.gz\n",
      "download: s3://aws-logs-846273844940-us-east-1/elasticmapreduce/j-JU6TGVTKCC9Y/node/i-0371fc8754bf345c5/setup-devices/setup_emr_metrics.log.gz to j-JU6TGVTKCC9Y/node/i-0371fc8754bf345c5/setup-devices/setup_emr_metrics.log.gz\n",
      "download: s3://aws-logs-846273844940-us-east-1/elasticmapreduce/j-JU6TGVTKCC9Y/node/i-0371fc8754bf345c5/setup-devices/DiskEncryptor.log.gz to j-JU6TGVTKCC9Y/node/i-0371fc8754bf345c5/setup-devices/DiskEncryptor.log.gz\n",
      "download: s3://aws-logs-846273844940-us-east-1/elasticmapreduce/j-JU6TGVTKCC9Y/node/i-0371fc8754bf345c5/setup-devices/setup_tmp_dir.log.gz to j-JU6TGVTKCC9Y/node/i-0371fc8754bf345c5/setup-devices/setup_tmp_dir.log.gz\n",
      "download: s3://aws-logs-846273844940-us-east-1/elasticmapreduce/j-JU6TGVTKCC9Y/node/i-0371fc8754bf345c5/setup-devices/setup_var_tmp_dir.log.gz to j-JU6TGVTKCC9Y/node/i-0371fc8754bf345c5/setup-devices/setup_var_tmp_dir.log.gz\n",
      "download: s3://aws-logs-846273844940-us-east-1/elasticmapreduce/j-JU6TGVTKCC9Y/node/i-0371fc8754bf345c5/setup-devices/setup_var_cache_dir.log.gz to j-JU6TGVTKCC9Y/node/i-0371fc8754bf345c5/setup-devices/setup_var_cache_dir.log.gz\n",
      "download: s3://aws-logs-846273844940-us-east-1/elasticmapreduce/j-JU6TGVTKCC9Y/node/i-0371fc8754bf345c5/setup-devices/setup_var_lib_dir.log.gz to j-JU6TGVTKCC9Y/node/i-0371fc8754bf345c5/setup-devices/setup_var_lib_dir.log.gz\n",
      "download: s3://aws-logs-846273844940-us-east-1/elasticmapreduce/j-JU6TGVTKCC9Y/node/i-046f6a88e76cd30e0/applications/hadoop-hdfs/hadoop-hdfs-datanode-ip-10-129-248-190.log.gz to j-JU6TGVTKCC9Y/node/i-046f6a88e76cd30e0/applications/hadoop-hdfs/hadoop-hdfs-datanode-ip-10-129-248-190.log.gz\n",
      "download: s3://aws-logs-846273844940-us-east-1/elasticmapreduce/j-JU6TGVTKCC9Y/node/i-046f6a88e76cd30e0/applications/hadoop-hdfs/hadoop-hdfs-datanode-ip-10-129-248-190.out.gz to j-JU6TGVTKCC9Y/node/i-046f6a88e76cd30e0/applications/hadoop-hdfs/hadoop-hdfs-datanode-ip-10-129-248-190.out.gz\n",
      "download: s3://aws-logs-846273844940-us-east-1/elasticmapreduce/j-JU6TGVTKCC9Y/node/i-046f6a88e76cd30e0/applications/hadoop-yarn/yarn-yarn-nodemanager-ip-10-129-248-190.log.gz to j-JU6TGVTKCC9Y/node/i-046f6a88e76cd30e0/applications/hadoop-yarn/yarn-yarn-nodemanager-ip-10-129-248-190.log.gz\n",
      "download: s3://aws-logs-846273844940-us-east-1/elasticmapreduce/j-JU6TGVTKCC9Y/node/i-046f6a88e76cd30e0/applications/hadoop-yarn/yarn-yarn-nodemanager-ip-10-129-248-190.out.gz to j-JU6TGVTKCC9Y/node/i-046f6a88e76cd30e0/applications/hadoop-yarn/yarn-yarn-nodemanager-ip-10-129-248-190.out.gz\n",
      "download: s3://aws-logs-846273844940-us-east-1/elasticmapreduce/j-JU6TGVTKCC9Y/node/i-046f6a88e76cd30e0/bootstrap-actions/2/controller.gz to j-JU6TGVTKCC9Y/node/i-046f6a88e76cd30e0/bootstrap-actions/2/controller.gz\n",
      "download: s3://aws-logs-846273844940-us-east-1/elasticmapreduce/j-JU6TGVTKCC9Y/node/i-0371fc8754bf345c5/setup-devices/setup_var_log_dir.log.gz to j-JU6TGVTKCC9Y/node/i-0371fc8754bf345c5/setup-devices/setup_var_log_dir.log.gz\n",
      "download: s3://aws-logs-846273844940-us-east-1/elasticmapreduce/j-JU6TGVTKCC9Y/node/i-0371fc8754bf345c5/setup-devices/setup_drives.log.gz to j-JU6TGVTKCC9Y/node/i-0371fc8754bf345c5/setup-devices/setup_drives.log.gz\n"
     ]
    },
    {
     "name": "stdout",
     "output_type": "stream",
     "text": [
      "download: s3://aws-logs-846273844940-us-east-1/elasticmapreduce/j-JU6TGVTKCC9Y/node/i-0371fc8754bf345c5/provision-node/c44978d9-4536-45ab-87f6-ef93fb6111e2/stderr.gz to j-JU6TGVTKCC9Y/node/i-0371fc8754bf345c5/provision-node/c44978d9-4536-45ab-87f6-ef93fb6111e2/stderr.gz\n",
      "download: s3://aws-logs-846273844940-us-east-1/elasticmapreduce/j-JU6TGVTKCC9Y/node/i-046f6a88e76cd30e0/bootstrap-actions/1/controller.gz to j-JU6TGVTKCC9Y/node/i-046f6a88e76cd30e0/bootstrap-actions/1/controller.gz\n",
      "download: s3://aws-logs-846273844940-us-east-1/elasticmapreduce/j-JU6TGVTKCC9Y/node/i-046f6a88e76cd30e0/daemons/instance-state/instance-state.log-2018-02-18-22-15.gz to j-JU6TGVTKCC9Y/node/i-046f6a88e76cd30e0/daemons/instance-state/instance-state.log-2018-02-18-22-15.gz\n",
      "download: s3://aws-logs-846273844940-us-east-1/elasticmapreduce/j-JU6TGVTKCC9Y/node/i-046f6a88e76cd30e0/daemons/instance-state/instance-state.log-2018-02-18-23-00.gz to j-JU6TGVTKCC9Y/node/i-046f6a88e76cd30e0/daemons/instance-state/instance-state.log-2018-02-18-23-00.gz\n",
      "download: s3://aws-logs-846273844940-us-east-1/elasticmapreduce/j-JU6TGVTKCC9Y/node/i-046f6a88e76cd30e0/provision-node/8636811c-81e2-4ccb-a06d-d8853407d50e/controller.gz to j-JU6TGVTKCC9Y/node/i-046f6a88e76cd30e0/provision-node/8636811c-81e2-4ccb-a06d-d8853407d50e/controller.gz\n",
      "download: s3://aws-logs-846273844940-us-east-1/elasticmapreduce/j-JU6TGVTKCC9Y/node/i-046f6a88e76cd30e0/provision-node/8636811c-81e2-4ccb-a06d-d8853407d50e/stderr.gz to j-JU6TGVTKCC9Y/node/i-046f6a88e76cd30e0/provision-node/8636811c-81e2-4ccb-a06d-d8853407d50e/stderr.gz\n",
      "download: s3://aws-logs-846273844940-us-east-1/elasticmapreduce/j-JU6TGVTKCC9Y/node/i-046f6a88e76cd30e0/daemons/instance-state/instance-state.log-2018-02-18-21-45.gz to j-JU6TGVTKCC9Y/node/i-046f6a88e76cd30e0/daemons/instance-state/instance-state.log-2018-02-18-21-45.gz\n",
      "download: s3://aws-logs-846273844940-us-east-1/elasticmapreduce/j-JU6TGVTKCC9Y/node/i-046f6a88e76cd30e0/daemons/instance-state/instance-state.log-2018-02-18-22-30.gz to j-JU6TGVTKCC9Y/node/i-046f6a88e76cd30e0/daemons/instance-state/instance-state.log-2018-02-18-22-30.gz\n",
      "download: s3://aws-logs-846273844940-us-east-1/elasticmapreduce/j-JU6TGVTKCC9Y/node/i-046f6a88e76cd30e0/daemons/instance-state/instance-state.log-2018-02-18-22-00.gz to j-JU6TGVTKCC9Y/node/i-046f6a88e76cd30e0/daemons/instance-state/instance-state.log-2018-02-18-22-00.gz\n",
      "download: s3://aws-logs-846273844940-us-east-1/elasticmapreduce/j-JU6TGVTKCC9Y/node/i-046f6a88e76cd30e0/daemons/instance-state/instance-state.log-2018-02-18-23-30.gz to j-JU6TGVTKCC9Y/node/i-046f6a88e76cd30e0/daemons/instance-state/instance-state.log-2018-02-18-23-30.gz\n",
      "download: s3://aws-logs-846273844940-us-east-1/elasticmapreduce/j-JU6TGVTKCC9Y/node/i-046f6a88e76cd30e0/daemons/instance-state/instance-state.log-2018-02-18-22-45.gz to j-JU6TGVTKCC9Y/node/i-046f6a88e76cd30e0/daemons/instance-state/instance-state.log-2018-02-18-22-45.gz\n",
      "download: s3://aws-logs-846273844940-us-east-1/elasticmapreduce/j-JU6TGVTKCC9Y/node/i-046f6a88e76cd30e0/daemons/instance-state/instance-state.log-2018-02-18-23-15.gz to j-JU6TGVTKCC9Y/node/i-046f6a88e76cd30e0/daemons/instance-state/instance-state.log-2018-02-18-23-15.gz\n",
      "download: s3://aws-logs-846273844940-us-east-1/elasticmapreduce/j-JU6TGVTKCC9Y/node/i-046f6a88e76cd30e0/provision-node/apps-phase/stderr.gz to j-JU6TGVTKCC9Y/node/i-046f6a88e76cd30e0/provision-node/apps-phase/stderr.gz\n",
      "download: s3://aws-logs-846273844940-us-east-1/elasticmapreduce/j-JU6TGVTKCC9Y/node/i-046f6a88e76cd30e0/provision-node/8636811c-81e2-4ccb-a06d-d8853407d50e/stdout.gz to j-JU6TGVTKCC9Y/node/i-046f6a88e76cd30e0/provision-node/8636811c-81e2-4ccb-a06d-d8853407d50e/stdout.gz\n",
      "download: s3://aws-logs-846273844940-us-east-1/elasticmapreduce/j-JU6TGVTKCC9Y/node/i-046f6a88e76cd30e0/setup-devices/setup_emr_metrics.log.gz to j-JU6TGVTKCC9Y/node/i-046f6a88e76cd30e0/setup-devices/setup_emr_metrics.log.gz\n",
      "download: s3://aws-logs-846273844940-us-east-1/elasticmapreduce/j-JU6TGVTKCC9Y/node/i-046f6a88e76cd30e0/setup-devices/DiskEncryptor.log.gz to j-JU6TGVTKCC9Y/node/i-046f6a88e76cd30e0/setup-devices/DiskEncryptor.log.gz\n",
      "download: s3://aws-logs-846273844940-us-east-1/elasticmapreduce/j-JU6TGVTKCC9Y/node/i-046f6a88e76cd30e0/setup-devices/setup_drives.log.gz to j-JU6TGVTKCC9Y/node/i-046f6a88e76cd30e0/setup-devices/setup_drives.log.gz\n",
      "download: s3://aws-logs-846273844940-us-east-1/elasticmapreduce/j-JU6TGVTKCC9Y/node/i-046f6a88e76cd30e0/setup-devices/setup_tmp_dir.log.gz to j-JU6TGVTKCC9Y/node/i-046f6a88e76cd30e0/setup-devices/setup_tmp_dir.log.gz\n",
      "download: s3://aws-logs-846273844940-us-east-1/elasticmapreduce/j-JU6TGVTKCC9Y/node/i-046f6a88e76cd30e0/setup-devices/setup_var_lib_dir.log.gz to j-JU6TGVTKCC9Y/node/i-046f6a88e76cd30e0/setup-devices/setup_var_lib_dir.log.gz\n",
      "download: s3://aws-logs-846273844940-us-east-1/elasticmapreduce/j-JU6TGVTKCC9Y/node/i-046f6a88e76cd30e0/setup-devices/setup_var_log_dir.log.gz to j-JU6TGVTKCC9Y/node/i-046f6a88e76cd30e0/setup-devices/setup_var_log_dir.log.gz\n",
      "download: s3://aws-logs-846273844940-us-east-1/elasticmapreduce/j-JU6TGVTKCC9Y/node/i-046f6a88e76cd30e0/provision-node/apps-phase/stdout.gz to j-JU6TGVTKCC9Y/node/i-046f6a88e76cd30e0/provision-node/apps-phase/stdout.gz\n",
      "download: s3://aws-logs-846273844940-us-east-1/elasticmapreduce/j-JU6TGVTKCC9Y/node/i-046f6a88e76cd30e0/setup-devices/setup_var_cache_dir.log.gz to j-JU6TGVTKCC9Y/node/i-046f6a88e76cd30e0/setup-devices/setup_var_cache_dir.log.gz\n",
      "download: s3://aws-logs-846273844940-us-east-1/elasticmapreduce/j-JU6TGVTKCC9Y/node/i-046f6a88e76cd30e0/setup-devices/setup_var_tmp_dir.log.gz to j-JU6TGVTKCC9Y/node/i-046f6a88e76cd30e0/setup-devices/setup_var_tmp_dir.log.gz\n",
      "download: s3://aws-logs-846273844940-us-east-1/elasticmapreduce/j-JU6TGVTKCC9Y/node/i-06291bfec6ce584fd/applications/hadoop-hdfs/hadoop-hdfs-namenode-ip-10-129-253-102.log.2018-02-18-21.gz to j-JU6TGVTKCC9Y/node/i-06291bfec6ce584fd/applications/hadoop-hdfs/hadoop-hdfs-namenode-ip-10-129-253-102.log.2018-02-18-21.gz\n",
      "download: s3://aws-logs-846273844940-us-east-1/elasticmapreduce/j-JU6TGVTKCC9Y/node/i-06291bfec6ce584fd/applications/hadoop-httpfs/httpfs-catalina.2018-02-18.log.gz to j-JU6TGVTKCC9Y/node/i-06291bfec6ce584fd/applications/hadoop-httpfs/httpfs-catalina.2018-02-18.log.gz\n",
      "download: s3://aws-logs-846273844940-us-east-1/elasticmapreduce/j-JU6TGVTKCC9Y/node/i-06291bfec6ce584fd/applications/hadoop-hdfs/hadoop-hdfs-namenode-ip-10-129-253-102.out.gz to j-JU6TGVTKCC9Y/node/i-06291bfec6ce584fd/applications/hadoop-hdfs/hadoop-hdfs-namenode-ip-10-129-253-102.out.gz\n",
      "download: s3://aws-logs-846273844940-us-east-1/elasticmapreduce/j-JU6TGVTKCC9Y/node/i-06291bfec6ce584fd/applications/hadoop-hdfs/hadoop-hdfs-namenode-ip-10-129-253-102.log.2018-02-18-22.gz to j-JU6TGVTKCC9Y/node/i-06291bfec6ce584fd/applications/hadoop-hdfs/hadoop-hdfs-namenode-ip-10-129-253-102.log.2018-02-18-22.gz\n",
      "download: s3://aws-logs-846273844940-us-east-1/elasticmapreduce/j-JU6TGVTKCC9Y/node/i-06291bfec6ce584fd/applications/hadoop-httpfs/httpfs-catalina.out.gz to j-JU6TGVTKCC9Y/node/i-06291bfec6ce584fd/applications/hadoop-httpfs/httpfs-catalina.out.gz\n",
      "download: s3://aws-logs-846273844940-us-east-1/elasticmapreduce/j-JU6TGVTKCC9Y/node/i-06291bfec6ce584fd/applications/hadoop-kms/kms.log.gz to j-JU6TGVTKCC9Y/node/i-06291bfec6ce584fd/applications/hadoop-kms/kms.log.gz\n",
      "download: s3://aws-logs-846273844940-us-east-1/elasticmapreduce/j-JU6TGVTKCC9Y/node/i-06291bfec6ce584fd/applications/hadoop-httpfs/httpfs.log.gz to j-JU6TGVTKCC9Y/node/i-06291bfec6ce584fd/applications/hadoop-httpfs/httpfs.log.gz\n",
      "download: s3://aws-logs-846273844940-us-east-1/elasticmapreduce/j-JU6TGVTKCC9Y/node/i-06291bfec6ce584fd/applications/hadoop-kms/kms-catalina.out.gz to j-JU6TGVTKCC9Y/node/i-06291bfec6ce584fd/applications/hadoop-kms/kms-catalina.out.gz\n",
      "download: s3://aws-logs-846273844940-us-east-1/elasticmapreduce/j-JU6TGVTKCC9Y/node/i-06291bfec6ce584fd/applications/hadoop-kms/kms-catalina.2018-02-18.log.gz to j-JU6TGVTKCC9Y/node/i-06291bfec6ce584fd/applications/hadoop-kms/kms-catalina.2018-02-18.log.gz\n",
      "download: s3://aws-logs-846273844940-us-east-1/elasticmapreduce/j-JU6TGVTKCC9Y/node/i-06291bfec6ce584fd/applications/hadoop-mapreduce/mapred-mapred-historyserver-ip-10-129-253-102.log.2018-02-18-21.gz to j-JU6TGVTKCC9Y/node/i-06291bfec6ce584fd/applications/hadoop-mapreduce/mapred-mapred-historyserver-ip-10-129-253-102.log.2018-02-18-21.gz\n"
     ]
    },
    {
     "name": "stdout",
     "output_type": "stream",
     "text": [
      "download: s3://aws-logs-846273844940-us-east-1/elasticmapreduce/j-JU6TGVTKCC9Y/node/i-06291bfec6ce584fd/applications/hadoop-mapreduce/mapred-mapred-historyserver-ip-10-129-253-102.log.2018-02-18-22.gz to j-JU6TGVTKCC9Y/node/i-06291bfec6ce584fd/applications/hadoop-mapreduce/mapred-mapred-historyserver-ip-10-129-253-102.log.2018-02-18-22.gz\n",
      "download: s3://aws-logs-846273844940-us-east-1/elasticmapreduce/j-JU6TGVTKCC9Y/node/i-06291bfec6ce584fd/applications/hadoop-mapreduce/mapred-mapred-historyserver-ip-10-129-253-102.out.gz to j-JU6TGVTKCC9Y/node/i-06291bfec6ce584fd/applications/hadoop-mapreduce/mapred-mapred-historyserver-ip-10-129-253-102.out.gz\n",
      "download: s3://aws-logs-846273844940-us-east-1/elasticmapreduce/j-JU6TGVTKCC9Y/node/i-06291bfec6ce584fd/applications/hadoop-yarn/yarn-yarn-proxyserver-ip-10-129-253-102.out.gz to j-JU6TGVTKCC9Y/node/i-06291bfec6ce584fd/applications/hadoop-yarn/yarn-yarn-proxyserver-ip-10-129-253-102.out.gz\n",
      "download: s3://aws-logs-846273844940-us-east-1/elasticmapreduce/j-JU6TGVTKCC9Y/node/i-06291bfec6ce584fd/applications/hadoop-yarn/yarn-yarn-proxyserver-ip-10-129-253-102.log.gz to j-JU6TGVTKCC9Y/node/i-06291bfec6ce584fd/applications/hadoop-yarn/yarn-yarn-proxyserver-ip-10-129-253-102.log.gz\n",
      "download: s3://aws-logs-846273844940-us-east-1/elasticmapreduce/j-JU6TGVTKCC9Y/node/i-06291bfec6ce584fd/applications/hadoop-yarn/yarn-yarn-resourcemanager-ip-10-129-253-102.out.gz to j-JU6TGVTKCC9Y/node/i-06291bfec6ce584fd/applications/hadoop-yarn/yarn-yarn-resourcemanager-ip-10-129-253-102.out.gz\n",
      "download: s3://aws-logs-846273844940-us-east-1/elasticmapreduce/j-JU6TGVTKCC9Y/node/i-06291bfec6ce584fd/applications/hadoop-yarn/yarn-yarn-timelineserver-ip-10-129-253-102.log.2018-02-18-21.gz to j-JU6TGVTKCC9Y/node/i-06291bfec6ce584fd/applications/hadoop-yarn/yarn-yarn-timelineserver-ip-10-129-253-102.log.2018-02-18-21.gz\n",
      "download: s3://aws-logs-846273844940-us-east-1/elasticmapreduce/j-JU6TGVTKCC9Y/node/i-06291bfec6ce584fd/applications/hadoop-yarn/yarn-yarn-timelineserver-ip-10-129-253-102.out.gz to j-JU6TGVTKCC9Y/node/i-06291bfec6ce584fd/applications/hadoop-yarn/yarn-yarn-timelineserver-ip-10-129-253-102.out.gz\n",
      "download: s3://aws-logs-846273844940-us-east-1/elasticmapreduce/j-JU6TGVTKCC9Y/node/i-06291bfec6ce584fd/applications/hadoop-yarn/yarn-yarn-timelineserver-ip-10-129-253-102.log.2018-02-18-22.gz to j-JU6TGVTKCC9Y/node/i-06291bfec6ce584fd/applications/hadoop-yarn/yarn-yarn-timelineserver-ip-10-129-253-102.log.2018-02-18-22.gz\n",
      "download: s3://aws-logs-846273844940-us-east-1/elasticmapreduce/j-JU6TGVTKCC9Y/node/i-06291bfec6ce584fd/applications/hadoop-yarn/yarn-yarn-resourcemanager-ip-10-129-253-102.log.gz to j-JU6TGVTKCC9Y/node/i-06291bfec6ce584fd/applications/hadoop-yarn/yarn-yarn-resourcemanager-ip-10-129-253-102.log.gz\n",
      "download: s3://aws-logs-846273844940-us-east-1/elasticmapreduce/j-JU6TGVTKCC9Y/node/i-06291bfec6ce584fd/applications/livy/livy-livy-server.out.gz to j-JU6TGVTKCC9Y/node/i-06291bfec6ce584fd/applications/livy/livy-livy-server.out.gz\n",
      "download: s3://aws-logs-846273844940-us-east-1/elasticmapreduce/j-JU6TGVTKCC9Y/node/i-06291bfec6ce584fd/bootstrap-actions/1/controller.gz to j-JU6TGVTKCC9Y/node/i-06291bfec6ce584fd/bootstrap-actions/1/controller.gz\n",
      "download: s3://aws-logs-846273844940-us-east-1/elasticmapreduce/j-JU6TGVTKCC9Y/node/i-06291bfec6ce584fd/bootstrap-actions/2/stderr.gz to j-JU6TGVTKCC9Y/node/i-06291bfec6ce584fd/bootstrap-actions/2/stderr.gz\n",
      "download: s3://aws-logs-846273844940-us-east-1/elasticmapreduce/j-JU6TGVTKCC9Y/node/i-06291bfec6ce584fd/bootstrap-actions/2/stdout.gz to j-JU6TGVTKCC9Y/node/i-06291bfec6ce584fd/bootstrap-actions/2/stdout.gz\n",
      "download: s3://aws-logs-846273844940-us-east-1/elasticmapreduce/j-JU6TGVTKCC9Y/node/i-06291bfec6ce584fd/bootstrap-actions/2/controller.gz to j-JU6TGVTKCC9Y/node/i-06291bfec6ce584fd/bootstrap-actions/2/controller.gz\n",
      "download: s3://aws-logs-846273844940-us-east-1/elasticmapreduce/j-JU6TGVTKCC9Y/node/i-06291bfec6ce584fd/applications/spark/spark-history-server.out.gz to j-JU6TGVTKCC9Y/node/i-06291bfec6ce584fd/applications/spark/spark-history-server.out.gz\n",
      "download: s3://aws-logs-846273844940-us-east-1/elasticmapreduce/j-JU6TGVTKCC9Y/node/i-06291bfec6ce584fd/bootstrap-actions/master.log.gz to j-JU6TGVTKCC9Y/node/i-06291bfec6ce584fd/bootstrap-actions/master.log.gz\n",
      "download: s3://aws-logs-846273844940-us-east-1/elasticmapreduce/j-JU6TGVTKCC9Y/node/i-06291bfec6ce584fd/bootstrap-actions/1/stderr.gz to j-JU6TGVTKCC9Y/node/i-06291bfec6ce584fd/bootstrap-actions/1/stderr.gz\n",
      "download: s3://aws-logs-846273844940-us-east-1/elasticmapreduce/j-JU6TGVTKCC9Y/node/i-06291bfec6ce584fd/provision-node/91c1cafe-51e2-4cac-8501-aaee3efda198/controller.gz to j-JU6TGVTKCC9Y/node/i-06291bfec6ce584fd/provision-node/91c1cafe-51e2-4cac-8501-aaee3efda198/controller.gz\n",
      "download: s3://aws-logs-846273844940-us-east-1/elasticmapreduce/j-JU6TGVTKCC9Y/node/i-06291bfec6ce584fd/daemons/instance-state/instance-state.log-2018-02-18-21-45.gz to j-JU6TGVTKCC9Y/node/i-06291bfec6ce584fd/daemons/instance-state/instance-state.log-2018-02-18-21-45.gz\n",
      "download: s3://aws-logs-846273844940-us-east-1/elasticmapreduce/j-JU6TGVTKCC9Y/node/i-06291bfec6ce584fd/daemons/instance-state/instance-state.log-2018-02-18-22-00.gz to j-JU6TGVTKCC9Y/node/i-06291bfec6ce584fd/daemons/instance-state/instance-state.log-2018-02-18-22-00.gz\n",
      "download: s3://aws-logs-846273844940-us-east-1/elasticmapreduce/j-JU6TGVTKCC9Y/node/i-06291bfec6ce584fd/daemons/instance-state/instance-state.log-2018-02-18-22-15.gz to j-JU6TGVTKCC9Y/node/i-06291bfec6ce584fd/daemons/instance-state/instance-state.log-2018-02-18-22-15.gz\n",
      "download: s3://aws-logs-846273844940-us-east-1/elasticmapreduce/j-JU6TGVTKCC9Y/node/i-06291bfec6ce584fd/daemons/instance-state/instance-state.log-2018-02-18-22-30.gz to j-JU6TGVTKCC9Y/node/i-06291bfec6ce584fd/daemons/instance-state/instance-state.log-2018-02-18-22-30.gz\n",
      "download: s3://aws-logs-846273844940-us-east-1/elasticmapreduce/j-JU6TGVTKCC9Y/node/i-06291bfec6ce584fd/daemons/instance-state/instance-state.log-2018-02-18-22-45.gz to j-JU6TGVTKCC9Y/node/i-06291bfec6ce584fd/daemons/instance-state/instance-state.log-2018-02-18-22-45.gz\n",
      "download: s3://aws-logs-846273844940-us-east-1/elasticmapreduce/j-JU6TGVTKCC9Y/node/i-06291bfec6ce584fd/daemons/instance-state/instance-state.log-2018-02-18-23-00.gz to j-JU6TGVTKCC9Y/node/i-06291bfec6ce584fd/daemons/instance-state/instance-state.log-2018-02-18-23-00.gz\n",
      "download: s3://aws-logs-846273844940-us-east-1/elasticmapreduce/j-JU6TGVTKCC9Y/node/i-06291bfec6ce584fd/bootstrap-actions/1/stdout.gz to j-JU6TGVTKCC9Y/node/i-06291bfec6ce584fd/bootstrap-actions/1/stdout.gz\n",
      "download: s3://aws-logs-846273844940-us-east-1/elasticmapreduce/j-JU6TGVTKCC9Y/node/i-06291bfec6ce584fd/provision-node/91c1cafe-51e2-4cac-8501-aaee3efda198/stderr.gz to j-JU6TGVTKCC9Y/node/i-06291bfec6ce584fd/provision-node/91c1cafe-51e2-4cac-8501-aaee3efda198/stderr.gz\n",
      "download: s3://aws-logs-846273844940-us-east-1/elasticmapreduce/j-JU6TGVTKCC9Y/node/i-06291bfec6ce584fd/provision-node/91c1cafe-51e2-4cac-8501-aaee3efda198/stdout.gz to j-JU6TGVTKCC9Y/node/i-06291bfec6ce584fd/provision-node/91c1cafe-51e2-4cac-8501-aaee3efda198/stdout.gz\n",
      "download: s3://aws-logs-846273844940-us-east-1/elasticmapreduce/j-JU6TGVTKCC9Y/node/i-06291bfec6ce584fd/provision-node/apps-phase/stderr.gz to j-JU6TGVTKCC9Y/node/i-06291bfec6ce584fd/provision-node/apps-phase/stderr.gz\n",
      "download: s3://aws-logs-846273844940-us-east-1/elasticmapreduce/j-JU6TGVTKCC9Y/node/i-06291bfec6ce584fd/daemons/instance-state/instance-state.log-2018-02-18-23-30.gz to j-JU6TGVTKCC9Y/node/i-06291bfec6ce584fd/daemons/instance-state/instance-state.log-2018-02-18-23-30.gz\n",
      "download: s3://aws-logs-846273844940-us-east-1/elasticmapreduce/j-JU6TGVTKCC9Y/node/i-06291bfec6ce584fd/provision-node/apps-phase/stdout.gz to j-JU6TGVTKCC9Y/node/i-06291bfec6ce584fd/provision-node/apps-phase/stdout.gz\n",
      "download: s3://aws-logs-846273844940-us-east-1/elasticmapreduce/j-JU6TGVTKCC9Y/node/i-06291bfec6ce584fd/daemons/instance-state/instance-state.log-2018-02-18-23-15.gz to j-JU6TGVTKCC9Y/node/i-06291bfec6ce584fd/daemons/instance-state/instance-state.log-2018-02-18-23-15.gz\n",
      "download: s3://aws-logs-846273844940-us-east-1/elasticmapreduce/j-JU6TGVTKCC9Y/node/i-06291bfec6ce584fd/setup-devices/setup_drives.log.gz to j-JU6TGVTKCC9Y/node/i-06291bfec6ce584fd/setup-devices/setup_drives.log.gz\n",
      "download: s3://aws-logs-846273844940-us-east-1/elasticmapreduce/j-JU6TGVTKCC9Y/node/i-06291bfec6ce584fd/setup-devices/DiskEncryptor.log.gz to j-JU6TGVTKCC9Y/node/i-06291bfec6ce584fd/setup-devices/DiskEncryptor.log.gz\n",
      "download: s3://aws-logs-846273844940-us-east-1/elasticmapreduce/j-JU6TGVTKCC9Y/node/i-06291bfec6ce584fd/setup-devices/setup_emr_metrics.log.gz to j-JU6TGVTKCC9Y/node/i-06291bfec6ce584fd/setup-devices/setup_emr_metrics.log.gz\n"
     ]
    },
    {
     "name": "stdout",
     "output_type": "stream",
     "text": [
      "download: s3://aws-logs-846273844940-us-east-1/elasticmapreduce/j-JU6TGVTKCC9Y/node/i-06291bfec6ce584fd/setup-devices/setup_tmp_dir.log.gz to j-JU6TGVTKCC9Y/node/i-06291bfec6ce584fd/setup-devices/setup_tmp_dir.log.gz\n",
      "download: s3://aws-logs-846273844940-us-east-1/elasticmapreduce/j-JU6TGVTKCC9Y/node/i-06291bfec6ce584fd/setup-devices/setup_var_cache_dir.log.gz to j-JU6TGVTKCC9Y/node/i-06291bfec6ce584fd/setup-devices/setup_var_cache_dir.log.gz\n",
      "download: s3://aws-logs-846273844940-us-east-1/elasticmapreduce/j-JU6TGVTKCC9Y/node/i-06291bfec6ce584fd/setup-devices/setup_var_log_dir.log.gz to j-JU6TGVTKCC9Y/node/i-06291bfec6ce584fd/setup-devices/setup_var_log_dir.log.gz\n",
      "download: s3://aws-logs-846273844940-us-east-1/elasticmapreduce/j-JU6TGVTKCC9Y/node/i-06291bfec6ce584fd/setup-devices/setup_var_lib_dir.log.gz to j-JU6TGVTKCC9Y/node/i-06291bfec6ce584fd/setup-devices/setup_var_lib_dir.log.gz\n",
      "download: s3://aws-logs-846273844940-us-east-1/elasticmapreduce/j-JU6TGVTKCC9Y/node/i-07f2897a3ec61bb3d/applications/hadoop-hdfs/hadoop-hdfs-datanode-ip-10-129-250-58.log.gz to j-JU6TGVTKCC9Y/node/i-07f2897a3ec61bb3d/applications/hadoop-hdfs/hadoop-hdfs-datanode-ip-10-129-250-58.log.gz\n",
      "download: s3://aws-logs-846273844940-us-east-1/elasticmapreduce/j-JU6TGVTKCC9Y/node/i-06291bfec6ce584fd/setup-devices/setup_var_tmp_dir.log.gz to j-JU6TGVTKCC9Y/node/i-06291bfec6ce584fd/setup-devices/setup_var_tmp_dir.log.gz\n",
      "download: s3://aws-logs-846273844940-us-east-1/elasticmapreduce/j-JU6TGVTKCC9Y/node/i-07f2897a3ec61bb3d/applications/hadoop-hdfs/hadoop-hdfs-datanode-ip-10-129-250-58.out.gz to j-JU6TGVTKCC9Y/node/i-07f2897a3ec61bb3d/applications/hadoop-hdfs/hadoop-hdfs-datanode-ip-10-129-250-58.out.gz\n",
      "download: s3://aws-logs-846273844940-us-east-1/elasticmapreduce/j-JU6TGVTKCC9Y/node/i-07f2897a3ec61bb3d/applications/hadoop-yarn/yarn-yarn-nodemanager-ip-10-129-250-58.log.gz to j-JU6TGVTKCC9Y/node/i-07f2897a3ec61bb3d/applications/hadoop-yarn/yarn-yarn-nodemanager-ip-10-129-250-58.log.gz\n",
      "download: s3://aws-logs-846273844940-us-east-1/elasticmapreduce/j-JU6TGVTKCC9Y/node/i-07f2897a3ec61bb3d/applications/hadoop-yarn/yarn-yarn-nodemanager-ip-10-129-250-58.out.gz to j-JU6TGVTKCC9Y/node/i-07f2897a3ec61bb3d/applications/hadoop-yarn/yarn-yarn-nodemanager-ip-10-129-250-58.out.gz\n",
      "download: s3://aws-logs-846273844940-us-east-1/elasticmapreduce/j-JU6TGVTKCC9Y/node/i-07f2897a3ec61bb3d/bootstrap-actions/1/controller.gz to j-JU6TGVTKCC9Y/node/i-07f2897a3ec61bb3d/bootstrap-actions/1/controller.gz\n",
      "download: s3://aws-logs-846273844940-us-east-1/elasticmapreduce/j-JU6TGVTKCC9Y/node/i-07f2897a3ec61bb3d/bootstrap-actions/2/controller.gz to j-JU6TGVTKCC9Y/node/i-07f2897a3ec61bb3d/bootstrap-actions/2/controller.gz\n",
      "download: s3://aws-logs-846273844940-us-east-1/elasticmapreduce/j-JU6TGVTKCC9Y/node/i-07f2897a3ec61bb3d/daemons/instance-state/instance-state.log-2018-02-18-21-45.gz to j-JU6TGVTKCC9Y/node/i-07f2897a3ec61bb3d/daemons/instance-state/instance-state.log-2018-02-18-21-45.gz\n",
      "download: s3://aws-logs-846273844940-us-east-1/elasticmapreduce/j-JU6TGVTKCC9Y/node/i-07f2897a3ec61bb3d/daemons/instance-state/instance-state.log-2018-02-18-22-00.gz to j-JU6TGVTKCC9Y/node/i-07f2897a3ec61bb3d/daemons/instance-state/instance-state.log-2018-02-18-22-00.gz\n",
      "download: s3://aws-logs-846273844940-us-east-1/elasticmapreduce/j-JU6TGVTKCC9Y/node/i-07f2897a3ec61bb3d/daemons/instance-state/instance-state.log-2018-02-18-22-15.gz to j-JU6TGVTKCC9Y/node/i-07f2897a3ec61bb3d/daemons/instance-state/instance-state.log-2018-02-18-22-15.gz\n",
      "download: s3://aws-logs-846273844940-us-east-1/elasticmapreduce/j-JU6TGVTKCC9Y/node/i-07f2897a3ec61bb3d/daemons/instance-state/instance-state.log-2018-02-18-23-00.gz to j-JU6TGVTKCC9Y/node/i-07f2897a3ec61bb3d/daemons/instance-state/instance-state.log-2018-02-18-23-00.gz\n",
      "download: s3://aws-logs-846273844940-us-east-1/elasticmapreduce/j-JU6TGVTKCC9Y/node/i-07f2897a3ec61bb3d/daemons/instance-state/instance-state.log-2018-02-18-22-45.gz to j-JU6TGVTKCC9Y/node/i-07f2897a3ec61bb3d/daemons/instance-state/instance-state.log-2018-02-18-22-45.gz\n",
      "download: s3://aws-logs-846273844940-us-east-1/elasticmapreduce/j-JU6TGVTKCC9Y/node/i-07f2897a3ec61bb3d/daemons/instance-state/instance-state.log-2018-02-18-23-15.gz to j-JU6TGVTKCC9Y/node/i-07f2897a3ec61bb3d/daemons/instance-state/instance-state.log-2018-02-18-23-15.gz\n",
      "download: s3://aws-logs-846273844940-us-east-1/elasticmapreduce/j-JU6TGVTKCC9Y/node/i-07f2897a3ec61bb3d/daemons/instance-state/instance-state.log-2018-02-18-23-30.gz to j-JU6TGVTKCC9Y/node/i-07f2897a3ec61bb3d/daemons/instance-state/instance-state.log-2018-02-18-23-30.gz\n",
      "download: s3://aws-logs-846273844940-us-east-1/elasticmapreduce/j-JU6TGVTKCC9Y/node/i-07f2897a3ec61bb3d/provision-node/12360673-fb17-4d0b-92a6-b626c4e1314c/controller.gz to j-JU6TGVTKCC9Y/node/i-07f2897a3ec61bb3d/provision-node/12360673-fb17-4d0b-92a6-b626c4e1314c/controller.gz\n",
      "download: s3://aws-logs-846273844940-us-east-1/elasticmapreduce/j-JU6TGVTKCC9Y/node/i-07f2897a3ec61bb3d/provision-node/12360673-fb17-4d0b-92a6-b626c4e1314c/stderr.gz to j-JU6TGVTKCC9Y/node/i-07f2897a3ec61bb3d/provision-node/12360673-fb17-4d0b-92a6-b626c4e1314c/stderr.gz\n",
      "download: s3://aws-logs-846273844940-us-east-1/elasticmapreduce/j-JU6TGVTKCC9Y/node/i-07f2897a3ec61bb3d/daemons/instance-state/instance-state.log-2018-02-18-22-30.gz to j-JU6TGVTKCC9Y/node/i-07f2897a3ec61bb3d/daemons/instance-state/instance-state.log-2018-02-18-22-30.gz\n",
      "download: s3://aws-logs-846273844940-us-east-1/elasticmapreduce/j-JU6TGVTKCC9Y/node/i-07f2897a3ec61bb3d/provision-node/12360673-fb17-4d0b-92a6-b626c4e1314c/stdout.gz to j-JU6TGVTKCC9Y/node/i-07f2897a3ec61bb3d/provision-node/12360673-fb17-4d0b-92a6-b626c4e1314c/stdout.gz\n",
      "download: s3://aws-logs-846273844940-us-east-1/elasticmapreduce/j-JU6TGVTKCC9Y/node/i-07f2897a3ec61bb3d/provision-node/apps-phase/stderr.gz to j-JU6TGVTKCC9Y/node/i-07f2897a3ec61bb3d/provision-node/apps-phase/stderr.gz\n",
      "download: s3://aws-logs-846273844940-us-east-1/elasticmapreduce/j-JU6TGVTKCC9Y/node/i-07f2897a3ec61bb3d/setup-devices/setup_drives.log.gz to j-JU6TGVTKCC9Y/node/i-07f2897a3ec61bb3d/setup-devices/setup_drives.log.gz\n",
      "download: s3://aws-logs-846273844940-us-east-1/elasticmapreduce/j-JU6TGVTKCC9Y/node/i-07f2897a3ec61bb3d/setup-devices/DiskEncryptor.log.gz to j-JU6TGVTKCC9Y/node/i-07f2897a3ec61bb3d/setup-devices/DiskEncryptor.log.gz\n",
      "download: s3://aws-logs-846273844940-us-east-1/elasticmapreduce/j-JU6TGVTKCC9Y/node/i-07f2897a3ec61bb3d/setup-devices/setup_emr_metrics.log.gz to j-JU6TGVTKCC9Y/node/i-07f2897a3ec61bb3d/setup-devices/setup_emr_metrics.log.gz\n",
      "download: s3://aws-logs-846273844940-us-east-1/elasticmapreduce/j-JU6TGVTKCC9Y/node/i-07f2897a3ec61bb3d/provision-node/apps-phase/stdout.gz to j-JU6TGVTKCC9Y/node/i-07f2897a3ec61bb3d/provision-node/apps-phase/stdout.gz\n",
      "download: s3://aws-logs-846273844940-us-east-1/elasticmapreduce/j-JU6TGVTKCC9Y/node/i-07f2897a3ec61bb3d/setup-devices/setup_tmp_dir.log.gz to j-JU6TGVTKCC9Y/node/i-07f2897a3ec61bb3d/setup-devices/setup_tmp_dir.log.gz\n",
      "download: s3://aws-logs-846273844940-us-east-1/elasticmapreduce/j-JU6TGVTKCC9Y/node/i-07f2897a3ec61bb3d/setup-devices/setup_var_cache_dir.log.gz to j-JU6TGVTKCC9Y/node/i-07f2897a3ec61bb3d/setup-devices/setup_var_cache_dir.log.gz\n",
      "download: s3://aws-logs-846273844940-us-east-1/elasticmapreduce/j-JU6TGVTKCC9Y/node/i-07f2897a3ec61bb3d/setup-devices/setup_var_log_dir.log.gz to j-JU6TGVTKCC9Y/node/i-07f2897a3ec61bb3d/setup-devices/setup_var_log_dir.log.gz\n",
      "download: s3://aws-logs-846273844940-us-east-1/elasticmapreduce/j-JU6TGVTKCC9Y/node/i-07f2897a3ec61bb3d/setup-devices/setup_var_tmp_dir.log.gz to j-JU6TGVTKCC9Y/node/i-07f2897a3ec61bb3d/setup-devices/setup_var_tmp_dir.log.gz\n",
      "download: s3://aws-logs-846273844940-us-east-1/elasticmapreduce/j-JU6TGVTKCC9Y/node/i-07f2897a3ec61bb3d/setup-devices/setup_var_lib_dir.log.gz to j-JU6TGVTKCC9Y/node/i-07f2897a3ec61bb3d/setup-devices/setup_var_lib_dir.log.gz\n",
      "download: s3://aws-logs-846273844940-us-east-1/elasticmapreduce/j-JU6TGVTKCC9Y/node/i-09ad5dff6a2e89c7a/applications/hadoop-hdfs/hadoop-hdfs-datanode-ip-10-129-251-153.log.gz to j-JU6TGVTKCC9Y/node/i-09ad5dff6a2e89c7a/applications/hadoop-hdfs/hadoop-hdfs-datanode-ip-10-129-251-153.log.gz\n",
      "download: s3://aws-logs-846273844940-us-east-1/elasticmapreduce/j-JU6TGVTKCC9Y/node/i-09ad5dff6a2e89c7a/applications/hadoop-yarn/yarn-yarn-nodemanager-ip-10-129-251-153.out.gz to j-JU6TGVTKCC9Y/node/i-09ad5dff6a2e89c7a/applications/hadoop-yarn/yarn-yarn-nodemanager-ip-10-129-251-153.out.gz\n",
      "download: s3://aws-logs-846273844940-us-east-1/elasticmapreduce/j-JU6TGVTKCC9Y/node/i-09ad5dff6a2e89c7a/applications/hadoop-hdfs/hadoop-hdfs-datanode-ip-10-129-251-153.out.gz to j-JU6TGVTKCC9Y/node/i-09ad5dff6a2e89c7a/applications/hadoop-hdfs/hadoop-hdfs-datanode-ip-10-129-251-153.out.gz\n"
     ]
    },
    {
     "name": "stdout",
     "output_type": "stream",
     "text": [
      "download: s3://aws-logs-846273844940-us-east-1/elasticmapreduce/j-JU6TGVTKCC9Y/node/i-09ad5dff6a2e89c7a/bootstrap-actions/2/controller.gz to j-JU6TGVTKCC9Y/node/i-09ad5dff6a2e89c7a/bootstrap-actions/2/controller.gz\n",
      "download: s3://aws-logs-846273844940-us-east-1/elasticmapreduce/j-JU6TGVTKCC9Y/node/i-09ad5dff6a2e89c7a/bootstrap-actions/1/controller.gz to j-JU6TGVTKCC9Y/node/i-09ad5dff6a2e89c7a/bootstrap-actions/1/controller.gz\n",
      "download: s3://aws-logs-846273844940-us-east-1/elasticmapreduce/j-JU6TGVTKCC9Y/node/i-09ad5dff6a2e89c7a/daemons/instance-state/instance-state.log-2018-02-18-21-45.gz to j-JU6TGVTKCC9Y/node/i-09ad5dff6a2e89c7a/daemons/instance-state/instance-state.log-2018-02-18-21-45.gz\n",
      "download: s3://aws-logs-846273844940-us-east-1/elasticmapreduce/j-JU6TGVTKCC9Y/node/i-09ad5dff6a2e89c7a/applications/hadoop-yarn/yarn-yarn-nodemanager-ip-10-129-251-153.log.gz to j-JU6TGVTKCC9Y/node/i-09ad5dff6a2e89c7a/applications/hadoop-yarn/yarn-yarn-nodemanager-ip-10-129-251-153.log.gz\n",
      "download: s3://aws-logs-846273844940-us-east-1/elasticmapreduce/j-JU6TGVTKCC9Y/node/i-09ad5dff6a2e89c7a/daemons/instance-state/instance-state.log-2018-02-18-22-30.gz to j-JU6TGVTKCC9Y/node/i-09ad5dff6a2e89c7a/daemons/instance-state/instance-state.log-2018-02-18-22-30.gz\n",
      "download: s3://aws-logs-846273844940-us-east-1/elasticmapreduce/j-JU6TGVTKCC9Y/node/i-09ad5dff6a2e89c7a/daemons/instance-state/instance-state.log-2018-02-18-22-15.gz to j-JU6TGVTKCC9Y/node/i-09ad5dff6a2e89c7a/daemons/instance-state/instance-state.log-2018-02-18-22-15.gz\n",
      "download: s3://aws-logs-846273844940-us-east-1/elasticmapreduce/j-JU6TGVTKCC9Y/node/i-09ad5dff6a2e89c7a/daemons/instance-state/instance-state.log-2018-02-18-22-45.gz to j-JU6TGVTKCC9Y/node/i-09ad5dff6a2e89c7a/daemons/instance-state/instance-state.log-2018-02-18-22-45.gz\n",
      "download: s3://aws-logs-846273844940-us-east-1/elasticmapreduce/j-JU6TGVTKCC9Y/node/i-09ad5dff6a2e89c7a/daemons/instance-state/instance-state.log-2018-02-18-23-00.gz to j-JU6TGVTKCC9Y/node/i-09ad5dff6a2e89c7a/daemons/instance-state/instance-state.log-2018-02-18-23-00.gz\n",
      "download: s3://aws-logs-846273844940-us-east-1/elasticmapreduce/j-JU6TGVTKCC9Y/node/i-09ad5dff6a2e89c7a/daemons/instance-state/instance-state.log-2018-02-18-23-15.gz to j-JU6TGVTKCC9Y/node/i-09ad5dff6a2e89c7a/daemons/instance-state/instance-state.log-2018-02-18-23-15.gz\n",
      "download: s3://aws-logs-846273844940-us-east-1/elasticmapreduce/j-JU6TGVTKCC9Y/node/i-09ad5dff6a2e89c7a/provision-node/83de392a-81c5-4088-a1cb-db4751681006/stderr.gz to j-JU6TGVTKCC9Y/node/i-09ad5dff6a2e89c7a/provision-node/83de392a-81c5-4088-a1cb-db4751681006/stderr.gz\n",
      "download: s3://aws-logs-846273844940-us-east-1/elasticmapreduce/j-JU6TGVTKCC9Y/node/i-09ad5dff6a2e89c7a/provision-node/83de392a-81c5-4088-a1cb-db4751681006/controller.gz to j-JU6TGVTKCC9Y/node/i-09ad5dff6a2e89c7a/provision-node/83de392a-81c5-4088-a1cb-db4751681006/controller.gz\n",
      "download: s3://aws-logs-846273844940-us-east-1/elasticmapreduce/j-JU6TGVTKCC9Y/node/i-09ad5dff6a2e89c7a/daemons/instance-state/instance-state.log-2018-02-18-22-00.gz to j-JU6TGVTKCC9Y/node/i-09ad5dff6a2e89c7a/daemons/instance-state/instance-state.log-2018-02-18-22-00.gz\n",
      "download: s3://aws-logs-846273844940-us-east-1/elasticmapreduce/j-JU6TGVTKCC9Y/node/i-09ad5dff6a2e89c7a/daemons/instance-state/instance-state.log-2018-02-18-23-30.gz to j-JU6TGVTKCC9Y/node/i-09ad5dff6a2e89c7a/daemons/instance-state/instance-state.log-2018-02-18-23-30.gz\n",
      "download: s3://aws-logs-846273844940-us-east-1/elasticmapreduce/j-JU6TGVTKCC9Y/node/i-09ad5dff6a2e89c7a/provision-node/83de392a-81c5-4088-a1cb-db4751681006/stdout.gz to j-JU6TGVTKCC9Y/node/i-09ad5dff6a2e89c7a/provision-node/83de392a-81c5-4088-a1cb-db4751681006/stdout.gz\n",
      "download: s3://aws-logs-846273844940-us-east-1/elasticmapreduce/j-JU6TGVTKCC9Y/node/i-09ad5dff6a2e89c7a/provision-node/apps-phase/stderr.gz to j-JU6TGVTKCC9Y/node/i-09ad5dff6a2e89c7a/provision-node/apps-phase/stderr.gz\n",
      "download: s3://aws-logs-846273844940-us-east-1/elasticmapreduce/j-JU6TGVTKCC9Y/node/i-09ad5dff6a2e89c7a/provision-node/apps-phase/stdout.gz to j-JU6TGVTKCC9Y/node/i-09ad5dff6a2e89c7a/provision-node/apps-phase/stdout.gz\n",
      "download: s3://aws-logs-846273844940-us-east-1/elasticmapreduce/j-JU6TGVTKCC9Y/node/i-09ad5dff6a2e89c7a/setup-devices/DiskEncryptor.log.gz to j-JU6TGVTKCC9Y/node/i-09ad5dff6a2e89c7a/setup-devices/DiskEncryptor.log.gz\n",
      "download: s3://aws-logs-846273844940-us-east-1/elasticmapreduce/j-JU6TGVTKCC9Y/node/i-09ad5dff6a2e89c7a/setup-devices/setup_drives.log.gz to j-JU6TGVTKCC9Y/node/i-09ad5dff6a2e89c7a/setup-devices/setup_drives.log.gz\n",
      "download: s3://aws-logs-846273844940-us-east-1/elasticmapreduce/j-JU6TGVTKCC9Y/node/i-09ad5dff6a2e89c7a/setup-devices/setup_emr_metrics.log.gz to j-JU6TGVTKCC9Y/node/i-09ad5dff6a2e89c7a/setup-devices/setup_emr_metrics.log.gz\n",
      "download: s3://aws-logs-846273844940-us-east-1/elasticmapreduce/j-JU6TGVTKCC9Y/node/i-09ad5dff6a2e89c7a/setup-devices/setup_tmp_dir.log.gz to j-JU6TGVTKCC9Y/node/i-09ad5dff6a2e89c7a/setup-devices/setup_tmp_dir.log.gz\n",
      "download: s3://aws-logs-846273844940-us-east-1/elasticmapreduce/j-JU6TGVTKCC9Y/node/i-09ad5dff6a2e89c7a/setup-devices/setup_var_lib_dir.log.gz to j-JU6TGVTKCC9Y/node/i-09ad5dff6a2e89c7a/setup-devices/setup_var_lib_dir.log.gz\n",
      "download: s3://aws-logs-846273844940-us-east-1/elasticmapreduce/j-JU6TGVTKCC9Y/node/i-09ad5dff6a2e89c7a/setup-devices/setup_var_log_dir.log.gz to j-JU6TGVTKCC9Y/node/i-09ad5dff6a2e89c7a/setup-devices/setup_var_log_dir.log.gz\n",
      "download: s3://aws-logs-846273844940-us-east-1/elasticmapreduce/j-JU6TGVTKCC9Y/node/i-09ad5dff6a2e89c7a/setup-devices/setup_var_tmp_dir.log.gz to j-JU6TGVTKCC9Y/node/i-09ad5dff6a2e89c7a/setup-devices/setup_var_tmp_dir.log.gz\n",
      "download: s3://aws-logs-846273844940-us-east-1/elasticmapreduce/j-JU6TGVTKCC9Y/node/i-0a3d6028144030752/applications/hadoop-hdfs/hadoop-hdfs-datanode-ip-10-129-231-205.log.2018-02-18-21.gz to j-JU6TGVTKCC9Y/node/i-0a3d6028144030752/applications/hadoop-hdfs/hadoop-hdfs-datanode-ip-10-129-231-205.log.2018-02-18-21.gz\n",
      "download: s3://aws-logs-846273844940-us-east-1/elasticmapreduce/j-JU6TGVTKCC9Y/node/i-0a3d6028144030752/applications/hadoop-hdfs/hadoop-hdfs-datanode-ip-10-129-231-205.out.gz to j-JU6TGVTKCC9Y/node/i-0a3d6028144030752/applications/hadoop-hdfs/hadoop-hdfs-datanode-ip-10-129-231-205.out.gz\n",
      "download: s3://aws-logs-846273844940-us-east-1/elasticmapreduce/j-JU6TGVTKCC9Y/node/i-0a3d6028144030752/applications/hadoop-hdfs/hadoop-hdfs-datanode-ip-10-129-231-205.log.gz to j-JU6TGVTKCC9Y/node/i-0a3d6028144030752/applications/hadoop-hdfs/hadoop-hdfs-datanode-ip-10-129-231-205.log.gz\n",
      "download: s3://aws-logs-846273844940-us-east-1/elasticmapreduce/j-JU6TGVTKCC9Y/node/i-0a3d6028144030752/applications/hadoop-yarn/yarn-yarn-nodemanager-ip-10-129-231-205.log.gz to j-JU6TGVTKCC9Y/node/i-0a3d6028144030752/applications/hadoop-yarn/yarn-yarn-nodemanager-ip-10-129-231-205.log.gz\n",
      "download: s3://aws-logs-846273844940-us-east-1/elasticmapreduce/j-JU6TGVTKCC9Y/node/i-0a3d6028144030752/bootstrap-actions/1/controller.gz to j-JU6TGVTKCC9Y/node/i-0a3d6028144030752/bootstrap-actions/1/controller.gz\n",
      "download: s3://aws-logs-846273844940-us-east-1/elasticmapreduce/j-JU6TGVTKCC9Y/node/i-0a3d6028144030752/applications/hadoop-yarn/yarn-yarn-nodemanager-ip-10-129-231-205.out.gz to j-JU6TGVTKCC9Y/node/i-0a3d6028144030752/applications/hadoop-yarn/yarn-yarn-nodemanager-ip-10-129-231-205.out.gz\n",
      "download: s3://aws-logs-846273844940-us-east-1/elasticmapreduce/j-JU6TGVTKCC9Y/node/i-09ad5dff6a2e89c7a/setup-devices/setup_var_cache_dir.log.gz to j-JU6TGVTKCC9Y/node/i-09ad5dff6a2e89c7a/setup-devices/setup_var_cache_dir.log.gz\n",
      "download: s3://aws-logs-846273844940-us-east-1/elasticmapreduce/j-JU6TGVTKCC9Y/node/i-0a3d6028144030752/bootstrap-actions/2/controller.gz to j-JU6TGVTKCC9Y/node/i-0a3d6028144030752/bootstrap-actions/2/controller.gz\n",
      "download: s3://aws-logs-846273844940-us-east-1/elasticmapreduce/j-JU6TGVTKCC9Y/node/i-0a3d6028144030752/daemons/instance-state/instance-state.log-2018-02-18-22-00.gz to j-JU6TGVTKCC9Y/node/i-0a3d6028144030752/daemons/instance-state/instance-state.log-2018-02-18-22-00.gz\n",
      "download: s3://aws-logs-846273844940-us-east-1/elasticmapreduce/j-JU6TGVTKCC9Y/node/i-0a3d6028144030752/daemons/instance-state/instance-state.log-2018-02-18-22-15.gz to j-JU6TGVTKCC9Y/node/i-0a3d6028144030752/daemons/instance-state/instance-state.log-2018-02-18-22-15.gz\n",
      "download: s3://aws-logs-846273844940-us-east-1/elasticmapreduce/j-JU6TGVTKCC9Y/node/i-0a3d6028144030752/daemons/instance-state/instance-state.log-2018-02-18-23-00.gz to j-JU6TGVTKCC9Y/node/i-0a3d6028144030752/daemons/instance-state/instance-state.log-2018-02-18-23-00.gz\n"
     ]
    },
    {
     "name": "stdout",
     "output_type": "stream",
     "text": [
      "download: s3://aws-logs-846273844940-us-east-1/elasticmapreduce/j-JU6TGVTKCC9Y/node/i-0a3d6028144030752/daemons/instance-state/instance-state.log-2018-02-18-23-15.gz to j-JU6TGVTKCC9Y/node/i-0a3d6028144030752/daemons/instance-state/instance-state.log-2018-02-18-23-15.gz\n",
      "download: s3://aws-logs-846273844940-us-east-1/elasticmapreduce/j-JU6TGVTKCC9Y/node/i-0a3d6028144030752/daemons/instance-state/instance-state.log-2018-02-18-22-45.gz to j-JU6TGVTKCC9Y/node/i-0a3d6028144030752/daemons/instance-state/instance-state.log-2018-02-18-22-45.gz\n",
      "download: s3://aws-logs-846273844940-us-east-1/elasticmapreduce/j-JU6TGVTKCC9Y/node/i-0a3d6028144030752/daemons/instance-state/instance-state.log-2018-02-18-23-30.gz to j-JU6TGVTKCC9Y/node/i-0a3d6028144030752/daemons/instance-state/instance-state.log-2018-02-18-23-30.gz\n",
      "download: s3://aws-logs-846273844940-us-east-1/elasticmapreduce/j-JU6TGVTKCC9Y/node/i-0a3d6028144030752/provision-node/apps-phase/stderr.gz to j-JU6TGVTKCC9Y/node/i-0a3d6028144030752/provision-node/apps-phase/stderr.gz\n",
      "download: s3://aws-logs-846273844940-us-east-1/elasticmapreduce/j-JU6TGVTKCC9Y/node/i-0a3d6028144030752/provision-node/dda0cadf-a83b-484a-9c1d-fff765aa8f13/controller.gz to j-JU6TGVTKCC9Y/node/i-0a3d6028144030752/provision-node/dda0cadf-a83b-484a-9c1d-fff765aa8f13/controller.gz\n",
      "download: s3://aws-logs-846273844940-us-east-1/elasticmapreduce/j-JU6TGVTKCC9Y/node/i-0a3d6028144030752/provision-node/dda0cadf-a83b-484a-9c1d-fff765aa8f13/stderr.gz to j-JU6TGVTKCC9Y/node/i-0a3d6028144030752/provision-node/dda0cadf-a83b-484a-9c1d-fff765aa8f13/stderr.gz\n",
      "download: s3://aws-logs-846273844940-us-east-1/elasticmapreduce/j-JU6TGVTKCC9Y/node/i-0a3d6028144030752/provision-node/apps-phase/stdout.gz to j-JU6TGVTKCC9Y/node/i-0a3d6028144030752/provision-node/apps-phase/stdout.gz\n",
      "download: s3://aws-logs-846273844940-us-east-1/elasticmapreduce/j-JU6TGVTKCC9Y/node/i-0a3d6028144030752/daemons/instance-state/instance-state.log-2018-02-18-22-30.gz to j-JU6TGVTKCC9Y/node/i-0a3d6028144030752/daemons/instance-state/instance-state.log-2018-02-18-22-30.gz\n",
      "download: s3://aws-logs-846273844940-us-east-1/elasticmapreduce/j-JU6TGVTKCC9Y/node/i-0a3d6028144030752/daemons/instance-state/instance-state.log-2018-02-18-21-45.gz to j-JU6TGVTKCC9Y/node/i-0a3d6028144030752/daemons/instance-state/instance-state.log-2018-02-18-21-45.gz\n",
      "download: s3://aws-logs-846273844940-us-east-1/elasticmapreduce/j-JU6TGVTKCC9Y/node/i-0a3d6028144030752/setup-devices/setup_emr_metrics.log.gz to j-JU6TGVTKCC9Y/node/i-0a3d6028144030752/setup-devices/setup_emr_metrics.log.gz\n",
      "download: s3://aws-logs-846273844940-us-east-1/elasticmapreduce/j-JU6TGVTKCC9Y/node/i-0a3d6028144030752/setup-devices/setup_tmp_dir.log.gz to j-JU6TGVTKCC9Y/node/i-0a3d6028144030752/setup-devices/setup_tmp_dir.log.gz\n",
      "download: s3://aws-logs-846273844940-us-east-1/elasticmapreduce/j-JU6TGVTKCC9Y/node/i-0a3d6028144030752/setup-devices/setup_var_lib_dir.log.gz to j-JU6TGVTKCC9Y/node/i-0a3d6028144030752/setup-devices/setup_var_lib_dir.log.gz\n",
      "download: s3://aws-logs-846273844940-us-east-1/elasticmapreduce/j-JU6TGVTKCC9Y/node/i-0ddd3ad4127dfd0c4/applications/hadoop-hdfs/hadoop-hdfs-datanode-ip-10-129-225-133.log.gz to j-JU6TGVTKCC9Y/node/i-0ddd3ad4127dfd0c4/applications/hadoop-hdfs/hadoop-hdfs-datanode-ip-10-129-225-133.log.gz\n",
      "download: s3://aws-logs-846273844940-us-east-1/elasticmapreduce/j-JU6TGVTKCC9Y/node/i-0a3d6028144030752/setup-devices/setup_var_log_dir.log.gz to j-JU6TGVTKCC9Y/node/i-0a3d6028144030752/setup-devices/setup_var_log_dir.log.gz\n",
      "download: s3://aws-logs-846273844940-us-east-1/elasticmapreduce/j-JU6TGVTKCC9Y/node/i-0a3d6028144030752/setup-devices/DiskEncryptor.log.gz to j-JU6TGVTKCC9Y/node/i-0a3d6028144030752/setup-devices/DiskEncryptor.log.gz\n",
      "download: s3://aws-logs-846273844940-us-east-1/elasticmapreduce/j-JU6TGVTKCC9Y/node/i-0a3d6028144030752/setup-devices/setup_var_tmp_dir.log.gz to j-JU6TGVTKCC9Y/node/i-0a3d6028144030752/setup-devices/setup_var_tmp_dir.log.gz\n",
      "download: s3://aws-logs-846273844940-us-east-1/elasticmapreduce/j-JU6TGVTKCC9Y/node/i-0a3d6028144030752/setup-devices/setup_var_cache_dir.log.gz to j-JU6TGVTKCC9Y/node/i-0a3d6028144030752/setup-devices/setup_var_cache_dir.log.gz\n",
      "download: s3://aws-logs-846273844940-us-east-1/elasticmapreduce/j-JU6TGVTKCC9Y/node/i-0ddd3ad4127dfd0c4/applications/hadoop-hdfs/hadoop-hdfs-datanode-ip-10-129-225-133.out.gz to j-JU6TGVTKCC9Y/node/i-0ddd3ad4127dfd0c4/applications/hadoop-hdfs/hadoop-hdfs-datanode-ip-10-129-225-133.out.gz\n",
      "download: s3://aws-logs-846273844940-us-east-1/elasticmapreduce/j-JU6TGVTKCC9Y/node/i-0ddd3ad4127dfd0c4/applications/hadoop-yarn/yarn-yarn-nodemanager-ip-10-129-225-133.log.gz to j-JU6TGVTKCC9Y/node/i-0ddd3ad4127dfd0c4/applications/hadoop-yarn/yarn-yarn-nodemanager-ip-10-129-225-133.log.gz\n",
      "download: s3://aws-logs-846273844940-us-east-1/elasticmapreduce/j-JU6TGVTKCC9Y/node/i-0ddd3ad4127dfd0c4/applications/hadoop-yarn/yarn-yarn-nodemanager-ip-10-129-225-133.out.gz to j-JU6TGVTKCC9Y/node/i-0ddd3ad4127dfd0c4/applications/hadoop-yarn/yarn-yarn-nodemanager-ip-10-129-225-133.out.gz\n",
      "download: s3://aws-logs-846273844940-us-east-1/elasticmapreduce/j-JU6TGVTKCC9Y/node/i-0ddd3ad4127dfd0c4/bootstrap-actions/1/controller.gz to j-JU6TGVTKCC9Y/node/i-0ddd3ad4127dfd0c4/bootstrap-actions/1/controller.gz\n",
      "download: s3://aws-logs-846273844940-us-east-1/elasticmapreduce/j-JU6TGVTKCC9Y/node/i-0ddd3ad4127dfd0c4/bootstrap-actions/2/controller.gz to j-JU6TGVTKCC9Y/node/i-0ddd3ad4127dfd0c4/bootstrap-actions/2/controller.gz\n",
      "download: s3://aws-logs-846273844940-us-east-1/elasticmapreduce/j-JU6TGVTKCC9Y/node/i-0ddd3ad4127dfd0c4/daemons/instance-state/instance-state.log-2018-02-18-21-45.gz to j-JU6TGVTKCC9Y/node/i-0ddd3ad4127dfd0c4/daemons/instance-state/instance-state.log-2018-02-18-21-45.gz\n",
      "download: s3://aws-logs-846273844940-us-east-1/elasticmapreduce/j-JU6TGVTKCC9Y/node/i-0ddd3ad4127dfd0c4/daemons/instance-state/instance-state.log-2018-02-18-22-00.gz to j-JU6TGVTKCC9Y/node/i-0ddd3ad4127dfd0c4/daemons/instance-state/instance-state.log-2018-02-18-22-00.gz\n",
      "download: s3://aws-logs-846273844940-us-east-1/elasticmapreduce/j-JU6TGVTKCC9Y/node/i-0ddd3ad4127dfd0c4/daemons/instance-state/instance-state.log-2018-02-18-22-15.gz to j-JU6TGVTKCC9Y/node/i-0ddd3ad4127dfd0c4/daemons/instance-state/instance-state.log-2018-02-18-22-15.gz\n",
      "download: s3://aws-logs-846273844940-us-east-1/elasticmapreduce/j-JU6TGVTKCC9Y/node/i-0a3d6028144030752/provision-node/dda0cadf-a83b-484a-9c1d-fff765aa8f13/stdout.gz to j-JU6TGVTKCC9Y/node/i-0a3d6028144030752/provision-node/dda0cadf-a83b-484a-9c1d-fff765aa8f13/stdout.gz\n",
      "download: s3://aws-logs-846273844940-us-east-1/elasticmapreduce/j-JU6TGVTKCC9Y/node/i-0ddd3ad4127dfd0c4/daemons/instance-state/instance-state.log-2018-02-18-22-30.gz to j-JU6TGVTKCC9Y/node/i-0ddd3ad4127dfd0c4/daemons/instance-state/instance-state.log-2018-02-18-22-30.gz\n",
      "download: s3://aws-logs-846273844940-us-east-1/elasticmapreduce/j-JU6TGVTKCC9Y/node/i-0ddd3ad4127dfd0c4/daemons/instance-state/instance-state.log-2018-02-18-23-00.gz to j-JU6TGVTKCC9Y/node/i-0ddd3ad4127dfd0c4/daemons/instance-state/instance-state.log-2018-02-18-23-00.gz\n",
      "download: s3://aws-logs-846273844940-us-east-1/elasticmapreduce/j-JU6TGVTKCC9Y/node/i-0ddd3ad4127dfd0c4/daemons/instance-state/instance-state.log-2018-02-18-23-15.gz to j-JU6TGVTKCC9Y/node/i-0ddd3ad4127dfd0c4/daemons/instance-state/instance-state.log-2018-02-18-23-15.gz\n",
      "download: s3://aws-logs-846273844940-us-east-1/elasticmapreduce/j-JU6TGVTKCC9Y/node/i-0a3d6028144030752/setup-devices/setup_drives.log.gz to j-JU6TGVTKCC9Y/node/i-0a3d6028144030752/setup-devices/setup_drives.log.gz\n",
      "download: s3://aws-logs-846273844940-us-east-1/elasticmapreduce/j-JU6TGVTKCC9Y/node/i-0ddd3ad4127dfd0c4/provision-node/apps-phase/stderr.gz to j-JU6TGVTKCC9Y/node/i-0ddd3ad4127dfd0c4/provision-node/apps-phase/stderr.gz\n",
      "download: s3://aws-logs-846273844940-us-east-1/elasticmapreduce/j-JU6TGVTKCC9Y/node/i-0ddd3ad4127dfd0c4/provision-node/apps-phase/stdout.gz to j-JU6TGVTKCC9Y/node/i-0ddd3ad4127dfd0c4/provision-node/apps-phase/stdout.gz\n",
      "download: s3://aws-logs-846273844940-us-east-1/elasticmapreduce/j-JU6TGVTKCC9Y/node/i-0ddd3ad4127dfd0c4/provision-node/d28ca74a-a9be-44e1-8c57-fb48f287d28c/stderr.gz to j-JU6TGVTKCC9Y/node/i-0ddd3ad4127dfd0c4/provision-node/d28ca74a-a9be-44e1-8c57-fb48f287d28c/stderr.gz\n",
      "download: s3://aws-logs-846273844940-us-east-1/elasticmapreduce/j-JU6TGVTKCC9Y/node/i-0ddd3ad4127dfd0c4/provision-node/d28ca74a-a9be-44e1-8c57-fb48f287d28c/controller.gz to j-JU6TGVTKCC9Y/node/i-0ddd3ad4127dfd0c4/provision-node/d28ca74a-a9be-44e1-8c57-fb48f287d28c/controller.gz\n"
     ]
    },
    {
     "name": "stdout",
     "output_type": "stream",
     "text": [
      "download: s3://aws-logs-846273844940-us-east-1/elasticmapreduce/j-JU6TGVTKCC9Y/node/i-0ddd3ad4127dfd0c4/daemons/instance-state/instance-state.log-2018-02-18-22-45.gz to j-JU6TGVTKCC9Y/node/i-0ddd3ad4127dfd0c4/daemons/instance-state/instance-state.log-2018-02-18-22-45.gz\n",
      "download: s3://aws-logs-846273844940-us-east-1/elasticmapreduce/j-JU6TGVTKCC9Y/node/i-0ddd3ad4127dfd0c4/daemons/instance-state/instance-state.log-2018-02-18-23-30.gz to j-JU6TGVTKCC9Y/node/i-0ddd3ad4127dfd0c4/daemons/instance-state/instance-state.log-2018-02-18-23-30.gz\n",
      "download: s3://aws-logs-846273844940-us-east-1/elasticmapreduce/j-JU6TGVTKCC9Y/node/i-0ddd3ad4127dfd0c4/provision-node/d28ca74a-a9be-44e1-8c57-fb48f287d28c/stdout.gz to j-JU6TGVTKCC9Y/node/i-0ddd3ad4127dfd0c4/provision-node/d28ca74a-a9be-44e1-8c57-fb48f287d28c/stdout.gz\n",
      "download: s3://aws-logs-846273844940-us-east-1/elasticmapreduce/j-JU6TGVTKCC9Y/node/i-0ddd3ad4127dfd0c4/setup-devices/setup_drives.log.gz to j-JU6TGVTKCC9Y/node/i-0ddd3ad4127dfd0c4/setup-devices/setup_drives.log.gz\n",
      "download: s3://aws-logs-846273844940-us-east-1/elasticmapreduce/j-JU6TGVTKCC9Y/node/i-0ddd3ad4127dfd0c4/setup-devices/setup_tmp_dir.log.gz to j-JU6TGVTKCC9Y/node/i-0ddd3ad4127dfd0c4/setup-devices/setup_tmp_dir.log.gz\n",
      "download: s3://aws-logs-846273844940-us-east-1/elasticmapreduce/j-JU6TGVTKCC9Y/node/i-0ddd3ad4127dfd0c4/setup-devices/setup_emr_metrics.log.gz to j-JU6TGVTKCC9Y/node/i-0ddd3ad4127dfd0c4/setup-devices/setup_emr_metrics.log.gz\n",
      "download: s3://aws-logs-846273844940-us-east-1/elasticmapreduce/j-JU6TGVTKCC9Y/node/i-0ddd3ad4127dfd0c4/setup-devices/setup_var_log_dir.log.gz to j-JU6TGVTKCC9Y/node/i-0ddd3ad4127dfd0c4/setup-devices/setup_var_log_dir.log.gz\n",
      "download: s3://aws-logs-846273844940-us-east-1/elasticmapreduce/j-JU6TGVTKCC9Y/node/i-0ddd3ad4127dfd0c4/setup-devices/DiskEncryptor.log.gz to j-JU6TGVTKCC9Y/node/i-0ddd3ad4127dfd0c4/setup-devices/DiskEncryptor.log.gz\n",
      "download: s3://aws-logs-846273844940-us-east-1/elasticmapreduce/j-JU6TGVTKCC9Y/node/i-0ddd3ad4127dfd0c4/setup-devices/setup_var_lib_dir.log.gz to j-JU6TGVTKCC9Y/node/i-0ddd3ad4127dfd0c4/setup-devices/setup_var_lib_dir.log.gz\n",
      "download: s3://aws-logs-846273844940-us-east-1/elasticmapreduce/j-JU6TGVTKCC9Y/node/i-0ddd3ad4127dfd0c4/setup-devices/setup_var_tmp_dir.log.gz to j-JU6TGVTKCC9Y/node/i-0ddd3ad4127dfd0c4/setup-devices/setup_var_tmp_dir.log.gz\n",
      "download: s3://aws-logs-846273844940-us-east-1/elasticmapreduce/j-JU6TGVTKCC9Y/node/i-0ddd3ad4127dfd0c4/setup-devices/setup_var_cache_dir.log.gz to j-JU6TGVTKCC9Y/node/i-0ddd3ad4127dfd0c4/setup-devices/setup_var_cache_dir.log.gz\n"
     ]
    }
   ],
   "source": [
    "current='j-JU6TGVTKCC9Y'\n",
    "s3path='s3://'+logs_bucket+'/'+_dir+current+'/'\n",
    "print(s3path)\n",
    "%cd /tmp\n",
    "!aws s3 cp --recursive $s3path $current"
   ]
  },
  {
   "cell_type": "code",
   "execution_count": 106,
   "metadata": {},
   "outputs": [
    {
     "data": {
      "text/plain": [
       "'/private/tmp'"
      ]
     },
     "execution_count": 106,
     "metadata": {},
     "output_type": "execute_result"
    }
   ],
   "source": [
    "%pwd"
   ]
  },
  {
   "cell_type": "code",
   "execution_count": null,
   "metadata": {
    "collapsed": true
   },
   "outputs": [],
   "source": []
  }
 ],
 "metadata": {
  "kernelspec": {
   "display_name": "Python 3",
   "language": "python",
   "name": "python3"
  },
  "language_info": {
   "codemirror_mode": {
    "name": "ipython",
    "version": 3
   },
   "file_extension": ".py",
   "mimetype": "text/x-python",
   "name": "python",
   "nbconvert_exporter": "python",
   "pygments_lexer": "ipython3",
   "version": "3.6.3"
  }
 },
 "nbformat": 4,
 "nbformat_minor": 2
}
