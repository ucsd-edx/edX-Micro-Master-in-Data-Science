{
 "cells": [
  {
   "cell_type": "markdown",
   "metadata": {},
   "source": [
    "## General\n",
    "\n",
    "This notebook documents and provides scripts for managing a spark cluster.\n",
    "\n",
    "The cluster is started using the spark-notebook script created by Kevin Coakley which is based on a script create by Julaiti Alafat. The advantage of Coakley's script is that it uses AWS-EMR instead of directly managing ec2 instances. Clone Coakley's script using \n",
    "```sh\n",
    "git clone https://github.com/mas-dse/spark-notebook.git\n",
    "```\n",
    "\n",
    "Follow directions to initialize and start the web interface. The command you use to start the cluster spinner is \n",
    "```\n",
    "./run.py &\n",
    "```\n",
    "The first time you use the script you will need to enter your AWS credentials. Those will be kept in a yaml file for the next times."
   ]
  },
  {
   "cell_type": "markdown",
   "metadata": {},
   "source": [
    "## Bootstrap\n",
    "After the script starts the cluster, it executes a bootstrap script. The script is in the spark notebook directory in the file `provision/jupyter-provision-v0.4.sh`\n",
    "\n",
    "## Per-session bootstrap\n",
    "You can add an additional script that will be executed after the general bootstrap. This script will be executed on both the head node and the worker nodes. In order to restrict the execution to the head node surround your commands with the following if-then:\n",
    "```sh\n",
    "# check for master node\n",
    "if grep isMaster /mnt/var/lib/info/instance.json | grep true;\n",
    "then\n",
    "   #put here commands that are intended only for the head node\n",
    "fi\n",
    "```\n",
    "An example script is below:"
   ]
  },
  {
   "cell_type": "markdown",
   "metadata": {},
   "source": [
    "```sh\n",
    "# %load PrivateBootstrap.sh\n",
    "# check for master node\n",
    "if grep isMaster /mnt/var/lib/info/instance.json | grep true;\n",
    "then\n",
    "   cd /mnt/workspace/\n",
    "\n",
    "   date +%H.%M:%S:%N  #>> /mnt/workspace/PrivateBootstrap.log\n",
    "   echo “Start of bootsrap, set up git” #>> /mnt/workspace/PrivateBootstrap.log\n",
    "   git config --global user.email \"yoav.freund@gmail.com\"\n",
    "   git config --global user.name “Yoav Freund”\n",
    "   git config --global credential.helper cache\n",
    "   echo \"git clone https://github.com/ucsd-edx/edX-Micro-Master-in-Data-Science.git\" >clone.sh    # could not figure a way to clone withut user intervensin, \n",
    "   # so making the clone into a one line script that need to be executed manually.\n",
    "\n",
    "   date +%H.%M:%S:%N  #>> /mnt/workspace/PrivateBootstrap.log\n",
    "   echo “copy files from S3 to Local”  #>> /mnt/workspace/PrivateBootstrap.log\n",
    "   mkdir Data\n",
    "   cd Data\n",
    "   aws s3 cp --recursive s3://dse-weather/weather.parquet  ./weather.parquet\n",
    "\n",
    "   date +%H.%M:%S:%N  #>> /mnt/workspace/PrivateBootstrap.log\n",
    "   echo “copy files from Local to HDFS”  #>> /mnt/workspace/PrivateBootstrap.log\n",
    "   hadoop fs -mkdir /weather\n",
    "   hadoop fs -copyFromLocal weather.parquet /weather/weather.parquet\n",
    "\n",
    "   date +%H.%M:%S:%N  #>> /mnt/workspace/PrivateBootstrap.log\n",
    "   echo “Bootstrap done”  #>> /mnt/workspace/PrivateBootstrap.log\n",
    "fi\n",
    "```"
   ]
  },
  {
   "cell_type": "markdown",
   "metadata": {},
   "source": [
    "The cluster nodes will recieve the script from s3. You therefor need to copy the script into s3 before starting the cluster. You can use the AWS command line (which you need to install on your laptop) to copy a local script to an s3 bucket that is accessible using the credentials f the cluster:\n",
    "```sh\n",
    "aws s3 cp PrivateBootstrap.sh s3://dse-weather/PrivateBootstrap.sh\n",
    "```\n",
    "You then need to type the s3 location when you start the script under \"advanced options\""
   ]
  },
  {
   "cell_type": "markdown",
   "metadata": {},
   "source": [
    "## log files\n",
    "\n",
    "At the bottom of the spark-notebook page, before you start a cluster, there is a line of the form:\n",
    "```\n",
    "EMR Logs S3 Bucket [?] s3://aws-logs-846273844940-us-east-1\n",
    "```\n",
    "This line tells you the s3 bucket where the logs reside.\n",
    "\n",
    "It is not easy to find out which of the logs are related to your current cluster and which are left over from previous runs. I wrote some code here to help with that.\n",
    "\n",
    "First, we get a listing of all of the files in the bucket"
   ]
  },
  {
   "cell_type": "code",
   "execution_count": 23,
   "metadata": {
    "collapsed": true
   },
   "outputs": [],
   "source": [
    "logs_bucket=\"aws-logs-846273844940-us-east-1\"\n",
    "!aws s3 ls --recursive $logs_bucket/ > logOfLogs"
   ]
  },
  {
   "cell_type": "code",
   "execution_count": 24,
   "metadata": {},
   "outputs": [
    {
     "data": {
      "text/plain": [
       "18"
      ]
     },
     "execution_count": 24,
     "metadata": {},
     "output_type": "execute_result"
    }
   ],
   "source": [
    "# I now grep for today's date\n",
    "import datetime as dt\n",
    "now=dt.datetime.now()\n",
    "now.day\n",
    "#dt.datetime.strptime"
   ]
  },
  {
   "cell_type": "code",
   "execution_count": 25,
   "metadata": {},
   "outputs": [],
   "source": [
    "#!grep \"2018-02-19\" logOfLogs"
   ]
  },
  {
   "cell_type": "code",
   "execution_count": 26,
   "metadata": {},
   "outputs": [
    {
     "name": "stdout",
     "output_type": "stream",
     "text": [
      "A listing of today's logs\n",
      "\n",
      " session\t Started\t\t Ended \t\t\t No. of files\n",
      "j-1CRVRCKP9FR84\t2018-02-18 19:06:35\t2018-02-18 21:31:40\t 423\n",
      "j-1IIG6WD2TZPLR\t2018-02-18 12:45:52\t2018-02-18 13:26:31\t 269\n",
      "j-1VQQ62TIGBTRE\t2018-02-18 12:24:51\t2018-02-18 12:42:08\t 239\n",
      "j-2FINDADPAMW2G\t2018-02-18 16:54:10\t2018-02-18 17:20:30\t 266\n",
      "j-2FYNZE0A6FVV2\t2018-02-18 21:33:35\t2018-02-18 21:55:24\t 159\n",
      "j-2ZV5LAR33KCKC\t2018-02-18 10:59:54\t2018-02-18 11:02:25\t 62\n",
      "j-35P8X8EE5WLJU\t2018-02-18 18:38:06\t2018-02-18 19:00:39\t 299\n",
      "j-35XHQPIDSTWW\t2018-02-18 09:38:33\t2018-02-18 10:56:05\t 237\n",
      "j-3D1WM2IRZOHQO\t2018-02-18 17:25:50\t2018-02-18 18:33:39\t 250\n",
      "j-JU6TGVTKCC9Y\t2018-02-18 13:33:31\t2018-02-18 16:46:01\t 396\n",
      "_dir= elasticmapreduce/\n"
     ]
    }
   ],
   "source": [
    "i=0\n",
    "import re\n",
    "rp=r''\n",
    "pat=re.compile(r'(\\d+-\\d+-\\d+\\s+\\d+:\\d+:\\d+)\\s+(\\d+)\\s+([^/]+/)([^/]+)/(.*)')\n",
    "from collections import Counter\n",
    "C={}\n",
    "with open('logOfLogs','r') as logs:\n",
    "    for line in logs.readlines():\n",
    "        m=pat.search(line)\n",
    "        if m:\n",
    "            timestamp,size,_dir,prefix,file=m.groups()\n",
    "            #print(timestamp,size,prefix,file)\n",
    "\n",
    "            ts=dt.datetime.strptime(timestamp,'%Y-%m-%d %H:%M:%S')\n",
    "            if now.year==ts.year and now.month==ts.month and ts.day>=18:\n",
    "                if prefix in C:\n",
    "                    C[prefix].append(ts)\n",
    "                else:\n",
    "                    C[prefix]=[ts]\n",
    "            i+=1\n",
    "print(\"A listing of today's logs\\n\")\n",
    "print(\" session\\t Started\\t\\t Ended \\t\\t\\t No. of files\")\n",
    "for prefix in C.keys():\n",
    "    print('%s\\t%s\\t%s\\t %d'%(prefix,min(C[prefix]),max(C[prefix]),len(C[prefix])))\n",
    "\n",
    "## to do  : print logs in order of start time\n",
    "print(\"_dir=\",_dir)"
   ]
  },
  {
   "cell_type": "markdown",
   "metadata": {},
   "source": [
    "### download a specific session for inspection"
   ]
  },
  {
   "cell_type": "code",
   "execution_count": 27,
   "metadata": {
    "collapsed": true
   },
   "outputs": [
    {
     "name": "stdout",
     "output_type": "stream",
     "text": [
      "s3://aws-logs-846273844940-us-east-1/elasticmapreduce/j-2FYNZE0A6FVV2/\n",
      "/private/tmp\n",
      "download: s3://aws-logs-846273844940-us-east-1/elasticmapreduce/j-2FYNZE0A6FVV2/node/i-02303a709f33ec7de/applications/hadoop-hdfs/hadoop-hdfs-datanode-ip-10-129-230-83.log.gz to j-2FYNZE0A6FVV2/node/i-02303a709f33ec7de/applications/hadoop-hdfs/hadoop-hdfs-datanode-ip-10-129-230-83.log.gz\n",
      "download: s3://aws-logs-846273844940-us-east-1/elasticmapreduce/j-2FYNZE0A6FVV2/node/i-02303a709f33ec7de/applications/hadoop-hdfs/hadoop-hdfs-datanode-ip-10-129-230-83.out.gz to j-2FYNZE0A6FVV2/node/i-02303a709f33ec7de/applications/hadoop-hdfs/hadoop-hdfs-datanode-ip-10-129-230-83.out.gz\n",
      "download: s3://aws-logs-846273844940-us-east-1/elasticmapreduce/j-2FYNZE0A6FVV2/node/i-02303a709f33ec7de/applications/hadoop-yarn/yarn-yarn-nodemanager-ip-10-129-230-83.log.gz to j-2FYNZE0A6FVV2/node/i-02303a709f33ec7de/applications/hadoop-yarn/yarn-yarn-nodemanager-ip-10-129-230-83.log.gz\n",
      "download: s3://aws-logs-846273844940-us-east-1/elasticmapreduce/j-2FYNZE0A6FVV2/node/i-02303a709f33ec7de/provision-node/1cd60a35-57cb-4590-b13e-72f7f5a16823/controller.gz to j-2FYNZE0A6FVV2/node/i-02303a709f33ec7de/provision-node/1cd60a35-57cb-4590-b13e-72f7f5a16823/controller.gz\n",
      "download: s3://aws-logs-846273844940-us-east-1/elasticmapreduce/j-2FYNZE0A6FVV2/node/i-02303a709f33ec7de/bootstrap-actions/1/controller.gz to j-2FYNZE0A6FVV2/node/i-02303a709f33ec7de/bootstrap-actions/1/controller.gz\n",
      "download: s3://aws-logs-846273844940-us-east-1/elasticmapreduce/j-2FYNZE0A6FVV2/node/i-02303a709f33ec7de/applications/hadoop-yarn/yarn-yarn-nodemanager-ip-10-129-230-83.out.gz to j-2FYNZE0A6FVV2/node/i-02303a709f33ec7de/applications/hadoop-yarn/yarn-yarn-nodemanager-ip-10-129-230-83.out.gz\n",
      "download: s3://aws-logs-846273844940-us-east-1/elasticmapreduce/j-2FYNZE0A6FVV2/node/i-02303a709f33ec7de/provision-node/1cd60a35-57cb-4590-b13e-72f7f5a16823/stderr.gz to j-2FYNZE0A6FVV2/node/i-02303a709f33ec7de/provision-node/1cd60a35-57cb-4590-b13e-72f7f5a16823/stderr.gz\n",
      "download: s3://aws-logs-846273844940-us-east-1/elasticmapreduce/j-2FYNZE0A6FVV2/node/i-02303a709f33ec7de/provision-node/1cd60a35-57cb-4590-b13e-72f7f5a16823/stdout.gz to j-2FYNZE0A6FVV2/node/i-02303a709f33ec7de/provision-node/1cd60a35-57cb-4590-b13e-72f7f5a16823/stdout.gz\n",
      "download: s3://aws-logs-846273844940-us-east-1/elasticmapreduce/j-2FYNZE0A6FVV2/node/i-02303a709f33ec7de/setup-devices/setup_emr_metrics.log.gz to j-2FYNZE0A6FVV2/node/i-02303a709f33ec7de/setup-devices/setup_emr_metrics.log.gz\n",
      "download: s3://aws-logs-846273844940-us-east-1/elasticmapreduce/j-2FYNZE0A6FVV2/node/i-02303a709f33ec7de/provision-node/apps-phase/stderr.gz to j-2FYNZE0A6FVV2/node/i-02303a709f33ec7de/provision-node/apps-phase/stderr.gz\n",
      "download: s3://aws-logs-846273844940-us-east-1/elasticmapreduce/j-2FYNZE0A6FVV2/node/i-02303a709f33ec7de/bootstrap-actions/2/controller.gz to j-2FYNZE0A6FVV2/node/i-02303a709f33ec7de/bootstrap-actions/2/controller.gz\n",
      "download: s3://aws-logs-846273844940-us-east-1/elasticmapreduce/j-2FYNZE0A6FVV2/node/i-02303a709f33ec7de/setup-devices/DiskEncryptor.log.gz to j-2FYNZE0A6FVV2/node/i-02303a709f33ec7de/setup-devices/DiskEncryptor.log.gz\n",
      "download: s3://aws-logs-846273844940-us-east-1/elasticmapreduce/j-2FYNZE0A6FVV2/node/i-02303a709f33ec7de/setup-devices/setup_tmp_dir.log.gz to j-2FYNZE0A6FVV2/node/i-02303a709f33ec7de/setup-devices/setup_tmp_dir.log.gz\n",
      "download: s3://aws-logs-846273844940-us-east-1/elasticmapreduce/j-2FYNZE0A6FVV2/node/i-02303a709f33ec7de/setup-devices/setup_var_cache_dir.log.gz to j-2FYNZE0A6FVV2/node/i-02303a709f33ec7de/setup-devices/setup_var_cache_dir.log.gz\n",
      "download: s3://aws-logs-846273844940-us-east-1/elasticmapreduce/j-2FYNZE0A6FVV2/node/i-02303a709f33ec7de/setup-devices/setup_drives.log.gz to j-2FYNZE0A6FVV2/node/i-02303a709f33ec7de/setup-devices/setup_drives.log.gz\n",
      "download: s3://aws-logs-846273844940-us-east-1/elasticmapreduce/j-2FYNZE0A6FVV2/node/i-02303a709f33ec7de/setup-devices/setup_var_lib_dir.log.gz to j-2FYNZE0A6FVV2/node/i-02303a709f33ec7de/setup-devices/setup_var_lib_dir.log.gz\n",
      "download: s3://aws-logs-846273844940-us-east-1/elasticmapreduce/j-2FYNZE0A6FVV2/node/i-02303a709f33ec7de/daemons/instance-state/instance-state.log-2018-02-19-05-45.gz to j-2FYNZE0A6FVV2/node/i-02303a709f33ec7de/daemons/instance-state/instance-state.log-2018-02-19-05-45.gz\n",
      "download: s3://aws-logs-846273844940-us-east-1/elasticmapreduce/j-2FYNZE0A6FVV2/node/i-02303a709f33ec7de/provision-node/apps-phase/stdout.gz to j-2FYNZE0A6FVV2/node/i-02303a709f33ec7de/provision-node/apps-phase/stdout.gz\n",
      "download: s3://aws-logs-846273844940-us-east-1/elasticmapreduce/j-2FYNZE0A6FVV2/node/i-02303a709f33ec7de/setup-devices/setup_var_log_dir.log.gz to j-2FYNZE0A6FVV2/node/i-02303a709f33ec7de/setup-devices/setup_var_log_dir.log.gz\n",
      "download: s3://aws-logs-846273844940-us-east-1/elasticmapreduce/j-2FYNZE0A6FVV2/node/i-02303a709f33ec7de/setup-devices/setup_var_tmp_dir.log.gz to j-2FYNZE0A6FVV2/node/i-02303a709f33ec7de/setup-devices/setup_var_tmp_dir.log.gz\n",
      "download: s3://aws-logs-846273844940-us-east-1/elasticmapreduce/j-2FYNZE0A6FVV2/node/i-0392a269daed0e6bb/applications/hadoop-yarn/yarn-yarn-nodemanager-ip-10-129-245-92.log.gz to j-2FYNZE0A6FVV2/node/i-0392a269daed0e6bb/applications/hadoop-yarn/yarn-yarn-nodemanager-ip-10-129-245-92.log.gz\n",
      "download: s3://aws-logs-846273844940-us-east-1/elasticmapreduce/j-2FYNZE0A6FVV2/node/i-0392a269daed0e6bb/applications/hadoop-hdfs/hadoop-hdfs-datanode-ip-10-129-245-92.log.gz to j-2FYNZE0A6FVV2/node/i-0392a269daed0e6bb/applications/hadoop-hdfs/hadoop-hdfs-datanode-ip-10-129-245-92.log.gz\n",
      "download: s3://aws-logs-846273844940-us-east-1/elasticmapreduce/j-2FYNZE0A6FVV2/node/i-0392a269daed0e6bb/applications/hadoop-hdfs/hadoop-hdfs-datanode-ip-10-129-245-92.out.gz to j-2FYNZE0A6FVV2/node/i-0392a269daed0e6bb/applications/hadoop-hdfs/hadoop-hdfs-datanode-ip-10-129-245-92.out.gz\n",
      "download: s3://aws-logs-846273844940-us-east-1/elasticmapreduce/j-2FYNZE0A6FVV2/node/i-0392a269daed0e6bb/applications/hadoop-yarn/yarn-yarn-nodemanager-ip-10-129-245-92.out.gz to j-2FYNZE0A6FVV2/node/i-0392a269daed0e6bb/applications/hadoop-yarn/yarn-yarn-nodemanager-ip-10-129-245-92.out.gz\n",
      "download: s3://aws-logs-846273844940-us-east-1/elasticmapreduce/j-2FYNZE0A6FVV2/node/i-0392a269daed0e6bb/bootstrap-actions/1/controller.gz to j-2FYNZE0A6FVV2/node/i-0392a269daed0e6bb/bootstrap-actions/1/controller.gz\n",
      "download: s3://aws-logs-846273844940-us-east-1/elasticmapreduce/j-2FYNZE0A6FVV2/node/i-0392a269daed0e6bb/bootstrap-actions/2/controller.gz to j-2FYNZE0A6FVV2/node/i-0392a269daed0e6bb/bootstrap-actions/2/controller.gz\n",
      "download: s3://aws-logs-846273844940-us-east-1/elasticmapreduce/j-2FYNZE0A6FVV2/node/i-0392a269daed0e6bb/provision-node/84193f5c-e750-4e56-b0a3-af81fe20949c/controller.gz to j-2FYNZE0A6FVV2/node/i-0392a269daed0e6bb/provision-node/84193f5c-e750-4e56-b0a3-af81fe20949c/controller.gz\n",
      "download: s3://aws-logs-846273844940-us-east-1/elasticmapreduce/j-2FYNZE0A6FVV2/node/i-0392a269daed0e6bb/setup-devices/setup_drives.log.gz to j-2FYNZE0A6FVV2/node/i-0392a269daed0e6bb/setup-devices/setup_drives.log.gz\n",
      "download: s3://aws-logs-846273844940-us-east-1/elasticmapreduce/j-2FYNZE0A6FVV2/node/i-0392a269daed0e6bb/setup-devices/setup_emr_metrics.log.gz to j-2FYNZE0A6FVV2/node/i-0392a269daed0e6bb/setup-devices/setup_emr_metrics.log.gz\n",
      "download: s3://aws-logs-846273844940-us-east-1/elasticmapreduce/j-2FYNZE0A6FVV2/node/i-0392a269daed0e6bb/setup-devices/DiskEncryptor.log.gz to j-2FYNZE0A6FVV2/node/i-0392a269daed0e6bb/setup-devices/DiskEncryptor.log.gz\n",
      "download: s3://aws-logs-846273844940-us-east-1/elasticmapreduce/j-2FYNZE0A6FVV2/node/i-0392a269daed0e6bb/provision-node/84193f5c-e750-4e56-b0a3-af81fe20949c/stderr.gz to j-2FYNZE0A6FVV2/node/i-0392a269daed0e6bb/provision-node/84193f5c-e750-4e56-b0a3-af81fe20949c/stderr.gz\n",
      "download: s3://aws-logs-846273844940-us-east-1/elasticmapreduce/j-2FYNZE0A6FVV2/node/i-0392a269daed0e6bb/setup-devices/setup_tmp_dir.log.gz to j-2FYNZE0A6FVV2/node/i-0392a269daed0e6bb/setup-devices/setup_tmp_dir.log.gz\n",
      "download: s3://aws-logs-846273844940-us-east-1/elasticmapreduce/j-2FYNZE0A6FVV2/node/i-0392a269daed0e6bb/setup-devices/setup_var_cache_dir.log.gz to j-2FYNZE0A6FVV2/node/i-0392a269daed0e6bb/setup-devices/setup_var_cache_dir.log.gz\n",
      "download: s3://aws-logs-846273844940-us-east-1/elasticmapreduce/j-2FYNZE0A6FVV2/node/i-0392a269daed0e6bb/provision-node/apps-phase/stdout.gz to j-2FYNZE0A6FVV2/node/i-0392a269daed0e6bb/provision-node/apps-phase/stdout.gz\n"
     ]
    },
    {
     "name": "stdout",
     "output_type": "stream",
     "text": [
      "download: s3://aws-logs-846273844940-us-east-1/elasticmapreduce/j-2FYNZE0A6FVV2/node/i-0392a269daed0e6bb/provision-node/apps-phase/stderr.gz to j-2FYNZE0A6FVV2/node/i-0392a269daed0e6bb/provision-node/apps-phase/stderr.gz\n",
      "download: s3://aws-logs-846273844940-us-east-1/elasticmapreduce/j-2FYNZE0A6FVV2/node/i-0392a269daed0e6bb/setup-devices/setup_var_lib_dir.log.gz to j-2FYNZE0A6FVV2/node/i-0392a269daed0e6bb/setup-devices/setup_var_lib_dir.log.gz\n",
      "download: s3://aws-logs-846273844940-us-east-1/elasticmapreduce/j-2FYNZE0A6FVV2/node/i-04a87b895a47321e0/applications/hadoop-hdfs/hadoop-hdfs-namenode-ip-10-129-254-76.out.gz to j-2FYNZE0A6FVV2/node/i-04a87b895a47321e0/applications/hadoop-hdfs/hadoop-hdfs-namenode-ip-10-129-254-76.out.gz\n",
      "download: s3://aws-logs-846273844940-us-east-1/elasticmapreduce/j-2FYNZE0A6FVV2/node/i-0392a269daed0e6bb/daemons/instance-state/instance-state.log-2018-02-19-05-45.gz to j-2FYNZE0A6FVV2/node/i-0392a269daed0e6bb/daemons/instance-state/instance-state.log-2018-02-19-05-45.gz\n",
      "download: s3://aws-logs-846273844940-us-east-1/elasticmapreduce/j-2FYNZE0A6FVV2/node/i-0392a269daed0e6bb/provision-node/84193f5c-e750-4e56-b0a3-af81fe20949c/stdout.gz to j-2FYNZE0A6FVV2/node/i-0392a269daed0e6bb/provision-node/84193f5c-e750-4e56-b0a3-af81fe20949c/stdout.gz\n",
      "download: s3://aws-logs-846273844940-us-east-1/elasticmapreduce/j-2FYNZE0A6FVV2/node/i-0392a269daed0e6bb/setup-devices/setup_var_tmp_dir.log.gz to j-2FYNZE0A6FVV2/node/i-0392a269daed0e6bb/setup-devices/setup_var_tmp_dir.log.gz\n",
      "download: s3://aws-logs-846273844940-us-east-1/elasticmapreduce/j-2FYNZE0A6FVV2/node/i-04a87b895a47321e0/applications/hadoop-httpfs/httpfs-catalina.2018-02-19.log.gz to j-2FYNZE0A6FVV2/node/i-04a87b895a47321e0/applications/hadoop-httpfs/httpfs-catalina.2018-02-19.log.gz\n",
      "download: s3://aws-logs-846273844940-us-east-1/elasticmapreduce/j-2FYNZE0A6FVV2/node/i-0392a269daed0e6bb/setup-devices/setup_var_log_dir.log.gz to j-2FYNZE0A6FVV2/node/i-0392a269daed0e6bb/setup-devices/setup_var_log_dir.log.gz\n",
      "download: s3://aws-logs-846273844940-us-east-1/elasticmapreduce/j-2FYNZE0A6FVV2/node/i-04a87b895a47321e0/applications/hadoop-httpfs/httpfs-catalina.out.gz to j-2FYNZE0A6FVV2/node/i-04a87b895a47321e0/applications/hadoop-httpfs/httpfs-catalina.out.gz\n",
      "download: s3://aws-logs-846273844940-us-east-1/elasticmapreduce/j-2FYNZE0A6FVV2/node/i-04a87b895a47321e0/applications/hadoop-httpfs/httpfs.log.gz to j-2FYNZE0A6FVV2/node/i-04a87b895a47321e0/applications/hadoop-httpfs/httpfs.log.gz\n",
      "download: s3://aws-logs-846273844940-us-east-1/elasticmapreduce/j-2FYNZE0A6FVV2/node/i-04a87b895a47321e0/applications/hadoop-hdfs/hadoop-hdfs-namenode-ip-10-129-254-76.log.gz to j-2FYNZE0A6FVV2/node/i-04a87b895a47321e0/applications/hadoop-hdfs/hadoop-hdfs-namenode-ip-10-129-254-76.log.gz\n",
      "download: s3://aws-logs-846273844940-us-east-1/elasticmapreduce/j-2FYNZE0A6FVV2/node/i-04a87b895a47321e0/applications/hadoop-kms/kms-catalina.2018-02-19.log.gz to j-2FYNZE0A6FVV2/node/i-04a87b895a47321e0/applications/hadoop-kms/kms-catalina.2018-02-19.log.gz\n",
      "download: s3://aws-logs-846273844940-us-east-1/elasticmapreduce/j-2FYNZE0A6FVV2/node/i-04a87b895a47321e0/applications/hadoop-kms/kms.log.gz to j-2FYNZE0A6FVV2/node/i-04a87b895a47321e0/applications/hadoop-kms/kms.log.gz\n",
      "download: s3://aws-logs-846273844940-us-east-1/elasticmapreduce/j-2FYNZE0A6FVV2/node/i-04a87b895a47321e0/applications/hadoop-mapreduce/mapred-mapred-historyserver-ip-10-129-254-76.log.gz to j-2FYNZE0A6FVV2/node/i-04a87b895a47321e0/applications/hadoop-mapreduce/mapred-mapred-historyserver-ip-10-129-254-76.log.gz\n",
      "download: s3://aws-logs-846273844940-us-east-1/elasticmapreduce/j-2FYNZE0A6FVV2/node/i-04a87b895a47321e0/applications/hadoop-yarn/yarn-yarn-resourcemanager-ip-10-129-254-76.log.gz to j-2FYNZE0A6FVV2/node/i-04a87b895a47321e0/applications/hadoop-yarn/yarn-yarn-resourcemanager-ip-10-129-254-76.log.gz\n",
      "download: s3://aws-logs-846273844940-us-east-1/elasticmapreduce/j-2FYNZE0A6FVV2/node/i-04a87b895a47321e0/applications/hadoop-kms/kms-catalina.out.gz to j-2FYNZE0A6FVV2/node/i-04a87b895a47321e0/applications/hadoop-kms/kms-catalina.out.gz\n",
      "download: s3://aws-logs-846273844940-us-east-1/elasticmapreduce/j-2FYNZE0A6FVV2/node/i-04a87b895a47321e0/applications/hadoop-yarn/yarn-yarn-proxyserver-ip-10-129-254-76.out.gz to j-2FYNZE0A6FVV2/node/i-04a87b895a47321e0/applications/hadoop-yarn/yarn-yarn-proxyserver-ip-10-129-254-76.out.gz\n",
      "download: s3://aws-logs-846273844940-us-east-1/elasticmapreduce/j-2FYNZE0A6FVV2/node/i-04a87b895a47321e0/applications/hadoop-yarn/yarn-yarn-resourcemanager-ip-10-129-254-76.out.gz to j-2FYNZE0A6FVV2/node/i-04a87b895a47321e0/applications/hadoop-yarn/yarn-yarn-resourcemanager-ip-10-129-254-76.out.gz\n",
      "download: s3://aws-logs-846273844940-us-east-1/elasticmapreduce/j-2FYNZE0A6FVV2/node/i-04a87b895a47321e0/applications/hadoop-yarn/yarn-yarn-timelineserver-ip-10-129-254-76.log.gz to j-2FYNZE0A6FVV2/node/i-04a87b895a47321e0/applications/hadoop-yarn/yarn-yarn-timelineserver-ip-10-129-254-76.log.gz\n",
      "download: s3://aws-logs-846273844940-us-east-1/elasticmapreduce/j-2FYNZE0A6FVV2/node/i-04a87b895a47321e0/applications/livy/livy-livy-server.out.gz to j-2FYNZE0A6FVV2/node/i-04a87b895a47321e0/applications/livy/livy-livy-server.out.gz\n",
      "download: s3://aws-logs-846273844940-us-east-1/elasticmapreduce/j-2FYNZE0A6FVV2/node/i-04a87b895a47321e0/bootstrap-actions/1/controller.gz to j-2FYNZE0A6FVV2/node/i-04a87b895a47321e0/bootstrap-actions/1/controller.gz\n",
      "download: s3://aws-logs-846273844940-us-east-1/elasticmapreduce/j-2FYNZE0A6FVV2/node/i-04a87b895a47321e0/applications/spark/spark-history-server.out.gz to j-2FYNZE0A6FVV2/node/i-04a87b895a47321e0/applications/spark/spark-history-server.out.gz\n",
      "download: s3://aws-logs-846273844940-us-east-1/elasticmapreduce/j-2FYNZE0A6FVV2/node/i-04a87b895a47321e0/applications/hadoop-mapreduce/mapred-mapred-historyserver-ip-10-129-254-76.out.gz to j-2FYNZE0A6FVV2/node/i-04a87b895a47321e0/applications/hadoop-mapreduce/mapred-mapred-historyserver-ip-10-129-254-76.out.gz\n",
      "download: s3://aws-logs-846273844940-us-east-1/elasticmapreduce/j-2FYNZE0A6FVV2/node/i-04a87b895a47321e0/bootstrap-actions/2/controller.gz to j-2FYNZE0A6FVV2/node/i-04a87b895a47321e0/bootstrap-actions/2/controller.gz\n",
      "download: s3://aws-logs-846273844940-us-east-1/elasticmapreduce/j-2FYNZE0A6FVV2/node/i-04a87b895a47321e0/applications/hadoop-yarn/yarn-yarn-timelineserver-ip-10-129-254-76.out.gz to j-2FYNZE0A6FVV2/node/i-04a87b895a47321e0/applications/hadoop-yarn/yarn-yarn-timelineserver-ip-10-129-254-76.out.gz\n",
      "download: s3://aws-logs-846273844940-us-east-1/elasticmapreduce/j-2FYNZE0A6FVV2/node/i-04a87b895a47321e0/bootstrap-actions/2/stderr.gz to j-2FYNZE0A6FVV2/node/i-04a87b895a47321e0/bootstrap-actions/2/stderr.gz\n",
      "download: s3://aws-logs-846273844940-us-east-1/elasticmapreduce/j-2FYNZE0A6FVV2/node/i-04a87b895a47321e0/bootstrap-actions/1/stderr.gz to j-2FYNZE0A6FVV2/node/i-04a87b895a47321e0/bootstrap-actions/1/stderr.gz\n",
      "download: s3://aws-logs-846273844940-us-east-1/elasticmapreduce/j-2FYNZE0A6FVV2/node/i-04a87b895a47321e0/bootstrap-actions/master.log.gz to j-2FYNZE0A6FVV2/node/i-04a87b895a47321e0/bootstrap-actions/master.log.gz\n",
      "download: s3://aws-logs-846273844940-us-east-1/elasticmapreduce/j-2FYNZE0A6FVV2/node/i-04a87b895a47321e0/applications/hadoop-yarn/yarn-yarn-proxyserver-ip-10-129-254-76.log.gz to j-2FYNZE0A6FVV2/node/i-04a87b895a47321e0/applications/hadoop-yarn/yarn-yarn-proxyserver-ip-10-129-254-76.log.gz\n",
      "download: s3://aws-logs-846273844940-us-east-1/elasticmapreduce/j-2FYNZE0A6FVV2/node/i-04a87b895a47321e0/provision-node/apps-phase/stderr.gz to j-2FYNZE0A6FVV2/node/i-04a87b895a47321e0/provision-node/apps-phase/stderr.gz\n",
      "download: s3://aws-logs-846273844940-us-east-1/elasticmapreduce/j-2FYNZE0A6FVV2/node/i-04a87b895a47321e0/bootstrap-actions/2/stdout.gz to j-2FYNZE0A6FVV2/node/i-04a87b895a47321e0/bootstrap-actions/2/stdout.gz\n",
      "download: s3://aws-logs-846273844940-us-east-1/elasticmapreduce/j-2FYNZE0A6FVV2/node/i-04a87b895a47321e0/provision-node/c157c5d1-fa42-42f9-bdb2-34f22e3b781f/stderr.gz to j-2FYNZE0A6FVV2/node/i-04a87b895a47321e0/provision-node/c157c5d1-fa42-42f9-bdb2-34f22e3b781f/stderr.gz\n",
      "download: s3://aws-logs-846273844940-us-east-1/elasticmapreduce/j-2FYNZE0A6FVV2/node/i-04a87b895a47321e0/setup-devices/DiskEncryptor.log.gz to j-2FYNZE0A6FVV2/node/i-04a87b895a47321e0/setup-devices/DiskEncryptor.log.gz\n",
      "download: s3://aws-logs-846273844940-us-east-1/elasticmapreduce/j-2FYNZE0A6FVV2/node/i-04a87b895a47321e0/setup-devices/setup_drives.log.gz to j-2FYNZE0A6FVV2/node/i-04a87b895a47321e0/setup-devices/setup_drives.log.gz\n",
      "download: s3://aws-logs-846273844940-us-east-1/elasticmapreduce/j-2FYNZE0A6FVV2/node/i-04a87b895a47321e0/provision-node/c157c5d1-fa42-42f9-bdb2-34f22e3b781f/controller.gz to j-2FYNZE0A6FVV2/node/i-04a87b895a47321e0/provision-node/c157c5d1-fa42-42f9-bdb2-34f22e3b781f/controller.gz\n",
      "download: s3://aws-logs-846273844940-us-east-1/elasticmapreduce/j-2FYNZE0A6FVV2/node/i-04a87b895a47321e0/provision-node/apps-phase/stdout.gz to j-2FYNZE0A6FVV2/node/i-04a87b895a47321e0/provision-node/apps-phase/stdout.gz\n"
     ]
    },
    {
     "name": "stdout",
     "output_type": "stream",
     "text": [
      "download: s3://aws-logs-846273844940-us-east-1/elasticmapreduce/j-2FYNZE0A6FVV2/node/i-04a87b895a47321e0/daemons/instance-state/instance-state.log-2018-02-19-05-45.gz to j-2FYNZE0A6FVV2/node/i-04a87b895a47321e0/daemons/instance-state/instance-state.log-2018-02-19-05-45.gz\n",
      "download: s3://aws-logs-846273844940-us-east-1/elasticmapreduce/j-2FYNZE0A6FVV2/node/i-04a87b895a47321e0/setup-devices/setup_emr_metrics.log.gz to j-2FYNZE0A6FVV2/node/i-04a87b895a47321e0/setup-devices/setup_emr_metrics.log.gz\n",
      "download: s3://aws-logs-846273844940-us-east-1/elasticmapreduce/j-2FYNZE0A6FVV2/node/i-04a87b895a47321e0/provision-node/c157c5d1-fa42-42f9-bdb2-34f22e3b781f/stdout.gz to j-2FYNZE0A6FVV2/node/i-04a87b895a47321e0/provision-node/c157c5d1-fa42-42f9-bdb2-34f22e3b781f/stdout.gz\n",
      "download: s3://aws-logs-846273844940-us-east-1/elasticmapreduce/j-2FYNZE0A6FVV2/node/i-04a87b895a47321e0/setup-devices/setup_tmp_dir.log.gz to j-2FYNZE0A6FVV2/node/i-04a87b895a47321e0/setup-devices/setup_tmp_dir.log.gz\n",
      "download: s3://aws-logs-846273844940-us-east-1/elasticmapreduce/j-2FYNZE0A6FVV2/node/i-04a87b895a47321e0/setup-devices/setup_var_cache_dir.log.gz to j-2FYNZE0A6FVV2/node/i-04a87b895a47321e0/setup-devices/setup_var_cache_dir.log.gz\n",
      "download: s3://aws-logs-846273844940-us-east-1/elasticmapreduce/j-2FYNZE0A6FVV2/node/i-04a87b895a47321e0/setup-devices/setup_var_log_dir.log.gz to j-2FYNZE0A6FVV2/node/i-04a87b895a47321e0/setup-devices/setup_var_log_dir.log.gz\n",
      "download: s3://aws-logs-846273844940-us-east-1/elasticmapreduce/j-2FYNZE0A6FVV2/node/i-04a87b895a47321e0/setup-devices/setup_var_tmp_dir.log.gz to j-2FYNZE0A6FVV2/node/i-04a87b895a47321e0/setup-devices/setup_var_tmp_dir.log.gz\n",
      "download: s3://aws-logs-846273844940-us-east-1/elasticmapreduce/j-2FYNZE0A6FVV2/node/i-05d93e22535a118c9/applications/hadoop-hdfs/hadoop-hdfs-datanode-ip-10-129-224-95.log.gz to j-2FYNZE0A6FVV2/node/i-05d93e22535a118c9/applications/hadoop-hdfs/hadoop-hdfs-datanode-ip-10-129-224-95.log.gz\n",
      "download: s3://aws-logs-846273844940-us-east-1/elasticmapreduce/j-2FYNZE0A6FVV2/node/i-04a87b895a47321e0/setup-devices/setup_var_lib_dir.log.gz to j-2FYNZE0A6FVV2/node/i-04a87b895a47321e0/setup-devices/setup_var_lib_dir.log.gz\n",
      "download: s3://aws-logs-846273844940-us-east-1/elasticmapreduce/j-2FYNZE0A6FVV2/node/i-05d93e22535a118c9/applications/hadoop-yarn/yarn-yarn-nodemanager-ip-10-129-224-95.log.gz to j-2FYNZE0A6FVV2/node/i-05d93e22535a118c9/applications/hadoop-yarn/yarn-yarn-nodemanager-ip-10-129-224-95.log.gz\n",
      "download: s3://aws-logs-846273844940-us-east-1/elasticmapreduce/j-2FYNZE0A6FVV2/node/i-05d93e22535a118c9/bootstrap-actions/1/controller.gz to j-2FYNZE0A6FVV2/node/i-05d93e22535a118c9/bootstrap-actions/1/controller.gz\n",
      "download: s3://aws-logs-846273844940-us-east-1/elasticmapreduce/j-2FYNZE0A6FVV2/node/i-05d93e22535a118c9/applications/hadoop-hdfs/hadoop-hdfs-datanode-ip-10-129-224-95.out.gz to j-2FYNZE0A6FVV2/node/i-05d93e22535a118c9/applications/hadoop-hdfs/hadoop-hdfs-datanode-ip-10-129-224-95.out.gz\n",
      "download: s3://aws-logs-846273844940-us-east-1/elasticmapreduce/j-2FYNZE0A6FVV2/node/i-05d93e22535a118c9/applications/hadoop-yarn/yarn-yarn-nodemanager-ip-10-129-224-95.out.gz to j-2FYNZE0A6FVV2/node/i-05d93e22535a118c9/applications/hadoop-yarn/yarn-yarn-nodemanager-ip-10-129-224-95.out.gz\n",
      "download: s3://aws-logs-846273844940-us-east-1/elasticmapreduce/j-2FYNZE0A6FVV2/node/i-05d93e22535a118c9/bootstrap-actions/2/controller.gz to j-2FYNZE0A6FVV2/node/i-05d93e22535a118c9/bootstrap-actions/2/controller.gz\n",
      "download: s3://aws-logs-846273844940-us-east-1/elasticmapreduce/j-2FYNZE0A6FVV2/node/i-04a87b895a47321e0/bootstrap-actions/1/stdout.gz to j-2FYNZE0A6FVV2/node/i-04a87b895a47321e0/bootstrap-actions/1/stdout.gz\n",
      "download: s3://aws-logs-846273844940-us-east-1/elasticmapreduce/j-2FYNZE0A6FVV2/node/i-05d93e22535a118c9/provision-node/apps-phase/stdout.gz to j-2FYNZE0A6FVV2/node/i-05d93e22535a118c9/provision-node/apps-phase/stdout.gz\n",
      "download: s3://aws-logs-846273844940-us-east-1/elasticmapreduce/j-2FYNZE0A6FVV2/node/i-05d93e22535a118c9/setup-devices/DiskEncryptor.log.gz to j-2FYNZE0A6FVV2/node/i-05d93e22535a118c9/setup-devices/DiskEncryptor.log.gz\n",
      "download: s3://aws-logs-846273844940-us-east-1/elasticmapreduce/j-2FYNZE0A6FVV2/node/i-05d93e22535a118c9/provision-node/dc010bc5-53e3-49dd-9bc2-1eedf4292da2/stderr.gz to j-2FYNZE0A6FVV2/node/i-05d93e22535a118c9/provision-node/dc010bc5-53e3-49dd-9bc2-1eedf4292da2/stderr.gz\n",
      "download: s3://aws-logs-846273844940-us-east-1/elasticmapreduce/j-2FYNZE0A6FVV2/node/i-05d93e22535a118c9/setup-devices/setup_emr_metrics.log.gz to j-2FYNZE0A6FVV2/node/i-05d93e22535a118c9/setup-devices/setup_emr_metrics.log.gz\n",
      "download: s3://aws-logs-846273844940-us-east-1/elasticmapreduce/j-2FYNZE0A6FVV2/node/i-05d93e22535a118c9/setup-devices/setup_drives.log.gz to j-2FYNZE0A6FVV2/node/i-05d93e22535a118c9/setup-devices/setup_drives.log.gz\n",
      "download: s3://aws-logs-846273844940-us-east-1/elasticmapreduce/j-2FYNZE0A6FVV2/node/i-05d93e22535a118c9/daemons/instance-state/instance-state.log-2018-02-19-05-45.gz to j-2FYNZE0A6FVV2/node/i-05d93e22535a118c9/daemons/instance-state/instance-state.log-2018-02-19-05-45.gz\n",
      "download: s3://aws-logs-846273844940-us-east-1/elasticmapreduce/j-2FYNZE0A6FVV2/node/i-05d93e22535a118c9/setup-devices/setup_tmp_dir.log.gz to j-2FYNZE0A6FVV2/node/i-05d93e22535a118c9/setup-devices/setup_tmp_dir.log.gz\n",
      "download: s3://aws-logs-846273844940-us-east-1/elasticmapreduce/j-2FYNZE0A6FVV2/node/i-05d93e22535a118c9/provision-node/apps-phase/stderr.gz to j-2FYNZE0A6FVV2/node/i-05d93e22535a118c9/provision-node/apps-phase/stderr.gz\n",
      "download: s3://aws-logs-846273844940-us-east-1/elasticmapreduce/j-2FYNZE0A6FVV2/node/i-05d93e22535a118c9/provision-node/dc010bc5-53e3-49dd-9bc2-1eedf4292da2/stdout.gz to j-2FYNZE0A6FVV2/node/i-05d93e22535a118c9/provision-node/dc010bc5-53e3-49dd-9bc2-1eedf4292da2/stdout.gz\n",
      "download: s3://aws-logs-846273844940-us-east-1/elasticmapreduce/j-2FYNZE0A6FVV2/node/i-05d93e22535a118c9/setup-devices/setup_var_cache_dir.log.gz to j-2FYNZE0A6FVV2/node/i-05d93e22535a118c9/setup-devices/setup_var_cache_dir.log.gz\n",
      "download: s3://aws-logs-846273844940-us-east-1/elasticmapreduce/j-2FYNZE0A6FVV2/node/i-05d93e22535a118c9/setup-devices/setup_var_tmp_dir.log.gz to j-2FYNZE0A6FVV2/node/i-05d93e22535a118c9/setup-devices/setup_var_tmp_dir.log.gz\n",
      "download: s3://aws-logs-846273844940-us-east-1/elasticmapreduce/j-2FYNZE0A6FVV2/node/i-072db8d8c45c0e073/applications/hadoop-hdfs/hadoop-hdfs-datanode-ip-10-129-238-80.out.gz to j-2FYNZE0A6FVV2/node/i-072db8d8c45c0e073/applications/hadoop-hdfs/hadoop-hdfs-datanode-ip-10-129-238-80.out.gz\n",
      "download: s3://aws-logs-846273844940-us-east-1/elasticmapreduce/j-2FYNZE0A6FVV2/node/i-072db8d8c45c0e073/applications/hadoop-hdfs/hadoop-hdfs-datanode-ip-10-129-238-80.log.gz to j-2FYNZE0A6FVV2/node/i-072db8d8c45c0e073/applications/hadoop-hdfs/hadoop-hdfs-datanode-ip-10-129-238-80.log.gz\n",
      "download: s3://aws-logs-846273844940-us-east-1/elasticmapreduce/j-2FYNZE0A6FVV2/node/i-072db8d8c45c0e073/applications/hadoop-yarn/yarn-yarn-nodemanager-ip-10-129-238-80.log.gz to j-2FYNZE0A6FVV2/node/i-072db8d8c45c0e073/applications/hadoop-yarn/yarn-yarn-nodemanager-ip-10-129-238-80.log.gz\n",
      "download: s3://aws-logs-846273844940-us-east-1/elasticmapreduce/j-2FYNZE0A6FVV2/node/i-072db8d8c45c0e073/applications/hadoop-yarn/yarn-yarn-nodemanager-ip-10-129-238-80.out.gz to j-2FYNZE0A6FVV2/node/i-072db8d8c45c0e073/applications/hadoop-yarn/yarn-yarn-nodemanager-ip-10-129-238-80.out.gz\n",
      "download: s3://aws-logs-846273844940-us-east-1/elasticmapreduce/j-2FYNZE0A6FVV2/node/i-05d93e22535a118c9/setup-devices/setup_var_lib_dir.log.gz to j-2FYNZE0A6FVV2/node/i-05d93e22535a118c9/setup-devices/setup_var_lib_dir.log.gz\n",
      "download: s3://aws-logs-846273844940-us-east-1/elasticmapreduce/j-2FYNZE0A6FVV2/node/i-072db8d8c45c0e073/bootstrap-actions/1/controller.gz to j-2FYNZE0A6FVV2/node/i-072db8d8c45c0e073/bootstrap-actions/1/controller.gz\n",
      "download: s3://aws-logs-846273844940-us-east-1/elasticmapreduce/j-2FYNZE0A6FVV2/node/i-072db8d8c45c0e073/bootstrap-actions/2/controller.gz to j-2FYNZE0A6FVV2/node/i-072db8d8c45c0e073/bootstrap-actions/2/controller.gz\n",
      "download: s3://aws-logs-846273844940-us-east-1/elasticmapreduce/j-2FYNZE0A6FVV2/node/i-072db8d8c45c0e073/provision-node/06f8c857-f2d3-4577-9ded-e0c729f1a156/stderr.gz to j-2FYNZE0A6FVV2/node/i-072db8d8c45c0e073/provision-node/06f8c857-f2d3-4577-9ded-e0c729f1a156/stderr.gz\n",
      "download: s3://aws-logs-846273844940-us-east-1/elasticmapreduce/j-2FYNZE0A6FVV2/node/i-072db8d8c45c0e073/provision-node/06f8c857-f2d3-4577-9ded-e0c729f1a156/controller.gz to j-2FYNZE0A6FVV2/node/i-072db8d8c45c0e073/provision-node/06f8c857-f2d3-4577-9ded-e0c729f1a156/controller.gz\n",
      "download: s3://aws-logs-846273844940-us-east-1/elasticmapreduce/j-2FYNZE0A6FVV2/node/i-072db8d8c45c0e073/provision-node/apps-phase/stderr.gz to j-2FYNZE0A6FVV2/node/i-072db8d8c45c0e073/provision-node/apps-phase/stderr.gz\n"
     ]
    },
    {
     "name": "stdout",
     "output_type": "stream",
     "text": [
      "download: s3://aws-logs-846273844940-us-east-1/elasticmapreduce/j-2FYNZE0A6FVV2/node/i-072db8d8c45c0e073/provision-node/06f8c857-f2d3-4577-9ded-e0c729f1a156/stdout.gz to j-2FYNZE0A6FVV2/node/i-072db8d8c45c0e073/provision-node/06f8c857-f2d3-4577-9ded-e0c729f1a156/stdout.gz\n",
      "download: s3://aws-logs-846273844940-us-east-1/elasticmapreduce/j-2FYNZE0A6FVV2/node/i-05d93e22535a118c9/setup-devices/setup_var_log_dir.log.gz to j-2FYNZE0A6FVV2/node/i-05d93e22535a118c9/setup-devices/setup_var_log_dir.log.gz\n",
      "download: s3://aws-logs-846273844940-us-east-1/elasticmapreduce/j-2FYNZE0A6FVV2/node/i-072db8d8c45c0e073/setup-devices/DiskEncryptor.log.gz to j-2FYNZE0A6FVV2/node/i-072db8d8c45c0e073/setup-devices/DiskEncryptor.log.gz\n",
      "download: s3://aws-logs-846273844940-us-east-1/elasticmapreduce/j-2FYNZE0A6FVV2/node/i-072db8d8c45c0e073/setup-devices/setup_drives.log.gz to j-2FYNZE0A6FVV2/node/i-072db8d8c45c0e073/setup-devices/setup_drives.log.gz\n",
      "download: s3://aws-logs-846273844940-us-east-1/elasticmapreduce/j-2FYNZE0A6FVV2/node/i-072db8d8c45c0e073/daemons/instance-state/instance-state.log-2018-02-19-05-45.gz to j-2FYNZE0A6FVV2/node/i-072db8d8c45c0e073/daemons/instance-state/instance-state.log-2018-02-19-05-45.gz\n",
      "download: s3://aws-logs-846273844940-us-east-1/elasticmapreduce/j-2FYNZE0A6FVV2/node/i-072db8d8c45c0e073/provision-node/apps-phase/stdout.gz to j-2FYNZE0A6FVV2/node/i-072db8d8c45c0e073/provision-node/apps-phase/stdout.gz\n",
      "download: s3://aws-logs-846273844940-us-east-1/elasticmapreduce/j-2FYNZE0A6FVV2/node/i-072db8d8c45c0e073/setup-devices/setup_tmp_dir.log.gz to j-2FYNZE0A6FVV2/node/i-072db8d8c45c0e073/setup-devices/setup_tmp_dir.log.gz\n",
      "download: s3://aws-logs-846273844940-us-east-1/elasticmapreduce/j-2FYNZE0A6FVV2/node/i-072db8d8c45c0e073/setup-devices/setup_emr_metrics.log.gz to j-2FYNZE0A6FVV2/node/i-072db8d8c45c0e073/setup-devices/setup_emr_metrics.log.gz\n",
      "download: s3://aws-logs-846273844940-us-east-1/elasticmapreduce/j-2FYNZE0A6FVV2/node/i-072db8d8c45c0e073/setup-devices/setup_var_cache_dir.log.gz to j-2FYNZE0A6FVV2/node/i-072db8d8c45c0e073/setup-devices/setup_var_cache_dir.log.gz\n",
      "download: s3://aws-logs-846273844940-us-east-1/elasticmapreduce/j-2FYNZE0A6FVV2/node/i-072db8d8c45c0e073/setup-devices/setup_var_log_dir.log.gz to j-2FYNZE0A6FVV2/node/i-072db8d8c45c0e073/setup-devices/setup_var_log_dir.log.gz\n",
      "download: s3://aws-logs-846273844940-us-east-1/elasticmapreduce/j-2FYNZE0A6FVV2/node/i-072db8d8c45c0e073/setup-devices/setup_var_lib_dir.log.gz to j-2FYNZE0A6FVV2/node/i-072db8d8c45c0e073/setup-devices/setup_var_lib_dir.log.gz\n",
      "download: s3://aws-logs-846273844940-us-east-1/elasticmapreduce/j-2FYNZE0A6FVV2/node/i-085eca42d61f81138/applications/hadoop-hdfs/hadoop-hdfs-datanode-ip-10-129-255-165.out.gz to j-2FYNZE0A6FVV2/node/i-085eca42d61f81138/applications/hadoop-hdfs/hadoop-hdfs-datanode-ip-10-129-255-165.out.gz\n",
      "download: s3://aws-logs-846273844940-us-east-1/elasticmapreduce/j-2FYNZE0A6FVV2/node/i-085eca42d61f81138/applications/hadoop-hdfs/hadoop-hdfs-datanode-ip-10-129-255-165.log.gz to j-2FYNZE0A6FVV2/node/i-085eca42d61f81138/applications/hadoop-hdfs/hadoop-hdfs-datanode-ip-10-129-255-165.log.gz\n",
      "download: s3://aws-logs-846273844940-us-east-1/elasticmapreduce/j-2FYNZE0A6FVV2/node/i-085eca42d61f81138/applications/hadoop-yarn/yarn-yarn-nodemanager-ip-10-129-255-165.out.gz to j-2FYNZE0A6FVV2/node/i-085eca42d61f81138/applications/hadoop-yarn/yarn-yarn-nodemanager-ip-10-129-255-165.out.gz\n",
      "download: s3://aws-logs-846273844940-us-east-1/elasticmapreduce/j-2FYNZE0A6FVV2/node/i-085eca42d61f81138/bootstrap-actions/1/controller.gz to j-2FYNZE0A6FVV2/node/i-085eca42d61f81138/bootstrap-actions/1/controller.gz\n",
      "download: s3://aws-logs-846273844940-us-east-1/elasticmapreduce/j-2FYNZE0A6FVV2/node/i-085eca42d61f81138/bootstrap-actions/2/controller.gz to j-2FYNZE0A6FVV2/node/i-085eca42d61f81138/bootstrap-actions/2/controller.gz\n",
      "download: s3://aws-logs-846273844940-us-east-1/elasticmapreduce/j-2FYNZE0A6FVV2/node/i-085eca42d61f81138/provision-node/2a0d45c8-10d5-44b8-be26-f2866528a33a/controller.gz to j-2FYNZE0A6FVV2/node/i-085eca42d61f81138/provision-node/2a0d45c8-10d5-44b8-be26-f2866528a33a/controller.gz\n",
      "download: s3://aws-logs-846273844940-us-east-1/elasticmapreduce/j-2FYNZE0A6FVV2/node/i-072db8d8c45c0e073/setup-devices/setup_var_tmp_dir.log.gz to j-2FYNZE0A6FVV2/node/i-072db8d8c45c0e073/setup-devices/setup_var_tmp_dir.log.gz\n",
      "download: s3://aws-logs-846273844940-us-east-1/elasticmapreduce/j-2FYNZE0A6FVV2/node/i-085eca42d61f81138/applications/hadoop-yarn/yarn-yarn-nodemanager-ip-10-129-255-165.log.gz to j-2FYNZE0A6FVV2/node/i-085eca42d61f81138/applications/hadoop-yarn/yarn-yarn-nodemanager-ip-10-129-255-165.log.gz\n",
      "download: s3://aws-logs-846273844940-us-east-1/elasticmapreduce/j-2FYNZE0A6FVV2/node/i-085eca42d61f81138/provision-node/2a0d45c8-10d5-44b8-be26-f2866528a33a/stderr.gz to j-2FYNZE0A6FVV2/node/i-085eca42d61f81138/provision-node/2a0d45c8-10d5-44b8-be26-f2866528a33a/stderr.gz\n",
      "download: s3://aws-logs-846273844940-us-east-1/elasticmapreduce/j-2FYNZE0A6FVV2/node/i-085eca42d61f81138/provision-node/apps-phase/stderr.gz to j-2FYNZE0A6FVV2/node/i-085eca42d61f81138/provision-node/apps-phase/stderr.gz\n",
      "download: s3://aws-logs-846273844940-us-east-1/elasticmapreduce/j-2FYNZE0A6FVV2/node/i-085eca42d61f81138/provision-node/2a0d45c8-10d5-44b8-be26-f2866528a33a/stdout.gz to j-2FYNZE0A6FVV2/node/i-085eca42d61f81138/provision-node/2a0d45c8-10d5-44b8-be26-f2866528a33a/stdout.gz\n",
      "download: s3://aws-logs-846273844940-us-east-1/elasticmapreduce/j-2FYNZE0A6FVV2/node/i-085eca42d61f81138/daemons/instance-state/instance-state.log-2018-02-19-05-45.gz to j-2FYNZE0A6FVV2/node/i-085eca42d61f81138/daemons/instance-state/instance-state.log-2018-02-19-05-45.gz\n",
      "download: s3://aws-logs-846273844940-us-east-1/elasticmapreduce/j-2FYNZE0A6FVV2/node/i-085eca42d61f81138/provision-node/apps-phase/stdout.gz to j-2FYNZE0A6FVV2/node/i-085eca42d61f81138/provision-node/apps-phase/stdout.gz\n",
      "download: s3://aws-logs-846273844940-us-east-1/elasticmapreduce/j-2FYNZE0A6FVV2/node/i-085eca42d61f81138/setup-devices/DiskEncryptor.log.gz to j-2FYNZE0A6FVV2/node/i-085eca42d61f81138/setup-devices/DiskEncryptor.log.gz\n",
      "download: s3://aws-logs-846273844940-us-east-1/elasticmapreduce/j-2FYNZE0A6FVV2/node/i-085eca42d61f81138/setup-devices/setup_emr_metrics.log.gz to j-2FYNZE0A6FVV2/node/i-085eca42d61f81138/setup-devices/setup_emr_metrics.log.gz\n",
      "download: s3://aws-logs-846273844940-us-east-1/elasticmapreduce/j-2FYNZE0A6FVV2/node/i-085eca42d61f81138/setup-devices/setup_tmp_dir.log.gz to j-2FYNZE0A6FVV2/node/i-085eca42d61f81138/setup-devices/setup_tmp_dir.log.gz\n",
      "download: s3://aws-logs-846273844940-us-east-1/elasticmapreduce/j-2FYNZE0A6FVV2/node/i-085eca42d61f81138/setup-devices/setup_drives.log.gz to j-2FYNZE0A6FVV2/node/i-085eca42d61f81138/setup-devices/setup_drives.log.gz\n",
      "download: s3://aws-logs-846273844940-us-east-1/elasticmapreduce/j-2FYNZE0A6FVV2/node/i-05d93e22535a118c9/provision-node/dc010bc5-53e3-49dd-9bc2-1eedf4292da2/controller.gz to j-2FYNZE0A6FVV2/node/i-05d93e22535a118c9/provision-node/dc010bc5-53e3-49dd-9bc2-1eedf4292da2/controller.gz\n",
      "download: s3://aws-logs-846273844940-us-east-1/elasticmapreduce/j-2FYNZE0A6FVV2/node/i-085eca42d61f81138/setup-devices/setup_var_tmp_dir.log.gz to j-2FYNZE0A6FVV2/node/i-085eca42d61f81138/setup-devices/setup_var_tmp_dir.log.gz\n",
      "download: s3://aws-logs-846273844940-us-east-1/elasticmapreduce/j-2FYNZE0A6FVV2/node/i-0d1144fddcdbfd933/applications/hadoop-hdfs/hadoop-hdfs-datanode-ip-10-129-252-164.log.gz to j-2FYNZE0A6FVV2/node/i-0d1144fddcdbfd933/applications/hadoop-hdfs/hadoop-hdfs-datanode-ip-10-129-252-164.log.gz\n",
      "download: s3://aws-logs-846273844940-us-east-1/elasticmapreduce/j-2FYNZE0A6FVV2/node/i-0d1144fddcdbfd933/applications/hadoop-yarn/yarn-yarn-nodemanager-ip-10-129-252-164.out.gz to j-2FYNZE0A6FVV2/node/i-0d1144fddcdbfd933/applications/hadoop-yarn/yarn-yarn-nodemanager-ip-10-129-252-164.out.gz\n",
      "download: s3://aws-logs-846273844940-us-east-1/elasticmapreduce/j-2FYNZE0A6FVV2/node/i-085eca42d61f81138/setup-devices/setup_var_cache_dir.log.gz to j-2FYNZE0A6FVV2/node/i-085eca42d61f81138/setup-devices/setup_var_cache_dir.log.gz\n",
      "download: s3://aws-logs-846273844940-us-east-1/elasticmapreduce/j-2FYNZE0A6FVV2/node/i-0d1144fddcdbfd933/applications/hadoop-hdfs/hadoop-hdfs-datanode-ip-10-129-252-164.out.gz to j-2FYNZE0A6FVV2/node/i-0d1144fddcdbfd933/applications/hadoop-hdfs/hadoop-hdfs-datanode-ip-10-129-252-164.out.gz\n"
     ]
    },
    {
     "name": "stdout",
     "output_type": "stream",
     "text": [
      "download: s3://aws-logs-846273844940-us-east-1/elasticmapreduce/j-2FYNZE0A6FVV2/node/i-0d1144fddcdbfd933/applications/hadoop-yarn/yarn-yarn-nodemanager-ip-10-129-252-164.log.gz to j-2FYNZE0A6FVV2/node/i-0d1144fddcdbfd933/applications/hadoop-yarn/yarn-yarn-nodemanager-ip-10-129-252-164.log.gz\n",
      "download: s3://aws-logs-846273844940-us-east-1/elasticmapreduce/j-2FYNZE0A6FVV2/node/i-085eca42d61f81138/setup-devices/setup_var_lib_dir.log.gz to j-2FYNZE0A6FVV2/node/i-085eca42d61f81138/setup-devices/setup_var_lib_dir.log.gz\n",
      "download: s3://aws-logs-846273844940-us-east-1/elasticmapreduce/j-2FYNZE0A6FVV2/node/i-085eca42d61f81138/setup-devices/setup_var_log_dir.log.gz to j-2FYNZE0A6FVV2/node/i-085eca42d61f81138/setup-devices/setup_var_log_dir.log.gz\n",
      "download: s3://aws-logs-846273844940-us-east-1/elasticmapreduce/j-2FYNZE0A6FVV2/node/i-0d1144fddcdbfd933/bootstrap-actions/1/controller.gz to j-2FYNZE0A6FVV2/node/i-0d1144fddcdbfd933/bootstrap-actions/1/controller.gz\n",
      "download: s3://aws-logs-846273844940-us-east-1/elasticmapreduce/j-2FYNZE0A6FVV2/node/i-0d1144fddcdbfd933/bootstrap-actions/2/controller.gz to j-2FYNZE0A6FVV2/node/i-0d1144fddcdbfd933/bootstrap-actions/2/controller.gz\n",
      "download: s3://aws-logs-846273844940-us-east-1/elasticmapreduce/j-2FYNZE0A6FVV2/node/i-0d1144fddcdbfd933/provision-node/90d1d296-9e76-4028-acb6-54db556a5b92/controller.gz to j-2FYNZE0A6FVV2/node/i-0d1144fddcdbfd933/provision-node/90d1d296-9e76-4028-acb6-54db556a5b92/controller.gz\n",
      "download: s3://aws-logs-846273844940-us-east-1/elasticmapreduce/j-2FYNZE0A6FVV2/node/i-0d1144fddcdbfd933/provision-node/90d1d296-9e76-4028-acb6-54db556a5b92/stderr.gz to j-2FYNZE0A6FVV2/node/i-0d1144fddcdbfd933/provision-node/90d1d296-9e76-4028-acb6-54db556a5b92/stderr.gz\n",
      "download: s3://aws-logs-846273844940-us-east-1/elasticmapreduce/j-2FYNZE0A6FVV2/node/i-0d1144fddcdbfd933/provision-node/apps-phase/stderr.gz to j-2FYNZE0A6FVV2/node/i-0d1144fddcdbfd933/provision-node/apps-phase/stderr.gz\n",
      "download: s3://aws-logs-846273844940-us-east-1/elasticmapreduce/j-2FYNZE0A6FVV2/node/i-0d1144fddcdbfd933/setup-devices/DiskEncryptor.log.gz to j-2FYNZE0A6FVV2/node/i-0d1144fddcdbfd933/setup-devices/DiskEncryptor.log.gz\n",
      "download: s3://aws-logs-846273844940-us-east-1/elasticmapreduce/j-2FYNZE0A6FVV2/node/i-0d1144fddcdbfd933/provision-node/apps-phase/stdout.gz to j-2FYNZE0A6FVV2/node/i-0d1144fddcdbfd933/provision-node/apps-phase/stdout.gz\n",
      "download: s3://aws-logs-846273844940-us-east-1/elasticmapreduce/j-2FYNZE0A6FVV2/node/i-0d1144fddcdbfd933/daemons/instance-state/instance-state.log-2018-02-19-05-45.gz to j-2FYNZE0A6FVV2/node/i-0d1144fddcdbfd933/daemons/instance-state/instance-state.log-2018-02-19-05-45.gz\n",
      "download: s3://aws-logs-846273844940-us-east-1/elasticmapreduce/j-2FYNZE0A6FVV2/node/i-0d1144fddcdbfd933/setup-devices/setup_emr_metrics.log.gz to j-2FYNZE0A6FVV2/node/i-0d1144fddcdbfd933/setup-devices/setup_emr_metrics.log.gz\n",
      "download: s3://aws-logs-846273844940-us-east-1/elasticmapreduce/j-2FYNZE0A6FVV2/node/i-0d1144fddcdbfd933/setup-devices/setup_drives.log.gz to j-2FYNZE0A6FVV2/node/i-0d1144fddcdbfd933/setup-devices/setup_drives.log.gz\n",
      "download: s3://aws-logs-846273844940-us-east-1/elasticmapreduce/j-2FYNZE0A6FVV2/node/i-0d1144fddcdbfd933/setup-devices/setup_tmp_dir.log.gz to j-2FYNZE0A6FVV2/node/i-0d1144fddcdbfd933/setup-devices/setup_tmp_dir.log.gz\n",
      "download: s3://aws-logs-846273844940-us-east-1/elasticmapreduce/j-2FYNZE0A6FVV2/node/i-0d1144fddcdbfd933/provision-node/90d1d296-9e76-4028-acb6-54db556a5b92/stdout.gz to j-2FYNZE0A6FVV2/node/i-0d1144fddcdbfd933/provision-node/90d1d296-9e76-4028-acb6-54db556a5b92/stdout.gz\n",
      "download: s3://aws-logs-846273844940-us-east-1/elasticmapreduce/j-2FYNZE0A6FVV2/node/i-0d1144fddcdbfd933/setup-devices/setup_var_cache_dir.log.gz to j-2FYNZE0A6FVV2/node/i-0d1144fddcdbfd933/setup-devices/setup_var_cache_dir.log.gz\n",
      "download: s3://aws-logs-846273844940-us-east-1/elasticmapreduce/j-2FYNZE0A6FVV2/node/i-0d1144fddcdbfd933/setup-devices/setup_var_lib_dir.log.gz to j-2FYNZE0A6FVV2/node/i-0d1144fddcdbfd933/setup-devices/setup_var_lib_dir.log.gz\n",
      "download: s3://aws-logs-846273844940-us-east-1/elasticmapreduce/j-2FYNZE0A6FVV2/node/i-0d1144fddcdbfd933/setup-devices/setup_var_log_dir.log.gz to j-2FYNZE0A6FVV2/node/i-0d1144fddcdbfd933/setup-devices/setup_var_log_dir.log.gz\n",
      "download: s3://aws-logs-846273844940-us-east-1/elasticmapreduce/j-2FYNZE0A6FVV2/node/i-0d1144fddcdbfd933/setup-devices/setup_var_tmp_dir.log.gz to j-2FYNZE0A6FVV2/node/i-0d1144fddcdbfd933/setup-devices/setup_var_tmp_dir.log.gz\n"
     ]
    }
   ],
   "source": [
    "current='j-2FYNZE0A6FVV2'\n",
    "s3path='s3://'+logs_bucket+'/'+_dir+current+'/'\n",
    "print(s3path)\n",
    "%cd /tmp\n",
    "!aws s3 cp --recursive $s3path $current"
   ]
  },
  {
   "cell_type": "code",
   "execution_count": 28,
   "metadata": {},
   "outputs": [
    {
     "name": "stdout",
     "output_type": "stream",
     "text": [
      "\u001b[34mi-02303a709f33ec7de\u001b[m\u001b[m \u001b[34mi-04a87b895a47321e0\u001b[m\u001b[m \u001b[34mi-072db8d8c45c0e073\u001b[m\u001b[m \u001b[34mi-0d1144fddcdbfd933\u001b[m\u001b[m\r\n",
      "\u001b[34mi-0392a269daed0e6bb\u001b[m\u001b[m \u001b[34mi-05d93e22535a118c9\u001b[m\u001b[m \u001b[34mi-085eca42d61f81138\u001b[m\u001b[m\r\n"
     ]
    }
   ],
   "source": [
    "#the top level partition is by the node name\n",
    "!ls $current/node"
   ]
  },
  {
   "cell_type": "code",
   "execution_count": 29,
   "metadata": {
    "scrolled": true
   },
   "outputs": [
    {
     "name": "stdout",
     "output_type": "stream",
     "text": [
      "j-2FYNZE0A6FVV2/node/i-04a87b895a47321e0/bootstrap-actions/master.log.gz\r\n"
     ]
    }
   ],
   "source": [
    "# For each node there are the following directories of logs\n",
    "# I currently care about bootstrap-actions for the master\n",
    "# You find the master by finding the file `master.log.gz inside bootstap-actions\n",
    "!ls $current/node/*/bootstrap-actions/master.log.gz"
   ]
  },
  {
   "cell_type": "code",
   "execution_count": 31,
   "metadata": {},
   "outputs": [
    {
     "name": "stdout",
     "output_type": "stream",
     "text": [
      "/private/tmp/j-2FYNZE0A6FVV2/node/i-04a87b895a47321e0/bootstrap-actions\n",
      "\u001b[34m1\u001b[m\u001b[m             \u001b[34m2\u001b[m\u001b[m             master.log.gz\r\n"
     ]
    }
   ],
   "source": [
    "## We go to that directory to see what happened with our second bootsrtap\n",
    "%cd j-2FYNZE0A6FVV2/node/i-04a87b895a47321e0/bootstrap-actions/\n",
    "!ls"
   ]
  },
  {
   "cell_type": "code",
   "execution_count": 32,
   "metadata": {},
   "outputs": [
    {
     "name": "stdout",
     "output_type": "stream",
     "text": [
      "/private/tmp/j-2FYNZE0A6FVV2/node/i-04a87b895a47321e0/bootstrap-actions/2\n",
      "total 64\r\n",
      "-rw-r--r--  1 yoavfreund  wheel    840 Feb 18 21:42 controller.gz\r\n",
      "-rw-r--r--  1 yoavfreund  wheel    124 Feb 18 21:42 stderr.gz\r\n",
      "-rw-r--r--  1 yoavfreund  wheel  21003 Feb 18 21:42 stdout.gz\r\n"
     ]
    }
   ],
   "source": [
    "#going into log 2 which corresponds to our log\n",
    "%cd 2\n",
    "!ls -l"
   ]
  },
  {
   "cell_type": "code",
   "execution_count": 33,
   "metadata": {
    "collapsed": true
   },
   "outputs": [],
   "source": [
    "!gunzip *"
   ]
  },
  {
   "cell_type": "code",
   "execution_count": 34,
   "metadata": {},
   "outputs": [
    {
     "name": "stdout",
     "output_type": "stream",
     "text": [
      "total 1216\r\n",
      "-rw-r--r--  1 yoavfreund  wheel    1989 Feb 18 21:42 controller\r\n",
      "-rw-r--r--  1 yoavfreund  wheel     412 Feb 18 21:42 stderr\r\n",
      "-rw-r--r--  1 yoavfreund  wheel  613162 Feb 18 21:42 stdout\r\n"
     ]
    }
   ],
   "source": [
    "!ls -l"
   ]
  },
  {
   "cell_type": "code",
   "execution_count": 36,
   "metadata": {},
   "outputs": [
    {
     "name": "stdout",
     "output_type": "stream",
     "text": [
      "/emr/instance-controller/lib/bootstrap-actions/2/PrivateBootstrap.sh: line 23: hdfs: command not found\r\n",
      "/emr/instance-controller/lib/bootstrap-actions/2/PrivateBootstrap.sh: line 24: hdfs: command not found\r\n",
      "/emr/instance-controller/lib/bootstrap-actions/2/PrivateBootstrap.sh: line 25: hdfs: command not found\r\n",
      "/emr/instance-controller/lib/bootstrap-actions/2/PrivateBootstrap.sh: line 27: hdfs: command not found\r\n"
     ]
    }
   ],
   "source": [
    "!tail stderr"
   ]
  },
  {
   "cell_type": "code",
   "execution_count": null,
   "metadata": {
    "collapsed": true
   },
   "outputs": [],
   "source": []
  }
 ],
 "metadata": {
  "kernelspec": {
   "display_name": "Python 3",
   "language": "python",
   "name": "python3"
  },
  "language_info": {
   "codemirror_mode": {
    "name": "ipython",
    "version": 3
   },
   "file_extension": ".py",
   "mimetype": "text/x-python",
   "name": "python",
   "nbconvert_exporter": "python",
   "pygments_lexer": "ipython3",
   "version": "3.6.3"
  }
 },
 "nbformat": 4,
 "nbformat_minor": 2
}
