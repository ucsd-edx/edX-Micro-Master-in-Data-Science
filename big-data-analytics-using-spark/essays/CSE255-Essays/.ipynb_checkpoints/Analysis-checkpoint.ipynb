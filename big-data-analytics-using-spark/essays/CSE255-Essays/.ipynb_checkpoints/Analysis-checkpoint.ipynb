{
 "cells": [
  {
   "cell_type": "markdown",
   "metadata": {
    "deletable": true,
    "editable": true,
    "heading_collapsed": true,
    "run_control": {
     "frozen": false,
     "read_only": false
    }
   },
   "source": [
    "# <span style=\"color:gray\">Helper Functions </span>  "
   ]
  },
  {
   "cell_type": "code",
   "execution_count": 1,
   "metadata": {
    "collapsed": true,
    "deletable": true,
    "editable": true,
    "hidden": true,
    "run_control": {
     "frozen": false,
     "read_only": false
    }
   },
   "outputs": [],
   "source": [
    "from IPython.display import display,HTML\n",
    "\n",
    "def df_display(list_dfs, cols=1):\n",
    "    html_table = \"<table style='width:100%; border:0px'>{content}</table>\"\n",
    "    html_row = \"<tr style='border:0px'>{content}</tr>\"\n",
    "    html_cell = \"<td style='width:{width}%;vertical-align:top;border:0px'>{{content}}</td>\"\n",
    "    html_cell = html_cell.format(width=100/cols)\n",
    "    cells = [ html_cell.format(content=df.to_html()) for df in list_dfs ]\n",
    "    cells += (cols - (len(list_dfs)%cols)) * [html_cell.format(content=\"\")] # pad\n",
    "    rows = [ html_row.format(content=\"\".join(cells[i:i+cols])) for i in range(0,len(cells),cols)]\n",
    "    display(HTML(html_table.format(content=\"\".join(rows))))\n",
    "\n",
    "def df_html(df, cols=1):\n",
    "    html_table = \"<table style='width:100%; border:0px'>{content}</table>\"\n",
    "    html_row = \"<tr style='border:0px'>{content}</tr>\"\n",
    "    html_cell = \"<td style='width:{width}%;vertical-align:top;border:0px'>{{content}}</td>\"\n",
    "    html_cell = html_cell.format(width=100/cols)\n",
    "    cells = [ html_cell.format(content=df.to_html())  ]\n",
    "    cells += (cols - (1%cols)) * [html_cell.format(content=\"\")] # pad\n",
    "    rows = [ html_row.format(content=\"\".join(cells[i:i+cols])) for i in range(0,len(cells),cols)]\n",
    "    return html_table.format(content=\"\".join(rows))"
   ]
  },
  {
   "cell_type": "markdown",
   "metadata": {
    "deletable": true,
    "editable": true,
    "run_control": {
     "frozen": false,
     "read_only": false
    }
   },
   "source": [
    "# <span style=\"color:gray\"> Load and Format Data </span>"
   ]
  },
  {
   "cell_type": "code",
   "execution_count": 2,
   "metadata": {
    "collapsed": true,
    "deletable": true,
    "editable": true,
    "run_control": {
     "frozen": false,
     "read_only": false
    }
   },
   "outputs": [],
   "source": [
    "import pandas as pd\n",
    "DF = pd.DataFrame\n",
    "pd.set_option('display.max_colwidth', -1)\n",
    "\n",
    "import numpy as np\n",
    "import sys\n",
    "from IPython.display import display,HTML\n",
    "\n",
    "import matplotlib.pyplot as plt\n",
    "%matplotlib inline"
   ]
  },
  {
   "cell_type": "code",
   "execution_count": 3,
   "metadata": {
    "collapsed": false,
    "deletable": true,
    "editable": true,
    "run_control": {
     "frozen": false,
     "read_only": false
    }
   },
   "outputs": [
    {
     "data": {
      "text/html": [
       "<div>\n",
       "<style>\n",
       "    .dataframe thead tr:only-child th {\n",
       "        text-align: right;\n",
       "    }\n",
       "\n",
       "    .dataframe thead th {\n",
       "        text-align: left;\n",
       "    }\n",
       "\n",
       "    .dataframe tbody tr th {\n",
       "        vertical-align: top;\n",
       "    }\n",
       "</style>\n",
       "<table border=\"1\" class=\"dataframe\">\n",
       "  <thead>\n",
       "    <tr style=\"text-align: right;\">\n",
       "      <th></th>\n",
       "      <th>index</th>\n",
       "      <th>0</th>\n",
       "      <th>1</th>\n",
       "    </tr>\n",
       "  </thead>\n",
       "  <tbody>\n",
       "    <tr>\n",
       "      <th>0</th>\n",
       "      <td>85</td>\n",
       "      <td>A00127853</td>\n",
       "      <td>162</td>\n",
       "    </tr>\n",
       "    <tr>\n",
       "      <th>1</th>\n",
       "      <td>141</td>\n",
       "      <td>A07061018</td>\n",
       "      <td>142</td>\n",
       "    </tr>\n",
       "    <tr>\n",
       "      <th>2</th>\n",
       "      <td>12</td>\n",
       "      <td>A08001117</td>\n",
       "      <td>125</td>\n",
       "    </tr>\n",
       "    <tr>\n",
       "      <th>3</th>\n",
       "      <td>81</td>\n",
       "      <td>A08937970</td>\n",
       "      <td>73</td>\n",
       "    </tr>\n",
       "    <tr>\n",
       "      <th>4</th>\n",
       "      <td>55</td>\n",
       "      <td>A09141151</td>\n",
       "      <td>14</td>\n",
       "    </tr>\n",
       "    <tr>\n",
       "      <th>5</th>\n",
       "      <td>171</td>\n",
       "      <td>A09240216</td>\n",
       "      <td>95</td>\n",
       "    </tr>\n",
       "    <tr>\n",
       "      <th>6</th>\n",
       "      <td>89</td>\n",
       "      <td>A09739609</td>\n",
       "      <td>4</td>\n",
       "    </tr>\n",
       "    <tr>\n",
       "      <th>7</th>\n",
       "      <td>130</td>\n",
       "      <td>A10566076</td>\n",
       "      <td>40</td>\n",
       "    </tr>\n",
       "    <tr>\n",
       "      <th>8</th>\n",
       "      <td>74</td>\n",
       "      <td>A10660264</td>\n",
       "      <td>60</td>\n",
       "    </tr>\n",
       "    <tr>\n",
       "      <th>9</th>\n",
       "      <td>119</td>\n",
       "      <td>A10743411</td>\n",
       "      <td>126</td>\n",
       "    </tr>\n",
       "    <tr>\n",
       "      <th>10</th>\n",
       "      <td>110</td>\n",
       "      <td>A11302948</td>\n",
       "      <td>121</td>\n",
       "    </tr>\n",
       "    <tr>\n",
       "      <th>11</th>\n",
       "      <td>107</td>\n",
       "      <td>A13291871</td>\n",
       "      <td>72</td>\n",
       "    </tr>\n",
       "    <tr>\n",
       "      <th>12</th>\n",
       "      <td>167</td>\n",
       "      <td>A50054801</td>\n",
       "      <td>75</td>\n",
       "    </tr>\n",
       "    <tr>\n",
       "      <th>13</th>\n",
       "      <td>124</td>\n",
       "      <td>A53048780</td>\n",
       "      <td>53</td>\n",
       "    </tr>\n",
       "    <tr>\n",
       "      <th>14</th>\n",
       "      <td>62</td>\n",
       "      <td>A53058446</td>\n",
       "      <td>109</td>\n",
       "    </tr>\n",
       "    <tr>\n",
       "      <th>15</th>\n",
       "      <td>148</td>\n",
       "      <td>A53060769</td>\n",
       "      <td>118</td>\n",
       "    </tr>\n",
       "    <tr>\n",
       "      <th>16</th>\n",
       "      <td>97</td>\n",
       "      <td>A53070477</td>\n",
       "      <td>115</td>\n",
       "    </tr>\n",
       "    <tr>\n",
       "      <th>17</th>\n",
       "      <td>15</td>\n",
       "      <td>A53070548</td>\n",
       "      <td>177</td>\n",
       "    </tr>\n",
       "    <tr>\n",
       "      <th>18</th>\n",
       "      <td>95</td>\n",
       "      <td>A53080809</td>\n",
       "      <td>90</td>\n",
       "    </tr>\n",
       "    <tr>\n",
       "      <th>19</th>\n",
       "      <td>68</td>\n",
       "      <td>A53088770</td>\n",
       "      <td>49</td>\n",
       "    </tr>\n",
       "    <tr>\n",
       "      <th>20</th>\n",
       "      <td>17</td>\n",
       "      <td>A53089745</td>\n",
       "      <td>154</td>\n",
       "    </tr>\n",
       "    <tr>\n",
       "      <th>21</th>\n",
       "      <td>161</td>\n",
       "      <td>A53090836</td>\n",
       "      <td>169</td>\n",
       "    </tr>\n",
       "    <tr>\n",
       "      <th>22</th>\n",
       "      <td>58</td>\n",
       "      <td>A53091001</td>\n",
       "      <td>85</td>\n",
       "    </tr>\n",
       "    <tr>\n",
       "      <th>23</th>\n",
       "      <td>92</td>\n",
       "      <td>A53091182</td>\n",
       "      <td>22</td>\n",
       "    </tr>\n",
       "    <tr>\n",
       "      <th>24</th>\n",
       "      <td>52</td>\n",
       "      <td>A53091724</td>\n",
       "      <td>119</td>\n",
       "    </tr>\n",
       "    <tr>\n",
       "      <th>25</th>\n",
       "      <td>78</td>\n",
       "      <td>A53096247</td>\n",
       "      <td>63</td>\n",
       "    </tr>\n",
       "    <tr>\n",
       "      <th>26</th>\n",
       "      <td>70</td>\n",
       "      <td>A53097956</td>\n",
       "      <td>152</td>\n",
       "    </tr>\n",
       "    <tr>\n",
       "      <th>27</th>\n",
       "      <td>102</td>\n",
       "      <td>A53104529</td>\n",
       "      <td>68</td>\n",
       "    </tr>\n",
       "    <tr>\n",
       "      <th>28</th>\n",
       "      <td>146</td>\n",
       "      <td>A53105993</td>\n",
       "      <td>31</td>\n",
       "    </tr>\n",
       "    <tr>\n",
       "      <th>29</th>\n",
       "      <td>11</td>\n",
       "      <td>A53200443</td>\n",
       "      <td>113</td>\n",
       "    </tr>\n",
       "    <tr>\n",
       "      <th>...</th>\n",
       "      <td>...</td>\n",
       "      <td>...</td>\n",
       "      <td>...</td>\n",
       "    </tr>\n",
       "    <tr>\n",
       "      <th>149</th>\n",
       "      <td>49</td>\n",
       "      <td>A53222854</td>\n",
       "      <td>117</td>\n",
       "    </tr>\n",
       "    <tr>\n",
       "      <th>150</th>\n",
       "      <td>50</td>\n",
       "      <td>A53222917</td>\n",
       "      <td>47</td>\n",
       "    </tr>\n",
       "    <tr>\n",
       "      <th>151</th>\n",
       "      <td>39</td>\n",
       "      <td>A53223155</td>\n",
       "      <td>8</td>\n",
       "    </tr>\n",
       "    <tr>\n",
       "      <th>152</th>\n",
       "      <td>22</td>\n",
       "      <td>A53223244</td>\n",
       "      <td>57</td>\n",
       "    </tr>\n",
       "    <tr>\n",
       "      <th>153</th>\n",
       "      <td>162</td>\n",
       "      <td>A53224865</td>\n",
       "      <td>6</td>\n",
       "    </tr>\n",
       "    <tr>\n",
       "      <th>154</th>\n",
       "      <td>139</td>\n",
       "      <td>A53225380</td>\n",
       "      <td>83</td>\n",
       "    </tr>\n",
       "    <tr>\n",
       "      <th>155</th>\n",
       "      <td>42</td>\n",
       "      <td>A53225989</td>\n",
       "      <td>3</td>\n",
       "    </tr>\n",
       "    <tr>\n",
       "      <th>156</th>\n",
       "      <td>169</td>\n",
       "      <td>A53226915</td>\n",
       "      <td>146</td>\n",
       "    </tr>\n",
       "    <tr>\n",
       "      <th>157</th>\n",
       "      <td>137</td>\n",
       "      <td>A53227458</td>\n",
       "      <td>9</td>\n",
       "    </tr>\n",
       "    <tr>\n",
       "      <th>158</th>\n",
       "      <td>111</td>\n",
       "      <td>A53227602</td>\n",
       "      <td>50</td>\n",
       "    </tr>\n",
       "    <tr>\n",
       "      <th>159</th>\n",
       "      <td>120</td>\n",
       "      <td>A53227688</td>\n",
       "      <td>45</td>\n",
       "    </tr>\n",
       "    <tr>\n",
       "      <th>160</th>\n",
       "      <td>96</td>\n",
       "      <td>A53227801</td>\n",
       "      <td>171</td>\n",
       "    </tr>\n",
       "    <tr>\n",
       "      <th>161</th>\n",
       "      <td>60</td>\n",
       "      <td>A53227982</td>\n",
       "      <td>84</td>\n",
       "    </tr>\n",
       "    <tr>\n",
       "      <th>162</th>\n",
       "      <td>144</td>\n",
       "      <td>A53228033</td>\n",
       "      <td>160</td>\n",
       "    </tr>\n",
       "    <tr>\n",
       "      <th>163</th>\n",
       "      <td>142</td>\n",
       "      <td>A53228136</td>\n",
       "      <td>23</td>\n",
       "    </tr>\n",
       "    <tr>\n",
       "      <th>164</th>\n",
       "      <td>147</td>\n",
       "      <td>A53228338</td>\n",
       "      <td>172</td>\n",
       "    </tr>\n",
       "    <tr>\n",
       "      <th>165</th>\n",
       "      <td>77</td>\n",
       "      <td>A53228341</td>\n",
       "      <td>44</td>\n",
       "    </tr>\n",
       "    <tr>\n",
       "      <th>166</th>\n",
       "      <td>132</td>\n",
       "      <td>A53228503</td>\n",
       "      <td>76</td>\n",
       "    </tr>\n",
       "    <tr>\n",
       "      <th>167</th>\n",
       "      <td>133</td>\n",
       "      <td>A53228518</td>\n",
       "      <td>145</td>\n",
       "    </tr>\n",
       "    <tr>\n",
       "      <th>168</th>\n",
       "      <td>88</td>\n",
       "      <td>A53228576</td>\n",
       "      <td>2</td>\n",
       "    </tr>\n",
       "    <tr>\n",
       "      <th>169</th>\n",
       "      <td>1</td>\n",
       "      <td>A53228642</td>\n",
       "      <td>11</td>\n",
       "    </tr>\n",
       "    <tr>\n",
       "      <th>170</th>\n",
       "      <td>151</td>\n",
       "      <td>A53228931</td>\n",
       "      <td>61</td>\n",
       "    </tr>\n",
       "    <tr>\n",
       "      <th>171</th>\n",
       "      <td>156</td>\n",
       "      <td>A53229039</td>\n",
       "      <td>98</td>\n",
       "    </tr>\n",
       "    <tr>\n",
       "      <th>172</th>\n",
       "      <td>158</td>\n",
       "      <td>A53229091</td>\n",
       "      <td>62</td>\n",
       "    </tr>\n",
       "    <tr>\n",
       "      <th>173</th>\n",
       "      <td>101</td>\n",
       "      <td>A53229113</td>\n",
       "      <td>175</td>\n",
       "    </tr>\n",
       "    <tr>\n",
       "      <th>174</th>\n",
       "      <td>170</td>\n",
       "      <td>A91066094</td>\n",
       "      <td>110</td>\n",
       "    </tr>\n",
       "    <tr>\n",
       "      <th>175</th>\n",
       "      <td>16</td>\n",
       "      <td>A98005611</td>\n",
       "      <td>96</td>\n",
       "    </tr>\n",
       "    <tr>\n",
       "      <th>176</th>\n",
       "      <td>105</td>\n",
       "      <td>A98022702</td>\n",
       "      <td>107</td>\n",
       "    </tr>\n",
       "    <tr>\n",
       "      <th>177</th>\n",
       "      <td>75</td>\n",
       "      <td>A98099513</td>\n",
       "      <td>15</td>\n",
       "    </tr>\n",
       "    <tr>\n",
       "      <th>178</th>\n",
       "      <td>47</td>\n",
       "      <td>A99048469</td>\n",
       "      <td>82</td>\n",
       "    </tr>\n",
       "  </tbody>\n",
       "</table>\n",
       "<p>179 rows × 3 columns</p>\n",
       "</div>"
      ],
      "text/plain": [
       "     index          0    1\n",
       "0    85     A00127853  162\n",
       "1    141    A07061018  142\n",
       "2    12     A08001117  125\n",
       "3    81     A08937970  73 \n",
       "4    55     A09141151  14 \n",
       "5    171    A09240216  95 \n",
       "6    89     A09739609  4  \n",
       "7    130    A10566076  40 \n",
       "8    74     A10660264  60 \n",
       "9    119    A10743411  126\n",
       "10   110    A11302948  121\n",
       "11   107    A13291871  72 \n",
       "12   167    A50054801  75 \n",
       "13   124    A53048780  53 \n",
       "14   62     A53058446  109\n",
       "15   148    A53060769  118\n",
       "16   97     A53070477  115\n",
       "17   15     A53070548  177\n",
       "18   95     A53080809  90 \n",
       "19   68     A53088770  49 \n",
       "20   17     A53089745  154\n",
       "21   161    A53090836  169\n",
       "22   58     A53091001  85 \n",
       "23   92     A53091182  22 \n",
       "24   52     A53091724  119\n",
       "25   78     A53096247  63 \n",
       "26   70     A53097956  152\n",
       "27   102    A53104529  68 \n",
       "28   146    A53105993  31 \n",
       "29   11     A53200443  113\n",
       "..   ..           ...  ...\n",
       "149  49     A53222854  117\n",
       "150  50     A53222917  47 \n",
       "151  39     A53223155  8  \n",
       "152  22     A53223244  57 \n",
       "153  162    A53224865  6  \n",
       "154  139    A53225380  83 \n",
       "155  42     A53225989  3  \n",
       "156  169    A53226915  146\n",
       "157  137    A53227458  9  \n",
       "158  111    A53227602  50 \n",
       "159  120    A53227688  45 \n",
       "160  96     A53227801  171\n",
       "161  60     A53227982  84 \n",
       "162  144    A53228033  160\n",
       "163  142    A53228136  23 \n",
       "164  147    A53228338  172\n",
       "165  77     A53228341  44 \n",
       "166  132    A53228503  76 \n",
       "167  133    A53228518  145\n",
       "168  88     A53228576  2  \n",
       "169  1      A53228642  11 \n",
       "170  151    A53228931  61 \n",
       "171  156    A53229039  98 \n",
       "172  158    A53229091  62 \n",
       "173  101    A53229113  175\n",
       "174  170    A91066094  110\n",
       "175  16     A98005611  96 \n",
       "176  105    A98022702  107\n",
       "177  75     A98099513  15 \n",
       "178  47     A99048469  82 \n",
       "\n",
       "[179 rows x 3 columns]"
      ]
     },
     "execution_count": 3,
     "metadata": {},
     "output_type": "execute_result"
    }
   ],
   "source": [
    "id_map = pd.read_csv(\"student-random-number.csv\", header=None).sort_values([0]).reset_index()\n",
    "id_map"
   ]
  },
  {
   "cell_type": "code",
   "execution_count": 4,
   "metadata": {
    "collapsed": false,
    "deletable": true,
    "editable": true,
    "run_control": {
     "frozen": false,
     "read_only": false
    }
   },
   "outputs": [
    {
     "data": {
      "text/html": [
       "<div>\n",
       "<style>\n",
       "    .dataframe thead tr:only-child th {\n",
       "        text-align: right;\n",
       "    }\n",
       "\n",
       "    .dataframe thead th {\n",
       "        text-align: left;\n",
       "    }\n",
       "\n",
       "    .dataframe tbody tr th {\n",
       "        vertical-align: top;\n",
       "    }\n",
       "</style>\n",
       "<table border=\"1\" class=\"dataframe\">\n",
       "  <thead>\n",
       "    <tr style=\"text-align: right;\">\n",
       "      <th></th>\n",
       "      <th>student_pid</th>\n",
       "      <th>group_id</th>\n",
       "      <th>id_num</th>\n",
       "    </tr>\n",
       "  </thead>\n",
       "  <tbody>\n",
       "    <tr>\n",
       "      <th>0</th>\n",
       "      <td>A00127853</td>\n",
       "      <td>29</td>\n",
       "      <td>162</td>\n",
       "    </tr>\n",
       "    <tr>\n",
       "      <th>1</th>\n",
       "      <td>A07061018</td>\n",
       "      <td>18</td>\n",
       "      <td>142</td>\n",
       "    </tr>\n",
       "    <tr>\n",
       "      <th>2</th>\n",
       "      <td>A08001117</td>\n",
       "      <td>20</td>\n",
       "      <td>125</td>\n",
       "    </tr>\n",
       "    <tr>\n",
       "      <th>3</th>\n",
       "      <td>A08937970</td>\n",
       "      <td>11</td>\n",
       "      <td>73</td>\n",
       "    </tr>\n",
       "    <tr>\n",
       "      <th>4</th>\n",
       "      <td>A09141151</td>\n",
       "      <td>13</td>\n",
       "      <td>14</td>\n",
       "    </tr>\n",
       "    <tr>\n",
       "      <th>5</th>\n",
       "      <td>A09240216</td>\n",
       "      <td>20</td>\n",
       "      <td>95</td>\n",
       "    </tr>\n",
       "    <tr>\n",
       "      <th>6</th>\n",
       "      <td>A09739609</td>\n",
       "      <td>22</td>\n",
       "      <td>4</td>\n",
       "    </tr>\n",
       "    <tr>\n",
       "      <th>7</th>\n",
       "      <td>A10566076</td>\n",
       "      <td>28</td>\n",
       "      <td>40</td>\n",
       "    </tr>\n",
       "    <tr>\n",
       "      <th>8</th>\n",
       "      <td>A10660264</td>\n",
       "      <td>14</td>\n",
       "      <td>60</td>\n",
       "    </tr>\n",
       "    <tr>\n",
       "      <th>9</th>\n",
       "      <td>A10743411</td>\n",
       "      <td>11</td>\n",
       "      <td>126</td>\n",
       "    </tr>\n",
       "    <tr>\n",
       "      <th>10</th>\n",
       "      <td>A11302948</td>\n",
       "      <td>7</td>\n",
       "      <td>121</td>\n",
       "    </tr>\n",
       "    <tr>\n",
       "      <th>11</th>\n",
       "      <td>A13291871</td>\n",
       "      <td>14</td>\n",
       "      <td>72</td>\n",
       "    </tr>\n",
       "    <tr>\n",
       "      <th>12</th>\n",
       "      <td>A50054801</td>\n",
       "      <td>25</td>\n",
       "      <td>75</td>\n",
       "    </tr>\n",
       "    <tr>\n",
       "      <th>13</th>\n",
       "      <td>A53048780</td>\n",
       "      <td>29</td>\n",
       "      <td>53</td>\n",
       "    </tr>\n",
       "    <tr>\n",
       "      <th>14</th>\n",
       "      <td>A53058446</td>\n",
       "      <td>12</td>\n",
       "      <td>109</td>\n",
       "    </tr>\n",
       "    <tr>\n",
       "      <th>15</th>\n",
       "      <td>A53060769</td>\n",
       "      <td>17</td>\n",
       "      <td>118</td>\n",
       "    </tr>\n",
       "    <tr>\n",
       "      <th>16</th>\n",
       "      <td>A53070477</td>\n",
       "      <td>21</td>\n",
       "      <td>115</td>\n",
       "    </tr>\n",
       "    <tr>\n",
       "      <th>17</th>\n",
       "      <td>A53070548</td>\n",
       "      <td>15</td>\n",
       "      <td>177</td>\n",
       "    </tr>\n",
       "    <tr>\n",
       "      <th>18</th>\n",
       "      <td>A53080809</td>\n",
       "      <td>14</td>\n",
       "      <td>90</td>\n",
       "    </tr>\n",
       "    <tr>\n",
       "      <th>19</th>\n",
       "      <td>A53088770</td>\n",
       "      <td>14</td>\n",
       "      <td>49</td>\n",
       "    </tr>\n",
       "    <tr>\n",
       "      <th>20</th>\n",
       "      <td>A53089745</td>\n",
       "      <td>30</td>\n",
       "      <td>154</td>\n",
       "    </tr>\n",
       "    <tr>\n",
       "      <th>21</th>\n",
       "      <td>A53090836</td>\n",
       "      <td>12</td>\n",
       "      <td>169</td>\n",
       "    </tr>\n",
       "    <tr>\n",
       "      <th>22</th>\n",
       "      <td>A53091001</td>\n",
       "      <td>4</td>\n",
       "      <td>85</td>\n",
       "    </tr>\n",
       "    <tr>\n",
       "      <th>23</th>\n",
       "      <td>A53091182</td>\n",
       "      <td>6</td>\n",
       "      <td>22</td>\n",
       "    </tr>\n",
       "    <tr>\n",
       "      <th>24</th>\n",
       "      <td>A53091724</td>\n",
       "      <td>16</td>\n",
       "      <td>119</td>\n",
       "    </tr>\n",
       "    <tr>\n",
       "      <th>25</th>\n",
       "      <td>A53096247</td>\n",
       "      <td>17</td>\n",
       "      <td>63</td>\n",
       "    </tr>\n",
       "    <tr>\n",
       "      <th>26</th>\n",
       "      <td>A53097956</td>\n",
       "      <td>28</td>\n",
       "      <td>152</td>\n",
       "    </tr>\n",
       "    <tr>\n",
       "      <th>27</th>\n",
       "      <td>A53104529</td>\n",
       "      <td>16</td>\n",
       "      <td>68</td>\n",
       "    </tr>\n",
       "    <tr>\n",
       "      <th>28</th>\n",
       "      <td>A53105993</td>\n",
       "      <td>30</td>\n",
       "      <td>31</td>\n",
       "    </tr>\n",
       "    <tr>\n",
       "      <th>29</th>\n",
       "      <td>A53200443</td>\n",
       "      <td>27</td>\n",
       "      <td>113</td>\n",
       "    </tr>\n",
       "    <tr>\n",
       "      <th>...</th>\n",
       "      <td>...</td>\n",
       "      <td>...</td>\n",
       "      <td>...</td>\n",
       "    </tr>\n",
       "    <tr>\n",
       "      <th>149</th>\n",
       "      <td>A53222854</td>\n",
       "      <td>3</td>\n",
       "      <td>117</td>\n",
       "    </tr>\n",
       "    <tr>\n",
       "      <th>150</th>\n",
       "      <td>A53222917</td>\n",
       "      <td>4</td>\n",
       "      <td>47</td>\n",
       "    </tr>\n",
       "    <tr>\n",
       "      <th>151</th>\n",
       "      <td>A53223155</td>\n",
       "      <td>29</td>\n",
       "      <td>8</td>\n",
       "    </tr>\n",
       "    <tr>\n",
       "      <th>152</th>\n",
       "      <td>A53223244</td>\n",
       "      <td>4</td>\n",
       "      <td>57</td>\n",
       "    </tr>\n",
       "    <tr>\n",
       "      <th>153</th>\n",
       "      <td>A53224865</td>\n",
       "      <td>27</td>\n",
       "      <td>6</td>\n",
       "    </tr>\n",
       "    <tr>\n",
       "      <th>154</th>\n",
       "      <td>A53225380</td>\n",
       "      <td>8</td>\n",
       "      <td>83</td>\n",
       "    </tr>\n",
       "    <tr>\n",
       "      <th>155</th>\n",
       "      <td>A53225989</td>\n",
       "      <td>21</td>\n",
       "      <td>3</td>\n",
       "    </tr>\n",
       "    <tr>\n",
       "      <th>156</th>\n",
       "      <td>A53226915</td>\n",
       "      <td>27</td>\n",
       "      <td>146</td>\n",
       "    </tr>\n",
       "    <tr>\n",
       "      <th>157</th>\n",
       "      <td>A53227458</td>\n",
       "      <td>18</td>\n",
       "      <td>9</td>\n",
       "    </tr>\n",
       "    <tr>\n",
       "      <th>158</th>\n",
       "      <td>A53227602</td>\n",
       "      <td>24</td>\n",
       "      <td>50</td>\n",
       "    </tr>\n",
       "    <tr>\n",
       "      <th>159</th>\n",
       "      <td>A53227688</td>\n",
       "      <td>6</td>\n",
       "      <td>45</td>\n",
       "    </tr>\n",
       "    <tr>\n",
       "      <th>160</th>\n",
       "      <td>A53227801</td>\n",
       "      <td>3</td>\n",
       "      <td>171</td>\n",
       "    </tr>\n",
       "    <tr>\n",
       "      <th>161</th>\n",
       "      <td>A53227982</td>\n",
       "      <td>14</td>\n",
       "      <td>84</td>\n",
       "    </tr>\n",
       "    <tr>\n",
       "      <th>162</th>\n",
       "      <td>A53228033</td>\n",
       "      <td>6</td>\n",
       "      <td>160</td>\n",
       "    </tr>\n",
       "    <tr>\n",
       "      <th>163</th>\n",
       "      <td>A53228136</td>\n",
       "      <td>26</td>\n",
       "      <td>23</td>\n",
       "    </tr>\n",
       "    <tr>\n",
       "      <th>164</th>\n",
       "      <td>A53228338</td>\n",
       "      <td>13</td>\n",
       "      <td>172</td>\n",
       "    </tr>\n",
       "    <tr>\n",
       "      <th>165</th>\n",
       "      <td>A53228341</td>\n",
       "      <td>19</td>\n",
       "      <td>44</td>\n",
       "    </tr>\n",
       "    <tr>\n",
       "      <th>166</th>\n",
       "      <td>A53228503</td>\n",
       "      <td>15</td>\n",
       "      <td>76</td>\n",
       "    </tr>\n",
       "    <tr>\n",
       "      <th>167</th>\n",
       "      <td>A53228518</td>\n",
       "      <td>27</td>\n",
       "      <td>145</td>\n",
       "    </tr>\n",
       "    <tr>\n",
       "      <th>168</th>\n",
       "      <td>A53228576</td>\n",
       "      <td>20</td>\n",
       "      <td>2</td>\n",
       "    </tr>\n",
       "    <tr>\n",
       "      <th>169</th>\n",
       "      <td>A53228642</td>\n",
       "      <td>7</td>\n",
       "      <td>11</td>\n",
       "    </tr>\n",
       "    <tr>\n",
       "      <th>170</th>\n",
       "      <td>A53228931</td>\n",
       "      <td>8</td>\n",
       "      <td>61</td>\n",
       "    </tr>\n",
       "    <tr>\n",
       "      <th>171</th>\n",
       "      <td>A53229039</td>\n",
       "      <td>22</td>\n",
       "      <td>98</td>\n",
       "    </tr>\n",
       "    <tr>\n",
       "      <th>172</th>\n",
       "      <td>A53229091</td>\n",
       "      <td>13</td>\n",
       "      <td>62</td>\n",
       "    </tr>\n",
       "    <tr>\n",
       "      <th>173</th>\n",
       "      <td>A53229113</td>\n",
       "      <td>27</td>\n",
       "      <td>175</td>\n",
       "    </tr>\n",
       "    <tr>\n",
       "      <th>174</th>\n",
       "      <td>A91066094</td>\n",
       "      <td>12</td>\n",
       "      <td>110</td>\n",
       "    </tr>\n",
       "    <tr>\n",
       "      <th>175</th>\n",
       "      <td>A98005611</td>\n",
       "      <td>18</td>\n",
       "      <td>96</td>\n",
       "    </tr>\n",
       "    <tr>\n",
       "      <th>176</th>\n",
       "      <td>A98022702</td>\n",
       "      <td>10</td>\n",
       "      <td>107</td>\n",
       "    </tr>\n",
       "    <tr>\n",
       "      <th>177</th>\n",
       "      <td>A98099513</td>\n",
       "      <td>1</td>\n",
       "      <td>15</td>\n",
       "    </tr>\n",
       "    <tr>\n",
       "      <th>178</th>\n",
       "      <td>A99048469</td>\n",
       "      <td>26</td>\n",
       "      <td>82</td>\n",
       "    </tr>\n",
       "  </tbody>\n",
       "</table>\n",
       "<p>179 rows × 3 columns</p>\n",
       "</div>"
      ],
      "text/plain": [
       "    student_pid  group_id  id_num\n",
       "0    A00127853   29        162   \n",
       "1    A07061018   18        142   \n",
       "2    A08001117   20        125   \n",
       "3    A08937970   11        73    \n",
       "4    A09141151   13        14    \n",
       "5    A09240216   20        95    \n",
       "6    A09739609   22        4     \n",
       "7    A10566076   28        40    \n",
       "8    A10660264   14        60    \n",
       "9    A10743411   11        126   \n",
       "10   A11302948   7         121   \n",
       "11   A13291871   14        72    \n",
       "12   A50054801   25        75    \n",
       "13   A53048780   29        53    \n",
       "14   A53058446   12        109   \n",
       "15   A53060769   17        118   \n",
       "16   A53070477   21        115   \n",
       "17   A53070548   15        177   \n",
       "18   A53080809   14        90    \n",
       "19   A53088770   14        49    \n",
       "20   A53089745   30        154   \n",
       "21   A53090836   12        169   \n",
       "22   A53091001   4         85    \n",
       "23   A53091182   6         22    \n",
       "24   A53091724   16        119   \n",
       "25   A53096247   17        63    \n",
       "26   A53097956   28        152   \n",
       "27   A53104529   16        68    \n",
       "28   A53105993   30        31    \n",
       "29   A53200443   27        113   \n",
       "..         ...   ..        ...   \n",
       "149  A53222854   3         117   \n",
       "150  A53222917   4         47    \n",
       "151  A53223155   29        8     \n",
       "152  A53223244   4         57    \n",
       "153  A53224865   27        6     \n",
       "154  A53225380   8         83    \n",
       "155  A53225989   21        3     \n",
       "156  A53226915   27        146   \n",
       "157  A53227458   18        9     \n",
       "158  A53227602   24        50    \n",
       "159  A53227688   6         45    \n",
       "160  A53227801   3         171   \n",
       "161  A53227982   14        84    \n",
       "162  A53228033   6         160   \n",
       "163  A53228136   26        23    \n",
       "164  A53228338   13        172   \n",
       "165  A53228341   19        44    \n",
       "166  A53228503   15        76    \n",
       "167  A53228518   27        145   \n",
       "168  A53228576   20        2     \n",
       "169  A53228642   7         11    \n",
       "170  A53228931   8         61    \n",
       "171  A53229039   22        98    \n",
       "172  A53229091   13        62    \n",
       "173  A53229113   27        175   \n",
       "174  A91066094   12        110   \n",
       "175  A98005611   18        96    \n",
       "176  A98022702   10        107   \n",
       "177  A98099513   1         15    \n",
       "178  A99048469   26        82    \n",
       "\n",
       "[179 rows x 3 columns]"
      ]
     },
     "execution_count": 4,
     "metadata": {},
     "output_type": "execute_result"
    }
   ],
   "source": [
    "region_map = pd.read_csv('student-pid-group.csv').sort_values([\"student_pid\"]).reset_index()\n",
    "region_map.columns = ['temp','student_pid', 'group_id']\n",
    "region_map = region_map[[\"student_pid\",\"group_id\"]]\n",
    "region_map[\"id_num\"]= id_map[1]\n",
    "region_map"
   ]
  },
  {
   "cell_type": "markdown",
   "metadata": {
    "deletable": true,
    "editable": true,
    "run_control": {
     "frozen": false,
     "read_only": false
    }
   },
   "source": [
    "we use the group_map to add region lables to the region_map dataframe."
   ]
  },
  {
   "cell_type": "code",
   "execution_count": 5,
   "metadata": {
    "collapsed": true,
    "deletable": true,
    "editable": true,
    "run_control": {
     "frozen": false,
     "read_only": false
    }
   },
   "outputs": [],
   "source": [
    "group_map = pd.read_csv(\"student-pid-dataset.csv\")\n",
    "\n",
    "regions = []\n",
    "for s in region_map[\"student_pid\"].values:\n",
    "    region = group_map[ group_map[\"student_pid\"]==s ][\" dataset_id\"].values[0]\n",
    "    regions.append(region)\n",
    "\n",
    "region_map[\"region\"]= regions"
   ]
  },
  {
   "cell_type": "markdown",
   "metadata": {
    "deletable": true,
    "editable": true,
    "run_control": {
     "frozen": false,
     "read_only": false
    }
   },
   "source": [
    "df is the name of the big dataset that most of the small datasets are created out of. Below we create df"
   ]
  },
  {
   "cell_type": "code",
   "execution_count": 6,
   "metadata": {
    "collapsed": false,
    "deletable": true,
    "editable": true,
    "run_control": {
     "frozen": false,
     "read_only": false
    }
   },
   "outputs": [],
   "source": [
    "df = pd.read_csv('data.csv')\n",
    "\n",
    "id_nums = []\n",
    "for pid in df[\"pid\"].values :\n",
    "    id_num = id_map[id_map[0]==pid][1].values[0]\n",
    "    id_nums.append( id_num )\n",
    "df[\"id_num\"]= id_nums\n",
    "\n",
    "region_ids = []\n",
    "for name in df[\"pid\"].values:\n",
    "    region_ids.append( region_map[region_map[\"student_pid\"]==name][\"group_id\"].values[0] )\n",
    "df[\"region_num\"]=region_ids\n",
    "\n",
    "data = df[[\"pid\",\"id1_1\",\"id2_1\",\"region1\",\"rigor1\",\"signif1\",\"orig1\",\"present1\",\n",
    "           \"id1_2\",\"id2_2\",\"region2\",\"rigor2\",\"signif2\",\"orig2\",\"present2\",\n",
    "           \"id1_3\",\"id2_3\",\"region3\",\"rigor3\",\"signif3\",\"orig3\",\"present3\",\n",
    "           \"id1_4\",\"id2_4\",\"region4\",\"rigor4\",\"signif4\",\"orig4\",\"present4\",\n",
    "           \"id1_5\",\"id2_5\",\"region5\",\"rigor5\",\"signif5\",\"orig5\",\"present5\",\"id_num\",\"region_num\"]]"
   ]
  },
  {
   "cell_type": "code",
   "execution_count": 7,
   "metadata": {
    "collapsed": false,
    "deletable": true,
    "editable": true,
    "run_control": {
     "frozen": false,
     "read_only": false
    }
   },
   "outputs": [
    {
     "data": {
      "text/html": [
       "<div>\n",
       "<style>\n",
       "    .dataframe thead tr:only-child th {\n",
       "        text-align: right;\n",
       "    }\n",
       "\n",
       "    .dataframe thead th {\n",
       "        text-align: left;\n",
       "    }\n",
       "\n",
       "    .dataframe tbody tr th {\n",
       "        vertical-align: top;\n",
       "    }\n",
       "</style>\n",
       "<table border=\"1\" class=\"dataframe\">\n",
       "  <thead>\n",
       "    <tr style=\"text-align: right;\">\n",
       "      <th></th>\n",
       "      <th>time</th>\n",
       "      <th>name</th>\n",
       "      <th>pid</th>\n",
       "      <th>id1_1</th>\n",
       "      <th>id2_1</th>\n",
       "      <th>region1</th>\n",
       "      <th>rigor1</th>\n",
       "      <th>rigor1_notes</th>\n",
       "      <th>signif1</th>\n",
       "      <th>signif1_notes</th>\n",
       "      <th>...</th>\n",
       "      <th>rigor5</th>\n",
       "      <th>rigor5_notes</th>\n",
       "      <th>signif5</th>\n",
       "      <th>signif5_notes</th>\n",
       "      <th>orig5</th>\n",
       "      <th>orig5_notes</th>\n",
       "      <th>present5</th>\n",
       "      <th>present5_notes</th>\n",
       "      <th>id_num</th>\n",
       "      <th>region_num</th>\n",
       "    </tr>\n",
       "  </thead>\n",
       "  <tbody>\n",
       "    <tr>\n",
       "      <th>0</th>\n",
       "      <td>5/16/2017 22:23:00</td>\n",
       "      <td>Lifan Chen</td>\n",
       "      <td>A53223155</td>\n",
       "      <td>148</td>\n",
       "      <td>68</td>\n",
       "      <td>SSSSBSBB</td>\n",
       "      <td>Submission 1</td>\n",
       "      <td>NaN</td>\n",
       "      <td>Submission 1</td>\n",
       "      <td>NaN</td>\n",
       "      <td>...</td>\n",
       "      <td>Submission 1</td>\n",
       "      <td>NaN</td>\n",
       "      <td>Submission 1</td>\n",
       "      <td>NaN</td>\n",
       "      <td>Submission 1</td>\n",
       "      <td>NaN</td>\n",
       "      <td>Submission 1</td>\n",
       "      <td>NaN</td>\n",
       "      <td>8</td>\n",
       "      <td>29</td>\n",
       "    </tr>\n",
       "    <tr>\n",
       "      <th>1</th>\n",
       "      <td>5/16/2017 22:59:00</td>\n",
       "      <td>Jian Li</td>\n",
       "      <td>A53219654</td>\n",
       "      <td>84</td>\n",
       "      <td>49</td>\n",
       "      <td>SSSBSBBS</td>\n",
       "      <td>Equal Rigor</td>\n",
       "      <td>NaN</td>\n",
       "      <td>Submission 1</td>\n",
       "      <td>NaN</td>\n",
       "      <td>...</td>\n",
       "      <td>Equal Rigor</td>\n",
       "      <td>NaN</td>\n",
       "      <td>Submission 1</td>\n",
       "      <td>NaN</td>\n",
       "      <td>Submission 1</td>\n",
       "      <td>NaN</td>\n",
       "      <td>Equal Presentation</td>\n",
       "      <td>NaN</td>\n",
       "      <td>137</td>\n",
       "      <td>16</td>\n",
       "    </tr>\n",
       "  </tbody>\n",
       "</table>\n",
       "<p>2 rows × 60 columns</p>\n",
       "</div>"
      ],
      "text/plain": [
       "                 time        name        pid  id1_1  id2_1   region1  \\\n",
       "0  5/16/2017 22:23:00  Lifan Chen  A53223155  148    68     SSSSBSBB   \n",
       "1  5/16/2017 22:59:00  Jian Li     A53219654  84     49     SSSBSBBS   \n",
       "\n",
       "         rigor1 rigor1_notes       signif1 signif1_notes    ...      \\\n",
       "0  Submission 1  NaN          Submission 1  NaN             ...       \n",
       "1  Equal Rigor   NaN          Submission 1  NaN             ...       \n",
       "\n",
       "         rigor5 rigor5_notes       signif5 signif5_notes         orig5  \\\n",
       "0  Submission 1  NaN          Submission 1  NaN           Submission 1   \n",
       "1  Equal Rigor   NaN          Submission 1  NaN           Submission 1   \n",
       "\n",
       "   orig5_notes            present5 present5_notes id_num region_num  \n",
       "0  NaN          Submission 1        NaN            8      29         \n",
       "1  NaN          Equal Presentation  NaN            137    16         \n",
       "\n",
       "[2 rows x 60 columns]"
      ]
     },
     "execution_count": 7,
     "metadata": {},
     "output_type": "execute_result"
    }
   ],
   "source": [
    "df.head(2)"
   ]
  },
  {
   "cell_type": "code",
   "execution_count": 8,
   "metadata": {
    "collapsed": false,
    "deletable": true,
    "editable": true,
    "run_control": {
     "frozen": false,
     "read_only": false
    }
   },
   "outputs": [
    {
     "name": "stdout",
     "output_type": "stream",
     "text": [
      "all columns that exist in original data frame\n"
     ]
    },
    {
     "data": {
      "text/plain": [
       "Index([u'time', u'name', u'pid', u'id1_1', u'id2_1', u'region1', u'rigor1',\n",
       "       u'rigor1_notes', u'signif1', u'signif1_notes', u'orig1', u'orig1_notes',\n",
       "       u'present1', u'present1_notes', u'id1_2', u'id2_2', u'region2',\n",
       "       u'rigor2', u'rigor2_notes', u'signif2', u'signif2_notes', u'orig2',\n",
       "       u'orig2_notes', u'present2', u'present2_notes', u'id1_3', u'id2_3',\n",
       "       u'region3', u'rigor3', u'rigor3_notes', u'signif3', u'signif3_notes',\n",
       "       u'orig3', u'orig3_notes', u'present3', u'present3_notes', u'id1_4',\n",
       "       u'id2_4', u'region4', u'rigor4', u'rigor4_notes', u'signif4',\n",
       "       u'signif4_notes', u'orig4', u'orig4_notes', u'present4',\n",
       "       u'present4_notes', u'id1_5', u'id2_5', u'region5', u'rigor5',\n",
       "       u'rigor5_notes', u'signif5', u'signif5_notes', u'orig5', u'orig5_notes',\n",
       "       u'present5', u'present5_notes', u'id_num', u'region_num'],\n",
       "      dtype='object')"
      ]
     },
     "execution_count": 8,
     "metadata": {},
     "output_type": "execute_result"
    }
   ],
   "source": [
    "print \"all columns that exist in original data frame\"\n",
    "df.columns"
   ]
  },
  {
   "cell_type": "code",
   "execution_count": 9,
   "metadata": {
    "collapsed": true,
    "deletable": true,
    "editable": true,
    "run_control": {
     "frozen": false,
     "read_only": false
    }
   },
   "outputs": [],
   "source": [
    "data_stacked = DF()\n",
    "nums = [\"1\",\"2\",\"3\",\"4\",\"5\"]\n",
    "for i in nums:\n",
    "    data_small = df[[\"pid\",\"id_num\",\"region_num\",\"id1_\"+i,\"id2_\"+i,\"region\"+i,\"rigor\"+i,\"signif\"+i,\"orig\"+i,\"present\"+i,\n",
    "                    \"rigor\"+i+\"_notes\",\"signif\"+i+\"_notes\",\"orig\"+i+\"_notes\",\"present\"+i+\"_notes\"]]\n",
    "    data_small.columns=[\"pid\",\"id_num\",\"region_num\",\"id1\",\"id2\",\"region\",\"rigor\",\"signif\",\"orig\",\"present\",\n",
    "                       \"rigor_notes\",\"signif_notes\",\"orig_notes\",\"present_notes\"]\n",
    "    data_stacked = data_stacked.append(data_small)"
   ]
  },
  {
   "cell_type": "code",
   "execution_count": 10,
   "metadata": {
    "collapsed": false,
    "deletable": true,
    "editable": true,
    "run_control": {
     "frozen": false,
     "read_only": false
    }
   },
   "outputs": [
    {
     "data": {
      "text/plain": [
       "{'Equal Rigor',\n",
       " 'One or Two Missing Submission',\n",
       " 'Submission 1',\n",
       " 'Submission 2'}"
      ]
     },
     "execution_count": 10,
     "metadata": {},
     "output_type": "execute_result"
    }
   ],
   "source": [
    "# useful command with \"set\"\n",
    "set(data[\"rigor1\"].values)"
   ]
  },
  {
   "cell_type": "markdown",
   "metadata": {
    "deletable": true,
    "editable": true,
    "heading_collapsed": true,
    "run_control": {
     "frozen": false,
     "read_only": false
    }
   },
   "source": [
    "# Compute Students' Scores"
   ]
  },
  {
   "cell_type": "markdown",
   "metadata": {
    "deletable": true,
    "editable": true,
    "hidden": true,
    "run_control": {
     "frozen": false,
     "read_only": false
    }
   },
   "source": [
    "This code computes student's scores:"
   ]
  },
  {
   "cell_type": "code",
   "execution_count": 11,
   "metadata": {
    "collapsed": false,
    "deletable": true,
    "editable": true,
    "hidden": true,
    "run_control": {
     "frozen": false,
     "read_only": false
    }
   },
   "outputs": [],
   "source": [
    "ids = [[\"1\",\"2\"],[\"2\",\"1\"]]\n",
    "nums = [\"1\",\"2\",\"3\",\"4\",\"5\"]\n",
    "results = []\n",
    "lengths = []\n",
    "\n",
    "for i in range(1,180):\n",
    "    length,count = 0,0\n",
    "    for id in ids:\n",
    "        for num in nums:\n",
    "            df_small= data[data[\"id\"+id[0]+\"_\"+num]==i]\n",
    "            count += DF(df_small[[\"rigor\"+num,\"signif\"+num,\"orig\"+num,\"present\"+num]]==\"Submission \"+id[0]).sum().sum()\n",
    "            count -= DF(df_small[[\"rigor\"+num,\"signif\"+num,\"orig\"+num,\"present\"+num]]==\"Submission \"+id[1]).sum().sum()\n",
    "            \n",
    "            aWord= \"One or Two Missing Submission\"\n",
    "            noShow = DF(df_small[[\"rigor\"+num,\"signif\"+num,\"orig\"+num,\"present\"+num]]== aWord ).sum().sum()\n",
    "            length += ((df_small.shape[0]*4) - noShow)/4\n",
    "            \n",
    "    results.append(count)\n",
    "    lengths.append(length)\n",
    "student_scores = np.array(results)/ np.array(lengths)\n",
    "#print \"Results:\" #print results #print \"\\nLengths\" #print lengths #print\"\\nstudent_scores\" #print student_scores"
   ]
  },
  {
   "cell_type": "markdown",
   "metadata": {
    "deletable": true,
    "editable": true,
    "hidden": true,
    "run_control": {
     "frozen": false,
     "read_only": false
    }
   },
   "source": [
    "Below are some basic statistics:"
   ]
  },
  {
   "cell_type": "code",
   "execution_count": 12,
   "metadata": {
    "collapsed": false,
    "deletable": true,
    "editable": true,
    "hidden": true,
    "run_control": {
     "frozen": false,
     "read_only": false
    }
   },
   "outputs": [
    {
     "name": "stdout",
     "output_type": "stream",
     "text": [
      "Min grade: -4.0\n",
      "Max grade: 3.3\n",
      "mean grade: -0.105885873903\n"
     ]
    }
   ],
   "source": [
    "print \"Min grade: \"+str( min(student_scores) )\n",
    "print \"Max grade: \"+str( max(student_scores) ) \n",
    "print \"mean grade: \"+str( np.mean(student_scores) )  "
   ]
  },
  {
   "cell_type": "markdown",
   "metadata": {
    "deletable": true,
    "editable": true,
    "hidden": true,
    "run_control": {
     "frozen": false,
     "read_only": false
    }
   },
   "source": [
    "Below is a histogram of student scores. Mean shifts to a negative number after taking into account that some notebooks are empty."
   ]
  },
  {
   "cell_type": "code",
   "execution_count": 13,
   "metadata": {
    "collapsed": false,
    "deletable": true,
    "editable": true,
    "hidden": true,
    "run_control": {
     "frozen": false,
     "read_only": false
    }
   },
   "outputs": [
    {
     "data": {
      "text/plain": [
       "(array([ 10.,   5.,  14.,  23.,  25.,  30.,  22.,  28.,  12.,  10.]),\n",
       " array([-4.  , -3.27, -2.54, -1.81, -1.08, -0.35,  0.38,  1.11,  1.84,\n",
       "         2.57,  3.3 ]),\n",
       " <a list of 10 Patch objects>)"
      ]
     },
     "execution_count": 13,
     "metadata": {},
     "output_type": "execute_result"
    },
    {
     "data": {
      "image/png": "[encoded data removed]",
      "text/plain": [
       "<matplotlib.figure.Figure at 0x7f0440e320d0>"
      ]
     },
     "metadata": {},
     "output_type": "display_data"
    }
   ],
   "source": [
    "plt.hist(student_scores)"
   ]
  },
  {
   "cell_type": "markdown",
   "metadata": {
    "deletable": true,
    "editable": true,
    "hidden": true,
    "run_control": {
     "frozen": false,
     "read_only": false
    }
   },
   "source": [
    "We create a dataframe called student_info by adding student_scores to region_map"
   ]
  },
  {
   "cell_type": "code",
   "execution_count": 14,
   "metadata": {
    "collapsed": false,
    "deletable": true,
    "editable": true,
    "hidden": true,
    "run_control": {
     "frozen": false,
     "read_only": false
    }
   },
   "outputs": [],
   "source": [
    "region_map.sort_values([\"id_num\"], inplace=True)\n",
    "region_map[\"score\"] = student_scores\n",
    "\n",
    "region_map.reset_index(inplace=True)\n",
    "del region_map[\"index\"]\n",
    "student_info = region_map"
   ]
  },
  {
   "cell_type": "markdown",
   "metadata": {
    "deletable": true,
    "editable": true,
    "hidden": true,
    "run_control": {
     "frozen": false,
     "read_only": false
    }
   },
   "source": [
    "We add two columns to **student_info**, these will be used later when we create html documents\n",
    "* id_num2\n",
    "* id_html\n",
    "\n"
   ]
  },
  {
   "cell_type": "code",
   "execution_count": 15,
   "metadata": {
    "collapsed": true,
    "deletable": true,
    "editable": true,
    "hidden": true,
    "run_control": {
     "frozen": false,
     "read_only": false
    }
   },
   "outputs": [],
   "source": [
    "nums = [] #<-- # this block creates an array where the id numbers are in the correct format for a hyperlink\n",
    "for num in student_info[\"id_num\"].astype(str):\n",
    "    while len(num)< 3: num = \"0\"+num\n",
    "    nums.append(num)\n",
    "student_info[\"id_num2\"] = np.array(nums)\n",
    "\n",
    "# this block creates the id_html column, which has a hyperlink to the students submission \n",
    "student_info[\"id_html\"] = \"<a href='https://github.com/ucsd-edx/CSE255-DSE230-Grading/tree/master/\"+\\\n",
    "                            student_info[\"id_num2\"]+\"'>\"+student_info[\"student_pid\"]+\"</a>\" "
   ]
  },
  {
   "cell_type": "markdown",
   "metadata": {
    "deletable": true,
    "editable": true,
    "run_control": {
     "frozen": false,
     "read_only": false
    }
   },
   "source": [
    "# Finding Missing Notebooks"
   ]
  },
  {
   "cell_type": "markdown",
   "metadata": {
    "deletable": true,
    "editable": true,
    "run_control": {
     "frozen": false,
     "read_only": false
    }
   },
   "source": [
    "We use the following code to find all missing submissions."
   ]
  },
  {
   "cell_type": "code",
   "execution_count": 16,
   "metadata": {
    "collapsed": false,
    "deletable": true,
    "editable": true,
    "run_control": {
     "frozen": false,
     "read_only": false
    }
   },
   "outputs": [],
   "source": [
    "aWord= \"One or Two Missing Submission\"\n",
    "check1 = data_stacked[\"rigor\"]   == aWord\n",
    "check2 = data_stacked[\"signif\"]  == aWord \n",
    "check3 = data_stacked[\"orig\"]    == aWord \n",
    "check4 = data_stacked[\"present\"] == aWord \n",
    "\n",
    "data_missing = data_stacked[check1 | check2 | check3 | check4]\n",
    "data_missing.reset_index(inplace=True, drop=True)"
   ]
  },
  {
   "cell_type": "code",
   "execution_count": 30,
   "metadata": {
    "collapsed": false,
    "deletable": true,
    "editable": true,
    "run_control": {
     "frozen": false,
     "read_only": false
    }
   },
   "outputs": [
    {
     "name": "stdout",
     "output_type": "stream",
     "text": [
      "counts\n",
      "[ 1  3  2  1  8  3  1  1  4  2  2  1  1  2  1  1  2  2  1  1  1  2  1  1  1\n",
      "  1  3  1  1  1  1  9 10  1  9  2  2  3  2  1  6  1  4  2  2  1  3  7  5]\n",
      "\n",
      "\n",
      "suspects: [  5  10  13  37  93 109 110 118 134 142 169 174 177 179]\n"
     ]
    }
   ],
   "source": [
    "suspects = np.append( data_missing[\"id1\"].values, data_missing[\"id2\"].values  )\n",
    "uniq_suspects = np.unique(suspects)\n",
    "count_suspects = []\n",
    "\n",
    "for i in uniq_suspects:\n",
    "    count_suspects.append( suspects.tolist().count(i) )\n",
    "count_suspects = np.array(count_suspects)\n",
    "\n",
    "print \"counts\"\n",
    "print count_suspects\n",
    "print; print;\n",
    "\n",
    "print \"Real suspects:\", uniq_suspects[ np.where(count_suspects>2)[0] ]"
   ]
  },
  {
   "cell_type": "markdown",
   "metadata": {
    "deletable": true,
    "editable": true,
    "run_control": {
     "frozen": false,
     "read_only": false
    }
   },
   "source": [
    "**missing_reports** is the list of student who did not submit a report.  This list was created manually by checking all the suspects."
   ]
  },
  {
   "cell_type": "code",
   "execution_count": 18,
   "metadata": {
    "collapsed": false,
    "deletable": true,
    "editable": true,
    "run_control": {
     "frozen": false,
     "read_only": false
    }
   },
   "outputs": [],
   "source": [
    "missing_reports = [10,109,110,118,142,177]"
   ]
  },
  {
   "cell_type": "markdown",
   "metadata": {
    "deletable": true,
    "editable": true,
    "run_control": {
     "frozen": false,
     "read_only": false
    }
   },
   "source": [
    "The only reports that got a score of -4 were missing reports.\n",
    "\n",
    "Below is a histogram that that excludes the scores of missing reports:"
   ]
  },
  {
   "cell_type": "code",
   "execution_count": 19,
   "metadata": {
    "collapsed": false,
    "deletable": true,
    "editable": true,
    "run_control": {
     "frozen": false,
     "read_only": false
    }
   },
   "outputs": [
    {
     "name": "stdout",
     "output_type": "stream",
     "text": [
      "Reports that had a Score of -4 : [ 10 109 110 118 142 177]\n",
      "Mean Score without Missing Notebooks:  0.0291701073493\n"
     ]
    },
    {
     "data": {
      "text/plain": [
       "(array([  8.,   6.,  22.,  18.,  26.,  25.,  24.,  24.,  11.,   9.]),\n",
       " array([-3.5 , -2.82, -2.14, -1.46, -0.78, -0.1 ,  0.58,  1.26,  1.94,\n",
       "         2.62,  3.3 ]),\n",
       " <a list of 10 Patch objects>)"
      ]
     },
     "execution_count": 19,
     "metadata": {},
     "output_type": "execute_result"
    },
    {
     "data": {
      "image/png": "[encoded data removed]",
      "text/plain": [
       "<matplotlib.figure.Figure at 0x7f0440dc5310>"
      ]
     },
     "metadata": {},
     "output_type": "display_data"
    }
   ],
   "source": [
    "print \"Reports that had a Score of -4 : \" + str( np.where(np.array(student_scores)==-4)[0]+1 )\n",
    "print \"Mean Score without Missing Notebooks: \",student_scores[np.where(student_scores>-4)[0]].mean()\n",
    "plt.hist(student_scores[np.where(student_scores>-4)[0]])"
   ]
  },
  {
   "cell_type": "markdown",
   "metadata": {
    "deletable": true,
    "editable": true,
    "run_control": {
     "frozen": false,
     "read_only": false
    }
   },
   "source": [
    "so as to not mess up people's grading score, we make the missing notebook have a score of 0"
   ]
  },
  {
   "cell_type": "code",
   "execution_count": 20,
   "metadata": {
    "collapsed": false,
    "deletable": true,
    "editable": true,
    "run_control": {
     "frozen": false,
     "read_only": false
    }
   },
   "outputs": [
    {
     "data": {
      "text/html": [
       "<div>\n",
       "<style>\n",
       "    .dataframe thead tr:only-child th {\n",
       "        text-align: right;\n",
       "    }\n",
       "\n",
       "    .dataframe thead th {\n",
       "        text-align: left;\n",
       "    }\n",
       "\n",
       "    .dataframe tbody tr th {\n",
       "        vertical-align: top;\n",
       "    }\n",
       "</style>\n",
       "<table border=\"1\" class=\"dataframe\">\n",
       "  <thead>\n",
       "    <tr style=\"text-align: right;\">\n",
       "      <th></th>\n",
       "      <th>student_pid</th>\n",
       "      <th>group_id</th>\n",
       "      <th>id_num</th>\n",
       "      <th>region</th>\n",
       "      <th>score</th>\n",
       "      <th>id_num2</th>\n",
       "      <th>id_html</th>\n",
       "    </tr>\n",
       "  </thead>\n",
       "  <tbody>\n",
       "    <tr>\n",
       "      <th>9</th>\n",
       "      <td>A53217553</td>\n",
       "      <td>3</td>\n",
       "      <td>10</td>\n",
       "      <td>SSSSSSBB</td>\n",
       "      <td>-4.0</td>\n",
       "      <td>010</td>\n",
       "      <td>&lt;a href='https://github.com/ucsd-edx/CSE255-DSE230-Grading/tree/master/010'&gt;A53217553&lt;/a&gt;</td>\n",
       "    </tr>\n",
       "    <tr>\n",
       "      <th>108</th>\n",
       "      <td>A53058446</td>\n",
       "      <td>12</td>\n",
       "      <td>109</td>\n",
       "      <td>BBBBSSBB</td>\n",
       "      <td>-4.0</td>\n",
       "      <td>109</td>\n",
       "      <td>&lt;a href='https://github.com/ucsd-edx/CSE255-DSE230-Grading/tree/master/109'&gt;A53058446&lt;/a&gt;</td>\n",
       "    </tr>\n",
       "    <tr>\n",
       "      <th>109</th>\n",
       "      <td>A91066094</td>\n",
       "      <td>12</td>\n",
       "      <td>110</td>\n",
       "      <td>BBBBSSBB</td>\n",
       "      <td>-4.0</td>\n",
       "      <td>110</td>\n",
       "      <td>&lt;a href='https://github.com/ucsd-edx/CSE255-DSE230-Grading/tree/master/110'&gt;A91066094&lt;/a&gt;</td>\n",
       "    </tr>\n",
       "    <tr>\n",
       "      <th>117</th>\n",
       "      <td>A53060769</td>\n",
       "      <td>17</td>\n",
       "      <td>118</td>\n",
       "      <td>SBBBBBBS</td>\n",
       "      <td>-4.0</td>\n",
       "      <td>118</td>\n",
       "      <td>&lt;a href='https://github.com/ucsd-edx/CSE255-DSE230-Grading/tree/master/118'&gt;A53060769&lt;/a&gt;</td>\n",
       "    </tr>\n",
       "    <tr>\n",
       "      <th>141</th>\n",
       "      <td>A07061018</td>\n",
       "      <td>18</td>\n",
       "      <td>142</td>\n",
       "      <td>SSSBBSSB</td>\n",
       "      <td>-4.0</td>\n",
       "      <td>142</td>\n",
       "      <td>&lt;a href='https://github.com/ucsd-edx/CSE255-DSE230-Grading/tree/master/142'&gt;A07061018&lt;/a&gt;</td>\n",
       "    </tr>\n",
       "    <tr>\n",
       "      <th>176</th>\n",
       "      <td>A53070548</td>\n",
       "      <td>15</td>\n",
       "      <td>177</td>\n",
       "      <td>SBSSBSBB</td>\n",
       "      <td>-4.0</td>\n",
       "      <td>177</td>\n",
       "      <td>&lt;a href='https://github.com/ucsd-edx/CSE255-DSE230-Grading/tree/master/177'&gt;A53070548&lt;/a&gt;</td>\n",
       "    </tr>\n",
       "  </tbody>\n",
       "</table>\n",
       "</div>"
      ],
      "text/plain": [
       "    student_pid  group_id  id_num    region  score id_num2  \\\n",
       "9    A53217553   3         10      SSSSSSBB -4.0    010      \n",
       "108  A53058446   12        109     BBBBSSBB -4.0    109      \n",
       "109  A91066094   12        110     BBBBSSBB -4.0    110      \n",
       "117  A53060769   17        118     SBBBBBBS -4.0    118      \n",
       "141  A07061018   18        142     SSSBBSSB -4.0    142      \n",
       "176  A53070548   15        177     SBSSBSBB -4.0    177      \n",
       "\n",
       "                                                                                       id_html  \n",
       "9    <a href='https://github.com/ucsd-edx/CSE255-DSE230-Grading/tree/master/010'>A53217553</a>  \n",
       "108  <a href='https://github.com/ucsd-edx/CSE255-DSE230-Grading/tree/master/109'>A53058446</a>  \n",
       "109  <a href='https://github.com/ucsd-edx/CSE255-DSE230-Grading/tree/master/110'>A91066094</a>  \n",
       "117  <a href='https://github.com/ucsd-edx/CSE255-DSE230-Grading/tree/master/118'>A53060769</a>  \n",
       "141  <a href='https://github.com/ucsd-edx/CSE255-DSE230-Grading/tree/master/142'>A07061018</a>  \n",
       "176  <a href='https://github.com/ucsd-edx/CSE255-DSE230-Grading/tree/master/177'>A53070548</a>  "
      ]
     },
     "execution_count": 20,
     "metadata": {},
     "output_type": "execute_result"
    }
   ],
   "source": [
    "#for i in np.array(missing_reports)-1:\n",
    "#    student_info.set_value( i, \"score\",0)\n",
    "#student_info.iloc[np.array(missing_reports)-1] "
   ]
  },
  {
   "cell_type": "markdown",
   "metadata": {
    "deletable": true,
    "editable": true,
    "run_control": {
     "frozen": false,
     "read_only": false
    }
   },
   "source": [
    "The code box below is what I used to check for missing reports"
   ]
  },
  {
   "cell_type": "code",
   "execution_count": null,
   "metadata": {
    "collapsed": false,
    "deletable": true,
    "editable": true,
    "run_control": {
     "frozen": false,
     "read_only": false
    },
    "scrolled": true
   },
   "outputs": [],
   "source": [
    "print \"suspects\"\n",
    "print uniq_suspects[ np.where(count_suspects>2)[0] ][:]\n",
    "print \"counts\"\n",
    "print count_suspects[ np.where(count_suspects>2)[0] ][:]\n",
    "\n",
    "toCheck = 10\n",
    "check1 = data_stacked[\"id1\"]== toCheck\n",
    "check2 = data_stacked[\"id2\"]== toCheck\n",
    "data_stacked[check1 | check2]"
   ]
  },
  {
   "cell_type": "markdown",
   "metadata": {
    "deletable": true,
    "editable": true,
    "heading_collapsed": true,
    "run_control": {
     "frozen": false,
     "read_only": false
    }
   },
   "source": [
    "# <span style=\"color:gray\"> Verifying Low Scores</span>"
   ]
  },
  {
   "cell_type": "code",
   "execution_count": null,
   "metadata": {
    "collapsed": false,
    "deletable": true,
    "editable": true,
    "hidden": true,
    "run_control": {
     "frozen": false,
     "read_only": false
    }
   },
   "outputs": [],
   "source": [
    "low_scores = np.sort(np.where(student_scores<-2.5)[0]+1)#.sort()\n",
    "print low_scores"
   ]
  },
  {
   "cell_type": "code",
   "execution_count": null,
   "metadata": {
    "collapsed": false,
    "deletable": true,
    "editable": true,
    "hidden": true,
    "run_control": {
     "frozen": false,
     "read_only": false
    }
   },
   "outputs": [],
   "source": [
    "low_scores = set(low_scores) - set(missing_reports)"
   ]
  },
  {
   "cell_type": "markdown",
   "metadata": {
    "deletable": true,
    "editable": true,
    "hidden": true,
    "run_control": {
     "frozen": false,
     "read_only": false
    }
   },
   "source": [
    "The low scores seemed all resembled what one woudl expect from a poorly created submission. No reprot received a score of -4 other than the one's that had missing submissions."
   ]
  },
  {
   "cell_type": "code",
   "execution_count": null,
   "metadata": {
    "collapsed": false,
    "deletable": true,
    "editable": true,
    "hidden": true,
    "run_control": {
     "frozen": false,
     "read_only": false
    }
   },
   "outputs": [],
   "source": [
    "print low_scores \n",
    "print student_scores[np.array(list(low_scores))-1]"
   ]
  },
  {
   "cell_type": "markdown",
   "metadata": {
    "deletable": true,
    "editable": true,
    "hidden": true,
    "run_control": {
     "frozen": false,
     "read_only": false
    }
   },
   "source": [
    "Below is the code box that I used to verify that the reports with low scores where \"ok.\""
   ]
  },
  {
   "cell_type": "code",
   "execution_count": null,
   "metadata": {
    "collapsed": false,
    "deletable": true,
    "editable": true,
    "hidden": true,
    "run_control": {
     "frozen": false,
     "read_only": false
    }
   },
   "outputs": [],
   "source": [
    "toCheck = 169\n",
    "check1 = data_stacked[\"id1\"]== toCheck\n",
    "check2 = data_stacked[\"id2\"]== toCheck\n",
    "data_stacked[check1 | check2]"
   ]
  },
  {
   "cell_type": "markdown",
   "metadata": {
    "deletable": true,
    "editable": true,
    "heading_collapsed": true,
    "run_control": {
     "frozen": false,
     "read_only": false
    }
   },
   "source": [
    "# <span style=\"color:gray\">NOT FINISHED:  Compute Grader Scores (Prof's Way)</span>"
   ]
  },
  {
   "cell_type": "markdown",
   "metadata": {
    "deletable": true,
    "editable": true,
    "hidden": true,
    "run_control": {
     "frozen": false,
     "read_only": false
    }
   },
   "source": [
    "I thought abaout math assumptions behind both models and I think your's is a bit better statistically. I haven't finished it yet though.\n",
    "\n",
    "First we calculate each students grade for each of the 4 categories..."
   ]
  },
  {
   "cell_type": "code",
   "execution_count": null,
   "metadata": {
    "collapsed": true,
    "deletable": true,
    "editable": true,
    "hidden": true,
    "run_control": {
     "frozen": false,
     "read_only": false
    }
   },
   "outputs": [],
   "source": [
    "#for i in range(1,180)\n",
    "category_scores= { \"rigor\":[], \"signif\":[], \"orig\":[], \"present\":[] }\n",
    "\n",
    "ids = [[\"1\",\"2\"],[\"2\",\"1\"]]\n",
    "nums = [\"1\",\"2\",\"3\",\"4\",\"5\"]\n",
    "categories = [\"rigor\",\"signif\",\"orig\",\"present\"]\n",
    "category_results= { \"rigor\":[], \"signif\":[], \"orig\":[], \"present\":[] }\n",
    "lengths = []\n",
    "\n",
    "for i in range(1,180):\n",
    "    length=0\n",
    "    count= { \"rigor\":0, \"signif\":0, \"orig\":0, \"present\":0 }\n",
    "    for id in ids:\n",
    "        for num in nums:\n",
    "            df_small= data[data[\"id\"+id[0]+\"_\"+num]==i]\n",
    "            \n",
    "            for category in categories:\n",
    "                count[category] += DF(df_small[[category+num]]==\"Submission \"+id[0]).sum().sum()\n",
    "                count[category] -= DF(df_small[[category+num]]==\"Submission \"+id[1]).sum().sum()\n",
    "\n",
    "            aWord= \"One or Two Missing Submission\"\n",
    "            noShow = DF(df_small[[\"rigor\"+num,\"signif\"+num,\"orig\"+num,\"present\"+num]]== aWord ).sum().sum()\n",
    "            length += ((df_small.shape[0]*4) - noShow)/4\n",
    "    \n",
    "    for category in categories:\n",
    "        category_results[category].append( count[category] )\n",
    "    lengths.append(length)"
   ]
  },
  {
   "cell_type": "code",
   "execution_count": null,
   "metadata": {
    "collapsed": true,
    "deletable": true,
    "editable": true,
    "hidden": true,
    "run_control": {
     "frozen": false,
     "read_only": false
    }
   },
   "outputs": [],
   "source": [
    "category_scores = {}\n",
    "for category in categories:\n",
    "    category_scores[category] = np.array(category_results[category])/ np.array(lengths)"
   ]
  },
  {
   "cell_type": "markdown",
   "metadata": {
    "collapsed": true,
    "deletable": true,
    "editable": true,
    "heading_collapsed": true,
    "run_control": {
     "frozen": false,
     "read_only": false
    }
   },
   "source": [
    "# Compute Grader Scores (My Way)\n"
   ]
  },
  {
   "cell_type": "markdown",
   "metadata": {
    "deletable": true,
    "editable": true,
    "hidden": true,
    "run_control": {
     "frozen": false,
     "read_only": false
    }
   },
   "source": [
    "We use student_scores as as map in the following code"
   ]
  },
  {
   "cell_type": "code",
   "execution_count": 21,
   "metadata": {
    "collapsed": false,
    "deletable": true,
    "editable": true,
    "hidden": true,
    "run_control": {
     "frozen": false,
     "read_only": false
    }
   },
   "outputs": [],
   "source": [
    "nums = [\"1\",\"2\",\"3\",\"4\",\"5\"]\n",
    "grader_scores = [0]*179\n",
    "\n",
    "for grader in range(data.shape[0]):\n",
    "    score=0\n",
    "    df_grader = data.iloc[[grader]]\n",
    "\n",
    "    for num in nums:   #<-- for each of the 5 comparisons that the grader graded\n",
    "        s1 = df_grader[\"id1_\"+str(num)].values[0]   #<-- first we find student numbers\n",
    "        s2 = df_grader[\"id2_\"+str(num)].values[0] \n",
    "\n",
    "        s1_grade = student_scores[s1-1]   #<-- get the average scores for the 2 students\n",
    "        s2_grade = student_scores[s2-1]\n",
    "        avg_margin = s1_grade - s2_grade   #<-- compute the average margin\n",
    "\n",
    "        margin=0     #<-- we compute the margin of the grader forthe 2 students\n",
    "        margin += DF(df_grader[[\"rigor\"+num,\"signif\"+num,\"orig\"+num,\"present\"+num]]==\"Submission 1\").sum().sum()\n",
    "        margin -= DF(df_grader[[\"rigor\"+num,\"signif\"+num,\"orig\"+num,\"present\"+num]]==\"Submission 2\").sum().sum()\n",
    "\n",
    "        score += margin * avg_margin  #<-- compute grader score for single comparison, add it to grader total score   #print margin, avg_margin, margin* avg_margin\n",
    "\n",
    "    pid = df_grader[\"pid\"].values[0]               #<-- find the graders numeric id using their pid\n",
    "    num_id = id_map[ id_map[0]==pid][1].values[0]\n",
    "    grader_scores[num_id-1] = score\n",
    "#print grader_scores[0:30]"
   ]
  },
  {
   "cell_type": "markdown",
   "metadata": {
    "deletable": true,
    "editable": true,
    "hidden": true,
    "run_control": {
     "frozen": false,
     "read_only": false
    }
   },
   "source": [
    "Some basic summary statistics"
   ]
  },
  {
   "cell_type": "code",
   "execution_count": 22,
   "metadata": {
    "collapsed": false,
    "deletable": true,
    "editable": true,
    "hidden": true,
    "run_control": {
     "frozen": false,
     "read_only": false
    },
    "scrolled": true
   },
   "outputs": [
    {
     "name": "stdout",
     "output_type": "stream",
     "text": [
      "Min grade: -11.8888888889\n",
      "Max grade: 64.4727272727\n",
      "mean grade: 23.7732232541\n"
     ]
    }
   ],
   "source": [
    "print \"Min grade: \"+str( min(grader_scores) )\n",
    "print \"Max grade: \"+str( max(grader_scores) ) \n",
    "print \"mean grade: \"+str( np.mean(grader_scores) ) "
   ]
  },
  {
   "cell_type": "markdown",
   "metadata": {
    "deletable": true,
    "editable": true,
    "hidden": true,
    "run_control": {
     "frozen": false,
     "read_only": false
    }
   },
   "source": [
    "We add grading_score to *student_info* and plot a histogram"
   ]
  },
  {
   "cell_type": "code",
   "execution_count": 23,
   "metadata": {
    "collapsed": false,
    "deletable": true,
    "editable": true,
    "hidden": true,
    "run_control": {
     "frozen": false,
     "read_only": false
    }
   },
   "outputs": [],
   "source": [
    "student_info[\"grading_score\"] = grader_scores"
   ]
  },
  {
   "cell_type": "code",
   "execution_count": 24,
   "metadata": {
    "collapsed": false,
    "deletable": true,
    "editable": true,
    "hidden": true,
    "run_control": {
     "frozen": false,
     "read_only": false
    }
   },
   "outputs": [
    {
     "data": {
      "text/plain": [
       "<matplotlib.text.Text at 0x7f0440ac70d0>"
      ]
     },
     "execution_count": 24,
     "metadata": {},
     "output_type": "execute_result"
    },
    {
     "data": {
      "image/png": "[encoded data removed]",
      "text/plain": [
       "<matplotlib.figure.Figure at 0x7f0440c14410>"
      ]
     },
     "metadata": {},
     "output_type": "display_data"
    }
   ],
   "source": [
    "plt.hist(grader_scores)\n",
    "plt.title(\"Hisogram of Grader Scores:\\nAggregated Method\")"
   ]
  },
  {
   "cell_type": "markdown",
   "metadata": {
    "deletable": true,
    "editable": true,
    "hidden": true,
    "run_control": {
     "frozen": false,
     "read_only": false
    }
   },
   "source": [
    "### Scores on Simulated Data"
   ]
  },
  {
   "cell_type": "code",
   "execution_count": null,
   "metadata": {
    "collapsed": true,
    "deletable": true,
    "editable": true,
    "hidden": true,
    "run_control": {
     "frozen": false,
     "read_only": false
    }
   },
   "outputs": [],
   "source": [
    "nums = [\"1\",\"2\",\"3\",\"4\",\"5\"]\n",
    "grader_simulated = []\n",
    "\n",
    "for grader in range(data.shape[0]):    \n",
    "    df_grader = data.iloc[[grader]]\n",
    "    \n",
    "    scores= []\n",
    "    for trial in range(10): #<-- since this is a simulation, we run multiple trials for each grader\n",
    "        score=0\n",
    "        for num in nums:   #<-- for each of the 5 comparisons that the grader graded\n",
    "            s1 = df_grader[\"id1_\"+str(num)].values[0]   #<-- first we find student numbers\n",
    "            s2 = df_grader[\"id2_\"+str(num)].values[0] \n",
    "\n",
    "            s1_grade = student_scores[s1-1]   #<-- get the average scores for the 2 students\n",
    "            s2_grade = student_scores[s2-1]\n",
    "            avg_margin = s1_grade - s2_grade   #<-- compute the average margin\n",
    "\n",
    "            #margin=0     #<-- we compute the margin of the grader forthe 2 students\n",
    "            #margin += DF(df_grader[[\"rigor\"+num,\"signif\"+num,\"orig\"+num,\"present\"+num]]==\"Submission 1\").sum().sum()\n",
    "            #margin -= DF(df_grader[[\"rigor\"+num,\"signif\"+num,\"orig\"+num,\"present\"+num]]==\"Submission 2\").sum().sum()\n",
    "\n",
    "            margin= (np.random.binomial(4,.5) -2)*2 #<-- We now siimulated the margin, with unbiased coin\n",
    "            score += margin * avg_margin  #<-- compute grader score for single comparison, add it to grader total score   #print margin, avg_margin, margin* avg_margin\n",
    "        scores.append(score)\n",
    "\n",
    "    grader_simulated.extend(scores) \n"
   ]
  },
  {
   "cell_type": "code",
   "execution_count": null,
   "metadata": {
    "collapsed": false,
    "deletable": true,
    "editable": true,
    "hidden": true,
    "run_control": {
     "frozen": false,
     "read_only": false
    }
   },
   "outputs": [],
   "source": [
    "print len(grader_simulated)"
   ]
  },
  {
   "cell_type": "code",
   "execution_count": null,
   "metadata": {
    "collapsed": false,
    "deletable": true,
    "editable": true,
    "hidden": true,
    "run_control": {
     "frozen": false,
     "read_only": false
    }
   },
   "outputs": [],
   "source": [
    "plt.hist(grader_simulated)\n",
    "plt.title(\"Hisogram of Simulated Scores:\\nAggregated Method\")"
   ]
  },
  {
   "cell_type": "markdown",
   "metadata": {
    "deletable": true,
    "editable": true,
    "hidden": true,
    "run_control": {
     "frozen": false,
     "read_only": false
    }
   },
   "source": [
    "Notice that the student histogram is very different from the random chance. The student grading scores are centered at 20 instead of 0."
   ]
  },
  {
   "cell_type": "markdown",
   "metadata": {
    "deletable": true,
    "editable": true,
    "heading_collapsed": true,
    "run_control": {
     "frozen": false,
     "read_only": false
    }
   },
   "source": [
    "# <span style=\"color:gray\"> Get Regional Info </span>"
   ]
  },
  {
   "cell_type": "markdown",
   "metadata": {
    "deletable": true,
    "editable": true,
    "hidden": true,
    "run_control": {
     "frozen": false,
     "read_only": false
    }
   },
   "source": [
    "For each region, and each criteria: sort people according to the criteria rankings.\n",
    "Combine into a table for each region"
   ]
  },
  {
   "cell_type": "code",
   "execution_count": 25,
   "metadata": {
    "collapsed": true,
    "deletable": true,
    "editable": true,
    "hidden": true,
    "run_control": {
     "frozen": false,
     "read_only": false
    }
   },
   "outputs": [],
   "source": [
    "region_tables = []\n",
    "\n",
    "for i in  range(1,31):\n",
    "    s_region = DF(student_info[ student_info[\"group_id\"]==i ])#[[\"id_num\"]] #<-- students in one unique region\n",
    "    s_region.sort_values(\"score\",ascending=False, inplace=True)\n",
    "    s_region.reset_index(drop=True, inplace=True)\n",
    "    \n",
    "    region_tables.append(s_region)"
   ]
  },
  {
   "cell_type": "markdown",
   "metadata": {
    "deletable": true,
    "editable": true,
    "hidden": true,
    "run_control": {
     "frozen": false,
     "read_only": false
    }
   },
   "source": [
    "### Create html code for regions:"
   ]
  },
  {
   "cell_type": "code",
   "execution_count": 28,
   "metadata": {
    "collapsed": false,
    "deletable": true,
    "editable": true,
    "hidden": true,
    "run_control": {
     "frozen": false,
     "read_only": false
    }
   },
   "outputs": [
    {
     "name": "stdout",
     "output_type": "stream",
     "text": [
      "runs: 30\n",
      "0 BSBSBSBS -0.0363636363636\n",
      "1 BSBSSSSB 0.0242424242424\n",
      "2 SSSSSSBB -0.559722222222\n",
      "3 BSBSSSBS -0.0136363636364\n",
      "4 SBBBBBSB 0.0340067340067\n",
      "5 SSSBSBBB -7.40148683083e-17\n",
      "6 BBSBSBSB 0.0\n",
      "7 SSSBBBBB -0.0166666666667\n",
      "8 SSSBSSBB 0.0840488215488\n",
      "9 BSBSSSSS 0.0363636363636\n",
      "10 BSBSSSBB -7.40148683083e-17\n",
      "11 BBBBSSBB -1.18353174603\n",
      "12 SSSBSSSB -0.105218855219\n",
      "13 SSSBSBBS 0.0388047138047\n",
      "14 SBSSBSBB -0.448923761424\n",
      "15 SSSSBSBB 7.40148683083e-17\n",
      "16 SBBBBBBS -0.5625\n",
      "17 SSSBBSSB -0.395833333333\n",
      "18 SSSSBBSS 0.0326599326599\n",
      "19 BSSSBSBS 0.030303030303\n",
      "20 SBSSBBBS 0.0671296296296\n",
      "21 SBBSSBSS -0.0799663299663\n",
      "22 SSSSBSSB -3.70074341542e-17\n",
      "23 SSSSBBBB -0.0212962962963\n",
      "24 SSSBSSSS -0.0584175084175\n",
      "25 BSSSBSBB 0.00909090909091\n",
      "26 SBBSSBSB 7.40148683083e-17\n",
      "27 SBSBBSSB -0.012962962963\n",
      "28 BBBBBSBS -0.0205387205387\n",
      "29 SBBBSBSS 0.0\n"
     ]
    }
   ],
   "source": [
    "print \"runs:\",len(region_tables)\n",
    "for i in range(len(region_tables)):\n",
    "    \n",
    "    \n",
    "    region_table = DF(region_tables[i])    \n",
    "    html_text = \"<h1>Region: \"+region_table[\"region\"][0]+\"</h1>\"\n",
    "    \n",
    "    print i, region_table[\"region\"][0], region_table[\"score\"].mean()\n",
    "    \n",
    "    # this block, adds a condensed verions of the region_table to the html\n",
    "    s_region_table = region_table[[\"id_html\",\"id_num\",\"score\"]]\n",
    "    s_region_table.index += 1\n",
    "    html_text = html_text+ s_region_table.to_html(escape=False) #<-- add final table to html\n",
    "    html_text = html_text+ \"<h3>Mean: \"+str(s_region_table[\"score\"].mean())+\"</h3>\"  #<-- add mean score to html\n",
    "    \n",
    "\n",
    "    for j in range( region_table.shape[0] ):\n",
    "        \n",
    "        ####################################################\n",
    "        # This code adds the summary notes for each student\n",
    "        ###################################################\n",
    "        \n",
    "        #print \"id: \"+str(region_table.iloc[j][\"id_num\"])\n",
    "        \n",
    "        # the block, gets info about the student\n",
    "        html_text = html_text+ \"<hr> <hr> <hr> <hr>\" \n",
    "        pid = region_table.iloc[j][\"student_pid\"]\n",
    "        id_num = region_table.iloc[j][\"id_num\"]\n",
    "        score = region_table.iloc[j][\"score\"]\n",
    "        \n",
    "        # this block create the header html for a student\n",
    "        html_text +=  \"<h1>\"+pid+\"</h1>\"\n",
    "        html_text +=  \"<h3>Rank: \"+str(j+1)#+\"&nbsp&nbsp&nbsp&nbsp Score:  \"+str(score)+\"</h3>\"\n",
    "        html_text +=  \"<h2 style='color:purple'>Notebook Report:&nbsp&nbsp&nbsp&nbsp Score: \"+str(score)+\"</h2>\"\n",
    "        \n",
    "        # this block creates the student's table\n",
    "        check1 = data_stacked[\"id1\"]== id_num\n",
    "        check2 = data_stacked[\"id2\"]== id_num\n",
    "        student_table = DF( data_stacked[check1 | check2] )\n",
    "        student_table[\"submission\"] =((student_table[\"id2\"]==id_num)+1)\n",
    "        student_table[\"Submission_\"] = \"Submission \"+student_table[\"submission\"].astype('S11')\n",
    "        student_table.reset_index(inplace=True)\n",
    "        student_table.fillna(\"\",inplace=True)\n",
    "        \n",
    "        # this block gets the rank of the opponents notebook\n",
    "        student_table[\"against id\"]  = student_table.apply(lambda x: x[\"id2\"] if x[\"submission\"]==1 else x[\"id1\"], axis=1)\n",
    "        def getAgainstRank(row, region_table):\n",
    "            if row[\"against id\"] in region_table[\"id_num\"].values:\n",
    "                return str(region_table.index[ region_table[\"id_num\"]==row[\"against id\"] ][0]+1 )\n",
    "            return \"<span style='color:red'>Wrong Region! id_num:\"+str(row[\"against id\"])+\"</span>\"\n",
    "        student_table[\"against rank\"] = student_table.apply(lambda x: getAgainstRank(x,region_table) ,axis=1)\n",
    "\n",
    "        # we create the notes in the format Freund wants\n",
    "        for category in [\"rigor\",\"present\",\"orig\",\"signif\"]:\n",
    "            student_table[category+\"_notes\"] = student_table[category+\"_notes\"].str.decode('UTF-8',\"ignore\")\n",
    "            student_table[category+\"_notes\"] = student_table[category+\"_notes\"].str.encode('ascii','ignore')\n",
    "\n",
    "            for loc in range(student_table.shape[0]):\n",
    "                row = student_table.iloc[loc]\n",
    "                \n",
    "                if row[category] == row[\"Submission_\"]:\n",
    "                    student_table.set_value( loc, category+\"_notes\",\n",
    "                    \"<p style='color:green'>Better</p>\"+ row[category+\"_notes\"]  )\n",
    "                elif row[category][:-2] == \"Submission\":\n",
    "                    student_table.set_value( loc, category+\"_notes\",\n",
    "                        \"<p style='color:red'>Worse</p>\"+ row[category+\"_notes\"]  )\n",
    "                else:\n",
    "                    student_table.set_value( loc, category+\"_notes\",\n",
    "                        \"<p style='color:grey'>\"+row[category]+\"</p>\"+row[category+\"_notes\"]  )\n",
    "                    \n",
    "        # we now get scores\n",
    "        student_table[\"scores\"] = 2*(student_table[\"rigor\"]==student_table[\"Submission_\"]).values.astype(\"int\") +\\\n",
    "                                2*(student_table[\"signif\"]==student_table[\"Submission_\"]).values.astype(\"int\") +\\\n",
    "                                2*(student_table[\"present\"]==student_table[\"Submission_\"]).values.astype(\"int\") +\\\n",
    "                                2*(student_table[\"orig\"]==student_table[\"Submission_\"]).values.astype(\"int\") -\\\n",
    "                                (student_table[\"rigor\"].apply(lambda x: x[:-2])==\"Submission\").astype(\"int\") -\\\n",
    "                                (student_table[\"signif\"].apply(lambda x: x[:-2])==\"Submission\").astype(\"int\") -\\\n",
    "                                (student_table[\"present\"].apply(lambda x: x[:-2])==\"Submission\").astype(\"int\") -\\\n",
    "                                (student_table[\"orig\"].apply(lambda x: x[:-2])==\"Submission\").astype(\"int\") \n",
    "\n",
    "        # This blocks add the student table to the html\n",
    "        student_table.sort_values(\"against rank\",ascending=True, inplace=True)\n",
    "        to_print = student_table[[\"against rank\",\"Submission_\",\"scores\",\"rigor_notes\",\"orig_notes\",\"signif_notes\",\"present_notes\"]]\n",
    "        to_print.reset_index(inplace=True, drop=True)\n",
    "        html_text = html_text + to_print.to_html(escape=False)\n",
    "        \n",
    "        \n",
    "        \n",
    "        \n",
    "        \n",
    "        \n",
    "        ####################################################\n",
    "        ### This code adds the Grading summary for each student  ###\n",
    "        ###################################################\n",
    "        \n",
    "        html_text += \"<h2 style='color:olive'>Grading Report:&nbsp&nbsp&nbsp&nbsp Score: \"+\\\n",
    "                                str(region_table.iloc[j][\"grading_score\"])+\"</h2>\"\n",
    "        #html_text += \"<h3 style='color:orange'>Grading Score: \"+str(region_table.iloc[j][\"grading_score\"])+\"</h3>\"\n",
    "\n",
    "        # this block creates the student's table\n",
    "        student_table = DF(data_stacked[ data_stacked[\"id_num\"] == id_num ])\n",
    "        student_table[\"submission\"] =\"Submission \"+((student_table[\"id2\"]==id_num)+1).astype('S11')\n",
    "        student_table[\"Submission_\"] = student_table[\"submission\"]\n",
    "        student_table.reset_index(inplace=True, drop=True)\n",
    "        student_table.fillna(\"\",inplace=True)\n",
    "\n",
    "\n",
    "        # we create the notes in the format Freund wants\n",
    "        for category in [\"rigor\",\"present\",\"orig\",\"signif\"]:\n",
    "            student_table[category+\"_notes\"] = student_table[category+\"_notes\"].str.decode('UTF-8',\"ignore\")\n",
    "            student_table[category+\"_notes\"] = student_table[category+\"_notes\"].str.encode('ascii','ignore')\n",
    "\n",
    "            for loc in range(student_table.shape[0]):\n",
    "                row = student_table.iloc[loc]\n",
    "\n",
    "                if row[category] == row[\"submission\"]:\n",
    "                    student_table.set_value( loc, category+\"_notes\",\n",
    "                    \"<p style='color:green'>Better</p>\"+ row[category+\"_notes\"]  )\n",
    "                elif row[category][:-2] == \"Submission\":\n",
    "                    student_table.set_value( loc, category+\"_notes\",\n",
    "                        \"<p style='color:red'>Worse</p>\"+ row[category+\"_notes\"]  )\n",
    "                else:\n",
    "                    student_table.set_value( loc, category+\"_notes\",\n",
    "                        \"<p style='color:grey'>\"+row[category]+\"</p>\"+row[category+\"_notes\"]  )\n",
    "\n",
    "        # we now get scores\n",
    "        student_table[\"S1 score\"] = (student_table[\"rigor\"]==\"Submission 1\").values.astype(\"int\") +\\\n",
    "                                (student_table[\"signif\"]==\"Submission 1\").values.astype(\"int\") +\\\n",
    "                                (student_table[\"present\"]==\"Submission 1\").values.astype(\"int\") +\\\n",
    "                                (student_table[\"orig\"]==\"Submission 1\").values.astype(\"int\") -\\\n",
    "                                (student_table[\"rigor\"]==\"Submission 2\").values.astype(\"int\") -\\\n",
    "                                (student_table[\"signif\"]==\"Submission 2\").values.astype(\"int\") -\\\n",
    "                                (student_table[\"present\"]==\"Submission 2\").values.astype(\"int\") -\\\n",
    "                                (student_table[\"orig\"]==\"Submission 2\").values.astype(\"int\")\n",
    "        student_table[\"Avg S1 score\"]= student_info[\"score\"][student_table[\"id1\"].values-1].values\n",
    "\n",
    "        # This blocks add the student table to the html\n",
    "        to_print = student_table[[\"S1 score\",\"Avg S1 score\",\"rigor_notes\",\"orig_notes\",\"signif_notes\",\"present_notes\"]]\n",
    "        to_print.reset_index(inplace=True, drop=True)\n",
    "        html_text +=  to_print.to_html(escape=False)\n",
    "\n",
    "\n",
    "\n",
    "    f = open('Regions/'+region_table[\"region\"][0]+\".html\",'w')\n",
    "    f.write(html_text)\n",
    "    f.close()\n",
    "    \n",
    "#to_print.decode('utf-8').encode('ascii','')"
   ]
  },
  {
   "cell_type": "markdown",
   "metadata": {
    "deletable": true,
    "editable": true,
    "heading_collapsed": true,
    "run_control": {
     "frozen": false,
     "read_only": false
    }
   },
   "source": [
    "# <span style=\"color:gray\"> Get Students' Info <span>"
   ]
  },
  {
   "cell_type": "code",
   "execution_count": null,
   "metadata": {
    "collapsed": false,
    "deletable": true,
    "editable": true,
    "hidden": true,
    "run_control": {
     "frozen": false,
     "read_only": false
    }
   },
   "outputs": [],
   "source": [
    "print \"runs:\",len(student_info)\n",
    "for i in range(len(region_tables)):\n",
    "\n",
    "\n",
    "    s_row = student_info.iloc[i]    #s_row\n",
    "    html_text = \"<h1> Student: \"+s_row[\"id_html\"]+\"</h1>\"\n",
    "    html_text += \"<h3>Region: \"+s_row[\"region\"]+\"</h3><hr><hr>\"\n",
    "    html_text += \"<h2>Score Report</h2>\"\n",
    "    html_text += \"<h3>Notebook Score:  \"+str(s_row[\"score\"])+\"</h3>\"\n",
    "\n",
    "\n",
    "\n",
    "\n",
    "\n",
    "    ### This code adds the summary notes for each student  ###\n",
    "\n",
    "\n",
    "    # this block creates the student's table\n",
    "    check1 = data_stacked[\"id1\"]== s_row[\"id_num\"]\n",
    "    check2 = data_stacked[\"id2\"]== s_row[\"id_num\"]\n",
    "    student_table = DF( data_stacked[check1 | check2] )\n",
    "    student_table[\"submission\"] =\"Submission \"+((student_table[\"id2\"]==s_row[\"id_num\"])+1).astype('S11')\n",
    "    student_table[\"Submission_\"] = student_table[\"submission\"]\n",
    "    student_table[\"grader\"] = student_table[\"pid\"]\n",
    "    student_table.reset_index(inplace=True, drop=True)\n",
    "    student_table.fillna(\"\",inplace=True)\n",
    "\n",
    "\n",
    "    # we create the notes in the format Freund wants\n",
    "    for category in [\"rigor\",\"present\",\"orig\",\"signif\"]:\n",
    "        student_table[category+\"_notes\"] = student_table[category+\"_notes\"].str.decode('UTF-8',\"ignore\")\n",
    "        student_table[category+\"_notes\"] = student_table[category+\"_notes\"].str.encode('ascii','ignore')\n",
    "\n",
    "        for loc in range(student_table.shape[0]):\n",
    "            row = student_table.iloc[loc]\n",
    "\n",
    "            if row[category] == row[\"submission\"]:\n",
    "                student_table.set_value( loc, category+\"_notes\",\n",
    "                \"<p style='color:green'>Better</p>\"+ row[category+\"_notes\"]  )\n",
    "            elif row[category][:-2] == \"Submission\":\n",
    "                student_table.set_value( loc, category+\"_notes\",\n",
    "                    \"<p style='color:red'>Worse</p>\"+ row[category+\"_notes\"]  )\n",
    "            else:\n",
    "                student_table.set_value( loc, category+\"_notes\",\n",
    "                    \"<p style='color:grey'>\"+row[category]+\"</p>\"+row[category+\"_notes\"]  )\n",
    "\n",
    "    # we now get scores\n",
    "    student_table[\"scores\"] = 2*(student_table[\"rigor\"]==student_table[\"submission\"]).values.astype(\"int\") +\\\n",
    "                            2*(student_table[\"signif\"]==student_table[\"submission\"]).values.astype(\"int\") +\\\n",
    "                            2*(student_table[\"present\"]==student_table[\"submission\"]).values.astype(\"int\") +\\\n",
    "                            2*(student_table[\"orig\"]==student_table[\"submission\"]).values.astype(\"int\") -\\\n",
    "                            (student_table[\"rigor\"].apply(lambda x: x[:-2])==\"Submission\").astype(\"int\") -\\\n",
    "                            (student_table[\"signif\"].apply(lambda x: x[:-2])==\"Submission\").astype(\"int\") -\\\n",
    "                            (student_table[\"present\"].apply(lambda x: x[:-2])==\"Submission\").astype(\"int\") -\\\n",
    "                            (student_table[\"orig\"].apply(lambda x: x[:-2])==\"Submission\").astype(\"int\") \n",
    "\n",
    "    # This blocks add the student table to the html\n",
    "    to_print = student_table[[\"grader\",\"Submission_\",\"scores\",\"rigor_notes\",\"orig_notes\",\"signif_notes\",\"present_notes\"]]\n",
    "    to_print.reset_index(inplace=True, drop=True)\n",
    "    html_text +=  to_print.to_html(escape=False)\n",
    "\n",
    "\n",
    "\n",
    "\n",
    "\n",
    "\n",
    "\n",
    "    ### This code adds the Grading summary for each student  ###\n",
    "\n",
    "    html_text += \"<hr><hr><h2>Grading Report</h2>\"\n",
    "    html_text += \"<h3>Grading Score: \"+str(s_row[\"grading_score\"])+\"</h3>\"\n",
    "\n",
    "\n",
    "    # this block creates the student's table\n",
    "    g_table = DF(data_stacked[ data_stacked[\"id_num\"] == s_row[\"id_num\"] ])\n",
    "    g_table[\"submission\"] =\"Submission \"+((g_table[\"id2\"]==s_row[\"id_num\"])+1).astype('S11')\n",
    "    g_table[\"Submission_\"] = g_table[\"submission\"]\n",
    "    g_table.reset_index(inplace=True, drop=True)\n",
    "    g_table.fillna(\"\",inplace=True)\n",
    "\n",
    "\n",
    "    # we create the notes in the format Freund wants\n",
    "    for category in [\"rigor\",\"present\",\"orig\",\"signif\"]:\n",
    "        g_table[category+\"_notes\"] = g_table[category+\"_notes\"].str.decode('UTF-8',\"ignore\")\n",
    "        g_table[category+\"_notes\"] = g_table[category+\"_notes\"].str.encode('ascii','ignore')\n",
    "\n",
    "        for loc in range(g_table.shape[0]):\n",
    "            row = g_table.iloc[loc]\n",
    "\n",
    "            if row[category] == row[\"submission\"]:\n",
    "                g_table.set_value( loc, category+\"_notes\",\n",
    "                \"<p style='color:green'>Better</p>\"+ row[category+\"_notes\"]  )\n",
    "            elif row[category][:-2] == \"Submission\":\n",
    "                g_table.set_value( loc, category+\"_notes\",\n",
    "                    \"<p style='color:red'>Worse</p>\"+ row[category+\"_notes\"]  )\n",
    "            else:\n",
    "                g_table.set_value( loc, category+\"_notes\",\n",
    "                    \"<p style='color:grey'>\"+row[category]+\"</p>\"+row[category+\"_notes\"]  )\n",
    "\n",
    "    # we now get scores\n",
    "    g_table[\"S1 score\"] = (g_table[\"rigor\"]==\"Submission 1\").values.astype(\"int\") +\\\n",
    "                            (g_table[\"signif\"]==\"Submission 1\").values.astype(\"int\") +\\\n",
    "                            (g_table[\"present\"]==\"Submission 1\").values.astype(\"int\") +\\\n",
    "                            (g_table[\"orig\"]==\"Submission 1\").values.astype(\"int\") -\\\n",
    "                            (g_table[\"rigor\"]==\"Submission 2\").values.astype(\"int\") -\\\n",
    "                            (g_table[\"signif\"]==\"Submission 2\").values.astype(\"int\") -\\\n",
    "                            (g_table[\"present\"]==\"Submission 2\").values.astype(\"int\") -\\\n",
    "                            (g_table[\"orig\"]==\"Submission 2\").values.astype(\"int\")\n",
    "    g_table[\"Avg score\"]= student_info[\"score\"][g_table[\"id1\"].values-1].values\n",
    "\n",
    "    # This blocks add the student table to the html\n",
    "    to_print = g_table[[\"S1 score\",\"Avg score\",\"rigor_notes\",\"orig_notes\",\"signif_notes\",\"present_notes\"]]\n",
    "    to_print.reset_index(inplace=True, drop=True)\n",
    "    html_text +=  to_print.to_html(escape=False)\n",
    "\n",
    "\n",
    "\n",
    "\n",
    "    f = open('Students/'+s_row[\"student_pid\"]+\".html\",'w')\n",
    "    f.write(html_text)\n",
    "    f.close()\n",
    "\n",
    "\n"
   ]
  },
  {
   "cell_type": "code",
   "execution_count": null,
   "metadata": {
    "collapsed": true,
    "deletable": true,
    "editable": true,
    "hidden": true,
    "run_control": {
     "frozen": false,
     "read_only": false
    }
   },
   "outputs": [],
   "source": [
    "\n",
    "\n",
    "\n",
    "\n",
    "\n",
    "\n",
    "\n",
    "\n",
    "\n",
    "\n",
    "\n",
    "\n",
    "\n",
    "\n",
    "\n",
    "\n",
    "\n",
    "\n",
    "\n",
    "\n",
    "\n",
    "\n",
    "\n",
    "\n",
    "\n"
   ]
  }
 ],
 "metadata": {
  "kernelspec": {
   "display_name": "Python 2",
   "language": "python",
   "name": "python2"
  },
  "language_info": {
   "codemirror_mode": {
    "name": "ipython",
    "version": 2
   },
   "file_extension": ".py",
   "mimetype": "text/x-python",
   "name": "python",
   "nbconvert_exporter": "python",
   "pygments_lexer": "ipython2",
   "version": "2.7.6"
  },
  "toc": {
   "colors": {
    "hover_highlight": "#DAA520",
    "running_highlight": "#FF0000",
    "selected_highlight": "#FFD700"
   },
   "moveMenuLeft": true,
   "nav_menu": {
    "height": "30px",
    "width": "252px"
   },
   "navigate_menu": true,
   "number_sections": true,
   "sideBar": true,
   "threshold": 4,
   "toc_cell": false,
   "toc_position": {
    "height": "648px",
    "left": "0px",
    "right": "1199px",
    "top": "106px",
    "width": "212px"
   },
   "toc_section_display": "block",
   "toc_window_display": true,
   "widenNotebook": false
  }
 },
 "nbformat": 4,
 "nbformat_minor": 2
}
