{
 "cells": [
  {
   "cell_type": "code",
   "execution_count": 43,
   "metadata": {
    "collapsed": false
   },
   "outputs": [
    {
     "name": "stdout",
     "output_type": "stream",
     "text": [
      "STAT.pickle           SampleStations.pickle\r\n"
     ]
    }
   ],
   "source": [
    "data_dir = \"./Data/Weather/\"\n",
    "%matplotlib inline\n",
    "!mkdir -p $data_dir\n",
    "!ls $data_dir"
   ]
  },
  {
   "cell_type": "markdown",
   "metadata": {},
   "source": [
    "### Downloading Pickled data from S3\n",
    "If `SampleStations.pickle` is not in the directory, get it using the following command"
   ]
  },
  {
   "cell_type": "code",
   "execution_count": 12,
   "metadata": {
    "collapsed": false
   },
   "outputs": [
    {
     "name": "stdout",
     "output_type": "stream",
     "text": [
      "  % Total    % Received % Xferd  Average Speed   Time    Time     Time  Current\n",
      "                                 Dload  Upload   Total   Spent    Left  Speed\n",
      "100  398M  100  398M    0     0  23.5M      0  0:00:16  0:00:16 --:--:-- 26.4M\n"
     ]
    }
   ],
   "source": [
    "!curl -o $data_dir/SampleStations.pickle http://mas-dse-open.s3.amazonaws.com/Weather/SampleStations.pickle"
   ]
  },
  {
   "cell_type": "markdown",
   "metadata": {},
   "source": [
    "### Plot Reconstructions\n",
    "\n",
    "From each measurement, we take 2 sample stations with low residual error and 2 sample stations with high residual error and plot the following:\n",
    "\n",
    "* Original Data Vector\n",
    "* Mean Vector\n",
    "* Reconstructed Data Vector using mean and top 1 eigen vectors\n",
    "* Reconstructed Data Vector using mean and top 2 eigen vectors\n",
    "* Reconstructed Data Vector using mean and top 3 eigen vectors"
   ]
  },
  {
   "cell_type": "markdown",
   "metadata": {},
   "source": [
    "### Read and Preprocess data\n",
    "\n",
    "Read data from the pickle files `SampleStations.pickle` and `STAT.pickle`\n",
    "\n",
    "* `SampleStations.pickle` contains information about the 6 measurements taken from some sample stations. You have been provided the code to process this file. It converts the seemingly complicated structure into a list of lists where each sublist has the following information:\n",
    "\n",
    "`['station','measurement','year','1', '2', '3', ...... , '365']`\n",
    "\n",
    "*  station - The station ID\n",
    "*  measurement - One of the 6 types of measurements\n",
    "*  year - The year in which the measurements were recorded\n",
    "*  1-365 - The actual value of measurement for each day of the year\n",
    "\n",
    "\n",
    "\n",
    "* `STAT.pickle` contains statistics about the weather data for each of the 6 measurements and its description."
   ]
  },
  {
   "cell_type": "code",
   "execution_count": 44,
   "metadata": {
    "collapsed": false
   },
   "outputs": [],
   "source": [
    "import pickle\n",
    "Data=pickle.load(open('./Data/Weather/SampleStations.pickle','r'))\n",
    "STAT,STAT_description=pickle.load(open('./Data/Weather/STAT.pickle','r'))"
   ]
  },
  {
   "cell_type": "code",
   "execution_count": 45,
   "metadata": {
    "collapsed": true
   },
   "outputs": [],
   "source": [
    "FlatData=[]\n",
    "for station in Data:\n",
    "    stationname=station[0]\n",
    "    for measurements in station[1]:\n",
    "        measurement,year=measurements[0]\n",
    "        yeardata=list(measurements[1])\n",
    "        rowData=[stationname]+[measurement]+[year]+yeardata\n",
    "        FlatData.append(rowData)"
   ]
  },
  {
   "cell_type": "markdown",
   "metadata": {},
   "source": [
    "### Define Reconstruction Function\n",
    "\n",
    "You need to plot reconstructions for two stations with low reconstruction error and two stations with high reconstruction error. To do this, you will need to do the following:\n",
    "\n",
    "1. Calculate the reconstruction error for the data vector reconstructed using mean and top-3 eigenvectors.\n",
    "2. Remove the ones for which reconstruction error is NaN.\n",
    "3. Choose two with the lowest and two with the highest reconstruction error for plotting."
   ]
  },
  {
   "cell_type": "code",
   "execution_count": 26,
   "metadata": {
    "collapsed": false
   },
   "outputs": [],
   "source": [
    "def create_reconstructions(m):  \n",
    "    \n",
    "    ## Put your code for computating reconstructions here\n",
    "    \n",
    "    plt.figure(figsize=(30,20),dpi=2000)\n",
    "    offset=1\n",
    "    # lower contains reference to the 2 data vectors with lowest reconstruction error\n",
    "    for l in lower:  \n",
    "        subplot(2,2,j)\n",
    "        offset+=1\n",
    "        ## Put your code for plotting reconstruction for stations with low residual error\n",
    "     \n",
    "    # higher contains reference to the 2 data vectors with highest reconstruction error\n",
    "    for l in higher:\n",
    "        subplot(2,2,j)\n",
    "        offset+=1\n",
    "        ## Put your code for plotting reconstruction for stations with high residual error\n",
    "        "
   ]
  },
  {
   "cell_type": "code",
   "execution_count": 8,
   "metadata": {
    "collapsed": false
   },
   "outputs": [],
   "source": [
    "import numpy as np\n",
    "from numpy import isnan\n",
    "columns=4   # each column corresponds to an eigenvector of the reconstruction\n",
    "\n",
    "def create_reconstructions(m):  \n",
    "    Prod={}\n",
    "    #Compute the projection of (Data-Mean) on the top k eigenvectors\n",
    "    for k in range(1,columns):\n",
    "        Eigen=np.matrix(STAT[m]['eigvec'][:,:k])\n",
    "        matrix=np.matrix(m_df[m].ix[:,3:368])-STAT[m]['Mean']\n",
    "        matrix[isnan(matrix)]=0\n",
    "        Prod[k]=matrix*Eigen\n",
    "    \n",
    "    Reconstructed={}\n",
    "    for k in range(1,columns):\n",
    "        Eigen=np.matrix(STAT[m]['eigvec'][:,:k])\n",
    "        Reconstructed[k]=array(Eigen*Prod[k].transpose()+STAT[m]['Mean'][:,np.newaxis])\n",
    "        \n",
    "    original=np.array(m_df[m].ix[:,3:368])\n",
    "    residue_list=[]\n",
    "    #print len(Reconstructed),shape(original)\n",
    "    for i in range(len(Reconstructed[1][0])):\n",
    "        vec_diff=original[i]-Reconstructed[3][:,i]\n",
    "        residue=np.linalg.norm(vec_diff)\n",
    "        residue_list.append((residue,i))\n",
    "    residue_list=[x for x in residue_list if not math.isnan(x[0])]\n",
    "    residue_list=sorted(residue_list)\n",
    "    \n",
    "    lower=[i for (r,i) in residue_list[:2]]\n",
    "    upper=[i for (r,i) in residue_list[-2:]]\n",
    "    \n",
    "    yeardays=[i for i in (1,366)]\n",
    "    plt.figure(figsize=(20,30),dpi=300)\n",
    "    j=1\n",
    "    c=0\n",
    "    for l in lower:\n",
    "        subplot(4,2,j)\n",
    "        j+=1\n",
    "        c+=1\n",
    "        plot(original[l])\n",
    "        plot(STAT[m]['Mean'])\n",
    "        plot(Reconstructed[1][:,l])\n",
    "        plot(Reconstructed[2][:,l])\n",
    "        plot(Reconstructed[3][:,l])\n",
    "        title('#' + str(c) + ' Sample for ' + m + ' (low residual error)')\n",
    "        xlim([0,365])\n",
    "        #Min,Max=min(original[l]),max(original[l])\n",
    "        #print Min,Max\n",
    "        #ylim(Min,Max)\n",
    "        legend(['original','Mean','1','2','3'],loc=2)\n",
    "    \n",
    "    c=0\n",
    "    for l in upper:\n",
    "        subplot(4,2,j)\n",
    "        j+=1\n",
    "        c+=1\n",
    "        plot(original[l])\n",
    "        plot(STAT[m]['Mean'])\n",
    "        plot(Reconstructed[1][:,l])\n",
    "        plot(Reconstructed[2][:,l])\n",
    "        plot(Reconstructed[3][:,l])\n",
    "        title('#' + str(c) + ' Sample for ' + m + ' (high residual error)')\n",
    "        xlim([0,365])\n",
    "        legend(['original','Mean','1','2','3'],loc=2)\n"
   ]
  },
  {
   "cell_type": "code",
   "execution_count": 9,
   "metadata": {
    "collapsed": false,
    "scrolled": false
   },
   "outputs": [
    {
     "name": "stdout",
     "output_type": "stream",
     "text": [
      "Reconstruction Plots for TMAX\n",
      "Reconstruction Plots for SNWD\n"
     ]
    },
    {
     "data": {},
     "metadata": {},
     "output_type": "display_data"
    }
   ],
   "source": [
    "for m in ['TMAX','SNWD']:\n",
    "    print 'Reconstruction Plots for '+ m\n",
    "    create_reconstructions(m)"
   ]
  },
  {
   "cell_type": "code",
   "execution_count": null,
   "metadata": {
    "collapsed": true
   },
   "outputs": [],
   "source": []
  }
 ],
 "metadata": {
  "kernelspec": {
   "display_name": "Python 2",
   "language": "python",
   "name": "python2"
  },
  "language_info": {
   "codemirror_mode": {
    "name": "ipython",
    "version": 2
   },
   "file_extension": ".py",
   "mimetype": "text/x-python",
   "name": "python",
   "nbconvert_exporter": "python",
   "pygments_lexer": "ipython2",
   "version": "2.7.6"
  }
 },
 "nbformat": 4,
 "nbformat_minor": 0
}
