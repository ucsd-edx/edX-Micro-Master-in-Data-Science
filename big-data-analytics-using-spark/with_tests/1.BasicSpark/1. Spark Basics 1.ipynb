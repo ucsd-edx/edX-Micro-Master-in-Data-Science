{
 "cells": [
  {
   "cell_type": "markdown",
   "metadata": {
    "slideshow": {
     "slide_type": "slide"
    }
   },
   "source": [
    "# Spark Basics 1\n",
    "\n",
    "This notebook inroduces two fundamental objects in Spark:\n",
    "* The Spark Context\n",
    "\n",
    "* The Resilient Distributed DataSet or RDD"
   ]
  },
  {
   "cell_type": "markdown",
   "metadata": {},
   "source": [
    "The following code imports all the tools and exercises needed to complete this document:"
   ]
  },
  {
   "cell_type": "code",
   "execution_count": 1,
   "metadata": {
    "collapsed": true
   },
   "outputs": [],
   "source": [
    "import sys\n",
    "import os\n",
    "import pickle\n",
    "import numpy as np\n",
    "\n",
    "testPath = '/'.join(os.getcwd().split('/')[:-1]) + \"/Tester\"\n",
    "sys.path.insert(0, testPath )\n",
    "pickleFile = testPath+ \"/SparkBasics1.pkl\"\n",
    "\n",
    "import Tester\n",
    "import SparkBasics1"
   ]
  },
  {
   "cell_type": "markdown",
   "metadata": {
    "slideshow": {
     "slide_type": "subslide"
    }
   },
   "source": [
    "### Spark Context\n",
    "* Spark is complex distributed doftware. \n",
    "* The python interface to spark is called **pyspark**\n",
    "* **SparkContext** is a python class, defined as part of **pyspark** which manages the communication between the user's program and spark."
   ]
  },
  {
   "cell_type": "markdown",
   "metadata": {
    "slideshow": {
     "slide_type": "subslide"
    }
   },
   "source": [
    "We start by creating a **SparkContext** object named **sc**. In this case we create a spark context that uses 3 *executors*"
   ]
  },
  {
   "cell_type": "code",
   "execution_count": 2,
   "metadata": {
    "collapsed": false,
    "slideshow": {
     "slide_type": "fragment"
    }
   },
   "outputs": [
    {
     "data": {
      "text/plain": [
       "<pyspark.context.SparkContext at 0x7fef50495a90>"
      ]
     },
     "execution_count": 2,
     "metadata": {},
     "output_type": "execute_result"
    }
   ],
   "source": [
    "from pyspark import SparkContext\n",
    "sc = SparkContext(master=\"local[4]\")\n",
    "sc"
   ]
  },
  {
   "cell_type": "markdown",
   "metadata": {
    "slideshow": {
     "slide_type": "skip"
    }
   },
   "source": [
    "### Only one sparkContext at a time!\n",
    "When you run spark in local mode, you can have only a single context at a time. Therefor, if you want to use spark in a second notebook, you should first stop the one you are using here. This is what the method `.stop()` is for."
   ]
  },
  {
   "cell_type": "code",
   "execution_count": 3,
   "metadata": {
    "collapsed": true,
    "slideshow": {
     "slide_type": "skip"
    }
   },
   "outputs": [],
   "source": [
    "# sc.stop() #commented out so that you don't stop your context by mistake"
   ]
  },
  {
   "cell_type": "markdown",
   "metadata": {
    "slideshow": {
     "slide_type": "slide"
    }
   },
   "source": [
    "<h3>RDDs</h3>\n",
    "\n",
    "<p>RDD (or Resilient Distributed DataSet) is the main novel data structure in Spark. You can think of it as a list whose elements are stored on several computers.</p>\n",
    "\n",
    "<p><img alt=\"\" src=\"Figures/SparkContextAndRDD.jpg\" style=\"height:324px; width:900px\" /></p>\n"
   ]
  },
  {
   "cell_type": "markdown",
   "metadata": {
    "slideshow": {
     "slide_type": "skip"
    }
   },
   "source": [
    "The elements of each `RDD` are distributed across the **worker nodes** which are the nodes that perform the actual computations. This notebook, however, is running on the **Driver node**. As the RDD is not stored on the driver-node you cannot access it directly. The variable name `RDD` is really just a pointer to a python object which holds the information regardnig the actual location of the elements."
   ]
  },
  {
   "cell_type": "markdown",
   "metadata": {
    "slideshow": {
     "slide_type": "slide"
    }
   },
   "source": [
    "#### Parallelize \n",
    "* Simplest way to create an RDD.\n",
    "* The method `A=sc.parallelize(L)`, creates an RDD named `A` from list `L`.\n",
    "* `A` is an RDD of type `ParallelCollectionRDD`."
   ]
  },
  {
   "cell_type": "code",
   "execution_count": 3,
   "metadata": {
    "collapsed": false,
    "slideshow": {
     "slide_type": "fragment"
    }
   },
   "outputs": [
    {
     "data": {
      "text/plain": [
       "ParallelCollectionRDD[0] at parallelize at PythonRDD.scala:475"
      ]
     },
     "execution_count": 3,
     "metadata": {},
     "output_type": "execute_result"
    }
   ],
   "source": [
    "A=sc.parallelize(range(3))\n",
    "A"
   ]
  },
  {
   "cell_type": "markdown",
   "metadata": {
    "slideshow": {
     "slide_type": "slide"
    }
   },
   "source": [
    "#### Collect\n",
    "\n",
    "* RDD content is distributed among all executors.\n",
    "* `collect()` is the inverse of `parallelize()'\n",
    "* collects the elements of the RDD\n",
    "* Returns a list\n"
   ]
  },
  {
   "cell_type": "code",
   "execution_count": 4,
   "metadata": {
    "collapsed": false,
    "slideshow": {
     "slide_type": "fragment"
    }
   },
   "outputs": [
    {
     "name": "stdout",
     "output_type": "stream",
     "text": [
      "<type 'list'>\n",
      "[0, 1, 2]\n"
     ]
    }
   ],
   "source": [
    "L=A.collect()\n",
    "print type(L)\n",
    "print L"
   ]
  },
  {
   "cell_type": "markdown",
   "metadata": {
    "slideshow": {
     "slide_type": "skip"
    }
   },
   "source": [
    "### Using `.collect()` eliminates the benefits of parallelism\n",
    "It is often tempting to `.collect()` and RDD, make it into a list, and then process the list using standard python. However, note that this means that you are using only the head node to perform the computation which means that you are not getting any benefit from spark.\n",
    "\n",
    "Using RDD operations, as described below, **will** make use of all of the computers at your disposal."
   ]
  },
  {
   "cell_type": "markdown",
   "metadata": {
    "slideshow": {
     "slide_type": "slide"
    }
   },
   "source": [
    "### Map\n",
    "* applies a given operation to each element of an RDD\n",
    "* parameter is the function defining the operation.\n",
    "* returns a new RDD.\n",
    "* Operation performed in parallel on all executors.\n",
    "* Each executor operates on the data **local** to it."
   ]
  },
  {
   "cell_type": "markdown",
   "metadata": {
    "slideshow": {
     "slide_type": "skip"
    }
   },
   "source": [
    "**Note:** Here we are using **lambda** functions, later we will see that regular functions can also be used.\n",
    "\n",
    "For more on lambda function see [here](http://www.secnetix.de/olli/Python/lambda_functions.hawk)"
   ]
  },
  {
   "cell_type": "markdown",
   "metadata": {
    "nbgrader": {
     "grade": false,
     "grade_id": "Excercise1",
     "locked": true,
     "solution": false
    },
    "slideshow": {
     "slide_type": "skip"
    }
   },
   "source": [
    "#### Excercise 1\n",
    "\n",
    "1. Write a function called `mapcos` that has a single paramater: an RDD of numbers, computes the `cos()` (cosine) and returns it as a list.\n",
    "\n",
    "```cos(A)``` should produce the output\n",
    "    \n",
    "```\n",
    "    [1.0, 0.54030..., -0.41614...]\n",
    "```\n",
    "\n",
    "**Approximate answers** The reason that the numbers above end with `...` is that, when computing with floating point numbers, there are always roundoff errors, and the roundoff errors may depend on the architecture of the computer you are using. To avoid this problem, we test the answers you produce within a tolerance of 0.1%, in other words if your answer is $a$ and the correct answer is $b$ then your answer is considered correct if\n",
    "$$ \\left| \\frac{a-b}{a} \\right| < 0.001$$"
   ]
  },
  {
   "cell_type": "markdown",
   "metadata": {},
   "source": [
    "### Exercise 1: Teacher Stuff"
   ]
  },
  {
   "cell_type": "code",
   "execution_count": 3,
   "metadata": {
    "collapsed": false
   },
   "outputs": [],
   "source": [
    "import SparkBasics1_Teacher"
   ]
  },
  {
   "cell_type": "code",
   "execution_count": 8,
   "metadata": {
    "collapsed": true
   },
   "outputs": [],
   "source": [
    "def mapcos(A):\n",
    "    return A.map(np.cos)"
   ]
  },
  {
   "cell_type": "code",
   "execution_count": 11,
   "metadata": {
    "collapsed": false
   },
   "outputs": [],
   "source": [
    "inputs= [ sc.parallelize(range(3)),\n",
    "          sc.parallelize(range(4,12)), \n",
    "          sc.parallelize(range(-4,0))   ]\n",
    "\n",
    "Tester.GenPickle(mapcos, inputs, pickleFile, \"ex1\" )"
   ]
  },
  {
   "cell_type": "code",
   "execution_count": 9,
   "metadata": {
    "collapsed": false
   },
   "outputs": [
    {
     "name": "stdout",
     "output_type": "stream",
     "text": [
      "Input: [3.141592653589793, 0, 100000, 31.41592653589793, 3.784189633918261, -49.4902]\n",
      "Correct Output: [-1.0, 1.0, -0.99936080743821243, 1.0, -0.80054215002569207, 0.71422336555046395]\n",
      "Great Job!\n",
      "\n",
      "Input: [39, 40, 41, 42, 43, 44]\n",
      "Correct Output: [0.26664293235993725, -0.66693806165226188, -0.98733927752382644, -0.39998531498835127, 0.55511330152062566, 0.99984330864769122]\n",
      "Great Job!\n",
      "\n"
     ]
    }
   ],
   "source": [
    "# after creating the code in the SparkBasics1_Teacher, we check that it works belows\n",
    "import SparkBasics1_Teacher\n",
    "SparkBasics1_Teacher.exercise1(testPath, mapcos, sc)"
   ]
  },
  {
   "cell_type": "markdown",
   "metadata": {},
   "source": [
    "### Exercise 1:"
   ]
  },
  {
   "cell_type": "code",
   "execution_count": 4,
   "metadata": {
    "collapsed": false
   },
   "outputs": [],
   "source": [
    "def mapcos(A):\n",
    "    # Write the code that will perform the task outlined above\n",
    "    return \"return spark FUNCTION here, so to get a list run: mapcos(A).collect() \""
   ]
  },
  {
   "cell_type": "code",
   "execution_count": 13,
   "metadata": {
    "collapsed": false
   },
   "outputs": [
    {
     "name": "stdout",
     "output_type": "stream",
     "text": [
      "Input: [0, 1, 2]\n",
      "Correct Output: [1.0, 0.54030230586813977, -0.41614683654714241]\n",
      "Great Job!\n",
      "\n",
      "Input: [4, 5, 6, 7, 8, 9, 10, 11]\n",
      "Correct Output: [-0.65364362086361194, 0.28366218546322625, 0.96017028665036597, 0.7539022543433046, -0.14550003380861354, -0.91113026188467694, -0.83907152907645244, 0.0044256979880507854]\n",
      "Great Job!\n",
      "\n",
      "Input: [-4, -3, -2, -1]\n",
      "Correct Output: [-0.65364362086361194, -0.98999249660044542, -0.41614683654714241, 0.54030230586813977]\n",
      "Great Job!\n",
      "\n"
     ]
    }
   ],
   "source": [
    "SparkBasics1.exercise1(pickleFile, mapcos,sc)"
   ]
  },
  {
   "cell_type": "markdown",
   "metadata": {
    "slideshow": {
     "slide_type": "skip"
    }
   },
   "source": [
    "### Excercise 2\n",
    "Consider the following RDD: \n",
    "\n",
    "```\n",
    "stringRDD=sc.parallelize([\"Spring quarter\", \"Learning spark basics\", \"Big data analytics with Spark\"])\n",
    "```\n",
    "   Write a function called `mapwords` that has a single paramater: an RDD of strings, and returns a list of words for each string.  \n",
    "    ```mapwords(MapString)``` should produce the output:\n",
    "    \n",
    "``` \n",
    "[['Spring', 'quarter'], ['Learning', 'spark', 'basics'], ['Big', 'data', 'analytics', 'with', 'Spark']]\n",
    "```"
   ]
  },
  {
   "cell_type": "markdown",
   "metadata": {},
   "source": [
    "# Exercise 2:  Teacher Stuff"
   ]
  },
  {
   "cell_type": "code",
   "execution_count": 9,
   "metadata": {
    "collapsed": true
   },
   "outputs": [],
   "source": [
    "def mapwords(stringRDD):\n",
    "    return stringRDD.map(lambda x: x.split() )"
   ]
  },
  {
   "cell_type": "code",
   "execution_count": 5,
   "metadata": {
    "collapsed": true
   },
   "outputs": [],
   "source": [
    "inputs = [ sc.parallelize([\"Spring quarter\", \"Learning spark basics\", \"Big data analytics with Spark\"]),\n",
    "           sc.parallelize([\"Do not go gentle\", \"into that good night\", \"old age should burn and rave\"]),\n",
    "           sc.parallelize([\"do\",\"I dare disturb\",\"the universe\",\"there will be time there will be\",\"time\"]) ]\n",
    "\n",
    "Tester.GenPickle(mapwords, inputs, pickleFile, \"ex2\" )"
   ]
  },
  {
   "cell_type": "code",
   "execution_count": 6,
   "metadata": {
    "collapsed": false
   },
   "outputs": [
    {
     "name": "stdout",
     "output_type": "stream",
     "text": [
      "Input: ['ah', 'ah ah ah', 'ha ai ifo aoisdmf']\n",
      "Correct Output: [['ah'], ['ah', 'ah', 'ah'], ['ha', 'ai', 'ifo', 'aoisdmf']]\n",
      "Great Job!\n",
      "\n",
      "Input: ['asdio', 'i', 'asdfasd', 'aasdf']\n",
      "Correct Output: [['asdio'], ['i'], ['asdfasd'], ['aasdf']]\n",
      "Great Job!\n",
      "\n",
      "Input: ['do asdnj aksdo adsof aos asod oasdf  mkmasdkf maso asdf okm']\n",
      "Correct Output: [['do', 'asdnj', 'aksdo', 'adsof', 'aos', 'asod', 'oasdf', 'mkmasdkf', 'maso', 'asdf', 'okm']]\n",
      "Great Job!\n",
      "\n"
     ]
    }
   ],
   "source": [
    "# after creating the code in the SparkBasics1_Teacher, we check that it works belows\n",
    "SparkBasics1_Teacher.exercise2(testPath, mapwords, sc)"
   ]
  },
  {
   "cell_type": "markdown",
   "metadata": {},
   "source": [
    "# Exercise 2:"
   ]
  },
  {
   "cell_type": "code",
   "execution_count": 7,
   "metadata": {
    "collapsed": true
   },
   "outputs": [],
   "source": [
    "def mapwords(B):\n",
    "    # Write the code that will perform the task outlined in exercise 2\n",
    "    return \"return spark FUNCTION here, so to get a list run: mapwords(B).collect() \""
   ]
  },
  {
   "cell_type": "code",
   "execution_count": 10,
   "metadata": {
    "collapsed": false
   },
   "outputs": [
    {
     "name": "stdout",
     "output_type": "stream",
     "text": [
      "Input: ['Spring quarter', 'Learning spark basics', 'Big data analytics with Spark']\n",
      "Correct Output: [['Spring', 'quarter'], ['Learning', 'spark', 'basics'], ['Big', 'data', 'analytics', 'with', 'Spark']]\n",
      "Great Job!\n",
      "\n",
      "Input: ['Do not go gentle', 'into that good night', 'old age should burn and rave']\n",
      "Correct Output: [['Do', 'not', 'go', 'gentle'], ['into', 'that', 'good', 'night'], ['old', 'age', 'should', 'burn', 'and', 'rave']]\n",
      "Great Job!\n",
      "\n",
      "Input: ['do', 'I dare disturb', 'the universe', 'there will be time there will be', 'time']\n",
      "Correct Output: [['do'], ['I', 'dare', 'disturb'], ['the', 'universe'], ['there', 'will', 'be', 'time', 'there', 'will', 'be'], ['time']]\n",
      "Great Job!\n",
      "\n"
     ]
    }
   ],
   "source": [
    "SparkBasics1.exercise2(pickleFile, mapwords, sc)"
   ]
  },
  {
   "cell_type": "markdown",
   "metadata": {
    "slideshow": {
     "slide_type": "slide"
    }
   },
   "source": [
    "### Reduce\n",
    "\n",
    "* Takes RDD as input, returns a single value.\n",
    "* **Reduce operator** takes **two** elements as input returns **one** as output.\n",
    "* Repeatedly applies a **reduce operator**\n",
    "* Each executor reduces the data local to it.\n",
    "* The results from all executors are combined."
   ]
  },
  {
   "cell_type": "markdown",
   "metadata": {
    "slideshow": {
     "slide_type": "slide"
    }
   },
   "source": [
    "The simplest example of a 2-to-1 operation is the sum:"
   ]
  },
  {
   "cell_type": "code",
   "execution_count": 17,
   "metadata": {
    "collapsed": false,
    "slideshow": {
     "slide_type": "fragment"
    }
   },
   "outputs": [
    {
     "data": {
      "text/plain": [
       "3"
      ]
     },
     "execution_count": 17,
     "metadata": {},
     "output_type": "execute_result"
    }
   ],
   "source": [
    "A.reduce(lambda x,y: x+y)"
   ]
  },
  {
   "cell_type": "markdown",
   "metadata": {
    "slideshow": {
     "slide_type": "subslide"
    }
   },
   "source": [
    "Here is an example of a reduce operation that finds the shortest string in an RDD of strings."
   ]
  },
  {
   "cell_type": "code",
   "execution_count": 18,
   "metadata": {
    "collapsed": false,
    "slideshow": {
     "slide_type": "fragment"
    }
   },
   "outputs": [
    {
     "data": {
      "text/plain": [
       "'is'"
      ]
     },
     "execution_count": 18,
     "metadata": {},
     "output_type": "execute_result"
    }
   ],
   "source": [
    "words=['this','is','the','best','mac','ever']\n",
    "wordRDD=sc.parallelize(words)\n",
    "wordRDD.reduce(lambda w,v: w if len(w)<len(v) else v)"
   ]
  },
  {
   "cell_type": "markdown",
   "metadata": {
    "slideshow": {
     "slide_type": "skip"
    }
   },
   "source": [
    "#### Exercise 3\n",
    "\n",
    "1. Write a `reduce` command that outputs the maximum number from a list of numbers. Your command should produce the following output on the input ```RDD=sc.parallelize([0,2,1])```\n",
    "\n",
    "   Output: ``` 2 ```"
   ]
  },
  {
   "cell_type": "markdown",
   "metadata": {},
   "source": [
    "# Exercise 3: Teacher Stuff"
   ]
  },
  {
   "cell_type": "code",
   "execution_count": 19,
   "metadata": {
    "collapsed": true
   },
   "outputs": [],
   "source": [
    "def getMax(C):\n",
    "    return C.reduce(max)"
   ]
  },
  {
   "cell_type": "code",
   "execution_count": 20,
   "metadata": {
    "collapsed": false
   },
   "outputs": [],
   "source": [
    "inputs = [ sc.parallelize([0,4,2,3,1]),\n",
    "           sc.parallelize([-3.2,-3.233,-3.1,-3.9]),\n",
    "           sc.parallelize([2,2,2,2,2,2]) ]\n",
    "\n",
    "Tester.GenPickle(getMax, inputs, pickleFile, \"ex3\", isRDD=False )"
   ]
  },
  {
   "cell_type": "code",
   "execution_count": 21,
   "metadata": {
    "collapsed": false
   },
   "outputs": [
    {
     "name": "stdout",
     "output_type": "stream",
     "text": [
      "Input: [0, 3.49, 2.4922, 5.24, -24]\n",
      "Correct Output: 5.24\n",
      "Great Job!\n",
      "\n",
      "Input: [-3.01, -3.2, -3.001, -3.4]\n",
      "Correct Output: -3.001\n",
      "Great Job!\n",
      "\n",
      "Input: [7]\n",
      "Correct Output: 7\n",
      "Great Job!\n",
      "\n"
     ]
    }
   ],
   "source": [
    "# after creating the code in the SparkBasics1_Teacher, we check that it works belows\n",
    "SparkBasics1_Teacher.exercise3(testPath, getMax, sc)"
   ]
  },
  {
   "cell_type": "markdown",
   "metadata": {},
   "source": [
    "# Exercise 3"
   ]
  },
  {
   "cell_type": "code",
   "execution_count": null,
   "metadata": {
    "collapsed": true
   },
   "outputs": [],
   "source": [
    "def getMax(C):\n",
    "    # Write the code that will perform the task outlined in exercise 3\n",
    "    return \"return spark NUMBER here, example, to get a number run mapwords(C)\""
   ]
  },
  {
   "cell_type": "code",
   "execution_count": 22,
   "metadata": {
    "collapsed": false
   },
   "outputs": [
    {
     "name": "stdout",
     "output_type": "stream",
     "text": [
      "Input: [0, 4, 2, 3, 1]\n",
      "Correct Output: 4\n",
      "Great Job!\n",
      "\n",
      "Input: [-3.2, -3.233, -3.1, -3.9]\n",
      "Correct Output: -3.1\n",
      "Great Job!\n",
      "\n",
      "Input: [2, 2, 2, 2, 2, 2]\n",
      "Correct Output: 2\n",
      "Great Job!\n",
      "\n"
     ]
    }
   ],
   "source": [
    "SparkBasics1.exercise3(pickleFile, getMax, sc)"
   ]
  },
  {
   "cell_type": "markdown",
   "metadata": {},
   "source": [
    "### Exercise 4\n",
    "\n",
    "2. Consider the stringRDD defined in Exercise. Write a `reduce` command to produce a single string which is the concatenation of all the strings in stringRDD(with a space between each string). You output should look like:\n",
    "\n",
    "    Output: ``` 'Spring quarter Learning spark basics Big data analytics with Spark' ```"
   ]
  },
  {
   "cell_type": "markdown",
   "metadata": {},
   "source": [
    "# Teacher Stuff"
   ]
  },
  {
   "cell_type": "markdown",
   "metadata": {},
   "source": [
    "# Is this one correct?"
   ]
  },
  {
   "cell_type": "code",
   "execution_count": 21,
   "metadata": {
    "collapsed": false
   },
   "outputs": [
    {
     "name": "stdout",
     "output_type": "stream",
     "text": [
      "['Spring', 'quarter', 'Learning', 'spark', 'basics', 'Big', 'data', 'analytics', 'with', 'Spark']\n",
      "['Do', 'not', 'go', 'gentle', 'into', 'that', 'good', 'night', 'old', 'age', 'should', 'rave', 'and', 'burn']\n",
      "['do', 'I', 'dare', 'disturb', 'the', 'universe', 'there', 'will', 'be', 'time', 'there', 'will', 'be', 'time']\n"
     ]
    }
   ],
   "source": [
    "for i in inputs:\n",
    "    print mapwords2(mapwords(i))"
   ]
  },
  {
   "cell_type": "code",
   "execution_count": 11,
   "metadata": {
    "collapsed": false
   },
   "outputs": [],
   "source": [
    "def mapwords2(mapwords):\n",
    "    return mapwords.reduce(lambda x,y: x+\" \"+y)"
   ]
  },
  {
   "cell_type": "code",
   "execution_count": 12,
   "metadata": {
    "collapsed": true
   },
   "outputs": [],
   "source": [
    "inputs = [ sc.parallelize([\"Spring quarter\", \"Learning spark basics\", \"Big data analytics with Spark\"]),\n",
    "           sc.parallelize([\"Do not go gentle\", \"into that good night\", \"old age should burn and rave\"]),\n",
    "           sc.parallelize([\"do\",\"I dare disturb\",\"the universe\",\"there will be time there will be\",\"time\"]) ]\n",
    "\n",
    "Tester.GenPickle(mapwords2, inputs, pickleFile, \"ex4\", isRDD=False )"
   ]
  },
  {
   "cell_type": "code",
   "execution_count": 13,
   "metadata": {
    "collapsed": false
   },
   "outputs": [
    {
     "ename": "TypeError",
     "evalue": "can only concatenate list (not \"str\") to list",
     "output_type": "error",
     "traceback": [
      "\u001b[0;31m---------------------------------------------------------------------------\u001b[0m",
      "\u001b[0;31mTypeError\u001b[0m                                 Traceback (most recent call last)",
      "\u001b[0;32m<ipython-input-13-3d24b526ba18>\u001b[0m in \u001b[0;36m<module>\u001b[0;34m()\u001b[0m\n\u001b[0;32m----> 1\u001b[0;31m \u001b[0mSparkBasics1_Teacher\u001b[0m\u001b[0;34m.\u001b[0m\u001b[0mexercise4\u001b[0m\u001b[0;34m(\u001b[0m\u001b[0mtestPath\u001b[0m\u001b[0;34m,\u001b[0m \u001b[0mmapwords2\u001b[0m\u001b[0;34m,\u001b[0m \u001b[0msc\u001b[0m\u001b[0;34m)\u001b[0m\u001b[0;34m\u001b[0m\u001b[0m\n\u001b[0m",
      "\u001b[0;32m/home/elliott/Desktop/SparkClass/edX-Micro-Master-in-Data-Science/big-data-analytics-using-spark/with_tests/Tester/SparkBasics1_Teacher.py\u001b[0m in \u001b[0;36mexercise4\u001b[0;34m(testPath, func, sc)\u001b[0m\n\u001b[1;32m     51\u001b[0m               sc.parallelize([\"do asdnj aksdo adsof aos asod oasdf  mkmasdkf maso asdf okm\"]) ]\n\u001b[1;32m     52\u001b[0m     \u001b[0;32mfor\u001b[0m \u001b[0minput\u001b[0m \u001b[0;32min\u001b[0m \u001b[0minputs\u001b[0m\u001b[0;34m:\u001b[0m\u001b[0;34m\u001b[0m\u001b[0m\n\u001b[0;32m---> 53\u001b[0;31m         TestList( data=input, func_student=func, corAns=mapwords2(mapwords(input)), \n\u001b[0m\u001b[1;32m     54\u001b[0m                    corType=type(mapwords2(mapwords(input))), isNum=False )\n\u001b[1;32m     55\u001b[0m         \u001b[0;32mprint\u001b[0m \u001b[0;34m\"\"\u001b[0m\u001b[0;34m\u001b[0m\u001b[0m\n",
      "\u001b[0;32m/home/elliott/Desktop/SparkClass/edX-Micro-Master-in-Data-Science/big-data-analytics-using-spark/with_tests/Tester/SparkBasics1_Teacher.py\u001b[0m in \u001b[0;36mmapwords2\u001b[0;34m(mapwords)\u001b[0m\n\u001b[1;32m     45\u001b[0m \u001b[0;31m###   Exercise 4   ###\u001b[0m\u001b[0;34m\u001b[0m\u001b[0;34m\u001b[0m\u001b[0m\n\u001b[1;32m     46\u001b[0m \u001b[0;32mdef\u001b[0m \u001b[0mmapwords2\u001b[0m\u001b[0;34m(\u001b[0m\u001b[0mmapwords\u001b[0m\u001b[0;34m)\u001b[0m\u001b[0;34m:\u001b[0m\u001b[0;34m\u001b[0m\u001b[0m\n\u001b[0;32m---> 47\u001b[0;31m     \u001b[0;32mreturn\u001b[0m \u001b[0mmapwords\u001b[0m\u001b[0;34m.\u001b[0m\u001b[0mreduce\u001b[0m\u001b[0;34m(\u001b[0m\u001b[0;32mlambda\u001b[0m \u001b[0mx\u001b[0m\u001b[0;34m,\u001b[0m\u001b[0my\u001b[0m\u001b[0;34m:\u001b[0m \u001b[0mx\u001b[0m\u001b[0;34m+\u001b[0m\u001b[0;34m\" \"\u001b[0m\u001b[0;34m+\u001b[0m\u001b[0my\u001b[0m\u001b[0;34m)\u001b[0m\u001b[0;34m\u001b[0m\u001b[0m\n\u001b[0m\u001b[1;32m     48\u001b[0m \u001b[0;32mdef\u001b[0m \u001b[0mexercise4\u001b[0m\u001b[0;34m(\u001b[0m\u001b[0mtestPath\u001b[0m\u001b[0;34m,\u001b[0m \u001b[0mfunc\u001b[0m\u001b[0;34m,\u001b[0m \u001b[0msc\u001b[0m\u001b[0;34m)\u001b[0m\u001b[0;34m:\u001b[0m\u001b[0;34m\u001b[0m\u001b[0m\n\u001b[1;32m     49\u001b[0m     inputs = [ sc.parallelize([\"ah\", \"ah ah ah\", \"ha ai ifo aoisdmf\"]),\n",
      "\u001b[0;32m/home/elliott/spark/python/pyspark/rdd.pyc\u001b[0m in \u001b[0;36mreduce\u001b[0;34m(self, f)\u001b[0m\n\u001b[1;32m    835\u001b[0m         \u001b[0mvals\u001b[0m \u001b[0;34m=\u001b[0m \u001b[0mself\u001b[0m\u001b[0;34m.\u001b[0m\u001b[0mmapPartitions\u001b[0m\u001b[0;34m(\u001b[0m\u001b[0mfunc\u001b[0m\u001b[0;34m)\u001b[0m\u001b[0;34m.\u001b[0m\u001b[0mcollect\u001b[0m\u001b[0;34m(\u001b[0m\u001b[0;34m)\u001b[0m\u001b[0;34m\u001b[0m\u001b[0m\n\u001b[1;32m    836\u001b[0m         \u001b[0;32mif\u001b[0m \u001b[0mvals\u001b[0m\u001b[0;34m:\u001b[0m\u001b[0;34m\u001b[0m\u001b[0m\n\u001b[0;32m--> 837\u001b[0;31m             \u001b[0;32mreturn\u001b[0m \u001b[0mreduce\u001b[0m\u001b[0;34m(\u001b[0m\u001b[0mf\u001b[0m\u001b[0;34m,\u001b[0m \u001b[0mvals\u001b[0m\u001b[0;34m)\u001b[0m\u001b[0;34m\u001b[0m\u001b[0m\n\u001b[0m\u001b[1;32m    838\u001b[0m         \u001b[0;32mraise\u001b[0m \u001b[0mValueError\u001b[0m\u001b[0;34m(\u001b[0m\u001b[0;34m\"Can not reduce() empty RDD\"\u001b[0m\u001b[0;34m)\u001b[0m\u001b[0;34m\u001b[0m\u001b[0m\n\u001b[1;32m    839\u001b[0m \u001b[0;34m\u001b[0m\u001b[0m\n",
      "\u001b[0;32m/home/elliott/Desktop/SparkClass/edX-Micro-Master-in-Data-Science/big-data-analytics-using-spark/with_tests/Tester/SparkBasics1_Teacher.py\u001b[0m in \u001b[0;36m<lambda>\u001b[0;34m(x, y)\u001b[0m\n\u001b[1;32m     45\u001b[0m \u001b[0;31m###   Exercise 4   ###\u001b[0m\u001b[0;34m\u001b[0m\u001b[0;34m\u001b[0m\u001b[0m\n\u001b[1;32m     46\u001b[0m \u001b[0;32mdef\u001b[0m \u001b[0mmapwords2\u001b[0m\u001b[0;34m(\u001b[0m\u001b[0mmapwords\u001b[0m\u001b[0;34m)\u001b[0m\u001b[0;34m:\u001b[0m\u001b[0;34m\u001b[0m\u001b[0m\n\u001b[0;32m---> 47\u001b[0;31m     \u001b[0;32mreturn\u001b[0m \u001b[0mmapwords\u001b[0m\u001b[0;34m.\u001b[0m\u001b[0mreduce\u001b[0m\u001b[0;34m(\u001b[0m\u001b[0;32mlambda\u001b[0m \u001b[0mx\u001b[0m\u001b[0;34m,\u001b[0m\u001b[0my\u001b[0m\u001b[0;34m:\u001b[0m \u001b[0mx\u001b[0m\u001b[0;34m+\u001b[0m\u001b[0;34m\" \"\u001b[0m\u001b[0;34m+\u001b[0m\u001b[0my\u001b[0m\u001b[0;34m)\u001b[0m\u001b[0;34m\u001b[0m\u001b[0m\n\u001b[0m\u001b[1;32m     48\u001b[0m \u001b[0;32mdef\u001b[0m \u001b[0mexercise4\u001b[0m\u001b[0;34m(\u001b[0m\u001b[0mtestPath\u001b[0m\u001b[0;34m,\u001b[0m \u001b[0mfunc\u001b[0m\u001b[0;34m,\u001b[0m \u001b[0msc\u001b[0m\u001b[0;34m)\u001b[0m\u001b[0;34m:\u001b[0m\u001b[0;34m\u001b[0m\u001b[0m\n\u001b[1;32m     49\u001b[0m     inputs = [ sc.parallelize([\"ah\", \"ah ah ah\", \"ha ai ifo aoisdmf\"]),\n",
      "\u001b[0;31mTypeError\u001b[0m: can only concatenate list (not \"str\") to list"
     ]
    }
   ],
   "source": [
    "SparkBasics1_Teacher.exercise4(testPath, mapwords2, sc)"
   ]
  },
  {
   "cell_type": "markdown",
   "metadata": {},
   "source": [
    "# Exercise 4"
   ]
  },
  {
   "cell_type": "code",
   "execution_count": 27,
   "metadata": {
    "collapsed": true
   },
   "outputs": [],
   "source": [
    "def mapwords2(mapwords):\n",
    "    # This function should take in as it's input the previous mapwords function you wrote\n",
    "    # you should then apply 1 spark function to it to it so that you return a single list\n",
    "    return \"return something like: mapwords.somefunction(...)\""
   ]
  },
  {
   "cell_type": "code",
   "execution_count": 14,
   "metadata": {
    "collapsed": false
   },
   "outputs": [
    {
     "name": "stdout",
     "output_type": "stream",
     "text": [
      "Input: ['Spring quarter', 'Learning spark basics', 'Big data analytics with Spark']\n",
      "Correct Output: Spring quarter Learning spark basics Big data analytics with Spark\n",
      "Great Job!\n",
      "\n",
      "Input: ['Do not go gentle', 'into that good night', 'old age should burn and rave']\n",
      "Correct Output: Do not go gentle into that good night old age should burn and rave\n",
      "Great Job!\n",
      "\n",
      "Input: ['do', 'I dare disturb', 'the universe', 'there will be time there will be', 'time']\n",
      "Correct Output: do I dare disturb the universe there will be time there will be time\n",
      "Great Job!\n",
      "\n"
     ]
    }
   ],
   "source": [
    "SparkBasics1.exercise4(pickleFile, mapwords2, sc)"
   ]
  },
  {
   "cell_type": "markdown",
   "metadata": {
    "slideshow": {
     "slide_type": "slide"
    }
   },
   "source": [
    "### Using regular functions instead of lambda functions\n",
    "\n",
    "* lambda function are short and sweet.\n",
    "* but sometimes it's hard to use just one line.\n",
    "* We can use full-fledged functions instead."
   ]
  },
  {
   "cell_type": "markdown",
   "metadata": {
    "slideshow": {
     "slide_type": "subslide"
    }
   },
   "source": [
    "suppose we want to find the \n",
    "* last word in a lexicographical order \n",
    "* among \n",
    "* the longest words in the list.\n",
    "\n",
    "We could achieve that as follows"
   ]
  },
  {
   "cell_type": "code",
   "execution_count": null,
   "metadata": {
    "collapsed": false,
    "slideshow": {
     "slide_type": "fragment"
    }
   },
   "outputs": [],
   "source": [
    "def largerThan(x,y):\n",
    "    if len(x)>len(y): return x\n",
    "    elif len(y)>len(x): return y\n",
    "    else:  #lengths are equal, compare lexicographically\n",
    "        if x>y: \n",
    "            return x\n",
    "        else: \n",
    "            return y\n",
    "        \n",
    "wordRDD.reduce(largerThan)"
   ]
  },
  {
   "cell_type": "markdown",
   "metadata": {
    "slideshow": {
     "slide_type": "skip"
    }
   },
   "source": [
    "#### Exercise 5\n",
    "\n",
    "1. Consider the following RDD:\n",
    "\n",
    "    ``` listRDD=sc.parallelize([[3,4],[2,1],[7,9]]) ```\n",
    " \n",
    "     Write a regular function with `reduce` command to output the maximum element from a set of lists. Your output should look like:\n",
    "     \n",
    "     Output: ```[9]```\n",
    "     \n",
    "     (Note: The output is a list containing a single number rather than just a single number)"
   ]
  },
  {
   "cell_type": "markdown",
   "metadata": {},
   "source": [
    "# Teacher Stuff"
   ]
  },
  {
   "cell_type": "code",
   "execution_count": null,
   "metadata": {
    "collapsed": true
   },
   "outputs": [],
   "source": [
    "listRDD=sc.parallelize([[3,4],[2,1],[7,9]])"
   ]
  },
  {
   "cell_type": "code",
   "execution_count": null,
   "metadata": {
    "collapsed": true
   },
   "outputs": [],
   "source": [
    "getMax2(listRDD)"
   ]
  },
  {
   "cell_type": "code",
   "execution_count": null,
   "metadata": {
    "collapsed": true
   },
   "outputs": [],
   "source": [
    "def getMax2(A): \n",
    "    return A.reduce(lambda x,y: [max(x+y)])"
   ]
  },
  {
   "cell_type": "code",
   "execution_count": null,
   "metadata": {
    "collapsed": true
   },
   "outputs": [],
   "source": [
    "inputs = [ sc.parallelize([[3,4],[2,1],[7,9]]),\n",
    "           sc.parallelize([[-222],[-10,-33],[0,-5]]),\n",
    "           sc.parallelize([[3.2,3.3,3.1,3.9],[-3.95],[3.4,3.7]]) ]\n",
    "\n",
    "Tester.GenPickle(mapwords2, inputs, pickleFile, \"ex5\", isRDD=False )"
   ]
  },
  {
   "cell_type": "code",
   "execution_count": null,
   "metadata": {
    "collapsed": true
   },
   "outputs": [],
   "source": [
    "SparkBasics1_Teacher.exercise5(testPath, getMax2, sc)"
   ]
  },
  {
   "cell_type": "markdown",
   "metadata": {},
   "source": [
    "# Exercise 5"
   ]
  },
  {
   "cell_type": "code",
   "execution_count": null,
   "metadata": {
    "collapsed": true
   },
   "outputs": [],
   "source": [
    "def getMax2(A):\n",
    "    # doe something\n",
    "    return \"write something\""
   ]
  },
  {
   "cell_type": "code",
   "execution_count": null,
   "metadata": {
    "collapsed": true
   },
   "outputs": [],
   "source": [
    "SparkBasics1.exercise5(pickleFile, getMax2, sc)"
   ]
  },
  {
   "cell_type": "markdown",
   "metadata": {
    "slideshow": {
     "slide_type": "slide"
    }
   },
   "source": [
    "<h3>Reduce operations <strong>must not depend on the order</strong></h3>\n",
    "\n",
    "<ul>\n",
    "\t<li>Order of operands should not matter</li>\n",
    "\t<li>Order of application of reduce operator should not matter</li>\n",
    "</ul>\n",
    "\n",
    "<p>Multiplication and summation are good:</p>\n",
    "\n",
    "<h1>&nbsp; &nbsp; &nbsp; &nbsp; 1 + 3 + 5 + 2 &nbsp; &nbsp; &nbsp;5 + 3 + 1 + 2 &nbsp;</h1>\n"
   ]
  },
  {
   "cell_type": "markdown",
   "metadata": {
    "slideshow": {
     "slide_type": "subslide"
    }
   },
   "source": [
    "<p>Division and subtraction are bad:</p>\n",
    "\n",
    "<h1>&nbsp; &nbsp; &nbsp; &nbsp; 1 - 3 - 5 - 2 &nbsp; &nbsp; &nbsp; &nbsp; &nbsp;1 - 3 - 5 - 2 &nbsp;</h1>\n"
   ]
  },
  {
   "cell_type": "markdown",
   "metadata": {
    "slideshow": {
     "slide_type": "skip"
    }
   },
   "source": [
    "### Why must reordering not change the result?\n",
    "\n",
    "You can think about the reduce operation as a binary tree where the leaves are the elements of the list and the root is the final result. Each triplet of the form (parent, child1, child2) corresponds to a single application of the reduce function. \n",
    "\n",
    "The order in which the reduce operation is applied is **determined at run time** and depends on how the RDD is partitioned across the cluster.\n",
    "There are many different orders to apply the reduce operation. \n",
    "\n",
    "If we want the input RDD to uniquely determine the reduced value **all evaluation orders must must yield the same final result**. In addition, the order of the elements in the list must not change the result. In particular, reversing the order of the operands in a reduce function must not change the outcome. \n",
    "\n",
    "For example the arithmetic operations multiply `*` and add `+` can be used in a reduce, but the operations subtract `-` and divide `/` should not.\n",
    "\n",
    "Doing so will not raise an error, but the result is unpredictable."
   ]
  },
  {
   "cell_type": "markdown",
   "metadata": {
    "slideshow": {
     "slide_type": "subslide"
    }
   },
   "source": [
    "Here is a example  \n",
    "Which of these the following orders was executed?\n",
    "* $$((1-3)-5)-2$$ or\n",
    "* $$(1-3)-(5-2)$$"
   ]
  },
  {
   "cell_type": "code",
   "execution_count": null,
   "metadata": {
    "collapsed": false,
    "slideshow": {
     "slide_type": "fragment"
    }
   },
   "outputs": [],
   "source": [
    "B=sc.parallelize([1,3,5,2])\n",
    "B.reduce(lambda x,y: x-y)"
   ]
  }
 ],
 "metadata": {
  "anaconda-cloud": {},
  "celltoolbar": "Slideshow",
  "kernelspec": {
   "display_name": "Python [default]",
   "language": "python",
   "name": "python2"
  },
  "language_info": {
   "codemirror_mode": {
    "name": "ipython",
    "version": 2
   },
   "file_extension": ".py",
   "mimetype": "text/x-python",
   "name": "python",
   "nbconvert_exporter": "python",
   "pygments_lexer": "ipython2",
   "version": "2.7.12"
  }
 },
 "nbformat": 4,
 "nbformat_minor": 1
}
