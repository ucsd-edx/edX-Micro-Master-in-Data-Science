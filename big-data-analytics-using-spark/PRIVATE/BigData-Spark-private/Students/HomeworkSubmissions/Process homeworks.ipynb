{
 "cells": [
  {
   "cell_type": "code",
   "execution_count": 1,
   "metadata": {
    "collapsed": true
   },
   "outputs": [],
   "source": [
    "%matplotlib inline\n"
   ]
  },
  {
   "cell_type": "code",
   "execution_count": 2,
   "metadata": {
    "collapsed": false
   },
   "outputs": [
    {
     "name": "stderr",
     "output_type": "stream",
     "text": [
      "/Users/saurabh/anaconda/lib/python2.7/site-packages/pandas/computation/__init__.py:19: UserWarning: The installed version of numexpr 2.4.4 is not supported in pandas and will be not be used\n",
      "\n",
      "  UserWarning)\n"
     ]
    }
   ],
   "source": [
    "import pandas as pd"
   ]
  },
  {
   "cell_type": "markdown",
   "metadata": {},
   "source": [
    "### Reading all students list"
   ]
  },
  {
   "cell_type": "code",
   "execution_count": 3,
   "metadata": {
    "collapsed": false
   },
   "outputs": [],
   "source": [
    "students = pd.read_csv(\"../BlinkLists/CSE255FinalList.tsv\",sep=\"\\t\",usecols=[\"pid\",\"name\",\"email\"])\n",
    "students['pid'] = students['pid'].map(lambda x: x.upper().strip())"
   ]
  },
  {
   "cell_type": "code",
   "execution_count": 4,
   "metadata": {
    "collapsed": true
   },
   "outputs": [],
   "source": [
    "students[\"Last Name\"] = students['name'].map(lambda x: x.split(\",\")[0].strip())\n",
    "students[\"First Name\"] = students['name'].map(lambda x: x.split(\",\")[-1].strip())"
   ]
  },
  {
   "cell_type": "markdown",
   "metadata": {},
   "source": [
    "### Reading final"
   ]
  },
  {
   "cell_type": "code",
   "execution_count": 21,
   "metadata": {
    "collapsed": false
   },
   "outputs": [],
   "source": [
    "final = pd.read_csv(\"CSE255/Final_cse.csv\",usecols=[\"pid\",\"grade\"])\n",
    "final['pid'] = final['pid'].map(lambda x: x.upper().strip())"
   ]
  },
  {
   "cell_type": "code",
   "execution_count": 22,
   "metadata": {
    "collapsed": false
   },
   "outputs": [],
   "source": [
    "final = final.merge(students,on=\"pid\")"
   ]
  },
  {
   "cell_type": "markdown",
   "metadata": {},
   "source": [
    "### Reading all Homework submissions"
   ]
  },
  {
   "cell_type": "code",
   "execution_count": 7,
   "metadata": {
    "collapsed": false
   },
   "outputs": [],
   "source": [
    "course = \"cse\"\n",
    "hw_list = [\"CSE255/\"+\"HW\" + str(i) + \"_graded_\" + course + \".csv\" for i in range(1,6) ]"
   ]
  },
  {
   "cell_type": "code",
   "execution_count": 8,
   "metadata": {
    "collapsed": true
   },
   "outputs": [],
   "source": [
    "grades = pd.DataFrame()"
   ]
  },
  {
   "cell_type": "code",
   "execution_count": 9,
   "metadata": {
    "collapsed": false
   },
   "outputs": [],
   "source": [
    "for hw in hw_list:\n",
    "    df = pd.read_csv(hw,usecols=['pid','homework','grade'])\n",
    "    grades = pd.concat([grades,df],ignore_index=True)"
   ]
  },
  {
   "cell_type": "markdown",
   "metadata": {},
   "source": [
    "### Taking best 4 Homework submissions"
   ]
  },
  {
   "cell_type": "code",
   "execution_count": 10,
   "metadata": {
    "collapsed": false
   },
   "outputs": [],
   "source": [
    "best4=grades.groupby(by=\"pid\")['grade'].nlargest(4).reset_index()\n",
    "best4 = best4.drop(labels=\"level_1\",axis=1).groupby(by=\"pid\").sum().reset_index()\n",
    "best4.columns = [\"pid\",\"hw_total\"]"
   ]
  },
  {
   "cell_type": "code",
   "execution_count": 11,
   "metadata": {
    "collapsed": false
   },
   "outputs": [
    {
     "data": {
      "text/plain": [
       "array([[<matplotlib.axes._subplots.AxesSubplot object at 0x106f2f350>]], dtype=object)"
      ]
     },
     "execution_count": 11,
     "metadata": {},
     "output_type": "execute_result"
    },
    {
     "data": {
      "image/png": "[encoded data removed]",
      "text/plain": [
       "<matplotlib.figure.Figure at 0x106ee3dd0>"
      ]
     },
     "metadata": {},
     "output_type": "display_data"
    }
   ],
   "source": [
    "best4.hist(bins=50)"
   ]
  },
  {
   "cell_type": "code",
   "execution_count": 12,
   "metadata": {
    "collapsed": false
   },
   "outputs": [],
   "source": [
    "best4['hw_total(30%)'] = best4['hw_total']/400*70"
   ]
  },
  {
   "cell_type": "markdown",
   "metadata": {},
   "source": [
    "### Concatenating final results and homeworks"
   ]
  },
  {
   "cell_type": "code",
   "execution_count": 23,
   "metadata": {
    "collapsed": true
   },
   "outputs": [],
   "source": [
    "final_grades = final.merge(best4,on=\"pid\")"
   ]
  },
  {
   "cell_type": "code",
   "execution_count": 24,
   "metadata": {
    "collapsed": true
   },
   "outputs": [],
   "source": [
    "final_grades[\"final(70%)\"] = final_grades['grade'] / 80 * 30"
   ]
  },
  {
   "cell_type": "code",
   "execution_count": 25,
   "metadata": {
    "collapsed": false
   },
   "outputs": [],
   "source": [
    "final_grades.drop('grade',axis=1,inplace=True)"
   ]
  },
  {
   "cell_type": "code",
   "execution_count": 26,
   "metadata": {
    "collapsed": false
   },
   "outputs": [],
   "source": [
    "final_grades[\"Total\"] = final_grades[\"final(70%)\"]  + final_grades['hw_total(30%)']"
   ]
  },
  {
   "cell_type": "code",
   "execution_count": 27,
   "metadata": {
    "collapsed": true
   },
   "outputs": [],
   "source": [
    "all_hws = pd.pivot(grades['pid'],grades['homework'],grades['grade']).reset_index()"
   ]
  },
  {
   "cell_type": "code",
   "execution_count": 28,
   "metadata": {
    "collapsed": false
   },
   "outputs": [],
   "source": [
    "final_grades.rename(columns={\"pid\":\"Student ID\"},inplace=True)"
   ]
  },
  {
   "cell_type": "code",
   "execution_count": 29,
   "metadata": {
    "collapsed": false
   },
   "outputs": [
    {
     "data": {
      "text/plain": [
       "array([[<matplotlib.axes._subplots.AxesSubplot object at 0x1079e02d0>]], dtype=object)"
      ]
     },
     "execution_count": 29,
     "metadata": {},
     "output_type": "execute_result"
    },
    {
     "data": {
      "image/png": "[encoded data removed]",
      "text/plain": [
       "<matplotlib.figure.Figure at 0x107978f10>"
      ]
     },
     "metadata": {},
     "output_type": "display_data"
    }
   ],
   "source": [
    "final_grades.hist(\"Total\")"
   ]
  },
  {
   "cell_type": "code",
   "execution_count": 30,
   "metadata": {
    "collapsed": false
   },
   "outputs": [
    {
     "data": {
      "text/html": [
       "<div>\n",
       "<table border=\"1\" class=\"dataframe\">\n",
       "  <thead>\n",
       "    <tr style=\"text-align: right;\">\n",
       "      <th></th>\n",
       "      <th>Student ID</th>\n",
       "      <th>name</th>\n",
       "      <th>email</th>\n",
       "      <th>Last Name</th>\n",
       "      <th>First Name</th>\n",
       "      <th>hw_total</th>\n",
       "      <th>hw_total(30%)</th>\n",
       "      <th>final(70%)</th>\n",
       "      <th>Total</th>\n",
       "    </tr>\n",
       "  </thead>\n",
       "  <tbody>\n",
       "    <tr>\n",
       "      <th>0</th>\n",
       "      <td>A53101356</td>\n",
       "      <td>Avireddy, Srinivas</td>\n",
       "      <td>saviredd@ucsd.edu</td>\n",
       "      <td>Avireddy</td>\n",
       "      <td>Srinivas</td>\n",
       "      <td>405.0</td>\n",
       "      <td>70.875</td>\n",
       "      <td>24.84375</td>\n",
       "      <td>95.71875</td>\n",
       "    </tr>\n",
       "    <tr>\n",
       "      <th>1</th>\n",
       "      <td>A53099813</td>\n",
       "      <td>Rangi, Anshuka</td>\n",
       "      <td>arangi@ucsd.edu</td>\n",
       "      <td>Rangi</td>\n",
       "      <td>Anshuka</td>\n",
       "      <td>400.0</td>\n",
       "      <td>70.000</td>\n",
       "      <td>28.65000</td>\n",
       "      <td>98.65000</td>\n",
       "    </tr>\n",
       "    <tr>\n",
       "      <th>2</th>\n",
       "      <td>A53088789</td>\n",
       "      <td>Rajesh, Shanmathi</td>\n",
       "      <td>shrajesh@ucsd.edu</td>\n",
       "      <td>Rajesh</td>\n",
       "      <td>Shanmathi</td>\n",
       "      <td>395.0</td>\n",
       "      <td>69.125</td>\n",
       "      <td>23.64375</td>\n",
       "      <td>92.76875</td>\n",
       "    </tr>\n",
       "    <tr>\n",
       "      <th>3</th>\n",
       "      <td>A53095373</td>\n",
       "      <td>Gadgil, Mitesh Ashutosh</td>\n",
       "      <td>mgadgil@ucsd.edu</td>\n",
       "      <td>Gadgil</td>\n",
       "      <td>Mitesh Ashutosh</td>\n",
       "      <td>388.0</td>\n",
       "      <td>67.900</td>\n",
       "      <td>28.87500</td>\n",
       "      <td>96.77500</td>\n",
       "    </tr>\n",
       "    <tr>\n",
       "      <th>4</th>\n",
       "      <td>U06990406</td>\n",
       "      <td>Weggersen, Benjamin</td>\n",
       "      <td>ax003948@acsmail.ucsd.edu</td>\n",
       "      <td>Weggersen</td>\n",
       "      <td>Benjamin</td>\n",
       "      <td>393.0</td>\n",
       "      <td>68.775</td>\n",
       "      <td>28.87500</td>\n",
       "      <td>97.65000</td>\n",
       "    </tr>\n",
       "  </tbody>\n",
       "</table>\n",
       "</div>"
      ],
      "text/plain": [
       "  Student ID                     name                      email  Last Name  \\\n",
       "0  A53101356       Avireddy, Srinivas          saviredd@ucsd.edu   Avireddy   \n",
       "1  A53099813           Rangi, Anshuka            arangi@ucsd.edu      Rangi   \n",
       "2  A53088789        Rajesh, Shanmathi          shrajesh@ucsd.edu     Rajesh   \n",
       "3  A53095373  Gadgil, Mitesh Ashutosh           mgadgil@ucsd.edu     Gadgil   \n",
       "4  U06990406      Weggersen, Benjamin  ax003948@acsmail.ucsd.edu  Weggersen   \n",
       "\n",
       "        First Name  hw_total  hw_total(30%)  final(70%)     Total  \n",
       "0         Srinivas     405.0         70.875    24.84375  95.71875  \n",
       "1          Anshuka     400.0         70.000    28.65000  98.65000  \n",
       "2        Shanmathi     395.0         69.125    23.64375  92.76875  \n",
       "3  Mitesh Ashutosh     388.0         67.900    28.87500  96.77500  \n",
       "4         Benjamin     393.0         68.775    28.87500  97.65000  "
      ]
     },
     "execution_count": 30,
     "metadata": {},
     "output_type": "execute_result"
    }
   ],
   "source": [
    "final_grades.head()"
   ]
  },
  {
   "cell_type": "code",
   "execution_count": null,
   "metadata": {
    "collapsed": true
   },
   "outputs": [],
   "source": []
  }
 ],
 "metadata": {
  "kernelspec": {
   "display_name": "Python 2",
   "language": "python",
   "name": "python2"
  },
  "language_info": {
   "codemirror_mode": {
    "name": "ipython",
    "version": 2
   },
   "file_extension": ".py",
   "mimetype": "text/x-python",
   "name": "python",
   "nbconvert_exporter": "python",
   "pygments_lexer": "ipython2",
   "version": "2.7.11"
  }
 },
 "nbformat": 4,
 "nbformat_minor": 0
}
