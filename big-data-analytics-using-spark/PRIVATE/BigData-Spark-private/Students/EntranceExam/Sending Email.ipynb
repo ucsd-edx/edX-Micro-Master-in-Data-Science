{
 "cells": [
  {
   "cell_type": "code",
   "execution_count": 23,
   "metadata": {
    "collapsed": false
   },
   "outputs": [
    {
     "data": {
      "text/plain": [
       "(221, '2.0.0 Bye')"
      ]
     },
     "execution_count": 23,
     "metadata": {},
     "output_type": "execute_result"
    }
   ],
   "source": [
    "# Import smtplib for the actual sending function\n",
    "import smtplib\n",
    "\n",
    "# Import the email modules we'll need\n",
    "from email.mime.text import MIMEText\n",
    "\n",
    "s = smtplib.SMTP('smtp.ucsd.edu')\n",
    "\n",
    "text=\"\"\"\n",
    "This is a test\n",
    "This is only a test\n",
    "\"\"\"\n",
    "\n",
    "send_mail(s,\\\n",
    "          'yoav.freund@gmail.com',\\\n",
    "          text,\\\n",
    "          subject='testing')\n",
    "# Send the message via our own SMTP server, but don't include the\n",
    "# envelope header.\n",
    "\n",
    "s.quit()\n"
   ]
  },
  {
   "cell_type": "code",
   "execution_count": 22,
   "metadata": {
    "collapsed": true
   },
   "outputs": [],
   "source": [
    "def send_mail(s,to,text,subject='',me = 'yfreund@eng.ucsd.edu'):\n",
    "    msg = MIMEText(text)\n",
    "\n",
    "    msg['Subject'] = 'Testing email from python'\n",
    "    msg['From'] = me\n",
    "    msg['Subject'] = subject\n",
    "    msg['To'] = to\n",
    "\n",
    "    # Send the message via SMTP server\n",
    "    s.sendmail(me, [to], msg.as_string())"
   ]
  },
  {
   "cell_type": "code",
   "execution_count": null,
   "metadata": {
    "collapsed": true
   },
   "outputs": [],
   "source": []
  }
 ],
 "metadata": {
  "kernelspec": {
   "display_name": "Python 2",
   "language": "python",
   "name": "python2"
  },
  "language_info": {
   "codemirror_mode": {
    "name": "ipython",
    "version": 2
   },
   "file_extension": ".py",
   "mimetype": "text/x-python",
   "name": "python",
   "nbconvert_exporter": "python",
   "pygments_lexer": "ipython2",
   "version": "2.7.11"
  }
 },
 "nbformat": 4,
 "nbformat_minor": 0
}
