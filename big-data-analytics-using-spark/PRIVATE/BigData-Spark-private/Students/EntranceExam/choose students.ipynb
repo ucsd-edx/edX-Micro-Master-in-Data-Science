{
 "cells": [
  {
   "cell_type": "code",
   "execution_count": 1,
   "metadata": {
    "collapsed": true
   },
   "outputs": [],
   "source": [
    "import pandas as pd"
   ]
  },
  {
   "cell_type": "code",
   "execution_count": 2,
   "metadata": {
    "collapsed": false,
    "scrolled": true
   },
   "outputs": [
    {
     "name": "stdout",
     "output_type": "stream",
     "text": [
      "total 880\r\n",
      "-rw-r--r--@ 1 yoavfreund  503     60551 Mar 18 10:07 EntranceExam.csv\r\n",
      "-rw-r--r--  1 yoavfreund  staff    3338 Mar 18 10:39 grade.py\r\n",
      "-rw-r--r--  1 yoavfreund  staff   18533 Mar 18 10:46 results.csv\r\n",
      "-rw-r--r--  1 yoavfreund  staff   16647 Mar 18 10:46 err.log\r\n",
      "-rw-r--r--  1 yoavfreund  staff   10658 Mar 18 14:08 Cleared.csv\r\n",
      "-rw-r--r--  1 yoavfreund  staff    2041 Mar 18 14:09 Sending Email.ipynb\r\n",
      "-rw-r--r--@ 1 yoavfreund  staff   47616 Mar 18 14:10 Cleared.xls\r\n",
      "-rw-r--r--  1 yoavfreund  staff  135019 Mar 18 16:13 Untitled.ipynb\r\n",
      "-rw-r--r--  1 yoavfreund  staff   75467 Mar 21 14:59 choose students.ipynb\r\n",
      "-rw-r--r--@ 1 yoavfreund  503     62876 Apr  5 23:07 EntranceExam2.csv\r\n"
     ]
    }
   ],
   "source": [
    "!ls -lrt"
   ]
  },
  {
   "cell_type": "code",
   "execution_count": 9,
   "metadata": {
    "collapsed": false
   },
   "outputs": [
    {
     "name": "stdout",
     "output_type": "stream",
     "text": [
      "Timestamp,Courses in Probability and Statistics,\"Suppose that after flipping a biased coin n times you know what that the bias of the coin is in the range [0.7,0.8] with probability 95%. What is the number of times you would need in order to half the length of the interval, keeping the probability at 95%.\",Suppose X and Y are independent random variables such that Var(X)=1 and Var(Y)=2. What is the variance of X+2Y-3,\"X and Y are random variables that take on the values 1,2,3. We use P(x,y) as shorthand for P(X=x,Y=y). You know that P(1,1)=P(3,1)=P(3,3)=1/8, P(2,1)=P(1,2)=P(2,3)=0; and  that the marginals are P(X=1)=P(Y=1)=P(X=3)=P(Y=3)=1/4 and P(X=2)=P(Y=2)=1/2. Given that information, what can you say about X and Y?\",Experience with Python,\"input: a list of numbers L, output: the largest number in L\",\"If you have experience using Hadoop, describe it here, using at most 400 characters.\",Academic background,Name,PID,email,\"Input: a list of numbers L, output: the sum of the squares of the values in L\",\"Input: A list of numbers L, and a number a. Output: the numbers in the L that are smaller or equal to a\"\r",
      "\r\n",
      "2/24/2016 20:34:49,,4n,9,Dependent and uncorrelated,,\"reduce(lambda x, y: x if (x > y) else y, L)\",,First Year MSc in Computer Science & 4 year long BEng in Electrical and Computer Engineering,Qian Wang,A53088113,qiw087@eng.ucsd.edu,\"reduce(lambda x, y: x + y, map(lambda x: x * x, L))\",\"filter(lambda x: x <= a, L)\"\r",
      "\r\n",
      "2/25/2016 0:48:30,,4n,9,Dependent and correlated,,max(input),,MSc,Caroline Kim,A53104857,chk101@eng.ucsd.edu,\"sum(map(lambda x: x*x, input))\",\"filter(lambda x: x <= a, L)\"\r",
      "\r\n",
      "2/25/2016 17:44:40,,4n,9,Dependent and uncorrelated,,\"max = lambda input: reduce(lambda x,y : x if(x>y) else y, input)\",,1st year MSc,Zhongrong Jian,A53096102,zhjian@ucsd.edu,\"sum = lambda input: reduce(lambda x,y: x+y, (map(lambda x:x**2, input)))\",\"seq = lambda input, a: list(filter(lambda x: x <= a, input))\"\r",
      "\r\n",
      "2/25/2016 17:46:49,,4n,9,Dependent and uncorrelated,,\"max = lambda list : reduce(lambda a, b : a if (a > b) else b, list)\",,MSc Computational Science (1st Year) - I did my undergrad in CS + Math,Juan Sidrach de Cardona Mora,A53096298,jsidrach@ucsd.edu,\"sumSq = lambda list : reduce(lambda a, b : a + b, map(lambda x : x * x, list))\",\"filterList = lambda L, a : list(filter(lambda b : (b <= a), L))\"\r",
      "\r\n",
      "2/25/2016 17:48:32,,4n,9,Dependent and uncorrelated,,\"maxL = lambda L : reduce (lambda a,b : a if (a > b) else b, L)\",,1st year master,Lingyi Kong,A97010449,l1kong@ucsd.edu,\"sqSum = lambda L : reduce (lambda a,b : a + b, map(lambda x: x**2,L))\",\"smallL = lambda L,a : filter (lambda x : x < a, L)\"\r",
      "\r\n",
      "2/25/2016 17:52:03,,4n,9,Dependent and uncorrelated,,\"maxL = lambda L : reduce (lambda a,b : a if (a > b) else b, L)\",,1st year Master,Lingyi Kong,A97010449,l1kong@ucsd.edu,\"sqSum = lambda L : reduce (lambda a,b : a + b, map(lambda x: x**2,L))\",\"smallL = lambda L,a : filter(lambda x : x <= a, L)\"\r",
      "\r\n",
      "2/25/2016 18:11:26,,4n,9,Dependent and uncorrelated,,\"max = lambda L : reduce(lambda a,b : a if (a > b) else b, L)\",,First year graduate student,Lu Yu,a53107397,luy018@ucsd.edu,\"SoQ = lambda L : reduce (lambda x,y : x+y, map(lambda x : x**2, L))\",\"listfilter = lambda L, a : list(filter(lambda b: (b <= a), L))\"\r",
      "\r\n",
      "2/25/2016 18:35:22,,4n,9,Independent and uncorrelated,,\"reduce(lambda x, y : x if x > y else y, input)\",,MS,Yuanchao Zhu,A53098001,yuz063@eng.ucsd.edu,\"reduce(lambda x, y: x+y*y, input)\",\"filter(lambda x: x<=a, input)\"\r",
      "\r\n",
      "2/25/2016 18:37:22,,4n,9,Independent and uncorrelated,,\"reduce(lambda x,y: x if x > y else y, input)\",,MSc 2 quarters,Yuning Hui,A53091905,y3hui@eng.ucsd.edu,\"reduce(lambda x,y: x+y, map(lambda x: x**2, input))\",\"filter(lambda x: x <= a, L)\"\r",
      "\r\n"
     ]
    }
   ],
   "source": [
    "!head EntranceExam2.csv"
   ]
  },
  {
   "cell_type": "code",
   "execution_count": 11,
   "metadata": {
    "collapsed": false,
    "scrolled": false
   },
   "outputs": [
    {
     "data": {
      "text/plain": [
       "(259, 9)"
      ]
     },
     "execution_count": 11,
     "metadata": {},
     "output_type": "execute_result"
    }
   ],
   "source": [
    "df=pd.read_csv('results.csv')\n",
    "df.head()\n",
    "df.shape"
   ]
  },
  {
   "cell_type": "markdown",
   "metadata": {},
   "source": [
    "Shape of results.csv is (249, 9) "
   ]
  },
  {
   "cell_type": "code",
   "execution_count": 12,
   "metadata": {
    "collapsed": false
   },
   "outputs": [
    {
     "name": "stdout",
     "output_type": "stream",
     "text": [
      "(259, 9)\n"
     ]
    },
    {
     "data": {
      "text/plain": [
       "(211, 10)"
      ]
     },
     "execution_count": 12,
     "metadata": {},
     "output_type": "execute_result"
    }
   ],
   "source": [
    "print df.shape\n",
    "df['sum']=1*df['q1']+1*df['q2']+1*df['q3']+1*df['mr1']+1*df['mr2']+1*df['mr3']\n",
    "unique=df.drop_duplicates(subset='pid',keep='last')\n",
    "unique.shape"
   ]
  },
  {
   "cell_type": "code",
   "execution_count": 19,
   "metadata": {
    "collapsed": false,
    "scrolled": true
   },
   "outputs": [
    {
     "data": {
      "text/html": [
       "<div>\n",
       "<table border=\"1\" class=\"dataframe\">\n",
       "  <thead>\n",
       "    <tr style=\"text-align: right;\">\n",
       "      <th></th>\n",
       "      <th>name</th>\n",
       "      <th>email</th>\n",
       "      <th>q1</th>\n",
       "      <th>q2</th>\n",
       "      <th>q3</th>\n",
       "      <th>mr1</th>\n",
       "      <th>mr2</th>\n",
       "      <th>mr3</th>\n",
       "      <th>sum</th>\n",
       "    </tr>\n",
       "    <tr>\n",
       "      <th>pid</th>\n",
       "      <th></th>\n",
       "      <th></th>\n",
       "      <th></th>\n",
       "      <th></th>\n",
       "      <th></th>\n",
       "      <th></th>\n",
       "      <th></th>\n",
       "      <th></th>\n",
       "      <th></th>\n",
       "    </tr>\n",
       "  </thead>\n",
       "  <tbody>\n",
       "    <tr>\n",
       "      <th>A53088113</th>\n",
       "      <td>Qian Wang</td>\n",
       "      <td>qiw087@eng.ucsd.edu</td>\n",
       "      <td>True</td>\n",
       "      <td>True</td>\n",
       "      <td>True</td>\n",
       "      <td>True</td>\n",
       "      <td>True</td>\n",
       "      <td>True</td>\n",
       "      <td>6</td>\n",
       "    </tr>\n",
       "    <tr>\n",
       "      <th>A53103799</th>\n",
       "      <td>Zhenjie Lin</td>\n",
       "      <td>zhl057@ucsd.edu</td>\n",
       "      <td>True</td>\n",
       "      <td>True</td>\n",
       "      <td>True</td>\n",
       "      <td>True</td>\n",
       "      <td>True</td>\n",
       "      <td>True</td>\n",
       "      <td>6</td>\n",
       "    </tr>\n",
       "    <tr>\n",
       "      <th>A53093387</th>\n",
       "      <td>Weiqi Zhang</td>\n",
       "      <td>wez122@eng.ucsd.edu</td>\n",
       "      <td>True</td>\n",
       "      <td>True</td>\n",
       "      <td>True</td>\n",
       "      <td>True</td>\n",
       "      <td>True</td>\n",
       "      <td>True</td>\n",
       "      <td>6</td>\n",
       "    </tr>\n",
       "    <tr>\n",
       "      <th>A53102992</th>\n",
       "      <td>Sonali Bhadra</td>\n",
       "      <td>sbhadra@ucsd.edu</td>\n",
       "      <td>True</td>\n",
       "      <td>True</td>\n",
       "      <td>True</td>\n",
       "      <td>True</td>\n",
       "      <td>True</td>\n",
       "      <td>True</td>\n",
       "      <td>6</td>\n",
       "    </tr>\n",
       "    <tr>\n",
       "      <th>A09229555</th>\n",
       "      <td>Diego Marez</td>\n",
       "      <td>dmarez@ucsd.edu</td>\n",
       "      <td>True</td>\n",
       "      <td>True</td>\n",
       "      <td>True</td>\n",
       "      <td>True</td>\n",
       "      <td>True</td>\n",
       "      <td>True</td>\n",
       "      <td>6</td>\n",
       "    </tr>\n",
       "  </tbody>\n",
       "</table>\n",
       "</div>"
      ],
      "text/plain": [
       "                    name                email    q1    q2    q3   mr1   mr2  \\\n",
       "pid                                                                           \n",
       "A53088113      Qian Wang  qiw087@eng.ucsd.edu  True  True  True  True  True   \n",
       "A53103799    Zhenjie Lin      zhl057@ucsd.edu  True  True  True  True  True   \n",
       "A53093387    Weiqi Zhang  wez122@eng.ucsd.edu  True  True  True  True  True   \n",
       "A53102992  Sonali Bhadra     sbhadra@ucsd.edu  True  True  True  True  True   \n",
       "A09229555    Diego Marez      dmarez@ucsd.edu  True  True  True  True  True   \n",
       "\n",
       "            mr3  sum  \n",
       "pid                   \n",
       "A53088113  True    6  \n",
       "A53103799  True    6  \n",
       "A53093387  True    6  \n",
       "A53102992  True    6  \n",
       "A09229555  True    6  "
      ]
     },
     "execution_count": 19,
     "metadata": {},
     "output_type": "execute_result"
    }
   ],
   "source": [
    "unique_sorted=unique.sort_values(by=['q1','q2','q3','mr1','mr2','mr3'],ascending=False)\n",
    "unique_sorted=unique.sort_values(by=['sum'],ascending=False)\n",
    "entrance_exam=unique_sorted.set_index('pid')\n",
    "entrance_exam.head()"
   ]
  },
  {
   "cell_type": "code",
   "execution_count": 20,
   "metadata": {
    "collapsed": true
   },
   "outputs": [],
   "source": [
    "entrance_exam.to_csv('ExamResuts.csv')"
   ]
  },
  {
   "cell_type": "code",
   "execution_count": 61,
   "metadata": {
    "collapsed": false
   },
   "outputs": [
    {
     "data": {
      "text/plain": [
       "(135, 10)"
      ]
     },
     "execution_count": 61,
     "metadata": {},
     "output_type": "execute_result"
    }
   ],
   "source": [
    "perfect=unique_sorted[unique_sorted['sum']==6]\n",
    "perfect.shape"
   ]
  },
  {
   "cell_type": "code",
   "execution_count": 96,
   "metadata": {
    "collapsed": false
   },
   "outputs": [
    {
     "data": {
      "text/html": [
       "<div>\n",
       "<table border=\"1\" class=\"dataframe\">\n",
       "  <thead>\n",
       "    <tr style=\"text-align: right;\">\n",
       "      <th></th>\n",
       "      <th>name</th>\n",
       "      <th>pid</th>\n",
       "      <th>email</th>\n",
       "      <th>q1</th>\n",
       "      <th>q2</th>\n",
       "      <th>q3</th>\n",
       "      <th>mr1</th>\n",
       "      <th>mr2</th>\n",
       "      <th>mr3</th>\n",
       "      <th>sum</th>\n",
       "    </tr>\n",
       "  </thead>\n",
       "  <tbody>\n",
       "    <tr>\n",
       "      <th>232</th>\n",
       "      <td>Ramkishore Swaminathan</td>\n",
       "      <td>A53089745</td>\n",
       "      <td>rswamina@eng.ucsd.edu</td>\n",
       "      <td>True</td>\n",
       "      <td>True</td>\n",
       "      <td>True</td>\n",
       "      <td>True</td>\n",
       "      <td>False</td>\n",
       "      <td>True</td>\n",
       "      <td>5</td>\n",
       "    </tr>\n",
       "  </tbody>\n",
       "</table>\n",
       "</div>"
      ],
      "text/plain": [
       "                       name        pid                  email    q1    q2  \\\n",
       "232  Ramkishore Swaminathan  A53089745  rswamina@eng.ucsd.edu  True  True   \n",
       "\n",
       "       q3   mr1    mr2   mr3  sum  \n",
       "232  True  True  False  True    5  "
      ]
     },
     "execution_count": 96,
     "metadata": {},
     "output_type": "execute_result"
    }
   ],
   "source": [
    "unique_sorted[unique_sorted['pid']=='A53089745']"
   ]
  },
  {
   "cell_type": "code",
   "execution_count": 47,
   "metadata": {
    "collapsed": false
   },
   "outputs": [
    {
     "data": {
      "text/plain": [
       "name     135\n",
       "pid      135\n",
       "email    135\n",
       "q1       135\n",
       "q2       135\n",
       "q3       135\n",
       "mr1      135\n",
       "mr2      135\n",
       "mr3      135\n",
       "sum      135\n",
       "dtype: int64"
      ]
     },
     "execution_count": 47,
     "metadata": {},
     "output_type": "execute_result"
    }
   ],
   "source": [
    "perfect.count()"
   ]
  },
  {
   "cell_type": "code",
   "execution_count": 94,
   "metadata": {
    "collapsed": true
   },
   "outputs": [],
   "source": [
    "### Set up email sender\n",
    "\n",
    "# Import smtplib for the actual sending function\n",
    "import smtplib\n",
    "\n",
    "# Import the email modules we'll need\n",
    "from email.mime.text import MIMEText\n",
    "\n",
    "s = smtplib.SMTP('smtp.ucsd.edu')\n",
    "\n",
    "def send_mail(s,to,text,subject='',me = 'yfreund@eng.ucsd.edu'):\n",
    "    msg = MIMEText(text)\n",
    "\n",
    "    msg['From'] = me\n",
    "    msg['Subject'] = subject\n",
    "    msg['To'] = to\n",
    "\n",
    "    # Send the message via SMTP server\n",
    "    s.sendmail(me, [to], msg.as_string())"
   ]
  },
  {
   "cell_type": "markdown",
   "metadata": {},
   "source": [
    "### Students who passed the entrance exam."
   ]
  },
  {
   "cell_type": "code",
   "execution_count": 71,
   "metadata": {
    "collapsed": false
   },
   "outputs": [],
   "source": [
    "text_in=\"\"\"Dear %s,\n",
    "I am happy to let you know that you passed the entrance exam for CSE255 and can now register for the class.\n",
    "\n",
    "Please follow the directions posted here: https://mas-dse.github.io/DSE230/installation/\n",
    "to install Spark on your personal computer.\n",
    "\n",
    "If you encounter difficulty doing that please contact either Julaiti Alafate <jalafate@eng.ucsd.edu>\n",
    "or sunil Rayani: Sunil Raiyani <sraiyani@eng.ucsd.edu>\n",
    "\n",
    "I am looking forward to meeting you in class\n",
    "\n",
    "Yoav Freund\n",
    "\n",
    "\"\"\""
   ]
  },
  {
   "cell_type": "code",
   "execution_count": 72,
   "metadata": {
    "collapsed": false,
    "scrolled": false
   },
   "outputs": [
    {
     "name": "stdout",
     "output_type": "stream",
     "text": [
      "cleared: Qian Wang\t\tqiw087@eng.ucsd.edu\n",
      "cleared: Nishant Agarwal\t\tniagarwa@eng.ucsd.edu\n",
      "cleared: Zhenjie Lin\t\tzhl057@ucsd.edu\n",
      "cleared: adit bhardwaj\t\tadbhardw@eng.ucsd.edu\n",
      "cleared: Weiqi Zhang\t\twez122@eng.ucsd.edu\n",
      "cleared: Sonali Bhadra\t\tsbhadra@ucsd.edu\n",
      "cleared: Diego Marez\t\tdmarez@ucsd.edu\n",
      "cleared: Jing Wang\t\tjiw370@eng.ucsd.edu\n",
      "cleared: Mengzhi Li\t\tmel012@ucsd.edu\n",
      "cleared: Siddhartha Agarwal\t\tsiagarwa@eng.ucsd.edu\n",
      "cleared: Nivedita Prasad\t\tn1prasad@eng.ucsd.edu\n",
      "cleared: Yue Gao\t\tyug095@eng.ucsd.edu\n",
      "cleared: Frankie Lu\t\tfrlu@eng.ucsd.edu\n",
      "cleared: Ninad Deepak Kulkarni\t\tnkulkarn@ucsd.edu\n",
      "cleared: Prakhar\t\tprs025@eng.ucsd.edu\n",
      "cleared: Kaiwen Sun\t\tkas003@ucsd.edu\n",
      "cleared: Nima Mousavi\t\tnimousav@ucsd.edu\n",
      "cleared: Xinyi Wang\t\txinyi@ucsd.edu\n",
      "cleared: Shrestha Malik\t\tshm039@eng.ucsd.edu\n",
      "cleared: Xiyun Liu\t\txil429@ucsd.edu\n",
      "cleared: Chenhui Xie\t\tchx036@ucsd.edu\n",
      "cleared: Anand Desai\t\tajd007@cs.ucsd.edu\n",
      "cleared: Sidharth Kodaikkal Vijayan\t\tskodaikk@eng.ucsd.edu\n",
      "cleared: Behnam Hedayatnia\t\tbhedayat@ucsd.edu\n",
      "cleared: YU Gu\t\tyug097@ucsd.edu\n",
      "cleared: Akshay Rangesh\t\tarangesh@ucsd.edu\n",
      "cleared: Kaiyi Zhang\t\tkaz041@ucsd.edu\n",
      "cleared: Junlong Hou\t\tjuh097@ucsd.edu\n",
      "cleared: Chengtao Ji\t\tc2ji@ucsd.edu\n",
      "cleared: Atchuta Venkata Vijay Chintalapudi\t\tachintal@eng.ucsd.edu\n",
      "cleared: Chenwei Cai\t\tcwcai@ucsd.edu\n",
      "cleared: Nina Pikula\t\tNPikula@ucsd.edu\n",
      "cleared: Xinyue Li\t\txil431@ucsd.edu\n",
      "cleared: Junbo Ke\t\tjuke@ucsd.edu\n",
      "cleared: Anmol Aggarwal\t\tana030@eng.ucsd.edu\n",
      "cleared: Danyang Zhang\t\tdaz040@eng.ucsd.edu\n",
      "cleared: Nikhil Srivastava\t\tnisrivas@ucsd.edu\n",
      "cleared: Shouvik Ganguly\t\tshgangul@eng.ucsd.edu\n",
      "cleared: Chen Lai\t\tchl588@ucsd.edu\n",
      "cleared: Aleksey Sokolov\t\tsokolov@ucsd.edu\n",
      "cleared: Priyanka Dighe\t\tpdighe@ucsd.edu\n",
      "cleared: Anshuka Rangi\t\tarangi@eng.ucsd.edu\n",
      "cleared: Vineet Rao Katta\t\tvkatta@eng.ucsd.edu\n",
      "cleared: Saurabh Bipin Chandra\t\tsbipinch@eng.ucsd.edu\n",
      "cleared: Rakshit Wadhwa\t\trawadhwa@ucsd.edu\n",
      "cleared: Manghat Nitish Menon\t\tmnmenon@eng.ucsd.edu\n",
      "cleared: Shanmathi Rajesh\t\tshrajesh@eng.ucsd.edu\n",
      "cleared: Yufei Zhao\t\tyuz478@eng.ucsd.edu\n",
      "cleared: Pushen Wang\t\tpuw001@eng.ucsd.edu\n",
      "cleared: Chaitanya Baratam\t\tcbaratam@eng.ucsd.edu\n",
      "cleared: Archana Radhakrishna\t\tarradhak@ucsd.edu\n",
      "cleared: Vrinda Gupta\t\tvrg001@eng.ucsd.edu\n",
      "cleared: Aravind Kumar Kumar\t\takumark@eng.ucsd.edu\n",
      "cleared: Abhishek Majumdar\t\tabmajumd@eng.ucsd.edu\n",
      "cleared: SRIRAM MANOHAR\t\tsrmanoha@eng.ucsd.edu\n",
      "cleared: Joe Manley Gnanasekaran\t\tjgnanase@ucsd.edu\n",
      "cleared: Srinivas Avireddy\t\tsaviredd@eng.ucsd.edu\n",
      "cleared: Zhengren Pan\t\tzhp007@eng.ucsd.edu\n",
      "cleared: Rudra Pratap Singh\t\trps001@eng.ucsd.edu\n",
      "cleared: Yingzhi Wu\t\tyiw376@eng.ucsd.edu\n",
      "cleared: Shreyas Pathre Balakrishna\t\tspathreb@ucsd.edu\n",
      "cleared: Amit Borase\t\taborase@eng.ucsd.edu\n",
      "cleared: Bharath Ranganatha Mankalale\t\tbmankala@eng.ucsd.edu\n",
      "cleared: Venkatesh Elango\t\tvelango@ucsd.edu\n",
      "cleared: Ning Lin\t\tnil016@eng.ucsd.edu\n",
      "cleared: Jongha Ryu\t\tjor050@eng.ucsd.edu\n",
      "cleared: Abhijit Tripathy\t\tatripath@eng.ucsd.edu\n",
      "cleared: ABHINAV GARG\t\tabgarg@ucsd.edu\n",
      "cleared: SAMPATH VELAGA\t\tsvelaga@eng.ucsd.edu\n",
      "cleared: Sahil Govel\t\tsgovel@eng.ucsd.edu\n",
      "cleared: Rishikesh Sanjay Ghewari\t\trghewari@ucsd.edu\n",
      "cleared: Sourabh Vora\t\tsovora@eng.ucsd.edu\n",
      "cleared: Rakesh Ganapathi Karanth\t\trkaranth@eng.ucsd.edu\n",
      "cleared: Shashank Uppoor\t\tsuppoor@eng.ucsd.edu\n",
      "cleared: Yue Wang\t\tyuw383@ucsd.edu\n",
      "cleared: Phani Teja Marupaka\t\tpmarupak@ucsd.edu\n",
      "cleared: Ankit Singh\t\tans049@ucsd.edu\n",
      "cleared: Vikas Lokesh\t\tvlokesh@eng.ucsd.edu\n",
      "cleared: Di Huang\t\tdih024@eng.ucsd.edu\n",
      "cleared: Zhongze Hu\t\tzhh073@eng.ucsd.edu\n",
      "cleared: Yuhui Zhang\t\tyuz483@eng.ucsd.edu\n",
      "cleared: Yue Xu\t\tyux033@ucsd.edu\n",
      "cleared: Zhenchao Gan\t\tzhgan@eng.ucsd.edu\n",
      "cleared: Shiunn An Lu\t\tshl423@eng.ucsd.edu\n",
      "cleared: Yaping Sun\t\tyas051@ucsd.edu\n",
      "cleared: Lu Yu\t\tluy018@ucsd.edu\n",
      "cleared: Ziyan Zhu\t\tziz183@ucsd.edu\n",
      "cleared: Weichen Liu\t\twel174@ucsd.edu\n",
      "cleared: Saurabh Gupta\t\tsag043@eng.ucsd.edu\n",
      "cleared: Puneeth BommiReddy\t\tpbommire@eng.ucsd.edu\n",
      "cleared: Naiwen Chang\t\tnachang@eng.ucsd.edu\n",
      "cleared: Victor Alor\t\tvalor@ucsd.edu\n",
      "cleared: Po-Han Chiang\t\tpochiang@ucsd.deu\n",
      "cleared: Mitesh Gadgil\t\tmgadgil@ucsd.edu\n",
      "cleared: Jesse Qin\t\tjeqin@eng.ucsd.edu\n",
      "cleared: Benjamin Weggersen\t\tax003948@acsmail.ucsd.edu\n",
      "cleared: Siwen Yan\t\tsiy043@eng.ucsd.edu\n",
      "cleared: Chelin Huang\t\tchh163@eng.ucsd.edu\n",
      "cleared: Minxuan Zhou\t\tmiz087@eng.ucsd.edu\n",
      "cleared: Han-Tai Hsu\t\thah030@eng.ucsd.edu\n",
      "cleared: Xu Hu\t\txhuaoe@gmail.com\n",
      "cleared: Zhi Cui\t\tz9cui@eng.ucsd.edu\n",
      "cleared: Ding Wang\t\tdiw005@eng.ucsd.edu\n",
      "cleared: Yunhan Wang\t\tyuw380@ucsd.edu\n",
      "cleared: Shengnan Ji\t\tshj047@eng.ucsd.edu\n",
      "cleared: Zeyun Lu\t\tzelu@ucsd.edu\n",
      "cleared: Madhur Kapoor\t\tmakapoor@ucsd.edu\n",
      "cleared: Siyuan Liu\t\tsil148@eng.ucsd.edu\n",
      "cleared: Jigar Surana\t\tjsurana@ucsd.edu\n",
      "cleared: Piyush Anil Nahar\t\tpnahar@ucsd.edu\n",
      "cleared: Venkata Satya Sri Harsha Aduri\t\tvaduri@eng.ucsd.edu\n",
      "cleared: Eric Bureaud\t\tebureaud@ucsd.edu\n",
      "cleared: YIMING ZHENG\t\tyiz476@eng.ucsd.edu\n",
      "cleared: Kishan Kumar Sachdeva\t\tksachdev@ucsd.edu\n",
      "cleared: Zhe Wang\t\tzhw176@ucsd.edu\n",
      "cleared: Yuanchao Zhu\t\tyuz063@eng.ucsd.edu\n",
      "cleared: Shivani Agrawal\t\tsha014@eng.ucsd.edu\n",
      "cleared: Yu Shen\t\tyus067@ucsd.edu\n",
      "cleared: Mubin Wang\t\tmuw012@ucsd.edu\n",
      "cleared: Apurva Pathak\t\tappathak@eng.ucsd.edu\n",
      "cleared: Kshitiz Gupta\t\tksg005@ucsd.edu\n",
      "cleared: Varun Garg\t\tvgarg@eng.ucsd.edu\n",
      "cleared: Jigarkumar\t\tjpp006@eng.ucsd.edu\n",
      "cleared: Dharmil Satishbhai Chandarana\t\tdharmil@ucsd.edu\n",
      "cleared: Zhongrong Jian\t\tzhjian@ucsd.edu\n",
      "cleared: Yiwen Shi\t\tyis018@ucsd.edu\n",
      "cleared: Qingyu Zhou\t\tqyzhou@ucsd.edu\n",
      "cleared: Ajeet Kumar\t\tajk054@ucsd.edu\n",
      "cleared: Lingyi Kong\t\tl1kong@ucsd.edu\n",
      "cleared: Qiming Zhang\t\tqiz123@eng.ucsd.edu\n",
      "cleared: Sanmitra Ijeri\t\tsijeri@eng.ucsd.edu\n",
      "cleared: Jayant Malani\t\tjmalani@eng.ucsd.edu\n",
      "cleared: Yi Luo\t\tyil485@ucsd.edu\n",
      "cleared: Apoorve Dave\t\ta1dave@eng.ucsd.edu\n",
      "cleared: Juan Sidrach de Cardona Mora\t\tjsidrach@ucsd.edu\n"
     ]
    }
   ],
   "source": [
    "for row in perfect.iterrows():\n",
    "    D=dict(row[1])\n",
    "    text=text_in%D['name']\n",
    "    send_mail(s,D['email'],text,'You are cleared to join CSE255')\n",
    "    print \"cleared: %s\\t\\t%s\"%(D['name'],D['email'])\n"
   ]
  },
  {
   "cell_type": "raw",
   "metadata": {},
   "source": [
    "cleared: Qian Wang\t\tqiw087@eng.ucsd.edu\n",
    "cleared: Nishant Agarwal\t\tniagarwa@eng.ucsd.edu\n",
    "cleared: Zhenjie Lin\t\tzhl057@ucsd.edu\n",
    "cleared: adit bhardwaj\t\tadbhardw@eng.ucsd.edu\n",
    "cleared: Weiqi Zhang\t\twez122@eng.ucsd.edu\n",
    "cleared: Sonali Bhadra\t\tsbhadra@ucsd.edu\n",
    "cleared: Diego Marez\t\tdmarez@ucsd.edu\n",
    "cleared: Jing Wang\t\tjiw370@eng.ucsd.edu\n",
    "cleared: Mengzhi Li\t\tmel012@ucsd.edu\n",
    "cleared: Siddhartha Agarwal\t\tsiagarwa@eng.ucsd.edu\n",
    "cleared: Nivedita Prasad\t\tn1prasad@eng.ucsd.edu\n",
    "cleared: Yue Gao\t\tyug095@eng.ucsd.edu\n",
    "cleared: Frankie Lu\t\tfrlu@eng.ucsd.edu\n",
    "cleared: Ninad Deepak Kulkarni\t\tnkulkarn@ucsd.edu\n",
    "cleared: Prakhar\t\tprs025@eng.ucsd.edu\n",
    "cleared: Kaiwen Sun\t\tkas003@ucsd.edu\n",
    "cleared: Nima Mousavi\t\tnimousav@ucsd.edu\n",
    "cleared: Xinyi Wang\t\txinyi@ucsd.edu\n",
    "cleared: Shrestha Malik\t\tshm039@eng.ucsd.edu\n",
    "cleared: Xiyun Liu\t\txil429@ucsd.edu\n",
    "cleared: Chenhui Xie\t\tchx036@ucsd.edu\n",
    "cleared: Anand Desai\t\tajd007@cs.ucsd.edu\n",
    "cleared: Sidharth Kodaikkal Vijayan\t\tskodaikk@eng.ucsd.edu\n",
    "cleared: Behnam Hedayatnia\t\tbhedayat@ucsd.edu\n",
    "cleared: YU Gu\t\tyug097@ucsd.edu\n",
    "cleared: Akshay Rangesh\t\tarangesh@ucsd.edu\n",
    "cleared: Kaiyi Zhang\t\tkaz041@ucsd.edu\n",
    "cleared: Junlong Hou\t\tjuh097@ucsd.edu\n",
    "cleared: Chengtao Ji\t\tc2ji@ucsd.edu\n",
    "cleared: Atchuta Venkata Vijay Chintalapudi\t\tachintal@eng.ucsd.edu\n",
    "cleared: Chenwei Cai\t\tcwcai@ucsd.edu\n",
    "cleared: Nina Pikula\t\tNPikula@ucsd.edu\n",
    "cleared: Xinyue Li\t\txil431@ucsd.edu\n",
    "cleared: Junbo Ke\t\tjuke@ucsd.edu\n",
    "cleared: Anmol Aggarwal\t\tana030@eng.ucsd.edu\n",
    "cleared: Danyang Zhang\t\tdaz040@eng.ucsd.edu\n",
    "cleared: Nikhil Srivastava\t\tnisrivas@ucsd.edu\n",
    "cleared: Shouvik Ganguly\t\tshgangul@eng.ucsd.edu\n",
    "cleared: Chen Lai\t\tchl588@ucsd.edu\n",
    "cleared: Aleksey Sokolov\t\tsokolov@ucsd.edu\n",
    "cleared: Priyanka Dighe\t\tpdighe@ucsd.edu\n",
    "cleared: Anshuka Rangi\t\tarangi@eng.ucsd.edu\n",
    "cleared: Vineet Rao Katta\t\tvkatta@eng.ucsd.edu\n",
    "cleared: Saurabh Bipin Chandra\t\tsbipinch@eng.ucsd.edu\n",
    "cleared: Rakshit Wadhwa\t\trawadhwa@ucsd.edu\n",
    "cleared: Manghat Nitish Menon\t\tmnmenon@eng.ucsd.edu\n",
    "cleared: Shanmathi Rajesh\t\tshrajesh@eng.ucsd.edu\n",
    "cleared: Yufei Zhao\t\tyuz478@eng.ucsd.edu\n",
    "cleared: Pushen Wang\t\tpuw001@eng.ucsd.edu\n",
    "cleared: Chaitanya Baratam\t\tcbaratam@eng.ucsd.edu\n",
    "cleared: Archana Radhakrishna\t\tarradhak@ucsd.edu\n",
    "cleared: Vrinda Gupta\t\tvrg001@eng.ucsd.edu\n",
    "cleared: Aravind Kumar Kumar\t\takumark@eng.ucsd.edu\n",
    "cleared: Abhishek Majumdar\t\tabmajumd@eng.ucsd.edu\n",
    "cleared: SRIRAM MANOHAR\t\tsrmanoha@eng.ucsd.edu\n",
    "cleared: Joe Manley Gnanasekaran\t\tjgnanase@ucsd.edu\n",
    "cleared: Srinivas Avireddy\t\tsaviredd@eng.ucsd.edu\n",
    "cleared: Zhengren Pan\t\tzhp007@eng.ucsd.edu\n",
    "cleared: Rudra Pratap Singh\t\trps001@eng.ucsd.edu\n",
    "cleared: Yingzhi Wu\t\tyiw376@eng.ucsd.edu\n",
    "cleared: Shreyas Pathre Balakrishna\t\tspathreb@ucsd.edu\n",
    "cleared: Amit Borase\t\taborase@eng.ucsd.edu\n",
    "cleared: Bharath Ranganatha Mankalale\t\tbmankala@eng.ucsd.edu\n",
    "cleared: Venkatesh Elango\t\tvelango@ucsd.edu\n",
    "cleared: Ning Lin\t\tnil016@eng.ucsd.edu\n",
    "cleared: Jongha Ryu\t\tjor050@eng.ucsd.edu\n",
    "cleared: Abhijit Tripathy\t\tatripath@eng.ucsd.edu\n",
    "cleared: ABHINAV GARG\t\tabgarg@ucsd.edu\n",
    "cleared: SAMPATH VELAGA\t\tsvelaga@eng.ucsd.edu\n",
    "cleared: Sahil Govel\t\tsgovel@eng.ucsd.edu\n",
    "cleared: Rishikesh Sanjay Ghewari\t\trghewari@ucsd.edu\n",
    "cleared: Sourabh Vora\t\tsovora@eng.ucsd.edu\n",
    "cleared: Rakesh Ganapathi Karanth\t\trkaranth@eng.ucsd.edu\n",
    "cleared: Shashank Uppoor\t\tsuppoor@eng.ucsd.edu\n",
    "cleared: Yue Wang\t\tyuw383@ucsd.edu\n",
    "cleared: Phani Teja Marupaka\t\tpmarupak@ucsd.edu\n",
    "cleared: Ankit Singh\t\tans049@ucsd.edu\n",
    "cleared: Vikas Lokesh\t\tvlokesh@eng.ucsd.edu\n",
    "cleared: Di Huang\t\tdih024@eng.ucsd.edu\n",
    "cleared: Zhongze Hu\t\tzhh073@eng.ucsd.edu\n",
    "cleared: Yuhui Zhang\t\tyuz483@eng.ucsd.edu\n",
    "cleared: Yue Xu\t\tyux033@ucsd.edu\n",
    "cleared: Zhenchao Gan\t\tzhgan@eng.ucsd.edu\n",
    "cleared: Shiunn An Lu\t\tshl423@eng.ucsd.edu\n",
    "cleared: Yaping Sun\t\tyas051@ucsd.edu\n",
    "cleared: Lu Yu\t\tluy018@ucsd.edu\n",
    "cleared: Ziyan Zhu\t\tziz183@ucsd.edu\n",
    "cleared: Weichen Liu\t\twel174@ucsd.edu\n",
    "cleared: Saurabh Gupta\t\tsag043@eng.ucsd.edu\n",
    "cleared: Puneeth BommiReddy\t\tpbommire@eng.ucsd.edu\n",
    "cleared: Naiwen Chang\t\tnachang@eng.ucsd.edu\n",
    "cleared: Victor Alor\t\tvalor@ucsd.edu\n",
    "cleared: Po-Han Chiang\t\tpochiang@ucsd.deu\n",
    "cleared: Mitesh Gadgil\t\tmgadgil@ucsd.edu\n",
    "cleared: Jesse Qin\t\tjeqin@eng.ucsd.edu\n",
    "cleared: Benjamin Weggersen\t\tax003948@acsmail.ucsd.edu\n",
    "cleared: Siwen Yan\t\tsiy043@eng.ucsd.edu\n",
    "cleared: Chelin Huang\t\tchh163@eng.ucsd.edu\n",
    "cleared: Minxuan Zhou\t\tmiz087@eng.ucsd.edu\n",
    "cleared: Han-Tai Hsu\t\thah030@eng.ucsd.edu\n",
    "cleared: Xu Hu\t\txhuaoe@gmail.com\n",
    "cleared: Zhi Cui\t\tz9cui@eng.ucsd.edu\n",
    "cleared: Ding Wang\t\tdiw005@eng.ucsd.edu\n",
    "cleared: Yunhan Wang\t\tyuw380@ucsd.edu\n",
    "cleared: Shengnan Ji\t\tshj047@eng.ucsd.edu\n",
    "cleared: Zeyun Lu\t\tzelu@ucsd.edu\n",
    "cleared: Madhur Kapoor\t\tmakapoor@ucsd.edu\n",
    "cleared: Siyuan Liu\t\tsil148@eng.ucsd.edu\n",
    "cleared: Jigar Surana\t\tjsurana@ucsd.edu\n",
    "cleared: Piyush Anil Nahar\t\tpnahar@ucsd.edu\n",
    "cleared: Venkata Satya Sri Harsha Aduri\t\tvaduri@eng.ucsd.edu\n",
    "cleared: Eric Bureaud\t\tebureaud@ucsd.edu\n",
    "cleared: YIMING ZHENG\t\tyiz476@eng.ucsd.edu\n",
    "cleared: Kishan Kumar Sachdeva\t\tksachdev@ucsd.edu\n",
    "cleared: Zhe Wang\t\tzhw176@ucsd.edu\n",
    "cleared: Yuanchao Zhu\t\tyuz063@eng.ucsd.edu\n",
    "cleared: Shivani Agrawal\t\tsha014@eng.ucsd.edu\n",
    "cleared: Yu Shen\t\tyus067@ucsd.edu\n",
    "cleared: Mubin Wang\t\tmuw012@ucsd.edu\n",
    "cleared: Apurva Pathak\t\tappathak@eng.ucsd.edu\n",
    "cleared: Kshitiz Gupta\t\tksg005@ucsd.edu\n",
    "cleared: Varun Garg\t\tvgarg@eng.ucsd.edu\n",
    "cleared: Jigarkumar\t\tjpp006@eng.ucsd.edu\n",
    "cleared: Dharmil Satishbhai Chandarana\t\tdharmil@ucsd.edu\n",
    "cleared: Zhongrong Jian\t\tzhjian@ucsd.edu\n",
    "cleared: Yiwen Shi\t\tyis018@ucsd.edu\n",
    "cleared: Qingyu Zhou\t\tqyzhou@ucsd.edu\n",
    "cleared: Ajeet Kumar\t\tajk054@ucsd.edu\n",
    "cleared: Lingyi Kong\t\tl1kong@ucsd.edu\n",
    "cleared: Qiming Zhang\t\tqiz123@eng.ucsd.edu\n",
    "cleared: Sanmitra Ijeri\t\tsijeri@eng.ucsd.edu\n",
    "cleared: Jayant Malani\t\tjmalani@eng.ucsd.edu\n",
    "cleared: Yi Luo\t\tyil485@ucsd.edu\n",
    "cleared: Apoorve Dave\t\ta1dave@eng.ucsd.edu\n",
    "cleared: Juan Sidrach de Cardona Mora\t\tjsidrach@ucsd.edu"
   ]
  },
  {
   "cell_type": "markdown",
   "metadata": {},
   "source": [
    "### Students who did not pass the entrance exam"
   ]
  },
  {
   "cell_type": "code",
   "execution_count": null,
   "metadata": {
    "collapsed": true
   },
   "outputs": [],
   "source": [
    "def c(flag):\n",
    "    return 'Correct' if flag else 'Incorrect'\n",
    "c(True),c(False)"
   ]
  },
  {
   "cell_type": "code",
   "execution_count": 76,
   "metadata": {
    "collapsed": false,
    "scrolled": false
   },
   "outputs": [
    {
     "name": "stdout",
     "output_type": "stream",
     "text": [
      "\n",
      "Dear %s,\n",
      "I am sorry to let you know that you have not passed the entrance exam for CSE255 this spring and therefor will\n",
      "not be able to take the course this quarter.\n",
      "\n",
      "You might want to know which of your answers was incorrect. This year the interest in the class was very high\n",
      "and only students that answered all six questions correctly passed the entrance exam.\n",
      "\n",
      "The table below tells you which questions you answered correctly and which incorrectly\n",
      "\n",
      "Question\t Correctness\n",
      "Statistics1\t %s\n",
      "Statistics2\t %s\n",
      "Statistics3\t %s\n",
      "\n",
      "MapReduce1\t %s\n",
      "MapReduce2\t %s\n",
      "MapReduce3\t %s\n",
      "\n",
      "Yoav Freund\n",
      "\n",
      "\n"
     ]
    }
   ],
   "source": [
    "text_out=\"\"\"\n",
    "Dear %s,\n",
    "I am sorry to let you know that you have not passed the entrance exam for CSE255 this spring and therefor will\n",
    "not be able to take the course this quarter.\n",
    "\n",
    "You might want to know which of your answers was incorrect. This year the interest in the class was very high\n",
    "and only students that answered all six questions correctly passed the entrance exam.\n",
    "\n",
    "The table below tells you which questions you answered correctly and which incorrectly\n",
    "\n",
    "Question\\t Correctness\n",
    "Statistics1\\t %s\n",
    "Statistics2\\t %s\n",
    "Statistics3\\t %s\n",
    "\n",
    "MapReduce1\\t %s\n",
    "MapReduce2\\t %s\n",
    "MapReduce3\\t %s\n",
    "\n",
    "Yoav Freund\n",
    "\n",
    "\"\"\"\n",
    "print text_out"
   ]
  },
  {
   "cell_type": "code",
   "execution_count": 95,
   "metadata": {
    "collapsed": false
   },
   "outputs": [
    {
     "name": "stdout",
     "output_type": "stream",
     "text": [
      "Failed: Sneha Priya Bhattaram\tspbhatta@eng.ucsd.edu\tA53092331\t5\n",
      "Failed: Yuning Hui\ty3hui@eng.ucsd.edu\tA53091905\t5\n",
      "Failed: Ruby Pai\trjpai@eng.ucsd.edu\tA03200213\t5\n",
      "Failed: Zixin Xu\tzix001@ucsd.edu\tA97079187\t5\n",
      "Failed: Yuan Li\tyul394@eng.ucsd.edu\tA53074437\t5\n",
      "Failed: Runze Xu\trux012@eng.ucsd.edu\tA53092653\t5\n",
      "Failed: Jie Fu\tjif052@eng.ucsd.edu\tA53102444\t5\n",
      "Failed: Vamsi Krishna Cheekatimalla\tvcheekat@ucsd.edu\tA53099416\t5\n",
      "Failed: Xiaojian Jin\txij049@ucsd.edu\tA53104909\t5\n",
      "Failed: Eduardo Ramirez\teduardo@ucsd.edu\tA98043244\t5\n",
      "Failed: Swetha Krishnakumar\tswk032@eng.ucsd.edu\tA53087417\t5\n",
      "Failed: Zhimin Zhou\tzhz249@eng.ucsd.edu\tA53089795\t5\n",
      "Failed: Feichao\tfeqian@ucsd.edu\tA53091625\t5\n",
      "Failed: Daniel Wen\tdhwen@eng.ucsd.edu\tA95116817\t5\n",
      "Failed: Ramkishore Swaminathan\trswamina@eng.ucsd.edu\tA53089745\t5\n",
      "Failed: Suganth Krishna Suresh\tsksuresh@eng.ucsd.edu\tA53104499\t5\n",
      "Failed: Yicong Jia\tyij071@eng.ucsd.edu\tA53100200\t5\n",
      "Failed: Juliana Curtis\tjccurtis@ucsd.edu\tA53064429\t5\n",
      "Failed: Brian Tsay\tbrtsay@ucsd.edu\tA53029582\t5\n",
      "Failed: Saurabh Kulkarni\ts3kulkar@eng.ucsd.edu\tA53099844\t5\n",
      "Failed: Shen Ting Ang\ts3ang@eng.ucsd.edu\tA53095324\t5\n",
      "Failed: Tianjia Feng\ttfeng@ucsd.edu\tA11758271\t5\n",
      "Failed: Pengbo Li\tpel034@ucsd.edu\tA53079916\t5\n",
      "Failed: Moojin Chae\tmochae@ucsd.edu\tA53102484\t5\n",
      "Failed: Erik Zhang\te5zhang@eng.ucsd.edu\tA09972087\t5\n",
      "Failed: Omar Shanta\toshanta@eng.ucsd.edu\tA09810559\t5\n",
      "Failed: Zheng Wei\tzhw035@ucsd.edu\tA53096229\t5\n",
      "Failed: Pulak Sarangi\tpsarangi@eng.ucsd.edu\tA53097118\t5\n",
      "Failed: Ajay Mohan\tajmohan@ucsd.edu\tA53096099\t5\n",
      "Failed: Aditya Suresh kumar\tasureshk@ucsd.edu\tA53092425\t5\n",
      "Failed: Yihong Zhang\tyiz474@eng.ucsd.edu\tA53097346\t5\n",
      "Failed: Caroline Kim\tchk101@eng.ucsd.edu\tA53104857\t5\n",
      "Failed: Matthew Elliott\tm3elliot@eng.ucsd.edu\tA53096457\t5\n",
      "Failed: Jinyang Yuan\tjiy244@ucsd.edu\tA53088382\t5\n",
      "Failed: Xiaojing Xu\txix068@ucsd.edu\tA53099643\t5\n",
      "Failed: Jialong Li\tjil653@eng.ucsd.edu\tA53105937\t5\n",
      "Failed: Kai Zhou\tkaz040@eng.ucsd.edu\tA53101200\t5\n",
      "Failed: Yilin Zhai\tyizhai@ucsd.edu\tA53103154\t5\n",
      "Failed: Ramesh Maddula\trkmaddul@eng.ucsd.edu\tA53101820\t5\n",
      "Failed: Mruganka Kashyap\tmrkashya@eng.ucsd.edu\tA53089892\t5\n",
      "Failed: Songyang Li\tsol070@eng.ucsd.edu\tA53097969\t5\n",
      "Failed: Yili Ding\tyid061@ucsd.edu\tA53102497\t5\n",
      "Failed: Jihang Lu\tjil190@eng.ucsd.edu\tA98021229\t5\n",
      "Failed: Jingwen Xie\tjix111@ucsd.edu\tA53103415\t5\n",
      "Failed: Tanvi Nabar\ttgnabar@ucsd.edu\tA53098349\t5\n",
      "Failed: Joshua Neighbor\tjwneighb@eng.ucsd.edu\tA53105202\t5\n",
      "Failed: Anshul Jain\tanj026@eng.ucsd.edu\tA53096750\t4\n",
      "Failed: Adithya Seshasayee\taseshasa@eng.ucsd.edu\tA53104691\t4\n",
      "Failed: Man Song\tmas065@ucsd.edu\tA53066657\t4\n",
      "Failed: Nasha Zhai\tnzhai@ucsd.edu\tA53082522\t4\n",
      "Failed: Xinrui Li\txil430@ucsd.edu\tA53106153\t4\n",
      "Failed: Justin Tee\tjutee@ucsd.edu\tA09260518\t4\n",
      "Failed: Linjie Li\tlil121@ucsd.edu\tA53070599\t4\n",
      "Failed: Seam Lee\tyhl014@ucsd.edu\tA10029832\t4\n",
      "Failed: Lenord Melvix Joseph Stephen Max\tlmelvix@ucsd.edu\tA53092538\t4\n",
      "Failed: Kuangyi Yang\tkuy006@ucsd.edu\tA53083212\t4\n",
      "Failed: Shalini Kedlaya\tskedlaya@ucsd.edu\tA53090836\t4\n",
      "Failed: Lu Yu\tluy018@ucsd.edu\ta53107397\t3\n",
      "Failed: Adithya Seshasayee\taseshasa@eng.ucsd.edu\t53104691\t3\n",
      "Failed: Jad Kanbar\tjkanbar@ucsd.edu\tA53012089\t3\n",
      "Failed: Jingwen Liang\tjil343@ucsd.edu\ta53051532\t3\n",
      "Failed: William Greenwald\tbillgreenwald@ucsd.edu\tA53092095\t3\n",
      "Failed: Xiaoying Gao\txig060@eng.ucsd.edu\tA53101876\t3\n",
      "Failed: Andrew Leverentz\taleveren@eng.ucsd.edu\tA53096478\t3\n",
      "Failed: Yuchun Li\tyul352@eng.ucsd.edu\tA53063718\t3\n",
      "Failed: Dawei Wang\tdaw068@ucsd.edu\tA53094262\t3\n",
      "Failed: Sabyasachi Nayak\tsabyasachi.nayak8@gmail.com\ta70001688\t2\n",
      "Failed: wenjia ouyang\tweouyang@eng.ucsd.edu\tA11069530\t2\n"
     ]
    }
   ],
   "source": [
    "for row in unique_sorted.iterrows():\n",
    "    D=dict(row[1])\n",
    "    if D['sum']==6:\n",
    "        continue\n",
    "    text=text_out%(D['name'],c(D['q1']),c(D['q2']),c(D['q3']),c(D['mr1']),c(D['mr2']),c(D['mr3']))\n",
    "    \n",
    "    send_mail(s,D['email'],text,'You did not pass the CSE255 Entrance Exam')\n",
    "    print \"Failed: %s\\t%s\\t%s\\t%d\"%(D['name'],D['email'],D['pid'],D['sum'])\n"
   ]
  },
  {
   "cell_type": "raw",
   "metadata": {},
   "source": [
    "Failed: Sneha Priya Bhattaram\tspbhatta@eng.ucsd.edu\tA53092331\t5\n",
    "Failed: Yuning Hui\ty3hui@eng.ucsd.edu\tA53091905\t5\n",
    "Failed: Ruby Pai\trjpai@eng.ucsd.edu\tA03200213\t5\n",
    "Failed: Zixin Xu\tzix001@ucsd.edu\tA97079187\t5\n",
    "Failed: Yuan Li\tyul394@eng.ucsd.edu\tA53074437\t5\n",
    "Failed: Runze Xu\trux012@eng.ucsd.edu\tA53092653\t5\n",
    "Failed: Jie Fu\tjif052@eng.ucsd.edu\tA53102444\t5\n",
    "Failed: Vamsi Krishna Cheekatimalla\tvcheekat@ucsd.edu\tA53099416\t5\n",
    "Failed: Xiaojian Jin\txij049@ucsd.edu\tA53104909\t5\n",
    "Failed: Eduardo Ramirez\teduardo@ucsd.edu\tA98043244\t5\n",
    "Failed: Swetha Krishnakumar\tswk032@eng.ucsd.edu\tA53087417\t5\n",
    "Failed: Zhimin Zhou\tzhz249@eng.ucsd.edu\tA53089795\t5\n",
    "Failed: Feichao\tfeqian@ucsd.edu\tA53091625\t5\n",
    "Failed: Daniel Wen\tdhwen@eng.ucsd.edu\tA95116817\t5\n",
    "Failed: Ramkishore Swaminathan\trswamina@eng.ucsd.edu\tA53089745\t5\n",
    "Failed: Suganth Krishna Suresh\tsksuresh@eng.ucsd.edu\tA53104499\t5\n",
    "Failed: Yicong Jia\tyij071@eng.ucsd.edu\tA53100200\t5\n",
    "Failed: Juliana Curtis\tjccurtis@ucsd.edu\tA53064429\t5\n",
    "Failed: Brian Tsay\tbrtsay@ucsd.edu\tA53029582\t5\n",
    "Failed: Saurabh Kulkarni\ts3kulkar@eng.ucsd.edu\tA53099844\t5\n",
    "Failed: Shen Ting Ang\ts3ang@eng.ucsd.edu\tA53095324\t5\n",
    "Failed: Tianjia Feng\ttfeng@ucsd.edu\tA11758271\t5\n",
    "Failed: Pengbo Li\tpel034@ucsd.edu\tA53079916\t5\n",
    "Failed: Moojin Chae\tmochae@ucsd.edu\tA53102484\t5\n",
    "Failed: Erik Zhang\te5zhang@eng.ucsd.edu\tA09972087\t5\n",
    "Failed: Omar Shanta\toshanta@eng.ucsd.edu\tA09810559\t5\n",
    "Failed: Zheng Wei\tzhw035@ucsd.edu\tA53096229\t5\n",
    "Failed: Pulak Sarangi\tpsarangi@eng.ucsd.edu\tA53097118\t5\n",
    "Failed: Ajay Mohan\tajmohan@ucsd.edu\tA53096099\t5\n",
    "Failed: Aditya Suresh kumar\tasureshk@ucsd.edu\tA53092425\t5\n",
    "Failed: Yihong Zhang\tyiz474@eng.ucsd.edu\tA53097346\t5\n",
    "Failed: Caroline Kim\tchk101@eng.ucsd.edu\tA53104857\t5\n",
    "Failed: Matthew Elliott\tm3elliot@eng.ucsd.edu\tA53096457\t5\n",
    "Failed: Jinyang Yuan\tjiy244@ucsd.edu\tA53088382\t5\n",
    "Failed: Xiaojing Xu\txix068@ucsd.edu\tA53099643\t5\n",
    "Failed: Jialong Li\tjil653@eng.ucsd.edu\tA53105937\t5\n",
    "Failed: Kai Zhou\tkaz040@eng.ucsd.edu\tA53101200\t5\n",
    "Failed: Yilin Zhai\tyizhai@ucsd.edu\tA53103154\t5\n",
    "Failed: Ramesh Maddula\trkmaddul@eng.ucsd.edu\tA53101820\t5\n",
    "Failed: Mruganka Kashyap\tmrkashya@eng.ucsd.edu\tA53089892\t5\n",
    "Failed: Songyang Li\tsol070@eng.ucsd.edu\tA53097969\t5\n",
    "Failed: Yili Ding\tyid061@ucsd.edu\tA53102497\t5\n",
    "Failed: Jihang Lu\tjil190@eng.ucsd.edu\tA98021229\t5\n",
    "Failed: Jingwen Xie\tjix111@ucsd.edu\tA53103415\t5\n",
    "Failed: Tanvi Nabar\ttgnabar@ucsd.edu\tA53098349\t5\n",
    "Failed: Joshua Neighbor\tjwneighb@eng.ucsd.edu\tA53105202\t5\n",
    "Failed: Anshul Jain\tanj026@eng.ucsd.edu\tA53096750\t4\n",
    "Failed: Adithya Seshasayee\taseshasa@eng.ucsd.edu\tA53104691\t4\n",
    "Failed: Man Song\tmas065@ucsd.edu\tA53066657\t4\n",
    "Failed: Nasha Zhai\tnzhai@ucsd.edu\tA53082522\t4\n",
    "Failed: Xinrui Li\txil430@ucsd.edu\tA53106153\t4\n",
    "Failed: Justin Tee\tjutee@ucsd.edu\tA09260518\t4\n",
    "Failed: Linjie Li\tlil121@ucsd.edu\tA53070599\t4\n",
    "Failed: Seam Lee\tyhl014@ucsd.edu\tA10029832\t4\n",
    "Failed: Lenord Melvix Joseph Stephen Max\tlmelvix@ucsd.edu\tA53092538\t4\n",
    "Failed: Kuangyi Yang\tkuy006@ucsd.edu\tA53083212\t4\n",
    "Failed: Shalini Kedlaya\tskedlaya@ucsd.edu\tA53090836\t4\n",
    "Failed: Lu Yu\tluy018@ucsd.edu\ta53107397\t3\n",
    "Failed: Adithya Seshasayee\taseshasa@eng.ucsd.edu\t53104691\t3\n",
    "Failed: Jad Kanbar\tjkanbar@ucsd.edu\tA53012089\t3\n",
    "Failed: Jingwen Liang\tjil343@ucsd.edu\ta53051532\t3\n",
    "Failed: William Greenwald\tbillgreenwald@ucsd.edu\tA53092095\t3\n",
    "Failed: Xiaoying Gao\txig060@eng.ucsd.edu\tA53101876\t3\n",
    "Failed: Andrew Leverentz\taleveren@eng.ucsd.edu\tA53096478\t3\n",
    "Failed: Yuchun Li\tyul352@eng.ucsd.edu\tA53063718\t3\n",
    "Failed: Dawei Wang\tdaw068@ucsd.edu\tA53094262\t3\n",
    "Failed: Sabyasachi Nayak\tsabyasachi.nayak8@gmail.com\ta70001688\t2\n",
    "Failed: wenjia ouyang\tweouyang@eng.ucsd.edu\tA11069530\t2"
   ]
  },
  {
   "cell_type": "code",
   "execution_count": 87,
   "metadata": {
    "collapsed": true
   },
   "outputs": [],
   "source": [
    "perfect.to_csv('Cleared.csv')"
   ]
  },
  {
   "cell_type": "code",
   "execution_count": null,
   "metadata": {
    "collapsed": true
   },
   "outputs": [],
   "source": []
  }
 ],
 "metadata": {
  "kernelspec": {
   "display_name": "Python 2",
   "language": "python",
   "name": "python2"
  },
  "language_info": {
   "codemirror_mode": {
    "name": "ipython",
    "version": 2
   },
   "file_extension": ".py",
   "mimetype": "text/x-python",
   "name": "python",
   "nbconvert_exporter": "python",
   "pygments_lexer": "ipython2",
   "version": "2.7.11"
  }
 },
 "nbformat": 4,
 "nbformat_minor": 0
}
