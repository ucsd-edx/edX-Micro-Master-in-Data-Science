{
 "cells": [
  {
   "cell_type": "code",
   "execution_count": 2,
   "metadata": {
    "collapsed": false,
    "scrolled": true
   },
   "outputs": [
    {
     "name": "stdout",
     "output_type": "stream",
     "text": [
      "Populating the interactive namespace from numpy and matplotlib\n"
     ]
    }
   ],
   "source": [
    "%pylab inline"
   ]
  },
  {
   "cell_type": "code",
   "execution_count": null,
   "metadata": {
    "collapsed": true
   },
   "outputs": [],
   "source": [
    "1) Warm up question\n",
    "\n",
    "n=10000;\n",
    "B=sc.parallelize(range(n))\n",
    "\n",
    "#find the number of elements in the RDD B\n",
    "\n",
    "\n",
    "# get the first few elements of an RDD\n",
    "print 'first element=',\n",
    "print 'first 5 elements = ',"
   ]
  },
  {
   "cell_type": "code",
   "execution_count": null,
   "metadata": {
    "collapsed": true
   },
   "outputs": [],
   "source": [
    "2) Given an RDD of words, find and output one of the longest words\n",
    "\n",
    "words=['this','is','the','best','mac','ever','jupyter']\n",
    "wordRDD=sc.parallelize(words)"
   ]
  },
  {
   "cell_type": "code",
   "execution_count": null,
   "metadata": {
    "collapsed": true
   },
   "outputs": [],
   "source": [
    "#answer\n",
    "wordRDD.reduce(lambda w,v: w if len(w)>len(v) else v)"
   ]
  },
  {
   "cell_type": "code",
   "execution_count": null,
   "metadata": {
    "collapsed": true
   },
   "outputs": [],
   "source": [
    "# Remove duplicate element in DuplicateRDD, we get distinct RDD\n",
    "DuplicateRDD = sc.parallelize([1,1,2,2,3,3])"
   ]
  },
  {
   "cell_type": "code",
   "execution_count": null,
   "metadata": {
    "collapsed": true
   },
   "outputs": [],
   "source": [
    "# answer\n",
    "DistinctRDD = DuplicateRDD.distinct()"
   ]
  },
  {
   "cell_type": "code",
   "execution_count": 17,
   "metadata": {
    "collapsed": false
   },
   "outputs": [
    {
     "name": "stdout",
     "output_type": "stream",
     "text": [
      " A= [0, 1, 2, 3, 4]\n",
      "duplicating each element= [0, 0, 1, 1, 2, 2, 3, 3, 4, 4]\n"
     ]
    }
   ],
   "source": [
    "# Given an RDD, create a new RDD where each element appears twice\n",
    "A=sc.parallelize(range(5))\n",
    "print 'A=',A.collect()\n",
    "#A= [0, 1, 2, 3, 4]\n",
    "print 'duplicating each element=', A.flatMap(lambda a: [a,a]).collect()\n",
    "# duplicating each element= [0, 0, 1, 1, 2, 2, 3, 3, 4, 4]"
   ]
  },
  {
   "cell_type": "code",
   "execution_count": null,
   "metadata": {
    "collapsed": true
   },
   "outputs": [],
   "source": [
    "# answer \n",
    "print 'duplicating each element=', A.flatMap(lambda a: [a,a]).collect()"
   ]
  },
  {
   "cell_type": "code",
   "execution_count": null,
   "metadata": {
    "collapsed": true
   },
   "outputs": [],
   "source": [
    "B=sc.parallelize(range(-10,20))\n",
    "# 3) How many positive numbers?"
   ]
  },
  {
   "cell_type": "code",
   "execution_count": null,
   "metadata": {
    "collapsed": true
   },
   "outputs": [],
   "source": [
    "#answer\n",
    "B.filter(lambda n: n > 0).count()"
   ]
  },
  {
   "cell_type": "markdown",
   "metadata": {},
   "source": [
    "## Working with Key/value pairs\n",
    "Spark provides specific functions to deal with RDDs in which each element is a key/value pair. Key/value RDDs expose new operations (e.g. aggregating and grouping together data with the same key and grouping together two different RDDs.) Such RDDs are also called pair RDDs. **In python, each element of a pair RDD is a pair tuple.**"
   ]
  },
  {
   "cell_type": "code",
   "execution_count": 5,
   "metadata": {
    "collapsed": false
   },
   "outputs": [
    {
     "name": "stdout",
     "output_type": "stream",
     "text": [
      "Original RDD : [(1, 2), (2, 4), (2, 6)]\n"
     ]
    }
   ],
   "source": [
    "# Compute and print the largest value for each key.\n",
    "rdd = sc.parallelize([(1,2), (2,4), (2,6)])\n",
    "print \"Original RDD :\", rdd.collect()"
   ]
  },
  {
   "cell_type": "code",
   "execution_count": 6,
   "metadata": {
    "collapsed": false,
    "scrolled": true
   },
   "outputs": [
    {
     "name": "stdout",
     "output_type": "stream",
     "text": [
      "[(2, 6), (1, 2)]\n"
     ]
    }
   ],
   "source": [
    "# answer\n",
    "print rdd.reduceByKey(lambda a,b: max(a,b)).collect()"
   ]
  },
  {
   "cell_type": "code",
   "execution_count": 9,
   "metadata": {
    "collapsed": false
   },
   "outputs": [
    {
     "name": "stdout",
     "output_type": "stream",
     "text": [
      "Original RDD : [(2, 2), (1, 4), (3, 6), (2, 1)]\n",
      "After transformation :  [(1, 4), (2, 2), (2, 1), (3, 6)]\n"
     ]
    }
   ],
   "source": [
    "# Sort an pair RDD by value and print the result\n",
    "rdd = sc.parallelize([(2,2), (1,4), (3,6),(2,1)])\n",
    "print \"Original RDD :\", rdd.collect()\n",
    "print \"After transformation : \","
   ]
  },
  {
   "cell_type": "code",
   "execution_count": null,
   "metadata": {
    "collapsed": true
   },
   "outputs": [],
   "source": [
    "print \"After transformation : \", rdd.sortByKey().collect()"
   ]
  },
  {
   "cell_type": "code",
   "execution_count": 18,
   "metadata": {
    "collapsed": false
   },
   "outputs": [
    {
     "name": "stdout",
     "output_type": "stream",
     "text": [
      "Original RDD : [(1, 2), (2, 4), (2, 6)]\n",
      "After transformation :  [(2, [4, 6]), (1, [2])]\n"
     ]
    }
   ],
   "source": [
    "rdd = sc.parallelize([(1,2), (2,4), (2,6)])\n",
    "print \"Original RDD :\", rdd.collect()\n",
    "print \"After transformation : \", rdd.groupByKey().mapValues(lambda x:[a for a in x]).collect()"
   ]
  },
  {
   "cell_type": "code",
   "execution_count": 24,
   "metadata": {
    "collapsed": false
   },
   "outputs": [
    {
     "data": {
      "text/plain": [
       "[('adam', ('kalai', None)),\n",
       " ('vaclav', (None, 'M')),\n",
       " ('john', ('dow', 'M')),\n",
       " ('beth', ('simon', 'F'))]"
      ]
     },
     "execution_count": 24,
     "metadata": {},
     "output_type": "execute_result"
    }
   ],
   "source": [
    "#Perform an outer join of the two (key,value) RDDs:\n",
    "A=sc.parallelize([('john','dow'),('adam','kalai'),('beth','simon')])\n",
    "B=sc.parallelize([('beth','F'),('john','M'),('vaclav','M')])"
   ]
  },
  {
   "cell_type": "code",
   "execution_count": null,
   "metadata": {
    "collapsed": true
   },
   "outputs": [],
   "source": [
    "#answer\n",
    "A.fullOuterJoin(B).collect()"
   ]
  },
  {
   "cell_type": "markdown",
   "metadata": {},
   "source": [
    "## Computing Statistics"
   ]
  },
  {
   "cell_type": "code",
   "execution_count": 51,
   "metadata": {
    "collapsed": true
   },
   "outputs": [],
   "source": [
    "4) Suppose X is an RDD where each element is a floating point value. write code to \n",
    "**efficiently** compute a good **approximation** of the median value?\n",
    "from numpy.random import rand\n",
    "X=sc.parallelize(rand(10000000)/2)"
   ]
  },
  {
   "cell_type": "code",
   "execution_count": 48,
   "metadata": {
    "collapsed": false
   },
   "outputs": [
    {
     "data": {
      "text/plain": [
       "0.25058720389041689"
      ]
     },
     "execution_count": 48,
     "metadata": {},
     "output_type": "execute_result"
    }
   ],
   "source": [
    "#answer\n",
    "L=X.sample(False,0.001).collect()\n",
    "L=sorted(L)\n",
    "L[len(L)/2]"
   ]
  },
  {
   "cell_type": "code",
   "execution_count": null,
   "metadata": {
    "collapsed": true
   },
   "outputs": [],
   "source": [
    "5) For The same RDD, compute the mean and the standard deviation"
   ]
  },
  {
   "cell_type": "code",
   "execution_count": 49,
   "metadata": {
    "collapsed": true
   },
   "outputs": [],
   "source": [
    "#answer\n",
    "from numpy import sqrt\n",
    "(N,S,S2)=X.map(lambda x: (1,x,x*x)).reduce(lambda a,b:(a[0]+b[0],a[1]+b[1],a[2]+b[2]))\n",
    "E=S/N\n",
    "Var=S2/N-E**2\n",
    "print 'mean=%f, std=%f'%(E,sqrt(Var))"
   ]
  },
  {
   "cell_type": "code",
   "execution_count": 67,
   "metadata": {
    "collapsed": true
   },
   "outputs": [],
   "source": [
    "#6) Suppose R is an RDD of tuples, each tuple containing two floating point numbers \n",
    "#$(x,y)$. Compute the covariance of $x$ and $y$ using a single pass over the RDD.\n",
    "\n",
    "import numpy as np\n",
    "n=10000\n",
    "a=rand(n); b=rand(n)\n",
    "R=sc.parallelize(zip(5*a+b,5*a-b))"
   ]
  },
  {
   "cell_type": "code",
   "execution_count": 68,
   "metadata": {
    "collapsed": false
   },
   "outputs": [
    {
     "data": {
      "text/plain": [
       "(10000.0, 29788.509672070322, 19764.978532869351, 78995.237297205415)"
      ]
     },
     "execution_count": 68,
     "metadata": {},
     "output_type": "execute_result"
    }
   ],
   "source": [
    "#answer\n",
    "(N,X,Y,XY)=R.map(lambda x:np.array([1,x[0],x[1],x[0]*x[1]])).reduce(lambda a,b:a+b)\n",
    "print 'cov(x,y)=',XY/N-(X/N)*(Y/N)"
   ]
  },
  {
   "cell_type": "markdown",
   "metadata": {},
   "source": [
    "7) Suppose R is an RDD that contains integer numbers in the range 0 to 3. Write an RDD the efficiently computes an approximate histogram."
   ]
  },
  {
   "cell_type": "code",
   "execution_count": 3,
   "metadata": {
    "collapsed": false
   },
   "outputs": [
    {
     "name": "stdout",
     "output_type": "stream",
     "text": [
      "2\n"
     ]
    },
    {
     "data": {
      "text/plain": [
       "[1, 2, 0, 2, 2, 2, 1, 0, 2, 3, 2, 1, 1, 0, 1, 2, 0, 1, 0, 1]"
      ]
     },
     "execution_count": 3,
     "metadata": {},
     "output_type": "execute_result"
    }
   ],
   "source": [
    "X=([0]*10000+[1]*23000+[2]*15532+[3]*10000)\n",
    "keys=rand(len(X))\n",
    "R=sc.parallelize(zip(keys,X)).cache()\n",
    "print R.getNumPartitions()\n",
    "R=R.repartitionAndSortWithinPartitions(2).map(lambda x:x[1])\n",
    "R.take(20)"
   ]
  },
  {
   "cell_type": "code",
   "execution_count": 111,
   "metadata": {
    "collapsed": false,
    "scrolled": true
   },
   "outputs": [
    {
     "data": {
      "image/png": "[encoded data removed]",
      "text/plain": [
       "<matplotlib.figure.Figure at 0x115627c10>"
      ]
     },
     "metadata": {},
     "output_type": "display_data"
    }
   ],
   "source": [
    "H=R.sample(False,0.01).collect()\n",
    "hist(H);"
   ]
  },
  {
   "cell_type": "code",
   "execution_count": null,
   "metadata": {
    "collapsed": true
   },
   "outputs": [],
   "source": [
    "#excercise lazy evaluation and the use of cache()\n",
    "\n",
    "from math import cos\n",
    "def taketime(i): ## An operation that takes \n",
    "    [cos(j) for j in range(10)]\n",
    "    return cos(i)\n",
    "\n",
    "Interm=RDD.map(lambda x: taketime(x))"
   ]
  },
  {
   "cell_type": "code",
   "execution_count": null,
   "metadata": {
    "collapsed": true
   },
   "outputs": [],
   "source": []
  },
  {
   "cell_type": "code",
   "execution_count": null,
   "metadata": {
    "collapsed": true
   },
   "outputs": [],
   "source": []
  },
  {
   "cell_type": "code",
   "execution_count": null,
   "metadata": {
    "collapsed": true
   },
   "outputs": [],
   "source": []
  }
 ],
 "metadata": {
  "kernelspec": {
   "display_name": "Python 2",
   "language": "python",
   "name": "python2"
  },
  "language_info": {
   "codemirror_mode": {
    "name": "ipython",
    "version": 2
   },
   "file_extension": ".py",
   "mimetype": "text/x-python",
   "name": "python",
   "nbconvert_exporter": "python",
   "pygments_lexer": "ipython2",
   "version": "2.7.11"
  }
 },
 "nbformat": 4,
 "nbformat_minor": 0
}
