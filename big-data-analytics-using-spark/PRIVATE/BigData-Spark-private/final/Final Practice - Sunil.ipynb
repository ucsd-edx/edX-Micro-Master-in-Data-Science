{
 "cells": [
  {
   "cell_type": "code",
   "execution_count": 1,
   "metadata": {
    "collapsed": true
   },
   "outputs": [],
   "source": [
    "from pyspark import SparkContext"
   ]
  },
  {
   "cell_type": "code",
   "execution_count": 2,
   "metadata": {
    "collapsed": true
   },
   "outputs": [],
   "source": [
    "sc=SparkContext()"
   ]
  },
  {
   "cell_type": "code",
   "execution_count": 3,
   "metadata": {
    "collapsed": true
   },
   "outputs": [],
   "source": [
    "import numpy as np"
   ]
  },
  {
   "cell_type": "markdown",
   "metadata": {},
   "source": [
    "1.) DSE\n",
    "\n",
    "Write code to estimate the percentage of males and females from an RDD containing millions of such records "
   ]
  },
  {
   "cell_type": "code",
   "execution_count": 4,
   "metadata": {
    "collapsed": false,
    "scrolled": true
   },
   "outputs": [
    {
     "name": "stdout",
     "output_type": "stream",
     "text": [
      "Male Percentage = 0.592306\n",
      "Female Percentage = 0.407694\n"
     ]
    }
   ],
   "source": [
    "genderList=np.random.choice(['m','f'], 10000000, p=[0.6,0.4])\n",
    "genderRDD=sc.parallelize(genderList)\n",
    "\n",
    "#Your Answer Here\n",
    "sampledRDD=genderRDD.sample(withReplacement=False, fraction = 0.001)\n",
    "M,F=sampledRDD.map(lambda x: (x,1)).reduceByKey(lambda x,y: x+y).collect()\n",
    "T=M[1]+F[1]\n",
    "print 'Male Percentage = %f'%((M[1]*1.0)/T)\n",
    "print 'Female Percentage = %f'%((F[1]*1.0)/T)"
   ]
  },
  {
   "cell_type": "markdown",
   "metadata": {},
   "source": [
    "2.) CSE and DSE\n",
    "\n",
    "Given a directed graph in the form of an RDD where each element `(i,j)` of the graphRDD represents an edge in the graph from node i to node j. Find one of the nodes with maximum out-degree in the graph and print the node and the out-degree. "
   ]
  },
  {
   "cell_type": "code",
   "execution_count": 5,
   "metadata": {
    "collapsed": false
   },
   "outputs": [
    {
     "name": "stdout",
     "output_type": "stream",
     "text": [
      "Node 616 has max degree 129\n"
     ]
    }
   ],
   "source": [
    "nodes=range(1000)\n",
    "edges=set()\n",
    "for e in range(100000):\n",
    "    i,j=np.random.choice(nodes,2)\n",
    "    if i != j:\n",
    "        edges.add((i,j))\n",
    "graphRDD=sc.parallelize(list(edges))\n",
    "\n",
    "#Your answer here\n",
    "degreeRDD=graphRDD.map(lambda (i,j): (i,1)).reduceByKey(lambda x,y: x+y)\n",
    "N,D=degreeRDD.reduce(lambda x,y: x if x[1]>=y[1] else y)\n",
    "print 'Node %d has max degree %d'%(N,D)"
   ]
  },
  {
   "cell_type": "markdown",
   "metadata": {},
   "source": [
    "3.) \n",
    "\n",
    "Suppose that we have convert the above directed graph into an undirected graph by considering every pair of edge `(i,j)` and `(j,i)` as the same edge. Count the number of edges in this resulting undirected graph given the directed graph in graphRDD."
   ]
  },
  {
   "cell_type": "code",
   "execution_count": 6,
   "metadata": {
    "collapsed": false
   },
   "outputs": [
    {
     "name": "stdout",
     "output_type": "stream",
     "text": [
      "Number of edges = 90626\n"
     ]
    }
   ],
   "source": [
    "#Your answer here\n",
    "undirectedRDD=graphRDD.map(lambda (i,j): (i,j) if i<j else (j,i))\n",
    "edgeRDD=undirectedRDD.distinct()\n",
    "print 'Number of edges = %d'%edgeRDD.count()"
   ]
  },
  {
   "cell_type": "markdown",
   "metadata": {},
   "source": [
    "4.)\n",
    "\n",
    "Coming back to the directed graph represented in graphRDD, calculate the number of non-reciprocative relations between nodes in the graph i.e there is an edge `(i,j)` but no edge `(j,i)` in the graph. Also report the number of reciprocative relations."
   ]
  },
  {
   "cell_type": "code",
   "execution_count": 7,
   "metadata": {
    "collapsed": false,
    "scrolled": true
   },
   "outputs": [
    {
     "name": "stdout",
     "output_type": "stream",
     "text": [
      "Number of un-reciprocated relations = 86134\n",
      "Number of reciprocated relations = 4492\n"
     ]
    }
   ],
   "source": [
    "#Your answer here\n",
    "undirectedRDD=graphRDD.map(lambda (i,j): (i,j) if i<j else (j,i)).map(lambda x: (x,1)).reduceByKey(lambda x,y: x+y)\n",
    "unrec,rec=undirectedRDD.map(lambda (e,c): (c,1)).reduceByKey(lambda x,y: x+y).collect()\n",
    "print 'Number of un-reciprocated relations = %d'%(unrec[1])\n",
    "print 'Number of reciprocated relations = %d'%(rec[1])"
   ]
  },
  {
   "cell_type": "markdown",
   "metadata": {},
   "source": [
    "5.) CSE and DSE\n",
    "\n",
    "Given an RDD containing details of customers and another RDD containing details of their purchases, generate the following purchase report in the form of an RDD.\n",
    "\n",
    "`\n",
    "[('C3', (('f', 'AZ'), '4')),\n",
    " ('C2', (('f', 'CA'), None)),\n",
    " ('C1', (('m', 'CA'), '2')),\n",
    " ('C5', (('m', 'NJ'), None)),\n",
    " ('C4', (('m', 'NY'), '7'))]\n",
    "`"
   ]
  },
  {
   "cell_type": "code",
   "execution_count": 8,
   "metadata": {
    "collapsed": false,
    "scrolled": true
   },
   "outputs": [
    {
     "data": {
      "text/plain": [
       "[('C3', (('f', 'AZ'), '4')),\n",
       " ('C2', (('f', 'CA'), None)),\n",
       " ('C1', (('m', 'CA'), '2')),\n",
       " ('C5', (('m', 'NJ'), None)),\n",
       " ('C4', (('m', 'NY'), '7'))]"
      ]
     },
     "execution_count": 8,
     "metadata": {},
     "output_type": "execute_result"
    }
   ],
   "source": [
    "customerRDD=sc.parallelize([('C1',('m','CA')),('C2',('f','CA')),('C3',('f','AZ')),('C4',('m','NY')),('C5',('m','NJ'))])\n",
    "purchaseRDD=sc.parallelize([('C1','2'),('C3','4'),('C4','7')])\n",
    "\n",
    "#Your answer here\n",
    "reportRDD=customerRDD.leftOuterJoin(purchaseRDD)\n",
    "reportRDD.collect()"
   ]
  },
  {
   "cell_type": "markdown",
   "metadata": {},
   "source": [
    "6.)\n",
    "\n",
    "mathRDD contains the list of students who have taken the mathematics course and psyRDD contains the list of students who have taken the psychology course. Count the number of students who have taken either of the courses but not both."
   ]
  },
  {
   "cell_type": "code",
   "execution_count": 9,
   "metadata": {
    "collapsed": false
   },
   "outputs": [
    {
     "name": "stdout",
     "output_type": "stream",
     "text": [
      "Number of students who have taken either courses but not both = 29\n"
     ]
    }
   ],
   "source": [
    "mathRDD=sc.parallelize(np.random.choice(range(50),25,replace=False))\n",
    "psyRDD=sc.parallelize(np.random.choice(range(50),30,replace=False))\n",
    "\n",
    "#Your answer here\n",
    "M=mathRDD.subtract(psyRDD).count()\n",
    "P=psyRDD.subtract(mathRDD).count()\n",
    "print 'Number of students who have taken either courses but not both = %d'%(M+P)"
   ]
  }
 ],
 "metadata": {
  "kernelspec": {
   "display_name": "Python 2",
   "language": "python",
   "name": "python2"
  },
  "language_info": {
   "codemirror_mode": {
    "name": "ipython",
    "version": 2
   },
   "file_extension": ".py",
   "mimetype": "text/x-python",
   "name": "python",
   "nbconvert_exporter": "python",
   "pygments_lexer": "ipython2",
   "version": "2.7.11"
  }
 },
 "nbformat": 4,
 "nbformat_minor": 0
}
