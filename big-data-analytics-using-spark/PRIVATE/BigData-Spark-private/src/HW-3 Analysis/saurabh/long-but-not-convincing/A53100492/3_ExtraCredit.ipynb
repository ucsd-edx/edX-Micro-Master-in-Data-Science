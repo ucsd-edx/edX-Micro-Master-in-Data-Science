{
 "cells": [
  {
   "cell_type": "markdown",
   "metadata": {},
   "source": [
    "- Name: Yiwen Shi\n",
    "- PID: A53100492\n",
    "- E-mail: yis018@ucsd.edu"
   ]
  },
  {
   "cell_type": "markdown",
   "metadata": {},
   "source": [
    "## Homework 3 - Extra Credit\n",
    "\n",
    "### Extra Credit\n",
    "* Can you figure out what is the reason for these lower counts (especially at the beginning and end of the year and also the sudden dip at the end of each month)? Is it restricted to a subset of the stations? Suggest a way to remove this effect.\n",
    "\n",
    "* Can you Explain the counts per day for \"SNWD\" ?\n",
    "\n",
    "Provide your explanation in new markdown cells appended after this cell. Support your explanation\n",
    "using code cells and graphs. If you need more data that is available only in the full dataset in the cloud but not in the data you have downloaded, contact your TA."
   ]
  },
  {
   "cell_type": "markdown",
   "metadata": {},
   "source": [
    "### Methods\n",
    "1. collect raw data for measurement \"SNWD\"\n",
    "2. Count non-NaN records for for each station each day\n",
    "3. Calculate standard deviation(std) for number of records of each station\n",
    "4. Plot for stations with lower std and high std, compare the plots"
   ]
  },
  {
   "cell_type": "code",
   "execution_count": 1,
   "metadata": {
    "collapsed": false
   },
   "outputs": [
    {
     "data": {
      "text/plain": [
       "<pyspark.sql.context.SQLContext at 0x10b170410>"
      ]
     },
     "execution_count": 1,
     "metadata": {},
     "output_type": "execute_result"
    }
   ],
   "source": [
    "import os\n",
    "import sys\n",
    "\n",
    "from pyspark.sql import SQLContext\n",
    "from pyspark.sql.types import Row, StructField, StructType, StringType, IntegerType\n",
    "import numpy as np\n",
    "import pandas as pd\n",
    "\n",
    "sqlContext = SQLContext(sc)\n",
    "sqlContext"
   ]
  },
  {
   "cell_type": "code",
   "execution_count": 2,
   "metadata": {
    "collapsed": false
   },
   "outputs": [
    {
     "name": "stdout",
     "output_type": "stream",
     "text": [
      "Populating the interactive namespace from numpy and matplotlib\n"
     ]
    }
   ],
   "source": [
    "%pylab inline"
   ]
  },
  {
   "cell_type": "markdown",
   "metadata": {},
   "source": [
    "Original data is collected using following code:"
   ]
  },
  {
   "cell_type": "raw",
   "metadata": {},
   "source": [
    "query = \"SELECT * FROM parquet.`/Weather` WHERE measurement = 'SNWD'\"\n",
    "parquetFile = sqlContext.sql(query)\n",
    "parquetFile.write.parquet(\"./A53100492/SYW2.parquet\")"
   ]
  },
  {
   "cell_type": "markdown",
   "metadata": {},
   "source": [
    "Read the original parquet data into pyspark DataFrame"
   ]
  },
  {
   "cell_type": "code",
   "execution_count": 3,
   "metadata": {
    "collapsed": false
   },
   "outputs": [],
   "source": [
    "raw = sqlContext.read.load(\"SYW2.parquet\")\n",
    "raw.registerTempTable(\"raw\")"
   ]
  },
  {
   "cell_type": "markdown",
   "metadata": {},
   "source": [
    "Count for valid redord for each station for each day in a year"
   ]
  },
  {
   "cell_type": "code",
   "execution_count": 4,
   "metadata": {
    "collapsed": false
   },
   "outputs": [],
   "source": [
    "query = \"SELECT station\"\n",
    "for i in range(1,366):\n",
    "    query += \", SUM(CASE WHEN `\" + str(i) + \"` = 'NaN' THEN 0 ELSE 1 END) cnt\" + str(i)\n",
    "    \n",
    "query += \" FROM raw GROUP BY station\"\n",
    "\n",
    "daily_cnt = sqlContext.sql(query)"
   ]
  },
  {
   "cell_type": "markdown",
   "metadata": {},
   "source": [
    "Convert pyspark DataFrame into Pandas DataFrame"
   ]
  },
  {
   "cell_type": "code",
   "execution_count": 5,
   "metadata": {
    "collapsed": false
   },
   "outputs": [],
   "source": [
    "daily_pd = daily_cnt.toPandas()"
   ]
  },
  {
   "cell_type": "markdown",
   "metadata": {},
   "source": [
    "Calculate standard deviation for number of records for each station. \n",
    "\n",
    "Because lower std implies that the station record weather data regularly, count of records are steady, do not vary a lot, thus should contribute to the staeady part of the count plot for SNWD in part 1. While the stations do not record regularly should contribute to the varies of the count plot for SNWD in part 1."
   ]
  },
  {
   "cell_type": "code",
   "execution_count": 6,
   "metadata": {
    "collapsed": false
   },
   "outputs": [],
   "source": [
    "std = daily_pd.loc[:, 'cnt1':'cnt365'].std(axis=1)\n",
    "daily_pd['cnt_std'] = std"
   ]
  },
  {
   "cell_type": "code",
   "execution_count": 7,
   "metadata": {
    "collapsed": true
   },
   "outputs": [],
   "source": [
    "yearday=[i for i in range(1,366)]"
   ]
  },
  {
   "cell_type": "markdown",
   "metadata": {},
   "source": [
    "Plot count of records for stations with higher std."
   ]
  },
  {
   "cell_type": "code",
   "execution_count": 8,
   "metadata": {
    "collapsed": false
   },
   "outputs": [
    {
     "name": "stdout",
     "output_type": "stream",
     "text": [
      "Different between Max Count and Min Count is 44874\n"
     ]
    },
    {
     "data": {
      "image/png": "[encoded data removed]",
      "text/plain": [
       "<matplotlib.figure.Figure at 0x10b14cf10>"
      ]
     },
     "metadata": {},
     "output_type": "display_data"
    }
   ],
   "source": [
    "filtered = daily_pd.loc[daily_pd['cnt_std'] > 2.5, :]\n",
    "cnt_filtered = filtered.loc[:, 'cnt1':'cnt365'].sum()\n",
    "plt.gca().xaxis.set_major_formatter( DateFormatter('%b') )\n",
    "plot_date(yearday, cnt_filtered, '-')\n",
    "title('Plot for station with higher std for record count')\n",
    "ylim((max(cnt_filtered)-47000, max(cnt_filtered) + 3000))\n",
    "print 'Different between Max Count and Min Count is ' + str(max(cnt_filtered)-min(cnt_filtered))"
   ]
  },
  {
   "cell_type": "markdown",
   "metadata": {},
   "source": [
    "Plot count of records for stations with lower std."
   ]
  },
  {
   "cell_type": "code",
   "execution_count": 9,
   "metadata": {
    "collapsed": false
   },
   "outputs": [
    {
     "name": "stdout",
     "output_type": "stream",
     "text": [
      "Different between Max Count and Min Count is 6939\n"
     ]
    },
    {
     "data": {
      "image/png": "[encoded data removed]",
      "text/plain": [
       "<matplotlib.figure.Figure at 0x10e206610>"
      ]
     },
     "metadata": {},
     "output_type": "display_data"
    }
   ],
   "source": [
    "filtered2 = daily_pd.loc[daily_pd['cnt_std'] <= 2.5, :]\n",
    "cnt_filtered2 = filtered2.loc[:, 'cnt1':'cnt365'].sum()\n",
    "plt.gca().xaxis.set_major_formatter( DateFormatter('%b') )\n",
    "plot_date(yearday, cnt_filtered2, '-')\n",
    "title('Plot for station with lower std for record count')\n",
    "ylim((max(cnt_filtered2)-30000, max(cnt_filtered2)+5000))\n",
    "print 'Different between Max Count and Min Count is ' + str(max(cnt_filtered2)-min(cnt_filtered2))"
   ]
  },
  {
   "cell_type": "markdown",
   "metadata": {},
   "source": [
    "### Solution\n",
    "\n",
    "As we can see from the count plot in part 1, the maximum and minimum count differs by about 35000.\n",
    "\n",
    "For stations with lower std, the count plot is very steady, and the difference between maximum and minimum is 6939, relative small compared to 35000.\n",
    "\n",
    "While for stations with higher std, the count plot varies a lot, and the tendency is similar to count plot for all the stations, the difference between maximum and minimum is 44874.\n",
    "\n",
    "Thus we can conclude that the the sudden dip is restricted to a subset of stations.\n",
    "\n",
    "Alternatively, we can drop the years when there are too many NaN numbers, and keep the years when data are more complete. "
   ]
  },
  {
   "cell_type": "code",
   "execution_count": null,
   "metadata": {
    "collapsed": true
   },
   "outputs": [],
   "source": []
  }
 ],
 "metadata": {
  "kernelspec": {
   "display_name": "Python 2",
   "language": "python",
   "name": "python2"
  },
  "language_info": {
   "codemirror_mode": {
    "name": "ipython",
    "version": 2
   },
   "file_extension": ".py",
   "mimetype": "text/x-python",
   "name": "python",
   "nbconvert_exporter": "python",
   "pygments_lexer": "ipython2",
   "version": "2.7.11"
  }
 },
 "nbformat": 4,
 "nbformat_minor": 0
}
