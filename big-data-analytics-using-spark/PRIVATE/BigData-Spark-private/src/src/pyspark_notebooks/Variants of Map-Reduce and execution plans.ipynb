{
 "cells": [
  {
   "cell_type": "markdown",
   "metadata": {},
   "source": [
    "### Variants of Map and Reduce\n",
    "In this notebook I want to:\n",
    "1. study the difference between `map`, `fold` and `aggregate` and [combineByKey](http://spark.apache.org/docs/latest/api/python/pyspark.html#pyspark.RDD.collectAsMap) especially as it pertains to issues of execution plans and execution efficiency. Still to find a clear explanation of `numPartitions=None, partitionFunc`\n",
    "2. Controlling the number of partitions using the parameter `partitionNo` and the methods `repartition` and `coalesce`\n",
    "2. Controlling the RDD allocation using `cache`, `checkpoint` and the like"
   ]
  },
  {
   "cell_type": "code",
   "execution_count": 1,
   "metadata": {
    "collapsed": false
   },
   "outputs": [
    {
     "name": "stdout",
     "output_type": "stream",
     "text": [
      "Populating the interactive namespace from numpy and matplotlib\n"
     ]
    }
   ],
   "source": [
    "%pylab inline"
   ]
  },
  {
   "cell_type": "code",
   "execution_count": 2,
   "metadata": {
    "collapsed": false
   },
   "outputs": [
    {
     "name": "stdout",
     "output_type": "stream",
     "text": [
      "we started at time: 1458189302.67\n"
     ]
    }
   ],
   "source": [
    "## This is a time-stamp that will be used later to identify the relevant lines in the system monitoring files.\n",
    "from time import time\n",
    "t_start=time()\n",
    "print 'we started at time:',t_start"
   ]
  },
  {
   "cell_type": "code",
   "execution_count": 3,
   "metadata": {
    "collapsed": false,
    "scrolled": true
   },
   "outputs": [
    {
     "name": "stdout",
     "output_type": "stream",
     "text": [
      "CPU times: user 9.95 ms, sys: 3.8 ms, total: 13.7 ms\n",
      "Wall time: 364 ms\n"
     ]
    }
   ],
   "source": [
    "%%time\n",
    "RDD=sc.parallelize(range(100000))"
   ]
  },
  {
   "cell_type": "markdown",
   "metadata": {},
   "source": [
    "### setting up the mapper\n",
    "To demonstrate the effect of lazy execution we define a dummy function which takes significant amount of time to compute."
   ]
  },
  {
   "cell_type": "code",
   "execution_count": 4,
   "metadata": {
    "collapsed": true
   },
   "outputs": [],
   "source": [
    "from math import cos\n",
    "def taketime(i):\n",
    "    [cos(i) for i in range(1000)]\n",
    "    return cos(i)"
   ]
  },
  {
   "cell_type": "code",
   "execution_count": 5,
   "metadata": {
    "collapsed": false
   },
   "outputs": [
    {
     "name": "stdout",
     "output_type": "stream",
     "text": [
      "CPU times: user 609 µs, sys: 724 µs, total: 1.33 ms\n",
      "Wall time: 681 µs\n"
     ]
    },
    {
     "data": {
      "text/plain": [
       "0.9996498529808264"
      ]
     },
     "execution_count": 5,
     "metadata": {},
     "output_type": "execute_result"
    }
   ],
   "source": [
    "%%time\n",
    "taketime(5)"
   ]
  },
  {
   "cell_type": "markdown",
   "metadata": {},
   "source": [
    "### Lazy execution\n",
    "we define the map-reduce operation in two steps. First, we define the map operation. Note that at this step nothin is actually executed. the command takes very little time"
   ]
  },
  {
   "cell_type": "code",
   "execution_count": 6,
   "metadata": {
    "collapsed": false,
    "scrolled": false
   },
   "outputs": [
    {
     "name": "stdout",
     "output_type": "stream",
     "text": [
      "CPU times: user 26 µs, sys: 20 µs, total: 46 µs\n",
      "Wall time: 47 µs\n"
     ]
    }
   ],
   "source": [
    "%%time\n",
    "A=RDD.map(lambda x: taketime(x))"
   ]
  },
  {
   "cell_type": "markdown",
   "metadata": {},
   "source": [
    "Now we execute the reduce command. As the reduce command generates an output that is not an RDD, we cannot be lazy any longer. We now have to execute the whole plan, which takes a significant amount of time.\n",
    "\n",
    "Note that the CPU time is a tiny fraction of the wall-time required. That is because most of the time is spent waiting for data from memory to be loaded into the CPU cache."
   ]
  },
  {
   "cell_type": "code",
   "execution_count": 7,
   "metadata": {
    "collapsed": false
   },
   "outputs": [
    {
     "name": "stdout",
     "output_type": "stream",
     "text": [
      "CPU times: user 10.3 ms, sys: 4.78 ms, total: 15.1 ms\n",
      "Wall time: 9.5 s\n"
     ]
    },
    {
     "data": {
      "text/plain": [
       "99964.98529800773"
      ]
     },
     "execution_count": 7,
     "metadata": {},
     "output_type": "execute_result"
    }
   ],
   "source": [
    "%%time\n",
    "A.reduce(lambda x,y:x+y)"
   ]
  },
  {
   "cell_type": "markdown",
   "metadata": {},
   "source": [
    "### Sharing intermediate results\n",
    "The bnefit of the lazy execution plan used by Spark is that only a single pass over the RDD is required, **and** that intermediate results are not stored.\n",
    "\n",
    "However, this advantage has a downside, Suppose that the output of the map operation when calculating the result above is also the input for a different map-reduce plan. As the map operation is executed on the fly and it's output is not stored, we have no choice but to re-execute the `map` operation.\n",
    "\n",
    "Note that we have a variable `A` which points to the map operation. However, this variable only points to the **execution plan** for computing an RDD, and not to an RDD residing in memory."
   ]
  },
  {
   "cell_type": "code",
   "execution_count": 8,
   "metadata": {
    "collapsed": false,
    "scrolled": false
   },
   "outputs": [
    {
     "name": "stdout",
     "output_type": "stream",
     "text": [
      "out= 100000\n",
      "CPU times: user 8.39 ms, sys: 3.46 ms, total: 11.9 ms\n",
      "Wall time: 8.57 s\n"
     ]
    }
   ],
   "source": [
    "%%time\n",
    "print 'out=',A.filter(lambda x:x>0).count()"
   ]
  },
  {
   "cell_type": "markdown",
   "metadata": {},
   "source": [
    "### Caching\n",
    "In order not to recalculate the map operation, we need to keep the intermediate result in memory. Often spark will identify shared intermediate results on it's own. In other cases we need to use either `cache()` or `persist()`.\n",
    "\n",
    "Man pages for these commands can be found here:\n",
    "* [cache](http://spark.apache.org/docs/latest/api/python/pyspark.html?highlight=cache#pyspark.RDD.cache)\n",
    "* [persist](http://spark.apache.org/docs/latest/api/python/pyspark.html?highlight=persist#pyspark.RDD.persist)\n",
    "\n",
    "Using these commands the programmer can tell spark to store the intermediate result RDD in memory (this is sometimes\n",
    "called **materializing** the RDD plan). Subsequent references to the same RDD will not need to recompute the intermediate result.\n",
    "\n",
    "Note that the cache() command does not cause the actual computation to start. Rather, it is part of the execution plan which states that **whenever** the plan is executed, the intermediate results need to be saved.\n",
    "\n",
    "Therefor the initial `map` command still takes very short time."
   ]
  },
  {
   "cell_type": "code",
   "execution_count": 9,
   "metadata": {
    "collapsed": false
   },
   "outputs": [
    {
     "name": "stdout",
     "output_type": "stream",
     "text": [
      "CPU times: user 3.19 ms, sys: 1.51 ms, total: 4.69 ms\n",
      "Wall time: 8.8 ms\n"
     ]
    }
   ],
   "source": [
    "%%time\n",
    "Interm=RDD.map(lambda x: taketime(x)).cache()"
   ]
  },
  {
   "cell_type": "code",
   "execution_count": 10,
   "metadata": {
    "collapsed": false
   },
   "outputs": [
    {
     "name": "stdout",
     "output_type": "stream",
     "text": [
      "out= 99964.985298\n",
      "CPU times: user 8.24 ms, sys: 3.44 ms, total: 11.7 ms\n",
      "Wall time: 8.19 s\n"
     ]
    }
   ],
   "source": [
    "%%time\n",
    "print 'out=',Interm.reduce(lambda x,y:x+y)"
   ]
  },
  {
   "cell_type": "markdown",
   "metadata": {},
   "source": [
    "The first map-reduce execution takes about the same amount of time as before\n",
    "\n",
    "But when we execute the second command the execution time is much shorter."
   ]
  },
  {
   "cell_type": "code",
   "execution_count": 11,
   "metadata": {
    "collapsed": false
   },
   "outputs": [
    {
     "name": "stdout",
     "output_type": "stream",
     "text": [
      "out= 100000\n",
      "CPU times: user 5.08 ms, sys: 2.21 ms, total: 7.29 ms\n",
      "Wall time: 95.3 ms\n"
     ]
    }
   ],
   "source": [
    "%%time\n",
    "print 'out=',Interm.filter(lambda x:x>0).count()\n",
    "t_end=time()"
   ]
  },
  {
   "cell_type": "markdown",
   "metadata": {},
   "source": [
    "### Read the logs"
   ]
  },
  {
   "cell_type": "code",
   "execution_count": 13,
   "metadata": {
    "collapsed": false
   },
   "outputs": [],
   "source": [
    "import sys\n",
    "sys.path.append('../../lib/')\n",
    "from combineLogs import combineLogs\n",
    "\n",
    "df=combineLogs(t_start,t_end)"
   ]
  },
  {
   "cell_type": "code",
   "execution_count": 14,
   "metadata": {
    "collapsed": false
   },
   "outputs": [
    {
     "data": {
      "text/plain": [
       "Index([u'driver.BlockManager.disk.diskSpaceUsed_MB.value',\n",
       "       u'driver.BlockManager.memory.maxMem_MB.value',\n",
       "       u'driver.BlockManager.memory.memUsed_MB.value',\n",
       "       u'driver.BlockManager.memory.remainingMem_MB.value',\n",
       "       u'driver.DAGScheduler.job.activeJobs.value',\n",
       "       u'driver.DAGScheduler.job.allJobs.value',\n",
       "       u'driver.DAGScheduler.messageProcessingTime.count',\n",
       "       u'driver.DAGScheduler.messageProcessingTime.duration_unit',\n",
       "       u'driver.DAGScheduler.messageProcessingTime.m15_rate',\n",
       "       u'driver.DAGScheduler.messageProcessingTime.m1_rate',\n",
       "       u'driver.DAGScheduler.messageProcessingTime.m5_rate',\n",
       "       u'driver.DAGScheduler.messageProcessingTime.max',\n",
       "       u'driver.DAGScheduler.messageProcessingTime.mean',\n",
       "       u'driver.DAGScheduler.messageProcessingTime.mean_rate',\n",
       "       u'driver.DAGScheduler.messageProcessingTime.min',\n",
       "       u'driver.DAGScheduler.messageProcessingTime.p50',\n",
       "       u'driver.DAGScheduler.messageProcessingTime.p75',\n",
       "       u'driver.DAGScheduler.messageProcessingTime.p95',\n",
       "       u'driver.DAGScheduler.messageProcessingTime.p98',\n",
       "       u'driver.DAGScheduler.messageProcessingTime.p99',\n",
       "       u'driver.DAGScheduler.messageProcessingTime.p999',\n",
       "       u'driver.DAGScheduler.messageProcessingTime.rate_unit',\n",
       "       u'driver.DAGScheduler.messageProcessingTime.stddev',\n",
       "       u'driver.DAGScheduler.stage.failedStages.value',\n",
       "       u'driver.DAGScheduler.stage.runningStages.value',\n",
       "       u'driver.DAGScheduler.stage.waitingStages.value'],\n",
       "      dtype='object')"
      ]
     },
     "execution_count": 14,
     "metadata": {},
     "output_type": "execute_result"
    }
   ],
   "source": [
    "df.columns"
   ]
  },
  {
   "cell_type": "code",
   "execution_count": 15,
   "metadata": {
    "collapsed": false
   },
   "outputs": [
    {
     "data": {
      "text/plain": [
       "['driver.DAGScheduler.messageProcessingTime.m15_rate',\n",
       " 'driver.DAGScheduler.messageProcessingTime.m1_rate',\n",
       " 'driver.DAGScheduler.messageProcessingTime.m5_rate',\n",
       " 'driver.DAGScheduler.messageProcessingTime.mean_rate',\n",
       " 'driver.DAGScheduler.messageProcessingTime.rate_unit']"
      ]
     },
     "execution_count": 15,
     "metadata": {},
     "output_type": "execute_result"
    }
   ],
   "source": [
    "cols=[name for name in df.columns if ('messageProcessing' in name) and ('rate' in name)]\n",
    "cols"
   ]
  },
  {
   "cell_type": "code",
   "execution_count": 16,
   "metadata": {
    "collapsed": false
   },
   "outputs": [
    {
     "data": {
      "image/png": "[encoded data removed]",
      "text/plain": [
       "<matplotlib.figure.Figure at 0x109682a50>"
      ]
     },
     "metadata": {},
     "output_type": "display_data"
    }
   ],
   "source": [
    "f = plt.figure()\n",
    "df[cols].plot(ax=f.gca())\n",
    "plt.legend(loc='best', bbox_to_anchor=(1, 0.5))\n",
    "plt.grid()\n",
    "plt.show()"
   ]
  },
  {
   "cell_type": "code",
   "execution_count": 17,
   "metadata": {
    "collapsed": false
   },
   "outputs": [
    {
     "name": "stdout",
     "output_type": "stream",
     "text": [
      "16/03/16 21:37:07 INFO BlockManager: Reporting 2 blocks to the master.\r\n",
      "16/03/16 21:37:07 INFO BlockManagerInfo: Added rdd_3_1 in memory on localhost:58699 (size: 21.2 KB, free: 511.1 MB)\r\n",
      "16/03/16 21:37:07 INFO BlockManagerInfo: Added rdd_3_0 in memory on localhost:58699 (size: 21.3 KB, free: 511.1 MB)\r\n",
      "16/03/16 21:37:17 INFO Executor: Told to re-register on heartbeat\r\n",
      "16/03/16 21:37:17 INFO BlockManager: BlockManager re-registering with master\r\n",
      "16/03/16 21:37:17 INFO BlockManagerMaster: Trying to register BlockManager\r\n",
      "16/03/16 21:37:17 INFO BlockManagerMaster: Registered BlockManager\r\n",
      "16/03/16 21:37:17 INFO BlockManager: Reporting 2 blocks to the master.\r\n",
      "16/03/16 21:37:17 INFO BlockManagerInfo: Added rdd_3_1 in memory on localhost:58699 (size: 21.2 KB, free: 511.1 MB)\r\n",
      "16/03/16 21:37:17 INFO BlockManagerInfo: Added rdd_3_0 in memory on localhost:58699 (size: 21.3 KB, free: 511.1 MB)\r\n"
     ]
    }
   ],
   "source": [
    "!tail /private/tmp/sparklog.txt"
   ]
  },
  {
   "cell_type": "code",
   "execution_count": null,
   "metadata": {
    "collapsed": true
   },
   "outputs": [],
   "source": []
  },
  {
   "cell_type": "code",
   "execution_count": null,
   "metadata": {
    "collapsed": true
   },
   "outputs": [],
   "source": []
  }
 ],
 "metadata": {
  "kernelspec": {
   "display_name": "Python 2",
   "language": "python",
   "name": "python2"
  },
  "language_info": {
   "codemirror_mode": {
    "name": "ipython",
    "version": 2
   },
   "file_extension": ".py",
   "mimetype": "text/x-python",
   "name": "python",
   "nbconvert_exporter": "python",
   "pygments_lexer": "ipython2",
   "version": "2.7.11"
  }
 },
 "nbformat": 4,
 "nbformat_minor": 0
}
