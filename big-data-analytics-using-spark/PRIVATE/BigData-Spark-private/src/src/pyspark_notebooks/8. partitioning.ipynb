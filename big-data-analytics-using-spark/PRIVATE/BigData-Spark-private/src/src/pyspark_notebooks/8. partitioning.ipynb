{
 "cells": [
  {
   "cell_type": "markdown",
   "metadata": {
    "slideshow": {
     "slide_type": "slide"
    }
   },
   "source": [
    "### A more accurate picture of Spark Architecture\n",
    "\n",
    "In my search for a good description of Spark Architecture, I found [this](http://0x0fff.com/spark-architecture/) interesting Blog by Alexey Grishchenko.\n",
    "\n",
    "In particular I like the following figure. A few things to note:\n",
    "* Each executor lives in a separate JVM\n",
    "* A worker node might have several executors under it.\n",
    "* A partition defines a unit of work that resides in a single memory space, there is no 1-1 relationship between partitions and executors.  \n",
    "  \n",
    "    \n",
    "    \n",
    "![SparkArchitecture](http://0x0fff.com/wp-content/uploads/2015/03/Spark-Architecture-On-YARN.png)"
   ]
  },
  {
   "cell_type": "markdown",
   "metadata": {
    "slideshow": {
     "slide_type": "slide"
    }
   },
   "source": [
    "## Partitions and Glom\n",
    "In order to understand the use of glom and the interaction with partitioning, we do\n",
    "a simple task that uses glom.\n",
    "\n",
    "We are given a list of ordered lists. Each list has the form $v_0,v_2,v_3,\\ldots,v_{n-1}$,  \n",
    "our goal is to compute the *variation* of the list, which is defined as  \n",
    "$$\\sum_{i=0}^{n-2} |v_{i+1} - v_{i}|$$\n",
    "\n",
    "To start, we create an RDD called `A` that contains elements of the form `(key, (index, value))` where  \n",
    "different `key` values correspond to different lists, `value` corresponds to $v$ above, and `index` defines the order of the elements. Unlike the variable $i$ above, the values of `index` might not be consecutive."
   ]
  },
  {
   "cell_type": "code",
   "execution_count": 131,
   "metadata": {
    "collapsed": false,
    "slideshow": {
     "slide_type": "subslide"
    }
   },
   "outputs": [
    {
     "data": {
      "text/plain": [
       "[(0, (0, 0)),\n",
       " (1, (1, -1)),\n",
       " (2, (2, 2)),\n",
       " (0, (3, -3)),\n",
       " (1, (4, 4)),\n",
       " (2, (5, -5)),\n",
       " (0, (6, 6)),\n",
       " (1, (7, -7)),\n",
       " (2, (8, 8)),\n",
       " (0, (9, -9))]"
      ]
     },
     "execution_count": 131,
     "metadata": {},
     "output_type": "execute_result"
    }
   ],
   "source": [
    "A=sc.parallelize(range(10))\\\n",
    "    .map(lambda x: (x%3,(x,(-1)**x*x)))\n",
    "\n",
    "A.collect()"
   ]
  },
  {
   "cell_type": "markdown",
   "metadata": {
    "slideshow": {
     "slide_type": "subslide"
    }
   },
   "source": [
    "### Original partition\n",
    "The initial RDD, generated using `parallelize`, does not put the elements in any particular order.  \n",
    "As a result, both partitions have elements with all 3 keys: `0,1,2`"
   ]
  },
  {
   "cell_type": "code",
   "execution_count": 133,
   "metadata": {
    "collapsed": false,
    "scrolled": false,
    "slideshow": {
     "slide_type": "fragment"
    }
   },
   "outputs": [
    {
     "name": "stdout",
     "output_type": "stream",
     "text": [
      "number of partitions= 2\n"
     ]
    },
    {
     "data": {
      "text/plain": [
       "[[(0, (0, 0)), (1, (1, -1)), (2, (2, 2)), (0, (3, -3)), (1, (4, 4))],\n",
       " [(2, (5, -5)), (0, (6, 6)), (1, (7, -7)), (2, (8, 8)), (0, (9, -9))]]"
      ]
     },
     "execution_count": 133,
     "metadata": {},
     "output_type": "execute_result"
    }
   ],
   "source": [
    "print 'number of partitions=',A.getNumPartitions()\n",
    "\n",
    "B=A.glom()\n",
    "B.collect()"
   ]
  },
  {
   "cell_type": "markdown",
   "metadata": {
    "slideshow": {
     "slide_type": "slide"
    }
   },
   "source": [
    "### Why we need to repartition\n",
    "In this case, `glom` is not helping us with our task. We need all elements with the same key to be in the same partition in order to use `glom` effectively.\n",
    "\n",
    "Repartitioning the data into two partitions (i.e. not changing the number of partitions, but rather just shuffling items from partition to partition) creates a situation in which we can use `glom`"
   ]
  },
  {
   "cell_type": "code",
   "execution_count": 134,
   "metadata": {
    "collapsed": false,
    "slideshow": {
     "slide_type": "subslide"
    }
   },
   "outputs": [
    {
     "data": {
      "text/plain": [
       "[[(0, (0, 0)),\n",
       "  (2, (2, 2)),\n",
       "  (0, (3, -3)),\n",
       "  (2, (5, -5)),\n",
       "  (0, (6, 6)),\n",
       "  (2, (8, 8)),\n",
       "  (0, (9, -9))],\n",
       " [(1, (1, -1)), (1, (4, 4)), (1, (7, -7))]]"
      ]
     },
     "execution_count": 134,
     "metadata": {},
     "output_type": "execute_result"
    }
   ],
   "source": [
    "B=A.partitionBy(2).glom()\n",
    "B.collect()"
   ]
  },
  {
   "cell_type": "markdown",
   "metadata": {
    "slideshow": {
     "slide_type": "fragment"
    }
   },
   "source": [
    "Note that one partition has items with the keys `0,2` and the other partition items only with the key `1`"
   ]
  },
  {
   "cell_type": "markdown",
   "metadata": {
    "slideshow": {
     "slide_type": "slide"
    }
   },
   "source": [
    "### A function for computing the variation\n",
    "We now define the function that computes the variation. The function recieves an array **not an RDD** of `(key,(index,value))` items and outputs a list of `(key,result)` pairs.\n",
    "\n",
    "While the list *might* have just one `key`, we cannot rely on that, so the function has to first partition the list according to `key`. What we are guaranteed is that each `key` appears only in one partition."
   ]
  },
  {
   "cell_type": "code",
   "execution_count": 135,
   "metadata": {
    "collapsed": true,
    "slideshow": {
     "slide_type": "subslide"
    }
   },
   "outputs": [],
   "source": [
    "def variation(A):\n",
    "    # partition can have more than one key, so we need to divide A according to key value\n",
    "    D={}\n",
    "    for i in range(len(A)):\n",
    "        key, item =A[i]\n",
    "        if key in D.keys():\n",
    "            D[key].append(item)\n",
    "        else:\n",
    "            D[key]=[item]\n",
    "    out=[]\n",
    "    for key in D.keys():\n",
    "        if len(D[key])<2:\n",
    "            out.append((key,0))\n",
    "        else:\n",
    "            L=D[key]\n",
    "            L.sort(key=lambda x:x[0])\n",
    "            d=0\n",
    "            for i in range(1,len(L)):\n",
    "                d+= abs(L[i][1]-L[i-1][1])\n",
    "            out.append((key,d))\n",
    "    return out"
   ]
  },
  {
   "cell_type": "code",
   "execution_count": 137,
   "metadata": {
    "collapsed": false,
    "slideshow": {
     "slide_type": "subslide"
    }
   },
   "outputs": [
    {
     "data": {
      "text/plain": [
       "[(0, 27), (2, 20), (1, 16)]"
      ]
     },
     "execution_count": 137,
     "metadata": {},
     "output_type": "execute_result"
    }
   ],
   "source": [
    "# We use flatMap rather than map because variation (A) returns a list of tuples.\n",
    "C=B.flatMap(lambda L: variation(L))\n",
    "C.collect()"
   ]
  },
  {
   "cell_type": "markdown",
   "metadata": {
    "slideshow": {
     "slide_type": "subslide"
    }
   },
   "source": [
    "### Take Home\n",
    "* Partition your data and your computation in such a way that each partition holds the data needed to compute a part of the result.\n",
    "* Use a partitioner to bring related to each other to the same machine.\n",
    "* Distribute the load across all of the machines.\n",
    "\n",
    "### Experiment\n",
    "\n",
    "Check to see what happens if you change the number of partitions to be larger than the number of keys."
   ]
  },
  {
   "cell_type": "code",
   "execution_count": null,
   "metadata": {
    "collapsed": true
   },
   "outputs": [],
   "source": []
  }
 ],
 "metadata": {
  "celltoolbar": "Slideshow",
  "kernelspec": {
   "display_name": "Python 2",
   "language": "python",
   "name": "python2"
  },
  "language_info": {
   "codemirror_mode": {
    "name": "ipython",
    "version": 2
   },
   "file_extension": ".py",
   "mimetype": "text/x-python",
   "name": "python",
   "nbconvert_exporter": "python",
   "pygments_lexer": "ipython2",
   "version": "2.7.11"
  }
 },
 "nbformat": 4,
 "nbformat_minor": 0
}
