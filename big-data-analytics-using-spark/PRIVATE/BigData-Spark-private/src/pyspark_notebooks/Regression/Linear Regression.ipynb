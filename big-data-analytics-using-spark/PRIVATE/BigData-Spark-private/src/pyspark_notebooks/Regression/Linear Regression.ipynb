{
 "cells": [
  {
   "cell_type": "markdown",
   "metadata": {},
   "source": [
    "## Linear Regression\n",
    "\n",
    "Linear regression is one of the oldest supervised learning methods. It relates a number of input variables to an output variable, where the error is measured in terms of square error.\n",
    "\n",
    "Here we follow the [MLLib Tutorial on Regression](http://spark.apache.org/docs/latest/mllib-linear-methods.html#regression)"
   ]
  },
  {
   "cell_type": "code",
   "execution_count": 2,
   "metadata": {
    "collapsed": false
   },
   "outputs": [
    {
     "name": "stdout",
     "output_type": "stream",
     "text": [
      "Populating the interactive namespace from numpy and matplotlib\n"
     ]
    }
   ],
   "source": [
    "%pylab inline\n",
    "import numpy as np"
   ]
  },
  {
   "cell_type": "code",
   "execution_count": 3,
   "metadata": {
    "collapsed": true
   },
   "outputs": [],
   "source": [
    "from pyspark.mllib.regression import LabeledPoint, LinearRegressionWithSGD, LinearRegressionModel, RidgeRegressionWithSGD\n",
    "import pyspark.mllib.regression as reg"
   ]
  },
  {
   "cell_type": "markdown",
   "metadata": {},
   "source": [
    "#### LinearRegressionWithSGD\n",
    "Train a linear regression model with no regularization using Stochastic Gradient Descent.\n",
    "[API Documentation](http://spark.apache.org/docs/latest/api/python/pyspark.mllib.html#pyspark.mllib.regression.LinearRegressionWithSGD)\n",
    "\n",
    "It takes as input an RDD of **LabeledPoint**s. The goal is to find a linear model \n",
    "which best predicts the label variables as a linear combination of the input variables.\n",
    "\n",
    "Denote by $\\vec{x}_i$ the $i$th vector of input variables by $y_i$ the $i$th output variable, \n",
    "by $\\vec{w}$ the vector of weights and by $a$ the point of interception. Then the least square solution \n",
    "is the setting of $\\vec{w}$ and $a$ that minimizes the Mean Square Error:\n",
    "\n",
    "$$ L(\\vec{w},a) = \\frac{1}{n}\\sum_{i=1}^n (\\vec{w} \\cdot \\vec{x}_i +a - y_i)^2 $$\n",
    "\n"
   ]
  },
  {
   "cell_type": "markdown",
   "metadata": {},
   "source": [
    "#### Simple regression\n",
    "We start with the simplest kind of linear regression, in which there is only one input variable. In other words $\\vec{x}$ and $\\vec{w}$ are scalars and the mean square error is \n",
    "$$ L(w,a) = \\frac{1}{n}\\sum_{i=1}^n (w x_i +a - y_i)^2 $$"
   ]
  },
  {
   "cell_type": "code",
   "execution_count": 4,
   "metadata": {
    "collapsed": false
   },
   "outputs": [
    {
     "data": {
      "text/plain": [
       "[LabeledPoint(0.0, [0.0]),\n",
       " LabeledPoint(1.0, [1.0]),\n",
       " LabeledPoint(2.0, [2.0]),\n",
       " LabeledPoint(4.0, [3.0])]"
      ]
     },
     "execution_count": 4,
     "metadata": {},
     "output_type": "execute_result"
    }
   ],
   "source": [
    "from pyspark.mllib.regression import LabeledPoint\n",
    "x=[0,1,2,3]\n",
    "y=[0,1,2,4]\n",
    "data = [ LabeledPoint(y[i],[x[i]]) for i in range(len(x))]\n",
    "data"
   ]
  },
  {
   "cell_type": "code",
   "execution_count": 5,
   "metadata": {
    "collapsed": false
   },
   "outputs": [],
   "source": [
    "lrm = LinearRegressionWithSGD.train(sc.parallelize(data), iterations=100,\n",
    "        intercept=True,initialWeights=np.array([1.0]))"
   ]
  },
  {
   "cell_type": "code",
   "execution_count": 6,
   "metadata": {
    "collapsed": false
   },
   "outputs": [
    {
     "data": {
      "text/plain": [
       "(weights=[1.28844671071], intercept=-0.1753332466134248)"
      ]
     },
     "execution_count": 6,
     "metadata": {},
     "output_type": "execute_result"
    }
   ],
   "source": [
    "slope=lrm.weights\n",
    "intercept=lrm.intercept\n",
    "lrm"
   ]
  },
  {
   "cell_type": "code",
   "execution_count": 7,
   "metadata": {
    "collapsed": false
   },
   "outputs": [
    {
     "data": {
      "text/plain": [
       "[<matplotlib.lines.Line2D at 0x109b17810>]"
      ]
     },
     "execution_count": 7,
     "metadata": {},
     "output_type": "execute_result"
    },
    {
     "data": {
      "image/png": "[encoded data removed]",
      "text/plain": [
       "<matplotlib.figure.Figure at 0x109a7ded0>"
      ]
     },
     "metadata": {},
     "output_type": "display_data"
    }
   ],
   "source": [
    "plot(x,y,'o')\n",
    "plot(x,y,'r')\n",
    "plot(x,intercept+slope*x,'og')\n",
    "plot(x,intercept+slope*x,'k')"
   ]
  },
  {
   "cell_type": "markdown",
   "metadata": {},
   "source": [
    "#### multiple Regression\n",
    "\n",
    "We now extend to "
   ]
  },
  {
   "cell_type": "code",
   "execution_count": 8,
   "metadata": {
    "collapsed": false
   },
   "outputs": [
    {
     "name": "stdout",
     "output_type": "stream",
     "text": [
      "number of examples= 67\n",
      "number of input features= 8\n"
     ]
    }
   ],
   "source": [
    "# Load and parse the data\n",
    "def parsePoint(line):\n",
    "    values = [float(x) for x in line.replace(',', ' ').split(' ')]\n",
    "    return LabeledPoint(values[0], values[1:])\n",
    "\n",
    "data2 = sc.textFile(\"../../../Data/regression/lpsa.data\")\n",
    "parsedData = data2.map(parsePoint)\n",
    "print 'number of examples=',parsedData.count()\n",
    "print 'number of input features=',len(parsedData.first().features)\n"
   ]
  },
  {
   "cell_type": "code",
   "execution_count": 9,
   "metadata": {
    "collapsed": false
   },
   "outputs": [
    {
     "name": "stdout",
     "output_type": "stream",
     "text": [
      "(weights=[0.415795930868,0.266721498546,0.0100957989428,0.179765721365,0.272685132073,0.0136603829393,-0.00393003220158,0.170863489408], intercept=2.2483935484343074)\n",
      "Mean Squared Error = 0.537072978047\n"
     ]
    }
   ],
   "source": [
    "# Build the model\n",
    "model =LinearRegressionWithSGD.train(parsedData, iterations=1000, step=0.1,intercept=True,\n",
    "                                     initialWeights=np.ones(8)*0.1)\n",
    "\n",
    "print model\n",
    "model\n",
    "# Evaluate the model on training data\n",
    "valuesAndPreds = parsedData.map(lambda p: (p.label, model.predict(p.features)))\n",
    "#valuesAndPreds.take(10)\n",
    "\n",
    "MSE = valuesAndPreds.map(lambda (v, p): (v - p)**2).reduce(lambda x, y: x + y) / valuesAndPreds.count()\n",
    "print(\"Mean Squared Error = \" + str(MSE))\n",
    "\n",
    "\n",
    "#Save and load model\n",
    "#model.save(sc, \"myModelPath\")\n",
    "#sameModel = LinearRegressionModel.load(sc, \"myModelPath\")"
   ]
  },
  {
   "cell_type": "code",
   "execution_count": 10,
   "metadata": {
    "collapsed": false
   },
   "outputs": [
    {
     "data": {
      "text/plain": [
       "[LabeledPoint(1.0, [1.0,1.0,1.0,1.0]),\n",
       " LabeledPoint(2.0, [1.0,2.0,4.0,8.0]),\n",
       " LabeledPoint(4.0, [1.0,3.0,9.0,27.0]),\n",
       " LabeledPoint(4.0, [1.0,4.0,16.0,64.0])]"
      ]
     },
     "execution_count": 10,
     "metadata": {},
     "output_type": "execute_result"
    }
   ],
   "source": [
    "## from pyspark.mllib.regression import LabeledPoint\n",
    "x=[1,2,3,4];\n",
    "y=[1,2,4,4];\n",
    "data = sc.parallelize([LabeledPoint(y[i],[1,x[i],x[i]**2,x[i]**3]) for i in range(len(x))])\n",
    "data.collect()"
   ]
  },
  {
   "cell_type": "code",
   "execution_count": 46,
   "metadata": {
    "collapsed": false
   },
   "outputs": [
    {
     "name": "stdout",
     "output_type": "stream",
     "text": [
      "(weights=[0.0121671523301,1.03360961094,0.0619324678986,-0.0133369985531], intercept=0.0)\n",
      "0.153455956091\n"
     ]
    }
   ],
   "source": [
    "lrm = RidgeRegressionWithSGD.train(data, iterations=400, step=0.01,\n",
    "        intercept=False,initialWeights=np.array([0,1,0,0]),regParam=0.001)\n",
    "\n",
    "w0,w1,w2,w3=lrm.weights\n",
    "intercept=lrm.intercept\n",
    "\n",
    "print lrm\n",
    "valuesAndPreds = data.map(lambda p: (p.label, lrm.predict(p.features)))\n",
    "MSE=valuesAndPreds.map(lambda (v, p): (v - p)**2).reduce(lambda x, y: x + y) / valuesAndPreds.count()\n",
    "print MSE"
   ]
  },
  {
   "cell_type": "code",
   "execution_count": 12,
   "metadata": {
    "collapsed": false
   },
   "outputs": [],
   "source": [
    "xRange=arange(x[0],x[1],0.1)\n",
    "yhat=[intercept+w1*xx+w2*xx*2 for xx in xRange]"
   ]
  },
  {
   "cell_type": "code",
   "execution_count": 13,
   "metadata": {
    "collapsed": false
   },
   "outputs": [
    {
     "name": "stdout",
     "output_type": "stream",
     "text": [
      "[-0.5  3.5 -6.   4. ]\n"
     ]
    }
   ],
   "source": [
    "from numpy import polyfit\n",
    "weights=polyfit(np.array(x),np.array(y),3)\n",
    "print weights\n",
    "p = np.poly1d(weights)"
   ]
  },
  {
   "cell_type": "code",
   "execution_count": 14,
   "metadata": {
    "collapsed": false
   },
   "outputs": [],
   "source": [
    "xx=arange(min(x),max(x),0.01)"
   ]
  },
  {
   "cell_type": "code",
   "execution_count": 15,
   "metadata": {
    "collapsed": false
   },
   "outputs": [
    {
     "name": "stdout",
     "output_type": "stream",
     "text": [
      "x= 1 p(x)= 1.0\n",
      "x= 2 p(x)= 2.0\n",
      "x= 3 p(x)= 4.0\n",
      "x= 4 p(x)= 4.0\n"
     ]
    }
   ],
   "source": [
    "for xp in x:\n",
    "    print 'x=',xp, 'p(x)=',p(xp)"
   ]
  },
  {
   "cell_type": "code",
   "execution_count": 221,
   "metadata": {
    "collapsed": false
   },
   "outputs": [
    {
     "data": {
      "text/plain": [
       "[<matplotlib.lines.Line2D at 0x10a5e92d0>]"
      ]
     },
     "execution_count": 221,
     "metadata": {},
     "output_type": "execute_result"
    },
    {
     "data": {
      "image/png": "[encoded data removed]",
      "text/plain": [
       "<matplotlib.figure.Figure at 0x109fb9610>"
      ]
     },
     "metadata": {},
     "output_type": "display_data"
    }
   ],
   "source": [
    "plot(xx,p(xx))\n",
    "plot(x,y,'o')\n",
    "plot(x,y,'r')"
   ]
  },
  {
   "cell_type": "code",
   "execution_count": 222,
   "metadata": {
    "collapsed": false
   },
   "outputs": [
    {
     "data": {
      "text/plain": [
       "[-0.49999999999999972,\n",
       " 3.5700000000000078,\n",
       " -6.2424000000000595,\n",
       " 4.2448320000000708]"
      ]
     },
     "execution_count": 222,
     "metadata": {},
     "output_type": "execute_result"
    }
   ],
   "source": [
    "[weights[j]*xx[2]**j for j in range(len(weights))]"
   ]
  },
  {
   "cell_type": "code",
   "execution_count": 191,
   "metadata": {
    "collapsed": false
   },
   "outputs": [
    {
     "data": {
      "text/plain": [
       "([1, 2, 3, 4], [1, 2, 4, 4])"
      ]
     },
     "execution_count": 191,
     "metadata": {},
     "output_type": "execute_result"
    }
   ],
   "source": [
    "x,y"
   ]
  },
  {
   "cell_type": "code",
   "execution_count": null,
   "metadata": {
    "collapsed": true
   },
   "outputs": [],
   "source": []
  }
 ],
 "metadata": {
  "kernelspec": {
   "display_name": "Python 2",
   "language": "python",
   "name": "python2"
  },
  "language_info": {
   "codemirror_mode": {
    "name": "ipython",
    "version": 2
   },
   "file_extension": ".py",
   "mimetype": "text/x-python",
   "name": "python",
   "nbconvert_exporter": "python",
   "pygments_lexer": "ipython2",
   "version": "2.7.11"
  }
 },
 "nbformat": 4,
 "nbformat_minor": 0
}
