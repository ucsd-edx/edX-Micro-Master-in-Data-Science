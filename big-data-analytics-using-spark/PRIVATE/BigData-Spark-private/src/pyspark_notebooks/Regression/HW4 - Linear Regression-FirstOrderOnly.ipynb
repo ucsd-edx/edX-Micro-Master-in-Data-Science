{
 "cells": [
  {
   "cell_type": "markdown",
   "metadata": {},
   "source": [
    "### Linear Regression - Interpreting the Coefficients\n",
    "In this notebook we use linear regression to predict the coefficients corresponding to the top eigenvectors of the measurements:\n",
    "* TAVG: The average temperature for day/location. (TMAX + TMIN)/2\n",
    "* TRANGE: The temperature range between the highest and lowest temperatures of the day. TMAX-TMIN.\n",
    "* SNWD: The depth of the accumulated snow.\n",
    "\n",
    "These 9 variables are the output variables that we aim to predict.\n",
    "\n",
    "The 4 input variables we use for the regression are properties of the location of the station:\n",
    "* latitude, longitude: location of the station.\n",
    "* elevation: the elevation of the location above sea level.\n",
    "* dist_coast: the distance of the station from the coast (in kilometers)."
   ]
  },
  {
   "cell_type": "markdown",
   "metadata": {},
   "source": [
    "### Read and parst the data"
   ]
  },
  {
   "cell_type": "code",
   "execution_count": 1,
   "metadata": {
    "collapsed": true
   },
   "outputs": [],
   "source": [
    "import pickle\n",
    "import pandas as pd\n",
    "!ls *.pickle  # check "
   ]
  },
  {
   "cell_type": "code",
   "execution_count": 2,
   "metadata": {
    "collapsed": false
   },
   "outputs": [
    {
     "name": "stdout",
     "output_type": "stream",
     "text": [
      "  % Total    % Received % Xferd  Average Speed   Time    Time     Time  Current\n",
      "                                 Dload  Upload   Total   Spent    Left  Speed\n",
      "100 2750k  100 2750k    0     0  1512k      0  0:00:01  0:00:01 --:--:-- 1512k\n"
     ]
    }
   ],
   "source": [
    "!curl -o \"stations_projections.pickle\" \"http://mas-dse-open.s3.amazonaws.com/Weather/stations_projections.pickle\""
   ]
  },
  {
   "cell_type": "code",
   "execution_count": 5,
   "metadata": {
    "collapsed": false,
    "scrolled": true
   },
   "outputs": [
    {
     "data": {
      "text/plain": [
       "(12140, 8)"
      ]
     },
     "execution_count": 5,
     "metadata": {},
     "output_type": "execute_result"
    }
   ],
   "source": [
    "data = pickle.load(open(\"stations_projections.pickle\",'r'))\n",
    "data.shape"
   ]
  },
  {
   "cell_type": "code",
   "execution_count": 10,
   "metadata": {
    "collapsed": false
   },
   "outputs": [
    {
     "data": {
      "text/html": [
       "<div>\n",
       "<table border=\"1\" class=\"dataframe\">\n",
       "  <thead>\n",
       "    <tr style=\"text-align: right;\">\n",
       "      <th></th>\n",
       "      <th>station</th>\n",
       "      <th>TAVG_coeff</th>\n",
       "      <th>TRANGE_coeff</th>\n",
       "      <th>SNWD_coeff</th>\n",
       "      <th>latitude</th>\n",
       "      <th>longitude</th>\n",
       "      <th>elevation</th>\n",
       "      <th>dist_coast</th>\n",
       "    </tr>\n",
       "  </thead>\n",
       "  <tbody>\n",
       "    <tr>\n",
       "      <th>0</th>\n",
       "      <td>USC00044534</td>\n",
       "      <td>[3047.96236332, 1974.34852034, 150.560792408]</td>\n",
       "      <td>[-2903.63287861, -236.907267527, 147.021790682]</td>\n",
       "      <td>[0.19150300062, 0.187262808215, -0.0401379552536]</td>\n",
       "      <td>36.0042</td>\n",
       "      <td>-119.96</td>\n",
       "      <td>73.2</td>\n",
       "      <td>107.655</td>\n",
       "    </tr>\n",
       "  </tbody>\n",
       "</table>\n",
       "</div>"
      ],
      "text/plain": [
       "       station                                     TAVG_coeff  \\\n",
       "0  USC00044534  [3047.96236332, 1974.34852034, 150.560792408]   \n",
       "\n",
       "                                      TRANGE_coeff  \\\n",
       "0  [-2903.63287861, -236.907267527, 147.021790682]   \n",
       "\n",
       "                                          SNWD_coeff  latitude  longitude  \\\n",
       "0  [0.19150300062, 0.187262808215, -0.0401379552536]   36.0042    -119.96   \n",
       "\n",
       "   elevation  dist_coast  \n",
       "0       73.2     107.655  "
      ]
     },
     "execution_count": 10,
     "metadata": {},
     "output_type": "execute_result"
    }
   ],
   "source": [
    "data.head(1)"
   ]
  },
  {
   "cell_type": "code",
   "execution_count": 11,
   "metadata": {
    "collapsed": false
   },
   "outputs": [
    {
     "data": {
      "text/html": [
       "<div>\n",
       "<table border=\"1\" class=\"dataframe\">\n",
       "  <thead>\n",
       "    <tr style=\"text-align: right;\">\n",
       "      <th></th>\n",
       "      <th>latitude</th>\n",
       "      <th>longitude</th>\n",
       "      <th>elevation</th>\n",
       "      <th>dist_coast</th>\n",
       "      <th>TAVG_coeff1</th>\n",
       "      <th>TAVG_coeff2</th>\n",
       "      <th>TAVG_coeff3</th>\n",
       "      <th>TRANGE_coeff1</th>\n",
       "      <th>TRANGE_coeff2</th>\n",
       "      <th>TRANGE_coeff3</th>\n",
       "      <th>SNWD_coeff1</th>\n",
       "      <th>SNWD_coeff2</th>\n",
       "      <th>SNWD_coeff3</th>\n",
       "    </tr>\n",
       "  </thead>\n",
       "  <tbody>\n",
       "    <tr>\n",
       "      <th>0</th>\n",
       "      <td>36.0042</td>\n",
       "      <td>-119.96</td>\n",
       "      <td>73.2</td>\n",
       "      <td>107.655</td>\n",
       "      <td>3047.962363</td>\n",
       "      <td>1974.34852</td>\n",
       "      <td>150.560792</td>\n",
       "      <td>-2903.632879</td>\n",
       "      <td>-236.907268</td>\n",
       "      <td>147.021791</td>\n",
       "      <td>0.191503</td>\n",
       "      <td>0.187263</td>\n",
       "      <td>-0.040138</td>\n",
       "    </tr>\n",
       "  </tbody>\n",
       "</table>\n",
       "</div>"
      ],
      "text/plain": [
       "   latitude  longitude  elevation  dist_coast  TAVG_coeff1  TAVG_coeff2  \\\n",
       "0   36.0042    -119.96       73.2     107.655  3047.962363   1974.34852   \n",
       "\n",
       "   TAVG_coeff3  TRANGE_coeff1  TRANGE_coeff2  TRANGE_coeff3  SNWD_coeff1  \\\n",
       "0   150.560792   -2903.632879    -236.907268     147.021791     0.191503   \n",
       "\n",
       "   SNWD_coeff2  SNWD_coeff3  \n",
       "0     0.187263    -0.040138  "
      ]
     },
     "execution_count": 11,
     "metadata": {},
     "output_type": "execute_result"
    }
   ],
   "source": [
    "# break up the lists of coefficients separate columns\n",
    "for col in [u'TAVG_coeff', u'TRANGE_coeff', u'SNWD_coeff']:\n",
    "    for i in range(3):\n",
    "        new_col=col+str(i+1)\n",
    "        data[new_col]=[e[i] for e in list(data[col])]\n",
    "    data.drop(labels=col,axis=1,inplace=True)\n",
    "data.drop(labels='station',axis=1,inplace=True)\n",
    "data.head(1)"
   ]
  },
  {
   "cell_type": "markdown",
   "metadata": {},
   "source": [
    "### Performing and evaluating the regression\n",
    "As the size of the data is modest, we can perform the regression using regular python (not spark) running on a laptop. We use the library `sklearn`"
   ]
  },
  {
   "cell_type": "code",
   "execution_count": 15,
   "metadata": {
    "collapsed": true
   },
   "outputs": [],
   "source": [
    "from sklearn.linear_model import LinearRegression"
   ]
  },
  {
   "cell_type": "markdown",
   "metadata": {},
   "source": [
    "### Coefficient of determination\n",
    "\n",
    "Computed by calling the method `LinearRegression.score()`\n",
    "\n",
    "The regression score comes under several names: \"Coefficient of determination\", $R^2$, \"R squared score\", \"percentage of variance explained\", \"correlation coefficient\". It is explained in more detail in [wikipedia](https://en.wikipedia.org/wiki/Coefficient_of_determination).\n",
    "\n",
    "Roughly speaking the $R^2$-score measures the fraction of the variance of the regression output variable that is explained by the prediction function. The score varies between 0 and 1. A score of 1 means that the regression function perfectly predicts the value of $y$. A score of 0 means that it does not predict $y$ at all.\n",
    "\n",
    "#### Training score vs Test score\n",
    "Suppose we fit a regression function with 10 features to 10 data points. We are very likely to fit the data perfectly and get a score of 1. However, this does not mean that our model truly explains the data. It just means that the number of training examples we are using to fit the model is too small. To detect this situation, we can compute the score of the model that was fit to the **training set**, on a **test set**. If the ratio between the test score and the training score is smaller than, say, 0.1, then our regression function probably over-fits the data.\n",
    "\n",
    "#### Finding the importance of input variables\n",
    "The fact that a regression coefficient is far from zero provides some indication that it is important. However, the size of these coefficients also depends on the scaling of the variables. A much more reliable way to find out which of the input variables are important is to compare the score of the regression function we get when using all of the input variables to the score when one of the variables is eliminated. This is sometimes called \"sensitivity analysis\""
   ]
  },
  {
   "cell_type": "code",
   "execution_count": 44,
   "metadata": {
    "collapsed": true
   },
   "outputs": [],
   "source": [
    "# Compute score changes\n",
    "def compute_scores(y_label,X_Train,y_Train,X_test,Y_test):\n",
    "    lg = LinearRegression()\n",
    "    lg.fit(X_Train,y_Train)\n",
    "\n",
    "    train_score = lg.score(X_Train,y_Train)\n",
    "    test_score = lg.score(X_test,Y_test)\n",
    "    print('R-squared(Coeff. of determination): Train:%.3f, Test:%.3f\\n' % (train_score,test_score))\n",
    "\n",
    "    full=set(range(4))\n",
    "    for i in range(X_Train.shape[1]):\n",
    "        L=list(full-set([i]))\n",
    "        L.sort()\n",
    "        r_train_X=X_Train[:,L]\n",
    "        r_test_X=X_test[:,L]\n",
    "        lg = LinearRegression()\n",
    "\n",
    "        lg.fit(r_train_X,y_Train)\n",
    "        r_train_score = lg.score(r_train_X,y_Train)\n",
    "        r_test_score  = lg.score(r_test_X,Y_test)\n",
    "        print \"removed\",data.columns[i],\n",
    "        print \"Score decrease: \\tTrain:%5.3f\" % (train_score-r_train_score),\n",
    "        print \"\\tTest: %5.3f \" % (test_score-r_test_score)"
   ]
  },
  {
   "cell_type": "markdown",
   "metadata": {},
   "source": [
    "### Partition into training set and test set\n",
    "By dividing the data into two parts, we can detect when our model over-fits. When over-fitting happens, the significance on the test set is much smaller than the significance on the training set."
   ]
  },
  {
   "cell_type": "code",
   "execution_count": 45,
   "metadata": {
    "collapsed": false
   },
   "outputs": [
    {
     "name": "stdout",
     "output_type": "stream",
     "text": [
      "(12140, 13) (6095, 13) (6045, 13)\n"
     ]
    }
   ],
   "source": [
    "from numpy.random import rand\n",
    "N=data.shape[0]\n",
    "train_i = rand(N)>0.5\n",
    "Train = data.ix[train_i,:]\n",
    "Test  = data.ix[~train_i,:]\n",
    "print data.shape,Train.shape,Test.shape"
   ]
  },
  {
   "cell_type": "code",
   "execution_count": 46,
   "metadata": {
    "collapsed": false,
    "scrolled": false
   },
   "outputs": [
    {
     "name": "stdout",
     "output_type": "stream",
     "text": [
      "\n",
      "Target variable:  TAVG_coeff1 ########################################\n",
      "Coeffs:  latitude:-153.98  longitude:-19.21  elevation:-0.68  dist_coast:-0.13 \n",
      "R-squared(Coeff. of determination): Train:0.931, Test:0.931\n",
      "\n",
      "removed latitude Score decrease: \tTrain:0.613 \tTest: 0.612 \n",
      "removed longitude Score decrease: \tTrain:0.067 \tTest: 0.067 \n",
      "removed elevation Score decrease: \tTrain:0.128 \tTest: 0.121 \n",
      "removed dist_coast Score decrease: \tTrain:0.003 \tTest: 0.003 \n",
      "\n",
      "Target variable:  TAVG_coeff2 ########################################\n",
      "Coeffs:  latitude:-5.33  longitude: 7.46  elevation:-0.14  dist_coast: 0.48 \n",
      "R-squared(Coeff. of determination): Train:0.603, Test:0.585\n",
      "\n",
      "removed latitude Score decrease: \tTrain:0.008 \tTest: 0.005 \n",
      "removed longitude Score decrease: \tTrain:0.115 \tTest: 0.116 \n",
      "removed elevation Score decrease: \tTrain:0.066 \tTest: 0.068 \n",
      "removed dist_coast Score decrease: \tTrain:0.393 \tTest: 0.378 \n",
      "\n",
      "Target variable:  TAVG_coeff3 ########################################\n",
      "Coeffs:  latitude:-4.19  longitude:-2.64  elevation: 0.01  dist_coast: 0.07 \n",
      "R-squared(Coeff. of determination): Train:0.420, Test:0.398\n",
      "\n",
      "removed latitude Score decrease: \tTrain:0.053 \tTest: 0.045 \n",
      "removed longitude Score decrease: \tTrain:0.148 \tTest: 0.164 \n",
      "removed elevation Score decrease: \tTrain:0.002 \tTest: 0.001 \n",
      "removed dist_coast Score decrease: \tTrain:0.095 \tTest: 0.082 \n",
      "\n",
      "Target variable:  TRANGE_coeff1 ########################################\n",
      "Coeffs:  latitude:25.00  longitude: 8.63  elevation:-0.36  dist_coast:-0.15 \n",
      "R-squared(Coeff. of determination): Train:0.478, Test:0.435\n",
      "\n",
      "removed latitude Score decrease: \tTrain:0.058 \tTest: 0.049 \n",
      "removed longitude Score decrease: \tTrain:0.049 \tTest: 0.051 \n",
      "removed elevation Score decrease: \tTrain:0.127 \tTest: 0.113 \n",
      "removed dist_coast Score decrease: \tTrain:0.012 \tTest: 0.015 \n",
      "\n",
      "Target variable:  TRANGE_coeff2 ########################################\n",
      "Coeffs:  latitude:-32.63  longitude: 6.04  elevation:-0.02  dist_coast: 0.14 \n",
      "R-squared(Coeff. of determination): Train:0.649, Test:0.642\n",
      "\n",
      "removed latitude Score decrease: \tTrain:0.461 \tTest: 0.454 \n",
      "removed longitude Score decrease: \tTrain:0.111 \tTest: 0.106 \n",
      "removed elevation Score decrease: \tTrain:0.001 \tTest: 0.001 \n",
      "removed dist_coast Score decrease: \tTrain:0.046 \tTest: 0.044 \n",
      "\n",
      "Target variable:  TRANGE_coeff3 ########################################\n",
      "Coeffs:  latitude: 3.55  longitude: 1.53  elevation: 0.04  dist_coast:-0.03 \n",
      "R-squared(Coeff. of determination): Train:0.116, Test:0.074\n",
      "\n",
      "removed latitude Score decrease: \tTrain:0.044 \tTest: 0.033 \n",
      "removed longitude Score decrease: \tTrain:0.057 \tTest: 0.036 \n",
      "removed elevation Score decrease: \tTrain:0.061 \tTest: 0.032 \n",
      "removed dist_coast Score decrease: \tTrain:0.023 \tTest: 0.019 \n",
      "\n",
      "Target variable:  SNWD_coeff1 ########################################\n",
      "Coeffs:  latitude:147.72  longitude:21.54  elevation: 1.09  dist_coast:-0.88 \n",
      "R-squared(Coeff. of determination): Train:0.232, Test:0.238\n",
      "\n",
      "removed latitude Score decrease: \tTrain:0.153 \tTest: 0.155 \n",
      "removed longitude Score decrease: \tTrain:0.023 \tTest: 0.025 \n",
      "removed elevation Score decrease: \tTrain:0.091 \tTest: 0.096 \n",
      "removed dist_coast Score decrease: \tTrain:0.031 \tTest: 0.032 \n",
      "\n",
      "Target variable:  SNWD_coeff2 ########################################\n",
      "Coeffs:  latitude: 1.49  longitude:-1.19  elevation:-0.22  dist_coast: 0.24 \n",
      "R-squared(Coeff. of determination): Train:0.060, Test:0.068\n",
      "\n",
      "removed latitude Score decrease: \tTrain:0.000 \tTest: -0.000 \n",
      "removed longitude Score decrease: \tTrain:0.001 \tTest: 0.001 \n",
      "removed elevation Score decrease: \tTrain:0.042 \tTest: 0.051 \n",
      "removed dist_coast Score decrease: \tTrain:0.027 \tTest: 0.032 \n",
      "\n",
      "Target variable:  SNWD_coeff3 ########################################\n",
      "Coeffs:  latitude: 7.25  longitude: 0.55  elevation: 0.09  dist_coast: 0.01 \n",
      "R-squared(Coeff. of determination): Train:0.148, Test:0.124\n",
      "\n",
      "removed latitude Score decrease: \tTrain:0.038 \tTest: 0.041 \n",
      "removed longitude Score decrease: \tTrain:0.002 \tTest: -0.000 \n",
      "removed elevation Score decrease: \tTrain:0.058 \tTest: 0.042 \n",
      "removed dist_coast Score decrease: \tTrain:0.001 \tTest: -0.000 \n"
     ]
    }
   ],
   "source": [
    "from sklearn.cross_validation import train_test_split\n",
    "\n",
    "train_X = Train.ix[:,:4].values\n",
    "test_X=Test.ix[:,:4].values\n",
    "input_names=list(data.columns[:4])\n",
    "\n",
    "for target in [\"TAVG\",\"TRANGE\",\"SNWD\"]:\n",
    "    for j in range(1,4):\n",
    "        y_label = target+\"_coeff\"+str(j)\n",
    "        train_y = Train[y_label]\n",
    "        test_y = Test[y_label]\n",
    "        lg = LinearRegression()\n",
    "        lg.fit(train_X,train_y)\n",
    "\n",
    "        print \"\\nTarget variable: \", y_label, '#'*40\n",
    "        print \"Coeffs: \",\\\n",
    "            ' '.join(['%s:%5.2f ' % (input_names[i],lg.coef_[i]) for i in range(len(lg.coef_))])\n",
    "        \n",
    "        compute_scores(y_label, train_X, train_y, test_X, test_y)"
   ]
  },
  {
   "cell_type": "markdown",
   "metadata": {},
   "source": [
    "### Interpretation\n",
    "When we find a statistically significant coefficient, we want to find a rational explanation for the significance and for the sign of the corresponding coefficient. Please write a one line explanation for each of the following input/output pairs.\n",
    "\n",
    "**Hint:** It is useful to go back to the figures depicting the shapes of the eigen-vectors.\n",
    "\n",
    "```\n",
    "Target variable:  TAVG_coeff1 ########################################\n",
    "Coeffs:  latitude:-153.98  longitude:-19.21  elevation:-0.68  dist_coast:-0.13 \n",
    "R-squared(Coeff. of determination): Train:0.931, Test:0.931\n",
    "\n",
    "1. removed latitude Score decrease: \tTrain:0.613 \tTest: 0.612 \n",
    "2. removed elevation Score decrease: \tTrain:0.128 \tTest: 0.121 \n",
    "\n",
    "Target variable:  TAVG_coeff2 ########################################\n",
    "Coeffs:  latitude:-5.33  longitude: 7.46  elevation:-0.14  dist_coast: 0.48 \n",
    "R-squared(Coeff. of determination): Train:0.603, Test:0.585\n",
    "\n",
    "3. removed longitude Score decrease: \tTrain:0.115 \tTest: 0.116 \n",
    "4. removed dist_coast Score decrease: \tTrain:0.393 \tTest: 0.378 \n",
    "\n",
    "Target variable:  TAVG_coeff3 ########################################\n",
    "Coeffs:  latitude:-4.19  longitude:-2.64  elevation: 0.01  dist_coast: 0.07 \n",
    "R-squared(Coeff. of determination): Train:0.420, Test:0.398\n",
    "\n",
    "5. removed longitude Score decrease: \tTrain:0.148 \tTest: 0.164 \n",
    "6. removed dist_coast Score decrease: \tTrain:0.095 \tTest: 0.082 \n",
    "\n",
    "Target variable:  TRANGE_coeff1 ########################################\n",
    "Coeffs:  latitude:25.00  longitude: 8.63  elevation:-0.36  dist_coast:-0.15 \n",
    "R-squared(Coeff. of determination): Train:0.478, Test:0.435\n",
    "\n",
    "7. removed elevation Score decrease: \tTrain:0.127 \tTest: 0.113 \n",
    "\n",
    "Target variable:  TRANGE_coeff2 ########################################\n",
    "Coeffs:  latitude:-32.63  longitude: 6.04  elevation:-0.02  dist_coast: 0.14 \n",
    "R-squared(Coeff. of determination): Train:0.649, Test:0.642\n",
    "\n",
    "8. removed latitude Score decrease: \tTrain:0.461 \tTest: 0.454 \n",
    "\n",
    "Target variable:  SNWD_coeff1 ########################################\n",
    "Coeffs:  latitude:147.72  longitude:21.54  elevation: 1.09  dist_coast:-0.88 \n",
    "R-squared(Coeff. of determination): Train:0.232, Test:0.238\n",
    "\n",
    "9. removed latitude Score decrease: \tTrain:0.153 \tTest: 0.155 \n",
    "```"
   ]
  },
  {
   "cell_type": "markdown",
   "metadata": {},
   "source": [
    "### Write your answers here\n",
    "Keep your answers short. \n",
    "\n",
    "Example:\n",
    "\n",
    "1. TAVG_Coeff1 captures the average temperature. Locations with higher lattitude are colder on average.\n",
    "2.   \n",
    "3.   \n",
    "4.   \n",
    "5.   \n",
    "6.   \n",
    "7.   \n",
    "8.   \n",
    "9.   "
   ]
  },
  {
   "cell_type": "code",
   "execution_count": null,
   "metadata": {
    "collapsed": true
   },
   "outputs": [],
   "source": []
  }
 ],
 "metadata": {
  "kernelspec": {
   "display_name": "Python 2",
   "language": "python",
   "name": "python2"
  },
  "language_info": {
   "codemirror_mode": {
    "name": "ipython",
    "version": 2
   },
   "file_extension": ".py",
   "mimetype": "text/x-python",
   "name": "python",
   "nbconvert_exporter": "python",
   "pygments_lexer": "ipython2",
   "version": "2.7.11"
  }
 },
 "nbformat": 4,
 "nbformat_minor": 0
}
