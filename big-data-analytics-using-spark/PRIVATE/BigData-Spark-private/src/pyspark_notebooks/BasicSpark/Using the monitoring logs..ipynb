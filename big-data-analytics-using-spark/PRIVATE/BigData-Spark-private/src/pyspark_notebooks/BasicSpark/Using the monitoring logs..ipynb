{
 "cells": [
  {
   "cell_type": "markdown",
   "metadata": {
    "slideshow": {
     "slide_type": "slide"
    }
   },
   "source": [
    "### Execution Plans and the effect of Caching\n",
    "Unlike a regular pythong program, map/reduce commands do not always perform any computation when they are executed. Instead, they construct something called an **execution plan**. Only when a result is needed does the computation start. This approach is also called **lazy execution**.\n",
    "\n",
    "The benefit from lazy execution is in minimizing the the number of memory accesses. Consider for example the following map/reduce commands:\n",
    "```python\n",
    "A=RDD.map(lambda x:x*x).filter(lambda x: x%2==0)\n",
    "A.reduce(lambda x,y:x+y) \n",
    "```\n",
    "\n",
    "The commands defines the following plan. For each number `x` in the RDD:\n",
    "1. Compute the square of `x`\n",
    "2. Filter out `x*x` whose value is odd.\n",
    "3. Sum the elements that were not filtered out.\n",
    "\n",
    "A naive execution plan is to square all items in the RDD, store the results in a new RDD, then perform a filtering pass, generating a second RDD,  and finally perform the summation. Doing this will require iterating through the RDD three times, and creating 2 interim RDDs. As memory access is the bottleneck in this type of computation, the execution plan is slow.\n",
    "\n",
    "A better execution plan is to perform all three operations on each element of the RDD in sequence, and then move to the next element. This plan is faster because we iterate through the elements of the RDD only once, and because we don't need to save the intermediate results. We need to maintain only one variable: the partial sum, and as that is a single variable, we can use a CPU register."
   ]
  },
  {
   "cell_type": "markdown",
   "metadata": {},
   "source": [
    "#### The `time()` method and the `%%time` magic\n",
    "The `time` method returns the value of the system clock. We will use t_start and t_end later on to find the relevant lines in log files.\n",
    "\n",
    "the `%%time` command is a *cell magic* which measures the execution time of the cell. We will mostly be interested in the wall time, which includes the time it takes to move data in the memory hierarchy.\n",
    "\n",
    "([More on ipython magics](https://ipython.org/ipython-doc/3/interactive/magics.html))"
   ]
  },
  {
   "cell_type": "markdown",
   "metadata": {},
   "source": [
    "### Preparations\n",
    "In the following cells we set t_start, create an RDD, and define a function which wastes some time and then returns `cos(i)`."
   ]
  },
  {
   "cell_type": "code",
   "execution_count": 1,
   "metadata": {
    "collapsed": false
   },
   "outputs": [
    {
     "name": "stdout",
     "output_type": "stream",
     "text": [
      "setting t_start to 1458702382.1\n",
      "CPU times: user 270 µs, sys: 151 µs, total: 421 µs\n",
      "Wall time: 279 µs\n"
     ]
    }
   ],
   "source": [
    "%%time\n",
    "from time import time\n",
    "t_start=time()\n",
    "print 'setting t_start to',t_start"
   ]
  },
  {
   "cell_type": "code",
   "execution_count": 2,
   "metadata": {
    "collapsed": false,
    "scrolled": true
   },
   "outputs": [
    {
     "name": "stdout",
     "output_type": "stream",
     "text": [
      "CPU times: user 641 ms, sys: 214 ms, total: 855 ms\n",
      "Wall time: 1.29 s\n"
     ]
    }
   ],
   "source": [
    "%%time\n",
    "# create an RDD with one million elements.\n",
    "RDD=sc.parallelize(range(10000000))"
   ]
  },
  {
   "cell_type": "code",
   "execution_count": 3,
   "metadata": {
    "collapsed": true
   },
   "outputs": [],
   "source": [
    "from math import cos\n",
    "def taketime(i):\n",
    "    [cos(j) for j in range(10)]\n",
    "    return cos(i)"
   ]
  },
  {
   "cell_type": "code",
   "execution_count": 4,
   "metadata": {
    "collapsed": false
   },
   "outputs": [
    {
     "name": "stdout",
     "output_type": "stream",
     "text": [
      "CPU times: user 9 µs, sys: 3 µs, total: 12 µs\n",
      "Wall time: 15 µs\n"
     ]
    },
    {
     "data": {
      "text/plain": [
       "0.2836621854632263"
      ]
     },
     "execution_count": 4,
     "metadata": {},
     "output_type": "execute_result"
    }
   ],
   "source": [
    "%%time\n",
    "taketime(5)"
   ]
  },
  {
   "cell_type": "markdown",
   "metadata": {},
   "source": [
    "### Cascading operations"
   ]
  },
  {
   "cell_type": "code",
   "execution_count": 5,
   "metadata": {
    "collapsed": false,
    "scrolled": true
   },
   "outputs": [
    {
     "name": "stdout",
     "output_type": "stream",
     "text": [
      "CPU times: user 25 µs, sys: 15 µs, total: 40 µs\n",
      "Wall time: 44.8 µs\n"
     ]
    }
   ],
   "source": [
    "%%time\n",
    "Interm=RDD.map(lambda x: taketime(x))"
   ]
  },
  {
   "cell_type": "markdown",
   "metadata": {},
   "source": [
    "#### Execution plan\n",
    "At the point of definition no computation is done, which is why the operation takes only 20 micro-seconds (Wall Time).\n",
    "At this point the variable `Interm` does not point to an actual data structure. Instead, it points to an **execution plan** which defines the **dependence graph** which defines the dependence of the to-be-created RDD on other RDDs.\n",
    "\n",
    "The first line corresponds to `Interm` and the second line corresponds to `RDD` which is the input to interm\n",
    "```\n",
    "(2) PythonRDD[8] at RDD at PythonRDD.scala:43 []\n",
    " |  ParallelCollectionRDD[4] at parallelize at PythonRDD.scala:423 []\n",
    "```"
   ]
  },
  {
   "cell_type": "code",
   "execution_count": 6,
   "metadata": {
    "collapsed": false,
    "scrolled": true
   },
   "outputs": [
    {
     "name": "stdout",
     "output_type": "stream",
     "text": [
      "(2) PythonRDD[1] at RDD at PythonRDD.scala:43 []\n",
      " |  ParallelCollectionRDD[0] at parallelize at PythonRDD.scala:423 []\n"
     ]
    }
   ],
   "source": [
    "print Interm.toDebugString()"
   ]
  },
  {
   "cell_type": "markdown",
   "metadata": {},
   "source": [
    "#### Actual execution\n",
    "The `reduce` command needs to output an actual output, **spark** therefor has to actually execute the `map` and the `reduce`. Some real computation needs to be done, which takes about 1.78 seconds (Wall time)."
   ]
  },
  {
   "cell_type": "code",
   "execution_count": 7,
   "metadata": {
    "collapsed": false,
    "scrolled": true
   },
   "outputs": [
    {
     "name": "stdout",
     "output_type": "stream",
     "text": [
      "out= 1.33853897901\n",
      "CPU times: user 8.99 ms, sys: 4.34 ms, total: 13.3 ms\n",
      "Wall time: 19 s\n"
     ]
    }
   ],
   "source": [
    "%%time\n",
    "print 'out=',Interm.reduce(lambda x,y:x+y)"
   ]
  },
  {
   "cell_type": "markdown",
   "metadata": {},
   "source": [
    "#### Executing a different calculation based on the same plan.\n",
    "The plan defined by `Interm` can be executed many times. Below we give an example. \n",
    "\n",
    "**Note:** the run-time is similar to that of the previous command because the intermediate results that are due to `Interm` have not been saved in memory."
   ]
  },
  {
   "cell_type": "code",
   "execution_count": 8,
   "metadata": {
    "collapsed": false
   },
   "outputs": [
    {
     "name": "stdout",
     "output_type": "stream",
     "text": [
      "out= 5000001\n",
      "CPU times: user 9.93 ms, sys: 4.01 ms, total: 13.9 ms\n",
      "Wall time: 17.1 s\n"
     ]
    }
   ],
   "source": [
    "%%time\n",
    "print 'out=',Interm.filter(lambda x:x>0).count()"
   ]
  },
  {
   "cell_type": "markdown",
   "metadata": {},
   "source": [
    "#### Caching intermediate results\n",
    "The computation above is wasteful because each time we recompute the `map` operation.\n",
    "\n",
    "We sometimes want to keep the intermediate results in memory so that we can reuse them without recalculating them. This will reduce the running time, at the cost of requiring more memory.\n",
    "\n",
    "The method `cache()` indicates that the RDD generates in this plan should be stored in memory. Note that this is still only a *plan*. The actual calculation will be done only when the final result is seeked."
   ]
  },
  {
   "cell_type": "code",
   "execution_count": 9,
   "metadata": {
    "collapsed": false,
    "scrolled": true
   },
   "outputs": [
    {
     "name": "stdout",
     "output_type": "stream",
     "text": [
      "CPU times: user 3.04 ms, sys: 1.18 ms, total: 4.23 ms\n",
      "Wall time: 7.6 ms\n"
     ]
    }
   ],
   "source": [
    "%%time\n",
    "Interm=RDD.map(lambda x: taketime(x)).cache()"
   ]
  },
  {
   "cell_type": "markdown",
   "metadata": {},
   "source": [
    "#### Plan to cache\n",
    "The definition of `Interm` is almost the same as before. However, the *plan* corresponding to `Interm` is more elaborate and contains information about how the intermediate results will be chached and partitioned."
   ]
  },
  {
   "cell_type": "code",
   "execution_count": 10,
   "metadata": {
    "collapsed": false
   },
   "outputs": [
    {
     "name": "stdout",
     "output_type": "stream",
     "text": [
      "(2) PythonRDD[4] at RDD at PythonRDD.scala:43 [Memory Serialized 1x Replicated]\n",
      " |  ParallelCollectionRDD[0] at parallelize at PythonRDD.scala:423 [Memory Serialized 1x Replicated]\n"
     ]
    }
   ],
   "source": [
    "print Interm.toDebugString()"
   ]
  },
  {
   "cell_type": "markdown",
   "metadata": {},
   "source": [
    "#### Creating the cache\n",
    "The following command executes the first map-reduce command **and** caches the result of the `map` command in memory. "
   ]
  },
  {
   "cell_type": "code",
   "execution_count": 11,
   "metadata": {
    "collapsed": false
   },
   "outputs": [
    {
     "name": "stdout",
     "output_type": "stream",
     "text": [
      "out= 1.33853897901\n",
      "CPU times: user 5.84 ms, sys: 3.02 ms, total: 8.86 ms\n",
      "Wall time: 19.5 s\n"
     ]
    }
   ],
   "source": [
    "%%time\n",
    "print 'out=',Interm.reduce(lambda x,y:x+y)"
   ]
  },
  {
   "cell_type": "markdown",
   "metadata": {},
   "source": [
    "#### Using the cache\n",
    "The second use of `Interm` is much faster than when we did not use `cache`: 185 ms instead of 1800 ms."
   ]
  },
  {
   "cell_type": "code",
   "execution_count": 12,
   "metadata": {
    "collapsed": false,
    "scrolled": true
   },
   "outputs": [
    {
     "name": "stdout",
     "output_type": "stream",
     "text": [
      "out= 5000001\n",
      "CPU times: user 7.19 ms, sys: 2.75 ms, total: 9.93 ms\n",
      "Wall time: 1.7 s\n"
     ]
    }
   ],
   "source": [
    "%%time\n",
    "print 'out=',Interm.filter(lambda x:x>0).count()"
   ]
  },
  {
   "cell_type": "code",
   "execution_count": 13,
   "metadata": {
    "collapsed": false
   },
   "outputs": [
    {
     "name": "stdout",
     "output_type": "stream",
     "text": [
      "t_end= 1458702153.99\n"
     ]
    }
   ],
   "source": [
    "t_end=time()\n",
    "print 't_end=',t_end"
   ]
  },
  {
   "cell_type": "markdown",
   "metadata": {},
   "source": [
    "### Read the logs\n",
    "\n",
    "To get more insight into the memory consumption of our code examples we use the log files."
   ]
  },
  {
   "cell_type": "code",
   "execution_count": 14,
   "metadata": {
    "collapsed": false
   },
   "outputs": [],
   "source": [
    "from combineLogs import combineLogs\n",
    "df=combineLogs(t_start,t_end)"
   ]
  },
  {
   "cell_type": "code",
   "execution_count": 15,
   "metadata": {
    "collapsed": false
   },
   "outputs": [
    {
     "data": {
      "text/plain": [
       "(1085, 26)"
      ]
     },
     "execution_count": 15,
     "metadata": {},
     "output_type": "execute_result"
    }
   ],
   "source": [
    "df.shape"
   ]
  },
  {
   "cell_type": "code",
   "execution_count": 16,
   "metadata": {
    "collapsed": false,
    "scrolled": true
   },
   "outputs": [
    {
     "name": "stdout",
     "output_type": "stream",
     "text": [
      "Populating the interactive namespace from numpy and matplotlib\n"
     ]
    },
    {
     "name": "stderr",
     "output_type": "stream",
     "text": [
      "WARNING: pylab import has clobbered these variables: ['cos']\n",
      "`%matplotlib` prevents importing * from pylab and numpy\n"
     ]
    }
   ],
   "source": [
    "%pylab inline"
   ]
  },
  {
   "cell_type": "code",
   "execution_count": 17,
   "metadata": {
    "collapsed": false
   },
   "outputs": [
    {
     "data": {
      "text/plain": [
       "Index([u'driver.BlockManager.disk.diskSpaceUsed_MB.value',\n",
       "       u'driver.BlockManager.memory.maxMem_MB.value',\n",
       "       u'driver.BlockManager.memory.memUsed_MB.value',\n",
       "       u'driver.BlockManager.memory.remainingMem_MB.value',\n",
       "       u'driver.DAGScheduler.job.activeJobs.value',\n",
       "       u'driver.DAGScheduler.job.allJobs.value',\n",
       "       u'driver.DAGScheduler.messageProcessingTime.count',\n",
       "       u'driver.DAGScheduler.messageProcessingTime.duration_unit',\n",
       "       u'driver.DAGScheduler.messageProcessingTime.m15_rate',\n",
       "       u'driver.DAGScheduler.messageProcessingTime.m1_rate',\n",
       "       u'driver.DAGScheduler.messageProcessingTime.m5_rate',\n",
       "       u'driver.DAGScheduler.messageProcessingTime.max',\n",
       "       u'driver.DAGScheduler.messageProcessingTime.mean',\n",
       "       u'driver.DAGScheduler.messageProcessingTime.mean_rate',\n",
       "       u'driver.DAGScheduler.messageProcessingTime.min',\n",
       "       u'driver.DAGScheduler.messageProcessingTime.p50',\n",
       "       u'driver.DAGScheduler.messageProcessingTime.p75',\n",
       "       u'driver.DAGScheduler.messageProcessingTime.p95',\n",
       "       u'driver.DAGScheduler.messageProcessingTime.p98',\n",
       "       u'driver.DAGScheduler.messageProcessingTime.p99',\n",
       "       u'driver.DAGScheduler.messageProcessingTime.p999',\n",
       "       u'driver.DAGScheduler.messageProcessingTime.rate_unit',\n",
       "       u'driver.DAGScheduler.messageProcessingTime.stddev',\n",
       "       u'driver.DAGScheduler.stage.failedStages.value',\n",
       "       u'driver.DAGScheduler.stage.runningStages.value',\n",
       "       u'driver.DAGScheduler.stage.waitingStages.value'],\n",
       "      dtype='object')"
      ]
     },
     "execution_count": 17,
     "metadata": {},
     "output_type": "execute_result"
    }
   ],
   "source": [
    "df.columns"
   ]
  },
  {
   "cell_type": "code",
   "execution_count": 18,
   "metadata": {
    "collapsed": false
   },
   "outputs": [
    {
     "data": {
      "text/plain": [
       "[u'driver.BlockManager.memory.maxMem_MB.value',\n",
       " u'driver.BlockManager.memory.memUsed_MB.value']"
      ]
     },
     "execution_count": 18,
     "metadata": {},
     "output_type": "execute_result"
    }
   ],
   "source": [
    "#cols=[name for name in df.columns if ('messageProcessing' in name) and ('rate' in name)]\n",
    "cols=[u'driver.BlockManager.memory.maxMem_MB.value',\\\n",
    "       u'driver.BlockManager.memory.memUsed_MB.value'] #,\\\n",
    "#       u'driver.BlockManager.memory.remainingMem_MB.value']\n",
    "cols"
   ]
  },
  {
   "cell_type": "code",
   "execution_count": 19,
   "metadata": {
    "collapsed": false
   },
   "outputs": [
    {
     "data": {
      "image/png": "[encoded data removed]",
      "text/plain": [
       "<matplotlib.figure.Figure at 0x11caea090>"
      ]
     },
     "metadata": {},
     "output_type": "display_data"
    }
   ],
   "source": [
    "f = plt.figure()\n",
    "\n",
    "df[cols].plot(ax=f.gca())\n",
    "plt.legend(loc='best', bbox_to_anchor=(1, 0.5))\n",
    "plt.show()"
   ]
  },
  {
   "cell_type": "code",
   "execution_count": null,
   "metadata": {
    "collapsed": true
   },
   "outputs": [],
   "source": []
  }
 ],
 "metadata": {
  "celltoolbar": "Slideshow",
  "kernelspec": {
   "display_name": "Python 2",
   "language": "python",
   "name": "python2"
  },
  "language_info": {
   "codemirror_mode": {
    "name": "ipython",
    "version": 2
   },
   "file_extension": ".py",
   "mimetype": "text/x-python",
   "name": "python",
   "nbconvert_exporter": "python",
   "pygments_lexer": "ipython2",
   "version": "2.7.11"
  }
 },
 "nbformat": 4,
 "nbformat_minor": 0
}
