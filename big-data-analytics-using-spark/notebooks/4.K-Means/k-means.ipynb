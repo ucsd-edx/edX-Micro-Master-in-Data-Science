{
 "cells": [
  {
   "cell_type": "markdown",
   "metadata": {
    "slideshow": {
     "slide_type": "skip"
    }
   },
   "source": [
    "## Read input"
   ]
  },
  {
   "cell_type": "code",
   "execution_count": 1,
   "metadata": {
    "collapsed": false,
    "slideshow": {
     "slide_type": "skip"
    }
   },
   "outputs": [],
   "source": [
    "%matplotlib inline\n",
    "\n",
    "from operator import itemgetter\n",
    "from matplotlib import pyplot as plt\n",
    "\n",
    "from math import isnan\n",
    "import numpy as np\n",
    "import pandas\n",
    "import pickle\n",
    "\n",
    "from pyspark.mllib.clustering import KMeans, KMeansModel\n",
    "\n",
    "K = 5"
   ]
  },
  {
   "cell_type": "markdown",
   "metadata": {
    "slideshow": {
     "slide_type": "slide"
    }
   },
   "source": [
    "## K-means example 1\n",
    "\n",
    "Use, for each station, and each of the 6 measurements, the average over all available years. Then use kmeans on the 6X365 dimensional vectors. You would probably want to run that on a large cluster "
   ]
  },
  {
   "cell_type": "code",
   "execution_count": 2,
   "metadata": {
    "collapsed": true,
    "slideshow": {
     "slide_type": "slide"
    }
   },
   "outputs": [],
   "source": [
    "parquetFile = sqlContext.read.parquet(\"/Weather\")\n",
    "rdd = parquetFile.rdd.cache()"
   ]
  },
  {
   "cell_type": "code",
   "execution_count": 3,
   "metadata": {
    "collapsed": false,
    "slideshow": {
     "slide_type": "skip"
    }
   },
   "outputs": [
    {
     "name": "stdout",
     "output_type": "stream",
     "text": [
      "Number of stations: 47201\n",
      "Number of stations with all 6 measures: 13265\n"
     ]
    }
   ],
   "source": [
    "station_measure = rdd.map(lambda r: (r['station'], r['measurement'])) \\\n",
    "                     .groupByKey() \\\n",
    "                     .mapValues(set) \\\n",
    "                     .cache()\n",
    "print \"Number of stations:\", station_measure.count()\n",
    "\n",
    "measures = ['TMIN', 'TOBS', 'TMAX', 'SNOW', 'SNWD', 'PRCP']\n",
    "valid_stations = station_measure.filter(lambda p: all([t in p[1] for t in measures]))\n",
    "print \"Number of stations with all 6 measures:\", valid_stations.count()"
   ]
  },
  {
   "cell_type": "code",
   "execution_count": 5,
   "metadata": {
    "collapsed": false,
    "scrolled": true,
    "slideshow": {
     "slide_type": "skip"
    }
   },
   "outputs": [],
   "source": [
    "def notnan(v):\n",
    "    return 1.0 - 1.0 * np.isnan(v)\n",
    "\n",
    "\n",
    "def nanadd((x, a), (y, b)):\n",
    "    return np.nansum([x, y], axis=0), np.sum([a, b], axis=0)\n",
    "\n",
    "\n",
    "### Compute for each valid station the aveage array for each measurement the average over all\n",
    "### available 365D vectors.\n",
    "avg_measure = rdd.filter(lambda r: r['station'] in stations and r['measurement'] in measures) \\\n",
    "                 .map(lambda r: ((r['station'], r['measurement']),\n",
    "                                 np.array([r[str(i)] for i in range(1, 366)]))) \\\n",
    "                 .mapValues(lambda v: (v, 1 - np.isnan(v))) \\\n",
    "                 .reduceByKey(nanadd) \\\n",
    "                 .mapValues(lambda (a, b):\n",
    "                            1.0 * np.nan_to_num(a) / (b + (b == 0))) \\\n",
    "                 .cache()"
   ]
  },
  {
   "cell_type": "code",
   "execution_count": 6,
   "metadata": {
    "collapsed": false,
    "slideshow": {
     "slide_type": "skip"
    }
   },
   "outputs": [
    {
     "data": {
      "text/plain": [
       "(2, (u'USC00185985', u'PRCP'), 365)"
      ]
     },
     "execution_count": 6,
     "metadata": {},
     "output_type": "execute_result"
    }
   ],
   "source": [
    "rec=avg_measure.first()\n",
    "len(rec),rec[0],len(rec[1])"
   ]
  },
  {
   "cell_type": "code",
   "execution_count": 7,
   "metadata": {
    "collapsed": false,
    "slideshow": {
     "slide_type": "skip"
    }
   },
   "outputs": [
    {
     "data": {
      "text/plain": [
       "10911"
      ]
     },
     "execution_count": 7,
     "metadata": {},
     "output_type": "execute_result"
    }
   ],
   "source": [
    "def construct_feature(mv):\n",
    "    assert(len(mv) == 6)\n",
    "    return np.concatenate(\n",
    "        map(itemgetter(1), sorted(mv)))\n",
    "\n",
    "\n",
    "bad_features = avg_measure.map(lambda ((station, measure), v): (station, (measure, v))) \\\n",
    "                          .groupByKey() \\\n",
    "                          .mapValues(construct_feature) \\\n",
    "                          .cache()\n",
    "bad_features.count()"
   ]
  },
  {
   "cell_type": "code",
   "execution_count": 8,
   "metadata": {
    "collapsed": false,
    "slideshow": {
     "slide_type": "slide"
    }
   },
   "outputs": [
    {
     "name": "stdout",
     "output_type": "stream",
     "text": [
      "Iteration 0 is finished.\n",
      "Iteration 1 is finished.\n",
      "Iteration 2 is finished.\n",
      "Iteration 3 is finished.\n",
      "Iteration 4 is finished.\n",
      "Iteration 5 is finished.\n",
      "Iteration 6 is finished.\n",
      "Iteration 7 is finished.\n",
      "Iteration 8 is finished.\n",
      "Iteration 9 is finished.\n",
      "Iteration 10 is finished.\n",
      "Iteration 11 is finished.\n",
      "Iteration 12 is finished.\n",
      "Iteration 13 is finished.\n",
      "Iteration 14 is finished.\n",
      "Iteration 15 is finished.\n",
      "Iteration 16 is finished.\n",
      "Iteration 17 is finished.\n",
      "Iteration 18 is finished.\n",
      "Iteration 19 is finished.\n"
     ]
    }
   ],
   "source": [
    "T = 20\n",
    "group = {}\n",
    "\n",
    "data = bad_features.map(lambda p: p[1]).cache()\n",
    "for i in range(T):\n",
    "    # Run k-means\n",
    "    clusters = KMeans.train(data, K)\n",
    "    predicts = bad_features.mapValues(lambda v: clusters.predict(v)) \\\n",
    "                           .collectAsMap()\n",
    "    for g, pred in predicts.items():\n",
    "        group[g] = group.get(g, '') + ',' + str(pred)\n",
    "    print \"Iteration\", i, \"is finished.\""
   ]
  },
  {
   "cell_type": "code",
   "execution_count": 9,
   "metadata": {
    "collapsed": false,
    "slideshow": {
     "slide_type": "subslide"
    }
   },
   "outputs": [
    {
     "data": {
      "text/plain": [
       "9.2187600619037386"
      ]
     },
     "execution_count": 9,
     "metadata": {},
     "output_type": "execute_result"
    },
    {
     "data": {
      "image/png": "[encoded data removed]",
      "text/plain": [
       "<matplotlib.figure.Figure at 0x7fdf67ea4490>"
      ]
     },
     "metadata": {},
     "output_type": "display_data"
    }
   ],
   "source": [
    "def compute_entropy(d):\n",
    "    d = np.array(d)\n",
    "    d = 1.0 * d / d.sum()\n",
    "    return -np.sum(d * np.log2(d))\n",
    "\n",
    "entropy = []\n",
    "for i in range(T):\n",
    "    count = {}\n",
    "    for g, sig in group.items():\n",
    "        _s = ','.join(sig[1:].split(',')[:(i + 1)])\n",
    "        count[_s] = count.get(_s, 0) + 1\n",
    "    entropy.append(compute_entropy(count.values()))\n",
    "\n",
    "plt.xlabel(\"Iteration\")\n",
    "plt.ylabel(\"Entropy\")\n",
    "plt.plot(range(1, T + 1), entropy)\n",
    "2**entropy[-1]"
   ]
  },
  {
   "cell_type": "markdown",
   "metadata": {
    "slideshow": {
     "slide_type": "slide"
    }
   },
   "source": [
    "## K-means example 2\n",
    "\n",
    "Use for each station, the 3X6 dimensional vector that Saurabh generated, and do Kmeans on that. That can probably run on a local spark."
   ]
  },
  {
   "cell_type": "code",
   "execution_count": 4,
   "metadata": {
    "collapsed": false,
    "slideshow": {
     "slide_type": "subslide"
    }
   },
   "outputs": [
    {
     "name": "stdout",
     "output_type": "stream",
     "text": [
      "Number of stations in the pickle file: 12140\n",
      "Number of valid stations: 10911\n"
     ]
    }
   ],
   "source": [
    "proj = pickle.load(open('stations_projections.pickle', 'rb'))\n",
    "print \"Number of stations in the pickle file:\", len(proj)\n",
    "\n",
    "def construct_feature2(r):\n",
    "    return np.concatenate(\n",
    "        [r['TAVG_coeff'], r['TRANGE_coeff'], r['SNWD_coeff']])\n",
    "\n",
    "\n",
    "_stations = valid_stations.map(lambda p: p[0]).collect()\n",
    "_stations = set(_stations)\n",
    "\n",
    "stations = set()\n",
    "local = []\n",
    "for idx, ser in proj.iterrows():\n",
    "    if ser['station'] in _stations:\n",
    "        stations.add(ser['station'])\n",
    "        local.append((ser['station'],\n",
    "                      construct_feature2(ser)))\n",
    "print \"Number of valid stations:\", len(stations)"
   ]
  },
  {
   "cell_type": "code",
   "execution_count": 10,
   "metadata": {
    "collapsed": false,
    "slideshow": {
     "slide_type": "skip"
    }
   },
   "outputs": [
    {
     "data": {
      "text/plain": [
       "10911"
      ]
     },
     "execution_count": 10,
     "metadata": {},
     "output_type": "execute_result"
    }
   ],
   "source": [
    "good_features = sc.parallelize(local) \\\n",
    "                  .cache()\n",
    "_stations = set(\n",
    "    good_features.map(lambda p: p[0]).collect())\n",
    "good_features.count()"
   ]
  },
  {
   "cell_type": "code",
   "execution_count": 11,
   "metadata": {
    "collapsed": false,
    "slideshow": {
     "slide_type": "subslide"
    }
   },
   "outputs": [
    {
     "name": "stdout",
     "output_type": "stream",
     "text": [
      "Iteration 0 is finished.\n",
      "Iteration 1 is finished.\n",
      "Iteration 2 is finished.\n",
      "Iteration 3 is finished.\n",
      "Iteration 4 is finished.\n",
      "Iteration 5 is finished.\n",
      "Iteration 6 is finished.\n",
      "Iteration 7 is finished.\n",
      "Iteration 8 is finished.\n",
      "Iteration 9 is finished.\n",
      "Iteration 10 is finished.\n",
      "Iteration 11 is finished.\n",
      "Iteration 12 is finished.\n",
      "Iteration 13 is finished.\n",
      "Iteration 14 is finished.\n",
      "Iteration 15 is finished.\n",
      "Iteration 16 is finished.\n",
      "Iteration 17 is finished.\n",
      "Iteration 18 is finished.\n",
      "Iteration 19 is finished.\n"
     ]
    }
   ],
   "source": [
    "T = 20\n",
    "group2 = {}\n",
    "\n",
    "data = good_features.map(lambda p: p[1]).cache()\n",
    "for i in range(T):\n",
    "    # Run k-means\n",
    "    clusters = KMeans.train(data, K)\n",
    "    predicts = good_features.mapValues(lambda v: clusters.predict(v)) \\\n",
    "                           .collectAsMap()\n",
    "    for g, pred in predicts.items():\n",
    "        group2[g] = group2.get(g, '') + ',' + str(pred)\n",
    "    print \"Iteration\", i, \"is finished.\""
   ]
  },
  {
   "cell_type": "code",
   "execution_count": 12,
   "metadata": {
    "collapsed": false,
    "slideshow": {
     "slide_type": "subslide"
    }
   },
   "outputs": [
    {
     "data": {
      "text/plain": [
       "4.9129119992653552"
      ]
     },
     "execution_count": 12,
     "metadata": {},
     "output_type": "execute_result"
    },
    {
     "data": {
      "image/png": "[encoded data removed]",
      "text/plain": [
       "<matplotlib.figure.Figure at 0x7fdf67b6ba50>"
      ]
     },
     "metadata": {},
     "output_type": "display_data"
    }
   ],
   "source": [
    "entropy2 = []\n",
    "for i in range(T):\n",
    "    count = {}\n",
    "    for g, sig in group2.items():\n",
    "        _s = ','.join(sig[1:].split(',')[:(i + 1)])\n",
    "        count[_s] = count.get(_s, 0) + 1\n",
    "    entropy2.append(compute_entropy(count.values()))\n",
    "\n",
    "plt.xlabel(\"Iteration\")\n",
    "plt.ylabel(\"Entropy\")\n",
    "plt.plot(range(1, T + 1), entropy2)\n",
    "2**entropy2[-1]"
   ]
  },
  {
   "cell_type": "markdown",
   "metadata": {
    "slideshow": {
     "slide_type": "slide"
    }
   },
   "source": [
    "## Export stable clusters"
   ]
  },
  {
   "cell_type": "code",
   "execution_count": 13,
   "metadata": {
    "collapsed": false,
    "slideshow": {
     "slide_type": "subslide"
    }
   },
   "outputs": [
    {
     "name": "stdout",
     "output_type": "stream",
     "text": [
      "[('2,0,3,0,2,4,3,2,0,2,2,4,0,3,2,3,0,1,0,1', 4519), ('0,2,0,4,1,1,0,0,2,1,1,0,4,0,0,0,4,2,4,0', 3839), ('2,0,3,3,4,3,3,4,0,2,0,3,3,3,2,2,3,4,3,4', 591), ('4,3,2,3,4,3,2,4,3,0,0,3,3,2,3,2,3,4,3,4', 584), ('0,2,0,0,2,4,0,2,2,1,2,4,0,0,0,3,0,1,0,1', 476)]\n",
      "Number of stations not in the top 5 stable groups: 902\n"
     ]
    }
   ],
   "source": [
    "stable = sorted(count.items(), \n",
    "                key=lambda p: p[1],\n",
    "                reverse=True)[:K]\n",
    "print stable\n",
    "print (\"Number of stations not in the top %d stable groups: %d\" %\n",
    "       (K, len(stations) - np.sum(map(itemgetter(1), stable))))\n",
    "\n",
    "stable_groups = set([t[0] for t in stable])\n"
   ]
  },
  {
   "cell_type": "code",
   "execution_count": 14,
   "metadata": {
    "collapsed": true,
    "slideshow": {
     "slide_type": "subslide"
    }
   },
   "outputs": [],
   "source": [
    "clusters = {t: [] for t in stable_groups}\n",
    "for g, sig in group2.items():\n",
    "    if sig[1:] in stable_groups:\n",
    "        clusters[sig[1:]].append(g)"
   ]
  },
  {
   "cell_type": "code",
   "execution_count": 16,
   "metadata": {
    "collapsed": true,
    "slideshow": {
     "slide_type": "subslide"
    }
   },
   "outputs": [],
   "source": [
    "pickle.dump(clusters, open(\"stable-clusters.pickle\", \"wb\"))"
   ]
  }
 ],
 "metadata": {
  "celltoolbar": "Slideshow",
  "kernelspec": {
   "display_name": "Python 2",
   "language": "python",
   "name": "python2"
  },
  "language_info": {
   "codemirror_mode": {
    "name": "ipython",
    "version": 2
   },
   "file_extension": ".py",
   "mimetype": "text/x-python",
   "name": "python",
   "nbconvert_exporter": "python",
   "pygments_lexer": "ipython2",
   "version": "2.7.11"
  }
 },
 "nbformat": 4,
 "nbformat_minor": 0
}
