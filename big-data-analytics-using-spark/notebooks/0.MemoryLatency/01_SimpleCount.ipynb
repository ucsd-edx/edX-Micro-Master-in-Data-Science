{
 "cells": [
  {
   "cell_type": "markdown",
   "metadata": {
    "run_control": {
     "frozen": false,
     "read_only": false
    },
    "slideshow": {
     "slide_type": "slide"
    }
   },
   "source": [
    "### Faster counting using sorting\n",
    "This notebook demonstrates how sorting can be used to improve access locality. Here we use sorting in the context of a single CPU computation. The lessons are even more important in the context of a multi-CPU cluster, as will be shown in a separate notebook.\n",
    "\n",
    "This notebook can be run without spark, using just Jupyter.\n",
    "\n",
    "#### The task\n",
    "\n",
    "We are given a text file, here we are using Moby Dick by Herman Melville which can be downloaded from [here](http://faculty.washington.edu/stepp/courses/2004autumn/tcss143/lectures/files/2004-11-08/mobydick.txt).\n",
    "\n",
    "Our task is to read the file, separate it into words, make all words lower-case, and count the number of occurances of each word."
   ]
  },
  {
   "cell_type": "code",
   "execution_count": 1,
   "metadata": {
    "collapsed": false,
    "run_control": {
     "frozen": false,
     "read_only": false
    },
    "slideshow": {
     "slide_type": "skip"
    }
   },
   "outputs": [
    {
     "name": "stdout",
     "output_type": "stream",
     "text": [
      "Populating the interactive namespace from numpy and matplotlib\n"
     ]
    }
   ],
   "source": [
    "from string import lower,strip\n",
    "import re\n",
    "%pylab inline"
   ]
  },
  {
   "cell_type": "markdown",
   "metadata": {
    "run_control": {
     "frozen": false,
     "read_only": false
    },
    "slideshow": {
     "slide_type": "skip"
    }
   },
   "source": [
    "### Reading in the file\n",
    "We read in the file, split it into words and create a list called `all` which contains all of the words in the document"
   ]
  },
  {
   "cell_type": "code",
   "execution_count": 8,
   "metadata": {
    "collapsed": false
   },
   "outputs": [
    {
     "name": "stdout",
     "output_type": "stream",
     "text": [
      "-rw-r--r--  1 yoavfreund  staff  1257260 Mar 29 21:57 ../../../Data/Moby-Dick.txt\n",
      "CPU times: user 32 ms, sys: 27.7 ms, total: 59.7 ms\n",
      "Wall time: 1.34 s\n"
     ]
    }
   ],
   "source": [
    "%%time\n",
    "import urllib\n",
    "data_dir='../../../Data'\n",
    "filename='Moby-Dick.txt'\n",
    "\n",
    "f = urllib.urlretrieve(\"https://mas-dse-open.s3.amazonaws.com/\"+filename, data_dir+'/'+filename)\n",
    "\n",
    "# Check that the text file is where we expect it to be\n",
    "!ls -l $data_dir/$filename"
   ]
  },
  {
   "cell_type": "code",
   "execution_count": 9,
   "metadata": {
    "collapsed": false,
    "run_control": {
     "frozen": false,
     "read_only": false
    },
    "slideshow": {
     "slide_type": "skip"
    }
   },
   "outputs": [
    {
     "name": "stdout",
     "output_type": "stream",
     "text": [
      "the book contains 221908 words\n"
     ]
    }
   ],
   "source": [
    "#%%time\n",
    "file=open(data_dir+'/'+filename,'r')\n",
    "\n",
    "all=[]\n",
    "for line in file.readlines():\n",
    "    line=lower(strip(line))\n",
    "    if len(line)==0:\n",
    "        continue\n",
    "    words=[w for w in re.split(r'\\W+',line) if len(w)>0]\n",
    "    #print line, words\n",
    "    all+=words\n",
    "print 'the book contains',len(all),'words'"
   ]
  },
  {
   "cell_type": "markdown",
   "metadata": {
    "run_control": {
     "frozen": false,
     "read_only": false
    },
    "slideshow": {
     "slide_type": "slide"
    }
   },
   "source": [
    "### Simple sort\n",
    "First, lets try counting words using the most straight-forward approach.\n",
    "We create a dictionary `D` and then go through the list of words `all`. For each word we increment the corresponding entry in `D` if the word exists as a key in the dictionary, if it is not in the dictionary, we add it to the dictionary"
   ]
  },
  {
   "cell_type": "code",
   "execution_count": 10,
   "metadata": {
    "collapsed": false,
    "run_control": {
     "frozen": false,
     "read_only": false
    },
    "slideshow": {
     "slide_type": "fragment"
    }
   },
   "outputs": [
    {
     "name": "stdout",
     "output_type": "stream",
     "text": [
      "CPU times: user 57.6 s, sys: 421 ms, total: 58.1 s\n",
      "Wall time: 58.1 s\n"
     ]
    }
   ],
   "source": [
    "%%time\n",
    "def simple_count(list):\n",
    "    D={}\n",
    "    for w in list:\n",
    "        if w in D.keys():\n",
    "            D[w]+=1\n",
    "        else:\n",
    "            D[w]=1\n",
    "    return D\n",
    "D=simple_count(all)"
   ]
  },
  {
   "cell_type": "markdown",
   "metadata": {
    "run_control": {
     "frozen": false,
     "read_only": false
    },
    "slideshow": {
     "slide_type": "subslide"
    }
   },
   "source": [
    "### Simple count is slow!\n",
    "It takes, on my laptop, about a minute to finish the counting.\n",
    "\n",
    "We check that the output makes sense by printing the 10 most common words."
   ]
  },
  {
   "cell_type": "code",
   "execution_count": 11,
   "metadata": {
    "collapsed": false,
    "run_control": {
     "frozen": false,
     "read_only": false
    },
    "slideshow": {
     "slide_type": "fragment"
    }
   },
   "outputs": [
    {
     "data": {
      "text/plain": [
       "[('the', 14620),\n",
       " ('of', 6732),\n",
       " ('and', 6502),\n",
       " ('a', 4799),\n",
       " ('to', 4706),\n",
       " ('in', 4230),\n",
       " ('that', 3100),\n",
       " ('it', 2536),\n",
       " ('his', 2530),\n",
       " ('i', 2127)]"
      ]
     },
     "execution_count": 11,
     "metadata": {},
     "output_type": "execute_result"
    }
   ],
   "source": [
    "S=sorted(D.items(),key=lambda d:d[1],reverse=True)\n",
    "S[:10]"
   ]
  },
  {
   "cell_type": "markdown",
   "metadata": {
    "run_control": {
     "frozen": false,
     "read_only": false
    },
    "slideshow": {
     "slide_type": "slide"
    }
   },
   "source": [
    "### Sorted count\n",
    "Next, we show a faster way to count. We first sort the words alphabetically. Then, when we iterate through the sorted list, all of the occurances of any word appear consecutively, allowing us to quickly count them using just one counter. This counter is added to the dictionary when this element of the list is different than the previous one."
   ]
  },
  {
   "cell_type": "code",
   "execution_count": 12,
   "metadata": {
    "collapsed": false,
    "run_control": {
     "frozen": false,
     "read_only": false
    },
    "slideshow": {
     "slide_type": "subslide"
    }
   },
   "outputs": [
    {
     "name": "stdout",
     "output_type": "stream",
     "text": [
      "CPU times: user 134 ms, sys: 23.6 ms, total: 158 ms\n",
      "Wall time: 142 ms\n"
     ]
    }
   ],
   "source": [
    "%%time\n",
    "def sort_count(list):\n",
    "    S=sorted(list)\n",
    "    D={}\n",
    "    current=''\n",
    "    count=0\n",
    "    for w in S:\n",
    "        if current==w:\n",
    "            count+=1\n",
    "        else:\n",
    "            if current!='':\n",
    "                D[current]=count\n",
    "            count=1\n",
    "            current=w\n",
    "    return D\n",
    "D=sort_count(all)"
   ]
  },
  {
   "cell_type": "code",
   "execution_count": 13,
   "metadata": {
    "collapsed": false,
    "run_control": {
     "frozen": false,
     "read_only": false
    }
   },
   "outputs": [
    {
     "data": {
      "text/plain": [
       "17353"
      ]
     },
     "execution_count": 13,
     "metadata": {},
     "output_type": "execute_result"
    }
   ],
   "source": [
    "len(D)"
   ]
  },
  {
   "cell_type": "markdown",
   "metadata": {
    "run_control": {
     "frozen": false,
     "read_only": false
    },
    "slideshow": {
     "slide_type": "slide"
    }
   },
   "source": [
    "### Discussion\n",
    "As we see, `sort_count` is about 350 times faster than `simple_count`. \n",
    "\n",
    "**why?**  \n",
    "The reason is that sorting the list of words improves the locality of memory access for the table `D`. \n",
    "`simple_count` accesses the elements in `D` in the order of the words in the text. In natural text you rarely see the same word appearing several times consecutively. As there are likely to be large gaps between occurances of the same word, when an element of `D` needs to be updated, it is unlikely to be in the cache. The result is a large number of cache misses, resulting in a long run time.\n",
    "\n",
    "In contrast, after the words are sorted, all of the occurances of each word are consecutive. This means that sort_count makes exactly one write access to create each element of `D`, and will never require this element again.\n",
    "\n",
    "Below is a printout of a segment of the original list and a printout of a segment of the sorted list. In fact, if you pick a random segment of the sorted list, it is likely to consist of repetitions of a single word."
   ]
  },
  {
   "cell_type": "code",
   "execution_count": 14,
   "metadata": {
    "collapsed": false,
    "run_control": {
     "frozen": false,
     "read_only": false
    },
    "slideshow": {
     "slide_type": "subslide"
    }
   },
   "outputs": [
    {
     "name": "stdout",
     "output_type": "stream",
     "text": [
      "=== unsorted list:\n",
      "mizzen,rigging,like,three,quarters,of,meat,and,there,they,hung,till,morning,damn,ye,cried,the,captain,pacing,to,and,fro,before,them,the,vultures\n",
      "=== sorted list:\n",
      "leviathan,leviathan,leviathan,leviathan,leviathan,leviathan,leviathan,leviathan,leviathan,leviathan,leviathan,leviathan,leviathan,leviathan,leviathan,leviathan,leviathan,leviathan,leviathan,leviathanic,leviathanic,leviathanic,leviathanic,leviathanic,leviathanic,leviathanic\n"
     ]
    }
   ],
   "source": [
    "print '=== unsorted list:'\n",
    "print ','.join(all[100214:100240])\n",
    "S=sorted(all)\n",
    "print '=== sorted list:'\n",
    "print ','.join(S[100214:100240])"
   ]
  },
  {
   "cell_type": "markdown",
   "metadata": {
    "run_control": {
     "frozen": false,
     "read_only": false
    },
    "slideshow": {
     "slide_type": "slide"
    }
   },
   "source": [
    "### Built in Counter\n",
    "Another way to achieve good performance is to use `Counter` from the standard python library [collections](https://docs.python.org/2/library/collections.html)\n",
    "\n",
    "We include this here for the sake of comparison"
   ]
  },
  {
   "cell_type": "code",
   "execution_count": 15,
   "metadata": {
    "collapsed": true,
    "run_control": {
     "frozen": false,
     "read_only": false
    },
    "slideshow": {
     "slide_type": "fragment"
    }
   },
   "outputs": [],
   "source": [
    "from collections import Counter"
   ]
  },
  {
   "cell_type": "markdown",
   "metadata": {
    "run_control": {
     "frozen": false,
     "read_only": false
    },
    "slideshow": {
     "slide_type": "slide"
    }
   },
   "source": [
    "### Performance scaling\n",
    "We now run the three counting methods: `simple`, `sort` and `counter` on lists of different length and then plot the performances on a log-log scale.\n",
    "\n",
    "Why do we use log-log graphs?\n",
    "1. Because it makes visible the performance across several orders of magnitude.\n",
    "2. Because if the relationship between the list length $n$ and the run time $t$ is of the form $t=n^\\alpha$ then the relationship between $t$ and $n$ on the log-log scale appears linear, with a slope of $\\alpha$."
   ]
  },
  {
   "cell_type": "code",
   "execution_count": 16,
   "metadata": {
    "collapsed": false,
    "run_control": {
     "frozen": false,
     "read_only": false
    },
    "slideshow": {
     "slide_type": "subslide"
    }
   },
   "outputs": [
    {
     "name": "stdout",
     "output_type": "stream",
     "text": [
      "len=221908, simple=55.510008, sort=0.132251, counter=0.087407\n",
      "len=110954, simple=18.541071, sort=0.059672, counter=0.038881\n",
      "len=55477, simple=5.778270, sort=0.026980, counter=0.019452\n",
      "len=27738, simple=1.533418, sort=0.014454, counter=0.009447\n",
      "len=13869, simple=0.542560, sort=0.007097, counter=0.004699\n",
      "len= 6934, simple=0.180364, sort=0.003434, counter=0.002313\n",
      "len= 3467, simple=0.040977, sort=0.001659, counter=0.001485\n",
      "len= 1733, simple=0.013797, sort=0.000701, counter=0.000697\n",
      "len=  866, simple=0.003809, sort=0.000499, counter=0.000361\n",
      "len=  433, simple=0.001095, sort=0.000166, counter=0.000195\n"
     ]
    }
   ],
   "source": [
    "from time import time\n",
    "l=len(all)\n",
    "Ln=[];Lsimple=[];Lsort=[];Lcounter=[]\n",
    "for i in range(10):\n",
    "    time1=time()\n",
    "    n=l/(2**i)\n",
    "    simple_count(all[:n])\n",
    "    time2=time()\n",
    "    sort_count(all[:n])\n",
    "    time3=time()\n",
    "    Counter(all[:n])\n",
    "    time4=time()\n",
    "    Ln.append(n)\n",
    "    t_simple=time2-time1; Lsimple.append(t_simple)\n",
    "    t_sort=time3-time2; Lsort.append(t_sort)\n",
    "    t_counter=time4-time3; Lcounter.append(t_counter)\n",
    "\n",
    "    print 'len=%5d, simple=%f, sort=%f, counter=%f'%(n,t_simple,t_sort,t_counter)\n",
    " "
   ]
  },
  {
   "cell_type": "code",
   "execution_count": 17,
   "metadata": {
    "collapsed": false,
    "run_control": {
     "frozen": false,
     "read_only": false
    },
    "slideshow": {
     "slide_type": "subslide"
    }
   },
   "outputs": [
    {
     "data": {
      "image/png": "[encoded data removed]",
      "text/plain": [
       "<matplotlib.figure.Figure at 0x10da33e10>"
      ]
     },
     "metadata": {},
     "output_type": "display_data"
    }
   ],
   "source": [
    "loglog(Ln,Lsimple,label='simple count');\n",
    "loglog(Ln,Lsort,label='sort count');\n",
    "loglog(Ln,Lcounter,label='counter')\n",
    "grid();\n",
    "title('Performance of simple count and sort count')\n",
    "legend(loc='best')\n",
    "xlabel('length of list')\n",
    "ylabel('run time');"
   ]
  },
  {
   "cell_type": "markdown",
   "metadata": {
    "run_control": {
     "frozen": false,
     "read_only": false
    },
    "slideshow": {
     "slide_type": "subslide"
    }
   },
   "source": [
    "### Conclusions\n",
    "We see from the graph that `sort` and `counter` have very similar run times, and are both better than `simple`. The gap between `sort` and `simple` increases as the length of the list increases. This makes sense because the longer the list, the higher the frequency of cache misses.\n",
    "\n",
    "We also see that while for `sort` and `counter` the relationship is approximately linear $t \\approx n$. The relation for `simple` is of the form $t \\approx n^{1.5}$"
   ]
  },
  {
   "cell_type": "code",
   "execution_count": null,
   "metadata": {
    "collapsed": true
   },
   "outputs": [],
   "source": []
  }
 ],
 "metadata": {
  "anaconda-cloud": {},
  "celltoolbar": "Slideshow",
  "hide_input": false,
  "kernelspec": {
   "display_name": "Python [default]",
   "language": "python",
   "name": "python2"
  },
  "language_info": {
   "codemirror_mode": {
    "name": "ipython",
    "version": 2
   },
   "file_extension": ".py",
   "mimetype": "text/x-python",
   "name": "python",
   "nbconvert_exporter": "python",
   "pygments_lexer": "ipython2",
   "version": "2.7.13"
  },
  "toc": {
   "colors": {
    "hover_highlight": "#DAA520",
    "running_highlight": "#FF0000",
    "selected_highlight": "#FFD700"
   },
   "moveMenuLeft": true,
   "nav_menu": {
    "height": "190px",
    "width": "252px"
   },
   "navigate_menu": true,
   "number_sections": true,
   "sideBar": true,
   "threshold": 4,
   "toc_cell": false,
   "toc_section_display": "block",
   "toc_window_display": false
  }
 },
 "nbformat": 4,
 "nbformat_minor": 0
}
