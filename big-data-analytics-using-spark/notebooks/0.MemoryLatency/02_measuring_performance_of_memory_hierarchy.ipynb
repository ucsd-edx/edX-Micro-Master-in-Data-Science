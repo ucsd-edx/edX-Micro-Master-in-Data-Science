{
 "cells": [
  {
   "cell_type": "markdown",
   "metadata": {
    "run_control": {
     "frozen": false,
     "read_only": false
    },
    "slideshow": {
     "slide_type": "slide"
    }
   },
   "source": [
    "# measuring latency of the memory Hierarchy"
   ]
  },
  {
   "cell_type": "markdown",
   "metadata": {
    "heading_collapsed": true,
    "run_control": {
     "frozen": false,
     "read_only": false
    },
    "slideshow": {
     "slide_type": "subslide"
    }
   },
   "source": [
    "## Import modules"
   ]
  },
  {
   "cell_type": "code",
   "execution_count": null,
   "metadata": {
    "collapsed": false,
    "hidden": true,
    "run_control": {
     "frozen": false,
     "read_only": false
    },
    "slideshow": {
     "slide_type": "fragment"
    }
   },
   "outputs": [],
   "source": [
    "# Enable automiatic reload of libraries\n",
    "%load_ext autoreload\n",
    "%autoreload 2 # means that all modules are reloaded before every command\n",
    "\n",
    "%pylab inline\n",
    "from numpy import *"
   ]
  },
  {
   "cell_type": "code",
   "execution_count": null,
   "metadata": {
    "collapsed": false,
    "hidden": true,
    "run_control": {
     "frozen": false,
     "read_only": false
    },
    "slideshow": {
     "slide_type": "subslide"
    }
   },
   "outputs": [],
   "source": [
    "import time\n",
    "from matplotlib.backends.backend_pdf import PdfPages\n",
    "\n",
    "from os.path import isfile,isdir\n",
    "from os import mkdir\n",
    "import os"
   ]
  },
  {
   "cell_type": "markdown",
   "metadata": {
    "heading_collapsed": true,
    "run_control": {
     "frozen": false,
     "read_only": false
    }
   },
   "source": [
    "## Keeping the notebook neat\n",
    "* Code in notebook is usually linear, one damn line after another.\n",
    "* Better for modularity to define functions and classes.\n",
    "* Better for readability to keep large functions in separate python files."
   ]
  },
  {
   "cell_type": "code",
   "execution_count": null,
   "metadata": {
    "collapsed": false,
    "hidden": true,
    "run_control": {
     "frozen": false,
     "read_only": false
    },
    "slideshow": {
     "slide_type": "subslide"
    }
   },
   "outputs": [],
   "source": [
    "import sys\n",
    "sys.path.append('./lib')\n",
    "from measureRandomAccess import measureRandomAccess\n",
    "from PlotTime import PlotTime\n",
    "from create_file import create_file,tee"
   ]
  },
  {
   "cell_type": "markdown",
   "metadata": {
    "hidden": true,
    "run_control": {
     "frozen": false,
     "read_only": false
    }
   },
   "source": [
    "#### If you have a doc_string for your methods, \n",
    "You can retrieve it by putting `?` after the method name"
   ]
  },
  {
   "cell_type": "code",
   "execution_count": null,
   "metadata": {
    "collapsed": false,
    "hidden": true,
    "run_control": {
     "frozen": false,
     "read_only": false
    }
   },
   "outputs": [],
   "source": [
    "create_file?"
   ]
  },
  {
   "cell_type": "markdown",
   "metadata": {
    "hidden": true,
    "run_control": {
     "frozen": false,
     "read_only": false
    }
   },
   "source": [
    "#### In any case, you can load the python file as a cell\n",
    "After you make changes, you can store it back using the magic\n",
    "\n",
    "`%%writefile filename.py`"
   ]
  },
  {
   "cell_type": "code",
   "execution_count": null,
   "metadata": {
    "collapsed": false,
    "hidden": true,
    "run_control": {
     "frozen": false,
     "read_only": false
    }
   },
   "outputs": [],
   "source": [
    "# %load lib/create_file.py\n"
   ]
  },
  {
   "cell_type": "markdown",
   "metadata": {
    "heading_collapsed": true,
    "run_control": {
     "frozen": false,
     "read_only": false
    }
   },
   "source": [
    "## setting parameters\n",
    "* We test access to arrays whose size is a multiple of 1MB. `n` is the block size.\n",
    "* `m_list` defines the size of the arrays we test, in multiples of block-size.\n",
    "* `k` defines the number of memory accesses."
   ]
  },
  {
   "cell_type": "code",
   "execution_count": null,
   "metadata": {
    "collapsed": false,
    "hidden": true,
    "run_control": {
     "frozen": false,
     "read_only": false
    }
   },
   "outputs": [],
   "source": [
    "n=1000000 # size of single block (1MB)\n",
    "m_list=[1,10,100,1000,10000] # size of file in blocks\n",
    "k=100000;  # number of repeats\n",
    "L=len(m_list)\n",
    "print 'n=%d, k=%d, m_list='%(n,k),m_list"
   ]
  },
  {
   "cell_type": "markdown",
   "metadata": {
    "heading_collapsed": true,
    "run_control": {
     "frozen": false,
     "read_only": false
    }
   },
   "source": [
    "## Set working directory\n",
    "This script generates large files. We put these files in a separate directory so it is easier to delete them later."
   ]
  },
  {
   "cell_type": "code",
   "execution_count": null,
   "metadata": {
    "collapsed": false,
    "hidden": true,
    "run_control": {
     "frozen": false,
     "read_only": false
    }
   },
   "outputs": [],
   "source": [
    "log_root='./logs'\n",
    "if not isdir(log_root): mkdir(log_root)\n",
    "TimeStamp=str(int(time.time()))\n",
    "log_dir=log_root+'/'+TimeStamp\n",
    "mkdir(log_dir)\n",
    "%cd $log_dir\n",
    "stat=open('stats.txt','w')\n",
    "\n",
    "def tee(line):\n",
    "    print line\n",
    "    stat.write(line+'\\n')"
   ]
  },
  {
   "cell_type": "code",
   "execution_count": null,
   "metadata": {
    "collapsed": false,
    "hidden": true,
    "run_control": {
     "frozen": false,
     "read_only": false
    }
   },
   "outputs": [],
   "source": [
    "mean=zeros([2,L])   #0: using disk, 1: using memory\n",
    "std=zeros([2,L])\n",
    "T=zeros([2,L,k])"
   ]
  },
  {
   "cell_type": "code",
   "execution_count": null,
   "metadata": {
    "collapsed": false,
    "hidden": true,
    "run_control": {
     "frozen": false,
     "read_only": false
    }
   },
   "outputs": [],
   "source": [
    "for m_i in range(len(m_list)):\n",
    "    \n",
    "    m=m_list[m_i]\n",
    "    (t_mem,t_disk) = create_file(n,m,filename='BlockData'+str(m))\n",
    "\n",
    "    (mean[0,m_i],std[0,m_i],T[0,m_i]) = measureRandomAccess(n*m,filename='BlockData'+str(m),k=k)\n",
    "    tee('File pokes mean='+str(mean[0,m_i])+', file std='+str(std[0,m_i]))\n",
    "\n",
    "    (mean[1,m_i],std[1,m_i],T[1,m_i]) = measureRandomAccess(n*m,k=k)\n",
    "    tee('Memory pokes mean='+str(mean[1,m_i])+', Memory std='+str(std[1,m_i]))"
   ]
  },
  {
   "cell_type": "code",
   "execution_count": null,
   "metadata": {
    "collapsed": false,
    "hidden": true,
    "run_control": {
     "frozen": false,
     "read_only": false
    }
   },
   "outputs": [],
   "source": [
    "pp = PdfPages('MemoryFigure.pdf')\n",
    "figure(figsize=(6,4))\n",
    "\n",
    "Colors='bgrcmyk'  # The colors for the plot\n",
    "LineStyles=['-',':']\n",
    "Legends=['F','M']\n",
    "\n",
    "fig = matplotlib.pyplot.gcf()\n",
    "fig.set_size_inches(18.5,10.5)\n",
    "\n",
    "for m_i in range(len(m_list)):\n",
    "    Color=Colors[m_i % len(Colors)]\n",
    "    for Type in [0,1]:\n",
    "        PlotTime(sort(T[Type,m_i]),mean[Type,m_i],std[Type,m_i],\n",
    "                 Color=Color,LS=LineStyles[Type],Legend=('%dMB-' % m_list[m_i])+Legends[Type],\n",
    "                 m_i=m_i)\n",
    "\n",
    "grid()\n",
    "legend(fontsize='medium')\n",
    "xlabel('delay (sec)')\n",
    "ylabel('1-CDF')\n",
    "pp.savefig()\n",
    "pp.close()"
   ]
  },
  {
   "cell_type": "code",
   "execution_count": null,
   "metadata": {
    "collapsed": false,
    "hidden": true,
    "run_control": {
     "frozen": false,
     "read_only": false
    }
   },
   "outputs": [],
   "source": [
    "import time\n",
    "\n",
    "Line='Consecutive Memory writes'\n",
    "print Line; stat.write(Line+'\\n')\n",
    "n=1000\n",
    "r=np.array(range(n))\n",
    "for m in [1,3,5,7,10,100,1000,10000,100000,1000000]:\n",
    "    t1=time.time()\n",
    "    A=np.repeat(r,m)\n",
    "    t2=time.time()\n",
    "    tee(\"array of length %d repeated %d times. total size=%6.3f MB, Time per element= %g\" % (n,m,float(n*m)/1000000,(t2-t1)/float(n*m)))\n",
    "A=[];r=[]\n",
    "stat.close()"
   ]
  },
  {
   "cell_type": "markdown",
   "metadata": {
    "heading_collapsed": true,
    "run_control": {
     "frozen": false,
     "read_only": false
    }
   },
   "source": [
    "## Observations\n",
    "\n",
    "* If you write to consecutive locations, you have a per-byte time of around $10^{-8}$ if you jump around you can't do better than $10^{-6}$.\n",
    "* As you increase the size of the array/file random access speed decreases dramatically, while sequential access speed stays more or less constant.\n",
    "* The high latency tails are much bigger than what you'd expect from a normal distribution with the same mean and std.\n",
    "\n",
    "## Impact on Big Data Analytics\n",
    "* Clock rate is stuck at around 3GHz, and is likely to be stuck there for the forseeable future.\n",
    "* **Faster** computers / disks / networks are **expensive** \n",
    "* The cost-effective solution is often a cluster of many cheap computers, each with many cores and break up the data so that each computer has a small fraction of the data.\n",
    "* Data-Centers and the \"Cloud\""
   ]
  },
  {
   "cell_type": "code",
   "execution_count": null,
   "metadata": {
    "collapsed": true,
    "hidden": true,
    "run_control": {
     "frozen": false,
     "read_only": false
    }
   },
   "outputs": [],
   "source": [
    "#cleanup\n",
    "!rm -rf logs stats.txt"
   ]
  }
 ],
 "metadata": {
  "anaconda-cloud": {},
  "celltoolbar": "Slideshow",
  "hide_input": false,
  "kernelspec": {
   "display_name": "Python [default]",
   "language": "python",
   "name": "python2"
  },
  "language_info": {
   "codemirror_mode": {
    "name": "ipython",
    "version": 2
   },
   "file_extension": ".py",
   "mimetype": "text/x-python",
   "name": "python",
   "nbconvert_exporter": "python",
   "pygments_lexer": "ipython2",
   "version": "2.7.13"
  },
  "toc": {
   "colors": {
    "hover_highlight": "#DAA520",
    "running_highlight": "#FF0000",
    "selected_highlight": "#FFD700"
   },
   "moveMenuLeft": true,
   "nav_menu": {
    "height": "82px",
    "width": "252px"
   },
   "navigate_menu": true,
   "number_sections": true,
   "sideBar": true,
   "threshold": 4,
   "toc_cell": false,
   "toc_section_display": "block",
   "toc_window_display": true
  }
 },
 "nbformat": 4,
 "nbformat_minor": 0
}
