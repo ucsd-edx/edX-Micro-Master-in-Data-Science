{
 "cells": [
  {
   "cell_type": "markdown",
   "metadata": {},
   "source": [
    "# measuring latency of the memory Hierarchy"
   ]
  },
  {
   "cell_type": "code",
   "execution_count": 3,
   "metadata": {
    "collapsed": false
   },
   "outputs": [
    {
     "data": {
      "text/plain": [
       "0.5784307491853831"
      ]
     },
     "execution_count": 3,
     "metadata": {},
     "output_type": "execute_result"
    }
   ],
   "source": [
    "random.rand()"
   ]
  },
  {
   "cell_type": "code",
   "execution_count": 1,
   "metadata": {
    "collapsed": false
   },
   "outputs": [
    {
     "name": "stdout",
     "output_type": "stream",
     "text": [
      "Populating the interactive namespace from numpy and matplotlib\n"
     ]
    }
   ],
   "source": [
    "%pylab inline"
   ]
  },
  {
   "cell_type": "code",
   "execution_count": 2,
   "metadata": {
    "collapsed": true
   },
   "outputs": [],
   "source": [
    "from numpy import *"
   ]
  },
  {
   "cell_type": "code",
   "execution_count": 3,
   "metadata": {
    "collapsed": false
   },
   "outputs": [],
   "source": [
    "import time\n",
    "from matplotlib.backends.backend_pdf import PdfPages\n",
    "from scipy.special import erf,erfinv\n",
    "from os.path import isfile,isdir\n",
    "from os import mkdir\n",
    "import os"
   ]
  },
  {
   "cell_type": "code",
   "execution_count": 4,
   "metadata": {
    "collapsed": false
   },
   "outputs": [],
   "source": [
    "import sys\n",
    "sys.path.append('./lib')\n",
    "from measureRandomAccess import measureRandomAccess\n",
    "from PlotTime import PlotTime\n",
    "from create_file import create_file"
   ]
  },
  {
   "cell_type": "code",
   "execution_count": 5,
   "metadata": {
    "collapsed": false
   },
   "outputs": [
    {
     "name": "stdout",
     "output_type": "stream",
     "text": [
      "n=1000000, k=100000, m_list= [1, 10, 100, 1000, 10000]\n"
     ]
    }
   ],
   "source": [
    "n=1000000 # size of single block (1MB)\n",
    "m_list=[1,10,100,1000,10000] # size of file in blocks\n",
    "k=100000;  # number of repeats\n",
    "L=len(m_list)\n",
    "print 'n=%d, k=%d, m_list='%(n,k),m_list"
   ]
  },
  {
   "cell_type": "code",
   "execution_count": 6,
   "metadata": {
    "collapsed": false
   },
   "outputs": [
    {
     "name": "stdout",
     "output_type": "stream",
     "text": [
      "/Users/yoavfreund/projects/edX-Micro-Master-in-Data-Science/big-data-analytics-using-spark/notebooks/0.MemoryLatency/logs/1490655674\n"
     ]
    }
   ],
   "source": [
    "log_root='./logs'\n",
    "if not isdir(log_root): mkdir(log_root)\n",
    "TimeStamp=str(int(time.time()))\n",
    "log_dir=log_root+'/'+TimeStamp\n",
    "mkdir(log_dir)\n",
    "%cd $log_dir\n",
    "stat=open('stats.txt','w')\n",
    "\n",
    "def tee(line):\n",
    "    print line\n",
    "    stat.write(line+'\\n')"
   ]
  },
  {
   "cell_type": "code",
   "execution_count": 7,
   "metadata": {
    "collapsed": false
   },
   "outputs": [
    {
     "data": {
      "text/plain": [
       "u'/Users/yoavfreund/projects/edX-Micro-Master-in-Data-Science/big-data-analytics-using-spark/notebooks/0.MemoryLatency/logs/1490655674'"
      ]
     },
     "execution_count": 7,
     "metadata": {},
     "output_type": "execute_result"
    }
   ],
   "source": [
    "%pwd"
   ]
  },
  {
   "cell_type": "code",
   "execution_count": 8,
   "metadata": {
    "collapsed": true
   },
   "outputs": [],
   "source": [
    "mean=zeros([2,L])   #0: using disk, 1: using memory\n",
    "std=zeros([2,L])\n",
    "T=zeros([2,L,k])"
   ]
  },
  {
   "cell_type": "code",
   "execution_count": 9,
   "metadata": {
    "collapsed": false
   },
   "outputs": [
    {
     "name": "stdout",
     "output_type": "stream",
     "text": [
      "0 , \n",
      "creating 1000000 byte block: 0.000502 sec, writing 1 blocks 0.003133 sec\n",
      "0 , 10000 , 20000 , 30000 , 40000 , 50000 , 60000 , 70000 , 80000 , 90000 , \n",
      "File pokes mean=6.8353509903e-06, file std=4.73527278551e-06\n",
      "0 , 10000 , 20000 , 30000 , 40000 , 50000 , 60000 , 70000 , 80000 , 90000 , \n",
      "Memory pokes mean=1.92472219467e-06, file std=2.39589913218e-06\n",
      "0 , \n",
      "creating 1000000 byte block: 0.000047 sec, writing 10 blocks 0.052153 sec\n",
      "0 , 10000 , 20000 , 30000 , 40000 , 50000 , 60000 , 70000 , 80000 , 90000 , \n",
      "File pokes mean=6.91348075867e-06, file std=9.35450100026e-06\n",
      "0 , 10000 , 20000 , 30000 , 40000 , 50000 , 60000 , 70000 , 80000 , 90000 , \n",
      "Memory pokes mean=2.01454877853e-06, file std=2.76077228744e-06\n",
      "0 , \n",
      "creating 1000000 byte block: 0.000042 sec, writing 100 blocks 0.283760 sec\n",
      "0 , 10000 , 20000 , 30000 , 40000 , 50000 , 60000 , 70000 , 80000 , 90000 , \n",
      "File pokes mean=7.2243976593e-06, file std=5.32820604902e-06\n",
      "0 , 10000 , 20000 , 30000 , 40000 , 50000 , 60000 , 70000 , 80000 , 90000 , \n",
      "Memory pokes mean=1.91926002502e-06, file std=3.85844274177e-06\n",
      "0 , 100 , 200 , 300 , 400 , 500 , 600 , 700 , 800 , 900 , \n",
      "creating 1000000 byte block: 0.000038 sec, writing 1000 blocks 2.855264 sec\n",
      "0 , 10000 , 20000 , 30000 , 40000 , 50000 , 60000 , 70000 , 80000 , 90000 , \n",
      "File pokes mean=3.49315905571e-05, file std=8.13993105888e-05\n",
      "0 , 10000 , 20000 , 30000 , 40000 , 50000 , 60000 , 70000 , 80000 , 90000 , \n",
      "Memory pokes mean=2.01251029968e-06, file std=2.85144163612e-06\n",
      "0 , 100 , 200 , 300 , 400 , 500 , 600 , 700 , 800 , 900 , 1000 , 1100 , 1200 , 1300 , 1400 , 1500 , 1600 , 1700 , 1800 , 1900 , 2000 , 2100 , 2200 , 2300 , 2400 , 2500 , 2600 , 2700 , 2800 , 2900 , 3000 , 3100 , 3200 , 3300 , 3400 , 3500 , 3600 , 3700 , 3800 , 3900 , 4000 , 4100 , 4200 , 4300 , 4400 , 4500 , 4600 , 4700 , 4800 , 4900 , 5000 , 5100 , 5200 , 5300 , 5400 , 5500 , 5600 , 5700 , 5800 , 5900 , 6000 , 6100 , 6200 , 6300 , 6400 , 6500 , 6600 , 6700 , 6800 , 6900 , 7000 , 7100 , 7200 , 7300 , 7400 , 7500 , 7600 , 7700 , 7800 , 7900 , 8000 , 8100 , 8200 , 8300 , 8400 , 8500 , 8600 , 8700 , 8800 , 8900 , 9000 , 9100 , 9200 , 9300 , 9400 , 9500 , 9600 , 9700 , 9800 , 9900 , \n",
      "creating 1000000 byte block: 0.000039 sec, writing 10000 blocks 455.765004 sec\n",
      "0 , 10000 , 20000 , 30000 , 40000 , 50000 , 60000 , 70000 , 80000 , 90000 , \n",
      "File pokes mean=0.000294351603985, file std=0.000586049648361\n",
      "0 , 10000 , 20000 , 30000 , 40000 , 50000 , 60000 , 70000 , 80000 , 90000 , \n",
      "Memory pokes mean=4.81007575989e-06, file std=9.41193203667e-06\n"
     ]
    }
   ],
   "source": [
    "for m_i in range(len(m_list)):\n",
    "    \n",
    "    m=m_list[m_i]\n",
    "    (t_mem,t_disk) = create_file(n,m,filename='BlockData'+str(m))\n",
    "\n",
    "    (mean[0,m_i],std[0,m_i],T[0,m_i]) = measureRandomAccess(n*m,filename='BlockData'+str(m),k=k)\n",
    "    tee('\\nFile pokes mean='+str(mean[0,m_i])+', file std='+str(std[0,m_i]))\n",
    "\n",
    "    (mean[1,m_i],std[1,m_i],T[1,m_i]) = measureRandomAccess(n*m,k=k)\n",
    "    tee('\\nMemory pokes mean='+str(mean[1,m_i])+', file std='+str(std[1,m_i]))"
   ]
  },
  {
   "cell_type": "code",
   "execution_count": 10,
   "metadata": {
    "collapsed": false
   },
   "outputs": [
    {
     "ename": "NameError",
     "evalue": "global name 'arange' is not defined",
     "output_type": "error",
     "traceback": [
      "\u001b[0;31m---------------------------------------------------------------------------\u001b[0m",
      "\u001b[0;31mNameError\u001b[0m                                 Traceback (most recent call last)",
      "\u001b[0;32m<ipython-input-10-2e4630f22c12>\u001b[0m in \u001b[0;36m<module>\u001b[0;34m()\u001b[0m\n\u001b[1;32m     13\u001b[0m     \u001b[0;32mfor\u001b[0m \u001b[0mType\u001b[0m \u001b[0;32min\u001b[0m \u001b[0;34m[\u001b[0m\u001b[0;36m0\u001b[0m\u001b[0;34m,\u001b[0m\u001b[0;36m1\u001b[0m\u001b[0;34m]\u001b[0m\u001b[0;34m:\u001b[0m\u001b[0;34m\u001b[0m\u001b[0m\n\u001b[1;32m     14\u001b[0m         PlotTime(sort(T[Type,m_i]),mean[Type,m_i],std[Type,m_i],\n\u001b[0;32m---> 15\u001b[0;31m                  Color=Color,LS=LineStyles[Type],Legend=('%dMB-' % m_list[m_i])+Legends[Type])\n\u001b[0m\u001b[1;32m     16\u001b[0m \u001b[0;34m\u001b[0m\u001b[0m\n\u001b[1;32m     17\u001b[0m \u001b[0mgrid\u001b[0m\u001b[0;34m(\u001b[0m\u001b[0;34m)\u001b[0m\u001b[0;34m\u001b[0m\u001b[0m\n",
      "\u001b[0;32m./lib/PlotTime.pyc\u001b[0m in \u001b[0;36mPlotTime\u001b[0;34m(Tsorted, Mean, Std, Color, LS, Legend)\u001b[0m\n",
      "\u001b[0;31mNameError\u001b[0m: global name 'arange' is not defined"
     ]
    },
    {
     "data": {
      "text/plain": [
       "<matplotlib.figure.Figure at 0x110e31710>"
      ]
     },
     "metadata": {},
     "output_type": "display_data"
    }
   ],
   "source": [
    "pp = PdfPages('MemoryFigure.pdf')\n",
    "figure(figsize=(6,4))\n",
    "\n",
    "Colors='bgrcmyk'  # The colors for the plot\n",
    "LineStyles=['-',':']\n",
    "Legends=['F','M']\n",
    "\n",
    "fig = matplotlib.pyplot.gcf()\n",
    "fig.set_size_inches(18.5,10.5)\n",
    "\n",
    "for m_i in range(len(m_list)):\n",
    "    Color=Colors[m_i % len(Colors)]\n",
    "    for Type in [0,1]:\n",
    "        PlotTime(sort(T[Type,m_i]),mean[Type,m_i],std[Type,m_i],\n",
    "                 Color=Color,LS=LineStyles[Type],Legend=('%dMB-' % m_list[m_i])+Legends[Type])\n",
    "\n",
    "grid()\n",
    "legend(fontsize='medium')\n",
    "xlabel('delay (sec)')\n",
    "ylabel('1-CDF')\n",
    "pp.savefig()\n",
    "pp.close()"
   ]
  },
  {
   "cell_type": "code",
   "execution_count": 7,
   "metadata": {
    "collapsed": false
   },
   "outputs": [
    {
     "name": "stdout",
     "output_type": "stream",
     "text": [
      "Consecutive Memory writes\n",
      "array of length 1000 repeated 1 times. total size= 0.001 MB, Time per element= 3.00407e-08\n",
      "array of length 1000 repeated 3 times. total size= 0.003 MB, Time per element= 8.66254e-09\n",
      "array of length 1000 repeated 5 times. total size= 0.005 MB, Time per element= 7.82013e-09\n",
      "array of length 1000 repeated 7 times. total size= 0.007 MB, Time per element= 6.88008e-09\n",
      "array of length 1000 repeated 10 times. total size= 0.010 MB, Time per element= 6.50883e-09\n",
      "array of length 1000 repeated 100 times. total size= 0.100 MB, Time per element= 6.28948e-09\n",
      "array of length 1000 repeated 1000 times. total size= 1.000 MB, Time per element= 8.003e-09\n",
      "array of length 1000 repeated 10000 times. total size=10.000 MB, Time per element= 8.44471e-09\n",
      "array of length 1000 repeated 100000 times. total size=100.000 MB, Time per element= 8.06647e-09\n",
      "array of length 1000 repeated 1000000 times. total size=1000.000 MB, Time per element= 8.77524e-09\n"
     ]
    }
   ],
   "source": [
    "import time\n",
    "\n",
    "Line='Consecutive Memory writes'\n",
    "print Line; stat.write(Line+'\\n')\n",
    "n=1000\n",
    "r=np.array(range(n))\n",
    "for m in [1,3,5,7,10,100,1000,10000,100000,1000000]:\n",
    "    t1=time.time()\n",
    "    A=np.repeat(r,m)\n",
    "    t2=time.time()\n",
    "    tee(\"array of length %d repeated %d times. total size=%6.3f MB, Time per element= %g\" % (n,m,float(n*m)/1000000,(t2-t1)/float(n*m)))\n",
    "A=[];r=[]\n",
    "stat.close()"
   ]
  },
  {
   "cell_type": "markdown",
   "metadata": {},
   "source": [
    "## Main Observations\n",
    "\n",
    "* If you write to consecutive locations, you have a per-byte time of around $10^{-8}$ if you jump around you can't do better than $10^{-6}$.\n",
    "* As you increase the size of the array/file random access speed decreases dramatically, while sequential access speed stays more or less constant.\n",
    "* The high latency tails are much bigger than what you'd expect from a normal distribution with the same mean and std.\n",
    "\n",
    "#### Impact on Big Data Analytics\n",
    "* Clock rate is stuck at around 3GHz, and is likely to be stuck there for the forseeable future.\n",
    "* **Faster** computers / disks / networks are **expensive** \n",
    "* The cost-effective solution is often a cluster of many cheap computers, each with many cores and break up the data so that each computer has a small fraction of the data.\n",
    "* Data-Centers and the \"Cloud\""
   ]
  },
  {
   "cell_type": "code",
   "execution_count": 4,
   "metadata": {
    "collapsed": false
   },
   "outputs": [
    {
     "ename": "AttributeError",
     "evalue": "'module' object has no attribute 'rand'",
     "output_type": "error",
     "traceback": [
      "\u001b[0;31m---------------------------------------------------------------------------\u001b[0m",
      "\u001b[0;31mAttributeError\u001b[0m                            Traceback (most recent call last)",
      "\u001b[0;32m<ipython-input-4-f238f117d47b>\u001b[0m in \u001b[0;36m<module>\u001b[0;34m()\u001b[0m\n\u001b[0;32m----> 1\u001b[0;31m \u001b[0mnp\u001b[0m\u001b[0;34m.\u001b[0m\u001b[0mrand\u001b[0m\u001b[0;34m(\u001b[0m\u001b[0;34m)\u001b[0m\u001b[0;34m\u001b[0m\u001b[0m\n\u001b[0m",
      "\u001b[0;31mAttributeError\u001b[0m: 'module' object has no attribute 'rand'"
     ]
    }
   ],
   "source": [
    "np.rand()"
   ]
  },
  {
   "cell_type": "code",
   "execution_count": null,
   "metadata": {
    "collapsed": true
   },
   "outputs": [],
   "source": [
    "from "
   ]
  }
 ],
 "metadata": {
  "anaconda-cloud": {},
  "kernelspec": {
   "display_name": "Python [default]",
   "language": "python",
   "name": "python2"
  },
  "language_info": {
   "codemirror_mode": {
    "name": "ipython",
    "version": 2
   },
   "file_extension": ".py",
   "mimetype": "text/x-python",
   "name": "python",
   "nbconvert_exporter": "python",
   "pygments_lexer": "ipython2",
   "version": "2.7.13"
  },
  "toc": {
   "colors": {
    "hover_highlight": "#DAA520",
    "running_highlight": "#FF0000",
    "selected_highlight": "#FFD700"
   },
   "moveMenuLeft": true,
   "nav_menu": {
    "height": "82px",
    "width": "252px"
   },
   "navigate_menu": true,
   "number_sections": true,
   "sideBar": true,
   "threshold": 4,
   "toc_cell": false,
   "toc_section_display": "block",
   "toc_window_display": true
  }
 },
 "nbformat": 4,
 "nbformat_minor": 0
}
