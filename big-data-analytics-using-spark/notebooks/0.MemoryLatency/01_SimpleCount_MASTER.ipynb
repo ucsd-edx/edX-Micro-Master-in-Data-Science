{
 "cells": [
  {
   "cell_type": "markdown",
   "metadata": {
    "deletable": true,
    "editable": true,
    "run_control": {
     "frozen": false,
     "read_only": false
    },
    "slideshow": {
     "slide_type": "slide"
    }
   },
   "source": [
    "### Faster counting using sorting\n",
    "This notebook demonstrates how sorting can be used to improve access locality. Here we use sorting in the context of a single CPU computation. The lessons are even more important in the context of a multi-CPU cluster, as will be shown in a separate notebook.\n",
    "\n",
    "This notebook can be run without spark, using just Jupyter.\n",
    "\n",
    "#### The task\n",
    "\n",
    "We are given a text file, here we are using Moby Dick by Herman Melville which can be downloaded from [here](http://faculty.washington.edu/stepp/courses/2004autumn/tcss143/lectures/files/2004-11-08/mobydick.txt).\n",
    "\n",
    "Our task is to read the file, separate it into words, make all words lower-case, and count the number of occurances of each word."
   ]
  },
  {
   "cell_type": "code",
   "execution_count": 2,
   "metadata": {
    "collapsed": true,
    "deletable": true,
    "editable": true,
    "nbgrader": {
     "grade": false,
     "grade_id": "init_stuff",
     "locked": true,
     "schema_version": 1,
     "solution": false
    },
    "run_control": {
     "frozen": false,
     "read_only": false
    }
   },
   "outputs": [],
   "source": [
    "# initialization for grading\n",
    "import sys\n",
    "import os \n",
    "testPath = '/'.join(os.getcwd().split('/')[:-1]) + \"/Tester\"\n",
    "sys.path.insert(0, testPath )\n",
    "\n",
    "pickleFile = testPath+ \"/SimpleCount.pkl\""
   ]
  },
  {
   "cell_type": "code",
   "execution_count": 3,
   "metadata": {
    "collapsed": false,
    "deletable": true,
    "editable": true,
    "run_control": {
     "frozen": false,
     "read_only": false
    },
    "slideshow": {
     "slide_type": "skip"
    }
   },
   "outputs": [
    {
     "name": "stdout",
     "output_type": "stream",
     "text": [
      "Populating the interactive namespace from numpy and matplotlib\n"
     ]
    }
   ],
   "source": [
    "from string import lower,strip\n",
    "import re\n",
    "%pylab inline"
   ]
  },
  {
   "cell_type": "markdown",
   "metadata": {
    "deletable": true,
    "editable": true,
    "run_control": {
     "frozen": false,
     "read_only": false
    },
    "slideshow": {
     "slide_type": "skip"
    }
   },
   "source": [
    "### Reading in the file\n",
    "We read in the file, split it into words and create a list called `all` which contains all of the words in the document"
   ]
  },
  {
   "cell_type": "code",
   "execution_count": null,
   "metadata": {
    "collapsed": false,
    "deletable": true,
    "editable": true,
    "run_control": {
     "frozen": false,
     "read_only": false
    }
   },
   "outputs": [],
   "source": [
    "%%time\n",
    "import urllib\n",
    "data_dir='../../Data'\n",
    "filename='Moby-Dick.txt'\n",
    "\n",
    "f = urllib.urlretrieve(\"https://mas-dse-open.s3.amazonaws.com/\"+filename, data_dir+'/'+filename)\n",
    "\n",
    "# Check that the text file is where we expect it to be\n",
    "!ls -l $data_dir/$filename"
   ]
  },
  {
   "cell_type": "code",
   "execution_count": null,
   "metadata": {
    "collapsed": false,
    "deletable": true,
    "editable": true,
    "run_control": {
     "frozen": false,
     "read_only": false
    },
    "slideshow": {
     "slide_type": "skip"
    }
   },
   "outputs": [],
   "source": [
    "#%%time\n",
    "file=open(data_dir+'/'+filename,'r')\n",
    "\n",
    "all=[]\n",
    "for line in file.readlines():\n",
    "    line=lower(strip(line))\n",
    "    if len(line)==0:\n",
    "        continue\n",
    "    words=[w for w in re.split(r'\\W+',line) if len(w)>0]\n",
    "    #print line, words\n",
    "    all+=words\n",
    "print 'the book contains',len(all),'words'"
   ]
  },
  {
   "cell_type": "markdown",
   "metadata": {
    "deletable": true,
    "editable": true,
    "run_control": {
     "frozen": false,
     "read_only": false
    },
    "slideshow": {
     "slide_type": "slide"
    }
   },
   "source": [
    "### Counting  words\n",
    "First, lets try counting words using the most straight-forward approach.\n",
    "We create a dictionary `D` and then go through the list of words `all`. For each word we increment the corresponding entry in `D` if the word exists as a key in the dictionary, if it is not in the dictionary, we add it to the dictionary"
   ]
  },
  {
   "cell_type": "code",
   "execution_count": null,
   "metadata": {
    "collapsed": false,
    "deletable": true,
    "editable": true,
    "run_control": {
     "frozen": false,
     "read_only": false
    },
    "scrolled": true,
    "slideshow": {
     "slide_type": "fragment"
    }
   },
   "outputs": [],
   "source": [
    "%%time\n",
    "def simple_count(list):\n",
    "    D={}\n",
    "    for w in list:\n",
    "        if w in D.keys():\n",
    "            D[w]+=1\n",
    "        else:\n",
    "            D[w]=1\n",
    "    return D\n",
    "D=simple_count(all)"
   ]
  },
  {
   "cell_type": "markdown",
   "metadata": {},
   "source": [
    "While this takes a long time, it is **not** because of memory locality. Rather, it is simply because using `D.keys()` creates a long list before checking if `w` is in the list This can be easily fixed by replacing `D.keys()` by `D`."
   ]
  },
  {
   "cell_type": "code",
   "execution_count": null,
   "metadata": {
    "collapsed": false
   },
   "outputs": [],
   "source": [
    "%%time\n",
    "def simple_count(list):\n",
    "    D={}\n",
    "    for w in list:\n",
    "        if w in D:\n",
    "            D[w]+=1\n",
    "        else:\n",
    "            D[w]=1\n",
    "    return D\n",
    "D=simple_count(all)"
   ]
  },
  {
   "cell_type": "markdown",
   "metadata": {},
   "source": [
    "#### List the 10 most common words"
   ]
  },
  {
   "cell_type": "code",
   "execution_count": null,
   "metadata": {
    "collapsed": false,
    "deletable": true,
    "editable": true,
    "run_control": {
     "frozen": false,
     "read_only": false
    },
    "slideshow": {
     "slide_type": "fragment"
    }
   },
   "outputs": [],
   "source": [
    "S=sorted(D.items(),key=lambda d:d[1],reverse=True)\n",
    "S[:10]"
   ]
  },
  {
   "cell_type": "markdown",
   "metadata": {
    "deletable": true,
    "editable": true,
    "run_control": {
     "frozen": false,
     "read_only": false
    },
    "slideshow": {
     "slide_type": "slide"
    }
   },
   "source": [
    "### Sorted count\n",
    "Next we show a different way to count. Sort the words alphabetically. Then, when we iterate through the sorted list, all of the occurances of any word appear consecutively, allowing us to quickly count them using just one counter. This counter is added to the dictionary when this element of the list is different than the previous one."
   ]
  },
  {
   "cell_type": "code",
   "execution_count": null,
   "metadata": {
    "collapsed": false,
    "deletable": true,
    "editable": true,
    "run_control": {
     "frozen": false,
     "read_only": false
    },
    "slideshow": {
     "slide_type": "subslide"
    }
   },
   "outputs": [],
   "source": [
    "%%time\n",
    "def sort_count(list):\n",
    "    S=sorted(list)\n",
    "    D={}\n",
    "    current=''\n",
    "    count=0\n",
    "    for w in S:\n",
    "        if current==w:\n",
    "            count+=1\n",
    "        else:\n",
    "            if current!='':\n",
    "                D[current]=count\n",
    "            count=1\n",
    "            current=w\n",
    "    return D\n",
    "D=sort_count(all)"
   ]
  },
  {
   "cell_type": "markdown",
   "metadata": {
    "deletable": true,
    "editable": true,
    "run_control": {
     "frozen": false,
     "read_only": false
    },
    "slideshow": {
     "slide_type": "slide"
    }
   },
   "source": [
    "### The effect of memory layout\n",
    "\n",
    "[numpy arrays](https://docs.scipy.org/doc/numpy/reference/generated/numpy.array.html#numpy-array) are, by default, organized in a row-major order.\n",
    "\n",
    "\n",
    "We now run the three counting methods: `simple`, `sort` and `counter` on lists of different length and then plot the performances on a log-log scale.\n",
    "\n",
    "Why do we use log-log graphs?\n",
    "1. Because it makes visible the performance across several orders of magnitude.\n",
    "2. Because if the relationship between the list length $n$ and the run time $t$ is of the form $t=n^\\alpha$ then the relationship between $t$ and $n$ on the log-log scale appears linear, with a slope of $\\alpha$."
   ]
  },
  {
   "cell_type": "code",
   "execution_count": 28,
   "metadata": {
    "collapsed": false
   },
   "outputs": [],
   "source": [
    "n=1000\n",
    "a=np.ones([n,n])"
   ]
  },
  {
   "cell_type": "code",
   "execution_count": 29,
   "metadata": {
    "collapsed": false
   },
   "outputs": [
    {
     "name": "stdout",
     "output_type": "stream",
     "text": [
      "CPU times: user 11.9 ms, sys: 1.18 ms, total: 13.1 ms\n",
      "Wall time: 11.8 ms\n"
     ]
    }
   ],
   "source": [
    "%%time\n",
    "s=0;\n",
    "for i in range(n):\n",
    "    s+=a[:,i]"
   ]
  },
  {
   "cell_type": "code",
   "execution_count": 30,
   "metadata": {
    "collapsed": false,
    "scrolled": true
   },
   "outputs": [
    {
     "name": "stdout",
     "output_type": "stream",
     "text": [
      "CPU times: user 2.58 ms, sys: 1.04 ms, total: 3.62 ms\n",
      "Wall time: 2.61 ms\n"
     ]
    }
   ],
   "source": [
    "%%time\n",
    "s=0;\n",
    "for i in range(n):\n",
    "    s+=a[i,:]"
   ]
  },
  {
   "cell_type": "code",
   "execution_count": 46,
   "metadata": {
    "collapsed": false,
    "scrolled": true
   },
   "outputs": [
    {
     "name": "stdout",
     "output_type": "stream",
     "text": [
      "10 3.71932983398e-05 0.000115871429443 3.11538461538\n",
      "15 4.10079956055e-05 9.60826873779e-05 2.34302325581\n",
      "25 0.000245094299316 0.000143051147461 0.583657587549\n",
      "39 9.79900360107e-05 0.000207901000977 2.12165450122\n",
      "63 0.000185012817383 0.000332117080688 1.79510309278\n",
      "99 0.000257968902588 0.000529050827026 2.05083179298\n",
      "158 0.000391006469727 0.000741004943848 1.89512195122\n",
      "251 0.000514030456543 0.00108289718628 2.10667903525\n",
      "398 0.000589847564697 0.00259399414062 4.39773645918\n",
      "630 0.000982999801636 0.0080349445343 8.17390249818\n",
      "999 0.00161790847778 0.0119349956512 7.37680518715\n",
      "1584 0.0035560131073 0.026046037674 7.32450553134\n",
      "2511 0.00642609596252 0.0739319324493 11.5049530664\n",
      "3981 0.0134539604187 0.206027030945 15.3134857345\n",
      "6309 0.0305621623993 0.470449924469 15.3932146005\n",
      "9999 0.0772089958191 1.43403196335 18.5733792822\n",
      "15848 0.206609010696 4.27006697655 20.6673801987\n",
      "25118 0.526142120361 12.8555328846 24.4335748595\n"
     ]
    }
   ],
   "source": [
    "from time import time\n",
    "times=[]\n",
    "for e in arange(1,4.51,0.2):\n",
    "    n=int(10**e)\n",
    "    a=np.ones([n,n])\n",
    "    t0=time()\n",
    "    s=0;\n",
    "    for i in range(n):\n",
    "        s+=a[:,i]\n",
    "    t1=time()\n",
    "    s=0;\n",
    "    for i in range(n):\n",
    "        s+=a[i,:]\n",
    "    t2=time()\n",
    "    times.append({'n':n,'row minor':t1-t0,'row major':t2-t1})\n",
    "    print n,t2-t1,t1-t0,(t1-t0)/(t2-t1)\n"
   ]
  },
  {
   "cell_type": "code",
   "execution_count": 50,
   "metadata": {
    "collapsed": false
   },
   "outputs": [
    {
     "data": {
      "text/plain": [
       "<matplotlib.text.Text at 0x11595c550>"
      ]
     },
     "execution_count": 50,
     "metadata": {},
     "output_type": "execute_result"
    },
    {
     "data": {
      "image/png": "[encoded data removed]",
      "text/plain": [
       "<matplotlib.figure.Figure at 0x1107ea610>"
      ]
     },
     "metadata": {},
     "output_type": "display_data"
    }
   ],
   "source": [
    "n_list=[a['n'] for a in times]\n",
    "ratios=[a['row minor']/a['row major'] for a in times]\n",
    "plot(n_list,ratios)\n",
    "grid()\n",
    "xlabel('n')\n",
    "ylabel('ratio or running times')\n",
    "title('time ratio as a function of size of array')"
   ]
  },
  {
   "cell_type": "markdown",
   "metadata": {
    "deletable": true,
    "editable": true,
    "run_control": {
     "frozen": false,
     "read_only": false
    },
    "slideshow": {
     "slide_type": "subslide"
    }
   },
   "source": [
    "### Conclusions\n",
    "We see from the graph that `sort` and `counter` have very similar run times, and are both better than `simple`. The gap between `sort` and `simple` increases as the length of the list increases. This makes sense because the longer the list, the higher the frequency of cache misses.\n",
    "\n",
    "We also see that while for `sort` and `counter` the relationship is approximately linear $t \\approx n$. The relation for `simple` is of the form $t \\approx n^{1.5}$"
   ]
  },
  {
   "cell_type": "markdown",
   "metadata": {
    "collapsed": true,
    "deletable": true,
    "editable": true,
    "run_control": {
     "frozen": false,
     "read_only": false
    }
   },
   "source": [
    "## Teacher Stuff"
   ]
  },
  {
   "cell_type": "code",
   "execution_count": null,
   "metadata": {
    "collapsed": true,
    "deletable": true,
    "editable": true,
    "run_control": {
     "frozen": false,
     "read_only": false
    }
   },
   "outputs": [],
   "source": [
    "import os\n",
    "import sys\n",
    "testPath = '/'.join(os.getcwd().split('/')[:-1]) + \"/Tester\"\n",
    "sys.path.insert(0, testPath )\n",
    "pickleFile = testPath+ \"/SimpleCount.pkl\"\n",
    "import SimpleCount_MASTER"
   ]
  },
  {
   "cell_type": "code",
   "execution_count": null,
   "metadata": {
    "collapsed": false,
    "deletable": true,
    "editable": true,
    "run_control": {
     "frozen": false,
     "read_only": false
    }
   },
   "outputs": [],
   "source": [
    "SimpleCount_MASTER.gen_exercise0_1(pickleFile)\n",
    "SimpleCount_MASTER.gen_exercise0_2(pickleFile)\n",
    "SimpleCount_MASTER.gen_exercise0_3(pickleFile)\n",
    "SimpleCount_MASTER.gen_exercise0_4(pickleFile)"
   ]
  },
  {
   "cell_type": "code",
   "execution_count": null,
   "metadata": {
    "collapsed": false,
    "deletable": true,
    "editable": true,
    "run_control": {
     "frozen": false,
     "read_only": false
    }
   },
   "outputs": [],
   "source": [
    "SimpleCount_MASTER.exercise0_1(pickleFile, SimpleCount_MASTER.func_ex0_1)\n",
    "SimpleCount_MASTER.exercise0_2(pickleFile, SimpleCount_MASTER.func_ex0_2)\n",
    "SimpleCount_MASTER.exercise0_3(pickleFile, SimpleCount_MASTER.func_ex0_3)\n",
    "SimpleCount_MASTER.exercise0_4(pickleFile, SimpleCount_MASTER.func_ex0_4)"
   ]
  },
  {
   "cell_type": "code",
   "execution_count": null,
   "metadata": {
    "collapsed": false,
    "deletable": true,
    "editable": true,
    "run_control": {
     "frozen": false,
     "read_only": false
    }
   },
   "outputs": [],
   "source": [
    "SimpleCount.exercise0_1(pickleFile, SimpleCount_MASTER.func_ex0_1)\n",
    "SimpleCount.exercise0_2(pickleFile, SimpleCount_MASTER.func_ex0_2)\n",
    "SimpleCount.exercise0_3(pickleFile, SimpleCount_MASTER.func_ex0_3)\n",
    "SimpleCount.exercise0_4(pickleFile, SimpleCount_MASTER.func_ex0_4)"
   ]
  },
  {
   "cell_type": "markdown",
   "metadata": {
    "deletable": true,
    "editable": true,
    "heading_collapsed": true,
    "run_control": {
     "frozen": false,
     "read_only": false
    }
   },
   "source": [
    "### End of Teacher Stuff"
   ]
  },
  {
   "cell_type": "markdown",
   "metadata": {
    "deletable": true,
    "editable": true,
    "run_control": {
     "frozen": false,
     "read_only": false
    }
   },
   "source": [
    "## Exercise 1 \n",
    "\n",
    "A `k`-mer is a sequence of `k` consecutive words. \n",
    "\n",
    "For example, the `3`-mers in the line `you are my sunshine my only sunshine` are\n",
    "\n",
    "* `you are my`\n",
    "* `are my sunshine`\n",
    "* `my sunshine my`\n",
    "* `sunshine my only`\n",
    "* `my only sunsine`\n",
    "\n",
    "For the sake of simplicity we consider only the `k`-mers that appear in a single line. In other words, we ignore `k`-mers that span more than one line.\n",
    "\n",
    "Write a function **compute_kmers**, to return the list of `k`-mers in a given text for a given `k`.\n",
    "\n",
    "######  <span style=\"color:blue\">Code:</span>\n",
    "```python\n",
    "text = ['you are my sunshine my only sunshine']\n",
    "compute_kmers(text,3)\n",
    "```\n",
    "######  <span style=\"color:magenta\">Output:</span>\n",
    "['you are my', 'are my sunshine', 'my sunshine my', 'sunshine my only', 'my only sunsine']"
   ]
  },
  {
   "cell_type": "code",
   "execution_count": null,
   "metadata": {
    "collapsed": false,
    "deletable": true,
    "editable": true,
    "run_control": {
     "frozen": false,
     "read_only": false
    }
   },
   "outputs": [],
   "source": [
    "def compute_kmers(text,k):\n",
    "    kmers = []\n",
    "    # your implementation goes here\n",
    "    return kmers"
   ]
  },
  {
   "cell_type": "code",
   "execution_count": null,
   "metadata": {
    "collapsed": false,
    "deletable": true,
    "editable": true,
    "nbgrader": {
     "grade": true,
     "grade_id": "ex1",
     "locked": true,
     "points": 1,
     "schema_version": 1,
     "solution": false
    },
    "run_control": {
     "frozen": false,
     "read_only": false
    }
   },
   "outputs": [],
   "source": [
    "import SimpleCount\n",
    "SimpleCount.exercise0_1(pickleFile, compute_kmers)"
   ]
  },
  {
   "cell_type": "code",
   "execution_count": null,
   "metadata": {
    "collapsed": false,
    "deletable": true,
    "editable": true,
    "run_control": {
     "frozen": false,
     "read_only": false
    }
   },
   "outputs": [],
   "source": [
    "# %load ../Tester/SimpleCount.py\n",
    "import pickle\n",
    "\n",
    "from basic_tester import *\n",
    "\n",
    "def exercise0_1(pickleFile, func_student):\n",
    "    checkExerciseFromPickle(pickleFile, func_student,TestList,'ex0_1', multiInputs=True)\n",
    "    \n",
    "def exercise0_2(pickleFile, func_student):\n",
    "    checkExerciseFromPickle(pickleFile, func_student,TestList,'ex0_2')\n",
    "    \n",
    "def exercise0_3(pickleFile, func_student):\n",
    "    checkExerciseFromPickle(pickleFile, func_student,TestList,'ex0_3')\n",
    "    \n",
    "def exercise0_4(pickleFile, func_student):\n",
    "    checkExerciseFromPickle(pickleFile, func_student,TestList,'ex0_4', multiInputs=True)\n"
   ]
  },
  {
   "cell_type": "markdown",
   "metadata": {
    "deletable": true,
    "editable": true,
    "run_control": {
     "frozen": false,
     "read_only": false
    }
   },
   "source": [
    "## Exercise 2\n",
    "\n",
    "Given a list of k-mers, write a function **count_kmers**, to return the dictionary with key as `k`-mer and value as the number of times it has occurred (the count) in the input list.\n",
    "\n",
    "######  <span style=\"color:blue\">Code:</span>\n",
    "```python\n",
    "kmers = ['you are my', 'are my sunshine', 'my sunshine my', 'sunshine my only', 'my only sunshine']\n",
    "count_kmers(kmers)\n",
    "```\n",
    "######  <span style=\"color:magenta\">Output:</span>\n",
    "\n",
    "{'you are my' : 1, 'are my sunshine' : 1, 'my sunshine my' : 1, 'sunshine my only' : 1, 'my only sunsine' : 1}"
   ]
  },
  {
   "cell_type": "code",
   "execution_count": null,
   "metadata": {
    "collapsed": true,
    "deletable": true,
    "editable": true,
    "run_control": {
     "frozen": false,
     "read_only": false
    }
   },
   "outputs": [],
   "source": [
    "def count_kmers(kmers):\n",
    "    kmers_count = dict()\n",
    "    # your implementation goes here \n",
    "    return kmers_count"
   ]
  },
  {
   "cell_type": "code",
   "execution_count": null,
   "metadata": {
    "collapsed": false,
    "deletable": true,
    "editable": true,
    "nbgrader": {
     "grade": true,
     "grade_id": "ex2",
     "locked": true,
     "points": 1,
     "schema_version": 1,
     "solution": false
    },
    "run_control": {
     "frozen": false,
     "read_only": false
    }
   },
   "outputs": [],
   "source": [
    "import SimpleCount\n",
    "SimpleCount.exercise0_2(pickleFile, count_kmers)"
   ]
  },
  {
   "cell_type": "markdown",
   "metadata": {
    "deletable": true,
    "editable": true,
    "run_control": {
     "frozen": false,
     "read_only": false
    }
   },
   "source": [
    "## Exercise 3 \n",
    "\n",
    "Given the dictionary of k-mer counts from exercise 2, write a function **sort_counts**, to sort the k-mers in descending order by its count. Return a list of tuples. \n",
    "\n",
    "* `Each tuple is of the form (kmer, count).`\n",
    "* `If two k-mers have same count, then sort them lexicographically.`\n",
    "    \n",
    "######  <span style=\"color:blue\">Code:</span>\n",
    "```python\n",
    "kmers_counts =  {'you are my' : 1, 'are my sunshine' : 1, 'my sunshine my' : 1, 'sunshine my only' : 1, 'my only sunsine' : 1}\n",
    "sort_counts(kmers_counts)\n",
    "```\n",
    "######  <span style=\"color:magenta\">Output:</span>\n",
    "[('are my sunshine', 1) , ('my only sunsine' , 1) , ('my sunshine my', 1), ('sunshine my only', 1) , ('you are my', 1)]"
   ]
  },
  {
   "cell_type": "code",
   "execution_count": null,
   "metadata": {
    "collapsed": true,
    "deletable": true,
    "editable": true,
    "run_control": {
     "frozen": false,
     "read_only": false
    }
   },
   "outputs": [],
   "source": [
    "def sort_counts(kmers_counts):\n",
    "    sorted_counts = []\n",
    "    # your implementation goes here\n",
    "    return sorted_counts"
   ]
  },
  {
   "cell_type": "code",
   "execution_count": null,
   "metadata": {
    "collapsed": false,
    "deletable": true,
    "editable": true,
    "nbgrader": {
     "grade": true,
     "grade_id": "ex3",
     "locked": true,
     "points": 1,
     "schema_version": 1,
     "solution": false
    },
    "run_control": {
     "frozen": false,
     "read_only": false
    }
   },
   "outputs": [],
   "source": [
    "import SimpleCount\n",
    "SimpleCount.exercise0_3(pickleFile, sort_counts)"
   ]
  },
  {
   "cell_type": "markdown",
   "metadata": {
    "collapsed": true,
    "deletable": true,
    "editable": true,
    "run_control": {
     "frozen": false,
     "read_only": false
    }
   },
   "source": [
    "## Exercise 4 \n",
    "\n",
    "Given a list of lines, Write a function, to return the list of tuples containing top `n` k-mers with its count from the given text for a given n, k.\n",
    "\n",
    "\n",
    "######  <span style=\"color:blue\">Code:</span>\n",
    "```python\n",
    "n=2\n",
    "k=3\n",
    "text = ['you are my sunshine my only sunsine']\n",
    "get_top_n_kmers(text,n,k)\n",
    "```\n",
    "######  <span style=\"color:magenta\">Output:</span>\n",
    "    [('are my sunshine', 1) , ('my only sunsine' , 1)]"
   ]
  },
  {
   "cell_type": "code",
   "execution_count": null,
   "metadata": {
    "collapsed": true,
    "deletable": true,
    "editable": true,
    "run_control": {
     "frozen": false,
     "read_only": false
    }
   },
   "outputs": [],
   "source": [
    "def get_top_n_kmers(text,n,k):\n",
    "    kmers = compute_kmers(text,k)\n",
    "    kmers_count = count_kmers(kmers)\n",
    "    sorted_counts = sort_counts(kmers_count)\n",
    "    #SOLUTION BEGINS\n",
    "    top_n_kmers = []\n",
    "    #SOLUTION ENDS\n",
    "    print 'most common %d-mers\\n'%k,'\\n'.join(['%d:\\t%s'%c for c in top_n_kmers])\n",
    "    return top_n_kmers"
   ]
  },
  {
   "cell_type": "code",
   "execution_count": null,
   "metadata": {
    "collapsed": false,
    "deletable": true,
    "editable": true,
    "nbgrader": {
     "grade": true,
     "grade_id": "ex4",
     "locked": true,
     "points": 1,
     "schema_version": 1,
     "solution": false
    },
    "run_control": {
     "frozen": false,
     "read_only": false
    }
   },
   "outputs": [],
   "source": [
    "import SimpleCount\n",
    "SimpleCount.exercise0_4(pickleFile, get_top_n_kmers)"
   ]
  }
 ],
 "metadata": {
  "anaconda-cloud": {},
  "celltoolbar": "Create Assignment",
  "hide_input": false,
  "kernelspec": {
   "display_name": "Python [default]",
   "language": "python",
   "name": "python2"
  },
  "language_info": {
   "codemirror_mode": {
    "name": "ipython",
    "version": 2
   },
   "file_extension": ".py",
   "mimetype": "text/x-python",
   "name": "python",
   "nbconvert_exporter": "python",
   "pygments_lexer": "ipython2",
   "version": "2.7.13"
  },
  "toc": {
   "colors": {
    "hover_highlight": "#DAA520",
    "running_highlight": "#FF0000",
    "selected_highlight": "#FFD700"
   },
   "moveMenuLeft": true,
   "nav_menu": {
    "height": "190px",
    "width": "252px"
   },
   "navigate_menu": true,
   "number_sections": true,
   "sideBar": true,
   "threshold": 4,
   "toc_cell": false,
   "toc_section_display": "block",
   "toc_window_display": false
  }
 },
 "nbformat": 4,
 "nbformat_minor": 0
}
