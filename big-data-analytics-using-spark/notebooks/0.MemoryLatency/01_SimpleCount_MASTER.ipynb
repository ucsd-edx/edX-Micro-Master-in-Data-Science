{
 "cells": [
  {
   "cell_type": "markdown",
   "metadata": {
    "deletable": true,
    "editable": true,
    "run_control": {
     "frozen": false,
     "read_only": false
    },
    "slideshow": {
     "slide_type": "slide"
    }
   },
   "source": [
    "## Two ways to count words\n",
    "This notebook demonstrates two ways of counting words in a long text. A previous version of this notebook was based on the incorrect assumption that one of these methods is always faster. After correcting a bug, simple count is faster than Sort& Count.\n",
    "\n",
    "However, Sort and count is still relevant - it is faster when the text is too large to fit into a single machine. We will visit it again in a few classes when we use Map-Reduce in Spark to perform the same task.\n",
    "\n",
    "This notebook can be run without spark, using just Jupyter.\n",
    "\n",
    "### The task\n",
    "\n",
    "We are given a text file, here we are using Moby Dick by Herman Melville which can be downloaded from [here](http://faculty.washington.edu/stepp/courses/2004autumn/tcss143/lectures/files/2004-11-08/mobydick.txt).\n",
    "\n",
    "Our task is to read the file, separate it into words, make all words lower-case, and count the number of occurances of each word."
   ]
  },
  {
   "cell_type": "code",
   "execution_count": null,
   "metadata": {
    "collapsed": false,
    "deletable": true,
    "editable": true,
    "run_control": {
     "frozen": false,
     "read_only": false
    },
    "slideshow": {
     "slide_type": "skip"
    }
   },
   "outputs": [],
   "source": [
    "from string import lower,strip\n",
    "import re\n",
    "%pylab inline"
   ]
  },
  {
   "cell_type": "markdown",
   "metadata": {
    "deletable": true,
    "editable": true,
    "run_control": {
     "frozen": false,
     "read_only": false
    },
    "slideshow": {
     "slide_type": "skip"
    }
   },
   "source": [
    "### Reading in the file\n",
    "We read in the file, split it into words and create a list called `all` which contains all of the words in the document"
   ]
  },
  {
   "cell_type": "code",
   "execution_count": null,
   "metadata": {
    "collapsed": false,
    "deletable": true,
    "editable": true,
    "run_control": {
     "frozen": false,
     "read_only": false
    }
   },
   "outputs": [],
   "source": [
    "%%time\n",
    "import urllib\n",
    "data_dir='../../Data'\n",
    "filename='Moby-Dick.txt'\n",
    "\n",
    "f = urllib.urlretrieve(\"https://mas-dse-open.s3.amazonaws.com/\"+filename, data_dir+'/'+filename)\n",
    "\n",
    "# Check that the text file is where we expect it to be\n",
    "!ls -l $data_dir/$filename"
   ]
  },
  {
   "cell_type": "code",
   "execution_count": null,
   "metadata": {
    "collapsed": false,
    "deletable": true,
    "editable": true,
    "run_control": {
     "frozen": false,
     "read_only": false
    },
    "slideshow": {
     "slide_type": "skip"
    }
   },
   "outputs": [],
   "source": [
    "#%%time\n",
    "file=open(data_dir+'/'+filename,'r')\n",
    "\n",
    "all=[]\n",
    "for line in file.readlines():\n",
    "    line=lower(strip(line))\n",
    "    if len(line)==0:\n",
    "        continue\n",
    "    words=[w for w in re.split(r'\\W+',line) if len(w)>0]\n",
    "    #print line, words\n",
    "    all+=words\n",
    "print 'the book contains',len(all),'words'"
   ]
  },
  {
   "cell_type": "markdown",
   "metadata": {
    "deletable": true,
    "editable": true,
    "run_control": {
     "frozen": false,
     "read_only": false
    },
    "slideshow": {
     "slide_type": "slide"
    }
   },
   "source": [
    "### Simple Count\n",
    "First, lets try counting words using the most straight-forward approach.\n",
    "We create a dictionary `D` and then go through the list of words `all`. For each word we increment the corresponding entry in `D` if the word exists as a key in the dictionary, if it is not in the dictionary, we add it to the dictionary"
   ]
  },
  {
   "cell_type": "code",
   "execution_count": null,
   "metadata": {
    "collapsed": false,
    "deletable": true,
    "editable": true,
    "run_control": {
     "frozen": false,
     "read_only": false
    }
   },
   "outputs": [],
   "source": [
    "%%time\n",
    "def simple_count(list):\n",
    "    D={}\n",
    "    for w in list:\n",
    "        if w in D:\n",
    "            D[w]+=1\n",
    "        else:\n",
    "            D[w]=1\n",
    "    return D\n",
    "D=simple_count(all)"
   ]
  },
  {
   "cell_type": "markdown",
   "metadata": {
    "deletable": true,
    "editable": true,
    "run_control": {
     "frozen": false,
     "read_only": false
    }
   },
   "source": [
    "#### List the 10 most common words"
   ]
  },
  {
   "cell_type": "code",
   "execution_count": null,
   "metadata": {
    "collapsed": false,
    "deletable": true,
    "editable": true,
    "run_control": {
     "frozen": false,
     "read_only": false
    },
    "slideshow": {
     "slide_type": "fragment"
    }
   },
   "outputs": [],
   "source": [
    "S=sorted(D.items(),key=lambda d:d[1],reverse=True)\n",
    "S[:10]"
   ]
  },
  {
   "cell_type": "markdown",
   "metadata": {
    "deletable": true,
    "editable": true,
    "run_control": {
     "frozen": false,
     "read_only": false
    },
    "slideshow": {
     "slide_type": "slide"
    }
   },
   "source": [
    "### Sorted count\n",
    "Next we show a different way to count. Sort the words alphabetically. Then, when we iterate through the sorted list, all of the occurances of any word appear consecutively, allowing us to count the number of occurances of one word at a time. This counter is added to the dictionary when this element of the list is different than the previous one."
   ]
  },
  {
   "cell_type": "code",
   "execution_count": null,
   "metadata": {
    "collapsed": false,
    "deletable": true,
    "editable": true,
    "run_control": {
     "frozen": false,
     "read_only": false
    },
    "slideshow": {
     "slide_type": "subslide"
    }
   },
   "outputs": [],
   "source": [
    "%%time\n",
    "from time import time\n",
    "def sort_count(list):\n",
    "    t0=time()\n",
    "    S=sorted(list)\n",
    "    t1=time()\n",
    "    D={}\n",
    "    current=''\n",
    "    count=0\n",
    "    for w in S:\n",
    "        if current==w:\n",
    "            count+=1\n",
    "        else:\n",
    "            if current!='':\n",
    "                D[current]=count\n",
    "            count=1\n",
    "            current=w\n",
    "    t2=time()\n",
    "    return D,t1-t0,t2-t1\n",
    "D,sort_time,count_time=sort_count(all)\n",
    "print 'sort time= %5.1f ms, count time=%5.1f ms'%(1000*sort_time,1000*count_time)"
   ]
  },
  {
   "cell_type": "markdown",
   "metadata": {
    "deletable": true,
    "editable": true,
    "run_control": {
     "frozen": false,
     "read_only": false
    },
    "slideshow": {
     "slide_type": "subslide"
    }
   },
   "source": [
    "### Conclusions\n",
    "We have showed and compared two methods for counting workds: simple count and sorted count. Counting is slightly faster after sorting, however, for this size data, the sort time erases the advantage.\n",
    "\n",
    "With larger text, especially text that that is too large to fit in the memory of one machine, the advantage of sorting before counting becomes dominant."
   ]
  },
  {
   "cell_type": "markdown",
   "metadata": {
    "collapsed": true,
    "deletable": true,
    "editable": true,
    "run_control": {
     "frozen": false,
     "read_only": false
    }
   },
   "source": [
    "## Teacher Stuff"
   ]
  },
  {
   "cell_type": "code",
   "execution_count": null,
   "metadata": {
    "collapsed": true,
    "deletable": true,
    "editable": true,
    "run_control": {
     "frozen": false,
     "read_only": false
    }
   },
   "outputs": [],
   "source": [
    "import Tester.SimpleCount_MASTER as SimpleCount_MASTER\n",
    "import Tester.SimpleCount as SimpleCount\n",
    "pickleFile=\"Tester/SimpleCount.pkl\""
   ]
  },
  {
   "cell_type": "code",
   "execution_count": null,
   "metadata": {
    "collapsed": false,
    "deletable": true,
    "editable": true,
    "run_control": {
     "frozen": false,
     "read_only": false
    }
   },
   "outputs": [],
   "source": [
    "SimpleCount_MASTER.gen_exercise0_1(pickleFile)\n",
    "SimpleCount_MASTER.gen_exercise0_2(pickleFile)\n",
    "SimpleCount_MASTER.gen_exercise0_3(pickleFile)\n",
    "SimpleCount_MASTER.gen_exercise0_4(pickleFile)"
   ]
  },
  {
   "cell_type": "code",
   "execution_count": null,
   "metadata": {
    "collapsed": false,
    "deletable": true,
    "editable": true,
    "run_control": {
     "frozen": false,
     "read_only": false
    }
   },
   "outputs": [],
   "source": [
    "SimpleCount_MASTER.exercise0_1(\"Tester/SimpleCount.pkl\", SimpleCount_MASTER.func_ex0_1)\n",
    "SimpleCount_MASTER.exercise0_2(\"Tester/SimpleCount.pkl\", SimpleCount_MASTER.func_ex0_2)\n",
    "SimpleCount_MASTER.exercise0_3(\"Tester/SimpleCount.pkl\", SimpleCount_MASTER.func_ex0_3)\n",
    "SimpleCount_MASTER.exercise0_4(\"Tester/SimpleCount.pkl\", SimpleCount_MASTER.func_ex0_4)"
   ]
  },
  {
   "cell_type": "code",
   "execution_count": null,
   "metadata": {
    "collapsed": false,
    "deletable": true,
    "editable": true,
    "run_control": {
     "frozen": false,
     "read_only": false
    }
   },
   "outputs": [],
   "source": [
    "SimpleCount.exercise0_1(pickleFile, SimpleCount_MASTER.func_ex0_1)\n",
    "SimpleCount.exercise0_2(pickleFile, SimpleCount_MASTER.func_ex0_2)\n",
    "SimpleCount.exercise0_3(pickleFile, SimpleCount_MASTER.func_ex0_3)\n",
    "SimpleCount.exercise0_4(pickleFile, SimpleCount_MASTER.func_ex0_4)"
   ]
  },
  {
   "cell_type": "markdown",
   "metadata": {
    "deletable": true,
    "editable": true,
    "heading_collapsed": true,
    "run_control": {
     "frozen": false,
     "read_only": false
    }
   },
   "source": [
    "### End of Teacher Stuff"
   ]
  },
  {
   "cell_type": "markdown",
   "metadata": {
    "deletable": true,
    "editable": true,
    "run_control": {
     "frozen": false,
     "read_only": false
    }
   },
   "source": [
    "## Exercise 1 \n",
    "\n",
    "A `k`-mer is a sequence of `k` consecutive words. \n",
    "\n",
    "For example, the `3`-mers in the line `you are my sunshine my only sunshine` are\n",
    "\n",
    "* `you are my`\n",
    "* `are my sunshine`\n",
    "* `my sunshine my`\n",
    "* `sunshine my only`\n",
    "* `my only sunsine`\n",
    "\n",
    "For the sake of simplicity we consider only the `k`-mers that appear in a single line. In other words, we ignore `k`-mers that span more than one line.\n",
    "\n",
    "Write a function **compute_kmers**, to return the list of `k`-mers in a given text for a given `k`.\n",
    "\n",
    "######  <span style=\"color:blue\">Code:</span>\n",
    "```python\n",
    "text = ['you are my sunshine my only sunshine']\n",
    "compute_kmers(text,3)\n",
    "```\n",
    "######  <span style=\"color:magenta\">Output:</span>\n",
    "['you are my', 'are my sunshine', 'my sunshine my', 'sunshine my only', 'my only sunsine']"
   ]
  },
  {
   "cell_type": "code",
   "execution_count": null,
   "metadata": {
    "collapsed": false,
    "deletable": true,
    "editable": true,
    "run_control": {
     "frozen": false,
     "read_only": false
    }
   },
   "outputs": [],
   "source": [
    "def compute_kmers(text,k):\n",
    "    kmers = []\n",
    "    # your implementation goes here\n",
    "    return kmers"
   ]
  },
  {
   "cell_type": "code",
   "execution_count": null,
   "metadata": {
    "collapsed": false,
    "deletable": true,
    "editable": true,
    "nbgrader": {
     "grade": true,
     "grade_id": "ex1",
     "locked": true,
     "points": 1,
     "schema_version": 1,
     "solution": false
    },
    "run_control": {
     "frozen": false,
     "read_only": false
    }
   },
   "outputs": [],
   "source": [
    "import Tester.SimpleCount as SimpleCount\n",
    "SimpleCount.exercise0_1(pickleFile, compute_kmers)"
   ]
  },
  {
   "cell_type": "code",
   "execution_count": null,
   "metadata": {
    "collapsed": false,
    "deletable": true,
    "editable": true,
    "run_control": {
     "frozen": false,
     "read_only": false
    }
   },
   "outputs": [],
   "source": [
    "# %load ../Tester/SimpleCount.py\n",
    "import pickle\n",
    "\n",
    "from basic_tester import *\n",
    "\n",
    "def exercise0_1(pickleFile, func_student):\n",
    "    checkExerciseFromPickle(pickleFile, func_student,TestList,'ex0_1', multiInputs=True)\n",
    "    \n",
    "def exercise0_2(pickleFile, func_student):\n",
    "    checkExerciseFromPickle(pickleFile, func_student,TestList,'ex0_2')\n",
    "    \n",
    "def exercise0_3(pickleFile, func_student):\n",
    "    checkExerciseFromPickle(pickleFile, func_student,TestList,'ex0_3')\n",
    "    \n",
    "def exercise0_4(pickleFile, func_student):\n",
    "    checkExerciseFromPickle(pickleFile, func_student,TestList,'ex0_4', multiInputs=True)\n"
   ]
  },
  {
   "cell_type": "markdown",
   "metadata": {
    "deletable": true,
    "editable": true,
    "run_control": {
     "frozen": false,
     "read_only": false
    }
   },
   "source": [
    "## Exercise 2\n",
    "\n",
    "Given a list of k-mers, write a function **count_kmers**, to return the dictionary with key as `k`-mer and value as the number of times it has occurred (the count) in the input list.\n",
    "\n",
    "######  <span style=\"color:blue\">Code:</span>\n",
    "```python\n",
    "kmers = ['you are my', 'are my sunshine', 'my sunshine my', 'sunshine my only', 'my only sunshine']\n",
    "count_kmers(kmers)\n",
    "```\n",
    "######  <span style=\"color:magenta\">Output:</span>\n",
    "\n",
    "{'you are my' : 1, 'are my sunshine' : 1, 'my sunshine my' : 1, 'sunshine my only' : 1, 'my only sunsine' : 1}"
   ]
  },
  {
   "cell_type": "code",
   "execution_count": null,
   "metadata": {
    "collapsed": true,
    "deletable": true,
    "editable": true,
    "run_control": {
     "frozen": false,
     "read_only": false
    }
   },
   "outputs": [],
   "source": [
    "def count_kmers(kmers):\n",
    "    kmers_count = dict()\n",
    "    # your implementation goes here \n",
    "    return kmers_count"
   ]
  },
  {
   "cell_type": "code",
   "execution_count": null,
   "metadata": {
    "collapsed": false,
    "deletable": true,
    "editable": true,
    "nbgrader": {
     "grade": true,
     "grade_id": "ex2",
     "locked": true,
     "points": 1,
     "schema_version": 1,
     "solution": false
    },
    "run_control": {
     "frozen": false,
     "read_only": false
    }
   },
   "outputs": [],
   "source": [
    "import Tester.SimpleCount as SimpleCount\n",
    "SimpleCount.exercise0_2(pickleFile, count_kmers)"
   ]
  },
  {
   "cell_type": "markdown",
   "metadata": {
    "deletable": true,
    "editable": true,
    "run_control": {
     "frozen": false,
     "read_only": false
    }
   },
   "source": [
    "## Exercise 3 \n",
    "\n",
    "Given the dictionary of k-mer counts from exercise 2, write a function **sort_counts**, to sort the k-mers in descending order by its count. Return a list of tuples. \n",
    "\n",
    "* `Each tuple is of the form (kmer, count).`\n",
    "* `If two k-mers have same count, then sort them lexicographically.`\n",
    "    \n",
    "######  <span style=\"color:blue\">Code:</span>\n",
    "```python\n",
    "kmers_counts =  {'you are my' : 1, 'are my sunshine' : 1, 'my sunshine my' : 1, 'sunshine my only' : 1, 'my only sunsine' : 1}\n",
    "sort_counts(kmers_counts)\n",
    "```\n",
    "######  <span style=\"color:magenta\">Output:</span>\n",
    "[('are my sunshine', 1) , ('my only sunsine' , 1) , ('my sunshine my', 1), ('sunshine my only', 1) , ('you are my', 1)]"
   ]
  },
  {
   "cell_type": "code",
   "execution_count": null,
   "metadata": {
    "collapsed": true,
    "deletable": true,
    "editable": true,
    "run_control": {
     "frozen": false,
     "read_only": false
    }
   },
   "outputs": [],
   "source": [
    "def sort_counts(kmers_counts):\n",
    "    sorted_counts = []\n",
    "    # your implementation goes here\n",
    "    return sorted_counts"
   ]
  },
  {
   "cell_type": "code",
   "execution_count": null,
   "metadata": {
    "collapsed": false,
    "deletable": true,
    "editable": true,
    "nbgrader": {
     "grade": true,
     "grade_id": "ex3",
     "locked": true,
     "points": 1,
     "schema_version": 1,
     "solution": false
    },
    "run_control": {
     "frozen": false,
     "read_only": false
    }
   },
   "outputs": [],
   "source": [
    "import Tester.SimpleCount as SimpleCount\n",
    "SimpleCount.exercise0_3(pickleFile, sort_counts)"
   ]
  },
  {
   "cell_type": "markdown",
   "metadata": {
    "collapsed": true,
    "deletable": true,
    "editable": true,
    "run_control": {
     "frozen": false,
     "read_only": false
    }
   },
   "source": [
    "## Exercise 4 \n",
    "\n",
    "Given a list of lines, Write a function, to return the list of tuples containing top `n` k-mers with its count from the given text for a given n, k.\n",
    "\n",
    "\n",
    "######  <span style=\"color:blue\">Code:</span>\n",
    "```python\n",
    "n=2\n",
    "k=3\n",
    "text = ['you are my sunshine my only sunsine']\n",
    "get_top_n_kmers(text,n,k)\n",
    "```\n",
    "######  <span style=\"color:magenta\">Output:</span>\n",
    "    [('are my sunshine', 1) , ('my only sunsine' , 1)]"
   ]
  },
  {
   "cell_type": "code",
   "execution_count": null,
   "metadata": {
    "collapsed": true,
    "deletable": true,
    "editable": true,
    "run_control": {
     "frozen": false,
     "read_only": false
    }
   },
   "outputs": [],
   "source": [
    "def get_top_n_kmers(text,n,k):\n",
    "    kmers = compute_kmers(text,k)\n",
    "    kmers_count = count_kmers(kmers)\n",
    "    sorted_counts = sort_counts(kmers_count)\n",
    "    #SOLUTION BEGINS\n",
    "    top_n_kmers = []\n",
    "    #SOLUTION ENDS\n",
    "    print 'most common %d-mers\\n'%k,'\\n'.join(['%d:\\t%s'%c for c in top_n_kmers])\n",
    "    return top_n_kmers"
   ]
  },
  {
   "cell_type": "code",
   "execution_count": null,
   "metadata": {
    "collapsed": false,
    "deletable": true,
    "editable": true,
    "nbgrader": {
     "grade": true,
     "grade_id": "ex4",
     "locked": true,
     "points": 1,
     "schema_version": 1,
     "solution": false
    },
    "run_control": {
     "frozen": false,
     "read_only": false
    }
   },
   "outputs": [],
   "source": [
    "import Tester.SimpleCount as SimpleCount\n",
    "SimpleCount.exercise0_4(pickleFile, get_top_n_kmers)"
   ]
  }
 ],
 "metadata": {
  "anaconda-cloud": {},
  "celltoolbar": "Create Assignment",
  "hide_input": false,
  "kernelspec": {
   "display_name": "Python 2",
   "language": "python",
   "name": "python2"
  },
  "language_info": {
   "codemirror_mode": {
    "name": "ipython",
    "version": 2
   },
   "file_extension": ".py",
   "mimetype": "text/x-python",
   "name": "python",
   "nbconvert_exporter": "python",
   "pygments_lexer": "ipython2",
   "version": "2.7.6"
  },
  "toc": {
   "colors": {
    "hover_highlight": "#DAA520",
    "running_highlight": "#FF0000",
    "selected_highlight": "#FFD700"
   },
   "moveMenuLeft": true,
   "nav_menu": {
    "height": "190px",
    "width": "252px"
   },
   "navigate_menu": true,
   "number_sections": true,
   "sideBar": true,
   "threshold": 4,
   "toc_cell": false,
   "toc_section_display": "block",
   "toc_window_display": false,
   "widenNotebook": false
  }
 },
 "nbformat": 4,
 "nbformat_minor": 0
}
