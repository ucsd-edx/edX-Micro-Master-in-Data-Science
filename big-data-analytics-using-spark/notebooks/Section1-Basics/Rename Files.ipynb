{
 "cells": [
  {
   "cell_type": "code",
   "execution_count": 21,
   "metadata": {},
   "outputs": [],
   "source": [
    "names=!ls -1 */*.ipynb"
   ]
  },
  {
   "cell_type": "code",
   "execution_count": 3,
   "metadata": {},
   "outputs": [],
   "source": [
    "names=\"\"\"\n",
    "0.MemoryLatency/01.1_Row_vs_Col_Major.ipynb\n",
    "0.MemoryLatency/01_SimpleCount_MASTER.ipynb\n",
    "0.MemoryLatency/02.5_measuring_performance_of_memory_blocks.ipynb\n",
    "0.MemoryLatency/02_measuring_performance_of_memory_hierarchy_MASTER.ipynb\n",
    "1.BasicSpark/1. Spark Basics 1_CLASS.ipynb\n",
    "1.BasicSpark/2. experiment changing the number of executors.ipynb\n",
    "1.BasicSpark/3. Execution plans, Lazy Evaluation, and caching.ipynb\n",
    "1.BasicSpark/3.5 Spark Basics 2_CLASS.ipynb\n",
    "1.BasicSpark/4. Word Count_CLASS.ipynb\n",
    "1.BasicSpark/5. (key,val) RDD operations.ipynb\n",
    "1.BasicSpark/6.Parsing large files.ipynb\n",
    "1.BasicSpark/HW:Co-linear points.ipynb\n",
    "2.SparkSQL/1.Spark SQL_HW.ipynb\n",
    "2.SparkSQL/1.SparkSQL.ipynb\n",
    "2.SparkSQL/2.SparkSQLDataFrameOperations.ipynb\n",
    "2.SparkSQL/3.S3_HDFS_Parquet.ipynb\n",
    "2.SparkSQL/More on spark.sql.ipynb\n",
    "\"\"\""
   ]
  },
  {
   "cell_type": "code",
   "execution_count": 24,
   "metadata": {},
   "outputs": [
    {
     "name": "stdout",
     "output_type": "stream",
     "text": [
      "!mv '0.MemoryLatency/1_Row_vs_Col_Major.ipynb'\t '0.MemoryLatency/1_Row_vs_Col_Major.ipynb'\n",
      "!mv '0.MemoryLatency/2_measuring_performance_of_memory_blocks.ipynb'\t '0.MemoryLatency/2_measuring_performance_of_memory_blocks.ipynb'\n",
      "!mv '0.MemoryLatency/3_measuring_performance_of_memory_hierarchy.ipynb'\t '0.MemoryLatency/3_measuring_performance_of_memory_hierarchy.ipynb'\n",
      "!mv '0.MemoryLatency/4_SimpleCount.ipynb'\t '0.MemoryLatency/4_SimpleCount.ipynb'\n",
      "!mv '1.BasicSpark/1. Spark Basics 1_CLASS.ipynb'\t '1.BasicSpark/1. Spark Basics 1_CLASS.ipynb'\n",
      "!mv '1.BasicSpark/2. experiment changing the number of executors.ipynb'\t '1.BasicSpark/2. experiment changing the number of executors.ipynb'\n",
      "!mv '1.BasicSpark/3. Execution plans, Lazy Evaluation, and caching.ipynb'\t '1.BasicSpark/3. Execution plans, Lazy Evaluation, and caching.ipynb'\n",
      "!mv '1.BasicSpark/3.5 Spark Basics 2_CLASS.ipynb'\t '1.BasicSpark/3.5 Spark Basics 2_CLASS.ipynb'\n",
      "!mv '1.BasicSpark/4. Word Count_CLASS.ipynb'\t '1.BasicSpark/4. Word Count_CLASS.ipynb'\n",
      "!mv '1.BasicSpark/5. (key,val) RDD operations.ipynb'\t '1.BasicSpark/5. (key,val) RDD operations.ipynb'\n",
      "!mv '1.BasicSpark/6.Parsing large files.ipynb'\t '1.BasicSpark/6.Parsing large files.ipynb'\n",
      "!mv '1.BasicSpark/HW:Co-linear points.ipynb'\t '1.BasicSpark/HW:Co-linear points.ipynb'\n",
      "!mv '2.SparkSQL/1.Spark SQL_HW.ipynb'\t '2.SparkSQL/1.Spark SQL_HW.ipynb'\n",
      "!mv '2.SparkSQL/1_SparkSQL.ipynb'\t '2.SparkSQL/1_SparkSQL.ipynb'\n",
      "!mv '2.SparkSQL/2_SparkSQLDataFrameOperations.ipynb'\t '2.SparkSQL/2_SparkSQLDataFrameOperations.ipynb'\n",
      "!mv '2.SparkSQL/3_S3_HDFS_Parquet.ipynb'\t '2.SparkSQL/3_S3_HDFS_Parquet.ipynb'\n",
      "!mv '2.SparkSQL/More on spark.sql.ipynb'\t '2.SparkSQL/More on spark.sql.ipynb'\n"
     ]
    }
   ],
   "source": [
    "for name in names:\n",
    "    print(\"!mv '\"+name+\"'\\t '\"+name+\"'\")"
   ]
  },
  {
   "cell_type": "code",
   "execution_count": 13,
   "metadata": {},
   "outputs": [
    {
     "name": "stdout",
     "output_type": "stream",
     "text": [
      "\u001b[34m0.MemoryLatency\u001b[m\u001b[m    \u001b[34m2.SparkSQL\u001b[m\u001b[m         README.md\r\n",
      "\u001b[34m1.BasicSpark\u001b[m\u001b[m       \u001b[34mHW\u001b[m\u001b[m                 Rename Files.ipynb\r\n"
     ]
    }
   ],
   "source": [
    "\n",
    "!mv '1.BasicSpark/1. Spark Basics 1_CLASS.ipynb'\t '1.BasicSpark/1. Spark Basics 1.ipynb'\n",
    "!mv '1.BasicSpark/2. experiment changing the number of executors.ipynb'\t '1.BasicSpark/2. experiment changing the number of executors.ipynb'\n",
    "!mv '1.BasicSpark/3. Execution plans, Lazy Evaluation, and caching.ipynb'\t '1.BasicSpark/3. Execution plans, Lazy Evaluation, and caching.ipynb'\n",
    "!mv '1.BasicSpark/3.5 Spark Basics 2_CLASS.ipynb'\t '1.BasicSpark/4 Spark Basics 2.ipynb'\n",
    "!mv '1.BasicSpark/4. Word Count_CLASS.ipynb'\t '1.BasicSpark/5.Word Count.ipynb'\n",
    "!mv '1.BasicSpark/5. (key,val) RDD operations.ipynb'\t '1.BasicSpark/5.(key,val) RDD operations.ipynb'\n",
    "!mv '1.BasicSpark/6.Parsing large files.ipynb'\t '1.BasicSpark/6.Parsing large files.ipynb'\n",
    "!mv '1.BasicSpark/HW:Co-linear points.ipynb'\t 'HW/HW:Co-linear points.ipynb'\n",
    "\n",
    "!mv '2.SparkSQL/1.Spark SQL_HW.ipynb'\t 'HW/1.Spark SQL_HW.ipynb'\n",
    "!mv '2.SparkSQL/1_SparkSQL.ipynb'\t '2.SparkSQL/1.SparkSQL.ipynb'\n",
    "!mv '2.SparkSQL/2_SparkSQLDataFrameOperations.ipynb'\t '2.SparkSQL/2.SparkSQLDataFrameOperations.ipynb'\n",
    "!mv '2.SparkSQL/3_S3_HDFS_Parquet.ipynb'\t '2.SparkSQL/3.S3_HDFS_Parquet.ipynb'\n",
    "!mv '2.SparkSQL/More on spark.sql.ipynb'\t '2.SparkSQL/4.More on spark.sql.ipynb'"
   ]
  },
  {
   "cell_type": "code",
   "execution_count": 17,
   "metadata": {},
   "outputs": [],
   "source": [
    "text=\\\n",
    "\"\"\"!mv 0.MemoryLatency/01.1_Row_vs_Col_Major.ipynb \t 0.MemoryLatency/1_Row_vs_Col_Major.ipynb\n",
    "!mv 0.MemoryLatency/01_SimpleCount_MASTER.ipynb \t 0.MemoryLatency/4_SimpleCount.ipynb\n",
    "!mv 0.MemoryLatency/02.5_measuring_performance_of_memory_blocks.ipynb \t 0.MemoryLatency/2_measuring_performance_of_memory_blocks.ipynb\n",
    "!mv 0.MemoryLatency/02_measuring_performance_of_memory_hierarchy_MASTER.ipynb \t 0.MemoryLatency/3_measuring_performance_of_memory_hierarchy.ipynb\n",
    "!mv 1.BasicSpark/1. Spark Basics 1_CLASS.ipynb \t 1.BasicSpark/1_Spark Basics 1.ipynb\n",
    "!mv 1.BasicSpark/2. experiment changing the number of executors.ipynb \t 1.BasicSpark/2_experiment changing the number of executors.ipynb\n",
    "!mv 1.BasicSpark/3. Execution plans, Lazy Evaluation, and caching.ipynb \t 1.BasicSpark/3_Execution plans, Lazy Evaluation, and caching.ipynb\n",
    "!mv 1.BasicSpark/3.5 Spark Basics 2_CLASS.ipynb \t 1.BasicSpark/4_Spark Basics 2_CLASS.ipynb\n",
    "!mv 1.BasicSpark/4. Word Count_CLASS.ipynb \t 1.BasicSpark/5. Word Count_CLASS.ipynb\n",
    "!mv 1.BasicSpark/5. (key,val) RDD operations.ipynb \t 1.BasicSpark/6. (key,val) RDD operations.ipynb\n",
    "!mv 1.BasicSpark/6.Parsing large files.ipynb \t 1.BasicSpark/7.Parsing large files.ipynb\n",
    "!mv 1.BasicSpark/HW:Co-linear points.ipynb \t HW/HW:Co-linear points.ipynb\n",
    "!mv 2.SparkSQL/1.Spark SQL_HW.ipynb \t HW/Spark SQL_HW.ipynb\n",
    "!mv 2.SparkSQL/1.SparkSQL.ipynb \t 2.SparkSQL/1_SparkSQL.ipynb\n",
    "!mv 2.SparkSQL/2.SparkSQLDataFrameOperations.ipynb \t 2.SparkSQL/2_SparkSQLDataFrameOperations.ipynb\n",
    "!mv 2.SparkSQL/3.S3_HDFS_Parquet.ipynb \t 2.SparkSQL/3_S3_HDFS_Parquet.ipynb\n",
    "!mv 2.SparkSQL/More on spark.sql.ipynb \t 2.SparkSQL/4_More on spark.sql.ipynb\n",
    "\"\"\""
   ]
  },
  {
   "cell_type": "code",
   "execution_count": 20,
   "metadata": {},
   "outputs": [
    {
     "name": "stdout",
     "output_type": "stream",
     "text": [
      "!mv 0.MemoryLatency/01.1_Row_vs_Col_Major.ipynb \t 0.MemoryLatency/1_Row_vs_Col_Major.ipynb\n",
      "!mv 0.MemoryLatency/01_SimpleCount_MASTER.ipynb \t 0.MemoryLatency/4_SimpleCount.ipynb\n",
      "!mv 0.MemoryLatency/02.5_measuring_performance_of_memory_blocks.ipynb \t 0.MemoryLatency/2_measuring_performance_of_memory_blocks.ipynb\n",
      "!mv 0.MemoryLatency/02_measuring_performance_of_memory_hierarchy_MASTER.ipynb \t 0.MemoryLatency/3_measuring_performance_of_memory_hierarchy.ipynb\n",
      "!mv 1.BasicSpark/1. Spark Basics 1_CLASS.ipynb \t 1.BasicSpark/1_Spark Basics 1.ipynb\n",
      "!mv 1.BasicSpark/2. experiment changing the number of executors.ipynb \t 1.BasicSpark/2_experiment changing the number of executors.ipynb\n",
      "!mv 1.BasicSpark/3. Execution plans, Lazy Evaluation, and caching.ipynb \t 1.BasicSpark/3_Execution plans, Lazy Evaluation, and caching.ipynb\n",
      "!mv 1.BasicSpark/3.5 Spark Basics 2_CLASS.ipynb \t 1.BasicSpark/4_Spark Basics 2_CLASS.ipynb\n",
      "!mv 1.BasicSpark/4. Word Count_CLASS.ipynb \t 1.BasicSpark/5. Word Count_CLASS.ipynb\n",
      "!mv 1.BasicSpark/5. (key,val) RDD operations.ipynb \t 1.BasicSpark/6. (key,val) RDD operations.ipynb\n",
      "!mv 1.BasicSpark/6.Parsing large files.ipynb \t 1.BasicSpark/7.Parsing large files.ipynb\n",
      "!mv 1.BasicSpark/HW:Co-linear points.ipynb \t HW/HW:Co-linear points.ipynb\n",
      "!mv 2.SparkSQL/1.Spark SQL_HW.ipynb \t HW/Spark SQL_HW.ipynb\n",
      "!mv 2.SparkSQL/1.SparkSQL.ipynb \t 2.SparkSQL/1_SparkSQL.ipynb\n",
      "!mv 2.SparkSQL/2.SparkSQLDataFrameOperations.ipynb \t 2.SparkSQL/2_SparkSQLDataFrameOperations.ipynb\n",
      "!mv 2.SparkSQL/3.S3_HDFS_Parquet.ipynb \t 2.SparkSQL/3_S3_HDFS_Parquet.ipynb\n",
      "!mv 2.SparkSQL/More on spark.sql.ipynb \t 2.SparkSQL/4_More on spark.sql.ipynb\n",
      "\n"
     ]
    }
   ],
   "source": [
    "for line in text.split('\\n'):\n",
    "    print(line)"
   ]
  },
  {
   "cell_type": "code",
   "execution_count": null,
   "metadata": {},
   "outputs": [],
   "source": []
  }
 ],
 "metadata": {
  "kernelspec": {
   "display_name": "Python 3",
   "language": "python",
   "name": "python3"
  },
  "language_info": {
   "codemirror_mode": {
    "name": "ipython",
    "version": 3
   },
   "file_extension": ".py",
   "mimetype": "text/x-python",
   "name": "python",
   "nbconvert_exporter": "python",
   "pygments_lexer": "ipython3",
   "version": "3.6.4"
  }
 },
 "nbformat": 4,
 "nbformat_minor": 2
}
