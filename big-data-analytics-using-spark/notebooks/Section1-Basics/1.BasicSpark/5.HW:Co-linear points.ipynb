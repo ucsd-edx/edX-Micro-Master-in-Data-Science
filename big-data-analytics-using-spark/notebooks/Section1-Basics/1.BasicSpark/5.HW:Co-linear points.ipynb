{
 "cells": [
  {
   "cell_type": "code",
   "execution_count": null,
   "metadata": {},
   "outputs": [],
   "source": [
    "%pylab inline"
   ]
  },
  {
   "cell_type": "markdown",
   "metadata": {},
   "source": [
    "### Create data\n",
    "1. Create $k$ random points in $[0,1]^2$\n",
    "2. Choose a pair of points and add 1-3 points random convex combinations.\n",
    "3. Repeat 2 $m$ times"
   ]
  },
  {
   "cell_type": "code",
   "execution_count": null,
   "metadata": {
    "scrolled": true
   },
   "outputs": [],
   "source": [
    "def makeData(k=10,l=10,m=3):\n",
    "    \"\"\" Create data \n",
    "    k: Number of points (+1 for same x)\n",
    "    l: Number of lines to create.\n",
    "    m: Number of points added along each line\n",
    "    \"\"\"\n",
    "\n",
    "    D=random.rand(2,k) #create k random points in [0,1]^2\n",
    "    new=copy(D[:,0:1]) # create a point that has the same x value as D[:,0]\n",
    "    new[1,0] +=2.\n",
    "    D=append(D,new,axis=1)\n",
    "\n",
    "    plot(D[0,:],D[1,:],'o');\n",
    "\n",
    "    for i in range(l):\n",
    "        if i==0:\n",
    "            i1,i2=0,k\n",
    "        else:\n",
    "            i1,i2=random.choice(k,2,replace=False)\n",
    "        #print(i1,i2)\n",
    "        P1=D[:,i1:i1+1]; P2=D[:,i2:i2+1]\n",
    "        for j in range(m):\n",
    "            alpha=random.rand()*2.-1. # choose a random number between 0 an 1\n",
    "            new=(P1+P2)/2.+alpha*(P1-P2)\n",
    "            D=append(D,new,axis=1)\n",
    "    plot(D[0,:],D[1,:],'.');\n",
    "    return D\n",
    "D=makeData()"
   ]
  },
  {
   "cell_type": "code",
   "execution_count": null,
   "metadata": {},
   "outputs": [],
   "source": [
    "with open('pair.csv','w') as file:\n",
    "    for i in range(D.shape[1]):\n",
    "        file.write(str(i)+','+','.join(['%6.5f'%a for a in D[:,i]])+'\\n')"
   ]
  },
  {
   "cell_type": "code",
   "execution_count": null,
   "metadata": {},
   "outputs": [],
   "source": [
    "!cat pair.csv"
   ]
  },
  {
   "cell_type": "markdown",
   "metadata": {},
   "source": [
    "### We compute the line parameters for each pair of points.\n",
    "Suppose the points are $(x_1,y_1)$ and $(x_2,y_2)$.\n",
    "\n",
    "* If $x_1=x_2$ this is a vertical line which we represent by $(x_1,nan)$\n",
    "* If $x_1 \\neq x_2$ then we use $(a,b)$ such that $ax_1+b=y_1$ and $a x_2 +b=y_2$. The solution to which is is $a=\\frac{y_1-y_2}{x_1-x_2}$, $b=y_1-a x_1$"
   ]
  },
  {
   "cell_type": "code",
   "execution_count": null,
   "metadata": {},
   "outputs": [],
   "source": [
    "Pairs=[]\n",
    "n=D.shape[1]\n",
    "for i in range(n):\n",
    "    for j in range(i+1,n):\n",
    "        Pairs.append(((i,j),tag(D[:,i],D[:,j])))\n",
    "\n",
    "sorted(Pairs,key=lambda x:x[1])[:5]"
   ]
  },
  {
   "cell_type": "markdown",
   "metadata": {},
   "source": [
    "## Homework starts here"
   ]
  },
  {
   "cell_type": "code",
   "execution_count": 1,
   "metadata": {},
   "outputs": [],
   "source": [
    "#start the SparkContext\n",
    "import findspark\n",
    "findspark.init()\n",
    "\n",
    "from pyspark import SparkContext\n",
    "sc = SparkContext(master=\"local[4]\")"
   ]
  },
  {
   "cell_type": "code",
   "execution_count": 10,
   "metadata": {},
   "outputs": [
    {
     "name": "stdout",
     "output_type": "stream",
     "text": [
      "Populating the interactive namespace from numpy and matplotlib\n"
     ]
    }
   ],
   "source": [
    "%pylab inline\n",
    "#find colinearity\n",
    "def tag(D1,D2):\n",
    "    accuracy=100000.\n",
    "    def R(x):\n",
    "        return int(x*accuracy)/accuracy\n",
    "\n",
    "    if D1[0]==D2[0]:  # vertical pair\n",
    "        return (R(D1[0]),)\n",
    "    else:\n",
    "        a=(D1[1]-D2[1])/(D1[0]-D2[0])\n",
    "        b=D1[1]-a*D1[0]\n",
    "        return (R(a),R(b))"
   ]
  },
  {
   "cell_type": "code",
   "execution_count": 22,
   "metadata": {},
   "outputs": [
    {
     "data": {
      "text/plain": [
       "array([[ 0.84184,  0.51706,  0.59582,  0.01834,  0.14702,  0.2151 ,\n",
       "         0.06942,  0.83893,  0.34951,  0.61493,  0.84184,  0.84184,\n",
       "         0.84184,  0.84184, -0.05143,  0.17133,  0.35284,  0.03523,\n",
       "         0.30268, -0.0391 ,  0.33707,  0.39554,  1.0177 ,  0.46878,\n",
       "         0.4459 ,  0.43612,  0.79172,  0.3703 ,  0.17938,  0.84285,\n",
       "         0.20046, -0.09739,  0.75732,  0.71945,  0.86425,  0.63405,\n",
       "         1.03965,  0.67218,  1.0334 ,  0.24086,  0.9913 ],\n",
       "       [ 0.14094,  0.31061,  0.46705,  0.92761,  0.98446,  0.39748,\n",
       "         0.91819,  0.9186 ,  0.38945,  0.47249,  2.14094,  1.72425,\n",
       "         1.61211, -0.56062,  1.21325,  0.95644,  0.74717,  0.88212,\n",
       "         0.16152,  1.08239,  0.376  ,  0.43921,  1.11188,  0.33333,\n",
       "         0.34409,  0.3487 ,  0.24121,  0.72705,  0.94715,  0.25534,\n",
       "         0.80589,  1.06115,  0.75607,  0.68065,  0.96902,  0.35003,\n",
       "        -0.05811,  0.31166, -0.09162,  0.87054, -0.04051]])"
      ]
     },
     "execution_count": 22,
     "metadata": {},
     "output_type": "execute_result"
    }
   ],
   "source": [
    "def _parse(line):\n",
    "    print(line)\n",
    "    i,x,y=line.split(',')\n",
    "    print(i,x,y)\n",
    "    return (int(i),array([float(x),float(y)]))\n",
    "A=sc.textFile('pair.csv').map(_parse)\n",
    "Data=A.collect()\n",
    "D=stack([e[1] for e in Data]).transpose()\n",
    "D"
   ]
  },
  {
   "cell_type": "code",
   "execution_count": 12,
   "metadata": {},
   "outputs": [
    {
     "data": {
      "text/plain": [
       "1681"
      ]
     },
     "execution_count": 12,
     "metadata": {},
     "output_type": "execute_result"
    }
   ],
   "source": [
    "B=A.cartesian(A)\n",
    "B.count()"
   ]
  },
  {
   "cell_type": "code",
   "execution_count": 13,
   "metadata": {},
   "outputs": [
    {
     "data": {
      "text/plain": [
       "820"
      ]
     },
     "execution_count": 13,
     "metadata": {},
     "output_type": "execute_result"
    }
   ],
   "source": [
    "C=B.filter(lambda X:X[0][0]<X[1][0])\n",
    "C.count()"
   ]
  },
  {
   "cell_type": "code",
   "execution_count": 14,
   "metadata": {
    "scrolled": true
   },
   "outputs": [
    {
     "data": {
      "text/plain": [
       "[((-0.52241, 0.58072), ((0, 1),)), ((-1.32554, 1.25683), ((0, 2),))]"
      ]
     },
     "execution_count": 14,
     "metadata": {},
     "output_type": "execute_result"
    }
   ],
   "source": [
    "E=C.map(lambda X:(tag(X[0][1],X[1][1]),((X[0][0],X[1][0]),)))\n",
    "E.take(2)"
   ]
  },
  {
   "cell_type": "code",
   "execution_count": 15,
   "metadata": {},
   "outputs": [
    {
     "data": {
      "text/plain": [
       "[((-2.69433, 0.97704), ((17, 18), (17, 19), (18, 19)))]"
      ]
     },
     "execution_count": 15,
     "metadata": {},
     "output_type": "execute_result"
    }
   ],
   "source": [
    "F=E.reduceByKey(lambda a,b:a+b).filter(lambda X:len(X[1])>1)\n",
    "F.take(1)"
   ]
  },
  {
   "cell_type": "code",
   "execution_count": 16,
   "metadata": {
    "collapsed": true
   },
   "outputs": [],
   "source": [
    "def conc(pairs):\n",
    "    A=set()\n",
    "    for p in pairs:\n",
    "        for e in p:\n",
    "            A.add(e)\n",
    "    return A\n",
    "Final=F.mapValues(conc).collect()"
   ]
  },
  {
   "cell_type": "code",
   "execution_count": 23,
   "metadata": {},
   "outputs": [
    {
     "data": {
      "image/png": "[encoded data removed]",
      "text/plain": [
       "<matplotlib.figure.Figure at 0x111da4c18>"
      ]
     },
     "metadata": {},
     "output_type": "display_data"
    }
   ],
   "source": [
    "plot(D[0,:],D[1,:],'.');\n",
    "for P,S in Final:\n",
    "    A=D[:,list(S)]\n",
    "    i1 = argmin(A[1,:])\n",
    "    i2 = argmax(A[1,:])\n",
    "    plot((A[0,i1],A[0,i2]),(A[1,i1],A[1,i2]))\n",
    "    grid()\n"
   ]
  },
  {
   "cell_type": "code",
   "execution_count": null,
   "metadata": {
    "collapsed": true
   },
   "outputs": [],
   "source": []
  }
 ],
 "metadata": {
  "kernelspec": {
   "display_name": "Python 3",
   "language": "python",
   "name": "python3"
  },
  "language_info": {
   "codemirror_mode": {
    "name": "ipython",
    "version": 3
   },
   "file_extension": ".py",
   "mimetype": "text/x-python",
   "name": "python",
   "nbconvert_exporter": "python",
   "pygments_lexer": "ipython3",
   "version": "3.6.3"
  }
 },
 "nbformat": 4,
 "nbformat_minor": 2
}
