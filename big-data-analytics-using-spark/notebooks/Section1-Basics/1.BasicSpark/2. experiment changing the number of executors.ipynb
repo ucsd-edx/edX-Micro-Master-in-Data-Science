{
 "cells": [
  {
   "cell_type": "markdown",
   "metadata": {
    "slideshow": {
     "slide_type": "slide"
    }
   },
   "source": [
    "## Changing the number of workers"
   ]
  },
  {
   "cell_type": "markdown",
   "metadata": {
    "slideshow": {
     "slide_type": "slide"
    }
   },
   "source": [
    "#### The effect of changing the number of workers\n",
    "* When you initialize SparkContext, you can specify the number of workers. \n",
    "* Usually the recommendation is for one worker per core.\n",
    "* But the number of workers can be smaller or larger than the number of cores"
   ]
  },
  {
   "cell_type": "code",
   "execution_count": 1,
   "metadata": {
    "slideshow": {
     "slide_type": "slide"
    }
   },
   "outputs": [
    {
     "name": "stdout",
     "output_type": "stream",
     "text": [
      " 1 executors, time=7.066\n",
      " 2 executors, time=4.275\n",
      " 3 executors, time=3.386\n",
      " 4 executors, time=3.637\n",
      " 5 executors, time=3.226\n",
      " 6 executors, time=3.317\n",
      " 7 executors, time=3.269\n",
      " 8 executors, time=3.395\n",
      " 9 executors, time=3.307\n"
     ]
    }
   ],
   "source": [
    "from time import time\n",
    "from pyspark import SparkContext\n",
    "for j in range(1,10):\n",
    "    sc = SparkContext(master=\"local[%d]\"%(j))\n",
    "    t0=time()\n",
    "    for i in range(10):\n",
    "        sc.parallelize([1,2]*1000000).reduce(lambda x,y:x+y)\n",
    "    print \"%2d executors, time=%4.3f\"%(j,time()-t0)\n",
    "    sc.stop()"
   ]
  },
  {
   "cell_type": "markdown",
   "metadata": {
    "slideshow": {
     "slide_type": "subslide"
    }
   },
   "source": [
    "## Summary\n",
    "* This machine has 4 cores\n",
    "* Increasing the number of executors from 1 to 3 speeds up the computation\n",
    "* From 3 and up you have fluctuations in performance.\n",
    "* More than one worker per core is usually unhelpful"
   ]
  }
 ],
 "metadata": {
  "celltoolbar": "Slideshow",
  "kernelspec": {
   "display_name": "Python 3",
   "language": "python",
   "name": "python3"
  },
  "language_info": {
   "codemirror_mode": {
    "name": "ipython",
    "version": 3
   },
   "file_extension": ".py",
   "mimetype": "text/x-python",
   "name": "python",
   "nbconvert_exporter": "python",
   "pygments_lexer": "ipython3",
   "version": "3.6.3"
  }
 },
 "nbformat": 4,
 "nbformat_minor": 2
}
