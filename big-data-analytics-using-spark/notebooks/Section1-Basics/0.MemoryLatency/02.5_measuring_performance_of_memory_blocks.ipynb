{
 "cells": [
  {
   "cell_type": "markdown",
   "metadata": {
    "slideshow": {
     "slide_type": "slide"
    }
   },
   "source": [
    "## measuring memory latency "
   ]
  },
  {
   "cell_type": "markdown",
   "metadata": {
    "slideshow": {
     "slide_type": "fragment"
    }
   },
   "source": [
    "The purpose of this exercise is to test how fast different compture's can run the computationally intensive tasks. "
   ]
  },
  {
   "cell_type": "markdown",
   "metadata": {
    "slideshow": {
     "slide_type": "skip"
    }
   },
   "source": [
    "The results in this notebook are specific to my notebook, which is a recent model powermac pro. More details can be seen in the section \"Collecting System Description\".\n",
    "\n",
    "We recommend that you run the notebook on your notebook to measure the latencies on your computer.\n",
    "\n",
    "Please Note: There are cells marked to be run by specific OS users. So, for those cells, run only the ones for the OS you are using. For example, if you are a windows OS user, then run only \"Collecting System Description: For Windows  users ONLY\" and not other cells."
   ]
  },
  {
   "cell_type": "markdown",
   "metadata": {
    "slideshow": {
     "slide_type": "skip"
    }
   },
   "source": [
    "### Import modules"
   ]
  },
  {
   "cell_type": "code",
   "execution_count": 3,
   "metadata": {
    "slideshow": {
     "slide_type": "skip"
    }
   },
   "outputs": [
    {
     "name": "stdout",
     "output_type": "stream",
     "text": [
      "Populating the interactive namespace from numpy and matplotlib\n"
     ]
    }
   ],
   "source": [
    "# Enable automatic reload of libraries\n",
    "%load_ext autoreload\n",
    "%autoreload 2 # means that all modules are reloaded before every command\n",
    "\n",
    "%pylab inline\n",
    "from numpy import *"
   ]
  },
  {
   "cell_type": "code",
   "execution_count": 4,
   "metadata": {
    "collapsed": true,
    "slideshow": {
     "slide_type": "skip"
    }
   },
   "outputs": [],
   "source": [
    "import time\n",
    "from matplotlib.backends.backend_pdf import PdfPages\n",
    "\n",
    "from os.path import isfile,isdir\n",
    "from os import mkdir\n",
    "import os"
   ]
  },
  {
   "cell_type": "code",
   "execution_count": 5,
   "metadata": {
    "collapsed": true,
    "slideshow": {
     "slide_type": "skip"
    }
   },
   "outputs": [],
   "source": [
    "import sys\n",
    "sys.path.append('./lib')\n",
    "from measureRandomAccess import measureRandomAccess\n",
    "from PlotTime import PlotTime\n",
    "from create_file import create_file,tee"
   ]
  },
  {
   "cell_type": "markdown",
   "metadata": {
    "slideshow": {
     "slide_type": "subslide"
    }
   },
   "source": [
    "### defining memory latency\n",
    "Latency is the time difference between:"
   ]
  },
  {
   "cell_type": "markdown",
   "metadata": {
    "slideshow": {
     "slide_type": "fragment"
    }
   },
   "source": [
    "* The time at which the CPU is issuing a read or write command and,\n",
    "* The time the command is complete."
   ]
  },
  {
   "cell_type": "markdown",
   "metadata": {
    "slideshow": {
     "slide_type": "fragment"
    }
   },
   "source": [
    "* This time is  very short if the element is already in the L1 Cache, \n",
    "* and is very long if the element is in external memory (disk or SSD)."
   ]
  },
  {
   "cell_type": "markdown",
   "metadata": {
    "slideshow": {
     "slide_type": "slide"
    }
   },
   "source": [
    "### setting parameters\n",
    "* We test access to elements arrays whose sizes are:\n",
    "   * 1MB, 10MB, 100MB, 1000MB (=1GB)\n",
    "* Arrays are stored **in memory** or on disk **on disk**"
   ]
  },
  {
   "cell_type": "markdown",
   "metadata": {
    "slideshow": {
     "slide_type": "fragment"
    }
   },
   "source": [
    "* We perform 1 million read/write ops  to random locations in the array.\n",
    "* We analyze the **distribution** of the latencies."
   ]
  },
  {
   "cell_type": "code",
   "execution_count": 14,
   "metadata": {
    "slideshow": {
     "slide_type": "skip"
    }
   },
   "outputs": [
    {
     "name": "stdout",
     "output_type": "stream",
     "text": [
      "n=100, k=100000, m_list= [1, 10, 100, 1000, 10000]\n"
     ]
    }
   ],
   "source": [
    "n=100 # size of single block (1MB)\n",
    "m_list=[1,10,100,1000,10000] # size of file in blocks\n",
    "k=100000;  # number of repeats\n",
    "L=len(m_list)\n",
    "print('n=%d, k=%d, m_list='%(n,k),m_list)"
   ]
  },
  {
   "cell_type": "markdown",
   "metadata": {
    "slideshow": {
     "slide_type": "skip"
    }
   },
   "source": [
    "### Set working directory\n",
    "This script generates large files. We put these files in a separate directory so it is easier to delete them later."
   ]
  },
  {
   "cell_type": "code",
   "execution_count": 15,
   "metadata": {
    "slideshow": {
     "slide_type": "skip"
    }
   },
   "outputs": [
    {
     "name": "stdout",
     "output_type": "stream",
     "text": [
      "/Users/yoavfreund/projects/edX-Micro-Master-in-Data-Science/big-data-analytics-using-spark/notebooks/Section1-Basics/0.MemoryLatency/logs/1520209220/logs/1520209295/logs/1520209356\n"
     ]
    }
   ],
   "source": [
    "log_root='./logs'\n",
    "if not isdir(log_root): mkdir(log_root)\n",
    "TimeStamp=str(int(time.time()))\n",
    "log_dir=log_root+'/'+TimeStamp\n",
    "mkdir(log_dir)\n",
    "%cd $log_dir\n",
    "stat=open('stats.txt','w')\n",
    "\n",
    "def tee(line):\n",
    "    print(line)\n",
    "    stat.write(line+'\\n')"
   ]
  },
  {
   "cell_type": "code",
   "execution_count": 16,
   "metadata": {
    "collapsed": true,
    "slideshow": {
     "slide_type": "skip"
    }
   },
   "outputs": [],
   "source": [
    "_mean=zeros([2,L])   #0: using disk, 1: using memory\n",
    "_std=zeros([2,L])\n",
    "Tmem=[]\n",
    "TFile"
   ]
  },
  {
   "cell_type": "code",
   "execution_count": 145,
   "metadata": {
    "code_folding": []
   },
   "outputs": [],
   "source": [
    "# %load lib/measureRandomAccess.py\n",
    "import numpy as np\n",
    "from numpy.random import rand\n",
    "import time\n",
    "\n",
    "def measureRandomAccessMemBlocks(sz,k=1000,batch=100):\n",
    "    \"\"\"Measure the distribution of random accesses in computer memory.\n",
    "\n",
    "    :param sz: size of memory block.\n",
    "    :param k: number of times that the experiment is repeated.\n",
    "    :param batch: The number of locations poked in a single experiment (multiple pokes performed using numpy, rather than python loop)\n",
    "    :returns: (_mean,std,T):\n",
    "              _mean = the mean of T\n",
    "              _std = the std of T\n",
    "              T = a list the contains the times of all k experiments\n",
    "    :rtype: tuple\n",
    "\n",
    "    \"\"\"\n",
    "    # Prepare buffer.\n",
    "    A=np.zeros(sz,dtype=np.int8)\n",
    "            \n",
    "    # Read and write k*batch times from/to buffer.\n",
    "    sum=0; sum2=0\n",
    "    T=np.zeros(k)\n",
    "    for i in range(k):\n",
    "        if (i%100==0): print('\\r',i, end=' ')\n",
    "        loc=np.int32(rand(batch)*sz)\n",
    "        t=time.time()\n",
    "        x=A[loc]\n",
    "        A[loc]=loc\n",
    "        d=(time.time()-t)/batch\n",
    "        T[i]=d\n",
    "        sum += d\n",
    "        sum2 += d*d\n",
    "    _mean=sum/k; var=(sum2/k)-_mean**2; _std=np.sqrt(var)\n",
    "    return (_mean,_std,T)"
   ]
  },
  {
   "cell_type": "code",
   "execution_count": 146,
   "metadata": {},
   "outputs": [],
   "source": [
    "m_list=[10,1000,1000000,10000000,100000000,1000000000]"
   ]
  },
  {
   "cell_type": "code",
   "execution_count": 147,
   "metadata": {
    "scrolled": true,
    "slideshow": {
     "slide_type": "skip"
    }
   },
   "outputs": [
    {
     "name": "stdout",
     "output_type": "stream",
     "text": [
      "Memory array 10 Bytes\n",
      "Memory pokes _mean=1.1981010437e-08, Memory _std=1.22410434875e-08\n",
      "Memory array 1000 Bytes\n",
      "Memory pokes _mean=1.30813121796e-08, Memory _std=1.32095669293e-08\n",
      "Memory array 1000000 Bytes\n",
      "Memory pokes _mean=1.60372257233e-08, Memory _std=1.26993399902e-08\n",
      "Memory array 10000000 Bytes\n",
      "Memory pokes _mean=2.95190811157e-08, Memory _std=7.44594256641e-08\n",
      "Memory array 100000000 Bytes\n",
      "Memory pokes _mean=1.05002164841e-07, Memory _std=2.55105130243e-07\n",
      "Memory array 1000000000 Bytes\n",
      "Memory pokes _mean=7.83848762512e-07, Memory _std=6.75243754949e-07\n"
     ]
    }
   ],
   "source": [
    "Random_pokes=[]\n",
    "TMem=[0]*len(m_list)\n",
    "\n",
    "L=len(m_list)\n",
    "_mean=zeros([L])   #0: using disk, 1: using memory\n",
    "_std=zeros([L])\n",
    "TMem=[0]*L\n",
    "\n",
    "for m_i in range(L):\n",
    "    m=m_list[m_i]\n",
    "    print('Memory array %d Bytes'%m)\n",
    "    out = measureRandomAccessMemBlocks(m,k=1000,batch=1000)\n",
    "    (_mean[m_i],_std[m_i],TMem[m_i]) = out\n",
    "    TMem[m_i].sort()\n",
    "    tee('\\rMemory pokes _mean='+str(_mean[m_i])+', Memory _std='+str(_std[m_i]))\n",
    "\n",
    "    Random_pokes.append({'m_i':m_i,\n",
    "                        'm':m,\n",
    "                        'memory__mean': _mean[m_i],\n",
    "                        'memory__std': _std[m_i],\n",
    "                        'memory_largest': TMem[m_i][-100:],\n",
    "                })"
   ]
  },
  {
   "cell_type": "markdown",
   "metadata": {
    "slideshow": {
     "slide_type": "subslide"
    }
   },
   "source": [
    "### Characterize random access to storage"
   ]
  },
  {
   "cell_type": "code",
   "execution_count": 153,
   "metadata": {
    "hide_input": false
   },
   "outputs": [
    {
     "data": {
      "image/png": "[encoded data removed]",
      "text/plain": [
       "<matplotlib.figure.Figure at 0x15a853eac8>"
      ]
     },
     "metadata": {},
     "output_type": "display_data"
    }
   ],
   "source": [
    "pp = PdfPages('MemoryBlockFigure.pdf')\n",
    "figure(figsize=(6,4))\n",
    "\n",
    "Colors='bgrcmyk'  # The colors for the plot\n",
    "LineStyles=['-']\n",
    "\n",
    "fig = matplotlib.pyplot.gcf()\n",
    "fig.set_size_inches(18.5,10.5)\n",
    "\n",
    "for m_i in range(len(m_list)):\n",
    "    Color=Colors[m_i % len(Colors)]\n",
    "    PlotTime(TMem[m_i],_mean[m_i],_std[m_i],\\\n",
    "             Color=Color,LS='-',Legend=('%5.3fKB-'%(m_list[m_i]/1000.)),\\\n",
    "             m_i=m_i)\n",
    "\n",
    "grid()\n",
    "legend(fontsize=18)\n",
    "xlabel('delay (sec)',fontsize=18)\n",
    "ylabel('1-CDF',fontsize=18)\n",
    "tick_params(axis='both', which='major', labelsize=16)\n",
    "tick_params(axis='both', which='minor', labelsize=12)\n",
    "pp.savefig()\n",
    "pp.close()"
   ]
  },
  {
   "cell_type": "markdown",
   "metadata": {
    "hide_input": true,
    "slideshow": {
     "slide_type": "subslide"
    }
   },
   "source": [
    "### Characterize sequential access"
   ]
  },
  {
   "cell_type": "code",
   "execution_count": 20,
   "metadata": {
    "hide_input": false,
    "scrolled": false,
    "slideshow": {
     "slide_type": "skip"
    }
   },
   "outputs": [
    {
     "name": "stdout",
     "output_type": "stream",
     "text": [
      "### Consecutive Memory writes:\n",
      "\n",
      "|   size (MB) | Average Latency |\n",
      "| ---------: | --------------: | \n",
      "|  0.001 | 1.6e-08 |\n",
      "|  0.100 | 3e-09 |\n",
      "| 10.000 | 7.7e-09 |\n",
      "| 1000.000 | 8.5e-09 |\n"
     ]
    }
   ],
   "source": [
    "import time\n",
    "Consec=[]\n",
    "Line='### Consecutive Memory writes:'\n",
    "print(Line); stat.write(Line+'\\n')\n",
    "n=1000\n",
    "r=np.array(list(range(n)))\n",
    "Header=\"\"\"\n",
    "|   size (MB) | Average Latency |\n",
    "| ---------: | --------------: | \"\"\"\n",
    "tee(Header)\n",
    "for m in [1,100,10000,1000000]:\n",
    "    t1=time.time()\n",
    "    A=np.repeat(r,m)\n",
    "    t2=time.time()\n",
    "    Consec.append((n,m,float(n*m)/1000000,(t2-t1)/float(n*m)))\n",
    "    tee(\"| %6.3f | %4.2g |\" % (float(n*m)/1000000,(t2-t1)/float(n*m)))\n",
    "A=[];r=[]\n",
    "stat.close()"
   ]
  },
  {
   "cell_type": "markdown",
   "metadata": {
    "slideshow": {
     "slide_type": "subslide"
    }
   },
   "source": [
    "### Consecutive Memory writes:\n",
    "\n",
    "<img alt=\"\" src=\"Figures/Sequential_access_latency.png\" style=\"width:300px\" />"
   ]
  },
  {
   "cell_type": "markdown",
   "metadata": {
    "slideshow": {
     "slide_type": "fragment"
    }
   },
   "source": [
    "* Latency changes little with array size."
   ]
  },
  {
   "cell_type": "markdown",
   "metadata": {
    "slideshow": {
     "slide_type": "fragment"
    }
   },
   "source": [
    "* Latency is about $10^{-9} - 10^{-8}$ while latency for random access is about $10^{-6}$"
   ]
  },
  {
   "cell_type": "markdown",
   "metadata": {
    "slideshow": {
     "slide_type": "slide"
    }
   },
   "source": [
    "## Collecting System Description\n",
    "In this section you will find commands that list properties of the hardware you are using."
   ]
  },
  {
   "cell_type": "markdown",
   "metadata": {
    "slideshow": {
     "slide_type": "skip"
    }
   },
   "source": [
    "### Are you using a Virtual Machine?\n",
    "If you are, Uncomment the following code so that `isVM` is set to `[\"True\"]`"
   ]
  },
  {
   "cell_type": "code",
   "execution_count": 3,
   "metadata": {
    "collapsed": true,
    "slideshow": {
     "slide_type": "skip"
    }
   },
   "outputs": [],
   "source": [
    "isVM = [\"False\"]\n",
    "#isVM = [\"True\"]"
   ]
  },
  {
   "cell_type": "markdown",
   "metadata": {
    "slideshow": {
     "slide_type": "skip"
    }
   },
   "source": [
    "### For Mac users\n",
    "\n",
    "The next cell needs to be run only by Mac OS users. If run on other OS platforms, it will throw error. "
   ]
  },
  {
   "cell_type": "code",
   "execution_count": 4,
   "metadata": {
    "collapsed": true,
    "slideshow": {
     "slide_type": "skip"
    }
   },
   "outputs": [],
   "source": [
    "brand_name = [\"brand: Macbook\"]\n",
    "os_info = !sysctl kernel.osrelease kernel.osrevision kernel.ostype kernel.osversion\n",
    "cpu_info = !sysctl machdep.cpu.brand_string machdep.cpu.cache.L2_associativity machdep.cpu.cache.linesize machdep.cpu.cache.size machdep.cpu.core_count\n",
    "cache_info = !sysctl kern.procname hw.memsize hw.cpufamily hw.activecpu hw.cachelinesize hw.cpufrequency hw.l1dcachesize hw.l1icachesize hw.l2cachesize hw.l3cachesize hw.cputype "
   ]
  },
  {
   "cell_type": "markdown",
   "metadata": {
    "slideshow": {
     "slide_type": "skip"
    }
   },
   "source": [
    "### For Linux OS users\n",
    "\n",
    "The next cell needs to be run only by Linux OS users. If run on other OS platforms, it will throw error."
   ]
  },
  {
   "cell_type": "code",
   "execution_count": 15,
   "metadata": {
    "collapsed": true,
    "slideshow": {
     "slide_type": "skip"
    }
   },
   "outputs": [],
   "source": [
    "brand_name = [\"brand: Linux\"]\n",
    "\n",
    "os_info = !sysctl kernel.ostype kernel.osrelease \n",
    "os_version = !lsb_release -r\n",
    "memory_size = !cat /proc/meminfo | grep 'MemTotal'\n",
    "os_info += os_version + memory_size\n",
    "\n",
    "cache_L1i = !lscpu | grep 'L1i'\n",
    "cache_L1d = !lscpu | grep 'L1d'\n",
    "cache_L2 = !lscpu | grep 'L2'\n",
    "cache_L3 = !lscpu | grep 'L3'\n",
    "cache_info = cache_L1i + cache_L1d + cache_L2 + cache_L3\n",
    "\n",
    "cpu_type = !lscpu | grep 'CPU family'\n",
    "cpu_brand = !cat /proc/cpuinfo | grep -m 1 'model name'\n",
    "cpu_frequency = !lscpu | grep 'CPU MHz'\n",
    "cpu_core_count = !lscpu | grep 'CPU(s)'\n",
    "cpu_info = cpu_type + cpu_brand + cpu_frequency + cpu_core_count\n",
    "\n"
   ]
  },
  {
   "cell_type": "markdown",
   "metadata": {
    "slideshow": {
     "slide_type": "skip"
    }
   },
   "source": [
    "###  For Windows users\n",
    "The next cell needs to be run only by Windows OS users. If run on other OS platforms, it will throw error."
   ]
  },
  {
   "cell_type": "code",
   "execution_count": 16,
   "metadata": {
    "collapsed": true,
    "slideshow": {
     "slide_type": "skip"
    }
   },
   "outputs": [],
   "source": [
    "brand_name = [\"brand: Windows\"]\n",
    "\n",
    "os_release  = !ver\n",
    "os_type     = !WMIC CPU get  SystemCreationClassName\n",
    "memory      = !WMIC ComputerSystem get TotalPhysicalMemory\n",
    "os_info     = os_release + os_type\n",
    "\n",
    "cpu_core_count  = !WMIC CPU get NumberOfCores\n",
    "cpu_speed       = !WMIC CPU get CurrentClockSpeed\n",
    "cpu_model_name  = !WMIC CPU get name\n",
    "cpu_info        = cpu_core_count + cpu_speed + cpu_model_name\n",
    "\n",
    "l2cachesize = !WMIC CPU get L2CacheSize\n",
    "l3cachesize = !WMIC CPU get L3CacheSize\n",
    "cache_info  = l2cachesize + l3cachesize\n"
   ]
  },
  {
   "cell_type": "code",
   "execution_count": 5,
   "metadata": {
    "scrolled": true,
    "slideshow": {
     "slide_type": "subslide"
    }
   },
   "outputs": [
    {
     "data": {
      "text/plain": [
       "['False',\n",
       " 'brand: Macbook',\n",
       " \"sysctl: unknown oid 'kernel.osrelease'\",\n",
       " 'kern.procname: sysctl',\n",
       " 'hw.memsize: 17179869184',\n",
       " 'hw.cpufamily: 280134364',\n",
       " 'hw.activecpu: 8',\n",
       " 'hw.cachelinesize: 64',\n",
       " 'hw.cpufrequency: 2500000000',\n",
       " 'hw.l1dcachesize: 32768',\n",
       " 'hw.l1icachesize: 32768',\n",
       " 'hw.l2cachesize: 262144',\n",
       " 'hw.l3cachesize: 6291456',\n",
       " 'hw.cputype: 7',\n",
       " 'machdep.cpu.brand_string: Intel(R) Core(TM) i7-4870HQ CPU @ 2.50GHz',\n",
       " 'machdep.cpu.cache.L2_associativity: 8',\n",
       " 'machdep.cpu.cache.linesize: 64',\n",
       " 'machdep.cpu.cache.size: 256',\n",
       " 'machdep.cpu.core_count: 4']"
      ]
     },
     "execution_count": 5,
     "metadata": {},
     "output_type": "execute_result"
    }
   ],
   "source": [
    "description= isVM + brand_name + os_info + cache_info + cpu_info\n",
    "description"
   ]
  },
  {
   "cell_type": "markdown",
   "metadata": {
    "slideshow": {
     "slide_type": "subslide"
    }
   },
   "source": [
    "### memory and cache sizes for Macbook Pro\n",
    "\n",
    "<img alt=\"\" src=\"Figures/MacBookProMemorySizes.png\" style=\"width:500px\" />"
   ]
  },
  {
   "cell_type": "code",
   "execution_count": 18,
   "metadata": {
    "collapsed": true,
    "slideshow": {
     "slide_type": "skip"
    }
   },
   "outputs": [],
   "source": [
    "# Writing all necesarry information int oa pickle file.\n",
    "import pickle\n",
    "with open('memory_report.pkl','wb') as pickle_file:\n",
    "    pickle.dump({'description':description,\n",
    "                'Consec':Consec,\n",
    "                'Random_pokes':Random_pokes},\n",
    "               pickle_file)"
   ]
  },
  {
   "cell_type": "markdown",
   "metadata": {
    "slideshow": {
     "slide_type": "slide"
    }
   },
   "source": [
    "## Observations"
   ]
  },
  {
   "cell_type": "markdown",
   "metadata": {
    "slideshow": {
     "slide_type": "fragment"
    }
   },
   "source": [
    "* If you write to consecutive locations, you have a per-byte time of around $10^{-8}$ if you jump around you can't do better than $10^{-6}$."
   ]
  },
  {
   "cell_type": "markdown",
   "metadata": {
    "slideshow": {
     "slide_type": "fragment"
    }
   },
   "source": [
    "* As you increase the size of the array/file random access speed decreases dramatically, while sequential access speed stays more or less constant."
   ]
  },
  {
   "cell_type": "markdown",
   "metadata": {
    "slideshow": {
     "slide_type": "fragment"
    }
   },
   "source": [
    "* The high latency tails are much bigger than what you'd expect from a normal distribution with the same mean and std."
   ]
  },
  {
   "cell_type": "markdown",
   "metadata": {
    "slideshow": {
     "slide_type": "subslide"
    }
   },
   "source": [
    "### Impact on Big Data Analytics"
   ]
  },
  {
   "cell_type": "markdown",
   "metadata": {
    "slideshow": {
     "slide_type": "fragment"
    }
   },
   "source": [
    "* Clock rate is stuck at around 3GHz, and is likely to be stuck there for the forseeable future."
   ]
  },
  {
   "cell_type": "markdown",
   "metadata": {
    "slideshow": {
     "slide_type": "fragment"
    }
   },
   "source": [
    "* **Faster** computers / disks / networks are **expensive** "
   ]
  },
  {
   "cell_type": "markdown",
   "metadata": {
    "slideshow": {
     "slide_type": "fragment"
    }
   },
   "source": [
    "* The cost-effective solution is often a cluster of many cheap computers, each with many cores and break up the data so that each computer has a small fraction of the data."
   ]
  },
  {
   "cell_type": "markdown",
   "metadata": {
    "slideshow": {
     "slide_type": "fragment"
    }
   },
   "source": [
    "* Data-Centers and the \"Cloud\""
   ]
  },
  {
   "cell_type": "markdown",
   "metadata": {
    "slideshow": {
     "slide_type": "skip"
    }
   },
   "source": [
    "## Clean-Up\n",
    "Make sure to delete the logs directory! The commands that you ran above made the log directory very big, you WILL NOT be submitting the log directory."
   ]
  },
  {
   "cell_type": "code",
   "execution_count": 6,
   "metadata": {
    "slideshow": {
     "slide_type": "skip"
    }
   },
   "outputs": [
    {
     "name": "stdout",
     "output_type": "stream",
     "text": [
      "du: logs: No such file or directory\r\n"
     ]
    }
   ],
   "source": [
    "!rm -rf logs"
   ]
  }
 ],
 "metadata": {
  "anaconda-cloud": {},
  "celltoolbar": "Slideshow",
  "hide_input": false,
  "kernelspec": {
   "display_name": "Python 3",
   "language": "python",
   "name": "python3"
  },
  "language_info": {
   "codemirror_mode": {
    "name": "ipython",
    "version": 3
   },
   "file_extension": ".py",
   "mimetype": "text/x-python",
   "name": "python",
   "nbconvert_exporter": "python",
   "pygments_lexer": "ipython3",
   "version": "3.6.3"
  },
  "toc": {
   "nav_menu": {
    "height": "82px",
    "width": "252px"
   },
   "number_sections": true,
   "sideBar": true,
   "skip_h1_title": false,
   "title_cell": "Table of Contents",
   "title_sidebar": "Contents",
   "toc_cell": false,
   "toc_position": {
    "height": "597px",
    "left": "0px",
    "right": "1204px",
    "top": "106px",
    "width": "251px"
   },
   "toc_section_display": "block",
   "toc_window_display": false
  }
 },
 "nbformat": 4,
 "nbformat_minor": 2
}
