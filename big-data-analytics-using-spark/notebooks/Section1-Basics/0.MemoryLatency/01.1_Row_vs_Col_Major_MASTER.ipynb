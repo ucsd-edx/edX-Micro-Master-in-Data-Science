{
 "cells": [
  {
   "cell_type": "markdown",
   "metadata": {
    "deletable": true,
    "editable": true,
    "run_control": {
     "frozen": false,
     "read_only": false
    },
    "slideshow": {
     "slide_type": "slide"
    }
   },
   "source": [
    "## The effect of memory layout\n",
    "\n",
    "* [numpy arrays](https://docs.scipy.org/doc/numpy/reference/generated/numpy.array.html#numpy-array) are, by default, organized in a row-major order. \n",
    "* Suppose the array `a=np.array(10,20)` is layed out in memory in a **row major**  order.\n",
    "* `a[i,j]` and `a[i,j+1]` are placed in consecutive places in memory.\n",
    "* `a[i,j]` and `a[i+1,j]` are 20 memory locations apart.\n",
    "* This implies that scanning the array row by row is more local than scanning column by column.\n",
    "* locality implies speed."
   ]
  },
  {
   "cell_type": "code",
   "execution_count": null,
   "metadata": {
    "collapsed": false,
    "deletable": true,
    "editable": true,
    "run_control": {
     "frozen": false,
     "read_only": false
    },
    "slideshow": {
     "slide_type": "subslide"
    }
   },
   "outputs": [],
   "source": [
    "%pylab inline\n",
    "# create an n by n array\n",
    "n=1000\n",
    "a=ones([n,n])"
   ]
  },
  {
   "cell_type": "code",
   "execution_count": null,
   "metadata": {
    "collapsed": false,
    "deletable": true,
    "editable": true,
    "run_control": {
     "frozen": false,
     "read_only": false
    },
    "slideshow": {
     "slide_type": "subslide"
    }
   },
   "outputs": [],
   "source": [
    "%%time\n",
    "# Scan column by column\n",
    "s=0;\n",
    "for i in range(n):\n",
    "    s+=a[:,i]"
   ]
  },
  {
   "cell_type": "code",
   "execution_count": null,
   "metadata": {
    "collapsed": false,
    "deletable": true,
    "editable": true,
    "run_control": {
     "frozen": false,
     "read_only": false
    },
    "scrolled": true,
    "slideshow": {
     "slide_type": "subslide"
    }
   },
   "outputs": [],
   "source": [
    "%%time\n",
    "## Scan row by row\n",
    "s=0;\n",
    "for i in range(n):\n",
    "    s+=a[i,:]"
   ]
  },
  {
   "cell_type": "markdown",
   "metadata": {
    "slideshow": {
     "slide_type": "slide"
    }
   },
   "source": [
    "## Some experiments with row vs column scanning\n",
    "We want to see how the run time of these two code snippets varies as `n`, the size of the array, is changed."
   ]
  },
  {
   "cell_type": "code",
   "execution_count": null,
   "metadata": {
    "collapsed": false,
    "deletable": true,
    "editable": true,
    "run_control": {
     "frozen": false,
     "read_only": false
    },
    "scrolled": true,
    "slideshow": {
     "slide_type": "subslide"
    }
   },
   "outputs": [],
   "source": [
    "def sample_run_times(T,k=10):\n",
    "    \"\"\" compare the time to sum an array row by row vs column by column\n",
    "        T: the sizes of the matrix, [10**e for e in T]\n",
    "        k: the number of repetitions of each experiment\n",
    "    \"\"\"\n",
    "    all_times=[]\n",
    "    for e in T:\n",
    "        n=int(10**e)\n",
    "        print '\\r',n,\n",
    "        a=np.ones([n,n])\n",
    "        times=[]\n",
    "\n",
    "        for i in range(k):    \n",
    "            t0=time()\n",
    "            s=0;\n",
    "            for i in range(n):\n",
    "                s+=a[:,i]\n",
    "            t1=time()\n",
    "            s=0;\n",
    "            for i in range(n):\n",
    "                s+=a[i,:]\n",
    "            t2=time()\n",
    "            times.append({'row minor':t1-t0,'row major':t2-t1})\n",
    "        all_times.append({'n':n,'times':times})\n",
    "    return all_times\n"
   ]
  },
  {
   "cell_type": "code",
   "execution_count": null,
   "metadata": {
    "collapsed": false,
    "slideshow": {
     "slide_type": "subslide"
    }
   },
   "outputs": [],
   "source": [
    "#example run\n",
    "sample_run_times([1,2],k=1)"
   ]
  },
  {
   "cell_type": "markdown",
   "metadata": {},
   "source": [
    "### Plot the ratio between run times as function of n\n",
    "Here we have small steps between consecutive values of `n` and only one measurement for each (`k=1`)"
   ]
  },
  {
   "cell_type": "code",
   "execution_count": null,
   "metadata": {
    "collapsed": false,
    "run_control": {
     "frozen": true,
     "read_only": true
    },
    "slideshow": {
     "slide_type": "skip"
    }
   },
   "outputs": [],
   "source": [
    "from time import time\n",
    "\n",
    "all_times=sample_run_times(np.arange(1,3.01,0.001),k=1)\n",
    "\n",
    "n_list=[a['n'] for a in all_times]\n",
    "ratios=[a['times'][0]['row minor']/a['times'][0]['row major'] for a in all_times]\n",
    "\n",
    "figure(figsize=(15,10))\n",
    "plot(n_list,ratios)\n",
    "grid()\n",
    "xlabel('n')\n",
    "ylabel('ratio or running times')\n",
    "title('time ratio as a function of size of array');"
   ]
  },
  {
   "cell_type": "markdown",
   "metadata": {},
   "source": [
    "### Next, we want to quantify the random fluctuations\n",
    "and see what is their source"
   ]
  },
  {
   "cell_type": "code",
   "execution_count": null,
   "metadata": {
    "collapsed": false,
    "run_control": {
     "frozen": true,
     "read_only": true
    }
   },
   "outputs": [],
   "source": [
    "k=100\n",
    "all_times=sample_run_times(np.arange(1,2.81,0.01),k=k)\n",
    "_n=[]\n",
    "_row_major_mean=[]\n",
    "_row_major_std=[]\n",
    "_row_major_std=[]\n",
    "_row_minor_mean=[]\n",
    "_row_minor_std=[]\n",
    "_row_minor_min=[]\n",
    "_row_minor_max=[]\n",
    "\n",
    "for times in all_times:\n",
    "    _n.append(times['n'])\n",
    "    row_major=[a['row major'] for a in times['times']]\n",
    "    row_minor=[a['row minor'] for a in times['times']]\n",
    "    _row_major_mean.append(np.mean(row_major))\n",
    "    _row_major_std.append(np.std(row_major))\n",
    "    \n",
    "    _row_minor_mean.append(np.mean(row_minor))\n",
    "    _row_minor_std.append(np.std(row_minor))\n",
    "    _row_minor_min.append(np.min(row_minor))\n",
    "    _row_minor_max.append(np.max(row_minor))\n",
    "\n",
    "_row_major_mean=np.array(_row_major_mean)\n",
    "_row_major_std=np.array(_row_major_std)\n",
    "_row_minor_mean=np.array(_row_minor_mean)\n",
    "_row_minor_std=np.array(_row_minor_std)\n",
    "\n",
    "figure(figsize=(15,10))\n",
    "plot(_n,_row_major_mean,label='row major mean')\n",
    "plot(_n,_row_major_mean-_row_major_std,label='row major mean-std')\n",
    "plot(_n,_row_major_mean+_row_major_std,label='row major mean+std')\n",
    "plot(_n,_row_minor_mean,label='row minor mean')\n",
    "plot(_n,_row_minor_mean-_row_minor_std,label='row minor mean-std')\n",
    "plot(_n,_row_minor_mean+_row_minor_std,label='row minor mean+std')\n",
    "plot(_n,_row_minor_min,label='row minor min among %d'%k)\n",
    "plot(_n,_row_minor_max,label='row minor max among %d'%k)\n",
    "legend()\n",
    "grid()\n"
   ]
  },
  {
   "cell_type": "markdown",
   "metadata": {},
   "source": [
    "### Conclusions\n",
    "\n",
    "1. Scan by column is slower than scan by row and the difference increases with the size.\n",
    "2. scan by row increases linearly and has very little random fluctuations.\n",
    "3. Scan by column increases linearly with one constant until about `n=430` and then increases with a higher constant.\n",
    "4. Scan by column has large fluctatuations around the mean."
   ]
  },
  {
   "cell_type": "code",
   "execution_count": null,
   "metadata": {
    "collapsed": true
   },
   "outputs": [],
   "source": []
  }
 ],
 "metadata": {
  "anaconda-cloud": {},
  "celltoolbar": "Slideshow",
  "hide_input": false,
  "kernelspec": {
   "display_name": "Python [default]",
   "language": "python",
   "name": "python2"
  },
  "language_info": {
   "codemirror_mode": {
    "name": "ipython",
    "version": 2
   },
   "file_extension": ".py",
   "mimetype": "text/x-python",
   "name": "python",
   "nbconvert_exporter": "python",
   "pygments_lexer": "ipython2",
   "version": "2.7.13"
  },
  "toc": {
   "colors": {
    "hover_highlight": "#DAA520",
    "running_highlight": "#FF0000",
    "selected_highlight": "#FFD700"
   },
   "moveMenuLeft": true,
   "nav_menu": {
    "height": "190px",
    "width": "252px"
   },
   "navigate_menu": true,
   "number_sections": true,
   "sideBar": true,
   "threshold": 4,
   "toc_cell": false,
   "toc_section_display": "block",
   "toc_window_display": false
  }
 },
 "nbformat": 4,
 "nbformat_minor": 0
}
