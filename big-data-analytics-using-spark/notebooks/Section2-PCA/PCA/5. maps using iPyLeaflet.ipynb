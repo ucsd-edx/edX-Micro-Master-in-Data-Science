{
 "cells": [
  {
   "cell_type": "code",
   "execution_count": 1,
   "metadata": {
    "ExecuteTime": {
     "end_time": "2018-04-04T01:18:04.036631Z",
     "start_time": "2018-04-04T01:18:03.790952Z"
    },
    "slideshow": {
     "slide_type": "skip"
    }
   },
   "outputs": [
    {
     "name": "stdout",
     "output_type": "stream",
     "text": [
      "Populating the interactive namespace from numpy and matplotlib\n"
     ]
    }
   ],
   "source": [
    "import ipyleaflet\n",
    "%pylab inline"
   ]
  },
  {
   "cell_type": "code",
   "execution_count": 2,
   "metadata": {
    "ExecuteTime": {
     "end_time": "2018-04-04T01:18:06.328910Z",
     "start_time": "2018-04-04T01:18:06.325187Z"
    },
    "slideshow": {
     "slide_type": "skip"
    }
   },
   "outputs": [],
   "source": [
    "from ipyleaflet import (\n",
    "    Map,\n",
    "    Marker,\n",
    "    TileLayer, ImageOverlay,\n",
    "    Polyline, Polygon, Rectangle, Circle, CircleMarker,\n",
    "    GeoJSON,\n",
    "    DrawControl\n",
    ")"
   ]
  },
  {
   "cell_type": "markdown",
   "metadata": {
    "slideshow": {
     "slide_type": "slide"
    }
   },
   "source": [
    "## Visualizing the distribution of the observations"
   ]
  },
  {
   "cell_type": "markdown",
   "metadata": {
    "slideshow": {
     "slide_type": "skip"
    }
   },
   "source": [
    "## Load the required libraries"
   ]
  },
  {
   "cell_type": "code",
   "execution_count": 3,
   "metadata": {
    "ExecuteTime": {
     "end_time": "2018-04-04T01:18:08.580114Z",
     "start_time": "2018-04-04T01:18:08.349438Z"
    },
    "slideshow": {
     "slide_type": "skip"
    }
   },
   "outputs": [],
   "source": [
    "import pandas as pd\n",
    "import numpy as np\n",
    "import sklearn as sk\n",
    "import urllib\n",
    "import math"
   ]
  },
  {
   "cell_type": "code",
   "execution_count": 5,
   "metadata": {
    "ExecuteTime": {
     "end_time": "2018-04-04T01:18:14.142841Z",
     "start_time": "2018-04-04T01:18:11.471406Z"
    },
    "slideshow": {
     "slide_type": "skip"
    }
   },
   "outputs": [],
   "source": [
    "import findspark\n",
    "findspark.init()\n",
    "\n",
    "from pyspark import SparkContext\n",
    "#sc.stop()\n",
    "sc = SparkContext(master=\"local[3]\",pyFiles=['lib/numpy_pack.py','lib/spark_PCA.py','lib/computeStatistics.py'])\n",
    "\n",
    "from pyspark import SparkContext\n",
    "from pyspark.sql import *\n",
    "sqlContext = SQLContext(sc)"
   ]
  },
  {
   "cell_type": "code",
   "execution_count": 6,
   "metadata": {
    "ExecuteTime": {
     "end_time": "2018-04-04T01:18:15.506866Z",
     "start_time": "2018-04-04T01:18:15.493009Z"
    },
    "slideshow": {
     "slide_type": "skip"
    }
   },
   "outputs": [],
   "source": [
    "#import sys\n",
    "#sys.path.append('./lib')\n",
    "\n",
    "import numpy as np\n",
    "from lib.numpy_pack import packArray,unpackArray\n",
    "from lib.spark_PCA import computeCov\n",
    "from lib.computeStatistics import *"
   ]
  },
  {
   "cell_type": "code",
   "execution_count": 7,
   "metadata": {
    "ExecuteTime": {
     "end_time": "2018-04-04T01:18:17.141137Z",
     "start_time": "2018-04-04T01:18:17.004955Z"
    },
    "slideshow": {
     "slide_type": "skip"
    }
   },
   "outputs": [
    {
     "name": "stdout",
     "output_type": "stream",
     "text": [
      "total 98832\r\n",
      "drwxr-xr-x   17 yoavfreund  staff       544 Apr  1 19:57 \u001b[34mNY.parquet\u001b[m\u001b[m\r\n",
      "-rw-r--r--    1 yoavfreund  staff  23182008 Apr  1 19:54 NY.tgz\r\n",
      "drwxr-xr-x   20 yoavfreund  staff       640 Apr  1 13:57 \u001b[34mOld\u001b[m\u001b[m\r\n",
      "-rw-r--r--    1 yoavfreund  staff  25684524 Apr  1 19:57 STAT_NY.pickle\r\n",
      "-rw-r--r--    1 yoavfreund  staff    731305 Apr  1 19:58 US_stations.tsv\r\n",
      "drwxr-xr-x  404 yoavfreund  staff     12928 Apr  3 13:53 \u001b[34mdecon_NY_SNWD.parquet\u001b[m\u001b[m\r\n",
      "drwxr-xr-x   10 yoavfreund  staff       320 Apr  1 21:40 \u001b[34mstations.parquet\u001b[m\u001b[m\r\n"
     ]
    }
   ],
   "source": [
    "data_dir='../../Data/Weather/'\n",
    "!ls -l $data_dir"
   ]
  },
  {
   "cell_type": "code",
   "execution_count": 8,
   "metadata": {
    "ExecuteTime": {
     "end_time": "2018-04-04T01:18:21.302253Z",
     "start_time": "2018-04-04T01:18:18.125096Z"
    },
    "slideshow": {
     "slide_type": "subslide"
    }
   },
   "outputs": [
    {
     "name": "stdout",
     "output_type": "stream",
     "text": [
      "+-----------+----------+--------+---------+---------+-----+----------------+\n",
      "|    Station|Dist_coast|Latitude|Longitude|Elevation|State|            Name|\n",
      "+-----------+----------+--------+---------+---------+-----+----------------+\n",
      "|USC00341900|   739.956|    36.3| -96.4667|    242.3|   OK|       CLEVELAND|\n",
      "|USC00428114|    908.22|    40.1|-111.6667|   1409.1|   UT|SPANISH FORK 1 S|\n",
      "|USC00165926|   23.8801| 29.7853| -90.1158|      0.9|   LA|   MARRERO 9 SSW|\n",
      "+-----------+----------+--------+---------+---------+-----+----------------+\n",
      "only showing top 3 rows\n",
      "\n"
     ]
    }
   ],
   "source": [
    "stations_df=sqlContext.read.parquet(data_dir+'/stations.parquet')\n",
    "stations_df.show(3)"
   ]
  },
  {
   "cell_type": "code",
   "execution_count": 9,
   "metadata": {
    "ExecuteTime": {
     "end_time": "2018-04-04T01:18:22.382767Z",
     "start_time": "2018-04-04T01:18:21.304288Z"
    },
    "slideshow": {
     "slide_type": "skip"
    }
   },
   "outputs": [
    {
     "name": "stdout",
     "output_type": "stream",
     "text": [
      "keys from STAT= dict_keys(['TMAX', 'SNOW', 'SNWD', 'TMIN', 'PRCP', 'TOBS'])\n",
      "8026\n",
      "+-----------+-----------+--------------------+----+-----------------+------------------+-------------------+------------------+------------------+------------------+--------------------+--------------------+--------------------+--------------------+------------------+-----------+----------+--------+---------+---------+-----+-----------------+\n",
      "|    Station|Measurement|              Values|Year|          coeff_1|           coeff_2|            coeff_3|           coeff_4|           coeff_5|             res_1|               res_2|               res_3|               res_4|               res_5|          res_mean|  total_var|Dist_coast|Latitude|Longitude|Elevation|State|             Name|\n",
      "+-----------+-----------+--------------------+----+-----------------+------------------+-------------------+------------------+------------------+------------------+--------------------+--------------------+--------------------+--------------------+------------------+-----------+----------+--------+---------+---------+-----+-----------------+\n",
      "|USC00306411|       SNWD|[F6 60 8E 61 C2 6...|1945|5053.259734988232| 4339.126273974124| -664.2787305692001|246.26336859357917|-126.3975883425881| 0.395372926920007|0.021843296029783358|0.014758952247593535|0.013233804668550167|0.013333892261792497|0.7004236682602922|6.5071034E7|   370.621| 44.6333| -74.8333|    228.9|   NY|PARISHVILLE 1 WNW|\n",
      "|USC00303102|       SNWD|[5A 62 8A 63 24 6...|1945|6204.511279659803|2949.5455967190114|-1078.3343184044522| 268.5792329693505| 373.0941636726788|0.2079498719181787|  0.0453279969295444|0.018695274158698393|0.017652624748693953|0.016821628536508846|0.6898108551423349|7.1814799E7|   312.333| 44.4333| -74.1667|    537.1|   NY|         GABRIELS|\n",
      "+-----------+-----------+--------------------+----+-----------------+------------------+-------------------+------------------+------------------+------------------+--------------------+--------------------+--------------------+--------------------+------------------+-----------+----------+--------+---------+---------+-----+-----------------+\n",
      "only showing top 2 rows\n",
      "\n"
     ]
    }
   ],
   "source": [
    "### Read the data frame from pickle file\n",
    "\n",
    "state='NY'\n",
    "meas='SNWD'\n",
    "\n",
    "from pickle import load\n",
    "\n",
    "#read statistics\n",
    "filename=data_dir+'/STAT_%s.pickle'%state\n",
    "STAT,STAT_Descriptions = load(open(filename,'rb'))\n",
    "print('keys from STAT=',STAT.keys())\n",
    "\n",
    "#!ls -ld $data_dir/*.parquet\n",
    "\n",
    "#read data\n",
    "filename=data_dir+'/decon_%s_%s.parquet'%(state,meas)\n",
    "\n",
    "df=sqlContext.read.parquet(filename)\n",
    "print(df.count())\n",
    "df.show(2)"
   ]
  },
  {
   "cell_type": "code",
   "execution_count": 10,
   "metadata": {
    "ExecuteTime": {
     "end_time": "2018-04-04T01:18:24.274875Z",
     "start_time": "2018-04-04T01:18:23.908153Z"
    },
    "scrolled": true,
    "slideshow": {
     "slide_type": "subslide"
    }
   },
   "outputs": [
    {
     "name": "stdout",
     "output_type": "stream",
     "text": [
      "SELECT station, latitude,longitude,elevation,coeff_1 FROM weather\n",
      "+-----------+--------+---------+---------+------------------+\n",
      "|    station|latitude|longitude|elevation|           coeff_1|\n",
      "+-----------+--------+---------+---------+------------------+\n",
      "|USC00306411| 44.6333| -74.8333|    228.9| 5053.259734988232|\n",
      "|USC00303102| 44.4333| -74.1667|    537.1| 6204.511279659803|\n",
      "|USC00305711| 43.9667| -74.2167|    494.1| 6602.882866948245|\n",
      "|USC00308080|    43.5| -74.3617|    530.4|6095.5397315181945|\n",
      "+-----------+--------+---------+---------+------------------+\n",
      "only showing top 4 rows\n",
      "\n"
     ]
    }
   ],
   "source": [
    "#extract longitude and latitude for each station\n",
    "feature='coeff_1'\n",
    "sqlContext.registerDataFrameAsTable(df,'weather')\n",
    "Query=\"SELECT station, latitude,longitude,elevation,%s FROM weather\"%feature\n",
    "print(Query)\n",
    "df1 = sqlContext.sql(Query)\n",
    "df1.show(4)"
   ]
  },
  {
   "cell_type": "code",
   "execution_count": 11,
   "metadata": {
    "ExecuteTime": {
     "end_time": "2018-04-04T01:18:29.089757Z",
     "start_time": "2018-04-04T01:18:26.621457Z"
    },
    "slideshow": {
     "slide_type": "skip"
    }
   },
   "outputs": [
    {
     "data": {
      "text/html": [
       "<div>\n",
       "<style scoped>\n",
       "    .dataframe tbody tr th:only-of-type {\n",
       "        vertical-align: middle;\n",
       "    }\n",
       "\n",
       "    .dataframe tbody tr th {\n",
       "        vertical-align: top;\n",
       "    }\n",
       "\n",
       "    .dataframe thead th {\n",
       "        text-align: right;\n",
       "    }\n",
       "</style>\n",
       "<table border=\"1\" class=\"dataframe\">\n",
       "  <thead>\n",
       "    <tr style=\"text-align: right;\">\n",
       "      <th></th>\n",
       "      <th>station</th>\n",
       "      <th>latitude</th>\n",
       "      <th>longitude</th>\n",
       "      <th>elevation</th>\n",
       "      <th>count(station)</th>\n",
       "      <th>avg(coeff_1)</th>\n",
       "    </tr>\n",
       "  </thead>\n",
       "  <tbody>\n",
       "    <tr>\n",
       "      <th>278</th>\n",
       "      <td>USC00300015</td>\n",
       "      <td>43.900002</td>\n",
       "      <td>-76.066704</td>\n",
       "      <td>121.900002</td>\n",
       "      <td>25</td>\n",
       "      <td>1518.218186</td>\n",
       "    </tr>\n",
       "    <tr>\n",
       "      <th>103</th>\n",
       "      <td>USC00300023</td>\n",
       "      <td>42.101398</td>\n",
       "      <td>-77.234398</td>\n",
       "      <td>304.500000</td>\n",
       "      <td>43</td>\n",
       "      <td>-85.428431</td>\n",
       "    </tr>\n",
       "  </tbody>\n",
       "</table>\n",
       "</div>"
      ],
      "text/plain": [
       "         station   latitude  longitude   elevation  count(station)  \\\n",
       "278  USC00300015  43.900002 -76.066704  121.900002              25   \n",
       "103  USC00300023  42.101398 -77.234398  304.500000              43   \n",
       "\n",
       "     avg(coeff_1)  \n",
       "278   1518.218186  \n",
       "103    -85.428431  "
      ]
     },
     "execution_count": 11,
     "metadata": {},
     "output_type": "execute_result"
    }
   ],
   "source": [
    "df2=df1.groupby(['station','latitude','longitude','elevation']).agg({\"station\": \"count\", feature: \"mean\"})\n",
    "pdf=df2.toPandas()\n",
    "pdf.sort_values(by=['station'],inplace=True)\n",
    "pdf.head(2)"
   ]
  },
  {
   "cell_type": "code",
   "execution_count": 24,
   "metadata": {
    "ExecuteTime": {
     "end_time": "2018-04-04T01:16:12.630007Z",
     "start_time": "2018-04-04T01:16:12.619127Z"
    },
    "slideshow": {
     "slide_type": "skip"
    }
   },
   "outputs": [
    {
     "data": {
      "text/html": [
       "<div>\n",
       "<style scoped>\n",
       "    .dataframe tbody tr th:only-of-type {\n",
       "        vertical-align: middle;\n",
       "    }\n",
       "\n",
       "    .dataframe tbody tr th {\n",
       "        vertical-align: top;\n",
       "    }\n",
       "\n",
       "    .dataframe thead th {\n",
       "        text-align: right;\n",
       "    }\n",
       "</style>\n",
       "<table border=\"1\" class=\"dataframe\">\n",
       "  <thead>\n",
       "    <tr style=\"text-align: right;\">\n",
       "      <th></th>\n",
       "      <th>station</th>\n",
       "      <th>latitude</th>\n",
       "      <th>longitude</th>\n",
       "      <th>elevation</th>\n",
       "      <th>count(station)</th>\n",
       "      <th>avg(coeff_1)</th>\n",
       "    </tr>\n",
       "  </thead>\n",
       "  <tbody>\n",
       "    <tr>\n",
       "      <th>278</th>\n",
       "      <td>USC00300015</td>\n",
       "      <td>43.900002</td>\n",
       "      <td>-76.066704</td>\n",
       "      <td>121.900002</td>\n",
       "      <td>25</td>\n",
       "      <td>1518.218186</td>\n",
       "    </tr>\n",
       "    <tr>\n",
       "      <th>103</th>\n",
       "      <td>USC00300023</td>\n",
       "      <td>42.101398</td>\n",
       "      <td>-77.234398</td>\n",
       "      <td>304.500000</td>\n",
       "      <td>43</td>\n",
       "      <td>-85.428431</td>\n",
       "    </tr>\n",
       "    <tr>\n",
       "      <th>255</th>\n",
       "      <td>USC00300047</td>\n",
       "      <td>42.646099</td>\n",
       "      <td>-73.747200</td>\n",
       "      <td>0.000000</td>\n",
       "      <td>4</td>\n",
       "      <td>-151.450907</td>\n",
       "    </tr>\n",
       "    <tr>\n",
       "      <th>296</th>\n",
       "      <td>USC00300055</td>\n",
       "      <td>43.272202</td>\n",
       "      <td>-78.166397</td>\n",
       "      <td>134.100006</td>\n",
       "      <td>28</td>\n",
       "      <td>31.967577</td>\n",
       "    </tr>\n",
       "    <tr>\n",
       "      <th>12</th>\n",
       "      <td>USC00300063</td>\n",
       "      <td>42.469700</td>\n",
       "      <td>-73.926697</td>\n",
       "      <td>185.000000</td>\n",
       "      <td>4</td>\n",
       "      <td>-21.798765</td>\n",
       "    </tr>\n",
       "  </tbody>\n",
       "</table>\n",
       "</div>"
      ],
      "text/plain": [
       "         station   latitude  longitude   elevation  count(station)  \\\n",
       "278  USC00300015  43.900002 -76.066704  121.900002              25   \n",
       "103  USC00300023  42.101398 -77.234398  304.500000              43   \n",
       "255  USC00300047  42.646099 -73.747200    0.000000               4   \n",
       "296  USC00300055  43.272202 -78.166397  134.100006              28   \n",
       "12   USC00300063  42.469700 -73.926697  185.000000               4   \n",
       "\n",
       "     avg(coeff_1)  \n",
       "278   1518.218186  \n",
       "103    -85.428431  \n",
       "255   -151.450907  \n",
       "296     31.967577  \n",
       "12     -21.798765  "
      ]
     },
     "execution_count": 24,
     "metadata": {},
     "output_type": "execute_result"
    }
   ],
   "source": [
    "pdf.head()"
   ]
  },
  {
   "cell_type": "code",
   "execution_count": 16,
   "metadata": {
    "ExecuteTime": {
     "end_time": "2018-04-04T01:26:42.986161Z",
     "start_time": "2018-04-04T01:26:42.982106Z"
    },
    "slideshow": {
     "slide_type": "skip"
    }
   },
   "outputs": [],
   "source": [
    "# Find long/lat bounding box\n",
    "max_long=pdf['longitude'].max()\n",
    "min_long=pdf['longitude'].min()\n",
    "max_lat=pdf['latitude'].max()\n",
    "min_lat=pdf['latitude'].min()\n"
   ]
  },
  {
   "cell_type": "code",
   "execution_count": 13,
   "metadata": {
    "ExecuteTime": {
     "end_time": "2018-04-04T01:25:53.983708Z",
     "start_time": "2018-04-04T01:25:53.971783Z"
    },
    "slideshow": {
     "slide_type": "fragment"
    }
   },
   "outputs": [
    {
     "data": {
      "text/plain": [
       "'#00c0ff'"
      ]
     },
     "execution_count": 13,
     "metadata": {},
     "output_type": "execute_result"
    }
   ],
   "source": [
    "#define a mapping from the range of the value to hex colors.\n",
    "from matplotlib.colors import rgb2hex\n",
    "_avg='avg(%s)'%feature\n",
    "_min=pdf[_avg].min()\n",
    "_max=pdf[_avg].max()\n",
    "_min,_max\n",
    "\n",
    "import pylab as plt\n",
    "cmap=plt.get_cmap('jet')\n",
    "def get_color(val):\n",
    "    x=(val-_min)/(_max-_min)\n",
    "    return(rgb2hex(cmap(x)[:3]))\n",
    "\n",
    "get_color(1000.)"
   ]
  },
  {
   "cell_type": "markdown",
   "metadata": {
    "slideshow": {
     "slide_type": "slide"
    }
   },
   "source": [
    "## Map"
   ]
  },
  {
   "cell_type": "code",
   "execution_count": 18,
   "metadata": {
    "ExecuteTime": {
     "end_time": "2018-04-04T01:28:23.932122Z",
     "start_time": "2018-04-04T01:28:23.860884Z"
    },
    "hide_input": false,
    "slideshow": {
     "slide_type": "fragment"
    }
   },
   "outputs": [
    {
     "data": {
      "image/png": "[encoded data removed]",
      "text/plain": [
       "<matplotlib.figure.Figure at 0x1518675eb8>"
      ]
     },
     "metadata": {},
     "output_type": "display_data"
    }
   ],
   "source": [
    "#def color_bar(_min,_max)\n",
    "import pylab as plt\n",
    "from matplotlib.pyplot import xticks,yticks\n",
    "figure(figsize=[10,1])\n",
    "ax = plt.subplot(111)\n",
    "vals=cmap(np.arange(0,1,0.005))[:,:3]\n",
    "vals3=np.stack([vals]*10)\n",
    "vals3.shape\n",
    "ax.imshow(vals3);\n",
    "\n",
    "midpoint=200.*-_min/(_max-_min)\n",
    "xticks((0,midpoint,200),[\"%4.1f\"%v for v in (_min,0.,_max)])\n",
    "yticks(());\n"
   ]
  },
  {
   "cell_type": "code",
   "execution_count": 17,
   "metadata": {
    "ExecuteTime": {
     "end_time": "2018-04-04T01:26:48.086959Z",
     "start_time": "2018-04-04T01:26:46.672825Z"
    },
    "hide_input": false,
    "slideshow": {
     "slide_type": "fragment"
    }
   },
   "outputs": [
    {
     "data": {
      "application/vnd.jupyter.widget-view+json": {
       "model_id": "3b10d16c29c04d97b37d996a96ea47b2",
       "version_major": 2,
       "version_minor": 0
      },
      "text/html": [
       "<p>Failed to display Jupyter Widget of type <code>Map</code>.</p>\n",
       "<p>\n",
       "  If you're reading this message in the Jupyter Notebook or JupyterLab Notebook, it may mean\n",
       "  that the widgets JavaScript is still loading. If this message persists, it\n",
       "  likely means that the widgets JavaScript library is either not installed or\n",
       "  not enabled. See the <a href=\"https://ipywidgets.readthedocs.io/en/stable/user_install.html\">Jupyter\n",
       "  Widgets Documentation</a> for setup instructions.\n",
       "</p>\n",
       "<p>\n",
       "  If you're reading this message in another frontend (for example, a static\n",
       "  rendering on GitHub or <a href=\"https://nbviewer.jupyter.org/\">NBViewer</a>),\n",
       "  it may mean that your frontend doesn't currently support widgets.\n",
       "</p>\n"
      ],
      "text/plain": [
       "Map(basemap={'url': 'https://{s}.tile.openstreetmap.org/{z}/{x}/{y}.png', 'max_zoom': 19, 'attribution': 'Map data (c) <a href=\"https://openstreetmap.org\">OpenStreetMap</a> contributors'}, center=[42.759552001953125, -75.94625091552734], layers=(TileLayer(base=True, max_zoom=19, min_zoom=1, options=['attribution', 'detect_retina', 'max_zoom', 'min_zoom', 'tile_size']), Rectangle(bounds=[[40.5833, -79.5856], [44.9358, -72.3069]], fill_opacity=0.0, options=['class_name', 'clickable', 'color', 'dash_array', 'fill', 'fill_color', 'fill_opacity', 'line_cap', 'line_join', 'no_clip', 'opacity', 'pointer_events', 'smooth_factor', 'stroke', 'weight']), Circle(color='#F00', fill_color='#2cffca', fill_opacity=0.4, location=[43.900001525878906, -76.06670379638672], opacity=0.8, options=['class_name', 'clickable', 'color', 'dash_array', 'fill', 'fill_color', 'fill_opacity', 'line_cap', 'line_join', 'opacity', 'pointer_events', 'stroke', 'weight'], radius=3000, weight=1), Circle(color='#F00', fill_color='#0004ff', fill_opacity=0.4, location=[42.10139846801758, -77.2343978881836], opacity=0.8, options=['class_name', 'clickable', 'color', 'dash_array', 'fill', 'fill_color', 'fill_opacity', 'line_cap', 'line_join', 'opacity', 'pointer_events', 'stroke', 'weight'], radius=3934, weight=1), Circle(color='#F00', fill_color='#0000ff', fill_opacity=0.4, location=[42.64609909057617, -73.74720001220703], opacity=0.8, options=['class_name', 'clickable', 'color', 'dash_array', 'fill', 'fill_color', 'fill_opacity', 'line_cap', 'line_join', 'opacity', 'pointer_events', 'stroke', 'weight'], radius=1200, weight=1), Circle(color='#F00', fill_color='#0018ff', fill_opacity=0.4, location=[43.27220153808594, -78.16639709472656], opacity=0.8, options=['class_name', 'clickable', 'color', 'dash_array', 'fill', 'fill_color', 'fill_opacity', 'line_cap', 'line_join', 'opacity', 'pointer_events', 'stroke', 'weight'], radius=3174, weight=1), Circle(color='#F00', fill_color='#000cff', fill_opacity=0.4, location=[42.46969985961914, -73.92669677734375], opacity=0.8, options=['class_name', 'clickable', 'color', 'dash_array', 'fill', 'fill_color', 'fill_opacity', 'line_cap', 'line_join', 'opacity', 'pointer_events', 'stroke', 'weight'], radius=1200, weight=1), Circle(color='#F00', fill_color='#0040ff', fill_opacity=0.4, location=[44.33330154418945, -75.91670227050781], opacity=0.8, options=['class_name', 'clickable', 'color', 'dash_array', 'fill', 'fill_color', 'fill_opacity', 'line_cap', 'line_join', 'opacity', 'pointer_events', 'stroke', 'weight'], radius=3446, weight=1), Circle(color='#F00', fill_color='#002cff', fill_opacity=0.4, location=[42.249698638916016, -77.75830078125], opacity=0.8, options=['class_name', 'clickable', 'color', 'dash_array', 'fill', 'fill_color', 'fill_opacity', 'line_cap', 'line_join', 'opacity', 'pointer_events', 'stroke', 'weight'], radius=4874, weight=1), Circle(color='#F00', fill_color='#0000ed', fill_opacity=0.4, location=[42.099998474121094, -78.56670379638672], opacity=0.8, options=['class_name', 'clickable', 'color', 'dash_array', 'fill', 'fill_color', 'fill_opacity', 'line_cap', 'line_join', 'opacity', 'pointer_events', 'stroke', 'weight'], radius=1341, weight=1), Circle(color='#F00', fill_color='#0030ff', fill_opacity=0.4, location=[42.10029983520508, -78.74970245361328], opacity=0.8, options=['class_name', 'clickable', 'color', 'dash_array', 'fill', 'fill_color', 'fill_opacity', 'line_cap', 'line_join', 'opacity', 'pointer_events', 'stroke', 'weight'], radius=5019, weight=1), Circle(color='#F00', fill_color='#003cff', fill_opacity=0.4, location=[42.91669845581055, -74.13330078125], opacity=0.8, options=['class_name', 'clickable', 'color', 'dash_array', 'fill', 'fill_color', 'fill_opacity', 'line_cap', 'line_join', 'opacity', 'pointer_events', 'stroke', 'weight'], radius=2683, weight=1), Circle(color='#F00', fill_color='#0020ff', fill_opacity=0.4, location=[42.31169891357422, -78.02439880371094], opacity=0.8, options=['class_name', 'clickable', 'color', 'dash_array', 'fill', 'fill_color', 'fill_opacity', 'line_cap', 'line_join', 'opacity', 'pointer_events', 'stroke', 'weight'], radius=4069, weight=1), Circle(color='#F00', fill_color='#0078ff', fill_opacity=0.4, location=[42.53329849243164, -78.41670227050781], opacity=0.8, options=['class_name', 'clickable', 'color', 'dash_array', 'fill', 'fill_color', 'fill_opacity', 'line_cap', 'line_join', 'opacity', 'pointer_events', 'stroke', 'weight'], radius=4113, weight=1), Circle(color='#F00', fill_color='#0030ff', fill_opacity=0.4, location=[42.93280029296875, -76.5447006225586], opacity=0.8, options=['class_name', 'clickable', 'color', 'dash_array', 'fill', 'fill_color', 'fill_opacity', 'line_cap', 'line_join', 'opacity', 'pointer_events', 'stroke', 'weight'], radius=4800, weight=1), Circle(color='#F00', fill_color='#0014ff', fill_opacity=0.4, location=[42.7338981628418, -76.6592025756836], opacity=0.8, options=['class_name', 'clickable', 'color', 'dash_array', 'fill', 'fill_color', 'fill_opacity', 'line_cap', 'line_join', 'opacity', 'pointer_events', 'stroke', 'weight'], radius=3286, weight=1), Circle(color='#F00', fill_color='#0000ff', fill_opacity=0.4, location=[42.9202995300293, -77.75579833984375], opacity=0.8, options=['class_name', 'clickable', 'color', 'dash_array', 'fill', 'fill_color', 'fill_opacity', 'line_cap', 'line_join', 'opacity', 'pointer_events', 'stroke', 'weight'], radius=3934, weight=1), Circle(color='#F00', fill_color='#0044ff', fill_opacity=0.4, location=[40.71670150756836, -73.36669921875], opacity=0.8, options=['class_name', 'clickable', 'color', 'dash_array', 'fill', 'fill_color', 'fill_opacity', 'line_cap', 'line_join', 'opacity', 'pointer_events', 'stroke', 'weight'], radius=848, weight=1), Circle(color='#F00', fill_color='#002cff', fill_opacity=0.4, location=[42.28329849243164, -75.44999694824219], opacity=0.8, options=['class_name', 'clickable', 'color', 'dash_array', 'fill', 'fill_color', 'fill_opacity', 'line_cap', 'line_join', 'opacity', 'pointer_events', 'stroke', 'weight'], radius=3746, weight=1), Circle(color='#F00', fill_color='#0044ff', fill_opacity=0.4, location=[43.150001525878906, -76.33329772949219], opacity=0.8, options=['class_name', 'clickable', 'color', 'dash_array', 'fill', 'fill_color', 'fill_opacity', 'line_cap', 'line_join', 'opacity', 'pointer_events', 'stroke', 'weight'], radius=3794, weight=1), Circle(color='#F00', fill_color='#ff7e00', fill_opacity=0.4, location=[43.81669998168945, -75.80000305175781], opacity=0.8, options=['class_name', 'clickable', 'color', 'dash_array', 'fill', 'fill_color', 'fill_opacity', 'line_cap', 'line_join', 'opacity', 'pointer_events', 'stroke', 'weight'], radius=2078, weight=1), Circle(color='#F00', fill_color='#000cff', fill_opacity=0.4, location=[43.03030014038086, -78.16919708251953], opacity=0.8, options=['class_name', 'clickable', 'color', 'dash_array', 'fill', 'fill_color', 'fill_opacity', 'line_cap', 'line_join', 'opacity', 'pointer_events', 'stroke', 'weight'], radius=3649, weight=1), Circle(color='#F00', fill_color='#0020ff', fill_opacity=0.4, location=[42.348899841308594, -77.3478012084961], opacity=0.8, options=['class_name', 'clickable', 'color', 'dash_array', 'fill', 'fill_color', 'fill_opacity', 'line_cap', 'line_join', 'opacity', 'pointer_events', 'stroke', 'weight'], radius=3174, weight=1), Circle(color='#F00', fill_color='#09f0ee', fill_opacity=0.4, location=[42.66669845581055, -78.38330078125], opacity=0.8, options=['class_name', 'clickable', 'color', 'dash_array', 'fill', 'fill_color', 'fill_opacity', 'line_cap', 'line_join', 'opacity', 'pointer_events', 'stroke', 'weight'], radius=1469, weight=1), Circle(color='#F00', fill_color='#0000ff', fill_opacity=0.4, location=[41.233299255371094, -73.7166976928711], opacity=0.8, options=['class_name', 'clickable', 'color', 'dash_array', 'fill', 'fill_color', 'fill_opacity', 'line_cap', 'line_join', 'opacity', 'pointer_events', 'stroke', 'weight'], radius=3117, weight=1), Circle(color='#F00', fill_color='#0034ff', fill_opacity=0.4, location=[42.11669921875, -75.11669921875], opacity=0.8, options=['class_name', 'clickable', 'color', 'dash_array', 'fill', 'fill_color', 'fill_opacity', 'line_cap', 'line_join', 'opacity', 'pointer_events', 'stroke', 'weight'], radius=1697, weight=1), Circle(color='#F00', fill_color='#002cff', fill_opacity=0.4, location=[42.61669921875, -73.36669921875], opacity=0.8, options=['class_name', 'clickable', 'color', 'dash_array', 'fill', 'fill_color', 'fill_opacity', 'line_cap', 'line_join', 'opacity', 'pointer_events', 'stroke', 'weight'], radius=3059, weight=1), Circle(color='#F00', fill_color='#5dff9a', fill_opacity=0.4, location=[43.79999923706055, -74.86669921875], opacity=0.8, options=['class_name', 'clickable', 'color', 'dash_array', 'fill', 'fill_color', 'fill_opacity', 'line_cap', 'line_join', 'opacity', 'pointer_events', 'stroke', 'weight'], radius=3549, weight=1), Circle(color='#F00', fill_color='#0000fa', fill_opacity=0.4, location=[42.099998474121094, -75.9000015258789], opacity=0.8, options=['class_name', 'clickable', 'color', 'dash_array', 'fill', 'fill_color', 'fill_opacity', 'line_cap', 'line_join', 'opacity', 'pointer_events', 'stroke', 'weight'], radius=2814, weight=1), Circle(color='#F00', fill_color='#000cff', fill_opacity=0.4, location=[41.53110122680664, -74.48030090332031], opacity=0.8, options=['class_name', 'clickable', 'color', 'dash_array', 'fill', 'fill_color', 'fill_opacity', 'line_cap', 'line_join', 'opacity', 'pointer_events', 'stroke', 'weight'], radius=1341, weight=1), Circle(color='#F00', fill_color='#0028ff', fill_opacity=0.4, location=[42.122501373291016, -78.2063980102539], opacity=0.8, options=['class_name', 'clickable', 'color', 'dash_array', 'fill', 'fill_color', 'fill_opacity', 'line_cap', 'line_join', 'opacity', 'pointer_events', 'stroke', 'weight'], radius=3888, weight=1), Circle(color='#F00', fill_color='#800000', fill_opacity=0.4, location=[43.436100006103516, -75.36969757080078], opacity=0.8, options=['class_name', 'clickable', 'color', 'dash_array', 'fill', 'fill_color', 'fill_opacity', 'line_cap', 'line_join', 'opacity', 'pointer_events', 'stroke', 'weight'], radius=4837, weight=1), Circle(color='#F00', fill_color='#0060ff', fill_opacity=0.4, location=[43.23860168457031, -76.19640350341797], opacity=0.8, options=['class_name', 'clickable', 'color', 'dash_array', 'fill', 'fill_color', 'fill_opacity', 'line_cap', 'line_join', 'opacity', 'pointer_events', 'stroke', 'weight'], radius=4529, weight=1), Circle(color='#F00', fill_color='#0000e3', fill_opacity=0.4, location=[40.94609832763672, -72.30690002441406], opacity=0.8, options=['class_name', 'clickable', 'color', 'dash_array', 'fill', 'fill_color', 'fill_opacity', 'line_cap', 'line_join', 'opacity', 'pointer_events', 'stroke', 'weight'], radius=1039, weight=1), Circle(color='#F00', fill_color='#0024ff', fill_opacity=0.4, location=[43.20000076293945, -77.93329620361328], opacity=0.8, options=['class_name', 'clickable', 'color', 'dash_array', 'fill', 'fill_color', 'fill_opacity', 'line_cap', 'line_join', 'opacity', 'pointer_events', 'stroke', 'weight'], radius=3794, weight=1), Circle(color='#F00', fill_color='#0000b6', fill_opacity=0.4, location=[40.83689880371094, -73.84940338134766], opacity=0.8, options=['class_name', 'clickable', 'color', 'dash_array', 'fill', 'fill_color', 'fill_opacity', 'line_cap', 'line_join', 'opacity', 'pointer_events', 'stroke', 'weight'], radius=600, weight=1), Circle(color='#F00', fill_color='#0000ff', fill_opacity=0.4, location=[42.88330078125, -78.88330078125], opacity=0.8, options=['class_name', 'clickable', 'color', 'dash_array', 'fill', 'fill_color', 'fill_opacity', 'line_cap', 'line_join', 'opacity', 'pointer_events', 'stroke', 'weight'], radius=3059, weight=1), Circle(color='#F00', fill_color='#00b4ff', fill_opacity=0.4, location=[42.936100006103516, -73.43250274658203], opacity=0.8, options=['class_name', 'clickable', 'color', 'dash_array', 'fill', 'fill_color', 'fill_opacity', 'line_cap', 'line_join', 'opacity', 'pointer_events', 'stroke', 'weight'], radius=600, weight=1), Circle(color='#F00', fill_color='#0030ff', fill_opacity=0.4, location=[42.31669998168945, -74.0167007446289], opacity=0.8, options=['class_name', 'clickable', 'color', 'dash_array', 'fill', 'fill_color', 'fill_opacity', 'line_cap', 'line_join', 'opacity', 'pointer_events', 'stroke', 'weight'], radius=2814, weight=1), Circle(color='#F00', fill_color='#0010ff', fill_opacity=0.4, location=[42.31669998168945, -74.03309631347656], opacity=0.8, options=['class_name', 'clickable', 'color', 'dash_array', 'fill', 'fill_color', 'fill_opacity', 'line_cap', 'line_join', 'opacity', 'pointer_events', 'stroke', 'weight'], radius=2473, weight=1), Circle(color='#F00', fill_color='#0000ff', fill_opacity=0.4, location=[41.766700744628906, -75.05000305175781], opacity=0.8, options=['class_name', 'clickable', 'color', 'dash_array', 'fill', 'fill_color', 'fill_opacity', 'line_cap', 'line_join', 'opacity', 'pointer_events', 'stroke', 'weight'], radius=848, weight=1), Circle(color='#F00', fill_color='#00c8ff', fill_opacity=0.4, location=[43.33060073852539, -75.8416976928711], opacity=0.8, options=['class_name', 'clickable', 'color', 'dash_array', 'fill', 'fill_color', 'fill_opacity', 'line_cap', 'line_join', 'opacity', 'pointer_events', 'stroke', 'weight'], radius=3794, weight=1), Circle(color='#F00', fill_color='#0018ff', fill_opacity=0.4, location=[42.91669845581055, -74.58329772949219], opacity=0.8, options=['class_name', 'clickable', 'color', 'dash_array', 'fill', 'fill_color', 'fill_opacity', 'line_cap', 'line_join', 'opacity', 'pointer_events', 'stroke', 'weight'], radius=2323, weight=1), Circle(color='#F00', fill_color='#000cff', fill_opacity=0.4, location=[42.845298767089844, -77.28079986572266], opacity=0.8, options=['class_name', 'clickable', 'color', 'dash_array', 'fill', 'fill_color', 'fill_opacity', 'line_cap', 'line_join', 'opacity', 'pointer_events', 'stroke', 'weight'], radius=1697, weight=1), Circle(color='#F00', fill_color='#0014ff', fill_opacity=0.4, location=[41.43330001831055, -73.68329620361328], opacity=0.8, options=['class_name', 'clickable', 'color', 'dash_array', 'fill', 'fill_color', 'fill_opacity', 'line_cap', 'line_join', 'opacity', 'pointer_events', 'stroke', 'weight'], radius=2615, weight=1), Circle(color='#F00', fill_color='#0000ff', fill_opacity=0.4, location=[41.47249984741211, -73.65499877929688], opacity=0.8, options=['class_name', 'clickable', 'color', 'dash_array', 'fill', 'fill_color', 'fill_opacity', 'line_cap', 'line_join', 'opacity', 'pointer_events', 'stroke', 'weight'], radius=1341, weight=1), Circle(color='#F00', fill_color='#0004ff', fill_opacity=0.4, location=[42.233299255371094, -73.86669921875], opacity=0.8, options=['class_name', 'clickable', 'color', 'dash_array', 'fill', 'fill_color', 'fill_opacity', 'line_cap', 'line_join', 'opacity', 'pointer_events', 'stroke', 'weight'], radius=1800, weight=1), Circle(color='#F00', fill_color='#00a0ff', fill_opacity=0.4, location=[42.91669845581055, -75.86669921875], opacity=0.8, options=['class_name', 'clickable', 'color', 'dash_array', 'fill', 'fill_color', 'fill_opacity', 'line_cap', 'line_join', 'opacity', 'pointer_events', 'stroke', 'weight'], radius=1897, weight=1), Circle(color='#F00', fill_color='#0000bf', fill_opacity=0.4, location=[40.8838996887207, -73.37220001220703], opacity=0.8, options=['class_name', 'clickable', 'color', 'dash_array', 'fill', 'fill_color', 'fill_opacity', 'line_cap', 'line_join', 'opacity', 'pointer_events', 'stroke', 'weight'], radius=848, weight=1), Circle(color='#F00', fill_color='#5aff9d', fill_opacity=0.4, location=[44.75, -74.2166976928711], opacity=0.8, options=['class_name', 'clickable', 'color', 'dash_array', 'fill', 'fill_color', 'fill_opacity', 'line_cap', 'line_join', 'opacity', 'pointer_events', 'stroke', 'weight'], radius=4947, weight=1), Circle(color='#F00', fill_color='#0034ff', fill_opacity=0.4, location=[42.36669921875, -73.5999984741211], opacity=0.8, options=['class_name', 'clickable', 'color', 'dash_array', 'fill', 'fill_color', 'fill_opacity', 'line_cap', 'line_join', 'opacity', 'pointer_events', 'stroke', 'weight'], radius=3000, weight=1), Circle(color='#F00', fill_color='#003cff', fill_opacity=0.4, location=[44.87860107421875, -73.39530181884766], opacity=0.8, options=['class_name', 'clickable', 'color', 'dash_array', 'fill', 'fill_color', 'fill_opacity', 'line_cap', 'line_join', 'opacity', 'pointer_events', 'stroke', 'weight'], radius=5161, weight=1), Circle(color='#F00', fill_color='#0000ff', fill_opacity=0.4, location=[42.002498626708984, -76.63829803466797], opacity=0.8, options=['class_name', 'clickable', 'color', 'dash_array', 'fill', 'fill_color', 'fill_opacity', 'line_cap', 'line_join', 'opacity', 'pointer_events', 'stroke', 'weight'], radius=2683, weight=1), Circle(color='#F00', fill_color='#7aff7d', fill_opacity=0.4, location=[42.82389831542969, -74.73860168457031], opacity=0.8, options=['class_name', 'clickable', 'color', 'dash_array', 'fill', 'fill_color', 'fill_opacity', 'line_cap', 'line_join', 'opacity', 'pointer_events', 'stroke', 'weight'], radius=4569, weight=1), Circle(color='#F00', fill_color='#0020ff', fill_opacity=0.4, location=[43.05889892578125, -76.8386001586914], opacity=0.8, options=['class_name', 'clickable', 'color', 'dash_array', 'fill', 'fill_color', 'fill_opacity', 'line_cap', 'line_join', 'opacity', 'pointer_events', 'stroke', 'weight'], radius=2078, weight=1), Circle(color='#F00', fill_color='#0000ff', fill_opacity=0.4, location=[42.66669845581055, -74.5], opacity=0.8, options=['class_name', 'clickable', 'color', 'dash_array', 'fill', 'fill_color', 'fill_opacity', 'line_cap', 'line_join', 'opacity', 'pointer_events', 'stroke', 'weight'], radius=1039, weight=1), Circle(color='#F00', fill_color='#006cff', fill_opacity=0.4, location=[42.68330001831055, -74.4832992553711], opacity=0.8, options=['class_name', 'clickable', 'color', 'dash_array', 'fill', 'fill_color', 'fill_opacity', 'line_cap', 'line_join', 'opacity', 'pointer_events', 'stroke', 'weight'], radius=3174, weight=1), Circle(color='#F00', fill_color='#005cff', fill_opacity=0.4, location=[42.66669845581055, -74.43329620361328], opacity=0.8, options=['class_name', 'clickable', 'color', 'dash_array', 'fill', 'fill_color', 'fill_opacity', 'line_cap', 'line_join', 'opacity', 'pointer_events', 'stroke', 'weight'], radius=2244, weight=1), Circle(color='#F00', fill_color='#00acff', fill_opacity=0.4, location=[42.66310119628906, -78.68309783935547], opacity=0.8, options=['class_name', 'clickable', 'color', 'dash_array', 'fill', 'fill_color', 'fill_opacity', 'line_cap', 'line_join', 'opacity', 'pointer_events', 'stroke', 'weight'], radius=3888, weight=1), Circle(color='#F00', fill_color='#006cff', fill_opacity=0.4, location=[42.64690017700195, -78.71080017089844], opacity=0.8, options=['class_name', 'clickable', 'color', 'dash_array', 'fill', 'fill_color', 'fill_opacity', 'line_cap', 'line_join', 'opacity', 'pointer_events', 'stroke', 'weight'], radius=1587, weight=1), Circle(color='#F00', fill_color='#0074ff', fill_opacity=0.4, location=[44.58420181274414, -74.95719909667969], opacity=0.8, options=['class_name', 'clickable', 'color', 'dash_array', 'fill', 'fill_color', 'fill_opacity', 'line_cap', 'line_join', 'opacity', 'pointer_events', 'stroke', 'weight'], radius=3549, weight=1), Circle(color='#F00', fill_color='#00d4ff', fill_opacity=0.4, location=[43.3203010559082, -73.92559814453125], opacity=0.8, options=['class_name', 'clickable', 'color', 'dash_array', 'fill', 'fill_color', 'fill_opacity', 'line_cap', 'line_join', 'opacity', 'pointer_events', 'stroke', 'weight'], radius=4156, weight=1), Circle(color='#F00', fill_color='#0044ff', fill_opacity=0.4, location=[44.91669845581055, -74.30000305175781], opacity=0.8, options=['class_name', 'clickable', 'color', 'dash_array', 'fill', 'fill_color', 'fill_opacity', 'line_cap', 'line_join', 'opacity', 'pointer_events', 'stroke', 'weight'], radius=1587, weight=1), Circle(color='#F00', fill_color='#c1ff36', fill_opacity=0.4, location=[43.342498779296875, -76.00060272216797], opacity=0.8, options=['class_name', 'clickable', 'color', 'dash_array', 'fill', 'fill_color', 'fill_opacity', 'line_cap', 'line_join', 'opacity', 'pointer_events', 'stroke', 'weight'], radius=1200, weight=1), Circle(color='#F00', fill_color='#0054ff', fill_opacity=0.4, location=[42.71670150756836, -74.92669677734375], opacity=0.8, options=['class_name', 'clickable', 'color', 'dash_array', 'fill', 'fill_color', 'fill_opacity', 'line_cap', 'line_join', 'opacity', 'pointer_events', 'stroke', 'weight'], radius=5400, weight=1), Circle(color='#F00', fill_color='#0034ff', fill_opacity=0.4, location=[42.11309814453125, -73.55220031738281], opacity=0.8, options=['class_name', 'clickable', 'color', 'dash_array', 'fill', 'fill_color', 'fill_opacity', 'line_cap', 'line_join', 'opacity', 'pointer_events', 'stroke', 'weight'], radius=2163, weight=1), Circle(color='#F00', fill_color='#0004ff', fill_opacity=0.4, location=[42.13420104980469, -77.06919860839844], opacity=0.8, options=['class_name', 'clickable', 'color', 'dash_array', 'fill', 'fill_color', 'fill_opacity', 'line_cap', 'line_join', 'opacity', 'pointer_events', 'stroke', 'weight'], radius=2814, weight=1), Circle(color='#F00', fill_color='#004cff', fill_opacity=0.4, location=[42.599998474121094, -76.18329620361328], opacity=0.8, options=['class_name', 'clickable', 'color', 'dash_array', 'fill', 'fill_color', 'fill_opacity', 'line_cap', 'line_join', 'opacity', 'pointer_events', 'stroke', 'weight'], radius=5019, weight=1), Circle(color='#F00', fill_color='#0000fa', fill_opacity=0.4, location=[41.016700744628906, -72.5], opacity=0.8, options=['class_name', 'clickable', 'color', 'dash_array', 'fill', 'fill_color', 'fill_opacity', 'line_cap', 'line_join', 'opacity', 'pointer_events', 'stroke', 'weight'], radius=2163, weight=1), Circle(color='#F00', fill_color='#1fffd7', fill_opacity=0.4, location=[44.719200134277344, -73.72059631347656], opacity=0.8, options=['class_name', 'clickable', 'color', 'dash_array', 'fill', 'fill_color', 'fill_opacity', 'line_cap', 'line_join', 'opacity', 'pointer_events', 'stroke', 'weight'], radius=4837, weight=1), Circle(color='#F00', fill_color='#0000ff', fill_opacity=0.4, location=[42.56560134887695, -77.71749877929688], opacity=0.8, options=['class_name', 'clickable', 'color', 'dash_array', 'fill', 'fill_color', 'fill_opacity', 'line_cap', 'line_join', 'opacity', 'pointer_events', 'stroke', 'weight'], radius=3174, weight=1), Circle(color='#F00', fill_color='#0008ff', fill_opacity=0.4, location=[42.7672004699707, -74.17109680175781], opacity=0.8, options=['class_name', 'clickable', 'color', 'dash_array', 'fill', 'fill_color', 'fill_opacity', 'line_cap', 'line_join', 'opacity', 'pointer_events', 'stroke', 'weight'], radius=1587, weight=1), Circle(color='#F00', fill_color='#000cff', fill_opacity=0.4, location=[42.25579833984375, -74.91280364990234], opacity=0.8, options=['class_name', 'clickable', 'color', 'dash_array', 'fill', 'fill_color', 'fill_opacity', 'line_cap', 'line_join', 'opacity', 'pointer_events', 'stroke', 'weight'], radius=4284, weight=1), Circle(color='#F00', fill_color='#0074ff', fill_opacity=0.4, location=[43.27360153198242, -75.42720031738281], opacity=0.8, options=['class_name', 'clickable', 'color', 'dash_array', 'fill', 'fill_color', 'fill_opacity', 'line_cap', 'line_join', 'opacity', 'pointer_events', 'stroke', 'weight'], radius=2078, weight=1), Circle(color='#F00', fill_color='#003cff', fill_opacity=0.4, location=[42.062801361083984, -75.42639923095703], opacity=0.8, options=['class_name', 'clickable', 'color', 'dash_array', 'fill', 'fill_color', 'fill_opacity', 'line_cap', 'line_join', 'opacity', 'pointer_events', 'stroke', 'weight'], radius=2814, weight=1), Circle(color='#F00', fill_color='#0000ff', fill_opacity=0.4, location=[42.70000076293945, -79.0], opacity=0.8, options=['class_name', 'clickable', 'color', 'dash_array', 'fill', 'fill_color', 'fill_opacity', 'line_cap', 'line_join', 'opacity', 'pointer_events', 'stroke', 'weight'], radius=1341, weight=1), Circle(color='#F00', fill_color='#0070ff', fill_opacity=0.4, location=[42.81669998168945, -75.88330078125], opacity=0.8, options=['class_name', 'clickable', 'color', 'dash_array', 'fill', 'fill_color', 'fill_opacity', 'line_cap', 'line_join', 'opacity', 'pointer_events', 'stroke', 'weight'], radius=4069, weight=1), Circle(color='#F00', fill_color='#0000ff', fill_opacity=0.4, location=[41.007198333740234, -73.83439636230469], opacity=0.8, options=['class_name', 'clickable', 'color', 'dash_array', 'fill', 'fill_color', 'fill_opacity', 'line_cap', 'line_join', 'opacity', 'pointer_events', 'stroke', 'weight'], radius=2163, weight=1), Circle(color='#F00', fill_color='#000cff', fill_opacity=0.4, location=[42.076900482177734, -74.98249816894531], opacity=0.8, options=['class_name', 'clickable', 'color', 'dash_array', 'fill', 'fill_color', 'fill_opacity', 'line_cap', 'line_join', 'opacity', 'pointer_events', 'stroke', 'weight'], radius=2615, weight=1), Circle(color='#F00', fill_color='#001cff', fill_opacity=0.4, location=[42.43939971923828, -73.50279998779297], opacity=0.8, options=['class_name', 'clickable', 'color', 'dash_array', 'fill', 'fill_color', 'fill_opacity', 'line_cap', 'line_join', 'opacity', 'pointer_events', 'stroke', 'weight'], radius=1341, weight=1), Circle(color='#F00', fill_color='#00a8ff', fill_opacity=0.4, location=[42.235599517822266, -74.14330291748047], opacity=0.8, options=['class_name', 'clickable', 'color', 'dash_array', 'fill', 'fill_color', 'fill_opacity', 'line_cap', 'line_join', 'opacity', 'pointer_events', 'stroke', 'weight'], radius=2814, weight=1), Circle(color='#F00', fill_color='#0008ff', fill_opacity=0.4, location=[42.332801818847656, -75.22969818115234], opacity=0.8, options=['class_name', 'clickable', 'color', 'dash_array', 'fill', 'fill_color', 'fill_opacity', 'line_cap', 'line_join', 'opacity', 'pointer_events', 'stroke', 'weight'], radius=1697, weight=1), Circle(color='#F00', fill_color='#008cff', fill_opacity=0.4, location=[44.21390151977539, -73.59860229492188], opacity=0.8, options=['class_name', 'clickable', 'color', 'dash_array', 'fill', 'fill_color', 'fill_opacity', 'line_cap', 'line_join', 'opacity', 'pointer_events', 'stroke', 'weight'], radius=4449, weight=1), Circle(color='#F00', fill_color='#00a4ff', fill_opacity=0.4, location=[44.91310119628906, -73.82219696044922], opacity=0.8, options=['class_name', 'clickable', 'color', 'dash_array', 'fill', 'fill_color', 'fill_opacity', 'line_cap', 'line_join', 'opacity', 'pointer_events', 'stroke', 'weight'], radius=4529, weight=1), Circle(color='#F00', fill_color='#000cff', fill_opacity=0.4, location=[41.71670150756836, -74.4000015258789], opacity=0.8, options=['class_name', 'clickable', 'color', 'dash_array', 'fill', 'fill_color', 'fill_opacity', 'line_cap', 'line_join', 'opacity', 'pointer_events', 'stroke', 'weight'], radius=2749, weight=1), Circle(color='#F00', fill_color='#0044ff', fill_opacity=0.4, location=[42.849998474121094, -78.63330078125], opacity=0.8, options=['class_name', 'clickable', 'color', 'dash_array', 'fill', 'fill_color', 'fill_opacity', 'line_cap', 'line_join', 'opacity', 'pointer_events', 'stroke', 'weight'], radius=1897, weight=1), Circle(color='#F00', fill_color='#0000ff', fill_opacity=0.4, location=[42.099700927734375, -76.83580017089844], opacity=0.8, options=['class_name', 'clickable', 'color', 'dash_array', 'fill', 'fill_color', 'fill_opacity', 'line_cap', 'line_join', 'opacity', 'pointer_events', 'stroke', 'weight'], radius=3794, weight=1), Circle(color='#F00', fill_color='#0018ff', fill_opacity=0.4, location=[43.150001525878906, -74.9000015258789], opacity=0.8, options=['class_name', 'clickable', 'color', 'dash_array', 'fill', 'fill_color', 'fill_opacity', 'line_cap', 'line_join', 'opacity', 'pointer_events', 'stroke', 'weight'], radius=848, weight=1), Circle(color='#F00', fill_color='#000cff', fill_opacity=0.4, location=[40.75, -73.43329620361328], opacity=0.8, options=['class_name', 'clickable', 'color', 'dash_array', 'fill', 'fill_color', 'fill_opacity', 'line_cap', 'line_join', 'opacity', 'pointer_events', 'stroke', 'weight'], radius=1800, weight=1), Circle(color='#F00', fill_color='#0000a8', fill_opacity=0.4, location=[40.766700744628906, -73.86669921875], opacity=0.8, options=['class_name', 'clickable', 'color', 'dash_array', 'fill', 'fill_color', 'fill_opacity', 'line_cap', 'line_join', 'opacity', 'pointer_events', 'stroke', 'weight'], radius=1039, weight=1), Circle(color='#F00', fill_color='#00a0ff', fill_opacity=0.4, location=[44.03329849243164, -75.7667007446289], opacity=0.8, options=['class_name', 'clickable', 'color', 'dash_array', 'fill', 'fill_color', 'fill_opacity', 'line_cap', 'line_join', 'opacity', 'pointer_events', 'stroke', 'weight'], radius=1989, weight=1), Circle(color='#F00', fill_color='#0000df', fill_opacity=0.4, location=[40.79999923706055, -73.80000305175781], opacity=0.8, options=['class_name', 'clickable', 'color', 'dash_array', 'fill', 'fill_color', 'fill_opacity', 'line_cap', 'line_join', 'opacity', 'pointer_events', 'stroke', 'weight'], radius=848, weight=1), Circle(color='#F00', fill_color='#0038ff', fill_opacity=0.4, location=[42.3297004699707, -78.46330261230469], opacity=0.8, options=['class_name', 'clickable', 'color', 'dash_array', 'fill', 'fill_color', 'fill_opacity', 'line_cap', 'line_join', 'opacity', 'pointer_events', 'stroke', 'weight'], radius=5126, weight=1), Circle(color='#F00', fill_color='#0024ff', fill_opacity=0.4, location=[42.44969940185547, -79.31199645996094], opacity=0.8, options=['class_name', 'clickable', 'color', 'dash_array', 'fill', 'fill_color', 'fill_opacity', 'line_cap', 'line_join', 'opacity', 'pointer_events', 'stroke', 'weight'], radius=3934, weight=1), Circle(color='#F00', fill_color='#0014ff', fill_opacity=0.4, location=[42.36669921875, -74.06670379638672], opacity=0.8, options=['class_name', 'clickable', 'color', 'dash_array', 'fill', 'fill_color', 'fill_opacity', 'line_cap', 'line_join', 'opacity', 'pointer_events', 'stroke', 'weight'], radius=1989, weight=1), Circle(color='#F00', fill_color='#0030ff', fill_opacity=0.4, location=[42.51919937133789, -76.33110046386719], opacity=0.8, options=['class_name', 'clickable', 'color', 'dash_array', 'fill', 'fill_color', 'fill_opacity', 'line_cap', 'line_join', 'opacity', 'pointer_events', 'stroke', 'weight'], radius=3794, weight=1), Circle(color='#F00', fill_color='#0000da', fill_opacity=0.4, location=[42.190799713134766, -78.14579772949219], opacity=0.8, options=['class_name', 'clickable', 'color', 'dash_array', 'fill', 'fill_color', 'fill_opacity', 'line_cap', 'line_join', 'opacity', 'pointer_events', 'stroke', 'weight'], radius=1200, weight=1), Circle(color='#F00', fill_color='#002cff', fill_opacity=0.4, location=[43.30500030517578, -76.3938980102539], opacity=0.8, options=['class_name', 'clickable', 'color', 'dash_array', 'fill', 'fill_color', 'fill_opacity', 'line_cap', 'line_join', 'opacity', 'pointer_events', 'stroke', 'weight'], radius=2814, weight=1), Circle(color='#F00', fill_color='#aaff4d', fill_opacity=0.4, location=[44.43330001831055, -74.16670227050781], opacity=0.8, options=['class_name', 'clickable', 'color', 'dash_array', 'fill', 'fill_color', 'fill_opacity', 'line_cap', 'line_join', 'opacity', 'pointer_events', 'stroke', 'weight'], radius=4449, weight=1), Circle(color='#F00', fill_color='#00a4ff', fill_opacity=0.4, location=[42.70000076293945, -77.4000015258789], opacity=0.8, options=['class_name', 'clickable', 'color', 'dash_array', 'fill', 'fill_color', 'fill_opacity', 'line_cap', 'line_join', 'opacity', 'pointer_events', 'stroke', 'weight'], radius=3000, weight=1), Circle(color='#F00', fill_color='#0000bf', fill_opacity=0.4, location=[41.21670150756836, -74.0], opacity=0.8, options=['class_name', 'clickable', 'color', 'dash_array', 'fill', 'fill_color', 'fill_opacity', 'line_cap', 'line_join', 'opacity', 'pointer_events', 'stroke', 'weight'], radius=600, weight=1), Circle(color='#F00', fill_color='#0000fa', fill_opacity=0.4, location=[42.88330078125, -77.0], opacity=0.8, options=['class_name', 'clickable', 'color', 'dash_array', 'fill', 'fill_color', 'fill_opacity', 'line_cap', 'line_join', 'opacity', 'pointer_events', 'stroke', 'weight'], radius=1697, weight=1), Circle(color='#F00', fill_color='#0014ff', fill_opacity=0.4, location=[42.87670135498047, -77.03079986572266], opacity=0.8, options=['class_name', 'clickable', 'color', 'dash_array', 'fill', 'fill_color', 'fill_opacity', 'line_cap', 'line_join', 'opacity', 'pointer_events', 'stroke', 'weight'], radius=2749, weight=1), Circle(color='#F00', fill_color='#0000ff', fill_opacity=0.4, location=[41.516700744628906, -73.93329620361328], opacity=0.8, options=['class_name', 'clickable', 'color', 'dash_array', 'fill', 'fill_color', 'fill_opacity', 'line_cap', 'line_join', 'opacity', 'pointer_events', 'stroke', 'weight'], radius=2163, weight=1), Circle(color='#F00', fill_color='#00ccff', fill_opacity=0.4, location=[43.33330154418945, -73.7332992553711], opacity=0.8, options=['class_name', 'clickable', 'color', 'dash_array', 'fill', 'fill_color', 'fill_opacity', 'line_cap', 'line_join', 'opacity', 'pointer_events', 'stroke', 'weight'], radius=4686, weight=1), Circle(color='#F00', fill_color='#0034ff', fill_opacity=0.4, location=[43.31669998168945, -73.6500015258789], opacity=0.8, options=['class_name', 'clickable', 'color', 'dash_array', 'fill', 'fill_color', 'fill_opacity', 'line_cap', 'line_join', 'opacity', 'pointer_events', 'stroke', 'weight'], radius=3841, weight=1), Circle(color='#F00', fill_color='#00c8ff', fill_opacity=0.4, location=[43.049198150634766, -74.35919952392578], opacity=0.8, options=['class_name', 'clickable', 'color', 'dash_array', 'fill', 'fill_color', 'fill_opacity', 'line_cap', 'line_join', 'opacity', 'pointer_events', 'stroke', 'weight'], radius=4686, weight=1), Circle(color='#F00', fill_color='#0068ff', fill_opacity=0.4, location=[44.35390090942383, -75.51219940185547], opacity=0.8, options=['class_name', 'clickable', 'color', 'dash_array', 'fill', 'fill_color', 'fill_opacity', 'line_cap', 'line_join', 'opacity', 'pointer_events', 'stroke', 'weight'], radius=4947, weight=1), Circle(color='#F00', fill_color='#0030ff', fill_opacity=0.4, location=[42.483299255371094, -78.93329620361328], opacity=0.8, options=['class_name', 'clickable', 'color', 'dash_array', 'fill', 'fill_color', 'fill_opacity', 'line_cap', 'line_join', 'opacity', 'pointer_events', 'stroke', 'weight'], radius=2163, weight=1), Circle(color='#F00', fill_color='#0088ff', fill_opacity=0.4, location=[42.78329849243164, -73.4666976928711], opacity=0.8, options=['class_name', 'clickable', 'color', 'dash_array', 'fill', 'fill_color', 'fill_opacity', 'line_cap', 'line_join', 'opacity', 'pointer_events', 'stroke', 'weight'], radius=3979, weight=1), Circle(color='#F00', fill_color='#b7ff40', fill_opacity=0.4, location=[43.13330078125, -75.11669921875], opacity=0.8, options=['class_name', 'clickable', 'color', 'dash_array', 'fill', 'fill_color', 'fill_opacity', 'line_cap', 'line_join', 'opacity', 'pointer_events', 'stroke', 'weight'], radius=1989, weight=1), Circle(color='#F00', fill_color='#0010ff', fill_opacity=0.4, location=[43.11669921875, -73.83329772949219], opacity=0.8, options=['class_name', 'clickable', 'color', 'dash_array', 'fill', 'fill_color', 'fill_opacity', 'line_cap', 'line_join', 'opacity', 'pointer_events', 'stroke', 'weight'], radius=1341, weight=1), Circle(color='#F00', fill_color='#0058ff', fill_opacity=0.4, location=[42.81669998168945, -75.5333023071289], opacity=0.8, options=['class_name', 'clickable', 'color', 'dash_array', 'fill', 'fill_color', 'fill_opacity', 'line_cap', 'line_join', 'opacity', 'pointer_events', 'stroke', 'weight'], radius=3000, weight=1), Circle(color='#F00', fill_color='#0000ff', fill_opacity=0.4, location=[42.774200439453125, -77.6082992553711], opacity=0.8, options=['class_name', 'clickable', 'color', 'dash_array', 'fill', 'fill_color', 'fill_opacity', 'line_cap', 'line_join', 'opacity', 'pointer_events', 'stroke', 'weight'], radius=3231, weight=1), Circle(color='#F00', fill_color='#0000c4', fill_opacity=0.4, location=[40.71670150756836, -73.63330078125], opacity=0.8, options=['class_name', 'clickable', 'color', 'dash_array', 'fill', 'fill_color', 'fill_opacity', 'line_cap', 'line_join', 'opacity', 'pointer_events', 'stroke', 'weight'], radius=848, weight=1), Circle(color='#F00', fill_color='#0000da', fill_opacity=0.4, location=[40.68330001831055, -73.66670227050781], opacity=0.8, options=['class_name', 'clickable', 'color', 'dash_array', 'fill', 'fill_color', 'fill_opacity', 'line_cap', 'line_join', 'opacity', 'pointer_events', 'stroke', 'weight'], radius=848, weight=1), Circle(color='#F00', fill_color='#73ff83', fill_opacity=0.4, location=[43.57529830932617, -75.52079772949219], opacity=0.8, options=['class_name', 'clickable', 'color', 'dash_array', 'fill', 'fill_color', 'fill_opacity', 'line_cap', 'line_join', 'opacity', 'pointer_events', 'stroke', 'weight'], radius=4489, weight=1), Circle(color='#F00', fill_color='#000cff', fill_opacity=0.4, location=[43.28329849243164, -77.7833023071289], opacity=0.8, options=['class_name', 'clickable', 'color', 'dash_array', 'fill', 'fill_color', 'fill_opacity', 'line_cap', 'line_join', 'opacity', 'pointer_events', 'stroke', 'weight'], radius=1039, weight=1), Circle(color='#F00', fill_color='#009cff', fill_opacity=0.4, location=[43.29999923706055, -75.1500015258789], opacity=0.8, options=['class_name', 'clickable', 'color', 'dash_array', 'fill', 'fill_color', 'fill_opacity', 'line_cap', 'line_join', 'opacity', 'pointer_events', 'stroke', 'weight'], radius=3117, weight=1), Circle(color='#F00', fill_color='#0074ff', fill_opacity=0.4, location=[43.38330078125, -74.7332992553711], opacity=0.8, options=['class_name', 'clickable', 'color', 'dash_array', 'fill', 'fill_color', 'fill_opacity', 'line_cap', 'line_join', 'opacity', 'pointer_events', 'stroke', 'weight'], radius=3498, weight=1), Circle(color='#F00', fill_color='#0008ff', fill_opacity=0.4, location=[42.63330078125, -76.19999694824219], opacity=0.8, options=['class_name', 'clickable', 'color', 'dash_array', 'fill', 'fill_color', 'fill_opacity', 'line_cap', 'line_join', 'opacity', 'pointer_events', 'stroke', 'weight'], radius=1341, weight=1), Circle(color='#F00', fill_color='#0000df', fill_opacity=0.4, location=[42.791900634765625, -77.51360321044922], opacity=0.8, options=['class_name', 'clickable', 'color', 'dash_array', 'fill', 'fill_color', 'fill_opacity', 'line_cap', 'line_join', 'opacity', 'pointer_events', 'stroke', 'weight'], radius=2163, weight=1), Circle(color='#F00', fill_color='#0010ff', fill_opacity=0.4, location=[42.348899841308594, -77.70439910888672], opacity=0.8, options=['class_name', 'clickable', 'color', 'dash_array', 'fill', 'fill_color', 'fill_opacity', 'line_cap', 'line_join', 'opacity', 'pointer_events', 'stroke', 'weight'], radius=3698, weight=1), Circle(color='#F00', fill_color='#0004ff', fill_opacity=0.4, location=[42.25, -73.7833023071289], opacity=0.8, options=['class_name', 'clickable', 'color', 'dash_array', 'fill', 'fill_color', 'fill_opacity', 'line_cap', 'line_join', 'opacity', 'pointer_events', 'stroke', 'weight'], radius=1800, weight=1), Circle(color='#F00', fill_color='#0010ff', fill_opacity=0.4, location=[42.25, -73.80000305175781], opacity=0.8, options=['class_name', 'clickable', 'color', 'dash_array', 'fill', 'fill_color', 'fill_opacity', 'line_cap', 'line_join', 'opacity', 'pointer_events', 'stroke', 'weight'], radius=2939, weight=1), Circle(color='#F00', fill_color='#0084ff', fill_opacity=0.4, location=[42.233299255371094, -78.2332992553711], opacity=0.8, options=['class_name', 'clickable', 'color', 'dash_array', 'fill', 'fill_color', 'fill_opacity', 'line_cap', 'line_join', 'opacity', 'pointer_events', 'stroke', 'weight'], radius=1341, weight=1), Circle(color='#F00', fill_color='#00d8ff', fill_opacity=0.4, location=[43.755001068115234, -74.26920318603516], opacity=0.8, options=['class_name', 'clickable', 'color', 'dash_array', 'fill', 'fill_color', 'fill_opacity', 'line_cap', 'line_join', 'opacity', 'pointer_events', 'stroke', 'weight'], radius=4449, weight=1), Circle(color='#F00', fill_color='#0000ff', fill_opacity=0.4, location=[42.44919967651367, -76.44920349121094], opacity=0.8, options=['class_name', 'clickable', 'color', 'dash_array', 'fill', 'fill_color', 'fill_opacity', 'line_cap', 'line_join', 'opacity', 'pointer_events', 'stroke', 'weight'], radius=4024, weight=1), Circle(color='#F00', fill_color='#0018ff', fill_opacity=0.4, location=[42.099998474121094, -79.25], opacity=0.8, options=['class_name', 'clickable', 'color', 'dash_array', 'fill', 'fill_color', 'fill_opacity', 'line_cap', 'line_join', 'opacity', 'pointer_events', 'stroke', 'weight'], radius=3698, weight=1), Circle(color='#F00', fill_color='#0010ff', fill_opacity=0.4, location=[42.11000061035156, -79.1592025756836], opacity=0.8, options=['class_name', 'clickable', 'color', 'dash_array', 'fill', 'fill_color', 'fill_opacity', 'line_cap', 'line_join', 'opacity', 'pointer_events', 'stroke', 'weight'], radius=3394, weight=1), Circle(color='#F00', fill_color='#0000f6', fill_opacity=0.4, location=[42.11669921875, -79.2332992553711], opacity=0.8, options=['class_name', 'clickable', 'color', 'dash_array', 'fill', 'fill_color', 'fill_opacity', 'line_cap', 'line_join', 'opacity', 'pointer_events', 'stroke', 'weight'], radius=1897, weight=1), Circle(color='#F00', fill_color='#00a0ff', fill_opacity=0.4, location=[42.0, -78.5167007446289], opacity=0.8, options=['class_name', 'clickable', 'color', 'dash_array', 'fill', 'fill_color', 'fill_opacity', 'line_cap', 'line_join', 'opacity', 'pointer_events', 'stroke', 'weight'], radius=2163, weight=1), Circle(color='#F00', fill_color='#beff39', fill_opacity=0.4, location=[44.099998474121094, -74.0], opacity=0.8, options=['class_name', 'clickable', 'color', 'dash_array', 'fill', 'fill_color', 'fill_opacity', 'line_cap', 'line_join', 'opacity', 'pointer_events', 'stroke', 'weight'], radius=848, weight=1), Circle(color='#F00', fill_color='#00bcff', fill_opacity=0.4, location=[43.43330001831055, -73.7166976928711], opacity=0.8, options=['class_name', 'clickable', 'color', 'dash_array', 'fill', 'fill_color', 'fill_opacity', 'line_cap', 'line_join', 'opacity', 'pointer_events', 'stroke', 'weight'], radius=1989, weight=1), Circle(color='#F00', fill_color='#09f0ee', fill_opacity=0.4, location=[44.2489013671875, -73.98500061035156], opacity=0.8, options=['class_name', 'clickable', 'color', 'dash_array', 'fill', 'fill_color', 'fill_opacity', 'line_cap', 'line_join', 'opacity', 'pointer_events', 'stroke', 'weight'], radius=4800, weight=1), Circle(color='#F00', fill_color='#0020ff', fill_opacity=0.4, location=[42.44860076904297, -74.46530151367188], opacity=0.8, options=['class_name', 'clickable', 'color', 'dash_array', 'fill', 'fill_color', 'fill_opacity', 'line_cap', 'line_join', 'opacity', 'pointer_events', 'stroke', 'weight'], radius=2323, weight=1), Circle(color='#F00', fill_color='#0040ff', fill_opacity=0.4, location=[44.75830078125, -74.66919708251953], opacity=0.8, options=['class_name', 'clickable', 'color', 'dash_array', 'fill', 'fill_color', 'fill_opacity', 'line_cap', 'line_join', 'opacity', 'pointer_events', 'stroke', 'weight'], radius=4686, weight=1), Circle(color='#F00', fill_color='#0018ff', fill_opacity=0.4, location=[42.58330154418945, -78.0333023071289], opacity=0.8, options=['class_name', 'clickable', 'color', 'dash_array', 'fill', 'fill_color', 'fill_opacity', 'line_cap', 'line_join', 'opacity', 'pointer_events', 'stroke', 'weight'], radius=2939, weight=1), Circle(color='#F00', fill_color='#0000e3', fill_opacity=0.4, location=[43.18330001831055, -79.05000305175781], opacity=0.8, options=['class_name', 'clickable', 'color', 'dash_array', 'fill', 'fill_color', 'fill_opacity', 'line_cap', 'line_join', 'opacity', 'pointer_events', 'stroke', 'weight'], radius=2078, weight=1), Circle(color='#F00', fill_color='#0020ff', fill_opacity=0.4, location=[43.13330078125, -78.9666976928711], opacity=0.8, options=['class_name', 'clickable', 'color', 'dash_array', 'fill', 'fill_color', 'fill_opacity', 'line_cap', 'line_join', 'opacity', 'pointer_events', 'stroke', 'weight'], radius=848, weight=1), Circle(color='#F00', fill_color='#0060ff', fill_opacity=0.4, location=[41.801700592041016, -74.73999786376953], opacity=0.8, options=['class_name', 'clickable', 'color', 'dash_array', 'fill', 'fill_color', 'fill_opacity', 'line_cap', 'line_join', 'opacity', 'pointer_events', 'stroke', 'weight'], radius=5019, weight=1), Circle(color='#F00', fill_color='#00ccff', fill_opacity=0.4, location=[43.060298919677734, -74.86859893798828], opacity=0.8, options=['class_name', 'clickable', 'color', 'dash_array', 'fill', 'fill_color', 'fill_opacity', 'line_cap', 'line_join', 'opacity', 'pointer_events', 'stroke', 'weight'], radius=5969, weight=1), Circle(color='#F00', fill_color='#005cff', fill_opacity=0.4, location=[43.03329849243164, -74.86669921875], opacity=0.8, options=['class_name', 'clickable', 'color', 'dash_array', 'fill', 'fill_color', 'fill_opacity', 'line_cap', 'line_join', 'opacity', 'pointer_events', 'stroke', 'weight'], radius=4156, weight=1), Circle(color='#F00', fill_color='#0068ff', fill_opacity=0.4, location=[42.24720001220703, -78.8125], opacity=0.8, options=['class_name', 'clickable', 'color', 'dash_array', 'fill', 'fill_color', 'fill_opacity', 'line_cap', 'line_join', 'opacity', 'pointer_events', 'stroke', 'weight'], radius=4837, weight=1), Circle(color='#F00', fill_color='#0024ff', fill_opacity=0.4, location=[42.6702995300293, -76.47219848632812], opacity=0.8, options=['class_name', 'clickable', 'color', 'dash_array', 'fill', 'fill_color', 'fill_opacity', 'line_cap', 'line_join', 'opacity', 'pointer_events', 'stroke', 'weight'], radius=1697, weight=1), Circle(color='#F00', fill_color='#001cff', fill_opacity=0.4, location=[43.139198303222656, -78.681396484375], opacity=0.8, options=['class_name', 'clickable', 'color', 'dash_array', 'fill', 'fill_color', 'fill_opacity', 'line_cap', 'line_join', 'opacity', 'pointer_events', 'stroke', 'weight'], radius=4569, weight=1), Circle(color='#F00', fill_color='#0000ff', fill_opacity=0.4, location=[43.20000076293945, -78.63330078125], opacity=0.8, options=['class_name', 'clickable', 'color', 'dash_array', 'fill', 'fill_color', 'fill_opacity', 'line_cap', 'line_join', 'opacity', 'pointer_events', 'stroke', 'weight'], radius=2545, weight=1), Circle(color='#F00', fill_color='#00b0ff', fill_opacity=0.4, location=[43.79750061035156, -75.48169708251953], opacity=0.8, options=['class_name', 'clickable', 'color', 'dash_array', 'fill', 'fill_color', 'fill_opacity', 'line_cap', 'line_join', 'opacity', 'pointer_events', 'stroke', 'weight'], radius=4983, weight=1), Circle(color='#F00', fill_color='#0020ff', fill_opacity=0.4, location=[43.33919906616211, -78.38919830322266], opacity=0.8, options=['class_name', 'clickable', 'color', 'dash_array', 'fill', 'fill_color', 'fill_opacity', 'line_cap', 'line_join', 'opacity', 'pointer_events', 'stroke', 'weight'], radius=1200, weight=1), Circle(color='#F00', fill_color='#70ff87', fill_opacity=0.4, location=[43.31669998168945, -76.0999984741211], opacity=0.8, options=['class_name', 'clickable', 'color', 'dash_array', 'fill', 'fill_color', 'fill_opacity', 'line_cap', 'line_join', 'opacity', 'pointer_events', 'stroke', 'weight'], radius=2244, weight=1), Circle(color='#F00', fill_color='#007cff', fill_opacity=0.4, location=[44.84189987182617, -74.30809783935547], opacity=0.8, options=['class_name', 'clickable', 'color', 'dash_array', 'fill', 'fill_color', 'fill_opacity', 'line_cap', 'line_join', 'opacity', 'pointer_events', 'stroke', 'weight'], radius=3117, weight=1), Circle(color='#F00', fill_color='#0064ff', fill_opacity=0.4, location=[42.469398498535156, -75.0105972290039], opacity=0.8, options=['class_name', 'clickable', 'color', 'dash_array', 'fill', 'fill_color', 'fill_opacity', 'line_cap', 'line_join', 'opacity', 'pointer_events', 'stroke', 'weight'], radius=2749, weight=1), Circle(color='#F00', fill_color='#003cff', fill_opacity=0.4, location=[43.61669921875, -75.11669921875], opacity=0.8, options=['class_name', 'clickable', 'color', 'dash_array', 'fill', 'fill_color', 'fill_opacity', 'line_cap', 'line_join', 'opacity', 'pointer_events', 'stroke', 'weight'], radius=1587, weight=1), Circle(color='#F00', fill_color='#003cff', fill_opacity=0.4, location=[42.44219970703125, -76.75859832763672], opacity=0.8, options=['class_name', 'clickable', 'color', 'dash_array', 'fill', 'fill_color', 'fill_opacity', 'line_cap', 'line_join', 'opacity', 'pointer_events', 'stroke', 'weight'], radius=1697, weight=1), Circle(color='#F00', fill_color='#0048ff', fill_opacity=0.4, location=[42.599998474121094, -74.31670379638672], opacity=0.8, options=['class_name', 'clickable', 'color', 'dash_array', 'fill', 'fill_color', 'fill_opacity', 'line_cap', 'line_join', 'opacity', 'pointer_events', 'stroke', 'weight'], radius=2545, weight=1), Circle(color='#F00', fill_color='#0000ff', fill_opacity=0.4, location=[41.46030044555664, -74.44889831542969], opacity=0.8, options=['class_name', 'clickable', 'color', 'dash_array', 'fill', 'fill_color', 'fill_opacity', 'line_cap', 'line_join', 'opacity', 'pointer_events', 'stroke', 'weight'], radius=1897, weight=1), Circle(color='#F00', fill_color='#0010ff', fill_opacity=0.4, location=[41.85530090332031, -73.66999816894531], opacity=0.8, options=['class_name', 'clickable', 'color', 'dash_array', 'fill', 'fill_color', 'fill_opacity', 'line_cap', 'line_join', 'opacity', 'pointer_events', 'stroke', 'weight'], radius=2877, weight=1), Circle(color='#F00', fill_color='#0000f6', fill_opacity=0.4, location=[41.95000076293945, -73.5167007446289], opacity=0.8, options=['class_name', 'clickable', 'color', 'dash_array', 'fill', 'fill_color', 'fill_opacity', 'line_cap', 'line_join', 'opacity', 'pointer_events', 'stroke', 'weight'], radius=848, weight=1), Circle(color='#F00', fill_color='#0004ff', fill_opacity=0.4, location=[40.7327995300293, -73.61830139160156], opacity=0.8, options=['class_name', 'clickable', 'color', 'dash_array', 'fill', 'fill_color', 'fill_opacity', 'line_cap', 'line_join', 'opacity', 'pointer_events', 'stroke', 'weight'], radius=1039, weight=1), Circle(color='#F00', fill_color='#000080', fill_opacity=0.4, location=[40.7494010925293, -73.62329864501953], opacity=0.8, options=['class_name', 'clickable', 'color', 'dash_array', 'fill', 'fill_color', 'fill_opacity', 'line_cap', 'line_join', 'opacity', 'pointer_events', 'stroke', 'weight'], radius=600, weight=1), Circle(color='#F00', fill_color='#007cff', fill_opacity=0.4, location=[41.76810073852539, -74.15499877929688], opacity=0.8, options=['class_name', 'clickable', 'color', 'dash_array', 'fill', 'fill_color', 'fill_opacity', 'line_cap', 'line_join', 'opacity', 'pointer_events', 'stroke', 'weight'], radius=5466, weight=1), Circle(color='#F00', fill_color='#00b0ff', fill_opacity=0.4, location=[42.84170150756836, -75.72640228271484], opacity=0.8, options=['class_name', 'clickable', 'color', 'dash_array', 'fill', 'fill_color', 'fill_opacity', 'line_cap', 'line_join', 'opacity', 'pointer_events', 'stroke', 'weight'], radius=5230, weight=1), Circle(color='#F00', fill_color='#0000fa', fill_opacity=0.4, location=[42.73139953613281, -77.9052963256836], opacity=0.8, options=['class_name', 'clickable', 'color', 'dash_array', 'fill', 'fill_color', 'fill_opacity', 'line_cap', 'line_join', 'opacity', 'pointer_events', 'stroke', 'weight'], radius=3059, weight=1), Circle(color='#F00', fill_color='#005cff', fill_opacity=0.4, location=[42.45000076293945, -76.36669921875], opacity=0.8, options=['class_name', 'clickable', 'color', 'dash_array', 'fill', 'fill_color', 'fill_opacity', 'line_cap', 'line_join', 'opacity', 'pointer_events', 'stroke', 'weight'], radius=2615, weight=1), Circle(color='#F00', fill_color='#0000ff', fill_opacity=0.4, location=[42.61669921875, -77.4000015258789], opacity=0.8, options=['class_name', 'clickable', 'color', 'dash_array', 'fill', 'fill_color', 'fill_opacity', 'line_cap', 'line_join', 'opacity', 'pointer_events', 'stroke', 'weight'], radius=1587, weight=1), Circle(color='#F00', fill_color='#f60b00', fill_opacity=0.4, location=[43.95000076293945, -74.83329772949219], opacity=0.8, options=['class_name', 'clickable', 'color', 'dash_array', 'fill', 'fill_color', 'fill_opacity', 'line_cap', 'line_join', 'opacity', 'pointer_events', 'stroke', 'weight'], radius=1800, weight=1), Circle(color='#F00', fill_color='#0098ff', fill_opacity=0.4, location=[42.3114013671875, -78.9083023071289], opacity=0.8, options=['class_name', 'clickable', 'color', 'dash_array', 'fill', 'fill_color', 'fill_opacity', 'line_cap', 'line_join', 'opacity', 'pointer_events', 'stroke', 'weight'], radius=600, weight=1), Circle(color='#F00', fill_color='#ffdb00', fill_opacity=0.4, location=[43.96670150756836, -74.2166976928711], opacity=0.8, options=['class_name', 'clickable', 'color', 'dash_array', 'fill', 'fill_color', 'fill_opacity', 'line_cap', 'line_join', 'opacity', 'pointer_events', 'stroke', 'weight'], radius=3698, weight=1), Circle(color='#F00', fill_color='#9aff5d', fill_opacity=0.4, location=[43.97079849243164, -74.2219009399414], opacity=0.8, options=['class_name', 'clickable', 'color', 'dash_array', 'fill', 'fill_color', 'fill_opacity', 'line_cap', 'line_join', 'opacity', 'pointer_events', 'stroke', 'weight'], radius=4449, weight=1), Circle(color='#F00', fill_color='#0000ff', fill_opacity=0.4, location=[41.68330001831055, -74.13330078125], opacity=0.8, options=['class_name', 'clickable', 'color', 'dash_array', 'fill', 'fill_color', 'fill_opacity', 'line_cap', 'line_join', 'opacity', 'pointer_events', 'stroke', 'weight'], radius=1200, weight=1), Circle(color='#F00', fill_color='#09f0ee', fill_opacity=0.4, location=[43.20000076293945, -74.91670227050781], opacity=0.8, options=['class_name', 'clickable', 'color', 'dash_array', 'fill', 'fill_color', 'fill_opacity', 'line_cap', 'line_join', 'opacity', 'pointer_events', 'stroke', 'weight'], radius=1989, weight=1), Circle(color='#F00', fill_color='#0000df', fill_opacity=0.4, location=[40.59389877319336, -73.98079681396484], opacity=0.8, options=['class_name', 'clickable', 'color', 'dash_array', 'fill', 'fill_color', 'fill_opacity', 'line_cap', 'line_join', 'opacity', 'pointer_events', 'stroke', 'weight'], radius=848, weight=1), Circle(color='#F00', fill_color='#0014ff', fill_opacity=0.4, location=[40.70000076293945, -74.0167007446289], opacity=0.8, options=['class_name', 'clickable', 'color', 'dash_array', 'fill', 'fill_color', 'fill_opacity', 'line_cap', 'line_join', 'opacity', 'pointer_events', 'stroke', 'weight'], radius=600, weight=1), Circle(color='#F00', fill_color='#0064ff', fill_opacity=0.4, location=[40.63330078125, -74.11669921875], opacity=0.8, options=['class_name', 'clickable', 'color', 'dash_array', 'fill', 'fill_color', 'fill_opacity', 'line_cap', 'line_join', 'opacity', 'pointer_events', 'stroke', 'weight'], radius=848, weight=1), Circle(color='#F00', fill_color='#0000bf', fill_opacity=0.4, location=[43.10139846801758, -78.94999694824219], opacity=0.8, options=['class_name', 'clickable', 'color', 'dash_array', 'fill', 'fill_color', 'fill_opacity', 'line_cap', 'line_join', 'opacity', 'pointer_events', 'stroke', 'weight'], radius=2078, weight=1), Circle(color='#F00', fill_color='#49ffad', fill_opacity=0.4, location=[43.66109848022461, -73.89689636230469], opacity=0.8, options=['class_name', 'clickable', 'color', 'dash_array', 'fill', 'fill_color', 'fill_opacity', 'line_cap', 'line_join', 'opacity', 'pointer_events', 'stroke', 'weight'], radius=4608, weight=1), Circle(color='#F00', fill_color='#0000ff', fill_opacity=0.4, location=[40.900001525878906, -73.3499984741211], opacity=0.8, options=['class_name', 'clickable', 'color', 'dash_array', 'fill', 'fill_color', 'fill_opacity', 'line_cap', 'line_join', 'opacity', 'pointer_events', 'stroke', 'weight'], radius=1341, weight=1), Circle(color='#F00', fill_color='#0000ff', fill_opacity=0.4, location=[43.02190017700195, -78.8467025756836], opacity=0.8, options=['class_name', 'clickable', 'color', 'dash_array', 'fill', 'fill_color', 'fill_opacity', 'line_cap', 'line_join', 'opacity', 'pointer_events', 'stroke', 'weight'], radius=2400, weight=1), Circle(color='#F00', fill_color='#2cffca', fill_opacity=0.4, location=[43.15919876098633, -74.2042007446289], opacity=0.8, options=['class_name', 'clickable', 'color', 'dash_array', 'fill', 'fill_color', 'fill_opacity', 'line_cap', 'line_join', 'opacity', 'pointer_events', 'stroke', 'weight'], radius=4489, weight=1), Circle(color='#F00', fill_color='#0038ff', fill_opacity=0.4, location=[42.51169967651367, -75.51969909667969], opacity=0.8, options=['class_name', 'clickable', 'color', 'dash_array', 'fill', 'fill_color', 'fill_opacity', 'line_cap', 'line_join', 'opacity', 'pointer_events', 'stroke', 'weight'], radius=4874, weight=1), Circle(color='#F00', fill_color='#0048ff', fill_opacity=0.4, location=[44.72809982299805, -75.44419860839844], opacity=0.8, options=['class_name', 'clickable', 'color', 'dash_array', 'fill', 'fill_color', 'fill_opacity', 'line_cap', 'line_join', 'opacity', 'pointer_events', 'stroke', 'weight'], radius=4326, weight=1), Circle(color='#F00', fill_color='#e1ff16', fill_opacity=0.4, location=[43.70249938964844, -74.98390197753906], opacity=0.8, options=['class_name', 'clickable', 'color', 'dash_array', 'fill', 'fill_color', 'fill_opacity', 'line_cap', 'line_join', 'opacity', 'pointer_events', 'stroke', 'weight'], radius=4874, weight=1), Circle(color='#F00', fill_color='#0000ed', fill_opacity=0.4, location=[42.07360076904297, -78.45169830322266], opacity=0.8, options=['class_name', 'clickable', 'color', 'dash_array', 'fill', 'fill_color', 'fill_opacity', 'line_cap', 'line_join', 'opacity', 'pointer_events', 'stroke', 'weight'], radius=3340, weight=1), Circle(color='#F00', fill_color='#001cff', fill_opacity=0.4, location=[42.46030044555664, -75.06420135498047], opacity=0.8, options=['class_name', 'clickable', 'color', 'dash_array', 'fill', 'fill_color', 'fill_opacity', 'line_cap', 'line_join', 'opacity', 'pointer_events', 'stroke', 'weight'], radius=1039, weight=1), Circle(color='#F00', fill_color='#0014ff', fill_opacity=0.4, location=[42.45000076293945, -75.06670379638672], opacity=0.8, options=['class_name', 'clickable', 'color', 'dash_array', 'fill', 'fill_color', 'fill_opacity', 'line_cap', 'line_join', 'opacity', 'pointer_events', 'stroke', 'weight'], radius=1989, weight=1), Circle(color='#F00', fill_color='#000cff', fill_opacity=0.4, location=[42.45000076293945, -75.0], opacity=0.8, options=['class_name', 'clickable', 'color', 'dash_array', 'fill', 'fill_color', 'fill_opacity', 'line_cap', 'line_join', 'opacity', 'pointer_events', 'stroke', 'weight'], radius=1800, weight=1), Circle(color='#F00', fill_color='#0000f1', fill_opacity=0.4, location=[42.46670150756836, -75.06670379638672], opacity=0.8, options=['class_name', 'clickable', 'color', 'dash_array', 'fill', 'fill_color', 'fill_opacity', 'line_cap', 'line_join', 'opacity', 'pointer_events', 'stroke', 'weight'], radius=1897, weight=1), Circle(color='#F00', fill_color='#0008ff', fill_opacity=0.4, location=[41.150001525878906, -73.86669921875], opacity=0.8, options=['class_name', 'clickable', 'color', 'dash_array', 'fill', 'fill_color', 'fill_opacity', 'line_cap', 'line_join', 'opacity', 'pointer_events', 'stroke', 'weight'], radius=1341, weight=1), Circle(color='#F00', fill_color='#0088ff', fill_opacity=0.4, location=[43.46220016479492, -76.49330139160156], opacity=0.8, options=['class_name', 'clickable', 'color', 'dash_array', 'fill', 'fill_color', 'fill_opacity', 'line_cap', 'line_join', 'opacity', 'pointer_events', 'stroke', 'weight'], radius=5019, weight=1), Circle(color='#F00', fill_color='#0014ff', fill_opacity=0.4, location=[42.08110046386719, -76.31780242919922], opacity=0.8, options=['class_name', 'clickable', 'color', 'dash_array', 'fill', 'fill_color', 'fill_opacity', 'line_cap', 'line_join', 'opacity', 'pointer_events', 'stroke', 'weight'], radius=2078, weight=1), Circle(color='#F00', fill_color='#30ffc7', fill_opacity=0.4, location=[44.63330078125, -74.83329772949219], opacity=0.8, options=['class_name', 'clickable', 'color', 'dash_array', 'fill', 'fill_color', 'fill_opacity', 'line_cap', 'line_join', 'opacity', 'pointer_events', 'stroke', 'weight'], radius=3841, weight=1), Circle(color='#F00', fill_color='#0004ff', fill_opacity=0.4, location=[40.79669952392578, -73.00140380859375], opacity=0.8, options=['class_name', 'clickable', 'color', 'dash_array', 'fill', 'fill_color', 'fill_opacity', 'line_cap', 'line_join', 'opacity', 'pointer_events', 'stroke', 'weight'], radius=1039, weight=1), Circle(color='#F00', fill_color='#70ff87', fill_opacity=0.4, location=[44.43330001831055, -74.2667007446289], opacity=0.8, options=['class_name', 'clickable', 'color', 'dash_array', 'fill', 'fill_color', 'fill_opacity', 'line_cap', 'line_join', 'opacity', 'pointer_events', 'stroke', 'weight'], radius=2683, weight=1), Circle(color='#F00', fill_color='#0044ff', fill_opacity=0.4, location=[42.92940139770508, -78.03189849853516], opacity=0.8, options=['class_name', 'clickable', 'color', 'dash_array', 'fill', 'fill_color', 'fill_opacity', 'line_cap', 'line_join', 'opacity', 'pointer_events', 'stroke', 'weight'], radius=3286, weight=1), Circle(color='#F00', fill_color='#0000ff', fill_opacity=0.4, location=[42.67110061645508, -77.06279754638672], opacity=0.8, options=['class_name', 'clickable', 'color', 'dash_array', 'fill', 'fill_color', 'fill_opacity', 'line_cap', 'line_join', 'opacity', 'pointer_events', 'stroke', 'weight'], radius=3340, weight=1), Circle(color='#F00', fill_color='#0000ff', fill_opacity=0.4, location=[42.66669845581055, -77.18329620361328], opacity=0.8, options=['class_name', 'clickable', 'color', 'dash_array', 'fill', 'fill_color', 'fill_opacity', 'line_cap', 'line_join', 'opacity', 'pointer_events', 'stroke', 'weight'], radius=1200, weight=1), Circle(color='#F00', fill_color='#00d8ff', fill_opacity=0.4, location=[42.464698791503906, -79.00309753417969], opacity=0.8, options=['class_name', 'clickable', 'color', 'dash_array', 'fill', 'fill_color', 'fill_opacity', 'line_cap', 'line_join', 'opacity', 'pointer_events', 'stroke', 'weight'], radius=1697, weight=1), Circle(color='#F00', fill_color='#0034ff', fill_opacity=0.4, location=[44.565799713134766, -73.56999969482422], opacity=0.8, options=['class_name', 'clickable', 'color', 'dash_array', 'fill', 'fill_color', 'fill_opacity', 'line_cap', 'line_join', 'opacity', 'pointer_events', 'stroke', 'weight'], radius=3549, weight=1), Circle(color='#F00', fill_color='#008cff', fill_opacity=0.4, location=[44.13330078125, -75.69999694824219], opacity=0.8, options=['class_name', 'clickable', 'color', 'dash_array', 'fill', 'fill_color', 'fill_opacity', 'line_cap', 'line_join', 'opacity', 'pointer_events', 'stroke', 'weight'], radius=3000, weight=1), Circle(color='#F00', fill_color='#f8f500', fill_opacity=0.4, location=[43.46139907836914, -74.52310180664062], opacity=0.8, options=['class_name', 'clickable', 'color', 'dash_array', 'fill', 'fill_color', 'fill_opacity', 'line_cap', 'line_join', 'opacity', 'pointer_events', 'stroke', 'weight'], radius=4200, weight=1), Circle(color='#F00', fill_color='#0074ff', fill_opacity=0.4, location=[42.13890075683594, -74.09140014648438], opacity=0.8, options=['class_name', 'clickable', 'color', 'dash_array', 'fill', 'fill_color', 'fill_opacity', 'line_cap', 'line_join', 'opacity', 'pointer_events', 'stroke', 'weight'], radius=1697, weight=1), Circle(color='#F00', fill_color='#0060ff', fill_opacity=0.4, location=[44.650001525878906, -73.4666976928711], opacity=0.8, options=['class_name', 'clickable', 'color', 'dash_array', 'fill', 'fill_color', 'fill_opacity', 'line_cap', 'line_join', 'opacity', 'pointer_events', 'stroke', 'weight'], radius=3746, weight=1), Circle(color='#F00', fill_color='#0004ff', fill_opacity=0.4, location=[42.569698333740234, -78.04000091552734], opacity=0.8, options=['class_name', 'clickable', 'color', 'dash_array', 'fill', 'fill_color', 'fill_opacity', 'line_cap', 'line_join', 'opacity', 'pointer_events', 'stroke', 'weight'], radius=3286, weight=1), Circle(color='#F00', fill_color='#001cff', fill_opacity=0.4, location=[41.380001068115234, -74.68470001220703], opacity=0.8, options=['class_name', 'clickable', 'color', 'dash_array', 'fill', 'fill_color', 'fill_opacity', 'line_cap', 'line_join', 'opacity', 'pointer_events', 'stroke', 'weight'], radius=4024, weight=1), Circle(color='#F00', fill_color='#007cff', fill_opacity=0.4, location=[42.03329849243164, -78.33329772949219], opacity=0.8, options=['class_name', 'clickable', 'color', 'dash_array', 'fill', 'fill_color', 'fill_opacity', 'line_cap', 'line_join', 'opacity', 'pointer_events', 'stroke', 'weight'], radius=1039, weight=1), Circle(color='#F00', fill_color='#0034ff', fill_opacity=0.4, location=[44.66669845581055, -75.0], opacity=0.8, options=['class_name', 'clickable', 'color', 'dash_array', 'fill', 'fill_color', 'fill_opacity', 'line_cap', 'line_join', 'opacity', 'pointer_events', 'stroke', 'weight'], radius=1989, weight=1), Circle(color='#F00', fill_color='#0000e3', fill_opacity=0.4, location=[41.68330001831055, -73.93329620361328], opacity=0.8, options=['class_name', 'clickable', 'color', 'dash_array', 'fill', 'fill_color', 'fill_opacity', 'line_cap', 'line_join', 'opacity', 'pointer_events', 'stroke', 'weight'], radius=2078, weight=1), Circle(color='#F00', fill_color='#001cff', fill_opacity=0.4, location=[42.32809829711914, -74.44219970703125], opacity=0.8, options=['class_name', 'clickable', 'color', 'dash_array', 'fill', 'fill_color', 'fill_opacity', 'line_cap', 'line_join', 'opacity', 'pointer_events', 'stroke', 'weight'], radius=2244, weight=1), Circle(color='#F00', fill_color='#0058ff', fill_opacity=0.4, location=[43.58330154418945, -76.11669921875], opacity=0.8, options=['class_name', 'clickable', 'color', 'dash_array', 'fill', 'fill_color', 'fill_opacity', 'line_cap', 'line_join', 'opacity', 'pointer_events', 'stroke', 'weight'], radius=2814, weight=1), Circle(color='#F00', fill_color='#b7ff40', fill_opacity=0.4, location=[43.81669998168945, -74.66670227050781], opacity=0.8, options=['class_name', 'clickable', 'color', 'dash_array', 'fill', 'fill_color', 'fill_opacity', 'line_cap', 'line_join', 'opacity', 'pointer_events', 'stroke', 'weight'], radius=2939, weight=1), Circle(color='#F00', fill_color='#0098ff', fill_opacity=0.4, location=[44.29610061645508, -74.10279846191406], opacity=0.8, options=['class_name', 'clickable', 'color', 'dash_array', 'fill', 'fill_color', 'fill_opacity', 'line_cap', 'line_join', 'opacity', 'pointer_events', 'stroke', 'weight'], radius=2615, weight=1), Circle(color='#F00', fill_color='#ff4a00', fill_opacity=0.4, location=[43.75, -75.68329620361328], opacity=0.8, options=['class_name', 'clickable', 'color', 'dash_array', 'fill', 'fill_color', 'fill_opacity', 'line_cap', 'line_join', 'opacity', 'pointer_events', 'stroke', 'weight'], radius=1200, weight=1), Circle(color='#F00', fill_color='#0000f6', fill_opacity=0.4, location=[41.884700775146484, -73.86859893798828], opacity=0.8, options=['class_name', 'clickable', 'color', 'dash_array', 'fill', 'fill_color', 'fill_opacity', 'line_cap', 'line_join', 'opacity', 'pointer_events', 'stroke', 'weight'], radius=1697, weight=1), Circle(color='#F00', fill_color='#0068ff', fill_opacity=0.4, location=[43.56669998168945, -76.05000305175781], opacity=0.8, options=['class_name', 'clickable', 'color', 'dash_array', 'fill', 'fill_color', 'fill_opacity', 'line_cap', 'line_join', 'opacity', 'pointer_events', 'stroke', 'weight'], radius=1469, weight=1), Circle(color='#F00', fill_color='#0030ff', fill_opacity=0.4, location=[41.849998474121094, -74.05000305175781], opacity=0.8, options=['class_name', 'clickable', 'color', 'dash_array', 'fill', 'fill_color', 'fill_opacity', 'line_cap', 'line_join', 'opacity', 'pointer_events', 'stroke', 'weight'], radius=3498, weight=1), Circle(color='#F00', fill_color='#0000ff', fill_opacity=0.4, location=[40.96189880371094, -72.7157974243164], opacity=0.8, options=['class_name', 'clickable', 'color', 'dash_array', 'fill', 'fill_color', 'fill_opacity', 'line_cap', 'line_join', 'opacity', 'pointer_events', 'stroke', 'weight'], radius=1697, weight=1), Circle(color='#F00', fill_color='#005cff', fill_opacity=0.4, location=[41.59170150756836, -74.61419677734375], opacity=0.8, options=['class_name', 'clickable', 'color', 'dash_array', 'fill', 'fill_color', 'fill_opacity', 'line_cap', 'line_join', 'opacity', 'pointer_events', 'stroke', 'weight'], radius=3600, weight=1), Circle(color='#F00', fill_color='#00ccff', fill_opacity=0.4, location=[42.92390060424805, -73.78579711914062], opacity=0.8, options=['class_name', 'clickable', 'color', 'dash_array', 'fill', 'fill_color', 'fill_opacity', 'line_cap', 'line_join', 'opacity', 'pointer_events', 'stroke', 'weight'], radius=600, weight=1), Circle(color='#F00', fill_color='#0060ff', fill_opacity=0.4, location=[42.28329849243164, -74.56670379638672], opacity=0.8, options=['class_name', 'clickable', 'color', 'dash_array', 'fill', 'fill_color', 'fill_opacity', 'line_cap', 'line_join', 'opacity', 'pointer_events', 'stroke', 'weight'], radius=3794, weight=1), Circle(color='#F00', fill_color='#00a0ff', fill_opacity=0.4, location=[44.04999923706055, -74.63330078125], opacity=0.8, options=['class_name', 'clickable', 'color', 'dash_array', 'fill', 'fill_color', 'fill_opacity', 'line_cap', 'line_join', 'opacity', 'pointer_events', 'stroke', 'weight'], radius=1039, weight=1), Circle(color='#F00', fill_color='#0004ff', fill_opacity=0.4, location=[42.15060043334961, -78.72029876708984], opacity=0.8, options=['class_name', 'clickable', 'color', 'dash_array', 'fill', 'fill_color', 'fill_opacity', 'line_cap', 'line_join', 'opacity', 'pointer_events', 'stroke', 'weight'], radius=2244, weight=1), Circle(color='#F00', fill_color='#0030ff', fill_opacity=0.4, location=[43.16669845581055, -73.31670379638672], opacity=0.8, options=['class_name', 'clickable', 'color', 'dash_array', 'fill', 'fill_color', 'fill_opacity', 'line_cap', 'line_join', 'opacity', 'pointer_events', 'stroke', 'weight'], radius=3600, weight=1), Circle(color='#F00', fill_color='#a7ff50', fill_opacity=0.4, location=[43.16669845581055, -74.86669921875], opacity=0.8, options=['class_name', 'clickable', 'color', 'dash_array', 'fill', 'fill_color', 'fill_opacity', 'line_cap', 'line_join', 'opacity', 'pointer_events', 'stroke', 'weight'], radius=5161, weight=1), Circle(color='#F00', fill_color='#00b0ff', fill_opacity=0.4, location=[44.33330154418945, -74.13330078125], opacity=0.8, options=['class_name', 'clickable', 'color', 'dash_array', 'fill', 'fill_color', 'fill_opacity', 'line_cap', 'line_join', 'opacity', 'pointer_events', 'stroke', 'weight'], radius=3340, weight=1), Circle(color='#F00', fill_color='#005cff', fill_opacity=0.4, location=[43.099998474121094, -73.83329772949219], opacity=0.8, options=['class_name', 'clickable', 'color', 'dash_array', 'fill', 'fill_color', 'fill_opacity', 'line_cap', 'line_join', 'opacity', 'pointer_events', 'stroke', 'weight'], radius=2400, weight=1), Circle(color='#F00', fill_color='#0080ff', fill_opacity=0.4, location=[43.03329849243164, -73.81670379638672], opacity=0.8, options=['class_name', 'clickable', 'color', 'dash_array', 'fill', 'fill_color', 'fill_opacity', 'line_cap', 'line_join', 'opacity', 'pointer_events', 'stroke', 'weight'], radius=4284, weight=1), Circle(color='#F00', fill_color='#0004ff', fill_opacity=0.4, location=[40.983299255371094, -73.80000305175781], opacity=0.8, options=['class_name', 'clickable', 'color', 'dash_array', 'fill', 'fill_color', 'fill_opacity', 'line_cap', 'line_join', 'opacity', 'pointer_events', 'stroke', 'weight'], radius=3000, weight=1), Circle(color='#F00', fill_color='#0058ff', fill_opacity=0.4, location=[42.79999923706055, -73.91670227050781], opacity=0.8, options=['class_name', 'clickable', 'color', 'dash_array', 'fill', 'fill_color', 'fill_opacity', 'line_cap', 'line_join', 'opacity', 'pointer_events', 'stroke', 'weight'], radius=1039, weight=1), Circle(color='#F00', fill_color='#0054ff', fill_opacity=0.4, location=[42.665000915527344, -74.30359649658203], opacity=0.8, options=['class_name', 'clickable', 'color', 'dash_array', 'fill', 'fill_color', 'fill_opacity', 'line_cap', 'line_join', 'opacity', 'pointer_events', 'stroke', 'weight'], radius=600, weight=1), Circle(color='#F00', fill_color='#0058ff', fill_opacity=0.4, location=[43.83330154418945, -73.7667007446289], opacity=0.8, options=['class_name', 'clickable', 'color', 'dash_array', 'fill', 'fill_color', 'fill_opacity', 'line_cap', 'line_join', 'opacity', 'pointer_events', 'stroke', 'weight'], radius=2163, weight=1), Circle(color='#F00', fill_color='#0000d1', fill_opacity=0.4, location=[40.85060119628906, -73.64830017089844], opacity=0.8, options=['class_name', 'clickable', 'color', 'dash_array', 'fill', 'fill_color', 'fill_opacity', 'line_cap', 'line_join', 'opacity', 'pointer_events', 'stroke', 'weight'], radius=1039, weight=1), Circle(color='#F00', fill_color='#0008ff', fill_opacity=0.4, location=[40.95859909057617, -73.10469818115234], opacity=0.8, options=['class_name', 'clickable', 'color', 'dash_array', 'fill', 'fill_color', 'fill_opacity', 'line_cap', 'line_join', 'opacity', 'pointer_events', 'stroke', 'weight'], radius=1989, weight=1), Circle(color='#F00', fill_color='#001cff', fill_opacity=0.4, location=[42.79999923706055, -74.5999984741211], opacity=0.8, options=['class_name', 'clickable', 'color', 'dash_array', 'fill', 'fill_color', 'fill_opacity', 'line_cap', 'line_join', 'opacity', 'pointer_events', 'stroke', 'weight'], radius=3059, weight=1), Circle(color='#F00', fill_color='#0000ff', fill_opacity=0.4, location=[42.78329849243164, -74.66670227050781], opacity=0.8, options=['class_name', 'clickable', 'color', 'dash_array', 'fill', 'fill_color', 'fill_opacity', 'line_cap', 'line_join', 'opacity', 'pointer_events', 'stroke', 'weight'], radius=1587, weight=1), Circle(color='#F00', fill_color='#0024ff', fill_opacity=0.4, location=[42.67720031738281, -75.50669860839844], opacity=0.8, options=['class_name', 'clickable', 'color', 'dash_array', 'fill', 'fill_color', 'fill_opacity', 'line_cap', 'line_join', 'opacity', 'pointer_events', 'stroke', 'weight'], radius=4837, weight=1), Circle(color='#F00', fill_color='#0000e3', fill_opacity=0.4, location=[41.33330154418945, -73.83329772949219], opacity=0.8, options=['class_name', 'clickable', 'color', 'dash_array', 'fill', 'fill_color', 'fill_opacity', 'line_cap', 'line_join', 'opacity', 'pointer_events', 'stroke', 'weight'], radius=1039, weight=1), Circle(color='#F00', fill_color='#7dff7a', fill_opacity=0.4, location=[42.016700744628906, -74.41670227050781], opacity=0.8, options=['class_name', 'clickable', 'color', 'dash_array', 'fill', 'fill_color', 'fill_opacity', 'line_cap', 'line_join', 'opacity', 'pointer_events', 'stroke', 'weight'], radius=4156, weight=1), Circle(color='#F00', fill_color='#0044ff', fill_opacity=0.4, location=[43.207801818847656, -77.01280212402344], opacity=0.8, options=['class_name', 'clickable', 'color', 'dash_array', 'fill', 'fill_color', 'fill_opacity', 'line_cap', 'line_join', 'opacity', 'pointer_events', 'stroke', 'weight'], radius=4762, weight=1), Circle(color='#F00', fill_color='#0008ff', fill_opacity=0.4, location=[42.18330001831055, -77.55000305175781], opacity=0.8, options=['class_name', 'clickable', 'color', 'dash_array', 'fill', 'fill_color', 'fill_opacity', 'line_cap', 'line_join', 'opacity', 'pointer_events', 'stroke', 'weight'], radius=1587, weight=1), Circle(color='#F00', fill_color='#00ccff', fill_opacity=0.4, location=[43.78329849243164, -73.80000305175781], opacity=0.8, options=['class_name', 'clickable', 'color', 'dash_array', 'fill', 'fill_color', 'fill_opacity', 'line_cap', 'line_join', 'opacity', 'pointer_events', 'stroke', 'weight'], radius=1897, weight=1), Circle(color='#F00', fill_color='#0034ff', fill_opacity=0.4, location=[42.71670150756836, -78.5999984741211], opacity=0.8, options=['class_name', 'clickable', 'color', 'dash_array', 'fill', 'fill_color', 'fill_opacity', 'line_cap', 'line_join', 'opacity', 'pointer_events', 'stroke', 'weight'], radius=3698, weight=1), Circle(color='#F00', fill_color='#ffea00', fill_opacity=0.4, location=[43.5, -74.36170196533203], opacity=0.8, options=['class_name', 'clickable', 'color', 'dash_array', 'fill', 'fill_color', 'fill_opacity', 'line_cap', 'line_join', 'opacity', 'pointer_events', 'stroke', 'weight'], radius=3549, weight=1), Circle(color='#F00', fill_color='#0024ff', fill_opacity=0.4, location=[42.21670150756836, -76.4666976928711], opacity=0.8, options=['class_name', 'clickable', 'color', 'dash_array', 'fill', 'fill_color', 'fill_opacity', 'line_cap', 'line_join', 'opacity', 'pointer_events', 'stroke', 'weight'], radius=1697, weight=1), Circle(color='#F00', fill_color='#002cff', fill_opacity=0.4, location=[42.25, -76.5], opacity=0.8, options=['class_name', 'clickable', 'color', 'dash_array', 'fill', 'fill_color', 'fill_opacity', 'line_cap', 'line_join', 'opacity', 'pointer_events', 'stroke', 'weight'], radius=2939, weight=1), Circle(color='#F00', fill_color='#0030ff', fill_opacity=0.4, location=[42.33330154418945, -73.55000305175781], opacity=0.8, options=['class_name', 'clickable', 'color', 'dash_array', 'fill', 'fill_color', 'fill_opacity', 'line_cap', 'line_join', 'opacity', 'pointer_events', 'stroke', 'weight'], radius=2323, weight=1), Circle(color='#F00', fill_color='#0060ff', fill_opacity=0.4, location=[43.233299255371094, -73.75], opacity=0.8, options=['class_name', 'clickable', 'color', 'dash_array', 'fill', 'fill_color', 'fill_opacity', 'line_cap', 'line_join', 'opacity', 'pointer_events', 'stroke', 'weight'], radius=4284, weight=1), Circle(color='#F00', fill_color='#0054ff', fill_opacity=0.4, location=[42.983299255371094, -78.08329772949219], opacity=0.8, options=['class_name', 'clickable', 'color', 'dash_array', 'fill', 'fill_color', 'fill_opacity', 'line_cap', 'line_join', 'opacity', 'pointer_events', 'stroke', 'weight'], radius=2749, weight=1), Circle(color='#F00', fill_color='#66ff90', fill_opacity=0.4, location=[43.900001525878906, -75.03669738769531], opacity=0.8, options=['class_name', 'clickable', 'color', 'dash_array', 'fill', 'fill_color', 'fill_opacity', 'line_cap', 'line_join', 'opacity', 'pointer_events', 'stroke', 'weight'], radius=4326, weight=1), Circle(color='#F00', fill_color='#0034ff', fill_opacity=0.4, location=[41.53329849243164, -73.7332992553711], opacity=0.8, options=['class_name', 'clickable', 'color', 'dash_array', 'fill', 'fill_color', 'fill_opacity', 'line_cap', 'line_join', 'opacity', 'pointer_events', 'stroke', 'weight'], radius=1587, weight=1), Circle(color='#F00', fill_color='#002cff', fill_opacity=0.4, location=[42.16669845581055, -76.36669921875], opacity=0.8, options=['class_name', 'clickable', 'color', 'dash_array', 'fill', 'fill_color', 'fill_opacity', 'line_cap', 'line_join', 'opacity', 'pointer_events', 'stroke', 'weight'], radius=1341, weight=1), Circle(color='#F00', fill_color='#0014ff', fill_opacity=0.4, location=[42.46080017089844, -73.75], opacity=0.8, options=['class_name', 'clickable', 'color', 'dash_array', 'fill', 'fill_color', 'fill_opacity', 'line_cap', 'line_join', 'opacity', 'pointer_events', 'stroke', 'weight'], radius=1039, weight=1), Circle(color='#F00', fill_color='#0014ff', fill_opacity=0.4, location=[41.11669921875, -74.11669921875], opacity=0.8, options=['class_name', 'clickable', 'color', 'dash_array', 'fill', 'fill_color', 'fill_opacity', 'line_cap', 'line_join', 'opacity', 'pointer_events', 'stroke', 'weight'], radius=1039, weight=1), Circle(color='#F00', fill_color='#0004ff', fill_opacity=0.4, location=[41.11280059814453, -74.1572036743164], opacity=0.8, options=['class_name', 'clickable', 'color', 'dash_array', 'fill', 'fill_color', 'fill_opacity', 'line_cap', 'line_join', 'opacity', 'pointer_events', 'stroke', 'weight'], radius=1039, weight=1), Circle(color='#F00', fill_color='#000cff', fill_opacity=0.4, location=[43.04999923706055, -76.1500015258789], opacity=0.8, options=['class_name', 'clickable', 'color', 'dash_array', 'fill', 'fill_color', 'fill_opacity', 'line_cap', 'line_join', 'opacity', 'pointer_events', 'stroke', 'weight'], radius=1341, weight=1), Circle(color='#F00', fill_color='#0030ff', fill_opacity=0.4, location=[43.034400939941406, -76.1343994140625], opacity=0.8, options=['class_name', 'clickable', 'color', 'dash_array', 'fill', 'fill_color', 'fill_opacity', 'line_cap', 'line_join', 'opacity', 'pointer_events', 'stroke', 'weight'], radius=1469, weight=1), Circle(color='#F00', fill_color='#003cff', fill_opacity=0.4, location=[43.849998474121094, -73.41670227050781], opacity=0.8, options=['class_name', 'clickable', 'color', 'dash_array', 'fill', 'fill_color', 'fill_opacity', 'line_cap', 'line_join', 'opacity', 'pointer_events', 'stroke', 'weight'], radius=2244, weight=1), Circle(color='#F00', fill_color='#0018ff', fill_opacity=0.4, location=[43.276100158691406, -75.15670013427734], opacity=0.8, options=['class_name', 'clickable', 'color', 'dash_array', 'fill', 'fill_color', 'fill_opacity', 'line_cap', 'line_join', 'opacity', 'pointer_events', 'stroke', 'weight'], radius=2814, weight=1), Circle(color='#F00', fill_color='#0000fa', fill_opacity=0.4, location=[42.75, -73.68329620361328], opacity=0.8, options=['class_name', 'clickable', 'color', 'dash_array', 'fill', 'fill_color', 'fill_opacity', 'line_cap', 'line_join', 'opacity', 'pointer_events', 'stroke', 'weight'], radius=3174, weight=1), Circle(color='#F00', fill_color='#0050ff', fill_opacity=0.4, location=[42.83330154418945, -76.0333023071289], opacity=0.8, options=['class_name', 'clickable', 'color', 'dash_array', 'fill', 'fill_color', 'fill_opacity', 'line_cap', 'line_join', 'opacity', 'pointer_events', 'stroke', 'weight'], radius=1897, weight=1), Circle(color='#F00', fill_color='#87ff70', fill_opacity=0.4, location=[42.76029968261719, -76.0802993774414], opacity=0.8, options=['class_name', 'clickable', 'color', 'dash_array', 'fill', 'fill_color', 'fill_opacity', 'line_cap', 'line_join', 'opacity', 'pointer_events', 'stroke', 'weight'], radius=3841, weight=1), Circle(color='#F00', fill_color='#60ff97', fill_opacity=0.4, location=[44.23080062866211, -74.43830108642578], opacity=0.8, options=['class_name', 'clickable', 'color', 'dash_array', 'fill', 'fill_color', 'fill_opacity', 'line_cap', 'line_join', 'opacity', 'pointer_events', 'stroke', 'weight'], radius=6089, weight=1), Circle(color='#F00', fill_color='#0014ff', fill_opacity=0.4, location=[42.35419845581055, -75.32420349121094], opacity=0.8, options=['class_name', 'clickable', 'color', 'dash_array', 'fill', 'fill_color', 'fill_opacity', 'line_cap', 'line_join', 'opacity', 'pointer_events', 'stroke', 'weight'], radius=3117, weight=1), Circle(color='#F00', fill_color='#0024ff', fill_opacity=0.4, location=[43.11669921875, -75.2332992553711], opacity=0.8, options=['class_name', 'clickable', 'color', 'dash_array', 'fill', 'fill_color', 'fill_opacity', 'line_cap', 'line_join', 'opacity', 'pointer_events', 'stroke', 'weight'], radius=2749, weight=1), Circle(color='#F00', fill_color='#0044ff', fill_opacity=0.4, location=[43.08330154418945, -75.19999694824219], opacity=0.8, options=['class_name', 'clickable', 'color', 'dash_array', 'fill', 'fill_color', 'fill_opacity', 'line_cap', 'line_join', 'opacity', 'pointer_events', 'stroke', 'weight'], radius=2939, weight=1), Circle(color='#F00', fill_color='#13fce4', fill_opacity=0.4, location=[43.0, -75.2667007446289], opacity=0.8, options=['class_name', 'clickable', 'color', 'dash_array', 'fill', 'fill_color', 'fill_opacity', 'line_cap', 'line_join', 'opacity', 'pointer_events', 'stroke', 'weight'], radius=848, weight=1), Circle(color='#F00', fill_color='#0000fa', fill_opacity=0.4, location=[42.43330001831055, -73.68329620361328], opacity=0.8, options=['class_name', 'clickable', 'color', 'dash_array', 'fill', 'fill_color', 'fill_opacity', 'line_cap', 'line_join', 'opacity', 'pointer_events', 'stroke', 'weight'], radius=2400, weight=1), Circle(color='#F00', fill_color='#0000ff', fill_opacity=0.4, location=[40.900001525878906, -73.36669921875], opacity=0.8, options=['class_name', 'clickable', 'color', 'dash_array', 'fill', 'fill_color', 'fill_opacity', 'line_cap', 'line_join', 'opacity', 'pointer_events', 'stroke', 'weight'], radius=1039, weight=1), Circle(color='#F00', fill_color='#0000ff', fill_opacity=0.4, location=[42.099998474121094, -76.05000305175781], opacity=0.8, options=['class_name', 'clickable', 'color', 'dash_array', 'fill', 'fill_color', 'fill_opacity', 'line_cap', 'line_join', 'opacity', 'pointer_events', 'stroke', 'weight'], radius=1800, weight=1), Circle(color='#F00', fill_color='#0008ff', fill_opacity=0.4, location=[42.04999923706055, -76.05000305175781], opacity=0.8, options=['class_name', 'clickable', 'color', 'dash_array', 'fill', 'fill_color', 'fill_opacity', 'line_cap', 'line_join', 'opacity', 'pointer_events', 'stroke', 'weight'], radius=1469, weight=1), Circle(color='#F00', fill_color='#0000ff', fill_opacity=0.4, location=[43.004398345947266, -77.44719696044922], opacity=0.8, options=['class_name', 'clickable', 'color', 'dash_array', 'fill', 'fill_color', 'fill_opacity', 'line_cap', 'line_join', 'opacity', 'pointer_events', 'stroke', 'weight'], radius=1989, weight=1), Circle(color='#F00', fill_color='#0050ff', fill_opacity=0.4, location=[41.56669998168945, -74.16670227050781], opacity=0.8, options=['class_name', 'clickable', 'color', 'dash_array', 'fill', 'fill_color', 'fill_opacity', 'line_cap', 'line_join', 'opacity', 'pointer_events', 'stroke', 'weight'], radius=2163, weight=1), Circle(color='#F00', fill_color='#0008ff', fill_opacity=0.4, location=[41.55139923095703, -74.16280364990234], opacity=0.8, options=['class_name', 'clickable', 'color', 'dash_array', 'fill', 'fill_color', 'fill_opacity', 'line_cap', 'line_join', 'opacity', 'pointer_events', 'stroke', 'weight'], radius=2078, weight=1), Circle(color='#F00', fill_color='#0038ff', fill_opacity=0.4, location=[42.74169921875, -78.51080322265625], opacity=0.8, options=['class_name', 'clickable', 'color', 'dash_array', 'fill', 'fill_color', 'fill_opacity', 'line_cap', 'line_join', 'opacity', 'pointer_events', 'stroke', 'weight'], radius=3000, weight=1), Circle(color='#F00', fill_color='#0014ff', fill_opacity=0.4, location=[42.18470001220703, -75.14559936523438], opacity=0.8, options=['class_name', 'clickable', 'color', 'dash_array', 'fill', 'fill_color', 'fill_opacity', 'line_cap', 'line_join', 'opacity', 'pointer_events', 'stroke', 'weight'], radius=2163, weight=1), Circle(color='#F00', fill_color='#0024ff', fill_opacity=0.4, location=[42.233299255371094, -75.08329772949219], opacity=0.8, options=['class_name', 'clickable', 'color', 'dash_array', 'fill', 'fill_color', 'fill_opacity', 'line_cap', 'line_join', 'opacity', 'pointer_events', 'stroke', 'weight'], radius=2749, weight=1), Circle(color='#F00', fill_color='#0034ff', fill_opacity=0.4, location=[42.16669845581055, -75.13330078125], opacity=0.8, options=['class_name', 'clickable', 'color', 'dash_array', 'fill', 'fill_color', 'fill_opacity', 'line_cap', 'line_join', 'opacity', 'pointer_events', 'stroke', 'weight'], radius=3394, weight=1), Circle(color='#F00', fill_color='#a0ff56', fill_opacity=0.4, location=[44.148101806640625, -74.90029907226562], opacity=0.8, options=['class_name', 'clickable', 'color', 'dash_array', 'fill', 'fill_color', 'fill_opacity', 'line_cap', 'line_join', 'opacity', 'pointer_events', 'stroke', 'weight'], radius=6029, weight=1), Circle(color='#F00', fill_color='#0000f6', fill_opacity=0.4, location=[40.654998779296875, -73.50530242919922], opacity=0.8, options=['class_name', 'clickable', 'color', 'dash_array', 'fill', 'fill_color', 'fill_opacity', 'line_cap', 'line_join', 'opacity', 'pointer_events', 'stroke', 'weight'], radius=600, weight=1), Circle(color='#F00', fill_color='#0020ff', fill_opacity=0.4, location=[41.650001525878906, -73.86669921875], opacity=0.8, options=['class_name', 'clickable', 'color', 'dash_array', 'fill', 'fill_color', 'fill_opacity', 'line_cap', 'line_join', 'opacity', 'pointer_events', 'stroke', 'weight'], radius=3394, weight=1), Circle(color='#F00', fill_color='#0068ff', fill_opacity=0.4, location=[42.68560028076172, -78.22029876708984], opacity=0.8, options=['class_name', 'clickable', 'color', 'dash_array', 'fill', 'fill_color', 'fill_opacity', 'line_cap', 'line_join', 'opacity', 'pointer_events', 'stroke', 'weight'], radius=4529, weight=1), Circle(color='#F00', fill_color='#005cff', fill_opacity=0.4, location=[43.97610092163086, -75.87529754638672], opacity=0.8, options=['class_name', 'clickable', 'color', 'dash_array', 'fill', 'fill_color', 'fill_opacity', 'line_cap', 'line_join', 'opacity', 'pointer_events', 'stroke', 'weight'], radius=5091, weight=1), Circle(color='#F00', fill_color='#0000ff', fill_opacity=0.4, location=[42.00189971923828, -76.5250015258789], opacity=0.8, options=['class_name', 'clickable', 'color', 'dash_array', 'fill', 'fill_color', 'fill_opacity', 'line_cap', 'line_join', 'opacity', 'pointer_events', 'stroke', 'weight'], radius=2323, weight=1), Circle(color='#F00', fill_color='#0000f1', fill_opacity=0.4, location=[43.24190139770508, -77.38809967041016], opacity=0.8, options=['class_name', 'clickable', 'color', 'dash_array', 'fill', 'fill_color', 'fill_opacity', 'line_cap', 'line_join', 'opacity', 'pointer_events', 'stroke', 'weight'], radius=1039, weight=1), Circle(color='#F00', fill_color='#0074ff', fill_opacity=0.4, location=[44.35639953613281, -75.92859649658203], opacity=0.8, options=['class_name', 'clickable', 'color', 'dash_array', 'fill', 'fill_color', 'fill_opacity', 'line_cap', 'line_join', 'opacity', 'pointer_events', 'stroke', 'weight'], radius=2749, weight=1), Circle(color='#F00', fill_color='#0000ed', fill_opacity=0.4, location=[42.1171989440918, -77.94750213623047], opacity=0.8, options=['class_name', 'clickable', 'color', 'dash_array', 'fill', 'fill_color', 'fill_opacity', 'line_cap', 'line_join', 'opacity', 'pointer_events', 'stroke', 'weight'], radius=2939, weight=1), Circle(color='#F00', fill_color='#001cff', fill_opacity=0.4, location=[42.61669921875, -74.16670227050781], opacity=0.8, options=['class_name', 'clickable', 'color', 'dash_array', 'fill', 'fill_color', 'fill_opacity', 'line_cap', 'line_join', 'opacity', 'pointer_events', 'stroke', 'weight'], radius=1697, weight=1), Circle(color='#F00', fill_color='#0000ff', fill_opacity=0.4, location=[42.29560089111328, -79.58560180664062], opacity=0.8, options=['class_name', 'clickable', 'color', 'dash_array', 'fill', 'fill_color', 'fill_opacity', 'line_cap', 'line_join', 'opacity', 'pointer_events', 'stroke', 'weight'], radius=4326, weight=1), Circle(color='#F00', fill_color='#0008ff', fill_opacity=0.4, location=[41.08330154418945, -73.9666976928711], opacity=0.8, options=['class_name', 'clickable', 'color', 'dash_array', 'fill', 'fill_color', 'fill_opacity', 'line_cap', 'line_join', 'opacity', 'pointer_events', 'stroke', 'weight'], radius=848, weight=1), Circle(color='#F00', fill_color='#0008ff', fill_opacity=0.4, location=[41.39059829711914, -73.96080017089844], opacity=0.8, options=['class_name', 'clickable', 'color', 'dash_array', 'fill', 'fill_color', 'fill_opacity', 'line_cap', 'line_join', 'opacity', 'pointer_events', 'stroke', 'weight'], radius=3231, weight=1), Circle(color='#F00', fill_color='#001cff', fill_opacity=0.4, location=[43.557498931884766, -73.4011001586914], opacity=0.8, options=['class_name', 'clickable', 'color', 'dash_array', 'fill', 'fill_color', 'fill_opacity', 'line_cap', 'line_join', 'opacity', 'pointer_events', 'stroke', 'weight'], radius=2749, weight=1), Circle(color='#F00', fill_color='#0014ff', fill_opacity=0.4, location=[42.34170150756836, -75.96530151367188], opacity=0.8, options=['class_name', 'clickable', 'color', 'dash_array', 'fill', 'fill_color', 'fill_opacity', 'line_cap', 'line_join', 'opacity', 'pointer_events', 'stroke', 'weight'], radius=1039, weight=1), Circle(color='#F00', fill_color='#0028ff', fill_opacity=0.4, location=[44.38420104980469, -73.38189697265625], opacity=0.8, options=['class_name', 'clickable', 'color', 'dash_array', 'fill', 'fill_color', 'fill_opacity', 'line_cap', 'line_join', 'opacity', 'pointer_events', 'stroke', 'weight'], radius=1469, weight=1), Circle(color='#F00', fill_color='#0080ff', fill_opacity=0.4, location=[42.3031005859375, -74.20110321044922], opacity=0.8, options=['class_name', 'clickable', 'color', 'dash_array', 'fill', 'fill_color', 'fill_opacity', 'line_cap', 'line_join', 'opacity', 'pointer_events', 'stroke', 'weight'], radius=1897, weight=1), Circle(color='#F00', fill_color='#0000ff', fill_opacity=0.4, location=[42.516700744628906, -78.05000305175781], opacity=0.8, options=['class_name', 'clickable', 'color', 'dash_array', 'fill', 'fill_color', 'fill_opacity', 'line_cap', 'line_join', 'opacity', 'pointer_events', 'stroke', 'weight'], radius=3286, weight=1), Circle(color='#F00', fill_color='#0030ff', fill_opacity=0.4, location=[41.266700744628906, -73.7667007446289], opacity=0.8, options=['class_name', 'clickable', 'color', 'dash_array', 'fill', 'fill_color', 'fill_opacity', 'line_cap', 'line_join', 'opacity', 'pointer_events', 'stroke', 'weight'], radius=1039, weight=1), Circle(color='#F00', fill_color='#0000ff', fill_opacity=0.4, location=[41.26639938354492, -73.79750061035156], opacity=0.8, options=['class_name', 'clickable', 'color', 'dash_array', 'fill', 'fill_color', 'fill_opacity', 'line_cap', 'line_join', 'opacity', 'pointer_events', 'stroke', 'weight'], radius=2877, weight=1), Circle(color='#F00', fill_color='#0000e8', fill_opacity=0.4, location=[43.2682991027832, -79.01029968261719], opacity=0.8, options=['class_name', 'clickable', 'color', 'dash_array', 'fill', 'fill_color', 'fill_opacity', 'line_cap', 'line_join', 'opacity', 'pointer_events', 'stroke', 'weight'], radius=1341, weight=1), Circle(color='#F00', fill_color='#0000f1', fill_opacity=0.4, location=[43.107200622558594, -78.94529724121094], opacity=0.8, options=['class_name', 'clickable', 'color', 'dash_array', 'fill', 'fill_color', 'fill_opacity', 'line_cap', 'line_join', 'opacity', 'pointer_events', 'stroke', 'weight'], radius=2163, weight=1), Circle(color='#F00', fill_color='#0004ff', fill_opacity=0.4, location=[42.19969940185547, -75.98500061035156], opacity=0.8, options=['class_name', 'clickable', 'color', 'dash_array', 'fill', 'fill_color', 'fill_opacity', 'line_cap', 'line_join', 'opacity', 'pointer_events', 'stroke', 'weight'], radius=3600, weight=1), Circle(color='#F00', fill_color='#0048ff', fill_opacity=0.4, location=[44.650001525878906, -73.4666976928711], opacity=0.8, options=['class_name', 'clickable', 'color', 'dash_array', 'fill', 'fill_color', 'fill_opacity', 'line_cap', 'line_join', 'opacity', 'pointer_events', 'stroke', 'weight'], radius=1989, weight=1), Circle(color='#F00', fill_color='#0000e8', fill_opacity=0.4, location=[40.79389953613281, -73.10169982910156], opacity=0.8, options=['class_name', 'clickable', 'color', 'dash_array', 'fill', 'fill_color', 'fill_opacity', 'line_cap', 'line_join', 'opacity', 'pointer_events', 'stroke', 'weight'], radius=1341, weight=1), Circle(color='#F00', fill_color='#001cff', fill_opacity=0.4, location=[42.83330154418945, -73.91670227050781], opacity=0.8, options=['class_name', 'clickable', 'color', 'dash_array', 'fill', 'fill_color', 'fill_opacity', 'line_cap', 'line_join', 'opacity', 'pointer_events', 'stroke', 'weight'], radius=2814, weight=1), Circle(color='#F00', fill_color='#0000b2', fill_opacity=0.4, location=[40.733299255371094, -73.5999984741211], opacity=0.8, options=['class_name', 'clickable', 'color', 'dash_array', 'fill', 'fill_color', 'fill_opacity', 'line_cap', 'line_join', 'opacity', 'pointer_events', 'stroke', 'weight'], radius=600, weight=1), Circle(color='#F00', fill_color='#0000ff', fill_opacity=0.4, location=[41.5, -74.0999984741211], opacity=0.8, options=['class_name', 'clickable', 'color', 'dash_array', 'fill', 'fill_color', 'fill_opacity', 'line_cap', 'line_join', 'opacity', 'pointer_events', 'stroke', 'weight'], radius=1341, weight=1), Circle(color='#F00', fill_color='#006cff', fill_opacity=0.4, location=[43.233299255371094, -75.4000015258789], opacity=0.8, options=['class_name', 'clickable', 'color', 'dash_array', 'fill', 'fill_color', 'fill_opacity', 'line_cap', 'line_join', 'opacity', 'pointer_events', 'stroke', 'weight'], radius=3934, weight=1), Circle(color='#F00', fill_color='#0000d6', fill_opacity=0.4, location=[40.84360122680664, -72.6322021484375], opacity=0.8, options=['class_name', 'clickable', 'color', 'dash_array', 'fill', 'fill_color', 'fill_opacity', 'line_cap', 'line_join', 'opacity', 'pointer_events', 'stroke', 'weight'], radius=600, weight=1), Circle(color='#F00', fill_color='#0000c8', fill_opacity=0.4, location=[40.77939987182617, -73.88030242919922], opacity=0.8, options=['class_name', 'clickable', 'color', 'dash_array', 'fill', 'fill_color', 'fill_opacity', 'line_cap', 'line_join', 'opacity', 'pointer_events', 'stroke', 'weight'], radius=848, weight=1), Circle(color='#F00', fill_color='#0000ff', fill_opacity=0.4, location=[42.94860076904297, -78.73690032958984], opacity=0.8, options=['class_name', 'clickable', 'color', 'dash_array', 'fill', 'fill_color', 'fill_opacity', 'line_cap', 'line_join', 'opacity', 'pointer_events', 'stroke', 'weight'], radius=3394, weight=1), Circle(color='#F00', fill_color='#0000ff', fill_opacity=0.4, location=[42.743099212646484, -73.80919647216797], opacity=0.8, options=['class_name', 'clickable', 'color', 'dash_array', 'fill', 'fill_color', 'fill_opacity', 'line_cap', 'line_join', 'opacity', 'pointer_events', 'stroke', 'weight'], radius=3394, weight=1), Circle(color='#F00', fill_color='#0000bb', fill_opacity=0.4, location=[42.08330154418945, -76.0999984741211], opacity=0.8, options=['class_name', 'clickable', 'color', 'dash_array', 'fill', 'fill_color', 'fill_opacity', 'line_cap', 'line_join', 'opacity', 'pointer_events', 'stroke', 'weight'], radius=848, weight=1), Circle(color='#F00', fill_color='#0044ff', fill_opacity=0.4, location=[44.57720184326172, -75.10970306396484], opacity=0.8, options=['class_name', 'clickable', 'color', 'dash_array', 'fill', 'fill_color', 'fill_opacity', 'line_cap', 'line_join', 'opacity', 'pointer_events', 'stroke', 'weight'], radius=5332, weight=1), Circle(color='#F00', fill_color='#0020ff', fill_opacity=0.4, location=[42.49330139160156, -79.27220153808594], opacity=0.8, options=['class_name', 'clickable', 'color', 'dash_array', 'fill', 'fill_color', 'fill_opacity', 'line_cap', 'line_join', 'opacity', 'pointer_events', 'stroke', 'weight'], radius=600, weight=1), Circle(color='#F00', fill_color='#0000f6', fill_opacity=0.4, location=[42.159400939941406, -76.89189910888672], opacity=0.8, options=['class_name', 'clickable', 'color', 'dash_array', 'fill', 'fill_color', 'fill_opacity', 'line_cap', 'line_join', 'opacity', 'pointer_events', 'stroke', 'weight'], radius=1989, weight=1), Circle(color='#F00', fill_color='#0054ff', fill_opacity=0.4, location=[42.96670150756836, -74.66670227050781], opacity=0.8, options=['class_name', 'clickable', 'color', 'dash_array', 'fill', 'fill_color', 'fill_opacity', 'line_cap', 'line_join', 'opacity', 'pointer_events', 'stroke', 'weight'], radius=1469, weight=1), Circle(color='#F00', fill_color='#0048ff', fill_opacity=0.4, location=[43.349998474121094, -73.61669921875], opacity=0.8, options=['class_name', 'clickable', 'color', 'dash_array', 'fill', 'fill_color', 'fill_opacity', 'line_cap', 'line_join', 'opacity', 'pointer_events', 'stroke', 'weight'], radius=4326, weight=1), Circle(color='#F00', fill_color='#0008ff', fill_opacity=0.4, location=[41.62670135498047, -73.88420104980469], opacity=0.8, options=['class_name', 'clickable', 'color', 'dash_array', 'fill', 'fill_color', 'fill_opacity', 'line_cap', 'line_join', 'opacity', 'pointer_events', 'stroke', 'weight'], radius=2545, weight=1), Circle(color='#F00', fill_color='#0000e8', fill_opacity=0.4, location=[43.11669921875, -77.67669677734375], opacity=0.8, options=['class_name', 'clickable', 'color', 'dash_array', 'fill', 'fill_color', 'fill_opacity', 'line_cap', 'line_join', 'opacity', 'pointer_events', 'stroke', 'weight'], radius=4024, weight=1), Circle(color='#F00', fill_color='#000cff', fill_opacity=0.4, location=[43.11109924316406, -76.10389709472656], opacity=0.8, options=['class_name', 'clickable', 'color', 'dash_array', 'fill', 'fill_color', 'fill_opacity', 'line_cap', 'line_join', 'opacity', 'pointer_events', 'stroke', 'weight'], radius=4284, weight=1), Circle(color='#F00', fill_color='#0038ff', fill_opacity=0.4, location=[43.88330078125, -73.4000015258789], opacity=0.8, options=['class_name', 'clickable', 'color', 'dash_array', 'fill', 'fill_color', 'fill_opacity', 'line_cap', 'line_join', 'opacity', 'pointer_events', 'stroke', 'weight'], radius=1697, weight=1), Circle(color='#F00', fill_color='#0024ff', fill_opacity=0.4, location=[43.16669845581055, -75.31670379638672], opacity=0.8, options=['class_name', 'clickable', 'color', 'dash_array', 'fill', 'fill_color', 'fill_opacity', 'line_cap', 'line_join', 'opacity', 'pointer_events', 'stroke', 'weight'], radius=1469, weight=1), Circle(color='#F00', fill_color='#0000e3', fill_opacity=0.4, location=[40.58330154418945, -73.88330078125], opacity=0.8, options=['class_name', 'clickable', 'color', 'dash_array', 'fill', 'fill_color', 'fill_opacity', 'line_cap', 'line_join', 'opacity', 'pointer_events', 'stroke', 'weight'], radius=600, weight=1), Circle(color='#F00', fill_color='#004cff', fill_opacity=0.4, location=[41.31669998168945, -74.0], opacity=0.8, options=['class_name', 'clickable', 'color', 'dash_array', 'fill', 'fill_color', 'fill_opacity', 'line_cap', 'line_join', 'opacity', 'pointer_events', 'stroke', 'weight'], radius=848, weight=1), Circle(color='#F00', fill_color='#0000da', fill_opacity=0.4, location=[42.099998474121094, -75.91670227050781], opacity=0.8, options=['class_name', 'clickable', 'color', 'dash_array', 'fill', 'fill_color', 'fill_opacity', 'line_cap', 'line_join', 'opacity', 'pointer_events', 'stroke', 'weight'], radius=2163, weight=1), Circle(color='#F00', fill_color='#0000ff', fill_opacity=0.4, location=[42.57080078125, -77.71330261230469], opacity=0.8, options=['class_name', 'clickable', 'color', 'dash_array', 'fill', 'fill_color', 'fill_opacity', 'line_cap', 'line_join', 'opacity', 'pointer_events', 'stroke', 'weight'], radius=848, weight=1), Circle(color='#F00', fill_color='#0054ff', fill_opacity=0.4, location=[44.93579864501953, -74.8458023071289], opacity=0.8, options=['class_name', 'clickable', 'color', 'dash_array', 'fill', 'fill_color', 'fill_opacity', 'line_cap', 'line_join', 'opacity', 'pointer_events', 'stroke', 'weight'], radius=3979, weight=1), Circle(color='#F00', fill_color='#00d8ff', fill_opacity=0.4, location=[40.778900146484375, -73.96920013427734], opacity=0.8, options=['class_name', 'clickable', 'color', 'dash_array', 'fill', 'fill_color', 'fill_opacity', 'line_cap', 'line_join', 'opacity', 'pointer_events', 'stroke', 'weight'], radius=2078, weight=1), Circle(color='#F00', fill_color='#0024ff', fill_opacity=0.4, location=[41.066898345947266, -73.7074966430664], opacity=0.8, options=['class_name', 'clickable', 'color', 'dash_array', 'fill', 'fill_color', 'fill_opacity', 'line_cap', 'line_join', 'opacity', 'pointer_events', 'stroke', 'weight'], radius=1341, weight=1), Circle(color='#F00', fill_color='#0014ff', fill_opacity=0.4, location=[40.63859939575195, -73.76219940185547], opacity=0.8, options=['class_name', 'clickable', 'color', 'dash_array', 'fill', 'fill_color', 'fill_opacity', 'line_cap', 'line_join', 'opacity', 'pointer_events', 'stroke', 'weight'], radius=600, weight=1), Circle(color='#F00', fill_color='#0060ff', fill_opacity=0.4, location=[43.9921989440918, -76.02169799804688], opacity=0.8, options=['class_name', 'clickable', 'color', 'dash_array', 'fill', 'fill_color', 'fill_opacity', 'line_cap', 'line_join', 'opacity', 'pointer_events', 'stroke', 'weight'], radius=3600, weight=1), Circle(color='#F00', fill_color='#0020ff', fill_opacity=0.4, location=[43.14500045776367, -75.38390350341797], opacity=0.8, options=['class_name', 'clickable', 'color', 'dash_array', 'fill', 'fill_color', 'fill_opacity', 'line_cap', 'line_join', 'opacity', 'pointer_events', 'stroke', 'weight'], radius=3746, weight=1)), options=['attribution_control', 'basemap', 'bounce_at_zoom_limits', 'box_zoom', 'center', 'close_popup_on_click', 'double_click_zoom', 'dragging', 'inertia', 'inertia_deceleration', 'inertia_max_speed', 'keyboard', 'keyboard_pan_offset', 'keyboard_zoom_offset', 'max_zoom', 'min_zoom', 'scroll_wheel_zoom', 'tap', 'tap_tolerance', 'touch_zoom', 'world_copy_jump', 'zoom', 'zoom_animation_threshold', 'zoom_control', 'zoom_start'], zoom=6)"
      ]
     },
     "metadata": {},
     "output_type": "display_data"
    }
   ],
   "source": [
    "center = [(min_lat+max_lat)/2, (min_long+max_long)/2]\n",
    "zoom = 6\n",
    "\n",
    "m = Map(default_tiles=TileLayer(opacity=1.0), center=center, zoom=zoom)\n",
    "\n",
    "r = Rectangle(bounds=[[min_lat,min_long],[max_lat,max_long]], weight=5, fill_opacity=0.0)\n",
    "m += r\n",
    "\n",
    "lat_margin=(max_lat-min_lat)/4\n",
    "long_margin=(max_long-min_long)/4\n",
    "circles = []\n",
    "for index,row in pdf.iterrows():\n",
    "    _lat=row['latitude']\n",
    "    _long=row['longitude']\n",
    "    _count=row['count(station)']\n",
    "    _coef=row[_avg]\n",
    "    # taking sqrt of count so that the  area of the circle corresponds to the count\n",
    "    c = Circle(location=(_lat,_long), radius=int(600*np.sqrt(_count+0.0)), weight=1,\n",
    "            color='#F00', opacity=0.8, fill_opacity=0.4,\n",
    "            fill_color=get_color(_coef))\n",
    "    circles.append(c)\n",
    "    m.add_layer(c)\n",
    "m    "
   ]
  },
  {
   "cell_type": "markdown",
   "metadata": {
    "slideshow": {
     "slide_type": "subslide"
    }
   },
   "source": [
    "### excercises:\n",
    "* Add a legend that relates the colors to values.\n",
    "* Leaflet supports a variety of maps. See if you can get a topographical map as the background."
   ]
  },
  {
   "cell_type": "code",
   "execution_count": 11,
   "metadata": {
    "slideshow": {
     "slide_type": "subslide"
    }
   },
   "outputs": [
    {
     "data": {
      "image/png": "[encoded data removed]",
      "text/plain": [
       "<matplotlib.figure.Figure at 0x10ca8b910>"
      ]
     },
     "metadata": {},
     "output_type": "display_data"
    }
   ],
   "source": [
    "\n",
    "pdf.plot.scatter(x='elevation',y='avg(coeff_1)');"
   ]
  }
 ],
 "metadata": {
  "anaconda-cloud": {},
  "celltoolbar": "Slideshow",
  "hide_input": false,
  "kernelspec": {
   "display_name": "Python 3",
   "language": "python",
   "name": "python3"
  },
  "language_info": {
   "codemirror_mode": {
    "name": "ipython",
    "version": 3
   },
   "file_extension": ".py",
   "mimetype": "text/x-python",
   "name": "python",
   "nbconvert_exporter": "python",
   "pygments_lexer": "ipython3",
   "version": "3.6.4"
  },
  "toc": {
   "base_numbering": 1,
   "nav_menu": {
    "height": "174px",
    "width": "252px"
   },
   "number_sections": true,
   "sideBar": true,
   "skip_h1_title": false,
   "title_cell": "Table of Contents",
   "title_sidebar": "Contents",
   "toc_cell": false,
   "toc_position": {},
   "toc_section_display": "block",
   "toc_window_display": false
  },
  "widgets": {
   "state": {},
   "version": "1.0.0"
  }
 },
 "nbformat": 4,
 "nbformat_minor": 1
}
