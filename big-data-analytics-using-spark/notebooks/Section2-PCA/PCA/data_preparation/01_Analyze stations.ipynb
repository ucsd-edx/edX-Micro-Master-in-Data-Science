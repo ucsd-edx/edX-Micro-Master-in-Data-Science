{
 "cells": [
  {
   "cell_type": "code",
   "execution_count": 1,
   "metadata": {},
   "outputs": [
    {
     "name": "stdout",
     "output_type": "stream",
     "text": [
      "Populating the interactive namespace from numpy and matplotlib\n"
     ]
    }
   ],
   "source": [
    "%pylab inline"
   ]
  },
  {
   "cell_type": "code",
   "execution_count": 3,
   "metadata": {},
   "outputs": [
    {
     "name": "stdout",
     "output_type": "stream",
     "text": [
      "pandas version:  0.20.3\n",
      "numpy version: 1.13.3\n",
      "sklearn version: 0.19.1\n"
     ]
    }
   ],
   "source": [
    "import pandas as pd\n",
    "import numpy as np\n",
    "import sklearn as sk\n",
    "print('pandas version: ',pd.__version__)\n",
    "print('numpy version:',np.__version__)\n",
    "print('sklearn version:',sk.__version__)"
   ]
  },
  {
   "cell_type": "markdown",
   "metadata": {},
   "source": [
    "The data we will analyze today is from the weather database."
   ]
  },
  {
   "cell_type": "code",
   "execution_count": 15,
   "metadata": {},
   "outputs": [
    {
     "name": "stdout",
     "output_type": "stream",
     "text": [
      "(85284, 5)\n"
     ]
    },
    {
     "data": {
      "text/html": [
       "<div>\n",
       "<style>\n",
       "    .dataframe thead tr:only-child th {\n",
       "        text-align: right;\n",
       "    }\n",
       "\n",
       "    .dataframe thead th {\n",
       "        text-align: left;\n",
       "    }\n",
       "\n",
       "    .dataframe tbody tr th {\n",
       "        vertical-align: top;\n",
       "    }\n",
       "</style>\n",
       "<table border=\"1\" class=\"dataframe\">\n",
       "  <thead>\n",
       "    <tr style=\"text-align: right;\">\n",
       "      <th></th>\n",
       "      <th>latitude</th>\n",
       "      <th>longitude</th>\n",
       "      <th>elevation</th>\n",
       "      <th>state</th>\n",
       "      <th>name</th>\n",
       "    </tr>\n",
       "    <tr>\n",
       "      <th>station</th>\n",
       "      <th></th>\n",
       "      <th></th>\n",
       "      <th></th>\n",
       "      <th></th>\n",
       "      <th></th>\n",
       "    </tr>\n",
       "  </thead>\n",
       "  <tbody>\n",
       "    <tr>\n",
       "      <th>ACW00011604</th>\n",
       "      <td>17.1167</td>\n",
       "      <td>-61.7833</td>\n",
       "      <td>10.1</td>\n",
       "      <td>NaN</td>\n",
       "      <td>ST JOHNS COOLIDGE FLD</td>\n",
       "    </tr>\n",
       "    <tr>\n",
       "      <th>ACW00011647</th>\n",
       "      <td>17.1333</td>\n",
       "      <td>-61.7833</td>\n",
       "      <td>19.2</td>\n",
       "      <td>NaN</td>\n",
       "      <td>ST JOHNS</td>\n",
       "    </tr>\n",
       "    <tr>\n",
       "      <th>AE000041196</th>\n",
       "      <td>25.3330</td>\n",
       "      <td>55.5170</td>\n",
       "      <td>34.0</td>\n",
       "      <td>NaN</td>\n",
       "      <td>SHARJAH INTER. AIRP</td>\n",
       "    </tr>\n",
       "    <tr>\n",
       "      <th>AF000040930</th>\n",
       "      <td>35.3170</td>\n",
       "      <td>69.0170</td>\n",
       "      <td>3366.0</td>\n",
       "      <td>NaN</td>\n",
       "      <td>NORTH-SALANG</td>\n",
       "    </tr>\n",
       "    <tr>\n",
       "      <th>AG000060390</th>\n",
       "      <td>36.7167</td>\n",
       "      <td>3.2500</td>\n",
       "      <td>24.0</td>\n",
       "      <td>NaN</td>\n",
       "      <td>ALGER-DAR EL BEIDA</td>\n",
       "    </tr>\n",
       "  </tbody>\n",
       "</table>\n",
       "</div>"
      ],
      "text/plain": [
       "             latitude  longitude  elevation state                   name\n",
       "station                                                                 \n",
       "ACW00011604   17.1167   -61.7833       10.1   NaN  ST JOHNS COOLIDGE FLD\n",
       "ACW00011647   17.1333   -61.7833       19.2   NaN               ST JOHNS\n",
       "AE000041196   25.3330    55.5170       34.0   NaN    SHARJAH INTER. AIRP\n",
       "AF000040930   35.3170    69.0170     3366.0   NaN           NORTH-SALANG\n",
       "AG000060390   36.7167     3.2500       24.0   NaN     ALGER-DAR EL BEIDA"
      ]
     },
     "execution_count": 15,
     "metadata": {},
     "output_type": "execute_result"
    }
   ],
   "source": [
    "colspecs = [(0, 11), (11, 21), (21, 31), (31, 38),(38,41),(41,72),(72,76),(76,80),(80,86)]\n",
    "stations = pd.read_fwf('ghcnd-stations_buffered.txt', colspecs=colspecs, header=None, index_col=0,\n",
    "                       names=['latitude','longitude','elevation','state','name','GSNFLAG','HCNFLAG','WMOID'])\n",
    "stations.index.name='station'\n",
    "stations=stations[['latitude', 'longitude', 'elevation', 'state', 'name']]\n",
    "print(stations.shape)\n",
    "stations.head()"
   ]
  },
  {
   "cell_type": "code",
   "execution_count": 33,
   "metadata": {},
   "outputs": [],
   "source": [
    "stations.to_csv('all_stations.tsv',sep='\\t')"
   ]
  },
  {
   "cell_type": "code",
   "execution_count": 35,
   "metadata": {},
   "outputs": [
    {
     "name": "stdout",
     "output_type": "stream",
     "text": [
      "station\tlatitude\tlongitude\televation\tstate\tname\r\n",
      "ACW00011604\t17.1167\t-61.7833\t10.1\t\tST JOHNS COOLIDGE FLD\r\n",
      "ACW00011647\t17.1333\t-61.7833\t19.2\t\tST JOHNS\r\n",
      "AE000041196\t25.333\t55.517\t34.0\t\tSHARJAH INTER. AIRP\r\n",
      "AF000040930\t35.317\t69.017\t3366.0\t\tNORTH-SALANG\r\n",
      "AG000060390\t36.7167\t3.25\t24.0\t\tALGER-DAR EL BEIDA\r\n",
      "AG000060590\t30.5667\t2.8667\t397.0\t\tEL-GOLEA\r\n",
      "AG000060611\t28.05\t9.6331\t561.0\t\tIN-AMENAS\r\n",
      "AG000060680\t22.8\t5.4331\t1362.0\t\tTAMANRASSET\r\n",
      "AGE00135039\t35.7297\t0.65\t50.0\t\tORAN-HOPITAL MILITAIRE\r\n"
     ]
    }
   ],
   "source": [
    "!head all_stations.tsv"
   ]
  },
  {
   "cell_type": "code",
   "execution_count": 34,
   "metadata": {},
   "outputs": [
    {
     "name": "stdout",
     "output_type": "stream",
     "text": [
      "AJ000037742\t40.9\t47.3\t313.0\t\tORDJONIKIDZE,ZERNOSOVHOZ\r\n",
      "AJ000037869\t40.3\t50.6\t-17.0\t\tJILOY,OSTROV\r\n",
      "AJ000037888\t39.5\t45.8\t3282.0\t\tSISIANSKIY,PEREVAL\r\n",
      "AJ000037902\t39.8\t47.5\t157.0\t\tMOL'SKAYA,STEP'\r\n",
      "AJ000037922\t39.8\t49.6\t-25.0\t\tSVINOY,OSTROV\r\n",
      "AM000037694\t40.9\t44.4\t2061.0\t\tPUSHKINSKIY,PEREVAL\r\n",
      "AM000037878\t39.8\t45.0\t2130.0\t\tBESIIMYANNIY,PEREVAL\r\n",
      "ASN00023043\t-34.7607\t138.6311\t25.0\t\tHALBURY ROAD, SALISBURY (HALBU\r\n",
      "BR00C4-019A\t-22.0\t-47.67\t800.0\t\tFAZ.    MONT,ALVERNE\r\n",
      "CA006106398\t45.95\t-77.317\t130.0\t\tPETAWAWA A,ONT\r\n",
      "CA008403045\t47.62\t-52.83\t137.0\t\tPORTUGAL COVE, CONCEPTION BAY\r\n",
      "GG000037495\t41.73\t41.73\t30.0\t\tCHAKVA,AGRO\r\n",
      "GG000037507\t41.6\t42.5\t2025.0\t\tGODERDZSCIY,PEREVAL\r\n",
      "GP000078897\t16.27\t-61.6\t11.0\t\tLE RAIZET, GUADELOUPE\r\n",
      "KG000038608\t40.0\t70.9\t1050.0\t\tBATKEN,AMSG\r\n",
      "KZ000028856\t53.6\t64.3\t178.0\t\tMIHAYLOVKA,KUSTANAY\r\n",
      "KZ000028868\t53.3\t67.0\t190.0\t\tCHERBONNIY,SOVHOZ\r\n",
      "KZ000028888\t53.9\t71.5\t123.0\t\tKZILTUSSKIY,SOVHOZ\r\n",
      "KZ000028894\t53.7\t73.2\t69.0\t\tOZERNIY,SOVHOZ\r\n",
      "KZ000028997\t52.7\t73.7\t89.0\t\tKRASNOKUTSKIY,ZERNOSOVHOZ\r\n",
      "KZ000029703\t53.7\t75.1\t106.0\t\tPRIIRTISHSKIY,ZERNOSOVHOZ\r\n",
      "KZ000034292\t50.8\t49.4\t34.0\t\tIMENI_KRUPSKOY,SOVHOZ\r\n",
      "KZ000035082\t52.4\t71.8\t271.0\t\tSTEPNOGORSK,AMSG\r\n",
      "KZ000035145\t51.2\t61.8\t793.0\t\tSEVERNIY,AMSG\r\n",
      "KZ000035182\t51.7\t71.0\t367.0\t\tSHORTANDI,AGRO\r\n",
      "KZ000035206\t50.7\t51.5\t28.0\t\tANKATINSKIY,SOVHOZ\r\n",
      "KZ000035244\t50.4\t60.5\t257.0\t\tKOMSOMOLSKOE,AMSG\r\n",
      "KZ000035315\t49.7\t53.5\t44.0\t\tKARA-TUBE,AMSG\r\n",
      "KZ000035391\t50.2\t72.8\t515.0\t\tKARAGANDINSKAYA,SOVHOZ\r\n",
      "KZ000035397\t49.6\t72.8\t492.0\t\tIMENI_MICHURINA,SOVHOZ\r\n",
      "KZ000035506\t48.6\t51.7\t32.0\t\tINDERBORSKIY,AMSG\r\n",
      "KZ000036002\t52.4\t75.9\t120.0\t\tPRIOZERNIY,SOVHOZ\r\n",
      "KZ000036536\t48.4\t82.9\t425.0\t\tBOLSHEVIK,SOVHOZ\r\n",
      "KZ000036567\t48.4\t85.7\t574.0\t\tALEKSEEVKA,AMSG\r\n",
      "KZ000036884\t43.2\t77.0\t1712.0\t\tALMA-ATA,MEDEO\r\n",
      "KZ000038052\t44.8\t64.1\t110.0\t\tAKKIRSKIY,SOVHOZ\r\n",
      "KZ000038079\t44.1\t68.5\t316.0\t\tSUZAK,AMSG\r\n",
      "KZ000038119\t43.4\t52.7\t200.0\t\tUSEN',AMSG\r\n",
      "KZ000038147\t50.0\t77.0\t692.0\t\tIMENI_ABAYA,SOVHOZ\r\n",
      "KZ000038197\t43.5\t68.6\t397.0\t\tKENTAU,AMSG\r\n",
      "KZ000038584\t40.8\t68.2\t262.0\t\tIMENI_)LENINA,SOVHOZ\r\n",
      "RSM00022145\t68.15\t39.82\t70.0\t\tSVYATOY NOS,CAPE(CLOSED)\r\n",
      "RSM00028903\t53.0\t52.05\t81.0\t\tBOROVOYE, WOOD FARM\r\n",
      "RSM00031457\t51.35\t129.1\t206.0\t\tGOSH,AGRO\r\n",
      "RSM00031995\t43.73\t135.27\t18.0\t\tOLGA,BAY\r\n",
      "SF000375410\t-33.52\t26.82\t210.0\t\tBATHURST NS,\r\n",
      "SF001450290\t-31.48\t25.02\t1250.0\t\tGROOTFONTEIN 11,\r\n",
      "SF001803940\t-30.57\t29.23\t1463.0\t\tPALMIET, KOKSTAD\r\n",
      "SF001823790\t-30.82\t30.22\t548.0\t\tBRYNAWE, PADDOCK\r\n",
      "SF001825350\t-30.92\t30.3\t65.0\t\tBUSHY VALES, MARGATE\r\n",
      "SF002085280\t-30.3\t29.3\t1661.0\t\tBOKFONTEIN, FRANKLIN\r\n",
      "SF002098250\t-30.25\t29.97\t822.0\t\tTHE GRANGE, UMZIMKUL\r\n",
      "SF002098860\t-30.27\t30.0\t950.0\t\tCROMLEIGH,IXOPO\r\n",
      "SF002107980\t-30.3\t30.45\t701.0\t\tTANHURST EST, UMZINT\r\n",
      "SF002390970\t-29.62\t30.07\t1540.0\t\tELANDSHOEK, BOSTON\r\n",
      "SF002395660\t-29.93\t30.32\t810.0\t\tLITTLE HARMONY, RICH\r\n",
      "SF002408830\t-29.72\t31.0\t40.0\t\tNATAL EST, MOUNT EDG\r\n",
      "SF002686400\t-29.17\t29.87\t1520.0\t\tKILMASHOGUE,LOWLANDS\r\n",
      "SF002690430\t-29.22\t30.03\t1371.0\t\tWESTON COLLEGE, MOOI\r\n",
      "SF002691140\t-29.4\t30.07\t1400.0\t\tKNIGHT L C,BALGOWAN\r\n",
      "SF002692950\t-29.42\t30.17\t1225.0\t\tELDERSLIE, TWEEDIE\r\n",
      "SF002694770\t-29.45\t30.27\t1082.0\t\tDE JONG RANCH, HOWIC\r\n",
      "SF002695320\t-29.37\t30.3\t1075.0\t\tHAWKESTONE, HOWICK\r\n",
      "SF002697740\t-29.4\t30.43\t762.0\t\tCRAMOND, ALBERT FALL\r\n",
      "SF002702190\t-29.15\t30.63\t980.0\t\tCROWE'S PLACE,SEVEN\r\n",
      "SF002935970\t-28.95\t26.33\t1295.0\t\tGLEN AGR. COLLEGE,BFN.\r\n",
      "SF002997880\t-28.63\t29.45\t1220.0\t\tVENTERSLAAGER, BERGV\r\n",
      "SF003000510\t-28.85\t29.53\t1040.0\t\tVECTIS, WINTERTON\r\n",
      "SF003005670\t-28.95\t29.82\t1020.0\t\tHEAVITREE, ESTCOURT\r\n",
      "SF003393540\t-28.4\t32.2\t60.0\t\tKANGELA, MTUBATUBA\r\n",
      "TI000038598\t40.3\t69.8\t347.0\t\tKAYRAKUMSKAYA,GMO\r\n",
      "TX000038972\t37.0\t60.8\t224.0\t\tTEDJENSTROY,2\r\n",
      "UPM00033187\t50.7\t25.5\t192.0\t\tLUCK,AMSG\r\n",
      "UPM00033446\t49.7\t28.9\t257.0\t\tBELOPOL'E,VINNIC\r\n",
      "UPM00033958\t44.8\t34.3\t-999.0\t\tANGARSKIY,PEREVAL\r\n",
      "UPM00033991\t44.62\t33.53\t7.0\t\tSEVASTOPOL',MGS\r\n",
      "UPM00033994\t44.6\t33.4\t2.0\t\tHERSONSSKIY,MAYAK\r\n",
      "US1MDCH0012\t38.6141\t-77.0361\t57.9\tMD\tBRYANS ROAD, MD 2 ESE\r\n",
      "UZM00038039\t44.4\t58.9\t55.0\t\tLASAREV,OSTROV\r\n",
      "UZM00038146\t43.75\t58.73\t68.0\t\tMUINAK,AMSG\r\n",
      "UZM00038454\t41.4\t69.3\t489.0\t\tBOZSU,AGRO\r\n",
      "UZM00038562\t40.7\t66.1\t380.0\t\tNURATA, SOVHOZ\r\n",
      "UZM00038692\t39.9\t66.3\t496.0\t\tKATTA-KURGAN,VODOHR\r\n",
      "UZM00038694\t39.6\t66.3\t530.0\t\tYLUS,SOVHOZ\r\n"
     ]
    }
   ],
   "source": [
    "!grep \\, all_stations.tsv"
   ]
  },
  {
   "cell_type": "code",
   "execution_count": null,
   "metadata": {
    "collapsed": true
   },
   "outputs": [],
   "source": []
  },
  {
   "cell_type": "code",
   "execution_count": 20,
   "metadata": {},
   "outputs": [
    {
     "name": "stdout",
     "output_type": "stream",
     "text": [
      "(12140, 1)\n"
     ]
    },
    {
     "data": {
      "text/html": [
       "<div>\n",
       "<style>\n",
       "    .dataframe thead tr:only-child th {\n",
       "        text-align: right;\n",
       "    }\n",
       "\n",
       "    .dataframe thead th {\n",
       "        text-align: left;\n",
       "    }\n",
       "\n",
       "    .dataframe tbody tr th {\n",
       "        vertical-align: top;\n",
       "    }\n",
       "</style>\n",
       "<table border=\"1\" class=\"dataframe\">\n",
       "  <thead>\n",
       "    <tr style=\"text-align: right;\">\n",
       "      <th></th>\n",
       "      <th>dist_coast</th>\n",
       "    </tr>\n",
       "    <tr>\n",
       "      <th>station</th>\n",
       "      <th></th>\n",
       "    </tr>\n",
       "  </thead>\n",
       "  <tbody>\n",
       "    <tr>\n",
       "      <th>USC00044534</th>\n",
       "      <td>107.65500</td>\n",
       "    </tr>\n",
       "    <tr>\n",
       "      <th>USC00356784</th>\n",
       "      <td>0.61097</td>\n",
       "    </tr>\n",
       "    <tr>\n",
       "      <th>USC00243581</th>\n",
       "      <td>1316.54000</td>\n",
       "    </tr>\n",
       "    <tr>\n",
       "      <th>USC00205601</th>\n",
       "      <td>685.50100</td>\n",
       "    </tr>\n",
       "    <tr>\n",
       "      <th>CA005010480</th>\n",
       "      <td>908.27100</td>\n",
       "    </tr>\n",
       "  </tbody>\n",
       "</table>\n",
       "</div>"
      ],
      "text/plain": [
       "             dist_coast\n",
       "station                \n",
       "USC00044534   107.65500\n",
       "USC00356784     0.61097\n",
       "USC00243581  1316.54000\n",
       "USC00205601   685.50100\n",
       "CA005010480   908.27100"
      ]
     },
     "execution_count": 20,
     "metadata": {},
     "output_type": "execute_result"
    }
   ],
   "source": [
    "dist_to_coast=pd.read_csv('station_lat_log_elev_distToCoast.csv').set_index('station')\n",
    "dist_to_coast=dist_to_coast[['dist_coast']]\n",
    "print(dist_to_coast.shape)\n",
    "dist_to_coast.head()\n"
   ]
  },
  {
   "cell_type": "code",
   "execution_count": 21,
   "metadata": {
    "scrolled": false
   },
   "outputs": [
    {
     "name": "stdout",
     "output_type": "stream",
     "text": [
      "(12140, 6)\n"
     ]
    },
    {
     "data": {
      "text/html": [
       "<div>\n",
       "<style>\n",
       "    .dataframe thead tr:only-child th {\n",
       "        text-align: right;\n",
       "    }\n",
       "\n",
       "    .dataframe thead th {\n",
       "        text-align: left;\n",
       "    }\n",
       "\n",
       "    .dataframe tbody tr th {\n",
       "        vertical-align: top;\n",
       "    }\n",
       "</style>\n",
       "<table border=\"1\" class=\"dataframe\">\n",
       "  <thead>\n",
       "    <tr style=\"text-align: right;\">\n",
       "      <th></th>\n",
       "      <th>dist_coast</th>\n",
       "      <th>latitude</th>\n",
       "      <th>longitude</th>\n",
       "      <th>elevation</th>\n",
       "      <th>state</th>\n",
       "      <th>name</th>\n",
       "    </tr>\n",
       "    <tr>\n",
       "      <th>station</th>\n",
       "      <th></th>\n",
       "      <th></th>\n",
       "      <th></th>\n",
       "      <th></th>\n",
       "      <th></th>\n",
       "      <th></th>\n",
       "    </tr>\n",
       "  </thead>\n",
       "  <tbody>\n",
       "    <tr>\n",
       "      <th>USC00044534</th>\n",
       "      <td>107.65500</td>\n",
       "      <td>36.0042</td>\n",
       "      <td>-119.9600</td>\n",
       "      <td>73.2</td>\n",
       "      <td>CA</td>\n",
       "      <td>KETTLEMAN CITY</td>\n",
       "    </tr>\n",
       "    <tr>\n",
       "      <th>USC00356784</th>\n",
       "      <td>0.61097</td>\n",
       "      <td>42.7519</td>\n",
       "      <td>-124.5011</td>\n",
       "      <td>12.8</td>\n",
       "      <td>OR</td>\n",
       "      <td>PORT ORFORD NO 2</td>\n",
       "    </tr>\n",
       "    <tr>\n",
       "      <th>USC00243581</th>\n",
       "      <td>1316.54000</td>\n",
       "      <td>47.1064</td>\n",
       "      <td>-104.7183</td>\n",
       "      <td>632.8</td>\n",
       "      <td>MT</td>\n",
       "      <td>GLENDIVE</td>\n",
       "    </tr>\n",
       "    <tr>\n",
       "      <th>USC00205601</th>\n",
       "      <td>685.50100</td>\n",
       "      <td>41.7500</td>\n",
       "      <td>-84.2167</td>\n",
       "      <td>247.2</td>\n",
       "      <td>MI</td>\n",
       "      <td>MORENCI</td>\n",
       "    </tr>\n",
       "    <tr>\n",
       "      <th>CA005010480</th>\n",
       "      <td>908.27100</td>\n",
       "      <td>49.9170</td>\n",
       "      <td>-99.9500</td>\n",
       "      <td>409.0</td>\n",
       "      <td>NaN</td>\n",
       "      <td>BRANDON AIRPORT</td>\n",
       "    </tr>\n",
       "  </tbody>\n",
       "</table>\n",
       "</div>"
      ],
      "text/plain": [
       "             dist_coast  latitude  longitude  elevation state  \\\n",
       "station                                                         \n",
       "USC00044534   107.65500   36.0042  -119.9600       73.2    CA   \n",
       "USC00356784     0.61097   42.7519  -124.5011       12.8    OR   \n",
       "USC00243581  1316.54000   47.1064  -104.7183      632.8    MT   \n",
       "USC00205601   685.50100   41.7500   -84.2167      247.2    MI   \n",
       "CA005010480   908.27100   49.9170   -99.9500      409.0   NaN   \n",
       "\n",
       "                         name  \n",
       "station                        \n",
       "USC00044534    KETTLEMAN CITY  \n",
       "USC00356784  PORT ORFORD NO 2  \n",
       "USC00243581          GLENDIVE  \n",
       "USC00205601           MORENCI  \n",
       "CA005010480   BRANDON AIRPORT  "
      ]
     },
     "execution_count": 21,
     "metadata": {},
     "output_type": "execute_result"
    }
   ],
   "source": [
    "joined=dist_to_coast.join(stations,how='left',lsuffix='_dist',rsuffix='_orig')\n",
    "print(joined.shape)\n",
    "joined.head()"
   ]
  },
  {
   "cell_type": "code",
   "execution_count": 28,
   "metadata": {
    "collapsed": true
   },
   "outputs": [],
   "source": [
    "joined.to_csv('US_stations.tsv',sep='\\t')"
   ]
  },
  {
   "cell_type": "code",
   "execution_count": 32,
   "metadata": {},
   "outputs": [
    {
     "name": "stdout",
     "output_type": "stream",
     "text": [
      "CA006106398\t479.51300000000003\t45.95\t-77.317\t130.0\t\tPETAWAWA A,ONT\r\n"
     ]
    }
   ],
   "source": [
    "!grep \\, US_stations.tsv"
   ]
  },
  {
   "cell_type": "code",
   "execution_count": 30,
   "metadata": {},
   "outputs": [
    {
     "data": {
      "text/html": [
       "<div>\n",
       "<style>\n",
       "    .dataframe thead tr:only-child th {\n",
       "        text-align: right;\n",
       "    }\n",
       "\n",
       "    .dataframe thead th {\n",
       "        text-align: left;\n",
       "    }\n",
       "\n",
       "    .dataframe tbody tr th {\n",
       "        vertical-align: top;\n",
       "    }\n",
       "</style>\n",
       "<table border=\"1\" class=\"dataframe\">\n",
       "  <thead>\n",
       "    <tr style=\"text-align: right;\">\n",
       "      <th></th>\n",
       "      <th>dist_coast</th>\n",
       "      <th>latitude</th>\n",
       "      <th>longitude</th>\n",
       "      <th>elevation</th>\n",
       "      <th>state</th>\n",
       "      <th>name</th>\n",
       "    </tr>\n",
       "    <tr>\n",
       "      <th>station</th>\n",
       "      <th></th>\n",
       "      <th></th>\n",
       "      <th></th>\n",
       "      <th></th>\n",
       "      <th></th>\n",
       "      <th></th>\n",
       "    </tr>\n",
       "  </thead>\n",
       "  <tbody>\n",
       "    <tr>\n",
       "      <th>USC00044534</th>\n",
       "      <td>107.65500</td>\n",
       "      <td>36.0042</td>\n",
       "      <td>-119.9600</td>\n",
       "      <td>73.2</td>\n",
       "      <td>CA</td>\n",
       "      <td>KETTLEMAN CITY</td>\n",
       "    </tr>\n",
       "    <tr>\n",
       "      <th>USC00356784</th>\n",
       "      <td>0.61097</td>\n",
       "      <td>42.7519</td>\n",
       "      <td>-124.5011</td>\n",
       "      <td>12.8</td>\n",
       "      <td>OR</td>\n",
       "      <td>PORT ORFORD NO 2</td>\n",
       "    </tr>\n",
       "    <tr>\n",
       "      <th>USC00243581</th>\n",
       "      <td>1316.54000</td>\n",
       "      <td>47.1064</td>\n",
       "      <td>-104.7183</td>\n",
       "      <td>632.8</td>\n",
       "      <td>MT</td>\n",
       "      <td>GLENDIVE</td>\n",
       "    </tr>\n",
       "    <tr>\n",
       "      <th>USC00205601</th>\n",
       "      <td>685.50100</td>\n",
       "      <td>41.7500</td>\n",
       "      <td>-84.2167</td>\n",
       "      <td>247.2</td>\n",
       "      <td>MI</td>\n",
       "      <td>MORENCI</td>\n",
       "    </tr>\n",
       "    <tr>\n",
       "      <th>CA005010480</th>\n",
       "      <td>908.27100</td>\n",
       "      <td>49.9170</td>\n",
       "      <td>-99.9500</td>\n",
       "      <td>409.0</td>\n",
       "      <td>NaN</td>\n",
       "      <td>BRANDON AIRPORT</td>\n",
       "    </tr>\n",
       "  </tbody>\n",
       "</table>\n",
       "</div>"
      ],
      "text/plain": [
       "             dist_coast  latitude  longitude  elevation state  \\\n",
       "station                                                         \n",
       "USC00044534   107.65500   36.0042  -119.9600       73.2    CA   \n",
       "USC00356784     0.61097   42.7519  -124.5011       12.8    OR   \n",
       "USC00243581  1316.54000   47.1064  -104.7183      632.8    MT   \n",
       "USC00205601   685.50100   41.7500   -84.2167      247.2    MI   \n",
       "CA005010480   908.27100   49.9170   -99.9500      409.0   NaN   \n",
       "\n",
       "                         name  \n",
       "station                        \n",
       "USC00044534    KETTLEMAN CITY  \n",
       "USC00356784  PORT ORFORD NO 2  \n",
       "USC00243581          GLENDIVE  \n",
       "USC00205601           MORENCI  \n",
       "CA005010480   BRANDON AIRPORT  "
      ]
     },
     "execution_count": 30,
     "metadata": {},
     "output_type": "execute_result"
    }
   ],
   "source": [
    "read=pd.read_csv('US_stations.tsv',sep='\\t',index_col='station')\n",
    "read.head()"
   ]
  },
  {
   "cell_type": "code",
   "execution_count": null,
   "metadata": {
    "collapsed": true
   },
   "outputs": [],
   "source": []
  }
 ],
 "metadata": {
  "kernelspec": {
   "display_name": "Python 3",
   "language": "python",
   "name": "python3"
  },
  "language_info": {
   "codemirror_mode": {
    "name": "ipython",
    "version": 3
   },
   "file_extension": ".py",
   "mimetype": "text/x-python",
   "name": "python",
   "nbconvert_exporter": "python",
   "pygments_lexer": "ipython3",
   "version": "3.6.3"
  },
  "toc": {
   "nav_menu": {},
   "number_sections": true,
   "sideBar": true,
   "skip_h1_title": false,
   "title_cell": "Table of Contents",
   "title_sidebar": "Contents",
   "toc_cell": false,
   "toc_position": {},
   "toc_section_display": true,
   "toc_window_display": false
  }
 },
 "nbformat": 4,
 "nbformat_minor": 1
}
