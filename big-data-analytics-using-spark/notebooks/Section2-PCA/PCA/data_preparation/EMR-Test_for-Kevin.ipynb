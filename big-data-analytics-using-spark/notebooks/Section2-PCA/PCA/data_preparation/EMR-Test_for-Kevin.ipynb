{
 "cells": [
  {
   "cell_type": "markdown",
   "metadata": {
    "slideshow": {
     "slide_type": "subslide"
    }
   },
   "source": [
    "###  Test of python compatibility\n",
    "\n",
    "We want this notebook to run using python3 both in the driver and in the workers.\n"
   ]
  },
  {
   "cell_type": "markdown",
   "metadata": {},
   "source": [
    "## Reading data and creating dataframe"
   ]
  },
  {
   "cell_type": "code",
   "execution_count": 2,
   "metadata": {},
   "outputs": [
    {
     "name": "stdout",
     "output_type": "stream",
     "text": [
      "CPU times: user 154 ms, sys: 37.3 ms, total: 192 ms\n",
      "Wall time: 2.79 s\n"
     ]
    }
   ],
   "source": [
    "%%time\n",
    "%pwd\n",
    "import findspark\n",
    "findspark.init()\n",
    "\n",
    "from pyspark import SparkContext\n",
    "#libfilename='/mnt/workspace/edX-Micro-Master-in-Data-Science/big-data-analytics-using-spark/notebooks/Section2-PCA/PCA/data_preparation/lib/numpy_pack.py'\n",
    "libfilename='./lib/numpy_pack.py'\n",
    "sc = SparkContext(pyFiles=[libfilename])\n",
    "\n",
    "from pyspark import SparkContext\n",
    "from pyspark.sql import SQLContext\n",
    "\n",
    "sqlContext = SQLContext(sc)"
   ]
  },
  {
   "cell_type": "code",
   "execution_count": 3,
   "metadata": {},
   "outputs": [
    {
     "name": "stdout",
     "output_type": "stream",
     "text": [
      "curl https://mas-dse-open.s3.amazonaws.com/Weather/small/US_Weather_SSSSBBBB.csv.gz > ../../../Data/Weather/US_Weather_SSSSBBBB.csv.gz\n",
      "  % Total    % Received % Xferd  Average Speed   Time    Time     Time  Current\n",
      "                                 Dload  Upload   Total   Spent    Left  Speed\n",
      "100 3169k  100 3169k    0     0  3169k      0  0:00:01 --:--:--  0:00:01 4069k\n",
      "-rw-r--r--  1 yoavfreund  staff   3.1M Mar  6 17:10 ../../../Data/Weather/US_Weather_SSSSBBBB.csv.gz\n",
      "12740\n"
     ]
    },
    {
     "ename": "NameError",
     "evalue": "name 'Weather_' is not defined",
     "output_type": "error",
     "traceback": [
      "\u001b[0;31m---------------------------------------------------------------------------\u001b[0m",
      "\u001b[0;31mNameError\u001b[0m                                 Traceback (most recent call last)",
      "\u001b[0;32m<ipython-input-3-7faa15f4a2c2>\u001b[0m in \u001b[0;36m<module>\u001b[0;34m()\u001b[0m\n\u001b[0;32m----> 1\u001b[0;31m \u001b[0mget_ipython\u001b[0m\u001b[0;34m(\u001b[0m\u001b[0;34m)\u001b[0m\u001b[0;34m.\u001b[0m\u001b[0mrun_cell_magic\u001b[0m\u001b[0;34m(\u001b[0m\u001b[0;34m'time'\u001b[0m\u001b[0;34m,\u001b[0m \u001b[0;34m''\u001b[0m\u001b[0;34m,\u001b[0m \u001b[0;34m'file_index=\\'SSSSBBBB\\'\\ndata_dir=\\'../../../Data/Weather\\'\\n\\nfilebase=\\'US_Weather_%s\\'%file_index\\n!rm -rf $data_dir/$filebase*\\n\\nc_filename=filebase+\\'.csv.gz\\'\\nu_filename=filebase+\\'.csv\\'\\n\\ncommand=\"curl https://mas-dse-open.s3.amazonaws.com/Weather/small/%s > %s/%s\"%(c_filename,data_dir,c_filename)\\nprint(command)\\n!$command\\n!ls -lh $data_dir/$c_filename\\n\\n#unzip\\n!gunzip -c $data_dir/$c_filename > $data_dir/$u_filename\\nimport pickle\\nList=pickle.load(open(data_dir+\\'/\\'+u_filename,\\'rb\\'))\\n\\nWeather_df=sqlContext.createDataFrame(List)\\nprint(Weather_df.count())\\nWeather_.show(5)'\u001b[0m\u001b[0;34m)\u001b[0m\u001b[0;34m\u001b[0m\u001b[0m\n\u001b[0m",
      "\u001b[0;32m/Users/yoavfreund/anaconda3/lib/python3.6/site-packages/IPython/core/interactiveshell.py\u001b[0m in \u001b[0;36mrun_cell_magic\u001b[0;34m(self, magic_name, line, cell)\u001b[0m\n\u001b[1;32m   2113\u001b[0m             \u001b[0mmagic_arg_s\u001b[0m \u001b[0;34m=\u001b[0m \u001b[0mself\u001b[0m\u001b[0;34m.\u001b[0m\u001b[0mvar_expand\u001b[0m\u001b[0;34m(\u001b[0m\u001b[0mline\u001b[0m\u001b[0;34m,\u001b[0m \u001b[0mstack_depth\u001b[0m\u001b[0;34m)\u001b[0m\u001b[0;34m\u001b[0m\u001b[0m\n\u001b[1;32m   2114\u001b[0m             \u001b[0;32mwith\u001b[0m \u001b[0mself\u001b[0m\u001b[0;34m.\u001b[0m\u001b[0mbuiltin_trap\u001b[0m\u001b[0;34m:\u001b[0m\u001b[0;34m\u001b[0m\u001b[0m\n\u001b[0;32m-> 2115\u001b[0;31m                 \u001b[0mresult\u001b[0m \u001b[0;34m=\u001b[0m \u001b[0mfn\u001b[0m\u001b[0;34m(\u001b[0m\u001b[0mmagic_arg_s\u001b[0m\u001b[0;34m,\u001b[0m \u001b[0mcell\u001b[0m\u001b[0;34m)\u001b[0m\u001b[0;34m\u001b[0m\u001b[0m\n\u001b[0m\u001b[1;32m   2116\u001b[0m             \u001b[0;32mreturn\u001b[0m \u001b[0mresult\u001b[0m\u001b[0;34m\u001b[0m\u001b[0m\n\u001b[1;32m   2117\u001b[0m \u001b[0;34m\u001b[0m\u001b[0m\n",
      "\u001b[0;32m<decorator-gen-59>\u001b[0m in \u001b[0;36mtime\u001b[0;34m(self, line, cell, local_ns)\u001b[0m\n",
      "\u001b[0;32m/Users/yoavfreund/anaconda3/lib/python3.6/site-packages/IPython/core/magic.py\u001b[0m in \u001b[0;36m<lambda>\u001b[0;34m(f, *a, **k)\u001b[0m\n\u001b[1;32m    186\u001b[0m     \u001b[0;31m# but it's overkill for just that one bit of state.\u001b[0m\u001b[0;34m\u001b[0m\u001b[0;34m\u001b[0m\u001b[0m\n\u001b[1;32m    187\u001b[0m     \u001b[0;32mdef\u001b[0m \u001b[0mmagic_deco\u001b[0m\u001b[0;34m(\u001b[0m\u001b[0marg\u001b[0m\u001b[0;34m)\u001b[0m\u001b[0;34m:\u001b[0m\u001b[0;34m\u001b[0m\u001b[0m\n\u001b[0;32m--> 188\u001b[0;31m         \u001b[0mcall\u001b[0m \u001b[0;34m=\u001b[0m \u001b[0;32mlambda\u001b[0m \u001b[0mf\u001b[0m\u001b[0;34m,\u001b[0m \u001b[0;34m*\u001b[0m\u001b[0ma\u001b[0m\u001b[0;34m,\u001b[0m \u001b[0;34m**\u001b[0m\u001b[0mk\u001b[0m\u001b[0;34m:\u001b[0m \u001b[0mf\u001b[0m\u001b[0;34m(\u001b[0m\u001b[0;34m*\u001b[0m\u001b[0ma\u001b[0m\u001b[0;34m,\u001b[0m \u001b[0;34m**\u001b[0m\u001b[0mk\u001b[0m\u001b[0;34m)\u001b[0m\u001b[0;34m\u001b[0m\u001b[0m\n\u001b[0m\u001b[1;32m    189\u001b[0m \u001b[0;34m\u001b[0m\u001b[0m\n\u001b[1;32m    190\u001b[0m         \u001b[0;32mif\u001b[0m \u001b[0mcallable\u001b[0m\u001b[0;34m(\u001b[0m\u001b[0marg\u001b[0m\u001b[0;34m)\u001b[0m\u001b[0;34m:\u001b[0m\u001b[0;34m\u001b[0m\u001b[0m\n",
      "\u001b[0;32m/Users/yoavfreund/anaconda3/lib/python3.6/site-packages/IPython/core/magics/execution.py\u001b[0m in \u001b[0;36mtime\u001b[0;34m(self, line, cell, local_ns)\u001b[0m\n\u001b[1;32m   1183\u001b[0m         \u001b[0;32melse\u001b[0m\u001b[0;34m:\u001b[0m\u001b[0;34m\u001b[0m\u001b[0m\n\u001b[1;32m   1184\u001b[0m             \u001b[0mst\u001b[0m \u001b[0;34m=\u001b[0m \u001b[0mclock2\u001b[0m\u001b[0;34m(\u001b[0m\u001b[0;34m)\u001b[0m\u001b[0;34m\u001b[0m\u001b[0m\n\u001b[0;32m-> 1185\u001b[0;31m             \u001b[0mexec\u001b[0m\u001b[0;34m(\u001b[0m\u001b[0mcode\u001b[0m\u001b[0;34m,\u001b[0m \u001b[0mglob\u001b[0m\u001b[0;34m,\u001b[0m \u001b[0mlocal_ns\u001b[0m\u001b[0;34m)\u001b[0m\u001b[0;34m\u001b[0m\u001b[0m\n\u001b[0m\u001b[1;32m   1186\u001b[0m             \u001b[0mend\u001b[0m \u001b[0;34m=\u001b[0m \u001b[0mclock2\u001b[0m\u001b[0;34m(\u001b[0m\u001b[0;34m)\u001b[0m\u001b[0;34m\u001b[0m\u001b[0m\n\u001b[1;32m   1187\u001b[0m             \u001b[0mout\u001b[0m \u001b[0;34m=\u001b[0m \u001b[0;32mNone\u001b[0m\u001b[0;34m\u001b[0m\u001b[0m\n",
      "\u001b[0;32m<timed exec>\u001b[0m in \u001b[0;36m<module>\u001b[0;34m()\u001b[0m\n",
      "\u001b[0;31mNameError\u001b[0m: name 'Weather_' is not defined"
     ]
    }
   ],
   "source": [
    "%%time\n",
    "file_index='SSSSBBBB'\n",
    "data_dir='../../../Data/Weather'\n",
    "\n",
    "filebase='US_Weather_%s'%file_index\n",
    "!rm -rf $data_dir/$filebase*\n",
    "\n",
    "c_filename=filebase+'.csv.gz'\n",
    "u_filename=filebase+'.csv'\n",
    "\n",
    "command=\"curl https://mas-dse-open.s3.amazonaws.com/Weather/small/%s > %s/%s\"%(c_filename,data_dir,c_filename)\n",
    "print(command)\n",
    "!$command\n",
    "!ls -lh $data_dir/$c_filename\n",
    "\n",
    "#unzip\n",
    "!gunzip -c $data_dir/$c_filename > $data_dir/$u_filename\n",
    "import pickle\n",
    "List=pickle.load(open(data_dir+'/'+u_filename,'rb'))\n",
    "\n",
    "Weather_df=sqlContext.createDataFrame(List)\n",
    "print(Weather_df.count())\n",
    "Weather_df.show(2)"
   ]
  },
  {
   "cell_type": "code",
   "execution_count": 8,
   "metadata": {
    "collapsed": true
   },
   "outputs": [],
   "source": [
    "#processing a single row"
   ]
  },
  {
   "cell_type": "code",
   "execution_count": 9,
   "metadata": {},
   "outputs": [
    {
     "data": {
      "text/plain": [
       "array([ 100.,   67.,   50.,  -11.,  -83.,  -89.,  -39.,    0.,   22.,\n",
       "         67.,   50.,   83.,   17.,   44.,   72.,   28.,   22.,   -6.,\n",
       "         44.,   61.,   78.,  100.,  100.,   nan,   78.,   44.,   39.,\n",
       "         44.,   50.,   61.,   39.,   78.,   17.,   17.,   nan,   nan,\n",
       "         33.,   44.,   28.,  -28.,   17.,   17.,   28.,   78.,  111.,\n",
       "         nan,   44.,  -72.,    0.,  -11.,  -17.,   39.,   78.,   50.,\n",
       "        100.,   72.,   50.,   61.,   56.,  122.,  150.,  150.,  156.,\n",
       "        189.,  183.,  178.,  133.,  150.,   94.,  128.,  133.,  156.,\n",
       "        100.,   94.,  122.,  144.,  167.,  172.,  167.,  172.,  183.,\n",
       "        161.,  167.,  150.,  122.,  150.,  133.,   17.,   44.,  106.,\n",
       "        128.,  150.,  200.,  117.,  144.,  100.,  122.,  189.,   94.,\n",
       "        139.,  150.,  156.,  106.,  111.,   39.,   78.,   39.,  167.,\n",
       "        189.,  211.,  183.,  183.,  183.,  189.,  206.,  217.,  228.,\n",
       "        239.,  217.,  228.,  150.,   nan,  150.,  167.,  167.,  178.,\n",
       "        183.,  211.,  239.,  250.,  244.,  228.,  244.,  183.,  200.,\n",
       "        172.,  128.,  133.,  194.,  178.,  133.,  117.,  172.,  228.,\n",
       "        183.,  217.,  239.,  283.,  278.,  267.,  261.,  272.,  261.,\n",
       "        250.,  261.,  267.,  272.,  283.,  267.,  250.,  228.,  239.,\n",
       "        272.,  239.,  233.,  239.,  261.,  267.,  272.,  289.,  272.,\n",
       "        267.,  261.,  244.,  239.,  206.,  222.,  222.,  233.,  239.,\n",
       "        244.,  267.,  306.,  267.,  272.,  272.,  267.,  294.,  289.,\n",
       "        283.,  272.,  283.,  294.,  239.,  272.,  278.,  289.,  283.,\n",
       "        267.,  294.,  283.,  294.,  289.,  294.,  300.,  311.,  311.,\n",
       "        306.,  256.,  250.,  261.,  256.,  250.,  256.,  261.,  222.,\n",
       "        200.,  239.,  261.,  261.,  239.,  233.,  239.,  211.,  233.,\n",
       "        239.,  256.,  239.,  244.,  228.,  244.,  267.,  283.,  278.,\n",
       "        272.,  267.,  200.,  244.,  267.,  267.,  261.,  172.,  211.,\n",
       "        206.,  233.,  222.,  222.,  239.,  239.,  239.,  267.,  206.,\n",
       "        261.,  250.,  261.,  239.,  178.,  211.,  222.,  233.,  239.,\n",
       "        239.,  239.,  239.,  233.,  228.,  233.,  233.,  222.,  228.,\n",
       "        161.,  222.,  239.,  233.,  206.,  183.,  183.,  211.,  233.,\n",
       "        239.,  267.,  250.,  222.,  211.,  222.,  183.,  183.,  183.,\n",
       "        206.,  156.,  150.,   44.,   72.,   61.,  117.,  133.,  156.,\n",
       "        183.,  172.,  117.,  111.,  156.,  161.,  167.,  161.,  156.,\n",
       "        161.,  128.,   61.,  122.,  139.,  156.,  144.,  161.,  178.,\n",
       "        150.,  156.,   72.,   78.,   61.,   89.,   94.,   89.,   83.,\n",
       "         78.,   83.,  128.,  156.,  150.,  122.,   72.,   72.,  111.,\n",
       "        128.,  150.,  139.,  139.,  144.,   50.,   67.,   83.,   89.,\n",
       "         94.,  128.,  122.,   94.,   83.,   11.,   50.,   67.,   83.,\n",
       "         89.,   44.,   39.,   28.,   11.,   11.,   44.,   28.,   22.,\n",
       "         17.,   11.,  -11.,   -6.,   nan], dtype=float16)"
      ]
     },
     "execution_count": 9,
     "metadata": {},
     "output_type": "execute_result"
    }
   ],
   "source": [
    "row,=Weather_df.take(1)\n",
    "V=row.vector\n",
    "V\n",
    "\n",
    "import sys\n",
    "sys.path.append('./lib')\n",
    "from numpy_pack import unpackArray\n",
    "\n",
    "import numpy as np\n",
    "unpackArray(V,data_type=np.float16)"
   ]
  },
  {
   "cell_type": "markdown",
   "metadata": {},
   "source": [
    "## Processing all rows in a DataFrame\n",
    "using UDF"
   ]
  },
  {
   "cell_type": "code",
   "execution_count": 10,
   "metadata": {},
   "outputs": [],
   "source": [
    "from pyspark.sql.types import ArrayType,FloatType, DoubleType, StringType, IntegerType\n",
    "from pyspark.sql.functions import udf\n",
    "\n",
    "def Unpack(V):\n",
    "    A=[float(x) for x in unpackArray(V,data_type=np.float16)]\n",
    "    return A\n",
    "Unpack_udf = udf(Unpack,ArrayType(FloatType(),True))\n",
    "sqlContext.registerFunction(\"UnpackArray\", Unpack,ArrayType(FloatType()))\n",
    "sqlContext.registerDataFrameAsTable(Weather_df,'weather')"
   ]
  },
  {
   "cell_type": "code",
   "execution_count": 11,
   "metadata": {},
   "outputs": [
    {
     "name": "stdout",
     "output_type": "stream",
     "text": [
      "+---------+--------+---------+-----------+-----------+------+------+--------+--------------------+\n",
      "|elevation|latitude|longitude|measurement|    station|undefs|  year|   label|               Array|\n",
      "+---------+--------+---------+-----------+-----------+------+------+--------+--------------------+\n",
      "|   2449.1| 36.0333|-105.8167|       TMAX|USC00299113|     6|1910.0|SSSSBBBB|[100.0, 67.0, 50....|\n",
      "|   2449.1| 36.0333|-105.8167|       TMAX|USC00299113|    21|1911.0|SSSSBBBB|[-11.0, -67.0, 28...|\n",
      "+---------+--------+---------+-----------+-----------+------+------+--------+--------------------+\n",
      "only showing top 2 rows\n",
      "\n"
     ]
    }
   ],
   "source": [
    "Weather_df2=Weather_df.withColumn(\"Array\", Unpack_udf(Weather_df.vector)).drop('vector')\n",
    "Weather_df2.show(2)"
   ]
  },
  {
   "cell_type": "code",
   "execution_count": null,
   "metadata": {
    "collapsed": true
   },
   "outputs": [],
   "source": []
  }
 ],
 "metadata": {
  "anaconda-cloud": {},
  "celltoolbar": "Slideshow",
  "kernelspec": {
   "display_name": "Python 3",
   "language": "python",
   "name": "python3"
  },
  "language_info": {
   "codemirror_mode": {
    "name": "ipython",
    "version": 3
   },
   "file_extension": ".py",
   "mimetype": "text/x-python",
   "name": "python",
   "nbconvert_exporter": "python",
   "pygments_lexer": "ipython3",
   "version": "3.6.3"
  },
  "name": "PCA_using_numpy for HW3",
  "notebookId": 85286,
  "toc": {
   "nav_menu": {},
   "number_sections": true,
   "sideBar": true,
   "skip_h1_title": false,
   "title_cell": "Table of Contents",
   "title_sidebar": "Contents",
   "toc_cell": false,
   "toc_position": {},
   "toc_section_display": true,
   "toc_window_display": false
  }
 },
 "nbformat": 4,
 "nbformat_minor": 1
}
