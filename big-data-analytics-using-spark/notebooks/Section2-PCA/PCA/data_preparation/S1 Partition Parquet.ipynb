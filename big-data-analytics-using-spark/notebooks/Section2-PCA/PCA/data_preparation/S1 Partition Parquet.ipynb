{
 "cells": [
  {
   "cell_type": "markdown",
   "metadata": {
    "slideshow": {
     "slide_type": "slide"
    }
   },
   "source": [
    "# Splitting the US dataset into smaller datasets\n",
    "We partition the parquet file along the dimensions of longitude, latitude and time.\n",
    "The split is done in a KD-tree manner - splitting the longer dimension on the median.\n",
    "\n",
    "The median is weighted by the number of valid measurement years."
   ]
  },
  {
   "cell_type": "code",
   "execution_count": 26,
   "metadata": {
    "collapsed": true
   },
   "outputs": [],
   "source": [
    "sc.stop()"
   ]
  },
  {
   "cell_type": "code",
   "execution_count": 28,
   "metadata": {
    "collapsed": true
   },
   "outputs": [],
   "source": [
    "from pyspark import SparkContext\n",
    "\n",
    "sc = SparkContext(master=master_url,pyFiles=['lib/numpy_pack.py'])"
   ]
  },
  {
   "cell_type": "code",
   "execution_count": 29,
   "metadata": {
    "collapsed": true
   },
   "outputs": [],
   "source": [
    "bucket='mas-dse-public'\n",
    "dir='/home/ec2-user/spark/'\n",
    "s3helper.open_bucket(bucket)\n",
    "from time import time"
   ]
  },
  {
   "cell_type": "code",
   "execution_count": 7,
   "metadata": {
    "collapsed": true
   },
   "outputs": [
    {
     "name": "stdout",
     "output_type": "stream",
     "text": [
      "Found 190 items\n",
      "-rw-r--r--   3 ec2-user supergroup          0 2017-03-14 00:40 /US_Weather.parquet/_SUCCESS\n",
      "-rw-r--r--   3 ec2-user supergroup      26440 2017-03-14 00:40 /US_Weather.parquet/_common_metadata\n",
      "-rw-r--r--   3 ec2-user supergroup   13106337 2017-03-14 00:40 /US_Weather.parquet/_metadata\n",
      "-rw-r--r--   3 ec2-user supergroup   27983129 2017-03-14 00:40 /US_Weather.parquet/part-r-00000-0f4998c0-b27b-4f60-ad45-ed3212ddb46f.gz.parquet\n",
      "-rw-r--r--   3 ec2-user supergroup    6570243 2017-03-14 00:40 /US_Weather.parquet/part-r-00001-0f4998c0-b27b-4f60-ad45-ed3212ddb46f.gz.parquet\n",
      "-rw-r--r--   3 ec2-user supergroup   27923948 2017-03-14 00:40 /US_Weather.parquet/part-r-00002-0f4998c0-b27b-4f60-ad45-ed3212ddb46f.gz.parquet\n",
      "-rw-r--r--   3 ec2-user supergroup    5822418 2017-03-14 00:40 /US_Weather.parquet/part-r-00003-0f4998c0-b27b-4f60-ad45-ed3212ddb46f.gz.parquet\n",
      "-rw-r--r--   3 ec2-user supergroup   30277393 2017-03-14 00:40 /US_Weather.parquet/part-r-00004-0f4998c0-b27b-4f60-ad45-ed3212ddb46f.gz.parquet\n",
      "-rw-r--r--   3 ec2-user supergroup    5921480 2017-03-14 00:40 /US_Weather.parquet/part-r-00005-0f4998c0-b27b-4f60-ad45-ed3212ddb46f.gz.parquet\n",
      "-rw-r--r--   3 ec2-user supergroup   27954124 2017-03-14 00:40 /US_Weather.parquet/part-r-00006-0f4998c0-b27b-4f60-ad45-ed3212ddb46f.gz.parquet\n",
      "-rw-r--r--   3 ec2-user supergroup    4870043 2017-03-14 00:40 /US_Weather.parquet/part-r-00007-0f4998c0-b27b-4f60-ad45-ed3212ddb46f.gz.parquet\n",
      "-rw-r--r--   3 ec2-user supergroup   30022982 2017-03-14 00:40 /US_Weather.parquet/part-r-00008-0f4998c0-b27b-4f60-ad45-ed3212ddb46f.gz.parquet\n",
      "-rw-r--r--   3 ec2-user supergroup    7010913 2017-03-14 00:40 /US_Weather.parquet/part-r-00009-0f4998c0-b27b-4f60-ad45-ed3212ddb46f.gz.parquet\n",
      "-rw-r--r--   3 ec2-user supergroup   29350429 2017-03-14 00:40 /US_Weather.parquet/part-r-00010-0f4998c0-b27b-4f60-ad45-ed3212ddb46f.gz.parquet\n",
      "-rw-r--r--   3 ec2-user supergroup    6009731 2017-03-14 00:40 /US_Weather.parquet/part-r-00011-0f4998c0-b27b-4f60-ad45-ed3212ddb46f.gz.parquet\n",
      "-rw-r--r--   3 ec2-user supergroup   28367690 2017-03-14 00:40 /US_Weather.parquet/part-r-00012-0f4998c0-b27b-4f60-ad45-ed3212ddb46f.gz.parquet\n",
      "-rw-r--r--   3 ec2-user supergroup    6379026 2017-03-14 00:40 /US_Weather.parquet/part-r-00013-0f4998c0-b27b-4f60-ad45-ed3212ddb46f.gz.parquet\n",
      "-rw-r--r--   3 ec2-user supergroup   29089052 2017-03-14 00:40 /US_Weather.parquet/part-r-00014-0f4998c0-b27b-4f60-ad45-ed3212ddb46f.gz.parquet\n",
      "-rw-r--r--   3 ec2-user supergroup    6233965 2017-03-14 00:40 /US_Weather.parquet/part-r-00015-0f4998c0-b27b-4f60-ad45-ed3212ddb46f.gz.parquet\n",
      "-rw-r--r--   3 ec2-user supergroup   29695305 2017-03-14 00:40 /US_Weather.parquet/part-r-00016-0f4998c0-b27b-4f60-ad45-ed3212ddb46f.gz.parquet\n",
      "-rw-r--r--   3 ec2-user supergroup    6638924 2017-03-14 00:40 /US_Weather.parquet/part-r-00017-0f4998c0-b27b-4f60-ad45-ed3212ddb46f.gz.parquet\n",
      "-rw-r--r--   3 ec2-user supergroup   28907978 2017-03-14 00:40 /US_Weather.parquet/part-r-00018-0f4998c0-b27b-4f60-ad45-ed3212ddb46f.gz.parquet\n",
      "-rw-r--r--   3 ec2-user supergroup    6050201 2017-03-14 00:40 /US_Weather.parquet/part-r-00019-0f4998c0-b27b-4f60-ad45-ed3212ddb46f.gz.parquet\n",
      "-rw-r--r--   3 ec2-user supergroup   25758121 2017-03-14 00:40 /US_Weather.parquet/part-r-00020-0f4998c0-b27b-4f60-ad45-ed3212ddb46f.gz.parquet\n",
      "-rw-r--r--   3 ec2-user supergroup    6166352 2017-03-14 00:40 /US_Weather.parquet/part-r-00021-0f4998c0-b27b-4f60-ad45-ed3212ddb46f.gz.parquet\n",
      "-rw-r--r--   3 ec2-user supergroup   29006012 2017-03-14 00:40 /US_Weather.parquet/part-r-00022-0f4998c0-b27b-4f60-ad45-ed3212ddb46f.gz.parquet\n",
      "-rw-r--r--   3 ec2-user supergroup    6527599 2017-03-14 00:40 /US_Weather.parquet/part-r-00023-0f4998c0-b27b-4f60-ad45-ed3212ddb46f.gz.parquet\n",
      "-rw-r--r--   3 ec2-user supergroup   26564546 2017-03-14 00:40 /US_Weather.parquet/part-r-00024-0f4998c0-b27b-4f60-ad45-ed3212ddb46f.gz.parquet\n",
      "-rw-r--r--   3 ec2-user supergroup    6073394 2017-03-14 00:40 /US_Weather.parquet/part-r-00025-0f4998c0-b27b-4f60-ad45-ed3212ddb46f.gz.parquet\n",
      "-rw-r--r--   3 ec2-user supergroup   28873920 2017-03-14 00:40 /US_Weather.parquet/part-r-00026-0f4998c0-b27b-4f60-ad45-ed3212ddb46f.gz.parquet\n",
      "-rw-r--r--   3 ec2-user supergroup    6737177 2017-03-14 00:40 /US_Weather.parquet/part-r-00027-0f4998c0-b27b-4f60-ad45-ed3212ddb46f.gz.parquet\n",
      "-rw-r--r--   3 ec2-user supergroup   30092427 2017-03-14 00:40 /US_Weather.parquet/part-r-00028-0f4998c0-b27b-4f60-ad45-ed3212ddb46f.gz.parquet\n",
      "-rw-r--r--   3 ec2-user supergroup    7139513 2017-03-14 00:40 /US_Weather.parquet/part-r-00029-0f4998c0-b27b-4f60-ad45-ed3212ddb46f.gz.parquet\n",
      "-rw-r--r--   3 ec2-user supergroup   28231646 2017-03-14 00:40 /US_Weather.parquet/part-r-00030-0f4998c0-b27b-4f60-ad45-ed3212ddb46f.gz.parquet\n",
      "-rw-r--r--   3 ec2-user supergroup    6867235 2017-03-14 00:40 /US_Weather.parquet/part-r-00031-0f4998c0-b27b-4f60-ad45-ed3212ddb46f.gz.parquet\n",
      "-rw-r--r--   3 ec2-user supergroup   27417803 2017-03-14 00:40 /US_Weather.parquet/part-r-00032-0f4998c0-b27b-4f60-ad45-ed3212ddb46f.gz.parquet\n",
      "-rw-r--r--   3 ec2-user supergroup    6657767 2017-03-14 00:40 /US_Weather.parquet/part-r-00033-0f4998c0-b27b-4f60-ad45-ed3212ddb46f.gz.parquet\n",
      "-rw-r--r--   3 ec2-user supergroup   28400294 2017-03-14 00:40 /US_Weather.parquet/part-r-00034-0f4998c0-b27b-4f60-ad45-ed3212ddb46f.gz.parquet\n",
      "-rw-r--r--   3 ec2-user supergroup    5420961 2017-03-14 00:40 /US_Weather.parquet/part-r-00035-0f4998c0-b27b-4f60-ad45-ed3212ddb46f.gz.parquet\n",
      "-rw-r--r--   3 ec2-user supergroup   26734851 2017-03-14 00:40 /US_Weather.parquet/part-r-00036-0f4998c0-b27b-4f60-ad45-ed3212ddb46f.gz.parquet\n",
      "-rw-r--r--   3 ec2-user supergroup    6910845 2017-03-14 00:40 /US_Weather.parquet/part-r-00037-0f4998c0-b27b-4f60-ad45-ed3212ddb46f.gz.parquet\n",
      "-rw-r--r--   3 ec2-user supergroup   28204501 2017-03-14 00:40 /US_Weather.parquet/part-r-00038-0f4998c0-b27b-4f60-ad45-ed3212ddb46f.gz.parquet\n",
      "-rw-r--r--   3 ec2-user supergroup    5633829 2017-03-14 00:40 /US_Weather.parquet/part-r-00039-0f4998c0-b27b-4f60-ad45-ed3212ddb46f.gz.parquet\n",
      "-rw-r--r--   3 ec2-user supergroup   28628202 2017-03-14 00:40 /US_Weather.parquet/part-r-00040-0f4998c0-b27b-4f60-ad45-ed3212ddb46f.gz.parquet\n",
      "-rw-r--r--   3 ec2-user supergroup    6342496 2017-03-14 00:40 /US_Weather.parquet/part-r-00041-0f4998c0-b27b-4f60-ad45-ed3212ddb46f.gz.parquet\n",
      "-rw-r--r--   3 ec2-user supergroup   31706902 2017-03-14 00:40 /US_Weather.parquet/part-r-00042-0f4998c0-b27b-4f60-ad45-ed3212ddb46f.gz.parquet\n",
      "-rw-r--r--   3 ec2-user supergroup    6247843 2017-03-14 00:40 /US_Weather.parquet/part-r-00043-0f4998c0-b27b-4f60-ad45-ed3212ddb46f.gz.parquet\n",
      "-rw-r--r--   3 ec2-user supergroup   27869581 2017-03-14 00:40 /US_Weather.parquet/part-r-00044-0f4998c0-b27b-4f60-ad45-ed3212ddb46f.gz.parquet\n",
      "-rw-r--r--   3 ec2-user supergroup    6478526 2017-03-14 00:40 /US_Weather.parquet/part-r-00045-0f4998c0-b27b-4f60-ad45-ed3212ddb46f.gz.parquet\n",
      "-rw-r--r--   3 ec2-user supergroup   30004016 2017-03-14 00:40 /US_Weather.parquet/part-r-00046-0f4998c0-b27b-4f60-ad45-ed3212ddb46f.gz.parquet\n",
      "-rw-r--r--   3 ec2-user supergroup    6015083 2017-03-14 00:40 /US_Weather.parquet/part-r-00047-0f4998c0-b27b-4f60-ad45-ed3212ddb46f.gz.parquet\n",
      "-rw-r--r--   3 ec2-user supergroup   25259234 2017-03-14 00:40 /US_Weather.parquet/part-r-00048-0f4998c0-b27b-4f60-ad45-ed3212ddb46f.gz.parquet\n",
      "-rw-r--r--   3 ec2-user supergroup    6605439 2017-03-14 00:40 /US_Weather.parquet/part-r-00049-0f4998c0-b27b-4f60-ad45-ed3212ddb46f.gz.parquet\n",
      "-rw-r--r--   3 ec2-user supergroup   25349259 2017-03-14 00:40 /US_Weather.parquet/part-r-00050-0f4998c0-b27b-4f60-ad45-ed3212ddb46f.gz.parquet\n",
      "-rw-r--r--   3 ec2-user supergroup    7121325 2017-03-14 00:40 /US_Weather.parquet/part-r-00051-0f4998c0-b27b-4f60-ad45-ed3212ddb46f.gz.parquet\n",
      "-rw-r--r--   3 ec2-user supergroup   27288585 2017-03-14 00:40 /US_Weather.parquet/part-r-00052-0f4998c0-b27b-4f60-ad45-ed3212ddb46f.gz.parquet\n",
      "-rw-r--r--   3 ec2-user supergroup    6431292 2017-03-14 00:40 /US_Weather.parquet/part-r-00053-0f4998c0-b27b-4f60-ad45-ed3212ddb46f.gz.parquet\n",
      "-rw-r--r--   3 ec2-user supergroup   29029479 2017-03-14 00:40 /US_Weather.parquet/part-r-00054-0f4998c0-b27b-4f60-ad45-ed3212ddb46f.gz.parquet\n",
      "-rw-r--r--   3 ec2-user supergroup    5707605 2017-03-14 00:40 /US_Weather.parquet/part-r-00055-0f4998c0-b27b-4f60-ad45-ed3212ddb46f.gz.parquet\n",
      "-rw-r--r--   3 ec2-user supergroup   27779602 2017-03-14 00:40 /US_Weather.parquet/part-r-00056-0f4998c0-b27b-4f60-ad45-ed3212ddb46f.gz.parquet\n",
      "-rw-r--r--   3 ec2-user supergroup    6453232 2017-03-14 00:40 /US_Weather.parquet/part-r-00057-0f4998c0-b27b-4f60-ad45-ed3212ddb46f.gz.parquet\n",
      "-rw-r--r--   3 ec2-user supergroup   28277637 2017-03-14 00:40 /US_Weather.parquet/part-r-00058-0f4998c0-b27b-4f60-ad45-ed3212ddb46f.gz.parquet\n",
      "-rw-r--r--   3 ec2-user supergroup    6116180 2017-03-14 00:40 /US_Weather.parquet/part-r-00059-0f4998c0-b27b-4f60-ad45-ed3212ddb46f.gz.parquet\n",
      "-rw-r--r--   3 ec2-user supergroup   27954487 2017-03-14 00:40 /US_Weather.parquet/part-r-00060-0f4998c0-b27b-4f60-ad45-ed3212ddb46f.gz.parquet\n",
      "-rw-r--r--   3 ec2-user supergroup    5725843 2017-03-14 00:40 /US_Weather.parquet/part-r-00061-0f4998c0-b27b-4f60-ad45-ed3212ddb46f.gz.parquet\n",
      "-rw-r--r--   3 ec2-user supergroup   29838667 2017-03-14 00:40 /US_Weather.parquet/part-r-00062-0f4998c0-b27b-4f60-ad45-ed3212ddb46f.gz.parquet\n",
      "-rw-r--r--   3 ec2-user supergroup    5490908 2017-03-14 00:40 /US_Weather.parquet/part-r-00063-0f4998c0-b27b-4f60-ad45-ed3212ddb46f.gz.parquet\n",
      "-rw-r--r--   3 ec2-user supergroup   30370056 2017-03-14 00:40 /US_Weather.parquet/part-r-00064-0f4998c0-b27b-4f60-ad45-ed3212ddb46f.gz.parquet\n",
      "-rw-r--r--   3 ec2-user supergroup    5878922 2017-03-14 00:40 /US_Weather.parquet/part-r-00065-0f4998c0-b27b-4f60-ad45-ed3212ddb46f.gz.parquet\n",
      "-rw-r--r--   3 ec2-user supergroup   26332371 2017-03-14 00:40 /US_Weather.parquet/part-r-00066-0f4998c0-b27b-4f60-ad45-ed3212ddb46f.gz.parquet\n",
      "-rw-r--r--   3 ec2-user supergroup    6849517 2017-03-14 00:40 /US_Weather.parquet/part-r-00067-0f4998c0-b27b-4f60-ad45-ed3212ddb46f.gz.parquet\n",
      "-rw-r--r--   3 ec2-user supergroup   27475845 2017-03-14 00:40 /US_Weather.parquet/part-r-00068-0f4998c0-b27b-4f60-ad45-ed3212ddb46f.gz.parquet\n",
      "-rw-r--r--   3 ec2-user supergroup    6624071 2017-03-14 00:40 /US_Weather.parquet/part-r-00069-0f4998c0-b27b-4f60-ad45-ed3212ddb46f.gz.parquet\n",
      "-rw-r--r--   3 ec2-user supergroup   28675080 2017-03-14 00:40 /US_Weather.parquet/part-r-00070-0f4998c0-b27b-4f60-ad45-ed3212ddb46f.gz.parquet\n",
      "-rw-r--r--   3 ec2-user supergroup    5419143 2017-03-14 00:40 /US_Weather.parquet/part-r-00071-0f4998c0-b27b-4f60-ad45-ed3212ddb46f.gz.parquet\n",
      "-rw-r--r--   3 ec2-user supergroup   27761645 2017-03-14 00:40 /US_Weather.parquet/part-r-00072-0f4998c0-b27b-4f60-ad45-ed3212ddb46f.gz.parquet\n",
      "-rw-r--r--   3 ec2-user supergroup    7584746 2017-03-14 00:40 /US_Weather.parquet/part-r-00073-0f4998c0-b27b-4f60-ad45-ed3212ddb46f.gz.parquet\n",
      "-rw-r--r--   3 ec2-user supergroup   30292387 2017-03-14 00:40 /US_Weather.parquet/part-r-00074-0f4998c0-b27b-4f60-ad45-ed3212ddb46f.gz.parquet\n",
      "-rw-r--r--   3 ec2-user supergroup    6628075 2017-03-14 00:40 /US_Weather.parquet/part-r-00075-0f4998c0-b27b-4f60-ad45-ed3212ddb46f.gz.parquet\n",
      "-rw-r--r--   3 ec2-user supergroup   31256444 2017-03-14 00:40 /US_Weather.parquet/part-r-00076-0f4998c0-b27b-4f60-ad45-ed3212ddb46f.gz.parquet\n",
      "-rw-r--r--   3 ec2-user supergroup    5911426 2017-03-14 00:40 /US_Weather.parquet/part-r-00077-0f4998c0-b27b-4f60-ad45-ed3212ddb46f.gz.parquet\n",
      "-rw-r--r--   3 ec2-user supergroup   30770636 2017-03-14 00:40 /US_Weather.parquet/part-r-00078-0f4998c0-b27b-4f60-ad45-ed3212ddb46f.gz.parquet\n",
      "-rw-r--r--   3 ec2-user supergroup    7067052 2017-03-14 00:40 /US_Weather.parquet/part-r-00079-0f4998c0-b27b-4f60-ad45-ed3212ddb46f.gz.parquet\n",
      "-rw-r--r--   3 ec2-user supergroup   28290515 2017-03-14 00:40 /US_Weather.parquet/part-r-00080-0f4998c0-b27b-4f60-ad45-ed3212ddb46f.gz.parquet\n",
      "-rw-r--r--   3 ec2-user supergroup    6598598 2017-03-14 00:40 /US_Weather.parquet/part-r-00081-0f4998c0-b27b-4f60-ad45-ed3212ddb46f.gz.parquet\n",
      "-rw-r--r--   3 ec2-user supergroup   28975730 2017-03-14 00:40 /US_Weather.parquet/part-r-00082-0f4998c0-b27b-4f60-ad45-ed3212ddb46f.gz.parquet\n",
      "-rw-r--r--   3 ec2-user supergroup    5970405 2017-03-14 00:40 /US_Weather.parquet/part-r-00083-0f4998c0-b27b-4f60-ad45-ed3212ddb46f.gz.parquet\n",
      "-rw-r--r--   3 ec2-user supergroup   29481267 2017-03-14 00:40 /US_Weather.parquet/part-r-00084-0f4998c0-b27b-4f60-ad45-ed3212ddb46f.gz.parquet\n",
      "-rw-r--r--   3 ec2-user supergroup    4300382 2017-03-14 00:40 /US_Weather.parquet/part-r-00085-0f4998c0-b27b-4f60-ad45-ed3212ddb46f.gz.parquet\n",
      "-rw-r--r--   3 ec2-user supergroup   28510895 2017-03-14 00:40 /US_Weather.parquet/part-r-00086-0f4998c0-b27b-4f60-ad45-ed3212ddb46f.gz.parquet\n",
      "-rw-r--r--   3 ec2-user supergroup    6583479 2017-03-14 00:40 /US_Weather.parquet/part-r-00087-0f4998c0-b27b-4f60-ad45-ed3212ddb46f.gz.parquet\n",
      "-rw-r--r--   3 ec2-user supergroup   28579169 2017-03-14 00:40 /US_Weather.parquet/part-r-00088-0f4998c0-b27b-4f60-ad45-ed3212ddb46f.gz.parquet\n",
      "-rw-r--r--   3 ec2-user supergroup    6174300 2017-03-14 00:40 /US_Weather.parquet/part-r-00089-0f4998c0-b27b-4f60-ad45-ed3212ddb46f.gz.parquet\n",
      "-rw-r--r--   3 ec2-user supergroup   26913994 2017-03-14 00:40 /US_Weather.parquet/part-r-00090-0f4998c0-b27b-4f60-ad45-ed3212ddb46f.gz.parquet\n",
      "-rw-r--r--   3 ec2-user supergroup    5093728 2017-03-14 00:40 /US_Weather.parquet/part-r-00091-0f4998c0-b27b-4f60-ad45-ed3212ddb46f.gz.parquet\n",
      "-rw-r--r--   3 ec2-user supergroup   27239271 2017-03-14 00:40 /US_Weather.parquet/part-r-00092-0f4998c0-b27b-4f60-ad45-ed3212ddb46f.gz.parquet\n",
      "-rw-r--r--   3 ec2-user supergroup    5559352 2017-03-14 00:40 /US_Weather.parquet/part-r-00093-0f4998c0-b27b-4f60-ad45-ed3212ddb46f.gz.parquet\n",
      "-rw-r--r--   3 ec2-user supergroup   27463122 2017-03-14 00:40 /US_Weather.parquet/part-r-00094-0f4998c0-b27b-4f60-ad45-ed3212ddb46f.gz.parquet\n",
      "-rw-r--r--   3 ec2-user supergroup    6558831 2017-03-14 00:40 /US_Weather.parquet/part-r-00095-0f4998c0-b27b-4f60-ad45-ed3212ddb46f.gz.parquet\n",
      "-rw-r--r--   3 ec2-user supergroup   29037851 2017-03-14 00:40 /US_Weather.parquet/part-r-00096-0f4998c0-b27b-4f60-ad45-ed3212ddb46f.gz.parquet\n",
      "-rw-r--r--   3 ec2-user supergroup    6646690 2017-03-14 00:40 /US_Weather.parquet/part-r-00097-0f4998c0-b27b-4f60-ad45-ed3212ddb46f.gz.parquet\n",
      "-rw-r--r--   3 ec2-user supergroup   29956718 2017-03-14 00:41 /US_Weather.parquet/part-r-00098-0f4998c0-b27b-4f60-ad45-ed3212ddb46f.gz.parquet\n",
      "-rw-r--r--   3 ec2-user supergroup    5769498 2017-03-14 00:41 /US_Weather.parquet/part-r-00099-0f4998c0-b27b-4f60-ad45-ed3212ddb46f.gz.parquet\n",
      "-rw-r--r--   3 ec2-user supergroup   29211967 2017-03-14 00:41 /US_Weather.parquet/part-r-00100-0f4998c0-b27b-4f60-ad45-ed3212ddb46f.gz.parquet\n",
      "-rw-r--r--   3 ec2-user supergroup    5457515 2017-03-14 00:41 /US_Weather.parquet/part-r-00101-0f4998c0-b27b-4f60-ad45-ed3212ddb46f.gz.parquet\n",
      "-rw-r--r--   3 ec2-user supergroup   26385657 2017-03-14 00:41 /US_Weather.parquet/part-r-00102-0f4998c0-b27b-4f60-ad45-ed3212ddb46f.gz.parquet\n",
      "-rw-r--r--   3 ec2-user supergroup    6497713 2017-03-14 00:41 /US_Weather.parquet/part-r-00103-0f4998c0-b27b-4f60-ad45-ed3212ddb46f.gz.parquet\n",
      "-rw-r--r--   3 ec2-user supergroup   28478040 2017-03-14 00:41 /US_Weather.parquet/part-r-00104-0f4998c0-b27b-4f60-ad45-ed3212ddb46f.gz.parquet\n",
      "-rw-r--r--   3 ec2-user supergroup    5475293 2017-03-14 00:41 /US_Weather.parquet/part-r-00105-0f4998c0-b27b-4f60-ad45-ed3212ddb46f.gz.parquet\n",
      "-rw-r--r--   3 ec2-user supergroup   27970234 2017-03-14 00:41 /US_Weather.parquet/part-r-00106-0f4998c0-b27b-4f60-ad45-ed3212ddb46f.gz.parquet\n",
      "-rw-r--r--   3 ec2-user supergroup    6860316 2017-03-14 00:41 /US_Weather.parquet/part-r-00107-0f4998c0-b27b-4f60-ad45-ed3212ddb46f.gz.parquet\n",
      "-rw-r--r--   3 ec2-user supergroup   30198141 2017-03-14 00:41 /US_Weather.parquet/part-r-00108-0f4998c0-b27b-4f60-ad45-ed3212ddb46f.gz.parquet\n",
      "-rw-r--r--   3 ec2-user supergroup    5496903 2017-03-14 00:41 /US_Weather.parquet/part-r-00109-0f4998c0-b27b-4f60-ad45-ed3212ddb46f.gz.parquet\n",
      "-rw-r--r--   3 ec2-user supergroup   25762885 2017-03-14 00:41 /US_Weather.parquet/part-r-00110-0f4998c0-b27b-4f60-ad45-ed3212ddb46f.gz.parquet\n",
      "-rw-r--r--   3 ec2-user supergroup    6481945 2017-03-14 00:41 /US_Weather.parquet/part-r-00111-0f4998c0-b27b-4f60-ad45-ed3212ddb46f.gz.parquet\n",
      "-rw-r--r--   3 ec2-user supergroup   28989005 2017-03-14 00:41 /US_Weather.parquet/part-r-00112-0f4998c0-b27b-4f60-ad45-ed3212ddb46f.gz.parquet\n",
      "-rw-r--r--   3 ec2-user supergroup    5890133 2017-03-14 00:41 /US_Weather.parquet/part-r-00113-0f4998c0-b27b-4f60-ad45-ed3212ddb46f.gz.parquet\n",
      "-rw-r--r--   3 ec2-user supergroup   27949961 2017-03-14 00:41 /US_Weather.parquet/part-r-00114-0f4998c0-b27b-4f60-ad45-ed3212ddb46f.gz.parquet\n",
      "-rw-r--r--   3 ec2-user supergroup    5619862 2017-03-14 00:41 /US_Weather.parquet/part-r-00115-0f4998c0-b27b-4f60-ad45-ed3212ddb46f.gz.parquet\n",
      "-rw-r--r--   3 ec2-user supergroup   29138721 2017-03-14 00:41 /US_Weather.parquet/part-r-00116-0f4998c0-b27b-4f60-ad45-ed3212ddb46f.gz.parquet\n",
      "-rw-r--r--   3 ec2-user supergroup    6278509 2017-03-14 00:41 /US_Weather.parquet/part-r-00117-0f4998c0-b27b-4f60-ad45-ed3212ddb46f.gz.parquet\n",
      "-rw-r--r--   3 ec2-user supergroup   27646107 2017-03-14 00:41 /US_Weather.parquet/part-r-00118-0f4998c0-b27b-4f60-ad45-ed3212ddb46f.gz.parquet\n",
      "-rw-r--r--   3 ec2-user supergroup    5982059 2017-03-14 00:41 /US_Weather.parquet/part-r-00119-0f4998c0-b27b-4f60-ad45-ed3212ddb46f.gz.parquet\n",
      "-rw-r--r--   3 ec2-user supergroup   26202271 2017-03-14 00:41 /US_Weather.parquet/part-r-00120-0f4998c0-b27b-4f60-ad45-ed3212ddb46f.gz.parquet\n",
      "-rw-r--r--   3 ec2-user supergroup    6335418 2017-03-14 00:41 /US_Weather.parquet/part-r-00121-0f4998c0-b27b-4f60-ad45-ed3212ddb46f.gz.parquet\n",
      "-rw-r--r--   3 ec2-user supergroup   27937708 2017-03-14 00:41 /US_Weather.parquet/part-r-00122-0f4998c0-b27b-4f60-ad45-ed3212ddb46f.gz.parquet\n",
      "-rw-r--r--   3 ec2-user supergroup    5791091 2017-03-14 00:41 /US_Weather.parquet/part-r-00123-0f4998c0-b27b-4f60-ad45-ed3212ddb46f.gz.parquet\n",
      "-rw-r--r--   3 ec2-user supergroup   28894995 2017-03-14 00:41 /US_Weather.parquet/part-r-00124-0f4998c0-b27b-4f60-ad45-ed3212ddb46f.gz.parquet\n",
      "-rw-r--r--   3 ec2-user supergroup    5384330 2017-03-14 00:41 /US_Weather.parquet/part-r-00125-0f4998c0-b27b-4f60-ad45-ed3212ddb46f.gz.parquet\n",
      "-rw-r--r--   3 ec2-user supergroup   27712611 2017-03-14 00:41 /US_Weather.parquet/part-r-00126-0f4998c0-b27b-4f60-ad45-ed3212ddb46f.gz.parquet\n",
      "-rw-r--r--   3 ec2-user supergroup    6118714 2017-03-14 00:41 /US_Weather.parquet/part-r-00127-0f4998c0-b27b-4f60-ad45-ed3212ddb46f.gz.parquet\n",
      "-rw-r--r--   3 ec2-user supergroup   29562219 2017-03-14 00:41 /US_Weather.parquet/part-r-00128-0f4998c0-b27b-4f60-ad45-ed3212ddb46f.gz.parquet\n",
      "-rw-r--r--   3 ec2-user supergroup    5366232 2017-03-14 00:41 /US_Weather.parquet/part-r-00129-0f4998c0-b27b-4f60-ad45-ed3212ddb46f.gz.parquet\n",
      "-rw-r--r--   3 ec2-user supergroup   30267870 2017-03-14 00:41 /US_Weather.parquet/part-r-00130-0f4998c0-b27b-4f60-ad45-ed3212ddb46f.gz.parquet\n",
      "-rw-r--r--   3 ec2-user supergroup    5501254 2017-03-14 00:41 /US_Weather.parquet/part-r-00131-0f4998c0-b27b-4f60-ad45-ed3212ddb46f.gz.parquet\n",
      "-rw-r--r--   3 ec2-user supergroup   30459376 2017-03-14 00:41 /US_Weather.parquet/part-r-00132-0f4998c0-b27b-4f60-ad45-ed3212ddb46f.gz.parquet\n",
      "-rw-r--r--   3 ec2-user supergroup    5871726 2017-03-14 00:41 /US_Weather.parquet/part-r-00133-0f4998c0-b27b-4f60-ad45-ed3212ddb46f.gz.parquet\n",
      "-rw-r--r--   3 ec2-user supergroup   27546802 2017-03-14 00:41 /US_Weather.parquet/part-r-00134-0f4998c0-b27b-4f60-ad45-ed3212ddb46f.gz.parquet\n",
      "-rw-r--r--   3 ec2-user supergroup    5025044 2017-03-14 00:41 /US_Weather.parquet/part-r-00135-0f4998c0-b27b-4f60-ad45-ed3212ddb46f.gz.parquet\n",
      "-rw-r--r--   3 ec2-user supergroup   31023551 2017-03-14 00:41 /US_Weather.parquet/part-r-00136-0f4998c0-b27b-4f60-ad45-ed3212ddb46f.gz.parquet\n",
      "-rw-r--r--   3 ec2-user supergroup    5048574 2017-03-14 00:41 /US_Weather.parquet/part-r-00137-0f4998c0-b27b-4f60-ad45-ed3212ddb46f.gz.parquet\n",
      "-rw-r--r--   3 ec2-user supergroup   29681379 2017-03-14 00:41 /US_Weather.parquet/part-r-00138-0f4998c0-b27b-4f60-ad45-ed3212ddb46f.gz.parquet\n",
      "-rw-r--r--   3 ec2-user supergroup    5707976 2017-03-14 00:41 /US_Weather.parquet/part-r-00139-0f4998c0-b27b-4f60-ad45-ed3212ddb46f.gz.parquet\n",
      "-rw-r--r--   3 ec2-user supergroup   27115120 2017-03-14 00:41 /US_Weather.parquet/part-r-00140-0f4998c0-b27b-4f60-ad45-ed3212ddb46f.gz.parquet\n",
      "-rw-r--r--   3 ec2-user supergroup    5330681 2017-03-14 00:41 /US_Weather.parquet/part-r-00141-0f4998c0-b27b-4f60-ad45-ed3212ddb46f.gz.parquet\n",
      "-rw-r--r--   3 ec2-user supergroup   28184089 2017-03-14 00:41 /US_Weather.parquet/part-r-00142-0f4998c0-b27b-4f60-ad45-ed3212ddb46f.gz.parquet\n",
      "-rw-r--r--   3 ec2-user supergroup    7327664 2017-03-14 00:41 /US_Weather.parquet/part-r-00143-0f4998c0-b27b-4f60-ad45-ed3212ddb46f.gz.parquet\n",
      "-rw-r--r--   3 ec2-user supergroup   26313102 2017-03-14 00:41 /US_Weather.parquet/part-r-00144-0f4998c0-b27b-4f60-ad45-ed3212ddb46f.gz.parquet\n",
      "-rw-r--r--   3 ec2-user supergroup    5740088 2017-03-14 00:41 /US_Weather.parquet/part-r-00145-0f4998c0-b27b-4f60-ad45-ed3212ddb46f.gz.parquet\n",
      "-rw-r--r--   3 ec2-user supergroup   28002070 2017-03-14 00:41 /US_Weather.parquet/part-r-00146-0f4998c0-b27b-4f60-ad45-ed3212ddb46f.gz.parquet\n",
      "-rw-r--r--   3 ec2-user supergroup    5891410 2017-03-14 00:41 /US_Weather.parquet/part-r-00147-0f4998c0-b27b-4f60-ad45-ed3212ddb46f.gz.parquet\n",
      "-rw-r--r--   3 ec2-user supergroup   31155703 2017-03-14 00:41 /US_Weather.parquet/part-r-00148-0f4998c0-b27b-4f60-ad45-ed3212ddb46f.gz.parquet\n",
      "-rw-r--r--   3 ec2-user supergroup    6029422 2017-03-14 00:41 /US_Weather.parquet/part-r-00149-0f4998c0-b27b-4f60-ad45-ed3212ddb46f.gz.parquet\n",
      "-rw-r--r--   3 ec2-user supergroup   29509185 2017-03-14 00:41 /US_Weather.parquet/part-r-00150-0f4998c0-b27b-4f60-ad45-ed3212ddb46f.gz.parquet\n",
      "-rw-r--r--   3 ec2-user supergroup    5705825 2017-03-14 00:41 /US_Weather.parquet/part-r-00151-0f4998c0-b27b-4f60-ad45-ed3212ddb46f.gz.parquet\n",
      "-rw-r--r--   3 ec2-user supergroup   28032604 2017-03-14 00:41 /US_Weather.parquet/part-r-00152-0f4998c0-b27b-4f60-ad45-ed3212ddb46f.gz.parquet\n",
      "-rw-r--r--   3 ec2-user supergroup    5102291 2017-03-14 00:41 /US_Weather.parquet/part-r-00153-0f4998c0-b27b-4f60-ad45-ed3212ddb46f.gz.parquet\n",
      "-rw-r--r--   3 ec2-user supergroup   30724841 2017-03-14 00:41 /US_Weather.parquet/part-r-00154-0f4998c0-b27b-4f60-ad45-ed3212ddb46f.gz.parquet\n",
      "-rw-r--r--   3 ec2-user supergroup    5845389 2017-03-14 00:41 /US_Weather.parquet/part-r-00155-0f4998c0-b27b-4f60-ad45-ed3212ddb46f.gz.parquet\n",
      "-rw-r--r--   3 ec2-user supergroup   28194613 2017-03-14 00:41 /US_Weather.parquet/part-r-00156-0f4998c0-b27b-4f60-ad45-ed3212ddb46f.gz.parquet\n",
      "-rw-r--r--   3 ec2-user supergroup    5803730 2017-03-14 00:41 /US_Weather.parquet/part-r-00157-0f4998c0-b27b-4f60-ad45-ed3212ddb46f.gz.parquet\n",
      "-rw-r--r--   3 ec2-user supergroup   25662591 2017-03-14 00:41 /US_Weather.parquet/part-r-00158-0f4998c0-b27b-4f60-ad45-ed3212ddb46f.gz.parquet\n",
      "-rw-r--r--   3 ec2-user supergroup    6028331 2017-03-14 00:41 /US_Weather.parquet/part-r-00159-0f4998c0-b27b-4f60-ad45-ed3212ddb46f.gz.parquet\n",
      "-rw-r--r--   3 ec2-user supergroup   29730484 2017-03-14 00:41 /US_Weather.parquet/part-r-00160-0f4998c0-b27b-4f60-ad45-ed3212ddb46f.gz.parquet\n",
      "-rw-r--r--   3 ec2-user supergroup    6415497 2017-03-14 00:41 /US_Weather.parquet/part-r-00161-0f4998c0-b27b-4f60-ad45-ed3212ddb46f.gz.parquet\n",
      "-rw-r--r--   3 ec2-user supergroup   29209402 2017-03-14 00:41 /US_Weather.parquet/part-r-00162-0f4998c0-b27b-4f60-ad45-ed3212ddb46f.gz.parquet\n",
      "-rw-r--r--   3 ec2-user supergroup    4960152 2017-03-14 00:41 /US_Weather.parquet/part-r-00163-0f4998c0-b27b-4f60-ad45-ed3212ddb46f.gz.parquet\n",
      "-rw-r--r--   3 ec2-user supergroup   29587562 2017-03-14 00:41 /US_Weather.parquet/part-r-00164-0f4998c0-b27b-4f60-ad45-ed3212ddb46f.gz.parquet\n",
      "-rw-r--r--   3 ec2-user supergroup    5397798 2017-03-14 00:41 /US_Weather.parquet/part-r-00165-0f4998c0-b27b-4f60-ad45-ed3212ddb46f.gz.parquet\n",
      "-rw-r--r--   3 ec2-user supergroup   30020935 2017-03-14 00:41 /US_Weather.parquet/part-r-00166-0f4998c0-b27b-4f60-ad45-ed3212ddb46f.gz.parquet\n",
      "-rw-r--r--   3 ec2-user supergroup    6149684 2017-03-14 00:41 /US_Weather.parquet/part-r-00167-0f4998c0-b27b-4f60-ad45-ed3212ddb46f.gz.parquet\n",
      "-rw-r--r--   3 ec2-user supergroup   27655617 2017-03-14 00:41 /US_Weather.parquet/part-r-00168-0f4998c0-b27b-4f60-ad45-ed3212ddb46f.gz.parquet\n",
      "-rw-r--r--   3 ec2-user supergroup    6626681 2017-03-14 00:41 /US_Weather.parquet/part-r-00169-0f4998c0-b27b-4f60-ad45-ed3212ddb46f.gz.parquet\n",
      "-rw-r--r--   3 ec2-user supergroup   26889352 2017-03-14 00:41 /US_Weather.parquet/part-r-00170-0f4998c0-b27b-4f60-ad45-ed3212ddb46f.gz.parquet\n",
      "-rw-r--r--   3 ec2-user supergroup    6196989 2017-03-14 00:41 /US_Weather.parquet/part-r-00171-0f4998c0-b27b-4f60-ad45-ed3212ddb46f.gz.parquet\n",
      "-rw-r--r--   3 ec2-user supergroup   26252925 2017-03-14 00:41 /US_Weather.parquet/part-r-00172-0f4998c0-b27b-4f60-ad45-ed3212ddb46f.gz.parquet\n",
      "-rw-r--r--   3 ec2-user supergroup    5066558 2017-03-14 00:41 /US_Weather.parquet/part-r-00173-0f4998c0-b27b-4f60-ad45-ed3212ddb46f.gz.parquet\n",
      "-rw-r--r--   3 ec2-user supergroup   26919503 2017-03-14 00:41 /US_Weather.parquet/part-r-00174-0f4998c0-b27b-4f60-ad45-ed3212ddb46f.gz.parquet\n",
      "-rw-r--r--   3 ec2-user supergroup    5677825 2017-03-14 00:41 /US_Weather.parquet/part-r-00175-0f4998c0-b27b-4f60-ad45-ed3212ddb46f.gz.parquet\n",
      "-rw-r--r--   3 ec2-user supergroup   30191524 2017-03-14 00:41 /US_Weather.parquet/part-r-00176-0f4998c0-b27b-4f60-ad45-ed3212ddb46f.gz.parquet\n",
      "-rw-r--r--   3 ec2-user supergroup    6690641 2017-03-14 00:41 /US_Weather.parquet/part-r-00177-0f4998c0-b27b-4f60-ad45-ed3212ddb46f.gz.parquet\n",
      "-rw-r--r--   3 ec2-user supergroup   29161592 2017-03-14 00:41 /US_Weather.parquet/part-r-00178-0f4998c0-b27b-4f60-ad45-ed3212ddb46f.gz.parquet\n",
      "-rw-r--r--   3 ec2-user supergroup    6572045 2017-03-14 00:41 /US_Weather.parquet/part-r-00179-0f4998c0-b27b-4f60-ad45-ed3212ddb46f.gz.parquet\n",
      "-rw-r--r--   3 ec2-user supergroup   26831330 2017-03-14 00:41 /US_Weather.parquet/part-r-00180-0f4998c0-b27b-4f60-ad45-ed3212ddb46f.gz.parquet\n",
      "-rw-r--r--   3 ec2-user supergroup    7641298 2017-03-14 00:41 /US_Weather.parquet/part-r-00181-0f4998c0-b27b-4f60-ad45-ed3212ddb46f.gz.parquet\n",
      "-rw-r--r--   3 ec2-user supergroup   28516524 2017-03-14 00:41 /US_Weather.parquet/part-r-00182-0f4998c0-b27b-4f60-ad45-ed3212ddb46f.gz.parquet\n",
      "-rw-r--r--   3 ec2-user supergroup    6838718 2017-03-14 00:41 /US_Weather.parquet/part-r-00183-0f4998c0-b27b-4f60-ad45-ed3212ddb46f.gz.parquet\n",
      "-rw-r--r--   3 ec2-user supergroup   28875128 2017-03-14 00:41 /US_Weather.parquet/part-r-00184-0f4998c0-b27b-4f60-ad45-ed3212ddb46f.gz.parquet\n",
      "-rw-r--r--   3 ec2-user supergroup    5889086 2017-03-14 00:41 /US_Weather.parquet/part-r-00185-0f4998c0-b27b-4f60-ad45-ed3212ddb46f.gz.parquet\n",
      "-rw-r--r--   3 ec2-user supergroup   20114121 2017-03-14 00:41 /US_Weather.parquet/part-r-00186-0f4998c0-b27b-4f60-ad45-ed3212ddb46f.gz.parquet\n",
      "\n",
      "copying took 101.677400112 seconds\n"
     ]
    }
   ],
   "source": [
    "t=time()\n",
    "files = s3helper.s3_to_hdfs('/Weather/US_Weather.parquet', '/US_Weather.parquet')\n",
    "print 'copying took',time()-t,'seconds'\n",
    "## copying took 62.695912838, 74.9509780407"
   ]
  },
  {
   "cell_type": "code",
   "execution_count": 30,
   "metadata": {},
   "outputs": [
    {
     "name": "stdout",
     "output_type": "stream",
     "text": [
      "[u'Scripts', u'Scripts_$folder$', u'Spark-Data', u'Spark-Data_$folder$', u'Weather', u'Weather_$folder$', u'moby10b.txt']\n",
      "[u'Weather/PCA_PRCP.pickle', u'Weather/PCA_SNOW.pickle', u'Weather/PCA_TMAX.pickle', u'Weather/STAT1.pickle', u'Weather/SampleStations.pickle', u'Weather/SampleStations_copy.pickle', u'Weather/US_Weather.parquet', u'Weather/US_Weather_Cleaned.parquet', u'Weather/US_Weather_Cleaned.parquet_$folder$', u'Weather/US_Weather_SSBBSBBS.csv.gz', u'Weather/US_Weather_cleaned_labeled.parquet', u'Weather/US_Weather_cleaned_labeled.parquet_$folder$', u'Weather/US_counts.pickle', u'Weather/Weather.parquet', u'Weather/Weather_Stations.parquet', u'Weather/test.json', u'Weather_$folder$']\n",
      "HDFS: Found 4 items\n",
      "drwxr-xr-x   - ec2-user supergroup          0 2017-03-14 00:41 /US_Weather.parquet\n",
      "drwxr-xr-x   - ec2-user supergroup          0 2017-03-13 22:25 /US_Weather_Cleaned.parquet\n",
      "drwxr-xr-x   - ec2-user supergroup          0 2017-03-13 22:26 /US_Weather_cleaned_labeled.parquet\n",
      "drwxr-xr-x   - ec2-user supergroup          0 2017-03-13 22:26 /Weather_Stations.parquet\n",
      "\n",
      "None\n"
     ]
    }
   ],
   "source": [
    "print s3helper.ls_s3()  # By default, list all files in the root directory of the bucket\n",
    "print s3helper.ls_s3('Weather')\n",
    "\n",
    "print 'HDFS:',s3helper.ls_hdfs()"
   ]
  },
  {
   "cell_type": "code",
   "execution_count": 31,
   "metadata": {
    "collapsed": true
   },
   "outputs": [],
   "source": [
    "from pyspark import SparkContext\n",
    "from pyspark.sql import SQLContext,Row\n",
    "\n",
    "\n",
    "sqlContext = SQLContext(sc)"
   ]
  },
  {
   "cell_type": "code",
   "execution_count": 32,
   "metadata": {},
   "outputs": [
    {
     "name": "stdout",
     "output_type": "stream",
     "text": [
      "SELECT * FROM parquet.`/US_Weather.parquet`\n",
      "\tWHERE measurement='TMAX'\n",
      "\tor measurement='TMIN'\n",
      "\tor measurement='TOBS'\n",
      "\tor measurement='SNOW'\n",
      "\tor measurement='SNWD'\n",
      "\tor measurement='PRCP'\n"
     ]
    }
   ],
   "source": [
    "US_Weather_parquet='/US_Weather.parquet'\n",
    "measurements=['TMAX','TMIN','TOBS','SNOW','SNWD','PRCP']\n",
    "Query=\"SELECT * FROM parquet.`%s`\\n\\tWHERE \"%US_Weather_parquet+\"\\n\\tor \".join([\"measurement='%s'\"%m for m in measurements])\n",
    "print Query"
   ]
  },
  {
   "cell_type": "code",
   "execution_count": 33,
   "metadata": {},
   "outputs": [
    {
     "name": "stdout",
     "output_type": "stream",
     "text": [
      "4351091\n",
      "took 30.3726480007 seconds\n"
     ]
    }
   ],
   "source": [
    "t=time()\n",
    "df = sqlContext.sql(Query).cache()\n",
    "print df.count()\n",
    "print 'took',time()-t,'seconds'"
   ]
  },
  {
   "cell_type": "code",
   "execution_count": 7,
   "metadata": {},
   "outputs": [
    {
     "name": "stdout",
     "output_type": "stream",
     "text": [
      "4351091\n",
      "took 0.424700975418 seconds\n"
     ]
    }
   ],
   "source": [
    "t=time()\n",
    "print df.count()\n",
    "print 'took',time()-t,'seconds'"
   ]
  },
  {
   "cell_type": "code",
   "execution_count": 8,
   "metadata": {},
   "outputs": [
    {
     "name": "stdout",
     "output_type": "stream",
     "text": [
      "Number of executors= 80\n",
      "took 0.0609848499298 seconds\n"
     ]
    }
   ],
   "source": [
    "import numpy as np\n",
    "t=time()\n",
    "\n",
    "N=sc.defaultParallelism\n",
    "print 'Number of executors=',N\n",
    "rdd0=df.rdd.map(lambda row:(str(row['station']),((str(row['measurement'])\\\n",
    "                        ,row['year']),np.array([np.float64(row[str(i)]) for i in range(1,366)])))).cache().repartition(N)\n",
    "print 'took',time()-t,'seconds'\n",
    "\n",
    "# Number of executors= 80\n",
    "# took 0.0209968090057 seconds"
   ]
  },
  {
   "cell_type": "code",
   "execution_count": 9,
   "metadata": {},
   "outputs": [
    {
     "name": "stdout",
     "output_type": "stream",
     "text": [
      "4351091\n",
      "took 304.655529022 seconds\n"
     ]
    }
   ],
   "source": [
    "t=time()\n",
    "print rdd0.count()\n",
    "print 'took',time()-t,'seconds'\n",
    "\n",
    "# 4351091\n",
    "# took 304.655529022 seconds"
   ]
  },
  {
   "cell_type": "code",
   "execution_count": 10,
   "metadata": {},
   "outputs": [
    {
     "name": "stdout",
     "output_type": "stream",
     "text": [
      "4351091\n",
      "took 2.08423686028 seconds\n"
     ]
    }
   ],
   "source": [
    "t=time()\n",
    "print rdd0.count()\n",
    "print 'took',time()-t,'seconds'\n",
    "\n",
    "# 4351091\n",
    "# took 2.08423686028 seconds"
   ]
  },
  {
   "cell_type": "code",
   "execution_count": 11,
   "metadata": {},
   "outputs": [
    {
     "name": "stdout",
     "output_type": "stream",
     "text": [
      "4351091\n",
      "took 4.99785280228 seconds\n"
     ]
    }
   ],
   "source": [
    "t=time()\n",
    "print rdd0.repartition(N).count()\n",
    "print 'took',time()-t,'seconds'\n",
    "# 4351091\n",
    "# took 5.36106610298 seconds"
   ]
  },
  {
   "cell_type": "code",
   "execution_count": 12,
   "metadata": {
    "collapsed": true,
    "slideshow": {
     "slide_type": "fragment"
    }
   },
   "outputs": [],
   "source": [
    "# Compute the overall distribution of values and the distribution of the number of nan per year\n",
    "def find_percentiles(SortedVals,percentile):\n",
    "  L=len(SortedVals)/percentile\n",
    "  return SortedVals[L],SortedVals[-L]\n",
    "  \n",
    "def computeOverAllDist(rdd0):\n",
    "  UnDef=np.array(rdd0.map(lambda row:sum(np.isnan(row))).sample(False,0.01).collect())\n",
    "  flat=rdd0.flatMap(lambda v:list(v)).filter(lambda x: not np.isnan(x)).cache()\n",
    "  count,S1,S2=flat.map(lambda x: np.float64([1,x,x**2]))\\\n",
    "                  .reduce(lambda x,y: x+y)\n",
    "  mean=S1/count\n",
    "  std=np.sqrt(S2/count-mean**2)\n",
    "  Vals=flat.sample(False,0.0001).collect()\n",
    "  SortedVals=np.array(sorted(Vals))\n",
    "  low100,high100=find_percentiles(SortedVals,100)\n",
    "  low1000,high1000=find_percentiles(SortedVals,1000)\n",
    "  return {'UnDef':UnDef,\\\n",
    "          'mean':mean,\\\n",
    "          'std':std,\\\n",
    "          'SortedVals':SortedVals,\\\n",
    "          'low100':low100,\\\n",
    "          'high100':high100,\\\n",
    "          'low1000':low100,\\\n",
    "          'high1000':high1000\n",
    "          }"
   ]
  },
  {
   "cell_type": "code",
   "execution_count": 24,
   "metadata": {},
   "outputs": [
    {
     "name": "stdout",
     "output_type": "stream",
     "text": [
      "SELECT * FROM parquet.`/US_Weather.parquet`\n",
      "\tWHERE measurement = 'TMAX'\n",
      "size of dataframe for  TMAX before filtering = 662767\n"
     ]
    },
    {
     "ename": "Py4JJavaError",
     "evalue": "An error occurred while calling z:org.apache.spark.api.python.PythonRDD.runJob.\n: org.apache.spark.SparkException: Job aborted due to stage failure: Task 0 in stage 32.0 failed 4 times, most recent failure: Lost task 0.3 in stage 32.0 (TID 1440, 172.31.29.244, executor 0): org.apache.spark.api.python.PythonException: Traceback (most recent call last):\n  File \"/home/ec2-user/spark/python/lib/pyspark.zip/pyspark/worker.py\", line 163, in main\n    func, profiler, deserializer, serializer = read_command(pickleSer, infile)\n  File \"/home/ec2-user/spark/python/lib/pyspark.zip/pyspark/worker.py\", line 54, in read_command\n    command = serializer._read_with_length(file)\n  File \"/home/ec2-user/spark/python/lib/pyspark.zip/pyspark/serializers.py\", line 169, in _read_with_length\n    return self.loads(obj)\n  File \"/home/ec2-user/spark/python/lib/pyspark.zip/pyspark/serializers.py\", line 434, in loads\n    return pickle.loads(obj)\nImportError: No module named numpy_pack\n\n\tat org.apache.spark.api.python.PythonRunner$$anon$1.read(PythonRDD.scala:193)\n\tat org.apache.spark.api.python.PythonRunner$$anon$1.<init>(PythonRDD.scala:234)\n\tat org.apache.spark.api.python.PythonRunner.compute(PythonRDD.scala:152)\n\tat org.apache.spark.api.python.PythonRDD.compute(PythonRDD.scala:63)\n\tat org.apache.spark.rdd.RDD.computeOrReadCheckpoint(RDD.scala:323)\n\tat org.apache.spark.rdd.RDD.iterator(RDD.scala:287)\n\tat org.apache.spark.scheduler.ResultTask.runTask(ResultTask.scala:87)\n\tat org.apache.spark.scheduler.Task.run(Task.scala:99)\n\tat org.apache.spark.executor.Executor$TaskRunner.run(Executor.scala:282)\n\tat java.util.concurrent.ThreadPoolExecutor.runWorker(ThreadPoolExecutor.java:1142)\n\tat java.util.concurrent.ThreadPoolExecutor$Worker.run(ThreadPoolExecutor.java:617)\n\tat java.lang.Thread.run(Thread.java:745)\n\nDriver stacktrace:\n\tat org.apache.spark.scheduler.DAGScheduler.org$apache$spark$scheduler$DAGScheduler$$failJobAndIndependentStages(DAGScheduler.scala:1435)\n\tat org.apache.spark.scheduler.DAGScheduler$$anonfun$abortStage$1.apply(DAGScheduler.scala:1423)\n\tat org.apache.spark.scheduler.DAGScheduler$$anonfun$abortStage$1.apply(DAGScheduler.scala:1422)\n\tat scala.collection.mutable.ResizableArray$class.foreach(ResizableArray.scala:59)\n\tat scala.collection.mutable.ArrayBuffer.foreach(ArrayBuffer.scala:48)\n\tat org.apache.spark.scheduler.DAGScheduler.abortStage(DAGScheduler.scala:1422)\n\tat org.apache.spark.scheduler.DAGScheduler$$anonfun$handleTaskSetFailed$1.apply(DAGScheduler.scala:802)\n\tat org.apache.spark.scheduler.DAGScheduler$$anonfun$handleTaskSetFailed$1.apply(DAGScheduler.scala:802)\n\tat scala.Option.foreach(Option.scala:257)\n\tat org.apache.spark.scheduler.DAGScheduler.handleTaskSetFailed(DAGScheduler.scala:802)\n\tat org.apache.spark.scheduler.DAGSchedulerEventProcessLoop.doOnReceive(DAGScheduler.scala:1650)\n\tat org.apache.spark.scheduler.DAGSchedulerEventProcessLoop.onReceive(DAGScheduler.scala:1605)\n\tat org.apache.spark.scheduler.DAGSchedulerEventProcessLoop.onReceive(DAGScheduler.scala:1594)\n\tat org.apache.spark.util.EventLoop$$anon$1.run(EventLoop.scala:48)\n\tat org.apache.spark.scheduler.DAGScheduler.runJob(DAGScheduler.scala:628)\n\tat org.apache.spark.SparkContext.runJob(SparkContext.scala:1918)\n\tat org.apache.spark.SparkContext.runJob(SparkContext.scala:1931)\n\tat org.apache.spark.SparkContext.runJob(SparkContext.scala:1944)\n\tat org.apache.spark.api.python.PythonRDD$.runJob(PythonRDD.scala:441)\n\tat org.apache.spark.api.python.PythonRDD.runJob(PythonRDD.scala)\n\tat sun.reflect.NativeMethodAccessorImpl.invoke0(Native Method)\n\tat sun.reflect.NativeMethodAccessorImpl.invoke(NativeMethodAccessorImpl.java:62)\n\tat sun.reflect.DelegatingMethodAccessorImpl.invoke(DelegatingMethodAccessorImpl.java:43)\n\tat java.lang.reflect.Method.invoke(Method.java:498)\n\tat py4j.reflection.MethodInvoker.invoke(MethodInvoker.java:244)\n\tat py4j.reflection.ReflectionEngine.invoke(ReflectionEngine.java:357)\n\tat py4j.Gateway.invoke(Gateway.java:280)\n\tat py4j.commands.AbstractCommand.invokeMethod(AbstractCommand.java:132)\n\tat py4j.commands.CallCommand.execute(CallCommand.java:79)\n\tat py4j.GatewayConnection.run(GatewayConnection.java:214)\n\tat java.lang.Thread.run(Thread.java:745)\nCaused by: org.apache.spark.api.python.PythonException: Traceback (most recent call last):\n  File \"/home/ec2-user/spark/python/lib/pyspark.zip/pyspark/worker.py\", line 163, in main\n    func, profiler, deserializer, serializer = read_command(pickleSer, infile)\n  File \"/home/ec2-user/spark/python/lib/pyspark.zip/pyspark/worker.py\", line 54, in read_command\n    command = serializer._read_with_length(file)\n  File \"/home/ec2-user/spark/python/lib/pyspark.zip/pyspark/serializers.py\", line 169, in _read_with_length\n    return self.loads(obj)\n  File \"/home/ec2-user/spark/python/lib/pyspark.zip/pyspark/serializers.py\", line 434, in loads\n    return pickle.loads(obj)\nImportError: No module named numpy_pack\n\n\tat org.apache.spark.api.python.PythonRunner$$anon$1.read(PythonRDD.scala:193)\n\tat org.apache.spark.api.python.PythonRunner$$anon$1.<init>(PythonRDD.scala:234)\n\tat org.apache.spark.api.python.PythonRunner.compute(PythonRDD.scala:152)\n\tat org.apache.spark.api.python.PythonRDD.compute(PythonRDD.scala:63)\n\tat org.apache.spark.rdd.RDD.computeOrReadCheckpoint(RDD.scala:323)\n\tat org.apache.spark.rdd.RDD.iterator(RDD.scala:287)\n\tat org.apache.spark.scheduler.ResultTask.runTask(ResultTask.scala:87)\n\tat org.apache.spark.scheduler.Task.run(Task.scala:99)\n\tat org.apache.spark.executor.Executor$TaskRunner.run(Executor.scala:282)\n\tat java.util.concurrent.ThreadPoolExecutor.runWorker(ThreadPoolExecutor.java:1142)\n\tat java.util.concurrent.ThreadPoolExecutor$Worker.run(ThreadPoolExecutor.java:617)\n\t... 1 more\n",
     "output_type": "error",
     "traceback": [
      "\u001b[0;31m\u001b[0m",
      "\u001b[0;31mPy4JJavaError\u001b[0mTraceback (most recent call last)",
      "\u001b[0;32m<ipython-input-24-3aa802148dd2>\u001b[0m in \u001b[0;36m<module>\u001b[0;34m()\u001b[0m\n\u001b[1;32m     21\u001b[0m     \u001b[0mRDD\u001b[0m\u001b[0;34m=\u001b[0m\u001b[0mdf\u001b[0m\u001b[0;34m[\u001b[0m\u001b[0mmeas\u001b[0m\u001b[0;34m]\u001b[0m\u001b[0;34m.\u001b[0m\u001b[0mrdd\u001b[0m\u001b[0;34m\u001b[0m\u001b[0m\n\u001b[1;32m     22\u001b[0m     \u001b[0mCleaned\u001b[0m\u001b[0;34m=\u001b[0m\u001b[0mRDD\u001b[0m\u001b[0;34m.\u001b[0m\u001b[0mmap\u001b[0m\u001b[0;34m(\u001b[0m\u001b[0;32mlambda\u001b[0m \u001b[0mrow\u001b[0m\u001b[0;34m:\u001b[0m\u001b[0mrepack_array\u001b[0m\u001b[0;34m(\u001b[0m\u001b[0mrow\u001b[0m\u001b[0;34m)\u001b[0m\u001b[0;34m)\u001b[0m\u001b[0;34m\u001b[0m\u001b[0m\n\u001b[0;32m---> 23\u001b[0;31m     \u001b[0mdf\u001b[0m\u001b[0;34m[\u001b[0m\u001b[0mmeas\u001b[0m\u001b[0;34m]\u001b[0m\u001b[0;34m=\u001b[0m\u001b[0msqlContext\u001b[0m\u001b[0;34m.\u001b[0m\u001b[0mcreateDataFrame\u001b[0m\u001b[0;34m(\u001b[0m\u001b[0mCleaned\u001b[0m\u001b[0;34m)\u001b[0m\u001b[0;34m\u001b[0m\u001b[0m\n\u001b[0m\u001b[1;32m     24\u001b[0m     \u001b[0mdf\u001b[0m\u001b[0;34m[\u001b[0m\u001b[0mmeas\u001b[0m\u001b[0;34m]\u001b[0m\u001b[0;34m=\u001b[0m\u001b[0mdf\u001b[0m\u001b[0;34m[\u001b[0m\u001b[0mmeas\u001b[0m\u001b[0;34m]\u001b[0m\u001b[0;34m.\u001b[0m\u001b[0mfilter\u001b[0m\u001b[0;34m(\u001b[0m\u001b[0;32mlambda\u001b[0m \u001b[0mrow\u001b[0m\u001b[0;34m:\u001b[0m\u001b[0mrow\u001b[0m\u001b[0;34m[\u001b[0m\u001b[0;34m'undef No'\u001b[0m\u001b[0;34m]\u001b[0m\u001b[0;34m<\u001b[0m\u001b[0;36m50\u001b[0m\u001b[0;34m)\u001b[0m\u001b[0;34m\u001b[0m\u001b[0m\n\u001b[1;32m     25\u001b[0m     \u001b[0;32mprint\u001b[0m \u001b[0;34m'size of dataframe for '\u001b[0m\u001b[0;34m,\u001b[0m\u001b[0mmeas\u001b[0m\u001b[0;34m,\u001b[0m\u001b[0;34m'after filtering ='\u001b[0m\u001b[0;34m,\u001b[0m\u001b[0mdf\u001b[0m\u001b[0;34m[\u001b[0m\u001b[0mmeas\u001b[0m\u001b[0;34m]\u001b[0m\u001b[0;34m.\u001b[0m\u001b[0mcount\u001b[0m\u001b[0;34m(\u001b[0m\u001b[0;34m)\u001b[0m\u001b[0;34m\u001b[0m\u001b[0m\n",
      "\u001b[0;32m/home/ec2-user/spark/python/pyspark/sql/context.pyc\u001b[0m in \u001b[0;36mcreateDataFrame\u001b[0;34m(self, data, schema, samplingRatio, verifySchema)\u001b[0m\n\u001b[1;32m    331\u001b[0m         \u001b[0mPy4JJavaError\u001b[0m\u001b[0;34m:\u001b[0m \u001b[0;34m.\u001b[0m\u001b[0;34m.\u001b[0m\u001b[0;34m.\u001b[0m\u001b[0;34m\u001b[0m\u001b[0m\n\u001b[1;32m    332\u001b[0m         \"\"\"\n\u001b[0;32m--> 333\u001b[0;31m         \u001b[0;32mreturn\u001b[0m \u001b[0mself\u001b[0m\u001b[0;34m.\u001b[0m\u001b[0msparkSession\u001b[0m\u001b[0;34m.\u001b[0m\u001b[0mcreateDataFrame\u001b[0m\u001b[0;34m(\u001b[0m\u001b[0mdata\u001b[0m\u001b[0;34m,\u001b[0m \u001b[0mschema\u001b[0m\u001b[0;34m,\u001b[0m \u001b[0msamplingRatio\u001b[0m\u001b[0;34m,\u001b[0m \u001b[0mverifySchema\u001b[0m\u001b[0;34m)\u001b[0m\u001b[0;34m\u001b[0m\u001b[0m\n\u001b[0m\u001b[1;32m    334\u001b[0m \u001b[0;34m\u001b[0m\u001b[0m\n\u001b[1;32m    335\u001b[0m     \u001b[0;34m@\u001b[0m\u001b[0msince\u001b[0m\u001b[0;34m(\u001b[0m\u001b[0;36m1.3\u001b[0m\u001b[0;34m)\u001b[0m\u001b[0;34m\u001b[0m\u001b[0m\n",
      "\u001b[0;32m/home/ec2-user/spark/python/pyspark/sql/session.pyc\u001b[0m in \u001b[0;36mcreateDataFrame\u001b[0;34m(self, data, schema, samplingRatio, verifySchema)\u001b[0m\n\u001b[1;32m    518\u001b[0m \u001b[0;34m\u001b[0m\u001b[0m\n\u001b[1;32m    519\u001b[0m         \u001b[0;32mif\u001b[0m \u001b[0misinstance\u001b[0m\u001b[0;34m(\u001b[0m\u001b[0mdata\u001b[0m\u001b[0;34m,\u001b[0m \u001b[0mRDD\u001b[0m\u001b[0;34m)\u001b[0m\u001b[0;34m:\u001b[0m\u001b[0;34m\u001b[0m\u001b[0m\n\u001b[0;32m--> 520\u001b[0;31m             \u001b[0mrdd\u001b[0m\u001b[0;34m,\u001b[0m \u001b[0mschema\u001b[0m \u001b[0;34m=\u001b[0m \u001b[0mself\u001b[0m\u001b[0;34m.\u001b[0m\u001b[0m_createFromRDD\u001b[0m\u001b[0;34m(\u001b[0m\u001b[0mdata\u001b[0m\u001b[0;34m.\u001b[0m\u001b[0mmap\u001b[0m\u001b[0;34m(\u001b[0m\u001b[0mprepare\u001b[0m\u001b[0;34m)\u001b[0m\u001b[0;34m,\u001b[0m \u001b[0mschema\u001b[0m\u001b[0;34m,\u001b[0m \u001b[0msamplingRatio\u001b[0m\u001b[0;34m)\u001b[0m\u001b[0;34m\u001b[0m\u001b[0m\n\u001b[0m\u001b[1;32m    521\u001b[0m         \u001b[0;32melse\u001b[0m\u001b[0;34m:\u001b[0m\u001b[0;34m\u001b[0m\u001b[0m\n\u001b[1;32m    522\u001b[0m             \u001b[0mrdd\u001b[0m\u001b[0;34m,\u001b[0m \u001b[0mschema\u001b[0m \u001b[0;34m=\u001b[0m \u001b[0mself\u001b[0m\u001b[0;34m.\u001b[0m\u001b[0m_createFromLocal\u001b[0m\u001b[0;34m(\u001b[0m\u001b[0mmap\u001b[0m\u001b[0;34m(\u001b[0m\u001b[0mprepare\u001b[0m\u001b[0;34m,\u001b[0m \u001b[0mdata\u001b[0m\u001b[0;34m)\u001b[0m\u001b[0;34m,\u001b[0m \u001b[0mschema\u001b[0m\u001b[0;34m)\u001b[0m\u001b[0;34m\u001b[0m\u001b[0m\n",
      "\u001b[0;32m/home/ec2-user/spark/python/pyspark/sql/session.pyc\u001b[0m in \u001b[0;36m_createFromRDD\u001b[0;34m(self, rdd, schema, samplingRatio)\u001b[0m\n\u001b[1;32m    358\u001b[0m         \"\"\"\n\u001b[1;32m    359\u001b[0m         \u001b[0;32mif\u001b[0m \u001b[0mschema\u001b[0m \u001b[0;32mis\u001b[0m \u001b[0mNone\u001b[0m \u001b[0;32mor\u001b[0m \u001b[0misinstance\u001b[0m\u001b[0;34m(\u001b[0m\u001b[0mschema\u001b[0m\u001b[0;34m,\u001b[0m \u001b[0;34m(\u001b[0m\u001b[0mlist\u001b[0m\u001b[0;34m,\u001b[0m \u001b[0mtuple\u001b[0m\u001b[0;34m)\u001b[0m\u001b[0;34m)\u001b[0m\u001b[0;34m:\u001b[0m\u001b[0;34m\u001b[0m\u001b[0m\n\u001b[0;32m--> 360\u001b[0;31m             \u001b[0mstruct\u001b[0m \u001b[0;34m=\u001b[0m \u001b[0mself\u001b[0m\u001b[0;34m.\u001b[0m\u001b[0m_inferSchema\u001b[0m\u001b[0;34m(\u001b[0m\u001b[0mrdd\u001b[0m\u001b[0;34m,\u001b[0m \u001b[0msamplingRatio\u001b[0m\u001b[0;34m)\u001b[0m\u001b[0;34m\u001b[0m\u001b[0m\n\u001b[0m\u001b[1;32m    361\u001b[0m             \u001b[0mconverter\u001b[0m \u001b[0;34m=\u001b[0m \u001b[0m_create_converter\u001b[0m\u001b[0;34m(\u001b[0m\u001b[0mstruct\u001b[0m\u001b[0;34m)\u001b[0m\u001b[0;34m\u001b[0m\u001b[0m\n\u001b[1;32m    362\u001b[0m             \u001b[0mrdd\u001b[0m \u001b[0;34m=\u001b[0m \u001b[0mrdd\u001b[0m\u001b[0;34m.\u001b[0m\u001b[0mmap\u001b[0m\u001b[0;34m(\u001b[0m\u001b[0mconverter\u001b[0m\u001b[0;34m)\u001b[0m\u001b[0;34m\u001b[0m\u001b[0m\n",
      "\u001b[0;32m/home/ec2-user/spark/python/pyspark/sql/session.pyc\u001b[0m in \u001b[0;36m_inferSchema\u001b[0;34m(self, rdd, samplingRatio)\u001b[0m\n\u001b[1;32m    329\u001b[0m         \u001b[0;34m:\u001b[0m\u001b[0;32mreturn\u001b[0m\u001b[0;34m:\u001b[0m \u001b[0;34m:\u001b[0m\u001b[0;32mclass\u001b[0m\u001b[0;34m:\u001b[0m\u001b[0;34m`\u001b[0m\u001b[0mpyspark\u001b[0m\u001b[0;34m.\u001b[0m\u001b[0msql\u001b[0m\u001b[0;34m.\u001b[0m\u001b[0mtypes\u001b[0m\u001b[0;34m.\u001b[0m\u001b[0mStructType\u001b[0m\u001b[0;34m`\u001b[0m\u001b[0;34m\u001b[0m\u001b[0m\n\u001b[1;32m    330\u001b[0m         \"\"\"\n\u001b[0;32m--> 331\u001b[0;31m         \u001b[0mfirst\u001b[0m \u001b[0;34m=\u001b[0m \u001b[0mrdd\u001b[0m\u001b[0;34m.\u001b[0m\u001b[0mfirst\u001b[0m\u001b[0;34m(\u001b[0m\u001b[0;34m)\u001b[0m\u001b[0;34m\u001b[0m\u001b[0m\n\u001b[0m\u001b[1;32m    332\u001b[0m         \u001b[0;32mif\u001b[0m \u001b[0;32mnot\u001b[0m \u001b[0mfirst\u001b[0m\u001b[0;34m:\u001b[0m\u001b[0;34m\u001b[0m\u001b[0m\n\u001b[1;32m    333\u001b[0m             raise ValueError(\"The first row in RDD is empty, \"\n",
      "\u001b[0;32m/home/ec2-user/spark/python/pyspark/rdd.pyc\u001b[0m in \u001b[0;36mfirst\u001b[0;34m(self)\u001b[0m\n\u001b[1;32m   1359\u001b[0m         \u001b[0mValueError\u001b[0m\u001b[0;34m:\u001b[0m \u001b[0mRDD\u001b[0m \u001b[0;32mis\u001b[0m \u001b[0mempty\u001b[0m\u001b[0;34m\u001b[0m\u001b[0m\n\u001b[1;32m   1360\u001b[0m         \"\"\"\n\u001b[0;32m-> 1361\u001b[0;31m         \u001b[0mrs\u001b[0m \u001b[0;34m=\u001b[0m \u001b[0mself\u001b[0m\u001b[0;34m.\u001b[0m\u001b[0mtake\u001b[0m\u001b[0;34m(\u001b[0m\u001b[0;36m1\u001b[0m\u001b[0;34m)\u001b[0m\u001b[0;34m\u001b[0m\u001b[0m\n\u001b[0m\u001b[1;32m   1362\u001b[0m         \u001b[0;32mif\u001b[0m \u001b[0mrs\u001b[0m\u001b[0;34m:\u001b[0m\u001b[0;34m\u001b[0m\u001b[0m\n\u001b[1;32m   1363\u001b[0m             \u001b[0;32mreturn\u001b[0m \u001b[0mrs\u001b[0m\u001b[0;34m[\u001b[0m\u001b[0;36m0\u001b[0m\u001b[0;34m]\u001b[0m\u001b[0;34m\u001b[0m\u001b[0m\n",
      "\u001b[0;32m/home/ec2-user/spark/python/pyspark/rdd.pyc\u001b[0m in \u001b[0;36mtake\u001b[0;34m(self, num)\u001b[0m\n\u001b[1;32m   1341\u001b[0m \u001b[0;34m\u001b[0m\u001b[0m\n\u001b[1;32m   1342\u001b[0m             \u001b[0mp\u001b[0m \u001b[0;34m=\u001b[0m \u001b[0mrange\u001b[0m\u001b[0;34m(\u001b[0m\u001b[0mpartsScanned\u001b[0m\u001b[0;34m,\u001b[0m \u001b[0mmin\u001b[0m\u001b[0;34m(\u001b[0m\u001b[0mpartsScanned\u001b[0m \u001b[0;34m+\u001b[0m \u001b[0mnumPartsToTry\u001b[0m\u001b[0;34m,\u001b[0m \u001b[0mtotalParts\u001b[0m\u001b[0;34m)\u001b[0m\u001b[0;34m)\u001b[0m\u001b[0;34m\u001b[0m\u001b[0m\n\u001b[0;32m-> 1343\u001b[0;31m             \u001b[0mres\u001b[0m \u001b[0;34m=\u001b[0m \u001b[0mself\u001b[0m\u001b[0;34m.\u001b[0m\u001b[0mcontext\u001b[0m\u001b[0;34m.\u001b[0m\u001b[0mrunJob\u001b[0m\u001b[0;34m(\u001b[0m\u001b[0mself\u001b[0m\u001b[0;34m,\u001b[0m \u001b[0mtakeUpToNumLeft\u001b[0m\u001b[0;34m,\u001b[0m \u001b[0mp\u001b[0m\u001b[0;34m)\u001b[0m\u001b[0;34m\u001b[0m\u001b[0m\n\u001b[0m\u001b[1;32m   1344\u001b[0m \u001b[0;34m\u001b[0m\u001b[0m\n\u001b[1;32m   1345\u001b[0m             \u001b[0mitems\u001b[0m \u001b[0;34m+=\u001b[0m \u001b[0mres\u001b[0m\u001b[0;34m\u001b[0m\u001b[0m\n",
      "\u001b[0;32m/home/ec2-user/spark/python/pyspark/context.pyc\u001b[0m in \u001b[0;36mrunJob\u001b[0;34m(self, rdd, partitionFunc, partitions, allowLocal)\u001b[0m\n\u001b[1;32m    963\u001b[0m         \u001b[0;31m# SparkContext#runJob.\u001b[0m\u001b[0;34m\u001b[0m\u001b[0;34m\u001b[0m\u001b[0m\n\u001b[1;32m    964\u001b[0m         \u001b[0mmappedRDD\u001b[0m \u001b[0;34m=\u001b[0m \u001b[0mrdd\u001b[0m\u001b[0;34m.\u001b[0m\u001b[0mmapPartitions\u001b[0m\u001b[0;34m(\u001b[0m\u001b[0mpartitionFunc\u001b[0m\u001b[0;34m)\u001b[0m\u001b[0;34m\u001b[0m\u001b[0m\n\u001b[0;32m--> 965\u001b[0;31m         \u001b[0mport\u001b[0m \u001b[0;34m=\u001b[0m \u001b[0mself\u001b[0m\u001b[0;34m.\u001b[0m\u001b[0m_jvm\u001b[0m\u001b[0;34m.\u001b[0m\u001b[0mPythonRDD\u001b[0m\u001b[0;34m.\u001b[0m\u001b[0mrunJob\u001b[0m\u001b[0;34m(\u001b[0m\u001b[0mself\u001b[0m\u001b[0;34m.\u001b[0m\u001b[0m_jsc\u001b[0m\u001b[0;34m.\u001b[0m\u001b[0msc\u001b[0m\u001b[0;34m(\u001b[0m\u001b[0;34m)\u001b[0m\u001b[0;34m,\u001b[0m \u001b[0mmappedRDD\u001b[0m\u001b[0;34m.\u001b[0m\u001b[0m_jrdd\u001b[0m\u001b[0;34m,\u001b[0m \u001b[0mpartitions\u001b[0m\u001b[0;34m)\u001b[0m\u001b[0;34m\u001b[0m\u001b[0m\n\u001b[0m\u001b[1;32m    966\u001b[0m         \u001b[0;32mreturn\u001b[0m \u001b[0mlist\u001b[0m\u001b[0;34m(\u001b[0m\u001b[0m_load_from_socket\u001b[0m\u001b[0;34m(\u001b[0m\u001b[0mport\u001b[0m\u001b[0;34m,\u001b[0m \u001b[0mmappedRDD\u001b[0m\u001b[0;34m.\u001b[0m\u001b[0m_jrdd_deserializer\u001b[0m\u001b[0;34m)\u001b[0m\u001b[0;34m)\u001b[0m\u001b[0;34m\u001b[0m\u001b[0m\n\u001b[1;32m    967\u001b[0m \u001b[0;34m\u001b[0m\u001b[0m\n",
      "\u001b[0;32m/home/ec2-user/spark/python/lib/py4j-0.10.4-src.zip/py4j/java_gateway.py\u001b[0m in \u001b[0;36m__call__\u001b[0;34m(self, *args)\u001b[0m\n\u001b[1;32m   1131\u001b[0m         \u001b[0manswer\u001b[0m \u001b[0;34m=\u001b[0m \u001b[0mself\u001b[0m\u001b[0;34m.\u001b[0m\u001b[0mgateway_client\u001b[0m\u001b[0;34m.\u001b[0m\u001b[0msend_command\u001b[0m\u001b[0;34m(\u001b[0m\u001b[0mcommand\u001b[0m\u001b[0;34m)\u001b[0m\u001b[0;34m\u001b[0m\u001b[0m\n\u001b[1;32m   1132\u001b[0m         return_value = get_return_value(\n\u001b[0;32m-> 1133\u001b[0;31m             answer, self.gateway_client, self.target_id, self.name)\n\u001b[0m\u001b[1;32m   1134\u001b[0m \u001b[0;34m\u001b[0m\u001b[0m\n\u001b[1;32m   1135\u001b[0m         \u001b[0;32mfor\u001b[0m \u001b[0mtemp_arg\u001b[0m \u001b[0;32min\u001b[0m \u001b[0mtemp_args\u001b[0m\u001b[0;34m:\u001b[0m\u001b[0;34m\u001b[0m\u001b[0m\n",
      "\u001b[0;32m/home/ec2-user/spark/python/pyspark/sql/utils.pyc\u001b[0m in \u001b[0;36mdeco\u001b[0;34m(*a, **kw)\u001b[0m\n\u001b[1;32m     61\u001b[0m     \u001b[0;32mdef\u001b[0m \u001b[0mdeco\u001b[0m\u001b[0;34m(\u001b[0m\u001b[0;34m*\u001b[0m\u001b[0ma\u001b[0m\u001b[0;34m,\u001b[0m \u001b[0;34m**\u001b[0m\u001b[0mkw\u001b[0m\u001b[0;34m)\u001b[0m\u001b[0;34m:\u001b[0m\u001b[0;34m\u001b[0m\u001b[0m\n\u001b[1;32m     62\u001b[0m         \u001b[0;32mtry\u001b[0m\u001b[0;34m:\u001b[0m\u001b[0;34m\u001b[0m\u001b[0m\n\u001b[0;32m---> 63\u001b[0;31m             \u001b[0;32mreturn\u001b[0m \u001b[0mf\u001b[0m\u001b[0;34m(\u001b[0m\u001b[0;34m*\u001b[0m\u001b[0ma\u001b[0m\u001b[0;34m,\u001b[0m \u001b[0;34m**\u001b[0m\u001b[0mkw\u001b[0m\u001b[0;34m)\u001b[0m\u001b[0;34m\u001b[0m\u001b[0m\n\u001b[0m\u001b[1;32m     64\u001b[0m         \u001b[0;32mexcept\u001b[0m \u001b[0mpy4j\u001b[0m\u001b[0;34m.\u001b[0m\u001b[0mprotocol\u001b[0m\u001b[0;34m.\u001b[0m\u001b[0mPy4JJavaError\u001b[0m \u001b[0;32mas\u001b[0m \u001b[0me\u001b[0m\u001b[0;34m:\u001b[0m\u001b[0;34m\u001b[0m\u001b[0m\n\u001b[1;32m     65\u001b[0m             \u001b[0ms\u001b[0m \u001b[0;34m=\u001b[0m \u001b[0me\u001b[0m\u001b[0;34m.\u001b[0m\u001b[0mjava_exception\u001b[0m\u001b[0;34m.\u001b[0m\u001b[0mtoString\u001b[0m\u001b[0;34m(\u001b[0m\u001b[0;34m)\u001b[0m\u001b[0;34m\u001b[0m\u001b[0m\n",
      "\u001b[0;32m/home/ec2-user/spark/python/lib/py4j-0.10.4-src.zip/py4j/protocol.py\u001b[0m in \u001b[0;36mget_return_value\u001b[0;34m(answer, gateway_client, target_id, name)\u001b[0m\n\u001b[1;32m    317\u001b[0m                 raise Py4JJavaError(\n\u001b[1;32m    318\u001b[0m                     \u001b[0;34m\"An error occurred while calling {0}{1}{2}.\\n\"\u001b[0m\u001b[0;34m.\u001b[0m\u001b[0;34m\u001b[0m\u001b[0m\n\u001b[0;32m--> 319\u001b[0;31m                     format(target_id, \".\", name), value)\n\u001b[0m\u001b[1;32m    320\u001b[0m             \u001b[0;32melse\u001b[0m\u001b[0;34m:\u001b[0m\u001b[0;34m\u001b[0m\u001b[0m\n\u001b[1;32m    321\u001b[0m                 raise Py4JError(\n",
      "\u001b[0;31mPy4JJavaError\u001b[0m: An error occurred while calling z:org.apache.spark.api.python.PythonRDD.runJob.\n: org.apache.spark.SparkException: Job aborted due to stage failure: Task 0 in stage 32.0 failed 4 times, most recent failure: Lost task 0.3 in stage 32.0 (TID 1440, 172.31.29.244, executor 0): org.apache.spark.api.python.PythonException: Traceback (most recent call last):\n  File \"/home/ec2-user/spark/python/lib/pyspark.zip/pyspark/worker.py\", line 163, in main\n    func, profiler, deserializer, serializer = read_command(pickleSer, infile)\n  File \"/home/ec2-user/spark/python/lib/pyspark.zip/pyspark/worker.py\", line 54, in read_command\n    command = serializer._read_with_length(file)\n  File \"/home/ec2-user/spark/python/lib/pyspark.zip/pyspark/serializers.py\", line 169, in _read_with_length\n    return self.loads(obj)\n  File \"/home/ec2-user/spark/python/lib/pyspark.zip/pyspark/serializers.py\", line 434, in loads\n    return pickle.loads(obj)\nImportError: No module named numpy_pack\n\n\tat org.apache.spark.api.python.PythonRunner$$anon$1.read(PythonRDD.scala:193)\n\tat org.apache.spark.api.python.PythonRunner$$anon$1.<init>(PythonRDD.scala:234)\n\tat org.apache.spark.api.python.PythonRunner.compute(PythonRDD.scala:152)\n\tat org.apache.spark.api.python.PythonRDD.compute(PythonRDD.scala:63)\n\tat org.apache.spark.rdd.RDD.computeOrReadCheckpoint(RDD.scala:323)\n\tat org.apache.spark.rdd.RDD.iterator(RDD.scala:287)\n\tat org.apache.spark.scheduler.ResultTask.runTask(ResultTask.scala:87)\n\tat org.apache.spark.scheduler.Task.run(Task.scala:99)\n\tat org.apache.spark.executor.Executor$TaskRunner.run(Executor.scala:282)\n\tat java.util.concurrent.ThreadPoolExecutor.runWorker(ThreadPoolExecutor.java:1142)\n\tat java.util.concurrent.ThreadPoolExecutor$Worker.run(ThreadPoolExecutor.java:617)\n\tat java.lang.Thread.run(Thread.java:745)\n\nDriver stacktrace:\n\tat org.apache.spark.scheduler.DAGScheduler.org$apache$spark$scheduler$DAGScheduler$$failJobAndIndependentStages(DAGScheduler.scala:1435)\n\tat org.apache.spark.scheduler.DAGScheduler$$anonfun$abortStage$1.apply(DAGScheduler.scala:1423)\n\tat org.apache.spark.scheduler.DAGScheduler$$anonfun$abortStage$1.apply(DAGScheduler.scala:1422)\n\tat scala.collection.mutable.ResizableArray$class.foreach(ResizableArray.scala:59)\n\tat scala.collection.mutable.ArrayBuffer.foreach(ArrayBuffer.scala:48)\n\tat org.apache.spark.scheduler.DAGScheduler.abortStage(DAGScheduler.scala:1422)\n\tat org.apache.spark.scheduler.DAGScheduler$$anonfun$handleTaskSetFailed$1.apply(DAGScheduler.scala:802)\n\tat org.apache.spark.scheduler.DAGScheduler$$anonfun$handleTaskSetFailed$1.apply(DAGScheduler.scala:802)\n\tat scala.Option.foreach(Option.scala:257)\n\tat org.apache.spark.scheduler.DAGScheduler.handleTaskSetFailed(DAGScheduler.scala:802)\n\tat org.apache.spark.scheduler.DAGSchedulerEventProcessLoop.doOnReceive(DAGScheduler.scala:1650)\n\tat org.apache.spark.scheduler.DAGSchedulerEventProcessLoop.onReceive(DAGScheduler.scala:1605)\n\tat org.apache.spark.scheduler.DAGSchedulerEventProcessLoop.onReceive(DAGScheduler.scala:1594)\n\tat org.apache.spark.util.EventLoop$$anon$1.run(EventLoop.scala:48)\n\tat org.apache.spark.scheduler.DAGScheduler.runJob(DAGScheduler.scala:628)\n\tat org.apache.spark.SparkContext.runJob(SparkContext.scala:1918)\n\tat org.apache.spark.SparkContext.runJob(SparkContext.scala:1931)\n\tat org.apache.spark.SparkContext.runJob(SparkContext.scala:1944)\n\tat org.apache.spark.api.python.PythonRDD$.runJob(PythonRDD.scala:441)\n\tat org.apache.spark.api.python.PythonRDD.runJob(PythonRDD.scala)\n\tat sun.reflect.NativeMethodAccessorImpl.invoke0(Native Method)\n\tat sun.reflect.NativeMethodAccessorImpl.invoke(NativeMethodAccessorImpl.java:62)\n\tat sun.reflect.DelegatingMethodAccessorImpl.invoke(DelegatingMethodAccessorImpl.java:43)\n\tat java.lang.reflect.Method.invoke(Method.java:498)\n\tat py4j.reflection.MethodInvoker.invoke(MethodInvoker.java:244)\n\tat py4j.reflection.ReflectionEngine.invoke(ReflectionEngine.java:357)\n\tat py4j.Gateway.invoke(Gateway.java:280)\n\tat py4j.commands.AbstractCommand.invokeMethod(AbstractCommand.java:132)\n\tat py4j.commands.CallCommand.execute(CallCommand.java:79)\n\tat py4j.GatewayConnection.run(GatewayConnection.java:214)\n\tat java.lang.Thread.run(Thread.java:745)\nCaused by: org.apache.spark.api.python.PythonException: Traceback (most recent call last):\n  File \"/home/ec2-user/spark/python/lib/pyspark.zip/pyspark/worker.py\", line 163, in main\n    func, profiler, deserializer, serializer = read_command(pickleSer, infile)\n  File \"/home/ec2-user/spark/python/lib/pyspark.zip/pyspark/worker.py\", line 54, in read_command\n    command = serializer._read_with_length(file)\n  File \"/home/ec2-user/spark/python/lib/pyspark.zip/pyspark/serializers.py\", line 169, in _read_with_length\n    return self.loads(obj)\n  File \"/home/ec2-user/spark/python/lib/pyspark.zip/pyspark/serializers.py\", line 434, in loads\n    return pickle.loads(obj)\nImportError: No module named numpy_pack\n\n\tat org.apache.spark.api.python.PythonRunner$$anon$1.read(PythonRDD.scala:193)\n\tat org.apache.spark.api.python.PythonRunner$$anon$1.<init>(PythonRDD.scala:234)\n\tat org.apache.spark.api.python.PythonRunner.compute(PythonRDD.scala:152)\n\tat org.apache.spark.api.python.PythonRDD.compute(PythonRDD.scala:63)\n\tat org.apache.spark.rdd.RDD.computeOrReadCheckpoint(RDD.scala:323)\n\tat org.apache.spark.rdd.RDD.iterator(RDD.scala:287)\n\tat org.apache.spark.scheduler.ResultTask.runTask(ResultTask.scala:87)\n\tat org.apache.spark.scheduler.Task.run(Task.scala:99)\n\tat org.apache.spark.executor.Executor$TaskRunner.run(Executor.scala:282)\n\tat java.util.concurrent.ThreadPoolExecutor.runWorker(ThreadPoolExecutor.java:1142)\n\tat java.util.concurrent.ThreadPoolExecutor$Worker.run(ThreadPoolExecutor.java:617)\n\t... 1 more\n"
     ]
    }
   ],
   "source": [
    "from numpy import linalg as LA\n",
    "\n",
    "STAT={}  # dictionary storing the statistics for each measurement\n",
    "df={}\n",
    "for meas in measurements:\n",
    "    t=time()\n",
    "    Query=\"SELECT * FROM parquet.`%s`\\n\\tWHERE measurement = '%s'\"%(US_Weather_parquet,meas)\n",
    "    print Query\n",
    "    df[meas] = sqlContext.sql(Query)\n",
    "    \n",
    "\n",
    "    print 'size of dataframe for ',meas,'before filtering =',df[meas].count()\n",
    "    rdd0=df[meas].rdd.map(lambda row:(row['station'],((row['measurement'],row['year']),np.array([np.float64(row[str(i)]) for i in range(1,366)])))).cache()\n",
    "\n",
    "    rdd1=rdd0.sample(False,1)\\\n",
    "           .map(lambda (key,val): val[1])\\\n",
    "           .cache()\\\n",
    "           .repartition(N)\n",
    "\n",
    "    STAT[meas]=computeOverAllDist(rdd1)   # Compute the statistics \n",
    "    low1000 = STAT[meas]['low1000']  # unpack the extreme values statistics\n",
    "    high1000 = STAT[meas]['high1000']\n",
    "\n",
    "    RDD=df[meas].rdd\n",
    "    Cleaned=RDD.map(lambda row:repack_array(row))\n",
    "    df[meas]=sqlContext.createDataFrame(Cleaned)\n",
    "    df[meas]=df[meas].filter(lambda row:row['undef No']<50)\n",
    "    print 'size of dataframe for ',meas,'after filtering =',df[meas].count()\n",
    " \n",
    "    print 'time for ',meas,'was',time()-t\n",
    "    "
   ]
  },
  {
   "cell_type": "code",
   "execution_count": null,
   "metadata": {
    "collapsed": true,
    "slideshow": {
     "slide_type": "slide"
    }
   },
   "outputs": [],
   "source": [
    "\n",
    "    #clean up table from extreme values and from rows with too many undefinde entries.\n",
    "    rdd2=rdd1.map(lambda V: np.array([x if (x>low1000-1) and (x<high1000+1) else np.nan for x in V]))\n",
    "\n",
    "    df[meas].withColumn('undef No',rdd2.map(lambda row: sum(np.isnan(row))))\n",
    "    df[meas]=df[meas].filter(lambda row:row['undef No']<50)\n",
    "    print 'size of dataframe for ',meas,'after filtering =',df[meas].count()\n",
    "    break"
   ]
  },
  {
   "cell_type": "code",
   "execution_count": 25,
   "metadata": {
    "collapsed": true
   },
   "outputs": [],
   "source": [
    "import sys\n",
    "sys.path.append('./lib')\n",
    "from numpy_pack import packArray,unpackArray"
   ]
  },
  {
   "cell_type": "code",
   "execution_count": 14,
   "metadata": {
    "collapsed": true
   },
   "outputs": [],
   "source": [
    "# %load lib/numpy_pack.py\n",
    "import numpy as np\n",
    "\"\"\"Code for packing and unpacking a numpy array into a byte array.\n",
    "   the array is flattened if it is not 1D.\n",
    "   This is intended to be used as the interface for storing \n",
    "   \n",
    "   This code is intended to be used to store numpy array as fields in a dataframe and then store the \n",
    "   dataframes in a parquet file.\n",
    "\"\"\"\n",
    "\n",
    "def packArray(a):\n",
    "    if type(a)!=np.ndarray:\n",
    "        raise Exception(\"input to packArray should be numpy.ndarray. It is instead \"+str(type(a)))\n",
    "    return bytearray(a.tobytes())\n",
    "def unpackArray(x,data_type=np.int16):\n",
    "    return np.frombuffer(x,dtype=data_type)"
   ]
  },
  {
   "cell_type": "code",
   "execution_count": 23,
   "metadata": {
    "collapsed": true
   },
   "outputs": [],
   "source": [
    "import sys\n",
    "sys.path.append('./lib')\n",
    "from numpy_pack import packArray,unpackArray\n",
    "\n",
    "def repack_array(row):\n",
    "    arr=(np.array([np.float16(row[str(i)]) for i in range(1,366)]))\n",
    "    #trim extremes\n",
    "    trimmed=np.array([x if (x>low1000-1) and (x<high1000+1) else np.nan for x in arr],dtype=np.float16)\n",
    "    #count nan\n",
    "    count=np.sum(np.isnan(trimmed))\n",
    "    #return row with 365 entries replaced with a bytestream representing an array.\n",
    "\n",
    "    New={}\n",
    "    keep_keys=['longitude', 'station', 'latitude', 'year', 'elevation', 'measurement']\n",
    "    for k in keep_keys:\n",
    "        New[k]=row[k]\n",
    "    New['vector']=packArray(trimmed)\n",
    "    New['undefs']=count\n",
    "    return Row(**New)\n"
   ]
  },
  {
   "cell_type": "code",
   "execution_count": 15,
   "metadata": {},
   "outputs": [
    {
     "ename": "NameError",
     "evalue": "name 'meas' is not defined",
     "output_type": "error",
     "traceback": [
      "\u001b[0;31m\u001b[0m",
      "\u001b[0;31mNameError\u001b[0mTraceback (most recent call last)",
      "\u001b[0;32m<ipython-input-15-bef04237ac22>\u001b[0m in \u001b[0;36m<module>\u001b[0;34m()\u001b[0m\n\u001b[0;32m----> 1\u001b[0;31m \u001b[0mRDD\u001b[0m\u001b[0;34m=\u001b[0m\u001b[0mdf\u001b[0m\u001b[0;34m[\u001b[0m\u001b[0mmeas\u001b[0m\u001b[0;34m]\u001b[0m\u001b[0;34m.\u001b[0m\u001b[0mrdd\u001b[0m\u001b[0;34m\u001b[0m\u001b[0m\n\u001b[0m\u001b[1;32m      2\u001b[0m \u001b[0mCleaned\u001b[0m\u001b[0;34m=\u001b[0m\u001b[0mRDD\u001b[0m\u001b[0;34m.\u001b[0m\u001b[0mmap\u001b[0m\u001b[0;34m(\u001b[0m\u001b[0;32mlambda\u001b[0m \u001b[0mrow\u001b[0m\u001b[0;34m:\u001b[0m\u001b[0mrepack_array\u001b[0m\u001b[0;34m(\u001b[0m\u001b[0mrow\u001b[0m\u001b[0;34m)\u001b[0m\u001b[0;34m)\u001b[0m\u001b[0;34m\u001b[0m\u001b[0m\n\u001b[1;32m      3\u001b[0m \u001b[0mCleaned\u001b[0m\u001b[0;34m.\u001b[0m\u001b[0mfirst\u001b[0m\u001b[0;34m(\u001b[0m\u001b[0;34m)\u001b[0m\u001b[0;34m\u001b[0m\u001b[0m\n",
      "\u001b[0;31mNameError\u001b[0m: name 'meas' is not defined"
     ]
    }
   ],
   "source": [
    "RDD=df[meas].rdd\n",
    "Cleaned=RDD.map(lambda row:repack_array(row))\n",
    "Cleaned.first()"
   ]
  },
  {
   "cell_type": "code",
   "execution_count": 189,
   "metadata": {},
   "outputs": [
    {
     "ename": "TypeError",
     "evalue": "not supported type: <type 'numpy.int64'>",
     "output_type": "error",
     "traceback": [
      "\u001b[0;31m\u001b[0m",
      "\u001b[0;31mTypeError\u001b[0mTraceback (most recent call last)",
      "\u001b[0;32m<ipython-input-189-3ee201618ab4>\u001b[0m in \u001b[0;36m<module>\u001b[0;34m()\u001b[0m\n\u001b[0;32m----> 1\u001b[0;31m \u001b[0mdf_clean\u001b[0m\u001b[0;34m=\u001b[0m\u001b[0msqlContext\u001b[0m\u001b[0;34m.\u001b[0m\u001b[0mcreateDataFrame\u001b[0m\u001b[0;34m(\u001b[0m\u001b[0mCleaned\u001b[0m\u001b[0;34m)\u001b[0m\u001b[0;34m\u001b[0m\u001b[0m\n\u001b[0m",
      "\u001b[0;32m/home/ec2-user/spark/python/pyspark/sql/context.py\u001b[0m in \u001b[0;36mcreateDataFrame\u001b[0;34m(self, data, schema, samplingRatio, verifySchema)\u001b[0m\n\u001b[1;32m    331\u001b[0m         \u001b[0mPy4JJavaError\u001b[0m\u001b[0;34m:\u001b[0m \u001b[0;34m.\u001b[0m\u001b[0;34m.\u001b[0m\u001b[0;34m.\u001b[0m\u001b[0;34m\u001b[0m\u001b[0m\n\u001b[1;32m    332\u001b[0m         \"\"\"\n\u001b[0;32m--> 333\u001b[0;31m         \u001b[0;32mreturn\u001b[0m \u001b[0mself\u001b[0m\u001b[0;34m.\u001b[0m\u001b[0msparkSession\u001b[0m\u001b[0;34m.\u001b[0m\u001b[0mcreateDataFrame\u001b[0m\u001b[0;34m(\u001b[0m\u001b[0mdata\u001b[0m\u001b[0;34m,\u001b[0m \u001b[0mschema\u001b[0m\u001b[0;34m,\u001b[0m \u001b[0msamplingRatio\u001b[0m\u001b[0;34m,\u001b[0m \u001b[0mverifySchema\u001b[0m\u001b[0;34m)\u001b[0m\u001b[0;34m\u001b[0m\u001b[0m\n\u001b[0m\u001b[1;32m    334\u001b[0m \u001b[0;34m\u001b[0m\u001b[0m\n\u001b[1;32m    335\u001b[0m     \u001b[0;34m@\u001b[0m\u001b[0msince\u001b[0m\u001b[0;34m(\u001b[0m\u001b[0;36m1.3\u001b[0m\u001b[0;34m)\u001b[0m\u001b[0;34m\u001b[0m\u001b[0m\n",
      "\u001b[0;32m/home/ec2-user/spark/python/pyspark/sql/session.py\u001b[0m in \u001b[0;36mcreateDataFrame\u001b[0;34m(self, data, schema, samplingRatio, verifySchema)\u001b[0m\n\u001b[1;32m    518\u001b[0m \u001b[0;34m\u001b[0m\u001b[0m\n\u001b[1;32m    519\u001b[0m         \u001b[0;32mif\u001b[0m \u001b[0misinstance\u001b[0m\u001b[0;34m(\u001b[0m\u001b[0mdata\u001b[0m\u001b[0;34m,\u001b[0m \u001b[0mRDD\u001b[0m\u001b[0;34m)\u001b[0m\u001b[0;34m:\u001b[0m\u001b[0;34m\u001b[0m\u001b[0m\n\u001b[0;32m--> 520\u001b[0;31m             \u001b[0mrdd\u001b[0m\u001b[0;34m,\u001b[0m \u001b[0mschema\u001b[0m \u001b[0;34m=\u001b[0m \u001b[0mself\u001b[0m\u001b[0;34m.\u001b[0m\u001b[0m_createFromRDD\u001b[0m\u001b[0;34m(\u001b[0m\u001b[0mdata\u001b[0m\u001b[0;34m.\u001b[0m\u001b[0mmap\u001b[0m\u001b[0;34m(\u001b[0m\u001b[0mprepare\u001b[0m\u001b[0;34m)\u001b[0m\u001b[0;34m,\u001b[0m \u001b[0mschema\u001b[0m\u001b[0;34m,\u001b[0m \u001b[0msamplingRatio\u001b[0m\u001b[0;34m)\u001b[0m\u001b[0;34m\u001b[0m\u001b[0m\n\u001b[0m\u001b[1;32m    521\u001b[0m         \u001b[0;32melse\u001b[0m\u001b[0;34m:\u001b[0m\u001b[0;34m\u001b[0m\u001b[0m\n\u001b[1;32m    522\u001b[0m             \u001b[0mrdd\u001b[0m\u001b[0;34m,\u001b[0m \u001b[0mschema\u001b[0m \u001b[0;34m=\u001b[0m \u001b[0mself\u001b[0m\u001b[0;34m.\u001b[0m\u001b[0m_createFromLocal\u001b[0m\u001b[0;34m(\u001b[0m\u001b[0mmap\u001b[0m\u001b[0;34m(\u001b[0m\u001b[0mprepare\u001b[0m\u001b[0;34m,\u001b[0m \u001b[0mdata\u001b[0m\u001b[0;34m)\u001b[0m\u001b[0;34m,\u001b[0m \u001b[0mschema\u001b[0m\u001b[0;34m)\u001b[0m\u001b[0;34m\u001b[0m\u001b[0m\n",
      "\u001b[0;32m/home/ec2-user/spark/python/pyspark/sql/session.py\u001b[0m in \u001b[0;36m_createFromRDD\u001b[0;34m(self, rdd, schema, samplingRatio)\u001b[0m\n\u001b[1;32m    358\u001b[0m         \"\"\"\n\u001b[1;32m    359\u001b[0m         \u001b[0;32mif\u001b[0m \u001b[0mschema\u001b[0m \u001b[0;32mis\u001b[0m \u001b[0mNone\u001b[0m \u001b[0;32mor\u001b[0m \u001b[0misinstance\u001b[0m\u001b[0;34m(\u001b[0m\u001b[0mschema\u001b[0m\u001b[0;34m,\u001b[0m \u001b[0;34m(\u001b[0m\u001b[0mlist\u001b[0m\u001b[0;34m,\u001b[0m \u001b[0mtuple\u001b[0m\u001b[0;34m)\u001b[0m\u001b[0;34m)\u001b[0m\u001b[0;34m:\u001b[0m\u001b[0;34m\u001b[0m\u001b[0m\n\u001b[0;32m--> 360\u001b[0;31m             \u001b[0mstruct\u001b[0m \u001b[0;34m=\u001b[0m \u001b[0mself\u001b[0m\u001b[0;34m.\u001b[0m\u001b[0m_inferSchema\u001b[0m\u001b[0;34m(\u001b[0m\u001b[0mrdd\u001b[0m\u001b[0;34m,\u001b[0m \u001b[0msamplingRatio\u001b[0m\u001b[0;34m)\u001b[0m\u001b[0;34m\u001b[0m\u001b[0m\n\u001b[0m\u001b[1;32m    361\u001b[0m             \u001b[0mconverter\u001b[0m \u001b[0;34m=\u001b[0m \u001b[0m_create_converter\u001b[0m\u001b[0;34m(\u001b[0m\u001b[0mstruct\u001b[0m\u001b[0;34m)\u001b[0m\u001b[0;34m\u001b[0m\u001b[0m\n\u001b[1;32m    362\u001b[0m             \u001b[0mrdd\u001b[0m \u001b[0;34m=\u001b[0m \u001b[0mrdd\u001b[0m\u001b[0;34m.\u001b[0m\u001b[0mmap\u001b[0m\u001b[0;34m(\u001b[0m\u001b[0mconverter\u001b[0m\u001b[0;34m)\u001b[0m\u001b[0;34m\u001b[0m\u001b[0m\n",
      "\u001b[0;32m/home/ec2-user/spark/python/pyspark/sql/session.py\u001b[0m in \u001b[0;36m_inferSchema\u001b[0;34m(self, rdd, samplingRatio)\u001b[0m\n\u001b[1;32m    338\u001b[0m \u001b[0;34m\u001b[0m\u001b[0m\n\u001b[1;32m    339\u001b[0m         \u001b[0;32mif\u001b[0m \u001b[0msamplingRatio\u001b[0m \u001b[0;32mis\u001b[0m \u001b[0mNone\u001b[0m\u001b[0;34m:\u001b[0m\u001b[0;34m\u001b[0m\u001b[0m\n\u001b[0;32m--> 340\u001b[0;31m             \u001b[0mschema\u001b[0m \u001b[0;34m=\u001b[0m \u001b[0m_infer_schema\u001b[0m\u001b[0;34m(\u001b[0m\u001b[0mfirst\u001b[0m\u001b[0;34m)\u001b[0m\u001b[0;34m\u001b[0m\u001b[0m\n\u001b[0m\u001b[1;32m    341\u001b[0m             \u001b[0;32mif\u001b[0m \u001b[0m_has_nulltype\u001b[0m\u001b[0;34m(\u001b[0m\u001b[0mschema\u001b[0m\u001b[0;34m)\u001b[0m\u001b[0;34m:\u001b[0m\u001b[0;34m\u001b[0m\u001b[0m\n\u001b[1;32m    342\u001b[0m                 \u001b[0;32mfor\u001b[0m \u001b[0mrow\u001b[0m \u001b[0;32min\u001b[0m \u001b[0mrdd\u001b[0m\u001b[0;34m.\u001b[0m\u001b[0mtake\u001b[0m\u001b[0;34m(\u001b[0m\u001b[0;36m100\u001b[0m\u001b[0;34m)\u001b[0m\u001b[0;34m[\u001b[0m\u001b[0;36m1\u001b[0m\u001b[0;34m:\u001b[0m\u001b[0;34m]\u001b[0m\u001b[0;34m:\u001b[0m\u001b[0;34m\u001b[0m\u001b[0m\n",
      "\u001b[0;32m/home/ec2-user/spark/python/pyspark/sql/types.py\u001b[0m in \u001b[0;36m_infer_schema\u001b[0;34m(row)\u001b[0m\n\u001b[1;32m    992\u001b[0m         \u001b[0;32mraise\u001b[0m \u001b[0mTypeError\u001b[0m\u001b[0;34m(\u001b[0m\u001b[0;34m\"Can not infer schema for type: %s\"\u001b[0m \u001b[0;34m%\u001b[0m \u001b[0mtype\u001b[0m\u001b[0;34m(\u001b[0m\u001b[0mrow\u001b[0m\u001b[0;34m)\u001b[0m\u001b[0;34m)\u001b[0m\u001b[0;34m\u001b[0m\u001b[0m\n\u001b[1;32m    993\u001b[0m \u001b[0;34m\u001b[0m\u001b[0m\n\u001b[0;32m--> 994\u001b[0;31m     \u001b[0mfields\u001b[0m \u001b[0;34m=\u001b[0m \u001b[0;34m[\u001b[0m\u001b[0mStructField\u001b[0m\u001b[0;34m(\u001b[0m\u001b[0mk\u001b[0m\u001b[0;34m,\u001b[0m \u001b[0m_infer_type\u001b[0m\u001b[0;34m(\u001b[0m\u001b[0mv\u001b[0m\u001b[0;34m)\u001b[0m\u001b[0;34m,\u001b[0m \u001b[0mTrue\u001b[0m\u001b[0;34m)\u001b[0m \u001b[0;32mfor\u001b[0m \u001b[0mk\u001b[0m\u001b[0;34m,\u001b[0m \u001b[0mv\u001b[0m \u001b[0;32min\u001b[0m \u001b[0mitems\u001b[0m\u001b[0;34m]\u001b[0m\u001b[0;34m\u001b[0m\u001b[0m\n\u001b[0m\u001b[1;32m    995\u001b[0m     \u001b[0;32mreturn\u001b[0m \u001b[0mStructType\u001b[0m\u001b[0;34m(\u001b[0m\u001b[0mfields\u001b[0m\u001b[0;34m)\u001b[0m\u001b[0;34m\u001b[0m\u001b[0m\n\u001b[1;32m    996\u001b[0m \u001b[0;34m\u001b[0m\u001b[0m\n",
      "\u001b[0;32m/home/ec2-user/spark/python/pyspark/sql/types.py\u001b[0m in \u001b[0;36m_infer_type\u001b[0;34m(obj)\u001b[0m\n\u001b[1;32m    969\u001b[0m             \u001b[0;32mreturn\u001b[0m \u001b[0m_infer_schema\u001b[0m\u001b[0;34m(\u001b[0m\u001b[0mobj\u001b[0m\u001b[0;34m)\u001b[0m\u001b[0;34m\u001b[0m\u001b[0m\n\u001b[1;32m    970\u001b[0m         \u001b[0;32mexcept\u001b[0m \u001b[0mTypeError\u001b[0m\u001b[0;34m:\u001b[0m\u001b[0;34m\u001b[0m\u001b[0m\n\u001b[0;32m--> 971\u001b[0;31m             \u001b[0;32mraise\u001b[0m \u001b[0mTypeError\u001b[0m\u001b[0;34m(\u001b[0m\u001b[0;34m\"not supported type: %s\"\u001b[0m \u001b[0;34m%\u001b[0m \u001b[0mtype\u001b[0m\u001b[0;34m(\u001b[0m\u001b[0mobj\u001b[0m\u001b[0;34m)\u001b[0m\u001b[0;34m)\u001b[0m\u001b[0;34m\u001b[0m\u001b[0m\n\u001b[0m\u001b[1;32m    972\u001b[0m \u001b[0;34m\u001b[0m\u001b[0m\n\u001b[1;32m    973\u001b[0m \u001b[0;34m\u001b[0m\u001b[0m\n",
      "\u001b[0;31mTypeError\u001b[0m: not supported type: <type 'numpy.int64'>"
     ]
    }
   ],
   "source": [
    "df_clean=sqlContext.createDataFrame(Cleaned)"
   ]
  },
  {
   "cell_type": "code",
   "execution_count": 19,
   "metadata": {
    "collapsed": true
   },
   "outputs": [],
   "source": [
    "# %load lib/numpy_pack.py\n",
    "import numpy as np\n",
    "\"\"\"Code for packing and unpacking a numpy array into a byte array.\n",
    "   the array is flattened if it is not 1D.\n",
    "   This is intended to be used as the interface for storing \n",
    "   \n",
    "   This code is intended to be used to store numpy array as fields in a dataframe and then store the \n",
    "   dataframes in a parquet file.\n",
    "\"\"\"\n",
    "\n",
    "def packArray(a):\n",
    "    if type(a)!=np.ndarray:\n",
    "        raise Exception(\"input to packArray should be numpy.ndarray. It is instead \"+str(type(a)))\n",
    "    return bytearray(a.tobytes())\n",
    "def unpackArray(x,data_type=np.int16):\n",
    "    return np.frombuffer(x,dtype=data_type)"
   ]
  },
  {
   "cell_type": "code",
   "execution_count": 87,
   "metadata": {
    "collapsed": true
   },
   "outputs": [],
   "source": [
    "df2=df[meas].map(lambda V: np.array([x if (x>low1000-1) and (x<high1000+1) else np.nan for x in V]))"
   ]
  },
  {
   "cell_type": "code",
   "execution_count": 88,
   "metadata": {},
   "outputs": [
    {
     "ename": "AssertionError",
     "evalue": "col should be Column",
     "output_type": "error",
     "traceback": [
      "\u001b[0;31m\u001b[0m",
      "\u001b[0;31mAssertionError\u001b[0mTraceback (most recent call last)",
      "\u001b[0;32m<ipython-input-88-8ea367d7ea02>\u001b[0m in \u001b[0;36m<module>\u001b[0;34m()\u001b[0m\n\u001b[0;32m----> 1\u001b[0;31m \u001b[0mdf\u001b[0m\u001b[0;34m[\u001b[0m\u001b[0mmeas\u001b[0m\u001b[0;34m]\u001b[0m\u001b[0;34m.\u001b[0m\u001b[0mwithColumn\u001b[0m\u001b[0;34m(\u001b[0m\u001b[0;34m'undef No'\u001b[0m\u001b[0;34m,\u001b[0m\u001b[0mrdd2\u001b[0m\u001b[0;34m.\u001b[0m\u001b[0mmap\u001b[0m\u001b[0;34m(\u001b[0m\u001b[0;32mlambda\u001b[0m \u001b[0mrow\u001b[0m\u001b[0;34m:\u001b[0m \u001b[0msum\u001b[0m\u001b[0;34m(\u001b[0m\u001b[0mnp\u001b[0m\u001b[0;34m.\u001b[0m\u001b[0misnan\u001b[0m\u001b[0;34m(\u001b[0m\u001b[0mrow\u001b[0m\u001b[0;34m)\u001b[0m\u001b[0;34m)\u001b[0m\u001b[0;34m)\u001b[0m\u001b[0;34m)\u001b[0m\u001b[0;34m\u001b[0m\u001b[0m\n\u001b[0m",
      "\u001b[0;32m/home/ec2-user/spark/python/pyspark/sql/dataframe.py\u001b[0m in \u001b[0;36mwithColumn\u001b[0;34m(self, colName, col)\u001b[0m\n\u001b[1;32m   1490\u001b[0m         \u001b[0;34m[\u001b[0m\u001b[0mRow\u001b[0m\u001b[0;34m(\u001b[0m\u001b[0mage\u001b[0m\u001b[0;34m=\u001b[0m\u001b[0;36m2\u001b[0m\u001b[0;34m,\u001b[0m \u001b[0mname\u001b[0m\u001b[0;34m=\u001b[0m\u001b[0;34mu'Alice'\u001b[0m\u001b[0;34m,\u001b[0m \u001b[0mage2\u001b[0m\u001b[0;34m=\u001b[0m\u001b[0;36m4\u001b[0m\u001b[0;34m)\u001b[0m\u001b[0;34m,\u001b[0m \u001b[0mRow\u001b[0m\u001b[0;34m(\u001b[0m\u001b[0mage\u001b[0m\u001b[0;34m=\u001b[0m\u001b[0;36m5\u001b[0m\u001b[0;34m,\u001b[0m \u001b[0mname\u001b[0m\u001b[0;34m=\u001b[0m\u001b[0;34mu'Bob'\u001b[0m\u001b[0;34m,\u001b[0m \u001b[0mage2\u001b[0m\u001b[0;34m=\u001b[0m\u001b[0;36m7\u001b[0m\u001b[0;34m)\u001b[0m\u001b[0;34m]\u001b[0m\u001b[0;34m\u001b[0m\u001b[0m\n\u001b[1;32m   1491\u001b[0m         \"\"\"\n\u001b[0;32m-> 1492\u001b[0;31m         \u001b[0;32massert\u001b[0m \u001b[0misinstance\u001b[0m\u001b[0;34m(\u001b[0m\u001b[0mcol\u001b[0m\u001b[0;34m,\u001b[0m \u001b[0mColumn\u001b[0m\u001b[0;34m)\u001b[0m\u001b[0;34m,\u001b[0m \u001b[0;34m\"col should be Column\"\u001b[0m\u001b[0;34m\u001b[0m\u001b[0m\n\u001b[0m\u001b[1;32m   1493\u001b[0m         \u001b[0;32mreturn\u001b[0m \u001b[0mDataFrame\u001b[0m\u001b[0;34m(\u001b[0m\u001b[0mself\u001b[0m\u001b[0;34m.\u001b[0m\u001b[0m_jdf\u001b[0m\u001b[0;34m.\u001b[0m\u001b[0mwithColumn\u001b[0m\u001b[0;34m(\u001b[0m\u001b[0mcolName\u001b[0m\u001b[0;34m,\u001b[0m \u001b[0mcol\u001b[0m\u001b[0;34m.\u001b[0m\u001b[0m_jc\u001b[0m\u001b[0;34m)\u001b[0m\u001b[0;34m,\u001b[0m \u001b[0mself\u001b[0m\u001b[0;34m.\u001b[0m\u001b[0msql_ctx\u001b[0m\u001b[0;34m)\u001b[0m\u001b[0;34m\u001b[0m\u001b[0m\n\u001b[1;32m   1494\u001b[0m \u001b[0;34m\u001b[0m\u001b[0m\n",
      "\u001b[0;31mAssertionError\u001b[0m: col should be Column"
     ]
    }
   ],
   "source": [
    "df[meas].withColumn('undef No',rdd2.map(lambda row: sum(np.isnan(row))))"
   ]
  },
  {
   "cell_type": "code",
   "execution_count": null,
   "metadata": {
    "collapsed": true
   },
   "outputs": [],
   "source": [
    "  low1000 = STAT[meas]['low1000']  # unpack the extreme values statistics\n",
    "  high1000 = STAT[meas]['high1000']\n",
    "\n",
    "  #clean up table from extreme values and from rows with too many undefinde entries.\n",
    "  rdd2=rdd0.map(lambda key,V: np.array([x if (x>low1000-1) and (x<high1000+1) else np.nan for x in V]))\n",
    "  Clean_com\n",
    "  #rdd3=rdd2.filter(lambda row:sum(np.isnan(row))<50)\n",
    "  Clean_Tables[meas]=rdd3.cache().repartition(N)\n",
    "  C=Clean_Tables[meas].count()\n",
    "  print 'for measurement %s, we get %d clean rows'%(meas,C)\n"
   ]
  },
  {
   "cell_type": "code",
   "execution_count": 37,
   "metadata": {},
   "outputs": [
    {
     "data": {
      "text/plain": [
       "['TMIN', 'TOBS', 'TMAX', 'SNOW', 'SNWD', 'PRCP']"
      ]
     },
     "execution_count": 37,
     "metadata": {},
     "output_type": "execute_result"
    }
   ],
   "source": [
    "df.filter(lambda row: )"
   ]
  },
  {
   "cell_type": "code",
   "execution_count": 52,
   "metadata": {},
   "outputs": [
    {
     "data": {
      "text/plain": [
       "[Row(station=u'USC00305618', measurement=u'PRCP', year=1914.0, 1=nan, 2=nan, 3=nan, 4=nan, 5=nan, 6=nan, 7=nan, 8=nan, 9=nan, 10=nan, 11=nan, 12=nan, 13=nan, 14=nan, 15=nan, 16=nan, 17=nan, 18=nan, 19=nan, 20=nan, 21=nan, 22=nan, 23=nan, 24=nan, 25=nan, 26=nan, 27=nan, 28=nan, 29=nan, 30=nan, 31=nan, 32=nan, 33=nan, 34=nan, 35=nan, 36=nan, 37=nan, 38=nan, 39=nan, 40=nan, 41=nan, 42=nan, 43=nan, 44=nan, 45=nan, 46=nan, 47=nan, 48=nan, 49=nan, 50=nan, 51=nan, 52=nan, 53=nan, 54=nan, 55=nan, 56=nan, 57=nan, 58=nan, 59=nan, 60=nan, 61=nan, 62=nan, 63=nan, 64=nan, 65=nan, 66=nan, 67=nan, 68=nan, 69=nan, 70=nan, 71=nan, 72=nan, 73=nan, 74=nan, 75=nan, 76=nan, 77=nan, 78=nan, 79=nan, 80=nan, 81=nan, 82=nan, 83=nan, 84=nan, 85=nan, 86=nan, 87=nan, 88=nan, 89=nan, 90=nan, 91=nan, 92=nan, 93=nan, 94=nan, 95=nan, 96=nan, 97=nan, 98=nan, 99=nan, 100=nan, 101=nan, 102=nan, 103=nan, 104=nan, 105=nan, 106=nan, 107=nan, 108=nan, 109=nan, 110=nan, 111=nan, 112=nan, 113=nan, 114=nan, 115=nan, 116=nan, 117=nan, 118=nan, 119=nan, 120=nan, 121=nan, 122=nan, 123=nan, 124=nan, 125=nan, 126=nan, 127=nan, 128=nan, 129=nan, 130=nan, 131=nan, 132=nan, 133=nan, 134=nan, 135=nan, 136=nan, 137=nan, 138=nan, 139=nan, 140=nan, 141=nan, 142=nan, 143=nan, 144=nan, 145=nan, 146=nan, 147=nan, 148=nan, 149=nan, 150=nan, 151=nan, 152=nan, 153=nan, 154=nan, 155=nan, 156=nan, 157=nan, 158=nan, 159=nan, 160=nan, 161=nan, 162=nan, 163=nan, 164=nan, 165=nan, 166=nan, 167=nan, 168=nan, 169=nan, 170=nan, 171=nan, 172=nan, 173=nan, 174=nan, 175=nan, 176=nan, 177=nan, 178=nan, 179=nan, 180=nan, 181=nan, 182=nan, 183=nan, 184=nan, 185=nan, 186=nan, 187=nan, 188=nan, 189=nan, 190=nan, 191=nan, 192=nan, 193=nan, 194=nan, 195=nan, 196=nan, 197=nan, 198=nan, 199=nan, 200=nan, 201=nan, 202=nan, 203=nan, 204=nan, 205=nan, 206=nan, 207=nan, 208=nan, 209=nan, 210=nan, 211=nan, 212=nan, 213=nan, 214=nan, 215=nan, 216=nan, 217=nan, 218=nan, 219=nan, 220=nan, 221=nan, 222=nan, 223=nan, 224=nan, 225=nan, 226=nan, 227=nan, 228=nan, 229=nan, 230=nan, 231=nan, 232=nan, 233=nan, 234=nan, 235=nan, 236=nan, 237=nan, 238=nan, 239=nan, 240=nan, 241=nan, 242=nan, 243=nan, 244=nan, 245=nan, 246=nan, 247=nan, 248=nan, 249=nan, 250=nan, 251=nan, 252=nan, 253=nan, 254=nan, 255=nan, 256=nan, 257=nan, 258=nan, 259=nan, 260=nan, 261=nan, 262=nan, 263=nan, 264=nan, 265=nan, 266=nan, 267=nan, 268=nan, 269=nan, 270=nan, 271=nan, 272=nan, 273=nan, 274=nan, 275=nan, 276=nan, 277=nan, 278=nan, 279=nan, 280=nan, 281=nan, 282=nan, 283=nan, 284=nan, 285=nan, 286=nan, 287=nan, 288=nan, 289=nan, 290=nan, 291=nan, 292=nan, 293=nan, 294=nan, 295=nan, 296=nan, 297=nan, 298=nan, 299=nan, 300=nan, 301=nan, 302=nan, 303=nan, 304=nan, 305=nan, 306=nan, 307=nan, 308=nan, 309=nan, 310=nan, 311=nan, 312=nan, 313=nan, 314=nan, 315=nan, 316=nan, 317=nan, 318=nan, 319=nan, 320=nan, 321=nan, 322=nan, 323=nan, 324=nan, 325=nan, 326=nan, 327=nan, 328=nan, 329=nan, 330=nan, 331=nan, 332=nan, 333=nan, 334=nan, 335=0.0, 336=0.0, 337=0.0, 338=0.0, 339=0.0, 340=28.0, 341=295.0, 342=76.0, 343=89.0, 344=0.0, 345=0.0, 346=0.0, 347=28.0, 348=305.0, 349=0.0, 350=0.0, 351=0.0, 352=0.0, 353=33.0, 354=0.0, 355=213.0, 356=0.0, 357=0.0, 358=3.0, 359=0.0, 360=0.0, 361=0.0, 362=0.0, 363=104.0, 364=0.0, 365=0.0, ID=u'USC00305618', longitude=-73.8333, latitude=40.9, elevation=47.2)]"
      ]
     },
     "execution_count": 52,
     "metadata": {},
     "output_type": "execute_result"
    }
   ],
   "source": [
    "df.take(1)"
   ]
  },
  {
   "cell_type": "code",
   "execution_count": 43,
   "metadata": {
    "collapsed": true
   },
   "outputs": [],
   "source": [
    "from pyspark.sql import DataFrame"
   ]
  },
  {
   "cell_type": "code",
   "execution_count": 55,
   "metadata": {
    "scrolled": false
   },
   "outputs": [
    {
     "ename": "KeyError",
     "evalue": "'TMIN'",
     "output_type": "error",
     "traceback": [
      "\u001b[0;31m\u001b[0m",
      "\u001b[0;31mKeyError\u001b[0mTraceback (most recent call last)",
      "\u001b[0;32m<ipython-input-55-6b92429eae48>\u001b[0m in \u001b[0;36m<module>\u001b[0;34m()\u001b[0m\n\u001b[1;32m      1\u001b[0m \u001b[0mt\u001b[0m\u001b[0;34m=\u001b[0m\u001b[0mtime\u001b[0m\u001b[0;34m(\u001b[0m\u001b[0;34m)\u001b[0m\u001b[0;34m\u001b[0m\u001b[0m\n\u001b[0;32m----> 2\u001b[0;31m \u001b[0mdf_clean\u001b[0m \u001b[0;34m=\u001b[0m \u001b[0mdf\u001b[0m\u001b[0;34m[\u001b[0m\u001b[0;34m'TMIN'\u001b[0m\u001b[0;34m]\u001b[0m\u001b[0;34m\u001b[0m\u001b[0m\n\u001b[0m\u001b[1;32m      3\u001b[0m \u001b[0ms\u001b[0m\u001b[0;34m=\u001b[0m\u001b[0mdf\u001b[0m\u001b[0;34m.\u001b[0m\u001b[0mcount\u001b[0m\u001b[0;34m(\u001b[0m\u001b[0;34m)\u001b[0m\u001b[0;34m\u001b[0m\u001b[0m\n\u001b[1;32m      4\u001b[0m \u001b[0;32mprint\u001b[0m \u001b[0;34m'TMIN'\u001b[0m\u001b[0;34m,\u001b[0m\u001b[0ms\u001b[0m\u001b[0;34m\u001b[0m\u001b[0m\n\u001b[1;32m      5\u001b[0m \u001b[0;32mfor\u001b[0m \u001b[0mkey\u001b[0m \u001b[0;32min\u001b[0m \u001b[0;34m[\u001b[0m\u001b[0;34m'TOBS'\u001b[0m\u001b[0;34m,\u001b[0m \u001b[0;34m'TMAX'\u001b[0m\u001b[0;34m,\u001b[0m \u001b[0;34m'SNOW'\u001b[0m\u001b[0;34m,\u001b[0m \u001b[0;34m'SNWD'\u001b[0m\u001b[0;34m,\u001b[0m \u001b[0;34m'PRCP'\u001b[0m\u001b[0;34m]\u001b[0m\u001b[0;34m:\u001b[0m\u001b[0;34m\u001b[0m\u001b[0m\n",
      "\u001b[0;31mKeyError\u001b[0m: 'TMIN'"
     ]
    }
   ],
   "source": [
    "t=time()\n",
    "df_clean = df['TMIN']\n",
    "s=df.count()\n",
    "print 'TMIN',s\n",
    "for key in ['TOBS', 'TMAX', 'SNOW', 'SNWD', 'PRCP']:\n",
    "    df_clean=df_clean.union(df[key])\n",
    "    s1= df[key].count()\n",
    "    s+= s1\n",
    "    print key,s1,s\n",
    "print 'total size=',df_clean.count()\n",
    "print 'took',time()-t,'seconds'"
   ]
  },
  {
   "cell_type": "code",
   "execution_count": 47,
   "metadata": {},
   "outputs": [
    {
     "data": {
      "text/plain": [
       "[array([ -20.,   20.,  -60.,  -20.,  -20.,    5.,   20.,  -20.,  -20.,\n",
       "          30.,  -50.,  -60.,  -20.,  -10.,  -10.,  -10.,  -20.,  -40.,\n",
       "         -30.,  -10.,  -50.,   nan,  -10.,  -60.,  -70.,  -50.,  -50.,\n",
       "         -60.,  -10.,  -20.,   30.,  -40.,  -30.,  -30.,   40.,   50.,\n",
       "          20.,   50.,   60.,  -40.,  -60.,  -40.,  -30.,  -30.,  -30.,\n",
       "         -40.,   40.,  -20.,  -40.,   10.,   30.,   30.,  -20.,  -50.,\n",
       "         -20.,  -10.,  -10.,  -20.,  -20.,  -10.,  -20.,   nan,   10.,\n",
       "         -20.,  -20.,  -40.,  -10.,  -20.,  -20.,  -20.,  -30.,  -10.,\n",
       "         -20.,  -10.,  -60.,  -10.,  -10.,   60.,   10.,  -20.,  -20.,\n",
       "          20.,  -30.,  -50.,  -20.,  -40.,  -30.,  -20.,  -20.,  -20.,\n",
       "         -10.,  -10.,  -70.,  -60.,  -60.,  -60.,  -30.,  -20.,  -30.,\n",
       "         -20.,  -20.,   20.,   60.,   70.,   70.,  -20.,  -10.,  -10.,\n",
       "         -10.,   40.,   40.,   60.,   20.,  -10.,  -10.,   30.,   30.,\n",
       "          30.,   40.,  100.,   30.,   40.,   50.,   80.,   90.,   90.,\n",
       "         -10.,  -20.,   10.,   30.,   40.,   70.,  110.,  110.,   80.,\n",
       "          90.,   90.,   40.,   30.,   50.,   60.,   30.,   20.,   40.,\n",
       "          50.,   30.,   50.,   90.,   70.,   90.,   90.,   90.,   40.,\n",
       "          30.,   20.,   60.,  100.,   10.,   90.,   90.,   70.,   60.,\n",
       "         100.,   80.,   60.,   70.,   60.,   90.,   90.,   90.,   90.,\n",
       "          90.,   70.,  100.,  110.,   90.,  120.,  130.,   90.,  130.,\n",
       "         130.,  110.,   90.,  120.,  120.,   90.,  140.,  130.,  130.,\n",
       "         130.,  120.,  120.,  110.,   90.,  110.,  110.,  120.,  130.,\n",
       "          90.,  110.,   90.,   90.,  110.,  130.,  130.,   90.,   90.,\n",
       "          90.,  110.,  110.,  110.,  120.,  110.,  120.,  120.,  120.,\n",
       "         120.,  150.,  110.,  110.,  110.,  110.,  110.,  110.,   90.,\n",
       "         120.,   80.,   80.,   80.,   90.,  135.,   80.,   90.,   90.,\n",
       "          80.,   80.,   80.,   90.,   90.,  120.,  120.,   90.,  120.,\n",
       "         110.,  120.,  100.,   90.,   80.,   80.,   90.,  110.,  110.,\n",
       "         120.,   90.,  110.,   40.,   80.,   80.,   80.,   80.,   90.,\n",
       "          90.,   90.,   90.,   80.,   90.,   80.,   90.,  120.,   90.,\n",
       "          80.,   80.,   80.,   80.,   60.,   80.,   80.,   70.,   70.,\n",
       "          40.,   40.,   30.,   10.,  -30.,  -20.,  -10.,  -40.,  -40.,\n",
       "         -40.,  -50.,  -20.,  -10.,  -10.,  -20.,  -20.,  -10.,  -10.,\n",
       "         -10.,   20.,  -10.,   20.,   60.,   70.,  -10.,  -20.,  -20.,\n",
       "         -20.,   30.,   50.,   40.,  -10.,   10.,  -30.,   50.,   50.,\n",
       "          20.,  -10.,  -20.,  -20.,   30.,  -20.,  -20.,  -30.,  -30.,\n",
       "         -20.,  -10.,  -10.,  -20.,  -20.,  -20.,  -20.,  -30.,  -20.,\n",
       "         -30.,   nan,   nan,   nan,   nan,   nan,   nan,   nan,   nan,\n",
       "          nan,   nan,   nan,   nan,   nan,   nan,   nan,   nan,   nan,\n",
       "          nan,   nan,   nan,   nan,   nan,   nan,   nan,   nan,   nan,\n",
       "          nan,   nan,   nan,   nan,   nan])]"
      ]
     },
     "execution_count": 47,
     "metadata": {},
     "output_type": "execute_result"
    }
   ],
   "source": [
    "Clean_combined.take(1)"
   ]
  },
  {
   "cell_type": "markdown",
   "metadata": {
    "slideshow": {
     "slide_type": "slide"
    }
   },
   "source": [
    "### Sample Stations\n",
    "Generate a sample of stations, for each one store all available year X measurement pairs."
   ]
  },
  {
   "cell_type": "code",
   "execution_count": 54,
   "metadata": {
    "collapsed": true,
    "slideshow": {
     "slide_type": "fragment"
    }
   },
   "outputs": [
    {
     "data": {
      "text/plain": [
       "[(u'USC00305618',\n",
       "  ((u'PRCP', 1914.0),\n",
       "   array([  nan,   nan,   nan,   nan,   nan,   nan,   nan,   nan,   nan,\n",
       "            nan,   nan,   nan,   nan,   nan,   nan,   nan,   nan,   nan,\n",
       "            nan,   nan,   nan,   nan,   nan,   nan,   nan,   nan,   nan,\n",
       "            nan,   nan,   nan,   nan,   nan,   nan,   nan,   nan,   nan,\n",
       "            nan,   nan,   nan,   nan,   nan,   nan,   nan,   nan,   nan,\n",
       "            nan,   nan,   nan,   nan,   nan,   nan,   nan,   nan,   nan,\n",
       "            nan,   nan,   nan,   nan,   nan,   nan,   nan,   nan,   nan,\n",
       "            nan,   nan,   nan,   nan,   nan,   nan,   nan,   nan,   nan,\n",
       "            nan,   nan,   nan,   nan,   nan,   nan,   nan,   nan,   nan,\n",
       "            nan,   nan,   nan,   nan,   nan,   nan,   nan,   nan,   nan,\n",
       "            nan,   nan,   nan,   nan,   nan,   nan,   nan,   nan,   nan,\n",
       "            nan,   nan,   nan,   nan,   nan,   nan,   nan,   nan,   nan,\n",
       "            nan,   nan,   nan,   nan,   nan,   nan,   nan,   nan,   nan,\n",
       "            nan,   nan,   nan,   nan,   nan,   nan,   nan,   nan,   nan,\n",
       "            nan,   nan,   nan,   nan,   nan,   nan,   nan,   nan,   nan,\n",
       "            nan,   nan,   nan,   nan,   nan,   nan,   nan,   nan,   nan,\n",
       "            nan,   nan,   nan,   nan,   nan,   nan,   nan,   nan,   nan,\n",
       "            nan,   nan,   nan,   nan,   nan,   nan,   nan,   nan,   nan,\n",
       "            nan,   nan,   nan,   nan,   nan,   nan,   nan,   nan,   nan,\n",
       "            nan,   nan,   nan,   nan,   nan,   nan,   nan,   nan,   nan,\n",
       "            nan,   nan,   nan,   nan,   nan,   nan,   nan,   nan,   nan,\n",
       "            nan,   nan,   nan,   nan,   nan,   nan,   nan,   nan,   nan,\n",
       "            nan,   nan,   nan,   nan,   nan,   nan,   nan,   nan,   nan,\n",
       "            nan,   nan,   nan,   nan,   nan,   nan,   nan,   nan,   nan,\n",
       "            nan,   nan,   nan,   nan,   nan,   nan,   nan,   nan,   nan,\n",
       "            nan,   nan,   nan,   nan,   nan,   nan,   nan,   nan,   nan,\n",
       "            nan,   nan,   nan,   nan,   nan,   nan,   nan,   nan,   nan,\n",
       "            nan,   nan,   nan,   nan,   nan,   nan,   nan,   nan,   nan,\n",
       "            nan,   nan,   nan,   nan,   nan,   nan,   nan,   nan,   nan,\n",
       "            nan,   nan,   nan,   nan,   nan,   nan,   nan,   nan,   nan,\n",
       "            nan,   nan,   nan,   nan,   nan,   nan,   nan,   nan,   nan,\n",
       "            nan,   nan,   nan,   nan,   nan,   nan,   nan,   nan,   nan,\n",
       "            nan,   nan,   nan,   nan,   nan,   nan,   nan,   nan,   nan,\n",
       "            nan,   nan,   nan,   nan,   nan,   nan,   nan,   nan,   nan,\n",
       "            nan,   nan,   nan,   nan,   nan,   nan,   nan,   nan,   nan,\n",
       "            nan,   nan,   nan,   nan,   nan,   nan,   nan,   nan,   nan,\n",
       "            nan,   nan,   nan,   nan,   nan,   nan,   nan,   nan,   nan,\n",
       "            nan,    0.,    0.,    0.,    0.,    0.,   28.,  295.,   76.,\n",
       "            89.,    0.,    0.,    0.,   28.,  305.,    0.,    0.,    0.,\n",
       "             0.,   33.,    0.,  213.,    0.,    0.,    3.,    0.,    0.,\n",
       "             0.,    0.,  104.,    0.,    0.]))),\n",
       " (u'USC00305618',\n",
       "  ((u'PRCP', 1915.0),\n",
       "   array([   0.,    0.,    0.,    0.,    0.,   10.,  216.,    0.,    0.,\n",
       "             0.,    0.,  330.,  625.,    0.,   20.,    0.,   43.,  368.,\n",
       "            18.,    0.,    0.,    0.,  130.,   64.,  117.,    0.,    0.,\n",
       "             5.,    3.,    0.,   51.,  538.,  279.,   41.,    3.,    0.,\n",
       "           114.,    0.,    3.,    0.,    0.,    0.,    0.,    0.,    0.,\n",
       "            23.,  132.,    0.,    0.,    0.,    0.,    0.,    0.,    0.,\n",
       "           109.,  246.,    0.,    0.,    0.,    0.,    0.,    0.,    0.,\n",
       "             0.,   nan,  211.,    0.,    0.,    0.,    0.,    0.,    0.,\n",
       "             0.,    0.,    0.,    0.,    0.,    0.,    0.,    0.,    0.,\n",
       "             8.,    0.,    0.,    0.,    0.,    0.,    0.,    5.,    0.,\n",
       "             0.,    0.,   nan,  401.,    0.,   18.,   13.,    0.,    0.,\n",
       "             0.,   74.,  112.,    0.,    0.,    0.,    0.,    0.,    0.,\n",
       "             0.,    0.,    0.,    0.,   43.,    0.,    0.,    0.,    0.,\n",
       "            13.,   33.,   30.,    0.,    0.,    0.,  112.,   20.,    0.,\n",
       "             0.,   13.,    0.,    0.,    0.,  246.,   58.,    0.,    0.,\n",
       "            23.,   23.,    0.,    0.,    8.,  107.,  241.,    0.,   51.,\n",
       "             0.,   15.,    0.,    0.,    0.,    0.,    0.,    0.,    0.,\n",
       "             0.,    0.,    0.,    5.,    0.,    0.,    0.,    0.,    0.,\n",
       "            84.,    0.,    0.,  272.,    0.,   13.,    0.,    3.,    5.,\n",
       "             0.,   28.,    0.,    0.,    0.,   69.,  340.,    0.,    0.,\n",
       "           389.,    0.,   10.,    0.,    0.,  208.,    0.,    0.,   41.,\n",
       "             0.,    0.,   36.,    0.,    0.,    0.,    0.,    0.,    3.,\n",
       "             0.,   10.,    0.,    0.,   13.,    0.,    0.,    0.,   64.,\n",
       "             0.,   84.,    0.,    0.,   30.,   76.,   13.,   71.,  960.,\n",
       "             0.,  124.,    3.,  310.,   23.,    0.,    0.,  208.,    0.,\n",
       "             0.,    0.,    0.,    0.,    0.,    0.,    0.,    0.,  114.,\n",
       "             0.,    0.,  122.,    0.,    0.,    0.,  198.,   20.,    0.,\n",
       "             0.,    0.,    0.,    0.,    0.,    0.,   13.,    0.,    0.,\n",
       "             0.,    0.,    0.,    0.,    0.,    0.,    0.,    0.,    0.,\n",
       "           351.,    0.,  315.,    0.,    0.,    0.,    0.,   25.,    0.,\n",
       "             0.,    0.,    0.,  112.,  155.,    0.,    0.,   76.,    0.,\n",
       "             0.,  135.,    0.,    0.,    0.,    0.,    0.,   18.,   18.,\n",
       "             0.,    0.,    0.,    0.,   13.,    0.,    0.,    0.,    0.,\n",
       "             0.,   76.,    0.,    0.,    0.,    0.,    0.,    0.,    0.,\n",
       "             0.,   13.,    0.,    0.,    0.,   53.,    0.,    0.,    0.,\n",
       "             0.,    0.,   51.,   69.,    0.,    0.,    0.,  175.,    0.,\n",
       "             0.,    0.,    0.,    0.,    0.,    0.,   25.,    0.,   10.,\n",
       "             0.,   nan,    8.,   nan,    0.,   nan,   nan,   nan,   25.,\n",
       "            nan,   nan,   nan,   nan,  742.,  417.,   nan,   nan,  170.,\n",
       "           142.,   nan,   nan,   nan,   nan,    0.,   nan,   nan,  127.,\n",
       "            nan,   36.,  155.,   nan,   nan]))),\n",
       " (u'USC00305618',\n",
       "  ((u'PRCP', 1916.0),\n",
       "   array([   0.,   58.,    0.,    0.,    8.,    0.,    0.,    0.,    0.,\n",
       "            86.,   30.,   43.,   46.,    0.,    0.,    0.,    0.,    0.,\n",
       "             0.,    0.,    0.,   25.,    0.,    0.,    0.,   13.,    0.,\n",
       "             0.,    0.,   64.,    0.,   33.,  198.,  160.,    0.,    0.,\n",
       "             0.,    0.,    0.,   20.,    0.,    3.,   84.,  150.,    0.,\n",
       "             0.,    0.,    3.,   25.,    0.,   25.,    0.,    0.,    0.,\n",
       "           160.,  429.,   58.,    0.,    0.,    0.,   91.,    0.,    0.,\n",
       "             3.,  345.,    0.,  163.,    0.,   69.,    0.,    0.,    3.,\n",
       "            43.,  193.,   10.,    0.,    5.,    0.,    0.,   28.,  183.,\n",
       "             0.,    0.,    0.,    0.,    0.,    0.,   38.,    5.,    0.,\n",
       "             0.,    8.,    0.,   30.,    0.,   25.,    0.,  163.,  122.,\n",
       "             0.,    0.,    0.,   71.,  302.,    0.,    0.,   13.,    0.,\n",
       "             0.,    0.,    0.,   33.,    5.,    3.,    0.,   15.,   46.,\n",
       "             5.,    0.,    0.,    0.,    3.,    0.,   13.,   28.,    0.,\n",
       "            38.,    3.,    0.,    0.,    0.,    0.,    0.,   30.,   25.,\n",
       "           518.,   94.,    0.,    0.,    0.,    0.,    0.,  102.,    0.,\n",
       "             0.,    0.,    0.,  406.,    0.,    0.,    0.,    0.,    0.,\n",
       "            28.,    0.,    8.,    0.,  287.,  135.,   23.,    0.,   23.,\n",
       "             0.,    8.,    0.,    0.,   36.,  442.,   13.,   61.,    0.,\n",
       "            89.,    0.,    0.,    0.,  114.,    0.,    0.,    0.,    0.,\n",
       "             0.,    0.,   64.,    0.,    0.,   28.,    0.,    0.,    0.,\n",
       "            51.,   23.,   15.,    0.,  290.,   36.,    0.,    0.,   13.,\n",
       "             0.,    0.,   64.,    3.,   74.,   10.,    0.,   58.,   79.,\n",
       "           246.,    0.,    0.,    0.,    0.,    0.,    0.,    0.,    0.,\n",
       "             0.,    0.,   51.,  185.,    0.,   79.,    0.,   13.,    0.,\n",
       "             0.,    0.,    0.,    0.,    0.,    0.,    0.,    0.,    0.,\n",
       "             0.,    0.,    0.,    0.,    0.,   25.,    0.,    0.,    0.,\n",
       "             0.,   10.,    0.,    0.,    3.,    0.,   10.,   91.,  107.,\n",
       "             0.,    0.,    0.,    0.,    0.,  150.,    0.,    0.,    5.,\n",
       "            84.,    0.,    0.,    0.,   30.,    0.,    8.,    0.,    0.,\n",
       "             0.,  163.,    0.,    0.,    0.,    0.,    0.,    0.,    0.,\n",
       "             0.,    0.,    0.,    0.,    0.,    0.,   61.,    0.,    0.,\n",
       "            41.,   13.,    0.,  211.,    0.,    0.,    0.,    0.,    0.,\n",
       "             0.,    0.,    0.,    0.,    0.,    0.,    0.,   38.,    0.,\n",
       "             0.,   15.,   58.,    0.,    0.,    0.,    0.,    0.,    0.,\n",
       "            13.,    8.,    0.,    0.,    3.,    0.,    0.,    0.,    0.,\n",
       "             0.,    0.,  241.,    0.,    0.,    0.,    0.,    0.,   84.,\n",
       "            64.,    0.,    0.,    0.,    3.,    5.,    0.,    0.,    0.,\n",
       "           163.,    0.,   36.,  135.,    0.,    0.,  206.,    0.,    0.,\n",
       "             0.,    0.,   51.,   48.,  264.,    0.,    0.,    0.,    0.,\n",
       "            91.,  104.,    0.,    0.,    0.]))),\n",
       " (u'USC00305618',\n",
       "  ((u'PRCP', 1917.0),\n",
       "   array([   0.,   nan,   74.,   nan,  160.,   nan,   nan,   nan,   20.,\n",
       "            nan,   nan,   nan,   66.,   97.,   23.,   nan,   nan,   28.,\n",
       "            nan,   nan,  142.,   69.,   nan,   nan,    8.,    0.,   33.,\n",
       "            18.,   56.,   nan,   28.,   30.,    0.,    0.,    0.,   76.,\n",
       "             0.,    0.,    0.,  114.,    0.,    0.,    0.,    0.,    0.,\n",
       "            13.,    5.,    0.,    0.,   58.,    0.,    0.,   84.,   69.,\n",
       "            76.,    0.,   28.,    5.,   48.,    0.,   61.,   41.,  259.,\n",
       "           137.,    0.,    0.,  160.,    0.,    0.,   38.,    0.,    0.,\n",
       "           150.,    0.,    0.,  160.,    0.,    0.,    0.,   10.,    0.,\n",
       "            48.,   86.,    0.,    0.,  180.,    0.,    0.,    0.,    0.,\n",
       "             5.,   nan,   nan,   nan,  241.,   15.,   30.,    0.,  160.,\n",
       "            nan,   nan,    3.,    0.,   nan,   nan,   nan,   nan,   nan,\n",
       "             3.,   33.,   89.,   nan,   15.,   nan,   nan,   58.,   nan,\n",
       "            nan,   nan,   15.,  114.,    0.,    0.,  173.,  185.,    0.,\n",
       "             0.,    0.,   46.,    0.,    0.,    8.,    0.,    0.,    0.,\n",
       "             8.,   71.,    0.,    0.,    0.,    0.,   20.,   99.,    0.,\n",
       "             0.,    0.,    3.,  213.,   56.,    0.,    0.,   66.,    5.,\n",
       "            nan,   nan,    0.,   nan,   51.,    3.,   nan,    8.,  147.,\n",
       "            nan,    3.,  340.,    0.,   nan,   nan,   nan,    5.,   nan,\n",
       "            nan,   nan,   53.,   10.,   nan,    0.,   69.,   nan,  112.,\n",
       "            nan,    0.,   33.,  178.,   43.,    0.,    0.,    0.,    0.,\n",
       "             0.,   23.,  216.,   41.,    0.,  102.,   10.,   23.,   15.,\n",
       "             0.,   23.,    0.,    0.,    0.,    0.,    0.,    0.,    0.,\n",
       "             0.,    0.,    0.,    0.,    0.,   84.,   56.,   20.,    0.,\n",
       "             0.,    0.,    0.,    0.,    3.,    0.,    0.,    0.,    0.,\n",
       "             0.,    0.,    0.,    0.,    0.,    0.,    0.,    3.,    0.,\n",
       "            38.,   43.,    0.,    0.,    0.,    0.,    0.,   51.,    0.,\n",
       "           183.,    0.,    0.,    0.,    0.,   13.,    0.,  157.,    0.,\n",
       "             0.,    0.,    0.,    0.,    0.,    0.,    0.,    3.,    0.,\n",
       "             0.,    3.,    0.,    0.,    0.,    0.,    0.,    0.,    0.,\n",
       "            81.,    0.,   18.,   nan,   nan,   nan,    0.,  206.,   nan,\n",
       "            nan,   10.,   76.,   nan,    0.,  170.,   nan,   nan,   nan,\n",
       "             3.,   nan,   nan,   30.,   94.,   nan,   nan,   nan,  521.,\n",
       "            nan,   nan,  135.,   nan,   nan,  396.,   nan,    0.,    0.,\n",
       "             0.,    0.,    0.,    0.,    0.,    0.,    0.,    0.,    0.,\n",
       "             0.,    0.,    0.,    0.,    0.,    0.,    0.,    0.,    0.,\n",
       "            10.,  183.,    5.,    0.,    0.,    0.,    0.,    8.,    0.,\n",
       "           229.,  155.,    0.,    0.,    0.,    0.,    0.,    0.,  384.,\n",
       "             0.,    0.,    0.,    0.,  627.,    0.,    0.,    0.,   20.,\n",
       "             0.,    0.,    0.,    0.,    0.,    0.,   15.,   46.,    0.,\n",
       "             0.,    0.,   15.,    0.,    0.]))),\n",
       " (u'USC00305618',\n",
       "  ((u'PRCP', 1918.0),\n",
       "   array([   0.,    0.,    0.,    0.,    0.,    0.,  117.,    0.,    0.,\n",
       "             0.,  104.,  203.,    0.,    0.,  312.,    0.,    3.,   71.,\n",
       "             0.,    0.,    0.,  107.,    0.,   10.,    3.,    0.,   41.,\n",
       "             0.,   30.,    0.,    0.,    0.,    0.,   25.,    0.,    0.,\n",
       "            18.,    0.,    0.,   64.,    0.,    0.,    0.,    0.,    0.,\n",
       "             3.,    0.,    0.,    0.,  193.,   86.,    0.,   84.,    0.,\n",
       "             0.,  152.,  142.,    0.,    0.,    5.,    0.,    0.,   76.,\n",
       "             0.,    0.,  104.,    0.,   56.,   41.,    0.,    8.,    0.,\n",
       "           160.,    0.,    0.,    0.,    0.,    0.,    0.,    0.,    8.,\n",
       "             0.,    0.,    0.,    0.,    0.,    0.,    0.,    0.,    0.,\n",
       "             0.,    0.,  132.,    0.,    0.,    0.,    0.,    0.,   94.,\n",
       "            71.,   74.,   81.,   28.,    0.,    0.,    0.,   25.,   25.,\n",
       "             0.,    0.,  373.,    0.,    3.,    0.,    0.,    0.,    0.,\n",
       "             0.,    0.,   56.,  244.,    0.,   71.,   13.,    0.,    0.,\n",
       "             0.,    0.,    0.,  107.,    0.,    3.,    0.,   71.,    0.,\n",
       "             0.,    0.,    0.,    0.,    0.,  254.,    0.,   30.,    0.,\n",
       "             5.,    0.,    8.,    0.,    0.,  267.,   25.,    0.,    0.,\n",
       "             0.,    0.,    0.,    0.,  333.,    0.,    0.,  191.,    0.,\n",
       "            53.,    0.,    0.,    0.,    0.,    0.,    0.,    0.,    0.,\n",
       "             0.,  371.,    0.,    0.,   13.,    0.,    0.,    0.,    3.,\n",
       "             0.,  117.,    0.,    0.,    0.,    0.,   33.,    0.,    0.,\n",
       "             0.,   76.,   10.,    0.,    0.,  160.,    0.,    0.,   13.,\n",
       "             0.,    0.,    0.,    0.,    0.,    0.,    0.,    0.,    0.,\n",
       "             0.,    0.,    0.,  554.,  437.,    0.,    0.,    0.,   25.,\n",
       "            20.,    0.,    0.,   30.,    0.,   38.,   36.,   46.,    0.,\n",
       "           104.,    0.,    0.,    0.,    0.,    0.,    0.,    0.,    0.,\n",
       "             0.,    0.,    0.,    0.,    0.,    0.,  300.,    0.,   76.,\n",
       "            25.,    0.,    0.,    0.,    0.,   15.,    0.,   58.,    0.,\n",
       "             0.,    0.,    0.,   66.,    0.,    0.,    0.,    0.,  396.,\n",
       "             0.,  160.,   71.,    0.,    0.,    0.,    0.,   41.,    0.,\n",
       "             0.,    0.,    0.,   91.,    0.,    5.,    0.,    0.,   25.,\n",
       "            20.,    0.,    0.,    0.,    0.,   28.,    3.,    0.,    0.,\n",
       "             0.,    0.,    0.,    0.,   20.,    0.,    0.,    0.,    0.,\n",
       "             0.,    0.,    0.,    0.,    0.,    0.,  117.,    0.,    0.,\n",
       "             0.,   30.,    0.,    0.,    0.,    0.,   23.,    0.,    0.,\n",
       "             0.,    0.,    0.,    0.,    0.,  373.,  206.,   43.,    0.,\n",
       "             0.,    0.,    0.,    0.,    0.,    0.,    0.,  152.,   15.,\n",
       "             0.,    0.,    0.,    3.,    5.,    0.,   23.,    0.,    0.,\n",
       "             0.,    0.,  221.,    0.,   51.,  142.,   36.,    0.,    0.,\n",
       "             0.,    0.,    0.,    0.,  180.,  170.,  170.,    0.,    8.,\n",
       "             0.,    0.,    0.,    0.,   46.]))),\n",
       " (u'USC00305618',\n",
       "  ((u'PRCP', 1919.0),\n",
       "   array([ 137.,  282.,  109.,    3.,    0.,    0.,    0.,   38.,    0.,\n",
       "             0.,    0.,    0.,    0.,    0.,    0.,    0.,    0.,   36.,\n",
       "             0.,    0.,    0.,    0.,  307.,    0.,    0.,    0.,    0.,\n",
       "             0.,    0.,    0.,    0.,    0.,    0.,    0.,   18.,    0.,\n",
       "             0.,    0.,   13.,    0.,    0.,    0.,    0.,    0.,  269.,\n",
       "            74.,    0.,    0.,    3.,    0.,    0.,   61.,   48.,  137.,\n",
       "             0.,  152.,  170.,    0.,    5.,  254.,    0.,    0.,    0.,\n",
       "            79.,    0.,    0.,    0.,  414.,    0.,    0.,    0.,    0.,\n",
       "             3.,   15.,   84.,   15.,   48.,  117.,    0.,    0.,    0.,\n",
       "             0.,    0.,    0.,    0.,  272.,  381.,    0.,    0.,    0.,\n",
       "             0.,    0.,    0.,    3.,   41.,    0.,    0.,    0.,   33.,\n",
       "             0.,  102.,   71.,   13.,    0.,   30.,  386.,    0.,    0.,\n",
       "             0.,    0.,    0.,    0.,    0.,   76.,    0.,    3.,    0.,\n",
       "             0.,    0.,    0.,  218.,    0.,    0.,    0.,    0.,    0.,\n",
       "           104.,    0.,   61.,  310.,    0.,    0.,    0.,    0.,    0.,\n",
       "             0.,  127.,    0.,    0.,    0.,  127.,  117.,  145.,   58.,\n",
       "             0.,    0.,    0.,    0.,    0.,    0.,    0.,    0.,    0.,\n",
       "             0.,    0.,    0.,    5.,    0.,   51.,   43.,    0.,    0.,\n",
       "             0.,    0.,    0.,    0.,    0.,    3.,    0.,    0.,  191.,\n",
       "             0.,    0.,    0.,    0.,    0.,  102.,  173.,    0.,    0.,\n",
       "             0.,    0.,    0.,    0.,    0.,    0.,   23.,    0.,    0.,\n",
       "             0.,   81.,    0.,    3.,    0.,    0.,    0.,   76.,    0.,\n",
       "           175.,  480.,  178.,   20.,  401.,   74.,    0.,    0.,  112.,\n",
       "            18.,   20.,    0.,    0.,   97.,  160.,    0.,    0.,    0.,\n",
       "            13.,  231.,   25.,    0.,    0.,    0.,    0.,    0.,   76.,\n",
       "            79.,  246.,    0.,  122.,  455.,   13.,    0.,    3.,    0.,\n",
       "             0.,   38.,  170.,    0.,   20.,    0.,    0.,  135.,    0.,\n",
       "            10.,  137.,  239.,    0.,    0.,    0.,    0.,    0.,    0.,\n",
       "            51.,  152.,   48.,    0.,    0.,   15.,    5.,    0.,    0.,\n",
       "             0.,   10.,    0.,  371.,  546.,    0.,    0.,    0.,    0.,\n",
       "             0.,    0.,    0.,  132.,   43.,    0.,    0.,    0.,   61.,\n",
       "             0.,    0.,   46.,    0.,   69.,  140.,    0.,  165.,    0.,\n",
       "           114.,    0.,    0.,    0.,    0.,    0.,   41.,  104.,    0.,\n",
       "             0.,    0.,    3.,   23.,    0.,   74.,   66.,   84.,   46.,\n",
       "             0.,    0.,  208.,    0.,    0.,    0.,    0.,    0.,    8.,\n",
       "            13.,  193.,    0.,    0.,    0.,    0.,    0.,    0.,    0.,\n",
       "             0.,    0.,    0.,    0.,   51.,  140.,   18.,    0.,   66.,\n",
       "           112.,    0.,    0.,    0.,    0.,    0.,   86.,   71.,   46.,\n",
       "            99.,  152.,    0.,   56.,   38.,   43.,    0.,   58.,    0.,\n",
       "             0.,   36.,   13.,    5.,    0.,    0.,   53.,    0.,    0.,\n",
       "             0.,    0.,    0.,   81.,    0.]))),\n",
       " (u'USC00305618',\n",
       "  ((u'PRCP', 1920.0),\n",
       "   array([    3.,     0.,     0.,     0.,     0.,     0.,     0.,    71.,\n",
       "            163.,     0.,    30.,     0.,     0.,     0.,     0.,    66.,\n",
       "             51.,     0.,    84.,     5.,     0.,    86.,    36.,   183.,\n",
       "              0.,     0.,     3.,     0.,     0.,     0.,     0.,     0.,\n",
       "              0.,     0.,   254.,   594.,    97.,     0.,     0.,     0.,\n",
       "             66.,     0.,     0.,   119.,     0.,    84.,     0.,     0.,\n",
       "              0.,    28.,     0.,   124.,     0.,     0.,    10.,    36.,\n",
       "              0.,     0.,     0.,     0.,     0.,     0.,     0.,    15.,\n",
       "            508.,     0.,     0.,     0.,     0.,     0.,    64.,   272.,\n",
       "              0.,     0.,    51.,     0.,     0.,    79.,   107.,     0.,\n",
       "              0.,     0.,     0.,     0.,    18.,     0.,     0.,   122.,\n",
       "              0.,     0.,    30.,    99.,    nan,    25.,    30.,    nan,\n",
       "              3.,    nan,     0.,    nan,    nan,    nan,   358.,    nan,\n",
       "             nan,    86.,    86.,    nan,    nan,    58.,   216.,    nan,\n",
       "             76.,    nan,    nan,     8.,    46.,   114.,    nan,    33.,\n",
       "             36.,     0.,     0.,    18.,     0.,     0.,     0.,   188.,\n",
       "              0.,    28.,    66.,     0.,   117.,   104.,     0.,     0.,\n",
       "              0.,     0.,     0.,     0.,   429.,     0.,     0.,     0.,\n",
       "             10.,     0.,     0.,     0.,     0.,     0.,     0.,    nan,\n",
       "             nan,    nan,    36.,   526.,    nan,    nan,    25.,    nan,\n",
       "             nan,    nan,    nan,   191.,    nan,    nan,    25.,   170.,\n",
       "             18.,    nan,    nan,   104.,    nan,    nan,    25.,    nan,\n",
       "             nan,    nan,     0.,    nan,    nan,    nan,    81.,   305.,\n",
       "             20.,    nan,    nan,    13.,    nan,     0.,    nan,    nan,\n",
       "            193.,    nan,    97.,   102.,    nan,    nan,     3.,    13.,\n",
       "             nan,    nan,    71.,    56.,   427.,    nan,    nan,    nan,\n",
       "             nan,    nan,    nan,    91.,     5.,    30.,    nan,    nan,\n",
       "             nan,   117.,   127.,    nan,    53.,   135.,   284.,     0.,\n",
       "             13.,   899.,    58.,   264.,    58.,     0.,    nan,    nan,\n",
       "             20.,     0.,    nan,    nan,     0.,    nan,    nan,     0.,\n",
       "              3.,     0.,     0.,     0.,     0.,     0.,     0.,     0.,\n",
       "              0.,    25.,     0.,     0.,   226.,     0.,   376.,     0.,\n",
       "              0.,     0.,     5.,     0.,     0.,     0.,     0.,    36.,\n",
       "              0.,     0.,     3.,     0.,     3.,     0.,   122.,     0.,\n",
       "           1275.,     0.,     0.,     0.,     0.,     0.,     0.,     0.,\n",
       "              0.,     0.,     0.,     0.,    23.,     0.,     0.,     0.,\n",
       "            122.,     0.,     0.,     0.,     0.,     0.,     0.,     0.,\n",
       "              0.,     0.,     0.,    33.,   102.,     8.,     0.,     0.,\n",
       "              0.,   231.,     0.,     0.,     0.,     0.,    33.,     0.,\n",
       "              0.,     0.,     0.,     0.,     0.,     0.,     8.,   155.,\n",
       "            323.,     0.,     0.,     0.,     0.,   119.,   246.,     0.,\n",
       "             28.,     0.,    15.,     0.,     0.,     0.,   345.,     0.,\n",
       "              0.,   300.,     0.,     0.,     0.,     0.,     3.,    23.,\n",
       "              0.,     0.,     0.,   315.,     0.,     3.,     0.,     0.,\n",
       "              0.,     0.,     0.,   130.,   104.,     0.,     0.,    53.,\n",
       "            191.,     0.,     0.,     0.,     0.]))),\n",
       " (u'USC00305618',\n",
       "  ((u'PRCP', 1921.0),\n",
       "   array([   0.,    5.,    0.,    0.,   36.,    0.,   61.,   23.,    0.,\n",
       "             0.,    0.,    5.,    0.,  452.,    0.,    0.,    0.,    0.,\n",
       "             0.,    0.,    0.,    8.,    0.,    0.,    0.,    0.,    0.,\n",
       "             0.,    0.,   56.,  152.,    0.,    3.,    0.,    0.,   46.,\n",
       "             0.,    8.,    3.,   64.,    0.,  107.,    0.,    0.,    0.,\n",
       "             0.,    0.,    0.,    0.,    0.,  610.,    0.,    5.,    0.,\n",
       "             0.,    0.,    0.,  152.,  114.,   nan,    8.,   20.,   nan,\n",
       "            13.,    8.,   nan,   nan,  178.,   nan,   nan,  104.,   23.,\n",
       "            nan,    3.,   13.,   nan,   nan,    0.,   20.,    5.,   nan,\n",
       "            nan,  142.,  102.,   nan,    3.,   25.,   nan,   nan,  127.,\n",
       "           137.,    0.,    0.,    0.,    0.,    0.,    8.,   86.,    3.,\n",
       "             0.,    8.,    0.,    0.,    0.,  191.,    0.,  132.,   71.,\n",
       "            43.,    0.,    0.,    0.,  170.,    0.,    0.,    0.,    0.,\n",
       "             0.,  211.,   89.,  107.,    0.,    0.,  224.,  239.,    0.,\n",
       "             0.,    0.,    0.,    0.,    0.,    0.,  323.,   23.,    0.,\n",
       "            30.,    0.,    0.,    0.,    0.,    0.,   28.,   58.,    0.,\n",
       "           163.,    0.,    0.,    3.,    0.,    0.,    0.,    0.,    0.,\n",
       "             0.,   20.,    0.,    0.,    0.,    0.,    0.,    0.,   28.,\n",
       "             0.,    0.,    0.,    0.,    0.,   66.,    0.,    0.,    0.,\n",
       "             0.,   20.,   56.,    0.,    0.,  104.,   64.,  119.,  373.,\n",
       "            91.,   30.,    0.,    0.,    0.,    0.,    0.,    0.,    0.,\n",
       "             0.,   20.,    3.,    0.,   13.,    0.,  183.,    0.,    0.,\n",
       "             0.,  323.,    0.,    3.,    0.,    0.,    0.,    0.,   97.,\n",
       "             0.,    0.,   76.,    0.,   51.,   nan,  241.,  165.,   nan,\n",
       "            nan,   nan,  643.,    0.,   nan,   nan,   nan,    0.,   nan,\n",
       "           234.,   nan,   nan,   48.,   53.,   nan,   nan,   nan,   nan,\n",
       "            nan,   nan,   nan,   nan,   nan,   nan,   nan,   nan,    0.,\n",
       "             0.,    0.,   18.,    0.,    0.,   41.,    0.,    0.,    0.,\n",
       "             0.,   71.,   51.,    0.,    0.,    0.,    0.,  135.,   28.,\n",
       "             0.,    0.,  203.,    0.,    0.,    0.,   51.,    0.,    0.,\n",
       "            13.,    0.,  381.,    0.,    0.,   53.,    0.,   43.,    0.,\n",
       "             0.,   41.,    0.,    0.,    0.,   18.,    0.,    0.,    0.,\n",
       "             0.,    0.,    0.,    0.,   64.,    0.,    0.,    0.,    0.,\n",
       "             0.,    0.,    0.,    0.,    0.,    0.,    0.,  160.,    0.,\n",
       "             0.,    0.,    0.,    0.,    0.,    0.,   84.,   13.,    0.,\n",
       "             3.,    0.,   84.,    0.,    0.,  239.,    0.,    0.,  147.,\n",
       "            51.,    0.,    0.,   53.,    0.,   97.,   46.,   74.,    0.,\n",
       "             0.,    0.,  297.,   81.,   nan,    0.,    0.,    0.,    0.,\n",
       "             0.,    0.,    0.,   53.,    0.,    0.,    0.,    0.,    0.,\n",
       "           124.,    0.,    0.,    0.,    0.,   76.,  178.,    0.,    0.,\n",
       "            10.,    0.,   28.,    0.,    0.]))),\n",
       " (u'USC00305618',\n",
       "  ((u'PRCP', 1922.0),\n",
       "   array([   0.,    0.,    8.,   25.,   28.,    0.,    0.,    3.,    0.,\n",
       "             0.,  351.,    0.,    0.,    0.,    0.,    0.,    0.,    0.,\n",
       "             5.,    0.,   91.,    0.,    0.,    0.,    0.,    0.,    0.,\n",
       "            64.,  107.,    0.,    0.,    0.,  224.,    0.,    0.,   10.,\n",
       "            53.,    0.,    0.,    0.,    5.,   61.,  155.,    0.,    0.,\n",
       "           216.,   18.,    0.,    0.,    0.,    0.,    0.,    0.,    5.,\n",
       "             0.,    0.,    0.,  163.,    0.,    0.,  163.,    0.,  102.,\n",
       "            66.,    0.,  221.,    0.,    0.,   56.,  150.,    0.,    0.,\n",
       "             0.,    0.,    0.,    0.,    0.,   94.,  218.,    0.,    0.,\n",
       "             0.,    0.,    0.,    0.,   38.,    0.,    0.,   38.,  168.,\n",
       "           102.,    0.,    0.,   43.,    0.,    0.,   38.,    0.,    0.,\n",
       "             0.,   46.,    0.,    0.,   25.,  170.,    0.,   76.,    3.,\n",
       "            23.,    0.,    0.,    0.,    0.,    0.,    0.,    0.,    0.,\n",
       "             0.,    0.,    0.,    0.,    0.,   51.,  198.,  394.,    0.,\n",
       "             0.,    0.,    0.,    0.,    0.,    0.,    0.,    0.,   15.,\n",
       "             0.,    0.,  221.,  102.,    0.,    0.,    0.,    0.,    0.,\n",
       "            38.,    0.,    0.,    0.,    0.,    0.,    0.,   10.,  180.,\n",
       "           107.,   nan,   84.,  173.,   nan,   nan,    0.,   nan,   86.,\n",
       "            nan,   nan,   nan,   nan,   nan,  178.,  119.,    0.,  163.,\n",
       "           117.,    0.,   nan,    0.,  155.,    0.,  340.,    0.,   71.,\n",
       "            nan,  582.,    0.,  198.,   56.,  122.,    0.,    0.,   53.,\n",
       "             0.,    0.,    0.,    0.,  546.,    0.,   13.,    0.,    0.,\n",
       "            58.,    0.,    0.,    0.,   13.,    5.,   71.,    0.,    0.,\n",
       "             0.,   53.,    0.,    0.,    0.,   53.,   10.,    0.,  406.,\n",
       "             0.,    0.,   15.,    0.,    0.,    0.,    0.,   25.,    0.,\n",
       "             0.,    0.,   15.,    0.,    0.,   66.,    0.,    0.,    0.,\n",
       "             0.,    0.,    3.,   53.,  107.,   89.,    0.,    3.,  127.,\n",
       "             0.,    0.,    0.,  483.,    0.,  124.,    0.,    0.,    0.,\n",
       "             0.,    0.,  490.,    0.,    0.,    0.,    0.,    0.,    0.,\n",
       "             0.,    0.,    0.,    0.,    0.,    0.,    0.,    0.,    0.,\n",
       "             0.,    0.,    0.,    0.,    0.,    0.,    0.,    0.,    0.,\n",
       "           152.,  107.,    0.,  150.,   51.,    0.,    0.,    0.,    0.,\n",
       "             0.,    0.,    0.,    0.,    0.,    0.,    0.,   81.,    0.,\n",
       "             0.,    0.,    0.,    0.,    0.,    0.,    0.,    0.,    0.,\n",
       "           117.,    0.,    0.,   33.,   18.,   15.,    0.,    0.,    0.,\n",
       "             0.,    0.,    0.,   46.,    0.,    0.,    0.,    0.,  114.,\n",
       "             0.,    0.,    0.,    0.,    0.,    0.,   20.,    0.,    0.,\n",
       "             0.,    5.,    0.,    0.,    0.,  117.,    0.,   38.,   58.,\n",
       "             0.,    0.,   20.,   51.,    0.,   79.,   69.,    0.,  160.,\n",
       "             0.,    0.,    0.,   23.,    0.,    0.,    0.,    0.,    0.,\n",
       "             0.,  203.,  140.,    0.,    0.]))),\n",
       " (u'USC00305618',\n",
       "  ((u'PRCP', 1923.0),\n",
       "   array([ 498.,    0.,  152.,  150.,    0.,    0.,    0.,   99.,   89.,\n",
       "             0.,    0.,   74.,    0.,  234.,    0.,    0.,    0.,    0.,\n",
       "             0.,  135.,   76.,  122.,    0.,  183.,    0.,    0.,    0.,\n",
       "            84.,    0.,    0.,    3.,   20.,   10.,   13.,    0.,    0.,\n",
       "           201.,    0.,    0.,    0.,   66.,   94.,    0.,  231.,    0.,\n",
       "             0.,    0.,    0.,    0.,    0.,   36.,    0.,    0.,    0.,\n",
       "             0.,    0.,   51.,   86.,   48.,    0.,    0.,    0.,    0.,\n",
       "             0.,  127.,  104.,    0.,    0.,   36.,    0.,  201.,   76.,\n",
       "             0.,    0.,  224.,   30.,    0.,   10.,    0.,    0.,    5.,\n",
       "           127.,    0.,    0.,    5.,    0.,    0.,    0.,    0.,    0.,\n",
       "             0.,    0.,    0.,   20.,  193.,  122.,    0.,   36.,    0.,\n",
       "             0.,    0.,    0.,    0.,    0.,   43.,    0.,    0.,    0.,\n",
       "             0.,    0.,    0.,    0.,    0.,    0.,    0.,    0.,    0.,\n",
       "           411.,    0.,    0.,    0.,    0.,    0.,    0.,    0.,    0.,\n",
       "             0.,    0.,  196.,    0.,    0.,   58.,   61.,    0.,    8.,\n",
       "             0.,    0.,    0.,    0.,    0.,  191.,    0.,    0.,    0.,\n",
       "             0.,    0.,    0.,    0.,    0.,    0.,    0.,    0.,    0.,\n",
       "           267.,   13.,    0.,  127.,  127.,   18.,    0.,    0.,    0.,\n",
       "             0.,    0.,    0.,  102.,    0.,    0.,    0.,    0.,    0.,\n",
       "             0.,    0.,    0.,    8.,    0.,   64.,    0.,   15.,    0.,\n",
       "             0.,    0.,    0.,  142.,   13.,    0.,    5.,    0.,    0.,\n",
       "             0.,    0.,    0.,    0.,    0.,    0.,   25.,   56.,    0.,\n",
       "             0.,    0.,    0.,    0.,  114.,    0.,   51.,    0.,    0.,\n",
       "             0.,   33.,   43.,    3.,   15.,    0.,    0.,    0.,    0.,\n",
       "             0.,    0.,    0.,    0.,    0.,    0.,    0.,   10.,    0.,\n",
       "             0.,    5.,    0.,    0.,    0.,   51.,    0.,    0.,   86.,\n",
       "             0.,    0.,    0.,    0.,    0.,  140.,   10.,    0.,    0.,\n",
       "             0.,    0.,   10.,   15.,    0.,    0.,    0.,  104.,    0.,\n",
       "             0.,    0.,    0.,    0.,    0.,    0.,    0.,    0.,    0.,\n",
       "             0.,    8.,  343.,  104.,  183.,    0.,    0.,    0.,    0.,\n",
       "             0.,    0.,    0.,    0.,    0.,    0.,    0.,    0.,    0.,\n",
       "             0.,    0.,    0.,    5.,    0.,    0.,    0.,    0.,   20.,\n",
       "             0.,    0.,   15.,   89.,   51.,    0.,    0.,  434.,  498.,\n",
       "             0.,    0.,    0.,    3.,    3.,  104.,    0.,    0.,    0.,\n",
       "             0.,    0.,    0.,   38.,   30.,    0.,    0.,    0.,    0.,\n",
       "             0.,    0.,    0.,    0.,    0.,    0.,    0.,    0.,    0.,\n",
       "             0.,   20.,  483.,   28.,    0.,    0.,   13.,    0.,    0.,\n",
       "           282.,    0.,    0.,    0.,    0.,  333.,  119.,    0.,    0.,\n",
       "            20.,    0.,   33.,    0.,   76.,   30.,    0.,    0.,    0.,\n",
       "             0.,    0.,    0.,   28.,  102.,  124.,   28.,    0.,    0.,\n",
       "            46.,   66.,    0.,   30.,   84.])))]"
      ]
     },
     "execution_count": 54,
     "metadata": {},
     "output_type": "execute_result"
    }
   ],
   "source": [
    "rdd0.take(10) # test output"
   ]
  },
  {
   "cell_type": "code",
   "execution_count": 73,
   "metadata": {
    "slideshow": {
     "slide_type": "subslide"
    }
   },
   "outputs": [
    {
     "name": "stdout",
     "output_type": "stream",
     "text": [
      "number of stations= 45833\n",
      "-rw-rw-r-- 1 ec2-user ec2-user 110449557 Mar  9 06:10 SampleStations.pickle\n"
     ]
    }
   ],
   "source": [
    "groups=rdd0.groupByKey().cache()\n",
    "print 'number of stations=',groups.count()\n",
    "\n",
    "groups1=groups.sample(False,0.01).collect()\n",
    "groups2=[(g[0],[e for e in g[1]]) for g in groups1]\n",
    "\n",
    "dumpS3(groups2,'/Weather/','SampleStations.pickle')"
   ]
  },
  {
   "cell_type": "code",
   "execution_count": 19,
   "metadata": {
    "collapsed": true,
    "slideshow": {
     "slide_type": "subslide"
    }
   },
   "outputs": [],
   "source": [
    "group_Sample=rdd0.sample(False,0.001).groupByKey().mapValues(list).cache()\n",
    "group_Sample.first()"
   ]
  },
  {
   "cell_type": "code",
   "execution_count": 76,
   "metadata": {
    "collapsed": true,
    "slideshow": {
     "slide_type": "subslide"
    }
   },
   "outputs": [],
   "source": [
    "Means=rdd0.aggregateByKey((np.zeros(365),1),\\\n",
    "                          lambda S,D: sumWithNan(S,(D[1],1)),\\\n",
    "                          lambda S1,S2: sumWithNanithNan(S1,S2))\\\n",
    ".cache()#.repartition(N)"
   ]
  },
  {
   "cell_type": "code",
   "execution_count": 77,
   "metadata": {
    "scrolled": true,
    "slideshow": {
     "slide_type": "skip"
    }
   },
   "outputs": [
    {
     "data": {
      "text/plain": [
       "[(u'USC00213727',\n",
       "  (array([[   67.,   511.,   326.,   285.,   122.,   321.,   193.,   155.,\n",
       "             398.,   224.,   421.,   390.,   260.,   254.,   484.,   342.,\n",
       "             249.,   124.,   133.,   194.,   232.,   228.,   267.,   546.,\n",
       "             635.,   270.,    92.,   430.,   328.,   239.,   324.,    71.,\n",
       "             171.,    73.,   244.,   421.,   133.,    54.,    81.,   218.,\n",
       "             317.,   181.,    95.,    91.,   211.,   184.,   302.,   153.,\n",
       "             175.,   244.,   188.,   272.,   115.,   330.,   452.,   159.,\n",
       "             203.,   420.,   393.,   254.,   449.,   412.,   533.,   369.,\n",
       "              51.,   315.,   125.,   317.,   113.,   176.,   730.,   215.,\n",
       "             203.,   663.,   307.,   208.,   448.,   525.,   405.,   544.,\n",
       "             310.,   295.,   365.,   206.,   585.,   391.,   570.,   331.,\n",
       "             528.,   289.,   571.,   507.,   379.,   581.,   336.,   622.,\n",
       "             530.,   473.,   899.,   645.,   242.,   407.,   683.,   547.,\n",
       "             653.,   758.,   665.,   345.,   290.,   920.,  1254.,   641.,\n",
       "             866.,   936.,   300.,   573.,   815.,   899.,   517.,   445.,\n",
       "             982.,  1109.,   501.,  1488.,   859.,   660.,   803.,   401.,\n",
       "             460.,   712.,  1253.,   516.,   424.,   692.,  1740.,   908.,\n",
       "             261.,   664.,   610.,   575.,  1285.,   646.,  1136.,   686.,\n",
       "             579.,   272.,  1032.,   965.,  1645.,   853.,  1163.,  1176.,\n",
       "            1043.,   774.,   396.,   907.,  1185.,  1568.,  1194.,   733.,\n",
       "            1110.,  1271.,  1354.,   740.,   895.,  1183.,   523.,  1106.,\n",
       "            1167.,   862.,  2282.,  1028.,   932.,  1317.,   940.,  1924.,\n",
       "            1074.,  1033.,   668.,  1465.,   904.,  2014.,  2576.,  2526.,\n",
       "            1310.,   378.,   938.,  1472.,  1564.,   818.,  1577.,   590.,\n",
       "            1356.,   760.,   873.,   753.,   931.,   921.,   948.,   792.,\n",
       "            1422.,   880.,  2061.,  1395.,   627.,  2310.,   960.,  1817.,\n",
       "             976.,   586.,  1049.,  1422.,   541.,   341.,   475.,  1453.,\n",
       "             716.,  1341.,  1118.,  1465.,   648.,   813.,   732.,   982.,\n",
       "            1773.,   559.,   465.,   818.,   611.,   860.,   306.,   765.,\n",
       "            1298.,   821.,  1187.,   691.,  1095.,   820.,   424.,  1471.,\n",
       "            1157.,   967.,   881.,   982.,  1258.,  1578.,   752.,   454.,\n",
       "             990.,   923.,   576.,   903.,  1596.,   996.,  1233.,  1265.,\n",
       "             932.,   636.,   328.,   769.,   743.,  1296.,   552.,   790.,\n",
       "             957.,   997.,   564.,   892.,   530.,   663.,   295.,   529.,\n",
       "             986.,  1214.,   547.,   291.,   633.,   333.,   456.,   351.,\n",
       "            1385.,  1208.,  2222.,   614.,   625.,   544.,   322.,   487.,\n",
       "             340.,   730.,   631.,   324.,   610.,   495.,   579.,   294.,\n",
       "             412.,   171.,   547.,   495.,   657.,   392.,   722.,  1085.,\n",
       "             907.,   603.,    86.,    57.,   361.,   264.,   236.,   548.,\n",
       "             547.,   364.,   422.,   655.,   393.,   137.,   116.,   531.,\n",
       "             473.,   475.,   521.,   476.,   675.,   570.,   447.,   197.,\n",
       "             375.,   431.,   518.,   197.,   270.,    16.,    93.,   229.,\n",
       "             199.,   979.,   495.,   345.,   268.,   291.,   351.,   429.,\n",
       "             228.,   302.,   580.,   258.,   412.,   288.,   129.,   173.,\n",
       "             282.,   160.,   172.,   211.,   546.,   197.,   131.,   178.,\n",
       "             434.,   154.,   188.,   232.,   269.]]), 35)),\n",
       " (u'USC00246747',\n",
       "  (array([[  407.,   262.,   309.,    39.,   252.,   556.,   318.,   254.,\n",
       "             185.,   278.,   360.,   181.,   228.,   273.,   425.,   297.,\n",
       "             302.,   485.,   454.,   443.,   160.,   466.,   167.,   256.,\n",
       "             333.,   325.,   200.,   293.,   171.,    80.,    74.,   257.,\n",
       "             351.,   312.,   422.,   284.,   223.,   423.,   432.,   550.,\n",
       "             354.,   166.,   157.,   454.,   314.,    66.,    33.,   346.,\n",
       "             175.,   345.,   420.,    90.,   669.,   327.,   299.,   205.,\n",
       "             216.,   206.,   727.,   290.,   575.,   456.,   311.,   393.,\n",
       "             534.,   193.,   526.,   397.,   308.,   267.,   653.,   579.,\n",
       "             538.,   163.,   437.,   963.,   628.,   485.,   365.,   179.,\n",
       "            1197.,   878.,   477.,   680.,   280.,  1053.,   822.,   409.,\n",
       "            1190.,   724.,   493.,   707.,   690.,   858.,   717.,   331.,\n",
       "             634.,   781.,   571.,   693.,  1030.,   683.,   457.,   492.,\n",
       "             361.,   984.,   460.,   575.,  1294.,  1213.,   671.,   342.,\n",
       "            1707.,   495.,  1539.,  2601.,  1356.,  2038.,  1038.,  1080.,\n",
       "            1195.,   977.,  1013.,   530.,   642.,  1569.,  2361.,  1481.,\n",
       "            1059.,   894.,  1722.,  2169.,   928.,   817.,  1502.,   764.,\n",
       "            1397.,  1269.,  1575.,  1246.,  1881.,  2130.,  1673.,  1495.,\n",
       "            1474.,  1656.,  2066.,  1014.,  1358.,  1087.,   995.,   556.,\n",
       "             847.,  1043.,   959.,   911.,  1444.,  2177.,  1972.,  1431.,\n",
       "            1196.,   793.,  1133.,   923.,  2223.,  1666.,  1488.,  1030.,\n",
       "            1151.,   696.,   476.,  1054.,   702.,   802.,   986.,  1271.,\n",
       "             677.,   709.,   438.,   421.,   627.,   158.,   533.,  1093.,\n",
       "             483.,   546.,   561.,  1252.,   239.,   360.,   538.,   906.,\n",
       "             613.,   326.,   376.,   236.,   131.,   549.,    94.,   334.,\n",
       "             178.,   511.,   315.,   496.,   608.,   284.,   922.,   765.,\n",
       "             491.,  1082.,   188.,   351.,   621.,   626.,   737.,   239.,\n",
       "             480.,   224.,   103.,   262.,   481.,   812.,   156.,   759.,\n",
       "             335.,   628.,   195.,   347.,   379.,   119.,   376.,  1212.,\n",
       "             701.,   792.,   636.,   305.,   434.,   338.,   521.,    91.,\n",
       "             553.,   312.,   516.,   859.,   620.,   495.,   371.,    92.,\n",
       "             233.,   532.,   843.,   825.,   292.,  1254.,  1575.,  1130.,\n",
       "             865.,   569.,   787.,   886.,  1559.,  1083.,   503.,   995.,\n",
       "             677.,   625.,   442.,   325.,   237.,   902.,   367.,   201.,\n",
       "             425.,   780.,   656.,   363.,  1161.,   896.,  1083.,   886.,\n",
       "             954.,   686.,   428.,   363.,   616.,   404.,   172.,   987.,\n",
       "            1324.,   790.,   616.,   316.,   371.,   740.,   874.,   430.,\n",
       "             724.,   215.,   488.,   296.,  1129.,   734.,   172.,  1545.,\n",
       "             770.,   497.,   315.,   313.,   369.,   364.,   463.,   198.,\n",
       "             563.,   493.,   455.,   509.,   607.,   321.,   605.,   873.,\n",
       "             133.,   584.,   333.,   129.,   136.,   237.,   150.,   662.,\n",
       "             556.,   410.,   363.,   219.,   236.,   120.,   398.,   336.,\n",
       "             239.,   675.,   201.,   135.,   442.,   157.,   109.,   130.,\n",
       "             254.,   101.,   258.,   283.,   447.,   265.,   175.,   262.,\n",
       "             263.,   143.,   383.,   314.,   291.,   210.,   135.,   455.,\n",
       "             201.,   273.,   232.,   262.,   113.]]), 64)),\n",
       " (u'US1GATG0001',\n",
       "  (array([[   30.,   175.,    38.,     5.,   147.,   104.,    51.,     8.,\n",
       "              10.,   144.,   162.,    43.,     0.,     0.,     0.,     0.,\n",
       "             521.,   203.,   153.,     0.,   414.,   160.,    28.,    36.,\n",
       "             399.,   175.,   109.,     0.,    43.,   414.,    58.,    10.,\n",
       "             290.,    15.,   470.,   803.,   254.,    13.,    74.,     0.,\n",
       "             180.,     0.,     5.,   185.,    96.,     8.,    91.,    10.,\n",
       "               5.,   724.,     0.,     0.,     0.,   224.,     0.,   105.,\n",
       "              13.,    10.,    36.,   127.,   312.,   145.,   320.,    28.,\n",
       "              86.,     0.,     0.,     0.,   218.,    51.,   218.,   458.,\n",
       "               5.,    56.,   393.,   249.,   114.,     0.,     0.,     0.,\n",
       "              25.,   117.,    15.,     0.,     0.,    53.,   180.,   503.,\n",
       "              10.,   325.,   466.,   406.,   519.,     0.,   340.,   435.,\n",
       "               0.,     0.,    36.,     0.,     0.,    18.,    31.,   274.,\n",
       "              16.,     0.,     0.,     0.,   109.,    45.,    69.,    36.,\n",
       "              33.,    40.,   269.,     0.,     0.,   318.,    58.,     0.,\n",
       "               0.,     0.,    56.,   470.,    99.,   147.,    15.,   302.,\n",
       "              97.,    76.,   277.,     0.,     8.,   211.,   188.,    81.,\n",
       "             196.,   320.,    61.,     0.,   117.,   239.,   114.,   145.,\n",
       "              74.,    97.,   124.,     3.,   285.,    13.,    66.,   173.,\n",
       "               0.,    38.,   109.,   307.,   620.,    10.,     0.,     0.,\n",
       "              58.,   549.,   109.,    20.,    13.,     0.,   691.,   284.,\n",
       "             295.,     0.,     0.,     0.,     0.,    58.,   115.,     0.,\n",
       "               0.,    15.,    13.,    53.,   691.,   170.,   420.,     0.,\n",
       "              79.,     0.,   175.,   359.,     0.,   351.,    97.,   152.,\n",
       "             678.,   157.,   303.,    79.,    89.,    94.,    23.,    58.,\n",
       "               5.,     0.,   158.,     0.,     0.,     0.,   188.,   579.,\n",
       "             201.,    20.,     0.,   152.,   356.,     0.,   163.,     0.,\n",
       "              23.,   104.,   114.,   107.,   297.,   238.,     0.,     0.,\n",
       "             292.,   328.,   175.,    87.,   343.,    92.,    18.,   170.,\n",
       "              81.,     5.,    58.,   302.,    81.,   155.,   445.,   124.,\n",
       "             150.,    10.,    81.,     8.,   130.,     0.,   102.,   122.,\n",
       "              13.,     0.,     0.,   287.,   117.,     3.,    84.,     0.,\n",
       "              13.,     0.,   143.,    48.,   874.,   310.,   513.,    10.,\n",
       "              89.,   343.,    56.,     0.,    79.,   861.,   244.,     0.,\n",
       "             180.,   130.,   155.,     3.,    10.,   297.,   290.,     0.,\n",
       "               8.,    23.,    76.,    92.,    94.,   315.,   317.,   196.,\n",
       "             178.,     0.,    79.,   584.,     0.,     5.,     0.,     0.,\n",
       "             115.,   460.,   384.,   518.,   274.,    64.,     0.,     8.,\n",
       "              61.,     0.,    58.,   106.,     0.,    76.,    10.,     3.,\n",
       "               0.,     3.,   579.,    28.,    66.,   231.,   173.,   107.,\n",
       "             416.,     0.,     0.,     8.,    25.,     0.,   363.,     5.,\n",
       "               5.,     0.,     0.,    84.,   445.,   769.,   203.,   185.,\n",
       "             318.,     0.,     0.,     0.,    23.,    18.,   127.,     0.,\n",
       "            1199.,   340.,   597.,    91.,   460.,     5.,    74.,   424.,\n",
       "             458.,     0.,   160.,    74.,    91.,     0.,   696.,   698.,\n",
       "             292.,     0.,   109.,     0.,    58.]]), 7)),\n",
       " (u'US1WYNT0044',\n",
       "  (array([[  15.,    0.,    0.,    0.,    0.,    0.,    0.,    0.,   18.,\n",
       "             15.,   76.,    0.,    0.,    0.,    0.,    0.,   13.,    0.,\n",
       "              5.,   48.,    0.,   69.,    5.,   41.,    0.,    0.,    0.,\n",
       "              0.,    0.,    0.,   13.,    0.,    0.,   64.,    0.,    0.,\n",
       "              0.,    5.,    0.,    0.,    0.,   15.,    0.,   30.,    0.,\n",
       "              3.,    0.,    0.,    0.,    0.,  102.,   69.,    0.,   79.,\n",
       "             10.,    3.,   51.,    0.,    0.,    0.,    0.,   13.,    3.,\n",
       "              0.,    0.,    0.,    0.,    0.,    0.,    0.,    0.,    0.,\n",
       "              0.,    0.,    0.,    0.,    0.,   20.,   41.,    0.,    0.,\n",
       "              0.,    0.,    0.,    0.,    0.,    0.,    0.,    0.,    0.,\n",
       "              0.,    0.,  122.,   28.,    0.,   13.,    0.,    5.,    0.,\n",
       "             46.,   20.,    3.,   18.,    5.,   20.,    0.,    0.,    5.,\n",
       "              0.,    0.,    0.,    0.,    0.,    0.,    0.,    3.,   13.,\n",
       "             10.,   71.,   79.,    8.,    0.,    0.,   21.,   18.,    0.,\n",
       "              0.,    0.,    0.,   89.,    3.,   86.,    0.,    0.,    0.,\n",
       "              0.,    0.,    0.,  227.,   97.,   58.,   33.,   51.,  186.,\n",
       "             66.,   28.,    0.,    0.,  152.,   38.,    3.,    0.,    0.,\n",
       "              3.,    0.,    0.,   20.,    0.,    0.,    0.,   89.,    0.,\n",
       "             30.,    0.,    5.,    0.,   48.,   38.,    0.,    0.,  193.,\n",
       "             53.,    0.,    0.,    0.,   56.,   58.,    0.,    0.,    0.,\n",
       "             20.,    0.,  112.,    0.,    0.,    0.,    0.,   10.,   23.,\n",
       "              0.,    0.,    0.,    3.,   64.,    3.,    0.,    0.,    0.,\n",
       "              0.,    0.,    0.,    0.,    0.,    0.,    0.,    0.,    0.,\n",
       "            130.,    5.,    0.,    0.,    0.,    0.,   56.,    0.,    8.,\n",
       "              0.,    0.,    0.,    3.,    0.,    5.,    0.,    0.,    0.,\n",
       "              0.,    0.,    3.,    0.,    0.,    0.,    0.,   18.,    0.,\n",
       "              0.,    0.,    0.,    0.,    0.,    0.,    8.,    0.,    0.,\n",
       "             10.,    0.,    0.,    0.,    0.,    0.,    0.,    0.,    0.,\n",
       "              0.,    0.,    0.,   10.,    0.,   13.,    0.,    0.,   13.,\n",
       "              0.,    0.,    0.,    0.,    0.,    0.,    0.,    0.,    0.,\n",
       "              0.,    0.,    0.,    0.,    0.,    0.,    0.,    0.,    0.,\n",
       "              0.,    0.,    0.,    0.,    0.,    5.,    0.,    0.,    0.,\n",
       "              0.,   89.,    5.,    0.,    0.,    0.,    0.,    0.,    0.,\n",
       "             10.,   10.,   20.,    0.,    0.,    0.,   20.,    0.,    0.,\n",
       "              0.,    0.,    0.,    0.,    0.,    0.,    3.,   61.,    5.,\n",
       "              0.,   38.,    0.,    0.,   21.,   25.,    0.,  130.,    0.,\n",
       "              5.,    0.,    0.,    0.,    0.,    8.,    0.,    0.,    3.,\n",
       "              0.,   66.,    5.,   15.,   20.,    5.,    0.,    0.,    0.,\n",
       "              0.,    0.,    3.,    0.,    0.,    0.,   91.,    0.,    0.,\n",
       "              0.,    0.,   10.,    8.,   74.,    0.,    0.,    0.,    0.,\n",
       "              0.,    0.,    0.,   61.,   71.]]), 4)),\n",
       " (u'US1MECM0008',\n",
       "  (array([[   66.,   132.,   101.,    13.,     0.,     0.,    20.,     0.,\n",
       "              10.,     0.,     0.,     5.,   412.,    25.,     0.,     0.,\n",
       "              15.,   224.,   183.,   229.,    25.,   130.,     0.,   124.,\n",
       "              72.,   305.,   201.,   224.,     8.,     0.,     0.,    38.,\n",
       "              84.,   160.,     0.,     0.,   155.,     0.,    36.,    10.,\n",
       "               0.,     0.,    13.,     0.,     0.,     0.,     0.,    36.,\n",
       "               0.,     0.,     0.,    18.,    25.,     0.,     3.,   605.,\n",
       "            1117.,    54.,    74.,   374.,    92.,     0.,     0.,     0.,\n",
       "               5.,   544.,    53.,     0.,     0.,   152.,   117.,     0.,\n",
       "             115.,   726.,    38.,   152.,     3.,    18.,    13.,     0.,\n",
       "             112.,   191.,   493.,    33.,    71.,     0.,     0.,    64.,\n",
       "             358.,   772.,   122.,   157.,     0.,     0.,   127.,    48.,\n",
       "              13.,     3.,     8.,   117.,   114.,   104.,     0.,   378.,\n",
       "               0.,     0.,   556.,   109.,     0.,    68.,     8.,     0.,\n",
       "             536.,   653.,     3.,    46.,    13.,    94.,    64.,     0.,\n",
       "               0.,     5.,     0.,     3.,    92.,    15.,    30.,    46.,\n",
       "              76.,     0.,     8.,     0.,     0.,     0.,    61.,   267.,\n",
       "              58.,    41.,   274.,   265.,     0.,    10.,    20.,    61.,\n",
       "               0.,     0.,     0.,     0.,     0.,     0.,     0.,     0.,\n",
       "              63.,  1397.,   417.,   388.,   148.,   325.,     0.,   233.,\n",
       "              43.,    36.,     0.,    21.,   155.,     8.,     0.,    10.,\n",
       "              28.,    48.,     0.,    28.,     0.,   129.,   152.,   254.,\n",
       "              64.,     0.,   213.,    10.,     0.,     0.,   112.,   130.,\n",
       "              82.,   383.,     0.,    46.,     0.,     3.,     0.,   102.,\n",
       "              11.,     0.,   328.,    10.,    38.,     0.,    15.,     8.,\n",
       "               0.,     0.,   772.,     0.,   315.,   803.,    91.,   635.,\n",
       "              23.,    20.,   777.,    53.,   178.,     0.,     5.,     0.,\n",
       "               0.,    74.,     0.,     0.,     0.,   574.,   218.,    35.,\n",
       "               0.,     0.,    15.,   810.,    69.,   147.,    18.,     5.,\n",
       "               0.,    20.,    36.,   409.,    58.,   579.,     0.,   244.,\n",
       "             496.,   221.,     8.,     0.,     0.,    48.,   338.,   285.,\n",
       "             168.,    31.,   233.,    82.,     3.,     0.,     0.,     8.,\n",
       "              10.,    13.,   259.,   104.,     3.,   208.,     5.,     5.,\n",
       "             114.,    61.,   303.,     5.,     0.,     8.,   216.,   434.,\n",
       "             229.,   163.,   209.,     0.,   663.,    46.,    29.,   480.,\n",
       "             184.,     0.,     0.,     0.,     0.,    73.,   224.,   747.,\n",
       "             330.,     5.,     5.,   142.,   477.,    28.,    31.,     3.,\n",
       "              74.,   300.,    76.,    94.,   251.,    23.,   708.,    34.,\n",
       "              30.,     0.,     0.,     0.,   437.,    49.,     0.,   348.,\n",
       "             175.,    48.,   234.,     3.,     0.,    51.,  1323.,     0.,\n",
       "              71.,     0.,     0.,    15.,   114.,     0.,    36.,     3.,\n",
       "               3.,    46.,    41.,   467.,     0.,   135.,    56.,   303.,\n",
       "             371.,    13.,    64.,   102.,   102.,   381.,     0.,   452.,\n",
       "               0.,     0.,   584.,   280.,     0.,    58.,     8.,     0.,\n",
       "               0.,     0.,    30.,     3.,    51.,     0.,     0.,    13.,\n",
       "               0.,   604.,    56.,     0.,    13.]]), 6))]"
      ]
     },
     "execution_count": 77,
     "metadata": {},
     "output_type": "execute_result"
    }
   ],
   "source": [
    "Means.take(5)"
   ]
  },
  {
   "cell_type": "code",
   "execution_count": 78,
   "metadata": {
    "slideshow": {
     "slide_type": "subslide"
    }
   },
   "outputs": [
    {
     "name": "stdout",
     "output_type": "stream",
     "text": [
      "number of stations= 45833\n"
     ]
    }
   ],
   "source": [
    "groups=rdd0.groupByKey().cache()\n",
    "print 'number of stations=',groups.count()\n"
   ]
  },
  {
   "cell_type": "code",
   "execution_count": null,
   "metadata": {
    "collapsed": true
   },
   "outputs": [],
   "source": []
  }
 ],
 "metadata": {
  "anaconda-cloud": {},
  "celltoolbar": "Slideshow",
  "kernelspec": {
   "display_name": "Python 3",
   "language": "python",
   "name": "python3"
  },
  "language_info": {
   "codemirror_mode": {
    "name": "ipython",
    "version": 3
   },
   "file_extension": ".py",
   "mimetype": "text/x-python",
   "name": "python",
   "nbconvert_exporter": "python",
   "pygments_lexer": "ipython3",
   "version": "3.6.3"
  },
  "name": "PCA_using_numpy for HW3",
  "notebookId": 85286,
  "toc": {
   "colors": {
    "hover_highlight": "#DAA520",
    "running_highlight": "#FF0000",
    "selected_highlight": "#FFD700"
   },
   "moveMenuLeft": true,
   "nav_menu": {
    "height": "100px",
    "width": "252px"
   },
   "navigate_menu": true,
   "number_sections": true,
   "sideBar": true,
   "threshold": 4,
   "toc_cell": false,
   "toc_section_display": "block",
   "toc_window_display": false
  }
 },
 "nbformat": 4,
 "nbformat_minor": 1
}
