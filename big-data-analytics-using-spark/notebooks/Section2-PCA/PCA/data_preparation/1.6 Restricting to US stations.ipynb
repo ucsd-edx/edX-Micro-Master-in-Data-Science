{
 "cells": [
  {
   "cell_type": "markdown",
   "metadata": {
    "slideshow": {
     "slide_type": "slide"
    }
   },
   "source": [
    "# Data Cleaning"
   ]
  },
  {
   "cell_type": "code",
   "execution_count": null,
   "metadata": {
    "collapsed": true
   },
   "outputs": [],
   "source": [
    "%%time\n",
    "%pwd\n",
    "from pyspark import SparkContext\n",
    "sc = SparkContext(pyFiles=['/mnt/workspace/edX-Micro-Master-in-Data-Science/big-data-analytics-using-spark/notebooks/Section2-PCA/PCA/data_preparation/lib/numpy_pack.py'])"
   ]
  },
  {
   "cell_type": "code",
   "execution_count": 7,
   "metadata": {
    "slideshow": {
     "slide_type": "skip"
    }
   },
   "outputs": [],
   "source": [
    "from pyspark import SparkContext\n",
    "from pyspark.sql import SQLContext\n",
    "from pyspark.sql.types import Row, StructField, StructType, StringType, IntegerType, BinaryType, FloatType\n",
    "\n",
    "sqlContext = SQLContext(sc)"
   ]
  },
  {
   "cell_type": "code",
   "execution_count": 2,
   "metadata": {
    "collapsed": true,
    "slideshow": {
     "slide_type": "skip"
    }
   },
   "outputs": [],
   "source": [
    "#sc.stop()\n"
   ]
  },
  {
   "cell_type": "code",
   "execution_count": 2,
   "metadata": {
    "slideshow": {
     "slide_type": "skip"
    }
   },
   "outputs": [
    {
     "name": "stdout",
     "output_type": "stream",
     "text": [
      "716\t/mnt/workspace/Data/US_stations.tsv\r\n",
      "2248960\t/mnt/workspace/Data/weather.parquet\r\n"
     ]
    }
   ],
   "source": [
    "!du -s /mnt/workspace/Data/*"
   ]
  },
  {
   "cell_type": "code",
   "execution_count": 13,
   "metadata": {},
   "outputs": [
    {
     "data": {
      "text/html": [
       "<div>\n",
       "<style scoped>\n",
       "    .dataframe tbody tr th:only-of-type {\n",
       "        vertical-align: middle;\n",
       "    }\n",
       "\n",
       "    .dataframe tbody tr th {\n",
       "        vertical-align: top;\n",
       "    }\n",
       "\n",
       "    .dataframe thead th {\n",
       "        text-align: right;\n",
       "    }\n",
       "</style>\n",
       "<table border=\"1\" class=\"dataframe\">\n",
       "  <thead>\n",
       "    <tr style=\"text-align: right;\">\n",
       "      <th></th>\n",
       "      <th>station</th>\n",
       "      <th>dist_coast</th>\n",
       "      <th>latitude</th>\n",
       "      <th>longitude</th>\n",
       "      <th>elevation</th>\n",
       "      <th>state</th>\n",
       "      <th>name</th>\n",
       "    </tr>\n",
       "  </thead>\n",
       "  <tbody>\n",
       "    <tr>\n",
       "      <th>0</th>\n",
       "      <td>USC00044534</td>\n",
       "      <td>107.65500</td>\n",
       "      <td>36.0042</td>\n",
       "      <td>-119.9600</td>\n",
       "      <td>73.2</td>\n",
       "      <td>CA</td>\n",
       "      <td>KETTLEMAN CITY</td>\n",
       "    </tr>\n",
       "    <tr>\n",
       "      <th>1</th>\n",
       "      <td>USC00356784</td>\n",
       "      <td>0.61097</td>\n",
       "      <td>42.7519</td>\n",
       "      <td>-124.5011</td>\n",
       "      <td>12.8</td>\n",
       "      <td>OR</td>\n",
       "      <td>PORT ORFORD NO 2</td>\n",
       "    </tr>\n",
       "    <tr>\n",
       "      <th>2</th>\n",
       "      <td>USC00243581</td>\n",
       "      <td>1316.54000</td>\n",
       "      <td>47.1064</td>\n",
       "      <td>-104.7183</td>\n",
       "      <td>632.8</td>\n",
       "      <td>MT</td>\n",
       "      <td>GLENDIVE</td>\n",
       "    </tr>\n",
       "    <tr>\n",
       "      <th>3</th>\n",
       "      <td>USC00205601</td>\n",
       "      <td>685.50100</td>\n",
       "      <td>41.7500</td>\n",
       "      <td>-84.2167</td>\n",
       "      <td>247.2</td>\n",
       "      <td>MI</td>\n",
       "      <td>MORENCI</td>\n",
       "    </tr>\n",
       "    <tr>\n",
       "      <th>4</th>\n",
       "      <td>CA005010480</td>\n",
       "      <td>908.27100</td>\n",
       "      <td>49.9170</td>\n",
       "      <td>-99.9500</td>\n",
       "      <td>409.0</td>\n",
       "      <td>NaN</td>\n",
       "      <td>BRANDON AIRPORT</td>\n",
       "    </tr>\n",
       "  </tbody>\n",
       "</table>\n",
       "</div>"
      ],
      "text/plain": [
       "       station  dist_coast  latitude  longitude  elevation state  \\\n",
       "0  USC00044534   107.65500   36.0042  -119.9600       73.2    CA   \n",
       "1  USC00356784     0.61097   42.7519  -124.5011       12.8    OR   \n",
       "2  USC00243581  1316.54000   47.1064  -104.7183      632.8    MT   \n",
       "3  USC00205601   685.50100   41.7500   -84.2167      247.2    MI   \n",
       "4  CA005010480   908.27100   49.9170   -99.9500      409.0   NaN   \n",
       "\n",
       "               name  \n",
       "0    KETTLEMAN CITY  \n",
       "1  PORT ORFORD NO 2  \n",
       "2          GLENDIVE  \n",
       "3           MORENCI  \n",
       "4   BRANDON AIRPORT  "
      ]
     },
     "execution_count": 13,
     "metadata": {},
     "output_type": "execute_result"
    }
   ],
   "source": [
    "import pandas as pd\n",
    "stations_pdf=pd.read_csv('/mnt/workspace/Data/US_stations.tsv',sep='\\t')\n",
    "stations_pdf.head()"
   ]
  },
  {
   "cell_type": "code",
   "execution_count": 21,
   "metadata": {},
   "outputs": [
    {
     "data": {
      "text/plain": [
       "StructType(List(StructField(Station,StringType,true),StructField(dist_coast,FloatType,true),StructField(latitude,FloatType,true),StructField(longitude,FloatType,true),StructField(elevation,FloatType,true),StructField(state,StringType,true),StructField(name,StringType,true)))"
      ]
     },
     "execution_count": 21,
     "metadata": {},
     "output_type": "execute_result"
    }
   ],
   "source": [
    "schema = StructType([StructField(\"Station\",     StringType(), True),\n",
    "                     StructField(\"dist_coast\",  FloatType(), True),\n",
    "                     StructField(\"latitude\",    FloatType(),True),\n",
    "                     StructField(\"longitude\",    FloatType(),True),\n",
    "                     StructField(\"elevation\",    FloatType(),True),\n",
    "                     StructField(\"state\",     StringType(), True),\n",
    "                     StructField(\"name\",     StringType(), True),\n",
    "                    ])\n",
    "schema"
   ]
  },
  {
   "cell_type": "code",
   "execution_count": 35,
   "metadata": {},
   "outputs": [
    {
     "name": "stdout",
     "output_type": "stream",
     "text": [
      "+-----------+----------+--------+---------+---------+-----+----------------+\n",
      "|    Station|dist_coast|latitude|longitude|elevation|state|            name|\n",
      "+-----------+----------+--------+---------+---------+-----+----------------+\n",
      "|USC00044534|   107.655| 36.0042|  -119.96|     73.2|   CA|  KETTLEMAN CITY|\n",
      "|USC00356784|   0.61097| 42.7519|-124.5011|     12.8|   OR|PORT ORFORD NO 2|\n",
      "|USC00243581|   1316.54| 47.1064|-104.7183|    632.8|   MT|        GLENDIVE|\n",
      "|USC00205601|   685.501|   41.75| -84.2167|    247.2|   MI|         MORENCI|\n",
      "+-----------+----------+--------+---------+---------+-----+----------------+\n",
      "only showing top 4 rows\n",
      "\n"
     ]
    }
   ],
   "source": [
    "stations = sqlContext.createDataFrame(stations_pdf,schema)\n",
    "stations.show(4)"
   ]
  },
  {
   "cell_type": "code",
   "execution_count": 34,
   "metadata": {
    "scrolled": true,
    "slideshow": {
     "slide_type": "subslide"
    }
   },
   "outputs": [
    {
     "name": "stdout",
     "output_type": "stream",
     "text": [
      "+-----------+-----------+----+--------------------+\n",
      "|    Station|Measurement|Year|              Values|\n",
      "+-----------+-----------+----+--------------------+\n",
      "|IN011020501|       PRCP|1939|[00 00 00 00 00 0...|\n",
      "|IN011020501|       PRCP|1940|[00 00 00 00 00 0...|\n",
      "|IN011020501|       PRCP|1941|[00 00 00 00 00 0...|\n",
      "|IN011020501|       PRCP|1942|[00 00 00 00 00 0...|\n",
      "+-----------+-----------+----+--------------------+\n",
      "only showing top 4 rows\n",
      "\n",
      "CPU times: user 4 ms, sys: 0 ns, total: 4 ms\n",
      "Wall time: 1.8 s\n"
     ]
    }
   ],
   "source": [
    "%%time\n",
    "Query=\"\"\"\n",
    "SELECT *\n",
    "FROM parquet.`/weather/weather.parquet` \n",
    "WHERE (Measurement='PRCP'\n",
    "\t or Measurement='TMIN'\n",
    "\t or Measurement='TMAX'\n",
    "\t or Measurement='SNOW'\n",
    "\t or Measurement='SNWD'\n",
    "\t or Measurement='TOBS')\n",
    "\"\"\"\n",
    "Weather = sqlContext.sql(Query)\n",
    "Weather.show(4)"
   ]
  },
  {
   "cell_type": "code",
   "execution_count": 42,
   "metadata": {},
   "outputs": [
    {
     "name": "stdout",
     "output_type": "stream",
     "text": [
      "+-----------+-----------+----+--------------------+\n",
      "|    Station|Measurement|Year|              Values|\n",
      "+-----------+-----------+----+--------------------+\n",
      "|CA001013051|       PRCP|1974|[00 7E 00 7E 00 7...|\n",
      "|CA001013051|       PRCP|1975|[00 00 00 54 28 5...|\n",
      "|CA001013051|       PRCP|1976|[00 00 C0 50 98 5...|\n",
      "|CA001013051|       PRCP|1977|[00 7E 00 7E 00 0...|\n",
      "|CA001013051|       PRCP|1978|[00 00 20 54 30 5...|\n",
      "+-----------+-----------+----+--------------------+\n",
      "only showing top 5 rows\n",
      "\n",
      "CPU times: user 4 ms, sys: 0 ns, total: 4 ms\n",
      "Wall time: 22.4 s\n"
     ]
    }
   ],
   "source": [
    "%%time\n",
    "US_Weather=stations.select('Station').join(Weather,on='Station', how='inner')\n",
    "US_Weather.show(5)"
   ]
  },
  {
   "cell_type": "code",
   "execution_count": 46,
   "metadata": {},
   "outputs": [
    {
     "name": "stdout",
     "output_type": "stream",
     "text": [
      "+-----------+-------+\n",
      "|Measurement|  count|\n",
      "+-----------+-------+\n",
      "|       TMIN| 969579|\n",
      "|       TOBS| 478981|\n",
      "|       TMAX| 967931|\n",
      "|       SNOW| 881399|\n",
      "|       SNWD| 864192|\n",
      "|       PRCP|2521007|\n",
      "+-----------+-------+\n",
      "\n",
      "CPU times: user 4 ms, sys: 0 ns, total: 4 ms\n",
      "Wall time: 3.55 s\n"
     ]
    }
   ],
   "source": [
    "%%time\n",
    "Weather.groupBy('Measurement').count().show()"
   ]
  },
  {
   "cell_type": "code",
   "execution_count": 43,
   "metadata": {},
   "outputs": [
    {
     "data": {
      "text/plain": [
       "3259494"
      ]
     },
     "execution_count": 43,
     "metadata": {},
     "output_type": "execute_result"
    }
   ],
   "source": [
    "US_Weather.count()"
   ]
  },
  {
   "cell_type": "code",
   "execution_count": 48,
   "metadata": {},
   "outputs": [
    {
     "name": "stdout",
     "output_type": "stream",
     "text": [
      "CPU times: user 0 ns, sys: 0 ns, total: 0 ns\n",
      "Wall time: 9.36 ms\n"
     ]
    }
   ],
   "source": [
    "%%time\n",
    "count_by_year=Weather.groupBy('Year').count()"
   ]
  },
  {
   "cell_type": "code",
   "execution_count": 49,
   "metadata": {
    "collapsed": true
   },
   "outputs": [],
   "source": [
    "count_by_year_pdf=count_by_year.toPandas()"
   ]
  },
  {
   "cell_type": "code",
   "execution_count": 61,
   "metadata": {},
   "outputs": [],
   "source": [
    "count_by_year_pdf=count_by_year_pdf.sort_values('Year')"
   ]
  },
  {
   "cell_type": "code",
   "execution_count": 59,
   "metadata": {},
   "outputs": [
    {
     "name": "stdout",
     "output_type": "stream",
     "text": [
      "Populating the interactive namespace from numpy and matplotlib\n"
     ]
    }
   ],
   "source": [
    "%pylab inline"
   ]
  },
  {
   "cell_type": "code",
   "execution_count": 70,
   "metadata": {},
   "outputs": [
    {
     "data": {
      "image/png": "[encoded data removed]",
      "text/plain": [
       "<matplotlib.figure.Figure at 0x7f97f87cd2d0>"
      ]
     },
     "metadata": {},
     "output_type": "display_data"
    }
   ],
   "source": [
    "count_by_year_pdf.plot('Year','count',figsize=(15,10));\n",
    "grid()"
   ]
  },
  {
   "cell_type": "code",
   "execution_count": 71,
   "metadata": {},
   "outputs": [
    {
     "name": "stdout",
     "output_type": "stream",
     "text": [
      "CPU times: user 12 ms, sys: 8 ms, total: 20 ms\n",
      "Wall time: 46.2 s\n"
     ]
    }
   ],
   "source": [
    "%%time \n",
    "outfilename=\"hdfs:///weather/US_weather.parquet\"\n",
    "US_Weather.write.save(outfilename)"
   ]
  },
  {
   "cell_type": "code",
   "execution_count": 72,
   "metadata": {},
   "outputs": [
    {
     "name": "stdout",
     "output_type": "stream",
     "text": [
      "CPU times: user 0 ns, sys: 4 ms, total: 4 ms\n",
      "Wall time: 10.7 s\n"
     ]
    }
   ],
   "source": [
    "%%time \n",
    "outfilename=\"hdfs:///weather/US_stations.parquet\"\n",
    "stations.write.save(outfilename)"
   ]
  },
  {
   "cell_type": "code",
   "execution_count": 73,
   "metadata": {},
   "outputs": [
    {
     "name": "stdout",
     "output_type": "stream",
     "text": [
      "Found 3 items\r\n",
      "drwxr-xr-x   - hadoop hadoop          0 2018-03-15 22:22 /weather/US_stations.parquet\r\n",
      "drwxr-xr-x   - hadoop hadoop          0 2018-03-15 22:20 /weather/US_weather.parquet\r\n",
      "drwxr-xr-x   - hadoop hadoop          0 2018-03-15 20:27 /weather/weather.parquet\r\n"
     ]
    }
   ],
   "source": [
    "!hdfs dfs -ls /weather/"
   ]
  },
  {
   "cell_type": "code",
   "execution_count": 80,
   "metadata": {},
   "outputs": [
    {
     "name": "stdout",
     "output_type": "stream",
     "text": [
      "US_stations.tsv  weather.parquet\r\n"
     ]
    }
   ],
   "source": [
    "data_dir='/mnt/workspace/Data'\n",
    "!ls $data_dir"
   ]
  },
  {
   "cell_type": "code",
   "execution_count": 85,
   "metadata": {},
   "outputs": [],
   "source": [
    "def copy_to_s3(data_dir,filename):\n",
    "    #supposedly s3-dist-cp is better and faster than this two step method\n",
    "    # https://aws.amazon.com/blogs/big-data/seven-tips-for-using-s3distcp-on-amazon-emr-to-move-data-efficiently-between-hdfs-and-amazon-s3/\n",
    "    #copy to headnode/data_dir\n",
    "    !hadoop fs -copyToLocal /weather/$filename $data_dir/$filename\n",
    "    # Copy parquet directory from headnode to s3\n",
    "    !aws s3 cp --recursive --quiet $data_dir/$filename s3://dse-weather/$filename"
   ]
  },
  {
   "cell_type": "code",
   "execution_count": 87,
   "metadata": {},
   "outputs": [
    {
     "name": "stdout",
     "output_type": "stream",
     "text": [
      "copyToLocal: `/mnt/workspace/Data/US_weather.parquet/US_weather.parquet/_SUCCESS': File exists\n",
      "copyToLocal: `/mnt/workspace/Data/US_weather.parquet/US_weather.parquet/part-00000-497f06cd-3801-4256-a555-79f05b7400d6-c000.snappy.parquet': File exists\n",
      "copyToLocal: `/mnt/workspace/Data/US_weather.parquet/US_weather.parquet/part-00001-497f06cd-3801-4256-a555-79f05b7400d6-c000.snappy.parquet': File exists\n",
      "copyToLocal: `/mnt/workspace/Data/US_weather.parquet/US_weather.parquet/part-00002-497f06cd-3801-4256-a555-79f05b7400d6-c000.snappy.parquet': File exists\n",
      "copyToLocal: `/mnt/workspace/Data/US_weather.parquet/US_weather.parquet/part-00003-497f06cd-3801-4256-a555-79f05b7400d6-c000.snappy.parquet': File exists\n",
      "copyToLocal: `/mnt/workspace/Data/US_weather.parquet/US_weather.parquet/part-00004-497f06cd-3801-4256-a555-79f05b7400d6-c000.snappy.parquet': File exists\n",
      "copyToLocal: `/mnt/workspace/Data/US_weather.parquet/US_weather.parquet/part-00005-497f06cd-3801-4256-a555-79f05b7400d6-c000.snappy.parquet': File exists\n",
      "copyToLocal: `/mnt/workspace/Data/US_weather.parquet/US_weather.parquet/part-00006-497f06cd-3801-4256-a555-79f05b7400d6-c000.snappy.parquet': File exists\n",
      "copyToLocal: `/mnt/workspace/Data/US_weather.parquet/US_weather.parquet/part-00007-497f06cd-3801-4256-a555-79f05b7400d6-c000.snappy.parquet': File exists\n",
      "copyToLocal: `/mnt/workspace/Data/US_weather.parquet/US_weather.parquet/part-00008-497f06cd-3801-4256-a555-79f05b7400d6-c000.snappy.parquet': File exists\n",
      "copyToLocal: `/mnt/workspace/Data/US_weather.parquet/US_weather.parquet/part-00009-497f06cd-3801-4256-a555-79f05b7400d6-c000.snappy.parquet': File exists\n",
      "copyToLocal: `/mnt/workspace/Data/US_weather.parquet/US_weather.parquet/part-00010-497f06cd-3801-4256-a555-79f05b7400d6-c000.snappy.parquet': File exists\n",
      "copyToLocal: `/mnt/workspace/Data/US_weather.parquet/US_weather.parquet/part-00011-497f06cd-3801-4256-a555-79f05b7400d6-c000.snappy.parquet': File exists\n",
      "copyToLocal: `/mnt/workspace/Data/US_weather.parquet/US_weather.parquet/part-00012-497f06cd-3801-4256-a555-79f05b7400d6-c000.snappy.parquet': File exists\n",
      "copyToLocal: `/mnt/workspace/Data/US_weather.parquet/US_weather.parquet/part-00013-497f06cd-3801-4256-a555-79f05b7400d6-c000.snappy.parquet': File exists\n",
      "copyToLocal: `/mnt/workspace/Data/US_weather.parquet/US_weather.parquet/part-00014-497f06cd-3801-4256-a555-79f05b7400d6-c000.snappy.parquet': File exists\n",
      "copyToLocal: `/mnt/workspace/Data/US_weather.parquet/US_weather.parquet/part-00015-497f06cd-3801-4256-a555-79f05b7400d6-c000.snappy.parquet': File exists\n",
      "copyToLocal: `/mnt/workspace/Data/US_weather.parquet/US_weather.parquet/part-00016-497f06cd-3801-4256-a555-79f05b7400d6-c000.snappy.parquet': File exists\n",
      "copyToLocal: `/mnt/workspace/Data/US_weather.parquet/US_weather.parquet/part-00017-497f06cd-3801-4256-a555-79f05b7400d6-c000.snappy.parquet': File exists\n",
      "copyToLocal: `/mnt/workspace/Data/US_weather.parquet/US_weather.parquet/part-00018-497f06cd-3801-4256-a555-79f05b7400d6-c000.snappy.parquet': File exists\n",
      "copyToLocal: `/mnt/workspace/Data/US_weather.parquet/US_weather.parquet/part-00019-497f06cd-3801-4256-a555-79f05b7400d6-c000.snappy.parquet': File exists\n",
      "copyToLocal: `/mnt/workspace/Data/US_weather.parquet/US_weather.parquet/part-00020-497f06cd-3801-4256-a555-79f05b7400d6-c000.snappy.parquet': File exists\n",
      "copyToLocal: `/mnt/workspace/Data/US_weather.parquet/US_weather.parquet/part-00021-497f06cd-3801-4256-a555-79f05b7400d6-c000.snappy.parquet': File exists\n",
      "copyToLocal: `/mnt/workspace/Data/US_weather.parquet/US_weather.parquet/part-00022-497f06cd-3801-4256-a555-79f05b7400d6-c000.snappy.parquet': File exists\n",
      "copyToLocal: `/mnt/workspace/Data/US_weather.parquet/US_weather.parquet/part-00023-497f06cd-3801-4256-a555-79f05b7400d6-c000.snappy.parquet': File exists\n",
      "copyToLocal: `/mnt/workspace/Data/US_weather.parquet/US_weather.parquet/part-00024-497f06cd-3801-4256-a555-79f05b7400d6-c000.snappy.parquet': File exists\n",
      "copyToLocal: `/mnt/workspace/Data/US_weather.parquet/US_weather.parquet/part-00025-497f06cd-3801-4256-a555-79f05b7400d6-c000.snappy.parquet': File exists\n",
      "copyToLocal: `/mnt/workspace/Data/US_weather.parquet/US_weather.parquet/part-00026-497f06cd-3801-4256-a555-79f05b7400d6-c000.snappy.parquet': File exists\n",
      "copyToLocal: `/mnt/workspace/Data/US_weather.parquet/US_weather.parquet/part-00027-497f06cd-3801-4256-a555-79f05b7400d6-c000.snappy.parquet': File exists\n",
      "copyToLocal: `/mnt/workspace/Data/US_weather.parquet/US_weather.parquet/part-00028-497f06cd-3801-4256-a555-79f05b7400d6-c000.snappy.parquet': File exists\n",
      "copyToLocal: `/mnt/workspace/Data/US_weather.parquet/US_weather.parquet/part-00029-497f06cd-3801-4256-a555-79f05b7400d6-c000.snappy.parquet': File exists\n",
      "copyToLocal: `/mnt/workspace/Data/US_weather.parquet/US_weather.parquet/part-00030-497f06cd-3801-4256-a555-79f05b7400d6-c000.snappy.parquet': File exists\n",
      "copyToLocal: `/mnt/workspace/Data/US_weather.parquet/US_weather.parquet/part-00031-497f06cd-3801-4256-a555-79f05b7400d6-c000.snappy.parquet': File exists\n",
      "copyToLocal: `/mnt/workspace/Data/US_weather.parquet/US_weather.parquet/part-00032-497f06cd-3801-4256-a555-79f05b7400d6-c000.snappy.parquet': File exists\n",
      "copyToLocal: `/mnt/workspace/Data/US_weather.parquet/US_weather.parquet/part-00033-497f06cd-3801-4256-a555-79f05b7400d6-c000.snappy.parquet': File exists\n",
      "copyToLocal: `/mnt/workspace/Data/US_weather.parquet/US_weather.parquet/part-00034-497f06cd-3801-4256-a555-79f05b7400d6-c000.snappy.parquet': File exists\n",
      "copyToLocal: `/mnt/workspace/Data/US_weather.parquet/US_weather.parquet/part-00035-497f06cd-3801-4256-a555-79f05b7400d6-c000.snappy.parquet': File exists\n",
      "copyToLocal: `/mnt/workspace/Data/US_weather.parquet/US_weather.parquet/part-00036-497f06cd-3801-4256-a555-79f05b7400d6-c000.snappy.parquet': File exists\n",
      "copyToLocal: `/mnt/workspace/Data/US_weather.parquet/US_weather.parquet/part-00037-497f06cd-3801-4256-a555-79f05b7400d6-c000.snappy.parquet': File exists\n",
      "copyToLocal: `/mnt/workspace/Data/US_weather.parquet/US_weather.parquet/part-00038-497f06cd-3801-4256-a555-79f05b7400d6-c000.snappy.parquet': File exists\n",
      "copyToLocal: `/mnt/workspace/Data/US_weather.parquet/US_weather.parquet/part-00039-497f06cd-3801-4256-a555-79f05b7400d6-c000.snappy.parquet': File exists\n",
      "copyToLocal: `/mnt/workspace/Data/US_weather.parquet/US_weather.parquet/part-00040-497f06cd-3801-4256-a555-79f05b7400d6-c000.snappy.parquet': File exists\n",
      "copyToLocal: `/mnt/workspace/Data/US_weather.parquet/US_weather.parquet/part-00041-497f06cd-3801-4256-a555-79f05b7400d6-c000.snappy.parquet': File exists\n",
      "copyToLocal: `/mnt/workspace/Data/US_weather.parquet/US_weather.parquet/part-00042-497f06cd-3801-4256-a555-79f05b7400d6-c000.snappy.parquet': File exists\n",
      "copyToLocal: `/mnt/workspace/Data/US_weather.parquet/US_weather.parquet/part-00043-497f06cd-3801-4256-a555-79f05b7400d6-c000.snappy.parquet': File exists\n",
      "copyToLocal: `/mnt/workspace/Data/US_weather.parquet/US_weather.parquet/part-00044-497f06cd-3801-4256-a555-79f05b7400d6-c000.snappy.parquet': File exists\n",
      "copyToLocal: `/mnt/workspace/Data/US_weather.parquet/US_weather.parquet/part-00045-497f06cd-3801-4256-a555-79f05b7400d6-c000.snappy.parquet': File exists\n",
      "copyToLocal: `/mnt/workspace/Data/US_weather.parquet/US_weather.parquet/part-00046-497f06cd-3801-4256-a555-79f05b7400d6-c000.snappy.parquet': File exists\n",
      "copyToLocal: `/mnt/workspace/Data/US_weather.parquet/US_weather.parquet/part-00047-497f06cd-3801-4256-a555-79f05b7400d6-c000.snappy.parquet': File exists\n",
      "copyToLocal: `/mnt/workspace/Data/US_weather.parquet/US_weather.parquet/part-00048-497f06cd-3801-4256-a555-79f05b7400d6-c000.snappy.parquet': File exists\n",
      "copyToLocal: `/mnt/workspace/Data/US_weather.parquet/US_weather.parquet/part-00049-497f06cd-3801-4256-a555-79f05b7400d6-c000.snappy.parquet': File exists\n",
      "copyToLocal: `/mnt/workspace/Data/US_weather.parquet/US_weather.parquet/part-00050-497f06cd-3801-4256-a555-79f05b7400d6-c000.snappy.parquet': File exists\n",
      "copyToLocal: `/mnt/workspace/Data/US_weather.parquet/US_weather.parquet/part-00051-497f06cd-3801-4256-a555-79f05b7400d6-c000.snappy.parquet': File exists\n",
      "copyToLocal: `/mnt/workspace/Data/US_weather.parquet/US_weather.parquet/part-00052-497f06cd-3801-4256-a555-79f05b7400d6-c000.snappy.parquet': File exists\n",
      "copyToLocal: `/mnt/workspace/Data/US_weather.parquet/US_weather.parquet/part-00053-497f06cd-3801-4256-a555-79f05b7400d6-c000.snappy.parquet': File exists\n",
      "copyToLocal: `/mnt/workspace/Data/US_weather.parquet/US_weather.parquet/part-00054-497f06cd-3801-4256-a555-79f05b7400d6-c000.snappy.parquet': File exists\n",
      "copyToLocal: `/mnt/workspace/Data/US_weather.parquet/US_weather.parquet/part-00055-497f06cd-3801-4256-a555-79f05b7400d6-c000.snappy.parquet': File exists\n",
      "copyToLocal: `/mnt/workspace/Data/US_weather.parquet/US_weather.parquet/part-00056-497f06cd-3801-4256-a555-79f05b7400d6-c000.snappy.parquet': File exists\n",
      "copyToLocal: `/mnt/workspace/Data/US_weather.parquet/US_weather.parquet/part-00057-497f06cd-3801-4256-a555-79f05b7400d6-c000.snappy.parquet': File exists\n",
      "copyToLocal: `/mnt/workspace/Data/US_weather.parquet/US_weather.parquet/part-00058-497f06cd-3801-4256-a555-79f05b7400d6-c000.snappy.parquet': File exists\n",
      "copyToLocal: `/mnt/workspace/Data/US_weather.parquet/US_weather.parquet/part-00059-497f06cd-3801-4256-a555-79f05b7400d6-c000.snappy.parquet': File exists\n",
      "copyToLocal: `/mnt/workspace/Data/US_weather.parquet/US_weather.parquet/part-00060-497f06cd-3801-4256-a555-79f05b7400d6-c000.snappy.parquet': File exists\n",
      "copyToLocal: `/mnt/workspace/Data/US_weather.parquet/US_weather.parquet/part-00061-497f06cd-3801-4256-a555-79f05b7400d6-c000.snappy.parquet': File exists\n",
      "copyToLocal: `/mnt/workspace/Data/US_weather.parquet/US_weather.parquet/part-00062-497f06cd-3801-4256-a555-79f05b7400d6-c000.snappy.parquet': File exists\n",
      "copyToLocal: `/mnt/workspace/Data/US_weather.parquet/US_weather.parquet/part-00063-497f06cd-3801-4256-a555-79f05b7400d6-c000.snappy.parquet': File exists\n",
      "copyToLocal: `/mnt/workspace/Data/US_weather.parquet/US_weather.parquet/part-00064-497f06cd-3801-4256-a555-79f05b7400d6-c000.snappy.parquet': File exists\n",
      "copyToLocal: `/mnt/workspace/Data/US_weather.parquet/US_weather.parquet/part-00065-497f06cd-3801-4256-a555-79f05b7400d6-c000.snappy.parquet': File exists\n",
      "copyToLocal: `/mnt/workspace/Data/US_weather.parquet/US_weather.parquet/part-00066-497f06cd-3801-4256-a555-79f05b7400d6-c000.snappy.parquet': File exists\n",
      "copyToLocal: `/mnt/workspace/Data/US_weather.parquet/US_weather.parquet/part-00067-497f06cd-3801-4256-a555-79f05b7400d6-c000.snappy.parquet': File exists\n",
      "copyToLocal: `/mnt/workspace/Data/US_weather.parquet/US_weather.parquet/part-00068-497f06cd-3801-4256-a555-79f05b7400d6-c000.snappy.parquet': File exists\n",
      "copyToLocal: `/mnt/workspace/Data/US_weather.parquet/US_weather.parquet/part-00069-497f06cd-3801-4256-a555-79f05b7400d6-c000.snappy.parquet': File exists\n",
      "copyToLocal: `/mnt/workspace/Data/US_weather.parquet/US_weather.parquet/part-00070-497f06cd-3801-4256-a555-79f05b7400d6-c000.snappy.parquet': File exists\n",
      "copyToLocal: `/mnt/workspace/Data/US_weather.parquet/US_weather.parquet/part-00071-497f06cd-3801-4256-a555-79f05b7400d6-c000.snappy.parquet': File exists\n",
      "copyToLocal: `/mnt/workspace/Data/US_weather.parquet/US_weather.parquet/part-00072-497f06cd-3801-4256-a555-79f05b7400d6-c000.snappy.parquet': File exists\n",
      "copyToLocal: `/mnt/workspace/Data/US_weather.parquet/US_weather.parquet/part-00073-497f06cd-3801-4256-a555-79f05b7400d6-c000.snappy.parquet': File exists\n",
      "copyToLocal: `/mnt/workspace/Data/US_weather.parquet/US_weather.parquet/part-00074-497f06cd-3801-4256-a555-79f05b7400d6-c000.snappy.parquet': File exists\n",
      "copyToLocal: `/mnt/workspace/Data/US_weather.parquet/US_weather.parquet/part-00075-497f06cd-3801-4256-a555-79f05b7400d6-c000.snappy.parquet': File exists\n",
      "copyToLocal: `/mnt/workspace/Data/US_weather.parquet/US_weather.parquet/part-00076-497f06cd-3801-4256-a555-79f05b7400d6-c000.snappy.parquet': File exists\n",
      "copyToLocal: `/mnt/workspace/Data/US_weather.parquet/US_weather.parquet/part-00077-497f06cd-3801-4256-a555-79f05b7400d6-c000.snappy.parquet': File exists\n",
      "copyToLocal: `/mnt/workspace/Data/US_weather.parquet/US_weather.parquet/part-00078-497f06cd-3801-4256-a555-79f05b7400d6-c000.snappy.parquet': File exists\n",
      "copyToLocal: `/mnt/workspace/Data/US_weather.parquet/US_weather.parquet/part-00079-497f06cd-3801-4256-a555-79f05b7400d6-c000.snappy.parquet': File exists\n",
      "copyToLocal: `/mnt/workspace/Data/US_weather.parquet/US_weather.parquet/part-00080-497f06cd-3801-4256-a555-79f05b7400d6-c000.snappy.parquet': File exists\n",
      "copyToLocal: `/mnt/workspace/Data/US_weather.parquet/US_weather.parquet/part-00081-497f06cd-3801-4256-a555-79f05b7400d6-c000.snappy.parquet': File exists\n",
      "copyToLocal: `/mnt/workspace/Data/US_weather.parquet/US_weather.parquet/part-00082-497f06cd-3801-4256-a555-79f05b7400d6-c000.snappy.parquet': File exists\n",
      "copyToLocal: `/mnt/workspace/Data/US_weather.parquet/US_weather.parquet/part-00083-497f06cd-3801-4256-a555-79f05b7400d6-c000.snappy.parquet': File exists\n"
     ]
    },
    {
     "name": "stdout",
     "output_type": "stream",
     "text": [
      "copyToLocal: `/mnt/workspace/Data/US_weather.parquet/US_weather.parquet/part-00084-497f06cd-3801-4256-a555-79f05b7400d6-c000.snappy.parquet': File exists\r\n",
      "copyToLocal: `/mnt/workspace/Data/US_weather.parquet/US_weather.parquet/part-00085-497f06cd-3801-4256-a555-79f05b7400d6-c000.snappy.parquet': File exists\r\n",
      "copyToLocal: `/mnt/workspace/Data/US_weather.parquet/US_weather.parquet/part-00086-497f06cd-3801-4256-a555-79f05b7400d6-c000.snappy.parquet': File exists\r\n",
      "copyToLocal: `/mnt/workspace/Data/US_weather.parquet/US_weather.parquet/part-00087-497f06cd-3801-4256-a555-79f05b7400d6-c000.snappy.parquet': File exists\r\n",
      "copyToLocal: `/mnt/workspace/Data/US_weather.parquet/US_weather.parquet/part-00088-497f06cd-3801-4256-a555-79f05b7400d6-c000.snappy.parquet': File exists\r\n",
      "copyToLocal: `/mnt/workspace/Data/US_weather.parquet/US_weather.parquet/part-00089-497f06cd-3801-4256-a555-79f05b7400d6-c000.snappy.parquet': File exists\r\n",
      "copyToLocal: `/mnt/workspace/Data/US_weather.parquet/US_weather.parquet/part-00090-497f06cd-3801-4256-a555-79f05b7400d6-c000.snappy.parquet': File exists\r\n",
      "copyToLocal: `/mnt/workspace/Data/US_weather.parquet/US_weather.parquet/part-00091-497f06cd-3801-4256-a555-79f05b7400d6-c000.snappy.parquet': File exists\r\n",
      "copyToLocal: `/mnt/workspace/Data/US_weather.parquet/US_weather.parquet/part-00092-497f06cd-3801-4256-a555-79f05b7400d6-c000.snappy.parquet': File exists\r\n",
      "copyToLocal: `/mnt/workspace/Data/US_weather.parquet/US_weather.parquet/part-00093-497f06cd-3801-4256-a555-79f05b7400d6-c000.snappy.parquet': File exists\r\n",
      "copyToLocal: `/mnt/workspace/Data/US_weather.parquet/US_weather.parquet/part-00094-497f06cd-3801-4256-a555-79f05b7400d6-c000.snappy.parquet': File exists\r\n",
      "copyToLocal: `/mnt/workspace/Data/US_weather.parquet/US_weather.parquet/part-00095-497f06cd-3801-4256-a555-79f05b7400d6-c000.snappy.parquet': File exists\r\n",
      "copyToLocal: `/mnt/workspace/Data/US_weather.parquet/US_weather.parquet/part-00096-497f06cd-3801-4256-a555-79f05b7400d6-c000.snappy.parquet': File exists\r\n",
      "copyToLocal: `/mnt/workspace/Data/US_weather.parquet/US_weather.parquet/part-00097-497f06cd-3801-4256-a555-79f05b7400d6-c000.snappy.parquet': File exists\r\n",
      "copyToLocal: `/mnt/workspace/Data/US_weather.parquet/US_weather.parquet/part-00098-497f06cd-3801-4256-a555-79f05b7400d6-c000.snappy.parquet': File exists\r\n",
      "copyToLocal: `/mnt/workspace/Data/US_weather.parquet/US_weather.parquet/part-00099-497f06cd-3801-4256-a555-79f05b7400d6-c000.snappy.parquet': File exists\r\n",
      "copyToLocal: `/mnt/workspace/Data/US_weather.parquet/US_weather.parquet/part-00100-497f06cd-3801-4256-a555-79f05b7400d6-c000.snappy.parquet': File exists\r\n",
      "copyToLocal: `/mnt/workspace/Data/US_weather.parquet/US_weather.parquet/part-00101-497f06cd-3801-4256-a555-79f05b7400d6-c000.snappy.parquet': File exists\r\n",
      "copyToLocal: `/mnt/workspace/Data/US_weather.parquet/US_weather.parquet/part-00102-497f06cd-3801-4256-a555-79f05b7400d6-c000.snappy.parquet': File exists\r\n",
      "copyToLocal: `/mnt/workspace/Data/US_weather.parquet/US_weather.parquet/part-00103-497f06cd-3801-4256-a555-79f05b7400d6-c000.snappy.parquet': File exists\r\n",
      "copyToLocal: `/mnt/workspace/Data/US_weather.parquet/US_weather.parquet/part-00104-497f06cd-3801-4256-a555-79f05b7400d6-c000.snappy.parquet': File exists\r\n",
      "copyToLocal: `/mnt/workspace/Data/US_weather.parquet/US_weather.parquet/part-00105-497f06cd-3801-4256-a555-79f05b7400d6-c000.snappy.parquet': File exists\r\n",
      "copyToLocal: `/mnt/workspace/Data/US_weather.parquet/US_weather.parquet/part-00106-497f06cd-3801-4256-a555-79f05b7400d6-c000.snappy.parquet': File exists\r\n",
      "copyToLocal: `/mnt/workspace/Data/US_weather.parquet/US_weather.parquet/part-00107-497f06cd-3801-4256-a555-79f05b7400d6-c000.snappy.parquet': File exists\r\n",
      "copyToLocal: `/mnt/workspace/Data/US_weather.parquet/US_weather.parquet/part-00108-497f06cd-3801-4256-a555-79f05b7400d6-c000.snappy.parquet': File exists\r\n",
      "copyToLocal: `/mnt/workspace/Data/US_weather.parquet/US_weather.parquet/part-00109-497f06cd-3801-4256-a555-79f05b7400d6-c000.snappy.parquet': File exists\r\n",
      "copyToLocal: `/mnt/workspace/Data/US_weather.parquet/US_weather.parquet/part-00110-497f06cd-3801-4256-a555-79f05b7400d6-c000.snappy.parquet': File exists\r\n",
      "copyToLocal: `/mnt/workspace/Data/US_weather.parquet/US_weather.parquet/part-00111-497f06cd-3801-4256-a555-79f05b7400d6-c000.snappy.parquet': File exists\r\n",
      "copyToLocal: `/mnt/workspace/Data/US_weather.parquet/US_weather.parquet/part-00112-497f06cd-3801-4256-a555-79f05b7400d6-c000.snappy.parquet': File exists\r\n",
      "copyToLocal: `/mnt/workspace/Data/US_weather.parquet/US_weather.parquet/part-00113-497f06cd-3801-4256-a555-79f05b7400d6-c000.snappy.parquet': File exists\r\n",
      "copyToLocal: `/mnt/workspace/Data/US_weather.parquet/US_weather.parquet/part-00114-497f06cd-3801-4256-a555-79f05b7400d6-c000.snappy.parquet': File exists\r\n",
      "copyToLocal: `/mnt/workspace/Data/US_weather.parquet/US_weather.parquet/part-00115-497f06cd-3801-4256-a555-79f05b7400d6-c000.snappy.parquet': File exists\r\n",
      "copyToLocal: `/mnt/workspace/Data/US_weather.parquet/US_weather.parquet/part-00116-497f06cd-3801-4256-a555-79f05b7400d6-c000.snappy.parquet': File exists\r\n",
      "copyToLocal: `/mnt/workspace/Data/US_weather.parquet/US_weather.parquet/part-00117-497f06cd-3801-4256-a555-79f05b7400d6-c000.snappy.parquet': File exists\r\n",
      "copyToLocal: `/mnt/workspace/Data/US_weather.parquet/US_weather.parquet/part-00118-497f06cd-3801-4256-a555-79f05b7400d6-c000.snappy.parquet': File exists\r\n",
      "copyToLocal: `/mnt/workspace/Data/US_weather.parquet/US_weather.parquet/part-00119-497f06cd-3801-4256-a555-79f05b7400d6-c000.snappy.parquet': File exists\r\n",
      "copyToLocal: `/mnt/workspace/Data/US_weather.parquet/US_weather.parquet/part-00120-497f06cd-3801-4256-a555-79f05b7400d6-c000.snappy.parquet': File exists\r\n",
      "copyToLocal: `/mnt/workspace/Data/US_weather.parquet/US_weather.parquet/part-00121-497f06cd-3801-4256-a555-79f05b7400d6-c000.snappy.parquet': File exists\r\n",
      "copyToLocal: `/mnt/workspace/Data/US_weather.parquet/US_weather.parquet/part-00122-497f06cd-3801-4256-a555-79f05b7400d6-c000.snappy.parquet': File exists\r\n",
      "copyToLocal: `/mnt/workspace/Data/US_weather.parquet/US_weather.parquet/part-00123-497f06cd-3801-4256-a555-79f05b7400d6-c000.snappy.parquet': File exists\r\n",
      "copyToLocal: `/mnt/workspace/Data/US_weather.parquet/US_weather.parquet/part-00124-497f06cd-3801-4256-a555-79f05b7400d6-c000.snappy.parquet': File exists\r\n",
      "copyToLocal: `/mnt/workspace/Data/US_weather.parquet/US_weather.parquet/part-00125-497f06cd-3801-4256-a555-79f05b7400d6-c000.snappy.parquet': File exists\r\n",
      "copyToLocal: `/mnt/workspace/Data/US_weather.parquet/US_weather.parquet/part-00126-497f06cd-3801-4256-a555-79f05b7400d6-c000.snappy.parquet': File exists\r\n",
      "copyToLocal: `/mnt/workspace/Data/US_weather.parquet/US_weather.parquet/part-00127-497f06cd-3801-4256-a555-79f05b7400d6-c000.snappy.parquet': File exists\r\n",
      "copyToLocal: `/mnt/workspace/Data/US_weather.parquet/US_weather.parquet/part-00128-497f06cd-3801-4256-a555-79f05b7400d6-c000.snappy.parquet': File exists\r\n",
      "copyToLocal: `/mnt/workspace/Data/US_weather.parquet/US_weather.parquet/part-00129-497f06cd-3801-4256-a555-79f05b7400d6-c000.snappy.parquet': File exists\r\n",
      "copyToLocal: `/mnt/workspace/Data/US_weather.parquet/US_weather.parquet/part-00130-497f06cd-3801-4256-a555-79f05b7400d6-c000.snappy.parquet': File exists\r\n",
      "copyToLocal: `/mnt/workspace/Data/US_weather.parquet/US_weather.parquet/part-00131-497f06cd-3801-4256-a555-79f05b7400d6-c000.snappy.parquet': File exists\r\n",
      "copyToLocal: `/mnt/workspace/Data/US_weather.parquet/US_weather.parquet/part-00132-497f06cd-3801-4256-a555-79f05b7400d6-c000.snappy.parquet': File exists\r\n",
      "copyToLocal: `/mnt/workspace/Data/US_weather.parquet/US_weather.parquet/part-00133-497f06cd-3801-4256-a555-79f05b7400d6-c000.snappy.parquet': File exists\r\n",
      "copyToLocal: `/mnt/workspace/Data/US_weather.parquet/US_weather.parquet/part-00134-497f06cd-3801-4256-a555-79f05b7400d6-c000.snappy.parquet': File exists\r\n",
      "copyToLocal: `/mnt/workspace/Data/US_weather.parquet/US_weather.parquet/part-00135-497f06cd-3801-4256-a555-79f05b7400d6-c000.snappy.parquet': File exists\r\n",
      "copyToLocal: `/mnt/workspace/Data/US_weather.parquet/US_weather.parquet/part-00136-497f06cd-3801-4256-a555-79f05b7400d6-c000.snappy.parquet': File exists\r\n",
      "copyToLocal: `/mnt/workspace/Data/US_weather.parquet/US_weather.parquet/part-00137-497f06cd-3801-4256-a555-79f05b7400d6-c000.snappy.parquet': File exists\r\n",
      "copyToLocal: `/mnt/workspace/Data/US_weather.parquet/US_weather.parquet/part-00138-497f06cd-3801-4256-a555-79f05b7400d6-c000.snappy.parquet': File exists\r\n",
      "copyToLocal: `/mnt/workspace/Data/US_weather.parquet/US_weather.parquet/part-00139-497f06cd-3801-4256-a555-79f05b7400d6-c000.snappy.parquet': File exists\r\n",
      "copyToLocal: `/mnt/workspace/Data/US_weather.parquet/US_weather.parquet/part-00140-497f06cd-3801-4256-a555-79f05b7400d6-c000.snappy.parquet': File exists\r\n",
      "copyToLocal: `/mnt/workspace/Data/US_weather.parquet/US_weather.parquet/part-00141-497f06cd-3801-4256-a555-79f05b7400d6-c000.snappy.parquet': File exists\r\n",
      "copyToLocal: `/mnt/workspace/Data/US_weather.parquet/US_weather.parquet/part-00142-497f06cd-3801-4256-a555-79f05b7400d6-c000.snappy.parquet': File exists\r\n",
      "copyToLocal: `/mnt/workspace/Data/US_weather.parquet/US_weather.parquet/part-00143-497f06cd-3801-4256-a555-79f05b7400d6-c000.snappy.parquet': File exists\r\n",
      "copyToLocal: `/mnt/workspace/Data/US_weather.parquet/US_weather.parquet/part-00144-497f06cd-3801-4256-a555-79f05b7400d6-c000.snappy.parquet': File exists\r\n",
      "copyToLocal: `/mnt/workspace/Data/US_weather.parquet/US_weather.parquet/part-00145-497f06cd-3801-4256-a555-79f05b7400d6-c000.snappy.parquet': File exists\r\n",
      "copyToLocal: `/mnt/workspace/Data/US_weather.parquet/US_weather.parquet/part-00146-497f06cd-3801-4256-a555-79f05b7400d6-c000.snappy.parquet': File exists\r\n",
      "copyToLocal: `/mnt/workspace/Data/US_weather.parquet/US_weather.parquet/part-00147-497f06cd-3801-4256-a555-79f05b7400d6-c000.snappy.parquet': File exists\r\n"
     ]
    },
    {
     "name": "stdout",
     "output_type": "stream",
     "text": [
      "copyToLocal: `/mnt/workspace/Data/US_weather.parquet/US_weather.parquet/part-00148-497f06cd-3801-4256-a555-79f05b7400d6-c000.snappy.parquet': File exists\n",
      "copyToLocal: `/mnt/workspace/Data/US_weather.parquet/US_weather.parquet/part-00149-497f06cd-3801-4256-a555-79f05b7400d6-c000.snappy.parquet': File exists\n",
      "copyToLocal: `/mnt/workspace/Data/US_weather.parquet/US_weather.parquet/part-00150-497f06cd-3801-4256-a555-79f05b7400d6-c000.snappy.parquet': File exists\n",
      "copyToLocal: `/mnt/workspace/Data/US_weather.parquet/US_weather.parquet/part-00151-497f06cd-3801-4256-a555-79f05b7400d6-c000.snappy.parquet': File exists\n",
      "copyToLocal: `/mnt/workspace/Data/US_weather.parquet/US_weather.parquet/part-00152-497f06cd-3801-4256-a555-79f05b7400d6-c000.snappy.parquet': File exists\n",
      "copyToLocal: `/mnt/workspace/Data/US_weather.parquet/US_weather.parquet/part-00153-497f06cd-3801-4256-a555-79f05b7400d6-c000.snappy.parquet': File exists\n",
      "copyToLocal: `/mnt/workspace/Data/US_weather.parquet/US_weather.parquet/part-00154-497f06cd-3801-4256-a555-79f05b7400d6-c000.snappy.parquet': File exists\n",
      "copyToLocal: `/mnt/workspace/Data/US_weather.parquet/US_weather.parquet/part-00155-497f06cd-3801-4256-a555-79f05b7400d6-c000.snappy.parquet': File exists\n",
      "copyToLocal: `/mnt/workspace/Data/US_weather.parquet/US_weather.parquet/part-00156-497f06cd-3801-4256-a555-79f05b7400d6-c000.snappy.parquet': File exists\n",
      "copyToLocal: `/mnt/workspace/Data/US_weather.parquet/US_weather.parquet/part-00157-497f06cd-3801-4256-a555-79f05b7400d6-c000.snappy.parquet': File exists\n",
      "copyToLocal: `/mnt/workspace/Data/US_weather.parquet/US_weather.parquet/part-00158-497f06cd-3801-4256-a555-79f05b7400d6-c000.snappy.parquet': File exists\n",
      "copyToLocal: `/mnt/workspace/Data/US_weather.parquet/US_weather.parquet/part-00159-497f06cd-3801-4256-a555-79f05b7400d6-c000.snappy.parquet': File exists\n",
      "copyToLocal: `/mnt/workspace/Data/US_weather.parquet/US_weather.parquet/part-00160-497f06cd-3801-4256-a555-79f05b7400d6-c000.snappy.parquet': File exists\n",
      "copyToLocal: `/mnt/workspace/Data/US_weather.parquet/US_weather.parquet/part-00161-497f06cd-3801-4256-a555-79f05b7400d6-c000.snappy.parquet': File exists\n",
      "copyToLocal: `/mnt/workspace/Data/US_weather.parquet/US_weather.parquet/part-00162-497f06cd-3801-4256-a555-79f05b7400d6-c000.snappy.parquet': File exists\n",
      "copyToLocal: `/mnt/workspace/Data/US_weather.parquet/US_weather.parquet/part-00163-497f06cd-3801-4256-a555-79f05b7400d6-c000.snappy.parquet': File exists\n",
      "copyToLocal: `/mnt/workspace/Data/US_weather.parquet/US_weather.parquet/part-00164-497f06cd-3801-4256-a555-79f05b7400d6-c000.snappy.parquet': File exists\n",
      "copyToLocal: `/mnt/workspace/Data/US_weather.parquet/US_weather.parquet/part-00165-497f06cd-3801-4256-a555-79f05b7400d6-c000.snappy.parquet': File exists\n",
      "copyToLocal: `/mnt/workspace/Data/US_weather.parquet/US_weather.parquet/part-00166-497f06cd-3801-4256-a555-79f05b7400d6-c000.snappy.parquet': File exists\n",
      "copyToLocal: `/mnt/workspace/Data/US_weather.parquet/US_weather.parquet/part-00167-497f06cd-3801-4256-a555-79f05b7400d6-c000.snappy.parquet': File exists\n",
      "copyToLocal: `/mnt/workspace/Data/US_weather.parquet/US_weather.parquet/part-00168-497f06cd-3801-4256-a555-79f05b7400d6-c000.snappy.parquet': File exists\n",
      "copyToLocal: `/mnt/workspace/Data/US_weather.parquet/US_weather.parquet/part-00169-497f06cd-3801-4256-a555-79f05b7400d6-c000.snappy.parquet': File exists\n",
      "copyToLocal: `/mnt/workspace/Data/US_weather.parquet/US_weather.parquet/part-00170-497f06cd-3801-4256-a555-79f05b7400d6-c000.snappy.parquet': File exists\n",
      "copyToLocal: `/mnt/workspace/Data/US_weather.parquet/US_weather.parquet/part-00171-497f06cd-3801-4256-a555-79f05b7400d6-c000.snappy.parquet': File exists\n",
      "copyToLocal: `/mnt/workspace/Data/US_weather.parquet/US_weather.parquet/part-00172-497f06cd-3801-4256-a555-79f05b7400d6-c000.snappy.parquet': File exists\n",
      "copyToLocal: `/mnt/workspace/Data/US_weather.parquet/US_weather.parquet/part-00173-497f06cd-3801-4256-a555-79f05b7400d6-c000.snappy.parquet': File exists\n",
      "copyToLocal: `/mnt/workspace/Data/US_weather.parquet/US_weather.parquet/part-00174-497f06cd-3801-4256-a555-79f05b7400d6-c000.snappy.parquet': File exists\n",
      "copyToLocal: `/mnt/workspace/Data/US_weather.parquet/US_weather.parquet/part-00175-497f06cd-3801-4256-a555-79f05b7400d6-c000.snappy.parquet': File exists\n",
      "copyToLocal: `/mnt/workspace/Data/US_weather.parquet/US_weather.parquet/part-00176-497f06cd-3801-4256-a555-79f05b7400d6-c000.snappy.parquet': File exists\n",
      "copyToLocal: `/mnt/workspace/Data/US_weather.parquet/US_weather.parquet/part-00177-497f06cd-3801-4256-a555-79f05b7400d6-c000.snappy.parquet': File exists\n",
      "copyToLocal: `/mnt/workspace/Data/US_weather.parquet/US_weather.parquet/part-00178-497f06cd-3801-4256-a555-79f05b7400d6-c000.snappy.parquet': File exists\n",
      "copyToLocal: `/mnt/workspace/Data/US_weather.parquet/US_weather.parquet/part-00179-497f06cd-3801-4256-a555-79f05b7400d6-c000.snappy.parquet': File exists\n",
      "copyToLocal: `/mnt/workspace/Data/US_weather.parquet/US_weather.parquet/part-00180-497f06cd-3801-4256-a555-79f05b7400d6-c000.snappy.parquet': File exists\n",
      "copyToLocal: `/mnt/workspace/Data/US_weather.parquet/US_weather.parquet/part-00181-497f06cd-3801-4256-a555-79f05b7400d6-c000.snappy.parquet': File exists\n",
      "copyToLocal: `/mnt/workspace/Data/US_weather.parquet/US_weather.parquet/part-00182-497f06cd-3801-4256-a555-79f05b7400d6-c000.snappy.parquet': File exists\n",
      "copyToLocal: `/mnt/workspace/Data/US_weather.parquet/US_weather.parquet/part-00183-497f06cd-3801-4256-a555-79f05b7400d6-c000.snappy.parquet': File exists\n",
      "copyToLocal: `/mnt/workspace/Data/US_weather.parquet/US_weather.parquet/part-00184-497f06cd-3801-4256-a555-79f05b7400d6-c000.snappy.parquet': File exists\n",
      "copyToLocal: `/mnt/workspace/Data/US_weather.parquet/US_weather.parquet/part-00185-497f06cd-3801-4256-a555-79f05b7400d6-c000.snappy.parquet': File exists\n",
      "copyToLocal: `/mnt/workspace/Data/US_weather.parquet/US_weather.parquet/part-00186-497f06cd-3801-4256-a555-79f05b7400d6-c000.snappy.parquet': File exists\n",
      "copyToLocal: `/mnt/workspace/Data/US_weather.parquet/US_weather.parquet/part-00187-497f06cd-3801-4256-a555-79f05b7400d6-c000.snappy.parquet': File exists\n",
      "copyToLocal: `/mnt/workspace/Data/US_weather.parquet/US_weather.parquet/part-00188-497f06cd-3801-4256-a555-79f05b7400d6-c000.snappy.parquet': File exists\n",
      "copyToLocal: `/mnt/workspace/Data/US_weather.parquet/US_weather.parquet/part-00189-497f06cd-3801-4256-a555-79f05b7400d6-c000.snappy.parquet': File exists\n",
      "copyToLocal: `/mnt/workspace/Data/US_weather.parquet/US_weather.parquet/part-00190-497f06cd-3801-4256-a555-79f05b7400d6-c000.snappy.parquet': File exists\n",
      "copyToLocal: `/mnt/workspace/Data/US_weather.parquet/US_weather.parquet/part-00191-497f06cd-3801-4256-a555-79f05b7400d6-c000.snappy.parquet': File exists\n",
      "copyToLocal: `/mnt/workspace/Data/US_weather.parquet/US_weather.parquet/part-00192-497f06cd-3801-4256-a555-79f05b7400d6-c000.snappy.parquet': File exists\n",
      "copyToLocal: `/mnt/workspace/Data/US_weather.parquet/US_weather.parquet/part-00193-497f06cd-3801-4256-a555-79f05b7400d6-c000.snappy.parquet': File exists\n",
      "copyToLocal: `/mnt/workspace/Data/US_weather.parquet/US_weather.parquet/part-00194-497f06cd-3801-4256-a555-79f05b7400d6-c000.snappy.parquet': File exists\n",
      "copyToLocal: `/mnt/workspace/Data/US_weather.parquet/US_weather.parquet/part-00195-497f06cd-3801-4256-a555-79f05b7400d6-c000.snappy.parquet': File exists\n",
      "copyToLocal: `/mnt/workspace/Data/US_weather.parquet/US_weather.parquet/part-00196-497f06cd-3801-4256-a555-79f05b7400d6-c000.snappy.parquet': File exists\n",
      "copyToLocal: `/mnt/workspace/Data/US_weather.parquet/US_weather.parquet/part-00197-497f06cd-3801-4256-a555-79f05b7400d6-c000.snappy.parquet': File exists\n",
      "copyToLocal: `/mnt/workspace/Data/US_weather.parquet/US_weather.parquet/part-00198-497f06cd-3801-4256-a555-79f05b7400d6-c000.snappy.parquet': File exists\n",
      "copyToLocal: `/mnt/workspace/Data/US_weather.parquet/US_weather.parquet/part-00199-497f06cd-3801-4256-a555-79f05b7400d6-c000.snappy.parquet': File exists\n",
      "CPU times: user 444 ms, sys: 116 ms, total: 560 ms\n",
      "Wall time: 21.4 s\n"
     ]
    }
   ],
   "source": [
    "%%time\n",
    "for filename in ['US_weather.parquet','US_stations.parquet']:\n",
    "    copy_to_s3(data_dir,filename)"
   ]
  },
  {
   "cell_type": "code",
   "execution_count": null,
   "metadata": {
    "collapsed": true
   },
   "outputs": [],
   "source": []
  }
 ],
 "metadata": {
  "anaconda-cloud": {},
  "celltoolbar": "Slideshow",
  "kernelspec": {
   "display_name": "Python 2",
   "language": "python",
   "name": "python2"
  },
  "language_info": {
   "codemirror_mode": {
    "name": "ipython",
    "version": 2
   },
   "file_extension": ".py",
   "mimetype": "text/x-python",
   "name": "python",
   "nbconvert_exporter": "python",
   "pygments_lexer": "ipython2",
   "version": "2.7.14"
  },
  "name": "PCA_using_numpy for HW3",
  "notebookId": 85286
 },
 "nbformat": 4,
 "nbformat_minor": 1
}
