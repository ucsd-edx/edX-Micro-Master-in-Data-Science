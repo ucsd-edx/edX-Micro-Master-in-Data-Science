{
 "cells": [
  {
   "cell_type": "markdown",
   "metadata": {
    "slideshow": {
     "slide_type": "slide"
    }
   },
   "source": [
    "# Computing PCA using RDDs"
   ]
  },
  {
   "cell_type": "markdown",
   "metadata": {
    "slideshow": {
     "slide_type": "subslide"
    }
   },
   "source": [
    "###  PCA\n",
    "\n",
    "The vectors that we want to analyze have length, or dimension, of 365, corresponding to the number of \n",
    "days in a year.\n",
    "\n",
    "We want to perform [Principle component analysis (PCA)](https://en.wikipedia.org/wiki/Principal_component_analysis)\n",
    "on these vectors. There are two steps to this process:\n",
    "\n",
    "1. Computing the covariance matrix: this is a  simple computation. However, it takes a long time to compute and it benefits from using an RDD because it involves all of the input vectors.\n",
    "2. Computing the eigenvector decomposition. this is a more complex computation, but it takes a fraction of a second because the size to the covariance matrix is $365 \\times 365$, which is quite small. We do it on the head node usin `linalg`"
   ]
  },
  {
   "cell_type": "markdown",
   "metadata": {
    "slideshow": {
     "slide_type": "slide"
    }
   },
   "source": [
    "### Computing the covariance matrix\n",
    "Suppose that the data vectors are the column vectors denoted $x$ then the covariance matrix is defined to be\n",
    "$$\n",
    "E(x x^T)-E(x)E(x)^T\n",
    "$$\n",
    "\n",
    "Where $x x^T$ is the **outer product** of $x$ with itself.\n",
    "\n",
    "If the data that we have is $x_1,x_2,x_n$ then the estimates we use are:\n",
    "$$\n",
    "\\hat{E}(x x^T) = \\frac{1}{n} \\sum_{i=1}^n x_i x_i^T,\\;\\;\\;\\;\\;\n",
    "\\hat{E}(x) = \\frac{1}{n} \\sum_{i=1}^n x_i\n",
    "$$"
   ]
  },
  {
   "cell_type": "markdown",
   "metadata": {},
   "source": [
    "### `nan`s in arithmetic operations\n",
    "* We use an RDD of numpy arrays, instead od Dataframes.\n",
    "* Why? Because numpy treats `nan` entries correctly:\n",
    "  * In numpy `5+nan=5` while in dataframes `5+nan=nan`"
   ]
  },
  {
   "cell_type": "markdown",
   "metadata": {
    "slideshow": {
     "slide_type": "slide"
    }
   },
   "source": [
    "### Performing Cov matrix on vectors with NaNs\n",
    "As it happens, we often get vectors $x$ in which some, but not all, of the entries are `nan`. In such cases we sum the elements that are defined and keep a seperate counter for each entry."
   ]
  },
  {
   "cell_type": "code",
   "execution_count": 1,
   "metadata": {
    "collapsed": true,
    "slideshow": {
     "slide_type": "slide"
    }
   },
   "outputs": [],
   "source": [
    "import numpy as np\n",
    "\n",
    "def outerProduct(X):\n",
    "  \"\"\"Computer outer product and indicate which locations in matrix are undefined\"\"\"\n",
    "  O=np.outer(X,X)\n",
    "  N=1-np.isnan(O)\n",
    "  return (O,N)\n",
    "def sumWithNan(M1,M2):\n",
    "  \"\"\"Add two pairs of (matrix,count)\"\"\"\n",
    "  (X1,N1)=M1\n",
    "  (X2,N2)=M2\n",
    "  N=N1+N2\n",
    "  X=np.nansum(np.dstack((X1,X2)),axis=2)\n",
    "  return (X,N)\n",
    "  "
   ]
  },
  {
   "cell_type": "code",
   "execution_count": 2,
   "metadata": {
    "collapsed": true,
    "slideshow": {
     "slide_type": "subslide"
    }
   },
   "outputs": [],
   "source": [
    "# computeCov recieves as input an RDD of np arrays, all of the same length, and computes the covariance matrix for that set of vectors\n",
    "def computeCov(RDDin):\n",
    "  RDD=RDDin.map(lambda v:np.insert(v,0,1)) # insert a 1 at the beginning of each vector so that the same \n",
    "                                           #calculation also yields the mean vector\n",
    "  OuterRDD=RDD.map(outerProduct)   # separating the map and the reduce does not matter because of Spark uses lazy execution.\n",
    "  (S,N)=OuterRDD.reduce(sumWithNan)\n",
    "\n",
    "  # Unpack result and compute the covariance matrix\n",
    "  print('shape of S=',S.shape,'shape of N=',N.shape)\n",
    "  E=S[0,1:]\n",
    "  NE=np.float64(N[0,1:])\n",
    "  print('shape of E=',E.shape,'shape of NE=',NE.shape)\n",
    "  Mean=E/NE\n",
    "  O=S[1:,1:]\n",
    "  NO=np.float64(N[1:,1:])\n",
    "  Cov=O/NO - np.outer(Mean,Mean)\n",
    "  # Output also the diagnal which is the variance for each day\n",
    "  Var=np.array([Cov[i,i] for i in range(Cov.shape[0])])\n",
    "  return {'E':E,'NE':NE,'O':O,'NO':NO,'Cov':Cov,'Mean':Mean,'Var':Var}"
   ]
  },
  {
   "cell_type": "markdown",
   "metadata": {},
   "source": [
    "## Reading dataFrames from HDFS"
   ]
  },
  {
   "cell_type": "code",
   "execution_count": 3,
   "metadata": {},
   "outputs": [
    {
     "name": "stdout",
     "output_type": "stream",
     "text": [
      "CPU times: user 124 ms, sys: 24 ms, total: 148 ms\n",
      "Wall time: 13.6 s\n"
     ]
    }
   ],
   "source": [
    "%%time\n",
    "%pwd\n",
    "from pyspark import SparkContext\n",
    "sc = SparkContext(pyFiles=['/mnt/workspace/edX-Micro-Master-in-Data-Science/big-data-analytics-using-spark/notebooks/Section2-PCA/PCA/data_preparation/lib/numpy_pack.py'])\n"
   ]
  },
  {
   "cell_type": "code",
   "execution_count": 4,
   "metadata": {
    "collapsed": true
   },
   "outputs": [],
   "source": [
    "#sc.stop()\n"
   ]
  },
  {
   "cell_type": "code",
   "execution_count": 5,
   "metadata": {},
   "outputs": [
    {
     "name": "stdout",
     "output_type": "stream",
     "text": [
      "848\t/mnt/workspace/Data/US_stations.parquet\r\n",
      "1981072\t/mnt/workspace/Data/US_weather.parquet\r\n"
     ]
    }
   ],
   "source": [
    "!du -s /mnt/workspace/Data/*"
   ]
  },
  {
   "cell_type": "code",
   "execution_count": 10,
   "metadata": {},
   "outputs": [
    {
     "name": "stdout",
     "output_type": "stream",
     "text": [
      "Found 2 items\n",
      "drwxr-xr-x   - hadoop hadoop          0 2018-03-26 16:10 /weather/US_stations.parquet\n",
      "drwxr-xr-x   - hadoop hadoop          0 2018-03-26 16:10 /weather/US_weather.parquet\n",
      "847798      /weather/US_stations.parquet\n",
      "2027712578  /weather/US_weather.parquet\n"
     ]
    }
   ],
   "source": [
    "!hdfs dfs -ls /weather/\n",
    "!hdfs dfs -du /weather/"
   ]
  },
  {
   "cell_type": "code",
   "execution_count": 5,
   "metadata": {},
   "outputs": [
    {
     "name": "stdout",
     "output_type": "stream",
     "text": [
      "CPU times: user 312 ms, sys: 96 ms, total: 408 ms\n",
      "Wall time: 14.9 s\n"
     ]
    }
   ],
   "source": [
    "%%time\n",
    "!hdfs dfs -mkdir /weather\n",
    "!hdfs dfs -copyFromLocal /mnt/workspace/Data/stations.parquet /weather/\n",
    "!hdfs dfs -copyFromLocal /mnt/workspace/Data/weather.parquet /weather/"
   ]
  },
  {
   "cell_type": "code",
   "execution_count": 7,
   "metadata": {
    "collapsed": true
   },
   "outputs": [],
   "source": [
    "from pyspark import SparkContext\n",
    "from pyspark.sql import SQLContext\n",
    "\n",
    "sqlContext = SQLContext(sc)"
   ]
  },
  {
   "cell_type": "code",
   "execution_count": 12,
   "metadata": {},
   "outputs": [
    {
     "name": "stdout",
     "output_type": "stream",
     "text": [
      "  measurement   Count\n",
      "0        TMIN  544447\n",
      "1        TOBS  433522\n",
      "2        TMAX  544460\n",
      "3        SNOW  576843\n",
      "4        SNWD  541223\n",
      "5        PRCP  618999\n",
      "CPU times: user 184 ms, sys: 8 ms, total: 192 ms\n",
      "Wall time: 20.7 s\n"
     ]
    }
   ],
   "source": [
    "%%time\n",
    "Query=\"\"\"\n",
    "SELECT measurement,count(measurement) as Count \n",
    "FROM parquet.`/weather/US_weather.parquet` \n",
    "GROUP BY measurement\n",
    "\"\"\"\n",
    "Counts_pdf = sqlContext.sql(Query).toPandas()\n",
    "print(Counts_pdf.head(10))"
   ]
  },
  {
   "cell_type": "code",
   "execution_count": 13,
   "metadata": {
    "scrolled": false
   },
   "outputs": [
    {
     "data": {
      "text/html": [
       "<div>\n",
       "<style scoped>\n",
       "    .dataframe tbody tr th:only-of-type {\n",
       "        vertical-align: middle;\n",
       "    }\n",
       "\n",
       "    .dataframe tbody tr th {\n",
       "        vertical-align: top;\n",
       "    }\n",
       "\n",
       "    .dataframe thead th {\n",
       "        text-align: right;\n",
       "    }\n",
       "</style>\n",
       "<table border=\"1\" class=\"dataframe\">\n",
       "  <thead>\n",
       "    <tr style=\"text-align: right;\">\n",
       "      <th></th>\n",
       "      <th>measurement</th>\n",
       "      <th>Count</th>\n",
       "    </tr>\n",
       "    <tr>\n",
       "      <th>Index</th>\n",
       "      <th></th>\n",
       "      <th></th>\n",
       "    </tr>\n",
       "  </thead>\n",
       "  <tbody>\n",
       "    <tr>\n",
       "      <th>0</th>\n",
       "      <td>PRCP</td>\n",
       "      <td>618999</td>\n",
       "    </tr>\n",
       "    <tr>\n",
       "      <th>1</th>\n",
       "      <td>SNOW</td>\n",
       "      <td>576843</td>\n",
       "    </tr>\n",
       "    <tr>\n",
       "      <th>2</th>\n",
       "      <td>TMAX</td>\n",
       "      <td>544460</td>\n",
       "    </tr>\n",
       "    <tr>\n",
       "      <th>3</th>\n",
       "      <td>TMIN</td>\n",
       "      <td>544447</td>\n",
       "    </tr>\n",
       "    <tr>\n",
       "      <th>4</th>\n",
       "      <td>SNWD</td>\n",
       "      <td>541223</td>\n",
       "    </tr>\n",
       "    <tr>\n",
       "      <th>5</th>\n",
       "      <td>TOBS</td>\n",
       "      <td>433522</td>\n",
       "    </tr>\n",
       "  </tbody>\n",
       "</table>\n",
       "</div>"
      ],
      "text/plain": [
       "      measurement   Count\n",
       "Index                    \n",
       "0            PRCP  618999\n",
       "1            SNOW  576843\n",
       "2            TMAX  544460\n",
       "3            TMIN  544447\n",
       "4            SNWD  541223\n",
       "5            TOBS  433522"
      ]
     },
     "execution_count": 13,
     "metadata": {},
     "output_type": "execute_result"
    }
   ],
   "source": [
    "Counts_pdf.sort_values('Count',ascending=False,inplace=True)\n",
    "_index=[i for i in range(Counts_pdf.shape[0])]\n",
    "Counts_pdf['Index']=_index\n",
    "Counts_pdf.set_index('Index',inplace=True)\n",
    "Counts_pdf.head(30)"
   ]
  },
  {
   "cell_type": "code",
   "execution_count": 14,
   "metadata": {},
   "outputs": [
    {
     "name": "stdout",
     "output_type": "stream",
     "text": [
      "measurement='PRCP'\n",
      "\t or measurement='SNOW'\n",
      "\t or measurement='TMAX'\n",
      "\t or measurement='TMIN'\n",
      "\t or measurement='SNWD'\n",
      "\t or measurement='TOBS'\n"
     ]
    }
   ],
   "source": [
    "Top20=list(Counts_pdf['measurement'][:20])\n",
    "\n",
    "restrictions='\\n\\t or '.join([\"measurement='%s'\"%name for name in Top20])\n",
    "print(restrictions)"
   ]
  },
  {
   "cell_type": "code",
   "execution_count": 16,
   "metadata": {
    "scrolled": false
   },
   "outputs": [
    {
     "name": "stdout",
     "output_type": "stream",
     "text": [
      "\n",
      "SELECT *\n",
      "FROM parquet.`/weather/US_weather.parquet` \n",
      "WHERE (measurement='PRCP'\n",
      "\t or measurement='SNOW'\n",
      "\t or measurement='TMAX'\n",
      "\t or measurement='TMIN'\n",
      "\t or measurement='SNWD'\n",
      "\t or measurement='TOBS')\n",
      "number of records= 3259494\n",
      "CPU times: user 4 ms, sys: 4 ms, total: 8 ms\n",
      "Wall time: 11.6 s\n"
     ]
    }
   ],
   "source": [
    "%%time\n",
    "Query=\"\"\"\n",
    "SELECT *\n",
    "FROM parquet.`/weather/US_weather.parquet` \n",
    "WHERE (\"\"\"+restrictions+\")\" # and Station='USW00093819'\"\n",
    "print(Query)\n",
    "Weather_df = sqlContext.sql(Query).cache()\n",
    "print 'number of records=',Weather_df.count()"
   ]
  },
  {
   "cell_type": "code",
   "execution_count": 17,
   "metadata": {
    "scrolled": true
   },
   "outputs": [
    {
     "name": "stdout",
     "output_type": "stream",
     "text": [
      "+-----------+-----------+----+--------------------+\n",
      "|    Station|Measurement|Year|              Values|\n",
      "+-----------+-----------+----+--------------------+\n",
      "|CA001126150|       PRCP|1941|[00 7E 00 7E 00 7...|\n",
      "|CA001126150|       PRCP|1942|[00 00 80 4A 00 0...|\n",
      "+-----------+-----------+----+--------------------+\n",
      "only showing top 2 rows\n",
      "\n",
      "CPU times: user 0 ns, sys: 0 ns, total: 0 ns\n",
      "Wall time: 149 ms\n"
     ]
    }
   ],
   "source": [
    "%%time\n",
    "Weather_df.show(2)"
   ]
  },
  {
   "cell_type": "code",
   "execution_count": 18,
   "metadata": {
    "collapsed": true
   },
   "outputs": [],
   "source": [
    "import sys\n",
    "sys.path.append('./lib')\n",
    "from numpy_pack import unpackArray\n",
    "\n",
    "import numpy as np"
   ]
  },
  {
   "cell_type": "code",
   "execution_count": 19,
   "metadata": {
    "collapsed": true
   },
   "outputs": [],
   "source": [
    "from pyspark.sql.types import ArrayType,FloatType, DoubleType, StringType, IntegerType\n",
    "from pyspark.sql.functions import udf\n",
    "import numpy as np\n",
    "def Count_nan(V):\n",
    "    A=unpackArray(V,data_type=np.float16)\n",
    "    return int(sum(np.isnan(A)))  # the int() is important, sparksql does not accept numpy ints\n",
    "Count_nan_udf = udf(Count_nan,IntegerType())\n",
    "sqlContext.registerFunction(\"UnpackArray\", Count_nan,IntegerType())\n",
    "sqlContext.registerDataFrameAsTable(Weather_df,'weather')"
   ]
  },
  {
   "cell_type": "code",
   "execution_count": 20,
   "metadata": {},
   "outputs": [
    {
     "data": {
      "text/plain": [
       "90"
      ]
     },
     "execution_count": 20,
     "metadata": {},
     "output_type": "execute_result"
    }
   ],
   "source": [
    "A,=Weather_df.take(1)\n",
    "V=A.Values\n",
    "array=unpackArray(V,data_type=np.float16)\n",
    "sum(np.isnan(array))"
   ]
  },
  {
   "cell_type": "code",
   "execution_count": 21,
   "metadata": {
    "collapsed": true
   },
   "outputs": [],
   "source": [
    "Weather_df=Weather_df.withColumn(\"nan_no\", Count_nan_udf(Weather_df.Values))"
   ]
  },
  {
   "cell_type": "code",
   "execution_count": 22,
   "metadata": {},
   "outputs": [
    {
     "data": {
      "text/plain": [
       "3259494"
      ]
     },
     "execution_count": 22,
     "metadata": {},
     "output_type": "execute_result"
    }
   ],
   "source": [
    "Weather_df.count()"
   ]
  },
  {
   "cell_type": "code",
   "execution_count": 23,
   "metadata": {},
   "outputs": [
    {
     "data": {
      "text/plain": [
       "StructType(List(StructField(Station,StringType,true),StructField(Measurement,StringType,true),StructField(Year,IntegerType,true),StructField(Values,BinaryType,true),StructField(nan_no,IntegerType,true)))"
      ]
     },
     "execution_count": 23,
     "metadata": {},
     "output_type": "execute_result"
    }
   ],
   "source": [
    "Weather_df.schema"
   ]
  },
  {
   "cell_type": "code",
   "execution_count": null,
   "metadata": {
    "scrolled": false
   },
   "outputs": [],
   "source": [
    "%%time\n",
    "Weather_df.take(1)"
   ]
  },
  {
   "cell_type": "code",
   "execution_count": 114,
   "metadata": {},
   "outputs": [
    {
     "data": {
      "text/plain": [
       "[u'PRCP',\n",
       " u'TMIN',\n",
       " u'TMAX',\n",
       " u'SNOW',\n",
       " u'SNWD',\n",
       " u'TOBS',\n",
       " u'MDPR',\n",
       " u'DAPR',\n",
       " u'WT03',\n",
       " u'WT01',\n",
       " u'DWPR',\n",
       " u'WT04',\n",
       " u'WT05',\n",
       " u'WT11',\n",
       " u'WT06',\n",
       " u'WT16',\n",
       " u'WESD',\n",
       " u'WT08',\n",
       " u'WT18',\n",
       " u'WT14']"
      ]
     },
     "execution_count": 114,
     "metadata": {},
     "output_type": "execute_result"
    }
   ],
   "source": [
    "Top20"
   ]
  },
  {
   "cell_type": "code",
   "execution_count": 98,
   "metadata": {
    "collapsed": true
   },
   "outputs": [],
   "source": [
    "nan_rdd=Weather_df.select(['Station','Measurement','Year','nan_no']).rdd.cache()"
   ]
  },
  {
   "cell_type": "code",
   "execution_count": 99,
   "metadata": {},
   "outputs": [
    {
     "data": {
      "text/plain": [
       "8834377"
      ]
     },
     "execution_count": 99,
     "metadata": {},
     "output_type": "execute_result"
    }
   ],
   "source": [
    "nan_rdd.count()"
   ]
  },
  {
   "cell_type": "code",
   "execution_count": 100,
   "metadata": {
    "collapsed": true
   },
   "outputs": [
    {
     "data": {
      "text/plain": [
       "[(u'WESD',\n",
       "  array([0., 0., 0., 0., 0., 0., 0., 0., 0., 0., 0., 0., 0., 0., 0., 0., 0.,\n",
       "         0., 0., 0., 0., 0., 0., 0., 0., 0., 0., 0., 0., 0., 0., 0., 0., 0.,\n",
       "         0., 0., 0., 0., 0., 0., 0., 0., 0., 0., 0., 0., 0., 0., 0., 0., 0.,\n",
       "         0., 0., 0., 0., 0., 0., 0., 0., 0., 0., 0., 0., 0., 0., 0., 0., 0.,\n",
       "         0., 0., 0., 0., 0., 0., 0., 0., 0., 0., 0., 0., 0., 0., 0., 0., 0.,\n",
       "         0., 0., 0., 0., 0., 0., 0., 0., 0., 0., 0., 0., 0., 0., 0., 0., 0.,\n",
       "         0., 0., 0., 0., 0., 0., 0., 0., 0., 0., 0., 0., 0., 0., 0., 0., 0.,\n",
       "         0., 0., 0., 0., 0., 0., 0., 0., 0., 0., 0., 0., 0., 0., 0., 0., 0.,\n",
       "         0., 0., 0., 0., 0., 0., 0., 0., 0., 0., 0., 0., 0., 0., 0., 0., 0.,\n",
       "         0., 0., 0., 0., 0., 0., 0., 0., 0., 0., 0., 0., 0., 0., 0., 0., 0.,\n",
       "         0., 0., 0., 0., 0., 0., 0., 0., 0., 0., 0., 0., 0., 0., 0., 0., 0.,\n",
       "         0., 0., 0., 0., 0., 0., 0., 0., 0., 0., 0., 0., 0., 0., 0., 0., 0.,\n",
       "         0., 0., 0., 0., 0., 0., 0., 0., 0., 0., 0., 0., 0., 0., 0., 0., 0.,\n",
       "         0., 0., 0., 0., 0., 0., 0., 0., 0., 0., 0., 0., 0., 0., 0., 0., 0.,\n",
       "         0., 1., 0., 0., 0., 0., 0., 0., 0., 0., 0., 0., 0., 0., 0., 0., 0.,\n",
       "         0., 0., 0., 0., 0., 0., 0., 0., 0., 0., 0., 0., 0., 0., 0., 0., 0.,\n",
       "         0., 0., 0., 0., 0., 0., 0., 0., 0., 0., 0., 0., 0., 0., 0., 0., 0.,\n",
       "         0., 0., 0., 0., 0., 0., 0., 0., 0., 0., 0., 0., 0., 0., 0., 0., 0.,\n",
       "         0., 0., 0., 0., 0., 0., 0., 0., 0., 0., 0., 0., 0., 0., 0., 0., 0.,\n",
       "         0., 0., 0., 0., 0., 0., 0., 0., 0., 0., 0., 0., 0., 0., 0., 0., 0.,\n",
       "         0., 0., 0., 0., 0., 0., 0., 0., 0., 0., 0., 0., 0., 0., 0., 0., 0.,\n",
       "         0., 0., 0., 0., 0., 0., 0., 0., 0.])),\n",
       " (u'WESD',\n",
       "  array([0., 0., 0., 0., 0., 0., 0., 0., 0., 0., 0., 0., 0., 0., 0., 0., 0.,\n",
       "         0., 0., 0., 0., 0., 0., 0., 0., 0., 0., 0., 0., 0., 0., 0., 0., 0.,\n",
       "         0., 0., 0., 0., 0., 0., 0., 0., 0., 0., 0., 0., 0., 0., 0., 0., 0.,\n",
       "         0., 0., 0., 0., 0., 0., 0., 0., 0., 0., 0., 0., 0., 0., 0., 0., 0.,\n",
       "         0., 0., 0., 0., 0., 0., 0., 0., 0., 0., 0., 0., 0., 0., 0., 0., 0.,\n",
       "         0., 0., 0., 0., 0., 0., 0., 0., 0., 0., 0., 0., 0., 0., 0., 0., 0.,\n",
       "         0., 0., 0., 0., 0., 0., 0., 0., 0., 0., 0., 0., 0., 0., 0., 0., 0.,\n",
       "         0., 0., 0., 0., 0., 0., 0., 0., 0., 0., 0., 0., 0., 0., 0., 0., 0.,\n",
       "         0., 0., 0., 0., 0., 0., 0., 0., 0., 0., 0., 0., 0., 0., 0., 0., 0.,\n",
       "         0., 0., 0., 0., 0., 0., 0., 0., 0., 0., 0., 0., 0., 0., 0., 0., 0.,\n",
       "         0., 0., 0., 0., 0., 0., 0., 0., 0., 0., 0., 0., 0., 0., 0., 0., 0.,\n",
       "         0., 0., 0., 0., 0., 0., 0., 0., 0., 0., 0., 0., 0., 0., 0., 0., 0.,\n",
       "         0., 0., 0., 0., 0., 0., 0., 0., 0., 0., 0., 0., 0., 0., 0., 0., 0.,\n",
       "         0., 0., 0., 0., 0., 0., 0., 0., 0., 0., 0., 0., 0., 0., 0., 0., 0.,\n",
       "         0., 0., 0., 0., 0., 0., 0., 0., 0., 0., 0., 0., 0., 0., 0., 0., 0.,\n",
       "         0., 0., 0., 0., 0., 0., 0., 0., 0., 0., 0., 0., 0., 0., 0., 0., 0.,\n",
       "         0., 0., 0., 0., 0., 0., 0., 0., 0., 0., 0., 0., 0., 0., 0., 0., 0.,\n",
       "         0., 0., 0., 0., 0., 0., 0., 0., 0., 0., 0., 0., 0., 0., 0., 0., 0.,\n",
       "         0., 0., 0., 0., 0., 0., 0., 0., 0., 0., 0., 0., 0., 0., 0., 0., 0.,\n",
       "         0., 0., 0., 0., 0., 0., 0., 0., 0., 0., 0., 0., 0., 0., 0., 0., 0.,\n",
       "         0., 0., 0., 0., 0., 0., 0., 0., 0., 0., 0., 0., 0., 0., 0., 0., 0.,\n",
       "         0., 1., 0., 0., 0., 0., 0., 0., 0.]))]"
      ]
     },
     "execution_count": 100,
     "metadata": {},
     "output_type": "execute_result"
    }
   ],
   "source": [
    "def map_to_hist(n):\n",
    "    a=np.zeros(366)\n",
    "    a[n]=1\n",
    "    return a\n",
    "by_measurement=nan_rdd.map(lambda row: (row.Measurement,map_to_hist(row.nan_no))).cache()\n",
    "#by_measurement.take(2)"
   ]
  },
  {
   "cell_type": "code",
   "execution_count": 102,
   "metadata": {
    "collapsed": true
   },
   "outputs": [],
   "source": [
    "Hists=by_measurement.reduceByKey(lambda x,y:x+y).collect()"
   ]
  },
  {
   "cell_type": "markdown",
   "metadata": {},
   "source": [
    "## Manipulating as DataFrames\n",
    "using UDF"
   ]
  },
  {
   "cell_type": "code",
   "execution_count": 106,
   "metadata": {},
   "outputs": [
    {
     "name": "stdout",
     "output_type": "stream",
     "text": [
      "Populating the interactive namespace from numpy and matplotlib\n"
     ]
    },
    {
     "name": "stderr",
     "output_type": "stream",
     "text": [
      "/mnt/anaconda/envs/ipykernel_py2/lib/python2.7/site-packages/IPython/core/magics/pylab.py:161: UserWarning: pylab import has clobbered these variables: ['array']\n",
      "`%matplotlib` prevents importing * from pylab and numpy\n",
      "  \"\\n`%matplotlib` prevents importing * from pylab and numpy\"\n"
     ]
    }
   ],
   "source": [
    "%pylab inline"
   ]
  },
  {
   "cell_type": "code",
   "execution_count": 113,
   "metadata": {},
   "outputs": [
    {
     "data": {
      "text/plain": [
       "[u'WT11',\n",
       " u'TMIN',\n",
       " u'WT14',\n",
       " u'TOBS',\n",
       " u'WT06',\n",
       " u'TMAX',\n",
       " u'SNOW',\n",
       " u'DAPR',\n",
       " u'WT16',\n",
       " u'DWPR',\n",
       " u'SNWD',\n",
       " u'WT04',\n",
       " u'WT05',\n",
       " u'WESD',\n",
       " u'WT18',\n",
       " u'PRCP',\n",
       " u'WT01',\n",
       " u'MDPR',\n",
       " u'WT03',\n",
       " u'WT08']"
      ]
     },
     "execution_count": 113,
     "metadata": {},
     "output_type": "execute_result"
    }
   ],
   "source": [
    "HistMap={a:b for a,b in Hists}\n",
    "HistMap.keys()"
   ]
  },
  {
   "cell_type": "code",
   "execution_count": 115,
   "metadata": {},
   "outputs": [
    {
     "data": {
      "image/png": "[encoded data removed]",
      "text/plain": [
       "<matplotlib.figure.Figure at 0x7f52f82ee290>"
      ]
     },
     "metadata": {},
     "output_type": "display_data"
    }
   ],
   "source": [
    "figure(figsize=[20,20])\n",
    "for i in range(len(Hists)):\n",
    "    measurement=Top20[i]\n",
    "    subplot(5,4,i+1)\n",
    "    plot(HistMap[measurement])\n",
    "    title(measurement)\n",
    "    grid()\n"
   ]
  },
  {
   "cell_type": "code",
   "execution_count": 17,
   "metadata": {
    "collapsed": true
   },
   "outputs": [],
   "source": [
    "from pyspark.sql.types import ArrayType,FloatType\n",
    "from pyspark.sql.functions import udf"
   ]
  },
  {
   "cell_type": "code",
   "execution_count": 18,
   "metadata": {
    "collapsed": true
   },
   "outputs": [],
   "source": [
    "def Unpack(V):\n",
    "    A=unpackArray(V,data_type=np.float16)\n",
    "    return np.array(A,dtype=np.float32)\n",
    "Unpack_udf = udf(Unpack, ArrayType(FloatType()))"
   ]
  },
  {
   "cell_type": "code",
   "execution_count": 19,
   "metadata": {
    "collapsed": true
   },
   "outputs": [],
   "source": [
    "sqlContext.registerDataFrameAsTable(Weather_df,'weather')"
   ]
  },
  {
   "cell_type": "code",
   "execution_count": 20,
   "metadata": {
    "collapsed": true
   },
   "outputs": [],
   "source": [
    "Weather_df2=Weather_df.withColumn('Array',Unpack_udf(Weather_df.Values))"
   ]
  },
  {
   "cell_type": "code",
   "execution_count": 27,
   "metadata": {},
   "outputs": [
    {
     "ename": "Py4JJavaError",
     "evalue": "An error occurred while calling o64.collectToPython.\n: org.apache.spark.SparkException: Job aborted due to stage failure: Task 0 in stage 9.0 failed 4 times, most recent failure: Lost task 0.3 in stage 9.0 (TID 249, ip-10-129-237-38.ec2.internal, executor 11): org.apache.spark.api.python.PythonException: Traceback (most recent call last):\n  File \"/mnt/yarn/usercache/hadoop/appcache/application_1520350884886_0001/container_1520350884886_0001_01_000017/pyspark.zip/pyspark/worker.py\", line 123, in main\n    (\"%d.%d\" % sys.version_info[:2], version))\nException: Python in worker has different version 2.7 than that in driver 3.6, PySpark cannot run with different minor versions.Please check environment variables PYSPARK_PYTHON and PYSPARK_DRIVER_PYTHON are correctly set.\n\n\tat org.apache.spark.api.python.PythonRunner$$anon$1.read(PythonRDD.scala:193)\n\tat org.apache.spark.api.python.PythonRunner$$anon$1.<init>(PythonRDD.scala:234)\n\tat org.apache.spark.api.python.PythonRunner.compute(PythonRDD.scala:152)\n\tat org.apache.spark.sql.execution.python.BatchEvalPythonExec$$anonfun$doExecute$1.apply(BatchEvalPythonExec.scala:144)\n\tat org.apache.spark.sql.execution.python.BatchEvalPythonExec$$anonfun$doExecute$1.apply(BatchEvalPythonExec.scala:87)\n\tat org.apache.spark.rdd.RDD$$anonfun$mapPartitions$1$$anonfun$apply$23.apply(RDD.scala:797)\n\tat org.apache.spark.rdd.RDD$$anonfun$mapPartitions$1$$anonfun$apply$23.apply(RDD.scala:797)\n\tat org.apache.spark.rdd.MapPartitionsRDD.compute(MapPartitionsRDD.scala:38)\n\tat org.apache.spark.rdd.RDD.computeOrReadCheckpoint(RDD.scala:323)\n\tat org.apache.spark.rdd.RDD.iterator(RDD.scala:287)\n\tat org.apache.spark.rdd.MapPartitionsRDD.compute(MapPartitionsRDD.scala:38)\n\tat org.apache.spark.rdd.RDD.computeOrReadCheckpoint(RDD.scala:323)\n\tat org.apache.spark.rdd.RDD.iterator(RDD.scala:287)\n\tat org.apache.spark.rdd.MapPartitionsRDD.compute(MapPartitionsRDD.scala:38)\n\tat org.apache.spark.rdd.RDD.computeOrReadCheckpoint(RDD.scala:323)\n\tat org.apache.spark.rdd.RDD.iterator(RDD.scala:287)\n\tat org.apache.spark.scheduler.ResultTask.runTask(ResultTask.scala:87)\n\tat org.apache.spark.scheduler.Task.run(Task.scala:108)\n\tat org.apache.spark.executor.Executor$TaskRunner.run(Executor.scala:338)\n\tat java.util.concurrent.ThreadPoolExecutor.runWorker(ThreadPoolExecutor.java:1149)\n\tat java.util.concurrent.ThreadPoolExecutor$Worker.run(ThreadPoolExecutor.java:624)\n\tat java.lang.Thread.run(Thread.java:748)\n\nDriver stacktrace:\n\tat org.apache.spark.scheduler.DAGScheduler.org$apache$spark$scheduler$DAGScheduler$$failJobAndIndependentStages(DAGScheduler.scala:1708)\n\tat org.apache.spark.scheduler.DAGScheduler$$anonfun$abortStage$1.apply(DAGScheduler.scala:1696)\n\tat org.apache.spark.scheduler.DAGScheduler$$anonfun$abortStage$1.apply(DAGScheduler.scala:1695)\n\tat scala.collection.mutable.ResizableArray$class.foreach(ResizableArray.scala:59)\n\tat scala.collection.mutable.ArrayBuffer.foreach(ArrayBuffer.scala:48)\n\tat org.apache.spark.scheduler.DAGScheduler.abortStage(DAGScheduler.scala:1695)\n\tat org.apache.spark.scheduler.DAGScheduler$$anonfun$handleTaskSetFailed$1.apply(DAGScheduler.scala:855)\n\tat org.apache.spark.scheduler.DAGScheduler$$anonfun$handleTaskSetFailed$1.apply(DAGScheduler.scala:855)\n\tat scala.Option.foreach(Option.scala:257)\n\tat org.apache.spark.scheduler.DAGScheduler.handleTaskSetFailed(DAGScheduler.scala:855)\n\tat org.apache.spark.scheduler.DAGSchedulerEventProcessLoop.doOnReceive(DAGScheduler.scala:1923)\n\tat org.apache.spark.scheduler.DAGSchedulerEventProcessLoop.onReceive(DAGScheduler.scala:1878)\n\tat org.apache.spark.scheduler.DAGSchedulerEventProcessLoop.onReceive(DAGScheduler.scala:1867)\n\tat org.apache.spark.util.EventLoop$$anon$1.run(EventLoop.scala:48)\n\tat org.apache.spark.scheduler.DAGScheduler.runJob(DAGScheduler.scala:671)\n\tat org.apache.spark.SparkContext.runJob(SparkContext.scala:2029)\n\tat org.apache.spark.SparkContext.runJob(SparkContext.scala:2050)\n\tat org.apache.spark.SparkContext.runJob(SparkContext.scala:2069)\n\tat org.apache.spark.sql.execution.SparkPlan.executeTake(SparkPlan.scala:336)\n\tat org.apache.spark.sql.execution.CollectLimitExec.executeCollect(limit.scala:38)\n\tat org.apache.spark.sql.Dataset$$anonfun$collectToPython$1.apply$mcI$sp(Dataset.scala:2808)\n\tat org.apache.spark.sql.Dataset$$anonfun$collectToPython$1.apply(Dataset.scala:2805)\n\tat org.apache.spark.sql.Dataset$$anonfun$collectToPython$1.apply(Dataset.scala:2805)\n\tat org.apache.spark.sql.execution.SQLExecution$.withNewExecutionId(SQLExecution.scala:65)\n\tat org.apache.spark.sql.Dataset.withNewExecutionId(Dataset.scala:2828)\n\tat org.apache.spark.sql.Dataset.collectToPython(Dataset.scala:2805)\n\tat sun.reflect.NativeMethodAccessorImpl.invoke0(Native Method)\n\tat sun.reflect.NativeMethodAccessorImpl.invoke(NativeMethodAccessorImpl.java:62)\n\tat sun.reflect.DelegatingMethodAccessorImpl.invoke(DelegatingMethodAccessorImpl.java:43)\n\tat java.lang.reflect.Method.invoke(Method.java:498)\n\tat py4j.reflection.MethodInvoker.invoke(MethodInvoker.java:244)\n\tat py4j.reflection.ReflectionEngine.invoke(ReflectionEngine.java:357)\n\tat py4j.Gateway.invoke(Gateway.java:280)\n\tat py4j.commands.AbstractCommand.invokeMethod(AbstractCommand.java:132)\n\tat py4j.commands.CallCommand.execute(CallCommand.java:79)\n\tat py4j.GatewayConnection.run(GatewayConnection.java:214)\n\tat java.lang.Thread.run(Thread.java:748)\nCaused by: org.apache.spark.api.python.PythonException: Traceback (most recent call last):\n  File \"/mnt/yarn/usercache/hadoop/appcache/application_1520350884886_0001/container_1520350884886_0001_01_000017/pyspark.zip/pyspark/worker.py\", line 123, in main\n    (\"%d.%d\" % sys.version_info[:2], version))\nException: Python in worker has different version 2.7 than that in driver 3.6, PySpark cannot run with different minor versions.Please check environment variables PYSPARK_PYTHON and PYSPARK_DRIVER_PYTHON are correctly set.\n\n\tat org.apache.spark.api.python.PythonRunner$$anon$1.read(PythonRDD.scala:193)\n\tat org.apache.spark.api.python.PythonRunner$$anon$1.<init>(PythonRDD.scala:234)\n\tat org.apache.spark.api.python.PythonRunner.compute(PythonRDD.scala:152)\n\tat org.apache.spark.sql.execution.python.BatchEvalPythonExec$$anonfun$doExecute$1.apply(BatchEvalPythonExec.scala:144)\n\tat org.apache.spark.sql.execution.python.BatchEvalPythonExec$$anonfun$doExecute$1.apply(BatchEvalPythonExec.scala:87)\n\tat org.apache.spark.rdd.RDD$$anonfun$mapPartitions$1$$anonfun$apply$23.apply(RDD.scala:797)\n\tat org.apache.spark.rdd.RDD$$anonfun$mapPartitions$1$$anonfun$apply$23.apply(RDD.scala:797)\n\tat org.apache.spark.rdd.MapPartitionsRDD.compute(MapPartitionsRDD.scala:38)\n\tat org.apache.spark.rdd.RDD.computeOrReadCheckpoint(RDD.scala:323)\n\tat org.apache.spark.rdd.RDD.iterator(RDD.scala:287)\n\tat org.apache.spark.rdd.MapPartitionsRDD.compute(MapPartitionsRDD.scala:38)\n\tat org.apache.spark.rdd.RDD.computeOrReadCheckpoint(RDD.scala:323)\n\tat org.apache.spark.rdd.RDD.iterator(RDD.scala:287)\n\tat org.apache.spark.rdd.MapPartitionsRDD.compute(MapPartitionsRDD.scala:38)\n\tat org.apache.spark.rdd.RDD.computeOrReadCheckpoint(RDD.scala:323)\n\tat org.apache.spark.rdd.RDD.iterator(RDD.scala:287)\n\tat org.apache.spark.scheduler.ResultTask.runTask(ResultTask.scala:87)\n\tat org.apache.spark.scheduler.Task.run(Task.scala:108)\n\tat org.apache.spark.executor.Executor$TaskRunner.run(Executor.scala:338)\n\tat java.util.concurrent.ThreadPoolExecutor.runWorker(ThreadPoolExecutor.java:1149)\n\tat java.util.concurrent.ThreadPoolExecutor$Worker.run(ThreadPoolExecutor.java:624)\n\t... 1 more\n",
     "output_type": "error",
     "traceback": [
      "\u001b[0;31m---------------------------------------------------------------------------\u001b[0m",
      "\u001b[0;31mPy4JJavaError\u001b[0m                             Traceback (most recent call last)",
      "\u001b[0;32m<ipython-input-27-9408ab1dd4f4>\u001b[0m in \u001b[0;36m<module>\u001b[0;34m()\u001b[0m\n\u001b[0;32m----> 1\u001b[0;31m \u001b[0mWeather_df2\u001b[0m\u001b[0;34m.\u001b[0m\u001b[0mtake\u001b[0m\u001b[0;34m(\u001b[0m\u001b[0;36m1\u001b[0m\u001b[0;34m)\u001b[0m\u001b[0;34m\u001b[0m\u001b[0m\n\u001b[0m",
      "\u001b[0;32m/usr/lib/spark/python/pyspark/sql/dataframe.py\u001b[0m in \u001b[0;36mtake\u001b[0;34m(self, num)\u001b[0m\n\u001b[1;32m    474\u001b[0m         \u001b[0;34m[\u001b[0m\u001b[0mRow\u001b[0m\u001b[0;34m(\u001b[0m\u001b[0mage\u001b[0m\u001b[0;34m=\u001b[0m\u001b[0;36m2\u001b[0m\u001b[0;34m,\u001b[0m \u001b[0mname\u001b[0m\u001b[0;34m=\u001b[0m\u001b[0;34mu'Alice'\u001b[0m\u001b[0;34m)\u001b[0m\u001b[0;34m,\u001b[0m \u001b[0mRow\u001b[0m\u001b[0;34m(\u001b[0m\u001b[0mage\u001b[0m\u001b[0;34m=\u001b[0m\u001b[0;36m5\u001b[0m\u001b[0;34m,\u001b[0m \u001b[0mname\u001b[0m\u001b[0;34m=\u001b[0m\u001b[0;34mu'Bob'\u001b[0m\u001b[0;34m)\u001b[0m\u001b[0;34m]\u001b[0m\u001b[0;34m\u001b[0m\u001b[0m\n\u001b[1;32m    475\u001b[0m         \"\"\"\n\u001b[0;32m--> 476\u001b[0;31m         \u001b[0;32mreturn\u001b[0m \u001b[0mself\u001b[0m\u001b[0;34m.\u001b[0m\u001b[0mlimit\u001b[0m\u001b[0;34m(\u001b[0m\u001b[0mnum\u001b[0m\u001b[0;34m)\u001b[0m\u001b[0;34m.\u001b[0m\u001b[0mcollect\u001b[0m\u001b[0;34m(\u001b[0m\u001b[0;34m)\u001b[0m\u001b[0;34m\u001b[0m\u001b[0m\n\u001b[0m\u001b[1;32m    477\u001b[0m \u001b[0;34m\u001b[0m\u001b[0m\n\u001b[1;32m    478\u001b[0m     \u001b[0;34m@\u001b[0m\u001b[0msince\u001b[0m\u001b[0;34m(\u001b[0m\u001b[0;36m1.3\u001b[0m\u001b[0;34m)\u001b[0m\u001b[0;34m\u001b[0m\u001b[0m\n",
      "\u001b[0;32m/usr/lib/spark/python/pyspark/sql/dataframe.py\u001b[0m in \u001b[0;36mcollect\u001b[0;34m(self)\u001b[0m\n\u001b[1;32m    436\u001b[0m         \"\"\"\n\u001b[1;32m    437\u001b[0m         \u001b[0;32mwith\u001b[0m \u001b[0mSCCallSiteSync\u001b[0m\u001b[0;34m(\u001b[0m\u001b[0mself\u001b[0m\u001b[0;34m.\u001b[0m\u001b[0m_sc\u001b[0m\u001b[0;34m)\u001b[0m \u001b[0;32mas\u001b[0m \u001b[0mcss\u001b[0m\u001b[0;34m:\u001b[0m\u001b[0;34m\u001b[0m\u001b[0m\n\u001b[0;32m--> 438\u001b[0;31m             \u001b[0mport\u001b[0m \u001b[0;34m=\u001b[0m \u001b[0mself\u001b[0m\u001b[0;34m.\u001b[0m\u001b[0m_jdf\u001b[0m\u001b[0;34m.\u001b[0m\u001b[0mcollectToPython\u001b[0m\u001b[0;34m(\u001b[0m\u001b[0;34m)\u001b[0m\u001b[0;34m\u001b[0m\u001b[0m\n\u001b[0m\u001b[1;32m    439\u001b[0m         \u001b[0;32mreturn\u001b[0m \u001b[0mlist\u001b[0m\u001b[0;34m(\u001b[0m\u001b[0m_load_from_socket\u001b[0m\u001b[0;34m(\u001b[0m\u001b[0mport\u001b[0m\u001b[0;34m,\u001b[0m \u001b[0mBatchedSerializer\u001b[0m\u001b[0;34m(\u001b[0m\u001b[0mPickleSerializer\u001b[0m\u001b[0;34m(\u001b[0m\u001b[0;34m)\u001b[0m\u001b[0;34m)\u001b[0m\u001b[0;34m)\u001b[0m\u001b[0;34m)\u001b[0m\u001b[0;34m\u001b[0m\u001b[0m\n\u001b[1;32m    440\u001b[0m \u001b[0;34m\u001b[0m\u001b[0m\n",
      "\u001b[0;32m/usr/lib/spark/python/lib/py4j-src.zip/py4j/java_gateway.py\u001b[0m in \u001b[0;36m__call__\u001b[0;34m(self, *args)\u001b[0m\n\u001b[1;32m   1131\u001b[0m         \u001b[0manswer\u001b[0m \u001b[0;34m=\u001b[0m \u001b[0mself\u001b[0m\u001b[0;34m.\u001b[0m\u001b[0mgateway_client\u001b[0m\u001b[0;34m.\u001b[0m\u001b[0msend_command\u001b[0m\u001b[0;34m(\u001b[0m\u001b[0mcommand\u001b[0m\u001b[0;34m)\u001b[0m\u001b[0;34m\u001b[0m\u001b[0m\n\u001b[1;32m   1132\u001b[0m         return_value = get_return_value(\n\u001b[0;32m-> 1133\u001b[0;31m             answer, self.gateway_client, self.target_id, self.name)\n\u001b[0m\u001b[1;32m   1134\u001b[0m \u001b[0;34m\u001b[0m\u001b[0m\n\u001b[1;32m   1135\u001b[0m         \u001b[0;32mfor\u001b[0m \u001b[0mtemp_arg\u001b[0m \u001b[0;32min\u001b[0m \u001b[0mtemp_args\u001b[0m\u001b[0;34m:\u001b[0m\u001b[0;34m\u001b[0m\u001b[0m\n",
      "\u001b[0;32m/usr/lib/spark/python/pyspark/sql/utils.py\u001b[0m in \u001b[0;36mdeco\u001b[0;34m(*a, **kw)\u001b[0m\n\u001b[1;32m     61\u001b[0m     \u001b[0;32mdef\u001b[0m \u001b[0mdeco\u001b[0m\u001b[0;34m(\u001b[0m\u001b[0;34m*\u001b[0m\u001b[0ma\u001b[0m\u001b[0;34m,\u001b[0m \u001b[0;34m**\u001b[0m\u001b[0mkw\u001b[0m\u001b[0;34m)\u001b[0m\u001b[0;34m:\u001b[0m\u001b[0;34m\u001b[0m\u001b[0m\n\u001b[1;32m     62\u001b[0m         \u001b[0;32mtry\u001b[0m\u001b[0;34m:\u001b[0m\u001b[0;34m\u001b[0m\u001b[0m\n\u001b[0;32m---> 63\u001b[0;31m             \u001b[0;32mreturn\u001b[0m \u001b[0mf\u001b[0m\u001b[0;34m(\u001b[0m\u001b[0;34m*\u001b[0m\u001b[0ma\u001b[0m\u001b[0;34m,\u001b[0m \u001b[0;34m**\u001b[0m\u001b[0mkw\u001b[0m\u001b[0;34m)\u001b[0m\u001b[0;34m\u001b[0m\u001b[0m\n\u001b[0m\u001b[1;32m     64\u001b[0m         \u001b[0;32mexcept\u001b[0m \u001b[0mpy4j\u001b[0m\u001b[0;34m.\u001b[0m\u001b[0mprotocol\u001b[0m\u001b[0;34m.\u001b[0m\u001b[0mPy4JJavaError\u001b[0m \u001b[0;32mas\u001b[0m \u001b[0me\u001b[0m\u001b[0;34m:\u001b[0m\u001b[0;34m\u001b[0m\u001b[0m\n\u001b[1;32m     65\u001b[0m             \u001b[0ms\u001b[0m \u001b[0;34m=\u001b[0m \u001b[0me\u001b[0m\u001b[0;34m.\u001b[0m\u001b[0mjava_exception\u001b[0m\u001b[0;34m.\u001b[0m\u001b[0mtoString\u001b[0m\u001b[0;34m(\u001b[0m\u001b[0;34m)\u001b[0m\u001b[0;34m\u001b[0m\u001b[0m\n",
      "\u001b[0;32m/usr/lib/spark/python/lib/py4j-src.zip/py4j/protocol.py\u001b[0m in \u001b[0;36mget_return_value\u001b[0;34m(answer, gateway_client, target_id, name)\u001b[0m\n\u001b[1;32m    317\u001b[0m                 raise Py4JJavaError(\n\u001b[1;32m    318\u001b[0m                     \u001b[0;34m\"An error occurred while calling {0}{1}{2}.\\n\"\u001b[0m\u001b[0;34m.\u001b[0m\u001b[0;34m\u001b[0m\u001b[0m\n\u001b[0;32m--> 319\u001b[0;31m                     format(target_id, \".\", name), value)\n\u001b[0m\u001b[1;32m    320\u001b[0m             \u001b[0;32melse\u001b[0m\u001b[0;34m:\u001b[0m\u001b[0;34m\u001b[0m\u001b[0m\n\u001b[1;32m    321\u001b[0m                 raise Py4JError(\n",
      "\u001b[0;31mPy4JJavaError\u001b[0m: An error occurred while calling o64.collectToPython.\n: org.apache.spark.SparkException: Job aborted due to stage failure: Task 0 in stage 9.0 failed 4 times, most recent failure: Lost task 0.3 in stage 9.0 (TID 249, ip-10-129-237-38.ec2.internal, executor 11): org.apache.spark.api.python.PythonException: Traceback (most recent call last):\n  File \"/mnt/yarn/usercache/hadoop/appcache/application_1520350884886_0001/container_1520350884886_0001_01_000017/pyspark.zip/pyspark/worker.py\", line 123, in main\n    (\"%d.%d\" % sys.version_info[:2], version))\nException: Python in worker has different version 2.7 than that in driver 3.6, PySpark cannot run with different minor versions.Please check environment variables PYSPARK_PYTHON and PYSPARK_DRIVER_PYTHON are correctly set.\n\n\tat org.apache.spark.api.python.PythonRunner$$anon$1.read(PythonRDD.scala:193)\n\tat org.apache.spark.api.python.PythonRunner$$anon$1.<init>(PythonRDD.scala:234)\n\tat org.apache.spark.api.python.PythonRunner.compute(PythonRDD.scala:152)\n\tat org.apache.spark.sql.execution.python.BatchEvalPythonExec$$anonfun$doExecute$1.apply(BatchEvalPythonExec.scala:144)\n\tat org.apache.spark.sql.execution.python.BatchEvalPythonExec$$anonfun$doExecute$1.apply(BatchEvalPythonExec.scala:87)\n\tat org.apache.spark.rdd.RDD$$anonfun$mapPartitions$1$$anonfun$apply$23.apply(RDD.scala:797)\n\tat org.apache.spark.rdd.RDD$$anonfun$mapPartitions$1$$anonfun$apply$23.apply(RDD.scala:797)\n\tat org.apache.spark.rdd.MapPartitionsRDD.compute(MapPartitionsRDD.scala:38)\n\tat org.apache.spark.rdd.RDD.computeOrReadCheckpoint(RDD.scala:323)\n\tat org.apache.spark.rdd.RDD.iterator(RDD.scala:287)\n\tat org.apache.spark.rdd.MapPartitionsRDD.compute(MapPartitionsRDD.scala:38)\n\tat org.apache.spark.rdd.RDD.computeOrReadCheckpoint(RDD.scala:323)\n\tat org.apache.spark.rdd.RDD.iterator(RDD.scala:287)\n\tat org.apache.spark.rdd.MapPartitionsRDD.compute(MapPartitionsRDD.scala:38)\n\tat org.apache.spark.rdd.RDD.computeOrReadCheckpoint(RDD.scala:323)\n\tat org.apache.spark.rdd.RDD.iterator(RDD.scala:287)\n\tat org.apache.spark.scheduler.ResultTask.runTask(ResultTask.scala:87)\n\tat org.apache.spark.scheduler.Task.run(Task.scala:108)\n\tat org.apache.spark.executor.Executor$TaskRunner.run(Executor.scala:338)\n\tat java.util.concurrent.ThreadPoolExecutor.runWorker(ThreadPoolExecutor.java:1149)\n\tat java.util.concurrent.ThreadPoolExecutor$Worker.run(ThreadPoolExecutor.java:624)\n\tat java.lang.Thread.run(Thread.java:748)\n\nDriver stacktrace:\n\tat org.apache.spark.scheduler.DAGScheduler.org$apache$spark$scheduler$DAGScheduler$$failJobAndIndependentStages(DAGScheduler.scala:1708)\n\tat org.apache.spark.scheduler.DAGScheduler$$anonfun$abortStage$1.apply(DAGScheduler.scala:1696)\n\tat org.apache.spark.scheduler.DAGScheduler$$anonfun$abortStage$1.apply(DAGScheduler.scala:1695)\n\tat scala.collection.mutable.ResizableArray$class.foreach(ResizableArray.scala:59)\n\tat scala.collection.mutable.ArrayBuffer.foreach(ArrayBuffer.scala:48)\n\tat org.apache.spark.scheduler.DAGScheduler.abortStage(DAGScheduler.scala:1695)\n\tat org.apache.spark.scheduler.DAGScheduler$$anonfun$handleTaskSetFailed$1.apply(DAGScheduler.scala:855)\n\tat org.apache.spark.scheduler.DAGScheduler$$anonfun$handleTaskSetFailed$1.apply(DAGScheduler.scala:855)\n\tat scala.Option.foreach(Option.scala:257)\n\tat org.apache.spark.scheduler.DAGScheduler.handleTaskSetFailed(DAGScheduler.scala:855)\n\tat org.apache.spark.scheduler.DAGSchedulerEventProcessLoop.doOnReceive(DAGScheduler.scala:1923)\n\tat org.apache.spark.scheduler.DAGSchedulerEventProcessLoop.onReceive(DAGScheduler.scala:1878)\n\tat org.apache.spark.scheduler.DAGSchedulerEventProcessLoop.onReceive(DAGScheduler.scala:1867)\n\tat org.apache.spark.util.EventLoop$$anon$1.run(EventLoop.scala:48)\n\tat org.apache.spark.scheduler.DAGScheduler.runJob(DAGScheduler.scala:671)\n\tat org.apache.spark.SparkContext.runJob(SparkContext.scala:2029)\n\tat org.apache.spark.SparkContext.runJob(SparkContext.scala:2050)\n\tat org.apache.spark.SparkContext.runJob(SparkContext.scala:2069)\n\tat org.apache.spark.sql.execution.SparkPlan.executeTake(SparkPlan.scala:336)\n\tat org.apache.spark.sql.execution.CollectLimitExec.executeCollect(limit.scala:38)\n\tat org.apache.spark.sql.Dataset$$anonfun$collectToPython$1.apply$mcI$sp(Dataset.scala:2808)\n\tat org.apache.spark.sql.Dataset$$anonfun$collectToPython$1.apply(Dataset.scala:2805)\n\tat org.apache.spark.sql.Dataset$$anonfun$collectToPython$1.apply(Dataset.scala:2805)\n\tat org.apache.spark.sql.execution.SQLExecution$.withNewExecutionId(SQLExecution.scala:65)\n\tat org.apache.spark.sql.Dataset.withNewExecutionId(Dataset.scala:2828)\n\tat org.apache.spark.sql.Dataset.collectToPython(Dataset.scala:2805)\n\tat sun.reflect.NativeMethodAccessorImpl.invoke0(Native Method)\n\tat sun.reflect.NativeMethodAccessorImpl.invoke(NativeMethodAccessorImpl.java:62)\n\tat sun.reflect.DelegatingMethodAccessorImpl.invoke(DelegatingMethodAccessorImpl.java:43)\n\tat java.lang.reflect.Method.invoke(Method.java:498)\n\tat py4j.reflection.MethodInvoker.invoke(MethodInvoker.java:244)\n\tat py4j.reflection.ReflectionEngine.invoke(ReflectionEngine.java:357)\n\tat py4j.Gateway.invoke(Gateway.java:280)\n\tat py4j.commands.AbstractCommand.invokeMethod(AbstractCommand.java:132)\n\tat py4j.commands.CallCommand.execute(CallCommand.java:79)\n\tat py4j.GatewayConnection.run(GatewayConnection.java:214)\n\tat java.lang.Thread.run(Thread.java:748)\nCaused by: org.apache.spark.api.python.PythonException: Traceback (most recent call last):\n  File \"/mnt/yarn/usercache/hadoop/appcache/application_1520350884886_0001/container_1520350884886_0001_01_000017/pyspark.zip/pyspark/worker.py\", line 123, in main\n    (\"%d.%d\" % sys.version_info[:2], version))\nException: Python in worker has different version 2.7 than that in driver 3.6, PySpark cannot run with different minor versions.Please check environment variables PYSPARK_PYTHON and PYSPARK_DRIVER_PYTHON are correctly set.\n\n\tat org.apache.spark.api.python.PythonRunner$$anon$1.read(PythonRDD.scala:193)\n\tat org.apache.spark.api.python.PythonRunner$$anon$1.<init>(PythonRDD.scala:234)\n\tat org.apache.spark.api.python.PythonRunner.compute(PythonRDD.scala:152)\n\tat org.apache.spark.sql.execution.python.BatchEvalPythonExec$$anonfun$doExecute$1.apply(BatchEvalPythonExec.scala:144)\n\tat org.apache.spark.sql.execution.python.BatchEvalPythonExec$$anonfun$doExecute$1.apply(BatchEvalPythonExec.scala:87)\n\tat org.apache.spark.rdd.RDD$$anonfun$mapPartitions$1$$anonfun$apply$23.apply(RDD.scala:797)\n\tat org.apache.spark.rdd.RDD$$anonfun$mapPartitions$1$$anonfun$apply$23.apply(RDD.scala:797)\n\tat org.apache.spark.rdd.MapPartitionsRDD.compute(MapPartitionsRDD.scala:38)\n\tat org.apache.spark.rdd.RDD.computeOrReadCheckpoint(RDD.scala:323)\n\tat org.apache.spark.rdd.RDD.iterator(RDD.scala:287)\n\tat org.apache.spark.rdd.MapPartitionsRDD.compute(MapPartitionsRDD.scala:38)\n\tat org.apache.spark.rdd.RDD.computeOrReadCheckpoint(RDD.scala:323)\n\tat org.apache.spark.rdd.RDD.iterator(RDD.scala:287)\n\tat org.apache.spark.rdd.MapPartitionsRDD.compute(MapPartitionsRDD.scala:38)\n\tat org.apache.spark.rdd.RDD.computeOrReadCheckpoint(RDD.scala:323)\n\tat org.apache.spark.rdd.RDD.iterator(RDD.scala:287)\n\tat org.apache.spark.scheduler.ResultTask.runTask(ResultTask.scala:87)\n\tat org.apache.spark.scheduler.Task.run(Task.scala:108)\n\tat org.apache.spark.executor.Executor$TaskRunner.run(Executor.scala:338)\n\tat java.util.concurrent.ThreadPoolExecutor.runWorker(ThreadPoolExecutor.java:1149)\n\tat java.util.concurrent.ThreadPoolExecutor$Worker.run(ThreadPoolExecutor.java:624)\n\t... 1 more\n"
     ]
    }
   ],
   "source": [
    "Weather_df2.take(1)"
   ]
  },
  {
   "cell_type": "markdown",
   "metadata": {},
   "source": [
    "## Undef Statistics"
   ]
  },
  {
   "cell_type": "markdown",
   "metadata": {},
   "source": [
    "## Computing the statistics"
   ]
  },
  {
   "cell_type": "code",
   "execution_count": 8,
   "metadata": {
    "collapsed": true,
    "slideshow": {
     "slide_type": "slide"
    }
   },
   "outputs": [],
   "source": [
    "STAT_Descriptions=[\n",
    "('SortedVals', 'Sample of values', 'vector whose length varies between measurements'),\n",
    " ('UnDef', 'sample of number of undefs per row', 'vector whose length varies between measurements'),\n",
    " ('mean', 'mean value', ()),\n",
    " ('std', 'std', ()),\n",
    " ('low100', 'bottom 1%', ()),\n",
    " ('high100', 'top 1%', ()),\n",
    " ('low1000', 'bottom 0.1%', ()),\n",
    " ('high1000', 'top 0.1%', ()),\n",
    " ('E', 'Sum of values per day', (365,)),\n",
    " ('NE', 'count of values per day', (365,)),\n",
    " ('Mean', 'E/NE', (365,)),\n",
    " ('O', 'Sum of outer products', (365, 365)),\n",
    " ('NO', 'counts for outer products', (365, 365)),\n",
    " ('Cov', 'O/NO', (365, 365)),\n",
    " ('Var', 'The variance per day = diagonal of Cov', (365,)),\n",
    " ('eigval', 'PCA eigen-values', (365,)),\n",
    " ('eigvec', 'PCA eigen-vectors', (365, 365))\n",
    "  ]"
   ]
  },
  {
   "cell_type": "code",
   "execution_count": 11,
   "metadata": {},
   "outputs": [
    {
     "name": "stdout",
     "output_type": "stream",
     "text": [
      "SELECT * FROM parquet.`/US_Weather.parquet`\n",
      "\tWHERE measurement='TMAX'\n",
      "\tor measurement='TMIN'\n",
      "\tor measurement='TOBS'\n",
      "\tor measurement='SNOW'\n",
      "\tor measurement='SNWD'\n",
      "\tor measurement='PRCP'\n"
     ]
    }
   ],
   "source": [
    "US_Weather_parquet='/weather.parquet'\n",
    "measurements=['TMAX','TMIN','TOBS','SNOW','SNWD','PRCP']\n",
    "Query=\"SELECT * FROM parquet.`%s`\\n\\tWHERE \"%US_Weather_parquet+\"\\n\\tor \".join([\"measurement='%s'\"%m for m in measurements])\n",
    "print Query"
   ]
  },
  {
   "cell_type": "code",
   "execution_count": 20,
   "metadata": {},
   "outputs": [
    {
     "name": "stdout",
     "output_type": "stream",
     "text": [
      "took 24.3902518749 seconds\n"
     ]
    }
   ],
   "source": [
    "t=time()\n",
    "df = sqlContext.sql(Query).cache()\n",
    "print df.count()\n",
    "print 'took',time()-t,'seconds'"
   ]
  },
  {
   "cell_type": "code",
   "execution_count": 21,
   "metadata": {},
   "outputs": [
    {
     "name": "stdout",
     "output_type": "stream",
     "text": [
      "4351091\n"
     ]
    }
   ],
   "source": [
    "print df.count()"
   ]
  },
  {
   "cell_type": "code",
   "execution_count": 37,
   "metadata": {},
   "outputs": [
    {
     "name": "stdout",
     "output_type": "stream",
     "text": [
      "Number of executors= 80\n",
      "took 0.0116009712219 seconds\n"
     ]
    }
   ],
   "source": [
    "\n",
    "t=time()\n",
    "\n",
    "N=sc.defaultParallelism\n",
    "print 'Number of executors=',N\n",
    "rdd0=df.rdd.map(lambda row:(str(row['station']),((str(row['measurement'])\\\n",
    "                        ,row['year']),np.array([np.float64(row[str(i)]) for i in range(1,366)])))).cache()#.repartition(N)\n",
    "print 'took',time()-t,'seconds'"
   ]
  },
  {
   "cell_type": "code",
   "execution_count": 39,
   "metadata": {
    "collapsed": true
   },
   "outputs": [],
   "source": [
    "import numpy as np\n",
    "def F(row):\n",
    "    return (str(row['station']),((str(row['measurement'])\\\n",
    "                        ,row['year']),np.array([np.float64(row[str(i)]) for i in range(1,366)])))\n",
    "row,=df.take(1)\n",
    "#print F(row)"
   ]
  },
  {
   "cell_type": "code",
   "execution_count": 40,
   "metadata": {},
   "outputs": [
    {
     "name": "stdout",
     "output_type": "stream",
     "text": [
      "4351091\n",
      "took 321.376906872 seconds\n"
     ]
    }
   ],
   "source": [
    "t=time()\n",
    "print rdd0.count()\n",
    "print 'took',time()-t,'seconds'"
   ]
  },
  {
   "cell_type": "code",
   "execution_count": 43,
   "metadata": {},
   "outputs": [
    {
     "name": "stdout",
     "output_type": "stream",
     "text": [
      "4351091\n",
      "took 1.04327487946 seconds\n"
     ]
    }
   ],
   "source": [
    "t=time()\n",
    "print rdd0.count()\n",
    "print 'took',time()-t,'seconds'"
   ]
  },
  {
   "cell_type": "code",
   "execution_count": 44,
   "metadata": {},
   "outputs": [
    {
     "name": "stdout",
     "output_type": "stream",
     "text": [
      "4351091\n",
      "took 5.36106610298 seconds\n"
     ]
    }
   ],
   "source": [
    "t=time()\n",
    "print rdd0.repartition(N).count()\n",
    "print 'took',time()-t,'seconds'"
   ]
  },
  {
   "cell_type": "code",
   "execution_count": 45,
   "metadata": {
    "collapsed": true,
    "slideshow": {
     "slide_type": "fragment"
    }
   },
   "outputs": [],
   "source": [
    "# Compute the overall distribution of values and the distribution of the number of nan per year\n",
    "def find_percentiles(SortedVals,percentile):\n",
    "  L=len(SortedVals)/percentile\n",
    "  return SortedVals[L],SortedVals[-L]\n",
    "  \n",
    "def computeOverAllDist(rdd0):\n",
    "  UnDef=np.array(rdd0.map(lambda row:sum(np.isnan(row))).sample(False,0.01).collect())\n",
    "  flat=rdd0.flatMap(lambda v:list(v)).filter(lambda x: not np.isnan(x)).cache()\n",
    "  count,S1,S2=flat.map(lambda x: np.float64([1,x,x**2]))\\\n",
    "                  .reduce(lambda x,y: x+y)\n",
    "  mean=S1/count\n",
    "  std=np.sqrt(S2/count-mean**2)\n",
    "  Vals=flat.sample(False,0.0001).collect()\n",
    "  SortedVals=np.array(sorted(Vals))\n",
    "  low100,high100=find_percentiles(SortedVals,100)\n",
    "  low1000,high1000=find_percentiles(SortedVals,1000)\n",
    "  return {'UnDef':UnDef,\\\n",
    "          'mean':mean,\\\n",
    "          'std':std,\\\n",
    "          'SortedVals':SortedVals,\\\n",
    "          'low100':low100,\\\n",
    "          'high100':high100,\\\n",
    "          'low1000':low100,\\\n",
    "          'high1000':high1000\n",
    "          }"
   ]
  },
  {
   "cell_type": "code",
   "execution_count": null,
   "metadata": {
    "slideshow": {
     "slide_type": "slide"
    }
   },
   "outputs": [
    {
     "name": "stdout",
     "output_type": "stream",
     "text": [
      "SELECT * FROM parquet.`/US_Weather.parquet`\n",
      "\tWHERE measurement = 'TMAX'\n",
      "662767\n",
      "for measurement TMAX, we get 551661 clean rows\n",
      "shape of S= (366, 366) shape of N= (366, 366)\n",
      "shape of E= (365,) shape of NE= (365,)\n",
      "the statistics for TMAX consists of:\n",
      "E ndarray (365,)\n",
      "Cov ndarray (365, 365)\n",
      "O ndarray (365, 365)\n",
      "NE ndarray (365,)\n",
      "Var ndarray (365,)\n",
      "SortedVals ndarray (22125,)\n",
      "Mean ndarray (365,)\n",
      "std scalar\n",
      "UnDef ndarray (6689,)\n",
      "eigval ndarray (365,)\n",
      "high1000 scalar\n",
      "NO ndarray (365, 365)\n",
      "low100 scalar\n",
      "high100 scalar\n",
      "low1000 scalar\n",
      "mean scalar\n",
      "eigvec ndarray (365, 365)\n",
      "time for TMAX is 218.555129051\n",
      "SELECT * FROM parquet.`/US_Weather.parquet`\n",
      "\tWHERE measurement = 'TMIN'\n",
      "662742\n",
      "for measurement TMIN, we get 548833 clean rows\n",
      "shape of S= (366, 366) shape of N= (366, 366)\n",
      "shape of E= (365,) shape of NE= (365,)\n",
      "the statistics for TMIN consists of:\n",
      "E ndarray (365,)\n",
      "Cov ndarray (365, 365)\n",
      "O ndarray (365, 365)\n",
      "NE ndarray (365,)\n",
      "Var ndarray (365,)\n",
      "SortedVals ndarray (22144,)\n",
      "Mean ndarray (365,)\n",
      "std scalar\n",
      "UnDef ndarray (6649,)\n",
      "eigval ndarray (365,)\n",
      "high1000 scalar\n",
      "NO ndarray (365, 365)\n",
      "low100 scalar\n",
      "high100 scalar\n",
      "low1000 scalar\n",
      "mean scalar\n",
      "eigvec ndarray (365, 365)\n",
      "time for TMIN is 212.446105957\n",
      "SELECT * FROM parquet.`/US_Weather.parquet`\n",
      "\tWHERE measurement = 'TOBS'\n",
      "462745\n",
      "for measurement TOBS, we get 367304 clean rows\n",
      "shape of S= (366, 366) shape of N= (366, 366)\n",
      "shape of E= (365,) shape of NE= (365,)\n",
      "the statistics for TOBS consists of:\n",
      "E ndarray (365,)\n",
      "Cov ndarray (365, 365)\n",
      "O ndarray (365, 365)\n",
      "NE ndarray (365,)\n",
      "Var ndarray (365,)\n",
      "SortedVals ndarray (14971,)\n",
      "Mean ndarray (365,)\n",
      "std scalar\n",
      "UnDef ndarray (4665,)\n",
      "eigval ndarray (365,)\n",
      "high1000 scalar\n",
      "NO ndarray (365, 365)\n",
      "low100 scalar\n",
      "high100 scalar\n",
      "low1000 scalar\n",
      "mean scalar\n",
      "eigvec ndarray (365, 365)\n",
      "time for TOBS is 151.900614023\n",
      "SELECT * FROM parquet.`/US_Weather.parquet`\n",
      "\tWHERE measurement = 'SNOW'\n",
      "835335\n",
      "for measurement SNOW, we get 525828 clean rows\n",
      "shape of S= (366, 366) shape of N= (366, 366)\n",
      "shape of E= (365,) shape of NE= (365,)\n",
      "the statistics for SNOW consists of:\n",
      "E ndarray (365,)\n",
      "Cov ndarray (365, 365)\n",
      "O ndarray (365, 365)\n",
      "NE ndarray (365,)\n",
      "Var ndarray (365,)\n",
      "SortedVals ndarray (23707,)\n",
      "Mean ndarray (365,)\n",
      "std scalar\n",
      "UnDef ndarray (8488,)\n",
      "eigval ndarray (365,)\n",
      "high1000 scalar\n",
      "NO ndarray (365, 365)\n",
      "low100 scalar\n",
      "high100 scalar\n",
      "low1000 scalar\n",
      "mean scalar\n",
      "eigvec ndarray (365, 365)\n",
      "time for SNOW is 238.727147102\n",
      "SELECT * FROM parquet.`/US_Weather.parquet`\n",
      "\tWHERE measurement = 'SNWD'\n",
      "740230\n",
      "for measurement SNWD, we get 437242 clean rows\n",
      "shape of S= (366, 366) shape of N= (366, 366)\n",
      "shape of E= (365,) shape of NE= (365,)\n",
      "the statistics for SNWD consists of:\n",
      "E ndarray (365,)\n",
      "Cov ndarray (365, 365)\n",
      "O ndarray (365, 365)\n",
      "NE ndarray (365,)\n",
      "Var ndarray (365,)\n",
      "SortedVals ndarray (19485,)\n",
      "Mean ndarray (365,)\n",
      "std scalar\n",
      "UnDef ndarray (7484,)\n",
      "eigval ndarray (365,)\n",
      "high1000 scalar\n",
      "NO ndarray (365, 365)\n",
      "low100 scalar\n",
      "high100 scalar\n",
      "low1000 scalar\n",
      "mean scalar\n",
      "eigvec ndarray (365, 365)\n",
      "time for SNWD is 204.762017012\n",
      "SELECT * FROM parquet.`/US_Weather.parquet`\n",
      "\tWHERE measurement = 'PRCP'\n",
      "987272\n",
      "for measurement PRCP, we get 769300 clean rows\n"
     ]
    }
   ],
   "source": [
    "from numpy import linalg as LA\n",
    "\n",
    "STAT={}  # dictionary storing the statistics for each measurement\n",
    "Clean_Tables={}\n",
    "\n",
    "for meas in measurements:\n",
    "  t=time()\n",
    "  Query=\"SELECT * FROM parquet.`%s`\\n\\tWHERE measurement = '%s'\"%(US_Weather_parquet,meas)\n",
    "  print Query\n",
    "  df = sqlContext.sql(Query)\n",
    "  rdd0=df.rdd.map(lambda row:(row['station'],((row['measurement'],row['year']),np.array([np.float64(row[str(i)]) for i in range(1,366)])))).cache()\n",
    "\n",
    "  rdd1=rdd0.sample(False,1)\\\n",
    "           .map(lambda (key,val): val[1])\\\n",
    "           .cache()\\\n",
    "           .repartition(N)\n",
    "  print rdd1.count()\n",
    "\n",
    "  #get basic statistics\n",
    "  STAT[meas]=computeOverAllDist(rdd1)   # Compute the statistics \n",
    "  low1000 = STAT[meas]['low1000']  # unpack the extreme values statistics\n",
    "  high1000 = STAT[meas]['high1000']\n",
    "\n",
    "  #clean up table from extreme values and from rows with too many undefinde entries.\n",
    "  rdd2=rdd1.map(lambda V: np.array([x if (x>low1000-1) and (x<high1000+1) else np.nan for x in V]))\n",
    "  rdd3=rdd2.filter(lambda row:sum(np.isnan(row))<50)\n",
    "  Clean_Tables[meas]=rdd3.cache().repartition(N)\n",
    "  C=Clean_Tables[meas].count()\n",
    "  print 'for measurement %s, we get %d clean rows'%(meas,C)\n",
    "\n",
    "  # compute covariance matrix\n",
    "  OUT=computeCov(Clean_Tables[meas])\n",
    "\n",
    "  #find PCA decomposition\n",
    "  eigval,eigvec=LA.eig(OUT['Cov'])\n",
    "\n",
    "  # collect all of the statistics in STAT[meas]\n",
    "  STAT[meas]['eigval']=eigval\n",
    "  STAT[meas]['eigvec']=eigvec\n",
    "  STAT[meas].update(OUT)\n",
    "\n",
    "  # print summary of statistics\n",
    "  print 'the statistics for %s consists of:'%meas\n",
    "  for key in STAT[meas].keys():\n",
    "    e=STAT[meas][key]\n",
    "    if type(e)==list:\n",
    "      print key,'list',len(e)\n",
    "    elif type(e)==np.ndarray:\n",
    "      print key,'ndarray',e.shape\n",
    "    elif type(e)==np.float64:\n",
    "      print key,'scalar'\n",
    "    else:\n",
    "      print key,'Error type=',type(e)\n",
    "  print 'time for',meas,'is',time()-t"
   ]
  },
  {
   "cell_type": "code",
   "execution_count": 72,
   "metadata": {
    "slideshow": {
     "slide_type": "subslide"
    }
   },
   "outputs": [
    {
     "name": "stdout",
     "output_type": "stream",
     "text": [
      "-rw-rw-r-- 1 ec2-user ec2-user 81729695 Mar  9 06:09 STAT1.pickle\r\n"
     ]
    }
   ],
   "source": [
    "from pickle import dump\n",
    "def dumpS3(object,S3dir,filename):\n",
    "    dump(object,open(filename,'wb'))\n",
    "    !ls -l $filename\n",
    "    s3helper.local_to_s3(filename, S3dir+filename)\n",
    "dumpS3((STAT,STAT_Descriptions),'/Weather/','STAT1.pickle')\n"
   ]
  },
  {
   "cell_type": "code",
   "execution_count": 65,
   "metadata": {},
   "outputs": [
    {
     "data": {
      "text/plain": [
       "['TMIN', 'TOBS', 'TMAX', 'SNOW', 'SNWD', 'PRCP']"
      ]
     },
     "execution_count": 65,
     "metadata": {},
     "output_type": "execute_result"
    }
   ],
   "source": [
    "STAT.keys()"
   ]
  },
  {
   "cell_type": "markdown",
   "metadata": {
    "slideshow": {
     "slide_type": "slide"
    }
   },
   "source": [
    "### Sample Stations\n",
    "Generate a sample of stations, for each one store all available year X measurement pairs."
   ]
  },
  {
   "cell_type": "code",
   "execution_count": 54,
   "metadata": {
    "collapsed": true,
    "slideshow": {
     "slide_type": "fragment"
    }
   },
   "outputs": [
    {
     "data": {
      "text/plain": [
       "[(u'USC00305618',\n",
       "  ((u'PRCP', 1914.0),\n",
       "   array([  nan,   nan,   nan,   nan,   nan,   nan,   nan,   nan,   nan,\n",
       "            nan,   nan,   nan,   nan,   nan,   nan,   nan,   nan,   nan,\n",
       "            nan,   nan,   nan,   nan,   nan,   nan,   nan,   nan,   nan,\n",
       "            nan,   nan,   nan,   nan,   nan,   nan,   nan,   nan,   nan,\n",
       "            nan,   nan,   nan,   nan,   nan,   nan,   nan,   nan,   nan,\n",
       "            nan,   nan,   nan,   nan,   nan,   nan,   nan,   nan,   nan,\n",
       "            nan,   nan,   nan,   nan,   nan,   nan,   nan,   nan,   nan,\n",
       "            nan,   nan,   nan,   nan,   nan,   nan,   nan,   nan,   nan,\n",
       "            nan,   nan,   nan,   nan,   nan,   nan,   nan,   nan,   nan,\n",
       "            nan,   nan,   nan,   nan,   nan,   nan,   nan,   nan,   nan,\n",
       "            nan,   nan,   nan,   nan,   nan,   nan,   nan,   nan,   nan,\n",
       "            nan,   nan,   nan,   nan,   nan,   nan,   nan,   nan,   nan,\n",
       "            nan,   nan,   nan,   nan,   nan,   nan,   nan,   nan,   nan,\n",
       "            nan,   nan,   nan,   nan,   nan,   nan,   nan,   nan,   nan,\n",
       "            nan,   nan,   nan,   nan,   nan,   nan,   nan,   nan,   nan,\n",
       "            nan,   nan,   nan,   nan,   nan,   nan,   nan,   nan,   nan,\n",
       "            nan,   nan,   nan,   nan,   nan,   nan,   nan,   nan,   nan,\n",
       "            nan,   nan,   nan,   nan,   nan,   nan,   nan,   nan,   nan,\n",
       "            nan,   nan,   nan,   nan,   nan,   nan,   nan,   nan,   nan,\n",
       "            nan,   nan,   nan,   nan,   nan,   nan,   nan,   nan,   nan,\n",
       "            nan,   nan,   nan,   nan,   nan,   nan,   nan,   nan,   nan,\n",
       "            nan,   nan,   nan,   nan,   nan,   nan,   nan,   nan,   nan,\n",
       "            nan,   nan,   nan,   nan,   nan,   nan,   nan,   nan,   nan,\n",
       "            nan,   nan,   nan,   nan,   nan,   nan,   nan,   nan,   nan,\n",
       "            nan,   nan,   nan,   nan,   nan,   nan,   nan,   nan,   nan,\n",
       "            nan,   nan,   nan,   nan,   nan,   nan,   nan,   nan,   nan,\n",
       "            nan,   nan,   nan,   nan,   nan,   nan,   nan,   nan,   nan,\n",
       "            nan,   nan,   nan,   nan,   nan,   nan,   nan,   nan,   nan,\n",
       "            nan,   nan,   nan,   nan,   nan,   nan,   nan,   nan,   nan,\n",
       "            nan,   nan,   nan,   nan,   nan,   nan,   nan,   nan,   nan,\n",
       "            nan,   nan,   nan,   nan,   nan,   nan,   nan,   nan,   nan,\n",
       "            nan,   nan,   nan,   nan,   nan,   nan,   nan,   nan,   nan,\n",
       "            nan,   nan,   nan,   nan,   nan,   nan,   nan,   nan,   nan,\n",
       "            nan,   nan,   nan,   nan,   nan,   nan,   nan,   nan,   nan,\n",
       "            nan,   nan,   nan,   nan,   nan,   nan,   nan,   nan,   nan,\n",
       "            nan,   nan,   nan,   nan,   nan,   nan,   nan,   nan,   nan,\n",
       "            nan,   nan,   nan,   nan,   nan,   nan,   nan,   nan,   nan,\n",
       "            nan,    0.,    0.,    0.,    0.,    0.,   28.,  295.,   76.,\n",
       "            89.,    0.,    0.,    0.,   28.,  305.,    0.,    0.,    0.,\n",
       "             0.,   33.,    0.,  213.,    0.,    0.,    3.,    0.,    0.,\n",
       "             0.,    0.,  104.,    0.,    0.]))),\n",
       " (u'USC00305618',\n",
       "  ((u'PRCP', 1915.0),\n",
       "   array([   0.,    0.,    0.,    0.,    0.,   10.,  216.,    0.,    0.,\n",
       "             0.,    0.,  330.,  625.,    0.,   20.,    0.,   43.,  368.,\n",
       "            18.,    0.,    0.,    0.,  130.,   64.,  117.,    0.,    0.,\n",
       "             5.,    3.,    0.,   51.,  538.,  279.,   41.,    3.,    0.,\n",
       "           114.,    0.,    3.,    0.,    0.,    0.,    0.,    0.,    0.,\n",
       "            23.,  132.,    0.,    0.,    0.,    0.,    0.,    0.,    0.,\n",
       "           109.,  246.,    0.,    0.,    0.,    0.,    0.,    0.,    0.,\n",
       "             0.,   nan,  211.,    0.,    0.,    0.,    0.,    0.,    0.,\n",
       "             0.,    0.,    0.,    0.,    0.,    0.,    0.,    0.,    0.,\n",
       "             8.,    0.,    0.,    0.,    0.,    0.,    0.,    5.,    0.,\n",
       "             0.,    0.,   nan,  401.,    0.,   18.,   13.,    0.,    0.,\n",
       "             0.,   74.,  112.,    0.,    0.,    0.,    0.,    0.,    0.,\n",
       "             0.,    0.,    0.,    0.,   43.,    0.,    0.,    0.,    0.,\n",
       "            13.,   33.,   30.,    0.,    0.,    0.,  112.,   20.,    0.,\n",
       "             0.,   13.,    0.,    0.,    0.,  246.,   58.,    0.,    0.,\n",
       "            23.,   23.,    0.,    0.,    8.,  107.,  241.,    0.,   51.,\n",
       "             0.,   15.,    0.,    0.,    0.,    0.,    0.,    0.,    0.,\n",
       "             0.,    0.,    0.,    5.,    0.,    0.,    0.,    0.,    0.,\n",
       "            84.,    0.,    0.,  272.,    0.,   13.,    0.,    3.,    5.,\n",
       "             0.,   28.,    0.,    0.,    0.,   69.,  340.,    0.,    0.,\n",
       "           389.,    0.,   10.,    0.,    0.,  208.,    0.,    0.,   41.,\n",
       "             0.,    0.,   36.,    0.,    0.,    0.,    0.,    0.,    3.,\n",
       "             0.,   10.,    0.,    0.,   13.,    0.,    0.,    0.,   64.,\n",
       "             0.,   84.,    0.,    0.,   30.,   76.,   13.,   71.,  960.,\n",
       "             0.,  124.,    3.,  310.,   23.,    0.,    0.,  208.,    0.,\n",
       "             0.,    0.,    0.,    0.,    0.,    0.,    0.,    0.,  114.,\n",
       "             0.,    0.,  122.,    0.,    0.,    0.,  198.,   20.,    0.,\n",
       "             0.,    0.,    0.,    0.,    0.,    0.,   13.,    0.,    0.,\n",
       "             0.,    0.,    0.,    0.,    0.,    0.,    0.,    0.,    0.,\n",
       "           351.,    0.,  315.,    0.,    0.,    0.,    0.,   25.,    0.,\n",
       "             0.,    0.,    0.,  112.,  155.,    0.,    0.,   76.,    0.,\n",
       "             0.,  135.,    0.,    0.,    0.,    0.,    0.,   18.,   18.,\n",
       "             0.,    0.,    0.,    0.,   13.,    0.,    0.,    0.,    0.,\n",
       "             0.,   76.,    0.,    0.,    0.,    0.,    0.,    0.,    0.,\n",
       "             0.,   13.,    0.,    0.,    0.,   53.,    0.,    0.,    0.,\n",
       "             0.,    0.,   51.,   69.,    0.,    0.,    0.,  175.,    0.,\n",
       "             0.,    0.,    0.,    0.,    0.,    0.,   25.,    0.,   10.,\n",
       "             0.,   nan,    8.,   nan,    0.,   nan,   nan,   nan,   25.,\n",
       "            nan,   nan,   nan,   nan,  742.,  417.,   nan,   nan,  170.,\n",
       "           142.,   nan,   nan,   nan,   nan,    0.,   nan,   nan,  127.,\n",
       "            nan,   36.,  155.,   nan,   nan]))),\n",
       " (u'USC00305618',\n",
       "  ((u'PRCP', 1916.0),\n",
       "   array([   0.,   58.,    0.,    0.,    8.,    0.,    0.,    0.,    0.,\n",
       "            86.,   30.,   43.,   46.,    0.,    0.,    0.,    0.,    0.,\n",
       "             0.,    0.,    0.,   25.,    0.,    0.,    0.,   13.,    0.,\n",
       "             0.,    0.,   64.,    0.,   33.,  198.,  160.,    0.,    0.,\n",
       "             0.,    0.,    0.,   20.,    0.,    3.,   84.,  150.,    0.,\n",
       "             0.,    0.,    3.,   25.,    0.,   25.,    0.,    0.,    0.,\n",
       "           160.,  429.,   58.,    0.,    0.,    0.,   91.,    0.,    0.,\n",
       "             3.,  345.,    0.,  163.,    0.,   69.,    0.,    0.,    3.,\n",
       "            43.,  193.,   10.,    0.,    5.,    0.,    0.,   28.,  183.,\n",
       "             0.,    0.,    0.,    0.,    0.,    0.,   38.,    5.,    0.,\n",
       "             0.,    8.,    0.,   30.,    0.,   25.,    0.,  163.,  122.,\n",
       "             0.,    0.,    0.,   71.,  302.,    0.,    0.,   13.,    0.,\n",
       "             0.,    0.,    0.,   33.,    5.,    3.,    0.,   15.,   46.,\n",
       "             5.,    0.,    0.,    0.,    3.,    0.,   13.,   28.,    0.,\n",
       "            38.,    3.,    0.,    0.,    0.,    0.,    0.,   30.,   25.,\n",
       "           518.,   94.,    0.,    0.,    0.,    0.,    0.,  102.,    0.,\n",
       "             0.,    0.,    0.,  406.,    0.,    0.,    0.,    0.,    0.,\n",
       "            28.,    0.,    8.,    0.,  287.,  135.,   23.,    0.,   23.,\n",
       "             0.,    8.,    0.,    0.,   36.,  442.,   13.,   61.,    0.,\n",
       "            89.,    0.,    0.,    0.,  114.,    0.,    0.,    0.,    0.,\n",
       "             0.,    0.,   64.,    0.,    0.,   28.,    0.,    0.,    0.,\n",
       "            51.,   23.,   15.,    0.,  290.,   36.,    0.,    0.,   13.,\n",
       "             0.,    0.,   64.,    3.,   74.,   10.,    0.,   58.,   79.,\n",
       "           246.,    0.,    0.,    0.,    0.,    0.,    0.,    0.,    0.,\n",
       "             0.,    0.,   51.,  185.,    0.,   79.,    0.,   13.,    0.,\n",
       "             0.,    0.,    0.,    0.,    0.,    0.,    0.,    0.,    0.,\n",
       "             0.,    0.,    0.,    0.,    0.,   25.,    0.,    0.,    0.,\n",
       "             0.,   10.,    0.,    0.,    3.,    0.,   10.,   91.,  107.,\n",
       "             0.,    0.,    0.,    0.,    0.,  150.,    0.,    0.,    5.,\n",
       "            84.,    0.,    0.,    0.,   30.,    0.,    8.,    0.,    0.,\n",
       "             0.,  163.,    0.,    0.,    0.,    0.,    0.,    0.,    0.,\n",
       "             0.,    0.,    0.,    0.,    0.,    0.,   61.,    0.,    0.,\n",
       "            41.,   13.,    0.,  211.,    0.,    0.,    0.,    0.,    0.,\n",
       "             0.,    0.,    0.,    0.,    0.,    0.,    0.,   38.,    0.,\n",
       "             0.,   15.,   58.,    0.,    0.,    0.,    0.,    0.,    0.,\n",
       "            13.,    8.,    0.,    0.,    3.,    0.,    0.,    0.,    0.,\n",
       "             0.,    0.,  241.,    0.,    0.,    0.,    0.,    0.,   84.,\n",
       "            64.,    0.,    0.,    0.,    3.,    5.,    0.,    0.,    0.,\n",
       "           163.,    0.,   36.,  135.,    0.,    0.,  206.,    0.,    0.,\n",
       "             0.,    0.,   51.,   48.,  264.,    0.,    0.,    0.,    0.,\n",
       "            91.,  104.,    0.,    0.,    0.]))),\n",
       " (u'USC00305618',\n",
       "  ((u'PRCP', 1917.0),\n",
       "   array([   0.,   nan,   74.,   nan,  160.,   nan,   nan,   nan,   20.,\n",
       "            nan,   nan,   nan,   66.,   97.,   23.,   nan,   nan,   28.,\n",
       "            nan,   nan,  142.,   69.,   nan,   nan,    8.,    0.,   33.,\n",
       "            18.,   56.,   nan,   28.,   30.,    0.,    0.,    0.,   76.,\n",
       "             0.,    0.,    0.,  114.,    0.,    0.,    0.,    0.,    0.,\n",
       "            13.,    5.,    0.,    0.,   58.,    0.,    0.,   84.,   69.,\n",
       "            76.,    0.,   28.,    5.,   48.,    0.,   61.,   41.,  259.,\n",
       "           137.,    0.,    0.,  160.,    0.,    0.,   38.,    0.,    0.,\n",
       "           150.,    0.,    0.,  160.,    0.,    0.,    0.,   10.,    0.,\n",
       "            48.,   86.,    0.,    0.,  180.,    0.,    0.,    0.,    0.,\n",
       "             5.,   nan,   nan,   nan,  241.,   15.,   30.,    0.,  160.,\n",
       "            nan,   nan,    3.,    0.,   nan,   nan,   nan,   nan,   nan,\n",
       "             3.,   33.,   89.,   nan,   15.,   nan,   nan,   58.,   nan,\n",
       "            nan,   nan,   15.,  114.,    0.,    0.,  173.,  185.,    0.,\n",
       "             0.,    0.,   46.,    0.,    0.,    8.,    0.,    0.,    0.,\n",
       "             8.,   71.,    0.,    0.,    0.,    0.,   20.,   99.,    0.,\n",
       "             0.,    0.,    3.,  213.,   56.,    0.,    0.,   66.,    5.,\n",
       "            nan,   nan,    0.,   nan,   51.,    3.,   nan,    8.,  147.,\n",
       "            nan,    3.,  340.,    0.,   nan,   nan,   nan,    5.,   nan,\n",
       "            nan,   nan,   53.,   10.,   nan,    0.,   69.,   nan,  112.,\n",
       "            nan,    0.,   33.,  178.,   43.,    0.,    0.,    0.,    0.,\n",
       "             0.,   23.,  216.,   41.,    0.,  102.,   10.,   23.,   15.,\n",
       "             0.,   23.,    0.,    0.,    0.,    0.,    0.,    0.,    0.,\n",
       "             0.,    0.,    0.,    0.,    0.,   84.,   56.,   20.,    0.,\n",
       "             0.,    0.,    0.,    0.,    3.,    0.,    0.,    0.,    0.,\n",
       "             0.,    0.,    0.,    0.,    0.,    0.,    0.,    3.,    0.,\n",
       "            38.,   43.,    0.,    0.,    0.,    0.,    0.,   51.,    0.,\n",
       "           183.,    0.,    0.,    0.,    0.,   13.,    0.,  157.,    0.,\n",
       "             0.,    0.,    0.,    0.,    0.,    0.,    0.,    3.,    0.,\n",
       "             0.,    3.,    0.,    0.,    0.,    0.,    0.,    0.,    0.,\n",
       "            81.,    0.,   18.,   nan,   nan,   nan,    0.,  206.,   nan,\n",
       "            nan,   10.,   76.,   nan,    0.,  170.,   nan,   nan,   nan,\n",
       "             3.,   nan,   nan,   30.,   94.,   nan,   nan,   nan,  521.,\n",
       "            nan,   nan,  135.,   nan,   nan,  396.,   nan,    0.,    0.,\n",
       "             0.,    0.,    0.,    0.,    0.,    0.,    0.,    0.,    0.,\n",
       "             0.,    0.,    0.,    0.,    0.,    0.,    0.,    0.,    0.,\n",
       "            10.,  183.,    5.,    0.,    0.,    0.,    0.,    8.,    0.,\n",
       "           229.,  155.,    0.,    0.,    0.,    0.,    0.,    0.,  384.,\n",
       "             0.,    0.,    0.,    0.,  627.,    0.,    0.,    0.,   20.,\n",
       "             0.,    0.,    0.,    0.,    0.,    0.,   15.,   46.,    0.,\n",
       "             0.,    0.,   15.,    0.,    0.]))),\n",
       " (u'USC00305618',\n",
       "  ((u'PRCP', 1918.0),\n",
       "   array([   0.,    0.,    0.,    0.,    0.,    0.,  117.,    0.,    0.,\n",
       "             0.,  104.,  203.,    0.,    0.,  312.,    0.,    3.,   71.,\n",
       "             0.,    0.,    0.,  107.,    0.,   10.,    3.,    0.,   41.,\n",
       "             0.,   30.,    0.,    0.,    0.,    0.,   25.,    0.,    0.,\n",
       "            18.,    0.,    0.,   64.,    0.,    0.,    0.,    0.,    0.,\n",
       "             3.,    0.,    0.,    0.,  193.,   86.,    0.,   84.,    0.,\n",
       "             0.,  152.,  142.,    0.,    0.,    5.,    0.,    0.,   76.,\n",
       "             0.,    0.,  104.,    0.,   56.,   41.,    0.,    8.,    0.,\n",
       "           160.,    0.,    0.,    0.,    0.,    0.,    0.,    0.,    8.,\n",
       "             0.,    0.,    0.,    0.,    0.,    0.,    0.,    0.,    0.,\n",
       "             0.,    0.,  132.,    0.,    0.,    0.,    0.,    0.,   94.,\n",
       "            71.,   74.,   81.,   28.,    0.,    0.,    0.,   25.,   25.,\n",
       "             0.,    0.,  373.,    0.,    3.,    0.,    0.,    0.,    0.,\n",
       "             0.,    0.,   56.,  244.,    0.,   71.,   13.,    0.,    0.,\n",
       "             0.,    0.,    0.,  107.,    0.,    3.,    0.,   71.,    0.,\n",
       "             0.,    0.,    0.,    0.,    0.,  254.,    0.,   30.,    0.,\n",
       "             5.,    0.,    8.,    0.,    0.,  267.,   25.,    0.,    0.,\n",
       "             0.,    0.,    0.,    0.,  333.,    0.,    0.,  191.,    0.,\n",
       "            53.,    0.,    0.,    0.,    0.,    0.,    0.,    0.,    0.,\n",
       "             0.,  371.,    0.,    0.,   13.,    0.,    0.,    0.,    3.,\n",
       "             0.,  117.,    0.,    0.,    0.,    0.,   33.,    0.,    0.,\n",
       "             0.,   76.,   10.,    0.,    0.,  160.,    0.,    0.,   13.,\n",
       "             0.,    0.,    0.,    0.,    0.,    0.,    0.,    0.,    0.,\n",
       "             0.,    0.,    0.,  554.,  437.,    0.,    0.,    0.,   25.,\n",
       "            20.,    0.,    0.,   30.,    0.,   38.,   36.,   46.,    0.,\n",
       "           104.,    0.,    0.,    0.,    0.,    0.,    0.,    0.,    0.,\n",
       "             0.,    0.,    0.,    0.,    0.,    0.,  300.,    0.,   76.,\n",
       "            25.,    0.,    0.,    0.,    0.,   15.,    0.,   58.,    0.,\n",
       "             0.,    0.,    0.,   66.,    0.,    0.,    0.,    0.,  396.,\n",
       "             0.,  160.,   71.,    0.,    0.,    0.,    0.,   41.,    0.,\n",
       "             0.,    0.,    0.,   91.,    0.,    5.,    0.,    0.,   25.,\n",
       "            20.,    0.,    0.,    0.,    0.,   28.,    3.,    0.,    0.,\n",
       "             0.,    0.,    0.,    0.,   20.,    0.,    0.,    0.,    0.,\n",
       "             0.,    0.,    0.,    0.,    0.,    0.,  117.,    0.,    0.,\n",
       "             0.,   30.,    0.,    0.,    0.,    0.,   23.,    0.,    0.,\n",
       "             0.,    0.,    0.,    0.,    0.,  373.,  206.,   43.,    0.,\n",
       "             0.,    0.,    0.,    0.,    0.,    0.,    0.,  152.,   15.,\n",
       "             0.,    0.,    0.,    3.,    5.,    0.,   23.,    0.,    0.,\n",
       "             0.,    0.,  221.,    0.,   51.,  142.,   36.,    0.,    0.,\n",
       "             0.,    0.,    0.,    0.,  180.,  170.,  170.,    0.,    8.,\n",
       "             0.,    0.,    0.,    0.,   46.]))),\n",
       " (u'USC00305618',\n",
       "  ((u'PRCP', 1919.0),\n",
       "   array([ 137.,  282.,  109.,    3.,    0.,    0.,    0.,   38.,    0.,\n",
       "             0.,    0.,    0.,    0.,    0.,    0.,    0.,    0.,   36.,\n",
       "             0.,    0.,    0.,    0.,  307.,    0.,    0.,    0.,    0.,\n",
       "             0.,    0.,    0.,    0.,    0.,    0.,    0.,   18.,    0.,\n",
       "             0.,    0.,   13.,    0.,    0.,    0.,    0.,    0.,  269.,\n",
       "            74.,    0.,    0.,    3.,    0.,    0.,   61.,   48.,  137.,\n",
       "             0.,  152.,  170.,    0.,    5.,  254.,    0.,    0.,    0.,\n",
       "            79.,    0.,    0.,    0.,  414.,    0.,    0.,    0.,    0.,\n",
       "             3.,   15.,   84.,   15.,   48.,  117.,    0.,    0.,    0.,\n",
       "             0.,    0.,    0.,    0.,  272.,  381.,    0.,    0.,    0.,\n",
       "             0.,    0.,    0.,    3.,   41.,    0.,    0.,    0.,   33.,\n",
       "             0.,  102.,   71.,   13.,    0.,   30.,  386.,    0.,    0.,\n",
       "             0.,    0.,    0.,    0.,    0.,   76.,    0.,    3.,    0.,\n",
       "             0.,    0.,    0.,  218.,    0.,    0.,    0.,    0.,    0.,\n",
       "           104.,    0.,   61.,  310.,    0.,    0.,    0.,    0.,    0.,\n",
       "             0.,  127.,    0.,    0.,    0.,  127.,  117.,  145.,   58.,\n",
       "             0.,    0.,    0.,    0.,    0.,    0.,    0.,    0.,    0.,\n",
       "             0.,    0.,    0.,    5.,    0.,   51.,   43.,    0.,    0.,\n",
       "             0.,    0.,    0.,    0.,    0.,    3.,    0.,    0.,  191.,\n",
       "             0.,    0.,    0.,    0.,    0.,  102.,  173.,    0.,    0.,\n",
       "             0.,    0.,    0.,    0.,    0.,    0.,   23.,    0.,    0.,\n",
       "             0.,   81.,    0.,    3.,    0.,    0.,    0.,   76.,    0.,\n",
       "           175.,  480.,  178.,   20.,  401.,   74.,    0.,    0.,  112.,\n",
       "            18.,   20.,    0.,    0.,   97.,  160.,    0.,    0.,    0.,\n",
       "            13.,  231.,   25.,    0.,    0.,    0.,    0.,    0.,   76.,\n",
       "            79.,  246.,    0.,  122.,  455.,   13.,    0.,    3.,    0.,\n",
       "             0.,   38.,  170.,    0.,   20.,    0.,    0.,  135.,    0.,\n",
       "            10.,  137.,  239.,    0.,    0.,    0.,    0.,    0.,    0.,\n",
       "            51.,  152.,   48.,    0.,    0.,   15.,    5.,    0.,    0.,\n",
       "             0.,   10.,    0.,  371.,  546.,    0.,    0.,    0.,    0.,\n",
       "             0.,    0.,    0.,  132.,   43.,    0.,    0.,    0.,   61.,\n",
       "             0.,    0.,   46.,    0.,   69.,  140.,    0.,  165.,    0.,\n",
       "           114.,    0.,    0.,    0.,    0.,    0.,   41.,  104.,    0.,\n",
       "             0.,    0.,    3.,   23.,    0.,   74.,   66.,   84.,   46.,\n",
       "             0.,    0.,  208.,    0.,    0.,    0.,    0.,    0.,    8.,\n",
       "            13.,  193.,    0.,    0.,    0.,    0.,    0.,    0.,    0.,\n",
       "             0.,    0.,    0.,    0.,   51.,  140.,   18.,    0.,   66.,\n",
       "           112.,    0.,    0.,    0.,    0.,    0.,   86.,   71.,   46.,\n",
       "            99.,  152.,    0.,   56.,   38.,   43.,    0.,   58.,    0.,\n",
       "             0.,   36.,   13.,    5.,    0.,    0.,   53.,    0.,    0.,\n",
       "             0.,    0.,    0.,   81.,    0.]))),\n",
       " (u'USC00305618',\n",
       "  ((u'PRCP', 1920.0),\n",
       "   array([    3.,     0.,     0.,     0.,     0.,     0.,     0.,    71.,\n",
       "            163.,     0.,    30.,     0.,     0.,     0.,     0.,    66.,\n",
       "             51.,     0.,    84.,     5.,     0.,    86.,    36.,   183.,\n",
       "              0.,     0.,     3.,     0.,     0.,     0.,     0.,     0.,\n",
       "              0.,     0.,   254.,   594.,    97.,     0.,     0.,     0.,\n",
       "             66.,     0.,     0.,   119.,     0.,    84.,     0.,     0.,\n",
       "              0.,    28.,     0.,   124.,     0.,     0.,    10.,    36.,\n",
       "              0.,     0.,     0.,     0.,     0.,     0.,     0.,    15.,\n",
       "            508.,     0.,     0.,     0.,     0.,     0.,    64.,   272.,\n",
       "              0.,     0.,    51.,     0.,     0.,    79.,   107.,     0.,\n",
       "              0.,     0.,     0.,     0.,    18.,     0.,     0.,   122.,\n",
       "              0.,     0.,    30.,    99.,    nan,    25.,    30.,    nan,\n",
       "              3.,    nan,     0.,    nan,    nan,    nan,   358.,    nan,\n",
       "             nan,    86.,    86.,    nan,    nan,    58.,   216.,    nan,\n",
       "             76.,    nan,    nan,     8.,    46.,   114.,    nan,    33.,\n",
       "             36.,     0.,     0.,    18.,     0.,     0.,     0.,   188.,\n",
       "              0.,    28.,    66.,     0.,   117.,   104.,     0.,     0.,\n",
       "              0.,     0.,     0.,     0.,   429.,     0.,     0.,     0.,\n",
       "             10.,     0.,     0.,     0.,     0.,     0.,     0.,    nan,\n",
       "             nan,    nan,    36.,   526.,    nan,    nan,    25.,    nan,\n",
       "             nan,    nan,    nan,   191.,    nan,    nan,    25.,   170.,\n",
       "             18.,    nan,    nan,   104.,    nan,    nan,    25.,    nan,\n",
       "             nan,    nan,     0.,    nan,    nan,    nan,    81.,   305.,\n",
       "             20.,    nan,    nan,    13.,    nan,     0.,    nan,    nan,\n",
       "            193.,    nan,    97.,   102.,    nan,    nan,     3.,    13.,\n",
       "             nan,    nan,    71.,    56.,   427.,    nan,    nan,    nan,\n",
       "             nan,    nan,    nan,    91.,     5.,    30.,    nan,    nan,\n",
       "             nan,   117.,   127.,    nan,    53.,   135.,   284.,     0.,\n",
       "             13.,   899.,    58.,   264.,    58.,     0.,    nan,    nan,\n",
       "             20.,     0.,    nan,    nan,     0.,    nan,    nan,     0.,\n",
       "              3.,     0.,     0.,     0.,     0.,     0.,     0.,     0.,\n",
       "              0.,    25.,     0.,     0.,   226.,     0.,   376.,     0.,\n",
       "              0.,     0.,     5.,     0.,     0.,     0.,     0.,    36.,\n",
       "              0.,     0.,     3.,     0.,     3.,     0.,   122.,     0.,\n",
       "           1275.,     0.,     0.,     0.,     0.,     0.,     0.,     0.,\n",
       "              0.,     0.,     0.,     0.,    23.,     0.,     0.,     0.,\n",
       "            122.,     0.,     0.,     0.,     0.,     0.,     0.,     0.,\n",
       "              0.,     0.,     0.,    33.,   102.,     8.,     0.,     0.,\n",
       "              0.,   231.,     0.,     0.,     0.,     0.,    33.,     0.,\n",
       "              0.,     0.,     0.,     0.,     0.,     0.,     8.,   155.,\n",
       "            323.,     0.,     0.,     0.,     0.,   119.,   246.,     0.,\n",
       "             28.,     0.,    15.,     0.,     0.,     0.,   345.,     0.,\n",
       "              0.,   300.,     0.,     0.,     0.,     0.,     3.,    23.,\n",
       "              0.,     0.,     0.,   315.,     0.,     3.,     0.,     0.,\n",
       "              0.,     0.,     0.,   130.,   104.,     0.,     0.,    53.,\n",
       "            191.,     0.,     0.,     0.,     0.]))),\n",
       " (u'USC00305618',\n",
       "  ((u'PRCP', 1921.0),\n",
       "   array([   0.,    5.,    0.,    0.,   36.,    0.,   61.,   23.,    0.,\n",
       "             0.,    0.,    5.,    0.,  452.,    0.,    0.,    0.,    0.,\n",
       "             0.,    0.,    0.,    8.,    0.,    0.,    0.,    0.,    0.,\n",
       "             0.,    0.,   56.,  152.,    0.,    3.,    0.,    0.,   46.,\n",
       "             0.,    8.,    3.,   64.,    0.,  107.,    0.,    0.,    0.,\n",
       "             0.,    0.,    0.,    0.,    0.,  610.,    0.,    5.,    0.,\n",
       "             0.,    0.,    0.,  152.,  114.,   nan,    8.,   20.,   nan,\n",
       "            13.,    8.,   nan,   nan,  178.,   nan,   nan,  104.,   23.,\n",
       "            nan,    3.,   13.,   nan,   nan,    0.,   20.,    5.,   nan,\n",
       "            nan,  142.,  102.,   nan,    3.,   25.,   nan,   nan,  127.,\n",
       "           137.,    0.,    0.,    0.,    0.,    0.,    8.,   86.,    3.,\n",
       "             0.,    8.,    0.,    0.,    0.,  191.,    0.,  132.,   71.,\n",
       "            43.,    0.,    0.,    0.,  170.,    0.,    0.,    0.,    0.,\n",
       "             0.,  211.,   89.,  107.,    0.,    0.,  224.,  239.,    0.,\n",
       "             0.,    0.,    0.,    0.,    0.,    0.,  323.,   23.,    0.,\n",
       "            30.,    0.,    0.,    0.,    0.,    0.,   28.,   58.,    0.,\n",
       "           163.,    0.,    0.,    3.,    0.,    0.,    0.,    0.,    0.,\n",
       "             0.,   20.,    0.,    0.,    0.,    0.,    0.,    0.,   28.,\n",
       "             0.,    0.,    0.,    0.,    0.,   66.,    0.,    0.,    0.,\n",
       "             0.,   20.,   56.,    0.,    0.,  104.,   64.,  119.,  373.,\n",
       "            91.,   30.,    0.,    0.,    0.,    0.,    0.,    0.,    0.,\n",
       "             0.,   20.,    3.,    0.,   13.,    0.,  183.,    0.,    0.,\n",
       "             0.,  323.,    0.,    3.,    0.,    0.,    0.,    0.,   97.,\n",
       "             0.,    0.,   76.,    0.,   51.,   nan,  241.,  165.,   nan,\n",
       "            nan,   nan,  643.,    0.,   nan,   nan,   nan,    0.,   nan,\n",
       "           234.,   nan,   nan,   48.,   53.,   nan,   nan,   nan,   nan,\n",
       "            nan,   nan,   nan,   nan,   nan,   nan,   nan,   nan,    0.,\n",
       "             0.,    0.,   18.,    0.,    0.,   41.,    0.,    0.,    0.,\n",
       "             0.,   71.,   51.,    0.,    0.,    0.,    0.,  135.,   28.,\n",
       "             0.,    0.,  203.,    0.,    0.,    0.,   51.,    0.,    0.,\n",
       "            13.,    0.,  381.,    0.,    0.,   53.,    0.,   43.,    0.,\n",
       "             0.,   41.,    0.,    0.,    0.,   18.,    0.,    0.,    0.,\n",
       "             0.,    0.,    0.,    0.,   64.,    0.,    0.,    0.,    0.,\n",
       "             0.,    0.,    0.,    0.,    0.,    0.,    0.,  160.,    0.,\n",
       "             0.,    0.,    0.,    0.,    0.,    0.,   84.,   13.,    0.,\n",
       "             3.,    0.,   84.,    0.,    0.,  239.,    0.,    0.,  147.,\n",
       "            51.,    0.,    0.,   53.,    0.,   97.,   46.,   74.,    0.,\n",
       "             0.,    0.,  297.,   81.,   nan,    0.,    0.,    0.,    0.,\n",
       "             0.,    0.,    0.,   53.,    0.,    0.,    0.,    0.,    0.,\n",
       "           124.,    0.,    0.,    0.,    0.,   76.,  178.,    0.,    0.,\n",
       "            10.,    0.,   28.,    0.,    0.]))),\n",
       " (u'USC00305618',\n",
       "  ((u'PRCP', 1922.0),\n",
       "   array([   0.,    0.,    8.,   25.,   28.,    0.,    0.,    3.,    0.,\n",
       "             0.,  351.,    0.,    0.,    0.,    0.,    0.,    0.,    0.,\n",
       "             5.,    0.,   91.,    0.,    0.,    0.,    0.,    0.,    0.,\n",
       "            64.,  107.,    0.,    0.,    0.,  224.,    0.,    0.,   10.,\n",
       "            53.,    0.,    0.,    0.,    5.,   61.,  155.,    0.,    0.,\n",
       "           216.,   18.,    0.,    0.,    0.,    0.,    0.,    0.,    5.,\n",
       "             0.,    0.,    0.,  163.,    0.,    0.,  163.,    0.,  102.,\n",
       "            66.,    0.,  221.,    0.,    0.,   56.,  150.,    0.,    0.,\n",
       "             0.,    0.,    0.,    0.,    0.,   94.,  218.,    0.,    0.,\n",
       "             0.,    0.,    0.,    0.,   38.,    0.,    0.,   38.,  168.,\n",
       "           102.,    0.,    0.,   43.,    0.,    0.,   38.,    0.,    0.,\n",
       "             0.,   46.,    0.,    0.,   25.,  170.,    0.,   76.,    3.,\n",
       "            23.,    0.,    0.,    0.,    0.,    0.,    0.,    0.,    0.,\n",
       "             0.,    0.,    0.,    0.,    0.,   51.,  198.,  394.,    0.,\n",
       "             0.,    0.,    0.,    0.,    0.,    0.,    0.,    0.,   15.,\n",
       "             0.,    0.,  221.,  102.,    0.,    0.,    0.,    0.,    0.,\n",
       "            38.,    0.,    0.,    0.,    0.,    0.,    0.,   10.,  180.,\n",
       "           107.,   nan,   84.,  173.,   nan,   nan,    0.,   nan,   86.,\n",
       "            nan,   nan,   nan,   nan,   nan,  178.,  119.,    0.,  163.,\n",
       "           117.,    0.,   nan,    0.,  155.,    0.,  340.,    0.,   71.,\n",
       "            nan,  582.,    0.,  198.,   56.,  122.,    0.,    0.,   53.,\n",
       "             0.,    0.,    0.,    0.,  546.,    0.,   13.,    0.,    0.,\n",
       "            58.,    0.,    0.,    0.,   13.,    5.,   71.,    0.,    0.,\n",
       "             0.,   53.,    0.,    0.,    0.,   53.,   10.,    0.,  406.,\n",
       "             0.,    0.,   15.,    0.,    0.,    0.,    0.,   25.,    0.,\n",
       "             0.,    0.,   15.,    0.,    0.,   66.,    0.,    0.,    0.,\n",
       "             0.,    0.,    3.,   53.,  107.,   89.,    0.,    3.,  127.,\n",
       "             0.,    0.,    0.,  483.,    0.,  124.,    0.,    0.,    0.,\n",
       "             0.,    0.,  490.,    0.,    0.,    0.,    0.,    0.,    0.,\n",
       "             0.,    0.,    0.,    0.,    0.,    0.,    0.,    0.,    0.,\n",
       "             0.,    0.,    0.,    0.,    0.,    0.,    0.,    0.,    0.,\n",
       "           152.,  107.,    0.,  150.,   51.,    0.,    0.,    0.,    0.,\n",
       "             0.,    0.,    0.,    0.,    0.,    0.,    0.,   81.,    0.,\n",
       "             0.,    0.,    0.,    0.,    0.,    0.,    0.,    0.,    0.,\n",
       "           117.,    0.,    0.,   33.,   18.,   15.,    0.,    0.,    0.,\n",
       "             0.,    0.,    0.,   46.,    0.,    0.,    0.,    0.,  114.,\n",
       "             0.,    0.,    0.,    0.,    0.,    0.,   20.,    0.,    0.,\n",
       "             0.,    5.,    0.,    0.,    0.,  117.,    0.,   38.,   58.,\n",
       "             0.,    0.,   20.,   51.,    0.,   79.,   69.,    0.,  160.,\n",
       "             0.,    0.,    0.,   23.,    0.,    0.,    0.,    0.,    0.,\n",
       "             0.,  203.,  140.,    0.,    0.]))),\n",
       " (u'USC00305618',\n",
       "  ((u'PRCP', 1923.0),\n",
       "   array([ 498.,    0.,  152.,  150.,    0.,    0.,    0.,   99.,   89.,\n",
       "             0.,    0.,   74.,    0.,  234.,    0.,    0.,    0.,    0.,\n",
       "             0.,  135.,   76.,  122.,    0.,  183.,    0.,    0.,    0.,\n",
       "            84.,    0.,    0.,    3.,   20.,   10.,   13.,    0.,    0.,\n",
       "           201.,    0.,    0.,    0.,   66.,   94.,    0.,  231.,    0.,\n",
       "             0.,    0.,    0.,    0.,    0.,   36.,    0.,    0.,    0.,\n",
       "             0.,    0.,   51.,   86.,   48.,    0.,    0.,    0.,    0.,\n",
       "             0.,  127.,  104.,    0.,    0.,   36.,    0.,  201.,   76.,\n",
       "             0.,    0.,  224.,   30.,    0.,   10.,    0.,    0.,    5.,\n",
       "           127.,    0.,    0.,    5.,    0.,    0.,    0.,    0.,    0.,\n",
       "             0.,    0.,    0.,   20.,  193.,  122.,    0.,   36.,    0.,\n",
       "             0.,    0.,    0.,    0.,    0.,   43.,    0.,    0.,    0.,\n",
       "             0.,    0.,    0.,    0.,    0.,    0.,    0.,    0.,    0.,\n",
       "           411.,    0.,    0.,    0.,    0.,    0.,    0.,    0.,    0.,\n",
       "             0.,    0.,  196.,    0.,    0.,   58.,   61.,    0.,    8.,\n",
       "             0.,    0.,    0.,    0.,    0.,  191.,    0.,    0.,    0.,\n",
       "             0.,    0.,    0.,    0.,    0.,    0.,    0.,    0.,    0.,\n",
       "           267.,   13.,    0.,  127.,  127.,   18.,    0.,    0.,    0.,\n",
       "             0.,    0.,    0.,  102.,    0.,    0.,    0.,    0.,    0.,\n",
       "             0.,    0.,    0.,    8.,    0.,   64.,    0.,   15.,    0.,\n",
       "             0.,    0.,    0.,  142.,   13.,    0.,    5.,    0.,    0.,\n",
       "             0.,    0.,    0.,    0.,    0.,    0.,   25.,   56.,    0.,\n",
       "             0.,    0.,    0.,    0.,  114.,    0.,   51.,    0.,    0.,\n",
       "             0.,   33.,   43.,    3.,   15.,    0.,    0.,    0.,    0.,\n",
       "             0.,    0.,    0.,    0.,    0.,    0.,    0.,   10.,    0.,\n",
       "             0.,    5.,    0.,    0.,    0.,   51.,    0.,    0.,   86.,\n",
       "             0.,    0.,    0.,    0.,    0.,  140.,   10.,    0.,    0.,\n",
       "             0.,    0.,   10.,   15.,    0.,    0.,    0.,  104.,    0.,\n",
       "             0.,    0.,    0.,    0.,    0.,    0.,    0.,    0.,    0.,\n",
       "             0.,    8.,  343.,  104.,  183.,    0.,    0.,    0.,    0.,\n",
       "             0.,    0.,    0.,    0.,    0.,    0.,    0.,    0.,    0.,\n",
       "             0.,    0.,    0.,    5.,    0.,    0.,    0.,    0.,   20.,\n",
       "             0.,    0.,   15.,   89.,   51.,    0.,    0.,  434.,  498.,\n",
       "             0.,    0.,    0.,    3.,    3.,  104.,    0.,    0.,    0.,\n",
       "             0.,    0.,    0.,   38.,   30.,    0.,    0.,    0.,    0.,\n",
       "             0.,    0.,    0.,    0.,    0.,    0.,    0.,    0.,    0.,\n",
       "             0.,   20.,  483.,   28.,    0.,    0.,   13.,    0.,    0.,\n",
       "           282.,    0.,    0.,    0.,    0.,  333.,  119.,    0.,    0.,\n",
       "            20.,    0.,   33.,    0.,   76.,   30.,    0.,    0.,    0.,\n",
       "             0.,    0.,    0.,   28.,  102.,  124.,   28.,    0.,    0.,\n",
       "            46.,   66.,    0.,   30.,   84.])))]"
      ]
     },
     "execution_count": 54,
     "metadata": {},
     "output_type": "execute_result"
    }
   ],
   "source": [
    "rdd0.take(10) # test output"
   ]
  },
  {
   "cell_type": "code",
   "execution_count": 73,
   "metadata": {
    "slideshow": {
     "slide_type": "subslide"
    }
   },
   "outputs": [
    {
     "name": "stdout",
     "output_type": "stream",
     "text": [
      "number of stations= 45833\n",
      "-rw-rw-r-- 1 ec2-user ec2-user 110449557 Mar  9 06:10 SampleStations.pickle\n"
     ]
    }
   ],
   "source": [
    "groups=rdd0.groupByKey().cache()\n",
    "print 'number of stations=',groups.count()\n",
    "\n",
    "groups1=groups.sample(False,0.01).collect()\n",
    "groups2=[(g[0],[e for e in g[1]]) for g in groups1]\n",
    "\n",
    "dumpS3(groups2,'/Weather/','SampleStations.pickle')"
   ]
  },
  {
   "cell_type": "code",
   "execution_count": 19,
   "metadata": {
    "collapsed": true,
    "slideshow": {
     "slide_type": "subslide"
    }
   },
   "outputs": [],
   "source": [
    "group_Sample=rdd0.sample(False,0.001).groupByKey().mapValues(list).cache()\n",
    "group_Sample.first()"
   ]
  },
  {
   "cell_type": "code",
   "execution_count": 76,
   "metadata": {
    "collapsed": true,
    "slideshow": {
     "slide_type": "subslide"
    }
   },
   "outputs": [],
   "source": [
    "Means=rdd0.aggregateByKey((np.zeros(365),1),\\\n",
    "                          lambda S,D: sumWithNan(S,(D[1],1)),\\\n",
    "                          lambda S1,S2: sumWithNanithNan(S1,S2))\\\n",
    ".cache()#.repartition(N)"
   ]
  },
  {
   "cell_type": "code",
   "execution_count": 77,
   "metadata": {
    "scrolled": true,
    "slideshow": {
     "slide_type": "skip"
    }
   },
   "outputs": [
    {
     "data": {
      "text/plain": [
       "[(u'USC00213727',\n",
       "  (array([[   67.,   511.,   326.,   285.,   122.,   321.,   193.,   155.,\n",
       "             398.,   224.,   421.,   390.,   260.,   254.,   484.,   342.,\n",
       "             249.,   124.,   133.,   194.,   232.,   228.,   267.,   546.,\n",
       "             635.,   270.,    92.,   430.,   328.,   239.,   324.,    71.,\n",
       "             171.,    73.,   244.,   421.,   133.,    54.,    81.,   218.,\n",
       "             317.,   181.,    95.,    91.,   211.,   184.,   302.,   153.,\n",
       "             175.,   244.,   188.,   272.,   115.,   330.,   452.,   159.,\n",
       "             203.,   420.,   393.,   254.,   449.,   412.,   533.,   369.,\n",
       "              51.,   315.,   125.,   317.,   113.,   176.,   730.,   215.,\n",
       "             203.,   663.,   307.,   208.,   448.,   525.,   405.,   544.,\n",
       "             310.,   295.,   365.,   206.,   585.,   391.,   570.,   331.,\n",
       "             528.,   289.,   571.,   507.,   379.,   581.,   336.,   622.,\n",
       "             530.,   473.,   899.,   645.,   242.,   407.,   683.,   547.,\n",
       "             653.,   758.,   665.,   345.,   290.,   920.,  1254.,   641.,\n",
       "             866.,   936.,   300.,   573.,   815.,   899.,   517.,   445.,\n",
       "             982.,  1109.,   501.,  1488.,   859.,   660.,   803.,   401.,\n",
       "             460.,   712.,  1253.,   516.,   424.,   692.,  1740.,   908.,\n",
       "             261.,   664.,   610.,   575.,  1285.,   646.,  1136.,   686.,\n",
       "             579.,   272.,  1032.,   965.,  1645.,   853.,  1163.,  1176.,\n",
       "            1043.,   774.,   396.,   907.,  1185.,  1568.,  1194.,   733.,\n",
       "            1110.,  1271.,  1354.,   740.,   895.,  1183.,   523.,  1106.,\n",
       "            1167.,   862.,  2282.,  1028.,   932.,  1317.,   940.,  1924.,\n",
       "            1074.,  1033.,   668.,  1465.,   904.,  2014.,  2576.,  2526.,\n",
       "            1310.,   378.,   938.,  1472.,  1564.,   818.,  1577.,   590.,\n",
       "            1356.,   760.,   873.,   753.,   931.,   921.,   948.,   792.,\n",
       "            1422.,   880.,  2061.,  1395.,   627.,  2310.,   960.,  1817.,\n",
       "             976.,   586.,  1049.,  1422.,   541.,   341.,   475.,  1453.,\n",
       "             716.,  1341.,  1118.,  1465.,   648.,   813.,   732.,   982.,\n",
       "            1773.,   559.,   465.,   818.,   611.,   860.,   306.,   765.,\n",
       "            1298.,   821.,  1187.,   691.,  1095.,   820.,   424.,  1471.,\n",
       "            1157.,   967.,   881.,   982.,  1258.,  1578.,   752.,   454.,\n",
       "             990.,   923.,   576.,   903.,  1596.,   996.,  1233.,  1265.,\n",
       "             932.,   636.,   328.,   769.,   743.,  1296.,   552.,   790.,\n",
       "             957.,   997.,   564.,   892.,   530.,   663.,   295.,   529.,\n",
       "             986.,  1214.,   547.,   291.,   633.,   333.,   456.,   351.,\n",
       "            1385.,  1208.,  2222.,   614.,   625.,   544.,   322.,   487.,\n",
       "             340.,   730.,   631.,   324.,   610.,   495.,   579.,   294.,\n",
       "             412.,   171.,   547.,   495.,   657.,   392.,   722.,  1085.,\n",
       "             907.,   603.,    86.,    57.,   361.,   264.,   236.,   548.,\n",
       "             547.,   364.,   422.,   655.,   393.,   137.,   116.,   531.,\n",
       "             473.,   475.,   521.,   476.,   675.,   570.,   447.,   197.,\n",
       "             375.,   431.,   518.,   197.,   270.,    16.,    93.,   229.,\n",
       "             199.,   979.,   495.,   345.,   268.,   291.,   351.,   429.,\n",
       "             228.,   302.,   580.,   258.,   412.,   288.,   129.,   173.,\n",
       "             282.,   160.,   172.,   211.,   546.,   197.,   131.,   178.,\n",
       "             434.,   154.,   188.,   232.,   269.]]), 35)),\n",
       " (u'USC00246747',\n",
       "  (array([[  407.,   262.,   309.,    39.,   252.,   556.,   318.,   254.,\n",
       "             185.,   278.,   360.,   181.,   228.,   273.,   425.,   297.,\n",
       "             302.,   485.,   454.,   443.,   160.,   466.,   167.,   256.,\n",
       "             333.,   325.,   200.,   293.,   171.,    80.,    74.,   257.,\n",
       "             351.,   312.,   422.,   284.,   223.,   423.,   432.,   550.,\n",
       "             354.,   166.,   157.,   454.,   314.,    66.,    33.,   346.,\n",
       "             175.,   345.,   420.,    90.,   669.,   327.,   299.,   205.,\n",
       "             216.,   206.,   727.,   290.,   575.,   456.,   311.,   393.,\n",
       "             534.,   193.,   526.,   397.,   308.,   267.,   653.,   579.,\n",
       "             538.,   163.,   437.,   963.,   628.,   485.,   365.,   179.,\n",
       "            1197.,   878.,   477.,   680.,   280.,  1053.,   822.,   409.,\n",
       "            1190.,   724.,   493.,   707.,   690.,   858.,   717.,   331.,\n",
       "             634.,   781.,   571.,   693.,  1030.,   683.,   457.,   492.,\n",
       "             361.,   984.,   460.,   575.,  1294.,  1213.,   671.,   342.,\n",
       "            1707.,   495.,  1539.,  2601.,  1356.,  2038.,  1038.,  1080.,\n",
       "            1195.,   977.,  1013.,   530.,   642.,  1569.,  2361.,  1481.,\n",
       "            1059.,   894.,  1722.,  2169.,   928.,   817.,  1502.,   764.,\n",
       "            1397.,  1269.,  1575.,  1246.,  1881.,  2130.,  1673.,  1495.,\n",
       "            1474.,  1656.,  2066.,  1014.,  1358.,  1087.,   995.,   556.,\n",
       "             847.,  1043.,   959.,   911.,  1444.,  2177.,  1972.,  1431.,\n",
       "            1196.,   793.,  1133.,   923.,  2223.,  1666.,  1488.,  1030.,\n",
       "            1151.,   696.,   476.,  1054.,   702.,   802.,   986.,  1271.,\n",
       "             677.,   709.,   438.,   421.,   627.,   158.,   533.,  1093.,\n",
       "             483.,   546.,   561.,  1252.,   239.,   360.,   538.,   906.,\n",
       "             613.,   326.,   376.,   236.,   131.,   549.,    94.,   334.,\n",
       "             178.,   511.,   315.,   496.,   608.,   284.,   922.,   765.,\n",
       "             491.,  1082.,   188.,   351.,   621.,   626.,   737.,   239.,\n",
       "             480.,   224.,   103.,   262.,   481.,   812.,   156.,   759.,\n",
       "             335.,   628.,   195.,   347.,   379.,   119.,   376.,  1212.,\n",
       "             701.,   792.,   636.,   305.,   434.,   338.,   521.,    91.,\n",
       "             553.,   312.,   516.,   859.,   620.,   495.,   371.,    92.,\n",
       "             233.,   532.,   843.,   825.,   292.,  1254.,  1575.,  1130.,\n",
       "             865.,   569.,   787.,   886.,  1559.,  1083.,   503.,   995.,\n",
       "             677.,   625.,   442.,   325.,   237.,   902.,   367.,   201.,\n",
       "             425.,   780.,   656.,   363.,  1161.,   896.,  1083.,   886.,\n",
       "             954.,   686.,   428.,   363.,   616.,   404.,   172.,   987.,\n",
       "            1324.,   790.,   616.,   316.,   371.,   740.,   874.,   430.,\n",
       "             724.,   215.,   488.,   296.,  1129.,   734.,   172.,  1545.,\n",
       "             770.,   497.,   315.,   313.,   369.,   364.,   463.,   198.,\n",
       "             563.,   493.,   455.,   509.,   607.,   321.,   605.,   873.,\n",
       "             133.,   584.,   333.,   129.,   136.,   237.,   150.,   662.,\n",
       "             556.,   410.,   363.,   219.,   236.,   120.,   398.,   336.,\n",
       "             239.,   675.,   201.,   135.,   442.,   157.,   109.,   130.,\n",
       "             254.,   101.,   258.,   283.,   447.,   265.,   175.,   262.,\n",
       "             263.,   143.,   383.,   314.,   291.,   210.,   135.,   455.,\n",
       "             201.,   273.,   232.,   262.,   113.]]), 64)),\n",
       " (u'US1GATG0001',\n",
       "  (array([[   30.,   175.,    38.,     5.,   147.,   104.,    51.,     8.,\n",
       "              10.,   144.,   162.,    43.,     0.,     0.,     0.,     0.,\n",
       "             521.,   203.,   153.,     0.,   414.,   160.,    28.,    36.,\n",
       "             399.,   175.,   109.,     0.,    43.,   414.,    58.,    10.,\n",
       "             290.,    15.,   470.,   803.,   254.,    13.,    74.,     0.,\n",
       "             180.,     0.,     5.,   185.,    96.,     8.,    91.,    10.,\n",
       "               5.,   724.,     0.,     0.,     0.,   224.,     0.,   105.,\n",
       "              13.,    10.,    36.,   127.,   312.,   145.,   320.,    28.,\n",
       "              86.,     0.,     0.,     0.,   218.,    51.,   218.,   458.,\n",
       "               5.,    56.,   393.,   249.,   114.,     0.,     0.,     0.,\n",
       "              25.,   117.,    15.,     0.,     0.,    53.,   180.,   503.,\n",
       "              10.,   325.,   466.,   406.,   519.,     0.,   340.,   435.,\n",
       "               0.,     0.,    36.,     0.,     0.,    18.,    31.,   274.,\n",
       "              16.,     0.,     0.,     0.,   109.,    45.,    69.,    36.,\n",
       "              33.,    40.,   269.,     0.,     0.,   318.,    58.,     0.,\n",
       "               0.,     0.,    56.,   470.,    99.,   147.,    15.,   302.,\n",
       "              97.,    76.,   277.,     0.,     8.,   211.,   188.,    81.,\n",
       "             196.,   320.,    61.,     0.,   117.,   239.,   114.,   145.,\n",
       "              74.,    97.,   124.,     3.,   285.,    13.,    66.,   173.,\n",
       "               0.,    38.,   109.,   307.,   620.,    10.,     0.,     0.,\n",
       "              58.,   549.,   109.,    20.,    13.,     0.,   691.,   284.,\n",
       "             295.,     0.,     0.,     0.,     0.,    58.,   115.,     0.,\n",
       "               0.,    15.,    13.,    53.,   691.,   170.,   420.,     0.,\n",
       "              79.,     0.,   175.,   359.,     0.,   351.,    97.,   152.,\n",
       "             678.,   157.,   303.,    79.,    89.,    94.,    23.,    58.,\n",
       "               5.,     0.,   158.,     0.,     0.,     0.,   188.,   579.,\n",
       "             201.,    20.,     0.,   152.,   356.,     0.,   163.,     0.,\n",
       "              23.,   104.,   114.,   107.,   297.,   238.,     0.,     0.,\n",
       "             292.,   328.,   175.,    87.,   343.,    92.,    18.,   170.,\n",
       "              81.,     5.,    58.,   302.,    81.,   155.,   445.,   124.,\n",
       "             150.,    10.,    81.,     8.,   130.,     0.,   102.,   122.,\n",
       "              13.,     0.,     0.,   287.,   117.,     3.,    84.,     0.,\n",
       "              13.,     0.,   143.,    48.,   874.,   310.,   513.,    10.,\n",
       "              89.,   343.,    56.,     0.,    79.,   861.,   244.,     0.,\n",
       "             180.,   130.,   155.,     3.,    10.,   297.,   290.,     0.,\n",
       "               8.,    23.,    76.,    92.,    94.,   315.,   317.,   196.,\n",
       "             178.,     0.,    79.,   584.,     0.,     5.,     0.,     0.,\n",
       "             115.,   460.,   384.,   518.,   274.,    64.,     0.,     8.,\n",
       "              61.,     0.,    58.,   106.,     0.,    76.,    10.,     3.,\n",
       "               0.,     3.,   579.,    28.,    66.,   231.,   173.,   107.,\n",
       "             416.,     0.,     0.,     8.,    25.,     0.,   363.,     5.,\n",
       "               5.,     0.,     0.,    84.,   445.,   769.,   203.,   185.,\n",
       "             318.,     0.,     0.,     0.,    23.,    18.,   127.,     0.,\n",
       "            1199.,   340.,   597.,    91.,   460.,     5.,    74.,   424.,\n",
       "             458.,     0.,   160.,    74.,    91.,     0.,   696.,   698.,\n",
       "             292.,     0.,   109.,     0.,    58.]]), 7)),\n",
       " (u'US1WYNT0044',\n",
       "  (array([[  15.,    0.,    0.,    0.,    0.,    0.,    0.,    0.,   18.,\n",
       "             15.,   76.,    0.,    0.,    0.,    0.,    0.,   13.,    0.,\n",
       "              5.,   48.,    0.,   69.,    5.,   41.,    0.,    0.,    0.,\n",
       "              0.,    0.,    0.,   13.,    0.,    0.,   64.,    0.,    0.,\n",
       "              0.,    5.,    0.,    0.,    0.,   15.,    0.,   30.,    0.,\n",
       "              3.,    0.,    0.,    0.,    0.,  102.,   69.,    0.,   79.,\n",
       "             10.,    3.,   51.,    0.,    0.,    0.,    0.,   13.,    3.,\n",
       "              0.,    0.,    0.,    0.,    0.,    0.,    0.,    0.,    0.,\n",
       "              0.,    0.,    0.,    0.,    0.,   20.,   41.,    0.,    0.,\n",
       "              0.,    0.,    0.,    0.,    0.,    0.,    0.,    0.,    0.,\n",
       "              0.,    0.,  122.,   28.,    0.,   13.,    0.,    5.,    0.,\n",
       "             46.,   20.,    3.,   18.,    5.,   20.,    0.,    0.,    5.,\n",
       "              0.,    0.,    0.,    0.,    0.,    0.,    0.,    3.,   13.,\n",
       "             10.,   71.,   79.,    8.,    0.,    0.,   21.,   18.,    0.,\n",
       "              0.,    0.,    0.,   89.,    3.,   86.,    0.,    0.,    0.,\n",
       "              0.,    0.,    0.,  227.,   97.,   58.,   33.,   51.,  186.,\n",
       "             66.,   28.,    0.,    0.,  152.,   38.,    3.,    0.,    0.,\n",
       "              3.,    0.,    0.,   20.,    0.,    0.,    0.,   89.,    0.,\n",
       "             30.,    0.,    5.,    0.,   48.,   38.,    0.,    0.,  193.,\n",
       "             53.,    0.,    0.,    0.,   56.,   58.,    0.,    0.,    0.,\n",
       "             20.,    0.,  112.,    0.,    0.,    0.,    0.,   10.,   23.,\n",
       "              0.,    0.,    0.,    3.,   64.,    3.,    0.,    0.,    0.,\n",
       "              0.,    0.,    0.,    0.,    0.,    0.,    0.,    0.,    0.,\n",
       "            130.,    5.,    0.,    0.,    0.,    0.,   56.,    0.,    8.,\n",
       "              0.,    0.,    0.,    3.,    0.,    5.,    0.,    0.,    0.,\n",
       "              0.,    0.,    3.,    0.,    0.,    0.,    0.,   18.,    0.,\n",
       "              0.,    0.,    0.,    0.,    0.,    0.,    8.,    0.,    0.,\n",
       "             10.,    0.,    0.,    0.,    0.,    0.,    0.,    0.,    0.,\n",
       "              0.,    0.,    0.,   10.,    0.,   13.,    0.,    0.,   13.,\n",
       "              0.,    0.,    0.,    0.,    0.,    0.,    0.,    0.,    0.,\n",
       "              0.,    0.,    0.,    0.,    0.,    0.,    0.,    0.,    0.,\n",
       "              0.,    0.,    0.,    0.,    0.,    5.,    0.,    0.,    0.,\n",
       "              0.,   89.,    5.,    0.,    0.,    0.,    0.,    0.,    0.,\n",
       "             10.,   10.,   20.,    0.,    0.,    0.,   20.,    0.,    0.,\n",
       "              0.,    0.,    0.,    0.,    0.,    0.,    3.,   61.,    5.,\n",
       "              0.,   38.,    0.,    0.,   21.,   25.,    0.,  130.,    0.,\n",
       "              5.,    0.,    0.,    0.,    0.,    8.,    0.,    0.,    3.,\n",
       "              0.,   66.,    5.,   15.,   20.,    5.,    0.,    0.,    0.,\n",
       "              0.,    0.,    3.,    0.,    0.,    0.,   91.,    0.,    0.,\n",
       "              0.,    0.,   10.,    8.,   74.,    0.,    0.,    0.,    0.,\n",
       "              0.,    0.,    0.,   61.,   71.]]), 4)),\n",
       " (u'US1MECM0008',\n",
       "  (array([[   66.,   132.,   101.,    13.,     0.,     0.,    20.,     0.,\n",
       "              10.,     0.,     0.,     5.,   412.,    25.,     0.,     0.,\n",
       "              15.,   224.,   183.,   229.,    25.,   130.,     0.,   124.,\n",
       "              72.,   305.,   201.,   224.,     8.,     0.,     0.,    38.,\n",
       "              84.,   160.,     0.,     0.,   155.,     0.,    36.,    10.,\n",
       "               0.,     0.,    13.,     0.,     0.,     0.,     0.,    36.,\n",
       "               0.,     0.,     0.,    18.,    25.,     0.,     3.,   605.,\n",
       "            1117.,    54.,    74.,   374.,    92.,     0.,     0.,     0.,\n",
       "               5.,   544.,    53.,     0.,     0.,   152.,   117.,     0.,\n",
       "             115.,   726.,    38.,   152.,     3.,    18.,    13.,     0.,\n",
       "             112.,   191.,   493.,    33.,    71.,     0.,     0.,    64.,\n",
       "             358.,   772.,   122.,   157.,     0.,     0.,   127.,    48.,\n",
       "              13.,     3.,     8.,   117.,   114.,   104.,     0.,   378.,\n",
       "               0.,     0.,   556.,   109.,     0.,    68.,     8.,     0.,\n",
       "             536.,   653.,     3.,    46.,    13.,    94.,    64.,     0.,\n",
       "               0.,     5.,     0.,     3.,    92.,    15.,    30.,    46.,\n",
       "              76.,     0.,     8.,     0.,     0.,     0.,    61.,   267.,\n",
       "              58.,    41.,   274.,   265.,     0.,    10.,    20.,    61.,\n",
       "               0.,     0.,     0.,     0.,     0.,     0.,     0.,     0.,\n",
       "              63.,  1397.,   417.,   388.,   148.,   325.,     0.,   233.,\n",
       "              43.,    36.,     0.,    21.,   155.,     8.,     0.,    10.,\n",
       "              28.,    48.,     0.,    28.,     0.,   129.,   152.,   254.,\n",
       "              64.,     0.,   213.,    10.,     0.,     0.,   112.,   130.,\n",
       "              82.,   383.,     0.,    46.,     0.,     3.,     0.,   102.,\n",
       "              11.,     0.,   328.,    10.,    38.,     0.,    15.,     8.,\n",
       "               0.,     0.,   772.,     0.,   315.,   803.,    91.,   635.,\n",
       "              23.,    20.,   777.,    53.,   178.,     0.,     5.,     0.,\n",
       "               0.,    74.,     0.,     0.,     0.,   574.,   218.,    35.,\n",
       "               0.,     0.,    15.,   810.,    69.,   147.,    18.,     5.,\n",
       "               0.,    20.,    36.,   409.,    58.,   579.,     0.,   244.,\n",
       "             496.,   221.,     8.,     0.,     0.,    48.,   338.,   285.,\n",
       "             168.,    31.,   233.,    82.,     3.,     0.,     0.,     8.,\n",
       "              10.,    13.,   259.,   104.,     3.,   208.,     5.,     5.,\n",
       "             114.,    61.,   303.,     5.,     0.,     8.,   216.,   434.,\n",
       "             229.,   163.,   209.,     0.,   663.,    46.,    29.,   480.,\n",
       "             184.,     0.,     0.,     0.,     0.,    73.,   224.,   747.,\n",
       "             330.,     5.,     5.,   142.,   477.,    28.,    31.,     3.,\n",
       "              74.,   300.,    76.,    94.,   251.,    23.,   708.,    34.,\n",
       "              30.,     0.,     0.,     0.,   437.,    49.,     0.,   348.,\n",
       "             175.,    48.,   234.,     3.,     0.,    51.,  1323.,     0.,\n",
       "              71.,     0.,     0.,    15.,   114.,     0.,    36.,     3.,\n",
       "               3.,    46.,    41.,   467.,     0.,   135.,    56.,   303.,\n",
       "             371.,    13.,    64.,   102.,   102.,   381.,     0.,   452.,\n",
       "               0.,     0.,   584.,   280.,     0.,    58.,     8.,     0.,\n",
       "               0.,     0.,    30.,     3.,    51.,     0.,     0.,    13.,\n",
       "               0.,   604.,    56.,     0.,    13.]]), 6))]"
      ]
     },
     "execution_count": 77,
     "metadata": {},
     "output_type": "execute_result"
    }
   ],
   "source": [
    "Means.take(5)"
   ]
  },
  {
   "cell_type": "code",
   "execution_count": 78,
   "metadata": {
    "slideshow": {
     "slide_type": "subslide"
    }
   },
   "outputs": [
    {
     "name": "stdout",
     "output_type": "stream",
     "text": [
      "number of stations= 45833\n"
     ]
    }
   ],
   "source": [
    "groups=rdd0.groupByKey().cache()\n",
    "print 'number of stations=',groups.count()\n"
   ]
  },
  {
   "cell_type": "code",
   "execution_count": null,
   "metadata": {
    "collapsed": true
   },
   "outputs": [],
   "source": []
  }
 ],
 "metadata": {
  "anaconda-cloud": {},
  "celltoolbar": "Slideshow",
  "kernelspec": {
   "display_name": "Python 2",
   "language": "python",
   "name": "python2"
  },
  "language_info": {
   "codemirror_mode": {
    "name": "ipython",
    "version": 2
   },
   "file_extension": ".py",
   "mimetype": "text/x-python",
   "name": "python",
   "nbconvert_exporter": "python",
   "pygments_lexer": "ipython2",
   "version": "2.7.14"
  },
  "name": "PCA_using_numpy for HW3",
  "notebookId": 85286
 },
 "nbformat": 4,
 "nbformat_minor": 1
}
