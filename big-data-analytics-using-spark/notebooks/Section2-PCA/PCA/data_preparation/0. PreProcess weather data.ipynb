{
 "cells": [
  {
   "cell_type": "markdown",
   "metadata": {},
   "source": [
    "## Move csv file from S3 to the head node and the to HDFS"
   ]
  },
  {
   "cell_type": "code",
   "execution_count": 16,
   "metadata": {
    "collapsed": true
   },
   "outputs": [],
   "source": [
    "#create directory to hold data one node\n",
    "!mkdir Weather\n",
    "%cd Weather/"
   ]
  },
  {
   "cell_type": "code",
   "execution_count": 18,
   "metadata": {},
   "outputs": [
    {
     "name": "stdout",
     "output_type": "stream",
     "text": [
      "download: s3://dse-weather/ALL.csv.gz to ./ALL.csv.gz              \n"
     ]
    }
   ],
   "source": [
    "#copy file from S3\n",
    "!aws s3 cp s3://dse-weather/ALL.csv.gz ./ALL.csv.gz"
   ]
  },
  {
   "cell_type": "code",
   "execution_count": 19,
   "metadata": {
    "collapsed": true
   },
   "outputs": [],
   "source": [
    "#unompress file\n",
    "!gunzip ALL.csv.gz"
   ]
  },
  {
   "cell_type": "code",
   "execution_count": 20,
   "metadata": {},
   "outputs": [
    {
     "name": "stdout",
     "output_type": "stream",
     "text": [
      "total 7489152\r\n",
      "-rw-rw-r-- 1 hadoop hadoop 7668890105 Feb  9  2016 ALL.csv\r\n"
     ]
    }
   ],
   "source": [
    "!ls -l"
   ]
  },
  {
   "cell_type": "code",
   "execution_count": 22,
   "metadata": {},
   "outputs": [
    {
     "name": "stdout",
     "output_type": "stream",
     "text": [
      "station,year,measurement,1,2,3,4,5,6,7,8,9,10,11,12,13,14,15,16,17,18,19,20,21,22,23,24,25,26,27,28,29,30,31,32,33,34,35,36,37,38,39,40,41,42,43,44,45,46,47,48,49,50,51,52,53,54,55,56,57,58,59,60,61,62,63,64,65,66,67,68,69,70,71,72,73,74,75,76,77,78,79,80,81,82,83,84,85,86,87,88,89,90,91,92,93,94,95,96,97,98,99,100,101,102,103,104,105,106,107,108,109,110,111,112,113,114,115,116,117,118,119,120,121,122,123,124,125,126,127,128,129,130,131,132,133,134,135,136,137,138,139,140,141,142,143,144,145,146,147,148,149,150,151,152,153,154,155,156,157,158,159,160,161,162,163,164,165,166,167,168,169,170,171,172,173,174,175,176,177,178,179,180,181,182,183,184,185,186,187,188,189,190,191,192,193,194,195,196,197,198,199,200,201,202,203,204,205,206,207,208,209,210,211,212,213,214,215,216,217,218,219,220,221,222,223,224,225,226,227,228,229,230,231,232,233,234,235,236,237,238,239,240,241,242,243,244,245,246,247,248,249,250,251,252,253,254,255,256,257,258,259,260,261,262,263,264,265,266,267,268,269,270,271,272,273,274,275,276,277,278,279,280,281,282,283,284,285,286,287,288,289,290,291,292,293,294,295,296,297,298,299,300,301,302,303,304,305,306,307,308,309,310,311,312,313,314,315,316,317,318,319,320,321,322,323,324,325,326,327,328,329,330,331,332,333,334,335,336,337,338,339,340,341,342,343,344,345,346,347,348,349,350,351,352,353,354,355,356,357,358,359,360,361,362,363,364,365\r\n",
      "ASN00054128,DAPR,1969,,,,,,,,,,,,,,,,,,,,,,,,,,,,,,,,,,,,,,,,,,,,,,,,,,,,,,,,,,,,,,,,,,,,,,,,,,,,,,,,,,,,,,,,,,,,,,,,,,,,,,,,,,,,,,,,,,,,,,,,,,,,,,,,,,,,,,,,,,,,,,,,,,,,,,,,,,,,,,,,,,,,,,,,,,,,,,,,,,,,,,,,,,,,,,,,,,,,,,,,,,,,,,,,,,,,,,,,,,,,,,,,,,,,,,,,,,,,,,,,,,,,,,,2,,,,,,,,,,,,,,,,,,,,,,,,,,,,,,,,,,,,,,,,,,,,,,,,,,,,,,,,,,,,,,,,,,,,,,,,,,,,,,,,,,,,,,,,,,,,,,,,,,,,,,,,,,,,,,,,,,,,,,\r\n"
     ]
    }
   ],
   "source": [
    "!head -2 ALL.csv"
   ]
  },
  {
   "cell_type": "code",
   "execution_count": 27,
   "metadata": {
    "collapsed": true
   },
   "outputs": [],
   "source": [
    "!hadoop fs -mkdir /weather"
   ]
  },
  {
   "cell_type": "code",
   "execution_count": 28,
   "metadata": {
    "collapsed": true
   },
   "outputs": [],
   "source": [
    "#create a data directory on hdfs\n",
    "!hadoop fs -copyFromLocal ALL.csv /weather/weather.csv"
   ]
  },
  {
   "cell_type": "code",
   "execution_count": 29,
   "metadata": {},
   "outputs": [
    {
     "name": "stdout",
     "output_type": "stream",
     "text": [
      "Found 1 items\r\n",
      "-rw-r--r--   2 hadoop hadoop 7668890105 2018-02-15 21:21 /weather/weather.csv\r\n"
     ]
    }
   ],
   "source": [
    "!hadoop fs -ls /weather"
   ]
  },
  {
   "cell_type": "markdown",
   "metadata": {},
   "source": [
    "### Read csv file into an RDD"
   ]
  },
  {
   "cell_type": "code",
   "execution_count": 1,
   "metadata": {
    "collapsed": true
   },
   "outputs": [],
   "source": [
    "from pyspark import SparkContext\n",
    "\n",
    "sc = SparkContext(pyFiles=['lib/numpy_pack.py'])"
   ]
  },
  {
   "cell_type": "code",
   "execution_count": 2,
   "metadata": {
    "collapsed": true
   },
   "outputs": [],
   "source": [
    "RDD=sc.textFile('hdfs://ec2-52-205-129-57.compute-1.amazonaws.com/weather/weather.csv')"
   ]
  },
  {
   "cell_type": "markdown",
   "metadata": {},
   "source": [
    "### Code for packing and unpacking byte arrays"
   ]
  },
  {
   "cell_type": "code",
   "execution_count": 123,
   "metadata": {
    "collapsed": true
   },
   "outputs": [],
   "source": [
    "import numpy as np\n",
    "\"\"\"Code for packing and unpacking a numpy array into a byte array.\n",
    "   the array is flattened if it is not 1D.\n",
    "   This is intended to be used as the interface for storing \n",
    "   \n",
    "   This code is intended to be used to store numpy array as fields in a dataframe and then store the \n",
    "   dataframes in a parquet file.\n",
    "\"\"\"\n",
    "\n",
    "def packArray(a):\n",
    "    \"\"\"\n",
    "    pack a numpy array into a bytearray that can be stored as a single \n",
    "    field in a spark DataFrame\n",
    "\n",
    "    :param a: a numpy ndarray \n",
    "    :returns: a bytearray\n",
    "    :rtype:\n",
    "\n",
    "    \"\"\"\n",
    "    if type(a)!=np.ndarray:\n",
    "        raise Exception(\"input to packArray should be numpy.ndarray. It is instead \"+str(type(a)))\n",
    "    return bytearray(a.tobytes())\n",
    "\n",
    "\n",
    "def unpackArray(x,data_type=np.float16):\n",
    "    \"\"\"\n",
    "    unpack a bytearray into a numpy.ndarray\n",
    "\n",
    "    :param x: a bytearray\n",
    "    :param data_type: The dtype of the array. This is important because if determines how many bytes go into each entry in the array.\n",
    "    :returns: a numpy array\n",
    "    :rtype: a numpy ndarray of dtype data_type.\n",
    "\n",
    "    \"\"\"\n",
    "    return np.frombuffer(x,dtype=data_type)"
   ]
  },
  {
   "cell_type": "code",
   "execution_count": 7,
   "metadata": {
    "collapsed": true
   },
   "outputs": [],
   "source": [
    "lines=RDD.take(10) # used to debug the code"
   ]
  },
  {
   "cell_type": "code",
   "execution_count": 4,
   "metadata": {},
   "outputs": [
    {
     "data": {
      "text/plain": [
       "9358395"
      ]
     },
     "execution_count": 4,
     "metadata": {},
     "output_type": "execute_result"
    }
   ],
   "source": [
    "RDD.count()"
   ]
  },
  {
   "cell_type": "markdown",
   "metadata": {},
   "source": [
    "### range values\n",
    "Using code that was removed we find that the range of values is \n",
    "\n",
    "`-1000.0, 97892.0` \n",
    "\n",
    "which means that as ints we will need 32 but, but with float we can use just 16."
   ]
  },
  {
   "cell_type": "code",
   "execution_count": 170,
   "metadata": {},
   "outputs": [],
   "source": [
    "#main parsing code\n",
    "\n",
    "import numpy as np\n",
    "def parse_weather(line):\n",
    "    L=line.split(',')\n",
    "    try:\n",
    "        assert len(L)==368\n",
    "        i=2\n",
    "        L[i]=int(L[i])\n",
    "        for i in range(3,368):\n",
    "            if L[i]!='':\n",
    "                L[i]=np.float16(L[i])\n",
    "            else:\n",
    "                L[i]=np.nan\n",
    "    except:\n",
    "        return None\n",
    "        #print 'error in position',i, ':', line\n",
    "    Out=L[:3]\n",
    "    Out.append(packArray(np.array(L[3:],dtype=np.float16)))\n",
    "    return Out"
   ]
  },
  {
   "cell_type": "code",
   "execution_count": 119,
   "metadata": {},
   "outputs": [],
   "source": [
    "lines=RDD.take(10)"
   ]
  },
  {
   "cell_type": "code",
   "execution_count": 121,
   "metadata": {},
   "outputs": [],
   "source": [
    "GG=parse_weather(lines[-2])"
   ]
  },
  {
   "cell_type": "code",
   "execution_count": 142,
   "metadata": {},
   "outputs": [],
   "source": [
    "DATA=RDD.map(parse_weather).filter(lambda x:x!=None) # fileter out bad rows which are mapped to None"
   ]
  },
  {
   "cell_type": "code",
   "execution_count": 143,
   "metadata": {},
   "outputs": [
    {
     "data": {
      "text/plain": [
       "9358394"
      ]
     },
     "execution_count": 143,
     "metadata": {},
     "output_type": "execute_result"
    }
   ],
   "source": [
    "DATA.count()\n",
    "#all lines: 9358395\n",
    "# only the first line (the header) is bad.\n",
    "# Good lines: 9358394"
   ]
  },
  {
   "cell_type": "code",
   "execution_count": 144,
   "metadata": {},
   "outputs": [
    {
     "data": {
      "text/plain": [
       "[[u'ASN00054128',\n",
       "  u'DAPR',\n",
       "  1969,\n",
       "  bytearray(b'\\x00~\\x00~\\x00~\\x00~\\x00~\\x00~\\x00~\\x00~\\x00~\\x00~\\x00~\\x00~\\x00~\\x00~\\x00~\\x00~\\x00~\\x00~\\x00~\\x00~\\x00~\\x00~\\x00~\\x00~\\x00~\\x00~\\x00~\\x00~\\x00~\\x00~\\x00~\\x00~\\x00~\\x00~\\x00~\\x00~\\x00~\\x00~\\x00~\\x00~\\x00~\\x00~\\x00~\\x00~\\x00~\\x00~\\x00~\\x00~\\x00~\\x00~\\x00~\\x00~\\x00~\\x00~\\x00~\\x00~\\x00~\\x00~\\x00~\\x00~\\x00~\\x00~\\x00~\\x00~\\x00~\\x00~\\x00~\\x00~\\x00~\\x00~\\x00~\\x00~\\x00~\\x00~\\x00~\\x00~\\x00~\\x00~\\x00~\\x00~\\x00~\\x00~\\x00~\\x00~\\x00~\\x00~\\x00~\\x00~\\x00~\\x00~\\x00~\\x00~\\x00~\\x00~\\x00~\\x00~\\x00~\\x00~\\x00~\\x00~\\x00~\\x00~\\x00~\\x00~\\x00~\\x00~\\x00~\\x00~\\x00~\\x00~\\x00~\\x00~\\x00~\\x00~\\x00~\\x00~\\x00~\\x00~\\x00~\\x00~\\x00~\\x00~\\x00~\\x00~\\x00~\\x00~\\x00~\\x00~\\x00~\\x00~\\x00~\\x00~\\x00~\\x00~\\x00~\\x00~\\x00~\\x00~\\x00~\\x00~\\x00~\\x00~\\x00~\\x00~\\x00~\\x00~\\x00~\\x00~\\x00~\\x00~\\x00~\\x00~\\x00~\\x00~\\x00~\\x00~\\x00~\\x00~\\x00~\\x00~\\x00~\\x00~\\x00~\\x00~\\x00~\\x00~\\x00~\\x00~\\x00~\\x00~\\x00~\\x00~\\x00~\\x00~\\x00~\\x00~\\x00~\\x00~\\x00~\\x00~\\x00~\\x00~\\x00~\\x00~\\x00~\\x00~\\x00~\\x00~\\x00~\\x00~\\x00~\\x00~\\x00~\\x00~\\x00~\\x00~\\x00~\\x00~\\x00~\\x00~\\x00~\\x00~\\x00~\\x00~\\x00~\\x00~\\x00~\\x00~\\x00~\\x00~\\x00~\\x00~\\x00~\\x00~\\x00~\\x00~\\x00~\\x00~\\x00~\\x00~\\x00~\\x00~\\x00~\\x00~\\x00~\\x00~\\x00~\\x00~\\x00~\\x00~\\x00~\\x00~\\x00~\\x00~\\x00~\\x00~\\x00~\\x00~\\x00~\\x00~\\x00~\\x00~\\x00~\\x00~\\x00~\\x00~\\x00@\\x00~\\x00~\\x00~\\x00~\\x00~\\x00~\\x00~\\x00~\\x00~\\x00~\\x00~\\x00~\\x00~\\x00~\\x00~\\x00~\\x00~\\x00~\\x00~\\x00~\\x00~\\x00~\\x00~\\x00~\\x00~\\x00~\\x00~\\x00~\\x00~\\x00~\\x00~\\x00~\\x00~\\x00~\\x00~\\x00~\\x00~\\x00~\\x00~\\x00~\\x00~\\x00~\\x00~\\x00~\\x00~\\x00~\\x00~\\x00~\\x00~\\x00~\\x00~\\x00~\\x00~\\x00~\\x00~\\x00~\\x00~\\x00~\\x00~\\x00~\\x00~\\x00~\\x00~\\x00~\\x00~\\x00~\\x00~\\x00~\\x00~\\x00~\\x00~\\x00~\\x00~\\x00~\\x00~\\x00~\\x00~\\x00~\\x00~\\x00~\\x00~\\x00~\\x00~\\x00~\\x00~\\x00~\\x00~\\x00~\\x00~\\x00~\\x00~\\x00~\\x00~\\x00~\\x00~\\x00~\\x00~\\x00~\\x00~\\x00~\\x00~\\x00~\\x00~\\x00~\\x00~\\x00~\\x00~\\x00~\\x00~\\x00~\\x00~\\x00~\\x00~\\x00~\\x00~\\x00~\\x00~\\x00~')]]"
      ]
     },
     "execution_count": 144,
     "metadata": {},
     "output_type": "execute_result"
    }
   ],
   "source": [
    "DATA.take(1)"
   ]
  },
  {
   "cell_type": "markdown",
   "metadata": {},
   "source": [
    "## Transform RDD into a Spark DataFrame"
   ]
  },
  {
   "cell_type": "code",
   "execution_count": 132,
   "metadata": {},
   "outputs": [
    {
     "data": {
      "text/plain": [
       "<pyspark.sql.context.SQLContext at 0x7f44e41cf690>"
      ]
     },
     "execution_count": 132,
     "metadata": {},
     "output_type": "execute_result"
    }
   ],
   "source": [
    "import os\n",
    "import sys\n",
    "\n",
    "from pyspark import SparkContext\n",
    "from pyspark.sql import SQLContext\n",
    "from pyspark.sql.types import Row, StructField, StructType, StringType, IntegerType, BinaryType, FloatType\n",
    "\n",
    "# Just like using Spark requires having a SparkContext, using SQL requires an SQLContext\n",
    "sqlContext = SQLContext(sc)\n",
    "sqlContext"
   ]
  },
  {
   "cell_type": "code",
   "execution_count": 171,
   "metadata": {},
   "outputs": [
    {
     "data": {
      "text/plain": [
       "StructType(List(StructField(Station,StringType,true),StructField(Measurement,StringType,true),StructField(Year,IntegerType,true),StructField(Values,BinaryType,true)))"
      ]
     },
     "execution_count": 171,
     "metadata": {},
     "output_type": "execute_result"
    }
   ],
   "source": [
    "### Defining the Schema explicitly\n",
    "# The advantage of creating a DataFrame using a pre-defined schema allows the content of the RDD to be simple tuples, rather than rows.\n",
    "\n",
    "# In this case we create the dataframe from an RDD of tuples (rather than Rows) and provide the schema explicitly\n",
    "# Schema with two fields - person_name and person_age\n",
    "schema = StructType([StructField(\"Station\",     StringType(), True),\n",
    "                     StructField(\"Measurement\", StringType(), True),\n",
    "                     StructField(\"Year\",        IntegerType(),True),\n",
    "                     StructField(\"Values\",      BinaryType(),True)\n",
    "                    ])\n",
    "schema"
   ]
  },
  {
   "cell_type": "code",
   "execution_count": 172,
   "metadata": {
    "scrolled": true
   },
   "outputs": [
    {
     "name": "stdout",
     "output_type": "stream",
     "text": [
      "root\n",
      " |-- Station: string (nullable = true)\n",
      " |-- Measurement: string (nullable = true)\n",
      " |-- Year: integer (nullable = true)\n",
      " |-- Values: binary (nullable = true)\n",
      "\n"
     ]
    }
   ],
   "source": [
    "# Create a DataFrame by applying the schema to the RDD and print the schema\n",
    "ALL_DataFrame = sqlContext.createDataFrame(DATA, schema)\n",
    "ALL_DataFrame.printSchema()"
   ]
  },
  {
   "cell_type": "markdown",
   "metadata": {},
   "source": [
    "### Write out data frame into Parquet directory"
   ]
  },
  {
   "cell_type": "code",
   "execution_count": 175,
   "metadata": {},
   "outputs": [
    {
     "name": "stdout",
     "output_type": "stream",
     "text": [
      "18/02/17 05:26:48 INFO fs.TrashPolicyDefault: Namenode trash configuration: Deletion interval = 0 minutes, Emptier interval = 0 minutes.\n",
      "Deleted /weather/weather.parquet\n",
      "CPU times: user 44 ms, sys: 20 ms, total: 64 ms\n",
      "Wall time: 1.93 s\n"
     ]
    }
   ],
   "source": [
    "%%time\n",
    "!hadoop fs -rm -r /weather/weather.parquet"
   ]
  },
  {
   "cell_type": "code",
   "execution_count": 176,
   "metadata": {},
   "outputs": [
    {
     "name": "stdout",
     "output_type": "stream",
     "text": [
      "CPU times: user 16 ms, sys: 8 ms, total: 24 ms\n",
      "Wall time: 3min 42s\n"
     ]
    }
   ],
   "source": [
    "%%time \n",
    "outfilename=\"hdfs://ec2-52-205-129-57.compute-1.amazonaws.com/weather/weather.parquet\"\n",
    "ALL_DataFrame.write.save(outfilename)"
   ]
  },
  {
   "cell_type": "code",
   "execution_count": 177,
   "metadata": {
    "scrolled": true
   },
   "outputs": [
    {
     "name": "stdout",
     "output_type": "stream",
     "text": [
      "Found 2 items\r\n",
      "-rw-r--r--   2 hadoop hadoop 7668890105 2018-02-15 21:21 /weather/weather.csv\r\n",
      "drwxr-xr-x   - hadoop hadoop          0 2018-02-17 05:30 /weather/weather.parquet\r\n"
     ]
    }
   ],
   "source": [
    "!hadoop fs -ls /weather/"
   ]
  },
  {
   "cell_type": "markdown",
   "metadata": {},
   "source": [
    "### Copy parquet directory to head node and then to S3"
   ]
  },
  {
   "cell_type": "code",
   "execution_count": 179,
   "metadata": {},
   "outputs": [
    {
     "name": "stdout",
     "output_type": "stream",
     "text": [
      "/mnt/workspace/Weather\n",
      "total 7489152\n",
      "-rw-rw-r-- 1 hadoop hadoop 7668890105 Feb  9  2016 ALL.csv\n"
     ]
    }
   ],
   "source": [
    "%cd /mnt/workspace/Weather/\n",
    "!rm -rf weather.parquet/\n",
    "!ls -lrt"
   ]
  },
  {
   "cell_type": "code",
   "execution_count": 180,
   "metadata": {},
   "outputs": [
    {
     "name": "stdout",
     "output_type": "stream",
     "text": [
      "CPU times: user 124 ms, sys: 52 ms, total: 176 ms\n",
      "Wall time: 6.26 s\n"
     ]
    }
   ],
   "source": [
    "%%time\n",
    "!hadoop fs -copyToLocal /weather/weather.parquet weather.parquet"
   ]
  },
  {
   "cell_type": "code",
   "execution_count": 181,
   "metadata": {},
   "outputs": [
    {
     "name": "stdout",
     "output_type": "stream",
     "text": [
      "7489152\tALL.csv\r\n",
      "2248960\tweather.parquet\r\n"
     ]
    }
   ],
   "source": [
    "!du *"
   ]
  },
  {
   "cell_type": "code",
   "execution_count": 183,
   "metadata": {
    "collapsed": true
   },
   "outputs": [
    {
     "name": "stdout",
     "output_type": "stream",
     "text": [
      "delete: s3://dse-weather/weather.parquet/_SUCCESS\n",
      "delete: s3://dse-weather/weather.parquet/part-00000-bfceb3b0-dbb6-44da-bf98-1276f10339f0.snappy.parquet\n",
      "delete: s3://dse-weather/weather.parquet/part-00001-bfceb3b0-dbb6-44da-bf98-1276f10339f0.snappy.parquet\n",
      "delete: s3://dse-weather/weather.parquet/part-00006-bfceb3b0-dbb6-44da-bf98-1276f10339f0.snappy.parquet\n",
      "delete: s3://dse-weather/weather.parquet/part-00004-bfceb3b0-dbb6-44da-bf98-1276f10339f0.snappy.parquet\n",
      "delete: s3://dse-weather/weather.parquet/part-00002-bfceb3b0-dbb6-44da-bf98-1276f10339f0.snappy.parquet\n",
      "delete: s3://dse-weather/weather.parquet/part-00003-bfceb3b0-dbb6-44da-bf98-1276f10339f0.snappy.parquet\n",
      "delete: s3://dse-weather/weather.parquet/part-00009-bfceb3b0-dbb6-44da-bf98-1276f10339f0.snappy.parquet\n",
      "delete: s3://dse-weather/weather.parquet/part-00007-bfceb3b0-dbb6-44da-bf98-1276f10339f0.snappy.parquet\n",
      "delete: s3://dse-weather/weather.parquet/part-00010-bfceb3b0-dbb6-44da-bf98-1276f10339f0.snappy.parquet\n",
      "delete: s3://dse-weather/weather.parquet/part-00008-bfceb3b0-dbb6-44da-bf98-1276f10339f0.snappy.parquet\n",
      "delete: s3://dse-weather/weather.parquet/part-00005-bfceb3b0-dbb6-44da-bf98-1276f10339f0.snappy.parquet\n",
      "delete: s3://dse-weather/weather.parquet/part-00012-bfceb3b0-dbb6-44da-bf98-1276f10339f0.snappy.parquet\n",
      "delete: s3://dse-weather/weather.parquet/part-00011-bfceb3b0-dbb6-44da-bf98-1276f10339f0.snappy.parquet\n",
      "delete: s3://dse-weather/weather.parquet/part-00013-bfceb3b0-dbb6-44da-bf98-1276f10339f0.snappy.parquet\n",
      "delete: s3://dse-weather/weather.parquet/part-00014-bfceb3b0-dbb6-44da-bf98-1276f10339f0.snappy.parquet\n",
      "delete: s3://dse-weather/weather.parquet/part-00018-bfceb3b0-dbb6-44da-bf98-1276f10339f0.snappy.parquet\n",
      "delete: s3://dse-weather/weather.parquet/part-00017-bfceb3b0-dbb6-44da-bf98-1276f10339f0.snappy.parquet\n",
      "delete: s3://dse-weather/weather.parquet/part-00019-bfceb3b0-dbb6-44da-bf98-1276f10339f0.snappy.parquet\n",
      "delete: s3://dse-weather/weather.parquet/part-00020-bfceb3b0-dbb6-44da-bf98-1276f10339f0.snappy.parquet\n",
      "delete: s3://dse-weather/weather.parquet/part-00016-bfceb3b0-dbb6-44da-bf98-1276f10339f0.snappy.parquet\n",
      "delete: s3://dse-weather/weather.parquet/part-00024-bfceb3b0-dbb6-44da-bf98-1276f10339f0.snappy.parquet\n",
      "delete: s3://dse-weather/weather.parquet/part-00022-bfceb3b0-dbb6-44da-bf98-1276f10339f0.snappy.parquet\n",
      "delete: s3://dse-weather/weather.parquet/part-00023-bfceb3b0-dbb6-44da-bf98-1276f10339f0.snappy.parquet\n",
      "delete: s3://dse-weather/weather.parquet/part-00021-bfceb3b0-dbb6-44da-bf98-1276f10339f0.snappy.parquet\n",
      "delete: s3://dse-weather/weather.parquet/part-00026-bfceb3b0-dbb6-44da-bf98-1276f10339f0.snappy.parquet\n",
      "delete: s3://dse-weather/weather.parquet/part-00027-bfceb3b0-dbb6-44da-bf98-1276f10339f0.snappy.parquet\n",
      "delete: s3://dse-weather/weather.parquet/part-00025-bfceb3b0-dbb6-44da-bf98-1276f10339f0.snappy.parquet\n",
      "delete: s3://dse-weather/weather.parquet/part-00030-bfceb3b0-dbb6-44da-bf98-1276f10339f0.snappy.parquet\n",
      "delete: s3://dse-weather/weather.parquet/part-00031-bfceb3b0-dbb6-44da-bf98-1276f10339f0.snappy.parquet\n",
      "delete: s3://dse-weather/weather.parquet/part-00015-bfceb3b0-dbb6-44da-bf98-1276f10339f0.snappy.parquet\n",
      "delete: s3://dse-weather/weather.parquet/part-00029-bfceb3b0-dbb6-44da-bf98-1276f10339f0.snappy.parquet\n",
      "delete: s3://dse-weather/weather.parquet/part-00032-bfceb3b0-dbb6-44da-bf98-1276f10339f0.snappy.parquet\n",
      "delete: s3://dse-weather/weather.parquet/part-00033-bfceb3b0-dbb6-44da-bf98-1276f10339f0.snappy.parquet\n",
      "delete: s3://dse-weather/weather.parquet/part-00037-bfceb3b0-dbb6-44da-bf98-1276f10339f0.snappy.parquet\n",
      "delete: s3://dse-weather/weather.parquet/part-00034-bfceb3b0-dbb6-44da-bf98-1276f10339f0.snappy.parquet\n",
      "delete: s3://dse-weather/weather.parquet/part-00036-bfceb3b0-dbb6-44da-bf98-1276f10339f0.snappy.parquet\n",
      "delete: s3://dse-weather/weather.parquet/part-00035-bfceb3b0-dbb6-44da-bf98-1276f10339f0.snappy.parquet\n",
      "delete: s3://dse-weather/weather.parquet/part-00041-bfceb3b0-dbb6-44da-bf98-1276f10339f0.snappy.parquet\n",
      "delete: s3://dse-weather/weather.parquet/part-00039-bfceb3b0-dbb6-44da-bf98-1276f10339f0.snappy.parquet\n",
      "delete: s3://dse-weather/weather.parquet/part-00040-bfceb3b0-dbb6-44da-bf98-1276f10339f0.snappy.parquet\n",
      "delete: s3://dse-weather/weather.parquet/part-00043-bfceb3b0-dbb6-44da-bf98-1276f10339f0.snappy.parquet\n",
      "delete: s3://dse-weather/weather.parquet/part-00045-bfceb3b0-dbb6-44da-bf98-1276f10339f0.snappy.parquet\n",
      "delete: s3://dse-weather/weather.parquet/part-00038-bfceb3b0-dbb6-44da-bf98-1276f10339f0.snappy.parquet\n",
      "delete: s3://dse-weather/weather.parquet/part-00042-bfceb3b0-dbb6-44da-bf98-1276f10339f0.snappy.parquet\n",
      "delete: s3://dse-weather/weather.parquet/part-00051-bfceb3b0-dbb6-44da-bf98-1276f10339f0.snappy.parquet\n",
      "delete: s3://dse-weather/weather.parquet/part-00048-bfceb3b0-dbb6-44da-bf98-1276f10339f0.snappy.parquet\n",
      "delete: s3://dse-weather/weather.parquet/part-00046-bfceb3b0-dbb6-44da-bf98-1276f10339f0.snappy.parquet\n",
      "delete: s3://dse-weather/weather.parquet/part-00044-bfceb3b0-dbb6-44da-bf98-1276f10339f0.snappy.parquet\n",
      "delete: s3://dse-weather/weather.parquet/part-00049-bfceb3b0-dbb6-44da-bf98-1276f10339f0.snappy.parquet\n",
      "delete: s3://dse-weather/weather.parquet/part-00057-bfceb3b0-dbb6-44da-bf98-1276f10339f0.snappy.parquet\n",
      "delete: s3://dse-weather/weather.parquet/part-00052-bfceb3b0-dbb6-44da-bf98-1276f10339f0.snappy.parquet\n",
      "delete: s3://dse-weather/weather.parquet/part-00054-bfceb3b0-dbb6-44da-bf98-1276f10339f0.snappy.parquet\n",
      "delete: s3://dse-weather/weather.parquet/part-00028-bfceb3b0-dbb6-44da-bf98-1276f10339f0.snappy.parquet\n",
      "delete: s3://dse-weather/weather.parquet/part-00055-bfceb3b0-dbb6-44da-bf98-1276f10339f0.snappy.parquet\n",
      "delete: s3://dse-weather/weather.parquet/part-00056-bfceb3b0-dbb6-44da-bf98-1276f10339f0.snappy.parquet\n",
      "delete: s3://dse-weather/weather.parquet/part-00053-bfceb3b0-dbb6-44da-bf98-1276f10339f0.snappy.parquet\n",
      "delete: s3://dse-weather/weather.parquet/part-00047-bfceb3b0-dbb6-44da-bf98-1276f10339f0.snappy.parquet\n",
      "delete: s3://dse-weather/weather.parquet/part-00050-bfceb3b0-dbb6-44da-bf98-1276f10339f0.snappy.parquet\n",
      "upload: weather.parquet/_SUCCESS to s3://dse-weather/weather.parquet/_SUCCESS\n",
      "upload: weather.parquet/part-00001-48cf40d4-1835-45ac-82b0-af26cdba417c.snappy.parquet to s3://dse-weather/weather.parquet/part-00001-48cf40d4-1835-45ac-82b0-af26cdba417c.snappy.parquet\n",
      "upload: weather.parquet/part-00004-48cf40d4-1835-45ac-82b0-af26cdba417c.snappy.parquet to s3://dse-weather/weather.parquet/part-00004-48cf40d4-1835-45ac-82b0-af26cdba417c.snappy.parquet\n",
      "upload: weather.parquet/part-00005-48cf40d4-1835-45ac-82b0-af26cdba417c.snappy.parquet to s3://dse-weather/weather.parquet/part-00005-48cf40d4-1835-45ac-82b0-af26cdba417c.snappy.parquet\n",
      "upload: weather.parquet/part-00000-48cf40d4-1835-45ac-82b0-af26cdba417c.snappy.parquet to s3://dse-weather/weather.parquet/part-00000-48cf40d4-1835-45ac-82b0-af26cdba417c.snappy.parquet\n",
      "upload: weather.parquet/part-00006-48cf40d4-1835-45ac-82b0-af26cdba417c.snappy.parquet to s3://dse-weather/weather.parquet/part-00006-48cf40d4-1835-45ac-82b0-af26cdba417c.snappy.parquet\n",
      "upload: weather.parquet/part-00003-48cf40d4-1835-45ac-82b0-af26cdba417c.snappy.parquet to s3://dse-weather/weather.parquet/part-00003-48cf40d4-1835-45ac-82b0-af26cdba417c.snappy.parquet\n",
      "upload: weather.parquet/part-00007-48cf40d4-1835-45ac-82b0-af26cdba417c.snappy.parquet to s3://dse-weather/weather.parquet/part-00007-48cf40d4-1835-45ac-82b0-af26cdba417c.snappy.parquet\n",
      "upload: weather.parquet/part-00008-48cf40d4-1835-45ac-82b0-af26cdba417c.snappy.parquet to s3://dse-weather/weather.parquet/part-00008-48cf40d4-1835-45ac-82b0-af26cdba417c.snappy.parquet\n",
      "upload: weather.parquet/part-00010-48cf40d4-1835-45ac-82b0-af26cdba417c.snappy.parquet to s3://dse-weather/weather.parquet/part-00010-48cf40d4-1835-45ac-82b0-af26cdba417c.snappy.parquet\n",
      "upload: weather.parquet/part-00009-48cf40d4-1835-45ac-82b0-af26cdba417c.snappy.parquet to s3://dse-weather/weather.parquet/part-00009-48cf40d4-1835-45ac-82b0-af26cdba417c.snappy.parquet\n",
      "upload: weather.parquet/part-00013-48cf40d4-1835-45ac-82b0-af26cdba417c.snappy.parquet to s3://dse-weather/weather.parquet/part-00013-48cf40d4-1835-45ac-82b0-af26cdba417c.snappy.parquet\n"
     ]
    },
    {
     "name": "stdout",
     "output_type": "stream",
     "text": [
      "upload: weather.parquet/part-00011-48cf40d4-1835-45ac-82b0-af26cdba417c.snappy.parquet to s3://dse-weather/weather.parquet/part-00011-48cf40d4-1835-45ac-82b0-af26cdba417c.snappy.parquet\n",
      "upload: weather.parquet/part-00014-48cf40d4-1835-45ac-82b0-af26cdba417c.snappy.parquet to s3://dse-weather/weather.parquet/part-00014-48cf40d4-1835-45ac-82b0-af26cdba417c.snappy.parquet\n",
      "upload: weather.parquet/part-00012-48cf40d4-1835-45ac-82b0-af26cdba417c.snappy.parquet to s3://dse-weather/weather.parquet/part-00012-48cf40d4-1835-45ac-82b0-af26cdba417c.snappy.parquet\n",
      "upload: weather.parquet/part-00002-48cf40d4-1835-45ac-82b0-af26cdba417c.snappy.parquet to s3://dse-weather/weather.parquet/part-00002-48cf40d4-1835-45ac-82b0-af26cdba417c.snappy.parquet\n",
      "upload: weather.parquet/part-00015-48cf40d4-1835-45ac-82b0-af26cdba417c.snappy.parquet to s3://dse-weather/weather.parquet/part-00015-48cf40d4-1835-45ac-82b0-af26cdba417c.snappy.parquet\n",
      "upload: weather.parquet/part-00017-48cf40d4-1835-45ac-82b0-af26cdba417c.snappy.parquet to s3://dse-weather/weather.parquet/part-00017-48cf40d4-1835-45ac-82b0-af26cdba417c.snappy.parquet\n",
      "upload: weather.parquet/part-00018-48cf40d4-1835-45ac-82b0-af26cdba417c.snappy.parquet to s3://dse-weather/weather.parquet/part-00018-48cf40d4-1835-45ac-82b0-af26cdba417c.snappy.parquet\n",
      "upload: weather.parquet/part-00019-48cf40d4-1835-45ac-82b0-af26cdba417c.snappy.parquet to s3://dse-weather/weather.parquet/part-00019-48cf40d4-1835-45ac-82b0-af26cdba417c.snappy.parquet\n",
      "upload: weather.parquet/part-00020-48cf40d4-1835-45ac-82b0-af26cdba417c.snappy.parquet to s3://dse-weather/weather.parquet/part-00020-48cf40d4-1835-45ac-82b0-af26cdba417c.snappy.parquet\n",
      "upload: weather.parquet/part-00022-48cf40d4-1835-45ac-82b0-af26cdba417c.snappy.parquet to s3://dse-weather/weather.parquet/part-00022-48cf40d4-1835-45ac-82b0-af26cdba417c.snappy.parquet\n",
      "upload: weather.parquet/part-00021-48cf40d4-1835-45ac-82b0-af26cdba417c.snappy.parquet to s3://dse-weather/weather.parquet/part-00021-48cf40d4-1835-45ac-82b0-af26cdba417c.snappy.parquet\n",
      "upload: weather.parquet/part-00023-48cf40d4-1835-45ac-82b0-af26cdba417c.snappy.parquet to s3://dse-weather/weather.parquet/part-00023-48cf40d4-1835-45ac-82b0-af26cdba417c.snappy.parquet\n",
      "upload: weather.parquet/part-00024-48cf40d4-1835-45ac-82b0-af26cdba417c.snappy.parquet to s3://dse-weather/weather.parquet/part-00024-48cf40d4-1835-45ac-82b0-af26cdba417c.snappy.parquet\n",
      "upload: weather.parquet/part-00025-48cf40d4-1835-45ac-82b0-af26cdba417c.snappy.parquet to s3://dse-weather/weather.parquet/part-00025-48cf40d4-1835-45ac-82b0-af26cdba417c.snappy.parquet\n",
      "upload: weather.parquet/part-00028-48cf40d4-1835-45ac-82b0-af26cdba417c.snappy.parquet to s3://dse-weather/weather.parquet/part-00028-48cf40d4-1835-45ac-82b0-af26cdba417c.snappy.parquet\n",
      "upload: weather.parquet/part-00029-48cf40d4-1835-45ac-82b0-af26cdba417c.snappy.parquet to s3://dse-weather/weather.parquet/part-00029-48cf40d4-1835-45ac-82b0-af26cdba417c.snappy.parquet\n",
      "upload: weather.parquet/part-00026-48cf40d4-1835-45ac-82b0-af26cdba417c.snappy.parquet to s3://dse-weather/weather.parquet/part-00026-48cf40d4-1835-45ac-82b0-af26cdba417c.snappy.parquet\n",
      "upload: weather.parquet/part-00027-48cf40d4-1835-45ac-82b0-af26cdba417c.snappy.parquet to s3://dse-weather/weather.parquet/part-00027-48cf40d4-1835-45ac-82b0-af26cdba417c.snappy.parquet\n",
      "upload: weather.parquet/part-00030-48cf40d4-1835-45ac-82b0-af26cdba417c.snappy.parquet to s3://dse-weather/weather.parquet/part-00030-48cf40d4-1835-45ac-82b0-af26cdba417c.snappy.parquet\n",
      "upload: weather.parquet/part-00032-48cf40d4-1835-45ac-82b0-af26cdba417c.snappy.parquet to s3://dse-weather/weather.parquet/part-00032-48cf40d4-1835-45ac-82b0-af26cdba417c.snappy.parquet\n",
      "upload: weather.parquet/part-00033-48cf40d4-1835-45ac-82b0-af26cdba417c.snappy.parquet to s3://dse-weather/weather.parquet/part-00033-48cf40d4-1835-45ac-82b0-af26cdba417c.snappy.parquet\n",
      "upload: weather.parquet/part-00034-48cf40d4-1835-45ac-82b0-af26cdba417c.snappy.parquet to s3://dse-weather/weather.parquet/part-00034-48cf40d4-1835-45ac-82b0-af26cdba417c.snappy.parquet\n",
      "upload: weather.parquet/part-00031-48cf40d4-1835-45ac-82b0-af26cdba417c.snappy.parquet to s3://dse-weather/weather.parquet/part-00031-48cf40d4-1835-45ac-82b0-af26cdba417c.snappy.parquet\n",
      "upload: weather.parquet/part-00036-48cf40d4-1835-45ac-82b0-af26cdba417c.snappy.parquet to s3://dse-weather/weather.parquet/part-00036-48cf40d4-1835-45ac-82b0-af26cdba417c.snappy.parquet\n",
      "upload: weather.parquet/part-00035-48cf40d4-1835-45ac-82b0-af26cdba417c.snappy.parquet to s3://dse-weather/weather.parquet/part-00035-48cf40d4-1835-45ac-82b0-af26cdba417c.snappy.parquet\n",
      "upload: weather.parquet/part-00039-48cf40d4-1835-45ac-82b0-af26cdba417c.snappy.parquet to s3://dse-weather/weather.parquet/part-00039-48cf40d4-1835-45ac-82b0-af26cdba417c.snappy.parquet\n",
      "upload: weather.parquet/part-00038-48cf40d4-1835-45ac-82b0-af26cdba417c.snappy.parquet to s3://dse-weather/weather.parquet/part-00038-48cf40d4-1835-45ac-82b0-af26cdba417c.snappy.parquet\n",
      "upload: weather.parquet/part-00037-48cf40d4-1835-45ac-82b0-af26cdba417c.snappy.parquet to s3://dse-weather/weather.parquet/part-00037-48cf40d4-1835-45ac-82b0-af26cdba417c.snappy.parquet\n",
      "upload: weather.parquet/part-00016-48cf40d4-1835-45ac-82b0-af26cdba417c.snappy.parquet to s3://dse-weather/weather.parquet/part-00016-48cf40d4-1835-45ac-82b0-af26cdba417c.snappy.parquet\n",
      "upload: weather.parquet/part-00040-48cf40d4-1835-45ac-82b0-af26cdba417c.snappy.parquet to s3://dse-weather/weather.parquet/part-00040-48cf40d4-1835-45ac-82b0-af26cdba417c.snappy.parquet\n",
      "upload: weather.parquet/part-00044-48cf40d4-1835-45ac-82b0-af26cdba417c.snappy.parquet to s3://dse-weather/weather.parquet/part-00044-48cf40d4-1835-45ac-82b0-af26cdba417c.snappy.parquet\n",
      "upload: weather.parquet/part-00043-48cf40d4-1835-45ac-82b0-af26cdba417c.snappy.parquet to s3://dse-weather/weather.parquet/part-00043-48cf40d4-1835-45ac-82b0-af26cdba417c.snappy.parquet\n",
      "upload: weather.parquet/part-00041-48cf40d4-1835-45ac-82b0-af26cdba417c.snappy.parquet to s3://dse-weather/weather.parquet/part-00041-48cf40d4-1835-45ac-82b0-af26cdba417c.snappy.parquet\n",
      "upload: weather.parquet/part-00042-48cf40d4-1835-45ac-82b0-af26cdba417c.snappy.parquet to s3://dse-weather/weather.parquet/part-00042-48cf40d4-1835-45ac-82b0-af26cdba417c.snappy.parquet\n",
      "upload: weather.parquet/part-00045-48cf40d4-1835-45ac-82b0-af26cdba417c.snappy.parquet to s3://dse-weather/weather.parquet/part-00045-48cf40d4-1835-45ac-82b0-af26cdba417c.snappy.parquet\n",
      "upload: weather.parquet/part-00046-48cf40d4-1835-45ac-82b0-af26cdba417c.snappy.parquet to s3://dse-weather/weather.parquet/part-00046-48cf40d4-1835-45ac-82b0-af26cdba417c.snappy.parquet\n",
      "upload: weather.parquet/part-00047-48cf40d4-1835-45ac-82b0-af26cdba417c.snappy.parquet to s3://dse-weather/weather.parquet/part-00047-48cf40d4-1835-45ac-82b0-af26cdba417c.snappy.parquet\n",
      "upload: weather.parquet/part-00048-48cf40d4-1835-45ac-82b0-af26cdba417c.snappy.parquet to s3://dse-weather/weather.parquet/part-00048-48cf40d4-1835-45ac-82b0-af26cdba417c.snappy.parquet\n",
      "upload: weather.parquet/part-00049-48cf40d4-1835-45ac-82b0-af26cdba417c.snappy.parquet to s3://dse-weather/weather.parquet/part-00049-48cf40d4-1835-45ac-82b0-af26cdba417c.snappy.parquet\n",
      "upload: weather.parquet/part-00050-48cf40d4-1835-45ac-82b0-af26cdba417c.snappy.parquet to s3://dse-weather/weather.parquet/part-00050-48cf40d4-1835-45ac-82b0-af26cdba417c.snappy.parquet\n",
      "upload: weather.parquet/part-00053-48cf40d4-1835-45ac-82b0-af26cdba417c.snappy.parquet to s3://dse-weather/weather.parquet/part-00053-48cf40d4-1835-45ac-82b0-af26cdba417c.snappy.parquet\n",
      "upload: weather.parquet/part-00052-48cf40d4-1835-45ac-82b0-af26cdba417c.snappy.parquet to s3://dse-weather/weather.parquet/part-00052-48cf40d4-1835-45ac-82b0-af26cdba417c.snappy.parquet\n",
      "upload: weather.parquet/part-00057-48cf40d4-1835-45ac-82b0-af26cdba417c.snappy.parquet to s3://dse-weather/weather.parquet/part-00057-48cf40d4-1835-45ac-82b0-af26cdba417c.snappy.parquet\n",
      "upload: weather.parquet/part-00054-48cf40d4-1835-45ac-82b0-af26cdba417c.snappy.parquet to s3://dse-weather/weather.parquet/part-00054-48cf40d4-1835-45ac-82b0-af26cdba417c.snappy.parquet\n"
     ]
    },
    {
     "name": "stdout",
     "output_type": "stream",
     "text": [
      "upload: weather.parquet/part-00056-48cf40d4-1835-45ac-82b0-af26cdba417c.snappy.parquet to s3://dse-weather/weather.parquet/part-00056-48cf40d4-1835-45ac-82b0-af26cdba417c.snappy.parquet\n",
      "upload: weather.parquet/part-00051-48cf40d4-1835-45ac-82b0-af26cdba417c.snappy.parquet to s3://dse-weather/weather.parquet/part-00051-48cf40d4-1835-45ac-82b0-af26cdba417c.snappy.parquet\n",
      "upload: weather.parquet/part-00055-48cf40d4-1835-45ac-82b0-af26cdba417c.snappy.parquet to s3://dse-weather/weather.parquet/part-00055-48cf40d4-1835-45ac-82b0-af26cdba417c.snappy.parquet\n",
      "CPU times: user 1.64 s, sys: 396 ms, total: 2.04 s\n",
      "Wall time: 19.2 s\n"
     ]
    }
   ],
   "source": [
    "%%time\n",
    "#copy file from S3\n",
    "!aws s3 rm --recursive s3://dse-weather/weather.parquet\n",
    "!aws s3 cp --recursive ./weather.parquet s3://dse-weather/weather.parquet"
   ]
  },
  {
   "cell_type": "code",
   "execution_count": null,
   "metadata": {
    "collapsed": true
   },
   "outputs": [],
   "source": []
  }
 ],
 "metadata": {
  "kernelspec": {
   "display_name": "Python 2",
   "language": "python",
   "name": "python2"
  },
  "language_info": {
   "codemirror_mode": {
    "name": "ipython",
    "version": 2
   },
   "file_extension": ".py",
   "mimetype": "text/x-python",
   "name": "python",
   "nbconvert_exporter": "python",
   "pygments_lexer": "ipython2",
   "version": "2.7.13"
  }
 },
 "nbformat": 4,
 "nbformat_minor": 2
}
