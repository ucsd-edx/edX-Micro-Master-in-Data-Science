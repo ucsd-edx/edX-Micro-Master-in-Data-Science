{
 "cells": [
  {
   "cell_type": "code",
   "execution_count": 3,
   "metadata": {
    "ExecuteTime": {
     "end_time": "2018-04-26T01:50:37.772322Z",
     "start_time": "2018-04-26T01:50:37.769662Z"
    },
    "slideshow": {
     "slide_type": "skip"
    }
   },
   "outputs": [],
   "source": [
    "# Set to True if running notebook on AWS/EMR\n",
    "EMR=False "
   ]
  },
  {
   "cell_type": "markdown",
   "metadata": {
    "slideshow": {
     "slide_type": "slide"
    }
   },
   "source": [
    "## Computing PCA using RDDs"
   ]
  },
  {
   "cell_type": "markdown",
   "metadata": {
    "slideshow": {
     "slide_type": "subslide"
    }
   },
   "source": [
    "##  PCA\n",
    "\n",
    "The vectors that we want to analyze have length, or dimension, of 365, corresponding to the number of \n",
    "days in a year.\n",
    "\n",
    "We will perform [Principle component analysis (PCA)](https://en.wikipedia.org/wiki/Principal_component_analysis)\n",
    "on these vectors. There are two steps to this process:"
   ]
  },
  {
   "cell_type": "markdown",
   "metadata": {
    "slideshow": {
     "slide_type": "fragment"
    }
   },
   "source": [
    "1) Computing the covariance matrix: this is a  simple computation. However, it takes a long time to compute and it benefits from using an RDD because it involves all of the input vectors."
   ]
  },
  {
   "cell_type": "markdown",
   "metadata": {
    "slideshow": {
     "slide_type": "fragment"
    }
   },
   "source": [
    "2) Computing the eigenvector decomposition. this is a more complex computation, but it takes a fraction of a second because the size to the covariance matrix is $365 \\times 365$, which is quite small. We do it on the head node usin `linalg`"
   ]
  },
  {
   "cell_type": "markdown",
   "metadata": {
    "slideshow": {
     "slide_type": "subslide"
    }
   },
   "source": [
    "### Computing the covariance matrix\n",
    "Suppose that the data vectors are the column vectors denoted $x$ then the covariance matrix is defined to be\n",
    "$$\n",
    "E(x x^T)-E(x)E(x)^T\n",
    "$$\n",
    "\n",
    "Where $x x^T$ is the **outer product** of $x$ with itself."
   ]
  },
  {
   "cell_type": "markdown",
   "metadata": {
    "slideshow": {
     "slide_type": "subslide"
    }
   },
   "source": [
    "If the data that we have is $x_1,x_2,x_n$ then  we estimate the covariance matrix:\n",
    "$$\n",
    "\\hat{E}(x x^T)-\\hat{E}(x)\\hat{E}(x)^T\n",
    "$$\n",
    "\n",
    "the estimates we use are:\n",
    "$$\n",
    "\\hat{E}(x x^T) = \\frac{1}{n} \\sum_{i=1}^n x_i x_i^T,\\;\\;\\;\\;\\;\n",
    "\\hat{E}(x) = \\frac{1}{n} \\sum_{i=1}^n x_i\n",
    "$$"
   ]
  },
  {
   "cell_type": "markdown",
   "metadata": {
    "slideshow": {
     "slide_type": "subslide"
    }
   },
   "source": [
    "## Computing the covariance matrix where the `nan`s are\n",
    "### The effect of  `nan`s in arithmetic operations\n",
    "* We use an RDD of numpy arrays, instead of Dataframes.\n",
    "* Why? Because unlike dataframes, `numpy.nanmean` treats `nan` entries correctly."
   ]
  },
  {
   "cell_type": "markdown",
   "metadata": {
    "slideshow": {
     "slide_type": "subslide"
    }
   },
   "source": [
    "### Calculating the mean of a vector with nan's\n",
    "* We often get vectors $x$ in which some, but not all, of the entries are `nan`. \n",
    "* We want to compute the mean of the elements of $x$. \n",
    "* If we use `np.mean` we will get the result `nan`. \n",
    "* A useful alternative is to use `np.nanmean` which removes the `nan` elements and takes the mean of the rest."
   ]
  },
  {
   "cell_type": "code",
   "execution_count": 2,
   "metadata": {
    "ExecuteTime": {
     "end_time": "2018-04-26T00:02:45.372638Z",
     "start_time": "2018-04-26T00:02:45.272601Z"
    },
    "scrolled": true,
    "slideshow": {
     "slide_type": "subslide"
    }
   },
   "outputs": [
    {
     "name": "stdout",
     "output_type": "stream",
     "text": [
      "a= [ 1. nan  2. nan  3.  4.  5.]\n",
      "np.mean(a)= nan\n",
      "np.mean(np.nan_to_num(a))= 2.142857142857143\n",
      "np.nanmean(a)= 3.0\n"
     ]
    }
   ],
   "source": [
    "import numpy as np\n",
    "a=np.array([1,np.nan,2,np.nan,3,4,5])\n",
    "print('a=',a)\n",
    "print('np.mean(a)=',np.mean(a))\n",
    "print('np.mean(np.nan_to_num(a))=',np.mean(np.nan_to_num(a))) # =(1+0+2+0+3+4+5)/7\n",
    "print('np.nanmean(a)=',np.nanmean(a)) # =(1+2+3+4+5)/5"
   ]
  },
  {
   "cell_type": "markdown",
   "metadata": {
    "slideshow": {
     "slide_type": "subslide"
    }
   },
   "source": [
    "### The outer poduct of a vector with `nan`s with itself"
   ]
  },
  {
   "cell_type": "code",
   "execution_count": 3,
   "metadata": {
    "ExecuteTime": {
     "end_time": "2018-04-26T00:02:46.797714Z",
     "start_time": "2018-04-26T00:02:46.788345Z"
    },
    "slideshow": {
     "slide_type": "fragment"
    }
   },
   "outputs": [
    {
     "data": {
      "text/plain": [
       "array([[ 1., nan,  2., nan,  3.,  4.,  5.],\n",
       "       [nan, nan, nan, nan, nan, nan, nan],\n",
       "       [ 2., nan,  4., nan,  6.,  8., 10.],\n",
       "       [nan, nan, nan, nan, nan, nan, nan],\n",
       "       [ 3., nan,  6., nan,  9., 12., 15.],\n",
       "       [ 4., nan,  8., nan, 12., 16., 20.],\n",
       "       [ 5., nan, 10., nan, 15., 20., 25.]])"
      ]
     },
     "execution_count": 3,
     "metadata": {},
     "output_type": "execute_result"
    }
   ],
   "source": [
    "np.outer(a,a)"
   ]
  },
  {
   "cell_type": "markdown",
   "metadata": {
    "slideshow": {
     "slide_type": "subslide"
    }
   },
   "source": [
    "### When should you not use `np.nanmean` ?\n",
    "Using `n.nanmean` is equivalent to assuming that choice of which elements to remove is independent of the values of the elements. \n",
    "* Example of bad case: suppose the larger elements have a higher probability of being `nan`. In that case `np.nanmean` will under-estimate the mean"
   ]
  },
  {
   "cell_type": "markdown",
   "metadata": {
    "slideshow": {
     "slide_type": "subslide"
    }
   },
   "source": [
    "### Computing the covariance  when there are `nan`s\n",
    "The covariance is a mean of outer products.\n",
    "\n",
    "We calculate two matrices:\n",
    "* $S$ - the sum of the matrices, whereh `nan`->0\n",
    "* $N$ - the number of not-`nan` element for each matrix location.\n",
    "\n",
    "We then calculate the mean as $S/N$ (division is done element-wise)"
   ]
  },
  {
   "cell_type": "markdown",
   "metadata": {
    "slideshow": {
     "slide_type": "subslide"
    }
   },
   "source": [
    "## Computing the mean together with the covariance\n",
    "To compute the covariance matrix we need to compute both $\\hat{E}(x x^T)$ and $\\hat{E}(x)$. Using a simple trick, we can compute both at the same time."
   ]
  },
  {
   "cell_type": "markdown",
   "metadata": {
    "slideshow": {
     "slide_type": "subslide"
    }
   },
   "source": [
    "Here is the trick: lets denote a $d$ dimensional **column vector** by $\\vec{x} = (x_1,x_2,\\ldots,x_d)$ (note that the subscript here is the index of the coordinate, not the index of the example in the training set as used above). \n",
    "\n",
    "The augmented vector $\\vec{x}'$ is defined to be the $d+1$ dimensional vector $\\vec{x}' = (1,x_1,x_2,\\ldots,x_d)$."
   ]
  },
  {
   "cell_type": "markdown",
   "metadata": {
    "slideshow": {
     "slide_type": "subslide"
    }
   },
   "source": [
    "The outer product of $\\vec{x}'$ with itself is equal to \n",
    "\n",
    "$$ \\vec{x}' {\\vec{x}'}^T\n",
    "= \\left[\\begin{array}{c|ccc}\n",
    "    1 &  &{\\vec{x}}^T &\\\\\n",
    "    \\hline \\\\\n",
    "    \\vec{x} & &\\vec{x} {\\vec{x}}^T \\\\ \\\\\n",
    "    \\end{array}\n",
    "    \\right]\n",
    "$$\n",
    "\n",
    "Where the lower left matrix is the original outer product $\\vec{x} {\\vec{x}}^T$ and the first row and the first column are $\\vec{x}^T$ and $\\vec{x}$ respectively."
   ]
  },
  {
   "cell_type": "markdown",
   "metadata": {
    "ExecuteTime": {
     "end_time": "2018-04-09T03:28:56.966524Z",
     "start_time": "2018-04-09T03:28:56.962438Z"
    },
    "slideshow": {
     "slide_type": "subslide"
    }
   },
   "source": [
    "Now suppose that we do the take the average of the outer product of the augmented vector and convince yourself that:\n",
    "$$\n",
    "\\hat{E}(\\vec{x}' {\\vec{x}'}^T) = \\frac{1}{n} \\sum_{i=1}^n {\\vec{x}'}_i {\\vec{x}'}_i^T\n",
    "= \\left[\\begin{array}{c|ccc}\n",
    "    1 &  &\\hat{E}(\\vec{x})^T &\\\\\n",
    "    \\hline \\\\\n",
    "    \\hat{E}(\\vec{x}) & &\\hat{E}(\\vec{x} {\\vec{x}}^T) \\\\ \\\\\n",
    "    \\end{array}\n",
    "    \\right]\n",
    "$$\n",
    "\n",
    "So indeed, we have produced the outer product average together with (two copies of) the average $\\hat{E}(\\vec{x})$"
   ]
  },
  {
   "cell_type": "code",
   "execution_count": 4,
   "metadata": {
    "ExecuteTime": {
     "end_time": "2018-04-26T01:50:49.977854Z",
     "start_time": "2018-04-26T01:50:46.393200Z"
    },
    "slideshow": {
     "slide_type": "skip"
    }
   },
   "outputs": [
    {
     "name": "stdout",
     "output_type": "stream",
     "text": [
      "dict_items([('spark.app.name', 'Weather_PCA'), ('spark.executor.memory', '3g'), ('spark.executor.cores', '1'), ('spark.cores.max', '4'), ('spark.default.parallelism', '10'), ('spark.logConf', 'True')])\n"
     ]
    }
   ],
   "source": [
    "if not EMR:\n",
    "    import findspark\n",
    "    findspark.init()\n",
    "from pyspark import SparkContext,SparkConf\n",
    "\n",
    "def create_sc(pyFiles):\n",
    "    sc_conf = SparkConf()\n",
    "    sc_conf.setAppName(\"Weather_PCA\")\n",
    "    sc_conf.set('spark.executor.memory', '3g')\n",
    "    sc_conf.set('spark.executor.cores', '1')\n",
    "    sc_conf.set('spark.cores.max', '4')\n",
    "    sc_conf.set('spark.default.parallelism','10')\n",
    "    sc_conf.set('spark.logConf', True)\n",
    "    print(sc_conf.getAll())\n",
    "\n",
    "    sc = SparkContext(conf=sc_conf,pyFiles=pyFiles)\n",
    "\n",
    "    return sc \n",
    "\n",
    "sc = create_sc(pyFiles=['lib/numpy_pack.py','lib/spark_PCA.py','lib/computeStatistics.py'])"
   ]
  },
  {
   "cell_type": "code",
   "execution_count": 5,
   "metadata": {
    "ExecuteTime": {
     "end_time": "2018-04-26T01:50:50.117124Z",
     "start_time": "2018-04-26T01:50:49.979720Z"
    },
    "slideshow": {
     "slide_type": "skip"
    }
   },
   "outputs": [],
   "source": [
    "from pyspark.sql import *\n",
    "sqlContext = SQLContext(sc)\n",
    "\n",
    "import numpy as np\n",
    "from lib.computeStatistics import *"
   ]
  },
  {
   "cell_type": "markdown",
   "metadata": {
    "slideshow": {
     "slide_type": "slide"
    }
   },
   "source": [
    "### Climate data\n",
    "\n",
    "The data we will use here comes from [NOAA](https://www.ncdc.noaa.gov/). Specifically, it was downloaded from This [FTP site](ftp://ftp.ncdc.noaa.gov/pub/data/ghcn/daily/).\n",
    "\n",
    "There is a large variety of measurements from all over the world, from 1870 will 2012.\n",
    "in the directory `../../Data/Weather` you will find the following useful files:\n",
    "\n",
    "* data-source.txt: the source of the data\n",
    "* ghcnd-readme.txt: A description of the content and format of the data\n",
    "* ghcnd-stations.txt: A table describing the Meteorological stations.\n",
    "\n"
   ]
  },
  {
   "cell_type": "markdown",
   "metadata": {
    "slideshow": {
     "slide_type": "skip"
    }
   },
   "source": [
    "### Data cleaning\n",
    "\n",
    "* Most measurements exists only for a tiny fraction of the stations and years. We therefor restrict our use to the following measurements:\n",
    "```python\n",
    "['TMAX', 'SNOW', 'SNWD', 'TMIN', 'PRCP', 'TOBS']\n",
    "```\n",
    "\n",
    "* 8 We consider only measurement-years that have at most 50 `NaN` entries\n",
    "\n",
    "* We consider only measurements in the continential USA\n",
    "\n",
    "* We partition the stations into the states of the continental USA (plus a few stations from states in canada and mexico)."
   ]
  },
  {
   "cell_type": "code",
   "execution_count": 8,
   "metadata": {
    "ExecuteTime": {
     "end_time": "2018-04-26T01:52:07.690561Z",
     "start_time": "2018-04-26T01:52:07.560112Z"
    }
   },
   "outputs": [
    {
     "name": "stdout",
     "output_type": "stream",
     "text": [
      "\u001b[34mNY.parquet\u001b[m\u001b[m               \u001b[34mWeather_Stations.parquet\u001b[m\u001b[m \u001b[34mrecon_NY_SNWD.parquet\u001b[m\u001b[m\r\n",
      "NY.tgz                   Weather_stations.tgz     \u001b[34mstations.parquet\u001b[m\u001b[m\r\n",
      "STAT_NY.pickle           \u001b[34mdecomp_NY_SNWD.parquet\u001b[m\u001b[m\r\n",
      "WeatherSTAT_NY.pickle    \u001b[34mdecon_NY_SNWD.parquet\u001b[m\u001b[m\r\n"
     ]
    }
   ],
   "source": [
    "!ls ../../../Data/Weather"
   ]
  },
  {
   "cell_type": "code",
   "execution_count": 19,
   "metadata": {
    "ExecuteTime": {
     "end_time": "2018-04-26T01:59:16.831381Z",
     "start_time": "2018-04-26T01:59:11.024290Z"
    },
    "slideshow": {
     "slide_type": "skip"
    }
   },
   "outputs": [
    {
     "name": "stdout",
     "output_type": "stream",
     "text": [
      "curl https://mas-dse-open.s3.amazonaws.com/Weather/by_state/NY.tgz > ../../../Data/Weather/NY.tgz\n",
      "  % Total    % Received % Xferd  Average Speed   Time    Time     Time  Current\n",
      "                                 Dload  Upload   Total   Spent    Left  Speed\n",
      "100 63.2M  100 63.2M    0     0  18.1M      0  0:00:03  0:00:03 --:--:-- 18.1M\n",
      "-rw-r--r--  1 yoavfreund  staff    63M Apr 25 18:59 ../../../Data/Weather/NY.tgz\n",
      "/Users/yoavfreund/projects/edX-Micro-Master-in-Data-Science/big-data-analytics-using-spark/notebooks/Data/Weather\n",
      "total 155648\n",
      "-rw-r--r--  1 yoavfreund  staff        0 Apr 18 18:12 _SUCCESS\n",
      "-rw-r--r--  1 yoavfreund  staff  3660544 Apr 18 18:12 part-00000-89caf7c0-9733-40ec-a650-7f368529dd01-c000.snappy.parquet\n",
      "-rw-r--r--  1 yoavfreund  staff  4138689 Apr 18 18:12 part-00001-89caf7c0-9733-40ec-a650-7f368529dd01-c000.snappy.parquet\n",
      "-rw-r--r--  1 yoavfreund  staff  3946287 Apr 18 18:12 part-00002-89caf7c0-9733-40ec-a650-7f368529dd01-c000.snappy.parquet\n",
      "-rw-r--r--  1 yoavfreund  staff  4004047 Apr 18 18:12 part-00003-89caf7c0-9733-40ec-a650-7f368529dd01-c000.snappy.parquet\n",
      "-rw-r--r--  1 yoavfreund  staff  3949516 Apr 18 18:12 part-00004-89caf7c0-9733-40ec-a650-7f368529dd01-c000.snappy.parquet\n",
      "-rw-r--r--  1 yoavfreund  staff  2836314 Apr 18 18:12 part-00005-89caf7c0-9733-40ec-a650-7f368529dd01-c000.snappy.parquet\n",
      "-rw-r--r--  1 yoavfreund  staff  3317024 Apr 18 18:12 part-00006-89caf7c0-9733-40ec-a650-7f368529dd01-c000.snappy.parquet\n",
      "-rw-r--r--  1 yoavfreund  staff  3929807 Apr 18 18:12 part-00007-89caf7c0-9733-40ec-a650-7f368529dd01-c000.snappy.parquet\n",
      "-rw-r--r--  1 yoavfreund  staff  2616239 Apr 18 18:12 part-00008-89caf7c0-9733-40ec-a650-7f368529dd01-c000.snappy.parquet\n",
      "-rw-r--r--  1 yoavfreund  staff  3865388 Apr 18 18:12 part-00009-89caf7c0-9733-40ec-a650-7f368529dd01-c000.snappy.parquet\n",
      "-rw-r--r--  1 yoavfreund  staff  3333004 Apr 18 18:12 part-00010-89caf7c0-9733-40ec-a650-7f368529dd01-c000.snappy.parquet\n",
      "-rw-r--r--  1 yoavfreund  staff  3655620 Apr 18 18:12 part-00011-89caf7c0-9733-40ec-a650-7f368529dd01-c000.snappy.parquet\n",
      "-rw-r--r--  1 yoavfreund  staff  3532197 Apr 18 18:12 part-00012-89caf7c0-9733-40ec-a650-7f368529dd01-c000.snappy.parquet\n",
      "-rw-r--r--  1 yoavfreund  staff  3913946 Apr 18 18:12 part-00013-89caf7c0-9733-40ec-a650-7f368529dd01-c000.snappy.parquet\n",
      "-rw-r--r--  1 yoavfreund  staff  1431820 Apr 18 18:12 part-00014-89caf7c0-9733-40ec-a650-7f368529dd01-c000.snappy.parquet\n",
      "-rw-r--r--  1 yoavfreund  staff  2088969 Apr 18 18:12 part-00015-89caf7c0-9733-40ec-a650-7f368529dd01-c000.snappy.parquet\n",
      "-rw-r--r--  1 yoavfreund  staff  1737280 Apr 18 18:12 part-00016-89caf7c0-9733-40ec-a650-7f368529dd01-c000.snappy.parquet\n",
      "-rw-r--r--  1 yoavfreund  staff  2340575 Apr 18 18:12 part-00017-89caf7c0-9733-40ec-a650-7f368529dd01-c000.snappy.parquet\n",
      "-rw-r--r--  1 yoavfreund  staff  2007068 Apr 18 18:12 part-00018-89caf7c0-9733-40ec-a650-7f368529dd01-c000.snappy.parquet\n",
      "-rw-r--r--  1 yoavfreund  staff  1600288 Apr 18 18:12 part-00019-89caf7c0-9733-40ec-a650-7f368529dd01-c000.snappy.parquet\n",
      "-rw-r--r--  1 yoavfreund  staff  3170504 Apr 18 18:12 part-00020-89caf7c0-9733-40ec-a650-7f368529dd01-c000.snappy.parquet\n",
      "-rw-r--r--  1 yoavfreund  staff  2507358 Apr 18 18:12 part-00021-89caf7c0-9733-40ec-a650-7f368529dd01-c000.snappy.parquet\n",
      "-rw-r--r--  1 yoavfreund  staff  1766711 Apr 18 18:12 part-00022-89caf7c0-9733-40ec-a650-7f368529dd01-c000.snappy.parquet\n",
      "-rw-r--r--  1 yoavfreund  staff  2094306 Apr 18 18:12 part-00023-89caf7c0-9733-40ec-a650-7f368529dd01-c000.snappy.parquet\n",
      "-rw-r--r--  1 yoavfreund  staff  2705496 Apr 18 18:12 part-00024-89caf7c0-9733-40ec-a650-7f368529dd01-c000.snappy.parquet\n",
      "-rw-r--r--  1 yoavfreund  staff  1421413 Apr 18 18:12 part-00025-89caf7c0-9733-40ec-a650-7f368529dd01-c000.snappy.parquet\n",
      "-rw-r--r--  1 yoavfreund  staff  3951224 Apr 18 18:12 part-00026-89caf7c0-9733-40ec-a650-7f368529dd01-c000.snappy.parquet\n",
      "-rw-r--r--  1 yoavfreund  staff   103149 Apr 18 18:12 part-00027-89caf7c0-9733-40ec-a650-7f368529dd01-c000.snappy.parquet\n",
      "155648\t./NY.parquet\n",
      "/Users/yoavfreund/projects/edX-Micro-Master-in-Data-Science/big-data-analytics-using-spark/notebooks/Section2-PCA/PCA/data_preparation\n"
     ]
    }
   ],
   "source": [
    "state='NY'\n",
    "if not EMR:\n",
    "    data_dir='../../../Data/Weather'\n",
    "    tarname=state+'.tgz'\n",
    "    parquet=state+'.parquet'\n",
    "\n",
    "    !rm -rf $data_dir/$tarname\n",
    "\n",
    "    command=\"curl https://mas-dse-open.s3.amazonaws.com/Weather/by_state/%s > %s/%s\"%(tarname,data_dir,tarname)\n",
    "    print(command)\n",
    "    !$command\n",
    "    !ls -lh $data_dir/$tarname\n",
    "\n",
    "    cur_dir,=!pwd\n",
    "    %cd $data_dir\n",
    "    !rm -rf ./$parquet\n",
    "    !tar -xzf $tarname\n",
    "    !ls -l ./$parquet\n",
    "    !du ./$parquet\n",
    "    %cd $cur_dir"
   ]
  },
  {
   "cell_type": "code",
   "execution_count": 10,
   "metadata": {
    "ExecuteTime": {
     "end_time": "2018-04-26T01:52:28.162799Z",
     "start_time": "2018-04-26T01:52:28.150934Z"
    },
    "scrolled": true,
    "slideshow": {
     "slide_type": "skip"
    }
   },
   "outputs": [],
   "source": [
    "if EMR:  # not debugged, should use complete parquet and extract just the state of interest.\n",
    "    data_dir='/mnt/workspace/Data'\n",
    "    !hdfs dfs -mkdir /weather/\n",
    "    !hdfs dfs -CopyFromLocal $data_dir/$parquet /weather/$parquet\n",
    "\n",
    "    # When running on cluster\n",
    "    #!mv ../../Data/Weather/NY.parquet /mnt/workspace/Data/NY.parquet\n",
    "\n",
    "    !aws s3 cp --recursive --quiet /mnt/workspace/Data/NY.parquet s3://dse-weather/NY.parquet\n",
    "\n",
    "    !aws s3 ls s3://dse-weather/\n",
    "\n",
    "    local_path=data_dir+'/'+parquet\n",
    "    hdfs_path='/weather/'+parquet\n",
    "    local_path,hdfs_path\n",
    "\n",
    "    !hdfs dfs -copyFromLocal $local_path $hdfs_path\n",
    "\n",
    "    !hdfs dfs -du /weather/\n",
    "    parquet_path=hdfs_path"
   ]
  },
  {
   "cell_type": "code",
   "execution_count": 20,
   "metadata": {
    "ExecuteTime": {
     "end_time": "2018-04-26T01:59:40.510070Z",
     "start_time": "2018-04-26T01:59:40.383787Z"
    },
    "slideshow": {
     "slide_type": "skip"
    }
   },
   "outputs": [
    {
     "name": "stdout",
     "output_type": "stream",
     "text": [
      " 76M\t../../../Data/Weather/NY.parquet\r\n"
     ]
    }
   ],
   "source": [
    "parquet_path = data_dir+'/'+parquet\n",
    "!du -sh $parquet_path"
   ]
  },
  {
   "cell_type": "code",
   "execution_count": 21,
   "metadata": {
    "ExecuteTime": {
     "end_time": "2018-04-26T01:59:50.494933Z",
     "start_time": "2018-04-26T01:59:50.303103Z"
    },
    "slideshow": {
     "slide_type": "subslide"
    }
   },
   "outputs": [
    {
     "name": "stdout",
     "output_type": "stream",
     "text": [
      "168398\n",
      "CPU times: user 1.9 ms, sys: 2.23 ms, total: 4.13 ms\n",
      "Wall time: 188 ms\n"
     ]
    }
   ],
   "source": [
    "%%time\n",
    "df=sqlContext.read.parquet(parquet_path)\n",
    "print(df.count())"
   ]
  },
  {
   "cell_type": "code",
   "execution_count": 23,
   "metadata": {
    "ExecuteTime": {
     "end_time": "2018-04-26T02:00:04.502997Z",
     "start_time": "2018-04-26T02:00:04.381344Z"
    },
    "scrolled": true,
    "slideshow": {
     "slide_type": "subslide"
    }
   },
   "outputs": [
    {
     "name": "stdout",
     "output_type": "stream",
     "text": [
      "+-----------+-----------+----+--------------------+-----------------+--------------+------------------+-----------------+-----+-----------------+\n",
      "|    Station|Measurement|Year|              Values|       dist_coast|      latitude|         longitude|        elevation|state|             name|\n",
      "+-----------+-----------+----+--------------------+-----------------+--------------+------------------+-----------------+-----+-----------------+\n",
      "|USW00094704|   PRCP_s20|1945|[00 00 00 00 00 0...|361.8320007324219|42.57080078125|-77.71330261230469|208.8000030517578|   NY|DANSVILLE MUNI AP|\n",
      "|USW00094704|   PRCP_s20|1946|[99 46 52 46 0B 4...|361.8320007324219|42.57080078125|-77.71330261230469|208.8000030517578|   NY|DANSVILLE MUNI AP|\n",
      "+-----------+-----------+----+--------------------+-----------------+--------------+------------------+-----------------+-----+-----------------+\n",
      "only showing top 2 rows\n",
      "\n"
     ]
    }
   ],
   "source": [
    "df.show(2)"
   ]
  },
  {
   "cell_type": "code",
   "execution_count": 24,
   "metadata": {
    "ExecuteTime": {
     "end_time": "2018-04-26T02:00:09.349796Z",
     "start_time": "2018-04-26T02:00:09.174935Z"
    }
   },
   "outputs": [],
   "source": [
    "sqlContext.registerDataFrameAsTable(df,'table')"
   ]
  },
  {
   "cell_type": "code",
   "execution_count": 25,
   "metadata": {
    "ExecuteTime": {
     "end_time": "2018-04-26T02:00:14.722468Z",
     "start_time": "2018-04-26T02:00:12.022046Z"
    }
   },
   "outputs": [],
   "source": [
    "Query=\"\"\"\n",
    "SELECT Measurement,count(Measurement) as count \n",
    "FROM table \n",
    "GROUP BY Measurement\n",
    "ORDER BY Measurement\n",
    "\"\"\"\n",
    "counts=sqlContext.sql(Query).toPandas()\n",
    "measurements=list(counts['Measurement'])"
   ]
  },
  {
   "cell_type": "code",
   "execution_count": 26,
   "metadata": {
    "ExecuteTime": {
     "end_time": "2018-04-26T02:00:14.742701Z",
     "start_time": "2018-04-26T02:00:14.724178Z"
    }
   },
   "outputs": [
    {
     "data": {
      "text/html": [
       "<div>\n",
       "<style scoped>\n",
       "    .dataframe tbody tr th:only-of-type {\n",
       "        vertical-align: middle;\n",
       "    }\n",
       "\n",
       "    .dataframe tbody tr th {\n",
       "        vertical-align: top;\n",
       "    }\n",
       "\n",
       "    .dataframe thead th {\n",
       "        text-align: right;\n",
       "    }\n",
       "</style>\n",
       "<table border=\"1\" class=\"dataframe\">\n",
       "  <thead>\n",
       "    <tr style=\"text-align: right;\">\n",
       "      <th></th>\n",
       "      <th>Measurement</th>\n",
       "      <th>count</th>\n",
       "    </tr>\n",
       "  </thead>\n",
       "  <tbody>\n",
       "    <tr>\n",
       "      <th>0</th>\n",
       "      <td>PRCP</td>\n",
       "      <td>16118</td>\n",
       "    </tr>\n",
       "    <tr>\n",
       "      <th>1</th>\n",
       "      <td>PRCP_s20</td>\n",
       "      <td>16118</td>\n",
       "    </tr>\n",
       "    <tr>\n",
       "      <th>2</th>\n",
       "      <td>SNOW</td>\n",
       "      <td>15629</td>\n",
       "    </tr>\n",
       "    <tr>\n",
       "      <th>3</th>\n",
       "      <td>SNOW_s20</td>\n",
       "      <td>15629</td>\n",
       "    </tr>\n",
       "    <tr>\n",
       "      <th>4</th>\n",
       "      <td>SNWD</td>\n",
       "      <td>14617</td>\n",
       "    </tr>\n",
       "    <tr>\n",
       "      <th>5</th>\n",
       "      <td>SNWD_s20</td>\n",
       "      <td>14617</td>\n",
       "    </tr>\n",
       "    <tr>\n",
       "      <th>6</th>\n",
       "      <td>TMAX</td>\n",
       "      <td>13437</td>\n",
       "    </tr>\n",
       "    <tr>\n",
       "      <th>7</th>\n",
       "      <td>TMAX_s20</td>\n",
       "      <td>13437</td>\n",
       "    </tr>\n",
       "    <tr>\n",
       "      <th>8</th>\n",
       "      <td>TMIN</td>\n",
       "      <td>13442</td>\n",
       "    </tr>\n",
       "    <tr>\n",
       "      <th>9</th>\n",
       "      <td>TMIN_s20</td>\n",
       "      <td>13442</td>\n",
       "    </tr>\n",
       "    <tr>\n",
       "      <th>10</th>\n",
       "      <td>TOBS</td>\n",
       "      <td>10956</td>\n",
       "    </tr>\n",
       "    <tr>\n",
       "      <th>11</th>\n",
       "      <td>TOBS_s20</td>\n",
       "      <td>10956</td>\n",
       "    </tr>\n",
       "  </tbody>\n",
       "</table>\n",
       "</div>"
      ],
      "text/plain": [
       "   Measurement  count\n",
       "0         PRCP  16118\n",
       "1     PRCP_s20  16118\n",
       "2         SNOW  15629\n",
       "3     SNOW_s20  15629\n",
       "4         SNWD  14617\n",
       "5     SNWD_s20  14617\n",
       "6         TMAX  13437\n",
       "7     TMAX_s20  13437\n",
       "8         TMIN  13442\n",
       "9     TMIN_s20  13442\n",
       "10        TOBS  10956\n",
       "11    TOBS_s20  10956"
      ]
     },
     "execution_count": 26,
     "metadata": {},
     "output_type": "execute_result"
    }
   ],
   "source": [
    "counts"
   ]
  },
  {
   "cell_type": "code",
   "execution_count": 27,
   "metadata": {
    "ExecuteTime": {
     "end_time": "2018-04-26T02:00:23.411171Z",
     "start_time": "2018-04-26T02:00:23.229737Z"
    }
   },
   "outputs": [
    {
     "name": "stdout",
     "output_type": "stream",
     "text": [
      "Populating the interactive namespace from numpy and matplotlib\n"
     ]
    },
    {
     "name": "stderr",
     "output_type": "stream",
     "text": [
      "/Users/yoavfreund/anaconda3/lib/python3.6/site-packages/IPython/core/magics/pylab.py:160: UserWarning: pylab import has clobbered these variables: ['time']\n",
      "`%matplotlib` prevents importing * from pylab and numpy\n",
      "  \"\\n`%matplotlib` prevents importing * from pylab and numpy\"\n"
     ]
    }
   ],
   "source": [
    "%pylab inline\n",
    "def plot_row(rows):\n",
    "    figure(figsize=[10,7])\n",
    "    for row in rows:\n",
    "        plot(unpackArray(row['Values'],np.float16),\n",
    "             label=\"%s/%s/%d\"%(row['Measurement'],row['name'],row['Year']))\n",
    "    legend()"
   ]
  },
  {
   "cell_type": "code",
   "execution_count": 28,
   "metadata": {
    "ExecuteTime": {
     "end_time": "2018-04-26T02:00:26.026791Z",
     "start_time": "2018-04-26T02:00:25.412223Z"
    }
   },
   "outputs": [
    {
     "data": {
      "image/png": "[encoded data removed]",
      "text/plain": [
       "<Figure size 720x504 with 1 Axes>"
      ]
     },
     "metadata": {},
     "output_type": "display_data"
    }
   ],
   "source": [
    "rows=df.rdd.take(5)\n",
    "plot_row(rows)"
   ]
  },
  {
   "cell_type": "code",
   "execution_count": 29,
   "metadata": {
    "ExecuteTime": {
     "end_time": "2018-04-26T02:00:28.941587Z",
     "start_time": "2018-04-26T02:00:28.202414Z"
    },
    "scrolled": false
   },
   "outputs": [
    {
     "name": "stdout",
     "output_type": "stream",
     "text": [
      "\n",
      "SELECT * \n",
      "FROM table \n",
      "WHERE name='DANSVILLE MUNI AP' AND Year=1948 AND (Measurement='PRCP' OR Measurement='PRCP_s20')\n",
      "\n"
     ]
    },
    {
     "data": {
      "image/png": "[encoded data removed]",
      "text/plain": [
       "<Figure size 720x504 with 1 Axes>"
      ]
     },
     "metadata": {},
     "output_type": "display_data"
    }
   ],
   "source": [
    "name='DANSVILLE MUNI AP'\n",
    "Year=1948\n",
    "\n",
    "Query=\"\"\"\n",
    "SELECT * \n",
    "FROM table \n",
    "WHERE name='%s' AND Year=%d AND (Measurement='PRCP' OR Measurement='PRCP_s20')\n",
    "\"\"\"%(name,Year)\n",
    "print(Query)\n",
    "Rows=sqlContext.sql(Query)\n",
    "plot_row(Rows.rdd.collect())"
   ]
  },
  {
   "cell_type": "code",
   "execution_count": 30,
   "metadata": {
    "ExecuteTime": {
     "end_time": "2018-04-26T02:00:34.950636Z",
     "start_time": "2018-04-26T02:00:34.944337Z"
    },
    "slideshow": {
     "slide_type": "skip"
    }
   },
   "outputs": [
    {
     "name": "stdout",
     "output_type": "stream",
     "text": [
      "Number of executors= 10\n",
      "took 0.00115203857421875 seconds\n"
     ]
    }
   ],
   "source": [
    "from time import time\n",
    "t=time()\n",
    "\n",
    "N=sc.defaultParallelism\n",
    "print('Number of executors=',N)\n",
    "print('took',time()-t,'seconds')"
   ]
  },
  {
   "cell_type": "code",
   "execution_count": 41,
   "metadata": {
    "ExecuteTime": {
     "end_time": "2018-04-26T02:03:19.501135Z",
     "start_time": "2018-04-26T02:03:19.377030Z"
    }
   },
   "outputs": [],
   "source": [
    "# %load lib/computeStatistics.py\n",
    "\n",
    "\n",
    "from numpy import linalg as LA\n",
    "import numpy as np\n",
    "\n",
    "from numpy_pack import packArray,unpackArray\n",
    "from spark_PCA import computeCov\n",
    "from time import time\n",
    "\n",
    "def computeStatistics(sqlContext,df):\n",
    "    \"\"\"Compute all of the statistics for a given dataframe\n",
    "    Input: sqlContext: to perform SQL queries\n",
    "            df: dataframe with the fields \n",
    "            Station(string), Measurement(string), Year(integer), Values (byteArray with 365 float16 numbers)\n",
    "    returns: STAT, a dictionary of dictionaries. First key is measurement, \n",
    "             second keys described in computeStats.STAT_Descriptions\n",
    "    \"\"\"\n",
    "\n",
    "    sqlContext.registerDataFrameAsTable(df,'weather')\n",
    "    STAT={}  # dictionary storing the statistics for each measurement\n",
    "    Query=\"\"\"\n",
    "    SELECT Measurement,count(Measurement) as count \n",
    "    FROM weather\n",
    "    GROUP BY Measurement\n",
    "    ORDER BY count\n",
    "    \"\"\"\n",
    "    counts=sqlContext.sql(Query).toPandas()\n",
    "    measurements=list(counts['Measurement'])\n",
    "    \n",
    "    for meas in measurements:\n",
    "        t=time()\n",
    "        Query=\"SELECT * FROM weather\\n\\tWHERE measurement = '%s'\"%(meas)\n",
    "        print(Query)\n",
    "        mdf = sqlContext.sql(Query)\n",
    "        print(meas,': shape of mdf is ',mdf.count())\n",
    "\n",
    "        data=mdf.rdd.map(lambda row: unpackArray(row['Values'],np.float16))\n",
    "        #print('data.count=',data.count())\n",
    "        #print('data.first=',data.first())\n",
    "        #Compute basic statistics\n",
    "        STAT[meas]=computeOverAllDist(data)   # Compute the statistics \n",
    "\n",
    "        # compute covariance matrix\n",
    "        OUT=computeCov(data)\n",
    "\n",
    "        #find PCA decomposition\n",
    "        eigval,eigvec=LA.eig(OUT['Cov'])\n",
    "\n",
    "        # collect all of the statistics in STAT[meas]\n",
    "        STAT[meas]['eigval']=eigval\n",
    "        STAT[meas]['eigvec']=eigvec\n",
    "        STAT[meas].update(OUT)\n",
    "\n",
    "        print('time for',meas,'is',time()-t)\n",
    "    \n",
    "    return STAT\n",
    "\n",
    "# Compute the overall distribution of values and the distribution of the number of nan per year\n",
    "def find_percentiles(SortedVals,percentile):\n",
    "    L=int(len(SortedVals)/percentile)\n",
    "    return SortedVals[L],SortedVals[-L]\n",
    "  \n",
    "def computeOverAllDist(rdd0):\n",
    "    #estimate the distribution of the number of Nans per row.\n",
    "    UnDef=np.array(rdd0.map(lambda row:sum(np.isnan(row))).sample(False,0.01).collect())\n",
    "    \n",
    "    #collect all of the not-nans across all rows to compute mean, std etc.\n",
    "    flat=rdd0.flatMap(lambda v:list(v)).filter(lambda x: not np.isnan(x)).cache()\n",
    "    count,S1,S2=flat.map(lambda x: np.float64([1,x,x**2]))\\\n",
    "                  .reduce(lambda x,y: x+y)\n",
    "    mean=S1/count\n",
    "    std=np.sqrt(S2/count-mean**2)\n",
    "    Vals=flat.sample(False,0.0001).collect()\n",
    "    SortedVals=np.array(sorted(Vals))\n",
    "    low100,high100=find_percentiles(SortedVals,100)\n",
    "    low1000,high1000=find_percentiles(SortedVals,1000)\n",
    "    return {'UnDef':UnDef,\\\n",
    "          'mean':mean,\\\n",
    "          'std':std,\\\n",
    "          'SortedVals':SortedVals,\\\n",
    "          'low100':low100,\\\n",
    "          'high100':high100,\\\n",
    "          'low1000':low100,\\\n",
    "          'high1000':high1000\n",
    "          }\n",
    "\n",
    "# description of data returned by computeOverAllDist\n",
    "STAT_Descriptions=[\n",
    "('SortedVals', 'Sample of values', 'vector whose length varies between measurements'),\n",
    " ('UnDef', 'sample of number of undefs per row', 'vector whose length varies between measurements'),\n",
    " ('mean', 'mean value', ()),\n",
    " ('std', 'std', ()),\n",
    " ('low100', 'bottom 1%', ()),\n",
    " ('high100', 'top 1%', ()),\n",
    " ('low1000', 'bottom 0.1%', ()),\n",
    " ('high1000', 'top 0.1%', ()),\n",
    " ('E', 'Sum of values per day', (365,)),\n",
    " ('NE', 'count of values per day', (365,)),\n",
    " ('Mean', 'E/NE', (365,)),\n",
    " ('O', 'Sum of outer products', (365, 365)),\n",
    " ('NO', 'counts for outer products', (365, 365)),\n",
    " ('Cov', 'O/NO', (365, 365)),\n",
    " ('Var', 'The variance per day = diagonal of Cov', (365,)),\n",
    " ('eigval', 'PCA eigen-values', (365,)),\n",
    " ('eigvec', 'PCA eigen-vectors', (365, 365))\n",
    "]\n",
    "\n",
    "\n"
   ]
  },
  {
   "cell_type": "code",
   "execution_count": 42,
   "metadata": {
    "ExecuteTime": {
     "end_time": "2018-04-26T02:03:21.619554Z",
     "start_time": "2018-04-26T02:03:21.062606Z"
    }
   },
   "outputs": [
    {
     "data": {
      "text/plain": [
       "0"
      ]
     },
     "execution_count": 42,
     "metadata": {},
     "output_type": "execute_result"
    }
   ],
   "source": [
    "row=df.rdd.first()\n",
    "\n",
    "def count_nans(row):\n",
    "    S=unpackArray(row['Values'],np.float16)\n",
    "    return sum(np.isnan(S))\n",
    "count_nans(row)"
   ]
  },
  {
   "cell_type": "code",
   "execution_count": 43,
   "metadata": {
    "ExecuteTime": {
     "end_time": "2018-04-26T02:03:23.084581Z",
     "start_time": "2018-04-26T02:03:23.078588Z"
    }
   },
   "outputs": [],
   "source": [
    "from pyspark.sql.types import ArrayType,FloatType, DoubleType, StringType, IntegerType\n",
    "from pyspark.sql.functions import udf\n",
    "import numpy as np\n",
    "def Count_nan(V):\n",
    "    A=unpackArray(V,data_type=np.float16)\n",
    "    return int(sum(np.isnan(A)))  # the int() is important, sparksql does not accept numpy ints\n",
    "Count_nan_udf = udf(Count_nan,IntegerType())\n"
   ]
  },
  {
   "cell_type": "code",
   "execution_count": 44,
   "metadata": {
    "ExecuteTime": {
     "end_time": "2018-04-26T02:03:26.544001Z",
     "start_time": "2018-04-26T02:03:26.526883Z"
    }
   },
   "outputs": [],
   "source": [
    "df=df.withColumn(\"nan_no\", Count_nan_udf(df.Values))"
   ]
  },
  {
   "cell_type": "code",
   "execution_count": 45,
   "metadata": {
    "ExecuteTime": {
     "end_time": "2018-04-26T02:03:30.335038Z",
     "start_time": "2018-04-26T02:03:27.494528Z"
    }
   },
   "outputs": [
    {
     "name": "stdout",
     "output_type": "stream",
     "text": [
      "CPU times: user 510 ms, sys: 18 ms, total: 528 ms\n",
      "Wall time: 2.84 s\n"
     ]
    }
   ],
   "source": [
    "%%time\n",
    "count_nans=df.select('nan_no').toPandas()"
   ]
  },
  {
   "cell_type": "code",
   "execution_count": 46,
   "metadata": {
    "ExecuteTime": {
     "end_time": "2018-04-26T02:03:30.601706Z",
     "start_time": "2018-04-26T02:03:30.336430Z"
    },
    "scrolled": true
   },
   "outputs": [
    {
     "data": {
      "image/png": "[encoded data removed]",
      "text/plain": [
       "<Figure size 432x288 with 1 Axes>"
      ]
     },
     "metadata": {},
     "output_type": "display_data"
    }
   ],
   "source": [
    "count_nans.plot.hist('nan_no',bins=100);"
   ]
  },
  {
   "cell_type": "markdown",
   "metadata": {},
   "source": [
    "### Remove rows with more than 50 nans."
   ]
  },
  {
   "cell_type": "code",
   "execution_count": 47,
   "metadata": {
    "ExecuteTime": {
     "end_time": "2018-04-26T02:03:44.301580Z",
     "start_time": "2018-04-26T02:03:41.174067Z"
    }
   },
   "outputs": [
    {
     "name": "stdout",
     "output_type": "stream",
     "text": [
      "138882\n",
      "138882\n"
     ]
    }
   ],
   "source": [
    "print(df.count())\n",
    "df=df.filter(df.nan_no < 50)\n",
    "print(df.count())"
   ]
  },
  {
   "cell_type": "code",
   "execution_count": 48,
   "metadata": {
    "ExecuteTime": {
     "end_time": "2018-04-26T02:09:43.003625Z",
     "start_time": "2018-04-26T02:03:49.094914Z"
    },
    "slideshow": {
     "slide_type": "subslide"
    }
   },
   "outputs": [
    {
     "name": "stdout",
     "output_type": "stream",
     "text": [
      "SELECT * FROM weather\n",
      "\tWHERE measurement = 'SNWD'\n",
      "SNWD : shape of mdf is  8496\n",
      "time for SNWD is 21.034867763519287\n",
      "SELECT * FROM weather\n",
      "\tWHERE measurement = 'TOBS'\n",
      "TOBS : shape of mdf is  9299\n",
      "time for TOBS is 24.098997116088867\n",
      "SELECT * FROM weather\n",
      "\tWHERE measurement = 'SNOW'\n",
      "SNOW : shape of mdf is  9748\n",
      "time for SNOW is 24.903972864151\n",
      "SELECT * FROM weather\n",
      "\tWHERE measurement = 'TOBS_s20'\n",
      "TOBS_s20 : shape of mdf is  10121\n",
      "time for TOBS_s20 is 28.332376956939697\n",
      "SELECT * FROM weather\n",
      "\tWHERE measurement = 'SNWD_s20'\n",
      "SNWD_s20 : shape of mdf is  10932\n",
      "time for SNWD_s20 is 27.96428894996643\n",
      "SELECT * FROM weather\n",
      "\tWHERE measurement = 'TMAX'\n",
      "TMAX : shape of mdf is  11806\n",
      "time for TMAX is 30.742621898651123\n",
      "SELECT * FROM weather\n",
      "\tWHERE measurement = 'TMIN'\n",
      "TMIN : shape of mdf is  11810\n",
      "time for TMIN is 29.904306888580322\n",
      "SELECT * FROM weather\n",
      "\tWHERE measurement = 'SNOW_s20'\n",
      "SNOW_s20 : shape of mdf is  12155\n",
      "time for SNOW_s20 is 29.573682069778442\n",
      "SELECT * FROM weather\n",
      "\tWHERE measurement = 'TMAX_s20'\n",
      "TMAX_s20 : shape of mdf is  12642\n",
      "time for TMAX_s20 is 29.578670024871826\n",
      "SELECT * FROM weather\n",
      "\tWHERE measurement = 'TMIN_s20'\n",
      "TMIN_s20 : shape of mdf is  12649\n",
      "time for TMIN_s20 is 34.550994873046875\n",
      "SELECT * FROM weather\n",
      "\tWHERE measurement = 'PRCP'\n",
      "PRCP : shape of mdf is  13950\n",
      "time for PRCP is 34.15949082374573\n",
      "SELECT * FROM weather\n",
      "\tWHERE measurement = 'PRCP_s20'\n",
      "PRCP_s20 : shape of mdf is  15274\n",
      "time for PRCP_s20 is 36.74457788467407\n",
      "CPU times: user 5.24 s, sys: 410 ms, total: 5.65 s\n",
      "Wall time: 5min 53s\n"
     ]
    }
   ],
   "source": [
    "%%time \n",
    "### This is the main cell, where all of the statistics are computed.\n",
    "STAT=computeStatistics(sqlContext,df)"
   ]
  },
  {
   "cell_type": "code",
   "execution_count": 49,
   "metadata": {
    "ExecuteTime": {
     "end_time": "2018-04-26T02:10:09.900084Z",
     "start_time": "2018-04-26T02:10:09.896791Z"
    }
   },
   "outputs": [
    {
     "data": {
      "text/plain": [
       "dict_keys(['SNWD', 'TOBS', 'SNOW', 'TOBS_s20', 'SNWD_s20', 'TMAX', 'TMIN', 'SNOW_s20', 'TMAX_s20', 'TMIN_s20', 'PRCP', 'PRCP_s20'])"
      ]
     },
     "execution_count": 49,
     "metadata": {},
     "output_type": "execute_result"
    }
   ],
   "source": [
    "STAT.keys()"
   ]
  },
  {
   "cell_type": "code",
   "execution_count": 50,
   "metadata": {
    "ExecuteTime": {
     "end_time": "2018-04-26T02:10:28.984663Z",
     "start_time": "2018-04-26T02:10:28.956784Z"
    },
    "scrolled": false
   },
   "outputs": [
    {
     "data": {
      "text/plain": [
       "{'Cov': array([[152.54139297, 151.99358305, 151.6271789 , ...,  43.59008177,\n",
       "          43.62247552,  43.62069043],\n",
       "        [151.99358305, 151.53111559, 151.26183084, ...,  43.52699552,\n",
       "          43.56279163,  43.56541584],\n",
       "        [151.6271789 , 151.26183084, 151.04850899, ...,  43.56854256,\n",
       "          43.60571094,  43.61080896],\n",
       "        ...,\n",
       "        [ 43.59008177,  43.52699552,  43.56854256, ..., 165.83235664,\n",
       "         165.36886665, 164.78998932],\n",
       "        [ 43.62247552,  43.56279163,  43.60571094, ..., 165.36886665,\n",
       "         165.02201903, 164.5457432 ],\n",
       "        [ 43.62069043,  43.56541584,  43.61080896, ..., 164.78998932,\n",
       "         164.5457432 , 164.18267445]]),\n",
       " 'E': array([381981.27807617, 380665.18933105, 379449.90112305, 378288.28643799,\n",
       "        377060.58642578, 375812.69482422, 374726.16235352, 373652.63305664,\n",
       "        372573.05078125, 372291.34716797, 371091.51081848, 370141.54455566,\n",
       "        369156.47302246, 368409.22125244, 367582.43328857, 366795.56811523,\n",
       "        366087.13977051, 365541.05999756, 364494.60015869, 363314.13047791,\n",
       "        362834.22689819, 362451.70678711, 362164.25665283, 361842.2565918 ,\n",
       "        361452.20446777, 361137.48937988, 360846.3671875 , 360677.8762207 ,\n",
       "        360550.73181152, 360551.85498047, 360674.04418945, 360688.21557617,\n",
       "        360733.11734009, 360714.8055191 , 360950.24436951, 360920.6362915 ,\n",
       "        361250.89294434, 361606.0847168 , 362117.65136719, 362658.44042969,\n",
       "        364508.60839844, 365109.87631226, 365753.83557129, 366541.11157227,\n",
       "        367432.38623047, 368068.8449707 , 368902.68945312, 369549.51367188,\n",
       "        370638.19140625, 371680.14794922, 372321.08349609, 373263.86254883,\n",
       "        374214.43823242, 375198.52746582, 376356.07421875, 377609.13092041,\n",
       "        378837.671875  , 379894.24621582, 380962.35876465, 382190.77954102,\n",
       "        383371.24250793, 384664.21413422, 385936.18405914, 387244.33331299,\n",
       "        388443.62712097, 389671.04437256, 390920.79043579, 392127.67764282,\n",
       "        393255.4831543 , 394418.37701416, 396128.39526367, 397242.51867676,\n",
       "        398693.2722168 , 399897.45495605, 402218.27349854, 402712.82763672,\n",
       "        403970.0748291 , 404983.35717773, 406059.45220947, 407061.87719727,\n",
       "        408116.25378418, 409191.56567383, 410326.77628326, 411294.73609924,\n",
       "        412311.2048111 , 413268.10723877, 414318.30042267, 415281.63234711,\n",
       "        416244.58197021, 417167.25854492, 418154.43495178, 419038.98425293,\n",
       "        419939.58383179, 420861.85678101, 421687.81155396, 422331.8102417 ,\n",
       "        423069.89160156, 423855.27062988, 424671.4855957 , 425440.59243774,\n",
       "        426185.2366333 , 427291.74848938, 428417.85722351, 429154.12557983,\n",
       "        429924.29858398, 430730.32666016, 431499.39526367, 432262.7989502 ,\n",
       "        433051.63110352, 433804.05664062, 434574.10571289, 435298.59204102,\n",
       "        436141.80957031, 436953.78442383, 437794.92529297, 438632.97802734,\n",
       "        439451.94189453, 440406.60058594, 441268.75927734, 442260.55615234,\n",
       "        443153.69042969, 444131.83837891, 445121.21533203, 446024.25048828,\n",
       "        447005.89746094, 448079.54833984, 449059.28857422, 450102.06152344,\n",
       "        451132.63037109, 452214.76464844, 453287.1875    , 454629.39208984,\n",
       "        455386.46728516, 456331.88623047, 457348.5246582 , 458328.74023438,\n",
       "        459227.27001953, 460131.20068359, 461105.68896484, 462043.43261719,\n",
       "        462360.63085938, 463073.05761719, 463785.10449219, 464613.38867188,\n",
       "        465285.28417969, 465984.00683594, 466733.78417969, 467322.30566406,\n",
       "        467985.93261719, 468654.86914062, 469332.56054688, 470072.21484375,\n",
       "        470744.72558594, 471434.484375  , 472051.28125   , 472482.57617188,\n",
       "        472787.34179688, 473317.42578125, 473927.74609375, 474506.38085938,\n",
       "        474975.234375  , 475392.3046875 , 475869.72851562, 475997.96386719,\n",
       "        476336.41308594, 476694.75732422, 476964.99414062, 477401.13183594,\n",
       "        477733.77539062, 478103.12597656, 478401.8125    , 478933.22558594,\n",
       "        479336.02490234, 479719.29003906, 480000.53369141, 480408.15625   ,\n",
       "        480713.87353516, 481017.80078125, 481318.73120117, 481572.28674316,\n",
       "        481832.43676758, 482062.5982666 , 482205.27099609, 482537.67382812,\n",
       "        482965.26611328, 483407.13574219, 483673.16455078, 483860.49609375,\n",
       "        484156.20263672, 484521.51416016, 485019.73339844, 485381.53466797,\n",
       "        485921.39160156, 486382.35327148, 486764.61981201, 487175.64489746,\n",
       "        487493.08862305, 487829.52075195, 488362.58227539, 488591.81518555,\n",
       "        488920.00219727, 488916.04223633, 488959.3918457 , 489095.06933594,\n",
       "        489224.03710938, 489397.25878906, 489681.89331055, 489849.91455078,\n",
       "        489910.921875  , 490096.76367188, 490208.4609375 , 490257.09277344,\n",
       "        490294.27050781, 490099.92480469, 489969.70507812, 489816.63183594,\n",
       "        489701.18457031, 489535.59960938, 489275.05078125, 489170.76513672,\n",
       "        489258.21069336, 489238.23937988, 488964.30273438, 488855.35852051,\n",
       "        488939.22900391, 488629.71142578, 488345.45324707, 488100.13641357,\n",
       "        488117.10449219, 488062.28320312, 487993.765625  , 486914.84765625,\n",
       "        486708.24609375, 486410.58984375, 486222.81445312, 486056.13671875,\n",
       "        485879.00390625, 485805.87890625, 485756.13867188, 485389.5625    ,\n",
       "        485305.55078125, 485260.36010742, 485322.2253418 , 485289.93164062,\n",
       "        485146.5703125 , 485128.44042969, 485207.75585938, 485244.67871094,\n",
       "        485421.71972656, 485351.39550781, 485380.43164062, 485186.95507812,\n",
       "        484936.08789062, 484701.6171875 , 484425.2265625 , 483617.00585938,\n",
       "        483757.515625  , 483639.98046875, 483342.79882812, 483013.25878906,\n",
       "        482539.74414062, 482177.41308594, 481897.59472656, 481476.55615234,\n",
       "        481109.58105469, 480597.51151276, 480046.70001221, 479394.78320312,\n",
       "        478758.4921875 , 478118.16308594, 477591.63964844, 476819.54150391,\n",
       "        475559.00830078, 474809.17382812, 473872.03613281, 472979.49755859,\n",
       "        472156.02929688, 471306.91601562, 470472.89160156, 469674.45678711,\n",
       "        468775.83984375, 467931.49609375, 467235.30444336, 466386.33081055,\n",
       "        465409.83965302, 464532.3768158 , 463519.14208984, 462613.0012207 ,\n",
       "        461777.89868164, 460932.80908203, 460020.84960938, 458551.50195312,\n",
       "        457626.2421875 , 456446.32836914, 455633.03222656, 454897.62792969,\n",
       "        454147.08105469, 453586.38183594, 453001.0390625 , 452312.00439453,\n",
       "        451635.58691406, 450978.91845703, 450189.03564453, 449468.984375  ,\n",
       "        448896.98730469, 448258.8828125 , 447559.67089844, 446791.43164062,\n",
       "        445993.34130859, 445452.51269531, 444827.63183594, 444223.63085938,\n",
       "        443639.15527344, 443120.30810547, 442623.41162109, 442178.29003906,\n",
       "        441333.71044922, 440741.80761719, 440013.16503906, 439113.12792969,\n",
       "        438174.81762695, 437397.28125   , 436740.66015625, 434916.47851562,\n",
       "        434095.94702148, 433307.29736328, 432647.98876953, 431951.67089844,\n",
       "        431216.63720703, 430234.00927734, 429276.81420898, 428246.79980469,\n",
       "        427312.79101562, 426339.97558594, 425443.6640625 , 424477.75878906,\n",
       "        423398.13574219, 422313.35839844, 421167.5333252 , 420090.30566406,\n",
       "        418936.28088379, 417724.61181641, 416330.331604  , 414921.82995605,\n",
       "        413604.89483643, 412372.02905273, 410978.03369141, 409630.63616943,\n",
       "        408080.84298706, 406588.85678101, 404842.87265015, 403392.34814453,\n",
       "        402055.04443359, 400995.27429199, 398678.91094971, 397401.52288818,\n",
       "        395826.19873047, 394182.66845703, 392676.90875244, 391280.02355957,\n",
       "        389895.47642517, 388463.4319458 , 386965.99842834, 385447.78414917,\n",
       "        384040.0657959 ]),\n",
       " 'Mean': array([25.07096863, 24.98622838, 24.90482417, 24.82858273, 24.74962825,\n",
       "        24.66933798, 24.59801512, 24.52754582, 24.45667919, 24.41895233,\n",
       "        24.34025389, 24.27794468, 24.21333288, 24.16273505, 24.10850877,\n",
       "        24.05690091, 24.01043745, 23.97462189, 23.90755609, 23.85829593,\n",
       "        23.82678138, 23.80166186, 23.78278544, 23.76164018, 23.73446743,\n",
       "        23.71535917, 23.69624161, 23.68517706, 23.6783826 , 23.68001149,\n",
       "        23.68803653, 23.69052319, 23.69191628, 23.69071362, 23.70617656,\n",
       "        23.70734605, 23.73059797, 23.75393055, 23.78909811, 23.82305987,\n",
       "        23.88184553, 23.91967219, 23.96029057, 24.0118645 , 24.06867459,\n",
       "        24.11036584, 24.16498686, 24.21052894, 24.28344306, 24.35170988,\n",
       "        24.49641973, 24.55844875, 24.62099074, 24.68411365, 24.75701054,\n",
       "        24.83943763, 24.9186129 , 24.98482382, 25.05342357, 25.13255603,\n",
       "        25.21018232, 25.29520708, 25.3788508 , 25.46487363, 25.54373822,\n",
       "        25.62445218, 25.70663447, 25.7859984 , 25.86186263, 25.93833862,\n",
       "        25.95180787, 26.0196842 , 26.11470965, 26.19358453, 26.34387434,\n",
       "        26.37453845, 26.4551457 , 26.52150342, 26.5919746 , 26.6576213 ,\n",
       "        26.72667019, 26.80762354, 26.8819953 , 26.94540986, 27.01200241,\n",
       "        27.07469256, 27.14349452, 27.20660589, 27.2679058 , 27.32655958,\n",
       "        27.39122461, 27.44916705, 27.50816087, 27.5685744 , 27.6208693 ,\n",
       "        27.66486377, 27.71321182, 27.7646581 , 27.8181243 , 27.86850468,\n",
       "        27.91728263, 27.97693632, 28.05066832, 28.0988755 , 28.14745964,\n",
       "        28.20023089, 28.25058238, 28.30056298, 28.3522084 , 28.40704974,\n",
       "        28.45747533, 28.5049173 , 28.56013421, 28.61330525, 28.66838618,\n",
       "        28.72326488, 28.77689358, 28.83940807, 28.89586532, 28.96081174,\n",
       "        29.01929739, 29.08335003, 29.148138  , 29.20727199, 29.27155376,\n",
       "        29.34186028, 29.40601719, 29.47430172, 29.54178707, 29.61264912,\n",
       "        29.68287522, 29.76492026, 29.81448653, 29.8763838 , 29.94294387,\n",
       "        30.0071193 , 30.06594671, 30.12512771, 30.18892818, 30.25032294,\n",
       "        30.28298604, 30.32766112, 30.37429462, 30.42654805, 30.47054906,\n",
       "        30.51630693, 30.56540826, 30.60394929, 30.64740882, 30.69121605,\n",
       "        30.73559663, 30.78403503, 30.82807633, 30.87324718, 30.9136399 ,\n",
       "        30.94188449, 30.96184295, 30.99655703, 31.03652561, 31.07441918,\n",
       "        31.1051234 , 31.13243646, 31.15554069, 31.16393635, 31.18609487,\n",
       "        31.20955593, 31.22724854, 31.25580279, 31.27758121, 31.30176286,\n",
       "        31.32747119, 31.36227003, 31.38864678, 31.41374435, 31.4321612 ,\n",
       "        31.45885379, 31.47887326, 31.49877551, 31.51848151, 31.53508524,\n",
       "        31.5521208 , 31.5671926 , 31.57653533, 31.59830226, 31.62630254,\n",
       "        31.65523775, 31.67265828, 31.68492542, 31.70428935, 31.72821126,\n",
       "        31.76083645, 31.7845285 , 31.81988027, 31.84589493, 31.87092384,\n",
       "        31.89783572, 31.91862035, 31.94064825, 31.973457  , 31.98846505,\n",
       "        32.0099517 , 32.02436905, 32.02720848, 32.03609546, 32.04454294,\n",
       "        32.05588909, 32.07453287, 32.08553839, 32.08953441, 32.10170719,\n",
       "        32.10902345, 32.11220887, 32.11464404, 32.10191425, 32.09338476,\n",
       "        32.08335834, 32.07579646, 32.06495052, 32.04788438, 32.04105359,\n",
       "        32.04678134, 32.0454732 , 32.02753015, 32.00571943, 32.01121049,\n",
       "        31.99094615, 31.97233555, 31.95627448, 31.95738539, 31.9537962 ,\n",
       "        31.94931031, 31.89537847, 31.88184502, 31.86234704, 31.8500468 ,\n",
       "        31.84121433, 31.82961048, 31.82482011, 31.82156166, 31.79754749,\n",
       "        31.79412675, 31.79116615, 31.79521917, 31.79310349, 31.78371137,\n",
       "        31.78252361, 31.78771985, 31.7901388 , 31.8017374 , 31.79713021,\n",
       "        31.79903247, 31.78635712, 31.7699219 , 31.75456087, 31.72813902,\n",
       "        31.67312894, 31.68440632, 31.67670818, 31.65517053, 31.63358824,\n",
       "        31.60257673, 31.57884688, 31.56465545, 31.5370771 , 31.51303996,\n",
       "        31.47949902, 31.44342045, 31.40071941, 31.36109604, 31.31915126,\n",
       "        31.28466132, 31.22999355, 31.14947326, 31.10035854, 31.04100852,\n",
       "        30.98254275, 30.93062753, 30.87500269, 30.8203663 , 30.76806137,\n",
       "        30.70919357, 30.65388117, 30.60827412, 30.55265842, 30.48070205,\n",
       "        30.4232351 , 30.35687616, 30.29753102, 30.24283834, 30.18551467,\n",
       "        30.12579238, 30.03153461, 29.97093734, 29.93679598, 29.8834546 ,\n",
       "        29.83522188, 29.785996  , 29.74922161, 29.71083092, 29.66563943,\n",
       "        29.62127546, 29.58014682, 29.52833764, 29.48110877, 29.44359093,\n",
       "        29.40173703, 29.35587504, 29.30740778, 29.25505683, 29.21958102,\n",
       "        29.17859179, 29.13897218, 29.10063334, 29.06659942, 29.03400535,\n",
       "        28.95352868, 28.89633408, 28.85757923, 28.80987134, 28.75282399,\n",
       "        28.69138408, 28.64047153, 28.59747644, 28.52285405, 28.46904165,\n",
       "        28.41545658, 28.37222039, 28.32469973, 28.2765008 , 28.21206618,\n",
       "        28.14929929, 28.08175736, 28.02234842, 27.95855306, 27.89977468,\n",
       "        27.83643247, 27.76563288, 27.69449527, 27.61935427, 27.54871176,\n",
       "        27.47303304, 27.39357412, 27.30393046, 27.21155758, 27.12518985,\n",
       "        27.04433559, 26.94407878, 26.85398166, 26.75238252, 26.65632051,\n",
       "        26.54359249, 26.4484886 , 26.36080805, 26.29304795, 26.19957357,\n",
       "        26.11391266, 26.0103955 , 25.9023964 , 25.80345044, 25.7116588 ,\n",
       "        25.6223616 , 25.5282534 , 25.42984809, 25.33007716, 25.23756758]),\n",
       " 'NE': array([15236., 15235., 15236., 15236., 15235., 15234., 15234., 15234.,\n",
       "        15234., 15246., 15246., 15246., 15246., 15247., 15247., 15247.,\n",
       "        15247., 15247., 15246., 15228., 15228., 15228., 15228., 15228.,\n",
       "        15229., 15228., 15228., 15228., 15227., 15226., 15226., 15225.,\n",
       "        15226., 15226., 15226., 15224., 15223., 15223., 15222., 15223.,\n",
       "        15263., 15264., 15265., 15265., 15266., 15266., 15266., 15264.,\n",
       "        15263., 15263., 15199., 15199., 15199., 15200., 15202., 15202.,\n",
       "        15203., 15205., 15206., 15207., 15207., 15207., 15207., 15207.,\n",
       "        15207., 15207., 15207., 15207., 15206., 15206., 15264., 15267.,\n",
       "        15267., 15267., 15268., 15269., 15270., 15270., 15270., 15270.,\n",
       "        15270., 15264., 15264., 15264., 15264., 15264., 15264., 15264.,\n",
       "        15265., 15266., 15266., 15266., 15266., 15266., 15267., 15266.,\n",
       "        15266., 15266., 15266., 15266., 15266., 15273., 15273., 15273.,\n",
       "        15274., 15274., 15274., 15274., 15274., 15271., 15271., 15271.,\n",
       "        15271., 15271., 15271., 15271., 15271., 15271., 15271., 15271.,\n",
       "        15271., 15271., 15271., 15271., 15271., 15271., 15271., 15271.,\n",
       "        15271., 15271., 15271., 15274., 15274., 15274., 15274., 15274.,\n",
       "        15274., 15274., 15274., 15274., 15268., 15269., 15269., 15270.,\n",
       "        15270., 15270., 15270., 15270., 15270., 15270., 15270., 15270.,\n",
       "        15270., 15270., 15270., 15270., 15270., 15270., 15270., 15270.,\n",
       "        15270., 15270., 15274., 15274., 15274., 15274., 15274., 15274.,\n",
       "        15274., 15274., 15271., 15271., 15271., 15271., 15271., 15271.,\n",
       "        15271., 15271., 15271., 15271., 15271., 15271., 15271., 15271.,\n",
       "        15271., 15271., 15271., 15271., 15271., 15271., 15271., 15271.,\n",
       "        15271., 15273., 15273., 15273., 15273., 15273., 15274., 15274.,\n",
       "        15274., 15267., 15267., 15267., 15267., 15267., 15267., 15267.,\n",
       "        15267., 15267., 15267., 15267., 15267., 15267., 15267., 15267.,\n",
       "        15267., 15267., 15267., 15267., 15267., 15267., 15267., 15274.,\n",
       "        15274., 15274., 15274., 15274., 15274., 15274., 15274., 15266.,\n",
       "        15266., 15266., 15266., 15265., 15265., 15265., 15265., 15265.,\n",
       "        15264., 15264., 15264., 15264., 15264., 15264., 15264., 15264.,\n",
       "        15264., 15264., 15264., 15264., 15264., 15264., 15268., 15269.,\n",
       "        15268., 15268., 15269., 15269., 15269., 15269., 15267., 15267.,\n",
       "        15267., 15267., 15267., 15267., 15266., 15266., 15266., 15268.,\n",
       "        15267., 15267., 15266., 15266., 15265., 15265., 15265., 15265.,\n",
       "        15265., 15265., 15265., 15265., 15269., 15269., 15269., 15269.,\n",
       "        15269., 15270., 15270., 15269., 15269., 15247., 15247., 15247.,\n",
       "        15247., 15247., 15247., 15247., 15247., 15246., 15246., 15246.,\n",
       "        15246., 15246., 15246., 15245., 15245., 15245., 15245., 15245.,\n",
       "        15245., 15245., 15245., 15272., 15273., 15273., 15273., 15272.,\n",
       "        15272., 15272., 15272., 15248., 15248., 15249., 15249., 15250.,\n",
       "        15250., 15250., 15250., 15250., 15249., 15249., 15249., 15249.,\n",
       "        15249., 15249., 15249., 15249., 15249., 15249., 15248., 15248.,\n",
       "        15248., 15248., 15253., 15254., 15254., 15253., 15252., 15252.,\n",
       "        15252., 15251., 15217., 15218., 15218., 15218., 15218., 15218.,\n",
       "        15217., 15217., 15217., 15217., 15217.]),\n",
       " 'NO': array([[15236., 15235., 15235., ..., 15180., 15180., 15180.],\n",
       "        [15235., 15235., 15235., ..., 15180., 15180., 15180.],\n",
       "        [15235., 15235., 15236., ..., 15181., 15181., 15181.],\n",
       "        ...,\n",
       "        [15180., 15180., 15181., ..., 15217., 15217., 15217.],\n",
       "        [15180., 15180., 15181., ..., 15217., 15217., 15217.],\n",
       "        [15180., 15180., 15181., ..., 15217., 15217., 15217.]]),\n",
       " 'O': array([[11900761.30396897, 11859267.25869143, 11822592.25088197, ...,\n",
       "         10339720.46531773, 10302241.64992714, 10267007.50392628],\n",
       "        [11859267.25869143, 11819963.90192606, 11784873.60249841, ...,\n",
       "         10306050.95132399, 10268752.12490273, 10233703.91230488],\n",
       "        [11822592.25088197, 11784873.60249841, 11751508.15349489, ...,\n",
       "         10275934.46474576, 10238777.3102994 , 10203878.66692352],\n",
       "        ...,\n",
       "        [10339720.46531773, 10306050.95132399, 10275934.46474576, ...,\n",
       "         12363957.5280658 , 12318296.64239922, 12273689.80217504],\n",
       "        [10302241.64992714, 10268752.12490273, 10238777.3102994 , ...,\n",
       "         12318296.64239922, 12274562.17731224, 12231657.07361789],\n",
       "        [10267007.50392628, 10233703.91230488, 10203878.66692352, ...,\n",
       "         12273689.80217504, 12231657.07361789, 12190604.8692735 ]]),\n",
       " 'SortedVals': array([  5.754,   6.19 ,   6.332,   7.156,   7.36 ,   7.902,   8.695,\n",
       "          8.7  ,   8.84 ,   9.984,  10.125,  10.27 ,  10.4  ,  10.68 ,\n",
       "         11.02 ,  11.12 ,  11.74 ,  11.81 ,  11.89 ,  11.93 ,  11.94 ,\n",
       "         12.3  ,  12.375,  12.836,  12.9  ,  12.92 ,  12.96 ,  13.12 ,\n",
       "         13.24 ,  13.81 ,  13.836,  14.06 ,  14.1  ,  14.125,  14.164,\n",
       "         14.266,  14.43 ,  14.49 ,  14.586,  14.64 ,  14.79 ,  14.98 ,\n",
       "         14.99 ,  15.055,  15.18 ,  15.21 ,  15.23 ,  15.305,  15.336,\n",
       "         15.5  ,  15.75 ,  15.75 ,  15.75 ,  15.76 ,  15.92 ,  16.02 ,\n",
       "         16.03 ,  16.31 ,  16.47 ,  16.7  ,  16.77 ,  16.84 ,  16.84 ,\n",
       "         16.84 ,  16.95 ,  16.98 ,  17.16 ,  17.17 ,  17.25 ,  17.25 ,\n",
       "         17.28 ,  17.4  ,  17.45 ,  17.48 ,  17.55 ,  17.58 ,  17.62 ,\n",
       "         17.7  ,  17.72 ,  17.83 ,  17.84 ,  17.86 ,  17.94 ,  18.   ,\n",
       "         18.06 ,  18.36 ,  18.48 ,  18.5  ,  18.56 ,  18.72 ,  18.89 ,\n",
       "         19.03 ,  19.1  ,  19.22 ,  19.27 ,  19.31 ,  19.34 ,  19.36 ,\n",
       "         19.47 ,  19.56 ,  19.62 ,  19.67 ,  19.72 ,  19.83 ,  19.84 ,\n",
       "         19.9  ,  19.95 ,  19.95 ,  19.97 ,  19.97 ,  20.   ,  20.03 ,\n",
       "         20.05 ,  20.22 ,  20.27 ,  20.28 ,  20.28 ,  20.33 ,  20.39 ,\n",
       "         20.45 ,  20.5  ,  20.5  ,  20.58 ,  20.66 ,  20.67 ,  20.7  ,\n",
       "         20.72 ,  20.8  ,  20.81 ,  20.81 ,  20.86 ,  20.9  ,  20.92 ,\n",
       "         20.94 ,  20.94 ,  21.03 ,  21.16 ,  21.38 ,  21.52 ,  21.56 ,\n",
       "         21.62 ,  21.62 ,  21.64 ,  21.69 ,  21.69 ,  21.8  ,  21.81 ,\n",
       "         22.   ,  22.   ,  22.11 ,  22.11 ,  22.12 ,  22.14 ,  22.16 ,\n",
       "         22.17 ,  22.22 ,  22.23 ,  22.3  ,  22.34 ,  22.4  ,  22.45 ,\n",
       "         22.52 ,  22.53 ,  22.55 ,  22.56 ,  22.58 ,  22.61 ,  22.61 ,\n",
       "         22.69 ,  22.69 ,  22.84 ,  22.88 ,  22.9  ,  22.92 ,  23.08 ,\n",
       "         23.08 ,  23.11 ,  23.16 ,  23.2  ,  23.31 ,  23.58 ,  23.64 ,\n",
       "         23.64 ,  23.66 ,  23.67 ,  23.69 ,  23.72 ,  23.73 ,  23.78 ,\n",
       "         23.89 ,  23.98 ,  24.   ,  24.14 ,  24.14 ,  24.2  ,  24.25 ,\n",
       "         24.33 ,  24.36 ,  24.62 ,  24.69 ,  24.73 ,  24.78 ,  24.92 ,\n",
       "         24.92 ,  25.03 ,  25.19 ,  25.25 ,  25.27 ,  25.31 ,  25.38 ,\n",
       "         25.44 ,  25.5  ,  25.5  ,  25.53 ,  25.58 ,  25.6  ,  25.6  ,\n",
       "         25.66 ,  25.8  ,  25.8  ,  25.81 ,  25.88 ,  25.89 ,  25.9  ,\n",
       "         25.95 ,  26.   ,  26.   ,  26.02 ,  26.06 ,  26.08 ,  26.11 ,\n",
       "         26.12 ,  26.14 ,  26.2  ,  26.25 ,  26.25 ,  26.31 ,  26.33 ,\n",
       "         26.36 ,  26.38 ,  26.5  ,  26.5  ,  26.5  ,  26.53 ,  26.53 ,\n",
       "         26.55 ,  26.56 ,  26.58 ,  26.66 ,  26.67 ,  26.7  ,  26.81 ,\n",
       "         26.84 ,  26.84 ,  26.88 ,  26.9  ,  26.97 ,  27.02 ,  27.03 ,\n",
       "         27.08 ,  27.12 ,  27.14 ,  27.22 ,  27.23 ,  27.23 ,  27.28 ,\n",
       "         27.3  ,  27.31 ,  27.47 ,  27.58 ,  27.61 ,  27.64 ,  27.75 ,\n",
       "         27.78 ,  27.78 ,  27.8  ,  27.86 ,  27.9  ,  27.92 ,  28.06 ,\n",
       "         28.1  ,  28.16 ,  28.2  ,  28.23 ,  28.27 ,  28.27 ,  28.3  ,\n",
       "         28.34 ,  28.36 ,  28.36 ,  28.36 ,  28.39 ,  28.45 ,  28.53 ,\n",
       "         28.56 ,  28.61 ,  28.67 ,  28.7  ,  28.7  ,  28.75 ,  28.94 ,\n",
       "         28.94 ,  28.94 ,  28.94 ,  28.97 ,  28.98 ,  29.11 ,  29.2  ,\n",
       "         29.3  ,  29.31 ,  29.42 ,  29.44 ,  29.47 ,  29.47 ,  29.48 ,\n",
       "         29.53 ,  29.58 ,  29.64 ,  29.69 ,  29.69 ,  29.7  ,  29.7  ,\n",
       "         29.72 ,  29.98 ,  30.   ,  30.02 ,  30.03 ,  30.22 ,  30.31 ,\n",
       "         30.34 ,  30.36 ,  30.48 ,  30.48 ,  30.5  ,  30.53 ,  30.7  ,\n",
       "         30.94 ,  31.05 ,  31.14 ,  31.16 ,  31.22 ,  31.22 ,  31.67 ,\n",
       "         31.67 ,  31.7  ,  31.77 ,  31.77 ,  31.78 ,  31.92 ,  31.97 ,\n",
       "         32.03 ,  32.06 ,  32.06 ,  32.22 ,  32.3  ,  32.38 ,  32.62 ,\n",
       "         32.72 ,  32.75 ,  32.78 ,  32.8  ,  32.88 ,  33.3  ,  33.4  ,\n",
       "         33.47 ,  33.53 ,  33.53 ,  33.66 ,  33.7  ,  33.72 ,  33.78 ,\n",
       "         33.84 ,  33.9  ,  33.9  ,  33.94 ,  33.94 ,  34.   ,  34.03 ,\n",
       "         34.03 ,  34.16 ,  34.16 ,  34.2  ,  34.28 ,  34.28 ,  34.53 ,\n",
       "         34.53 ,  34.56 ,  34.7  ,  34.72 ,  34.8  ,  34.8  ,  34.88 ,\n",
       "         35.03 ,  35.12 ,  35.16 ,  35.2  ,  35.22 ,  35.34 ,  35.47 ,\n",
       "         35.47 ,  35.5  ,  35.62 ,  35.62 ,  35.66 ,  35.72 ,  36.   ,\n",
       "         36.2  ,  36.22 ,  36.3  ,  36.34 ,  36.38 ,  36.56 ,  36.66 ,\n",
       "         36.7  ,  36.75 ,  36.75 ,  37.03 ,  37.16 ,  37.16 ,  37.2  ,\n",
       "         37.25 ,  37.25 ,  37.28 ,  37.3  ,  37.3  ,  37.3  ,  37.47 ,\n",
       "         37.6  ,  37.62 ,  37.7  ,  37.78 ,  37.78 ,  37.88 ,  37.94 ,\n",
       "         37.94 ,  38.03 ,  38.3  ,  38.4  ,  38.5  ,  38.75 ,  38.8  ,\n",
       "         38.84 ,  38.88 ,  38.97 ,  39.06 ,  39.28 ,  39.34 ,  39.34 ,\n",
       "         39.44 ,  39.72 ,  39.75 ,  39.8  ,  39.84 ,  39.88 ,  39.94 ,\n",
       "         40.   ,  40.2  ,  40.3  ,  40.4  ,  40.44 ,  40.88 ,  40.9  ,\n",
       "         41.5  ,  41.62 ,  41.8  ,  42.2  ,  42.22 ,  42.25 ,  42.28 ,\n",
       "         42.38 ,  42.47 ,  42.84 ,  43.22 ,  43.28 ,  43.56 ,  43.7  ,\n",
       "         44.03 ,  44.4  ,  44.88 ,  45.84 ,  46.16 ,  47.22 ,  48.72 ,\n",
       "         48.88 ,  48.94 ,  49.25 ,  49.53 ,  49.78 ,  50.44 ,  50.44 ,\n",
       "         50.62 ,  50.66 ,  51.34 ,  51.34 ,  51.94 ,  52.22 ,  52.88 ,\n",
       "         53.1  ,  53.12 ,  54.2  ,  54.38 ,  54.72 ,  54.78 ,  54.84 ,\n",
       "         55.25 ,  55.53 ,  56.84 ,  57.47 ,  58.25 ,  59.97 ,  60.38 ,\n",
       "         63.2  ,  63.28 ,  64.5  ,  67.75 ,  68.56 ,  73.2  ,  75.5  ,\n",
       "         76.3  , 117.94 , 245.4  ], dtype=float16),\n",
       " 'UnDef': array([ 0,  0,  0,  0,  0,  0,  0,  0,  0,  0,  0,  0,  0,  0,  0,  0,  0,\n",
       "         0,  0,  0,  0,  0,  0,  0,  0,  0,  0,  0,  0,  0,  0,  0,  0,  0,\n",
       "         0,  0,  0,  0,  0,  0,  0,  0,  0,  0,  0,  0,  0,  0,  0,  0,  0,\n",
       "         0,  0,  0, 21,  0,  0,  0,  0,  0,  0,  0,  0,  0,  0,  0,  0,  0,\n",
       "         0,  0,  0,  0,  0,  0,  0,  0,  0,  0,  0,  0,  0,  0,  0,  0,  0,\n",
       "         0,  0,  0,  0,  0,  0,  0,  0,  0,  0,  0,  0,  0,  0,  0,  0,  0,\n",
       "         0,  0,  0,  0,  0,  0,  0,  0,  0,  0,  0,  0,  0,  0,  0, 20,  0,\n",
       "         0,  0,  0,  0,  0,  0,  0,  0,  0,  0,  0,  0,  0,  0,  0,  0,  0,\n",
       "         0,  0,  0,  0,  0,  0,  0,  0, 39,  0,  0,  0,  0,  0,  0,  0,  0,\n",
       "         0,  0,  0,  0,  0]),\n",
       " 'Var': array([152.54139297, 151.53111559, 151.04850899, 150.60490715,\n",
       "        149.66429888, 147.78224406, 147.33919551, 146.60468707,\n",
       "        145.54542409, 153.71585434, 149.31466994, 147.82668409,\n",
       "        145.39214788, 143.02620304, 142.15545536, 140.93137235,\n",
       "        139.88787046, 140.3001491 , 137.68812076, 132.80125097,\n",
       "        131.32418307, 129.60399172, 128.00268937, 127.04232898,\n",
       "        125.83806934, 124.80485024, 123.89547512, 122.01760546,\n",
       "        121.21407465, 120.3501374 , 119.68556207, 118.96682919,\n",
       "        118.57542559, 118.15774938, 120.05473469, 112.12003467,\n",
       "        111.6410169 , 111.95222046, 112.41530732, 112.93630708,\n",
       "        128.29889972, 119.93547396, 118.16693038, 117.57131362,\n",
       "        118.10475499, 119.38383887, 120.06321284, 119.01830702,\n",
       "        120.02977845, 121.3685228 , 119.91658594, 120.5012917 ,\n",
       "        121.10945204, 121.66315688, 122.41850611, 123.09320203,\n",
       "        123.62959231, 124.05598248, 124.34584521, 124.85233851,\n",
       "        125.07953267, 125.19548165, 125.25264684, 125.43158792,\n",
       "        125.66054851, 126.02087519, 126.70116839, 126.45534169,\n",
       "        126.6491671 , 126.85530104, 131.19784679, 131.59316412,\n",
       "        132.02865683, 132.28323924, 193.27368015, 148.72277556,\n",
       "        140.86692626, 138.05432243, 137.22128312, 136.35034013,\n",
       "        135.45738745, 135.08659447, 135.03382168, 135.3651977 ,\n",
       "        135.60809813, 135.98871128, 136.48762139, 136.96825155,\n",
       "        137.3916412 , 137.26798309, 137.66846091, 138.07155531,\n",
       "        138.53185316, 138.7885281 , 139.16339476, 139.33819962,\n",
       "        139.49538667, 139.54135071, 139.6073807 , 139.88810251,\n",
       "        140.09743975, 140.79465959, 142.58297111, 141.24509825,\n",
       "        141.12837952, 141.54946729, 141.27568008, 141.34204156,\n",
       "        141.3452104 , 141.15239286, 141.2194462 , 141.15296393,\n",
       "        141.05112634, 141.23530326, 141.60581115, 141.78247699,\n",
       "        141.98361159, 142.29142198, 142.65839773, 143.07331974,\n",
       "        143.32050091, 143.77156293, 144.31701731, 144.77938535,\n",
       "        145.41497367, 146.09914637, 146.62684653, 147.35123836,\n",
       "        148.02505457, 148.79697424, 149.68807875, 157.36911634,\n",
       "        153.17201715, 152.82119626, 153.31267924, 154.193511  ,\n",
       "        155.63950853, 157.16870759, 158.6997646 , 165.94804851,\n",
       "        157.14128758, 157.86412424, 158.55389782, 159.43575609,\n",
       "        160.20212407, 160.84191671, 161.91636815, 162.91284545,\n",
       "        163.64007555, 164.57578899, 165.45345443, 166.56393047,\n",
       "        167.85849288, 169.0944933 , 170.13879879, 171.18117284,\n",
       "        172.42479606, 173.69731734, 175.11261502, 176.7332679 ,\n",
       "        178.07290776, 179.48722533, 181.45945515, 182.7014585 ,\n",
       "        184.26943275, 185.65728822, 187.03605283, 188.67597946,\n",
       "        190.59324961, 192.23916815, 193.1481608 , 194.44727849,\n",
       "        195.46765134, 196.21007437, 196.68938088, 197.5796028 ,\n",
       "        198.22298773, 198.78347664, 199.34662163, 199.70951651,\n",
       "        199.96095215, 200.1681024 , 200.32219259, 200.61509699,\n",
       "        200.79171815, 200.96699026, 201.14739635, 201.21925337,\n",
       "        201.30100151, 201.78626179, 202.17974843, 202.69678482,\n",
       "        202.97709959, 203.41719843, 204.02645874, 204.70560319,\n",
       "        205.13973752, 206.10068869, 211.18602786, 216.22306531,\n",
       "        231.47658345, 223.88277289, 224.90035434, 227.28344336,\n",
       "        228.5464561 , 229.99267851, 231.59496739, 230.10741097,\n",
       "        230.52429053, 233.52572573, 235.44633613, 239.37332198,\n",
       "        242.52119917, 243.44888777, 244.79740724, 246.18633639,\n",
       "        251.79139118, 253.48296681, 255.61557915, 257.6126475 ,\n",
       "        269.99848138, 272.40939154, 274.58326847, 275.54460363,\n",
       "        284.24706996, 281.83954518, 281.42869099, 283.14037793,\n",
       "        286.80510083, 293.23971149, 301.88492256, 284.45536601,\n",
       "        284.81326736, 285.14469587, 285.51927524, 285.78034595,\n",
       "        286.29743439, 286.49781468, 286.99391931, 284.38060976,\n",
       "        284.59702338, 284.71162944, 284.98077851, 285.12666445,\n",
       "        285.35186167, 285.59731968, 285.91743409, 286.16515847,\n",
       "        286.33727715, 286.13765129, 286.80966658, 287.44714255,\n",
       "        288.11164111, 288.54476984, 288.48164349, 271.33207066,\n",
       "        271.19022714, 270.67603609, 270.07112484, 269.47268116,\n",
       "        268.30719488, 267.42984624, 266.59567465, 265.36438767,\n",
       "        264.34410475, 263.6895895 , 262.9539832 , 262.44206438,\n",
       "        261.54895795, 261.11685965, 262.23258699, 262.2421771 ,\n",
       "        260.84126275, 260.86453995, 260.51390406, 260.44651339,\n",
       "        260.48816539, 260.59134397, 260.87742946, 261.12133197,\n",
       "        261.60603624, 261.87324859, 262.06823876, 262.36036629,\n",
       "        260.4009059 , 258.46560378, 255.01575334, 252.4767929 ,\n",
       "        250.06955105, 248.48517393, 245.71917718, 238.2550765 ,\n",
       "        235.66113894, 230.15464043, 227.28970704, 224.58294583,\n",
       "        221.92125916, 219.3918408 , 216.74564078, 214.13201836,\n",
       "        211.43017715, 208.63115254, 205.9582928 , 203.17706164,\n",
       "        200.35960233, 197.84558331, 195.45052047, 192.78894622,\n",
       "        190.20957127, 187.96714335, 185.6804662 , 183.63006431,\n",
       "        181.59698337, 180.05090547, 178.81181785, 175.77219129,\n",
       "        170.68508152, 166.64232279, 164.29614836, 161.63039696,\n",
       "        160.43217107, 162.17060141, 169.93871811, 154.1925147 ,\n",
       "        153.82462277, 153.68171689, 153.63654879, 153.83973557,\n",
       "        154.18255275, 154.44641981, 154.72195223, 155.09181527,\n",
       "        155.73432877, 156.53786171, 157.28275399, 157.8774304 ,\n",
       "        158.67964108, 159.50170952, 160.42634031, 161.47562658,\n",
       "        162.41071253, 163.27862362, 164.17522357, 165.05264313,\n",
       "        165.97358137, 166.70851403, 168.2104839 , 168.99122852,\n",
       "        168.84039625, 169.81611237, 169.64837797, 170.06004402,\n",
       "        172.06222253, 181.91450263, 167.93090488, 171.0458876 ,\n",
       "        170.71383828, 170.19654817, 169.70381444, 169.10941823,\n",
       "        167.32940641, 166.67267593, 165.83235664, 165.02201903,\n",
       "        164.18267445]),\n",
       " 'eigval': array([ 2.58102334e+04,  1.07416541e+04,  9.04233319e+03,  5.96344359e+03,\n",
       "         4.71911856e+03,  3.49414426e+03,  2.50420083e+03,  1.78811125e+03,\n",
       "         1.14533985e+03,  6.48193574e+02,  4.35244741e+02,  2.69367695e+02,\n",
       "         1.73159426e+02,  1.22858411e+02,  1.10197812e+02,  8.16091951e+01,\n",
       "         5.66876692e+01,  4.64143617e+01,  3.84737975e+01,  3.47387291e+01,\n",
       "         2.64716896e+01,  2.49667580e+01,  2.23193803e+01,  1.82134845e+01,\n",
       "         1.63529431e+01,  1.58627719e+01,  1.39133954e+01,  1.20194004e+01,\n",
       "         1.16455716e+01, -7.59703284e+00,  9.81299703e+00,  9.42837760e+00,\n",
       "         9.12493106e+00,  8.04407651e+00,  7.67994633e+00,  6.07790051e+00,\n",
       "         5.82680637e+00,  5.52348639e+00,  4.78502741e+00,  4.25092919e+00,\n",
       "         3.89929501e+00,  3.80832493e+00,  3.70282900e+00,  3.43954388e+00,\n",
       "        -1.94061601e+00,  2.93303703e+00,  2.85336352e+00,  2.59704608e+00,\n",
       "         2.55972186e+00,  2.20319350e+00,  2.13076239e+00,  2.02919221e+00,\n",
       "         1.99166380e+00,  1.81991314e+00,  1.70406665e+00,  1.62119839e+00,\n",
       "         1.50268883e+00,  1.37423825e+00,  1.34535321e+00,  1.32571580e+00,\n",
       "         1.17314351e+00,  1.15373336e+00,  1.10145331e+00,  9.25025267e-01,\n",
       "         8.60835585e-01,  7.85890234e-01, -4.34426618e-01, -4.07055248e-01,\n",
       "         7.21682762e-01,  6.75779443e-01,  6.57826082e-01,  6.41660137e-01,\n",
       "         6.14416791e-01,  5.81723794e-01, -2.78681103e-01,  5.49168471e-01,\n",
       "         5.35000293e-01,  4.91429666e-01,  4.78686943e-01, -2.23031364e-01,\n",
       "        -2.21197574e-01,  4.61810868e-01,  4.25626036e-01,  4.33209083e-01,\n",
       "         3.95585170e-01,  3.74408150e-01,  3.57637166e-01,  3.50478222e-01,\n",
       "         3.23046123e-01,  2.98267225e-01,  2.90889344e-01,  2.79876081e-01,\n",
       "         2.77604079e-01,  2.74960416e-01,  2.63117711e-01,  2.56577031e-01,\n",
       "        -1.98460721e-01, -1.83730349e-01, -1.60668981e-01, -1.41751432e-01,\n",
       "         2.50248224e-01,  2.48135749e-01, -1.12962060e-01, -1.06682620e-01,\n",
       "         2.33963373e-01,  2.28356790e-01, -9.69154760e-02,  2.16888408e-01,\n",
       "         2.02696796e-01,  1.91036466e-01,  1.85206895e-01,  1.83200368e-01,\n",
       "         1.80517673e-01,  1.74033632e-01,  1.68802055e-01,  1.64743436e-01,\n",
       "         1.63599912e-01,  1.59939615e-01,  1.46699588e-01,  1.41506017e-01,\n",
       "         1.35941799e-01,  1.30513742e-01,  1.20001794e-01,  1.16889021e-01,\n",
       "         1.11733412e-01,  1.14194785e-01, -6.41126142e-02, -6.18258441e-02,\n",
       "        -5.37381040e-02, -5.22721594e-02, -4.49746539e-02, -4.27155080e-02,\n",
       "         1.05389303e-01, -3.63255785e-02,  1.00492994e-01,  9.82639607e-02,\n",
       "         9.60494249e-02,  9.34991468e-02,  9.15287356e-02,  8.92240705e-02,\n",
       "         8.63466949e-02,  8.56059169e-02,  8.19925668e-02,  7.99014847e-02,\n",
       "         7.80897056e-02,  7.59579752e-02,  7.46054983e-02,  7.06278131e-02,\n",
       "         6.61490371e-02,  6.29737892e-02,  6.22707702e-02,  6.17308638e-02,\n",
       "         5.83835097e-02,  5.69716609e-02,  5.48775686e-02,  5.42362269e-02,\n",
       "         5.30802863e-02,  5.14341628e-02, -3.48314512e-02, -3.18251493e-02,\n",
       "        -3.02369556e-02, -2.92024470e-02, -2.86655425e-02, -2.52494297e-02,\n",
       "        -2.23884819e-02, -2.17151196e-02, -1.99333956e-02,  5.03405191e-02,\n",
       "         4.70031952e-02,  4.63742076e-02,  4.59573514e-02,  4.39460579e-02,\n",
       "         4.26304411e-02,  4.11827488e-02,  4.06759763e-02,  3.91072545e-02,\n",
       "         3.85868241e-02,  3.72850941e-02,  3.44126446e-02,  3.32825325e-02,\n",
       "         3.24439111e-02,  3.17656028e-02,  3.06306089e-02,  2.97179306e-02,\n",
       "         2.90903378e-02, -1.94104044e-02, -1.83147150e-02, -1.77980977e-02,\n",
       "        -1.65542457e-02, -1.44631429e-02, -1.25138284e-02, -1.30341704e-02,\n",
       "         2.83333031e-02,  2.78984327e-02,  2.67858544e-02,  2.62444908e-02,\n",
       "         2.52255553e-02,  2.48490065e-02,  2.41181433e-02,  2.30662955e-02,\n",
       "         2.28337041e-02,  2.25031345e-02,  2.19137163e-02,  2.11556110e-02,\n",
       "         2.07305130e-02,  2.00817147e-02,  1.96017757e-02,  1.93517027e-02,\n",
       "        -9.85649842e-03, -8.01826921e-03, -7.31506934e-03,  1.87883189e-02,\n",
       "         1.80779474e-02,  1.75763522e-02,  1.73862385e-02,  1.69101713e-02,\n",
       "         1.64389705e-02,  1.59174292e-02,  1.57049280e-02,  1.49077364e-02,\n",
       "         1.48526565e-02,  1.44438390e-02,  1.41780843e-02,  1.40226129e-02,\n",
       "         1.38423663e-02,  1.33734164e-02,  1.30157877e-02,  1.16626395e-02,\n",
       "         1.27270631e-02,  1.26090530e-02,  1.23752587e-02,  1.20887228e-02,\n",
       "        -3.26491632e-03, -1.31786737e-03, -9.34175583e-04, -1.85349426e-04,\n",
       "         1.13728452e-02,  1.13454719e-02,  1.09495974e-02,  1.08118813e-02,\n",
       "         1.07069777e-02,  1.05291124e-02,  1.04331218e-02,  1.01155089e-02,\n",
       "         9.99539706e-03,  9.56316150e-03,  9.53911159e-03,  9.45182382e-03,\n",
       "         9.18864054e-03,  9.03915591e-03,  8.92141992e-03,  8.68379496e-03,\n",
       "         8.50202336e-03,  8.17672350e-03,  8.14461018e-03,  7.77941933e-03,\n",
       "         7.93046210e-03,  8.00968732e-03, -8.41219368e-04, -7.17541374e-04,\n",
       "         2.25506981e-04,  4.10254777e-04,  7.31482578e-04,  7.64958714e-03,\n",
       "         7.40056951e-03,  7.32576284e-03,  7.19276479e-03,  7.08936467e-03,\n",
       "         6.85792323e-03,  6.76871521e-03,  6.58518464e-03,  6.49274229e-03,\n",
       "         6.40259584e-03,  6.27870105e-03,  6.11138696e-03,  5.99579821e-03,\n",
       "         5.89837134e-03,  5.84242102e-03,  5.82116448e-03,  5.70122709e-03,\n",
       "         5.53521678e-03,  5.45359393e-03,  9.53562838e-04,  5.29225943e-03,\n",
       "         5.22641720e-03,  5.21292250e-03,  1.06394082e-03,  1.07868261e-03,\n",
       "         1.10205646e-03,  1.17236258e-03,  1.24875685e-03,  1.29566254e-03,\n",
       "         1.32018774e-03,  1.34666999e-03,  1.38348347e-03,  1.48161074e-03,\n",
       "         1.49875913e-03,  5.09366236e-03,  4.99420734e-03,  4.92156960e-03,\n",
       "         4.78761744e-03,  4.73839557e-03,  4.64181999e-03,  4.60517288e-03,\n",
       "         4.46573052e-03,  4.36505661e-03,  4.40683064e-03,  4.23397508e-03,\n",
       "         4.18369138e-03,  4.06476276e-03,  4.07825239e-03,  4.00740211e-03,\n",
       "         3.92433309e-03,  3.88573799e-03,  1.53635667e-03,  1.54723533e-03,\n",
       "         1.57222096e-03,  1.59163405e-03,  1.65915475e-03,  1.72024073e-03,\n",
       "         3.75121014e-03,  3.76627866e-03,  3.66175887e-03,  3.64399448e-03,\n",
       "         3.57746076e-03,  1.75929636e-03,  1.78835951e-03,  1.83869666e-03,\n",
       "         1.87542438e-03,  1.88809986e-03,  2.03128741e-03,  2.04084794e-03,\n",
       "         2.09721284e-03,  1.96058139e-03,  3.48886653e-03,  3.43039752e-03,\n",
       "         2.12674281e-03,  3.36789403e-03,  3.34108416e-03,  3.28595282e-03,\n",
       "         2.18585438e-03,  2.22132997e-03,  2.24261358e-03,  2.30496589e-03,\n",
       "         2.32212560e-03,  3.24323294e-03,  2.38140373e-03,  2.41096450e-03,\n",
       "         2.43672236e-03,  2.48678838e-03,  2.47377788e-03,  3.20665578e-03,\n",
       "         3.08925457e-03,  3.16077475e-03,  3.04423351e-03,  2.97767955e-03,\n",
       "         2.94933587e-03,  2.88796502e-03,  2.85245643e-03,  2.56705216e-03,\n",
       "         2.60843793e-03,  2.79746990e-03,  2.66237005e-03,  2.71950074e-03,\n",
       "         2.74340434e-03]),\n",
       " 'eigvec': array([[ 0.03157792, -0.02054725,  0.0374385 , ...,  0.04373983,\n",
       "          0.04280552, -0.00365489],\n",
       "        [ 0.03165341, -0.02061851,  0.03775662, ..., -0.04308387,\n",
       "         -0.04429071,  0.00767901],\n",
       "        [ 0.03175758, -0.02077628,  0.0380614 , ..., -0.02004387,\n",
       "         -0.04137548,  0.00737182],\n",
       "        ...,\n",
       "        [ 0.03686832,  0.00270729,  0.06158039, ...,  0.08427837,\n",
       "          0.10583917,  0.03920956],\n",
       "        [ 0.03656079,  0.00276274,  0.06093162, ..., -0.12419854,\n",
       "         -0.16956754, -0.09392659],\n",
       "        [ 0.03625481,  0.00279508,  0.0602885 , ...,  0.06601101,\n",
       "          0.08763498,  0.04515348]]),\n",
       " 'high100': 73.2,\n",
       " 'high1000': 5.754,\n",
       " 'low100': 7.902,\n",
       " 'low1000': 7.902,\n",
       " 'mean': 28.781367648808644,\n",
       " 'std': 13.88163414311803}"
      ]
     },
     "execution_count": 50,
     "metadata": {},
     "output_type": "execute_result"
    }
   ],
   "source": [
    "#STAT['PRCP_s20']"
   ]
  },
  {
   "cell_type": "code",
   "execution_count": 13,
   "metadata": {
    "ExecuteTime": {
     "end_time": "2018-04-09T20:29:04.377476Z",
     "start_time": "2018-04-09T20:29:04.373756Z"
    },
    "scrolled": true,
    "slideshow": {
     "slide_type": "subslide"
    }
   },
   "outputs": [
    {
     "name": "stdout",
     "output_type": "stream",
     "text": [
      "   Name  \t                 Description             \t  Size\n",
      "--------------------------------------------------------------------------------\n",
      "SortedVals\t                        Sample of values\tvector whose length varies between measurements\n",
      "     UnDef\t      sample of number of undefs per row\tvector whose length varies between measurements\n",
      "      mean\t                              mean value\t()\n",
      "       std\t                                     std\t()\n",
      "    low100\t                               bottom 1%\t()\n",
      "   high100\t                                  top 1%\t()\n",
      "   low1000\t                             bottom 0.1%\t()\n",
      "  high1000\t                                top 0.1%\t()\n",
      "         E\t                   Sum of values per day\t(365,)\n",
      "        NE\t                 count of values per day\t(365,)\n",
      "      Mean\t                                    E/NE\t(365,)\n",
      "         O\t                   Sum of outer products\t(365, 365)\n",
      "        NO\t               counts for outer products\t(365, 365)\n",
      "       Cov\t                                    O/NO\t(365, 365)\n",
      "       Var\t  The variance per day = diagonal of Cov\t(365,)\n",
      "    eigval\t                        PCA eigen-values\t(365,)\n",
      "    eigvec\t                       PCA eigen-vectors\t(365, 365)\n"
     ]
    }
   ],
   "source": [
    "print(\"   Name  \\t                 Description             \\t  Size\")\n",
    "print(\"-\"*80)\n",
    "print('\\n'.join([\"%10s\\t%40s\\t%s\"%(s[0],s[1],str(s[2])) for s in STAT_Descriptions]))"
   ]
  },
  {
   "cell_type": "code",
   "execution_count": 51,
   "metadata": {
    "ExecuteTime": {
     "end_time": "2018-04-26T02:11:24.664959Z",
     "start_time": "2018-04-26T02:11:24.421264Z"
    },
    "slideshow": {
     "slide_type": "skip"
    }
   },
   "outputs": [
    {
     "name": "stdout",
     "output_type": "stream",
     "text": [
      "total 283296\r\n",
      "drwxr-xr-x  31 yoavfreund  staff       992 Apr 18 18:12 \u001b[34mNY.parquet\u001b[m\u001b[m\r\n",
      "-rw-r--r--   1 yoavfreund  staff  66288146 Apr 25 18:59 NY.tgz\r\n",
      "-rw-r--r--   1 yoavfreund  staff  51365694 Apr 25 19:11 STAT_NY.pickle\r\n",
      "-rw-r--r--   1 yoavfreund  staff  25684524 Apr  1 14:31 WeatherSTAT_NY.pickle\r\n",
      "drwxr-xr-x   7 yoavfreund  staff       224 Apr 10 14:38 \u001b[34mWeather_Stations.parquet\u001b[m\u001b[m\r\n",
      "-rw-r--r--   1 yoavfreund  staff   1605162 Apr 10 14:38 Weather_stations.tgz\r\n",
      "drwxr-xr-x  10 yoavfreund  staff       320 Apr 16 14:23 \u001b[34mdecomp_NY_SNWD.parquet\u001b[m\u001b[m\r\n",
      "drwxr-xr-x  10 yoavfreund  staff       320 Apr 16 14:22 \u001b[34mdecon_NY_SNWD.parquet\u001b[m\u001b[m\r\n",
      "drwxr-xr-x  10 yoavfreund  staff       320 Apr 13 12:45 \u001b[34mrecon_NY_SNWD.parquet\u001b[m\u001b[m\r\n",
      "drwxr-xr-x  10 yoavfreund  staff       320 Apr 10 14:22 \u001b[34mstations.parquet\u001b[m\u001b[m\r\n"
     ]
    }
   ],
   "source": [
    "## Dump STAT and STST_Descriptions into a pickle file.\n",
    "from pickle import dump\n",
    "\n",
    "filename=data_dir+'/STAT_%s.pickle'%state\n",
    "dump((STAT,STAT_Descriptions),open(filename,'wb'))\n",
    "!ls -l $data_dir"
   ]
  },
  {
   "cell_type": "code",
   "execution_count": 27,
   "metadata": {
    "ExecuteTime": {
     "end_time": "2018-04-24T18:03:50.513142Z",
     "start_time": "2018-04-24T18:03:50.506731Z"
    },
    "slideshow": {
     "slide_type": "skip"
    }
   },
   "outputs": [
    {
     "name": "stdout",
     "output_type": "stream",
     "text": [
      "TOBS 0.0\n",
      "TOBS_s20 0.0\n",
      "TMAX 0.0\n",
      "TMAX_s20 0.0\n",
      "TMIN_s20 0.0\n",
      "TMIN 0.0\n",
      "SNWD_s20 0.0\n",
      "SNWD 0.0\n",
      "SNOW_s20 0.0\n",
      "SNOW 0.0\n",
      "PRCP_s20 0.0\n",
      "PRCP 0.0\n"
     ]
    }
   ],
   "source": [
    "X=STAT['TMAX']['Var']\n",
    "for key in STAT.keys():\n",
    "    Y=STAT[key]['Var']\n",
    "    print(key,sum(abs(X-Y)))"
   ]
  },
  {
   "cell_type": "code",
   "execution_count": 29,
   "metadata": {
    "slideshow": {
     "slide_type": "skip"
    }
   },
   "outputs": [
    {
     "name": "stdout",
     "output_type": "stream",
     "text": [
      "-rw-r--r--  1 yoavfreund  staff  25684524 Apr  1 14:31 ../../Data/Weather/STAT_NY.pickle\r\n"
     ]
    }
   ],
   "source": [
    "!ls -l ../../Data/Weather/STAT*"
   ]
  },
  {
   "cell_type": "code",
   "execution_count": 30,
   "metadata": {
    "slideshow": {
     "slide_type": "skip"
    }
   },
   "outputs": [
    {
     "name": "stdout",
     "output_type": "stream",
     "text": [
      "-rw-r--r--  1 yoavfreund  staff  14948011 Apr  1 14:31 ../../Data/Weather/STAT_NY.pickle.gz\r\n"
     ]
    }
   ],
   "source": [
    "!gzip -f -k ../../Data/Weather/STAT*.pickle\n",
    "!ls -l ../../Data/Weather/STAT*"
   ]
  },
  {
   "cell_type": "code",
   "execution_count": 31,
   "metadata": {
    "scrolled": true,
    "slideshow": {
     "slide_type": "skip"
    }
   },
   "outputs": [
    {
     "name": "stdout",
     "output_type": "stream",
     "text": [
      "aws s3  cp ../../Data/Weather/STAT_NY.pickle.gz s3://mas-dse-open/Weather/by_state/STAT_NY.pickle.gz\n",
      "upload: ../../Data/Weather/STAT_NY.pickle.gz to s3://mas-dse-open/Weather/by_state/STAT_NY.pickle.gz\n"
     ]
    }
   ],
   "source": [
    "for state in ['NY']:\n",
    "    command=\"aws s3  cp ../../Data/Weather/STAT_%s.pickle.gz s3://mas-dse-open/Weather/by_state/STAT_%s.pickle.gz\"%(state,state)\n",
    "    print(command)\n",
    "    !$command"
   ]
  },
  {
   "cell_type": "code",
   "execution_count": 32,
   "metadata": {
    "slideshow": {
     "slide_type": "skip"
    }
   },
   "outputs": [
    {
     "name": "stdout",
     "output_type": "stream",
     "text": [
      "2018-04-01 14:32:56   14948011 STAT_NY.pickle.gz\r\n",
      "2018-03-18 20:33:54   11717259 STAT_RI.pickle.gz\r\n"
     ]
    }
   ],
   "source": [
    "!aws s3  ls s3://mas-dse-open/Weather/by_state/ | grep STAT"
   ]
  },
  {
   "cell_type": "markdown",
   "metadata": {
    "collapsed": true,
    "slideshow": {
     "slide_type": "slide"
    }
   },
   "source": [
    "### Summary\n",
    "* We discussed how to compute the covariance matrix and the expectation matrix when there are `nan` entries.\n",
    "* The details are all in `computeStatistics`, which is defined in python files you can find in the directory `lib`"
   ]
  },
  {
   "cell_type": "code",
   "execution_count": null,
   "metadata": {},
   "outputs": [],
   "source": []
  }
 ],
 "metadata": {
  "anaconda-cloud": {},
  "celltoolbar": "Slideshow",
  "hide_input": false,
  "kernelspec": {
   "display_name": "Python 3",
   "language": "python",
   "name": "python3"
  },
  "language_info": {
   "codemirror_mode": {
    "name": "ipython",
    "version": 3
   },
   "file_extension": ".py",
   "mimetype": "text/x-python",
   "name": "python",
   "nbconvert_exporter": "python",
   "pygments_lexer": "ipython3",
   "version": "3.6.4"
  },
  "name": "PCA_using_numpy for HW3",
  "notebookId": 85286,
  "toc": {
   "base_numbering": 1,
   "nav_menu": {
    "height": "116px",
    "width": "252px"
   },
   "number_sections": true,
   "sideBar": true,
   "skip_h1_title": false,
   "title_cell": "Table of Contents",
   "title_sidebar": "Contents",
   "toc_cell": false,
   "toc_position": {},
   "toc_section_display": "block",
   "toc_window_display": false
  }
 },
 "nbformat": 4,
 "nbformat_minor": 1
}
