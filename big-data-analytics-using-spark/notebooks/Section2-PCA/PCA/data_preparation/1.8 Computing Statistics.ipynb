{
 "cells": [
  {
   "cell_type": "markdown",
   "metadata": {
    "slideshow": {
     "slide_type": "slide"
    }
   },
   "source": [
    "## Computing the statistics"
   ]
  },
  {
   "cell_type": "code",
   "execution_count": null,
   "metadata": {
    "collapsed": true
   },
   "outputs": [],
   "source": [
    "%%time\n",
    "%pwd\n",
    "from glob import glob\n",
    "from pyspark import SparkContext"
   ]
  },
  {
   "cell_type": "code",
   "execution_count": 38,
   "metadata": {
    "collapsed": true
   },
   "outputs": [],
   "source": [
    "sc.stop()"
   ]
  },
  {
   "cell_type": "code",
   "execution_count": 39,
   "metadata": {
    "collapsed": true
   },
   "outputs": [],
   "source": [
    "lib_dir='/mnt/workspace/edX-Micro-Master-in-Data-Science/big-data-analytics-using-spark/notebooks/Section2-PCA/PCA/data_preparation/lib'\n",
    "libfiles=glob(lib_dir+'/*.py')\n",
    "\n",
    "sc = SparkContext(pyFiles=libfiles)"
   ]
  },
  {
   "cell_type": "code",
   "execution_count": 41,
   "metadata": {
    "slideshow": {
     "slide_type": "skip"
    }
   },
   "outputs": [
    {
     "name": "stdout",
     "output_type": "stream",
     "text": [
      "('Number of executors=', 2)\n"
     ]
    }
   ],
   "source": [
    "N=sc.defaultParallelism\n",
    "print('Number of executors=',N)\n",
    "\n",
    "from pyspark import SparkContext\n",
    "from pyspark.sql import SQLContext\n",
    "\n",
    "sqlContext = SQLContext(sc)"
   ]
  },
  {
   "cell_type": "code",
   "execution_count": 42,
   "metadata": {
    "collapsed": true
   },
   "outputs": [],
   "source": [
    "#import unpacking routine\n",
    "import sys\n",
    "sys.path.append('./lib')\n",
    "from numpy_pack import unpackArray\n",
    "\n",
    "import numpy as np"
   ]
  },
  {
   "cell_type": "code",
   "execution_count": 43,
   "metadata": {
    "collapsed": true,
    "slideshow": {
     "slide_type": "slide"
    }
   },
   "outputs": [],
   "source": [
    "STAT_Descriptions=[\n",
    "('SortedVals', 'Sample of values', 'vector whose length varies between measurements'),\n",
    " ('UnDef', 'sample of number of undefs per row', 'vector whose length varies between measurements'),\n",
    " ('mean', 'mean value', ()),\n",
    " ('std', 'std', ()),\n",
    " ('low100', 'bottom 1%', ()),\n",
    " ('high100', 'top 1%', ()),\n",
    " ('low1000', 'bottom 0.1%', ()),\n",
    " ('high1000', 'top 0.1%', ()),\n",
    " ('E', 'Sum of values per day', (365,)),\n",
    " ('NE', 'count of values per day', (365,)),\n",
    " ('Mean', 'E/NE', (365,)),\n",
    " ('O', 'Sum of outer products', (365, 365)),\n",
    " ('NO', 'counts for outer products', (365, 365)),\n",
    " ('Cov', 'O/NO', (365, 365)),\n",
    " ('Var', 'The variance per day = diagonal of Cov', (365,)),\n",
    " ('eigval', 'PCA eigen-values', (365,)),\n",
    " ('eigvec', 'PCA eigen-vectors', (365, 365))\n",
    "  ]"
   ]
  },
  {
   "cell_type": "code",
   "execution_count": 44,
   "metadata": {},
   "outputs": [
    {
     "name": "stdout",
     "output_type": "stream",
     "text": [
      "SELECT * FROM parquet.`/weather/US_weather.parquet`\n",
      "3259494\n",
      "('took', 21.63391399383545, 'seconds')\n"
     ]
    }
   ],
   "source": [
    "US_Weather_parquet='/weather/US_weather.parquet'\n",
    "measurements=['TMAX','TMIN','TOBS','SNOW','SNWD','PRCP']\n",
    "Query=\"SELECT * FROM parquet.`%s`\"%US_Weather_parquet\n",
    "print(Query)\n",
    "\n",
    "from time import time\n",
    "t=time()\n",
    "df = sqlContext.sql(Query).cache()\n",
    "print(df.count())\n",
    "print('took',time()-t,'seconds')"
   ]
  },
  {
   "cell_type": "code",
   "execution_count": 45,
   "metadata": {},
   "outputs": [
    {
     "name": "stdout",
     "output_type": "stream",
     "text": [
      "SELECT * FROM parquet.`/weather/US_stations.parquet`\n",
      "12140\n",
      "('took', 3.763619899749756, 'seconds')\n"
     ]
    }
   ],
   "source": [
    "US_stations_parquet='/weather/US_stations.parquet'\n",
    "Query=\"SELECT * FROM parquet.`%s`\"%US_stations_parquet\n",
    "print(Query)\n",
    "\n",
    "t=time()\n",
    "stations = sqlContext.sql(Query).cache()\n",
    "print(stations.count())\n",
    "print('took',time()-t,'seconds')"
   ]
  },
  {
   "cell_type": "code",
   "execution_count": 46,
   "metadata": {},
   "outputs": [
    {
     "name": "stdout",
     "output_type": "stream",
     "text": [
      "+-----------+-----+\n",
      "|    Station|State|\n",
      "+-----------+-----+\n",
      "|USC00341900|   OK|\n",
      "|USC00428114|   UT|\n",
      "|USC00165926|   LA|\n",
      "|USC00411974|   TX|\n",
      "+-----------+-----+\n",
      "only showing top 4 rows\n",
      "\n"
     ]
    }
   ],
   "source": [
    "station_state=stations.select(['Station','State'])\n",
    "station_state.show(4)"
   ]
  },
  {
   "cell_type": "code",
   "execution_count": 47,
   "metadata": {},
   "outputs": [
    {
     "name": "stdout",
     "output_type": "stream",
     "text": [
      "+-----------+-----------+----+--------------------+\n",
      "|    Station|Measurement|Year|              Values|\n",
      "+-----------+-----------+----+--------------------+\n",
      "|CA001126150|       PRCP|1941|[00 7E 00 7E 00 7...|\n",
      "|CA001126150|       PRCP|1942|[00 00 80 4A 00 0...|\n",
      "+-----------+-----------+----+--------------------+\n",
      "only showing top 2 rows\n",
      "\n"
     ]
    }
   ],
   "source": [
    "df.show(2)"
   ]
  },
  {
   "cell_type": "code",
   "execution_count": 48,
   "metadata": {},
   "outputs": [
    {
     "name": "stdout",
     "output_type": "stream",
     "text": [
      "+-----------+-----------+----+--------------------+-----+\n",
      "|    Station|Measurement|Year|              Values|State|\n",
      "+-----------+-----------+----+--------------------+-----+\n",
      "|CA001126150|       PRCP|1941|[00 7E 00 7E 00 7...|  NaN|\n",
      "|CA001126150|       PRCP|1942|[00 00 80 4A 00 0...|  NaN|\n",
      "+-----------+-----------+----+--------------------+-----+\n",
      "only showing top 2 rows\n",
      "\n"
     ]
    }
   ],
   "source": [
    "df1=df.join(station_state,on='Station', how='inner')\n",
    "df1.show(2)"
   ]
  },
  {
   "cell_type": "code",
   "execution_count": 49,
   "metadata": {},
   "outputs": [
    {
     "data": {
      "text/html": [
       "<div>\n",
       "<style scoped>\n",
       "    .dataframe tbody tr th:only-of-type {\n",
       "        vertical-align: middle;\n",
       "    }\n",
       "\n",
       "    .dataframe tbody tr th {\n",
       "        vertical-align: top;\n",
       "    }\n",
       "\n",
       "    .dataframe thead th {\n",
       "        text-align: right;\n",
       "    }\n",
       "</style>\n",
       "<table border=\"1\" class=\"dataframe\">\n",
       "  <thead>\n",
       "    <tr style=\"text-align: right;\">\n",
       "      <th></th>\n",
       "      <th>State</th>\n",
       "      <th>count</th>\n",
       "    </tr>\n",
       "  </thead>\n",
       "  <tbody>\n",
       "    <tr>\n",
       "      <th>54</th>\n",
       "      <td>NB</td>\n",
       "      <td>120</td>\n",
       "    </tr>\n",
       "    <tr>\n",
       "      <th>5</th>\n",
       "      <td>DC</td>\n",
       "      <td>149</td>\n",
       "    </tr>\n",
       "    <tr>\n",
       "      <th>29</th>\n",
       "      <td>MB</td>\n",
       "      <td>193</td>\n",
       "    </tr>\n",
       "    <tr>\n",
       "      <th>44</th>\n",
       "      <td>AB</td>\n",
       "      <td>594</td>\n",
       "    </tr>\n",
       "    <tr>\n",
       "      <th>43</th>\n",
       "      <td>SK</td>\n",
       "      <td>740</td>\n",
       "    </tr>\n",
       "    <tr>\n",
       "      <th>8</th>\n",
       "      <td>QC</td>\n",
       "      <td>1218</td>\n",
       "    </tr>\n",
       "    <tr>\n",
       "      <th>12</th>\n",
       "      <td>BC</td>\n",
       "      <td>1366</td>\n",
       "    </tr>\n",
       "    <tr>\n",
       "      <th>42</th>\n",
       "      <td>ON</td>\n",
       "      <td>1857</td>\n",
       "    </tr>\n",
       "    <tr>\n",
       "      <th>9</th>\n",
       "      <td>RI</td>\n",
       "      <td>2608</td>\n",
       "    </tr>\n",
       "    <tr>\n",
       "      <th>25</th>\n",
       "      <td>DE</td>\n",
       "      <td>5277</td>\n",
       "    </tr>\n",
       "    <tr>\n",
       "      <th>20</th>\n",
       "      <td>CT</td>\n",
       "      <td>13231</td>\n",
       "    </tr>\n",
       "    <tr>\n",
       "      <th>23</th>\n",
       "      <td>VT</td>\n",
       "      <td>17535</td>\n",
       "    </tr>\n",
       "    <tr>\n",
       "      <th>13</th>\n",
       "      <td>NH</td>\n",
       "      <td>19971</td>\n",
       "    </tr>\n",
       "    <tr>\n",
       "      <th>4</th>\n",
       "      <td>NJ</td>\n",
       "      <td>27903</td>\n",
       "    </tr>\n",
       "    <tr>\n",
       "      <th>28</th>\n",
       "      <td>ME</td>\n",
       "      <td>28186</td>\n",
       "    </tr>\n",
       "    <tr>\n",
       "      <th>49</th>\n",
       "      <td>MA</td>\n",
       "      <td>29531</td>\n",
       "    </tr>\n",
       "    <tr>\n",
       "      <th>24</th>\n",
       "      <td>MD</td>\n",
       "      <td>34992</td>\n",
       "    </tr>\n",
       "    <tr>\n",
       "      <th>1</th>\n",
       "      <td>SC</td>\n",
       "      <td>39276</td>\n",
       "    </tr>\n",
       "    <tr>\n",
       "      <th>10</th>\n",
       "      <td>KY</td>\n",
       "      <td>43453</td>\n",
       "    </tr>\n",
       "    <tr>\n",
       "      <th>2</th>\n",
       "      <td>LA</td>\n",
       "      <td>47331</td>\n",
       "    </tr>\n",
       "    <tr>\n",
       "      <th>32</th>\n",
       "      <td>MS</td>\n",
       "      <td>48006</td>\n",
       "    </tr>\n",
       "    <tr>\n",
       "      <th>33</th>\n",
       "      <td>AL</td>\n",
       "      <td>48218</td>\n",
       "    </tr>\n",
       "    <tr>\n",
       "      <th>15</th>\n",
       "      <td>NV</td>\n",
       "      <td>48977</td>\n",
       "    </tr>\n",
       "    <tr>\n",
       "      <th>47</th>\n",
       "      <td>WV</td>\n",
       "      <td>50991</td>\n",
       "    </tr>\n",
       "    <tr>\n",
       "      <th>36</th>\n",
       "      <td>TN</td>\n",
       "      <td>54590</td>\n",
       "    </tr>\n",
       "    <tr>\n",
       "      <th>53</th>\n",
       "      <td>AR</td>\n",
       "      <td>55884</td>\n",
       "    </tr>\n",
       "    <tr>\n",
       "      <th>7</th>\n",
       "      <td>VA</td>\n",
       "      <td>57279</td>\n",
       "    </tr>\n",
       "    <tr>\n",
       "      <th>52</th>\n",
       "      <td>FL</td>\n",
       "      <td>57997</td>\n",
       "    </tr>\n",
       "    <tr>\n",
       "      <th>48</th>\n",
       "      <td>GA</td>\n",
       "      <td>58234</td>\n",
       "    </tr>\n",
       "    <tr>\n",
       "      <th>34</th>\n",
       "      <td>IN</td>\n",
       "      <td>58832</td>\n",
       "    </tr>\n",
       "    <tr>\n",
       "      <th>35</th>\n",
       "      <td>OH</td>\n",
       "      <td>63344</td>\n",
       "    </tr>\n",
       "    <tr>\n",
       "      <th>45</th>\n",
       "      <td>NaN</td>\n",
       "      <td>64268</td>\n",
       "    </tr>\n",
       "    <tr>\n",
       "      <th>30</th>\n",
       "      <td>ND</td>\n",
       "      <td>64908</td>\n",
       "    </tr>\n",
       "    <tr>\n",
       "      <th>11</th>\n",
       "      <td>WY</td>\n",
       "      <td>65734</td>\n",
       "    </tr>\n",
       "    <tr>\n",
       "      <th>17</th>\n",
       "      <td>ID</td>\n",
       "      <td>71554</td>\n",
       "    </tr>\n",
       "    <tr>\n",
       "      <th>40</th>\n",
       "      <td>SD</td>\n",
       "      <td>72556</td>\n",
       "    </tr>\n",
       "    <tr>\n",
       "      <th>22</th>\n",
       "      <td>NC</td>\n",
       "      <td>72568</td>\n",
       "    </tr>\n",
       "    <tr>\n",
       "      <th>55</th>\n",
       "      <td>OK</td>\n",
       "      <td>74509</td>\n",
       "    </tr>\n",
       "    <tr>\n",
       "      <th>27</th>\n",
       "      <td>IL</td>\n",
       "      <td>74742</td>\n",
       "    </tr>\n",
       "    <tr>\n",
       "      <th>3</th>\n",
       "      <td>MN</td>\n",
       "      <td>75338</td>\n",
       "    </tr>\n",
       "    <tr>\n",
       "      <th>26</th>\n",
       "      <td>MO</td>\n",
       "      <td>78153</td>\n",
       "    </tr>\n",
       "    <tr>\n",
       "      <th>39</th>\n",
       "      <td>PA</td>\n",
       "      <td>78755</td>\n",
       "    </tr>\n",
       "    <tr>\n",
       "      <th>56</th>\n",
       "      <td>UT</td>\n",
       "      <td>82388</td>\n",
       "    </tr>\n",
       "    <tr>\n",
       "      <th>37</th>\n",
       "      <td>IA</td>\n",
       "      <td>82673</td>\n",
       "    </tr>\n",
       "    <tr>\n",
       "      <th>16</th>\n",
       "      <td>WI</td>\n",
       "      <td>83197</td>\n",
       "    </tr>\n",
       "    <tr>\n",
       "      <th>41</th>\n",
       "      <td>NY</td>\n",
       "      <td>84199</td>\n",
       "    </tr>\n",
       "    <tr>\n",
       "      <th>50</th>\n",
       "      <td>KS</td>\n",
       "      <td>85246</td>\n",
       "    </tr>\n",
       "    <tr>\n",
       "      <th>14</th>\n",
       "      <td>MI</td>\n",
       "      <td>86365</td>\n",
       "    </tr>\n",
       "    <tr>\n",
       "      <th>19</th>\n",
       "      <td>NE</td>\n",
       "      <td>88658</td>\n",
       "    </tr>\n",
       "    <tr>\n",
       "      <th>31</th>\n",
       "      <td>WA</td>\n",
       "      <td>88668</td>\n",
       "    </tr>\n",
       "    <tr>\n",
       "      <th>51</th>\n",
       "      <td>CO</td>\n",
       "      <td>90775</td>\n",
       "    </tr>\n",
       "    <tr>\n",
       "      <th>0</th>\n",
       "      <td>AZ</td>\n",
       "      <td>91858</td>\n",
       "    </tr>\n",
       "    <tr>\n",
       "      <th>38</th>\n",
       "      <td>NM</td>\n",
       "      <td>94859</td>\n",
       "    </tr>\n",
       "    <tr>\n",
       "      <th>6</th>\n",
       "      <td>OR</td>\n",
       "      <td>96763</td>\n",
       "    </tr>\n",
       "    <tr>\n",
       "      <th>21</th>\n",
       "      <td>MT</td>\n",
       "      <td>114447</td>\n",
       "    </tr>\n",
       "    <tr>\n",
       "      <th>18</th>\n",
       "      <td>CA</td>\n",
       "      <td>182759</td>\n",
       "    </tr>\n",
       "    <tr>\n",
       "      <th>46</th>\n",
       "      <td>TX</td>\n",
       "      <td>195671</td>\n",
       "    </tr>\n",
       "  </tbody>\n",
       "</table>\n",
       "</div>"
      ],
      "text/plain": [
       "   State   count\n",
       "54    NB     120\n",
       "5     DC     149\n",
       "29    MB     193\n",
       "44    AB     594\n",
       "43    SK     740\n",
       "8     QC    1218\n",
       "12    BC    1366\n",
       "42    ON    1857\n",
       "9     RI    2608\n",
       "25    DE    5277\n",
       "20    CT   13231\n",
       "23    VT   17535\n",
       "13    NH   19971\n",
       "4     NJ   27903\n",
       "28    ME   28186\n",
       "49    MA   29531\n",
       "24    MD   34992\n",
       "1     SC   39276\n",
       "10    KY   43453\n",
       "2     LA   47331\n",
       "32    MS   48006\n",
       "33    AL   48218\n",
       "15    NV   48977\n",
       "47    WV   50991\n",
       "36    TN   54590\n",
       "53    AR   55884\n",
       "7     VA   57279\n",
       "52    FL   57997\n",
       "48    GA   58234\n",
       "34    IN   58832\n",
       "35    OH   63344\n",
       "45   NaN   64268\n",
       "30    ND   64908\n",
       "11    WY   65734\n",
       "17    ID   71554\n",
       "40    SD   72556\n",
       "22    NC   72568\n",
       "55    OK   74509\n",
       "27    IL   74742\n",
       "3     MN   75338\n",
       "26    MO   78153\n",
       "39    PA   78755\n",
       "56    UT   82388\n",
       "37    IA   82673\n",
       "16    WI   83197\n",
       "41    NY   84199\n",
       "50    KS   85246\n",
       "14    MI   86365\n",
       "19    NE   88658\n",
       "31    WA   88668\n",
       "51    CO   90775\n",
       "0     AZ   91858\n",
       "38    NM   94859\n",
       "6     OR   96763\n",
       "21    MT  114447\n",
       "18    CA  182759\n",
       "46    TX  195671"
      ]
     },
     "execution_count": 49,
     "metadata": {},
     "output_type": "execute_result"
    }
   ],
   "source": [
    "records_per_state_pdf=df1.groupby('State').count().toPandas()\n",
    "records_per_state_pdf = records_per_state_pdf.sort_values('count')\n",
    "records_per_state_pdf"
   ]
  },
  {
   "cell_type": "code",
   "execution_count": 50,
   "metadata": {
    "collapsed": true
   },
   "outputs": [],
   "source": [
    "def Unpack(V):\n",
    "    return unpackArray(V,data_type=np.float16)\n"
   ]
  },
  {
   "cell_type": "code",
   "execution_count": 51,
   "metadata": {},
   "outputs": [
    {
     "name": "stdout",
     "output_type": "stream",
     "text": [
      "CPU times: user 4 ms, sys: 0 ns, total: 4 ms\n",
      "Wall time: 17.9 ms\n"
     ]
    }
   ],
   "source": [
    "%%time\n",
    "rdd0=df.rdd.map(lambda row:(row.Station,row.Measurement,row.Year,Unpack(row.Values))).cache()"
   ]
  },
  {
   "cell_type": "markdown",
   "metadata": {
    "slideshow": {
     "slide_type": "skip"
    }
   },
   "source": [
    "### Crashes in the next cell if run using Python3"
   ]
  },
  {
   "cell_type": "code",
   "execution_count": 52,
   "metadata": {},
   "outputs": [
    {
     "name": "stdout",
     "output_type": "stream",
     "text": [
      "CPU times: user 8 ms, sys: 4 ms, total: 12 ms\n",
      "Wall time: 37.7 s\n"
     ]
    },
    {
     "data": {
      "text/plain": [
       "3259494"
      ]
     },
     "execution_count": 52,
     "metadata": {},
     "output_type": "execute_result"
    }
   ],
   "source": [
    "%%time\n",
    "\n",
    "rdd0.count()"
   ]
  },
  {
   "cell_type": "code",
   "execution_count": 53,
   "metadata": {},
   "outputs": [
    {
     "data": {
      "text/plain": [
       "[(u'CA001126150',\n",
       "  u'PRCP',\n",
       "  1941,\n",
       "  array([ nan,  nan,  nan,  nan,  nan,  nan,  nan,  nan,  nan,  nan,  nan,\n",
       "          nan,  nan,  nan,  nan,  nan,  nan,  nan,  nan,  nan,  nan,  nan,\n",
       "          nan,  nan,  nan,  nan,  nan,  nan,  nan,  nan,  nan,  nan,  nan,\n",
       "          nan,  nan,  nan,  nan,  nan,  nan,  nan,  nan,  nan,  nan,  nan,\n",
       "          nan,  nan,  nan,  nan,  nan,  nan,  nan,  nan,  nan,  nan,  nan,\n",
       "          nan,  nan,  nan,  nan,  nan,  nan,  nan,  nan,  nan,  nan,  nan,\n",
       "          nan,  nan,  nan,  nan,  nan,  nan,  nan,  nan,  nan,  nan,  nan,\n",
       "          nan,  nan,  nan,  nan,  nan,  nan,  nan,  nan,  nan,  nan,  nan,\n",
       "          nan,  nan,   0.,  61.,  36.,  91.,   0.,   0.,   0.,   0.,  36.,\n",
       "          91.,   0.,   0.,   0.,  18.,   3.,   0.,   0.,   0.,   0.,   0.,\n",
       "           0.,   0.,   0.,   0.,   0.,   0.,  41.,   0.,   0., 188.,   8.,\n",
       "           0.,  28.,  20.,   0.,   0.,   0.,   0.,   0.,   0.,  20.,   0.,\n",
       "           0.,   0.,   0.,   0.,  53.,   0.,   0.,   0.,   0.,   0.,   0.,\n",
       "           0.,   0.,  23.,  15.,  56.,   3.,   0.,  20.,   0.,   0.,   0.,\n",
       "           0.,  10., 188., 157.,   0.,   0.,   0.,   0.,  13.,  15.,  48.,\n",
       "           3.,  38.,   0., 114.,   8.,   0.,   0.,   0.,   0.,  23.,   5.,\n",
       "           0.,   0.,   0.,   0.,   0.,   0.,  66., 183.,   0.,   0., 112.,\n",
       "           0.,   0.,   0.,   0.,   0.,   0.,   0.,   0.,   0.,   0.,  18.,\n",
       "          53.,   3.,   0.,   0.,   0.,   0.,   0.,   0.,   0.,   0.,   0.,\n",
       "           0.,   0.,   0.,   0.,   0.,   5.,   0.,   0.,   0.,   0.,   0.,\n",
       "           0.,   0.,   3.,   5.,   0.,   8.,  10.,   0.,   0.,   0.,   0.,\n",
       "           0.,   0.,   0.,  10.,   0.,  91., 221.,   3.,   0.,   0.,  23.,\n",
       "           0.,  10.,  18.,  13.,   0.,   0.,  23.,   0.,   5.,  91., 107.,\n",
       "          28.,  30.,  10.,  53.,  13.,  64.,   0.,  25.,  10.,   0.,   0.,\n",
       "           0.,   0.,   0.,   0.,  28.,   0.,   3.,   5.,   0.,  10.,   8.,\n",
       "           8.,   0.,   0.,   0.,   0.,   5.,  10.,   3.,   0.,   0.,   0.,\n",
       "           0.,   0.,   0.,   0.,   0.,  18.,   0.,   0.,   0.,   0.,   0.,\n",
       "           0.,   0.,   0.,   5.,   0.,   0.,  25.,   0.,  25.,  13.,   8.,\n",
       "           0.,   0.,   0.,   0.,   0.,   0.,   0.,   0.,   8.,   0.,  15.,\n",
       "          15.,   0.,   0.,   0.,   8.,   0.,   0.,   0.,  41.,   0.,   0.,\n",
       "           0.,   0.,   0.,   0.,   3.,  30.,   0.,   8.,   3.,   0.,   0.,\n",
       "           0.,   0.,   0.,   0.,   0.,   5.,  28.,  66.,   0.,  18.,  20.,\n",
       "         112.,  38.,   5.,  23.,   0.,   0.,   0.,   0.,   0.,   0.,   0.,\n",
       "           0.,   0.], dtype=float16))]"
      ]
     },
     "execution_count": 53,
     "metadata": {},
     "output_type": "execute_result"
    }
   ],
   "source": [
    "rdd0.take(1)"
   ]
  },
  {
   "cell_type": "code",
   "execution_count": 54,
   "metadata": {},
   "outputs": [
    {
     "name": "stdout",
     "output_type": "stream",
     "text": [
      "3259494\n",
      "took 1.96101808548 seconds\n"
     ]
    }
   ],
   "source": [
    "t=time()\n",
    "print rdd0.count()\n",
    "print 'took',time()-t,'seconds'"
   ]
  },
  {
   "cell_type": "code",
   "execution_count": 22,
   "metadata": {
    "collapsed": true,
    "slideshow": {
     "slide_type": "fragment"
    }
   },
   "outputs": [],
   "source": [
    "# Compute the overall distribution of values and the distribution of the number of nan per year\n",
    "def find_percentiles(SortedVals,percentile):\n",
    "  L=len(SortedVals)/percentile\n",
    "  return SortedVals[L],SortedVals[-L]\n",
    "  \n",
    "def computeOverAllDist(rdd0):\n",
    "  UnDef=np.array(rdd0.map(lambda row:sum(np.isnan(row))).sample(False,0.01).collect())\n",
    "  flat=rdd0.flatMap(lambda v:list(v)).filter(lambda x: not np.isnan(x)).cache()\n",
    "  count,S1,S2=flat.map(lambda x: np.float64([1,x,x**2]))\\\n",
    "                  .reduce(lambda x,y: x+y)\n",
    "  mean=S1/count\n",
    "  std=np.sqrt(S2/count-mean**2)\n",
    "  Vals=flat.sample(False,0.0001).collect()\n",
    "  SortedVals=np.array(sorted(Vals))\n",
    "  low100,high100=find_percentiles(SortedVals,100)\n",
    "  low1000,high1000=find_percentiles(SortedVals,1000)\n",
    "  return {'UnDef':UnDef,\\\n",
    "          'mean':mean,\\\n",
    "          'std':std,\\\n",
    "          'SortedVals':SortedVals,\\\n",
    "          'low100':low100,\\\n",
    "          'high100':high100,\\\n",
    "          'low1000':low100,\\\n",
    "          'high1000':high1000\n",
    "          }"
   ]
  },
  {
   "cell_type": "code",
   "execution_count": 60,
   "metadata": {},
   "outputs": [
    {
     "name": "stdout",
     "output_type": "stream",
     "text": [
      "('shape of E=', (10,), 'shape of NE=', (10,))\n",
      "('eigval=', array([ 1.52150512e+00+0.00000000e+00j, -1.73472348e-16+0.00000000e+00j,\n",
      "        4.21481279e-01+0.00000000e+00j, -5.65743323e-17+0.00000000e+00j,\n",
      "       -7.55673997e-17+0.00000000e+00j,  3.40199536e-17+2.62411719e-17j,\n",
      "        3.40199536e-17-2.62411719e-17j,  3.37003138e-17+0.00000000e+00j,\n",
      "       -2.10396305e-17+0.00000000e+00j,  1.71760135e-19+0.00000000e+00j]))\n",
      "('eigvec=', array([[ 4.42175481e-01+0.        j,  8.78490286e-01+0.        j,\n",
      "         1.80929992e-01+0.        j,  5.48283151e-02+0.        j,\n",
      "        -2.77083972e-01+0.        j, -1.38838568e-01+0.11262092j,\n",
      "        -1.38838568e-01-0.11262092j, -3.27840667e-02+0.        j,\n",
      "         1.25681273e-01+0.        j, -2.98963442e-03+0.        j],\n",
      "       [ 2.53835606e-01+0.        j, -1.19754390e-01+0.        j,\n",
      "        -3.88924626e-02+0.        j,  2.05310085e-02+0.        j,\n",
      "        -3.25215328e-03+0.        j, -6.36014218e-01+0.        j,\n",
      "        -6.36014218e-01-0.        j, -1.52434450e-01+0.        j,\n",
      "         2.05690568e-01+0.        j, -8.76145271e-03+0.        j],\n",
      "       [-1.10953912e-01+0.        j, -1.59065451e-02+0.        j,\n",
      "         3.48393564e-01+0.        j,  1.63535096e-01+0.        j,\n",
      "         6.11042419e-04+0.        j,  1.21317422e-01-0.00927388j,\n",
      "         1.21317422e-01+0.00927388j,  7.06892570e-01+0.        j,\n",
      "         1.40535864e-01+0.        j,  7.95704356e-02+0.        j],\n",
      "       [-4.08454022e-02+0.        j,  1.30140526e-02+0.        j,\n",
      "         3.66335978e-02+0.        j, -3.37470851e-03+0.        j,\n",
      "         2.51747932e-02+0.        j,  2.50527772e-02-0.12072923j,\n",
      "         2.50527772e-02+0.12072923j,  1.50464195e-01+0.        j,\n",
      "         1.35681022e-01+0.        j, -9.86534631e-01+0.        j],\n",
      "       [-4.71877499e-01+0.        j,  2.17236880e-01+0.        j,\n",
      "         9.84478630e-02+0.        j,  4.70418567e-01+0.        j,\n",
      "         1.51026571e-01+0.        j, -1.44101738e-01-0.31893804j,\n",
      "        -1.44101738e-01+0.31893804j,  1.36687914e-01+0.        j,\n",
      "        -2.13027846e-01+0.        j,  7.69789641e-02+0.        j],\n",
      "       [ 1.37553894e-01+0.        j, -9.44662794e-02+0.        j,\n",
      "         1.22504563e-01+0.        j,  3.19420798e-01+0.        j,\n",
      "         1.50552372e-01+0.        j,  5.67592911e-02+0.38817243j,\n",
      "         5.67592911e-02-0.38817243j, -1.40800287e-01+0.        j,\n",
      "        -6.91647715e-01+0.        j, -1.07286524e-01+0.        j],\n",
      "       [-4.79102719e-01+0.        j,  2.99220807e-01+0.        j,\n",
      "        -2.81960420e-01+0.        j,  3.67020370e-01+0.        j,\n",
      "        -5.41012632e-01+0.        j, -1.14472365e-01+0.32043124j,\n",
      "        -1.14472365e-01-0.32043124j, -3.33206215e-01+0.        j,\n",
      "         3.01350494e-01+0.        j, -5.34889443e-02+0.        j],\n",
      "       [-2.43598557e-01+0.        j,  3.19376081e-02+0.        j,\n",
      "         4.40261062e-01+0.        j, -3.89212346e-01+0.        j,\n",
      "        -5.66016652e-01+0.        j, -1.55271161e-02-0.05167855j,\n",
      "        -1.55271161e-02+0.05167855j,  9.77137556e-02+0.        j,\n",
      "        -3.70482723e-01+0.        j,  2.88191530e-03+0.        j],\n",
      "       [ 4.92908748e-02+0.        j,  1.27187042e-01+0.        j,\n",
      "        -7.38008087e-01+0.        j, -1.52633994e-01+0.        j,\n",
      "        -1.64296006e-01+0.        j,  8.83062612e-02-0.12058019j,\n",
      "         8.83062612e-02+0.12058019j,  5.25056463e-01+0.        j,\n",
      "        -3.87398127e-01+0.        j,  2.82768442e-03+0.        j],\n",
      "       [ 4.39511662e-01+0.        j, -2.25046516e-01+0.        j,\n",
      "         1.85701546e-02+0.        j,  5.80522700e-01+0.        j,\n",
      "        -4.86869607e-01+0.        j,  2.24187616e-01-0.25659972j,\n",
      "         2.24187616e-01+0.25659972j,  1.36328306e-01+0.        j,\n",
      "        -4.27976161e-02+0.        j, -4.32882288e-03+0.        j]]))\n"
     ]
    }
   ],
   "source": [
    "# %load lib/spark_PCA.py\n",
    "import numpy as np\n",
    "from numpy import linalg as LA\n",
    "\n",
    "def outerProduct(X):\n",
    "    \"\"\"Computer outer product and indicate which locations in matrix are undefined\"\"\"\n",
    "    O=np.outer(X,X)\n",
    "    N=1-np.isnan(O)\n",
    "    return (O,N)\n",
    "\n",
    "def sumWithNan(M1,M2):\n",
    "    \"\"\"Add two pairs of (matrix,count)\"\"\"\n",
    "    (X1,N1)=M1\n",
    "    (X2,N2)=M2\n",
    "    N=N1+N2\n",
    "    X=np.nansum(np.dstack((X1,X2)),axis=2)\n",
    "    return (X,N)\n",
    "\n",
    "def computeCov(RDDin):\n",
    "    \"\"\"computeCov recieves as input an RDD of np arrays, all of the same length, \n",
    "    and computes the covariance matrix for that set of vectors\"\"\"\n",
    "    RDD=RDDin.map(lambda v:np.array(np.insert(v,0,1),dtype=np.float64)) # insert a 1 at the beginning of each vector so that the same \n",
    "                                           #calculation also yields the mean vector\n",
    "    OuterRDD=RDD.map(outerProduct)   # separating the map and the reduce does not matter because of Spark uses lazy execution.\n",
    "    (S,N)=OuterRDD.reduce(sumWithNan)\n",
    "    # Unpack result and compute the covariance matrix\n",
    "    # print('RDD=',RDD.collect())\n",
    "    # print('shape of S=',S.shape,'shape of N=',N.shape)\n",
    "    # print('S=',S)\n",
    "    # print('N=',N)\n",
    "    E=S[0,1:]\n",
    "    NE=np.float64(N[0,1:])\n",
    "    print('shape of E=',E.shape,'shape of NE=',NE.shape)\n",
    "    Mean=E/NE\n",
    "    O=S[1:,1:]\n",
    "    NO=np.float64(N[1:,1:])\n",
    "    Cov=O/NO - np.outer(Mean,Mean)\n",
    "    # Output also the diagnal which is the variance for each day\n",
    "    Var=np.array([Cov[i,i] for i in range(Cov.shape[0])])\n",
    "    return {'E':E,'NE':NE,'O':O,'NO':NO,'Cov':Cov,'Mean':Mean,'Var':Var}\n",
    "\n",
    "if __name__==\"__main__\":\n",
    "    # create synthetic data matrix with j rows and rank k\n",
    "    \n",
    "    V=2*(np.random.random([2,10])-0.5)\n",
    "    data_list=[]\n",
    "    for i in range(1000):\n",
    "        f=2*(np.random.random(2)-0.5)\n",
    "        data_list.append(np.dot(f,V))\n",
    "    # compute covariance matrix\n",
    "    RDD=sc.parallelize(data_list)\n",
    "    OUT=computeCov(RDD)\n",
    "\n",
    "    #find PCA decomposition\n",
    "    eigval,eigvec=LA.eig(OUT['Cov'])\n",
    "    print('eigval=',eigval)\n",
    "    print('eigvec=',eigvec)"
   ]
  },
  {
   "cell_type": "code",
   "execution_count": 61,
   "metadata": {},
   "outputs": [
    {
     "name": "stdout",
     "output_type": "stream",
     "text": [
      "SELECT * FROM parquet.`/weather/US_weather.parquet`\n",
      "\tWHERE measurement = 'TMAX'\n"
     ]
    }
   ],
   "source": [
    "from numpy import linalg as LA\n",
    "\n",
    "STAT={}  # dictionary storing the statistics for each measurement\n",
    "Clean_Tables={}\n",
    "\n",
    "#for meas in measurements:\n",
    "meas=measurements[0]\n",
    "t=time()\n",
    "Query=\"SELECT * FROM parquet.`%s`\\n\\tWHERE measurement = '%s'\"%(US_Weather_parquet,meas)\n",
    "print Query\n",
    "df = sqlContext.sql(Query)"
   ]
  },
  {
   "cell_type": "code",
   "execution_count": 62,
   "metadata": {},
   "outputs": [
    {
     "name": "stdout",
     "output_type": "stream",
     "text": [
      "[((u'CA001126150', u'TMAX', 1941), array([ nan,  nan,  nan,  nan,  nan,  nan,  nan,  nan,  nan,  nan,  nan,\n",
      "        nan,  nan,  nan,  nan,  nan,  nan,  nan,  nan,  nan,  nan,  nan,\n",
      "        nan,  nan,  nan,  nan,  nan,  nan,  nan,  nan,  nan,  nan,  nan,\n",
      "        nan,  nan,  nan,  nan,  nan,  nan,  nan,  nan,  nan,  nan,  nan,\n",
      "        nan,  nan,  nan,  nan,  nan,  nan,  nan,  nan,  nan,  nan,  nan,\n",
      "        nan,  nan,  nan,  nan,  nan,  nan,  nan,  nan,  nan,  nan,  nan,\n",
      "        nan,  nan,  nan,  nan,  nan,  nan,  nan,  nan,  nan,  nan,  nan,\n",
      "        nan,  nan,  nan,  nan,  nan,  nan,  nan,  nan,  nan,  nan,  nan,\n",
      "        nan,  nan, 183., 144., 128.,  78., 144., 167., 183., 178., 156.,\n",
      "       172., 161., 183., 172., 200., 117., 122., 156., 167., 194., 228.,\n",
      "       244., 250., 228., 206., 211., 250., 222., 244., 206., 206., 194.,\n",
      "       194., 144., 167., 161., 178., 167., 178., 211., 194., 244., 217.,\n",
      "       211., 217., 194., 194., 178., 161., 167., 217., 200., 206., 306.,\n",
      "       250., 239., 211., 222., 117., 156., 194., 167., 211., 233., 222.,\n",
      "       239., 217., 156., 133., 194., 233., 267., 317., 328., 228., 272.,\n",
      "       206., 233., 222., 167., 189., 222., 233., 322., 289., 222., 183.,\n",
      "       233., 261., 283., 278., 283., 283., 317., 300., 278., 272., 278.,\n",
      "       278., 283., 272., 250., 294., 300., 311., 333., 344., 350., 406.,\n",
      "       372., 300., 294., 289., 267., 244., 222., 300., 328., 300., 317.,\n",
      "       311., 317., 261., 283., 217., 183., 244., 261., 278., 328., 328.,\n",
      "       317., 322., 328., 250., 289., 306., 267., 289., 300., 306., 333.,\n",
      "       300., 350., 283., 239., 244., 239., 178., 194., 206., 228., 233.,\n",
      "       194., 211., 211., 178., 233., 233., 200., 222., 178., 178., 200.,\n",
      "       178., 156., 172., 133., 172., 144., 150., 156., 117., 167., 178.,\n",
      "       183., 206., 217., 228., 167., 156., 117., 189., 167., 167., 122.,\n",
      "       139., 156., 156., 144., 128., 117., 156., 189., 144., 172., 161.,\n",
      "       172., 183., 178., 167., 122., 128., 167., 139., 128., 106., 111.,\n",
      "        83., 100., 111., 111.,  89., 100.,  78.,  94.,  94., 133., 106.,\n",
      "       161., 106.,  94.,  94.,  72., 106., 122., 100., 117., 122.,  78.,\n",
      "        67.,  67.,  72.,  78.,  56.,  44.,  22.,  33.,  44.,  83.,  78.,\n",
      "        67.,  94., 122., 122., 111., 144.,  67.,  39.,  56.,  72.,  50.,\n",
      "        67.,  61.,  50.,  33.,  11.,  28.,  39.,  72.,  83.,  33.,  61.,\n",
      "        67.,  67.,  28.,  44.,  50.,  33.,  28., -11., -11., -39., -22.,\n",
      "       -44., -67.], dtype=float16))]\n",
      "[array([ -84., -124., -165., -217., -190., -129., -122., -162.,  -87.,\n",
      "        -51.,  -65.,  -37., -129., -130.,  -89.,  -51.,  -60., -209.,\n",
      "       -166.,  -33.,  -39., -175., -176., -221., -179., -177., -195.,\n",
      "       -287., -272., -263., -215., -159., -156., -166., -112.,  -87.,\n",
      "       -122.,  -61.,   -4.,  -29.,  -75., -106.,  -43.,   -7., -145.,\n",
      "       -129.,  -77.,   -6.,    7.,   -7.,   10.,   -6.,  -25.,   -8.,\n",
      "        -15.,    1.,   16.,   40.,   33.,   -8.,   -8.,  -86.,  -50.,\n",
      "        -44.,   20.,   -1.,   62.,   59.,   57., -101.,  -28.,   26.,\n",
      "        -30.,    0.,   50.,   37.,    4.,   84.,  -15.,  -38.,   47.,\n",
      "         49.,   99.,  131.,   -3.,   64.,   54.,   20.,   64.,  104.,\n",
      "        122.,   74.,   54.,  113.,  163.,  181.,   85.,   42.,    6.,\n",
      "        -19.,   28.,  103.,   88.,   85.,   33.,   65.,   80.,   71.,\n",
      "        128.,  179.,   72.,  124.,   87.,  215.,  139.,  102.,  261.,\n",
      "        200.,  105.,  102.,   93.,  119.,  192.,  120.,  214.,  120.,\n",
      "        183.,  200.,  260.,  106.,   62.,    7.,   23.,   64.,  144.,\n",
      "        114.,  172.,  238.,  164.,  124.,  111.,  126.,  184.,  118.,\n",
      "        106.,  109.,  141.,  214.,  202.,  139.,  134.,  189.,  219.,\n",
      "        237.,  271.,  249.,  212.,  246.,  152.,  169.,  203.,  196.,\n",
      "        206.,  154.,  165.,  205.,  210.,  225.,  188.,  221.,  211.,\n",
      "        165.,  169.,  140.,  153.,  167.,  187.,  226.,  286.,  298.,\n",
      "        222.,  250.,  256.,  233.,  149.,  165.,  220.,  229.,  185.,\n",
      "        258.,  291.,  290.,  273.,  249.,  273.,  271.,  238.,  263.,\n",
      "        312.,  300.,  294.,  255.,  183.,  212.,  265.,  282.,  280.,\n",
      "        267.,  214.,  160.,  187.,  271.,  246.,  237.,  236.,  229.,\n",
      "        240.,  186.,  222.,  212.,  151.,  152.,  156.,  206.,  207.,\n",
      "        248.,  219.,  234.,  233.,  172.,  170.,  170.,  223.,  167.,\n",
      "        159.,  188.,  198.,  182.,  192.,  204.,  229.,  187.,  185.,\n",
      "        231.,  306.,  194.,  199.,  194.,  164.,  147.,  204.,  240.,\n",
      "        218.,  147.,  245.,  153.,  180.,  150.,  209.,  247.,  257.,\n",
      "        323.,  268.,  158.,  162.,  132.,  205.,  253.,  227.,  161.,\n",
      "        197.,  193.,  174.,  105.,  144.,  134.,  119.,  255.,  289.,\n",
      "        240.,  190.,  215.,  222.,  196.,  169.,   80.,   82.,   46.,\n",
      "         13.,  -10.,   46.,   78.,   49.,  113.,   72.,   67.,   67.,\n",
      "        107.,  119.,   88.,  111.,   98.,   29.,   79.,   72.,   94.,\n",
      "        116.,   98.,  129.,  122.,   37.,   12.,  133.,   28.,   45.,\n",
      "        102.,  116.,  117.,  119.,  156.,  138.,  100.,   97.,   28.,\n",
      "         55.,   65.,  -17.,  -28.,  -12.,   21.,   25.,  -36.,   36.,\n",
      "        -20., -120.,  -65.,   71.,   56.,  -87.,  -14.,  -31.,  -72.,\n",
      "        -81.,  -48.,   57.,   -9.,  -93.,   34.,   24.,  -34.,   67.,\n",
      "       -101.,  -69.,   47., -186., -204., -203., -154., -169., -100.,\n",
      "        -75.,  -45.,  -46.,  -46., -113.], dtype=float16)]\n",
      "544460\n"
     ]
    }
   ],
   "source": [
    "rdd0=df.rdd.map(lambda row:((row.Station,row.Measurement,row.Year),Unpack(row.Values))).cache()\n",
    "print rdd0.take(1)\n",
    "rdd1=rdd0.sample(False,1)\\\n",
    "    .map(lambda (key,val): val)\\\n",
    "    .cache()\\\n",
    "    .repartition(N)\n",
    "print rdd1.take(1)\n",
    "print rdd1.count()"
   ]
  },
  {
   "cell_type": "code",
   "execution_count": 63,
   "metadata": {
    "collapsed": true
   },
   "outputs": [],
   "source": [
    "#get basic statistics\n",
    "STAT[meas]=computeOverAllDist(rdd1)   # Compute the statistics \n",
    "low1000 = STAT[meas]['low1000']  # unpack the extreme values statistics\n",
    "high1000 = STAT[meas]['high1000']"
   ]
  },
  {
   "cell_type": "code",
   "execution_count": null,
   "metadata": {
    "collapsed": true
   },
   "outputs": [],
   "source": [
    "#clean up table from extreme values and from rows with too many undefinde entries.\n",
    "rdd2=rdd1.map(lambda V: np.array([x if (x>low1000-1) and (x<high1000+1) else np.nan for x in V]))\n",
    "rdd3=rdd2.filter(lambda row:sum(np.isnan(row))<50)\n",
    "Clean_Tables[meas]=rdd3.cache().repartition(N)\n",
    "C=Clean_Tables[meas].count()\n",
    "print 'for measurement %s, we get %d clean rows'%(meas,C)"
   ]
  },
  {
   "cell_type": "code",
   "execution_count": null,
   "metadata": {
    "collapsed": true
   },
   "outputs": [],
   "source": [
    "# compute covariance matrix\n",
    "OUT=computeCov(Clean_Tables[meas])"
   ]
  },
  {
   "cell_type": "code",
   "execution_count": null,
   "metadata": {
    "collapsed": true
   },
   "outputs": [],
   "source": [
    "#find PCA decomposition\n",
    "eigval,eigvec=LA.eig(OUT['Cov'])"
   ]
  },
  {
   "cell_type": "code",
   "execution_count": 59,
   "metadata": {
    "scrolled": false,
    "slideshow": {
     "slide_type": "slide"
    }
   },
   "outputs": [
    {
     "name": "stdout",
     "output_type": "stream",
     "text": [
      "SELECT * FROM parquet.`/weather/US_weather.parquet`\n",
      "\tWHERE measurement = 'TMAX'\n",
      "[((u'CA001126150', u'TMAX', 1941), array([ nan,  nan,  nan,  nan,  nan,  nan,  nan,  nan,  nan,  nan,  nan,\n",
      "        nan,  nan,  nan,  nan,  nan,  nan,  nan,  nan,  nan,  nan,  nan,\n",
      "        nan,  nan,  nan,  nan,  nan,  nan,  nan,  nan,  nan,  nan,  nan,\n",
      "        nan,  nan,  nan,  nan,  nan,  nan,  nan,  nan,  nan,  nan,  nan,\n",
      "        nan,  nan,  nan,  nan,  nan,  nan,  nan,  nan,  nan,  nan,  nan,\n",
      "        nan,  nan,  nan,  nan,  nan,  nan,  nan,  nan,  nan,  nan,  nan,\n",
      "        nan,  nan,  nan,  nan,  nan,  nan,  nan,  nan,  nan,  nan,  nan,\n",
      "        nan,  nan,  nan,  nan,  nan,  nan,  nan,  nan,  nan,  nan,  nan,\n",
      "        nan,  nan, 183., 144., 128.,  78., 144., 167., 183., 178., 156.,\n",
      "       172., 161., 183., 172., 200., 117., 122., 156., 167., 194., 228.,\n",
      "       244., 250., 228., 206., 211., 250., 222., 244., 206., 206., 194.,\n",
      "       194., 144., 167., 161., 178., 167., 178., 211., 194., 244., 217.,\n",
      "       211., 217., 194., 194., 178., 161., 167., 217., 200., 206., 306.,\n",
      "       250., 239., 211., 222., 117., 156., 194., 167., 211., 233., 222.,\n",
      "       239., 217., 156., 133., 194., 233., 267., 317., 328., 228., 272.,\n",
      "       206., 233., 222., 167., 189., 222., 233., 322., 289., 222., 183.,\n",
      "       233., 261., 283., 278., 283., 283., 317., 300., 278., 272., 278.,\n",
      "       278., 283., 272., 250., 294., 300., 311., 333., 344., 350., 406.,\n",
      "       372., 300., 294., 289., 267., 244., 222., 300., 328., 300., 317.,\n",
      "       311., 317., 261., 283., 217., 183., 244., 261., 278., 328., 328.,\n",
      "       317., 322., 328., 250., 289., 306., 267., 289., 300., 306., 333.,\n",
      "       300., 350., 283., 239., 244., 239., 178., 194., 206., 228., 233.,\n",
      "       194., 211., 211., 178., 233., 233., 200., 222., 178., 178., 200.,\n",
      "       178., 156., 172., 133., 172., 144., 150., 156., 117., 167., 178.,\n",
      "       183., 206., 217., 228., 167., 156., 117., 189., 167., 167., 122.,\n",
      "       139., 156., 156., 144., 128., 117., 156., 189., 144., 172., 161.,\n",
      "       172., 183., 178., 167., 122., 128., 167., 139., 128., 106., 111.,\n",
      "        83., 100., 111., 111.,  89., 100.,  78.,  94.,  94., 133., 106.,\n",
      "       161., 106.,  94.,  94.,  72., 106., 122., 100., 117., 122.,  78.,\n",
      "        67.,  67.,  72.,  78.,  56.,  44.,  22.,  33.,  44.,  83.,  78.,\n",
      "        67.,  94., 122., 122., 111., 144.,  67.,  39.,  56.,  72.,  50.,\n",
      "        67.,  61.,  50.,  33.,  11.,  28.,  39.,  72.,  83.,  33.,  61.,\n",
      "        67.,  67.,  28.,  44.,  50.,  33.,  28., -11., -11., -39., -22.,\n",
      "       -44., -67.], dtype=float16))]\n",
      "[array([211., 144., 156., 211., 178., 150., 178., 144., 178., 167., 172.,\n",
      "       206., 211., 178., 183., 178.,  94., 122., 144., 183., 211., 183.,\n",
      "       156., 106., 150., 178., 172., 144., 183., 194., 144., 167., 189.,\n",
      "       183., 183., 156., 156., 206., 239., 239., 233., 211., 128., 156.,\n",
      "       156., 183., 217., 189., 211., 200., 167., 161., 133., 144., 178.,\n",
      "       206., 150., 189., 178., 211., 156., 133., 156., 183., 194., 183.,\n",
      "       222., 172., 194., 133., 183., 211., 222., 244., 250., 267., 239.,\n",
      "       267., 239., 250., 222., 244., 294., 289., 244., 267., 267., 272.,\n",
      "       233., 233., 250., 289., 317., 322., 289., 233., 206., 267., 261.,\n",
      "       294., 317., 333., 333., 294., 222.,  nan,  nan, 267., 300., 317.,\n",
      "       294., 261., 228., 244., 189., 244., 267., 267., 211., 189., 156.,\n",
      "       133., 156., 239., 267., 211., 233., 278., 267., 294., 328., 372.,\n",
      "       372., 339., 300., 350.,  nan, 278., 256., 244., 317., 322., 344.,\n",
      "       344., 322.,  nan, 322., 339., 383., 344., 361., 372., 361., 361.,\n",
      "       322., 278., 294., 317., 389., 406., 406., 378., 372., 350., 361.,\n",
      "       389., 406., 422., 422., 411., 400., 406., 417., 422., 406., 400.,\n",
      "       406., 400., 389., 406., 422., 428., 428., 406., 394., 422., 406.,\n",
      "       378., 406., 394., 394., 389., 394., 411., 417., 406., 389., 394.,\n",
      "       383., 361., 394., 361., 350., 378., 394., 378., 344., 394., 389.,\n",
      "       389., 389., 389., 394., 400., 422., 417., 422., 400., 389., 417.,\n",
      "        nan,  nan,  nan,  nan,  nan, 389., 389., 394., 417., 444., 444.,\n",
      "       450., 461., 428., 422., 411., 406., 400., 278., 283., 361., 361.,\n",
      "       367., 372., 311., 339., 356., 367., 378., 383., 383., 394., 383.,\n",
      "       378., 372., 356., 322., 239., 272., 322., 356., 378., 389., 400.,\n",
      "       394., 394., 400., 350., 267., 306., 333., 350., 350., 350., 367.,\n",
      "       372., 350., 339., 372., 378., 400., 394., 361., 328., 289., 278.,\n",
      "       283., 278., 278., 283., 311., 339.,  nan, 356., 389., 378., 367.,\n",
      "       339., 339., 356., 344., 356., 356., 333., 322., 328., 322., 350.,\n",
      "       322., 311., 222., 244., 244., 200., 167., 167., 206., 161., 150.,\n",
      "       189., 222., 206., 244., 267., 289., 289., 278., 294., 233., 167.,\n",
      "       211., 222., 222., 222., 233., 244., 244., 283., 217., 211., 200.,\n",
      "       256., 256., 244., 244., 222., 233., 239., 206., 144., 111., 144.,\n",
      "       139., 144., 172.,  nan,  nan,  nan,  nan,  nan,  nan,  nan,  nan,\n",
      "        nan,  nan], dtype=float16)]\n",
      "544460\n"
     ]
    },
    {
     "ename": "KeyboardInterrupt",
     "evalue": "",
     "output_type": "error",
     "traceback": [
      "\u001b[0;31m\u001b[0m",
      "\u001b[0;31mKeyboardInterrupt\u001b[0mTraceback (most recent call last)",
      "\u001b[0;32m<ipython-input-59-2a07bc352ea9>\u001b[0m in \u001b[0;36m<module>\u001b[0;34m()\u001b[0m\n\u001b[1;32m     17\u001b[0m \u001b[0;34m\u001b[0m\u001b[0m\n\u001b[1;32m     18\u001b[0m     \u001b[0;31m#get basic statistics\u001b[0m\u001b[0;34m\u001b[0m\u001b[0;34m\u001b[0m\u001b[0m\n\u001b[0;32m---> 19\u001b[0;31m     \u001b[0mSTAT\u001b[0m\u001b[0;34m[\u001b[0m\u001b[0mmeas\u001b[0m\u001b[0;34m]\u001b[0m\u001b[0;34m=\u001b[0m\u001b[0mcomputeOverAllDist\u001b[0m\u001b[0;34m(\u001b[0m\u001b[0mrdd1\u001b[0m\u001b[0;34m)\u001b[0m   \u001b[0;31m# Compute the statistics\u001b[0m\u001b[0;34m\u001b[0m\u001b[0m\n\u001b[0m\u001b[1;32m     20\u001b[0m     \u001b[0mlow1000\u001b[0m \u001b[0;34m=\u001b[0m \u001b[0mSTAT\u001b[0m\u001b[0;34m[\u001b[0m\u001b[0mmeas\u001b[0m\u001b[0;34m]\u001b[0m\u001b[0;34m[\u001b[0m\u001b[0;34m'low1000'\u001b[0m\u001b[0;34m]\u001b[0m  \u001b[0;31m# unpack the extreme values statistics\u001b[0m\u001b[0;34m\u001b[0m\u001b[0m\n\u001b[1;32m     21\u001b[0m     \u001b[0mhigh1000\u001b[0m \u001b[0;34m=\u001b[0m \u001b[0mSTAT\u001b[0m\u001b[0;34m[\u001b[0m\u001b[0mmeas\u001b[0m\u001b[0;34m]\u001b[0m\u001b[0;34m[\u001b[0m\u001b[0;34m'high1000'\u001b[0m\u001b[0;34m]\u001b[0m\u001b[0;34m\u001b[0m\u001b[0m\n",
      "\u001b[0;32m<ipython-input-22-8d9d322aab55>\u001b[0m in \u001b[0;36mcomputeOverAllDist\u001b[0;34m(rdd0)\u001b[0m\n\u001b[1;32m      7\u001b[0m   \u001b[0mUnDef\u001b[0m\u001b[0;34m=\u001b[0m\u001b[0mnp\u001b[0m\u001b[0;34m.\u001b[0m\u001b[0marray\u001b[0m\u001b[0;34m(\u001b[0m\u001b[0mrdd0\u001b[0m\u001b[0;34m.\u001b[0m\u001b[0mmap\u001b[0m\u001b[0;34m(\u001b[0m\u001b[0;32mlambda\u001b[0m \u001b[0mrow\u001b[0m\u001b[0;34m:\u001b[0m\u001b[0msum\u001b[0m\u001b[0;34m(\u001b[0m\u001b[0mnp\u001b[0m\u001b[0;34m.\u001b[0m\u001b[0misnan\u001b[0m\u001b[0;34m(\u001b[0m\u001b[0mrow\u001b[0m\u001b[0;34m)\u001b[0m\u001b[0;34m)\u001b[0m\u001b[0;34m)\u001b[0m\u001b[0;34m.\u001b[0m\u001b[0msample\u001b[0m\u001b[0;34m(\u001b[0m\u001b[0mFalse\u001b[0m\u001b[0;34m,\u001b[0m\u001b[0;36m0.01\u001b[0m\u001b[0;34m)\u001b[0m\u001b[0;34m.\u001b[0m\u001b[0mcollect\u001b[0m\u001b[0;34m(\u001b[0m\u001b[0;34m)\u001b[0m\u001b[0;34m)\u001b[0m\u001b[0;34m\u001b[0m\u001b[0m\n\u001b[1;32m      8\u001b[0m   \u001b[0mflat\u001b[0m\u001b[0;34m=\u001b[0m\u001b[0mrdd0\u001b[0m\u001b[0;34m.\u001b[0m\u001b[0mflatMap\u001b[0m\u001b[0;34m(\u001b[0m\u001b[0;32mlambda\u001b[0m \u001b[0mv\u001b[0m\u001b[0;34m:\u001b[0m\u001b[0mlist\u001b[0m\u001b[0;34m(\u001b[0m\u001b[0mv\u001b[0m\u001b[0;34m)\u001b[0m\u001b[0;34m)\u001b[0m\u001b[0;34m.\u001b[0m\u001b[0mfilter\u001b[0m\u001b[0;34m(\u001b[0m\u001b[0;32mlambda\u001b[0m \u001b[0mx\u001b[0m\u001b[0;34m:\u001b[0m \u001b[0;32mnot\u001b[0m \u001b[0mnp\u001b[0m\u001b[0;34m.\u001b[0m\u001b[0misnan\u001b[0m\u001b[0;34m(\u001b[0m\u001b[0mx\u001b[0m\u001b[0;34m)\u001b[0m\u001b[0;34m)\u001b[0m\u001b[0;34m.\u001b[0m\u001b[0mcache\u001b[0m\u001b[0;34m(\u001b[0m\u001b[0;34m)\u001b[0m\u001b[0;34m\u001b[0m\u001b[0m\n\u001b[0;32m----> 9\u001b[0;31m   \u001b[0mcount\u001b[0m\u001b[0;34m,\u001b[0m\u001b[0mS1\u001b[0m\u001b[0;34m,\u001b[0m\u001b[0mS2\u001b[0m\u001b[0;34m=\u001b[0m\u001b[0mflat\u001b[0m\u001b[0;34m.\u001b[0m\u001b[0mmap\u001b[0m\u001b[0;34m(\u001b[0m\u001b[0;32mlambda\u001b[0m \u001b[0mx\u001b[0m\u001b[0;34m:\u001b[0m \u001b[0mnp\u001b[0m\u001b[0;34m.\u001b[0m\u001b[0mfloat64\u001b[0m\u001b[0;34m(\u001b[0m\u001b[0;34m[\u001b[0m\u001b[0;36m1\u001b[0m\u001b[0;34m,\u001b[0m\u001b[0mx\u001b[0m\u001b[0;34m,\u001b[0m\u001b[0mx\u001b[0m\u001b[0;34m**\u001b[0m\u001b[0;36m2\u001b[0m\u001b[0;34m]\u001b[0m\u001b[0;34m)\u001b[0m\u001b[0;34m)\u001b[0m                  \u001b[0;34m.\u001b[0m\u001b[0mreduce\u001b[0m\u001b[0;34m(\u001b[0m\u001b[0;32mlambda\u001b[0m \u001b[0mx\u001b[0m\u001b[0;34m,\u001b[0m\u001b[0my\u001b[0m\u001b[0;34m:\u001b[0m \u001b[0mx\u001b[0m\u001b[0;34m+\u001b[0m\u001b[0my\u001b[0m\u001b[0;34m)\u001b[0m\u001b[0;34m\u001b[0m\u001b[0m\n\u001b[0m\u001b[1;32m     10\u001b[0m   \u001b[0mmean\u001b[0m\u001b[0;34m=\u001b[0m\u001b[0mS1\u001b[0m\u001b[0;34m/\u001b[0m\u001b[0mcount\u001b[0m\u001b[0;34m\u001b[0m\u001b[0m\n\u001b[1;32m     11\u001b[0m   \u001b[0mstd\u001b[0m\u001b[0;34m=\u001b[0m\u001b[0mnp\u001b[0m\u001b[0;34m.\u001b[0m\u001b[0msqrt\u001b[0m\u001b[0;34m(\u001b[0m\u001b[0mS2\u001b[0m\u001b[0;34m/\u001b[0m\u001b[0mcount\u001b[0m\u001b[0;34m-\u001b[0m\u001b[0mmean\u001b[0m\u001b[0;34m**\u001b[0m\u001b[0;36m2\u001b[0m\u001b[0;34m)\u001b[0m\u001b[0;34m\u001b[0m\u001b[0m\n",
      "\u001b[0;32m/usr/lib/spark/python/pyspark/rdd.py\u001b[0m in \u001b[0;36mreduce\u001b[0;34m(self, f)\u001b[0m\n\u001b[1;32m    833\u001b[0m             \u001b[0;32myield\u001b[0m \u001b[0mreduce\u001b[0m\u001b[0;34m(\u001b[0m\u001b[0mf\u001b[0m\u001b[0;34m,\u001b[0m \u001b[0miterator\u001b[0m\u001b[0;34m,\u001b[0m \u001b[0minitial\u001b[0m\u001b[0;34m)\u001b[0m\u001b[0;34m\u001b[0m\u001b[0m\n\u001b[1;32m    834\u001b[0m \u001b[0;34m\u001b[0m\u001b[0m\n\u001b[0;32m--> 835\u001b[0;31m         \u001b[0mvals\u001b[0m \u001b[0;34m=\u001b[0m \u001b[0mself\u001b[0m\u001b[0;34m.\u001b[0m\u001b[0mmapPartitions\u001b[0m\u001b[0;34m(\u001b[0m\u001b[0mfunc\u001b[0m\u001b[0;34m)\u001b[0m\u001b[0;34m.\u001b[0m\u001b[0mcollect\u001b[0m\u001b[0;34m(\u001b[0m\u001b[0;34m)\u001b[0m\u001b[0;34m\u001b[0m\u001b[0m\n\u001b[0m\u001b[1;32m    836\u001b[0m         \u001b[0;32mif\u001b[0m \u001b[0mvals\u001b[0m\u001b[0;34m:\u001b[0m\u001b[0;34m\u001b[0m\u001b[0m\n\u001b[1;32m    837\u001b[0m             \u001b[0;32mreturn\u001b[0m \u001b[0mreduce\u001b[0m\u001b[0;34m(\u001b[0m\u001b[0mf\u001b[0m\u001b[0;34m,\u001b[0m \u001b[0mvals\u001b[0m\u001b[0;34m)\u001b[0m\u001b[0;34m\u001b[0m\u001b[0m\n",
      "\u001b[0;32m/usr/lib/spark/python/pyspark/rdd.py\u001b[0m in \u001b[0;36mcollect\u001b[0;34m(self)\u001b[0m\n\u001b[1;32m    807\u001b[0m         \"\"\"\n\u001b[1;32m    808\u001b[0m         \u001b[0;32mwith\u001b[0m \u001b[0mSCCallSiteSync\u001b[0m\u001b[0;34m(\u001b[0m\u001b[0mself\u001b[0m\u001b[0;34m.\u001b[0m\u001b[0mcontext\u001b[0m\u001b[0;34m)\u001b[0m \u001b[0;32mas\u001b[0m \u001b[0mcss\u001b[0m\u001b[0;34m:\u001b[0m\u001b[0;34m\u001b[0m\u001b[0m\n\u001b[0;32m--> 809\u001b[0;31m             \u001b[0mport\u001b[0m \u001b[0;34m=\u001b[0m \u001b[0mself\u001b[0m\u001b[0;34m.\u001b[0m\u001b[0mctx\u001b[0m\u001b[0;34m.\u001b[0m\u001b[0m_jvm\u001b[0m\u001b[0;34m.\u001b[0m\u001b[0mPythonRDD\u001b[0m\u001b[0;34m.\u001b[0m\u001b[0mcollectAndServe\u001b[0m\u001b[0;34m(\u001b[0m\u001b[0mself\u001b[0m\u001b[0;34m.\u001b[0m\u001b[0m_jrdd\u001b[0m\u001b[0;34m.\u001b[0m\u001b[0mrdd\u001b[0m\u001b[0;34m(\u001b[0m\u001b[0;34m)\u001b[0m\u001b[0;34m)\u001b[0m\u001b[0;34m\u001b[0m\u001b[0m\n\u001b[0m\u001b[1;32m    810\u001b[0m         \u001b[0;32mreturn\u001b[0m \u001b[0mlist\u001b[0m\u001b[0;34m(\u001b[0m\u001b[0m_load_from_socket\u001b[0m\u001b[0;34m(\u001b[0m\u001b[0mport\u001b[0m\u001b[0;34m,\u001b[0m \u001b[0mself\u001b[0m\u001b[0;34m.\u001b[0m\u001b[0m_jrdd_deserializer\u001b[0m\u001b[0;34m)\u001b[0m\u001b[0;34m)\u001b[0m\u001b[0;34m\u001b[0m\u001b[0m\n\u001b[1;32m    811\u001b[0m \u001b[0;34m\u001b[0m\u001b[0m\n",
      "\u001b[0;32m/usr/lib/spark/python/lib/py4j-src.zip/py4j/java_gateway.py\u001b[0m in \u001b[0;36m__call__\u001b[0;34m(self, *args)\u001b[0m\n\u001b[1;32m   1129\u001b[0m             \u001b[0mproto\u001b[0m\u001b[0;34m.\u001b[0m\u001b[0mEND_COMMAND_PART\u001b[0m\u001b[0;34m\u001b[0m\u001b[0m\n\u001b[1;32m   1130\u001b[0m \u001b[0;34m\u001b[0m\u001b[0m\n\u001b[0;32m-> 1131\u001b[0;31m         \u001b[0manswer\u001b[0m \u001b[0;34m=\u001b[0m \u001b[0mself\u001b[0m\u001b[0;34m.\u001b[0m\u001b[0mgateway_client\u001b[0m\u001b[0;34m.\u001b[0m\u001b[0msend_command\u001b[0m\u001b[0;34m(\u001b[0m\u001b[0mcommand\u001b[0m\u001b[0;34m)\u001b[0m\u001b[0;34m\u001b[0m\u001b[0m\n\u001b[0m\u001b[1;32m   1132\u001b[0m         return_value = get_return_value(\n\u001b[1;32m   1133\u001b[0m             answer, self.gateway_client, self.target_id, self.name)\n",
      "\u001b[0;32m/usr/lib/spark/python/lib/py4j-src.zip/py4j/java_gateway.py\u001b[0m in \u001b[0;36msend_command\u001b[0;34m(self, command, retry, binary)\u001b[0m\n\u001b[1;32m    881\u001b[0m         \u001b[0mconnection\u001b[0m \u001b[0;34m=\u001b[0m \u001b[0mself\u001b[0m\u001b[0;34m.\u001b[0m\u001b[0m_get_connection\u001b[0m\u001b[0;34m(\u001b[0m\u001b[0;34m)\u001b[0m\u001b[0;34m\u001b[0m\u001b[0m\n\u001b[1;32m    882\u001b[0m         \u001b[0;32mtry\u001b[0m\u001b[0;34m:\u001b[0m\u001b[0;34m\u001b[0m\u001b[0m\n\u001b[0;32m--> 883\u001b[0;31m             \u001b[0mresponse\u001b[0m \u001b[0;34m=\u001b[0m \u001b[0mconnection\u001b[0m\u001b[0;34m.\u001b[0m\u001b[0msend_command\u001b[0m\u001b[0;34m(\u001b[0m\u001b[0mcommand\u001b[0m\u001b[0;34m)\u001b[0m\u001b[0;34m\u001b[0m\u001b[0m\n\u001b[0m\u001b[1;32m    884\u001b[0m             \u001b[0;32mif\u001b[0m \u001b[0mbinary\u001b[0m\u001b[0;34m:\u001b[0m\u001b[0;34m\u001b[0m\u001b[0m\n\u001b[1;32m    885\u001b[0m                 \u001b[0;32mreturn\u001b[0m \u001b[0mresponse\u001b[0m\u001b[0;34m,\u001b[0m \u001b[0mself\u001b[0m\u001b[0;34m.\u001b[0m\u001b[0m_create_connection_guard\u001b[0m\u001b[0;34m(\u001b[0m\u001b[0mconnection\u001b[0m\u001b[0;34m)\u001b[0m\u001b[0;34m\u001b[0m\u001b[0m\n",
      "\u001b[0;32m/usr/lib/spark/python/lib/py4j-src.zip/py4j/java_gateway.py\u001b[0m in \u001b[0;36msend_command\u001b[0;34m(self, command)\u001b[0m\n\u001b[1;32m   1026\u001b[0m \u001b[0;34m\u001b[0m\u001b[0m\n\u001b[1;32m   1027\u001b[0m         \u001b[0;32mtry\u001b[0m\u001b[0;34m:\u001b[0m\u001b[0;34m\u001b[0m\u001b[0m\n\u001b[0;32m-> 1028\u001b[0;31m             \u001b[0manswer\u001b[0m \u001b[0;34m=\u001b[0m \u001b[0msmart_decode\u001b[0m\u001b[0;34m(\u001b[0m\u001b[0mself\u001b[0m\u001b[0;34m.\u001b[0m\u001b[0mstream\u001b[0m\u001b[0;34m.\u001b[0m\u001b[0mreadline\u001b[0m\u001b[0;34m(\u001b[0m\u001b[0;34m)\u001b[0m\u001b[0;34m[\u001b[0m\u001b[0;34m:\u001b[0m\u001b[0;34m-\u001b[0m\u001b[0;36m1\u001b[0m\u001b[0;34m]\u001b[0m\u001b[0;34m)\u001b[0m\u001b[0;34m\u001b[0m\u001b[0m\n\u001b[0m\u001b[1;32m   1029\u001b[0m             \u001b[0mlogger\u001b[0m\u001b[0;34m.\u001b[0m\u001b[0mdebug\u001b[0m\u001b[0;34m(\u001b[0m\u001b[0;34m\"Answer received: {0}\"\u001b[0m\u001b[0;34m.\u001b[0m\u001b[0mformat\u001b[0m\u001b[0;34m(\u001b[0m\u001b[0manswer\u001b[0m\u001b[0;34m)\u001b[0m\u001b[0;34m)\u001b[0m\u001b[0;34m\u001b[0m\u001b[0m\n\u001b[1;32m   1030\u001b[0m             \u001b[0;32mif\u001b[0m \u001b[0manswer\u001b[0m\u001b[0;34m.\u001b[0m\u001b[0mstartswith\u001b[0m\u001b[0;34m(\u001b[0m\u001b[0mproto\u001b[0m\u001b[0;34m.\u001b[0m\u001b[0mRETURN_MESSAGE\u001b[0m\u001b[0;34m)\u001b[0m\u001b[0;34m:\u001b[0m\u001b[0;34m\u001b[0m\u001b[0m\n",
      "\u001b[0;32m/mnt/anaconda/envs/ipykernel_py2/lib/python2.7/socket.pyc\u001b[0m in \u001b[0;36mreadline\u001b[0;34m(self, size)\u001b[0m\n\u001b[1;32m    449\u001b[0m             \u001b[0;32mwhile\u001b[0m \u001b[0mTrue\u001b[0m\u001b[0;34m:\u001b[0m\u001b[0;34m\u001b[0m\u001b[0m\n\u001b[1;32m    450\u001b[0m                 \u001b[0;32mtry\u001b[0m\u001b[0;34m:\u001b[0m\u001b[0;34m\u001b[0m\u001b[0m\n\u001b[0;32m--> 451\u001b[0;31m                     \u001b[0mdata\u001b[0m \u001b[0;34m=\u001b[0m \u001b[0mself\u001b[0m\u001b[0;34m.\u001b[0m\u001b[0m_sock\u001b[0m\u001b[0;34m.\u001b[0m\u001b[0mrecv\u001b[0m\u001b[0;34m(\u001b[0m\u001b[0mself\u001b[0m\u001b[0;34m.\u001b[0m\u001b[0m_rbufsize\u001b[0m\u001b[0;34m)\u001b[0m\u001b[0;34m\u001b[0m\u001b[0m\n\u001b[0m\u001b[1;32m    452\u001b[0m                 \u001b[0;32mexcept\u001b[0m \u001b[0merror\u001b[0m\u001b[0;34m,\u001b[0m \u001b[0me\u001b[0m\u001b[0;34m:\u001b[0m\u001b[0;34m\u001b[0m\u001b[0m\n\u001b[1;32m    453\u001b[0m                     \u001b[0;32mif\u001b[0m \u001b[0me\u001b[0m\u001b[0;34m.\u001b[0m\u001b[0margs\u001b[0m\u001b[0;34m[\u001b[0m\u001b[0;36m0\u001b[0m\u001b[0;34m]\u001b[0m \u001b[0;34m==\u001b[0m \u001b[0mEINTR\u001b[0m\u001b[0;34m:\u001b[0m\u001b[0;34m\u001b[0m\u001b[0m\n",
      "\u001b[0;31mKeyboardInterrupt\u001b[0m: "
     ]
    }
   ],
   "source": [
    "# collect all of the statistics in STAT[meas]\n",
    "STAT[meas]['eigval']=eigval\n",
    "STAT[meas]['eigvec']=eigvec\n",
    "STAT[meas].update(OUT)\n",
    "\n",
    "# print summary of statistics\n",
    "print 'the statistics for %s consists of:'%meas\n",
    "for key in STAT[meas].keys():\n",
    "    e=STAT[meas][key]\n",
    "    if type(e)==list:\n",
    "      print key,'list',len(e)\n",
    "    elif type(e)==np.ndarray:\n",
    "      print key,'ndarray',e.shape\n",
    "    elif type(e)==np.float64:\n",
    "      print key,'scalar'\n",
    "    else:\n",
    "      print key,'Error type=',type(e)\n",
    "print 'time for',meas,'is',time()-t\n",
    "break"
   ]
  },
  {
   "cell_type": "code",
   "execution_count": null,
   "metadata": {
    "collapsed": true,
    "slideshow": {
     "slide_type": "subslide"
    }
   },
   "outputs": [],
   "source": [
    "from pickle import dump\n",
    "def dumpS3(object,S3dir,filename):\n",
    "    dump(object,open(filename,'wb'))\n",
    "    !ls -l $filename\n",
    "    s3helper.local_to_s3(filename, S3dir+filename)\n",
    "dumpS3((STAT,STAT_Descriptions),'/Weather/','STAT1.pickle')\n"
   ]
  },
  {
   "cell_type": "code",
   "execution_count": null,
   "metadata": {
    "collapsed": true
   },
   "outputs": [],
   "source": [
    "STAT.keys()"
   ]
  },
  {
   "cell_type": "markdown",
   "metadata": {
    "slideshow": {
     "slide_type": "slide"
    }
   },
   "source": [
    "### Sample Stations\n",
    "Generate a sample of stations, for each one store all available year X measurement pairs."
   ]
  },
  {
   "cell_type": "code",
   "execution_count": null,
   "metadata": {
    "collapsed": true,
    "slideshow": {
     "slide_type": "fragment"
    }
   },
   "outputs": [],
   "source": [
    "rdd0.take(10) # test output"
   ]
  },
  {
   "cell_type": "code",
   "execution_count": null,
   "metadata": {
    "collapsed": true,
    "slideshow": {
     "slide_type": "subslide"
    }
   },
   "outputs": [],
   "source": [
    "groups=rdd0.groupByKey().cache()\n",
    "print 'number of stations=',groups.count()\n",
    "\n",
    "groups1=groups.sample(False,0.01).collect()\n",
    "groups2=[(g[0],[e for e in g[1]]) for g in groups1]\n",
    "\n",
    "dumpS3(groups2,'/Weather/','SampleStations.pickle')"
   ]
  },
  {
   "cell_type": "code",
   "execution_count": null,
   "metadata": {
    "collapsed": true,
    "slideshow": {
     "slide_type": "subslide"
    }
   },
   "outputs": [],
   "source": [
    "group_Sample=rdd0.sample(False,0.001).groupByKey().mapValues(list).cache()\n",
    "group_Sample.first()"
   ]
  },
  {
   "cell_type": "code",
   "execution_count": null,
   "metadata": {
    "collapsed": true,
    "slideshow": {
     "slide_type": "subslide"
    }
   },
   "outputs": [],
   "source": [
    "Means=rdd0.aggregateByKey((np.zeros(365),1),\\\n",
    "                          lambda S,D: sumWithNan(S,(D[1],1)),\\\n",
    "                          lambda S1,S2: sumWithNanithNan(S1,S2))\\\n",
    ".cache()#.repartition(N)"
   ]
  },
  {
   "cell_type": "code",
   "execution_count": null,
   "metadata": {
    "collapsed": true,
    "scrolled": true,
    "slideshow": {
     "slide_type": "skip"
    }
   },
   "outputs": [],
   "source": [
    "Means.take(5)"
   ]
  },
  {
   "cell_type": "code",
   "execution_count": null,
   "metadata": {
    "collapsed": true,
    "slideshow": {
     "slide_type": "subslide"
    }
   },
   "outputs": [],
   "source": [
    "groups=rdd0.groupByKey().cache()\n",
    "print 'number of stations=',groups.count()\n"
   ]
  },
  {
   "cell_type": "code",
   "execution_count": null,
   "metadata": {
    "collapsed": true
   },
   "outputs": [],
   "source": []
  }
 ],
 "metadata": {
  "anaconda-cloud": {},
  "celltoolbar": "Slideshow",
  "kernelspec": {
   "display_name": "Python 2",
   "language": "python",
   "name": "python2"
  },
  "language_info": {
   "codemirror_mode": {
    "name": "ipython",
    "version": 2
   },
   "file_extension": ".py",
   "mimetype": "text/x-python",
   "name": "python",
   "nbconvert_exporter": "python",
   "pygments_lexer": "ipython2",
   "version": "2.7.13"
  },
  "name": "PCA_using_numpy for HW3",
  "notebookId": 85286,
  "toc": {
   "nav_menu": {},
   "number_sections": true,
   "sideBar": true,
   "skip_h1_title": false,
   "title_cell": "Table of Contents",
   "title_sidebar": "Contents",
   "toc_cell": false,
   "toc_position": {},
   "toc_section_display": true,
   "toc_window_display": false
  }
 },
 "nbformat": 4,
 "nbformat_minor": 1
}
