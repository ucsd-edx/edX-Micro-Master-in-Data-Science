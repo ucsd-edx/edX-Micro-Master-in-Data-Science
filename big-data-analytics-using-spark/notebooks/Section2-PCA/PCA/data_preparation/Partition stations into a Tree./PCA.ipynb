{
 "metadata": {
  "name": "",
  "signature": "sha256:44c932d5f547b51f78ec9335af5d92d4b8bff19ea9ec0047eb3ddab1d81bfa50"
 },
 "nbformat": 3,
 "nbformat_minor": 0,
 "worksheets": [
  {
   "cells": [
    {
     "cell_type": "code",
     "collapsed": false,
     "input": [
      "!ls *.py"
     ],
     "language": "python",
     "metadata": {},
     "outputs": [
      {
       "output_type": "stream",
       "stream": "stdout",
       "text": [
        "ECatch.py              \u001b[31mStatistics.py\u001b[m\u001b[m          mr_weather.py          \u001b[31mreduce-year-temp.py\u001b[m\u001b[m\r\n",
        "Stations_Statistics.py \u001b[31mmap-year-temp.py\u001b[m\u001b[m       mr_word_freq_count.py\r\n"
       ]
      }
     ],
     "prompt_number": 1
    },
    {
     "cell_type": "code",
     "collapsed": false,
     "input": [
      "%load Statistics.py"
     ],
     "language": "python",
     "metadata": {},
     "outputs": [],
     "prompt_number": 2
    },
    {
     "cell_type": "code",
     "collapsed": false,
     "input": [
      "%%writefile Statistics2.py\n",
      "\"\"\"\n",
      "A module for computing simple statistics - mean, variance, covariance\n",
      "s1: First order Statistics for a matrix random variable (a numpy array)\n",
      "s2: Second order Statistics for a vector random variable.\n",
      "\"\"\"\n",
      "from numpy import *\n",
      "import numpy as np\n",
      "from random import random\n",
      "import sys,copy,traceback\n",
      "import pandas as pd\n",
      "\n",
      "class s:\n",
      "    \"\"\" compute the mean of matrices (have to be of same size) \"\"\"\n",
      "    def __init__(self,mat):\n",
      "        self.reset(mat)\n",
      "        \n",
      "    def reset(self,mat):\n",
      "        self.n=pd.DataFrame(data=zeros(shape(mat)))\n",
      "        self.sum=pd.DataFrame(data=zeros(shape(mat)))\n",
      "        \n",
      "    def accum(self,value):\n",
      "        \"\"\" Add a value to the statistics \"\"\"\n",
      "\n",
      "        if type(value)!=pd.core.frame.DataFrame:\n",
      "            value=pd.DataFrame(data=value)\n",
      " \n",
      "        if shape(value) != shape(self.sum):\n",
      "            raise Exception('in s.accum: shape of value:'+str(shape(value))+\\\n",
      "                            ' is not equal to shape of sum:'+str(shape(self.sum)))\n",
      "        self.sum+=value.fillna(0)\n",
      "        self.n+=(1-isnan(value))\n",
      "\n",
      "    def compute(self):\n",
      "        \"\"\" Returns the counts and the means for each entry \"\"\"\n",
      "        self.mean = self.sum / self.n\n",
      "        return (self.n,self.mean)\n",
      "\n",
      "    def add(self,other):\n",
      "        \"\"\" add two statistics \"\"\"\n",
      "        self.n += other.n\n",
      "        self.sum += other.sum\n",
      "        \n",
      "    def to_lists(self):\n",
      "        return {'n':self.n.values.tolist(),\\\n",
      "                'sum':self.sum.values.tolist()}\n",
      "\n",
      "    def from_lists(self,D):\n",
      "        self.n=pd.DataFrame(data=D['n'])\n",
      "        self.sum=pd.DataFrame(data=D['sum'])\n",
      "\n",
      "class VecStat:\n",
      "    \"\"\" Compute first and second order statistics of vectors of a fixed size n \"\"\"\n",
      "    def __init__(self,n):\n",
      "        self.n=n\n",
      "        self.reset()\n",
      "        # Create a vector of length n and a matrix of size nXn\n",
      " \n",
      "    def reset(self):\n",
      "        n=self.n\n",
      "        self.V=s(zeros(n))\n",
      "        self.Cov=s(zeros([n,n]))\n",
      "        \n",
      "    def accum(self,U):\n",
      "        \"\"\" accumulate statistics:\n",
      "        U: an numpy array holding one vector\n",
      "        \"\"\"\n",
      "        #check the length of U\n",
      "        if len(U) != self.n :\n",
      "            error='in Statistics.secOrdStat.accum: length of V='+str(self.n)+' not equal to length of U='+str(U.n)+'/n'\n",
      "            sys.stderr.write(error)\n",
      "            raise StandardError, error\n",
      "        #check if U has the correct type\n",
      "        if type(U) != ndarray:\n",
      "            error='in Statistics.secOrdStat.accum: type of U='+str(type(U))+', it should be numpy.ndarray'\n",
      "            sys.stderr.write(error)\n",
      "            raise StandardError, error\n",
      "        else:\n",
      "            #do the work\n",
      "            self.V.accum(U)\n",
      "            self.Cov.accum(outer(U,U))\n",
      "            \n",
      "    def compute(self,k=5):\n",
      "        \"\"\"\n",
      "        Compute the statistics. k (default 5) is the number of eigenvalues that are kept\n",
      "        \"\"\"\n",
      "\n",
      "        # Compute mean vector\n",
      "        (countV,meanV)=self.V.compute()\n",
      "\n",
      "        # Compute covariance matrix\n",
      "        (countC,meanC)=self.Cov.compute()\n",
      "        cov=meanC-outer(meanV,meanV)\n",
      "        std=[cov.ix[i,i] for i in range(shape(self.Cov.sum)[0])]\n",
      "        try:\n",
      "            (eigvalues,eigvectors)=linalg.eig(cov)\n",
      "            order=argsort(-abs(eigvalues))\t# indexes of eigenvalues from largest to smallest\n",
      "            eigvalues=eigvalues[order]\t\t# order eigenvalues\n",
      "            eigvectors=eigvectors[order]\t# order eigenvectors\n",
      "            eigvectors=eigvectors[1:k]\t\t# keep only top k eigen-vectors\n",
      "            for v in eigvectors:\n",
      "                v=v[order]     # order the elements in each eigenvector\n",
      "\n",
      "        except Exception,e:\n",
      "            exc_type, exc_value, exc_traceback = sys.exc_info()\n",
      "            traceback.print_exception(exc_type, exc_value, exc_traceback,limit=2, file=sys.stderr)\n",
      "            \n",
      "            eigvalues=None\n",
      "            eigvectors=None\n",
      "        return {'count':self.V.n,'mean':meanV,'std':std,'eigvalues':eigvalues,'eigvectors':eigvectors}\n",
      "        \n",
      "    def add(self, other):\n",
      "        \"\"\" add the statistics of s into self \"\"\"\n",
      "        self.V.add(other.V)\n",
      "        self.Cov.add(other.Cov)\n",
      "        \n",
      "    def to_lists(self):\n",
      "        return {'V':self.V.to_lists(),\n",
      "                'Cov':self.Cov.to_lists()}\n",
      "\n",
      "    def from_lists(self,D):\n",
      "        self.V.from_lists(D['V'])\n",
      "        self.Cov.from_lists(D['Cov'])\n",
      "        self.n=len(self.V.sum)"
     ],
     "language": "python",
     "metadata": {},
     "outputs": [
      {
       "output_type": "stream",
       "stream": "stdout",
       "text": [
        "Overwriting Statistics2.py\n"
       ]
      }
     ],
     "prompt_number": 308
    },
    {
     "cell_type": "code",
     "collapsed": false,
     "input": [
      "U=np.array([1,2,nan,4,5])\n",
      "np.outer(U,U)"
     ],
     "language": "python",
     "metadata": {},
     "outputs": [
      {
       "metadata": {},
       "output_type": "pyout",
       "prompt_number": 268,
       "text": [
        "array([[  1.,   2.,  nan,   4.,   5.],\n",
        "       [  2.,   4.,  nan,   8.,  10.],\n",
        "       [ nan,  nan,  nan,  nan,  nan],\n",
        "       [  4.,   8.,  nan,  16.,  20.],\n",
        "       [  5.,  10.,  nan,  20.,  25.]])"
       ]
      }
     ],
     "prompt_number": 268
    },
    {
     "cell_type": "code",
     "collapsed": false,
     "input": [
      "pd.DataFrame(data=[[1,2],[3,4]]).values.tolist()"
     ],
     "language": "python",
     "metadata": {},
     "outputs": [
      {
       "metadata": {},
       "output_type": "pyout",
       "prompt_number": 302,
       "text": [
        "[[1, 2], [3, 4]]"
       ]
      }
     ],
     "prompt_number": 302
    },
    {
     "cell_type": "code",
     "collapsed": false,
     "input": [],
     "language": "python",
     "metadata": {},
     "outputs": []
    }
   ],
   "metadata": {}
  }
 ]
}