{
 "metadata": {
  "name": "",
  "signature": "sha256:5fda5bc3b41ced28ff6d894fdd7f062fdb2fb1725283a683a7bf4fa57000474c"
 },
 "nbformat": 3,
 "nbformat_minor": 0,
 "worksheets": [
  {
   "cells": [
    {
     "cell_type": "code",
     "collapsed": false,
     "input": [
      "!ls -lrt ../../data/weather/"
     ],
     "language": "python",
     "metadata": {},
     "outputs": [
      {
       "output_type": "stream",
       "stream": "stdout",
       "text": [
        "total 210664\r\n",
        "-rw-r--r--  1 yoavfreund  staff   8022358 Apr  7 14:23 SAMPLE_TMAX.csv.old.gz\r\n",
        "-rw-r--r--  1 yoavfreund  staff       270 Apr 15 09:04 ghcnd-version.txt\r\n",
        "-rw-r--r--  1 yoavfreund  staff   7760844 Apr 15 09:04 ghcnd-stations_buffered.txt\r\n",
        "-rw-r--r--  1 yoavfreund  staff   7334424 Apr 15 09:04 ghcnd-stations.txt\r\n",
        "-rw-r--r--  1 yoavfreund  staff     22422 Apr 15 09:04 ghcnd-readme.txt\r\n",
        "-rw-r--r--  1 yoavfreund  staff       218 Apr 15 09:04 data-source.txt\r\n",
        "-rw-r--r--  1 yoavfreund  staff  26114979 Apr 15 09:04 SAMPLE_TMAX.csv\r\n",
        "-rw-r--r--  1 yoavfreund  staff    858960 May 10 12:59 ALL.head.csv\r\n",
        "-rw-r--r--  1 yoavfreund  staff    858960 May 16 18:06 ALL.corrupted.csv~\r\n",
        "-rw-r--r--  1 yoavfreund  staff    858961 May 16 18:07 ALL.corrupted.csv\r\n",
        "-rw-r--r--  1 yoavfreund  staff     13101 Jun  2 22:17 TMAX.10.csv\r\n",
        "-rw-r--r--  1 yoavfreund  staff         0 Jun  3 07:51 TMAX.head.csv\r\n",
        "-rw-r--r--  1 yoavfreund  staff  17210265 Jun  5 07:35 Partition_Tree.pkl\r\n",
        "-rw-r--r--@ 1 yoavfreund  503    38779052 Jun  5 10:14 make_covar.raw_256\r\n"
       ]
      }
     ],
     "prompt_number": 1
    },
    {
     "cell_type": "code",
     "collapsed": false,
     "input": [
      "import pickle\n",
      "file=open('../../data/weather/make_covar.raw_256','rb')\n",
      "for line in file.readlines():\n",
      "    key,val=line.split('\\t')\n",
      "    parts = val[1:-1].split(',')\n",
      "    print key,[len(p) for p in parts]\n",
      "file.close()"
     ],
     "language": "python",
     "metadata": {},
     "outputs": [
      {
       "output_type": "stream",
       "stream": "stdout",
       "text": [
        "\"ok\" [4, 19827, 38759212]\n"
       ]
      }
     ],
     "prompt_number": 1
    },
    {
     "cell_type": "code",
     "collapsed": false,
     "input": [
      "import re\n",
      "Match=re.fin(r'\\[(\"([^\"]+)\",?)+\\]',val)\n",
      "print len(Match)"
     ],
     "language": "python",
     "metadata": {},
     "outputs": [
      {
       "ename": "AttributeError",
       "evalue": "'module' object has no attribute 'fin'",
       "output_type": "pyerr",
       "traceback": [
        "\u001b[0;31m---------------------------------------------------------------------------\u001b[0m\n\u001b[0;31mAttributeError\u001b[0m                            Traceback (most recent call last)",
        "\u001b[0;32m<ipython-input-2-dcc36e9b6078>\u001b[0m in \u001b[0;36m<module>\u001b[0;34m()\u001b[0m\n\u001b[1;32m      1\u001b[0m \u001b[0;32mimport\u001b[0m \u001b[0mre\u001b[0m\u001b[0;34m\u001b[0m\u001b[0m\n\u001b[0;32m----> 2\u001b[0;31m \u001b[0mMatch\u001b[0m\u001b[0;34m=\u001b[0m\u001b[0mre\u001b[0m\u001b[0;34m.\u001b[0m\u001b[0mfin\u001b[0m\u001b[0;34m(\u001b[0m\u001b[0;34mr'\\[(\"([^\"]+)\",?)+\\]'\u001b[0m\u001b[0;34m,\u001b[0m\u001b[0mval\u001b[0m\u001b[0;34m)\u001b[0m\u001b[0;34m\u001b[0m\u001b[0m\n\u001b[0m\u001b[1;32m      3\u001b[0m \u001b[0;32mprint\u001b[0m \u001b[0mlen\u001b[0m\u001b[0;34m(\u001b[0m\u001b[0mMatch\u001b[0m\u001b[0;34m)\u001b[0m\u001b[0;34m\u001b[0m\u001b[0m\n",
        "\u001b[0;31mAttributeError\u001b[0m: 'module' object has no attribute 'fin'"
       ]
      }
     ],
     "prompt_number": 2
    },
    {
     "cell_type": "code",
     "collapsed": false,
     "input": [
      "#The format is (\"ok\")\\t(n,dumps(sum(x)),dumns(sum(np.outer(x,x)))"
     ],
     "language": "python",
     "metadata": {},
     "outputs": []
    }
   ],
   "metadata": {}
  }
 ]
}