{
 "metadata": {
  "name": "",
  "signature": "sha256:d2dcd3e7f0bbbc6cb3edb9ea25cb17690415253e188c7584d926277470b267f0"
 },
 "nbformat": 3,
 "nbformat_minor": 0,
 "worksheets": [
  {
   "cells": [
    {
     "cell_type": "code",
     "collapsed": false,
     "input": [
      "!ls -l ../../data/weather/*.pkl"
     ],
     "language": "python",
     "metadata": {},
     "outputs": [
      {
       "output_type": "stream",
       "stream": "stdout",
       "text": [
        "-rw-r--r--  1 yoavfreund  staff  17210265 Jun  5 07:35 ../../data/weather/Partition_Tree.pkl\r\n"
       ]
      }
     ],
     "prompt_number": 16
    },
    {
     "cell_type": "code",
     "collapsed": false,
     "input": [
      "import pickle\n",
      "PTree=pickle.load(open('Partition_Tree.pkl','r'))\n",
      "stations=PTree['Partitioned_Stations']"
     ],
     "language": "python",
     "metadata": {},
     "outputs": [],
     "prompt_number": 34
    },
    {
     "cell_type": "code",
     "collapsed": false,
     "input": [
      "SD=(stations['latitude']>32) & (stations['latitude']<34) &\\\n",
      "   (stations['longitude']>116) & (stations['longitude']<118)\n",
      "sum(SD)"
     ],
     "language": "python",
     "metadata": {},
     "outputs": [
      {
       "metadata": {},
       "output_type": "pyout",
       "prompt_number": 38,
       "text": [
        "1"
       ]
      }
     ],
     "prompt_number": 38
    },
    {
     "cell_type": "code",
     "collapsed": false,
     "input": [
      "[name[:-2] for stations.index.values]"
     ],
     "language": "python",
     "metadata": {},
     "outputs": [
      {
       "metadata": {},
       "output_type": "pyout",
       "prompt_number": 44,
       "text": [
        "array(['AYW00090001', 'AYW00068201', 'AYW00077401', ..., 'CA002400306',\n",
        "       'CA002400305', 'CA002400300'], dtype=object)"
       ]
      }
     ],
     "prompt_number": 44
    },
    {
     "cell_type": "code",
     "collapsed": false,
     "input": [],
     "language": "python",
     "metadata": {},
     "outputs": []
    }
   ],
   "metadata": {}
  }
 ]
}