{
 "metadata": {
  "name": "",
  "signature": "sha256:44e66a41473c3eb1bc4ad7485235949e51e62173ac963e4f7cf20a8662537b76"
 },
 "nbformat": 3,
 "nbformat_minor": 0,
 "worksheets": [
  {
   "cells": [
    {
     "cell_type": "markdown",
     "metadata": {},
     "source": [
      "In this assignment you are asked to analyze the complete weather dataset.\n",
      "\n",
      "\n",
      "### Possible directions, from the general to the specific ###\n",
      "The following questions are meant as starting points, you are encouraged to go beyond them.\n",
      "Remember to describe your work, with words and figures, so that your reviewers, and anybody else, would be able to follow."
     ]
    },
    {
     "cell_type": "markdown",
     "metadata": {},
     "source": [
      "### Coverage and Cleanup ###\n",
      "While the weather data collection is large, its coverage is very uneven. Many active stations exist in the USA and in India, while there are relatively very few in Africa.\n",
      "\n",
      "In this section our goal is to characterize the coverage of the data and to clean it based on the coverage.\n",
      "By *coverage* we mean to identify the geographic locations, times and types of measurements for which we have a lot of data and\n",
      "the parts for which we have only little. By establishing the coverage we identify the types of statistical queries that we can make and the types for which we have too little data.\n",
      "\n",
      "**Heirarchical representation:** When we want to represent sparse data, it is often useful to create a hierarchy:\n",
      "\n",
      "1. **Can we ignore stations with no temperature recordings?** It seems reasonable to assume that any station that has published useful measurements has at least published minimum and maximum termperatures. Can you confirm or deny this?\n",
      "1. **Geographic baseline:** Some parts of the world have a lot of stations and measurements, some very few. Create a hierarchical representation of this data. \n",
      "1. **Measurement Types ** There is a large number of measurements, but most of them occur only rarely. Can you compute and describe:\n",
      "  1. How many times does each type of measurement occur in the database.\n",
      "  1. What fraction of the entries are not empty?"
     ]
    },
    {
     "cell_type": "code",
     "collapsed": false,
     "input": [],
     "language": "python",
     "metadata": {},
     "outputs": []
    }
   ],
   "metadata": {}
  }
 ]
}