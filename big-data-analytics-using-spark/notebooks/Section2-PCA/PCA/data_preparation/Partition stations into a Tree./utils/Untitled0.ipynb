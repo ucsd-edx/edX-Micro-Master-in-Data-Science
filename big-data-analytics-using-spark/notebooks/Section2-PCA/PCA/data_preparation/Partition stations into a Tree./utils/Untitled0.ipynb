{
 "metadata": {
  "name": "",
  "signature": "sha256:ac3f45634bbac4bb730798735e7b532fc52b0836ff6422cb4d1844db926d5e4d"
 },
 "nbformat": 3,
 "nbformat_minor": 0,
 "worksheets": [
  {
   "cells": [
    {
     "cell_type": "code",
     "collapsed": false,
     "input": [
      "%load Admin_flows.py"
     ],
     "language": "python",
     "metadata": {},
     "outputs": [],
     "prompt_number": 2
    },
    {
     "cell_type": "code",
     "collapsed": false,
     "input": [
      "%%writefile ../../mrjob/cluster_configuration/Admin_Flows.py\n",
      "from mrjob.emr import EMRJobRunner\n",
      "def find_all_flows(aws_access_key_id,aws_secret_access_key):\n",
      "    JobRunner = EMRJobRunner(aws_access_key_id=aws_access_key_id,aws_secret_access_key=aws_secret_access_key)\n",
      "    print 'got job runner'\n",
      "    emr_conn = JobRunner.make_emr_conn()\n",
      "    print 'made EMR connection'\n",
      "    return emr_conn.describe_jobflows()\n",
      "\n",
      "import os,sys, pickle\n",
      "dir=os.environ['EC2_VAULT']\n",
      "Creds=pickle.load(open(dir+'/Creds.pkl','rb'))\n",
      "job_flows=find_all_flows(Creds['admin']['key_id'],\\\n",
      "                         Creds['admin']['secret_key'])"
     ],
     "language": "python",
     "metadata": {},
     "outputs": [
      {
       "output_type": "stream",
       "stream": "stdout",
       "text": [
        "Writing ../../mrjob/cluster_configuration/Admin_Flows.py\n"
       ]
      }
     ],
     "prompt_number": 34
    },
    {
     "cell_type": "code",
     "collapsed": false,
     "input": [
      "for job in job_flows:\n",
      "    if job.state in ['RUNNING','WAITING']:\n",
      "        print job,job.name,job.jobflowid,job.state,job.masterpublicdnsname"
     ],
     "language": "python",
     "metadata": {},
     "outputs": [
      {
       "output_type": "stream",
       "stream": "stdout",
       "text": [
        " <boto.emr.emrobject.JobFlow object at 0x109c91550> no_script.yoavfreund.20140525.174308.746673 j-LTOJMJ14G840 RUNNING ec2-54-204-171-181.compute-1.amazonaws.com\n",
        "<boto.emr.emrobject.JobFlow object at 0x109661c10> no_script.yoavfreund.20140525.194233.003342 j-2KCJE554SGITB RUNNING ec2-54-197-201-154.compute-1.amazonaws.com\n",
        "<boto.emr.emrobject.JobFlow object at 0x10925a490> no_script.yoavfreund.20140526.014348.966938 j-6T8VIKMY8RHX WAITING ec2-23-20-62-107.compute-1.amazonaws.com\n",
        "<boto.emr.emrobject.JobFlow object at 0x10925a710> no_script.yoavfreund.20140526.014403.503214 j-31UKS93V80CN7 WAITING ec2-54-225-16-223.compute-1.amazonaws.com\n"
       ]
      }
     ],
     "prompt_number": 32
    },
    {
     "cell_type": "code",
     "collapsed": false,
     "input": [
      "job.masterinstancetype"
     ],
     "language": "python",
     "metadata": {},
     "outputs": [
      {
       "metadata": {},
       "output_type": "pyout",
       "prompt_number": 28,
       "text": [
        "u'm3.xlarge'"
       ]
      }
     ],
     "prompt_number": 28
    },
    {
     "cell_type": "code",
     "collapsed": false,
     "input": [
      "!pwd"
     ],
     "language": "python",
     "metadata": {},
     "outputs": [
      {
       "output_type": "stream",
       "stream": "stdout",
       "text": [
        "/Users/yoavfreund/BigData/UCSD_BigData/utils\r\n"
       ]
      }
     ],
     "prompt_number": 30
    },
    {
     "cell_type": "code",
     "collapsed": false,
     "input": [],
     "language": "python",
     "metadata": {},
     "outputs": []
    }
   ],
   "metadata": {}
  }
 ]
}