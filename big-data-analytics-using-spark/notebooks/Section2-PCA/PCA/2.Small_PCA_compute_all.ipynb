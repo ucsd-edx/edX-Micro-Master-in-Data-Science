{
 "cells": [
  {
   "cell_type": "code",
   "execution_count": 4,
   "metadata": {
    "collapsed": false,
    "deletable": true,
    "editable": true,
    "run_control": {
     "frozen": false,
     "read_only": false
    },
    "slideshow": {
     "slide_type": "skip"
    }
   },
   "outputs": [
    {
     "name": "stdout",
     "output_type": "stream",
     "text": [
      "Number of executors= 8\n"
     ]
    }
   ],
   "source": [
    "#import findspark\n",
    "#findspark.init()\n",
    "from pyspark import SparkContext\n",
    "import pickle\n",
    "from numpy import linalg as LA\n",
    "\n",
    "sc = SparkContext(pyFiles=['lib/numpy_pack.py','lib/spark_PCA.py','lib/computeStats.py'])\n",
    "\n",
    "from pyspark.sql import *\n",
    "sqlContext = SQLContext(sc)\n",
    "\n",
    "from time import time\n",
    "N=sc.defaultParallelism\n",
    "print 'Number of executors=',N"
   ]
  },
  {
   "cell_type": "code",
   "execution_count": 5,
   "metadata": {
    "collapsed": false,
    "deletable": true,
    "editable": true,
    "run_control": {
     "frozen": false,
     "read_only": false
    },
    "slideshow": {
     "slide_type": "skip"
    }
   },
   "outputs": [],
   "source": [
    "import sys\n",
    "sys.path.append('./lib')\n",
    "\n",
    "import numpy as np\n",
    "from numpy_pack import packArray,unpackArray\n",
    "from spark_PCA import computeCov\n",
    "from computeStats import computeOverAllDist, STAT_Descriptions"
   ]
  },
  {
   "cell_type": "code",
   "execution_count": 6,
   "metadata": {
    "collapsed": false
   },
   "outputs": [
    {
     "data": {
      "text/plain": [
       "'SBBSBBSS'"
      ]
     },
     "execution_count": 6,
     "metadata": {},
     "output_type": "execute_result"
    }
   ],
   "source": [
    "def index_to_letters(n):\n",
    "    Letters=['B','S']\n",
    "    out=''\n",
    "    for i in range(8):\n",
    "        out+=Letters[n%2]\n",
    "        n=n/2\n",
    "    return out\n",
    "index_to_letters(201)"
   ]
  },
  {
   "cell_type": "code",
   "execution_count": 13,
   "metadata": {
    "collapsed": false,
    "deletable": true,
    "editable": true,
    "run_control": {
     "frozen": false,
     "read_only": false
    },
    "slideshow": {
     "slide_type": "subslide"
    }
   },
   "outputs": [
    {
     "name": "stdout",
     "output_type": "stream",
     "text": [
      "processing  ../../Data/Weather/STAT_BBBBSBBB.pickle\n",
      "curl https://mas-dse-open.s3.amazonaws.com/Weather/small/US_Weather_BBBBSBBB.csv.gz > ../../Data/Weather/US_Weather_BBBBSBBB.csv.gz\n",
      "  % Total    % Received % Xferd  Average Speed   Time    Time     Time  Current\n",
      "                                 Dload  Upload   Total   Spent    Left  Speed\n",
      "100 4849k  100 4849k    0     0  2013k      0  0:00:02  0:00:02 --:--:-- 2013k\n",
      "-rw-rw-r-- 1 ec2-user ec2-user 4.8M May  1 04:03 ../../Data/Weather/US_Weather_BBBBSBBB.csv.gz\n",
      "12840\n",
      "SELECT * FROM weather\n",
      "\tWHERE measurement = 'TMAX'\n",
      "TMAX 3821\n",
      "shape of E= (365,) shape of NE= (365,)\n",
      "time for TMAX is 14.7317259312\n",
      "SELECT * FROM weather\n",
      "\tWHERE measurement = 'SNOW'\n",
      "SNOW 284\n",
      "shape of E= (365,) shape of NE= (365,)\n",
      "time for SNOW is 3.73427700996\n",
      "SELECT * FROM weather\n",
      "\tWHERE measurement = 'SNWD'\n",
      "SNWD 249\n",
      "shape of E= (365,) shape of NE= (365,)\n",
      "time for SNWD is 3.3807990551\n",
      "SELECT * FROM weather\n",
      "\tWHERE measurement = 'TMIN'\n",
      "TMIN 3797\n",
      "shape of E= (365,) shape of NE= (365,)\n",
      "time for TMIN is 15.7178390026\n",
      "SELECT * FROM weather\n",
      "\tWHERE measurement = 'PRCP'\n",
      "PRCP 4689\n",
      "shape of E= (365,) shape of NE= (365,)\n",
      "time for PRCP is 24.7237949371\n",
      "SELECT * FROM weather\n",
      "\tWHERE measurement = 'TOBS'\n",
      "TOBS 0\n",
      "processing  ../../Data/Weather/STAT_BBBBSBSS.pickle\n",
      "curl https://mas-dse-open.s3.amazonaws.com/Weather/small/US_Weather_BBBBSBSS.csv.gz > ../../Data/Weather/US_Weather_BBBBSBSS.csv.gz\n",
      "  % Total    % Received % Xferd  Average Speed   Time    Time     Time  Current\n",
      "                                 Dload  Upload   Total   Spent    Left  Speed\n",
      "100 4704k  100 4704k    0     0  1290k      0  0:00:03  0:00:02  0:00:01 1290k 0  1657k      0  0:00:02  0:00:02 --:--:-- 1657k\n",
      "-rw-rw-r-- 1 ec2-user ec2-user 4.6M May  1 04:04 ../../Data/Weather/US_Weather_BBBBSBSS.csv.gz\n",
      "12637\n",
      "SELECT * FROM weather\n",
      "\tWHERE measurement = 'TMAX'\n",
      "TMAX 3666\n",
      "shape of E= (365,) shape of NE= (365,)\n",
      "time for TMAX is 14.6676709652\n",
      "SELECT * FROM weather\n",
      "\tWHERE measurement = 'SNOW'\n",
      "SNOW 218\n",
      "shape of E= (365,) shape of NE= (365,)\n",
      "time for SNOW is 2.98909783363\n",
      "SELECT * FROM weather\n",
      "\tWHERE measurement = 'SNWD'\n",
      "SNWD 185\n",
      "shape of E= (365,) shape of NE= (365,)\n",
      "time for SNWD is 2.70406603813\n",
      "SELECT * FROM weather\n",
      "\tWHERE measurement = 'TMIN'\n",
      "TMIN 3669\n",
      "shape of E= (365,) shape of NE= (365,)\n",
      "time for TMIN is 14.466148138\n",
      "SELECT * FROM weather\n",
      "\tWHERE measurement = 'PRCP'\n",
      "PRCP 4893\n",
      "shape of E= (365,) shape of NE= (365,)\n",
      "time for PRCP is 24.6485807896\n",
      "SELECT * FROM weather\n",
      "\tWHERE measurement = 'TOBS'\n",
      "TOBS 6\n"
     ]
    }
   ],
   "source": [
    "import os\n",
    "for index in range(256):\n",
    "    \n",
    "    file_index=index_to_letters(index)\n",
    "\n",
    "    filename=data_dir+'/STAT_%s.pickle'%file_index\n",
    "    if os.path.isfile(filename):\n",
    "        continue\n",
    "    print 'processing ',filename\n",
    "    filebase='US_Weather_%s'%file_index\n",
    "    !rm -rf $data_dir/$filebase*\n",
    "\n",
    "    c_filename=filebase+'.csv.gz'\n",
    "    u_filename=filebase+'.csv'\n",
    "\n",
    "    command=\"curl https://mas-dse-open.s3.amazonaws.com/Weather/small/%s > %s/%s\"%(c_filename,data_dir,c_filename)\n",
    "    print command\n",
    "    !$command\n",
    "    !ls -lh $data_dir/$c_filename\n",
    "\n",
    "    #unzip\n",
    "    !gunzip -c $data_dir/$c_filename > $data_dir/$u_filename\n",
    "    List=pickle.load(open(data_dir+'/'+u_filename,'rb'))\n",
    "    len(List)\n",
    "\n",
    "    df=sqlContext.createDataFrame(List)\n",
    "    print df.count()\n",
    "\n",
    "    measurements=['TMAX', 'SNOW', 'SNWD', 'TMIN', 'PRCP', 'TOBS']\n",
    "\n",
    "    sqlContext.registerDataFrameAsTable(df,'weather') #using older sqlContext instead of newer (V2.0) sparkSession\n",
    "\n",
    "    from numpy import linalg as LA\n",
    "    STAT={}  # dictionary storing the statistics for each measurement\n",
    "    Clean_Tables={}\n",
    "\n",
    "    for meas in measurements:\n",
    "        t=time()\n",
    "        Query=\"SELECT * FROM weather\\n\\tWHERE measurement = '%s'\"%(meas)\n",
    "        print Query\n",
    "        df = sqlContext.sql(Query)\n",
    "        data=df.rdd.map(lambda row: unpackArray(row['vector'],np.float16))\n",
    "        #get very basic statistics\n",
    "        print meas,data.count()\n",
    "        if data.count() <50:\n",
    "            continue\n",
    "        STAT[meas]=computeOverAllDist(data)   # Compute the statistics \n",
    "\n",
    "        # compute covariance matrix\n",
    "        OUT=computeCov(data)\n",
    "\n",
    "        #find PCA decomposition\n",
    "        eigval,eigvec=LA.eig(OUT['Cov'])\n",
    "\n",
    "        # collect all of the statistics in STAT[meas]\n",
    "        STAT[meas]['eigval']=eigval\n",
    "        STAT[meas]['eigvec']=eigvec\n",
    "        STAT[meas].update(OUT)\n",
    "\n",
    "        print 'time for',meas,'is',time()-t\n",
    "\n",
    "    filename=data_dir+'/STAT_%s.pickle'%file_index\n",
    "    pickle.dump((STAT,STAT_Descriptions),open(filename,'wb'))"
   ]
  },
  {
   "cell_type": "code",
   "execution_count": 19,
   "metadata": {
    "collapsed": false,
    "deletable": true,
    "editable": true,
    "run_control": {
     "frozen": false,
     "read_only": false
    }
   },
   "outputs": [
    {
     "data": {
      "text/plain": [
       "208"
      ]
     },
     "execution_count": 19,
     "metadata": {},
     "output_type": "execute_result"
    }
   ],
   "source": [
    "index"
   ]
  },
  {
   "cell_type": "code",
   "execution_count": 22,
   "metadata": {
    "collapsed": false
   },
   "outputs": [
    {
     "data": {
      "text/plain": [
       "'../../Data/Weather/STAT_SSSSSSSS.pickle'"
      ]
     },
     "execution_count": 22,
     "metadata": {},
     "output_type": "execute_result"
    }
   ],
   "source": [
    "filename"
   ]
  },
  {
   "cell_type": "code",
   "execution_count": 24,
   "metadata": {
    "collapsed": false
   },
   "outputs": [
    {
     "data": {
      "text/plain": [
       "True"
      ]
     },
     "execution_count": 24,
     "metadata": {},
     "output_type": "execute_result"
    }
   ],
   "source": [
    "import os\n",
    "os.path.isfile(filename)"
   ]
  },
  {
   "cell_type": "code",
   "execution_count": 2,
   "metadata": {
    "collapsed": false
   },
   "outputs": [
    {
     "name": "stdout",
     "output_type": "stream",
     "text": [
      "/dev/shm/256_STAT_unzipped\n",
      "    256     256    5376\r\n"
     ]
    }
   ],
   "source": [
    "%cd /dev/shm/256_STAT_unzipped\n",
    "!ls | wc"
   ]
  },
  {
   "cell_type": "code",
   "execution_count": 3,
   "metadata": {
    "collapsed": true
   },
   "outputs": [],
   "source": [
    "from pickle import load,dump"
   ]
  },
  {
   "cell_type": "code",
   "execution_count": null,
   "metadata": {
    "collapsed": true
   },
   "outputs": [],
   "source": [
    "filename='STAT_BBBBBBSS.pickle'\n",
    "STAT=load(open(filename,'r'))"
   ]
  },
  {
   "cell_type": "code",
   "execution_count": 10,
   "metadata": {
    "collapsed": false
   },
   "outputs": [
    {
     "data": {
      "text/plain": [
       "['TMIN', 'TOBS', 'TMAX', 'SNOW', 'SNWD', 'PRCP']"
      ]
     },
     "execution_count": 10,
     "metadata": {},
     "output_type": "execute_result"
    }
   ],
   "source": [
    "STAT[0].keys()"
   ]
  },
  {
   "cell_type": "code",
   "execution_count": 24,
   "metadata": {
    "collapsed": false
   },
   "outputs": [
    {
     "name": "stdout",
     "output_type": "stream",
     "text": [
      "Populating the interactive namespace from numpy and matplotlib\n"
     ]
    },
    {
     "name": "stderr",
     "output_type": "stream",
     "text": [
      "/usr/local/lib/python2.7/site-packages/IPython/core/magics/pylab.py:161: UserWarning: pylab import has clobbered these variables: ['load', 'eigvals']\n",
      "`%matplotlib` prevents importing * from pylab and numpy\n",
      "  \"\\n`%matplotlib` prevents importing * from pylab and numpy\"\n"
     ]
    }
   ],
   "source": [
    "%pylab inline"
   ]
  },
  {
   "cell_type": "code",
   "execution_count": 13,
   "metadata": {
    "collapsed": false,
    "scrolled": true
   },
   "outputs": [
    {
     "name": "stdout",
     "output_type": "stream",
     "text": [
      "/dev/shm/256_STAT_unzipped\n",
      "STAT_BSSSSSBB.pickle\n",
      "STAT_BSSSSBSS.pickle\n",
      "STAT_BSSSSBSB.pickle\n",
      "STAT_BSSSSBBS.pickle\n",
      "STAT_BSSSSBBB.pickle\n",
      "STAT_BSSSBSSS.pickle\n",
      "STAT_BSSSBSSB.pickle\n",
      "STAT_BSSSBSBS.pickle\n",
      "STAT_BSSSBSBB.pickle\n",
      "STAT_BSSSBBSS.pickle\n",
      "STAT_BSSSBBSB.pickle\n",
      "STAT_BSSSBBBS.pickle\n",
      "STAT_BSSSBBBB.pickle\n",
      "STAT_BSSBSSSS.pickle\n",
      "STAT_BSSBSSSB.pickle\n",
      "STAT_BSSBSSBS.pickle\n",
      "STAT_BSSBSSBB.pickle\n",
      "STAT_BSSBSBSS.pickle\n",
      "STAT_BSSBSBSB.pickle\n",
      "STAT_BSSBSBBS.pickle\n",
      "STAT_BSSBSBBB.pickle\n",
      "STAT_BSSBBSSS.pickle\n",
      "STAT_BSSBBSSB.pickle\n",
      "STAT_BSSBBSBS.pickle\n",
      "STAT_BSSBBSBB.pickle\n",
      "STAT_BSSBBBSS.pickle\n",
      "STAT_BSSBBBSB.pickle\n",
      "STAT_BSSBBBBS.pickle\n",
      "STAT_BSSBBBBB.pickle\n",
      "STAT_BSBSSSSS.pickle\n",
      "STAT_BSBSSSSB.pickle\n",
      "STAT_BSBSSSBS.pickle\n",
      "STAT_BSBSSSBB.pickle\n",
      "STAT_BSBSSBSS.pickle\n",
      "STAT_BSBSSBSB.pickle\n",
      "STAT_BSBSSBBS.pickle\n",
      "STAT_BSBSSBBB.pickle\n",
      "STAT_BSBSBSSS.pickle\n",
      "STAT_BSBSBSSB.pickle\n",
      "STAT_BSBSBSBS.pickle\n",
      "STAT_BSBSBSBB.pickle\n",
      "STAT_BSBSBBSS.pickle\n",
      "STAT_BSBSBBSB.pickle\n",
      "STAT_BSBSBBBS.pickle\n",
      "STAT_BSBSBBBB.pickle\n",
      "STAT_BSBBSSSS.pickle\n",
      "STAT_BSBBSSSB.pickle\n",
      "STAT_BSBBSSBS.pickle\n",
      "STAT_BSBBSSBB.pickle\n",
      "STAT_BSBBSBSS.pickle\n",
      "STAT_BSBBSBSB.pickle\n",
      "STAT_BSBBSBBS.pickle\n",
      "STAT_BSBBSBBB.pickle\n",
      "STAT_BSBBBSSS.pickle\n",
      "STAT_BSBBBSSB.pickle\n",
      "STAT_BSBBBSBS.pickle\n",
      "STAT_BSBBBSBB.pickle\n",
      "STAT_BSBBBBSS.pickle\n",
      "STAT_BSBBBBSB.pickle\n",
      "STAT_BSBBBBBS.pickle\n",
      "STAT_BSBBBBBB.pickle\n",
      "STAT_BBSSSSSS.pickle\n",
      "STAT_BBSSSSSB.pickle\n",
      "STAT_BBSSSSBS.pickle\n",
      "STAT_BBSSSSBB.pickle\n",
      "STAT_BBSSSBSS.pickle\n",
      "STAT_BBSSSBSB.pickle\n",
      "STAT_BBSSSBBS.pickle\n",
      "STAT_BBSSSBBB.pickle\n",
      "STAT_BBSSBSSS.pickle\n",
      "STAT_BBSSBSSB.pickle\n",
      "STAT_BBSSBSBS.pickle\n",
      "STAT_BBSSBSBB.pickle\n",
      "STAT_BBSSBBSS.pickle\n",
      "STAT_BBSSBBSB.pickle\n",
      "STAT_BBSSBBBS.pickle\n",
      "STAT_BBSSBBBB.pickle\n",
      "STAT_BBSBSSSS.pickle\n",
      "STAT_BBSBSSSB.pickle\n",
      "STAT_BBSBSSBS.pickle\n",
      "STAT_BBSBSSBB.pickle\n",
      "STAT_BBSBSBSS.pickle\n",
      "STAT_BBSBSBSB.pickle\n",
      "STAT_BBSBSBBS.pickle\n",
      "STAT_BBSBSBBB.pickle\n",
      "STAT_BBSBBSSS.pickle\n",
      "STAT_BBSBBSSB.pickle\n",
      "STAT_BBSBBSBS.pickle\n",
      "STAT_BBSBBSBB.pickle\n",
      "STAT_BBSBBBSS.pickle\n",
      "STAT_BBSBBBSB.pickle\n",
      "STAT_BBSBBBBS.pickle\n",
      "STAT_BBSBBBBB.pickle\n",
      "STAT_BBBSSSSS.pickle\n",
      "STAT_BBBSSSSB.pickle\n",
      "STAT_BBBSSSBS.pickle\n",
      "STAT_BBBSSSBB.pickle\n",
      "STAT_BBBSSBSS.pickle\n",
      "STAT_BBBSSBSB.pickle\n",
      "STAT_BBBSSBBS.pickle\n",
      "STAT_BBBSSBBB.pickle\n",
      "STAT_BBBSBSSS.pickle\n",
      "STAT_BBBSBSSB.pickle\n",
      "STAT_BBBSBSBS.pickle\n",
      "STAT_BBBSBSBB.pickle\n",
      "STAT_BBBSBBSS.pickle\n",
      "STAT_BBBSBBSB.pickle\n",
      "STAT_BBBSBBBS.pickle\n",
      "STAT_BBBSBBBB.pickle\n",
      "STAT_BBBBSSSS.pickle\n",
      "STAT_BBBBSSSB.pickle\n",
      "STAT_BBBBSSBS.pickle\n",
      "STAT_BBBBSSBB.pickle\n",
      "STAT_BBBBSBSS.pickle\n",
      "STAT_BBBBSBSB.pickle\n",
      "STAT_BBBBSBBS.pickle\n",
      "STAT_BBBBSBBB.pickle\n",
      "STAT_BBBBBSSS.pickle\n",
      "STAT_BBBBBSSB.pickle\n",
      "STAT_BBBBBSBS.pickle\n",
      "STAT_BBBBBSBB.pickle\n",
      "STAT_BBBBBBSS.pickle\n",
      "STAT_BBBBBBSB.pickle\n",
      "STAT_BBBBBBBS.pickle\n",
      "STAT_BBBBBBBB.pickle\n",
      "STAT_SSBBSSSS.pickle\n",
      "STAT_SBBBBSBS.pickle\n",
      "STAT_SSBBBBBS.pickle\n",
      "STAT_SBSBBSSB.pickle\n",
      "STAT_SSBSSSBS.pickle\n",
      "STAT_SSBSBBSB.pickle\n",
      "STAT_SBSBSBBS.pickle\n",
      "STAT_SBSBBBSB.pickle\n",
      "STAT_SSBBSSBS.pickle\n",
      "STAT_SSBSSBSB.pickle\n",
      "STAT_SSBSBBBS.pickle\n",
      "STAT_SBBSSSBB.pickle\n",
      "STAT_SBSSBBBS.pickle\n",
      "STAT_SBSSSBBB.pickle\n",
      "STAT_SSSSBSSS.pickle\n",
      "STAT_SSSSBSBB.pickle\n",
      "STAT_SBSSBSBB.pickle\n",
      "STAT_SSSSBBBB.pickle\n",
      "STAT_SBBBBBBS.pickle\n",
      "STAT_SBSBSBSS.pickle\n",
      "STAT_SBBSSSSB.pickle\n",
      "STAT_SSSBBSSB.pickle\n",
      "STAT_SBBBSBSB.pickle\n",
      "STAT_SBSSSBSS.pickle\n",
      "STAT_SSSSBSSB.pickle\n",
      "STAT_SBBBBBSS.pickle\n",
      "STAT_SSSBSBBB.pickle\n",
      "STAT_SBSSSSSB.pickle\n",
      "STAT_SBSBSBBB.pickle\n",
      "STAT_SSSBSSBB.pickle\n",
      "STAT_SSBSSSSS.pickle\n",
      "STAT_SBBBSBBB.pickle\n",
      "STAT_BSSSSSSS.pickle\n",
      "STAT_SBBSSBBB.pickle\n",
      "STAT_SBBBBSSS.pickle\n",
      "STAT_SBBBSSBB.pickle\n",
      "STAT_SSBSSSSB.pickle\n",
      "STAT_SBBBSSSB.pickle\n",
      "STAT_SBBSSSSS.pickle\n",
      "STAT_SSBBSBSS.pickle\n",
      "STAT_SSSBBBBB.pickle\n",
      "STAT_SSBBBSBS.pickle\n",
      "STAT_SSBBSSBB.pickle\n",
      "STAT_SSSSSSBS.pickle\n",
      "STAT_SSBBSBBB.pickle\n",
      "STAT_SBBBSSBS.pickle\n",
      "STAT_SSBSSSBB.pickle\n",
      "STAT_SBBSSBSB.pickle\n",
      "STAT_SBSBBBBB.pickle\n",
      "STAT_SSSSSBSS.pickle\n",
      "STAT_SBBBBBSB.pickle\n",
      "STAT_SSSBBSBB.pickle\n",
      "STAT_SBBSBBBS.pickle\n",
      "STAT_SBSSBBSS.pickle\n",
      "STAT_SSSSBBSS.pickle\n",
      "STAT_SBSSSSBS.pickle\n",
      "STAT_SBBBSBSS.pickle\n",
      "STAT_SBSSBBBB.pickle\n",
      "STAT_SBBSBBBB.pickle\n",
      "STAT_SSSBSSSB.pickle\n",
      "STAT_SBBSSBSS.pickle\n",
      "STAT_SSSSSSBB.pickle\n",
      "STAT_SSSBSBBS.pickle\n",
      "STAT_SBBSBBSS.pickle\n",
      "STAT_SBSBSSSB.pickle\n",
      "STAT_SSBSBBBB.pickle\n",
      "STAT_SSBBSBSB.pickle\n",
      "STAT_BSSSSSBS.pickle\n",
      "STAT_SSBSBSSB.pickle\n",
      "STAT_SBBSSSBS.pickle\n",
      "STAT_SSSBSSSS.pickle\n",
      "STAT_SBSSBSSS.pickle\n",
      "STAT_SSSSSSSS.pickle\n"
     ]
    },
    {
     "ename": "ValueError",
     "evalue": "insecure string pickle",
     "output_type": "error",
     "traceback": [
      "\u001b[0;31m\u001b[0m",
      "\u001b[0;31mValueError\u001b[0mTraceback (most recent call last)",
      "\u001b[0;32m<ipython-input-13-ffa3f85fadbb>\u001b[0m in \u001b[0;36m<module>\u001b[0;34m()\u001b[0m\n\u001b[1;32m      7\u001b[0m     \u001b[0;32mprint\u001b[0m \u001b[0mfilename\u001b[0m\u001b[0;34m\u001b[0m\u001b[0m\n\u001b[1;32m      8\u001b[0m     \u001b[0mid\u001b[0m\u001b[0;34m=\u001b[0m\u001b[0mfilename\u001b[0m\u001b[0;34m[\u001b[0m\u001b[0;36m5\u001b[0m\u001b[0;34m:\u001b[0m\u001b[0;36m13\u001b[0m\u001b[0;34m]\u001b[0m\u001b[0;34m\u001b[0m\u001b[0m\n\u001b[0;32m----> 9\u001b[0;31m     \u001b[0mSTAT\u001b[0m\u001b[0;34m=\u001b[0m\u001b[0mload\u001b[0m\u001b[0;34m(\u001b[0m\u001b[0mopen\u001b[0m\u001b[0;34m(\u001b[0m\u001b[0mfilename\u001b[0m\u001b[0;34m,\u001b[0m\u001b[0;34m'r'\u001b[0m\u001b[0;34m)\u001b[0m\u001b[0;34m)\u001b[0m\u001b[0;34m\u001b[0m\u001b[0m\n\u001b[0m\u001b[1;32m     10\u001b[0m     \u001b[0;32mfor\u001b[0m \u001b[0mmeas\u001b[0m \u001b[0;32min\u001b[0m \u001b[0mSTAT\u001b[0m\u001b[0;34m[\u001b[0m\u001b[0;36m0\u001b[0m\u001b[0;34m]\u001b[0m\u001b[0;34m.\u001b[0m\u001b[0mkeys\u001b[0m\u001b[0;34m(\u001b[0m\u001b[0;34m)\u001b[0m\u001b[0;34m:\u001b[0m\u001b[0;34m\u001b[0m\u001b[0m\n\u001b[1;32m     11\u001b[0m         \u001b[0mD\u001b[0m\u001b[0;34m=\u001b[0m\u001b[0;34m{\u001b[0m\u001b[0;34m}\u001b[0m\u001b[0;34m\u001b[0m\u001b[0m\n",
      "\u001b[0;32m/usr/lib64/python2.7/pickle.pyc\u001b[0m in \u001b[0;36mload\u001b[0;34m(file)\u001b[0m\n\u001b[1;32m   1382\u001b[0m \u001b[0;34m\u001b[0m\u001b[0m\n\u001b[1;32m   1383\u001b[0m \u001b[0;32mdef\u001b[0m \u001b[0mload\u001b[0m\u001b[0;34m(\u001b[0m\u001b[0mfile\u001b[0m\u001b[0;34m)\u001b[0m\u001b[0;34m:\u001b[0m\u001b[0;34m\u001b[0m\u001b[0m\n\u001b[0;32m-> 1384\u001b[0;31m     \u001b[0;32mreturn\u001b[0m \u001b[0mUnpickler\u001b[0m\u001b[0;34m(\u001b[0m\u001b[0mfile\u001b[0m\u001b[0;34m)\u001b[0m\u001b[0;34m.\u001b[0m\u001b[0mload\u001b[0m\u001b[0;34m(\u001b[0m\u001b[0;34m)\u001b[0m\u001b[0;34m\u001b[0m\u001b[0m\n\u001b[0m\u001b[1;32m   1385\u001b[0m \u001b[0;34m\u001b[0m\u001b[0m\n\u001b[1;32m   1386\u001b[0m \u001b[0;32mdef\u001b[0m \u001b[0mloads\u001b[0m\u001b[0;34m(\u001b[0m\u001b[0mstr\u001b[0m\u001b[0;34m)\u001b[0m\u001b[0;34m:\u001b[0m\u001b[0;34m\u001b[0m\u001b[0m\n",
      "\u001b[0;32m/usr/lib64/python2.7/pickle.pyc\u001b[0m in \u001b[0;36mload\u001b[0;34m(self)\u001b[0m\n\u001b[1;32m    862\u001b[0m             \u001b[0;32mwhile\u001b[0m \u001b[0;36m1\u001b[0m\u001b[0;34m:\u001b[0m\u001b[0;34m\u001b[0m\u001b[0m\n\u001b[1;32m    863\u001b[0m                 \u001b[0mkey\u001b[0m \u001b[0;34m=\u001b[0m \u001b[0mread\u001b[0m\u001b[0;34m(\u001b[0m\u001b[0;36m1\u001b[0m\u001b[0;34m)\u001b[0m\u001b[0;34m\u001b[0m\u001b[0m\n\u001b[0;32m--> 864\u001b[0;31m                 \u001b[0mdispatch\u001b[0m\u001b[0;34m[\u001b[0m\u001b[0mkey\u001b[0m\u001b[0;34m]\u001b[0m\u001b[0;34m(\u001b[0m\u001b[0mself\u001b[0m\u001b[0;34m)\u001b[0m\u001b[0;34m\u001b[0m\u001b[0m\n\u001b[0m\u001b[1;32m    865\u001b[0m         \u001b[0;32mexcept\u001b[0m \u001b[0m_Stop\u001b[0m\u001b[0;34m,\u001b[0m \u001b[0mstopinst\u001b[0m\u001b[0;34m:\u001b[0m\u001b[0;34m\u001b[0m\u001b[0m\n\u001b[1;32m    866\u001b[0m             \u001b[0;32mreturn\u001b[0m \u001b[0mstopinst\u001b[0m\u001b[0;34m.\u001b[0m\u001b[0mvalue\u001b[0m\u001b[0;34m\u001b[0m\u001b[0m\n",
      "\u001b[0;32m/usr/lib64/python2.7/pickle.pyc\u001b[0m in \u001b[0;36mload_string\u001b[0;34m(self)\u001b[0m\n\u001b[1;32m    970\u001b[0m             \u001b[0;32mif\u001b[0m \u001b[0mrep\u001b[0m\u001b[0;34m.\u001b[0m\u001b[0mstartswith\u001b[0m\u001b[0;34m(\u001b[0m\u001b[0mq\u001b[0m\u001b[0;34m)\u001b[0m\u001b[0;34m:\u001b[0m\u001b[0;34m\u001b[0m\u001b[0m\n\u001b[1;32m    971\u001b[0m                 \u001b[0;32mif\u001b[0m \u001b[0mlen\u001b[0m\u001b[0;34m(\u001b[0m\u001b[0mrep\u001b[0m\u001b[0;34m)\u001b[0m \u001b[0;34m<\u001b[0m \u001b[0;36m2\u001b[0m \u001b[0;32mor\u001b[0m \u001b[0;32mnot\u001b[0m \u001b[0mrep\u001b[0m\u001b[0;34m.\u001b[0m\u001b[0mendswith\u001b[0m\u001b[0;34m(\u001b[0m\u001b[0mq\u001b[0m\u001b[0;34m)\u001b[0m\u001b[0;34m:\u001b[0m\u001b[0;34m\u001b[0m\u001b[0m\n\u001b[0;32m--> 972\u001b[0;31m                     \u001b[0;32mraise\u001b[0m \u001b[0mValueError\u001b[0m\u001b[0;34m,\u001b[0m \u001b[0;34m\"insecure string pickle\"\u001b[0m\u001b[0;34m\u001b[0m\u001b[0m\n\u001b[0m\u001b[1;32m    973\u001b[0m                 \u001b[0mrep\u001b[0m \u001b[0;34m=\u001b[0m \u001b[0mrep\u001b[0m\u001b[0;34m[\u001b[0m\u001b[0mlen\u001b[0m\u001b[0;34m(\u001b[0m\u001b[0mq\u001b[0m\u001b[0;34m)\u001b[0m\u001b[0;34m:\u001b[0m\u001b[0;34m-\u001b[0m\u001b[0mlen\u001b[0m\u001b[0;34m(\u001b[0m\u001b[0mq\u001b[0m\u001b[0;34m)\u001b[0m\u001b[0;34m]\u001b[0m\u001b[0;34m\u001b[0m\u001b[0m\n\u001b[1;32m    974\u001b[0m                 \u001b[0;32mbreak\u001b[0m\u001b[0;34m\u001b[0m\u001b[0m\n",
      "\u001b[0;31mValueError\u001b[0m: insecure string pickle"
     ]
    }
   ],
   "source": [
    "from pickle import load,dump\n",
    "import numpy as np\n",
    "from glob import glob\n",
    "Eigvals={}\n",
    "%cd /dev/shm/256_STAT_unzipped/\n",
    "for filename in glob('STAT_*.pickle'):\n",
    "    print filename\n",
    "    id=filename[5:13]\n",
    "    STAT=load(open(filename,'r'))\n",
    "    for meas in STAT[0].keys():\n",
    "        D={}\n",
    "        eigvals=STAT[0][meas]['eigval']\n",
    "        eigvals/=sum(eigvals)\n",
    "        D['Eigvals']=np.cumsum(eigvals)[:20]\n",
    "        D['counts']=min(STAT[0][meas]['NE'])\n",
    "        Eigvals[id+'_'+meas]=D\n",
    "\n",
    "!rm eigvals.pickle\n",
    "dump(Eigvals,open('eigvals.pickle','w'))\n",
    "!ls -l eigvals.pickle\n",
    " "
   ]
  },
  {
   "cell_type": "code",
   "execution_count": 15,
   "metadata": {
    "collapsed": false
   },
   "outputs": [
    {
     "data": {
      "text/plain": [
       "1178"
      ]
     },
     "execution_count": 15,
     "metadata": {},
     "output_type": "execute_result"
    }
   ],
   "source": [
    "len(Eigvals.keys())"
   ]
  },
  {
   "cell_type": "code",
   "execution_count": 16,
   "metadata": {
    "collapsed": true
   },
   "outputs": [],
   "source": [
    "!rm eigvals.pickle\n",
    "dump(Eigvals,open('eigvals.pickle','w'))"
   ]
  },
  {
   "cell_type": "code",
   "execution_count": null,
   "metadata": {
    "collapsed": true
   },
   "outputs": [],
   "source": [
    "%cd /dev/shm/256_STAT_unzipped/\n",
    "!ls -lh eigvals.pickle\n",
    "!gzip eigvals.pickle"
   ]
  },
  {
   "cell_type": "code",
   "execution_count": 6,
   "metadata": {
    "collapsed": false
   },
   "outputs": [
    {
     "name": "stdout",
     "output_type": "stream",
     "text": [
      "-rw-rw-r-- 1 ec2-user ec2-user 304K May  2 19:28 eigvals.pickle.gz\r\n"
     ]
    }
   ],
   "source": [
    "!ls -lh eigvals.pickle*\n",
    "!cp eigvals.pickle.gz /home/ec2-user/workspace/edX-Micro-Master-in-Data-Science/big-data-analytics-using-spark/notebooks/2.PCA/"
   ]
  },
  {
   "cell_type": "code",
   "execution_count": 10,
   "metadata": {
    "collapsed": false
   },
   "outputs": [
    {
     "data": {
      "text/plain": [
       "6"
      ]
     },
     "execution_count": 10,
     "metadata": {},
     "output_type": "execute_result"
    }
   ],
   "source": [
    "import pickle\n",
    "with open('eigvals.pickle','rb') as file:\n",
    "    Eigvals=pickle.load(file)\n",
    "len(Eigvals)"
   ]
  },
  {
   "cell_type": "code",
   "execution_count": null,
   "metadata": {
    "collapsed": true
   },
   "outputs": [],
   "source": [
    "import pandas as pd\n",
    "_index=[]\n",
    "_eigs=[]\n",
    "_meas=[]\n",
    "_count=[]\n",
    "k=5\n",
    "for key in Eigvals.keys():\n",
    "    index,meas=key[:8],key[9:]\n",
    "    _index.append(index)\n",
    "    _meas.append(meas)\n",
    "    D=Eigvals[key]\n",
    "    _eigs.append(D['Eigvals'][:k])\n",
    "    _count.append(D['counts'])\n",
    "    #print index,meas,count,eigs\n",
    "\n",
    "df_eigvals=pd.DataFrame({'index':_index,\n",
    "             'meas':_meas,\n",
    "             'count':_count,\n",
    "             'eigs':_eigs})"
   ]
  },
  {
   "cell_type": "code",
   "execution_count": null,
   "metadata": {
    "collapsed": true
   },
   "outputs": [],
   "source": [
    "%pylab inline"
   ]
  },
  {
   "cell_type": "code",
   "execution_count": 50,
   "metadata": {
    "collapsed": false,
    "scrolled": true
   },
   "outputs": [
    {
     "data": {
      "image/png": "[encoded data removed]",
      "text/plain": [
       "<matplotlib.figure.Figure at 0x7f60fd3d0b90>"
      ]
     },
     "metadata": {},
     "output_type": "display_data"
    }
   ],
   "source": [
    "C=[e for e in df_eigvals['count']]\n",
    "hist(C);"
   ]
  },
  {
   "cell_type": "code",
   "execution_count": 69,
   "metadata": {
    "collapsed": false
   },
   "outputs": [
    {
     "name": "stdout",
     "output_type": "stream",
     "text": [
      "(1178, 4) (913, 4)\n"
     ]
    }
   ],
   "source": [
    "df_L=df_eigvals[df_eigvals['count']>1500]\n",
    "print df_eigvals.shape, df_L.shape"
   ]
  },
  {
   "cell_type": "code",
   "execution_count": 70,
   "metadata": {
    "collapsed": false
   },
   "outputs": [
    {
     "data": {
      "image/png": "[encoded data removed]",
      "text/plain": [
       "<matplotlib.figure.Figure at 0x7f60f9afd1d0>"
      ]
     },
     "metadata": {},
     "output_type": "display_data"
    },
    {
     "data": {
      "image/png": "[encoded data removed]",
      "text/plain": [
       "<matplotlib.figure.Figure at 0x7f60f9afd4d0>"
      ]
     },
     "metadata": {},
     "output_type": "display_data"
    },
    {
     "data": {
      "image/png": "[encoded data removed]",
      "text/plain": [
       "<matplotlib.figure.Figure at 0x7f60f9b1b3d0>"
      ]
     },
     "metadata": {},
     "output_type": "display_data"
    },
    {
     "data": {
      "image/png": "[encoded data removed]",
      "text/plain": [
       "<matplotlib.figure.Figure at 0x7f60f95dadd0>"
      ]
     },
     "metadata": {},
     "output_type": "display_data"
    },
    {
     "data": {
      "image/png": "[encoded data removed]",
      "text/plain": [
       "<matplotlib.figure.Figure at 0x7f60f9895310>"
      ]
     },
     "metadata": {},
     "output_type": "display_data"
    },
    {
     "data": {
      "image/png": "[encoded data removed]",
      "text/plain": [
       "<matplotlib.figure.Figure at 0x7f60f9856d10>"
      ]
     },
     "metadata": {},
     "output_type": "display_data"
    }
   ],
   "source": [
    "for meas in ['TOBS','TMIN','TMAX','PRCP','SNOW','SNWD']:\n",
    "    H=[e[2] for e in df_L[df_L['meas']==meas]['eigs']]\n",
    "    figure();\n",
    "    hist(H);\n",
    "    title(meas)"
   ]
  },
  {
   "cell_type": "code",
   "execution_count": 72,
   "metadata": {
    "collapsed": false
   },
   "outputs": [
    {
     "data": {
      "text/html": [
       "<div>\n",
       "<table border=\"1\" class=\"dataframe\">\n",
       "  <thead>\n",
       "    <tr style=\"text-align: right;\">\n",
       "      <th></th>\n",
       "      <th>count</th>\n",
       "      <th>eigs</th>\n",
       "      <th>index</th>\n",
       "      <th>meas</th>\n",
       "      <th>good</th>\n",
       "    </tr>\n",
       "  </thead>\n",
       "  <tbody>\n",
       "    <tr>\n",
       "      <th>0</th>\n",
       "      <td>2540.0</td>\n",
       "      <td>[0.190705397229, 0.23512853515, 0.274170953267...</td>\n",
       "      <td>SBSBSBSS</td>\n",
       "      <td>TMIN</td>\n",
       "      <td>False</td>\n",
       "    </tr>\n",
       "    <tr>\n",
       "      <th>1</th>\n",
       "      <td>2548.0</td>\n",
       "      <td>[0.0782788995524, 0.10590714767, 0.13086872690...</td>\n",
       "      <td>SSSBSBBB</td>\n",
       "      <td>PRCP</td>\n",
       "      <td>False</td>\n",
       "    </tr>\n",
       "    <tr>\n",
       "      <th>3</th>\n",
       "      <td>1727.0</td>\n",
       "      <td>[0.689664535368, 0.702845732753, 0.71270013178...</td>\n",
       "      <td>SSSSBBSS</td>\n",
       "      <td>TMIN</td>\n",
       "      <td>False</td>\n",
       "    </tr>\n",
       "    <tr>\n",
       "      <th>4</th>\n",
       "      <td>1548.0</td>\n",
       "      <td>[0.0423725203978, 0.0809388670768, 0.115980280...</td>\n",
       "      <td>BBSSSSBS</td>\n",
       "      <td>TMAX</td>\n",
       "      <td>False</td>\n",
       "    </tr>\n",
       "    <tr>\n",
       "      <th>5</th>\n",
       "      <td>2166.0</td>\n",
       "      <td>[0.054003540836, 0.0927252596993, 0.1283880382...</td>\n",
       "      <td>SSBBBSBS</td>\n",
       "      <td>SNOW</td>\n",
       "      <td>False</td>\n",
       "    </tr>\n",
       "  </tbody>\n",
       "</table>\n",
       "</div>"
      ],
      "text/plain": [
       "    count                                               eigs     index  meas  \\\n",
       "0  2540.0  [0.190705397229, 0.23512853515, 0.274170953267...  SBSBSBSS  TMIN   \n",
       "1  2548.0  [0.0782788995524, 0.10590714767, 0.13086872690...  SSSBSBBB  PRCP   \n",
       "3  1727.0  [0.689664535368, 0.702845732753, 0.71270013178...  SSSSBBSS  TMIN   \n",
       "4  1548.0  [0.0423725203978, 0.0809388670768, 0.115980280...  BBSSSSBS  TMAX   \n",
       "5  2166.0  [0.054003540836, 0.0927252596993, 0.1283880382...  SSBBBSBS  SNOW   \n",
       "\n",
       "    good  \n",
       "0  False  \n",
       "1  False  \n",
       "3  False  \n",
       "4  False  \n",
       "5  False  "
      ]
     },
     "execution_count": 72,
     "metadata": {},
     "output_type": "execute_result"
    }
   ],
   "source": [
    "df_L=df_L.assign(good = lambda df:False)\n",
    "df_L.head()"
   ]
  },
  {
   "cell_type": "code",
   "execution_count": 90,
   "metadata": {
    "collapsed": false
   },
   "outputs": [
    {
     "name": "stdout",
     "output_type": "stream",
     "text": [
      "in find_good: 0       2540\n",
      "1       2548\n",
      "3       1727\n",
      "4       1548\n",
      "5       2166\n",
      "8       1624\n",
      "9       2387\n",
      "11      1934\n",
      "12      1598\n",
      "13      1735\n",
      "16      2585\n",
      "17      2466\n",
      "18      2140\n",
      "19      2100\n",
      "20      1525\n",
      "21      2230\n",
      "22      1838\n",
      "23      2528\n",
      "24      2257\n",
      "25      2850\n",
      "26      1984\n",
      "27      2718\n",
      "28      2819\n",
      "29      1649\n",
      "30      2008\n",
      "31      2268\n",
      "32      3070\n",
      "34      3179\n",
      "35      1755\n",
      "38      1996\n",
      "        ... \n",
      "1139    1586\n",
      "1142    2143\n",
      "1143    1823\n",
      "1144    4705\n",
      "1145    1621\n",
      "1146    1643\n",
      "1147    1503\n",
      "1148    1516\n",
      "1149    2057\n",
      "1150    2482\n",
      "1151    1986\n",
      "1152    1555\n",
      "1153    1858\n",
      "1154    2374\n",
      "1155    3263\n",
      "1156    2555\n",
      "1157    1652\n",
      "1159    1595\n",
      "1160    3107\n",
      "1161    1563\n",
      "1162    3585\n",
      "1164    2510\n",
      "1166    2475\n",
      "1167    1531\n",
      "1168    1857\n",
      "1169    1930\n",
      "1171    2396\n",
      "1174    1889\n",
      "1175    3848\n",
      "1176    1793\n",
      "Name: count, dtype: object\n",
      "in find_good: 0       2540.0\n",
      "1       2548.0\n",
      "3       1727.0\n",
      "4       1548.0\n",
      "5       2166.0\n",
      "8       1624.0\n",
      "9       2387.0\n",
      "11      1934.0\n",
      "12      1598.0\n",
      "13      1735.0\n",
      "16      2585.0\n",
      "17      2466.0\n",
      "18      2140.0\n",
      "19      2100.0\n",
      "20      1525.0\n",
      "21      2230.0\n",
      "22      1838.0\n",
      "23      2528.0\n",
      "24      2257.0\n",
      "25      2850.0\n",
      "26      1984.0\n",
      "27      2718.0\n",
      "28      2819.0\n",
      "29      1649.0\n",
      "30      2008.0\n",
      "31      2268.0\n",
      "32      3070.0\n",
      "34      3179.0\n",
      "35      1755.0\n",
      "38      1996.0\n",
      "         ...  \n",
      "1139    1586.0\n",
      "1142    2143.0\n",
      "1143    1823.0\n",
      "1144    4705.0\n",
      "1145    1621.0\n",
      "1146    1643.0\n",
      "1147    1503.0\n",
      "1148    1516.0\n",
      "1149    2057.0\n",
      "1150    2482.0\n",
      "1151    1986.0\n",
      "1152    1555.0\n",
      "1153    1858.0\n",
      "1154    2374.0\n",
      "1155    3263.0\n",
      "1156    2555.0\n",
      "1157    1652.0\n",
      "1159    1595.0\n",
      "1160    3107.0\n",
      "1161    1563.0\n",
      "1162    3585.0\n",
      "1164    2510.0\n",
      "1166    2475.0\n",
      "1167    1531.0\n",
      "1168    1857.0\n",
      "1169    1930.0\n",
      "1171    2396.0\n",
      "1174    1889.0\n",
      "1175    3848.0\n",
      "1176    1793.0\n",
      "Name: count, dtype: float64\n"
     ]
    },
    {
     "ename": "KeyError",
     "evalue": "('meas', u'occurred at index count')",
     "output_type": "error",
     "traceback": [
      "\u001b[0;31m\u001b[0m",
      "\u001b[0;31mKeyError\u001b[0mTraceback (most recent call last)",
      "\u001b[0;32m<ipython-input-90-8c362f7fbe32>\u001b[0m in \u001b[0;36m<module>\u001b[0;34m()\u001b[0m\n\u001b[1;32m      5\u001b[0m         \u001b[0;32mreturn\u001b[0m \u001b[0mTrue\u001b[0m\u001b[0;34m\u001b[0m\u001b[0m\n\u001b[1;32m      6\u001b[0m     \u001b[0;32mreturn\u001b[0m \u001b[0mFalse\u001b[0m\u001b[0;34m\u001b[0m\u001b[0m\n\u001b[0;32m----> 7\u001b[0;31m \u001b[0mdf_L\u001b[0m\u001b[0;34m[\u001b[0m\u001b[0;34m'good'\u001b[0m\u001b[0;34m]\u001b[0m\u001b[0;34m=\u001b[0m\u001b[0mdf_L\u001b[0m\u001b[0;34m.\u001b[0m\u001b[0mapply\u001b[0m\u001b[0;34m(\u001b[0m\u001b[0mfind_good\u001b[0m\u001b[0;34m)\u001b[0m\u001b[0;34m\u001b[0m\u001b[0m\n\u001b[0m\u001b[1;32m      8\u001b[0m \u001b[0mdf_L\u001b[0m\u001b[0;34m.\u001b[0m\u001b[0mhead\u001b[0m\u001b[0;34m(\u001b[0m\u001b[0;36m20\u001b[0m\u001b[0;34m)\u001b[0m\u001b[0;34m\u001b[0m\u001b[0m\n\u001b[1;32m      9\u001b[0m \u001b[0;31m#df_L.assign(good = lambda df:(df['meas']=='TOBS')*(df['eigs'][2]>0.45))\u001b[0m\u001b[0;34m\u001b[0m\u001b[0;34m\u001b[0m\u001b[0m\n",
      "\u001b[0;32m/usr/local/lib64/python2.7/site-packages/pandas/core/frame.pyc\u001b[0m in \u001b[0;36mapply\u001b[0;34m(self, func, axis, broadcast, raw, reduce, args, **kwds)\u001b[0m\n\u001b[1;32m   4150\u001b[0m                     \u001b[0;32mif\u001b[0m \u001b[0mreduce\u001b[0m \u001b[0;32mis\u001b[0m \u001b[0mNone\u001b[0m\u001b[0;34m:\u001b[0m\u001b[0;34m\u001b[0m\u001b[0m\n\u001b[1;32m   4151\u001b[0m                         \u001b[0mreduce\u001b[0m \u001b[0;34m=\u001b[0m \u001b[0mTrue\u001b[0m\u001b[0;34m\u001b[0m\u001b[0m\n\u001b[0;32m-> 4152\u001b[0;31m                     \u001b[0;32mreturn\u001b[0m \u001b[0mself\u001b[0m\u001b[0;34m.\u001b[0m\u001b[0m_apply_standard\u001b[0m\u001b[0;34m(\u001b[0m\u001b[0mf\u001b[0m\u001b[0;34m,\u001b[0m \u001b[0maxis\u001b[0m\u001b[0;34m,\u001b[0m \u001b[0mreduce\u001b[0m\u001b[0;34m=\u001b[0m\u001b[0mreduce\u001b[0m\u001b[0;34m)\u001b[0m\u001b[0;34m\u001b[0m\u001b[0m\n\u001b[0m\u001b[1;32m   4153\u001b[0m             \u001b[0;32melse\u001b[0m\u001b[0;34m:\u001b[0m\u001b[0;34m\u001b[0m\u001b[0m\n\u001b[1;32m   4154\u001b[0m                 \u001b[0;32mreturn\u001b[0m \u001b[0mself\u001b[0m\u001b[0;34m.\u001b[0m\u001b[0m_apply_broadcast\u001b[0m\u001b[0;34m(\u001b[0m\u001b[0mf\u001b[0m\u001b[0;34m,\u001b[0m \u001b[0maxis\u001b[0m\u001b[0;34m)\u001b[0m\u001b[0;34m\u001b[0m\u001b[0m\n",
      "\u001b[0;32m/usr/local/lib64/python2.7/site-packages/pandas/core/frame.pyc\u001b[0m in \u001b[0;36m_apply_standard\u001b[0;34m(self, func, axis, ignore_failures, reduce)\u001b[0m\n\u001b[1;32m   4246\u001b[0m             \u001b[0;32mtry\u001b[0m\u001b[0;34m:\u001b[0m\u001b[0;34m\u001b[0m\u001b[0m\n\u001b[1;32m   4247\u001b[0m                 \u001b[0;32mfor\u001b[0m \u001b[0mi\u001b[0m\u001b[0;34m,\u001b[0m \u001b[0mv\u001b[0m \u001b[0;32min\u001b[0m \u001b[0menumerate\u001b[0m\u001b[0;34m(\u001b[0m\u001b[0mseries_gen\u001b[0m\u001b[0;34m)\u001b[0m\u001b[0;34m:\u001b[0m\u001b[0;34m\u001b[0m\u001b[0m\n\u001b[0;32m-> 4248\u001b[0;31m                     \u001b[0mresults\u001b[0m\u001b[0;34m[\u001b[0m\u001b[0mi\u001b[0m\u001b[0;34m]\u001b[0m \u001b[0;34m=\u001b[0m \u001b[0mfunc\u001b[0m\u001b[0;34m(\u001b[0m\u001b[0mv\u001b[0m\u001b[0;34m)\u001b[0m\u001b[0;34m\u001b[0m\u001b[0m\n\u001b[0m\u001b[1;32m   4249\u001b[0m                     \u001b[0mkeys\u001b[0m\u001b[0;34m.\u001b[0m\u001b[0mappend\u001b[0m\u001b[0;34m(\u001b[0m\u001b[0mv\u001b[0m\u001b[0;34m.\u001b[0m\u001b[0mname\u001b[0m\u001b[0;34m)\u001b[0m\u001b[0;34m\u001b[0m\u001b[0m\n\u001b[1;32m   4250\u001b[0m             \u001b[0;32mexcept\u001b[0m \u001b[0mException\u001b[0m \u001b[0;32mas\u001b[0m \u001b[0me\u001b[0m\u001b[0;34m:\u001b[0m\u001b[0;34m\u001b[0m\u001b[0m\n",
      "\u001b[0;32m<ipython-input-90-8c362f7fbe32>\u001b[0m in \u001b[0;36mfind_good\u001b[0;34m(row)\u001b[0m\n\u001b[1;32m      2\u001b[0m \u001b[0;32mdef\u001b[0m \u001b[0mfind_good\u001b[0m\u001b[0;34m(\u001b[0m\u001b[0mrow\u001b[0m\u001b[0;34m)\u001b[0m\u001b[0;34m:\u001b[0m\u001b[0;34m\u001b[0m\u001b[0m\n\u001b[1;32m      3\u001b[0m     \u001b[0;32mprint\u001b[0m \u001b[0;34m'in find_good:'\u001b[0m\u001b[0;34m,\u001b[0m\u001b[0mrow\u001b[0m\u001b[0;34m\u001b[0m\u001b[0m\n\u001b[0;32m----> 4\u001b[0;31m     \u001b[0;32mif\u001b[0m \u001b[0mrow\u001b[0m\u001b[0;34m[\u001b[0m\u001b[0;34m'meas'\u001b[0m\u001b[0;34m]\u001b[0m\u001b[0;34m==\u001b[0m\u001b[0;34m'TOBS'\u001b[0m\u001b[0;34m:\u001b[0m \u001b[0;31m# and row['eigs'][2]>0.45:\u001b[0m\u001b[0;34m\u001b[0m\u001b[0m\n\u001b[0m\u001b[1;32m      5\u001b[0m         \u001b[0;32mreturn\u001b[0m \u001b[0mTrue\u001b[0m\u001b[0;34m\u001b[0m\u001b[0m\n\u001b[1;32m      6\u001b[0m     \u001b[0;32mreturn\u001b[0m \u001b[0mFalse\u001b[0m\u001b[0;34m\u001b[0m\u001b[0m\n",
      "\u001b[0;32m/usr/local/lib64/python2.7/site-packages/pandas/core/series.pyc\u001b[0m in \u001b[0;36m__getitem__\u001b[0;34m(self, key)\u001b[0m\n\u001b[1;32m    601\u001b[0m         \u001b[0mkey\u001b[0m \u001b[0;34m=\u001b[0m \u001b[0mcom\u001b[0m\u001b[0;34m.\u001b[0m\u001b[0m_apply_if_callable\u001b[0m\u001b[0;34m(\u001b[0m\u001b[0mkey\u001b[0m\u001b[0;34m,\u001b[0m \u001b[0mself\u001b[0m\u001b[0;34m)\u001b[0m\u001b[0;34m\u001b[0m\u001b[0m\n\u001b[1;32m    602\u001b[0m         \u001b[0;32mtry\u001b[0m\u001b[0;34m:\u001b[0m\u001b[0;34m\u001b[0m\u001b[0m\n\u001b[0;32m--> 603\u001b[0;31m             \u001b[0mresult\u001b[0m \u001b[0;34m=\u001b[0m \u001b[0mself\u001b[0m\u001b[0;34m.\u001b[0m\u001b[0mindex\u001b[0m\u001b[0;34m.\u001b[0m\u001b[0mget_value\u001b[0m\u001b[0;34m(\u001b[0m\u001b[0mself\u001b[0m\u001b[0;34m,\u001b[0m \u001b[0mkey\u001b[0m\u001b[0;34m)\u001b[0m\u001b[0;34m\u001b[0m\u001b[0m\n\u001b[0m\u001b[1;32m    604\u001b[0m \u001b[0;34m\u001b[0m\u001b[0m\n\u001b[1;32m    605\u001b[0m             \u001b[0;32mif\u001b[0m \u001b[0;32mnot\u001b[0m \u001b[0mis_scalar\u001b[0m\u001b[0;34m(\u001b[0m\u001b[0mresult\u001b[0m\u001b[0;34m)\u001b[0m\u001b[0;34m:\u001b[0m\u001b[0;34m\u001b[0m\u001b[0m\n",
      "\u001b[0;32m/usr/local/lib64/python2.7/site-packages/pandas/indexes/base.pyc\u001b[0m in \u001b[0;36mget_value\u001b[0;34m(self, series, key)\u001b[0m\n\u001b[1;32m   2167\u001b[0m         \u001b[0;32mtry\u001b[0m\u001b[0;34m:\u001b[0m\u001b[0;34m\u001b[0m\u001b[0m\n\u001b[1;32m   2168\u001b[0m             return self._engine.get_value(s, k,\n\u001b[0;32m-> 2169\u001b[0;31m                                           tz=getattr(series.dtype, 'tz', None))\n\u001b[0m\u001b[1;32m   2170\u001b[0m         \u001b[0;32mexcept\u001b[0m \u001b[0mKeyError\u001b[0m \u001b[0;32mas\u001b[0m \u001b[0me1\u001b[0m\u001b[0;34m:\u001b[0m\u001b[0;34m\u001b[0m\u001b[0m\n\u001b[1;32m   2171\u001b[0m             \u001b[0;32mif\u001b[0m \u001b[0mlen\u001b[0m\u001b[0;34m(\u001b[0m\u001b[0mself\u001b[0m\u001b[0;34m)\u001b[0m \u001b[0;34m>\u001b[0m \u001b[0;36m0\u001b[0m \u001b[0;32mand\u001b[0m \u001b[0mself\u001b[0m\u001b[0;34m.\u001b[0m\u001b[0minferred_type\u001b[0m \u001b[0;32min\u001b[0m \u001b[0;34m[\u001b[0m\u001b[0;34m'integer'\u001b[0m\u001b[0;34m,\u001b[0m \u001b[0;34m'boolean'\u001b[0m\u001b[0;34m]\u001b[0m\u001b[0;34m:\u001b[0m\u001b[0;34m\u001b[0m\u001b[0m\n",
      "\u001b[0;32mpandas/index.pyx\u001b[0m in \u001b[0;36mpandas.index.IndexEngine.get_value (pandas/index.c:3557)\u001b[0;34m()\u001b[0m\n",
      "\u001b[0;32mpandas/index.pyx\u001b[0m in \u001b[0;36mpandas.index.IndexEngine.get_value (pandas/index.c:3240)\u001b[0;34m()\u001b[0m\n",
      "\u001b[0;32mpandas/index.pyx\u001b[0m in \u001b[0;36mpandas.index.IndexEngine.get_loc (pandas/index.c:4363)\u001b[0;34m()\u001b[0m\n",
      "\u001b[0;31mKeyError\u001b[0m: ('meas', u'occurred at index count')"
     ]
    }
   ],
   "source": [
    "#df1 = df1.assign(e=p.Series(np.random.randn(sLength)).values)\n",
    "def find_good(row):\n",
    "    print 'in find_good:',row\n",
    "    if row['meas']=='TOBS': # and row['eigs'][2]>0.45:\n",
    "        return True\n",
    "    return False\n",
    "df_L['good']=df_L.apply(find_good)\n",
    "df_L.head(20)\n",
    "#df_L.assign(good = lambda df:(df['meas']=='TOBS')*(df['eigs'][2]>0.45))\n",
    "#df_L.head(20)"
   ]
  },
  {
   "cell_type": "code",
   "execution_count": null,
   "metadata": {
    "collapsed": true
   },
   "outputs": [],
   "source": []
  },
  {
   "cell_type": "code",
   "execution_count": 27,
   "metadata": {
    "collapsed": false
   },
   "outputs": [
    {
     "data": {
      "text/plain": [
       "[<matplotlib.lines.Line2D at 0x7f4468fd4250>]"
      ]
     },
     "execution_count": 27,
     "metadata": {},
     "output_type": "execute_result"
    },
    {
     "data": {
      "image/png": "[encoded data removed]",
      "text/plain": [
       "<matplotlib.figure.Figure at 0x7f4469032b90>"
      ]
     },
     "metadata": {},
     "output_type": "display_data"
    }
   ],
   "source": [
    "eigvals=STAT[0]['SNOW']['eigval']\n",
    "eigvals/=sum(eigvals)\n",
    "plot(np.cumsum(eigvals))"
   ]
  },
  {
   "cell_type": "code",
   "execution_count": 1,
   "metadata": {
    "collapsed": false
   },
   "outputs": [
    {
     "data": {
      "text/plain": [
       "u'/home/ec2-user/workspace/edX-Micro-Master-in-Data-Science/big-data-analytics-using-spark/notebooks/2.PCA'"
      ]
     },
     "execution_count": 1,
     "metadata": {},
     "output_type": "execute_result"
    }
   ],
   "source": [
    "%pwd"
   ]
  },
  {
   "cell_type": "code",
   "execution_count": null,
   "metadata": {
    "collapsed": true
   },
   "outputs": [],
   "source": []
  }
 ],
 "metadata": {
  "anaconda-cloud": {},
  "celltoolbar": "Slideshow",
  "kernelspec": {
   "display_name": "Python 2",
   "language": "python",
   "name": "python2"
  },
  "language_info": {
   "codemirror_mode": {
    "name": "ipython",
    "version": 2
   },
   "file_extension": ".py",
   "mimetype": "text/x-python",
   "name": "python",
   "nbconvert_exporter": "python",
   "pygments_lexer": "ipython2",
   "version": "2.7.12"
  },
  "name": "PCA_using_numpy for HW3",
  "notebookId": 85286,
  "toc": {
   "colors": {
    "hover_highlight": "#DAA520",
    "running_highlight": "#FF0000",
    "selected_highlight": "#FFD700"
   },
   "moveMenuLeft": true,
   "nav_menu": {
    "height": "116px",
    "width": "252px"
   },
   "navigate_menu": true,
   "number_sections": true,
   "sideBar": true,
   "threshold": 4,
   "toc_cell": false,
   "toc_section_display": "block",
   "toc_window_display": false
  }
 },
 "nbformat": 4,
 "nbformat_minor": 0
}
