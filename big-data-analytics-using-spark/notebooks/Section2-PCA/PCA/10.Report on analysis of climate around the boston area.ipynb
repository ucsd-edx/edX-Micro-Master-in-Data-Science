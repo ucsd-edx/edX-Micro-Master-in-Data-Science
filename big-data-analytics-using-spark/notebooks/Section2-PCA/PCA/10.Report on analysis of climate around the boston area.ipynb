{
 "cells": [
  {
   "cell_type": "code",
   "execution_count": 2,
   "metadata": {
    "collapsed": false,
    "deletable": true,
    "editable": true,
    "run_control": {
     "frozen": false,
     "read_only": false
    },
    "scrolled": false
   },
   "outputs": [
    {
     "name": "stdout",
     "output_type": "stream",
     "text": [
      "![Climate_Boston_-_Massachusetts_and_Weather_averages_Boston.jpg](r_figures/Climate_Boston_-_Massachusetts_and_Weather_averages_Boston.jpg)\n",
      "![PRCP.png](r_figures/PRCP.png)\n",
      "![SNOW.png](r_figures/SNOW.png)\n",
      "![SNWD.png](r_figures/SNWD.png)\n",
      "![SNWD_coeff_1_CDF.png](r_figures/SNWD_coeff_1_CDF.png)\n",
      "![SNWD_coeff_2_CDF.png](r_figures/SNWD_coeff_2_CDF.png)\n",
      "![SNWD_coeff_3_CDF.png](r_figures/SNWD_coeff_3_CDF.png)\n",
      "![SNWD_grid_Pos_coeff1.png](r_figures/SNWD_grid_Pos_coeff1.png)\n",
      "![SNWD_grid_Pos_coeff2.png](r_figures/SNWD_grid_Pos_coeff2.png)\n",
      "![SNWD_grid_Pos_coeff3.png](r_figures/SNWD_grid_Pos_coeff3.png)\n",
      "![SNWD_grid_neg_coeff1.png](r_figures/SNWD_grid_neg_coeff1.png)\n",
      "![SNWD_grid_neg_coeff2.png](r_figures/SNWD_grid_neg_coeff2.png)\n",
      "![SNWD_grid_neg_coeff3.png](r_figures/SNWD_grid_neg_coeff3.png)\n",
      "![SNWD_mean_eigs.png](r_figures/SNWD_mean_eigs.png)\n",
      "![SNWD_res_1_CDF.png](r_figures/SNWD_res_1_CDF.png)\n",
      "![SNWD_res_2_CDF.png](r_figures/SNWD_res_2_CDF.png)\n",
      "![SNWD_res_3_CDF.png](r_figures/SNWD_res_3_CDF.png)\n",
      "![TMIN,TMAX.png](r_figures/TMIN,TMAX.png)\n",
      "![TOBS.png](r_figures/TOBS.png)\n",
      "![VarExplained1.png](r_figures/VarExplained1.png)\n",
      "![VarExplained2.png](r_figures/VarExplained2.png)\n",
      "![percipitation.png](r_figures/percipitation.png)\n"
     ]
    }
   ],
   "source": [
    "L=!ls r_figures/\n",
    "for l in L:\n",
    "    print \"![%s](r_figures/%s)\"%(l,l)"
   ]
  },
  {
   "cell_type": "code",
   "execution_count": 3,
   "metadata": {
    "collapsed": true,
    "deletable": true,
    "editable": true,
    "run_control": {
     "frozen": false,
     "read_only": false
    }
   },
   "outputs": [],
   "source": [
    "!open r_figures/TMIN,TMAX.png"
   ]
  },
  {
   "cell_type": "markdown",
   "metadata": {
    "deletable": true,
    "editable": true,
    "run_control": {
     "frozen": false,
     "read_only": false
    }
   },
   "source": [
    "# Massacusets Weather Analysis\n",
    "\n",
    "This is a report on the historical analysis of weather patterns in an area that approximately overlaps the area of the state of Massachusets.\n",
    "\n",
    "The data we will use here comes from [NOAA](https://www.ncdc.noaa.gov/). Specifically, it was downloaded from This [FTP site](ftp://ftp.ncdc.noaa.gov/pub/data/ghcn/daily/).\n",
    "\n",
    "We focused on six measurements:\n",
    "* **TMIN, TMAX:** the daily minimum and maximum temperature.\n",
    "* **TOBS:** The average temperature for each day.\n",
    "* **PRCP:** Daily Percipitation (in mm)\n",
    "* **SNOW:** Daily snowfall (in mm)\n",
    "* **SNWD:** The depth of accumulated snow.\n",
    "\n",
    "## Sanity-check: comparison with outside sources\n",
    "\n",
    "<p>We start by comparing some of the general statistics with graphs that we obtained from a site called <a href=\"http://www.usclimatedata.com/climate/boston/massachusetts/united-states/usma0046\" target=\"_blank\">US Climate Data</a> The graph below shows the daily minimum and maximum temperatures for each month, as well as the total precipitation for each month.</p>\n",
    "\n",
    "<p>&nbsp;</p>\n",
    "\n",
    "<p><img alt=\"Climate_Boston_-_Massachusetts_and_Weather_averages_Boston.jpg\" src=\"r_figures/Climate_Boston_-_Massachusetts_and_Weather_averages_Boston.jpg\" /></p>\n",
    "\n",
    "<p>&nbsp;</p>\n",
    "\n",
    "<p>We see that the min and max daily&nbsp;temperature agree with the ones we got from our data, once we translate Fahrenheit to Centigrade.</p>\n",
    "\n",
    "<p>&nbsp;</p>\n",
    "\n",
    "<p><img alt=\"TMIN,TMAX.png\" src=\"r_figures/TMIN,TMAX.png\" style=\"height:300px; width:800px\" /></p>\n",
    "\n",
    "<p>To compare the precipitation&nbsp;we need to translate millimeter/day to inches/month. According to our analysis the average rainfall is 3.00 mm/day which translates to about 3.55 Inches&nbsp;per month. According to US-Climate-Data the average rainfall is closer to 4 inch per month. However, there is clear agreement that average precipitation&nbsp;is close to a constant throughout the year</p>\n",
    "\n",
    "<p>&nbsp;<img alt=\"PRCP.png\" src=\"r_figures/PRCP.png\" style=\"height:450px; width:600px\" /></p>\n"
   ]
  },
  {
   "cell_type": "markdown",
   "metadata": {
    "deletable": true,
    "editable": true,
    "run_control": {
     "frozen": false,
     "read_only": false
    }
   },
   "source": [
    "## PCA analysis\n",
    "\n",
    "For each of the six measurement, we compute the percentate of the variance explained as a function of the number of eigen-vectors used.\n",
    "\n",
    "### Percentage of variance explained.\n",
    "![VarExplained1.png](r_figures/VarExplained1.png)\n",
    "We see that the top 5 eigen-vectors explain 20% of variance for TMIN, 32% for TOBS and 16% for TMAX.\n",
    "\n",
    "We conclude that of the three, TOBS is best explained by the top 5 eigenvectors. This is especially true for the first eigen-vector which, by itself, explains 25% of the variance.\n",
    "\n",
    "![VarExplained2.png](r_figures/VarExplained2.png)\n",
    "\n",
    "The top 5 eigenvectors explain 7% of the variance for PRCP and 14% for SNOW. Both are low values. On the other hand the top 5 eigenvectors explain %75 of the variance for SNWD. This means that these top 5 eigenvectors capture most of the variation in the snow signals. Based on that we will dig deeper into the PCA analysis for snow-depth.\n",
    "\n",
    "It makes sense that SNWD would be less noisy than SNOW. That is because SNWD is a decaying integral of SNOW and, as such, varies less between days and between the same date on diffferent years."
   ]
  },
  {
   "cell_type": "markdown",
   "metadata": {
    "deletable": true,
    "editable": true,
    "run_control": {
     "frozen": false,
     "read_only": false
    }
   },
   "source": [
    "## Analysis of snow depth\n",
    "\n",
    "We choose to analyze the eigen-decomposition for snow-depth because the first 4 eigen-vectors explain 70% of the variance.\n",
    "\n",
    "First, we graph the mean and the top 4 eigen-vectors.\n",
    "\n",
    "We observe that the snow season is from mid-november to the end of march, where the middle of February marks the peak of the snow-depth.\n",
    "![SNWD_mean_eigs.png](r_figures/SNWD_mean_eigs.png)"
   ]
  },
  {
   "cell_type": "markdown",
   "metadata": {
    "deletable": true,
    "editable": true,
    "run_control": {
     "frozen": false,
     "read_only": false
    }
   },
   "source": [
    "Next we interpret the eigen-functions. The first eigen-function (eig1) has a shape very similar to the mean function. The main difference is that the eigen-function is close to zero during october-december while the mean is not.  The interpretation of this shape is that eig1 represents the overall amount of snow above/below the mean, but without changing the distribution over time.\n",
    "\n",
    "**eig2,eig3 and eig4** are similar in the following way. They all oscilate between positive and negative values. In other words, they correspond to changing the distribution of the snow depth over the winter months, but they don't change the total (much).\n",
    "\n",
    "They can be interpreted as follows:\n",
    "* **eig2:** less snow in jan - mid feb, more snow in mid feb-march.\n",
    "* **eig3:** more snow in jan, less snow in feb, slightly more snow in march.\n",
    "* **eig4:** more snow in dec, more snow in start feb, less snow in end of feb, more snow in march.\n"
   ]
  },
  {
   "cell_type": "markdown",
   "metadata": {
    "deletable": true,
    "editable": true,
    "run_control": {
     "frozen": false,
     "read_only": false
    }
   },
   "source": [
    "### Examples of reconstructions\n",
    "\n",
    "#### Coeff1\n",
    "Coeff1: most positive\n",
    "![SNWD_grid_Pos_coeff1.png](r_figures/SNWD_grid_Pos_coeff1.png)\n",
    "Coeff1: most negative\n",
    "![SNWD_grid_neg_coeff1.png](r_figures/SNWD_grid_neg_coeff1.png)\n",
    "Large positive values of coeff1 correspond to more than average snow. Low values correspond to less than average snow.\n",
    "\n",
    "#### Coeff2\n",
    "Coeff2: most positive\n",
    "![SNWD_grid_Pos_coeff2.png](r_figures/SNWD_grid_Pos_coeff2.png)\n",
    "Coeff2: most negative\n",
    "![SNWD_grid_neg_coeff2.png](r_figures/SNWD_grid_neg_coeff2.png)\n",
    "\n",
    "Large positive values of coeff2 correspond to a late snow season (most of the snowfall is after mid feb. Negative values for coeff2 correspond to an early snow season (most of the snow is before mid-feb.\n",
    "#### Coeff3\n",
    "Coeff3: most positive\n",
    "![SNWD_grid_Pos_coeff3.png](r_figures/SNWD_grid_Pos_coeff3.png)\n",
    "Coeff3: most negative\n",
    "![SNWD_grid_neg_coeff3.png](r_figures/SNWD_grid_neg_coeff3.png)\n",
    "\n",
    "Large positive values of coeff2 correspond to a snow season with two spikes: one in the start of january, the other at the end of february. Negative values of coeff3 correspond to a season with a single peak at the end of Jan.\n",
    "\n"
   ]
  },
  {
   "cell_type": "markdown",
   "metadata": {
    "deletable": true,
    "editable": true,
    "run_control": {
     "frozen": false,
     "read_only": false
    }
   },
   "source": []
  },
  {
   "cell_type": "markdown",
   "metadata": {
    "deletable": true,
    "editable": true,
    "run_control": {
     "frozen": false,
     "read_only": false
    }
   },
   "source": [
    "### Geographical distribution of first 4 coefficients. "
   ]
  },
  {
   "cell_type": "code",
   "execution_count": null,
   "metadata": {
    "collapsed": true,
    "deletable": true,
    "editable": true,
    "run_control": {
     "frozen": false,
     "read_only": false
    }
   },
   "outputs": [],
   "source": []
  },
  {
   "cell_type": "markdown",
   "metadata": {
    "deletable": true,
    "editable": true,
    "run_control": {
     "frozen": false,
     "read_only": false
    }
   },
   "source": [
    "## Analysis of correlation between percipitation across locations\n",
    "\n",
    "### Definition of statistical test\n",
    "\n",
    "### correlations matrix\n",
    "\n",
    "### PCA analysis\n",
    "\n",
    "### Geographical distribution of top 4 coefficients."
   ]
  },
  {
   "cell_type": "markdown",
   "metadata": {
    "deletable": true,
    "editable": true,
    "run_control": {
     "frozen": false,
     "read_only": false
    }
   },
   "source": []
  },
  {
   "cell_type": "markdown",
   "metadata": {
    "deletable": true,
    "editable": true,
    "run_control": {
     "frozen": false,
     "read_only": false
    }
   },
   "source": []
  },
  {
   "cell_type": "markdown",
   "metadata": {
    "deletable": true,
    "editable": true,
    "run_control": {
     "frozen": false,
     "read_only": false
    }
   },
   "source": [
    "<p>&nbsp;</p>\n",
    "\n",
    "<p><img alt=\"TOBS.png\" src=\"r_figures/TOBS.png\" style=\"height:300px; width:400px\" /></p>\n",
    "\n",
    "<p><br />\n",
    "&nbsp;</p>\n",
    "\n",
    "<p>&nbsp;<img alt=\"SNOW.png\" src=\"r_figures/SNOW.png\" style=\"height:300px; width:400px\" /><img alt=\"SNWD.png\" src=\"r_figures/SNWD.png\" style=\"height:300px; width:400px\" /></p>"
   ]
  },
  {
   "cell_type": "markdown",
   "metadata": {
    "collapsed": true,
    "deletable": true,
    "editable": true,
    "run_control": {
     "frozen": false,
     "read_only": false
    }
   },
   "source": [
    "![SNWD_coeff_1_CDF.png](r_figures/SNWD_coeff_1_CDF.png)\n",
    "![SNWD_coeff_2_CDF.png](r_figures/SNWD_coeff_2_CDF.png)\n",
    "![SNWD_coeff_3_CDF.png](r_figures/SNWD_coeff_3_CDF.png)\n",
    "![SNWD_grid_Pos_coeff1.png](r_figures/SNWD_grid_Pos_coeff1.png)\n",
    "![SNWD_grid_Pos_coeff2.png](r_figures/SNWD_grid_Pos_coeff2.png)\n",
    "![SNWD_grid_Pos_coeff3.png](r_figures/SNWD_grid_Pos_coeff3.png)\n",
    "![SNWD_grid_neg_coeff1.png](r_figures/SNWD_grid_neg_coeff1.png)\n",
    "![SNWD_grid_neg_coeff2.png](r_figures/SNWD_grid_neg_coeff2.png)\n",
    "![SNWD_grid_neg_coeff3.png](r_figures/SNWD_grid_neg_coeff3.png)\n",
    "![SNWD_mean_eigs.png](r_figures/SNWD_mean_eigs.png)\n",
    "![SNWD_res_1_CDF.png](r_figures/SNWD_res_1_CDF.png)\n",
    "![SNWD_res_2_CDF.png](r_figures/SNWD_res_2_CDF.png)\n",
    "![SNWD_res_3_CDF.png](r_figures/SNWD_res_3_CDF.png)\n",
    "![TOBS.png](r_figures/TOBS.png)\n",
    "![VarExplained1.png](r_figures/VarExplained1.png)\n",
    "![VarExplained2.png](r_figures/VarExplained2.png)\n",
    "![percipitation.png](r_figures/percipitation.png)"
   ]
  },
  {
   "cell_type": "markdown",
   "metadata": {
    "deletable": true,
    "editable": true,
    "run_control": {
     "frozen": false,
     "read_only": false
    }
   },
   "source": [
    "![SNWD_res_1_CDF.png](r_figures/SNWD_res_1_CDF.png)\n",
    "![SNWD_res_2_CDF.png](r_figures/SNWD_res_2_CDF.png)\n",
    "![SNWD_res_3_CDF.png](r_figures/SNWD_res_3_CDF.png)\n",
    "![TMIN,TMAX.png](r_figures/TMIN,TMAX.png)\n",
    "![TOBS.png](r_figures/TOBS.png)\n",
    "![VarExplained1.png](r_figures/VarExplained1.png)\n",
    "![VarExplained2.png](r_figures/VarExplained2.png)\n",
    "![percipitation.png](r_figures/percipitation.png)"
   ]
  },
  {
   "cell_type": "code",
   "execution_count": null,
   "metadata": {
    "collapsed": true,
    "deletable": true,
    "editable": true,
    "run_control": {
     "frozen": false,
     "read_only": false
    }
   },
   "outputs": [],
   "source": []
  }
 ],
 "metadata": {
  "anaconda-cloud": {},
  "kernelspec": {
   "display_name": "Python [conda root]",
   "language": "python",
   "name": "conda-root-py"
  },
  "language_info": {
   "codemirror_mode": {
    "name": "ipython",
    "version": 2
   },
   "file_extension": ".py",
   "mimetype": "text/x-python",
   "name": "python",
   "nbconvert_exporter": "python",
   "pygments_lexer": "ipython2",
   "version": "2.7.13"
  },
  "toc": {
   "colors": {
    "hover_highlight": "#DAA520",
    "running_highlight": "#FF0000",
    "selected_highlight": "#FFD700"
   },
   "moveMenuLeft": true,
   "nav_menu": {
    "height": "12px",
    "width": "252px"
   },
   "navigate_menu": true,
   "number_sections": true,
   "sideBar": true,
   "threshold": 4,
   "toc_cell": false,
   "toc_section_display": "block",
   "toc_window_display": false
  }
 },
 "nbformat": 4,
 "nbformat_minor": 2
}
