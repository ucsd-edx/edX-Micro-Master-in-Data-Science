{
 "cells": [
  {
   "cell_type": "markdown",
   "metadata": {
    "slideshow": {
     "slide_type": "slide"
    }
   },
   "source": [
    "## Computing PCA using RDDs"
   ]
  },
  {
   "cell_type": "markdown",
   "metadata": {
    "slideshow": {
     "slide_type": "subslide"
    }
   },
   "source": [
    "##  PCA\n",
    "\n",
    "The vectors that we want to analyze have length, or dimension, of 365, corresponding to the number of \n",
    "days in a year.\n",
    "\n",
    "We will perform [Principle component analysis (PCA)](https://en.wikipedia.org/wiki/Principal_component_analysis)\n",
    "on these vectors. There are two steps to this process:\n",
    "\n",
    "1. Computing the covariance matrix: this is a  simple computation. However, it takes a long time to compute and it benefits from using an RDD because it involves all of the input vectors.\n",
    "2. Computing the eigenvector decomposition. this is a more complex computation, but it takes a fraction of a second because the size to the covariance matrix is $365 \\times 365$, which is quite small. We do it on the head node usin `linalg`"
   ]
  },
  {
   "cell_type": "markdown",
   "metadata": {
    "slideshow": {
     "slide_type": "subslide"
    }
   },
   "source": [
    "### Computing the covariance matrix\n",
    "Suppose that the data vectors are the column vectors denoted $x$ then the covariance matrix is defined to be\n",
    "$$\n",
    "E(x x^T)-E(x)E(x)^T\n",
    "$$\n",
    "\n",
    "Where $x x^T$ is the **outer product** of $x$ with itself.\n",
    "\n",
    "If the data that we have is $x_1,x_2,x_n$ then the estimates we use are:\n",
    "$$\n",
    "\\hat{E}(x x^T) = \\frac{1}{n} \\sum_{i=1}^n x_i x_i^T,\\;\\;\\;\\;\\;\n",
    "\\hat{E}(x) = \\frac{1}{n} \\sum_{i=1}^n x_i\n",
    "$$"
   ]
  },
  {
   "cell_type": "markdown",
   "metadata": {},
   "source": [
    "### The effect of  `nan`s in arithmetic operations\n",
    "* We use an RDD of numpy arrays, instead of Dataframes.\n",
    "* Why? Because numpy treats `nan` entries correctly:\n",
    "  * In numpy `5+nan=5` while in dataframes `5+nan=nan`\n",
    "\n",
    "### Performing Cov matrix on vectors with NaNs\n",
    "As it happens, we often get vectors $x$ in which some, but not all, of the entries are `nan`. \n",
    "Suppose that we want to compute the mean of the elements of $x$. If we use `np.mean` we will get the result `nan`. A useful alternative is to use `np.nanmean` which removes the `nan` elements and takes the mean of the rest."
   ]
  },
  {
   "cell_type": "code",
   "execution_count": 13,
   "metadata": {},
   "outputs": [
    {
     "name": "stdout",
     "output_type": "stream",
     "text": [
      "mean of [1 1 1 2] = 1.25\n",
      "nanmean of [1 1 1 2] = 1.25\n",
      "mean of [  1.   1.  nan   2.] = nan\n",
      "nanmean of [  1.   1.  nan   2.] = 1.33333333333\n"
     ]
    }
   ],
   "source": [
    "import numpy as np\n",
    "X=np.array([1,1,1,2])\n",
    "print('mean of',X,'=',np.mean(X))\n",
    "print('nanmean of',X,'=',np.nanmean(X))\n",
    "X=np.array([1,1,np.NaN,2])\n",
    "print('mean of',X,'=',np.mean(X))\n",
    "print('nanmean of',X,'=',np.nanmean(X))"
   ]
  },
  {
   "cell_type": "markdown",
   "metadata": {},
   "source": [
    "#### When should you not use `np.nanmean` ?\n",
    "Using `n.nanmean` is equivalent to assuming that choice of which elements to remove is independent of the values of the elements. \n",
    "* Example of bad case: suppose the larger elements have a higher probability of being `nan`. In that case `np.nanmean` will under-estimate the mean\n",
    "\n",
    "#### Computing the covariance  when there are `nan`s\n",
    "The covariance is a mean of outer products.\n",
    "\n",
    "If the data that we have is $x_1,x_2,x_n$ then the estimates we use are:\n",
    "$$\n",
    "\\hat{E}(x x^T) = \\frac{1}{n} \\sum_{i=1}^n x_i x_i^T,\\;\\;\\;\\;\\;\n",
    "\\hat{E}(x) = \\frac{1}{n} \\sum_{i=1}^n x_i\n",
    "$$"
   ]
  },
  {
   "cell_type": "code",
   "execution_count": 5,
   "metadata": {},
   "outputs": [
    {
     "name": "stdout",
     "output_type": "stream",
     "text": [
      "Overwriting lib/computeStatistics.py\n"
     ]
    }
   ],
   "source": [
    "%%writefile lib/computeStatistics.py\n",
    "\n",
    "from numpy import linalg as LA\n",
    "import numpy as np\n",
    "\n",
    "from numpy_pack import packArray,unpackArray\n",
    "from spark_PCA import computeCov\n",
    "from computeStats import computeOverAllDist, STAT_Descriptions\n",
    "from time import time\n",
    "\n",
    "def computeStatistics(sqlContext,df):\n",
    "    \"\"\"Compute all of the statistics for a given dataframe\n",
    "    Input: sqlContext: to perform SQL queries\n",
    "            df: dataframe with the fields \n",
    "            Station(string), Measurement(string), Year(integer), Values (byteArray with 365 float16 numbers)\n",
    "    returns: STAT, a dictionary of dictionaries. First key is measurement, \n",
    "             second keys described in computeStats.STAT_Descriptions\n",
    "    \"\"\"\n",
    "\n",
    "    sqlContext.registerDataFrameAsTable(df,'weather')\n",
    "    STAT={}  # dictionary storing the statistics for each measurement\n",
    "    measurements=['TMAX', 'SNOW', 'SNWD', 'TMIN', 'PRCP', 'TOBS']\n",
    "    \n",
    "    for meas in measurements:\n",
    "        t=time()\n",
    "        Query=\"SELECT * FROM weather\\n\\tWHERE measurement = '%s'\"%(meas)\n",
    "        mdf = sqlContext.sql(Query)\n",
    "\n",
    "        data=df.rdd.map(lambda row: unpackArray(row['Values'],np.float16))\n",
    "\n",
    "        #Compute basic statistics\n",
    "        STAT[meas]=computeOverAllDist(data)   # Compute the statistics \n",
    "\n",
    "        # compute covariance matrix\n",
    "        OUT=computeCov(data)\n",
    "\n",
    "        #find PCA decomposition\n",
    "        eigval,eigvec=LA.eig(OUT['Cov'])\n",
    "\n",
    "        # collect all of the statistics in STAT[meas]\n",
    "        STAT[meas]['eigval']=eigval\n",
    "        STAT[meas]['eigvec']=eigvec\n",
    "        STAT[meas].update(OUT)\n",
    "\n",
    "        print('time for',meas,'is',time()-t)\n",
    "    \n",
    "    return STAT"
   ]
  },
  {
   "cell_type": "code",
   "execution_count": 2,
   "metadata": {
    "collapsed": true,
    "slideshow": {
     "slide_type": "skip"
    }
   },
   "outputs": [],
   "source": [
    "import findspark\n",
    "findspark.init()\n",
    "from pyspark import SparkContext\n",
    "\n",
    "#sc.stop()\n",
    "sc = SparkContext(master=\"local[3]\",pyFiles=['lib/numpy_pack.py','lib/spark_PCA.py','lib/computeStats.py'])\n",
    "\n",
    "from pyspark.sql import *\n",
    "sqlContext = SQLContext(sc)"
   ]
  },
  {
   "cell_type": "code",
   "execution_count": 3,
   "metadata": {
    "collapsed": true
   },
   "outputs": [],
   "source": [
    "import sys\n",
    "sys.path.append('./lib')\n",
    "\n",
    "import numpy as np\n",
    "from computeStats import  STAT_Descriptions\n",
    "from computeStatistics import computeStatistics"
   ]
  },
  {
   "cell_type": "markdown",
   "metadata": {
    "slideshow": {
     "slide_type": "slide"
    }
   },
   "source": [
    "### Climate data\n",
    "\n",
    "The data we will use here comes from [NOAA](https://www.ncdc.noaa.gov/). Specifically, it was downloaded from This [FTP site](ftp://ftp.ncdc.noaa.gov/pub/data/ghcn/daily/).\n",
    "\n",
    "There is a large variety of measurements from all over the world, from 1870 will 2012.\n",
    "in the directory `../../Data/Weather` you will find the following useful files:\n",
    "\n",
    "* data-source.txt: the source of the data\n",
    "* ghcnd-readme.txt: A description of the content and format of the data\n",
    "* ghcnd-stations.txt: A table describing the Meteorological stations.\n",
    "\n"
   ]
  },
  {
   "cell_type": "markdown",
   "metadata": {
    "slideshow": {
     "slide_type": "subslide"
    }
   },
   "source": [
    "### Data cleaning\n",
    "\n",
    "* Most measurements exists only for a tiny fraction of the stations and years. We therefor restrict our use to the following measurements:\n",
    "```python\n",
    "['TMAX', 'SNOW', 'SNWD', 'TMIN', 'PRCP', 'TOBS']\n",
    "```\n",
    "\n",
    "* 8 We consider only measurement-years that have at most 50 `NaN` entries\n",
    "\n",
    "* We consider only measurements in the continential USA\n",
    "\n",
    "* We partition the stations into the states of the continental USA (plus a few stations from states in canada and mexico)."
   ]
  },
  {
   "cell_type": "code",
   "execution_count": 8,
   "metadata": {
    "collapsed": true
   },
   "outputs": [],
   "source": [
    "state='CA'\n",
    "data_dir='../../Data/Weather'\n",
    "tarname=state+'.tgz'\n",
    "parquet=state+'.parquet'"
   ]
  },
  {
   "cell_type": "code",
   "execution_count": 9,
   "metadata": {},
   "outputs": [
    {
     "name": "stdout",
     "output_type": "stream",
     "text": [
      "curl https://mas-dse-open.s3.amazonaws.com/Weather/by_state/CA.tgz > ../../Data/Weather/CA.tgz\n",
      "  % Total    % Received % Xferd  Average Speed   Time    Time     Time  Current\n",
      "                                 Dload  Upload   Total   Spent    Left  Speed\n",
      "100 36.3M  100 36.3M    0     0  4657k      0  0:00:08  0:00:08 --:--:-- 5133k\n",
      "-rw-r--r--  1 yoavfreund  staff    36M Mar 17 16:47 ../../Data/Weather/CA.tgz\n"
     ]
    }
   ],
   "source": [
    "!rm -rf $data_dir/$tarname\n",
    "\n",
    "command=\"curl https://mas-dse-open.s3.amazonaws.com/Weather/by_state/%s > %s/%s\"%(tarname,data_dir,tarname)\n",
    "print(command)\n",
    "!$command\n",
    "!ls -lh $data_dir/$tarname"
   ]
  },
  {
   "cell_type": "code",
   "execution_count": 10,
   "metadata": {},
   "outputs": [
    {
     "name": "stdout",
     "output_type": "stream",
     "text": [
      "/Users/yoavfreund/projects/edX-Micro-Master-in-Data-Science/big-data-analytics-using-spark/notebooks/Data/Weather\n",
      "94152\t./CA.parquet\n",
      "/Users/yoavfreund/projects/edX-Micro-Master-in-Data-Science/big-data-analytics-using-spark/notebooks/Section2-PCA/PCA\n"
     ]
    }
   ],
   "source": [
    "cur_dir,=!pwd\n",
    "%cd $data_dir\n",
    "!tar -xzf $tarname\n",
    "!du ./$parquet\n",
    "%cd $cur_dir\n"
   ]
  },
  {
   "cell_type": "code",
   "execution_count": 11,
   "metadata": {
    "scrolled": true,
    "slideshow": {
     "slide_type": "subslide"
    }
   },
   "outputs": [
    {
     "name": "stdout",
     "output_type": "stream",
     "text": [
      "182759\n",
      "+-----------+-----------+----+--------------------+-----+\n",
      "|    Station|Measurement|Year|              Values|State|\n",
      "+-----------+-----------+----+--------------------+-----+\n",
      "|USC00040986|       PRCP|1944|[00 7E 00 7E 00 7...|   CA|\n",
      "|USC00040986|       PRCP|1945|[00 00 00 00 00 0...|   CA|\n",
      "|USC00040986|       PRCP|1946|[00 00 00 00 00 0...|   CA|\n",
      "|USC00040986|       PRCP|1947|[00 00 00 00 00 0...|   CA|\n",
      "|USC00040986|       PRCP|1948|[00 00 00 00 00 0...|   CA|\n",
      "+-----------+-----------+----+--------------------+-----+\n",
      "only showing top 5 rows\n",
      "\n"
     ]
    }
   ],
   "source": [
    "df=sqlContext.read.parquet(data_dir+'/'+parquet)\n",
    "print(df.count())\n",
    "df.show(5)"
   ]
  },
  {
   "cell_type": "code",
   "execution_count": 6,
   "metadata": {},
   "outputs": [
    {
     "name": "stdout",
     "output_type": "stream",
     "text": [
      "Number of executors= 3\n",
      "took 0.0012998580932617188 seconds\n"
     ]
    }
   ],
   "source": [
    "from time import time\n",
    "t=time()\n",
    "\n",
    "N=sc.defaultParallelism\n",
    "print('Number of executors=',N)\n",
    "print('took',time()-t,'seconds')"
   ]
  },
  {
   "cell_type": "code",
   "execution_count": 7,
   "metadata": {},
   "outputs": [
    {
     "name": "stdout",
     "output_type": "stream",
     "text": [
      "RI 2608\n",
      "time for TMAX is 15.94412899017334\n",
      "time for SNOW is 15.060394287109375\n",
      "time for SNWD is 15.156659841537476\n",
      "time for TMIN is 14.766330003738403\n",
      "time for PRCP is 14.731051683425903\n",
      "time for TOBS is 14.789628744125366\n",
      "NY 84199\n",
      "time for TMAX is 257.4664180278778\n",
      "time for SNOW is 280.5208351612091\n",
      "time for SNWD is 329.75323700904846\n",
      "time for TMIN is 276.83555006980896\n",
      "time for PRCP is 254.6858410835266\n",
      "time for TOBS is 263.3191738128662\n"
     ]
    }
   ],
   "source": [
    "from pickle import dump\n",
    "for state in ['RI','NY']:\n",
    "    parquet=state+'.parquet'\n",
    "    df=sqlContext.read.parquet(data_dir+'/'+parquet)\n",
    "    print(state,df.count())\n",
    "\n",
    "    STAT=computeStatistics(sqlContext,df)\n",
    "\n",
    "    filename=data_dir+'/STAT_%s.pickle'%state\n",
    "    dump((STAT,STAT_Descriptions),open(filename,'wb'))"
   ]
  },
  {
   "cell_type": "code",
   "execution_count": null,
   "metadata": {
    "collapsed": true
   },
   "outputs": [],
   "source": []
  }
 ],
 "metadata": {
  "anaconda-cloud": {},
  "celltoolbar": "Slideshow",
  "kernelspec": {
   "display_name": "Python 3",
   "language": "python",
   "name": "python3"
  },
  "language_info": {
   "codemirror_mode": {
    "name": "ipython",
    "version": 3
   },
   "file_extension": ".py",
   "mimetype": "text/x-python",
   "name": "python",
   "nbconvert_exporter": "python",
   "pygments_lexer": "ipython3",
   "version": "3.6.3"
  },
  "name": "PCA_using_numpy for HW3",
  "notebookId": 85286,
  "toc": {
   "nav_menu": {
    "height": "116px",
    "width": "252px"
   },
   "number_sections": true,
   "sideBar": true,
   "skip_h1_title": false,
   "title_cell": "Table of Contents",
   "title_sidebar": "Contents",
   "toc_cell": false,
   "toc_position": {},
   "toc_section_display": "block",
   "toc_window_display": false
  }
 },
 "nbformat": 4,
 "nbformat_minor": 1
}
