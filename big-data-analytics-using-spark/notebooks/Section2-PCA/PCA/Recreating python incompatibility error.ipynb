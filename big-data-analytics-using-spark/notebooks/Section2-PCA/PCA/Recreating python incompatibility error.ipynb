{
 "cells": [
  {
   "cell_type": "code",
   "execution_count": 59,
   "metadata": {},
   "outputs": [
    {
     "name": "stdout",
     "output_type": "stream",
     "text": [
      "CPU times: user 4 ms, sys: 0 ns, total: 4 ms\n",
      "Wall time: 634 ms\n"
     ]
    }
   ],
   "source": [
    "%%time\n",
    "#import findspark\n",
    "#findspark.init()\n",
    "from pyspark import SparkContext,SparkConf\n",
    "\n",
    "sc.stop()"
   ]
  },
  {
   "cell_type": "code",
   "execution_count": 49,
   "metadata": {},
   "outputs": [
    {
     "name": "stdout",
     "output_type": "stream",
     "text": [
      "[('spark.eventLog.enabled', 'true'), ('spark.driver.extraLibraryPath', '/usr/lib/hadoop/lib/native:/usr/lib/hadoop-lzo/lib/native'), ('spark.blacklist.decommissioning.timeout', '1h'), ('spark.app.name', 'Weather_PCA'), ('spark.executorEnv.PYSPARK_PYTHON', '/usr/bin/python3'), ('spark.yarn.appMasterEnv.SPARK_PUBLIC_DNS', '$(hostname -f)'), ('spark.executor.cores', '4'), ('spark.cores.max', '40'), ('spark.executor.extraJavaOptions', \"-verbose:gc -XX:+PrintGCDetails -XX:+PrintGCDateStamps -XX:+UseConcMarkSweepGC -XX:CMSInitiatingOccupancyFraction=70 -XX:MaxHeapFreeRatio=70 -XX:+CMSClassUnloadingEnabled -XX:OnOutOfMemoryError='kill -9 %p'\"), ('spark.ui.proxyBase', '/proxy/application_1522778993540_0003'), ('spark.eventLog.dir', 'hdfs:///var/log/spark/apps'), ('spark.sql.hive.metastore.sharedPrefixes', 'com.amazonaws.services.dynamodbv2'), ('spark.sql.warehouse.dir', 'hdfs:///user/spark/warehouse'), ('spark.submit.deployMode', 'client'), ('spark.history.fs.logDirectory', 'hdfs:///var/log/spark/apps'), ('spark.yarn.appMasterEnv.PYSPARK_PYTHON', '/usr/bin/python3'), ('spark.executor.memory', '2g'), ('spark.history.ui.port', '18080'), ('spark.shuffle.service.enabled', 'true'), ('spark.hadoop.yarn.timeline-service.enabled', 'false'), ('spark.resourceManager.cleanupExpiredHost', 'true'), ('spark.driver.extraClassPath', '/usr/lib/hadoop-lzo/lib/*:/usr/lib/hadoop/hadoop-aws.jar:/usr/share/aws/aws-java-sdk/*:/usr/share/aws/emr/emrfs/conf:/usr/share/aws/emr/emrfs/lib/*:/usr/share/aws/emr/emrfs/auxlib/*:/usr/share/aws/emr/security/conf:/usr/share/aws/emr/security/lib/*:/usr/share/aws/hmclient/lib/aws-glue-datacatalog-spark-client.jar:/usr/share/java/Hive-JSON-Serde/hive-openx-serde.jar:/usr/share/aws/sagemaker-spark-sdk/lib/sagemaker-spark-sdk.jar'), ('spark.yarn.historyServer.address', 'ip-10-129-244-164.ec2.internal:18080'), ('spark.driver.extraJavaOptions', \"-XX:+UseConcMarkSweepGC -XX:CMSInitiatingOccupancyFraction=70 -XX:MaxHeapFreeRatio=70 -XX:+CMSClassUnloadingEnabled -XX:OnOutOfMemoryError='kill -9 %p'\"), ('spark.default.parallelism', '120'), ('spark.master', 'yarn'), ('spark.decommissioning.timeout.threshold', '20'), ('spark.stage.attempt.ignoreOnDecommissionFetchFailure', 'true'), ('spark.logConf', 'True'), ('spark.executor.extraClassPath', '/usr/lib/hadoop-lzo/lib/*:/usr/lib/hadoop/hadoop-aws.jar:/usr/share/aws/aws-java-sdk/*:/usr/share/aws/emr/emrfs/conf:/usr/share/aws/emr/emrfs/lib/*:/usr/share/aws/emr/emrfs/auxlib/*:/usr/share/aws/emr/security/conf:/usr/share/aws/emr/security/lib/*:/usr/share/aws/hmclient/lib/aws-glue-datacatalog-spark-client.jar:/usr/share/java/Hive-JSON-Serde/hive-openx-serde.jar:/usr/share/aws/sagemaker-spark-sdk/lib/sagemaker-spark-sdk.jar'), ('spark.executor.extraLibraryPath', '/usr/lib/hadoop/lib/native:/usr/lib/hadoop-lzo/lib/native'), ('spark.yarn.isPython', 'true'), ('spark.dynamicAllocation.enabled', 'true'), ('spark.blacklist.decommissioning.enabled', 'true')]\n",
      "CPU times: user 24 ms, sys: 8 ms, total: 32 ms\n",
      "Wall time: 8.71 s\n"
     ]
    }
   ],
   "source": [
    "def create_sc(pyFiles):\n",
    "    sc_conf = SparkConf()\n",
    "    sc_conf.setAppName(\"Weather_PCA\")\n",
    "    sc_conf.set('spark.executor.memory', '2g')\n",
    "    sc_conf.set('spark.executor.cores', '4')\n",
    "    sc_conf.set('spark.cores.max', '40')\n",
    "    sc_conf.set('spark.default.parallelism','120')\n",
    "    sc_conf.set('spark.logConf', True)\n",
    "    print(sc_conf.getAll())\n",
    "\n",
    "    sc = SparkContext(conf=sc_conf,pyFiles=pyFiles)\n",
    "\n",
    "    return sc \n",
    "\n",
    "sc = create_sc(pyFiles=['lib/numpy_pack.py','lib/spark_PCA.py','lib/computeStatistics.py'])"
   ]
  },
  {
   "cell_type": "code",
   "execution_count": 50,
   "metadata": {
    "collapsed": true,
    "slideshow": {
     "slide_type": "skip"
    }
   },
   "outputs": [],
   "source": [
    "from pyspark.sql import *\n",
    "sqlContext = SQLContext(sc)"
   ]
  },
  {
   "cell_type": "code",
   "execution_count": 35,
   "metadata": {
    "collapsed": true
   },
   "outputs": [],
   "source": [
    "import numpy as np\n",
    "from lib.computeStatistics import *"
   ]
  },
  {
   "cell_type": "code",
   "execution_count": 36,
   "metadata": {
    "collapsed": true
   },
   "outputs": [],
   "source": [
    "!aws s3 cp --recursive --quiet  s3://dse-weather/NY.parquet /mnt/workspace/Data/NY.parquet"
   ]
  },
  {
   "cell_type": "code",
   "execution_count": 37,
   "metadata": {},
   "outputs": [
    {
     "name": "stdout",
     "output_type": "stream",
     "text": [
      "424\t/mnt/workspace/Data/US_stations.parquet/US_stations.parquet\r\n",
      "848\t/mnt/workspace/Data/US_stations.parquet\r\n",
      "990536\t/mnt/workspace/Data/US_weather.parquet/US_weather.parquet\r\n",
      "1981072\t/mnt/workspace/Data/US_weather.parquet\r\n",
      "28244\t/mnt/workspace/Data/NY.parquet\r\n",
      "2010164\t/mnt/workspace/Data/\r\n"
     ]
    }
   ],
   "source": [
    "!du /mnt/workspace/Data/"
   ]
  },
  {
   "cell_type": "code",
   "execution_count": 38,
   "metadata": {},
   "outputs": [
    {
     "name": "stdout",
     "output_type": "stream",
     "text": [
      "mkdir: `weather': File exists\n",
      "Found 2 items\n",
      "drwxr-xr-x   - hadoop hadoop          0 2018-04-03 20:00 .sparkStaging\n",
      "drwxr-xr-x   - hadoop hadoop          0 2018-04-03 19:44 weather\n"
     ]
    }
   ],
   "source": [
    "!hdfs dfs -mkdir weather\n",
    "!hdfs dfs -ls"
   ]
  },
  {
   "cell_type": "code",
   "execution_count": 39,
   "metadata": {},
   "outputs": [
    {
     "name": "stdout",
     "output_type": "stream",
     "text": [
      "copyFromLocal: `/weather/NY.parquet/NY.parquet/_SUCCESS': File exists\r\n",
      "copyFromLocal: `/weather/NY.parquet/NY.parquet/part-00000-8342bcf4-7fc2-4183-8e11-aefdb4915fbb-c000.snappy.parquet': File exists\r\n",
      "copyFromLocal: `/weather/NY.parquet/NY.parquet/part-00001-8342bcf4-7fc2-4183-8e11-aefdb4915fbb-c000.snappy.parquet': File exists\r\n",
      "copyFromLocal: `/weather/NY.parquet/NY.parquet/part-00002-8342bcf4-7fc2-4183-8e11-aefdb4915fbb-c000.snappy.parquet': File exists\r\n",
      "copyFromLocal: `/weather/NY.parquet/NY.parquet/part-00003-8342bcf4-7fc2-4183-8e11-aefdb4915fbb-c000.snappy.parquet': File exists\r\n",
      "copyFromLocal: `/weather/NY.parquet/NY.parquet/part-00004-8342bcf4-7fc2-4183-8e11-aefdb4915fbb-c000.snappy.parquet': File exists\r\n",
      "copyFromLocal: `/weather/NY.parquet/NY.parquet/part-00005-8342bcf4-7fc2-4183-8e11-aefdb4915fbb-c000.snappy.parquet': File exists\r\n",
      "copyFromLocal: `/weather/NY.parquet/NY.parquet/part-00006-8342bcf4-7fc2-4183-8e11-aefdb4915fbb-c000.snappy.parquet': File exists\r\n",
      "copyFromLocal: `/weather/NY.parquet/NY.parquet/part-00007-8342bcf4-7fc2-4183-8e11-aefdb4915fbb-c000.snappy.parquet': File exists\r\n",
      "copyFromLocal: `/weather/NY.parquet/NY.parquet/part-00008-8342bcf4-7fc2-4183-8e11-aefdb4915fbb-c000.snappy.parquet': File exists\r\n",
      "copyFromLocal: `/weather/NY.parquet/NY.parquet/part-00009-8342bcf4-7fc2-4183-8e11-aefdb4915fbb-c000.snappy.parquet': File exists\r\n",
      "copyFromLocal: `/weather/NY.parquet/NY.parquet/part-00010-8342bcf4-7fc2-4183-8e11-aefdb4915fbb-c000.snappy.parquet': File exists\r\n",
      "copyFromLocal: `/weather/NY.parquet/NY.parquet/part-00011-8342bcf4-7fc2-4183-8e11-aefdb4915fbb-c000.snappy.parquet': File exists\r\n",
      "copyFromLocal: `/weather/NY.parquet/NY.parquet/part-00012-8342bcf4-7fc2-4183-8e11-aefdb4915fbb-c000.snappy.parquet': File exists\r\n",
      "copyFromLocal: `/weather/NY.parquet/NY.parquet/part-00013-8342bcf4-7fc2-4183-8e11-aefdb4915fbb-c000.snappy.parquet': File exists\r\n"
     ]
    }
   ],
   "source": [
    "!hdfs dfs -copyFromLocal /mnt/workspace/Data/NY.parquet /weather/NY.parquet"
   ]
  },
  {
   "cell_type": "code",
   "execution_count": 40,
   "metadata": {},
   "outputs": [
    {
     "name": "stdout",
     "output_type": "stream",
     "text": [
      "57771504    /weather/NY.parquet\r\n",
      "847798      /weather/US_stations.parquet\r\n",
      "2027712578  /weather/US_weather.parquet\r\n"
     ]
    }
   ],
   "source": [
    "!hdfs dfs -du /weather/"
   ]
  },
  {
   "cell_type": "code",
   "execution_count": 51,
   "metadata": {},
   "outputs": [
    {
     "name": "stdout",
     "output_type": "stream",
     "text": [
      "84199\n",
      "+-----------+-----------+----+--------------------+-----+\n",
      "|    Station|Measurement|Year|              Values|State|\n",
      "+-----------+-----------+----+--------------------+-----+\n",
      "|USC00303452|       PRCP|1903|[00 7E 00 7E 00 7...|   NY|\n",
      "|USC00303452|       PRCP|1904|[00 00 28 5B 00 0...|   NY|\n",
      "|USC00303452|       PRCP|1905|[00 00 60 56 60 5...|   NY|\n",
      "|USC00303452|       PRCP|1906|[00 00 00 00 00 0...|   NY|\n",
      "|USC00303452|       PRCP|1907|[00 00 00 00 60 5...|   NY|\n",
      "+-----------+-----------+----+--------------------+-----+\n",
      "only showing top 5 rows\n",
      "\n",
      "CPU times: user 8 ms, sys: 0 ns, total: 8 ms\n",
      "Wall time: 11.3 s\n"
     ]
    }
   ],
   "source": [
    "%%time\n",
    "df=sqlContext.read.parquet('/weather/NY.parquet')\n",
    "print(df.count())\n",
    "df.show(5)"
   ]
  },
  {
   "cell_type": "code",
   "execution_count": 52,
   "metadata": {},
   "outputs": [
    {
     "name": "stdout",
     "output_type": "stream",
     "text": [
      "Number of executors= 120\n",
      "took 0.0011816024780273438 seconds\n"
     ]
    }
   ],
   "source": [
    "from time import time\n",
    "t=time()\n",
    "\n",
    "N=sc.defaultParallelism\n",
    "print('Number of executors=',N)\n",
    "print('took',time()-t,'seconds')"
   ]
  },
  {
   "cell_type": "code",
   "execution_count": 53,
   "metadata": {
    "collapsed": true
   },
   "outputs": [],
   "source": [
    "data_dir='/mnt/workspace/Data/'\n"
   ]
  },
  {
   "cell_type": "code",
   "execution_count": 54,
   "metadata": {},
   "outputs": [
    {
     "name": "stdout",
     "output_type": "stream",
     "text": [
      "NY 84199\n",
      "CPU times: user 4 ms, sys: 0 ns, total: 4 ms\n",
      "Wall time: 6.69 s\n"
     ]
    }
   ],
   "source": [
    "%%time\n",
    "from pickle import dump\n",
    "\n",
    "state='NY'\n",
    "parquet=state+'.parquet'\n",
    "df=sqlContext.read.parquet('/weather/'+parquet).cache()\n",
    "print(state,df.count())"
   ]
  },
  {
   "cell_type": "code",
   "execution_count": 55,
   "metadata": {},
   "outputs": [
    {
     "name": "stdout",
     "output_type": "stream",
     "text": [
      "+-----------+-----------+----+--------------------+-----+\n",
      "|    Station|Measurement|Year|              Values|State|\n",
      "+-----------+-----------+----+--------------------+-----+\n",
      "|USC00303452|       PRCP|1903|[00 7E 00 7E 00 7...|   NY|\n",
      "|USC00303452|       PRCP|1904|[00 00 28 5B 00 0...|   NY|\n",
      "|USC00303452|       PRCP|1905|[00 00 60 56 60 5...|   NY|\n",
      "|USC00303452|       PRCP|1906|[00 00 00 00 00 0...|   NY|\n",
      "+-----------+-----------+----+--------------------+-----+\n",
      "only showing top 4 rows\n",
      "\n",
      "CPU times: user 0 ns, sys: 4 ms, total: 4 ms\n",
      "Wall time: 74.7 ms\n"
     ]
    }
   ],
   "source": [
    "%%time\n",
    "df.show(4)"
   ]
  },
  {
   "cell_type": "code",
   "execution_count": 56,
   "metadata": {},
   "outputs": [
    {
     "data": {
      "text/plain": [
       "('/usr/bin/python3', '/usr/bin/python3')"
      ]
     },
     "execution_count": 56,
     "metadata": {},
     "output_type": "execute_result"
    }
   ],
   "source": [
    "import os\n",
    "os.environ['PYSPARK_PYTHON'], os.environ['PYSPARK_DRIVER_PYTHON']"
   ]
  },
  {
   "cell_type": "code",
   "execution_count": 57,
   "metadata": {},
   "outputs": [
    {
     "name": "stdout",
     "output_type": "stream",
     "text": [
      "SPARK_HOME True\n",
      "PYSPARK_PYTHON True\n",
      "PYSPARK_DRIVER_PYTHON True\n"
     ]
    }
   ],
   "source": [
    "Environ_vars=['SPARK_HOME','PYSPARK_PYTHON', 'PYSPARK_DRIVER_PYTHON']\n",
    "for var in Environ_vars:\n",
    "    print(var,var in os.environ)\n"
   ]
  },
  {
   "cell_type": "markdown",
   "metadata": {},
   "source": [
    "### Compatibility error\n",
    "\n",
    "The relevant part of the error messages is:\n",
    "```\n",
    "Exception: Python in worker has different version 2.7 than that in driver 3.6, PySpark cannot run with different minor versions.Please check environment variables PYSPARK_PYTHON and PYSPARK_DRIVER_PYTHON are correctly set.\n",
    "```\n",
    "\n",
    "If I try to check the variables using the terminal:\n",
    "```sh\n",
    "echo $PYSPARK_PYTHON, $PYSPARK_DRIVER_PYTHON\n",
    "```\n",
    "\n",
    "I get:\n",
    "```\n",
    ",\n",
    "```"
   ]
  },
  {
   "cell_type": "code",
   "execution_count": 58,
   "metadata": {
    "scrolled": true
   },
   "outputs": [
    {
     "name": "stdout",
     "output_type": "stream",
     "text": [
      "TMAX : shape of mdf is  13437\n",
      "time for TMAX is 20.44739818572998\n",
      "SNOW : shape of mdf is  15629\n",
      "time for SNOW is 19.603999137878418\n",
      "SNWD : shape of mdf is  14617\n",
      "time for SNWD is 18.709880113601685\n",
      "TMIN : shape of mdf is  13442\n",
      "time for TMIN is 16.583598852157593\n",
      "PRCP : shape of mdf is  16118\n",
      "time for PRCP is 20.742507696151733\n",
      "TOBS : shape of mdf is  10956\n",
      "time for TOBS is 14.593730926513672\n",
      "CPU times: user 4.47 s, sys: 292 ms, total: 4.76 s\n",
      "Wall time: 1min 50s\n"
     ]
    }
   ],
   "source": [
    "%%time\n",
    "STAT=computeStatistics(sqlContext,df)"
   ]
  },
  {
   "cell_type": "markdown",
   "metadata": {},
   "source": [
    "### Run time with 10 executors, 2GB each\n",
    "```\n",
    "TMAX : shape of mdf is  13437\n",
    "time for TMAX is 32.62236022949219\n",
    "SNOW : shape of mdf is  15629\n",
    "time for SNOW is 30.68799138069153\n",
    "SNWD : shape of mdf is  14617\n",
    "time for SNWD is 29.275496244430542\n",
    "TMIN : shape of mdf is  13442\n",
    "time for TMIN is 27.989774703979492\n",
    "PRCP : shape of mdf is  16118\n",
    "time for PRCP is 32.24087643623352\n",
    "TOBS : shape of mdf is  10956\n",
    "time for TOBS is 24.352991819381714\n",
    "CPU times: user 4.36 s, sys: 252 ms, total: 4.61 s\n",
    "Wall time: 2min 57s\n",
    "```\n",
    "### Run time with 40 executors, 16GB each.\n",
    "\n",
    "```\n",
    "TMAX : shape of mdf is  13437\n",
    "time for TMAX is 19.664730310440063\n",
    "SNOW : shape of mdf is  15629\n",
    "time for SNOW is 18.108243942260742\n",
    "SNWD : shape of mdf is  14617\n",
    "time for SNWD is 16.28211808204651\n",
    "TMIN : shape of mdf is  13442\n",
    "time for TMIN is 16.398584127426147\n",
    "PRCP : shape of mdf is  16118\n",
    "time for PRCP is 19.20434069633484\n",
    "TOBS : shape of mdf is  10956\n",
    "time for TOBS is 14.464087009429932\n",
    "CPU times: user 4.54 s, sys: 292 ms, total: 4.83 s\n",
    "Wall time: 1min 44s\n",
    "```\n",
    "### Run time with 120 executorsm 2GB each\n",
    "```\n",
    "TMAX : shape of mdf is  13437\n",
    "time for TMAX is 20.44739818572998\n",
    "SNOW : shape of mdf is  15629\n",
    "time for SNOW is 19.603999137878418\n",
    "SNWD : shape of mdf is  14617\n",
    "time for SNWD is 18.709880113601685\n",
    "TMIN : shape of mdf is  13442\n",
    "time for TMIN is 16.583598852157593\n",
    "PRCP : shape of mdf is  16118\n",
    "time for PRCP is 20.742507696151733\n",
    "TOBS : shape of mdf is  10956\n",
    "time for TOBS is 14.593730926513672\n",
    "CPU times: user 4.47 s, sys: 292 ms, total: 4.76 s\n",
    "Wall time: 1min 50s\n",
    "```"
   ]
  },
  {
   "cell_type": "code",
   "execution_count": 28,
   "metadata": {},
   "outputs": [
    {
     "name": "stdout",
     "output_type": "stream",
     "text": [
      "total 32\r\n",
      "drwxrwxr-x 2 hadoop hadoop  4096 Apr  1 17:49 NY.parquet\r\n",
      "drwxrwxr-x 3 hadoop hadoop  4096 Apr  1 16:23 US_stations.parquet\r\n",
      "drwxrwxr-x 3 hadoop hadoop 20480 Apr  1 16:23 US_weather.parquet\r\n"
     ]
    },
    {
     "ename": "NameError",
     "evalue": "name 'STAT' is not defined",
     "output_type": "error",
     "traceback": [
      "\u001b[0;31m---------------------------------------------------------------------------\u001b[0m",
      "\u001b[0;31mNameError\u001b[0m                                 Traceback (most recent call last)",
      "\u001b[0;32m<ipython-input-28-329a4e39eecf>\u001b[0m in \u001b[0;36m<module>\u001b[0;34m()\u001b[0m\n\u001b[1;32m      1\u001b[0m \u001b[0mfilename\u001b[0m\u001b[0;34m=\u001b[0m\u001b[0mdata_dir\u001b[0m\u001b[0;34m+\u001b[0m\u001b[0;34m'STAT_%s.pickle'\u001b[0m\u001b[0;34m%\u001b[0m\u001b[0mstate\u001b[0m\u001b[0;34m\u001b[0m\u001b[0m\n\u001b[1;32m      2\u001b[0m \u001b[0mget_ipython\u001b[0m\u001b[0;34m(\u001b[0m\u001b[0;34m)\u001b[0m\u001b[0;34m.\u001b[0m\u001b[0msystem\u001b[0m\u001b[0;34m(\u001b[0m\u001b[0;34m'ls -l $data_dir'\u001b[0m\u001b[0;34m)\u001b[0m\u001b[0;34m\u001b[0m\u001b[0m\n\u001b[0;32m----> 3\u001b[0;31m \u001b[0mdump\u001b[0m\u001b[0;34m(\u001b[0m\u001b[0;34m(\u001b[0m\u001b[0mSTAT\u001b[0m\u001b[0;34m,\u001b[0m\u001b[0mSTAT_Descriptions\u001b[0m\u001b[0;34m)\u001b[0m\u001b[0;34m,\u001b[0m\u001b[0mopen\u001b[0m\u001b[0;34m(\u001b[0m\u001b[0mfilename\u001b[0m\u001b[0;34m,\u001b[0m\u001b[0;34m'wb'\u001b[0m\u001b[0;34m)\u001b[0m\u001b[0;34m)\u001b[0m\u001b[0;34m\u001b[0m\u001b[0m\n\u001b[0m",
      "\u001b[0;31mNameError\u001b[0m: name 'STAT' is not defined"
     ]
    }
   ],
   "source": [
    "filename=data_dir+'STAT_%s.pickle'%state\n",
    "!ls -l $data_dir\n",
    "dump((STAT,STAT_Descriptions),open(filename,'wb'))"
   ]
  },
  {
   "cell_type": "code",
   "execution_count": 9,
   "metadata": {},
   "outputs": [
    {
     "name": "stdout",
     "output_type": "stream",
     "text": [
      "TMAX 0.0\n",
      "SNOW 852107.705867\n",
      "SNWD 4464167.85212\n",
      "TMIN 319734.5315\n",
      "PRCP 1184305.12284\n",
      "TOBS 277719.008938\n"
     ]
    }
   ],
   "source": [
    "X=STAT['TMAX']['Var']\n",
    "for key in STAT.keys():\n",
    "    Y=STAT[key]['Var']\n",
    "    print(key,sum(abs(X-Y)))"
   ]
  },
  {
   "cell_type": "code",
   "execution_count": 11,
   "metadata": {},
   "outputs": [
    {
     "name": "stdout",
     "output_type": "stream",
     "text": [
      "-rw-r--r--  1 yoavfreund  staff  25684434 Mar 18 20:30 ../../Data/Weather/STAT_NY.pickle\r\n",
      "-rw-r--r--  1 yoavfreund  staff  17545930 Mar 18 17:38 ../../Data/Weather/STAT_NY.pickle.gz\r\n",
      "-rw-r--r--  1 yoavfreund  staff  26741490 Mar 18 20:19 ../../Data/Weather/STAT_RI.pickle\r\n",
      "-rw-r--r--  1 yoavfreund  staff  13522496 Mar 10 12:06 ../../Data/Weather/STAT_SSSSBBBB.pickle.gz\r\n"
     ]
    }
   ],
   "source": [
    "!ls -l ../../Data/Weather/STAT*"
   ]
  },
  {
   "cell_type": "code",
   "execution_count": 12,
   "metadata": {},
   "outputs": [
    {
     "name": "stdout",
     "output_type": "stream",
     "text": [
      "-rw-r--r--  1 yoavfreund  staff  14948048 Mar 18 20:30 ../../Data/Weather/STAT_NY.pickle.gz\r\n",
      "-rw-r--r--  1 yoavfreund  staff  11717259 Mar 18 20:19 ../../Data/Weather/STAT_RI.pickle.gz\r\n",
      "-rw-r--r--  1 yoavfreund  staff  13522496 Mar 10 12:06 ../../Data/Weather/STAT_SSSSBBBB.pickle.gz\r\n"
     ]
    }
   ],
   "source": [
    "!gzip -f ../../Data/Weather/STAT*.pickle\n",
    "!ls -l ../../Data/Weather/STAT*"
   ]
  },
  {
   "cell_type": "code",
   "execution_count": 13,
   "metadata": {
    "scrolled": true
   },
   "outputs": [
    {
     "name": "stdout",
     "output_type": "stream",
     "text": [
      "aws s3  cp ../../Data/Weather/STAT_RI.pickle.gz s3://mas-dse-open/Weather/by_state/STAT_RI.pickle.gz\n",
      "upload: ../../Data/Weather/STAT_RI.pickle.gz to s3://mas-dse-open/Weather/by_state/STAT_RI.pickle.gz\n",
      "aws s3  cp ../../Data/Weather/STAT_NY.pickle.gz s3://mas-dse-open/Weather/by_state/STAT_NY.pickle.gz\n",
      "upload: ../../Data/Weather/STAT_NY.pickle.gz to s3://mas-dse-open/Weather/by_state/STAT_NY.pickle.gz\n"
     ]
    }
   ],
   "source": [
    "for state in ['RI','NY']:\n",
    "    command=\"aws s3  cp ../../Data/Weather/STAT_%s.pickle.gz s3://mas-dse-open/Weather/by_state/STAT_%s.pickle.gz\"%(state,state)\n",
    "    print(command)\n",
    "    !$command"
   ]
  },
  {
   "cell_type": "code",
   "execution_count": 14,
   "metadata": {},
   "outputs": [
    {
     "name": "stdout",
     "output_type": "stream",
     "text": [
      "2018-03-18 20:34:12   14948048 STAT_NY.pickle.gz\r\n",
      "2018-03-18 20:33:54   11717259 STAT_RI.pickle.gz\r\n"
     ]
    }
   ],
   "source": [
    "!aws s3  ls s3://mas-dse-open/Weather/by_state/ | grep STAT"
   ]
  },
  {
   "cell_type": "code",
   "execution_count": null,
   "metadata": {
    "collapsed": true
   },
   "outputs": [],
   "source": []
  }
 ],
 "metadata": {
  "anaconda-cloud": {},
  "celltoolbar": "Slideshow",
  "kernelspec": {
   "display_name": "Python 3",
   "language": "python",
   "name": "python3"
  },
  "language_info": {
   "codemirror_mode": {
    "name": "ipython",
    "version": 3
   },
   "file_extension": ".py",
   "mimetype": "text/x-python",
   "name": "python",
   "nbconvert_exporter": "python",
   "pygments_lexer": "ipython3",
   "version": "3.4.5"
  },
  "name": "PCA_using_numpy for HW3",
  "notebookId": 85286,
  "toc": {
   "nav_menu": {
    "height": "116px",
    "width": "252px"
   },
   "number_sections": true,
   "sideBar": true,
   "skip_h1_title": false,
   "title_cell": "Table of Contents",
   "title_sidebar": "Contents",
   "toc_cell": false,
   "toc_position": {},
   "toc_section_display": "block",
   "toc_window_display": false
  }
 },
 "nbformat": 4,
 "nbformat_minor": 1
}
