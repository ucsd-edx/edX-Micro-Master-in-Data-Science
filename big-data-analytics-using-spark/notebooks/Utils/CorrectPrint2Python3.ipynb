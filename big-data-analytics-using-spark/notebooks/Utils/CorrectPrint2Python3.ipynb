{
 "cells": [
  {
   "cell_type": "code",
   "execution_count": 1,
   "metadata": {
    "collapsed": true
   },
   "outputs": [],
   "source": [
    "from glob import glob"
   ]
  },
  {
   "cell_type": "code",
   "execution_count": 6,
   "metadata": {},
   "outputs": [
    {
     "name": "stdout",
     "output_type": "stream",
     "text": [
      "/Users/yoavfreund/projects/edX-Micro-Master-in-Data-Science/big-data-analytics-using-spark/notebooks/Section2-PCA/PCA/lib\n",
      "total 120\r\n",
      "-rw-r--r--  1 yoavfreund  staff   3111 Feb 13 20:38 Eigen_decomp.py\r\n",
      "-rw-r--r--  1 yoavfreund  staff   1269 Feb 13 20:38 YearPlotter.py\r\n",
      "-rw-r--r--  1 yoavfreund  staff    609 Feb 13 20:38 binary_search.py\r\n",
      "-rw-r--r--  1 yoavfreund  staff   1842 Feb 13 20:38 computeStats.py\r\n",
      "-rw-r--r--  1 yoavfreund  staff   1112 Feb 13 20:38 import_modules.py\r\n",
      "-rw-r--r--  1 yoavfreund  staff  19169 Feb 13 20:38 leaflet.py\r\n",
      "-rw-r--r--  1 yoavfreund  staff   1086 Feb 13 20:38 numpy_pack.py\r\n",
      "-rw-r--r--  1 yoavfreund  staff   3869 Feb 13 20:38 recon_plot.py\r\n",
      "-rw-r--r--  1 yoavfreund  staff   2870 Feb 13 20:38 recon_plot2.py\r\n",
      "-rw-r--r--  1 yoavfreund  staff   2565 Feb 13 20:38 row_parser.py\r\n",
      "-rw-r--r--  1 yoavfreund  staff   1962 Feb 13 20:38 spark_PCA.py\r\n"
     ]
    }
   ],
   "source": [
    "%cd /Users/yoavfreund/projects/edX-Micro-Master-in-Data-Science/big-data-analytics-using-spark/notebooks/Section2-PCA/PCA/lib\n",
    "!ls -lrt\n",
    "\n"
   ]
  },
  {
   "cell_type": "code",
   "execution_count": 7,
   "metadata": {},
   "outputs": [
    {
     "name": "stdout",
     "output_type": "stream",
     "text": [
      "Eigen_decomp.py   computeStats.py   numpy_pack.py     row_parser.py\r\n",
      "YearPlotter.py    import_modules.py recon_plot.py     spark_PCA.py\r\n",
      "binary_search.py  leaflet.py        recon_plot2.py\r\n"
     ]
    }
   ],
   "source": [
    "!mkdir ../copy\n",
    "!cp *.py ../copy\n",
    "!ls "
   ]
  },
  {
   "cell_type": "code",
   "execution_count": 10,
   "metadata": {},
   "outputs": [
    {
     "name": "stdout",
     "output_type": "stream",
     "text": [
      "YearPlotter.py 35\n",
      "numpy_pack.py 35\n",
      "binary_search.py 22\n",
      "recon_plot.py 108\n",
      "computeStats.py 47\n",
      "import_modules.py 33\n",
      "leaflet.py 535\n",
      "recon_plot2.py 83\n",
      "spark_PCA.py 56\n",
      "row_parser.py 93\n",
      "Eigen_decomp.py 72\n"
     ]
    }
   ],
   "source": [
    "import re\n",
    "pat = re.compile(r'([#\\s]*print)\\s*([^(].*)')\n",
    "for filename in glob('*.py'):\n",
    "    text=open(filename,'r').readlines()\n",
    "    print(filename,len(text))\n",
    "    #file=open(filename,'w')\n",
    "    for i in range(len(text)):\n",
    "        line=text[i]\n",
    "        m=pat.match(line)\n",
    "        if m:\n",
    "            #print(line[:-1])\n",
    "            nl='%s(%s)'%m.groups()\n",
    "            text[i]=nl\n",
    "            #print(nl)\n",
    "        else:\n",
    "            text[i]=line[:-1]\n",
    "    open(filename,'w').write('\\n'.join(text))\n",
    "\n",
    "    "
   ]
  },
  {
   "cell_type": "code",
   "execution_count": 11,
   "metadata": {},
   "outputs": [
    {
     "name": "stdout",
     "output_type": "stream",
     "text": [
      "diff ../lib/Eigen_decomp.py ../copy/Eigen_decomp.py\r\n",
      "72c72\r\n",
      "<         \r\n",
      "\\ No newline at end of file\r\n",
      "---\r\n",
      ">         )\r\n",
      "\\ No newline at end of file\r\n",
      "diff ../lib/YearPlotter.py ../copy/YearPlotter.py\r\n",
      "13c13\r\n",
      "<         #print(self.i,'fig=',fig,'ax=',ax)\r\n",
      "---\r\n",
      ">         #print self.i,'fig=',fig,'ax=',ax\r\n",
      "19c19\r\n",
      "<             #print('one')\r\n",
      "---\r\n",
      ">             #print 'one'\r\n",
      "22c22\r\n",
      "<             #print('more than 1')\r\n",
      "---\r\n",
      ">             #print 'more than 1'\r\n",
      "35c35\r\n",
      "<        \r\n",
      "\\ No newline at end of file\r\n",
      "---\r\n",
      ">         \r\n",
      "diff ../lib/binary_search.py ../copy/binary_search.py\r\n",
      "22c22\r\n",
      "<     return lower\r\n",
      "\\ No newline at end of file\r\n",
      "---\r\n",
      ">     return lower\r\n",
      "diff ../lib/computeStats.py ../copy/computeStats.py\r\n",
      "47c47\r\n",
      "<   ]\r\n",
      "\\ No newline at end of file\r\n",
      "---\r\n",
      ">   ]\r\n",
      "diff ../lib/import_modules.py ../copy/import_modules.py\r\n",
      "22c22\r\n",
      "<                 print(\"('%s','%s','%s'),\"%(name,shortname,version))\r\n",
      "---\r\n",
      ">                 print \"('%s','%s','%s'),\"%(name,shortname,version)\r\n",
      "24c24\r\n",
      "<                 print(\"%10s as %5s \\tversion=%s \\trequired version>=%s\"%(name,shortname,version,req_version),)\r\n",
      "---\r\n",
      ">                 print \"%10s as %5s \\tversion=%s \\trequired version>=%s\"%(name,shortname,version,req_version),\r\n",
      "26c26\r\n",
      "<                     print('******* Update Version ******')\r\n",
      "---\r\n",
      ">                     print '******* Update Version ******'\r\n",
      "28,29c28\r\n",
      "<                     print(\r\n",
      "< )\r\n",
      "---\r\n",
      ">                     print\r\n",
      "31c30\r\n",
      "<             print('module %s has no version'%name)\r\n",
      "---\r\n",
      ">             print 'module %s has no version'%name\r\n",
      "33,34c32,33\r\n",
      "<             print(sys.exc_info())\r\n",
      "<             print('***** Failed to load module %s *******'%name)\r\n",
      "\\ No newline at end of file\r\n",
      "---\r\n",
      ">             print sys.exc_info()\r\n",
      ">             print '***** Failed to load module %s *******'%name\r\n",
      "\\ No newline at end of file\r\n",
      "diff ../lib/leaflet.py ../copy/leaflet.py\r\n",
      "535c535\r\n",
      "<         pass\r\n",
      "\\ No newline at end of file\r\n",
      "---\r\n",
      ">         pass\r\n",
      "diff ../lib/numpy_pack.py ../copy/numpy_pack.py\r\n",
      "35c35\r\n",
      "<     return np.frombuffer(x,dtype=data_type)\r\n",
      "\\ No newline at end of file\r\n",
      "---\r\n",
      ">     return np.frombuffer(x,dtype=data_type)\r\n",
      "diff ../lib/recon_plot.py ../copy/recon_plot.py\r\n",
      "22c22\r\n",
      "<         #print('in recon_plot.__init__',ax)\r\n",
      "---\r\n",
      ">         #print 'in recon_plot.__init__',ax\r\n",
      "80c80\r\n",
      "<         #print(self.i,coeff)\r\n",
      "---\r\n",
      ">         #print self.i,coeff\r\n",
      "85c85\r\n",
      "<             #print('setting axis in plot_combination')\r\n",
      "---\r\n",
      ">             #print  'setting axis in plot_combination'\r\n",
      "107a108\r\n",
      "> \r\n",
      "diff ../lib/recon_plot2.py ../copy/recon_plot2.py\r\n",
      "83c83\r\n",
      "<     \r\n",
      "\\ No newline at end of file\r\n",
      "---\r\n",
      ">     \r\n",
      "diff ../lib/row_parser.py ../copy/row_parser.py\r\n",
      "52c52\r\n",
      "<         #print(_type)\r\n",
      "---\r\n",
      ">         #print _type\r\n",
      "68c68\r\n",
      "<             print('unrecognized type',_type)\r\n",
      "---\r\n",
      ">             print 'unrecognized type',_type\r\n",
      "73c73\r\n",
      "<         print(field,rule)\r\n",
      "---\r\n",
      ">         print field,rule\r\n",
      "93c93\r\n",
      "<     return RowObject(*D\r\n",
      "\\ No newline at end of file\r\n",
      "---\r\n",
      ">     return RowObject(*D)\r\n",
      "\\ No newline at end of file\r\n",
      "diff ../lib/spark_PCA.py ../copy/spark_PCA.py\r\n",
      "26,29c26,29\r\n",
      "<     # print('RDD=',RDD.collect())\r\n",
      "<     # print('shape of S=',S.shape,'shape of N=',N.shape)\r\n",
      "<     # print('S=',S)\r\n",
      "<     # print('N=',N)\r\n",
      "---\r\n",
      ">     # print 'RDD=',RDD.collect()\r\n",
      ">     # print 'shape of S=',S.shape,'shape of N=',N.shape\r\n",
      ">     # print 'S=',S\r\n",
      ">     # print 'N=',N\r\n",
      "32c32\r\n",
      "<     print('shape of E=',E.shape,'shape of NE=',NE.shape)\r\n",
      "---\r\n",
      ">     print 'shape of E=',E.shape,'shape of NE=',NE.shape\r\n",
      "55,56c55,56\r\n",
      "<     print('eigval=',eigval)\r\n",
      "<     print('eigvec=',eigvec)\r\n",
      "\\ No newline at end of file\r\n",
      "---\r\n",
      ">     print 'eigval=',eigval\r\n",
      ">     print 'eigvec=',eigvec\r\n"
     ]
    }
   ],
   "source": [
    "!diff ../lib/ ../copy/"
   ]
  },
  {
   "cell_type": "code",
   "execution_count": 23,
   "metadata": {},
   "outputs": [
    {
     "data": {
      "text/plain": [
       "'alskdl'"
      ]
     },
     "execution_count": 23,
     "metadata": {},
     "output_type": "execute_result"
    }
   ],
   "source": [
    "A=\"   alskdl   \"\n",
    "A.strip()\n",
    "\n",
    "\n"
   ]
  },
  {
   "cell_type": "code",
   "execution_count": null,
   "metadata": {
    "collapsed": true
   },
   "outputs": [],
   "source": []
  }
 ],
 "metadata": {
  "kernelspec": {
   "display_name": "Python 3",
   "language": "python",
   "name": "python3"
  },
  "language_info": {
   "codemirror_mode": {
    "name": "ipython",
    "version": 3
   },
   "file_extension": ".py",
   "mimetype": "text/x-python",
   "name": "python",
   "nbconvert_exporter": "python",
   "pygments_lexer": "ipython3",
   "version": "3.6.3"
  }
 },
 "nbformat": 4,
 "nbformat_minor": 2
}
