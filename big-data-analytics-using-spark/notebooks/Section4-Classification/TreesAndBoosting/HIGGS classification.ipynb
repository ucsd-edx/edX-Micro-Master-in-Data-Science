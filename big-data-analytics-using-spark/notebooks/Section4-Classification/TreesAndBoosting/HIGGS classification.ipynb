{
 "cells": [
  {
   "cell_type": "code",
   "execution_count": 22,
   "metadata": {},
   "outputs": [],
   "source": [
    "from pyspark.mllib.linalg import Vectors\n",
    "from pyspark.mllib.regression import LabeledPoint\n",
    "\n",
    "from pyspark.mllib.tree import GradientBoostedTrees, GradientBoostedTreesModel\n",
    "from pyspark.mllib.tree import RandomForest, RandomForestModel\n",
    "\n",
    "from pyspark.mllib.util import MLUtils\n",
    "pwd = %pwd\n",
    "\n",
    "from pyspark import SparkContext\n",
    "sc=SparkContext()\n",
    "\n",
    "import os"
   ]
  },
  {
   "cell_type": "markdown",
   "metadata": {
    "slideshow": {
     "slide_type": "slide"
    }
   },
   "source": [
    "### Higgs data set\n",
    "* **URL:** http://archive.ics.uci.edu/ml/datasets/HIGGS#  \n",
    "* **Abstract:** This is a classification problem to distinguish between a signal process which produces Higgs bosons and a background process which does not.\n",
    "\n",
    "**Data Set Information:**  \n",
    "The data has been produced using Monte Carlo simulations. The first 21 features (columns 2-22) are kinematic properties measured by the particle detectors in the accelerator. The last seven features are functions of the first 21 features; these are high-level features derived by physicists to help discriminate between the two classes. There is an interest in using deep learning methods to obviate the need for physicists to manually develop such features. Benchmark results using Bayesian Decision Trees from a standard physics package and 5-layer neural networks are presented in the original paper. The last 500,000 examples are used as a test set.\n",
    "\n"
   ]
  },
  {
   "cell_type": "code",
   "execution_count": 2,
   "metadata": {
    "scrolled": true,
    "slideshow": {
     "slide_type": "slide"
    }
   },
   "outputs": [
    {
     "name": "stdout",
     "output_type": "stream",
     "text": [
      "28 ['lepton pT', 'lepton eta', 'lepton phi', 'missing energy magnitude', 'missing energy phi', 'jet 1 pt', 'jet 1 eta', 'jet 1 phi', 'jet 1 b-tag', 'jet 2 pt', 'jet 2 eta', 'jet 2 phi', 'jet 2 b-tag', 'jet 3 pt', 'jet 3 eta', 'jet 3 phi', 'jet 3 b-tag', 'jet 4 pt', 'jet 4 eta', 'jet 4 phi', 'jet 4 b-tag', 'm_jj', 'm_jjj', 'm_lv', 'm_jlv', 'm_bb', 'm_wbb', 'm_wwbb']\n"
     ]
    }
   ],
   "source": [
    "#define feature names\n",
    "feature_text='lepton pT, lepton eta, lepton phi, missing energy magnitude, missing energy phi, jet 1 pt, jet 1 eta, jet 1 phi, jet 1 b-tag, jet 2 pt, jet 2 eta, jet 2 phi, jet 2 b-tag, jet 3 pt, jet 3 eta, jet 3 phi, jet 3 b-tag, jet 4 pt, jet 4 eta, jet 4 phi, jet 4 b-tag, m_jj, m_jjj, m_lv, m_jlv, m_bb, m_wbb, m_wwbb'\n",
    "features=[a.strip() for a in feature_text.split(',')]\n",
    "print(len(features),features)"
   ]
  },
  {
   "cell_type": "code",
   "execution_count": 13,
   "metadata": {
    "slideshow": {
     "slide_type": "slide"
    }
   },
   "outputs": [
    {
     "name": "stdout",
     "output_type": "stream",
     "text": [
      "/home/jovyan/work/CSE255-DSE230-2018/Sections/Data/HIGGS\n",
      "total 7847172\r\n",
      "-rw-r--r-- 1 jovyan users 8035497980 May 12 20:18 HIGGS.csv\r\n"
     ]
    }
   ],
   "source": [
    "# create a directory called higgs, download and decompress HIGGS.csv.gz into it\n",
    "data_folder = '../../Data/HIGGS'\n",
    "from os.path import exists\n",
    "if not exists(data_folder):\n",
    "    print(\"creating directory HIGGS\")\n",
    "    !mkdir -p {data_folder}/HIGGS\n",
    "%cd {data_folder}\n",
    "if not exists('HIGGS.csv'):\n",
    "    if not exists('HIGGS.csv.gz'):\n",
    "        print('downloading HIGGS.csv.gz')\n",
    "        !curl -O http://archive.ics.uci.edu/ml/machine-learning-databases/00280/HIGGS.csv.gz\n",
    "    print('decompressing HIGGS.csv.gz --- May take 5-10 minutes')\n",
    "    !gunzip -f HIGGS.csv.gz\n",
    "!ls -l"
   ]
  },
  {
   "cell_type": "code",
   "execution_count": 14,
   "metadata": {
    "slideshow": {
     "slide_type": "slide"
    }
   },
   "outputs": [
    {
     "name": "stdout",
     "output_type": "stream",
     "text": [
      "1.000000000000000000e+00,8.692932128906250000e-01,-6.350818276405334473e-01,2.256902605295181274e-01,3.274700641632080078e-01,-6.899932026863098145e-01,7.542022466659545898e-01,-2.485731393098831177e-01,-1.092063903808593750e+00,0.000000000000000000e+00,1.374992132186889648e+00,-6.536741852760314941e-01,9.303491115570068359e-01,1.107436060905456543e+00,1.138904333114624023e+00,-1.578198313713073730e+00,-1.046985387802124023e+00,0.000000000000000000e+00,6.579295396804809570e-01,-1.045456994324922562e-02,-4.576716944575309753e-02,3.101961374282836914e+00,1.353760004043579102e+00,9.795631170272827148e-01,9.780761599540710449e-01,9.200048446655273438e-01,7.216574549674987793e-01,9.887509346008300781e-01,8.766783475875854492e-01\r\n",
      "1.000000000000000000e+00,9.075421094894409180e-01,3.291472792625427246e-01,3.594118654727935791e-01,1.497969865798950195e+00,-3.130095303058624268e-01,1.095530629158020020e+00,-5.575249195098876953e-01,-1.588229775428771973e+00,2.173076152801513672e+00,8.125811815261840820e-01,-2.136419266462326050e-01,1.271014571189880371e+00,2.214872121810913086e+00,4.999939501285552979e-01,-1.261431813240051270e+00,7.321561574935913086e-01,0.000000000000000000e+00,3.987008929252624512e-01,-1.138930082321166992e+00,-8.191101951524615288e-04,0.000000000000000000e+00,3.022198975086212158e-01,8.330481648445129395e-01,9.856996536254882812e-01,9.780983924865722656e-01,7.797321677207946777e-01,9.923557639122009277e-01,7.983425855636596680e-01\r\n"
     ]
    }
   ],
   "source": [
    "# Have a look at the first two lines of the data file\n",
    "!head -2 HIGGS.csv"
   ]
  },
  {
   "cell_type": "code",
   "execution_count": 25,
   "metadata": {
    "slideshow": {
     "slide_type": "fragment"
    }
   },
   "outputs": [
    {
     "data": {
      "text/plain": [
       "'1.000000000000000000e+00,8.692932128906250000e-01,-6.350818276405334473e-01,2.256902605295181274e-01,3.274700641632080078e-01,-6.899932026863098145e-01,7.542022466659545898e-01,-2.485731393098831177e-01,-1.092063903808593750e+00,0.000000000000000000e+00,1.374992132186889648e+00,-6.536741852760314941e-01,9.303491115570068359e-01,1.107436060905456543e+00,1.138904333114624023e+00,-1.578198313713073730e+00,-1.046985387802124023e+00,0.000000000000000000e+00,6.579295396804809570e-01,-1.045456994324922562e-02,-4.576716944575309753e-02,3.101961374282836914e+00,1.353760004043579102e+00,9.795631170272827148e-01,9.780761599540710449e-01,9.200048446655273438e-01,7.216574549674987793e-01,9.887509346008300781e-01,8.766783475875854492e-01'"
      ]
     },
     "execution_count": 25,
     "metadata": {},
     "output_type": "execute_result"
    }
   ],
   "source": [
    "# Read the file into an RDD\n",
    "# If doing this on a real cluster, you need the file to be available on all nodes, ideally in HDFS.\n",
    "current_path = %pwd\n",
    "inputRDD=sc.textFile(os.path.join(current_path, \"HIGGS.csv\"))\n",
    "inputRDD.first()"
   ]
  },
  {
   "cell_type": "markdown",
   "metadata": {
    "slideshow": {
     "slide_type": "slide"
    }
   },
   "source": [
    "### Reducing data size\n",
    "Make the dataset smaller to be able to run the computations on your local machine"
   ]
  },
  {
   "cell_type": "code",
   "execution_count": 26,
   "metadata": {
    "slideshow": {
     "slide_type": "subslide"
    }
   },
   "outputs": [
    {
     "data": {
      "text/plain": [
       "LabeledPoint(1.0, [1.3436527252197266,0.8385329246520996,-1.0611385107040405,2.472015142440796,-0.5726317167282104,1.5127099752426147,1.1436901092529297,0.8555619716644287,0.0,0.88422030210495,1.4746055603027344,-1.36064875125885,1.1074360609054565,1.5872656106948853,2.2348334789276123,0.07756848633289337,0.0,1.6094081401824951,2.39640474319458,0.7572935223579407,0.0,0.9340201020240784,0.8447072505950928,1.0778440237045288,1.4001836776733398,0.9477745294570923,1.007614254951477,0.9010174870491028])"
      ]
     },
     "execution_count": 26,
     "metadata": {},
     "output_type": "execute_result"
    }
   ],
   "source": [
    "input_sampled = inputRDD.sample(False,0.01)\n",
    "\n",
    "# Transform the text RDD into an RDD of LabeledPoints\n",
    "def LineToLabeledPoint(line):\n",
    "    V = [float(x) for x in line.split(',')]\n",
    "    return LabeledPoint(V[0],V[1:])\n",
    "Data=input_sampled.map(LineToLabeledPoint)\n",
    "Data.first()"
   ]
  },
  {
   "cell_type": "markdown",
   "metadata": {},
   "source": [
    "### 70-30 split into train/test"
   ]
  },
  {
   "cell_type": "code",
   "execution_count": null,
   "metadata": {
    "scrolled": true,
    "slideshow": {
     "slide_type": "fragment"
    }
   },
   "outputs": [],
   "source": [
    "from time import time\n",
    "start = time()\n",
    "(trainingData,testData)=Data.randomSplit([0.7,0.3])\n",
    "\n",
    "print('Sizes: Data1=%d, trainingData=%d, testData=%d'%(Data.count(),trainingData.cache().count(),testData.cache().count()))\n",
    "print(\"Sampling and splitting took:\", int(time()-start),'seconds')"
   ]
  },
  {
   "cell_type": "code",
   "execution_count": 8,
   "metadata": {},
   "outputs": [
    {
     "data": {
      "text/plain": [
       "[(1.0, 17495), (0.0, 15359)]"
      ]
     },
     "execution_count": 8,
     "metadata": {},
     "output_type": "execute_result"
    }
   ],
   "source": [
    "# Checking testData distribution\n",
    "counts=testData.map(lambda lp:(lp.label,1)).reduceByKey(lambda x,y:x+y).collect()\n",
    "counts.sort(key=lambda x:x[1],reverse=True)\n",
    "counts"
   ]
  },
  {
   "cell_type": "markdown",
   "metadata": {
    "slideshow": {
     "slide_type": "slide"
    }
   },
   "source": [
    "### Random forests\n"
   ]
  },
  {
   "cell_type": "code",
   "execution_count": 9,
   "metadata": {
    "scrolled": false,
    "slideshow": {
     "slide_type": "subslide"
    }
   },
   "outputs": [
    {
     "name": "stdout",
     "output_type": "stream",
     "text": [
      "1 {'test': 0.40375601144457296, 'train': 0.40663722002892544} 31 seconds\n",
      "3 {'test': 0.34741583977597856, 'train': 0.345594079401686} 32 seconds\n",
      "6 {'test': 0.32367443842454496, 'train': 0.316955269775502} 43 seconds\n",
      "10 {'test': 0.30452912887319655, 'train': 0.2664008651578522} 86 seconds\n",
      "15 {'test': 0.30745114750106534, 'train': 0.13678354115363067} 316 seconds\n",
      "20 {'test': 0.3139952517197297, 'train': 0.03345971934487746} 818 seconds\n",
      "{1: {'test': 0.40375601144457296, 'train': 0.40663722002892544}, 3: {'test': 0.34741583977597856, 'train': 0.345594079401686}, 6: {'test': 0.32367443842454496, 'train': 0.316955269775502}, 10: {'test': 0.30452912887319655, 'train': 0.2664008651578522}, 15: {'test': 0.30745114750106534, 'train': 0.13678354115363067}, 20: {'test': 0.3139952517197297, 'train': 0.03345971934487746}}\n"
     ]
    }
   ],
   "source": [
    "errors={}\n",
    "for depth in [1,3,6,10,15,20]:\n",
    "    start=time()\n",
    "    model = RandomForest.trainClassifier(trainingData, numClasses=2, categoricalFeaturesInfo={},\n",
    "                                     numTrees=10, featureSubsetStrategy=\"auto\",\n",
    "                                     impurity='gini', maxDepth=depth, maxBins=32)\n",
    "    #print model.toDebugString()\n",
    "    errors[depth]={}\n",
    "    dataSets={'train':trainingData,'test':testData}\n",
    "    for name in list(dataSets.keys()):  # Calculate errors on train and test sets\n",
    "        data=dataSets[name]\n",
    "        Predicted=model.predict(data.map(lambda x: x.features))\n",
    "        LabelsAndPredictions=data.map(lambda lp: lp.label).zip(Predicted)\n",
    "        Err = LabelsAndPredictions.filter(lambda v_p:v_p[0] != v_p[1]).count()/float(data.count())\n",
    "        errors[depth][name]=Err\n",
    "    print(depth,errors[depth],int(time()-start),'seconds')\n",
    "print(errors)"
   ]
  },
  {
   "cell_type": "code",
   "execution_count": null,
   "metadata": {
    "collapsed": true,
    "slideshow": {
     "slide_type": "skip"
    }
   },
   "outputs": [],
   "source": [
    "%pylab inline"
   ]
  },
  {
   "cell_type": "code",
   "execution_count": 10,
   "metadata": {
    "collapsed": true,
    "slideshow": {
     "slide_type": "subslide"
    }
   },
   "outputs": [],
   "source": [
    "def extract_errors(B):\n",
    "    keys=B.keys()\n",
    "    keys.sort()\n",
    "    train=[]; test=[];\n",
    "    for key in keys:\n",
    "        train.append(B[key]['train'])\n",
    "        test.append(B[key]['test'])\n",
    "    return keys,train,test"
   ]
  },
  {
   "cell_type": "code",
   "execution_count": 17,
   "metadata": {},
   "outputs": [],
   "source": [
    "## For 30 trees\n",
    "rf_30 = {1: {'test': 0.4015156126361921, 'train': 0.4040561016356502},\n",
    "3: {'test': 0.3712642278897072, 'train': 0.3742051620757087},\n",
    "6:{'test': 0.31812648365694807, 'train': 0.3096338889104731},\n",
    "10: {'test': 0.30120518595167084, 'train': 0.25696414002097984}}"
   ]
  },
  {
   "cell_type": "code",
   "execution_count": 21,
   "metadata": {
    "slideshow": {
     "slide_type": "subslide"
    }
   },
   "outputs": [
    {
     "data": {
      "text/plain": [
       "<matplotlib.legend.Legend at 0x7f78b05c5590>"
      ]
     },
     "execution_count": 21,
     "metadata": {},
     "output_type": "execute_result"
    },
    {
     "data": {
      "image/png": "[encoded data removed]",
      "text/plain": [
       "<matplotlib.figure.Figure at 0x7f78b0732bd0>"
      ]
     },
     "metadata": {},
     "output_type": "display_data"
    }
   ],
   "source": [
    "keys,train,test = extract_errors(errors)\n",
    "st='10TreesRF'\n",
    "plot(keys,train,label='train-'+st)\n",
    "plot(keys,test,label='test-'+st)\n",
    "keys,train,test = extract_errors(rf_30)\n",
    "st='30TreesRF'\n",
    "plot(keys,train,label='train-'+st)\n",
    "plot(keys,test,label='test-'+st)\n",
    "title('Using 1% of data')\n",
    "grid()\n",
    "xlabel(\"Depth of trees\")\n",
    "ylabel(\"Classification error\")\n",
    "legend(loc = \"lower left\")"
   ]
  },
  {
   "cell_type": "markdown",
   "metadata": {
    "slideshow": {
     "slide_type": "subslide"
    }
   },
   "source": [
    "### Gradient Boosting"
   ]
  },
  {
   "cell_type": "code",
   "execution_count": null,
   "metadata": {},
   "outputs": [
    {
     "name": "stdout",
     "output_type": "stream",
     "text": [
      "1 {'test': 0.38162780787727524, 'train': 0.3814642536059102} 52 seconds\n",
      "3 {'test': 0.32434406769343155, 'train': 0.31963934383509884} 66 seconds\n",
      "6 {'test': 0.3016071102453278, 'train': 0.2899972638079975} 104 seconds\n",
      "10"
     ]
    }
   ],
   "source": [
    "from time import time\n",
    "errors={}\n",
    "for depth in [1,3,6,10,20]:\n",
    "    start=time()\n",
    "    model=GradientBoostedTrees.trainClassifier(trainingData,categoricalFeaturesInfo={},numIterations=10,maxDepth=depth)\n",
    "    #print model.toDebugString()\n",
    "    errors[depth]={}\n",
    "    dataSets={'train':trainingData,'test':testData}\n",
    "    for name in list(dataSets.keys()):  # Calculate errors on train and test sets\n",
    "        data=dataSets[name]\n",
    "        Predicted=model.predict(data.map(lambda x: x.features))\n",
    "        LabelsAndPredictions=data.map(lambda lp: lp.label).zip(Predicted)\n",
    "        Err = LabelsAndPredictions.filter(lambda v_p:v_p[0] != v_p[1]).count()/float(data.count())\n",
    "        errors[depth][name]=Err\n",
    "    print(depth,errors[depth],int(time()-start),'seconds')\n",
    "print(errors)"
   ]
  },
  {
   "cell_type": "code",
   "execution_count": null,
   "metadata": {
    "collapsed": true
   },
   "outputs": [],
   "source": [
    "def extract_errors(B):\n",
    "    keys=B.keys()\n",
    "    keys.sort()\n",
    "    train=[]; test=[];\n",
    "    for key in keys:\n",
    "        train.append(B[key]['train'])\n",
    "        test.append(B[key]['test'])\n",
    "    return keys,train,test"
   ]
  },
  {
   "cell_type": "code",
   "execution_count": null,
   "metadata": {
    "collapsed": true
   },
   "outputs": [],
   "source": [
    "keys,train,test = extract_errors(B10)\n",
    "plot(keys,train,label='train-10Boost')\n",
    "plot(keys,test,label='test-10Boost')\n",
    "keys,train,test = extract_errors(B100)\n",
    "plot(keys,train,label='train-100Boost')\n",
    "plot(keys,test,label='test-100Boost')\n",
    "title('Using 1% of data')\n",
    "grid()\n",
    "xlabel(\"Depth of trees\")\n",
    "ylabel(\"Classification error\")\n",
    "legend()"
   ]
  }
 ],
 "metadata": {
  "celltoolbar": "Slideshow",
  "kernelspec": {
   "display_name": "Python 3",
   "language": "python",
   "name": "python3"
  },
  "language_info": {
   "codemirror_mode": {
    "name": "ipython",
    "version": 3
   },
   "file_extension": ".py",
   "mimetype": "text/x-python",
   "name": "python",
   "nbconvert_exporter": "python",
   "pygments_lexer": "ipython3",
   "version": "3.6.5"
  },
  "toc": {
   "base_numbering": 1,
   "nav_menu": {},
   "number_sections": true,
   "sideBar": true,
   "skip_h1_title": false,
   "title_cell": "Table of Contents",
   "title_sidebar": "Contents",
   "toc_cell": false,
   "toc_position": {},
   "toc_section_display": true,
   "toc_window_display": false
  },
  "varInspector": {
   "cols": {
    "lenName": 16,
    "lenType": 16,
    "lenVar": 40
   },
   "kernels_config": {
    "python": {
     "delete_cmd_postfix": "",
     "delete_cmd_prefix": "del ",
     "library": "var_list.py",
     "varRefreshCmd": "print(var_dic_list())"
    },
    "r": {
     "delete_cmd_postfix": ") ",
     "delete_cmd_prefix": "rm(",
     "library": "var_list.r",
     "varRefreshCmd": "cat(var_dic_list()) "
    }
   },
   "types_to_exclude": [
    "module",
    "function",
    "builtin_function_or_method",
    "instance",
    "_Feature"
   ],
   "window_display": false
  }
 },
 "nbformat": 4,
 "nbformat_minor": 1
}
