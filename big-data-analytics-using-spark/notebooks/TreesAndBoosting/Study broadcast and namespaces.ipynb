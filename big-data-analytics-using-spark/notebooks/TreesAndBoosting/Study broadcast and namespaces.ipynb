{
 "cells": [
  {
   "cell_type": "code",
   "execution_count": 4,
   "metadata": {
    "collapsed": false
   },
   "outputs": [],
   "source": [
    "class simple:\n",
    "    def __init__(self):\n",
    "        self.RDD=sc.parallelize(range(2))\n",
    "        self.m='initial'\n",
    "    def Map(self):\n",
    "        g='gg'\n",
    "        B=sc.broadcast(self.m)\n",
    "        def f(A):\n",
    "            return (A,B.value,g)\n",
    "        return self.RDD.map(f)\n",
    "    def iterMap(self):   # the broadcast variable is available when calling the function \n",
    "                         # directly\n",
    "        B=sc.broadcast(213)\n",
    "        g='kk'\n",
    "        def f(A):\n",
    "            return (A,B.value,g)\n",
    "        for A in self.RDD.collect():\n",
    "            print f(A)\n",
    "        "
   ]
  },
  {
   "cell_type": "code",
   "execution_count": 8,
   "metadata": {
    "collapsed": true
   },
   "outputs": [],
   "source": [
    "S=simple()"
   ]
  },
  {
   "cell_type": "code",
   "execution_count": 9,
   "metadata": {
    "collapsed": false
   },
   "outputs": [
    {
     "data": {
      "text/plain": [
       "[(0, 'initial', 'gg'), (1, 'initial', 'gg')]"
      ]
     },
     "execution_count": 9,
     "metadata": {},
     "output_type": "execute_result"
    }
   ],
   "source": [
    "S.Map().collect()"
   ]
  },
  {
   "cell_type": "code",
   "execution_count": 7,
   "metadata": {
    "collapsed": false
   },
   "outputs": [
    {
     "name": "stdout",
     "output_type": "stream",
     "text": [
      "(0, 213, 'kk')\n",
      "(1, 213, 'kk')\n"
     ]
    }
   ],
   "source": [
    "S.iterMap()"
   ]
  },
  {
   "cell_type": "code",
   "execution_count": 36,
   "metadata": {
    "collapsed": false
   },
   "outputs": [
    {
     "ename": "SyntaxError",
     "evalue": "invalid syntax (<ipython-input-36-170d953a1d91>, line 1)",
     "output_type": "error",
     "traceback": [
      "\u001b[0;36m  File \u001b[0;32m\"<ipython-input-36-170d953a1d91>\"\u001b[0;36m, line \u001b[0;32m1\u001b[0m\n\u001b[0;31m    S.\u001b[0m\n\u001b[0m      ^\u001b[0m\n\u001b[0;31mSyntaxError\u001b[0m\u001b[0;31m:\u001b[0m invalid syntax\n"
     ]
    }
   ],
   "source": []
  },
  {
   "cell_type": "code",
   "execution_count": null,
   "metadata": {
    "collapsed": true
   },
   "outputs": [],
   "source": []
  }
 ],
 "metadata": {
  "kernelspec": {
   "display_name": "Python 2",
   "language": "python",
   "name": "python2"
  },
  "language_info": {
   "codemirror_mode": {
    "name": "ipython",
    "version": 2
   },
   "file_extension": ".py",
   "mimetype": "text/x-python",
   "name": "python",
   "nbconvert_exporter": "python",
   "pygments_lexer": "ipython2",
   "version": "2.7.11"
  }
 },
 "nbformat": 4,
 "nbformat_minor": 0
}
