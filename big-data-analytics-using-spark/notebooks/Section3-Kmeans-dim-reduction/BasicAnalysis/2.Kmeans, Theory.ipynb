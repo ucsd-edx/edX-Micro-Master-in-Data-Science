{
 "cells": [
  {
   "cell_type": "markdown",
   "metadata": {
    "slideshow": {
     "slide_type": "slide"
    }
   },
   "source": [
    "## K-means, the theory"
   ]
  },
  {
   "cell_type": "markdown",
   "metadata": {
    "slideshow": {
     "slide_type": "subslide"
    }
   },
   "source": [
    "##  K-means improves RMSE each step\n",
    "\n",
    "* **Centroids Set** $C_t$ : the set of $k$ centroids used in iteration $t$.\n",
    "* **Vector-representative association: **$\\vec{c}_i(\\vec{x})$ : the centroid $\\vec{c} \\in C_i$ that is closest to  $\\vec{x}$.\n",
    "* **RMSE:** The sqrt of the mean square distance between a point and its representative centroid.\n",
    "  $$ RMSE = \\sqrt{\\frac{1}{|X|} \\sum_{\\vec{x} \\in X} \\|\\vec{x} - \\vec{c}(\\vec{x})\\|^2} $$"
   ]
  },
  {
   "cell_type": "markdown",
   "metadata": {
    "slideshow": {
     "slide_type": "subslide"
    }
   },
   "source": [
    "### Step 1: Updating association\n",
    "Associate each point $\\vec{x} \\in X$ to the closest centroid: $\\vec{x} \\in C_i$ where $\\mbox{argmin}_i \\|\\vec{x} - \\vec{c}_i\\|_2$\n",
    "* Associating each point $\\vec{x}$ with a closer centroid cannot increase RMSE."
   ]
  },
  {
   "cell_type": "markdown",
   "metadata": {
    "slideshow": {
     "slide_type": "subslide"
    }
   },
   "source": [
    "### Step 2: Updating centers\n",
    "Update each centroid to be the mean of the points in $X$ that were assigned to it:\n",
    "$$ \\vec{c}_{i+1}  = \\frac{1}{m} \\sum_{\\vec{x} \\in C_i} \\vec{x}$$\n",
    "\n",
    "* The point with minimal RMSE to a set of points is equal to the mean of those points."
   ]
  },
  {
   "cell_type": "markdown",
   "metadata": {
    "slideshow": {
     "slide_type": "subslide"
    }
   },
   "source": [
    "### In each iteration of Kmeans, RMSE either decreases or stays the same.\n",
    "* If the association of points to centers does not change between iteraations. It never will"
   ]
  },
  {
   "cell_type": "markdown",
   "metadata": {
    "slideshow": {
     "slide_type": "subslide"
    }
   },
   "source": [
    "### Kmeans converges after a finite number of iterations\n",
    "\n",
    "* Does not follow from the fact that RMSE decreases and cannot become negative.\n",
    "* **Think:** Can you come up with a strictly decreasing sequence of numbers that is never negative?"
   ]
  },
  {
   "cell_type": "markdown",
   "metadata": {
    "slideshow": {
     "slide_type": "subslide"
    }
   },
   "source": [
    "### The number of associations of points to centers is finite.\n",
    "\n",
    "* As the number of points is finite (say $n$) and the number of centers is $k$, the number of possible asscoations is at most $k^n$.\n",
    "* Therefor the number of different RMSE values is finite.\n",
    "* Therefor the sequence of RMSE must coverge to a local minimum."
   ]
  },
  {
   "cell_type": "markdown",
   "metadata": {
    "slideshow": {
     "slide_type": "subslide"
    }
   },
   "source": [
    "### Local minimum vs. Global Minimum\n",
    "* The **Global** minimum of the Kmeans problem is a set of $k$ representatives that minimizes the RMSE.\n",
    "* A **Local** minimum of the Kmeans problem is is a set of $k$ representatives that an iteration of the Kmeans algrithm does not change.\n",
    "* The global minimum is one of potentially many local minima.\n",
    "* The K-means algorithm does not converge to the global minimum."
   ]
  },
  {
   "cell_type": "markdown",
   "metadata": {
    "slideshow": {
     "slide_type": "subslide"
    }
   },
   "source": [
    "### Finding the Global minimum is much much harder than finding a local minimum.\n",
    "* [Sanjoy Dasgupta](http://cseweb.ucsd.edu/~dasgupta/) has shown that [finding the global minimum is NP-hard]()\n",
    "* In other words, it is not just that Kmeans does not find the global minimum, but that, unless [**P=NP**](https://en.wikipedia.org/wiki/P_versus_NP_problem),\n",
    "there is **No** polynomial time algorithm for finding the global minimum."
   ]
  },
  {
   "cell_type": "markdown",
   "metadata": {
    "slideshow": {
     "slide_type": "subslide"
    }
   },
   "source": [
    "## Summary\n",
    "* The mean distance between a point and it's closest centroid either decreases or stays the same forever.\n",
    "* Kmeans find a local minimum, which can be much worse than the global minimum.\n",
    "* Finding the global minimum is NP-hard.\n",
    "* Next time: different ways of measuring Kmeans performance."
   ]
  }
 ],
 "metadata": {
  "celltoolbar": "Slideshow",
  "hide_input": false,
  "kernelspec": {
   "display_name": "Python 3",
   "language": "python",
   "name": "python3"
  },
  "language_info": {
   "codemirror_mode": {
    "name": "ipython",
    "version": 3
   },
   "file_extension": ".py",
   "mimetype": "text/x-python",
   "name": "python",
   "nbconvert_exporter": "python",
   "pygments_lexer": "ipython3",
   "version": "3.6.4"
  },
  "toc": {
   "base_numbering": 1,
   "nav_menu": {},
   "number_sections": true,
   "sideBar": true,
   "skip_h1_title": false,
   "title_cell": "Table of Contents",
   "title_sidebar": "Contents",
   "toc_cell": false,
   "toc_position": {},
   "toc_section_display": true,
   "toc_window_display": false
  }
 },
 "nbformat": 4,
 "nbformat_minor": 2
}
