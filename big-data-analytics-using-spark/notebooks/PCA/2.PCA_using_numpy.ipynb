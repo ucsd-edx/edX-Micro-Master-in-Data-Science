{
 "cells": [
  {
   "cell_type": "markdown",
   "metadata": {},
   "source": [
    "### Performing PCA on vectors with NaNs\n",
    "This notebook demonstrates the use of numpy arrays as the content of RDDs\n",
    "\n",
    "The reason that we use numpy arrays instead of dataframes is that numpy is better in handling `nan` etries.\n",
    "\n",
    "In numpy `5+nan=5` while in dataframes `5+nan=nan`\n",
    "\n",
    "Suppose that the data vectors are the column vectors denoted $x$ then the covariance matrix is defined to be\n",
    "$$\n",
    "E(x x^T)-E(x)E(x)^T\n",
    "$$\n",
    "\n",
    "Where $x x^T$ is the **outer product** of $x$ with itself.\n",
    "\n",
    "If the data that we have is $x_1,x_2,x_n$ then the estimates we use are:\n",
    "$$\n",
    "\\hat{E}(x x^T) = \\frac{1}{n} \\sum_{i=1}^n x_i x_i^T,\\;\\;\\;\\;\\;\n",
    "\\hat{E}(x) = \\frac{1}{n} \\sum_{i=1}^n x_i\n",
    "$$\n",
    "\n",
    "As it happens, we often get vectors $x$ in which some, but not all, of the entries are `nan`. In such cases we sum the elements that are defined and keep a seperate counter for each entry."
   ]
  },
  {
   "cell_type": "code",
   "execution_count": 1,
   "metadata": {
    "collapsed": true
   },
   "outputs": [],
   "source": [
    "import numpy as np\n",
    "\n",
    "def outerProduct(X):\n",
    "  \"\"\"Computer outer product and indicate which locations in matrix are undefined\"\"\"\n",
    "  O=np.outer(X,X)\n",
    "  N=1-np.isnan(O)\n",
    "  return (O,N)\n",
    "def sumWithNan(M1,M2):\n",
    "  \"\"\"Add two pairs of matrix,count\"\"\"\n",
    "  (X1,N1)=M1\n",
    "  (X2,N2)=M2\n",
    "  N=N1+N2\n",
    "  X=np.nansum(np.dstack((X1,X2)),axis=2)\n",
    "  return (X,N)\n",
    "  "
   ]
  },
  {
   "cell_type": "code",
   "execution_count": 15,
   "metadata": {
    "collapsed": true
   },
   "outputs": [],
   "source": [
    "# computeCov recieves as input an RDD of np arrays, all of the same length, and computes the covariance matrix for that set of vectors\n",
    "def computeCov(RDDin):\n",
    "  RDD=RDDin.map(lambda v:np.insert(v,0,1)) # insert a 1 at the beginning of each vector so that the same \n",
    "                                           #calculation also yields the mean vector\n",
    "  OuterRDD=RDD.map(outerProduct)   # separating the map and the reduce does not matter because of Spark uses lazy execution.\n",
    "  (S,N)=OuterRDD.reduce(sumWithNan)\n",
    "  # Unpack result and compute the covariance matrix\n",
    "  #print 'RDD=',RDD.collect()\n",
    "  print 'shape of S=',S.shape,'shape of N=',N.shape\n",
    "  #print 'S=',S\n",
    "  #print 'N=',N\n",
    "  E=S[0,1:]\n",
    "  NE=N[0,1:]\n",
    "  print 'shape of E=',E.shape,'shape of NE=',NE.shape\n",
    "  Mean=E/NE\n",
    "  O=S[1:,1:]\n",
    "  NO=N[1:,1:]+0.00001 # adding a small number to avoid 0/0\n",
    "  Cov=O/NO - np.outer(Mean,Mean)\n",
    "  return Cov,Mean"
   ]
  },
  {
   "cell_type": "markdown",
   "metadata": {},
   "source": [
    "#### Demonstration on a small example"
   ]
  },
  {
   "cell_type": "code",
   "execution_count": 4,
   "metadata": {
    "collapsed": true
   },
   "outputs": [],
   "source": [
    "from pyspark import SparkContext\n",
    "\n",
    "sc = SparkContext(master=master_url)"
   ]
  },
  {
   "cell_type": "code",
   "execution_count": 9,
   "metadata": {
    "collapsed": false
   },
   "outputs": [
    {
     "data": {
      "text/plain": [
       "array([[ 3.,  2.,  4.,  5.,  1.,  6.,  7.]])"
      ]
     },
     "execution_count": 9,
     "metadata": {},
     "output_type": "execute_result"
    }
   ],
   "source": [
    "A=np.array([1,2,3,4,np.nan,5,6])\n",
    "B=np.array([2,np.nan,1,1,1,1,1])\n",
    "np.nansum(np.dstack((A,B)),axis=2)"
   ]
  },
  {
   "cell_type": "code",
   "execution_count": 13,
   "metadata": {
    "collapsed": false
   },
   "outputs": [],
   "source": [
    "RDD=sc.parallelize([A,B])"
   ]
  },
  {
   "cell_type": "code",
   "execution_count": 16,
   "metadata": {
    "collapsed": false
   },
   "outputs": [
    {
     "name": "stdout",
     "output_type": "stream",
     "text": [
      "shape of S= (8, 8) shape of N= (8, 8)\n",
      "shape of E= (7,) shape of NE= (7,)\n"
     ]
    },
    {
     "data": {
      "text/plain": [
       "(array([[  2.49987500e-01,  -1.00002000e+00,  -5.00012500e-01,\n",
       "          -7.50015000e-01,   4.99980000e-01,  -1.00001750e+00,\n",
       "          -1.25002000e+00],\n",
       "        [ -1.00002000e+00,  -3.99996000e-05,   1.99994000e+00,\n",
       "           2.99992000e+00,  -2.00000000e+00,   3.99990000e+00,\n",
       "           4.99988000e+00],\n",
       "        [ -5.00012500e-01,   1.99994000e+00,   9.99975000e-01,\n",
       "           1.49996750e+00,  -1.00001000e+00,   1.99996000e+00,\n",
       "           2.49995250e+00],\n",
       "        [ -7.50015000e-01,   2.99992000e+00,   1.49996750e+00,\n",
       "           2.24995750e+00,  -1.50001000e+00,   2.99994750e+00,\n",
       "           3.74993750e+00],\n",
       "        [  4.99980000e-01,  -2.00000000e+00,  -1.00001000e+00,\n",
       "          -1.50001000e+00,  -9.99990000e-06,  -2.00001000e+00,\n",
       "          -2.50001000e+00],\n",
       "        [ -1.00001750e+00,   3.99990000e+00,   1.99996000e+00,\n",
       "           2.99994750e+00,  -2.00001000e+00,   3.99993500e+00,\n",
       "           4.99992250e+00],\n",
       "        [ -1.25002000e+00,   4.99988000e+00,   2.49995250e+00,\n",
       "           3.74993750e+00,  -2.50001000e+00,   4.99992250e+00,\n",
       "           6.24990750e+00]]),\n",
       " array([ 1.5,  2. ,  2. ,  2.5,  1. ,  3. ,  3.5]))"
      ]
     },
     "execution_count": 16,
     "metadata": {},
     "output_type": "execute_result"
    }
   ],
   "source": [
    "computeCov(RDD)"
   ]
  },
  {
   "cell_type": "markdown",
   "metadata": {},
   "source": [
    "## Reading from S3 using the spark-notebook server.\n",
    "#### Set AWS Credentials\n",
    "\n",
    "To access a S3 bucket, the first step is to set AWS credential. There are two ways to do it.\n",
    "\n",
    "1. (**RECOMMENDED**) Set S3 credentials via Spark Notebook interface.\n",
    "2. Set it using the `set_credential` method:\n",
    "```python\n",
    "s3helper.set_credential(AWS_ACCESS_KEY_ID, AWS_SECRET_ACCESS_KEY)\n",
    "```"
   ]
  },
  {
   "cell_type": "code",
   "execution_count": 18,
   "metadata": {
    "collapsed": true
   },
   "outputs": [],
   "source": [
    "bucket='mas-dse-public'\n",
    "dir='/home/ec2-user/spark/'\n",
    "s3helper.open_bucket(bucket)"
   ]
  },
  {
   "cell_type": "code",
   "execution_count": 21,
   "metadata": {
    "collapsed": true
   },
   "outputs": [
    {
     "name": "stdout",
     "output_type": "stream",
     "text": [
      "cp: `/US_Weather.parquet/_SUCCESS': File exists\n",
      "cp: `/US_Weather.parquet/_common_metadata': File exists\n",
      "cp: `/US_Weather.parquet/_metadata': File exists\n",
      "cp: `/US_Weather.parquet/part-r-00000-0f4998c0-b27b-4f60-ad45-ed3212ddb46f.gz.parquet': File exists\n",
      "cp: `/US_Weather.parquet/part-r-00001-0f4998c0-b27b-4f60-ad45-ed3212ddb46f.gz.parquet': File exists\n",
      "cp: `/US_Weather.parquet/part-r-00002-0f4998c0-b27b-4f60-ad45-ed3212ddb46f.gz.parquet': File exists\n",
      "cp: `/US_Weather.parquet/part-r-00003-0f4998c0-b27b-4f60-ad45-ed3212ddb46f.gz.parquet': File exists\n",
      "cp: `/US_Weather.parquet/part-r-00004-0f4998c0-b27b-4f60-ad45-ed3212ddb46f.gz.parquet': File exists\n",
      "cp: `/US_Weather.parquet/part-r-00005-0f4998c0-b27b-4f60-ad45-ed3212ddb46f.gz.parquet': File exists\n",
      "cp: `/US_Weather.parquet/part-r-00006-0f4998c0-b27b-4f60-ad45-ed3212ddb46f.gz.parquet': File exists\n",
      "cp: `/US_Weather.parquet/part-r-00007-0f4998c0-b27b-4f60-ad45-ed3212ddb46f.gz.parquet': File exists\n",
      "cp: `/US_Weather.parquet/part-r-00008-0f4998c0-b27b-4f60-ad45-ed3212ddb46f.gz.parquet': File exists\n",
      "cp: `/US_Weather.parquet/part-r-00009-0f4998c0-b27b-4f60-ad45-ed3212ddb46f.gz.parquet': File exists\n",
      "cp: `/US_Weather.parquet/part-r-00010-0f4998c0-b27b-4f60-ad45-ed3212ddb46f.gz.parquet': File exists\n",
      "cp: `/US_Weather.parquet/part-r-00011-0f4998c0-b27b-4f60-ad45-ed3212ddb46f.gz.parquet': File exists\n",
      "cp: `/US_Weather.parquet/part-r-00012-0f4998c0-b27b-4f60-ad45-ed3212ddb46f.gz.parquet': File exists\n",
      "cp: `/US_Weather.parquet/part-r-00013-0f4998c0-b27b-4f60-ad45-ed3212ddb46f.gz.parquet': File exists\n",
      "cp: `/US_Weather.parquet/part-r-00014-0f4998c0-b27b-4f60-ad45-ed3212ddb46f.gz.parquet': File exists\n",
      "cp: `/US_Weather.parquet/part-r-00015-0f4998c0-b27b-4f60-ad45-ed3212ddb46f.gz.parquet': File exists\n",
      "cp: `/US_Weather.parquet/part-r-00016-0f4998c0-b27b-4f60-ad45-ed3212ddb46f.gz.parquet': File exists\n",
      "cp: `/US_Weather.parquet/part-r-00017-0f4998c0-b27b-4f60-ad45-ed3212ddb46f.gz.parquet': File exists\n",
      "cp: `/US_Weather.parquet/part-r-00018-0f4998c0-b27b-4f60-ad45-ed3212ddb46f.gz.parquet': File exists\n",
      "cp: `/US_Weather.parquet/part-r-00019-0f4998c0-b27b-4f60-ad45-ed3212ddb46f.gz.parquet': File exists\n",
      "cp: `/US_Weather.parquet/part-r-00020-0f4998c0-b27b-4f60-ad45-ed3212ddb46f.gz.parquet': File exists\n",
      "cp: `/US_Weather.parquet/part-r-00021-0f4998c0-b27b-4f60-ad45-ed3212ddb46f.gz.parquet': File exists\n",
      "cp: `/US_Weather.parquet/part-r-00022-0f4998c0-b27b-4f60-ad45-ed3212ddb46f.gz.parquet': File exists\n",
      "cp: `/US_Weather.parquet/part-r-00023-0f4998c0-b27b-4f60-ad45-ed3212ddb46f.gz.parquet': File exists\n",
      "cp: `/US_Weather.parquet/part-r-00024-0f4998c0-b27b-4f60-ad45-ed3212ddb46f.gz.parquet': File exists\n",
      "cp: `/US_Weather.parquet/part-r-00025-0f4998c0-b27b-4f60-ad45-ed3212ddb46f.gz.parquet': File exists\n",
      "cp: `/US_Weather.parquet/part-r-00026-0f4998c0-b27b-4f60-ad45-ed3212ddb46f.gz.parquet': File exists\n",
      "cp: `/US_Weather.parquet/part-r-00027-0f4998c0-b27b-4f60-ad45-ed3212ddb46f.gz.parquet': File exists\n",
      "cp: `/US_Weather.parquet/part-r-00028-0f4998c0-b27b-4f60-ad45-ed3212ddb46f.gz.parquet': File exists\n",
      "cp: `/US_Weather.parquet/part-r-00029-0f4998c0-b27b-4f60-ad45-ed3212ddb46f.gz.parquet': File exists\n",
      "cp: `/US_Weather.parquet/part-r-00030-0f4998c0-b27b-4f60-ad45-ed3212ddb46f.gz.parquet': File exists\n",
      "cp: `/US_Weather.parquet/part-r-00031-0f4998c0-b27b-4f60-ad45-ed3212ddb46f.gz.parquet': File exists\n",
      "cp: `/US_Weather.parquet/part-r-00032-0f4998c0-b27b-4f60-ad45-ed3212ddb46f.gz.parquet': File exists\n",
      "cp: `/US_Weather.parquet/part-r-00033-0f4998c0-b27b-4f60-ad45-ed3212ddb46f.gz.parquet': File exists\n",
      "cp: `/US_Weather.parquet/part-r-00034-0f4998c0-b27b-4f60-ad45-ed3212ddb46f.gz.parquet': File exists\n",
      "cp: `/US_Weather.parquet/part-r-00035-0f4998c0-b27b-4f60-ad45-ed3212ddb46f.gz.parquet': File exists\n",
      "cp: `/US_Weather.parquet/part-r-00036-0f4998c0-b27b-4f60-ad45-ed3212ddb46f.gz.parquet': File exists\n",
      "cp: `/US_Weather.parquet/part-r-00037-0f4998c0-b27b-4f60-ad45-ed3212ddb46f.gz.parquet': File exists\n",
      "cp: `/US_Weather.parquet/part-r-00038-0f4998c0-b27b-4f60-ad45-ed3212ddb46f.gz.parquet': File exists\n",
      "cp: `/US_Weather.parquet/part-r-00039-0f4998c0-b27b-4f60-ad45-ed3212ddb46f.gz.parquet': File exists\n",
      "cp: `/US_Weather.parquet/part-r-00040-0f4998c0-b27b-4f60-ad45-ed3212ddb46f.gz.parquet': File exists\n",
      "cp: `/US_Weather.parquet/part-r-00041-0f4998c0-b27b-4f60-ad45-ed3212ddb46f.gz.parquet': File exists\n",
      "cp: `/US_Weather.parquet/part-r-00042-0f4998c0-b27b-4f60-ad45-ed3212ddb46f.gz.parquet': File exists\n",
      "cp: `/US_Weather.parquet/part-r-00043-0f4998c0-b27b-4f60-ad45-ed3212ddb46f.gz.parquet': File exists\n",
      "cp: `/US_Weather.parquet/part-r-00044-0f4998c0-b27b-4f60-ad45-ed3212ddb46f.gz.parquet': File exists\n",
      "cp: `/US_Weather.parquet/part-r-00045-0f4998c0-b27b-4f60-ad45-ed3212ddb46f.gz.parquet': File exists\n",
      "cp: `/US_Weather.parquet/part-r-00046-0f4998c0-b27b-4f60-ad45-ed3212ddb46f.gz.parquet': File exists\n",
      "cp: `/US_Weather.parquet/part-r-00047-0f4998c0-b27b-4f60-ad45-ed3212ddb46f.gz.parquet': File exists\n",
      "cp: `/US_Weather.parquet/part-r-00048-0f4998c0-b27b-4f60-ad45-ed3212ddb46f.gz.parquet': File exists\n",
      "cp: `/US_Weather.parquet/part-r-00049-0f4998c0-b27b-4f60-ad45-ed3212ddb46f.gz.parquet': File exists\n",
      "cp: `/US_Weather.parquet/part-r-00050-0f4998c0-b27b-4f60-ad45-ed3212ddb46f.gz.parquet': File exists\n",
      "cp: `/US_Weather.parquet/part-r-00051-0f4998c0-b27b-4f60-ad45-ed3212ddb46f.gz.parquet': File exists\n",
      "cp: `/US_Weather.parquet/part-r-00052-0f4998c0-b27b-4f60-ad45-ed3212ddb46f.gz.parquet': File exists\n",
      "cp: `/US_Weather.parquet/part-r-00053-0f4998c0-b27b-4f60-ad45-ed3212ddb46f.gz.parquet': File exists\n",
      "cp: `/US_Weather.parquet/part-r-00054-0f4998c0-b27b-4f60-ad45-ed3212ddb46f.gz.parquet': File exists\n",
      "cp: `/US_Weather.parquet/part-r-00055-0f4998c0-b27b-4f60-ad45-ed3212ddb46f.gz.parquet': File exists\n",
      "cp: `/US_Weather.parquet/part-r-00056-0f4998c0-b27b-4f60-ad45-ed3212ddb46f.gz.parquet': File exists\n",
      "cp: `/US_Weather.parquet/part-r-00057-0f4998c0-b27b-4f60-ad45-ed3212ddb46f.gz.parquet': File exists\n",
      "cp: `/US_Weather.parquet/part-r-00058-0f4998c0-b27b-4f60-ad45-ed3212ddb46f.gz.parquet': File exists\n",
      "cp: `/US_Weather.parquet/part-r-00059-0f4998c0-b27b-4f60-ad45-ed3212ddb46f.gz.parquet': File exists\n",
      "cp: `/US_Weather.parquet/part-r-00060-0f4998c0-b27b-4f60-ad45-ed3212ddb46f.gz.parquet': File exists\n",
      "cp: `/US_Weather.parquet/part-r-00061-0f4998c0-b27b-4f60-ad45-ed3212ddb46f.gz.parquet': File exists\n",
      "cp: `/US_Weather.parquet/part-r-00062-0f4998c0-b27b-4f60-ad45-ed3212ddb46f.gz.parquet': File exists\n",
      "cp: `/US_Weather.parquet/part-r-00063-0f4998c0-b27b-4f60-ad45-ed3212ddb46f.gz.parquet': File exists\n",
      "cp: `/US_Weather.parquet/part-r-00064-0f4998c0-b27b-4f60-ad45-ed3212ddb46f.gz.parquet': File exists\n",
      "cp: `/US_Weather.parquet/part-r-00065-0f4998c0-b27b-4f60-ad45-ed3212ddb46f.gz.parquet': File exists\n",
      "cp: `/US_Weather.parquet/part-r-00066-0f4998c0-b27b-4f60-ad45-ed3212ddb46f.gz.parquet': File exists\n",
      "cp: `/US_Weather.parquet/part-r-00067-0f4998c0-b27b-4f60-ad45-ed3212ddb46f.gz.parquet': File exists\n",
      "cp: `/US_Weather.parquet/part-r-00068-0f4998c0-b27b-4f60-ad45-ed3212ddb46f.gz.parquet': File exists\n",
      "cp: `/US_Weather.parquet/part-r-00069-0f4998c0-b27b-4f60-ad45-ed3212ddb46f.gz.parquet': File exists\n",
      "cp: `/US_Weather.parquet/part-r-00070-0f4998c0-b27b-4f60-ad45-ed3212ddb46f.gz.parquet': File exists\n",
      "cp: `/US_Weather.parquet/part-r-00071-0f4998c0-b27b-4f60-ad45-ed3212ddb46f.gz.parquet': File exists\n",
      "cp: `/US_Weather.parquet/part-r-00072-0f4998c0-b27b-4f60-ad45-ed3212ddb46f.gz.parquet': File exists\n",
      "cp: `/US_Weather.parquet/part-r-00073-0f4998c0-b27b-4f60-ad45-ed3212ddb46f.gz.parquet': File exists\n",
      "cp: `/US_Weather.parquet/part-r-00074-0f4998c0-b27b-4f60-ad45-ed3212ddb46f.gz.parquet': File exists\n",
      "cp: `/US_Weather.parquet/part-r-00075-0f4998c0-b27b-4f60-ad45-ed3212ddb46f.gz.parquet': File exists\n",
      "cp: `/US_Weather.parquet/part-r-00076-0f4998c0-b27b-4f60-ad45-ed3212ddb46f.gz.parquet': File exists\n",
      "cp: `/US_Weather.parquet/part-r-00077-0f4998c0-b27b-4f60-ad45-ed3212ddb46f.gz.parquet': File exists\n",
      "cp: `/US_Weather.parquet/part-r-00078-0f4998c0-b27b-4f60-ad45-ed3212ddb46f.gz.parquet': File exists\n",
      "cp: `/US_Weather.parquet/part-r-00079-0f4998c0-b27b-4f60-ad45-ed3212ddb46f.gz.parquet': File exists\n",
      "cp: `/US_Weather.parquet/part-r-00080-0f4998c0-b27b-4f60-ad45-ed3212ddb46f.gz.parquet': File exists\n",
      "cp: `/US_Weather.parquet/part-r-00081-0f4998c0-b27b-4f60-ad45-ed3212ddb46f.gz.parquet': File exists\n",
      "cp: `/US_Weather.parquet/part-r-00082-0f4998c0-b27b-4f60-ad45-ed3212ddb46f.gz.parquet': File exists\n",
      "cp: `/US_Weather.parquet/part-r-00083-0f4998c0-b27b-4f60-ad45-ed3212ddb46f.gz.parquet': File exists\n",
      "cp: `/US_Weather.parquet/part-r-00084-0f4998c0-b27b-4f60-ad45-ed3212ddb46f.gz.parquet': File exists\n",
      "cp: `/US_Weather.parquet/part-r-00085-0f4998c0-b27b-4f60-ad45-ed3212ddb46f.gz.parquet': File exists\n",
      "cp: `/US_Weather.parquet/part-r-00086-0f4998c0-b27b-4f60-ad45-ed3212ddb46f.gz.parquet': File exists\n",
      "cp: `/US_Weather.parquet/part-r-00087-0f4998c0-b27b-4f60-ad45-ed3212ddb46f.gz.parquet': File exists\n",
      "cp: `/US_Weather.parquet/part-r-00088-0f4998c0-b27b-4f60-ad45-ed3212ddb46f.gz.parquet': File exists\n",
      "cp: `/US_Weather.parquet/part-r-00089-0f4998c0-b27b-4f60-ad45-ed3212ddb46f.gz.parquet': File exists\n",
      "cp: `/US_Weather.parquet/part-r-00090-0f4998c0-b27b-4f60-ad45-ed3212ddb46f.gz.parquet': File exists\n",
      "cp: `/US_Weather.parquet/part-r-00091-0f4998c0-b27b-4f60-ad45-ed3212ddb46f.gz.parquet': File exists\n",
      "cp: `/US_Weather.parquet/part-r-00092-0f4998c0-b27b-4f60-ad45-ed3212ddb46f.gz.parquet': File exists\n",
      "cp: `/US_Weather.parquet/part-r-00093-0f4998c0-b27b-4f60-ad45-ed3212ddb46f.gz.parquet': File exists\n",
      "cp: `/US_Weather.parquet/part-r-00094-0f4998c0-b27b-4f60-ad45-ed3212ddb46f.gz.parquet': File exists\n",
      "cp: `/US_Weather.parquet/part-r-00095-0f4998c0-b27b-4f60-ad45-ed3212ddb46f.gz.parquet': File exists\n",
      "cp: `/US_Weather.parquet/part-r-00096-0f4998c0-b27b-4f60-ad45-ed3212ddb46f.gz.parquet': File exists\n",
      "cp: `/US_Weather.parquet/part-r-00097-0f4998c0-b27b-4f60-ad45-ed3212ddb46f.gz.parquet': File exists\n",
      "cp: `/US_Weather.parquet/part-r-00098-0f4998c0-b27b-4f60-ad45-ed3212ddb46f.gz.parquet': File exists\n",
      "cp: `/US_Weather.parquet/part-r-00099-0f4998c0-b27b-4f60-ad45-ed3212ddb46f.gz.parquet': File exists\n",
      "cp: `/US_Weather.parquet/part-r-00100-0f4998c0-b27b-4f60-ad45-ed3212ddb46f.gz.parquet': File exists\n",
      "cp: `/US_Weather.parquet/part-r-00101-0f4998c0-b27b-4f60-ad45-ed3212ddb46f.gz.parquet': File exists\n",
      "cp: `/US_Weather.parquet/part-r-00102-0f4998c0-b27b-4f60-ad45-ed3212ddb46f.gz.parquet': File exists\n",
      "cp: `/US_Weather.parquet/part-r-00103-0f4998c0-b27b-4f60-ad45-ed3212ddb46f.gz.parquet': File exists\n",
      "cp: `/US_Weather.parquet/part-r-00104-0f4998c0-b27b-4f60-ad45-ed3212ddb46f.gz.parquet': File exists\n",
      "cp: `/US_Weather.parquet/part-r-00105-0f4998c0-b27b-4f60-ad45-ed3212ddb46f.gz.parquet': File exists\n",
      "cp: `/US_Weather.parquet/part-r-00106-0f4998c0-b27b-4f60-ad45-ed3212ddb46f.gz.parquet': File exists\n",
      "cp: `/US_Weather.parquet/part-r-00107-0f4998c0-b27b-4f60-ad45-ed3212ddb46f.gz.parquet': File exists\n",
      "cp: `/US_Weather.parquet/part-r-00108-0f4998c0-b27b-4f60-ad45-ed3212ddb46f.gz.parquet': File exists\n",
      "cp: `/US_Weather.parquet/part-r-00109-0f4998c0-b27b-4f60-ad45-ed3212ddb46f.gz.parquet': File exists\n",
      "cp: `/US_Weather.parquet/part-r-00110-0f4998c0-b27b-4f60-ad45-ed3212ddb46f.gz.parquet': File exists\n",
      "cp: `/US_Weather.parquet/part-r-00111-0f4998c0-b27b-4f60-ad45-ed3212ddb46f.gz.parquet': File exists\n",
      "cp: `/US_Weather.parquet/part-r-00112-0f4998c0-b27b-4f60-ad45-ed3212ddb46f.gz.parquet': File exists\n",
      "cp: `/US_Weather.parquet/part-r-00113-0f4998c0-b27b-4f60-ad45-ed3212ddb46f.gz.parquet': File exists\n",
      "cp: `/US_Weather.parquet/part-r-00114-0f4998c0-b27b-4f60-ad45-ed3212ddb46f.gz.parquet': File exists\n",
      "cp: `/US_Weather.parquet/part-r-00115-0f4998c0-b27b-4f60-ad45-ed3212ddb46f.gz.parquet': File exists\n",
      "cp: `/US_Weather.parquet/part-r-00116-0f4998c0-b27b-4f60-ad45-ed3212ddb46f.gz.parquet': File exists\n",
      "cp: `/US_Weather.parquet/part-r-00117-0f4998c0-b27b-4f60-ad45-ed3212ddb46f.gz.parquet': File exists\n",
      "cp: `/US_Weather.parquet/part-r-00118-0f4998c0-b27b-4f60-ad45-ed3212ddb46f.gz.parquet': File exists\n",
      "cp: `/US_Weather.parquet/part-r-00119-0f4998c0-b27b-4f60-ad45-ed3212ddb46f.gz.parquet': File exists\n",
      "cp: `/US_Weather.parquet/part-r-00120-0f4998c0-b27b-4f60-ad45-ed3212ddb46f.gz.parquet': File exists\n",
      "cp: `/US_Weather.parquet/part-r-00121-0f4998c0-b27b-4f60-ad45-ed3212ddb46f.gz.parquet': File exists\n",
      "cp: `/US_Weather.parquet/part-r-00122-0f4998c0-b27b-4f60-ad45-ed3212ddb46f.gz.parquet': File exists\n",
      "cp: `/US_Weather.parquet/part-r-00123-0f4998c0-b27b-4f60-ad45-ed3212ddb46f.gz.parquet': File exists\n",
      "cp: `/US_Weather.parquet/part-r-00124-0f4998c0-b27b-4f60-ad45-ed3212ddb46f.gz.parquet': File exists\n",
      "cp: `/US_Weather.parquet/part-r-00125-0f4998c0-b27b-4f60-ad45-ed3212ddb46f.gz.parquet': File exists\n",
      "cp: `/US_Weather.parquet/part-r-00126-0f4998c0-b27b-4f60-ad45-ed3212ddb46f.gz.parquet': File exists\n",
      "cp: `/US_Weather.parquet/part-r-00127-0f4998c0-b27b-4f60-ad45-ed3212ddb46f.gz.parquet': File exists\n",
      "cp: `/US_Weather.parquet/part-r-00128-0f4998c0-b27b-4f60-ad45-ed3212ddb46f.gz.parquet': File exists\n",
      "cp: `/US_Weather.parquet/part-r-00129-0f4998c0-b27b-4f60-ad45-ed3212ddb46f.gz.parquet': File exists\n",
      "cp: `/US_Weather.parquet/part-r-00130-0f4998c0-b27b-4f60-ad45-ed3212ddb46f.gz.parquet': File exists\n",
      "cp: `/US_Weather.parquet/part-r-00131-0f4998c0-b27b-4f60-ad45-ed3212ddb46f.gz.parquet': File exists\n",
      "cp: `/US_Weather.parquet/part-r-00132-0f4998c0-b27b-4f60-ad45-ed3212ddb46f.gz.parquet': File exists\n",
      "cp: `/US_Weather.parquet/part-r-00133-0f4998c0-b27b-4f60-ad45-ed3212ddb46f.gz.parquet': File exists\n",
      "cp: `/US_Weather.parquet/part-r-00134-0f4998c0-b27b-4f60-ad45-ed3212ddb46f.gz.parquet': File exists\n",
      "cp: `/US_Weather.parquet/part-r-00135-0f4998c0-b27b-4f60-ad45-ed3212ddb46f.gz.parquet': File exists\n",
      "cp: `/US_Weather.parquet/part-r-00136-0f4998c0-b27b-4f60-ad45-ed3212ddb46f.gz.parquet': File exists\n",
      "cp: `/US_Weather.parquet/part-r-00137-0f4998c0-b27b-4f60-ad45-ed3212ddb46f.gz.parquet': File exists\n",
      "cp: `/US_Weather.parquet/part-r-00138-0f4998c0-b27b-4f60-ad45-ed3212ddb46f.gz.parquet': File exists\n",
      "cp: `/US_Weather.parquet/part-r-00139-0f4998c0-b27b-4f60-ad45-ed3212ddb46f.gz.parquet': File exists\n",
      "cp: `/US_Weather.parquet/part-r-00140-0f4998c0-b27b-4f60-ad45-ed3212ddb46f.gz.parquet': File exists\n",
      "cp: `/US_Weather.parquet/part-r-00141-0f4998c0-b27b-4f60-ad45-ed3212ddb46f.gz.parquet': File exists\n",
      "cp: `/US_Weather.parquet/part-r-00142-0f4998c0-b27b-4f60-ad45-ed3212ddb46f.gz.parquet': File exists\n",
      "cp: `/US_Weather.parquet/part-r-00143-0f4998c0-b27b-4f60-ad45-ed3212ddb46f.gz.parquet': File exists\n",
      "cp: `/US_Weather.parquet/part-r-00144-0f4998c0-b27b-4f60-ad45-ed3212ddb46f.gz.parquet': File exists\n",
      "cp: `/US_Weather.parquet/part-r-00145-0f4998c0-b27b-4f60-ad45-ed3212ddb46f.gz.parquet': File exists\n",
      "cp: `/US_Weather.parquet/part-r-00146-0f4998c0-b27b-4f60-ad45-ed3212ddb46f.gz.parquet': File exists\n",
      "cp: `/US_Weather.parquet/part-r-00147-0f4998c0-b27b-4f60-ad45-ed3212ddb46f.gz.parquet': File exists\n",
      "cp: `/US_Weather.parquet/part-r-00148-0f4998c0-b27b-4f60-ad45-ed3212ddb46f.gz.parquet': File exists\n",
      "cp: `/US_Weather.parquet/part-r-00149-0f4998c0-b27b-4f60-ad45-ed3212ddb46f.gz.parquet': File exists\n",
      "cp: `/US_Weather.parquet/part-r-00150-0f4998c0-b27b-4f60-ad45-ed3212ddb46f.gz.parquet': File exists\n",
      "cp: `/US_Weather.parquet/part-r-00151-0f4998c0-b27b-4f60-ad45-ed3212ddb46f.gz.parquet': File exists\n",
      "cp: `/US_Weather.parquet/part-r-00152-0f4998c0-b27b-4f60-ad45-ed3212ddb46f.gz.parquet': File exists\n",
      "cp: `/US_Weather.parquet/part-r-00153-0f4998c0-b27b-4f60-ad45-ed3212ddb46f.gz.parquet': File exists\n",
      "cp: `/US_Weather.parquet/part-r-00154-0f4998c0-b27b-4f60-ad45-ed3212ddb46f.gz.parquet': File exists\n",
      "cp: `/US_Weather.parquet/part-r-00155-0f4998c0-b27b-4f60-ad45-ed3212ddb46f.gz.parquet': File exists\n",
      "cp: `/US_Weather.parquet/part-r-00156-0f4998c0-b27b-4f60-ad45-ed3212ddb46f.gz.parquet': File exists\n",
      "cp: `/US_Weather.parquet/part-r-00157-0f4998c0-b27b-4f60-ad45-ed3212ddb46f.gz.parquet': File exists\n",
      "cp: `/US_Weather.parquet/part-r-00158-0f4998c0-b27b-4f60-ad45-ed3212ddb46f.gz.parquet': File exists\n",
      "cp: `/US_Weather.parquet/part-r-00159-0f4998c0-b27b-4f60-ad45-ed3212ddb46f.gz.parquet': File exists\n",
      "cp: `/US_Weather.parquet/part-r-00160-0f4998c0-b27b-4f60-ad45-ed3212ddb46f.gz.parquet': File exists\n",
      "cp: `/US_Weather.parquet/part-r-00161-0f4998c0-b27b-4f60-ad45-ed3212ddb46f.gz.parquet': File exists\n",
      "cp: `/US_Weather.parquet/part-r-00162-0f4998c0-b27b-4f60-ad45-ed3212ddb46f.gz.parquet': File exists\n",
      "cp: `/US_Weather.parquet/part-r-00163-0f4998c0-b27b-4f60-ad45-ed3212ddb46f.gz.parquet': File exists\n",
      "cp: `/US_Weather.parquet/part-r-00164-0f4998c0-b27b-4f60-ad45-ed3212ddb46f.gz.parquet': File exists\n",
      "cp: `/US_Weather.parquet/part-r-00165-0f4998c0-b27b-4f60-ad45-ed3212ddb46f.gz.parquet': File exists\n",
      "cp: `/US_Weather.parquet/part-r-00166-0f4998c0-b27b-4f60-ad45-ed3212ddb46f.gz.parquet': File exists\n",
      "cp: `/US_Weather.parquet/part-r-00167-0f4998c0-b27b-4f60-ad45-ed3212ddb46f.gz.parquet': File exists\n",
      "cp: `/US_Weather.parquet/part-r-00168-0f4998c0-b27b-4f60-ad45-ed3212ddb46f.gz.parquet': File exists\n",
      "cp: `/US_Weather.parquet/part-r-00169-0f4998c0-b27b-4f60-ad45-ed3212ddb46f.gz.parquet': File exists\n",
      "cp: `/US_Weather.parquet/part-r-00170-0f4998c0-b27b-4f60-ad45-ed3212ddb46f.gz.parquet': File exists\n",
      "cp: `/US_Weather.parquet/part-r-00171-0f4998c0-b27b-4f60-ad45-ed3212ddb46f.gz.parquet': File exists\n",
      "cp: `/US_Weather.parquet/part-r-00172-0f4998c0-b27b-4f60-ad45-ed3212ddb46f.gz.parquet': File exists\n",
      "cp: `/US_Weather.parquet/part-r-00173-0f4998c0-b27b-4f60-ad45-ed3212ddb46f.gz.parquet': File exists\n",
      "cp: `/US_Weather.parquet/part-r-00174-0f4998c0-b27b-4f60-ad45-ed3212ddb46f.gz.parquet': File exists\n",
      "cp: `/US_Weather.parquet/part-r-00175-0f4998c0-b27b-4f60-ad45-ed3212ddb46f.gz.parquet': File exists\n",
      "cp: `/US_Weather.parquet/part-r-00176-0f4998c0-b27b-4f60-ad45-ed3212ddb46f.gz.parquet': File exists\n",
      "cp: `/US_Weather.parquet/part-r-00177-0f4998c0-b27b-4f60-ad45-ed3212ddb46f.gz.parquet': File exists\n",
      "cp: `/US_Weather.parquet/part-r-00178-0f4998c0-b27b-4f60-ad45-ed3212ddb46f.gz.parquet': File exists\n",
      "cp: `/US_Weather.parquet/part-r-00179-0f4998c0-b27b-4f60-ad45-ed3212ddb46f.gz.parquet': File exists\n",
      "cp: `/US_Weather.parquet/part-r-00180-0f4998c0-b27b-4f60-ad45-ed3212ddb46f.gz.parquet': File exists\n",
      "cp: `/US_Weather.parquet/part-r-00181-0f4998c0-b27b-4f60-ad45-ed3212ddb46f.gz.parquet': File exists\n",
      "cp: `/US_Weather.parquet/part-r-00182-0f4998c0-b27b-4f60-ad45-ed3212ddb46f.gz.parquet': File exists\n",
      "cp: `/US_Weather.parquet/part-r-00183-0f4998c0-b27b-4f60-ad45-ed3212ddb46f.gz.parquet': File exists\n",
      "cp: `/US_Weather.parquet/part-r-00184-0f4998c0-b27b-4f60-ad45-ed3212ddb46f.gz.parquet': File exists\n",
      "cp: `/US_Weather.parquet/part-r-00185-0f4998c0-b27b-4f60-ad45-ed3212ddb46f.gz.parquet': File exists\n",
      "cp: `/US_Weather.parquet/part-r-00186-0f4998c0-b27b-4f60-ad45-ed3212ddb46f.gz.parquet': File exists\n",
      "\n",
      "Found 190 items\n",
      "-rw-r--r--   3 ec2-user supergroup          0 2017-03-08 00:51 /US_Weather.parquet/_SUCCESS\n",
      "-rw-r--r--   3 ec2-user supergroup      26440 2017-03-08 00:51 /US_Weather.parquet/_common_metadata\n",
      "-rw-r--r--   3 ec2-user supergroup   13106337 2017-03-08 00:51 /US_Weather.parquet/_metadata\n",
      "-rw-r--r--   3 ec2-user supergroup   27983129 2017-03-08 00:51 /US_Weather.parquet/part-r-00000-0f4998c0-b27b-4f60-ad45-ed3212ddb46f.gz.parquet\n",
      "-rw-r--r--   3 ec2-user supergroup    6570243 2017-03-08 00:51 /US_Weather.parquet/part-r-00001-0f4998c0-b27b-4f60-ad45-ed3212ddb46f.gz.parquet\n",
      "-rw-r--r--   3 ec2-user supergroup   27923948 2017-03-08 00:51 /US_Weather.parquet/part-r-00002-0f4998c0-b27b-4f60-ad45-ed3212ddb46f.gz.parquet\n",
      "-rw-r--r--   3 ec2-user supergroup    5822418 2017-03-08 00:51 /US_Weather.parquet/part-r-00003-0f4998c0-b27b-4f60-ad45-ed3212ddb46f.gz.parquet\n",
      "-rw-r--r--   3 ec2-user supergroup   30277393 2017-03-08 00:51 /US_Weather.parquet/part-r-00004-0f4998c0-b27b-4f60-ad45-ed3212ddb46f.gz.parquet\n",
      "-rw-r--r--   3 ec2-user supergroup    5921480 2017-03-08 00:51 /US_Weather.parquet/part-r-00005-0f4998c0-b27b-4f60-ad45-ed3212ddb46f.gz.parquet\n",
      "-rw-r--r--   3 ec2-user supergroup   27954124 2017-03-08 00:51 /US_Weather.parquet/part-r-00006-0f4998c0-b27b-4f60-ad45-ed3212ddb46f.gz.parquet\n",
      "-rw-r--r--   3 ec2-user supergroup    4870043 2017-03-08 00:51 /US_Weather.parquet/part-r-00007-0f4998c0-b27b-4f60-ad45-ed3212ddb46f.gz.parquet\n",
      "-rw-r--r--   3 ec2-user supergroup   30022982 2017-03-08 00:51 /US_Weather.parquet/part-r-00008-0f4998c0-b27b-4f60-ad45-ed3212ddb46f.gz.parquet\n",
      "-rw-r--r--   3 ec2-user supergroup    7010913 2017-03-08 00:51 /US_Weather.parquet/part-r-00009-0f4998c0-b27b-4f60-ad45-ed3212ddb46f.gz.parquet\n",
      "-rw-r--r--   3 ec2-user supergroup   29350429 2017-03-08 00:51 /US_Weather.parquet/part-r-00010-0f4998c0-b27b-4f60-ad45-ed3212ddb46f.gz.parquet\n",
      "-rw-r--r--   3 ec2-user supergroup    6009731 2017-03-08 00:51 /US_Weather.parquet/part-r-00011-0f4998c0-b27b-4f60-ad45-ed3212ddb46f.gz.parquet\n",
      "-rw-r--r--   3 ec2-user supergroup   28367690 2017-03-08 00:51 /US_Weather.parquet/part-r-00012-0f4998c0-b27b-4f60-ad45-ed3212ddb46f.gz.parquet\n",
      "-rw-r--r--   3 ec2-user supergroup    6379026 2017-03-08 00:51 /US_Weather.parquet/part-r-00013-0f4998c0-b27b-4f60-ad45-ed3212ddb46f.gz.parquet\n",
      "-rw-r--r--   3 ec2-user supergroup   29089052 2017-03-08 00:51 /US_Weather.parquet/part-r-00014-0f4998c0-b27b-4f60-ad45-ed3212ddb46f.gz.parquet\n",
      "-rw-r--r--   3 ec2-user supergroup    6233965 2017-03-08 00:51 /US_Weather.parquet/part-r-00015-0f4998c0-b27b-4f60-ad45-ed3212ddb46f.gz.parquet\n",
      "-rw-r--r--   3 ec2-user supergroup   29695305 2017-03-08 00:51 /US_Weather.parquet/part-r-00016-0f4998c0-b27b-4f60-ad45-ed3212ddb46f.gz.parquet\n",
      "-rw-r--r--   3 ec2-user supergroup    6638924 2017-03-08 00:51 /US_Weather.parquet/part-r-00017-0f4998c0-b27b-4f60-ad45-ed3212ddb46f.gz.parquet\n",
      "-rw-r--r--   3 ec2-user supergroup   28907978 2017-03-08 00:51 /US_Weather.parquet/part-r-00018-0f4998c0-b27b-4f60-ad45-ed3212ddb46f.gz.parquet\n",
      "-rw-r--r--   3 ec2-user supergroup    6050201 2017-03-08 00:51 /US_Weather.parquet/part-r-00019-0f4998c0-b27b-4f60-ad45-ed3212ddb46f.gz.parquet\n",
      "-rw-r--r--   3 ec2-user supergroup   25758121 2017-03-08 00:51 /US_Weather.parquet/part-r-00020-0f4998c0-b27b-4f60-ad45-ed3212ddb46f.gz.parquet\n",
      "-rw-r--r--   3 ec2-user supergroup    6166352 2017-03-08 00:51 /US_Weather.parquet/part-r-00021-0f4998c0-b27b-4f60-ad45-ed3212ddb46f.gz.parquet\n",
      "-rw-r--r--   3 ec2-user supergroup   29006012 2017-03-08 00:51 /US_Weather.parquet/part-r-00022-0f4998c0-b27b-4f60-ad45-ed3212ddb46f.gz.parquet\n",
      "-rw-r--r--   3 ec2-user supergroup    6527599 2017-03-08 00:51 /US_Weather.parquet/part-r-00023-0f4998c0-b27b-4f60-ad45-ed3212ddb46f.gz.parquet\n",
      "-rw-r--r--   3 ec2-user supergroup   26564546 2017-03-08 00:51 /US_Weather.parquet/part-r-00024-0f4998c0-b27b-4f60-ad45-ed3212ddb46f.gz.parquet\n",
      "-rw-r--r--   3 ec2-user supergroup    6073394 2017-03-08 00:51 /US_Weather.parquet/part-r-00025-0f4998c0-b27b-4f60-ad45-ed3212ddb46f.gz.parquet\n",
      "-rw-r--r--   3 ec2-user supergroup   28873920 2017-03-08 00:51 /US_Weather.parquet/part-r-00026-0f4998c0-b27b-4f60-ad45-ed3212ddb46f.gz.parquet\n",
      "-rw-r--r--   3 ec2-user supergroup    6737177 2017-03-08 00:51 /US_Weather.parquet/part-r-00027-0f4998c0-b27b-4f60-ad45-ed3212ddb46f.gz.parquet\n",
      "-rw-r--r--   3 ec2-user supergroup   30092427 2017-03-08 00:51 /US_Weather.parquet/part-r-00028-0f4998c0-b27b-4f60-ad45-ed3212ddb46f.gz.parquet\n",
      "-rw-r--r--   3 ec2-user supergroup    7139513 2017-03-08 00:51 /US_Weather.parquet/part-r-00029-0f4998c0-b27b-4f60-ad45-ed3212ddb46f.gz.parquet\n",
      "-rw-r--r--   3 ec2-user supergroup   28231646 2017-03-08 00:51 /US_Weather.parquet/part-r-00030-0f4998c0-b27b-4f60-ad45-ed3212ddb46f.gz.parquet\n",
      "-rw-r--r--   3 ec2-user supergroup    6867235 2017-03-08 00:51 /US_Weather.parquet/part-r-00031-0f4998c0-b27b-4f60-ad45-ed3212ddb46f.gz.parquet\n",
      "-rw-r--r--   3 ec2-user supergroup   27417803 2017-03-08 00:51 /US_Weather.parquet/part-r-00032-0f4998c0-b27b-4f60-ad45-ed3212ddb46f.gz.parquet\n",
      "-rw-r--r--   3 ec2-user supergroup    6657767 2017-03-08 00:51 /US_Weather.parquet/part-r-00033-0f4998c0-b27b-4f60-ad45-ed3212ddb46f.gz.parquet\n",
      "-rw-r--r--   3 ec2-user supergroup   28400294 2017-03-08 00:51 /US_Weather.parquet/part-r-00034-0f4998c0-b27b-4f60-ad45-ed3212ddb46f.gz.parquet\n",
      "-rw-r--r--   3 ec2-user supergroup    5420961 2017-03-08 00:51 /US_Weather.parquet/part-r-00035-0f4998c0-b27b-4f60-ad45-ed3212ddb46f.gz.parquet\n",
      "-rw-r--r--   3 ec2-user supergroup   26734851 2017-03-08 00:51 /US_Weather.parquet/part-r-00036-0f4998c0-b27b-4f60-ad45-ed3212ddb46f.gz.parquet\n",
      "-rw-r--r--   3 ec2-user supergroup    6910845 2017-03-08 00:51 /US_Weather.parquet/part-r-00037-0f4998c0-b27b-4f60-ad45-ed3212ddb46f.gz.parquet\n",
      "-rw-r--r--   3 ec2-user supergroup   28204501 2017-03-08 00:51 /US_Weather.parquet/part-r-00038-0f4998c0-b27b-4f60-ad45-ed3212ddb46f.gz.parquet\n",
      "-rw-r--r--   3 ec2-user supergroup    5633829 2017-03-08 00:51 /US_Weather.parquet/part-r-00039-0f4998c0-b27b-4f60-ad45-ed3212ddb46f.gz.parquet\n",
      "-rw-r--r--   3 ec2-user supergroup   28628202 2017-03-08 00:51 /US_Weather.parquet/part-r-00040-0f4998c0-b27b-4f60-ad45-ed3212ddb46f.gz.parquet\n",
      "-rw-r--r--   3 ec2-user supergroup    6342496 2017-03-08 00:51 /US_Weather.parquet/part-r-00041-0f4998c0-b27b-4f60-ad45-ed3212ddb46f.gz.parquet\n",
      "-rw-r--r--   3 ec2-user supergroup   31706902 2017-03-08 00:51 /US_Weather.parquet/part-r-00042-0f4998c0-b27b-4f60-ad45-ed3212ddb46f.gz.parquet\n",
      "-rw-r--r--   3 ec2-user supergroup    6247843 2017-03-08 00:51 /US_Weather.parquet/part-r-00043-0f4998c0-b27b-4f60-ad45-ed3212ddb46f.gz.parquet\n",
      "-rw-r--r--   3 ec2-user supergroup   27869581 2017-03-08 00:51 /US_Weather.parquet/part-r-00044-0f4998c0-b27b-4f60-ad45-ed3212ddb46f.gz.parquet\n",
      "-rw-r--r--   3 ec2-user supergroup    6478526 2017-03-08 00:51 /US_Weather.parquet/part-r-00045-0f4998c0-b27b-4f60-ad45-ed3212ddb46f.gz.parquet\n",
      "-rw-r--r--   3 ec2-user supergroup   30004016 2017-03-08 00:51 /US_Weather.parquet/part-r-00046-0f4998c0-b27b-4f60-ad45-ed3212ddb46f.gz.parquet\n",
      "-rw-r--r--   3 ec2-user supergroup    6015083 2017-03-08 00:51 /US_Weather.parquet/part-r-00047-0f4998c0-b27b-4f60-ad45-ed3212ddb46f.gz.parquet\n",
      "-rw-r--r--   3 ec2-user supergroup   25259234 2017-03-08 00:51 /US_Weather.parquet/part-r-00048-0f4998c0-b27b-4f60-ad45-ed3212ddb46f.gz.parquet\n",
      "-rw-r--r--   3 ec2-user supergroup    6605439 2017-03-08 00:51 /US_Weather.parquet/part-r-00049-0f4998c0-b27b-4f60-ad45-ed3212ddb46f.gz.parquet\n",
      "-rw-r--r--   3 ec2-user supergroup   25349259 2017-03-08 00:51 /US_Weather.parquet/part-r-00050-0f4998c0-b27b-4f60-ad45-ed3212ddb46f.gz.parquet\n",
      "-rw-r--r--   3 ec2-user supergroup    7121325 2017-03-08 00:51 /US_Weather.parquet/part-r-00051-0f4998c0-b27b-4f60-ad45-ed3212ddb46f.gz.parquet\n",
      "-rw-r--r--   3 ec2-user supergroup   27288585 2017-03-08 00:51 /US_Weather.parquet/part-r-00052-0f4998c0-b27b-4f60-ad45-ed3212ddb46f.gz.parquet\n",
      "-rw-r--r--   3 ec2-user supergroup    6431292 2017-03-08 00:51 /US_Weather.parquet/part-r-00053-0f4998c0-b27b-4f60-ad45-ed3212ddb46f.gz.parquet\n",
      "-rw-r--r--   3 ec2-user supergroup   29029479 2017-03-08 00:51 /US_Weather.parquet/part-r-00054-0f4998c0-b27b-4f60-ad45-ed3212ddb46f.gz.parquet\n",
      "-rw-r--r--   3 ec2-user supergroup    5707605 2017-03-08 00:51 /US_Weather.parquet/part-r-00055-0f4998c0-b27b-4f60-ad45-ed3212ddb46f.gz.parquet\n",
      "-rw-r--r--   3 ec2-user supergroup   27779602 2017-03-08 00:51 /US_Weather.parquet/part-r-00056-0f4998c0-b27b-4f60-ad45-ed3212ddb46f.gz.parquet\n",
      "-rw-r--r--   3 ec2-user supergroup    6453232 2017-03-08 00:51 /US_Weather.parquet/part-r-00057-0f4998c0-b27b-4f60-ad45-ed3212ddb46f.gz.parquet\n",
      "-rw-r--r--   3 ec2-user supergroup   28277637 2017-03-08 00:51 /US_Weather.parquet/part-r-00058-0f4998c0-b27b-4f60-ad45-ed3212ddb46f.gz.parquet\n",
      "-rw-r--r--   3 ec2-user supergroup    6116180 2017-03-08 00:51 /US_Weather.parquet/part-r-00059-0f4998c0-b27b-4f60-ad45-ed3212ddb46f.gz.parquet\n",
      "-rw-r--r--   3 ec2-user supergroup   27954487 2017-03-08 00:51 /US_Weather.parquet/part-r-00060-0f4998c0-b27b-4f60-ad45-ed3212ddb46f.gz.parquet\n",
      "-rw-r--r--   3 ec2-user supergroup    5725843 2017-03-08 00:51 /US_Weather.parquet/part-r-00061-0f4998c0-b27b-4f60-ad45-ed3212ddb46f.gz.parquet\n",
      "-rw-r--r--   3 ec2-user supergroup   29838667 2017-03-08 00:51 /US_Weather.parquet/part-r-00062-0f4998c0-b27b-4f60-ad45-ed3212ddb46f.gz.parquet\n",
      "-rw-r--r--   3 ec2-user supergroup    5490908 2017-03-08 00:51 /US_Weather.parquet/part-r-00063-0f4998c0-b27b-4f60-ad45-ed3212ddb46f.gz.parquet\n",
      "-rw-r--r--   3 ec2-user supergroup   30370056 2017-03-08 00:51 /US_Weather.parquet/part-r-00064-0f4998c0-b27b-4f60-ad45-ed3212ddb46f.gz.parquet\n",
      "-rw-r--r--   3 ec2-user supergroup    5878922 2017-03-08 00:51 /US_Weather.parquet/part-r-00065-0f4998c0-b27b-4f60-ad45-ed3212ddb46f.gz.parquet\n",
      "-rw-r--r--   3 ec2-user supergroup   26332371 2017-03-08 00:51 /US_Weather.parquet/part-r-00066-0f4998c0-b27b-4f60-ad45-ed3212ddb46f.gz.parquet\n",
      "-rw-r--r--   3 ec2-user supergroup    6849517 2017-03-08 00:51 /US_Weather.parquet/part-r-00067-0f4998c0-b27b-4f60-ad45-ed3212ddb46f.gz.parquet\n",
      "-rw-r--r--   3 ec2-user supergroup   27475845 2017-03-08 00:51 /US_Weather.parquet/part-r-00068-0f4998c0-b27b-4f60-ad45-ed3212ddb46f.gz.parquet\n",
      "-rw-r--r--   3 ec2-user supergroup    6624071 2017-03-08 00:51 /US_Weather.parquet/part-r-00069-0f4998c0-b27b-4f60-ad45-ed3212ddb46f.gz.parquet\n",
      "-rw-r--r--   3 ec2-user supergroup   28675080 2017-03-08 00:51 /US_Weather.parquet/part-r-00070-0f4998c0-b27b-4f60-ad45-ed3212ddb46f.gz.parquet\n",
      "-rw-r--r--   3 ec2-user supergroup    5419143 2017-03-08 00:51 /US_Weather.parquet/part-r-00071-0f4998c0-b27b-4f60-ad45-ed3212ddb46f.gz.parquet\n",
      "-rw-r--r--   3 ec2-user supergroup   27761645 2017-03-08 00:51 /US_Weather.parquet/part-r-00072-0f4998c0-b27b-4f60-ad45-ed3212ddb46f.gz.parquet\n",
      "-rw-r--r--   3 ec2-user supergroup    7584746 2017-03-08 00:51 /US_Weather.parquet/part-r-00073-0f4998c0-b27b-4f60-ad45-ed3212ddb46f.gz.parquet\n",
      "-rw-r--r--   3 ec2-user supergroup   30292387 2017-03-08 00:51 /US_Weather.parquet/part-r-00074-0f4998c0-b27b-4f60-ad45-ed3212ddb46f.gz.parquet\n",
      "-rw-r--r--   3 ec2-user supergroup    6628075 2017-03-08 00:51 /US_Weather.parquet/part-r-00075-0f4998c0-b27b-4f60-ad45-ed3212ddb46f.gz.parquet\n",
      "-rw-r--r--   3 ec2-user supergroup   31256444 2017-03-08 00:51 /US_Weather.parquet/part-r-00076-0f4998c0-b27b-4f60-ad45-ed3212ddb46f.gz.parquet\n",
      "-rw-r--r--   3 ec2-user supergroup    5911426 2017-03-08 00:51 /US_Weather.parquet/part-r-00077-0f4998c0-b27b-4f60-ad45-ed3212ddb46f.gz.parquet\n",
      "-rw-r--r--   3 ec2-user supergroup   30770636 2017-03-08 00:51 /US_Weather.parquet/part-r-00078-0f4998c0-b27b-4f60-ad45-ed3212ddb46f.gz.parquet\n",
      "-rw-r--r--   3 ec2-user supergroup    7067052 2017-03-08 00:51 /US_Weather.parquet/part-r-00079-0f4998c0-b27b-4f60-ad45-ed3212ddb46f.gz.parquet\n",
      "-rw-r--r--   3 ec2-user supergroup   28290515 2017-03-08 00:51 /US_Weather.parquet/part-r-00080-0f4998c0-b27b-4f60-ad45-ed3212ddb46f.gz.parquet\n",
      "-rw-r--r--   3 ec2-user supergroup    6598598 2017-03-08 00:51 /US_Weather.parquet/part-r-00081-0f4998c0-b27b-4f60-ad45-ed3212ddb46f.gz.parquet\n",
      "-rw-r--r--   3 ec2-user supergroup   28975730 2017-03-08 00:51 /US_Weather.parquet/part-r-00082-0f4998c0-b27b-4f60-ad45-ed3212ddb46f.gz.parquet\n",
      "-rw-r--r--   3 ec2-user supergroup    5970405 2017-03-08 00:51 /US_Weather.parquet/part-r-00083-0f4998c0-b27b-4f60-ad45-ed3212ddb46f.gz.parquet\n",
      "-rw-r--r--   3 ec2-user supergroup   29481267 2017-03-08 00:51 /US_Weather.parquet/part-r-00084-0f4998c0-b27b-4f60-ad45-ed3212ddb46f.gz.parquet\n",
      "-rw-r--r--   3 ec2-user supergroup    4300382 2017-03-08 00:51 /US_Weather.parquet/part-r-00085-0f4998c0-b27b-4f60-ad45-ed3212ddb46f.gz.parquet\n",
      "-rw-r--r--   3 ec2-user supergroup   28510895 2017-03-08 00:51 /US_Weather.parquet/part-r-00086-0f4998c0-b27b-4f60-ad45-ed3212ddb46f.gz.parquet\n",
      "-rw-r--r--   3 ec2-user supergroup    6583479 2017-03-08 00:51 /US_Weather.parquet/part-r-00087-0f4998c0-b27b-4f60-ad45-ed3212ddb46f.gz.parquet\n",
      "-rw-r--r--   3 ec2-user supergroup   28579169 2017-03-08 00:51 /US_Weather.parquet/part-r-00088-0f4998c0-b27b-4f60-ad45-ed3212ddb46f.gz.parquet\n",
      "-rw-r--r--   3 ec2-user supergroup    6174300 2017-03-08 00:51 /US_Weather.parquet/part-r-00089-0f4998c0-b27b-4f60-ad45-ed3212ddb46f.gz.parquet\n",
      "-rw-r--r--   3 ec2-user supergroup   26913994 2017-03-08 00:51 /US_Weather.parquet/part-r-00090-0f4998c0-b27b-4f60-ad45-ed3212ddb46f.gz.parquet\n",
      "-rw-r--r--   3 ec2-user supergroup    5093728 2017-03-08 00:51 /US_Weather.parquet/part-r-00091-0f4998c0-b27b-4f60-ad45-ed3212ddb46f.gz.parquet\n",
      "-rw-r--r--   3 ec2-user supergroup   27239271 2017-03-08 00:51 /US_Weather.parquet/part-r-00092-0f4998c0-b27b-4f60-ad45-ed3212ddb46f.gz.parquet\n",
      "-rw-r--r--   3 ec2-user supergroup    5559352 2017-03-08 00:51 /US_Weather.parquet/part-r-00093-0f4998c0-b27b-4f60-ad45-ed3212ddb46f.gz.parquet\n",
      "-rw-r--r--   3 ec2-user supergroup   27463122 2017-03-08 00:51 /US_Weather.parquet/part-r-00094-0f4998c0-b27b-4f60-ad45-ed3212ddb46f.gz.parquet\n",
      "-rw-r--r--   3 ec2-user supergroup    6558831 2017-03-08 00:51 /US_Weather.parquet/part-r-00095-0f4998c0-b27b-4f60-ad45-ed3212ddb46f.gz.parquet\n",
      "-rw-r--r--   3 ec2-user supergroup   29037851 2017-03-08 00:51 /US_Weather.parquet/part-r-00096-0f4998c0-b27b-4f60-ad45-ed3212ddb46f.gz.parquet\n",
      "-rw-r--r--   3 ec2-user supergroup    6646690 2017-03-08 00:51 /US_Weather.parquet/part-r-00097-0f4998c0-b27b-4f60-ad45-ed3212ddb46f.gz.parquet\n",
      "-rw-r--r--   3 ec2-user supergroup   29956718 2017-03-08 00:51 /US_Weather.parquet/part-r-00098-0f4998c0-b27b-4f60-ad45-ed3212ddb46f.gz.parquet\n",
      "-rw-r--r--   3 ec2-user supergroup    5769498 2017-03-08 00:51 /US_Weather.parquet/part-r-00099-0f4998c0-b27b-4f60-ad45-ed3212ddb46f.gz.parquet\n",
      "-rw-r--r--   3 ec2-user supergroup   29211967 2017-03-08 00:51 /US_Weather.parquet/part-r-00100-0f4998c0-b27b-4f60-ad45-ed3212ddb46f.gz.parquet\n",
      "-rw-r--r--   3 ec2-user supergroup    5457515 2017-03-08 00:51 /US_Weather.parquet/part-r-00101-0f4998c0-b27b-4f60-ad45-ed3212ddb46f.gz.parquet\n",
      "-rw-r--r--   3 ec2-user supergroup   26385657 2017-03-08 00:51 /US_Weather.parquet/part-r-00102-0f4998c0-b27b-4f60-ad45-ed3212ddb46f.gz.parquet\n",
      "-rw-r--r--   3 ec2-user supergroup    6497713 2017-03-08 00:51 /US_Weather.parquet/part-r-00103-0f4998c0-b27b-4f60-ad45-ed3212ddb46f.gz.parquet\n",
      "-rw-r--r--   3 ec2-user supergroup   28478040 2017-03-08 00:51 /US_Weather.parquet/part-r-00104-0f4998c0-b27b-4f60-ad45-ed3212ddb46f.gz.parquet\n",
      "-rw-r--r--   3 ec2-user supergroup    5475293 2017-03-08 00:51 /US_Weather.parquet/part-r-00105-0f4998c0-b27b-4f60-ad45-ed3212ddb46f.gz.parquet\n",
      "-rw-r--r--   3 ec2-user supergroup   27970234 2017-03-08 00:51 /US_Weather.parquet/part-r-00106-0f4998c0-b27b-4f60-ad45-ed3212ddb46f.gz.parquet\n",
      "-rw-r--r--   3 ec2-user supergroup    6860316 2017-03-08 00:51 /US_Weather.parquet/part-r-00107-0f4998c0-b27b-4f60-ad45-ed3212ddb46f.gz.parquet\n",
      "-rw-r--r--   3 ec2-user supergroup   30198141 2017-03-08 00:51 /US_Weather.parquet/part-r-00108-0f4998c0-b27b-4f60-ad45-ed3212ddb46f.gz.parquet\n",
      "-rw-r--r--   3 ec2-user supergroup    5496903 2017-03-08 00:51 /US_Weather.parquet/part-r-00109-0f4998c0-b27b-4f60-ad45-ed3212ddb46f.gz.parquet\n",
      "-rw-r--r--   3 ec2-user supergroup   25762885 2017-03-08 00:51 /US_Weather.parquet/part-r-00110-0f4998c0-b27b-4f60-ad45-ed3212ddb46f.gz.parquet\n",
      "-rw-r--r--   3 ec2-user supergroup    6481945 2017-03-08 00:51 /US_Weather.parquet/part-r-00111-0f4998c0-b27b-4f60-ad45-ed3212ddb46f.gz.parquet\n",
      "-rw-r--r--   3 ec2-user supergroup   28989005 2017-03-08 00:52 /US_Weather.parquet/part-r-00112-0f4998c0-b27b-4f60-ad45-ed3212ddb46f.gz.parquet\n",
      "-rw-r--r--   3 ec2-user supergroup    5890133 2017-03-08 00:52 /US_Weather.parquet/part-r-00113-0f4998c0-b27b-4f60-ad45-ed3212ddb46f.gz.parquet\n",
      "-rw-r--r--   3 ec2-user supergroup   27949961 2017-03-08 00:52 /US_Weather.parquet/part-r-00114-0f4998c0-b27b-4f60-ad45-ed3212ddb46f.gz.parquet\n",
      "-rw-r--r--   3 ec2-user supergroup    5619862 2017-03-08 00:52 /US_Weather.parquet/part-r-00115-0f4998c0-b27b-4f60-ad45-ed3212ddb46f.gz.parquet\n",
      "-rw-r--r--   3 ec2-user supergroup   29138721 2017-03-08 00:52 /US_Weather.parquet/part-r-00116-0f4998c0-b27b-4f60-ad45-ed3212ddb46f.gz.parquet\n",
      "-rw-r--r--   3 ec2-user supergroup    6278509 2017-03-08 00:52 /US_Weather.parquet/part-r-00117-0f4998c0-b27b-4f60-ad45-ed3212ddb46f.gz.parquet\n",
      "-rw-r--r--   3 ec2-user supergroup   27646107 2017-03-08 00:52 /US_Weather.parquet/part-r-00118-0f4998c0-b27b-4f60-ad45-ed3212ddb46f.gz.parquet\n",
      "-rw-r--r--   3 ec2-user supergroup    5982059 2017-03-08 00:52 /US_Weather.parquet/part-r-00119-0f4998c0-b27b-4f60-ad45-ed3212ddb46f.gz.parquet\n",
      "-rw-r--r--   3 ec2-user supergroup   26202271 2017-03-08 00:52 /US_Weather.parquet/part-r-00120-0f4998c0-b27b-4f60-ad45-ed3212ddb46f.gz.parquet\n",
      "-rw-r--r--   3 ec2-user supergroup    6335418 2017-03-08 00:52 /US_Weather.parquet/part-r-00121-0f4998c0-b27b-4f60-ad45-ed3212ddb46f.gz.parquet\n",
      "-rw-r--r--   3 ec2-user supergroup   27937708 2017-03-08 00:52 /US_Weather.parquet/part-r-00122-0f4998c0-b27b-4f60-ad45-ed3212ddb46f.gz.parquet\n",
      "-rw-r--r--   3 ec2-user supergroup    5791091 2017-03-08 00:52 /US_Weather.parquet/part-r-00123-0f4998c0-b27b-4f60-ad45-ed3212ddb46f.gz.parquet\n",
      "-rw-r--r--   3 ec2-user supergroup   28894995 2017-03-08 00:52 /US_Weather.parquet/part-r-00124-0f4998c0-b27b-4f60-ad45-ed3212ddb46f.gz.parquet\n",
      "-rw-r--r--   3 ec2-user supergroup    5384330 2017-03-08 00:52 /US_Weather.parquet/part-r-00125-0f4998c0-b27b-4f60-ad45-ed3212ddb46f.gz.parquet\n",
      "-rw-r--r--   3 ec2-user supergroup   27712611 2017-03-08 00:52 /US_Weather.parquet/part-r-00126-0f4998c0-b27b-4f60-ad45-ed3212ddb46f.gz.parquet\n",
      "-rw-r--r--   3 ec2-user supergroup    6118714 2017-03-08 00:52 /US_Weather.parquet/part-r-00127-0f4998c0-b27b-4f60-ad45-ed3212ddb46f.gz.parquet\n",
      "-rw-r--r--   3 ec2-user supergroup   29562219 2017-03-08 00:52 /US_Weather.parquet/part-r-00128-0f4998c0-b27b-4f60-ad45-ed3212ddb46f.gz.parquet\n",
      "-rw-r--r--   3 ec2-user supergroup    5366232 2017-03-08 00:52 /US_Weather.parquet/part-r-00129-0f4998c0-b27b-4f60-ad45-ed3212ddb46f.gz.parquet\n",
      "-rw-r--r--   3 ec2-user supergroup   30267870 2017-03-08 00:52 /US_Weather.parquet/part-r-00130-0f4998c0-b27b-4f60-ad45-ed3212ddb46f.gz.parquet\n",
      "-rw-r--r--   3 ec2-user supergroup    5501254 2017-03-08 00:52 /US_Weather.parquet/part-r-00131-0f4998c0-b27b-4f60-ad45-ed3212ddb46f.gz.parquet\n",
      "-rw-r--r--   3 ec2-user supergroup   30459376 2017-03-08 00:52 /US_Weather.parquet/part-r-00132-0f4998c0-b27b-4f60-ad45-ed3212ddb46f.gz.parquet\n",
      "-rw-r--r--   3 ec2-user supergroup    5871726 2017-03-08 00:52 /US_Weather.parquet/part-r-00133-0f4998c0-b27b-4f60-ad45-ed3212ddb46f.gz.parquet\n",
      "-rw-r--r--   3 ec2-user supergroup   27546802 2017-03-08 00:52 /US_Weather.parquet/part-r-00134-0f4998c0-b27b-4f60-ad45-ed3212ddb46f.gz.parquet\n",
      "-rw-r--r--   3 ec2-user supergroup    5025044 2017-03-08 00:52 /US_Weather.parquet/part-r-00135-0f4998c0-b27b-4f60-ad45-ed3212ddb46f.gz.parquet\n",
      "-rw-r--r--   3 ec2-user supergroup   31023551 2017-03-08 00:52 /US_Weather.parquet/part-r-00136-0f4998c0-b27b-4f60-ad45-ed3212ddb46f.gz.parquet\n",
      "-rw-r--r--   3 ec2-user supergroup    5048574 2017-03-08 00:52 /US_Weather.parquet/part-r-00137-0f4998c0-b27b-4f60-ad45-ed3212ddb46f.gz.parquet\n",
      "-rw-r--r--   3 ec2-user supergroup   29681379 2017-03-08 00:52 /US_Weather.parquet/part-r-00138-0f4998c0-b27b-4f60-ad45-ed3212ddb46f.gz.parquet\n",
      "-rw-r--r--   3 ec2-user supergroup    5707976 2017-03-08 00:52 /US_Weather.parquet/part-r-00139-0f4998c0-b27b-4f60-ad45-ed3212ddb46f.gz.parquet\n",
      "-rw-r--r--   3 ec2-user supergroup   27115120 2017-03-08 00:52 /US_Weather.parquet/part-r-00140-0f4998c0-b27b-4f60-ad45-ed3212ddb46f.gz.parquet\n",
      "-rw-r--r--   3 ec2-user supergroup    5330681 2017-03-08 00:52 /US_Weather.parquet/part-r-00141-0f4998c0-b27b-4f60-ad45-ed3212ddb46f.gz.parquet\n",
      "-rw-r--r--   3 ec2-user supergroup   28184089 2017-03-08 00:52 /US_Weather.parquet/part-r-00142-0f4998c0-b27b-4f60-ad45-ed3212ddb46f.gz.parquet\n",
      "-rw-r--r--   3 ec2-user supergroup    7327664 2017-03-08 00:52 /US_Weather.parquet/part-r-00143-0f4998c0-b27b-4f60-ad45-ed3212ddb46f.gz.parquet\n",
      "-rw-r--r--   3 ec2-user supergroup   26313102 2017-03-08 00:52 /US_Weather.parquet/part-r-00144-0f4998c0-b27b-4f60-ad45-ed3212ddb46f.gz.parquet\n",
      "-rw-r--r--   3 ec2-user supergroup    5740088 2017-03-08 00:52 /US_Weather.parquet/part-r-00145-0f4998c0-b27b-4f60-ad45-ed3212ddb46f.gz.parquet\n",
      "-rw-r--r--   3 ec2-user supergroup   28002070 2017-03-08 00:52 /US_Weather.parquet/part-r-00146-0f4998c0-b27b-4f60-ad45-ed3212ddb46f.gz.parquet\n",
      "-rw-r--r--   3 ec2-user supergroup    5891410 2017-03-08 00:52 /US_Weather.parquet/part-r-00147-0f4998c0-b27b-4f60-ad45-ed3212ddb46f.gz.parquet\n",
      "-rw-r--r--   3 ec2-user supergroup   31155703 2017-03-08 00:52 /US_Weather.parquet/part-r-00148-0f4998c0-b27b-4f60-ad45-ed3212ddb46f.gz.parquet\n",
      "-rw-r--r--   3 ec2-user supergroup    6029422 2017-03-08 00:52 /US_Weather.parquet/part-r-00149-0f4998c0-b27b-4f60-ad45-ed3212ddb46f.gz.parquet\n",
      "-rw-r--r--   3 ec2-user supergroup   29509185 2017-03-08 00:52 /US_Weather.parquet/part-r-00150-0f4998c0-b27b-4f60-ad45-ed3212ddb46f.gz.parquet\n",
      "-rw-r--r--   3 ec2-user supergroup    5705825 2017-03-08 00:52 /US_Weather.parquet/part-r-00151-0f4998c0-b27b-4f60-ad45-ed3212ddb46f.gz.parquet\n",
      "-rw-r--r--   3 ec2-user supergroup   28032604 2017-03-08 00:52 /US_Weather.parquet/part-r-00152-0f4998c0-b27b-4f60-ad45-ed3212ddb46f.gz.parquet\n",
      "-rw-r--r--   3 ec2-user supergroup    5102291 2017-03-08 00:52 /US_Weather.parquet/part-r-00153-0f4998c0-b27b-4f60-ad45-ed3212ddb46f.gz.parquet\n",
      "-rw-r--r--   3 ec2-user supergroup   30724841 2017-03-08 00:52 /US_Weather.parquet/part-r-00154-0f4998c0-b27b-4f60-ad45-ed3212ddb46f.gz.parquet\n",
      "-rw-r--r--   3 ec2-user supergroup    5845389 2017-03-08 00:52 /US_Weather.parquet/part-r-00155-0f4998c0-b27b-4f60-ad45-ed3212ddb46f.gz.parquet\n",
      "-rw-r--r--   3 ec2-user supergroup   28194613 2017-03-08 00:52 /US_Weather.parquet/part-r-00156-0f4998c0-b27b-4f60-ad45-ed3212ddb46f.gz.parquet\n",
      "-rw-r--r--   3 ec2-user supergroup    5803730 2017-03-08 00:52 /US_Weather.parquet/part-r-00157-0f4998c0-b27b-4f60-ad45-ed3212ddb46f.gz.parquet\n",
      "-rw-r--r--   3 ec2-user supergroup   25662591 2017-03-08 00:52 /US_Weather.parquet/part-r-00158-0f4998c0-b27b-4f60-ad45-ed3212ddb46f.gz.parquet\n",
      "-rw-r--r--   3 ec2-user supergroup    6028331 2017-03-08 00:52 /US_Weather.parquet/part-r-00159-0f4998c0-b27b-4f60-ad45-ed3212ddb46f.gz.parquet\n",
      "-rw-r--r--   3 ec2-user supergroup   29730484 2017-03-08 00:52 /US_Weather.parquet/part-r-00160-0f4998c0-b27b-4f60-ad45-ed3212ddb46f.gz.parquet\n",
      "-rw-r--r--   3 ec2-user supergroup    6415497 2017-03-08 00:52 /US_Weather.parquet/part-r-00161-0f4998c0-b27b-4f60-ad45-ed3212ddb46f.gz.parquet\n",
      "-rw-r--r--   3 ec2-user supergroup   29209402 2017-03-08 00:52 /US_Weather.parquet/part-r-00162-0f4998c0-b27b-4f60-ad45-ed3212ddb46f.gz.parquet\n",
      "-rw-r--r--   3 ec2-user supergroup    4960152 2017-03-08 00:52 /US_Weather.parquet/part-r-00163-0f4998c0-b27b-4f60-ad45-ed3212ddb46f.gz.parquet\n",
      "-rw-r--r--   3 ec2-user supergroup   29587562 2017-03-08 00:52 /US_Weather.parquet/part-r-00164-0f4998c0-b27b-4f60-ad45-ed3212ddb46f.gz.parquet\n",
      "-rw-r--r--   3 ec2-user supergroup    5397798 2017-03-08 00:52 /US_Weather.parquet/part-r-00165-0f4998c0-b27b-4f60-ad45-ed3212ddb46f.gz.parquet\n",
      "-rw-r--r--   3 ec2-user supergroup   30020935 2017-03-08 00:52 /US_Weather.parquet/part-r-00166-0f4998c0-b27b-4f60-ad45-ed3212ddb46f.gz.parquet\n",
      "-rw-r--r--   3 ec2-user supergroup    6149684 2017-03-08 00:52 /US_Weather.parquet/part-r-00167-0f4998c0-b27b-4f60-ad45-ed3212ddb46f.gz.parquet\n",
      "-rw-r--r--   3 ec2-user supergroup   27655617 2017-03-08 00:52 /US_Weather.parquet/part-r-00168-0f4998c0-b27b-4f60-ad45-ed3212ddb46f.gz.parquet\n",
      "-rw-r--r--   3 ec2-user supergroup    6626681 2017-03-08 00:52 /US_Weather.parquet/part-r-00169-0f4998c0-b27b-4f60-ad45-ed3212ddb46f.gz.parquet\n",
      "-rw-r--r--   3 ec2-user supergroup   26889352 2017-03-08 00:52 /US_Weather.parquet/part-r-00170-0f4998c0-b27b-4f60-ad45-ed3212ddb46f.gz.parquet\n",
      "-rw-r--r--   3 ec2-user supergroup    6196989 2017-03-08 00:52 /US_Weather.parquet/part-r-00171-0f4998c0-b27b-4f60-ad45-ed3212ddb46f.gz.parquet\n",
      "-rw-r--r--   3 ec2-user supergroup   26252925 2017-03-08 00:52 /US_Weather.parquet/part-r-00172-0f4998c0-b27b-4f60-ad45-ed3212ddb46f.gz.parquet\n",
      "-rw-r--r--   3 ec2-user supergroup    5066558 2017-03-08 00:52 /US_Weather.parquet/part-r-00173-0f4998c0-b27b-4f60-ad45-ed3212ddb46f.gz.parquet\n",
      "-rw-r--r--   3 ec2-user supergroup   26919503 2017-03-08 00:52 /US_Weather.parquet/part-r-00174-0f4998c0-b27b-4f60-ad45-ed3212ddb46f.gz.parquet\n",
      "-rw-r--r--   3 ec2-user supergroup    5677825 2017-03-08 00:52 /US_Weather.parquet/part-r-00175-0f4998c0-b27b-4f60-ad45-ed3212ddb46f.gz.parquet\n",
      "-rw-r--r--   3 ec2-user supergroup   30191524 2017-03-08 00:52 /US_Weather.parquet/part-r-00176-0f4998c0-b27b-4f60-ad45-ed3212ddb46f.gz.parquet\n",
      "-rw-r--r--   3 ec2-user supergroup    6690641 2017-03-08 00:52 /US_Weather.parquet/part-r-00177-0f4998c0-b27b-4f60-ad45-ed3212ddb46f.gz.parquet\n",
      "-rw-r--r--   3 ec2-user supergroup   29161592 2017-03-08 00:52 /US_Weather.parquet/part-r-00178-0f4998c0-b27b-4f60-ad45-ed3212ddb46f.gz.parquet\n",
      "-rw-r--r--   3 ec2-user supergroup    6572045 2017-03-08 00:52 /US_Weather.parquet/part-r-00179-0f4998c0-b27b-4f60-ad45-ed3212ddb46f.gz.parquet\n",
      "-rw-r--r--   3 ec2-user supergroup   26831330 2017-03-08 00:52 /US_Weather.parquet/part-r-00180-0f4998c0-b27b-4f60-ad45-ed3212ddb46f.gz.parquet\n",
      "-rw-r--r--   3 ec2-user supergroup    7641298 2017-03-08 00:52 /US_Weather.parquet/part-r-00181-0f4998c0-b27b-4f60-ad45-ed3212ddb46f.gz.parquet\n",
      "-rw-r--r--   3 ec2-user supergroup   28516524 2017-03-08 00:52 /US_Weather.parquet/part-r-00182-0f4998c0-b27b-4f60-ad45-ed3212ddb46f.gz.parquet\n",
      "-rw-r--r--   3 ec2-user supergroup    6838718 2017-03-08 00:52 /US_Weather.parquet/part-r-00183-0f4998c0-b27b-4f60-ad45-ed3212ddb46f.gz.parquet\n",
      "-rw-r--r--   3 ec2-user supergroup   28875128 2017-03-08 00:52 /US_Weather.parquet/part-r-00184-0f4998c0-b27b-4f60-ad45-ed3212ddb46f.gz.parquet\n",
      "-rw-r--r--   3 ec2-user supergroup    5889086 2017-03-08 00:52 /US_Weather.parquet/part-r-00185-0f4998c0-b27b-4f60-ad45-ed3212ddb46f.gz.parquet\n",
      "-rw-r--r--   3 ec2-user supergroup   20114121 2017-03-08 00:52 /US_Weather.parquet/part-r-00186-0f4998c0-b27b-4f60-ad45-ed3212ddb46f.gz.parquet\n",
      "\n",
      "copying took 62.695912838 seconds\n"
     ]
    }
   ],
   "source": [
    "from time import time\n",
    "t=time()\n",
    "files = s3helper.s3_to_hdfs('/Weather/US_Weather.parquet', '/US_Weather.parquet')\n",
    "print 'copying took',time()-t,'seconds'\n",
    "## copying took 62.695912838 seconds"
   ]
  },
  {
   "cell_type": "code",
   "execution_count": null,
   "metadata": {
    "collapsed": true
   },
   "outputs": [],
   "source": [
    "from pyspark import SparkContext\n",
    "from pyspark.sql import SQLContext\n",
    "\n",
    "sqlContext = SQLContext(sc)"
   ]
  },
  {
   "cell_type": "code",
   "execution_count": 23,
   "metadata": {
    "collapsed": false
   },
   "outputs": [
    {
     "name": "stdout",
     "output_type": "stream",
     "text": [
      "took  1.51164889336  seconds\n"
     ]
    }
   ],
   "source": [
    "t=time()\n",
    "TMAX = sqlContext.sql(\"SELECT * FROM parquet.`/US_Weather.parquet` where measurement = 'TMAX'\")\n",
    "print 'took ',time()-t,' seconds'"
   ]
  },
  {
   "cell_type": "markdown",
   "metadata": {
    "collapsed": true
   },
   "source": [
    "### Reading from s3 on databricks\n",
    "\n",
    "```python\n",
    "%run /Users/yfreund@ucsd.edu/Vault\n",
    "\n",
    "AWS_BUCKET_NAME = \"mas-dse-public\" \n",
    "MOUNT_NAME = \"NCDC-weather\"\n",
    "dbutils.fs.unmount(\"/mnt/%s\" % MOUNT_NAME)\n",
    "output_code=dbutils.fs.mount(\"s3n://%s:%s@%s\" % (ACCESS_KEY, ENCODED_SECRET_KEY, AWS_BUCKET_NAME), \"/mnt/%s\" % MOUNT_NAME)\n",
    "print 'Mount output status=',output_code\n",
    "file_list=dbutils.fs.ls('/mnt/%s/Weather'%MOUNT_NAME)\n",
    "file_list\n",
    "\n",
    "US_Weather_parquet='/mnt/NCDC-weather/Weather/US_Weather.parquet/'\n",
    "df = sqlContext.sql(\"SELECT * FROM  parquet.`%s`  where measurement=='TMAX'\"%US_Weather_parquet)\n",
    "df.show(5)\n",
    "```"
   ]
  },
  {
   "cell_type": "markdown",
   "metadata": {},
   "source": [
    "#### Demonstration on real data\n",
    "The following cells demonstrate the use of the code we wrote on the maximal-dayly temperature records for the state of california."
   ]
  },
  {
   "cell_type": "code",
   "execution_count": 24,
   "metadata": {
    "collapsed": false
   },
   "outputs": [
    {
     "name": "stdout",
     "output_type": "stream",
     "text": [
      "<class 'pyspark.sql.dataframe.DataFrame'>\n",
      "662767\n"
     ]
    }
   ],
   "source": [
    "print type(TMAX)\n",
    "print TMAX.count()"
   ]
  },
  {
   "cell_type": "code",
   "execution_count": 48,
   "metadata": {
    "collapsed": false
   },
   "outputs": [
    {
     "name": "stdout",
     "output_type": "stream",
     "text": [
      "took  0.00815391540527  seconds\n"
     ]
    }
   ],
   "source": [
    "# We transform the dataframe into an RDD of numpy arrays\n",
    "# remove the entries that do not correspond to temperature and devide by 10 so that the result is in centigrates.\n",
    "t=time()\n",
    "rdd=TMAX.rdd.map(lambda v:np.array(v[3:-4])/10).cache()\n",
    "print 'took ',time()-t,' seconds'"
   ]
  },
  {
   "cell_type": "code",
   "execution_count": 49,
   "metadata": {
    "collapsed": false
   },
   "outputs": [
    {
     "name": "stdout",
     "output_type": "stream",
     "text": [
      "662767\n",
      "first time took  20.5152611732  seconds\n"
     ]
    }
   ],
   "source": [
    "t=time()\n",
    "print rdd.count()   #takes almost no time without this count() command (only plan is created)\n",
    "print  'first time took ',time()-t,' seconds'"
   ]
  },
  {
   "cell_type": "code",
   "execution_count": 50,
   "metadata": {
    "collapsed": false
   },
   "outputs": [
    {
     "name": "stdout",
     "output_type": "stream",
     "text": [
      "662767\n",
      "second time took  0.284214019775  seconds\n"
     ]
    }
   ],
   "source": [
    "t=time()\n",
    "print rdd.count()   #takes almost no time without this count() command (only plan is created)\n",
    "print  'second time took ',time()-t,' seconds'"
   ]
  },
  {
   "cell_type": "code",
   "execution_count": 51,
   "metadata": {
    "collapsed": false
   },
   "outputs": [
    {
     "data": {
      "text/plain": [
       "365"
      ]
     },
     "execution_count": 51,
     "metadata": {},
     "output_type": "execute_result"
    }
   ],
   "source": [
    "rows=rdd.take(5)\n",
    "len(rows[1])"
   ]
  },
  {
   "cell_type": "code",
   "execution_count": 52,
   "metadata": {
    "collapsed": false
   },
   "outputs": [
    {
     "name": "stdout",
     "output_type": "stream",
     "text": [
      "took  1.13223981857  seconds\n"
     ]
    }
   ],
   "source": [
    "t=time()\n",
    "UnDef=rdd.map(lambda row:sum(np.isnan(row))).collect()\n",
    "print  'took ',time()-t,' seconds'"
   ]
  },
  {
   "cell_type": "code",
   "execution_count": 53,
   "metadata": {
    "collapsed": false
   },
   "outputs": [
    {
     "name": "stdout",
     "output_type": "stream",
     "text": [
      "Populating the interactive namespace from numpy and matplotlib\n"
     ]
    },
    {
     "data": {
      "image/png": "[encoded data removed]",
      "text/plain": [
       "<matplotlib.figure.Figure at 0x7f766423ef10>"
      ]
     },
     "metadata": {},
     "output_type": "display_data"
    }
   ],
   "source": [
    "#import matplotlib.pyplot as plt\n",
    "%pylab inline\n",
    "figure(figsize=[12,8])\n",
    "hist(UnDef,bins=36);"
   ]
  },
  {
   "cell_type": "code",
   "execution_count": 59,
   "metadata": {
    "collapsed": false
   },
   "outputs": [
    {
     "name": "stdout",
     "output_type": "stream",
     "text": [
      "Original size is:662767, size after removing rows with 50 or more nans: 558427\n"
     ]
    }
   ],
   "source": [
    "# Remove entries that have 50 or more nan's\n",
    "thr=50\n",
    "rdd1=rdd.filter(lambda row:sum(np.isnan(row))<thr)\n",
    "print 'Original size is:%d, size after removing rows with %d or more nans: %d'%(rdd.count(),thr,rdd1.count())"
   ]
  },
  {
   "cell_type": "code",
   "execution_count": 60,
   "metadata": {
    "collapsed": false
   },
   "outputs": [
    {
     "data": {
      "text/plain": [
       "array([  0. ,   0. ,   0. ,   0.6,   4.4,   5. ,  13.3,   7.8,   5. ,\n",
       "         3.3,   3.3,   6.7,   6.7,   5.6,   9.4,   7.8,   8.3,  12.2,\n",
       "        11.7,   4.4,   3.9,   0. ,  11.1,  -0.6,   2.8,   3.9,   1.7,\n",
       "         3.3,   0. ,  -2.2,   0. ,   3.3,   3.3,   0.6,   0.6,   0.6,\n",
       "        12.2,   4.4,   4.4,   2.8,   0. ,   6.1,   9.4,   8.9,   6.1,\n",
       "        11.1,  10.6,   6.1,   3.3,   4.4,  11.1,  10. ,  10.6,  12.2,\n",
       "        12.2,  11.7,   6.1,  -0.6,   3.3,   2.2,   6.7,   4.4,   5. ,\n",
       "         5. ,   2.8,   4.4,   5.6,   6.7,   7.2,   7.8,   6.7,  10.6,\n",
       "        11.1,  10. ,  10. ,   8.9,   6.7,   9.4,  10. ,   8.3,   9.4,\n",
       "        10. ,  11.1,  16.7,  13.9,   5.6,  11.1,   6.7,   4.4,  11.1,\n",
       "        11.7,  12.2,   7.2,  13.3,   9.4,  11.1,  12.8,  22.2,  20.6,\n",
       "        20. ,  13.9,  20.6,  15.6,  18.3,  18.3,  21.7,  19.4,  22.2,\n",
       "        28.3,  28.3,  21.1,  13.9,  23.3,  20. ,  33.3,  29.4,  32.8,\n",
       "        27.2,  21.7,  12.2,  15. ,  18.9,  20.6,  12.8,  14.4,  23.3,\n",
       "        22.2,  25.6,  25. ,  25.6,  26.7,  22.2,  25.6,  23.3,  23.3,\n",
       "        17.8,  11.1,  18.3,  21.7,  21.7,  13.9,  24.4,  22.2,  16.7,\n",
       "        25.6,  18.3,  20. ,  23.3,  22.8,  17.8,  26.7,  27.8,  20.6,\n",
       "        18.3,  23.3,  21.7,  23.9,  26.7,  26.7,  29.4,  27.2,  26.1,\n",
       "        31.7,  26.1,  32.8,  26.7,  27.8,  27.8,  30. ,  28.3,  25.6,\n",
       "        26.7,  20.6,  20.6,  24.4,  27.8,  26.7,  27.8,  29.4,  31.1,\n",
       "        25. ,  28.9,  23.3,  27.8,  26.7,  24.4,  25. ,  25. ,  22.2,\n",
       "        27.2,  26.7,  27.2,  21.1,  27.8,  29.4,  30. ,  27.2,  32.2,\n",
       "        30. ,  30.6,  26.1,  23.9,  23.9,  25. ,  24.4,  27.2,  27.8,\n",
       "        26.7,  28.9,  29.4,  31.7,  32.2,  29.4,  28.9,  22.8,  23.9,\n",
       "        23.9,  17.8,  25. ,  27.8,  27.8,  28.3,  26.7,  25.6,  30.6,\n",
       "        30. ,  28.3,  30.6,  25.6,  21.7,  24.4,  26.1,  24.4,  26.1,\n",
       "        28.3,  27.8,  27.2,  24.4,  19.4,  20.6,  18.3,  20.6,  20.6,\n",
       "        21.1,  23.9,  27.8,  28.9,  24.4,  26.1,  26.7,  28.3,  32.8,\n",
       "        30. ,  30. ,  25.6,  27.8,  30.6,  30.6,  32.8,  31.7,  26.7,\n",
       "        21.1,  24.4,  22.2,  18.9,  20. ,  21.7,  25. ,  20. ,  20. ,\n",
       "        18.9,  21.7,  22.2,  12.8,  11.7,  17.2,  21.1,  21.7,  15.6,\n",
       "        16.7,  16.7,  16.1,  16.1,  17.8,  23.9,  24.4,  26.1,  26.7,\n",
       "        18.3,  22.8,  22.2,  22.8,  17.8,  26.1,  18.3,  15.6,  13.9,\n",
       "        14.4,  20. ,  21.1,  17.2,  16.7,  16.1,  15.6,  21.1,  20. ,\n",
       "        11.1,  11.1,   9.4,   9.4,  11.7,  16.7,  18.3,  13.9,  11.7,\n",
       "        13.9,  15. ,  11.1,  11.7,   6.7,   7.2,  10. ,  13.3,   8.3,\n",
       "        12.8,   4.4,   4.4,   5.6,   8.3,  12.2,   8.9,  11.7,  12.8,\n",
       "         4.4,   5. ,   3.3,   2.8,   2.8,   2.2,   1.7,   0.6,   1.7,\n",
       "         5.6,   0. ,  -0.6,  -1.1,   0.6,   0. ,  -0.6,   2.2,   0.6,\n",
       "        10. ,   4.4,   2.2,   2.2,   1.7,   6.7,   6.1,  12.2,  12.2,\n",
       "         5. ,   6.7,   3.3,   1.1,  -1.1])"
      ]
     },
     "execution_count": 60,
     "metadata": {},
     "output_type": "execute_result"
    }
   ],
   "source": [
    "rdd1.first()"
   ]
  },
  {
   "cell_type": "markdown",
   "metadata": {},
   "source": [
    "## compute covariance"
   ]
  },
  {
   "cell_type": "code",
   "execution_count": 61,
   "metadata": {
    "collapsed": false
   },
   "outputs": [
    {
     "name": "stdout",
     "output_type": "stream",
     "text": [
      "shape of S= (366, 366) shape of N= (366, 366)\n",
      "shape of E= (365,) shape of NE= (365,)\n",
      "took 109.121930838 seconds\n"
     ]
    }
   ],
   "source": [
    "t=time()\n",
    "OUT=computeCov(rdd)\n",
    "OUT\n",
    "print 'took',time()-t, 'seconds'"
   ]
  },
  {
   "cell_type": "code",
   "execution_count": 63,
   "metadata": {
    "collapsed": true
   },
   "outputs": [],
   "source": [
    "(Cov,Mean)=OUT"
   ]
  },
  {
   "cell_type": "code",
   "execution_count": 64,
   "metadata": {
    "collapsed": false
   },
   "outputs": [
    {
     "data": {
      "text/plain": [
       "array([[  95.04928215,   80.54064783,   71.41541364,   68.26263966,\n",
       "          66.17589646,   64.53321989,   64.77031154,   64.45993193,\n",
       "          64.4059323 ,   63.14433903],\n",
       "       [  80.54064783,   95.06715081,   81.38666594,   72.43939477,\n",
       "          68.06183576,   65.24471404,   65.0118917 ,   64.6272114 ,\n",
       "          64.71815504,   62.65874998],\n",
       "       [  71.41541364,   81.38666594,   96.4038978 ,   83.96482428,\n",
       "          74.12825733,   68.40696927,   66.47500083,   65.36989735,\n",
       "          65.79228738,   63.2800448 ],\n",
       "       [  68.26263966,   72.43939477,   83.96482428,   98.20212537,\n",
       "          85.13896741,   74.39557103,   69.91059316,   67.40898313,\n",
       "          67.61227804,   65.44084122],\n",
       "       [  66.17589646,   68.06183576,   74.12825733,   85.13896741,\n",
       "          99.22642535,   84.72835032,   76.00487767,   71.67119658,\n",
       "          70.09159591,   67.87805268],\n",
       "       [  64.53321989,   65.24471404,   68.40696927,   74.39557103,\n",
       "          84.72835032,   98.72842862,   85.98508242,   76.29717912,\n",
       "          72.15188837,   69.34260967],\n",
       "       [  64.77031154,   65.0118917 ,   66.47500083,   69.91059316,\n",
       "          76.00487767,   85.98508242,  100.12705968,   86.98814514,\n",
       "          76.91412576,   71.34534669],\n",
       "       [  64.45993193,   64.6272114 ,   65.36989735,   67.40898313,\n",
       "          71.67119658,   76.29717912,   86.98814514,  101.1321425 ,\n",
       "          87.46170396,   76.11995792],\n",
       "       [  64.4059323 ,   64.71815504,   65.79228738,   67.61227804,\n",
       "          70.09159591,   72.15188837,   76.91412576,   87.46170396,\n",
       "         102.71789541,   87.30589296],\n",
       "       [  63.14433903,   62.65874998,   63.2800448 ,   65.44084122,\n",
       "          67.87805268,   69.34260967,   71.34534669,   76.11995792,\n",
       "          87.30589296,  101.675671  ]])"
      ]
     },
     "execution_count": 64,
     "metadata": {},
     "output_type": "execute_result"
    }
   ],
   "source": [
    "Cov[:10,:10]"
   ]
  },
  {
   "cell_type": "code",
   "execution_count": 65,
   "metadata": {
    "collapsed": true
   },
   "outputs": [],
   "source": [
    "from numpy import linalg as LA\n",
    "w,v=LA.eig(Cov)"
   ]
  },
  {
   "cell_type": "code",
   "execution_count": 69,
   "metadata": {
    "collapsed": false
   },
   "outputs": [
    {
     "data": {
      "image/png": "[encoded data removed]",
      "text/plain": [
       "<matplotlib.figure.Figure at 0x7f7666294a90>"
      ]
     },
     "metadata": {},
     "output_type": "display_data"
    }
   ],
   "source": [
    "from datetime import date\n",
    "from numpy import shape\n",
    "import matplotlib.pyplot as plt\n",
    "import pylab as py\n",
    "from pylab import ylabel,grid,title\n",
    "\n",
    "dates=[date.fromordinal(i) for i in range(1,366)]\n",
    "def YearlyPlots(T,ttl='',size=(10,7)):\n",
    "    fig=plt.figure(1,figsize=size,dpi=300)\n",
    "    #fig, ax = plt.subplots(1)\n",
    "    if shape(T)[0] != 365:\n",
    "        raise ValueError(\"First dimension of T should be 365. Shape(T)=\"+str(shape(T)))\n",
    "    ax.plot(dates,T);\n",
    "    # rotate and align the tick labels so they look better\n",
    "    #fig.autofmt_xdate()\n",
    "    ylabel('temperature')\n",
    "    grid()\n",
    "    title(ttl)\n",
    "    return\n",
    "fig=YearlyPlots(v[:,:4],'Eigen-Vectors')"
   ]
  },
  {
   "cell_type": "code",
   "execution_count": 26,
   "metadata": {
    "collapsed": true
   },
   "outputs": [],
   "source": [
    "fig=YearlyPlots(Mean,'Mean')\n",
    "display(fig)"
   ]
  },
  {
   "cell_type": "code",
   "execution_count": 27,
   "metadata": {
    "collapsed": true
   },
   "outputs": [],
   "source": [
    "Var=np.cumsum(w)\n",
    "Var=Var/Var[-1]\n",
    "fig, ax = plt.subplots()\n",
    "#ax.plot(x, Mean, 'r')\n",
    "ax.plot(x,Var)\n",
    "ax.grid()\n",
    "display(fig)"
   ]
  },
  {
   "cell_type": "code",
   "execution_count": 28,
   "metadata": {
    "collapsed": true
   },
   "outputs": [],
   "source": []
  }
 ],
 "metadata": {
  "celltoolbar": "Slideshow",
  "kernelspec": {
   "display_name": "Python 2",
   "language": "python",
   "name": "python2"
  },
  "language_info": {
   "codemirror_mode": {
    "name": "ipython",
    "version": 2
   },
   "file_extension": ".py",
   "mimetype": "text/x-python",
   "name": "python",
   "nbconvert_exporter": "python",
   "pygments_lexer": "ipython2",
   "version": "2.7.12"
  },
  "name": "PCA_using_numpy",
  "notebookId": 63332
 },
 "nbformat": 4,
 "nbformat_minor": 0
}
