{
 "cells": [
  {
   "cell_type": "markdown",
   "metadata": {
    "slideshow": {
     "slide_type": "slide"
    }
   },
   "source": [
    "### Performing PCA on vectors with NaNs\n",
    "This notebook demonstrates the use of numpy arrays as the content of RDDs.\n",
    "\n",
    "The code was used on a spark cluster to produce the pickle file that you will examine locally on your laptop.\n",
    "\n",
    "\n",
    "The reason that we use numpy arrays instead of dataframes is that numpy is better in handling `nan` etries.\n",
    "\n",
    "In numpy `5+nan=5` while in dataframes `5+nan=nan`\n",
    "\n",
    "Suppose that the data vectors are the column vectors denoted $x$ then the covariance matrix is defined to be\n",
    "$$\n",
    "E(x x^T)-E(x)E(x)^T\n",
    "$$\n",
    "\n",
    "Where $x x^T$ is the **outer product** of $x$ with itself.\n",
    "\n",
    "If the data that we have is $x_1,x_2,x_n$ then the estimates we use are:\n",
    "$$\n",
    "\\hat{E}(x x^T) = \\frac{1}{n} \\sum_{i=1}^n x_i x_i^T,\\;\\;\\;\\;\\;\n",
    "\\hat{E}(x) = \\frac{1}{n} \\sum_{i=1}^n x_i\n",
    "$$\n",
    "\n",
    "As it happens, we often get vectors $x$ in which some, but not all, of the entries are `nan`. In such cases we sum the elements that are defined and keep a seperate counter for each entry."
   ]
  },
  {
   "cell_type": "code",
   "execution_count": 2,
   "metadata": {
    "collapsed": true,
    "slideshow": {
     "slide_type": "slide"
    }
   },
   "outputs": [],
   "source": [
    "import numpy as np\n",
    "\n",
    "def outerProduct(X):\n",
    "  \"\"\"Computer outer product and indicate which locations in matrix are undefined\"\"\"\n",
    "  O=np.outer(X,X)\n",
    "  N=1-np.isnan(O)\n",
    "  return (O,N)\n",
    "def sumWithNan(M1,M2):\n",
    "  \"\"\"Add two pairs of (matrix,count)\"\"\"\n",
    "  (X1,N1)=M1\n",
    "  (X2,N2)=M2\n",
    "  N=N1+N2\n",
    "  X=np.nansum(np.dstack((X1,X2)),axis=2)\n",
    "  return (X,N)\n",
    "  "
   ]
  },
  {
   "cell_type": "code",
   "execution_count": 3,
   "metadata": {
    "collapsed": true,
    "slideshow": {
     "slide_type": "subslide"
    }
   },
   "outputs": [],
   "source": [
    "# computeCov recieves as input an RDD of np arrays, all of the same length, and computes the covariance matrix for that set of vectors\n",
    "def computeCov(RDDin):\n",
    "  RDD=RDDin.map(lambda v:np.insert(v,0,1)) # insert a 1 at the beginning of each vector so that the same \n",
    "                                           #calculation also yields the mean vector\n",
    "  OuterRDD=RDD.map(outerProduct)   # separating the map and the reduce does not matter because of Spark uses lazy execution.\n",
    "  (S,N)=OuterRDD.reduce(sumWithNan)\n",
    "  # Unpack result and compute the covariance matrix\n",
    "  #print 'RDD=',RDD.collect()\n",
    "  print 'shape of S=',S.shape,'shape of N=',N.shape\n",
    "  #print 'S=',S\n",
    "  #print 'N=',N\n",
    "  E=S[0,1:]\n",
    "  NE=np.float64(N[0,1:])\n",
    "  print 'shape of E=',E.shape,'shape of NE=',NE.shape\n",
    "  Mean=E/NE\n",
    "  O=S[1:,1:]\n",
    "  NO=np.float64(N[1:,1:])\n",
    "  Cov=O/NO - np.outer(Mean,Mean)\n",
    "  # Output also the diagnal which is the variance for each day\n",
    "  Var=np.array([Cov[i,i] for i in range(Cov.shape[0])])\n",
    "  return {'E':E,'NE':NE,'O':O,'NO':NO,'Cov':Cov,'Mean':Mean,'Var':Var}"
   ]
  },
  {
   "cell_type": "code",
   "execution_count": 4,
   "metadata": {
    "collapsed": true,
    "slideshow": {
     "slide_type": "subslide"
    }
   },
   "outputs": [],
   "source": [
    "# Compute the overall distribution of values and the distribution of the number of nan per year\n",
    "def find_percentiles(SortedVals,percentile):\n",
    "  L=len(SortedVals)/percentile\n",
    "  return SortedVals[L],SortedVals[-L]\n",
    "  \n",
    "def computeOverAllDist(rdd0):\n",
    "  UnDef=np.array(rdd0.map(lambda row:sum(np.isnan(row))).sample(False,0.01).collect())\n",
    "  flat=rdd0.flatMap(lambda v:list(v)).filter(lambda x: not np.isnan(x)).cache()\n",
    "  count,S1,S2=flat.map(lambda x: np.float64([1,x,x**2]))\\\n",
    "                  .reduce(lambda x,y: x+y)\n",
    "  mean=S1/count\n",
    "  std=np.sqrt(S2/count-mean**2)\n",
    "  Vals=flat.sample(False,0.0001).collect()\n",
    "  SortedVals=np.array(sorted(Vals))\n",
    "  low100,high100=find_percentiles(SortedVals,100)\n",
    "  low1000,high1000=find_percentiles(SortedVals,1000)\n",
    "  return {'UnDef':UnDef,\\\n",
    "          'mean':mean,\\\n",
    "          'std':std,\\\n",
    "          'SortedVals':SortedVals,\\\n",
    "          'low100':low100,\\\n",
    "          'high100':high100,\\\n",
    "          'low1000':low100,\\\n",
    "          'high1000':high1000\n",
    "          }\n",
    "\n"
   ]
  },
  {
   "cell_type": "code",
   "execution_count": 5,
   "metadata": {
    "collapsed": true,
    "slideshow": {
     "slide_type": "skip"
    }
   },
   "outputs": [],
   "source": [
    "%run /Users/yfreund@ucsd.edu/Vault"
   ]
  },
  {
   "cell_type": "code",
   "execution_count": 6,
   "metadata": {
    "collapsed": true,
    "slideshow": {
     "slide_type": "skip"
    }
   },
   "outputs": [],
   "source": [
    "AWS_BUCKET_NAME = \"mas-dse-public\" \n",
    "MOUNT_NAME = \"NCDC-weather\"\n",
    "OPEN_BUCKET_NAME = \"mas-dse-open\"\n",
    "OPEN_MOUNT_NAME = \"OPEN-weather\"\n",
    "dbutils.fs.unmount(\"/mnt/%s\" % MOUNT_NAME)\n",
    "dbutils.fs.unmount(\"/mnt/%s\" % OPEN_MOUNT_NAME)\n",
    "output_code=dbutils.fs.mount(\"s3n://%s:%s@%s\" % (ACCESS_KEY, ENCODED_SECRET_KEY, AWS_BUCKET_NAME), \"/mnt/%s\" % MOUNT_NAME)\n",
    "print 'Mount public status=',output_code\n",
    "output_code=dbutils.fs.mount(\"s3n://%s:%s@%s\" % (ACCESS_KEY, ENCODED_SECRET_KEY, OPEN_BUCKET_NAME), \"/mnt/%s\" % OPEN_MOUNT_NAME)\n",
    "print 'Mount open status=',output_code\n",
    "\n",
    "file_list=dbutils.fs.ls('/mnt/%s/Weather'%MOUNT_NAME)\n",
    "file_list"
   ]
  },
  {
   "cell_type": "code",
   "execution_count": 7,
   "metadata": {
    "collapsed": true,
    "slideshow": {
     "slide_type": "skip"
    }
   },
   "outputs": [],
   "source": [
    "file_list=dbutils.fs.ls('/mnt/%s/Weather'%OPEN_MOUNT_NAME)\n",
    "file_list"
   ]
  },
  {
   "cell_type": "code",
   "execution_count": 8,
   "metadata": {
    "collapsed": true,
    "slideshow": {
     "slide_type": "slide"
    }
   },
   "outputs": [],
   "source": [
    "from numpy import linalg as LA\n",
    "\n",
    "N=sc.defaultParallelism\n",
    "print 'Number of executors=',N\n",
    "\n",
    "STAT={}  # dictionary storing the statistics for each measurement\n",
    "for meas in measurements:\n",
    "\n",
    "  Query=\"SELECT * FROM parquet.`%s`\\n\\tWHERE measurement = '%s'\"%(US_Weather_parquet,meas)\n",
    "  print Query\n",
    "  df = sqlContext.sql(Query)\n",
    "  rdd0=df.map(lambda row:(row['station'],((row['measurement'],row['year']),np.array([np.float64(row[str(i)]) for i in range(1,366)])))).cache()\n",
    "\n",
    "  rdd1=rdd0.sample(False,1)\\\n",
    "           .map(lambda (key,val): val[1])\\\n",
    "           .cache()\\\n",
    "           .repartition(N)\n",
    "  print rdd1.count()\n",
    "\n",
    "  #get basic statistics\n",
    "  STAT[meas]=computeOverAllDist(rdd1)   # Compute the statistics \n",
    "  low1000 = STAT[meas]['low1000']  # unpack the extreme values statistics\n",
    "  high1000 = STAT[meas]['high1000']\n",
    "\n",
    "  #clean up table from extreme values and from rows with too many undefinde entries.\n",
    "  rdd2=rdd1.map(lambda V: np.array([x if (x>low1000-1) and (x<high1000+1) else np.nan for x in V]))\n",
    "  rdd3=rdd2.filter(lambda row:sum(np.isnan(row))<50)\n",
    "  Clean_Tables[meas]=rdd3.cache().repartition(N)\n",
    "  C=Clean_Tables[meas].count()\n",
    "  print 'for measurement %s, we get %d clean rows'%(meas,C)\n",
    "\n",
    "  # compute covariance matrix\n",
    "  OUT=computeCov(Clean_Tables[meas])\n",
    "\n",
    "  #find PCA decomposition\n",
    "  eigval,eigvec=LA.eig(OUT['Cov'])\n",
    "\n",
    "  # collect all of the statistics in STAT[meas]\n",
    "  STAT[meas]['eigval']=eigval\n",
    "  STAT[meas]['eigvec']=eigvec\n",
    "  STAT[meas].update(OUT)\n",
    "\n",
    "  # print summary of statistics\n",
    "  print 'the statistics for %s consists of:'%meas\n",
    "  for key in STAT[meas].keys():\n",
    "    e=STAT[meas][key]\n",
    "    if type(e)==list:\n",
    "      print key,'list',len(e)\n",
    "    elif type(e)==np.ndarray:\n",
    "      print key,'ndarray',e.shape\n",
    "    elif type(e)==np.float64:\n",
    "      print key,'scalar'\n",
    "    else:\n",
    "      print key,'Error type=',type(e)\n"
   ]
  },
  {
   "cell_type": "code",
   "execution_count": 9,
   "metadata": {
    "collapsed": true,
    "slideshow": {
     "slide_type": "slide"
    }
   },
   "outputs": [],
   "source": [
    "STAT_Descriptions=[\n",
    "('SortedVals', 'Sample of values', 'vector whose length varies between measurements'),\n",
    " ('UnDef', 'sample of number of undefs per row', 'vector whose length varies between measurements'),\n",
    " ('mean', 'mean value', ()),\n",
    " ('std', 'std', ()),\n",
    " ('low100', 'bottom 1%', ()),\n",
    " ('high100', 'top 1%', ()),\n",
    " ('low1000', 'bottom 0.1%', ()),\n",
    " ('high1000', 'top 0.1%', ()),\n",
    " ('E', 'Sum of values per day', (365,)),\n",
    " ('NE', 'count of values per day', (365,)),\n",
    " ('Mean', 'E/NE', (365,)),\n",
    " ('O', 'Sum of outer products', (365, 365)),\n",
    " ('NO', 'counts for outer products', (365, 365)),\n",
    " ('Cov', 'O/NO', (365, 365)),\n",
    " ('Var', 'The variance per day = diagonal of Cov', (365,)),\n",
    " ('eigval', 'PCA eigen-values', (365,)),\n",
    " ('eigvec', 'PCA eigen-vectors', (365, 365))\n",
    "  ]"
   ]
  },
  {
   "cell_type": "code",
   "execution_count": 10,
   "metadata": {
    "collapsed": true,
    "slideshow": {
     "slide_type": "subslide"
    }
   },
   "outputs": [],
   "source": [
    "from pickle import dumps\n",
    "dbutils.fs.put(\"/mnt/OPEN-weather/Weather/STAT.pickle\",dumps((STAT,STAT_Descriptions)),True)"
   ]
  },
  {
   "cell_type": "markdown",
   "metadata": {
    "slideshow": {
     "slide_type": "slide"
    }
   },
   "source": [
    "### Sample Stations\n",
    "Generate a sample of stations, for each one store all available year X measurement pairs."
   ]
  },
  {
   "cell_type": "code",
   "execution_count": 12,
   "metadata": {
    "collapsed": true,
    "slideshow": {
     "slide_type": "fragment"
    }
   },
   "outputs": [],
   "source": [
    "import numpy as np\n",
    "US_Weather_parquet='/mnt/NCDC-weather/Weather/US_Weather.parquet/'\n",
    "measurements=['TMAX','TMIN','TOBS','SNOW','SNWD','PRCP']\n",
    "Query=\"SELECT * FROM parquet.`%s`\\n\\tWHERE \"%US_Weather_parquet+\"\\n\\tor \".join([\"measurement='%s'\"%m for m in measurements])\n",
    "print Query\n",
    "df = sqlContext.sql(Query)\n",
    "\n",
    "rdd0=df.map(lambda row:(str(row['station']),((str(row['measurement'])\\\n",
    "                        ,row['year']),np.array([np.float64(row[str(i)]) for i in range(1,366)]))))\\\n",
    ".cache().repartition(N)\n"
   ]
  },
  {
   "cell_type": "code",
   "execution_count": 13,
   "metadata": {
    "collapsed": true,
    "slideshow": {
     "slide_type": "fragment"
    }
   },
   "outputs": [],
   "source": [
    "rdd0.take(10) # test output"
   ]
  },
  {
   "cell_type": "code",
   "execution_count": 14,
   "metadata": {
    "collapsed": true,
    "slideshow": {
     "slide_type": "subslide"
    }
   },
   "outputs": [],
   "source": [
    "groups=rdd0.groupByKey().cache()\n",
    "print 'number of stations=',groups.count()\n",
    "\n",
    "groups1=groups.sample(False,0.01).collect()\n",
    "groups2=[(g[0],[e for e in g[1]]) for g in groups1]"
   ]
  },
  {
   "cell_type": "code",
   "execution_count": 15,
   "metadata": {
    "collapsed": true,
    "slideshow": {
     "slide_type": "subslide"
    }
   },
   "outputs": [],
   "source": [
    "from pickle import dumps\n",
    "dbutils.fs.put(\"/mnt/OPEN-weather/Weather/SampleStations_copy.pickle\",dumps(groups2),True)"
   ]
  },
  {
   "cell_type": "code",
   "execution_count": 16,
   "metadata": {
    "collapsed": true,
    "slideshow": {
     "slide_type": "subslide"
    }
   },
   "outputs": [],
   "source": [
    "import numpy as np\n",
    "US_Weather_parquet='/mnt/NCDC-weather/Weather/US_Weather.parquet/'\n",
    "measurements=['TMAX','TMIN','TOBS','SNOW','SNWD','PRCP']\n",
    "Query=\"SELECT * FROM parquet.`%s`\\n\\tWHERE \"%US_Weather_parquet+\"\\n\\tor \".join([\"measurement='%s'\"%m for m in measurements])\n",
    "print Query\n",
    "df = sqlContext.sql(Query)\n",
    "\n",
    "rdd0=df.map(lambda row:((str(row['station']),str(row['measurement'])),\\\n",
    "                        ((row['year']),np.array([np.float64(row[str(i)]) for i in range(1,366)]))))\\\n",
    ".cache().repartition(N)\n"
   ]
  },
  {
   "cell_type": "code",
   "execution_count": 19,
   "metadata": {
    "collapsed": true,
    "slideshow": {
     "slide_type": "subslide"
    }
   },
   "outputs": [],
   "source": [
    "group_Sample=rdd0.sample(False,0.001).groupByKey().mapValues(list).cache()\n",
    "group_Sample.first()"
   ]
  },
  {
   "cell_type": "code",
   "execution_count": 21,
   "metadata": {
    "collapsed": true,
    "slideshow": {
     "slide_type": "subslide"
    }
   },
   "outputs": [],
   "source": [
    "Means=rdd0.aggregateByKey((np.zeros(365),1),\\\n",
    "                          lambda S,D: sumWithNan(S,(D[1],1)),\\\n",
    "                          lambda S1,S2: sumWithNanithNan(S1,S2))\\\n",
    ".cache().repartition(N)"
   ]
  },
  {
   "cell_type": "code",
   "execution_count": 22,
   "metadata": {
    "collapsed": true,
    "slideshow": {
     "slide_type": "skip"
    }
   },
   "outputs": [],
   "source": [
    "Means.take(5)"
   ]
  },
  {
   "cell_type": "code",
   "execution_count": 23,
   "metadata": {
    "collapsed": true,
    "slideshow": {
     "slide_type": "subslide"
    }
   },
   "outputs": [],
   "source": [
    "groups=rdd0.groupByKey().cache()\n",
    "print 'number of stations=',groups.count()\n"
   ]
  }
 ],
 "metadata": {
  "celltoolbar": "Slideshow",
  "kernelspec": {
   "display_name": "Python 2",
   "language": "python",
   "name": "python2"
  },
  "language_info": {
   "codemirror_mode": {
    "name": "ipython",
    "version": 2
   },
   "file_extension": ".py",
   "mimetype": "text/x-python",
   "name": "python",
   "nbconvert_exporter": "python",
   "pygments_lexer": "ipython2",
   "version": "2.7.11"
  },
  "name": "PCA_using_numpy for HW3",
  "notebookId": 85286
 },
 "nbformat": 4,
 "nbformat_minor": 0
}
