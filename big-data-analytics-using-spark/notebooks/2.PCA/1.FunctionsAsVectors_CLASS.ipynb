{
 "cells": [
  {
   "cell_type": "code",
   "execution_count": null,
   "metadata": {
    "collapsed": false,
    "deletable": true,
    "editable": true,
    "slideshow": {
     "slide_type": "skip"
    }
   },
   "outputs": [],
   "source": [
    "%pylab inline\n",
    "\n",
    "import numpy as np\n",
    "import matplotlib.pyplot as plt\n",
    "from ipywidgets import interact, interactive, fixed, interact_manual,widgets\n",
    "import ipywidgets as widgets\n",
    "\n",
    "print 'version of ipwidgets=',widgets.__version__\n",
    "\n",
    "import sys\n",
    "sys.path.append('lib')\n",
    "from recon_plot import recon_plot\n",
    "from Eigen_decomp import Eigen_decomp\n",
    "from YearPlotter import YearPlotter"
   ]
  },
  {
   "cell_type": "markdown",
   "metadata": {
    "deletable": true,
    "editable": true,
    "slideshow": {
     "slide_type": "slide"
    }
   },
   "source": [
    "### High-dimensional vectors\n",
    "To get an intuition about the working of the PCA, we used an example in the plane, or $R^2$.\n",
    "While useful for intuition, this is not the typical case in which we use PCA. Typically we are interested in vectors in a space whose dimension is in the hundreds or more.\n",
    "\n",
    "How can we depict such vectors? If the coordinates of the vector have a natural order. For example, if the coordinates correspond to a grid of times, then a good representation is to make a plot in which the $x$-axis is the time and the $y$-axis is the value that corresponds to this time. \n",
    "\n",
    "Later in this class we will consider vectors that correspond to the temperature at a particular location each day of the year. These vectors will be of length 365 (we omit the extra days of leap years) and the PCA analysis will reveal the low dimensional subspace."
   ]
  },
  {
   "cell_type": "markdown",
   "metadata": {
    "deletable": true,
    "editable": true,
    "slideshow": {
     "slide_type": "slide"
    }
   },
   "source": [
    "### Function approximation\n",
    "For now, we will consider the vectors that are defined by sinusoidal functions."
   ]
  },
  {
   "cell_type": "code",
   "execution_count": null,
   "metadata": {
    "collapsed": false,
    "deletable": true,
    "editable": true,
    "slideshow": {
     "slide_type": "fragment"
    }
   },
   "outputs": [],
   "source": [
    "# We define a grid that extends from o to 2*pi\n",
    "step=2*pi/365\n",
    "x=arange(0,2*pi,step)\n",
    "len(x)"
   ]
  },
  {
   "cell_type": "markdown",
   "metadata": {
    "deletable": true,
    "editable": true,
    "slideshow": {
     "slide_type": "slide"
    }
   },
   "source": [
    "#### Define a basis\n",
    "\n",
    "The dimension of the space is 629.\n",
    "\n",
    "We define some functions based on $\\sin()$ and $\\cos()$ "
   ]
  },
  {
   "cell_type": "code",
   "execution_count": null,
   "metadata": {
    "collapsed": false,
    "deletable": true,
    "editable": true
   },
   "outputs": [],
   "source": [
    "c=sqrt(step/(pi))\n",
    "v=[]\n",
    "v.append(np.array(cos(0*x))*c/sqrt(2))\n",
    "v.append(np.array(sin(x))*c)\n",
    "v.append(np.array(cos(x))*c)\n",
    "v.append(np.array(sin(2*x))*c)\n",
    "v.append(np.array(cos(2*x))*c)\n",
    "v.append(np.array(sin(3*x))*c)\n",
    "v.append(np.array(cos(3*x))*c)\n",
    "v.append(np.array(sin(4*x))*c)\n",
    "v.append(np.array(cos(4*x))*c)\n",
    "\n",
    "print\"v contains %d vectors\"%(len(v))\n"
   ]
  },
  {
   "cell_type": "code",
   "execution_count": null,
   "metadata": {
    "collapsed": false,
    "deletable": true,
    "editable": true,
    "slideshow": {
     "slide_type": "subslide"
    }
   },
   "outputs": [],
   "source": [
    "# plot some of the functions (plotting all of them results in a figure that is hard to read.\n",
    "figure(figsize=(8,6))\n",
    "for i in range(5):\n",
    "    plot(x,v[i])\n",
    "grid()\n",
    "legend(['const','sin(x)','cos(x)','sin(2x)','cos(2x)'])"
   ]
  },
  {
   "cell_type": "markdown",
   "metadata": {
    "deletable": true,
    "editable": true,
    "slideshow": {
     "slide_type": "slide"
    }
   },
   "source": [
    "#### Check that it is  an orthonormal basis\n",
    "This basis is not **complete** it does not span the space of all functions. It spans a 9 dimensional sub-space.\n",
    "\n",
    "We will now check that this is an **orthonormal** basis. In other words, the length of each vector is 1 and every pair of vectors are orthogonal."
   ]
  },
  {
   "cell_type": "code",
   "execution_count": null,
   "metadata": {
    "collapsed": false,
    "deletable": true,
    "editable": true,
    "slideshow": {
     "slide_type": "subslide"
    }
   },
   "outputs": [],
   "source": [
    "for i in range(len(v)): \n",
    "    print\n",
    "    for j in range(len(v)):\n",
    "        a=dot(v[i],v[j])\n",
    "        a=round(1000*a+0.1)/1000\n",
    "        print '%1.0f'%a,"
   ]
  },
  {
   "cell_type": "markdown",
   "metadata": {
    "deletable": true,
    "editable": true,
    "slideshow": {
     "slide_type": "subslide"
    }
   },
   "source": [
    "#### Rewriting the basis as a matrix\n",
    "\n",
    "Combining the vectors as rows in a matrix allows us use very succinct (and very fast) matrix multiplications instead of for loops with vector products."
   ]
  },
  {
   "cell_type": "code",
   "execution_count": null,
   "metadata": {
    "collapsed": false,
    "deletable": true,
    "editable": true,
    "slideshow": {
     "slide_type": "subslide"
    }
   },
   "outputs": [],
   "source": [
    "U=vstack(v)\n",
    "shape(U)"
   ]
  },
  {
   "cell_type": "markdown",
   "metadata": {
    "deletable": true,
    "editable": true,
    "slideshow": {
     "slide_type": "slide"
    }
   },
   "source": [
    "### Approximating an arbitrary function\n",
    "We now take an unrelated function $f=|x-4|$\n",
    "and see how we can use the basis matrix `U` to approximate it. "
   ]
  },
  {
   "cell_type": "code",
   "execution_count": null,
   "metadata": {
    "collapsed": false,
    "deletable": true,
    "editable": true
   },
   "outputs": [],
   "source": [
    "f1=abs(x-4)\n",
    "plot(x,f1);\n",
    "grid()"
   ]
  },
  {
   "cell_type": "markdown",
   "metadata": {
    "deletable": true,
    "editable": true,
    "slideshow": {
     "slide_type": "subslide"
    }
   },
   "source": [
    "#### Approximations  of increasing accuracy\n",
    "To understand the workings of the basis, we create a sequence of approximations $g(i)$ such that $g(i)$ is an approximation that uses the first $i$ vectors in the basis.\n",
    "\n",
    "The larger $i$ is, the closer $g(i)$ is to $f$. Where the distance between $f$ and $g(i)$ is defined by the euclidean norm:\n",
    "$$   \\| g(i)- f \\|_2\n",
    "$$"
   ]
  },
  {
   "cell_type": "markdown",
   "metadata": {
    "deletable": true,
    "editable": true,
    "slideshow": {
     "slide_type": "subslide"
    }
   },
   "source": [
    "#### Plotting the approximations\n",
    "Below we show how increasing the number of vectors in the basis improves the approximation of $f$."
   ]
  },
  {
   "cell_type": "code",
   "execution_count": null,
   "metadata": {
    "collapsed": false,
    "deletable": true,
    "editable": true
   },
   "outputs": [],
   "source": [
    "eigen_decomp=Eigen_decomp(x,f1,np.zeros(len(x)),v)\n",
    "recon_plot(eigen_decomp,year_axis=False,Title='Best Reconstruction');"
   ]
  },
  {
   "cell_type": "code",
   "execution_count": null,
   "metadata": {
    "collapsed": false,
    "deletable": true,
    "editable": true
   },
   "outputs": [],
   "source": [
    "eigen_decomp=Eigen_decomp(x,f1,np.zeros(len(x)),v)\n",
    "plotter=recon_plot(eigen_decomp,year_axis=False,interactive=True);\n",
    "display(plotter.get_Interactive())"
   ]
  },
  {
   "cell_type": "markdown",
   "metadata": {
    "deletable": true,
    "editable": true,
    "slideshow": {
     "slide_type": "skip"
    }
   },
   "source": [
    "### Excercise\n",
    "Visually, it is clear that $g(i)$ is getting close to $f$ as $i$ increases. To quantify the improvement, calculate \n",
    "$ \\| g(i)- f \\|_2 $ as a function of $i$"
   ]
  },
  {
   "cell_type": "markdown",
   "metadata": {
    "deletable": true,
    "editable": true
   },
   "source": [
    "### Recovering from Noise"
   ]
  },
  {
   "cell_type": "code",
   "execution_count": null,
   "metadata": {
    "collapsed": false,
    "deletable": true,
    "editable": true
   },
   "outputs": [],
   "source": [
    "noise=np.random.normal(size=x.shape)\n",
    "f2=2*v[1]-4*v[5]+noise\n",
    "plot(x,f2)"
   ]
  },
  {
   "cell_type": "code",
   "execution_count": null,
   "metadata": {
    "collapsed": false,
    "deletable": true,
    "editable": true
   },
   "outputs": [],
   "source": [
    "eigen_decomp=Eigen_decomp(x,f2,np.zeros(len(x)),v)\n",
    "plotter=recon_plot(eigen_decomp,year_axis=False,interactive=True);\n",
    "display(plotter.get_Interactive())"
   ]
  },
  {
   "cell_type": "code",
   "execution_count": null,
   "metadata": {
    "collapsed": true,
    "deletable": true,
    "editable": true
   },
   "outputs": [],
   "source": []
  },
  {
   "cell_type": "code",
   "execution_count": null,
   "metadata": {
    "collapsed": true,
    "deletable": true,
    "editable": true
   },
   "outputs": [],
   "source": []
  }
 ],
 "metadata": {
  "anaconda-cloud": {},
  "celltoolbar": "Slideshow",
  "kernelspec": {
   "display_name": "Python [default]",
   "language": "python",
   "name": "python2"
  },
  "language_info": {
   "codemirror_mode": {
    "name": "ipython",
    "version": 2
   },
   "file_extension": ".py",
   "mimetype": "text/x-python",
   "name": "python",
   "nbconvert_exporter": "python",
   "pygments_lexer": "ipython2",
   "version": "2.7.13"
  },
  "toc": {
   "colors": {
    "hover_highlight": "#DAA520",
    "running_highlight": "#FF0000",
    "selected_highlight": "#FFD700"
   },
   "moveMenuLeft": true,
   "nav_menu": {
    "height": "190px",
    "width": "252px"
   },
   "navigate_menu": true,
   "number_sections": true,
   "sideBar": true,
   "threshold": 4,
   "toc_cell": false,
   "toc_section_display": "block",
   "toc_window_display": true
  },
  "widgets": {
   "state": {
    "f747b117288c46b9a299caf353cf2b47": {
     "views": [
      {
       "cell_index": 18
      }
     ]
    }
   },
   "version": "1.2.0"
  }
 },
 "nbformat": 4,
 "nbformat_minor": 0
}
