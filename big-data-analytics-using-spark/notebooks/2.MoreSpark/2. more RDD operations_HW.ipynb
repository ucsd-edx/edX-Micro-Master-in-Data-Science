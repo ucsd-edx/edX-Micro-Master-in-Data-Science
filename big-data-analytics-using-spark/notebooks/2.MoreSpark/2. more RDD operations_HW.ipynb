{
 "cells": [
  {
   "cell_type": "markdown",
   "metadata": {
    "deletable": true,
    "editable": true,
    "run_control": {
     "frozen": false,
     "read_only": false
    }
   },
   "source": [
    "# Setup Data for Homework"
   ]
  },
  {
   "cell_type": "markdown",
   "metadata": {},
   "source": [
    "First we import necessary files and create the spark context:"
   ]
  },
  {
   "cell_type": "code",
   "execution_count": null,
   "metadata": {
    "collapsed": true
   },
   "outputs": [],
   "source": []
  },
  {
   "cell_type": "code",
   "execution_count": 1,
   "metadata": {
    "collapsed": false,
    "deletable": true,
    "editable": true,
    "run_control": {
     "frozen": false,
     "read_only": false
    }
   },
   "outputs": [],
   "source": [
    "import findspark\n",
    "findspark.init()\n",
    "\n",
    "from pyspark import SparkContext\n",
    "sc = SparkContext(master=\"local[4]\")"
   ]
  },
  {
   "cell_type": "markdown",
   "metadata": {},
   "source": [
    "Load in the dataset:"
   ]
  },
  {
   "cell_type": "code",
   "execution_count": 2,
   "metadata": {
    "collapsed": false,
    "deletable": true,
    "editable": true,
    "run_control": {
     "frozen": false,
     "read_only": false
    }
   },
   "outputs": [
    {
     "name": "stdout",
     "output_type": "stream",
     "text": [
      "494021\n"
     ]
    }
   ],
   "source": [
    "import urllib\n",
    "f = urllib.urlretrieve (\"http://kdd.ics.uci.edu/databases/kddcup99/kddcup.data_10_percent.gz\", \"kddcup.data_10_percent.gz\")\n",
    "data_file = \"./kddcup.data_10_percent.gz\"\n",
    "raw_data = sc.textFile(data_file)\n",
    "print raw_data.count()"
   ]
  },
  {
   "cell_type": "markdown",
   "metadata": {
    "deletable": true,
    "editable": true,
    "run_control": {
     "frozen": false,
     "read_only": false
    },
    "slideshow": {
     "slide_type": "skip"
    }
   },
   "source": [
    "# Exercise 1\n",
    "##### create a function: \n",
    "```python\n",
    "def csv_to_kv(raw_data):\n",
    "    # raw_data: an RDD of lines as defined above.\n",
    "    return KV\n",
    "    # Key-Value RDD\n",
    "```\n",
    "Map each row in `raw_data` to a key-value pair where the key is the last element in the raw (network interaction type). and the value is a list of all of the elements in the row. Return the resulting RDD. Example:\n",
    "\n",
    "######  <span style=\"color:blue\">Code:</span>\n",
    "```python\n",
    "csv_to_kv(raw_data).take(1)\n",
    "```\n",
    "######  <span style=\"color:magenta\">Output:</span>\n",
    "`(u'normal.', [u'0', u'tcp', u'http', u'SF', u'181', u'5450', u'0', u'0', u'0', u'0', u'0', u'1', u'0', u'0', u'0', u'0', u'0', u'0', u'0', u'0', u'0', u'0', u'8', u'8', u'0.00', u'0.00', u'0.00', u'0.00', u'1.00', u'0.00', u'0.00', u'9', u'9', u'1.00', u'0.00', u'0.11', u'0.00', u'0.00', u'0.00', u'0.00', u'0.00', u'normal.'])`"
   ]
  },
  {
   "cell_type": "markdown",
   "metadata": {
    "deletable": true,
    "editable": true,
    "run_control": {
     "frozen": false,
     "read_only": false
    }
   },
   "source": [
    "# Teacher Stuff"
   ]
  },
  {
   "cell_type": "code",
   "execution_count": 3,
   "metadata": {
    "collapsed": true,
    "deletable": true,
    "editable": true,
    "run_control": {
     "frozen": false,
     "read_only": false
    }
   },
   "outputs": [],
   "source": [
    "def csv_to_kv(raw_data):\n",
    "    return raw_data.map(lambda x: (x.split(\",\")[-1], x.split(\",\")) )"
   ]
  },
  {
   "cell_type": "markdown",
   "metadata": {
    "deletable": true,
    "editable": true,
    "run_control": {
     "frozen": false,
     "read_only": false
    }
   },
   "source": [
    "# Student Stuff"
   ]
  },
  {
   "cell_type": "code",
   "execution_count": 5,
   "metadata": {
    "collapsed": false,
    "deletable": true,
    "editable": true,
    "nbgrader": {
     "grade": false,
     "grade_id": "r1",
     "locked": true,
     "schema_version": 1,
     "solution": false
    },
    "run_control": {
     "frozen": false,
     "read_only": false
    }
   },
   "outputs": [],
   "source": [
    "import sys\n",
    "import os \n",
    "testPath = '/'.join(os.getcwd().split('/')[:-1]) + \"/Tester\"\n",
    "sys.path.insert(0, testPath )\n",
    "\n",
    "#from miniTester import isSpark"
   ]
  },
  {
   "cell_type": "code",
   "execution_count": 7,
   "metadata": {
    "collapsed": false,
    "deletable": true,
    "editable": true,
    "nbgrader": {
     "grade": true,
     "grade_id": "ex1",
     "locked": true,
     "points": 1,
     "schema_version": 1,
     "solution": false
    },
    "run_control": {
     "frozen": false,
     "read_only": false
    }
   },
   "outputs": [
    {
     "name": "stdout",
     "output_type": "stream",
     "text": [
      "Checking Spark Format: Correct!\n",
      "Checking Problem: Correct!\n"
     ]
    }
   ],
   "source": [
    "sys.stdout.write( \"Checking Spark Format: \" )\n",
    "initDebugStr = ' '.join(raw_data.toDebugString().split(' ')[1:])\n",
    "newDebugStr  = csv_to_kv(raw_data).toDebugString()\n",
    "assert initDebugStr in newDebugStr\n",
    "sys.stdout.write(\"Correct!\\n\")\n",
    "\n",
    "sys.stdout.write(\"Checking Problem: \")\n",
    "assert csv_to_kv(raw_data).take(10) == [(u'normal.', [u'0', u'tcp', u'http', u'SF', u'181', u'5450', u'0', u'0', u'0', u'0', u'0', u'1', u'0', u'0', u'0', u'0', u'0', u'0', u'0', u'0', u'0', u'0', u'8', u'8', u'0.00', u'0.00', u'0.00', u'0.00', u'1.00', u'0.00', u'0.00', u'9', u'9', u'1.00', u'0.00', u'0.11', u'0.00', u'0.00', u'0.00', u'0.00', u'0.00', u'normal.']), (u'normal.', [u'0', u'tcp', u'http', u'SF', u'239', u'486', u'0', u'0', u'0', u'0', u'0', u'1', u'0', u'0', u'0', u'0', u'0', u'0', u'0', u'0', u'0', u'0', u'8', u'8', u'0.00', u'0.00', u'0.00', u'0.00', u'1.00', u'0.00', u'0.00', u'19', u'19', u'1.00', u'0.00', u'0.05', u'0.00', u'0.00', u'0.00', u'0.00', u'0.00', u'normal.']), (u'normal.', [u'0', u'tcp', u'http', u'SF', u'235', u'1337', u'0', u'0', u'0', u'0', u'0', u'1', u'0', u'0', u'0', u'0', u'0', u'0', u'0', u'0', u'0', u'0', u'8', u'8', u'0.00', u'0.00', u'0.00', u'0.00', u'1.00', u'0.00', u'0.00', u'29', u'29', u'1.00', u'0.00', u'0.03', u'0.00', u'0.00', u'0.00', u'0.00', u'0.00', u'normal.']), (u'normal.', [u'0', u'tcp', u'http', u'SF', u'219', u'1337', u'0', u'0', u'0', u'0', u'0', u'1', u'0', u'0', u'0', u'0', u'0', u'0', u'0', u'0', u'0', u'0', u'6', u'6', u'0.00', u'0.00', u'0.00', u'0.00', u'1.00', u'0.00', u'0.00', u'39', u'39', u'1.00', u'0.00', u'0.03', u'0.00', u'0.00', u'0.00', u'0.00', u'0.00', u'normal.']), (u'normal.', [u'0', u'tcp', u'http', u'SF', u'217', u'2032', u'0', u'0', u'0', u'0', u'0', u'1', u'0', u'0', u'0', u'0', u'0', u'0', u'0', u'0', u'0', u'0', u'6', u'6', u'0.00', u'0.00', u'0.00', u'0.00', u'1.00', u'0.00', u'0.00', u'49', u'49', u'1.00', u'0.00', u'0.02', u'0.00', u'0.00', u'0.00', u'0.00', u'0.00', u'normal.']), (u'normal.', [u'0', u'tcp', u'http', u'SF', u'217', u'2032', u'0', u'0', u'0', u'0', u'0', u'1', u'0', u'0', u'0', u'0', u'0', u'0', u'0', u'0', u'0', u'0', u'6', u'6', u'0.00', u'0.00', u'0.00', u'0.00', u'1.00', u'0.00', u'0.00', u'59', u'59', u'1.00', u'0.00', u'0.02', u'0.00', u'0.00', u'0.00', u'0.00', u'0.00', u'normal.']), (u'normal.', [u'0', u'tcp', u'http', u'SF', u'212', u'1940', u'0', u'0', u'0', u'0', u'0', u'1', u'0', u'0', u'0', u'0', u'0', u'0', u'0', u'0', u'0', u'0', u'1', u'2', u'0.00', u'0.00', u'0.00', u'0.00', u'1.00', u'0.00', u'1.00', u'1', u'69', u'1.00', u'0.00', u'1.00', u'0.04', u'0.00', u'0.00', u'0.00', u'0.00', u'normal.']), (u'normal.', [u'0', u'tcp', u'http', u'SF', u'159', u'4087', u'0', u'0', u'0', u'0', u'0', u'1', u'0', u'0', u'0', u'0', u'0', u'0', u'0', u'0', u'0', u'0', u'5', u'5', u'0.00', u'0.00', u'0.00', u'0.00', u'1.00', u'0.00', u'0.00', u'11', u'79', u'1.00', u'0.00', u'0.09', u'0.04', u'0.00', u'0.00', u'0.00', u'0.00', u'normal.']), (u'normal.', [u'0', u'tcp', u'http', u'SF', u'210', u'151', u'0', u'0', u'0', u'0', u'0', u'1', u'0', u'0', u'0', u'0', u'0', u'0', u'0', u'0', u'0', u'0', u'8', u'8', u'0.00', u'0.00', u'0.00', u'0.00', u'1.00', u'0.00', u'0.00', u'8', u'89', u'1.00', u'0.00', u'0.12', u'0.04', u'0.00', u'0.00', u'0.00', u'0.00', u'normal.']), (u'normal.', [u'0', u'tcp', u'http', u'SF', u'212', u'786', u'0', u'0', u'0', u'1', u'0', u'1', u'0', u'0', u'0', u'0', u'0', u'0', u'0', u'0', u'0', u'0', u'8', u'8', u'0.00', u'0.00', u'0.00', u'0.00', u'1.00', u'0.00', u'0.00', u'8', u'99', u'1.00', u'0.00', u'0.12', u'0.05', u'0.00', u'0.00', u'0.00', u'0.00', u'normal.'])]\n",
    "sys.stdout.write(\"Correct!\\n\")\n"
   ]
  },
  {
   "cell_type": "markdown",
   "metadata": {
    "deletable": true,
    "editable": true,
    "run_control": {
     "frozen": false,
     "read_only": false
    },
    "slideshow": {
     "slide_type": "skip"
    }
   },
   "source": [
    "# Exercise 2\n",
    "Continue with the function created in last exercise. Create a new function orderNet which returns the sorted network interaction types(with their total durations) which have the largest total durations. Duration is the first column of x, i.e. x[0].\n",
    "\n",
    "######  <span style=\"color:blue\">Code:</span>\n",
    "```python\n",
    "RDD = csv_to_kv(raw_data)\n",
    "orderNet.take(5)\n",
    "\n",
    "```\n",
    "######  <span style=\"color:magenta\">Output:</span>\n",
    "`\n",
    "[(u'normal.', 21075991.0), (u'portsweep.', 1991911.0), (u'warezclient.', 627563.0), (u'buffer_overflow.', 2751.0), (u'multihop.', 1288.0)]\n",
    "`"
   ]
  },
  {
   "cell_type": "markdown",
   "metadata": {
    "deletable": true,
    "editable": true,
    "run_control": {
     "frozen": false,
     "read_only": false
    }
   },
   "source": [
    "# Teacher Stuff"
   ]
  },
  {
   "cell_type": "code",
   "execution_count": 12,
   "metadata": {
    "collapsed": true,
    "deletable": true,
    "editable": true,
    "run_control": {
     "frozen": false,
     "read_only": false
    }
   },
   "outputs": [],
   "source": [
    "def orderedNet(RDD):\n",
    "    return RDD.mapValues(lambda x: int(x[0]) ) \\\n",
    "            .reduceByKey(lambda x,y: x+y)  \\\n",
    "            .map(lambda x: (x[1],x[0]) ) \\\n",
    "            .sortByKey(False) \\\n",
    "            .map(lambda x: (x[1],x[0])) "
   ]
  },
  {
   "cell_type": "markdown",
   "metadata": {
    "deletable": true,
    "editable": true,
    "run_control": {
     "frozen": false,
     "read_only": false
    }
   },
   "source": [
    "\n",
    "# Student Stuff"
   ]
  },
  {
   "cell_type": "code",
   "execution_count": 13,
   "metadata": {
    "collapsed": false,
    "deletable": true,
    "editable": true,
    "nbgrader": {
     "grade": true,
     "grade_id": "ex2",
     "locked": true,
     "points": 1,
     "schema_version": 1,
     "solution": false
    },
    "run_control": {
     "frozen": false,
     "read_only": false
    }
   },
   "outputs": [
    {
     "name": "stdout",
     "output_type": "stream",
     "text": [
      "Checking Spark Format: Correct!\n",
      "Checking Problem: Correct!"
     ]
    }
   ],
   "source": [
    "from miniTester import isSpark\n",
    "\n",
    "RDD = csv_to_kv(raw_data)\n",
    "\n",
    "sys.stdout.write( \"Checking Spark Format: \" )\n",
    "initDebugStr = RDD.toDebugString() .split('|  ')[1:]\n",
    "newDebugStr  = orderedNet(RDD).toDebugString()\n",
    "assert all([phrase in newDebugStr for phrase in initDebugStr]) == True\n",
    "sys.stdout.write(\"Correct!\\n\")\n",
    "\n",
    "sys.stdout.write( \"Checking Problem: \" )\n",
    "assert orderedNet(RDD).take(50) == [(u'normal.', 21075991), (u'portsweep.', 1991911), (u'warezclient.', 627563), (u'buffer_overflow.', 2751), (u'multihop.', 1288), (u'rootkit.', 1008), (u'spy.', 636), (u'loadmodule.', 326), (u'warezmaster.', 301), (u'back.', 284), (u'ftp_write.', 259), (u'guess_passwd.', 144), (u'perl.', 124), (u'imap.', 72), (u'satan.', 64), (u'ipsweep.', 43), (u'phf.', 18), (u'nmap.', 0), (u'smurf.', 0), (u'pod.', 0), (u'neptune.', 0), (u'teardrop.', 0), (u'land.', 0)]\n",
    "sys.stdout.write(\"Correct!\")"
   ]
  },
  {
   "cell_type": "markdown",
   "metadata": {
    "deletable": true,
    "editable": true,
    "run_control": {
     "frozen": false,
     "read_only": false
    },
    "slideshow": {
     "slide_type": "skip"
    }
   },
   "source": [
    "# Exercise 3\n",
    "\n",
    "Continue with the function created in exercise 2. Use any of the above transformations/actions to create a function, **avgDuration**, that calculates and returns the average duration for each of the network interaction types. Return the final dataset as a dictionary. You are encouraged to use **combineByKey()**.\n",
    "\n",
    "\n",
    "######  <span style=\"color:blue\">Code:</span>\n",
    "```python\n",
    "RDD =  csv_to_kv(raw_data) \n",
    "avgDuration(RDD)\n",
    "\n",
    "```\n",
    "######  <span style=\"color:magenta\">Output:</span>\n",
    "`\n",
    "{u'guess_passwd.': 2.717, u'nmap.': 0.0, u'loadmodule.': 36.222, u'rootkit.': 100.8, u'warezclient.': 615.258, u'smurf.': 0.0, u'pod.': 0.0, u'neptune.': 0.0, u'normal.': 216.657, u'spy.': 318.0, u'ftp_write.': 32.375, u'phf.': 4.5, u'portsweep.': 1915.299, u'teardrop.': 0.0, u'buffer_overflow.': 91.7, u'land.': 0.0, u'imap.': 6.0, u'warezmaster.': 15.05, u'perl.': 41.333, u'multihop.': 184.0, u'back.': 0.129, u'ipsweep.': 0.034, u'satan.': 0.04}\n",
    "`"
   ]
  },
  {
   "cell_type": "markdown",
   "metadata": {
    "deletable": true,
    "editable": true,
    "run_control": {
     "frozen": false,
     "read_only": false
    }
   },
   "source": [
    "# Teacher"
   ]
  },
  {
   "cell_type": "code",
   "execution_count": null,
   "metadata": {
    "collapsed": true,
    "deletable": true,
    "editable": true,
    "run_control": {
     "frozen": false,
     "read_only": false
    }
   },
   "outputs": [],
   "source": [
    "RDD1 =  csv_to_kv(raw_data) \n",
    "RDD2 =  orderedNet( csv_to_kv(raw_data) )"
   ]
  },
  {
   "cell_type": "code",
   "execution_count": null,
   "metadata": {
    "collapsed": true,
    "deletable": true,
    "editable": true,
    "run_control": {
     "frozen": false,
     "read_only": false
    }
   },
   "outputs": [],
   "source": [
    "sum_counts = RDD1.combineByKey(\n",
    "    (lambda x: (x, 1)),\n",
    "    (lambda acc, value: (acc[0]+value, acc[1]+1)),\n",
    "    (lambda acc1, acc2: (acc1[0]+acc2[0], acc1[1]+acc2[1])) )\n",
    "\n",
    "duration_means_by_activity = sum_counts.mapValues(lambda value: value[0]*1.0/value[1]) "
   ]
  },
  {
   "cell_type": "code",
   "execution_count": null,
   "metadata": {
    "collapsed": false,
    "deletable": true,
    "editable": true,
    "run_control": {
     "frozen": false,
     "read_only": false
    }
   },
   "outputs": [],
   "source": [
    "\n",
    "checkit = duration_means_by_activity.collectAsMap()\n",
    "print checkit"
   ]
  },
  {
   "cell_type": "code",
   "execution_count": null,
   "metadata": {
    "collapsed": false,
    "deletable": true,
    "editable": true,
    "run_control": {
     "frozen": false,
     "read_only": false
    }
   },
   "outputs": [],
   "source": [
    "RDD1.countByKey()"
   ]
  },
  {
   "cell_type": "code",
   "execution_count": null,
   "metadata": {
    "collapsed": false,
    "deletable": true,
    "editable": true,
    "run_control": {
     "frozen": false,
     "read_only": false
    }
   },
   "outputs": [],
   "source": [
    "RDD2.collect()"
   ]
  },
  {
   "cell_type": "code",
   "execution_count": null,
   "metadata": {
    "collapsed": false,
    "deletable": true,
    "editable": true,
    "run_control": {
     "frozen": false,
     "read_only": false
    }
   },
   "outputs": [],
   "source": [
    "checkit2 = csv_to_kv(raw_data)\n",
    "for i in checkit2.take(10):\n",
    "    print i\n",
    "    print \" \""
   ]
  },
  {
   "cell_type": "markdown",
   "metadata": {
    "deletable": true,
    "editable": true,
    "run_control": {
     "frozen": false,
     "read_only": false
    }
   },
   "source": [
    "# Student"
   ]
  },
  {
   "cell_type": "code",
   "execution_count": null,
   "metadata": {
    "collapsed": true,
    "deletable": true,
    "editable": true,
    "run_control": {
     "frozen": false,
     "read_only": false
    }
   },
   "outputs": [],
   "source": []
  }
 ],
 "metadata": {
  "kernelspec": {
   "display_name": "Python 2",
   "language": "python",
   "name": "python2"
  },
  "language_info": {
   "codemirror_mode": {
    "name": "ipython",
    "version": 2
   },
   "file_extension": ".py",
   "mimetype": "text/x-python",
   "name": "python",
   "nbconvert_exporter": "python",
   "pygments_lexer": "ipython2",
   "version": "2.7.6"
  },
  "toc": {
   "colors": {
    "hover_highlight": "#DAA520",
    "running_highlight": "#FF0000",
    "selected_highlight": "#FFD700"
   },
   "moveMenuLeft": true,
   "nav_menu": {
    "height": "192px",
    "width": "252px"
   },
   "navigate_menu": true,
   "number_sections": true,
   "sideBar": true,
   "threshold": 4,
   "toc_cell": false,
   "toc_section_display": "block",
   "toc_window_display": true,
   "widenNotebook": false
  }
 },
 "nbformat": 4,
 "nbformat_minor": 2
}
