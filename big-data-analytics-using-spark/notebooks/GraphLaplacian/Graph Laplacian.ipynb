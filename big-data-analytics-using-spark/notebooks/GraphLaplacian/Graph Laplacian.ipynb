{
 "cells": [
  {
   "cell_type": "markdown",
   "metadata": {},
   "source": [
    "### Spectral graph theory\n",
    "* [Class notes of course by David Spielman](http://www.cs.yale.edu/homes/spielman/561/2012/)\n",
    "\n",
    "One interesting way to understand the structure of graphs is to think of the graph as if it was made out of some heat-conducting material such as metal, that the nodes were small balls and the edges wires connecting the balls.\n",
    "\n",
    "Suppose the balls start at different termperatures. The temperature of each ball changes according to the difference between the temperature of the ball and the temperatures of neighboring balls.\n",
    "\n",
    "Ultimately all of the balls reach equal temperature...\n",
    "\n",
    "To be continued.."
   ]
  },
  {
   "cell_type": "code",
   "execution_count": 1,
   "metadata": {
    "collapsed": false,
    "run_control": {
     "frozen": false,
     "read_only": false
    }
   },
   "outputs": [
    {
     "name": "stdout",
     "output_type": "stream",
     "text": [
      "Populating the interactive namespace from numpy and matplotlib\n"
     ]
    }
   ],
   "source": [
    "from numpy.linalg import eigh\n",
    "from numpy import matrix\n",
    "%pylab inline"
   ]
  },
  {
   "cell_type": "code",
   "execution_count": null,
   "metadata": {
    "collapsed": true
   },
   "outputs": [],
   "source": []
  },
  {
   "cell_type": "code",
   "execution_count": 92,
   "metadata": {
    "collapsed": false
   },
   "outputs": [
    {
     "name": "stdout",
     "output_type": "stream",
     "text": [
      "Overwriting line.dot\n"
     ]
    }
   ],
   "source": [
    "%%writefile line.dot\n",
    "graph G {\n",
    "0 [style=filled];\n",
    "1 [style=filled];\n",
    "2 [style=filled];\n",
    "3 [style=filled];\n",
    "4 [style=filled];\n",
    "5 [style=filled];\n",
    "6 [style=filled];\n",
    "7 [style=filled];\n",
    "8 [style=filled];\n",
    "9 [style=filled];\n",
    "10 [style=filled];\n",
    "11 [style=filled];\n",
    "12 [style=filled];\n",
    "13 [style=filled];\n",
    "14 [style=filled];\n",
    "15 [style=filled];\n",
    "16 [style=filled];\n",
    "17 [style=filled];\n",
    "18 [style=filled];\n",
    "19 [style=filled];\n",
    "20 [style=filled];\n",
    "21 [style=filled];\n",
    "22 [style=filled];\n",
    "23 [style=filled];\n",
    "0--1--2--3--4--5--6--7--8--9--10--11--12--13--14--15--16--17--18--19--20--21--22--23;\n",
    "}"
   ]
  },
  {
   "cell_type": "code",
   "execution_count": 35,
   "metadata": {
    "collapsed": false
   },
   "outputs": [
    {
     "name": "stdout",
     "output_type": "stream",
     "text": [
      "Writing star.dot\n"
     ]
    }
   ],
   "source": [
    "%%writefile star.dot\n",
    "graph G {\n",
    "0 [style=filled];\n",
    "1 [style=filled];\n",
    "2 [style=filled];\n",
    "3 [style=filled];\n",
    "4 [style=filled];\n",
    "5 [style=filled];\n",
    "6 [style=filled];\n",
    "7 [style=filled];\n",
    "0--1;\n",
    "0--2;\n",
    "0--3;\n",
    "0--4;\n",
    "0--5;\n",
    "0--6;\n",
    "0--7;\n",
    "}"
   ]
  },
  {
   "cell_type": "code",
   "execution_count": 51,
   "metadata": {
    "collapsed": false
   },
   "outputs": [
    {
     "name": "stdout",
     "output_type": "stream",
     "text": [
      "Overwriting circle.dot\n"
     ]
    }
   ],
   "source": [
    "%%writefile circle.dot\n",
    "graph G {\n",
    "0 [style=filled];\n",
    "1 [style=filled];\n",
    "2 [style=filled];\n",
    "3 [style=filled];\n",
    "4 [style=filled];\n",
    "5 [style=filled];\n",
    "6 [style=filled];\n",
    "7 [style=filled];\n",
    "0--1--2--3--4--5--6--7--0;\n",
    "}"
   ]
  },
  {
   "cell_type": "code",
   "execution_count": 52,
   "metadata": {
    "collapsed": false
   },
   "outputs": [
    {
     "name": "stdout",
     "output_type": "stream",
     "text": [
      "Overwriting twoblobs.dot\n"
     ]
    }
   ],
   "source": [
    "%%writefile twoblobs.dot\n",
    "graph G {\n",
    "0 [style=filled];\n",
    "1 [style=filled];\n",
    "2 [style=filled];\n",
    "3 [style=filled];\n",
    "4 [style=filled];\n",
    "5 [style=filled];\n",
    "6 [style=filled];\n",
    "7 [style=filled];\n",
    "0--1; 0--2; 0--3;\n",
    "1--2;1--3;\n",
    "2--3;\n",
    "3--4;\n",
    "4--5;4--6;4--7;\n",
    "5--6;5--7;\n",
    "6--7;\n",
    "}"
   ]
  },
  {
   "cell_type": "code",
   "execution_count": 53,
   "metadata": {
    "collapsed": false
   },
   "outputs": [
    {
     "name": "stdout",
     "output_type": "stream",
     "text": [
      "Overwriting twoD.dot\n"
     ]
    }
   ],
   "source": [
    "%%writefile twoD.dot\n",
    "graph G {\n",
    "0 [style=filled];\n",
    "1 [style=filled];\n",
    "2 [style=filled];\n",
    "3 [style=filled];\n",
    "4 [style=filled];\n",
    "5 [style=filled];\n",
    "6 [style=filled];\n",
    "7 [style=filled];\n",
    "8 [style=filled];\n",
    "9 [style=filled];\n",
    "10 [style=filled];\n",
    "11 [style=filled];\n",
    "12 [style=filled];\n",
    "13 [style=filled];\n",
    "14 [style=filled];\n",
    "15 [style=filled];\n",
    "\n",
    "\n",
    "0--1--2--3;\n",
    "4--5--6--7;\n",
    "8--9--10--11;\n",
    "12--13--14--15;\n",
    "0--4--8--12;\n",
    "1--5--9--13;\n",
    "2--6--10--14;\n",
    "3--7--11--15;\n",
    "}"
   ]
  },
  {
   "cell_type": "code",
   "execution_count": 93,
   "metadata": {
    "collapsed": false
   },
   "outputs": [],
   "source": [
    "import pydot\n",
    "filename='line'\n",
    "dot=open(filename+'.dot','r').readlines()\n",
    "dot=''.join(dot)\n",
    "\n",
    "A=pydot.dot_parser.parse_dot_data(dot)\n",
    "A.write_gif(filename+'.gif')\n",
    "gif_name=filename+'.gif'\n",
    "!open $gif_name"
   ]
  },
  {
   "cell_type": "code",
   "execution_count": 94,
   "metadata": {
    "collapsed": false
   },
   "outputs": [
    {
     "name": "stdout",
     "output_type": "stream",
     "text": [
      "[[ 1. -1.  0.  0.  0.  0.  0.  0.  0.  0.  0.  0.  0.  0.  0.  0.  0.  0.\n",
      "   0.  0.  0.  0.  0.  0.]\n",
      " [-1.  2. -1.  0.  0.  0.  0.  0.  0.  0.  0.  0.  0.  0.  0.  0.  0.  0.\n",
      "   0.  0.  0.  0.  0.  0.]\n",
      " [ 0. -1.  2. -1.  0.  0.  0.  0.  0.  0.  0.  0.  0.  0.  0.  0.  0.  0.\n",
      "   0.  0.  0.  0.  0.  0.]\n",
      " [ 0.  0. -1.  2. -1.  0.  0.  0.  0.  0.  0.  0.  0.  0.  0.  0.  0.  0.\n",
      "   0.  0.  0.  0.  0.  0.]\n",
      " [ 0.  0.  0. -1.  2. -1.  0.  0.  0.  0.  0.  0.  0.  0.  0.  0.  0.  0.\n",
      "   0.  0.  0.  0.  0.  0.]\n",
      " [ 0.  0.  0.  0. -1.  2. -1.  0.  0.  0.  0.  0.  0.  0.  0.  0.  0.  0.\n",
      "   0.  0.  0.  0.  0.  0.]\n",
      " [ 0.  0.  0.  0.  0. -1.  2. -1.  0.  0.  0.  0.  0.  0.  0.  0.  0.  0.\n",
      "   0.  0.  0.  0.  0.  0.]\n",
      " [ 0.  0.  0.  0.  0.  0. -1.  2. -1.  0.  0.  0.  0.  0.  0.  0.  0.  0.\n",
      "   0.  0.  0.  0.  0.  0.]\n",
      " [ 0.  0.  0.  0.  0.  0.  0. -1.  2. -1.  0.  0.  0.  0.  0.  0.  0.  0.\n",
      "   0.  0.  0.  0.  0.  0.]\n",
      " [ 0.  0.  0.  0.  0.  0.  0.  0. -1.  2. -1.  0.  0.  0.  0.  0.  0.  0.\n",
      "   0.  0.  0.  0.  0.  0.]\n",
      " [ 0.  0.  0.  0.  0.  0.  0.  0.  0. -1.  2. -1.  0.  0.  0.  0.  0.  0.\n",
      "   0.  0.  0.  0.  0.  0.]\n",
      " [ 0.  0.  0.  0.  0.  0.  0.  0.  0.  0. -1.  2. -1.  0.  0.  0.  0.  0.\n",
      "   0.  0.  0.  0.  0.  0.]\n",
      " [ 0.  0.  0.  0.  0.  0.  0.  0.  0.  0.  0. -1.  2. -1.  0.  0.  0.  0.\n",
      "   0.  0.  0.  0.  0.  0.]\n",
      " [ 0.  0.  0.  0.  0.  0.  0.  0.  0.  0.  0.  0. -1.  2. -1.  0.  0.  0.\n",
      "   0.  0.  0.  0.  0.  0.]\n",
      " [ 0.  0.  0.  0.  0.  0.  0.  0.  0.  0.  0.  0.  0. -1.  2. -1.  0.  0.\n",
      "   0.  0.  0.  0.  0.  0.]\n",
      " [ 0.  0.  0.  0.  0.  0.  0.  0.  0.  0.  0.  0.  0.  0. -1.  2. -1.  0.\n",
      "   0.  0.  0.  0.  0.  0.]\n",
      " [ 0.  0.  0.  0.  0.  0.  0.  0.  0.  0.  0.  0.  0.  0.  0. -1.  2. -1.\n",
      "   0.  0.  0.  0.  0.  0.]\n",
      " [ 0.  0.  0.  0.  0.  0.  0.  0.  0.  0.  0.  0.  0.  0.  0.  0. -1.  2.\n",
      "  -1.  0.  0.  0.  0.  0.]\n",
      " [ 0.  0.  0.  0.  0.  0.  0.  0.  0.  0.  0.  0.  0.  0.  0.  0.  0. -1.\n",
      "   2. -1.  0.  0.  0.  0.]\n",
      " [ 0.  0.  0.  0.  0.  0.  0.  0.  0.  0.  0.  0.  0.  0.  0.  0.  0.  0.\n",
      "  -1.  2. -1.  0.  0.  0.]\n",
      " [ 0.  0.  0.  0.  0.  0.  0.  0.  0.  0.  0.  0.  0.  0.  0.  0.  0.  0.\n",
      "   0. -1.  2. -1.  0.  0.]\n",
      " [ 0.  0.  0.  0.  0.  0.  0.  0.  0.  0.  0.  0.  0.  0.  0.  0.  0.  0.\n",
      "   0.  0. -1.  2. -1.  0.]\n",
      " [ 0.  0.  0.  0.  0.  0.  0.  0.  0.  0.  0.  0.  0.  0.  0.  0.  0.  0.\n",
      "   0.  0.  0. -1.  2. -1.]\n",
      " [ 0.  0.  0.  0.  0.  0.  0.  0.  0.  0.  0.  0.  0.  0.  0.  0.  0.  0.\n",
      "   0.  0.  0.  0. -1.  1.]]\n",
      "eigenvalues= [ -1.90991132e-16   1.71102773e-02   6.81483474e-02   1.52240935e-01\n",
      "   2.67949192e-01   4.13293319e-01   5.85786438e-01   7.82477142e-01\n",
      "   1.00000000e+00   1.23463314e+00   1.48236191e+00   1.73894762e+00\n",
      "   2.00000000e+00   2.26105238e+00   2.51763809e+00   2.76536686e+00\n",
      "   3.00000000e+00   3.21752286e+00   3.41421356e+00   3.58670668e+00\n",
      "   3.73205081e+00   3.84775907e+00   3.93185165e+00   3.98288972e+00]\n"
     ]
    }
   ],
   "source": [
    "node_n=len(A.get_nodes())\n",
    "M=matrix(np.zeros([node_n,node_n]))\n",
    "\n",
    "for edge in A.get_edge_list():\n",
    "    _i=int(edge.get_source())\n",
    "    _j=int(edge.get_destination())\n",
    "    M[_i,_j]=-1\n",
    "    M[_j,_i]=-1\n",
    "C=copy(-M)\n",
    "for i in range(node_n):\n",
    "    M[i,i]=-sum(M[i,:])\n",
    "print M\n",
    "\n",
    "w,v=eigh(M)\n",
    "print 'eigenvalues=',w\n",
    "\n",
    "_range=[0.,100.]\n",
    "_offset=_range[0]\n",
    "_scale=_range[1]-_range[0]\n",
    "_min=-1.;_max=1.;\n",
    "def vec2color(v):\n",
    "    return['grey'+str(int(_offset+_scale*(x-_min)/(_max-_min))) for x in v]\n",
    "\n",
    "!rm $filename*.gif\n",
    "for j in range(min(10,node_n)):\n",
    "    colors=vec2color(v[:,j])\n",
    "    #print colors\n",
    "    i=0\n",
    "    for node in A.get_node_list():\n",
    "        node.set_color(colors[i])\n",
    "        i+=1\n",
    "    A.write_gif(\"%s.%d.gif\"%(filename,j))\n",
    "!open $filename*.gif"
   ]
  },
  {
   "cell_type": "code",
   "execution_count": 95,
   "metadata": {
    "collapsed": true
   },
   "outputs": [
    {
     "name": "stdout",
     "output_type": "stream",
     "text": [
      "0 eigval:-0.00 eigvec:   0.2,   0.2,   0.2,   0.2,   0.2,   0.2,   0.2,   0.2,   0.2,   0.2,   0.2,   0.2,   0.2,   0.2,   0.2,   0.2,   0.2,   0.2,   0.2,   0.2,   0.2,   0.2,   0.2,   0.2\n",
      "1 eigval: 0.02 eigvec:  -0.3,  -0.3,  -0.3,  -0.3,  -0.2,  -0.2,  -0.2,  -0.2,  -0.1,  -0.1,  -0.1,  -0.0,   0.0,   0.1,   0.1,   0.1,   0.2,   0.2,   0.2,   0.2,   0.3,   0.3,   0.3,   0.3\n",
      "2 eigval: 0.07 eigvec:   0.3,   0.3,   0.2,   0.2,   0.1,   0.0,  -0.0,  -0.1,  -0.2,  -0.2,  -0.3,  -0.3,  -0.3,  -0.3,  -0.2,  -0.2,  -0.1,  -0.0,   0.0,   0.1,   0.2,   0.2,   0.3,   0.3\n",
      "3 eigval: 0.15 eigvec:   0.3,   0.2,   0.2,   0.1,  -0.1,  -0.2,  -0.2,  -0.3,  -0.3,  -0.2,  -0.2,  -0.1,   0.1,   0.2,   0.2,   0.3,   0.3,   0.2,   0.2,   0.1,  -0.1,  -0.2,  -0.2,  -0.3\n",
      "4 eigval: 0.27 eigvec:   0.3,   0.2,   0.1,  -0.1,  -0.2,  -0.3,  -0.3,  -0.2,  -0.1,   0.1,   0.2,   0.3,   0.3,   0.2,   0.1,  -0.1,  -0.2,  -0.3,  -0.3,  -0.2,  -0.1,   0.1,   0.2,   0.3\n",
      "5 eigval: 0.41 eigvec:   0.3,   0.2,  -0.0,  -0.2,  -0.3,  -0.3,  -0.1,   0.1,   0.2,   0.3,   0.2,   0.1,  -0.1,  -0.2,  -0.3,  -0.2,  -0.1,   0.1,   0.3,   0.3,   0.2,   0.0,  -0.2,  -0.3\n",
      "6 eigval: 0.59 eigvec:  -0.3,  -0.1,   0.1,   0.3,   0.3,   0.1,  -0.1,  -0.3,  -0.3,  -0.1,   0.1,   0.3,   0.3,   0.1,  -0.1,  -0.3,  -0.3,  -0.1,   0.1,   0.3,   0.3,   0.1,  -0.1,  -0.3\n",
      "7 eigval: 0.78 eigvec:  -0.3,  -0.1,   0.2,   0.3,   0.2,  -0.1,  -0.3,  -0.2,  -0.0,   0.2,   0.3,   0.1,  -0.1,  -0.3,  -0.2,   0.0,   0.2,   0.3,   0.1,  -0.2,  -0.3,  -0.2,   0.1,   0.3\n",
      "8 eigval: 1.00 eigvec:  -0.3,   0.0,   0.2,   0.2,  -0.0,  -0.3,  -0.2,   0.0,   0.3,   0.2,  -0.0,  -0.2,  -0.2,   0.0,   0.2,   0.2,  -0.0,  -0.3,  -0.3,   0.0,   0.3,   0.3,   0.0,  -0.2\n",
      "9 eigval: 1.23 eigvec:  -0.2,   0.1,   0.3,   0.2,  -0.2,  -0.3,  -0.1,   0.2,   0.2,  -0.1,  -0.3,  -0.2,   0.2,   0.3,   0.1,  -0.2,  -0.2,   0.1,   0.3,   0.2,  -0.2,  -0.3,  -0.1,   0.2\n",
      "10 eigval: 1.48 eigvec:  -0.2,   0.1,   0.3,   0.0,  -0.3,  -0.2,   0.2,   0.3,  -0.0,  -0.3,  -0.1,   0.2,   0.2,  -0.1,  -0.3,  -0.0,   0.3,   0.2,  -0.2,  -0.3,   0.0,   0.3,   0.1,  -0.2\n",
      "11 eigval: 1.74 eigvec:  -0.2,   0.2,   0.3,  -0.1,  -0.3,   0.0,   0.3,   0.1,  -0.3,  -0.1,   0.2,   0.2,  -0.2,  -0.2,   0.1,   0.3,  -0.1,  -0.3,  -0.0,   0.3,   0.1,  -0.3,  -0.2,   0.2\n",
      "12 eigval: 2.00 eigvec:  -0.2,   0.2,   0.2,  -0.2,  -0.2,   0.2,   0.2,  -0.2,  -0.2,   0.2,   0.2,  -0.2,  -0.2,   0.2,   0.2,  -0.2,  -0.2,   0.2,   0.2,  -0.2,  -0.2,   0.2,   0.2,  -0.2\n",
      "13 eigval: 2.26 eigvec:  -0.2,   0.2,   0.1,  -0.3,  -0.1,   0.3,  -0.0,  -0.3,   0.1,   0.3,  -0.2,  -0.2,   0.2,   0.2,  -0.3,  -0.1,   0.3,   0.0,  -0.3,   0.1,   0.3,  -0.1,  -0.2,   0.2\n",
      "14 eigval: 2.52 eigvec:  -0.2,   0.3,   0.0,  -0.3,   0.1,   0.2,  -0.2,  -0.1,   0.3,  -0.0,  -0.3,   0.2,   0.2,  -0.3,  -0.0,   0.3,  -0.1,  -0.2,   0.2,   0.1,  -0.3,   0.0,   0.3,  -0.2\n",
      "15 eigval: 2.77 eigvec:  -0.2,   0.3,  -0.1,  -0.2,   0.2,   0.1,  -0.3,   0.2,   0.2,  -0.3,   0.1,   0.2,  -0.2,  -0.1,   0.3,  -0.2,  -0.2,   0.3,  -0.1,  -0.2,   0.2,   0.1,  -0.3,   0.2\n",
      "16 eigval: 3.00 eigvec:  -0.1,   0.3,  -0.1,  -0.1,   0.3,  -0.1,  -0.1,   0.3,  -0.1,  -0.1,   0.3,  -0.1,  -0.1,   0.3,  -0.1,  -0.1,   0.3,  -0.1,  -0.1,   0.3,  -0.1,  -0.1,   0.3,  -0.1\n",
      "17 eigval: 3.22 eigvec:  -0.1,   0.3,  -0.2,  -0.0,   0.2,  -0.3,   0.1,   0.2,  -0.3,   0.2,   0.1,  -0.3,   0.3,  -0.1,  -0.2,   0.3,  -0.2,  -0.1,   0.3,  -0.2,   0.0,   0.2,  -0.3,   0.1\n",
      "18 eigval: 3.41 eigvec:  -0.1,   0.3,  -0.3,   0.1,   0.1,  -0.3,   0.3,  -0.1,  -0.1,   0.3,  -0.3,   0.1,   0.1,  -0.3,   0.3,  -0.1,  -0.1,   0.3,  -0.3,   0.1,   0.1,  -0.3,   0.3,  -0.1\n",
      "19 eigval: 3.59 eigvec:  -0.1,   0.2,  -0.3,   0.2,  -0.1,  -0.1,   0.3,  -0.3,   0.2,  -0.0,  -0.2,   0.3,  -0.3,   0.2,   0.0,  -0.2,   0.3,  -0.3,   0.1,   0.1,  -0.2,   0.3,  -0.2,   0.1\n",
      "20 eigval: 3.73 eigvec:  -0.1,   0.2,  -0.3,   0.3,  -0.2,   0.1,   0.1,  -0.2,   0.3,  -0.3,   0.2,  -0.1,  -0.1,   0.2,  -0.3,   0.3,  -0.2,   0.1,   0.1,  -0.2,   0.3,  -0.3,   0.2,  -0.1\n",
      "21 eigval: 3.85 eigvec:  -0.1,   0.2,  -0.2,   0.3,  -0.3,   0.2,  -0.2,   0.1,   0.1,  -0.2,   0.2,  -0.3,   0.3,  -0.2,   0.2,  -0.1,  -0.1,   0.2,  -0.2,   0.3,  -0.3,   0.2,  -0.2,   0.1\n",
      "22 eigval: 3.93 eigvec:   0.0,  -0.1,   0.2,  -0.2,   0.3,  -0.3,   0.3,  -0.3,   0.2,  -0.2,   0.1,  -0.0,  -0.0,   0.1,  -0.2,   0.2,  -0.3,   0.3,  -0.3,   0.3,  -0.2,   0.2,  -0.1,   0.0\n",
      "23 eigval: 3.98 eigvec:  -0.0,   0.1,  -0.1,   0.1,  -0.2,   0.2,  -0.2,   0.2,  -0.3,   0.3,  -0.3,   0.3,  -0.3,   0.3,  -0.3,   0.3,  -0.2,   0.2,  -0.2,   0.2,  -0.1,   0.1,  -0.1,   0.0\n"
     ]
    }
   ],
   "source": [
    "def print_eig(w,v):\n",
    "    for i in range(node_n):\n",
    "        print str(i),'eigval:%5.2f'%w[i],\n",
    "        print 'eigvec:',', '.join(['%5.1f'%x for x in v[:,i]])\n",
    "print_eig(w,v)"
   ]
  },
  {
   "cell_type": "code",
   "execution_count": 99,
   "metadata": {
    "collapsed": false
   },
   "outputs": [
    {
     "data": {
      "image/png": "[encoded data removed]",
      "text/plain": [
       "<matplotlib.figure.Figure at 0x112e5fed0>"
      ]
     },
     "metadata": {},
     "output_type": "display_data"
    }
   ],
   "source": [
    "plot(v[:,:2]);"
   ]
  },
  {
   "cell_type": "markdown",
   "metadata": {},
   "source": [
    "### an initial attempt to relate the Laplacian to random walk"
   ]
  },
  {
   "cell_type": "code",
   "execution_count": 86,
   "metadata": {
    "collapsed": false
   },
   "outputs": [
    {
     "data": {
      "text/plain": [
       "array([[ 0.9       ,  0.01428571,  0.01428571,  0.01428571,  0.01428571,\n",
       "         0.01428571,  0.01428571,  0.01428571],\n",
       "       [ 0.1       ,  0.9       ,  0.        ,  0.        ,  0.        ,\n",
       "         0.        ,  0.        ,  0.        ],\n",
       "       [ 0.1       ,  0.        ,  0.9       ,  0.        ,  0.        ,\n",
       "         0.        ,  0.        ,  0.        ],\n",
       "       [ 0.1       ,  0.        ,  0.        ,  0.9       ,  0.        ,\n",
       "         0.        ,  0.        ,  0.        ],\n",
       "       [ 0.1       ,  0.        ,  0.        ,  0.        ,  0.9       ,\n",
       "         0.        ,  0.        ,  0.        ],\n",
       "       [ 0.1       ,  0.        ,  0.        ,  0.        ,  0.        ,\n",
       "         0.9       ,  0.        ,  0.        ],\n",
       "       [ 0.1       ,  0.        ,  0.        ,  0.        ,  0.        ,\n",
       "         0.        ,  0.9       ,  0.        ],\n",
       "       [ 0.1       ,  0.        ,  0.        ,  0.        ,  0.        ,\n",
       "         0.        ,  0.        ,  0.9       ]])"
      ]
     },
     "execution_count": 86,
     "metadata": {},
     "output_type": "execute_result"
    }
   ],
   "source": [
    "p=0.1\n",
    "for i in range(node_n):\n",
    "    C[i,:] = C[i,:]/sum(C[i,:])\n",
    "T=(1-p)*eye(node_n)+p*C\n",
    "\n",
    "T"
   ]
  },
  {
   "cell_type": "code",
   "execution_count": 91,
   "metadata": {
    "collapsed": false
   },
   "outputs": [
    {
     "name": "stdout",
     "output_type": "stream",
     "text": [
      "0 eigval: 1.00 eigvec:   0.4,   0.4,   0.4,   0.4,   0.4,   0.4,   0.4,   0.4\n",
      "1 eigval: 0.80 eigvec:   0.4,  -0.4,  -0.4,  -0.4,  -0.4,  -0.4,  -0.4,  -0.4\n",
      "2 eigval: 0.90 eigvec:  -0.0,   0.5,   0.7,  -0.2,  -0.2,  -0.2,  -0.2,  -0.2\n",
      "3 eigval: 0.90 eigvec:  -0.0,   0.8,  -0.6,  -0.0,  -0.0,  -0.0,  -0.0,  -0.0\n",
      "4 eigval: 0.90 eigvec:   0.0,  -0.3,  -0.1,   0.3,   0.8,  -0.2,  -0.2,  -0.2\n",
      "5 eigval: 0.90 eigvec:   0.0,  -0.5,  -0.2,   0.8,  -0.2,   0.0,   0.0,   0.0\n",
      "6 eigval: 0.90 eigvec:   0.0,  -0.3,  -0.1,   0.2,  -0.3,  -0.4,   0.8,  -0.0\n",
      "7 eigval: 0.90 eigvec:   0.0,  -0.0,  -0.0,   0.2,  -0.4,  -0.4,  -0.1,   0.8\n"
     ]
    }
   ],
   "source": [
    "ww,vv=eig(T)\n",
    "\n",
    "print_eig(ww,vv)"
   ]
  },
  {
   "cell_type": "code",
   "execution_count": 82,
   "metadata": {
    "collapsed": false
   },
   "outputs": [
    {
     "data": {
      "text/plain": [
       "array([[ -7.07106781e-01,   0.00000000e+00,   0.00000000e+00,\n",
       "          1.09090621e-15,   2.75708994e-15,   0.00000000e+00,\n",
       "          4.19775323e-15,  -7.07106781e-01],\n",
       "       [  2.67261242e-01,  -7.64923943e-17,  -1.91230986e-17,\n",
       "         -1.96520192e-01,  -4.96673170e-01,   0.00000000e+00,\n",
       "         -7.56199996e-01,  -2.67261242e-01],\n",
       "       [  2.67261242e-01,  -3.24668129e-02,   2.57635484e-02,\n",
       "         -3.50450435e-01,  -5.57883107e-01,  -5.94420769e-02,\n",
       "          6.46407437e-01,  -2.67261242e-01],\n",
       "       [  2.67261242e-01,  -8.31144913e-02,  -3.59738563e-02,\n",
       "          7.18818096e-01,  -7.33534378e-02,  -5.69501260e-01,\n",
       "          5.02876978e-02,  -2.67261242e-01],\n",
       "       [  2.67261242e-01,   3.07752151e-01,  -4.69065388e-01,\n",
       "         -4.17997204e-01,   4.89425693e-01,  -3.57180847e-01,\n",
       "         -2.39124260e-02,  -2.67261242e-01],\n",
       "       [  2.67261242e-01,  -8.29127966e-01,  -4.91143962e-02,\n",
       "         -6.34071978e-02,   3.13886311e-01,   2.54424389e-01,\n",
       "         -7.68277303e-04,  -2.67261242e-01],\n",
       "       [  2.67261242e-01,   2.59249638e-01,   8.28114151e-01,\n",
       "         -6.34071978e-02,   3.13886311e-01,   4.01715802e-02,\n",
       "         -7.68277303e-04,  -2.67261242e-01],\n",
       "       [  2.67261242e-01,   3.77707482e-01,  -2.99724060e-01,\n",
       "          3.72964131e-01,   1.07114006e-02,   6.91528214e-01,\n",
       "          8.49538419e-02,  -2.67261242e-01]])"
      ]
     },
     "execution_count": 82,
     "metadata": {},
     "output_type": "execute_result"
    }
   ],
   "source": [
    "vv"
   ]
  },
  {
   "cell_type": "code",
   "execution_count": null,
   "metadata": {
    "collapsed": true
   },
   "outputs": [],
   "source": []
  }
 ],
 "metadata": {
  "anaconda-cloud": {},
  "kernelspec": {
   "display_name": "Python [conda root]",
   "language": "python",
   "name": "conda-root-py"
  },
  "language_info": {
   "codemirror_mode": {
    "name": "ipython",
    "version": 2
   },
   "file_extension": ".py",
   "mimetype": "text/x-python",
   "name": "python",
   "nbconvert_exporter": "python",
   "pygments_lexer": "ipython2",
   "version": "2.7.13"
  },
  "toc": {
   "colors": {
    "hover_highlight": "#DAA520",
    "running_highlight": "#FF0000",
    "selected_highlight": "#FFD700"
   },
   "moveMenuLeft": true,
   "nav_menu": {
    "height": "48px",
    "width": "252px"
   },
   "navigate_menu": true,
   "number_sections": true,
   "sideBar": true,
   "threshold": 4,
   "toc_cell": false,
   "toc_section_display": "block",
   "toc_window_display": false
  }
 },
 "nbformat": 4,
 "nbformat_minor": 2
}
