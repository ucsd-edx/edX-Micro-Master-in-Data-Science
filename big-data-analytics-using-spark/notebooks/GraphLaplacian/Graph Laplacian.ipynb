{
 "cells": [
  {
   "cell_type": "markdown",
   "metadata": {
    "deletable": true,
    "editable": true,
    "run_control": {
     "frozen": false,
     "read_only": false
    }
   },
   "source": [
    "## Spectral graph analysis\n",
    "* [Excellent Class notes of course by Dan Spielman](http://www.cs.yale.edu/homes/spielman/561/2012/)\n",
    "\n"
   ]
  },
  {
   "cell_type": "code",
   "execution_count": 1,
   "metadata": {
    "collapsed": false,
    "deletable": true,
    "editable": true,
    "run_control": {
     "frozen": false,
     "read_only": false
    }
   },
   "outputs": [
    {
     "name": "stdout",
     "output_type": "stream",
     "text": [
      "Populating the interactive namespace from numpy and matplotlib\n"
     ]
    }
   ],
   "source": [
    "%pylab inline"
   ]
  },
  {
   "cell_type": "markdown",
   "metadata": {
    "collapsed": true,
    "deletable": true,
    "editable": true,
    "run_control": {
     "frozen": false,
     "read_only": false
    }
   },
   "source": [
    "### Definition of some graphs"
   ]
  },
  {
   "cell_type": "code",
   "execution_count": 2,
   "metadata": {
    "collapsed": false,
    "deletable": true,
    "editable": true,
    "run_control": {
     "frozen": false,
     "read_only": false
    }
   },
   "outputs": [
    {
     "name": "stdout",
     "output_type": "stream",
     "text": [
      "Overwriting line.dot\n"
     ]
    }
   ],
   "source": [
    "%%writefile line.dot\n",
    "graph G {\n",
    "0 [style=filled];\n",
    "1 [style=filled];\n",
    "2 [style=filled];\n",
    "3 [style=filled];\n",
    "4 [style=filled];\n",
    "5 [style=filled];\n",
    "6 [style=filled];\n",
    "7 [style=filled];\n",
    "8 [style=filled];\n",
    "9 [style=filled];\n",
    "10 [style=filled];\n",
    "11 [style=filled];\n",
    "12 [style=filled];\n",
    "13 [style=filled];\n",
    "14 [style=filled];\n",
    "15 [style=filled];\n",
    "16 [style=filled];\n",
    "17 [style=filled];\n",
    "18 [style=filled];\n",
    "19 [style=filled];\n",
    "20 [style=filled];\n",
    "21 [style=filled];\n",
    "22 [style=filled];\n",
    "23 [style=filled];\n",
    "0--1--2--3--4--5--6--7--8--9--10--11--12--13--14--15--16--17--18--19--20--21--22--23;\n",
    "}"
   ]
  },
  {
   "cell_type": "code",
   "execution_count": 3,
   "metadata": {
    "collapsed": false,
    "deletable": true,
    "editable": true,
    "run_control": {
     "frozen": false,
     "read_only": false
    }
   },
   "outputs": [
    {
     "name": "stdout",
     "output_type": "stream",
     "text": [
      "Overwriting star.dot\n"
     ]
    }
   ],
   "source": [
    "%%writefile star.dot\n",
    "graph G {\n",
    "0 [style=filled];\n",
    "1 [style=filled];\n",
    "2 [style=filled];\n",
    "3 [style=filled];\n",
    "4 [style=filled];\n",
    "5 [style=filled];\n",
    "6 [style=filled];\n",
    "7 [style=filled];\n",
    "0--1;\n",
    "0--2;\n",
    "0--3;\n",
    "0--4;\n",
    "0--5;\n",
    "0--6;\n",
    "0--7;\n",
    "}"
   ]
  },
  {
   "cell_type": "code",
   "execution_count": 4,
   "metadata": {
    "collapsed": false,
    "deletable": true,
    "editable": true,
    "run_control": {
     "frozen": false,
     "read_only": false
    }
   },
   "outputs": [
    {
     "name": "stdout",
     "output_type": "stream",
     "text": [
      "Overwriting circle.dot\n"
     ]
    }
   ],
   "source": [
    "%%writefile circle.dot\n",
    "graph G {\n",
    "0 [style=filled];\n",
    "1 [style=filled];\n",
    "2 [style=filled];\n",
    "3 [style=filled];\n",
    "4 [style=filled];\n",
    "5 [style=filled];\n",
    "6 [style=filled];\n",
    "7 [style=filled];\n",
    "0--1--2--3--4--5--6--7--0;\n",
    "}"
   ]
  },
  {
   "cell_type": "code",
   "execution_count": 5,
   "metadata": {
    "collapsed": false,
    "deletable": true,
    "editable": true,
    "run_control": {
     "frozen": false,
     "read_only": false
    }
   },
   "outputs": [
    {
     "name": "stdout",
     "output_type": "stream",
     "text": [
      "Overwriting twoblobs.dot\n"
     ]
    }
   ],
   "source": [
    "%%writefile twoblobs.dot\n",
    "graph G {\n",
    "0 [style=filled];\n",
    "1 [style=filled];\n",
    "2 [style=filled];\n",
    "3 [style=filled];\n",
    "4 [style=filled];\n",
    "5 [style=filled];\n",
    "6 [style=filled];\n",
    "7 [style=filled];\n",
    "0--1; 0--2; 0--3;\n",
    "1--2;1--3;\n",
    "2--3;\n",
    "3--4;\n",
    "4--5;4--6;4--7;\n",
    "5--6;5--7;\n",
    "6--7;\n",
    "}"
   ]
  },
  {
   "cell_type": "code",
   "execution_count": 6,
   "metadata": {
    "collapsed": false,
    "deletable": true,
    "editable": true,
    "run_control": {
     "frozen": false,
     "read_only": false
    }
   },
   "outputs": [
    {
     "name": "stdout",
     "output_type": "stream",
     "text": [
      "Overwriting twoD.dot\n"
     ]
    }
   ],
   "source": [
    "%%writefile twoD.dot\n",
    "graph G {\n",
    "0 [style=filled];\n",
    "1 [style=filled];\n",
    "2 [style=filled];\n",
    "3 [style=filled];\n",
    "4 [style=filled];\n",
    "5 [style=filled];\n",
    "6 [style=filled];\n",
    "7 [style=filled];\n",
    "8 [style=filled];\n",
    "9 [style=filled];\n",
    "10 [style=filled];\n",
    "11 [style=filled];\n",
    "12 [style=filled];\n",
    "13 [style=filled];\n",
    "14 [style=filled];\n",
    "15 [style=filled];\n",
    "\n",
    "\n",
    "0--1--2--3;\n",
    "4--5--6--7;\n",
    "8--9--10--11;\n",
    "12--13--14--15;\n",
    "0--4--8--12;\n",
    "1--5--9--13;\n",
    "2--6--10--14;\n",
    "3--7--11--15;\n",
    "}"
   ]
  },
  {
   "cell_type": "markdown",
   "metadata": {
    "deletable": true,
    "editable": true,
    "run_control": {
     "frozen": false,
     "read_only": false
    }
   },
   "source": [
    "### Read and display a graph"
   ]
  },
  {
   "cell_type": "code",
   "execution_count": 73,
   "metadata": {
    "collapsed": false,
    "deletable": true,
    "editable": true,
    "run_control": {
     "frozen": false,
     "read_only": false
    }
   },
   "outputs": [],
   "source": [
    "import pydot\n",
    "filename='twoD'\n",
    "dot=open(filename+'.dot','r').readlines()\n",
    "dot=''.join(dot)\n",
    "\n",
    "G=pydot.dot_parser.parse_dot_data(dot)\n",
    "G.write_gif(filename+'.gif')\n",
    "gif_name=filename+'.gif'\n",
    "!open $gif_name"
   ]
  },
  {
   "cell_type": "markdown",
   "metadata": {
    "deletable": true,
    "editable": true,
    "run_control": {
     "frozen": false,
     "read_only": false
    }
   },
   "source": [
    "### Compute graph matrices\n",
    "* A: Adjacency matrix\n",
    "* D: Degree Matrix"
   ]
  },
  {
   "cell_type": "code",
   "execution_count": 74,
   "metadata": {
    "collapsed": false,
    "deletable": true,
    "editable": true,
    "run_control": {
     "frozen": false,
     "read_only": false
    }
   },
   "outputs": [],
   "source": [
    "from numpy.linalg import eigh\n",
    "from numpy import matrix\n",
    "\n",
    "node_n=len(G.get_nodes())\n",
    "A=matrix(np.zeros([node_n,node_n])) # adjacency matrix\n",
    "for edge in G.get_edge_list():\n",
    "    _i=int(edge.get_source())\n",
    "    _j=int(edge.get_destination())\n",
    "    A[_i,_j]=1\n",
    "    A[_j,_i]=1\n",
    "\n",
    "D=matrix(np.zeros([node_n,node_n])) # degree matrix \n",
    "for i in range(node_n):\n",
    "    D[i,i]=sum(A[i,:])\n"
   ]
  },
  {
   "cell_type": "markdown",
   "metadata": {
    "deletable": true,
    "editable": true,
    "run_control": {
     "frozen": false,
     "read_only": false
    }
   },
   "source": [
    "### Find eigen-decomposition of laplacian"
   ]
  },
  {
   "cell_type": "code",
   "execution_count": 75,
   "metadata": {
    "collapsed": false,
    "deletable": true,
    "editable": true,
    "run_control": {
     "frozen": false,
     "read_only": false
    }
   },
   "outputs": [
    {
     "name": "stdout",
     "output_type": "stream",
     "text": [
      "eigenvalues= [ -8.14227672e-16   5.85786438e-01   5.85786438e-01   1.17157288e+00\n",
      "   2.00000000e+00   2.00000000e+00   2.58578644e+00   2.58578644e+00\n",
      "   3.41421356e+00   3.41421356e+00   4.00000000e+00   4.00000000e+00\n",
      "   4.00000000e+00   5.41421356e+00   5.41421356e+00   6.82842712e+00]\n"
     ]
    }
   ],
   "source": [
    "L=D-A  # the laplacian\n",
    "w,v=eigh(L) # perform eigen-decomposition of a symmetric (Hermitian) matrix\n",
    "print 'eigenvalues=',w"
   ]
  },
  {
   "cell_type": "code",
   "execution_count": 76,
   "metadata": {
    "collapsed": false,
    "deletable": true,
    "editable": true,
    "run_control": {
     "frozen": false,
     "read_only": false
    }
   },
   "outputs": [],
   "source": [
    "_range=[0.,100.]\n",
    "_offset=_range[0]\n",
    "_scale=_range[1]-_range[0]\n",
    "_min=-1.;_max=1.;\n",
    "\n",
    "def vec2color(vec):\n",
    "    return['grey'+str(int(_offset+_scale*(x-_min)/(_max-_min))) for x in vec]\n",
    "\n",
    "def graph_eig(G,v,filename):\n",
    "    node_n=shape(v)[0]\n",
    "    for j in range(min(10,node_n)):\n",
    "        colors=vec2color(v[:,j])\n",
    "        #print j,colors\n",
    "        for node in G.get_node_list():\n",
    "            i=int(node.get_name())\n",
    "            node.set_color(colors[i])\n",
    "        G.write_gif(\"%s.%d.gif\"%(filename,j))"
   ]
  },
  {
   "cell_type": "code",
   "execution_count": 77,
   "metadata": {
    "collapsed": false,
    "deletable": true,
    "editable": true,
    "run_control": {
     "frozen": false,
     "read_only": false
    }
   },
   "outputs": [],
   "source": [
    "!rm $filename*.gif\n",
    "graph_eig(G,v,filename)\n",
    "!open $filename*.gif"
   ]
  },
  {
   "cell_type": "code",
   "execution_count": 60,
   "metadata": {
    "collapsed": false,
    "deletable": true,
    "editable": true,
    "run_control": {
     "frozen": false,
     "read_only": false
    }
   },
   "outputs": [
    {
     "name": "stdout",
     "output_type": "stream",
     "text": [
      "0 eigval:-0.00 eigvec:   0.4,   0.4,   0.4,   0.4,   0.4,   0.4,   0.4,   0.4\n",
      "1 eigval: 1.00 eigvec:   0.0,  -0.4,   0.9,  -0.1,  -0.1,  -0.1,  -0.1,  -0.1\n",
      "2 eigval: 1.00 eigvec:   0.0,  -0.4,  -0.1,   0.9,  -0.1,  -0.1,  -0.1,  -0.1\n",
      "3 eigval: 1.00 eigvec:   0.0,  -0.4,  -0.1,  -0.1,   0.9,  -0.1,  -0.1,  -0.1\n",
      "4 eigval: 1.00 eigvec:   0.0,  -0.4,  -0.1,  -0.1,  -0.1,   0.9,  -0.1,  -0.1\n",
      "5 eigval: 1.00 eigvec:   0.0,  -0.4,  -0.1,  -0.1,  -0.1,  -0.1,   0.9,  -0.1\n",
      "6 eigval: 1.00 eigvec:   0.0,  -0.4,  -0.1,  -0.1,  -0.1,  -0.1,  -0.1,   0.9\n",
      "7 eigval: 8.00 eigvec:  -0.9,   0.1,   0.1,   0.1,   0.1,   0.1,   0.1,   0.1\n"
     ]
    }
   ],
   "source": [
    "def print_eig(w,v):\n",
    "    for i in range(node_n):\n",
    "        print str(i),'eigval:%5.2f'%w[i],\n",
    "        print 'eigvec:',', '.join(['%5.1f'%x for x in v[:,i]])\n",
    "print_eig(w,v)"
   ]
  },
  {
   "cell_type": "code",
   "execution_count": 61,
   "metadata": {
    "collapsed": false,
    "deletable": true,
    "editable": true,
    "run_control": {
     "frozen": false,
     "read_only": false
    }
   },
   "outputs": [
    {
     "data": {
      "image/png": "[encoded data removed]",
      "text/plain": [
       "<matplotlib.figure.Figure at 0x112c4abd0>"
      ]
     },
     "metadata": {},
     "output_type": "display_data"
    }
   ],
   "source": [
    "plot(v[:,:]);"
   ]
  },
  {
   "cell_type": "markdown",
   "metadata": {
    "deletable": true,
    "editable": true,
    "run_control": {
     "frozen": false,
     "read_only": false
    }
   },
   "source": [
    "### random walk\n",
    "\n",
    "One interesting way to understand the structure of graphs is to think of the graph as if it was made out of some heat-conducting material such as metal, that the nodes are small balls and the edges are wires connecting the balls. Suppose the wires are equal in length and conductivity.\n",
    "\n",
    "Suppose the balls start at different termperatures. The temperature of each ball changes according to the difference between the temperature of the ball and the temperatures of neighboring balls.\n",
    "\n",
    "Ultimately all of the balls reach the same temperature.\n",
    "\n",
    "Denote a particular ball by $0$ and denote the balls it is connected to by $1,2,\\ldots,k$.\n",
    "\n",
    "Let $T_i$ be the temperature of ball $i$. The *rate of change* in the temperature of ball $0$ is\n",
    "$$\n",
    "\\frac{dT_0}{dt} = C \\left( \\sum_{i=1}^{k} T_i - k T_0 \\right)\n",
    "$$\n",
    "\n",
    "A similar relation holds for each of the nodes. We can write the relation using "
   ]
  },
  {
   "cell_type": "code",
   "execution_count": 78,
   "metadata": {
    "collapsed": false,
    "deletable": true,
    "editable": true,
    "run_control": {
     "frozen": false,
     "read_only": false
    }
   },
   "outputs": [],
   "source": [
    "DI = matrix(np.zeros([node_n,node_n])) # Inverse of degree matrix \n",
    "for i in range(node_n):\n",
    "    DI[i,i]=1./D[i,i]\n",
    "W=0.5*(eye(node_n)+A*DI)"
   ]
  },
  {
   "cell_type": "code",
   "execution_count": 79,
   "metadata": {
    "collapsed": false,
    "deletable": true,
    "editable": true,
    "run_control": {
     "frozen": false,
     "read_only": false
    }
   },
   "outputs": [
    {
     "name": "stdout",
     "output_type": "stream",
     "text": [
      "0 eigval: 1.00 eigvec:  -0.2,  -0.2,  -0.2,  -0.2,  -0.2,  -0.3,  -0.3,  -0.2,  -0.2,  -0.3,  -0.3,  -0.2,  -0.2,  -0.2,  -0.2,  -0.2\n",
      "1 eigval: 0.00 eigvec:  -0.2,   0.2,  -0.2,   0.2,   0.2,  -0.3,   0.3,  -0.2,  -0.2,   0.3,  -0.3,   0.2,   0.2,  -0.2,   0.2,  -0.2\n",
      "2 eigval: 0.75 eigvec:   0.3,   0.2,  -0.2,  -0.3,   0.2,   0.2,  -0.2,  -0.2,  -0.2,  -0.2,   0.2,   0.2,  -0.3,  -0.2,   0.2,   0.3\n",
      "3 eigval: 0.25 eigvec:   0.3,  -0.2,  -0.2,   0.3,  -0.2,   0.2,   0.2,  -0.2,  -0.2,   0.2,   0.2,  -0.2,   0.3,  -0.2,  -0.2,   0.3\n",
      "4 eigval: 0.11 eigvec:   0.3,  -0.4,   0.2,  -0.0,  -0.4,   0.3,  -0.0,  -0.2,   0.2,   0.0,  -0.3,   0.4,   0.0,  -0.2,   0.4,  -0.3\n",
      "5 eigval: 0.89 eigvec:  -0.3,  -0.4,  -0.2,  -0.0,  -0.4,  -0.3,  -0.0,   0.2,  -0.2,  -0.0,   0.3,   0.4,  -0.0,   0.2,   0.4,   0.3\n",
      "6 eigval: 0.89 eigvec:   0.0,   0.2,   0.4,   0.3,  -0.2,   0.0,   0.3,   0.4,  -0.4,  -0.3,  -0.0,   0.2,  -0.3,  -0.4,  -0.2,  -0.0\n",
      "7 eigval: 0.11 eigvec:  -0.2,   0.1,   0.2,  -0.2,   0.4,  -0.2,  -0.2,   0.4,  -0.4,   0.2,   0.2,  -0.4,   0.2,  -0.2,  -0.1,   0.2\n",
      "8 eigval: 0.67 eigvec:  -0.2,  -0.1,  -0.1,  -0.2,  -0.1,   0.4,   0.4,  -0.1,  -0.1,   0.4,   0.4,  -0.1,  -0.2,  -0.1,  -0.1,  -0.2\n",
      "9 eigval: 0.67 eigvec:   0.0,  -0.4,  -0.4,   0.0,   0.4,  -0.0,  -0.0,   0.4,   0.4,  -0.0,  -0.0,   0.4,   0.0,  -0.4,  -0.4,   0.0\n",
      "10 eigval: 0.33 eigvec:  -0.2,   0.1,  -0.1,   0.2,   0.1,   0.4,  -0.4,  -0.1,  -0.1,  -0.4,   0.4,   0.1,   0.2,  -0.1,   0.1,  -0.2\n",
      "11 eigval: 0.33 eigvec:   0.1,  -0.4,   0.4,  -0.1,   0.3,  -0.2,   0.2,  -0.3,  -0.3,   0.2,  -0.2,   0.3,  -0.1,   0.4,  -0.4,   0.1\n",
      "12 eigval: 0.50 eigvec:   0.4,  -0.0,  -0.2,   0.0,   0.0,  -0.5,  -0.0,   0.2,  -0.2,  -0.0,   0.5,   0.0,   0.0,   0.2,  -0.0,  -0.4\n",
      "13 eigval: 0.50 eigvec:  -0.3,   0.0,   0.5,   0.0,  -0.0,  -0.1,  -0.0,  -0.5,   0.5,   0.0,   0.1,   0.0,  -0.0,  -0.5,  -0.0,   0.3\n",
      "14 eigval: 0.50 eigvec:  -0.0,   0.4,   0.0,  -0.3,  -0.4,  -0.0,   0.0,  -0.0,   0.0,  -0.0,   0.0,   0.4,   0.3,  -0.0,  -0.4,   0.0\n",
      "15 eigval: 0.50 eigvec:   0.1,  -0.3,  -0.1,  -0.1,   0.3,   0.1,   0.5,   0.1,  -0.1,  -0.5,  -0.1,  -0.3,   0.1,   0.1,   0.3,  -0.1\n"
     ]
    }
   ],
   "source": [
    "ww,vv=eig(W)\n",
    "print_eig(ww,vv)"
   ]
  },
  {
   "cell_type": "code",
   "execution_count": 80,
   "metadata": {
    "collapsed": false,
    "deletable": true,
    "editable": true,
    "run_control": {
     "frozen": false,
     "read_only": false
    }
   },
   "outputs": [],
   "source": [
    "graph_eig(G,vv,filename+'.RW')\n",
    "fname=filename+'.RW.*'\n",
    "!open $fname"
   ]
  },
  {
   "cell_type": "code",
   "execution_count": null,
   "metadata": {
    "collapsed": true,
    "deletable": true,
    "editable": true,
    "run_control": {
     "frozen": false,
     "read_only": false
    }
   },
   "outputs": [],
   "source": []
  }
 ],
 "metadata": {
  "anaconda-cloud": {},
  "kernelspec": {
   "display_name": "Python [conda root]",
   "language": "python",
   "name": "conda-root-py"
  },
  "language_info": {
   "codemirror_mode": {
    "name": "ipython",
    "version": 2
   },
   "file_extension": ".py",
   "mimetype": "text/x-python",
   "name": "python",
   "nbconvert_exporter": "python",
   "pygments_lexer": "ipython2",
   "version": "2.7.13"
  },
  "toc": {
   "colors": {
    "hover_highlight": "#DAA520",
    "running_highlight": "#FF0000",
    "selected_highlight": "#FFD700"
   },
   "moveMenuLeft": true,
   "nav_menu": {
    "height": "48px",
    "width": "252px"
   },
   "navigate_menu": true,
   "number_sections": true,
   "sideBar": true,
   "threshold": 4,
   "toc_cell": false,
   "toc_section_display": "block",
   "toc_window_display": false
  }
 },
 "nbformat": 4,
 "nbformat_minor": 2
}
