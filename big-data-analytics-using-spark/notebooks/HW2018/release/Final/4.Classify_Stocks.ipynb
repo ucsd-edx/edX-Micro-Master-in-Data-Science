{
 "cells": [
  {
   "cell_type": "code",
   "execution_count": null,
   "metadata": {
    "ExecuteTime": {
     "end_time": "2018-06-09T02:45:51.792091Z",
     "start_time": "2018-06-09T02:45:51.082005Z"
    }
   },
   "outputs": [],
   "source": [
    "import pickle\n",
    "import pandas as pd\n",
    "import numpy as np\n",
    "import xgboost as xgb\n",
    "from sklearn.model_selection import train_test_split\n",
    "%pylab inline"
   ]
  },
  {
   "cell_type": "markdown",
   "metadata": {},
   "source": [
    "## Read PCA parameters"
   ]
  },
  {
   "cell_type": "code",
   "execution_count": null,
   "metadata": {
    "ExecuteTime": {
     "end_time": "2018-06-09T02:45:51.829269Z",
     "start_time": "2018-06-09T02:45:51.794962Z"
    }
   },
   "outputs": [],
   "source": [
    "D=pickle.load(open('data/PCA.pickle','rb'))\n",
    "col=D['columns']\n",
    "eigvec=D['eigvec']\n",
    "eigval=D['eigval']"
   ]
  },
  {
   "cell_type": "markdown",
   "metadata": {},
   "source": [
    "### Sanity check\n",
    "The following scatterplot should be very similar to the scatter plot you produced in notebook 3 for eigvec 1, eigvec 2 (indexing starts with 1)"
   ]
  },
  {
   "cell_type": "code",
   "execution_count": null,
   "metadata": {
    "ExecuteTime": {
     "end_time": "2018-06-09T02:45:52.004962Z",
     "start_time": "2018-06-09T02:45:51.832262Z"
    }
   },
   "outputs": [],
   "source": [
    "scatter(eigvec[:,0],eigvec[:,1])"
   ]
  },
  {
   "cell_type": "markdown",
   "metadata": {},
   "source": [
    "## compute features"
   ]
  },
  {
   "cell_type": "code",
   "execution_count": null,
   "metadata": {
    "ExecuteTime": {
     "end_time": "2018-06-09T02:45:52.016354Z",
     "start_time": "2018-06-09T02:45:52.007442Z"
    }
   },
   "outputs": [],
   "source": [
    "features=eigvec[:,:20]\n",
    "features.shape"
   ]
  },
  {
   "cell_type": "markdown",
   "metadata": {},
   "source": [
    "##  compute labels (sectors)"
   ]
  },
  {
   "cell_type": "code",
   "execution_count": null,
   "metadata": {
    "ExecuteTime": {
     "end_time": "2018-06-09T02:45:52.066079Z",
     "start_time": "2018-06-09T02:45:52.019070Z"
    }
   },
   "outputs": [],
   "source": [
    "TickerInfo=pd.read_csv('data/TickerInfo.tsv',sep='\\t')\n",
    "print(TickerInfo.shape)\n",
    "TickerInfo.head()"
   ]
  },
  {
   "cell_type": "code",
   "execution_count": null,
   "metadata": {
    "ExecuteTime": {
     "end_time": "2018-06-09T02:45:52.093178Z",
     "start_time": "2018-06-09T02:45:52.069810Z"
    }
   },
   "outputs": [],
   "source": [
    "Sectors={'Consumer Discretionary':'CD',\n",
    " 'Consumer Staples':'CS',\n",
    " 'Energy':'EN',\n",
    " 'Financials':'FIN',\n",
    " 'Health Care':'HC',\n",
    " 'Industrials':'INDS',\n",
    " 'Information Technology':'IT',\n",
    " 'Materials':'MAT',\n",
    " 'Real Estate':'RE',\n",
    " 'Telecommunication Services':'TS',\n",
    " 'Utilities':'UTIL'}\n",
    "sector2number={}\n",
    "i=0;\n",
    "for name,short in Sectors.items():\n",
    "    sector2number[short]=i\n",
    "    i+=1\n",
    "sector2number"
   ]
  },
  {
   "cell_type": "code",
   "execution_count": null,
   "metadata": {
    "ExecuteTime": {
     "end_time": "2018-06-09T02:45:52.405560Z",
     "start_time": "2018-06-09T02:45:52.097318Z"
    }
   },
   "outputs": [],
   "source": [
    "labels=[]\n",
    "feature_vectors=[]\n",
    "for i in range(len(col)):\n",
    "    c=col[i]\n",
    "    if 'train' in c:\n",
    "        ticker=c[6:-2]\n",
    "        answer=list(TickerInfo[TickerInfo.Ticker==ticker]['SECTOR_ID'])\n",
    "        if len(answer)==1:\n",
    "            sector_no=sector2number[answer[0]]\n",
    "            labels.append(sector_no)\n",
    "            feature_vectors.append(features[i,:])\n",
    "        else:\n",
    "            print('error: could not find sector for ticker:',ticker)\n"
   ]
  },
  {
   "cell_type": "code",
   "execution_count": null,
   "metadata": {
    "ExecuteTime": {
     "end_time": "2018-06-09T02:45:52.417230Z",
     "start_time": "2018-06-09T02:45:52.408048Z"
    }
   },
   "outputs": [],
   "source": [
    "len(labels),len(feature_vectors)"
   ]
  },
  {
   "cell_type": "code",
   "execution_count": null,
   "metadata": {
    "ExecuteTime": {
     "end_time": "2018-06-09T02:45:52.428461Z",
     "start_time": "2018-06-09T02:45:52.420295Z"
    }
   },
   "outputs": [],
   "source": [
    "sectorID2sectorName = {key:value for (value, key) in Sectors.items()}\n",
    "sectorID2sectorName"
   ]
  },
  {
   "cell_type": "code",
   "execution_count": null,
   "metadata": {
    "ExecuteTime": {
     "end_time": "2018-06-09T02:45:52.438542Z",
     "start_time": "2018-06-09T02:45:52.431451Z"
    }
   },
   "outputs": [],
   "source": [
    "number2sectorID = {key:value for (value, key) in sector2number.items()}\n",
    "number2sectorID"
   ]
  },
  {
   "cell_type": "code",
   "execution_count": null,
   "metadata": {
    "ExecuteTime": {
     "end_time": "2018-06-09T02:45:52.449908Z",
     "start_time": "2018-06-09T02:45:52.442246Z"
    }
   },
   "outputs": [],
   "source": [
    "number2sectorName = {i:sectorID2sectorName[number2sectorID[i]] for i in number2sectorID}\n",
    "number2sectorName"
   ]
  },
  {
   "cell_type": "code",
   "execution_count": null,
   "metadata": {
    "ExecuteTime": {
     "end_time": "2018-06-09T02:45:52.471472Z",
     "start_time": "2018-06-09T02:45:52.462387Z"
    }
   },
   "outputs": [],
   "source": [
    "y=np.array(labels)\n",
    "X=np.array(feature_vectors) #.transpose()\n",
    "X.shape, y.shape"
   ]
  },
  {
   "cell_type": "code",
   "execution_count": null,
   "metadata": {
    "ExecuteTime": {
     "end_time": "2018-06-09T02:45:52.485931Z",
     "start_time": "2018-06-09T02:45:52.475206Z"
    }
   },
   "outputs": [],
   "source": [
    "feature_vectors_test=[]\n",
    "test_nos = []\n",
    "for i in range(len(col)):\n",
    "    c=col[i]\n",
    "    if 'test' in c:\n",
    "        test_nos.append(c[5:-2])\n",
    "        feature_vectors_test.append(features[i,:])"
   ]
  },
  {
   "cell_type": "code",
   "execution_count": null,
   "metadata": {
    "ExecuteTime": {
     "end_time": "2018-06-09T02:45:52.495583Z",
     "start_time": "2018-06-09T02:45:52.489961Z"
    }
   },
   "outputs": [],
   "source": [
    "len(feature_vectors_test)"
   ]
  },
  {
   "cell_type": "code",
   "execution_count": null,
   "metadata": {
    "ExecuteTime": {
     "end_time": "2018-06-09T02:45:52.503209Z",
     "start_time": "2018-06-09T02:45:52.497901Z"
    }
   },
   "outputs": [],
   "source": [
    "X_test = np.array(feature_vectors_test)\n",
    "y_test = np.array(test_nos)"
   ]
  },
  {
   "cell_type": "code",
   "execution_count": null,
   "metadata": {
    "ExecuteTime": {
     "end_time": "2018-06-09T02:45:52.515300Z",
     "start_time": "2018-06-09T02:45:52.506859Z"
    }
   },
   "outputs": [],
   "source": [
    "X_train, X_valid, y_train, y_valid = train_test_split(X, y, test_size=0.30, random_state=6)\n",
    "X_train.shape, X_valid.shape"
   ]
  },
  {
   "cell_type": "code",
   "execution_count": null,
   "metadata": {
    "ExecuteTime": {
     "end_time": "2018-06-09T02:45:52.527525Z",
     "start_time": "2018-06-09T02:45:52.519422Z"
    }
   },
   "outputs": [],
   "source": [
    "# dtrain = xgb.DMatrix(X_train, label=y_train)\n",
    "# dvalid = xgb.DMatrix(X_valid, label=y_valid)"
   ]
  },
  {
   "cell_type": "code",
   "execution_count": null,
   "metadata": {
    "ExecuteTime": {
     "end_time": "2018-06-09T02:45:52.535524Z",
     "start_time": "2018-06-09T02:45:52.531851Z"
    }
   },
   "outputs": [],
   "source": [
    "# dtrain.num_col(),dtrain.num_row(),dvalid.num_col(),dvalid.num_row()"
   ]
  },
  {
   "cell_type": "code",
   "execution_count": null,
   "metadata": {
    "ExecuteTime": {
     "end_time": "2018-06-09T02:45:52.549377Z",
     "start_time": "2018-06-09T02:45:52.539665Z"
    }
   },
   "outputs": [],
   "source": [
    "#You can change this cell if you wish to, but you aren't expected to\n",
    "param = {}\n",
    "param['max_depth']= 3   # depth of tree\n",
    "param['eta'] = 0.3      # shrinkage parameter\n",
    "param['silent'] = 1     # not silent\n",
    "param['objective'] = 'multi:softmax'\n",
    "param['nthread'] = 7 # Number of threads used\n",
    "param['num_class']=11\n",
    "\n",
    "num_round = 100"
   ]
  },
  {
   "cell_type": "code",
   "execution_count": null,
   "metadata": {
    "ExecuteTime": {
     "end_time": "2018-06-09T02:45:52.570421Z",
     "start_time": "2018-06-09T02:45:52.553832Z"
    }
   },
   "outputs": [],
   "source": [
    "def get_margin_scores(X_train, X_valid, y_train, y_valid, X_test, param):\n",
    "    dtrain = xgb.DMatrix(X_train, label=y_train)\n",
    "    dvalid = xgb.DMatrix(X_valid, label=y_valid)\n",
    "    evallist = [(dtrain, 'train'), (dvalid, 'eval')]\n",
    "    plst = param.items()\n",
    "    bst = xgb.train(plst, dtrain, num_round, evallist, verbose_eval=False)\n",
    "    y_pred_valid = bst.predict(dvalid, ntree_limit=bst.best_ntree_limit, output_margin=True)\n",
    "    y_valid = dvalid.get_label()\n",
    "    dtest = xgb.DMatrix(X_test)\n",
    "    y_pred_test = bst.predict(dtest, ntree_limit=bst.best_ntree_limit, output_margin=True)\n",
    "    return y_valid, y_pred_valid , y_pred_test"
   ]
  },
  {
   "cell_type": "code",
   "execution_count": null,
   "metadata": {
    "ExecuteTime": {
     "end_time": "2018-06-09T02:45:53.728437Z",
     "start_time": "2018-06-09T02:45:52.574379Z"
    }
   },
   "outputs": [],
   "source": [
    "y_valid, y_pred_valid, y_pred_test = get_margin_scores(X_train, X_valid, y_train, y_valid, X_test, param)\n",
    "predictions_valid = [np.argmax(pred) for pred in y_pred_valid]\n",
    "accuracy_valid = sum(predictions_valid == y_valid)/len(y_valid)"
   ]
  },
  {
   "cell_type": "code",
   "execution_count": null,
   "metadata": {
    "ExecuteTime": {
     "end_time": "2018-06-09T02:45:53.738780Z",
     "start_time": "2018-06-09T02:45:53.730880Z"
    }
   },
   "outputs": [],
   "source": [
    "np.array(predictions_valid[:5]).T"
   ]
  },
  {
   "cell_type": "code",
   "execution_count": null,
   "metadata": {
    "ExecuteTime": {
     "end_time": "2018-06-09T02:45:53.751667Z",
     "start_time": "2018-06-09T02:45:53.743825Z"
    }
   },
   "outputs": [],
   "source": [
    "#Top5 values\n",
    "arr = y_pred_valid[0]\n",
    "print(arr)\n",
    "arr.argsort()[::-1][:5]"
   ]
  },
  {
   "cell_type": "code",
   "execution_count": null,
   "metadata": {
    "ExecuteTime": {
     "end_time": "2018-06-09T02:45:53.763490Z",
     "start_time": "2018-06-09T02:45:53.755253Z"
    }
   },
   "outputs": [],
   "source": [
    "predictions_topn = np.array([pred.argsort()[::-1] for pred in y_pred_valid])"
   ]
  },
  {
   "cell_type": "code",
   "execution_count": null,
   "metadata": {
    "ExecuteTime": {
     "end_time": "2018-06-09T02:45:53.780778Z",
     "start_time": "2018-06-09T02:45:53.766618Z"
    }
   },
   "outputs": [],
   "source": [
    "for i in range(11):\n",
    "    print(sum(predictions_topn[:, i]==y_valid), \"\\t\", sum(predictions_topn[:, i]==y_valid)/len(y_valid))"
   ]
  },
  {
   "cell_type": "code",
   "execution_count": null,
   "metadata": {
    "ExecuteTime": {
     "end_time": "2018-06-09T02:45:53.796973Z",
     "start_time": "2018-06-09T02:45:53.785213Z"
    }
   },
   "outputs": [],
   "source": [
    "y_valid.shape, predictions_topn.shape"
   ]
  },
  {
   "cell_type": "code",
   "execution_count": null,
   "metadata": {
    "ExecuteTime": {
     "end_time": "2018-06-09T02:45:53.803804Z",
     "start_time": "2018-06-09T02:45:53.800141Z"
    }
   },
   "outputs": [],
   "source": [
    "conf = np.zeros((11,11), dtype=int)"
   ]
  },
  {
   "cell_type": "code",
   "execution_count": null,
   "metadata": {
    "ExecuteTime": {
     "end_time": "2018-06-09T02:45:53.817757Z",
     "start_time": "2018-06-09T02:45:53.808077Z"
    }
   },
   "outputs": [],
   "source": [
    "i=0\n",
    "for entry in predictions_topn[:, :2]:\n",
    "    if entry[1] == y_valid[i]:\n",
    "        conf[entry[0]][entry[1]] += 1\n",
    "    i += 1\n",
    "    #conf[entry[1]][entry[0]] += 1"
   ]
  },
  {
   "cell_type": "code",
   "execution_count": null,
   "metadata": {
    "ExecuteTime": {
     "end_time": "2018-06-09T02:45:53.849007Z",
     "start_time": "2018-06-09T02:45:53.821571Z"
    }
   },
   "outputs": [],
   "source": [
    "for i in range(conf.shape[0]):\n",
    "    print(\"%25s\" % number2sectorName[i], \"\\t\", conf[i, :])"
   ]
  },
  {
   "cell_type": "code",
   "execution_count": null,
   "metadata": {
    "ExecuteTime": {
     "end_time": "2018-06-09T02:45:53.856314Z",
     "start_time": "2018-06-09T02:45:53.851199Z"
    }
   },
   "outputs": [],
   "source": [
    "predictions_test = [np.argmax(pred) for pred in y_pred_test]"
   ]
  },
  {
   "cell_type": "code",
   "execution_count": null,
   "metadata": {
    "ExecuteTime": {
     "end_time": "2018-06-09T02:45:53.867486Z",
     "start_time": "2018-06-09T02:45:53.859322Z"
    }
   },
   "outputs": [],
   "source": [
    "np.array(predictions_test).T"
   ]
  },
  {
   "cell_type": "code",
   "execution_count": null,
   "metadata": {
    "ExecuteTime": {
     "end_time": "2018-06-09T02:45:53.877913Z",
     "start_time": "2018-06-09T02:45:53.869709Z"
    }
   },
   "outputs": [],
   "source": [
    "np.array(test_nos).T"
   ]
  }
 ],
 "metadata": {
  "hide_input": false,
  "kernelspec": {
   "display_name": "Python 3",
   "language": "python",
   "name": "python3"
  },
  "language_info": {
   "codemirror_mode": {
    "name": "ipython",
    "version": 3
   },
   "file_extension": ".py",
   "mimetype": "text/x-python",
   "name": "python",
   "nbconvert_exporter": "python",
   "pygments_lexer": "ipython3",
   "version": "3.6.5"
  },
  "toc": {
   "base_numbering": 1,
   "nav_menu": {},
   "number_sections": true,
   "sideBar": true,
   "skip_h1_title": false,
   "title_cell": "Table of Contents",
   "title_sidebar": "Contents",
   "toc_cell": false,
   "toc_position": {},
   "toc_section_display": true,
   "toc_window_display": true
  },
  "varInspector": {
   "cols": {
    "lenName": 16,
    "lenType": 16,
    "lenVar": 40
   },
   "kernels_config": {
    "python": {
     "delete_cmd_postfix": "",
     "delete_cmd_prefix": "del ",
     "library": "var_list.py",
     "varRefreshCmd": "print(var_dic_list())"
    },
    "r": {
     "delete_cmd_postfix": ") ",
     "delete_cmd_prefix": "rm(",
     "library": "var_list.r",
     "varRefreshCmd": "cat(var_dic_list()) "
    }
   },
   "types_to_exclude": [
    "module",
    "function",
    "builtin_function_or_method",
    "instance",
    "_Feature"
   ],
   "window_display": false
  }
 },
 "nbformat": 4,
 "nbformat_minor": 2
}
