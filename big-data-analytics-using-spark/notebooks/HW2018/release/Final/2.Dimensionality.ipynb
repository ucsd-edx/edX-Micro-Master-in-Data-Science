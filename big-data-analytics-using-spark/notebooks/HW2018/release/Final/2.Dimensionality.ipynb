{
 "cells": [
  {
   "cell_type": "markdown",
   "metadata": {},
   "source": [
    "Before you turn this problem in, make sure everything runs as expected. First, **restart the kernel** (in the menubar, select Kernel$\\rightarrow$Restart) and then **run all cells** (in the menubar, select Cell$\\rightarrow$Run All).\n",
    "\n",
    "Make sure you fill in any place that says `YOUR CODE HERE` or \"YOUR ANSWER HERE\", as well as your name and collaborators below:"
   ]
  },
  {
   "cell_type": "code",
   "execution_count": null,
   "metadata": {},
   "outputs": [],
   "source": [
    "NAME = \"\"\n",
    "COLLABORATORS = \"\""
   ]
  },
  {
   "cell_type": "markdown",
   "metadata": {},
   "source": [
    "---"
   ]
  },
  {
   "cell_type": "markdown",
   "metadata": {
    "deletable": false,
    "editable": false,
    "nbgrader": {
     "checksum": "a5bd113648d530602bcde89be42a0eda",
     "grade": false,
     "grade_id": "cell-3244e5e966516eff",
     "locked": true,
     "schema_version": 1,
     "solution": false
    }
   },
   "source": [
    "## Dimensionality analysis of Stock Prices / Notebook 2\n",
    "\n",
    "In this notebook we will study the dimensionality of stock price sequences, and show that they lie between the 1D of smooth functions and 2D of rapidly varying functions.\n",
    "\n",
    "The mathematicians Manuel Mandelbrot and Richard Hudson wrote a book titled [The Misbehavior of Markets: A Fractal View of Financial Turbulence](https://www.amazon.com/gp/product/0465043577?ie=UTF8&tag=trivisonno-20&linkCode=as2&camp=1789&creative=9325&creativeASIN=0465043577).  In this book they demonstrate that financial sequences have a fractal dimension that is higher than one. In other words, the changes in stock prices are more similar to random walk, than to a smooth differentiable curve.\n",
    "\n",
    "In this notebook we will estimate the fractal dimension of sequences corresponding to the log of the price of a stock. We will do the same for some other, non-random sequences.\n",
    "\n",
    "We will use the [Box Counting](https://en.wikipedia.org/wiki/Box_counting) method to estimate the dimension."
   ]
  },
  {
   "cell_type": "markdown",
   "metadata": {
    "deletable": false,
    "editable": false,
    "nbgrader": {
     "checksum": "01ca89f6e43ab0cdc9df534071a9f3ec",
     "grade": false,
     "grade_id": "cell-b92f6eee0d49bdbf",
     "locked": true,
     "schema_version": 1,
     "solution": false
    }
   },
   "source": [
    "### Box Counting\n",
    "For the sake of simplicity, lets start with a simple smooth curve corresponding to $sin(x)$.\n",
    "Intuitively speaking, the dimension of this curve should be 1. Lets see how we measure that using box-counting.\n",
    "\n",
    "The idea is simple: we split the 2D plane into smaller and smaller rectangles and count the number of rectangles that touch the curve.  The gridlines in the figure below partition the figure into $16 \\times 16 = 256$ rectangles. The yellow shading corresponds the partition of the figure into $8 \\times 8$ rectangles. The green corresponds to the partition into $16\\times 16$ (which is the same as the grid), The blue and the red correspond to partitions into $32\\times32$ and $64 \\times 64$ respectively. You can see that as theboxes get smaller their number increases. \n",
    "\n",
    "![Sinusoid](figs/Sinusoid.BoxCount.png)\n",
    "\n",
    "The dimension is defined by the relation between the size of the cubes and the number of rectangle that touch the curve. More precisly, we say that the size of a rectangle in a $n \\times n$ partition is $\\epsilon=1/n$. We denote by $N(\\epsilon)$ the number of rectangles of size $\\epsilon$ that touch the curve. Then if $d$ is the dimension, the relationship between $N(\\epsilon)$ and $\\epsilon$ is \n",
    "$$\n",
    "N(\\epsilon) = \\frac{C}{\\epsilon^d}\n",
    "$$\n",
    "For some constant $C$\n",
    "\n",
    "Taking $\\log$s of both side we get \n",
    "$$\n",
    "(1)\\;\\;\\;\\;\\;\\;\\;\\;\\;\\;\\;\\;\\log N(\\epsilon) = \\log C + d \\log \\frac{1}{\\epsilon}\n",
    "$$\n",
    "\n",
    "We can use this equation to estimate $d$ as follows: let $\\epsilon_2 \\gg \\epsilon_1$ be two sizes that are far apart (say $\\epsilon_1=1/4$ and $\\epsilon_2=1/1024$), and let $N(\\epsilon_1),N(\\epsilon_2)$ be the corresponding box counts. Then by taking the difference between Equation (1) for the two sizes we get the estimate\n",
    "$$\n",
    "    d \\approx \\frac{\\log N(\\epsilon_1) - \\log N(\\epsilon_2)}{\\log \\epsilon_2- \\log \\epsilon_1}\n",
    "$$\n",
    "\n",
    "Note that this is an estimate, it depends on the particular values of $\\epsilon_1$ and $\\epsilon_2$. We can refer to it as the \"dimension\" if we get the same number for any choice of the two sizes (as well as other details sich as the extent of the function."
   ]
  },
  {
   "cell_type": "markdown",
   "metadata": {
    "deletable": false,
    "editable": false,
    "nbgrader": {
     "checksum": "9cc3be7be674ce880db1ab3a9ef34664",
     "grade": false,
     "grade_id": "cell-9d8d555717a8853b",
     "locked": true,
     "schema_version": 1,
     "solution": false
    }
   },
   "source": [
    "Here are similar figures for the seque\n",
    "![AMZN](figs/AMZN.BoxCount.png)\n",
    "\n",
    "![IBM](figs/IBM.BoxCount.png)\t\t"
   ]
  },
  {
   "cell_type": "markdown",
   "metadata": {
    "deletable": false,
    "editable": false,
    "heading_collapsed": true,
    "nbgrader": {
     "checksum": "cdb4ef6399aba2a8229cf89b2e60584d",
     "grade": false,
     "grade_id": "cell-4291bf957697db47",
     "locked": true,
     "schema_version": 1,
     "solution": false
    }
   },
   "source": [
    "### Download the data files\n",
    "You might have made a mistake in producing the file `data/SP500.csv`. To avoid propagating this mistake, we download the correct file from S3"
   ]
  },
  {
   "cell_type": "code",
   "execution_count": null,
   "metadata": {
    "ExecuteTime": {
     "end_time": "2018-06-10T17:24:03.045218Z",
     "start_time": "2018-06-10T17:23:53.618886Z"
    },
    "deletable": false,
    "editable": false,
    "hidden": true,
    "nbgrader": {
     "checksum": "32e151a18da56f9b423885c29e27811f",
     "grade": false,
     "grade_id": "cell-c997590a57937fdb",
     "locked": true,
     "schema_version": 1,
     "solution": false
    }
   },
   "outputs": [],
   "source": [
    "!wget https://mas-dse-open.s3.amazonaws.com/Stocks/data.tgz\n",
    "!tar xzvf data.tgz"
   ]
  },
  {
   "cell_type": "markdown",
   "metadata": {
    "deletable": false,
    "editable": false,
    "heading_collapsed": true,
    "nbgrader": {
     "checksum": "08a7a995e6a022446bb766c87934d878",
     "grade": false,
     "grade_id": "cell-de9502ef03a9424c",
     "locked": true,
     "schema_version": 1,
     "solution": false
    }
   },
   "source": [
    "### Notebook Setup"
   ]
  },
  {
   "cell_type": "code",
   "execution_count": null,
   "metadata": {
    "ExecuteTime": {
     "end_time": "2018-06-10T17:24:07.488495Z",
     "start_time": "2018-06-10T17:24:03.079025Z"
    },
    "deletable": false,
    "editable": false,
    "hidden": true,
    "nbgrader": {
     "checksum": "30ca4e87a9847c663ff4f82b8576466d",
     "grade": false,
     "grade_id": "cell-0a7406bc31eb51fa",
     "locked": true,
     "schema_version": 1,
     "solution": false
    },
    "run_control": {
     "frozen": false,
     "read_only": false
    }
   },
   "outputs": [],
   "source": [
    "#import findspark\n",
    "#findspark.init()\n",
    "from pyspark import SparkContext\n",
    "\n",
    "#sc.stop()\n",
    "sc = SparkContext(master=\"local[3]\")\n",
    "\n",
    "from pyspark.sql import *\n",
    "sqlContext = SQLContext(sc)\n",
    "\n",
    "%pylab inline\n",
    "\n",
    "import numpy as np\n"
   ]
  },
  {
   "cell_type": "code",
   "execution_count": null,
   "metadata": {
    "ExecuteTime": {
     "end_time": "2018-06-10T17:24:13.747420Z",
     "start_time": "2018-06-10T17:24:07.515531Z"
    },
    "deletable": false,
    "editable": false,
    "hidden": true,
    "nbgrader": {
     "checksum": "8dcb205e8f55f4566c6e3e8bb267c32a",
     "grade": false,
     "grade_id": "cell-a54ce465ae4e45a4",
     "locked": true,
     "schema_version": 1,
     "solution": false
    },
    "run_control": {
     "frozen": false,
     "read_only": false
    }
   },
   "outputs": [],
   "source": [
    "df=sqlContext.read.csv('data/SP500.csv',header='true',inferSchema='true')\n",
    "df.count()"
   ]
  },
  {
   "cell_type": "code",
   "execution_count": null,
   "metadata": {
    "ExecuteTime": {
     "end_time": "2018-06-10T17:24:15.126713Z",
     "start_time": "2018-06-10T17:24:15.121050Z"
    },
    "deletable": false,
    "editable": false,
    "hidden": true,
    "nbgrader": {
     "checksum": "ece01ebf8f307ef68622cf3b57b61452",
     "grade": false,
     "grade_id": "cell-4b74e71e7818f332",
     "locked": true,
     "schema_version": 1,
     "solution": false
    },
    "run_control": {
     "frozen": false,
     "read_only": false
    }
   },
   "outputs": [],
   "source": [
    "def get_seq(ticker):\n",
    "    if ticker[0].isdigit():\n",
    "        key='test/%s_P'%ticker\n",
    "    else:\n",
    "        key='train/%s_P'%ticker\n",
    "    L=df.select(key).collect()\n",
    "    L=[x[key] for x in L if not x[key] is None]\n",
    "    return L"
   ]
  },
  {
   "cell_type": "code",
   "execution_count": null,
   "metadata": {
    "ExecuteTime": {
     "end_time": "2018-06-10T17:24:15.585044Z",
     "start_time": "2018-06-10T17:24:15.578540Z"
    },
    "deletable": false,
    "editable": false,
    "hidden": true,
    "nbgrader": {
     "checksum": "2cc6f495e8e00dfa02732e504556ccc5",
     "grade": false,
     "grade_id": "cell-ecbf7d129051038e",
     "locked": true,
     "schema_version": 1,
     "solution": false
    },
    "run_control": {
     "frozen": false,
     "read_only": false
    }
   },
   "outputs": [],
   "source": [
    "def calc_splitpoints(R,count):\n",
    "    return arange(R[0],R[1],(R[1]-R[0])/(count*1.00001))"
   ]
  },
  {
   "cell_type": "markdown",
   "metadata": {
    "deletable": false,
    "editable": false,
    "heading_collapsed": true,
    "nbgrader": {
     "checksum": "1432e44ca17550ad1a0fe9d55806f8a5",
     "grade": false,
     "grade_id": "cell-da3e4b5683f018fc",
     "locked": true,
     "schema_version": 1,
     "solution": false
    }
   },
   "source": [
    "### Exercise\n",
    "Your task in this exercise is to compute the dimensionality of a stock price sequence. The sequence contains the log prices of a single stock over the course of 30+ years. We shall use the box counting approach described above to deduce the dimenionality. Specifically, you are required to do the following:\n",
    "\n",
    "* Take the 2D region that contains the stock price sequence. The X-axis represents the ***day*** and the Y-axis represents the ***log of the stock price*** on that day. Divide this 2D space into rectangles of equal sizes such that the 2D space is divided into a grid of $N \\times N$ rectangles where $N \\in \\{1,2,4,8,16,32,64,128,256,512,1024,2048\\}$ \n",
    " * For each value of $N$, keep track of the number of boxes that the curve passes through. You can do this by using the intuition that the y-axis (log of prices) is a function of the x-axis (days). Assume, that the X-axis needs to be divided into $N$ parts. Then we can find $N+1$ points on the X-axis that divides it into $N$ parts of equal length $l$. Each consecutive pair of points $[x_{k}, x_{k+1}]$ defines a range on the X-axis that will contain $N$ rectangles of height $h$ stacked on top of each other and spanning over the range $[y_{min}, y_{max}]$ where $y_{min}$ is the minumum stock price and $y_{max}$ is the maximum stock price over the entire span of time.\n",
    " * Within the set of $N$ rectangles in the range $R = [x_{k}, x{k+1}]$, the $y$ values (log prices) will lie in a continuous interval $y_{min}^R, y_{max}^R$ where $y_{min}^R$ and $y_{max}^R$ are the lower and upper limits of the stock price sequence in the range of $R$. By knowing this interval and the height of each rectangle, you can compute the number of rectangles that the sequence passes through in the range $R$. Repeating the process for each $ R = [x_{k}, x{k+1}] $ where $k \\in {1,2,3...N}$ gives us the total number of rectangles that the curve passes through.\n",
    "* To find the dimensionality of the sequence, use the formula given above and the $\\epsilon_1 = \\frac{1}{16}$, $\\epsilon_2 = \\frac{1}{2048}$\n",
    "\n",
    "Output Requirements: You are expected to return the following values in the order given below\n",
    "1. ***box_counts***: A 2D numpy array that contains the number of boxes the sequence passed through for each value $N \\in \\{1,2,4,8,16,32,64,128,256,512,1024,2048\\}$. The first column in the array is the value of $N$ and the second is the count of number of rectangles that the sequence passed through for that value of $N$. An example is shown below:\n",
    "```\n",
    "     [[1.0 2.0000e+00]\n",
    "      [2.0 5.0000e+00] \n",
    "      [4.0 1.7000e+01] \n",
    "      [8.0 4.4000e+01] \n",
    "      [16.0 9.2000e+01] \n",
    "      [32.0 1.8700e+02] \n",
    "      [64.0 3.7800e+02] \n",
    "      [128.0 7.5800e+02] \n",
    "      [256.0 1.5120e+03] \n",
    "      [512.0 2.9990e+03] \n",
    "      [1024.0 5.8950e+03] \n",
    "      [2048.0 1.1252e+04]]\n",
    "```\n",
    "\n",
    "2. ***dims***: A variable that contains the dimensionality of the sequence using the calculation given above\n",
    "3. ***covers***: A dictionary where the keys are is $N \\in \\{1,2,4,8,16,32,64,128,256,512,1024,2048\\}$ and the value is an array containing tuples of the form ($x_{k}, x_{k+1}, flooRec_{x_k,x_{k+1}}(y_{min}^R), ceilRec_{x_k,x_{k+1}}(y_{max}^R$)). Here, $floorRec$ and $ceilRec$ are defined as:\n",
    "$$ floorRec_{x_k,x_{k+1}}(y) = \\text{Floor of the rectangle that contains the point y, in the X-axis range }[x_{k}, x_{k+1}]$$\n",
    "$$ ceilRec_{x_k,x_{k+1}}(y) = \\text{Ceiling of the rectangle that contains the point y, in the X-axis range }[x_{k}, x_{k+1}]$$\n",
    "For example if the the range of x values is $[0, 8]$ and $N=4$, then we would have 4 intervals on the x-axis: $[0, 2], [2, 4], [4, 6], [6, 8]$. Assuming the y values lie in the range $[0, 6]$, the corresponding 4 intervals on the y-axis would be $[0, 1.5], [1.5, 3.0], [3.0, 4.5], [4.5, 6.0]$. The $y_{min}^R, y_{max}^R$ represent the minimum and maximum values taken by the stock price sequence in each of the 4 intervals. Assuming these min and max values are $[3.5, 4.6], [2.5, 3.7], [1.2, 5.5], [5.2, 5.6]$ respectively, the key value pair in ***covers*** for $N=4$ would be:\n",
    "\n",
    "``` \n",
    "{4: [(0, 2, 3.0, 6.0), (2, 4, 1.5, 4.5), (4, 6, 0.0, 6.0), (6, 8, 4.5, 6.0)]} # Notice there are N entries in the value for key N\n",
    "\n",
    "```\n",
    "\n",
    "***Hint:*** You might find the <font color=\"blue\">calc_splitpoints</font> useful to split the X-axis into $N$ segments"
   ]
  },
  {
   "cell_type": "code",
   "execution_count": null,
   "metadata": {
    "ExecuteTime": {
     "end_time": "2018-06-10T17:24:18.361342Z",
     "start_time": "2018-06-10T17:24:18.317491Z"
    },
    "deletable": false,
    "hidden": true,
    "nbgrader": {
     "checksum": "92cbe0352660d17af178c7c751807ba1",
     "grade": false,
     "grade_id": "cell-d1bee2d255875852",
     "locked": false,
     "schema_version": 1,
     "solution": true
    },
    "run_control": {
     "frozen": false,
     "read_only": false
    }
   },
   "outputs": [],
   "source": [
    "def Box_count(LL,ticker):\n",
    "    # YOUR CODE HERE\n",
    "    raise NotImplementedError()"
   ]
  },
  {
   "cell_type": "code",
   "execution_count": null,
   "metadata": {
    "ExecuteTime": {
     "end_time": "2018-06-10T17:24:22.023072Z",
     "start_time": "2018-06-10T17:24:22.015244Z"
    },
    "deletable": false,
    "editable": false,
    "hidden": true,
    "nbgrader": {
     "checksum": "6b4c96ce08694e9707672280f80a87a3",
     "grade": false,
     "grade_id": "cell-69ba6bd94c5e8af3",
     "locked": true,
     "schema_version": 1,
     "solution": false
    }
   },
   "outputs": [],
   "source": [
    "def plot_box_count(N):\n",
    "    plot(log(N[:,0]),log(N[:,1]));\n",
    "    title('Box Count Graph for '+ticker)\n",
    "    xlabel('log 1/epsilon')\n",
    "    ylabel('log N');\n",
    "    grid()"
   ]
  },
  {
   "cell_type": "code",
   "execution_count": null,
   "metadata": {
    "ExecuteTime": {
     "end_time": "2018-06-10T17:24:22.575063Z",
     "start_time": "2018-06-10T17:24:22.555641Z"
    },
    "deletable": false,
    "editable": false,
    "hidden": true,
    "nbgrader": {
     "checksum": "4df5a07cd4b8170d9e53ac23d5b6a465",
     "grade": false,
     "grade_id": "cell-b244390a4c96b800",
     "locked": true,
     "schema_version": 1,
     "solution": false
    },
    "run_control": {
     "frozen": false,
     "read_only": false
    }
   },
   "outputs": [],
   "source": [
    "def analyze_sequence(L,ticker):\n",
    "    figure(figsize=(13,5))\n",
    "    subplot(121)\n",
    "    LL=log(L)\n",
    "    plot(LL)\n",
    "    title('time series for '+ticker)\n",
    "    xlabel('days')\n",
    "    ylabel('log price')\n",
    "    grid()\n",
    "    subplot(122)\n",
    "    N,dim,covers=Box_count(LL,ticker)\n",
    "    plot_box_count(N)\n",
    "    return N,dim,covers"
   ]
  },
  {
   "cell_type": "code",
   "execution_count": null,
   "metadata": {
    "ExecuteTime": {
     "end_time": "2018-06-10T17:24:24.706573Z",
     "start_time": "2018-06-10T17:24:24.702419Z"
    },
    "deletable": false,
    "editable": false,
    "hidden": true,
    "nbgrader": {
     "checksum": "03c5cd98b8effea35157c8bf877a7bda",
     "grade": false,
     "grade_id": "cell-e64842b649a5e273",
     "locked": true,
     "schema_version": 1,
     "solution": false
    },
    "run_control": {
     "frozen": false,
     "read_only": false
    }
   },
   "outputs": [],
   "source": [
    "def analyze_stock(ticker):\n",
    "    L=get_seq(ticker)\n",
    "    N,dim,covers=analyze_sequence(L,ticker)\n",
    "    print(covers)\n",
    "    return N,dim,covers,L"
   ]
  },
  {
   "cell_type": "code",
   "execution_count": null,
   "metadata": {
    "ExecuteTime": {
     "end_time": "2018-06-10T17:24:27.796248Z",
     "start_time": "2018-06-10T17:24:26.642755Z"
    },
    "deletable": false,
    "editable": false,
    "hidden": true,
    "nbgrader": {
     "checksum": "b3e6610f9cafc6fb0faa5d09699f04d1",
     "grade": true,
     "grade_id": "cell-d7b08dee17357ddc",
     "locked": true,
     "points": 3,
     "schema_version": 1,
     "solution": false
    },
    "run_control": {
     "frozen": false,
     "read_only": false
    }
   },
   "outputs": [],
   "source": [
    "ticker='IBM'\n",
    "N,dim,covers,L=analyze_stock(ticker)\n",
    "assert 1.1390537589837473 <= dim <= 1.541072732742717 "
   ]
  },
  {
   "cell_type": "markdown",
   "metadata": {
    "deletable": false,
    "editable": false,
    "heading_collapsed": true,
    "nbgrader": {
     "checksum": "10cb2de8a16863ecb5f7c59972a69af4",
     "grade": false,
     "grade_id": "cell-9441341d589b13f3",
     "locked": true,
     "schema_version": 1,
     "solution": false
    }
   },
   "source": [
    "### Plot graph with boxes\n",
    "This portion of the code plots the stock price sequence and overlays it with the boxes that the sequence passes over. The ***covers*** dictionary returned by box_count is used to overlay the boxes. You can use the graphs generated to verify if you have identified the correct set of rectangles that pass through the sequence."
   ]
  },
  {
   "cell_type": "code",
   "execution_count": null,
   "metadata": {
    "ExecuteTime": {
     "end_time": "2018-06-10T01:10:09.103052Z",
     "start_time": "2018-06-10T01:10:09.100039Z"
    },
    "deletable": false,
    "editable": false,
    "hidden": true,
    "nbgrader": {
     "checksum": "d267d92fd1124c78a5cb84c73ac3469e",
     "grade": false,
     "grade_id": "cell-70e2c681ae91769e",
     "locked": true,
     "schema_version": 1,
     "solution": false
    },
    "run_control": {
     "frozen": false,
     "read_only": false
    }
   },
   "outputs": [],
   "source": [
    "import matplotlib.pyplot as plt\n",
    "import matplotlib.patches as patches"
   ]
  },
  {
   "cell_type": "code",
   "execution_count": null,
   "metadata": {
    "ExecuteTime": {
     "end_time": "2018-06-10T01:10:15.007537Z",
     "start_time": "2018-06-10T01:10:14.977541Z"
    },
    "deletable": false,
    "editable": false,
    "hidden": true,
    "nbgrader": {
     "checksum": "d54c6a5413516c8033bdc535cac1f0e0",
     "grade": false,
     "grade_id": "cell-efcfecea9955a729",
     "locked": true,
     "schema_version": 1,
     "solution": false
    },
    "run_control": {
     "frozen": false,
     "read_only": false
    }
   },
   "outputs": [],
   "source": [
    "import matplotlib.pyplot as plt\n",
    "import matplotlib.ticker as plticker\n",
    "G=16\n",
    "def plot_boxes(LL,covers):\n",
    "    figure(figsize=[15,10])\n",
    "    plot(LL)\n",
    "    axes=gca()\n",
    "    xmin=0.0; xmax=len(LL)-1.0\n",
    "    ymin=min(LL)\n",
    "    ymax=max(LL)\n",
    "    yloc = plticker.MultipleLocator((ymax-ymin)/G)\n",
    "    xloc = plticker.MultipleLocator((xmax-xmin)/G)\n",
    "    axes.xaxis.set_major_locator(xloc)\n",
    "    axes.yaxis.set_major_locator(yloc)\n",
    "\n",
    "    # Add the grid\n",
    "    axes.grid(which='major', axis='both', linestyle='-')\n",
    "    \n",
    "    colors='gbrygbrygbrygbry'\n",
    "    for level in range(3,8):\n",
    "        N = 2**level\n",
    "        blocks=covers[N]\n",
    "\n",
    "        for xmin,xmax,ymin,ymax in blocks:\n",
    "            width=xmax-xmin\n",
    "            height=ymax-ymin \n",
    "            axes.add_patch(\n",
    "                patches.Rectangle(\n",
    "                    (xmin, ymin),   # (x,y)\n",
    "                    width,          # width\n",
    "                    height,          # height\n",
    "                    alpha=0.2,color=colors[level]\n",
    "                ))"
   ]
  },
  {
   "cell_type": "code",
   "execution_count": null,
   "metadata": {
    "ExecuteTime": {
     "end_time": "2018-06-10T01:10:16.557417Z",
     "start_time": "2018-06-10T01:10:15.627965Z"
    },
    "deletable": false,
    "editable": false,
    "hidden": true,
    "nbgrader": {
     "checksum": "a1ba6df3590ea2c2656f854d09481685",
     "grade": true,
     "grade_id": "cell-105552c42958bcb7",
     "locked": true,
     "points": 4,
     "schema_version": 1,
     "solution": false
    },
    "run_control": {
     "frozen": false,
     "read_only": false
    }
   },
   "outputs": [],
   "source": [
    "ticker='AMZN'\n",
    "N,dim,covers,L=analyze_stock(ticker)\n",
    "assert 1.049035790021836 <= dim <= 1.4192837159118956"
   ]
  },
  {
   "cell_type": "code",
   "execution_count": null,
   "metadata": {
    "ExecuteTime": {
     "end_time": "2018-06-10T01:10:18.944344Z",
     "start_time": "2018-06-10T01:10:18.230972Z"
    },
    "deletable": false,
    "editable": false,
    "hidden": true,
    "nbgrader": {
     "checksum": "7d2aea7b1d6cd70db1853a2bb6721d03",
     "grade": false,
     "grade_id": "cell-2a509030b2cc0823",
     "locked": true,
     "schema_version": 1,
     "solution": false
    },
    "run_control": {
     "frozen": false,
     "read_only": false
    }
   },
   "outputs": [],
   "source": [
    "LL=log(L)\n",
    "plot_boxes(LL,covers)\n",
    "title('box plot for '+ticker)\n",
    "\n"
   ]
  },
  {
   "cell_type": "code",
   "execution_count": null,
   "metadata": {
    "ExecuteTime": {
     "end_time": "2018-06-10T01:10:36.563202Z",
     "start_time": "2018-06-10T01:10:36.193731Z"
    },
    "deletable": false,
    "editable": false,
    "hidden": true,
    "nbgrader": {
     "checksum": "53833d23428e91da7f753302b38d85d5",
     "grade": true,
     "grade_id": "cell-07e3e95c12a5fb67",
     "locked": true,
     "points": 3,
     "schema_version": 1,
     "solution": false
    },
    "run_control": {
     "frozen": false,
     "read_only": false
    }
   },
   "outputs": [],
   "source": [
    "x=arange(-1,1,0.0001)\n",
    "y=exp(sin(8*x))\n",
    "N,dim,covers=analyze_sequence(y,'smooth')\n",
    "\n",
    "assert 0.842026014152719 <= dim <= 1.1392116662066198"
   ]
  },
  {
   "cell_type": "code",
   "execution_count": null,
   "metadata": {
    "ExecuteTime": {
     "end_time": "2018-06-10T01:10:39.701478Z",
     "start_time": "2018-06-10T01:10:38.994169Z"
    },
    "deletable": false,
    "editable": false,
    "hidden": true,
    "nbgrader": {
     "checksum": "1b32351463761ab25ffaefd429366d47",
     "grade": false,
     "grade_id": "cell-7be7de698f05e3a4",
     "locked": true,
     "schema_version": 1,
     "solution": false
    },
    "run_control": {
     "frozen": false,
     "read_only": false
    }
   },
   "outputs": [],
   "source": [
    "LL=log(y)\n",
    "plot_boxes(LL,covers)\n",
    "title('box plot for '+'smooth')"
   ]
  },
  {
   "cell_type": "code",
   "execution_count": null,
   "metadata": {
    "ExecuteTime": {
     "end_time": "2018-06-10T01:10:44.492428Z",
     "start_time": "2018-06-10T01:10:43.580034Z"
    },
    "deletable": false,
    "editable": false,
    "hidden": true,
    "nbgrader": {
     "checksum": "051174af031f4aeca426673062887a21",
     "grade": true,
     "grade_id": "cell-62b0037d4a2e549e",
     "locked": true,
     "points": 5,
     "schema_version": 1,
     "solution": false
    },
    "run_control": {
     "frozen": false,
     "read_only": false
    }
   },
   "outputs": [],
   "source": [
    "# Hidden tests"
   ]
  },
  {
   "cell_type": "code",
   "execution_count": null,
   "metadata": {
    "ExecuteTime": {
     "end_time": "2018-06-10T01:10:46.352249Z",
     "start_time": "2018-06-10T01:10:45.460936Z"
    },
    "deletable": false,
    "editable": false,
    "hidden": true,
    "nbgrader": {
     "checksum": "5e854cc21efa28819adad25c75b6f2a7",
     "grade": true,
     "grade_id": "cell-0787fcf7a0247018",
     "locked": true,
     "points": 5,
     "schema_version": 1,
     "solution": false
    },
    "run_control": {
     "frozen": false,
     "read_only": false
    }
   },
   "outputs": [],
   "source": [
    "# Hidden tests"
   ]
  },
  {
   "cell_type": "code",
   "execution_count": null,
   "metadata": {
    "ExecuteTime": {
     "end_time": "2018-06-10T01:10:49.097434Z",
     "start_time": "2018-06-10T01:10:48.156417Z"
    },
    "deletable": false,
    "editable": false,
    "hidden": true,
    "nbgrader": {
     "checksum": "c050d5d37334bcabb12e0aa7037f2ee8",
     "grade": true,
     "grade_id": "cell-bcc72384d43894f5",
     "locked": true,
     "points": 5,
     "schema_version": 1,
     "solution": false
    }
   },
   "outputs": [],
   "source": [
    "# Hidden tests"
   ]
  },
  {
   "cell_type": "code",
   "execution_count": null,
   "metadata": {
    "ExecuteTime": {
     "end_time": "2018-06-10T01:10:56.399659Z",
     "start_time": "2018-06-10T01:10:55.627293Z"
    },
    "deletable": false,
    "editable": false,
    "hidden": true,
    "nbgrader": {
     "checksum": "1ecd9c347990751dbc791141fa053fb6",
     "grade": true,
     "grade_id": "cell-931bbcdacaaf4d45",
     "locked": true,
     "points": 5,
     "schema_version": 1,
     "solution": false
    }
   },
   "outputs": [],
   "source": [
    "# Hidden tests"
   ]
  },
  {
   "cell_type": "code",
   "execution_count": null,
   "metadata": {
    "hidden": true
   },
   "outputs": [],
   "source": []
  }
 ],
 "metadata": {
  "anaconda-cloud": {},
  "kernelspec": {
   "display_name": "Python 3",
   "language": "python",
   "name": "python3"
  },
  "language_info": {
   "codemirror_mode": {
    "name": "ipython",
    "version": 3
   },
   "file_extension": ".py",
   "mimetype": "text/x-python",
   "name": "python",
   "nbconvert_exporter": "python",
   "pygments_lexer": "ipython3",
   "version": "3.6.5"
  },
  "toc": {
   "base_numbering": 1,
   "nav_menu": {
    "height": "12px",
    "width": "252px"
   },
   "number_sections": true,
   "sideBar": true,
   "skip_h1_title": false,
   "title_cell": "Table of Contents",
   "title_sidebar": "Contents",
   "toc_cell": false,
   "toc_position": {},
   "toc_section_display": "block",
   "toc_window_display": false
  },
  "varInspector": {
   "cols": {
    "lenName": 16,
    "lenType": 16,
    "lenVar": 40
   },
   "kernels_config": {
    "python": {
     "delete_cmd_postfix": "",
     "delete_cmd_prefix": "del ",
     "library": "var_list.py",
     "varRefreshCmd": "print(var_dic_list())"
    },
    "r": {
     "delete_cmd_postfix": ") ",
     "delete_cmd_prefix": "rm(",
     "library": "var_list.r",
     "varRefreshCmd": "cat(var_dic_list()) "
    }
   },
   "types_to_exclude": [
    "module",
    "function",
    "builtin_function_or_method",
    "instance",
    "_Feature"
   ],
   "window_display": false
  }
 },
 "nbformat": 4,
 "nbformat_minor": 2
}
