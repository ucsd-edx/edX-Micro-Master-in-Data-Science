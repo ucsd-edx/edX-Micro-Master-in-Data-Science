{
 "cells": [
  {
   "cell_type": "markdown",
   "metadata": {
    "deletable": false,
    "editable": false,
    "nbgrader": {
     "checksum": "666210e856d67a1216c0a1feb180f15c",
     "grade": false,
     "grade_id": "cell-601b4a206f8f71fd",
     "locked": true,
     "schema_version": 1,
     "solution": false
    }
   },
   "source": [
    "## CSE 255 Problem Set 1: Collinear points\n",
    "\n",
    "For this problem set, we'll be using the Jupyter notebook:\n",
    "\n",
    "![](jupyter.png)"
   ]
  },
  {
   "cell_type": "markdown",
   "metadata": {
    "deletable": false,
    "editable": false,
    "nbgrader": {
     "checksum": "3a4bd1b6e2f57aafa60264a8d494b24d",
     "grade": false,
     "grade_id": "cell-1f0aaa1b0eeb62ff",
     "locked": true,
     "schema_version": 1,
     "solution": false
    }
   },
   "source": [
    "### In this problem set, you will write python3 code to find sets of collinear points given __ 2D points.\n",
    "\n",
    "Definition of collinearity: In geometry, collinearity of a set of points is the property of their lying on a single line. A set of points with this property is said to be collinear.\n",
    "\n",
    "![](non-collinear-points.jpg)\n",
    "\n",
    "Here, points P,Q,R and A,R,B are collinear. However, points A,B,C are non-collinear.\n",
    "\n",
    "Given an input file with a set of co-ordinates, your task is to use pyspark library functions to write a program to find if three points are collinear.\n",
    "\n",
    "For instance, if given these points: {(1,1), (0,1), (2,2), (3,3), (0,5), (3,4), (5,6), (0,-3), (-2,-2)}\n",
    "\n",
    "Sets of collinear points are: {((-2,-2), (1,1), (2,2), (3,3)), ((0,1), (3,4), (5,6)), ((0,-3), (0,1), (0,5))}. Note that the ordering of the points in a set or the order of the sets does not matter. \n",
    "\n",
    "Note: Every set has to have atleast three points (single point or a pair of points always lie on a line).\n",
    "\n",
    "1. https://en.wikipedia.org/wiki/Collinearity\n",
    "2. http://www.mathcaptain.com/geometry/collinear-points.html"
   ]
  },
  {
   "cell_type": "code",
   "execution_count": null,
   "metadata": {
    "deletable": false,
    "editable": false,
    "nbgrader": {
     "checksum": "0b0b4c10e07b99523e790273bebf1317",
     "grade": false,
     "grade_id": "cell-5f266efcf9bf6846",
     "locked": true,
     "schema_version": 1,
     "solution": false
    }
   },
   "outputs": [],
   "source": [
    "from pyspark import SparkContext, SparkConf\n",
    "conf = SparkConf().setAppName(\"Collinear Points\").setMaster(\"local[4]\")\n",
    "sc = SparkContext(conf=conf)"
   ]
  },
  {
   "cell_type": "markdown",
   "metadata": {},
   "source": [
    "### Approach\n",
    "\n",
    "1. Find Cartesian product of the RDD with itself, so that you get a set of a pair of distinct point co-ordinates. For instance, if your RDD is {(1,0), (2,0), (3,0)}, the function should return {((1,0), (2,0)), ((2,0), (1,0)), ((1,0), (3,0)), ((3,0), (1,0)), ((2,0), (3,0)), ((3,0), (2,0))}\n",
    "2. Find the slope between pairs of all points. If more than one pair have the same slope and one of the points is common, it means that the three points are collinear. For instance, let's take the result from the previous step as {((1,0), (2,0)), ((2,0), (1,0)), ((1,0), (3,0)), ((3,0), (1,0)), ((2,0), (3,0)), ((3,0), (2,0))}. Slope between (1,0) and (2,0) is 0, and slope between (1,0) and (3,0) is 0. Since (1,0) is common to both of them, they must all be collinear.\n"
   ]
  },
  {
   "cell_type": "code",
   "execution_count": null,
   "metadata": {
    "deletable": false,
    "nbgrader": {
     "checksum": "b1798897c6da70af407ca3e3ab227f9e",
     "grade": false,
     "grade_id": "collinear-preprocess",
     "locked": false,
     "schema_version": 1,
     "solution": true
    }
   },
   "outputs": [],
   "source": [
    "# YOUR CODE HERE\n",
    "# What is the code that needs to go here?\n",
    "raise NotImplementedError()\n",
    "\n",
    "def preprocessing(rdd):\n",
    "    \"\"\"\n",
    "    Find Cartesian product of the RDD with itself, and ensure you get a set of a pair of DISTINCT point co-ordinates\n",
    "    \"\"\"\n",
    "    # YOUR CODE HERE\n",
    "    raise NotImplementedError()\n",
    "    return rdd"
   ]
  },
  {
   "cell_type": "code",
   "execution_count": null,
   "metadata": {
    "deletable": false,
    "nbgrader": {
     "checksum": "b4a7f400ad13e84e0e1fd0756f5d7bb5",
     "grade": false,
     "grade_id": "Collinear-slope",
     "locked": false,
     "schema_version": 1,
     "solution": true
    }
   },
   "outputs": [],
   "source": [
    "# YOUR CODE HERE\n",
    "raise NotImplementedError()\n",
    "\n",
    "def find_collinear(rdd):\n",
    "    \"\"\"\n",
    "    1. Find the slope of the line between all pairs of points A = (Ax, Ay) and B = (Bx, By).\n",
    "    2. For each (A, B), find all points C = ((C1x, C1y), (C2x, C2y), ... (Cnx, Cny)) \n",
    "       where slope of (A,B) = slope of (A, Ci).\n",
    "    3. Return (A, B, Ck) where Ck = all points of C which satisfy the condition 1.\n",
    "    \"\"\"\n",
    "    # YOUR CODE HERE\n",
    "    raise NotImplementedError()\n",
    "    return rdd"
   ]
  },
  {
   "cell_type": "code",
   "execution_count": null,
   "metadata": {},
   "outputs": [],
   "source": [
    "def get_sorted(x):\n",
    "    return tuple(sorted(x))\n",
    "\n",
    "def execute(filename):\n",
    "    \"\"\"\n",
    "    Compute the set of collinear points\n",
    "    \"\"\"\n",
    "    rdd = sc.textFile(filename)\n",
    "    rdd1 = preprocessing(rdd)\n",
    "    rdd2 = find_collinear(rdd1)\n",
    "    rdd3 = rdd2.map(get_sorted)\n",
    "    res = set(rdd3.collect())\n",
    "    return rdd,rdd1,rdd2,rdd3,res"
   ]
  },
  {
   "cell_type": "code",
   "execution_count": null,
   "metadata": {},
   "outputs": [],
   "source": [
    "#Intermediate tests\n",
    "#sorted(preprocessing(sc.textFile(\"data.txt\")).collect())"
   ]
  },
  {
   "cell_type": "markdown",
   "metadata": {},
   "source": [
    "### Create tests for individual functions\n",
    "It is important to give the students feedback regarding each function that they are to write, not just on the complete thing.\n",
    "\n",
    "Assertion should be gradual, i.e.\n",
    "* Check that the answer is an RDD\n",
    "* Check that the type of elements in the RDD is correct\n",
    "* Check the relation between the elements in the correct RDD and the returned RDD. In other words: which elements are common and which are in the symmetric difference.\n",
    "* Finally - check the correct answers (still - for the particular function such as \"preprocessing\".\n",
    "\n",
    "### Make the tests simple: rather than readin fom a file: define small RDDs in the notebooks text.\n",
    "This should be in addition to, rather than in place of, the more elaborate RDDs that are read from files.\n",
    "\n",
    "\n",
    "### Add hidden tests\n",
    "\n",
    "You can use the same tests (put the execution and the asserts in a function) but different and larger test files."
   ]
  },
  {
   "cell_type": "code",
   "execution_count": null,
   "metadata": {
    "deletable": false,
    "editable": false,
    "nbgrader": {
     "checksum": "5eedb0333186a83df64edcf7d511e647",
     "grade": false,
     "grade_id": "Collinear_soln",
     "locked": false,
     "points": 1,
     "schema_version": 1,
     "solution": false
    }
   },
   "outputs": [],
   "source": [
    "\"\"\"Check that the get_collinear function returns the correct output for several all input files\"\"\"\n",
    "assert execute(\"data.txt\") == {((-2, -2), (1, 1), (2, 2), (3, 3)), ((0, 1), (3, 4), (5, 6)), ((0, -3), (0, 1), (0, 5))}\n",
    "assert execute(\"test.txt\") == {((1, 0), (2, 0), (3, 0))}"
   ]
  },
  {
   "cell_type": "code",
   "execution_count": null,
   "metadata": {
    "deletable": false,
    "editable": false,
    "nbgrader": {
     "checksum": "626cdc1fcb3ce6d0c30ce45ee4e70845",
     "grade": true,
     "grade_id": "Collinear_invalid_input",
     "locked": false,
     "points": 1,
     "schema_version": 1,
     "solution": false
    }
   },
   "outputs": [],
   "source": [
    "\"\"\"Check that the get_collinear function raises an error for invalid input files\"\"\"\n",
    "try:\n",
    "    execute(\"data.txt\")\n",
    "except ValueError:\n",
    "    pass\n",
    "else:\n",
    "    raise AssertionError(\"did not raise\")"
   ]
  },
  {
   "cell_type": "markdown",
   "metadata": {},
   "source": [
    "### can't delete\n",
    "\n",
    "I could not make any changes to the following cell, so I pushed it to the bottom.\n",
    "\n",
    "Please explain how to change the state of a cell from read-only to writable."
   ]
  },
  {
   "cell_type": "code",
   "execution_count": 3,
   "metadata": {
    "deletable": false,
    "editable": false,
    "nbgrader": {
     "checksum": "cb8cd5ab0d8f5e3bd0000a94ab412e83",
     "grade": false,
     "grade_id": "Collinear-main",
     "locked": false,
     "schema_version": 1,
     "solution": false
    }
   },
   "outputs": [],
   "source": [
    "def get_sorted(x):\n",
    "    return tuple(sorted(x))\n",
    "\n",
    "def execute(filename):\n",
    "    \"\"\"\n",
    "    Compute the set of collinear points\n",
    "    \"\"\"\n",
    "    rdd = sc.textFile(filename)\n",
    "    rdd = preprocessing(rdd)\n",
    "    rdd = find_collinear(rdd)\n",
    "    rdd = rdd.map(get_sorted)\n",
    "    res = set(rdd.collect())\n",
    "    return res"
   ]
  },
  {
   "cell_type": "code",
   "execution_count": null,
   "metadata": {},
   "outputs": [],
   "source": []
  }
 ],
 "metadata": {
  "celltoolbar": "Create Assignment",
  "kernelspec": {
   "display_name": "Python 2",
   "language": "python",
   "name": "python2"
  },
  "language_info": {
   "codemirror_mode": {
    "name": "ipython",
    "version": 2
   },
   "file_extension": ".py",
   "mimetype": "text/x-python",
   "name": "python",
   "nbconvert_exporter": "python",
   "pygments_lexer": "ipython2",
   "version": "2.7.13"
  }
 },
 "nbformat": 4,
 "nbformat_minor": 1
}
