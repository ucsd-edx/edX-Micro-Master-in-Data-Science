{
 "cells": [
  {
   "cell_type": "markdown",
   "metadata": {
    "deletable": false,
    "editable": false,
    "nbgrader": {
     "checksum": "53fe4d34de59a5b5fd93b0630363fcbe",
     "grade": false,
     "grade_id": "cell-601b4a206f8f71fd",
     "locked": true,
     "schema_version": 1,
     "solution": false
    }
   },
   "source": [
    "## CSE 255 Programming Assignment 1: Collinear points\n",
    "\n",
    "For this programming assignment, we'll be using a Jupyter notebook."
   ]
  },
  {
   "cell_type": "markdown",
   "metadata": {
    "deletable": false,
    "editable": false,
    "nbgrader": {
     "checksum": "f8b3422283318cd14bfe492eba523a87",
     "grade": false,
     "grade_id": "cell-1f0aaa1b0eeb62ff",
     "locked": true,
     "schema_version": 1,
     "solution": false
    }
   },
   "source": [
    "### In this programming assignment, you will write python3 code using pyspark to find sets of collinear points given arbitrary number of 2D points.\n",
    "\n",
    "Definition of collinearity[1]: In geometry, collinearity of a set of points is the property of their lying on a single line. A set of points with this property is said to be collinear.\n",
    "\n",
    "![](non-collinear-points.jpg)\n",
    "\n",
    "Here, points P,Q,R and A,R,B are collinear. However, points A,B,C are non-collinear. For more, refer [2].\n",
    "\n",
    "Given an input file with a set of co-ordinates, your task is to use pyspark library functions to write a program to find if three or more points are collinear.\n",
    "\n",
    "For instance, if given these points: {(1,1), (0,1), (2,2), (3,3), (0,5), (3,4), (5,6), (0,-3), (-2,-2)}\n",
    "\n",
    "Sets of collinear points are: {((-2,-2), (1,1), (2,2), (3,3)), ((0,1), (3,4), (5,6)), ((0,-3), (0,1), (0,5))}. Note that the ordering of the points in a set or the order of the sets does not matter. \n",
    "\n",
    "Note: Every set of collinear points has to have atleast three points (single point or a pair of points always lie on a line).\n",
    "\n",
    "1. https://en.wikipedia.org/wiki/Collinearity\n",
    "2. http://www.mathcaptain.com/geometry/collinear-points.html"
   ]
  },
  {
   "cell_type": "markdown",
   "metadata": {},
   "source": [
    "### Initialize spark context using 4 local cores as workers.\n",
    "Note that we can create a SparkConf() object and use it to initialize the spark context. "
   ]
  },
  {
   "cell_type": "code",
   "execution_count": null,
   "metadata": {
    "deletable": false,
    "editable": false,
    "nbgrader": {
     "checksum": "fcd4130056f9aa8d01848655815c5bdb",
     "grade": false,
     "grade_id": "cell-5f266efcf9bf6846",
     "locked": true,
     "schema_version": 1,
     "solution": false
    }
   },
   "outputs": [],
   "source": [
    "from pyspark import SparkContext, SparkConf\n",
    "conf = SparkConf().setAppName(\"Collinear Points\").setMaster(\"local[4]\")\n",
    "sc = SparkContext(conf=conf)\n",
    "\n",
    "from pyspark.rdd import RDD"
   ]
  },
  {
   "cell_type": "markdown",
   "metadata": {},
   "source": [
    "### Guidelines for implementation\n",
    "\n",
    "The goal of this assignment is to make you familiar with programming using pyspark. There are many ways to find sets of collinear points from a list of points. For the purposes of this assignment, we shall stick with the below approach:\n",
    "\n",
    "1. Find the cartesian product of the list of points with itself. For example, given three points [(1,0), (2,0), (3,0)], we first construct [((1,0), (2,0)), ((2,0), (1,0)), ((1,0), (3,0)), ((3,0), (1,0)), ((2,0), (3,0)), ((3,0), (2,0))]. Note that pairs ((1,0),(1,0)), ((2,0),(2,0)) and ((3,0),(3,0)) are deliberately not included in the result of cartesian product, since they all have duplicate points.\n",
    "\n",
    "2. Use the above intermediary result to find slope (of the line segment connecting) each pair of points in the cartesian product. If two pairs of points have the same slope, and if they have one point in common, the three points have to be collinear. For example, in [((1,0), (2,0)), ((2,0), (1,0)), ((1,0), (3,0)), ((3,0), (1,0)), ((2,0), (3,0)), ((3,0), (2,0))], slope between (1,0) and (2,0) is 0, and slope between (1,0) and (3,0) is also 0. Since (1,0) is common to both of these pairs of points, ((1,0), (2,0), (3,0)) must be collinear.\n",
    "\n",
    "\n",
    "Keeping the above technique in mind, you will complete the leftover parts of this notebook. You are required to use pyspark RDD API's map, reduce, groupby and other library functions to do so. Refer: http://spark.apache.org/docs/latest/api/python/pyspark.html?highlight=rdd#pyspark.RDD\n",
    "\n",
    "Besides the visible assert statements in this notebook, your implementations will be tested against hidden tests after the assignment submission deadline.\n",
    "\n",
    "*NOTE*: some of the cells in this notebook are locked i.e. you will not be able to modify them. This is intended to guide you in implementation, and for grading purposes. In case you want to split a locked cell to see intermediate results, you may copy the contents of the locked cell to a new cell and do your testing there. You *should* remove these new cells before submitting your notebook.  "
   ]
  },
  {
   "cell_type": "markdown",
   "metadata": {
    "deletable": false,
    "editable": false,
    "nbgrader": {
     "checksum": "f3069c9adcda18765cefc615665eb7bc",
     "grade": false,
     "grade_id": "cell-773a47aa41687e4f",
     "locked": true,
     "schema_version": 1,
     "solution": false
    }
   },
   "source": [
    "### Below are some helper functions that will be used in your implementations. You are neither required to nor encouraged to change the definitions of these functions."
   ]
  },
  {
   "cell_type": "code",
   "execution_count": null,
   "metadata": {
    "deletable": false,
    "editable": false,
    "nbgrader": {
     "checksum": "84902c858e13c3dc5f4d5db768e82df8",
     "grade": false,
     "grade_id": "cell-8b516ac13ae8c8b0",
     "locked": true,
     "schema_version": 1,
     "solution": false
    }
   },
   "outputs": [],
   "source": [
    "def format_result(x):\n",
    "    \"\"\"\n",
    "    input: ((A,slope), [C1,..., Ck]) where each of A, C1,..., Ck is a point of form (Ax, Ay) and slope is a float.\n",
    "    output: (C1,..., Ck, A)\n",
    "    \n",
    "    Concatenates collinear points.\n",
    "    \"\"\"\n",
    "    x[1].append(x[0][0])\n",
    "    return tuple(x[1])\n",
    "\n",
    "def to_sorted_points(x):\n",
    "    \"\"\"\n",
    "    Sorts and returns a tuple of points for further processing.\n",
    "    \"\"\"\n",
    "    return tuple(sorted(x))"
   ]
  },
  {
   "cell_type": "markdown",
   "metadata": {},
   "source": [
    "### Below are some functions that you will implement. You should follow the function definitions, and use them appropriately elsewhere in the notebook."
   ]
  },
  {
   "cell_type": "code",
   "execution_count": null,
   "metadata": {
    "deletable": false,
    "nbgrader": {
     "checksum": "c5f0ecf889f84541512f5cf82c3a6186",
     "grade": false,
     "grade_id": "collinear-preprocess",
     "locked": false,
     "schema_version": 1,
     "solution": true
    }
   },
   "outputs": [],
   "source": [
    "def to_tuple(x):\n",
    "    \"\"\"\n",
    "    Converts each point of form 'Ax, Ay' into a point of form (Ax, Ay) for further processing.\n",
    "    Example: '2,3' is converted to (2,3)\n",
    "    \"\"\"\n",
    "    # YOUR CODE HERE\n",
    "    raise NotImplementedError()\n",
    "\n",
    "def non_duplicates(x):\n",
    "    \"\"\"  \n",
    "    input: Pair (A,B) where A and B are of form (Ax, Ay) and (Bx, By) respectively.\n",
    "    Returns True if A != B, False otherwise.\n",
    "    \n",
    "    Use this function inside the get_cartesian() function to 'filter' out pairs with duplicate points. \n",
    "    \"\"\"\n",
    "    # YOUR CODE HERE\n",
    "    raise NotImplementedError()\n",
    "\n",
    "def get_cartesian(rdd):\n",
    "    \"\"\"\n",
    "    Does a Cartesian product of an RDD with itself and returns an RDD with DISTINCT pairs of points.\n",
    "    \n",
    "    Refer:  http://spark.apache.org/docs/latest/api/python/pyspark.html?highlight=cartesian#pyspark.RDD.cartesian\n",
    "    \"\"\"\n",
    "    \n",
    "    # YOUR CODE HERE\n",
    "    raise NotImplementedError()"
   ]
  },
  {
   "cell_type": "code",
   "execution_count": null,
   "metadata": {
    "deletable": false,
    "editable": false,
    "nbgrader": {
     "checksum": "c282941d41a4ff4dd71eadee3f20dc58",
     "grade": true,
     "grade_id": "cell-7dfc39335c0bb589",
     "locked": true,
     "points": 1,
     "schema_version": 1,
     "solution": false
    }
   },
   "outputs": [],
   "source": [
    "## Let's test the to_tuple(x) implementation (1 Point)\n",
    "assert to_tuple('1 1') == (1,1)\n",
    "assert type(to_tuple('1 1')) == tuple\n",
    "assert type(to_tuple('1 1')[0])==int and type(to_tuple('1 1')[1])==int"
   ]
  },
  {
   "cell_type": "code",
   "execution_count": null,
   "metadata": {
    "deletable": false,
    "editable": false,
    "nbgrader": {
     "checksum": "e074e3592bd014f79d2ca33d552249c9",
     "grade": true,
     "grade_id": "cell-c7ddc8e33dba8d38",
     "locked": true,
     "points": 1,
     "schema_version": 1,
     "solution": false
    }
   },
   "outputs": [],
   "source": [
    "## Let's test the non_duplicates(x) implementation (1 Point)\n",
    "assert non_duplicates(((0,0),(1,2))) == True\n",
    "assert non_duplicates(((0,0),(0,0))) == False"
   ]
  },
  {
   "cell_type": "code",
   "execution_count": null,
   "metadata": {
    "deletable": false,
    "editable": false,
    "nbgrader": {
     "checksum": "2420d6d1e93b0ed519335ca1796bb4ad",
     "grade": true,
     "grade_id": "cell-6a3b8ea4640d3054",
     "locked": true,
     "points": 3,
     "schema_version": 1,
     "solution": false
    }
   },
   "outputs": [],
   "source": [
    "## Let's test the get_cartesian(x) implementation (3 Points)\n",
    "\n",
    "test_rdd = sc.parallelize([(1,0), (2,0), (3,0)])\n",
    "assert get_cartesian(test_rdd).collect() == [((1, 0), (2, 0)), ((1, 0), (3, 0)), ((2, 0), (1, 0)), ((2, 0), (3, 0)), ((3, 0), (1, 0)), ((3, 0), (2, 0))]\n",
    "assert isinstance(get_cartesian(test_rdd), RDD) == True\n",
    "\n"
   ]
  },
  {
   "cell_type": "code",
   "execution_count": null,
   "metadata": {
    "deletable": false,
    "nbgrader": {
     "checksum": "585974f3e13058d184a5f1d461e2281e",
     "grade": false,
     "grade_id": "Collinear-slope",
     "locked": false,
     "schema_version": 1,
     "solution": true
    }
   },
   "outputs": [],
   "source": [
    "\n",
    "def find_slope(x):\n",
    "    \"\"\"\n",
    "    Computes slope between points A and B.\n",
    "    \n",
    "    input: Pair (A,B) where A and B are of form (Ax, Ay) and (Bx, By) respectively. Example input: ((1,2),(3,4))\n",
    "    output: Pair ((A,slope), B). Where, A and B have the same definition as input, \n",
    "            and slope refers to the slope of the line segment connecting point A and B. Example output: (((1,2),1),(3,4))\n",
    "    \n",
    "    NOTE: If Ax == Bx, use slope as \"inf\".\n",
    "    \"\"\"\n",
    "    # YOUR CODE HERE\n",
    "    raise NotImplementedError()\n",
    "\n",
    "\n",
    "\n",
    "def find_collinear(rdd):\n",
    "    \n",
    "    \"\"\"\n",
    "    Finds collinear points.\n",
    "    \n",
    "    Input is an RDD (which is the output of the get_cartesian() function. \n",
    "    \n",
    "    Output is an RDD which does the below operations:\n",
    "    \n",
    "    1. Find the slope of the line between all pairs of points A = (Ax, Ay) and B = (Bx, By).\n",
    "    2. For each (A, B), find all points C = ((C1x, C1y), (C2x, C2y), ... (Cnx, Cny)) \n",
    "       where slope of (A,B) = slope of (A, Ci).\n",
    "    3. Return (A, B, Ck) where Ck = all points of C which satisfy the condition 1.\n",
    "    \n",
    "    For an example, refer the assert statement test for this function.\n",
    "    \n",
    "    HINT:   You should use the above helper functions in conjunction with Spark RDD API (refer http://spark.apache.org/docs/latest/api/python/pyspark.html?highlight=rdd#pyspark.RDD)\n",
    "            Finally, use helper function format_result() appropriately from inside this function after you have implemented the above operations.\n",
    "    \"\"\"\n",
    "    # YOUR CODE HERE\n",
    "    raise NotImplementedError()"
   ]
  },
  {
   "cell_type": "code",
   "execution_count": null,
   "metadata": {
    "deletable": false,
    "editable": false,
    "nbgrader": {
     "checksum": "31c23fc61ea4bcd00c16ec8da639259a",
     "grade": true,
     "grade_id": "cell-1bce370d2316341e",
     "locked": true,
     "points": 3,
     "schema_version": 1,
     "solution": false
    }
   },
   "outputs": [],
   "source": [
    "## Let's test the find_slope(x) implementation (3 Points)\n",
    "\n",
    "assert find_slope(((1,2),(3,4))) == (((1,2),1),(3,4))\n",
    "assert find_slope(((1,2),(1,5))) == (((1,2),\"inf\"),(1,5))\n",
    "assert find_slope(((1,2),(2,5))) == (((1,2),3),(2,5))\n",
    "assert find_slope(((1,2),(-7,-2)))[0][1] == 0.5\n"
   ]
  },
  {
   "cell_type": "code",
   "execution_count": null,
   "metadata": {
    "deletable": false,
    "editable": false,
    "nbgrader": {
     "checksum": "88ad0d6eb7b7d66451dcbae09aa732db",
     "grade": true,
     "grade_id": "cell-1506984d3ea630f3",
     "locked": true,
     "points": 5,
     "schema_version": 1,
     "solution": false
    }
   },
   "outputs": [],
   "source": [
    "## Let's test the find_collinear(rdd) implementation (5 Points)\n",
    "\n",
    "test_rdd = sc.parallelize([((4, 2), (2, 1)), ((4, 2), (-3, 4)), ((4, 2), (6, 3)), ((2, 1), (4, 2)), ((2, 1), (-3, 4)), ((2, 1), (6, 3)), ((-3, 4), (4, 2)), ((-3, 4), (2, 1)), ((-3, 4), (6, 3)), ((6, 3), (4, 2)), ((6, 3), (2, 1)), ((6, 3), (-3, 4))])\n",
    "assert find_collinear(test_rdd).collect() == [((4, 2), (6, 3), (2, 1)), ((2, 1), (6, 3), (4, 2)), ((4, 2), (2, 1), (6, 3))]\n",
    "assert isinstance(find_collinear(test_rdd), RDD) == True\n",
    "\n"
   ]
  },
  {
   "cell_type": "code",
   "execution_count": null,
   "metadata": {
    "deletable": false,
    "editable": false,
    "nbgrader": {
     "checksum": "c4713b4dcc936dd0a1aa71fb7c5a8611",
     "grade": true,
     "grade_id": "cell-bfd990be780ce6a8",
     "locked": true,
     "points": 2,
     "schema_version": 1,
     "solution": false
    }
   },
   "outputs": [],
   "source": [
    "## Let's test find_collinear(rdd) when run with output of get_cartesian(rdd) (2 Points)\n",
    "\n",
    "test_rdd = sc.parallelize([(4, -2), (2, -1), (-3,4), (6,3), (-9,4), (6, -3), (8,-4), (6,9)])\n",
    "test_rdd = get_cartesian(test_rdd)\n",
    "assert find_collinear(test_rdd).collect() == [((6, -3), (6, 9), (6, 3)), ((4, -2), (2, -1), (8, -4), (6, -3)), ((2, -1), (6, -3), (8, -4), (4, -2)), ((6, 3), (6, 9), (6, -3)), ((4, -2), (6, -3), (8, -4), (2, -1)), ((6, 3), (6, -3), (6, 9)), ((4, -2), (2, -1), (6, -3), (8, -4))]\n"
   ]
  },
  {
   "cell_type": "markdown",
   "metadata": {},
   "source": [
    "### The cell below runs all of the above functions step by step. You are again neither required to nor encouraged to change the definitions of these functions."
   ]
  },
  {
   "cell_type": "code",
   "execution_count": null,
   "metadata": {
    "deletable": false,
    "editable": false,
    "nbgrader": {
     "checksum": "57b95110bc6ec968c676546beb61a0cf",
     "grade": false,
     "grade_id": "Collinear-main",
     "locked": true,
     "schema_version": 1,
     "solution": false
    }
   },
   "outputs": [],
   "source": [
    "def get_collinear(filename):\n",
    "    \"\"\"\n",
    "    Computes the set of collinear points\n",
    "    \"\"\"\n",
    "    \n",
    "    # Load the data file into an RDD\n",
    "    rdd = sc.textFile(filename)\n",
    "    \n",
    "    # Transform the loaded points into tuples\n",
    "    rdd = rdd.map(to_tuple)\n",
    "    \n",
    "    # Transform the RDD to now have the cartesian product of the RDD with itself\n",
    "    rdd = get_cartesian(rdd)\n",
    "    \n",
    "    # Transform the RDD to now just have sets of Collinear Points \n",
    "    rdd = find_collinear(rdd)\n",
    "    \n",
    "    # Sorting each of your returned sets of collinear points. This is for grading purposes. You may ignore this.\n",
    "    rdd = rdd.map(to_sorted_points)\n",
    "    \n",
    "    # Collecting the collinear points RDD in a set to remove duplicate sets of collinear points. This is for grading purposes. You may ignore this.\n",
    "    res = set(rdd.collect())\n",
    "    \n",
    "    return res"
   ]
  },
  {
   "cell_type": "code",
   "execution_count": null,
   "metadata": {
    "deletable": false,
    "editable": false,
    "nbgrader": {
     "checksum": "c28f54642e156f3ad7acec8672173528",
     "grade": true,
     "grade_id": "Collinear_soln",
     "locked": false,
     "points": 10,
     "schema_version": 1,
     "solution": false
    }
   },
   "outputs": [],
   "source": [
    "\"\"\"\n",
    "    Check that the get_collinear() function returns the correct output for several input files.\n",
    "    You may assume that input files do not have duplicate points. (10 points)\n",
    "    \n",
    "\"\"\"\n",
    "assert get_collinear(\"data.txt\") == {((-2, -2), (1, 1), (2, 2), (3, 3)), ((0, 1), (3, 4), (5, 6)), ((0, -3), (0, 1), (0, 5))}\n",
    "assert get_collinear(\"data50.txt\") == {((3, 6), (7, 4), (9, 3)), ((1, 6), (3, 6), (4, 6), (7, 6)), \n",
    "                                 ((0, 2), (3, 1), (6, 0)), ((1, 0), (2, 0), (5, 0), (6, 0)), \n",
    "                                 ((1, 3), (3, 6), (5, 9)), ((0, 8), (4, 6), (6, 5)), \n",
    "                                 ((6, 0), (6, 1), (6, 5), (6, 9)), \n",
    "                                 ((7, 2), (7, 3), (7, 4), (7, 6), (7, 8)), ((3, 1), (3, 3), (3, 6)), \n",
    "                                 ((0, 2), (1, 2), (5, 2), (7, 2)), ((0, 3), (2, 5), (3, 6), (6, 9)), \n",
    "                                 ((0, 2), (1, 3), (2, 4), (4, 6), (5, 7)), ((1, 2), (4, 3), (7, 4)), \n",
    "                                 ((0, 3), (4, 6), (8, 9)), ((9, 3), (9, 4), (9, 5)), ((2, 5), (5, 7), (8, 9)), \n",
    "                                 ((0, 5), (2, 4), (4, 3), (8, 1)), ((0, 8), (1, 6), (2, 4)), \n",
    "                                 ((3, 6), (5, 2), (6, 0)), ((5, 9), (6, 9), (8, 9)), \n",
    "                                 ((0, 8), (1, 8), (7, 8)), ((0, 4), (1, 3), (3, 1)), ((5, 9), (7, 6), (9, 3)), \n",
    "                                 ((1, 2), (2, 4), (3, 6)), ((0, 7), (1, 5), (3, 1)), \n",
    "                                 ((1, 5), (2, 4), (3, 3), (6, 0)), ((0, 2), (3, 3), (9, 5)), \n",
    "                                 ((0, 7), (1, 6), (2, 5), (4, 3), (5, 2), (6, 1)), \n",
    "                                 ((0, 4), (1, 5), (5, 9)), ((1, 5), (3, 6), (5, 7), (7, 8)), \n",
    "                                 ((1, 6), (3, 3), (5, 0)), ((3, 6), (4, 3), (5, 0)), \n",
    "                                 ((1, 2), (4, 5), (7, 8), (8, 9)), ((0, 2), (1, 1), (2, 0)), \n",
    "                                 ((3, 3), (4, 5), (5, 7), (6, 9)), ((0, 2), (0, 3), (0, 4), (0, 5), (0, 7), (0, 8)), \n",
    "                                 ((2, 0), (4, 3), (8, 9)), ((5, 7), (6, 5), (7, 3), (8, 1)), ((5, 0), (7, 6), (8, 9)), \n",
    "                                 ((5, 0), (6, 1), (7, 2), (9, 4)), ((0, 4), (1, 2), (2, 0)), \n",
    "                                 ((1, 1), (3, 1), (6, 1), (8, 1)), ((5, 7), (7, 6), (9, 5)), ((1, 1), (7, 4), (9, 5)), \n",
    "                                 ((0, 4), (2, 4), (7, 4), (9, 4)), ((1, 0), (3, 1), (5, 2), (7, 3), (9, 4)), \n",
    "                                 ((2, 0), (3, 3), (4, 6), (5, 9)), ((4, 3), (4, 5), (4, 6)), \n",
    "                                 ((1, 0), (4, 3), (6, 5), (7, 6)), ((0, 3), (2, 4), (4, 5)), \n",
    "                                 ((1, 6), (4, 5), (7, 4)), ((1, 0), (1, 1), (1, 2), (1, 3), (1, 5), (1, 6), (1, 8)), \n",
    "                                 ((0, 3), (1, 3), (3, 3), (4, 3), (7, 3), (9, 3)), ((0, 4), (2, 5), (4, 6)), \n",
    "                                 ((0, 7), (3, 6), (6, 5), (9, 4)), ((1, 8), (4, 6), (7, 4)), \n",
    "                                 ((0, 5), (3, 3), (6, 1)), ((1, 8), (3, 6), (4, 5), (7, 2), (8, 1)), \n",
    "                                 ((1, 2), (3, 1), (5, 0)), ((1, 1), (5, 2), (9, 3)), \n",
    "                                 ((5, 0), (5, 2), (5, 7), (5, 9)), ((0, 5), (1, 5), (2, 5), (4, 5), (6, 5), (9, 5)), \n",
    "                                 ((3, 1), (4, 5), (5, 9)), ((2, 0), (2, 4), (2, 5)), ((5, 2), (6, 5), (7, 8))}\n",
    "\n"
   ]
  },
  {
   "cell_type": "code",
   "execution_count": null,
   "metadata": {
    "deletable": false,
    "editable": false,
    "nbgrader": {
     "checksum": "023181c8c2bfbd6f80c44b0f9ac311b6",
     "grade": true,
     "grade_id": "Collinear_invalid_input",
     "locked": false,
     "points": 0,
     "schema_version": 1,
     "solution": false
    }
   },
   "outputs": [],
   "source": [
    "## TODO: Not sure we need this cell in the released HW. If not, please delete it.\n",
    "\n",
    "## 0 points\n",
    "\"\"\"Check that the get_collinear() function raises an error for invalid input files\"\"\"\n",
    "try:\n",
    "    get_collinear(\"data.txt\")\n",
    "except ValueError:\n",
    "    raise AssertionError(\"Data points do not match the expected format.\")\n",
    "else:\n",
    "    pass"
   ]
  }
 ],
 "metadata": {
  "kernelspec": {
   "display_name": "Python 3",
   "language": "python",
   "name": "python3"
  },
  "language_info": {
   "codemirror_mode": {
    "name": "ipython",
    "version": 3
   },
   "file_extension": ".py",
   "mimetype": "text/x-python",
   "name": "python",
   "nbconvert_exporter": "python",
   "pygments_lexer": "ipython3",
   "version": "3.6.4"
  }
 },
 "nbformat": 4,
 "nbformat_minor": 1
}
