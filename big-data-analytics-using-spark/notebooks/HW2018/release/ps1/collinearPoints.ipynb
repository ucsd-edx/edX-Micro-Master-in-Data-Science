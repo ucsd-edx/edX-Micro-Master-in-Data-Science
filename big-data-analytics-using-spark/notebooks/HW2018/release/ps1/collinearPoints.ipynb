{
 "cells": [
  {
   "cell_type": "markdown",
   "metadata": {
    "deletable": false,
    "editable": false,
    "nbgrader": {
     "checksum": "666210e856d67a1216c0a1feb180f15c",
     "grade": false,
     "grade_id": "cell-601b4a206f8f71fd",
     "locked": true,
     "schema_version": 1,
     "solution": false
    }
   },
   "source": [
    "## CSE 255 Problem Set 1: Collinear points\n",
    "\n",
    "For this problem set, we'll be using the Jupyter notebook:\n",
    "\n",
    "![](jupyter.png)"
   ]
  },
  {
   "cell_type": "markdown",
   "metadata": {
    "deletable": false,
    "editable": false,
    "nbgrader": {
     "checksum": "b5c24ac108550a2d208232d39ba96e3d",
     "grade": false,
     "grade_id": "cell-1f0aaa1b0eeb62ff",
     "locked": true,
     "schema_version": 1,
     "solution": false
    }
   },
   "source": [
    "### In this problem set, you will write python3 code to find sets of collinear points given __ 2D points.\n",
    "\n",
    "Definition of collinearity[1]: In geometry, collinearity of a set of points is the property of their lying on a single line. A set of points with this property is said to be collinear.\n",
    "\n",
    "![](non-collinear-points.jpg)[2]\n",
    "\n",
    "Here, points P,Q,R and A,R,B are collinear. However, points A,B,C are non-collinear.\n",
    "\n",
    "For instance, if given points: {(1,1),(0,1),(2,2),(3,3),(0,5),(3,4),(5,6),(0,-3),(-2,-2)}\n",
    "\n",
    "Sets of collinear points are: { {(0,1),(0,5),(0,-3)}, {(1,1),(2,2),(3,3),(-2,-2)} }. Note that the ordering of points within each set is irrelevant. Also, the order of sets does not matter. Besides, every set has to have atleast three points (single point or a pair of points always lie on a line). s\n",
    "\n",
    "### TODO: Make changes as required\n",
    "Outline of the problem set:\n",
    "\n",
    "Part A: Load the data.\n",
    "\n",
    "Part B: Remove duplicates.\n",
    "\n",
    "Part C: Sort the data?s\n",
    "\n",
    "Part D: Write logic to find collinear points.\n",
    "\n",
    "Part E: Submit this notebook.\n",
    "\n",
    "1. https://en.wikipedia.org/wiki/Collinearity\n",
    "2. http://www.mathcaptain.com/geometry/collinear-points.html"
   ]
  },
  {
   "cell_type": "markdown",
   "metadata": {
    "deletable": false,
    "editable": false,
    "nbgrader": {
     "checksum": "64eb44d8d62dc2096bf1f0d4c2d170ac",
     "grade": false,
     "grade_id": "cell-f5cf60bc3f0be391",
     "locked": true,
     "schema_version": 1,
     "solution": false
    }
   },
   "source": [
    "## Points of concerns for TAs (keep adding stuff as you go along)\n",
    "\n",
    "1. What should be the input format? Should we give them a file containing a bunch of 2D points?\n",
    "2. Do we let them import any library they want or enforce it?\n"
   ]
  },
  {
   "cell_type": "code",
   "execution_count": 1,
   "metadata": {
    "collapsed": true,
    "deletable": false,
    "editable": false,
    "nbgrader": {
     "checksum": "392dc4f35178d6147b71cda353eabdf5",
     "grade": false,
     "grade_id": "cell-6ba832098a121a5e",
     "locked": true,
     "schema_version": 1,
     "solution": false
    }
   },
   "outputs": [],
   "source": [
    "## generate data points that go in the data input file for students\n",
    "\n",
    "from itertools import product\n",
    "import numpy as np\n",
    "\n",
    "l = list(product(range(-400,400,np.random.randint(21)), range(-400,400,np.random.randint(20))))"
   ]
  },
  {
   "cell_type": "code",
   "execution_count": 2,
   "metadata": {
    "collapsed": true,
    "deletable": false,
    "editable": false,
    "nbgrader": {
     "checksum": "0b0b4c10e07b99523e790273bebf1317",
     "grade": false,
     "grade_id": "cell-5f266efcf9bf6846",
     "locked": true,
     "schema_version": 1,
     "solution": false
    }
   },
   "outputs": [],
   "source": [
    "from pyspark import SparkContext, SparkConf\n",
    "conf = SparkConf().setAppName(\"Collinear Points\").setMaster(\"local[4]\")\n",
    "sc = SparkContext(conf=conf)"
   ]
  },
  {
   "cell_type": "markdown",
   "metadata": {
    "deletable": false,
    "editable": false,
    "nbgrader": {
     "checksum": "60dcface89e1a195175bc6d32c01a916",
     "grade": false,
     "grade_id": "cell-4d295f07b42e57cb",
     "locked": true,
     "schema_version": 1,
     "solution": false
    }
   },
   "source": [
    "---\n",
    "## Part A: Load the data (2 points)\n",
    "\n",
    "\n",
    "Write a function that returns a list of numbers, such that $x_i=i^2$, for $1\\leq i \\leq n$. Make sure it handles the case where $n<1$ by raising a `ValueError`."
   ]
  },
  {
   "cell_type": "code",
   "execution_count": null,
   "metadata": {
    "collapsed": true,
    "deletable": false,
    "nbgrader": {
     "checksum": "dd4af2389ffb74d8b4c479c8bea92dc4",
     "grade": false,
     "grade_id": "squares",
     "locked": false,
     "schema_version": 1,
     "solution": true
    }
   },
   "outputs": [],
   "source": [
    "# YOUR CODE HERE\n",
    "raise NotImplementedError()\n",
    "\n",
    "def get_collinear(filename):\n",
    "    \"\"\"Compute the set of collinear points where each set of points is sorted\"\"\"\n",
    "    rdd = sc.textFile(filename)\n",
    "    # YOUR CODE HERE\n",
    "    raise NotImplementedError()"
   ]
  },
  {
   "cell_type": "markdown",
   "metadata": {},
   "source": [
    "Your function should print `[1, 4, 9, 16, 25, 36, 49, 64, 81, 100]` for $n=10$. Check that it does:"
   ]
  },
  {
   "cell_type": "code",
   "execution_count": null,
   "metadata": {
    "collapsed": true,
    "deletable": false,
    "editable": false,
    "nbgrader": {
     "checksum": "9f04fbdf6690bf66ff94ef0912467b39",
     "grade": true,
     "grade_id": "correct_squares",
     "locked": false,
     "points": 1,
     "schema_version": 1,
     "solution": false
    }
   },
   "outputs": [],
   "source": [
    "\"\"\"Check that the get_collinear function returns the correct output for several all input files\"\"\"\n",
    "assert get_collinear(\"data.txt\") == {((-2, -2), (1, 1), (2, 2), (3, 3)), ((0, -3), (0, 1), (0, 5)), ((0, 1), (3, 4), (5, 6))}\n"
   ]
  },
  {
   "cell_type": "code",
   "execution_count": null,
   "metadata": {
    "collapsed": true,
    "deletable": false,
    "editable": false,
    "nbgrader": {
     "checksum": "a3a464bd9542196327c8fd90beab8d21",
     "grade": true,
     "grade_id": "squares_invalid_input",
     "locked": false,
     "points": 1,
     "schema_version": 1,
     "solution": false
    }
   },
   "outputs": [],
   "source": [
    "\"\"\"Check that the get_collinear function raises an error for invalid input files\"\"\"\n",
    "try:\n",
    "    get_collinear(\"data.txt\")\n",
    "except ValueError:\n",
    "    pass\n",
    "else:\n",
    "    raise AssertionError(\"did not raise\")"
   ]
  }
 ],
 "metadata": {
  "kernelspec": {
   "display_name": "Python 2",
   "language": "python",
   "name": "python2"
  },
  "language_info": {
   "codemirror_mode": {
    "name": "ipython",
    "version": 2
   },
   "file_extension": ".py",
   "mimetype": "text/x-python",
   "name": "python",
   "nbconvert_exporter": "python",
   "pygments_lexer": "ipython2",
   "version": "2.7.13"
  }
 },
 "nbformat": 4,
 "nbformat_minor": 1
}
