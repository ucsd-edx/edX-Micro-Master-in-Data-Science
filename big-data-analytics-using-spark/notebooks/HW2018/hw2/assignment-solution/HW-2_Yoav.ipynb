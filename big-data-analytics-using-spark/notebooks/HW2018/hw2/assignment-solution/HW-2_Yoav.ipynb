{
 "cells": [
  {
   "cell_type": "markdown",
   "metadata": {},
   "source": [
    "# Homework 2\n",
    "\n",
    "In this homework, we are going to play with Twitter data.\n",
    "\n",
    "The data is represented as rows of of [JSON](https://en.wikipedia.org/wiki/JSON#Example) strings.\n",
    "It consists of [tweets](https://dev.twitter.com/overview/api/tweets), [messages](https://dev.twitter.com/streaming/overview/messages-types), and a small amount of broken data (cannot be parsed as JSON).\n",
    "\n",
    "For this homework, we will only focus on tweets and ignore all other messages.\n",
    "\n",
    "\n",
    "## Tweets\n",
    "\n",
    "A tweet consists of many data fields. [Here is an example](https://gist.github.com/arapat/03d02c9b327e6ff3f6c3c5c602eeaf8b). You can learn all about them in the Twitter API doc. We are going to briefly introduce only the data fields that will be used in this homework.\n",
    "\n",
    "* `created_at`: Posted time of this tweet (time zone is included)\n",
    "* `id_str`: Tweet ID - we recommend using `id_str` over using `id` as Tweet IDs, becauase `id` is an integer and may bring some overflow problems.\n",
    "* `text`: Tweet content\n",
    "* `user`: A JSON object for information about the author of the tweet\n",
    "    * `id_str`: User ID\n",
    "    * `name`: User name (may contain spaces)\n",
    "    * `screen_name`: User screen name (no spaces)\n",
    "* `retweeted_status`: A JSON object for information about the retweeted tweet (i.e. this tweet is not original but retweeteed some other tweet)\n",
    "    * All data fields of a tweet except `retweeted_status`\n",
    "* `entities`: A JSON object for all entities in this tweet\n",
    "    * `hashtags`: An array for all the hashtags that are mentioned in this tweet\n",
    "    * `urls`: An array for all the URLs that are mentioned in this tweet\n",
    "\n",
    "\n",
    "## Data source\n",
    "\n",
    "All tweets are collected using the [Twitter Streaming API](https://dev.twitter.com/streaming/overview).\n",
    "\n",
    "\n",
    "## Users partition\n",
    "\n",
    "Besides the original tweets, we will provide you with a Pickle file, which contains a partition over 452,743 Twitter users. It contains a Python dictionary `{user_id: partition_id}`. The users are partitioned into 7 groups."
   ]
  },
  {
   "cell_type": "markdown",
   "metadata": {},
   "source": [
    "# Part 0: Load data to a RDD"
   ]
  },
  {
   "cell_type": "markdown",
   "metadata": {},
   "source": [
    "The tweets data is stored on AWS S3. We have in total a little over 1 TB of tweets. We provide 10 MB of tweets for your local development. For the testing and grading on the homework server, we will use different data.\n",
    "\n",
    "## Testing on the homework server\n",
    "In the Playground, we provide two different input sizes to test your program: 1 GB and 10 GB.\n",
    "\n",
    "\n",
    "For submission, make sure to read files list from `./hw2-files.txt`. Otherwise your program will receive no points.\n",
    "\n",
    "## Local test\n",
    "\n",
    "For local testing, please create your own `hw2-files.txt` file, which contains a file path on the local disk, e.g.\n",
    "`file://<absolute_path_to_current_directory>/hw2-files-10mb.txt`. For final submission, we will create this file on our server for testing. If your implementation is correct, you should not worry about which file system (i.e. local file system or HDFS) Spark will read data from.\n",
    "\n",
    "Now let's see how many lines there are in the input files.\n",
    "\n",
    "1. Make RDD from the list of files in `hw2-files.txt`.\n",
    "2. Mark the RDD to be cached (so in next operation data will be loaded in memory) \n",
    "3. call the `print_count` method to print number of lines in all these files\n",
    "\n",
    "It should print\n",
    "```\n",
    "Number of elements: 2150\n",
    "```"
   ]
  },
  {
   "cell_type": "code",
   "execution_count": 32,
   "metadata": {
    "ExecuteTime": {
     "end_time": "2018-04-10T17:16:23.778147Z",
     "start_time": "2018-04-10T17:16:23.774971Z"
    }
   },
   "outputs": [],
   "source": [
    "from time import time\n",
    "times=[]\n",
    "def push_time(name):\n",
    "    times.append((name,time()))"
   ]
  },
  {
   "cell_type": "code",
   "execution_count": 1,
   "metadata": {
    "ExecuteTime": {
     "end_time": "2018-04-10T16:57:55.694952Z",
     "start_time": "2018-04-10T16:57:55.692365Z"
    }
   },
   "outputs": [],
   "source": [
    "def print_count(rdd):\n",
    "    print('Number of elements:', rdd.count())"
   ]
  },
  {
   "cell_type": "code",
   "execution_count": 2,
   "metadata": {
    "ExecuteTime": {
     "end_time": "2018-04-10T16:58:08.804477Z",
     "start_time": "2018-04-10T16:58:05.372680Z"
    }
   },
   "outputs": [],
   "source": [
    "from pyspark import SparkContext\n",
    "\n",
    "sc = SparkContext()"
   ]
  },
  {
   "cell_type": "code",
   "execution_count": 33,
   "metadata": {
    "ExecuteTime": {
     "end_time": "2018-04-10T17:17:48.147291Z",
     "start_time": "2018-04-10T17:17:46.971458Z"
    }
   },
   "outputs": [
    {
     "name": "stdout",
     "output_type": "stream",
     "text": [
      "  % Total    % Received % Xferd  Average Speed   Time    Time     Time  Current\n",
      "                                 Dload  Upload   Total   Spent    Left  Speed\n",
      "100 10.0M  100 10.0M    0     0  9969k      0  0:00:01  0:00:01 --:--:-- 9969k\n"
     ]
    },
    {
     "data": {
      "text/plain": [
       "[('start', 1523380666.973066), ('copied from s3', 1523380668.143543)]"
      ]
     },
     "execution_count": 33,
     "metadata": {},
     "output_type": "execute_result"
    }
   ],
   "source": [
    "push_time('start')\n",
    "!curl https://mas-dse-open.s3.amazonaws.com/Twitter/hw2-files-10mb.txt > hw2-data.txt\n",
    "push_time('copied from s3')\n",
    "times"
   ]
  },
  {
   "cell_type": "code",
   "execution_count": 5,
   "metadata": {
    "ExecuteTime": {
     "end_time": "2018-04-10T17:02:09.002871Z",
     "start_time": "2018-04-10T17:02:08.994237Z"
    }
   },
   "outputs": [
    {
     "name": "stdout",
     "output_type": "stream",
     "text": [
      "Writing hw2-files.txt\n"
     ]
    }
   ],
   "source": [
    "%%writefile hw2-files.txt\n",
    "hw2-data.txt"
   ]
  },
  {
   "cell_type": "code",
   "execution_count": 6,
   "metadata": {
    "ExecuteTime": {
     "end_time": "2018-04-10T17:02:13.054014Z",
     "start_time": "2018-04-10T17:02:11.154082Z"
    }
   },
   "outputs": [
    {
     "name": "stdout",
     "output_type": "stream",
     "text": [
      "Number of elements: 2150\n"
     ]
    }
   ],
   "source": [
    "# Your code here\n",
    "\n",
    "with open('./hw2-files.txt') as f:\n",
    "    files = [w.strip() for w in f.readlines() if w.strip()]\n",
    "raw_data = sc.textFile(','.join(files)).cache()\n",
    "\n",
    "print_count(raw_data)"
   ]
  },
  {
   "cell_type": "markdown",
   "metadata": {},
   "source": [
    "# Part 1: Parse JSON strings to JSON objects"
   ]
  },
  {
   "cell_type": "markdown",
   "metadata": {},
   "source": [
    "Python has built-in support for JSON."
   ]
  },
  {
   "cell_type": "code",
   "execution_count": 7,
   "metadata": {
    "ExecuteTime": {
     "end_time": "2018-04-10T17:02:19.779465Z",
     "start_time": "2018-04-10T17:02:19.768559Z"
    }
   },
   "outputs": [
    {
     "data": {
      "text/plain": [
       "{'id': 1, 'name': 'A green door', 'price': 12.5, 'tags': ['home', 'green']}"
      ]
     },
     "execution_count": 7,
     "metadata": {},
     "output_type": "execute_result"
    }
   ],
   "source": [
    "import json\n",
    "\n",
    "json_example = '''\n",
    "{\n",
    "    \"id\": 1,\n",
    "    \"name\": \"A green door\",\n",
    "    \"price\": 12.50,\n",
    "    \"tags\": [\"home\", \"green\"]\n",
    "}\n",
    "'''\n",
    "\n",
    "json_obj = json.loads(json_example)\n",
    "json_obj"
   ]
  },
  {
   "cell_type": "markdown",
   "metadata": {},
   "source": [
    "## Broken tweets and irrelevant messages\n",
    "\n",
    "The data of this assignment may contain broken tweets (invalid JSON strings). So make sure that your code is robust for such cases.\n",
    "\n",
    "In addition, some lines in the input file might not be tweets, but messages that the Twitter server sent to the developer (such as [limit notices](https://dev.twitter.com/streaming/overview/messages-types#limit_notices)). Your program should also ignore these messages.\n",
    "\n",
    "*Hint:* [Catch the ValueError](http://stackoverflow.com/questions/11294535/verify-if-a-string-is-json-in-python)\n",
    "\n",
    "\n",
    "(1) Parse raw JSON tweets to obtain valid JSON objects. From all valid tweets, construct a pair RDD of `(user_id, text)`, where `user_id` is the `id_str` data field of the `user` dictionary (read [Tweets](#Tweets) section above), `text` is the `text` data field."
   ]
  },
  {
   "cell_type": "code",
   "execution_count": 8,
   "metadata": {
    "ExecuteTime": {
     "end_time": "2018-04-10T17:02:29.637205Z",
     "start_time": "2018-04-10T17:02:29.632148Z"
    }
   },
   "outputs": [],
   "source": [
    "import json\n",
    "\n",
    "def safe_parse(raw_json):\n",
    "    try:\n",
    "        json_obj = json.loads(raw_json) # Not broken\n",
    "        json_obj[\"created_at\"] # Not a message\n",
    "        return json_obj\n",
    "    except:\n",
    "        return None"
   ]
  },
  {
   "cell_type": "code",
   "execution_count": 9,
   "metadata": {
    "ExecuteTime": {
     "end_time": "2018-04-10T17:02:31.849377Z",
     "start_time": "2018-04-10T17:02:31.831765Z"
    }
   },
   "outputs": [],
   "source": [
    "tweets = raw_data.map(safe_parse) \\\n",
    "                 .filter(lambda p: p) \\\n",
    "                 .map(lambda p: (p['user']['id_str'], p['text'])) \\\n",
    "                 .cache()"
   ]
  },
  {
   "cell_type": "markdown",
   "metadata": {},
   "source": [
    "(2) Count the number of different users in all valid tweets (hint: [the `distinct()` method](https://spark.apache.org/docs/latest/programming-guide.html#transformations)).\n",
    "\n",
    "It should print\n",
    "```\n",
    "The number of unique users is: 1748\n",
    "```"
   ]
  },
  {
   "cell_type": "code",
   "execution_count": 12,
   "metadata": {
    "ExecuteTime": {
     "end_time": "2018-04-10T17:03:20.720885Z",
     "start_time": "2018-04-10T17:03:20.718277Z"
    }
   },
   "outputs": [],
   "source": [
    "def print_users_count(count):\n",
    "    print('The number of unique users is:', count)"
   ]
  },
  {
   "cell_type": "code",
   "execution_count": 13,
   "metadata": {
    "ExecuteTime": {
     "end_time": "2018-04-10T17:03:22.551221Z",
     "start_time": "2018-04-10T17:03:22.445732Z"
    }
   },
   "outputs": [
    {
     "name": "stdout",
     "output_type": "stream",
     "text": [
      "The number of unique users is: 1748\n"
     ]
    }
   ],
   "source": [
    "users = tweets.map(lambda user_text: user_text[0]).distinct()\n",
    "print_users_count(users.count())"
   ]
  },
  {
   "cell_type": "markdown",
   "metadata": {},
   "source": [
    "# Part 2: Number of posts from each user partition"
   ]
  },
  {
   "cell_type": "markdown",
   "metadata": {},
   "source": [
    "Load the Pickle file `/twitter/users-partition.pickle`, you will get a dictionary which represents a partition over 452,743 Twitter users, `{user_id: partition_id}`. The users are partitioned into 7 groups. For example, if the dictionary is loaded into a variable named `partition`, the partition ID of the user `59458445` is `partition[\"59458445\"]`. These users are partitioned into 7 groups. The partition ID is an integer between 0-6.\n",
    "\n",
    "Note that the user partition we provide doesn't cover all users appear in the input data."
   ]
  },
  {
   "cell_type": "markdown",
   "metadata": {},
   "source": [
    "(1) Load the pickle file.\n",
    "\n",
    "For local testing, you can load the pickle file from the local file system, namely\n",
    "\n",
    "```\n",
    "proc = subprocess.Popen([\"cat\", \"./users-partition.pickle\"],\n",
    "                        stdout=subprocess.PIPE)\n",
    "pickle_content = proc.communicate()[0]\n",
    "```\n",
    "However, for submission, please keep following code block unchanged, since on the server the pickle file is located on the HDFS."
   ]
  },
  {
   "cell_type": "code",
   "execution_count": 15,
   "metadata": {
    "ExecuteTime": {
     "end_time": "2018-04-10T17:06:23.017328Z",
     "start_time": "2018-04-10T17:06:22.887772Z"
    }
   },
   "outputs": [
    {
     "name": "stdout",
     "output_type": "stream",
     "text": [
      "../assignment/users-partition.pickle\r\n"
     ]
    }
   ],
   "source": [
    "!ls ../assignment/users-partition.pickle"
   ]
  },
  {
   "cell_type": "code",
   "execution_count": 16,
   "metadata": {
    "ExecuteTime": {
     "end_time": "2018-04-10T17:06:42.607872Z",
     "start_time": "2018-04-10T17:06:42.417057Z"
    }
   },
   "outputs": [
    {
     "data": {
      "text/plain": [
       "452743"
      ]
     },
     "execution_count": 16,
     "metadata": {},
     "output_type": "execute_result"
    }
   ],
   "source": [
    "EMR=False #change this line only if running on and EMR Cluster\n",
    "import subprocess\n",
    "import pickle\n",
    "if EMR:\n",
    "# You can load pickle_content from a file on the local file system while testing on your laptop\n",
    "    proc = subprocess.Popen([\"hadoop\", \"fs\", \"-cat\", \"/twitter/users-partition.pickle\"],\n",
    "                            stdout=subprocess.PIPE)\n",
    "    pickle_content = proc.communicate()[0]\n",
    "else: \n",
    "    proc = subprocess.Popen([\"cat\", \"../assignment/users-partition.pickle\"],\n",
    "                        stdout=subprocess.PIPE)\n",
    "    pickle_content = proc.communicate()[0]\n",
    "\n",
    "partition = pickle.loads(pickle_content)\n",
    "len(partition)"
   ]
  },
  {
   "cell_type": "markdown",
   "metadata": {},
   "source": [
    "(2) Count the number of posts from each user partition\n",
    "\n",
    "Count the number of posts from group 0, 1, ..., 6, plus the number of posts from users who are not in any partition. Assign users who are not in any partition to the group 7.\n",
    "\n",
    "Put the results of this step into a pair RDD `(group_id, count)` that is sorted by key."
   ]
  },
  {
   "cell_type": "code",
   "execution_count": 17,
   "metadata": {
    "ExecuteTime": {
     "end_time": "2018-04-10T17:07:02.918350Z",
     "start_time": "2018-04-10T17:07:00.182656Z"
    }
   },
   "outputs": [
    {
     "name": "stdout",
     "output_type": "stream",
     "text": [
      "[(0, 87), (1, 242), (2, 41), (3, 349), (4, 101), (5, 358), (6, 434), (7, 521)]\n"
     ]
    }
   ],
   "source": [
    "from operator import add\n",
    "\n",
    "counts = tweets.map(lambda user_text: (partition.get(user_text[0], 7), 1)) \\\n",
    "               .reduceByKey(add) \\\n",
    "               .sortByKey().collect()\n",
    "print(counts)"
   ]
  },
  {
   "cell_type": "markdown",
   "metadata": {},
   "source": [
    "(3) Print the post count using the `print_post_count` function we provided.\n",
    "\n",
    "It should print\n",
    "\n",
    "```\n",
    "Group 0 posted 87 tweets\n",
    "Group 1 posted 242 tweets\n",
    "Group 2 posted 41 tweets\n",
    "Group 3 posted 349 tweets\n",
    "Group 4 posted 101 tweets\n",
    "Group 5 posted 358 tweets\n",
    "Group 6 posted 434 tweets\n",
    "Group 7 posted 521 tweets\n",
    "```"
   ]
  },
  {
   "cell_type": "code",
   "execution_count": 18,
   "metadata": {
    "ExecuteTime": {
     "end_time": "2018-04-10T17:07:15.911893Z",
     "start_time": "2018-04-10T17:07:15.908770Z"
    }
   },
   "outputs": [],
   "source": [
    "def print_post_count(counts):\n",
    "    for group_id, count in counts:\n",
    "        print('Group %d posted %d tweets' % (group_id, count))"
   ]
  },
  {
   "cell_type": "code",
   "execution_count": 19,
   "metadata": {
    "ExecuteTime": {
     "end_time": "2018-04-10T17:07:17.999581Z",
     "start_time": "2018-04-10T17:07:17.995799Z"
    }
   },
   "outputs": [
    {
     "name": "stdout",
     "output_type": "stream",
     "text": [
      "Group 0 posted 87 tweets\n",
      "Group 1 posted 242 tweets\n",
      "Group 2 posted 41 tweets\n",
      "Group 3 posted 349 tweets\n",
      "Group 4 posted 101 tweets\n",
      "Group 5 posted 358 tweets\n",
      "Group 6 posted 434 tweets\n",
      "Group 7 posted 521 tweets\n"
     ]
    }
   ],
   "source": [
    "print_post_count(counts)"
   ]
  },
  {
   "cell_type": "markdown",
   "metadata": {
    "collapsed": true
   },
   "source": [
    "# Part 3:  Tokens that are relatively popular in each user partition"
   ]
  },
  {
   "cell_type": "markdown",
   "metadata": {
    "collapsed": true
   },
   "source": [
    "In this step, we are going to find tokens that are relatively popular in each user partition.\n",
    "\n",
    "We define the number of mentions of a token $t$ in a specific user partition $k$ as the number of users from the user partition $k$ that ever mentioned the token $t$ in their tweets. Note that even if some users might mention a token $t$ multiple times or in multiple tweets, a user will contribute at most 1 to the counter of the token $t$.\n",
    "\n",
    "Please make sure that the number of mentions of a token is equal to the number of users who mentioned this token but NOT the number of tweets that mentioned this token.\n",
    "\n",
    "Let $N_t^k$ be the number of mentions of the token $t$ in the user partition $k$. Let $N_t^{all} = \\sum_{i=0}^7 N_t^{i}$ be the number of total mentions of the token $t$.\n",
    "\n",
    "We define the relative popularity of a token $t$ in a user partition $k$ as the log ratio between $N_t^k$ and $N_t^{all}$, i.e. \n",
    "\n",
    "\\begin{equation}\n",
    "p_t^k = \\log \\frac{N_t^k}{N_t^{all}}.\n",
    "\\end{equation}\n",
    "\n",
    "\n",
    "You can compute the relative popularity by calling the function `get_rel_popularity`."
   ]
  },
  {
   "cell_type": "markdown",
   "metadata": {},
   "source": [
    "(0) Load the tweet tokenizer."
   ]
  },
  {
   "cell_type": "code",
   "execution_count": 20,
   "metadata": {
    "ExecuteTime": {
     "end_time": "2018-04-10T17:07:26.918958Z",
     "start_time": "2018-04-10T17:07:26.701950Z"
    }
   },
   "outputs": [],
   "source": [
    "#!/usr/bin/env python\n",
    "\n",
    "\"\"\"\n",
    "This code implements a basic, Twitter-aware tokenizer.\n",
    "\n",
    "A tokenizer is a function that splits a string of text into words. In\n",
    "Python terms, we map string and unicode objects into lists of unicode\n",
    "objects.\n",
    "\n",
    "There is not a single right way to do tokenizing. The best method\n",
    "depends on the application.  This tokenizer is designed to be flexible\n",
    "and this easy to adapt to new domains and tasks.  The basic logic is\n",
    "this:\n",
    "\n",
    "1. The tuple regex_strings defines a list of regular expression\n",
    "   strings.\n",
    "\n",
    "2. The regex_strings strings are put, in order, into a compiled\n",
    "   regular expression object called word_re.\n",
    "\n",
    "3. The tokenization is done by word_re.findall(s), where s is the\n",
    "   user-supplied string, inside the tokenize() method of the class\n",
    "   Tokenizer.\n",
    "\n",
    "4. When instantiating Tokenizer objects, there is a single option:\n",
    "   preserve_case.  By default, it is set to True. If it is set to\n",
    "   False, then the tokenizer will downcase everything except for\n",
    "   emoticons.\n",
    "\n",
    "The __main__ method illustrates by tokenizing a few examples.\n",
    "\n",
    "I've also included a Tokenizer method tokenize_random_tweet(). If the\n",
    "twitter library is installed (http://code.google.com/p/python-twitter/)\n",
    "and Twitter is cooperating, then it should tokenize a random\n",
    "English-language tweet.\n",
    "\n",
    "\n",
    "Julaiti Alafate:\n",
    "  I modified the regex strings to extract URLs in tweets.\n",
    "\"\"\"\n",
    "\n",
    "__author__ = \"Christopher Potts\"\n",
    "__copyright__ = \"Copyright 2011, Christopher Potts\"\n",
    "__credits__ = []\n",
    "__license__ = \"Creative Commons Attribution-NonCommercial-ShareAlike 3.0 Unported License: http://creativecommons.org/licenses/by-nc-sa/3.0/\"\n",
    "__version__ = \"1.0\"\n",
    "__maintainer__ = \"Christopher Potts\"\n",
    "__email__ = \"See the author's website\"\n",
    "\n",
    "######################################################################\n",
    "\n",
    "import re\n",
    "from html import entities \n",
    "\n",
    "######################################################################\n",
    "# The following strings are components in the regular expression\n",
    "# that is used for tokenizing. It's important that phone_number\n",
    "# appears first in the final regex (since it can contain whitespace).\n",
    "# It also could matter that tags comes after emoticons, due to the\n",
    "# possibility of having text like\n",
    "#\n",
    "#     <:| and some text >:)\n",
    "#\n",
    "# Most imporatantly, the final element should always be last, since it\n",
    "# does a last ditch whitespace-based tokenization of whatever is left.\n",
    "\n",
    "# This particular element is used in a couple ways, so we define it\n",
    "# with a name:\n",
    "emoticon_string = r\"\"\"\n",
    "    (?:\n",
    "      [<>]?\n",
    "      [:;=8]                     # eyes\n",
    "      [\\-o\\*\\']?                 # optional nose\n",
    "      [\\)\\]\\(\\[dDpP/\\:\\}\\{@\\|\\\\] # mouth      \n",
    "      |\n",
    "      [\\)\\]\\(\\[dDpP/\\:\\}\\{@\\|\\\\] # mouth\n",
    "      [\\-o\\*\\']?                 # optional nose\n",
    "      [:;=8]                     # eyes\n",
    "      [<>]?\n",
    "    )\"\"\"\n",
    "\n",
    "# The components of the tokenizer:\n",
    "regex_strings = (\n",
    "    # Phone numbers:\n",
    "    r\"\"\"\n",
    "    (?:\n",
    "      (?:            # (international)\n",
    "        \\+?[01]\n",
    "        [\\-\\s.]*\n",
    "      )?            \n",
    "      (?:            # (area code)\n",
    "        [\\(]?\n",
    "        \\d{3}\n",
    "        [\\-\\s.\\)]*\n",
    "      )?    \n",
    "      \\d{3}          # exchange\n",
    "      [\\-\\s.]*   \n",
    "      \\d{4}          # base\n",
    "    )\"\"\"\n",
    "    ,\n",
    "    # URLs:\n",
    "    r\"\"\"http[s]?://(?:[a-zA-Z]|[0-9]|[$-_@.&+]|[!*\\(\\),]|(?:%[0-9a-fA-F][0-9a-fA-F]))+\"\"\"\n",
    "    ,\n",
    "    # Emoticons:\n",
    "    emoticon_string\n",
    "    ,    \n",
    "    # HTML tags:\n",
    "     r\"\"\"<[^>]+>\"\"\"\n",
    "    ,\n",
    "    # Twitter username:\n",
    "    r\"\"\"(?:@[\\w_]+)\"\"\"\n",
    "    ,\n",
    "    # Twitter hashtags:\n",
    "    r\"\"\"(?:\\#+[\\w_]+[\\w\\'_\\-]*[\\w_]+)\"\"\"\n",
    "    ,\n",
    "    # Remaining word types:\n",
    "    r\"\"\"\n",
    "    (?:[a-z][a-z'\\-_]+[a-z])       # Words with apostrophes or dashes.\n",
    "    |\n",
    "    (?:[+\\-]?\\d+[,/.:-]\\d+[+\\-]?)  # Numbers, including fractions, decimals.\n",
    "    |\n",
    "    (?:[\\w_]+)                     # Words without apostrophes or dashes.\n",
    "    |\n",
    "    (?:\\.(?:\\s*\\.){1,})            # Ellipsis dots. \n",
    "    |\n",
    "    (?:\\S)                         # Everything else that isn't whitespace.\n",
    "    \"\"\"\n",
    "    )\n",
    "\n",
    "######################################################################\n",
    "# This is the core tokenizing regex:\n",
    "    \n",
    "word_re = re.compile(r\"\"\"(%s)\"\"\" % \"|\".join(regex_strings), re.VERBOSE | re.I | re.UNICODE)\n",
    "\n",
    "# The emoticon string gets its own regex so that we can preserve case for them as needed:\n",
    "emoticon_re = re.compile(regex_strings[1], re.VERBOSE | re.I | re.UNICODE)\n",
    "\n",
    "# These are for regularizing HTML entities to Unicode:\n",
    "html_entity_digit_re = re.compile(r\"&#\\d+;\")\n",
    "html_entity_alpha_re = re.compile(r\"&\\w+;\")\n",
    "amp = \"&amp;\"\n",
    "\n",
    "######################################################################\n",
    "\n",
    "class Tokenizer:\n",
    "    def __init__(self, preserve_case=False):\n",
    "        self.preserve_case = preserve_case\n",
    "\n",
    "    def tokenize(self, s):\n",
    "        \"\"\"\n",
    "        Argument: s -- any string or unicode object\n",
    "        Value: a tokenize list of strings; conatenating this list returns the original string if preserve_case=False\n",
    "        \"\"\"        \n",
    "        # Try to ensure unicode:\n",
    "        try:\n",
    "            s = str(s)\n",
    "        except UnicodeDecodeError:\n",
    "            s = s.encode('string_escape')\n",
    "            s = str(s)\n",
    "        # Fix HTML character entitites:\n",
    "        s = self.__html2unicode(s)\n",
    "        # Tokenize:\n",
    "        words = word_re.findall(s)\n",
    "        # Possible alter the case, but avoid changing emoticons like :D into :d:\n",
    "        if not self.preserve_case:            \n",
    "            words = map((lambda x : x if emoticon_re.search(x) else x.lower()), words)\n",
    "        return words\n",
    "\n",
    "    def tokenize_random_tweet(self):\n",
    "        \"\"\"\n",
    "        If the twitter library is installed and a twitter connection\n",
    "        can be established, then tokenize a random tweet.\n",
    "        \"\"\"\n",
    "        try:\n",
    "            import twitter\n",
    "        except ImportError:\n",
    "            print(\"Apologies. The random tweet functionality requires the Python twitter library: http://code.google.com/p/python-twitter/\")\n",
    "        from random import shuffle\n",
    "        api = twitter.Api()\n",
    "        tweets = api.GetPublicTimeline()\n",
    "        if tweets:\n",
    "            for tweet in tweets:\n",
    "                if tweet.user.lang == 'en':            \n",
    "                    return self.tokenize(tweet.text)\n",
    "        else:\n",
    "            raise Exception(\"Apologies. I couldn't get Twitter to give me a public English-language tweet. Perhaps try again\")\n",
    "\n",
    "    def __html2unicode(self, s):\n",
    "        \"\"\"\n",
    "        Internal metod that seeks to replace all the HTML entities in\n",
    "        s with their corresponding unicode characters.\n",
    "        \"\"\"\n",
    "        # First the digits:\n",
    "        ents = set(html_entity_digit_re.findall(s))\n",
    "        if len(ents) > 0:\n",
    "            for ent in ents:\n",
    "                entnum = ent[2:-1]\n",
    "                try:\n",
    "                    entnum = int(entnum)\n",
    "                    s = s.replace(ent, unichr(entnum))\t\n",
    "                except:\n",
    "                    pass\n",
    "        # Now the alpha versions:\n",
    "        ents = set(html_entity_alpha_re.findall(s))\n",
    "        ents = filter((lambda x : x != amp), ents)\n",
    "        for ent in ents:\n",
    "            entname = ent[1:-1]\n",
    "            try:            \n",
    "                s = s.replace(ent, unichr(entities.name2codepoint[entname]))\n",
    "            except:\n",
    "                pass                    \n",
    "            s = s.replace(amp, \" and \")\n",
    "        return s\n"
   ]
  },
  {
   "cell_type": "code",
   "execution_count": 21,
   "metadata": {
    "ExecuteTime": {
     "end_time": "2018-04-10T17:07:29.149864Z",
     "start_time": "2018-04-10T17:07:29.138860Z"
    }
   },
   "outputs": [],
   "source": [
    "from math import log\n",
    "\n",
    "tok = Tokenizer(preserve_case=False)\n",
    "\n",
    "def get_rel_popularity(c_k, c_all):\n",
    "    return log(1.0 * c_k / c_all) / log(2)\n",
    "\n",
    "\n",
    "def print_tokens(tokens, gid = None):\n",
    "    group_name = \"overall\"\n",
    "    if gid is not None:\n",
    "        group_name = \"group %d\" % gid\n",
    "    print('=' * 5 + ' ' + group_name + ' ' + '=' * 5)\n",
    "    for t, n in tokens:\n",
    "        print(\"%s\\t%.4f\" % (t, n))\n",
    "    print"
   ]
  },
  {
   "cell_type": "markdown",
   "metadata": {},
   "source": [
    "(1) Tokenize the tweets using the tokenizer we provided above named `tok`. Count the number of mentions for each tokens regardless of specific user group.\n",
    "\n",
    "Call `print_count` function to show how many different tokens we have.\n",
    "\n",
    "It should print\n",
    "```\n",
    "Number of elements: 7677\n",
    "```"
   ]
  },
  {
   "cell_type": "code",
   "execution_count": 22,
   "metadata": {
    "ExecuteTime": {
     "end_time": "2018-04-10T17:07:35.277774Z",
     "start_time": "2018-04-10T17:07:34.875592Z"
    }
   },
   "outputs": [
    {
     "name": "stdout",
     "output_type": "stream",
     "text": [
      "Number of elements: 7677\n"
     ]
    }
   ],
   "source": [
    "user_token = tweets.flatMap(lambda user_text:\n",
    "                            [(user_text[0], token) for token in set(tok.tokenize(user_text[1]))]) \\\n",
    "                   .distinct() \\\n",
    "                   .cache()\n",
    "overall_tokens = user_token.map(lambda user_token: (user_token[1], 1)) \\\n",
    "                           .reduceByKey(add) \\\n",
    "                           .cache()\n",
    "print_count(overall_tokens)"
   ]
  },
  {
   "cell_type": "code",
   "execution_count": 29,
   "metadata": {
    "ExecuteTime": {
     "end_time": "2018-04-10T17:11:53.959350Z",
     "start_time": "2018-04-10T17:11:53.913538Z"
    }
   },
   "outputs": [
    {
     "data": {
      "text/plain": [
       "[3859, 3818]"
      ]
     },
     "execution_count": 29,
     "metadata": {},
     "output_type": "execute_result"
    }
   ],
   "source": [
    "overall_tokens.glom().map(len).collect()"
   ]
  },
  {
   "cell_type": "markdown",
   "metadata": {},
   "source": [
    "(2) Tokens that are mentioned by too few users are usually not very interesting. So we want to only keep tokens that are mentioned by at least 100 users. Please filter out tokens that don't meet this requirement.\n",
    "\n",
    "Call `print_count` function to show how many different tokens we have after the filtering.\n",
    "\n",
    "Call `print_tokens` function to show top 20 most frequent tokens.\n",
    "\n",
    "It should print\n",
    "```\n",
    "Number of elements: 46\n",
    "===== overall =====\n",
    ":\t1046.0000\n",
    "rt\t920.0000\n",
    ".\t767.0000\n",
    "the\t587.0000\n",
    "trump\t560.0000\n",
    "…\t520.0000\n",
    "to\t501.0000\n",
    ",\t497.0000\n",
    "in\t385.0000\n",
    "a\t383.0000\n",
    "is\t382.0000\n",
    "of\t300.0000\n",
    "!\t285.0000\n",
    "for\t275.0000\n",
    "and\t263.0000\n",
    "on\t218.0000\n",
    "i\t216.0000\n",
    "he\t191.0000\n",
    "that\t190.0000\n",
    "\"\t181.0000\n",
    "```"
   ]
  },
  {
   "cell_type": "code",
   "execution_count": 23,
   "metadata": {
    "ExecuteTime": {
     "end_time": "2018-04-10T17:07:56.425746Z",
     "start_time": "2018-04-10T17:07:56.244238Z"
    }
   },
   "outputs": [
    {
     "name": "stdout",
     "output_type": "stream",
     "text": [
      "Number of elements: 46\n",
      "===== overall =====\n",
      ":\t1046.0000\n",
      "rt\t920.0000\n",
      ".\t767.0000\n",
      "the\t587.0000\n",
      "trump\t560.0000\n",
      "…\t520.0000\n",
      "to\t501.0000\n",
      ",\t497.0000\n",
      "in\t385.0000\n",
      "a\t383.0000\n",
      "is\t382.0000\n",
      "of\t300.0000\n",
      "!\t285.0000\n",
      "for\t275.0000\n",
      "and\t263.0000\n",
      "on\t218.0000\n",
      "i\t216.0000\n",
      "he\t191.0000\n",
      "that\t190.0000\n",
      "\"\t181.0000\n"
     ]
    }
   ],
   "source": [
    "freq_tokens = overall_tokens.filter(lambda tok_count: tok_count[1] >= 100).cache()\n",
    "print_count(freq_tokens)\n",
    "\n",
    "top20 = freq_tokens.sortBy(lambda tok_count: tok_count[1], ascending = False) \\\n",
    "                   .take(20)\n",
    "print_tokens(top20)"
   ]
  },
  {
   "cell_type": "markdown",
   "metadata": {},
   "source": [
    "(3) For all tokens that are mentioned by at least 100 users, compute their relative popularity in each user group. Then print the top 10 tokens with highest relative popularity in each user group. In case two tokens have same relative popularity, break the tie by printing the alphabetically smaller one.\n",
    "\n",
    "**Hint:** Let the relative popularity of a token $t$ be $p$. The order of the items will be satisfied by sorting them using (-p, t) as the key.\n",
    "\n",
    "It should print\n",
    "```\n",
    "===== group 0 =====\n",
    "with\t-3.6088\n",
    "cruz\t-3.6554\n",
    "his\t-3.6582\n",
    "amp\t-3.8651\n",
    "on\t-3.9608\n",
    "to\t-4.0145\n",
    "&\t-4.0875\n",
    "https\t-4.1699\n",
    "i\t-4.1699\n",
    "what\t-4.1699\n",
    "===== group 1 =====\n",
    "sanders\t-2.2854\n",
    "gop\t-2.4060\n",
    "hillary\t-2.4330\n",
    "’\t-2.4463\n",
    "bernie\t-2.4835\n",
    "\"\t-2.6925\n",
    "are\t-2.7249\n",
    "this\t-2.7633\n",
    "for\t-2.8179\n",
    "about\t-2.8346\n",
    "===== group 2 =====\n",
    "with\t-4.3458\n",
    "donald\t-4.5146\n",
    "...\t-4.7004\n",
    "gop\t-4.7279\n",
    "i\t-4.9475\n",
    "on\t-4.9608\n",
    "he\t-4.9925\n",
    "…\t-5.1155\n",
    "https\t-5.1699\n",
    "what\t-5.1699\n",
    "===== group 3 =====\n",
    "bernie\t-1.5945\n",
    "sanders\t-1.6609\n",
    "hillary\t-2.2188\n",
    "and\t-2.5154\n",
    "\"\t-2.5930\n",
    "in\t-2.6114\n",
    "will\t-2.6160\n",
    "https\t-2.6674\n",
    "...\t-2.7004\n",
    "you\t-2.7004\n",
    "===== group 4 =====\n",
    "what\t-3.4330\n",
    "have\t-3.4725\n",
    "bernie\t-3.5380\n",
    "this\t-3.5518\n",
    "it\t-3.6881\n",
    "?\t-3.6912\n",
    "for\t-3.7110\n",
    "about\t-3.7415\n",
    "hillary\t-3.7549\n",
    "that\t-3.7625\n",
    "===== group 5 =====\n",
    "what\t-1.8007\n",
    "not\t-1.8745\n",
    "https\t-2.0000\n",
    "his\t-2.0144\n",
    "cruz\t-2.0704\n",
    "it\t-2.1031\n",
    "on\t-2.1243\n",
    "&\t-2.1399\n",
    "amp\t-2.1489\n",
    ";\t-2.1592\n",
    "===== group 6 =====\n",
    "will\t-1.3847\n",
    "have\t-1.4725\n",
    "!\t-1.5850\n",
    "cruz\t-1.6919\n",
    "trump\t-1.7199\n",
    "https\t-1.7549\n",
    "-\t-1.7673\n",
    ";\t-1.7807\n",
    "be\t-1.7952\n",
    "amp\t-1.8144\n",
    "===== group 7 =====\n",
    "donald\t-1.0740\n",
    "trump\t-1.6535\n",
    "bernie\t-1.7790\n",
    "sanders\t-1.7829\n",
    "’\t-1.8613\n",
    "of\t-1.9069\n",
    "?\t-1.9186\n",
    "with\t-1.9307\n",
    "the\t-1.9588\n",
    "be\t-1.9758\n",
    "```"
   ]
  },
  {
   "cell_type": "code",
   "execution_count": 30,
   "metadata": {
    "ExecuteTime": {
     "end_time": "2018-04-10T17:13:00.496150Z",
     "start_time": "2018-04-10T17:12:55.461515Z"
    }
   },
   "outputs": [
    {
     "data": {
      "text/plain": [
       "[5973, 5964]"
      ]
     },
     "execution_count": 30,
     "metadata": {},
     "output_type": "execute_result"
    }
   ],
   "source": [
    "freq_tokens_set = set(freq_tokens.map(lambda tok_count: tok_count[0]).collect())\n",
    "group_token = user_token.filter(lambda user_token: user_token[1] in freq_tokens_set) \\\n",
    "                        .map(lambda user_token: (partition.get(user_token[0], 7), user_token[1]))\n",
    "group_token.take(3)\n",
    "group_token.glom().map(len).collect()"
   ]
  },
  {
   "cell_type": "code",
   "execution_count": 25,
   "metadata": {
    "ExecuteTime": {
     "end_time": "2018-04-10T17:08:10.850909Z",
     "start_time": "2018-04-10T17:08:08.010997Z"
    },
    "scrolled": true
   },
   "outputs": [
    {
     "data": {
      "text/plain": [
       "[('.',\n",
       "  ([(6, 155),\n",
       "    (4, 40),\n",
       "    (2, 17),\n",
       "    (0, 36),\n",
       "    (1, 101),\n",
       "    (7, 166),\n",
       "    (3, 107),\n",
       "    (5, 145)],\n",
       "   767)),\n",
       " (';', ([(6, 39), (0, 7), (4, 3), (5, 30), (7, 23), (1, 17), (3, 15)], 134)),\n",
       " ('…',\n",
       "  ([(6, 142), (4, 27), (2, 15), (0, 24), (3, 67), (7, 76), (5, 104), (1, 65)],\n",
       "   520))]"
      ]
     },
     "execution_count": 25,
     "metadata": {},
     "output_type": "execute_result"
    }
   ],
   "source": [
    "tokens = group_token.map(lambda p: (p, 1)) \\\n",
    "                    .reduceByKey(add) \\\n",
    "                    .map(lambda t: (t[0][1], (t[0][0], t[1]))) \\\n",
    "                    .groupByKey() \\\n",
    "                    .mapValues(lambda counts: (list(counts), sum(p[1] for p in counts))) \\\n",
    "                    .cache()\n",
    "tokens.take(3)"
   ]
  },
  {
   "cell_type": "code",
   "execution_count": 31,
   "metadata": {
    "ExecuteTime": {
     "end_time": "2018-04-10T17:13:34.078785Z",
     "start_time": "2018-04-10T17:13:34.053540Z"
    }
   },
   "outputs": [
    {
     "data": {
      "text/plain": [
       "[21, 25]"
      ]
     },
     "execution_count": 31,
     "metadata": {},
     "output_type": "execute_result"
    }
   ],
   "source": [
    "tokens.glom().map(len).collect()"
   ]
  },
  {
   "cell_type": "code",
   "execution_count": 26,
   "metadata": {
    "ExecuteTime": {
     "end_time": "2018-04-10T17:08:16.633874Z",
     "start_time": "2018-04-10T17:08:16.594439Z"
    }
   },
   "outputs": [
    {
     "data": {
      "text/plain": [
       "[(6, ('.', -2.306958362228696)),\n",
       " (4, ('.', -4.261154672615571)),\n",
       " (2, ('.', -5.495619926252594))]"
      ]
     },
     "execution_count": 26,
     "metadata": {},
     "output_type": "execute_result"
    }
   ],
   "source": [
    "rel_popular = tokens.flatMap(lambda t:\n",
    "                             [(gid, (t[0], get_rel_popularity(c, t[1][1]))) for gid, c in t[1][0]]) \\\n",
    "                    .cache()\n",
    "rel_popular.take(3)"
   ]
  },
  {
   "cell_type": "code",
   "execution_count": 27,
   "metadata": {
    "ExecuteTime": {
     "end_time": "2018-04-10T17:08:20.935336Z",
     "start_time": "2018-04-10T17:08:19.873129Z"
    },
    "scrolled": false
   },
   "outputs": [
    {
     "name": "stdout",
     "output_type": "stream",
     "text": [
      "===== group 0 =====\n",
      "with\t-3.6088\n",
      "cruz\t-3.6554\n",
      "his\t-3.6582\n",
      "amp\t-3.8651\n",
      "on\t-3.9608\n",
      "to\t-4.0145\n",
      "&\t-4.0875\n",
      "https\t-4.1699\n",
      "i\t-4.1699\n",
      "what\t-4.1699\n",
      "===== group 1 =====\n",
      "sanders\t-2.2854\n",
      "gop\t-2.4060\n",
      "hillary\t-2.4330\n",
      "’\t-2.4463\n",
      "bernie\t-2.4835\n",
      "\"\t-2.6925\n",
      "are\t-2.7249\n",
      "this\t-2.7633\n",
      "for\t-2.8179\n",
      "about\t-2.8346\n",
      "===== group 2 =====\n",
      "with\t-4.3458\n",
      "donald\t-4.5146\n",
      "...\t-4.7004\n",
      "gop\t-4.7279\n",
      "i\t-4.9475\n",
      "on\t-4.9608\n",
      "he\t-4.9925\n",
      "…\t-5.1155\n",
      "https\t-5.1699\n",
      "what\t-5.1699\n",
      "===== group 3 =====\n",
      "bernie\t-1.5945\n",
      "sanders\t-1.6609\n",
      "hillary\t-2.2188\n",
      "and\t-2.5154\n",
      "\"\t-2.5930\n",
      "in\t-2.6114\n",
      "will\t-2.6160\n",
      "https\t-2.6674\n",
      "...\t-2.7004\n",
      "you\t-2.7004\n",
      "===== group 4 =====\n",
      "what\t-3.4330\n",
      "have\t-3.4725\n",
      "bernie\t-3.5380\n",
      "this\t-3.5518\n",
      "it\t-3.6881\n",
      "?\t-3.6912\n",
      "for\t-3.7110\n",
      "about\t-3.7415\n",
      "hillary\t-3.7549\n",
      "that\t-3.7625\n",
      "===== group 5 =====\n",
      "what\t-1.8007\n",
      "not\t-1.8745\n",
      "https\t-2.0000\n",
      "his\t-2.0144\n",
      "cruz\t-2.0704\n",
      "it\t-2.1031\n",
      "on\t-2.1243\n",
      "&\t-2.1399\n",
      "amp\t-2.1489\n",
      ";\t-2.1592\n",
      "===== group 6 =====\n",
      "will\t-1.3847\n",
      "have\t-1.4725\n",
      "!\t-1.5850\n",
      "cruz\t-1.6919\n",
      "trump\t-1.7199\n",
      "https\t-1.7549\n",
      "-\t-1.7673\n",
      ";\t-1.7807\n",
      "be\t-1.7952\n",
      "amp\t-1.8144\n",
      "===== group 7 =====\n",
      "donald\t-1.0740\n",
      "trump\t-1.6535\n",
      "bernie\t-1.7790\n",
      "sanders\t-1.7829\n",
      "’\t-1.8613\n",
      "of\t-1.9069\n",
      "?\t-1.9186\n",
      "with\t-1.9307\n",
      "the\t-1.9588\n",
      "be\t-1.9758\n"
     ]
    }
   ],
   "source": [
    "for k in range(8):\n",
    "    top10 = rel_popular.filter(lambda p: p[0] == k) \\\n",
    "                       .sortBy(lambda p: (-p[1][1], p[1][0])) \\\n",
    "                       .map(lambda p: p[1]) \\\n",
    "                       .take(10)\n",
    "    print_tokens(top10, k)"
   ]
  },
  {
   "cell_type": "markdown",
   "metadata": {
    "collapsed": true
   },
   "source": [
    "(4) (optional, not for grading) The users partition is generated by a machine learning algorithm that tries to group the users by their political preferences. Three of the user groups are showing supports to Bernie Sanders, Ted Cruz, and Donald Trump. \n",
    "\n",
    "If your program looks okay on the local test data, you can try it on the larger input by submitting your program to the homework server. Observe the output of your program to larger input files, can you guess the partition IDs of the three groups mentioned above based on your output?"
   ]
  },
  {
   "cell_type": "code",
   "execution_count": 28,
   "metadata": {
    "ExecuteTime": {
     "end_time": "2018-04-10T17:08:22.597723Z",
     "start_time": "2018-04-10T17:08:22.592432Z"
    }
   },
   "outputs": [
    {
     "name": "stdout",
     "output_type": "stream",
     "text": [
      "Users from group 3 are most likely to support Bernie Sanders.\n",
      "Users from group 5 are most likely to support Ted Cruz.\n",
      "Users from group 6 are most likely to support Donald Trump.\n"
     ]
    }
   ],
   "source": [
    "# Change the values of the following three items to your guesses\n",
    "users_support = [\n",
    "    (3, \"Bernie Sanders\"),\n",
    "    (5, \"Ted Cruz\"),\n",
    "    (6, \"Donald Trump\")\n",
    "]\n",
    "\n",
    "for gid, candidate in users_support:\n",
    "    print(\"Users from group %d are most likely to support %s.\" % (gid, candidate))"
   ]
  },
  {
   "cell_type": "code",
   "execution_count": null,
   "metadata": {
    "collapsed": true
   },
   "outputs": [],
   "source": []
  }
 ],
 "metadata": {
  "hide_input": false,
  "kernelspec": {
   "display_name": "Python 3",
   "language": "python",
   "name": "python3"
  },
  "language_info": {
   "codemirror_mode": {
    "name": "ipython",
    "version": 3
   },
   "file_extension": ".py",
   "mimetype": "text/x-python",
   "name": "python",
   "nbconvert_exporter": "python",
   "pygments_lexer": "ipython3",
   "version": "3.6.4"
  },
  "toc": {
   "base_numbering": 1,
   "nav_menu": {},
   "number_sections": true,
   "sideBar": true,
   "skip_h1_title": false,
   "title_cell": "Table of Contents",
   "title_sidebar": "Contents",
   "toc_cell": false,
   "toc_position": {},
   "toc_section_display": true,
   "toc_window_display": false
  }
 },
 "nbformat": 4,
 "nbformat_minor": 1
}
