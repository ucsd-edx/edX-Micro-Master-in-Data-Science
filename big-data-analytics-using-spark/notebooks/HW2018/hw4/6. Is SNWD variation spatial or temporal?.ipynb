{
 "cells": [
  {
   "cell_type": "markdown",
   "metadata": {},
   "source": [
    "## Analyze whether early or late snow changes more year to year or place to place."
   ]
  },
  {
   "cell_type": "code",
   "execution_count": 3,
   "metadata": {
    "ExecuteTime": {
     "end_time": "2018-04-04T05:21:32.262152Z",
     "start_time": "2018-04-04T05:21:31.959110Z"
    }
   },
   "outputs": [],
   "source": [
    "import pandas as pd\n",
    "import numpy as np\n",
    "import urllib\n",
    "import math"
   ]
  },
  {
   "cell_type": "code",
   "execution_count": null,
   "metadata": {},
   "outputs": [],
   "source": []
  },
  {
   "cell_type": "code",
   "execution_count": 2,
   "metadata": {
    "ExecuteTime": {
     "end_time": "2018-04-04T05:21:26.988784Z",
     "start_time": "2018-04-04T05:21:26.733264Z"
    }
   },
   "outputs": [],
   "source": [
    "import findspark\n",
    "findspark.init()\n",
    "\n",
    "from pyspark import SparkContext\n",
    "#sc.stop()\n",
    "sc = SparkContext(master=\"local[3]\",pyFiles=['lib/numpy_pack.py','lib/spark_PCA.py','lib/computeStatistics.py'])\n",
    "\n",
    "from pyspark import SparkContext\n",
    "from pyspark.sql import *\n",
    "sqlContext = SQLContext(sc)"
   ]
  },
  {
   "cell_type": "code",
   "execution_count": 4,
   "metadata": {
    "ExecuteTime": {
     "end_time": "2018-04-04T05:22:11.184409Z",
     "start_time": "2018-04-04T05:22:11.170895Z"
    }
   },
   "outputs": [],
   "source": [
    "import numpy as np\n",
    "from lib.numpy_pack import packArray,unpackArray\n",
    "from lib.spark_PCA import computeCov\n",
    "from lib.computeStatistics import *"
   ]
  },
  {
   "cell_type": "code",
   "execution_count": 5,
   "metadata": {
    "ExecuteTime": {
     "end_time": "2018-04-04T05:22:55.356368Z",
     "start_time": "2018-04-04T05:22:55.307365Z"
    }
   },
   "outputs": [
    {
     "name": "stdout",
     "output_type": "stream",
     "text": [
      "keys from STAT= dict_keys(['TMAX', 'SNOW', 'SNWD', 'TMIN', 'PRCP', 'TOBS'])\n"
     ]
    }
   ],
   "source": [
    "### Read the data frame from pickle file\n",
    "\n",
    "data_dir='../../Data/Weather'\n",
    "state='NY'\n",
    "meas='SNWD'\n",
    "\n",
    "from pickle import load\n",
    "\n",
    "#read statistics\n",
    "filename=data_dir+'/STAT_%s.pickle'%state\n",
    "STAT,STAT_Descriptions = load(open(filename,'rb'))\n",
    "print('keys from STAT=',STAT.keys())"
   ]
  },
  {
   "cell_type": "code",
   "execution_count": 6,
   "metadata": {
    "ExecuteTime": {
     "end_time": "2018-04-04T05:23:13.174481Z",
     "start_time": "2018-04-04T05:23:09.282793Z"
    },
    "scrolled": true
   },
   "outputs": [
    {
     "name": "stdout",
     "output_type": "stream",
     "text": [
      "8026\n",
      "+-----------+-----------+--------------------+----+-----------------+------------------+-------------------+------------------+------------------+------------------+--------------------+--------------------+--------------------+--------------------+------------------+-----------+----------+--------+---------+---------+-----+-----------------+\n",
      "|    Station|Measurement|              Values|Year|          coeff_1|           coeff_2|            coeff_3|           coeff_4|           coeff_5|             res_1|               res_2|               res_3|               res_4|               res_5|          res_mean|  total_var|Dist_coast|Latitude|Longitude|Elevation|State|             Name|\n",
      "+-----------+-----------+--------------------+----+-----------------+------------------+-------------------+------------------+------------------+------------------+--------------------+--------------------+--------------------+--------------------+------------------+-----------+----------+--------+---------+---------+-----+-----------------+\n",
      "|USC00306411|       SNWD|[F6 60 8E 61 C2 6...|1945|5053.259734988232| 4339.126273974124| -664.2787305692001|246.26336859357917|-126.3975883425881| 0.395372926920007|0.021843296029783358|0.014758952247593535|0.013233804668550167|0.013333892261792497|0.7004236682602922|6.5071034E7|   370.621| 44.6333| -74.8333|    228.9|   NY|PARISHVILLE 1 WNW|\n",
      "|USC00303102|       SNWD|[5A 62 8A 63 24 6...|1945|6204.511279659803|2949.5455967190114|-1078.3343184044522| 268.5792329693505| 373.0941636726788|0.2079498719181787|  0.0453279969295444|0.018695274158698393|0.017652624748693953|0.016821628536508846|0.6898108551423349|7.1814799E7|   312.333| 44.4333| -74.1667|    537.1|   NY|         GABRIELS|\n",
      "+-----------+-----------+--------------------+----+-----------------+------------------+-------------------+------------------+------------------+------------------+--------------------+--------------------+--------------------+--------------------+------------------+-----------+----------+--------+---------+---------+-----+-----------------+\n",
      "only showing top 2 rows\n",
      "\n"
     ]
    }
   ],
   "source": [
    "#!ls -ld $data_dir/*.parquet\n",
    "\n",
    "#read data\n",
    "filename=data_dir+'/decon_%s_%s.parquet'%(state,meas)\n",
    "\n",
    "df=sqlContext.read.parquet(filename)\n",
    "print(df.count())\n",
    "df.show(2)"
   ]
  },
  {
   "cell_type": "code",
   "execution_count": 7,
   "metadata": {
    "ExecuteTime": {
     "end_time": "2018-04-04T05:23:28.774559Z",
     "start_time": "2018-04-04T05:23:28.764747Z"
    }
   },
   "outputs": [
    {
     "name": "stdout",
     "output_type": "stream",
     "text": [
      "['Station', 'Measurement', 'Values', 'Year', 'coeff_1', 'coeff_2', 'coeff_3', 'coeff_4', 'coeff_5', 'res_1', 'res_2', 'res_3', 'res_4', 'res_5', 'res_mean', 'total_var', 'Dist_coast', 'Latitude', 'Longitude', 'Elevation', 'State', 'Name']\n"
     ]
    }
   ],
   "source": [
    "print(df.columns)"
   ]
  },
  {
   "cell_type": "code",
   "execution_count": 8,
   "metadata": {
    "ExecuteTime": {
     "end_time": "2018-04-04T05:23:53.847961Z",
     "start_time": "2018-04-04T05:23:53.231308Z"
    },
    "scrolled": true
   },
   "outputs": [
    {
     "name": "stdout",
     "output_type": "stream",
     "text": [
      "SELECT station, year, coeff_2 FROM weather\n"
     ]
    },
    {
     "data": {
      "text/html": [
       "<div>\n",
       "<style scoped>\n",
       "    .dataframe tbody tr th:only-of-type {\n",
       "        vertical-align: middle;\n",
       "    }\n",
       "\n",
       "    .dataframe tbody tr th {\n",
       "        vertical-align: top;\n",
       "    }\n",
       "\n",
       "    .dataframe thead th {\n",
       "        text-align: right;\n",
       "    }\n",
       "</style>\n",
       "<table border=\"1\" class=\"dataframe\">\n",
       "  <thead>\n",
       "    <tr style=\"text-align: right;\">\n",
       "      <th></th>\n",
       "      <th>station</th>\n",
       "      <th>year</th>\n",
       "      <th>coeff_2</th>\n",
       "    </tr>\n",
       "  </thead>\n",
       "  <tbody>\n",
       "    <tr>\n",
       "      <th>0</th>\n",
       "      <td>USC00306411</td>\n",
       "      <td>1945</td>\n",
       "      <td>4339.126274</td>\n",
       "    </tr>\n",
       "    <tr>\n",
       "      <th>1</th>\n",
       "      <td>USC00303102</td>\n",
       "      <td>1945</td>\n",
       "      <td>2949.545597</td>\n",
       "    </tr>\n",
       "    <tr>\n",
       "      <th>2</th>\n",
       "      <td>USC00305711</td>\n",
       "      <td>1959</td>\n",
       "      <td>-1751.907933</td>\n",
       "    </tr>\n",
       "    <tr>\n",
       "      <th>3</th>\n",
       "      <td>USC00308080</td>\n",
       "      <td>1952</td>\n",
       "      <td>-2533.000946</td>\n",
       "    </tr>\n",
       "    <tr>\n",
       "      <th>4</th>\n",
       "      <td>USC00300785</td>\n",
       "      <td>1963</td>\n",
       "      <td>-1508.071719</td>\n",
       "    </tr>\n",
       "  </tbody>\n",
       "</table>\n",
       "</div>"
      ],
      "text/plain": [
       "       station  year      coeff_2\n",
       "0  USC00306411  1945  4339.126274\n",
       "1  USC00303102  1945  2949.545597\n",
       "2  USC00305711  1959 -1751.907933\n",
       "3  USC00308080  1952 -2533.000946\n",
       "4  USC00300785  1963 -1508.071719"
      ]
     },
     "execution_count": 8,
     "metadata": {},
     "output_type": "execute_result"
    }
   ],
   "source": [
    "#extract longitude and latitude for each station\n",
    "feature='coeff_1'\n",
    "sqlContext.registerDataFrameAsTable(df,'weather')\n",
    "#Features=', '.join(['coeff_1', 'coeff_2', 'coeff_3', 'elevation', 'latitude', 'longitude',\\\n",
    "#          'res_1', 'res_2', 'res_3', 'res_mean', 'year'])\n",
    "Features='station, year, coeff_2'\n",
    "Query=\"SELECT %s FROM weather\"%Features\n",
    "print(Query)\n",
    "pdf = sqlContext.sql(Query).toPandas()\n",
    "pdf.head()"
   ]
  },
  {
   "cell_type": "code",
   "execution_count": 9,
   "metadata": {
    "ExecuteTime": {
     "end_time": "2018-04-04T05:24:10.004812Z",
     "start_time": "2018-04-04T05:24:09.972881Z"
    }
   },
   "outputs": [
    {
     "data": {
      "text/html": [
       "<div>\n",
       "<style scoped>\n",
       "    .dataframe tbody tr th:only-of-type {\n",
       "        vertical-align: middle;\n",
       "    }\n",
       "\n",
       "    .dataframe tbody tr th {\n",
       "        vertical-align: top;\n",
       "    }\n",
       "\n",
       "    .dataframe thead th {\n",
       "        text-align: right;\n",
       "    }\n",
       "</style>\n",
       "<table border=\"1\" class=\"dataframe\">\n",
       "  <thead>\n",
       "    <tr style=\"text-align: right;\">\n",
       "      <th>station</th>\n",
       "      <th>USC00300015</th>\n",
       "      <th>USC00300023</th>\n",
       "      <th>USC00300047</th>\n",
       "      <th>USC00300055</th>\n",
       "      <th>USC00300063</th>\n",
       "      <th>USC00300077</th>\n",
       "      <th>USC00300085</th>\n",
       "      <th>USC00300090</th>\n",
       "      <th>USC00300093</th>\n",
       "      <th>USC00300159</th>\n",
       "      <th>...</th>\n",
       "      <th>USW00014786</th>\n",
       "      <th>USW00014797</th>\n",
       "      <th>USW00014798</th>\n",
       "      <th>USW00094704</th>\n",
       "      <th>USW00094725</th>\n",
       "      <th>USW00094728</th>\n",
       "      <th>USW00094745</th>\n",
       "      <th>USW00094789</th>\n",
       "      <th>USW00094790</th>\n",
       "      <th>USW00094794</th>\n",
       "    </tr>\n",
       "    <tr>\n",
       "      <th>year</th>\n",
       "      <th></th>\n",
       "      <th></th>\n",
       "      <th></th>\n",
       "      <th></th>\n",
       "      <th></th>\n",
       "      <th></th>\n",
       "      <th></th>\n",
       "      <th></th>\n",
       "      <th></th>\n",
       "      <th></th>\n",
       "      <th></th>\n",
       "      <th></th>\n",
       "      <th></th>\n",
       "      <th></th>\n",
       "      <th></th>\n",
       "      <th></th>\n",
       "      <th></th>\n",
       "      <th></th>\n",
       "      <th></th>\n",
       "      <th></th>\n",
       "      <th></th>\n",
       "    </tr>\n",
       "  </thead>\n",
       "  <tbody>\n",
       "    <tr>\n",
       "      <th>1892</th>\n",
       "      <td>NaN</td>\n",
       "      <td>NaN</td>\n",
       "      <td>NaN</td>\n",
       "      <td>NaN</td>\n",
       "      <td>NaN</td>\n",
       "      <td>NaN</td>\n",
       "      <td>NaN</td>\n",
       "      <td>NaN</td>\n",
       "      <td>NaN</td>\n",
       "      <td>NaN</td>\n",
       "      <td>...</td>\n",
       "      <td>NaN</td>\n",
       "      <td>NaN</td>\n",
       "      <td>NaN</td>\n",
       "      <td>NaN</td>\n",
       "      <td>NaN</td>\n",
       "      <td>NaN</td>\n",
       "      <td>NaN</td>\n",
       "      <td>NaN</td>\n",
       "      <td>NaN</td>\n",
       "      <td>NaN</td>\n",
       "    </tr>\n",
       "    <tr>\n",
       "      <th>1893</th>\n",
       "      <td>NaN</td>\n",
       "      <td>NaN</td>\n",
       "      <td>NaN</td>\n",
       "      <td>NaN</td>\n",
       "      <td>NaN</td>\n",
       "      <td>NaN</td>\n",
       "      <td>NaN</td>\n",
       "      <td>NaN</td>\n",
       "      <td>NaN</td>\n",
       "      <td>NaN</td>\n",
       "      <td>...</td>\n",
       "      <td>NaN</td>\n",
       "      <td>NaN</td>\n",
       "      <td>NaN</td>\n",
       "      <td>NaN</td>\n",
       "      <td>NaN</td>\n",
       "      <td>NaN</td>\n",
       "      <td>NaN</td>\n",
       "      <td>NaN</td>\n",
       "      <td>NaN</td>\n",
       "      <td>NaN</td>\n",
       "    </tr>\n",
       "    <tr>\n",
       "      <th>1895</th>\n",
       "      <td>NaN</td>\n",
       "      <td>NaN</td>\n",
       "      <td>NaN</td>\n",
       "      <td>NaN</td>\n",
       "      <td>NaN</td>\n",
       "      <td>NaN</td>\n",
       "      <td>NaN</td>\n",
       "      <td>NaN</td>\n",
       "      <td>NaN</td>\n",
       "      <td>NaN</td>\n",
       "      <td>...</td>\n",
       "      <td>NaN</td>\n",
       "      <td>NaN</td>\n",
       "      <td>NaN</td>\n",
       "      <td>NaN</td>\n",
       "      <td>NaN</td>\n",
       "      <td>NaN</td>\n",
       "      <td>NaN</td>\n",
       "      <td>NaN</td>\n",
       "      <td>NaN</td>\n",
       "      <td>NaN</td>\n",
       "    </tr>\n",
       "    <tr>\n",
       "      <th>1896</th>\n",
       "      <td>NaN</td>\n",
       "      <td>NaN</td>\n",
       "      <td>NaN</td>\n",
       "      <td>NaN</td>\n",
       "      <td>NaN</td>\n",
       "      <td>NaN</td>\n",
       "      <td>NaN</td>\n",
       "      <td>NaN</td>\n",
       "      <td>NaN</td>\n",
       "      <td>NaN</td>\n",
       "      <td>...</td>\n",
       "      <td>NaN</td>\n",
       "      <td>NaN</td>\n",
       "      <td>NaN</td>\n",
       "      <td>NaN</td>\n",
       "      <td>NaN</td>\n",
       "      <td>NaN</td>\n",
       "      <td>NaN</td>\n",
       "      <td>NaN</td>\n",
       "      <td>NaN</td>\n",
       "      <td>NaN</td>\n",
       "    </tr>\n",
       "    <tr>\n",
       "      <th>1897</th>\n",
       "      <td>NaN</td>\n",
       "      <td>NaN</td>\n",
       "      <td>NaN</td>\n",
       "      <td>NaN</td>\n",
       "      <td>NaN</td>\n",
       "      <td>NaN</td>\n",
       "      <td>NaN</td>\n",
       "      <td>NaN</td>\n",
       "      <td>NaN</td>\n",
       "      <td>NaN</td>\n",
       "      <td>...</td>\n",
       "      <td>NaN</td>\n",
       "      <td>NaN</td>\n",
       "      <td>NaN</td>\n",
       "      <td>NaN</td>\n",
       "      <td>NaN</td>\n",
       "      <td>NaN</td>\n",
       "      <td>NaN</td>\n",
       "      <td>NaN</td>\n",
       "      <td>NaN</td>\n",
       "      <td>NaN</td>\n",
       "    </tr>\n",
       "    <tr>\n",
       "      <th>1898</th>\n",
       "      <td>NaN</td>\n",
       "      <td>NaN</td>\n",
       "      <td>NaN</td>\n",
       "      <td>NaN</td>\n",
       "      <td>NaN</td>\n",
       "      <td>NaN</td>\n",
       "      <td>NaN</td>\n",
       "      <td>NaN</td>\n",
       "      <td>NaN</td>\n",
       "      <td>NaN</td>\n",
       "      <td>...</td>\n",
       "      <td>NaN</td>\n",
       "      <td>NaN</td>\n",
       "      <td>NaN</td>\n",
       "      <td>NaN</td>\n",
       "      <td>NaN</td>\n",
       "      <td>NaN</td>\n",
       "      <td>NaN</td>\n",
       "      <td>NaN</td>\n",
       "      <td>NaN</td>\n",
       "      <td>NaN</td>\n",
       "    </tr>\n",
       "    <tr>\n",
       "      <th>1899</th>\n",
       "      <td>NaN</td>\n",
       "      <td>-94.738399</td>\n",
       "      <td>NaN</td>\n",
       "      <td>NaN</td>\n",
       "      <td>NaN</td>\n",
       "      <td>NaN</td>\n",
       "      <td>NaN</td>\n",
       "      <td>NaN</td>\n",
       "      <td>NaN</td>\n",
       "      <td>NaN</td>\n",
       "      <td>...</td>\n",
       "      <td>NaN</td>\n",
       "      <td>NaN</td>\n",
       "      <td>NaN</td>\n",
       "      <td>NaN</td>\n",
       "      <td>NaN</td>\n",
       "      <td>NaN</td>\n",
       "      <td>NaN</td>\n",
       "      <td>NaN</td>\n",
       "      <td>NaN</td>\n",
       "      <td>NaN</td>\n",
       "    </tr>\n",
       "    <tr>\n",
       "      <th>1900</th>\n",
       "      <td>-259.601609</td>\n",
       "      <td>-295.514670</td>\n",
       "      <td>NaN</td>\n",
       "      <td>NaN</td>\n",
       "      <td>NaN</td>\n",
       "      <td>NaN</td>\n",
       "      <td>-828.739172</td>\n",
       "      <td>NaN</td>\n",
       "      <td>NaN</td>\n",
       "      <td>NaN</td>\n",
       "      <td>...</td>\n",
       "      <td>NaN</td>\n",
       "      <td>NaN</td>\n",
       "      <td>NaN</td>\n",
       "      <td>NaN</td>\n",
       "      <td>NaN</td>\n",
       "      <td>NaN</td>\n",
       "      <td>NaN</td>\n",
       "      <td>NaN</td>\n",
       "      <td>NaN</td>\n",
       "      <td>NaN</td>\n",
       "    </tr>\n",
       "    <tr>\n",
       "      <th>1901</th>\n",
       "      <td>-1348.405811</td>\n",
       "      <td>97.415029</td>\n",
       "      <td>NaN</td>\n",
       "      <td>NaN</td>\n",
       "      <td>NaN</td>\n",
       "      <td>NaN</td>\n",
       "      <td>121.763990</td>\n",
       "      <td>NaN</td>\n",
       "      <td>NaN</td>\n",
       "      <td>NaN</td>\n",
       "      <td>...</td>\n",
       "      <td>NaN</td>\n",
       "      <td>NaN</td>\n",
       "      <td>NaN</td>\n",
       "      <td>NaN</td>\n",
       "      <td>NaN</td>\n",
       "      <td>NaN</td>\n",
       "      <td>NaN</td>\n",
       "      <td>NaN</td>\n",
       "      <td>NaN</td>\n",
       "      <td>NaN</td>\n",
       "    </tr>\n",
       "    <tr>\n",
       "      <th>1902</th>\n",
       "      <td>1658.993347</td>\n",
       "      <td>317.664260</td>\n",
       "      <td>NaN</td>\n",
       "      <td>NaN</td>\n",
       "      <td>NaN</td>\n",
       "      <td>NaN</td>\n",
       "      <td>NaN</td>\n",
       "      <td>NaN</td>\n",
       "      <td>NaN</td>\n",
       "      <td>NaN</td>\n",
       "      <td>...</td>\n",
       "      <td>NaN</td>\n",
       "      <td>NaN</td>\n",
       "      <td>NaN</td>\n",
       "      <td>NaN</td>\n",
       "      <td>NaN</td>\n",
       "      <td>NaN</td>\n",
       "      <td>NaN</td>\n",
       "      <td>NaN</td>\n",
       "      <td>NaN</td>\n",
       "      <td>NaN</td>\n",
       "    </tr>\n",
       "  </tbody>\n",
       "</table>\n",
       "<p>10 rows × 328 columns</p>\n",
       "</div>"
      ],
      "text/plain": [
       "station  USC00300015  USC00300023  USC00300047  USC00300055  USC00300063  \\\n",
       "year                                                                       \n",
       "1892             NaN          NaN          NaN          NaN          NaN   \n",
       "1893             NaN          NaN          NaN          NaN          NaN   \n",
       "1895             NaN          NaN          NaN          NaN          NaN   \n",
       "1896             NaN          NaN          NaN          NaN          NaN   \n",
       "1897             NaN          NaN          NaN          NaN          NaN   \n",
       "1898             NaN          NaN          NaN          NaN          NaN   \n",
       "1899             NaN   -94.738399          NaN          NaN          NaN   \n",
       "1900     -259.601609  -295.514670          NaN          NaN          NaN   \n",
       "1901    -1348.405811    97.415029          NaN          NaN          NaN   \n",
       "1902     1658.993347   317.664260          NaN          NaN          NaN   \n",
       "\n",
       "station  USC00300077  USC00300085  USC00300090  USC00300093  USC00300159  \\\n",
       "year                                                                       \n",
       "1892             NaN          NaN          NaN          NaN          NaN   \n",
       "1893             NaN          NaN          NaN          NaN          NaN   \n",
       "1895             NaN          NaN          NaN          NaN          NaN   \n",
       "1896             NaN          NaN          NaN          NaN          NaN   \n",
       "1897             NaN          NaN          NaN          NaN          NaN   \n",
       "1898             NaN          NaN          NaN          NaN          NaN   \n",
       "1899             NaN          NaN          NaN          NaN          NaN   \n",
       "1900             NaN  -828.739172          NaN          NaN          NaN   \n",
       "1901             NaN   121.763990          NaN          NaN          NaN   \n",
       "1902             NaN          NaN          NaN          NaN          NaN   \n",
       "\n",
       "station     ...       USW00014786  USW00014797  USW00014798  USW00094704  \\\n",
       "year        ...                                                            \n",
       "1892        ...               NaN          NaN          NaN          NaN   \n",
       "1893        ...               NaN          NaN          NaN          NaN   \n",
       "1895        ...               NaN          NaN          NaN          NaN   \n",
       "1896        ...               NaN          NaN          NaN          NaN   \n",
       "1897        ...               NaN          NaN          NaN          NaN   \n",
       "1898        ...               NaN          NaN          NaN          NaN   \n",
       "1899        ...               NaN          NaN          NaN          NaN   \n",
       "1900        ...               NaN          NaN          NaN          NaN   \n",
       "1901        ...               NaN          NaN          NaN          NaN   \n",
       "1902        ...               NaN          NaN          NaN          NaN   \n",
       "\n",
       "station  USW00094725  USW00094728  USW00094745  USW00094789  USW00094790  \\\n",
       "year                                                                       \n",
       "1892             NaN          NaN          NaN          NaN          NaN   \n",
       "1893             NaN          NaN          NaN          NaN          NaN   \n",
       "1895             NaN          NaN          NaN          NaN          NaN   \n",
       "1896             NaN          NaN          NaN          NaN          NaN   \n",
       "1897             NaN          NaN          NaN          NaN          NaN   \n",
       "1898             NaN          NaN          NaN          NaN          NaN   \n",
       "1899             NaN          NaN          NaN          NaN          NaN   \n",
       "1900             NaN          NaN          NaN          NaN          NaN   \n",
       "1901             NaN          NaN          NaN          NaN          NaN   \n",
       "1902             NaN          NaN          NaN          NaN          NaN   \n",
       "\n",
       "station  USW00094794  \n",
       "year                  \n",
       "1892             NaN  \n",
       "1893             NaN  \n",
       "1895             NaN  \n",
       "1896             NaN  \n",
       "1897             NaN  \n",
       "1898             NaN  \n",
       "1899             NaN  \n",
       "1900             NaN  \n",
       "1901             NaN  \n",
       "1902             NaN  \n",
       "\n",
       "[10 rows x 328 columns]"
      ]
     },
     "execution_count": 9,
     "metadata": {},
     "output_type": "execute_result"
    }
   ],
   "source": [
    "year_station_table=pdf.pivot(index='year', columns='station', values='coeff_2')\n",
    "year_station_table.head(10)"
   ]
  },
  {
   "cell_type": "markdown",
   "metadata": {},
   "source": [
    "### Estimating the effect of the year vs the effect of the station\n",
    "\n",
    "To estimate the effect of time vs. location on the second eigenvector coefficient we\n",
    "compute:\n",
    "\n",
    "* The average row: `mean-by-station`\n",
    "* The average column: `mean-by-year`\n",
    "\n",
    "We then compute the RMS before and after subtracting either  the row or the column vector."
   ]
  },
  {
   "cell_type": "code",
   "execution_count": 11,
   "metadata": {
    "ExecuteTime": {
     "end_time": "2018-04-04T05:24:30.110180Z",
     "start_time": "2018-04-04T05:24:29.930124Z"
    }
   },
   "outputs": [
    {
     "name": "stdout",
     "output_type": "stream",
     "text": [
      "total RMS                   =  746.4242498619901\n",
      "RMS removing mean-by-station=  713.9992355494542\n",
      "RMS removing mean-by-year   =  543.967840314118\n"
     ]
    }
   ],
   "source": [
    "def RMS(Mat):\n",
    "    return np.sqrt(np.nanmean(Mat**2))\n",
    "\n",
    "mean_by_year=np.nanmean(year_station_table,axis=1)\n",
    "mean_by_station=np.nanmean(year_station_table,axis=0)\n",
    "tbl_minus_year = (year_station_table.transpose()-mean_by_year).transpose()\n",
    "tbl_minus_station = year_station_table-mean_by_station\n",
    "\n",
    "print('total RMS                   = ',RMS(year_station_table))\n",
    "print('RMS removing mean-by-station= ',RMS(tbl_minus_station))\n",
    "print('RMS removing mean-by-year   = ',RMS(tbl_minus_year))"
   ]
  },
  {
   "cell_type": "code",
   "execution_count": 13,
   "metadata": {
    "ExecuteTime": {
     "end_time": "2018-04-04T05:24:48.885668Z",
     "start_time": "2018-04-04T05:24:48.852887Z"
    }
   },
   "outputs": [
    {
     "name": "stdout",
     "output_type": "stream",
     "text": [
      "initial RMS= 746.4242498619901\n",
      "0 after removing mean by year    = 543.967840314118\n",
      "0 after removing mean by stations= 509.7023889469642\n",
      "1 after removing mean by year    = 509.08428782018143\n",
      "1 after removing mean by stations= 509.03315203806187\n",
      "2 after removing mean by year    = 509.0271904497572\n",
      "2 after removing mean by stations= 509.02636345222885\n",
      "3 after removing mean by year    = 509.0262286601185\n",
      "3 after removing mean by stations= 509.0262018326333\n",
      "4 after removing mean by year    = 509.0261951819865\n",
      "4 after removing mean by stations= 509.02619319041\n"
     ]
    }
   ],
   "source": [
    "T=year_station_table\n",
    "print('initial RMS=',RMS(T))\n",
    "for i in range(5):\n",
    "    mean_by_year=np.nanmean(T,axis=1)\n",
    "    T=(T.transpose()-mean_by_year).transpose()\n",
    "    print(i,'after removing mean by year    =',RMS(T))\n",
    "    mean_by_station=np.nanmean(T,axis=0)\n",
    "    T=T-mean_by_station\n",
    "    print(i,'after removing mean by stations=',RMS(T))"
   ]
  },
  {
   "cell_type": "code",
   "execution_count": 21,
   "metadata": {
    "ExecuteTime": {
     "end_time": "2018-04-04T05:29:32.718594Z",
     "start_time": "2018-04-04T05:29:32.714051Z"
    }
   },
   "outputs": [
    {
     "data": {
      "text/plain": [
       "year\n",
       "1892   -0.333379\n",
       "1893   -0.429132\n",
       "1895   -0.524884\n",
       "1896   -0.778554\n",
       "1897   -0.129935\n",
       "Name: mean_by_year, dtype: float64"
      ]
     },
     "execution_count": 21,
     "metadata": {},
     "output_type": "execute_result"
    }
   ],
   "source": [
    "T['mean_by_year']=mean_by_year\n",
    "T['mean_by_year'].head()"
   ]
  },
  {
   "cell_type": "code",
   "execution_count": 23,
   "metadata": {
    "ExecuteTime": {
     "end_time": "2018-04-04T05:31:02.292964Z",
     "start_time": "2018-04-04T05:31:02.161117Z"
    }
   },
   "outputs": [
    {
     "name": "stdout",
     "output_type": "stream",
     "text": [
      "Populating the interactive namespace from numpy and matplotlib\n"
     ]
    },
    {
     "data": {
      "text/plain": [
       "<matplotlib.axes._subplots.AxesSubplot at 0x121052e48>"
      ]
     },
     "execution_count": 23,
     "metadata": {},
     "output_type": "execute_result"
    },
    {
     "data": {
      "image/png": "[encoded data removed]",
      "text/plain": [
       "<matplotlib.figure.Figure at 0x11475dcc0>"
      ]
     },
     "metadata": {},
     "output_type": "display_data"
    }
   ],
   "source": [
    "%pylab inline\n",
    "T['mean_by_year'].plot();"
   ]
  },
  {
   "cell_type": "code",
   "execution_count": null,
   "metadata": {},
   "outputs": [],
   "source": []
  }
 ],
 "metadata": {
  "anaconda-cloud": {},
  "hide_input": false,
  "kernelspec": {
   "display_name": "Python 3",
   "language": "python",
   "name": "python3"
  },
  "language_info": {
   "codemirror_mode": {
    "name": "ipython",
    "version": 3
   },
   "file_extension": ".py",
   "mimetype": "text/x-python",
   "name": "python",
   "nbconvert_exporter": "python",
   "pygments_lexer": "ipython3",
   "version": "3.6.4"
  },
  "toc": {
   "base_numbering": 1,
   "nav_menu": {
    "height": "174px",
    "width": "252px"
   },
   "number_sections": true,
   "sideBar": true,
   "skip_h1_title": false,
   "title_cell": "Table of Contents",
   "title_sidebar": "Contents",
   "toc_cell": false,
   "toc_position": {},
   "toc_section_display": "block",
   "toc_window_display": false
  },
  "widgets": {
   "state": {},
   "version": "1.0.0"
  }
 },
 "nbformat": 4,
 "nbformat_minor": 1
}
