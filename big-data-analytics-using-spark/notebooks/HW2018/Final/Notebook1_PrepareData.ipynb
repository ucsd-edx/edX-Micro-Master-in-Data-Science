{
 "cells": [
  {
   "cell_type": "markdown",
   "metadata": {
    "nbgrader": {
     "grade": false,
     "grade_id": "cell-2ba3b7910255ec68",
     "locked": true,
     "schema_version": 1,
     "solution": false
    },
    "run_control": {
     "frozen": false,
     "read_only": false
    },
    "slideshow": {
     "slide_type": "slide"
    }
   },
   "source": [
    "<font size = 6><b>CSE 255 Take Home Final: Analysis of stock prices</b></font>\n",
    "\n",
    "\n",
    "In this take-home final you are to analyze the daily changes in stock prices using PCA and to measure the intrinsic dimension of stock sequences. Later you will also use xgboost to predict stock category from the eigenvectors of the data."
   ]
  },
  {
   "cell_type": "markdown",
   "metadata": {
    "nbgrader": {
     "grade": false,
     "grade_id": "cell-1a3df2de8f81dda3",
     "locked": true,
     "schema_version": 1,
     "solution": false
    },
    "run_control": {
     "frozen": false,
     "read_only": false
    },
    "slideshow": {
     "slide_type": "slide"
    }
   },
   "source": [
    "## Notebook 1: Preparing Data"
   ]
  },
  {
   "cell_type": "code",
   "execution_count": null,
   "metadata": {
    "ExecuteTime": {
     "end_time": "2018-06-08T19:21:52.921301Z",
     "start_time": "2018-06-08T19:21:52.524276Z"
    },
    "hide_input": false,
    "nbgrader": {
     "grade": false,
     "grade_id": "cell-d594c85f4ed89728",
     "locked": true,
     "schema_version": 1,
     "solution": false
    }
   },
   "outputs": [],
   "source": [
    "!pwd  \n",
    "\n",
    "## should be /home/jovyan/work/Final if you're using docker. If you're not using docker,\n",
    "## you should still work inside the `Final` folder before proceeding forward."
   ]
  },
  {
   "cell_type": "code",
   "execution_count": null,
   "metadata": {
    "ExecuteTime": {
     "end_time": "2018-06-08T19:21:53.662647Z",
     "start_time": "2018-06-08T19:21:53.244143Z"
    },
    "nbgrader": {
     "grade": false,
     "grade_id": "cell-1c454425eff3792a",
     "locked": true,
     "schema_version": 1,
     "solution": false
    },
    "run_control": {
     "frozen": false,
     "read_only": false
    },
    "slideshow": {
     "slide_type": "skip"
    }
   },
   "outputs": [],
   "source": [
    "## importing some useful python libraries\n",
    "\n",
    "import sys,os\n",
    "import numpy as np\n",
    "from numpy.linalg import norm\n",
    "import matplotlib.pyplot as plt\n",
    "%matplotlib inline\n",
    "\n",
    "from time import time\n",
    "import math\n",
    "import pandas as pd\n",
    "from glob import glob\n",
    "import pickle\n"
   ]
  },
  {
   "cell_type": "markdown",
   "metadata": {
    "nbgrader": {
     "grade": false,
     "grade_id": "cell-18e2b62ca91581fe",
     "locked": true,
     "schema_version": 1,
     "solution": false
    }
   },
   "source": [
    "### Download Data\n",
    "\n",
    "We start by downloading data and pre-processing it to make it ready for analysis using Spark.\n",
    "\n",
    "The data is a directory with .csv files, one for each stock. This directory has been tarred and uploaded to S3, at: https://mas-dse-open.s3.amazonaws.com/Stocks/spdata_csv.tgz\n",
    "\n",
    "Download and untar the file to create a subdirectory of the current directory called `spdata_csv`"
   ]
  },
  {
   "cell_type": "code",
   "execution_count": null,
   "metadata": {
    "ExecuteTime": {
     "end_time": "2018-06-08T19:21:54.905814Z",
     "start_time": "2018-06-08T19:21:54.524959Z"
    }
   },
   "outputs": [],
   "source": [
    "!pwd\n",
    "\n",
    "## This should be /home/jovyan/work/Final if you're using docker.\n",
    "## If not using docker, `cd` to the `Final` directory before proceeding."
   ]
  },
  {
   "cell_type": "code",
   "execution_count": null,
   "metadata": {
    "ExecuteTime": {
     "end_time": "2018-06-08T19:22:21.882883Z",
     "start_time": "2018-06-08T19:21:55.503712Z"
    },
    "nbgrader": {
     "grade": false,
     "grade_id": "cell-2e14eb285366f319",
     "locked": true,
     "schema_version": 1,
     "solution": false
    },
    "run_control": {
     "frozen": false,
     "read_only": false
    },
    "scrolled": true
   },
   "outputs": [],
   "source": [
    "## creating the necessary directory structure and downloading/extracting data \n",
    "\n",
    "%mkdir -p data/\n",
    "%cd data\n",
    "!rm -f spdata_csv.tgz && rm -rf spdata_csv ## Deleting any old copy present\n",
    "!wget https://mas-dse-open.s3.amazonaws.com/Stocks/spdata_csv.tgz ## Downloading data\n",
    "!tar -xf spdata_csv.tgz ## Extracting data\n",
    "## Going back to `Final` directory to keep it as our working directory\n",
    "%cd ../ \n",
    "%ls -al data/"
   ]
  },
  {
   "cell_type": "code",
   "execution_count": null,
   "metadata": {
    "ExecuteTime": {
     "end_time": "2018-06-08T19:22:22.021769Z",
     "start_time": "2018-06-08T19:22:21.980345Z"
    },
    "nbgrader": {
     "grade": false,
     "grade_id": "cell-3305f0ecf890052d",
     "locked": true,
     "schema_version": 1,
     "solution": false
    }
   },
   "outputs": [],
   "source": [
    "## How is the data structured?\n",
    "\n",
    "files=!ls -1 data/spdata_csv/train/\n",
    "files[:5]"
   ]
  },
  {
   "cell_type": "markdown",
   "metadata": {
    "nbgrader": {
     "grade": false,
     "grade_id": "cell-8e2cc7dca05f8cee",
     "locked": true,
     "schema_version": 1,
     "solution": false
    },
    "run_control": {
     "frozen": false,
     "read_only": false
    }
   },
   "source": [
    "### Stock Info\n",
    "The file `data/TickerInfo.tsv` contains information relating companies to sectors."
   ]
  },
  {
   "cell_type": "code",
   "execution_count": null,
   "metadata": {
    "ExecuteTime": {
     "end_time": "2018-06-08T19:22:47.865031Z",
     "start_time": "2018-06-08T19:22:46.806289Z"
    },
    "nbgrader": {
     "grade": false,
     "grade_id": "cell-eb472367242c6c57",
     "locked": true,
     "schema_version": 1,
     "solution": false
    }
   },
   "outputs": [],
   "source": [
    "## How many train and test stocks?\n",
    "\n",
    "!ls -l data/spdata_csv/train/ | wc\n",
    "!ls -l data/spdata_csv/test/ | wc"
   ]
  },
  {
   "cell_type": "markdown",
   "metadata": {
    "nbgrader": {
     "grade": false,
     "grade_id": "cell-492d2fbf0848a3e3",
     "locked": true,
     "schema_version": 1,
     "solution": false
    }
   },
   "source": [
    "## Read Data and create a single table\n",
    "\n",
    "Your task in this notebook is to read the stock-information `.csv` files, extract from them the column \n",
    "`Adj. Open` and combine them into a single `.csv` file containing all of the information that is relevant for later analysis.\n",
    "\n",
    "Below we suggest a particular sequence of steps, you can either follow these steps, or do this in your own way.  The end result should be a file called `SP500.csv` which stores the information described below."
   ]
  },
  {
   "cell_type": "markdown",
   "metadata": {
    "nbgrader": {
     "grade": false,
     "grade_id": "cell-4ae65d5a84ffc092",
     "locked": true,
     "schema_version": 1,
     "solution": false
    }
   },
   "source": [
    "### Step 1: files into pandas dataframes\n",
    "\n",
    "In this step we read all of the relevant information into a large dictionary we call `Tables`.\n",
    "\n",
    "The key to this dictionary is the stocks \"ticker\" which corresponds to the file name excluding the `.csv` extension. Hence, we read in all of the files in the directory `spdata_csv`."
   ]
  },
  {
   "cell_type": "code",
   "execution_count": null,
   "metadata": {
    "ExecuteTime": {
     "end_time": "2018-06-08T19:22:49.464564Z",
     "start_time": "2018-06-08T19:22:49.442316Z"
    },
    "nbgrader": {
     "grade": false,
     "grade_id": "cell-19cb813c84d0d8b8",
     "locked": true,
     "schema_version": 1,
     "solution": false
    }
   },
   "outputs": [],
   "source": [
    "cur_dir = !pwd\n",
    "print(\"The current working directory: \", cur_dir)\n",
    "data_dir_rel_path = 'data/spdata_csv/'"
   ]
  },
  {
   "cell_type": "code",
   "execution_count": null,
   "metadata": {
    "ExecuteTime": {
     "end_time": "2018-06-08T19:23:05.313010Z",
     "start_time": "2018-06-08T19:22:51.576161Z"
    },
    "nbgrader": {
     "grade": false,
     "grade_id": "cell-4d1c95761932f79d",
     "locked": true,
     "schema_version": 1,
     "solution": false
    },
    "run_control": {
     "frozen": false,
     "read_only": false
    },
    "scrolled": false
   },
   "outputs": [],
   "source": [
    "%cd $data_dir_rel_path\n",
    "Tables={}\n",
    "for filename in glob('*/*.csv'):\n",
    "    print('\\r',filename, end=' ')\n",
    "    head, tail = os.path.split(filename)\n",
    "    #stock_name = tail[:-4]\n",
    "    code = filename[:-4]\n",
    "    tbl=pd.read_csv(filename,index_col='Date',parse_dates=True)\n",
    "    if(np.shape(tbl)[1]==12):\n",
    "        Tables[code]=tbl.sort_index()\n",
    "        Tables[code]\n",
    "    else:\n",
    "        print(\"This file does not have the correct number of columns.\")\n",
    "        print(filename,np.shape(tbl))\n",
    "        \n",
    "%cd ../../\n",
    "print(\"The current working directory: \", cur_dir)"
   ]
  },
  {
   "cell_type": "code",
   "execution_count": null,
   "metadata": {
    "ExecuteTime": {
     "end_time": "2018-06-08T19:24:36.130909Z",
     "start_time": "2018-06-08T19:24:36.108825Z"
    },
    "nbgrader": {
     "grade": false,
     "grade_id": "cell-01a761988a187278",
     "locked": true,
     "schema_version": 1,
     "solution": false
    },
    "run_control": {
     "frozen": false,
     "read_only": false
    },
    "scrolled": true
   },
   "outputs": [],
   "source": [
    "# Example of an entry in `Tables`\n",
    "print(len(Tables))\n",
    "Tables['train/IBM'].head()"
   ]
  },
  {
   "cell_type": "markdown",
   "metadata": {
    "nbgrader": {
     "grade": false,
     "grade_id": "cell-b36b12c1afaf0cba",
     "locked": true,
     "schema_version": 1,
     "solution": false
    },
    "run_control": {
     "frozen": false,
     "read_only": false
    }
   },
   "source": [
    "### Step 2: Computing diffs and combining into a single table\n",
    "\n",
    "The next step is to extract the relevant prices from each table, compute an additional quantity we call `diff` and create a single combined pandas dataframe called `Diffs` containing info about all stocks.\n",
    "\n",
    "The price we will use is the **Adjusted Open Price** which is the price when the stock exchange opens in the morning. We use the **adjusted** price which eliminates technical adjustments such as stock splits.\n",
    "\n",
    "It is more meaningful to predict *changes* in prices than prices themselves. We therefore compute, for each stock, a `Diffs` sequence in which $d(t)=\\log \\frac{p(t+1)}{p(t)}$ where $p(t)$ is the price at day $t$ and $d(t)$ is the price diff or the price ratio.\n",
    "\n",
    "Obviously, if we have a price sequence of length $T$ then the length of the diff sequence will be $T-1$. To make the price sequence and the diff sequence have the same length we eliminate the last day price for each sequence after we've calculated the `diff` for that stock.\n",
    "\n",
    "Your task in this step is to compute the diff sequence for each stock, and `join` them by date,  and create one large Pandas DataFrame called `Diffs` where the row index is the date, and there are two columns for each ticker. For example for the ticker `IBM`, there would be two columns `IBM_P` and `IBM_D`. The first corresponds to the prices of the IBM stock $p(t)$ and the second to the price difference $d(t)$. In total, the resultant Pandas dataframe should have 962 columns (i.e. 481*2)."
   ]
  },
  {
   "cell_type": "code",
   "execution_count": null,
   "metadata": {
    "ExecuteTime": {
     "end_time": "2018-06-08T19:26:07.553130Z",
     "start_time": "2018-06-08T19:26:07.528792Z"
    },
    "nbgrader": {
     "grade": false,
     "grade_id": "cell-7ee8b589fb5ece20",
     "locked": false,
     "schema_version": 1,
     "solution": true
    }
   },
   "outputs": [],
   "source": [
    "def construct_df_with_diffs_and_prices(Tables):\n",
    "    ## This is the df you will use to store the required info.\n",
    "    ## You may keep `joining` calculated data for each stock in this DF.\n",
    "    Diffs=pd.DataFrame()\n",
    "    \n",
    "    Indices=set(Tables.keys())\n",
    "    print(len(Indices))\n",
    "    \n",
    "    for code in Indices:\n",
    "\n",
    "        #BEGIN SOLUTION\n",
    "        print('\\r',code, end=' ')\n",
    "        #i+=1\n",
    "        tbl=Tables[code]\n",
    "        S=tbl['Adj. Open']\n",
    "        prices=np.array(S)  # The length of \"prices\" will remain the original length.\n",
    "        diff=np.log(prices[1:]/prices[:-1])\n",
    "        I=S.index[:-1]\n",
    "        #print np.shae(Diffs),np.shape(Sdiff),np.shape(diff),len(I)\n",
    "        Sdiff=pd.DataFrame({code+'_D':diff,code+'_P':prices[:-1]},index=I)\n",
    "        Diffs=Diffs.join(Sdiff,how='outer')\n",
    "        #END SOLUTION\n",
    "    \n",
    "    return Diffs"
   ]
  },
  {
   "cell_type": "code",
   "execution_count": null,
   "metadata": {
    "ExecuteTime": {
     "end_time": "2018-06-08T19:28:04.427160Z",
     "start_time": "2018-06-08T19:27:36.347277Z"
    },
    "nbgrader": {
     "grade": false,
     "grade_id": "cell-fb782514f0a15f37",
     "locked": true,
     "schema_version": 1,
     "solution": false
    },
    "scrolled": true
   },
   "outputs": [],
   "source": [
    "Diffs = construct_df_with_diffs_and_prices(Tables)\n",
    "Diffs.head()"
   ]
  },
  {
   "cell_type": "code",
   "execution_count": null,
   "metadata": {
    "ExecuteTime": {
     "end_time": "2018-06-08T19:29:36.777800Z",
     "start_time": "2018-06-08T19:29:36.772123Z"
    },
    "nbgrader": {
     "grade": false,
     "grade_id": "cell-9aefe0ac3ef7109a",
     "locked": true,
     "schema_version": 1,
     "solution": false
    }
   },
   "outputs": [],
   "source": [
    "assert True if 'train/IBM_P' in Diffs else False, \"Please check your implementation.\"\n",
    "assert True if 'train/IBM_D' in Diffs else False, \"Please check your implementation.\""
   ]
  },
  {
   "cell_type": "code",
   "execution_count": null,
   "metadata": {
    "ExecuteTime": {
     "end_time": "2018-06-08T19:31:08.584500Z",
     "start_time": "2018-06-08T19:31:08.579217Z"
    },
    "nbgrader": {
     "grade": false,
     "grade_id": "cell-87b452c96dfc296c",
     "locked": true,
     "schema_version": 1,
     "solution": false
    }
   },
   "outputs": [],
   "source": [
    "assert len(Diffs['train/IBM_P'])==len(Diffs['train/IBM_D'])==Diffs.shape[0], \"The number of rows across stocks should remain fixed.\"\n",
    "assert len(Diffs.columns) == 962, \"The number of columns are not correct. Please check your implementation\""
   ]
  },
  {
   "cell_type": "code",
   "execution_count": null,
   "metadata": {
    "ExecuteTime": {
     "end_time": "2018-06-08T19:32:41.757681Z",
     "start_time": "2018-06-08T19:32:41.747232Z"
    },
    "nbgrader": {
     "grade": false,
     "grade_id": "cell-a492b5622d2f9ac9",
     "locked": true,
     "schema_version": 1,
     "solution": false
    }
   },
   "outputs": [],
   "source": [
    "assert type(Diffs['train/IBM_P']) == pd.Series, \"Every column should be a pandas series\"\n",
    "assert type(Diffs['train/IBM_P'][0]) == np.float64, \"Every data point in a series should be np.float64\"\n",
    "assert type(Diffs['train/IBM_D']) == pd.Series, \"Every column should be a pandas series\"\n",
    "assert type(Diffs['train/IBM_D'][0]) == np.float64, \"Every data point in a series should be np.float64\""
   ]
  },
  {
   "cell_type": "code",
   "execution_count": null,
   "metadata": {
    "ExecuteTime": {
     "end_time": "2018-06-08T19:17:27.889835Z",
     "start_time": "2018-06-08T19:16:45.452Z"
    },
    "nbgrader": {
     "grade": true,
     "grade_id": "cell-bb37a020bb3a04f0",
     "locked": true,
     "points": 1,
     "schema_version": 1,
     "solution": false
    }
   },
   "outputs": [],
   "source": [
    "#Hidden tests here\n",
    "### BEGIN HIDDEN TESTS \n",
    "assert Diffs.shape==(13422, 962), \"incorrect shape\"   \n",
    "### END HIDDEN TESTS"
   ]
  },
  {
   "cell_type": "code",
   "execution_count": null,
   "metadata": {
    "ExecuteTime": {
     "end_time": "2018-06-08T19:17:27.891554Z",
     "start_time": "2018-06-08T19:16:45.454Z"
    },
    "nbgrader": {
     "grade": true,
     "grade_id": "cell-9719ba8a4713d723",
     "locked": true,
     "points": 3,
     "schema_version": 1,
     "solution": false
    }
   },
   "outputs": [],
   "source": [
    "#Hidden tests here\n",
    "### BEGIN HIDDEN TESTS \n",
    "assert np.round(Diffs['train/AMZN_P'][10001],3) == np.round(7.59,2), \"incorrect value\"\n",
    "assert np.round(Diffs['train/AMZN_D'][10000],3) == np.round(0.038957243253193226, 3), \"incorrect value\"   \n",
    "### END HIDDEN TESTS"
   ]
  },
  {
   "cell_type": "code",
   "execution_count": null,
   "metadata": {
    "ExecuteTime": {
     "end_time": "2018-06-08T19:17:27.893239Z",
     "start_time": "2018-06-08T19:16:45.457Z"
    },
    "nbgrader": {
     "grade": true,
     "grade_id": "cell-c73722a38ba5ae22",
     "locked": true,
     "points": 6,
     "schema_version": 1,
     "solution": false
    },
    "scrolled": false
   },
   "outputs": [],
   "source": [
    "#Hidden tests here\n",
    "### BEGIN HIDDEN TESTS \n",
    "assert np.round(np.sum(Diffs['train/AMZN_D']),3) == np.round(5.272647773904442,3), \"incorrect value\"\n",
    "assert np.round(np.sum(Diffs['train/AMZN_P']),3) == np.round(457411.17666666675,3), \"incorrect value\"   \n",
    "### END HIDDEN TESTS"
   ]
  },
  {
   "cell_type": "code",
   "execution_count": null,
   "metadata": {
    "ExecuteTime": {
     "end_time": "2018-06-08T19:17:27.894998Z",
     "start_time": "2018-06-08T19:16:45.459Z"
    },
    "nbgrader": {
     "grade": false,
     "grade_id": "cell-b546f7d80f303a69",
     "locked": true,
     "schema_version": 1,
     "solution": false
    },
    "run_control": {
     "frozen": false,
     "read_only": false
    },
    "scrolled": false
   },
   "outputs": [],
   "source": [
    "# plot some stocks\n",
    "\n",
    "Diffs[['train/AAPL_P','train/MSFT_P','train/IBM_P','test/8_P']].plot(figsize=(14,10));\n",
    "plt.grid()"
   ]
  },
  {
   "cell_type": "markdown",
   "metadata": {
    "nbgrader": {
     "grade": false,
     "grade_id": "cell-7ec0552d6b9fb907",
     "locked": true,
     "schema_version": 1,
     "solution": false
    }
   },
   "source": [
    "### Black Monday\n",
    "\n",
    "One of the biggest crashes in the US stock market happened on\n",
    "**Black Monday:** Oct 19 1987  \n",
    "\n",
    "We will look at the stocks around that date"
   ]
  },
  {
   "cell_type": "code",
   "execution_count": null,
   "metadata": {
    "ExecuteTime": {
     "end_time": "2018-06-08T19:17:27.896933Z",
     "start_time": "2018-06-08T19:16:45.462Z"
    },
    "nbgrader": {
     "grade": false,
     "grade_id": "cell-aff26d651c9b4154",
     "locked": true,
     "schema_version": 1,
     "solution": false
    },
    "scrolled": false
   },
   "outputs": [],
   "source": [
    "#Focus on \"Black Monday:\" the stock crash of Oct 19 1987\n",
    "\n",
    "import datetime\n",
    "format = \"%b-%d-%Y\"\n",
    "\n",
    "_from = datetime.datetime.strptime('Sep-1-1987', format)\n",
    "_to = datetime.datetime.strptime('Nov-30-1987', format)\n",
    "\n",
    "Diffs.loc[_from:_to,['train/AAPL_P','train/MSFT_P','train/IBM_P']].plot(figsize=(14,10));\n",
    "plt.grid()"
   ]
  },
  {
   "cell_type": "markdown",
   "metadata": {
    "nbgrader": {
     "grade": false,
     "grade_id": "cell-493f011fa6223a6f",
     "locked": true,
     "schema_version": 1,
     "solution": false
    }
   },
   "source": [
    "**Why does it seems that the price of IBM fell much more than those of Apple and microsoft?**\n",
    "\n",
    "Because IBM's price started so much higher. As explained above it is more informative to consider $\\log(p_{t+1}/p_t)$"
   ]
  },
  {
   "cell_type": "code",
   "execution_count": null,
   "metadata": {
    "ExecuteTime": {
     "end_time": "2018-06-08T19:17:27.898682Z",
     "start_time": "2018-06-08T19:16:45.465Z"
    },
    "nbgrader": {
     "grade": false,
     "grade_id": "cell-23bc5fa5c83356b6",
     "locked": true,
     "schema_version": 1,
     "solution": false
    },
    "scrolled": false
   },
   "outputs": [],
   "source": [
    "Diffs.loc[_from:_to,['train/AAPL_D','train/MSFT_D','train/IBM_D']].plot(figsize=(14,10));\n",
    "plt.grid()"
   ]
  },
  {
   "cell_type": "code",
   "execution_count": null,
   "metadata": {
    "ExecuteTime": {
     "end_time": "2018-06-08T19:17:27.900631Z",
     "start_time": "2018-06-08T19:16:45.468Z"
    },
    "nbgrader": {
     "grade": false,
     "grade_id": "cell-cf16e02180e2c087",
     "locked": true,
     "schema_version": 1,
     "solution": false
    }
   },
   "outputs": [],
   "source": [
    "!pwd  \n",
    "\n",
    "## should be /home/jovyan/work/Final if you're using docker. If you're not using docker,\n",
    "## you should still work inside the `Final` folder before proceeding forward."
   ]
  },
  {
   "cell_type": "code",
   "execution_count": null,
   "metadata": {
    "ExecuteTime": {
     "end_time": "2018-06-08T19:17:27.902366Z",
     "start_time": "2018-06-08T19:16:45.471Z"
    },
    "nbgrader": {
     "grade": false,
     "grade_id": "cell-95add1f544bd3891",
     "locked": true,
     "schema_version": 1,
     "solution": false
    },
    "run_control": {
     "frozen": false,
     "read_only": false
    }
   },
   "outputs": [],
   "source": [
    "## Saving the data to appropriate location for use in next notebooks\n",
    "Diffs.to_csv('data/SP500.csv')"
   ]
  },
  {
   "cell_type": "markdown",
   "metadata": {
    "nbgrader": {
     "grade": false,
     "grade_id": "cell-dcd19166fa834160",
     "locked": true,
     "schema_version": 1,
     "solution": false
    }
   },
   "source": [
    "### Note\n",
    "\n",
    "In order to make sure errors in constructing data do not get propagated in other notebooks of the final, you may run the below cell which will download the instructors version of \"SP500.csv\". For next notebooks, you may use either your own version or the one provided by us. Ideally both should have the same contents"
   ]
  },
  {
   "cell_type": "code",
   "execution_count": null,
   "metadata": {
    "ExecuteTime": {
     "end_time": "2018-06-08T19:17:27.903931Z",
     "start_time": "2018-06-08T19:16:45.472Z"
    },
    "nbgrader": {
     "grade": false,
     "grade_id": "cell-17b813d7ab8550d9",
     "locked": true,
     "schema_version": 1,
     "solution": false
    }
   },
   "outputs": [],
   "source": [
    "%mkdir -p data/\n",
    "%cd data\n",
    "!rm -f data.tgz && rm -rf data ## Instructor's version of the output from this notebook\n",
    "!wget https://mas-dse-open.s3.amazonaws.com/Stocks/data.tgz\n",
    "!tar -xf data.tgz ## Extracting data\n",
    "%cd ../ ## Going back to `Final` directory to keep it as our working directory\n",
    "%ls -al data/"
   ]
  }
 ],
 "metadata": {
  "anaconda-cloud": {},
  "celltoolbar": "Create Assignment",
  "kernelspec": {
   "display_name": "Python 3",
   "language": "python",
   "name": "python3"
  },
  "language_info": {
   "codemirror_mode": {
    "name": "ipython",
    "version": 3
   },
   "file_extension": ".py",
   "mimetype": "text/x-python",
   "name": "python",
   "nbconvert_exporter": "python",
   "pygments_lexer": "ipython3",
   "version": "3.6.5"
  },
  "toc": {
   "base_numbering": 1,
   "nav_menu": {
    "height": "135px",
    "width": "253px"
   },
   "number_sections": true,
   "sideBar": true,
   "skip_h1_title": false,
   "title_cell": "Table of Contents",
   "title_sidebar": "Contents",
   "toc_cell": false,
   "toc_position": {
    "height": "calc(100% - 180px)",
    "left": "10px",
    "top": "150px",
    "width": "262px"
   },
   "toc_section_display": "block",
   "toc_window_display": true
  },
  "varInspector": {
   "cols": {
    "lenName": 16,
    "lenType": 16,
    "lenVar": 40
   },
   "kernels_config": {
    "python": {
     "delete_cmd_postfix": "",
     "delete_cmd_prefix": "del ",
     "library": "var_list.py",
     "varRefreshCmd": "print(var_dic_list())"
    },
    "r": {
     "delete_cmd_postfix": ") ",
     "delete_cmd_prefix": "rm(",
     "library": "var_list.r",
     "varRefreshCmd": "cat(var_dic_list()) "
    }
   },
   "types_to_exclude": [
    "module",
    "function",
    "builtin_function_or_method",
    "instance",
    "_Feature"
   ],
   "window_display": false
  }
 },
 "nbformat": 4,
 "nbformat_minor": 1
}
