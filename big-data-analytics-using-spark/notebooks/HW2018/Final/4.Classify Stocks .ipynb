{
 "cells": [
  {
   "cell_type": "code",
   "execution_count": 1,
   "metadata": {
    "ExecuteTime": {
     "end_time": "2018-06-07T22:03:37.279100Z",
     "start_time": "2018-06-07T22:03:36.723622Z"
    }
   },
   "outputs": [
    {
     "name": "stdout",
     "output_type": "stream",
     "text": [
      "Populating the interactive namespace from numpy and matplotlib\n"
     ]
    }
   ],
   "source": [
    "import pickle\n",
    "import pandas as pd\n",
    "import numpy as np\n",
    "import xgboost as xgb\n",
    "from sklearn.model_selection import train_test_split\n",
    "%pylab inline"
   ]
  },
  {
   "cell_type": "markdown",
   "metadata": {},
   "source": [
    "## Read PCA parameters"
   ]
  },
  {
   "cell_type": "code",
   "execution_count": 55,
   "metadata": {
    "ExecuteTime": {
     "end_time": "2018-06-08T17:42:56.002594Z",
     "start_time": "2018-06-08T17:42:55.986422Z"
    },
    "scrolled": true
   },
   "outputs": [],
   "source": [
    "\n",
    "D=pickle.load(open('data/PCA.pickle','rb'))\n",
    "col=D['columns']\n",
    "eigvec=D['eigvec']\n",
    "eigval=D['eigval']"
   ]
  },
  {
   "cell_type": "code",
   "execution_count": 59,
   "metadata": {
    "ExecuteTime": {
     "end_time": "2018-06-08T17:44:13.668641Z",
     "start_time": "2018-06-08T17:44:13.508574Z"
    }
   },
   "outputs": [
    {
     "data": {
      "text/plain": [
       "<matplotlib.collections.PathCollection at 0x7fd9aa165ba8>"
      ]
     },
     "execution_count": 59,
     "metadata": {},
     "output_type": "execute_result"
    },
    {
     "data": {
      "image/png": "[encoded data removed]",
      "text/plain": [
       "<Figure size 432x288 with 1 Axes>"
      ]
     },
     "metadata": {},
     "output_type": "display_data"
    }
   ],
   "source": [
    "scatter(eigvec[:,0],eigvec[:,1])"
   ]
  },
  {
   "cell_type": "markdown",
   "metadata": {},
   "source": [
    "## compute features"
   ]
  },
  {
   "cell_type": "code",
   "execution_count": 60,
   "metadata": {
    "ExecuteTime": {
     "end_time": "2018-06-08T17:44:56.409860Z",
     "start_time": "2018-06-08T17:44:56.404047Z"
    }
   },
   "outputs": [
    {
     "data": {
      "text/plain": [
       "(481, 20)"
      ]
     },
     "execution_count": 60,
     "metadata": {},
     "output_type": "execute_result"
    }
   ],
   "source": [
    "features=eigvec[:,:20]\n",
    "features.shape"
   ]
  },
  {
   "cell_type": "markdown",
   "metadata": {},
   "source": [
    "##  compute labels (sectors)"
   ]
  },
  {
   "cell_type": "code",
   "execution_count": 61,
   "metadata": {
    "ExecuteTime": {
     "end_time": "2018-06-08T17:45:09.259042Z",
     "start_time": "2018-06-08T17:45:09.205752Z"
    },
    "scrolled": true
   },
   "outputs": [
    {
     "name": "stdout",
     "output_type": "stream",
     "text": [
      "(505, 5)\n"
     ]
    },
    {
     "data": {
      "text/html": [
       "<div>\n",
       "<style scoped>\n",
       "    .dataframe tbody tr th:only-of-type {\n",
       "        vertical-align: middle;\n",
       "    }\n",
       "\n",
       "    .dataframe tbody tr th {\n",
       "        vertical-align: top;\n",
       "    }\n",
       "\n",
       "    .dataframe thead th {\n",
       "        text-align: right;\n",
       "    }\n",
       "</style>\n",
       "<table border=\"1\" class=\"dataframe\">\n",
       "  <thead>\n",
       "    <tr style=\"text-align: right;\">\n",
       "      <th></th>\n",
       "      <th>Unnamed: 0</th>\n",
       "      <th>Ticker</th>\n",
       "      <th>Name</th>\n",
       "      <th>Sector</th>\n",
       "      <th>SECTOR_ID</th>\n",
       "    </tr>\n",
       "  </thead>\n",
       "  <tbody>\n",
       "    <tr>\n",
       "      <th>0</th>\n",
       "      <td>0</td>\n",
       "      <td>MMM</td>\n",
       "      <td>3M|3M Company</td>\n",
       "      <td>Industrials</td>\n",
       "      <td>INDS</td>\n",
       "    </tr>\n",
       "    <tr>\n",
       "      <th>1</th>\n",
       "      <td>1</td>\n",
       "      <td>ABT</td>\n",
       "      <td>Abbott Laboratories</td>\n",
       "      <td>Health Care</td>\n",
       "      <td>HC</td>\n",
       "    </tr>\n",
       "    <tr>\n",
       "      <th>2</th>\n",
       "      <td>2</td>\n",
       "      <td>ABBV</td>\n",
       "      <td>AbbVie Inc.</td>\n",
       "      <td>Health Care</td>\n",
       "      <td>HC</td>\n",
       "    </tr>\n",
       "    <tr>\n",
       "      <th>3</th>\n",
       "      <td>3</td>\n",
       "      <td>ACN</td>\n",
       "      <td>Accenture plc</td>\n",
       "      <td>Information Technology</td>\n",
       "      <td>IT</td>\n",
       "    </tr>\n",
       "    <tr>\n",
       "      <th>4</th>\n",
       "      <td>4</td>\n",
       "      <td>ATVI</td>\n",
       "      <td>Activision Blizzard</td>\n",
       "      <td>Information Technology</td>\n",
       "      <td>IT</td>\n",
       "    </tr>\n",
       "  </tbody>\n",
       "</table>\n",
       "</div>"
      ],
      "text/plain": [
       "   Unnamed: 0 Ticker                 Name                  Sector SECTOR_ID\n",
       "0           0    MMM        3M|3M Company             Industrials      INDS\n",
       "1           1    ABT  Abbott Laboratories             Health Care        HC\n",
       "2           2   ABBV          AbbVie Inc.             Health Care        HC\n",
       "3           3    ACN        Accenture plc  Information Technology        IT\n",
       "4           4   ATVI  Activision Blizzard  Information Technology        IT"
      ]
     },
     "execution_count": 61,
     "metadata": {},
     "output_type": "execute_result"
    }
   ],
   "source": [
    "TickerInfo=pd.read_csv('data/TickerInfo.tsv',sep='\\t')\n",
    "print(TickerInfo.shape)\n",
    "TickerInfo.head()"
   ]
  },
  {
   "cell_type": "code",
   "execution_count": 62,
   "metadata": {
    "ExecuteTime": {
     "end_time": "2018-06-08T17:45:11.389071Z",
     "start_time": "2018-06-08T17:45:11.367568Z"
    }
   },
   "outputs": [
    {
     "data": {
      "text/plain": [
       "{'CD': 0,\n",
       " 'CS': 1,\n",
       " 'EN': 2,\n",
       " 'FIN': 3,\n",
       " 'HC': 4,\n",
       " 'INDS': 5,\n",
       " 'IT': 6,\n",
       " 'MAT': 7,\n",
       " 'RE': 8,\n",
       " 'TS': 9,\n",
       " 'UTIL': 10}"
      ]
     },
     "execution_count": 62,
     "metadata": {},
     "output_type": "execute_result"
    }
   ],
   "source": [
    "Sectors={'Consumer Discretionary':'CD',\n",
    " 'Consumer Staples':'CS',\n",
    " 'Energy':'EN',\n",
    " 'Financials':'FIN',\n",
    " 'Health Care':'HC',\n",
    " 'Industrials':'INDS',\n",
    " 'Information Technology':'IT',\n",
    " 'Materials':'MAT',\n",
    " 'Real Estate':'RE',\n",
    " 'Telecommunication Services':'TS',\n",
    " 'Utilities':'UTIL'}\n",
    "sector2number={}\n",
    "i=0;\n",
    "for name,short in Sectors.items():\n",
    "    sector2number[short]=i\n",
    "    i+=1\n",
    "sector2number"
   ]
  },
  {
   "cell_type": "code",
   "execution_count": 66,
   "metadata": {
    "ExecuteTime": {
     "end_time": "2018-06-08T17:54:19.378953Z",
     "start_time": "2018-06-08T17:54:19.116795Z"
    }
   },
   "outputs": [],
   "source": [
    "labels=[]\n",
    "feature_vectors=[]\n",
    "for i in range(len(col)):\n",
    "    c=col[i]\n",
    "    if 'train' in c:\n",
    "        ticker=c[6:-2]\n",
    "        answer=list(TickerInfo[TickerInfo.Ticker==ticker]['SECTOR_ID'])\n",
    "        if len(answer)==1:\n",
    "            sector_no=sector2number[answer[0]]\n",
    "            labels.append(sector_no)\n",
    "            feature_vectors.append(features[i,:])\n",
    "        else:\n",
    "            print('error: could not find sector for ticker:',ticker)\n"
   ]
  },
  {
   "cell_type": "code",
   "execution_count": 68,
   "metadata": {
    "ExecuteTime": {
     "end_time": "2018-06-08T17:55:03.132015Z",
     "start_time": "2018-06-08T17:55:03.126239Z"
    }
   },
   "outputs": [
    {
     "data": {
      "text/plain": [
       "(392, 392)"
      ]
     },
     "execution_count": 68,
     "metadata": {},
     "output_type": "execute_result"
    }
   ],
   "source": [
    "len(labels),len(feature_vectors)"
   ]
  },
  {
   "cell_type": "code",
   "execution_count": 73,
   "metadata": {
    "ExecuteTime": {
     "end_time": "2018-06-08T17:59:12.148863Z",
     "start_time": "2018-06-08T17:59:12.140500Z"
    }
   },
   "outputs": [
    {
     "data": {
      "text/plain": [
       "((392, 20), (392,))"
      ]
     },
     "execution_count": 73,
     "metadata": {},
     "output_type": "execute_result"
    }
   ],
   "source": [
    "y=np.array(labels)\n",
    "X=np.array(feature_vectors) #.transpose()\n",
    "X.shape, y.shape"
   ]
  },
  {
   "cell_type": "code",
   "execution_count": 74,
   "metadata": {
    "ExecuteTime": {
     "end_time": "2018-06-08T17:59:13.753749Z",
     "start_time": "2018-06-08T17:59:13.735247Z"
    }
   },
   "outputs": [
    {
     "data": {
      "text/plain": [
       "((274, 20), (118, 20))"
      ]
     },
     "execution_count": 74,
     "metadata": {},
     "output_type": "execute_result"
    }
   ],
   "source": [
    "#this is a case where cross validation can help.\n",
    "\n",
    "X_train, X_valid, y_train, y_valid = train_test_split(X, y, test_size=0.30)\n",
    "X_train.shape, X_valid.shape"
   ]
  },
  {
   "cell_type": "code",
   "execution_count": 77,
   "metadata": {
    "ExecuteTime": {
     "end_time": "2018-06-08T18:00:51.287293Z",
     "start_time": "2018-06-08T18:00:51.274343Z"
    }
   },
   "outputs": [],
   "source": [
    "dtrain = xgb.DMatrix(X_train, label=y_train)\n",
    "dvalid = xgb.DMatrix(X_valid, label=y_valid)"
   ]
  },
  {
   "cell_type": "code",
   "execution_count": 78,
   "metadata": {
    "ExecuteTime": {
     "end_time": "2018-06-08T18:01:04.808761Z",
     "start_time": "2018-06-08T18:01:04.799148Z"
    }
   },
   "outputs": [
    {
     "data": {
      "text/plain": [
       "(20, 274, 20, 118)"
      ]
     },
     "execution_count": 78,
     "metadata": {},
     "output_type": "execute_result"
    }
   ],
   "source": [
    "dtrain.num_col(),dtrain.num_row(),dvalid.num_col(),dvalid.num_row()"
   ]
  },
  {
   "cell_type": "code",
   "execution_count": 87,
   "metadata": {
    "ExecuteTime": {
     "end_time": "2018-06-08T18:04:21.288632Z",
     "start_time": "2018-06-08T18:04:21.278756Z"
    }
   },
   "outputs": [
    {
     "name": "stdout",
     "output_type": "stream",
     "text": [
      "{'max_depth': 3, 'eta': 0.3, 'silent': 0, 'objective': 'multi:softmax', 'nthread': 7, 'num_class': 11}\n"
     ]
    }
   ],
   "source": [
    "param={}\n",
    "param['max_depth']= 3   # depth of tree\n",
    "param['eta'] = 0.3      # shrinkage parameter\n",
    "param['silent'] = 0     # not silent\n",
    "param['objective'] = 'multi:softmax'\n",
    "param['nthread'] = 7 # Number of threads used\n",
    "param['num_class']=11\n",
    "#param['eval_metric'] = ''\n",
    "num_round=100\n",
    "plst = param.items()\n",
    "print(param)\n",
    "evallist = [(dtrain, 'train'), (dtest, 'eval')]"
   ]
  },
  {
   "cell_type": "code",
   "execution_count": 80,
   "metadata": {
    "ExecuteTime": {
     "end_time": "2018-06-08T18:01:40.509461Z",
     "start_time": "2018-06-08T18:01:40.254501Z"
    }
   },
   "outputs": [],
   "source": [
    "bst1000 = xgb.train(plst, dtrain, num_round, evallist, verbose_eval=False)"
   ]
  },
  {
   "cell_type": "code",
   "execution_count": 81,
   "metadata": {
    "ExecuteTime": {
     "end_time": "2018-06-08T18:01:53.112571Z",
     "start_time": "2018-06-08T18:01:53.101881Z"
    }
   },
   "outputs": [],
   "source": [
    "y_pred_1000 = bst1000.predict(dtest, ntree_limit=bst1000.best_ntree_limit, output_margin=True)\n",
    "y_test = dtest.get_label()"
   ]
  },
  {
   "cell_type": "code",
   "execution_count": 82,
   "metadata": {
    "ExecuteTime": {
     "end_time": "2018-06-08T18:01:56.232834Z",
     "start_time": "2018-06-08T18:01:56.224793Z"
    }
   },
   "outputs": [
    {
     "data": {
      "text/plain": [
       "118"
      ]
     },
     "execution_count": 82,
     "metadata": {},
     "output_type": "execute_result"
    }
   ],
   "source": [
    "len(y_pred_1000)"
   ]
  },
  {
   "cell_type": "code",
   "execution_count": 32,
   "metadata": {
    "ExecuteTime": {
     "end_time": "2018-06-07T22:12:46.531368Z",
     "start_time": "2018-06-07T22:12:46.525675Z"
    }
   },
   "outputs": [
    {
     "data": {
      "text/plain": [
       "118"
      ]
     },
     "execution_count": 32,
     "metadata": {},
     "output_type": "execute_result"
    }
   ],
   "source": [
    "len(y_test)"
   ]
  },
  {
   "cell_type": "code",
   "execution_count": 86,
   "metadata": {
    "ExecuteTime": {
     "end_time": "2018-06-08T18:03:24.923744Z",
     "start_time": "2018-06-08T18:03:24.916778Z"
    }
   },
   "outputs": [
    {
     "data": {
      "text/plain": [
       "array([[ 1.7682081 ,  0.7406807 ,  1.2261474 , -0.93267024, -0.96036917,\n",
       "         1.4524696 ,  1.9840795 ,  0.26607475,  1.0682966 , -0.9892    ,\n",
       "        -0.9833054 ],\n",
       "       [ 1.7682081 ,  0.7406807 ,  1.2261474 , -0.93267024, -0.96036917,\n",
       "         1.4524696 ,  1.9840795 ,  0.26607475,  1.0682966 , -0.9892    ,\n",
       "        -0.9833054 ]], dtype=float32)"
      ]
     },
     "execution_count": 86,
     "metadata": {},
     "output_type": "execute_result"
    }
   ],
   "source": [
    "#[np.argmax(pred) for pred in y_pred_1000]\n",
    "y_pred_1000[:2]"
   ]
  },
  {
   "cell_type": "code",
   "execution_count": null,
   "metadata": {},
   "outputs": [],
   "source": []
  }
 ],
 "metadata": {
  "hide_input": false,
  "kernelspec": {
   "display_name": "Python 3",
   "language": "python",
   "name": "python3"
  },
  "language_info": {
   "codemirror_mode": {
    "name": "ipython",
    "version": 3
   },
   "file_extension": ".py",
   "mimetype": "text/x-python",
   "name": "python",
   "nbconvert_exporter": "python",
   "pygments_lexer": "ipython3",
   "version": "3.6.5"
  },
  "toc": {
   "base_numbering": 1,
   "nav_menu": {},
   "number_sections": true,
   "sideBar": true,
   "skip_h1_title": false,
   "title_cell": "Table of Contents",
   "title_sidebar": "Contents",
   "toc_cell": false,
   "toc_position": {},
   "toc_section_display": true,
   "toc_window_display": false
  },
  "varInspector": {
   "cols": {
    "lenName": 16,
    "lenType": 16,
    "lenVar": 40
   },
   "kernels_config": {
    "python": {
     "delete_cmd_postfix": "",
     "delete_cmd_prefix": "del ",
     "library": "var_list.py",
     "varRefreshCmd": "print(var_dic_list())"
    },
    "r": {
     "delete_cmd_postfix": ") ",
     "delete_cmd_prefix": "rm(",
     "library": "var_list.r",
     "varRefreshCmd": "cat(var_dic_list()) "
    }
   },
   "types_to_exclude": [
    "module",
    "function",
    "builtin_function_or_method",
    "instance",
    "_Feature"
   ],
   "window_display": false
  }
 },
 "nbformat": 4,
 "nbformat_minor": 2
}
