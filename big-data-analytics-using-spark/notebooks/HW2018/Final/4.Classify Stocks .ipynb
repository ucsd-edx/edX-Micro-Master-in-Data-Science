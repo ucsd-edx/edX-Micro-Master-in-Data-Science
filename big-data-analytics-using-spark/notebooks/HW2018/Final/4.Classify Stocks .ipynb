{
 "cells": [
  {
   "cell_type": "code",
   "execution_count": 1,
   "metadata": {
    "ExecuteTime": {
     "end_time": "2018-06-07T18:53:52.468232Z",
     "start_time": "2018-06-07T18:53:51.809570Z"
    }
   },
   "outputs": [
    {
     "name": "stdout",
     "output_type": "stream",
     "text": [
      "Populating the interactive namespace from numpy and matplotlib\n"
     ]
    }
   ],
   "source": [
    "import pickle\n",
    "import pandas as pd\n",
    "import numpy as np\n",
    "import xgboost as xgb\n",
    "%pylab inline"
   ]
  },
  {
   "cell_type": "markdown",
   "metadata": {},
   "source": [
    "## read sequence data"
   ]
  },
  {
   "cell_type": "code",
   "execution_count": 6,
   "metadata": {
    "ExecuteTime": {
     "end_time": "2018-06-07T18:54:05.661321Z",
     "start_time": "2018-06-07T18:54:03.188083Z"
    }
   },
   "outputs": [
    {
     "data": {
      "text/plain": [
       "(13422, 963)"
      ]
     },
     "execution_count": 6,
     "metadata": {},
     "output_type": "execute_result"
    }
   ],
   "source": [
    "SP500=pd.read_csv('data/SP500.csv')\n",
    "SP500.shape"
   ]
  },
  {
   "cell_type": "code",
   "execution_count": 32,
   "metadata": {
    "ExecuteTime": {
     "end_time": "2018-06-07T19:22:40.098019Z",
     "start_time": "2018-06-07T19:22:40.086517Z"
    }
   },
   "outputs": [
    {
     "data": {
      "text/plain": [
       "(['HD', 'DOV', 'RTN', 'TXT', 'BCR', 'SBUX', 'MCO', 'MCHP', 'MA', 'PNR'], 392)"
      ]
     },
     "execution_count": 32,
     "metadata": {},
     "output_type": "execute_result"
    }
   ],
   "source": [
    "columns=SP500.columns\n",
    "col=[c for c in columns if '_D' in c and 'train' in c]\n",
    "tickers=[a[6:-2] for a in col]\n",
    "#del above\n",
    "tickers[:10],len(tickers)"
   ]
  },
  {
   "cell_type": "code",
   "execution_count": 37,
   "metadata": {
    "ExecuteTime": {
     "end_time": "2018-06-07T19:28:06.638894Z",
     "start_time": "2018-06-07T19:28:06.608107Z"
    }
   },
   "outputs": [
    {
     "data": {
      "text/plain": [
       "((13422, 392), (13422, 481))"
      ]
     },
     "execution_count": 37,
     "metadata": {},
     "output_type": "execute_result"
    }
   ],
   "source": [
    "train_sequences=np.array(SP500.loc[:,col])\n",
    "train_sequences.shape,u.shape"
   ]
  },
  {
   "cell_type": "markdown",
   "metadata": {},
   "source": [
    "## Read SVD decomposition"
   ]
  },
  {
   "cell_type": "code",
   "execution_count": 10,
   "metadata": {
    "ExecuteTime": {
     "end_time": "2018-06-07T18:55:32.689641Z",
     "start_time": "2018-06-07T18:55:32.521825Z"
    },
    "scrolled": true
   },
   "outputs": [],
   "source": [
    "svd=pickle.load(open('data/svd.pickle','rb'))"
   ]
  },
  {
   "cell_type": "code",
   "execution_count": 36,
   "metadata": {
    "ExecuteTime": {
     "end_time": "2018-06-07T19:28:01.417289Z",
     "start_time": "2018-06-07T19:28:01.411227Z"
    }
   },
   "outputs": [
    {
     "data": {
      "text/plain": [
       "((13422, 481), (481,), (481, 481))"
      ]
     },
     "execution_count": 36,
     "metadata": {},
     "output_type": "execute_result"
    }
   ],
   "source": [
    "u=svd['u'];s=svd['s'];v=svd['v']\n",
    "u.shape,s.shape,v.shape"
   ]
  },
  {
   "cell_type": "markdown",
   "metadata": {},
   "source": [
    "## compute features"
   ]
  },
  {
   "cell_type": "code",
   "execution_count": 40,
   "metadata": {
    "ExecuteTime": {
     "end_time": "2018-06-07T19:30:10.029369Z",
     "start_time": "2018-06-07T19:30:09.976926Z"
    }
   },
   "outputs": [
    {
     "data": {
      "text/plain": [
       "(20, 392)"
      ]
     },
     "execution_count": 40,
     "metadata": {},
     "output_type": "execute_result"
    }
   ],
   "source": [
    "features=np.dot(u[:,:20].transpose(),train_sequences)\n",
    "features.shape"
   ]
  },
  {
   "cell_type": "markdown",
   "metadata": {},
   "source": [
    "##  compute labels (sectors)"
   ]
  },
  {
   "cell_type": "code",
   "execution_count": 18,
   "metadata": {
    "ExecuteTime": {
     "end_time": "2018-06-07T19:01:32.259261Z",
     "start_time": "2018-06-07T19:01:32.237790Z"
    },
    "scrolled": true
   },
   "outputs": [
    {
     "name": "stdout",
     "output_type": "stream",
     "text": [
      "(505, 5)\n"
     ]
    },
    {
     "data": {
      "text/html": [
       "<div>\n",
       "<style scoped>\n",
       "    .dataframe tbody tr th:only-of-type {\n",
       "        vertical-align: middle;\n",
       "    }\n",
       "\n",
       "    .dataframe tbody tr th {\n",
       "        vertical-align: top;\n",
       "    }\n",
       "\n",
       "    .dataframe thead th {\n",
       "        text-align: right;\n",
       "    }\n",
       "</style>\n",
       "<table border=\"1\" class=\"dataframe\">\n",
       "  <thead>\n",
       "    <tr style=\"text-align: right;\">\n",
       "      <th></th>\n",
       "      <th>Unnamed: 0</th>\n",
       "      <th>Ticker</th>\n",
       "      <th>Name</th>\n",
       "      <th>Sector</th>\n",
       "      <th>SECTOR_ID</th>\n",
       "    </tr>\n",
       "  </thead>\n",
       "  <tbody>\n",
       "    <tr>\n",
       "      <th>0</th>\n",
       "      <td>0</td>\n",
       "      <td>MMM</td>\n",
       "      <td>3M|3M Company</td>\n",
       "      <td>Industrials</td>\n",
       "      <td>INDS</td>\n",
       "    </tr>\n",
       "    <tr>\n",
       "      <th>1</th>\n",
       "      <td>1</td>\n",
       "      <td>ABT</td>\n",
       "      <td>Abbott Laboratories</td>\n",
       "      <td>Health Care</td>\n",
       "      <td>HC</td>\n",
       "    </tr>\n",
       "    <tr>\n",
       "      <th>2</th>\n",
       "      <td>2</td>\n",
       "      <td>ABBV</td>\n",
       "      <td>AbbVie Inc.</td>\n",
       "      <td>Health Care</td>\n",
       "      <td>HC</td>\n",
       "    </tr>\n",
       "    <tr>\n",
       "      <th>3</th>\n",
       "      <td>3</td>\n",
       "      <td>ACN</td>\n",
       "      <td>Accenture plc</td>\n",
       "      <td>Information Technology</td>\n",
       "      <td>IT</td>\n",
       "    </tr>\n",
       "    <tr>\n",
       "      <th>4</th>\n",
       "      <td>4</td>\n",
       "      <td>ATVI</td>\n",
       "      <td>Activision Blizzard</td>\n",
       "      <td>Information Technology</td>\n",
       "      <td>IT</td>\n",
       "    </tr>\n",
       "  </tbody>\n",
       "</table>\n",
       "</div>"
      ],
      "text/plain": [
       "   Unnamed: 0 Ticker                 Name                  Sector SECTOR_ID\n",
       "0           0    MMM        3M|3M Company             Industrials      INDS\n",
       "1           1    ABT  Abbott Laboratories             Health Care        HC\n",
       "2           2   ABBV          AbbVie Inc.             Health Care        HC\n",
       "3           3    ACN        Accenture plc  Information Technology        IT\n",
       "4           4   ATVI  Activision Blizzard  Information Technology        IT"
      ]
     },
     "execution_count": 18,
     "metadata": {},
     "output_type": "execute_result"
    }
   ],
   "source": [
    "TickerInfo=pd.read_csv('data/TickerInfo.tsv',sep='\\t')\n",
    "print(TickerInfo.shape)\n",
    "TickerInfo.head()"
   ]
  },
  {
   "cell_type": "code",
   "execution_count": 47,
   "metadata": {
    "ExecuteTime": {
     "end_time": "2018-06-07T19:38:08.366435Z",
     "start_time": "2018-06-07T19:38:08.353509Z"
    }
   },
   "outputs": [
    {
     "data": {
      "text/plain": [
       "{'CD': 0,\n",
       " 'CS': 1,\n",
       " 'EN': 2,\n",
       " 'FIN': 3,\n",
       " 'HC': 4,\n",
       " 'INDS': 5,\n",
       " 'IT': 6,\n",
       " 'MAT': 7,\n",
       " 'RE': 8,\n",
       " 'TS': 9,\n",
       " 'UTIL': 10}"
      ]
     },
     "execution_count": 47,
     "metadata": {},
     "output_type": "execute_result"
    }
   ],
   "source": [
    "Sectors={'Consumer Discretionary':'CD',\n",
    " 'Consumer Staples':'CS',\n",
    " 'Energy':'EN',\n",
    " 'Financials':'FIN',\n",
    " 'Health Care':'HC',\n",
    " 'Industrials':'INDS',\n",
    " 'Information Technology':'IT',\n",
    " 'Materials':'MAT',\n",
    " 'Real Estate':'RE',\n",
    " 'Telecommunication Services':'TS',\n",
    " 'Utilities':'UTIL'}\n",
    "sector2number={}\n",
    "i=0;\n",
    "for name,short in Sectors.items():\n",
    "    sector2number[short]=i\n",
    "    i+=1\n",
    "sector2number"
   ]
  },
  {
   "cell_type": "code",
   "execution_count": 49,
   "metadata": {
    "ExecuteTime": {
     "end_time": "2018-06-07T19:38:59.502353Z",
     "start_time": "2018-06-07T19:38:59.251796Z"
    }
   },
   "outputs": [],
   "source": [
    "labels=[]\n",
    "for ticker in tickers:\n",
    "    answer=list(TickerInfo[TickerInfo.Ticker==ticker]['SECTOR_ID'])\n",
    "    if len(answer)==1:\n",
    "        labels.append(sector2number[answer[0]])\n",
    "    else:\n",
    "        print('error: could not find sector for ticker:',ticker)"
   ]
  },
  {
   "cell_type": "code",
   "execution_count": 50,
   "metadata": {
    "ExecuteTime": {
     "end_time": "2018-06-07T19:39:00.699556Z",
     "start_time": "2018-06-07T19:39:00.693404Z"
    }
   },
   "outputs": [
    {
     "data": {
      "text/plain": [
       "(392, 392)"
      ]
     },
     "execution_count": 50,
     "metadata": {},
     "output_type": "execute_result"
    }
   ],
   "source": [
    "len(labels),len(tickers)"
   ]
  },
  {
   "cell_type": "code",
   "execution_count": 51,
   "metadata": {
    "ExecuteTime": {
     "end_time": "2018-06-07T19:39:26.665097Z",
     "start_time": "2018-06-07T19:39:26.658449Z"
    }
   },
   "outputs": [
    {
     "data": {
      "text/plain": [
       "[0, 5, 5, 5, 4, 0, 3, 6, 6, 5]"
      ]
     },
     "execution_count": 51,
     "metadata": {},
     "output_type": "execute_result"
    }
   ],
   "source": [
    "\n"
   ]
  },
  {
   "cell_type": "code",
   "execution_count": null,
   "metadata": {},
   "outputs": [],
   "source": []
  }
 ],
 "metadata": {
  "hide_input": false,
  "kernelspec": {
   "display_name": "Python 3",
   "language": "python",
   "name": "python3"
  },
  "language_info": {
   "codemirror_mode": {
    "name": "ipython",
    "version": 3
   },
   "file_extension": ".py",
   "mimetype": "text/x-python",
   "name": "python",
   "nbconvert_exporter": "python",
   "pygments_lexer": "ipython3",
   "version": "3.6.5"
  },
  "toc": {
   "base_numbering": 1,
   "nav_menu": {},
   "number_sections": true,
   "sideBar": true,
   "skip_h1_title": false,
   "title_cell": "Table of Contents",
   "title_sidebar": "Contents",
   "toc_cell": false,
   "toc_position": {},
   "toc_section_display": true,
   "toc_window_display": false
  },
  "varInspector": {
   "cols": {
    "lenName": 16,
    "lenType": 16,
    "lenVar": 40
   },
   "kernels_config": {
    "python": {
     "delete_cmd_postfix": "",
     "delete_cmd_prefix": "del ",
     "library": "var_list.py",
     "varRefreshCmd": "print(var_dic_list())"
    },
    "r": {
     "delete_cmd_postfix": ") ",
     "delete_cmd_prefix": "rm(",
     "library": "var_list.r",
     "varRefreshCmd": "cat(var_dic_list()) "
    }
   },
   "types_to_exclude": [
    "module",
    "function",
    "builtin_function_or_method",
    "instance",
    "_Feature"
   ],
   "window_display": false
  }
 },
 "nbformat": 4,
 "nbformat_minor": 2
}
