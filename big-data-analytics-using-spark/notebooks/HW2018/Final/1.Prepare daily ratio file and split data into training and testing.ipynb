{
 "cells": [
  {
   "cell_type": "markdown",
   "metadata": {
    "run_control": {
     "frozen": false,
     "read_only": false
    },
    "slideshow": {
     "slide_type": "slide"
    }
   },
   "source": [
    "## Analysis of stock prices using PCA / Notebook 1\n",
    "\n",
    "In this take-home final you are to analyze the daily changes in stock prices using PCA and to mesure the dimension of stock sequences.\n",
    "\n",
    "We Start by downloading data and pre-processing it to make it ready for analysis using Spark."
   ]
  },
  {
   "cell_type": "code",
   "execution_count": 2,
   "metadata": {
    "ExecuteTime": {
     "end_time": "2018-06-08T17:12:27.803504Z",
     "start_time": "2018-06-08T17:12:27.240011Z"
    },
    "run_control": {
     "frozen": false,
     "read_only": false
    },
    "slideshow": {
     "slide_type": "skip"
    }
   },
   "outputs": [],
   "source": [
    "import sys,os\n",
    "import numpy as np\n",
    "from numpy.linalg import norm\n",
    "import matplotlib.pyplot as plt\n",
    "%matplotlib inline\n",
    "\n",
    "from time import time\n",
    "import math\n",
    "import pandas as pd\n",
    "from glob import glob\n",
    "import pickle\n"
   ]
  },
  {
   "cell_type": "markdown",
   "metadata": {
    "run_control": {
     "frozen": false,
     "read_only": false
    }
   },
   "source": [
    "### Stock Info\n",
    "The file `data/TickerInfo.tsv` contains information relating companies to sectors."
   ]
  },
  {
   "cell_type": "code",
   "execution_count": 3,
   "metadata": {
    "ExecuteTime": {
     "end_time": "2018-06-08T17:12:30.149093Z",
     "start_time": "2018-06-08T17:12:30.122788Z"
    }
   },
   "outputs": [
    {
     "name": "stdout",
     "output_type": "stream",
     "text": [
      "(505, 5)\n"
     ]
    },
    {
     "data": {
      "text/html": [
       "<div>\n",
       "<style scoped>\n",
       "    .dataframe tbody tr th:only-of-type {\n",
       "        vertical-align: middle;\n",
       "    }\n",
       "\n",
       "    .dataframe tbody tr th {\n",
       "        vertical-align: top;\n",
       "    }\n",
       "\n",
       "    .dataframe thead th {\n",
       "        text-align: right;\n",
       "    }\n",
       "</style>\n",
       "<table border=\"1\" class=\"dataframe\">\n",
       "  <thead>\n",
       "    <tr style=\"text-align: right;\">\n",
       "      <th></th>\n",
       "      <th>Unnamed: 0</th>\n",
       "      <th>Ticker</th>\n",
       "      <th>Name</th>\n",
       "      <th>Sector</th>\n",
       "      <th>SECTOR_ID</th>\n",
       "    </tr>\n",
       "  </thead>\n",
       "  <tbody>\n",
       "    <tr>\n",
       "      <th>0</th>\n",
       "      <td>0</td>\n",
       "      <td>MMM</td>\n",
       "      <td>3M|3M Company</td>\n",
       "      <td>Industrials</td>\n",
       "      <td>INDS</td>\n",
       "    </tr>\n",
       "    <tr>\n",
       "      <th>1</th>\n",
       "      <td>1</td>\n",
       "      <td>ABT</td>\n",
       "      <td>Abbott Laboratories</td>\n",
       "      <td>Health Care</td>\n",
       "      <td>HC</td>\n",
       "    </tr>\n",
       "    <tr>\n",
       "      <th>2</th>\n",
       "      <td>2</td>\n",
       "      <td>ABBV</td>\n",
       "      <td>AbbVie Inc.</td>\n",
       "      <td>Health Care</td>\n",
       "      <td>HC</td>\n",
       "    </tr>\n",
       "    <tr>\n",
       "      <th>3</th>\n",
       "      <td>3</td>\n",
       "      <td>ACN</td>\n",
       "      <td>Accenture plc</td>\n",
       "      <td>Information Technology</td>\n",
       "      <td>IT</td>\n",
       "    </tr>\n",
       "    <tr>\n",
       "      <th>4</th>\n",
       "      <td>4</td>\n",
       "      <td>ATVI</td>\n",
       "      <td>Activision Blizzard</td>\n",
       "      <td>Information Technology</td>\n",
       "      <td>IT</td>\n",
       "    </tr>\n",
       "  </tbody>\n",
       "</table>\n",
       "</div>"
      ],
      "text/plain": [
       "   Unnamed: 0 Ticker                 Name                  Sector SECTOR_ID\n",
       "0           0    MMM        3M|3M Company             Industrials      INDS\n",
       "1           1    ABT  Abbott Laboratories             Health Care        HC\n",
       "2           2   ABBV          AbbVie Inc.             Health Care        HC\n",
       "3           3    ACN        Accenture plc  Information Technology        IT\n",
       "4           4   ATVI  Activision Blizzard  Information Technology        IT"
      ]
     },
     "execution_count": 3,
     "metadata": {},
     "output_type": "execute_result"
    }
   ],
   "source": [
    "TickerInfo=pd.read_csv('data/TickerInfo.tsv',sep='\\t')\n",
    "print(TickerInfo.shape)\n",
    "TickerInfo.head()"
   ]
  },
  {
   "cell_type": "code",
   "execution_count": 4,
   "metadata": {
    "ExecuteTime": {
     "end_time": "2018-06-08T17:12:31.708574Z",
     "start_time": "2018-06-08T17:12:31.703370Z"
    }
   },
   "outputs": [],
   "source": [
    "Sectors={'Consumer Discretionary':'CD',\n",
    " 'Consumer Staples':'CS',\n",
    " 'Energy':'EN',\n",
    " 'Financials':'FIN',\n",
    " 'Health Care':'HC',\n",
    " 'Industrials':'INDS',\n",
    " 'Information Technology':'IT',\n",
    " 'Materials':'MAT',\n",
    " 'Real Estate':'RE',\n",
    " 'Telecommunication Services':'TS',\n",
    " 'Utilities':'UTIL'}"
   ]
  },
  {
   "cell_type": "markdown",
   "metadata": {},
   "source": [
    "### Stock and sector information\n",
    "`TickerInfo` is a pandas table containing, for each Ticker, the company name, the sector, and a sector ID. There are 11 sectors. Some, such as `Consumer Discretionary` and `Information Technology` include many stocks while others, such as `Telecommunication Services` include very few."
   ]
  },
  {
   "cell_type": "code",
   "execution_count": 5,
   "metadata": {
    "ExecuteTime": {
     "end_time": "2018-06-08T17:12:35.317431Z",
     "start_time": "2018-06-08T17:12:35.306217Z"
    },
    "run_control": {
     "frozen": false,
     "read_only": false
    }
   },
   "outputs": [
    {
     "name": "stdout",
     "output_type": "stream",
     "text": [
      "Sector ID\t\tSector Name\tNo. of Stocks\n",
      "=========\t\t===========\t=============\n",
      "INDS\t                   Industrials\t66\t66\n",
      "HC\t                   Health Care\t60\t126\n",
      "IT\t        Information Technology\t70\t196\n",
      "CD\t        Consumer Discretionary\t84\t280\n",
      "UTIL\t                     Utilities\t28\t308\n",
      "FIN\t                    Financials\t66\t374\n",
      "MAT\t                     Materials\t25\t399\n",
      "RE\t                   Real Estate\t31\t430\n",
      "CS\t              Consumer Staples\t37\t467\n",
      "EN\t                        Energy\t34\t501\n",
      "TS\t    Telecommunication Services\t4\t505\n"
     ]
    }
   ],
   "source": [
    "from collections import Counter\n",
    "L=list(Counter(TickerInfo['Sector']).items())\n",
    "print('Sector ID\\t\\tSector Name\\tNo. of Stocks')\n",
    "print('=========\\t\\t===========\\t=============')\n",
    "sum=0\n",
    "for l in L:\n",
    "    sum+=l[1]\n",
    "    print('%s\\t%30s\\t%d\\t%d'%(Sectors[l[0]],l[0],l[1],sum))"
   ]
  },
  {
   "cell_type": "markdown",
   "metadata": {},
   "source": [
    "### Download Data\n",
    "The data is a directory with .csv files, one for each stock. This directory has been tarred and uploaded to \n",
    "S3, at: https://mas-dse-open.s3.amazonaws.com/Stocks/spdata_csv.tgz\n",
    "\n",
    "Download and untar the file to create a subdirectory of the current directory called `spdata_csv`"
   ]
  },
  {
   "cell_type": "code",
   "execution_count": 6,
   "metadata": {
    "ExecuteTime": {
     "end_time": "2018-06-08T17:12:45.989785Z",
     "start_time": "2018-06-08T17:12:36.923417Z"
    },
    "run_control": {
     "frozen": false,
     "read_only": false
    },
    "scrolled": false
   },
   "outputs": [
    {
     "name": "stdout",
     "output_type": "stream",
     "text": [
      "--2018-06-08 17:12:37--  https://mas-dse-open.s3.amazonaws.com/Stocks/spdata_csv.tgz\n",
      "Resolving mas-dse-open.s3.amazonaws.com (mas-dse-open.s3.amazonaws.com)... 52.218.192.114\n",
      "Connecting to mas-dse-open.s3.amazonaws.com (mas-dse-open.s3.amazonaws.com)|52.218.192.114|:443... connected.\n",
      "HTTP request sent, awaiting response... 200 OK\n",
      "Length: 108227395 (103M) [application/x-tar]\n",
      "Saving to: ‘spdata_csv.tgz’\n",
      "\n",
      "spdata_csv.tgz      100%[===================>] 103.21M  21.2MB/s    in 8.3s    \n",
      "\n",
      "2018-06-08 17:12:45 (12.4 MB/s) - ‘spdata_csv.tgz’ saved [108227395/108227395]\n",
      "\n"
     ]
    }
   ],
   "source": [
    "!wget https://mas-dse-open.s3.amazonaws.com/Stocks/spdata_csv.tgz"
   ]
  },
  {
   "cell_type": "code",
   "execution_count": 9,
   "metadata": {
    "ExecuteTime": {
     "end_time": "2018-06-08T17:15:22.502535Z",
     "start_time": "2018-06-08T17:15:05.423114Z"
    }
   },
   "outputs": [],
   "source": [
    "!tar xzf spdata_csv.tgz"
   ]
  },
  {
   "cell_type": "code",
   "execution_count": 10,
   "metadata": {
    "ExecuteTime": {
     "end_time": "2018-06-08T17:15:26.274508Z",
     "start_time": "2018-06-08T17:15:26.226521Z"
    }
   },
   "outputs": [
    {
     "data": {
      "text/plain": [
       "['AAPL.csv', 'ABC.csv', 'ABT.csv', 'ACN.csv', 'A.csv']"
      ]
     },
     "execution_count": 10,
     "metadata": {},
     "output_type": "execute_result"
    }
   ],
   "source": [
    "files=!ls -1 spdata_csv/train/\n",
    "files[:5]"
   ]
  },
  {
   "cell_type": "code",
   "execution_count": 11,
   "metadata": {
    "ExecuteTime": {
     "end_time": "2018-06-08T17:15:28.844080Z",
     "start_time": "2018-06-08T17:15:27.849232Z"
    }
   },
   "outputs": [
    {
     "name": "stdout",
     "output_type": "stream",
     "text": [
      "    393    3530   21586\n",
      "     90     803    4808\n"
     ]
    }
   ],
   "source": [
    "!ls -l spdata_csv/train/ | wc\n",
    "!ls -l spdata_csv/test/ | wc"
   ]
  },
  {
   "cell_type": "code",
   "execution_count": 12,
   "metadata": {
    "ExecuteTime": {
     "end_time": "2018-06-08T17:15:33.748808Z",
     "start_time": "2018-06-08T17:15:33.742402Z"
    },
    "run_control": {
     "frozen": false,
     "read_only": false
    },
    "scrolled": true
   },
   "outputs": [
    {
     "data": {
      "text/plain": [
       "'/home/jovyan/work/HW2018/Final'"
      ]
     },
     "execution_count": 12,
     "metadata": {},
     "output_type": "execute_result"
    }
   ],
   "source": [
    "#change this path to where you stored the raw data   #del Cell\n",
    "Data_dir='./spdata_csv/'  #del\n",
    "curr_dir=os.getcwd()      #del\n",
    "curr_dir                  #del\n"
   ]
  },
  {
   "cell_type": "markdown",
   "metadata": {},
   "source": [
    "## Read Data and create a single table\n",
    "\n",
    "Your task in this notebook is to read the sock-information `.csv` files, extract from them the column \n",
    "`Adj. Open` and combine them into a single `.csv` file containing all of the information that is relevant for later analysis.\n",
    "\n",
    "Below we suggest a particular sequence of steps, you can either follow these steps, or do this in your own way.  The end result should be a file called `SP500.csv` which stores the information described below."
   ]
  },
  {
   "cell_type": "markdown",
   "metadata": {},
   "source": [
    "### Step 1: files into pandas dataframes\n",
    "\n",
    "In this step you read all of the relevant information into a large dictionary we call `Tables`.\n",
    "\n",
    "The key to this dictionary is the stocks \"ticker\" which corresponds to the file name excluding the `.csv` extension.\n",
    "\n",
    "You should read in all of the files in the directory `spdata_csv` other than:\n",
    "\n",
    "* Files for tickers that are not in the list `Tickers`.\n",
    "* Files for tickers that were listed in the email you got for this final.\n",
    "As part of the email you got about this final, there is a list of tickers that you should omit from your analysis."
   ]
  },
  {
   "cell_type": "code",
   "execution_count": 13,
   "metadata": {
    "ExecuteTime": {
     "end_time": "2018-06-08T17:15:58.988820Z",
     "start_time": "2018-06-08T17:15:58.978902Z"
    },
    "run_control": {
     "frozen": false,
     "read_only": false
    }
   },
   "outputs": [
    {
     "name": "stdout",
     "output_type": "stream",
     "text": [
      "/home/jovyan/work/HW2018/Final/spdata_csv\n"
     ]
    }
   ],
   "source": [
    "#del the rest of this cell\n",
    "%cd spdata_csv"
   ]
  },
  {
   "cell_type": "code",
   "execution_count": 14,
   "metadata": {
    "ExecuteTime": {
     "end_time": "2018-06-08T17:16:11.371166Z",
     "start_time": "2018-06-08T17:15:59.678169Z"
    },
    "run_control": {
     "frozen": false,
     "read_only": false
    },
    "scrolled": false
   },
   "outputs": [
    {
     "name": "stdout",
     "output_type": "stream",
     "text": [
      " train/PPL.csv /home/jovyan/work/HW2018/Final\n"
     ]
    }
   ],
   "source": [
    "Tables={}\n",
    "for filename in glob('*/*.csv'):\n",
    "    print('\\r',filename, end=' ')\n",
    "    code = filename[:-4]\n",
    "    tbl=pd.read_csv(filename,index_col='Date',parse_dates=True)\n",
    "    if(np.shape(tbl)[1]==12):\n",
    "        Tables[code]=tbl.sort_index()\n",
    "        Tables[code]\n",
    "    else:\n",
    "        print(filename,np.shape(tbl))\n",
    "\n",
    "%cd .."
   ]
  },
  {
   "cell_type": "code",
   "execution_count": 15,
   "metadata": {
    "ExecuteTime": {
     "end_time": "2018-06-08T17:16:19.630966Z",
     "start_time": "2018-06-08T17:16:19.598695Z"
    },
    "run_control": {
     "frozen": false,
     "read_only": false
    },
    "scrolled": true
   },
   "outputs": [
    {
     "name": "stdout",
     "output_type": "stream",
     "text": [
      "481\n"
     ]
    },
    {
     "data": {
      "text/html": [
       "<div>\n",
       "<style scoped>\n",
       "    .dataframe tbody tr th:only-of-type {\n",
       "        vertical-align: middle;\n",
       "    }\n",
       "\n",
       "    .dataframe tbody tr th {\n",
       "        vertical-align: top;\n",
       "    }\n",
       "\n",
       "    .dataframe thead th {\n",
       "        text-align: right;\n",
       "    }\n",
       "</style>\n",
       "<table border=\"1\" class=\"dataframe\">\n",
       "  <thead>\n",
       "    <tr style=\"text-align: right;\">\n",
       "      <th></th>\n",
       "      <th>Open</th>\n",
       "      <th>High</th>\n",
       "      <th>Low</th>\n",
       "      <th>Close</th>\n",
       "      <th>Volume</th>\n",
       "      <th>Ex-Dividend</th>\n",
       "      <th>Split Ratio</th>\n",
       "      <th>Adj. Open</th>\n",
       "      <th>Adj. High</th>\n",
       "      <th>Adj. Low</th>\n",
       "      <th>Adj. Close</th>\n",
       "      <th>Adj. Volume</th>\n",
       "    </tr>\n",
       "    <tr>\n",
       "      <th>Date</th>\n",
       "      <th></th>\n",
       "      <th></th>\n",
       "      <th></th>\n",
       "      <th></th>\n",
       "      <th></th>\n",
       "      <th></th>\n",
       "      <th></th>\n",
       "      <th></th>\n",
       "      <th></th>\n",
       "      <th></th>\n",
       "      <th></th>\n",
       "      <th></th>\n",
       "    </tr>\n",
       "  </thead>\n",
       "  <tbody>\n",
       "    <tr>\n",
       "      <th>1962-01-02</th>\n",
       "      <td>578.5</td>\n",
       "      <td>578.5</td>\n",
       "      <td>572.0</td>\n",
       "      <td>572.00</td>\n",
       "      <td>5162.666667</td>\n",
       "      <td>0.0</td>\n",
       "      <td>1.0</td>\n",
       "      <td>5.180989</td>\n",
       "      <td>5.180989</td>\n",
       "      <td>5.122776</td>\n",
       "      <td>5.122776</td>\n",
       "      <td>387200.0</td>\n",
       "    </tr>\n",
       "    <tr>\n",
       "      <th>1962-01-03</th>\n",
       "      <td>572.0</td>\n",
       "      <td>577.0</td>\n",
       "      <td>572.0</td>\n",
       "      <td>577.00</td>\n",
       "      <td>3840.000000</td>\n",
       "      <td>0.0</td>\n",
       "      <td>1.0</td>\n",
       "      <td>5.122776</td>\n",
       "      <td>5.167555</td>\n",
       "      <td>5.122776</td>\n",
       "      <td>5.167555</td>\n",
       "      <td>288000.0</td>\n",
       "    </tr>\n",
       "    <tr>\n",
       "      <th>1962-01-04</th>\n",
       "      <td>577.0</td>\n",
       "      <td>577.0</td>\n",
       "      <td>571.0</td>\n",
       "      <td>571.25</td>\n",
       "      <td>3413.333333</td>\n",
       "      <td>0.0</td>\n",
       "      <td>1.0</td>\n",
       "      <td>5.167555</td>\n",
       "      <td>5.167555</td>\n",
       "      <td>5.113820</td>\n",
       "      <td>5.116059</td>\n",
       "      <td>256000.0</td>\n",
       "    </tr>\n",
       "    <tr>\n",
       "      <th>1962-01-05</th>\n",
       "      <td>570.5</td>\n",
       "      <td>570.5</td>\n",
       "      <td>559.0</td>\n",
       "      <td>560.00</td>\n",
       "      <td>4842.666667</td>\n",
       "      <td>0.0</td>\n",
       "      <td>1.0</td>\n",
       "      <td>5.109342</td>\n",
       "      <td>5.109342</td>\n",
       "      <td>5.006349</td>\n",
       "      <td>5.015305</td>\n",
       "      <td>363200.0</td>\n",
       "    </tr>\n",
       "    <tr>\n",
       "      <th>1962-01-08</th>\n",
       "      <td>559.5</td>\n",
       "      <td>559.5</td>\n",
       "      <td>545.0</td>\n",
       "      <td>549.50</td>\n",
       "      <td>7253.333333</td>\n",
       "      <td>0.0</td>\n",
       "      <td>1.0</td>\n",
       "      <td>5.010827</td>\n",
       "      <td>5.010827</td>\n",
       "      <td>4.880966</td>\n",
       "      <td>4.921268</td>\n",
       "      <td>544000.0</td>\n",
       "    </tr>\n",
       "  </tbody>\n",
       "</table>\n",
       "</div>"
      ],
      "text/plain": [
       "             Open   High    Low   Close       Volume  Ex-Dividend  \\\n",
       "Date                                                                \n",
       "1962-01-02  578.5  578.5  572.0  572.00  5162.666667          0.0   \n",
       "1962-01-03  572.0  577.0  572.0  577.00  3840.000000          0.0   \n",
       "1962-01-04  577.0  577.0  571.0  571.25  3413.333333          0.0   \n",
       "1962-01-05  570.5  570.5  559.0  560.00  4842.666667          0.0   \n",
       "1962-01-08  559.5  559.5  545.0  549.50  7253.333333          0.0   \n",
       "\n",
       "            Split Ratio  Adj. Open  Adj. High  Adj. Low  Adj. Close  \\\n",
       "Date                                                                  \n",
       "1962-01-02          1.0   5.180989   5.180989  5.122776    5.122776   \n",
       "1962-01-03          1.0   5.122776   5.167555  5.122776    5.167555   \n",
       "1962-01-04          1.0   5.167555   5.167555  5.113820    5.116059   \n",
       "1962-01-05          1.0   5.109342   5.109342  5.006349    5.015305   \n",
       "1962-01-08          1.0   5.010827   5.010827  4.880966    4.921268   \n",
       "\n",
       "            Adj. Volume  \n",
       "Date                     \n",
       "1962-01-02     387200.0  \n",
       "1962-01-03     288000.0  \n",
       "1962-01-04     256000.0  \n",
       "1962-01-05     363200.0  \n",
       "1962-01-08     544000.0  "
      ]
     },
     "execution_count": 15,
     "metadata": {},
     "output_type": "execute_result"
    }
   ],
   "source": [
    "# Example of an entry in `Tables`\n",
    "print(len(Tables))\n",
    "Tables['train/IBM'].head()"
   ]
  },
  {
   "cell_type": "markdown",
   "metadata": {
    "run_control": {
     "frozen": false,
     "read_only": false
    }
   },
   "source": [
    "### Step 2: Computing diffs and combining into a single table\n",
    "\n",
    "The next step is to extract from each table the relevant prices, compute an additional quantity we call `diff` and create a single combined pandas dataframe.\n",
    "\n",
    "The price we ue is the **Adjusted Open Price** which is the price when the stock exchange opens in the morning. We use the **adjusted** price which eliminates technical adjustments such as stock splits.\n",
    "\n",
    "It is more meaningful to predict *changes* in prices than prices themselves. We therefor compute for each stock a `Diffs` sequence in which $d(t)=\\log \\frac{p(t+1)}{p(t)}$ where $p(t)$ is the price at time $t$ and $d(t)$ is the price diff or the price ratio.\n",
    "\n",
    "Obviously, if we have a price sequence of length $T$ then the length of the diff sequence will be $T-1$. To make the price sequence and the diff sequence have the same length we eliminate the last day price for each sequence.\n",
    "\n",
    "Your task in this step is to join the stock tables by date, compute the diff seqeunce, and create one large Pandas DataFrame where the row index is the date, and there are two columns for each ticker. For example for the ticker `IBM`, there would be two columns `IBM_P` and `IBM_D`. The first corresponds to the prices of the IBM stock $p(t)$ and the second to the price difference $d(t)$"
   ]
  },
  {
   "cell_type": "code",
   "execution_count": 16,
   "metadata": {
    "ExecuteTime": {
     "end_time": "2018-06-08T17:16:59.668474Z",
     "start_time": "2018-06-08T17:16:27.636410Z"
    },
    "run_control": {
     "frozen": false,
     "read_only": false
    }
   },
   "outputs": [
    {
     "name": "stdout",
     "output_type": "stream",
     "text": [
      "481\n",
      " 481 test/42 SH  "
     ]
    },
    {
     "data": {
      "text/html": [
       "<div>\n",
       "<style scoped>\n",
       "    .dataframe tbody tr th:only-of-type {\n",
       "        vertical-align: middle;\n",
       "    }\n",
       "\n",
       "    .dataframe tbody tr th {\n",
       "        vertical-align: top;\n",
       "    }\n",
       "\n",
       "    .dataframe thead th {\n",
       "        text-align: right;\n",
       "    }\n",
       "</style>\n",
       "<table border=\"1\" class=\"dataframe\">\n",
       "  <thead>\n",
       "    <tr style=\"text-align: right;\">\n",
       "      <th></th>\n",
       "      <th>train/PWR_D</th>\n",
       "      <th>train/PWR_P</th>\n",
       "      <th>train/SYK_D</th>\n",
       "      <th>train/SYK_P</th>\n",
       "      <th>train/RL_D</th>\n",
       "      <th>train/RL_P</th>\n",
       "      <th>train/DG_D</th>\n",
       "      <th>train/DG_P</th>\n",
       "      <th>train/WFC_D</th>\n",
       "      <th>train/WFC_P</th>\n",
       "      <th>...</th>\n",
       "      <th>train/AXP_D</th>\n",
       "      <th>train/AXP_P</th>\n",
       "      <th>train/PHM_D</th>\n",
       "      <th>train/PHM_P</th>\n",
       "      <th>train/CTSH_D</th>\n",
       "      <th>train/CTSH_P</th>\n",
       "      <th>test/78_D</th>\n",
       "      <th>test/78_P</th>\n",
       "      <th>test/42_D</th>\n",
       "      <th>test/42_P</th>\n",
       "    </tr>\n",
       "    <tr>\n",
       "      <th>Date</th>\n",
       "      <th></th>\n",
       "      <th></th>\n",
       "      <th></th>\n",
       "      <th></th>\n",
       "      <th></th>\n",
       "      <th></th>\n",
       "      <th></th>\n",
       "      <th></th>\n",
       "      <th></th>\n",
       "      <th></th>\n",
       "      <th></th>\n",
       "      <th></th>\n",
       "      <th></th>\n",
       "      <th></th>\n",
       "      <th></th>\n",
       "      <th></th>\n",
       "      <th></th>\n",
       "      <th></th>\n",
       "      <th></th>\n",
       "      <th></th>\n",
       "      <th></th>\n",
       "    </tr>\n",
       "  </thead>\n",
       "  <tbody>\n",
       "    <tr>\n",
       "      <th>1962-01-02</th>\n",
       "      <td>NaN</td>\n",
       "      <td>NaN</td>\n",
       "      <td>NaN</td>\n",
       "      <td>NaN</td>\n",
       "      <td>NaN</td>\n",
       "      <td>NaN</td>\n",
       "      <td>NaN</td>\n",
       "      <td>NaN</td>\n",
       "      <td>NaN</td>\n",
       "      <td>NaN</td>\n",
       "      <td>...</td>\n",
       "      <td>NaN</td>\n",
       "      <td>NaN</td>\n",
       "      <td>NaN</td>\n",
       "      <td>NaN</td>\n",
       "      <td>NaN</td>\n",
       "      <td>NaN</td>\n",
       "      <td>NaN</td>\n",
       "      <td>NaN</td>\n",
       "      <td>NaN</td>\n",
       "      <td>NaN</td>\n",
       "    </tr>\n",
       "    <tr>\n",
       "      <th>1962-01-03</th>\n",
       "      <td>NaN</td>\n",
       "      <td>NaN</td>\n",
       "      <td>NaN</td>\n",
       "      <td>NaN</td>\n",
       "      <td>NaN</td>\n",
       "      <td>NaN</td>\n",
       "      <td>NaN</td>\n",
       "      <td>NaN</td>\n",
       "      <td>NaN</td>\n",
       "      <td>NaN</td>\n",
       "      <td>...</td>\n",
       "      <td>NaN</td>\n",
       "      <td>NaN</td>\n",
       "      <td>NaN</td>\n",
       "      <td>NaN</td>\n",
       "      <td>NaN</td>\n",
       "      <td>NaN</td>\n",
       "      <td>NaN</td>\n",
       "      <td>NaN</td>\n",
       "      <td>NaN</td>\n",
       "      <td>NaN</td>\n",
       "    </tr>\n",
       "    <tr>\n",
       "      <th>1962-01-04</th>\n",
       "      <td>NaN</td>\n",
       "      <td>NaN</td>\n",
       "      <td>NaN</td>\n",
       "      <td>NaN</td>\n",
       "      <td>NaN</td>\n",
       "      <td>NaN</td>\n",
       "      <td>NaN</td>\n",
       "      <td>NaN</td>\n",
       "      <td>NaN</td>\n",
       "      <td>NaN</td>\n",
       "      <td>...</td>\n",
       "      <td>NaN</td>\n",
       "      <td>NaN</td>\n",
       "      <td>NaN</td>\n",
       "      <td>NaN</td>\n",
       "      <td>NaN</td>\n",
       "      <td>NaN</td>\n",
       "      <td>NaN</td>\n",
       "      <td>NaN</td>\n",
       "      <td>NaN</td>\n",
       "      <td>NaN</td>\n",
       "    </tr>\n",
       "    <tr>\n",
       "      <th>1962-01-05</th>\n",
       "      <td>NaN</td>\n",
       "      <td>NaN</td>\n",
       "      <td>NaN</td>\n",
       "      <td>NaN</td>\n",
       "      <td>NaN</td>\n",
       "      <td>NaN</td>\n",
       "      <td>NaN</td>\n",
       "      <td>NaN</td>\n",
       "      <td>NaN</td>\n",
       "      <td>NaN</td>\n",
       "      <td>...</td>\n",
       "      <td>NaN</td>\n",
       "      <td>NaN</td>\n",
       "      <td>NaN</td>\n",
       "      <td>NaN</td>\n",
       "      <td>NaN</td>\n",
       "      <td>NaN</td>\n",
       "      <td>NaN</td>\n",
       "      <td>NaN</td>\n",
       "      <td>NaN</td>\n",
       "      <td>NaN</td>\n",
       "    </tr>\n",
       "    <tr>\n",
       "      <th>1962-01-08</th>\n",
       "      <td>NaN</td>\n",
       "      <td>NaN</td>\n",
       "      <td>NaN</td>\n",
       "      <td>NaN</td>\n",
       "      <td>NaN</td>\n",
       "      <td>NaN</td>\n",
       "      <td>NaN</td>\n",
       "      <td>NaN</td>\n",
       "      <td>NaN</td>\n",
       "      <td>NaN</td>\n",
       "      <td>...</td>\n",
       "      <td>NaN</td>\n",
       "      <td>NaN</td>\n",
       "      <td>NaN</td>\n",
       "      <td>NaN</td>\n",
       "      <td>NaN</td>\n",
       "      <td>NaN</td>\n",
       "      <td>NaN</td>\n",
       "      <td>NaN</td>\n",
       "      <td>NaN</td>\n",
       "      <td>NaN</td>\n",
       "    </tr>\n",
       "  </tbody>\n",
       "</table>\n",
       "<p>5 rows × 962 columns</p>\n",
       "</div>"
      ],
      "text/plain": [
       "            train/PWR_D  train/PWR_P  train/SYK_D  train/SYK_P  train/RL_D  \\\n",
       "Date                                                                         \n",
       "1962-01-02          NaN          NaN          NaN          NaN         NaN   \n",
       "1962-01-03          NaN          NaN          NaN          NaN         NaN   \n",
       "1962-01-04          NaN          NaN          NaN          NaN         NaN   \n",
       "1962-01-05          NaN          NaN          NaN          NaN         NaN   \n",
       "1962-01-08          NaN          NaN          NaN          NaN         NaN   \n",
       "\n",
       "            train/RL_P  train/DG_D  train/DG_P  train/WFC_D  train/WFC_P  \\\n",
       "Date                                                                       \n",
       "1962-01-02         NaN         NaN         NaN          NaN          NaN   \n",
       "1962-01-03         NaN         NaN         NaN          NaN          NaN   \n",
       "1962-01-04         NaN         NaN         NaN          NaN          NaN   \n",
       "1962-01-05         NaN         NaN         NaN          NaN          NaN   \n",
       "1962-01-08         NaN         NaN         NaN          NaN          NaN   \n",
       "\n",
       "              ...      train/AXP_D  train/AXP_P  train/PHM_D  train/PHM_P  \\\n",
       "Date          ...                                                           \n",
       "1962-01-02    ...              NaN          NaN          NaN          NaN   \n",
       "1962-01-03    ...              NaN          NaN          NaN          NaN   \n",
       "1962-01-04    ...              NaN          NaN          NaN          NaN   \n",
       "1962-01-05    ...              NaN          NaN          NaN          NaN   \n",
       "1962-01-08    ...              NaN          NaN          NaN          NaN   \n",
       "\n",
       "            train/CTSH_D  train/CTSH_P  test/78_D  test/78_P  test/42_D  \\\n",
       "Date                                                                      \n",
       "1962-01-02           NaN           NaN        NaN        NaN        NaN   \n",
       "1962-01-03           NaN           NaN        NaN        NaN        NaN   \n",
       "1962-01-04           NaN           NaN        NaN        NaN        NaN   \n",
       "1962-01-05           NaN           NaN        NaN        NaN        NaN   \n",
       "1962-01-08           NaN           NaN        NaN        NaN        NaN   \n",
       "\n",
       "            test/42_P  \n",
       "Date                   \n",
       "1962-01-02        NaN  \n",
       "1962-01-03        NaN  \n",
       "1962-01-04        NaN  \n",
       "1962-01-05        NaN  \n",
       "1962-01-08        NaN  \n",
       "\n",
       "[5 rows x 962 columns]"
      ]
     },
     "execution_count": 16,
     "metadata": {},
     "output_type": "execute_result"
    }
   ],
   "source": [
    "Diffs=pd.DataFrame()\n",
    "# Remove the following lines to process all stocks. Plot the PCA and the time sequences of these stocks \n",
    "# to see why they are outliers and need to be removed.\n",
    "Indices=set(Tables.keys())      #remove outlier stock - most likely due to file errors\n",
    "print(len(Indices))\n",
    "i=1\n",
    "for code in Indices:\n",
    "    print('\\r',i,code, end=' ')\n",
    "    i+=1\n",
    "    tbl=Tables[code]\n",
    "    S=tbl['Adj. Open']\n",
    "    prices=np.array(S)  # The length of \"prices\" will remain the original length.\n",
    "    diff=np.log(prices[1:]/prices[:-1])\n",
    "    I=S.index[:-1]\n",
    "    #print np.shae(Diffs),np.shape(Sdiff),np.shape(diff),len(I)\n",
    "    Sdiff=pd.DataFrame({code+'_D':diff,code+'_P':prices[:-1]},index=I)\n",
    "    Diffs=Diffs.join(Sdiff,how='outer')\n",
    "#rm above\n",
    "Diffs.head()"
   ]
  },
  {
   "cell_type": "code",
   "execution_count": 17,
   "metadata": {
    "ExecuteTime": {
     "end_time": "2018-06-08T17:17:08.640274Z",
     "start_time": "2018-06-08T17:17:07.870257Z"
    },
    "run_control": {
     "frozen": false,
     "read_only": false
    },
    "scrolled": false
   },
   "outputs": [
    {
     "data": {
      "image/png": "[encoded data removed]",
      "text/plain": [
       "<Figure size 1008x720 with 1 Axes>"
      ]
     },
     "metadata": {},
     "output_type": "display_data"
    }
   ],
   "source": [
    "# plot some stocks\n",
    "Diffs[['train/AAPL_P','train/MSFT_P','train/IBM_P','test/8_P']].plot(figsize=(14,10));\n",
    "plt.grid()"
   ]
  },
  {
   "cell_type": "markdown",
   "metadata": {},
   "source": [
    "### Black Monday\n",
    "\n",
    "One of the biggest crashes in the US stock market happened on\n",
    "**Black Monday:** Oct 19 1987  \n",
    "\n",
    "We will look at the stocks around that date"
   ]
  },
  {
   "cell_type": "code",
   "execution_count": 18,
   "metadata": {
    "ExecuteTime": {
     "end_time": "2018-06-08T17:17:17.352727Z",
     "start_time": "2018-06-08T17:17:16.945848Z"
    },
    "scrolled": false
   },
   "outputs": [
    {
     "data": {
      "image/png": "[encoded data removed]",
      "text/plain": [
       "<Figure size 1008x720 with 1 Axes>"
      ]
     },
     "metadata": {},
     "output_type": "display_data"
    }
   ],
   "source": [
    "#Focus on \"Black Monday:\" the stock crash of Oct 19 1987\n",
    "\n",
    "import datetime\n",
    "format = \"%b-%d-%Y\"\n",
    "\n",
    "_from = datetime.datetime.strptime('Sep-1-1987', format)\n",
    "_to = datetime.datetime.strptime('Nov-30-1987', format)\n",
    "\n",
    "Diffs.loc[_from:_to,['train/AAPL_P','train/MSFT_P','train/IBM_P']].plot(figsize=(14,10));\n",
    "plt.grid()"
   ]
  },
  {
   "cell_type": "markdown",
   "metadata": {},
   "source": [
    "**Why does it seems that the price of IBM fell much more than those of Apple and microsoft?**\n",
    "\n",
    "Because IBM's price started so much higher. As explained above it is more informative to consider $\\log(p_{t+1}/p_t)$"
   ]
  },
  {
   "cell_type": "code",
   "execution_count": 19,
   "metadata": {
    "ExecuteTime": {
     "end_time": "2018-06-08T17:17:25.860750Z",
     "start_time": "2018-06-08T17:17:25.457256Z"
    },
    "scrolled": false
   },
   "outputs": [
    {
     "data": {
      "image/png": "[encoded data removed]",
      "text/plain": [
       "<Figure size 1008x720 with 1 Axes>"
      ]
     },
     "metadata": {},
     "output_type": "display_data"
    }
   ],
   "source": [
    "Diffs.loc[_from:_to,['train/AAPL_D','train/MSFT_D','train/IBM_D']].plot(figsize=(14,10));\n",
    "plt.grid()"
   ]
  },
  {
   "cell_type": "code",
   "execution_count": 20,
   "metadata": {
    "ExecuteTime": {
     "end_time": "2018-06-08T17:17:37.463800Z",
     "start_time": "2018-06-08T17:17:37.458630Z"
    }
   },
   "outputs": [
    {
     "data": {
      "text/plain": [
       "'/home/jovyan/work/HW2018/Final'"
      ]
     },
     "execution_count": 20,
     "metadata": {},
     "output_type": "execute_result"
    }
   ],
   "source": [
    "%pwd"
   ]
  },
  {
   "cell_type": "code",
   "execution_count": 21,
   "metadata": {
    "ExecuteTime": {
     "end_time": "2018-06-08T17:17:45.574051Z",
     "start_time": "2018-06-08T17:17:45.561003Z"
    }
   },
   "outputs": [
    {
     "ename": "SyntaxError",
     "evalue": "invalid syntax (<ipython-input-21-e63d4ccacaff>, line 3)",
     "output_type": "error",
     "traceback": [
      "\u001b[0;36m  File \u001b[0;32m\"<ipython-input-21-e63d4ccacaff>\"\u001b[0;36m, line \u001b[0;32m3\u001b[0m\n\u001b[0;31m    Complete the following function to extract the tickers (company names) from the column names of the dataframe `df`. The tickers can be obtained by removing the `train/` and `test/` prefix and the `_D` or `_P` suffix from the `df` column names\u001b[0m\n\u001b[0m               ^\u001b[0m\n\u001b[0;31mSyntaxError\u001b[0m\u001b[0;31m:\u001b[0m invalid syntax\n"
     ]
    }
   ],
   "source": [
    "### Extract tickers\n",
    "\n",
    "Complete the following function to extract the tickers (company names) from the column names of the dataframe `df`. The tickers can be obtained by removing the `train/` and `test/` prefix and the `_D` or `_P` suffix from the `df` column names\n",
    "\n",
    "Input: `df` dataframe read in 1.2\n",
    "\n",
    "Returns: `tickers` - list of tickers\n",
    "\n",
    "Example Output:\n",
    "\n",
    "   ['RF',\n",
    "  'TIF',\n",
    "  'HAL',\n",
    "  'KSS',\n",
    "  'INTU',\n",
    "  'LH',\n",
    "  ]"
   ]
  },
  {
   "cell_type": "code",
   "execution_count": null,
   "metadata": {
    "ExecuteTime": {
     "end_time": "2018-06-08T17:19:12.423005Z",
     "start_time": "2018-06-08T17:19:12.388531Z"
    }
   },
   "outputs": [],
   "source": [
    "def partition_columns(df):\n",
    "    \"\"\"Partition columns of df into train set and test set\n",
    "    Each of them sorted lexicographically.\"\"\"\n",
    "    ### BEGIN SOLUTION\n",
    "    train_col=[]\n",
    "    test_col=[]\n",
    "    columns=df.columns\n",
    "    col=[c for c in columns if '_D' in c]\n",
    "    for i in range(len(col)):\n",
    "        if 'train' in col[i]:\n",
    "            train_col.append(col[i])\n",
    "        else:\n",
    "            test_col.append(col[i])\n",
    "    train_col = sorted(train_col)\n",
    "    test_col=sorted(test_col)\n",
    "    ### END SOLUTION    \n",
    "    return  train_col+test_col\n",
    "\n",
    "columns = partition_columns(Diffs)"
   ]
  },
  {
   "cell_type": "code",
   "execution_count": 30,
   "metadata": {
    "ExecuteTime": {
     "end_time": "2018-06-08T17:24:56.788698Z",
     "start_time": "2018-06-08T17:24:56.709264Z"
    }
   },
   "outputs": [],
   "source": [
    "Diffs=Diffs[columns]"
   ]
  },
  {
   "cell_type": "code",
   "execution_count": 31,
   "metadata": {
    "ExecuteTime": {
     "end_time": "2018-06-08T17:25:07.120304Z",
     "start_time": "2018-06-08T17:25:07.106935Z"
    }
   },
   "outputs": [
    {
     "data": {
      "text/plain": [
       "(['train/AAPL_D',\n",
       "  'train/ABC_D',\n",
       "  'train/ABT_D',\n",
       "  'train/ACN_D',\n",
       "  'train/ADBE_D',\n",
       "  'train/ADI_D'],\n",
       " ['test/86_D', 'test/87_D', 'test/88_D', 'test/8_D', 'test/9_D'])"
      ]
     },
     "execution_count": 31,
     "metadata": {},
     "output_type": "execute_result"
    }
   ],
   "source": [
    "columns[:6],columns[-5:]"
   ]
  },
  {
   "cell_type": "code",
   "execution_count": 32,
   "metadata": {
    "ExecuteTime": {
     "end_time": "2018-06-08T17:25:15.171331Z",
     "start_time": "2018-06-08T17:25:15.162751Z"
    }
   },
   "outputs": [
    {
     "data": {
      "text/plain": [
       "(Index(['train/AAPL_D', 'train/ABC_D', 'train/ABT_D', 'train/ACN_D',\n",
       "        'train/ADBE_D'],\n",
       "       dtype='object'),\n",
       " Index(['test/86_D', 'test/87_D', 'test/88_D', 'test/8_D', 'test/9_D'], dtype='object'))"
      ]
     },
     "execution_count": 32,
     "metadata": {},
     "output_type": "execute_result"
    }
   ],
   "source": [
    "Diffs.columns[:5],Diffs.columns[-5:]"
   ]
  },
  {
   "cell_type": "code",
   "execution_count": null,
   "metadata": {},
   "outputs": [],
   "source": [
    "## Need to add some visible tests."
   ]
  },
  {
   "cell_type": "code",
   "execution_count": null,
   "metadata": {},
   "outputs": [],
   "source": [
    "# HIDDEN TESTS\n",
    "### BEGIN HIDDEN TESTS\n",
    "assert type(columns) == list, 'Incorrect return type'\n",
    "assert len(columns) == 481, 'Incorrect return value'\n",
    "assert columns[0] == 'train/AAPL_D', 'Incorrect return value'\n",
    "assert columns[-2] == 'test/8_D', 'Incorrect return value'\n",
    "### END HIDDEN TESTS"
   ]
  },
  {
   "cell_type": "code",
   "execution_count": 33,
   "metadata": {
    "ExecuteTime": {
     "end_time": "2018-06-08T17:25:30.700931Z",
     "start_time": "2018-06-08T17:25:23.565024Z"
    },
    "run_control": {
     "frozen": false,
     "read_only": false
    }
   },
   "outputs": [],
   "source": [
    "#%cd ..\n",
    "Diffs.to_csv('data/SP500.csv')"
   ]
  },
  {
   "cell_type": "code",
   "execution_count": 34,
   "metadata": {
    "ExecuteTime": {
     "end_time": "2018-06-08T17:25:38.801628Z",
     "start_time": "2018-06-08T17:25:38.795850Z"
    }
   },
   "outputs": [
    {
     "data": {
      "text/plain": [
       "(13422, 481)"
      ]
     },
     "execution_count": 34,
     "metadata": {},
     "output_type": "execute_result"
    }
   ],
   "source": [
    "Diffs.shape"
   ]
  },
  {
   "cell_type": "code",
   "execution_count": 26,
   "metadata": {
    "ExecuteTime": {
     "end_time": "2018-06-07T18:20:25.580267Z",
     "start_time": "2018-06-07T18:20:25.573012Z"
    }
   },
   "outputs": [
    {
     "data": {
      "text/plain": [
       "481"
      ]
     },
     "execution_count": 26,
     "metadata": {},
     "output_type": "execute_result"
    }
   ],
   "source": [
    "len([a for a in Diffs.columns if '_D' in a])"
   ]
  },
  {
   "cell_type": "code",
   "execution_count": null,
   "metadata": {},
   "outputs": [],
   "source": []
  }
 ],
 "metadata": {
  "anaconda-cloud": {},
  "kernelspec": {
   "display_name": "Python 3",
   "language": "python",
   "name": "python3"
  },
  "language_info": {
   "codemirror_mode": {
    "name": "ipython",
    "version": 3
   },
   "file_extension": ".py",
   "mimetype": "text/x-python",
   "name": "python",
   "nbconvert_exporter": "python",
   "pygments_lexer": "ipython3",
   "version": "3.6.5"
  },
  "toc": {
   "base_numbering": 1,
   "nav_menu": {
    "height": "135px",
    "width": "253px"
   },
   "number_sections": true,
   "sideBar": true,
   "skip_h1_title": false,
   "title_cell": "Table of Contents",
   "title_sidebar": "Contents",
   "toc_cell": false,
   "toc_position": {},
   "toc_section_display": "block",
   "toc_window_display": false
  },
  "varInspector": {
   "cols": {
    "lenName": 16,
    "lenType": 16,
    "lenVar": 40
   },
   "kernels_config": {
    "python": {
     "delete_cmd_postfix": "",
     "delete_cmd_prefix": "del ",
     "library": "var_list.py",
     "varRefreshCmd": "print(var_dic_list())"
    },
    "r": {
     "delete_cmd_postfix": ") ",
     "delete_cmd_prefix": "rm(",
     "library": "var_list.r",
     "varRefreshCmd": "cat(var_dic_list()) "
    }
   },
   "types_to_exclude": [
    "module",
    "function",
    "builtin_function_or_method",
    "instance",
    "_Feature"
   ],
   "window_display": false
  }
 },
 "nbformat": 4,
 "nbformat_minor": 1
}
