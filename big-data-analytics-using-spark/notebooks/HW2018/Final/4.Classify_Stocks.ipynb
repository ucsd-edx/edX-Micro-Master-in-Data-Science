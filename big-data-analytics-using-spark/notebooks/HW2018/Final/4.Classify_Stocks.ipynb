{
 "cells": [
  {
   "cell_type": "markdown",
   "metadata": {
    "nbgrader": {
     "grade": false,
     "grade_id": "cell-2beb19248750c680",
     "locked": true,
     "schema_version": 1,
     "solution": false
    }
   },
   "source": [
    "# Stock category prediction using XGBoost"
   ]
  },
  {
   "cell_type": "code",
   "execution_count": 1,
   "metadata": {
    "ExecuteTime": {
     "end_time": "2018-06-11T11:35:11.034916Z",
     "start_time": "2018-06-11T11:35:10.058398Z"
    },
    "nbgrader": {
     "grade": false,
     "grade_id": "cell-dd2433d1712e4dd7",
     "locked": true,
     "schema_version": 1,
     "solution": false
    }
   },
   "outputs": [
    {
     "name": "stdout",
     "output_type": "stream",
     "text": [
      "Populating the interactive namespace from numpy and matplotlib\n"
     ]
    }
   ],
   "source": [
    "import pickle\n",
    "import pandas as pd\n",
    "import numpy as np\n",
    "import xgboost as xgb\n",
    "from sklearn.model_selection import train_test_split\n",
    "%pylab inline"
   ]
  },
  {
   "cell_type": "markdown",
   "metadata": {
    "heading_collapsed": true,
    "nbgrader": {
     "grade": false,
     "grade_id": "cell-35c72b8f613eae6b",
     "locked": true,
     "schema_version": 1,
     "solution": false
    }
   },
   "source": [
    "## Read PCA parameters"
   ]
  },
  {
   "cell_type": "code",
   "execution_count": 2,
   "metadata": {
    "ExecuteTime": {
     "end_time": "2018-06-11T11:35:11.101630Z",
     "start_time": "2018-06-11T11:35:11.037757Z"
    },
    "hidden": true,
    "nbgrader": {
     "grade": false,
     "grade_id": "cell-acfd434506ba7be1",
     "locked": true,
     "schema_version": 1,
     "solution": false
    },
    "scrolled": true
   },
   "outputs": [],
   "source": [
    "D=pickle.load(open('data/PCA.pickle','rb'))\n",
    "col=D['columns']\n",
    "eigvec=D['eigvec']\n",
    "eigval=D['eigval']"
   ]
  },
  {
   "cell_type": "markdown",
   "metadata": {
    "heading_collapsed": true,
    "hidden": true,
    "nbgrader": {
     "grade": false,
     "grade_id": "cell-9f516e49dc08b136",
     "locked": true,
     "schema_version": 1,
     "solution": false
    }
   },
   "source": [
    "### Sanity check\n",
    "The following scatterplot should be very similar to the scatter plot you produced in notebook 3 for eigvec 1, eigvec 2 (indexing starts with 1)"
   ]
  },
  {
   "cell_type": "code",
   "execution_count": 3,
   "metadata": {
    "ExecuteTime": {
     "end_time": "2018-06-11T11:35:11.262786Z",
     "start_time": "2018-06-11T11:35:11.106836Z"
    },
    "hidden": true,
    "nbgrader": {
     "grade": false,
     "grade_id": "cell-89d72fab9ee2f887",
     "locked": true,
     "schema_version": 1,
     "solution": false
    }
   },
   "outputs": [
    {
     "data": {
      "text/plain": [
       "<matplotlib.collections.PathCollection at 0x7f6bea4aacf8>"
      ]
     },
     "execution_count": 3,
     "metadata": {},
     "output_type": "execute_result"
    },
    {
     "data": {
      "image/png": "[encoded data removed]",
      "text/plain": [
       "<Figure size 432x288 with 1 Axes>"
      ]
     },
     "metadata": {},
     "output_type": "display_data"
    }
   ],
   "source": [
    "scatter(eigvec[:,0],eigvec[:,1])"
   ]
  },
  {
   "cell_type": "markdown",
   "metadata": {
    "heading_collapsed": true,
    "nbgrader": {
     "grade": false,
     "grade_id": "cell-caead6f6257eae66",
     "locked": true,
     "schema_version": 1,
     "solution": false
    }
   },
   "source": [
    "## compute features"
   ]
  },
  {
   "cell_type": "code",
   "execution_count": 4,
   "metadata": {
    "ExecuteTime": {
     "end_time": "2018-06-11T11:35:11.273553Z",
     "start_time": "2018-06-11T11:35:11.265235Z"
    },
    "hidden": true,
    "nbgrader": {
     "grade": false,
     "grade_id": "cell-25ab4021327ffdfd",
     "locked": true,
     "schema_version": 1,
     "solution": false
    }
   },
   "outputs": [
    {
     "data": {
      "text/plain": [
       "(481, 20)"
      ]
     },
     "execution_count": 4,
     "metadata": {},
     "output_type": "execute_result"
    }
   ],
   "source": [
    "#Taking the top 20 features(Eigen vectors)\n",
    "features=eigvec[:,:20]\n",
    "features.shape"
   ]
  },
  {
   "cell_type": "markdown",
   "metadata": {
    "heading_collapsed": true,
    "nbgrader": {
     "grade": false,
     "grade_id": "cell-9eeb8f35efa872a6",
     "locked": true,
     "schema_version": 1,
     "solution": false
    }
   },
   "source": [
    "##  Compute labels (sectors)"
   ]
  },
  {
   "cell_type": "code",
   "execution_count": 5,
   "metadata": {
    "ExecuteTime": {
     "end_time": "2018-06-11T11:35:11.316439Z",
     "start_time": "2018-06-11T11:35:11.276360Z"
    },
    "hidden": true,
    "nbgrader": {
     "grade": false,
     "grade_id": "cell-904d92c63c6ced4f",
     "locked": true,
     "schema_version": 1,
     "solution": false
    },
    "scrolled": true
   },
   "outputs": [
    {
     "name": "stdout",
     "output_type": "stream",
     "text": [
      "(505, 5)\n"
     ]
    },
    {
     "data": {
      "text/html": [
       "<div>\n",
       "<style scoped>\n",
       "    .dataframe tbody tr th:only-of-type {\n",
       "        vertical-align: middle;\n",
       "    }\n",
       "\n",
       "    .dataframe tbody tr th {\n",
       "        vertical-align: top;\n",
       "    }\n",
       "\n",
       "    .dataframe thead th {\n",
       "        text-align: right;\n",
       "    }\n",
       "</style>\n",
       "<table border=\"1\" class=\"dataframe\">\n",
       "  <thead>\n",
       "    <tr style=\"text-align: right;\">\n",
       "      <th></th>\n",
       "      <th>Unnamed: 0</th>\n",
       "      <th>Ticker</th>\n",
       "      <th>Name</th>\n",
       "      <th>Sector</th>\n",
       "      <th>SECTOR_ID</th>\n",
       "    </tr>\n",
       "  </thead>\n",
       "  <tbody>\n",
       "    <tr>\n",
       "      <th>0</th>\n",
       "      <td>0</td>\n",
       "      <td>MMM</td>\n",
       "      <td>3M|3M Company</td>\n",
       "      <td>Industrials</td>\n",
       "      <td>INDS</td>\n",
       "    </tr>\n",
       "    <tr>\n",
       "      <th>1</th>\n",
       "      <td>1</td>\n",
       "      <td>ABT</td>\n",
       "      <td>Abbott Laboratories</td>\n",
       "      <td>Health Care</td>\n",
       "      <td>HC</td>\n",
       "    </tr>\n",
       "    <tr>\n",
       "      <th>2</th>\n",
       "      <td>2</td>\n",
       "      <td>ABBV</td>\n",
       "      <td>AbbVie Inc.</td>\n",
       "      <td>Health Care</td>\n",
       "      <td>HC</td>\n",
       "    </tr>\n",
       "    <tr>\n",
       "      <th>3</th>\n",
       "      <td>3</td>\n",
       "      <td>ACN</td>\n",
       "      <td>Accenture plc</td>\n",
       "      <td>Information Technology</td>\n",
       "      <td>IT</td>\n",
       "    </tr>\n",
       "    <tr>\n",
       "      <th>4</th>\n",
       "      <td>4</td>\n",
       "      <td>ATVI</td>\n",
       "      <td>Activision Blizzard</td>\n",
       "      <td>Information Technology</td>\n",
       "      <td>IT</td>\n",
       "    </tr>\n",
       "  </tbody>\n",
       "</table>\n",
       "</div>"
      ],
      "text/plain": [
       "   Unnamed: 0 Ticker                 Name                  Sector SECTOR_ID\n",
       "0           0    MMM        3M|3M Company             Industrials      INDS\n",
       "1           1    ABT  Abbott Laboratories             Health Care        HC\n",
       "2           2   ABBV          AbbVie Inc.             Health Care        HC\n",
       "3           3    ACN        Accenture plc  Information Technology        IT\n",
       "4           4   ATVI  Activision Blizzard  Information Technology        IT"
      ]
     },
     "execution_count": 5,
     "metadata": {},
     "output_type": "execute_result"
    }
   ],
   "source": [
    "TickerInfo=pd.read_csv('data/tickerInfo.tsv',sep='\\t')\n",
    "print(TickerInfo.shape)\n",
    "TickerInfo.head()"
   ]
  },
  {
   "cell_type": "markdown",
   "metadata": {
    "heading_collapsed": true,
    "nbgrader": {
     "grade": false,
     "grade_id": "cell-e270636f68791e01",
     "locked": true,
     "schema_version": 1,
     "solution": false
    }
   },
   "source": [
    "## Creating necessary dictionaries"
   ]
  },
  {
   "cell_type": "markdown",
   "metadata": {
    "hidden": true,
    "nbgrader": {
     "grade": false,
     "grade_id": "cell-bcff91d92cda4ce8",
     "locked": true,
     "schema_version": 1,
     "solution": false
    }
   },
   "source": [
    "The Sectors dictionary below has the Sector name mapped to the sector ID. Using the Sectors dictionary below, create a dictionary mapping of the sector ID to indices incrementally as follows:\n",
    "\n",
    "```\n",
    "{\n",
    "    'CD': 0,\n",
    "    'CS': 1,\n",
    "    'EN': 2,\n",
    "    'FIN': 3,\n",
    "    'HC': 4,\n",
    "    'INDS': 5,\n",
    "    'IT': 6,\n",
    "    'MAT': 7,\n",
    "    'RE': 8,\n",
    "    'TS': 9,\n",
    "    'UTIL': 10\n",
    "}\n",
    "```\n",
    "\n",
    "In addition to this, you will need to create one more dictionary mapping index number to the sector name:\n",
    "```\n",
    "{\n",
    "    0: 'Consumer Discretionary',\n",
    "    1: 'Consumer Staples',\n",
    "    2: 'Energy',\n",
    "    3: 'Financials',\n",
    "    4: 'Health Care',\n",
    "    5: 'Industrials',\n",
    "    6: 'Information Technology',\n",
    "    7: 'Materials',\n",
    "    8: 'Real Estate',\n",
    "    9: 'Telecommunication Services',\n",
    "    10: 'Utilities'\n",
    "}\n",
    " ```\n",
    " \n",
    "**<font color=\"magenta\" size=2>Input</font>**\n",
    "<br>\n",
    "A dictionary **Sectors** as given in the following cell.\n",
    "\n",
    "**<font color=\"blue\" size=2>Output</font>**\n",
    "<br>\n",
    "Return two dictionaries **sector2number** and **number2sectorName** as mentioned in the description."
   ]
  },
  {
   "cell_type": "code",
   "execution_count": 6,
   "metadata": {
    "ExecuteTime": {
     "end_time": "2018-06-11T11:35:11.323581Z",
     "start_time": "2018-06-11T11:35:11.318698Z"
    },
    "hidden": true,
    "nbgrader": {
     "grade": false,
     "grade_id": "cell-7e163b9f4a2312c8",
     "locked": true,
     "schema_version": 1,
     "solution": false
    }
   },
   "outputs": [],
   "source": [
    "Sectors={'Consumer Discretionary':'CD',\n",
    " 'Consumer Staples':'CS',\n",
    " 'Energy':'EN',\n",
    " 'Financials':'FIN',\n",
    " 'Health Care':'HC',\n",
    " 'Industrials':'INDS',\n",
    " 'Information Technology':'IT',\n",
    " 'Materials':'MAT',\n",
    " 'Real Estate':'RE',\n",
    " 'Telecommunication Services':'TS',\n",
    " 'Utilities':'UTIL'}\n"
   ]
  },
  {
   "cell_type": "code",
   "execution_count": 7,
   "metadata": {
    "ExecuteTime": {
     "end_time": "2018-06-11T11:35:11.342325Z",
     "start_time": "2018-06-11T11:35:11.328744Z"
    },
    "hidden": true,
    "nbgrader": {
     "grade": false,
     "grade_id": "cell-48e618d54073cb44",
     "locked": false,
     "schema_version": 1,
     "solution": true
    }
   },
   "outputs": [],
   "source": [
    "def get_sector_dicts(Sectors):\n",
    "    ### BEGIN SOLUTION\n",
    "    sector2number={}\n",
    "    i=0;\n",
    "    for name,short in Sectors.items():\n",
    "        sector2number[short]=i\n",
    "        i+=1\n",
    "    sectorID2sectorName = {key:value for (value, key) in Sectors.items()}\n",
    "    number2sectorID = {key:value for (value, key) in sector2number.items()}\n",
    "    number2sectorName = {i:sectorID2sectorName[number2sectorID[i]] for i in number2sectorID}\n",
    "    return sector2number, number2sectorName\n",
    "    ### END SOLUTION"
   ]
  },
  {
   "cell_type": "code",
   "execution_count": 8,
   "metadata": {
    "ExecuteTime": {
     "end_time": "2018-06-11T11:35:11.352363Z",
     "start_time": "2018-06-11T11:35:11.347807Z"
    },
    "hidden": true,
    "nbgrader": {
     "grade": false,
     "grade_id": "cell-8969b6dbb6161bce",
     "locked": true,
     "schema_version": 1,
     "solution": false
    }
   },
   "outputs": [],
   "source": [
    "sector2number, number2sectorName = get_sector_dicts(Sectors)"
   ]
  },
  {
   "cell_type": "code",
   "execution_count": 9,
   "metadata": {
    "ExecuteTime": {
     "end_time": "2018-06-11T11:35:11.364511Z",
     "start_time": "2018-06-11T11:35:11.354927Z"
    },
    "hidden": true,
    "nbgrader": {
     "grade": true,
     "grade_id": "cell-79897da0f4f488a4",
     "locked": true,
     "points": 2,
     "schema_version": 1,
     "solution": false
    }
   },
   "outputs": [],
   "source": [
    "# Hidden Tests here\n",
    "### BEGIN HIDDEN TESTS\n",
    "assert sector2number == {'CD': 0, 'CS': 1, 'EN': 2, 'FIN': 3, 'HC': 4, 'INDS': 5, 'IT': 6, 'MAT': 7, 'RE': 8, 'TS': 9, 'UTIL': 10}\n",
    "assert number2sectorName ==  {0: 'Consumer Discretionary', 1: 'Consumer Staples', 2: 'Energy', 3: 'Financials', 4: 'Health Care', 5: 'Industrials', 6: 'Information Technology', 7: 'Materials', 8: 'Real Estate', 9: 'Telecommunication Services', 10: 'Utilities'}\n",
    "### END HIDDEN TESTS"
   ]
  },
  {
   "cell_type": "code",
   "execution_count": 10,
   "metadata": {
    "ExecuteTime": {
     "end_time": "2018-06-11T11:35:11.650675Z",
     "start_time": "2018-06-11T11:35:11.370391Z"
    },
    "hidden": true,
    "nbgrader": {
     "grade": false,
     "grade_id": "cell-76dfe40b2999cb01",
     "locked": true,
     "schema_version": 1,
     "solution": false
    }
   },
   "outputs": [],
   "source": [
    "labels=[]\n",
    "feature_vectors=[]\n",
    "feature_vectors_test=[]\n",
    "test_nos = []\n",
    "for i in range(len(col)):\n",
    "    c=col[i]\n",
    "    if 'train' in c:\n",
    "        ticker=c[6:-2]\n",
    "        answer=list(TickerInfo[TickerInfo.Ticker==ticker]['SECTOR_ID'])\n",
    "        if len(answer)==1:\n",
    "            sector_no=sector2number[answer[0]]\n",
    "            labels.append(sector_no)\n",
    "            feature_vectors.append(features[i,:])\n",
    "        else:\n",
    "            print('error: could not find sector for ticker:',ticker)\n",
    "    if 'test' in c:\n",
    "        test_nos.append(c[5:-2])\n",
    "        feature_vectors_test.append(features[i,:])"
   ]
  },
  {
   "cell_type": "code",
   "execution_count": 11,
   "metadata": {
    "ExecuteTime": {
     "end_time": "2018-06-11T11:35:11.662693Z",
     "start_time": "2018-06-11T11:35:11.653176Z"
    },
    "hidden": true,
    "nbgrader": {
     "grade": false,
     "grade_id": "cell-cd496764aef3e72c",
     "locked": true,
     "schema_version": 1,
     "solution": false
    }
   },
   "outputs": [
    {
     "data": {
      "text/plain": [
       "(392, 392, 89, 89)"
      ]
     },
     "execution_count": 11,
     "metadata": {},
     "output_type": "execute_result"
    }
   ],
   "source": [
    "len(labels),len(feature_vectors), len(test_nos),len(feature_vectors_test)"
   ]
  },
  {
   "cell_type": "markdown",
   "metadata": {
    "heading_collapsed": true,
    "nbgrader": {
     "grade": false,
     "grade_id": "cell-1cd85daeb446cf50",
     "locked": true,
     "schema_version": 1,
     "solution": false
    }
   },
   "source": [
    "## XGBoost Setup"
   ]
  },
  {
   "cell_type": "code",
   "execution_count": 12,
   "metadata": {
    "ExecuteTime": {
     "end_time": "2018-06-11T11:35:11.678151Z",
     "start_time": "2018-06-11T11:35:11.667555Z"
    },
    "hidden": true,
    "nbgrader": {
     "grade": false,
     "grade_id": "cell-5354908ece6c0677",
     "locked": true,
     "schema_version": 1,
     "solution": false
    }
   },
   "outputs": [
    {
     "data": {
      "text/plain": [
       "((392, 20), (392,), (89, 20), (89,))"
      ]
     },
     "execution_count": 12,
     "metadata": {},
     "output_type": "execute_result"
    }
   ],
   "source": [
    "X=np.array(feature_vectors)\n",
    "y=np.array(labels)\n",
    "X_test = np.array(feature_vectors_test)\n",
    "y_test = np.array(test_nos)\n",
    "X.shape, y.shape, X_test.shape, y_test.shape"
   ]
  },
  {
   "cell_type": "code",
   "execution_count": 13,
   "metadata": {
    "ExecuteTime": {
     "end_time": "2018-06-11T11:35:11.691862Z",
     "start_time": "2018-06-11T11:35:11.682610Z"
    },
    "hidden": true,
    "nbgrader": {
     "grade": false,
     "grade_id": "cell-2f563a060a7dabb5",
     "locked": true,
     "schema_version": 1,
     "solution": false
    }
   },
   "outputs": [
    {
     "data": {
      "text/plain": [
       "((274, 20), (118, 20))"
      ]
     },
     "execution_count": 13,
     "metadata": {},
     "output_type": "execute_result"
    }
   ],
   "source": [
    "#Splitting between train and validation\n",
    "X_train, X_valid, y_train, y_valid = train_test_split(X, y, test_size=0.30, random_state=6)\n",
    "X_train.shape, X_valid.shape"
   ]
  },
  {
   "cell_type": "code",
   "execution_count": 14,
   "metadata": {
    "ExecuteTime": {
     "end_time": "2018-06-11T11:35:11.704955Z",
     "start_time": "2018-06-11T11:35:11.697149Z"
    },
    "hidden": true,
    "nbgrader": {
     "grade": false,
     "grade_id": "cell-e8794feabbdf7ddb",
     "locked": true,
     "schema_version": 1,
     "solution": false
    }
   },
   "outputs": [],
   "source": [
    "#Parameters\n",
    "param = {}\n",
    "param['max_depth']= 3   # depth of tree\n",
    "param['eta'] = 0.3      # shrinkage parameter\n",
    "param['silent'] = 1     # not silent\n",
    "param['objective'] = 'multi:softmax'\n",
    "param['nthread'] = 7 # Number of threads used\n",
    "param['num_class']=11\n",
    "\n",
    "num_round = 100"
   ]
  },
  {
   "cell_type": "markdown",
   "metadata": {
    "heading_collapsed": true,
    "nbgrader": {
     "grade": false,
     "grade_id": "cell-e9687a05751d0ab1",
     "locked": true,
     "schema_version": 1,
     "solution": false
    }
   },
   "source": [
    "## Generating scores using XGBoost\n",
    "\n",
    "The function <font color=\"blue\">get_margin_scores</font> is used to predict the sector for each of the given samples.\n",
    "\n",
    "**<font color=\"magenta\" size=2>Input</font>**\n",
    "<br>\n",
    "1. **Training set** (X_train)\n",
    "2. **Validation set** (X_valid)\n",
    "3. **Training labels** (y_train)\n",
    "4. **XGBoost Parameter List** (param)\n",
    "\n",
    "\n",
    "**<font color=\"blue\" size=2>Output</font>**\n",
    "<br>\n",
    "Return the following:\n",
    "1. **y_pred_valid**: The raw output scores for the validation set\n",
    "\n",
    "\n",
    "**Note**:\n",
    "1. Round all raw scores to **three** decimal places\n",
    "2. Remember to use **verbose_eval = False** while training and **ntree_limit=bst.best_ntree_limit** and **output_margin=True** while predicting"
   ]
  },
  {
   "cell_type": "code",
   "execution_count": 15,
   "metadata": {
    "ExecuteTime": {
     "end_time": "2018-06-11T11:35:11.724903Z",
     "start_time": "2018-06-11T11:35:11.707967Z"
    },
    "hidden": true,
    "nbgrader": {
     "grade": false,
     "grade_id": "cell-0e8f383f79318be9",
     "locked": false,
     "schema_version": 1,
     "solution": true
    }
   },
   "outputs": [],
   "source": [
    "def get_margin_scores(X_train, X_valid, y_train, param):\n",
    "    ### BEGIN SOLUTION\n",
    "    dtrain = xgb.DMatrix(X_train, label=y_train)\n",
    "    evallist = [(dtrain, 'train')]\n",
    "    plst = param.items()\n",
    "    bst = xgb.train(plst, dtrain, num_round, evallist, verbose_eval=False)\n",
    "    dvalid = xgb.DMatrix(X_valid)\n",
    "    y_pred_valid = bst.predict(dvalid, ntree_limit=bst.best_ntree_limit, output_margin=True)\n",
    "    y_pred_valid = np.around(y_pred_valid, decimals = 3)\n",
    "    return y_pred_valid\n",
    "    ### END SOLUTION"
   ]
  },
  {
   "cell_type": "code",
   "execution_count": 16,
   "metadata": {
    "ExecuteTime": {
     "end_time": "2018-06-11T11:35:13.097178Z",
     "start_time": "2018-06-11T11:35:11.730042Z"
    },
    "hidden": true,
    "nbgrader": {
     "grade": false,
     "grade_id": "cell-b9e317c1fa1f35d3",
     "locked": true,
     "schema_version": 1,
     "solution": false
    }
   },
   "outputs": [],
   "source": [
    "y_pred_valid = get_margin_scores(X_train, X_valid, y_train, param)"
   ]
  },
  {
   "cell_type": "code",
   "execution_count": 17,
   "metadata": {
    "ExecuteTime": {
     "end_time": "2018-06-11T11:35:13.103908Z",
     "start_time": "2018-06-11T11:35:13.099559Z"
    },
    "hidden": true,
    "nbgrader": {
     "grade": true,
     "grade_id": "cell-121c650f46b392f8",
     "locked": true,
     "points": 0,
     "schema_version": 1,
     "solution": false
    }
   },
   "outputs": [],
   "source": [
    "assert y_pred_valid.shape == (118, 11), \"Incorrect shape\"\n",
    "assert type(y_pred_valid) == numpy.ndarray, \"Incorrect type\""
   ]
  },
  {
   "cell_type": "code",
   "execution_count": 18,
   "metadata": {
    "ExecuteTime": {
     "end_time": "2018-06-11T11:35:13.130987Z",
     "start_time": "2018-06-11T11:35:13.106702Z"
    },
    "hidden": true,
    "nbgrader": {
     "grade": true,
     "grade_id": "cell-c9419ce7db9f474f",
     "locked": true,
     "points": 8,
     "schema_version": 1,
     "solution": false
    }
   },
   "outputs": [],
   "source": [
    "# Hidden Tests Here\n",
    "### BEGIN HIDDEN TESTS\n",
    "y_pred_valid_true = pickle.load(open('data/hidden_tests_notebook4/y_pred_valid.pickle', 'rb'))\n",
    "assert (y_pred_valid == y_pred_valid_true).all(), \"Incorrect values\"\n",
    "### END HIDDEN TESTS"
   ]
  },
  {
   "cell_type": "markdown",
   "metadata": {
    "heading_collapsed": true,
    "nbgrader": {
     "grade": false,
     "grade_id": "cell-64d5475ceb1f9cdb",
     "locked": true,
     "schema_version": 1,
     "solution": false
    }
   },
   "source": [
    "## Computing Top1 and Top5 predictions\n",
    "\n",
    "Using the margin scores generated, calculate top1 and top5 predictions for the given data:\n",
    "\n",
    "**top1**: Find the most probable prediction for each example in the validation set\n",
    "\n",
    "**top5**: Find the top 5 most probable predictions in descending order for each example in the validation set (most probable to fifth most probabale)\n",
    "\n",
    "**<font color=\"magenta\" size=2>Input</font>**\n",
    "<br>\n",
    "1. **Validation Output Scores** (y_pred_valid)\n",
    "\n",
    "**<font color=\"blue\" size=2>Output</font>**\n",
    "<br>\n",
    "1. **predictions_valid**: The most probable prediction for each example in the the validation set\n",
    "2. **predictions_topn**: The top 5 predictions for each example in the validation set\n",
    "\n",
    "**<font color=\"magenta\" size=2>Sample input</font>**\n",
    "1. **y_pred_valid**: [[-0.3, 1.2, 0.3, 0.5, -0.4, 0.0, 0.01, 1.0, -1.3, 0.2, -1.2], [0.4, -0.5, 1.3, -0.2, 0.6, -2.2, -0.8, 1.9, 0.9, -0.2, -1.7]]\n",
    "\n",
    "**<font color=\"blue\" size=2>Sample output</font>** \n",
    "1. **predictions_valid**: [1, 7]\n",
    "2. **predictions_top5**: [[1,  7,  3,  2,  9], [ 7,  2,  8,  4,  0]]"
   ]
  },
  {
   "cell_type": "code",
   "execution_count": 19,
   "metadata": {
    "ExecuteTime": {
     "end_time": "2018-06-11T11:35:13.140917Z",
     "start_time": "2018-06-11T11:35:13.133580Z"
    },
    "hidden": true,
    "nbgrader": {
     "grade": false,
     "grade_id": "cell-12ee152fd08b1fdf",
     "locked": false,
     "schema_version": 1,
     "solution": true
    }
   },
   "outputs": [],
   "source": [
    "def get_predictions(y_pred_valid):\n",
    "    ### BEGIN SOLUTION\n",
    "    predictions_valid = np.array([np.argmax(pred) for pred in y_pred_valid])\n",
    "    predictions_topn = np.array([pred.argsort()[::-1][:5] for pred in y_pred_valid])\n",
    "    return predictions_valid, predictions_topn\n",
    "    ### END SOLUTION"
   ]
  },
  {
   "cell_type": "code",
   "execution_count": 20,
   "metadata": {
    "ExecuteTime": {
     "end_time": "2018-06-11T11:35:13.149449Z",
     "start_time": "2018-06-11T11:35:13.143585Z"
    },
    "hidden": true,
    "nbgrader": {
     "grade": false,
     "grade_id": "cell-149bfef984002316",
     "locked": true,
     "schema_version": 1,
     "solution": false
    }
   },
   "outputs": [],
   "source": [
    "predictions_valid, predictions_top5 = get_predictions(y_pred_valid)"
   ]
  },
  {
   "cell_type": "code",
   "execution_count": 21,
   "metadata": {
    "ExecuteTime": {
     "end_time": "2018-06-11T11:35:13.159904Z",
     "start_time": "2018-06-11T11:35:13.152591Z"
    },
    "hidden": true,
    "nbgrader": {
     "grade": true,
     "grade_id": "cell-02be6a89a5e44753",
     "locked": true,
     "points": 0,
     "schema_version": 1,
     "solution": false
    }
   },
   "outputs": [],
   "source": [
    "assert predictions_valid.shape == (118,), \"Incorrect shape\"\n",
    "assert predictions_top5.shape == (118, 5), \"Incorrect shape\"\n",
    "assert type(predictions_valid) == numpy.ndarray, \"Incorrect type\"\n",
    "assert type(predictions_top5) == numpy.ndarray, \"Incorrect type\""
   ]
  },
  {
   "cell_type": "code",
   "execution_count": 22,
   "metadata": {
    "ExecuteTime": {
     "end_time": "2018-06-11T11:35:13.173261Z",
     "start_time": "2018-06-11T11:35:13.163109Z"
    },
    "hidden": true,
    "nbgrader": {
     "grade": true,
     "grade_id": "cell-bd4d60a046981072",
     "locked": true,
     "points": 3,
     "schema_version": 1,
     "solution": false
    }
   },
   "outputs": [],
   "source": [
    "# Hidden Tests Here\n",
    "### BEGIN HIDDEN TESTS\n",
    "predictions_valid_true = pickle.load(open('data/hidden_tests_notebook4/pred_valid.pickle','rb'))\n",
    "assert (predictions_valid_true == predictions_valid).all(), \"Incorrect predictions\"\n",
    "### END HIDDEN TESTS"
   ]
  },
  {
   "cell_type": "code",
   "execution_count": 23,
   "metadata": {
    "ExecuteTime": {
     "end_time": "2018-06-11T11:35:13.185624Z",
     "start_time": "2018-06-11T11:35:13.175736Z"
    },
    "hidden": true,
    "nbgrader": {
     "grade": true,
     "grade_id": "cell-96dc65236185c2de",
     "locked": true,
     "points": 3,
     "schema_version": 1,
     "solution": false
    }
   },
   "outputs": [],
   "source": [
    "# Hidden Tests Here\n",
    "### BEGIN HIDDEN TESTS\n",
    "predictions_top5_true = pickle.load(open('data/hidden_tests_notebook4/pred_valid_top5.pickle','rb'))\n",
    "assert (predictions_top5_true == predictions_top5).all(), \"Incorrect predictions\"\n",
    "### END HIDDEN TESTS"
   ]
  },
  {
   "cell_type": "code",
   "execution_count": 24,
   "metadata": {
    "ExecuteTime": {
     "end_time": "2018-06-11T11:35:13.200458Z",
     "start_time": "2018-06-11T11:35:13.188422Z"
    },
    "hidden": true,
    "nbgrader": {
     "grade": false,
     "grade_id": "cell-67e0884f8fe20312",
     "locked": true,
     "schema_version": 1,
     "solution": false
    }
   },
   "outputs": [
    {
     "name": "stdout",
     "output_type": "stream",
     "text": [
      "Top  1 : \t 0.7203389830508474\n",
      "Top  2 : \t 0.864406779661017\n",
      "Top  3 : \t 0.9152542372881356\n",
      "Top  4 : \t 0.9322033898305084\n",
      "Top  5 : \t 0.9491525423728814\n"
     ]
    }
   ],
   "source": [
    "acc = 0\n",
    "for i in range(5):\n",
    "    acc += sum(predictions_top5[:, i]==y_valid)\n",
    "    print(\"Top \", i+1, \": \\t\", acc/len(y_valid))"
   ]
  },
  {
   "cell_type": "markdown",
   "metadata": {
    "heading_collapsed": true,
    "nbgrader": {
     "grade": false,
     "grade_id": "cell-d839e3381ca150d2",
     "locked": true,
     "schema_version": 1,
     "solution": false
    }
   },
   "source": [
    "## Generating the confusion matrix\n",
    "\n",
    "What is a confusion matrix?\n",
    "This is a useful link that explains this: https://en.wikipedia.org/wiki/Confusion_matrix#Example\n",
    "\n",
    "We will now be using the top 2 values of the **predictions_top5** matrix generated, to produce the confusion matrix. We will be creating a confusion matrix by comparing the most probable prediction against the second most probable prediction. We are doing this to analyse the scenarios where the second most probable prediction is in fact the correct prediction. So remember to take **only the top2** from the **predictions_top5** matrix. For generating this matrix we do not need more than that.\n",
    "\n",
    "An example with 4 classes (0, 1, 2, 3):\n",
    "\n",
    "If 2 is getting confused with 1, i.e., if 1 is the top prediction and 2 is the second-top prediction, then your confusion matrix should add 1 to the cell (1, 2).\n",
    "\n",
    "Different example scenarios:\n",
    "\n",
    "**Scenario 1**:\n",
    "\n",
    "**<font color=\"magenta\" size=2>Sample Input</font>**<br>\n",
    "<br>\n",
    "y_label = 3<br>\n",
    "top2_predictions = [2, 3]\n",
    "\n",
    "**<font color=\"blue\" size=2>Output</font>**<br>\n",
    "confusion_matrix:<br>\n",
    "[0 0 0 0]<br>\n",
    "[0 0 0 0]<br>\n",
    "[0 0 0 1]<br>\n",
    "[0 0 0 0]<br>\n",
    "\n",
    "**Scenario 2**:\n",
    "\n",
    "**<font color=\"magenta\" size=2>Sample Input</font>**<br>\n",
    "<br>\n",
    "Say we have 7 sample prediction values<br>\n",
    "y_label = [3, 2, 3, 1, 0, 2, 2]<br>\n",
    "top2_predictions = [[2, 3], [0, 3], [2, 3], [1, 2], [3, 0], [2, 0], [3, 2]]\n",
    "\n",
    "**<font color=\"blue\" size=2>Output</font>**<br><br>\n",
    "confusion_matrix:<br>\n",
    "[0 0 0 0]<br>\n",
    "[0 0 0 0]<br>\n",
    "[0 0 0 2]<br>\n",
    "[1 0 1 0]<br>\n",
    "\n",
    "**Explanation**:\n",
    "\n",
    "The first example has top two predictions: (2, 3) and the label 3. So we add 1 to the position (2,3).\n",
    "\n",
    "The second example has 7 sample predictions: \n",
    "1. In two scenarios 2 is predicted in place of 3 and the cell (2,3) is incremented twice.\n",
    "2. In two other scenarios we have a case where the second prediction is right. The corresponding cells {(3,0) and (3,2)} are incremented once each.\n",
    "3. In two scenarios, the first element is the correct prediction. No cell is incremented then.\n",
    "4. In one scenario, neither of the top 2 predictions is correct. No cell is incremented then.\n",
    "\n",
    "**Note**: y_label is the same as y_valid here."
   ]
  },
  {
   "cell_type": "code",
   "execution_count": 25,
   "metadata": {
    "ExecuteTime": {
     "end_time": "2018-06-11T11:35:13.213198Z",
     "start_time": "2018-06-11T11:35:13.202850Z"
    },
    "hidden": true,
    "nbgrader": {
     "grade": false,
     "grade_id": "cell-8e31e89d9f64d4d6",
     "locked": false,
     "schema_version": 1,
     "solution": true
    }
   },
   "outputs": [],
   "source": [
    "def get_confusion_matrix(predictions_top5, y_valid):\n",
    "    ### BEGIN SOLUTION\n",
    "    confusion_matrix = np.zeros((11,11), dtype=int)\n",
    "    i=0\n",
    "    for entry in predictions_top5[:, :2]:\n",
    "        if entry[1] == y_valid[i]:\n",
    "            confusion_matrix[entry[0]][entry[1]] += 1\n",
    "        i += 1\n",
    "    return confusion_matrix\n",
    "    ### END SOLUTION"
   ]
  },
  {
   "cell_type": "code",
   "execution_count": 26,
   "metadata": {
    "ExecuteTime": {
     "end_time": "2018-06-11T11:35:13.220743Z",
     "start_time": "2018-06-11T11:35:13.216855Z"
    },
    "hidden": true,
    "nbgrader": {
     "grade": false,
     "grade_id": "cell-1ed771c7dfe188d5",
     "locked": true,
     "schema_version": 1,
     "solution": false
    }
   },
   "outputs": [],
   "source": [
    "confusion_matrix = get_confusion_matrix(predictions_top5, y_valid)"
   ]
  },
  {
   "cell_type": "code",
   "execution_count": 27,
   "metadata": {
    "ExecuteTime": {
     "end_time": "2018-06-11T11:35:13.226975Z",
     "start_time": "2018-06-11T11:35:13.223562Z"
    },
    "hidden": true,
    "nbgrader": {
     "grade": true,
     "grade_id": "cell-157fe9078d64488b",
     "locked": true,
     "points": 0,
     "schema_version": 1,
     "solution": false
    }
   },
   "outputs": [],
   "source": [
    "assert confusion_matrix.shape == (11, 11), \"Incorrect shape\"\n",
    "assert type(confusion_matrix) == numpy.ndarray, \"Incorrect type\""
   ]
  },
  {
   "cell_type": "code",
   "execution_count": 28,
   "metadata": {
    "ExecuteTime": {
     "end_time": "2018-06-11T11:35:13.253327Z",
     "start_time": "2018-06-11T11:35:13.230304Z"
    },
    "hidden": true,
    "nbgrader": {
     "grade": true,
     "grade_id": "cell-b659fe7e4e082e91",
     "locked": true,
     "points": 4,
     "schema_version": 1,
     "solution": false
    }
   },
   "outputs": [],
   "source": [
    "# Hidden Tests Here\n",
    "### BEGIN HIDDEN TESTS\n",
    "conf_matrix_true = np.array([[0, 1, 0, 0, 0, 0, 1, 0, 0, 0, 0],\n",
    "       [0, 0, 0, 0, 0, 0, 0, 0, 0, 0, 0],\n",
    "       [0, 0, 0, 0, 0, 0, 0, 0, 0, 0, 0],\n",
    "       [0, 0, 0, 0, 0, 0, 1, 0, 0, 0, 0],\n",
    "       [0, 0, 0, 0, 0, 0, 2, 0, 0, 0, 0],\n",
    "       [2, 0, 0, 0, 0, 0, 1, 4, 0, 0, 0],\n",
    "       [2, 0, 0, 0, 0, 0, 0, 0, 0, 0, 0],\n",
    "       [0, 0, 0, 0, 0, 1, 0, 0, 0, 0, 0],\n",
    "       [1, 0, 0, 0, 1, 0, 0, 0, 0, 0, 0],\n",
    "       [0, 0, 0, 0, 0, 0, 0, 0, 0, 0, 0],\n",
    "       [0, 0, 0, 0, 0, 0, 0, 0, 0, 0, 0]])\n",
    "\n",
    "assert (conf_matrix_true == confusion_matrix).all(), \"Incorrect predictions\"\n",
    "### END HIDDEN TESTS"
   ]
  },
  {
   "cell_type": "code",
   "execution_count": 29,
   "metadata": {
    "ExecuteTime": {
     "end_time": "2018-06-11T11:35:13.271395Z",
     "start_time": "2018-06-11T11:35:13.256587Z"
    },
    "hidden": true,
    "nbgrader": {
     "grade": false,
     "grade_id": "cell-60985a0fe92e3ab9",
     "locked": true,
     "schema_version": 1,
     "solution": false
    }
   },
   "outputs": [
    {
     "name": "stdout",
     "output_type": "stream",
     "text": [
      "        Consumer Discretionary \t [0 1 0 0 0 0 1 0 0 0 0]\n",
      "              Consumer Staples \t [0 0 0 0 0 0 0 0 0 0 0]\n",
      "                        Energy \t [0 0 0 0 0 0 0 0 0 0 0]\n",
      "                    Financials \t [0 0 0 0 0 0 1 0 0 0 0]\n",
      "                   Health Care \t [0 0 0 0 0 0 2 0 0 0 0]\n",
      "                   Industrials \t [2 0 0 0 0 0 1 4 0 0 0]\n",
      "        Information Technology \t [2 0 0 0 0 0 0 0 0 0 0]\n",
      "                     Materials \t [0 0 0 0 0 1 0 0 0 0 0]\n",
      "                   Real Estate \t [1 0 0 0 1 0 0 0 0 0 0]\n",
      "    Telecommunication Services \t [0 0 0 0 0 0 0 0 0 0 0]\n",
      "                     Utilities \t [0 0 0 0 0 0 0 0 0 0 0]\n"
     ]
    }
   ],
   "source": [
    "for i in range(confusion_matrix.shape[0]):\n",
    "    print(\"%30s\" % number2sectorName[i], \"\\t\", confusion_matrix[i, :])"
   ]
  },
  {
   "cell_type": "markdown",
   "metadata": {
    "heading_collapsed": true,
    "nbgrader": {
     "grade": false,
     "grade_id": "cell-0b2e2ac37d5f8694",
     "locked": true,
     "schema_version": 1,
     "solution": false
    }
   },
   "source": [
    "## Interpretation of confusion matrix\n",
    "\n",
    "Based on the confusion matrix generated, answer the following questions.\n",
    "\n",
    "Categories:\n",
    "```\n",
    "    0) Consumer Discretionary\n",
    "    1) Consumer Staples  \n",
    "    2) Energy  \n",
    "    3) Financials\n",
    "    4) Health Care   \n",
    "    5) Industrials   \n",
    "    6) Information Technology   \n",
    "    7) Materials   \n",
    "    8) Real Estate   \n",
    "    9) Telecommunication Services   \n",
    "    10) Utilities  \n",
    "```\n",
    "\n",
    "Some standard instructions while answering the questions:\n",
    "1. Each question has two parts: **ans** and **num_scen**\n",
    "    1. **ans**: A numpy array of numbers corresponding to the different categories. For example, if the answer is Consumer Discretionary and Consumer Staples, the **ans** string should be a **numpy array** contain **[0, 1]**\n",
    "    2. **num_scen**: Number of scenarios where the condition in the given question is applicable. For example, if the condition given in the question happens 5 times, the **num_scen** should return **5** as an integer.\n",
    "2. Type checks have been provided to validate the type of youe answer"
   ]
  },
  {
   "cell_type": "markdown",
   "metadata": {
    "heading_collapsed": true,
    "hidden": true,
    "nbgrader": {
     "grade": false,
     "grade_id": "cell-68c1242a396f9445",
     "locked": true,
     "schema_version": 1,
     "solution": false
    }
   },
   "source": [
    "### Question 1\n",
    "\n",
    "Which two sectors are most often confused with each other and how many times? \n",
    "\n",
    "```\n",
    "    0) Consumer Discretionary  \n",
    "    1) Consumer Staples  \n",
    "    2) Energy  \n",
    "    3) Financials\n",
    "    4) Health Care   \n",
    "    5) Industrials   \n",
    "    6) Information Technology   \n",
    "    7) Materials   \n",
    "    8) Real Estate   \n",
    "    9) Telecommunication Services   \n",
    "    10) Utilities  \n",
    "```"
   ]
  },
  {
   "cell_type": "code",
   "execution_count": 30,
   "metadata": {
    "ExecuteTime": {
     "end_time": "2018-06-11T11:35:13.281515Z",
     "start_time": "2018-06-11T11:35:13.274378Z"
    },
    "hidden": true,
    "nbgrader": {
     "grade": false,
     "grade_id": "cell-67fa65ee294bbf52",
     "locked": false,
     "schema_version": 1,
     "solution": true
    }
   },
   "outputs": [],
   "source": [
    "def question_1():\n",
    "    ### BEGIN SOLUTION\n",
    "    ans1 = np.array([5,7])\n",
    "    num_scen1 = 5\n",
    "    ### END SOLUTION\n",
    "    return ans1, num_scen1 "
   ]
  },
  {
   "cell_type": "code",
   "execution_count": 31,
   "metadata": {
    "ExecuteTime": {
     "end_time": "2018-06-11T11:35:13.290309Z",
     "start_time": "2018-06-11T11:35:13.285323Z"
    },
    "hidden": true,
    "nbgrader": {
     "grade": true,
     "grade_id": "cell-bf7603962387df88",
     "locked": true,
     "points": 0,
     "schema_version": 1,
     "solution": false
    }
   },
   "outputs": [],
   "source": [
    "ans1, num_scen1 = question_1()\n",
    "assert type(ans1) == np.ndarray, \"Incorrect type\"\n",
    "assert type(num_scen1) == int, \"Incorrect type\""
   ]
  },
  {
   "cell_type": "code",
   "execution_count": 32,
   "metadata": {
    "ExecuteTime": {
     "end_time": "2018-06-11T11:35:13.297192Z",
     "start_time": "2018-06-11T11:35:13.293340Z"
    },
    "hidden": true,
    "nbgrader": {
     "grade": true,
     "grade_id": "cell-d0a207dca2ce731e",
     "locked": true,
     "points": 2,
     "schema_version": 1,
     "solution": false
    }
   },
   "outputs": [],
   "source": [
    "# Hidden tests here\n",
    "### BEGIN HIDDEN TESTS \n",
    "#Answer: Industrials and Materials, 4 + 1 = 5 times\n",
    "assert (ans1 == np.array([5,7])).all(), \"Incorrect answer\"\n",
    "### END HIDDEN TESTS"
   ]
  },
  {
   "cell_type": "code",
   "execution_count": 33,
   "metadata": {
    "ExecuteTime": {
     "end_time": "2018-06-11T11:35:13.305809Z",
     "start_time": "2018-06-11T11:35:13.301463Z"
    },
    "hidden": true,
    "nbgrader": {
     "grade": true,
     "grade_id": "cell-d0a20ca2ce731e",
     "locked": true,
     "points": 2,
     "schema_version": 1,
     "solution": false
    }
   },
   "outputs": [],
   "source": [
    "# Hidden tests here\n",
    "### BEGIN HIDDEN TESTS \n",
    "#Answer: Industrials and Materials, 4 + 1 = 5 times\n",
    "assert num_scen1 == 5\n",
    "### END HIDDEN TESTS"
   ]
  },
  {
   "cell_type": "markdown",
   "metadata": {
    "heading_collapsed": true,
    "hidden": true,
    "nbgrader": {
     "grade": false,
     "grade_id": "cell-85c8458857446214",
     "locked": true,
     "schema_version": 1,
     "solution": false
    }
   },
   "source": [
    "### Question 2\n",
    "Which sector(s) has/have the most number of scenarios where the second-most probable prediction is actually correct? How many scenarios?\n",
    "\n",
    "```\n",
    "    0) Consumer Discretionary  \n",
    "    1) Consumer Staples  \n",
    "    2) Energy  \n",
    "    3) Financials\n",
    "    4) Health Care   \n",
    "    5) Industrials   \n",
    "    6) Information Technology   \n",
    "    7) Materials   \n",
    "    8) Real Estate   \n",
    "    9) Telecommunication Services   \n",
    "    10) Utilities  \n",
    "```"
   ]
  },
  {
   "cell_type": "code",
   "execution_count": 34,
   "metadata": {
    "ExecuteTime": {
     "end_time": "2018-06-11T11:35:13.316412Z",
     "start_time": "2018-06-11T11:35:13.309292Z"
    },
    "hidden": true,
    "nbgrader": {
     "grade": false,
     "grade_id": "cell-34137c196c56dd11",
     "locked": false,
     "schema_version": 1,
     "solution": true
    }
   },
   "outputs": [],
   "source": [
    "def question_2():\n",
    "    ### BEGIN SOLUTION\n",
    "    #Answer: Consumer Discretionary (2+2+1) and Information Technology (1+1+2+1), 5 scenarios\n",
    "    ans2 = np.array([0, 6])\n",
    "    num_scen2 = 5\n",
    "    ### END SOLUTION\n",
    "    return ans2, num_scen2 "
   ]
  },
  {
   "cell_type": "code",
   "execution_count": 35,
   "metadata": {
    "ExecuteTime": {
     "end_time": "2018-06-11T11:35:13.323103Z",
     "start_time": "2018-06-11T11:35:13.319021Z"
    },
    "hidden": true,
    "nbgrader": {
     "grade": true,
     "grade_id": "cell-3a56a331a146b70f",
     "locked": true,
     "points": 0,
     "schema_version": 1,
     "solution": false
    }
   },
   "outputs": [],
   "source": [
    "ans2, num_scen2 = question_2()\n",
    "assert type(ans2) == np.ndarray, \"Incorrect type\"\n",
    "assert type(num_scen2) == int, \"Incorrect type\""
   ]
  },
  {
   "cell_type": "code",
   "execution_count": 36,
   "metadata": {
    "ExecuteTime": {
     "end_time": "2018-06-11T11:35:13.331986Z",
     "start_time": "2018-06-11T11:35:13.325984Z"
    },
    "hidden": true,
    "nbgrader": {
     "grade": true,
     "grade_id": "cell-d0a7dca2ce731e",
     "locked": true,
     "points": 1,
     "schema_version": 1,
     "solution": false
    }
   },
   "outputs": [],
   "source": [
    "# Hidden tests here\n",
    "### BEGIN HIDDEN TESTS \n",
    "#Answer: Consumer Discretionary (2+2+1) and Information Technology (1+1+2+1), 5 scenarios\n",
    "assert (ans2 == np.array([0, 6])).all(), \"Incorrect answer\"\n",
    "### END HIDDEN TESTS"
   ]
  },
  {
   "cell_type": "code",
   "execution_count": 37,
   "metadata": {
    "ExecuteTime": {
     "end_time": "2018-06-11T11:35:13.339646Z",
     "start_time": "2018-06-11T11:35:13.335010Z"
    },
    "hidden": true,
    "nbgrader": {
     "grade": true,
     "grade_id": "cell-d0a20ca2ce1e",
     "locked": true,
     "points": 1,
     "schema_version": 1,
     "solution": false
    }
   },
   "outputs": [],
   "source": [
    "# Hidden tests here\n",
    "### BEGIN HIDDEN TESTS \n",
    "#Answer: #Consumer Discretionary (2+2+1) and Information Technology (1+1+2+1), 5 scenarios\n",
    "assert num_scen2 == 5, \"Incorrect answer\"\n",
    "### END HIDDEN TESTS"
   ]
  },
  {
   "cell_type": "markdown",
   "metadata": {
    "heading_collapsed": true,
    "hidden": true,
    "nbgrader": {
     "grade": false,
     "grade_id": "cell-b14e32015cf9b095",
     "locked": true,
     "schema_version": 1,
     "solution": false
    }
   },
   "source": [
    "### Question 3\n",
    "\n",
    "Which sector(s) most often identified incorrectly? In other words, the sector recieves the highest score even though the second most probable sector is the correct sector. How many times does this happen for each of these sectors?\n",
    "```\n",
    "    0) Consumer Discretionary  \n",
    "    1) Consumer Staples  \n",
    "    2) Energy  \n",
    "    3) Financials\n",
    "    4) Health Care   \n",
    "    5) Industrials   \n",
    "    6) Information Technology   \n",
    "    7) Materials   \n",
    "    8) Real Estate   \n",
    "    9) Telecommunication Services   \n",
    "    10) Utilities  \n",
    "```"
   ]
  },
  {
   "cell_type": "code",
   "execution_count": 38,
   "metadata": {
    "ExecuteTime": {
     "end_time": "2018-06-11T11:35:13.349191Z",
     "start_time": "2018-06-11T11:35:13.342813Z"
    },
    "hidden": true,
    "nbgrader": {
     "grade": false,
     "grade_id": "cell-34137c196c5",
     "locked": false,
     "schema_version": 1,
     "solution": true
    }
   },
   "outputs": [],
   "source": [
    "def question_3():\n",
    "    ### BEGIN SOLUTION\n",
    "    #Answer: Industrials, 7 scenarios\n",
    "    ans3 = np.array([5])\n",
    "    num_scen3 = 7\n",
    "    ### END SOLUTION\n",
    "    return ans3, num_scen3 "
   ]
  },
  {
   "cell_type": "code",
   "execution_count": 39,
   "metadata": {
    "ExecuteTime": {
     "end_time": "2018-06-11T11:35:13.357876Z",
     "start_time": "2018-06-11T11:35:13.351936Z"
    },
    "hidden": true,
    "nbgrader": {
     "grade": true,
     "grade_id": "cell-3aa146b70f",
     "locked": true,
     "points": 0,
     "schema_version": 1,
     "solution": false
    }
   },
   "outputs": [],
   "source": [
    "ans3, num_scen3 = question_3()\n",
    "assert type(ans3) == np.ndarray, \"Incorrect type\"\n",
    "assert type(num_scen3) == int, \"Incorrect type\""
   ]
  },
  {
   "cell_type": "code",
   "execution_count": 40,
   "metadata": {
    "ExecuteTime": {
     "end_time": "2018-06-11T11:35:13.365802Z",
     "start_time": "2018-06-11T11:35:13.360897Z"
    },
    "hidden": true,
    "nbgrader": {
     "grade": true,
     "grade_id": "cell-d0a2ce731e",
     "locked": true,
     "points": 1,
     "schema_version": 1,
     "solution": false
    }
   },
   "outputs": [],
   "source": [
    "# Hidden tests here\n",
    "### BEGIN HIDDEN TESTS \n",
    "#Answer: Industrials, 7 scenarios\n",
    "assert (ans3 == np.array([5])).all(), \"Incorrect answer\"\n",
    "### END HIDDEN TESTS"
   ]
  },
  {
   "cell_type": "code",
   "execution_count": 41,
   "metadata": {
    "ExecuteTime": {
     "end_time": "2018-06-11T11:35:13.373780Z",
     "start_time": "2018-06-11T11:35:13.369239Z"
    },
    "hidden": true,
    "nbgrader": {
     "grade": true,
     "grade_id": "cell-d0a20c1e",
     "locked": true,
     "points": 1,
     "schema_version": 1,
     "solution": false
    }
   },
   "outputs": [],
   "source": [
    "# Hidden tests here\n",
    "### BEGIN HIDDEN TESTS \n",
    "#Answer: Industrials, 7 scenarios\n",
    "assert num_scen3 == 7, \"Incorrect answer\"\n",
    "### END HIDDEN TESTS"
   ]
  },
  {
   "cell_type": "markdown",
   "metadata": {
    "heading_collapsed": true,
    "hidden": true,
    "nbgrader": {
     "grade": false,
     "grade_id": "cell-f83c4f45ece367e2",
     "locked": true,
     "schema_version": 1,
     "solution": false
    }
   },
   "source": [
    "### Note for question 4 and 5\n",
    "**Note**: The next set of questions might require you to generate a different confusion matrix. Feel free to change the original function or use the box below to write a new function for the same."
   ]
  },
  {
   "cell_type": "code",
   "execution_count": 42,
   "metadata": {
    "ExecuteTime": {
     "end_time": "2018-06-11T11:35:13.399750Z",
     "start_time": "2018-06-11T11:35:13.375555Z"
    },
    "hidden": true,
    "nbgrader": {
     "grade": true,
     "grade_id": "cell-81118309a7120376",
     "locked": false,
     "points": 0,
     "schema_version": 1,
     "solution": true
    }
   },
   "outputs": [
    {
     "name": "stdout",
     "output_type": "stream",
     "text": [
      "        Consumer Discretionary \t [0 2 0 0 0 2 1 0 0 0 0]\n",
      "              Consumer Staples \t [3 0 0 0 0 0 1 0 0 1 0]\n",
      "                        Energy \t [0 0 0 0 0 0 0 0 0 0 0]\n",
      "                    Financials \t [0 0 0 0 0 0 2 0 0 0 0]\n",
      "                   Health Care \t [0 1 0 0 0 0 3 0 0 0 0]\n",
      "                   Industrials \t [2 0 0 0 0 0 1 4 0 0 0]\n",
      "        Information Technology \t [2 0 0 0 0 1 0 0 0 0 1]\n",
      "                     Materials \t [0 0 0 0 0 3 0 0 0 0 0]\n",
      "                   Real Estate \t [1 0 0 0 1 1 0 0 0 0 0]\n",
      "    Telecommunication Services \t [0 0 0 0 0 0 0 0 0 0 0]\n",
      "                     Utilities \t [0 0 0 0 0 0 0 0 0 0 0]\n"
     ]
    }
   ],
   "source": [
    "### BEGIN SOLUTION\n",
    "confusion_matrix2 = np.zeros((11,11), dtype=int)\n",
    "confusion_matrix3 = np.zeros((11), dtype=int)\n",
    "i=0\n",
    "for entry in predictions_top5[:, :1]:\n",
    "    if entry[0] != y_valid[i]:\n",
    "        confusion_matrix2[entry[0]][y_valid[i]] += 1\n",
    "        confusion_matrix3[y_valid[i]] += 1\n",
    "    i += 1\n",
    "for i in range(confusion_matrix2.shape[0]):\n",
    "    print(\"%30s\" % number2sectorName[i], \"\\t\", confusion_matrix2[i, :])\n",
    "### END SOLUTION"
   ]
  },
  {
   "cell_type": "markdown",
   "metadata": {
    "heading_collapsed": true,
    "hidden": true,
    "nbgrader": {
     "grade": false,
     "grade_id": "cell-c173a5759f316028",
     "locked": true,
     "schema_version": 1,
     "solution": false
    }
   },
   "source": [
    "### Question 4\n",
    "\n",
    "Which category/categories is/are never identified? In other words, which category/categories are never predicted as the top prediction?\n",
    "```\n",
    "    0) Consumer Discretionary  \n",
    "    1) Consumer Staples  \n",
    "    2) Energy  \n",
    "    3) Financials\n",
    "    4) Health Care   \n",
    "    5) Industrials   \n",
    "    6) Information Technology   \n",
    "    7) Materials   \n",
    "    8) Real Estate   \n",
    "    9) Telecommunication Services   \n",
    "    10) Utilities  \n",
    "```\n",
    "\n",
    "**Note**: This question does not have a second part, so your function has to return just one answer."
   ]
  },
  {
   "cell_type": "code",
   "execution_count": 43,
   "metadata": {
    "ExecuteTime": {
     "end_time": "2018-06-11T11:35:13.406427Z",
     "start_time": "2018-06-11T11:35:13.401869Z"
    },
    "hidden": true,
    "nbgrader": {
     "grade": false,
     "grade_id": "cell-34137c1c5",
     "locked": false,
     "schema_version": 1,
     "solution": true
    }
   },
   "outputs": [],
   "source": [
    "def question_4():\n",
    "    ### BEGIN SOLUTION\n",
    "    #Answer: Telecommunication Services\n",
    "    ans4 = np.array([9])\n",
    "    ### END SOLUTION\n",
    "    return ans4"
   ]
  },
  {
   "cell_type": "code",
   "execution_count": 44,
   "metadata": {
    "ExecuteTime": {
     "end_time": "2018-06-11T11:35:13.415416Z",
     "start_time": "2018-06-11T11:35:13.410099Z"
    },
    "hidden": true,
    "nbgrader": {
     "grade": true,
     "grade_id": "cell-3aa146b7lkbn0f",
     "locked": true,
     "points": 0,
     "schema_version": 1,
     "solution": false
    }
   },
   "outputs": [],
   "source": [
    "ans4 = question_4()\n",
    "assert type(ans4) == np.ndarray, \"Incorrect type\""
   ]
  },
  {
   "cell_type": "code",
   "execution_count": 45,
   "metadata": {
    "ExecuteTime": {
     "end_time": "2018-06-11T11:35:13.423537Z",
     "start_time": "2018-06-11T11:35:13.418869Z"
    },
    "hidden": true,
    "nbgrader": {
     "grade": true,
     "grade_id": "cell-d0a2ce7jn31e",
     "locked": true,
     "points": 2,
     "schema_version": 1,
     "solution": false
    }
   },
   "outputs": [],
   "source": [
    "# Hidden tests here\n",
    "### BEGIN HIDDEN TESTS \n",
    "#Answer: Telecommunication Services\n",
    "assert (ans4 == np.array([9])).all(), \"Incorrect answer\"\n",
    "### END HIDDEN TESTS"
   ]
  },
  {
   "cell_type": "markdown",
   "metadata": {
    "heading_collapsed": true,
    "hidden": true,
    "nbgrader": {
     "grade": false,
     "grade_id": "cell-f9ee96fe2999445d",
     "locked": true,
     "schema_version": 1,
     "solution": false
    }
   },
   "source": [
    "### Question 5\n",
    "\n",
    "Which sector(s) is/are most often missed while classifying? In other words, find the sector for which there is the largest number of examples such that the correct label does not appear as the top prediction.\n",
    "\n",
    "\n",
    "```\n",
    "    0) Consumer Discretionary  \n",
    "    1) Consumer Staples  \n",
    "    2) Energy  \n",
    "    3) Financials\n",
    "    4) Health Care   \n",
    "    5) Industrials   \n",
    "    6) Information Technology   \n",
    "    7) Materials   \n",
    "    8) Real Estate   \n",
    "    9) Telecommunication Services   \n",
    "    10) Utilities  \n",
    "```"
   ]
  },
  {
   "cell_type": "code",
   "execution_count": 46,
   "metadata": {
    "ExecuteTime": {
     "end_time": "2018-06-11T11:35:13.433045Z",
     "start_time": "2018-06-11T11:35:13.425990Z"
    },
    "hidden": true,
    "nbgrader": {
     "grade": false,
     "grade_id": "cell-34vd137c1c5",
     "locked": false,
     "schema_version": 1,
     "solution": true
    }
   },
   "outputs": [],
   "source": [
    "def question_5():\n",
    "    ### BEGIN SOLUTION\n",
    "    #Answer: Consumer Discretionary, Information Technology (8 scenarios each)\n",
    "    ans5 = np.array([0, 6])\n",
    "    num_scen5 = 8\n",
    "    ### END SOLUTION\n",
    "    return ans5, num_scen5 "
   ]
  },
  {
   "cell_type": "code",
   "execution_count": 47,
   "metadata": {
    "ExecuteTime": {
     "end_time": "2018-06-11T11:35:13.441212Z",
     "start_time": "2018-06-11T11:35:13.436027Z"
    },
    "hidden": true,
    "nbgrader": {
     "grade": true,
     "grade_id": "cell-3aa146bsdv7lkbn0f",
     "locked": true,
     "points": 0,
     "schema_version": 1,
     "solution": false
    }
   },
   "outputs": [],
   "source": [
    "ans5, num_scen5 = question_5()\n",
    "assert type(ans5) == np.ndarray, \"Incorrect type\"\n",
    "assert type(num_scen5) == int, \"Incorrect type\""
   ]
  },
  {
   "cell_type": "code",
   "execution_count": 48,
   "metadata": {
    "ExecuteTime": {
     "end_time": "2018-06-11T11:35:13.449802Z",
     "start_time": "2018-06-11T11:35:13.444878Z"
    },
    "hidden": true,
    "nbgrader": {
     "grade": true,
     "grade_id": "cell-d0sda2ce7jn31e",
     "locked": true,
     "points": 2,
     "schema_version": 1,
     "solution": false
    }
   },
   "outputs": [],
   "source": [
    "# Hidden tests here\n",
    "### BEGIN HIDDEN TESTS \n",
    "#Answer: Consumer Discretionary, Information Technology (8 scenarios each)\n",
    "assert (ans5 == np.array([0, 6])).all(), \"Incorrect answer\"\n",
    "### END HIDDEN TESTS"
   ]
  },
  {
   "cell_type": "code",
   "execution_count": 49,
   "metadata": {
    "ExecuteTime": {
     "end_time": "2018-06-11T11:35:13.462478Z",
     "start_time": "2018-06-11T11:35:13.452410Z"
    },
    "hidden": true,
    "nbgrader": {
     "grade": true,
     "grade_id": "cell-d0vdahb20c1e",
     "locked": true,
     "points": 2,
     "schema_version": 1,
     "solution": false
    }
   },
   "outputs": [],
   "source": [
    "# Hidden tests here\n",
    "### BEGIN HIDDEN TESTS \n",
    "#Answer: Consumer Discretionary, Information Technology (8 scenarios each)\n",
    "assert num_scen5 == 8, \"Incorrect answer\"\n",
    "### END HIDDEN TESTS"
   ]
  },
  {
   "cell_type": "markdown",
   "metadata": {
    "heading_collapsed": true,
    "nbgrader": {
     "grade": false,
     "grade_id": "cell-8be61fc0d1cb930e",
     "locked": true,
     "schema_version": 1,
     "solution": false
    }
   },
   "source": [
    "## Test set\n",
    "\n",
    "List the pair of top two sectors for each test ticker.\n",
    "Based on your validation results, estimate:\n",
    "1. ** Accuracy1:** What is the frequency in which the correct sector is the first element in the pair.\n",
    "2. ** Accuracy2:** What is the frequency in which the correct sector is in the pair."
   ]
  },
  {
   "cell_type": "markdown",
   "metadata": {
    "heading_collapsed": true,
    "hidden": true,
    "nbgrader": {
     "grade": false,
     "grade_id": "cell-67dd196da88a39af",
     "locked": true,
     "schema_version": 1,
     "solution": false
    }
   },
   "source": [
    "### Generating test scores\n",
    "\n",
    "The function <font color=\"blue\">get_margin_scores_test</font> is used to predict the sector for each of the given test samples. Split the input data into train and validation in different ways and average the prediction scores over a number of iterations. You can experiment with the number, but you will need to ensure you keep to the time limit. (This should not take you more than a minute)\n",
    "\n",
    "We estimate the predictions on the validation and the test set, compute the accuracy on the validation set and report the test predictions with the validation accuracy. In this scenario, we report the average top1 and top2 accuracy.\n",
    "\n",
    "**<font color=\"magenta\" size=2>Input</font>**\n",
    "<br>\n",
    "1. **Input data** (X)\n",
    "2. **Test data** (X_test)\n",
    "3. **Input labels** (y)\n",
    "4. **XGBoost Parameter List** (param)\n",
    "\n",
    "\n",
    "**<font color=\"blue\" size=2>Output</font>**\n",
    "<br>\n",
    "Return the following:\n",
    "1. **y_pred_test**: The raw output scores for the test set\n",
    "2. **top1_acc**: Top 1 accuracy on the validation set\n",
    "3. **top2_acc**: Top 2 accuracy on the validation set\n",
    "\n",
    "\n",
    "**Note**:\n",
    "1. You can reuse/call the <font color=\"blue\">get_margin_scores</font> function or rewrite it in this function.\n",
    "2. Instructions for the <font color=\"blue\">get_margin_scores</font> apply for this too."
   ]
  },
  {
   "cell_type": "code",
   "execution_count": 50,
   "metadata": {
    "ExecuteTime": {
     "end_time": "2018-06-11T11:35:13.531393Z",
     "start_time": "2018-06-11T11:35:13.465255Z"
    },
    "hidden": true,
    "nbgrader": {
     "grade": false,
     "grade_id": "cell-396107076b2ccef8",
     "locked": false,
     "schema_version": 1,
     "solution": true
    }
   },
   "outputs": [],
   "source": [
    "def get_margin_scores_test(X, X_test, y, param):\n",
    "    ### BEGIN SOLUTION\n",
    "    y_pred_test_list = []\n",
    "    top_val_acc_list = []\n",
    "    for i in range(30):\n",
    "        X_train, X_valid, y_train, y_valid = train_test_split(X, y, test_size=0.30)\n",
    "        \n",
    "        dtrain = xgb.DMatrix(X_train, label=y_train)\n",
    "        evallist = [(dtrain, 'train'), (dtrain, 'eval')]\n",
    "        plst = param.items()\n",
    "        bst = xgb.train(plst, dtrain, num_round, evallist, verbose_eval=False)\n",
    "        dvalid = xgb.DMatrix(X_valid)\n",
    "        y_pred_valid = bst.predict(dvalid, ntree_limit=bst.best_ntree_limit, output_margin=True)\n",
    "        y_pred_valid = np.around(y_pred_valid, decimals = 3)\n",
    "        \n",
    "        predictions_top, predictions_top5 = get_predictions(y_pred_valid)\n",
    "        predictions_top2 = predictions_top5[:, :2]\n",
    "        acc = 0\n",
    "        top_val_acc = np.zeros((2))\n",
    "        for j in range(2):\n",
    "            acc += sum(predictions_top2[:, j]==y_valid)\n",
    "            top_val_acc[j] = acc/len(y_valid)\n",
    "        top_val_acc_list.append(top_val_acc)\n",
    "        \n",
    "        dtest = xgb.DMatrix(X_test)\n",
    "        y_pred_test = bst.predict(dtest, ntree_limit=bst.best_ntree_limit, output_margin=True)\n",
    "        y_pred_test = np.around(y_pred_test, decimals = 3)\n",
    "        y_pred_test_list.append(y_pred_test)\n",
    "\n",
    "    tot_top_val_acc = np.array(top_val_acc_list)\n",
    "    final_acc = np.around(np.mean(tot_top_val_acc, axis=0), decimals=3)\n",
    "    y_tot_test = np.array(y_pred_test_list)\n",
    "    final_y_test = np.around(np.mean(y_tot_test, axis=0), decimals=3)\n",
    "    return final_y_test, final_acc[0], final_acc[1]\n",
    "    ### END SOLUTION"
   ]
  },
  {
   "cell_type": "code",
   "execution_count": 51,
   "metadata": {
    "ExecuteTime": {
     "end_time": "2018-06-11T11:35:52.696082Z",
     "start_time": "2018-06-11T11:35:13.534614Z"
    },
    "hidden": true,
    "nbgrader": {
     "grade": false,
     "grade_id": "cell-5c19dfa7332f28e5",
     "locked": true,
     "schema_version": 1,
     "solution": false
    }
   },
   "outputs": [],
   "source": [
    "y_pred_test, top1_acc, top2_acc = get_margin_scores_test(X, X_test, y, param)"
   ]
  },
  {
   "cell_type": "code",
   "execution_count": 52,
   "metadata": {
    "ExecuteTime": {
     "end_time": "2018-06-11T11:35:52.711221Z",
     "start_time": "2018-06-11T11:35:52.702150Z"
    },
    "hidden": true,
    "nbgrader": {
     "grade": true,
     "grade_id": "cell-4c7bb5430759629b",
     "locked": true,
     "points": 0,
     "schema_version": 1,
     "solution": false
    }
   },
   "outputs": [],
   "source": [
    "assert type(y_pred_test) == np.ndarray, \"\"\n",
    "assert y_pred_test.shape == (89, 11)"
   ]
  },
  {
   "cell_type": "code",
   "execution_count": 53,
   "metadata": {
    "ExecuteTime": {
     "end_time": "2018-06-11T11:35:52.738765Z",
     "start_time": "2018-06-11T11:35:52.718866Z"
    },
    "hidden": true,
    "nbgrader": {
     "grade": true,
     "grade_id": "cell-b877235a2a80c672",
     "locked": true,
     "points": 2,
     "schema_version": 1,
     "solution": false
    }
   },
   "outputs": [],
   "source": [
    "# Hidden tests here\n",
    "### BEGIN HIDDEN TESTS \n",
    "test_pick = pickle.load(open(\"data/hidden_tests_notebook4/test_thr.pickle\", \"rb\"))\n",
    "min_y2_test = test_pick[\"min_2_test\"]\n",
    "max_y2_test = test_pick[\"max_2_test\"]\n",
    "assert (y_pred_test < max_y2_test).all(), \"Scores out of boundary error\"\n",
    "assert (y_pred_test > min_y2_test).all(), \"Scores out of boundary error\"\n",
    "### END HIDDEN TESTS "
   ]
  },
  {
   "cell_type": "code",
   "execution_count": 54,
   "metadata": {
    "ExecuteTime": {
     "end_time": "2018-06-11T11:35:52.757741Z",
     "start_time": "2018-06-11T11:35:52.744329Z"
    },
    "hidden": true,
    "nbgrader": {
     "grade": true,
     "grade_id": "cell-0329170a30973225",
     "locked": true,
     "points": 2,
     "schema_version": 1,
     "solution": false
    }
   },
   "outputs": [],
   "source": [
    "# Hidden tests here\n",
    "### BEGIN HIDDEN TESTS \n",
    "min_y15_test = test_pick[\"min_1.5_test\"]\n",
    "max_y15_test = test_pick[\"max_1.5_test\"]\n",
    "assert (y_pred_test < max_y15_test).all(), \"Scores out of boundary error\"\n",
    "assert (y_pred_test > min_y15_test).all(), \"Scores out of boundary error\"\n",
    "### END HIDDEN TESTS "
   ]
  },
  {
   "cell_type": "code",
   "execution_count": 55,
   "metadata": {
    "ExecuteTime": {
     "end_time": "2018-06-11T11:35:52.773470Z",
     "start_time": "2018-06-11T11:35:52.763964Z"
    },
    "hidden": true,
    "nbgrader": {
     "grade": true,
     "grade_id": "cell-38b270851d859ac7",
     "locked": true,
     "points": 2,
     "schema_version": 1,
     "solution": false
    }
   },
   "outputs": [],
   "source": [
    "# Hidden tests here\n",
    "### BEGIN HIDDEN TESTS \n",
    "min_y_test = test_pick[\"min_1_test\"]\n",
    "max_y_test = test_pick[\"max_1_test\"]\n",
    "assert (y_pred_test < max_y_test).all(), \"Scores out of boundary error\"\n",
    "assert (y_pred_test > min_y_test).all(), \"Scores out of boundary error\"\n",
    "### END HIDDEN TESTS "
   ]
  },
  {
   "cell_type": "markdown",
   "metadata": {
    "heading_collapsed": true,
    "hidden": true,
    "nbgrader": {
     "grade": false,
     "grade_id": "cell-a356322bc009212b",
     "locked": true,
     "schema_version": 1,
     "solution": false
    }
   },
   "source": [
    "### Computing the sector predictions\n",
    "\n",
    "**Note**: This section is not evaluated. This is merely to see your predictions on the test set and report the top1 and top2 accuracy"
   ]
  },
  {
   "cell_type": "code",
   "execution_count": 56,
   "metadata": {
    "ExecuteTime": {
     "end_time": "2018-06-11T11:35:52.829017Z",
     "start_time": "2018-06-11T11:35:52.779734Z"
    },
    "hidden": true,
    "nbgrader": {
     "grade": false,
     "grade_id": "cell-1f48f3c5accd241f",
     "locked": true,
     "schema_version": 1,
     "solution": false
    }
   },
   "outputs": [
    {
     "name": "stdout",
     "output_type": "stream",
     "text": [
      "   Test ID                 Top prediction          Second Top prediction\n",
      "         0                      Utilities     Telecommunication Services\n",
      "        10         Information Technology                         Energy\n",
      "        11                      Materials                    Real Estate\n",
      "        12                      Materials                    Industrials\n",
      "        13         Consumer Discretionary                    Real Estate\n",
      "        14                     Financials         Consumer Discretionary\n",
      "        15         Consumer Discretionary         Information Technology\n",
      "        16         Information Technology                    Industrials\n",
      "        17                         Energy         Consumer Discretionary\n",
      "        18                         Energy         Consumer Discretionary\n",
      "        19                         Energy                    Health Care\n",
      "         1                     Financials               Consumer Staples\n",
      "        20               Consumer Staples         Information Technology\n",
      "        21                    Industrials                      Materials\n",
      "        22         Consumer Discretionary         Information Technology\n",
      "        23                     Financials     Telecommunication Services\n",
      "        24                    Industrials                      Materials\n",
      "        25         Consumer Discretionary         Information Technology\n",
      "        26                     Financials         Information Technology\n",
      "        27                      Materials                    Industrials\n",
      "        28         Consumer Discretionary         Information Technology\n",
      "        29         Information Technology                      Utilities\n",
      "         2                    Health Care         Consumer Discretionary\n",
      "        30                      Materials                    Real Estate\n",
      "        31                      Materials                         Energy\n",
      "        32         Consumer Discretionary                     Financials\n",
      "        33         Information Technology                     Financials\n",
      "        34                      Utilities               Consumer Staples\n",
      "        35                     Financials                    Industrials\n",
      "        36                     Financials         Consumer Discretionary\n",
      "        37                         Energy               Consumer Staples\n",
      "        38         Consumer Discretionary               Consumer Staples\n",
      "        39                         Energy                    Industrials\n",
      "         3         Information Technology                         Energy\n",
      "        40               Consumer Staples         Consumer Discretionary\n",
      "        41                     Financials                    Real Estate\n",
      "        42                    Health Care                    Industrials\n",
      "        43                    Industrials                      Materials\n",
      "        44         Information Technology                     Financials\n",
      "        45                     Financials                    Health Care\n",
      "        46         Consumer Discretionary                     Financials\n",
      "        47                    Health Care         Consumer Discretionary\n",
      "        48               Consumer Staples                    Health Care\n",
      "        49                      Materials                    Industrials\n",
      "         4                     Financials                    Health Care\n",
      "        50         Information Technology     Telecommunication Services\n",
      "        51         Consumer Discretionary         Information Technology\n",
      "        52         Consumer Discretionary         Information Technology\n",
      "        53               Consumer Staples                    Health Care\n",
      "        54         Information Technology         Consumer Discretionary\n",
      "        55                         Energy         Consumer Discretionary\n",
      "        56         Information Technology                      Utilities\n",
      "        57                    Real Estate         Consumer Discretionary\n",
      "        58               Consumer Staples                     Financials\n",
      "        59                         Energy         Consumer Discretionary\n",
      "         5                    Health Care         Consumer Discretionary\n",
      "        60               Consumer Staples         Consumer Discretionary\n",
      "        61                         Energy               Consumer Staples\n",
      "        62                    Industrials                    Health Care\n",
      "        63         Consumer Discretionary                    Real Estate\n",
      "        64                         Energy         Consumer Discretionary\n",
      "        65                     Financials                    Industrials\n",
      "        66                      Utilities     Telecommunication Services\n",
      "        67         Consumer Discretionary         Information Technology\n",
      "        68         Consumer Discretionary                    Health Care\n",
      "        69               Consumer Staples         Consumer Discretionary\n",
      "         6                         Energy         Consumer Discretionary\n",
      "        70                         Energy                      Materials\n",
      "        71               Consumer Staples         Consumer Discretionary\n",
      "        72                      Utilities     Telecommunication Services\n",
      "        73                      Materials                    Health Care\n",
      "        74         Information Technology                    Real Estate\n",
      "        75         Information Technology                     Financials\n",
      "        76                    Industrials                    Health Care\n",
      "        77               Consumer Staples                    Industrials\n",
      "        78                    Industrials         Consumer Discretionary\n",
      "        79         Consumer Discretionary                    Industrials\n",
      "         7         Information Technology                     Financials\n",
      "        80                    Industrials         Consumer Discretionary\n",
      "        81                      Materials                    Industrials\n",
      "        82                      Materials                    Industrials\n",
      "        83                    Industrials                    Health Care\n",
      "        84                    Health Care               Consumer Staples\n",
      "        85                      Materials                    Industrials\n",
      "        86         Consumer Discretionary                         Energy\n",
      "        87                      Materials                    Industrials\n",
      "        88                         Energy                      Materials\n",
      "         8                      Utilities     Telecommunication Services\n",
      "         9         Consumer Discretionary                    Industrials\n",
      "\n",
      "\n",
      "\n",
      "Top 1 accuracy: 75.1 %\n",
      "\n",
      "Top 2 accuracy: 86.3 %\n"
     ]
    }
   ],
   "source": [
    "predictions1, predictions5 = get_predictions(y_pred_test) #This line will fail if get_predictions is not defined\n",
    "i=0\n",
    "print(\"%10s\" % \"Test ID\", \"%30s\" % \"Top prediction\", \"%30s\" % \"Second Top prediction\")\n",
    "for entry in predictions5[:, :2]:\n",
    "    print(\"%10s\" % test_nos[i], \"%30s\" % number2sectorName[entry[0]], \"%30s\" % number2sectorName[entry[1]])\n",
    "    i += 1\n",
    "top1_acc_perc = top1_acc*100\n",
    "top2_acc_perc = top2_acc*100\n",
    "print(\"\\n\\n\\nTop 1 accuracy: %s\" % top1_acc_perc, \"%\")\n",
    "print(\"\\nTop 2 accuracy: %s\" % top2_acc_perc, \"%\")"
   ]
  }
 ],
 "metadata": {
  "celltoolbar": "Create Assignment",
  "hide_input": false,
  "kernelspec": {
   "display_name": "Python 3",
   "language": "python",
   "name": "python3"
  },
  "language_info": {
   "codemirror_mode": {
    "name": "ipython",
    "version": 3
   },
   "file_extension": ".py",
   "mimetype": "text/x-python",
   "name": "python",
   "nbconvert_exporter": "python",
   "pygments_lexer": "ipython3",
   "version": "3.6.5"
  },
  "toc": {
   "base_numbering": 1,
   "nav_menu": {},
   "number_sections": true,
   "sideBar": true,
   "skip_h1_title": false,
   "title_cell": "Table of Contents",
   "title_sidebar": "Contents",
   "toc_cell": false,
   "toc_position": {},
   "toc_section_display": true,
   "toc_window_display": true
  },
  "varInspector": {
   "cols": {
    "lenName": 16,
    "lenType": 16,
    "lenVar": 40
   },
   "kernels_config": {
    "python": {
     "delete_cmd_postfix": "",
     "delete_cmd_prefix": "del ",
     "library": "var_list.py",
     "varRefreshCmd": "print(var_dic_list())"
    },
    "r": {
     "delete_cmd_postfix": ") ",
     "delete_cmd_prefix": "rm(",
     "library": "var_list.r",
     "varRefreshCmd": "cat(var_dic_list()) "
    }
   },
   "types_to_exclude": [
    "module",
    "function",
    "builtin_function_or_method",
    "instance",
    "_Feature"
   ],
   "window_display": false
  }
 },
 "nbformat": 4,
 "nbformat_minor": 2
}
