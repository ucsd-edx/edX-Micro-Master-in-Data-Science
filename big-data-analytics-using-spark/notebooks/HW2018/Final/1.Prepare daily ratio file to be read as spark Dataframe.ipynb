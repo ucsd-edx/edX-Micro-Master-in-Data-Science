{
 "cells": [
  {
   "cell_type": "markdown",
   "metadata": {
    "run_control": {
     "frozen": false,
     "read_only": false
    },
    "slideshow": {
     "slide_type": "slide"
    }
   },
   "source": [
    "## Analysis of stock prices using PCA / Notebook 1\n",
    "\n",
    "In this take-home final you are to analyze the daily changes in stock prices using PCA and to mesure the dimension of stock sequences.\n",
    "\n",
    "We Start by downloading data and pre-processing it to make it ready for analysis using Spark."
   ]
  },
  {
   "cell_type": "code",
   "execution_count": 1,
   "metadata": {
    "ExecuteTime": {
     "end_time": "2018-06-01T05:11:25.045997Z",
     "start_time": "2018-06-01T05:11:24.660364Z"
    },
    "run_control": {
     "frozen": false,
     "read_only": false
    },
    "slideshow": {
     "slide_type": "skip"
    }
   },
   "outputs": [],
   "source": [
    "import sys,os\n",
    "import numpy as np\n",
    "from numpy.linalg import norm\n",
    "import matplotlib.pyplot as plt\n",
    "%matplotlib inline\n",
    "\n",
    "from time import time\n",
    "import math\n",
    "import pandas as pd\n",
    "from glob import glob\n",
    "import pickle\n"
   ]
  },
  {
   "cell_type": "markdown",
   "metadata": {
    "run_control": {
     "frozen": false,
     "read_only": false
    }
   },
   "source": [
    "### Stock Info\n",
    "The Pickle file `Tickers.pkl` contains information about the stocks in the SP500.\n",
    "\n",
    "* `TickerInfo` - a pandas table that stores the name, sector, and sector ID for 505 stocks\n",
    "* `Tickers` - A list of the stocks that we are going to analyze (each student should eliminate a few of these stocks before doing their analysis)\n"
   ]
  },
  {
   "cell_type": "code",
   "execution_count": 2,
   "metadata": {
    "ExecuteTime": {
     "end_time": "2018-06-01T05:11:37.294984Z",
     "start_time": "2018-06-01T05:11:36.926561Z"
    }
   },
   "outputs": [
    {
     "name": "stdout",
     "output_type": "stream",
     "text": [
      "1.Prepare daily ratio file to be read as spark Dataframe.ipynb\tdata\r\n",
      "2.Dimensionality.ipynb\t\t\t\t\t\tfigs\r\n",
      "3.PCA of stocks using Spark.ipynb\t\t\t\tFinal-Email.txt\r\n",
      "4.Classify Stocks .ipynb\t\t\t\t\tlib\r\n"
     ]
    }
   ],
   "source": [
    "!ls"
   ]
  },
  {
   "cell_type": "code",
   "execution_count": 3,
   "metadata": {
    "ExecuteTime": {
     "end_time": "2018-06-01T05:11:51.520269Z",
     "start_time": "2018-06-01T05:11:51.505977Z"
    }
   },
   "outputs": [],
   "source": [
    "D=pickle.load(open('data/Tickers.pkl','rb'))\n",
    "TickerInfo=D['TickerInfo']\n",
    "Tickers=D['Tickers']\n",
    "Sectors={'Consumer Discretionary':'CD',\n",
    " 'Consumer Staples':'CS',\n",
    " 'Energy':'EN',\n",
    " 'Financials':'FIN',\n",
    " 'Health Care':'HC',\n",
    " 'Industrials':'INDS',\n",
    " 'Information Technology':'IT',\n",
    " 'Materials':'MAT',\n",
    " 'Real Estate':'RE',\n",
    " 'Telecommunication Services':'TS',\n",
    " 'Utilities':'UTIL'}"
   ]
  },
  {
   "cell_type": "code",
   "execution_count": 4,
   "metadata": {
    "ExecuteTime": {
     "end_time": "2018-06-01T05:11:53.364062Z",
     "start_time": "2018-06-01T05:11:53.348772Z"
    },
    "scrolled": true
   },
   "outputs": [
    {
     "data": {
      "text/html": [
       "<div>\n",
       "<style scoped>\n",
       "    .dataframe tbody tr th:only-of-type {\n",
       "        vertical-align: middle;\n",
       "    }\n",
       "\n",
       "    .dataframe tbody tr th {\n",
       "        vertical-align: top;\n",
       "    }\n",
       "\n",
       "    .dataframe thead th {\n",
       "        text-align: right;\n",
       "    }\n",
       "</style>\n",
       "<table border=\"1\" class=\"dataframe\">\n",
       "  <thead>\n",
       "    <tr style=\"text-align: right;\">\n",
       "      <th></th>\n",
       "      <th>Ticker</th>\n",
       "      <th>Name</th>\n",
       "      <th>Sector</th>\n",
       "      <th>SECTOR_ID</th>\n",
       "    </tr>\n",
       "  </thead>\n",
       "  <tbody>\n",
       "    <tr>\n",
       "      <th>0</th>\n",
       "      <td>MMM</td>\n",
       "      <td>3M|3M Company</td>\n",
       "      <td>Industrials</td>\n",
       "      <td>INDS</td>\n",
       "    </tr>\n",
       "    <tr>\n",
       "      <th>1</th>\n",
       "      <td>ABT</td>\n",
       "      <td>Abbott Laboratories</td>\n",
       "      <td>Health Care</td>\n",
       "      <td>HC</td>\n",
       "    </tr>\n",
       "    <tr>\n",
       "      <th>2</th>\n",
       "      <td>ABBV</td>\n",
       "      <td>AbbVie Inc.</td>\n",
       "      <td>Health Care</td>\n",
       "      <td>HC</td>\n",
       "    </tr>\n",
       "    <tr>\n",
       "      <th>3</th>\n",
       "      <td>ACN</td>\n",
       "      <td>Accenture plc</td>\n",
       "      <td>Information Technology</td>\n",
       "      <td>IT</td>\n",
       "    </tr>\n",
       "    <tr>\n",
       "      <th>4</th>\n",
       "      <td>ATVI</td>\n",
       "      <td>Activision Blizzard</td>\n",
       "      <td>Information Technology</td>\n",
       "      <td>IT</td>\n",
       "    </tr>\n",
       "  </tbody>\n",
       "</table>\n",
       "</div>"
      ],
      "text/plain": [
       "  Ticker                 Name                  Sector SECTOR_ID\n",
       "0    MMM        3M|3M Company             Industrials      INDS\n",
       "1    ABT  Abbott Laboratories             Health Care        HC\n",
       "2   ABBV          AbbVie Inc.             Health Care        HC\n",
       "3    ACN        Accenture plc  Information Technology        IT\n",
       "4   ATVI  Activision Blizzard  Information Technology        IT"
      ]
     },
     "execution_count": 4,
     "metadata": {},
     "output_type": "execute_result"
    }
   ],
   "source": [
    "TickerInfo.head()"
   ]
  },
  {
   "cell_type": "markdown",
   "metadata": {},
   "source": [
    "### Differences between the stocks lists\n",
    "In the following you will work with three different sets of stocks:\n",
    "\n",
    "1. The stocks listed in `TickerInfo`\n",
    "2. The stocks listed in `Tickers`\n",
    "3. The stock files that you will download from S3.\n",
    "\n",
    "* The stocks you will analyze are those in `Tickers` less the one that you were instructed to remove.\n",
    "* The Files you will download contain all of the stocks in `Tickers` plus a few stocks that are skipped because they are outliers.\n",
    "* The Stocks in `TickerInfo` include most of the stocks in `Tickers`, but there are a few missing. When we will represent each stock with its `SECTOR_ID` these stocks will be represented by their Ticker."
   ]
  },
  {
   "cell_type": "code",
   "execution_count": 5,
   "metadata": {
    "ExecuteTime": {
     "end_time": "2018-06-01T05:11:59.220674Z",
     "start_time": "2018-06-01T05:11:59.211082Z"
    }
   },
   "outputs": [
    {
     "data": {
      "text/plain": [
       "(481, 505)"
      ]
     },
     "execution_count": 5,
     "metadata": {},
     "output_type": "execute_result"
    }
   ],
   "source": [
    "len(Tickers),len(TickerInfo)"
   ]
  },
  {
   "cell_type": "markdown",
   "metadata": {},
   "source": [
    "### Stock and sector information\n",
    "`TickerInfo` is a pandas table containing, for each Ticker, the company name, the sector, and a sector ID. There are 11 sectors. Some, such as `Consumer Discretionary` and `Information Technology` include many stocks while others, such as `Telecommunication Services` include very few."
   ]
  },
  {
   "cell_type": "code",
   "execution_count": 6,
   "metadata": {
    "ExecuteTime": {
     "end_time": "2018-06-01T05:12:12.439284Z",
     "start_time": "2018-06-01T05:12:12.428427Z"
    },
    "run_control": {
     "frozen": false,
     "read_only": false
    }
   },
   "outputs": [
    {
     "name": "stdout",
     "output_type": "stream",
     "text": [
      "Sector ID\t\tSector Name\tNo. of Stocks\n",
      "=========\t\t===========\t=============\n",
      "INDS\t                   Industrials\t66\n",
      "HC\t                   Health Care\t60\n",
      "IT\t        Information Technology\t70\n",
      "CD\t        Consumer Discretionary\t84\n",
      "UTIL\t                     Utilities\t28\n",
      "FIN\t                    Financials\t66\n",
      "MAT\t                     Materials\t25\n",
      "RE\t                   Real Estate\t31\n",
      "CS\t              Consumer Staples\t37\n",
      "EN\t                        Energy\t34\n",
      "TS\t    Telecommunication Services\t4\n"
     ]
    }
   ],
   "source": [
    "from collections import Counter\n",
    "L=list(Counter(TickerInfo['Sector']).items())\n",
    "print('Sector ID\\t\\tSector Name\\tNo. of Stocks')\n",
    "print('=========\\t\\t===========\\t=============')\n",
    "for l in L:\n",
    "    print('%s\\t%30s\\t%d'%(Sectors[l[0]],l[0],l[1]))"
   ]
  },
  {
   "cell_type": "markdown",
   "metadata": {},
   "source": [
    "### Download Data\n",
    "The data is a directory with .csv files, one for each stock. This directory has been tarred and uploaded to \n",
    "S3, at: https://mas-dse-open.s3.amazonaws.com/Stocks/spdata_csv.tgz\n",
    "\n",
    "Download and untar the file to create a subdirectory of the current directory called `spdata_csv`"
   ]
  },
  {
   "cell_type": "code",
   "execution_count": 7,
   "metadata": {
    "ExecuteTime": {
     "end_time": "2018-06-01T05:13:15.090178Z",
     "start_time": "2018-06-01T05:12:59.564338Z"
    },
    "run_control": {
     "frozen": false,
     "read_only": false
    },
    "scrolled": false
   },
   "outputs": [
    {
     "name": "stdout",
     "output_type": "stream",
     "text": [
      "--2018-06-01 05:12:59--  https://mas-dse-open.s3.amazonaws.com/Stocks/spdata_csv.tgz\n",
      "Resolving mas-dse-open.s3.amazonaws.com (mas-dse-open.s3.amazonaws.com)... 52.218.200.66\n",
      "Connecting to mas-dse-open.s3.amazonaws.com (mas-dse-open.s3.amazonaws.com)|52.218.200.66|:443... connected.\n",
      "HTTP request sent, awaiting response... 200 OK\n",
      "Length: 109237346 (104M) [application/octet-stream]\n",
      "Saving to: ‘spdata_csv.tgz’\n",
      "\n",
      "spdata_csv.tgz      100%[===================>] 104.18M  8.39MB/s    in 15s     \n",
      "\n",
      "2018-06-01 05:13:14 (7.09 MB/s) - ‘spdata_csv.tgz’ saved [109237346/109237346]\n",
      "\n",
      "--2018-06-01 05:13:14--  http://data/spdata_csv.tgz\n",
      "Resolving data (data)... failed: Name or service not known.\n",
      "wget: unable to resolve host address ‘data’\n",
      "FINISHED --2018-06-01 05:13:14--\n",
      "Total wall clock time: 15s\n",
      "Downloaded: 1 files, 104M in 15s (7.09 MB/s)\n"
     ]
    }
   ],
   "source": [
    "!wget https://mas-dse-open.s3.amazonaws.com/Stocks/spdata_csv.tgz"
   ]
  },
  {
   "cell_type": "code",
   "execution_count": 9,
   "metadata": {
    "ExecuteTime": {
     "end_time": "2018-06-01T05:15:33.393339Z",
     "start_time": "2018-06-01T05:15:11.526167Z"
    }
   },
   "outputs": [
    {
     "name": "stdout",
     "output_type": "stream",
     "text": [
      "    485     485    3895\r\n"
     ]
    }
   ],
   "source": [
    "!tar xzf spdata_csv.tgz\n",
    "!rm spdata_csv/._*\n",
    "!ls -1 spdata_csv/ | wc"
   ]
  },
  {
   "cell_type": "code",
   "execution_count": 10,
   "metadata": {
    "ExecuteTime": {
     "end_time": "2018-06-01T05:16:10.883119Z",
     "start_time": "2018-06-01T05:16:10.876042Z"
    },
    "run_control": {
     "frozen": false,
     "read_only": false
    },
    "scrolled": true
   },
   "outputs": [
    {
     "data": {
      "text/plain": [
       "'/home/jovyan/work/HW2018/Final'"
      ]
     },
     "execution_count": 10,
     "metadata": {},
     "output_type": "execute_result"
    }
   ],
   "source": [
    "#change this path to where you stored the raw data   #del Cell\n",
    "Data_dir='./spdata_csv/'  #del\n",
    "curr_dir=os.getcwd()      #del\n",
    "curr_dir                  #del\n"
   ]
  },
  {
   "cell_type": "markdown",
   "metadata": {},
   "source": [
    "## Read Data and create a single table\n",
    "\n",
    "Your task in this notebook is to read the sock-information `.csv` files, extract from them the column \n",
    "`Adj. Open` and combine them into a single `.csv` file containing all of the information that is relevant for later analysis.\n",
    "\n",
    "Below we suggest a particular sequence of steps, you can either follow these steps, or do this in your own way.  The end result should be a file called `SP500.csv` which stores the information described below."
   ]
  },
  {
   "cell_type": "markdown",
   "metadata": {},
   "source": [
    "### Step 1: files into pandas dataframes\n",
    "\n",
    "In this step you read all of the relevant information into a large dictionary we call `Tables`.\n",
    "\n",
    "The key to this dictionary is the stocks \"ticker\" which corresponds to the file name excluding the `.csv` extension.\n",
    "\n",
    "You should read in all of the files in the directory `spdata_csv` other than:\n",
    "\n",
    "* Files for tickers that are not in the list `Tickers`.\n",
    "* Files for tickers that were listed in the email you got for this final.\n",
    "As part of the email you got about this final, there is a list of tickers that you should omit from your analysis."
   ]
  },
  {
   "cell_type": "code",
   "execution_count": 11,
   "metadata": {
    "ExecuteTime": {
     "end_time": "2018-06-01T05:16:26.375361Z",
     "start_time": "2018-06-01T05:16:15.521345Z"
    },
    "run_control": {
     "frozen": false,
     "read_only": false
    },
    "scrolled": true
   },
   "outputs": [
    {
     "name": "stdout",
     "output_type": "stream",
     "text": [
      "/home/jovyan/work/HW2018/Final/spdata_csv\n",
      "skipping  LIFE\n",
      "skipping  HAS\n",
      "skipping  UNM\n",
      "skipping  PGR\n",
      "/home/jovyan/work/HW2018/Final\n"
     ]
    }
   ],
   "source": [
    "Tables={}\n",
    "#del the rest of this cell\n",
    "%cd spdata_csv/\n",
    "for filename in glob('*.csv'):\n",
    "    code = filename[:-4]\n",
    "    if not code in Tickers:\n",
    "        print('skipping ',code)\n",
    "        continue\n",
    "    tbl=pd.read_csv(filename,index_col='Date',parse_dates=True)\n",
    "    if(np.shape(tbl)[1]==12):\n",
    "        Tables[code]=tbl.sort_index()\n",
    "        Tables[code]\n",
    "    else:\n",
    "        print(filename,np.shape(tbl))\n",
    "\n",
    "%cd .."
   ]
  },
  {
   "cell_type": "code",
   "execution_count": 12,
   "metadata": {
    "ExecuteTime": {
     "end_time": "2018-06-01T05:28:15.994389Z",
     "start_time": "2018-06-01T05:28:15.971875Z"
    },
    "run_control": {
     "frozen": false,
     "read_only": false
    },
    "scrolled": true
   },
   "outputs": [
    {
     "data": {
      "text/html": [
       "<div>\n",
       "<style scoped>\n",
       "    .dataframe tbody tr th:only-of-type {\n",
       "        vertical-align: middle;\n",
       "    }\n",
       "\n",
       "    .dataframe tbody tr th {\n",
       "        vertical-align: top;\n",
       "    }\n",
       "\n",
       "    .dataframe thead th {\n",
       "        text-align: right;\n",
       "    }\n",
       "</style>\n",
       "<table border=\"1\" class=\"dataframe\">\n",
       "  <thead>\n",
       "    <tr style=\"text-align: right;\">\n",
       "      <th></th>\n",
       "      <th>Open</th>\n",
       "      <th>High</th>\n",
       "      <th>Low</th>\n",
       "      <th>Close</th>\n",
       "      <th>Volume</th>\n",
       "      <th>Ex-Dividend</th>\n",
       "      <th>Split Ratio</th>\n",
       "      <th>Adj. Open</th>\n",
       "      <th>Adj. High</th>\n",
       "      <th>Adj. Low</th>\n",
       "      <th>Adj. Close</th>\n",
       "      <th>Adj. Volume</th>\n",
       "    </tr>\n",
       "    <tr>\n",
       "      <th>Date</th>\n",
       "      <th></th>\n",
       "      <th></th>\n",
       "      <th></th>\n",
       "      <th></th>\n",
       "      <th></th>\n",
       "      <th></th>\n",
       "      <th></th>\n",
       "      <th></th>\n",
       "      <th></th>\n",
       "      <th></th>\n",
       "      <th></th>\n",
       "      <th></th>\n",
       "    </tr>\n",
       "  </thead>\n",
       "  <tbody>\n",
       "    <tr>\n",
       "      <th>1962-01-02</th>\n",
       "      <td>578.5</td>\n",
       "      <td>578.5</td>\n",
       "      <td>572.0</td>\n",
       "      <td>572.00</td>\n",
       "      <td>5162.666667</td>\n",
       "      <td>0.0</td>\n",
       "      <td>1.0</td>\n",
       "      <td>5.180989</td>\n",
       "      <td>5.180989</td>\n",
       "      <td>5.122776</td>\n",
       "      <td>5.122776</td>\n",
       "      <td>387200.0</td>\n",
       "    </tr>\n",
       "    <tr>\n",
       "      <th>1962-01-03</th>\n",
       "      <td>572.0</td>\n",
       "      <td>577.0</td>\n",
       "      <td>572.0</td>\n",
       "      <td>577.00</td>\n",
       "      <td>3840.000000</td>\n",
       "      <td>0.0</td>\n",
       "      <td>1.0</td>\n",
       "      <td>5.122776</td>\n",
       "      <td>5.167555</td>\n",
       "      <td>5.122776</td>\n",
       "      <td>5.167555</td>\n",
       "      <td>288000.0</td>\n",
       "    </tr>\n",
       "    <tr>\n",
       "      <th>1962-01-04</th>\n",
       "      <td>577.0</td>\n",
       "      <td>577.0</td>\n",
       "      <td>571.0</td>\n",
       "      <td>571.25</td>\n",
       "      <td>3413.333333</td>\n",
       "      <td>0.0</td>\n",
       "      <td>1.0</td>\n",
       "      <td>5.167555</td>\n",
       "      <td>5.167555</td>\n",
       "      <td>5.113820</td>\n",
       "      <td>5.116059</td>\n",
       "      <td>256000.0</td>\n",
       "    </tr>\n",
       "    <tr>\n",
       "      <th>1962-01-05</th>\n",
       "      <td>570.5</td>\n",
       "      <td>570.5</td>\n",
       "      <td>559.0</td>\n",
       "      <td>560.00</td>\n",
       "      <td>4842.666667</td>\n",
       "      <td>0.0</td>\n",
       "      <td>1.0</td>\n",
       "      <td>5.109342</td>\n",
       "      <td>5.109342</td>\n",
       "      <td>5.006349</td>\n",
       "      <td>5.015305</td>\n",
       "      <td>363200.0</td>\n",
       "    </tr>\n",
       "    <tr>\n",
       "      <th>1962-01-08</th>\n",
       "      <td>559.5</td>\n",
       "      <td>559.5</td>\n",
       "      <td>545.0</td>\n",
       "      <td>549.50</td>\n",
       "      <td>7253.333333</td>\n",
       "      <td>0.0</td>\n",
       "      <td>1.0</td>\n",
       "      <td>5.010827</td>\n",
       "      <td>5.010827</td>\n",
       "      <td>4.880966</td>\n",
       "      <td>4.921268</td>\n",
       "      <td>544000.0</td>\n",
       "    </tr>\n",
       "  </tbody>\n",
       "</table>\n",
       "</div>"
      ],
      "text/plain": [
       "             Open   High    Low   Close       Volume  Ex-Dividend  \\\n",
       "Date                                                                \n",
       "1962-01-02  578.5  578.5  572.0  572.00  5162.666667          0.0   \n",
       "1962-01-03  572.0  577.0  572.0  577.00  3840.000000          0.0   \n",
       "1962-01-04  577.0  577.0  571.0  571.25  3413.333333          0.0   \n",
       "1962-01-05  570.5  570.5  559.0  560.00  4842.666667          0.0   \n",
       "1962-01-08  559.5  559.5  545.0  549.50  7253.333333          0.0   \n",
       "\n",
       "            Split Ratio  Adj. Open  Adj. High  Adj. Low  Adj. Close  \\\n",
       "Date                                                                  \n",
       "1962-01-02          1.0   5.180989   5.180989  5.122776    5.122776   \n",
       "1962-01-03          1.0   5.122776   5.167555  5.122776    5.167555   \n",
       "1962-01-04          1.0   5.167555   5.167555  5.113820    5.116059   \n",
       "1962-01-05          1.0   5.109342   5.109342  5.006349    5.015305   \n",
       "1962-01-08          1.0   5.010827   5.010827  4.880966    4.921268   \n",
       "\n",
       "            Adj. Volume  \n",
       "Date                     \n",
       "1962-01-02     387200.0  \n",
       "1962-01-03     288000.0  \n",
       "1962-01-04     256000.0  \n",
       "1962-01-05     363200.0  \n",
       "1962-01-08     544000.0  "
      ]
     },
     "execution_count": 12,
     "metadata": {},
     "output_type": "execute_result"
    }
   ],
   "source": [
    "# Example of an entry in `Tables`\n",
    "Tables['IBM'].head()"
   ]
  },
  {
   "cell_type": "markdown",
   "metadata": {
    "run_control": {
     "frozen": false,
     "read_only": false
    }
   },
   "source": [
    "### Step 2: Computing diffs and combining into a single table\n",
    "\n",
    "The next step is to extract from each table the relevant prices, compute an additional quantity we call `diff` and create a single combined pandas dataframe.\n",
    "\n",
    "The price we ue is the **Adjusted Open Price** which is the price when the stock exchange opens in the morning. We use the **adjusted** price which eliminates technical adjustments such as stock splits.\n",
    "\n",
    "It is more meaningful to predict *changes* in prices than prices themselves. We therefor compute for each stock a `Diffs` sequence in which $d(t)=\\log \\frac{p(t+1)}{p(t)}$ where $p(t)$ is the price at time $t$ and $d(t)$ is the price diff or the price ratio.\n",
    "\n",
    "Obviously, if we have a price sequence of length $T$ then the length of the diff sequence will be $T-1$. To make the price sequence and the diff sequence have the same length we eliminate the last day price for each sequence.\n",
    "\n",
    "Your task in this step is to join the stock tables by date, compute the diff seqeunce, and create one large Pandas DataFrame where the row index is the date, and there are two columns for each ticker. For example for the ticker `IBM`, there would be two columns `IBM_P` and `IBM_D`. The first corresponds to the prices of the IBM stock $p(t)$ and the second to the price difference $d(t)$"
   ]
  },
  {
   "cell_type": "code",
   "execution_count": 13,
   "metadata": {
    "ExecuteTime": {
     "end_time": "2018-06-01T05:28:55.569230Z",
     "start_time": "2018-06-01T05:28:23.581414Z"
    },
    "run_control": {
     "frozen": false,
     "read_only": false
    }
   },
   "outputs": [
    {
     "name": "stdout",
     "output_type": "stream",
     "text": [
      "481\n",
      " 481 ETFC  "
     ]
    },
    {
     "data": {
      "text/html": [
       "<div>\n",
       "<style scoped>\n",
       "    .dataframe tbody tr th:only-of-type {\n",
       "        vertical-align: middle;\n",
       "    }\n",
       "\n",
       "    .dataframe tbody tr th {\n",
       "        vertical-align: top;\n",
       "    }\n",
       "\n",
       "    .dataframe thead th {\n",
       "        text-align: right;\n",
       "    }\n",
       "</style>\n",
       "<table border=\"1\" class=\"dataframe\">\n",
       "  <thead>\n",
       "    <tr style=\"text-align: right;\">\n",
       "      <th></th>\n",
       "      <th>WAG_D</th>\n",
       "      <th>WAG_P</th>\n",
       "      <th>PNR_D</th>\n",
       "      <th>PNR_P</th>\n",
       "      <th>MDT_D</th>\n",
       "      <th>MDT_P</th>\n",
       "      <th>EQT_D</th>\n",
       "      <th>EQT_P</th>\n",
       "      <th>NBL_D</th>\n",
       "      <th>NBL_P</th>\n",
       "      <th>...</th>\n",
       "      <th>AXP_D</th>\n",
       "      <th>AXP_P</th>\n",
       "      <th>SPLS_D</th>\n",
       "      <th>SPLS_P</th>\n",
       "      <th>BBBY_D</th>\n",
       "      <th>BBBY_P</th>\n",
       "      <th>ROST_D</th>\n",
       "      <th>ROST_P</th>\n",
       "      <th>ETFC_D</th>\n",
       "      <th>ETFC_P</th>\n",
       "    </tr>\n",
       "    <tr>\n",
       "      <th>Date</th>\n",
       "      <th></th>\n",
       "      <th></th>\n",
       "      <th></th>\n",
       "      <th></th>\n",
       "      <th></th>\n",
       "      <th></th>\n",
       "      <th></th>\n",
       "      <th></th>\n",
       "      <th></th>\n",
       "      <th></th>\n",
       "      <th></th>\n",
       "      <th></th>\n",
       "      <th></th>\n",
       "      <th></th>\n",
       "      <th></th>\n",
       "      <th></th>\n",
       "      <th></th>\n",
       "      <th></th>\n",
       "      <th></th>\n",
       "      <th></th>\n",
       "      <th></th>\n",
       "    </tr>\n",
       "  </thead>\n",
       "  <tbody>\n",
       "    <tr>\n",
       "      <th>1962-01-02</th>\n",
       "      <td>NaN</td>\n",
       "      <td>NaN</td>\n",
       "      <td>NaN</td>\n",
       "      <td>NaN</td>\n",
       "      <td>NaN</td>\n",
       "      <td>NaN</td>\n",
       "      <td>NaN</td>\n",
       "      <td>NaN</td>\n",
       "      <td>NaN</td>\n",
       "      <td>NaN</td>\n",
       "      <td>...</td>\n",
       "      <td>NaN</td>\n",
       "      <td>NaN</td>\n",
       "      <td>NaN</td>\n",
       "      <td>NaN</td>\n",
       "      <td>NaN</td>\n",
       "      <td>NaN</td>\n",
       "      <td>NaN</td>\n",
       "      <td>NaN</td>\n",
       "      <td>NaN</td>\n",
       "      <td>NaN</td>\n",
       "    </tr>\n",
       "    <tr>\n",
       "      <th>1962-01-03</th>\n",
       "      <td>NaN</td>\n",
       "      <td>NaN</td>\n",
       "      <td>NaN</td>\n",
       "      <td>NaN</td>\n",
       "      <td>NaN</td>\n",
       "      <td>NaN</td>\n",
       "      <td>NaN</td>\n",
       "      <td>NaN</td>\n",
       "      <td>NaN</td>\n",
       "      <td>NaN</td>\n",
       "      <td>...</td>\n",
       "      <td>NaN</td>\n",
       "      <td>NaN</td>\n",
       "      <td>NaN</td>\n",
       "      <td>NaN</td>\n",
       "      <td>NaN</td>\n",
       "      <td>NaN</td>\n",
       "      <td>NaN</td>\n",
       "      <td>NaN</td>\n",
       "      <td>NaN</td>\n",
       "      <td>NaN</td>\n",
       "    </tr>\n",
       "    <tr>\n",
       "      <th>1962-01-04</th>\n",
       "      <td>NaN</td>\n",
       "      <td>NaN</td>\n",
       "      <td>NaN</td>\n",
       "      <td>NaN</td>\n",
       "      <td>NaN</td>\n",
       "      <td>NaN</td>\n",
       "      <td>NaN</td>\n",
       "      <td>NaN</td>\n",
       "      <td>NaN</td>\n",
       "      <td>NaN</td>\n",
       "      <td>...</td>\n",
       "      <td>NaN</td>\n",
       "      <td>NaN</td>\n",
       "      <td>NaN</td>\n",
       "      <td>NaN</td>\n",
       "      <td>NaN</td>\n",
       "      <td>NaN</td>\n",
       "      <td>NaN</td>\n",
       "      <td>NaN</td>\n",
       "      <td>NaN</td>\n",
       "      <td>NaN</td>\n",
       "    </tr>\n",
       "    <tr>\n",
       "      <th>1962-01-05</th>\n",
       "      <td>NaN</td>\n",
       "      <td>NaN</td>\n",
       "      <td>NaN</td>\n",
       "      <td>NaN</td>\n",
       "      <td>NaN</td>\n",
       "      <td>NaN</td>\n",
       "      <td>NaN</td>\n",
       "      <td>NaN</td>\n",
       "      <td>NaN</td>\n",
       "      <td>NaN</td>\n",
       "      <td>...</td>\n",
       "      <td>NaN</td>\n",
       "      <td>NaN</td>\n",
       "      <td>NaN</td>\n",
       "      <td>NaN</td>\n",
       "      <td>NaN</td>\n",
       "      <td>NaN</td>\n",
       "      <td>NaN</td>\n",
       "      <td>NaN</td>\n",
       "      <td>NaN</td>\n",
       "      <td>NaN</td>\n",
       "    </tr>\n",
       "    <tr>\n",
       "      <th>1962-01-08</th>\n",
       "      <td>NaN</td>\n",
       "      <td>NaN</td>\n",
       "      <td>NaN</td>\n",
       "      <td>NaN</td>\n",
       "      <td>NaN</td>\n",
       "      <td>NaN</td>\n",
       "      <td>NaN</td>\n",
       "      <td>NaN</td>\n",
       "      <td>NaN</td>\n",
       "      <td>NaN</td>\n",
       "      <td>...</td>\n",
       "      <td>NaN</td>\n",
       "      <td>NaN</td>\n",
       "      <td>NaN</td>\n",
       "      <td>NaN</td>\n",
       "      <td>NaN</td>\n",
       "      <td>NaN</td>\n",
       "      <td>NaN</td>\n",
       "      <td>NaN</td>\n",
       "      <td>NaN</td>\n",
       "      <td>NaN</td>\n",
       "    </tr>\n",
       "  </tbody>\n",
       "</table>\n",
       "<p>5 rows × 962 columns</p>\n",
       "</div>"
      ],
      "text/plain": [
       "            WAG_D  WAG_P  PNR_D  PNR_P  MDT_D  MDT_P  EQT_D  EQT_P  NBL_D  \\\n",
       "Date                                                                        \n",
       "1962-01-02    NaN    NaN    NaN    NaN    NaN    NaN    NaN    NaN    NaN   \n",
       "1962-01-03    NaN    NaN    NaN    NaN    NaN    NaN    NaN    NaN    NaN   \n",
       "1962-01-04    NaN    NaN    NaN    NaN    NaN    NaN    NaN    NaN    NaN   \n",
       "1962-01-05    NaN    NaN    NaN    NaN    NaN    NaN    NaN    NaN    NaN   \n",
       "1962-01-08    NaN    NaN    NaN    NaN    NaN    NaN    NaN    NaN    NaN   \n",
       "\n",
       "            NBL_P   ...    AXP_D  AXP_P  SPLS_D  SPLS_P  BBBY_D  BBBY_P  \\\n",
       "Date                ...                                                   \n",
       "1962-01-02    NaN   ...      NaN    NaN     NaN     NaN     NaN     NaN   \n",
       "1962-01-03    NaN   ...      NaN    NaN     NaN     NaN     NaN     NaN   \n",
       "1962-01-04    NaN   ...      NaN    NaN     NaN     NaN     NaN     NaN   \n",
       "1962-01-05    NaN   ...      NaN    NaN     NaN     NaN     NaN     NaN   \n",
       "1962-01-08    NaN   ...      NaN    NaN     NaN     NaN     NaN     NaN   \n",
       "\n",
       "            ROST_D  ROST_P  ETFC_D  ETFC_P  \n",
       "Date                                        \n",
       "1962-01-02     NaN     NaN     NaN     NaN  \n",
       "1962-01-03     NaN     NaN     NaN     NaN  \n",
       "1962-01-04     NaN     NaN     NaN     NaN  \n",
       "1962-01-05     NaN     NaN     NaN     NaN  \n",
       "1962-01-08     NaN     NaN     NaN     NaN  \n",
       "\n",
       "[5 rows x 962 columns]"
      ]
     },
     "execution_count": 13,
     "metadata": {},
     "output_type": "execute_result"
    }
   ],
   "source": [
    "Diffs=pd.DataFrame()\n",
    "#remove below\n",
    "Indices=set(Tables.keys())\n",
    "# Remove the following lines to process all stocks. Plot the PCA and the time sequences of these stocks \n",
    "# to see why they are outliers and need to be removed.\n",
    "Indices=Indices - set(['LIFE', 'PGR', 'HAS','UNM'])  #remove outlier stock - most likely due to file errors\n",
    "print(len(Indices))\n",
    "i=1\n",
    "for code in Indices:\n",
    "    print('\\r',i,code, end=' ')\n",
    "    i+=1\n",
    "    tbl=Tables[code]\n",
    "    S=tbl['Adj. Open']\n",
    "    prices=np.array(S)  # The length of \"prices\" will remain the original length.\n",
    "    diff=np.log(prices[1:]/prices[:-1])\n",
    "    I=S.index[:-1]\n",
    "    #print np.shae(Diffs),np.shape(Sdiff),np.shape(diff),len(I)\n",
    "    Sdiff=pd.DataFrame({code+'_D':diff,code+'_P':prices[:-1]},index=I)\n",
    "    Diffs=Diffs.join(Sdiff,how='outer')\n",
    "#rm above\n",
    "Diffs.head()"
   ]
  },
  {
   "cell_type": "code",
   "execution_count": 14,
   "metadata": {
    "ExecuteTime": {
     "end_time": "2018-06-01T05:29:04.650965Z",
     "start_time": "2018-06-01T05:29:04.084404Z"
    },
    "run_control": {
     "frozen": false,
     "read_only": false
    },
    "scrolled": false
   },
   "outputs": [
    {
     "data": {
      "image/png": "[encoded data removed]",
      "text/plain": [
       "<Figure size 1008x720 with 1 Axes>"
      ]
     },
     "metadata": {},
     "output_type": "display_data"
    }
   ],
   "source": [
    "# plot some stocks\n",
    "Diffs[['AAPL_P','MSFT_P','IBM_P']].plot(figsize=(14,10));\n",
    "plt.grid()"
   ]
  },
  {
   "cell_type": "code",
   "execution_count": 15,
   "metadata": {
    "ExecuteTime": {
     "end_time": "2018-06-01T05:29:35.127769Z",
     "start_time": "2018-06-01T05:29:21.193937Z"
    },
    "run_control": {
     "frozen": false,
     "read_only": false
    }
   },
   "outputs": [],
   "source": [
    "Diffs.to_csv('data/SP500.csv')"
   ]
  },
  {
   "cell_type": "code",
   "execution_count": 16,
   "metadata": {
    "ExecuteTime": {
     "end_time": "2018-06-01T05:29:43.050247Z",
     "start_time": "2018-06-01T05:29:43.044474Z"
    }
   },
   "outputs": [
    {
     "data": {
      "text/plain": [
       "(13422, 962)"
      ]
     },
     "execution_count": 16,
     "metadata": {},
     "output_type": "execute_result"
    }
   ],
   "source": [
    "Diffs.shape"
   ]
  },
  {
   "cell_type": "code",
   "execution_count": null,
   "metadata": {},
   "outputs": [],
   "source": []
  }
 ],
 "metadata": {
  "anaconda-cloud": {},
  "kernelspec": {
   "display_name": "Python 3",
   "language": "python",
   "name": "python3"
  },
  "language_info": {
   "codemirror_mode": {
    "name": "ipython",
    "version": 3
   },
   "file_extension": ".py",
   "mimetype": "text/x-python",
   "name": "python",
   "nbconvert_exporter": "python",
   "pygments_lexer": "ipython3",
   "version": "3.6.5"
  },
  "toc": {
   "base_numbering": 1,
   "nav_menu": {
    "height": "135px",
    "width": "253px"
   },
   "number_sections": true,
   "sideBar": true,
   "skip_h1_title": false,
   "title_cell": "Table of Contents",
   "title_sidebar": "Contents",
   "toc_cell": false,
   "toc_position": {},
   "toc_section_display": "block",
   "toc_window_display": false
  },
  "varInspector": {
   "cols": {
    "lenName": 16,
    "lenType": 16,
    "lenVar": 40
   },
   "kernels_config": {
    "python": {
     "delete_cmd_postfix": "",
     "delete_cmd_prefix": "del ",
     "library": "var_list.py",
     "varRefreshCmd": "print(var_dic_list())"
    },
    "r": {
     "delete_cmd_postfix": ") ",
     "delete_cmd_prefix": "rm(",
     "library": "var_list.r",
     "varRefreshCmd": "cat(var_dic_list()) "
    }
   },
   "types_to_exclude": [
    "module",
    "function",
    "builtin_function_or_method",
    "instance",
    "_Feature"
   ],
   "window_display": false
  }
 },
 "nbformat": 4,
 "nbformat_minor": 1
}
