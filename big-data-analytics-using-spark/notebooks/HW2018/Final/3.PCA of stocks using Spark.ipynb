{
 "cells": [
  {
   "cell_type": "markdown",
   "metadata": {},
   "source": [
    "## Analysis of stock prices using Principal Component Analysis \n",
    "\n",
    "In notebook1, you computed for each stock a `Diffs` sequence in which $d(t)=\\log \\frac{p(t+1)}{p(t)}$ where $p(t)$ is the price at time $t$ and $d(t)$ is the price diff or the price ratio. In this notebook, your task is to perform PCA on the `Diffs` sequences for all the stocks\n",
    "\n",
    "In this notebook you will read the file `SP500.csv` that you prepared in notebook 1 into a `Spark` dataframe and then use the code in `lib/spark_PCA.py` to perform PCA on the diff sequences.\n",
    "\n",
    "We start by starting a spark Context and reading the file into a dataframe."
   ]
  },
  {
   "cell_type": "markdown",
   "metadata": {},
   "source": [
    "### Create a Spark context and import dependencies"
   ]
  },
  {
   "cell_type": "code",
   "execution_count": 1,
   "metadata": {
    "ExecuteTime": {
     "end_time": "2018-06-08T20:19:32.806887Z",
     "start_time": "2018-06-08T20:19:27.417743Z"
    },
    "run_control": {
     "frozen": false,
     "read_only": false
    }
   },
   "outputs": [
    {
     "name": "stdout",
     "output_type": "stream",
     "text": [
      "Populating the interactive namespace from numpy and matplotlib\n"
     ]
    }
   ],
   "source": [
    "import pyspark\n",
    "from pyspark import SparkContext\n",
    "\n",
    "sc = SparkContext(master=\"local[6]\",pyFiles=['lib/spark_PCA.py'])\n",
    "\n",
    "from pyspark.sql import *\n",
    "sqlContext = SQLContext(sc)\n",
    "\n",
    "%pylab inline\n",
    "import sys\n",
    "sys.path.append('./lib')\n",
    "\n",
    "import numpy as np\n",
    "from spark_PCA import computeCov"
   ]
  },
  {
   "cell_type": "markdown",
   "metadata": {},
   "source": [
    "### Read data\n",
    "\n",
    "Read the file `SP500.csv` into a `Spark` dataframe. The file contains `_D` (diff) and `_P` (stock price) values for all tickers, for all the `13422` dates for which we have stock measurements."
   ]
  },
  {
   "cell_type": "code",
   "execution_count": 3,
   "metadata": {
    "ExecuteTime": {
     "end_time": "2018-06-08T20:19:44.009073Z",
     "start_time": "2018-06-08T20:19:35.688821Z"
    },
    "run_control": {
     "frozen": false,
     "read_only": false
    }
   },
   "outputs": [
    {
     "data": {
      "text/plain": [
       "13422"
      ]
     },
     "execution_count": 3,
     "metadata": {},
     "output_type": "execute_result"
    }
   ],
   "source": [
    "# read the file in a dataframe.\n",
    "df=sqlContext.read.csv('data/SP500.csv',header='true',inferSchema='true')\n",
    "df.count()"
   ]
  },
  {
   "cell_type": "code",
   "execution_count": 4,
   "metadata": {
    "ExecuteTime": {
     "end_time": "2018-06-08T20:19:45.585782Z",
     "start_time": "2018-06-08T20:19:45.581307Z"
    }
   },
   "outputs": [],
   "source": [
    "columns=df.columns\n",
    "col=[c for c in columns if '_D' in c]"
   ]
  },
  {
   "cell_type": "markdown",
   "metadata": {},
   "source": [
    "### Partition Columns"
   ]
  },
  {
   "cell_type": "markdown",
   "metadata": {},
   "source": [
    "Complete the function `partition_columns` to partition the columns of the dataframe `df` into `train` and `test`  set, each of them sorted lexicographically. \n",
    "\n",
    "Input: `df` dataframe read in 1.2\n",
    "\n",
    "Returns: `tickers` - list of tickers \n",
    "\n",
    "Example Output:\n",
    "\n",
    "   ['train/AAPL_D',\n",
    " 'train/ABC_D',\n",
    " 'train/ABT_D',\n",
    " 'train/ACN_D',\n",
    " 'train/ADBE_D',]\n",
    "  \n",
    "Steps:\n",
    "1. Obtain the column names of the given dataframe using `df.columns`\n",
    "2. For each column name with a `_D` suffix, store the ticker name\n",
    "3. Maintain two lists for ticker names - one for training examples and one for test examples\n",
    "3. For each ticker name extracted, check if the ticker is a `train` example. If so, append it to the list of training examples. If not, append it to the test list\n",
    "4. Sort the training and test lists"
   ]
  },
  {
   "cell_type": "code",
   "execution_count": 5,
   "metadata": {
    "ExecuteTime": {
     "end_time": "2018-06-08T20:20:02.173041Z",
     "start_time": "2018-06-08T20:20:02.160764Z"
    },
    "nbgrader": {
     "grade": false,
     "grade_id": "cell-3af42f32ef931bce",
     "locked": false,
     "schema_version": 1,
     "solution": true
    },
    "run_control": {
     "frozen": false,
     "read_only": false
    }
   },
   "outputs": [],
   "source": [
    "def partition_columns(df):\n",
    "    ### BEGIN SOLUTION\n",
    "    train_col=[]\n",
    "    test_col=[]\n",
    "    columns=df.columns\n",
    "    col=[c for c in columns if '_D' in c]\n",
    "    for i in range(len(col)):\n",
    "        if 'train' in col[i]:\n",
    "            train_col.append(col[i])\n",
    "        else:\n",
    "            test_col.append(col[i])\n",
    "    train_col = sorted(train_col)\n",
    "    test_col=sorted(test_col)\n",
    "    ### END SOLUTION    \n",
    "    return  train_col+test_col"
   ]
  },
  {
   "cell_type": "code",
   "execution_count": 6,
   "metadata": {
    "ExecuteTime": {
     "end_time": "2018-06-08T20:20:08.465507Z",
     "start_time": "2018-06-08T20:20:07.134577Z"
    }
   },
   "outputs": [],
   "source": [
    "columns = partition_columns(df)\n",
    "df=df.select(columns)"
   ]
  },
  {
   "cell_type": "code",
   "execution_count": 7,
   "metadata": {
    "ExecuteTime": {
     "end_time": "2018-06-08T20:20:08.643203Z",
     "start_time": "2018-06-08T20:20:16.311Z"
    },
    "nbgrader": {
     "grade": true,
     "grade_id": "cell-a2d1862acbdc91b1",
     "locked": true,
     "points": 0,
     "schema_version": 1,
     "solution": false
    }
   },
   "outputs": [],
   "source": [
    "assert type(columns) == list, 'Incorrect return type'\n",
    "assert len(columns) == 481, 'Incorrect return value'\n",
    "assert columns[10] == 'train/AEP_D'\n",
    "assert columns[200] == 'train/KMB_D'"
   ]
  },
  {
   "cell_type": "code",
   "execution_count": 8,
   "metadata": {
    "ExecuteTime": {
     "end_time": "2018-06-08T20:20:12.432667Z",
     "start_time": "2018-06-08T20:20:12.428227Z"
    },
    "nbgrader": {
     "grade": true,
     "grade_id": "cell-9942574234a81c68",
     "locked": true,
     "points": 0,
     "schema_version": 1,
     "solution": false
    }
   },
   "outputs": [],
   "source": [
    "# HIDDEN TESTS\n",
    "### BEGIN HIDDEN TESTS\n",
    "assert columns[0] == 'train/AAPL_D', 'Incorrect return value'\n",
    "assert columns[-2] == 'test/8_D', 'Incorrect return value'\n",
    "### END HIDDEN TESTS"
   ]
  },
  {
   "cell_type": "markdown",
   "metadata": {},
   "source": [
    "### Create an RDD of numpy arrays\n",
    "In order to use `spark_PCA.py` we need to transform the dataframe into an RDD of numpy vectors."
   ]
  },
  {
   "cell_type": "markdown",
   "metadata": {},
   "source": [
    "#### Function `make_array`\n",
    "Complete the function `make_array(row)` that takes as input a row of `df` and returns a numpy array (`dtype=np.float64`) that contains the values of the diff rolumns (`_D`). Use `np.nan_to_num` to transform `nan`s into zeros.\n",
    "\n",
    "Input: Row of `df`\n",
    "\n",
    "Output: numpy array of diff columns"
   ]
  },
  {
   "cell_type": "code",
   "execution_count": 9,
   "metadata": {
    "ExecuteTime": {
     "end_time": "2018-06-08T20:20:17.169191Z",
     "start_time": "2018-06-08T20:20:17.163306Z"
    },
    "nbgrader": {
     "grade": false,
     "grade_id": "cell-6f8a85c0251142bb",
     "locked": false,
     "schema_version": 1,
     "solution": true
    },
    "run_control": {
     "frozen": false,
     "read_only": false
    }
   },
   "outputs": [],
   "source": [
    "def make_array(row):\n",
    "    ### BEGIN SOLUTION\n",
    "    array=np.array([row[c] for c in col],dtype=np.float64)\n",
    "    array = np.nan_to_num(array)\n",
    "    ### END SOLUTION\n",
    "    return array"
   ]
  },
  {
   "cell_type": "markdown",
   "metadata": {},
   "source": [
    "#### Create RDD\n",
    "\n",
    "Use `map` to create an RDD called `Rows` of numpy arrays."
   ]
  },
  {
   "cell_type": "code",
   "execution_count": 10,
   "metadata": {
    "ExecuteTime": {
     "end_time": "2018-06-08T20:20:20.597082Z",
     "start_time": "2018-06-08T20:20:19.194492Z"
    },
    "nbgrader": {
     "grade": false,
     "grade_id": "cell-cba648ce571a5240",
     "locked": false,
     "schema_version": 1,
     "solution": true
    }
   },
   "outputs": [],
   "source": [
    "### BEGIN SOLUTION\n",
    "Rows= df.select(col).rdd.map(make_array) \n",
    "### END SOLUTION"
   ]
  },
  {
   "cell_type": "code",
   "execution_count": 11,
   "metadata": {
    "ExecuteTime": {
     "end_time": "2018-06-08T20:20:35.242795Z",
     "start_time": "2018-06-08T20:20:35.110716Z"
    },
    "nbgrader": {
     "grade": true,
     "grade_id": "cell-8e787b229acad106",
     "locked": true,
     "points": 0,
     "schema_version": 1,
     "solution": false
    }
   },
   "outputs": [],
   "source": [
    "# HIDDEN TESTS\n",
    "### BEGIN HIDDEN TESTS\n",
    "rowf = Rows.first()\n",
    "assert type(Rows) == pyspark.rdd.PipelinedRDD, 'Incorrect return type'\n",
    "assert type(rowf) == numpy.ndarray, 'Incorrect return type'\n",
    "assert len(rowf) == 481, 'Incorrect dimensions'\n",
    "assert sum(rowf==0) == 475, 'Incorrect return value'\n",
    "assert sum(rowf!=0) == 6, 'Incorrect return value'\n",
    "### END HIDDEN TESTS"
   ]
  },
  {
   "cell_type": "markdown",
   "metadata": {},
   "source": [
    "### Compute covariance matrix\n",
    "\n",
    "Here, we compute the covariance matrix of the data using `computeCov` in `spark_PCA.py`. The covariance matrix is of dimension `481 x 481`"
   ]
  },
  {
   "cell_type": "code",
   "execution_count": 12,
   "metadata": {
    "ExecuteTime": {
     "end_time": "2018-06-08T20:22:09.833672Z",
     "start_time": "2018-06-08T20:20:38.430121Z"
    },
    "run_control": {
     "frozen": false,
     "read_only": false
    },
    "scrolled": false
   },
   "outputs": [
    {
     "data": {
      "text/plain": [
       "dict_keys(['E', 'NE', 'O', 'NO', 'Cov', 'Mean', 'Var'])"
      ]
     },
     "execution_count": 12,
     "metadata": {},
     "output_type": "execute_result"
    }
   ],
   "source": [
    "OUT=computeCov(Rows)\n",
    "OUT.keys()"
   ]
  },
  {
   "cell_type": "markdown",
   "metadata": {},
   "source": [
    "### Compute eigenvalues and eigenvectors\n",
    "\n",
    "Complete the function `compute_eig` to compute the eigenvalues and eigenvectors of the given covariance matrix. You may make use of the `eigh` function from the `numpy.linalg` library to do the same.\n",
    "\n",
    "Input: \n",
    "\n",
    "cov - covariance matrix\n",
    "\n",
    "Output: \n",
    "\n",
    "eigenval - eigenvalues in descending order\n",
    "        \n",
    "eigenvectors - In the same order as their corresponding eigenvalues\n",
    "        \n",
    "You need to reverse the order of the eigenvalues and eigenvectors returned by the `eigh` function since they are returned in ascending order"
   ]
  },
  {
   "cell_type": "code",
   "execution_count": 13,
   "metadata": {
    "ExecuteTime": {
     "end_time": "2018-06-08T20:46:25.079410Z",
     "start_time": "2018-06-08T20:46:25.071450Z"
    },
    "nbgrader": {
     "grade": false,
     "grade_id": "cell-89514becc24a91ef",
     "locked": false,
     "schema_version": 1,
     "solution": true
    }
   },
   "outputs": [],
   "source": [
    "from numpy import linalg as LA\n",
    "def compute_eig(cov):\n",
    "    ### BEGIN SOLUTION\n",
    "    eigval,eigvec=LA.eigh(cov)\n",
    "    eigval=eigval[-1::-1] # reverse order\n",
    "    eigvec=eigvec[:,-1::-1]\n",
    "    ### END SOLUTION\n",
    "    return eigval, eigvec"
   ]
  },
  {
   "cell_type": "code",
   "execution_count": 14,
   "metadata": {
    "ExecuteTime": {
     "end_time": "2018-06-08T20:46:26.909664Z",
     "start_time": "2018-06-08T20:46:26.826264Z"
    }
   },
   "outputs": [],
   "source": [
    "eigval, eigvec = compute_eig(OUT['Cov'])"
   ]
  },
  {
   "cell_type": "markdown",
   "metadata": {},
   "source": [
    "### Function `compute_PCA`\n",
    "\n",
    "Complete the function `compute_PCA` that takes as input a list of tickers and computes the eigenvalues and eigenvectors.\n",
    "\n",
    "Input: `tickers` - list of tickers\n",
    "\n",
    "Output: `eigval`, `eigvec` - numpy arrays of eigenvalues and eigenvectors\n",
    "\n",
    "Steps:\n",
    "1. Given a list of tickers, create an RDD of numpy arrays using the `make_array` function similar to `1.4.2`\n",
    "2. Using the `computeCov` function, compute the covariance matrix of the given list of tickers, similar to `1.5`. The object returned by `computeCov` is a dictionary with the `cov` key containing the covariance matrix.\n",
    "3. Using the `compute_eig` function, compute the eigenvalues and eigenvectors of the covariance matrix obtained in step2 and store them in `eigval` and `eigvec` respectively"
   ]
  },
  {
   "cell_type": "code",
   "execution_count": 15,
   "metadata": {},
   "outputs": [],
   "source": [
    "def compute_PCA(tickers):\n",
    "    ### BEGIN SOLUTION\n",
    "    Rows= df.select(tickers).rdd.map(make_array)\n",
    "    OUT=computeCov(Rows)\n",
    "    eigval, eigvec = compute_eig(OUT['Cov'])\n",
    "    ### END SOLUTION\n",
    "    return eigval, eigvec"
   ]
  },
  {
   "cell_type": "code",
   "execution_count": 16,
   "metadata": {},
   "outputs": [],
   "source": [
    "columns=df.columns\n",
    "col=[c for c in columns if '_D' in c]\n",
    "eigval, eigvec = compute_PCA(col)"
   ]
  },
  {
   "cell_type": "code",
   "execution_count": 17,
   "metadata": {
    "nbgrader": {
     "grade": true,
     "grade_id": "cell-cd516a08c489078c",
     "locked": true,
     "points": 0,
     "schema_version": 1,
     "solution": false
    }
   },
   "outputs": [],
   "source": [
    "np.testing.assert_almost_equal(eigvec.dot(eigvec.T), eye(481), err_msg=\"Incorrect return value\")\n",
    "np.testing.assert_almost_equal(np.sort(eigval)[::-1], eigval, err_msg=\"Incorrect return value\")"
   ]
  },
  {
   "cell_type": "code",
   "execution_count": 19,
   "metadata": {
    "nbgrader": {
     "grade": true,
     "grade_id": "cell-8355465d7937f6cb",
     "locked": true,
     "points": 0,
     "schema_version": 1,
     "solution": false
    }
   },
   "outputs": [],
   "source": [
    "# HIDDEN TESTS\n",
    "### BEGIN HIDDEN TESTS\n",
    "import pickle\n",
    "col=[c for c in columns if '_D' in c]\n",
    "col = col[100:200]\n",
    "hidden_eigval, hidden_eigvec = compute_PCA(col)\n",
    "assert type(hidden_eigval) == np.ndarray, 'Incorrect return type'\n",
    "assert len(hidden_eigval) == len(col), 'Incorrect dimensions'\n",
    "assert type(hidden_eigvec) == np.ndarray, 'Incorrect return type'\n",
    "assert hidden_eigvec.shape == (len(col), len(col)), 'Incorrect dimensions'\n",
    "eig = pickle.load(open('data/hidden_eigen.pickle', 'rb'))\n",
    "actual_eigval = eig['eigval']\n",
    "actual_eigvec = eig['eigvec']\n",
    "np.testing.assert_almost_equal(actual_eigval, hidden_eigval, err_msg=\"Incorrect return value\")\n",
    "np.testing.assert_almost_equal(actual_eigvec, hidden_eigvec, err_msg=\"Incorrect return value\")\n",
    "### END HIDDEN TESTS"
   ]
  },
  {
   "cell_type": "markdown",
   "metadata": {},
   "source": [
    "### Compute percentage-of-variance explained graph\n",
    "\n",
    "In the cell below, write code to plot the percentage of variance explained as a function of the number of top eigen-vectors used.\n",
    "\n",
    "You should get a figure similar to this:\n",
    "\n",
    "![percent-var-explained](figs/percentageOfVarianceExplained.png)\n",
    "\n",
    "Hint:\n",
    "1. Use the eigenvalues computed in `1.6` to plot the explained variance"
   ]
  },
  {
   "cell_type": "code",
   "execution_count": 20,
   "metadata": {
    "ExecuteTime": {
     "end_time": "2018-06-08T16:46:38.597815Z",
     "start_time": "2018-06-08T16:46:38.442009Z"
    },
    "nbgrader": {
     "grade": false,
     "grade_id": "cell-2269e44236228a7d",
     "locked": false,
     "schema_version": 1,
     "solution": true
    },
    "run_control": {
     "frozen": false,
     "read_only": false
    }
   },
   "outputs": [
    {
     "name": "stdout",
     "output_type": "stream",
     "text": [
      "[0.21541202 0.25336645 0.27722061 0.29994765 0.31293977]\n"
     ]
    },
    {
     "data": {
      "image/png": "[encoded data removed]",
      "text/plain": [
       "<Figure size 432x288 with 1 Axes>"
      ]
     },
     "metadata": {},
     "output_type": "display_data"
    }
   ],
   "source": [
    "### BEGIN SOLUTION\n",
    "cum=cumsum(eigval)\n",
    "cum=cum/cum[-1]\n",
    "print(cum[:5])\n",
    "plot(cum[:50])\n",
    "grid()\n",
    "### END SOLUTION"
   ]
  },
  {
   "cell_type": "markdown",
   "metadata": {
    "ExecuteTime": {
     "end_time": "2018-06-01T18:01:22.464524Z",
     "start_time": "2018-06-01T18:01:22.301431Z"
    },
    "run_control": {
     "frozen": false,
     "read_only": false
    },
    "scrolled": false
   },
   "source": [
    "### Saving the information for the next stage"
   ]
  },
  {
   "cell_type": "code",
   "execution_count": 21,
   "metadata": {
    "ExecuteTime": {
     "end_time": "2018-06-08T17:01:05.432831Z",
     "start_time": "2018-06-08T17:01:05.412005Z"
    }
   },
   "outputs": [],
   "source": [
    "len(columns),eigvec.shape,eigval.shape\n",
    "from pickle import dump\n",
    "dump({'columns':columns,\n",
    "     'eigvec':eigvec,\n",
    "     'eigval':eigval},\n",
    "    open('data/PCA.pickle','wb'))"
   ]
  },
  {
   "cell_type": "markdown",
   "metadata": {},
   "source": [
    "### Checking your calculations\n",
    "One good way to check your calculations is to create a scatter-plot projecting the data on two of the largest variance eigen-vectors.\n",
    "\n",
    "In the directory `figs` you will find scatter plots corresponding to the six combinations of the top 4 eigenvectors.\n",
    "\n",
    "In these scatter-plots the ticker is replaced by the sector ID.\n",
    "\n",
    "Stocks from the same sector tend to have similar fluctuations. That is because they have similar sensitivities to costs (labor cost, energy) and profits (income distribution, holiday shopping). For example check out `figs/scatter.2.1.pdf` in which regions that are dominated by Finance, Energy or IT have been marked. \n",
    "\n",
    "In this section, you will create similar scatter plots and compare with those given. Your scatter-plots will be slightly different, because of the stocks you have eliminated, but spectral analysis is pretty robust, so your scatter plots should be quite similar (remember that the inverse of an eigen-vector is also an eigen-vector, so horizontal or vertical reflections of the scatter plot are meaningless)."
   ]
  },
  {
   "cell_type": "markdown",
   "metadata": {},
   "source": [
    "#### Read data\n",
    "\n",
    "Here, we read `Tickers.pkl` which is a dictionary with the keys: `Tickers` and `TickerInfo`. \n",
    "\n",
    "`Tickers` contains the ticker names and `TickerInfo` is a Pandas dataframe containing Company name, Sector and SectorID for each ticker"
   ]
  },
  {
   "cell_type": "code",
   "execution_count": 22,
   "metadata": {
    "ExecuteTime": {
     "end_time": "2018-06-08T16:49:08.634672Z",
     "start_time": "2018-06-08T16:49:08.229957Z"
    }
   },
   "outputs": [
    {
     "data": {
      "text/html": [
       "<div>\n",
       "<style scoped>\n",
       "    .dataframe tbody tr th:only-of-type {\n",
       "        vertical-align: middle;\n",
       "    }\n",
       "\n",
       "    .dataframe tbody tr th {\n",
       "        vertical-align: top;\n",
       "    }\n",
       "\n",
       "    .dataframe thead th {\n",
       "        text-align: right;\n",
       "    }\n",
       "</style>\n",
       "<table border=\"1\" class=\"dataframe\">\n",
       "  <thead>\n",
       "    <tr style=\"text-align: right;\">\n",
       "      <th></th>\n",
       "      <th>Unnamed: 0</th>\n",
       "      <th>Ticker</th>\n",
       "      <th>Name</th>\n",
       "      <th>Sector</th>\n",
       "      <th>SECTOR_ID</th>\n",
       "    </tr>\n",
       "  </thead>\n",
       "  <tbody>\n",
       "    <tr>\n",
       "      <th>0</th>\n",
       "      <td>0</td>\n",
       "      <td>MMM</td>\n",
       "      <td>3M|3M Company</td>\n",
       "      <td>Industrials</td>\n",
       "      <td>INDS</td>\n",
       "    </tr>\n",
       "    <tr>\n",
       "      <th>1</th>\n",
       "      <td>1</td>\n",
       "      <td>ABT</td>\n",
       "      <td>Abbott Laboratories</td>\n",
       "      <td>Health Care</td>\n",
       "      <td>HC</td>\n",
       "    </tr>\n",
       "    <tr>\n",
       "      <th>2</th>\n",
       "      <td>2</td>\n",
       "      <td>ABBV</td>\n",
       "      <td>AbbVie Inc.</td>\n",
       "      <td>Health Care</td>\n",
       "      <td>HC</td>\n",
       "    </tr>\n",
       "    <tr>\n",
       "      <th>3</th>\n",
       "      <td>3</td>\n",
       "      <td>ACN</td>\n",
       "      <td>Accenture plc</td>\n",
       "      <td>Information Technology</td>\n",
       "      <td>IT</td>\n",
       "    </tr>\n",
       "    <tr>\n",
       "      <th>4</th>\n",
       "      <td>4</td>\n",
       "      <td>ATVI</td>\n",
       "      <td>Activision Blizzard</td>\n",
       "      <td>Information Technology</td>\n",
       "      <td>IT</td>\n",
       "    </tr>\n",
       "  </tbody>\n",
       "</table>\n",
       "</div>"
      ],
      "text/plain": [
       "   Unnamed: 0 Ticker                 Name                  Sector SECTOR_ID\n",
       "0           0    MMM        3M|3M Company             Industrials      INDS\n",
       "1           1    ABT  Abbott Laboratories             Health Care        HC\n",
       "2           2   ABBV          AbbVie Inc.             Health Care        HC\n",
       "3           3    ACN        Accenture plc  Information Technology        IT\n",
       "4           4   ATVI  Activision Blizzard  Information Technology        IT"
      ]
     },
     "execution_count": 22,
     "metadata": {},
     "output_type": "execute_result"
    }
   ],
   "source": [
    "import pandas as pd\n",
    "TickerInfo=pd.read_csv('data/tickerInfo.tsv',sep='\\t')\n",
    "TickerInfo.head()"
   ]
  },
  {
   "cell_type": "markdown",
   "metadata": {},
   "source": [
    "#### Map tickers to Sector IDs\n",
    "\n",
    "Complete the function `map_sectorID` that takes as input `columns` containing ticker names that you extracted in 1.3 and returns a list `sectors` containing the sector ID for each ticker\n",
    "\n",
    "Input: `columns` - list of ticker names\n",
    "\n",
    "Example Input: ['train/RF_D', 'train/TIF_D', 'train/HAL_D']\n",
    "\n",
    "Output: `sectors` - list of sector IDs, `known` - number of tickers with known category, `unknown` - number of tickers with unknown category\n",
    "\n",
    "Example Output: ['FIN', 'CD', 'EN', 'CD', 'IT'], 200, 100\n",
    "\n",
    "Steps:\n",
    "\n",
    "1. In order to keep track of the number of tickers with known and unknown categories, intialise the counters `known` and `unknown` to 0\n",
    "2. Use `.to_records()` on the Pandas dataframe TickerInfo[['Ticker','SECTOR_ID']] to create a dictionary mapping Ticker name to Sector ID\n",
    "3. For each column name in `columns`, extract the ticker name by removing the `train` or `test` prefix and the `_D` suffix\n",
    "3. For the extracted ticker name, check if the ticker is present in the dictionary created in 1\n",
    "4. If yes, append the corresponding sectorID to `sectors` and increment the `known` counter\n",
    "5. Else, append the ticker name to `sectors` and increment the `unknown` counter\n",
    "6. Return `sectors`, `known` and `unknown`"
   ]
  },
  {
   "cell_type": "code",
   "execution_count": 23,
   "metadata": {
    "ExecuteTime": {
     "end_time": "2018-06-01T23:42:30.056488Z",
     "start_time": "2018-06-01T23:42:30.038554Z"
    },
    "nbgrader": {
     "grade": false,
     "grade_id": "cell-037bc5d39cd877b8",
     "locked": false,
     "schema_version": 1,
     "solution": true
    },
    "run_control": {
     "frozen": false,
     "read_only": false
    }
   },
   "outputs": [],
   "source": [
    "def map_sectorID(columns):\n",
    "    ### BEGIN SOLUTION\n",
    "    NN=TickerInfo[['Ticker','SECTOR_ID']]\n",
    "    Ticker2Sector={ a[1]:a[2] for a in NN.to_records()}\n",
    "    sectors=[]\n",
    "    unknown=known=0\n",
    "    for i in range(len(columns)):\n",
    "        ticker=columns[i]\n",
    "        if ticker[1] == 'r':\n",
    "            ticker = ticker[6:]\n",
    "        else:\n",
    "            ticker = ticker[5:]\n",
    "        ticker = ticker[:-2]\n",
    "        if ticker in Ticker2Sector:\n",
    "            #print(ticker)\n",
    "            sectors.append(Ticker2Sector[ticker])\n",
    "            known+=1\n",
    "        else:\n",
    "            sectors.append(ticker)\n",
    "            unknown+=1\n",
    "            #print('missing category for ',ticker)\n",
    "    ### END SOLUTION\n",
    "    return sectors, known, unknown"
   ]
  },
  {
   "cell_type": "code",
   "execution_count": 24,
   "metadata": {},
   "outputs": [],
   "source": [
    "sectors, known, unknown = map_sectorID(columns)"
   ]
  },
  {
   "cell_type": "code",
   "execution_count": 25,
   "metadata": {
    "nbgrader": {
     "grade": true,
     "grade_id": "cell-139dba3e35c96502",
     "locked": true,
     "points": 0,
     "schema_version": 1,
     "solution": false
    }
   },
   "outputs": [],
   "source": [
    "# HIDDEN TESTS\n",
    "### BEGIN HIDDEN TESTS\n",
    "assert sectors[0] == 'IT'\n",
    "assert sectors[2] == 'HC'\n",
    "assert sectors[-100] == 'RE'\n",
    "assert known==392\n",
    "assert unknown==89\n",
    "### END HIDDEN TESTS"
   ]
  },
  {
   "cell_type": "markdown",
   "metadata": {},
   "source": [
    "#### Generate Scatter plots\n",
    "\n",
    "Complete the function `Scatter_Stocks` to generate a scatter plot of the stocks on the given pair of eigenvectors. The function takes as input the indices of the two eigenvectors and generates a scatter plot of the data projected on the pair of eigenvectors.\n",
    "\n",
    "Input: i0, i1 - Eigenvector indices\n",
    "\n",
    "Example Input: i0=0, i1=2 (eigenvectors 0 and 2 - eigvec[:, 0] and eigvec[:, 2])\n",
    "\n",
    "Steps:\n",
    "1. Using the `plt.subplots` function, set the figure size to (20, 20) in order that the stock ticker names are readable. Store the objects returned by `plt.subplots` in `fig` and `ax`\n",
    "2. Set the X and Y axis limits to the minimum and maximum of the eigenvectors to be plotted on each axis using the `plt.xlim` and `plt.ylim` functions\n",
    "3. Label the axes as follows: Coeff 0, Coeff 1, using `plt.xlabel` and `plt.ylabel`\n",
    "4. for each ticker in `columns` that you generated in `1.3`, call the `ax.annotate` function in `matplotlib` using the `ax` object returned in `1` and annotate each point with the respective sectorID in `sectors`\n",
    "5. The figure in `fig` is then saved according to the command given "
   ]
  },
  {
   "cell_type": "code",
   "execution_count": 26,
   "metadata": {
    "ExecuteTime": {
     "end_time": "2018-06-01T23:53:50.727996Z",
     "start_time": "2018-06-01T23:53:50.706177Z"
    },
    "nbgrader": {
     "grade": false,
     "grade_id": "cell-78ed0210f4cccd7a",
     "locked": false,
     "schema_version": 1,
     "solution": true
    },
    "run_control": {
     "frozen": false,
     "read_only": false
    }
   },
   "outputs": [],
   "source": [
    "def Scatter_Stocks(i0=0,i1=1):\n",
    "    ### BEGIN SOLUTION\n",
    "    fig, ax = plt.subplots(figsize=(20,20));  # In order that the stock ticker names are readable we make the plot very large\n",
    "    plt.xlim([np.amin(eigvec[:,i0]),np.amax(eigvec[:,i0])]);\n",
    "    plt.ylim([np.amin(eigvec[:,i1]),np.amax(eigvec[:,i1])]);\n",
    "    plt.title('SP500 stocks scatter on '+str(i0)+', '+str(i1),fontsize=20);\n",
    "    plt.xlabel('Coeff %d'%i0);\n",
    "    plt.ylabel('Coeff %d'%i1);\n",
    "    for i in range(len(columns)):\n",
    "        ax.annotate(sectors[i], (eigvec[i,i0],eigvec[i,i1]),fontsize=10);\n",
    "    ### END SOLUTION\n",
    "    \n",
    "    fig.savefig('figs/scatter.'+str(i0)+'.'+str(i1)+'.pdf', format='PDF');\n",
    "    # After exporting, we clear the figure so that the plot does not appear in the notebook.\n",
    "    fig.clear();\n",
    "    return None"
   ]
  },
  {
   "cell_type": "code",
   "execution_count": 27,
   "metadata": {
    "ExecuteTime": {
     "end_time": "2018-06-01T23:53:54.971376Z",
     "start_time": "2018-06-01T23:53:51.594104Z"
    },
    "run_control": {
     "frozen": false,
     "read_only": false
    }
   },
   "outputs": [
    {
     "name": "stdout",
     "output_type": "stream",
     "text": [
      "1 0\n",
      "2 0\n",
      "2 1\n",
      "3 0\n",
      "3 1\n",
      "3 2\n"
     ]
    },
    {
     "data": {
      "text/plain": [
       "<Figure size 1440x1440 with 0 Axes>"
      ]
     },
     "metadata": {},
     "output_type": "display_data"
    },
    {
     "data": {
      "text/plain": [
       "<Figure size 1440x1440 with 0 Axes>"
      ]
     },
     "metadata": {},
     "output_type": "display_data"
    },
    {
     "data": {
      "text/plain": [
       "<Figure size 1440x1440 with 0 Axes>"
      ]
     },
     "metadata": {},
     "output_type": "display_data"
    },
    {
     "data": {
      "text/plain": [
       "<Figure size 1440x1440 with 0 Axes>"
      ]
     },
     "metadata": {},
     "output_type": "display_data"
    },
    {
     "data": {
      "text/plain": [
       "<Figure size 1440x1440 with 0 Axes>"
      ]
     },
     "metadata": {},
     "output_type": "display_data"
    },
    {
     "data": {
      "text/plain": [
       "<Figure size 1440x1440 with 0 Axes>"
      ]
     },
     "metadata": {},
     "output_type": "display_data"
    }
   ],
   "source": [
    "for i0 in range(4):\n",
    "    for i1 in range(i0):\n",
    "        print(i0,i1)\n",
    "        Scatter_Stocks(i0,i1);"
   ]
  },
  {
   "cell_type": "markdown",
   "metadata": {},
   "source": [
    "## Check \n",
    "Check that your `scatter.2.1.pdf` is similar to `scatter.2.1.annotated.pdf`. Note that the orientation of the eigen-vectors can be flipped."
   ]
  },
  {
   "cell_type": "code",
   "execution_count": null,
   "metadata": {},
   "outputs": [],
   "source": []
  }
 ],
 "metadata": {
  "anaconda-cloud": {},
  "celltoolbar": "Create Assignment",
  "kernelspec": {
   "display_name": "Python 3",
   "language": "python",
   "name": "python3"
  },
  "language_info": {
   "codemirror_mode": {
    "name": "ipython",
    "version": 3
   },
   "file_extension": ".py",
   "mimetype": "text/x-python",
   "name": "python",
   "nbconvert_exporter": "python",
   "pygments_lexer": "ipython3",
   "version": "3.6.5"
  },
  "toc": {
   "base_numbering": 1,
   "nav_menu": {
    "height": "12px",
    "width": "252px"
   },
   "number_sections": true,
   "sideBar": true,
   "skip_h1_title": false,
   "title_cell": "Table of Contents",
   "title_sidebar": "Contents",
   "toc_cell": false,
   "toc_position": {},
   "toc_section_display": "block",
   "toc_window_display": false
  },
  "varInspector": {
   "cols": {
    "lenName": 16,
    "lenType": 16,
    "lenVar": 40
   },
   "kernels_config": {
    "python": {
     "delete_cmd_postfix": "",
     "delete_cmd_prefix": "del ",
     "library": "var_list.py",
     "varRefreshCmd": "print(var_dic_list())"
    },
    "r": {
     "delete_cmd_postfix": ") ",
     "delete_cmd_prefix": "rm(",
     "library": "var_list.r",
     "varRefreshCmd": "cat(var_dic_list()) "
    }
   },
   "types_to_exclude": [
    "module",
    "function",
    "builtin_function_or_method",
    "instance",
    "_Feature"
   ],
   "window_display": false
  }
 },
 "nbformat": 4,
 "nbformat_minor": 2
}
