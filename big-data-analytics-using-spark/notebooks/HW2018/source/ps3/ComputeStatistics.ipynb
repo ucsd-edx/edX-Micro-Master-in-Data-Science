{
 "cells": [
  {
   "cell_type": "markdown",
   "metadata": {
    "nbgrader": {
     "grade": false,
     "grade_id": "cell-ea9398d91b45e730",
     "locked": true,
     "schema_version": 1,
     "solution": false
    }
   },
   "source": [
    "# CSE 255 Programming Assignment 3"
   ]
  },
  {
   "cell_type": "markdown",
   "metadata": {
    "nbgrader": {
     "grade": false,
     "grade_id": "cell-00240233f464f4eb",
     "locked": true,
     "schema_version": 1,
     "solution": false
    },
    "slideshow": {
     "slide_type": "subslide"
    }
   },
   "source": [
    "##  Problem Statement\n",
    "\n",
    "In class, the vectors that we tried to analyze had length, or dimension, of 365, corresponding to the number of \n",
    "days in a year. We outsourced the computation of the math into the `lib/computeStatistics.py` file during the class discussions. In this programming assignment, your task is to fill in the function that is required to efficiently calculate the covariance matrix. All of the necessary helper code is included in this notebook. However, we advise you to go over the lecture material, the EdX videos and the corresponding notebooks before you attempt this Programming Assignment."
   ]
  },
  {
   "cell_type": "markdown",
   "metadata": {
    "heading_collapsed": true,
    "nbgrader": {
     "grade": false,
     "grade_id": "cell-68c2fa253672eded",
     "locked": true,
     "schema_version": 1,
     "solution": false
    },
    "slideshow": {
     "slide_type": "slide"
    }
   },
   "source": [
    "### Computing Covariance Efficiently"
   ]
  },
  {
   "cell_type": "markdown",
   "metadata": {
    "hidden": true,
    "nbgrader": {
     "grade": false,
     "grade_id": "cell-4e976825763cb27b",
     "locked": true,
     "schema_version": 1,
     "solution": false
    }
   },
   "source": [
    "First, we refresh some of the strategy we went over in class to efficiently compute the covariance matrix while also calculating the mean of the set of vectors. You are required to use these strategies effectively in this assignment."
   ]
  },
  {
   "cell_type": "markdown",
   "metadata": {
    "hidden": true,
    "nbgrader": {
     "grade": false,
     "grade_id": "cell-0b915c38f82c0243",
     "locked": true,
     "schema_version": 1,
     "solution": false
    },
    "slideshow": {
     "slide_type": "fragment"
    }
   },
   "source": [
    "To perform [Principle component analysis (PCA)](https://en.wikipedia.org/wiki/Principal_component_analysis)\n",
    "on vectors, we seperated out two steps to this process:\n",
    "\n",
    "1) Computing the covariance matrix: this is a  simple computation.\n",
    "\n",
    "2) Computing the eigenvector decomposition."
   ]
  },
  {
   "cell_type": "markdown",
   "metadata": {
    "hidden": true,
    "nbgrader": {
     "grade": false,
     "grade_id": "cell-252b9b50bea75a87",
     "locked": true,
     "schema_version": 1,
     "solution": false
    }
   },
   "source": [
    "<font size=4>**In this homework, you will fill up a function that is necessary in order to correctly calculate the covariance matrix in an efficient manner.**</font>"
   ]
  },
  {
   "cell_type": "markdown",
   "metadata": {
    "heading_collapsed": true,
    "nbgrader": {
     "grade": false,
     "grade_id": "cell-d83074e8e9955c84",
     "locked": true,
     "schema_version": 1,
     "solution": false
    }
   },
   "source": [
    "## Reviewing the Theory "
   ]
  },
  {
   "cell_type": "markdown",
   "metadata": {
    "heading_collapsed": true,
    "hidden": true,
    "nbgrader": {
     "grade": false,
     "grade_id": "cell-8fe786555d5adc72",
     "locked": true,
     "schema_version": 1,
     "solution": false
    },
    "slideshow": {
     "slide_type": "subslide"
    }
   },
   "source": [
    "### Computing the covariance matrix\n",
    "Suppose that the data vectors are the column vectors denoted $x$ then the covariance matrix is defined to be\n",
    "$$\n",
    "E(x x^T)-E(x)E(x)^T\n",
    "$$\n",
    "\n",
    "Where $x x^T$ is the **outer product** of $x$ with itself."
   ]
  },
  {
   "cell_type": "markdown",
   "metadata": {
    "hidden": true,
    "nbgrader": {
     "grade": false,
     "grade_id": "cell-7039f37b824b5bfd",
     "locked": true,
     "schema_version": 1,
     "solution": false
    },
    "slideshow": {
     "slide_type": "subslide"
    }
   },
   "source": [
    "If the data that we have is $x_1,x_2,x_n$ then  we estimate the covariance matrix:\n",
    "$$\n",
    "\\hat{E}(x x^T)-\\hat{E}(x)\\hat{E}(x)^T\n",
    "$$\n",
    "\n",
    "the estimates we use are:\n",
    "$$\n",
    "\\hat{E}(x x^T) = \\frac{1}{n} \\sum_{i=1}^n x_i x_i^T,\\;\\;\\;\\;\\;\n",
    "\\hat{E}(x) = \\frac{1}{n} \\sum_{i=1}^n x_i\n",
    "$$"
   ]
  },
  {
   "cell_type": "markdown",
   "metadata": {
    "heading_collapsed": true,
    "hidden": true,
    "nbgrader": {
     "grade": false,
     "grade_id": "cell-294fbecdd9bffc8a",
     "locked": true,
     "schema_version": 1,
     "solution": false
    },
    "slideshow": {
     "slide_type": "subslide"
    }
   },
   "source": [
    "### Covariance matrix while taking care of `nan`s\n",
    "<a id='compCovariance'></a>\n"
   ]
  },
  {
   "cell_type": "markdown",
   "metadata": {
    "hidden": true,
    "nbgrader": {
     "grade": false,
     "grade_id": "cell-294fecdd9bffc8a",
     "locked": true,
     "schema_version": 1,
     "solution": false
    },
    "slideshow": {
     "slide_type": "subslide"
    }
   },
   "source": [
    "#### The effect of  `nan`s in arithmetic operations  \n",
    "* We use an RDD of numpy arrays, instead of Dataframes.\n",
    "* Why? Because unlike dataframes, `numpy.nanmean` treats `nan` entries correctly."
   ]
  },
  {
   "cell_type": "markdown",
   "metadata": {
    "hidden": true,
    "nbgrader": {
     "grade": false,
     "grade_id": "cell-eebed41b9bf6b458",
     "locked": true,
     "schema_version": 1,
     "solution": false
    },
    "slideshow": {
     "slide_type": "subslide"
    }
   },
   "source": [
    "#### Calculating the mean of a vector with nan's \n",
    "* We often get vectors $x$ in which some, but not all, of the entries are `nan`. \n",
    "* We want to compute the mean of the elements of $x$. \n",
    "* If we use `np.mean` we will get the result `nan`. \n",
    "* A useful alternative is to use `np.nanmean` which removes the `nan` elements and takes the mean of the rest."
   ]
  },
  {
   "cell_type": "markdown",
   "metadata": {
    "hidden": true,
    "nbgrader": {
     "grade": false,
     "grade_id": "cell-b1401bc42315744c",
     "locked": true,
     "schema_version": 1,
     "solution": false
    },
    "slideshow": {
     "slide_type": "subslide"
    }
   },
   "source": [
    "#### Computing the covariance  when there are `nan`s\n",
    "The covariance is a mean of outer products.\n",
    "\n",
    "We calculate two matrices:\n",
    "* $S$ - the sum of the matrices, where `nan`->0\n",
    "* $N$ - the number of not-`nan` element for each matrix location.\n",
    "\n",
    "We then calculate the mean as $S/N$ (division is done element-wise)"
   ]
  },
  {
   "cell_type": "markdown",
   "metadata": {
    "heading_collapsed": true,
    "nbgrader": {
     "grade": false,
     "grade_id": "cell-05df527ac8436651",
     "locked": true,
     "schema_version": 1,
     "solution": false
    }
   },
   "source": [
    "## Notebook Setup "
   ]
  },
  {
   "cell_type": "code",
   "execution_count": null,
   "metadata": {
    "hidden": true,
    "nbgrader": {
     "grade": false,
     "grade_id": "cell-19eecf04e8b8763f",
     "locked": true,
     "schema_version": 1,
     "solution": false
    }
   },
   "outputs": [],
   "source": [
    "# %load lib/spark_PCA_HW.py\n",
    "import numpy as np\n",
    "from numpy import linalg as LA"
   ]
  },
  {
   "cell_type": "code",
   "execution_count": null,
   "metadata": {
    "hidden": true
   },
   "outputs": [],
   "source": [
    "# Use this cell to add in extra information that your local setup needs to locate spark.\n",
    "# import findspark\n",
    "# findspark.init()\n",
    "\n",
    "# While submitting, ensure that you comment out this cell"
   ]
  },
  {
   "cell_type": "code",
   "execution_count": null,
   "metadata": {
    "ExecuteTime": {
     "end_time": "2018-04-09T20:23:36.438231Z",
     "start_time": "2018-04-09T20:23:32.941894Z"
    },
    "hidden": true,
    "nbgrader": {
     "grade": false,
     "grade_id": "cell-ccef2cb8941c8d74",
     "locked": true,
     "schema_version": 1,
     "solution": false
    },
    "scrolled": true,
    "slideshow": {
     "slide_type": "skip"
    }
   },
   "outputs": [],
   "source": [
    "from pyspark import SparkContext,SparkConf\n",
    "\n",
    "def create_sc(pyFiles):\n",
    "    sc_conf = SparkConf()\n",
    "    sc = SparkContext(pyFiles=pyFiles)\n",
    "    \n",
    "    return sc \n",
    "\n",
    "sc = create_sc(pyFiles=['lib/numpy_pack.py','lib/spark_PCA.py','lib/computeStatistics.py'])"
   ]
  },
  {
   "cell_type": "markdown",
   "metadata": {
    "heading_collapsed": true,
    "nbgrader": {
     "grade": false,
     "grade_id": "cell-83d669943b012b5e",
     "locked": true,
     "schema_version": 1,
     "solution": false
    }
   },
   "source": [
    "# Computing Statistics "
   ]
  },
  {
   "cell_type": "markdown",
   "metadata": {
    "heading_collapsed": true,
    "hidden": true,
    "nbgrader": {
     "grade": false,
     "grade_id": "cell-84ad4416fd7c1ab4",
     "locked": true,
     "schema_version": 1,
     "solution": false
    },
    "slideshow": {
     "slide_type": "subslide"
    }
   },
   "source": [
    "## Computing the mean together with the covariance\n",
    "<a id='compCovariances'></a>\n",
    "To compute the covariance matrix we need to compute both $\\hat{E}(x x^T)$ and $\\hat{E}(x)$. Using a simple trick, we can compute both at the same time."
   ]
  },
  {
   "cell_type": "markdown",
   "metadata": {
    "hidden": true,
    "nbgrader": {
     "grade": false,
     "grade_id": "cell-6dfc74a8d033d8db",
     "locked": true,
     "schema_version": 1,
     "solution": false
    },
    "slideshow": {
     "slide_type": "subslide"
    }
   },
   "source": [
    "Here is the trick: lets denote a $d$ dimensional **column vector** by $\\vec{x} = (x_1,x_2,\\ldots,x_d)$ (note that the subscript here is the index of the coordinate, not the index of the example in the training set as used above). \n",
    "\n",
    "The augmented vector $\\vec{x}'$ is defined to be the $d+1$ dimensional vector $\\vec{x}' = (1,x_1,x_2,\\ldots,x_d)$."
   ]
  },
  {
   "cell_type": "markdown",
   "metadata": {
    "hidden": true,
    "nbgrader": {
     "grade": false,
     "grade_id": "cell-e4b1d21b542f6f68",
     "locked": true,
     "schema_version": 1,
     "solution": false
    },
    "slideshow": {
     "slide_type": "subslide"
    }
   },
   "source": [
    "The outer product of $\\vec{x}'$ with itself is equal to \n",
    "\n",
    "$$ \\vec{x}' {\\vec{x}'}^T\n",
    "= \\left[\\begin{array}{c|ccc}\n",
    "    1 &  &{\\vec{x}}^T &\\\\\n",
    "    \\hline \\\\\n",
    "    \\vec{x} & &\\vec{x} {\\vec{x}}^T \\\\ \\\\\n",
    "    \\end{array}\n",
    "    \\right]\n",
    "$$\n",
    "\n",
    "Where the lower left matrix is the original outer product $\\vec{x} {\\vec{x}}^T$ and the first row and the first column are $\\vec{x}^T$ and $\\vec{x}$ respectively."
   ]
  },
  {
   "cell_type": "markdown",
   "metadata": {
    "ExecuteTime": {
     "end_time": "2018-04-09T03:28:56.966524Z",
     "start_time": "2018-04-09T03:28:56.962438Z"
    },
    "hidden": true,
    "nbgrader": {
     "grade": false,
     "grade_id": "cell-30f368174c8a296d",
     "locked": true,
     "schema_version": 1,
     "solution": false
    },
    "slideshow": {
     "slide_type": "subslide"
    }
   },
   "source": [
    "Now suppose that we take the average of the outer product of the augmented vector and convince yourself that:\n",
    "$$\n",
    "\\hat{E}(\\vec{x}' {\\vec{x}'}^T) = \\frac{1}{n} \\sum_{i=1}^n {\\vec{x}'}_i {\\vec{x}'}_i^T\n",
    "= \\left[\\begin{array}{c|ccc}\n",
    "    1 &  &\\hat{E}(\\vec{x})^T &\\\\\n",
    "    \\hline \\\\\n",
    "    \\hat{E}(\\vec{x}) & &\\hat{E}(\\vec{x} {\\vec{x}}^T) \\\\ \\\\\n",
    "    \\end{array}\n",
    "    \\right]\n",
    "$$\n",
    "\n",
    "So indeed, we have produced the outer product average together with (two copies of) the average $\\hat{E}(\\vec{x})$"
   ]
  },
  {
   "cell_type": "markdown",
   "metadata": {
    "heading_collapsed": true,
    "hidden": true,
    "nbgrader": {
     "grade": false,
     "grade_id": "cell-d965939970736ed9",
     "locked": true,
     "schema_version": 1,
     "solution": false
    }
   },
   "source": [
    "## Helper Functions"
   ]
  },
  {
   "cell_type": "markdown",
   "metadata": {
    "hidden": true,
    "nbgrader": {
     "grade": false,
     "grade_id": "cell-fa4c7027c418628f",
     "locked": true,
     "schema_version": 1,
     "solution": false
    }
   },
   "source": [
    "### OuterProduct"
   ]
  },
  {
   "cell_type": "markdown",
   "metadata": {
    "hidden": true,
    "nbgrader": {
     "grade": false,
     "grade_id": "cell-505e615dfd5e2",
     "locked": true,
     "schema_version": 1,
     "solution": false
    }
   },
   "source": [
    "#### Description\n",
    "The function <font color=\"blue\">outerProduct</font> computes outer product and indicates which locations in matrix are undefined.\n",
    "\n",
    "**Input**: X is a 1 x n matrix \n",
    "\n",
    "**Output**: The output is a tuple of:\n",
    "1. O is a n x n matrix which is the outer product of the two matrices.\n",
    "2. N is a n x n matrix which represents whether each position in the matrix has a \"valid\" non-NaN element."
   ]
  },
  {
   "cell_type": "code",
   "execution_count": null,
   "metadata": {
    "hidden": true,
    "nbgrader": {
     "grade": false,
     "grade_id": "cell-e8792afc6215f384",
     "locked": true,
     "schema_version": 1,
     "solution": false
    }
   },
   "outputs": [],
   "source": [
    "def outerProduct(X):\n",
    "    O=np.outer(X,X)\n",
    "    N=1-np.isnan(O)\n",
    "    return (O,N)"
   ]
  },
  {
   "cell_type": "markdown",
   "metadata": {
    "hidden": true,
    "nbgrader": {
     "grade": false,
     "grade_id": "cell-c44c0cd0770b29d9",
     "locked": true,
     "schema_version": 1,
     "solution": false
    }
   },
   "source": [
    "### sumWithNan"
   ]
  },
  {
   "cell_type": "markdown",
   "metadata": {
    "hidden": true,
    "nbgrader": {
     "grade": false,
     "grade_id": "cell-ab123ab2345ef134",
     "locked": true,
     "schema_version": 1,
     "solution": false
    }
   },
   "source": [
    "#### Description\n",
    "\n",
    "The function <font color=\"blue\">sumWithNan</font> adds two pairs of (**matrix**, **count**) where **matrix** and **count** are the O and N returned from the outerProduct function.\n",
    "\n",
    "**Input** : M1 and M2 are tuples of n x n matrices. The first matrix in each tuple is derived from the\n",
    "    outer product and the second matrix in each tuple represents the count of non-NaN elements in that position\n",
    "\n",
    "**Output** : Two matrices. The first (X) contains the Nansum of elements in the outer-product matrix in M1 and M2 and the second (N) contains the count of non-Nan elements in M1 and M2. This output has the same shape as the input i.e a tuple of n x n matrices."
   ]
  },
  {
   "cell_type": "code",
   "execution_count": null,
   "metadata": {
    "hidden": true,
    "nbgrader": {
     "grade": false,
     "grade_id": "cell-451ca17s9580fa84c",
     "locked": true,
     "schema_version": 1,
     "solution": false
    }
   },
   "outputs": [],
   "source": [
    "def sumWithNan(M1,M2):\n",
    "    (X1,N1)=M1\n",
    "    (X2,N2)=M2\n",
    "    N=N1+N2\n",
    "    X=np.nansum(np.dstack((X1,X2)),axis=2)\n",
    "    return (X,N)"
   ]
  },
  {
   "cell_type": "markdown",
   "metadata": {
    "heading_collapsed": true,
    "nbgrader": {
     "grade": false,
     "grade_id": "cell-505e612359d5e3",
     "locked": true,
     "schema_version": 1,
     "solution": false
    }
   },
   "source": [
    "# Exercise"
   ]
  },
  {
   "cell_type": "markdown",
   "metadata": {
    "heading_collapsed": true,
    "hidden": true,
    "nbgrader": {
     "grade": false,
     "grade_id": "cell-505e6112359d5e3",
     "locked": true,
     "schema_version": 1,
     "solution": false
    }
   },
   "source": [
    "## Description"
   ]
  },
  {
   "cell_type": "markdown",
   "metadata": {
    "hidden": true,
    "nbgrader": {
     "grade": false,
     "grade_id": "cell-505e611259d5e3",
     "locked": true,
     "schema_version": 1,
     "solution": false
    }
   },
   "source": [
    "The function <font color=\"blue\">HW_func</font> takes in two $n$ x $n$ matrices, S and N.\n",
    "\n",
    "The first $n$ x $n$ matrix, `S`, is the output from reducing the outer product of vectors by taking the sum at each position in the outer product. Remember from the theory that the vectors have been augmented with a leading 1 to facilitate the computation of the mean and the co-variance in the same computation.\n",
    "\n",
    "The second $n$ x $n$ matrix, `N`, is derived from reducing boolean matrices that denote the presence of a valid value in the outer product of a vector. The reduction is done by summing up the boolean matrices. This means that the $n$ x $n$ matrix would contain the count of valid not-nan entries at each position in the outer product. \n",
    "\n",
    "For example, if the vectors that we want to do PCA on are:\n",
    "\n",
    "`[array([-0.09993104,         nan]), array([-0.17819987, -0.70368551])]`\n",
    "\n",
    "Then the matrix `S` would be:\n",
    "\n",
    "`[[ 2.         -0.2781309  -0.70368551]\n",
    " [-0.2781309   0.0417414   0.12539666]\n",
    " [-0.70368551  0.12539666  0.4951733 ]]`\n",
    " \n",
    "\n",
    " And the matrix `N` would be:\n",
    " \n",
    " `[[2 2 1]\n",
    " [2 2 1]\n",
    " [1 1 1]]`\n",
    " \n",
    " The matrices `S` and `N` are both `numpy.ndarrays`\n",
    "\n",
    "You have to calculate and return the following statistics: \n",
    "\n",
    "1. E : The nan-sum of the vectors, as described in [Computing Covariance With NaNs](#compCovariance)\n",
    "\n",
    "2. NE : The number of not-nan entries for each coordinate of the vectors\n",
    "\n",
    "3. Mean : The Mean vector (ignoring nans)\n",
    "\n",
    "4. O :  The sum of the outer products\n",
    "\n",
    "5. NO : The number of non-nans in the outer product.\n",
    "\n",
    "**<font color=\"magenta\" size=2>Example Code</font>**\n",
    "``` python\n",
    "my_S = np.array([[1, 2, 3],[2,4,5][3,5,6]])\n",
    "my_N = np.array([[2, 2, 1],[2,2,1],[1,1,1]])\n",
    "\n",
    "HW_func(my_S, my_N)\n",
    "```\n",
    "\n",
    "**<font color=\"blue\" size=2>Example Output</font>**\n",
    "``` python\n",
    "E = np.array([2, 3])\n",
    "NE = np.array([ 2.,  1.])\n",
    "Mean = np.array([ 1.,  3.])\n",
    "O = np.array([[4, 5],\n",
    "               [5, 6]])\n",
    "NO = array([[ 2.,  1.],\n",
    "           [ 1.,  1.]])\n",
    "```"
   ]
  },
  {
   "cell_type": "markdown",
   "metadata": {
    "heading_collapsed": true,
    "hidden": true,
    "nbgrader": {
     "grade": false,
     "grade_id": "cell-44dd5e1919cee9a4",
     "locked": true,
     "schema_version": 1,
     "solution": false
    }
   },
   "source": [
    "## Definition"
   ]
  },
  {
   "cell_type": "code",
   "execution_count": null,
   "metadata": {
    "hidden": true,
    "nbgrader": {
     "grade": false,
     "grade_id": "cell-5c0b87a5c1dca85e",
     "locked": false,
     "schema_version": 1,
     "solution": true
    }
   },
   "outputs": [],
   "source": [
    "def HW_func(S,N):\n",
    "    # E is the sum of the vectors\n",
    "    # NE is the number of not-nan entries for each coordinate of the vectors\n",
    "    # Mean is the Mean vector (ignoring nans)\n",
    "    # O is the sum of the outer products\n",
    "    # NO is the number of non-nans in the outer product.\n",
    "    \n",
    "    ### BEGIN SOLUTION\n",
    "    E=S[0,1:]\n",
    "    NE=np.float64(N[0,1:])\n",
    "    Mean=E/NE\n",
    "    O=S[1:,1:]\n",
    "    NO=np.float64(N[1:,1:])\n",
    "    ### END SOLUTION\n",
    "    \n",
    "    return E, NE, Mean, O, NO\n",
    "    "
   ]
  },
  {
   "cell_type": "markdown",
   "metadata": {
    "heading_collapsed": true,
    "hidden": true,
    "nbgrader": {
     "grade": false,
     "grade_id": "cell-962b03b4e3890323",
     "locked": true,
     "schema_version": 1,
     "solution": false
    }
   },
   "source": [
    "## Tests"
   ]
  },
  {
   "cell_type": "markdown",
   "metadata": {
    "hidden": true,
    "nbgrader": {
     "grade": false,
     "grade_id": "cell-d6251584c8342dcc",
     "locked": true,
     "schema_version": 1,
     "solution": false
    }
   },
   "source": [
    "### Test 1"
   ]
  },
  {
   "cell_type": "code",
   "execution_count": null,
   "metadata": {
    "hidden": true,
    "nbgrader": {
     "grade": false,
     "grade_id": "cell-ea08fbdb4e0de7a1",
     "locked": true,
     "schema_version": 1,
     "solution": false
    }
   },
   "outputs": [],
   "source": [
    "S = np.array([[ 2.0, 0.24553034, -0.03128947], [0.24553034, 0.06099381, -0.38770712], [-0.03128947, -0.38770712, 4.77673193]])\n",
    "N = np.array([[2, 2, 2], [2, 2, 2], [2, 2, 2]])\n",
    "\n",
    "E, NE, Mean, O, NO = HW_func(S, N)\n",
    "\n",
    "expected_result = {'E': np.array([ 0.24553034, -0.03128947]), 'NE': np.array([ 2.,  2.]), \n",
    "          'O': np.array([[ 0.06099381, -0.38770712], [-0.38770712,  4.77673193]]), \n",
    "          'NO': np.array([[ 2.,  2.],[ 2.,  2.]]), 'Mean': np.array([ 0.12276517, -0.01564473]) \n",
    "         }"
   ]
  },
  {
   "cell_type": "markdown",
   "metadata": {
    "hidden": true,
    "nbgrader": {
     "grade": false,
     "grade_id": "cell-f8ee9147e1600315",
     "locked": true,
     "schema_version": 1,
     "solution": false
    }
   },
   "source": [
    "#### Type Check"
   ]
  },
  {
   "cell_type": "code",
   "execution_count": null,
   "metadata": {
    "hidden": true,
    "nbgrader": {
     "grade": true,
     "grade_id": "cell-c2c976d807ad0060",
     "locked": true,
     "points": 1,
     "schema_version": 1,
     "solution": false
    }
   },
   "outputs": [],
   "source": [
    "assert type(E) == np.ndarray, \"Incorrect return type. Should return np.array\""
   ]
  },
  {
   "cell_type": "code",
   "execution_count": null,
   "metadata": {
    "hidden": true,
    "nbgrader": {
     "grade": true,
     "grade_id": "cell-3c1166dd3bdb9d34",
     "locked": true,
     "points": 1,
     "schema_version": 1,
     "solution": false
    }
   },
   "outputs": [],
   "source": [
    "assert type(NE) == np.ndarray, 'Invalid return type. We expected numpy.ndarray'\n",
    "assert type(NE[0]) == np.float64, 'Invalid return type. Each element in numpy.ndarray should \\\n",
    "                    be numpy.float64'"
   ]
  },
  {
   "cell_type": "code",
   "execution_count": null,
   "metadata": {
    "hidden": true,
    "nbgrader": {
     "grade": true,
     "grade_id": "cell-1c2a6c335acc479f",
     "locked": true,
     "points": 1,
     "schema_version": 1,
     "solution": false
    }
   },
   "outputs": [],
   "source": [
    "assert type(Mean) == np.ndarray, \"Incorrect return type. Should return np.array\""
   ]
  },
  {
   "cell_type": "code",
   "execution_count": null,
   "metadata": {
    "hidden": true,
    "nbgrader": {
     "grade": true,
     "grade_id": "cell-7fd534643433075e",
     "locked": true,
     "points": 1,
     "schema_version": 1,
     "solution": false
    }
   },
   "outputs": [],
   "source": [
    "assert type(O) == np.ndarray, \"Incorrect return type. Should return np.array\""
   ]
  },
  {
   "cell_type": "code",
   "execution_count": null,
   "metadata": {
    "hidden": true,
    "nbgrader": {
     "grade": true,
     "grade_id": "cell-c9c1a6a4eac47731",
     "locked": true,
     "points": 1,
     "schema_version": 1,
     "solution": false
    }
   },
   "outputs": [],
   "source": [
    "assert type(NO) == np.ndarray, 'Invalid return type. We expected numpy.ndarray'\n",
    "assert type(NO[0,0]) == np.float64, 'Invalid return type. Each element in numpy.ndarray should \\\n",
    "                    be numpy.float64. Your elements have datatype ' + str(type(count_valid_op[0,0]))"
   ]
  },
  {
   "cell_type": "markdown",
   "metadata": {
    "hidden": true,
    "nbgrader": {
     "grade": false,
     "grade_id": "cell-c44afe6a12fcbc35",
     "locked": true,
     "schema_version": 1,
     "solution": false
    }
   },
   "source": [
    "#### Shape Check"
   ]
  },
  {
   "cell_type": "code",
   "execution_count": null,
   "metadata": {
    "hidden": true,
    "nbgrader": {
     "grade": true,
     "grade_id": "cell-3906427454474eb3",
     "locked": true,
     "points": 1,
     "schema_version": 1,
     "solution": false
    }
   },
   "outputs": [],
   "source": [
    "assert E.shape == (2,), \"Returned np.array should be a vector of size n-1 = 2\""
   ]
  },
  {
   "cell_type": "code",
   "execution_count": null,
   "metadata": {
    "hidden": true,
    "nbgrader": {
     "grade": true,
     "grade_id": "cell-1d5bede99e74e142",
     "locked": true,
     "points": 1,
     "schema_version": 1,
     "solution": false
    }
   },
   "outputs": [],
   "source": [
    "assert NE.shape == (2,), \"Returned np.array should be a vector of size n-1 = 2\""
   ]
  },
  {
   "cell_type": "code",
   "execution_count": null,
   "metadata": {
    "hidden": true,
    "nbgrader": {
     "grade": true,
     "grade_id": "cell-a3d9e02d1fb300e1",
     "locked": true,
     "points": 1,
     "schema_version": 1,
     "solution": false
    }
   },
   "outputs": [],
   "source": [
    "assert Mean.shape == (2,), \"Returned np.array should be a vector of size n-1 = 2\""
   ]
  },
  {
   "cell_type": "code",
   "execution_count": null,
   "metadata": {
    "hidden": true,
    "nbgrader": {
     "grade": true,
     "grade_id": "cell-ed344e364b694cd3",
     "locked": true,
     "points": 1,
     "schema_version": 1,
     "solution": false
    }
   },
   "outputs": [],
   "source": [
    "assert O.shape == (2,2), \"We expected a numpy ndarray of shape (2,2), You returned: \" + str(O.shape)"
   ]
  },
  {
   "cell_type": "code",
   "execution_count": null,
   "metadata": {
    "hidden": true,
    "nbgrader": {
     "grade": true,
     "grade_id": "cell-392214710b8a10d6",
     "locked": true,
     "points": 1,
     "schema_version": 1,
     "solution": false
    }
   },
   "outputs": [],
   "source": [
    "assert NO.shape == (2,2), \"We expected a numpy ndarray of shape (2,2), You returned: \" + str(NO.shape)"
   ]
  },
  {
   "cell_type": "markdown",
   "metadata": {
    "hidden": true,
    "nbgrader": {
     "grade": false,
     "grade_id": "cell-53ee89edc4b83d10",
     "locked": true,
     "schema_version": 1,
     "solution": false
    }
   },
   "source": [
    "#### Value Check"
   ]
  },
  {
   "cell_type": "code",
   "execution_count": null,
   "metadata": {
    "hidden": true,
    "nbgrader": {
     "grade": true,
     "grade_id": "cell-4b2c0d83983db4bc",
     "locked": true,
     "points": 2,
     "schema_version": 1,
     "solution": false
    }
   },
   "outputs": [],
   "source": [
    "assert (np.around(E, decimals=6) == np.around(expected_result['E'], decimals=6)).all(), \"Output value of E does not match expected output of function. \\\n",
    "You returned \" + str(E)"
   ]
  },
  {
   "cell_type": "code",
   "execution_count": null,
   "metadata": {
    "hidden": true,
    "nbgrader": {
     "grade": true,
     "grade_id": "cell-06f43138a7aad143",
     "locked": true,
     "points": 2,
     "schema_version": 1,
     "solution": false
    }
   },
   "outputs": [],
   "source": [
    "assert (np.around(NE, decimals=6) == np.around(expected_result['NE'], decimals=6)).all(), \"Output value of NE does not match expected output of function. \\\n",
    "You returned \" + str(NE)"
   ]
  },
  {
   "cell_type": "code",
   "execution_count": null,
   "metadata": {
    "hidden": true,
    "nbgrader": {
     "grade": true,
     "grade_id": "cell-01562f28301c3456",
     "locked": true,
     "points": 2,
     "schema_version": 1,
     "solution": false
    }
   },
   "outputs": [],
   "source": [
    "assert (np.around(Mean, decimals=6) == np.around(expected_result['Mean'], decimals=6)).all(), \"Output value of Mean does not match expected output of function. \\\n",
    "You returned \" + str(Mean)"
   ]
  },
  {
   "cell_type": "code",
   "execution_count": null,
   "metadata": {
    "hidden": true,
    "nbgrader": {
     "grade": true,
     "grade_id": "cell-b212f12198dafe42",
     "locked": true,
     "points": 2,
     "schema_version": 1,
     "solution": false
    }
   },
   "outputs": [],
   "source": [
    "assert (np.around(O, decimals=6) == np.around(expected_result['O'], decimals=6)).all(), \"Output value of O does not match expected output of function. \\\n",
    "You returned \" + str(O)"
   ]
  },
  {
   "cell_type": "code",
   "execution_count": null,
   "metadata": {
    "hidden": true,
    "nbgrader": {
     "grade": true,
     "grade_id": "cell-b15066de92200b2b",
     "locked": true,
     "points": 2,
     "schema_version": 1,
     "solution": false
    }
   },
   "outputs": [],
   "source": [
    "assert (np.around(NO, decimals=6) == np.around(expected_result['NO'], decimals=6)).all(), \"Output value of NO does not match expected output of function. \\\n",
    "You returned \" + str(NO)"
   ]
  },
  {
   "cell_type": "markdown",
   "metadata": {
    "hidden": true,
    "nbgrader": {
     "grade": false,
     "grade_id": "cell-0f5b64a8fd747578",
     "locked": true,
     "schema_version": 1,
     "solution": false
    }
   },
   "source": [
    "### Test 2"
   ]
  },
  {
   "cell_type": "code",
   "execution_count": null,
   "metadata": {
    "hidden": true,
    "nbgrader": {
     "grade": false,
     "grade_id": "cell-e30540b4f8e6e169",
     "locked": true,
     "schema_version": 1,
     "solution": false
    }
   },
   "outputs": [],
   "source": [
    "S = np.array([[ 2., -0.92050828, -0.90843676], [-0.92050828, 0.51012277, 0.60698693], [-0.90843676, 0.60698693, 0.82525735]])\n",
    "N = np.array([[2, 2, 1], [2, 2, 1], [1, 1, 1]])\n",
    "E, NE, Mean, O, NO = HW_func(S, N)\n",
    "\n",
    "expected_result = {'E': np.array([-0.92050828, -0.90843676]), 'NE': np.array([ 2.,  1.]), \n",
    "          'O': np.array([[0.51012277,  0.60698693], [0.60698693,  0.82525735]]), \n",
    "          'NO': np.array([[ 2.,  1.], [ 1.,  1.]]), 'Mean': np.array([-0.46025414, -0.90843676]) \n",
    "         }"
   ]
  },
  {
   "cell_type": "code",
   "execution_count": null,
   "metadata": {
    "hidden": true,
    "nbgrader": {
     "grade": true,
     "grade_id": "cell-b5cb04edde920047",
     "locked": true,
     "points": 2,
     "schema_version": 1,
     "solution": false
    }
   },
   "outputs": [],
   "source": [
    "assert (np.around(E, decimals=6) == np.around(expected_result['E'], decimals=6)).all(), \"Output value of E does not match expected output of function. \\\n",
    "You returned \" + str(E)"
   ]
  },
  {
   "cell_type": "code",
   "execution_count": null,
   "metadata": {
    "hidden": true,
    "nbgrader": {
     "grade": true,
     "grade_id": "cell-da520d738fa8ca5c",
     "locked": true,
     "points": 2,
     "schema_version": 1,
     "solution": false
    }
   },
   "outputs": [],
   "source": [
    "assert (np.around(NE, decimals=6) == np.around(expected_result['NE'], decimals=6)).all(), \"Output value of NE does not match expected output of function. \\\n",
    "You returned \" + str(NE)"
   ]
  },
  {
   "cell_type": "code",
   "execution_count": null,
   "metadata": {
    "hidden": true,
    "nbgrader": {
     "grade": true,
     "grade_id": "cell-9b3024f03c7744ad",
     "locked": true,
     "points": 2,
     "schema_version": 1,
     "solution": false
    }
   },
   "outputs": [],
   "source": [
    "assert (np.around(Mean, decimals=6) == np.around(expected_result['Mean'], decimals=6)).all(), \"Output value of Mean does not match expected output of function. \\\n",
    "You returned \" + str(Mean)"
   ]
  },
  {
   "cell_type": "code",
   "execution_count": null,
   "metadata": {
    "hidden": true,
    "nbgrader": {
     "grade": true,
     "grade_id": "cell-9f9bc32b2773230f",
     "locked": true,
     "points": 2,
     "schema_version": 1,
     "solution": false
    }
   },
   "outputs": [],
   "source": [
    "assert (np.around(O, decimals=6) == np.around(expected_result['O'], decimals=6)).all(), \"Output value of O does not match expected output of function. \\\n",
    "You returned \" + str(O)"
   ]
  },
  {
   "cell_type": "code",
   "execution_count": null,
   "metadata": {
    "hidden": true,
    "nbgrader": {
     "grade": true,
     "grade_id": "cell-1756e62d528953e4",
     "locked": true,
     "points": 2,
     "schema_version": 1,
     "solution": false
    }
   },
   "outputs": [],
   "source": [
    "assert (np.around(NO, decimals=6) == np.around(expected_result['NO'], decimals=6)).all(), \"Output value of NO does not match expected output of function. \\\n",
    "You returned \" + str(NO)"
   ]
  },
  {
   "cell_type": "markdown",
   "metadata": {
    "hidden": true,
    "nbgrader": {
     "grade": false,
     "grade_id": "cell-e663bb19126643f9",
     "locked": true,
     "schema_version": 1,
     "solution": false
    }
   },
   "source": [
    "### Hidden test 1"
   ]
  },
  {
   "cell_type": "code",
   "execution_count": null,
   "metadata": {
    "hidden": true,
    "nbgrader": {
     "grade": true,
     "grade_id": "cell-b9e2ecasd27c15fe977",
     "locked": true,
     "points": 2,
     "schema_version": 1,
     "solution": false
    }
   },
   "outputs": [],
   "source": [
    "# Hidden Tests here\n",
    "### BEGIN HIDDEN TESTS\n",
    "S = np.array([[ 2.        , -0.09496909, -0.04110087, -0.65640386],\n",
    " [-0.09496909,  0.00901913, -0.00895432,  0.01522043],\n",
    " [-0.04110087, -0.00895432,  0.02721979,  0.05205968],\n",
    " [-0.65640386,  0.01522043,  0.05205968,  0.27183717]])\n",
    "N = np.array([[2, 1, 2, 2],\n",
    "[1, 1, 1, 1],\n",
    "[2, 1, 2, 2],\n",
    "[2, 1, 2, 2]])\n",
    "\n",
    "E, NE, Mean, O, NO = HW_func(S, N)\n",
    "\n",
    "expected_result = {'E': np.array([-0.09496909, -0.04110087, -0.65640386]), \n",
    " 'NE': np.array([ 1.,  2.,  2.]), \n",
    " 'O': np.array([[ 0.00901913, -0.00895432,  0.01522043],\n",
    "       [-0.00895432,  0.02721979,  0.05205968],\n",
    "       [ 0.01522043,  0.05205968,  0.27183717]]), \n",
    " 'NO': np.array([[ 1.,  1.,  1.],\n",
    "       [ 1.,  2.,  2.],\n",
    "       [ 1.,  2.,  2.]]), \n",
    " 'Mean': np.array([-0.09496909, -0.02055043, -0.32820193])\n",
    "}\n",
    "\n",
    "assert (np.around(E, decimals=6) == np.around(expected_result['E'], decimals=6)).all(), \"Output value of E does not match expected output of function. \\\n",
    "You returned \" + str(E)\n",
    "### END HIDDEN TESTS"
   ]
  },
  {
   "cell_type": "code",
   "execution_count": null,
   "metadata": {
    "hidden": true,
    "nbgrader": {
     "grade": true,
     "grade_id": "cell-cfc7255aa397d4676d",
     "locked": true,
     "points": 2,
     "schema_version": 1,
     "solution": false
    }
   },
   "outputs": [],
   "source": [
    "# Hidden Tests here\n",
    "### BEGIN HIDDEN TESTS\n",
    "assert (np.around(NE, decimals=6) == np.around(expected_result['NE'], decimals=6)).all(), \"Output value of NE does not match expected output of function. \\\n",
    "You returned \" + str(NE)\n",
    "### END HIDDEN TESTS"
   ]
  },
  {
   "cell_type": "code",
   "execution_count": null,
   "metadata": {
    "hidden": true,
    "nbgrader": {
     "grade": true,
     "grade_id": "cell-4b7920a5dasba6a0fb",
     "locked": true,
     "points": 2,
     "schema_version": 1,
     "solution": false
    }
   },
   "outputs": [],
   "source": [
    "# Hidden Tests here\n",
    "### BEGIN HIDDEN TESTS\n",
    "assert (np.around(Mean, decimals=6) == np.around(expected_result['Mean'], decimals=6)).all(), \"Output value of Mean does not match expected output of function. \\\n",
    "You returned \" + str(Mean)\n",
    "### END HIDDEN TESTS"
   ]
  },
  {
   "cell_type": "code",
   "execution_count": null,
   "metadata": {
    "hidden": true,
    "nbgrader": {
     "grade": true,
     "grade_id": "cell-e054606sda1e89128cf",
     "locked": true,
     "points": 2,
     "schema_version": 1,
     "solution": false
    }
   },
   "outputs": [],
   "source": [
    "# Hidden Tests here\n",
    "### BEGIN HIDDEN TESTS\n",
    "assert (np.around(O, decimals=6) == np.around(expected_result['O'], decimals=6)).all(), \"Output value of O does not match expected output of function. \\\n",
    "You returned \" + str(O)\n",
    "### END HIDDEN TESTS"
   ]
  },
  {
   "cell_type": "code",
   "execution_count": null,
   "metadata": {
    "hidden": true,
    "nbgrader": {
     "grade": true,
     "grade_id": "cell-9e9371sa527fdd176d",
     "locked": true,
     "points": 2,
     "schema_version": 1,
     "solution": false
    }
   },
   "outputs": [],
   "source": [
    "# Hidden Tests here\n",
    "### BEGIN HIDDEN TESTS\n",
    "assert (np.around(NO, decimals=6) == np.around(expected_result['NO'], decimals=6)).all(), \"Output value of NO does not match expected output of function. \\\n",
    "You returned \" + str(NO)\n",
    "### END HIDDEN TESTS"
   ]
  },
  {
   "cell_type": "markdown",
   "metadata": {
    "hidden": true,
    "nbgrader": {
     "grade": false,
     "grade_id": "cell-7129e2588dd870b8",
     "locked": true,
     "schema_version": 1,
     "solution": false
    }
   },
   "source": [
    "### Hidden test 2"
   ]
  },
  {
   "cell_type": "code",
   "execution_count": null,
   "metadata": {
    "hidden": true,
    "nbgrader": {
     "grade": true,
     "grade_id": "cell-b9e2ec27c15fe977",
     "locked": true,
     "points": 2,
     "schema_version": 1,
     "solution": false
    }
   },
   "outputs": [],
   "source": [
    "# Hidden Tests here\n",
    "### BEGIN HIDDEN TESTS\n",
    "\n",
    "S = np.array([[ 2.        , -1.35991856,  0.90988301],\n",
    "[-1.35991856,  0.94750592, -0.71586785],\n",
    "[ 0.90988301, -0.71586785,  0.8278871 ]])\n",
    "\n",
    "N = np.array([[2, 2, 1], [2, 2, 1], [1, 1, 1]])\n",
    "\n",
    "E, NE, Mean, O, NO = HW_func(S, N)\n",
    "\n",
    "expected_result = {'E': np.array([-1.35991856,  0.90988301]), 'NE': np.array([ 2.,  1.]), \n",
    "                   'O': np.array([[ 0.94750592, -0.71586785], [-0.71586785,  0.8278871 ]]), \n",
    "                   'NO': np.array([[ 2.,  1.], [ 1.,  1.]]), 'Mean': np.array([-0.67995928,  0.90988301])\n",
    "                   }\n",
    "\n",
    "\n",
    "assert (np.around(E, decimals=6) == np.around(expected_result['E'], decimals=6)).all(), \"Output value of E does not match expected output of function. \\\n",
    "You returned \" + str(E)\n",
    "### END HIDDEN TESTS"
   ]
  },
  {
   "cell_type": "code",
   "execution_count": null,
   "metadata": {
    "hidden": true,
    "nbgrader": {
     "grade": true,
     "grade_id": "cell-cfc7255397d4676d",
     "locked": true,
     "points": 2,
     "schema_version": 1,
     "solution": false
    }
   },
   "outputs": [],
   "source": [
    "# Hidden Tests here\n",
    "### BEGIN HIDDEN TESTS\n",
    "assert (np.around(NE, decimals=6) == np.around(expected_result['NE'], decimals=6)).all(), \"Output value of NE does not match expected output of function. \\\n",
    "You returned \" + str(NE)\n",
    "### END HIDDEN TESTS"
   ]
  },
  {
   "cell_type": "code",
   "execution_count": null,
   "metadata": {
    "hidden": true,
    "nbgrader": {
     "grade": true,
     "grade_id": "cell-4b7920a5dba6a0fb",
     "locked": true,
     "points": 2,
     "schema_version": 1,
     "solution": false
    }
   },
   "outputs": [],
   "source": [
    "# Hidden Tests here\n",
    "### BEGIN HIDDEN TESTS\n",
    "assert (np.around(Mean, decimals=6) == np.around(expected_result['Mean'], decimals=6)).all(), \"Output value of Mean does not match expected output of function. \\\n",
    "You returned \" + str(Mean)\n",
    "### END HIDDEN TESTS"
   ]
  },
  {
   "cell_type": "code",
   "execution_count": null,
   "metadata": {
    "hidden": true,
    "nbgrader": {
     "grade": true,
     "grade_id": "cell-e0546061e89128cf",
     "locked": true,
     "points": 2,
     "schema_version": 1,
     "solution": false
    }
   },
   "outputs": [],
   "source": [
    "# Hidden Tests here\n",
    "### BEGIN HIDDEN TESTS\n",
    "assert (np.around(O, decimals=6) == np.around(expected_result['O'], decimals=6)).all(), \"Output value of O does not match expected output of function. \\\n",
    "You returned \" + str(O)\n",
    "### END HIDDEN TESTS"
   ]
  },
  {
   "cell_type": "code",
   "execution_count": null,
   "metadata": {
    "hidden": true,
    "nbgrader": {
     "grade": true,
     "grade_id": "cell-9e9371527fdd176d",
     "locked": true,
     "points": 2,
     "schema_version": 1,
     "solution": false
    }
   },
   "outputs": [],
   "source": [
    "# Hidden Tests here\n",
    "### BEGIN HIDDEN TESTS\n",
    "assert (np.around(NO, decimals=6) == np.around(expected_result['NO'], decimals=6)).all(), \"Output value of NO does not match expected output of function. \\\n",
    "You returned \" + str(NO)\n",
    "### END HIDDEN TESTS"
   ]
  },
  {
   "cell_type": "markdown",
   "metadata": {
    "heading_collapsed": true,
    "nbgrader": {
     "grade": false,
     "grade_id": "cell-995ee0aaf1ac9d523",
     "locked": true,
     "schema_version": 1,
     "solution": false
    }
   },
   "source": [
    "# Covariance, Eigen values and Eigen Vectors"
   ]
  },
  {
   "cell_type": "markdown",
   "metadata": {
    "heading_collapsed": true,
    "hidden": true,
    "nbgrader": {
     "grade": false,
     "grade_id": "cell-3731d65c121518d2",
     "locked": true,
     "schema_version": 1,
     "solution": false
    }
   },
   "source": [
    "## computeCov"
   ]
  },
  {
   "cell_type": "markdown",
   "metadata": {
    "heading_collapsed": true,
    "hidden": true,
    "nbgrader": {
     "grade": false,
     "grade_id": "cell-505e5dfd5e2",
     "locked": true,
     "schema_version": 1,
     "solution": false
    }
   },
   "source": [
    "### Description\n",
    "\n",
    "The function <font color=\"blue\">computeCov</font> calls the <font color=\"blue\">HW_func</font> and uses the values returned to compute covariance.\n",
    "\n",
    "**Input**: RDD containing a set of numpy arrays (vectors), all of the same length.\n",
    "\n",
    "**Output**: This returns a dictionary containing the E, NE, O, NO and Mean computed by the <font color=\"blue\">HW_func</font> along with the variance(Var) and covariance(Cov) matrix computed for that set of vectors.\n",
    "\n",
    "You are not expected to change this function. This is only for understanding how the values computed in the <font color=\"blue\">HW_func</font> contribute to the computation of the covariance matrix."
   ]
  },
  {
   "cell_type": "code",
   "execution_count": null,
   "metadata": {
    "hidden": true,
    "nbgrader": {
     "grade": false,
     "grade_id": "cell-f6a3f493add2658c9a",
     "locked": true,
     "schema_version": 1,
     "solution": false
    }
   },
   "outputs": [],
   "source": [
    "def computeCov(RDDin):\n",
    "    \"\"\"\n",
    "    computeCov receives as input an RDD of np arrays, all of the same length, \n",
    "    and computes the covariance matrix for that set of vectors\n",
    "    \"\"\"\n",
    "    RDD=RDDin.map(lambda v:np.array(np.insert(v,0,1),dtype=np.float64))\n",
    "    # insert a 1 at the beginning of each vector so that the same \n",
    "    # calculation also yields the mean vector\n",
    "    OuterRDD=RDD.map(outerProduct)   # separating map and reduce does not matter because of Spark's lazy execution\n",
    "    (S,N)=OuterRDD.reduce(sumWithNan)\n",
    "    E,NE,Mean,O,NO=HW_func(S,N)\n",
    "    Cov=O/NO - np.outer(Mean,Mean)\n",
    "    # Output also the diagnal which is the variance for each day\n",
    "    Var=np.array([Cov[i,i] for i in range(Cov.shape[0])])\n",
    "    return {'E':E,'NE':NE,'O':O,'NO':NO,'Cov':Cov,'Mean':Mean,'Var':Var}"
   ]
  },
  {
   "cell_type": "markdown",
   "metadata": {
    "heading_collapsed": true,
    "hidden": true,
    "nbgrader": {
     "grade": false,
     "grade_id": "cell-008022df5f304041",
     "locked": true,
     "schema_version": 1,
     "solution": false
    }
   },
   "source": [
    "## The process function"
   ]
  },
  {
   "cell_type": "markdown",
   "metadata": {
    "heading_collapsed": true,
    "hidden": true,
    "nbgrader": {
     "grade": false,
     "grade_id": "cell-505e5d5e2",
     "locked": true,
     "schema_version": 1,
     "solution": false
    }
   },
   "source": [
    "### Description\n",
    "\n",
    "The function <font color=\"blue\">process</font> calls the <font color=\"blue\">computeCov</font> and uses the covariance matrix returned to compute the Eigen Values and Eigen Vectors.\n",
    "\n",
    "**Input**: A list of numpy arrays (vectors), all of the same length.\n",
    "\n",
    "**Output**: This returns the Eigen value and Eigen Vector matrix for the given set of vectors.\n",
    "\n",
    "You are not expected to change this function. This is only for understanding how the values computed in the <font color=\"blue\">HW_func</font> contribute to the computation of the covariance matrix and consequently the Eigen Values and Eigen Vectors."
   ]
  },
  {
   "cell_type": "code",
   "execution_count": null,
   "metadata": {
    "hidden": true,
    "nbgrader": {
     "grade": false,
     "grade_id": "cell-34e4egs367768c1e35",
     "locked": true,
     "schema_version": 1,
     "solution": false
    },
    "scrolled": true
   },
   "outputs": [],
   "source": [
    "def process(data_list):\n",
    "    # compute covariance matrix\n",
    "    RDD=sc.parallelize(data_list)\n",
    "    OUT=computeCov(RDD)\n",
    "    #find PCA decomposition\n",
    "    eigval,eigvec=LA.eig(OUT['Cov'])\n",
    "    return eigval, eigvec"
   ]
  },
  {
   "cell_type": "markdown",
   "metadata": {
    "heading_collapsed": true,
    "hidden": true
   },
   "source": [
    "### Tests"
   ]
  },
  {
   "cell_type": "code",
   "execution_count": null,
   "metadata": {
    "hidden": true,
    "nbgrader": {
     "grade": true,
     "grade_id": "cell-e565497202gs6a311c",
     "locked": true,
     "points": 10,
     "schema_version": 1,
     "solution": false
    }
   },
   "outputs": [],
   "source": [
    "data_list = ([np.array([ -1.43475066e-03,   1.52970999e+00]), np.array([ 0.24696509, -1.56099945])])\n",
    "eigval, eigvec = process(data_list)\n",
    "expected_result = {'eigval': np.array([0., 2.40354683]), \n",
    "                   'eigvec': np.array([[-0.99678591, 0.08011153], [-0.08011153, -0.99678591]])\n",
    "                  }\n",
    "\n",
    "assert (np.around(eigval, decimals=6) == np.around(expected_result['eigval'], decimals=6)).all(), \"Output value \\\n",
    "of eigval does not match expected output of function. You returned \" + str(eigval)\n",
    "\n",
    "assert (np.around(eigvec, decimals=6) == np.around(expected_result['eigvec'], decimals=6)).all(), \"Output value \\\n",
    "of eigvec does not match expected output of function. You returned \" + str(eigvec)"
   ]
  },
  {
   "cell_type": "code",
   "execution_count": null,
   "metadata": {
    "hidden": true,
    "nbgrader": {
     "grade": true,
     "grade_id": "cell-8b06fbd00c43d5e71",
     "locked": true,
     "points": 10,
     "schema_version": 1,
     "solution": false
    }
   },
   "outputs": [],
   "source": [
    "data_list = ([np.array([-0.25234187,         np.nan]), np.array([-0.66816641, -0.90843676])])\n",
    "eigval, eigvec = process(data_list)\n",
    "expected_result = {'eigval': np.array([ 0.21172155, -0.16849404]), \n",
    "                   'eigvec': np.array([[ 0.74622118, -0.66569809], [ 0.66569809,  0.74622118]])\n",
    "                  }\n",
    "assert (np.around(eigval, decimals=6) == np.around(expected_result['eigval'], decimals=6)).all(), \"Output value \\\n",
    "of eigval does not match expected output of function. You returned \" + str(eigval)\n",
    "\n",
    "assert (np.around(eigvec, decimals=6) == np.around(expected_result['eigvec'], decimals=6)).all(), \"Output value \\\n",
    "of eigvec does not match expected output of function. You returned \" + str(eigvec)"
   ]
  },
  {
   "cell_type": "code",
   "execution_count": null,
   "metadata": {
    "hidden": true,
    "nbgrader": {
     "grade": true,
     "grade_id": "cell-2b61289e9c2748e5c",
     "locked": true,
     "points": 10,
     "schema_version": 1,
     "solution": false
    }
   },
   "outputs": [],
   "source": [
    "#Hidden Tests here\n",
    "### BEGIN HIDDEN TESTS\n",
    "data_list = [np.array([-0.09496909,  0.09428672, -0.16026719]), np.array([ np.nan, -0.13538759, -0.49613667])]\n",
    "eigval, eigvec = process(data_list)\n",
    "expected_result = {'eigval': np.array([4.90069129e-02, -7.61726349e-03, 1.17502758e-17]), \n",
    "                   'eigvec': np.array([[-3.66773999e-01, 9.30310074e-01, 8.89360856e-16], \n",
    "                                       [5.25126921e-01, 2.07030866e-01, -8.25457411e-01], \n",
    "                                       [7.67931345e-01, 3.02756315e-01, 5.64464404e-01]])\n",
    "                  }\n",
    "\n",
    "assert (np.around(eigval, decimals=6) == np.around(expected_result['eigval'], decimals=6)).all(), \"Output value \\\n",
    "of eigval does not match expected output of function. You returned \" + str(eigval)\n",
    "\n",
    "assert (np.around(eigvec, decimals=6) == np.around(expected_result['eigvec'], decimals=6)).all(), \"Output value \\\n",
    "of eigvec does not match expected output of function. You returned \" + str(eigvec)\n",
    "### END HIDDEN TESTS"
   ]
  },
  {
   "cell_type": "code",
   "execution_count": null,
   "metadata": {
    "hidden": true,
    "nbgrader": {
     "grade": true,
     "grade_id": "cell-c9a9c526fc4e6484d",
     "locked": true,
     "points": 10,
     "schema_version": 1,
     "solution": false
    }
   },
   "outputs": [],
   "source": [
    "#Hidden Tests here\n",
    "### BEGIN HIDDEN TESTS\n",
    "data_list = [np.array([-0.78676911,  0.90988301]), np.array([-0.57314945,         np.nan])]\n",
    "eigval, eigvec = process(data_list)\n",
    "expected_result = {'eigval': np.array([ 0.10305588, -0.09164754]), \n",
    "                   'eigvec': np.array([[ 0.72752781,  0.68607819], [-0.68607819,  0.72752781]])\n",
    "                  }\n",
    "assert (np.around(eigval, decimals=6) == np.around(expected_result['eigval'], decimals=6)).all(), \"Output value \\\n",
    "of eigval does not match expected output of function. You returned \" + str(eigval)\n",
    "\n",
    "assert (np.around(eigvec, decimals=6) == np.around(expected_result['eigvec'], decimals=6)).all(), \"Output value \\\n",
    "of eigvec does not match expected output of function. You returned \" + str(eigvec)\n",
    "### END HIDDEN TESTS"
   ]
  },
  {
   "cell_type": "markdown",
   "metadata": {
    "heading_collapsed": true
   },
   "source": [
    "# Submission Instructions\n",
    "\n",
    "1. Validate your submission by submitting your assignment on **\"Homework 3 Test Submission\"** under **\"Week 3\"** on edX. This is worth 10 points.\n",
    "2. Submit the final copy of your assignment on **\"Homework 3 Final Submission\"** under **\"Week 3\"** on edX. This will be evaluated for visible and hidden tests and is worth 90 points.\n"
   ]
  }
 ],
 "metadata": {
  "anaconda-cloud": {},
  "celltoolbar": "Create Assignment",
  "hide_input": false,
  "kernelspec": {
   "display_name": "Python 3",
   "language": "python",
   "name": "python3"
  },
  "language_info": {
   "codemirror_mode": {
    "name": "ipython",
    "version": 3
   },
   "file_extension": ".py",
   "mimetype": "text/x-python",
   "name": "python",
   "nbconvert_exporter": "python",
   "pygments_lexer": "ipython3",
   "version": "3.6.3"
  },
  "name": "PCA_using_numpy for HW3",
  "notebookId": 85286,
  "toc": {
   "base_numbering": 1,
   "nav_menu": {
    "height": "116px",
    "width": "252px"
   },
   "number_sections": true,
   "sideBar": true,
   "skip_h1_title": false,
   "title_cell": "Table of Contents",
   "title_sidebar": "Contents",
   "toc_cell": false,
   "toc_position": {
    "height": "calc(100% - 180px)",
    "left": "10px",
    "top": "150px",
    "width": "273px"
   },
   "toc_section_display": "block",
   "toc_window_display": true
  },
  "varInspector": {
   "cols": {
    "lenName": 16,
    "lenType": 16,
    "lenVar": 40
   },
   "kernels_config": {
    "python": {
     "delete_cmd_postfix": "",
     "delete_cmd_prefix": "del ",
     "library": "var_list.py",
     "varRefreshCmd": "print(var_dic_list())"
    },
    "r": {
     "delete_cmd_postfix": ") ",
     "delete_cmd_prefix": "rm(",
     "library": "var_list.r",
     "varRefreshCmd": "cat(var_dic_list()) "
    }
   },
   "types_to_exclude": [
    "module",
    "function",
    "builtin_function_or_method",
    "instance",
    "_Feature"
   ],
   "window_display": false
  }
 },
 "nbformat": 4,
 "nbformat_minor": 1
}
