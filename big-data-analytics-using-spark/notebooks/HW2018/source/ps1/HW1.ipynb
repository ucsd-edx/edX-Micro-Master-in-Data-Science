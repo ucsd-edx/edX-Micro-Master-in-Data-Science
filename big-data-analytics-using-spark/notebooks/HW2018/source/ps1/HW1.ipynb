{
 "cells": [
  {
   "cell_type": "code",
   "execution_count": 1,
   "metadata": {
    "collapsed": true
   },
   "outputs": [],
   "source": [
    "from pyspark import SparkContext, SparkConf"
   ]
  },
  {
   "cell_type": "code",
   "execution_count": 2,
   "metadata": {
    "collapsed": true
   },
   "outputs": [],
   "source": [
    "conf = SparkConf().setAppName(\"Collinear Points\").setMaster(\"local[4]\")\n",
    "sc = SparkContext(conf=conf)"
   ]
  },
  {
   "cell_type": "code",
   "execution_count": 3,
   "metadata": {
    "collapsed": true
   },
   "outputs": [],
   "source": [
    "rdd = sc.textFile(\"data.txt\")"
   ]
  },
  {
   "cell_type": "code",
   "execution_count": 4,
   "metadata": {
    "collapsed": true
   },
   "outputs": [],
   "source": [
    "def func(x):\n",
    "    arr = x.split()\n",
    "    return tuple([int(el) for el in arr])\n",
    "\n",
    "def filt(x):\n",
    "    print(x)\n",
    "    return x[0] != x[1]\n",
    "\n",
    "def findslope(x):\n",
    "    if x[1][0] - x[0][0] == 0:\n",
    "        slope = \"inf\"\n",
    "    else:\n",
    "        slope = 1.0 * (x[1][1] - x[0][1])/(x[1][0] - x[0][0])\n",
    "    return ((x[0], slope), (x[1]))\n",
    "\n",
    "def returnpoints(x):\n",
    "#     print(x[0])\n",
    "    x[1].append(x[0][0])\n",
    "    arr = sorted(x[1])\n",
    "    return tuple(arr)\n",
    "#     return list(x[1]).append(x[0][0])\n",
    "\n",
    "def removedups(x, y):\n",
    "    return set((x,y))\n",
    "\n",
    "def get_collinear():\n",
    "    rdd1 = rdd.map(func)\n",
    "    rdd1 = rdd1.cartesian(rdd1)\n",
    "    rdd1 = rdd1.filter(filt).map(findslope).groupByKey().mapValues(list).filter(lambda x: len(x[1]) > 1)\n",
    "    rdd1 = rdd1.map(returnpoints)\n",
    "    res = set(rdd1.collect())\n",
    "    #res = rdd1.collect()\n",
    "    return res"
   ]
  },
  {
   "cell_type": "code",
   "execution_count": 5,
   "metadata": {
    "collapsed": true
   },
   "outputs": [],
   "source": [
    "res = get_collinear()"
   ]
  }
 ],
 "metadata": {
  "kernelspec": {
   "display_name": "Python 2",
   "language": "python",
   "name": "python2"
  },
  "language_info": {
   "codemirror_mode": {
    "name": "ipython",
    "version": 2
   },
   "file_extension": ".py",
   "mimetype": "text/x-python",
   "name": "python",
   "nbconvert_exporter": "python",
   "pygments_lexer": "ipython2",
   "version": "2.7.13"
  }
 },
 "nbformat": 4,
 "nbformat_minor": 2
}
