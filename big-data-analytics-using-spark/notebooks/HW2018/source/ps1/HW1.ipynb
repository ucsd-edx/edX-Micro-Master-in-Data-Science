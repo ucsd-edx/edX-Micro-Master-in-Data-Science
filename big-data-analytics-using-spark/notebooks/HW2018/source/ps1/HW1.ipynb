{
 "cells": [
  {
   "cell_type": "code",
   "execution_count": 2,
   "metadata": {},
   "outputs": [],
   "source": [
    "from pyspark import SparkContext, SparkConf"
   ]
  },
  {
   "cell_type": "code",
   "execution_count": 5,
   "metadata": {},
   "outputs": [],
   "source": [
    "conf = SparkConf().setAppName(\"Collinear Points\").setMaster(\"local[4]\")\n",
    "sc = SparkContext(conf=conf)"
   ]
  },
  {
   "cell_type": "code",
   "execution_count": 144,
   "metadata": {},
   "outputs": [],
   "source": [
    "rdd = sc.textFile(\"cse255/data.txt\")"
   ]
  },
  {
   "cell_type": "code",
   "execution_count": 145,
   "metadata": {},
   "outputs": [],
   "source": [
    "def func(x):\n",
    "    arr = x.split()\n",
    "    return tuple([int(el) for el in arr])\n",
    "\n",
    "def filt(x):\n",
    "    print(x)\n",
    "    return x[0] != x[1]\n",
    "\n",
    "def findslope(x):\n",
    "    if x[1][0] - x[0][0] == 0:\n",
    "        slope = \"inf\"\n",
    "    else:\n",
    "        slope = (x[1][1] - x[0][1])/(x[1][0] - x[0][0])\n",
    "    return ((x[0], slope), (x[1]))\n",
    "\n",
    "def returnpoints(x):\n",
    "#     print(x[0])\n",
    "    x[1].append(x[0][0])\n",
    "    arr = sorted(x[1])\n",
    "    return tuple(arr)\n",
    "#     return list(x[1]).append(x[0][0])\n",
    "\n",
    "def removedups(x, y):\n",
    "    return set((x,y))\n",
    "\n",
    "def get_collinear():\n",
    "    rdd1 = rdd.map(func)\n",
    "    rdd1 = rdd1.cartesian(rdd1)\n",
    "    rdd1 = rdd1.filter(filt).map(findslope).groupByKey().mapValues(list).filter(lambda x: len(x[1]) > 1)\n",
    "    rdd1 = rdd1.map(returnpoints)\n",
    "    res = set(rdd1.collect())\n",
    "    return res"
   ]
  },
  {
   "cell_type": "code",
   "execution_count": 146,
   "metadata": {},
   "outputs": [
    {
     "data": {
      "text/plain": [
       "{((-2, -2), (1, 1), (2, 2), (3, 3)),\n",
       " ((0, -3), (0, 1), (0, 5)),\n",
       " ((0, 1), (3, 4), (5, 6))}"
      ]
     },
     "execution_count": 146,
     "metadata": {},
     "output_type": "execute_result"
    }
   ],
   "source": [
    "res"
   ]
  },
  {
   "cell_type": "code",
   "execution_count": 148,
   "metadata": {},
   "outputs": [
    {
     "data": {
      "text/plain": [
       "True"
      ]
     },
     "execution_count": 148,
     "metadata": {},
     "output_type": "execute_result"
    }
   ],
   "source": [
    "res == {((-2, -2), (1, 1), (2, 2), (3, 3)),\n",
    " ((0, -3), (0, 1), (0, 5)),\n",
    " ((0, 1), (3, 4), (5, 6))}"
   ]
  },
  {
   "cell_type": "code",
   "execution_count": null,
   "metadata": {},
   "outputs": [],
   "source": []
  }
 ],
 "metadata": {
  "kernelspec": {
   "display_name": "Python 3",
   "language": "python",
   "name": "python3"
  },
  "language_info": {
   "codemirror_mode": {
    "name": "ipython",
    "version": 3
   },
   "file_extension": ".py",
   "mimetype": "text/x-python",
   "name": "python",
   "nbconvert_exporter": "python",
   "pygments_lexer": "ipython3",
   "version": "3.6.4"
  }
 },
 "nbformat": 4,
 "nbformat_minor": 2
}
