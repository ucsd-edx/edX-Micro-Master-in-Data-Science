{
 "cells": [
  {
   "cell_type": "markdown",
   "metadata": {
    "nbgrader": {
     "grade": false,
     "grade_id": "cell-601b4a206f8f71fd",
     "locked": true,
     "schema_version": 1,
     "solution": false
    }
   },
   "source": [
    "# CSE 255 Programming Assignment 1: Collinear points\n",
    "\n",
    "For this programming assignment, we'll be using a Jupyter notebook."
   ]
  },
  {
   "cell_type": "markdown",
   "metadata": {},
   "source": [
    "## Background"
   ]
  },
  {
   "cell_type": "markdown",
   "metadata": {
    "nbgrader": {
     "grade": false,
     "grade_id": "cell-1f0aaa1b0eeb62ff",
     "locked": true,
     "schema_version": 1,
     "solution": false
    }
   },
   "source": [
    "### In this programming assignment, you will write python3 code using pyspark to find sets of collinear points given arbitrary number of 2D points.\n",
    "\n",
    "Definition of collinearity[1]: In geometry, collinearity of a set of points is the property of their lying on a single line. A set of points with this property is said to be collinear.\n",
    "\n",
    "![](non-collinear-points.jpg)\n",
    "\n",
    "Here, points P,Q,R and A,R,B are collinear. However, points A,B,C are non-collinear. For more, refer [2].\n",
    "\n",
    "1. https://en.wikipedia.org/wiki/Collinearity\n",
    "2. http://www.mathcaptain.com/geometry/collinear-points.html"
   ]
  },
  {
   "cell_type": "markdown",
   "metadata": {
    "nbgrader": {
     "grade": false,
     "grade_id": "cell-888539157720ea6e",
     "locked": true,
     "schema_version": 1,
     "solution": false
    }
   },
   "source": [
    "### Parametrizing lines\n",
    "In order to determine whether a set of points all lie on the same line we need a standard way to define (or parametrize) a line.\n",
    "\n",
    "* One way of defining a line is as the set of points $(x,y)$ such that $y=ax+b$ for some fixed real values $a,b$.\n",
    "* We call $a$ the **slope** of the line and $b$ is the $y$-intercept which is defined as the value of $y$ when $x=0$.\n",
    "* This parameterization works for *almost* all lines. It does not work for vertical lines. For those lines we define $a$ to be **infinity** and $b$ to be the $x$ intercept of the line (the line is parallel to the $y$ axis so it does not intercept the $y$ axis (other than if it is the vertical line going through the origin).\n",
    "\n",
    "To summarize, given two different points $(x_1,y_1) \\neq (x_2,y_2)$, we define the parameterization $(a,b)$ as:\n",
    "* **if $x_1=x_2$: ** $(\\mbox{Inf},x_1)$ \n",
    "* **Else:** $(a,b)$ such that $y_1=a x_1 +b$ and $y_2=a x_2 +b$.\n"
   ]
  },
  {
   "cell_type": "markdown",
   "metadata": {
    "nbgrader": {
     "grade": false,
     "grade_id": "cell-a2b044c997c9d772",
     "locked": true,
     "schema_version": 1,
     "solution": false
    }
   },
   "source": [
    "## Task\n",
    "\n",
    "Given an input file with a set of co-ordinates, your task is to use pyspark library functions to write a program to find if three or more points are collinear.\n",
    "\n",
    "For instance, if given these points: {(1,1), (0,1), (2,2), (3,3), (0,5), (3,4), (5,6), (0,-3), (-2,-2)}\n",
    "\n",
    "Sets of collinear points are: {((-2,-2), (1,1), (2,2), (3,3)), ((0,1), (3,4), (5,6)), ((0,-3), (0,1), (0,5))}. Note that the ordering of the points in a set or the order of the sets does not matter. \n",
    "\n",
    "Note: \n",
    "<ul>\n",
    "  <li>Every set of collinear points has to have <b>at least three points</b> (any pair of points lie on a line).</li>\n",
    "  <li>There are two types of test cases:\n",
    "      <ul>\n",
    "      <li><b>Visible Test cases</b>: Test cases given to you as a part of the notebook. These tests will help you validate your program and figure out bugs in it if any.</li>\n",
    "      <li><b>Hidden Test cases</b>: Test cases that are not given as a part of the notebook, but will be used for grading. <br>Cells in this notebook that have \"<i>##Hidden test cases here</i>\" are read-only cells containing hidden tests.</li>\n",
    "      </ul>\n",
    "  </li>\n",
    "</ul>"
   ]
  },
  {
   "cell_type": "markdown",
   "metadata": {
    "nbgrader": {
     "grade": false,
     "grade_id": "cell-fe6e364179611469",
     "locked": true,
     "schema_version": 1,
     "solution": false
    }
   },
   "source": [
    "### Initialize spark context using 4 local cores as workers.\n",
    "Note that we can create a SparkConf() object and use it to initialize the spark context. "
   ]
  },
  {
   "cell_type": "code",
   "execution_count": 1,
   "metadata": {
    "cell_style": "center",
    "hide_input": false,
    "nbgrader": {
     "grade": false,
     "grade_id": "cell-5f266efcf9bf6846",
     "locked": true,
     "schema_version": 1,
     "solution": false
    }
   },
   "outputs": [],
   "source": [
    "from pyspark import SparkContext, SparkConf\n",
    "conf = SparkConf().setAppName(\"Collinear Points\").setMaster(\"local[4]\")\n",
    "sc = SparkContext(conf=conf)\n",
    "\n",
    "from pyspark.rdd import RDD"
   ]
  },
  {
   "cell_type": "markdown",
   "metadata": {
    "nbgrader": {
     "grade": false,
     "grade_id": "cell-311d3abd841773a7",
     "locked": true,
     "schema_version": 1,
     "solution": false
    }
   },
   "source": [
    "### Description of the Approach\n",
    "\n",
    "The goal of this assignment is to make you familiar with programming using pyspark. There are many ways to find sets of collinear points from a list of points. For the purposes of this assignment, we shall stick with the below approach:\n",
    "\n",
    "1. List all pairs of points. You can do that efficiently in spark by computing cartesian product of the list of points with itself. For example, given three points $[(1,0), (2,0), (3,0)]$, we construct a list of nine pairs  \n",
    "$[((1,0),(1,0)),((1,0), (2,0)),((1,0),(3,0))$  \n",
    "$((2,0),(1,0)),((2,0), (2,0)),((2,0),(3,0))$  \n",
    "$((3,0),(1,0)),((3,0), (2,0)),((3,0),(3,0))]$  \n",
    "\n",
    "2. Remove the pairs in which the same point appears twice such as $((2,0),(2,0))$. Also, note that each pair of points appears twice, for example $((1,0),(3,0))$ and $((3,0),(1,0)$. Remove one of these pairs. **Hint:** a good way to do that is to define an ordering of points (for example: compare the $x$ values and if those are equal: compare the $y$ values. After these elimination you end up (for this example) with a list of just three pairs:  \n",
    "$[((3,0),(1,0)),((3,0), (2,0)),((1,0),(2,0))]$\n",
    "\n",
    "2. Convince yourself that if you start with $n$ different points, you end up with $\\frac{n(n-1)}{2}$ pairs.\n",
    "\n",
    "2. For each pair of points, find the parameterization $(a,b)$ of the line connecting them as described above.\n",
    "\n",
    "3. Group the pairs according to their parameters. Clearly, if two pairs have the same $(a,b)$ values, all points in the two pairs lie on the same line.\n",
    "\n",
    "3. Eliminate the groups that contain only one pair (any pair of points defines a line).\n",
    "4. In each of the remaining groups, unpack the point-pairs to identify the individual points.\n",
    "Note that if a set of points $(x_1,y_1),\\ldots,(x_k,y_k)$ lie on the same line then each point will appear $k-1$ times in the list of point-pairs. You therefore need to transform the list of points into sets to remove duplicates.\n",
    "\n",
    "5. Output the sets of 3 or more colinear points.\n",
    "\n",
    "Your task is to implement the described algorithm in Spark. You should use RDD's all the way through and collect the results into the driver only at the end."
   ]
  },
  {
   "cell_type": "markdown",
   "metadata": {
    "nbgrader": {
     "grade": false,
     "grade_id": "cell-773a47aa41687e4f",
     "locked": true,
     "schema_version": 1,
     "solution": false
    }
   },
   "source": [
    "### Below are some helper functions that you are encouraged to use in your implementations. Do not change these functions"
   ]
  },
  {
   "cell_type": "markdown",
   "metadata": {
    "nbgrader": {
     "grade": false,
     "grade_id": "cell-49ad662071f3985a",
     "locked": true,
     "schema_version": 1,
     "solution": false
    }
   },
   "source": [
    "The function <font color=\"blue\">format_result</font> takes an element of the form shown below in the example. It outputs a tuple of all points that are collinear (shown below).\n",
    "\n",
    "Input: ((A,slope), [C1,..., Ck]) where each of A, C1, ..., Ck is a point of form (Ax, Ay) and slope is of type float.\n",
    "\n",
    "**<font color=\"magenta\" size=2>Example Code</font>**\n",
    "``` python\n",
    "my_input = (((2, 1), 0.5), [(4, 2), (6, 3)]) \n",
    "format_result(my_input)\n",
    "```\n",
    "Output: (C1,..., Ck, A) each of A,C1,...,Ck is a point of form (Ax, Ay)\n",
    "\n",
    "**<font color=\"blue\" size=2>Example Output</font>**\n",
    "``` python\n",
    "((4, 2), (6, 3), (2, 1))\n",
    "```\n",
    "\n",
    "<font color=\"red\">**Hint : **</font> The above example is given just to provide the input and output format. This function is called a different way in the spark exercise.\n"
   ]
  },
  {
   "cell_type": "code",
   "execution_count": 2,
   "metadata": {
    "code_folding": [],
    "nbgrader": {
     "grade": false,
     "grade_id": "format_result",
     "locked": true,
     "schema_version": 1,
     "solution": false
    }
   },
   "outputs": [],
   "source": [
    "def format_result(x):\n",
    "    x[1].append(x[0][0])\n",
    "    return tuple(x[1])"
   ]
  },
  {
   "cell_type": "code",
   "execution_count": null,
   "metadata": {
    "nbgrader": {
     "grade": false,
     "grade_id": "cell-75c0eeb264968b58",
     "locked": true,
     "schema_version": 1,
     "solution": false
    }
   },
   "outputs": [],
   "source": [
    "def to_sorted_points(x):\n",
    "    \"\"\"\n",
    "    Sorts and returns a tuple of points for further processing.\n",
    "    \"\"\"\n",
    "    return tuple(sorted(x))"
   ]
  },
  {
   "cell_type": "markdown",
   "metadata": {
    "nbgrader": {
     "grade": false,
     "grade_id": "cell-3c6a770a06a0457a",
     "locked": true,
     "schema_version": 1,
     "solution": false
    }
   },
   "source": [
    "## Below are some functions that you will implement. You should follow the function definitions, and use them appropriately elsewhere in the notebook."
   ]
  },
  {
   "cell_type": "markdown",
   "metadata": {
    "nbgrader": {
     "grade": false,
     "grade_id": "cell-d7c137c5428c4ccb",
     "locked": true,
     "schema_version": 1,
     "solution": false
    }
   },
   "source": [
    "### To_tuple"
   ]
  },
  {
   "cell_type": "markdown",
   "metadata": {
    "nbgrader": {
     "grade": false,
     "grade_id": "cell-505e6159d7dfd5e1",
     "locked": true,
     "schema_version": 1,
     "solution": false
    }
   },
   "source": [
    "#### Example\n",
    "The function <font color=\"blue\">to_tuple</font> converts each point of form 'Ax Ay' into a point of form (Ax, Ay) for further processing.\n",
    "\n",
    "**<font color=\"magenta\" size=2>Example Code</font>**\n",
    "``` python\n",
    "my_input = '2 3'\n",
    "to_tuple(my_input)\n",
    "```\n",
    "\n",
    "**<font color=\"blue\" size=2>Example Output</font>**\n",
    "``` python\n",
    "(2, 3)\n",
    "```\n",
    "\n",
    "<font color=\"red\">**Hint : **</font> The above example is given just to provide the input and output format. This function is called a different way in the spark exercise.\n"
   ]
  },
  {
   "cell_type": "markdown",
   "metadata": {},
   "source": [
    "#### Definition"
   ]
  },
  {
   "cell_type": "code",
   "execution_count": null,
   "metadata": {
    "nbgrader": {
     "grade": false,
     "grade_id": "to_tuple",
     "locked": false,
     "schema_version": 1,
     "solution": true
    }
   },
   "outputs": [],
   "source": [
    "## Insert your answer in this cell. DO NOT CHANGE THE NAME OF THE FUNCTION.\n",
    "def to_tuple(x):\n",
    "    ### BEGIN SOLUTION\n",
    "    arr = x.split()\n",
    "    return tuple([int(element) for element in arr])\n",
    "    ### END SOLUTION"
   ]
  },
  {
   "cell_type": "markdown",
   "metadata": {
    "nbgrader": {
     "grade": false,
     "grade_id": "cell-ba456fcfa242bc50",
     "locked": true,
     "schema_version": 1,
     "solution": false
    }
   },
   "source": [
    "#### Unit Tests"
   ]
  },
  {
   "cell_type": "code",
   "execution_count": 6,
   "metadata": {
    "nbgrader": {
     "grade": true,
     "grade_id": "to_tuple_test1",
     "locked": true,
     "points": 1,
     "schema_version": 1,
     "solution": false
    }
   },
   "outputs": [],
   "source": [
    "assert type(to_tuple('1 1')) == tuple, \"Incorrect type: Element returned is not a tuple\""
   ]
  },
  {
   "cell_type": "code",
   "execution_count": 7,
   "metadata": {
    "nbgrader": {
     "grade": true,
     "grade_id": "to_tuple_test2",
     "locked": true,
     "points": 1,
     "schema_version": 1,
     "solution": false
    }
   },
   "outputs": [],
   "source": [
    "assert type(to_tuple('1 1')[0])==int and type(to_tuple('1 1')[1])==int, \"Incorrect element type: Element returned is not an integer\""
   ]
  },
  {
   "cell_type": "code",
   "execution_count": 8,
   "metadata": {
    "nbgrader": {
     "grade": true,
     "grade_id": "to_tuple_test3",
     "locked": true,
     "points": 1,
     "schema_version": 1,
     "solution": false
    }
   },
   "outputs": [],
   "source": [
    "assert to_tuple('1 1') == (1,1), \"Incorrect Return Value: Value obtained does not match\""
   ]
  },
  {
   "cell_type": "markdown",
   "metadata": {},
   "source": [
    "### non_duplicates"
   ]
  },
  {
   "cell_type": "markdown",
   "metadata": {
    "nbgrader": {
     "grade": false,
     "grade_id": "cell-91b1ac852bcb7b5e",
     "locked": true,
     "schema_version": 1,
     "solution": false
    }
   },
   "source": [
    "#### Example\n",
    "\n",
    "The function <font color=\"blue\">non_duplicates</font> checks if a set of points contains duplicates or not.\n",
    "\n",
    "Input: Pair (A,B) where A and B are of form (Ax, Ay) and (Bx, By) respectively.\n",
    "\n",
    "**<font color=\"magenta\" size=2>Example Code</font>**\n",
    "``` python\n",
    "my_input = ((0,0),(1,2))\n",
    "non_duplicates(my_input)\n",
    "```\n",
    "\n",
    "Output: Returns True if A != B, False otherwise.\n",
    "\n",
    "**<font color=\"blue\" size=2>Example Output</font>**\n",
    "``` python\n",
    "True\n",
    "```\n",
    "\n",
    "<font color=\"red\">**Hint : **</font> The above example is given just to provide the input and output format. This function is called a different way in the spark exercise."
   ]
  },
  {
   "cell_type": "markdown",
   "metadata": {},
   "source": [
    "#### Definition"
   ]
  },
  {
   "cell_type": "code",
   "execution_count": null,
   "metadata": {
    "nbgrader": {
     "grade": false,
     "grade_id": "non_duplicates",
     "locked": false,
     "schema_version": 1,
     "solution": true
    }
   },
   "outputs": [],
   "source": [
    "## Insert your answer in this cell. DO NOT CHANGE THE NAME OF THE FUNCTION.\n",
    "def non_duplicates(x):\n",
    "    \"\"\" \n",
    "    Use this function inside the get_cartesian() function to 'filter' out pairs with duplicate points\n",
    "    \"\"\"\n",
    "    ### BEGIN SOLUTION\n",
    "    return x[0] != x[1]\n",
    "    ### END SOLUTION"
   ]
  },
  {
   "cell_type": "markdown",
   "metadata": {
    "nbgrader": {
     "grade": false,
     "grade_id": "cell-9b4079a5fac4a570",
     "locked": true,
     "schema_version": 1,
     "solution": false
    }
   },
   "source": [
    "#### Unit Tests"
   ]
  },
  {
   "cell_type": "code",
   "execution_count": 9,
   "metadata": {
    "nbgrader": {
     "grade": true,
     "grade_id": "non_duplicate_test1",
     "locked": true,
     "points": 1,
     "schema_version": 1,
     "solution": false
    }
   },
   "outputs": [],
   "source": [
    "assert type(non_duplicates(((0,0),(1,2)))) == bool, \"Incorrect Return type: Function should return a boolean value\""
   ]
  },
  {
   "cell_type": "code",
   "execution_count": 10,
   "metadata": {
    "nbgrader": {
     "grade": true,
     "grade_id": "non_duplicate_test2",
     "locked": true,
     "points": 1,
     "schema_version": 1,
     "solution": false
    }
   },
   "outputs": [],
   "source": [
    "assert non_duplicates(((0,0),(1,2))) == True, \"No duplicates are present\""
   ]
  },
  {
   "cell_type": "code",
   "execution_count": 11,
   "metadata": {
    "nbgrader": {
     "grade": true,
     "grade_id": "non_duplicate_test3",
     "locked": true,
     "points": 1,
     "schema_version": 1,
     "solution": false
    }
   },
   "outputs": [],
   "source": [
    "assert non_duplicates(((0,0),(0,0))) == False, \"Duplicates exist: (0,0)\""
   ]
  },
  {
   "cell_type": "markdown",
   "metadata": {},
   "source": [
    "### get_cartesian"
   ]
  },
  {
   "cell_type": "code",
   "execution_count": 3,
   "metadata": {
    "nbgrader": {
     "grade": false,
     "grade_id": "get_cartesian",
     "locked": false,
     "schema_version": 1,
     "solution": true
    }
   },
   "outputs": [],
   "source": [
    "## Insert your answer in this cell. DO NOT CHANGE THE NAME OF THE FUNCTION.\n",
    "def get_cartesian(rdd):\n",
    "    \"\"\"\n",
    "    Does a Cartesian product of an RDD with itself and returns an RDD with DISTINCT pairs of points.\n",
    "    \n",
    "    Refer:  http://spark.apache.org/docs/latest/api/python/pyspark.html?highlight=cartesian#pyspark.RDD.cartesian\n",
    "    \"\"\"\n",
    "    \n",
    "    ### BEGIN SOLUTION\n",
    "    rdd = rdd.cartesian(rdd)\n",
    "    \n",
    "    # To remove duplicates points, example ((1,0), (1,0))\n",
    "    rdd = rdd.filter(non_duplicates)\n",
    "    \n",
    "    return rdd\n",
    "### END SOLUTION"
   ]
  },
  {
   "cell_type": "markdown",
   "metadata": {
    "nbgrader": {
     "grade": false,
     "grade_id": "cell-055907b27f0b6fe1",
     "locked": true,
     "schema_version": 1,
     "solution": false
    }
   },
   "source": [
    "#### Testing the get_cartesian(x) implementation (1 Point Each)"
   ]
  },
  {
   "cell_type": "code",
   "execution_count": 52,
   "metadata": {
    "nbgrader": {
     "grade": true,
     "grade_id": "get_cartesian_test1",
     "locked": true,
     "points": 1,
     "schema_version": 1,
     "solution": false
    }
   },
   "outputs": [],
   "source": [
    "test_rdd = sc.parallelize([(1,0), (2,0), (3,0)])\n",
    "\n",
    "l = [((1, 0), (2, 0)), ((1, 0), (3, 0)), ((2, 0), (1, 0)), ((2, 0), (3, 0)), ((3, 0), (1, 0)), ((3, 0), (2, 0))]\n",
    "\n",
    "assert isinstance(get_cartesian(test_rdd), RDD) == True\n",
    "assert get_cartesian(test_rdd).collect() == l"
   ]
  },
  {
   "cell_type": "code",
   "execution_count": 13,
   "metadata": {
    "nbgrader": {
     "grade": true,
     "grade_id": "get_cartesian_test2",
     "locked": true,
     "points": 1,
     "schema_version": 1,
     "solution": false
    }
   },
   "outputs": [],
   "source": [
    "##Hidden test cases here\n",
    "### BEGIN HIDDEN TESTS\n",
    "test_rdd1 = sc.parallelize([(1,0), (1,0), (1,0)])\n",
    "assert get_cartesian(test_rdd1).collect() == []\n",
    "assert isinstance(get_cartesian(test_rdd1), RDD) == True\n",
    "### END HIDDEN TESTS"
   ]
  },
  {
   "cell_type": "code",
   "execution_count": 14,
   "metadata": {
    "nbgrader": {
     "grade": true,
     "grade_id": "get_cartesian_test3",
     "locked": true,
     "points": 1,
     "schema_version": 1,
     "solution": false
    }
   },
   "outputs": [],
   "source": [
    "##Hidden test cases here\n",
    "### BEGIN HIDDEN TESTS\n",
    "test_rdd2 = sc.parallelize([(1,0)])\n",
    "assert get_cartesian(test_rdd2).collect() == []\n",
    "assert isinstance(get_cartesian(test_rdd2), RDD) == True\n",
    "### END HIDDEN TESTS"
   ]
  },
  {
   "cell_type": "code",
   "execution_count": 15,
   "metadata": {
    "nbgrader": {
     "grade": true,
     "grade_id": "get_cartesian_test4",
     "locked": true,
     "points": 1,
     "schema_version": 1,
     "solution": false
    }
   },
   "outputs": [],
   "source": [
    "##Hidden test cases here\n",
    "### BEGIN HIDDEN TESTS\n",
    "test_rdd3 = sc.parallelize([(1,0),(0,1)])\n",
    "assert isinstance(get_cartesian(test_rdd3), RDD) == True, \"get_cartesian should return an RDD\"\n",
    "assert get_cartesian(test_rdd3).collect() == [((1, 0), (0, 1)), ((0, 1), (1, 0))]\n",
    "### END HIDDEN TESTS"
   ]
  },
  {
   "cell_type": "code",
   "execution_count": 37,
   "metadata": {
    "nbgrader": {
     "grade": false,
     "grade_id": "Collinear-slope",
     "locked": false,
     "schema_version": 1,
     "solution": true
    }
   },
   "outputs": [],
   "source": [
    "## Insert your answer in this cell\n",
    "\n",
    "def find_slope(x):\n",
    "    \"\"\"\n",
    "    Computes slope between points A and B.\n",
    "    \n",
    "    input: Pair (A,B) where A and B are of form (Ax, Ay) and (Bx, By) respectively. Example input: ((1,2),(3,4))\n",
    "    output: Pair ((A,slope), B). Where, A and B have the same definition as input, \n",
    "            and slope refers to the slope of the line segment connecting point A and B. Example output: (((1,2),1),(3,4))\n",
    "    \n",
    "    NOTE: If Ax == Bx, use slope as \"inf\".\n",
    "    \"\"\"\n",
    "    ### BEGIN SOLUTION\n",
    "    if x[1][0] - x[0][0] == 0:\n",
    "        slope = \"inf\"\n",
    "    else:\n",
    "        slope = (x[1][1] - x[0][1])/(x[1][0] - x[0][0])\n",
    "    return ((x[0], slope), (x[1]))\n",
    "    ### END SOLUTION\n",
    "\n",
    "\n",
    "\n",
    "def find_collinear(rdd):\n",
    "    \n",
    "    \"\"\"\n",
    "    Finds collinear points.\n",
    "    \n",
    "    Input is an RDD (which is the output of the get_cartesian() function. \n",
    "    \n",
    "    Output is an RDD which does the below operations:\n",
    "    \n",
    "    1. Find the slope of the line between all pairs of points A = (Ax, Ay) and B = (Bx, By).\n",
    "    2. For each (A, B), find all points C = ((C1x, C1y), (C2x, C2y), ... (Cnx, Cny)) \n",
    "       where slope of (A,B) = slope of (A, Ci).\n",
    "    3. Return (A, B, Ck) where Ck = all points of C which satisfy the condition 1.\n",
    "    \n",
    "    For an example, refer the assert statement test for this function.\n",
    "    \n",
    "    HINT:   You should use the above helper functions in conjunction with Spark RDD API (refer http://spark.apache.org/docs/latest/api/python/pyspark.html?highlight=rdd#pyspark.RDD)\n",
    "            Finally, use helper function format_result() appropriately from inside this function after you have implemented the above operations.\n",
    "    \"\"\"\n",
    "    ### BEGIN SOLUTION\n",
    "    rdd = rdd.map(find_slope).groupByKey().mapValues(list).filter(lambda x: len(x[1]) > 1)\n",
    "    rdd = rdd.map(format_result)\n",
    "    \n",
    "    return rdd\n",
    "    ### END SOLUTION"
   ]
  },
  {
   "cell_type": "markdown",
   "metadata": {},
   "source": [
    "#### Testing the find_slope(x) implementation (3 Points)"
   ]
  },
  {
   "cell_type": "code",
   "execution_count": 17,
   "metadata": {
    "nbgrader": {
     "grade": true,
     "grade_id": "find_slope1",
     "locked": true,
     "points": 1,
     "schema_version": 1,
     "solution": false
    }
   },
   "outputs": [],
   "source": [
    "assert find_slope(((1,2),(3,4))) == (((1,2),1),(3,4))"
   ]
  },
  {
   "cell_type": "code",
   "execution_count": 18,
   "metadata": {
    "nbgrader": {
     "grade": true,
     "grade_id": "find_slope2",
     "locked": true,
     "points": 1,
     "schema_version": 1,
     "solution": false
    }
   },
   "outputs": [],
   "source": [
    "assert find_slope(((1,2),(1,5))) == (((1,2),\"inf\"),(1,5))"
   ]
  },
  {
   "cell_type": "code",
   "execution_count": 19,
   "metadata": {
    "nbgrader": {
     "grade": true,
     "grade_id": "find_slope3",
     "locked": true,
     "points": 1,
     "schema_version": 1,
     "solution": false
    }
   },
   "outputs": [],
   "source": [
    "assert find_slope(((1,2),(2,5))) == (((1,2),3),(2,5))"
   ]
  },
  {
   "cell_type": "code",
   "execution_count": 20,
   "metadata": {
    "nbgrader": {
     "grade": true,
     "grade_id": "find_slope4",
     "locked": true,
     "points": 1,
     "schema_version": 1,
     "solution": false
    }
   },
   "outputs": [],
   "source": [
    "assert find_slope(((1,2),(-7,-2)))[0][1] == 0.5"
   ]
  },
  {
   "cell_type": "code",
   "execution_count": 21,
   "metadata": {
    "nbgrader": {
     "grade": true,
     "grade_id": "find_slope_hidden1",
     "locked": true,
     "points": 1,
     "schema_version": 1,
     "solution": false
    }
   },
   "outputs": [],
   "source": [
    "##Hidden test cases here\n",
    "### BEGIN HIDDEN TESTS\n",
    "assert find_slope(((1,2),(1,2))) == (((1,2),\"inf\"),(1,2))\n",
    "### END HIDDEN TESTS"
   ]
  },
  {
   "cell_type": "code",
   "execution_count": 22,
   "metadata": {
    "nbgrader": {
     "grade": true,
     "grade_id": "find_slope_hidden2",
     "locked": true,
     "points": 1,
     "schema_version": 1,
     "solution": false
    }
   },
   "outputs": [],
   "source": [
    "##Hidden test cases here\n",
    "### BEGIN HIDDEN TESTS\n",
    "assert find_slope(((1,2),(0,5))) == (((1,2),-3),(0,5))\n",
    "### END HIDDEN TESTS"
   ]
  },
  {
   "cell_type": "code",
   "execution_count": 23,
   "metadata": {
    "nbgrader": {
     "grade": true,
     "grade_id": "find_slope_hidden3",
     "locked": true,
     "points": 1,
     "schema_version": 1,
     "solution": false
    }
   },
   "outputs": [],
   "source": [
    "##Hidden test cases here\n",
    "### BEGIN HIDDEN TESTS\n",
    "assert find_slope(((1,2),(101,5))) == (((1,2),0.03),(101,5))\n",
    "### END HIDDEN TESTS"
   ]
  },
  {
   "cell_type": "markdown",
   "metadata": {
    "nbgrader": {
     "grade": false,
     "grade_id": "cell-ffb01083af217fe4",
     "locked": true,
     "schema_version": 1,
     "solution": false
    }
   },
   "source": [
    "#### Testing the find_collinear(rdd) implementation (3 Points each)"
   ]
  },
  {
   "cell_type": "code",
   "execution_count": 38,
   "metadata": {
    "nbgrader": {
     "grade": true,
     "grade_id": "find_collinear",
     "locked": true,
     "points": 3,
     "schema_version": 1,
     "solution": false
    }
   },
   "outputs": [
    {
     "name": "stdout",
     "output_type": "stream",
     "text": [
      "[(((2, 1), 0.5), [(4, 2), (6, 3)]), (((4, 2), 0.5), [(2, 1), (6, 3)]), (((6, 3), 0.5), [(4, 2), (2, 1)])]\n",
      "[(((2, 1), 0.5), [(4, 2), (6, 3)]), (((4, 2), 0.5), [(2, 1), (6, 3)]), (((6, 3), 0.5), [(4, 2), (2, 1)])]\n"
     ]
    }
   ],
   "source": [
    "test_rdd = sc.parallelize([((4, 2), (2, 1)), ((4, 2), (-3, 4)), ((4, 2), (6, 3)), ((2, 1), (4, 2)), ((2, 1), (-3, 4)), ((2, 1), (6, 3)), ((-3, 4), (4, 2)), ((-3, 4), (2, 1)), ((-3, 4), (6, 3)), ((6, 3), (4, 2)), ((6, 3), (2, 1)), ((6, 3), (-3, 4))])\n",
    "assert find_collinear(test_rdd).collect() == [((4, 2), (6, 3), (2, 1)), ((2, 1), (6, 3), (4, 2)), ((4, 2), (2, 1), (6, 3))]\n",
    "assert isinstance(find_collinear(test_rdd), RDD) == True"
   ]
  },
  {
   "cell_type": "code",
   "execution_count": 25,
   "metadata": {
    "nbgrader": {
     "grade": true,
     "grade_id": "find_collinear_hidden",
     "locked": true,
     "points": 3,
     "schema_version": 1,
     "solution": false
    }
   },
   "outputs": [],
   "source": [
    "##Hidden test cases here\n",
    "### BEGIN HIDDEN TESTS\n",
    "test_rdd1 = sc.parallelize([((4, -2), (2, -1)), ((4, -2), (-3, 4)), ((2, -1), (4, -2)), ((2, -1), (-3, 4)), ((-3, 4), (4, -2)), ((-3, 4), (2, -1)), ((4, -2), (6, 3)), ((4, -2), (-9, 4)), ((4, -2), (6, -3)), ((2, -1), (6, 3)), ((2, -1), (-9, 4)), ((2, -1), (6, -3)), ((-3, 4), (6, 3)), ((-3, 4), (-9, 4)), ((-3, 4), (6, -3)), ((4, -2), (8, -4)), ((4, -2), (6, 9)), ((4, -2), (0, 0)), ((2, -1), (8, -4)), ((2, -1), (6, 9)), ((2, -1), (0, 0)), ((-3, 4), (8, -4)), ((-3, 4), (6, 9)), ((-3, 4), (0, 0)), ((4, -2), (1, 2)), ((4, -2), (2, 2)), ((4, -2), (3, 3)), ((2, -1), (1, 2)), ((2, -1), (2, 2)), ((2, -1), (3, 3)), ((-3, 4), (1, 2)), ((-3, 4), (2, 2)), ((-3, 4), (3, 3)), ((4, -2), (-9, -9)), ((2, -1), (-9, -9)), ((-3, 4), (-9, -9)), ((6, 3), (4, -2)), ((6, 3), (2, -1)), ((6, 3), (-3, 4)), ((-9, 4), (4, -2)), ((-9, 4), (2, -1)), ((-9, 4), (-3, 4)), ((6, -3), (4, -2)), ((6, -3), (2, -1)), ((6, -3), (-3, 4)), ((6, 3), (-9, 4)), ((6, 3), (6, -3)), ((-9, 4), (6, 3)), ((-9, 4), (6, -3)), ((6, -3), (6, 3)), ((6, -3), (-9, 4)), ((6, 3), (8, -4)), ((6, 3), (6, 9)), ((6, 3), (0, 0)), ((-9, 4), (8, -4)), ((-9, 4), (6, 9)), ((-9, 4), (0, 0)), ((6, -3), (8, -4)), ((6, -3), (6, 9)), ((6, -3), (0, 0)), ((6, 3), (1, 2)), ((6, 3), (2, 2)), ((6, 3), (3, 3)), ((-9, 4), (1, 2)), ((-9, 4), (2, 2)), ((-9, 4), (3, 3)), ((6, -3), (1, 2)), ((6, -3), (2, 2)), ((6, -3), (3, 3)), ((6, 3), (-9, -9)), ((-9, 4), (-9, -9)), ((6, -3), (-9, -9)), ((8, -4), (4, -2)), ((8, -4), (2, -1)), ((8, -4), (-3, 4)), ((6, 9), (4, -2)), ((6, 9), (2, -1)), ((6, 9), (-3, 4)), ((0, 0), (4, -2)), ((0, 0), (2, -1)), ((0, 0), (-3, 4)), ((8, -4), (6, 3)), ((8, -4), (-9, 4)), ((8, -4), (6, -3)), ((6, 9), (6, 3)), ((6, 9), (-9, 4)), ((6, 9), (6, -3)), ((0, 0), (6, 3)), ((0, 0), (-9, 4)), ((0, 0), (6, -3)), ((8, -4), (6, 9)), ((8, -4), (0, 0)), ((6, 9), (8, -4)), ((6, 9), (0, 0)), ((0, 0), (8, -4)), ((0, 0), (6, 9)), ((8, -4), (1, 2)), ((8, -4), (2, 2)), ((8, -4), (3, 3)), ((6, 9), (1, 2)), ((6, 9), (2, 2)), ((6, 9), (3, 3)), ((0, 0), (1, 2)), ((0, 0), (2, 2)), ((0, 0), (3, 3)), ((8, -4), (-9, -9)), ((6, 9), (-9, -9)), ((0, 0), (-9, -9)), ((1, 2), (4, -2)), ((1, 2), (2, -1)), ((1, 2), (-3, 4)), ((2, 2), (4, -2)), ((2, 2), (2, -1)), ((2, 2), (-3, 4)), ((3, 3), (4, -2)), ((3, 3), (2, -1)), ((3, 3), (-3, 4)), ((-9, -9), (4, -2)), ((-9, -9), (2, -1)), ((-9, -9), (-3, 4)), ((1, 2), (6, 3)), ((1, 2), (-9, 4)), ((1, 2), (6, -3)), ((2, 2), (6, 3)), ((2, 2), (-9, 4)), ((2, 2), (6, -3)), ((3, 3), (6, 3)), ((3, 3), (-9, 4)), ((3, 3), (6, -3)), ((-9, -9), (6, 3)), ((-9, -9), (-9, 4)), ((-9, -9), (6, -3)), ((1, 2), (8, -4)), ((1, 2), (6, 9)), ((1, 2), (0, 0)), ((2, 2), (8, -4)), ((2, 2), (6, 9)), ((2, 2), (0, 0)), ((3, 3), (8, -4)), ((3, 3), (6, 9)), ((3, 3), (0, 0)), ((-9, -9), (8, -4)), ((-9, -9), (6, 9)), ((-9, -9), (0, 0)), ((1, 2), (2, 2)), ((1, 2), (3, 3)), ((2, 2), (1, 2)), ((2, 2), (3, 3)), ((3, 3), (1, 2)), ((3, 3), (2, 2)), ((1, 2), (-9, -9)), ((2, 2), (-9, -9)), ((3, 3), (-9, -9)), ((-9, -9), (1, 2)), ((-9, -9), (2, 2)), ((-9, -9), (3, 3))])\n",
    "assert find_collinear(test_rdd1).collect() == [((4, -2), (6, -3), (8, -4), (0, 0), (2, -1)), ((6, -3), (6, 9), (6, 3)), ((4, -2), (2, -1), (6, -3), (0, 0), (8, -4)), ((4, -2), (2, -1), (6, -3), (8, -4), (0, 0)), ((4, -2), (2, -1), (8, -4), (0, 0), (6, -3)), ((0, 0), (2, 2), (-9, -9), (3, 3)), ((0, 0), (2, 2), (3, 3), (-9, -9)), ((2, -1), (6, -3), (8, -4), (0, 0), (4, -2)), ((6, 3), (6, 9), (6, -3)), ((6, 3), (6, -3), (6, 9)), ((2, 2), (3, 3), (-9, -9), (0, 0)), ((0, 0), (3, 3), (-9, -9), (2, 2))]\n",
    "assert isinstance(find_collinear(test_rdd1), RDD) == True\n",
    "### END HIDDEN TESTS"
   ]
  },
  {
   "cell_type": "markdown",
   "metadata": {},
   "source": [
    "#### Testing the find_collinear(rdd) when run with output of get_cartesian(rdd) (2 Points each)"
   ]
  },
  {
   "cell_type": "code",
   "execution_count": 26,
   "metadata": {
    "nbgrader": {
     "grade": true,
     "grade_id": "find_collinear2",
     "locked": true,
     "points": 2,
     "schema_version": 1,
     "solution": false
    }
   },
   "outputs": [],
   "source": [
    "test_rdd = sc.parallelize([(4, -2), (2, -1), (-3,4), (6,3), (-9,4), (6, -3), (8,-4), (6,9)])\n",
    "test_rdd = get_cartesian(test_rdd)\n",
    "assert find_collinear(test_rdd).collect() == [((6, -3), (6, 9), (6, 3)), ((4, -2), (2, -1), (8, -4), (6, -3)), ((2, -1), (6, -3), (8, -4), (4, -2)), ((6, 3), (6, 9), (6, -3)), ((4, -2), (6, -3), (8, -4), (2, -1)), ((6, 3), (6, -3), (6, 9)), ((4, -2), (2, -1), (6, -3), (8, -4))]"
   ]
  },
  {
   "cell_type": "code",
   "execution_count": 27,
   "metadata": {
    "nbgrader": {
     "grade": true,
     "grade_id": "find_collinear_hidden2",
     "locked": true,
     "points": 2,
     "schema_version": 1,
     "solution": false
    }
   },
   "outputs": [],
   "source": [
    "##Hidden test cases here\n",
    "### BEGIN HIDDEN TESTS\n",
    "test_rdd1 = sc.parallelize([(4, -2), (2, -1), (-3,4), (6,3), (-9,4), (6, -3), (8,-4), (6,9), (0,0),(1,2),(2,2),(3,3),(-9,-9)])\n",
    "test_rdd1 = get_cartesian(test_rdd1)\n",
    "assert find_collinear(test_rdd1).collect() == [((4, -2), (2, -1), (6, -3), (8, -4), (0, 0)), ((0, 0), (3, 3), (-9, -9), (2, 2)), ((6, -3), (6, 9), (6, 3)), ((4, -2), (2, -1), (8, -4), (0, 0), (6, -3)), ((0, 0), (2, 2), (3, 3), (-9, -9)), ((2, -1), (6, -3), (8, -4), (0, 0), (4, -2)), ((6, 3), (6, 9), (6, -3)), ((2, 2), (3, 3), (-9, -9), (0, 0)), ((4, -2), (6, -3), (8, -4), (0, 0), (2, -1)), ((6, 3), (6, -3), (6, 9)), ((4, -2), (2, -1), (6, -3), (0, 0), (8, -4)), ((0, 0), (2, 2), (-9, -9), (3, 3))]\n",
    "### END HIDDEN TESTS"
   ]
  },
  {
   "cell_type": "markdown",
   "metadata": {
    "nbgrader": {
     "grade": false,
     "grade_id": "cell-a15b922949251b15",
     "locked": true,
     "schema_version": 1,
     "solution": false
    }
   },
   "source": [
    "###### The get_collinear function\n",
    "Using the above functions that you have written along with pyspark functions, write the **get_collinear** function and returns an RDD containing the set of collinear points.\n"
   ]
  },
  {
   "cell_type": "code",
   "execution_count": 28,
   "metadata": {
    "nbgrader": {
     "grade": false,
     "grade_id": "Collinear-main",
     "locked": false,
     "schema_version": 1,
     "solution": true
    }
   },
   "outputs": [],
   "source": [
    "def get_collinear(rdd):\n",
    "    \"\"\"\n",
    "    Input: RDD containing the given set of points\n",
    "    Output: RDD containing the set of collinear points\n",
    "    \"\"\"\n",
    "    ### BEGIN SOLUTION\n",
    "    \n",
    "    # Transform the loaded points into tuples\n",
    "    rdd = rdd.map(to_tuple)\n",
    "    \n",
    "    # Transform the RDD to now have the cartesian product of the RDD with itself\n",
    "    rdd = get_cartesian(rdd)\n",
    "    \n",
    "    # Transform the RDD to now just have sets of Collinear Points \n",
    "    rdd = find_collinear(rdd)\n",
    "    \n",
    "    ### END SOLUTION\n",
    "    \n",
    "    # Sorting each of your returned sets of collinear points. This is for grading purposes. \n",
    "    # YOU MUST NOT CHANGE THIS.\n",
    "    rdd = rdd.map(to_sorted_points)\n",
    "    \n",
    "    \n",
    "    return rdd"
   ]
  },
  {
   "cell_type": "markdown",
   "metadata": {
    "nbgrader": {
     "grade": false,
     "grade_id": "cell-2d08e0ec753a680b",
     "locked": true,
     "schema_version": 1,
     "solution": false
    }
   },
   "source": [
    "#### Testing the return type of the get_collinear function (1 point)"
   ]
  },
  {
   "cell_type": "code",
   "execution_count": 29,
   "metadata": {
    "nbgrader": {
     "grade": true,
     "grade_id": "Collinear-type-test",
     "locked": true,
     "points": 1,
     "schema_version": 1,
     "solution": false
    }
   },
   "outputs": [],
   "source": [
    "assert isinstance(get_collinear(test_rdd), RDD) == True"
   ]
  },
  {
   "cell_type": "code",
   "execution_count": 30,
   "metadata": {
    "nbgrader": {
     "grade": false,
     "grade_id": "Main-function",
     "locked": true,
     "schema_version": 1,
     "solution": false
    }
   },
   "outputs": [],
   "source": [
    "def process(filename):\n",
    "    \"\"\"\n",
    "    Input: Name of the test file\n",
    "    Output: Set of collinear points\n",
    "    \"\"\"\n",
    "    # Load the data file into an RDD\n",
    "    rdd = sc.textFile(filename)\n",
    "    \n",
    "    rdd = get_collinear(rdd)\n",
    "    \n",
    "    # Collecting the collinear points RDD in a set to remove duplicate sets of collinear points. This is for grading purposes. You may ignore this.\n",
    "    res = set(rdd.collect())\n",
    "    \n",
    "    return res"
   ]
  },
  {
   "cell_type": "markdown",
   "metadata": {
    "nbgrader": {
     "grade": false,
     "grade_id": "cell-614b27038af0cd2a",
     "locked": true,
     "schema_version": 1,
     "solution": false
    }
   },
   "source": [
    "#### Testing the process() function implementation for several input files (3 points each)\n",
    "NOTE: You may assume that input files do not have duplicate points."
   ]
  },
  {
   "cell_type": "code",
   "execution_count": 31,
   "metadata": {
    "nbgrader": {
     "grade": true,
     "grade_id": "Collinear_soln_visible1",
     "locked": false,
     "points": 3,
     "schema_version": 1,
     "solution": false
    }
   },
   "outputs": [],
   "source": [
    "assert process(\"data.txt\") == {((-2, -2), (1, 1), (2, 2), (3, 3)), ((0, 1), (3, 4), (5, 6)), ((0, -3), (0, 1), (0, 5))}"
   ]
  },
  {
   "cell_type": "code",
   "execution_count": 32,
   "metadata": {
    "nbgrader": {
     "grade": true,
     "grade_id": "Collinear_soln_visible2",
     "locked": false,
     "points": 3,
     "schema_version": 1,
     "solution": false
    }
   },
   "outputs": [],
   "source": [
    "assert process(\"data50.txt\") == {((3, 6), (7, 4), (9, 3)), ((1, 6), (3, 6), (4, 6), (7, 6)), \n",
    "                                 ((0, 2), (3, 1), (6, 0)), ((1, 0), (2, 0), (5, 0), (6, 0)), \n",
    "                                 ((1, 3), (3, 6), (5, 9)), ((0, 8), (4, 6), (6, 5)), \n",
    "                                 ((6, 0), (6, 1), (6, 5), (6, 9)), \n",
    "                                 ((7, 2), (7, 3), (7, 4), (7, 6), (7, 8)), ((3, 1), (3, 3), (3, 6)), \n",
    "                                 ((0, 2), (1, 2), (5, 2), (7, 2)), ((0, 3), (2, 5), (3, 6), (6, 9)), \n",
    "                                 ((0, 2), (1, 3), (2, 4), (4, 6), (5, 7)), ((1, 2), (4, 3), (7, 4)), \n",
    "                                 ((0, 3), (4, 6), (8, 9)), ((9, 3), (9, 4), (9, 5)), ((2, 5), (5, 7), (8, 9)), \n",
    "                                 ((0, 5), (2, 4), (4, 3), (8, 1)), ((0, 8), (1, 6), (2, 4)), \n",
    "                                 ((3, 6), (5, 2), (6, 0)), ((5, 9), (6, 9), (8, 9)), \n",
    "                                 ((0, 8), (1, 8), (7, 8)), ((0, 4), (1, 3), (3, 1)), ((5, 9), (7, 6), (9, 3)), \n",
    "                                 ((1, 2), (2, 4), (3, 6)), ((0, 7), (1, 5), (3, 1)), \n",
    "                                 ((1, 5), (2, 4), (3, 3), (6, 0)), ((0, 2), (3, 3), (9, 5)), \n",
    "                                 ((0, 7), (1, 6), (2, 5), (4, 3), (5, 2), (6, 1)), \n",
    "                                 ((0, 4), (1, 5), (5, 9)), ((1, 5), (3, 6), (5, 7), (7, 8)), \n",
    "                                 ((1, 6), (3, 3), (5, 0)), ((3, 6), (4, 3), (5, 0)), \n",
    "                                 ((1, 2), (4, 5), (7, 8), (8, 9)), ((0, 2), (1, 1), (2, 0)), \n",
    "                                 ((3, 3), (4, 5), (5, 7), (6, 9)), ((0, 2), (0, 3), (0, 4), (0, 5), (0, 7), (0, 8)), \n",
    "                                 ((2, 0), (4, 3), (8, 9)), ((5, 7), (6, 5), (7, 3), (8, 1)), ((5, 0), (7, 6), (8, 9)), \n",
    "                                 ((5, 0), (6, 1), (7, 2), (9, 4)), ((0, 4), (1, 2), (2, 0)), \n",
    "                                 ((1, 1), (3, 1), (6, 1), (8, 1)), ((5, 7), (7, 6), (9, 5)), ((1, 1), (7, 4), (9, 5)), \n",
    "                                 ((0, 4), (2, 4), (7, 4), (9, 4)), ((1, 0), (3, 1), (5, 2), (7, 3), (9, 4)), \n",
    "                                 ((2, 0), (3, 3), (4, 6), (5, 9)), ((4, 3), (4, 5), (4, 6)), \n",
    "                                 ((1, 0), (4, 3), (6, 5), (7, 6)), ((0, 3), (2, 4), (4, 5)), \n",
    "                                 ((1, 6), (4, 5), (7, 4)), ((1, 0), (1, 1), (1, 2), (1, 3), (1, 5), (1, 6), (1, 8)), \n",
    "                                 ((0, 3), (1, 3), (3, 3), (4, 3), (7, 3), (9, 3)), ((0, 4), (2, 5), (4, 6)), \n",
    "                                 ((0, 7), (3, 6), (6, 5), (9, 4)), ((1, 8), (4, 6), (7, 4)), \n",
    "                                 ((0, 5), (3, 3), (6, 1)), ((1, 8), (3, 6), (4, 5), (7, 2), (8, 1)), \n",
    "                                 ((1, 2), (3, 1), (5, 0)), ((1, 1), (5, 2), (9, 3)), \n",
    "                                 ((5, 0), (5, 2), (5, 7), (5, 9)), ((0, 5), (1, 5), (2, 5), (4, 5), (6, 5), (9, 5)), \n",
    "                                 ((3, 1), (4, 5), (5, 9)), ((2, 0), (2, 4), (2, 5)), ((5, 2), (6, 5), (7, 8))}"
   ]
  },
  {
   "cell_type": "code",
   "execution_count": 33,
   "metadata": {
    "nbgrader": {
     "grade": true,
     "grade_id": "Collinear_soln_hidden1",
     "locked": false,
     "points": 3,
     "schema_version": 1,
     "solution": false
    }
   },
   "outputs": [],
   "source": [
    "##Hidden test cases here\n",
    "### BEGIN HIDDEN TESTS\n",
    "import ast\n",
    "\n",
    "with open('data100_res.txt','r') as f:\n",
    "     d = ast.literal_eval(f.read())\n",
    "assert process(\"data100.txt\") == d\n",
    "### END HIDDEN TESTS"
   ]
  },
  {
   "cell_type": "code",
   "execution_count": 34,
   "metadata": {
    "nbgrader": {
     "grade": true,
     "grade_id": "Collinear_soln_hidden2",
     "locked": false,
     "points": 3,
     "schema_version": 1,
     "solution": false
    }
   },
   "outputs": [],
   "source": [
    "##Hidden test cases here\n",
    "### BEGIN HIDDEN TESTS\n",
    "with open('data200_res.txt','r') as f:\n",
    "     d = ast.literal_eval(f.read())\n",
    "assert process(\"data200.txt\") == d\n",
    "### END HIDDEN TESTS"
   ]
  },
  {
   "cell_type": "code",
   "execution_count": 35,
   "metadata": {
    "nbgrader": {
     "grade": true,
     "grade_id": "Collinear_soln_hidden3",
     "locked": false,
     "points": 3,
     "schema_version": 1,
     "solution": false
    }
   },
   "outputs": [],
   "source": [
    "##Hidden test cases here\n",
    "### BEGIN HIDDEN TESTS\n",
    "with open('data400_res.txt','r') as f:\n",
    "     d = ast.literal_eval(f.read())\n",
    "assert process(\"data400.txt\") == d\n",
    "### END HIDDEN TESTS"
   ]
  },
  {
   "cell_type": "code",
   "execution_count": 36,
   "metadata": {
    "nbgrader": {
     "grade": true,
     "grade_id": "Collinear_soln_hidden4",
     "locked": false,
     "points": 3,
     "schema_version": 1,
     "solution": false
    }
   },
   "outputs": [],
   "source": [
    "##Hidden test cases here\n",
    "### BEGIN HIDDEN TESTS\n",
    "with open('data800_res.txt','r') as f:\n",
    "     d = ast.literal_eval(f.read())\n",
    "assert process(\"data800.txt\") == d\n",
    "### END HIDDEN TESTS"
   ]
  }
 ],
 "metadata": {
  "celltoolbar": "Create Assignment",
  "kernelspec": {
   "display_name": "Python 3",
   "language": "python",
   "name": "python3"
  },
  "language_info": {
   "codemirror_mode": {
    "name": "ipython",
    "version": 3
   },
   "file_extension": ".py",
   "mimetype": "text/x-python",
   "name": "python",
   "nbconvert_exporter": "python",
   "pygments_lexer": "ipython3",
   "version": "3.6.4"
  },
  "toc": {
   "nav_menu": {},
   "number_sections": true,
   "sideBar": true,
   "skip_h1_title": false,
   "title_cell": "Table of Contents",
   "title_sidebar": "Contents",
   "toc_cell": false,
   "toc_position": {
    "height": "573px",
    "left": "218px",
    "top": "229.5px",
    "width": "269px"
   },
   "toc_section_display": true,
   "toc_window_display": true
  },
  "varInspector": {
   "cols": {
    "lenName": 16,
    "lenType": 16,
    "lenVar": 40
   },
   "kernels_config": {
    "python": {
     "delete_cmd_postfix": "",
     "delete_cmd_prefix": "del ",
     "library": "var_list.py",
     "varRefreshCmd": "print(var_dic_list())"
    },
    "r": {
     "delete_cmd_postfix": ") ",
     "delete_cmd_prefix": "rm(",
     "library": "var_list.r",
     "varRefreshCmd": "cat(var_dic_list()) "
    }
   },
   "types_to_exclude": [
    "module",
    "function",
    "builtin_function_or_method",
    "instance",
    "_Feature"
   ],
   "window_display": false
  }
 },
 "nbformat": 4,
 "nbformat_minor": 1
}
