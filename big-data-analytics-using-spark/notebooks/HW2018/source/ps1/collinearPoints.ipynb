{
 "cells": [
  {
   "cell_type": "markdown",
   "metadata": {
    "nbgrader": {
     "grade": false,
     "grade_id": "cell-601b4a206f8f71fd",
     "locked": true,
     "schema_version": 1,
     "solution": false
    }
   },
   "source": [
    "## CSE 255 Problem Set 1: Collinear points\n",
    "\n",
    "For this problem set, we'll be using the Jupyter notebook:\n",
    "\n",
    "![](jupyter.png)"
   ]
  },
  {
   "cell_type": "markdown",
   "metadata": {
    "nbgrader": {
     "grade": false,
     "grade_id": "cell-1f0aaa1b0eeb62ff",
     "locked": true,
     "schema_version": 1,
     "solution": false
    }
   },
   "source": [
    "### In this problem set, you will write python3 code to find sets of collinear points given __ 2D points.\n",
    "\n",
    "Definition of collinearity: In geometry, collinearity of a set of points is the property of their lying on a single line. A set of points with this property is said to be collinear.\n",
    "\n",
    "![](non-collinear-points.jpg)\n",
    "\n",
    "Here, points P,Q,R and A,R,B are collinear. However, points A,B,C are non-collinear.\n",
    "\n",
    "Given an input file with a set of co-ordinates, your task is to use pyspark library functions to write a program to find if three points are collinear.\n",
    "\n",
    "For instance, if given these points: {(1,1), (0,1), (2,2), (3,3), (0,5), (3,4), (5,6), (0,-3), (-2,-2)}\n",
    "\n",
    "Sets of collinear points are: {((-2,-2), (1,1), (2,2), (3,3)), ((0,1), (3,4), (5,6)), ((0,-3), (0,1), (0,5))}. Note that the points within each set needs to be in sorted order. However, the ordering of the sets does not matter. \n",
    "\n",
    "Note: Every set has to have atleast three points (single point or a pair of points always lie on a line).\n",
    "\n",
    "1. https://en.wikipedia.org/wiki/Collinearity\n",
    "2. http://www.mathcaptain.com/geometry/collinear-points.html"
   ]
  },
  {
   "cell_type": "markdown",
   "metadata": {
    "nbgrader": {
     "grade": false,
     "grade_id": "cell-f5cf60bc3f0be391",
     "locked": true,
     "schema_version": 1,
     "solution": false
    }
   },
   "source": [
    "## Points of concerns for TAs (keep adding stuff as you go along)\n",
    "\n",
    "1. What should be the input format? Should we give them a file containing a bunch of 2D points?\n",
    "2. Do we let them import any library they want or enforce it?\n"
   ]
  },
  {
   "cell_type": "code",
   "execution_count": 14,
   "metadata": {
    "collapsed": true,
    "nbgrader": {
     "grade": false,
     "grade_id": "cell-6ba832098a121a5e",
     "locked": true,
     "schema_version": 1,
     "solution": false
    },
    "scrolled": true
   },
   "outputs": [],
   "source": [
    "## generate data points that go in the data input file for students\n",
    "\n",
    "from itertools import product\n",
    "import numpy as np\n",
    "\n",
    "l = list(product(range(-400,400,np.random.randint(21)), range(-400,400,np.random.randint(20))))"
   ]
  },
  {
   "cell_type": "code",
   "execution_count": 2,
   "metadata": {
    "collapsed": true,
    "nbgrader": {
     "grade": false,
     "grade_id": "cell-5f266efcf9bf6846",
     "locked": true,
     "schema_version": 1,
     "solution": false
    }
   },
   "outputs": [],
   "source": [
    "from pyspark import SparkContext, SparkConf\n",
    "conf = SparkConf().setAppName(\"Collinear Points\").setMaster(\"local[4]\")\n",
    "sc = SparkContext(conf=conf)"
   ]
  },
  {
   "cell_type": "markdown",
   "metadata": {
    "nbgrader": {
     "grade": false,
     "grade_id": "cell-4d295f07b42e57cb",
     "locked": true,
     "schema_version": 1,
     "solution": false
    }
   },
   "source": [
    "---\n",
    "## Part A: Load the data (2 points)\n",
    "\n",
    "\n",
    "Write a function that returns a list of numbers, such that $x_i=i^2$, for $1\\leq i \\leq n$. Make sure it handles the case where $n<1$ by raising a `ValueError`."
   ]
  },
  {
   "cell_type": "code",
   "execution_count": 8,
   "metadata": {
    "collapsed": true,
    "nbgrader": {
     "grade": false,
     "grade_id": "squares",
     "locked": false,
     "schema_version": 1,
     "solution": true
    }
   },
   "outputs": [],
   "source": [
    "### BEGIN SOLUTION\n",
    "def func(x):\n",
    "    arr = x.split()\n",
    "    return tuple([int(el) for el in arr])\n",
    "\n",
    "def filt(x):\n",
    "    print(x)\n",
    "    return x[0] != x[1]\n",
    "\n",
    "def findslope(x):\n",
    "    if x[1][0] - x[0][0] == 0:\n",
    "        slope = \"inf\"\n",
    "    else:\n",
    "        slope = 1.0 * (x[1][1] - x[0][1])/(x[1][0] - x[0][0])\n",
    "    return ((x[0], slope), (x[1]))\n",
    "\n",
    "def returnpoints(x):\n",
    "#     print(x[0])\n",
    "    x[1].append(x[0][0])\n",
    "    arr = sorted(x[1])\n",
    "    return tuple(arr)\n",
    "#     return list(x[1]).append(x[0][0])\n",
    "\n",
    "def removedups(x, y):\n",
    "    return set((x,y))\n",
    "### END SOLUTION\n",
    "\n",
    "def get_collinear(filename):\n",
    "    \"\"\"Compute the set of collinear points where each set of points is sorted\"\"\"\n",
    "    rdd = sc.textFile(filename)\n",
    "    ### BEGIN SOLUTION\n",
    "    rdd1 = rdd.map(func)\n",
    "    rdd1 = rdd1.cartesian(rdd1)\n",
    "    rdd1 = rdd1.filter(filt).map(findslope).groupByKey().mapValues(list).filter(lambda x: len(x[1]) > 1)\n",
    "    rdd1 = rdd1.map(returnpoints)\n",
    "    res = set(rdd1.collect())\n",
    "    return res\n",
    "    ### END SOLUTION"
   ]
  },
  {
   "cell_type": "markdown",
   "metadata": {},
   "source": [
    "Your function should print `[1, 4, 9, 16, 25, 36, 49, 64, 81, 100]` for $n=10$. Check that it does:"
   ]
  },
  {
   "cell_type": "code",
   "execution_count": 19,
   "metadata": {
    "nbgrader": {
     "grade": true,
     "grade_id": "correct_squares",
     "locked": false,
     "points": 1,
     "schema_version": 1,
     "solution": false
    }
   },
   "outputs": [],
   "source": [
    "\"\"\"Check that the get_collinear function returns the correct output for several all input files\"\"\"\n",
    "assert get_collinear(\"data.txt\") == {((-2, -2), (1, 1), (2, 2), (3, 3)), ((0, 1), (3, 4), (5, 6)), ((0, -3), (0, 1), (0, 5))}\n",
    "\n",
    "### BEGIN HIDDEN TESTS\n",
    "\n",
    "### END HIDDEN TESTS"
   ]
  },
  {
   "cell_type": "code",
   "execution_count": 13,
   "metadata": {
    "nbgrader": {
     "grade": true,
     "grade_id": "squares_invalid_input",
     "locked": false,
     "points": 1,
     "schema_version": 1,
     "solution": false
    }
   },
   "outputs": [
    {
     "ename": "AssertionError",
     "evalue": "did not raise",
     "output_type": "error",
     "traceback": [
      "\u001b[0;31m---------------------------------------------------------------------------\u001b[0m",
      "\u001b[0;31mAssertionError\u001b[0m                            Traceback (most recent call last)",
      "\u001b[0;32m<ipython-input-13-fa92e05e13a9>\u001b[0m in \u001b[0;36m<module>\u001b[0;34m()\u001b[0m\n\u001b[1;32m      5\u001b[0m     \u001b[0;32mpass\u001b[0m\u001b[0;34m\u001b[0m\u001b[0m\n\u001b[1;32m      6\u001b[0m \u001b[0;32melse\u001b[0m\u001b[0;34m:\u001b[0m\u001b[0;34m\u001b[0m\u001b[0m\n\u001b[0;32m----> 7\u001b[0;31m     \u001b[0;32mraise\u001b[0m \u001b[0mAssertionError\u001b[0m\u001b[0;34m(\u001b[0m\u001b[0;34m\"did not raise\"\u001b[0m\u001b[0;34m)\u001b[0m\u001b[0;34m\u001b[0m\u001b[0m\n\u001b[0m",
      "\u001b[0;31mAssertionError\u001b[0m: did not raise"
     ]
    }
   ],
   "source": [
    "\"\"\"Check that the get_collinear function raises an error for invalid input files\"\"\"\n",
    "try:\n",
    "    get_collinear(\"data.txt\")\n",
    "except ValueError:\n",
    "    pass\n",
    "else:\n",
    "    raise AssertionError(\"did not raise\")"
   ]
  }
 ],
 "metadata": {
  "celltoolbar": "Create Assignment",
  "kernelspec": {
   "display_name": "Python 2",
   "language": "python",
   "name": "python2"
  },
  "language_info": {
   "codemirror_mode": {
    "name": "ipython",
    "version": 2
   },
   "file_extension": ".py",
   "mimetype": "text/x-python",
   "name": "python",
   "nbconvert_exporter": "python",
   "pygments_lexer": "ipython2",
   "version": "2.7.13"
  }
 },
 "nbformat": 4,
 "nbformat_minor": 1
}
