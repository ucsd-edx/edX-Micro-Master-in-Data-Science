{
 "cells": [
  {
   "cell_type": "markdown",
   "metadata": {
    "nbgrader": {
     "grade": false,
     "grade_id": "cell-601b4a206f8f71fd",
     "locked": true,
     "schema_version": 1,
     "solution": false
    }
   },
   "source": [
    "## CSE 255 Programming Assignment 1: Collinear points\n",
    "\n",
    "For this programming assignment, we'll be using a Jupyter notebook."
   ]
  },
  {
   "cell_type": "markdown",
   "metadata": {
    "nbgrader": {
     "grade": false,
     "grade_id": "cell-1f0aaa1b0eeb62ff",
     "locked": true,
     "schema_version": 1,
     "solution": false
    }
   },
   "source": [
    "### In this programming assignment, you will write python3 code using pyspark to find sets of collinear points given arbitrary number of 2D points.\n",
    "\n",
    "Definition of collinearity[1]: In geometry, collinearity of a set of points is the property of their lying on a single line. A set of points with this property is said to be collinear.\n",
    "\n",
    "![](non-collinear-points.jpg)\n",
    "\n",
    "Here, points P,Q,R and A,R,B are collinear. However, points A,B,C are non-collinear. For more, refer [2].\n",
    "\n",
    "Given an input file with a set of co-ordinates, your task is to use pyspark library functions to write a program to find if three or more points are collinear.\n",
    "\n",
    "For instance, if given these points: {(1,1), (0,1), (2,2), (3,3), (0,5), (3,4), (5,6), (0,-3), (-2,-2)}\n",
    "\n",
    "Sets of collinear points are: {((-2,-2), (1,1), (2,2), (3,3)), ((0,1), (3,4), (5,6)), ((0,-3), (0,1), (0,5))}. Note that the ordering of the points in a set or the order of the sets does not matter. \n",
    "\n",
    "Note: Every set of collinear points has to have at least three points (any pair of points lie on a line).\n",
    "\n",
    "1. https://en.wikipedia.org/wiki/Collinearity\n",
    "2. http://www.mathcaptain.com/geometry/collinear-points.html"
   ]
  },
  {
   "cell_type": "markdown",
   "metadata": {},
   "source": [
    "### parametrizing lines\n",
    "In order to determine whether a set of points all lie on the same line we need a standard way to define (or parametrize) a line.\n",
    "\n",
    "* One way of defining a line is as the set of points $(x,y)$ such that $y=ax+b$ for some fixed real values $a,b$.\n",
    "* We call $a$ the **slope** of the line and $b$ is the $y$-intercept which is defined as the value of $y$ when $x=0$.\n",
    "* This parameterization works for *almost* all lines. It does not work for vertical lines. For those lines we define $a$ to be **infinity** and $b$ to be the $x$ intercept of the line (the line is parallel to the $y$ axis so it does not intercept the $y$ axis (other than if it is the vertical line going through the origin).\n",
    "\n",
    "To summarize, given two different points $(x_1,y_1) \\neq (x_2,y_2)$, we define the parameterization $(a,b)$ as:\n",
    "* **if $x_1=x_2$: ** $(\\mbox{Inf},x_1)$ \n",
    "* **Else:** $(a,b)$ such that $y_1=a x_1 +b$ and $y_2=a x_2 +b$.\n"
   ]
  },
  {
   "cell_type": "markdown",
   "metadata": {},
   "source": [
    "### Initialize spark context using 4 local cores as workers.\n",
    "Note that we can create a SparkConf() object and use it to initialize the spark context. "
   ]
  },
  {
   "cell_type": "code",
   "execution_count": null,
   "metadata": {
    "nbgrader": {
     "grade": false,
     "grade_id": "cell-5f266efcf9bf6846",
     "locked": true,
     "schema_version": 1,
     "solution": false
    }
   },
   "outputs": [],
   "source": [
    "from pyspark import SparkContext, SparkConf\n",
    "conf = SparkConf().setAppName(\"Collinear Points\").setMaster(\"local[4]\")\n",
    "sc = SparkContext(conf=conf)\n",
    "\n",
    "from pyspark.rdd import RDD"
   ]
  },
  {
   "cell_type": "markdown",
   "metadata": {},
   "source": [
    "### Description of the task\n",
    "\n",
    "The goal of this assignment is to make you familiar with programming using pyspark. There are many ways to find sets of collinear points from a list of points. For the purposes of this assignment, we shall stick with the below approach:\n",
    "\n",
    "1. List all pairs of points. You can do that efficiently in spark by computing cartesian product of the list of points with itself. For example, given three points $[(1,0), (2,0), (3,0)]$, we construct a list of nine pairs  \n",
    "$[((1,0),(1,0)),((1,0), (2,0)),((1,0),(3,0))$  \n",
    "$((2,0),(1,0)),((2,0), (2,0)),((2,0),(3,0))$  \n",
    "$((3,0),(1,0)),((3,0), (2,0)),((3,0),(3,0))]$  \n",
    "\n",
    "2. Remove the pairs in which the same point appears twice such as $((2,0),(2,0))$. Also, note that each pair of points appears twice, for example $((1,0),(3,0))$ and $((3,0),(1,0)$. Remove one of these pairs. **Hint:** a good way to do that is to define an ordering of points (for example: compare the $x$ values and if those are equal: compare the $y$ values. After these elimination you end up (for this example) with a list of just three pairs:  \n",
    "$[((3,0),(1,0)),((3,0), (2,0)),((1,0),(2,0))]$\n",
    "\n",
    "2. Convince yourself that if you start with $n$ different points, you end up with $\\frac{n(n-1)}{2}$ pairs.\n",
    "\n",
    "2. For each pair of points, find the parameterization $(a,b)$ of the line connecting them as described above.\n",
    "\n",
    "3. Group the pairs according to their parameters. Clearly, if two pairs have the same $(a,b)$ values, all points in the two pairs lie on the same line.\n",
    "\n",
    "3. Eliminate the groups that contain only one pair (any pair of points defines a line).\n",
    "4. In each of the remaining groups, unpack the point-pairs to identify the individual points.\n",
    "Note that if a set of points $(x_1,y_1),\\ldots,(x_k,y_k)$ lie on the same line then each point will appear $k-1$ in the list of point-pairs. You therefor need to transform the list of points into sets to remove duplicates.\n",
    "\n",
    "5. Output the sets of 3 or more colinear points.\n",
    "\n",
    "Your task is to implement the described algorithm in Spark. You should use RDD's all the way through and collect the results into the driver only at the end."
   ]
  },
  {
   "cell_type": "markdown",
   "metadata": {
    "nbgrader": {
     "grade": false,
     "grade_id": "cell-773a47aa41687e4f",
     "locked": true,
     "schema_version": 1,
     "solution": false
    }
   },
   "source": [
    "### Below are some helper functions that you are encouraged to use in your implementations. Do not change these functions"
   ]
  },
  {
   "cell_type": "code",
   "execution_count": null,
   "metadata": {
    "nbgrader": {
     "grade": false,
     "grade_id": "cell-8b516ac13ae8c8b0",
     "locked": true,
     "schema_version": 1,
     "solution": false
    }
   },
   "outputs": [],
   "source": [
    "def format_result(x):\n",
    "    \"\"\"\n",
    "    input: ((A,slope), [C1,..., Ck]) where each of A, C1,..., Ck is a point of form (Ax, Ay) and slope is a float.\n",
    "    output: (C1,..., Ck, A)\n",
    "    \n",
    "    Concatenates collinear points.\n",
    "    \"\"\"\n",
    "    x[1].append(x[0][0])\n",
    "    return tuple(x[1])\n",
    "\n",
    "def to_sorted_points(x):\n",
    "    \"\"\"\n",
    "    Sorts and returns a tuple of points for further processing.\n",
    "    \"\"\"\n",
    "    return tuple(sorted(x))"
   ]
  },
  {
   "cell_type": "markdown",
   "metadata": {},
   "source": [
    "### Below are some functions that you will implement. You should follow the function definitions, and use them appropriately elsewhere in the notebook."
   ]
  },
  {
   "cell_type": "code",
   "execution_count": null,
   "metadata": {
    "nbgrader": {
     "grade": false,
     "grade_id": "collinear-preprocess",
     "locked": false,
     "schema_version": 1,
     "solution": true
    }
   },
   "outputs": [],
   "source": [
    "## Insert your answer in this cell\n",
    "\n",
    "def get_cartesian(rdd):\n",
    "    \"\"\"\n",
    "    Does a Cartesian product of an RDD with itself and returns an RDD with DISTINCT pairs of points.\n",
    "    \n",
    "    Refer:  http://spark.apache.org/docs/latest/api/python/pyspark.html?highlight=cartesian#pyspark.RDD.cartesian\n",
    "    \"\"\"\n",
    "    \n",
    "    ### BEGIN SOLUTION\n",
    "    rdd = rdd.cartesian(rdd)\n",
    "    \n",
    "    # To remove duplicates points, example ((1,0), (1,0))\n",
    "    rdd = rdd.filter(non_duplicates)\n",
    "    \n",
    "    return rdd\n",
    "    ### END SOLUTION"
   ]
  },
  {
   "cell_type": "code",
   "execution_count": null,
   "metadata": {
    "nbgrader": {
     "grade": true,
     "grade_id": "cell-7dfc39335c0bb589",
     "locked": true,
     "points": 1,
     "schema_version": 1,
     "solution": false
    }
   },
   "outputs": [],
   "source": [
    "## Let's test the to_tuple(x) implementation (1 Point)\n",
    "assert to_tuple('1 1') == (1,1)\n",
    "assert type(to_tuple('1 1')) == tuple\n",
    "assert type(to_tuple('1 1')[0])==int and type(to_tuple('1 1')[1])==int"
   ]
  },
  {
   "cell_type": "code",
   "execution_count": null,
   "metadata": {
    "nbgrader": {
     "grade": true,
     "grade_id": "cell-c7ddc8e33dba8d38",
     "locked": true,
     "points": 1,
     "schema_version": 1,
     "solution": false
    }
   },
   "outputs": [],
   "source": [
    "## Let's test the non_duplicates(x) implementation (1 Point)\n",
    "assert non_duplicates(((0,0),(1,2))) == True\n",
    "assert non_duplicates(((0,0),(0,0))) == False"
   ]
  },
  {
   "cell_type": "code",
   "execution_count": null,
   "metadata": {
    "nbgrader": {
     "grade": true,
     "grade_id": "cell-6a3b8ea4640d3054",
     "locked": true,
     "points": 3,
     "schema_version": 1,
     "solution": false
    }
   },
   "outputs": [],
   "source": [
    "## Let's test the get_cartesian(x) implementation (3 Points)\n",
    "\n",
    "test_rdd = sc.parallelize([(1,0), (2,0), (3,0)])\n",
    "assert get_cartesian(test_rdd).collect() == [((1, 0), (2, 0)), ((1, 0), (3, 0)), ((2, 0), (1, 0)), ((2, 0), (3, 0)), ((3, 0), (1, 0)), ((3, 0), (2, 0))]\n",
    "assert isinstance(get_cartesian(test_rdd), RDD) == True\n",
    "\n",
    "\n",
    "### BEGIN HIDDEN TESTS\n",
    "test_rdd1 = sc.parallelize([(1,0), (1,0), (1,0)])\n",
    "assert get_cartesian(test_rdd1).collect() == []\n",
    "assert isinstance(get_cartesian(test_rdd1), RDD) == True\n",
    "\n",
    "test_rdd2 = sc.parallelize([(1,0)])\n",
    "assert get_cartesian(test_rdd2).collect() == []\n",
    "assert isinstance(get_cartesian(test_rdd2), RDD) == True\n",
    "\n",
    "##Yoav: As much as possible: have a return messages to each assert to explain to the student what is wrong.\n",
    "\n",
    "test_rdd3 = sc.parallelize([(1,0),(0,1)])\n",
    "assert isinstance(get_cartesian(test_rdd3), RDD) == True, \"get_cartesian should return an RDD\"\n",
    "assert get_cartesian(test_rdd3).collect() == [((1, 0), (0, 1)), ((0, 1), (1, 0))]\n",
    "### END HIDDEN TESTS"
   ]
  },
  {
   "cell_type": "code",
   "execution_count": null,
   "metadata": {
    "nbgrader": {
     "grade": false,
     "grade_id": "Collinear-slope",
     "locked": false,
     "schema_version": 1,
     "solution": true
    }
   },
   "outputs": [],
   "source": [
    "## Insert your answer in this cell\n",
    "\n",
    "def find_slope(x):\n",
    "    \"\"\"\n",
    "    Computes slope between points A and B.\n",
    "    \n",
    "    input: Pair (A,B) where A and B are of form (Ax, Ay) and (Bx, By) respectively. Example input: ((1,2),(3,4))\n",
    "    output: Pair ((A,slope), B). Where, A and B have the same definition as input, \n",
    "            and slope refers to the slope of the line segment connecting point A and B. Example output: (((1,2),1),(3,4))\n",
    "    \n",
    "    NOTE: If Ax == Bx, use slope as \"inf\".\n",
    "    \"\"\"\n",
    "    ### BEGIN SOLUTION\n",
    "    if x[1][0] - x[0][0] == 0:\n",
    "        slope = \"inf\"\n",
    "    else:\n",
    "        slope = (x[1][1] - x[0][1])/(x[1][0] - x[0][0])\n",
    "    return ((x[0], slope), (x[1]))\n",
    "    ### END SOLUTION\n",
    "\n",
    "\n",
    "\n",
    "def find_collinear(rdd):\n",
    "    \n",
    "    \"\"\"\n",
    "    Finds collinear points.\n",
    "    \n",
    "    Input is an RDD (which is the output of the get_cartesian() function. \n",
    "    \n",
    "    Output is an RDD which does the below operations:\n",
    "    \n",
    "    1. Find the slope of the line between all pairs of points A = (Ax, Ay) and B = (Bx, By).\n",
    "    2. For each (A, B), find all points C = ((C1x, C1y), (C2x, C2y), ... (Cnx, Cny)) \n",
    "       where slope of (A,B) = slope of (A, Ci).\n",
    "    3. Return (A, B, Ck) where Ck = all points of C which satisfy the condition 1.\n",
    "    \n",
    "    For an example, refer the assert statement test for this function.\n",
    "    \n",
    "    HINT:   You should use the above helper functions in conjunction with Spark RDD API (refer http://spark.apache.org/docs/latest/api/python/pyspark.html?highlight=rdd#pyspark.RDD)\n",
    "            Finally, use helper function format_result() appropriately from inside this function after you have implemented the above operations.\n",
    "    \"\"\"\n",
    "    ### BEGIN SOLUTION\n",
    "    rdd = rdd.map(find_slope).groupByKey().mapValues(list).filter(lambda x: len(x[1]) > 1)\n",
    "    \n",
    "    rdd = rdd.map(format_result)\n",
    "    \n",
    "    return rdd\n",
    "    ### END SOLUTION"
   ]
  },
  {
   "cell_type": "code",
   "execution_count": null,
   "metadata": {
    "nbgrader": {
     "grade": true,
     "grade_id": "cell-1bce370d2316341e",
     "locked": true,
     "points": 3,
     "schema_version": 1,
     "solution": false
    }
   },
   "outputs": [],
   "source": [
    "## Let's test the find_slope(x) implementation (3 Points)\n",
    "\n",
    "assert find_slope(((1,2),(3,4))) == (((1,2),1),(3,4))\n",
    "assert find_slope(((1,2),(1,5))) == (((1,2),\"inf\"),(1,5))\n",
    "assert find_slope(((1,2),(2,5))) == (((1,2),3),(2,5))\n",
    "assert find_slope(((1,2),(-7,-2)))[0][1] == 0.5\n",
    "\n",
    "### BEGIN HIDDEN TESTS\n",
    "assert find_slope(((1,2),(1,2))) == (((1,2),\"inf\"),(1,2))\n",
    "assert find_slope(((1,2),(0,5))) == (((1,2),-3),(0,5))\n",
    "assert find_slope(((1,2),(101,5))) == (((1,2),0.03),(101,5))\n",
    "### END HIDDEN TESTS"
   ]
  },
  {
   "cell_type": "code",
   "execution_count": null,
   "metadata": {
    "nbgrader": {
     "grade": true,
     "grade_id": "cell-1506984d3ea630f3",
     "locked": true,
     "points": 5,
     "schema_version": 1,
     "solution": false
    }
   },
   "outputs": [],
   "source": [
    "## Let's test the find_collinear(rdd) implementation (5 Points)\n",
    "\n",
    "test_rdd = sc.parallelize([((4, 2), (2, 1)), ((4, 2), (-3, 4)), ((4, 2), (6, 3)), ((2, 1), (4, 2)), ((2, 1), (-3, 4)), ((2, 1), (6, 3)), ((-3, 4), (4, 2)), ((-3, 4), (2, 1)), ((-3, 4), (6, 3)), ((6, 3), (4, 2)), ((6, 3), (2, 1)), ((6, 3), (-3, 4))])\n",
    "assert find_collinear(test_rdd).collect() == [((4, 2), (6, 3), (2, 1)), ((2, 1), (6, 3), (4, 2)), ((4, 2), (2, 1), (6, 3))]\n",
    "assert isinstance(find_collinear(test_rdd), RDD) == True\n",
    "\n",
    "\n",
    "## BEGIN HIDDEN TESTS\n",
    "test_rdd1 = sc.parallelize([((4, -2), (2, -1)), ((4, -2), (-3, 4)), ((2, -1), (4, -2)), ((2, -1), (-3, 4)), ((-3, 4), (4, -2)), ((-3, 4), (2, -1)), ((4, -2), (6, 3)), ((4, -2), (-9, 4)), ((4, -2), (6, -3)), ((2, -1), (6, 3)), ((2, -1), (-9, 4)), ((2, -1), (6, -3)), ((-3, 4), (6, 3)), ((-3, 4), (-9, 4)), ((-3, 4), (6, -3)), ((4, -2), (8, -4)), ((4, -2), (6, 9)), ((4, -2), (0, 0)), ((2, -1), (8, -4)), ((2, -1), (6, 9)), ((2, -1), (0, 0)), ((-3, 4), (8, -4)), ((-3, 4), (6, 9)), ((-3, 4), (0, 0)), ((4, -2), (1, 2)), ((4, -2), (2, 2)), ((4, -2), (3, 3)), ((2, -1), (1, 2)), ((2, -1), (2, 2)), ((2, -1), (3, 3)), ((-3, 4), (1, 2)), ((-3, 4), (2, 2)), ((-3, 4), (3, 3)), ((4, -2), (-9, -9)), ((2, -1), (-9, -9)), ((-3, 4), (-9, -9)), ((6, 3), (4, -2)), ((6, 3), (2, -1)), ((6, 3), (-3, 4)), ((-9, 4), (4, -2)), ((-9, 4), (2, -1)), ((-9, 4), (-3, 4)), ((6, -3), (4, -2)), ((6, -3), (2, -1)), ((6, -3), (-3, 4)), ((6, 3), (-9, 4)), ((6, 3), (6, -3)), ((-9, 4), (6, 3)), ((-9, 4), (6, -3)), ((6, -3), (6, 3)), ((6, -3), (-9, 4)), ((6, 3), (8, -4)), ((6, 3), (6, 9)), ((6, 3), (0, 0)), ((-9, 4), (8, -4)), ((-9, 4), (6, 9)), ((-9, 4), (0, 0)), ((6, -3), (8, -4)), ((6, -3), (6, 9)), ((6, -3), (0, 0)), ((6, 3), (1, 2)), ((6, 3), (2, 2)), ((6, 3), (3, 3)), ((-9, 4), (1, 2)), ((-9, 4), (2, 2)), ((-9, 4), (3, 3)), ((6, -3), (1, 2)), ((6, -3), (2, 2)), ((6, -3), (3, 3)), ((6, 3), (-9, -9)), ((-9, 4), (-9, -9)), ((6, -3), (-9, -9)), ((8, -4), (4, -2)), ((8, -4), (2, -1)), ((8, -4), (-3, 4)), ((6, 9), (4, -2)), ((6, 9), (2, -1)), ((6, 9), (-3, 4)), ((0, 0), (4, -2)), ((0, 0), (2, -1)), ((0, 0), (-3, 4)), ((8, -4), (6, 3)), ((8, -4), (-9, 4)), ((8, -4), (6, -3)), ((6, 9), (6, 3)), ((6, 9), (-9, 4)), ((6, 9), (6, -3)), ((0, 0), (6, 3)), ((0, 0), (-9, 4)), ((0, 0), (6, -3)), ((8, -4), (6, 9)), ((8, -4), (0, 0)), ((6, 9), (8, -4)), ((6, 9), (0, 0)), ((0, 0), (8, -4)), ((0, 0), (6, 9)), ((8, -4), (1, 2)), ((8, -4), (2, 2)), ((8, -4), (3, 3)), ((6, 9), (1, 2)), ((6, 9), (2, 2)), ((6, 9), (3, 3)), ((0, 0), (1, 2)), ((0, 0), (2, 2)), ((0, 0), (3, 3)), ((8, -4), (-9, -9)), ((6, 9), (-9, -9)), ((0, 0), (-9, -9)), ((1, 2), (4, -2)), ((1, 2), (2, -1)), ((1, 2), (-3, 4)), ((2, 2), (4, -2)), ((2, 2), (2, -1)), ((2, 2), (-3, 4)), ((3, 3), (4, -2)), ((3, 3), (2, -1)), ((3, 3), (-3, 4)), ((-9, -9), (4, -2)), ((-9, -9), (2, -1)), ((-9, -9), (-3, 4)), ((1, 2), (6, 3)), ((1, 2), (-9, 4)), ((1, 2), (6, -3)), ((2, 2), (6, 3)), ((2, 2), (-9, 4)), ((2, 2), (6, -3)), ((3, 3), (6, 3)), ((3, 3), (-9, 4)), ((3, 3), (6, -3)), ((-9, -9), (6, 3)), ((-9, -9), (-9, 4)), ((-9, -9), (6, -3)), ((1, 2), (8, -4)), ((1, 2), (6, 9)), ((1, 2), (0, 0)), ((2, 2), (8, -4)), ((2, 2), (6, 9)), ((2, 2), (0, 0)), ((3, 3), (8, -4)), ((3, 3), (6, 9)), ((3, 3), (0, 0)), ((-9, -9), (8, -4)), ((-9, -9), (6, 9)), ((-9, -9), (0, 0)), ((1, 2), (2, 2)), ((1, 2), (3, 3)), ((2, 2), (1, 2)), ((2, 2), (3, 3)), ((3, 3), (1, 2)), ((3, 3), (2, 2)), ((1, 2), (-9, -9)), ((2, 2), (-9, -9)), ((3, 3), (-9, -9)), ((-9, -9), (1, 2)), ((-9, -9), (2, 2)), ((-9, -9), (3, 3))])\n",
    "assert find_collinear(test_rdd1).collect() == [((4, -2), (6, -3), (8, -4), (0, 0), (2, -1)), ((6, -3), (6, 9), (6, 3)), ((4, -2), (2, -1), (6, -3), (0, 0), (8, -4)), ((4, -2), (2, -1), (6, -3), (8, -4), (0, 0)), ((4, -2), (2, -1), (8, -4), (0, 0), (6, -3)), ((0, 0), (2, 2), (-9, -9), (3, 3)), ((0, 0), (2, 2), (3, 3), (-9, -9)), ((2, -1), (6, -3), (8, -4), (0, 0), (4, -2)), ((6, 3), (6, 9), (6, -3)), ((6, 3), (6, -3), (6, 9)), ((2, 2), (3, 3), (-9, -9), (0, 0)), ((0, 0), (3, 3), (-9, -9), (2, 2))]\n",
    "assert isinstance(find_collinear(test_rdd1), RDD) == True\n",
    "# END HIDDEN TESTS"
   ]
  },
  {
   "cell_type": "code",
   "execution_count": null,
   "metadata": {
    "nbgrader": {
     "grade": true,
     "grade_id": "cell-bfd990be780ce6a8",
     "locked": true,
     "points": 2,
     "schema_version": 1,
     "solution": false
    }
   },
   "outputs": [],
   "source": [
    "## Let's test find_collinear(rdd) when run with output of get_cartesian(rdd) (2 Points)\n",
    "\n",
    "test_rdd = sc.parallelize([(4, -2), (2, -1), (-3,4), (6,3), (-9,4), (6, -3), (8,-4), (6,9)])\n",
    "test_rdd = get_cartesian(test_rdd)\n",
    "assert find_collinear(test_rdd).collect() == [((6, -3), (6, 9), (6, 3)), ((4, -2), (2, -1), (8, -4), (6, -3)), ((2, -1), (6, -3), (8, -4), (4, -2)), ((6, 3), (6, 9), (6, -3)), ((4, -2), (6, -3), (8, -4), (2, -1)), ((6, 3), (6, -3), (6, 9)), ((4, -2), (2, -1), (6, -3), (8, -4))]\n",
    "\n",
    "## BEGIN HIDDEN TESTS\n",
    "test_rdd1 = sc.parallelize([(4, -2), (2, -1), (-3,4), (6,3), (-9,4), (6, -3), (8,-4), (6,9), (0,0),(1,2),(2,2),(3,3),(-9,-9)])\n",
    "test_rdd1 = get_cartesian(test_rdd1)\n",
    "assert find_collinear(test_rdd1).collect() == [((4, -2), (2, -1), (6, -3), (8, -4), (0, 0)), ((0, 0), (3, 3), (-9, -9), (2, 2)), ((6, -3), (6, 9), (6, 3)), ((4, -2), (2, -1), (8, -4), (0, 0), (6, -3)), ((0, 0), (2, 2), (3, 3), (-9, -9)), ((2, -1), (6, -3), (8, -4), (0, 0), (4, -2)), ((6, 3), (6, 9), (6, -3)), ((2, 2), (3, 3), (-9, -9), (0, 0)), ((4, -2), (6, -3), (8, -4), (0, 0), (2, -1)), ((6, 3), (6, -3), (6, 9)), ((4, -2), (2, -1), (6, -3), (0, 0), (8, -4)), ((0, 0), (2, 2), (-9, -9), (3, 3))]\n",
    "## END HIDDEN TESTS"
   ]
  },
  {
   "cell_type": "markdown",
   "metadata": {},
   "source": [
    "### Add tests for each individual function\n",
    "\n",
    "**Yoav:** Including checking thaat the output is an RDD with the correct format."
   ]
  },
  {
   "cell_type": "markdown",
   "metadata": {},
   "source": [
    "### This cell below runs all of the above functions step by step. Do not change this cell."
   ]
  },
  {
   "cell_type": "code",
   "execution_count": null,
   "metadata": {
    "nbgrader": {
     "grade": false,
     "grade_id": "Collinear-main",
     "locked": true,
     "schema_version": 1,
     "solution": false
    }
   },
   "outputs": [],
   "source": [
    "def get_collinear(filename):\n",
    "    \"\"\"\n",
    "    Computes the set of collinear points\n",
    "    \"\"\"\n",
    "    \n",
    "    # Load the data file into an RDD\n",
    "    rdd = sc.textFile(filename)\n",
    "    \n",
    "    # Transform the loaded points into tuples\n",
    "    rdd = rdd.map(to_tuple)\n",
    "    \n",
    "    # Transform the RDD to now have the cartesian product of the RDD with itself\n",
    "    rdd = get_cartesian(rdd)\n",
    "    \n",
    "    # Transform the RDD to now just have sets of Collinear Points \n",
    "    rdd = find_collinear(rdd)\n",
    "    \n",
    "    # Sorting each of your returned sets of collinear points. This is for grading purposes. You may ignore this.\n",
    "    rdd = rdd.map(to_sorted_points)\n",
    "    \n",
    "    # Collecting the collinear points RDD in a set to remove duplicate sets of collinear points. This is for grading purposes. You may ignore this.\n",
    "    res = set(rdd.collect())\n",
    "    \n",
    "    return res"
   ]
  },
  {
   "cell_type": "code",
   "execution_count": null,
   "metadata": {
    "nbgrader": {
     "grade": true,
     "grade_id": "Collinear_soln_visible",
     "locked": false,
     "points": 5,
     "schema_version": 1,
     "solution": false
    }
   },
   "outputs": [],
   "source": [
    "\"\"\"\n",
    "    Check that the get_collinear() function returns the correct output for several input files.\n",
    "    You may assume that input files do not have duplicate points. (10 points)\n",
    "    \n",
    "\"\"\"\n",
    "assert get_collinear(\"data.txt\") == {((-2, -2), (1, 1), (2, 2), (3, 3)), ((0, 1), (3, 4), (5, 6)), ((0, -3), (0, 1), (0, 5))}\n",
    "assert get_collinear(\"data50.txt\") == {((3, 6), (7, 4), (9, 3)), ((1, 6), (3, 6), (4, 6), (7, 6)), \n",
    "                                 ((0, 2), (3, 1), (6, 0)), ((1, 0), (2, 0), (5, 0), (6, 0)), \n",
    "                                 ((1, 3), (3, 6), (5, 9)), ((0, 8), (4, 6), (6, 5)), \n",
    "                                 ((6, 0), (6, 1), (6, 5), (6, 9)), \n",
    "                                 ((7, 2), (7, 3), (7, 4), (7, 6), (7, 8)), ((3, 1), (3, 3), (3, 6)), \n",
    "                                 ((0, 2), (1, 2), (5, 2), (7, 2)), ((0, 3), (2, 5), (3, 6), (6, 9)), \n",
    "                                 ((0, 2), (1, 3), (2, 4), (4, 6), (5, 7)), ((1, 2), (4, 3), (7, 4)), \n",
    "                                 ((0, 3), (4, 6), (8, 9)), ((9, 3), (9, 4), (9, 5)), ((2, 5), (5, 7), (8, 9)), \n",
    "                                 ((0, 5), (2, 4), (4, 3), (8, 1)), ((0, 8), (1, 6), (2, 4)), \n",
    "                                 ((3, 6), (5, 2), (6, 0)), ((5, 9), (6, 9), (8, 9)), \n",
    "                                 ((0, 8), (1, 8), (7, 8)), ((0, 4), (1, 3), (3, 1)), ((5, 9), (7, 6), (9, 3)), \n",
    "                                 ((1, 2), (2, 4), (3, 6)), ((0, 7), (1, 5), (3, 1)), \n",
    "                                 ((1, 5), (2, 4), (3, 3), (6, 0)), ((0, 2), (3, 3), (9, 5)), \n",
    "                                 ((0, 7), (1, 6), (2, 5), (4, 3), (5, 2), (6, 1)), \n",
    "                                 ((0, 4), (1, 5), (5, 9)), ((1, 5), (3, 6), (5, 7), (7, 8)), \n",
    "                                 ((1, 6), (3, 3), (5, 0)), ((3, 6), (4, 3), (5, 0)), \n",
    "                                 ((1, 2), (4, 5), (7, 8), (8, 9)), ((0, 2), (1, 1), (2, 0)), \n",
    "                                 ((3, 3), (4, 5), (5, 7), (6, 9)), ((0, 2), (0, 3), (0, 4), (0, 5), (0, 7), (0, 8)), \n",
    "                                 ((2, 0), (4, 3), (8, 9)), ((5, 7), (6, 5), (7, 3), (8, 1)), ((5, 0), (7, 6), (8, 9)), \n",
    "                                 ((5, 0), (6, 1), (7, 2), (9, 4)), ((0, 4), (1, 2), (2, 0)), \n",
    "                                 ((1, 1), (3, 1), (6, 1), (8, 1)), ((5, 7), (7, 6), (9, 5)), ((1, 1), (7, 4), (9, 5)), \n",
    "                                 ((0, 4), (2, 4), (7, 4), (9, 4)), ((1, 0), (3, 1), (5, 2), (7, 3), (9, 4)), \n",
    "                                 ((2, 0), (3, 3), (4, 6), (5, 9)), ((4, 3), (4, 5), (4, 6)), \n",
    "                                 ((1, 0), (4, 3), (6, 5), (7, 6)), ((0, 3), (2, 4), (4, 5)), \n",
    "                                 ((1, 6), (4, 5), (7, 4)), ((1, 0), (1, 1), (1, 2), (1, 3), (1, 5), (1, 6), (1, 8)), \n",
    "                                 ((0, 3), (1, 3), (3, 3), (4, 3), (7, 3), (9, 3)), ((0, 4), (2, 5), (4, 6)), \n",
    "                                 ((0, 7), (3, 6), (6, 5), (9, 4)), ((1, 8), (4, 6), (7, 4)), \n",
    "                                 ((0, 5), (3, 3), (6, 1)), ((1, 8), (3, 6), (4, 5), (7, 2), (8, 1)), \n",
    "                                 ((1, 2), (3, 1), (5, 0)), ((1, 1), (5, 2), (9, 3)), \n",
    "                                 ((5, 0), (5, 2), (5, 7), (5, 9)), ((0, 5), (1, 5), (2, 5), (4, 5), (6, 5), (9, 5)), \n",
    "                                 ((3, 1), (4, 5), (5, 9)), ((2, 0), (2, 4), (2, 5)), ((5, 2), (6, 5), (7, 8))}\n",
    "# assert execute(\"test.txt\") == {((1, 0), (2, 0), (3, 0))}"
   ]
  },
  {
   "cell_type": "code",
   "execution_count": null,
   "metadata": {
    "nbgrader": {
     "grade": true,
     "grade_id": "Collinear_soln_hidden1",
     "locked": false,
     "points": 5,
     "schema_version": 1,
     "solution": false
    }
   },
   "outputs": [],
   "source": [
    "### BEGIN HIDDEN TESTS\n",
    "import ast\n",
    "\n",
    "with open('data100_res.txt','r') as f:\n",
    "     d = ast.literal_eval(f.read())\n",
    "assert execute(\"data100.txt\") == d\n",
    "### END HIDDEN TESTS"
   ]
  },
  {
   "cell_type": "code",
   "execution_count": null,
   "metadata": {
    "nbgrader": {
     "grade": true,
     "grade_id": "Collinear_soln_hidden2",
     "locked": false,
     "points": 5,
     "schema_version": 1,
     "solution": false
    }
   },
   "outputs": [],
   "source": [
    "### BEGIN HIDDEN TESTS\n",
    "with open('data200_res.txt','r') as f:\n",
    "     d = ast.literal_eval(f.read())\n",
    "assert execute(\"data200.txt\") == d\n",
    "### END HIDDEN TESTS"
   ]
  },
  {
   "cell_type": "code",
   "execution_count": null,
   "metadata": {
    "nbgrader": {
     "grade": true,
     "grade_id": "Collinear_soln_hidden3",
     "locked": false,
     "points": 5,
     "schema_version": 1,
     "solution": false
    }
   },
   "outputs": [],
   "source": [
    "### BEGIN HIDDEN TESTS\n",
    "with open('data400_res.txt','r') as f:\n",
    "     d = ast.literal_eval(f.read())\n",
    "assert execute(\"data400.txt\") == d\n",
    "### END HIDDEN TESTS"
   ]
  },
  {
   "cell_type": "code",
   "execution_count": null,
   "metadata": {
    "nbgrader": {
     "grade": true,
     "grade_id": "Collinear_soln_hidden4",
     "locked": false,
     "points": 5,
     "schema_version": 1,
     "solution": false
    }
   },
   "outputs": [],
   "source": [
    "### BEGIN HIDDEN TESTS\n",
    "with open('data800_res.txt','r') as f:\n",
    "     d = ast.literal_eval(f.read())\n",
    "assert get_collinear(\"data800.txt\") == d\n",
    "### END HIDDEN TESTS"
   ]
  },
  {
   "cell_type": "code",
   "execution_count": null,
   "metadata": {
    "nbgrader": {
     "grade": true,
     "grade_id": "Collinear_invalid_input",
     "locked": false,
     "points": 5,
     "schema_version": 1,
     "solution": false
    }
   },
   "outputs": [],
   "source": [
    "## TODO: Not sure we need this cell in the released HW. If not, please delete it.\n",
    "\n",
    "## 0 points\n",
    "\"\"\"Check that the get_collinear() function raises an error for invalid input files\"\"\"\n",
    "try:\n",
    "    get_collinear(\"data.txt\")\n",
    "except ValueError:\n",
    "    raise AssertionError(\"Data points do not match the expected format.\")\n",
    "else:\n",
    "    pass"
   ]
  }
 ],
 "metadata": {
  "celltoolbar": "Create Assignment",
  "kernelspec": {
   "display_name": "Python 3",
   "language": "python",
   "name": "python3"
  },
  "language_info": {
   "codemirror_mode": {
    "name": "ipython",
    "version": 3
   },
   "file_extension": ".py",
   "mimetype": "text/x-python",
   "name": "python",
   "nbconvert_exporter": "python",
   "pygments_lexer": "ipython3",
   "version": "3.6.4"
  }
 },
 "nbformat": 4,
 "nbformat_minor": 1
}
