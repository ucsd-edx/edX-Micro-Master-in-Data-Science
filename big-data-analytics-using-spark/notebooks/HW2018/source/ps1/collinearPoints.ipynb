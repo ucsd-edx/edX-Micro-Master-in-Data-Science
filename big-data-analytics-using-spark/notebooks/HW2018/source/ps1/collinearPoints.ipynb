{
 "cells": [
  {
   "cell_type": "markdown",
   "metadata": {
    "nbgrader": {
     "grade": false,
     "grade_id": "cell-601b4a206f8f71fd",
     "locked": true,
     "schema_version": 1,
     "solution": false
    }
   },
   "source": [
    "## CSE 255 Problem Set 1: Collinear points\n",
    "\n",
    "For this problem set, we'll be using the Jupyter notebook:\n",
    "\n",
    "![](jupyter.png)"
   ]
  },
  {
   "cell_type": "markdown",
   "metadata": {
    "nbgrader": {
     "grade": false,
     "grade_id": "cell-1f0aaa1b0eeb62ff",
     "locked": true,
     "schema_version": 1,
     "solution": false
    }
   },
   "source": [
    "### In this problem set, you will write python3 code to find sets of collinear points given __ 2D points.\n",
    "\n",
    "Definition of collinearity: In geometry, collinearity of a set of points is the property of their lying on a single line. A set of points with this property is said to be collinear.\n",
    "\n",
    "![](non-collinear-points.jpg)\n",
    "\n",
    "Here, points P,Q,R and A,R,B are collinear. However, points A,B,C are non-collinear.\n",
    "\n",
    "Given an input file with a set of co-ordinates, your task is to use pyspark library functions to write a program to find if three points are collinear.\n",
    "\n",
    "For instance, if given these points: {(1,1), (0,1), (2,2), (3,3), (0,5), (3,4), (5,6), (0,-3), (-2,-2)}\n",
    "\n",
    "Sets of collinear points are: {((-2,-2), (1,1), (2,2), (3,3)), ((0,1), (3,4), (5,6)), ((0,-3), (0,1), (0,5))}. Note that the ordering of the points in a set or the order of the sets does not matter. \n",
    "\n",
    "Note: Every set has to have atleast three points (single point or a pair of points always lie on a line).\n",
    "\n",
    "1. https://en.wikipedia.org/wiki/Collinearity\n",
    "2. http://www.mathcaptain.com/geometry/collinear-points.html"
   ]
  },
  {
   "cell_type": "code",
   "execution_count": 1,
   "metadata": {
    "nbgrader": {
     "grade": false,
     "grade_id": "cell-5f266efcf9bf6846",
     "locked": true,
     "schema_version": 1,
     "solution": false
    }
   },
   "outputs": [],
   "source": [
    "from pyspark import SparkContext, SparkConf\n",
    "conf = SparkConf().setAppName(\"Collinear Points\").setMaster(\"local[4]\")\n",
    "sc = SparkContext(conf=conf)"
   ]
  },
  {
   "cell_type": "markdown",
   "metadata": {},
   "source": [
    "### Approach\n",
    "\n",
    "1. Find Cartesian product of the RDD with itself, so that you get a set of a pair of distinct point co-ordinates. For instance, if your RDD is {(1,0), (2,0), (3,0)}, the function should return {((1,0), (2,0)), ((2,0), (1,0)), ((1,0), (3,0)), ((3,0), (1,0)), ((2,0), (3,0)), ((3,0), (2,0))}\n",
    "2. Find the slope between pairs of all points. If more than one pair have the same slope and one of the points is common, it means that the three points are collinear. For instance, let's take the result from the previous step as {((1,0), (2,0)), ((2,0), (1,0)), ((1,0), (3,0)), ((3,0), (1,0)), ((2,0), (3,0)), ((3,0), (2,0))}. Slope between (1,0) and (2,0) is 0, and slope between (1,0) and (3,0) is 0. Since (1,0) is common to both of them, they must all be collinear.\n"
   ]
  },
  {
   "cell_type": "code",
   "execution_count": 2,
   "metadata": {
    "collapsed": true,
    "nbgrader": {
     "grade": false,
     "grade_id": "collinear-preprocess",
     "locked": false,
     "schema_version": 1,
     "solution": true
    }
   },
   "outputs": [],
   "source": [
    "### BEGIN SOLUTION\n",
    "def convert_to_tuples(x):\n",
    "    arr = x.split()\n",
    "    return tuple([int(el) for el in arr])\n",
    "\n",
    "def filt(x):                \n",
    "    return x[0] != x[1]\n",
    "\n",
    "def sort_elements(x):\n",
    "    return tuple(sorted(x))\n",
    "\n",
    "def remove_duplicates(x, y):\n",
    "    return set((x,y))\n",
    "### END SOLUTION\n",
    "\n",
    "def preprocessing(rdd):\n",
    "    \"\"\"\n",
    "    Find Cartesian product of the RDD with itself, and ensure you get a set of a pair of DISTINCT point co-ordinates\n",
    "    \"\"\"\n",
    "    ### BEGIN SOLUTION\n",
    "    \n",
    "    #Finding cartesian product\n",
    "    rdd = rdd.map(convert_to_tuples)\n",
    "    rdd = rdd.cartesian(rdd)\n",
    "    \n",
    "    #To remove duplicates points, i.e. ((1,0), (1,0))\n",
    "    rdd = rdd.filter(filt)\n",
    "    ### END SOLUTION\n",
    "    return rdd"
   ]
  },
  {
   "cell_type": "code",
   "execution_count": 3,
   "metadata": {
    "collapsed": true,
    "nbgrader": {
     "grade": false,
     "grade_id": "Collinear-slope",
     "locked": false,
     "schema_version": 1,
     "solution": true
    }
   },
   "outputs": [],
   "source": [
    "### BEGIN SOLUTION\n",
    "def find_slope(x):\n",
    "    if x[1][0] - x[0][0] == 0:\n",
    "        slope = \"inf\"\n",
    "    else:\n",
    "        slope = 1.0 * (x[1][1] - x[0][1])/(x[1][0] - x[0][0])\n",
    "    return ((x[0], slope), (x[1]))\n",
    "\n",
    "def returnpoints(x):\n",
    "    x[1].append(x[0][0])\n",
    "    return tuple(x[1])\n",
    "### END SOLUTION\n",
    "\n",
    "def find_collinear(rdd):\n",
    "    \"\"\"\n",
    "    1. Find the slope of the line between all pairs of points A = (Ax, Ay) and B = (Bx, By).\n",
    "    2. For each (A, B), find all points C = ((C1x, C1y), (C2x, C2y), ... (Cnx, Cny)) \n",
    "       where slope of (A,B) = slope of (A, Ci).\n",
    "    3. Return (A, B, Ck) where Ck = all points of C which satisfy the condition 1.\n",
    "    \"\"\"\n",
    "    ### BEGIN SOLUTION\n",
    "    rdd = rdd.map(find_slope).groupByKey().mapValues(list).filter(lambda x: len(x[1]) > 1)\n",
    "    rdd = rdd.map(returnpoints)\n",
    "    ### END SOLUTION\n",
    "    return rdd"
   ]
  },
  {
   "cell_type": "code",
   "execution_count": 4,
   "metadata": {
    "collapsed": true,
    "nbgrader": {
     "grade": false,
     "grade_id": "Collinear-main",
     "locked": true,
     "schema_version": 1,
     "solution": false
    }
   },
   "outputs": [],
   "source": [
    "def get_sorted(x):\n",
    "    return tuple(sorted(x))\n",
    "\n",
    "def execute(filename):\n",
    "    \"\"\"\n",
    "    Compute the set of collinear points\n",
    "    \"\"\"\n",
    "    rdd = sc.textFile(filename)\n",
    "    rdd = preprocessing(rdd)\n",
    "    rdd = find_collinear(rdd)\n",
    "    rdd = rdd.map(get_sorted)\n",
    "    res = set(rdd.collect())\n",
    "    return res"
   ]
  },
  {
   "cell_type": "code",
   "execution_count": 5,
   "metadata": {
    "collapsed": true
   },
   "outputs": [],
   "source": [
    "#Intermediate tests\n",
    "#sorted(preprocessing(sc.textFile(\"data.txt\")).collect())"
   ]
  },
  {
   "cell_type": "code",
   "execution_count": 6,
   "metadata": {
    "nbgrader": {
     "grade": true,
     "grade_id": "Collinear_soln",
     "locked": false,
     "points": 1,
     "schema_version": 1,
     "solution": false
    }
   },
   "outputs": [],
   "source": [
    "\"\"\"Check that the get_collinear function returns the correct output for several all input files\"\"\"\n",
    "assert execute(\"data.txt\") == {((-2, -2), (1, 1), (2, 2), (3, 3)), ((0, 1), (3, 4), (5, 6)), ((0, -3), (0, 1), (0, 5))}\n",
    "assert execute(\"test.txt\") == {((1, 0), (2, 0), (3, 0))}\n",
    "### BEGIN HIDDEN TESTS\n",
    "\n",
    "### END HIDDEN TESTS"
   ]
  },
  {
   "cell_type": "code",
   "execution_count": 8,
   "metadata": {
    "nbgrader": {
     "grade": true,
     "grade_id": "Collinear_invalid_input",
     "locked": false,
     "points": 1,
     "schema_version": 1,
     "solution": false
    }
   },
   "outputs": [
    {
     "ename": "AssertionError",
     "evalue": "did not raise",
     "output_type": "error",
     "traceback": [
      "\u001b[0;31m---------------------------------------------------------------------------\u001b[0m",
      "\u001b[0;31mAssertionError\u001b[0m                            Traceback (most recent call last)",
      "\u001b[0;32m<ipython-input-8-60ee0ec044c1>\u001b[0m in \u001b[0;36m<module>\u001b[0;34m()\u001b[0m\n\u001b[1;32m      5\u001b[0m     \u001b[0;32mpass\u001b[0m\u001b[0;34m\u001b[0m\u001b[0m\n\u001b[1;32m      6\u001b[0m \u001b[0;32melse\u001b[0m\u001b[0;34m:\u001b[0m\u001b[0;34m\u001b[0m\u001b[0m\n\u001b[0;32m----> 7\u001b[0;31m     \u001b[0;32mraise\u001b[0m \u001b[0mAssertionError\u001b[0m\u001b[0;34m(\u001b[0m\u001b[0;34m\"did not raise\"\u001b[0m\u001b[0;34m)\u001b[0m\u001b[0;34m\u001b[0m\u001b[0m\n\u001b[0m",
      "\u001b[0;31mAssertionError\u001b[0m: did not raise"
     ]
    }
   ],
   "source": [
    "\"\"\"Check that the get_collinear function raises an error for invalid input files\"\"\"\n",
    "try:\n",
    "    execute(\"data.txt\")\n",
    "except ValueError:\n",
    "    pass\n",
    "else:\n",
    "    raise AssertionError(\"did not raise\")"
   ]
  },
  {
   "cell_type": "code",
   "execution_count": null,
   "metadata": {
    "collapsed": true
   },
   "outputs": [],
   "source": []
  }
 ],
 "metadata": {
  "celltoolbar": "Create Assignment",
  "kernelspec": {
   "display_name": "Python 2",
   "language": "python",
   "name": "python2"
  },
  "language_info": {
   "codemirror_mode": {
    "name": "ipython",
    "version": 2
   },
   "file_extension": ".py",
   "mimetype": "text/x-python",
   "name": "python",
   "nbconvert_exporter": "python",
   "pygments_lexer": "ipython2",
   "version": "2.7.13"
  }
 },
 "nbformat": 4,
 "nbformat_minor": 1
}
