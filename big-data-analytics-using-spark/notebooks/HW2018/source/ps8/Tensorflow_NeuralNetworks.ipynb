{
 "cells": [
  {
   "cell_type": "markdown",
   "metadata": {
    "nbgrader": {
     "grade": false,
     "grade_id": "cell-158395db1eb13989",
     "locked": true,
     "schema_version": 1,
     "solution": false
    }
   },
   "source": [
    " **<font size=5>Programming Assignment 8: Neural Networks with Tensorflow</font>**"
   ]
  },
  {
   "cell_type": "markdown",
   "metadata": {
    "nbgrader": {
     "grade": false,
     "grade_id": "cell-c303936544fce875",
     "locked": true,
     "schema_version": 1,
     "solution": false
    }
   },
   "source": [
    "## Problem Statement\n",
    "\n",
    "In this programming assignment, you will write Tensorflow code to distinguish between a signal process which produces Higgs bosons and a background process which does not. We model this problem as a binary classification problem. \n",
    "\n",
    "Note: This assignment is not designed to make you a professional Tensorflow programmer, but rather to introduce you to, and make you practice, the basic constructs and functionalities of Tensorflow. "
   ]
  },
  {
   "cell_type": "markdown",
   "metadata": {
    "nbgrader": {
     "grade": false,
     "grade_id": "cell-9cedd227ae71fb17",
     "locked": true,
     "schema_version": 1,
     "solution": false
    }
   },
   "source": [
    "### CPU vs GPU\n",
    "\n",
    "You may want to read [this article](https://www.analyticsvidhya.com/blog/2017/05/gpus-necessary-for-deep-learning/) to know more about the CPU vs GPU discussion. This is totally optional, still highly recommended for those who are interested. \n",
    "\n",
    "When working locally, most of you would not have access to a [GPU](https://en.wikipedia.org/wiki/Graphics_processing_unit). However, once you have finished the assignment, you will submit your code on EdX, which will further be forwarded to a GPU instance running on AWS. Your code, when run on the GPU environment, should run much faster. \n",
    "\n",
    "However, you do not need to write any \"GPU specific\" code. Tensorflow automatically recognizes the underlying hardware, and optimizes your code to run accordingly.\n",
    "\n",
    "The most common bottleneck to training faster with a GPU is usually the speed at which data is fed to the GPU for processing. So the input data pipeline is an important construct when writing efficient, scalable code to train Neural networks using Tensorflow."
   ]
  },
  {
   "cell_type": "markdown",
   "metadata": {
    "nbgrader": {
     "grade": false,
     "grade_id": "cell-f87b642b5252980b",
     "locked": true,
     "schema_version": 1,
     "solution": false
    }
   },
   "source": [
    "### Dataset\n",
    "\n",
    "For this assignment, we will use sampled data from a well known dataset: [Higgs Dataset](https://archive.ics.uci.edu/ml/datasets/HIGGS). \n",
    "\n",
    "Some information regarding the data and the problem: \n",
    "\n",
    "This is a classification problem to distinguish between a signal process which produces Higgs bosons and a background process which does not. The data has been produced using Monte Carlo simulations. The first 21 features (columns 2-22) are kinematic properties measured by the particle detectors in the accelerator. The last seven features are functions of the first 21 features; these are high-level features derived by physicists to help discriminate between the two classes."
   ]
  },
  {
   "cell_type": "markdown",
   "metadata": {
    "nbgrader": {
     "grade": false,
     "grade_id": "cell-0f1b9f41248e8378",
     "locked": true,
     "schema_version": 1,
     "solution": false
    }
   },
   "source": [
    "The train and test files have the following characteristics:\n",
    "\n",
    "- The first row is a header that contains a comma-separated list of the names of the label and attributes\n",
    "- Each successive row represents a single example\n",
    "- The first column of each example is the label to be learned, and all other columns are attribute values.\n",
    "- All attributes are numerical i.e. real numbers."
   ]
  },
  {
   "cell_type": "markdown",
   "metadata": {
    "nbgrader": {
     "grade": false,
     "grade_id": "cell-fc620c75541dd80e",
     "locked": true,
     "schema_version": 1,
     "solution": false
    }
   },
   "source": [
    "### Testing and Evaluation\n",
    "\n",
    "\n",
    "For local testing and for two of the three submissions, you will use the small training and test datasets that have been provided along with this notebook. \n",
    "\n",
    "When submitting on EdX, your code will be trained and evaluated on a much larger sample of the full dataset. \n",
    "\n",
    "Some suggestions you should keep in mind while implementing the functions:\n",
    "\n",
    "- Avoid doing repeated work i.e. anything that could be done outside the loop, should be outside.\n",
    "- Read the markdown of this notebook carefully."
   ]
  },
  {
   "cell_type": "markdown",
   "metadata": {
    "nbgrader": {
     "grade": false,
     "grade_id": "cell-6995099148a8d8ee",
     "locked": true,
     "schema_version": 1,
     "solution": false
    }
   },
   "source": [
    "### Configuration File\n",
    "\n",
    "To make your code more robust, and to aid the process of grading your work, most of the required parameters for the network training and testing will come from a [YAML](http://yaml.org/) config file named \"nn_config.yaml\". \n",
    "\n",
    "This file is present in the same directory as the notebook. We have added default values to parameters, but you may modify them for debugging purposes. \n",
    "\n",
    "Information regarding what these variables mean, and how you should use them is present as comments in the yaml file. Information regarding how to read variables from the YAML config file is mentioned later in this notebook.\n",
    "\n",
    "However, remember that for grading your work we will use our own config files. So your code should always refer to variable values from the config file."
   ]
  },
  {
   "cell_type": "code",
   "execution_count": 1,
   "metadata": {
    "nbgrader": {
     "grade": false,
     "grade_id": "cell-0e011b46c2ce211f",
     "locked": true,
     "schema_version": 1,
     "solution": false
    }
   },
   "outputs": [
    {
     "name": "stdout",
     "output_type": "stream",
     "text": [
      "## Training data file path\r\n",
      "training_data_path: ./higgs_train_large.csv\r\n",
      "\r\n",
      "## Testing data file path\r\n",
      "test_data_path: ./higgs_test_large.csv \r\n",
      "\r\n",
      "## Location in which you will save the pickle file containing predictions on test data\r\n",
      "output_predictions_pickle_path: ./test_predictions.pkl\r\n",
      "\r\n",
      "## How to split the input training data into train and validation sets. Value of 0.8 means that if there were initially 100 training examples in the input data, you should split them such that the first 80 are used as training examples and last 20 should be used for validation.\r\n",
      "training_to_validation_ratio: 0.8\r\n",
      "\r\n",
      "## the learning rate you should use for your optimizer \r\n",
      "learning_rate: 0.05\r\n",
      "\r\n",
      "## the total number of epochs or iterations to run over the (80) training examples\r\n",
      "epochs: 300\r\n",
      "\r\n",
      "## the number of mini batches in which you should split your training examples. Continuing with our example, if this value is 10, then each mini batch will have 8 training examples.\r\n",
      "num_mini_batches: 5\r\n",
      "\r\n",
      "## this variable is for your own use to modify when you would like to print any debug statements inside your training loop. For example, a value of 5 may suggest that you should print the training loss, validation loss, training accuracy and validation accuracy every 5 epochs.\r\n",
      "display_step: 1\r\n",
      "\r\n",
      "## the size of the network. If first_layer: 20 and second_layer: 8 then you should set the number of hidden units in first hidden layer and second layer to be 20 and 8 respectively.\r\n",
      "hidden_layer_sizes: \r\n",
      "    first_layer: 25\r\n",
      "    second_layer: 15\r\n",
      "\r\n",
      "dataset_size: large"
     ]
    }
   ],
   "source": [
    "# Let's look at the contents of the YAML config file\n",
    "!cat Data/nn_config.yaml "
   ]
  },
  {
   "cell_type": "markdown",
   "metadata": {
    "nbgrader": {
     "grade": false,
     "grade_id": "cell-4a4e23526701b920",
     "locked": true,
     "schema_version": 1,
     "solution": false
    }
   },
   "source": [
    "## Gameplan\n",
    "\n",
    "You will write robust code that builds a feedforward neural network, and trains it according to the given set of parameters.\n",
    "\n",
    "1. We will first load the training and test data using the parameters from the config file.\n",
    "2. We will then split the training data into training and validation sets using the value of \"training_to_validation_ratio\" parameter in the config. \n",
    "    For example, if the param is 0.8, it means that the initial 80% of the data should be kept for training, while the rest 20% should be used for validation.\n",
    "3. We will use Cross Entropy Loss as our cost functions and minimize it using AdamOptimizer as our optimizer.\n",
    "4. We will train our model in batches inside our main training loop. You will divide the training data into `num_batches` number of mini batches and for each epoch you will iterate and train over those many number of batches.\n",
    "5. You can use \"display_step\" param to control the frequency of print statements.\n",
    "6. You will maintain a list of training accuracies and losses (one value for each epoch).\n",
    "7. You will maintain a list of validation accuracy and loss (one value for each epoch)."
   ]
  },
  {
   "cell_type": "markdown",
   "metadata": {
    "nbgrader": {
     "grade": false,
     "grade_id": "cell-c5dc5f0d1795d09a",
     "locked": true,
     "schema_version": 1,
     "solution": false
    }
   },
   "source": [
    "\n",
    "    The function tf.reduce_sum will allow you to sum across all instances.\n",
    "    "
   ]
  },
  {
   "cell_type": "markdown",
   "metadata": {
    "nbgrader": {
     "grade": false,
     "grade_id": "cell-2952f5d422d0d1e7",
     "locked": true,
     "schema_version": 1,
     "solution": false
    }
   },
   "source": [
    "5) You should train your network using your inputted learning rate and for the inputted number of iterations. The iterations are simply a loop that calls Backpropagation a fixed number of times."
   ]
  },
  {
   "cell_type": "markdown",
   "metadata": {},
   "source": [
    "## Initialization "
   ]
  },
  {
   "cell_type": "code",
   "execution_count": 2,
   "metadata": {
    "nbgrader": {
     "grade": false,
     "grade_id": "cell-9c01b1c216ee0572",
     "locked": true,
     "schema_version": 1,
     "solution": false
    }
   },
   "outputs": [],
   "source": [
    "## Tensorflow produces a lot of warnings. We generally want to suppress them. The below code does exactly that. \n",
    "import warnings\n",
    "warnings.filterwarnings('ignore')"
   ]
  },
  {
   "cell_type": "code",
   "execution_count": 3,
   "metadata": {
    "nbgrader": {
     "grade": false,
     "grade_id": "cell-a554a48f73f64b13",
     "locked": true,
     "schema_version": 1,
     "solution": false
    }
   },
   "outputs": [],
   "source": [
    "import tensorflow as tf\n",
    "import numpy as np\n",
    "from matplotlib import pyplot as plt\n",
    "\n",
    "## Pretty Print\n",
    "import pprint as pp"
   ]
  },
  {
   "cell_type": "code",
   "execution_count": 4,
   "metadata": {
    "nbgrader": {
     "grade": false,
     "grade_id": "cell-d1e7a22edc0fe397",
     "locked": true,
     "schema_version": 1,
     "solution": false
    }
   },
   "outputs": [],
   "source": [
    "import yaml\n",
    "def import_config():\n",
    "    with open(\"Data/nn_config.yaml\", 'r') as ymlfile:\n",
    "        try:\n",
    "            cfg = yaml.load(ymlfile)\n",
    "        except yaml.YAMLError as err:\n",
    "            print(err)\n",
    "    return cfg"
   ]
  },
  {
   "cell_type": "code",
   "execution_count": 5,
   "metadata": {
    "nbgrader": {
     "grade": false,
     "grade_id": "cell-fbb7c3cab0be00a7",
     "locked": true,
     "schema_version": 1,
     "solution": false
    }
   },
   "outputs": [
    {
     "name": "stdout",
     "output_type": "stream",
     "text": [
      "Default GPU Device: /device:GPU:0\n"
     ]
    }
   ],
   "source": [
    "## The below function tests if Tensorflow has access to GPU or not.\n",
    "def test_cpu_gpu():\n",
    "    if tf.test.gpu_device_name():\n",
    "        print('Default GPU Device: {}'.format(tf.test.gpu_device_name()))\n",
    "    else:\n",
    "        print('''Your hardware either does not have a GPU or is not configured to use the GPU version of TF.\n",
    "        However, you do not need a GPU for this assignment as you will be completing this assigment on a\n",
    "        CPU enviroment, but evaluating it on a GPU enviroment.''')\n",
    "        \n",
    "test_cpu_gpu()"
   ]
  },
  {
   "cell_type": "code",
   "execution_count": 6,
   "metadata": {
    "nbgrader": {
     "grade": false,
     "grade_id": "cell-4a59bb5add2fa75d",
     "locked": true,
     "schema_version": 1,
     "solution": false
    }
   },
   "outputs": [
    {
     "name": "stdout",
     "output_type": "stream",
     "text": [
      "{'dataset_size': 'large',\n",
      " 'display_step': 1,\n",
      " 'epochs': 300,\n",
      " 'hidden_layer_sizes': {'first_layer': 25, 'second_layer': 15},\n",
      " 'learning_rate': 0.05,\n",
      " 'num_mini_batches': 5,\n",
      " 'output_predictions_pickle_path': './test_predictions.pkl',\n",
      " 'test_data_path': './higgs_test_large.csv',\n",
      " 'training_data_path': './higgs_train_large.csv',\n",
      " 'training_to_validation_ratio': 0.8}\n"
     ]
    }
   ],
   "source": [
    "cfg = import_config()\n",
    "\n",
    "## Is it loaded correctly?\n",
    "pp.pprint(cfg)"
   ]
  },
  {
   "cell_type": "markdown",
   "metadata": {},
   "source": [
    "## Reading in Data "
   ]
  },
  {
   "cell_type": "code",
   "execution_count": 7,
   "metadata": {
    "nbgrader": {
     "grade": false,
     "grade_id": "cell-855db077a3fa0f0b",
     "locked": true,
     "schema_version": 1,
     "solution": false
    }
   },
   "outputs": [],
   "source": [
    "## Reading file paths from the config dictionary\n",
    "train_file_name = cfg['training_data_path']\n",
    "test_file_name = cfg['test_data_path']"
   ]
  },
  {
   "cell_type": "code",
   "execution_count": 8,
   "metadata": {
    "nbgrader": {
     "grade": false,
     "grade_id": "cell-a6fc5a4686fa8347",
     "locked": true,
     "schema_version": 1,
     "solution": false
    }
   },
   "outputs": [],
   "source": [
    "## Loading the Data\n",
    "training_data = np.loadtxt(train_file_name, delimiter = ',')\n",
    "test_data = np.loadtxt(test_file_name, delimiter = ',')"
   ]
  },
  {
   "cell_type": "markdown",
   "metadata": {
    "nbgrader": {
     "grade": false,
     "grade_id": "cell-f6ae15f9a3523674",
     "locked": true,
     "schema_version": 1,
     "solution": false
    }
   },
   "source": [
    "Now we have loaded the training and test data. However, we cannot use it directly. We first need to standardize it."
   ]
  },
  {
   "cell_type": "markdown",
   "metadata": {
    "nbgrader": {
     "grade": false,
     "grade_id": "cell-bb592faa9bc02c71",
     "locked": true,
     "schema_version": 1,
     "solution": false
    }
   },
   "source": [
    "### Exercise: Implement the Standardize Function \n",
    "\n",
    "Neural networks work best when all features roughly are on the same scale and are centered around the mean.\n",
    "\n",
    "This is done by standardizing the feature vectors. Feature standardization makes the values of each feature in the data have zero-mean (when subtracting the mean in the numerator) and unit-variance.\n",
    "\n",
    "The function <font color=\"blue\">standardize</font> takes the input data and determines the distribution mean and standard deviation for each feature. Next the mean is subtracted from each feature. Then the mean-subtracted values of each feature are divided by its standard deviation.\n",
    "\n",
    "**<font color=\"magenta\" size=2>Example Input</font>**\n",
    "There are 3 training examples with 4 features each \n",
    "``` python\n",
    "np.array([[-0.22 -0.19 -0.17 -0.13][-0.1 -0.05 0.02 0.10][0.03 0.11 0.12 0.15]])\n",
    "```\n",
    "\n",
    "**<font color=\"blue\" size=2>Example Output</font>**\n",
    "There are 3 training examples (which have been standardized) along each of the 4 features\n",
    "``` python\n",
    "array([[-1.51388369, -1.27795377, -1.12066715, -0.80609391],\n",
    "       [-0.57016399, -0.17694744,  0.37355572,  1.00270219],\n",
    "       [ 0.45219903,  1.08134549,  1.1599888 ,  1.39591873]])\n",
    "```\n",
    "\n",
    "Refer the \"Standardization\" section of this [Wikipedia Feature Scaling Article](https://en.wikipedia.org/wiki/Feature_scaling)."
   ]
  },
  {
   "cell_type": "code",
   "execution_count": 9,
   "metadata": {
    "nbgrader": {
     "grade": false,
     "grade_id": "cell-305b411920b596a3",
     "locked": false,
     "schema_version": 1,
     "solution": true
    }
   },
   "outputs": [],
   "source": [
    "def standardize(data):\n",
    "    #BEGIN SOLUTION\n",
    "    mean, std = data.mean(), data.std()\n",
    "    data = (data - mean) / std\n",
    "    return data\n",
    "    #END SOLUTION"
   ]
  },
  {
   "cell_type": "code",
   "execution_count": 10,
   "metadata": {
    "nbgrader": {
     "grade": true,
     "grade_id": "cell-0ad7792f51f89e0c",
     "locked": true,
     "points": 2,
     "schema_version": 1,
     "solution": false
    },
    "scrolled": true
   },
   "outputs": [],
   "source": [
    "dummy = np.array([[-0.22, -0.19, -0.17, -0.13],[-0.1, -0.05, 0.02, 0.10],[0.03, 0.11, 0.12, 0.15]])\n",
    "assert(standardize(dummy).__class__ == np.ndarray, \"should return numpy array\")\n",
    "assert(standardize(dummy).shape == dummy.shape, \"should have the same shape as the input array\")\n",
    "\n",
    "dummy_ans = np.round(np.array([[-1.51388369, -1.27795377, -1.12066715, -0.80609391],\n",
    "       [-0.57016399, -0.17694744,  0.37355572,  1.00270219],\n",
    "       [ 0.45219903,  1.08134549,  1.1599888 ,  1.39591873]]),3)\n",
    "assert((np.round(standardize(dummy)[0],3)==dummy_ans[0]).all, \"check for correct return value failed\")\n",
    "assert((np.round(standardize(dummy)[2],3)==dummy_ans[2]).all, \"check for correct return value failed\")\n",
    "del dummy, dummy_ans"
   ]
  },
  {
   "cell_type": "code",
   "execution_count": 11,
   "metadata": {
    "nbgrader": {
     "grade": true,
     "grade_id": "cell-0d2247e5a11bfbb3",
     "locked": true,
     "points": 5,
     "schema_version": 1,
     "solution": false
    },
    "scrolled": true
   },
   "outputs": [],
   "source": [
    "# Hidden Tests Here\n",
    "\n",
    "### BEGIN HIDDEN TESTS \n",
    "dummy = np.array([2,1]*10)\n",
    "assert(standardize(dummy).__class__ == np.ndarray)\n",
    "assert(standardize(dummy).shape == dummy.shape)\n",
    "\n",
    "assert(np.round(standardize(dummy)[0],3) == 1 )\n",
    "assert(np.round(standardize(dummy)[1],3)== -1)\n",
    "del dummy\n",
    "### END HIDDEN TESTS"
   ]
  },
  {
   "cell_type": "markdown",
   "metadata": {
    "nbgrader": {
     "grade": false,
     "grade_id": "cell-6d1d2ce4cf36f9c1",
     "locked": true,
     "schema_version": 1,
     "solution": false
    }
   },
   "source": [
    "### Exercise: Implement the parse_training_data function\n",
    "\n",
    "The function <font color=\"blue\">parse_training_data</font> takes the input data and returns labels and features. \n",
    "\n",
    "Remember that the first column of the training data is the labels, and the remaining columns are the features\n",
    "\n",
    "The labels should be reshaped to a 2-D numpy matrix of shape (dataset_size, 1)\n",
    "The features should be standardized and have be a 2-D numpy matrix of shape (dataset_size, 28)\n",
    "\n",
    "**<font color=\"magenta\" size=2>Example Input</font>**\n",
    "There are 3 training examples with the label and 3 features each \n",
    "``` python\n",
    "np.array([[1 -0.19 -0.17 -0.13][0 -0.05 0.02 0.10][0 0.11 0.12 0.15]])\n",
    "```\n",
    "\n",
    "**<font color=\"blue\" size=2>Example Output</font>**\n",
    "Returns a tuple:\n",
    "    1st element is the labels\n",
    "    2nd element is the standardized features\n",
    "``` python\n",
    "(array([[1.],\n",
    "        [0.],\n",
    "        [1.]]), array([[-1.4688735 , -1.3105518 , -0.99390842],\n",
    "        [-0.36062164,  0.19350429,  0.82679107],\n",
    "        [ 0.90595192,  0.98511277,  1.22259531]]))\n",
    "```\n",
    "\n",
    "\n",
    "Remember to use the standardize function appropriately inside this function and use the visible assert statements to finetune the shape of your returned data."
   ]
  },
  {
   "cell_type": "code",
   "execution_count": 12,
   "metadata": {
    "nbgrader": {
     "grade": false,
     "grade_id": "cell-b74473c65b9d3782",
     "locked": false,
     "schema_version": 1,
     "solution": true
    }
   },
   "outputs": [],
   "source": [
    "def parse_training_data(numpy_matrix):\n",
    "    \n",
    "    #BEGIN SOLUTION\n",
    "    labels = np.reshape(numpy_matrix[:,0],(-1,1))\n",
    "    features = standardize(numpy_matrix[:,1:])\n",
    "    #END SOLUTION\n",
    "    \n",
    "    return labels, features"
   ]
  },
  {
   "cell_type": "code",
   "execution_count": 13,
   "metadata": {
    "nbgrader": {
     "grade": false,
     "grade_id": "cell-f0e069072154f863",
     "locked": true,
     "schema_version": 1,
     "solution": false
    }
   },
   "outputs": [],
   "source": [
    "# Parse Training Data. You will later split the `labels` and `features` into training and validation sets.\n",
    "labels, features = parse_training_data(training_data)"
   ]
  },
  {
   "cell_type": "code",
   "execution_count": 14,
   "metadata": {
    "nbgrader": {
     "grade": true,
     "grade_id": "cell-d78e03abddd6be28",
     "locked": true,
     "points": 2,
     "schema_version": 1,
     "solution": false
    }
   },
   "outputs": [],
   "source": [
    "assert(labels.shape[1] == 1)\n",
    "assert(features.shape[1] == 28)"
   ]
  },
  {
   "cell_type": "code",
   "execution_count": 15,
   "metadata": {
    "nbgrader": {
     "grade": true,
     "grade_id": "cell-140fd100cfea8655",
     "locked": true,
     "points": 3,
     "schema_version": 1,
     "solution": false
    }
   },
   "outputs": [],
   "source": [
    "### BEGIN HIDDEN TESTS \n",
    "# Both small and large dataset have the first few rows in common. This should work for both.\n",
    "assert(np.round(features[0],3)==np.round(np.array([ 0.27192362, -1.28046665, -0.39222125, -0.28719293, -1.33713063,\n",
    "        0.15315928, -0.88162174, -1.75203425, -0.62511488,  0.79376296,\n",
    "       -1.29965242,  0.33492824,  0.51766728,  0.55013993, -2.25368464,\n",
    "       -1.70551696, -0.62511488,  0.05381384, -0.63590313, -0.6723428 ,\n",
    "        2.57585197,  0.77185316,  0.38571301,  0.38417859,  0.32425381,\n",
    "        0.11957576,  0.39519408,  0.27954446])),3)\n",
    "### END HIDDEN TESTS "
   ]
  },
  {
   "cell_type": "markdown",
   "metadata": {
    "nbgrader": {
     "grade": false,
     "grade_id": "cell-714a63065a14a65f",
     "locked": true,
     "schema_version": 1,
     "solution": false
    }
   },
   "source": [
    "### Exercise: Implement the parse_test_data function\n",
    "\n",
    "The function <font color=\"blue\">parse_test_data</font> takes the input data and returns labels and features. \n",
    "\n",
    "We do not have access to labels while predicting the classes that our test examples belong to. The input data files for the test data would not have the labels column. \n",
    "\n",
    "So we need a different function to parse the test data. This should only return standardized features.\n",
    "\n",
    "The features should be standardized and have be a 2-D numpy matrix of shape (dataset_size, 28)\n",
    "\n",
    "**<font color=\"magenta\" size=2>Example Input</font>**\n",
    "There are 3 training examples with the label and 3 features each \n",
    "``` python\n",
    "np.array([[-0.19 -0.17 -0.13][-0.05 0.02 0.10][0.11 0.12 0.15]])\n",
    "```\n",
    "\n",
    "**<font color=\"blue\" size=2>Example Output</font>**\n",
    "Returns a tuple:\n",
    "    1st element is the labels\n",
    "    2nd element is the standardized features\n",
    "``` python\n",
    "array([[-1.4688735 , -1.3105518 , -0.99390842],\n",
    "        [-0.36062164,  0.19350429,  0.82679107],\n",
    "        [ 0.90595192,  0.98511277,  1.22259531]])\n",
    "```\n",
    "\n",
    "\n",
    "Remember to use the standardize function appropriately inside this function."
   ]
  },
  {
   "cell_type": "code",
   "execution_count": 16,
   "metadata": {
    "nbgrader": {
     "grade": false,
     "grade_id": "cell-cd58458c52559f0a",
     "locked": false,
     "schema_version": 1,
     "solution": true
    }
   },
   "outputs": [],
   "source": [
    "def parse_test_data(numpy_matrix):\n",
    "    \n",
    "    #BEGIN SOLUTION\n",
    "    test_features = standardize(numpy_matrix)\n",
    "    #END SOLUTION\n",
    "    \n",
    "    return test_features"
   ]
  },
  {
   "cell_type": "code",
   "execution_count": 17,
   "metadata": {
    "nbgrader": {
     "grade": false,
     "grade_id": "cell-febfb665f2f27e1e",
     "locked": true,
     "schema_version": 1,
     "solution": false
    }
   },
   "outputs": [],
   "source": [
    "test_features = parse_test_data(test_data)"
   ]
  },
  {
   "cell_type": "markdown",
   "metadata": {
    "nbgrader": {
     "grade": false,
     "grade_id": "cell-0de20ca899b3afe6",
     "locked": true,
     "schema_version": 1,
     "solution": false
    }
   },
   "source": [
    "## Building the Neural Network "
   ]
  },
  {
   "cell_type": "markdown",
   "metadata": {
    "nbgrader": {
     "grade": false,
     "grade_id": "cell-6b3f768be0607ffd",
     "locked": true,
     "schema_version": 1,
     "solution": false
    }
   },
   "source": [
    "### Initializing important parameters\n",
    "Use the below params appropriately inside the train_nn() function. We have initialized these variables in order to assist you in your implementation."
   ]
  },
  {
   "cell_type": "code",
   "execution_count": 18,
   "metadata": {
    "nbgrader": {
     "grade": false,
     "grade_id": "cell-9496cea12852d1fa",
     "locked": true,
     "schema_version": 1,
     "solution": false
    }
   },
   "outputs": [
    {
     "name": "stdout",
     "output_type": "stream",
     "text": [
      "Total Training examples: 800000, Number of Batches: 5, Batch Size: 160000\n"
     ]
    }
   ],
   "source": [
    "learning_rate = cfg['learning_rate']\n",
    "training_epochs = cfg['epochs']\n",
    "train_valid_split = cfg['training_to_validation_ratio']\n",
    "num_batches = cfg['num_mini_batches']\n",
    "display_step = cfg['display_step']\n",
    "\n",
    "num_examples= training_data.shape[0]\n",
    "\n",
    "# The first `num_train_examples` should be used for training, the rest for validation.\n",
    "num_train_examples = int(num_examples * train_valid_split)\n",
    "\n",
    "batch_size = num_train_examples/num_batches\n",
    "\n",
    "\n",
    "# Network Parameters\n",
    "n_hidden_1 = cfg['hidden_layer_sizes']['first_layer'] # 1st layer number of features\n",
    "n_hidden_2 = cfg['hidden_layer_sizes']['second_layer'] # 2nd layer number of features\n",
    "n_input = 28 \n",
    "n_classes = 1 \n",
    "\n",
    "\n",
    "print(\"Total Training examples: %d, Number of Batches: %d, Batch Size: %d\" %(num_train_examples,num_batches,batch_size))"
   ]
  },
  {
   "cell_type": "markdown",
   "metadata": {
    "nbgrader": {
     "grade": false,
     "grade_id": "cell-dc994f1830e0a244",
     "locked": true,
     "schema_version": 1,
     "solution": false
    }
   },
   "source": [
    "### Initializing placeholders for feeding into the TF graph\n",
    "\n",
    "Define the TF placeholders which will receive data for each mini batch. Similarly define weights and biases as TF variables "
   ]
  },
  {
   "cell_type": "code",
   "execution_count": 19,
   "metadata": {
    "nbgrader": {
     "grade": false,
     "grade_id": "cell-47aa2936b36e30b8",
     "locked": true,
     "schema_version": 1,
     "solution": false
    }
   },
   "outputs": [],
   "source": [
    "# TF Graph input\n",
    "## Use the below placeholders appropriately inside the train_nn() function\n",
    "\n",
    "x = tf.placeholder(\"float\", [None, n_input])\n",
    "y = tf.placeholder(\"float\", [None, 1])\n",
    "\n",
    "\n",
    "# Store layers weight & bias\n",
    "weights = {\n",
    "    'h1': tf.Variable(tf.random_normal([n_input, n_hidden_1])),\n",
    "    'h2': tf.Variable(tf.random_normal([n_hidden_1, n_hidden_2])),\n",
    "    'out': tf.Variable(tf.random_normal([n_hidden_2, n_classes]))\n",
    "}\n",
    "\n",
    "biases = {\n",
    "    'b1': tf.Variable(tf.random_normal([n_hidden_1])),\n",
    "    'b2': tf.Variable(tf.random_normal([n_hidden_2])),\n",
    "    'out': tf.Variable(tf.random_normal([n_classes]))\n",
    "}"
   ]
  },
  {
   "cell_type": "markdown",
   "metadata": {
    "nbgrader": {
     "grade": false,
     "grade_id": "cell-714a63065a14a6sd5f",
     "locked": true,
     "schema_version": 1,
     "solution": false
    }
   },
   "source": [
    "### Exercise: Implement the `calc_num_total_learnable_params` function.\n",
    "\n",
    "This function  calculates the number of learnable parameters of the network model. This number directly relates to the complexity of your model, as well as the training time. \n",
    "\n",
    "The function <font color=\"blue\">calc_num_total_learnable_params</font> takes the weights dictionary and bias dictionary and returns an integer which is equal to the number of total parameters in the network. \n",
    "\n",
    "You can make use of the `get_dims_as_tuple` as a helper function to access the shape of the weight and bias matrices easily."
   ]
  },
  {
   "cell_type": "code",
   "execution_count": 20,
   "metadata": {
    "nbgrader": {
     "grade": false,
     "grade_id": "cell-bb3e6250332e0033",
     "locked": true,
     "schema_version": 1,
     "solution": false
    }
   },
   "outputs": [
    {
     "data": {
      "text/plain": [
       "(28, 25)"
      ]
     },
     "execution_count": 20,
     "metadata": {},
     "output_type": "execute_result"
    }
   ],
   "source": [
    "# Helper function which you may use in implementing `calc_num_total_learnable_params(weights,biases)` function below.\n",
    "def get_dims_as_tuple(x):\n",
    "    shape = x.get_shape()\n",
    "    dims = []\n",
    "    for dim in shape:\n",
    "        dims.append(dim.value)\n",
    "    return tuple(dims)\n",
    "\n",
    "# example usage:\n",
    "get_dims_as_tuple(weights['h1'])"
   ]
  },
  {
   "cell_type": "code",
   "execution_count": 21,
   "metadata": {
    "nbgrader": {
     "grade": false,
     "grade_id": "cell-94e7366afdd6358a",
     "locked": false,
     "schema_version": 1,
     "solution": true
    }
   },
   "outputs": [],
   "source": [
    "def calc_num_total_learnable_params(weights,biases):\n",
    "    \n",
    "    #BEGIN SOLUTION\n",
    "    h1_layer = get_dims_as_tuple(weights['h1'])\n",
    "    h2_layer = get_dims_as_tuple(weights['h2'])\n",
    "    out_dim = get_dims_as_tuple(weights['out'])\n",
    "    \n",
    "    b1_layer = get_dims_as_tuple(biases['b1'])\n",
    "    b2_layer = get_dims_as_tuple(biases['b2'])\n",
    "    b1_out_dim = get_dims_as_tuple(biases['out'])\n",
    "    \n",
    "    return (h1_layer[0]*h1_layer[1] + b1_layer[0]) + (h2_layer[0]*h2_layer[1] + b2_layer[0]) + (out_dim[0]*out_dim[1] + b1_out_dim[0])\n",
    "    \n",
    "    #END SOLUTION\n",
    "    "
   ]
  },
  {
   "cell_type": "code",
   "execution_count": 22,
   "metadata": {
    "nbgrader": {
     "grade": true,
     "grade_id": "cell-e1578d22ad8f6334",
     "locked": true,
     "points": 5,
     "schema_version": 1,
     "solution": false
    }
   },
   "outputs": [],
   "source": [
    "## Hidden Tests Here\n",
    "### BEGIN HIDDEN TESTS \n",
    "assert(calc_num_total_learnable_params(weights, biases) == 757, \"The total number of learnable parameters have been calculated incorrectly.\")\n",
    "### END HIDDEN TESTS "
   ]
  },
  {
   "cell_type": "markdown",
   "metadata": {
    "nbgrader": {
     "grade": false,
     "grade_id": "cell-40285d4b5a7d0481",
     "locked": true,
     "schema_version": 1,
     "solution": false
    }
   },
   "source": [
    "### Exercise: Create FeedForward Network Model\n",
    "\n",
    "This function needs to be filled up with code to construct the remaining two layers of the neural network. You have to add one more hidden layers and also the output layer.\n",
    "\n",
    "You should use the sigmoid activation function. Tensorflow's `tf.nn.sigmoid()` function should be helpful. \n",
    "\n",
    "We have partially implemented this function. Complete the rest of it. Remember to not apply the sigmoid activation at the last layer as we will be using `tf.nn.sigmoid_cross_entropy_with_logits()` later which does that.\n"
   ]
  },
  {
   "cell_type": "code",
   "execution_count": 23,
   "metadata": {
    "nbgrader": {
     "grade": false,
     "grade_id": "cell-0fd6390a18e16110",
     "locked": false,
     "schema_version": 1,
     "solution": true
    }
   },
   "outputs": [],
   "source": [
    "def create_feedforward_nn_model(x, weights, biases):\n",
    "    # Hidden layer with SIGMOID activation\n",
    "    layer_1 = tf.add(tf.matmul(x, weights['h1']), biases['b1'])\n",
    "    layer_1 = tf.nn.sigmoid(layer_1)\n",
    "    \n",
    "    #BEGIN SOLUTION\n",
    "    \n",
    "    # Hidden layer with SIGMOID activation\n",
    "    layer_2 = tf.add(tf.matmul(layer_1, weights['h2']), biases['b2'])\n",
    "    layer_2 = tf.nn.sigmoid(layer_2)\n",
    "    # Output layer with SIGMOID activation\n",
    "    out_layer = tf.matmul(layer_2, weights['out']) + biases['out']\n",
    "    \n",
    "    #END SOLUTION\n",
    "    \n",
    "    return out_layer\n",
    "\n"
   ]
  },
  {
   "cell_type": "markdown",
   "metadata": {
    "nbgrader": {
     "grade": false,
     "grade_id": "cell-6fcb5f53e1dbbae9",
     "locked": true,
     "schema_version": 1,
     "solution": false
    }
   },
   "source": [
    "### Exercise: Stitch the Neural Network Model\n",
    "\n",
    "Using the appropriate Tensorflow libraries, implement each of the following operations:\n",
    "- loss as the CrossEntropyLoss\n",
    "- train_op as the AdamOptimizer that minimizes the loss\n",
    "\n",
    "As inputs to these operators, you can use:\n",
    "- `pred_raw` which is the output of your neural network's last layer\n",
    "- `pred` is the predicted label, which is the output of rounding `pred_raw`. \n",
    "\n",
    "You might want to look at the Tensorflow Section notebooks as well as the TensorFlow API.\n",
    "\n",
    "Two of the returned values have been implemented as a hint for you.\n",
    "\n",
    "Functions that could be useful here: \n",
    "\n",
    "```python\n",
    "tf.nn.sigmoid_cross_entropy_with_logits()\n",
    "tf.reduce_mean()\n",
    "tf.round()\n",
    "tf.sigmoid()\n",
    "tf.train.AdamOptimizer().minimize()\n",
    "```"
   ]
  },
  {
   "cell_type": "code",
   "execution_count": 24,
   "metadata": {
    "nbgrader": {
     "grade": false,
     "grade_id": "cell-2a697316f54fa391",
     "locked": false,
     "schema_version": 1,
     "solution": true
    }
   },
   "outputs": [],
   "source": [
    "# Construct model\n",
    "def stitch_network(x, y, weights, biases, learning_rate):\n",
    "    \n",
    "    pred_raw = create_feedforward_nn_model(x, weights, biases)\n",
    "    pred = tf.round(tf.nn.sigmoid(pred_raw))\n",
    "    \n",
    "    #BEGIN SOLUTION\n",
    "    cross_entropy = tf.nn.sigmoid_cross_entropy_with_logits(labels=y, logits=pred_raw)\n",
    "    cost = tf.reduce_mean(cross_entropy)\n",
    "    train_op = tf.train.AdamOptimizer(learning_rate=learning_rate).minimize(cost)\n",
    "    #END SOLUTION\n",
    "    \n",
    "    return pred_raw, pred, cost, train_op\n",
    "\n",
    "\n",
    "pred_raw, pred, cost, train_op = stitch_network(x, y, weights, biases, learning_rate)"
   ]
  },
  {
   "cell_type": "code",
   "execution_count": 25,
   "metadata": {
    "nbgrader": {
     "grade": true,
     "grade_id": "cell-73e1e3aba87eb20a",
     "locked": true,
     "points": 3,
     "schema_version": 1,
     "solution": false
    }
   },
   "outputs": [],
   "source": [
    "assert cost.__class__ == tf.Tensor\n",
    "assert cost.get_shape() == (), \"Make sure you have used reduce_mean\""
   ]
  },
  {
   "cell_type": "code",
   "execution_count": 26,
   "metadata": {
    "nbgrader": {
     "grade": false,
     "grade_id": "cell-e9b4c53caccf6e1d",
     "locked": true,
     "schema_version": 1,
     "solution": false
    }
   },
   "outputs": [],
   "source": [
    "# Initializing the variables - IMPORTANT\n",
    "init = tf.global_variables_initializer()"
   ]
  },
  {
   "cell_type": "markdown",
   "metadata": {
    "nbgrader": {
     "grade": false,
     "grade_id": "cell-b683e70b1b3eafa0",
     "locked": true,
     "schema_version": 1,
     "solution": false
    }
   },
   "source": [
    "## Training and Testing the Neural Network"
   ]
  },
  {
   "cell_type": "markdown",
   "metadata": {
    "nbgrader": {
     "grade": false,
     "grade_id": "cell-b683e70b1b3asdaeafa0",
     "locked": true,
     "schema_version": 1,
     "solution": false
    }
   },
   "source": [
    "### Exercise: Writing the Train function\n",
    "\n",
    "This is where you will train your network.\n",
    "\n",
    "Your goal is to complete the following function named `train_nn()`. \n",
    "\n",
    "To help you structure your implementation, we have provided some starter code. \n",
    "\n",
    "We have also detailed each of the steps you need to pay attention to inside the main training loop.\n",
    "\n",
    "Remember you have access to all the parameters we initialized early on in the notebook, as well as to the parameters defined in the config file. \n",
    "\n",
    "`train_nn()` should return 5 python lists\n",
    "1. training_costs\n",
    "2. validation_costs\n",
    "3. training_accs\n",
    "4. validation_accs\n",
    "5. test_predictions "
   ]
  },
  {
   "cell_type": "code",
   "execution_count": 27,
   "metadata": {
    "nbgrader": {
     "grade": false,
     "grade_id": "cell-cd22bec67d6afd31",
     "locked": false,
     "schema_version": 1,
     "solution": true
    }
   },
   "outputs": [],
   "source": [
    "def train_nn():\n",
    "    with tf.Session() as sess:\n",
    "\n",
    "        sess.run(init)\n",
    "        \n",
    "        ## this is needed to print debug statements during training.\n",
    "        coord = tf.train.Coordinator()\n",
    "        threads = tf.train.start_queue_runners(coord=coord)\n",
    "\n",
    "        x_train, x_valid = features[:num_train_examples], features[num_train_examples:]\n",
    "        y_train, y_valid = labels[:num_train_examples], labels[num_train_examples:]\n",
    "\n",
    "        training_costs = []\n",
    "        training_accs = []\n",
    "\n",
    "        validation_costs = []\n",
    "        validation_accs = []\n",
    "\n",
    "        for epoch in range(training_epochs):\n",
    "        \n",
    "            '''\n",
    "            We recommend you first think about how you will implement this on your own before proceeding to read any further.\n",
    "        \n",
    "            HINT: You should implement the following procedure here:\n",
    "        \n",
    "            An epoch is one pass through your training data\n",
    "            1. Keep a counter of your epoch's total cost. \n",
    "               You will need this to average over the batches.\n",
    "            2. Keep a counter of the number of correct predictions in your epoch. \n",
    "               You will need this to sum over the batches to calculate per epoch accuracy.\n",
    "            \n",
    "            For each batch  (you should have `num_batches` number of batches totally)\n",
    "                --Batchwise training--\n",
    "                3. subset your features and labels from x_train and y_train\n",
    "                ex. for batch 1, you'd select all examples in the interval [0,batch_size)\n",
    "                    for batch 2, it would be between [batch_size, 2*batch_size)\n",
    "                    Make sure to account for a possible fractional batch as your last batch\n",
    "                4. Massage your x_batch and y_batch into numpy arrays of shape (size_of_batch, 28) \n",
    "                    and (size_of_batch, 1) respectively\n",
    "                    \n",
    "                5. Feed the x_batch and y_batch into your tensorflow graph and execute the optimizer, cost and pred \n",
    "                    in order to train your model using the current batch and also get back the batch_cost and batch_predictions\n",
    "                6. Count the number of correct predictions for this batch and add it to the counter for the \n",
    "                    correct predictions in the epoch\n",
    "                    \n",
    "            7. Calculate your average_epoch_cost as the total_epoch_cost divided by the number of training examples\n",
    "            8. Append the average_epoch_cost to `training_costs`\n",
    "            9. Calculate your epoch_accuracy as the total number of correct predictions in your epoch\n",
    "                    divided by the number of training examples\n",
    "            10. Append the epoch_accuracy to `training_accs`\n",
    "            \n",
    "            --Validation--\n",
    "            \n",
    "            11. Massage your validation labels (y_valid) into a numpy arrays of shape (validation_set_size, 1)\n",
    "            12. With y_valid and x_valid as input to your graph, calculate the validation loss and validation predictions\n",
    "                    We are calculating validation accuracy at the end of each epoch\n",
    "            13. Calculate the number of correct validation predictions by comparing against your validation labels\n",
    "            14. Append validation costs and validation accuracy to their respective lists\n",
    "            15. Avoid printing a lot of debug information when you submit the assignment. \n",
    "                This reduces the speed of execution.\n",
    "                If you want to print some information every so often, you can use the following line \n",
    "                at the end of your epoch loop:\n",
    "                if epoch%display_step==0:\n",
    "                    print(\"Epoch %d | Tr cost: %f | Tr accuracy %f | Va cost: %f | Va accuracy: \n",
    "                        %f\"%(epoch + 1,avg_epoch_cost, this_epoch_accuracy, batch_valid_cost, valid_accuracy))\n",
    "            '''\n",
    "        #BEGIN SOLUTION\n",
    "        \n",
    "            epoch_cost = 0\n",
    "            correct = 0\n",
    "            for batch in range(num_batches):\n",
    "\n",
    "                start_idx = int(batch*batch_size)\n",
    "                end_idx = int((batch+1)*batch_size) if ((batch+1)*batch_size)<num_train_examples else num_train_examples\n",
    "                this_batch_size = end_idx - start_idx + 1\n",
    "\n",
    "                y_batch = np.reshape(np.array(y_train[start_idx:end_idx]),(-1,1))\n",
    "                x_batch = x_train[start_idx:end_idx]\n",
    "                _, batch_cost, batch_preds = sess.run([train_op, cost, pred], feed_dict={x: x_batch,\n",
    "                                                          y: y_batch})\n",
    "                epoch_cost += batch_cost * this_batch_size\n",
    "                correct += sum(np.array(batch_preds)==np.array(y_batch))\n",
    "\n",
    "            avg_epoch_cost = epoch_cost/num_train_examples\n",
    "            this_epoch_accuracy = correct/num_train_examples\n",
    "            training_accs.append(this_epoch_accuracy.flatten()[0])\n",
    "            training_costs.append(avg_epoch_cost.flatten()[0])\n",
    "\n",
    "            y_valid = np.reshape(np.array(y_valid),(-1,1))\n",
    "            batch_valid_cost, batch_valid_preds = sess.run([cost, pred], feed_dict = {x: x_valid, y: y_valid})\n",
    "            correct_valid = sum(np.array(batch_valid_preds)==np.array(y_valid))\n",
    "            valid_accuracy = correct_valid/y_valid.shape[0]\n",
    "            validation_costs.append(batch_valid_cost.flatten()[0])\n",
    "            validation_accs.append(valid_accuracy.flatten()[0])\n",
    "            if epoch%display_step==0:\n",
    "                print(\"Epoch %d | Tr cost: %f | Tr accuracy %f | Va cost: %f | Va accuracy: %f\"%(epoch + 1,avg_epoch_cost, this_epoch_accuracy, batch_valid_cost, valid_accuracy))\n",
    "        \n",
    "        ## hack\n",
    "        validation_costs = list(np.array(validation_costs,dtype=np.float64))\n",
    "        #END SOLUTION\n",
    "        \n",
    "        print(\"Optimization Finished!\")\n",
    "\n",
    "        ## Assuming the above part is completed, you should now use your trained model to make predictions on the test set.\n",
    "        test_predictions = []\n",
    "        \n",
    "        #BEGIN SOLUTION\n",
    "        print(\"Calculating predictions of the model on the test set\")\n",
    "        test_preds = sess.run([pred], feed_dict = {x: test_features})\n",
    "        print(\"Inference done. Now saving the predictions in a list.\")\n",
    "        test_predictions = list(np.array(test_preds, dtype=np.float64).flatten())\n",
    "        #END SOLUTION\n",
    "        \n",
    "        \n",
    "        ## this is needed to print debug statements during training.\n",
    "        coord.request_stop()\n",
    "        coord.join(threads)\n",
    "    \n",
    "    ## close TF session if open\n",
    "    if 'session' in locals() and sess is not None:\n",
    "        print('Close interactive session')\n",
    "        sess.close()\n",
    "        \n",
    "    return training_costs, validation_costs, training_accs, validation_accs, test_predictions"
   ]
  },
  {
   "cell_type": "code",
   "execution_count": 28,
   "metadata": {
    "nbgrader": {
     "grade": false,
     "grade_id": "cell-099ff13f7570ad44",
     "locked": true,
     "schema_version": 1,
     "solution": false
    }
   },
   "outputs": [
    {
     "name": "stdout",
     "output_type": "stream",
     "text": [
      "Epoch 1 | Tr cost: 0.748672 | Tr accuracy 0.510580 | Va cost: 0.708928 | Va accuracy: 0.534170\n",
      "Epoch 2 | Tr cost: 0.698362 | Tr accuracy 0.518408 | Va cost: 0.694171 | Va accuracy: 0.509705\n",
      "Epoch 3 | Tr cost: 0.690215 | Tr accuracy 0.533629 | Va cost: 0.690871 | Va accuracy: 0.536750\n",
      "Epoch 4 | Tr cost: 0.688184 | Tr accuracy 0.544306 | Va cost: 0.685555 | Va accuracy: 0.559190\n",
      "Epoch 5 | Tr cost: 0.685289 | Tr accuracy 0.559119 | Va cost: 0.682127 | Va accuracy: 0.570365\n",
      "Epoch 6 | Tr cost: 0.681453 | Tr accuracy 0.565654 | Va cost: 0.679167 | Va accuracy: 0.570585\n",
      "Epoch 7 | Tr cost: 0.677628 | Tr accuracy 0.577825 | Va cost: 0.675360 | Va accuracy: 0.584895\n",
      "Epoch 8 | Tr cost: 0.673226 | Tr accuracy 0.586559 | Va cost: 0.670561 | Va accuracy: 0.590840\n",
      "Epoch 9 | Tr cost: 0.668280 | Tr accuracy 0.595529 | Va cost: 0.664717 | Va accuracy: 0.602280\n",
      "Epoch 10 | Tr cost: 0.662341 | Tr accuracy 0.604442 | Va cost: 0.658281 | Va accuracy: 0.609870\n",
      "Epoch 11 | Tr cost: 0.656254 | Tr accuracy 0.610845 | Va cost: 0.652229 | Va accuracy: 0.616365\n",
      "Epoch 12 | Tr cost: 0.649978 | Tr accuracy 0.617358 | Va cost: 0.645862 | Va accuracy: 0.623130\n",
      "Epoch 13 | Tr cost: 0.643802 | Tr accuracy 0.624498 | Va cost: 0.640639 | Va accuracy: 0.628970\n",
      "Epoch 14 | Tr cost: 0.639025 | Tr accuracy 0.629816 | Va cost: 0.636801 | Va accuracy: 0.633060\n",
      "Epoch 15 | Tr cost: 0.635115 | Tr accuracy 0.634715 | Va cost: 0.632987 | Va accuracy: 0.638075\n",
      "Epoch 16 | Tr cost: 0.630961 | Tr accuracy 0.640086 | Va cost: 0.628900 | Va accuracy: 0.643055\n",
      "Epoch 17 | Tr cost: 0.626920 | Tr accuracy 0.644722 | Va cost: 0.625179 | Va accuracy: 0.647340\n",
      "Epoch 18 | Tr cost: 0.623209 | Tr accuracy 0.648892 | Va cost: 0.621752 | Va accuracy: 0.651360\n",
      "Epoch 19 | Tr cost: 0.619598 | Tr accuracy 0.652443 | Va cost: 0.618305 | Va accuracy: 0.654125\n",
      "Epoch 20 | Tr cost: 0.615819 | Tr accuracy 0.656670 | Va cost: 0.614365 | Va accuracy: 0.657660\n",
      "Epoch 21 | Tr cost: 0.611525 | Tr accuracy 0.661286 | Va cost: 0.610100 | Va accuracy: 0.661705\n",
      "Epoch 22 | Tr cost: 0.607100 | Tr accuracy 0.665721 | Va cost: 0.606956 | Va accuracy: 0.664790\n",
      "Epoch 23 | Tr cost: 0.603645 | Tr accuracy 0.670065 | Va cost: 0.602842 | Va accuracy: 0.669410\n",
      "Epoch 24 | Tr cost: 0.599936 | Tr accuracy 0.674325 | Va cost: 0.600068 | Va accuracy: 0.674655\n",
      "Epoch 25 | Tr cost: 0.596797 | Tr accuracy 0.678030 | Va cost: 0.597170 | Va accuracy: 0.677595\n",
      "Epoch 26 | Tr cost: 0.594102 | Tr accuracy 0.680384 | Va cost: 0.595253 | Va accuracy: 0.678490\n",
      "Epoch 27 | Tr cost: 0.592418 | Tr accuracy 0.682110 | Va cost: 0.594380 | Va accuracy: 0.678715\n",
      "Epoch 28 | Tr cost: 0.591250 | Tr accuracy 0.683109 | Va cost: 0.591841 | Va accuracy: 0.681465\n",
      "Epoch 29 | Tr cost: 0.589308 | Tr accuracy 0.684635 | Va cost: 0.590251 | Va accuracy: 0.685220\n",
      "Epoch 30 | Tr cost: 0.587443 | Tr accuracy 0.686465 | Va cost: 0.588589 | Va accuracy: 0.685945\n",
      "Epoch 31 | Tr cost: 0.585780 | Tr accuracy 0.688085 | Va cost: 0.587291 | Va accuracy: 0.686100\n",
      "Epoch 32 | Tr cost: 0.584720 | Tr accuracy 0.688806 | Va cost: 0.586424 | Va accuracy: 0.686430\n",
      "Epoch 33 | Tr cost: 0.583742 | Tr accuracy 0.689272 | Va cost: 0.584800 | Va accuracy: 0.687660\n",
      "Epoch 34 | Tr cost: 0.582387 | Tr accuracy 0.690420 | Va cost: 0.583005 | Va accuracy: 0.689780\n",
      "Epoch 35 | Tr cost: 0.580794 | Tr accuracy 0.691820 | Va cost: 0.581704 | Va accuracy: 0.691125\n",
      "Epoch 36 | Tr cost: 0.579301 | Tr accuracy 0.692924 | Va cost: 0.580327 | Va accuracy: 0.691975\n",
      "Epoch 37 | Tr cost: 0.577950 | Tr accuracy 0.694074 | Va cost: 0.579288 | Va accuracy: 0.692730\n",
      "Epoch 38 | Tr cost: 0.576755 | Tr accuracy 0.695230 | Va cost: 0.578788 | Va accuracy: 0.692430\n",
      "Epoch 39 | Tr cost: 0.575995 | Tr accuracy 0.695817 | Va cost: 0.577909 | Va accuracy: 0.693015\n",
      "Epoch 40 | Tr cost: 0.575143 | Tr accuracy 0.696461 | Va cost: 0.577602 | Va accuracy: 0.693580\n",
      "Epoch 41 | Tr cost: 0.574352 | Tr accuracy 0.697653 | Va cost: 0.575781 | Va accuracy: 0.695370\n",
      "Epoch 42 | Tr cost: 0.572967 | Tr accuracy 0.698836 | Va cost: 0.572711 | Va accuracy: 0.699065\n",
      "Epoch 43 | Tr cost: 0.571042 | Tr accuracy 0.700002 | Va cost: 0.572421 | Va accuracy: 0.699320\n",
      "Epoch 44 | Tr cost: 0.569660 | Tr accuracy 0.701119 | Va cost: 0.571000 | Va accuracy: 0.700460\n",
      "Epoch 45 | Tr cost: 0.568263 | Tr accuracy 0.702433 | Va cost: 0.569577 | Va accuracy: 0.701755\n",
      "Epoch 46 | Tr cost: 0.567185 | Tr accuracy 0.703220 | Va cost: 0.568811 | Va accuracy: 0.701575\n",
      "Epoch 47 | Tr cost: 0.566437 | Tr accuracy 0.703766 | Va cost: 0.567741 | Va accuracy: 0.702790\n",
      "Epoch 48 | Tr cost: 0.566059 | Tr accuracy 0.704291 | Va cost: 0.567108 | Va accuracy: 0.703620\n",
      "Epoch 49 | Tr cost: 0.564365 | Tr accuracy 0.705902 | Va cost: 0.565923 | Va accuracy: 0.704660\n",
      "Epoch 50 | Tr cost: 0.563596 | Tr accuracy 0.706594 | Va cost: 0.566699 | Va accuracy: 0.703030\n",
      "Epoch 51 | Tr cost: 0.566905 | Tr accuracy 0.703534 | Va cost: 0.564995 | Va accuracy: 0.704375\n",
      "Epoch 52 | Tr cost: 0.564320 | Tr accuracy 0.706194 | Va cost: 0.568315 | Va accuracy: 0.702035\n",
      "Epoch 53 | Tr cost: 0.564441 | Tr accuracy 0.706104 | Va cost: 0.564826 | Va accuracy: 0.704820\n",
      "Epoch 54 | Tr cost: 0.562455 | Tr accuracy 0.707185 | Va cost: 0.563977 | Va accuracy: 0.705985\n",
      "Epoch 55 | Tr cost: 0.561305 | Tr accuracy 0.708264 | Va cost: 0.563165 | Va accuracy: 0.706615\n",
      "Epoch 56 | Tr cost: 0.560178 | Tr accuracy 0.709368 | Va cost: 0.562027 | Va accuracy: 0.706810\n",
      "Epoch 57 | Tr cost: 0.559783 | Tr accuracy 0.709589 | Va cost: 0.562251 | Va accuracy: 0.706155\n",
      "Epoch 58 | Tr cost: 0.559672 | Tr accuracy 0.709709 | Va cost: 0.561791 | Va accuracy: 0.706360\n",
      "Epoch 59 | Tr cost: 0.559306 | Tr accuracy 0.709900 | Va cost: 0.560980 | Va accuracy: 0.707265\n",
      "Epoch 60 | Tr cost: 0.558782 | Tr accuracy 0.710237 | Va cost: 0.560384 | Va accuracy: 0.707765\n",
      "Epoch 61 | Tr cost: 0.558219 | Tr accuracy 0.710661 | Va cost: 0.559947 | Va accuracy: 0.708520\n",
      "Epoch 62 | Tr cost: 0.557756 | Tr accuracy 0.711040 | Va cost: 0.559786 | Va accuracy: 0.708610\n",
      "Epoch 63 | Tr cost: 0.557394 | Tr accuracy 0.711319 | Va cost: 0.559897 | Va accuracy: 0.708180\n",
      "Epoch 64 | Tr cost: 0.557167 | Tr accuracy 0.711222 | Va cost: 0.560161 | Va accuracy: 0.708115\n",
      "Epoch 65 | Tr cost: 0.557073 | Tr accuracy 0.711204 | Va cost: 0.560361 | Va accuracy: 0.707825\n",
      "Epoch 66 | Tr cost: 0.557013 | Tr accuracy 0.711099 | Va cost: 0.560178 | Va accuracy: 0.707920\n",
      "Epoch 67 | Tr cost: 0.556827 | Tr accuracy 0.711117 | Va cost: 0.559296 | Va accuracy: 0.708795\n",
      "Epoch 68 | Tr cost: 0.556362 | Tr accuracy 0.711729 | Va cost: 0.557767 | Va accuracy: 0.710305\n",
      "Epoch 69 | Tr cost: 0.555560 | Tr accuracy 0.712383 | Va cost: 0.556617 | Va accuracy: 0.711520\n",
      "Epoch 70 | Tr cost: 0.554732 | Tr accuracy 0.713044 | Va cost: 0.556063 | Va accuracy: 0.711825\n",
      "Epoch 71 | Tr cost: 0.554082 | Tr accuracy 0.713568 | Va cost: 0.555735 | Va accuracy: 0.712090\n",
      "Epoch 72 | Tr cost: 0.553599 | Tr accuracy 0.713793 | Va cost: 0.555767 | Va accuracy: 0.712395\n",
      "Epoch 73 | Tr cost: 0.553306 | Tr accuracy 0.713908 | Va cost: 0.556257 | Va accuracy: 0.711780\n",
      "Epoch 74 | Tr cost: 0.553347 | Tr accuracy 0.713896 | Va cost: 0.556577 | Va accuracy: 0.711420\n",
      "Epoch 75 | Tr cost: 0.553621 | Tr accuracy 0.713591 | Va cost: 0.556703 | Va accuracy: 0.711030\n",
      "Epoch 76 | Tr cost: 0.553672 | Tr accuracy 0.713607 | Va cost: 0.557195 | Va accuracy: 0.710830\n",
      "Epoch 77 | Tr cost: 0.553599 | Tr accuracy 0.713616 | Va cost: 0.557515 | Va accuracy: 0.710580\n",
      "Epoch 78 | Tr cost: 0.553517 | Tr accuracy 0.713821 | Va cost: 0.555503 | Va accuracy: 0.711840\n",
      "Epoch 79 | Tr cost: 0.552595 | Tr accuracy 0.714457 | Va cost: 0.552931 | Va accuracy: 0.714060\n",
      "Epoch 80 | Tr cost: 0.551247 | Tr accuracy 0.715716 | Va cost: 0.552350 | Va accuracy: 0.714605\n",
      "Epoch 81 | Tr cost: 0.550367 | Tr accuracy 0.716316 | Va cost: 0.551939 | Va accuracy: 0.714915\n",
      "Epoch 82 | Tr cost: 0.549732 | Tr accuracy 0.716534 | Va cost: 0.551580 | Va accuracy: 0.715030\n",
      "Epoch 83 | Tr cost: 0.549323 | Tr accuracy 0.717005 | Va cost: 0.551814 | Va accuracy: 0.714810\n",
      "Epoch 84 | Tr cost: 0.549352 | Tr accuracy 0.716882 | Va cost: 0.551602 | Va accuracy: 0.714890\n",
      "Epoch 85 | Tr cost: 0.549949 | Tr accuracy 0.716184 | Va cost: 0.550593 | Va accuracy: 0.715470\n",
      "Epoch 86 | Tr cost: 0.549840 | Tr accuracy 0.716230 | Va cost: 0.549981 | Va accuracy: 0.716165\n"
     ]
    },
    {
     "name": "stdout",
     "output_type": "stream",
     "text": [
      "Epoch 87 | Tr cost: 0.549219 | Tr accuracy 0.716755 | Va cost: 0.549603 | Va accuracy: 0.716435\n",
      "Epoch 88 | Tr cost: 0.548701 | Tr accuracy 0.717254 | Va cost: 0.549476 | Va accuracy: 0.716445\n",
      "Epoch 89 | Tr cost: 0.548513 | Tr accuracy 0.717518 | Va cost: 0.549699 | Va accuracy: 0.716435\n",
      "Epoch 90 | Tr cost: 0.548444 | Tr accuracy 0.717539 | Va cost: 0.550547 | Va accuracy: 0.715375\n",
      "Epoch 91 | Tr cost: 0.548457 | Tr accuracy 0.717564 | Va cost: 0.552317 | Va accuracy: 0.713725\n",
      "Epoch 92 | Tr cost: 0.548688 | Tr accuracy 0.717444 | Va cost: 0.552679 | Va accuracy: 0.713750\n",
      "Epoch 93 | Tr cost: 0.548489 | Tr accuracy 0.717465 | Va cost: 0.549092 | Va accuracy: 0.716400\n",
      "Epoch 94 | Tr cost: 0.547056 | Tr accuracy 0.718604 | Va cost: 0.547020 | Va accuracy: 0.718310\n",
      "Epoch 95 | Tr cost: 0.545706 | Tr accuracy 0.719337 | Va cost: 0.546772 | Va accuracy: 0.718895\n",
      "Epoch 96 | Tr cost: 0.544899 | Tr accuracy 0.720110 | Va cost: 0.546270 | Va accuracy: 0.719110\n",
      "Epoch 97 | Tr cost: 0.544324 | Tr accuracy 0.720761 | Va cost: 0.546102 | Va accuracy: 0.718615\n",
      "Epoch 98 | Tr cost: 0.544058 | Tr accuracy 0.720616 | Va cost: 0.546524 | Va accuracy: 0.718305\n",
      "Epoch 99 | Tr cost: 0.544435 | Tr accuracy 0.720146 | Va cost: 0.546039 | Va accuracy: 0.718495\n",
      "Epoch 100 | Tr cost: 0.544927 | Tr accuracy 0.719754 | Va cost: 0.545213 | Va accuracy: 0.719195\n",
      "Epoch 101 | Tr cost: 0.544654 | Tr accuracy 0.719864 | Va cost: 0.544869 | Va accuracy: 0.719365\n",
      "Epoch 102 | Tr cost: 0.544312 | Tr accuracy 0.720117 | Va cost: 0.544969 | Va accuracy: 0.719050\n",
      "Epoch 103 | Tr cost: 0.544172 | Tr accuracy 0.720304 | Va cost: 0.545823 | Va accuracy: 0.718360\n",
      "Epoch 104 | Tr cost: 0.544250 | Tr accuracy 0.720357 | Va cost: 0.547703 | Va accuracy: 0.717470\n",
      "Epoch 105 | Tr cost: 0.544527 | Tr accuracy 0.720250 | Va cost: 0.549092 | Va accuracy: 0.716400\n",
      "Epoch 106 | Tr cost: 0.544666 | Tr accuracy 0.720283 | Va cost: 0.546153 | Va accuracy: 0.718530\n",
      "Epoch 107 | Tr cost: 0.543591 | Tr accuracy 0.721015 | Va cost: 0.543111 | Va accuracy: 0.720505\n",
      "Epoch 108 | Tr cost: 0.542091 | Tr accuracy 0.722001 | Va cost: 0.542860 | Va accuracy: 0.721215\n",
      "Epoch 109 | Tr cost: 0.541267 | Tr accuracy 0.722592 | Va cost: 0.542549 | Va accuracy: 0.721200\n",
      "Epoch 110 | Tr cost: 0.540679 | Tr accuracy 0.722956 | Va cost: 0.542193 | Va accuracy: 0.721200\n",
      "Epoch 111 | Tr cost: 0.540388 | Tr accuracy 0.723329 | Va cost: 0.542510 | Va accuracy: 0.720650\n",
      "Epoch 112 | Tr cost: 0.540471 | Tr accuracy 0.723040 | Va cost: 0.542883 | Va accuracy: 0.720330\n",
      "Epoch 113 | Tr cost: 0.541126 | Tr accuracy 0.722448 | Va cost: 0.542225 | Va accuracy: 0.721055\n",
      "Epoch 114 | Tr cost: 0.541382 | Tr accuracy 0.722237 | Va cost: 0.541663 | Va accuracy: 0.721270\n",
      "Epoch 115 | Tr cost: 0.541141 | Tr accuracy 0.722386 | Va cost: 0.541561 | Va accuracy: 0.721370\n",
      "Epoch 116 | Tr cost: 0.540948 | Tr accuracy 0.722480 | Va cost: 0.541966 | Va accuracy: 0.721015\n",
      "Epoch 117 | Tr cost: 0.540934 | Tr accuracy 0.722700 | Va cost: 0.543152 | Va accuracy: 0.720090\n",
      "Epoch 118 | Tr cost: 0.541125 | Tr accuracy 0.722649 | Va cost: 0.544969 | Va accuracy: 0.718650\n",
      "Epoch 119 | Tr cost: 0.541431 | Tr accuracy 0.722379 | Va cost: 0.545396 | Va accuracy: 0.718400\n",
      "Epoch 120 | Tr cost: 0.541398 | Tr accuracy 0.722316 | Va cost: 0.542492 | Va accuracy: 0.720560\n",
      "Epoch 121 | Tr cost: 0.540394 | Tr accuracy 0.722920 | Va cost: 0.540165 | Va accuracy: 0.722455\n",
      "Epoch 122 | Tr cost: 0.539230 | Tr accuracy 0.723784 | Va cost: 0.539838 | Va accuracy: 0.722895\n",
      "Epoch 123 | Tr cost: 0.538538 | Tr accuracy 0.724369 | Va cost: 0.539627 | Va accuracy: 0.723170\n",
      "Epoch 124 | Tr cost: 0.538068 | Tr accuracy 0.724704 | Va cost: 0.539437 | Va accuracy: 0.723085\n",
      "Epoch 125 | Tr cost: 0.537825 | Tr accuracy 0.724912 | Va cost: 0.539816 | Va accuracy: 0.722720\n",
      "Epoch 126 | Tr cost: 0.537872 | Tr accuracy 0.724897 | Va cost: 0.540273 | Va accuracy: 0.722290\n",
      "Epoch 127 | Tr cost: 0.538443 | Tr accuracy 0.724341 | Va cost: 0.539619 | Va accuracy: 0.722795\n",
      "Epoch 128 | Tr cost: 0.538771 | Tr accuracy 0.724067 | Va cost: 0.538901 | Va accuracy: 0.723350\n",
      "Epoch 129 | Tr cost: 0.538502 | Tr accuracy 0.724243 | Va cost: 0.538581 | Va accuracy: 0.723640\n",
      "Epoch 130 | Tr cost: 0.538177 | Tr accuracy 0.724441 | Va cost: 0.538395 | Va accuracy: 0.723800\n",
      "Epoch 131 | Tr cost: 0.537928 | Tr accuracy 0.724670 | Va cost: 0.538244 | Va accuracy: 0.723955\n",
      "Epoch 132 | Tr cost: 0.537763 | Tr accuracy 0.724742 | Va cost: 0.538086 | Va accuracy: 0.724035\n",
      "Epoch 133 | Tr cost: 0.537637 | Tr accuracy 0.724773 | Va cost: 0.537892 | Va accuracy: 0.724310\n",
      "Epoch 134 | Tr cost: 0.537498 | Tr accuracy 0.724858 | Va cost: 0.537668 | Va accuracy: 0.724385\n",
      "Epoch 135 | Tr cost: 0.537315 | Tr accuracy 0.724996 | Va cost: 0.537435 | Va accuracy: 0.724520\n",
      "Epoch 136 | Tr cost: 0.537077 | Tr accuracy 0.725104 | Va cost: 0.537217 | Va accuracy: 0.724485\n",
      "Epoch 137 | Tr cost: 0.536782 | Tr accuracy 0.725249 | Va cost: 0.537048 | Va accuracy: 0.724395\n",
      "Epoch 138 | Tr cost: 0.536403 | Tr accuracy 0.725536 | Va cost: 0.536991 | Va accuracy: 0.724480\n",
      "Epoch 139 | Tr cost: 0.535892 | Tr accuracy 0.726060 | Va cost: 0.537013 | Va accuracy: 0.724465\n",
      "Epoch 140 | Tr cost: 0.535306 | Tr accuracy 0.726481 | Va cost: 0.536676 | Va accuracy: 0.724810\n",
      "Epoch 141 | Tr cost: 0.534960 | Tr accuracy 0.726753 | Va cost: 0.536292 | Va accuracy: 0.725095\n",
      "Epoch 142 | Tr cost: 0.535249 | Tr accuracy 0.726474 | Va cost: 0.537139 | Va accuracy: 0.724885\n",
      "Epoch 143 | Tr cost: 0.536546 | Tr accuracy 0.725472 | Va cost: 0.543576 | Va accuracy: 0.719605\n",
      "Epoch 144 | Tr cost: 0.541840 | Tr accuracy 0.721471 | Va cost: 0.539591 | Va accuracy: 0.722305\n",
      "Epoch 145 | Tr cost: 0.538790 | Tr accuracy 0.723784 | Va cost: 0.542901 | Va accuracy: 0.720030\n",
      "Epoch 146 | Tr cost: 0.538581 | Tr accuracy 0.723915 | Va cost: 0.540612 | Va accuracy: 0.721460\n",
      "Epoch 147 | Tr cost: 0.537449 | Tr accuracy 0.724734 | Va cost: 0.535633 | Va accuracy: 0.725760\n",
      "Epoch 148 | Tr cost: 0.535225 | Tr accuracy 0.726101 | Va cost: 0.536429 | Va accuracy: 0.725550\n",
      "Epoch 149 | Tr cost: 0.534561 | Tr accuracy 0.726707 | Va cost: 0.535712 | Va accuracy: 0.725935\n",
      "Epoch 150 | Tr cost: 0.533864 | Tr accuracy 0.727294 | Va cost: 0.534992 | Va accuracy: 0.726585\n",
      "Epoch 151 | Tr cost: 0.533593 | Tr accuracy 0.727507 | Va cost: 0.534944 | Va accuracy: 0.726335\n",
      "Epoch 152 | Tr cost: 0.533661 | Tr accuracy 0.727487 | Va cost: 0.534898 | Va accuracy: 0.726270\n",
      "Epoch 153 | Tr cost: 0.534026 | Tr accuracy 0.726985 | Va cost: 0.534467 | Va accuracy: 0.726720\n",
      "Epoch 154 | Tr cost: 0.533963 | Tr accuracy 0.727100 | Va cost: 0.534714 | Va accuracy: 0.726640\n",
      "Epoch 155 | Tr cost: 0.533168 | Tr accuracy 0.727550 | Va cost: 0.534564 | Va accuracy: 0.726950\n",
      "Epoch 156 | Tr cost: 0.532796 | Tr accuracy 0.728065 | Va cost: 0.533987 | Va accuracy: 0.727000\n",
      "Epoch 157 | Tr cost: 0.532793 | Tr accuracy 0.727947 | Va cost: 0.534040 | Va accuracy: 0.727440\n",
      "Epoch 158 | Tr cost: 0.532442 | Tr accuracy 0.728220 | Va cost: 0.533936 | Va accuracy: 0.726865\n",
      "Epoch 159 | Tr cost: 0.535529 | Tr accuracy 0.725745 | Va cost: 0.543642 | Va accuracy: 0.719525\n",
      "Epoch 160 | Tr cost: 0.538232 | Tr accuracy 0.723671 | Va cost: 0.536230 | Va accuracy: 0.725600\n",
      "Epoch 161 | Tr cost: 0.534621 | Tr accuracy 0.726691 | Va cost: 0.533731 | Va accuracy: 0.727295\n",
      "Epoch 162 | Tr cost: 0.532719 | Tr accuracy 0.727806 | Va cost: 0.533249 | Va accuracy: 0.727655\n",
      "Epoch 163 | Tr cost: 0.532094 | Tr accuracy 0.728387 | Va cost: 0.533711 | Va accuracy: 0.726725\n",
      "Epoch 164 | Tr cost: 0.531985 | Tr accuracy 0.728454 | Va cost: 0.533605 | Va accuracy: 0.727025\n",
      "Epoch 165 | Tr cost: 0.533837 | Tr accuracy 0.726996 | Va cost: 0.533832 | Va accuracy: 0.726965\n",
      "Epoch 166 | Tr cost: 0.531876 | Tr accuracy 0.728335 | Va cost: 0.533974 | Va accuracy: 0.727370\n",
      "Epoch 167 | Tr cost: 0.532166 | Tr accuracy 0.728300 | Va cost: 0.533563 | Va accuracy: 0.727165\n",
      "Epoch 168 | Tr cost: 0.532539 | Tr accuracy 0.728031 | Va cost: 0.532919 | Va accuracy: 0.727825\n",
      "Epoch 169 | Tr cost: 0.530906 | Tr accuracy 0.729019 | Va cost: 0.532146 | Va accuracy: 0.728840\n",
      "Epoch 170 | Tr cost: 0.530643 | Tr accuracy 0.729366 | Va cost: 0.532368 | Va accuracy: 0.728085\n",
      "Epoch 171 | Tr cost: 0.535602 | Tr accuracy 0.725688 | Va cost: 0.545644 | Va accuracy: 0.718080\n"
     ]
    },
    {
     "name": "stdout",
     "output_type": "stream",
     "text": [
      "Epoch 172 | Tr cost: 0.537306 | Tr accuracy 0.723926 | Va cost: 0.538066 | Va accuracy: 0.724320\n",
      "Epoch 173 | Tr cost: 0.533010 | Tr accuracy 0.727579 | Va cost: 0.534092 | Va accuracy: 0.727170\n",
      "Epoch 174 | Tr cost: 0.531194 | Tr accuracy 0.728985 | Va cost: 0.532090 | Va accuracy: 0.728625\n",
      "Epoch 175 | Tr cost: 0.530477 | Tr accuracy 0.729504 | Va cost: 0.531487 | Va accuracy: 0.729190\n",
      "Epoch 176 | Tr cost: 0.530289 | Tr accuracy 0.729736 | Va cost: 0.531308 | Va accuracy: 0.729200\n",
      "Epoch 177 | Tr cost: 0.530343 | Tr accuracy 0.729746 | Va cost: 0.531461 | Va accuracy: 0.729345\n",
      "Epoch 178 | Tr cost: 0.529829 | Tr accuracy 0.730056 | Va cost: 0.531469 | Va accuracy: 0.729425\n",
      "Epoch 179 | Tr cost: 0.529688 | Tr accuracy 0.730058 | Va cost: 0.531356 | Va accuracy: 0.729020\n",
      "Epoch 180 | Tr cost: 0.531428 | Tr accuracy 0.728853 | Va cost: 0.534589 | Va accuracy: 0.726700\n",
      "Epoch 181 | Tr cost: 0.531855 | Tr accuracy 0.728407 | Va cost: 0.531373 | Va accuracy: 0.728975\n",
      "Epoch 182 | Tr cost: 0.529433 | Tr accuracy 0.730452 | Va cost: 0.531420 | Va accuracy: 0.728905\n",
      "Epoch 183 | Tr cost: 0.531611 | Tr accuracy 0.728583 | Va cost: 0.531792 | Va accuracy: 0.728890\n",
      "Epoch 184 | Tr cost: 0.529488 | Tr accuracy 0.730364 | Va cost: 0.531599 | Va accuracy: 0.729595\n",
      "Epoch 185 | Tr cost: 0.529555 | Tr accuracy 0.730071 | Va cost: 0.530810 | Va accuracy: 0.729325\n",
      "Epoch 186 | Tr cost: 0.529360 | Tr accuracy 0.730407 | Va cost: 0.530298 | Va accuracy: 0.729850\n",
      "Epoch 187 | Tr cost: 0.528601 | Tr accuracy 0.731093 | Va cost: 0.530218 | Va accuracy: 0.730110\n",
      "Epoch 188 | Tr cost: 0.528639 | Tr accuracy 0.730904 | Va cost: 0.531327 | Va accuracy: 0.728770\n",
      "Epoch 189 | Tr cost: 0.536555 | Tr accuracy 0.725117 | Va cost: 0.540145 | Va accuracy: 0.721645\n",
      "Epoch 190 | Tr cost: 0.533356 | Tr accuracy 0.727001 | Va cost: 0.533502 | Va accuracy: 0.727325\n",
      "Epoch 191 | Tr cost: 0.530394 | Tr accuracy 0.729676 | Va cost: 0.530420 | Va accuracy: 0.729420\n",
      "Epoch 192 | Tr cost: 0.529149 | Tr accuracy 0.730504 | Va cost: 0.529789 | Va accuracy: 0.729960\n",
      "Epoch 193 | Tr cost: 0.529034 | Tr accuracy 0.730723 | Va cost: 0.530086 | Va accuracy: 0.729825\n",
      "Epoch 194 | Tr cost: 0.529158 | Tr accuracy 0.730794 | Va cost: 0.530279 | Va accuracy: 0.729620\n",
      "Epoch 195 | Tr cost: 0.529435 | Tr accuracy 0.730436 | Va cost: 0.529942 | Va accuracy: 0.730050\n",
      "Epoch 196 | Tr cost: 0.529458 | Tr accuracy 0.730363 | Va cost: 0.529630 | Va accuracy: 0.730260\n",
      "Epoch 197 | Tr cost: 0.529249 | Tr accuracy 0.730615 | Va cost: 0.529371 | Va accuracy: 0.730580\n",
      "Epoch 198 | Tr cost: 0.529023 | Tr accuracy 0.730886 | Va cost: 0.529235 | Va accuracy: 0.730820\n",
      "Epoch 199 | Tr cost: 0.528849 | Tr accuracy 0.731017 | Va cost: 0.529064 | Va accuracy: 0.731045\n",
      "Epoch 200 | Tr cost: 0.528661 | Tr accuracy 0.731090 | Va cost: 0.528899 | Va accuracy: 0.731070\n",
      "Epoch 201 | Tr cost: 0.528506 | Tr accuracy 0.731199 | Va cost: 0.528715 | Va accuracy: 0.731355\n",
      "Epoch 202 | Tr cost: 0.528316 | Tr accuracy 0.731360 | Va cost: 0.528536 | Va accuracy: 0.731355\n",
      "Epoch 203 | Tr cost: 0.528084 | Tr accuracy 0.731475 | Va cost: 0.528404 | Va accuracy: 0.731520\n",
      "Epoch 204 | Tr cost: 0.527795 | Tr accuracy 0.731557 | Va cost: 0.528372 | Va accuracy: 0.731765\n",
      "Epoch 205 | Tr cost: 0.527390 | Tr accuracy 0.731849 | Va cost: 0.528436 | Va accuracy: 0.731700\n",
      "Epoch 206 | Tr cost: 0.526937 | Tr accuracy 0.732319 | Va cost: 0.528398 | Va accuracy: 0.731650\n",
      "Epoch 207 | Tr cost: 0.526580 | Tr accuracy 0.732611 | Va cost: 0.528049 | Va accuracy: 0.732070\n",
      "Epoch 208 | Tr cost: 0.526417 | Tr accuracy 0.732672 | Va cost: 0.527911 | Va accuracy: 0.732050\n",
      "Epoch 209 | Tr cost: 0.526540 | Tr accuracy 0.732707 | Va cost: 0.528091 | Va accuracy: 0.731830\n",
      "Epoch 210 | Tr cost: 0.526356 | Tr accuracy 0.732770 | Va cost: 0.528218 | Va accuracy: 0.731565\n",
      "Epoch 211 | Tr cost: 0.528771 | Tr accuracy 0.730961 | Va cost: 0.533126 | Va accuracy: 0.727885\n",
      "Epoch 212 | Tr cost: 0.529453 | Tr accuracy 0.730047 | Va cost: 0.527658 | Va accuracy: 0.732195\n",
      "Epoch 213 | Tr cost: 0.527176 | Tr accuracy 0.732094 | Va cost: 0.530959 | Va accuracy: 0.729130\n",
      "Epoch 214 | Tr cost: 0.527945 | Tr accuracy 0.731746 | Va cost: 0.529035 | Va accuracy: 0.730680\n",
      "Epoch 215 | Tr cost: 0.528569 | Tr accuracy 0.731137 | Va cost: 0.527526 | Va accuracy: 0.732240\n",
      "Epoch 216 | Tr cost: 0.527615 | Tr accuracy 0.731721 | Va cost: 0.527428 | Va accuracy: 0.732470\n",
      "Epoch 217 | Tr cost: 0.526857 | Tr accuracy 0.732278 | Va cost: 0.527581 | Va accuracy: 0.731985\n",
      "Epoch 218 | Tr cost: 0.526201 | Tr accuracy 0.732780 | Va cost: 0.527632 | Va accuracy: 0.731875\n",
      "Epoch 219 | Tr cost: 0.525726 | Tr accuracy 0.733204 | Va cost: 0.527244 | Va accuracy: 0.732510\n",
      "Epoch 220 | Tr cost: 0.525508 | Tr accuracy 0.733428 | Va cost: 0.527062 | Va accuracy: 0.732675\n",
      "Epoch 221 | Tr cost: 0.525665 | Tr accuracy 0.733333 | Va cost: 0.527155 | Va accuracy: 0.732410\n",
      "Epoch 222 | Tr cost: 0.525381 | Tr accuracy 0.733452 | Va cost: 0.527002 | Va accuracy: 0.732865\n",
      "Epoch 223 | Tr cost: 0.526253 | Tr accuracy 0.732849 | Va cost: 0.529409 | Va accuracy: 0.730730\n",
      "Epoch 224 | Tr cost: 0.529359 | Tr accuracy 0.730245 | Va cost: 0.532540 | Va accuracy: 0.728120\n",
      "Epoch 225 | Tr cost: 0.527733 | Tr accuracy 0.731698 | Va cost: 0.530592 | Va accuracy: 0.729685\n",
      "Epoch 226 | Tr cost: 0.529104 | Tr accuracy 0.730677 | Va cost: 0.528136 | Va accuracy: 0.731600\n",
      "Epoch 227 | Tr cost: 0.527613 | Tr accuracy 0.731719 | Va cost: 0.528318 | Va accuracy: 0.731650\n",
      "Epoch 228 | Tr cost: 0.527344 | Tr accuracy 0.732000 | Va cost: 0.528913 | Va accuracy: 0.730770\n",
      "Epoch 229 | Tr cost: 0.527172 | Tr accuracy 0.732129 | Va cost: 0.529616 | Va accuracy: 0.730215\n",
      "Epoch 230 | Tr cost: 0.527182 | Tr accuracy 0.732062 | Va cost: 0.530374 | Va accuracy: 0.729555\n",
      "Epoch 231 | Tr cost: 0.527220 | Tr accuracy 0.731979 | Va cost: 0.530943 | Va accuracy: 0.729200\n",
      "Epoch 232 | Tr cost: 0.527192 | Tr accuracy 0.731977 | Va cost: 0.530921 | Va accuracy: 0.729155\n",
      "Epoch 233 | Tr cost: 0.527065 | Tr accuracy 0.732096 | Va cost: 0.530324 | Va accuracy: 0.729865\n",
      "Epoch 234 | Tr cost: 0.526783 | Tr accuracy 0.732374 | Va cost: 0.529230 | Va accuracy: 0.730510\n",
      "Epoch 235 | Tr cost: 0.526391 | Tr accuracy 0.732629 | Va cost: 0.528246 | Va accuracy: 0.731500\n",
      "Epoch 236 | Tr cost: 0.525951 | Tr accuracy 0.733032 | Va cost: 0.527623 | Va accuracy: 0.732200\n",
      "Epoch 237 | Tr cost: 0.525607 | Tr accuracy 0.733333 | Va cost: 0.527446 | Va accuracy: 0.732290\n",
      "Epoch 238 | Tr cost: 0.525371 | Tr accuracy 0.733374 | Va cost: 0.527561 | Va accuracy: 0.732180\n",
      "Epoch 239 | Tr cost: 0.525257 | Tr accuracy 0.733455 | Va cost: 0.527873 | Va accuracy: 0.731875\n",
      "Epoch 240 | Tr cost: 0.525272 | Tr accuracy 0.733548 | Va cost: 0.528153 | Va accuracy: 0.731480\n",
      "Epoch 241 | Tr cost: 0.525386 | Tr accuracy 0.733537 | Va cost: 0.528258 | Va accuracy: 0.731330\n",
      "Epoch 242 | Tr cost: 0.525531 | Tr accuracy 0.733381 | Va cost: 0.528216 | Va accuracy: 0.731375\n",
      "Epoch 243 | Tr cost: 0.525633 | Tr accuracy 0.733210 | Va cost: 0.528175 | Va accuracy: 0.731430\n",
      "Epoch 244 | Tr cost: 0.525681 | Tr accuracy 0.733165 | Va cost: 0.528223 | Va accuracy: 0.731560\n",
      "Epoch 245 | Tr cost: 0.525692 | Tr accuracy 0.733132 | Va cost: 0.528390 | Va accuracy: 0.731470\n",
      "Epoch 246 | Tr cost: 0.525695 | Tr accuracy 0.733151 | Va cost: 0.528626 | Va accuracy: 0.731260\n",
      "Epoch 247 | Tr cost: 0.525689 | Tr accuracy 0.733191 | Va cost: 0.528857 | Va accuracy: 0.731080\n",
      "Epoch 248 | Tr cost: 0.525670 | Tr accuracy 0.733340 | Va cost: 0.528980 | Va accuracy: 0.730915\n",
      "Epoch 249 | Tr cost: 0.525616 | Tr accuracy 0.733296 | Va cost: 0.528911 | Va accuracy: 0.730985\n",
      "Epoch 250 | Tr cost: 0.525512 | Tr accuracy 0.733411 | Va cost: 0.528631 | Va accuracy: 0.731380\n",
      "Epoch 251 | Tr cost: 0.525352 | Tr accuracy 0.733428 | Va cost: 0.528218 | Va accuracy: 0.731765\n",
      "Epoch 252 | Tr cost: 0.525150 | Tr accuracy 0.733514 | Va cost: 0.527797 | Va accuracy: 0.731920\n",
      "Epoch 253 | Tr cost: 0.524937 | Tr accuracy 0.733690 | Va cost: 0.527473 | Va accuracy: 0.732190\n",
      "Epoch 254 | Tr cost: 0.524745 | Tr accuracy 0.733899 | Va cost: 0.527288 | Va accuracy: 0.732300\n",
      "Epoch 255 | Tr cost: 0.524595 | Tr accuracy 0.734043 | Va cost: 0.527231 | Va accuracy: 0.732430\n",
      "Epoch 256 | Tr cost: 0.524497 | Tr accuracy 0.734147 | Va cost: 0.527256 | Va accuracy: 0.732370\n"
     ]
    },
    {
     "name": "stdout",
     "output_type": "stream",
     "text": [
      "Epoch 257 | Tr cost: 0.524452 | Tr accuracy 0.734235 | Va cost: 0.527305 | Va accuracy: 0.732325\n",
      "Epoch 258 | Tr cost: 0.524449 | Tr accuracy 0.734139 | Va cost: 0.527332 | Va accuracy: 0.732245\n",
      "Epoch 259 | Tr cost: 0.524469 | Tr accuracy 0.734082 | Va cost: 0.527324 | Va accuracy: 0.732210\n",
      "Epoch 260 | Tr cost: 0.524494 | Tr accuracy 0.734020 | Va cost: 0.527295 | Va accuracy: 0.732190\n",
      "Epoch 261 | Tr cost: 0.524509 | Tr accuracy 0.734043 | Va cost: 0.527272 | Va accuracy: 0.732255\n",
      "Epoch 262 | Tr cost: 0.524511 | Tr accuracy 0.734079 | Va cost: 0.527273 | Va accuracy: 0.732270\n",
      "Epoch 263 | Tr cost: 0.524503 | Tr accuracy 0.734124 | Va cost: 0.527308 | Va accuracy: 0.732305\n",
      "Epoch 264 | Tr cost: 0.524490 | Tr accuracy 0.734097 | Va cost: 0.527373 | Va accuracy: 0.732330\n",
      "Epoch 265 | Tr cost: 0.524474 | Tr accuracy 0.734067 | Va cost: 0.527460 | Va accuracy: 0.732370\n",
      "Epoch 266 | Tr cost: 0.524455 | Tr accuracy 0.734035 | Va cost: 0.527556 | Va accuracy: 0.732290\n",
      "Epoch 267 | Tr cost: 0.524432 | Tr accuracy 0.734040 | Va cost: 0.527641 | Va accuracy: 0.732155\n",
      "Epoch 268 | Tr cost: 0.524403 | Tr accuracy 0.734120 | Va cost: 0.527693 | Va accuracy: 0.732095\n",
      "Epoch 269 | Tr cost: 0.524362 | Tr accuracy 0.734055 | Va cost: 0.527691 | Va accuracy: 0.732070\n",
      "Epoch 270 | Tr cost: 0.524305 | Tr accuracy 0.734209 | Va cost: 0.527625 | Va accuracy: 0.732190\n",
      "Epoch 271 | Tr cost: 0.524230 | Tr accuracy 0.734280 | Va cost: 0.527495 | Va accuracy: 0.732235\n",
      "Epoch 272 | Tr cost: 0.524138 | Tr accuracy 0.734315 | Va cost: 0.527320 | Va accuracy: 0.732400\n",
      "Epoch 273 | Tr cost: 0.524031 | Tr accuracy 0.734356 | Va cost: 0.527132 | Va accuracy: 0.732505\n",
      "Epoch 274 | Tr cost: 0.523919 | Tr accuracy 0.734515 | Va cost: 0.526960 | Va accuracy: 0.732670\n",
      "Epoch 275 | Tr cost: 0.523811 | Tr accuracy 0.734576 | Va cost: 0.526827 | Va accuracy: 0.732665\n",
      "Epoch 276 | Tr cost: 0.523713 | Tr accuracy 0.734654 | Va cost: 0.526742 | Va accuracy: 0.732640\n",
      "Epoch 277 | Tr cost: 0.523632 | Tr accuracy 0.734760 | Va cost: 0.526701 | Va accuracy: 0.732720\n",
      "Epoch 278 | Tr cost: 0.523571 | Tr accuracy 0.734865 | Va cost: 0.526693 | Va accuracy: 0.732650\n",
      "Epoch 279 | Tr cost: 0.523529 | Tr accuracy 0.734829 | Va cost: 0.526703 | Va accuracy: 0.732645\n",
      "Epoch 280 | Tr cost: 0.523502 | Tr accuracy 0.734807 | Va cost: 0.526718 | Va accuracy: 0.732560\n",
      "Epoch 281 | Tr cost: 0.523486 | Tr accuracy 0.734842 | Va cost: 0.526731 | Va accuracy: 0.732510\n",
      "Epoch 282 | Tr cost: 0.523474 | Tr accuracy 0.734829 | Va cost: 0.526740 | Va accuracy: 0.732475\n",
      "Epoch 283 | Tr cost: 0.523463 | Tr accuracy 0.734799 | Va cost: 0.526745 | Va accuracy: 0.732460\n",
      "Epoch 284 | Tr cost: 0.523447 | Tr accuracy 0.734823 | Va cost: 0.526748 | Va accuracy: 0.732450\n",
      "Epoch 285 | Tr cost: 0.523426 | Tr accuracy 0.734834 | Va cost: 0.526745 | Va accuracy: 0.732475\n",
      "Epoch 286 | Tr cost: 0.523398 | Tr accuracy 0.734860 | Va cost: 0.526734 | Va accuracy: 0.732425\n",
      "Epoch 287 | Tr cost: 0.523363 | Tr accuracy 0.734911 | Va cost: 0.526708 | Va accuracy: 0.732480\n",
      "Epoch 288 | Tr cost: 0.523318 | Tr accuracy 0.734971 | Va cost: 0.526664 | Va accuracy: 0.732550\n",
      "Epoch 289 | Tr cost: 0.523266 | Tr accuracy 0.735035 | Va cost: 0.526601 | Va accuracy: 0.732470\n",
      "Epoch 290 | Tr cost: 0.523206 | Tr accuracy 0.735093 | Va cost: 0.526520 | Va accuracy: 0.732530\n",
      "Epoch 291 | Tr cost: 0.523140 | Tr accuracy 0.735060 | Va cost: 0.526428 | Va accuracy: 0.732650\n",
      "Epoch 292 | Tr cost: 0.523070 | Tr accuracy 0.735025 | Va cost: 0.526334 | Va accuracy: 0.732725\n",
      "Epoch 293 | Tr cost: 0.522999 | Tr accuracy 0.735064 | Va cost: 0.526246 | Va accuracy: 0.732840\n",
      "Epoch 294 | Tr cost: 0.522931 | Tr accuracy 0.735128 | Va cost: 0.526170 | Va accuracy: 0.733010\n",
      "Epoch 295 | Tr cost: 0.522868 | Tr accuracy 0.735112 | Va cost: 0.526108 | Va accuracy: 0.733000\n",
      "Epoch 296 | Tr cost: 0.522812 | Tr accuracy 0.735105 | Va cost: 0.526062 | Va accuracy: 0.733065\n",
      "Epoch 297 | Tr cost: 0.522763 | Tr accuracy 0.735140 | Va cost: 0.526028 | Va accuracy: 0.733020\n",
      "Epoch 298 | Tr cost: 0.522722 | Tr accuracy 0.735180 | Va cost: 0.526002 | Va accuracy: 0.733045\n",
      "Epoch 299 | Tr cost: 0.522688 | Tr accuracy 0.735221 | Va cost: 0.525983 | Va accuracy: 0.733025\n",
      "Epoch 300 | Tr cost: 0.522658 | Tr accuracy 0.735295 | Va cost: 0.525966 | Va accuracy: 0.733000\n",
      "Optimization Finished!\n",
      "Calculating predictions of the model on the test set\n",
      "Inference done. Now saving the predictions in a list.\n"
     ]
    }
   ],
   "source": [
    "training_costs, validation_costs, training_accs, validation_accs, test_predictions = train_nn()"
   ]
  },
  {
   "cell_type": "code",
   "execution_count": 29,
   "metadata": {
    "nbgrader": {
     "grade": true,
     "grade_id": "cell-35f15f51b2577131",
     "locked": true,
     "points": 15,
     "schema_version": 1,
     "solution": false
    }
   },
   "outputs": [],
   "source": [
    "## making sure your train_nn() function returns variables as expected\n",
    "assert(type(training_accs)==list,\"incorrect return type\")\n",
    "assert(type(validation_accs)==list, \"incorrect return type\")\n",
    "assert(type(training_costs)==list, \"incorrect return type\")\n",
    "assert(type(validation_costs)==list,\"incorrect return type\")\n",
    "assert(type(test_predictions[0])==type(training_accs[0])==type(validation_accs[0])==type(training_costs[0])==type(validation_costs[0])==np.float64, \"incorrect return type\")\n",
    "assert(len(training_accs)==len(validation_accs)==len(training_costs)==len(validation_costs)==training_epochs,\"incorrect returned lengths\")\n",
    "assert(len(test_predictions)==len(test_features),\"incorrect returned lengths\")"
   ]
  },
  {
   "cell_type": "markdown",
   "metadata": {
    "nbgrader": {
     "grade": false,
     "grade_id": "cell-4ed33d0856316a08",
     "locked": true,
     "schema_version": 1,
     "solution": false
    }
   },
   "source": [
    "### Analyzing cost and accuracy trends vs number of epochs"
   ]
  },
  {
   "cell_type": "code",
   "execution_count": 30,
   "metadata": {
    "nbgrader": {
     "grade": false,
     "grade_id": "cell-450747d7f0431e00",
     "locked": true,
     "schema_version": 1,
     "solution": false
    },
    "scrolled": false
   },
   "outputs": [],
   "source": [
    "def plot_cost_vs_epochs(training_costs, validation_costs):\n",
    "    plt.title(\"cost vs epochs\")\n",
    "    plt.plot(training_costs)\n",
    "    plt.plot(validation_costs)\n",
    "    plt.legend([\"training\",\"validation\"])"
   ]
  },
  {
   "cell_type": "code",
   "execution_count": 31,
   "metadata": {
    "nbgrader": {
     "grade": false,
     "grade_id": "cell-78d0e31f3ed4005e",
     "locked": true,
     "schema_version": 1,
     "solution": false
    },
    "scrolled": true
   },
   "outputs": [],
   "source": [
    "def plot_acc_vs_epochs(training_acc, validation_acc):\n",
    "    plt.title(\"accuracy vs epochs\")\n",
    "    plt.plot(training_acc)\n",
    "    plt.plot(validation_acc)\n",
    "    plt.legend([\"training\",\"validation\"])"
   ]
  },
  {
   "cell_type": "code",
   "execution_count": 32,
   "metadata": {
    "nbgrader": {
     "grade": false,
     "grade_id": "cell-5f2c5d57928f7a69",
     "locked": true,
     "schema_version": 1,
     "solution": false
    }
   },
   "outputs": [],
   "source": [
    "\n",
    "def plots(training_costs, validation_costs, training_accs, validation_accs):\n",
    "    \n",
    "    fig = plt.figure(figsize=(20,10))\n",
    "    \n",
    "    plt.subplot(1,2,1)\n",
    "    plot_cost_vs_epochs(training_costs, validation_costs)\n",
    "    plt.subplot(1,2,2)\n",
    "    plot_acc_vs_epochs(training_accs, validation_accs)"
   ]
  },
  {
   "cell_type": "code",
   "execution_count": 33,
   "metadata": {},
   "outputs": [
    {
     "data": {
      "image/png": "[encoded data removed]",
      "text/plain": [
       "<Figure size 1440x720 with 2 Axes>"
      ]
     },
     "metadata": {},
     "output_type": "display_data"
    }
   ],
   "source": [
    "plots(training_costs, validation_costs, training_accs, validation_accs)"
   ]
  },
  {
   "cell_type": "markdown",
   "metadata": {
    "nbgrader": {
     "grade": false,
     "grade_id": "cell-7e48102290dfc483",
     "locked": true,
     "schema_version": 1,
     "solution": false
    }
   },
   "source": [
    "### Scoring Your Test Predictions\n",
    "\n",
    "The following code saves your test predictions locally in the same directory.\n",
    "\n",
    "It is required in order to give you a grade based on your network's performance."
   ]
  },
  {
   "cell_type": "code",
   "execution_count": 34,
   "metadata": {
    "nbgrader": {
     "grade": false,
     "grade_id": "cell-9130fc95b3adda93",
     "locked": true,
     "schema_version": 1,
     "solution": false
    }
   },
   "outputs": [],
   "source": [
    "import pickle\n",
    "def save_test_predictions(test_predictions):\n",
    "     with open(cfg['output_predictions_pickle_path'], 'wb') as f:\n",
    "        pickle.dump(test_predictions, f)\n",
    "save_test_predictions(test_predictions)"
   ]
  },
  {
   "cell_type": "code",
   "execution_count": 35,
   "metadata": {
    "nbgrader": {
     "grade": true,
     "grade_id": "cell-afc04cb788d40f7f",
     "locked": true,
     "points": 10,
     "schema_version": 1,
     "solution": false
    },
    "scrolled": true
   },
   "outputs": [],
   "source": [
    "#Hidden tests here\n",
    "### BEGIN HIDDEN TESTS \n",
    "import subprocess\n",
    "dataset_size = cfg['dataset_size']\n",
    "prediction_pickle_path = cfg['output_predictions_pickle_path']\n",
    "def grade_predictions(prediction_pickle_path, dataset_size):\n",
    "    grading_script_path = './grade_test_submission.py'\n",
    "    p = subprocess.Popen([\"python\", grading_script_path , prediction_pickle_path , dataset_size],\n",
    "                   stdout=subprocess.PIPE, stderr=subprocess.PIPE, universal_newlines = True)\n",
    "    out, err = p.communicate()\n",
    "    score = float(out.strip())\n",
    "    return score*100\n",
    "score = grade_predictions(prediction_pickle_path, dataset_size)\n",
    "assert score>60\n",
    "   \n",
    "### END HIDDEN TESTS"
   ]
  },
  {
   "cell_type": "code",
   "execution_count": 36,
   "metadata": {
    "nbgrader": {
     "grade": true,
     "grade_id": "cell-b2568d18eddc3450",
     "locked": true,
     "points": 15,
     "schema_version": 1,
     "solution": false
    }
   },
   "outputs": [],
   "source": [
    "#Hidden tests here\n",
    "### BEGIN HIDDEN TESTS \n",
    "score = grade_predictions(prediction_pickle_path, dataset_size)\n",
    "assert score>65\n",
    "### END HIDDEN TESTS"
   ]
  },
  {
   "cell_type": "code",
   "execution_count": 37,
   "metadata": {
    "nbgrader": {
     "grade": true,
     "grade_id": "cell-27caea91932533ee",
     "locked": true,
     "points": 20,
     "schema_version": 1,
     "solution": false
    }
   },
   "outputs": [],
   "source": [
    "#Hidden tests here\n",
    "### BEGIN HIDDEN TESTS \n",
    "score = grade_predictions(prediction_pickle_path, dataset_size)\n",
    "assert score>70\n",
    "\n",
    "### END HIDDEN TESTS"
   ]
  },
  {
   "cell_type": "code",
   "execution_count": 38,
   "metadata": {
    "nbgrader": {
     "grade": true,
     "grade_id": "cell-5b305dabaed92314",
     "locked": true,
     "points": 20,
     "schema_version": 1,
     "solution": false
    },
    "scrolled": true
   },
   "outputs": [],
   "source": [
    "#Hidden tests here\n",
    "### BEGIN HIDDEN TESTS \n",
    "score = grade_predictions(prediction_pickle_path, dataset_size)\n",
    "assert score>72\n",
    "### END HIDDEN TESTS\n"
   ]
  }
 ],
 "metadata": {
  "celltoolbar": "Edit Metadata",
  "kernelspec": {
   "display_name": "Python [conda env:tensorflow_p36]",
   "language": "python",
   "name": "conda-env-tensorflow_p36-py"
  },
  "language_info": {
   "codemirror_mode": {
    "name": "ipython",
    "version": 3
   },
   "file_extension": ".py",
   "mimetype": "text/x-python",
   "name": "python",
   "nbconvert_exporter": "python",
   "pygments_lexer": "ipython3",
   "version": "3.6.4"
  },
  "toc": {
   "base_numbering": 1,
   "nav_menu": {},
   "number_sections": true,
   "sideBar": true,
   "skip_h1_title": false,
   "title_cell": "Table of Contents",
   "title_sidebar": "Contents",
   "toc_cell": false,
   "toc_position": {},
   "toc_section_display": true,
   "toc_window_display": true
  },
  "varInspector": {
   "cols": {
    "lenName": 16,
    "lenType": 16,
    "lenVar": 40
   },
   "kernels_config": {
    "python": {
     "delete_cmd_postfix": "",
     "delete_cmd_prefix": "del ",
     "library": "var_list.py",
     "varRefreshCmd": "print(var_dic_list())"
    },
    "r": {
     "delete_cmd_postfix": ") ",
     "delete_cmd_prefix": "rm(",
     "library": "var_list.r",
     "varRefreshCmd": "cat(var_dic_list()) "
    }
   },
   "types_to_exclude": [
    "module",
    "function",
    "builtin_function_or_method",
    "instance",
    "_Feature"
   ],
   "window_display": false
  }
 },
 "nbformat": 4,
 "nbformat_minor": 2
}
