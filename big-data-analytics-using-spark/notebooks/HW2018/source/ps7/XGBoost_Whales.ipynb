{
 "cells": [
  {
   "cell_type": "markdown",
   "metadata": {
    "nbgrader": {
     "grade": false,
     "grade_id": "cell-4362322a6b2b1ed9",
     "locked": true,
     "schema_version": 1,
     "solution": false
    },
    "slideshow": {
     "slide_type": "slide"
    }
   },
   "source": [
    "# CSE 255 Programming Assignment 7 - Data Analysis using XGBoost\n",
    " "
   ]
  },
  {
   "cell_type": "markdown",
   "metadata": {
    "nbgrader": {
     "grade": false,
     "grade_id": "cell-4ca0207184084e8e",
     "locked": true,
     "schema_version": 1,
     "solution": false
    }
   },
   "source": [
    "## Problem Statment\n",
    "\n",
    "You have been provided a dataset that consists of echo-location clicks of two types of whales, namely, Gervais and Cuviers. In this assignment, your task is to classify the different types whales using Gradient Boosting with the help of the XGBoost library. You are expected to fill in functions that would complete this task. We use XGBoost here instead of GradientBoostedTrees in Spark because XGBoost running on a single machine is much faster than Spark running on 10 machines.\n",
    "\n",
    "The data files were preprocessed on PySpark (10 nodes) cluster. The code for the same can be found [here](../../../Section4-Classification/XGBoost/Data_Processing_Whales.ipynb). The preprocessed data is a numpy array with `4175` rows (for the 10mb file) with following columns (zero-indexed):\n",
    "* Col 0-9: projections on first 10 eigen vectors\n",
    "* Col 10: rmse\n",
    "* Col 11: peak2peak\n",
    "* Col 12: label (`0 if row.species==u'Gervais' else 1`)\n",
    "\n",
    "You can also refer [this](../../../Section4-Classification/XGBoost/XGBoost_Whales.ipynb) notebook for the XGBoost Analysis."
   ]
  },
  {
   "cell_type": "markdown",
   "metadata": {
    "heading_collapsed": true,
    "nbgrader": {
     "grade": false,
     "grade_id": "cell-a9a38095cb19c5da",
     "locked": true,
     "schema_version": 1,
     "solution": false
    }
   },
   "source": [
    "## XGBoost - Theory\n",
    "\n",
    "A brief overview of gradient boosting in XGBoost can be found here:\n",
    "\n",
    "* http://xgboost.readthedocs.io/en/latest/model.html\n",
    "* http://xgboost.readthedocs.io/en/latest/python/python_intro.html\n",
    "\n"
   ]
  },
  {
   "cell_type": "markdown",
   "metadata": {
    "hidden": true
   },
   "source": [
    "Use the XGBoost API for training and predicting scores: \n",
    "\n",
    "* http://xgboost.readthedocs.io/en/latest/python/python_api.html\n",
    "\n",
    "#### Main API\n",
    "\n",
    "* `xgboost.train` is the learning API that trains the Gradient Boosting Model,\n",
    "   * The main parameters are:\n",
    "      * **plst** – XGBoost parameter list\n",
    "      * **dtrain** – Data to be trained\n",
    "      * **num_round** – Number of iterations of boosting. (default: 100)\n",
    "      * **evallist** – List of items to be evaluated during training\n",
    "      * **verbose_eval** - Prints logs - setting to **True** will be useful for debugging\n",
    "* `bst.predict` is the API that makes score predictions\n",
    "   * The main parameters are:\n",
    "      * **dtest** – Test Data\n",
    "      * **dtrain** – Data to be trained\n",
    "      * **ntree_limit** – Limit number of trees in the prediction (Use: ntree_limit=bst.best_ntree_limit)"
   ]
  },
  {
   "cell_type": "markdown",
   "metadata": {
    "heading_collapsed": true,
    "nbgrader": {
     "grade": false,
     "grade_id": "cell-f8a9b8bf526d4967",
     "locked": true,
     "schema_version": 1,
     "solution": false
    }
   },
   "source": [
    "## Notebook Setup"
   ]
  },
  {
   "cell_type": "markdown",
   "metadata": {
    "heading_collapsed": true,
    "hidden": true,
    "nbgrader": {
     "grade": false,
     "grade_id": "cell-cea38fbf19a333c3",
     "locked": true,
     "schema_version": 1,
     "solution": false
    },
    "slideshow": {
     "slide_type": "skip"
    }
   },
   "source": [
    "### Importing Required Libraries"
   ]
  },
  {
   "cell_type": "code",
   "execution_count": 1,
   "metadata": {
    "hidden": true,
    "nbgrader": {
     "grade": false,
     "grade_id": "cell-2051a8eb18d3841d",
     "locked": true,
     "schema_version": 1,
     "solution": false
    },
    "slideshow": {
     "slide_type": "skip"
    }
   },
   "outputs": [],
   "source": [
    "%matplotlib inline\n",
    "import numpy as np\n",
    "import xgboost as xgb\n",
    "from sklearn.model_selection import train_test_split\n",
    "import matplotlib.pyplot as plt\n",
    "import pickle\n",
    "import random"
   ]
  },
  {
   "cell_type": "markdown",
   "metadata": {
    "heading_collapsed": true,
    "hidden": true,
    "nbgrader": {
     "grade": false,
     "grade_id": "cell-49af45e27e1fbcc9",
     "locked": true,
     "schema_version": 1,
     "solution": false
    },
    "slideshow": {
     "slide_type": "subslide"
    }
   },
   "source": [
    "### Loading Data"
   ]
  },
  {
   "cell_type": "code",
   "execution_count": 2,
   "metadata": {
    "hidden": true,
    "nbgrader": {
     "grade": false,
     "grade_id": "cell-6e6873f313a58bd8",
     "locked": true,
     "schema_version": 1,
     "solution": false
    }
   },
   "outputs": [],
   "source": [
    "with open('Data/X_train.pkl', 'rb') as f:\n",
    "    X_train = pickle.load(f)\n",
    "\n",
    "with open('Data/X_test.pkl', 'rb') as f:\n",
    "    X_test = pickle.load(f)\n",
    "\n",
    "with open('Data/y_train.pkl', 'rb') as f:\n",
    "    y_train = pickle.load(f)\n",
    "\n",
    "with open('Data/y_test.pkl', 'rb') as f:\n",
    "    y_test = pickle.load(f)"
   ]
  },
  {
   "cell_type": "markdown",
   "metadata": {
    "heading_collapsed": true,
    "hidden": true,
    "nbgrader": {
     "grade": false,
     "grade_id": "cell-3b890b75f903371f",
     "locked": true,
     "schema_version": 1,
     "solution": false
    },
    "slideshow": {
     "slide_type": "fragment"
    }
   },
   "source": [
    "### Setting Parameters for XG Boost\n",
    "* Maximum Depth of the Tree = 3 _(maximum depth of each decision trees)_\n",
    "* Step size shrinkage used in update to prevents overfitting = 0.3 _(how to weigh trees in subsequent iterations)_\n",
    "* Evaluation Criterion= Maximize Loglikelihood according to the logistic regression _(logitboost)_\n",
    "* Maximum Number of Iterations = 1000 _(total number trees for boosting)_\n",
    "* Early Stop if score on Validation does not improve for 5 iterations\n",
    "\n",
    "[Full description of options](https://xgboost.readthedocs.io/en/latest//parameter.html)"
   ]
  },
  {
   "cell_type": "code",
   "execution_count": 3,
   "metadata": {
    "hidden": true,
    "slideshow": {
     "slide_type": "skip"
    }
   },
   "outputs": [],
   "source": [
    "#You can change this cell if you wish to, but you aren't expected to\n",
    "def xgboost_plst():\n",
    "    param = {}\n",
    "    param['max_depth']= 3   # depth of tree\n",
    "    param['eta'] = 0.3      # shrinkage parameter\n",
    "    param['silent'] = 0     # not silent\n",
    "    param['objective'] = 'binary:logistic'\n",
    "    param['nthread'] = 7 # Number of threads used\n",
    "    param['eval_metric'] = 'logloss'\n",
    "\n",
    "    plst = param.items()\n",
    "    return plst"
   ]
  },
  {
   "cell_type": "markdown",
   "metadata": {
    "heading_collapsed": true,
    "nbgrader": {
     "grade": false,
     "grade_id": "cell-4fd45dc089bb662b",
     "locked": true,
     "schema_version": 1,
     "solution": false
    }
   },
   "source": [
    "## Exercises"
   ]
  },
  {
   "cell_type": "markdown",
   "metadata": {
    "heading_collapsed": true,
    "hidden": true,
    "nbgrader": {
     "grade": false,
     "grade_id": "cell-f3a7d30fcd07e202",
     "locked": true,
     "schema_version": 1,
     "solution": false
    }
   },
   "source": [
    "### Computing the score ranges\n",
    "\n",
    "The function <font color=\"blue\">calc_stats</font> takes the xgboost margin scores as input and returns two numpy arrays min_scr, max_scr which are calculated as follows:\n",
    "\n",
    "1. **min_scr**: mean - (3 $\\times$ std)\n",
    "2. **max_scr**: mean + (3 $\\times$ std)\n",
    "\n",
    "Here the input margin scores, represents the processed XGBoost margin scores obtained from the <font color=\"blue\">bootstrap_pred</font> function. Each row represents the various scores for a specific example in an iteration and your <font color=\"blue\">calc_stats</font> function is supposed to compute the **min_scr** and **max_scr** as defined for each example. So in the example below, we take a scenario where we have 3 examples which have 4 values each (From 4 bootstrap iterations).\n",
    "\n",
    "\n",
    "**<font color=\"magenta\" size=2>Example Input</font>**\n",
    "``` python\n",
    "[[-0.22 -0.19 -0.17 -0.13][-0.1 -0.05 0.02 0.10][0.03 0.11 0.12 0.15]]\n",
    "```\n",
    "\n",
    "Output: min_scr (numpy array), max_scr (numpy array)\n",
    "\n",
    "**<font color=\"blue\" size=2>Example Output</font>**\n",
    "``` python\n",
    "(array([-0.28 -0.23 -0.03]),\n",
    " array([-0.08  0.22  0.24]))\n",
    "```\n",
    "\n",
    "**Note**: Ensure you round the values in the numpy arrays to two decimal places"
   ]
  },
  {
   "cell_type": "code",
   "execution_count": 4,
   "metadata": {
    "hidden": true,
    "nbgrader": {
     "grade": false,
     "grade_id": "cell-61aa63fe2f976d34",
     "locked": false,
     "schema_version": 1,
     "solution": true
    }
   },
   "outputs": [],
   "source": [
    "def calc_stats(margin_scores):\n",
    "    #BEGIN SOLUTION\n",
    "    score_mean = np.mean(margin_scores, axis=1)\n",
    "    score_std = np.std(margin_scores, axis=1)\n",
    "    min_score = np.around(score_mean - 3*score_std, decimals=2)\n",
    "    max_score = np.around(score_mean + 3*score_std, decimals=2)\n",
    "    return min_score, max_score\n",
    "    #END SOLUTION"
   ]
  },
  {
   "cell_type": "code",
   "execution_count": 5,
   "metadata": {
    "hidden": true,
    "nbgrader": {
     "grade": true,
     "grade_id": "cell-c8763da6a4711c87",
     "locked": true,
     "points": 4,
     "schema_version": 1,
     "solution": false
    }
   },
   "outputs": [],
   "source": [
    "margin_score = np.array([[-0.22, -0.19, -0.17, -0.13], [-0.1, -0.05, 0.02, 0.10], [0.03, 0.11, 0.12, 0.15]])\n",
    "min_score, max_score = calc_stats(margin_score)\n",
    "assert type(min_score) == np.ndarray, 'Incorrect Return type'\n",
    "assert type(max_score) == np.ndarray, 'Incorrect Return type'"
   ]
  },
  {
   "cell_type": "code",
   "execution_count": 6,
   "metadata": {
    "hidden": true,
    "nbgrader": {
     "grade": true,
     "grade_id": "cell-2c41787ac6b1419d",
     "locked": true,
     "points": 5,
     "schema_version": 1,
     "solution": false
    }
   },
   "outputs": [],
   "source": [
    "assert (min_score == np.array([-0.28, -0.23, -0.03])).all(), \"Incorrect return value\""
   ]
  },
  {
   "cell_type": "code",
   "execution_count": 7,
   "metadata": {
    "hidden": true,
    "nbgrader": {
     "grade": true,
     "grade_id": "cell-cdf5b9c95f246e47",
     "locked": true,
     "points": 5,
     "schema_version": 1,
     "solution": false
    }
   },
   "outputs": [],
   "source": [
    "assert (max_score == np.array([-0.08,  0.22,  0.24])).all(), \"Incorrect return value\""
   ]
  },
  {
   "cell_type": "code",
   "execution_count": 8,
   "metadata": {
    "hidden": true,
    "nbgrader": {
     "grade": true,
     "grade_id": "cell-551198b137c60ca1",
     "locked": true,
     "points": 5,
     "schema_version": 1,
     "solution": false
    }
   },
   "outputs": [],
   "source": [
    "# Hidden Tests Here\n",
    "### BEGIN HIDDEN TESTS \n",
    "margin_scores = np.load('Data/margin_scores.npy')\n",
    "min_score, max_score = calc_stats(margin_scores)\n",
    "true_min_score = np.array([-0.75, -0.64, -0.6, -0.53, -0.42, -0.36, -0.28, -0.13, 0.01, 0.25])\n",
    "true_max_score = np.array([-0.45, -0.38, -0.26, -0.17, -0.12, -0.01, 0.11, 0.26, 0.44, 0.55])\n",
    "np.testing.assert_allclose(min_score, true_min_score, err_msg='Incorrect return value')\n",
    "### END HIDDEN TESTS"
   ]
  },
  {
   "cell_type": "code",
   "execution_count": 9,
   "metadata": {
    "hidden": true,
    "nbgrader": {
     "grade": true,
     "grade_id": "cell-e743891f1c3eb739",
     "locked": true,
     "points": 5,
     "schema_version": 1,
     "solution": false
    }
   },
   "outputs": [],
   "source": [
    "# Hidden Tests Here\n",
    "### BEGIN HIDDEN TESTS \n",
    "np.testing.assert_allclose(max_score, true_max_score, err_msg='Incorrect return value')\n",
    "### END HIDDEN TESTS"
   ]
  },
  {
   "cell_type": "markdown",
   "metadata": {
    "heading_collapsed": true,
    "hidden": true,
    "nbgrader": {
     "grade": false,
     "grade_id": "cell-c7302c453524b003",
     "locked": true,
     "schema_version": 1,
     "solution": false
    }
   },
   "source": [
    "### Calculating predictions"
   ]
  },
  {
   "cell_type": "markdown",
   "metadata": {
    "hidden": true,
    "nbgrader": {
     "grade": false,
     "grade_id": "cell-0fda183618b920ae",
     "locked": true,
     "schema_version": 1,
     "solution": false
    }
   },
   "source": [
    "Based on the ranges for each of the examples, i.e, (min_scr, max_scr), we can predict whether it's a Gervais or a Cuvier. Since all our scores will be between -1 and +1, we use 0 as the margin line. All examples which are on the left side of the margin, can be classified as Cuvier's and all which are on the right side can be classified as Gervais. However, since we take margin scores from a set of bootstraps for each example, we use the minimum and maximum score arrays to predict to determine the classification.\n",
    "\n",
    "The function <font color=\"blue\">predict</font> takes the minimum score array and maximum score array and returns predictions as follows:\n",
    "\n",
    "1. If respective minimum score and maximum score values are less than 0, predict -1 (**Cuvier's**)\n",
    "2. If respective minimum score value is less than 0 and maximum score value is greater than 0, predict 0 (**Unsure**)\n",
    "3. If respective minimum score and maximum score values are greater than 0, predict 1 (**Gervais**)\n",
    "\n",
    "**<font color=\"magenta\" size=2>Example Input</font>**\n",
    "``` python\n",
    "min_scr (numpy array) = [-0.49 -0.39 -0.33 -0.25 -0.2 -0.11 -0.04 0.1 0.3 0.51]\n",
    "\n",
    "max_scr (numpy array) = [-0.78 -0.68 -0.6 -0.53 -0.47 -0.42 -0.32 -0.21 -0.07 0.22]\n",
    "```\n",
    "Output: pred (numpy array of predictions)\n",
    "\n",
    "**<font color=\"blue\" size=2>Example Output</font>**\n",
    "``` python\n",
    "[-1 -1 -1 -1 -1 -1 -1  0  0  1]\n",
    "```"
   ]
  },
  {
   "cell_type": "code",
   "execution_count": 10,
   "metadata": {
    "hidden": true,
    "nbgrader": {
     "grade": false,
     "grade_id": "cell-ca97c577ab4f263b",
     "locked": false,
     "schema_version": 1,
     "solution": true
    }
   },
   "outputs": [],
   "source": [
    "def predict(min_scr, max_scr):\n",
    "    ### BEGIN SOLUTION\n",
    "    pred = np.zeros(min_scr.shape, dtype=int)\n",
    "    pred[np.intersect1d(np.where(min_scr < 0), np.where(max_scr > 0))] = 0\n",
    "    pred[np.intersect1d(np.where(min_scr < 0), np.where(max_scr < 0))] = -1\n",
    "    pred[np.intersect1d(np.where(min_scr > 0), np.where(max_scr > 0))] = 1\n",
    "    return pred\n",
    "    ### END SOLUTION"
   ]
  },
  {
   "cell_type": "code",
   "execution_count": 11,
   "metadata": {
    "hidden": true,
    "nbgrader": {
     "grade": true,
     "grade_id": "cell-d301b14f59c07d94",
     "locked": true,
     "points": 0,
     "schema_version": 1,
     "solution": false
    }
   },
   "outputs": [],
   "source": [
    "max_s = np.array([-0.49, -0.39, -0.33, -0.25, -0.2, -0.11, -0.04, 0.1, 0.3, 0.51])\n",
    "min_s = np.array([-0.78, -0.68, -0.6, -0.53, -0.47, -0.42, -0.32, -0.21, -0.07, 0.22])\n",
    "pred = predict(min_s, max_s)\n",
    "true_pred = np.array([-1, -1, -1, -1, -1, -1, -1, 0, 0, 1])\n"
   ]
  },
  {
   "cell_type": "code",
   "execution_count": 12,
   "metadata": {
    "hidden": true,
    "nbgrader": {
     "grade": true,
     "grade_id": "cell-ff1bd26567ee7854",
     "locked": true,
     "points": 2,
     "schema_version": 1,
     "solution": false
    }
   },
   "outputs": [],
   "source": [
    "assert type(pred) == np.ndarray, 'Incorrect return type'"
   ]
  },
  {
   "cell_type": "code",
   "execution_count": 13,
   "metadata": {
    "hidden": true,
    "nbgrader": {
     "grade": true,
     "grade_id": "cell-908652bc1ca2464f",
     "locked": true,
     "points": 5,
     "schema_version": 1,
     "solution": false
    }
   },
   "outputs": [],
   "source": [
    "assert (pred == true_pred).all(), 'Incorrect return value'"
   ]
  },
  {
   "cell_type": "markdown",
   "metadata": {
    "hidden": true,
    "nbgrader": {
     "grade": false,
     "grade_id": "cell-41a6a742b1f707ef",
     "locked": true,
     "schema_version": 1,
     "solution": false
    }
   },
   "source": [
    "### Calculating scores"
   ]
  },
  {
   "cell_type": "markdown",
   "metadata": {
    "hidden": true,
    "nbgrader": {
     "grade": false,
     "grade_id": "cell-77e258b2e5469fe8",
     "locked": true,
     "schema_version": 1,
     "solution": false
    }
   },
   "source": [
    "The function <font color=\"blue\">bootstrap_pred</font> takes as input:\n",
    "\n",
    "1. **Training set**\n",
    "1. **Test set**\n",
    "1. **n_bootstrap** Number of bootstrap samples that run XGBoost and trains one part of the sample set.\n",
    "1. **minR, maxR** two numbers such that $0 < minR < maxR < 1$ that define the fractions of the `n_bootstrap` scores that define the range.\n",
    "1. **bootstrap_size** - Number of bootstrap samples on which you will run XGBoost.\n",
    "1. **num_round** - Number of iterations for running xgboost\n",
    "1. **plst** - Parameter List\n",
    "\n",
    "The output should be a confidence interval for each example in the test set. Together with a prediction that is `Gervais / Cuviers / Unsure`. The prediction `unsure` is to be output if the confidence interval contains the point 0.\n",
    "After generating the confidence intervals, the function <font color=\"blue\">predict</font> can be used to make predictions."
   ]
  },
  {
   "cell_type": "markdown",
   "metadata": {
    "heading_collapsed": true,
    "hidden": true,
    "nbgrader": {
     "grade": false,
     "grade_id": "cell-58b87b301cf007",
     "locked": true,
     "schema_version": 1,
     "solution": false
    }
   },
   "source": [
    "#### Procedure\n",
    "\n",
    "Repeat the given procedure for n_bootstrap number of iterations:\n",
    "\n",
    "For **n_bootstrap** iterations:\n",
    "* Sample **boostrap_size** indices from the training set **with replacmennt**\n",
    "* Create train and test data matrices (dtrain, dtest) using xgb.DMatrix(X_sample, label=y_sample)\n",
    "* Initialise the evallist parameter [(dtrain, 'train'), (dtest, 'eval')]\n",
    "* Train the model using the XGBoost train API and make score predictions using bst.predict object returned by XGB train API\n",
    "* Normalize them by dividing them with the normalizing factor as max(scores) - min(scores) and round these values to a precision of two decimal places\n",
    "\n",
    "Then: \n",
    "* For each individual example, remove scores below the minRth percentile and greater than maxRth percentile (sort for each example if necessary)\n",
    "* Call the calc_stats function to compute min_scr and max_scr with the filtered margin scores as parameter\n",
    "* Return the min_scr and max_scr computed by the **calc_stat** function using the margin scores.\n",
    "      \n",
    "**Note**: You can experiment by changing **n_bootstraps**, but it takes about 200 iterations to get consistent values."
   ]
  },
  {
   "cell_type": "code",
   "execution_count": 14,
   "metadata": {
    "hidden": true,
    "nbgrader": {
     "grade": false,
     "grade_id": "cell-1140639583a712cb",
     "locked": false,
     "schema_version": 1,
     "solution": true
    }
   },
   "outputs": [],
   "source": [
    "def bootstrap_pred(X_train, X_test, y_train, y_test, n_bootstrap, minR, maxR, bootstrap_size, \\\n",
    "                   num_round=100, plst=xgboost_plst()):\n",
    "    #BEGIN SOLUTION\n",
    "    score_list = []\n",
    "    for i in range(n_bootstrap):\n",
    "        \n",
    "        #Sampling indices with replacement\n",
    "        samp_indices = np.random.choice(len(X_train), size=bootstrap_size)\n",
    "        \n",
    "        #Trainset creation\n",
    "        X_samp = X_train[samp_indices]\n",
    "        y_samp = np.array(y_train[samp_indices], dtype=int)\n",
    "        \n",
    "        dtrain = xgb.DMatrix(X_samp, label=y_samp)\n",
    "        dtest = xgb.DMatrix(X_test, label=y_test)\n",
    "        \n",
    "        evallist = [(dtrain, 'train'), (dtest, 'eval')]\n",
    "\n",
    "        #Training and predicting\n",
    "        bst = xgb.train(plst, dtrain, num_round, evallist, verbose_eval=False)\n",
    "        y_pred = bst.predict(dtest, ntree_limit=bst.best_ntree_limit, output_margin=True)\n",
    "        \n",
    "        #Normalizing and rounding off\n",
    "        normalizing_factor = (max(y_pred) - min(y_pred))\n",
    "        scores = y_pred/normalizing_factor\n",
    "        scores = np.round(scores, 2)  \n",
    "        score_list.append(scores)\n",
    "    \n",
    "    #Slicing out the ends\n",
    "    margin_scores = np.sort(np.array(score_list).T, axis=1)\n",
    "    min_ind = int(minR * n_bootstrap)\n",
    "    max_ind = int(maxR * n_bootstrap)\n",
    "    margin_scores = margin_scores[:, min_ind:max_ind]\n",
    "    \n",
    "    #Calculating mean - 3*std, mean + 3*std \n",
    "    min_scr, max_scr = calc_stats(margin_scores) \n",
    "    \n",
    "    return min_scr, max_scr\n",
    "    ### END SOLUTION"
   ]
  },
  {
   "cell_type": "code",
   "execution_count": 15,
   "metadata": {
    "hidden": true,
    "nbgrader": {
     "grade": false,
     "grade_id": "cell-4b625830945c42ee",
     "locked": true,
     "schema_version": 1,
     "solution": false
    }
   },
   "outputs": [],
   "source": [
    "def process(X_train, X_test, y_train, y_test, n_bootstrap=200):\n",
    "    min_scr, max_scr = bootstrap_pred(X_train, X_test, y_train, y_test, n_bootstrap=n_bootstrap, \\\n",
    "                                            minR=0.1, maxR=0.9, bootstrap_size=len(X_train))\n",
    "    pred = predict(min_scr, max_scr)\n",
    "    return min_scr, max_scr, pred"
   ]
  },
  {
   "cell_type": "markdown",
   "metadata": {
    "heading_collapsed": true,
    "hidden": true
   },
   "source": [
    "#### Tests\n",
    "\n",
    "How we test the function:\n",
    "1. We have computed the average mid-point of the range of values and verify that this midpoint is present in the range computed by your function\n",
    "2. We check that the length of the interval(max_scr-min_scr) is not more than twice the average length of the interval"
   ]
  },
  {
   "cell_type": "code",
   "execution_count": 16,
   "metadata": {
    "hidden": true,
    "nbgrader": {
     "grade": true,
     "grade_id": "cell-8a3c583c7115caaf",
     "locked": true,
     "points": 0,
     "schema_version": 1,
     "solution": false
    }
   },
   "outputs": [],
   "source": [
    "sample_indices = np.load('Data/vis_indices.npy')\n",
    "X_test_samp = X_test[sample_indices]\n",
    "y_test_samp = np.array(y_test[sample_indices], dtype=int)\n",
    "midpt = np.load('Data/vis_midpt.npy')\n",
    "avg_length = np.load('Data/vis_avg_length.npy')\n",
    "min_scr, max_scr, pred = process(X_train, X_test_samp, y_train, y_test_samp)\n",
    "length = max_scr - min_scr"
   ]
  },
  {
   "cell_type": "code",
   "execution_count": 17,
   "metadata": {
    "hidden": true,
    "nbgrader": {
     "grade": true,
     "grade_id": "cell-30806ace951d2984",
     "locked": true,
     "points": 5,
     "schema_version": 1,
     "solution": false
    }
   },
   "outputs": [],
   "source": [
    "assert sum(min_scr <= midpt) >= (0.7 * len(sample_indices)), \"Incorrect range (mean - 3*std) to (mean + 3*std)\""
   ]
  },
  {
   "cell_type": "code",
   "execution_count": 18,
   "metadata": {
    "hidden": true,
    "nbgrader": {
     "grade": true,
     "grade_id": "cell-0251878ee5161b7e",
     "locked": true,
     "points": 5,
     "schema_version": 1,
     "solution": false
    }
   },
   "outputs": [],
   "source": [
    "assert sum(max_scr >= midpt) >= (0.7 * len(sample_indices)), \"Incorrect range (mean - 3*std) to (mean + 3*std)\""
   ]
  },
  {
   "cell_type": "code",
   "execution_count": 19,
   "metadata": {
    "hidden": true,
    "nbgrader": {
     "grade": true,
     "grade_id": "cell-3463ed8dd672663a",
     "locked": true,
     "points": 5,
     "schema_version": 1,
     "solution": false
    }
   },
   "outputs": [],
   "source": [
    "assert sum(length < 2*avg_length) >= (0.7 * len(sample_indices)), \"Incorrect length of range (mean - 3*std) to (mean + 3*std)\""
   ]
  },
  {
   "cell_type": "code",
   "execution_count": 20,
   "metadata": {
    "hidden": true,
    "nbgrader": {
     "grade": true,
     "grade_id": "cell-43b23926ea9db62f",
     "locked": true,
     "points": 0,
     "schema_version": 1,
     "solution": false
    }
   },
   "outputs": [],
   "source": [
    "# Hidden Test Here\n",
    "### BEGIN HIDDEN TESTS\n",
    "def predict_sol(min_scr, max_scr):\n",
    "    pred = np.zeros(min_scr.shape, dtype=int)\n",
    "    pred[np.intersect1d(np.where(min_scr < 0), np.where(max_scr > 0))] = 0\n",
    "    pred[np.intersect1d(np.where(min_scr < 0), np.where(max_scr < 0))] = -1\n",
    "    pred[np.intersect1d(np.where(min_scr > 0), np.where(max_scr > 0))] = 1\n",
    "    return pred\n",
    "### END HIDDEN TESTS"
   ]
  },
  {
   "cell_type": "code",
   "execution_count": 21,
   "metadata": {
    "hidden": true,
    "hide_input": false,
    "nbgrader": {
     "grade": true,
     "grade_id": "cell-620ea86d73b4e234",
     "locked": true,
     "points": 0,
     "schema_version": 1,
     "solution": false
    }
   },
   "outputs": [],
   "source": [
    "# Hidden Tests here\n",
    "### BEGIN HIDDEN TESTS\n",
    "sample_indices = np.load('Data/samp_indices.npy')\n",
    "indices2 = random.sample(range(0, len(sample_indices)), 10)\n",
    "X_test_samp = X_test[sample_indices[indices2]]\n",
    "y_test_samp = np.array(y_test[sample_indices[indices2]], dtype=int)\n",
    "midpt = np.load('Data/midpt.npy')\n",
    "\n",
    "min_scr, max_scr, pred = process(X_train, X_test_samp, y_train, y_test_samp)\n",
    "avg_length = np.load('Data/avg_length.npy')\n",
    "length = max_scr - min_scr\n",
    "### END HIDDEN TESTS"
   ]
  },
  {
   "cell_type": "code",
   "execution_count": 22,
   "metadata": {
    "hidden": true,
    "nbgrader": {
     "grade": true,
     "grade_id": "cell-c7340a7b82ccc9de",
     "locked": true,
     "points": 5,
     "schema_version": 1,
     "solution": false
    }
   },
   "outputs": [],
   "source": [
    "# Hidden Tests Here\n",
    "### BEGIN HIDDEN TESTS\n",
    "assert sum(min_scr <= midpt[indices2]) >= (0.7 * len(indices2)), \"Incorrect range (mean - 3*std) to (mean + 3*std)\"\n",
    "### END HIDDEN TESTS"
   ]
  },
  {
   "cell_type": "code",
   "execution_count": 23,
   "metadata": {
    "hidden": true,
    "nbgrader": {
     "grade": true,
     "grade_id": "cell-8ebb164eb512446b",
     "locked": true,
     "points": 5,
     "schema_version": 1,
     "solution": false
    }
   },
   "outputs": [],
   "source": [
    "# Hidden Tests Here\n",
    "### BEGIN HIDDEN TESTS\n",
    "assert sum(max_scr >= midpt[indices2]) >= (0.7 * len(indices2)), \"Incorrect range (mean - 3*std) to (mean + 3*std)\"\n",
    "### END HIDDEN TESTS"
   ]
  },
  {
   "cell_type": "code",
   "execution_count": 24,
   "metadata": {
    "hidden": true,
    "nbgrader": {
     "grade": true,
     "grade_id": "cell-2ee38957f1387fa7",
     "locked": true,
     "points": 5,
     "schema_version": 1,
     "solution": false
    }
   },
   "outputs": [],
   "source": [
    "# Hidden Tests Here\n",
    "### BEGIN HIDDEN TESTS\n",
    "assert sum(length < 2*avg_length[indices2]) >= (0.7 * len(indices2)) , \"Incorrect length of range (mean - 3*std) to (mean + 3*std)\"\n",
    "### END HIDDEN TESTS"
   ]
  },
  {
   "cell_type": "code",
   "execution_count": 25,
   "metadata": {
    "hidden": true,
    "nbgrader": {
     "grade": true,
     "grade_id": "cell-6b5f875fb83c8d93",
     "locked": true,
     "points": 7,
     "schema_version": 1,
     "solution": false
    }
   },
   "outputs": [],
   "source": [
    "# Hidden Tests Here\n",
    "### BEGIN HIDDEN TESTS\n",
    "assert (pred == predict_sol(min_scr, max_scr)).all(), \"Incorrect prediction\"\n",
    "### END HIDDEN TESTS"
   ]
  },
  {
   "cell_type": "code",
   "execution_count": 26,
   "metadata": {
    "hidden": true,
    "nbgrader": {
     "grade": true,
     "grade_id": "cell-8feac48a220aaf69",
     "locked": true,
     "points": 0,
     "schema_version": 1,
     "solution": false
    }
   },
   "outputs": [],
   "source": [
    "# Hidden Tests here\n",
    "### BEGIN HIDDEN TESTS\n",
    "sample_indices = np.load('Data/samp_indices.npy')\n",
    "indices3 = random.sample(range(0, len(sample_indices)), 10) #np.arange(30)#np.random.randint(0, len(sample_indices), size=10)\n",
    "X_test_samp = X_test[sample_indices[indices3]]\n",
    "y_test_samp = np.array(y_test[sample_indices[indices3]], dtype=int)\n",
    "midpt = np.load('Data/midpt.npy')\n",
    "\n",
    "min_scr, max_scr, pred = process(X_train, X_test_samp, y_train, y_test_samp)\n",
    "avg_length = np.load('Data/avg_length.npy')\n",
    "length = max_scr - min_scr\n",
    "### END HIDDEN TESTS"
   ]
  },
  {
   "cell_type": "code",
   "execution_count": 27,
   "metadata": {
    "hidden": true,
    "nbgrader": {
     "grade": true,
     "grade_id": "cell-4bcb209f9d36d9e0",
     "locked": true,
     "points": 5,
     "schema_version": 1,
     "solution": false
    }
   },
   "outputs": [],
   "source": [
    "# Hidden Tests here\n",
    "### BEGIN HIDDEN TESTS\n",
    "assert sum(min_scr <= midpt[indices3]) >= (0.7 * len(indices3)), \"Incorrect range (mean - 3*std) to (mean + 3*std)\"\n",
    "### END HIDDEN TESTS"
   ]
  },
  {
   "cell_type": "code",
   "execution_count": 28,
   "metadata": {
    "hidden": true,
    "nbgrader": {
     "grade": true,
     "grade_id": "cell-2def1db51c5cc83a",
     "locked": true,
     "points": 5,
     "schema_version": 1,
     "solution": false
    }
   },
   "outputs": [],
   "source": [
    "# Hidden Tests here\n",
    "### BEGIN HIDDEN TESTS\n",
    "assert sum(max_scr >= midpt[indices3]) >= (0.7 * len(indices3)), \"Incorrect range (mean - 3*std) to (mean + 3*std)\"\n",
    "### END HIDDEN TESTS"
   ]
  },
  {
   "cell_type": "code",
   "execution_count": 29,
   "metadata": {
    "hidden": true,
    "nbgrader": {
     "grade": true,
     "grade_id": "cell-e8f8fa3fde42da0c",
     "locked": true,
     "points": 5,
     "schema_version": 1,
     "solution": false
    }
   },
   "outputs": [],
   "source": [
    "# Hidden Tests here\n",
    "### BEGIN HIDDEN TESTS\n",
    "assert sum(length < 2*avg_length[indices3]) >= (0.7 * len(indices3)) , \"Incorrect length of range (mean - 3*std) to (mean + 3*std)\"\n",
    "### END HIDDEN TESTS"
   ]
  },
  {
   "cell_type": "code",
   "execution_count": 30,
   "metadata": {
    "hidden": true,
    "nbgrader": {
     "grade": true,
     "grade_id": "cell-f077309cd44f88a5",
     "locked": true,
     "points": 7,
     "schema_version": 1,
     "solution": false
    }
   },
   "outputs": [],
   "source": [
    "# Hidden Tests here\n",
    "### BEGIN HIDDEN TESTS\n",
    "assert (pred == predict_sol(min_scr, max_scr)).all(), \"Incorrect prediction\"\n",
    "### END HIDDEN TESTS"
   ]
  },
  {
   "cell_type": "markdown",
   "metadata": {
    "nbgrader": {
     "grade": false,
     "grade_id": "cell-e36a6fff11bfb2c5",
     "locked": true,
     "schema_version": 1,
     "solution": false
    }
   },
   "source": [
    "# Submission Instructions\n",
    "\n",
    "1. Validate your submission by submitting your assignment on **\"Homework 7 Test Submission\"** under **\"Week 7-8\"** on edX. This is worth 10 points.\n",
    "2. Submit the final copy of your assignment on **\"Homework 7 Final Submission\"** under **\"Week 7-8\"** on edX. This will be evaluated for visible and hidden tests and is worth 90 points."
   ]
  }
 ],
 "metadata": {
  "celltoolbar": "Create Assignment",
  "kernelspec": {
   "display_name": "Python 3",
   "language": "python",
   "name": "python3"
  },
  "language_info": {
   "codemirror_mode": {
    "name": "ipython",
    "version": 3
   },
   "file_extension": ".py",
   "mimetype": "text/x-python",
   "name": "python",
   "nbconvert_exporter": "python",
   "pygments_lexer": "ipython3",
   "version": "3.6.5"
  },
  "toc": {
   "base_numbering": 1,
   "nav_menu": {},
   "number_sections": true,
   "sideBar": true,
   "skip_h1_title": false,
   "title_cell": "Table of Contents",
   "title_sidebar": "Contents",
   "toc_cell": false,
   "toc_position": {},
   "toc_section_display": true,
   "toc_window_display": true
  },
  "varInspector": {
   "cols": {
    "lenName": 16,
    "lenType": 16,
    "lenVar": 40
   },
   "kernels_config": {
    "python": {
     "delete_cmd_postfix": "",
     "delete_cmd_prefix": "del ",
     "library": "var_list.py",
     "varRefreshCmd": "print(var_dic_list())"
    },
    "r": {
     "delete_cmd_postfix": ") ",
     "delete_cmd_prefix": "rm(",
     "library": "var_list.r",
     "varRefreshCmd": "cat(var_dic_list()) "
    }
   },
   "types_to_exclude": [
    "module",
    "function",
    "builtin_function_or_method",
    "instance",
    "_Feature"
   ],
   "window_display": false
  }
 },
 "nbformat": 4,
 "nbformat_minor": 2
}
