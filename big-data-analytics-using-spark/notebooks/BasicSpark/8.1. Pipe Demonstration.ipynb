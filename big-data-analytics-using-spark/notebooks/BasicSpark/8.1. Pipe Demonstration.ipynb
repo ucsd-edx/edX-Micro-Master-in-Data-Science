{
 "cells": [
  {
   "cell_type": "markdown",
   "metadata": {
    "slideshow": {
     "slide_type": "slide"
    }
   },
   "source": [
    "### The pipe command\n",
    "`RDD.pipe(cmd)` is a command that sends each element of the RDD as input to the command `cmd`.\n",
    "The command is any unix command line command, either pre-built, or defined by the programmer.\n",
    "\n",
    "The pipe() command allows the program to interface between spark and any other program. This is useful, in particular, when there is some legacy software, possibly written in `Matlab` or `Fortran` that we need to use, but that was not designed for parallel computation."
   ]
  },
  {
   "cell_type": "markdown",
   "metadata": {
    "slideshow": {
     "slide_type": "slide"
    }
   },
   "source": [
    "### Defining a simple script\n",
    "We define a simple script that reads text lines from stdin and outputs altered text to stdout"
   ]
  },
  {
   "cell_type": "code",
   "execution_count": 35,
   "metadata": {
    "collapsed": false,
    "slideshow": {
     "slide_type": "subslide"
    }
   },
   "outputs": [
    {
     "name": "stdout",
     "output_type": "stream",
     "text": [
      "Overwriting concat.py\n"
     ]
    }
   ],
   "source": [
    "%%writefile concat.py\n",
    "#!/usr/bin/env python\n",
    "\n",
    "# A simple python program that reads lines from stdin, makes a simple alteration, \n",
    "# and sends the result back to stdout\n",
    "import sys\n",
    "from string import strip\n",
    "for line in sys.stdin.readlines():\n",
    "    line=strip(line)\n",
    "    print 'This Is '+line"
   ]
  },
  {
   "cell_type": "code",
   "execution_count": 30,
   "metadata": {
    "collapsed": true,
    "slideshow": {
     "slide_type": "fragment"
    }
   },
   "outputs": [],
   "source": [
    "# The script file needs to be executable\n",
    "!chmod a+x concat.py"
   ]
  },
  {
   "cell_type": "markdown",
   "metadata": {
    "slideshow": {
     "slide_type": "subslide"
    }
   },
   "source": [
    "### Testing the python script"
   ]
  },
  {
   "cell_type": "code",
   "execution_count": 31,
   "metadata": {
    "collapsed": false,
    "slideshow": {
     "slide_type": "fragment"
    }
   },
   "outputs": [
    {
     "name": "stdout",
     "output_type": "stream",
     "text": [
      "Overwriting data.txt\n"
     ]
    }
   ],
   "source": [
    "%%writefile data.txt\n",
    "line\n",
    "another line\n"
   ]
  },
  {
   "cell_type": "code",
   "execution_count": 32,
   "metadata": {
    "collapsed": false,
    "slideshow": {
     "slide_type": "fragment"
    }
   },
   "outputs": [
    {
     "name": "stdout",
     "output_type": "stream",
     "text": [
      "This Is line\r\n",
      "This Is another line\r\n"
     ]
    }
   ],
   "source": [
    "!./concat.py < data.txt"
   ]
  },
  {
   "cell_type": "markdown",
   "metadata": {
    "slideshow": {
     "slide_type": "slide"
    }
   },
   "source": [
    "###  Using the script inside pipe"
   ]
  },
  {
   "cell_type": "code",
   "execution_count": 37,
   "metadata": {
    "collapsed": false,
    "slideshow": {
     "slide_type": "fragment"
    }
   },
   "outputs": [
    {
     "name": "stdout",
     "output_type": "stream",
     "text": [
      "[0, 1, 2, 3, 4, 5, 6, 7, 8, 9]\n",
      "This Is 0\n",
      "This Is 1\n",
      "This Is 2\n",
      "This Is 3\n",
      "This Is 4\n",
      "This Is 5\n",
      "This Is 6\n",
      "This Is 7\n",
      "This Is 8\n",
      "This Is 9\n"
     ]
    }
   ],
   "source": [
    "A=sc.parallelize(range(10))\n",
    "results=A.pipe('concat.py')\n",
    "\n",
    "print A.collect()\n",
    "print '\\n'.join(results.collect())"
   ]
  }
 ],
 "metadata": {
  "celltoolbar": "Slideshow",
  "kernelspec": {
   "display_name": "Python 2",
   "language": "python",
   "name": "python2"
  },
  "language_info": {
   "codemirror_mode": {
    "name": "ipython",
    "version": 2
   },
   "file_extension": ".py",
   "mimetype": "text/x-python",
   "name": "python",
   "nbconvert_exporter": "python",
   "pygments_lexer": "ipython2",
   "version": "2.7.11"
  }
 },
 "nbformat": 4,
 "nbformat_minor": 0
}
