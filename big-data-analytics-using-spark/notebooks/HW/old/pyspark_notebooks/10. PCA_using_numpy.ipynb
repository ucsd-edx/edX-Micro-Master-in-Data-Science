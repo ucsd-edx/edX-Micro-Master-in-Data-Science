{
 "cells": [
  {
   "cell_type": "markdown",
   "metadata": {},
   "source": [
    "### Performing PCA on vectors with NaNs\n",
    "This notebook demonstrates the use of numpy arrays as the content of RDDs"
   ]
  },
  {
   "cell_type": "code",
   "execution_count": 2,
   "metadata": {
    "collapsed": true
   },
   "outputs": [],
   "source": [
    "import numpy as np\n",
    "\n",
    "def outerProduct(X):\n",
    "  \"\"\"Computer outer product and indicate which locations in matrix are undefined\"\"\"\n",
    "  O=np.outer(X,X)\n",
    "  N=1-np.isnan(O)\n",
    "  return (O,N)\n",
    "def sumWithNan(M1,M2):\n",
    "  \"\"\"Add two pairs of matrix,count\"\"\"\n",
    "  (X1,N1)=M1\n",
    "  (X2,N2)=M2\n",
    "  N=N1+N2\n",
    "  X=np.nansum(np.dstack((X1,X2)),axis=2)\n",
    "  return (X,N)\n",
    "  "
   ]
  },
  {
   "cell_type": "code",
   "execution_count": 3,
   "metadata": {
    "collapsed": true
   },
   "outputs": [],
   "source": [
    "# computeCov recieves as input an RDD of np arrays, all of the same length, and computes the covariance matrix for that set of vectors\n",
    "def computeCov(RDDin):\n",
    "  RDD=RDDin.map(lambda v:np.insert(v,0,1)) # insert a 1 at the beginning of each vector so that the same \n",
    "                                           #calculation also yields the mean vector\n",
    "  OuterRDD=RDD.map(outerProduct)   # separating the map and the reduce does not matter because of Spark uses lazy execution.\n",
    "  (S,N)=OuterRDD.reduce(sumWithNan)\n",
    "  # Unpack result and compute the covariance matrix\n",
    "  #print 'RDD=',RDD.collect()\n",
    "  print S.shape, N.shape\n",
    "  #print 'S=',S\n",
    "  #print 'N=',N\n",
    "  E=S[0,1:]\n",
    "  NE=N[0,1:]\n",
    "  Mean=E/NE\n",
    "  O=S[1:,1:]\n",
    "  NO=N[1:,1:]\n",
    "  Cov=O/NO - np.outer(Mean,Mean)\n",
    "  return Cov,Mean"
   ]
  },
  {
   "cell_type": "markdown",
   "metadata": {},
   "source": [
    "#### Demonstration on a small example"
   ]
  },
  {
   "cell_type": "code",
   "execution_count": 5,
   "metadata": {
    "collapsed": true
   },
   "outputs": [],
   "source": [
    "A=np.array([1,2,3,4,np.nan,5,6])\n",
    "B=np.array([2,np.nan,1,1,1,1,1])\n",
    "np.nansum(np.dstack((A,B)),axis=2)"
   ]
  },
  {
   "cell_type": "code",
   "execution_count": 6,
   "metadata": {
    "collapsed": true
   },
   "outputs": [],
   "source": [
    "RDD=sc.parallelize([A,B])"
   ]
  },
  {
   "cell_type": "code",
   "execution_count": 7,
   "metadata": {
    "collapsed": true
   },
   "outputs": [],
   "source": [
    "computeCov(RDD)"
   ]
  },
  {
   "cell_type": "markdown",
   "metadata": {},
   "source": [
    "#### Demonstration on real data\n",
    "The following cells demonstrate the use of the code we wrote on the maximal-dayly temperature records for the state of california."
   ]
  },
  {
   "cell_type": "markdown",
   "metadata": {},
   "source": [
    "### load data into sparksql"
   ]
  },
  {
   "cell_type": "code",
   "execution_count": 1,
   "metadata": {
    "collapsed": false
   },
   "outputs": [
    {
     "ename": "NameError",
     "evalue": "name 'sqlContext' is not defined",
     "output_type": "error",
     "traceback": [
      "\u001b[0;31m---------------------------------------------------------------------------\u001b[0m",
      "\u001b[0;31mNameError\u001b[0m                                 Traceback (most recent call last)",
      "\u001b[0;32m<ipython-input-1-52b3a8a61775>\u001b[0m in \u001b[0;36m<module>\u001b[0;34m()\u001b[0m\n\u001b[0;32m----> 1\u001b[0;31m \u001b[0mCa\u001b[0m \u001b[0;34m=\u001b[0m \u001b[0msqlContext\u001b[0m\u001b[0;34m.\u001b[0m\u001b[0msql\u001b[0m\u001b[0;34m(\u001b[0m\u001b[0;34m\"select * from weather2 where (state='CA' and measurement = 'TMAX')\"\u001b[0m\u001b[0;34m)\u001b[0m\u001b[0;34m\u001b[0m\u001b[0m\n\u001b[0m\u001b[1;32m      2\u001b[0m \u001b[0;31m# Read csv file from http://mas-dse-public.s3.amazonaws.com/Weather/CA.csv\u001b[0m\u001b[0;34m\u001b[0m\u001b[0;34m\u001b[0m\u001b[0m\n",
      "\u001b[0;31mNameError\u001b[0m: name 'sqlContext' is not defined"
     ]
    }
   ],
   "source": [
    "#Ca = sqlContext.sql(\"select * from weather2 where (state='CA' and measurement = 'TMAX')\")\n",
    "# Read csv file from http://mas-dse-public.s3.amazonaws.com/Weather/CA.csv"
   ]
  },
  {
   "cell_type": "code",
   "execution_count": 10,
   "metadata": {
    "collapsed": true
   },
   "outputs": [],
   "source": [
    "Ca.first()"
   ]
  },
  {
   "cell_type": "code",
   "execution_count": 11,
   "metadata": {
    "collapsed": true
   },
   "outputs": [],
   "source": [
    "# remove the entries that do not correspond to temperature and devide by 10 so that the result is in centigrates.\n",
    "RDD_ca=Ca.map(lambda v:np.array(v[3:-1])/10)\n",
    "RDD_ca.count()"
   ]
  },
  {
   "cell_type": "code",
   "execution_count": 12,
   "metadata": {
    "collapsed": true
   },
   "outputs": [],
   "source": [
    "# Remove entries that have 10 or more nan's\n",
    "RDD_ca=RDD_ca.filter(lambda row:sum(np.isnan(row))<10)\n",
    "RDD_ca.count()"
   ]
  },
  {
   "cell_type": "code",
   "execution_count": 13,
   "metadata": {
    "collapsed": true
   },
   "outputs": [],
   "source": [
    "RDD_ca.first()"
   ]
  },
  {
   "cell_type": "code",
   "execution_count": 14,
   "metadata": {
    "collapsed": true
   },
   "outputs": [],
   "source": [
    "UnDef=RDD_ca.map(lambda row:sum(np.isnan(row))).collect()\n",
    "x = range(365)\n",
    "fig, ax = plt.subplots()\n",
    "ax.hist(UnDef,bins=36)\n",
    "display(fig)"
   ]
  },
  {
   "cell_type": "code",
   "execution_count": 15,
   "metadata": {
    "collapsed": true
   },
   "outputs": [],
   "source": [
    "OUT=computeCov(RDD_ca)\n",
    "OUT"
   ]
  },
  {
   "cell_type": "code",
   "execution_count": 16,
   "metadata": {
    "collapsed": true
   },
   "outputs": [],
   "source": [
    "[(i,OUT[i].shape) for i in range(len(OUT))]"
   ]
  },
  {
   "cell_type": "code",
   "execution_count": 17,
   "metadata": {
    "collapsed": true
   },
   "outputs": [],
   "source": [
    "(Cov,Mean)=OUT"
   ]
  },
  {
   "cell_type": "code",
   "execution_count": 18,
   "metadata": {
    "collapsed": true
   },
   "outputs": [],
   "source": [
    "Cov[:10,:10]"
   ]
  },
  {
   "cell_type": "code",
   "execution_count": 19,
   "metadata": {
    "collapsed": true
   },
   "outputs": [],
   "source": [
    "from numpy import linalg as LA\n",
    "w,v=LA.eig(Cov)"
   ]
  },
  {
   "cell_type": "code",
   "execution_count": 20,
   "metadata": {
    "collapsed": true
   },
   "outputs": [],
   "source": [
    "from datetime import date\n",
    "from numpy import shape\n",
    "import matplotlib.pyplot as plt\n",
    "import pylab as py\n",
    "from pylab import ylabel,grid,title\n",
    "\n",
    "dates=[date.fromordinal(i) for i in range(1,366)]\n",
    "def YearlyPlots(T,ttl='',size=(10,7)):\n",
    "    fig=plt.figure(1,figsize=size,dpi=300)\n",
    "    fig, ax = plt.subplots(1)\n",
    "    if shape(T)[0] != 365:\n",
    "        raise ValueError(\"First dimension of T should be 365. Shape(T)=\"+str(shape(T)))\n",
    "    ax.plot(dates,T);\n",
    "    # rotate and align the tick labels so they look better\n",
    "    fig.autofmt_xdate()\n",
    "    ylabel('temperature')\n",
    "    grid()\n",
    "    title(ttl)\n",
    "    return fig\n",
    "fig=YearlyPlots(v[:,0:3],'Eigen-Vectors')\n",
    "display(fig)"
   ]
  },
  {
   "cell_type": "code",
   "execution_count": 21,
   "metadata": {
    "collapsed": true
   },
   "outputs": [],
   "source": [
    "fig=YearlyPlots(Mean,'Mean')\n",
    "display(fig)"
   ]
  },
  {
   "cell_type": "code",
   "execution_count": 22,
   "metadata": {
    "collapsed": true
   },
   "outputs": [],
   "source": [
    "Var=np.cumsum(w)\n",
    "Var=Var/Var[-1]\n",
    "fig, ax = plt.subplots()\n",
    "#ax.plot(x, Mean, 'r')\n",
    "ax.plot(x,Var)\n",
    "ax.grid()\n",
    "display(fig)"
   ]
  },
  {
   "cell_type": "code",
   "execution_count": 23,
   "metadata": {
    "collapsed": true
   },
   "outputs": [],
   "source": []
  }
 ],
 "metadata": {
  "kernelspec": {
   "display_name": "Python 2",
   "language": "python",
   "name": "python2"
  },
  "language_info": {
   "codemirror_mode": {
    "name": "ipython",
    "version": 2
   },
   "file_extension": ".py",
   "mimetype": "text/x-python",
   "name": "python",
   "nbconvert_exporter": "python",
   "pygments_lexer": "ipython2",
   "version": "2.7.11"
  },
  "name": "PCA_using_numpy",
  "notebookId": 63332
 },
 "nbformat": 4,
 "nbformat_minor": 0
}
