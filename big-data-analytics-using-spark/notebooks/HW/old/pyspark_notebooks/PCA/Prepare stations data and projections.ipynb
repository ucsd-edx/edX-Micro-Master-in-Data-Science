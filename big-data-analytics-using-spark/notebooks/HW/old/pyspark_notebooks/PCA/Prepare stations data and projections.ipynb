{
 "cells": [
  {
   "cell_type": "markdown",
   "metadata": {},
   "source": [
    "### Load the required libraries"
   ]
  },
  {
   "cell_type": "code",
   "execution_count": 2,
   "metadata": {
    "collapsed": true
   },
   "outputs": [],
   "source": [
    "import pandas as pd\n",
    "import numpy as np\n",
    "import sklearn as sk\n",
    "import urllib\n",
    "import math\n",
    "from pylab import *\n",
    "%matplotlib inline"
   ]
  },
  {
   "cell_type": "markdown",
   "metadata": {},
   "source": [
    "### Read the data frame from pickle file"
   ]
  },
  {
   "cell_type": "code",
   "execution_count": null,
   "metadata": {
    "collapsed": true
   },
   "outputs": [],
   "source": [
    "# Pickles locations\n",
    "\"\"\"\n",
    "http://mas-dse-open.s3.amazonaws.com/Weather/MEAN_SNWD.pickle\n",
    "http://mas-dse-open.s3.amazonaws.com/Weather/MEAN_TRANGE.pickle\n",
    "http://mas-dse-open.s3.amazonaws.com/Weather/MEAN_TAVG.pickle\n",
    "http://mas-dse-open.s3.amazonaws.com/Weather/STAT_TAVG_RANGE.pickle \n",
    "\"\"\"\n"
   ]
  },
  {
   "cell_type": "code",
   "execution_count": 13,
   "metadata": {
    "collapsed": false
   },
   "outputs": [],
   "source": [
    "import pickle\n",
    "Stats, desc=pickle.load(open('../../STAT_TAVG_RANGE.pickle','r'))\n",
    "Stats2, desc=pickle.load(open('../../stat.pickle','r'))\n",
    "MEAN_TAVG = pd.DataFrame(pickle.load(open('../../MEAN_TAVG.pickle','r')),columns=[\"station\",\"mean\"])\n",
    "MEAN_TRANGE = pd.DataFrame(pickle.load(open('../../MEAN_TRANGE.pickle','r')),columns=[\"station\",\"mean\"])\n",
    "MEAN_SNWD = pd.DataFrame(pickle.load(open('../../MEAN_SNWD.pickle','r')),columns=[\"station\",\"mean\"])"
   ]
  },
  {
   "cell_type": "code",
   "execution_count": 14,
   "metadata": {
    "collapsed": false
   },
   "outputs": [],
   "source": [
    "tavg = Stats['TAVG']['eigvec'][:,:3]\n",
    "trange = Stats['TRANGE']['eigvec'][:,:3]\n",
    "snwd = Stats2['SNWD']['eigvec'][:,:3]"
   ]
  },
  {
   "cell_type": "code",
   "execution_count": 48,
   "metadata": {
    "collapsed": true
   },
   "outputs": [],
   "source": [
    "Data_dir='../../../Data/Weather'\n",
    "stations=pickle.load(open(Data_dir+'/stations.pkl','r'))\n",
    "stations.reset_index(inplace=True)\n",
    "stations.rename(columns={'index': 'station'}, inplace=True)\n",
    "stations = stations[[\"station\",\"latitude\",\"longitude\",\"elevation\"]]"
   ]
  },
  {
   "cell_type": "code",
   "execution_count": 63,
   "metadata": {
    "collapsed": false
   },
   "outputs": [],
   "source": [
    "dist_from_coast = {}\n",
    "with open(\"../../../Data/Weather/ghcnd-stations.txt\",\"rb\") as f:\n",
    "    for line in f:\n",
    "        info = line.strip().split()\n",
    "        station = info[0]\n",
    "        dist = float(info[-1])\n",
    "        dist_from_coast[station] = dist"
   ]
  },
  {
   "cell_type": "code",
   "execution_count": 64,
   "metadata": {
    "collapsed": true
   },
   "outputs": [],
   "source": [
    "stations[\"dist_coast\"] = stations['station'].map(dist_from_coast)"
   ]
  },
  {
   "cell_type": "code",
   "execution_count": 65,
   "metadata": {
    "collapsed": false
   },
   "outputs": [
    {
     "data": {
      "text/html": [
       "<div>\n",
       "<table border=\"1\" class=\"dataframe\">\n",
       "  <thead>\n",
       "    <tr style=\"text-align: right;\">\n",
       "      <th></th>\n",
       "      <th>station</th>\n",
       "      <th>latitude</th>\n",
       "      <th>longitude</th>\n",
       "      <th>elevation</th>\n",
       "      <th>dist_coast</th>\n",
       "    </tr>\n",
       "  </thead>\n",
       "  <tbody>\n",
       "    <tr>\n",
       "      <th>0</th>\n",
       "      <td>ACW00011604</td>\n",
       "      <td>17.1167</td>\n",
       "      <td>-61.7833</td>\n",
       "      <td>10.1</td>\n",
       "      <td>0.410137</td>\n",
       "    </tr>\n",
       "    <tr>\n",
       "      <th>1</th>\n",
       "      <td>ACW00011647</td>\n",
       "      <td>17.1333</td>\n",
       "      <td>-61.7833</td>\n",
       "      <td>19.2</td>\n",
       "      <td>0.410137</td>\n",
       "    </tr>\n",
       "    <tr>\n",
       "      <th>2</th>\n",
       "      <td>AE000041196</td>\n",
       "      <td>25.3330</td>\n",
       "      <td>55.5170</td>\n",
       "      <td>34.0</td>\n",
       "      <td>9.094540</td>\n",
       "    </tr>\n",
       "    <tr>\n",
       "      <th>3</th>\n",
       "      <td>AF000040930</td>\n",
       "      <td>35.3170</td>\n",
       "      <td>69.0170</td>\n",
       "      <td>3366.0</td>\n",
       "      <td>1105.420000</td>\n",
       "    </tr>\n",
       "    <tr>\n",
       "      <th>4</th>\n",
       "      <td>AG000060390</td>\n",
       "      <td>36.7167</td>\n",
       "      <td>3.2500</td>\n",
       "      <td>24.0</td>\n",
       "      <td>4.694460</td>\n",
       "    </tr>\n",
       "  </tbody>\n",
       "</table>\n",
       "</div>"
      ],
      "text/plain": [
       "       station  latitude  longitude  elevation   dist_coast\n",
       "0  ACW00011604   17.1167   -61.7833       10.1     0.410137\n",
       "1  ACW00011647   17.1333   -61.7833       19.2     0.410137\n",
       "2  AE000041196   25.3330    55.5170       34.0     9.094540\n",
       "3  AF000040930   35.3170    69.0170     3366.0  1105.420000\n",
       "4  AG000060390   36.7167     3.2500       24.0     4.694460"
      ]
     },
     "execution_count": 65,
     "metadata": {},
     "output_type": "execute_result"
    }
   ],
   "source": [
    "stations.head()"
   ]
  },
  {
   "cell_type": "markdown",
   "metadata": {},
   "source": [
    "### Find the projections"
   ]
  },
  {
   "cell_type": "code",
   "execution_count": 35,
   "metadata": {
    "collapsed": false
   },
   "outputs": [],
   "source": [
    "MEAN_TAVG['TAVG_coeff'] = MEAN_TAVG['mean'].apply(lambda x: tavg.T.dot(np.nan_to_num(x))) \n",
    "MEAN_TRANGE['TRANGE_coeff'] = MEAN_TRANGE['mean'].apply(lambda x: trange.T.dot(np.nan_to_num(x))) \n",
    "MEAN_SNWD['SNWD_coeff'] = MEAN_SNWD['mean'].apply(lambda x: snwd.T.dot(np.nan_to_num(x))) "
   ]
  },
  {
   "cell_type": "code",
   "execution_count": null,
   "metadata": {
    "collapsed": true
   },
   "outputs": [],
   "source": [
    "df = pd.merge(MEAN_TAVG,MEAN_TRANGE,on=\"station\",how=\"inner\")"
   ]
  },
  {
   "cell_type": "code",
   "execution_count": 38,
   "metadata": {
    "collapsed": true
   },
   "outputs": [],
   "source": [
    "df = df.merge(MEAN_SNWD,on=\"station\",how=\"inner\")"
   ]
  },
  {
   "cell_type": "code",
   "execution_count": 41,
   "metadata": {
    "collapsed": false
   },
   "outputs": [],
   "source": [
    "df.drop([\"mean_x\",\"mean_y\",\"mean\"], axis=1, inplace=True)"
   ]
  },
  {
   "cell_type": "code",
   "execution_count": 66,
   "metadata": {
    "collapsed": true
   },
   "outputs": [],
   "source": [
    "df = df.merge(stations,on=\"station\",how=\"inner\")"
   ]
  },
  {
   "cell_type": "code",
   "execution_count": 68,
   "metadata": {
    "collapsed": false
   },
   "outputs": [
    {
     "data": {
      "text/html": [
       "<div>\n",
       "<table border=\"1\" class=\"dataframe\">\n",
       "  <thead>\n",
       "    <tr style=\"text-align: right;\">\n",
       "      <th></th>\n",
       "      <th>station</th>\n",
       "      <th>TAVG_coeff</th>\n",
       "      <th>TRANGE_coeff</th>\n",
       "      <th>SNWD_coeff</th>\n",
       "      <th>latitude</th>\n",
       "      <th>longitude</th>\n",
       "      <th>elevation</th>\n",
       "      <th>dist_coast</th>\n",
       "    </tr>\n",
       "  </thead>\n",
       "  <tbody>\n",
       "    <tr>\n",
       "      <th>0</th>\n",
       "      <td>USC00044534</td>\n",
       "      <td>[3047.96236332, 1974.34852034, 150.560792408]</td>\n",
       "      <td>[-2903.63287861, -236.907267527, 147.021790682]</td>\n",
       "      <td>[0.19150300062, 0.187262808215, -0.0401379552536]</td>\n",
       "      <td>36.0042</td>\n",
       "      <td>-119.9600</td>\n",
       "      <td>73.2</td>\n",
       "      <td>107.65500</td>\n",
       "    </tr>\n",
       "    <tr>\n",
       "      <th>1</th>\n",
       "      <td>USC00356784</td>\n",
       "      <td>[2072.14900342, 880.454658675, -19.4039657277]</td>\n",
       "      <td>[-1588.34406546, 22.0915925777, 53.9057098222]</td>\n",
       "      <td>[0.315437798531, 0.126292083873, 0.792078997215]</td>\n",
       "      <td>42.7519</td>\n",
       "      <td>-124.5011</td>\n",
       "      <td>12.8</td>\n",
       "      <td>0.61097</td>\n",
       "    </tr>\n",
       "    <tr>\n",
       "      <th>2</th>\n",
       "      <td>USC00243581</td>\n",
       "      <td>[949.76415135, 2361.83695166, 132.430208658]</td>\n",
       "      <td>[-2802.63818721, -165.774139321, 152.216161042]</td>\n",
       "      <td>[745.947251853, 256.091735413, 113.675894459]</td>\n",
       "      <td>47.1064</td>\n",
       "      <td>-104.7183</td>\n",
       "      <td>632.8</td>\n",
       "      <td>1316.54000</td>\n",
       "    </tr>\n",
       "    <tr>\n",
       "      <th>3</th>\n",
       "      <td>USC00205601</td>\n",
       "      <td>[1447.7276104, 2119.09952327, 32.5684846715]</td>\n",
       "      <td>[-2354.34632034, -251.69735105, 150.704717534]</td>\n",
       "      <td>[506.947521322, 213.945709057, 136.385233577]</td>\n",
       "      <td>41.7500</td>\n",
       "      <td>-84.2167</td>\n",
       "      <td>247.2</td>\n",
       "      <td>685.50100</td>\n",
       "    </tr>\n",
       "    <tr>\n",
       "      <th>4</th>\n",
       "      <td>CA005010480</td>\n",
       "      <td>[-107.474590032, 2456.37597386, 100.527486175]</td>\n",
       "      <td>[-2361.17001514, -121.515682174, 194.892166828]</td>\n",
       "      <td>[2731.8353828, 101.61002442, 328.650623536]</td>\n",
       "      <td>49.9170</td>\n",
       "      <td>-99.9500</td>\n",
       "      <td>409.0</td>\n",
       "      <td>908.27100</td>\n",
       "    </tr>\n",
       "  </tbody>\n",
       "</table>\n",
       "</div>"
      ],
      "text/plain": [
       "       station                                      TAVG_coeff  \\\n",
       "0  USC00044534   [3047.96236332, 1974.34852034, 150.560792408]   \n",
       "1  USC00356784  [2072.14900342, 880.454658675, -19.4039657277]   \n",
       "2  USC00243581    [949.76415135, 2361.83695166, 132.430208658]   \n",
       "3  USC00205601    [1447.7276104, 2119.09952327, 32.5684846715]   \n",
       "4  CA005010480  [-107.474590032, 2456.37597386, 100.527486175]   \n",
       "\n",
       "                                      TRANGE_coeff  \\\n",
       "0  [-2903.63287861, -236.907267527, 147.021790682]   \n",
       "1   [-1588.34406546, 22.0915925777, 53.9057098222]   \n",
       "2  [-2802.63818721, -165.774139321, 152.216161042]   \n",
       "3   [-2354.34632034, -251.69735105, 150.704717534]   \n",
       "4  [-2361.17001514, -121.515682174, 194.892166828]   \n",
       "\n",
       "                                          SNWD_coeff  latitude  longitude  \\\n",
       "0  [0.19150300062, 0.187262808215, -0.0401379552536]   36.0042  -119.9600   \n",
       "1   [0.315437798531, 0.126292083873, 0.792078997215]   42.7519  -124.5011   \n",
       "2      [745.947251853, 256.091735413, 113.675894459]   47.1064  -104.7183   \n",
       "3      [506.947521322, 213.945709057, 136.385233577]   41.7500   -84.2167   \n",
       "4        [2731.8353828, 101.61002442, 328.650623536]   49.9170   -99.9500   \n",
       "\n",
       "   elevation  dist_coast  \n",
       "0       73.2   107.65500  \n",
       "1       12.8     0.61097  \n",
       "2      632.8  1316.54000  \n",
       "3      247.2   685.50100  \n",
       "4      409.0   908.27100  "
      ]
     },
     "execution_count": 68,
     "metadata": {},
     "output_type": "execute_result"
    }
   ],
   "source": [
    "df.head()"
   ]
  },
  {
   "cell_type": "code",
   "execution_count": 69,
   "metadata": {
    "collapsed": true
   },
   "outputs": [],
   "source": [
    "df.to_pickle(\"../../../Data/Weather/stations_projections.pickle\")"
   ]
  },
  {
   "cell_type": "code",
   "execution_count": null,
   "metadata": {
    "collapsed": true
   },
   "outputs": [],
   "source": []
  }
 ],
 "metadata": {
  "kernelspec": {
   "display_name": "Python 2",
   "language": "python",
   "name": "python2"
  },
  "language_info": {
   "codemirror_mode": {
    "name": "ipython",
    "version": 2
   },
   "file_extension": ".py",
   "mimetype": "text/x-python",
   "name": "python",
   "nbconvert_exporter": "python",
   "pygments_lexer": "ipython2",
   "version": "2.7.11"
  }
 },
 "nbformat": 4,
 "nbformat_minor": 0
}
