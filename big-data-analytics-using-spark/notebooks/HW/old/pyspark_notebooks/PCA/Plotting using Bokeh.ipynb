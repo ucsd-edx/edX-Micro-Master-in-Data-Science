{
 "cells": [
  {
   "cell_type": "code",
   "execution_count": 7,
   "metadata": {
    "collapsed": false
   },
   "outputs": [],
   "source": [
    "import numpy as np\n",
    "from bokeh.plotting import figure, output_notebook, show, output_file\n",
    "import matplotlib.cm as cm\n",
    "import matplotlib as mpl\n",
    "from bokeh.plotting import hplot\n",
    "from bokeh.models import (\n",
    "  GMapPlot, GMapOptions, ColumnDataSource, Circle, DataRange1d, PanTool, WheelZoomTool, BoxSelectTool, PreviewSaveTool\n",
    ")"
   ]
  },
  {
   "cell_type": "code",
   "execution_count": 8,
   "metadata": {
    "collapsed": false
   },
   "outputs": [
    {
     "data": {
      "text/html": [
       "<div>\n",
       "<table border=\"1\" class=\"dataframe\">\n",
       "  <thead>\n",
       "    <tr style=\"text-align: right;\">\n",
       "      <th></th>\n",
       "      <th>latitude</th>\n",
       "      <th>longitude</th>\n",
       "      <th>elevation</th>\n",
       "      <th>state</th>\n",
       "      <th>name</th>\n",
       "      <th>GSNFLAG</th>\n",
       "      <th>HCNFLAG</th>\n",
       "      <th>WMOID</th>\n",
       "    </tr>\n",
       "  </thead>\n",
       "  <tbody>\n",
       "    <tr>\n",
       "      <th>ACW00011604</th>\n",
       "      <td>17.1167</td>\n",
       "      <td>-61.7833</td>\n",
       "      <td>10.1</td>\n",
       "      <td>NaN</td>\n",
       "      <td>ST JOHNS COOLIDGE FLD</td>\n",
       "      <td>NaN</td>\n",
       "      <td>NaN</td>\n",
       "      <td>NaN</td>\n",
       "    </tr>\n",
       "    <tr>\n",
       "      <th>ACW00011647</th>\n",
       "      <td>17.1333</td>\n",
       "      <td>-61.7833</td>\n",
       "      <td>19.2</td>\n",
       "      <td>NaN</td>\n",
       "      <td>ST JOHNS</td>\n",
       "      <td>NaN</td>\n",
       "      <td>NaN</td>\n",
       "      <td>NaN</td>\n",
       "    </tr>\n",
       "    <tr>\n",
       "      <th>AE000041196</th>\n",
       "      <td>25.3330</td>\n",
       "      <td>55.5170</td>\n",
       "      <td>34.0</td>\n",
       "      <td>NaN</td>\n",
       "      <td>SHARJAH INTER. AIRP</td>\n",
       "      <td>GSN</td>\n",
       "      <td>NaN</td>\n",
       "      <td>41196</td>\n",
       "    </tr>\n",
       "    <tr>\n",
       "      <th>AF000040930</th>\n",
       "      <td>35.3170</td>\n",
       "      <td>69.0170</td>\n",
       "      <td>3366.0</td>\n",
       "      <td>NaN</td>\n",
       "      <td>NORTH-SALANG</td>\n",
       "      <td>GSN</td>\n",
       "      <td>NaN</td>\n",
       "      <td>40930</td>\n",
       "    </tr>\n",
       "    <tr>\n",
       "      <th>AG000060390</th>\n",
       "      <td>36.7167</td>\n",
       "      <td>3.2500</td>\n",
       "      <td>24.0</td>\n",
       "      <td>NaN</td>\n",
       "      <td>ALGER-DAR EL BEIDA</td>\n",
       "      <td>GSN</td>\n",
       "      <td>NaN</td>\n",
       "      <td>60390</td>\n",
       "    </tr>\n",
       "  </tbody>\n",
       "</table>\n",
       "</div>"
      ],
      "text/plain": [
       "             latitude  longitude  elevation state                   name  \\\n",
       "ACW00011604   17.1167   -61.7833       10.1   NaN  ST JOHNS COOLIDGE FLD   \n",
       "ACW00011647   17.1333   -61.7833       19.2   NaN               ST JOHNS   \n",
       "AE000041196   25.3330    55.5170       34.0   NaN    SHARJAH INTER. AIRP   \n",
       "AF000040930   35.3170    69.0170     3366.0   NaN           NORTH-SALANG   \n",
       "AG000060390   36.7167     3.2500       24.0   NaN     ALGER-DAR EL BEIDA   \n",
       "\n",
       "            GSNFLAG HCNFLAG  WMOID  \n",
       "ACW00011604     NaN     NaN    NaN  \n",
       "ACW00011647     NaN     NaN    NaN  \n",
       "AE000041196     GSN     NaN  41196  \n",
       "AF000040930     GSN     NaN  40930  \n",
       "AG000060390     GSN     NaN  60390  "
      ]
     },
     "execution_count": 8,
     "metadata": {},
     "output_type": "execute_result"
    }
   ],
   "source": [
    "import pickle\n",
    "Data_dir='../../../Data/Weather'\n",
    "stations=pickle.load(open(Data_dir+'/stations.pkl','r'))\n",
    "stations.head()"
   ]
  },
  {
   "cell_type": "code",
   "execution_count": 9,
   "metadata": {
    "collapsed": false
   },
   "outputs": [
    {
     "name": "stdout",
     "output_type": "stream",
     "text": [
      "85273\n",
      "85273 85273 85273 85273\n"
     ]
    }
   ],
   "source": [
    "#this code is using pandas dataframes\n",
    "lons=stations.ix[:,'longitude'].values\n",
    "lats=stations.ix[:,'latitude'].values\n",
    "elev=stations.ix[:,'elevation'].values\n",
    "station_names=stations.index.values\n",
    "ll=len(lons)\n",
    "lonmin=-180;lonmax=180;latsmin=-80;latsmax=80;\n",
    "select=(lons>lonmin) * (lons<lonmax)*(lats>latsmin)*(lats<latsmax)\n",
    "print sum(select)\n",
    "station_names=station_names[select]\n",
    "lons=lons[select]\n",
    "lats=lats[select]\n",
    "elev=elev[select]\n",
    "elev=[min(3000,max(e,0))/3000. for e in elev]\n",
    "print len(lons),len(lats),len(station_names),len(elev)"
   ]
  },
  {
   "cell_type": "code",
   "execution_count": 10,
   "metadata": {
    "collapsed": false
   },
   "outputs": [],
   "source": [
    "arr = np.array(zip(lons, lats, elev))\n",
    "indices = np.random.choice(xrange(len(arr)), 4000, replace=False)\n",
    "new_arr = arr[indices]\n",
    "lons = new_arr[:,0]\n",
    "lats = new_arr[:,1]\n",
    "elev = new_arr[:,2]"
   ]
  },
  {
   "cell_type": "markdown",
   "metadata": {},
   "source": [
    "### Define fields to display in map"
   ]
  },
  {
   "cell_type": "code",
   "execution_count": 11,
   "metadata": {
    "collapsed": true
   },
   "outputs": [],
   "source": [
    "variable1 = elev\n",
    "variable2 = elev"
   ]
  },
  {
   "cell_type": "code",
   "execution_count": 12,
   "metadata": {
    "collapsed": false
   },
   "outputs": [],
   "source": [
    "colors = [\n",
    "    \"#%02x%02x%02x\" % (int(r), int(g), int(b)) for r, g, b, _ in 255*cm.hot(mpl.colors.Normalize()(variable1))\n",
    "]\n",
    "colors2 = [\n",
    "    \"#%02x%02x%02x\" % (int(r), int(g), int(b)) for r, g, b, _ in 255*cm.viridis(mpl.colors.Normalize()(variable2))\n",
    "]"
   ]
  },
  {
   "cell_type": "markdown",
   "metadata": {},
   "source": [
    "### Define output HTML"
   ]
  },
  {
   "cell_type": "code",
   "execution_count": 15,
   "metadata": {
    "collapsed": true
   },
   "outputs": [],
   "source": [
    "output_file(\"plot.html\", title=\"USA Elevation plot\", mode=\"cdn\")"
   ]
  },
  {
   "cell_type": "code",
   "execution_count": 16,
   "metadata": {
    "collapsed": false
   },
   "outputs": [],
   "source": [
    "from bokeh.models import (\n",
    "  GMapPlot, GMapOptions, ColumnDataSource, Circle, DataRange1d, PanTool, WheelZoomTool, BoxSelectTool, PreviewSaveTool\n",
    ")\n",
    "\n",
    "map_options = GMapOptions(lat=37.09024, lng=-95.712891, map_type=\"terrain\", zoom=3)\n",
    "\n",
    "plot = GMapPlot(\n",
    "    x_range=DataRange1d(), y_range=DataRange1d(), map_options=map_options)\n",
    "\n",
    "plot2 = GMapPlot(\n",
    "    x_range=DataRange1d(), y_range=DataRange1d(), map_options=map_options)\n",
    "\n",
    "source = ColumnDataSource(\n",
    "    data=dict(\n",
    "        lat=lats,\n",
    "        lon=lons,\n",
    "        col=colors\n",
    "    )\n",
    ")\n",
    "\n",
    "source2 = ColumnDataSource(\n",
    "    data=dict(\n",
    "        lat=lats,\n",
    "        lon=lons,\n",
    "        col=colors2\n",
    "    )\n",
    ")\n",
    "\n",
    "circle = Circle(x=\"lon\", y=\"lat\", size=5, fill_color=\"col\", fill_alpha=1, line_color=None,)\n",
    "plot.add_glyph(source, circle) # Plot for variable 1\n",
    "plot.add_tools(PanTool(), WheelZoomTool(), BoxSelectTool(), PreviewSaveTool())\n",
    "\n",
    "plot2.add_glyph(source2, circle) # Plot for variable 2\n",
    "plot2.add_tools(PanTool(), WheelZoomTool(), BoxSelectTool(), PreviewSaveTool())\n",
    "\n",
    "p = hplot(plot,plot2)\n",
    "show(p)\n"
   ]
  },
  {
   "cell_type": "code",
   "execution_count": null,
   "metadata": {
    "collapsed": true
   },
   "outputs": [],
   "source": []
  },
  {
   "cell_type": "code",
   "execution_count": null,
   "metadata": {
    "collapsed": true
   },
   "outputs": [],
   "source": []
  }
 ],
 "metadata": {
  "kernelspec": {
   "display_name": "Python 2",
   "language": "python",
   "name": "python2"
  },
  "language_info": {
   "codemirror_mode": {
    "name": "ipython",
    "version": 2
   },
   "file_extension": ".py",
   "mimetype": "text/x-python",
   "name": "python",
   "nbconvert_exporter": "python",
   "pygments_lexer": "ipython2",
   "version": "2.7.11"
  }
 },
 "nbformat": 4,
 "nbformat_minor": 0
}
