{
 "cells": [
  {
   "cell_type": "markdown",
   "metadata": {},
   "source": [
    "# Lesson 7  \n",
    "\n",
    "### Outliers"
   ]
  },
  {
   "cell_type": "code",
   "execution_count": null,
   "metadata": {
    "collapsed": false
   },
   "outputs": [],
   "source": [
    "import pandas as pd\n",
    "import sys"
   ]
  },
  {
   "cell_type": "code",
   "execution_count": null,
   "metadata": {
    "collapsed": false
   },
   "outputs": [],
   "source": [
    "print 'Python version ' + sys.version\n",
    "print 'Pandas version: ' + pd.__version__"
   ]
  },
  {
   "cell_type": "code",
   "execution_count": null,
   "metadata": {
    "collapsed": false
   },
   "outputs": [],
   "source": [
    "# Create a dataframe with dates as your index\n",
    "States = ['NY', 'NY', 'NY', 'NY', 'FL', 'FL', 'GA', 'GA', 'FL', 'FL'] \n",
    "data = [1.0, 2, 3, 4, 5, 6, 7, 8, 9, 10]\n",
    "idx = pd.date_range('1/1/2012', periods=10, freq='MS')\n",
    "df1 = pd.DataFrame(data, index=idx, columns=['Revenue'])\n",
    "df1['State'] = States\n",
    "\n",
    "# Create a second dataframe\n",
    "data2 = [10.0, 10.0, 9, 9, 8, 8, 7, 7, 6, 6]\n",
    "idx2 = pd.date_range('1/1/2013', periods=10, freq='MS')\n",
    "df2 = pd.DataFrame(data2, index=idx2, columns=['Revenue'])\n",
    "df2['State'] = States"
   ]
  },
  {
   "cell_type": "code",
   "execution_count": null,
   "metadata": {
    "collapsed": false
   },
   "outputs": [],
   "source": [
    "# Combine dataframes\n",
    "df = pd.concat([df1,df2])\n",
    "df"
   ]
  },
  {
   "cell_type": "markdown",
   "metadata": {},
   "source": [
    "# Ways to Calculate Outliers    \n",
    "\n",
    "Note: Average and Standard Deviation are only valid for gaussian distributions."
   ]
  },
  {
   "cell_type": "code",
   "execution_count": null,
   "metadata": {
    "collapsed": false
   },
   "outputs": [],
   "source": [
    "# Method 1\n",
    "\n",
    "# make a copy of original df\n",
    "newdf = df.copy()\n",
    "\n",
    "newdf['x-Mean'] = abs(newdf['Revenue'] - newdf['Revenue'].mean())\n",
    "newdf['1.96*std'] = 1.96*newdf['Revenue'].std()  \n",
    "newdf['Outlier'] = abs(newdf['Revenue'] - newdf['Revenue'].mean()) > 1.96*newdf['Revenue'].std()\n",
    "newdf"
   ]
  },
  {
   "cell_type": "code",
   "execution_count": null,
   "metadata": {
    "collapsed": false
   },
   "outputs": [],
   "source": [
    "# Method 2\n",
    "# Group by item\n",
    "\n",
    "# make a copy of original df\n",
    "newdf = df.copy()\n",
    "\n",
    "State = newdf.groupby('State')\n",
    "\n",
    "newdf['Outlier'] = State.transform( lambda x: abs(x-x.mean()) > 1.96*x.std() )\n",
    "newdf['x-Mean'] = State.transform( lambda x: abs(x-x.mean()) )\n",
    "newdf['1.96*std'] = State.transform( lambda x: 1.96*x.std() )\n",
    "newdf"
   ]
  },
  {
   "cell_type": "code",
   "execution_count": null,
   "metadata": {
    "collapsed": false
   },
   "outputs": [],
   "source": [
    "# Method 2\n",
    "# Group by multiple items\n",
    "\n",
    "# make a copy of original df\n",
    "newdf = df.copy()\n",
    "\n",
    "StateMonth = newdf.groupby(['State', lambda x: x.month])\n",
    "\n",
    "newdf['Outlier'] = StateMonth.transform( lambda x: abs(x-x.mean()) > 1.96*x.std() )\n",
    "newdf['x-Mean'] = StateMonth.transform( lambda x: abs(x-x.mean()) )\n",
    "newdf['1.96*std'] = StateMonth.transform( lambda x: 1.96*x.std() )\n",
    "newdf"
   ]
  },
  {
   "cell_type": "code",
   "execution_count": null,
   "metadata": {
    "collapsed": false
   },
   "outputs": [],
   "source": [
    "# Method 3\n",
    "# Group by item\n",
    "\n",
    "# make a copy of original df\n",
    "newdf = df.copy()\n",
    "\n",
    "State = newdf.groupby('State')\n",
    "\n",
    "def s(group):\n",
    "    group['x-Mean'] = abs(group['Revenue'] - group['Revenue'].mean())\n",
    "    group['1.96*std'] = 1.96*group['Revenue'].std()  \n",
    "    group['Outlier'] = abs(group['Revenue'] - group['Revenue'].mean()) > 1.96*group['Revenue'].std()\n",
    "    return group\n",
    "\n",
    "Newdf2 = State.apply(s)\n",
    "Newdf2"
   ]
  },
  {
   "cell_type": "code",
   "execution_count": null,
   "metadata": {
    "collapsed": false
   },
   "outputs": [],
   "source": [
    "# Method 3\n",
    "# Group by multiple items\n",
    "\n",
    "# make a copy of original df\n",
    "newdf = df.copy()\n",
    "\n",
    "StateMonth = newdf.groupby(['State', lambda x: x.month])\n",
    "\n",
    "def s(group):\n",
    "    group['x-Mean'] = abs(group['Revenue'] - group['Revenue'].mean())\n",
    "    group['1.96*std'] = 1.96*group['Revenue'].std()  \n",
    "    group['Outlier'] = abs(group['Revenue'] - group['Revenue'].mean()) > 1.96*group['Revenue'].std()\n",
    "    return group\n",
    "\n",
    "Newdf2 = StateMonth.apply(s)\n",
    "Newdf2"
   ]
  },
  {
   "cell_type": "markdown",
   "metadata": {},
   "source": [
    "Assumign a non gaussian distribution (if you plot it, it will not look like a normal distribution)"
   ]
  },
  {
   "cell_type": "code",
   "execution_count": null,
   "metadata": {
    "collapsed": false
   },
   "outputs": [],
   "source": [
    "# make a copy of original df\n",
    "newdf = df.copy()\n",
    "\n",
    "State = newdf.groupby('State')\n",
    "\n",
    "newdf['Lower'] = State['Revenue'].transform( lambda x: x.quantile(q=.25) - (1.5*(x.quantile(q=.75)-x.quantile(q=.25))) )\n",
    "newdf['Upper'] = State['Revenue'].transform( lambda x: x.quantile(q=.75) + (1.5*(x.quantile(q=.75)-x.quantile(q=.25))) )\n",
    "newdf['Outlier'] = (newdf['Revenue'] < newdf['Lower']) | (newdf['Revenue'] > newdf['Upper']) \n",
    "newdf"
   ]
  },
  {
   "cell_type": "markdown",
   "metadata": {},
   "source": [
    "**Author:** [David Rojas](http://www.hedaro.com/)"
   ]
  }
 ],
 "metadata": {
  "kernelspec": {
   "display_name": "Python 2",
   "language": "python",
   "name": "python2"
  },
  "language_info": {
   "codemirror_mode": {
    "name": "ipython",
    "version": 2
   },
   "file_extension": ".py",
   "mimetype": "text/x-python",
   "name": "python",
   "nbconvert_exporter": "python",
   "pygments_lexer": "ipython2",
   "version": "2.7.9"
  }
 },
 "nbformat": 4,
 "nbformat_minor": 0
}
