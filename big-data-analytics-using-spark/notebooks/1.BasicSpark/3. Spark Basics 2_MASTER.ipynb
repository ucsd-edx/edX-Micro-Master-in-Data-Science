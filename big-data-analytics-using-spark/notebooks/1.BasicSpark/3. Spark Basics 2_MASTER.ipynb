{
 "cells": [
  {
   "cell_type": "markdown",
   "metadata": {
    "slideshow": {
     "slide_type": "slide"
    }
   },
   "source": [
    "# Spark Basics 2"
   ]
  },
  {
   "cell_type": "markdown",
   "metadata": {
    "slideshow": {
     "slide_type": "slide"
    }
   },
   "source": [
    "### Combining operations"
   ]
  },
  {
   "cell_type": "markdown",
   "metadata": {
    "slideshow": {
     "slide_type": "skip"
    }
   },
   "source": [
    "The method `map` takes as input an RDD and returns an RDD. Similarly the method `reduce` takes as input an RDD and returns a single element. "
   ]
  },
  {
   "cell_type": "markdown",
   "metadata": {
    "slideshow": {
     "slide_type": "fragment"
    }
   },
   "source": [
    "We can combine map and reduce operations to perform more complex operations."
   ]
  },
  {
   "cell_type": "markdown",
   "metadata": {
    "slideshow": {
     "slide_type": "fragment"
    }
   },
   "source": [
    "Suppose we want to compute the sum of the squares\n",
    "$$ \\sum_{i=1}^n x_i^2 $$\n",
    "where the elements $x_i$ are stored in an RDD."
   ]
  },
  {
   "cell_type": "markdown",
   "metadata": {
    "slideshow": {
     "slide_type": "slide"
    }
   },
   "source": [
    "Traditional syntax: \n",
    "* perform the map\n",
    "* store the intermediate result in a variable\n",
    "* perform the reduce"
   ]
  },
  {
   "cell_type": "code",
   "execution_count": 1,
   "metadata": {
    "collapsed": true,
    "nbgrader": {
     "grade": false,
     "grade_id": "imports",
     "locked": true,
     "schema_version": 1,
     "solution": false
    }
   },
   "outputs": [],
   "source": [
    "import sys\n",
    "import os\n",
    "import pickle\n",
    "import numpy as np\n",
    "\n",
    "testPath = '/'.join(os.getcwd().split('/')[:-1]) + \"/Tester\"\n",
    "sys.path.insert(0, testPath )\n",
    "pickleFile = testPath+ \"/SparkBasics2.pkl\"\n",
    "\n",
    "import SparkBasics2"
   ]
  },
  {
   "cell_type": "code",
   "execution_count": 4,
   "metadata": {
    "collapsed": false,
    "slideshow": {
     "slide_type": "skip"
    }
   },
   "outputs": [
    {
     "data": {
      "text/plain": [
       "<pyspark.context.SparkContext at 0x7fc730334650>"
      ]
     },
     "execution_count": 4,
     "metadata": {},
     "output_type": "execute_result"
    }
   ],
   "source": [
    "from pyspark import SparkContext\n",
    "sc = SparkContext(master=\"local[3]\")\n",
    "sc"
   ]
  },
  {
   "cell_type": "markdown",
   "metadata": {},
   "source": [
    "# Teacher Stuff"
   ]
  },
  {
   "cell_type": "code",
   "execution_count": 5,
   "metadata": {
    "collapsed": true
   },
   "outputs": [],
   "source": [
    "# we generate the student's test code below, we can check that it works by running the student's tests\n",
    "import SparkBasics2_MASTER"
   ]
  },
  {
   "cell_type": "code",
   "execution_count": 6,
   "metadata": {
    "collapsed": false
   },
   "outputs": [],
   "source": [
    "SparkBasics2_MASTER.gen_exercise3_1(pickleFile, sc)\n",
    "SparkBasics2_MASTER.gen_exercise3_2(pickleFile, sc)\n",
    "SparkBasics2_MASTER.gen_exercise3_3(pickleFile, sc)\n",
    "SparkBasics2_MASTER.gen_exercise3_4(pickleFile, sc)\n",
    "SparkBasics2_MASTER.gen_exercise3_5(pickleFile, sc)\n",
    "SparkBasics2_MASTER.gen_exercise3_6(pickleFile, sc)\n",
    "SparkBasics2_MASTER.gen_exercise3_7(pickleFile, sc)\n",
    "SparkBasics2_MASTER.gen_exercise3_8(pickleFile, sc)"
   ]
  },
  {
   "cell_type": "code",
   "execution_count": 7,
   "metadata": {
    "collapsed": false,
    "scrolled": false
   },
   "outputs": [
    {
     "name": "stdout",
     "output_type": "stream",
     "text": [
      "Input: [[3, 4], [2, 1], [7, 9]]\n",
      "Correct Output: 15\n",
      "Great Job!\n",
      "\n",
      "Input: [[3, 7, 11, 15, 19, 23, 27, 31, 35, 39], [7, 9, 11, 13, 15, 17, 19, 21, 23, 25, 27, 29], [1, 51]]\n",
      "Correct Output: 119\n",
      "Great Job!\n",
      "\n",
      "Input: [[3, 42, 12, 4], [6, 0, -1], [32, 31, 2, 52, 3]]\n",
      "Correct Output: 100\n",
      "Great Job!\n",
      "\n",
      "Input: [[5, 2, 1, 28, 21, 54], [1, 5, 9, 13, 17, 21, 25, 29, 33, 37, 41, 45, 49, 53, 57, 61, 65, 69, 73, 77, 81, 85, 89, 93, 97, 101, 105, 109, 113, 117, 121, 125, 129, 133, 137, 141, 145, 149, 153, 157, 161, 165, 169, 173, 177, 181, 185, 189, 193, 197, 201, 205, 209, 213, 217, 221, 225, 229, 233, 237, 241, 245, 249, 253, 257, 261, 265, 269, 273, 277, 281, 285, 289, 293, 297, 301, 305, 309, 313, 317, 321, 325, 329, 333, 337, 341, 345, 349, 353, 357, 361, 365, 369, 373, 377, 381, 385, 389, 393, 397, 401, 405, 409, 413, 417, 421, 425, 429, 433, 437, 441, 445, 449, 453, 457, 461, 465, 469, 473, 477, 481, 485, 489, 493, 497, 501, 505, 509, 513, 517, 521, 525, 529, 533, 537, 541, 545, 549, 553, 557, 561, 565, 569, 573, 577, 581, 585, 589, 593, 597, 601, 605, 609, 613, 617, 621, 625, 629, 633, 637, 641, 645, 649, 653, 657, 661, 665, 669, 673, 677, 681, 685, 689, 693, 697, 701, 705, 709, 713, 717, 721, 725, 729, 733, 737, 741, 745, 749, 753, 757, 761, 765, 769, 773, 777, 781, 785, 789, 793, 797, 801, 805, 809, 813, 817, 821, 825, 829, 833, 837, 841, 845, 849, 853, 857, 861, 865, 869, 873, 877, 881, 885, 889, 893, 897, 901, 905, 909, 913, 917, 921, 925, 929, 933, 937, 941, 945, 949, 953, 957, 961, 965, 969, 973, 977, 981, 985, 989, 993, 997], array([122, 837, 445, 844, 511, 155, 279, 200, 399, 890, 998, 146, 349,\n",
      "        13, 356,  23, 954, 408, 630, 566, 540, 945,   6, 548, 889, 972,\n",
      "       263, 101, 200, 527, 716, 637, 182, 287, 803, 649, 941])]\n",
      "Correct Output: 2049\n",
      "Great Job!\n",
      "\n",
      "Correct Output: [0, 31.41592653589793, -49.4902]\n",
      "Great Job!\n",
      "\n",
      "Correct Output: [39, 43, 44]\n",
      "Great Job!\n",
      "\n",
      "Correct Output: [-146, -998, 948, 357, -364, -195, -837, -428, -779, 194, -215, -452, -95, -803, 364, 143, -535, 692, 503, -181, 137, -290, 195, 252, 924, -930, -234]\n",
      "Great Job!\n",
      "\n",
      "Correct Output: [-308, -125, -615, 799, -460, 642, -94, -378, -974, -32, 709, 904, -710, 697, -540, 495, 233, -30, 170, -993, -452, 101, 496, -446, -219, 113, 376, 7, 453, 63, -504, 170, -45, -182, -339, 818, -466, 853, -836, 333, -49, 837, -748, 441, 848, -82, -779, -572, -697, -14, 893, 774, 818, -573, -408, 717, -376, 622, 761]\n",
      "Great Job!\n",
      "\n",
      "Correct Output: ['Lorem', 'ipsum', 'dolor', 'amet,', 'consectetur', 'adipiscing', 'elit.', 'Morbi', 'posuere', 'suscipit', 'nisl,', 'elementum', 'ultricies', 'Vestibulum', 'tincidunt', 'metus', 'luctus', 'gravida.', 'Suspendisse', 'potenti.', 'imperdiet,', 'ligula', 'viverra', 'eleifend,', 'libero', 'velit', 'condimentum', 'enim,', 'porta', 'elit', 'magna', 'amet', 'tellus.', 'Aliquam', 'volutpat', 'diam.', 'Quisque', 'cursus', 'luctus', 'dolor', 'eget', 'pretium.', 'Vivamus', 'sollicitudin', 'elementum', 'quam,', 'interdum', 'nisl', 'varius', 'Class', 'aptent', 'taciti', 'sociosqu']\n",
      "Great Job!\n",
      "\n",
      "Correct Output: ['Promotion', 'ourselves', 'otherwise', 'High', 'what', 'each', 'snug', 'rich', 'easy.', 'companions', 'inhabiting', 'principles']\n",
      "Great Job!\n",
      "\n",
      "Correct Output: ['insensible', 'Heard', 'their', 'hoped', 'enjoy', 'vexed', 'child', 'for.', 'Prosperous', 'occasional', 'assistance', 'discovered', 'especially', 'Provision', 'residence', 'consisted', 'remainder', 'arranging', 'described.', 'Conveying', 'concealed', 'necessary', 'furnished', 'zealously', 'immediate']\n",
      "Great Job!\n",
      "\n",
      "Correct Output: ['Praesent', 'orci', 'nunc', 'euismod', 'sollicitudin', 'quis', 'lectus.', 'pharetra', 'fringilla', 'lectus', 'gravida.', 'Vestibulum', 'sodales', 'mauris', 'tellus,', 'placerat', 'odio', 'euismod', 'feugiat.', 'Pellentesque', 'egestas', 'fringilla', 'congue.', 'lectus', 'condimentum,', 'maximus', 'nisi', 'vel,', 'porttitor', 'Nulla', 'tempor', 'arcu', 'ultrices', 'nisl', 'sagittis,', 'consectetur', 'justo', 'egestas.', 'Duis', 'lacinia,', 'amet', 'efficitur', 'commodo,', 'ligula', 'enim', 'eleifend', 'eros,', 'venenatis', 'urna', 'magna', 'vitae', 'mauris']\n",
      "Great Job!\n",
      "\n",
      "Correct Output: [1, 2, 3, 1, 2, 3, 4, 5, 6, 1, 2, 3, 1, 2, 3, 1, 2, 1, 1, 2, 3, 4, 5, 6, 1, 2, 3, 4, 1, 2, 3, 4, 5, 6, 1, 2, 3, 4, 5]\n",
      "Great Job!\n",
      "\n",
      "Correct Output: [1, 2, 3, 4, 1, 2, 3, 1, 2, 3, 4, 1, 2, 3, 4, 1, 1, 2, 3, 4, 1, 1, 2, 1, 1, 2, 3, 4, 1, 2, 1, 2, 3, 1, 2, 1, 1, 2, 1, 2, 1, 2, 3, 1, 1, 1, 2, 3, 4]\n",
      "Great Job!\n",
      "\n",
      "Correct Output: [1, 2, 3, 4, 5, 6, 7, 8, 9, 10, 11, 12, 13, 14, 15, 16, 17, 1, 2, 3, 4, 5, 6, 7, 8, 9, 1, 2, 3, 4, 5, 6, 7, 8, 9, 10, 11, 12, 13, 1, 2, 3, 4, 5, 6, 7, 8, 1, 2, 3, 4, 1, 1, 2, 3, 4, 5, 6, 7, 8, 9, 10, 11, 12, 13, 14, 15, 16, 1, 2, 3, 4, 5, 6, 7, 8, 9, 10, 11, 12, 13, 14, 1, 2, 3, 4, 5, 6, 7, 8, 9, 10, 11, 1, 2, 3, 4, 5, 6, 7, 8, 9, 10, 11, 12, 13, 14, 15, 1, 2, 3, 4, 1, 2, 1, 2, 3, 4, 5, 1, 2, 3, 4, 5, 6, 7, 8, 9, 10, 11, 12, 13, 14, 15, 1, 2, 3, 4, 5, 6, 7, 8, 9, 1, 2, 3, 4, 5, 6, 7, 8, 9, 10, 1, 2, 3, 4, 5, 6, 7, 8, 9, 1, 2, 3, 1, 2, 3, 4, 5, 6, 7, 8, 9, 1, 2, 3, 4, 1, 2, 3, 4, 5, 1, 1, 2, 3, 4, 5, 6, 7, 8, 9, 1, 2, 3, 4, 5, 6, 7, 8, 9, 10, 11, 12, 1, 2, 3, 4, 5, 6, 7, 8, 9, 10, 11, 12, 13, 14, 15, 16, 17, 18, 19, 1, 2, 3, 4, 5, 6, 7, 8, 9, 10, 11, 12, 13, 14, 15, 16, 1, 2, 3, 4, 5, 6, 7, 8, 9, 10, 11, 1, 2, 3, 4, 5, 1, 2, 1, 2, 3, 4, 5, 6, 7, 8, 9, 10, 11, 12, 1, 2, 3, 4, 5, 6, 7, 8, 9, 10, 11, 12, 13, 14, 15, 16, 17, 18, 19, 1, 2, 3, 4, 5, 6, 7, 1, 2, 3, 4, 5, 1, 2, 3, 4, 5, 6, 7, 8, 9, 10, 11, 12, 13, 1, 1, 2, 3, 4, 5, 6, 7, 8, 9, 10, 11, 12, 13, 14, 15, 16, 1, 2, 3, 4, 5, 6, 1, 2, 3, 4, 5, 6, 7, 8, 9, 10, 11, 12, 1, 2, 3, 1, 2, 3, 4, 5, 6, 7, 8, 9, 10, 11, 12, 13, 14, 1, 2, 3, 4, 5, 6, 7, 8, 9, 10, 11, 1, 2, 3, 4, 5, 6, 7, 8, 1, 2, 3, 4, 5, 6, 7, 8, 9, 10, 11, 12, 1, 2, 3, 4, 5, 6, 7, 8, 9, 10, 11, 12, 13, 14, 15, 16, 17, 18, 1, 2, 3, 4, 5, 6, 7, 8, 9, 10, 11, 12, 13, 14, 15, 1, 2, 3, 4, 5, 6, 7, 8, 9, 1, 2, 3, 4, 5, 6, 7, 8, 9, 1, 2, 3, 4, 5, 6, 7, 8, 9, 10, 11, 12, 1, 2, 3, 4, 5, 6, 7, 8, 9, 10, 11, 12, 13, 1, 2, 3]\n",
      "Great Job!\n",
      "\n",
      "Correct Output: [1, 2, 3, 4, 5, 6, 7, 8, 9, 1, 2, 3, 4, 5, 6, 7, 8, 1, 2, 3, 4, 5, 1, 2, 3, 4, 5, 6, 7, 8, 1, 2, 3, 4, 5, 6, 7, 8, 1, 2, 3, 4, 5, 6, 1, 2, 3, 4, 5, 6, 1, 2, 3, 4, 5, 6, 7, 8, 1, 2, 3, 4, 5, 1, 2, 3, 4, 5, 6, 1, 2, 3, 4, 5, 6, 7, 8, 1, 2, 3, 4, 5, 1, 2, 3, 4, 5, 6, 1, 2, 3, 4, 5, 1, 2, 3, 4, 5, 6, 7, 8, 9, 1, 2, 3, 4, 5, 6, 7, 1, 2, 3, 4, 5, 6, 7, 8, 1, 2, 3, 4, 5, 6, 1, 2, 3, 4, 5, 6, 7, 8, 1, 2, 3, 4, 5, 6, 7, 1, 2, 3, 4, 5, 6, 7, 8, 9, 1, 2, 3, 4, 5, 6, 7, 8, 1, 2, 3, 4, 5, 6, 1, 2, 3, 4, 5, 6, 7, 1, 2, 3, 4, 5, 6, 7, 8, 9, 1, 2, 3, 4, 5, 6, 7, 8, 1, 2, 3, 4, 5, 6, 1, 2, 3, 4, 5, 6, 1, 2, 3, 4, 5, 6, 7, 8, 9, 1, 2, 3, 4, 5, 6, 7, 8]\n",
      "Great Job!\n",
      "\n",
      "Correct Output: ['machine', 'learning', 'neural', 'networks', 'big', 'data', 'computer', 'networks', 'big', 'systems', 'scalable']\n",
      "Great Job!\n",
      "\n",
      "Correct Output: ['big', 'networks']\n",
      "Great Job!\n",
      "\n",
      "Correct Output: ['machine', 'learning', 'data', 'neural']\n",
      "Great Job!\n",
      "\n",
      "Correct Output: [('machine', 'computer'), ('machine', 'networks'), ('learning', 'computer'), ('learning', 'networks'), ('machine', 'big'), ('machine', 'systems'), ('learning', 'big'), ('learning', 'systems'), ('machine', 'scalable'), ('learning', 'scalable'), ('neural', 'computer'), ('neural', 'networks'), ('networks', 'computer'), ('networks', 'networks'), ('neural', 'big'), ('neural', 'systems'), ('networks', 'big'), ('networks', 'systems'), ('neural', 'scalable'), ('networks', 'scalable'), ('big', 'computer'), ('big', 'networks'), ('data', 'computer'), ('data', 'networks'), ('big', 'big'), ('big', 'systems'), ('data', 'big'), ('data', 'systems'), ('big', 'scalable'), ('data', 'scalable')]\n",
      "Great Job!\n",
      "\n"
     ]
    }
   ],
   "source": [
    "SparkBasics2_MASTER.exercise3_1(pickleFile, SparkBasics2_MASTER.func_ex3_1,sc)\n",
    "SparkBasics2_MASTER.exercise3_2(pickleFile, SparkBasics2_MASTER.func_ex3_2,sc)\n",
    "SparkBasics2_MASTER.exercise3_3(pickleFile, SparkBasics2_MASTER.func_ex3_3,sc)\n",
    "SparkBasics2_MASTER.exercise3_4(pickleFile, SparkBasics2_MASTER.func_ex3_4,sc)\n",
    "SparkBasics2_MASTER.exercise3_5(pickleFile, SparkBasics2_MASTER.func_ex3_5,sc)\n",
    "SparkBasics2_MASTER.exercise3_6(pickleFile, SparkBasics2_MASTER.func_ex3_6,sc)\n",
    "SparkBasics2_MASTER.exercise3_7(pickleFile, SparkBasics2_MASTER.func_ex3_7,sc)\n",
    "SparkBasics2_MASTER.exercise3_8(pickleFile, SparkBasics2_MASTER.func_ex3_8,sc)"
   ]
  },
  {
   "cell_type": "markdown",
   "metadata": {},
   "source": [
    "# End Teacher Stuff"
   ]
  },
  {
   "cell_type": "code",
   "execution_count": 8,
   "metadata": {
    "collapsed": true
   },
   "outputs": [],
   "source": [
    "B=sc.parallelize(range(4))"
   ]
  },
  {
   "cell_type": "code",
   "execution_count": 9,
   "metadata": {
    "collapsed": false,
    "slideshow": {
     "slide_type": "fragment"
    }
   },
   "outputs": [
    {
     "data": {
      "text/plain": [
       "14"
      ]
     },
     "execution_count": 9,
     "metadata": {},
     "output_type": "execute_result"
    }
   ],
   "source": [
    "#separate commands\n",
    "Squares=B.map(lambda x:x*x)\n",
    "Squares.reduce(lambda x,y:x+y)"
   ]
  },
  {
   "cell_type": "markdown",
   "metadata": {
    "slideshow": {
     "slide_type": "subslide"
    }
   },
   "source": [
    "Or we can combine them into a single cascaded command"
   ]
  },
  {
   "cell_type": "code",
   "execution_count": 10,
   "metadata": {
    "collapsed": false,
    "slideshow": {
     "slide_type": "fragment"
    }
   },
   "outputs": [
    {
     "data": {
      "text/plain": [
       "14"
      ]
     },
     "execution_count": 10,
     "metadata": {},
     "output_type": "execute_result"
    }
   ],
   "source": [
    "#cascaded commands\n",
    "B.map(lambda x:x*x)\\\n",
    "   .reduce(lambda x,y:x+y)"
   ]
  },
  {
   "cell_type": "markdown",
   "metadata": {
    "slideshow": {
     "slide_type": "skip"
    }
   },
   "source": [
    "These two expressions are equivalent, and we might expect that the more basic one is the first, where the commands \n",
    "are separate, and that the python compiler translates the cascaded commands into machine code that corresponds to the separate commands.\n",
    "\n",
    "It turns out that the opposite is true, it is the cascaded form that is closer to the machine code, and spark identifies cascading operations even when they are expressed in a non-cascaded way.\n",
    "\n",
    "The explanation of this surprising behaviour is related to the notion of lazy evaluation in scala and is explained in [spark programming guide/RDD operations](http://spark.apache.org/docs/latest/programming-guide.html#rdd-operations)"
   ]
  },
  {
   "cell_type": "markdown",
   "metadata": {
    "slideshow": {
     "slide_type": "slide"
    }
   },
   "source": [
    "### An instructive mistake\n",
    "Here is another way to compute the sum of the squares using a single reduce command. What is wrong with it?"
   ]
  },
  {
   "cell_type": "code",
   "execution_count": 11,
   "metadata": {
    "collapsed": false,
    "scrolled": true,
    "slideshow": {
     "slide_type": "fragment"
    }
   },
   "outputs": [
    {
     "data": {
      "text/plain": [
       "5"
      ]
     },
     "execution_count": 11,
     "metadata": {},
     "output_type": "execute_result"
    }
   ],
   "source": [
    "C=sc.parallelize([1,1,1])\n",
    "C.reduce(lambda x,y: x*x+y*y)\n"
   ]
  },
  {
   "cell_type": "markdown",
   "metadata": {
    "slideshow": {
     "slide_type": "fragment"
    }
   },
   "source": [
    "<h1>&nbsp; &nbsp; &nbsp; &nbsp; &nbsp; 1 &nbsp; &nbsp; 1 &nbsp; &nbsp; 1<br />\n",
    "&nbsp;</h1>\n"
   ]
  },
  {
   "cell_type": "markdown",
   "metadata": {
    "slideshow": {
     "slide_type": "skip"
    }
   },
   "source": [
    "#### Exercise 1.\n",
    "Consider the following RDD\n",
    "    \n",
    "    listRDD=sc.parallelize([[3,4],[2,1],[7,9]]) \n",
    "    \n",
    "Find the sum of maximum numbers of all lists. Your output should be:\n",
    "\n",
    "    Output:  15 "
   ]
  },
  {
   "cell_type": "markdown",
   "metadata": {},
   "source": [
    "# Exercise1: "
   ]
  },
  {
   "cell_type": "code",
   "execution_count": 12,
   "metadata": {
    "collapsed": true
   },
   "outputs": [],
   "source": [
    "def maxSum(A):\n",
    "    # Write code that will perform the task outlined in exercise 1\n",
    "    return \"returns the sum of maximum numbers of all lists\""
   ]
  },
  {
   "cell_type": "code",
   "execution_count": 13,
   "metadata": {
    "collapsed": false
   },
   "outputs": [
    {
     "name": "stdout",
     "output_type": "stream",
     "text": [
      "Input: [[3, 4], [2, 1], [7, 9]]\n",
      "Correct Output: 15\n",
      "\n",
      "Error: Incorrect return type. The return type of your function should be: <type 'int'>\n",
      "\n",
      "Input: [[3, 42, 12, 4], [6, 0, -1], [32, 31, 2, 52, 3]]\n",
      "Correct Output: 100\n",
      "\n",
      "Error: Incorrect return type. The return type of your function should be: <type 'int'>\n",
      "\n"
     ]
    }
   ],
   "source": [
    "SparkBasics2.exercise3_1(pickleFile, maxSum,sc)"
   ]
  },
  {
   "cell_type": "markdown",
   "metadata": {
    "slideshow": {
     "slide_type": "slide"
    }
   },
   "source": [
    "### getting information about an RDD\n",
    "RDD's typically have hundreds of thousands of elements. It usually makes no sense to print out the content of a whole RDD. Here are some ways to get manageable amounts of information about an RDD"
   ]
  },
  {
   "cell_type": "code",
   "execution_count": 14,
   "metadata": {
    "collapsed": false,
    "slideshow": {
     "slide_type": "fragment"
    }
   },
   "outputs": [],
   "source": [
    "n=1000000\n",
    "B=sc.parallelize([0,0,1,0]*(n/4))"
   ]
  },
  {
   "cell_type": "code",
   "execution_count": 15,
   "metadata": {
    "collapsed": false,
    "slideshow": {
     "slide_type": "subslide"
    }
   },
   "outputs": [
    {
     "data": {
      "text/plain": [
       "1000000"
      ]
     },
     "execution_count": 15,
     "metadata": {},
     "output_type": "execute_result"
    }
   ],
   "source": [
    "#find the number of elements in the RDD\n",
    "B.count()"
   ]
  },
  {
   "cell_type": "code",
   "execution_count": 16,
   "metadata": {
    "collapsed": false,
    "slideshow": {
     "slide_type": "subslide"
    }
   },
   "outputs": [
    {
     "name": "stdout",
     "output_type": "stream",
     "text": [
      "first element= 0\n",
      "first 5 elements =  [0, 0, 1, 0, 0]\n"
     ]
    }
   ],
   "source": [
    "# get the first few elements of an RDD\n",
    "print 'first element=',B.first()\n",
    "print 'first 5 elements = ',B.take(5)"
   ]
  },
  {
   "cell_type": "markdown",
   "metadata": {
    "slideshow": {
     "slide_type": "slide"
    }
   },
   "source": [
    "#### Sampling an RDD\n",
    "* RDDs are often very large.\n",
    "* Aggregates, such as averages, can be approximated efficiently by using a sample.\n",
    "* Sampling is done in parallel and it keeps the data local."
   ]
  },
  {
   "cell_type": "markdown",
   "metadata": {
    "slideshow": {
     "slide_type": "skip"
    }
   },
   "source": [
    "The method `RDD.sample(withReplacement,p)` generates a sample of the elements of the RDD. where\n",
    "- `withReplacement` is a boolean flag indicating whether or not a an element in the RDD can be sampled more than once.\n",
    "- `p` is the probability of accepting each element into the sample. Note that as the sampling is performed independently in each partition, the number of elements in the sample changes from sample to sample."
   ]
  },
  {
   "cell_type": "code",
   "execution_count": null,
   "metadata": {
    "collapsed": false,
    "scrolled": true,
    "slideshow": {
     "slide_type": "fragment"
    }
   },
   "outputs": [],
   "source": [
    "# get a sample whose expected size is m\n",
    "m=5.\n",
    "B.sample(False,m/n).collect()"
   ]
  },
  {
   "cell_type": "code",
   "execution_count": null,
   "metadata": {
    "collapsed": false,
    "slideshow": {
     "slide_type": "fragment"
    }
   },
   "outputs": [],
   "source": [
    "#compute the average exactly:\n",
    "exact=B.reduce(lambda x,y:x+y)/(n+0.0)\n",
    "print 'exact average', exact\n",
    "#compute the average by sampling 1% of the elements\n",
    "p=0.01\n",
    "approx=B.sample(False,p).reduce(lambda x,y:x+y)/(n*p)\n",
    "print 'approximate average',approx\n",
    "print 'error=',approx-exact\n"
   ]
  },
  {
   "cell_type": "markdown",
   "metadata": {
    "slideshow": {
     "slide_type": "skip"
    }
   },
   "source": [
    "#### Things to note and think about\n",
    "* Each time you run the previous cell, you get a different estimate\n",
    "* The accuracy of the estimate is determined by the size of the sample $n*p$\n",
    "* See how the error changes as you vary $p$\n",
    "* Can you give a formula that relates the variance of the estimate to $(p*n)$ ? (The answer is in the Probability and statistics course)."
   ]
  },
  {
   "cell_type": "markdown",
   "metadata": {
    "slideshow": {
     "slide_type": "slide"
    }
   },
   "source": [
    "#### filtering an RDD\n",
    "The method `RDD.filter(func)` Return a new dataset formed by selecting those elements of the source on which func returns true.\n"
   ]
  },
  {
   "cell_type": "code",
   "execution_count": null,
   "metadata": {
    "collapsed": false,
    "slideshow": {
     "slide_type": "fragment"
    }
   },
   "outputs": [],
   "source": [
    "# How many positive numbers?\n",
    "B.filter(lambda n: n > 0).count()"
   ]
  },
  {
   "cell_type": "markdown",
   "metadata": {},
   "source": [
    "#### Exercise 2\n",
    "\n",
    "Write a `filter` command to output elements whose cosine is positive. On the input \n",
    "\n",
    "    RDD=sc.parallelize([0,2,1]):\n",
    "\n",
    "positiveCos(RDD) should produce some output approximately like:\n",
    "\n",
    "    PythonRDD[14] at RDD at PythonRDD.scala:48\n",
    "positiveCos(RDD).collect() should produce:\n",
    "\n",
    "     [0,1] \n",
    "    "
   ]
  },
  {
   "cell_type": "code",
   "execution_count": null,
   "metadata": {
    "collapsed": true
   },
   "outputs": [],
   "source": [
    "def positiveCos(A):\n",
    "    # Write code that will perform the task outlined in exercise 2\n",
    "    return \"returns a spark RDD, so to get a list do: positiveCos(A).collect()\""
   ]
  },
  {
   "cell_type": "code",
   "execution_count": null,
   "metadata": {
    "collapsed": false
   },
   "outputs": [],
   "source": [
    "SparkBasics2.exercise3_2(pickleFile, SparkBasics2_Teacher.func_ex3_2,sc)"
   ]
  },
  {
   "cell_type": "markdown",
   "metadata": {
    "slideshow": {
     "slide_type": "skip"
    }
   },
   "source": [
    "#### Exercise 3\n",
    "Write a `filter` command to output all words whose length is greater than or equal to 4. On the input: ` wordRDD=sc.parallelize(['this','is','the','best','mac','ever']) `\n",
    "\n",
    "longWords(RDD) should produce some output approximately like:\n",
    "\n",
    "    PythonRDD[14] at RDD at PythonRDD.scala:48\n",
    "longWords(RDD).collect() should produce:\n",
    "\n",
    "    ['this', 'best', 'ever']"
   ]
  },
  {
   "cell_type": "code",
   "execution_count": null,
   "metadata": {
    "collapsed": true
   },
   "outputs": [],
   "source": [
    "def longWords(A):\n",
    "    # Write code that will perform the task outlined in exercise 3\n",
    "    return \"returns a spark RDD, so to get a list do: longWords(A).collect()\""
   ]
  },
  {
   "cell_type": "code",
   "execution_count": null,
   "metadata": {
    "collapsed": false
   },
   "outputs": [],
   "source": [
    "SparkBasics2.exercise3_3(pickleFile, longWords,sc)"
   ]
  },
  {
   "cell_type": "markdown",
   "metadata": {
    "slideshow": {
     "slide_type": "slide"
    }
   },
   "source": [
    "#### Remove duplicate elements in RDD\n",
    "The method `RDD.distinct(numPartitions=None)` Returns a new dataset that contains the distinct elements of the source dataset \n",
    "\n",
    "* The number of partitions is specified through the **numPartitions** argument. Each of this partitions is potentially on different machine.\n"
   ]
  },
  {
   "cell_type": "code",
   "execution_count": null,
   "metadata": {
    "collapsed": false,
    "slideshow": {
     "slide_type": "fragment"
    }
   },
   "outputs": [],
   "source": [
    "# Remove duplicate element in DuplicateRDD, we get distinct RDD\n",
    "DuplicateRDD = sc.parallelize([1,1,2,2,3,3])\n",
    "DistinctRDD = DuplicateRDD.distinct()\n",
    "DistinctRDD.collect()\n"
   ]
  },
  {
   "cell_type": "markdown",
   "metadata": {
    "slideshow": {
     "slide_type": "slide"
    }
   },
   "source": [
    "#### flatmap an RDD\n",
    "The method `RDD.flatMap(func)` is similar to map, but each input item can be mapped to 0 or more output items (so func should return a Seq rather than a single item)."
   ]
  },
  {
   "cell_type": "code",
   "execution_count": null,
   "metadata": {
    "collapsed": false,
    "slideshow": {
     "slide_type": "fragment"
    }
   },
   "outputs": [],
   "source": [
    "text=[\"you are my sunshine\",\"my only sunshine\"]\n",
    "text_file = sc.parallelize(text)\n",
    "# map each line in text to a list of words\n",
    "print 'map:',text_file.map(lambda line: line.split(\" \")).collect()\n",
    "# create a single list of words by combining the words from all of the lines\n",
    "print 'flatmap:',text_file.flatMap(lambda line: line.split(\" \")).collect()"
   ]
  },
  {
   "cell_type": "markdown",
   "metadata": {
    "slideshow": {
     "slide_type": "skip"
    }
   },
   "source": [
    "#### Exercise 4\n",
    "\n",
    "Write a `flatMap` command to collect all the elements from 1 to x for each element x in a list. On input `RDD=sc.parallelize([2,3,5])`\n",
    "\n",
    "collectRange(RDD) should produce some output approximately like:\n",
    "\n",
    "    PythonRDD[14] at RDD at PythonRDD.scala:48\n",
    "collectRange(RDD).collect() should produce:\n",
    "\n",
    "     [1, 2, 1, 2, 3, 1, 2, 3, 4, 5] "
   ]
  },
  {
   "cell_type": "code",
   "execution_count": null,
   "metadata": {
    "collapsed": true
   },
   "outputs": [],
   "source": [
    "def collectRange(A):\n",
    "    # Write code that will perform the task outlined in exercise 4\n",
    "    return \"returns a spark RDD, so to get a list do: collectRange(A).collect()\""
   ]
  },
  {
   "cell_type": "code",
   "execution_count": null,
   "metadata": {
    "collapsed": false
   },
   "outputs": [],
   "source": [
    "SparkBasics2.exercise3_4(pickleFile, collectRange,sc)"
   ]
  },
  {
   "cell_type": "markdown",
   "metadata": {
    "slideshow": {
     "slide_type": "slide"
    }
   },
   "source": [
    "### Set operations\n",
    "In this part, we explore set operations including **union**,**intersection**,**subtract**, **cartesian** in pyspark"
   ]
  },
  {
   "cell_type": "code",
   "execution_count": null,
   "metadata": {
    "collapsed": true,
    "slideshow": {
     "slide_type": "fragment"
    }
   },
   "outputs": [],
   "source": [
    "rdd1 = sc.parallelize([1, 1, 2, 3])\n",
    "rdd2 = sc.parallelize([1, 3, 4, 5])\n"
   ]
  },
  {
   "cell_type": "markdown",
   "metadata": {
    "slideshow": {
     "slide_type": "subslide"
    }
   },
   "source": [
    "1. union(other)\n",
    " * Return the union of this RDD and another one.\n",
    " "
   ]
  },
  {
   "cell_type": "markdown",
   "metadata": {
    "slideshow": {
     "slide_type": "fragment"
    }
   },
   "source": [
    " rdd1.union(rdd2).collect()"
   ]
  },
  {
   "cell_type": "markdown",
   "metadata": {
    "slideshow": {
     "slide_type": "subslide"
    }
   },
   "source": [
    "2. intersection(other)\n",
    " * Return the intersection of this RDD and another one. The output will not contain any duplicate elements, even if the input RDDs did.Note that this method performs a shuffle internally."
   ]
  },
  {
   "cell_type": "code",
   "execution_count": null,
   "metadata": {
    "collapsed": false,
    "slideshow": {
     "slide_type": "fragment"
    }
   },
   "outputs": [],
   "source": [
    "rdd1.intersection(rdd2).collect()"
   ]
  },
  {
   "cell_type": "markdown",
   "metadata": {
    "slideshow": {
     "slide_type": "subslide"
    }
   },
   "source": [
    "3. subtract(other, numPartitions=None)\n",
    " * Return each value in self that is not contained in other."
   ]
  },
  {
   "cell_type": "code",
   "execution_count": null,
   "metadata": {
    "collapsed": false,
    "slideshow": {
     "slide_type": "fragment"
    }
   },
   "outputs": [],
   "source": [
    "rdd1.subtract(rdd2).collect()"
   ]
  },
  {
   "cell_type": "markdown",
   "metadata": {
    "slideshow": {
     "slide_type": "subslide"
    }
   },
   "source": [
    "4. cartesian(other)\n",
    " * Return the Cartesian product of this RDD and another one, that is, the RDD of all pairs of elements (a, b) where **a** is in **self** and **b** is in **other**."
   ]
  },
  {
   "cell_type": "code",
   "execution_count": null,
   "metadata": {
    "collapsed": false,
    "slideshow": {
     "slide_type": "fragment"
    }
   },
   "outputs": [],
   "source": [
    "print rdd1.cartesian(rdd2).collect()"
   ]
  },
  {
   "cell_type": "markdown",
   "metadata": {},
   "source": [
    "#### Exercise \n",
    "\n",
    "Consider the following RDDs: \n",
    "\n",
    "` RDD1=sc.parallelize([\"spark basics\", \"big data analysis\", \"spring\"]) `\n",
    "\n",
    "` RDD2=sc.parallelize([\"spark using pyspark\", \"big data\"]) `\n",
    "\n",
    "Use the set operations for the following exercises:"
   ]
  },
  {
   "cell_type": "markdown",
   "metadata": {},
   "source": [
    "#### Exercise 5\n",
    "\n",
    "transform1(RDD1,RDD2) should produce some output approximately like:\n",
    "\n",
    "    PythonRDD[14] at RDD at PythonRDD.scala:48\n",
    "\n",
    "transform1(RDD1,RDD2).collect() should produce:\n",
    "\n",
    "* ` ['spark', 'basics', 'big', 'data', 'analysis', 'spring', 'spark', 'using', 'pyspark', 'big', 'data'] `"
   ]
  },
  {
   "cell_type": "code",
   "execution_count": null,
   "metadata": {
    "collapsed": true
   },
   "outputs": [],
   "source": [
    "def transform1(RDD1,RDD2):\n",
    "    # Write code that will perform the task outlined in exercise 5\n",
    "    return \"returns a spark RDD, so to get a list do: transform1(RDD1,RDD2).collect()\""
   ]
  },
  {
   "cell_type": "code",
   "execution_count": null,
   "metadata": {
    "collapsed": false
   },
   "outputs": [],
   "source": [
    "SparkBasics2.exercise3_5(pickleFile, transform1,sc)"
   ]
  },
  {
   "cell_type": "markdown",
   "metadata": {},
   "source": [
    "#### Exercise 6\n",
    "\n",
    "transform2(RDD1,RDD2) should produce some output approximately like:\n",
    "\n",
    "    PythonRDD[14] at RDD at PythonRDD.scala:48\n",
    "\n",
    "transform2(RDD1,RDD2).collect() should produce:\n",
    "\n",
    "* ` ['data', 'big', 'spark'] `"
   ]
  },
  {
   "cell_type": "code",
   "execution_count": null,
   "metadata": {
    "collapsed": true
   },
   "outputs": [],
   "source": [
    "def transform2(RDD1,RDD2):\n",
    "    # Write code that will perform the task outlined in exercise 6\n",
    "    return \"returns a spark RDD, so to get a list do: transform2(RDD1,RDD2).collect()\""
   ]
  },
  {
   "cell_type": "code",
   "execution_count": null,
   "metadata": {
    "collapsed": false
   },
   "outputs": [],
   "source": [
    "SparkBasics2.exercise3_6(pickleFile, transform2,sc)"
   ]
  },
  {
   "cell_type": "markdown",
   "metadata": {},
   "source": [
    "#### Exercise 7\n",
    "\n",
    "transform3(RDD1,RDD2) should produce some output approximately like:\n",
    "\n",
    "    PythonRDD[14] at RDD at PythonRDD.scala:48\n",
    "transform3(RDD1,RDD2).collect() should produce:\n",
    "\n",
    "* ` ['spring', 'analysis', 'basics'] `"
   ]
  },
  {
   "cell_type": "code",
   "execution_count": null,
   "metadata": {
    "collapsed": true
   },
   "outputs": [],
   "source": [
    "def transform3(RDD1,RDD2):\n",
    "    # Write code that will perform the task outlined in exercise 7\n",
    "    return \"returns a spark RDD, so to get a list do: transform3(RDD1,RDD2).collect()\""
   ]
  },
  {
   "cell_type": "code",
   "execution_count": null,
   "metadata": {
    "collapsed": false
   },
   "outputs": [],
   "source": [
    "SparkBasics2.exercise3_7(pickleFile, transform3,sc)"
   ]
  },
  {
   "cell_type": "markdown",
   "metadata": {
    "slideshow": {
     "slide_type": "skip"
    }
   },
   "source": [
    "#### Exercise 8\n",
    "\n",
    "transform4(RDD1,RDD2) should produce some output approximately like:\n",
    "\n",
    "    PythonRDD[14] at RDD at PythonRDD.scala:48\n",
    "transform4(RDD1,RDD2).collect() should produce:\n",
    "\n",
    "* ` [('spark', 'spark'), ('spark', 'using'), ('spark', 'pyspark'), ('basics', 'spark'), ('basics', 'using'), ('basics', 'pyspark'), ('spark', 'big'), ('spark', 'data'), ('basics', 'big'), ('basics', 'data'), ('big', 'spark'), ('big', 'using'), ('big', 'pyspark'), ('data', 'spark'), ('analysis', 'spark'), ('data', 'using'), ('data', 'pyspark'), ('analysis', 'using'), ('analysis', 'pyspark'), ('spring', 'spark'), ('spring', 'using'), ('spring', 'pyspark'), ('big', 'big'), ('big', 'data'), ('data', 'big'), ('analysis', 'big'), ('data', 'data'), ('analysis', 'data'), ('spring', 'big'), ('spring', 'data')]\n",
    " `    "
   ]
  },
  {
   "cell_type": "code",
   "execution_count": null,
   "metadata": {
    "collapsed": true
   },
   "outputs": [],
   "source": [
    "def transform4(RDD1,RDD2):\n",
    "    # Write code that will perform the task outlined in exercise 8\n",
    "    return \"returns a spark RDD, so to get a list do: transform4(RDD1,RDD2).collect()\""
   ]
  },
  {
   "cell_type": "code",
   "execution_count": null,
   "metadata": {
    "collapsed": false
   },
   "outputs": [],
   "source": [
    "SparkBasics2.exercise3_8(pickleFile, transform4,sc)"
   ]
  }
 ],
 "metadata": {
  "anaconda-cloud": {},
  "celltoolbar": "Create Assignment",
  "kernelspec": {
   "display_name": "Python [default]",
   "language": "python",
   "name": "python2"
  },
  "language_info": {
   "codemirror_mode": {
    "name": "ipython",
    "version": 2
   },
   "file_extension": ".py",
   "mimetype": "text/x-python",
   "name": "python",
   "nbconvert_exporter": "python",
   "pygments_lexer": "ipython2",
   "version": "2.7.12"
  }
 },
 "nbformat": 4,
 "nbformat_minor": 1
}
