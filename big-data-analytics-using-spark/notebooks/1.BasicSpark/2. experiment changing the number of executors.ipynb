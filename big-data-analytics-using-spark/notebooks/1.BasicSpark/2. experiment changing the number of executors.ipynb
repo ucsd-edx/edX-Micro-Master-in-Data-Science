{
 "cells": [
  {
   "cell_type": "markdown",
   "metadata": {},
   "source": [
    "#### The effect of changing the number of executors\n",
    "When you initialize SparkContext, you can specify the number of executors. You can improve the run time of your program, even if you run spark in local mode, by specifying the number of executors. This is effective mostly if your machine has more than one core. In that case you would see that the runtime improves when you increase the number of executors. This works up to a point, and although you can have more executors than cores, this is unlikely to reduce the run time of your program.\n",
    "\n",
    "<p><img alt=\"\" src=\"Figures/SparkContextAndRDD.jpg\" style=\"height:218px; width:600px\" /></p>"
   ]
  },
  {
   "cell_type": "code",
   "execution_count": 1,
   "metadata": {
    "collapsed": false
   },
   "outputs": [
    {
     "name": "stdout",
     "output_type": "stream",
     "text": [
      " 1 executors, time=7.066\n",
      " 2 executors, time=4.275\n",
      " 3 executors, time=3.386\n",
      " 4 executors, time=3.637\n",
      " 5 executors, time=3.226\n",
      " 6 executors, time=3.317\n",
      " 7 executors, time=3.269\n",
      " 8 executors, time=3.395\n",
      " 9 executors, time=3.307\n"
     ]
    }
   ],
   "source": [
    "from time import time\n",
    "from pyspark import SparkContext\n",
    "for j in range(1,10):\n",
    "    sc = SparkContext(master=\"local[%d]\"%(j))\n",
    "    t0=time()\n",
    "    for i in range(10):\n",
    "        sc.parallelize([1,2]*1000000).reduce(lambda x,y:x+y)\n",
    "    print \"%2d executors, time=%4.3f\"%(j,time()-t0)\n",
    "    sc.stop()"
   ]
  },
  {
   "cell_type": "markdown",
   "metadata": {},
   "source": [
    "The machine I used to run this notebook is a laptop with 4 cores. **Observe** that increasing the number of executors from 1 to 3 speeds up the computation, because more than one core is employed, however, using 4 or more executors does not help, because now we are running more than one process (including the driver) on each core."
   ]
  },
  {
   "cell_type": "code",
   "execution_count": 4,
   "metadata": {
    "collapsed": true
   },
   "outputs": [],
   "source": [
    "sc.stop()"
   ]
  },
  {
   "cell_type": "code",
   "execution_count": null,
   "metadata": {
    "collapsed": true
   },
   "outputs": [],
   "source": []
  }
 ],
 "metadata": {
  "kernelspec": {
   "display_name": "Python [default]",
   "language": "python",
   "name": "python2"
  },
  "language_info": {
   "codemirror_mode": {
    "name": "ipython",
    "version": 2
   },
   "file_extension": ".py",
   "mimetype": "text/x-python",
   "name": "python",
   "nbconvert_exporter": "python",
   "pygments_lexer": "ipython2",
   "version": "2.7.13"
  }
 },
 "nbformat": 4,
 "nbformat_minor": 2
}
