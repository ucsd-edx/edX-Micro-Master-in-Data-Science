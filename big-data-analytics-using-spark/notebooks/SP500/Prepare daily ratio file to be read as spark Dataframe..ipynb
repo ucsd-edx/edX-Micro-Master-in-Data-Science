{
 "cells": [
  {
   "cell_type": "markdown",
   "metadata": {
    "deletable": true,
    "editable": true,
    "run_control": {
     "frozen": false,
     "read_only": false
    },
    "slideshow": {
     "slide_type": "slide"
    }
   },
   "source": [
    "## Analysis of stock prices using PCA\n",
    "\n",
    "In this Notebook we analyze the prices of stocks in the S&P500.\n",
    "\n",
    "The notebook consists of 3 parts: data loading, PCA analysis column-wise and PCA analysis row wise."
   ]
  },
  {
   "cell_type": "code",
   "execution_count": 1,
   "metadata": {
    "collapsed": false,
    "deletable": true,
    "editable": true,
    "run_control": {
     "frozen": false,
     "read_only": false
    },
    "slideshow": {
     "slide_type": "skip"
    }
   },
   "outputs": [],
   "source": [
    "import sys,os\n",
    "import numpy as np\n",
    "from numpy.linalg import norm\n",
    "import matplotlib.pyplot as plt\n",
    "%matplotlib inline\n",
    "#import statsmodels.api as sm\n",
    "\n",
    "from time import time\n",
    "import math\n",
    "import pandas as pd\n",
    "from glob import glob\n",
    "import pickle\n"
   ]
  },
  {
   "cell_type": "markdown",
   "metadata": {
    "deletable": true,
    "editable": true,
    "run_control": {
     "frozen": false,
     "read_only": false
    }
   },
   "source": [
    "### Data Loading\n",
    "The data is in a tar file on S3. Download and untar the file and then execute the following cells."
   ]
  },
  {
   "cell_type": "code",
   "execution_count": 2,
   "metadata": {
    "collapsed": false
   },
   "outputs": [
    {
     "name": "stdout",
     "output_type": "stream",
     "text": [
      "-rw-r--r--  1 yoavfreund  staff  355681025 May 31 06:47 DailyDiffs.pkl\r\n",
      "-rw-r--r--  1 yoavfreund  staff      35737 Jun  5 21:29 Tickers.pkl\r\n",
      "-rw-r--r--  1 yoavfreund  staff       5007 Jun  5 14:54 good_tickers.pkl\r\n"
     ]
    }
   ],
   "source": [
    "!ls -l *.pkl\n",
    "\n",
    "D=pickle.load(open('Tickers.pkl','rb'))\n",
    "TickerInfo=D['TickerInfo']\n",
    "Tickers=D['Tickers']"
   ]
  },
  {
   "cell_type": "code",
   "execution_count": 3,
   "metadata": {
    "collapsed": false,
    "deletable": true,
    "editable": true,
    "run_control": {
     "frozen": false,
     "read_only": false
    },
    "scrolled": true
   },
   "outputs": [
    {
     "data": {
      "text/plain": [
       "'/Users/yoavfreund/projects/edX-Micro-Master-in-Data-Science/big-data-analytics-using-spark/notebooks/SP500'"
      ]
     },
     "execution_count": 3,
     "metadata": {},
     "output_type": "execute_result"
    }
   ],
   "source": [
    "#change this path to where you stored the raw data\n",
    "Data_dir='./spdata_csv/'\n",
    "curr_dir=os.getcwd()\n",
    "curr_dir"
   ]
  },
  {
   "cell_type": "code",
   "execution_count": 4,
   "metadata": {
    "collapsed": false,
    "deletable": true,
    "editable": true,
    "run_control": {
     "frozen": false,
     "read_only": false
    }
   },
   "outputs": [
    {
     "name": "stdout",
     "output_type": "stream",
     "text": [
      "/Users/yoavfreund/academic.papers/Courses/BigDataAnalytics/stocksDataset/spdata_csv\n"
     ]
    }
   ],
   "source": [
    "# Load the files into pandas DataFrame\n",
    "%cd $Data_dir"
   ]
  },
  {
   "cell_type": "code",
   "execution_count": 5,
   "metadata": {
    "collapsed": false,
    "deletable": true,
    "editable": true,
    "run_control": {
     "frozen": false,
     "read_only": false
    },
    "scrolled": true
   },
   "outputs": [
    {
     "name": "stdout",
     "output_type": "stream",
     "text": [
      "skipping  HAS\n",
      "skipping  LIFE\n",
      "skipping  PGR\n",
      "skipping  UNM\n",
      "/Users/yoavfreund/projects/edX-Micro-Master-in-Data-Science/big-data-analytics-using-spark/notebooks/SP500\n"
     ]
    }
   ],
   "source": [
    "Tables={}\n",
    "for filename in glob('*.csv'):\n",
    "    code = filename[:-4]\n",
    "    if not code in Tickers:\n",
    "        print 'skipping ',code\n",
    "        continue\n",
    "    tbl=pd.read_csv(filename,index_col='Date',parse_dates=True)\n",
    "    if(np.shape(tbl)[1]==12):\n",
    "        Tables[code]=tbl.sort_index()\n",
    "        Tables[code]\n",
    "    else:\n",
    "        print filename,np.shape(tbl)\n",
    "\n",
    "%cd $curr_dir"
   ]
  },
  {
   "cell_type": "code",
   "execution_count": 6,
   "metadata": {
    "collapsed": false,
    "deletable": true,
    "editable": true,
    "run_control": {
     "frozen": false,
     "read_only": false
    },
    "scrolled": true
   },
   "outputs": [
    {
     "data": {
      "text/html": [
       "<div>\n",
       "<table border=\"1\" class=\"dataframe\">\n",
       "  <thead>\n",
       "    <tr style=\"text-align: right;\">\n",
       "      <th></th>\n",
       "      <th>Open</th>\n",
       "      <th>High</th>\n",
       "      <th>Low</th>\n",
       "      <th>Close</th>\n",
       "      <th>Volume</th>\n",
       "      <th>Ex-Dividend</th>\n",
       "      <th>Split Ratio</th>\n",
       "      <th>Adj. Open</th>\n",
       "      <th>Adj. High</th>\n",
       "      <th>Adj. Low</th>\n",
       "      <th>Adj. Close</th>\n",
       "      <th>Adj. Volume</th>\n",
       "    </tr>\n",
       "    <tr>\n",
       "      <th>Date</th>\n",
       "      <th></th>\n",
       "      <th></th>\n",
       "      <th></th>\n",
       "      <th></th>\n",
       "      <th></th>\n",
       "      <th></th>\n",
       "      <th></th>\n",
       "      <th></th>\n",
       "      <th></th>\n",
       "      <th></th>\n",
       "      <th></th>\n",
       "      <th></th>\n",
       "    </tr>\n",
       "  </thead>\n",
       "  <tbody>\n",
       "    <tr>\n",
       "      <th>1962-01-02</th>\n",
       "      <td>578.5</td>\n",
       "      <td>578.5</td>\n",
       "      <td>572.0</td>\n",
       "      <td>572.00</td>\n",
       "      <td>5162.666667</td>\n",
       "      <td>0.0</td>\n",
       "      <td>1.0</td>\n",
       "      <td>5.180989</td>\n",
       "      <td>5.180989</td>\n",
       "      <td>5.122776</td>\n",
       "      <td>5.122776</td>\n",
       "      <td>387200.0</td>\n",
       "    </tr>\n",
       "    <tr>\n",
       "      <th>1962-01-03</th>\n",
       "      <td>572.0</td>\n",
       "      <td>577.0</td>\n",
       "      <td>572.0</td>\n",
       "      <td>577.00</td>\n",
       "      <td>3840.000000</td>\n",
       "      <td>0.0</td>\n",
       "      <td>1.0</td>\n",
       "      <td>5.122776</td>\n",
       "      <td>5.167555</td>\n",
       "      <td>5.122776</td>\n",
       "      <td>5.167555</td>\n",
       "      <td>288000.0</td>\n",
       "    </tr>\n",
       "    <tr>\n",
       "      <th>1962-01-04</th>\n",
       "      <td>577.0</td>\n",
       "      <td>577.0</td>\n",
       "      <td>571.0</td>\n",
       "      <td>571.25</td>\n",
       "      <td>3413.333333</td>\n",
       "      <td>0.0</td>\n",
       "      <td>1.0</td>\n",
       "      <td>5.167555</td>\n",
       "      <td>5.167555</td>\n",
       "      <td>5.113820</td>\n",
       "      <td>5.116059</td>\n",
       "      <td>256000.0</td>\n",
       "    </tr>\n",
       "    <tr>\n",
       "      <th>1962-01-05</th>\n",
       "      <td>570.5</td>\n",
       "      <td>570.5</td>\n",
       "      <td>559.0</td>\n",
       "      <td>560.00</td>\n",
       "      <td>4842.666667</td>\n",
       "      <td>0.0</td>\n",
       "      <td>1.0</td>\n",
       "      <td>5.109342</td>\n",
       "      <td>5.109342</td>\n",
       "      <td>5.006349</td>\n",
       "      <td>5.015305</td>\n",
       "      <td>363200.0</td>\n",
       "    </tr>\n",
       "    <tr>\n",
       "      <th>1962-01-08</th>\n",
       "      <td>559.5</td>\n",
       "      <td>559.5</td>\n",
       "      <td>545.0</td>\n",
       "      <td>549.50</td>\n",
       "      <td>7253.333333</td>\n",
       "      <td>0.0</td>\n",
       "      <td>1.0</td>\n",
       "      <td>5.010827</td>\n",
       "      <td>5.010827</td>\n",
       "      <td>4.880966</td>\n",
       "      <td>4.921268</td>\n",
       "      <td>544000.0</td>\n",
       "    </tr>\n",
       "  </tbody>\n",
       "</table>\n",
       "</div>"
      ],
      "text/plain": [
       "             Open   High    Low   Close       Volume  Ex-Dividend  \\\n",
       "Date                                                                \n",
       "1962-01-02  578.5  578.5  572.0  572.00  5162.666667          0.0   \n",
       "1962-01-03  572.0  577.0  572.0  577.00  3840.000000          0.0   \n",
       "1962-01-04  577.0  577.0  571.0  571.25  3413.333333          0.0   \n",
       "1962-01-05  570.5  570.5  559.0  560.00  4842.666667          0.0   \n",
       "1962-01-08  559.5  559.5  545.0  549.50  7253.333333          0.0   \n",
       "\n",
       "            Split Ratio  Adj. Open  Adj. High  Adj. Low  Adj. Close  \\\n",
       "Date                                                                  \n",
       "1962-01-02          1.0   5.180989   5.180989  5.122776    5.122776   \n",
       "1962-01-03          1.0   5.122776   5.167555  5.122776    5.167555   \n",
       "1962-01-04          1.0   5.167555   5.167555  5.113820    5.116059   \n",
       "1962-01-05          1.0   5.109342   5.109342  5.006349    5.015305   \n",
       "1962-01-08          1.0   5.010827   5.010827  4.880966    4.921268   \n",
       "\n",
       "            Adj. Volume  \n",
       "Date                     \n",
       "1962-01-02     387200.0  \n",
       "1962-01-03     288000.0  \n",
       "1962-01-04     256000.0  \n",
       "1962-01-05     363200.0  \n",
       "1962-01-08     544000.0  "
      ]
     },
     "execution_count": 6,
     "metadata": {},
     "output_type": "execute_result"
    }
   ],
   "source": [
    "Tables['IBM'].head()"
   ]
  },
  {
   "cell_type": "code",
   "execution_count": 7,
   "metadata": {
    "collapsed": false
   },
   "outputs": [
    {
     "data": {
      "text/plain": [
       "481"
      ]
     },
     "execution_count": 7,
     "metadata": {},
     "output_type": "execute_result"
    }
   ],
   "source": [
    "len(Tables)"
   ]
  },
  {
   "cell_type": "markdown",
   "metadata": {
    "deletable": true,
    "editable": true,
    "run_control": {
     "frozen": false,
     "read_only": false
    }
   },
   "source": [
    "### Pre-Processing\n",
    "In the following code we perform the following pre-processing steps:\n",
    "\n",
    "1. **Removing outliers** (choosing which ones is based on later steps)\n",
    "2. **Correcting for splits:** stocks are sometimes split into smaller denominations. These splits have to be accounted for in order to get a continuous price line without jumps.\n",
    "3. **Computing diffs:** It is more meaningful to predict *changes* in prices than prices themselves. We therefor compute for each stock a `Diffs` sequence in which $d(t)=\\log \\frac{p(t+1)}{p(t)}$ where $p(t)$ is the price at time $t$ and $d(t)$ is the price diff or the price ratio."
   ]
  },
  {
   "cell_type": "code",
   "execution_count": 8,
   "metadata": {
    "collapsed": false,
    "deletable": true,
    "editable": true,
    "run_control": {
     "frozen": false,
     "read_only": false
    }
   },
   "outputs": [
    {
     "name": "stdout",
     "output_type": "stream",
     "text": [
      "481\n",
      "481 TSSG                                             HBAN                                                                                                                                          "
     ]
    },
    {
     "data": {
      "text/html": [
       "<div>\n",
       "<table border=\"1\" class=\"dataframe\">\n",
       "  <thead>\n",
       "    <tr style=\"text-align: right;\">\n",
       "      <th></th>\n",
       "      <th>AGN_D</th>\n",
       "      <th>AGN_P</th>\n",
       "      <th>EOG_D</th>\n",
       "      <th>EOG_P</th>\n",
       "      <th>WLP_D</th>\n",
       "      <th>WLP_P</th>\n",
       "      <th>CPB_D</th>\n",
       "      <th>CPB_P</th>\n",
       "      <th>YUM_D</th>\n",
       "      <th>YUM_P</th>\n",
       "      <th>...</th>\n",
       "      <th>ISRG_D</th>\n",
       "      <th>ISRG_P</th>\n",
       "      <th>PFE_D</th>\n",
       "      <th>PFE_P</th>\n",
       "      <th>NKE_D</th>\n",
       "      <th>NKE_P</th>\n",
       "      <th>PFG_D</th>\n",
       "      <th>PFG_P</th>\n",
       "      <th>TSS_D</th>\n",
       "      <th>TSS_P</th>\n",
       "    </tr>\n",
       "    <tr>\n",
       "      <th>Date</th>\n",
       "      <th></th>\n",
       "      <th></th>\n",
       "      <th></th>\n",
       "      <th></th>\n",
       "      <th></th>\n",
       "      <th></th>\n",
       "      <th></th>\n",
       "      <th></th>\n",
       "      <th></th>\n",
       "      <th></th>\n",
       "      <th></th>\n",
       "      <th></th>\n",
       "      <th></th>\n",
       "      <th></th>\n",
       "      <th></th>\n",
       "      <th></th>\n",
       "      <th></th>\n",
       "      <th></th>\n",
       "      <th></th>\n",
       "      <th></th>\n",
       "      <th></th>\n",
       "    </tr>\n",
       "  </thead>\n",
       "  <tbody>\n",
       "    <tr>\n",
       "      <th>1962-01-02</th>\n",
       "      <td>NaN</td>\n",
       "      <td>NaN</td>\n",
       "      <td>NaN</td>\n",
       "      <td>NaN</td>\n",
       "      <td>NaN</td>\n",
       "      <td>NaN</td>\n",
       "      <td>NaN</td>\n",
       "      <td>NaN</td>\n",
       "      <td>NaN</td>\n",
       "      <td>NaN</td>\n",
       "      <td>...</td>\n",
       "      <td>NaN</td>\n",
       "      <td>NaN</td>\n",
       "      <td>NaN</td>\n",
       "      <td>NaN</td>\n",
       "      <td>NaN</td>\n",
       "      <td>NaN</td>\n",
       "      <td>NaN</td>\n",
       "      <td>NaN</td>\n",
       "      <td>NaN</td>\n",
       "      <td>NaN</td>\n",
       "    </tr>\n",
       "    <tr>\n",
       "      <th>1962-01-03</th>\n",
       "      <td>NaN</td>\n",
       "      <td>NaN</td>\n",
       "      <td>NaN</td>\n",
       "      <td>NaN</td>\n",
       "      <td>NaN</td>\n",
       "      <td>NaN</td>\n",
       "      <td>NaN</td>\n",
       "      <td>NaN</td>\n",
       "      <td>NaN</td>\n",
       "      <td>NaN</td>\n",
       "      <td>...</td>\n",
       "      <td>NaN</td>\n",
       "      <td>NaN</td>\n",
       "      <td>NaN</td>\n",
       "      <td>NaN</td>\n",
       "      <td>NaN</td>\n",
       "      <td>NaN</td>\n",
       "      <td>NaN</td>\n",
       "      <td>NaN</td>\n",
       "      <td>NaN</td>\n",
       "      <td>NaN</td>\n",
       "    </tr>\n",
       "    <tr>\n",
       "      <th>1962-01-04</th>\n",
       "      <td>NaN</td>\n",
       "      <td>NaN</td>\n",
       "      <td>NaN</td>\n",
       "      <td>NaN</td>\n",
       "      <td>NaN</td>\n",
       "      <td>NaN</td>\n",
       "      <td>NaN</td>\n",
       "      <td>NaN</td>\n",
       "      <td>NaN</td>\n",
       "      <td>NaN</td>\n",
       "      <td>...</td>\n",
       "      <td>NaN</td>\n",
       "      <td>NaN</td>\n",
       "      <td>NaN</td>\n",
       "      <td>NaN</td>\n",
       "      <td>NaN</td>\n",
       "      <td>NaN</td>\n",
       "      <td>NaN</td>\n",
       "      <td>NaN</td>\n",
       "      <td>NaN</td>\n",
       "      <td>NaN</td>\n",
       "    </tr>\n",
       "    <tr>\n",
       "      <th>1962-01-05</th>\n",
       "      <td>NaN</td>\n",
       "      <td>NaN</td>\n",
       "      <td>NaN</td>\n",
       "      <td>NaN</td>\n",
       "      <td>NaN</td>\n",
       "      <td>NaN</td>\n",
       "      <td>NaN</td>\n",
       "      <td>NaN</td>\n",
       "      <td>NaN</td>\n",
       "      <td>NaN</td>\n",
       "      <td>...</td>\n",
       "      <td>NaN</td>\n",
       "      <td>NaN</td>\n",
       "      <td>NaN</td>\n",
       "      <td>NaN</td>\n",
       "      <td>NaN</td>\n",
       "      <td>NaN</td>\n",
       "      <td>NaN</td>\n",
       "      <td>NaN</td>\n",
       "      <td>NaN</td>\n",
       "      <td>NaN</td>\n",
       "    </tr>\n",
       "    <tr>\n",
       "      <th>1962-01-08</th>\n",
       "      <td>NaN</td>\n",
       "      <td>NaN</td>\n",
       "      <td>NaN</td>\n",
       "      <td>NaN</td>\n",
       "      <td>NaN</td>\n",
       "      <td>NaN</td>\n",
       "      <td>NaN</td>\n",
       "      <td>NaN</td>\n",
       "      <td>NaN</td>\n",
       "      <td>NaN</td>\n",
       "      <td>...</td>\n",
       "      <td>NaN</td>\n",
       "      <td>NaN</td>\n",
       "      <td>NaN</td>\n",
       "      <td>NaN</td>\n",
       "      <td>NaN</td>\n",
       "      <td>NaN</td>\n",
       "      <td>NaN</td>\n",
       "      <td>NaN</td>\n",
       "      <td>NaN</td>\n",
       "      <td>NaN</td>\n",
       "    </tr>\n",
       "  </tbody>\n",
       "</table>\n",
       "<p>5 rows × 962 columns</p>\n",
       "</div>"
      ],
      "text/plain": [
       "            AGN_D  AGN_P  EOG_D  EOG_P  WLP_D  WLP_P  CPB_D  CPB_P  YUM_D  \\\n",
       "Date                                                                        \n",
       "1962-01-02    NaN    NaN    NaN    NaN    NaN    NaN    NaN    NaN    NaN   \n",
       "1962-01-03    NaN    NaN    NaN    NaN    NaN    NaN    NaN    NaN    NaN   \n",
       "1962-01-04    NaN    NaN    NaN    NaN    NaN    NaN    NaN    NaN    NaN   \n",
       "1962-01-05    NaN    NaN    NaN    NaN    NaN    NaN    NaN    NaN    NaN   \n",
       "1962-01-08    NaN    NaN    NaN    NaN    NaN    NaN    NaN    NaN    NaN   \n",
       "\n",
       "            YUM_P  ...    ISRG_D  ISRG_P  PFE_D  PFE_P  NKE_D  NKE_P  PFG_D  \\\n",
       "Date               ...                                                        \n",
       "1962-01-02    NaN  ...       NaN     NaN    NaN    NaN    NaN    NaN    NaN   \n",
       "1962-01-03    NaN  ...       NaN     NaN    NaN    NaN    NaN    NaN    NaN   \n",
       "1962-01-04    NaN  ...       NaN     NaN    NaN    NaN    NaN    NaN    NaN   \n",
       "1962-01-05    NaN  ...       NaN     NaN    NaN    NaN    NaN    NaN    NaN   \n",
       "1962-01-08    NaN  ...       NaN     NaN    NaN    NaN    NaN    NaN    NaN   \n",
       "\n",
       "            PFG_P  TSS_D  TSS_P  \n",
       "Date                             \n",
       "1962-01-02    NaN    NaN    NaN  \n",
       "1962-01-03    NaN    NaN    NaN  \n",
       "1962-01-04    NaN    NaN    NaN  \n",
       "1962-01-05    NaN    NaN    NaN  \n",
       "1962-01-08    NaN    NaN    NaN  \n",
       "\n",
       "[5 rows x 962 columns]"
      ]
     },
     "execution_count": 8,
     "metadata": {},
     "output_type": "execute_result"
    },
    {
     "name": "stdout",
     "output_type": "stream",
     "text": [
      "\n"
     ]
    }
   ],
   "source": [
    "Daily=pd.DataFrame()\n",
    "Diffs=pd.DataFrame()\n",
    "#print np.shape(SR)\n",
    "Indices=set(Tables.keys())\n",
    "# Remove the following lines to process all stocks. Plot the PCA and the time sequences of these stocks \n",
    "# to see why they are outliers and need to be removed.\n",
    "Indices=Indices - set([u'LIFE', u'PGR', u'HAS',u'UNM'])  #remove outlier stock - most likely due to file errors\n",
    "print len(Indices)\n",
    "i=1\n",
    "for code in Indices:\n",
    "    print '\\r',i,code,\n",
    "    i+=1\n",
    "    tbl=Tables[code]\n",
    "    S=tbl['Adj. Open']\n",
    "    prices=np.array(S)  # The length of \"prices\" will remain the original length.\n",
    "    diff=np.log(prices[1:]/prices[:-1])\n",
    "    I=S.index[:-1]\n",
    "    #print np.shae(Diffs),np.shape(Sdiff),np.shape(diff),len(I)\n",
    "    Sdiff=pd.DataFrame({code+'_D':diff,code+'_P':prices[:-1]},index=I)\n",
    "    Diffs=Diffs.join(Sdiff,how='outer')\n",
    "Diffs.head()"
   ]
  },
  {
   "cell_type": "code",
   "execution_count": 9,
   "metadata": {
    "collapsed": false,
    "deletable": true,
    "editable": true,
    "run_control": {
     "frozen": false,
     "read_only": false
    },
    "scrolled": false
   },
   "outputs": [
    {
     "data": {
      "text/plain": [
       "<matplotlib.axes._subplots.AxesSubplot at 0x1262c3f50>"
      ]
     },
     "execution_count": 9,
     "metadata": {},
     "output_type": "execute_result"
    },
    {
     "data": {
      "image/png": "[encoded data removed]",
      "text/plain": [
       "<matplotlib.figure.Figure at 0x1126bd910>"
      ]
     },
     "metadata": {},
     "output_type": "display_data"
    }
   ],
   "source": [
    "# plot some stocks\n",
    "Diffs[['AAPL_P','MSFT_P','IBM_P']].plot(figsize=(14,10))\n"
   ]
  },
  {
   "cell_type": "code",
   "execution_count": 10,
   "metadata": {
    "collapsed": true,
    "deletable": true,
    "editable": true,
    "run_control": {
     "frozen": false,
     "read_only": false
    }
   },
   "outputs": [],
   "source": [
    "Diffs.to_csv('SP500.csv')"
   ]
  },
  {
   "cell_type": "code",
   "execution_count": 11,
   "metadata": {
    "collapsed": false,
    "deletable": true,
    "editable": true,
    "run_control": {
     "frozen": false,
     "read_only": false
    }
   },
   "outputs": [
    {
     "name": "stdout",
     "output_type": "stream",
     "text": [
      "-rw-r--r--  1 yoavfreund  staff    94M Jun  5 21:36 SP500.csv\n",
      "Date,AGN_D,AGN_P,EOG_D,EOG_P,WLP_D,WLP_P,CPB_D,CPB_P,YUM_D,YUM_P,JWN_D,JWN_P,TAP_D,TAP_P,BWA_D,BWA_P,WM_D,WM_P,SPG_D,SPG_P,FIS_D,FIS_P,GT_D,GT_P,GIS_D,GIS_P,MJN_D,MJN_P,ROP_D,ROP_P,GE_D,GE_P,GD_D,GD_P,VAR_D,VAR_P,AMZN_D,AMZN_P,FII_D,FII_P,MAS_D,MAS_P,MAR_D,MAR_P,MAT_D,MAT_P,SNA_D,SNA_P,SNI_D,SNI_P,XRAY_D,XRAY_P,JNJ_D,JNJ_P,XYL_D,XYL_P,TSN_D,TSN_P,TSO_D,TSO_P,BEN_D,BEN_P,CMI_D,CMI_P,DISCA_D,DISCA_P,CMG_D,CMG_P,CME_D,CME_P,DTE_D,DTE_P,PCL_D,PCL_P,CMS_D,CMS_P,DTV_D,DTV_P,VLO_D,VLO_P,HUM_D,HUM_P,APOL_D,APOL_P,LSI_D,LSI_P,PCLN_D,PCLN_P,FSLR_D,FSLR_P,HCP_D,HCP_P,IGT_D,IGT_P,K_D,K_P,FFIV_D,FFIV_P,BLL_D,BLL_P,ORLY_D,ORLY_P,BLK_D,BLK_P,FTI_D,FTI_P,HCN_D,HCN_P,NFX_D,NFX_P,MA_D,MA_P,CBG_D,CBG_P,PRGO_D,PRGO_P,MO_D,MO_P,NOC_D,NOC_P,MU_D,MU_P,CBS_D,CBS_P,NDAQ_D,NDAQ_P,SE_D,SE_P,MS_D,MS_P,TJX_D,TJX_P,NOV_D,NOV_P,AMGN_D,AMGN_P,COST_D,COST_P,FE_D,FE_P,CTL_D,CTL_P,ADBE_D,ADBE_P,DOV_D,DOV_P,DOW_D,DOW_P,MSFT_D,MSFT_P,GLW_D,GLW_P,SCHW_D,SCHW_P,BSX_D,BSX_P,FCX_D,FCX_P,SPLS_D,SPLS_P,UPS_D,UPS_P,WHR_D,WHR_P,BBBY_D,BBBY_P,MDT_D,MDT_P,F_D,F_P,DFS_D,DFS_P,CVS_D,CVS_P,JEC_D,JEC_P,V_D,V_P,FMC_D,FMC_P,AVY_D,AVY_P,ALL_D,ALL_P,NTAP_D,NTAP_P,LMT_D,LMT_P,MMM_D,MMM_P,SO_D,SO_P,JNPR_D,JNPR_P,MMC_D,MMC_P,WEC_D,WEC_P,DPS_D,DPS_P,IBM_D,IBM_P,BAX_D,BAX_P,CAT_D,CAT_P,CAH_D,CAH_P,BAC_D,BAC_P,CAM_D,CAM_P,GS_D,GS_P,AFL_D,AFL_P,CAG_D,CAG_P,LM_D,LM_P,LH_D,LH_P,HIG_D,HIG_P,CELG_D,CELG_P,A_D,A_P,ABC_D,ABC_P,ZION_D,ZION_P,STI_D,STI_P,STJ_D,STJ_P,STT_D,STT_P,ABT_D,ABT_P,XOM_D,XOM_P,STX_D,STX_P,STZ_D,STZ_P,CFN_D,CFN_P,CERN_D,CERN_P,PNR_D,PNR_P,CMA_D,CMA_P,IVZ_D,IVZ_P,LO_D,LO_P,PNC_D,PNC_P,VFC_D,VFC_P,EIX_D,EIX_P,XLNX_D,XLNX_P,AON_D,AON_P,RAI_D,RAI_P,PRU_D,PRU_P,RF_D,RF_P,RL_D,RL_P,URBN_D,URBN_P,CHK_D,CHK_P,L_D,L_P,HRS_D,HRS_P,HRL_D,HRL_P,MRO_D,MRO_P,MRK_D,MRK_P,HRB_D,HRB_P,IPG_D,IPG_P,RHT_D,RHT_P,TYC_D,TYC_P,RHI_D,RHI_P,APH_D,APH_P,ROST_D,ROST_P,APC_D,APC_P,APA_D,APA_P,APD_D,APD_P,KSS_D,KSS_P,WFM_D,WFM_P,WFC_D,WFC_P,IFF_D,IFF_P,NVDA_D,NVDA_P,LUK_D,LUK_P,RTN_D,RTN_P,BMS_D,BMS_P,BMY_D,BMY_P,SYMC_D,SYMC_P,EL_D,EL_P,PAYX_D,PAYX_P,OXY_D,OXY_P,SHW_D,SHW_P,GCI_D,GCI_P,ED_D,ED_P,EA_D,EA_P,CSC_D,CSC_P,CSX_D,CSX_P,EW_D,EW_P,BTU_D,BTU_P,LUV_D,LUV_P,MUR_D,MUR_P,ATI_D,ATI_P,WYN_D,WYN_P,JBL_D,JBL_P,ADSK_D,ADSK_P,WPX_D,WPX_P,ECL_D,ECL_P,SNDK_D,SNDK_P,SEE_D,SEE_P,DGX_D,DGX_P,NUE_D,NUE_P,PCP_D,PCP_P,EXPE_D,EXPE_P,EXPD_D,EXPD_P,UNP_D,UNP_P,BHI_D,BHI_P,ETFC_D,ETFC_P,DUK_D,DUK_P,XL_D,XL_P,CLF_D,CLF_P,R_D,R_P,CLX_D,CLX_P,FDO_D,FDO_P,BBY_D,BBY_P,UNH_D,UNH_P,FRX_D,FRX_P,TRIP_D,TRIP_P,OMC_D,OMC_P,KO_D,KO_P,VMC_D,VMC_P,NU_D,NU_P,KR_D,KR_P,LNC_D,LNC_P,KEY_D,KEY_P,ITW_D,ITW_P,KLAC_D,KLAC_P,DO_D,DO_P,SWK_D,SWK_P,RSG_D,RSG_P,WYNN_D,WYNN_P,SWN_D,SWN_P,DF_D,DF_P,DG_D,DG_P,DD_D,DD_P,DE_D,DE_P,SWY_D,SWY_P,PNW_D,PNW_P,TGT_D,TGT_P,HBAN_D,HBAN_P,BIG_D,BIG_P,BIIB_D,BIIB_P,PCG_D,PCG_P,POM_D,POM_P,AKAM_D,AKAM_P,DHI_D,DHI_P,M_D,M_P,INTU_D,INTU_P,BEAM_D,BEAM_P,ALXN_D,ALXN_P,DHR_D,DHR_P,SLB_D,SLB_P,MCO_D,MCO_P,MCK_D,MCK_P,MCD_D,MCD_P,NRG_D,NRG_P,PBCT_D,PBCT_P,VTR_D,VTR_P,AXP_D,AXP_P,NFLX_D,NFLX_P,EXC_D,EXC_P,AAPL_D,AAPL_P,SJM_D,SJM_P,SRCL_D,SRCL_P,WU_D,WU_P,WY_D,WY_P,BBT_D,BBT_P,VNO_D,VNO_P,HSP_D,HSP_P,HST_D,HST_P,HSY_D,HSY_P,CTSH_D,CTSH_P,HAL_D,HAL_P,FITB_D,FITB_P,EQR_D,EQR_P,EQT_D,EQT_P,GPC_D,GPC_P,X_D,X_P,HAR_D,HAR_P,THC_D,THC_P,PH_D,PH_P,GPS_D,GPS_P,PHM_D,PHM_P,SYK_D,SYK_P,BRCM_D,BRCM_P,KIM_D,KIM_P,SYY_D,SYY_P,AEP_D,AEP_P,AES_D,AES_P,AET_D,AET_P,EMC_D,EMC_P,EMN_D,EMN_P,ESRX_D,ESRX_P,AMAT_D,AMAT_P,FTR_D,FTR_P,AEE_D,AEE_P,CTAS_D,CTAS_P,EMR_D,EMR_P,FDX_D,FDX_P,CRM_D,CRM_P,NWSA_D,NWSA_P,PX_D,PX_P,PG_D,PG_P,CTXS_D,CTXS_P,PM_D,PM_P,EFX_D,EFX_P,C_D,C_P,S_D,S_P,QCOM_D,QCOM_P,XRX_D,XRX_P,ANF_D,ANF_P,MOS_D,MOS_P,PSA_D,PSA_P,PSX_D,PSX_P,MON_D,MON_P,JOY_D,JOY_P,MCHP_D,MCHP_P,ALTR_D,ALTR_P,ETR_D,ETR_P,COP_D,COP_P,HES_D,HES_P,DVN_D,DVN_P,KMB_D,KMB_P,COV_D,COV_P,DVA_D,DVA_P,KMI_D,KMI_P,GWW_D,GWW_P,FISV_D,FISV_P,COG_D,COG_P,COF_D,COF_P,COH_D,COH_P,PEG_D,PEG_P,ETN_D,ETN_P,COL_D,COL_P,BCR_D,BCR_P,KMX_D,KMX_P,DLTR_D,DLTR_P,QEP_D,QEP_P,CI_D,CI_P,JDSU_D,JDSU_P,CL_D,CL_P,WAG_D,WAG_P,CB_D,CB_P,CA_D,CA_P,CF_D,CF_P,WAT_D,WAT_P,CHRW_D,CHRW_P,TDC_D,TDC_P,SBUX_D,SBUX_P,PLD_D,PLD_P,HCBK_D,HCBK_P,PLL_D,PLL_P,CMCSA_D,CMCSA_P,FHN_D,FHN_P,MKC_D,MKC_P,GNW_D,GNW_P,CVX_D,CVX_P,AIZ_D,AIZ_P,BXP_D,BXP_P,AIV_D,AIV_P,KRFT_D,KRFT_P,LOW_D,LOW_P,MSI_D,MSI_P,TXT_D,TXT_P,AIG_D,AIG_P,CVC_D,CVC_P,DIS_D,DIS_P,PPG_D,PPG_P,MNST_D,MNST_P,NSC_D,NSC_P,GAS_D,GAS_P,PPL_D,PPL_P,OKE_D,OKE_P,GOOG_D,GOOG_P,JCP_D,JCP_P,IP_D,IP_P,HPQ_D,HPQ_P,IR_D,IR_P,IRM_D,IRM_P,MTB_D,MTB_P,UTX_D,UTX_P,JCI_D,JCI_P,PWR_D,PWR_P,CSCO_D,CSCO_P,ARG_D,ARG_P,WDC_D,WDC_P,BA_D,BA_P,BK_D,BK_P,DRI_D,DRI_P,CCL_D,CCL_P,CCI_D,CCI_P,CCE_D,CCE_P,TIF_D,TIF_P,FLIR_D,FLIR_P,MYL_D,MYL_P,LYB_D,LYB_P,SIAL_D,SIAL_P,D_D,D_P,PEP_D,PEP_P,WMT_D,WMT_P,VZ_D,VZ_P,T_D,T_P,WMB_D,WMB_P,VRSN_D,VRSN_P,OI_D,OI_P,CINF_D,CINF_P,NTRS_D,NTRS_P,MWV_D,MWV_P,ESV_D,ESV_P,HP_D,HP_P,FLR_D,FLR_P,HD_D,HD_P,LLY_D,LLY_P,TMK_D,TMK_P,INTC_D,INTC_P,SCG_D,SCG_P,AMD_D,AMD_P,LLL_D,LLL_P,NWL_D,NWL_P,AMP_D,AMP_P,TMO_D,TMO_P,AMT_D,AMT_P,LRCX_D,LRCX_P,CNX_D,CNX_P,YHOO_D,YHOO_P,PBI_D,PBI_P,BDX_D,BDX_P,TRV_D,TRV_P,MPC_D,MPC_P,SLM_D,SLM_P,AVP_D,AVP_P,MDLZ_D,MDLZ_P,AVB_D,AVB_P,NEM_D,NEM_P,FOSL_D,FOSL_P,ACE_D,ACE_P,NEE_D,NEE_P,ACN_D,ACN_P,NI_D,NI_P,TEL_D,TEL_P,NBR_D,NBR_P,RRD_D,RRD_P,RRC_D,RRC_P,NE_D,NE_P,FAST_D,FAST_P,TEG_D,TEG_P,NBL_D,NBL_P,TER_D,TER_P,FLS_D,FLS_P,ADT_D,ADT_P,LLTC_D,LLTC_P,ADP_D,ADP_P,DNB_D,DNB_P,GILD_D,GILD_P,GME_D,GME_P,RDC_D,RDC_P,DNR_D,DNR_P,JPM_D,JPM_P,ADM_D,ADM_P,ADI_D,ADI_P,VIAB_D,VIAB_P,LEG_D,LEG_P,XEL_D,XEL_P,WIN_D,WIN_P,LEN_D,LEN_P,EBAY_D,EBAY_P,MET_D,MET_P,TWC_D,TWC_P,USB_D,USB_P,AZO_D,AZO_P,PDCO_D,PDCO_P,TWX_D,TWX_P,PCAR_D,PCAR_P,TXN_D,TXN_P,PETM_D,PETM_P,SRE_D,SRE_P,ORCL_D,ORCL_P,TE_D,TE_P,PXD_D,PXD_P,AA_D,AA_P,HOG_D,HOG_P,PKI_D,PKI_P,CNP_D,CNP_P,HON_D,HON_P,DELL_D,DELL_P,ICE_D,ICE_P,AN_D,AN_P,HOT_D,HOT_P,ROK_D,ROK_P,TROW_D,TROW_P,ISRG_D,ISRG_P,PFE_D,PFE_P,NKE_D,NKE_P,PFG_D,PFG_P,TSS_D,TSS_P\n",
      "1962-01-02,,,,,,,,,,,,,,,,,,,,,,,,,,,,,,,-0.00830102503939,0.46221000534,,,,,,,,,,,,,,,,,,,,,,,,,,,,,,,,,,,,,,,,,,,,,,,,,,,,,,,,,,,,,,,,,,,,,,,,,,,,,,,,,,,,,,,,,,,,,,,,,,,,,,,,,,,,,,,,,,,,,,,,,,,,,,,,,,,,,,,,,,,,,,,,,,,,,,,,,,,,,,,,,,,,,,,,,-0.0112995552539,5.18098892056,,,0.0,2.12720319591,,,,,,,,,,,,,,,,,,,,,,,,,,,,,,,,,,,,,,,,,,,,,,,,,,,,,,,,,,,,,,,,,,,,,,,,,,,,,,,,,,,,,,,,,,,,,,,,,,,,,,,,,,,,,,,,,,,,,,,,,,,,,,,,,,,,,,,,,,,,,,,,,,,,,,,,,,,,,,,,,,,,,,,,,,,,,,,,,,,,,,,,,,,,,,,,,,,,,,,,,,,,,-0.0149628726767,0.784679805149,,,,,,,,,,,,,,,,,,,,,,,,,,,,,0.0,5.72164659773,,,,,,,,,,,,,,,,,,,,,,,,,,,,,,,,,,,,,,,,,,,,,,,,,,,,,,,,,,,,,,,,,,,,,,,,,,,,,,,,,,,,,,,,,,,,,,,,,,,,,,,,,,,,,,,,,,,,,,,,,,,,,,,,,,,,,,,,,,,,,,,,,,,,,,,,,,,,,,,,,,,,,,,,,,,,,,,,,,,,,,,,,,,,,,,,,,,,,,,,,,,,,,,,,,,,,,,,,,,,,,,,,,,,,,,,,,,,,,,,,,,,,,,,,,,,,,,,,,,,,,,0.0,0.076883930415,,,,,,,,,,,,,,,,,,,-0.0555698511548,0.201995686162,,,,,,,,,,,,,,,,,,,-0.00255830110997,0.515748279616,,,,,,,,,,,,,,,,,,,,,,,,,,,,,,,,,,,,,,,,,,,,,,,,,,,,,,,,,,,,,,,,,,,,,,,,,,,,,,,,,,,,,,,,,,,,,,,,,,,,,,,,,,,,,,,,,,,,,,,,,,,,,,,,,,,,,,,,,,,,,,,,,,,,,,,,,,,,,,,,,,,,,,,,,,,,,,,,,,,,,,,,,-0.00274935257956,1.86467115088,,,,,,,,,,,,,,,,,,,,,,,,,,,,,,\n",
      "1962-01-03,,,,,,,,,,,,,,,,,,,,,,,,,,,,,,,-0.00512199529276,0.458389069296,,,,,,,,,,,,,,,,,,,,,,,,,,,,,,,,,,,,,,,,,,,,,,,,,,,,,,,,,,,,,,,,,,,,,,,,,,,,,,,,,,,,,,,,,,,,,,,,,,,,,,,,,,,,,,,,,,,,,,,,,,,,,,,,,,,,,,,,,,,,,,,,,,,,,,,,,,,,,,,,,,,,,,,,,0.0087032751283,5.12277556191,,,0.0319515998066,2.12720319591,,,,,,,,,,,,,,,,,,,,,,,,,,,,,,,,,,,,,,,,,,,,,,,,,,,,,,,,,,,,,,,,,,,,,,,,,,,,,,,,,,,,,,,,,,,,,,,,,,,,,,,,,,,,,,,,,,,,,,,,,,,,,,,,,,,,,,,,,,,,,,,,,,,,,,,,,,,,,,,,,,,,,,,,,,,,,,,,,,,,,,,,,,,,,,,,,,,,,,,,,,,,,-0.00503779402996,0.773026144677,,,,,,,,,,,,,,,,,,,,,,,,,,,,,0.00103466124078,5.72164659773,,,,,,,,,,,,,,,,,,,,,,,,,,,,,,,,,,,,,,,,,,,,,,,,,,,,,,,,,,,,,,,,,,,,,,,,,,,,,,,,,,,,,,,,,,,,,,,,,,,,,,,,,,,,,,,,,,,,,,,,,,,,,,,,,,,,,,,,,,,,,,,,,,,,,,,,,,,,,,,,,,,,,,,,,,,,,,,,,,,,,,,,,,,,,,,,,,,,,,,,,,,,,,,,,,,,,,,,,,,,,,,,,,,,,,,,,,,,,,,,,,,,,,,,,,,,,,,,,,,,,,,0.0133335308695,0.076883930415,,,,,,,,,,,,,,,,,,,-0.0106277030751,0.191077000423,,,,,,,,,,,,,,,,,,,0.00491401480243,0.514430526543,,,,,,,,,,,,,,,,,,,,,,,,,,,,,,,,,,,,,,,,,,,,,,,,,,,,,,,,,,,,,,,,,,,,,,,,,,,,,,,,,,,,,,,,,,,,,,,,,,,,,,,,,,,,,,,,,,,,,,,,,,,,,,,,,,,,,,,,,,,,,,,,,,,,,,,,,,,,,,,,,,,,,,,,,,,,,,,,,,,,,,,,,0.0150287458618,1.85955155345,,,,,,,,,,,,,,,,,,,,,,,,,,,,,,\n",
      "1962-01-04,,,,,,,,,,,,,,,,,,,,,,,,,,,,,,,-0.0118264139213,0.456047205269,,,,,,,,,,,,,,,,,,,,,,,,,,,,,,,,,,,,,,,,,,,,,,,,,,,,,,,,,,,,,,,,,,,,,,,,,,,,,,,,,,,,,,,,,,,,,,,,,,,,,,,,,,,,,,,,,,,,,,,,,,,,,,,,,,,,,,,,,,,,,,,,,,,,,,,,,,,,,,,,,,,,,,,,,-0.011329097206,5.16755506857,,,0.00326510399328,2.19626823474,,,,,,,,,,,,,,,,,,,,,,,,,,,,,,,,,,,,,,,,,,,,,,,,,,,,,,,,,,,,,,,,,,,,,,,,,,,,,,,,,,,,,,,,,,,,,,,,,,,,,,,,,,,,,,,,,,,,,,,,,,,,,,,,,,,,,,,,,,,,,,,,,,,,,,,,,,,,,,,,,,,,,,,,,,,,,,,,,,,,,,,,,,,,,,,,,,,,,,,,,,,,,0.00503779402996,0.769141591186,,,,,,,,,,,,,,,,,,,,,,,,,,,,,-0.013534824005,5.72756962733,,,,,,,,,,,,,,,,,,,,,,,,,,,,,,,,,,,,,,,,,,,,,,,,,,,,,,,,,,,,,,,,,,,,,,,,,,,,,,,,,,,,,,,,,,,,,,,,,,,,,,,,,,,,,,,,,,,,,,,,,,,,,,,,,,,,,,,,,,,,,,,,,,,,,,,,,,,,,,,,,,,,,,,,,,,,,,,,,,,,,,,,,,,,,,,,,,,,,,,,,,,,,,,,,,,,,,,,,,,,,,,,,,,,,,,,,,,,,,,,,,,,,,,,,,,,,,,,,,,,,,,0.0,0.077915929481,,,,,,,,,,,,,,,,,,,-0.0257399410958,0.189057043562,,,,,,,,,,,,,,,,,,,-0.00985229644301,0.516964667068,,,,,,,,,,,,,,,,,,,,,,,,,,,,,,,,,,,,,,,,,,,,,,,,,,,,,,,,,,,,,,,,,,,,,,,,,,,,,,,,,,,,,,,,,,,,,,,,,,,,,,,,,,,,,,,,,,,,,,,,,,,,,,,,,,,,,,,,,,,,,,,,,,,,,,,,,,,,,,,,,,,,,,,,,,,,,,,,,,,,,,,,,0.0,1.88770933929,,,,,,,,,,,,,,,,,,,,,,,,,,,,,,\n",
      "1962-01-05,,,,,,,,,,,,,,,,,,,,,,,,,,,,,,,-0.0260438601341,0.450685569207,,,,,,,,,,,,,,,,,,,,,,,,,,,,,,,,,,,,,,,,,,,,,,,,,,,,,,,,,,,,,,,,,,,,,,,,,,,,,,,,,,,,,,,,,,,,,,,,,,,,,,,,,,,,,,,,,,,,,,,,,,,,,,,,,,,,,,,,,,,,,,,,,,,,,,,,,,,,,,,,,,,,,,,,,-0.0194696415502,5.10934170991,,,0.00923505877094,2.20345099878,,,,,,,,,,,,,,,,,,,,,,,,,,,,,,,,,,,,,,,,,,,,,,,,,,,,,,,,,,,,,,,,,,,,,,,,,,,,,,,,,,,,,,,,,,,,,,,,,,,,,,,,,,,,,,,,,,,,,,,,,,,,,,,,,,,,,,,,,,,,,,,,,,,,,,,,,,,,,,,,,,,,,,,,,,,,,,,,,,,,,,,,,,,,,,,,,,,,,,,,,,,,,-0.0306146358196,0.773026144677,,,,,,,,,,,,,,,,,,,,,,,,,,,,,-0.0330344369454,5.65057024248,,,,,,,,,,,,,,,,,,,,,,,,,,,,,,,,,,,,,,,,,,,,,,,,,,,,,,,,,,,,,,,,,,,,,,,,,,,,,,,,,,,,,,,,,,,,,,,,,,,,,,,,,,,,,,,,,,,,,,,,,,,,,,,,,,,,,,,,,,,,,,,,,,,,,,,,,,,,,,,,,,,,,,,,,,,,,,,,,,,,,,,,,,,,,,,,,,,,,,,,,,,,,,,,,,,,,,,,,,,,,,,,,,,,,,,,,,,,,,,,,,,,,,,,,,,,,,,,,,,,,,,0.00343779262284,0.077915929481,,,,,,,,,,,,,,,,,,,-0.0185412010067,0.184252821837,,,,,,,,,,,,,,,,,,,-0.0200006667067,0.511896386018,,,,,,,,,,,,,,,,,,,,,,,,,,,,,,,,,,,,,,,,,,,,,,,,,,,,,,,,,,,,,,,,,,,,,,,,,,,,,,,,,,,,,,,,,,,,,,,,,,,,,,,,,,,,,,,,,,,,,,,,,,,,,,,,,,,,,,,,,,,,,,,,,,,,,,,,,,,,,,,,,,,,,,,,,,,,,,,,,,,,,,,,,-0.00559040513142,1.88770933929,,,,,,,,,,,,,,,,,,,,,,,,,,,,,,\n",
      "1962-01-08,,,,,,,,,,,,,,,,,,,,,,,,,,,,,,,-0.00168563040335,0.439099505073,,,,,,,,,,,,,,,,,,,,,,,,,,,,,,,,,,,,,,,,,,,,,,,,,,,,,,,,,,,,,,,,,,,,,,,,,,,,,,,,,,,,,,,,,,,,,,,,,,,,,,,,,,,,,,,,,,,,,,,,,,,,,,,,,,,,,,,,,,,,,,,,,,,,,,,,,,,,,,,,,,,,,,,,,-0.0134954814749,5.01082679526,,,0.00619197024793,2.22389425027,,,,,,,,,,,,,,,,,,,,,,,,,,,,,,,,,,,,,,,,,,,,,,,,,,,,,,,,,,,,,,,,,,,,,,,,,,,,,,,,,,,,,,,,,,,,,,,,,,,,,,,,,,,,,,,,,,,,,,,,,,,,,,,,,,,,,,,,,,,,,,,,,,,,,,,,,,,,,,,,,,,,,,,,,,,,,,,,,,,,,,,,,,,,,,,,,,,,,,,,,,,,,-0.00259403517703,0.749718823732,,,,,,,,,,,,,,,,,,,,,,,,,,,,,-0.00325556445976,5.46695632474,,,,,,,,,,,,,,,,,,,,,,,,,,,,,,,,,,,,,,,,,,,,,,,,,,,,,,,,,,,,,,,,,,,,,,,,,,,,,,,,,,,,,,,,,,,,,,,,,,,,,,,,,,,,,,,,,,,,,,,,,,,,,,,,,,,,,,,,,,,,,,,,,,,,,,,,,,,,,,,,,,,,,,,,,,,,,,,,,,,,,,,,,,,,,,,,,,,,,,,,,,,,,,,,,,,,,,,,,,,,,,,,,,,,,,,,,,,,,,,,,,,,,,,,,,,,,,,,,,,,,,,-0.00343779262284,0.0781842492382,,,,,,,,,,,,,,,,,,,0.0149793094404,0.180868029258,,,,,,,,,,,,,,,,,,,0.002421308689,0.501759823919,,,,,,,,,,,,,,,,,,,,,,,,,,,,,,,,,,,,,,,,,,,,,,,,,,,,,,,,,,,,,,,,,,,,,,,,,,,,,,,,,,,,,,,,,,,,,,,,,,,,,,,,,,,,,,,,,,,,,,,,,,,,,,,,,,,,,,,,,,,,,,,,,,,,,,,,,,,,,,,,,,,,,,,,,,,,,,,,,,,,,,,,,-0.0307716586668,1.87718572236,,,,,,,,,,,,,,,,,,,,,,,,,,,,,,\n",
      "1962-01-09,,,,,,,,,,,,,,,,,,,,,,,,,,,,,,,0.00518826095455,0.438359969065,,,,,,,,,,,,,,,,,,,,,,,,,,,,,,,,,,,,,,,,,,,,,,,,,,,,,,,,,,,,,,,,,,,,,,,,,,,,,,,,,,,,,,,,,,,,,,,,,,,,,,,,,,,,,,,,,,,,,,,,,,,,,,,,,,,,,,,,,,,,,,,,,,,,,,,,,,,,,,,,,,,,,,,,,0.00901719365018,4.94365753527,,,0.00933897178295,2.23770725804,,,,,,,,,,,,,,,,,,,,,,,,,,,,,,,,,,,,,,,,,,,,,,,,,,,,,,,,,,,,,,,,,,,,,,,,,,,,,,,,,,,,,,,,,,,,,,,,,,,,,,,,,,,,,,,,,,,,,,,,,,,,,,,,,,,,,,,,,,,,,,,,,,,,,,,,,,,,,,,,,,,,,,,,,,,,,,,,,,,,,,,,,,,,,,,,,,,,,,,,,,,,,0.0180185055027,0.747776546986,,,,,,,,,,,,,,,,,,,,,,,,,,,,,0.00325556445976,5.44918723593,,,,,,,,,,,,,,,,,,,,,,,,,,,,,,,,,,,,,,,,,,,,,,,,,,,,,,,,,,,,,,,,,,,,,,,,,,,,,,,,,,,,,,,,,,,,,,,,,,,,,,,,,,,,,,,,,,,,,,,,,,,,,,,,,,,,,,,,,,,,,,,,,,,,,,,,,,,,,,,,,,,,,,,,,,,,,,,,,,,,,,,,,,,,,,,,,,,,,,,,,,,,,,,,,,,,,,,,,,,,,,,,,,,,,,,,,,,,,,,,,,,,,,,,,,,,,,,,,,,,,,,0.0196727655987,0.077915929481,,,,,,,,,,,,,,,,,,,0.0144651968713,0.183597700693,,,,,,,,,,,,,,,,,,,0.00261648534095,0.502976211371,,,,,,,,,,,,,,,,,,,,,,,,,,,,,,,,,,,,,,,,,,,,,,,,,,,,,,,,,,,,,,,,,,,,,,,,,,,,,,,,,,,,,,,,,,,,,,,,,,,,,,,,,,,,,,,,,,,,,,,,,,,,,,,,,,,,,,,,,,,,,,,,,,,,,,,,,,,,,,,,,,,,,,,,,,,,,,,,,,,,,,,,,-0.00391389932112,1.82030130653,,,,,,,,,,,,,,,,,,,,,,,,,,,,,,\n",
      "1962-01-10,,,,,,,,,,,,,,,,,,,,,,,,,,,,,,,0.0053006122154,0.440640205091,,,,,,,,,,,,,,,,,,,,,,,,,,,,,,,,,,,,,,,,,,,,,,,,,,,,,,,,,,,,,,,,,,,,,,,,,,,,,,,,,,,,,,,,,,,,,,,,,,,,,,,,,,,,,,,,,,,,,,,,,,,,,,,,,,,,,,,,,,,,,,,,,,,,,,,,,,,,,,,,,,,,,,,,,0.00268937858197,4.98843704193,,,-0.0125540110306,2.25870302984,,,,,,,,,,,,,,,,,,,,,,,,,,,,,,,,,,,,,,,,,,,,,,,,,,,,,,,,,,,,,,,,,,,,,,,,,,,,,,,,,,,,,,,,,,,,,,,,,,,,,,,,,,,,,,,,,,,,,,,,,,,,,,,,,,,,,,,,,,,,,,,,,,,,,,,,,,,,,,,,,,,,,,,,,,,,,,,,,,,,,,,,,,,,,,,,,,,,,,,,,,,,,0.00508906950746,0.761372484204,,,,,,,,,,,,,,,,,,,,,,,,,,,,,-0.0114630670946,5.46695632474,,,,,,,,,,,,,,,,,,,,,,,,,,,,,,,,,,,,,,,,,,,,,,,,,,,,,,,,,,,,,,,,,,,,,,,,,,,,,,,,,,,,,,,,,,,,,,,,,,,,,,,,,,,,,,,,,,,,,,,,,,,,,,,,,,,,,,,,,,,,,,,,,,,,,,,,,,,,,,,,,,,,,,,,,,,,,,,,,,,,,,,,,,,,,,,,,,,,,,,,,,,,,,,,,,,,,,,,,,,,,,,,,,,,,,,,,,,,,,,,,,,,,,,,,,,,,,,,,,,,,,,0.00956450357039,0.07946392808,,,,,,,,,,,,,,,,,,,0.00730036823826,0.186272778698,,,,,,,,,,,,,,,,,,,0.00260965720722,0.504293964443,,,,,,,,,,,,,,,,,,,,,,,,,,,,,,,,,,,,,,,,,,,,,,,,,,,,,,,,,,,,,,,,,,,,,,,,,,,,,,,,,,,,,,,,,,,,,,,,,,,,,,,,,,,,,,,,,,,,,,,,,,,,,,,,,,,,,,,,,,,,,,,,,,,,,,,,,,,,,,,,,,,,,,,,,,,,,,,,,,,,,,,,,-0.00204129771754,1.81319075455,,,,,,,,,,,,,,,,,,,,,,,,,,,,,,\n",
      "1962-01-11,,,,,,,,,,,,,,,,,,,,,,,,,,,,,,,0.00166805710069,0.442982069118,,,,,,,,,,,,,,,,,,,,,,,,,,,,,,,,,,,,,,,,,,,,,,,,,,,,,,,,,,,,,,,,,,,,,,,,,,,,,,,,,,,,,,,,,,,,,,,,,,,,,,,,,,,,,,,,,,,,,,,,,,,,,,,,,,,,,,,,,,,,,,,,,,,,,,,,,,,,,,,,,,,,,,,,,0.00979963298882,5.00187089392,,,0.0154851318395,2.230524494,,,,,,,,,,,,,,,,,,,,,,,,,,,,,,,,,,,,,,,,,,,,,,,,,,,,,,,,,,,,,,,,,,,,,,,,,,,,,,,,,,,,,,,,,,,,,,,,,,,,,,,,,,,,,,,,,,,,,,,,,,,,,,,,,,,,,,,,,,,,,,,,,,,,,,,,,,,,,,,,,,,,,,,,,,,,,,,,,,,,,,,,,,,,,,,,,,,,,,,,,,,,,0.0101010959865,0.765257037695,,,,,,,,,,,,,,,,,,,,,,,,,,,,,0.016865565378,5.40464605331,,,,,,,,,,,,,,,,,,,,,,,,,,,,,,,,,,,,,,,,,,,,,,,,,,,,,,,,,,,,,,,,,,,,,,,,,,,,,,,,,,,,,,,,,,,,,,,,,,,,,,,,,,,,,,,,,,,,,,,,,,,,,,,,,,,,,,,,,,,,,,,,,,,,,,,,,,,,,,,,,,,,,,,,,,,,,,,,,,,,,,,,,,,,,,,,,,,,,,,,,,,,,,,,,,,,,,,,,,,,,,,,,,,,,,,,,,,,,,,,,,,,,,,,,,,,,,,,,,,,,,,0.0286567092498,0.0802276073888,,,,,,,,,,,,,,,,,,,-0.00349752615351,0.187637614416,,,,,,,,,,,,,,,,,,,0.0172914971101,0.505611717516,,,,,,,,,,,,,,,,,,,,,,,,,,,,,,,,,,,,,,,,,,,,,,,,,,,,,,,,,,,,,,,,,,,,,,,,,,,,,,,,,,,,,,,,,,,,,,,,,,,,,,,,,,,,,,,,,,,,,,,,,,,,,,,,,,,,,,,,,,,,,,,,,,,,,,,,,,,,,,,,,,,,,,,,,,,,,,,,,,,,,,,,,-0.00188798042233,1.80949326752,,,,,,,,,,,,,,,,,,,,,,,,,,,,,,\n",
      "1962-01-12,,,,,,,,,,,,,,,,,,,,,,,,,,,,,,,-0.0121569302706,0.443721605127,,,,,,,,,,,,,,,,,,,,,,,,,,,,,,,,,,,,,,,,,,,,,,,,,,,,,,,,,,,,,,,,,,,,,,,,,,,,,,,,,,,,,,,,,,,,,,,,,,,,,,,,,,,,,,,,,,,,,,,,,,,,,,,,,,,,,,,,,,,,,,,,,,,,,,,,,,,,,,,,,,,,,,,,,0.00353982670512,5.05112835125,,,0.0060790460764,2.26533327357,,,,,,,,,,,,,,,,,,,,,,,,,,,,,,,,,,,,,,,,,,,,,,,,,,,,,,,,,,,,,,,,,,,,,,,,,,,,,,,,,,,,,,,,,,,,,,,,,,,,,,,,,,,,,,,,,,,,,,,,,,,,,,,,,,,,,,,,,,,,,,,,,,,,,,,,,,,,,,,,,,,,,,,,,,,,,,,,,,,,,,,,,,,,,,,,,,,,,,,,,,,,,-0.0101010959865,0.773026144677,,,,,,,,,,,,,,,,,,,,,,,,,,,,,0.0,5.49657147277,,,,,,,,,,,,,,,,,,,,,,,,,,,,,,,,,,,,,,,,,,,,,,,,,,,,,,,,,,,,,,,,,,,,,,,,,,,,,,,,,,,,,,,,,,,,,,,,,,,,,,,,,,,,,,,,,,,,,,,,,,,,,,,,,,,,,,,,,,,,,,,,,,,,,,,,,,,,,,,,,,,,,,,,,,,,,,,,,,,,,,,,,,,,,,,,,,,,,,,,,,,,,,,,,,,,,,,,,,,,,,,,,,,,,,,,,,,,,,,,,,,,,,,,,,,,,,,,,,,,,,,-0.0317486983146,0.0825599252779,,,,,,,,,,,,,,,,,,,-0.00732604009207,0.186982493271,,,,,,,,,,,,,,,,,,,0.0123373737598,0.514430526543,,,,,,,,,,,,,,,,,,,,,,,,,,,,,,,,,,,,,,,,,,,,,,,,,,,,,,,,,,,,,,,,,,,,,,,,,,,,,,,,,,,,,,,,,,,,,,,,,,,,,,,,,,,,,,,,,,,,,,,,,,,,,,,,,,,,,,,,,,,,,,,,,,,,,,,,,,,,,,,,,,,,,,,,,,,,,,,,,,,,,,,,,-0.0320027310862,1.80608020257,,,,,,,,,,,,,,,,,,,,,,,,,,,,,,\n"
     ]
    }
   ],
   "source": [
    "!ls -lh SP500.csv\n",
    "!head SP500.csv"
   ]
  },
  {
   "cell_type": "markdown",
   "metadata": {
    "deletable": true,
    "editable": true,
    "run_control": {
     "frozen": false,
     "read_only": false
    }
   },
   "source": [
    "### Stock categories"
   ]
  },
  {
   "cell_type": "code",
   "execution_count": 15,
   "metadata": {
    "collapsed": false,
    "deletable": true,
    "editable": true,
    "run_control": {
     "frozen": false,
     "read_only": false
    }
   },
   "outputs": [
    {
     "name": "stdout",
     "output_type": "stream",
     "text": [
      "Ticker,\tName,\tSector\r\n",
      "MMM,\t3M|3M Company,\tIndustrials\r\n",
      "ABT,\tAbbott Laboratories,\tHealth Care\r\n"
     ]
    }
   ],
   "source": [
    "!head -3 TickerSector.csv"
   ]
  },
  {
   "cell_type": "code",
   "execution_count": 16,
   "metadata": {
    "collapsed": false,
    "deletable": true,
    "editable": true,
    "run_control": {
     "frozen": false,
     "read_only": false
    }
   },
   "outputs": [
    {
     "data": {
      "text/html": [
       "<div>\n",
       "<table border=\"1\" class=\"dataframe\">\n",
       "  <thead>\n",
       "    <tr style=\"text-align: right;\">\n",
       "      <th></th>\n",
       "      <th>Ticker</th>\n",
       "      <th>Name</th>\n",
       "      <th>Sector</th>\n",
       "    </tr>\n",
       "  </thead>\n",
       "  <tbody>\n",
       "    <tr>\n",
       "      <th>0</th>\n",
       "      <td>MMM</td>\n",
       "      <td>3M|3M Company</td>\n",
       "      <td>Industrials</td>\n",
       "    </tr>\n",
       "    <tr>\n",
       "      <th>1</th>\n",
       "      <td>ABT</td>\n",
       "      <td>Abbott Laboratories</td>\n",
       "      <td>Health Care</td>\n",
       "    </tr>\n",
       "    <tr>\n",
       "      <th>2</th>\n",
       "      <td>ABBV</td>\n",
       "      <td>AbbVie Inc.</td>\n",
       "      <td>Health Care</td>\n",
       "    </tr>\n",
       "    <tr>\n",
       "      <th>3</th>\n",
       "      <td>ACN</td>\n",
       "      <td>Accenture plc</td>\n",
       "      <td>Information Technology</td>\n",
       "    </tr>\n",
       "    <tr>\n",
       "      <th>4</th>\n",
       "      <td>ATVI</td>\n",
       "      <td>Activision Blizzard</td>\n",
       "      <td>Information Technology</td>\n",
       "    </tr>\n",
       "  </tbody>\n",
       "</table>\n",
       "</div>"
      ],
      "text/plain": [
       "  Ticker                 Name                  Sector\n",
       "0    MMM        3M|3M Company             Industrials\n",
       "1    ABT  Abbott Laboratories             Health Care\n",
       "2   ABBV          AbbVie Inc.             Health Care\n",
       "3    ACN        Accenture plc  Information Technology\n",
       "4   ATVI  Activision Blizzard  Information Technology"
      ]
     },
     "execution_count": 16,
     "metadata": {},
     "output_type": "execute_result"
    }
   ],
   "source": [
    "NameSector=pd.read_csv('TickerSector.tsv',sep='\\t')\n",
    "NameSector.head()"
   ]
  },
  {
   "cell_type": "code",
   "execution_count": 11,
   "metadata": {
    "collapsed": false,
    "deletable": true,
    "editable": true,
    "run_control": {
     "frozen": false,
     "read_only": false
    },
    "scrolled": true
   },
   "outputs": [
    {
     "data": {
      "text/plain": [
       "{'Consumer Discretionary',\n",
       " 'Consumer Staples',\n",
       " 'Energy',\n",
       " 'Financials',\n",
       " 'Health Care',\n",
       " 'Industrials',\n",
       " 'Information Technology',\n",
       " 'Materials',\n",
       " 'Real Estate',\n",
       " 'Telecommunications Services',\n",
       " 'Utilities'}"
      ]
     },
     "execution_count": 11,
     "metadata": {},
     "output_type": "execute_result"
    }
   ],
   "source": [
    "set(NameSector['Sector'])"
   ]
  },
  {
   "cell_type": "code",
   "execution_count": 18,
   "metadata": {
    "collapsed": false
   },
   "outputs": [
    {
     "data": {
      "text/html": [
       "<div>\n",
       "<table border=\"1\" class=\"dataframe\">\n",
       "  <thead>\n",
       "    <tr style=\"text-align: right;\">\n",
       "      <th></th>\n",
       "      <th>Ticker</th>\n",
       "      <th>Name</th>\n",
       "      <th>Sector</th>\n",
       "      <th>SECTOR_ID</th>\n",
       "    </tr>\n",
       "  </thead>\n",
       "  <tbody>\n",
       "    <tr>\n",
       "      <th>0</th>\n",
       "      <td>MMM</td>\n",
       "      <td>3M|3M Company</td>\n",
       "      <td>Industrials</td>\n",
       "      <td>INDS</td>\n",
       "    </tr>\n",
       "    <tr>\n",
       "      <th>1</th>\n",
       "      <td>ABT</td>\n",
       "      <td>Abbott Laboratories</td>\n",
       "      <td>Health Care</td>\n",
       "      <td>HC</td>\n",
       "    </tr>\n",
       "    <tr>\n",
       "      <th>2</th>\n",
       "      <td>ABBV</td>\n",
       "      <td>AbbVie Inc.</td>\n",
       "      <td>Health Care</td>\n",
       "      <td>HC</td>\n",
       "    </tr>\n",
       "    <tr>\n",
       "      <th>3</th>\n",
       "      <td>ACN</td>\n",
       "      <td>Accenture plc</td>\n",
       "      <td>Information Technology</td>\n",
       "      <td>IT</td>\n",
       "    </tr>\n",
       "    <tr>\n",
       "      <th>4</th>\n",
       "      <td>ATVI</td>\n",
       "      <td>Activision Blizzard</td>\n",
       "      <td>Information Technology</td>\n",
       "      <td>IT</td>\n",
       "    </tr>\n",
       "  </tbody>\n",
       "</table>\n",
       "</div>"
      ],
      "text/plain": [
       "  Ticker                 Name                  Sector SECTOR_ID\n",
       "0    MMM        3M|3M Company             Industrials      INDS\n",
       "1    ABT  Abbott Laboratories             Health Care        HC\n",
       "2   ABBV          AbbVie Inc.             Health Care        HC\n",
       "3    ACN        Accenture plc  Information Technology        IT\n",
       "4   ATVI  Activision Blizzard  Information Technology        IT"
      ]
     },
     "execution_count": 18,
     "metadata": {},
     "output_type": "execute_result"
    }
   ],
   "source": [
    "Sectors={'Consumer Discretionary':'CD',\n",
    " 'Consumer Staples':'CS',\n",
    " 'Energy':'EN',\n",
    " 'Financials':'FIN',\n",
    " 'Health Care':'HC',\n",
    " 'Industrials':'INDS',\n",
    " 'Information Technology':'IT',\n",
    " 'Materials':'MAT',\n",
    " 'Real Estate':'RE',\n",
    " 'Telecommunication Services':'TS',\n",
    " 'Utilities':'UTIL'}\n",
    "NameSector['SECTOR_ID']=[Sectors[x] for x in NameSector[\"Sector\"]]\n",
    "NameSector.head()"
   ]
  },
  {
   "cell_type": "code",
   "execution_count": 20,
   "metadata": {
    "collapsed": true
   },
   "outputs": [],
   "source": [
    "NameSector.to_csv('TickerInfo.tsv',sep='\\t')"
   ]
  },
  {
   "cell_type": "code",
   "execution_count": 41,
   "metadata": {
    "collapsed": false,
    "deletable": true,
    "editable": true,
    "run_control": {
     "frozen": false,
     "read_only": false
    }
   },
   "outputs": [],
   "source": [
    "NN=NameSector[['Symbol','SECTOR_ID']]\n",
    "Ticker2Sector={ a[1]:a[2] for a in NN.to_records()}"
   ]
  },
  {
   "cell_type": "code",
   "execution_count": 42,
   "metadata": {
    "collapsed": false,
    "deletable": true,
    "editable": true,
    "run_control": {
     "frozen": false,
     "read_only": false
    }
   },
   "outputs": [
    {
     "data": {
      "text/plain": [
       "[('AGN', 'HC'), ('EOG', 'EN'), ('CPB', 'CS')]"
      ]
     },
     "execution_count": 42,
     "metadata": {},
     "output_type": "execute_result"
    }
   ],
   "source": [
    "Ticker2Sector.items()[:3]"
   ]
  },
  {
   "cell_type": "code",
   "execution_count": null,
   "metadata": {
    "collapsed": true,
    "deletable": true,
    "editable": true,
    "run_control": {
     "frozen": false,
     "read_only": false
    }
   },
   "outputs": [],
   "source": []
  },
  {
   "cell_type": "markdown",
   "metadata": {
    "deletable": true,
    "editable": true,
    "run_control": {
     "frozen": false,
     "read_only": false
    }
   },
   "source": [
    "### Pickling and unpickling\n",
    "The preprocessing steps take a significant amount of time. Instead of redoing these steps each time\n",
    "you start the iPython kernel. You can pickle the results into a file and load this file again in later runs, skipping the preprocessing step"
   ]
  },
  {
   "cell_type": "code",
   "execution_count": 10,
   "metadata": {
    "collapsed": false,
    "deletable": true,
    "editable": true,
    "run_control": {
     "frozen": false,
     "read_only": false
    }
   },
   "outputs": [],
   "source": [
    "pickle.dump({'Daily':Daily,'Diffs':Diffs},open('DailyDiffs.pkl','wb'))"
   ]
  },
  {
   "cell_type": "code",
   "execution_count": 11,
   "metadata": {
    "collapsed": false,
    "deletable": true,
    "editable": true,
    "run_control": {
     "frozen": false,
     "read_only": false
    }
   },
   "outputs": [],
   "source": [
    "PD=pickle.load(open('DailyDiffs.pkl','rb'))"
   ]
  },
  {
   "cell_type": "code",
   "execution_count": 12,
   "metadata": {
    "collapsed": true,
    "deletable": true,
    "editable": true,
    "run_control": {
     "frozen": false,
     "read_only": false
    }
   },
   "outputs": [],
   "source": [
    "Daily=PD['Daily']\n",
    "Diffs=PD['Diffs']"
   ]
  },
  {
   "cell_type": "markdown",
   "metadata": {
    "deletable": true,
    "editable": true,
    "run_control": {
     "frozen": false,
     "read_only": false
    }
   },
   "source": [
    "### PCA1\n",
    "#### Eigen-vectors correspond to time sequences\n",
    "In the following steps we perform of the `Diffs` matrix column wise. The result is a set of eigen-vectors whose dimension is the total number of trading days (13422)"
   ]
  },
  {
   "cell_type": "code",
   "execution_count": 19,
   "metadata": {
    "collapsed": false,
    "deletable": true,
    "editable": true,
    "run_control": {
     "frozen": false,
     "read_only": false
    }
   },
   "outputs": [
    {
     "data": {
      "text/plain": [
       "((30, 13422), (13422, 481))"
      ]
     },
     "execution_count": 19,
     "metadata": {},
     "output_type": "execute_result"
    }
   ],
   "source": [
    "from sklearn.decomposition import PCA\n",
    "\n",
    "pca = PCA(n_components=30)\n",
    "diffs_matrix=np.transpose(np.array(Diffs.fillna(0)))\n",
    "pca.fit(diffs_matrix)\n",
    "eigen_vecs=pca.components_\n",
    "np.shape(eigen_vecs), np.shape(Diffs)"
   ]
  },
  {
   "cell_type": "code",
   "execution_count": 20,
   "metadata": {
    "collapsed": false,
    "deletable": true,
    "editable": true,
    "run_control": {
     "frozen": false,
     "read_only": false
    }
   },
   "outputs": [
    {
     "name": "stdout",
     "output_type": "stream",
     "text": [
      "individual percent explained:\n",
      "[ 0.05394363  0.03376526  0.02902396  0.02541831  0.0158646   0.01288044\n",
      "  0.01159088  0.01117823  0.00803358  0.00785734  0.00756532  0.0071789\n",
      "  0.00694659  0.00682706  0.00639181  0.00626821  0.00606079  0.00583184\n",
      "  0.0056637   0.00551274  0.00547767  0.00540651  0.00523487  0.005084\n",
      "  0.0050397   0.00490412  0.00479051  0.00470813  0.00465873  0.00461951]\n",
      "cumulative percent explained:\n",
      "[ 0.05394363  0.08770889  0.11673285  0.14215116  0.15801575  0.1708962\n",
      "  0.18248708  0.19366531  0.20169889  0.20955623  0.21712154  0.22430044\n",
      "  0.23124703  0.23807409  0.24446591  0.25073412  0.25679491  0.26262674\n",
      "  0.26829044  0.27380318  0.27928085  0.28468736  0.28992223  0.29500623\n",
      "  0.30004593  0.30495005  0.30974056  0.3144487   0.31910743  0.32372695]\n"
     ]
    },
    {
     "data": {
      "text/plain": [
       "<matplotlib.text.Text at 0x14aedcd10>"
      ]
     },
     "execution_count": 20,
     "metadata": {},
     "output_type": "execute_result"
    },
    {
     "data": {
      "image/png": "[encoded data removed]",
      "text/plain": [
       "<matplotlib.figure.Figure at 0x13736be10>"
      ]
     },
     "metadata": {},
     "output_type": "display_data"
    }
   ],
   "source": [
    "# check how much of the variance is explained by the top eigenvectors.\n",
    "print 'individual percent explained:\\n',pca.explained_variance_ratio_\n",
    "print 'cumulative percent explained:\\n',np.cumsum(pca.explained_variance_ratio_)\n",
    "plt.plot(np.cumsum(np.concatenate([np.array([0]),pca.explained_variance_ratio_])))\n",
    "plt.grid()\n",
    "plt.title('Percentage of variance explained')"
   ]
  },
  {
   "cell_type": "code",
   "execution_count": 21,
   "metadata": {
    "collapsed": false,
    "deletable": true,
    "editable": true,
    "run_control": {
     "frozen": false,
     "read_only": false
    }
   },
   "outputs": [
    {
     "data": {
      "text/plain": [
       "(481, 30)"
      ]
     },
     "execution_count": 21,
     "metadata": {},
     "output_type": "execute_result"
    }
   ],
   "source": [
    "tdf = pca.transform(diffs_matrix)  # compute the projections of the stocks on the eigen-values\n",
    "np.shape(tdf)"
   ]
  },
  {
   "cell_type": "code",
   "execution_count": 44,
   "metadata": {
    "collapsed": false,
    "deletable": true,
    "editable": true,
    "run_control": {
     "frozen": false,
     "read_only": false
    }
   },
   "outputs": [
    {
     "data": {
      "text/plain": [
       "<matplotlib.figure.Figure at 0x14bc88a90>"
      ]
     },
     "metadata": {},
     "output_type": "display_data"
    }
   ],
   "source": [
    "# Generate the scatter plot of the stocks on a pair of eigen-vectors defined by i0,i1\n",
    "i0=0;i1=1\n",
    "fig, ax = plt.subplots(figsize=(20,20))  # In order that the stock ticker names are readable we make the plot very large\n",
    "plt.xlim([np.amin(tdf[:,i0]),np.amax(tdf[:,i0])])\n",
    "plt.ylim([np.amin(tdf[:,i1]),np.amax(tdf[:,i1])])\n",
    "plt.title('SP500 stocks scatter on '+str(i0)+', '+str(i1),fontsize=20)\n",
    "names=[Ticker2Sector[a] if a in Ticker2Sector.keys() else a for a in Diffs.columns]\n",
    "for i in range(len(names)):\n",
    "    ax.annotate(names[i], (tdf[i,i0],tdf[i,i1]),fontsize=10)\n",
    "# This very large plot is hard to view and manipulate inside the notebook. We therefor export it into a pdf file\n",
    "fig.savefig('scatter1.'+str(i0)+str(i1)+'.pdf', format='PDF')\n",
    "# After exporting, we clear the figure so that the plot does not appear in the notebook.\n",
    "fig.clear()"
   ]
  },
  {
   "cell_type": "markdown",
   "metadata": {
    "deletable": true,
    "editable": true,
    "run_control": {
     "frozen": false,
     "read_only": false
    }
   },
   "source": [
    "### PCA2\n",
    "#### Eigen-vectors correspond to stock weightings.\n",
    "In the following steps we perform of the `Diffs` matrix row wise. The result is a set of eigen-vectors \n",
    "whose dimension is the number of stocks (481)"
   ]
  },
  {
   "cell_type": "code",
   "execution_count": 24,
   "metadata": {
    "collapsed": false,
    "deletable": true,
    "editable": true,
    "run_control": {
     "frozen": false,
     "read_only": false
    }
   },
   "outputs": [
    {
     "data": {
      "text/plain": [
       "((30, 481), (481,))"
      ]
     },
     "execution_count": 24,
     "metadata": {},
     "output_type": "execute_result"
    }
   ],
   "source": [
    "from sklearn.decomposition import PCA\n",
    "\n",
    "pca = PCA(n_components=30)\n",
    "diffs_matrix=np.array(Diffs.fillna(0))\n",
    "pca.fit(diffs_matrix)\n",
    "eigen_vecs=pca.components_\n",
    "np.shape(eigen_vecs), np.shape(names)"
   ]
  },
  {
   "cell_type": "code",
   "execution_count": 25,
   "metadata": {
    "collapsed": false,
    "deletable": true,
    "editable": true,
    "run_control": {
     "frozen": false,
     "read_only": false
    }
   },
   "outputs": [
    {
     "name": "stdout",
     "output_type": "stream",
     "text": [
      "individual percent explained:\n",
      "[ 0.21398827  0.03770126  0.02369833  0.02260537  0.01292739  0.01108481\n",
      "  0.01011396  0.00910506  0.00817645  0.00644251  0.00614662  0.00597919\n",
      "  0.00571297  0.00558549  0.00527064  0.00509578  0.00497703  0.00478266\n",
      "  0.00467997  0.00459476  0.00446806  0.00441243  0.00424017  0.00415523\n",
      "  0.00407341  0.00400846  0.00390701  0.00384324  0.00381382  0.00376716]\n",
      "cumulative percent explained:\n",
      "[ 0.21398827  0.25168953  0.27538785  0.29799322  0.31092061  0.32200542\n",
      "  0.33211938  0.34122443  0.34940089  0.3558434   0.36199002  0.36796921\n",
      "  0.37368217  0.37926766  0.38453831  0.38963408  0.39461112  0.39939378\n",
      "  0.40407374  0.4086685   0.41313656  0.41754899  0.42178916  0.42594439\n",
      "  0.4300178   0.43402626  0.43793326  0.44177651  0.44559033  0.44935749]\n"
     ]
    },
    {
     "data": {
      "text/plain": [
       "<matplotlib.text.Text at 0x14b241e90>"
      ]
     },
     "execution_count": 25,
     "metadata": {},
     "output_type": "execute_result"
    },
    {
     "data": {
      "image/png": "[encoded data removed]",
      "text/plain": [
       "<matplotlib.figure.Figure at 0x14aee45d0>"
      ]
     },
     "metadata": {},
     "output_type": "display_data"
    }
   ],
   "source": [
    "# check how much of the variance is explained by the top eigenvectors.\n",
    "print 'individual percent explained:\\n',pca.explained_variance_ratio_\n",
    "print 'cumulative percent explained:\\n',np.cumsum(pca.explained_variance_ratio_)\n",
    "plt.plot(np.cumsum(np.concatenate([np.array([0]),pca.explained_variance_ratio_])))\n",
    "plt.grid()\n",
    "plt.title('Percentage of variance explained')"
   ]
  },
  {
   "cell_type": "markdown",
   "metadata": {
    "deletable": true,
    "editable": true,
    "run_control": {
     "frozen": false,
     "read_only": false
    }
   },
   "source": [
    "**HW** in this case the first eigen-vector explains more that %21 of the variance. Can you give an interpretation to this vector? (Hint: look at the distribution of the coordinate values)"
   ]
  },
  {
   "cell_type": "code",
   "execution_count": 26,
   "metadata": {
    "collapsed": false,
    "deletable": true,
    "editable": true,
    "run_control": {
     "frozen": false,
     "read_only": false
    }
   },
   "outputs": [
    {
     "data": {
      "text/plain": [
       "((30, 481), (481,))"
      ]
     },
     "execution_count": 26,
     "metadata": {},
     "output_type": "execute_result"
    }
   ],
   "source": [
    "np.shape(eigen_vecs),np.shape(names)"
   ]
  },
  {
   "cell_type": "code",
   "execution_count": 45,
   "metadata": {
    "collapsed": false,
    "deletable": true,
    "editable": true,
    "run_control": {
     "frozen": false,
     "read_only": false
    },
    "scrolled": true
   },
   "outputs": [
    {
     "data": {
      "text/plain": [
       "<matplotlib.figure.Figure at 0x14c68b150>"
      ]
     },
     "metadata": {},
     "output_type": "display_data"
    }
   ],
   "source": [
    "# Generate the scatter plot of the stocks on a pair of eigen-vectors defined by i0,i1\n",
    "i0=1;i1=2\n",
    "fig, ax = plt.subplots(figsize=(20,20))  # In order that the stock ticker names are readable we make the plot very large\n",
    "plt.xlim([np.amin(eigen_vecs[i0,:]),np.amax(eigen_vecs[i0,:])])\n",
    "plt.ylim([np.amin(eigen_vecs[i1,:]),np.amax(eigen_vecs[i1,:])])\n",
    "plt.title('SP500 stocks scatter on '+str(i0)+', '+str(i1),fontsize=20)\n",
    "names=[Ticker2Sector[a] if a in Ticker2Sector.keys() else a for a in Diffs.columns]\n",
    "for i in range(len(names)):\n",
    "    ax.annotate(names[i], (eigen_vecs[i0,i],eigen_vecs[i1,i]),fontsize=10)\n",
    "# This very large plot is hard to view and manipulate inside the notebook. We therefor export it into a pdf file\n",
    "fig.savefig('scatter2.'+str(i0)+str(i1)+'.pdf', format='PDF')\n",
    "# After exporting, we clear the figure so that the plot does not appear in the notebook.\n",
    "fig.clear()"
   ]
  },
  {
   "cell_type": "code",
   "execution_count": 33,
   "metadata": {
    "collapsed": false,
    "deletable": true,
    "editable": true,
    "run_control": {
     "frozen": false,
     "read_only": false
    }
   },
   "outputs": [
    {
     "data": {
      "text/plain": [
       "Index([u'AGN', u'EOG', u'WLP', u'CPB', u'YUM', u'JWN', u'TAP', u'BWA', u'WM',\n",
       "       u'SPG',\n",
       "       ...\n",
       "       u'ICE', u'AN', u'HOT', u'ROK', u'TROW', u'ISRG', u'PFE', u'NKE', u'PFG',\n",
       "       u'TSS'],\n",
       "      dtype='object', length=481)"
      ]
     },
     "execution_count": 33,
     "metadata": {},
     "output_type": "execute_result"
    }
   ],
   "source": [
    "[Diffs.columns"
   ]
  },
  {
   "cell_type": "code",
   "execution_count": 46,
   "metadata": {
    "collapsed": false,
    "deletable": true,
    "editable": true,
    "run_control": {
     "frozen": false,
     "read_only": false
    }
   },
   "outputs": [],
   "source": [
    "!open *.pdf"
   ]
  },
  {
   "cell_type": "markdown",
   "metadata": {
    "deletable": true,
    "editable": true,
    "run_control": {
     "frozen": false,
     "read_only": false
    }
   },
   "source": [
    "### Identifying outliers\n",
    "Use these cells after you comment out the command above that removes the indices `set([u'LIFE', u'PGR', u'HAS',u'UNM'])`"
   ]
  },
  {
   "cell_type": "code",
   "execution_count": 17,
   "metadata": {
    "collapsed": false,
    "deletable": true,
    "editable": true,
    "run_control": {
     "frozen": false,
     "read_only": false
    }
   },
   "outputs": [
    {
     "name": "stdout",
     "output_type": "stream",
     "text": [
      "AMGN [-0.24826548 -0.51960331]\n",
      "NEM [ 0.59058826 -0.0990569 ]\n",
      "NTAP [-1.53421152 -0.25656284]\n",
      "GNW [ 0.17344529  1.11112665]\n"
     ]
    }
   ],
   "source": [
    "## Identify the outliers \n",
    "## To make this really work, comment out the removed stocks when processing above: set([u'LIFE', u'PGR', u'HAS',u'UNM'])\n",
    "mx=[0]*2\n",
    "mn=[0]*2\n",
    "Set=set()\n",
    "names=Diffs.columns\n",
    "for i in range(2):\n",
    "    mx[i]=np.argmax(tdf[:,i])\n",
    "    mn[i]=np.argmin(tdf[:,i])\n",
    "    Set=Set.union(set([mn[i],mx[i]]))\n",
    "for elem in Set:\n",
    "    print names[elem],\n",
    "    print tdf[elem,:2]"
   ]
  },
  {
   "cell_type": "code",
   "execution_count": 18,
   "metadata": {
    "collapsed": false,
    "deletable": true,
    "editable": true,
    "run_control": {
     "frozen": false,
     "read_only": false
    }
   },
   "outputs": [],
   "source": [
    "#One of the bad sequences.\n",
    "# Daily[[u'UNM']].plot(figsize=(14,10))"
   ]
  },
  {
   "cell_type": "markdown",
   "metadata": {
    "deletable": true,
    "editable": true,
    "run_control": {
     "frozen": false,
     "read_only": false
    }
   },
   "source": [
    "### HW\n",
    "\n",
    "**Global analysis**\n",
    "1. Use the information in the file `constituents.csv` to color code the stocks according to sector to which the stock belongs.\n",
    "1. Use the online PCA method to find the local eigen-vectors corresponding to PCA2 (Row wise analysis, generating vectors whose dimension is the number of stocks). Use an $\\alpha$ value that corresponds to 10 years.\n",
    "1. generate the coloring as above for the projection on the top two eigen-vectors corresponding to 1970,1980,1990,2000,2010.\n",
    "\n",
    "**local analysis**\n",
    "1. You should have recieved a ticker symbol in email from the TA. The ticker symbol corresponds to a company that has been in existance for the last 50 years or more. Use wikipedia, Yahoo! etc. to compile a paragraph on the company and it's history.\n",
    "1. Using the projection on the top 20 eigenvectors, identify the 10 companies that are closest (using euclidean distance) to your company.\n",
    "1. Repeat the same for each one of the 10-year PCA projections for each 10 years from 1970 to 2010 (see above).\n",
    "1. Generate a plot of the price of your stock, and it's related stocks as a function of time. Figure out some way (scaling, chopping the time line, taking logs etc.) that the performance of the stocks can be compared for the whole time in which your stock was in existence.\n",
    "1. Using Wikipedia etc. find out a description of the neighboring companies.\n",
    "2. Based on the description, give a narrative describing the location of the company in the context of it's neighbor companies. In what ways is it similar to it's neighbors and in what ways it is unique. Are there any companies that are competitors? Suppliers? Buyers?\n",
    "How did it's location change over the time of it's existance. Write this description in a markdown cell.\n",
    "\n",
    "**Extra credit**\n",
    "* Use [Plotly](https://plot.ly/) to create a dynamic scatter-plot which can be navigated (pan and zoom) and where clicking on each ticker brings up information about that stock.\n",
    "* Figure out the meaning of the \"adjusted\" columns in the original tables and find out if they are better/worse/similar for PCA analysis."
   ]
  },
  {
   "cell_type": "code",
   "execution_count": 24,
   "metadata": {
    "collapsed": true,
    "deletable": true,
    "editable": true,
    "run_control": {
     "frozen": false,
     "read_only": false
    }
   },
   "outputs": [],
   "source": [
    "!open *.pdf\n"
   ]
  },
  {
   "cell_type": "code",
   "execution_count": null,
   "metadata": {
    "collapsed": true,
    "deletable": true,
    "editable": true,
    "run_control": {
     "frozen": false,
     "read_only": false
    }
   },
   "outputs": [],
   "source": []
  }
 ],
 "metadata": {
  "anaconda-cloud": {},
  "kernelspec": {
   "display_name": "Python [default]",
   "language": "python",
   "name": "python2"
  },
  "language_info": {
   "codemirror_mode": {
    "name": "ipython",
    "version": 2
   },
   "file_extension": ".py",
   "mimetype": "text/x-python",
   "name": "python",
   "nbconvert_exporter": "python",
   "pygments_lexer": "ipython2",
   "version": "2.7.13"
  },
  "toc": {
   "colors": {
    "hover_highlight": "#DAA520",
    "running_highlight": "#FF0000",
    "selected_highlight": "#FFD700"
   },
   "moveMenuLeft": true,
   "nav_menu": {
    "height": "135px",
    "width": "253px"
   },
   "navigate_menu": true,
   "number_sections": true,
   "sideBar": true,
   "threshold": 4,
   "toc_cell": false,
   "toc_section_display": "block",
   "toc_window_display": false
  }
 },
 "nbformat": 4,
 "nbformat_minor": 0
}
