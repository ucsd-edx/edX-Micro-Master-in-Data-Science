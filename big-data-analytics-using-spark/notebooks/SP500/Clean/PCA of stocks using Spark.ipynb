{
 "cells": [
  {
   "cell_type": "code",
   "execution_count": 1,
   "metadata": {
    "collapsed": false,
    "deletable": true,
    "editable": true,
    "run_control": {
     "frozen": false,
     "read_only": false
    }
   },
   "outputs": [
    {
     "name": "stdout",
     "output_type": "stream",
     "text": [
      "Populating the interactive namespace from numpy and matplotlib\n"
     ]
    }
   ],
   "source": [
    "import findspark\n",
    "findspark.init()\n",
    "from pyspark import SparkContext\n",
    "\n",
    "#sc.stop()\n",
    "sc = SparkContext(master=\"local[6]\",pyFiles=['lib/spark_PCA.py'])\n",
    "\n",
    "from pyspark.sql import *\n",
    "sqlContext = SQLContext(sc)\n",
    "\n",
    "%pylab inline\n",
    "import sys\n",
    "sys.path.append('./lib')\n",
    "\n",
    "import numpy as np\n",
    "from spark_PCA import computeCov\n"
   ]
  },
  {
   "cell_type": "code",
   "execution_count": 3,
   "metadata": {
    "collapsed": false,
    "deletable": true,
    "editable": true,
    "run_control": {
     "frozen": false,
     "read_only": false
    }
   },
   "outputs": [
    {
     "data": {
      "text/plain": [
       "13422"
      ]
     },
     "execution_count": 3,
     "metadata": {},
     "output_type": "execute_result"
    }
   ],
   "source": [
    "df=sqlContext.read.csv('../SP500.csv',header='true',inferSchema='true')\n",
    "df.count()"
   ]
  },
  {
   "cell_type": "code",
   "execution_count": 21,
   "metadata": {
    "collapsed": false,
    "deletable": true,
    "editable": true,
    "run_control": {
     "frozen": false,
     "read_only": false
    }
   },
   "outputs": [
    {
     "data": {
      "text/plain": [
       "(['AGN', 'EOG', 'WLP', 'CPB', 'YUM', 'JWN', 'TAP', 'BWA', 'WM', 'SPG'], 481)"
      ]
     },
     "execution_count": 21,
     "metadata": {},
     "output_type": "execute_result"
    }
   ],
   "source": [
    "columns=df.columns\n",
    "col=[c for c in columns if '_D' in c]\n",
    "tickers=[a[:-2] for a in col]\n",
    "tickers[:10],len(tickers)"
   ]
  },
  {
   "cell_type": "code",
   "execution_count": null,
   "metadata": {
    "collapsed": false,
    "scrolled": true
   },
   "outputs": [],
   "source": [
    "# Need to be able to select different subsets of stocks for different students\n",
    "#subset=set(tickers)-set(['AGN', 'EOG', 'WLP', 'CPB', 'YUM', 'JWN', 'TAP', 'BWA'])\n",
    "#df=df.select(list(subset))"
   ]
  },
  {
   "cell_type": "code",
   "execution_count": 5,
   "metadata": {
    "collapsed": false,
    "deletable": true,
    "editable": true,
    "run_control": {
     "frozen": false,
     "read_only": false
    }
   },
   "outputs": [
    {
     "data": {
      "text/plain": [
       "array([ 0.        ,  0.        ,  0.        ,  0.        ,  0.        ,\n",
       "        0.        ,  0.        ,  0.        ,  0.        ,  0.        ,\n",
       "        0.        ,  0.        ,  0.        ,  0.        ,  0.        ,\n",
       "       -0.00830103,  0.        ,  0.        ,  0.        ,  0.        ])"
      ]
     },
     "execution_count": 5,
     "metadata": {},
     "output_type": "execute_result"
    }
   ],
   "source": [
    "def make_array(row):\n",
    "    array=np.array([row[c] for c in col],dtype=np.float64)\n",
    "    return np.nan_to_num(array)\n",
    "Rows=df.select(col).rdd.map(make_array)\n",
    "\n",
    "Rows.first()[:20]"
   ]
  },
  {
   "cell_type": "code",
   "execution_count": 6,
   "metadata": {
    "collapsed": false,
    "deletable": true,
    "editable": true,
    "run_control": {
     "frozen": false,
     "read_only": false
    },
    "scrolled": false
   },
   "outputs": [
    {
     "name": "stdout",
     "output_type": "stream",
     "text": [
      "shape of E= (481,) shape of NE= (481,)\n"
     ]
    },
    {
     "data": {
      "text/plain": [
       "['E', 'Cov', 'NO', 'NE', 'O', 'Var', 'Mean']"
      ]
     },
     "execution_count": 6,
     "metadata": {},
     "output_type": "execute_result"
    }
   ],
   "source": [
    "OUT=computeCov(Rows)\n",
    "OUT.keys()"
   ]
  },
  {
   "cell_type": "code",
   "execution_count": 7,
   "metadata": {
    "collapsed": false,
    "deletable": true,
    "editable": true,
    "run_control": {
     "frozen": false,
     "read_only": false
    }
   },
   "outputs": [
    {
     "name": "stdout",
     "output_type": "stream",
     "text": [
      "[ 0.21541202  0.25336645  0.27722061  0.29994765  0.31293977]\n"
     ]
    },
    {
     "data": {
      "image/png": "[encoded data removed]",
      "text/plain": [
       "<matplotlib.figure.Figure at 0x10b8dae50>"
      ]
     },
     "metadata": {},
     "output_type": "display_data"
    }
   ],
   "source": [
    "from numpy import linalg as LA\n",
    "eigval,eigvec=LA.eigh(OUT['Cov'])\n",
    "eigval=eigval[-1::-1] # reverse order\n",
    "eigvec=eigvec[:,-1::-1]\n",
    "cum=cumsum(eigval)\n",
    "cum=cum/cum[-1]\n",
    "print cum[:5]\n",
    "plot(cum[:50])\n",
    "grid()"
   ]
  },
  {
   "cell_type": "code",
   "execution_count": 9,
   "metadata": {
    "collapsed": false,
    "deletable": true,
    "editable": true,
    "run_control": {
     "frozen": false,
     "read_only": false
    },
    "scrolled": false
   },
   "outputs": [
    {
     "data": {
      "text/plain": [
       "[<matplotlib.lines.Line2D at 0x10b9f8110>]"
      ]
     },
     "execution_count": 9,
     "metadata": {},
     "output_type": "execute_result"
    },
    {
     "data": {
      "image/png": "[encoded data removed]",
      "text/plain": [
       "<matplotlib.figure.Figure at 0x10fd8d690>"
      ]
     },
     "metadata": {},
     "output_type": "display_data"
    }
   ],
   "source": [
    "eigen_vecs=eigvec.transpose\n",
    "plot(eigvec[:,1])"
   ]
  },
  {
   "cell_type": "code",
   "execution_count": 12,
   "metadata": {
    "collapsed": false
   },
   "outputs": [
    {
     "name": "stdout",
     "output_type": "stream",
     "text": [
      "-rw-r--r--  1 yoavfreund  staff    35737 Jun  6 12:53 Tickers.pkl\r\n",
      "-rw-r--r--  1 yoavfreund  staff  5300224 Jun  6 19:50 EigvecsAll.pkl\r\n"
     ]
    }
   ],
   "source": [
    "import pickle\n",
    "with open('EigvecsAll.pkl','wb') as pkl:\n",
    "    pickle.dump({'eigval':eigval,\n",
    "                 'eigvec':eigvec}\n",
    "               ,pkl)\n",
    "    !ls -lrt *.pkl"
   ]
  },
  {
   "cell_type": "code",
   "execution_count": 10,
   "metadata": {
    "collapsed": false,
    "deletable": true,
    "editable": true,
    "run_control": {
     "frozen": false,
     "read_only": false
    },
    "scrolled": true
   },
   "outputs": [
    {
     "data": {
      "text/html": [
       "<div>\n",
       "<table border=\"1\" class=\"dataframe\">\n",
       "  <thead>\n",
       "    <tr style=\"text-align: right;\">\n",
       "      <th></th>\n",
       "      <th>Ticker</th>\n",
       "      <th>Name</th>\n",
       "      <th>Sector</th>\n",
       "      <th>SECTOR_ID</th>\n",
       "    </tr>\n",
       "  </thead>\n",
       "  <tbody>\n",
       "    <tr>\n",
       "      <th>0</th>\n",
       "      <td>MMM</td>\n",
       "      <td>3M|3M Company</td>\n",
       "      <td>Industrials</td>\n",
       "      <td>INDS</td>\n",
       "    </tr>\n",
       "    <tr>\n",
       "      <th>1</th>\n",
       "      <td>ABT</td>\n",
       "      <td>Abbott Laboratories</td>\n",
       "      <td>Health Care</td>\n",
       "      <td>HC</td>\n",
       "    </tr>\n",
       "    <tr>\n",
       "      <th>2</th>\n",
       "      <td>ABBV</td>\n",
       "      <td>AbbVie Inc.</td>\n",
       "      <td>Health Care</td>\n",
       "      <td>HC</td>\n",
       "    </tr>\n",
       "    <tr>\n",
       "      <th>3</th>\n",
       "      <td>ACN</td>\n",
       "      <td>Accenture plc</td>\n",
       "      <td>Information Technology</td>\n",
       "      <td>IT</td>\n",
       "    </tr>\n",
       "    <tr>\n",
       "      <th>4</th>\n",
       "      <td>ATVI</td>\n",
       "      <td>Activision Blizzard</td>\n",
       "      <td>Information Technology</td>\n",
       "      <td>IT</td>\n",
       "    </tr>\n",
       "  </tbody>\n",
       "</table>\n",
       "</div>"
      ],
      "text/plain": [
       "  Ticker                 Name                  Sector SECTOR_ID\n",
       "0    MMM        3M|3M Company             Industrials      INDS\n",
       "1    ABT  Abbott Laboratories             Health Care        HC\n",
       "2   ABBV          AbbVie Inc.             Health Care        HC\n",
       "3    ACN        Accenture plc  Information Technology        IT\n",
       "4   ATVI  Activision Blizzard  Information Technology        IT"
      ]
     },
     "execution_count": 10,
     "metadata": {},
     "output_type": "execute_result"
    }
   ],
   "source": [
    "import pickle\n",
    "D=pickle.load(open('Tickers.pkl','rb'))\n",
    "TickerInfo=D['TickerInfo']\n",
    "tickers=D['Tickers']\n",
    "TickerInfo.head()"
   ]
  },
  {
   "cell_type": "code",
   "execution_count": 11,
   "metadata": {
    "collapsed": false,
    "deletable": true,
    "editable": true,
    "run_control": {
     "frozen": false,
     "read_only": false
    }
   },
   "outputs": [
    {
     "data": {
      "text/html": [
       "<div>\n",
       "<table border=\"1\" class=\"dataframe\">\n",
       "  <thead>\n",
       "    <tr style=\"text-align: right;\">\n",
       "      <th></th>\n",
       "      <th>Ticker</th>\n",
       "      <th>Name</th>\n",
       "      <th>Sector</th>\n",
       "      <th>SECTOR_ID</th>\n",
       "    </tr>\n",
       "  </thead>\n",
       "  <tbody>\n",
       "    <tr>\n",
       "      <th>41</th>\n",
       "      <td>APC</td>\n",
       "      <td>Anadarko Petroleum|Anadarko Petroleum Corp</td>\n",
       "      <td>Energy</td>\n",
       "      <td>EN</td>\n",
       "    </tr>\n",
       "    <tr>\n",
       "      <th>45</th>\n",
       "      <td>APA</td>\n",
       "      <td>Apache Corporation</td>\n",
       "      <td>Energy</td>\n",
       "      <td>EN</td>\n",
       "    </tr>\n",
       "    <tr>\n",
       "      <th>60</th>\n",
       "      <td>BHI</td>\n",
       "      <td>Baker Hughes Inc</td>\n",
       "      <td>Energy</td>\n",
       "      <td>EN</td>\n",
       "    </tr>\n",
       "    <tr>\n",
       "      <th>83</th>\n",
       "      <td>COG</td>\n",
       "      <td>Cabot Oil &amp; Gas</td>\n",
       "      <td>Energy</td>\n",
       "      <td>EN</td>\n",
       "    </tr>\n",
       "    <tr>\n",
       "      <th>101</th>\n",
       "      <td>CHK</td>\n",
       "      <td>Chesapeake Energy</td>\n",
       "      <td>Energy</td>\n",
       "      <td>EN</td>\n",
       "    </tr>\n",
       "    <tr>\n",
       "      <th>102</th>\n",
       "      <td>CVX</td>\n",
       "      <td>Chevron Corp.</td>\n",
       "      <td>Energy</td>\n",
       "      <td>EN</td>\n",
       "    </tr>\n",
       "    <tr>\n",
       "      <th>107</th>\n",
       "      <td>XEC</td>\n",
       "      <td>Cimarex Energy</td>\n",
       "      <td>Energy</td>\n",
       "      <td>EN</td>\n",
       "    </tr>\n",
       "    <tr>\n",
       "      <th>124</th>\n",
       "      <td>CXO</td>\n",
       "      <td>Concho Resources</td>\n",
       "      <td>Energy</td>\n",
       "      <td>EN</td>\n",
       "    </tr>\n",
       "    <tr>\n",
       "      <th>125</th>\n",
       "      <td>COP</td>\n",
       "      <td>ConocoPhillips</td>\n",
       "      <td>Energy</td>\n",
       "      <td>EN</td>\n",
       "    </tr>\n",
       "    <tr>\n",
       "      <th>145</th>\n",
       "      <td>DVN</td>\n",
       "      <td>Devon Energy</td>\n",
       "      <td>Energy</td>\n",
       "      <td>EN</td>\n",
       "    </tr>\n",
       "    <tr>\n",
       "      <th>172</th>\n",
       "      <td>EOG</td>\n",
       "      <td>EOG Resources</td>\n",
       "      <td>Energy</td>\n",
       "      <td>EN</td>\n",
       "    </tr>\n",
       "    <tr>\n",
       "      <th>173</th>\n",
       "      <td>EQT</td>\n",
       "      <td>EQT Corporation</td>\n",
       "      <td>Energy</td>\n",
       "      <td>EN</td>\n",
       "    </tr>\n",
       "    <tr>\n",
       "      <th>185</th>\n",
       "      <td>XOM</td>\n",
       "      <td>Exxon Mobil Corp.</td>\n",
       "      <td>Energy</td>\n",
       "      <td>EN</td>\n",
       "    </tr>\n",
       "    <tr>\n",
       "      <th>219</th>\n",
       "      <td>HAL</td>\n",
       "      <td>Halliburton Co.</td>\n",
       "      <td>Energy</td>\n",
       "      <td>EN</td>\n",
       "    </tr>\n",
       "    <tr>\n",
       "      <th>227</th>\n",
       "      <td>HP</td>\n",
       "      <td>Helmerich &amp; Payne</td>\n",
       "      <td>Energy</td>\n",
       "      <td>EN</td>\n",
       "    </tr>\n",
       "    <tr>\n",
       "      <th>230</th>\n",
       "      <td>HES</td>\n",
       "      <td>Hess Corporation</td>\n",
       "      <td>Energy</td>\n",
       "      <td>EN</td>\n",
       "    </tr>\n",
       "    <tr>\n",
       "      <th>268</th>\n",
       "      <td>KMI</td>\n",
       "      <td>Kinder Morgan</td>\n",
       "      <td>Energy</td>\n",
       "      <td>EN</td>\n",
       "    </tr>\n",
       "    <tr>\n",
       "      <th>292</th>\n",
       "      <td>MRO</td>\n",
       "      <td>Marathon Oil Corp.</td>\n",
       "      <td>Energy</td>\n",
       "      <td>EN</td>\n",
       "    </tr>\n",
       "    <tr>\n",
       "      <th>293</th>\n",
       "      <td>MPC</td>\n",
       "      <td>Marathon Petroleum</td>\n",
       "      <td>Energy</td>\n",
       "      <td>EN</td>\n",
       "    </tr>\n",
       "    <tr>\n",
       "      <th>322</th>\n",
       "      <td>MUR</td>\n",
       "      <td>Murphy Oil</td>\n",
       "      <td>Energy</td>\n",
       "      <td>EN</td>\n",
       "    </tr>\n",
       "    <tr>\n",
       "      <th>325</th>\n",
       "      <td>NOV</td>\n",
       "      <td>National Oilwell Varco Inc.</td>\n",
       "      <td>Energy</td>\n",
       "      <td>EN</td>\n",
       "    </tr>\n",
       "    <tr>\n",
       "      <th>330</th>\n",
       "      <td>NFX</td>\n",
       "      <td>Newfield Exploration Co</td>\n",
       "      <td>Energy</td>\n",
       "      <td>EN</td>\n",
       "    </tr>\n",
       "    <tr>\n",
       "      <th>338</th>\n",
       "      <td>NBL</td>\n",
       "      <td>Noble Energy Inc</td>\n",
       "      <td>Energy</td>\n",
       "      <td>EN</td>\n",
       "    </tr>\n",
       "    <tr>\n",
       "      <th>347</th>\n",
       "      <td>OXY</td>\n",
       "      <td>Occidental Petroleum</td>\n",
       "      <td>Energy</td>\n",
       "      <td>EN</td>\n",
       "    </tr>\n",
       "    <tr>\n",
       "      <th>349</th>\n",
       "      <td>OKE</td>\n",
       "      <td>ONEOK</td>\n",
       "      <td>Energy</td>\n",
       "      <td>EN</td>\n",
       "    </tr>\n",
       "    <tr>\n",
       "      <th>364</th>\n",
       "      <td>PSX</td>\n",
       "      <td>Phillips 66</td>\n",
       "      <td>Energy</td>\n",
       "      <td>EN</td>\n",
       "    </tr>\n",
       "    <tr>\n",
       "      <th>366</th>\n",
       "      <td>PXD</td>\n",
       "      <td>Pioneer Natural Resources</td>\n",
       "      <td>Energy</td>\n",
       "      <td>EN</td>\n",
       "    </tr>\n",
       "    <tr>\n",
       "      <th>386</th>\n",
       "      <td>RRC</td>\n",
       "      <td>Range Resources|Range Resources Corp.</td>\n",
       "      <td>Energy</td>\n",
       "      <td>EN</td>\n",
       "    </tr>\n",
       "    <tr>\n",
       "      <th>405</th>\n",
       "      <td>SLB</td>\n",
       "      <td>Schlumberger Ltd.</td>\n",
       "      <td>Energy</td>\n",
       "      <td>EN</td>\n",
       "    </tr>\n",
       "    <tr>\n",
       "      <th>433</th>\n",
       "      <td>FTI</td>\n",
       "      <td>TechnipFMC</td>\n",
       "      <td>Energy</td>\n",
       "      <td>EN</td>\n",
       "    </tr>\n",
       "    <tr>\n",
       "      <th>435</th>\n",
       "      <td>TSO</td>\n",
       "      <td>Tesoro Petroleum Co.</td>\n",
       "      <td>Energy</td>\n",
       "      <td>EN</td>\n",
       "    </tr>\n",
       "    <tr>\n",
       "      <th>446</th>\n",
       "      <td>RIG</td>\n",
       "      <td>Transocean</td>\n",
       "      <td>Energy</td>\n",
       "      <td>EN</td>\n",
       "    </tr>\n",
       "    <tr>\n",
       "      <th>466</th>\n",
       "      <td>VLO</td>\n",
       "      <td>Valero Energy</td>\n",
       "      <td>Energy</td>\n",
       "      <td>EN</td>\n",
       "    </tr>\n",
       "    <tr>\n",
       "      <th>491</th>\n",
       "      <td>WMB</td>\n",
       "      <td>Williams Cos.</td>\n",
       "      <td>Energy</td>\n",
       "      <td>EN</td>\n",
       "    </tr>\n",
       "  </tbody>\n",
       "</table>\n",
       "</div>"
      ],
      "text/plain": [
       "    Ticker                                        Name  Sector SECTOR_ID\n",
       "41     APC  Anadarko Petroleum|Anadarko Petroleum Corp  Energy        EN\n",
       "45     APA                          Apache Corporation  Energy        EN\n",
       "60     BHI                            Baker Hughes Inc  Energy        EN\n",
       "83     COG                             Cabot Oil & Gas  Energy        EN\n",
       "101    CHK                           Chesapeake Energy  Energy        EN\n",
       "102    CVX                               Chevron Corp.  Energy        EN\n",
       "107    XEC                              Cimarex Energy  Energy        EN\n",
       "124    CXO                            Concho Resources  Energy        EN\n",
       "125    COP                              ConocoPhillips  Energy        EN\n",
       "145    DVN                                Devon Energy  Energy        EN\n",
       "172    EOG                               EOG Resources  Energy        EN\n",
       "173    EQT                             EQT Corporation  Energy        EN\n",
       "185    XOM                           Exxon Mobil Corp.  Energy        EN\n",
       "219    HAL                             Halliburton Co.  Energy        EN\n",
       "227     HP                           Helmerich & Payne  Energy        EN\n",
       "230    HES                            Hess Corporation  Energy        EN\n",
       "268    KMI                               Kinder Morgan  Energy        EN\n",
       "292    MRO                          Marathon Oil Corp.  Energy        EN\n",
       "293    MPC                          Marathon Petroleum  Energy        EN\n",
       "322    MUR                                  Murphy Oil  Energy        EN\n",
       "325    NOV                 National Oilwell Varco Inc.  Energy        EN\n",
       "330    NFX                     Newfield Exploration Co  Energy        EN\n",
       "338    NBL                            Noble Energy Inc  Energy        EN\n",
       "347    OXY                        Occidental Petroleum  Energy        EN\n",
       "349    OKE                                       ONEOK  Energy        EN\n",
       "364    PSX                                 Phillips 66  Energy        EN\n",
       "366    PXD                   Pioneer Natural Resources  Energy        EN\n",
       "386    RRC       Range Resources|Range Resources Corp.  Energy        EN\n",
       "405    SLB                           Schlumberger Ltd.  Energy        EN\n",
       "433    FTI                                  TechnipFMC  Energy        EN\n",
       "435    TSO                        Tesoro Petroleum Co.  Energy        EN\n",
       "446    RIG                                  Transocean  Energy        EN\n",
       "466    VLO                               Valero Energy  Energy        EN\n",
       "491    WMB                               Williams Cos.  Energy        EN"
      ]
     },
     "execution_count": 11,
     "metadata": {},
     "output_type": "execute_result"
    }
   ],
   "source": [
    "TickerInfo[TickerInfo['SECTOR_ID']=='EN']"
   ]
  },
  {
   "cell_type": "code",
   "execution_count": 12,
   "metadata": {
    "collapsed": false,
    "deletable": true,
    "editable": true,
    "run_control": {
     "frozen": false,
     "read_only": false
    }
   },
   "outputs": [
    {
     "data": {
      "text/plain": [
       "[('AGN', 'HC'), ('EOG', 'EN'), ('CPB', 'CS')]"
      ]
     },
     "execution_count": 12,
     "metadata": {},
     "output_type": "execute_result"
    }
   ],
   "source": [
    "NN=TickerInfo[['Ticker','SECTOR_ID']]\n",
    "Ticker2Sector={ a[1]:a[2] for a in NN.to_records()}\n",
    "Ticker2Sector.items()[:3]"
   ]
  },
  {
   "cell_type": "code",
   "execution_count": 13,
   "metadata": {
    "collapsed": false,
    "deletable": true,
    "editable": true,
    "run_control": {
     "frozen": false,
     "read_only": false
    }
   },
   "outputs": [
    {
     "name": "stdout",
     "output_type": "stream",
     "text": [
      "tickers= 481 good tickers= 392 missing= 89\n"
     ]
    }
   ],
   "source": [
    "sectors=[]\n",
    "missing=[]\n",
    "good_tickers=[]\n",
    "for a in tickers:\n",
    "    if a in Ticker2Sector:\n",
    "        good_tickers.append(a)\n",
    "        b=Ticker2Sector[a] \n",
    "    else:\n",
    "        b=a\n",
    "        missing.append(a)\n",
    "    sectors.append(b)\n",
    "\n",
    "print 'tickers=',len(tickers),'good tickers=',len(good_tickers),'missing=',len(missing)\n",
    "\n"
   ]
  },
  {
   "cell_type": "code",
   "execution_count": 14,
   "metadata": {
    "collapsed": false,
    "deletable": true,
    "editable": true,
    "run_control": {
     "frozen": false,
     "read_only": false
    }
   },
   "outputs": [
    {
     "data": {
      "text/plain": [
       "(481, 481)"
      ]
     },
     "execution_count": 14,
     "metadata": {},
     "output_type": "execute_result"
    }
   ],
   "source": [
    "len(sectors),len(tickers)"
   ]
  },
  {
   "cell_type": "code",
   "execution_count": 26,
   "metadata": {
    "collapsed": false,
    "deletable": true,
    "editable": true,
    "run_control": {
     "frozen": false,
     "read_only": false
    }
   },
   "outputs": [],
   "source": [
    "# Generate the scatter plot of the stocks on a pair of eigen-vectors defined by i0,i1\n",
    "def Scatter_Stocks(i0=0,i1=1):\n",
    "    fig, ax = plt.subplots(figsize=(20,20))  # In order that the stock ticker names are readable we make the plot very large\n",
    "    plt.xlim([np.amin(eigvec[:,i0]),np.amax(eigvec[:,i0])])\n",
    "    plt.ylim([np.amin(eigvec[:,i1]),np.amax(eigvec[:,i1])])\n",
    "    plt.title('SP500 stocks scatter on '+str(i0)+', '+str(i1),fontsize=20)\n",
    "    plt.xlabel('Coeff %d'%i0)\n",
    "    plt.ylabel('Coeff %d'%i1)\n",
    "    for i in range(len(tickers)):\n",
    "        #ax.annotate(tickers[i], (eigvec[i0,i],eigvec[i1,i]),fontsize=10)\n",
    "        ax.annotate(sectors[i], (eigvec[i,i0],eigvec[i,i1]),fontsize=10);\n",
    "    # This very large plot is hard to view and manipulate inside the notebook. We therefor export it into a pdf file\n",
    "    fig.savefig('scatter.'+str(i0)+'.'+str(i1)+'.pdf', format='PDF');\n",
    "    # After exporting, we clear the figure so that the plot does not appear in the notebook.\n",
    "    fig.clear();"
   ]
  },
  {
   "cell_type": "code",
   "execution_count": 27,
   "metadata": {
    "collapsed": false,
    "deletable": true,
    "editable": true,
    "run_control": {
     "frozen": false,
     "read_only": false
    }
   },
   "outputs": [
    {
     "data": {
      "text/plain": [
       "<matplotlib.figure.Figure at 0x11efcf990>"
      ]
     },
     "metadata": {},
     "output_type": "display_data"
    },
    {
     "data": {
      "text/plain": [
       "<matplotlib.figure.Figure at 0x11ef50b90>"
      ]
     },
     "metadata": {},
     "output_type": "display_data"
    },
    {
     "data": {
      "text/plain": [
       "<matplotlib.figure.Figure at 0x119de0fd0>"
      ]
     },
     "metadata": {},
     "output_type": "display_data"
    },
    {
     "data": {
      "text/plain": [
       "<matplotlib.figure.Figure at 0x11ab66750>"
      ]
     },
     "metadata": {},
     "output_type": "display_data"
    },
    {
     "data": {
      "text/plain": [
       "<matplotlib.figure.Figure at 0x11aa6efd0>"
      ]
     },
     "metadata": {},
     "output_type": "display_data"
    },
    {
     "data": {
      "text/plain": [
       "<matplotlib.figure.Figure at 0x11aa5a350>"
      ]
     },
     "metadata": {},
     "output_type": "display_data"
    }
   ],
   "source": [
    "!rm *.pdf\n",
    "for i0 in range(4):\n",
    "    for i1 in range(i0):\n",
    "        Scatter_Stocks(i0,i1)\n",
    "!open *.pdf"
   ]
  },
  {
   "cell_type": "code",
   "execution_count": 28,
   "metadata": {
    "collapsed": false,
    "deletable": true,
    "editable": true,
    "run_control": {
     "frozen": false,
     "read_only": false
    }
   },
   "outputs": [
    {
     "name": "stdout",
     "output_type": "stream",
     "text": [
      "-rw-r--r--@ 1 yoavfreund  staff  25723 Jun  6 13:18 scatter.1.0.pdf\r\n",
      "-rw-r--r--@ 1 yoavfreund  staff  25705 Jun  6 13:18 scatter.2.0.pdf\r\n",
      "-rw-r--r--@ 1 yoavfreund  staff  23856 Jun  6 13:18 scatter.2.1.pdf\r\n",
      "-rw-r--r--@ 1 yoavfreund  staff  25751 Jun  6 13:18 scatter.3.0.pdf\r\n",
      "-rw-r--r--@ 1 yoavfreund  staff  23976 Jun  6 13:18 scatter.3.1.pdf\r\n",
      "-rw-r--r--@ 1 yoavfreund  staff  24327 Jun  6 13:18 scatter.3.2.pdf\r\n"
     ]
    }
   ],
   "source": [
    "!ls -l *.pdf"
   ]
  },
  {
   "cell_type": "markdown",
   "metadata": {
    "deletable": true,
    "editable": true,
    "run_control": {
     "frozen": false,
     "read_only": false
    }
   },
   "source": [
    "### Performing K-NN on sectors."
   ]
  },
  {
   "cell_type": "code",
   "execution_count": 32,
   "metadata": {
    "collapsed": false,
    "deletable": true,
    "editable": true,
    "run_control": {
     "frozen": false,
     "read_only": false
    }
   },
   "outputs": [
    {
     "data": {
      "text/plain": [
       "(481, 481)"
      ]
     },
     "execution_count": 32,
     "metadata": {},
     "output_type": "execute_result"
    }
   ],
   "source": [
    "eigvec.shape"
   ]
  },
  {
   "cell_type": "code",
   "execution_count": 33,
   "metadata": {
    "collapsed": true,
    "deletable": true,
    "editable": true,
    "run_control": {
     "frozen": false,
     "read_only": false
    }
   },
   "outputs": [],
   "source": [
    "Tick_rep={}\n",
    "for i in range(len(tickers)):\n",
    "    Tick_rep[tickers[i]]=eigvec[i,:]"
   ]
  },
  {
   "cell_type": "code",
   "execution_count": 34,
   "metadata": {
    "collapsed": false,
    "deletable": true,
    "editable": true,
    "run_control": {
     "frozen": false,
     "read_only": false
    }
   },
   "outputs": [
    {
     "data": {
      "text/plain": [
       "481"
      ]
     },
     "execution_count": 34,
     "metadata": {},
     "output_type": "execute_result"
    }
   ],
   "source": [
    "len(sectors)"
   ]
  },
  {
   "cell_type": "code",
   "execution_count": 130,
   "metadata": {
    "collapsed": false,
    "deletable": true,
    "editable": true,
    "run_control": {
     "frozen": false,
     "read_only": false
    }
   },
   "outputs": [],
   "source": [
    "d=20\n",
    "k=5\n",
    "T='HAL'\n",
    "def find_closest(T,d=10,k=10):\n",
    "    v=np.array([Tick_rep[T][:d]])\n",
    "    g=eigvec[:,:d]\n",
    "    v.shape, g.shape\n",
    "    D=g-v\n",
    "\n",
    "    A=sum(D**2,axis=1)\n",
    "    paired=zip(tickers,sectors,A)\n",
    "    return sorted(paired,key=lambda x:x[2])[:k+1]"
   ]
  },
  {
   "cell_type": "code",
   "execution_count": 131,
   "metadata": {
    "collapsed": true,
    "deletable": true,
    "editable": true,
    "run_control": {
     "frozen": false,
     "read_only": false
    }
   },
   "outputs": [],
   "source": [
    "from collections import Counter"
   ]
  },
  {
   "cell_type": "code",
   "execution_count": 136,
   "metadata": {
    "collapsed": false,
    "deletable": true,
    "editable": true,
    "run_control": {
     "frozen": false,
     "read_only": false
    }
   },
   "outputs": [],
   "source": [
    "def correct_vote(ticker):\n",
    "    closest=find_closest(ticker)\n",
    "    self_sector=closest[0][1]\n",
    "    Votes=Counter([a[1] for a in closest[1:]])\n",
    "    sVotes=sorted(Votes.items(),key=lambda x:x[1],reverse=True)\n",
    "    return self_sector,sVotes[0][0],sVotes"
   ]
  },
  {
   "cell_type": "code",
   "execution_count": 137,
   "metadata": {
    "collapsed": false,
    "deletable": true,
    "editable": true,
    "run_control": {
     "frozen": false,
     "read_only": false
    }
   },
   "outputs": [
    {
     "data": {
      "text/plain": [
       "('CD', 'IT', [('IT', 4), ('FIN', 2), ('CD', 2), ('CS', 1), ('RE', 1)])"
      ]
     },
     "execution_count": 137,
     "metadata": {},
     "output_type": "execute_result"
    }
   ],
   "source": [
    "correct_vote('AMZN')"
   ]
  },
  {
   "cell_type": "code",
   "execution_count": 139,
   "metadata": {
    "collapsed": false,
    "deletable": true,
    "editable": true,
    "run_control": {
     "frozen": false,
     "read_only": false
    }
   },
   "outputs": [
    {
     "name": "stdout",
     "output_type": "stream",
     "text": [
      "WLP [('CS', 3), ('INDS', 2), ('HC', 2), ('RE', 1), ('HSP', 1), ('DTV', 1)]\n",
      "YUM [('IT', 2), ('CD', 2), ('CS', 2), ('INDS', 1), ('DF', 1), ('RE', 1), ('HC', 1)]\n",
      "BWA [('INDS', 3), ('MAT', 2), ('CD', 2), ('HOT', 1), ('X', 1), ('EMC', 1)]\n",
      "WM [('CS', 4), ('INDS', 2), ('DF', 1), ('IT', 1), ('CD', 1), ('RE', 1)]\n",
      "FIS [('INDS', 2), ('CD', 2), ('TWC', 1), ('WIN', 1), ('IT', 1), ('RE', 1), ('CS', 1), ('DTV', 1)]\n",
      "GT [('INDS', 4), ('MAT', 3), ('AA', 1), ('RE', 1), ('UTIL', 1)]\n",
      "MJN [('CD', 2), ('RE', 2), ('CFN', 1), ('ADT', 1), ('EN', 1), ('INDS', 1), ('IT', 1), ('HC', 1)]\n",
      "AMZN [('IT', 4), ('FIN', 2), ('CD', 2), ('CS', 1), ('RE', 1)]\n",
      "FII [('FIN', 5), ('RE', 3), ('IT', 2)]\n",
      "MAT [('MAT', 2), ('INDS', 2), ('CD', 2), ('EN', 1), ('BEAM', 1), ('BMS', 1), ('THC', 1)]\n",
      "SNA [('INDS', 3), ('MAT', 2), ('CD', 2), ('EN', 1), ('BMS', 1), ('THC', 1)]\n",
      "SNI [('IT', 2), ('CD', 2), ('CS', 2), ('TWC', 1), ('WIN', 1), ('HSP', 1), ('DTV', 1)]\n",
      "XYL [('IT', 2), ('CD', 2), ('RE', 2), ('ADT', 1), ('EN', 1), ('CS', 1), ('HC', 1)]\n",
      "PCL [('RE', 4), ('FIN', 2), ('MAT', 2), ('CD', 1), ('IT', 1)]\n",
      "DTV [('CD', 3), ('CS', 2), ('TWC', 1), ('INDS', 1), ('WIN', 1), ('IT', 1), ('HSP', 1)]\n",
      "APOL [('INDS', 4), ('IT', 2), ('HC', 2), ('UTIL', 1), ('CS', 1)]\n",
      "LSI [('IT', 6), ('JOY', 1), ('TER', 1), ('LLTC', 1), ('HC', 1)]\n",
      "PCLN [('IT', 7), ('RE', 2), ('CD', 1)]\n",
      "FSLR [('IT', 3), ('INDS', 2), ('CD', 2), ('ANF', 1), ('EN', 1), ('MAT', 1)]\n",
      "IGT [('INDS', 3), ('CD', 2), ('MAT', 1), ('PCL', 1), ('ARG', 1), ('CS', 1), ('SIAL', 1)]\n",
      "MA [('FIN', 4), ('IT', 3), ('CD', 3)]\n",
      "CBG [('FIN', 3), ('RE', 3), ('CD', 3), ('BRCM', 1)]\n",
      "MO [('HC', 5), ('CS', 2), ('AVP', 1), ('MAT', 1), ('INDS', 1)]\n",
      "CBS [('FIN', 4), ('IT', 3), ('CD', 3)]\n",
      "SE [('IT', 2), ('CD', 2), ('CS', 2), ('WIN', 1), ('UTIL', 1), ('LO', 1), ('DTV', 1)]\n",
      "COST [('CD', 6), ('CS', 2), ('KRFT', 1), ('FDO', 1)]\n",
      "CTL [('CS', 5), ('FIN', 2), ('DF', 1), ('PLL', 1), ('INDS', 1)]\n",
      "DOW [('INDS', 5), ('MAT', 2), ('AA', 1), ('RE', 1), ('CD', 1)]\n",
      "FCX [('BTU', 1), ('ANF', 1), ('EN', 1), ('MAT', 1), ('INDS', 1), ('IT', 1), ('CNX', 1), ('ATI', 1), ('HC', 1), ('FSLR', 1)]\n",
      "WHR [('INDS', 4), ('MAT', 2), ('CD', 2), ('MWV', 1), ('THC', 1)]\n",
      "F [('INDS', 4), ('MAT', 3), ('RE', 1), ('CD', 1), ('IT', 1)]\n",
      "DFS [('RE', 5), ('FIN', 4), ('MAT', 1)]\n",
      "FMC [('INDS', 3), ('CD', 2), ('MAT', 2), ('MWV', 1), ('EMC', 1), ('RRD', 1)]\n",
      "IBM [('INDS', 5), ('IT', 2), ('CD', 2), ('PBI', 1)]\n",
      "CAT [('MAT', 3), ('INDS', 3), ('AA', 1), ('CD', 1), ('UTIL', 1), ('RE', 1)]\n",
      "CAM [('EN', 6), ('DO', 1), ('IT', 1), ('NE', 1), ('NBR', 1)]\n",
      "LM [('FIN', 7), ('RE', 2), ('FII', 1)]\n",
      "A [('IT', 4), ('INDS', 4), ('HC', 1), ('EN', 1)]\n",
      "STJ [('HC', 8), ('FRX', 1), ('CD', 1)]\n",
      "XOM [('INDS', 3), ('CS', 2), ('EN', 1), ('GNW', 1), ('AVP', 1), ('UTIL', 1), ('MAT', 1)]\n",
      "STX [('INDS', 3), ('CD', 3), ('IT', 2), ('EN', 1), ('FSLR', 1)]\n",
      "CFN [('CD', 2), ('RE', 2), ('ADT', 1), ('EN', 1), ('INDS', 1), ('IT', 1), ('CS', 1), ('HC', 1)]\n",
      "LO [('CS', 4), ('CFN', 1), ('EN', 1), ('IT', 1), ('CD', 1), ('RE', 1), ('HC', 1)]\n",
      "URBN [('CD', 7), ('PETM', 1), ('HC', 1), ('FIN', 1)]\n",
      "HRS [('INDS', 4), ('MAT', 1), ('DNB', 1), ('RRD', 1), ('CSC', 1), ('BEAM', 1), ('HC', 1)]\n",
      "HRB [('CS', 5), ('EN', 1), ('MAT', 1), ('FHN', 1), ('CCE', 1), ('FIN', 1)]\n",
      "IPG [('IT', 4), ('INDS', 2), ('PCP', 1), ('GME', 1), ('HCBK', 1), ('CS', 1)]\n",
      "TYC [('UTIL', 3), ('RE', 2), ('EN', 1), ('INDS', 1), ('TS', 1), ('CD', 1), ('CVC', 1)]\n",
      "RHI [('CD', 3), ('INDS', 2), ('FOSL', 1), ('PCP', 1), ('IT', 1), ('HCBK', 1), ('HC', 1)]\n",
      "APH [('INDS', 4), ('HC', 2), ('EN', 1), ('PCP', 1), ('IT', 1), ('HCBK', 1)]\n",
      "WFM [('IT', 3), ('CD', 3), ('INDS', 2), ('UTIL', 1), ('HC', 1)]\n",
      "BMS [('MAT', 4), ('CD', 3), ('BEAM', 1), ('EN', 1), ('INDS', 1)]\n",
      "EL [('INDS', 3), ('IT', 2), ('CD', 2), ('DF', 1), ('RE', 1), ('CS', 1)]\n",
      "PAYX [('INDS', 2), ('CS', 2), ('SWY', 1), ('FHN', 1), ('IT', 1), ('UTIL', 1), ('HC', 1), ('PLL', 1)]\n",
      "SHW [('CD', 6), ('CS', 1), ('BMS', 1), ('EN', 1), ('MAT', 1)]\n",
      "GCI [('INDS', 2), ('CD', 2), ('MWV', 1), ('BEAM', 1), ('RRD', 1), ('RE', 1), ('BMS', 1), ('MAT', 1)]\n",
      "CSC [('INDS', 3), ('IT', 2), ('MAT', 1), ('DNB', 1), ('CD', 1), ('BEAM', 1), ('HC', 1)]\n",
      "EW [('CS', 4), ('INDS', 2), ('WLP', 1), ('RE', 1), ('HSP', 1), ('HC', 1)]\n",
      "BTU [('MAT', 2), ('ANF', 1), ('EN', 1), ('INDS', 1), ('IT', 1), ('CNX', 1), ('ATI', 1), ('HC', 1), ('FSLR', 1)]\n",
      "LUV [('CD', 3), ('INDS', 2), ('MAT', 1), ('DNB', 1), ('IT', 1), ('BEAM', 1), ('CS', 1)]\n",
      "ATI [('MAT', 2), ('INDS', 2), ('BTU', 1), ('ANF', 1), ('CLF', 1), ('IT', 1), ('HC', 1), ('FSLR', 1)]\n",
      "WYN [('RE', 3), ('FIN', 3), ('CD', 3), ('BRCM', 1)]\n",
      "JBL [('IT', 4), ('HC', 3), ('CS', 1), ('S', 1), ('SNDK', 1)]\n",
      "WPX [('IT', 2), ('CD', 2), ('RE', 2), ('ADT', 1), ('EN', 1), ('INDS', 1), ('HC', 1)]\n",
      "ECL [('CS', 3), ('MAT', 2), ('INDS', 2), ('IT', 1), ('HC', 1), ('SIAL', 1)]\n",
      "SNDK [('IT', 5), ('HC', 3), ('CS', 1), ('JBL', 1)]\n",
      "SEE [('INDS', 3), ('CD', 3), ('EN', 1), ('MAT', 1), ('HCBK', 1), ('HC', 1)]\n",
      "NUE [('INDS', 6), ('UTIL', 1), ('THC', 1), ('MAT', 1), ('MWV', 1)]\n",
      "PCP [('INDS', 3), ('CD', 2), ('EMC', 1), ('IT', 1), ('HCBK', 1), ('HC', 1), ('MAT', 1)]\n",
      "ETFC [('IT', 3), ('CD', 3), ('FIN', 2), ('CS', 1), ('EN', 1)]\n",
      "CLF [('MAT', 2), ('BTU', 1), ('ANF', 1), ('INDS', 1), ('IT', 1), ('CNX', 1), ('ATI', 1), ('HC', 1), ('FSLR', 1)]\n",
      "FDO [('CD', 8), ('CS', 1), ('KRFT', 1)]\n",
      "FRX [('HC', 7), ('MAT', 1), ('STJ', 1), ('CD', 1)]\n",
      "TRIP [('RE', 2), ('CFN', 1), ('ADT', 1), ('EN', 1), ('INDS', 1), ('IT', 1), ('CD', 1), ('CS', 1), ('HC', 1)]\n",
      "OMC [('IT', 3), ('CS', 2), ('INDS', 1), ('DF', 1), ('CD', 1), ('RE', 1), ('HC', 1)]\n",
      "KO [('HC', 3), ('CS', 2), ('JDSU', 1), ('MAT', 1), ('INDS', 1), ('AVP', 1), ('CD', 1)]\n",
      "VMC [('CD', 4), ('MAT', 1), ('EMC', 1), ('HOT', 1), ('HCBK', 1), ('FIN', 1), ('PCL', 1)]\n",
      "NU [('UTIL', 6), ('POM', 1), ('GAS', 1), ('TE', 1), ('TEG', 1)]\n",
      "ITW [('MAT', 3), ('INDS', 2), ('CD', 2), ('EN', 1), ('BMS', 1), ('HC', 1)]\n",
      "DO [('EN', 6), ('NBR', 1), ('NE', 1), ('CAM', 1), ('ESV', 1)]\n",
      "RSG [('CS', 5), ('INDS', 1), ('DF', 1), ('IT', 1), ('RE', 1), ('HSP', 1)]\n",
      "SWN [('EN', 8), ('IT', 1), ('DNR', 1)]\n",
      "DF [('CS', 5), ('INDS', 2), ('RE', 1), ('IT', 1), ('CD', 1)]\n",
      "DG [('RE', 2), ('CFN', 1), ('ADT', 1), ('EN', 1), ('INDS', 1), ('IT', 1), ('CD', 1), ('CS', 1), ('HC', 1)]\n",
      "DD [('INDS', 6), ('MAT', 2), ('UTIL', 1), ('RE', 1)]\n",
      "DE [('MAT', 3), ('INDS', 3), ('AA', 1), ('CD', 1), ('UTIL', 1), ('RE', 1)]\n",
      "SWY [('FIN', 3), ('CS', 2), ('FHN', 1), ('INDS', 1), ('TS', 1), ('UTIL', 1), ('PLL', 1)]\n",
      "BIG [('CD', 6), ('FDO', 1), ('JCP', 1), ('KRFT', 1), ('INDS', 1)]\n",
      "POM [('UTIL', 5), ('FTR', 1), ('GAS', 1), ('TEG', 1), ('TE', 1), ('NU', 1)]\n",
      "BEAM [('MAT', 4), ('CD', 2), ('INDS', 1), ('DNB', 1), ('RRD', 1), ('BMS', 1)]\n",
      "DHR [('MAT', 2), ('INDS', 2), ('EN', 1), ('CD', 1), ('HCBK', 1), ('ARG', 1), ('CS', 1), ('HC', 1)]\n",
      "MCO [('RE', 3), ('INDS', 2), ('CD', 2), ('IT', 1), ('PCL', 1), ('FII', 1)]\n",
      "MCD [('INDS', 3), ('CS', 3), ('MAT', 1), ('AVP', 1), ('CD', 1), ('PBI', 1)]\n",
      "NRG [('IT', 3), ('CD', 3), ('EN', 1), ('WIN', 1), ('DTV', 1), ('SE', 1)]\n",
      "VTR [('FIN', 5), ('RE', 3), ('FII', 1), ('IT', 1)]\n",
      "AXP [('INDS', 2), ('CD', 2), ('HC', 2), ('FIN', 2), ('IT', 1), ('CS', 1)]\n",
      "NFLX [('INDS', 2), ('IT', 2), ('EN', 1), ('OI', 1), ('PCP', 1), ('GME', 1), ('CD', 1), ('FIN', 1)]\n",
      "SRCL [('CS', 3), ('HC', 2), ('IT', 2), ('INDS', 2), ('DF', 1)]\n",
      "WU [('CD', 4), ('IT', 3), ('TWC', 1), ('WIN', 1), ('INDS', 1)]\n",
      "WY [('INDS', 6), ('MAT', 3), ('CD', 1)]\n",
      "HSP [('CD', 3), ('CS', 2), ('TWC', 1), ('MAT', 1), ('INDS', 1), ('IT', 1), ('DTV', 1)]\n",
      "HST [('INDS', 2), ('CD', 2), ('MAT', 1), ('GCI', 1), ('RE', 1), ('PCL', 1), ('FIN', 1), ('MWV', 1)]\n",
      "CTSH [('HC', 3), ('INDS', 2), ('IT', 2), ('MAT', 1), ('COV', 1), ('FIN', 1)]\n",
      "GPC [('MAT', 4), ('EN', 1), ('INDS', 1), ('DNB', 1), ('CD', 1), ('BEAM', 1), ('BMS', 1)]\n",
      "PDCO [('INDS', 3), ('MAT', 2), ('ANF', 1), ('CLF', 1), ('IT', 1), ('ATI', 1), ('FSLR', 1)]\n",
      "X [('INDS', 3), ('MAT', 2), ('CD', 2), ('FOSL', 1), ('EMC', 1), ('HOT', 1)]\n",
      "HAR [('INDS', 3), ('HC', 3), ('BEAM', 1), ('UTIL', 1), ('QEP', 1), ('CCE', 1)]\n",
      "THC [('INDS', 4), ('MAT', 2), ('CD', 2), ('BMS', 1), ('EN', 1)]\n",
      "PH [('CD', 6), ('CS', 1), ('JCP', 1), ('KRFT', 1), ('FDO', 1)]\n",
      "PHM [('HC', 8), ('FRX', 1), ('STJ', 1)]\n",
      "SYK [('IT', 7), ('HC', 1), ('JBL', 1), ('SNDK', 1)]\n",
      "BRCM [('RE', 6), ('CD', 2), ('FIN', 1), ('MAT', 1)]\n",
      "KIM [('CS', 6), ('EN', 1), ('IT', 1), ('JDSU', 1), ('MAT', 1)]\n",
      "SYY [('UTIL', 8), ('ALTR', 1), ('CD', 1)]\n",
      "AES [('HC', 6), ('INDS', 2), ('HAR', 1), ('QEP', 1)]\n",
      "AET [('IT', 4), ('JOY', 1), ('CD', 1), ('DELL', 1), ('S', 1), ('JBL', 1), ('FIN', 1)]\n",
      "EMC [('CD', 4), ('INDS', 3), ('IT', 1), ('MAT', 1), ('HCBK', 1)]\n",
      "EMN [('HC', 7), ('CD', 1), ('FRX', 1), ('COV', 1)]\n",
      "ESRX [('IT', 7), ('TER', 1), ('LLTC', 1), ('LSI', 1)]\n",
      "AMAT [('TS', 2), ('GCI', 1), ('WIN', 1), ('IT', 1), ('RE', 1), ('CD', 1), ('HC', 1), ('PLL', 1), ('FIN', 1)]\n",
      "FTR [('UTIL', 5), ('GAS', 1), ('TEG', 1), ('POM', 1), ('TE', 1), ('NU', 1)]\n",
      "AEE [('IT', 3), ('INDS', 2), ('FHN', 1), ('SWY', 1), ('CS', 1), ('HC', 1), ('SIAL', 1)]\n",
      "FDX [('CD', 4), ('IT', 2), ('INDS', 2), ('EMC', 1), ('EN', 1)]\n",
      "CRM [('CD', 2), ('RE', 2), ('ADT', 1), ('EN', 1), ('WPX', 1), ('INDS', 1), ('IT', 1), ('HC', 1)]\n",
      "NWSA [('MAT', 3), ('INDS', 2), ('EMC', 1), ('PCP', 1), ('HCBK', 1), ('ARG', 1), ('HC', 1)]\n",
      "PX [('CS', 3), ('HC', 3), ('JDSU', 1), ('INDS', 1), ('AVP', 1), ('RE', 1)]\n",
      "PG [('IT', 5), ('HC', 2), ('S', 1), ('JBL', 1), ('CD', 1)]\n",
      "CTXS [('CS', 4), ('CFN', 1), ('TWC', 1), ('LO', 1), ('CD', 1), ('HSP', 1), ('WIN', 1)]\n",
      "PM [('MAT', 2), ('CD', 2), ('HC', 2), ('EN', 1), ('INDS', 1), ('CS', 1), ('FIN', 1)]\n",
      "EFX [('FIN', 10)]\n",
      "C [('TS', 2), ('IT', 2), ('CS', 2), ('EN', 1), ('WIN', 1), ('RE', 1), ('SE', 1)]\n",
      "S [('IT', 4), ('INDS', 1), ('JOY', 1), ('CD', 1), ('CS', 1), ('HC', 1), ('JBL', 1)]\n",
      "QCOM [('INDS', 5), ('MAT', 1), ('IT', 1), ('CSC', 1), ('UTIL', 1), ('PBI', 1)]\n",
      "XRX [('CD', 7), ('PETM', 1), ('HC', 1), ('URBN', 1)]\n",
      "ANF [('INDS', 3), ('MAT', 2), ('IT', 2), ('ATI', 1), ('HC', 1), ('FSLR', 1)]\n",
      "MOS [('RE', 6), ('FIN', 2), ('BRCM', 1), ('PCL', 1)]\n",
      "PSA [('IT', 2), ('CD', 2), ('ADT', 1), ('EN', 1), ('WPX', 1), ('INDS', 1), ('RE', 1), ('HC', 1)]\n",
      "PSX [('INDS', 4), ('CD', 3), ('IT', 2), ('DTV', 1)]\n",
      "MON [('IT', 2), ('BTU', 1), ('ANF', 1), ('MAT', 1), ('INDS', 1), ('CLF', 1), ('ATI', 1), ('HC', 1), ('FSLR', 1)]\n",
      "JOY [('IT', 6), ('HC', 1), ('DELL', 1), ('LLTC', 1), ('LSI', 1)]\n",
      "ALTR [('UTIL', 8), ('CS', 1), ('CD', 1)]\n",
      "ETR [('EN', 9), ('GNW', 1)]\n",
      "DVN [('CS', 8), ('CCE', 1), ('IT', 1)]\n",
      "KMB [('CD', 2), ('CS', 2), ('TWC', 1), ('LO', 1), ('IT', 1), ('HSP', 1), ('WIN', 1), ('DTV', 1)]\n",
      "COV [('HC', 7), ('MAT', 2), ('FRX', 1)]\n",
      "DVA [('IT', 2), ('CD', 2), ('RE', 2), ('ADT', 1), ('EN', 1), ('INDS', 1), ('CS', 1)]\n",
      "KMI [('INDS', 3), ('CD', 3), ('MAT', 1), ('BMS', 1), ('HC', 1), ('THC', 1)]\n",
      "FISV [('EN', 9), ('SWN', 1)]\n",
      "COG [('FIN', 9), ('CD', 1)]\n",
      "COF [('CD', 3), ('FOSL', 1), ('MAT', 1), ('PCP', 1), ('IT', 1), ('GME', 1), ('HOT', 1), ('HC', 1)]\n",
      "COH [('UTIL', 8), ('CS', 1), ('ALTR', 1)]\n",
      "PEG [('INDS', 9), ('MAT', 1)]\n",
      "ETN [('IT', 2), ('CD', 2), ('TWC', 1), ('EN', 1), ('INDS', 1), ('RE', 1), ('CS', 1), ('DTV', 1)]\n",
      "COL [('HC', 4), ('CS', 2), ('JDSU', 1), ('RE', 1), ('IT', 1), ('CCE', 1)]\n",
      "BCR [('CD', 5), ('URBN', 1), ('INDS', 1), ('HOT', 1), ('FIN', 1), ('MAT', 1)]\n",
      "QEP [('HC', 3), ('INDS', 2), ('WLP', 1), ('UTIL', 1), ('CCE', 1), ('HAR', 1), ('FIN', 1)]\n",
      "CI [('IT', 5), ('HC', 2), ('CS', 1), ('JBL', 1), ('SNDK', 1)]\n",
      "JDSU [('CS', 6), ('RE', 1), ('MAT', 1), ('INDS', 1), ('IT', 1)]\n",
      "WAG [('FIN', 8), ('CS', 1), ('CCE', 1)]\n",
      "CB [('IT', 7), ('CS', 2), ('CSC', 1)]\n",
      "CA [('MAT', 2), ('INDS', 2), ('ANF', 1), ('EN', 1), ('IT', 1), ('ATI', 1), ('HC', 1), ('FSLR', 1)]\n",
      "CF [('HC', 6), ('INDS', 2), ('CS', 1), ('COV', 1)]\n",
      "WAT [('INDS', 4), ('IT', 2), ('CD', 1), ('RE', 1), ('HCBK', 1), ('CS', 1)]\n",
      "CHRW [('CD', 4), ('IT', 2), ('TWC', 1), ('MAT', 1), ('HSP', 1), ('CS', 1)]\n",
      "TDC [('INDS', 3), ('CD', 2), ('CS', 2), ('APOL', 1), ('IT', 1), ('UTIL', 1)]\n",
      "SBUX [('RE', 6), ('FIN', 2), ('BRCM', 1), ('CD', 1)]\n",
      "HCBK [('INDS', 2), ('HC', 2), ('MAT', 2), ('EMC', 1), ('PCP', 1), ('IT', 1), ('CD', 1)]\n",
      "PLL [('FIN', 3), ('CS', 2), ('UTIL', 1), ('INDS', 1), ('TS', 1), ('IT', 1), ('SWY', 1)]\n",
      "CMCSA [('FIN', 9), ('SLM', 1)]\n",
      "FHN [('CS', 4), ('MAT', 1), ('INDS', 1), ('SWY', 1), ('CCE', 1), ('SIAL', 1), ('FIN', 1)]\n",
      "MKC [('FIN', 8), ('RE', 2)]\n",
      "GNW [('EN', 5), ('INDS', 2), ('UTIL', 1), ('CS', 1), ('AVP', 1)]\n",
      "CVX [('FIN', 4), ('IT', 3), ('CD', 3)]\n",
      "AIZ [('RE', 6), ('FIN', 2), ('BRCM', 1), ('MAT', 1)]\n",
      "AIV [('IT', 2), ('CD', 2), ('CFN', 1), ('ADT', 1), ('INDS', 1), ('RE', 1), ('CS', 1), ('HC', 1)]\n",
      "KRFT [('CD', 7), ('CS', 1), ('INDS', 1), ('FDO', 1)]\n",
      "LOW [('IT', 7), ('PBI', 1), ('INDS', 1), ('CD', 1)]\n",
      "CVC [('UTIL', 6), ('EN', 2), ('RE', 1), ('TYC', 1)]\n",
      "DIS [('INDS', 5), ('MAT', 1), ('AVP', 1), ('IT', 1), ('CD', 1), ('PBI', 1)]\n",
      "PPG [('INDS', 3), ('CD', 3), ('MWV', 1), ('BMS', 1), ('THC', 1), ('MAT', 1)]\n",
      "MNST [('INDS', 5), ('HC', 2), ('IT', 2), ('RE', 1)]\n",
      "GAS [('UTIL', 5), ('FTR', 1), ('TEG', 1), ('POM', 1), ('TE', 1), ('NU', 1)]\n",
      "OKE [('UTIL', 4), ('EN', 1), ('FTR', 1), ('GAS', 1), ('TEG', 1), ('POM', 1), ('NU', 1)]\n",
      "GOOG [('CD', 2), ('RE', 2), ('ADT', 1), ('EN', 1), ('WPX', 1), ('INDS', 1), ('IT', 1), ('HC', 1)]\n",
      "JCP [('CD', 7), ('INDS', 2), ('KRFT', 1)]\n",
      "IP [('INDS', 5), ('MAT', 2), ('AA', 1), ('RE', 1), ('CD', 1)]\n",
      "IRM [('INDS', 4), ('CS', 3), ('IT', 2), ('DF', 1)]\n",
      "PWR [('IT', 3), ('INDS', 2), ('EN', 1), ('PCP', 1), ('RE', 1), ('HC', 1), ('FIN', 1)]\n",
      "ARG [('MAT', 3), ('INDS', 2), ('CD', 2), ('EN', 1), ('HCBK', 1), ('HC', 1)]\n",
      "CCI [('IT', 4), ('CD', 2), ('INDS', 1), ('RE', 1), ('HC', 1), ('FIN', 1)]\n",
      "CCE [('CS', 7), ('EN', 1), ('FIN', 1), ('IT', 1)]\n",
      "FLIR [('INDS', 4), ('CD', 2), ('IT', 1), ('RE', 1), ('CS', 1), ('HC', 1)]\n",
      "LYB [('CD', 3), ('INDS', 2), ('CS', 2), ('CFN', 1), ('EN', 1), ('HC', 1)]\n",
      "SIAL [('INDS', 2), ('IT', 2), ('CS', 2), ('FHN', 1), ('MAT', 1), ('HCBK', 1), ('HC', 1)]\n",
      "WMT [('INDS', 3), ('CD', 3), ('CS', 2), ('RE', 1), ('JDSU', 1)]\n",
      "VZ [('CS', 6), ('TS', 2), ('EN', 1), ('FIN', 1)]\n",
      "T [('CS', 6), ('TS', 2), ('UTIL', 1), ('FIN', 1)]\n",
      "WMB [('UTIL', 8), ('CS', 1), ('ALTR', 1)]\n",
      "OI [('CD', 4), ('EMC', 1), ('INDS', 1), ('GME', 1), ('HCBK', 1), ('PCL', 1), ('MAT', 1)]\n",
      "MWV [('MAT', 4), ('INDS', 4), ('RRD', 1), ('CD', 1)]\n",
      "ESV [('EN', 5), ('DO', 1), ('RDC', 1), ('NBR', 1), ('NE', 1), ('CAM', 1)]\n",
      "LLL [('CS', 3), ('INDS', 2), ('IT', 1), ('RE', 1), ('HSP', 1), ('HC', 1), ('DTV', 1)]\n",
      "NWL [('MAT', 3), ('INDS', 2), ('CD', 2), ('BEAM', 1), ('BMS', 1), ('CS', 1)]\n",
      "TMO [('INDS', 3), ('HC', 2), ('MAT', 1), ('IT', 1), ('UTIL', 1), ('CS', 1), ('SIAL', 1)]\n",
      "AMT [('IT', 4), ('CD', 2), ('INDS', 1), ('RE', 1), ('HC', 1), ('FIN', 1)]\n",
      "CNX [('MAT', 2), ('BTU', 1), ('ANF', 1), ('EN', 1), ('INDS', 1), ('IT', 1), ('ATI', 1), ('DNR', 1), ('FSLR', 1)]\n",
      "PBI [('INDS', 6), ('MAT', 1), ('AVP', 1), ('IT', 1), ('CD', 1)]\n",
      "MPC [('CD', 3), ('CFN', 1), ('ADT', 1), ('WPX', 1), ('INDS', 1), ('RE', 1), ('CS', 1), ('HC', 1)]\n",
      "SLM [('FIN', 9), ('CD', 1)]\n",
      "AVP [('INDS', 4), ('CS', 3), ('PBI', 1), ('MAT', 1), ('CD', 1)]\n",
      "FOSL [('CD', 5), ('INDS', 3), ('PCP', 1), ('HOT', 1)]\n",
      "ACE [('FIN', 7), ('DF', 1), ('HC', 1), ('CS', 1)]\n",
      "ACN [('CS', 3), ('INDS', 2), ('TWC', 1), ('LO', 1), ('IT', 1), ('RE', 1), ('DTV', 1)]\n",
      "TEL [('CD', 5), ('IT', 2), ('TWC', 1), ('WIN', 1), ('INDS', 1)]\n",
      "NBR [('EN', 5), ('ESV', 1), ('CAM', 1), ('DO', 1), ('NE', 1), ('RDC', 1)]\n",
      "RRD [('MAT', 4), ('CD', 2), ('MWV', 1), ('INDS', 1), ('BMS', 1), ('BEAM', 1)]\n",
      "NE [('EN', 5), ('DO', 1), ('CAM', 1), ('ESV', 1), ('NBR', 1), ('RDC', 1)]\n",
      "TEG [('UTIL', 5), ('FTR', 1), ('GAS', 1), ('POM', 1), ('TE', 1), ('NU', 1)]\n",
      "TER [('IT', 7), ('HC', 1), ('LLTC', 1), ('LSI', 1)]\n",
      "ADT [('IT', 2), ('CD', 2), ('RE', 2), ('EN', 1), ('WPX', 1), ('INDS', 1), ('HC', 1)]\n",
      "LLTC [('IT', 7), ('JOY', 1), ('DELL', 1), ('LSI', 1)]\n",
      "ADP [('CS', 6), ('CCE', 1), ('EN', 1), ('RE', 1), ('DNB', 1)]\n",
      "DNB [('MAT', 2), ('CD', 2), ('INDS', 1), ('IT', 1), ('CSC', 1), ('BEAM', 1), ('CCE', 1), ('HC', 1)]\n",
      "GME [('CD', 4), ('IT', 3), ('INDS', 1), ('MAT', 1), ('OI', 1)]\n",
      "RDC [('EN', 5), ('DO', 1), ('ESV', 1), ('NBR', 1), ('NE', 1), ('CAM', 1)]\n",
      "DNR [('EN', 6), ('BTU', 1), ('IT', 1), ('CNX', 1), ('SWN', 1)]\n",
      "VIAB [('IT', 2), ('CD', 2), ('CS', 2), ('TWC', 1), ('INDS', 1), ('WIN', 1), ('DTV', 1)]\n",
      "WIN [('CD', 3), ('IT', 2), ('CS', 2), ('TWC', 1), ('DTV', 1), ('SE', 1)]\n",
      "TWC [('CD', 3), ('INDS', 2), ('CS', 2), ('WIN', 1), ('IT', 1), ('DTV', 1)]\n",
      "MSI [('HC', 5), ('INDS', 2), ('CS', 1), ('SIAL', 1), ('UTIL', 1)]\n",
      "TWX [('IT', 3), ('INDS', 1), ('CD', 1), ('S', 1), ('CS', 1), ('HC', 1), ('PLL', 1), ('FIN', 1)]\n",
      "PCAR [('CD', 2), ('EN', 1), ('MAT', 1), ('INDS', 1), ('HCBK', 1), ('ARG', 1), ('CS', 1), ('HC', 1), ('THC', 1)]\n",
      "PETM [('CD', 9), ('CS', 1)]\n",
      "TE [('UTIL', 8), ('POM', 1), ('NU', 1)]\n",
      "AA [('INDS', 4), ('MAT', 3), ('UTIL', 1), ('RE', 1), ('CD', 1)]\n",
      "DELL [('IT', 5), ('LLTC', 1), ('JOY', 1), ('S', 1), ('HC', 1), ('FIN', 1)]\n",
      "HOT [('CD', 5), ('MAT', 2), ('HC', 1), ('X', 1), ('INDS', 1)]\n",
      "ISRG [('INDS', 4), ('CD', 2), ('EN', 1), ('WLP', 1), ('IT', 1), ('HSP', 1)]\n",
      "NKE [('CS', 4), ('CD', 4), ('EN', 1), ('MAT', 1)]\n",
      "TSS [('INDS', 3), ('CS', 2), ('DF', 1), ('IT', 1), ('CD', 1), ('RE', 1), ('HC', 1)]\n"
     ]
    },
    {
     "data": {
      "text/plain": [
       "(241, 240)"
      ]
     },
     "execution_count": 139,
     "metadata": {},
     "output_type": "execute_result"
    }
   ],
   "source": [
    "correct=0\n",
    "incorrect=0\n",
    "for ticker in tickers:\n",
    "    s,v,sVotes = correct_vote(ticker)\n",
    "    if s==v:\n",
    "        correct+=1\n",
    "    else:\n",
    "        print ticker,sVotes\n",
    "        incorrect+=1\n",
    "correct,incorrect"
   ]
  },
  {
   "cell_type": "code",
   "execution_count": null,
   "metadata": {
    "collapsed": true,
    "deletable": true,
    "editable": true,
    "run_control": {
     "frozen": false,
     "read_only": false
    }
   },
   "outputs": [],
   "source": []
  },
  {
   "cell_type": "code",
   "execution_count": null,
   "metadata": {
    "collapsed": true,
    "deletable": true,
    "editable": true,
    "run_control": {
     "frozen": false,
     "read_only": false
    }
   },
   "outputs": [],
   "source": []
  }
 ],
 "metadata": {
  "anaconda-cloud": {},
  "kernelspec": {
   "display_name": "Python [conda root]",
   "language": "python",
   "name": "conda-root-py"
  },
  "language_info": {
   "codemirror_mode": {
    "name": "ipython",
    "version": 2
   },
   "file_extension": ".py",
   "mimetype": "text/x-python",
   "name": "python",
   "nbconvert_exporter": "python",
   "pygments_lexer": "ipython2",
   "version": "2.7.13"
  },
  "toc": {
   "colors": {
    "hover_highlight": "#DAA520",
    "running_highlight": "#FF0000",
    "selected_highlight": "#FFD700"
   },
   "moveMenuLeft": true,
   "nav_menu": {
    "height": "12px",
    "width": "252px"
   },
   "navigate_menu": true,
   "number_sections": true,
   "sideBar": true,
   "threshold": 4,
   "toc_cell": false,
   "toc_section_display": "block",
   "toc_window_display": false
  }
 },
 "nbformat": 4,
 "nbformat_minor": 2
}
