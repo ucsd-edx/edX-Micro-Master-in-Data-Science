{
 "cells": [
  {
   "cell_type": "markdown",
   "metadata": {
    "deletable": true,
    "editable": true,
    "run_control": {
     "frozen": false,
     "read_only": false
    },
    "slideshow": {
     "slide_type": "slide"
    }
   },
   "source": [
    "## Analysis of stock prices using PCA\n",
    "\n",
    "In this Notebook we analyze the prices of stocks in the S&P500.\n",
    "\n",
    "The notebook consists of 3 parts: data loading, PCA analysis column-wise and PCA analysis row wise."
   ]
  },
  {
   "cell_type": "code",
   "execution_count": 1,
   "metadata": {
    "collapsed": false,
    "deletable": true,
    "editable": true,
    "run_control": {
     "frozen": false,
     "read_only": false
    },
    "slideshow": {
     "slide_type": "skip"
    }
   },
   "outputs": [],
   "source": [
    "import sys,os\n",
    "import numpy as np\n",
    "from numpy.linalg import norm\n",
    "import matplotlib.pyplot as plt\n",
    "%matplotlib inline\n",
    "#import statsmodels.api as sm\n",
    "\n",
    "from time import time\n",
    "import math\n",
    "import pandas as pd\n",
    "from glob import glob\n",
    "import pickle\n"
   ]
  },
  {
   "cell_type": "markdown",
   "metadata": {
    "deletable": true,
    "editable": true,
    "run_control": {
     "frozen": false,
     "read_only": false
    }
   },
   "source": [
    "### Data Loading\n",
    "The data is in a tar file on S3. Download and untar the file and then execute the following cells."
   ]
  },
  {
   "cell_type": "code",
   "execution_count": 2,
   "metadata": {
    "collapsed": false,
    "deletable": true,
    "editable": true,
    "run_control": {
     "frozen": false,
     "read_only": false
    },
    "scrolled": true
   },
   "outputs": [
    {
     "data": {
      "text/plain": [
       "'/Users/yoavfreund/projects/edX-Micro-Master-in-Data-Science/big-data-analytics-using-spark/notebooks/SP500'"
      ]
     },
     "execution_count": 2,
     "metadata": {},
     "output_type": "execute_result"
    }
   ],
   "source": [
    "#change this path to where you stored the raw data\n",
    "Data_dir='./spdata_csv/'\n",
    "curr_dir=os.getcwd()\n",
    "curr_dir"
   ]
  },
  {
   "cell_type": "code",
   "execution_count": 3,
   "metadata": {
    "collapsed": false,
    "deletable": true,
    "editable": true,
    "run_control": {
     "frozen": false,
     "read_only": false
    }
   },
   "outputs": [
    {
     "name": "stdout",
     "output_type": "stream",
     "text": [
      "/Users/yoavfreund/academic.papers/Courses/BigDataAnalytics/stocksDataset/spdata_csv\n",
      "A.csv         CMS.csv       GNW.csv       MO.csv        SHW.csv\r\n",
      "AA.csv        CNP.csv       GOOG.csv      MON.csv       SIAL.csv\r\n",
      "AAPL.csv      CNX.csv       GPC.csv       MOS.csv       SJM.csv\r\n",
      "ABC.csv       COF.csv       GPS.csv       MPC.csv       SLB.csv\r\n",
      "ABT.csv       COG.csv       GS.csv        MRK.csv       SLM.csv\r\n",
      "ACE.csv       COH.csv       GT.csv        MRO.csv       SNA.csv\r\n",
      "ACN.csv       COL.csv       GWW.csv       MS.csv        SNDK.csv\r\n",
      "ADBE.csv      COP.csv       HAL.csv       MSFT.csv      SNI.csv\r\n",
      "ADI.csv       COST.csv      HAR.csv       MSI.csv       SO.csv\r\n",
      "ADM.csv       COV.csv       HAS.csv       MTB.csv       SPG.csv\r\n",
      "ADP.csv       CPB.csv       HBAN.csv      MU.csv        SPLS.csv\r\n",
      "ADSK.csv      CRM.csv       HCBK.csv      MUR.csv       SRCL.csv\r\n",
      "ADT.csv       CSC.csv       HCN.csv       MWV.csv       SRE.csv\r\n",
      "AEE.csv       CSCO.csv      HCP.csv       MYL.csv       STI.csv\r\n",
      "AEP.csv       CSX.csv       HD.csv        NBL.csv       STJ.csv\r\n",
      "AES.csv       CTAS.csv      HES.csv       NBR.csv       STT.csv\r\n",
      "AET.csv       CTL.csv       HIG.csv       NDAQ.csv      STX.csv\r\n",
      "AFL.csv       CTSH.csv      HOG.csv       NE.csv        STZ.csv\r\n",
      "AGN.csv       CTXS.csv      HON.csv       NEE.csv       SWK.csv\r\n",
      "AIG.csv       CVC.csv       HOT.csv       NEM.csv       SWN.csv\r\n",
      "AIV.csv       CVS.csv       HP.csv        NFLX.csv      SWY.csv\r\n",
      "AIZ.csv       CVX.csv       HPQ.csv       NFX.csv       SYK.csv\r\n",
      "AKAM.csv      D.csv         HRB.csv       NI.csv        SYMC.csv\r\n",
      "ALL.csv       DD.csv        HRL.csv       NKE.csv       SYY.csv\r\n",
      "ALTR.csv      DE.csv        HRS.csv       NOC.csv       T.csv\r\n",
      "ALXN.csv      DELL.csv      HSP.csv       NOV.csv       TAP.csv\r\n",
      "AMAT.csv      DF.csv        HST.csv       NRG.csv       TDC.csv\r\n",
      "AMD.csv       DFS.csv       HSY.csv       NSC.csv       TE.csv\r\n",
      "AMGN.csv      DG.csv        HUM.csv       NTAP.csv      TEG.csv\r\n",
      "AMP.csv       DGX.csv       IBM.csv       NTRS.csv      TEL.csv\r\n",
      "AMT.csv       DHI.csv       ICE.csv       NU.csv        TER.csv\r\n",
      "AMZN.csv      DHR.csv       IFF.csv       NUE.csv       TGT.csv\r\n",
      "AN.csv        DIS.csv       IGT.csv       NVDA.csv      THC.csv\r\n",
      "ANF.csv       DISCA.csv     INTC.csv      NWL.csv       TIF.csv\r\n",
      "AON.csv       DLTR.csv      INTU.csv      NWSA.csv      TJX.csv\r\n",
      "APA.csv       DNB.csv       IP.csv        OI.csv        TMK.csv\r\n",
      "APC.csv       DNR.csv       IPG.csv       OKE.csv       TMO.csv\r\n",
      "APD.csv       DO.csv        IR.csv        OMC.csv       TRIP.csv\r\n",
      "APH.csv       DOV.csv       IRM.csv       ORCL.csv      TROW.csv\r\n",
      "APOL.csv      DOW.csv       ISRG.csv      ORLY.csv      TRV.csv\r\n",
      "ARG.csv       DPS.csv       ITW.csv       OXY.csv       TSN.csv\r\n",
      "ATI.csv       DRI.csv       IVZ.csv       PAYX.csv      TSO.csv\r\n",
      "AVB.csv       DTE.csv       JBL.csv       PBCT.csv      TSS.csv\r\n",
      "AVP.csv       DTV.csv       JCI.csv       PBI.csv       TWC.csv\r\n",
      "AVY.csv       DUK.csv       JCP.csv       PCAR.csv      TWX.csv\r\n",
      "AXP.csv       DVA.csv       JDSU.csv      PCG.csv       TXN.csv\r\n",
      "AZO.csv       DVN.csv       JEC.csv       PCL.csv       TXT.csv\r\n",
      "BA.csv        EA.csv        JNJ.csv       PCLN.csv      TYC.csv\r\n",
      "BAC.csv       EBAY.csv      JNPR.csv      PCP.csv       UNH.csv\r\n",
      "BAX.csv       ECL.csv       JOY.csv       PDCO.csv      UNM.csv\r\n",
      "BBBY.csv      ED.csv        JPM.csv       PEG.csv       UNP.csv\r\n",
      "BBT.csv       EFX.csv       JWN.csv       PEP.csv       UPS.csv\r\n",
      "BBY.csv       EIX.csv       K.csv         PETM.csv      URBN.csv\r\n",
      "BCR.csv       EL.csv        KEY.csv       PFE.csv       USB.csv\r\n",
      "BDX.csv       EMC.csv       KIM.csv       PFG.csv       UTX.csv\r\n",
      "BEAM.csv      EMN.csv       KLAC.csv      PG.csv        V.csv\r\n",
      "BEN.csv       EMR.csv       KMB.csv       PGR.csv       VAR.csv\r\n",
      "BHI.csv       EOG.csv       KMI.csv       PH.csv        VFC.csv\r\n",
      "BIG.csv       EQR.csv       KMX.csv       PHM.csv       VIAB.csv\r\n",
      "BIIB.csv      EQT.csv       KO.csv        PKI.csv       VLO.csv\r\n",
      "BK.csv        ESRX.csv      KR.csv        PLD.csv       VMC.csv\r\n",
      "BLK.csv       ESV.csv       KRFT.csv      PLL.csv       VNO.csv\r\n",
      "BLL.csv       ETFC.csv      KSS.csv       PM.csv        VRSN.csv\r\n",
      "BMS.csv       ETN.csv       L.csv         PNC.csv       VTR.csv\r\n",
      "BMY.csv       ETR.csv       LEG.csv       PNR.csv       VZ.csv\r\n",
      "BRCM.csv      EW.csv        LEN.csv       PNW.csv       WAG.csv\r\n",
      "BSX.csv       EXC.csv       LH.csv        POM.csv       WAT.csv\r\n",
      "BTU.csv       EXPD.csv      LIFE.csv      PPG.csv       WDC.csv\r\n",
      "BWA.csv       EXPE.csv      LLL.csv       PPL.csv       WEC.csv\r\n",
      "BXP.csv       F.csv         LLTC.csv      PRGO.csv      WFC.csv\r\n",
      "C.csv         FAST.csv      LLY.csv       PRU.csv       WFM.csv\r\n",
      "CA.csv        FCX.csv       LM.csv        PSA.csv       WHR.csv\r\n",
      "CAG.csv       FDO.csv       LMT.csv       PSX.csv       WIN.csv\r\n",
      "CAH.csv       FDX.csv       LNC.csv       PWR.csv       WLP.csv\r\n",
      "CAM.csv       FE.csv        LO.csv        PX.csv        WM.csv\r\n",
      "CAT.csv       FFIV.csv      LOW.csv       PXD.csv       WMB.csv\r\n",
      "CB.csv        FHN.csv       LRCX.csv      QCOM.csv      WMT.csv\r\n",
      "CBG.csv       FII.csv       LSI.csv       QEP.csv       WPX.csv\r\n",
      "CBS.csv       FIS.csv       LUK.csv       R.csv         WU.csv\r\n",
      "CCE.csv       FISV.csv      LUV.csv       RAI.csv       WY.csv\r\n",
      "CCI.csv       FITB.csv      LYB.csv       RDC.csv       WYN.csv\r\n",
      "CCL.csv       FLIR.csv      M.csv         RF.csv        WYNN.csv\r\n",
      "CELG.csv      FLR.csv       MA.csv        RHI.csv       X.csv\r\n",
      "CERN.csv      FLS.csv       MAR.csv       RHT.csv       XEL.csv\r\n",
      "CF.csv        FMC.csv       MAS.csv       RL.csv        XL.csv\r\n",
      "CFN.csv       FOSL.csv      MAT.csv       ROK.csv       XLNX.csv\r\n",
      "CHK.csv       FRX.csv       MCD.csv       ROP.csv       XOM.csv\r\n",
      "CHRW.csv      FSLR.csv      MCHP.csv      ROST.csv      XRAY.csv\r\n",
      "CI.csv        FTI.csv       MCK.csv       RRC.csv       XRX.csv\r\n",
      "CINF.csv      FTR.csv       MCO.csv       RRD.csv       XYL.csv\r\n",
      "CL.csv        GAS.csv       MDLZ.csv      RSG.csv       YHOO.csv\r\n",
      "CLF.csv       GCI.csv       MDT.csv       RTN.csv       YUM.csv\r\n",
      "CLX.csv       GD.csv        MET.csv       S.csv         ZION.csv\r\n",
      "CMA.csv       GE.csv        MJN.csv       SBUX.csv      scatter12.pdf\r\n",
      "CMCSA.csv     GILD.csv      MKC.csv       SCG.csv\r\n",
      "CME.csv       GIS.csv       MMC.csv       SCHW.csv\r\n",
      "CMG.csv       GLW.csv       MMM.csv       SE.csv\r\n",
      "CMI.csv       GME.csv       MNST.csv      SEE.csv\r\n"
     ]
    }
   ],
   "source": [
    "# Load the files into pandas DataFrame\n",
    "%cd $Data_dir\n",
    "!ls"
   ]
  },
  {
   "cell_type": "code",
   "execution_count": 4,
   "metadata": {
    "collapsed": false,
    "deletable": true,
    "editable": true,
    "run_control": {
     "frozen": false,
     "read_only": false
    },
    "scrolled": true
   },
   "outputs": [
    {
     "name": "stdout",
     "output_type": "stream",
     "text": [
      "/Users/yoavfreund/projects/edX-Micro-Master-in-Data-Science/big-data-analytics-using-spark/notebooks/SP500\n"
     ]
    }
   ],
   "source": [
    "Tables={}\n",
    "for filename in glob('*.csv'):\n",
    "    #print filename\n",
    "    tbl=pd.read_csv(filename,index_col='Date',parse_dates=True)\n",
    "    code = filename[:-4]\n",
    "    if(np.shape(tbl)[1]==12):\n",
    "        Tables[code]=tbl.sort_index()\n",
    "        Tables[code]\n",
    "    else:\n",
    "        print filename,np.shape(tbl)\n",
    "\n",
    "%cd $curr_dir"
   ]
  },
  {
   "cell_type": "code",
   "execution_count": 5,
   "metadata": {
    "collapsed": false,
    "deletable": true,
    "editable": true,
    "run_control": {
     "frozen": false,
     "read_only": false
    }
   },
   "outputs": [
    {
     "data": {
      "text/html": [
       "<div>\n",
       "<table border=\"1\" class=\"dataframe\">\n",
       "  <thead>\n",
       "    <tr style=\"text-align: right;\">\n",
       "      <th></th>\n",
       "      <th>Open</th>\n",
       "      <th>High</th>\n",
       "      <th>Low</th>\n",
       "      <th>Close</th>\n",
       "      <th>Volume</th>\n",
       "      <th>Ex-Dividend</th>\n",
       "      <th>Split Ratio</th>\n",
       "      <th>Adj. Open</th>\n",
       "      <th>Adj. High</th>\n",
       "      <th>Adj. Low</th>\n",
       "      <th>Adj. Close</th>\n",
       "      <th>Adj. Volume</th>\n",
       "    </tr>\n",
       "    <tr>\n",
       "      <th>Date</th>\n",
       "      <th></th>\n",
       "      <th></th>\n",
       "      <th></th>\n",
       "      <th></th>\n",
       "      <th></th>\n",
       "      <th></th>\n",
       "      <th></th>\n",
       "      <th></th>\n",
       "      <th></th>\n",
       "      <th></th>\n",
       "      <th></th>\n",
       "      <th></th>\n",
       "    </tr>\n",
       "  </thead>\n",
       "  <tbody>\n",
       "    <tr>\n",
       "      <th>1962-01-02</th>\n",
       "      <td>578.5</td>\n",
       "      <td>578.5</td>\n",
       "      <td>572.0</td>\n",
       "      <td>572.00</td>\n",
       "      <td>5162.666667</td>\n",
       "      <td>0.0</td>\n",
       "      <td>1.0</td>\n",
       "      <td>5.180989</td>\n",
       "      <td>5.180989</td>\n",
       "      <td>5.122776</td>\n",
       "      <td>5.122776</td>\n",
       "      <td>387200.0</td>\n",
       "    </tr>\n",
       "    <tr>\n",
       "      <th>1962-01-03</th>\n",
       "      <td>572.0</td>\n",
       "      <td>577.0</td>\n",
       "      <td>572.0</td>\n",
       "      <td>577.00</td>\n",
       "      <td>3840.000000</td>\n",
       "      <td>0.0</td>\n",
       "      <td>1.0</td>\n",
       "      <td>5.122776</td>\n",
       "      <td>5.167555</td>\n",
       "      <td>5.122776</td>\n",
       "      <td>5.167555</td>\n",
       "      <td>288000.0</td>\n",
       "    </tr>\n",
       "    <tr>\n",
       "      <th>1962-01-04</th>\n",
       "      <td>577.0</td>\n",
       "      <td>577.0</td>\n",
       "      <td>571.0</td>\n",
       "      <td>571.25</td>\n",
       "      <td>3413.333333</td>\n",
       "      <td>0.0</td>\n",
       "      <td>1.0</td>\n",
       "      <td>5.167555</td>\n",
       "      <td>5.167555</td>\n",
       "      <td>5.113820</td>\n",
       "      <td>5.116059</td>\n",
       "      <td>256000.0</td>\n",
       "    </tr>\n",
       "    <tr>\n",
       "      <th>1962-01-05</th>\n",
       "      <td>570.5</td>\n",
       "      <td>570.5</td>\n",
       "      <td>559.0</td>\n",
       "      <td>560.00</td>\n",
       "      <td>4842.666667</td>\n",
       "      <td>0.0</td>\n",
       "      <td>1.0</td>\n",
       "      <td>5.109342</td>\n",
       "      <td>5.109342</td>\n",
       "      <td>5.006349</td>\n",
       "      <td>5.015305</td>\n",
       "      <td>363200.0</td>\n",
       "    </tr>\n",
       "    <tr>\n",
       "      <th>1962-01-08</th>\n",
       "      <td>559.5</td>\n",
       "      <td>559.5</td>\n",
       "      <td>545.0</td>\n",
       "      <td>549.50</td>\n",
       "      <td>7253.333333</td>\n",
       "      <td>0.0</td>\n",
       "      <td>1.0</td>\n",
       "      <td>5.010827</td>\n",
       "      <td>5.010827</td>\n",
       "      <td>4.880966</td>\n",
       "      <td>4.921268</td>\n",
       "      <td>544000.0</td>\n",
       "    </tr>\n",
       "  </tbody>\n",
       "</table>\n",
       "</div>"
      ],
      "text/plain": [
       "             Open   High    Low   Close       Volume  Ex-Dividend  \\\n",
       "Date                                                                \n",
       "1962-01-02  578.5  578.5  572.0  572.00  5162.666667          0.0   \n",
       "1962-01-03  572.0  577.0  572.0  577.00  3840.000000          0.0   \n",
       "1962-01-04  577.0  577.0  571.0  571.25  3413.333333          0.0   \n",
       "1962-01-05  570.5  570.5  559.0  560.00  4842.666667          0.0   \n",
       "1962-01-08  559.5  559.5  545.0  549.50  7253.333333          0.0   \n",
       "\n",
       "            Split Ratio  Adj. Open  Adj. High  Adj. Low  Adj. Close  \\\n",
       "Date                                                                  \n",
       "1962-01-02          1.0   5.180989   5.180989  5.122776    5.122776   \n",
       "1962-01-03          1.0   5.122776   5.167555  5.122776    5.167555   \n",
       "1962-01-04          1.0   5.167555   5.167555  5.113820    5.116059   \n",
       "1962-01-05          1.0   5.109342   5.109342  5.006349    5.015305   \n",
       "1962-01-08          1.0   5.010827   5.010827  4.880966    4.921268   \n",
       "\n",
       "            Adj. Volume  \n",
       "Date                     \n",
       "1962-01-02     387200.0  \n",
       "1962-01-03     288000.0  \n",
       "1962-01-04     256000.0  \n",
       "1962-01-05     363200.0  \n",
       "1962-01-08     544000.0  "
      ]
     },
     "execution_count": 5,
     "metadata": {},
     "output_type": "execute_result"
    }
   ],
   "source": [
    "Tables['IBM'].head()"
   ]
  },
  {
   "cell_type": "markdown",
   "metadata": {
    "deletable": true,
    "editable": true,
    "run_control": {
     "frozen": false,
     "read_only": false
    }
   },
   "source": [
    "### Pre-Processing\n",
    "In the following code we perform the following pre-processing steps:\n",
    "\n",
    "1. **Removing outliers** (choosing which ones is based on later steps)\n",
    "2. **Correcting for splits:** stocks are sometimes split into smaller denominations. These splits have to be accounted for in order to get a continuous price line without jumps.\n",
    "3. **Computing diffs:** It is more meaningful to predict *changes* in prices than prices themselves. We therefor compute for each stock a `Diffs` sequence in which $d(t)=\\log \\frac{p(t+1)}{p(t)}$ where $p(t)$ is the price at time $t$ and $d(t)$ is the price diff or the price ratio."
   ]
  },
  {
   "cell_type": "code",
   "execution_count": 6,
   "metadata": {
    "collapsed": false,
    "deletable": true,
    "editable": true,
    "run_control": {
     "frozen": false,
     "read_only": false
    }
   },
   "outputs": [],
   "source": [
    "Daily=pd.DataFrame()\n",
    "Diffs=pd.DataFrame()\n",
    "#print np.shape(SR)\n",
    "Indices=set(Tables.keys())\n",
    "# Remove the following lines to process all stocks. Plot the PCA and the time sequences of these stocks \n",
    "# to see why they are outliers and need to be removed.\n",
    "Indices=Indices - set([u'LIFE', u'PGR', u'HAS',u'UNM'])  #remove outlier stock - most likely due to file errors\n",
    "for code in Indices:\n",
    "    tbl=Tables[code]\n",
    "    SR=tbl['Split Ratio']   # incorporate split ratios of stock\n",
    "    CSR=np.cumsum(SR.apply(math.log)).apply(math.exp)\n",
    "    S=np.multiply(tbl['Open'],CSR)\n",
    "    S=S/S.mean()\n",
    "    SasDataFrame=pd.DataFrame(data={code:S})\n",
    "    Daily=Daily.join(SasDataFrame,how='outer')       # The pandas Series S will be merged into Daily according to the indices.\n",
    "    prices=np.array(S)  # The length of \"prices\" will remain the original length.\n",
    "    diff=np.log(prices[1:]/prices[:-1])\n",
    "    I=S.index\n",
    "    I=I[1:]\n",
    "    #print np.shae(Diffs),np.shape(Sdiff),np.shape(diff),len(I)\n",
    "    Sdiff=pd.DataFrame(diff,index=I,columns=[code])\n",
    "    Diffs=Diffs.join(Sdiff,how='outer')"
   ]
  },
  {
   "cell_type": "code",
   "execution_count": 7,
   "metadata": {
    "collapsed": false,
    "deletable": true,
    "editable": true,
    "run_control": {
     "frozen": false,
     "read_only": false
    },
    "scrolled": false
   },
   "outputs": [
    {
     "data": {
      "text/plain": [
       "<matplotlib.axes._subplots.AxesSubplot at 0x126061d50>"
      ]
     },
     "execution_count": 7,
     "metadata": {},
     "output_type": "execute_result"
    },
    {
     "data": {
      "image/png": "[encoded data removed]",
      "text/plain": [
       "<matplotlib.figure.Figure at 0x126061550>"
      ]
     },
     "metadata": {},
     "output_type": "display_data"
    }
   ],
   "source": [
    "# plot some stocks\n",
    "Daily[['AAPL','MSFT','GOOG','IBM']].plot(figsize=(14,10))\n"
   ]
  },
  {
   "cell_type": "markdown",
   "metadata": {
    "deletable": true,
    "editable": true,
    "run_control": {
     "frozen": false,
     "read_only": false
    }
   },
   "source": [
    "### Stock categories"
   ]
  },
  {
   "cell_type": "code",
   "execution_count": 8,
   "metadata": {
    "collapsed": false,
    "deletable": true,
    "editable": true,
    "run_control": {
     "frozen": false,
     "read_only": false
    }
   },
   "outputs": [
    {
     "name": "stdout",
     "output_type": "stream",
     "text": [
      "==> constituents-financials.csv <==\r\n",
      "Symbol,Name,Sector,Price,Dividend Yield,Price/Earnings,Earnings/Share,Book Value,52 week low,52 week high,Market Cap,EBITDA,Price/Sales,Price/Book,SEC Filings\r\n",
      "MMM,3M Company,Industrials,189.09,2.48,23.17,8.16,17.26,158.28,190.54,112.74,8.70,3.74,10.95,http://www.sec.gov/cgi-bin/browse-edgar?action=getcompany&CIK=MMM\r\n",
      "ABT,Abbott Laboratories,Health Care,45.00,2.34,48.03,0.94,13.94,36.76,45.83,77.76,4.59,3.74,3.24,http://www.sec.gov/cgi-bin/browse-edgar?action=getcompany&CIK=ABT\r\n",
      "\r\n",
      "==> constituents.csv <==\r\n",
      "Symbol,Name,Sector\r\n",
      "MMM,3M Company,Industrials\r\n",
      "ABT,Abbott Laboratories,Health Care\r\n"
     ]
    }
   ],
   "source": [
    "!head -3 constituents*.csv"
   ]
  },
  {
   "cell_type": "code",
   "execution_count": 9,
   "metadata": {
    "collapsed": false,
    "deletable": true,
    "editable": true,
    "run_control": {
     "frozen": false,
     "read_only": false
    }
   },
   "outputs": [
    {
     "data": {
      "text/html": [
       "<div>\n",
       "<table border=\"1\" class=\"dataframe\">\n",
       "  <thead>\n",
       "    <tr style=\"text-align: right;\">\n",
       "      <th></th>\n",
       "      <th>Symbol</th>\n",
       "      <th>Name</th>\n",
       "      <th>Sector</th>\n",
       "    </tr>\n",
       "  </thead>\n",
       "  <tbody>\n",
       "    <tr>\n",
       "      <th>0</th>\n",
       "      <td>MMM</td>\n",
       "      <td>3M Company</td>\n",
       "      <td>Industrials</td>\n",
       "    </tr>\n",
       "    <tr>\n",
       "      <th>1</th>\n",
       "      <td>ABT</td>\n",
       "      <td>Abbott Laboratories</td>\n",
       "      <td>Health Care</td>\n",
       "    </tr>\n",
       "    <tr>\n",
       "      <th>2</th>\n",
       "      <td>ABBV</td>\n",
       "      <td>AbbVie</td>\n",
       "      <td>Health Care</td>\n",
       "    </tr>\n",
       "    <tr>\n",
       "      <th>3</th>\n",
       "      <td>ACN</td>\n",
       "      <td>Accenture plc</td>\n",
       "      <td>Information Technology</td>\n",
       "    </tr>\n",
       "    <tr>\n",
       "      <th>4</th>\n",
       "      <td>ATVI</td>\n",
       "      <td>Activision Blizzard</td>\n",
       "      <td>Information Technology</td>\n",
       "    </tr>\n",
       "  </tbody>\n",
       "</table>\n",
       "</div>"
      ],
      "text/plain": [
       "  Symbol                 Name                  Sector\n",
       "0    MMM           3M Company             Industrials\n",
       "1    ABT  Abbott Laboratories             Health Care\n",
       "2   ABBV               AbbVie             Health Care\n",
       "3    ACN        Accenture plc  Information Technology\n",
       "4   ATVI  Activision Blizzard  Information Technology"
      ]
     },
     "execution_count": 9,
     "metadata": {},
     "output_type": "execute_result"
    }
   ],
   "source": [
    "NameSector=pd.read_csv('constituents.csv')\n",
    "NameSector.head()\n",
    "\n",
    "set(NameSector['Sector'])\n",
    "\n",
    "Sectors={'Consumer Discretionary':'CD',\n",
    " 'Consumer Staples':'CS',\n",
    " 'Energy':'EN',\n",
    " 'Financials':'FIN',\n",
    " 'Health Care':'HC',\n",
    " 'Industrials':'INDS',\n",
    " 'Information Technology':'IT',\n",
    " 'Materials':'MAT',\n",
    " 'Real Estate':'RE',\n",
    " 'Telecommunications Services':'TS',\n",
    " 'Utilities':'UTIL'}\n",
    "NameSector['SECTOR_ID']=[Sectors[x] for x in NameSector[\"Sector\"]]\n",
    "NameSector.head()\n",
    "NN=NameSector[['Symbol','SECTOR_ID']]\n",
    "Ticker2Sector={ a[1]:a[2] for a in NN.to_records()}\n",
    "\n",
    "Ticker2Sector.items()[:3]"
   ]
  },
  {
   "cell_type": "code",
   "execution_count": null,
   "metadata": {
    "collapsed": true,
    "deletable": true,
    "editable": true,
    "run_control": {
     "frozen": false,
     "read_only": false
    }
   },
   "outputs": [],
   "source": []
  },
  {
   "cell_type": "markdown",
   "metadata": {
    "deletable": true,
    "editable": true,
    "run_control": {
     "frozen": false,
     "read_only": false
    }
   },
   "source": [
    "### Pickling and unpickling\n",
    "The preprocessing steps take a significant amount of time. Instead of redoing these steps each time\n",
    "you start the iPython kernel. You can pickle the results into a file and load this file again in later runs, skipping the preprocessing step"
   ]
  },
  {
   "cell_type": "code",
   "execution_count": 10,
   "metadata": {
    "collapsed": false,
    "deletable": true,
    "editable": true,
    "run_control": {
     "frozen": false,
     "read_only": false
    }
   },
   "outputs": [],
   "source": [
    "pickle.dump({'Daily':Daily,'Diffs':Diffs},open('DailyDiffs.pkl','wb'))"
   ]
  },
  {
   "cell_type": "code",
   "execution_count": 11,
   "metadata": {
    "collapsed": false,
    "deletable": true,
    "editable": true,
    "run_control": {
     "frozen": false,
     "read_only": false
    }
   },
   "outputs": [],
   "source": [
    "PD=pickle.load(open('DailyDiffs.pkl','rb'))"
   ]
  },
  {
   "cell_type": "code",
   "execution_count": 12,
   "metadata": {
    "collapsed": true,
    "deletable": true,
    "editable": true,
    "run_control": {
     "frozen": false,
     "read_only": false
    }
   },
   "outputs": [],
   "source": [
    "Daily=PD['Daily']\n",
    "Diffs=PD['Diffs']"
   ]
  },
  {
   "cell_type": "markdown",
   "metadata": {
    "deletable": true,
    "editable": true,
    "run_control": {
     "frozen": false,
     "read_only": false
    }
   },
   "source": [
    "### PCA1\n",
    "#### Eigen-vectors correspond to time sequences\n",
    "In the following steps we perform of the `Diffs` matrix column wise. The result is a set of eigen-vectors whose dimension is the total number of trading days (13422)"
   ]
  },
  {
   "cell_type": "code",
   "execution_count": 19,
   "metadata": {
    "collapsed": false,
    "deletable": true,
    "editable": true,
    "run_control": {
     "frozen": false,
     "read_only": false
    }
   },
   "outputs": [
    {
     "data": {
      "text/plain": [
       "((30, 13422), (13422, 481))"
      ]
     },
     "execution_count": 19,
     "metadata": {},
     "output_type": "execute_result"
    }
   ],
   "source": [
    "from sklearn.decomposition import PCA\n",
    "\n",
    "pca = PCA(n_components=30)\n",
    "diffs_matrix=np.transpose(np.array(Diffs.fillna(0)))\n",
    "pca.fit(diffs_matrix)\n",
    "eigen_vecs=pca.components_\n",
    "np.shape(eigen_vecs), np.shape(Diffs)"
   ]
  },
  {
   "cell_type": "code",
   "execution_count": 20,
   "metadata": {
    "collapsed": false,
    "deletable": true,
    "editable": true,
    "run_control": {
     "frozen": false,
     "read_only": false
    }
   },
   "outputs": [
    {
     "name": "stdout",
     "output_type": "stream",
     "text": [
      "individual percent explained:\n",
      "[ 0.05394363  0.03376526  0.02902396  0.02541831  0.0158646   0.01288044\n",
      "  0.01159088  0.01117823  0.00803358  0.00785734  0.00756532  0.0071789\n",
      "  0.00694659  0.00682706  0.00639181  0.00626821  0.00606079  0.00583184\n",
      "  0.0056637   0.00551274  0.00547767  0.00540651  0.00523487  0.005084\n",
      "  0.0050397   0.00490412  0.00479051  0.00470813  0.00465873  0.00461951]\n",
      "cumulative percent explained:\n",
      "[ 0.05394363  0.08770889  0.11673285  0.14215116  0.15801575  0.1708962\n",
      "  0.18248708  0.19366531  0.20169889  0.20955623  0.21712154  0.22430044\n",
      "  0.23124703  0.23807409  0.24446591  0.25073412  0.25679491  0.26262674\n",
      "  0.26829044  0.27380318  0.27928085  0.28468736  0.28992223  0.29500623\n",
      "  0.30004593  0.30495005  0.30974056  0.3144487   0.31910743  0.32372695]\n"
     ]
    },
    {
     "data": {
      "text/plain": [
       "<matplotlib.text.Text at 0x14aedcd10>"
      ]
     },
     "execution_count": 20,
     "metadata": {},
     "output_type": "execute_result"
    },
    {
     "data": {
      "image/png": "[encoded data removed]",
      "text/plain": [
       "<matplotlib.figure.Figure at 0x13736be10>"
      ]
     },
     "metadata": {},
     "output_type": "display_data"
    }
   ],
   "source": [
    "# check how much of the variance is explained by the top eigenvectors.\n",
    "print 'individual percent explained:\\n',pca.explained_variance_ratio_\n",
    "print 'cumulative percent explained:\\n',np.cumsum(pca.explained_variance_ratio_)\n",
    "plt.plot(np.cumsum(np.concatenate([np.array([0]),pca.explained_variance_ratio_])))\n",
    "plt.grid()\n",
    "plt.title('Percentage of variance explained')"
   ]
  },
  {
   "cell_type": "code",
   "execution_count": 14,
   "metadata": {
    "collapsed": false,
    "deletable": true,
    "editable": true,
    "run_control": {
     "frozen": false,
     "read_only": false
    }
   },
   "outputs": [
    {
     "data": {
      "text/plain": [
       "(13422, 30)"
      ]
     },
     "execution_count": 14,
     "metadata": {},
     "output_type": "execute_result"
    }
   ],
   "source": [
    "tdf = pca.transform(diffs_matrix)  # compute the projections of the stocks on the eigen-values\n",
    "np.shape(tdf)"
   ]
  },
  {
   "cell_type": "code",
   "execution_count": 15,
   "metadata": {
    "collapsed": false,
    "deletable": true,
    "editable": true,
    "run_control": {
     "frozen": false,
     "read_only": false
    }
   },
   "outputs": [
    {
     "data": {
      "text/plain": [
       "<matplotlib.figure.Figure at 0x147d5dfd0>"
      ]
     },
     "metadata": {},
     "output_type": "display_data"
    }
   ],
   "source": [
    "# Generate the scatter plot of the stocks on a pair of eigen-vectors defined by i0,i1\n",
    "i0=0;i1=1\n",
    "fig, ax = plt.subplots(figsize=(20,20))  # In order that the stock ticker names are readable we make the plot very large\n",
    "plt.xlim([np.amin(tdf[:,i0]),np.amax(tdf[:,i0])])\n",
    "plt.ylim([np.amin(tdf[:,i1]),np.amax(tdf[:,i1])])\n",
    "plt.title('SP500 stocks scatter on '+str(i0)+', '+str(i1),fontsize=20)\n",
    "names=[Ticker2Sector[a] if a in Ticker2Sector.keys() else a for a in Diffs.columns]\n",
    "for i in range(len(names)):\n",
    "    ax.annotate(names[i], (tdf[i,i0],tdf[i,i1]),fontsize=10)\n",
    "# This very large plot is hard to view and manipulate inside the notebook. We therefor export it into a pdf file\n",
    "fig.savefig('scatter1.'+str(i0)+str(i1)+'.pdf', format='PDF')\n",
    "# After exporting, we clear the figure so that the plot does not appear in the notebook.\n",
    "fig.clear()"
   ]
  },
  {
   "cell_type": "markdown",
   "metadata": {
    "deletable": true,
    "editable": true,
    "run_control": {
     "frozen": false,
     "read_only": false
    }
   },
   "source": [
    "### PCA2\n",
    "#### Eigen-vectors correspond to stock weightings.\n",
    "In the following steps we perform of the `Diffs` matrix row wise. The result is a set of eigen-vectors \n",
    "whose dimension is the number of stocks (481)"
   ]
  },
  {
   "cell_type": "code",
   "execution_count": 16,
   "metadata": {
    "collapsed": false,
    "deletable": true,
    "editable": true,
    "run_control": {
     "frozen": false,
     "read_only": false
    }
   },
   "outputs": [
    {
     "data": {
      "text/plain": [
       "((30, 481), (481,))"
      ]
     },
     "execution_count": 16,
     "metadata": {},
     "output_type": "execute_result"
    }
   ],
   "source": [
    "from sklearn.decomposition import PCA\n",
    "\n",
    "pca = PCA(n_components=30)\n",
    "diffs_matrix=np.array(Diffs.fillna(0))\n",
    "pca.fit(diffs_matrix)\n",
    "eigen_vecs=pca.components_\n",
    "np.shape(eigen_vecs), np.shape(names)"
   ]
  },
  {
   "cell_type": "code",
   "execution_count": 23,
   "metadata": {
    "collapsed": false,
    "deletable": true,
    "editable": true,
    "run_control": {
     "frozen": false,
     "read_only": false
    }
   },
   "outputs": [
    {
     "name": "stdout",
     "output_type": "stream",
     "text": [
      "Populating the interactive namespace from numpy and matplotlib\n"
     ]
    },
    {
     "data": {
      "text/plain": [
       "[<matplotlib.lines.Line2D at 0x147e6ee10>]"
      ]
     },
     "execution_count": 23,
     "metadata": {},
     "output_type": "execute_result"
    },
    {
     "data": {
      "image/png": "[encoded data removed]",
      "text/plain": [
       "<matplotlib.figure.Figure at 0x147f75b10>"
      ]
     },
     "metadata": {},
     "output_type": "display_data"
    }
   ],
   "source": [
    "%pylab inline\n",
    "plot(eigen_vecs[1,:])"
   ]
  },
  {
   "cell_type": "code",
   "execution_count": 17,
   "metadata": {
    "collapsed": false,
    "deletable": true,
    "editable": true,
    "run_control": {
     "frozen": false,
     "read_only": false
    }
   },
   "outputs": [
    {
     "name": "stdout",
     "output_type": "stream",
     "text": [
      "individual percent explained:\n",
      "[ 0.21398827  0.03770126  0.02369833  0.02260537  0.01292739  0.0110848\n",
      "  0.01011396  0.00910505  0.00817646  0.00644256  0.00614608  0.00597865\n",
      "  0.00571193  0.00558439  0.00526998  0.0050924   0.0049851   0.0047824\n",
      "  0.00468835  0.00459052  0.0044754   0.0044143   0.00423571  0.00416412\n",
      "  0.00407973  0.00401496  0.003972    0.00388281  0.00384175  0.00375993]\n",
      "cumulative percent explained:\n",
      "[ 0.21398827  0.25168953  0.27538785  0.29799322  0.31092061  0.32200542\n",
      "  0.33211938  0.34122443  0.34940089  0.35584345  0.36198953  0.36796818\n",
      "  0.37368011  0.3792645   0.38453448  0.38962688  0.39461198  0.39939439\n",
      "  0.40408273  0.40867325  0.41314866  0.41756296  0.42179867  0.42596279\n",
      "  0.43004252  0.43405748  0.43802948  0.44191229  0.44575404  0.44951396]\n"
     ]
    },
    {
     "data": {
      "text/plain": [
       "<matplotlib.text.Text at 0x147faa5d0>"
      ]
     },
     "execution_count": 17,
     "metadata": {},
     "output_type": "execute_result"
    },
    {
     "data": {
      "image/png": "[encoded data removed]",
      "text/plain": [
       "<matplotlib.figure.Figure at 0x147d5d350>"
      ]
     },
     "metadata": {},
     "output_type": "display_data"
    }
   ],
   "source": [
    "# check how much of the variance is explained by the top eigenvectors.\n",
    "print 'individual percent explained:\\n',pca.explained_variance_ratio_\n",
    "print 'cumulative percent explained:\\n',np.cumsum(pca.explained_variance_ratio_)\n",
    "plt.plot(np.cumsum(np.concatenate([np.array([0]),pca.explained_variance_ratio_])))\n",
    "plt.grid()\n",
    "plt.title('Percentage of variance explained')"
   ]
  },
  {
   "cell_type": "markdown",
   "metadata": {
    "deletable": true,
    "editable": true,
    "run_control": {
     "frozen": false,
     "read_only": false
    }
   },
   "source": [
    "**HW** in this case the first eigen-vector explains more that %21 of the variance. Can you give an interpretation to this vector? (Hint: look at the distribution of the coordinate values)"
   ]
  },
  {
   "cell_type": "code",
   "execution_count": 18,
   "metadata": {
    "collapsed": false,
    "deletable": true,
    "editable": true,
    "run_control": {
     "frozen": false,
     "read_only": false
    }
   },
   "outputs": [
    {
     "data": {
      "text/plain": [
       "((30, 481), (481,))"
      ]
     },
     "execution_count": 18,
     "metadata": {},
     "output_type": "execute_result"
    }
   ],
   "source": [
    "np.shape(eigen_vecs),np.shape(names)"
   ]
  },
  {
   "cell_type": "code",
   "execution_count": 19,
   "metadata": {
    "collapsed": false,
    "deletable": true,
    "editable": true,
    "run_control": {
     "frozen": false,
     "read_only": false
    },
    "scrolled": true
   },
   "outputs": [
    {
     "data": {
      "text/plain": [
       "<matplotlib.figure.Figure at 0x147e35790>"
      ]
     },
     "metadata": {},
     "output_type": "display_data"
    }
   ],
   "source": [
    "# Generate the scatter plot of the stocks on a pair of eigen-vectors defined by i0,i1\n",
    "i0=1;i1=2\n",
    "fig, ax = plt.subplots(figsize=(20,20))  # In order that the stock ticker names are readable we make the plot very large\n",
    "plt.xlim([np.amin(eigen_vecs[i0,:]),np.amax(eigen_vecs[i0,:])])\n",
    "plt.ylim([np.amin(eigen_vecs[i1,:]),np.amax(eigen_vecs[i1,:])])\n",
    "plt.title('SP500 stocks scatter on '+str(i0)+', '+str(i1),fontsize=20)\n",
    "names=[Ticker2Sector[a] if a in Ticker2Sector.keys() else a for a in Diffs.columns]\n",
    "for i in range(len(names)):\n",
    "    ax.annotate(names[i], (eigen_vecs[i0,i],eigen_vecs[i1,i]),fontsize=10)\n",
    "# This very large plot is hard to view and manipulate inside the notebook. We therefor export it into a pdf file\n",
    "fig.savefig('scatter2.'+str(i0)+str(i1)+'.pdf', format='PDF')\n",
    "# After exporting, we clear the figure so that the plot does not appear in the notebook.\n",
    "fig.clear()"
   ]
  },
  {
   "cell_type": "code",
   "execution_count": 33,
   "metadata": {
    "collapsed": false,
    "deletable": true,
    "editable": true,
    "run_control": {
     "frozen": false,
     "read_only": false
    }
   },
   "outputs": [
    {
     "data": {
      "text/plain": [
       "Index([u'AGN', u'EOG', u'WLP', u'CPB', u'YUM', u'JWN', u'TAP', u'BWA', u'WM',\n",
       "       u'SPG',\n",
       "       ...\n",
       "       u'ICE', u'AN', u'HOT', u'ROK', u'TROW', u'ISRG', u'PFE', u'NKE', u'PFG',\n",
       "       u'TSS'],\n",
       "      dtype='object', length=481)"
      ]
     },
     "execution_count": 33,
     "metadata": {},
     "output_type": "execute_result"
    }
   ],
   "source": [
    "[Diffs.columns"
   ]
  },
  {
   "cell_type": "code",
   "execution_count": 46,
   "metadata": {
    "collapsed": false,
    "deletable": true,
    "editable": true,
    "run_control": {
     "frozen": false,
     "read_only": false
    }
   },
   "outputs": [],
   "source": [
    "!open *.pdf"
   ]
  },
  {
   "cell_type": "markdown",
   "metadata": {
    "deletable": true,
    "editable": true,
    "run_control": {
     "frozen": false,
     "read_only": false
    }
   },
   "source": [
    "### Identifying outliers\n",
    "Use these cells after you comment out the command above that removes the indices `set([u'LIFE', u'PGR', u'HAS',u'UNM'])`"
   ]
  },
  {
   "cell_type": "code",
   "execution_count": 17,
   "metadata": {
    "collapsed": false,
    "deletable": true,
    "editable": true,
    "run_control": {
     "frozen": false,
     "read_only": false
    }
   },
   "outputs": [
    {
     "name": "stdout",
     "output_type": "stream",
     "text": [
      "AMGN [-0.24826548 -0.51960331]\n",
      "NEM [ 0.59058826 -0.0990569 ]\n",
      "NTAP [-1.53421152 -0.25656284]\n",
      "GNW [ 0.17344529  1.11112665]\n"
     ]
    }
   ],
   "source": [
    "## Identify the outliers \n",
    "## To make this really work, comment out the removed stocks when processing above: set([u'LIFE', u'PGR', u'HAS',u'UNM'])\n",
    "mx=[0]*2\n",
    "mn=[0]*2\n",
    "Set=set()\n",
    "names=Diffs.columns\n",
    "for i in range(2):\n",
    "    mx[i]=np.argmax(tdf[:,i])\n",
    "    mn[i]=np.argmin(tdf[:,i])\n",
    "    Set=Set.union(set([mn[i],mx[i]]))\n",
    "for elem in Set:\n",
    "    print names[elem],\n",
    "    print tdf[elem,:2]"
   ]
  },
  {
   "cell_type": "code",
   "execution_count": 18,
   "metadata": {
    "collapsed": false,
    "deletable": true,
    "editable": true,
    "run_control": {
     "frozen": false,
     "read_only": false
    }
   },
   "outputs": [],
   "source": [
    "#One of the bad sequences.\n",
    "# Daily[[u'UNM']].plot(figsize=(14,10))"
   ]
  },
  {
   "cell_type": "markdown",
   "metadata": {
    "deletable": true,
    "editable": true,
    "run_control": {
     "frozen": false,
     "read_only": false
    }
   },
   "source": [
    "### HW\n",
    "\n",
    "**Global analysis**\n",
    "1. Use the information in the file `constituents.csv` to color code the stocks according to sector to which the stock belongs.\n",
    "1. Use the online PCA method to find the local eigen-vectors corresponding to PCA2 (Row wise analysis, generating vectors whose dimension is the number of stocks). Use an $\\alpha$ value that corresponds to 10 years.\n",
    "1. generate the coloring as above for the projection on the top two eigen-vectors corresponding to 1970,1980,1990,2000,2010.\n",
    "\n",
    "**local analysis**\n",
    "1. You should have recieved a ticker symbol in email from the TA. The ticker symbol corresponds to a company that has been in existance for the last 50 years or more. Use wikipedia, Yahoo! etc. to compile a paragraph on the company and it's history.\n",
    "1. Using the projection on the top 20 eigenvectors, identify the 10 companies that are closest (using euclidean distance) to your company.\n",
    "1. Repeat the same for each one of the 10-year PCA projections for each 10 years from 1970 to 2010 (see above).\n",
    "1. Generate a plot of the price of your stock, and it's related stocks as a function of time. Figure out some way (scaling, chopping the time line, taking logs etc.) that the performance of the stocks can be compared for the whole time in which your stock was in existence.\n",
    "1. Using Wikipedia etc. find out a description of the neighboring companies.\n",
    "2. Based on the description, give a narrative describing the location of the company in the context of it's neighbor companies. In what ways is it similar to it's neighbors and in what ways it is unique. Are there any companies that are competitors? Suppliers? Buyers?\n",
    "How did it's location change over the time of it's existance. Write this description in a markdown cell.\n",
    "\n",
    "**Extra credit**\n",
    "* Use [Plotly](https://plot.ly/) to create a dynamic scatter-plot which can be navigated (pan and zoom) and where clicking on each ticker brings up information about that stock.\n",
    "* Figure out the meaning of the \"adjusted\" columns in the original tables and find out if they are better/worse/similar for PCA analysis."
   ]
  },
  {
   "cell_type": "code",
   "execution_count": 24,
   "metadata": {
    "collapsed": true,
    "deletable": true,
    "editable": true,
    "run_control": {
     "frozen": false,
     "read_only": false
    }
   },
   "outputs": [],
   "source": [
    "!open *.pdf\n"
   ]
  },
  {
   "cell_type": "code",
   "execution_count": null,
   "metadata": {
    "collapsed": true,
    "deletable": true,
    "editable": true,
    "run_control": {
     "frozen": false,
     "read_only": false
    }
   },
   "outputs": [],
   "source": []
  }
 ],
 "metadata": {
  "anaconda-cloud": {},
  "kernelspec": {
   "display_name": "Python [default]",
   "language": "python",
   "name": "python2"
  },
  "language_info": {
   "codemirror_mode": {
    "name": "ipython",
    "version": 2
   },
   "file_extension": ".py",
   "mimetype": "text/x-python",
   "name": "python",
   "nbconvert_exporter": "python",
   "pygments_lexer": "ipython2",
   "version": "2.7.13"
  },
  "toc": {
   "colors": {
    "hover_highlight": "#DAA520",
    "running_highlight": "#FF0000",
    "selected_highlight": "#FFD700"
   },
   "moveMenuLeft": true,
   "nav_menu": {
    "height": "135px",
    "width": "253px"
   },
   "navigate_menu": true,
   "number_sections": true,
   "sideBar": true,
   "threshold": 4,
   "toc_cell": false,
   "toc_section_display": "block",
   "toc_window_display": false
  }
 },
 "nbformat": 4,
 "nbformat_minor": 0
}
