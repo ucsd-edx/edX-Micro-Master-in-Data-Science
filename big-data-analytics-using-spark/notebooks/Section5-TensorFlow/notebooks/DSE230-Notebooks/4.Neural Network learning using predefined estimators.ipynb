{
 "cells": [
  {
   "cell_type": "code",
   "execution_count": 2,
   "metadata": {
    "ExecuteTime": {
     "end_time": "2018-06-06T20:03:34.563638Z",
     "start_time": "2018-06-06T20:03:33.399317Z"
    },
    "slideshow": {
     "slide_type": "skip"
    }
   },
   "outputs": [
    {
     "name": "stderr",
     "output_type": "stream",
     "text": [
      "/opt/conda/lib/python3.6/site-packages/h5py/__init__.py:36: FutureWarning: Conversion of the second argument of issubdtype from `float` to `np.floating` is deprecated. In future, it will be treated as `np.float64 == np.dtype(float).type`.\n",
      "  from ._conv import register_converters as _register_converters\n"
     ]
    }
   ],
   "source": [
    "import tensorflow as tf\n",
    "import numpy as np\n",
    "\n",
    "import warnings\n",
    "## Tensorflow produces a lot of warnings. We generally want to suppress them. The below code does exactly that. \n",
    "warnings.filterwarnings('ignore')\n",
    "tf.logging.set_verbosity(tf.logging.ERROR)"
   ]
  },
  {
   "cell_type": "markdown",
   "metadata": {
    "slideshow": {
     "slide_type": "slide"
    }
   },
   "source": [
    "## Using predefined estimators\n",
    "* Instead of using TensorFlow basic API, it is often more convenient to use a higher-level API called **estimators**"
   ]
  },
  {
   "cell_type": "markdown",
   "metadata": {
    "slideshow": {
     "slide_type": "fragment"
    }
   },
   "source": [
    "* There are two ways to use the **estimators** API:\n",
    "   * Pre-defined estimators.\n",
    "   * Self-defined estimators."
   ]
  },
  {
   "cell_type": "markdown",
   "metadata": {
    "slideshow": {
     "slide_type": "fragment"
    }
   },
   "source": [
    "* In this notebook we recreate the neural network defined first in notebook [3.Neural-Networks.ipynb](3.Neural-Networks.ipynb)  \n",
    "using the predefined estimator `DNNClassifier`"
   ]
  },
  {
   "cell_type": "markdown",
   "metadata": {
    "slideshow": {
     "slide_type": "subslide"
    }
   },
   "source": [
    "## Benefits of Estimators\n",
    "\n",
    "- Estimator-based models are independent of operating environment\n",
    "    - local host\n",
    "    - GPUs\n",
    "    - CPU clusters"
   ]
  },
  {
   "cell_type": "markdown",
   "metadata": {
    "slideshow": {
     "slide_type": "fragment"
    }
   },
   "source": [
    "### More benefits\n",
    "- Simplify model sharing between developers\n",
    "- State of the art model architectures with more intuitive high-level code"
   ]
  },
  {
   "cell_type": "markdown",
   "metadata": {
    "slideshow": {
     "slide_type": "skip"
    }
   },
   "source": [
    "Consult https://www.tensorflow.org/programmers_guide/estimators for more advantages of using Estimators as described by the developers of TensorFlow."
   ]
  },
  {
   "cell_type": "markdown",
   "metadata": {
    "slideshow": {
     "slide_type": "subslide"
    }
   },
   "source": [
    "## Read Data\n",
    "The MNist dataset is available from within TensorFlow tutorials."
   ]
  },
  {
   "cell_type": "code",
   "execution_count": 3,
   "metadata": {
    "ExecuteTime": {
     "end_time": "2018-06-06T20:03:42.707157Z",
     "start_time": "2018-06-06T20:03:34.566065Z"
    },
    "slideshow": {
     "slide_type": "fragment"
    }
   },
   "outputs": [
    {
     "name": "stdout",
     "output_type": "stream",
     "text": [
      "Successfully downloaded train-images-idx3-ubyte.gz 9912422 bytes.\n",
      "Extracting MNIST_data/train-images-idx3-ubyte.gz\n",
      "Successfully downloaded train-labels-idx1-ubyte.gz 28881 bytes.\n",
      "Extracting MNIST_data/train-labels-idx1-ubyte.gz\n",
      "Successfully downloaded t10k-images-idx3-ubyte.gz 1648877 bytes.\n",
      "Extracting MNIST_data/t10k-images-idx3-ubyte.gz\n",
      "Successfully downloaded t10k-labels-idx1-ubyte.gz 4542 bytes.\n",
      "Extracting MNIST_data/t10k-labels-idx1-ubyte.gz\n"
     ]
    }
   ],
   "source": [
    "from tensorflow.examples.tutorials.mnist import input_data\n",
    "mnist = input_data.read_data_sets('MNIST_data')\n",
    "\n",
    "# Wrap input as a function (THE \"input function\" will be defined below)\n",
    "def input(dataset):\n",
    "    return dataset.images, dataset.labels.astype(np.int32)"
   ]
  },
  {
   "cell_type": "markdown",
   "metadata": {
    "slideshow": {
     "slide_type": "subslide"
    }
   },
   "source": [
    "##  Define feature columns"
   ]
  },
  {
   "cell_type": "code",
   "execution_count": 4,
   "metadata": {
    "ExecuteTime": {
     "end_time": "2018-06-06T20:03:42.715708Z",
     "start_time": "2018-06-06T20:03:42.709439Z"
    },
    "slideshow": {
     "slide_type": "fragment"
    }
   },
   "outputs": [],
   "source": [
    "# Specify feature\n",
    "feature_columns = [tf.feature_column.numeric_column(\"x\", shape=[28, 28])]"
   ]
  },
  {
   "cell_type": "markdown",
   "metadata": {
    "slideshow": {
     "slide_type": "subslide"
    }
   },
   "source": [
    "## Define Neural Network\n",
    "DNNClassifier is an estimator that implements a deep neural network classifier."
   ]
  },
  {
   "cell_type": "code",
   "execution_count": 5,
   "metadata": {
    "ExecuteTime": {
     "end_time": "2018-06-06T20:03:42.725677Z",
     "start_time": "2018-06-06T20:03:42.718255Z"
    },
    "slideshow": {
     "slide_type": "fragment"
    }
   },
   "outputs": [],
   "source": [
    "# Build 2 layer DNN classifier\n",
    "classifier = tf.estimator.DNNClassifier(\n",
    "    feature_columns=feature_columns,\n",
    "    hidden_units=[256, 256],\n",
    "    optimizer=tf.train.AdamOptimizer(1e-4),\n",
    "    n_classes=10,\n",
    "    dropout=0.1,\n",
    "    model_dir=\"./tmp/mnist_model_256_256\"   # Location for storing checkpoints.\n",
    ")"
   ]
  },
  {
   "cell_type": "markdown",
   "metadata": {
    "slideshow": {
     "slide_type": "subslide"
    }
   },
   "source": [
    "## Define training input function\n",
    "* Supplies data for training, evaluation, prediction\n",
    "* Should yield tuples of:\n",
    "    - Python dict `features`: key = name of feature, value = array of feature values\n",
    "    - Array `label` : label for every example"
   ]
  },
  {
   "cell_type": "code",
   "execution_count": 6,
   "metadata": {
    "ExecuteTime": {
     "end_time": "2018-06-06T20:03:42.734804Z",
     "start_time": "2018-06-06T20:03:42.728651Z"
    },
    "slideshow": {
     "slide_type": "fragment"
    }
   },
   "outputs": [],
   "source": [
    "# Define the training inputs\n",
    "train_input_fn = tf.estimator.inputs.numpy_input_fn(\n",
    "    x={\"x\": input(mnist.train)[0]},\n",
    "    y=input(mnist.train)[1],\n",
    "    num_epochs=None,\n",
    "    batch_size=50,\n",
    "    shuffle=True\n",
    ")"
   ]
  },
  {
   "cell_type": "markdown",
   "metadata": {
    "slideshow": {
     "slide_type": "subslide"
    }
   },
   "source": [
    "## Train the neural network\n",
    "* Checkpoint used for \"warm start\"\n",
    "* Checkpoints saved"
   ]
  },
  {
   "cell_type": "code",
   "execution_count": 11,
   "metadata": {
    "ExecuteTime": {
     "end_time": "2018-06-06T20:06:16.375705Z",
     "start_time": "2018-06-06T20:06:12.150480Z"
    },
    "scrolled": true,
    "slideshow": {
     "slide_type": "subslide"
    }
   },
   "outputs": [
    {
     "name": "stdout",
     "output_type": "stream",
     "text": [
      "INFO:tensorflow:Calling model_fn.\n",
      "INFO:tensorflow:Done calling model_fn.\n",
      "INFO:tensorflow:Create CheckpointSaverHook.\n",
      "INFO:tensorflow:Graph was finalized.\n",
      "INFO:tensorflow:Restoring parameters from ./tmp/mnist_model_256_256/model.ckpt-10000\n",
      "INFO:tensorflow:Running local_init_op.\n",
      "INFO:tensorflow:Done running local_init_op.\n",
      "INFO:tensorflow:Saving checkpoints for 10001 into ./tmp/mnist_model_256_256/model.ckpt.\n",
      "INFO:tensorflow:loss = 0.8121629, step = 10001\n",
      "INFO:tensorflow:global_step/sec: 291.444\n",
      "INFO:tensorflow:loss = 0.9232541, step = 10101 (0.345 sec)\n",
      "INFO:tensorflow:global_step/sec: 349.753\n",
      "INFO:tensorflow:loss = 1.043865, step = 10201 (0.285 sec)\n",
      "INFO:tensorflow:global_step/sec: 341.05\n",
      "INFO:tensorflow:loss = 2.4103715, step = 10301 (0.293 sec)\n",
      "INFO:tensorflow:global_step/sec: 335.136\n",
      "INFO:tensorflow:loss = 2.737367, step = 10401 (0.300 sec)\n",
      "INFO:tensorflow:global_step/sec: 290.02\n",
      "INFO:tensorflow:loss = 3.1885724, step = 10501 (0.344 sec)\n",
      "INFO:tensorflow:global_step/sec: 331.455\n",
      "INFO:tensorflow:loss = 2.8150058, step = 10601 (0.301 sec)\n",
      "INFO:tensorflow:global_step/sec: 335.433\n",
      "INFO:tensorflow:loss = 1.5487041, step = 10701 (0.298 sec)\n",
      "INFO:tensorflow:global_step/sec: 313.916\n",
      "INFO:tensorflow:loss = 4.5731287, step = 10801 (0.320 sec)\n",
      "INFO:tensorflow:global_step/sec: 300.503\n",
      "INFO:tensorflow:loss = 2.4879296, step = 10901 (0.332 sec)\n",
      "INFO:tensorflow:Saving checkpoints for 11000 into ./tmp/mnist_model_256_256/model.ckpt.\n",
      "INFO:tensorflow:Loss for final step: 1.6897031.\n"
     ]
    },
    {
     "data": {
      "text/plain": [
       "<tensorflow.python.estimator.canned.dnn.DNNClassifier at 0x7f09b5384278>"
      ]
     },
     "execution_count": 11,
     "metadata": {},
     "output_type": "execute_result"
    }
   ],
   "source": [
    "tf.logging.set_verbosity(tf.logging.INFO)\n",
    "classifier.train(input_fn=train_input_fn, steps=1000)"
   ]
  },
  {
   "cell_type": "code",
   "execution_count": 12,
   "metadata": {
    "ExecuteTime": {
     "end_time": "2018-06-06T20:06:35.439820Z",
     "start_time": "2018-06-06T20:06:35.064387Z"
    },
    "slideshow": {
     "slide_type": "subslide"
    }
   },
   "outputs": [
    {
     "name": "stdout",
     "output_type": "stream",
     "text": [
      "drwxr-xr-x 3 jovyan users      96 Jun  6 20:04 eval\r\n",
      "-rw-r--r-- 1 jovyan users  138840 Jun  6 20:06 model.ckpt-10001.meta\r\n",
      "-rw-r--r-- 1 jovyan users     808 Jun  6 20:06 model.ckpt-10001.index\r\n",
      "-rw-r--r-- 1 jovyan users 3231880 Jun  6 20:06 model.ckpt-10001.data-00000-of-00001\r\n",
      "-rw-r--r-- 1 jovyan users  313784 Jun  6 20:06 graph.pbtxt\r\n",
      "-rw-r--r-- 1 jovyan users  138840 Jun  6 20:06 model.ckpt-11000.meta\r\n",
      "-rw-r--r-- 1 jovyan users     808 Jun  6 20:06 model.ckpt-11000.index\r\n",
      "-rw-r--r-- 1 jovyan users 3231880 Jun  6 20:06 model.ckpt-11000.data-00000-of-00001\r\n",
      "-rw-r--r-- 1 jovyan users 1336467 Jun  6 20:06 events.out.tfevents.1528315423.aefc6083523a\r\n",
      "-rw-r--r-- 1 jovyan users     226 Jun  6 20:06 checkpoint\r\n"
     ]
    }
   ],
   "source": [
    "# Have a look at the checkpoint directory.\n",
    "!ls -lrt ./tmp/mnist_model_256_256/ | tail"
   ]
  },
  {
   "cell_type": "markdown",
   "metadata": {
    "slideshow": {
     "slide_type": "subslide"
    }
   },
   "source": [
    "## Define test input function"
   ]
  },
  {
   "cell_type": "code",
   "execution_count": 13,
   "metadata": {
    "ExecuteTime": {
     "end_time": "2018-06-06T20:06:54.042372Z",
     "start_time": "2018-06-06T20:06:54.037632Z"
    },
    "slideshow": {
     "slide_type": "fragment"
    }
   },
   "outputs": [],
   "source": [
    "test_input_fn = tf.estimator.inputs.numpy_input_fn(\n",
    "    x={\"x\": input(mnist.test)[0]},\n",
    "    y=input(mnist.test)[1],\n",
    "    num_epochs=1,\n",
    "    shuffle=False\n",
    ")"
   ]
  },
  {
   "cell_type": "markdown",
   "metadata": {
    "ExecuteTime": {
     "end_time": "2018-06-05T19:06:04.158220Z",
     "start_time": "2018-06-05T19:06:03.540885Z"
    },
    "slideshow": {
     "slide_type": "subslide"
    }
   },
   "source": [
    "## Evaluate accuracy"
   ]
  },
  {
   "cell_type": "code",
   "execution_count": 14,
   "metadata": {
    "ExecuteTime": {
     "end_time": "2018-06-06T20:06:56.456670Z",
     "start_time": "2018-06-06T20:06:55.881012Z"
    },
    "slideshow": {
     "slide_type": "fragment"
    }
   },
   "outputs": [
    {
     "name": "stdout",
     "output_type": "stream",
     "text": [
      "INFO:tensorflow:Calling model_fn.\n",
      "INFO:tensorflow:Done calling model_fn.\n",
      "INFO:tensorflow:Starting evaluation at 2018-06-06-20:06:56\n",
      "INFO:tensorflow:Graph was finalized.\n",
      "INFO:tensorflow:Restoring parameters from ./tmp/mnist_model_256_256/model.ckpt-11000\n",
      "INFO:tensorflow:Running local_init_op.\n",
      "INFO:tensorflow:Done running local_init_op.\n",
      "INFO:tensorflow:Finished evaluation at 2018-06-06-20:06:56\n",
      "INFO:tensorflow:Saving dict for global step 11000: accuracy = 0.976, average_loss = 0.07386734, global_step = 11000, loss = 9.350297\n",
      "\n",
      "Test Accuracy: 97.600001%\n",
      "\n"
     ]
    }
   ],
   "source": [
    "accuracy_score = classifier.evaluate(input_fn=test_input_fn)[\"accuracy\"]\n",
    "print(\"\\nTest Accuracy: {0:f}%\\n\".format(accuracy_score*100))"
   ]
  },
  {
   "cell_type": "markdown",
   "metadata": {
    "slideshow": {
     "slide_type": "subslide"
    }
   },
   "source": [
    "## Summary\n",
    "* We recreated the NN defined in [3.Neural-Networks.ipynb](3.Neural-Networks.ipynb) with a higher-level API.\n",
    "* The **session** was replaced with calls to the estimator.\n",
    "* Checkpoints are automatically available: allows continuation of training on a partially trained NN.\n",
    "* **Next:** creating custom Estimators."
   ]
  }
 ],
 "metadata": {
  "celltoolbar": "Slideshow",
  "kernelspec": {
   "display_name": "Python 3",
   "language": "python",
   "name": "python3"
  },
  "language_info": {
   "codemirror_mode": {
    "name": "ipython",
    "version": 3
   },
   "file_extension": ".py",
   "mimetype": "text/x-python",
   "name": "python",
   "nbconvert_exporter": "python",
   "pygments_lexer": "ipython3",
   "version": "3.6.5"
  },
  "toc": {
   "base_numbering": 1,
   "nav_menu": {},
   "number_sections": true,
   "sideBar": true,
   "skip_h1_title": false,
   "title_cell": "Table of Contents",
   "title_sidebar": "Contents",
   "toc_cell": false,
   "toc_position": {},
   "toc_section_display": true,
   "toc_window_display": false
  },
  "varInspector": {
   "cols": {
    "lenName": 16,
    "lenType": 16,
    "lenVar": 40
   },
   "kernels_config": {
    "python": {
     "delete_cmd_postfix": "",
     "delete_cmd_prefix": "del ",
     "library": "var_list.py",
     "varRefreshCmd": "print(var_dic_list())"
    },
    "r": {
     "delete_cmd_postfix": ") ",
     "delete_cmd_prefix": "rm(",
     "library": "var_list.r",
     "varRefreshCmd": "cat(var_dic_list()) "
    }
   },
   "types_to_exclude": [
    "module",
    "function",
    "builtin_function_or_method",
    "instance",
    "_Feature"
   ],
   "window_display": false
  }
 },
 "nbformat": 4,
 "nbformat_minor": 2
}
