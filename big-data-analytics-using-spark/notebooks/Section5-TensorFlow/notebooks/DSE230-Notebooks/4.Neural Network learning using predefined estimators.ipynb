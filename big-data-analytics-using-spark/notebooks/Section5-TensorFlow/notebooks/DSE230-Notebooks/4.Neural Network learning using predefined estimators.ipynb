{
 "cells": [
  {
   "cell_type": "code",
   "execution_count": 2,
   "metadata": {
    "ExecuteTime": {
     "end_time": "2018-06-05T19:05:32.915350Z",
     "start_time": "2018-06-05T19:05:31.778023Z"
    },
    "slideshow": {
     "slide_type": "skip"
    }
   },
   "outputs": [
    {
     "name": "stderr",
     "output_type": "stream",
     "text": [
      "/opt/conda/lib/python3.6/site-packages/h5py/__init__.py:36: FutureWarning: Conversion of the second argument of issubdtype from `float` to `np.floating` is deprecated. In future, it will be treated as `np.float64 == np.dtype(float).type`.\n",
      "  from ._conv import register_converters as _register_converters\n"
     ]
    }
   ],
   "source": [
    "import tensorflow as tf\n",
    "import numpy as np\n",
    "\n",
    "import warnings\n",
    "## Tensorflow produces a lot of warnings. We generally want to suppress them. The below code does exactly that. \n",
    "warnings.filterwarnings('ignore')\n",
    "tf.logging.set_verbosity(tf.logging.ERROR)"
   ]
  },
  {
   "cell_type": "markdown",
   "metadata": {
    "slideshow": {
     "slide_type": "slide"
    }
   },
   "source": [
    "## Using predefined estimators\n",
    "In this notebook we recreate the neural network defined first in notebook [3.Neural-Networks.ipynb](3.Neural-Networks.ipynb)  \n",
    "using the predefined estimator `DNNClassifier`"
   ]
  },
  {
   "cell_type": "markdown",
   "metadata": {
    "slideshow": {
     "slide_type": "subslide"
    }
   },
   "source": [
    "## Benefits of Estimators\n",
    "\n",
    "- Estimator-based models are independent of operating environment\n",
    "    - local host\n",
    "    - GPUs\n",
    "    - CPU clusters"
   ]
  },
  {
   "cell_type": "markdown",
   "metadata": {
    "slideshow": {
     "slide_type": "subslide"
    }
   },
   "source": [
    "### More benefits\n",
    "- Simplify model sharing between developers\n",
    "- State of the art model architectures with more intuitive high-level code"
   ]
  },
  {
   "cell_type": "markdown",
   "metadata": {
    "slideshow": {
     "slide_type": "skip"
    }
   },
   "source": [
    "Consult https://www.tensorflow.org/programmers_guide/estimators for more advantages of using Estimators as described by the developers of TensorFlow."
   ]
  },
  {
   "cell_type": "markdown",
   "metadata": {
    "slideshow": {
     "slide_type": "subslide"
    }
   },
   "source": [
    "## Read Data\n",
    "The MNist dataset is available from within TensorFlow tutorials."
   ]
  },
  {
   "cell_type": "code",
   "execution_count": 10,
   "metadata": {
    "ExecuteTime": {
     "end_time": "2018-06-05T19:36:46.775849Z",
     "start_time": "2018-06-05T19:36:46.080280Z"
    },
    "slideshow": {
     "slide_type": "fragment"
    }
   },
   "outputs": [
    {
     "name": "stdout",
     "output_type": "stream",
     "text": [
      "Extracting MNIST_data/train-images-idx3-ubyte.gz\n",
      "Extracting MNIST_data/train-labels-idx1-ubyte.gz\n",
      "Extracting MNIST_data/t10k-images-idx3-ubyte.gz\n",
      "Extracting MNIST_data/t10k-labels-idx1-ubyte.gz\n"
     ]
    }
   ],
   "source": [
    "from tensorflow.examples.tutorials.mnist import input_data\n",
    "mnist = input_data.read_data_sets('MNIST_data')\n",
    "\n",
    "# Wrap input as a function (THE \"input function\" will be defined below)\n",
    "def input(dataset):\n",
    "    return dataset.images, dataset.labels.astype(np.int32)"
   ]
  },
  {
   "cell_type": "markdown",
   "metadata": {
    "slideshow": {
     "slide_type": "subslide"
    }
   },
   "source": [
    "##  Define feature columns"
   ]
  },
  {
   "cell_type": "code",
   "execution_count": 5,
   "metadata": {
    "ExecuteTime": {
     "end_time": "2018-06-05T19:05:43.474804Z",
     "start_time": "2018-06-05T19:05:43.470582Z"
    },
    "slideshow": {
     "slide_type": "fragment"
    }
   },
   "outputs": [],
   "source": [
    "# Specify feature\n",
    "feature_columns = [tf.feature_column.numeric_column(\"x\", shape=[28, 28])]"
   ]
  },
  {
   "cell_type": "markdown",
   "metadata": {
    "slideshow": {
     "slide_type": "subslide"
    }
   },
   "source": [
    "## Define Neural Network"
   ]
  },
  {
   "cell_type": "code",
   "execution_count": 13,
   "metadata": {
    "ExecuteTime": {
     "end_time": "2018-06-05T19:50:09.313970Z",
     "start_time": "2018-06-05T19:50:09.306304Z"
    },
    "slideshow": {
     "slide_type": "fragment"
    }
   },
   "outputs": [
    {
     "name": "stdout",
     "output_type": "stream",
     "text": [
      "INFO:tensorflow:Using default config.\n",
      "INFO:tensorflow:Using config: {'_model_dir': './tmp/mnist_model_256_256', '_tf_random_seed': None, '_save_summary_steps': 100, '_save_checkpoints_steps': None, '_save_checkpoints_secs': 600, '_session_config': None, '_keep_checkpoint_max': 5, '_keep_checkpoint_every_n_hours': 10000, '_log_step_count_steps': 100, '_train_distribute': None, '_service': None, '_cluster_spec': <tensorflow.python.training.server_lib.ClusterSpec object at 0x7f00735cb940>, '_task_type': 'worker', '_task_id': 0, '_global_id_in_cluster': 0, '_master': '', '_evaluation_master': '', '_is_chief': True, '_num_ps_replicas': 0, '_num_worker_replicas': 1}\n"
     ]
    }
   ],
   "source": [
    "# Build 2 layer DNN classifier\n",
    "classifier = tf.estimator.DNNClassifier(\n",
    "    feature_columns=feature_columns,\n",
    "    hidden_units=[256, 256],\n",
    "    optimizer=tf.train.AdamOptimizer(1e-4),\n",
    "    n_classes=10,\n",
    "    dropout=0.1,\n",
    "    model_dir=\"./tmp/mnist_model_256_256\"   # Location for storing checkpoints.\n",
    ")"
   ]
  },
  {
   "cell_type": "markdown",
   "metadata": {
    "slideshow": {
     "slide_type": "subslide"
    }
   },
   "source": [
    "## Define training input function\n",
    "* Supplies data for training, evaluation, prediction\n",
    "* Should yield tuples of:\n",
    "    - Python dict `features`: key = name of feature, value = array of feature values\n",
    "    - Array `label` : label for every example"
   ]
  },
  {
   "cell_type": "code",
   "execution_count": 20,
   "metadata": {
    "ExecuteTime": {
     "end_time": "2018-06-05T19:51:48.515998Z",
     "start_time": "2018-06-05T19:51:48.508173Z"
    },
    "slideshow": {
     "slide_type": "fragment"
    }
   },
   "outputs": [],
   "source": [
    "# Define the training inputs\n",
    "train_input_fn = tf.estimator.inputs.numpy_input_fn(\n",
    "    x={\"x\": input(mnist.train)[0]},\n",
    "    y=input(mnist.train)[1],\n",
    "    num_epochs=None,\n",
    "    batch_size=50,\n",
    "    shuffle=True\n",
    ")"
   ]
  },
  {
   "cell_type": "markdown",
   "metadata": {},
   "source": [
    "## Train the neural network\n",
    "* Checkpoint used for \"warm start\"\n",
    "* Checkpoints saved"
   ]
  },
  {
   "cell_type": "code",
   "execution_count": 21,
   "metadata": {
    "ExecuteTime": {
     "end_time": "2018-06-05T19:52:20.034065Z",
     "start_time": "2018-06-05T19:51:49.814922Z"
    },
    "scrolled": true,
    "slideshow": {
     "slide_type": "subslide"
    }
   },
   "outputs": [
    {
     "name": "stdout",
     "output_type": "stream",
     "text": [
      "INFO:tensorflow:Calling model_fn.\n",
      "INFO:tensorflow:Done calling model_fn.\n",
      "INFO:tensorflow:Create CheckpointSaverHook.\n",
      "INFO:tensorflow:Graph was finalized.\n",
      "INFO:tensorflow:Restoring parameters from ./tmp/mnist_model_256_256/model.ckpt-1000\n",
      "INFO:tensorflow:Running local_init_op.\n",
      "INFO:tensorflow:Done running local_init_op.\n",
      "INFO:tensorflow:Saving checkpoints for 1001 into ./tmp/mnist_model_256_256/model.ckpt.\n",
      "INFO:tensorflow:loss = 10.7845, step = 1001\n",
      "INFO:tensorflow:global_step/sec: 285.869\n",
      "INFO:tensorflow:loss = 20.021835, step = 1101 (0.351 sec)\n",
      "INFO:tensorflow:global_step/sec: 352.784\n",
      "INFO:tensorflow:loss = 7.6053376, step = 1201 (0.283 sec)\n",
      "INFO:tensorflow:global_step/sec: 334.544\n",
      "INFO:tensorflow:loss = 12.817944, step = 1301 (0.299 sec)\n",
      "INFO:tensorflow:global_step/sec: 344.687\n",
      "INFO:tensorflow:loss = 21.905014, step = 1401 (0.290 sec)\n",
      "INFO:tensorflow:global_step/sec: 340.552\n",
      "INFO:tensorflow:loss = 7.4117017, step = 1501 (0.294 sec)\n",
      "INFO:tensorflow:global_step/sec: 334.818\n",
      "INFO:tensorflow:loss = 9.660003, step = 1601 (0.299 sec)\n",
      "INFO:tensorflow:global_step/sec: 333.102\n",
      "INFO:tensorflow:loss = 15.055345, step = 1701 (0.300 sec)\n",
      "INFO:tensorflow:global_step/sec: 340.424\n",
      "INFO:tensorflow:loss = 9.286713, step = 1801 (0.294 sec)\n",
      "INFO:tensorflow:global_step/sec: 334.669\n",
      "INFO:tensorflow:loss = 14.762703, step = 1901 (0.299 sec)\n",
      "INFO:tensorflow:global_step/sec: 299.957\n",
      "INFO:tensorflow:loss = 8.1557665, step = 2001 (0.334 sec)\n",
      "INFO:tensorflow:global_step/sec: 319.001\n",
      "INFO:tensorflow:loss = 5.854008, step = 2101 (0.313 sec)\n",
      "INFO:tensorflow:global_step/sec: 310.194\n",
      "INFO:tensorflow:loss = 25.640173, step = 2201 (0.323 sec)\n",
      "INFO:tensorflow:global_step/sec: 315.376\n",
      "INFO:tensorflow:loss = 18.358438, step = 2301 (0.317 sec)\n",
      "INFO:tensorflow:global_step/sec: 337.342\n",
      "INFO:tensorflow:loss = 12.699578, step = 2401 (0.296 sec)\n",
      "INFO:tensorflow:global_step/sec: 321.892\n",
      "INFO:tensorflow:loss = 11.594195, step = 2501 (0.311 sec)\n",
      "INFO:tensorflow:global_step/sec: 314.286\n",
      "INFO:tensorflow:loss = 11.489472, step = 2601 (0.318 sec)\n",
      "INFO:tensorflow:global_step/sec: 317.896\n",
      "INFO:tensorflow:loss = 8.242698, step = 2701 (0.314 sec)\n",
      "INFO:tensorflow:global_step/sec: 337.044\n",
      "INFO:tensorflow:loss = 9.438755, step = 2801 (0.297 sec)\n",
      "INFO:tensorflow:global_step/sec: 353.513\n",
      "INFO:tensorflow:loss = 6.7353153, step = 2901 (0.284 sec)\n",
      "INFO:tensorflow:global_step/sec: 353.511\n",
      "INFO:tensorflow:loss = 11.528963, step = 3001 (0.283 sec)\n",
      "INFO:tensorflow:global_step/sec: 342.799\n",
      "INFO:tensorflow:loss = 15.293615, step = 3101 (0.292 sec)\n",
      "INFO:tensorflow:global_step/sec: 334.348\n",
      "INFO:tensorflow:loss = 8.174885, step = 3201 (0.299 sec)\n",
      "INFO:tensorflow:global_step/sec: 335.727\n",
      "INFO:tensorflow:loss = 4.797207, step = 3301 (0.297 sec)\n",
      "INFO:tensorflow:global_step/sec: 341.084\n",
      "INFO:tensorflow:loss = 8.326343, step = 3401 (0.294 sec)\n",
      "INFO:tensorflow:global_step/sec: 351.719\n",
      "INFO:tensorflow:loss = 16.044916, step = 3501 (0.284 sec)\n",
      "INFO:tensorflow:global_step/sec: 345.811\n",
      "INFO:tensorflow:loss = 3.5294979, step = 3601 (0.290 sec)\n",
      "INFO:tensorflow:global_step/sec: 341.313\n",
      "INFO:tensorflow:loss = 4.527413, step = 3701 (0.292 sec)\n",
      "INFO:tensorflow:global_step/sec: 346.902\n",
      "INFO:tensorflow:loss = 14.092654, step = 3801 (0.289 sec)\n",
      "INFO:tensorflow:global_step/sec: 359.158\n",
      "INFO:tensorflow:loss = 3.9810762, step = 3901 (0.279 sec)\n",
      "INFO:tensorflow:global_step/sec: 354.817\n",
      "INFO:tensorflow:loss = 8.355632, step = 4001 (0.281 sec)\n",
      "INFO:tensorflow:global_step/sec: 357.199\n",
      "INFO:tensorflow:loss = 17.427406, step = 4101 (0.281 sec)\n",
      "INFO:tensorflow:global_step/sec: 346.362\n",
      "INFO:tensorflow:loss = 5.578084, step = 4201 (0.287 sec)\n",
      "INFO:tensorflow:global_step/sec: 347.391\n",
      "INFO:tensorflow:loss = 10.412867, step = 4301 (0.288 sec)\n",
      "INFO:tensorflow:global_step/sec: 359.308\n",
      "INFO:tensorflow:loss = 2.8918958, step = 4401 (0.279 sec)\n",
      "INFO:tensorflow:global_step/sec: 360.564\n",
      "INFO:tensorflow:loss = 7.8160663, step = 4501 (0.276 sec)\n",
      "INFO:tensorflow:global_step/sec: 360.88\n",
      "INFO:tensorflow:loss = 11.666205, step = 4601 (0.277 sec)\n",
      "INFO:tensorflow:global_step/sec: 354.8\n",
      "INFO:tensorflow:loss = 1.3930342, step = 4701 (0.283 sec)\n",
      "INFO:tensorflow:global_step/sec: 355.992\n",
      "INFO:tensorflow:loss = 4.3457174, step = 4801 (0.280 sec)\n",
      "INFO:tensorflow:global_step/sec: 358.208\n",
      "INFO:tensorflow:loss = 5.6881847, step = 4901 (0.279 sec)\n",
      "INFO:tensorflow:global_step/sec: 346.373\n",
      "INFO:tensorflow:loss = 1.3905385, step = 5001 (0.289 sec)\n",
      "INFO:tensorflow:global_step/sec: 352.44\n",
      "INFO:tensorflow:loss = 2.4811141, step = 5101 (0.284 sec)\n",
      "INFO:tensorflow:global_step/sec: 346.175\n",
      "INFO:tensorflow:loss = 4.1410875, step = 5201 (0.288 sec)\n",
      "INFO:tensorflow:global_step/sec: 360.201\n",
      "INFO:tensorflow:loss = 5.1307464, step = 5301 (0.278 sec)\n",
      "INFO:tensorflow:global_step/sec: 342.034\n",
      "INFO:tensorflow:loss = 2.952112, step = 5401 (0.293 sec)\n",
      "INFO:tensorflow:global_step/sec: 356.946\n",
      "INFO:tensorflow:loss = 9.036381, step = 5501 (0.279 sec)\n",
      "INFO:tensorflow:global_step/sec: 356.166\n",
      "INFO:tensorflow:loss = 1.4698986, step = 5601 (0.281 sec)\n",
      "INFO:tensorflow:global_step/sec: 348.229\n",
      "INFO:tensorflow:loss = 8.983805, step = 5701 (0.289 sec)\n",
      "INFO:tensorflow:global_step/sec: 337.161\n",
      "INFO:tensorflow:loss = 13.172358, step = 5801 (0.297 sec)\n",
      "INFO:tensorflow:global_step/sec: 352.99\n",
      "INFO:tensorflow:loss = 9.996645, step = 5901 (0.282 sec)\n",
      "INFO:tensorflow:global_step/sec: 349.515\n",
      "INFO:tensorflow:loss = 6.146653, step = 6001 (0.287 sec)\n",
      "INFO:tensorflow:global_step/sec: 348.394\n",
      "INFO:tensorflow:loss = 3.476472, step = 6101 (0.286 sec)\n",
      "INFO:tensorflow:global_step/sec: 356.538\n",
      "INFO:tensorflow:loss = 2.3623757, step = 6201 (0.281 sec)\n",
      "INFO:tensorflow:global_step/sec: 364.642\n",
      "INFO:tensorflow:loss = 2.2942498, step = 6301 (0.274 sec)\n",
      "INFO:tensorflow:global_step/sec: 351.49\n",
      "INFO:tensorflow:loss = 1.8838717, step = 6401 (0.286 sec)\n",
      "INFO:tensorflow:global_step/sec: 350.86\n",
      "INFO:tensorflow:loss = 1.4279011, step = 6501 (0.284 sec)\n",
      "INFO:tensorflow:global_step/sec: 358.042\n",
      "INFO:tensorflow:loss = 1.7346954, step = 6601 (0.279 sec)\n",
      "INFO:tensorflow:global_step/sec: 297.369\n",
      "INFO:tensorflow:loss = 3.7008219, step = 6701 (0.336 sec)\n",
      "INFO:tensorflow:global_step/sec: 327.765\n",
      "INFO:tensorflow:loss = 8.652059, step = 6801 (0.305 sec)\n",
      "INFO:tensorflow:global_step/sec: 332.221\n",
      "INFO:tensorflow:loss = 3.0648181, step = 6901 (0.301 sec)\n",
      "INFO:tensorflow:global_step/sec: 340.681\n",
      "INFO:tensorflow:loss = 4.4802775, step = 7001 (0.293 sec)\n",
      "INFO:tensorflow:global_step/sec: 325.764\n",
      "INFO:tensorflow:loss = 3.3743546, step = 7101 (0.307 sec)\n",
      "INFO:tensorflow:global_step/sec: 333.496\n",
      "INFO:tensorflow:loss = 1.8859456, step = 7201 (0.300 sec)\n",
      "INFO:tensorflow:global_step/sec: 328.957\n",
      "INFO:tensorflow:loss = 5.487936, step = 7301 (0.304 sec)\n",
      "INFO:tensorflow:global_step/sec: 297.031\n",
      "INFO:tensorflow:loss = 7.5030026, step = 7401 (0.337 sec)\n",
      "INFO:tensorflow:global_step/sec: 297.74\n",
      "INFO:tensorflow:loss = 2.3598742, step = 7501 (0.338 sec)\n",
      "INFO:tensorflow:global_step/sec: 307.255\n",
      "INFO:tensorflow:loss = 3.3136063, step = 7601 (0.326 sec)\n",
      "INFO:tensorflow:global_step/sec: 306.324\n",
      "INFO:tensorflow:loss = 12.872252, step = 7701 (0.326 sec)\n",
      "INFO:tensorflow:global_step/sec: 322.959\n",
      "INFO:tensorflow:loss = 3.7033505, step = 7801 (0.309 sec)\n",
      "INFO:tensorflow:global_step/sec: 353.18\n",
      "INFO:tensorflow:loss = 6.995416, step = 7901 (0.283 sec)\n",
      "INFO:tensorflow:global_step/sec: 269.266\n",
      "INFO:tensorflow:loss = 7.5321536, step = 8001 (0.372 sec)\n",
      "INFO:tensorflow:global_step/sec: 321.327\n",
      "INFO:tensorflow:loss = 6.0742035, step = 8101 (0.311 sec)\n",
      "INFO:tensorflow:global_step/sec: 357.998\n",
      "INFO:tensorflow:loss = 8.1739435, step = 8201 (0.279 sec)\n",
      "INFO:tensorflow:global_step/sec: 363.387\n",
      "INFO:tensorflow:loss = 3.9904153, step = 8301 (0.275 sec)\n",
      "INFO:tensorflow:global_step/sec: 350.736\n",
      "INFO:tensorflow:loss = 5.306895, step = 8401 (0.285 sec)\n",
      "INFO:tensorflow:global_step/sec: 354.784\n",
      "INFO:tensorflow:loss = 4.017667, step = 8501 (0.281 sec)\n",
      "INFO:tensorflow:global_step/sec: 351.941\n",
      "INFO:tensorflow:loss = 3.9859316, step = 8601 (0.284 sec)\n",
      "INFO:tensorflow:global_step/sec: 339.141\n",
      "INFO:tensorflow:loss = 3.1335542, step = 8701 (0.296 sec)\n",
      "INFO:tensorflow:global_step/sec: 348.299\n",
      "INFO:tensorflow:loss = 5.383866, step = 8801 (0.291 sec)\n",
      "INFO:tensorflow:global_step/sec: 355.063\n",
      "INFO:tensorflow:loss = 4.6782966, step = 8901 (0.277 sec)\n"
     ]
    },
    {
     "name": "stdout",
     "output_type": "stream",
     "text": [
      "INFO:tensorflow:global_step/sec: 349.703\n",
      "INFO:tensorflow:loss = 6.8408923, step = 9001 (0.286 sec)\n",
      "INFO:tensorflow:global_step/sec: 356.258\n",
      "INFO:tensorflow:loss = 3.9635491, step = 9101 (0.281 sec)\n",
      "INFO:tensorflow:global_step/sec: 366.011\n",
      "INFO:tensorflow:loss = 1.77024, step = 9201 (0.273 sec)\n",
      "INFO:tensorflow:global_step/sec: 369.635\n",
      "INFO:tensorflow:loss = 8.391723, step = 9301 (0.271 sec)\n",
      "INFO:tensorflow:global_step/sec: 362.501\n",
      "INFO:tensorflow:loss = 0.45997304, step = 9401 (0.276 sec)\n",
      "INFO:tensorflow:global_step/sec: 368.357\n",
      "INFO:tensorflow:loss = 1.7720134, step = 9501 (0.271 sec)\n",
      "INFO:tensorflow:global_step/sec: 369.648\n",
      "INFO:tensorflow:loss = 5.812295, step = 9601 (0.271 sec)\n",
      "INFO:tensorflow:global_step/sec: 366.741\n",
      "INFO:tensorflow:loss = 4.0835114, step = 9701 (0.271 sec)\n",
      "INFO:tensorflow:global_step/sec: 369.925\n",
      "INFO:tensorflow:loss = 6.994205, step = 9801 (0.271 sec)\n",
      "INFO:tensorflow:global_step/sec: 364.982\n",
      "INFO:tensorflow:loss = 5.3393254, step = 9901 (0.274 sec)\n",
      "INFO:tensorflow:global_step/sec: 360.357\n",
      "INFO:tensorflow:loss = 8.457985, step = 10001 (0.277 sec)\n",
      "INFO:tensorflow:global_step/sec: 365.789\n",
      "INFO:tensorflow:loss = 1.1069167, step = 10101 (0.273 sec)\n",
      "INFO:tensorflow:global_step/sec: 362.165\n",
      "INFO:tensorflow:loss = 2.8619654, step = 10201 (0.276 sec)\n",
      "INFO:tensorflow:global_step/sec: 371.474\n",
      "INFO:tensorflow:loss = 2.1199696, step = 10301 (0.270 sec)\n",
      "INFO:tensorflow:global_step/sec: 369.686\n",
      "INFO:tensorflow:loss = 2.8512897, step = 10401 (0.271 sec)\n",
      "INFO:tensorflow:global_step/sec: 369.698\n",
      "INFO:tensorflow:loss = 0.92543876, step = 10501 (0.270 sec)\n",
      "INFO:tensorflow:global_step/sec: 361.719\n",
      "INFO:tensorflow:loss = 3.950056, step = 10601 (0.277 sec)\n",
      "INFO:tensorflow:global_step/sec: 370.943\n",
      "INFO:tensorflow:loss = 1.410541, step = 10701 (0.268 sec)\n",
      "INFO:tensorflow:global_step/sec: 365.699\n",
      "INFO:tensorflow:loss = 2.532562, step = 10801 (0.274 sec)\n",
      "INFO:tensorflow:global_step/sec: 369.652\n",
      "INFO:tensorflow:loss = 2.3557732, step = 10901 (0.270 sec)\n",
      "INFO:tensorflow:Saving checkpoints for 11000 into ./tmp/mnist_model_256_256/model.ckpt.\n",
      "INFO:tensorflow:Loss for final step: 2.4743228.\n"
     ]
    },
    {
     "data": {
      "text/plain": [
       "<tensorflow.python.estimator.canned.dnn.DNNClassifier at 0x7f0035d30cc0>"
      ]
     },
     "execution_count": 21,
     "metadata": {},
     "output_type": "execute_result"
    }
   ],
   "source": [
    "tf.logging.set_verbosity(tf.logging.INFO)\n",
    "classifier.train(input_fn=train_input_fn, steps=10000)"
   ]
  },
  {
   "cell_type": "code",
   "execution_count": 11,
   "metadata": {
    "ExecuteTime": {
     "end_time": "2018-06-05T23:10:29.998938Z",
     "start_time": "2018-06-05T23:10:29.578963Z"
    },
    "slideshow": {
     "slide_type": "subslide"
    }
   },
   "outputs": [
    {
     "name": "stdout",
     "output_type": "stream",
     "text": [
      "-rw-r--r-- 1 jovyan users  138840 Jun  5 22:14 model.ckpt-11001.meta\r\n",
      "-rw-r--r-- 1 jovyan users     808 Jun  5 22:14 model.ckpt-11001.index\r\n",
      "-rw-r--r-- 1 jovyan users 3231880 Jun  5 22:14 model.ckpt-11001.data-00000-of-00001\r\n",
      "-rw-r--r-- 1 jovyan users  313784 Jun  5 22:14 graph.pbtxt\r\n",
      "-rw-r--r-- 1 jovyan users  138840 Jun  5 22:15 model.ckpt-21000.meta\r\n",
      "-rw-r--r-- 1 jovyan users     808 Jun  5 22:15 model.ckpt-21000.index\r\n",
      "-rw-r--r-- 1 jovyan users 3231880 Jun  5 22:15 model.ckpt-21000.data-00000-of-00001\r\n",
      "-rw-r--r-- 1 jovyan users 1017534 Jun  5 22:15 events.out.tfevents.1528236907.5538709837a2\r\n",
      "-rw-r--r-- 1 jovyan users     275 Jun  5 22:15 checkpoint\r\n",
      "drwxr-xr-x 4 jovyan users     128 Jun  5 22:15 eval\r\n"
     ]
    }
   ],
   "source": [
    "# Have a look at the checkpoint directory.\n",
    "!ls -lrt ./tmp/mnist_model_256_256/ | tail"
   ]
  },
  {
   "cell_type": "markdown",
   "metadata": {
    "slideshow": {
     "slide_type": "subslide"
    }
   },
   "source": [
    "## Define test input function"
   ]
  },
  {
   "cell_type": "code",
   "execution_count": 23,
   "metadata": {
    "ExecuteTime": {
     "end_time": "2018-06-05T19:53:13.190674Z",
     "start_time": "2018-06-05T19:53:13.182678Z"
    },
    "slideshow": {
     "slide_type": "fragment"
    }
   },
   "outputs": [],
   "source": [
    "test_input_fn = tf.estimator.inputs.numpy_input_fn(\n",
    "    x={\"x\": input(mnist.test)[0]},\n",
    "    y=input(mnist.test)[1],\n",
    "    num_epochs=1,\n",
    "    shuffle=False\n",
    ")"
   ]
  },
  {
   "cell_type": "markdown",
   "metadata": {
    "ExecuteTime": {
     "end_time": "2018-06-05T19:06:04.158220Z",
     "start_time": "2018-06-05T19:06:03.540885Z"
    },
    "slideshow": {
     "slide_type": "subslide"
    }
   },
   "source": [
    "## Evaluate accuracy"
   ]
  },
  {
   "cell_type": "code",
   "execution_count": 24,
   "metadata": {
    "ExecuteTime": {
     "end_time": "2018-06-05T19:53:15.521541Z",
     "start_time": "2018-06-05T19:53:14.970007Z"
    },
    "slideshow": {
     "slide_type": "fragment"
    }
   },
   "outputs": [
    {
     "name": "stdout",
     "output_type": "stream",
     "text": [
      "INFO:tensorflow:Calling model_fn.\n",
      "INFO:tensorflow:Done calling model_fn.\n",
      "INFO:tensorflow:Starting evaluation at 2018-06-05-19:53:15\n",
      "INFO:tensorflow:Graph was finalized.\n",
      "INFO:tensorflow:Restoring parameters from ./tmp/mnist_model_256_256/model.ckpt-11000\n",
      "INFO:tensorflow:Running local_init_op.\n",
      "INFO:tensorflow:Done running local_init_op.\n",
      "INFO:tensorflow:Finished evaluation at 2018-06-05-19:53:15\n",
      "INFO:tensorflow:Saving dict for global step 11000: accuracy = 0.9765, average_loss = 0.07637801, global_step = 11000, loss = 9.668102\n",
      "\n",
      "Test Accuracy: 97.649997%\n",
      "\n"
     ]
    }
   ],
   "source": [
    "accuracy_score = classifier.evaluate(input_fn=test_input_fn)[\"accuracy\"]\n",
    "print(\"\\nTest Accuracy: {0:f}%\\n\".format(accuracy_score*100))"
   ]
  },
  {
   "cell_type": "code",
   "execution_count": null,
   "metadata": {},
   "outputs": [],
   "source": []
  }
 ],
 "metadata": {
  "celltoolbar": "Slideshow",
  "kernelspec": {
   "display_name": "Python 3",
   "language": "python",
   "name": "python3"
  },
  "language_info": {
   "codemirror_mode": {
    "name": "ipython",
    "version": 3
   },
   "file_extension": ".py",
   "mimetype": "text/x-python",
   "name": "python",
   "nbconvert_exporter": "python",
   "pygments_lexer": "ipython3",
   "version": "3.6.5"
  },
  "toc": {
   "base_numbering": 1,
   "nav_menu": {},
   "number_sections": true,
   "sideBar": true,
   "skip_h1_title": false,
   "title_cell": "Table of Contents",
   "title_sidebar": "Contents",
   "toc_cell": false,
   "toc_position": {},
   "toc_section_display": true,
   "toc_window_display": false
  },
  "varInspector": {
   "cols": {
    "lenName": 16,
    "lenType": 16,
    "lenVar": 40
   },
   "kernels_config": {
    "python": {
     "delete_cmd_postfix": "",
     "delete_cmd_prefix": "del ",
     "library": "var_list.py",
     "varRefreshCmd": "print(var_dic_list())"
    },
    "r": {
     "delete_cmd_postfix": ") ",
     "delete_cmd_prefix": "rm(",
     "library": "var_list.r",
     "varRefreshCmd": "cat(var_dic_list()) "
    }
   },
   "types_to_exclude": [
    "module",
    "function",
    "builtin_function_or_method",
    "instance",
    "_Feature"
   ],
   "window_display": false
  }
 },
 "nbformat": 4,
 "nbformat_minor": 2
}
