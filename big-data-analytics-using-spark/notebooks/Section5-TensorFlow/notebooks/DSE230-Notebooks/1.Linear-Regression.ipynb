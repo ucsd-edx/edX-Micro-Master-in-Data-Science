{
 "cells": [
  {
   "cell_type": "markdown",
   "metadata": {
    "slideshow": {
     "slide_type": "slide"
    }
   },
   "source": [
    "# Linear Regression using TensorFlow\n",
    "\n",
    "* This notebook is adapted from [Aymeric Damian's notebook](https://github.com/aymericdamien/TensorFlow-Examples/blob/master/notebooks/2_BasicModels/linear_regression.ipynb) \n",
    "\n",
    "* Clone the full collection [here](https://github.com/aymericdamien/TensorFlow-Examples)."
   ]
  },
  {
   "cell_type": "markdown",
   "metadata": {
    "slideshow": {
     "slide_type": "subslide"
    }
   },
   "source": [
    "## What is a Tensor?\n",
    "\n",
    "A [Tensor](https://en.wikipedia.org/wiki/Tensor) in mathematics is an object that specifies a linear relationship.\n",
    "\n",
    "In **Tensorflow** the term Tensor corresponds to a $k$ dimensional arrays of numbers. Specifically:   \n",
    "1. A $0$-dimensional tensor is a Scalar.\n",
    "2. A $1$-dimensional tensor is a Vector, or a $1$-dimensional numpy array.\n",
    "3. A $2$ dimensional tensor is a Matrix.\n",
    "4. A $k$ dimensional tensor is a $k$ dimensional numpy array.\n",
    "\n",
    "Tensors are the main data type in TensorFlow. In other words, most variables in TensorFlow are numpy arrays."
   ]
  },
  {
   "cell_type": "markdown",
   "metadata": {
    "slideshow": {
     "slide_type": "skip"
    }
   },
   "source": [
    "## What is Linear Regression?\n",
    "\n",
    "We are assuming that this is not the first time you are using Linear, if it isnt, \n",
    "we recommend you review: [linear regression review in dataschool.io](http://www.dataschool.io/linear-regression-in-python/)\n",
    "\n",
    "Linear regression attempts to model the relationship between two variables by fitting a linear equation to observed data. One variable is considered to be an explanatory variable, and the others are considered to be dependent variables. For our example, we want to relate the variable Y to the variable X using a linear regression model. "
   ]
  },
  {
   "cell_type": "markdown",
   "metadata": {
    "slideshow": {
     "slide_type": "subslide"
    }
   },
   "source": [
    "## A linear model\n",
    "\n",
    "$\\hat{y}$ is a linear function of the vector $\\vec{x}=(x_1,\\ldots,x_p)$ if:  \n",
    "$\\hat{y} = b + w_1 x_1 + \\ldots+w_p x_p$  \n",
    "Where:  \n",
    "* $\\hat{y}$ is the estimate of the true output $y$.\n",
    "* $\\vec{w} = (w_1,\\ldots,v_p)$ are the weights\n",
    "* $b$ is the bias term\n",
    "* $\\vec{x}=(x_1,\\ldots,x_p)$ is the feature vector"
   ]
  },
  {
   "cell_type": "markdown",
   "metadata": {
    "slideshow": {
     "slide_type": "fragment"
    }
   },
   "source": [
    "More succinctly:  $ \\hat{y}= b + \\vec{w} \\cdot \\vec{x}$"
   ]
  },
  {
   "cell_type": "markdown",
   "metadata": {
    "slideshow": {
     "slide_type": "subslide"
    }
   },
   "source": [
    "### Some toy data"
   ]
  },
  {
   "cell_type": "code",
   "execution_count": 1,
   "metadata": {
    "ExecuteTime": {
     "end_time": "2018-05-28T18:08:34.834460Z",
     "start_time": "2018-05-28T18:08:33.465827Z"
    },
    "slideshow": {
     "slide_type": "skip"
    }
   },
   "outputs": [
    {
     "name": "stderr",
     "output_type": "stream",
     "text": [
      "/opt/conda/lib/python3.6/site-packages/h5py/__init__.py:36: FutureWarning: Conversion of the second argument of issubdtype from `float` to `np.floating` is deprecated. In future, it will be treated as `np.float64 == np.dtype(float).type`.\n",
      "  from ._conv import register_converters as _register_converters\n"
     ]
    }
   ],
   "source": [
    "import tensorflow as tf\n",
    "import numpy as np\n",
    "import matplotlib.pyplot as plt \n",
    "rng = np.random\n",
    "logs_path = 'logs/lesson1'"
   ]
  },
  {
   "cell_type": "code",
   "execution_count": 2,
   "metadata": {
    "ExecuteTime": {
     "end_time": "2018-05-28T18:08:34.844304Z",
     "start_time": "2018-05-28T18:08:34.836891Z"
    },
    "slideshow": {
     "slide_type": "fragment"
    }
   },
   "outputs": [],
   "source": [
    "train_X = np.asarray([3.3,4.4,5.5,6.71,6.93,4.168,9.779,6.182,7.59,2.167,\n",
    "                         7.042,10.791,5.313,7.997,5.654,9.27,3.1])\n",
    "train_Y = np.asarray([1.7,2.76,2.09,3.19,1.694,1.573,3.366,2.596,2.53,1.221,\n",
    "                         2.827,3.465,1.65,2.904,2.42,2.94,1.3])\n",
    "n_samples = train_X.shape[0]"
   ]
  },
  {
   "cell_type": "markdown",
   "metadata": {
    "slideshow": {
     "slide_type": "subslide"
    }
   },
   "source": [
    "## Tensorflow representation of a Linear Regression Model"
   ]
  },
  {
   "cell_type": "markdown",
   "metadata": {
    "slideshow": {
     "slide_type": "skip"
    }
   },
   "source": [
    "TensorFlow concepts:\n",
    "\n",
    "|  Tensorflow  | common term | Description |\n",
    "| --- | --- | ---|\n",
    "| placeholder | input ports | Associated with an input stream |\n",
    "| variable    | Variables | Maintained between input examples and between epochs |\n",
    "| name_scope  | subroutine name-spaces | Used to encapsulate the functions of a **node** \n",
    "| Session     | Run-time environment | Used to execute the computation graph on training data |"
   ]
  },
  {
   "cell_type": "markdown",
   "metadata": {
    "slideshow": {
     "slide_type": "subslide"
    }
   },
   "source": [
    "### [Placeholders](https://www.tensorflow.org/api_guides/python/io_ops#Placeholders) \n",
    "Define entry points for training data. Similar to *ports* in computer systems."
   ]
  },
  {
   "cell_type": "code",
   "execution_count": 3,
   "metadata": {
    "ExecuteTime": {
     "end_time": "2018-05-28T18:08:34.865407Z",
     "start_time": "2018-05-28T18:08:34.846927Z"
    },
    "slideshow": {
     "slide_type": "fragment"
    }
   },
   "outputs": [],
   "source": [
    "# Input to the graph\n",
    "y = tf.placeholder(dtype = tf.float32, name = 'InputData') # Placeholders - https://www.tensorflow.org/api_guides/python/io_ops#Placeholders\n",
    "x = tf.placeholder(dtype = tf.float32, name = 'LabelData')"
   ]
  },
  {
   "cell_type": "markdown",
   "metadata": {
    "slideshow": {
     "slide_type": "subslide"
    }
   },
   "source": [
    "### [Variables](https://www.tensorflow.org/programmers_guide/variables)\n",
    "Similar to variables in a programming language such as python."
   ]
  },
  {
   "cell_type": "code",
   "execution_count": 4,
   "metadata": {
    "ExecuteTime": {
     "end_time": "2018-05-28T18:08:34.880014Z",
     "start_time": "2018-05-28T18:08:34.867471Z"
    },
    "slideshow": {
     "slide_type": "fragment"
    }
   },
   "outputs": [],
   "source": [
    "# Model parameters are defined using variables\n",
    "# Variables retain their value even outside the bounds of a session's run call\n",
    "w = tf.Variable(initial_value = rng.randn(), name = \"weight\") \n",
    "b = tf.Variable(initial_value = rng.randn(), name = \"bias\")"
   ]
  },
  {
   "cell_type": "markdown",
   "metadata": {
    "slideshow": {
     "slide_type": "subslide"
    }
   },
   "source": [
    "### name_scope\n",
    "Defines a name-space which is used by a function. and defines a node in the TensorFlow graph."
   ]
  },
  {
   "cell_type": "code",
   "execution_count": 5,
   "metadata": {
    "ExecuteTime": {
     "end_time": "2018-05-28T18:08:34.888147Z",
     "start_time": "2018-05-28T18:08:34.881777Z"
    },
    "slideshow": {
     "slide_type": "fragment"
    }
   },
   "outputs": [],
   "source": [
    "# Connecting up the nodes in our linear model\n",
    "# y = b + Wx\n",
    "with tf.name_scope('model'):\n",
    "    prediction = tf.add(b, tf.multiply(w, x))\n",
    "\n",
    "# prediction holds the tensor that is the output of the operation add which takes tensors b, and the output of the multiply operation between the weight w, and the input x"
   ]
  },
  {
   "cell_type": "markdown",
   "metadata": {
    "slideshow": {
     "slide_type": "subslide"
    }
   },
   "source": [
    "## Learning the Regression parameters\n",
    "\n",
    "Now that we have the linear model, we need to define the **Loss** and the **Optimizer** that will learn the parameters `w,b` from training data."
   ]
  },
  {
   "cell_type": "markdown",
   "metadata": {
    "slideshow": {
     "slide_type": "subslide"
    }
   },
   "source": [
    "### Defining the average loss\n",
    "We define the loss to be the average of the square errors.\n",
    "$$\\mbox{loss} = \\frac{\\sum_{i=1}^n (\\hat{y} - y)^2}{n}$$"
   ]
  },
  {
   "cell_type": "code",
   "execution_count": 6,
   "metadata": {
    "ExecuteTime": {
     "end_time": "2018-05-28T18:08:34.905180Z",
     "start_time": "2018-05-28T18:08:34.890949Z"
    },
    "slideshow": {
     "slide_type": "fragment"
    }
   },
   "outputs": [],
   "source": [
    "with tf.name_scope('Loss'):\n",
    "    loss = tf.reduce_sum( input_tensor = tf.pow(prediction-y, 2))/(2*n_samples)"
   ]
  },
  {
   "cell_type": "code",
   "execution_count": 7,
   "metadata": {
    "ExecuteTime": {
     "end_time": "2018-05-28T18:08:34.914973Z",
     "start_time": "2018-05-28T18:08:34.908161Z"
    },
    "slideshow": {
     "slide_type": "skip"
    }
   },
   "outputs": [],
   "source": [
    "## The purpose of the following two commands is to log the activity \n",
    "tf.summary.scalar(\"loss\", loss)\n",
    "merged_summary_op = tf.summary.merge_all()"
   ]
  },
  {
   "cell_type": "markdown",
   "metadata": {
    "slideshow": {
     "slide_type": "subslide"
    }
   },
   "source": [
    "### Defining the optimizer\n",
    "Our goal is to find the settings of `w,b` that minimize the average loss. **Tensorflow** has a number of [powerful optimizers built-in](https://www.tensorflow.org/api_guides/python/train#Optimizers). Here we are using one of the implest ones: Stochastic Gradient Descent(SGD)."
   ]
  },
  {
   "cell_type": "code",
   "execution_count": 8,
   "metadata": {
    "ExecuteTime": {
     "end_time": "2018-05-28T18:08:34.994091Z",
     "start_time": "2018-05-28T18:08:34.917063Z"
    },
    "slideshow": {
     "slide_type": "fragment"
    }
   },
   "outputs": [],
   "source": [
    "learning_rate = 0.01\n",
    "with tf.name_scope('SGD'):\n",
    "    optimizer = tf.train.GradientDescentOptimizer(learning_rate).minimize(loss)"
   ]
  },
  {
   "cell_type": "code",
   "execution_count": 9,
   "metadata": {
    "ExecuteTime": {
     "end_time": "2018-05-28T18:08:35.000639Z",
     "start_time": "2018-05-28T18:08:34.996290Z"
    },
    "slideshow": {
     "slide_type": "skip"
    }
   },
   "outputs": [],
   "source": [
    "# We also need an operation to initialize our global variables (w and b)\n",
    "init = tf.global_variables_initializer()"
   ]
  },
  {
   "cell_type": "markdown",
   "metadata": {
    "slideshow": {
     "slide_type": "subslide"
    }
   },
   "source": [
    "## The computational graph\n",
    "\n",
    "### Hand-drawn\n",
    "(Using [LucidChart](https://www.lucidchart.com/))\n",
    "<center><img src=\"img/LinearRegression_lucidchart.png\" alt=\"An example image of an ML model visualized using TensorBoard\" style=\"width:800px;\"></center>"
   ]
  },
  {
   "cell_type": "markdown",
   "metadata": {
    "slideshow": {
     "slide_type": "subslide"
    }
   },
   "source": [
    "### Automatically generated\n",
    "([TensorBoard](https://www.tensorflow.org/programmers_guide/summaries_and_tensorboard) automatically generates a graph and an interactive GUI from Tensorflow code).\n",
    "\n",
    "<center><img src=\"img/LinearRegression.png\" alt=\"An example image of an ML model visualized using TensorBoard\" style=\"width:800px;\"></center>"
   ]
  },
  {
   "cell_type": "markdown",
   "metadata": {
    "slideshow": {
     "slide_type": "slide"
    }
   },
   "source": [
    "## Executing the Computational Graph in a session\n",
    "The computational graph defines the computation that is to be done, but it does not execute anything. (If you are interested in immediate execution, you might want to use the [Eager API](https://www.tensorflow.org/programmers_guide/eager))"
   ]
  },
  {
   "cell_type": "markdown",
   "metadata": {
    "slideshow": {
     "slide_type": "subslide"
    }
   },
   "source": [
    "* Using the classical API, the computational graph is executed inside a **session**"
   ]
  },
  {
   "cell_type": "markdown",
   "metadata": {
    "slideshow": {
     "slide_type": "fragment"
    }
   },
   "source": [
    "* A typical session is divided into **epochs**, each epoch corresponds to a single pass over the training data."
   ]
  },
  {
   "cell_type": "markdown",
   "metadata": {
    "slideshow": {
     "slide_type": "fragment"
    }
   },
   "source": [
    "* The training set is divided into **training samples**. \n",
    "  * A parallelization opportunity: each training sample can reside on a different computer."
   ]
  },
  {
   "cell_type": "markdown",
   "metadata": {
    "slideshow": {
     "slide_type": "subslide"
    }
   },
   "source": [
    "## Session code walkthrough"
   ]
  },
  {
   "cell_type": "markdown",
   "metadata": {
    "ExecuteTime": {
     "end_time": "2018-05-28T18:08:44.650147Z",
     "start_time": "2018-05-28T18:08:35.002860Z"
    },
    "code_folding": [],
    "collapsed": true,
    "slideshow": {
     "slide_type": "subslide"
    }
   },
   "source": [
    "* Initializing a few parameters.\n",
    "``` python\n",
    "training_epochs = 1000              # We will run our optimizer for 1000 epochs\n",
    "display_step = 100                  # Display the loss every 100 runs\n",
    "final_w, final_b = 0,0\n",
    "```"
   ]
  },
  {
   "cell_type": "markdown",
   "metadata": {
    "ExecuteTime": {
     "end_time": "2018-05-28T18:08:44.650147Z",
     "start_time": "2018-05-28T18:08:35.002860Z"
    },
    "code_folding": [],
    "collapsed": true,
    "slideshow": {
     "slide_type": "subslide"
    }
   },
   "source": [
    "* Initialize Session\n",
    "```python\n",
    "with tf.Session() as sess:\n",
    "    sess.run(init)  # initialize variables\n",
    "    # Initialize logging\n",
    "    summary_writer = tf.summary.FileWriter(logs_path, graph=tf.get_default_graph())\n",
    "```"
   ]
  },
  {
   "cell_type": "markdown",
   "metadata": {
    "slideshow": {
     "slide_type": "subslide"
    }
   },
   "source": [
    "* The main method for a session is `session.run` which recieves as input:\n",
    "   * The graph nodes that must be executed (other nodes will be run to provide needed inputs)\n",
    "   * The datasets that are to be used as input (throught the placeholders)."
   ]
  },
  {
   "cell_type": "markdown",
   "metadata": {
    "ExecuteTime": {
     "end_time": "2018-05-28T18:08:44.650147Z",
     "start_time": "2018-05-28T18:08:35.002860Z"
    },
    "code_folding": [],
    "collapsed": true,
    "slideshow": {
     "slide_type": "fragment"
    }
   },
   "source": [
    "* The main part of the code\n",
    "```python\n",
    "    # Fit all training data\n",
    "    for epoch in range(training_epochs):\n",
    "        for (sample_x, sample_y) in zip(train_X, train_Y):\n",
    "            sess.run(optimizer, feed_dict={x: sample_x, y: sample_y})\n",
    "```"
   ]
  },
  {
   "cell_type": "markdown",
   "metadata": {
    "ExecuteTime": {
     "end_time": "2018-05-28T18:08:44.650147Z",
     "start_time": "2018-05-28T18:08:35.002860Z"
    },
    "code_folding": [],
    "collapsed": true,
    "slideshow": {
     "slide_type": "subslide"
    }
   },
   "source": [
    "```python\n",
    "        #Display logs per epoch step\n",
    "        if (epoch+1) % display_step == 0:\n",
    "            c , summary= sess.run([loss, merged_summary_op], feed_dict={x: train_X, y:train_Y})\n",
    "            summary_writer.add_summary(summary, epoch)\n",
    "            print(\"Epoch:\", '%04d' % (epoch+1), \"loss=\", \"{:.9f}\".format(c), \\\n",
    "                \"w=\", sess.run(w), \"b=\", sess.run(b))\n",
    "```"
   ]
  },
  {
   "cell_type": "markdown",
   "metadata": {
    "slideshow": {
     "slide_type": "subslide"
    }
   },
   "source": [
    "* Wrapping up: recompute training error at the end, and capture final parameters."
   ]
  },
  {
   "cell_type": "markdown",
   "metadata": {
    "ExecuteTime": {
     "end_time": "2018-05-28T18:08:44.650147Z",
     "start_time": "2018-05-28T18:08:35.002860Z"
    },
    "code_folding": [],
    "collapsed": true,
    "slideshow": {
     "slide_type": "fragment"
    }
   },
   "source": [
    "```python\n",
    "    print(\"Optimization Finished!\")\n",
    "    training_loss = sess.run(loss, feed_dict={x: train_X, y:train_Y})\n",
    "    print(\"Training loss=\", training_loss, \"w=\", sess.run(w), \"b=\", sess.run(b), '\\n')\n",
    "    final_w, final_b = sess.run(w), sess.run(b)\n",
    "```"
   ]
  },
  {
   "cell_type": "code",
   "execution_count": 16,
   "metadata": {
    "ExecuteTime": {
     "end_time": "2018-05-28T19:34:50.572119Z",
     "start_time": "2018-05-28T19:34:42.188406Z"
    },
    "slideshow": {
     "slide_type": "subslide"
    }
   },
   "outputs": [
    {
     "name": "stdout",
     "output_type": "stream",
     "text": [
      "Epoch: 0100 loss= 0.077119954 w= 0.24347492 b= 0.84548366\n",
      "Epoch: 0200 loss= 0.077092789 w= 0.24418113 b= 0.8404031\n",
      "Epoch: 0300 loss= 0.077071421 w= 0.24480595 b= 0.8359082\n",
      "Epoch: 0400 loss= 0.077054597 w= 0.2453587 b= 0.8319317\n",
      "Epoch: 0500 loss= 0.077041358 w= 0.24584752 b= 0.82841545\n",
      "Epoch: 0600 loss= 0.077030905 w= 0.24628009 b= 0.82530373\n",
      "Epoch: 0700 loss= 0.077022687 w= 0.24666263 b= 0.8225515\n",
      "Epoch: 0800 loss= 0.077016197 w= 0.24700111 b= 0.8201166\n",
      "Epoch: 0900 loss= 0.077011056 w= 0.2473008 b= 0.8179604\n",
      "Epoch: 1000 loss= 0.077006988 w= 0.24756546 b= 0.81605667\n",
      "Optimization Finished!\n",
      "Training loss= 0.07700699 w= 0.24756546 b= 0.81605667 \n",
      "\n"
     ]
    }
   ],
   "source": [
    "# We can now run the computational graph in a session\n",
    "training_epochs = 1000              # We will run our optimizer for 1000 epochs\n",
    "display_step = 100                  # Display the loss every 100 runs\n",
    "final_w, final_b = 0,0\n",
    "with tf.Session() as sess:\n",
    "    sess.run(init)\n",
    "    summary_writer = tf.summary.FileWriter(logs_path, graph=tf.get_default_graph())\n",
    "\n",
    "    # Fit all training data\n",
    "    for epoch in range(training_epochs):\n",
    "        for (sample_x, sample_y) in zip(train_X, train_Y):\n",
    "            sess.run(optimizer, feed_dict={x: sample_x, y: sample_y})\n",
    "\n",
    "        #Display logs per epoch step\n",
    "        if (epoch+1) % display_step == 0:\n",
    "            c , summary= sess.run([loss, merged_summary_op], feed_dict={x: train_X, y:train_Y})\n",
    "            summary_writer.add_summary(summary, epoch)\n",
    "            print(\"Epoch:\", '%04d' % (epoch+1), \"loss=\", \"{:.9f}\".format(c), \\\n",
    "                \"w=\", sess.run(w), \"b=\", sess.run(b))\n",
    "\n",
    "    print(\"Optimization Finished!\")\n",
    "    training_loss = sess.run(loss, feed_dict={x: train_X, y:train_Y})\n",
    "    print(\"Training loss=\", training_loss, \"w=\", sess.run(w), \"b=\", sess.run(b), '\\n')\n",
    "    final_w, final_b = sess.run(w), sess.run(b)"
   ]
  },
  {
   "cell_type": "code",
   "execution_count": 14,
   "metadata": {
    "ExecuteTime": {
     "end_time": "2018-05-28T19:31:57.945793Z",
     "start_time": "2018-05-28T19:31:57.765836Z"
    },
    "scrolled": true,
    "slideshow": {
     "slide_type": "subslide"
    }
   },
   "outputs": [
    {
     "data": {
      "image/png": "[encoded data removed]",
      "text/plain": [
       "<Figure size 432x288 with 1 Axes>"
      ]
     },
     "metadata": {},
     "output_type": "display_data"
    }
   ],
   "source": [
    "#Graphic display\n",
    "plt.plot(train_X, train_Y, 'ro', label='Original data')\n",
    "plt.plot(train_X, final_w * train_X + final_b, label='Fitted line')\n",
    "plt.legend()\n",
    "plt.show()"
   ]
  }
 ],
 "metadata": {
  "celltoolbar": "Slideshow",
  "hide_input": false,
  "kernelspec": {
   "display_name": "Python 3",
   "language": "python",
   "name": "python3"
  },
  "language_info": {
   "codemirror_mode": {
    "name": "ipython",
    "version": 3
   },
   "file_extension": ".py",
   "mimetype": "text/x-python",
   "name": "python",
   "nbconvert_exporter": "python",
   "pygments_lexer": "ipython3",
   "version": "3.6.5"
  },
  "toc": {
   "base_numbering": 1,
   "nav_menu": {},
   "number_sections": true,
   "sideBar": true,
   "skip_h1_title": false,
   "title_cell": "Table of Contents",
   "title_sidebar": "Contents",
   "toc_cell": false,
   "toc_position": {},
   "toc_section_display": true,
   "toc_window_display": false
  },
  "varInspector": {
   "cols": {
    "lenName": 16,
    "lenType": 16,
    "lenVar": 40
   },
   "kernels_config": {
    "python": {
     "delete_cmd_postfix": "",
     "delete_cmd_prefix": "del ",
     "library": "var_list.py",
     "varRefreshCmd": "print(var_dic_list())"
    },
    "r": {
     "delete_cmd_postfix": ") ",
     "delete_cmd_prefix": "rm(",
     "library": "var_list.r",
     "varRefreshCmd": "cat(var_dic_list()) "
    }
   },
   "position": {
    "height": "277px",
    "left": "911px",
    "right": "20px",
    "top": "120px",
    "width": "367px"
   },
   "types_to_exclude": [
    "module",
    "function",
    "builtin_function_or_method",
    "instance",
    "_Feature"
   ],
   "window_display": false
  }
 },
 "nbformat": 4,
 "nbformat_minor": 2
}
