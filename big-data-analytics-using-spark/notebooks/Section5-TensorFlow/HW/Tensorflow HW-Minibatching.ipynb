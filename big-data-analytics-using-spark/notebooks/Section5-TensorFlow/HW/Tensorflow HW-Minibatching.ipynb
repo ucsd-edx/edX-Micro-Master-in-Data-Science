{
 "cells": [
  {
   "cell_type": "markdown",
   "metadata": {},
   "source": [
    "PA9: Neural Networks with Tensorflow\n",
    "\n",
    "In this assignment, you will:\n",
    "\n",
    "1. Implement neural networks as a powerful approach to supervised machine learning,\n",
    "2. Practice using state-of-the-art software tools and programming paradigms for machine learning,\n",
    "3. Investigate the impact of parameters to learning on neural network performance as evaluated on an empirical data set."
   ]
  },
  {
   "cell_type": "markdown",
   "metadata": {},
   "source": [
    "For this assignment, we will learn use a well known dataset:\n",
    "\n",
    "[Higgs](https://archive.ics.uci.edu/ml/datasets/HIGGS). Some information regarding this dataset: The data has been produced using Monte Carlo simulations. The first 21 features (columns 2-22) are kinematic properties measured by the particle detectors in the accelerator. The last seven features are functions of the first 21 features; these are high-level features derived by physicists to help discriminate between the two classes.\n",
    "\n",
    "For local testing you will use the sample dataset provided to you with this notebook.\n",
    "When submitting on EdX, your code will be evaluated on a much larger sample of this dataset."
   ]
  },
  {
   "cell_type": "markdown",
   "metadata": {},
   "source": [
    "The file format for each of the above data set is as follows:\n",
    "\n",
    "• The first row contains a comma-separated list of the names of the label and attributes\n",
    "\n",
    "• Each successive row represents a single instance\n",
    "\n",
    "• The first entry of each instance is the label to be learned, and all other entries (following the commas) are attribute values.\n",
    "\n",
    "• All attributes are numerical i.e. real numbers."
   ]
  },
  {
   "cell_type": "markdown",
   "metadata": {},
   "source": [
    "Exercise 1: \n",
    "\n",
    "Your goal is to complete the below function named train_nn that behaves as follows:\n",
    "\n",
    "1) It should take as input six parameters:\n",
    "    \n",
    "    a. The path to a file containing a data set (e.g., higgs_sample.csv)\n",
    "    \n",
    "    b. The number of neurons to use in the hidden layer\n",
    "    \n",
    "    c. The learning rate to use during backpropagation\n",
    "    \n",
    "    d. The number of iterations to use during training\n",
    "    \n",
    "    e. The percentage of instances to use for a training set\n",
    "    \n",
    "    f. A random seed as an integer\n",
    "    \n",
    "    \n",
    "For example, if the call to train_nn looks like train_nn(higgs_sample.csv 20 0.001 1000 0.75 12345) which will create a neural network with 20 neurons in the hidden layer, train the network using a learning rate = 0.001 and 1000 iterations through higgs_sample.csv with a random seed of 12345, where 75% of the data will be used for training (and the remaining 25% will be used for testing)\n",
    "\n",
    "2) You should create a neural network in Tensorflow that will be learned from the training data. The key parameters to the architecture of the neural network are based on your inputted parameters and the size of your data set:\n",
    "    \n",
    "    a. The number of attributes in the input layer is the length of each instance’s\n",
    "    attribute list (which is the same for all instances)\n",
    "    \n",
    "    b. The number of neurons in a hidden layer will be inputted to the program as a\n",
    "    parameter. Each hidden neuron should use tf.sigmoid as its activation function.\n",
    "    \n",
    "    c. The number of output neurons will be 1 since it is a binary classification task, and that should use tf.sigmoid as its activation function\n",
    "    \n",
    "3) You should use different cost/loss functions that the network tries to minimize depending on the number of labels:\n",
    "    \n",
    "    a. For binary classification we will use the cross entropy loss function:\n",
    "    \n",
    "    TODO: get latex version from here: https://stackoverflow.com/questions/46291253/tensorflow-sigmoid-and-cross-entropy-vs-sigmoid-cross-entropy-with-logits\n",
    "    \n",
    "    b. You will use full batch gradient descent (No mini batching is required, but you may optionlly do it) TODO: change this if grading scheme does not conform to this."
   ]
  },
  {
   "cell_type": "markdown",
   "metadata": {},
   "source": [
    "## TODO: edit this to use cross entropy loss\n",
    "\n",
    "$$SSE(X) = \\sum_{j=1}^{n}({y_j - \\hat{y}_j})^2$$"
   ]
  },
  {
   "cell_type": "markdown",
   "metadata": {},
   "source": [
    "\n",
    "    The function tf.reduce_sum will allow you to sum across all instances.\n",
    "    "
   ]
  },
  {
   "cell_type": "markdown",
   "metadata": {},
   "source": [
    "4) For the implementation of Backpropagation, you should use tf.train.AdamOptimizer\n",
    "\n",
    "For more on optimizers, you may follow this link: TODO"
   ]
  },
  {
   "cell_type": "markdown",
   "metadata": {},
   "source": [
    "5) You should train your network using your inputted learning rate and for the inputted number of iterations. The iterations are simply a loop that calls Backpropagation a fixed number of times."
   ]
  },
  {
   "cell_type": "markdown",
   "metadata": {},
   "source": [
    "TODOs:\n",
    "\n",
    "- Biases?\n",
    "- Mean normalize?\n",
    "- How to evaluate?\n"
   ]
  },
  {
   "cell_type": "code",
   "execution_count": 1,
   "metadata": {},
   "outputs": [
    {
     "name": "stderr",
     "output_type": "stream",
     "text": [
      "/home/ubuntu/anaconda3/envs/tensorflow_p36/lib/python3.6/site-packages/h5py/__init__.py:36: FutureWarning: Conversion of the second argument of issubdtype from `float` to `np.floating` is deprecated. In future, it will be treated as `np.float64 == np.dtype(float).type`.\n",
      "  from ._conv import register_converters as _register_converters\n",
      "/home/ubuntu/anaconda3/envs/tensorflow_p36/lib/python3.6/site-packages/matplotlib/__init__.py:1067: UserWarning: Duplicate key in file \"/home/ubuntu/.config/matplotlib/matplotlibrc\", line #2\n",
      "  (fname, cnt))\n",
      "/home/ubuntu/anaconda3/envs/tensorflow_p36/lib/python3.6/site-packages/matplotlib/__init__.py:1067: UserWarning: Duplicate key in file \"/home/ubuntu/.config/matplotlib/matplotlibrc\", line #3\n",
      "  (fname, cnt))\n"
     ]
    }
   ],
   "source": [
    "import yaml\n",
    "import tensorflow as tf\n",
    "import warnings\n",
    "warnings.filterwarnings('ignore')\n",
    "import numpy as np"
   ]
  },
  {
   "cell_type": "code",
   "execution_count": 2,
   "metadata": {},
   "outputs": [],
   "source": [
    "with open(\"nn_config.yaml\", 'r') as ymlfile:\n",
    "    try:\n",
    "        cfg = yaml.load(ymlfile)\n",
    "    except yaml.YAMLError as err:\n",
    "        print(err)"
   ]
  },
  {
   "cell_type": "code",
   "execution_count": 3,
   "metadata": {},
   "outputs": [],
   "source": [
    "file_name = cfg['training_data_path']\n",
    "test_file_name = cfg['test_data_path']"
   ]
  },
  {
   "cell_type": "code",
   "execution_count": 4,
   "metadata": {},
   "outputs": [],
   "source": [
    "data = np.loadtxt(file_name, delimiter = ',')"
   ]
  },
  {
   "cell_type": "code",
   "execution_count": 5,
   "metadata": {},
   "outputs": [],
   "source": [
    "test = np.loadtxt(test_file_name, delimiter = ',')"
   ]
  },
  {
   "cell_type": "code",
   "execution_count": 6,
   "metadata": {},
   "outputs": [],
   "source": [
    "def normalize(train):\n",
    "    mean, std = train.mean(), train.std()\n",
    "    train = (train - mean) / std\n",
    "    return train"
   ]
  },
  {
   "cell_type": "code",
   "execution_count": 7,
   "metadata": {},
   "outputs": [],
   "source": [
    "def parse_data(numpy_matrix):\n",
    "    labels = numpy_matrix[:,0]\n",
    "    features = normalize(numpy_matrix[:,1:])\n",
    "    return labels, features\n",
    "labels, features = parse_data(data)"
   ]
  },
  {
   "cell_type": "code",
   "execution_count": 8,
   "metadata": {},
   "outputs": [],
   "source": [
    "test_labels, test_features = parse_data(test)"
   ]
  },
  {
   "cell_type": "markdown",
   "metadata": {},
   "source": [
    "## TF DATA reader "
   ]
  },
  {
   "cell_type": "markdown",
   "metadata": {},
   "source": [
    "\n",
    "filename_queue = tf.train.string_input_producer([file_name])\n",
    "\n",
    "dataset = tf.data.TextLineDataset(filenames)\n",
    "#line_reader = tf.TextLineReader()\n",
    "key, csv_row = line_reader.read(filename_queue)"
   ]
  },
  {
   "cell_type": "markdown",
   "metadata": {},
   "source": [
    "record_defaults = [[0.0]]*29\n",
    "all_columns = tf.decode_csv(csv_row, record_defaults=record_defaults)"
   ]
  },
  {
   "cell_type": "markdown",
   "metadata": {},
   "source": [
    "# Turn the features back into a tensor.\n",
    "features = tf.stack(all_columns[1:])\n",
    "labels = tf.stack(all_columns[0])"
   ]
  },
  {
   "cell_type": "markdown",
   "metadata": {},
   "source": [
    "## Continue here "
   ]
  },
  {
   "cell_type": "code",
   "execution_count": 9,
   "metadata": {},
   "outputs": [
    {
     "name": "stdout",
     "output_type": "stream",
     "text": [
      "Total Training examples: 800000, Number of Batches: 100, Batch Size: 8000\n"
     ]
    }
   ],
   "source": [
    "# Parameters\n",
    "learning_rate = cfg['learning_rate']\n",
    "training_epochs = 200#cfg['max_epochs']\n",
    "train_valid_split = cfg['training_to_validation_ratio']\n",
    "num_batches = cfg['num_mini_batches']\n",
    "num_examples= data.shape[0]\n",
    "train_examples = int(num_examples * train_valid_split)\n",
    "batch_size = train_examples/num_batches\n",
    "display_step = 20#cfg['display_step']\n",
    "\n",
    "# Network Parameters\n",
    "n_hidden_1 = cfg['hidden_layer_sizes']['first_layer'] # 1st layer number of features\n",
    "n_hidden_2 = cfg['hidden_layer_sizes']['second_layer'] # 2nd layer number of features\n",
    "n_input = 28 \n",
    "n_classes = 1 \n",
    "\n",
    "# tf Graph input\n",
    "x = tf.placeholder(\"float\", [None, n_input])\n",
    "y = tf.placeholder(\"float\", [None, 1])\n",
    "\n",
    "print(\"Total Training examples: %d, Number of Batches: %d, Batch Size: %d\" %(train_examples,num_batches,batch_size))\n",
    "\n"
   ]
  },
  {
   "cell_type": "code",
   "execution_count": 10,
   "metadata": {},
   "outputs": [],
   "source": [
    "# Store layers weight & bias\n",
    "weights = {\n",
    "    'h1': tf.Variable(tf.random_normal([n_input, n_hidden_1])),\n",
    "    'h2': tf.Variable(tf.random_normal([n_hidden_1, n_hidden_2])),\n",
    "    'out': tf.Variable(tf.random_normal([n_hidden_2, n_classes]))\n",
    "}\n",
    "biases = {\n",
    "    'b1': tf.Variable(tf.random_normal([n_hidden_1])),\n",
    "    'b2': tf.Variable(tf.random_normal([n_hidden_2])),\n",
    "    'out': tf.Variable(tf.random_normal([n_classes]))\n",
    "}"
   ]
  },
  {
   "cell_type": "code",
   "execution_count": 11,
   "metadata": {},
   "outputs": [],
   "source": [
    "\n",
    "# Create model\n",
    "def multilayer_perceptron(x, weights, biases):\n",
    "    # Hidden layer with SIGMOID activation\n",
    "    layer_1 = tf.add(tf.matmul(x, weights['h1']), biases['b1'])\n",
    "    layer_1 = tf.nn.sigmoid(layer_1)\n",
    "    # Hidden layer with SIGMOID activation\n",
    "    layer_2 = tf.add(tf.matmul(layer_1, weights['h2']), biases['b2'])\n",
    "    layer_2 = tf.nn.sigmoid(layer_2)\n",
    "    # Output layer with SIGMOID activation\n",
    "    out_layer = tf.matmul(layer_2, weights['out']) + biases['out']\n",
    "#     out_layer_sigmoid = tf.nn.sigmoid(out_layer)\n",
    "#     return out_layer_sigmoid\n",
    "    return out_layer\n",
    "\n"
   ]
  },
  {
   "cell_type": "code",
   "execution_count": 12,
   "metadata": {},
   "outputs": [],
   "source": [
    "\n",
    "# Construct model\n",
    "pred = multilayer_perceptron(x, weights, biases)\n",
    "\n",
    "# Define loss and optimizer\n",
    "# cost = tf.reduce_sum((y-pred)**2)\n",
    "\n",
    "# pred_onehot = tf.round(pred)\n",
    "# optimizer = tf.train.AdamOptimizer(learning_rate=learning_rate).minimize(cost)\n",
    "\n",
    "# cost = tf.reduce_mean(tf.nn.softmax_cross_entropy_with_logits(logits=pred, labels=y))\n",
    "# optimizer = tf.train.AdamOptimizer(learning_rate=learning_rate).minimize(cost)\n",
    "\n",
    "cross_entropy = tf.nn.sigmoid_cross_entropy_with_logits(labels=y, logits=pred)\n",
    "cost = tf.reduce_mean(cross_entropy)\n",
    "pred_onehot = tf.round(tf.nn.sigmoid(pred))\n",
    "optimizer = tf.train.AdamOptimizer(learning_rate=learning_rate).minimize(cost)\n",
    "\n",
    "# Initializing the variables\n",
    "init = tf.global_variables_initializer()"
   ]
  },
  {
   "cell_type": "code",
   "execution_count": 13,
   "metadata": {},
   "outputs": [
    {
     "name": "stdout",
     "output_type": "stream",
     "text": [
      "Read data\n",
      "Average Epoch 1 cost: 0.692243 | Accuracy 0.550014 \n",
      "Epoch: 0001 Batch:  0100 Validation Batch Cost:  0.655828357 Validation acc= [0.612215]\n",
      "Average Epoch 2 cost: 0.620210 | Accuracy 0.654547 \n",
      "Average Epoch 3 cost: 0.586917 | Accuracy 0.688071 \n",
      "Average Epoch 4 cost: 0.574714 | Accuracy 0.697357 \n",
      "Average Epoch 5 cost: 0.565880 | Accuracy 0.704952 \n",
      "Average Epoch 6 cost: 0.560868 | Accuracy 0.708806 \n",
      "Average Epoch 7 cost: 0.557565 | Accuracy 0.710750 \n",
      "Average Epoch 8 cost: 0.554246 | Accuracy 0.712895 \n",
      "Average Epoch 9 cost: 0.550170 | Accuracy 0.715746 \n",
      "Average Epoch 10 cost: 0.545410 | Accuracy 0.719096 \n",
      "Average Epoch 11 cost: 0.542374 | Accuracy 0.721369 \n",
      "Average Epoch 12 cost: 0.540205 | Accuracy 0.723154 \n",
      "Average Epoch 13 cost: 0.538497 | Accuracy 0.724295 \n",
      "Average Epoch 14 cost: 0.537129 | Accuracy 0.725206 \n",
      "Average Epoch 15 cost: 0.536094 | Accuracy 0.725971 \n",
      "Average Epoch 16 cost: 0.535280 | Accuracy 0.726466 \n",
      "Average Epoch 17 cost: 0.534646 | Accuracy 0.726901 \n",
      "Average Epoch 18 cost: 0.534184 | Accuracy 0.727259 \n",
      "Average Epoch 19 cost: 0.533739 | Accuracy 0.727522 \n",
      "Average Epoch 20 cost: 0.533088 | Accuracy 0.727810 \n",
      "Average Epoch 21 cost: 0.532384 | Accuracy 0.728221 \n",
      "Epoch: 0021 Batch:  0100 Validation Batch Cost:  0.530403972 Validation acc= [0.731575]\n",
      "Average Epoch 22 cost: 0.531834 | Accuracy 0.728669 \n",
      "Average Epoch 23 cost: 0.531355 | Accuracy 0.729222 \n",
      "Average Epoch 24 cost: 0.530909 | Accuracy 0.729527 \n",
      "Average Epoch 25 cost: 0.530465 | Accuracy 0.730161 \n",
      "Average Epoch 26 cost: 0.530077 | Accuracy 0.730314 \n",
      "Average Epoch 27 cost: 0.529783 | Accuracy 0.730445 \n",
      "Average Epoch 28 cost: 0.529551 | Accuracy 0.730675 \n",
      "Average Epoch 29 cost: 0.529351 | Accuracy 0.730744 \n",
      "Average Epoch 30 cost: 0.529174 | Accuracy 0.730884 \n",
      "Average Epoch 31 cost: 0.529014 | Accuracy 0.731015 \n",
      "Average Epoch 32 cost: 0.528868 | Accuracy 0.731105 \n",
      "Average Epoch 33 cost: 0.528731 | Accuracy 0.731349 \n",
      "Average Epoch 34 cost: 0.528601 | Accuracy 0.731402 \n",
      "Average Epoch 35 cost: 0.528476 | Accuracy 0.731563 \n",
      "Average Epoch 36 cost: 0.528355 | Accuracy 0.731621 \n",
      "Average Epoch 37 cost: 0.528237 | Accuracy 0.731635 \n",
      "Average Epoch 38 cost: 0.528119 | Accuracy 0.731654 \n",
      "Average Epoch 39 cost: 0.528001 | Accuracy 0.731715 \n",
      "Average Epoch 40 cost: 0.527882 | Accuracy 0.731831 \n",
      "Average Epoch 41 cost: 0.527762 | Accuracy 0.731943 \n",
      "Epoch: 0041 Batch:  0100 Validation Batch Cost:  0.527005434 Validation acc= [0.73325]\n",
      "Average Epoch 42 cost: 0.527639 | Accuracy 0.732110 \n",
      "Average Epoch 43 cost: 0.527511 | Accuracy 0.732194 \n",
      "Average Epoch 44 cost: 0.527372 | Accuracy 0.732182 \n",
      "Average Epoch 45 cost: 0.527218 | Accuracy 0.732229 \n",
      "Average Epoch 46 cost: 0.527041 | Accuracy 0.732317 \n",
      "Average Epoch 47 cost: 0.526823 | Accuracy 0.732468 \n",
      "Average Epoch 48 cost: 0.526582 | Accuracy 0.732606 \n",
      "Average Epoch 49 cost: 0.526353 | Accuracy 0.732677 \n",
      "Average Epoch 50 cost: 0.526148 | Accuracy 0.732725 \n",
      "Average Epoch 51 cost: 0.525959 | Accuracy 0.732705 \n",
      "Average Epoch 52 cost: 0.525783 | Accuracy 0.732839 \n",
      "Average Epoch 53 cost: 0.525620 | Accuracy 0.732870 \n",
      "Average Epoch 54 cost: 0.525470 | Accuracy 0.732947 \n",
      "Average Epoch 55 cost: 0.525331 | Accuracy 0.733149 \n",
      "Average Epoch 56 cost: 0.525196 | Accuracy 0.733316 \n",
      "Average Epoch 57 cost: 0.525062 | Accuracy 0.733350 \n",
      "Average Epoch 58 cost: 0.524940 | Accuracy 0.733394 \n",
      "Average Epoch 59 cost: 0.524829 | Accuracy 0.733384 \n",
      "Average Epoch 60 cost: 0.524722 | Accuracy 0.733502 \n",
      "Average Epoch 61 cost: 0.524621 | Accuracy 0.733456 \n",
      "Epoch: 0061 Batch:  0100 Validation Batch Cost:  0.524250209 Validation acc= [0.735295]\n",
      "Average Epoch 62 cost: 0.524526 | Accuracy 0.733399 \n",
      "Average Epoch 63 cost: 0.524438 | Accuracy 0.733499 \n",
      "Average Epoch 64 cost: 0.524354 | Accuracy 0.733550 \n",
      "Average Epoch 65 cost: 0.524275 | Accuracy 0.733723 \n",
      "Average Epoch 66 cost: 0.524199 | Accuracy 0.733864 \n",
      "Average Epoch 67 cost: 0.524125 | Accuracy 0.733909 \n",
      "Average Epoch 68 cost: 0.524052 | Accuracy 0.734000 \n",
      "Average Epoch 69 cost: 0.523971 | Accuracy 0.734023 \n",
      "Average Epoch 70 cost: 0.523863 | Accuracy 0.734044 \n",
      "Average Epoch 71 cost: 0.523708 | Accuracy 0.734217 \n",
      "Average Epoch 72 cost: 0.523565 | Accuracy 0.734199 \n",
      "Average Epoch 73 cost: 0.523471 | Accuracy 0.734299 \n",
      "Average Epoch 74 cost: 0.523395 | Accuracy 0.734395 \n",
      "Average Epoch 75 cost: 0.523330 | Accuracy 0.734495 \n",
      "Average Epoch 76 cost: 0.523272 | Accuracy 0.734522 \n",
      "Average Epoch 77 cost: 0.523218 | Accuracy 0.734634 \n",
      "Average Epoch 78 cost: 0.523169 | Accuracy 0.734613 \n",
      "Average Epoch 79 cost: 0.523123 | Accuracy 0.734696 \n",
      "Average Epoch 80 cost: 0.523079 | Accuracy 0.734670 \n",
      "Average Epoch 81 cost: 0.523038 | Accuracy 0.734774 \n",
      "Epoch: 0081 Batch:  0100 Validation Batch Cost:  0.522382081 Validation acc= [0.736325]\n",
      "Average Epoch 82 cost: 0.522998 | Accuracy 0.734805 \n",
      "Average Epoch 83 cost: 0.522957 | Accuracy 0.734775 \n",
      "Average Epoch 84 cost: 0.522914 | Accuracy 0.734818 \n",
      "Average Epoch 85 cost: 0.522868 | Accuracy 0.734879 \n",
      "Average Epoch 86 cost: 0.522818 | Accuracy 0.734862 \n",
      "Average Epoch 87 cost: 0.522764 | Accuracy 0.734864 \n",
      "Average Epoch 88 cost: 0.522709 | Accuracy 0.734935 \n",
      "Average Epoch 89 cost: 0.522656 | Accuracy 0.735052 \n",
      "Average Epoch 90 cost: 0.522607 | Accuracy 0.735079 \n",
      "Average Epoch 91 cost: 0.522559 | Accuracy 0.735073 \n",
      "Average Epoch 92 cost: 0.522512 | Accuracy 0.735066 \n",
      "Average Epoch 93 cost: 0.522465 | Accuracy 0.735080 \n",
      "Average Epoch 94 cost: 0.522418 | Accuracy 0.735101 \n",
      "Average Epoch 95 cost: 0.522369 | Accuracy 0.735100 \n",
      "Average Epoch 96 cost: 0.522315 | Accuracy 0.735149 \n",
      "Average Epoch 97 cost: 0.522253 | Accuracy 0.735243 \n",
      "Average Epoch 98 cost: 0.522189 | Accuracy 0.735286 \n",
      "Average Epoch 99 cost: 0.522128 | Accuracy 0.735308 \n",
      "Average Epoch 100 cost: 0.522071 | Accuracy 0.735334 \n",
      "Average Epoch 101 cost: 0.522019 | Accuracy 0.735336 \n",
      "Epoch: 0101 Batch:  0100 Validation Batch Cost:  0.521044433 Validation acc= [0.73695]\n",
      "Average Epoch 102 cost: 0.521975 | Accuracy 0.735421 \n",
      "Average Epoch 103 cost: 0.521937 | Accuracy 0.735425 \n",
      "Average Epoch 104 cost: 0.521905 | Accuracy 0.735492 \n",
      "Average Epoch 105 cost: 0.521879 | Accuracy 0.735528 \n",
      "Average Epoch 106 cost: 0.521856 | Accuracy 0.735549 \n",
      "Average Epoch 107 cost: 0.521837 | Accuracy 0.735498 \n",
      "Average Epoch 108 cost: 0.521821 | Accuracy 0.735511 \n",
      "Average Epoch 109 cost: 0.521807 | Accuracy 0.735461 \n",
      "Average Epoch 110 cost: 0.521795 | Accuracy 0.735424 \n",
      "Average Epoch 111 cost: 0.521785 | Accuracy 0.735439 \n",
      "Average Epoch 112 cost: 0.521776 | Accuracy 0.735401 \n",
      "Average Epoch 113 cost: 0.521768 | Accuracy 0.735389 \n",
      "Average Epoch 114 cost: 0.521760 | Accuracy 0.735430 \n",
      "Average Epoch 115 cost: 0.521754 | Accuracy 0.735426 \n",
      "Average Epoch 116 cost: 0.521748 | Accuracy 0.735454 \n",
      "Average Epoch 117 cost: 0.521743 | Accuracy 0.735487 \n",
      "Average Epoch 118 cost: 0.521738 | Accuracy 0.735499 \n",
      "Average Epoch 119 cost: 0.521734 | Accuracy 0.735511 \n",
      "Average Epoch 120 cost: 0.521730 | Accuracy 0.735529 \n",
      "Average Epoch 121 cost: 0.521726 | Accuracy 0.735572 \n",
      "Epoch: 0121 Batch:  0100 Validation Batch Cost:  0.520995259 Validation acc= [0.73645]\n",
      "Average Epoch 122 cost: 0.521723 | Accuracy 0.735570 \n",
      "Average Epoch 123 cost: 0.521720 | Accuracy 0.735564 \n",
      "Average Epoch 124 cost: 0.521717 | Accuracy 0.735580 \n",
      "Average Epoch 125 cost: 0.521713 | Accuracy 0.735596 \n",
      "Average Epoch 126 cost: 0.521710 | Accuracy 0.735589 \n",
      "Average Epoch 127 cost: 0.521708 | Accuracy 0.735605 \n",
      "Average Epoch 128 cost: 0.521705 | Accuracy 0.735622 \n",
      "Average Epoch 129 cost: 0.521703 | Accuracy 0.735625 \n",
      "Average Epoch 130 cost: 0.521700 | Accuracy 0.735585 \n",
      "Average Epoch 131 cost: 0.521698 | Accuracy 0.735585 \n",
      "Average Epoch 132 cost: 0.521697 | Accuracy 0.735561 \n",
      "Average Epoch 133 cost: 0.521695 | Accuracy 0.735568 \n",
      "Average Epoch 134 cost: 0.521693 | Accuracy 0.735572 \n",
      "Average Epoch 135 cost: 0.521691 | Accuracy 0.735525 \n",
      "Average Epoch 136 cost: 0.521689 | Accuracy 0.735495 \n",
      "Average Epoch 137 cost: 0.521686 | Accuracy 0.735470 \n",
      "Average Epoch 138 cost: 0.521683 | Accuracy 0.735449 \n",
      "Average Epoch 139 cost: 0.521678 | Accuracy 0.735501 \n",
      "Average Epoch 140 cost: 0.521673 | Accuracy 0.735521 \n",
      "Average Epoch 141 cost: 0.521666 | Accuracy 0.735564 \n",
      "Epoch: 0141 Batch:  0100 Validation Batch Cost:  0.521137714 Validation acc= [0.73606]\n"
     ]
    },
    {
     "name": "stdout",
     "output_type": "stream",
     "text": [
      "Average Epoch 142 cost: 0.521657 | Accuracy 0.735653 \n",
      "Average Epoch 143 cost: 0.521649 | Accuracy 0.735644 \n",
      "Average Epoch 144 cost: 0.521640 | Accuracy 0.735679 \n",
      "Average Epoch 145 cost: 0.521630 | Accuracy 0.735626 \n",
      "Average Epoch 146 cost: 0.521616 | Accuracy 0.735626 \n",
      "Average Epoch 147 cost: 0.521603 | Accuracy 0.735596 \n",
      "Average Epoch 148 cost: 0.521593 | Accuracy 0.735622 \n",
      "Average Epoch 149 cost: 0.521586 | Accuracy 0.735609 \n",
      "Average Epoch 150 cost: 0.521581 | Accuracy 0.735586 \n",
      "Average Epoch 151 cost: 0.521577 | Accuracy 0.735563 \n",
      "Average Epoch 152 cost: 0.521574 | Accuracy 0.735587 \n",
      "Average Epoch 153 cost: 0.521571 | Accuracy 0.735605 \n",
      "Average Epoch 154 cost: 0.521568 | Accuracy 0.735580 \n",
      "Average Epoch 155 cost: 0.521566 | Accuracy 0.735594 \n",
      "Average Epoch 156 cost: 0.521564 | Accuracy 0.735595 \n",
      "Average Epoch 157 cost: 0.521563 | Accuracy 0.735604 \n",
      "Average Epoch 158 cost: 0.521562 | Accuracy 0.735605 \n",
      "Average Epoch 159 cost: 0.521560 | Accuracy 0.735624 \n",
      "Average Epoch 160 cost: 0.521559 | Accuracy 0.735629 \n",
      "Average Epoch 161 cost: 0.521558 | Accuracy 0.735634 \n",
      "Epoch: 0161 Batch:  0100 Validation Batch Cost:  0.521283865 Validation acc= [0.73632]\n",
      "Average Epoch 162 cost: 0.521558 | Accuracy 0.735631 \n",
      "Average Epoch 163 cost: 0.521557 | Accuracy 0.735653 \n",
      "Average Epoch 164 cost: 0.521556 | Accuracy 0.735669 \n",
      "Average Epoch 165 cost: 0.521555 | Accuracy 0.735659 \n",
      "Average Epoch 166 cost: 0.521555 | Accuracy 0.735648 \n",
      "Average Epoch 167 cost: 0.521554 | Accuracy 0.735646 \n",
      "Average Epoch 168 cost: 0.521553 | Accuracy 0.735659 \n",
      "Average Epoch 169 cost: 0.521553 | Accuracy 0.735644 \n",
      "Average Epoch 170 cost: 0.521552 | Accuracy 0.735631 \n",
      "Average Epoch 171 cost: 0.521552 | Accuracy 0.735625 \n",
      "Average Epoch 172 cost: 0.521551 | Accuracy 0.735609 \n",
      "Average Epoch 173 cost: 0.521550 | Accuracy 0.735616 \n",
      "Average Epoch 174 cost: 0.521550 | Accuracy 0.735614 \n",
      "Average Epoch 175 cost: 0.521549 | Accuracy 0.735610 \n",
      "Average Epoch 176 cost: 0.521549 | Accuracy 0.735615 \n",
      "Average Epoch 177 cost: 0.521549 | Accuracy 0.735640 \n",
      "Average Epoch 178 cost: 0.521548 | Accuracy 0.735649 \n",
      "Average Epoch 179 cost: 0.521548 | Accuracy 0.735631 \n",
      "Average Epoch 180 cost: 0.521547 | Accuracy 0.735614 \n",
      "Average Epoch 181 cost: 0.521547 | Accuracy 0.735587 \n",
      "Epoch: 0181 Batch:  0100 Validation Batch Cost:  0.521288157 Validation acc= [0.736515]\n",
      "Average Epoch 182 cost: 0.521547 | Accuracy 0.735592 \n",
      "Average Epoch 183 cost: 0.521546 | Accuracy 0.735604 \n",
      "Average Epoch 184 cost: 0.521546 | Accuracy 0.735613 \n",
      "Average Epoch 185 cost: 0.521546 | Accuracy 0.735638 \n",
      "Average Epoch 186 cost: 0.521546 | Accuracy 0.735621 \n",
      "Average Epoch 187 cost: 0.521545 | Accuracy 0.735619 \n",
      "Average Epoch 188 cost: 0.521545 | Accuracy 0.735629 \n",
      "Average Epoch 189 cost: 0.521545 | Accuracy 0.735645 \n",
      "Average Epoch 190 cost: 0.521545 | Accuracy 0.735650 \n",
      "Average Epoch 191 cost: 0.521545 | Accuracy 0.735642 \n",
      "Average Epoch 192 cost: 0.521545 | Accuracy 0.735653 \n",
      "Average Epoch 193 cost: 0.521544 | Accuracy 0.735653 \n",
      "Average Epoch 194 cost: 0.521544 | Accuracy 0.735636 \n",
      "Average Epoch 195 cost: 0.521544 | Accuracy 0.735619 \n",
      "Average Epoch 196 cost: 0.521544 | Accuracy 0.735601 \n",
      "Average Epoch 197 cost: 0.521544 | Accuracy 0.735591 \n",
      "Average Epoch 198 cost: 0.521544 | Accuracy 0.735596 \n",
      "Average Epoch 199 cost: 0.521544 | Accuracy 0.735594 \n",
      "Average Epoch 200 cost: 0.521543 | Accuracy 0.735600 \n",
      "Optimization Finished!\n",
      "Testing the model on the test set\n",
      "Testing -- Cost:  0.521180153 Test acc= [0.735355]\n",
      "CPU times: user 3min 58s, sys: 6.19 s, total: 4min 4s\n",
      "Wall time: 3min 45s\n"
     ]
    }
   ],
   "source": [
    "with tf.Session() as sess:\n",
    "    #tf.initialize_all_variables().run()\n",
    "    sess.run(init)\n",
    "    coord = tf.train.Coordinator()\n",
    "    threads = tf.train.start_queue_runners(coord=coord)\n",
    "    x_full = features\n",
    "    y_full = labels\n",
    "#     for i in range(num_examples):\n",
    "#         example, label = sess.run([features, labels])\n",
    "#         x_full.append(example)\n",
    "#         y_full.append(label)\n",
    "    print('Read data')\n",
    "    x_full = normalize(np.array(x_full))\n",
    "    \n",
    "    x_train, x_valid = x_full[:train_examples], x_full[train_examples:]\n",
    "    y_train, y_valid = y_full[:train_examples], y_full[train_examples:]\n",
    "    \n",
    "    epoch_costs = []\n",
    "    epoch_accuracy = []\n",
    "    for epoch in range(training_epochs):\n",
    "        epoch_cost = 0\n",
    "        correct = 0\n",
    "        for batch in range(num_batches):\n",
    "            \n",
    "            start_idx = int(batch*batch_size)\n",
    "            end_idx = int((batch+1)*batch_size) if ((batch+1)*batch_size)<train_examples else train_examples\n",
    "            this_batch_size = end_idx - start_idx + 1\n",
    "            \n",
    "            y_batch = np.reshape(np.array(y_train[start_idx:end_idx]),(-1,1))\n",
    "            x_batch = x_train[start_idx:end_idx]\n",
    "            _, batch_cost, batch_preds = sess.run([optimizer, cost, pred_onehot], feed_dict={x: x_batch,\n",
    "                                                      y: y_batch})\n",
    "            epoch_cost += batch_cost * this_batch_size\n",
    "            correct += sum(np.array(batch_preds)==np.array(y_batch))\n",
    "            \n",
    "        avg_epoch_cost = epoch_cost/train_examples\n",
    "        this_epoch_accuracy = correct/train_examples\n",
    "        epoch_accuracy.append(this_epoch_accuracy)\n",
    "        epoch_costs.append(avg_epoch_cost)\n",
    "        \n",
    "        print(\"Epoch %d cost: %f | Accuracy %f \"%(epoch + 1,avg_epoch_cost, this_epoch_accuracy ))\n",
    "        if epoch%display_step==0:\n",
    "            y_valid = np.reshape(np.array(y_valid),(-1,1))\n",
    "            batch_valid_cost, batch_valid_preds = sess.run([cost, pred_onehot], feed_dict = {x: x_valid, \n",
    "                                                                                              y: y_valid})\n",
    "            correct_valid = sum(np.array(batch_valid_preds)==np.array(y_valid))\n",
    "            print (\"Validation -- Cost: \", \\\n",
    "            \"{:.9f}\".format(batch_valid_cost), \"Validation acc=\", correct_valid/y_valid.shape[0])\n",
    "    print (\"Optimization Finished!\")\n",
    "    \n",
    "    print(\"Testing the model on the test set\")\n",
    "    y_test = np.reshape(np.array(test_labels),(-1,1))\n",
    "    test_cost, test_preds = sess.run([cost, pred_onehot], feed_dict = {x: test_features, \n",
    "                                                                                      y: y_test})\n",
    "    correct_test = sum(np.array(test_preds)==np.array(y_test))\n",
    "    print (\"Testing -- Cost: \", \\\n",
    "                \"{:.9f}\".format(test_cost), \"Test acc=\", correct_test/y_test.shape[0])\n",
    "    coord.request_stop()\n",
    "    coord.join(threads)\n",
    "if 'session' in locals() and sess is not None:\n",
    "    print('Close interactive session')\n",
    "    sess.close()"
   ]
  },
  {
   "cell_type": "code",
   "execution_count": 14,
   "metadata": {},
   "outputs": [],
   "source": [
    "from matplotlib import pyplot as plt"
   ]
  },
  {
   "cell_type": "code",
   "execution_count": 15,
   "metadata": {
    "scrolled": true
   },
   "outputs": [
    {
     "data": {
      "text/plain": [
       "[<matplotlib.lines.Line2D at 0x7fdeaab70ef0>]"
      ]
     },
     "execution_count": 15,
     "metadata": {},
     "output_type": "execute_result"
    },
    {
     "data": {
      "image/png": "[encoded data removed]",
      "text/plain": [
       "<Figure size 432x288 with 1 Axes>"
      ]
     },
     "metadata": {},
     "output_type": "display_data"
    }
   ],
   "source": [
    "plt.plot(epoch_costs)"
   ]
  },
  {
   "cell_type": "code",
   "execution_count": 16,
   "metadata": {},
   "outputs": [
    {
     "data": {
      "text/plain": [
       "[<matplotlib.lines.Line2D at 0x7fdeaaa95cc0>]"
      ]
     },
     "execution_count": 16,
     "metadata": {},
     "output_type": "execute_result"
    },
    {
     "data": {
      "image/png": "[encoded data removed]",
      "text/plain": [
       "<Figure size 432x288 with 1 Axes>"
      ]
     },
     "metadata": {},
     "output_type": "display_data"
    }
   ],
   "source": [
    "plt.plot(epoch_accuracy)"
   ]
  }
 ],
 "metadata": {
  "kernelspec": {
   "display_name": "Python [conda env:tensorflow_p36]",
   "language": "python",
   "name": "conda-env-tensorflow_p36-py"
  },
  "language_info": {
   "codemirror_mode": {
    "name": "ipython",
    "version": 3
   },
   "file_extension": ".py",
   "mimetype": "text/x-python",
   "name": "python",
   "nbconvert_exporter": "python",
   "pygments_lexer": "ipython3",
   "version": "3.6.4"
  },
  "toc": {
   "base_numbering": 1,
   "nav_menu": {},
   "number_sections": true,
   "sideBar": true,
   "skip_h1_title": false,
   "title_cell": "Table of Contents",
   "title_sidebar": "Contents",
   "toc_cell": false,
   "toc_position": {},
   "toc_section_display": true,
   "toc_window_display": false
  },
  "varInspector": {
   "cols": {
    "lenName": 16,
    "lenType": 16,
    "lenVar": 40
   },
   "kernels_config": {
    "python": {
     "delete_cmd_postfix": "",
     "delete_cmd_prefix": "del ",
     "library": "var_list.py",
     "varRefreshCmd": "print(var_dic_list())"
    },
    "r": {
     "delete_cmd_postfix": ") ",
     "delete_cmd_prefix": "rm(",
     "library": "var_list.r",
     "varRefreshCmd": "cat(var_dic_list()) "
    }
   },
   "types_to_exclude": [
    "module",
    "function",
    "builtin_function_or_method",
    "instance",
    "_Feature"
   ],
   "window_display": false
  }
 },
 "nbformat": 4,
 "nbformat_minor": 2
}
