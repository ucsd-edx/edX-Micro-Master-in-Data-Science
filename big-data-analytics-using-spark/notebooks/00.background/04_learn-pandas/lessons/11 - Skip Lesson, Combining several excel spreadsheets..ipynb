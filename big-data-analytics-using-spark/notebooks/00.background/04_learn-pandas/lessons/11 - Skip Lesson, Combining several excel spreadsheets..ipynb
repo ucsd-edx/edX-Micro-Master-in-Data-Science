{
 "metadata": {
  "name": "",
  "signature": "sha256:e96af7a7d132e38fcdffba39aea51cf20c4f1c4a3dbfff1de950a525a76d6e13"
 },
 "nbformat": 3,
 "nbformat_minor": 0,
 "worksheets": [
  {
   "cells": [
    {
     "cell_type": "markdown",
     "metadata": {},
     "source": [
      "# Lesson 11  \n",
      "\n",
      "Grab data from multiple excel files and merge them into a single dataframe."
     ]
    },
    {
     "cell_type": "code",
     "collapsed": false,
     "input": [
      "import pandas as pd\n",
      "import os\n",
      "import sys\n",
      "%matplotlib inline"
     ],
     "language": "python",
     "metadata": {},
     "outputs": [],
     "prompt_number": 1
    },
    {
     "cell_type": "code",
     "collapsed": false,
     "input": [
      "print 'Python version ' + sys.version\n",
      "print 'Pandas version: ' + pd.__version__"
     ],
     "language": "python",
     "metadata": {},
     "outputs": [
      {
       "output_type": "stream",
       "stream": "stdout",
       "text": [
        "Python version 2.7.5 |Anaconda 2.1.0 (64-bit)| (default, Jul  1 2013, 12:37:52) [MSC v.1500 64 bit (AMD64)]\n",
        "Pandas version: 0.15.2\n"
       ]
      }
     ],
     "prompt_number": 2
    },
    {
     "cell_type": "markdown",
     "metadata": {},
     "source": [
      "# Create 3 excel files"
     ]
    },
    {
     "cell_type": "code",
     "collapsed": false,
     "input": [
      "# Create DataFrame\n",
      "d = {'Channel':[1], 'Number':[255]}\n",
      "df = pd.DataFrame(d)\n",
      "df"
     ],
     "language": "python",
     "metadata": {},
     "outputs": [
      {
       "html": [
        "<div style=\"max-height:1000px;max-width:1500px;overflow:auto;\">\n",
        "<table border=\"1\" class=\"dataframe\">\n",
        "  <thead>\n",
        "    <tr style=\"text-align: right;\">\n",
        "      <th></th>\n",
        "      <th>Channel</th>\n",
        "      <th>Number</th>\n",
        "    </tr>\n",
        "  </thead>\n",
        "  <tbody>\n",
        "    <tr>\n",
        "      <th>0</th>\n",
        "      <td> 1</td>\n",
        "      <td> 255</td>\n",
        "    </tr>\n",
        "  </tbody>\n",
        "</table>\n",
        "</div>"
       ],
       "metadata": {},
       "output_type": "pyout",
       "prompt_number": 3,
       "text": [
        "   Channel  Number\n",
        "0        1     255"
       ]
      }
     ],
     "prompt_number": 3
    },
    {
     "cell_type": "code",
     "collapsed": false,
     "input": [
      "# Export to Excel\n",
      "\n",
      "df.to_excel('test1.xlsx', sheet_name = 'test1', index = False)\n",
      "df.to_excel('test2.xlsx', sheet_name = 'test2', index = False)\n",
      "df.to_excel('test3.xlsx', sheet_name = 'test3', index = False)\n",
      "print 'Done'"
     ],
     "language": "python",
     "metadata": {},
     "outputs": [
      {
       "output_type": "stream",
       "stream": "stdout",
       "text": [
        "Done\n"
       ]
      }
     ],
     "prompt_number": 4
    },
    {
     "cell_type": "markdown",
     "metadata": {},
     "source": [
      "# Place all three Excel files into a DataFrame"
     ]
    },
    {
     "cell_type": "markdown",
     "metadata": {},
     "source": [
      "Get a list of file names but make sure there are no other excel files present in the folder."
     ]
    },
    {
     "cell_type": "code",
     "collapsed": false,
     "input": [
      "# List to hold file names\n",
      "FileNames = []\n",
      "\n",
      "# Your path will be different, please modify the path below.\n",
      "os.chdir(r\"C:\\Users\\david\\notebooks\\pandas\")\n",
      "\n",
      "# Find any file that ends with \".xlsx\"\n",
      "for files in os.listdir(\".\"):\n",
      "    if files.endswith(\".xlsx\"):\n",
      "        FileNames.append(files)\n",
      "        \n",
      "FileNames"
     ],
     "language": "python",
     "metadata": {},
     "outputs": [
      {
       "metadata": {},
       "output_type": "pyout",
       "prompt_number": 5,
       "text": [
        "['test1.xlsx', 'test2.xlsx', 'test3.xlsx']"
       ]
      }
     ],
     "prompt_number": 5
    },
    {
     "cell_type": "markdown",
     "metadata": {},
     "source": [
      "Create a function to process all of the excel files."
     ]
    },
    {
     "cell_type": "code",
     "collapsed": false,
     "input": [
      "def GetFile(fnombre):\n",
      "\n",
      "    # Path to excel file\n",
      "    # Your path will be different, please modify the path below.\n",
      "    location = r'C:\\Users\\david\\notebooks\\pandas\\\\' + fnombre\n",
      "    \n",
      "    # Parse the excel file\n",
      "    # 0 = first sheet\n",
      "    df = pd.read_excel(location, 0)\n",
      "    \n",
      "    # Tag record to file name\n",
      "    df['File'] = fnombre\n",
      "    \n",
      "    # Make the \"File\" column the index of the df\n",
      "    return df.set_index(['File'])"
     ],
     "language": "python",
     "metadata": {},
     "outputs": [],
     "prompt_number": 6
    },
    {
     "cell_type": "markdown",
     "metadata": {},
     "source": [
      "Go through each file name, create a dataframe, and add it to a list.  \n",
      "\n",
      "i.e.  \n",
      "df_list = [df, df, df]"
     ]
    },
    {
     "cell_type": "code",
     "collapsed": false,
     "input": [
      "# Create a list of dataframes\n",
      "df_list = [GetFile(fname) for fname in FileNames]\n",
      "df_list"
     ],
     "language": "python",
     "metadata": {},
     "outputs": [
      {
       "metadata": {},
       "output_type": "pyout",
       "prompt_number": 7,
       "text": [
        "[            Channel  Number\n",
        " File                       \n",
        " test1.xlsx        1     255,             Channel  Number\n",
        " File                       \n",
        " test2.xlsx        1     255,             Channel  Number\n",
        " File                       \n",
        " test3.xlsx        1     255]"
       ]
      }
     ],
     "prompt_number": 7
    },
    {
     "cell_type": "code",
     "collapsed": false,
     "input": [
      "# Combine all of the dataframes into one\n",
      "big_df = pd.concat(df_list)\n",
      "big_df"
     ],
     "language": "python",
     "metadata": {},
     "outputs": [
      {
       "html": [
        "<div style=\"max-height:1000px;max-width:1500px;overflow:auto;\">\n",
        "<table border=\"1\" class=\"dataframe\">\n",
        "  <thead>\n",
        "    <tr style=\"text-align: right;\">\n",
        "      <th></th>\n",
        "      <th>Channel</th>\n",
        "      <th>Number</th>\n",
        "    </tr>\n",
        "    <tr>\n",
        "      <th>File</th>\n",
        "      <th></th>\n",
        "      <th></th>\n",
        "    </tr>\n",
        "  </thead>\n",
        "  <tbody>\n",
        "    <tr>\n",
        "      <th>test1.xlsx</th>\n",
        "      <td> 1</td>\n",
        "      <td> 255</td>\n",
        "    </tr>\n",
        "    <tr>\n",
        "      <th>test2.xlsx</th>\n",
        "      <td> 1</td>\n",
        "      <td> 255</td>\n",
        "    </tr>\n",
        "    <tr>\n",
        "      <th>test3.xlsx</th>\n",
        "      <td> 1</td>\n",
        "      <td> 255</td>\n",
        "    </tr>\n",
        "  </tbody>\n",
        "</table>\n",
        "</div>"
       ],
       "metadata": {},
       "output_type": "pyout",
       "prompt_number": 8,
       "text": [
        "            Channel  Number\n",
        "File                       \n",
        "test1.xlsx        1     255\n",
        "test2.xlsx        1     255\n",
        "test3.xlsx        1     255"
       ]
      }
     ],
     "prompt_number": 8
    },
    {
     "cell_type": "code",
     "collapsed": false,
     "input": [
      "big_df.dtypes"
     ],
     "language": "python",
     "metadata": {},
     "outputs": [
      {
       "metadata": {},
       "output_type": "pyout",
       "prompt_number": 9,
       "text": [
        "Channel    int64\n",
        "Number     int64\n",
        "dtype: object"
       ]
      }
     ],
     "prompt_number": 9
    },
    {
     "cell_type": "code",
     "collapsed": false,
     "input": [
      "# Plot it!\n",
      "big_df['Channel'].plot(kind='bar');"
     ],
     "language": "python",
     "metadata": {},
     "outputs": [
      {
       "metadata": {},
       "output_type": "display_data",
       "png": "[encoded data removed]",
       "text": [
        "<matplotlib.figure.Figure at 0xbbd5710>"
       ]
      }
     ],
     "prompt_number": 10
    },
    {
     "cell_type": "markdown",
     "metadata": {},
     "source": [
      "**Author:** [David Rojas](http://www.hedaro.com/)"
     ]
    }
   ],
   "metadata": {}
  }
 ]
}