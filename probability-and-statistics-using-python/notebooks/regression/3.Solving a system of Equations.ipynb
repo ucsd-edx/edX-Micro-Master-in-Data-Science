{
 "cells": [
  {
   "cell_type": "code",
   "execution_count": null,
   "metadata": {},
   "outputs": [],
   "source": [
    "%pylab inline\n",
    "import numpy as np\n",
    "from scipy import *"
   ]
  },
  {
   "cell_type": "markdown",
   "metadata": {},
   "source": [
    "## Finding a line passing through 2 points\n",
    "\n",
    "Suppose we are given two points in $R^2$: $[-1,2]$ and $[1,1]$, and we want to find a line passing through these points."
   ]
  },
  {
   "cell_type": "code",
   "execution_count": null,
   "metadata": {},
   "outputs": [],
   "source": [
    "p=np.array([[-1,2],[1,1]])\n",
    "plot(p[:,0],p[:,1],'ro')\n",
    "xlim([-1.1,1.1])\n",
    "ylim([0,2.1])\n",
    "grid()"
   ]
  },
  {
   "cell_type": "markdown",
   "metadata": {},
   "source": [
    "Any line (other than vertical) can be expressed as $y=w_0+w_1x$ where $[x,y]$ are points along the line $w_0$ y-axis intercept and $w_1$ is the slope.\n",
    "\n",
    "To identify the line that passes through the two points we need to find $w_0,w_1$ that satisfy two constraints:\n",
    "\n",
    "* The point $[x,y]=[-1,2]$ implies the constraint $w_0-w_1=2$\n",
    "* The point $[x,y]=[1,1]$ implies the constraint $w_0+w_1=1$"
   ]
  },
  {
   "cell_type": "markdown",
   "metadata": {},
   "source": [
    "### Writing equations in matrix form\n",
    "There are many ways to solve the equations, i.e. find $w_x,w_y$ that satisfy both constraints. Here we describe a numerical method that is implemented as part of `numpy`\n",
    "\n",
    "We use matrix notation to define:\n",
    "* The coefficients matrix ${\\bf A} = \\begin{equation}\n",
    "\\begin{bmatrix} 1 & -1 \\\\\n",
    "\t   1 & 1\t\n",
    "\\end{bmatrix}\n",
    "\\end{equation} $\n",
    "* The *ordinate* or *dependent variable* vector: ${\\bf b}=\\begin{bmatrix} 2 \\\\ 1\t\\end{bmatrix}$\n",
    "* The parameter vector ${\\bf w} = \\begin{bmatrix} w_0 \\\\ w_1\t\\end{bmatrix}$"
   ]
  },
  {
   "cell_type": "markdown",
   "metadata": {},
   "source": [
    "We can write the two equations in matrix form as follows:\n",
    "$$\n",
    "\\begin{equation}\n",
    "\\begin{bmatrix} 1 & -1 \\\\\n",
    "\t   1 & 1\t\n",
    "\\end{bmatrix}\n",
    "\\begin{bmatrix} w_0 \\\\ w_1\t\n",
    "\\end{bmatrix}\n",
    "=\n",
    "\\begin{bmatrix} 2 \\\\ 1\t\n",
    "\\end{bmatrix}\n",
    "\\end{equation}\n",
    "$$\n",
    "Which we can write succinctly as ${\\bf A w = b}$"
   ]
  },
  {
   "cell_type": "code",
   "execution_count": null,
   "metadata": {},
   "outputs": [],
   "source": [
    "from numpy.linalg import solve\n",
    "A = np.array([[1,-1], [1,1]])\n",
    "b = np.array([2,1])\n",
    "w = solve(A, b)\n",
    "w"
   ]
  },
  {
   "cell_type": "code",
   "execution_count": null,
   "metadata": {},
   "outputs": [],
   "source": [
    "def F(x,w):\n",
    "    return w[0]+w[1]*x\n",
    "print 'F(-1)=',F(-1,w)\n",
    "print 'F(1)=',F(1,w)    "
   ]
  },
  {
   "cell_type": "code",
   "execution_count": null,
   "metadata": {
    "scrolled": false
   },
   "outputs": [],
   "source": [
    "plot(p[:,0],p[:,1],'ro')\n",
    "_xlim=[-1.1,1.1]\n",
    "xlim(_xlim)\n",
    "ylim([0,2.1])\n",
    "plot(_xlim,[F(_xlim[0],w),F(_xlim[1],w)])\n",
    "grid()"
   ]
  },
  {
   "cell_type": "markdown",
   "metadata": {},
   "source": [
    "### When can you use `numpy.linlag.solve` ?\n",
    "The function `numpy.linlag.solve` can be used to solve a set of $n$ linear equations with $n$ unknowns.\n",
    "\n",
    "You simply express the set of equation in a matrix format ${\\bf Ax=b}$ and call `solve` using `x=solve(A,b)` the returned value is a vector with the solution for ${\\bf x}$.\n",
    "\n",
    "However the number of equations and the number of unknowns must be equal. \n",
    "* If the number of equations is **smaller** that the number of unknowns we say that the system is **underdetermined** or **singular**. It means that we don't have enough information to specify a unique solution. In data analysis this would rarely be the case.\n",
    "* If the number of equations is **larger** than the number of unknowns we say that the system if **overdetermined**. It means that there is no solution that satisfies all of the constraints. In data analysis this is a very common occurance, and we will discuss it in the next notebook."
   ]
  },
  {
   "cell_type": "markdown",
   "metadata": {},
   "source": [
    "### Example\n",
    "Find the solution for the following set of 3 equations:\n",
    "$$\n",
    "x+y-z=5 \\\\\n",
    "z+2y=3 \\\\\n",
    "y-x=4\n",
    "$$"
   ]
  },
  {
   "cell_type": "code",
   "execution_count": null,
   "metadata": {},
   "outputs": [],
   "source": [
    "# Solution\n",
    "A=np.array([[1,1,-1],[0,2,1],[-1,1,0]])\n",
    "b=np.array([5,3,4])\n",
    "solve(A,b)"
   ]
  },
  {
   "cell_type": "markdown",
   "metadata": {},
   "source": [
    "Which means that the solution is $x=-1,y=3,z=-3$\n",
    "\n",
    "Check that the solution is correct, i.e. that it satisfies the three constraints."
   ]
  },
  {
   "cell_type": "markdown",
   "metadata": {},
   "source": [
    "### Homework\n",
    "write a function called `eqn_solution` which gets as input a 1D array `b` with 5 entries and returns the solution for the parameters $(x,y,z,s,t)$ \n",
    "for the following set of equations: \n",
    "$$\n",
    "x+y+z=b[0] \\\\\n",
    "t-y=b[1] \\\\\n",
    "x-z=b[2] \\\\\n",
    "y+z+s=b[3] \\\\\n",
    "t-x=b[4]\n",
    "$$\n"
   ]
  },
  {
   "cell_type": "code",
   "execution_count": null,
   "metadata": {},
   "outputs": [],
   "source": [
    "A=np.array([[1,1,1,0,0],\\\n",
    "            [0,-1,0,0,1],\\\n",
    "            [1,0,-1,0,0],\\\n",
    "            [0,1,1,1,0],\\\n",
    "            [-1,0,0,0,1]])\n",
    "b=np.array([1,1,1,1,1])\n",
    "x,y,z,s,t=solve(A,b)\n",
    "print x+y+z,t-y,x-z,y+z+s,t-x"
   ]
  },
  {
   "cell_type": "code",
   "execution_count": null,
   "metadata": {
    "collapsed": true
   },
   "outputs": [],
   "source": []
  }
 ],
 "metadata": {
  "kernelspec": {
   "display_name": "Python 2",
   "language": "python",
   "name": "python2"
  },
  "language_info": {
   "codemirror_mode": {
    "name": "ipython",
    "version": 2
   },
   "file_extension": ".py",
   "mimetype": "text/x-python",
   "name": "python",
   "nbconvert_exporter": "python",
   "pygments_lexer": "ipython2",
   "version": "2.7.13"
  },
  "toc": {
   "colors": {
    "hover_highlight": "#DAA520",
    "navigate_num": "#000000",
    "navigate_text": "#333333",
    "running_highlight": "#FF0000",
    "selected_highlight": "#FFD700",
    "sidebar_border": "#EEEEEE",
    "wrapper_background": "#FFFFFF"
   },
   "moveMenuLeft": true,
   "nav_menu": {
    "height": "122px",
    "width": "252px"
   },
   "navigate_menu": true,
   "number_sections": true,
   "sideBar": true,
   "threshold": 4,
   "toc_cell": false,
   "toc_section_display": "block",
   "toc_window_display": false,
   "widenNotebook": false
  }
 },
 "nbformat": 4,
 "nbformat_minor": 2
}
