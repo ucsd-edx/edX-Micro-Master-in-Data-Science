{
 "cells": [
  {
   "cell_type": "markdown",
   "metadata": {
    "slideshow": {
     "slide_type": "slide"
    }
   },
   "source": [
    "<img style=\"float: right;width:500px;height:500px\" src=\"images/Matrix.svg.png\">\n",
    "## Matrix notation\n",
    "<a href=\"https://en.wikipedia.org/wiki/Matrix_(mathematics)\">Matrix Notation</a> is a notation systems that for a succinct representation of repetitive operations, such as a change of basis."
   ]
  },
  {
   "cell_type": "markdown",
   "metadata": {
    "slideshow": {
     "slide_type": "skip"
    }
   },
   "source": [
    "Recall that a **vector** can be represented as a one dimensional array of numbers. A **matrix** is a two dimensional rectangle of numbers. A matrix consists of rows, indexed from the top to the bottom and of columns, indexed from the left to the right. As is described in the  figure.\n",
    "\n",
    "A matrix with $n$ rows and $m$ columns is said to be an \"$m$ by $n$ matrix\".\n",
    "In numpy we will say that the **shape** of the matrix is $(m,n)$. We will also use the LaTeX notation $M_{m \\times n}$ to indicate that $M$ is an $m \\times n$ matrix."
   ]
  },
  {
   "cell_type": "markdown",
   "metadata": {
    "slideshow": {
     "slide_type": "slide"
    }
   },
   "source": [
    "### Transposing a Matrix\n",
    "\n",
    "At times it is useful to switch the rows and column dimensions of matrices.  Consider the matrix\n",
    "$$\n",
    "\\begin{equation}\n",
    "\tA=\\begin{bmatrix}\n",
    "\t  a_{11} & a_{12} \\\\\n",
    "\t  a_{21} & a_{22} \\\\\n",
    "\t  a_{31} & a_{32} \t\n",
    "\t\\end{bmatrix}\n",
    "\\end{equation}\n",
    "$$\n",
    "The transpose of A  is\n",
    "$$\n",
    "\\begin{equation}\n",
    "   A^{\\mathsf{T}}=\\begin{bmatrix}\n",
    "\t  a_{11} & a_{21} & a_{31} \\\\\n",
    "\t  a_{12} & a_{22} & a_{32} \\\\\n",
    "\t\\end{bmatrix}\n",
    "\\end{equation}\n",
    "$$"
   ]
  },
  {
   "cell_type": "code",
   "execution_count": 26,
   "metadata": {
    "hide_input": true,
    "slideshow": {
     "slide_type": "subslide"
    }
   },
   "outputs": [
    {
     "name": "stdout",
     "output_type": "stream",
     "text": [
      "A= [0 1 2 3 4 5]\n",
      "B is a 2X3 matrix:\n",
      "[[0 1 2]\n",
      " [3 4 5]]\n",
      "the shape of B is: (2, 3)\n",
      "The transpose of B is\n",
      "[[0 3]\n",
      " [1 4]\n",
      " [2 5]]\n",
      "the shape of B.T is: (3, 2)\n"
     ]
    }
   ],
   "source": [
    "import numpy as np\n",
    "# The .reshape command reorganized the elements of a matrix into a new shape\n",
    "A = np.array(range(6))\n",
    "print 'A=',A\n",
    "B=A.reshape(2,3)\n",
    "print \"B is a 2X3 matrix:\\n\",B\n",
    "print \"the shape of B is:\",B.shape\n",
    "print \"The transpose of B is\\n\",B.T\n",
    "print \"the shape of B.T is:\",B.T.shape"
   ]
  },
  {
   "cell_type": "markdown",
   "metadata": {
    "slideshow": {
     "slide_type": "skip"
    }
   },
   "source": [
    "### Vectors as matrices.\n",
    "When using matrix notation, vectors can be represented as either [row or column vectors](https://en.wikipedia.org/wiki/Row_and_column_vectors). In a matrix context, a vector $\\vec{v}$ is denoted by a bold-face letter. ${\\bf v}$ for a column vector and ${\\bf v}^\\top$ for row vector:"
   ]
  },
  {
   "cell_type": "markdown",
   "metadata": {
    "slideshow": {
     "slide_type": "subslide"
    }
   },
   "source": [
    "* By default a vector is represented as a **column vector** which is a matrix consisting of a single column:\n",
    "$$\n",
    "\\begin{equation}\n",
    "{\\bf v}=\n",
    "\t\\begin{bmatrix}\n",
    "\t  v_1 \\\\\n",
    "      v_2 \\\\\n",
    "      \\vdots \\\\\n",
    "\t  v_d\n",
    "\t\\end{bmatrix}\n",
    "\\end{equation}\n",
    "$$"
   ]
  },
  {
   "cell_type": "markdown",
   "metadata": {
    "slideshow": {
     "slide_type": "subslide"
    }
   },
   "source": [
    "* If $\\vec{v}$ is a column vector then the **transpose** of $\\vec{v}$, denoted by $\\vec{v}^\\top$ is a **row vector** which is a matrix consists of a single row:\n",
    "$$\n",
    "\\begin{equation}\n",
    "{\\bf v}^{\\top}=\n",
    "\t\\begin{bmatrix}\n",
    "\t  v_1 & v_2 & \\cdots & v_d\n",
    "\t\\end{bmatrix}\n",
    "\\end{equation}\n",
    "$$"
   ]
  },
  {
   "cell_type": "markdown",
   "metadata": {
    "slideshow": {
     "slide_type": "skip"
    }
   },
   "source": [
    "#### A matrix as a collection of vectors\n",
    "\n",
    "Matrices can be represented as a collection of vectors. For example, consider the $2\\times 3$ matrix ${\\bf A}=\\begin{bmatrix}\n",
    "\t  a_{11} & a_{12} & a_{13}\\\\\n",
    "\t  a_{21} & a_{22} & a_{23}\t\n",
    "\t\\end{bmatrix}$"
   ]
  },
  {
   "cell_type": "markdown",
   "metadata": {},
   "source": [
    "We can represent ${\\bf A}=\\begin{bmatrix}\n",
    "\t  a_{11} & a_{12} & a_{13}\\\\\n",
    "\t  a_{21} & a_{22} & a_{23}\t\n",
    "\t\\end{bmatrix}$ in one of two ways:\n",
    "* As a row of column vectors:\n",
    "$$ {\\bf A} = \\begin{bmatrix} {\\bf c}_1 , {\\bf c}_2 , {\\bf c}_3 \\end{bmatrix}$$\n",
    "where\n",
    "$$\n",
    "   {\\bf c}_1=\\begin{bmatrix} a_{11}\\\\ a_{21} \\end{bmatrix},\n",
    "   {\\bf c}_2=\\begin{bmatrix} a_{12}\\\\ a_{22} \\end{bmatrix}, \n",
    "   {\\bf c}_3=\\begin{bmatrix} a_{13}\\\\ a_{23} \\end{bmatrix}$$"
   ]
  },
  {
   "cell_type": "markdown",
   "metadata": {
    "slideshow": {
     "slide_type": "subslide"
    }
   },
   "source": [
    "* Or as a column of row vectors: $\n",
    "{\\bf A} = \\begin{bmatrix} {\\bf r}_1 \\\\ {\\bf r}_2 \\end{bmatrix}$  \n",
    "where $\n",
    "   {\\bf r}_1=\\begin{bmatrix} a_{11}, a_{12}, a_{13} \\end{bmatrix},\n",
    "   {\\bf r}_2=\\begin{bmatrix} a_{21}, a_{22}, a_{23} \\end{bmatrix}, \n",
    "$"
   ]
  },
  {
   "cell_type": "code",
   "execution_count": 7,
   "metadata": {
    "scrolled": true,
    "slideshow": {
     "slide_type": "slide"
    }
   },
   "outputs": [
    {
     "name": "stdout",
     "output_type": "stream",
     "text": [
      "A=\n",
      "[[0 1 2]\n",
      " [3 4 5]]\n"
     ]
    }
   ],
   "source": [
    "A=np.array(range(6)).reshape(2,3)\n",
    "print 'A=\\n',A"
   ]
  },
  {
   "cell_type": "code",
   "execution_count": 8,
   "metadata": {
    "code_folding": [
     2
    ],
    "slideshow": {
     "slide_type": "fragment"
    }
   },
   "outputs": [
    {
     "name": "stdout",
     "output_type": "stream",
     "text": [
      "Splitting A into columns:\n",
      "column 0\n",
      "[[0]\n",
      " [3]]\n",
      "column 1\n",
      "[[1]\n",
      " [4]]\n",
      "column 2\n",
      "[[2]\n",
      " [5]]\n"
     ]
    }
   ],
   "source": [
    "print \"Splitting A into columns:\"\n",
    "Columns=np.split(A,3,axis=1)\n",
    "for i in range(len(Columns)):\n",
    "    print 'column %d'%i\n",
    "    print Columns[i]"
   ]
  },
  {
   "cell_type": "code",
   "execution_count": 9,
   "metadata": {
    "scrolled": true,
    "slideshow": {
     "slide_type": "slide"
    }
   },
   "outputs": [
    {
     "name": "stdout",
     "output_type": "stream",
     "text": [
      "reconstructing the matrix from the columns:\n",
      "[[0 1 2]\n",
      " [3 4 5]]\n",
      "Checking that the reconstruction is equal to the original\n",
      "[[ True  True  True]\n",
      " [ True  True  True]]\n"
     ]
    }
   ],
   "source": [
    "A_recon=np.concatenate(Columns,axis=1)\n",
    "print 'reconstructing the matrix from the columns:'\n",
    "print A_recon\n",
    "print 'Checking that the reconstruction is equal to the original'\n",
    "print A_recon==A"
   ]
  },
  {
   "cell_type": "code",
   "execution_count": 10,
   "metadata": {
    "code_folding": [
     3
    ],
    "slideshow": {
     "slide_type": "subslide"
    }
   },
   "outputs": [
    {
     "name": "stdout",
     "output_type": "stream",
     "text": [
      "Splitting A into rows:\n",
      "row 0\n",
      "[[0 1 2]]\n",
      "row 1\n",
      "[[3 4 5]]\n"
     ]
    }
   ],
   "source": [
    "print \"Splitting A into rows:\"\n",
    "Rows=np.split(A,2,axis=0)\n",
    "\n",
    "for i in range(len(Rows)):\n",
    "    print 'row %d'%i\n",
    "    print Rows[i]"
   ]
  },
  {
   "cell_type": "code",
   "execution_count": 11,
   "metadata": {
    "scrolled": true,
    "slideshow": {
     "slide_type": "slide"
    }
   },
   "outputs": [
    {
     "name": "stdout",
     "output_type": "stream",
     "text": [
      "reconstructing the matrix from the rows:\n",
      "[[0 1 2]\n",
      " [3 4 5]]\n",
      "Checking that the reconstruction is equal to the original\n",
      "[[ True  True  True]\n",
      " [ True  True  True]]\n"
     ]
    }
   ],
   "source": [
    "A_recon=np.concatenate(Rows,axis=0)\n",
    "\n",
    "print 'reconstructing the matrix from the rows:'\n",
    "print A_recon\n",
    "print 'Checking that the reconstruction is equal to the original'\n",
    "print A_recon==A"
   ]
  },
  {
   "cell_type": "markdown",
   "metadata": {
    "slideshow": {
     "slide_type": "skip"
    }
   },
   "source": [
    "#### Numpy functions\n",
    "Beyond the commands `reshape`, `split` and `concatanate` numpy has a rich set of functions to manipulate arrays, for a complete list see [Numpy Array Manipulation routines](https://docs.scipy.org/doc/numpy/reference/routines.array-manipulation.html)"
   ]
  },
  {
   "cell_type": "markdown",
   "metadata": {},
   "source": [
    "### Matrix Addition and Subtraction\n",
    "Similar to matrices in MatLab"
   ]
  },
  {
   "cell_type": "markdown",
   "metadata": {
    "slideshow": {
     "slide_type": "slide"
    }
   },
   "source": [
    "#### Adding or subtracting a scalar value to a matrix\n",
    "\n",
    "To learn the basics, consider a small matrix of dimension $2 \\times 2$, where $2 \\times 2$ denotes the number of rows $\\times$ the number of columns.  Let $A$=$\\bigl( \\begin{smallmatrix} a_{11} & a_{12} \\\\ a_{21} & a_{22} \\end{smallmatrix} \\bigr)$.  Here is how we would add the scalar $3$ to $A$:\n",
    "$$\n",
    "\\begin{equation}\n",
    "\tA+3=\\begin{bmatrix}\n",
    "\t  a_{11} & a_{12} \\\\\n",
    "\t  a_{21} & a_{22} \t\n",
    "\t\\end{bmatrix}+3\n",
    "\t=\\begin{bmatrix}\n",
    "\t  a_{11}+3 & a_{12}+3 \\\\\n",
    "\t  a_{21}+3 & a_{22}+3 \t\n",
    "\t\\end{bmatrix}\n",
    "\\end{equation}\n",
    "$$"
   ]
  },
  {
   "cell_type": "markdown",
   "metadata": {
    "collapsed": true,
    "slideshow": {
     "slide_type": "slide"
    }
   },
   "source": [
    "Substraction is similar\n",
    "$$\n",
    "\\begin{equation}\n",
    "\tA-3=\\begin{bmatrix}\n",
    "\t  a_{11} & a_{12} \\\\\n",
    "\t  a_{21} & a_{22} \t\n",
    "\t\\end{bmatrix}-3\n",
    "\t=\\begin{bmatrix}\n",
    "\t  a_{11}-3 & a_{12}-3 \\\\\n",
    "\t  a_{21}-3 & a_{22}-3 \t\n",
    "\t\\end{bmatrix}\n",
    "\\end{equation}\n",
    "$$"
   ]
  },
  {
   "cell_type": "code",
   "execution_count": 12,
   "metadata": {
    "slideshow": {
     "slide_type": "slide"
    }
   },
   "outputs": [
    {
     "name": "stdout",
     "output_type": "stream",
     "text": [
      "A=\n",
      "[[0 1 2]\n",
      " [3 4 5]]\n",
      "A+3=3+A=\n",
      "[[3 4 5]\n",
      " [6 7 8]]\n"
     ]
    }
   ],
   "source": [
    "print 'A=\\n',A\n",
    "result = A + 3\n",
    "#or\n",
    "result = 3 + A\n",
    "print 'A+3=3+A=\\n',result"
   ]
  },
  {
   "cell_type": "markdown",
   "metadata": {
    "slideshow": {
     "slide_type": "slide"
    }
   },
   "source": [
    "#### Adding or subtracting two matrices\n",
    "Consider two small $2 \\times 2$ matrices, where $2 \\times 2$ denotes the \\# of rows $\\times$ the \\# of columns.  Let $A$=$\\bigl( \\begin{smallmatrix} a_{11} & a_{12} \\\\ a_{21} & a_{22} \\end{smallmatrix} \\bigr)$ and $B$=$\\bigl( \\begin{smallmatrix} b_{11} & b_{12} \\\\ b_{21} & b_{22} \\end{smallmatrix} \\bigr)$.  To find the result of $A-B$, simply subtract each element of A with the corresponding element of B:\n",
    "\n",
    "$$\n",
    "\\begin{equation}\n",
    "\tA -B =\n",
    "\t\\begin{bmatrix}\n",
    "\t  a_{11} & a_{12} \\\\\n",
    "\t  a_{21} & a_{22} \t\n",
    "\t\\end{bmatrix} -\n",
    "\t\\begin{bmatrix} b_{11} & b_{12} \\\\\n",
    "\t  b_{21} & b_{22}\n",
    "\t\\end{bmatrix}\n",
    "\t=\n",
    "\t\\begin{bmatrix}\n",
    "\t  a_{11}-b_{11} & a_{12}-b_{12} \\\\\n",
    "\t  a_{21}-b_{21} & a_{22}-b_{22} \t\n",
    "\t\\end{bmatrix}\n",
    "\\end{equation}\n",
    "$$"
   ]
  },
  {
   "cell_type": "markdown",
   "metadata": {
    "slideshow": {
     "slide_type": "subslide"
    }
   },
   "source": [
    "Addition works exactly the same way:\n",
    "\n",
    "$$\n",
    "\\begin{equation}\n",
    "\tA + B =\n",
    "\t\\begin{bmatrix}\n",
    "\t  a_{11} & a_{12} \\\\\n",
    "\t  a_{21} & a_{22} \t\n",
    "\t\\end{bmatrix} +\n",
    "\t\\begin{bmatrix} b_{11} & b_{12} \\\\\n",
    "\t  b_{21} & b_{22}\n",
    "\t\\end{bmatrix}\n",
    "\t=\n",
    "\t\\begin{bmatrix}\n",
    "\t  a_{11}+b_{11} & a_{12}+b_{12} \\\\\n",
    "\t  a_{21}+b_{21} & a_{22}+b_{22} \t\n",
    "\t\\end{bmatrix}\n",
    "\\end{equation}\n",
    "$$"
   ]
  },
  {
   "cell_type": "markdown",
   "metadata": {
    "slideshow": {
     "slide_type": "skip"
    }
   },
   "source": [
    "An important point to know about matrix addition and subtraction is that it is only defined when $A$ and $B$ are of the same size.  Here, both are $2 \\times 2$.  Since operations are performed element by element, these two matrices must be conformable- and for addition and subtraction that means they must have the same numbers of rows and columns.  I like to be explicit about the dimensions of matrices for checking conformability as I write the equations, so write\n",
    "\n",
    "$$\n",
    "A_{2 \\times 2} + B_{2 \\times 2}= \\begin{bmatrix}\n",
    "  a_{11}+b_{11} & a_{12}+b_{12} \\\\\n",
    "  a_{21}+b_{21} & a_{22}+b_{22} \t\n",
    "\\end{bmatrix}_{2 \\times 2}\n",
    "$$\n",
    "\n",
    "Notice that the result of a matrix addition or subtraction operation is always of the same dimension as the two operands.\n",
    "\n",
    "Let's define another matrix, B, that is also $2 \\times 2$ and add it to A:"
   ]
  },
  {
   "cell_type": "code",
   "execution_count": 17,
   "metadata": {
    "slideshow": {
     "slide_type": "skip"
    }
   },
   "outputs": [
    {
     "name": "stdout",
     "output_type": "stream",
     "text": [
      "[[-0.15805194  1.142038  ]\n",
      " [-1.66034196 -1.01652023]]\n"
     ]
    }
   ],
   "source": [
    "B = np.random.randn(2,2)\n",
    "print B"
   ]
  },
  {
   "cell_type": "code",
   "execution_count": 24,
   "metadata": {
    "slideshow": {
     "slide_type": "skip"
    }
   },
   "outputs": [
    {
     "name": "stdout",
     "output_type": "stream",
     "text": [
      "operands could not be broadcast together with shapes (2,3) (2,2) \n"
     ]
    }
   ],
   "source": [
    "try:\n",
    "    result = A + B\n",
    "except Exception as e: \n",
    "    print e"
   ]
  },
  {
   "cell_type": "markdown",
   "metadata": {
    "slideshow": {
     "slide_type": "slide"
    }
   },
   "source": [
    "### Matrix Multiplication\n",
    "\n",
    "#### Multiplying a scalar value times a matrix\n",
    "\n",
    "As before, let $A$=$\\bigl( \\begin{smallmatrix} a_{11} & a_{12} \\\\ a_{21} & a_{22} \\end{smallmatrix} \\bigr)$.  Suppose we want to multiply A times a scalar value (e.g. $3 \\times A$)\n",
    "\n",
    "$$\n",
    "\\begin{equation}\n",
    "\t3 \\times A = 3 \\times \\begin{bmatrix}\n",
    "\t  a_{11} & a_{12} \\\\\n",
    "\t  a_{21} & a_{22} \t\n",
    "\t\\end{bmatrix}\n",
    "\t=\n",
    "\t\\begin{bmatrix}\n",
    "\t  3a_{11} & 3a_{12} \\\\\n",
    "\t  3a_{21} & 3a_{22} \t\n",
    "\t\\end{bmatrix}\n",
    "\\end{equation}\n",
    "$$\n",
    "\n",
    "is of dimension (2,2).  Scalar multiplication is commutative, so that $3 \\times A$=$A \\times 3$.  "
   ]
  },
  {
   "cell_type": "code",
   "execution_count": 25,
   "metadata": {
    "hide_input": true,
    "slideshow": {
     "slide_type": "subslide"
    }
   },
   "outputs": [
    {
     "name": "stdout",
     "output_type": "stream",
     "text": [
      "A=\n",
      "[[0 1 2]\n",
      " [3 4 5]]\n",
      "A*3=\n",
      "[[ 0  3  6]\n",
      " [ 9 12 15]]\n"
     ]
    }
   ],
   "source": [
    "print 'A=\\n',A\n",
    "print 'A*3=\\n',A*3"
   ]
  },
  {
   "cell_type": "markdown",
   "metadata": {
    "slideshow": {
     "slide_type": "slide"
    }
   },
   "source": [
    "### Multiplying two vectors\n",
    "\n",
    "* Consider the dot product $(1,2,3) \\cdot (1,1,0) = 1 \\times 1 + 2 \\times 1 +3 \\times 0= 3$."
   ]
  },
  {
   "cell_type": "markdown",
   "metadata": {
    "slideshow": {
     "slide_type": "fragment"
    }
   },
   "source": [
    "* To express this dot product in matrix notation we use the following conventions: \n",
    "  * The first vector is a row vector and the second vector is a column vector.\n",
    "  * There is no operator ($\\cdot$) between the two vectors\n",
    "  \n",
    "$$\n",
    "   \\begin{bmatrix} 1,2,3 \\end{bmatrix}\n",
    "   \\begin{bmatrix} 1 \\\\ 1 \\\\ 0 \\end{bmatrix} = 1 \\times 1 + 2 \\times 1 +3 \\times 0= 3\n",
    "$$"
   ]
  },
  {
   "cell_type": "markdown",
   "metadata": {},
   "source": [
    "We can represent ${\\bf A}=\\begin{bmatrix}\n",
    "\t  a_{11} & a_{12} & a_{13}\\\\\n",
    "\t  a_{21} & a_{22} & a_{23}\t\n",
    "\t\\end{bmatrix}$ in one of two ways:\n",
    "* As a row of column vectors:\n",
    "$$ {\\bf A} = \\begin{bmatrix} {\\bf c}_1 , {\\bf c}_2 , {\\bf c}_3 \\end{bmatrix}$$\n",
    "where\n",
    "$$\n",
    "   {\\bf c}_1=\\begin{bmatrix} a_{11}\\\\ a_{21} \\end{bmatrix},\n",
    "   {\\bf c}_2=\\begin{bmatrix} a_{12}\\\\ a_{22} \\end{bmatrix}, \n",
    "   {\\bf c}_3=\\begin{bmatrix} a_{13}\\\\ a_{23} \\end{bmatrix}$$\n",
    "\n",
    "* Or as a column of row vectors: $\n",
    "{\\bf A} = \\begin{bmatrix} {\\bf r}_1 \\\\ {\\bf r}_2 \\end{bmatrix}$  \n",
    "where $\n",
    "   {\\bf r}_1=\\begin{bmatrix} a_{11}, a_{12}, a_{13} \\end{bmatrix},\n",
    "   {\\bf r}_2=\\begin{bmatrix} a_{21}, a_{22}, a_{23} \\end{bmatrix}, \n",
    "$"
   ]
  },
  {
   "cell_type": "markdown",
   "metadata": {
    "slideshow": {
     "slide_type": "slide"
    }
   },
   "source": [
    "#### Multiplying a matrix and a vector\n",
    "\n",
    "To multiply the matrix ${\\bf A}=\\begin{bmatrix}\n",
    "\t  a_{11} & a_{12} & a_{13}\\\\\n",
    "\t  a_{21} & a_{22} & a_{23}\t\n",
    "\t\\end{bmatrix}$\n",
    "by the column vector ${\\bf c}=\\begin{bmatrix} c_1 \\\\ c_2 \\\\ c_3 \\end{bmatrix}$  "
   ]
  },
  {
   "cell_type": "markdown",
   "metadata": {
    "slideshow": {
     "slide_type": "subslide"
    }
   },
   "source": [
    "We think of ${\\bf A}$ as consisting or two row vectors:\n",
    "${\\bf A} = \\begin{bmatrix} {\\bf r}_1 \\\\ {\\bf r}_2 \\end{bmatrix}$  \n",
    "where $\n",
    "   {\\bf r}_1=\\begin{bmatrix} a_{11}, a_{12}, a_{13} \\end{bmatrix},\n",
    "   {\\bf r}_2=\\begin{bmatrix} a_{21}, a_{22}, a_{23} \\end{bmatrix}, \n",
    "$\n",
    "\n",
    "and take the dot products of ${\\bf r}_1,{\\bf r}_2$ with ${\\bf c}$ to create a column vector of dimension 2:\n",
    "\n",
    "${\\bf A} {\\bf c} = \\begin{bmatrix} {\\bf r}_1 {\\bf c} \\\\ {\\bf r}_2 {\\bf c} \\end{bmatrix}\n",
    " = \\begin{bmatrix}\n",
    "\t  a_{11}c_1 + a_{12}c_2 + a_{13} c_3 \\\\\n",
    "\t  a_{21}c_1 + a_{22}c_2 + a_{23} c_3\t\n",
    "\t\\end{bmatrix}$"
   ]
  },
  {
   "cell_type": "code",
   "execution_count": 27,
   "metadata": {},
   "outputs": [
    {
     "name": "stdout",
     "output_type": "stream",
     "text": [
      "(3, 2)\n",
      "(2,)\n",
      "[1 1 1]\n"
     ]
    }
   ],
   "source": [
    "# Let's redefine A and C to demonstrate matrix multiplication:\n",
    "A = np.arange(6).reshape((3,2))\n",
    "C = np.array([-1,1])\n",
    "\n",
    "print A.shape\n",
    "print C.shape\n",
    "print np.dot(A,C.T)"
   ]
  },
  {
   "cell_type": "markdown",
   "metadata": {},
   "source": [
    "#### Multiplying two matrices\n",
    "\n",
    "Multiplying a matrix and a column vector can be generalized to multiplying two matrices.\n",
    "\n",
    "\n",
    "\n",
    "To do so we think of \n",
    "Alternatively, consider a matrix ${\\bf C}$ of size $2 \\times 3$ and a matrix ${\\bf A}$ of size $3 \\times 2$\n",
    "\n",
    "$$\n",
    "\\begin{equation}\n",
    "\t{\\bf A}=\\begin{bmatrix}\n",
    "\t  a_{11} & a_{12} \\\\\n",
    "\t  a_{21} & a_{22} \\\\\n",
    "\t  a_{31} & a_{32} \t\n",
    "\t\\end{bmatrix}\n",
    "\t,\n",
    "\t{\\bf C} = \n",
    "\t\\begin{bmatrix}\n",
    "\t\t  c_{11} & c_{12} & c_{13} \\\\\n",
    "\t\t  c_{21} & c_{22} & c_{23} \n",
    "\t\\end{bmatrix}\n",
    "\t\\end{equation}\n",
    "$$"
   ]
  },
  {
   "cell_type": "markdown",
   "metadata": {},
   "source": [
    "To compute ${\\bf AC}$ we think of ${\\bf A}$ as a column of row vectors:\n",
    "${\\bf A} =\\begin{bmatrix}\n",
    "\t  {\\bf a}_1 \\\\\n",
    "\t  {\\bf a}_2 \\\\\n",
    "\t  {\\bf a}_3\t\n",
    "\t\\end{bmatrix}\n",
    "    $\n",
    "    \n",
    "and of ${\\bf C}$ as a row of column vectors: ${\\bf C} =\\begin{bmatrix}\n",
    "\t  {\\bf c}_1,\n",
    "\t  {\\bf c}_2,\n",
    "\t  {\\bf c}_3\t\n",
    "\t\\end{bmatrix}\n",
    "    $"
   ]
  },
  {
   "cell_type": "markdown",
   "metadata": {},
   "source": [
    "${\\bf AC}$ is the matrix generated from taking the dot product of each row vector in ${\\bf A}$ with each column vector\n",
    "${\\bf AC}=\n",
    "\t\\begin{bmatrix}\n",
    "\t  {\\bf a}_1 \\\\\n",
    "\t  {\\bf a}_2 \\\\\n",
    "\t  {\\bf a}_3\t\t\n",
    "\t\\end{bmatrix}\n",
    "\t\\begin{bmatrix}\n",
    "\t  {\\bf c}_1,\n",
    "\t  {\\bf c}_2,\n",
    "\t  {\\bf c}_3\n",
    "\t\\end{bmatrix}\n",
    "$\n",
    "    "
   ]
  },
  {
   "cell_type": "markdown",
   "metadata": {},
   "source": [
    "$$    \\begin{align}\n",
    "    =\\begin{bmatrix}\n",
    "    {\\bf a_1 c_1 & a_1 c_2 & a_1 c_3}\\\\\n",
    "    {\\bf a_1 c_1 & a_1 c_2 & a_1 c_3}\\\\\n",
    "    {\\bf a_1 c_1 & a_1 c_2 & a_1 c_3}\n",
    "    \\end{bmatrix}\n",
    "    \\end{align}\n",
    "    $$\n",
    "    \\\\\n",
    "\t=\n",
    "$$\n",
    "\\begin{bmatrix}\n",
    "\t  a_{11} c_{11}+a_{12} c_{21} & a_{11} c_{12}+a_{12} c_{22} & a_{11} c_{13}+a_{12} c_{23} \\\\\n",
    "\t  a_{21} c_{11}+a_{22} c_{21} & a_{21} c_{12}+a_{22} c_{22} & a_{21} c_{13}+a_{22} c_{23} \\\\\n",
    "\t  a_{31} c_{11}+a_{32} c_{21} & a_{31} c_{12}+a_{32} c_{22} & a_{31} c_{13}+a_{32} c_{23}\n",
    "\t\\end{bmatrix}_{3 \\times 3}\t\n",
    "\\end{align}\n",
    "$$\n",
    "\n",
    "So in general, $X_{r_x \\times c_x} \\times Y_{r_y \\times c_y}$ we have two important things to remember: \n",
    "\n",
    "* For conformability in matrix multiplication, $c_x=r_y$, or the columns in the first operand must be equal to the rows of the second operand.\n",
    "* The result will be of dimension $r_x \\times c_y$, or of dimensions equal to the rows of the first operand and columns equal to columns of the second operand.\n",
    "\n",
    "Given these facts, you should convince yourself that matrix multiplication is not generally commutative, that the relationship $X \\times Y = Y \\times X$ does **not** hold in all cases.\n",
    "For this reason, we will always be very explicit about whether we are pre multiplying ($X \\times Y$) or post multiplying ($Y \\times X$) the vectors/matrices $X$ and $Y$.\n",
    "\n",
    "For more information on this topic, see this\n",
    "http://en.wikipedia.org/wiki/Matrix_multiplication."
   ]
  },
  {
   "cell_type": "code",
   "execution_count": 9,
   "metadata": {},
   "outputs": [
    {
     "name": "stdout",
     "output_type": "stream",
     "text": [
      "(3, 2)\n",
      "(2, 2)\n"
     ]
    }
   ],
   "source": [
    "# Let's redefine A and C to demonstrate matrix multiplication:\n",
    "A = np.arange(6).reshape((3,2))\n",
    "C = np.random.randn(2,2)\n",
    "\n",
    "print A.shape\n",
    "print C.shape"
   ]
  },
  {
   "cell_type": "markdown",
   "metadata": {},
   "source": [
    "#### Conformity\n",
    "Note that the number of columns in the first matrix has to be equal to the number of columns in the second matrix. Otherwise, the matrix product is not defined. When this condition holds we say that the two matrices **conform**."
   ]
  },
  {
   "cell_type": "markdown",
   "metadata": {},
   "source": [
    "We will use the numpy dot operator to perform the these multiplications.  You can use it two ways to yield the same result:"
   ]
  },
  {
   "cell_type": "code",
   "execution_count": 10,
   "metadata": {},
   "outputs": [
    {
     "name": "stdout",
     "output_type": "stream",
     "text": [
      "[[-0.03695345 -0.2265092 ]\n",
      " [ 0.71719312  4.12375061]\n",
      " [ 1.47133969  8.47401042]]\n",
      "[[-0.03695345 -0.2265092 ]\n",
      " [ 0.71719312  4.12375061]\n",
      " [ 1.47133969  8.47401042]]\n"
     ]
    }
   ],
   "source": [
    "print A.dot(C)\n",
    "print np.dot(A,C)"
   ]
  },
  {
   "cell_type": "markdown",
   "metadata": {},
   "source": [
    "## Orthonormal matrices and change of Basis\n",
    "**As was explained in the notebook: \"Linear Algebra Review\"**\n",
    "\n",
    "We say that the vectors $\\vec{u}_1,\\vec{u}_2,\\ldots,\\vec{u}_d \\in R^d$ form an **orthonormal basis** of $R^d$. If:\n",
    "* **Normality:** $\\vec{u}_1,\\vec{u}_2,\\ldots,\\vec{u}_d$ are unit vectors: $\\forall 1 \\leq i \\leq d: \\vec{u}_i \\cdot \\vec{u}_i =1 $\n",
    "* **Orthogonality:** Every pair of vectors are orthogonal: \n",
    "$\\forall 1 \\leq i\\neq j \\leq d: \\vec{u}_i \\cdot \\vec{u}_j =0 $\n",
    "\n",
    "** Orthonormal basis can be used to rotate the vector space:**\n",
    "* $\\vec{v}$ is **represented** as a list of $d$ dot products: $$[\\vec{v}\\cdot\\vec{u_1},\\vec{v}\\cdot\\vec{u_2},\\ldots,\\vec{v}\\cdot\\vec{u_d}]$$\n",
    "* $\\vec{v}$ is **reconstructed** by summing its projections on the basis vectors:\n",
    "$$\\vec{v} = (\\vec{v}\\cdot\\vec{u_1})\\vec{u_1} + (\\vec{v}\\cdot\\vec{u_2})\\vec{u_2} + \\cdots + (\\vec{v}\\cdot\\vec{u_d})\\vec{u_d}$$"
   ]
  },
  {
   "cell_type": "markdown",
   "metadata": {},
   "source": [
    "### Change of Basis using matrix notation\n",
    "To use matrix notation, we think of $\\vec{u}_i$ as a row vector:\n",
    "$$\n",
    "   {\\bf u}_i=\\begin{bmatrix} u_{i1}, u_{i2},\\ldots, u_{id} \\end{bmatrix},\n",
    "$$\n",
    "\n",
    "We can combine the orthonormal vectors to create an *orthonormal matrix*\n",
    "\n",
    "$$ {\\bf U} = \\begin{bmatrix} {\\bf u}_1 \\\\ {\\bf u}_2 \\\\ \\vdots \\\\ {\\bf u}_d \\end{bmatrix}\n",
    "= \\begin{bmatrix} \n",
    "u_{11}, u_{12},\\ldots, u_{1d} \\\\ \n",
    "u_{21}, u_{22},\\ldots, u_{2d} \\\\ \n",
    "\\vdots\\\\\n",
    "u_{d1}, u_{d2},\\ldots, u_{dd} \n",
    "\\end{bmatrix}\n",
    "$$\n",
    "\n",
    "Using this notation, the representation of a column vector $\\bf v$ in the orthonormal basis corresponsing to the rows of ${\\bf U}$ is equal to ${\\bf Uv}$  \n",
    "\n",
    "And the reconstruction of $\\bf v$ is equal to ${\\bf U U^{\\mathsf{T}} v}$\n"
   ]
  },
  {
   "cell_type": "markdown",
   "metadata": {},
   "source": [
    "## Inverting a Matrix\n",
    "\n",
    "An $n\\times n$ matrix $\\bf A$ represents a linear transformation from $R^n$ to $R^n$. If the matrix is [**invertible**](https://en.wikipedia.org/wiki/Invertible_matrix) then there is another transformation ${\\bf A}^{-1}$ that represents the inverse transformation, such that for any column vctor ${\\bf v} \\in R^n$:\n",
    "$${\\bf A}^{-1}{\\bf A}{\\bf v} = {\\bf A}{\\bf A}^{-1}{\\bf v} = {\\bf v} $$\n",
    "\n",
    "### The Unit Matrix\n",
    "The transformation ${\\bf A}^{-1}{\\bf A}$ does not change any vector. It is the **identity operator**.\n",
    "The matrix corresponding to the identity operator is called the **Unit matrix** and is equal to:\n",
    "$$\n",
    "{\\bf I} = \\begin{bmatrix} \n",
    "1, 0,\\ldots, 0 \\\\ \n",
    "0, 1,\\ldots, 0 \\\\ \n",
    "\\ddots \\\\\n",
    "0,0,\\ldots, 1 \n",
    "\\end{bmatrix}\n",
    "$$\n",
    "\n",
    "**Excercise:** Check that ${\\bf A I = I A = A}$.\n",
    "\n",
    "### Inverting a 2X2 matrix\n",
    "Consider the square $2 \\times 2$ matrix ${\\bf A} = \\bigl( \\begin{smallmatrix} a_{11} & a_{12} \\\\ a_{21} & a_{22}\\end{smallmatrix} \\bigr)$.  The inverse of matrix ${\\bf A}$ is\n",
    "\n",
    "$$\n",
    "\\begin{equation}\n",
    "\t{\\bf A}^{-1}=\\begin{bmatrix}\n",
    "             a_{11} & a_{12} \\\\\n",
    "\t\t     a_{21} & a_{22} \n",
    "           \\end{bmatrix}^{-1}=\\frac{1}{a_{11}a_{22}-a_{12}a_{21}}\t\\begin{bmatrix}\n",
    "\t\t             a_{22} & -a_{12} \\\\\n",
    "\t\t\t\t     -a_{21} & a_{11} \n",
    "\t\t           \\end{bmatrix}\n",
    "\\end{equation}\n",
    "$$\n",
    "\n",
    "**Excercise:** Check that $ {\\bf A A^{-1}=A^{-1} A=I }$\n",
    "\n",
    "For more information on this topic, see this\n",
    "http://en.wikipedia.org/wiki/Matrix_inversion, for example, on inverting matrices."
   ]
  },
  {
   "cell_type": "code",
   "execution_count": 15,
   "metadata": {},
   "outputs": [
    {
     "name": "stdout",
     "output_type": "stream",
     "text": [
      "C=\n",
      "[[ 0.41402674  2.40163911]\n",
      " [-0.03695345 -0.2265092 ]]\n",
      "C_inverse=\n",
      "[[  45.01364475  477.27213257]\n",
      " [  -7.34367309  -82.27856691]]\n"
     ]
    }
   ],
   "source": [
    "# note, we need a square matrix (# rows = # cols), use C:\n",
    "print \"C=\\n\",C\n",
    "C_inverse = np.linalg.inv(C)\n",
    "print \"C_inverse=\\n\",C_inverse"
   ]
  },
  {
   "cell_type": "markdown",
   "metadata": {},
   "source": [
    "Check that $C\\times C^{-1} = I$:"
   ]
  },
  {
   "cell_type": "code",
   "execution_count": 21,
   "metadata": {},
   "outputs": [
    {
     "name": "stdout",
     "output_type": "stream",
     "text": [
      "identity matrix=\n",
      "[[ 1.  0.]\n",
      " [ 0.  1.]]\n",
      "C.dot(C_inverse)-I=\n",
      "[[  0.00000000e+00   0.00000000e+00]\n",
      " [  2.22044605e-16   0.00000000e+00]]\n",
      "C_inverse.dot(C)-I=\n",
      "[[  0.00000000e+00  -1.42108547e-14]\n",
      " [  0.00000000e+00   0.00000000e+00]]\n"
     ]
    }
   ],
   "source": [
    "I = np.eye(2)\n",
    "print \"identity matrix=\\n\",I\n",
    "print \"C.dot(C_inverse)-I=\\n\",C.dot(C_inverse)-I\n",
    "print \"C_inverse.dot(C)-I=\\n\",C_inverse.dot(C)-I"
   ]
  },
  {
   "cell_type": "markdown",
   "metadata": {},
   "source": [
    "## Excercises\n",
    "\n",
    "1. Write a function that takes as input an array of real numbers $a_1,a_2,\\ldots,a_d$ and outputs a $d \\times d$ \"scaling\" matrix ${\\bf S}$ such that for any row vector ${\\bf v} = [v_1,v_2,\\ldots,v_d]$:\n",
    "$$\n",
    "{\\bf v S} = [a_1 \\times v_1,a_2 \\times v_2,\\ldots,a_d \\times v_d]\n",
    "$$\n",
    "2. Write a function that takes as input an array of real numbers $a_1,a_2,\\ldots,a_d$ and output the\n",
    "**inverse** of ${\\bf S}$, denoted ${\\bf S}^{-1}$\n",
    "3. Orthonormal transformation are also called **rotations**. In [2D](https://en.wikipedia.org/wiki/Rotation_matrix#In_two_dimensions), the rotation has a single rotation angle $\\theta$:\n",
    "$$\n",
    "R(\\theta) = \\begin{bmatrix}\n",
    "\\cos \\theta & -\\sin \\theta \\\\\n",
    "\\sin \\theta & \\cos \\theta \\\\\n",
    "\\end{bmatrix}\n",
    "$$\n",
    "   * Write a function that takes $\\theta$ as it's input and returns the rotation matrix $R(\\theta)$\n",
    "   * Write a function that takes $\\theta$ as it's input and returns the rotation matrix $R^{-1}(\\theta)$. (hint: all you need to do is call the previous function with a different parameter).\n",
    "   * Write a function that takes as input an angle $\\theta$ and a list of points $(x_1,y_1),(x_2,y_2),\\ldots,(x_n,y_n)$, rotates the points using the matrix $R(\\theta)$, plots the line connecting the rotated points, and returns the rotated points themselves."
   ]
  },
  {
   "cell_type": "code",
   "execution_count": null,
   "metadata": {
    "collapsed": true
   },
   "outputs": [],
   "source": []
  }
 ],
 "metadata": {
  "celltoolbar": "Slideshow",
  "kernelspec": {
   "display_name": "Python 2",
   "language": "python",
   "name": "python2"
  },
  "language_info": {
   "codemirror_mode": {
    "name": "ipython",
    "version": 2
   },
   "file_extension": ".py",
   "mimetype": "text/x-python",
   "name": "python",
   "nbconvert_exporter": "python",
   "pygments_lexer": "ipython2",
   "version": "2.7.13"
  },
  "toc": {
   "colors": {
    "hover_highlight": "#DAA520",
    "navigate_num": "#000000",
    "navigate_text": "#333333",
    "running_highlight": "#FF0000",
    "selected_highlight": "#FFD700",
    "sidebar_border": "#EEEEEE",
    "wrapper_background": "#FFFFFF"
   },
   "moveMenuLeft": true,
   "nav_menu": {
    "height": "306px",
    "width": "252px"
   },
   "navigate_menu": true,
   "number_sections": true,
   "sideBar": true,
   "threshold": 4,
   "toc_cell": false,
   "toc_position": {
    "height": "486px",
    "left": "0px",
    "right": "893px",
    "top": "134px",
    "width": "183px"
   },
   "toc_section_display": "block",
   "toc_window_display": true,
   "widenNotebook": false
  }
 },
 "nbformat": 4,
 "nbformat_minor": 1
}
