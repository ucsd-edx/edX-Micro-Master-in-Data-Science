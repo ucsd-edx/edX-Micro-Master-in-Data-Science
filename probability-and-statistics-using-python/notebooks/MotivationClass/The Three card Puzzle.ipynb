{
 "cells": [
  {
   "cell_type": "code",
   "execution_count": 2,
   "metadata": {
    "run_control": {
     "frozen": false,
     "read_only": false
    },
    "slideshow": {
     "slide_type": "skip"
    }
   },
   "outputs": [
    {
     "name": "stdout",
     "output_type": "stream",
     "text": [
      "\u001b[41myoav\u001b[0m \u001b[44mtalia\u001b[0m\n"
     ]
    }
   ],
   "source": [
    "red_bck=\"\\x1b[41m%s\\x1b[0m\"\n",
    "blue_bck=\"\\x1b[44m%s\\x1b[0m\"\n",
    "print red_bck%\"yoav\",blue_bck%\"talia\""
   ]
  },
  {
   "cell_type": "markdown",
   "metadata": {
    "slideshow": {
     "slide_type": "slide"
    }
   },
   "source": [
    "## The three card puzzle\n",
    "\n",
    "Suppose we have three cards in a hat:\n",
    "* One card is painted <span style=\"color:blue\">blue</span> on both sides. We denote that card <span style=\"color:blue\">**BB**</span>\n",
    "* One card is painted <span style=\"color:red\">red</span> on both sides. We denote that card <span style=\"color:red\">**RR**</span>\n",
    "* One card is painted <span style=\"color:blue\">blue</span> on one side and <span style=\"color:red\">red</span> on the other. We denote that card by\n",
    "<span style=\"color:red\">**R**</span><span style=\"color:blue\">**B**</span>\n",
    "or\n",
    "<span style=\"color:blue\">**B**</span><span style=\"color:red\">**R**</span>\n"
   ]
  },
  {
   "cell_type": "markdown",
   "metadata": {
    "slideshow": {
     "slide_type": "subslide"
    }
   },
   "source": [
    "## The trick\n",
    "* I pick one of the three cards at random, flip it to a random side, and place it on the table.\n",
    "* $U$ be the color of the side of the card facing up. (<span style=\"color:blue\">**B**</span> or <span style=\"color:red\">**R**</span>)\n",
    "* I offer to make the following bet with:\n",
    "  * If the color on the other side of the card is different from $U$ I pay you \\$1, \n",
    "  * If the other side has the same color you pay me \\$1."
   ]
  },
  {
   "cell_type": "markdown",
   "metadata": {
    "slideshow": {
     "slide_type": "subslide"
    }
   },
   "source": [
    "## Why is this a fair bet ?\n",
    "* Suppose $U$ is <span style=\"color:red\">**R**</span>. \n",
    "* Then the card is either <span style=\"color:red\">**RR**</span> or <span style=\"color:red\">**R**</span><span style=\"color:blue\">**B**</span>.\n",
    "* Therefor the other side can be either  \"color:red\">**R**</span> or <span style=\"color:blue\">**B**</span>\n",
    "* Therefor in this case the odds are equal.\n",
    "* A similar argument holds for the case where $U$ is <span style=\"color:blue\">**B**</span>"
   ]
  },
  {
   "cell_type": "markdown",
   "metadata": {
    "slideshow": {
     "slide_type": "slide"
    }
   },
   "source": [
    "## Lets use a monte-carlo simulation\n",
    "The code below selects one of the three cards at random and selects a random side to be \"up\".\n",
    "\n",
    "It then prints the card and indicates if the two sides have the same or different colors."
   ]
  },
  {
   "cell_type": "code",
   "execution_count": 22,
   "metadata": {
    "code_folding": [],
    "run_control": {
     "frozen": false,
     "read_only": false
    },
    "slideshow": {
     "slide_type": "subslide"
    }
   },
   "outputs": [
    {
     "name": "stdout",
     "output_type": "stream",
     "text": [
      "\u001b[41mR\u001b[0m\u001b[41mR\u001b[0m same      \u001b[41mR\u001b[0m\u001b[41mR\u001b[0m same      \u001b[44mB\u001b[0m\u001b[44mB\u001b[0m same      \u001b[44mB\u001b[0m\u001b[44mB\u001b[0m same      \u001b[41mR\u001b[0m\u001b[41mR\u001b[0m same      \u001b[44mB\u001b[0m\u001b[44mB\u001b[0m same      \u001b[41mR\u001b[0m\u001b[41mR\u001b[0m same     \n",
      "\u001b[41mR\u001b[0m\u001b[44mB\u001b[0m different \u001b[44mB\u001b[0m\u001b[41mR\u001b[0m different \u001b[41mR\u001b[0m\u001b[41mR\u001b[0m same      \u001b[41mR\u001b[0m\u001b[44mB\u001b[0m different \u001b[41mR\u001b[0m\u001b[41mR\u001b[0m same      \u001b[41mR\u001b[0m\u001b[41mR\u001b[0m same      \u001b[44mB\u001b[0m\u001b[41mR\u001b[0m different\n",
      "\u001b[41mR\u001b[0m\u001b[44mB\u001b[0m different \u001b[41mR\u001b[0m\u001b[44mB\u001b[0m different \u001b[44mB\u001b[0m\u001b[41mR\u001b[0m different \u001b[41mR\u001b[0m\u001b[41mR\u001b[0m same      \u001b[41mR\u001b[0m\u001b[41mR\u001b[0m same      \u001b[44mB\u001b[0m\u001b[44mB\u001b[0m same      \u001b[44mB\u001b[0m\u001b[41mR\u001b[0m different\n",
      "\u001b[44mB\u001b[0m\u001b[41mR\u001b[0m different \u001b[41mR\u001b[0m\u001b[44mB\u001b[0m different \u001b[41mR\u001b[0m\u001b[44mB\u001b[0m different \u001b[44mB\u001b[0m\u001b[44mB\u001b[0m same      \u001b[41mR\u001b[0m\u001b[41mR\u001b[0m same      \u001b[44mB\u001b[0m\u001b[44mB\u001b[0m same      \u001b[44mB\u001b[0m\u001b[44mB\u001b[0m same     \n",
      "\u001b[44mB\u001b[0m\u001b[44mB\u001b[0m same      \u001b[44mB\u001b[0m\u001b[44mB\u001b[0m same      \u001b[41mR\u001b[0m\u001b[44mB\u001b[0m different \u001b[41mR\u001b[0m\u001b[41mR\u001b[0m same      \u001b[41mR\u001b[0m\u001b[41mR\u001b[0m same      \u001b[41mR\u001b[0m\u001b[41mR\u001b[0m same      \u001b[41mR\u001b[0m\u001b[41mR\u001b[0m same     \n",
      "\u001b[41mR\u001b[0m\u001b[41mR\u001b[0m same      \u001b[44mB\u001b[0m\u001b[44mB\u001b[0m same      \u001b[41mR\u001b[0m\u001b[41mR\u001b[0m same      \u001b[41mR\u001b[0m\u001b[41mR\u001b[0m same      \u001b[41mR\u001b[0m\u001b[44mB\u001b[0m different \u001b[41mR\u001b[0m\u001b[41mR\u001b[0m same      \u001b[44mB\u001b[0m\u001b[44mB\u001b[0m same     \n",
      "\u001b[41mR\u001b[0m\u001b[41mR\u001b[0m same      \u001b[44mB\u001b[0m\u001b[44mB\u001b[0m same      \u001b[44mB\u001b[0m\u001b[44mB\u001b[0m same      \u001b[41mR\u001b[0m\u001b[44mB\u001b[0m different \u001b[44mB\u001b[0m\u001b[41mR\u001b[0m different \u001b[41mR\u001b[0m\u001b[44mB\u001b[0m different \u001b[41mR\u001b[0m\u001b[41mR\u001b[0m same     \n",
      "\u001b[41mR\u001b[0m\u001b[41mR\u001b[0m same      \u001b[44mB\u001b[0m\u001b[41mR\u001b[0m different \u001b[41mR\u001b[0m\u001b[44mB\u001b[0m different \u001b[44mB\u001b[0m\u001b[44mB\u001b[0m same      \u001b[41mR\u001b[0m\u001b[44mB\u001b[0m different \u001b[44mB\u001b[0m\u001b[44mB\u001b[0m same      \u001b[41mR\u001b[0m\u001b[44mB\u001b[0m different\n",
      "\u001b[44mB\u001b[0m\u001b[44mB\u001b[0m same      \u001b[41mR\u001b[0m\u001b[41mR\u001b[0m same      \u001b[41mR\u001b[0m\u001b[44mB\u001b[0m different \u001b[44mB\u001b[0m\u001b[44mB\u001b[0m same      \u001b[44mB\u001b[0m\u001b[44mB\u001b[0m same      \u001b[44mB\u001b[0m\u001b[44mB\u001b[0m same      \u001b[44mB\u001b[0m\u001b[44mB\u001b[0m same     \n",
      "\u001b[44mB\u001b[0m\u001b[44mB\u001b[0m same      \u001b[41mR\u001b[0m\u001b[41mR\u001b[0m same      \u001b[41mR\u001b[0m\u001b[41mR\u001b[0m same      \u001b[44mB\u001b[0m\u001b[44mB\u001b[0m same      \u001b[44mB\u001b[0m\u001b[41mR\u001b[0m different \u001b[44mB\u001b[0m\u001b[41mR\u001b[0m different \u001b[41mR\u001b[0m\u001b[41mR\u001b[0m same     \n",
      "\n",
      "{'different': 23, 'same': 47}\n"
     ]
    }
   ],
   "source": [
    "red=red_bck%'R'\n",
    "black=blue_bck%'B'\n",
    "Cards=[(red,black),(red,red),(black,black)]\n",
    "counts={'same':0,'different':0}\n",
    "from random import random\n",
    "for j in range(70):\n",
    "    i=int(random()*3.)  # Select a random card\n",
    "    side=int(random()*2.)\n",
    "    C=Cards[i]\n",
    "    if(side==1):        # select which side to be \"up\"\n",
    "        C=(C[1],C[0])\n",
    "    same= 'same' if C[0]==C[1] else 'different'  # count the number of times the two sides are the same or different.\n",
    "    counts[same]+=1\n",
    "    print ''.join(C)+' %-9s'%same,\n",
    "    if (j+1)%7==0:\n",
    "        print\n",
    "print\n",
    "print counts"
   ]
  },
  {
   "cell_type": "markdown",
   "metadata": {
    "collapsed": true,
    "run_control": {
     "frozen": false,
     "read_only": false
    },
    "slideshow": {
     "slide_type": "slide"
    }
   },
   "source": [
    "## The simulation does not agree with the argument\n",
    "As you can see from the simulation, the two sides have the same color about twice the number of times that they have different color.\n",
    "\n",
    "It is also obvious why this is the case: if we pick a card at random 2/3 of the time we pick a card where the two sides have the same color, and only 1/3 where the color is different."
   ]
  },
  {
   "cell_type": "markdown",
   "metadata": {
    "collapsed": true,
    "run_control": {
     "frozen": false,
     "read_only": false
    },
    "slideshow": {
     "slide_type": "slide"
    }
   },
   "source": [
    "## How can we be sure?\n",
    "To be sure that our argument is correct, we need to define some concepts, including **outcome** and **event**. Which we will do next week."
   ]
  }
 ],
 "metadata": {
  "anaconda-cloud": {},
  "celltoolbar": "Slideshow",
  "kernelspec": {
   "display_name": "Python 2",
   "language": "python",
   "name": "python2"
  },
  "language_info": {
   "codemirror_mode": {
    "name": "ipython",
    "version": 2
   },
   "file_extension": ".py",
   "mimetype": "text/x-python",
   "name": "python",
   "nbconvert_exporter": "python",
   "pygments_lexer": "ipython2",
   "version": "2.7.13"
  },
  "toc": {
   "colors": {
    "hover_highlight": "#DAA520",
    "running_highlight": "#FF0000",
    "selected_highlight": "#FFD700"
   },
   "moveMenuLeft": true,
   "nav_menu": {
    "height": "12px",
    "width": "252px"
   },
   "navigate_menu": true,
   "number_sections": true,
   "sideBar": true,
   "threshold": 4,
   "toc_cell": false,
   "toc_section_display": "block",
   "toc_window_display": false
  }
 },
 "nbformat": 4,
 "nbformat_minor": 2
}
