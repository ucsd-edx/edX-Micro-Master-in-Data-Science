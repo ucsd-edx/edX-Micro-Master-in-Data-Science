{
 "cells": [
  {
   "cell_type": "code",
   "execution_count": 7,
   "metadata": {},
   "outputs": [
    {
     "name": "stdout",
     "output_type": "stream",
     "text": [
      "Populating the interactive namespace from numpy and matplotlib\n"
     ]
    }
   ],
   "source": [
    "%pylab inline"
   ]
  },
  {
   "cell_type": "code",
   "execution_count": 54,
   "metadata": {},
   "outputs": [
    {
     "name": "stdout",
     "output_type": "stream",
     "text": [
      "\u001b[41m6\u001b[0m\n"
     ]
    },
    {
     "data": {
      "text/plain": [
       "array([ 0. ,  0.1,  0.3,  0.6,  1. ])"
      ]
     },
     "execution_count": 54,
     "metadata": {},
     "output_type": "execute_result"
    }
   ],
   "source": [
    "red_bck=\"\\x1b[41m%s\\x1b[0m\"\n",
    "green_bck=\"\\x1b[42m%s\\x1b[0m\"\n",
    "tan_bck=\"\\x1b[43m%s\\x1b[0m\"\n",
    "blue_bck=\"\\x1b[44m%s\\x1b[0m\"\n",
    "\n",
    "sym=[red_bck%'6',green_bck%'1',tan_bck%'3',blue_bck%'4']\n",
    "print sym[0]\n",
    "\n",
    "p=[0.0,0.1,0.2,0.3,0.4]\n",
    "c=cumsum(p)\n",
    "c[:]"
   ]
  },
  {
   "cell_type": "code",
   "execution_count": 55,
   "metadata": {
    "collapsed": true
   },
   "outputs": [],
   "source": [
    "from collections import Counter\n",
    "def rand2sym(vec):\n",
    "    ans=[]\n",
    "    counts=Counter()\n",
    "    for x in vec:\n",
    "        for i in range(len(c)-1):\n",
    "            if x>=c[i] and x<c[i+1]:\n",
    "                ans.append(sym[i])\n",
    "                counts[i]+=1\n",
    "                break\n",
    "    return ans,counts"
   ]
  },
  {
   "cell_type": "code",
   "execution_count": 80,
   "metadata": {},
   "outputs": [
    {
     "name": "stdout",
     "output_type": "stream",
     "text": [
      "Counter({3: 401, 2: 303, 1: 195, 0: 101})\n",
      "[0.101, 0.195, 0.303, 0.401]\n",
      "\u001b[41m6\u001b[0m 0.10  \u001b[42m1\u001b[0m 0.20  \u001b[43m3\u001b[0m 0.30  \u001b[44m4\u001b[0m 0.40 \n"
     ]
    }
   ],
   "source": [
    "n=1000\n",
    "R=np.random.rand(n)\n",
    "_syms,counts=rand2sym(R)\n",
    "#print ''.join(_syms)\n",
    "print counts\n",
    "f=[float(y)/n for x,y in counts.items()]\n",
    "print f\n",
    "for i in range(4):\n",
    "    print '%s %3.2f '%(sym[i],f[i]),"
   ]
  },
  {
   "cell_type": "code",
   "execution_count": 50,
   "metadata": {},
   "outputs": [
    {
     "name": "stdout",
     "output_type": "stream",
     "text": [
      "\u001b[H\u001b[2J"
     ]
    }
   ],
   "source": [
    "clear c"
   ]
  },
  {
   "cell_type": "code",
   "execution_count": 53,
   "metadata": {},
   "outputs": [
    {
     "data": {
      "text/plain": [
       "array([ 0. ,  0.1,  0.3,  0.6,  1. ])"
      ]
     },
     "execution_count": 53,
     "metadata": {},
     "output_type": "execute_result"
    }
   ],
   "source": [
    "c"
   ]
  },
  {
   "cell_type": "code",
   "execution_count": null,
   "metadata": {
    "collapsed": true
   },
   "outputs": [],
   "source": []
  }
 ],
 "metadata": {
  "kernelspec": {
   "display_name": "Python 2",
   "language": "python",
   "name": "python2"
  },
  "language_info": {
   "codemirror_mode": {
    "name": "ipython",
    "version": 2
   },
   "file_extension": ".py",
   "mimetype": "text/x-python",
   "name": "python",
   "nbconvert_exporter": "python",
   "pygments_lexer": "ipython2",
   "version": "2.7.13"
  },
  "toc": {
   "colors": {
    "hover_highlight": "#DAA520",
    "navigate_num": "#000000",
    "navigate_text": "#333333",
    "running_highlight": "#FF0000",
    "selected_highlight": "#FFD700",
    "sidebar_border": "#EEEEEE",
    "wrapper_background": "#FFFFFF"
   },
   "moveMenuLeft": true,
   "nav_menu": {
    "height": "12px",
    "width": "252px"
   },
   "navigate_menu": true,
   "number_sections": true,
   "sideBar": true,
   "threshold": 4,
   "toc_cell": false,
   "toc_section_display": "block",
   "toc_window_display": false,
   "widenNotebook": false
  }
 },
 "nbformat": 4,
 "nbformat_minor": 2
}
