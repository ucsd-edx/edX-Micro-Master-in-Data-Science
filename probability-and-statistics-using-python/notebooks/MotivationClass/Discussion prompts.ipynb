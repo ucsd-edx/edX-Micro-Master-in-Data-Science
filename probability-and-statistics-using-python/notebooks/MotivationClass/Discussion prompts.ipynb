{
 "cells": [
  {
   "cell_type": "markdown",
   "metadata": {},
   "source": [
    "### Diverging binary sequences\n",
    "\n",
    "In the notebook \"What is probability\" we showed, using a monte carlo simulation of a fair coin, that the number of heads is very similar to the number of tails  as the number of coin flips increases.\n",
    "\n",
    "More precisely, if we use $x_i$ to denote the outcome of the $i$th coin flip, where $x_i=+1$ if the outcome is \"heads\" and $x_i=-1$ if the outcome is \"tails\", then $\\frac{\\sum_{i=1}^n X_i}{n}$ converges to zero as $n \\to \\infty$.\n",
    "\n",
    "If the probability of \"heads\" is $p \\neq 1/2$ then $\\frac{\\sum_{i=1}^n X_i}{n}$ converges to $2p-1$ as $n \\to \\infty$. (we will show that later in the class).\n",
    "\n",
    "One might ask: doesn't $\\frac{\\sum_{i=1}^n X_i}{n}$ converge to something for **every sequence**?  The answer is **no**, there exist sequences for which $\\frac{\\sum_{i=1}^n X_i}{n}$ does not converge. Find such a sequence."
   ]
  },
  {
   "cell_type": "markdown",
   "metadata": {},
   "source": [
    "### The importance of accurate estimates\n",
    "\n",
    "Suppose you own a cr insurance company and that your statistician estimates the probability that one of the cars that you insure will have an accidents that \"totals\" the car on a particular day (making it neccessary to replace the car with a new car, rather than fix it) is 0.001%. Suppose that this estimate is incorrect. What danger does this mistake pose to your company?\n",
    "\n",
    "* What is the danger to the company if the true probability is significantly lower?\n",
    "* What is the danger to the company if the true probability is significantly higher?"
   ]
  },
  {
   "cell_type": "markdown",
   "metadata": {},
   "source": [
    "### The probability of a long chain of daughters\n",
    "\n",
    "Consider all women that ever existed. Some of these women had at least one daughter. Some had none.\n",
    "\n",
    "Estimate the probability that there existed a woman, who had a daughter, and her daughter had a daughter, and her daugter's daughter had a daughter and so on for 10,000 generations. "
   ]
  },
  {
   "cell_type": "markdown",
   "metadata": {},
   "source": [
    "###  Variations on the 3 cards game\n",
    "Compute the probability that \"the other side as the same color\" for \n",
    "the following variations on the 3 card puzzle:\n",
    "1. Instead of 3 cards, you have 4 cards: RR, BR, BR, BB\n",
    "2. Instead of 3 cards you have $k+2$ cards: one RR, one BB and $k$ BR."
   ]
  },
  {
   "cell_type": "code",
   "execution_count": null,
   "metadata": {
    "collapsed": true
   },
   "outputs": [],
   "source": []
  }
 ],
 "metadata": {
  "kernelspec": {
   "display_name": "Python 2",
   "language": "python",
   "name": "python2"
  },
  "language_info": {
   "codemirror_mode": {
    "name": "ipython",
    "version": 2
   },
   "file_extension": ".py",
   "mimetype": "text/x-python",
   "name": "python",
   "nbconvert_exporter": "python",
   "pygments_lexer": "ipython2",
   "version": "2.7.13"
  },
  "toc": {
   "colors": {
    "hover_highlight": "#DAA520",
    "navigate_num": "#000000",
    "navigate_text": "#333333",
    "running_highlight": "#FF0000",
    "selected_highlight": "#FFD700",
    "sidebar_border": "#EEEEEE",
    "wrapper_background": "#FFFFFF"
   },
   "moveMenuLeft": true,
   "nav_menu": {
    "height": "86px",
    "width": "252px"
   },
   "navigate_menu": true,
   "number_sections": true,
   "sideBar": true,
   "threshold": 4,
   "toc_cell": false,
   "toc_section_display": "block",
   "toc_window_display": false,
   "widenNotebook": false
  }
 },
 "nbformat": 4,
 "nbformat_minor": 2
}
