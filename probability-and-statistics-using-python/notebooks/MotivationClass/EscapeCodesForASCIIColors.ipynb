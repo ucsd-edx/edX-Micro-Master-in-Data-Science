{
 "cells": [
  {
   "cell_type": "code",
   "execution_count": 136,
   "metadata": {
    "slideshow": {
     "slide_type": "skip"
    }
   },
   "outputs": [
    {
     "name": "stdout",
     "output_type": "stream",
     "text": [
      "\u001b[41mred\u001b[0m black\n"
     ]
    }
   ],
   "source": [
    "print(\"\\x1b[41mred\\x1b[0m black\")"
   ]
  },
  {
   "cell_type": "code",
   "execution_count": 2,
   "metadata": {
    "slideshow": {
     "slide_type": "skip"
    }
   },
   "outputs": [
    {
     "name": "stdout",
     "output_type": "stream",
     "text": [
      "\u001b[41myoav\u001b[0m \u001b[44mtalia\u001b[0m\n"
     ]
    }
   ],
   "source": [
    "red_bck=\"\\x1b[41m%s\\x1b[0m\"\n",
    "blue_bck=\"\\x1b[44m%s\\x1b[0m\"\n",
    "print red_bck%\"yoav\",blue_bck%\"talia\""
   ]
  },
  {
   "cell_type": "markdown",
   "metadata": {
    "slideshow": {
     "slide_type": "skip"
    }
   },
   "source": [
    "For more on SO colors see https://en.wikipedia.org/wiki/ANSI_escape_code#Colors"
   ]
  },
  {
   "cell_type": "code",
   "execution_count": 8,
   "metadata": {},
   "outputs": [
    {
     "name": "stdout",
     "output_type": "stream",
     "text": [
      "\u001b[30m30 \u001b[0m \u001b[31m31 \u001b[0m \u001b[32m32 \u001b[0m \u001b[33m33 \u001b[0m \u001b[34m34 \u001b[0m \u001b[35m35 \u001b[0m \u001b[36m36 \u001b[0m \u001b[37m37 \u001b[0m \u001b[38m38 \u001b[0m \u001b[39m39 \u001b[0m \u001b[40m40 \u001b[0m \u001b[41m41 \u001b[0m \u001b[42m42 \u001b[0m \u001b[43m43 \u001b[0m \u001b[44m44 \u001b[0m \u001b[45m45 \u001b[0m \u001b[46m46 \u001b[0m\n"
     ]
    }
   ],
   "source": [
    "for i in range(30,47):\n",
    "    print \"\\x1b[%dm%d \\x1b[0m\"%(i,i),"
   ]
  },
  {
   "cell_type": "code",
   "execution_count": null,
   "metadata": {
    "collapsed": true
   },
   "outputs": [],
   "source": []
  },
  {
   "cell_type": "code",
   "execution_count": null,
   "metadata": {
    "collapsed": true
   },
   "outputs": [],
   "source": []
  }
 ],
 "metadata": {
  "anaconda-cloud": {},
  "celltoolbar": "Slideshow",
  "kernelspec": {
   "display_name": "Python 2",
   "language": "python",
   "name": "python2"
  },
  "language_info": {
   "codemirror_mode": {
    "name": "ipython",
    "version": 2
   },
   "file_extension": ".py",
   "mimetype": "text/x-python",
   "name": "python",
   "nbconvert_exporter": "python",
   "pygments_lexer": "ipython2",
   "version": "2.7.13"
  },
  "toc": {
   "colors": {
    "hover_highlight": "#DAA520",
    "navigate_num": "#000000",
    "navigate_text": "#333333",
    "running_highlight": "#FF0000",
    "selected_highlight": "#FFD700",
    "sidebar_border": "#EEEEEE",
    "wrapper_background": "#FFFFFF"
   },
   "moveMenuLeft": true,
   "nav_menu": {
    "height": "12px",
    "width": "252px"
   },
   "navigate_menu": true,
   "number_sections": true,
   "sideBar": true,
   "threshold": 4,
   "toc_cell": false,
   "toc_section_display": "block",
   "toc_window_display": false,
   "widenNotebook": false
  }
 },
 "nbformat": 4,
 "nbformat_minor": 2
}
