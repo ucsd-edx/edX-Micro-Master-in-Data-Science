{
 "cells": [
  {
   "cell_type": "code",
   "execution_count": 1,
   "metadata": {
    "collapsed": false,
    "run_control": {
     "frozen": false,
     "read_only": false
    },
    "scrolled": true
   },
   "outputs": [
    {
     "name": "stdout",
     "output_type": "stream",
     "text": [
      "Populating the interactive namespace from numpy and matplotlib\n"
     ]
    }
   ],
   "source": [
    "%pylab inline"
   ]
  },
  {
   "cell_type": "markdown",
   "metadata": {},
   "source": [
    "## Poker cards\n",
    "Poker uses a standard deck consisting of 52 cards. Each card has a rank and a suite.\n",
    "There are 13 ranks and 4 suites"
   ]
  },
  {
   "cell_type": "code",
   "execution_count": 91,
   "metadata": {
    "collapsed": false
   },
   "outputs": [
    {
     "name": "stdout",
     "output_type": "stream",
     "text": [
      "Number of cards= 52 \n",
      "The first three cards are [('A', 'H'), ('2', 'H'), ('3', 'H')]\n"
     ]
    }
   ],
   "source": [
    "ranks=['A','2','3','4','5','6','7','8','9','10','J','Q','K']\n",
    "suits='HSCD' # Hearts, Spades, Clubs Diamonds\n",
    "cards=[]\n",
    "for s in suits:\n",
    "    for r in ranks:\n",
    "        cards.append((r,s))\n",
    "print 'Number of cards=',len(cards),'\\nThe first three cards are',cards[:3]"
   ]
  },
  {
   "cell_type": "code",
   "execution_count": 93,
   "metadata": {
    "collapsed": false
   },
   "outputs": [
    {
     "name": "stdout",
     "output_type": "stream",
     "text": [
      "[['9' 'C']\n",
      " ['3' 'D']\n",
      " ['J' 'C']\n",
      " ['6' 'S']\n",
      " ['3' 'C']]\n"
     ]
    }
   ],
   "source": [
    "hand=random.permutation(cards)[:5]\n",
    "print hand"
   ]
  },
  {
   "cell_type": "code",
   "execution_count": 94,
   "metadata": {
    "collapsed": false
   },
   "outputs": [
    {
     "name": "stdout",
     "output_type": "stream",
     "text": [
      "[(6, 'H'), (6, 'S'), (6, 'C'), (6, 'D'), (7, 'H')]\n"
     ]
    },
    {
     "data": {
      "text/plain": [
       "{1: 1, 2: 0, 3: 0, 4: 1}"
      ]
     },
     "execution_count": 94,
     "metadata": {},
     "output_type": "execute_result"
    }
   ],
   "source": [
    "def count_by_rank(hand):\n",
    "    D={}\n",
    "    for rank,suit in hand:\n",
    "        if rank not in D:\n",
    "            D[rank]=0\n",
    "        D[rank]+=1\n",
    "    C={i:0 for i in range(1,5)}\n",
    "    for rank,count in D.items():\n",
    "        C[count]+=1\n",
    "    return C\n",
    "hand=[(6,s) for s in suits]+[(7,'H')]\n",
    "print hand\n",
    "count_by_rank(hand)"
   ]
  },
  {
   "cell_type": "code",
   "execution_count": 72,
   "metadata": {
    "collapsed": true
   },
   "outputs": [],
   "source": [
    "def two_of_a_kind(hand):\n",
    "    counts=count_by_rank(hand)\n",
    "    return counts[2]==1 and counts[3]==0"
   ]
  },
  {
   "cell_type": "code",
   "execution_count": null,
   "metadata": {
    "collapsed": true
   },
   "outputs": [],
   "source": [
    "def four_of_a _kind(hand):\n",
    "    counts=count_by_rank(hand)\n",
    "    return counts[4]==1"
   ]
  },
  {
   "cell_type": "code",
   "execution_count": 97,
   "metadata": {
    "collapsed": false
   },
   "outputs": [],
   "source": [
    "def three_of_a_kind(hand):\n",
    "    counts=count_by_rank(hand)\n",
    "    return counts[3]==1 and counts[2]==0"
   ]
  },
  {
   "cell_type": "code",
   "execution_count": 95,
   "metadata": {
    "collapsed": true
   },
   "outputs": [],
   "source": [
    "def full_house(hand):  #a two and a three\n",
    "    counts=count_by_rank(hand)\n",
    "    return counts[2]==1 and counts[3]==1"
   ]
  },
  {
   "cell_type": "code",
   "execution_count": 104,
   "metadata": {
    "collapsed": false
   },
   "outputs": [
    {
     "data": {
      "text/plain": [
       "2063"
      ]
     },
     "execution_count": 104,
     "metadata": {},
     "output_type": "execute_result"
    }
   ],
   "source": [
    "hits=0\n",
    "for i in range(100000):\n",
    "    hand=random.permutation(cards)[:5]\n",
    "    hits+=three_of_a_kind(hand)\n",
    "hits"
   ]
  },
  {
   "cell_type": "code",
   "execution_count": null,
   "metadata": {
    "collapsed": true
   },
   "outputs": [],
   "source": []
  }
 ],
 "metadata": {
  "anaconda-cloud": {},
  "kernelspec": {
   "display_name": "Python [conda root]",
   "language": "python",
   "name": "conda-root-py"
  },
  "language_info": {
   "codemirror_mode": {
    "name": "ipython",
    "version": 2
   },
   "file_extension": ".py",
   "mimetype": "text/x-python",
   "name": "python",
   "nbconvert_exporter": "python",
   "pygments_lexer": "ipython2",
   "version": "2.7.13"
  },
  "toc": {
   "colors": {
    "hover_highlight": "#DAA520",
    "running_highlight": "#FF0000",
    "selected_highlight": "#FFD700"
   },
   "moveMenuLeft": true,
   "nav_menu": {
    "height": "30px",
    "width": "252px"
   },
   "navigate_menu": true,
   "number_sections": true,
   "sideBar": true,
   "threshold": 4,
   "toc_cell": false,
   "toc_section_display": "block",
   "toc_window_display": false
  }
 },
 "nbformat": 4,
 "nbformat_minor": 2
}
