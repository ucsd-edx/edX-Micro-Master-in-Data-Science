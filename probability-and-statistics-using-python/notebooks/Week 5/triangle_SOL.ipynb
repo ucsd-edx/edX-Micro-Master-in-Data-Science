{
 "cells": [
  {
   "cell_type": "code",
   "execution_count": 39,
   "metadata": {
    "collapsed": true
   },
   "outputs": [],
   "source": [
    "def P_range(a, b, alpha, beta):\n",
    "    c = 0\n",
    "    if alpha > beta:\n",
    "        print \"ERROR: alpha cannot be greater than beta.\"\n",
    "        return \n",
    "    if alpha > b or beta < a:\n",
    "            P = 0\n",
    "    else:\n",
    "        if alpha < a:\n",
    "            alpha = a\n",
    "        if beta > b:\n",
    "            beta = b\n",
    "        if alpha>=a and (alpha <=c and beta<=c):\n",
    "            P = (beta-a)**2 / ((b-a) * (c-a)) - (alpha-a)**2 / ((b-a) * (c-a))\n",
    "        if alpha>=a and (alpha<=c and beta>=c):\n",
    "            P = 1 - (b-beta)**2 / ((b-a) * (b-c)) - (alpha-a)**2 / ((b-a) * (c-a))\n",
    "        if alpha>=c:\n",
    "            P = (b-alpha)**2 / ((b-a) * (b-c)) - (b-beta)**2 / ((b-a) * (b-c))\n",
    "    return P"
   ]
  },
  {
   "cell_type": "code",
   "execution_count": 41,
   "metadata": {},
   "outputs": [
    {
     "data": {
      "text/plain": [
       "0.20833333333333334"
      ]
     },
     "execution_count": 41,
     "metadata": {},
     "output_type": "execute_result"
    }
   ],
   "source": [
    "P_range(-2., 4., 1., 2.)"
   ]
  },
  {
   "cell_type": "code",
   "execution_count": 29,
   "metadata": {},
   "outputs": [
    {
     "data": {
      "text/plain": [
       "0.33333333333333337"
      ]
     },
     "execution_count": 29,
     "metadata": {},
     "output_type": "execute_result"
    }
   ],
   "source": [
    "1 - (b-beta)**2 / ((b-a) * (b-c)) - (alpha-a)**2 / ((b-a) * (c-a))"
   ]
  },
  {
   "cell_type": "code",
   "execution_count": null,
   "metadata": {
    "collapsed": true
   },
   "outputs": [],
   "source": []
  }
 ],
 "metadata": {
  "kernelspec": {
   "display_name": "Python 2",
   "language": "python",
   "name": "python2"
  },
  "language_info": {
   "codemirror_mode": {
    "name": "ipython",
    "version": 2
   },
   "file_extension": ".py",
   "mimetype": "text/x-python",
   "name": "python",
   "nbconvert_exporter": "python",
   "pygments_lexer": "ipython2",
   "version": "2.7.13"
  },
  "toc": {
   "colors": {
    "hover_highlight": "#DAA520",
    "navigate_num": "#000000",
    "navigate_text": "#333333",
    "running_highlight": "#FF0000",
    "selected_highlight": "#FFD700",
    "sidebar_border": "#EEEEEE",
    "wrapper_background": "#FFFFFF"
   },
   "moveMenuLeft": true,
   "nav_menu": {
    "height": "12px",
    "width": "252px"
   },
   "navigate_menu": true,
   "number_sections": true,
   "sideBar": true,
   "threshold": 4,
   "toc_cell": false,
   "toc_section_display": "block",
   "toc_window_display": false,
   "widenNotebook": false
  }
 },
 "nbformat": 4,
 "nbformat_minor": 2
}
