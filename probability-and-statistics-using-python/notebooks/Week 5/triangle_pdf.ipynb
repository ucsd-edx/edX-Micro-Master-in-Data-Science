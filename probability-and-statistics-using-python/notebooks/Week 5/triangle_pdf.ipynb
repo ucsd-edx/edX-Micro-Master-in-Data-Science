{
 "cells": [
  {
   "cell_type": "markdown",
   "metadata": {},
   "source": [
    "## Triangular Distribution"
   ]
  },
  {
   "cell_type": "markdown",
   "metadata": {},
   "source": [
    "### Introduction"
   ]
  },
  {
   "cell_type": "markdown",
   "metadata": {
    "collapsed": true
   },
   "source": [
    "In this section, we plot the PDF of the triangular distribution, which is defined as follows:\n",
    "\n",
    "$$f_X(x) = \\begin{cases}\n",
    "      0 & \\text{for}\\ x\\leq a \\\\\n",
    "      \\frac{2(x-a)}{(b-a)(c-a)} & \\text{for}\\ a< x\\leq c \\\\\n",
    "      \\frac{2(b-x)}{(b-a)(b-c)} & \\text{for}\\ c< x\\leq b \\\\\n",
    "      0 & \\text{for}\\ x>b \n",
    "    \\end{cases}$$\n",
    "    \n",
    "We also compute $E(X)$ and $Var(X)$ and allow $a$ and $b$ to vary over $[-5,5]$ and $c$ over $[a,b]$ in steps of 0.1."
   ]
  },
  {
   "cell_type": "markdown",
   "metadata": {},
   "source": [
    "### Code"
   ]
  },
  {
   "cell_type": "markdown",
   "metadata": {},
   "source": [
    "As usual, we first import the required function libraries. We need <i>matplotlib.pyplot</i> to create plots and <i>ipywidgets</i> to create interactive sliders that can be used to vary the values of $a$, $b$ and $c$."
   ]
  },
  {
   "cell_type": "code",
   "execution_count": 1,
   "metadata": {
    "collapsed": true
   },
   "outputs": [],
   "source": [
    "import matplotlib.pyplot as plt\n",
    "import ipywidgets as widgets"
   ]
  },
  {
   "cell_type": "markdown",
   "metadata": {},
   "source": [
    "We now define a function **plot_pdf** that takes an interval $S=[a,b]$ and a variable $\\lambda\\in[0,1]$ as inputs, calculates $c=a+\\lambda(b-a)$ and plots the PDF of the triangular distribution with parameters $a$, $b$ and $c$. Note that $\\lambda$ is defined such that $c$ can vary only over $[a,b]$."
   ]
  },
  {
   "cell_type": "code",
   "execution_count": 2,
   "metadata": {
    "collapsed": true
   },
   "outputs": [],
   "source": [
    "def plot_pdf(S, lambd):                     # \"lambda\" is a keyword and cannot be used\n",
    "                                            # as a variable name.\n",
    "    \n",
    "    a = S[0]                                # S is the tuple (a, b).\n",
    "    b = S[1]\n",
    "    c = a + lambd*(b-a)\n",
    "    \n",
    "    if b != a:\n",
    "        height = 2/(b-a)                    # The peak value of the PDF\n",
    "    else:\n",
    "        # print(\"Please ensure b > a\")        # Display an error message if b = a.\n",
    "        return                              # End function execution.\n",
    "        \n",
    "    plt.plot([a, c], [0, height], 'b', linewidth = 3.0)\n",
    "    plt.plot([b, c], [0, height], 'b', linewidth = 3.0)\n",
    "    \n",
    "    '''\n",
    "    The next part of the function code sets the axes and figure properties.\n",
    "    '''\n",
    "    plt.gcf().set_size_inches(20, 10)\n",
    "    plt.gca().set_xlim([-5, 5])\n",
    "    plt.gca().set_ylim([0, 2])\n",
    "    plt.xticks(fontsize = 16)\n",
    "    plt.yticks(fontsize = 16)\n",
    "    plt.xlabel('x', fontsize = 20)\n",
    "    plt.ylabel('y', fontsize = 20)\n",
    "    \n",
    "    # print(\"                       %0.1f\\n\" %c)    # Display the value of c\n",
    "                                                  # under the lambda-slider.\n",
    "    plt.show()\n",
    "    \n",
    "    # print(\" E[X] = %0.2f\".center(70) %((a+b+c)/3), \n",
    "         # \" Var[X] = %0.2f\" %((a**2+b**2+c**2-a*b-b*c-a*c)/18), \n",
    "         # end = \"    \")                          \n",
    "                                                  # Display E[X] and Var[X]."
   ]
  },
  {
   "cell_type": "markdown",
   "metadata": {},
   "source": [
    "Finally, we define an interactive slider that enables the user to vary $[a,b]$ and $\\lambda$ (and thus $c$) over their respective ranges."
   ]
  },
  {
   "cell_type": "code",
   "execution_count": 3,
   "metadata": {},
   "outputs": [
    {
     "data": {
      "application/vnd.jupyter.widget-view+json": {
       "model_id": "c3bb9c61a0dc4aafa60103523817064b"
      }
     },
     "metadata": {},
     "output_type": "display_data"
    },
    {
     "data": {
      "text/plain": [
       "<function __main__.plot_pdf>"
      ]
     },
     "execution_count": 3,
     "metadata": {},
     "output_type": "execute_result"
    }
   ],
   "source": [
    "widgets.interact(plot_pdf, S=widgets.FloatRangeSlider(\n",
    "                     description = \"$[a, b]$\",\n",
    "                     value=[-1, 1],\n",
    "                     min=-5,\n",
    "                     max=5,\n",
    "                     step=0.1,\n",
    "                     continuous_update = False,\n",
    "                     readout_format='.1f',),\n",
    "                 \n",
    "                 lambd=widgets.FloatSlider(\n",
    "                     description = \"$c$\", \n",
    "                     value = 0.5, \n",
    "                     min = 0, \n",
    "                     max = 1, \n",
    "                     step = 0.1, \n",
    "                     readout = False))"
   ]
  },
  {
   "cell_type": "code",
   "execution_count": null,
   "metadata": {
    "collapsed": true
   },
   "outputs": [],
   "source": []
  }
 ],
 "metadata": {
  "kernelspec": {
   "display_name": "Python 2",
   "language": "python",
   "name": "python2"
  },
  "language_info": {
   "codemirror_mode": {
    "name": "ipython",
    "version": 2
   },
   "file_extension": ".py",
   "mimetype": "text/x-python",
   "name": "python",
   "nbconvert_exporter": "python",
   "pygments_lexer": "ipython2",
   "version": "2.7.13"
  },
  "toc": {
   "colors": {
    "hover_highlight": "#DAA520",
    "navigate_num": "#000000",
    "navigate_text": "#333333",
    "running_highlight": "#FF0000",
    "selected_highlight": "#FFD700",
    "sidebar_border": "#EEEEEE",
    "wrapper_background": "#FFFFFF"
   },
   "moveMenuLeft": true,
   "nav_menu": {
    "height": "66px",
    "width": "252px"
   },
   "navigate_menu": true,
   "number_sections": true,
   "sideBar": true,
   "threshold": 4,
   "toc_cell": false,
   "toc_section_display": "block",
   "toc_window_display": false,
   "widenNotebook": false
  }
 },
 "nbformat": 4,
 "nbformat_minor": 2
}
