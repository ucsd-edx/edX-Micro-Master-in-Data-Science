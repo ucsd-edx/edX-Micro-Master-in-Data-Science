{
 "cells": [
  {
   "cell_type": "markdown",
   "metadata": {},
   "source": [
    "<font size=\"4\" style=\"color:red;\"> **IMPORTANT: ** When submitting this homework notebook, please modify only the cells that start with:</font>\n",
    "\n",
    "```python\n",
    "# modify this cell\n",
    "```"
   ]
  },
  {
   "cell_type": "markdown",
   "metadata": {},
   "source": [
    "**Note:**  notice that no packages are imported for this assignment. This is because you do not need any python packages."
   ]
  },
  {
   "cell_type": "markdown",
   "metadata": {},
   "source": [
    "# Triangular Distribution\n"
   ]
  },
  {
   "cell_type": "markdown",
   "metadata": {},
   "source": [
    "**Note:** Read the notebook <font color=\"magenta\">triangle_pdf</font> before attempting this assignment."
   ]
  },
  {
   "cell_type": "markdown",
   "metadata": {},
   "source": [
    "\n",
    "In the problems that follow, let $X$ be a triangular random variable with parameters $a$, $b$ and $c$. Assume that $c=0$ for the sake of simplicity."
   ]
  },
  {
   "cell_type": "markdown",
   "metadata": {},
   "source": [
    "## Problem 1"
   ]
  },
  {
   "cell_type": "markdown",
   "metadata": {},
   "source": [
    "Write a function **P_range** that takes $a$, $b$, $\\alpha$ and $\\beta$ as inputs and returns $P(\\alpha\\leq X\\leq\\beta)$ as the output.\n",
    "\n",
    "<font  style=\"color:blue\"> **Code:**</font>\n",
    "```python\n",
    "P_range(-2., 2., -2., 2.)\n",
    "P_range(-2., 2., -2., 0.)\n",
    "P_range(-2., 2., -2., 1.)\n",
    "P_range(-2., 1., -2., 0.)\n",
    "```\n",
    "\n",
    "\n",
    "<font  style=\"color:magenta\"> **Output**</font>\n",
    "```\n",
    "1.0\n",
    "0.5\n",
    "0.875\n",
    "0.66666666666666\n",
    "```"
   ]
  },
  {
   "cell_type": "code",
   "execution_count": 1,
   "metadata": {
    "collapsed": true,
    "scrolled": true
   },
   "outputs": [],
   "source": [
    "# modify this cell\n",
    "\n",
    "def P_range(a, b, alpha, beta):\n",
    "    # inputs: four variables of type 'float'\n",
    "    # output: one variable of type 'float'\n",
    "    \n",
    "    ### BEGIN SOLUTION\n",
    "    c = 0\n",
    "    if alpha > b or beta < a:\n",
    "            P = 0.0\n",
    "    else:\n",
    "        if alpha < a:\n",
    "            alpha = a\n",
    "        if beta > b:\n",
    "            beta = b\n",
    "        if alpha>=a and beta<=c:\n",
    "            P = (alpha+beta-2*a) * (beta-alpha) / ((c-a)*(b-a))\n",
    "        if alpha>=a and alpha<=c and beta>=c:\n",
    "            P = 1 - ((alpha-a)**2 + (b-beta)**2) / ((b-a)*(c-a))\n",
    "        if alpha>=c:\n",
    "            P = (2*b-alpha-beta) * (beta-alpha) / ((b-c)*(b-a))\n",
    "    return P\n",
    "    ### END SOLUTION\n"
   ]
  },
  {
   "cell_type": "code",
   "execution_count": 2,
   "metadata": {
    "collapsed": true
   },
   "outputs": [],
   "source": [
    "# Check Function\n",
    "\n",
    "assert abs(P_range(-3., 3., -3., 0.) - 0.5) < 10**-5\n",
    "assert abs(P_range(-3., 3., -1., 1.) - 0.555555555556) <10**-5\n",
    "\n",
    "### BEGIN HIDDEN TESTS\n",
    "assert abs(P_range(-4., 4., -2., 0.) - 0.375) < 10**-5\n",
    "assert abs(P_range(-4., 4., -1., 1.) - 0.4375) <10**-5\n",
    "### END HIDDEN TESTS"
   ]
  },
  {
   "cell_type": "code",
   "execution_count": null,
   "metadata": {
    "collapsed": true
   },
   "outputs": [],
   "source": [
    "\n",
    "\n",
    "\n",
    "\n"
   ]
  }
 ],
 "metadata": {
  "kernelspec": {
   "display_name": "Python 2",
   "language": "python",
   "name": "python2"
  },
  "language_info": {
   "codemirror_mode": {
    "name": "ipython",
    "version": 2
   },
   "file_extension": ".py",
   "mimetype": "text/x-python",
   "name": "python",
   "nbconvert_exporter": "python",
   "pygments_lexer": "ipython2",
   "version": "2.7.13"
  },
  "toc": {
   "colors": {
    "hover_highlight": "#DAA520",
    "navigate_num": "#000000",
    "navigate_text": "#333333",
    "running_highlight": "#FF0000",
    "selected_highlight": "#FFD700",
    "sidebar_border": "#EEEEEE",
    "wrapper_background": "#FFFFFF"
   },
   "moveMenuLeft": true,
   "nav_menu": {
    "height": "48px",
    "width": "252px"
   },
   "navigate_menu": true,
   "number_sections": true,
   "sideBar": true,
   "threshold": 4,
   "toc_cell": false,
   "toc_section_display": "block",
   "toc_window_display": false,
   "widenNotebook": false
  }
 },
 "nbformat": 4,
 "nbformat_minor": 2
}
