{
 "cells": [
  {
   "cell_type": "markdown",
   "metadata": {},
   "source": [
    "http://fiftyexamples.readthedocs.io/en/latest/monty-hall.html"
   ]
  },
  {
   "cell_type": "code",
   "execution_count": 1,
   "metadata": {
    "collapsed": false
   },
   "outputs": [
    {
     "name": "stderr",
     "output_type": "stream",
     "text": [
      "usage: __main__.py [-h] [--doors int] [--trials int] [--verbose]\n",
      "__main__.py: error: unrecognized arguments: -f /Users/alon/Library/Jupyter/runtime/kernel-c6333602-609e-4df8-bfc9-34a2266db5c5.json\n"
     ]
    },
    {
     "ename": "SystemExit",
     "evalue": "2",
     "output_type": "error",
     "traceback": [
      "An exception has occurred, use %tb to see the full traceback.\n",
      "\u001b[0;31mSystemExit\u001b[0m\u001b[0;31m:\u001b[0m 2\n"
     ]
    },
    {
     "name": "stderr",
     "output_type": "stream",
     "text": [
      "To exit: use 'exit', 'quit', or Ctrl-D.\n"
     ]
    }
   ],
   "source": [
    "# %load montyhall.py\n",
    "\n",
    "\n",
    "# http://fiftyexamples.readthedocs.io/en/latest/monty-hall.html\n",
    "\n",
    "# In[2]:\n",
    "\n",
    "#!/usr/bin/env python3\n",
    "\n",
    "\"\"\"Simulate the Monty Hall problem.\n",
    "\n",
    "\"\"\"\n",
    "\n",
    "import argparse, random\n",
    "\n",
    "def simulate(num_doors, switch, verbose):\n",
    "    \"\"\"(int, bool): bool\n",
    "\n",
    "    Carry out the game for one contestant.  If 'switch' is True,\n",
    "    the contestant will switch their chosen door when offered the chance.\n",
    "    Returns a Boolean value telling whether the simulated contestant won.\n",
    "    \"\"\"\n",
    "\n",
    "    # Doors are numbered from 0 up to num_doors-1 (inclusive).\n",
    "\n",
    "    # Randomly choose the door hiding the prize.\n",
    "    winning_door = random.randint(0, num_doors-1)\n",
    "    if verbose:\n",
    "        print('Prize is behind door {}'.format(winning_door+1))\n",
    "\n",
    "    # The contestant picks a random door, too.\n",
    "    choice = random.randint(0, num_doors-1)\n",
    "    if verbose:\n",
    "        print('Contestant chooses door {}'.format(choice+1))\n",
    "\n",
    "    # The host opens all but two doors.\n",
    "    closed_doors = list(range(num_doors))\n",
    "    while len(closed_doors) > 2:\n",
    "        # Randomly choose a door to open.\n",
    "        door_to_remove = random.choice(closed_doors)\n",
    "\n",
    "        # The host will never open the winning door, or the door\n",
    "        # chosen by the contestant.\n",
    "        if door_to_remove == winning_door or door_to_remove == choice:\n",
    "            continue\n",
    "\n",
    "        # Remove the door from the list of closed doors.\n",
    "        closed_doors.remove(door_to_remove)\n",
    "        if verbose:\n",
    "            print('Host opens door {}'.format(door_to_remove+1))\n",
    "\n",
    "    # There are always two doors remaining.\n",
    "    assert len(closed_doors) == 2\n",
    "\n",
    "    # Does the contestant want to switch their choice?\n",
    "    if switch:\n",
    "        if verbose:\n",
    "            print('Contestant switches from door {} '.format(choice+1), end='')\n",
    "\n",
    "        # There are two closed doors left.  The contestant will never\n",
    "        # choose the same door, so we'll remove that door as a choice.\n",
    "        available_doors = list(closed_doors) # Make a copy of the list.\n",
    "        available_doors.remove(choice)\n",
    "\n",
    "        # Change choice to the only door available.\n",
    "        choice = available_doors.pop()\n",
    "        if verbose:\n",
    "            print('to {}'.format(choice+1))\n",
    "\n",
    "    # Did the contestant win?\n",
    "    won = (choice == winning_door)\n",
    "    if verbose:\n",
    "        if won:\n",
    "            print('Contestant WON', end='\\n\\n')\n",
    "        else:\n",
    "            print('Contestant LOST', end='\\n\\n')\n",
    "    return won\n",
    "\n",
    "\n",
    "def main():\n",
    "    # Get command-line arguments\n",
    "    parser = argparse.ArgumentParser(\n",
    "        description='simulate the Monty Hall problem')\n",
    "    parser.add_argument('--doors', default=3, type=int, metavar='int',\n",
    "                        help='number of doors offered to the contestant')\n",
    "    parser.add_argument('--trials', default=10000, type=int, metavar='int',\n",
    "                        help='number of trials to perform')\n",
    "    parser.add_argument('--verbose', default=False, action='store_true',\n",
    "                        help='display the results of each trial')\n",
    "    args = parser.parse_args()\n",
    "\n",
    "    print('Simulating {} trials...'.format(args.trials))\n",
    "\n",
    "    # Carry out the trials\n",
    "    winning_non_switchers = 0\n",
    "    winning_switchers = 0\n",
    "    for i in range(args.trials):\n",
    "        # First, do a trial where the contestant never switches.\n",
    "        won = simulate(args.doors, switch=False, verbose=args.verbose)\n",
    "        if won:\n",
    "            winning_non_switchers += 1\n",
    "\n",
    "        # Next, try one where the contestant switches.\n",
    "        won = simulate(args.doors, switch=True, verbose=args.verbose)\n",
    "        if won:\n",
    "            winning_switchers += 1\n",
    "\n",
    "    print('    Switching won {0:5} times out of {1} ({2}% of the time)'.format(\n",
    "            winning_switchers, args.trials,\n",
    "            (winning_switchers / args.trials * 100 ) ))\n",
    "    print('Not switching won {0:5} times out of {1} ({2}% of the time)'.format(\n",
    "            winning_non_switchers, args.trials,\n",
    "            (winning_non_switchers / args.trials * 100 ) ))\n",
    "\n",
    "\n",
    "if __name__ == '__main__':\n",
    "    main()\n",
    "\n",
    "\n",
    "\n"
   ]
  },
  {
   "cell_type": "code",
   "execution_count": 2,
   "metadata": {
    "collapsed": false
   },
   "outputs": [
    {
     "name": "stdout",
     "output_type": "stream",
     "text": [
      "Simulating 10000 trials...\n",
      "    Switching won  6703 times out of 10000 (67.03% of the time)\n",
      "Not switching won  3394 times out of 10000 (33.94% of the time)\n"
     ]
    }
   ],
   "source": [
    "%run montyhall.py"
   ]
  },
  {
   "cell_type": "code",
   "execution_count": 3,
   "metadata": {
    "collapsed": false
   },
   "outputs": [
    {
     "name": "stdout",
     "output_type": "stream",
     "text": [
      "Simulating 2 trials...\n",
      "Prize is behind door 3\n",
      "Contestant chooses door 3\n",
      "Host opens door 1\n",
      "Contestant WON\n",
      "\n",
      "Prize is behind door 1\n",
      "Contestant chooses door 2\n",
      "Host opens door 3\n",
      "Contestant switches from door 2 to 1\n",
      "Contestant WON\n",
      "\n",
      "Prize is behind door 3\n",
      "Contestant chooses door 2\n",
      "Host opens door 1\n",
      "Contestant LOST\n",
      "\n",
      "Prize is behind door 3\n",
      "Contestant chooses door 2\n",
      "Host opens door 1\n",
      "Contestant switches from door 2 to 3\n",
      "Contestant WON\n",
      "\n",
      "    Switching won     2 times out of 2 (100.0% of the time)\n",
      "Not switching won     1 times out of 2 (50.0% of the time)\n"
     ]
    }
   ],
   "source": [
    "%run montyhall.py  --verbose --trials=2"
   ]
  },
  {
   "cell_type": "code",
   "execution_count": 4,
   "metadata": {
    "collapsed": false
   },
   "outputs": [
    {
     "name": "stdout",
     "output_type": "stream",
     "text": [
      "Simulating 10000 trials...\n",
      "    Switching won  9766 times out of 10000 (97.66% of the time)\n",
      "Not switching won   257 times out of 10000 (2.5700000000000003% of the time)\n"
     ]
    }
   ],
   "source": [
    "%run montyhall.py --doors=40"
   ]
  },
  {
   "cell_type": "code",
   "execution_count": null,
   "metadata": {
    "collapsed": true
   },
   "outputs": [],
   "source": []
  }
 ],
 "metadata": {
  "kernelspec": {
   "display_name": "Python 3",
   "language": "python",
   "name": "python3"
  },
  "language_info": {
   "codemirror_mode": {
    "name": "ipython",
    "version": 3
   },
   "file_extension": ".py",
   "mimetype": "text/x-python",
   "name": "python",
   "nbconvert_exporter": "python",
   "pygments_lexer": "ipython3",
   "version": "3.5.3"
  }
 },
 "nbformat": 4,
 "nbformat_minor": 2
}
