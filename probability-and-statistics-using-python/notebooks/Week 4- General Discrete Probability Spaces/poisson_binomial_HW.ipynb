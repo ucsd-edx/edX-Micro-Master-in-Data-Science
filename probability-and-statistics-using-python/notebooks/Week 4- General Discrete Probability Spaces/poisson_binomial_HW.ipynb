{
 "cells": [
  {
   "cell_type": "markdown",
   "metadata": {},
   "source": [
    "<font size=\"4\" style=\"color:red;\"> **IMPORTANT: ** When submitting this homework notebook, please modify only the cells that start with:</font>\n",
    "\n",
    "```python\n",
    "# modify this cell\n",
    "```\n",
    "\n",
    "<font style=\"color:red;\"> Do not add any new cells. To test out new code, use the coding **scratchpad** by clicking the triangular icon in the bottom right corner of the screen. (**hotkey:** control-B)  </font>"
   ]
  },
  {
   "cell_type": "markdown",
   "metadata": {},
   "source": [
    "# The Poisson-binomial Distribution\n",
    "In the binomial distribution, there are $n$\n",
    "Bernoulli variables $X_1,...,X_n$ where each\n",
    "$X_i\\sim B(p)$ for the same success probability $p$,\n",
    "and $X=\\sum_{i=1}^n X_i$. We have seen that \n",
    "$P(X=k)=\\binom nk \\cdot p^k\\cdot \\overline p^{n-k}$.\n",
    "\n",
    "In the Poisson-binomial distribution, again there\n",
    "are $n$ independent Bernoulli variables (sometimes called\n",
    "<i>Poisson trials</i>), and again $X=\\sum_{i=1}^n X_i$.\n",
    "However, now each $X_i\\sim B(p_i)$ where the $p_i$'s may differ. \n",
    "Now $P(X=k)$ does not have a simple formula, but it can be \n",
    "computed numerically. \n",
    "\n",
    "One way to do it is to determine all $k$-subsets of \n",
    "$\\{1,...,n\\}$, for each such subset $S$ determine the\n",
    "probability that $X_i$ is $1$ iff $i\\in S$, and \n",
    "then sum the probabilities. \n",
    "\n",
    "As an example, consider:\n",
    "\n",
    "$\\boldsymbol p=[0.4, 0.3, 0.8]$ and $k=2$\n",
    "\n",
    "List all $2$-subsets of $\\{1,\\ldots,3\\}$ and the probabilty that $X_i$ is one iff $i$ is in the subset:\n",
    "\n",
    "$$\n",
    "(1,2)\\,\\,\\,\\,\\,\\,\\,\\,0.024\\\\\n",
    "(1,3)\\,\\,\\,\\,\\,\\,\\,\\,0.224\\\\\n",
    "(2,3)\\,\\,\\,\\,\\,\\,\\,\\,0.144\\\\\n",
    "$$\n",
    "Finally:\n",
    "$$P(X=k)=0.024+0.224+0.144=0.392$$"
   ]
  },
  {
   "cell_type": "markdown",
   "metadata": {},
   "source": [
    "## Problem"
   ]
  },
  {
   "cell_type": "markdown",
   "metadata": {},
   "source": [
    "Using the method described above, write a function **pmf_sum** that takes a vector $\\boldsymbol p=[p_1, p_2, \\ldots, p_n]$ and a natural number $k$ as inputs and returns $P(X=k)$ as the output.\n",
    "\n",
    "<font  style=\"color:blue\"> * **Test Code:** *</font>\n",
    "```python\n",
    "pmf_sum([0.4, 0.3, 0.8], 2)\n",
    "```\n",
    "\n",
    "\n",
    "<font  style=\"color:magenta\"> * **Expected Output (value depends on the inputs):** *</font>\n",
    "```\n",
    "0.392\n",
    "```"
   ]
  },
  {
   "cell_type": "code",
   "execution_count": 1,
   "metadata": {
    "scrolled": true
   },
   "outputs": [
    {
     "ename": "SyntaxError",
     "evalue": "unexpected EOF while parsing (<ipython-input-1-d5239f7baeab>, line 11)",
     "output_type": "error",
     "traceback": [
      "\u001b[0;36m  File \u001b[0;32m\"<ipython-input-1-d5239f7baeab>\"\u001b[0;36m, line \u001b[0;32m11\u001b[0m\n\u001b[0;31m    # modify this cell\u001b[0m\n\u001b[0m                      ^\u001b[0m\n\u001b[0;31mSyntaxError\u001b[0m\u001b[0;31m:\u001b[0m unexpected EOF while parsing\n"
     ]
    }
   ],
   "source": [
    "# modify this cell\n",
    "\n",
    "def pmf_sum(p, k):\n",
    "    # inputs: p is a list of integers and k is an integer\n",
    "    # output: a variable of type 'float'\n",
    "    \n",
    "    ### BEGIN SOLUTION\n",
    "    \n",
    "    ### END SOLUTION\n",
    "\n",
    "# modify this cell"
   ]
  },
  {
   "cell_type": "code",
   "execution_count": null,
   "metadata": {
    "collapsed": true
   },
   "outputs": [],
   "source": [
    "# Check Function\n",
    "\n",
    "assert (# please complete this)\n",
    "\n",
    "### BEGIN HIDDEN TESTS\n",
    "# please complete this\n",
    "### END HIDDEN TESTS"
   ]
  }
 ],
 "metadata": {
  "kernelspec": {
   "display_name": "Python 2",
   "language": "python",
   "name": "python2"
  },
  "language_info": {
   "codemirror_mode": {
    "name": "ipython",
    "version": 2
   },
   "file_extension": ".py",
   "mimetype": "text/x-python",
   "name": "python",
   "nbconvert_exporter": "python",
   "pygments_lexer": "ipython2",
   "version": "2.7.13"
  },
  "toc": {
   "colors": {
    "hover_highlight": "#DAA520",
    "navigate_num": "#000000",
    "navigate_text": "#333333",
    "running_highlight": "#FF0000",
    "selected_highlight": "#FFD700",
    "sidebar_border": "#EEEEEE",
    "wrapper_background": "#FFFFFF"
   },
   "moveMenuLeft": true,
   "nav_menu": {
    "height": "48px",
    "width": "252px"
   },
   "navigate_menu": true,
   "number_sections": true,
   "sideBar": true,
   "threshold": 4,
   "toc_cell": false,
   "toc_section_display": "block",
   "toc_window_display": false,
   "widenNotebook": false
  }
 },
 "nbformat": 4,
 "nbformat_minor": 2
}
