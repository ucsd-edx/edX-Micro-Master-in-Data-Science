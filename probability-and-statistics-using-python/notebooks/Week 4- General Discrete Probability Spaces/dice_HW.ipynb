{
 "cells": [
  {
   "cell_type": "markdown",
   "metadata": {},
   "source": [
    "<font size=\"4\" style=\"color:red;\"> **IMPORTANT: ** When submitting this homework notebook, please modify only the cells that start with:</font>\n",
    "\n",
    "```python\n",
    "# modify this cell\n",
    "```\n",
    "\n",
    "<font style=\"color:red;\"> Do not add any new cells. To test out new code, use the coding **scratchpad** by clicking the triangular icon in the bottom right corner of the screen. (**hotkey:** control-B)  </font>"
   ]
  },
  {
   "cell_type": "markdown",
   "metadata": {},
   "source": [
    "# Different Dice\n",
    "\n",
    "\n",
    "So far we mostly considered standard 6-faced dice. The following problems explore dice with different number of faces. "
   ]
  },
  {
   "cell_type": "code",
   "execution_count": 1,
   "metadata": {},
   "outputs": [
    {
     "name": "stdout",
     "output_type": "stream",
     "text": [
      "Populating the interactive namespace from numpy and matplotlib\n"
     ]
    }
   ],
   "source": [
    "%pylab inline"
   ]
  },
  {
   "cell_type": "markdown",
   "metadata": {},
   "source": [
    "## Problem 1"
   ]
  },
  {
   "cell_type": "markdown",
   "metadata": {},
   "source": [
    "Suppose that a 6-sided die is rolled $n$ times. Let $X_i$ be the value of the top face at the $i$th roll,\n",
    "and let $X\\triangleq\\max_{1\\le i\\le n} X_i$ be the highest value observed. For example, if $n=3$ and the three\n",
    "rolls are 4, 1, and 4, then $X_1=4, X_2=1, X_3=4$ and $X=4$. \n",
    "\n",
    "To find the distribution of $X$, observe first that $X\\le x$ iff $X_i\\le x$ for all $1\\le i\\le n$,\n",
    "hence $P(X\\le x)=(x/6)^n$. It follows that $P(X=x)=P(X\\le x)-P(X\\le x-1)=(x/6)^n-((x-1)/6)^n$.\n",
    "For example, $P(X=1)=(1/6)^n$, and $P(X=2)=(1/3)^n-(1/6)^n$.\n",
    "\n",
    "In this problem we assume that each of the $n$ dice has a potentially different number of faces, denoted $f_i$,\n",
    "and ask you to write a function **largest_face** that determines the probability $P(x)$ that the highest top face observed is $x$. **largest_face** takes a vector $\\boldsymbol f$ of positive integers, interpreted as the number of faces of each of the dice, and a value $x$ and returns $P(x)$. For example, if $\\boldsymbol f=[2, 5, 7]$, then three dice are rolled, and $P(1)=(1/2)\\cdot(1/5)\\cdot(1/7)$ as all dice must be 1, while $P(7)=1/7$ as the third die must turn up 7.\n",
    "\n",
    "<font  style=\"color:blue\">* **Sample run** *</font>\n",
    "```python\n",
    "print largest_face([2,5,8],8)\n",
    "print largest_face([2], 1)\n",
    "largest_face( [3,4], 2)\n",
    "print largest_face([2, 5, 7, 3], 3)\n",
    "```\n",
    "\n",
    "\n",
    "<font  style=\"color:magenta\">* **Expected Output** *</font>\n",
    "```\n",
    "0.125\n",
    "0.5\n",
    "0.25\n",
    "0.180952380952\n",
    "```"
   ]
  },
  {
   "cell_type": "code",
   "execution_count": 2,
   "metadata": {
    "collapsed": true,
    "scrolled": true
   },
   "outputs": [],
   "source": [
    "# modify this cell\n",
    "\n",
    "def largest_face(f, x_max):\n",
    "    # inputs: m is a list of integers and m_max is an integer\n",
    "    # output: a variable of type 'float'\n",
    "    \n",
    "    ### BEGIN SOLUTION\n",
    "        if x_max<1:\n",
    "            return 0\n",
    "        x_maxplus_1 = np.array([x for x in f if x>x_max-1], dtype=float)\n",
    "        x_maxplus_2 = np.array([x for x in x_maxplus_1 if x>x_max], dtype=float)\n",
    "        P = (x_max**len(x_maxplus_2))/np.product(x_maxplus_2) - ((x_max-1)**len(x_maxplus_1))/np.product(x_maxplus_1)\n",
    "        return P\n",
    "    ### END SOLUTION\n",
    "    "
   ]
  },
  {
   "cell_type": "code",
   "execution_count": 3,
   "metadata": {
    "collapsed": true
   },
   "outputs": [],
   "source": [
    "# Check Function\n",
    "\n",
    "assert abs( largest_face([5],3) - 0.19999999999999996 ) < 10**-5\n",
    "assert abs( largest_face( [11,5,4], 5) - 0.16363636363636364  ) < 10**-5\n",
    "assert abs( largest_face(range(1,10), 3) - 0.011348104056437391 ) < 10**-5 \n",
    "\n",
    "\n",
    "### BEGIN HIDDEN TESTS\n",
    "assert abs( largest_face( [10,13,6], 5)  - 0.078205128205128219 ) < 10**-5     \n",
    "assert abs( largest_face( [7,4], 2)   - 0.10714285714285714 ) < 10**-5 \n",
    "assert abs( largest_face( range(1,20), 10)  - 0.019429600276720374 ) < 10**-5 \n",
    "### END HIDDEN TESTS"
   ]
  },
  {
   "cell_type": "markdown",
   "metadata": {
    "collapsed": true
   },
   "source": [
    "## Problem 2"
   ]
  },
  {
   "cell_type": "markdown",
   "metadata": {},
   "source": [
    "Write a function **face_sum** that takes a vector $\\boldsymbol f$ that as in the previous problem represents the number of faces of each die,  and a positive integer $s$, and returns the probability that the sum of the top faces observed is $s$. For example, if $\\boldsymbol f=[3, 4, 5]$ and $s\\le 2$ or $s\\ge 13$, **face_sum** returns 0, and if $s=3$ or $s=12$, it returns $(1/3)\\cdot(1/4)\\cdot(1/5)=1/60$.\n",
    "\n",
    "Hint: The **constrained-composition** function you wrote for an earlier probelm may prove handy. \n",
    "\n",
    "<font  style=\"color:blue\"> * **Sample run** *</font>\n",
    "```python\n",
    "print face_sum([3, 4, 5], 13)\n",
    "print face_sum([2,2],3)\n",
    "print face_sum([3, 4, 5], 7)\n",
    "```\n",
    "\n",
    "\n",
    "<font  style=\"color:magenta\"> * **Expected Output** *</font>\n",
    "```\n",
    "0.0\n",
    "0.5\n",
    "0.18333333\n",
    "```"
   ]
  },
  {
   "cell_type": "markdown",
   "metadata": {},
   "source": [
    "### Helper Code\n",
    "\n",
    "Below is a correct implementation of **constrained_composition**. Call this function in your implementation of **face_sum**."
   ]
  },
  {
   "cell_type": "code",
   "execution_count": 4,
   "metadata": {
    "collapsed": true
   },
   "outputs": [],
   "source": [
    "def constrained_compositions(n, m):\n",
    "    # inputs: n is of type 'int' and m is a list of integers\n",
    "    # output: a set of tuples\n",
    "    \n",
    "    k = len(m)\n",
    "    parts = set()\n",
    "    if k == n:\n",
    "        if 1 <= min(m):\n",
    "            parts.add((1,)*n)\n",
    "    if k == 1:\n",
    "        if n <= m[0]:\n",
    "            parts.add((n,))\n",
    "    else:\n",
    "        for x in range(1, min(n-k+2,m[0]+1)):\n",
    "            for y in constrained_compositions(n-x, m[1:]):\n",
    "                parts.add((x,)+y)\n",
    "    return parts"
   ]
  },
  {
   "cell_type": "markdown",
   "metadata": {},
   "source": [
    "### exercise:"
   ]
  },
  {
   "cell_type": "code",
   "execution_count": 5,
   "metadata": {
    "collapsed": true
   },
   "outputs": [],
   "source": [
    "# modify this cell\n",
    "\n",
    "def face_sum(m, s):\n",
    "    # inputs: m is list of integers and s is an integer\n",
    "    # output: a variable of type 'float'\n",
    "    \n",
    "    ### BEGIN SOLUTION\n",
    "    return len(constrained_compositions(s, m))/float( np.product(m) )\n",
    "    ### END SOLUTION\n",
    "\n"
   ]
  },
  {
   "cell_type": "code",
   "execution_count": 6,
   "metadata": {},
   "outputs": [],
   "source": [
    "# Check Function\n",
    "assert sum(abs( face_sum([2,2],2) - 0.25  )) < 10**-5\n",
    "assert sum(abs( face_sum([2,2],10) - 0.0  )) < 10**-5\n",
    "assert sum(abs( face_sum(range(1,10),20) - 0.03037092151675485  )) < 10**-5\n",
    "\n",
    "### BEGIN HIDDEN TESTS\n",
    "assert sum(abs( face_sum([2,4,4,6], 10) - 0.15625  )) < 10**-5\n",
    "assert sum(abs( face_sum([2,4,9], 6) - 0.09722222222222222  )) < 10**-5\n",
    "### END HIDDEN TESTS"
   ]
  },
  {
   "cell_type": "code",
   "execution_count": null,
   "metadata": {
    "collapsed": true
   },
   "outputs": [],
   "source": [
    "\n",
    "\n",
    "\n",
    "\n",
    "\n",
    "\n"
   ]
  }
 ],
 "metadata": {
  "kernelspec": {
   "display_name": "Python 2",
   "language": "python",
   "name": "python2"
  },
  "language_info": {
   "codemirror_mode": {
    "name": "ipython",
    "version": 2
   },
   "file_extension": ".py",
   "mimetype": "text/x-python",
   "name": "python",
   "nbconvert_exporter": "python",
   "pygments_lexer": "ipython2",
   "version": "2.7.13"
  },
  "toc": {
   "colors": {
    "hover_highlight": "#DAA520",
    "navigate_num": "#000000",
    "navigate_text": "#333333",
    "running_highlight": "#FF0000",
    "selected_highlight": "#FFD700",
    "sidebar_border": "#EEEEEE",
    "wrapper_background": "#FFFFFF"
   },
   "moveMenuLeft": true,
   "nav_menu": {
    "height": "48px",
    "width": "252px"
   },
   "navigate_menu": true,
   "number_sections": true,
   "sideBar": true,
   "threshold": 4,
   "toc_cell": false,
   "toc_section_display": "block",
   "toc_window_display": false,
   "widenNotebook": false
  }
 },
 "nbformat": 4,
 "nbformat_minor": 2
}
