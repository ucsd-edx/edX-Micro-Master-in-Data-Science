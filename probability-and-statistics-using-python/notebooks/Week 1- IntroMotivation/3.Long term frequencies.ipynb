{
 "cells": [
  {
   "cell_type": "code",
   "execution_count": 2,
   "metadata": {},
   "outputs": [
    {
     "name": "stdout",
     "output_type": "stream",
     "text": [
      "Populating the interactive namespace from numpy and matplotlib\n"
     ]
    }
   ],
   "source": [
    "%pylab inline"
   ]
  },
  {
   "cell_type": "code",
   "execution_count": 19,
   "metadata": {},
   "outputs": [
    {
     "name": "stdout",
     "output_type": "stream",
     "text": [
      "\u001b[41m6\u001b[0m \u001b[42m1\u001b[0m \u001b[43m3\u001b[0m \u001b[44m4\u001b[0m\n"
     ]
    }
   ],
   "source": [
    "#Create list of color symbols\n",
    "red_bck=\"\\x1b[41m%s\\x1b[0m\"\n",
    "green_bck=\"\\x1b[42m%s\\x1b[0m\"\n",
    "tan_bck=\"\\x1b[43m%s\\x1b[0m\"\n",
    "blue_bck=\"\\x1b[44m%s\\x1b[0m\"\n",
    "sym=[red_bck%'6',green_bck%'1',tan_bck%'3',blue_bck%'4']\n",
    "print sym[0],sym[1],sym[2],sym[3]"
   ]
  },
  {
   "cell_type": "code",
   "execution_count": 20,
   "metadata": {},
   "outputs": [
    {
     "name": "stdout",
     "output_type": "stream",
     "text": [
      "symbol=\u001b[41m6\u001b[0m, probability=0.000\n",
      "symbol=\u001b[42m1\u001b[0m, probability=0.100\n",
      "symbol=\u001b[43m3\u001b[0m, probability=0.200\n",
      "symbol=\u001b[44m4\u001b[0m, probability=0.300\n"
     ]
    }
   ],
   "source": [
    "p=[0.0,0.1,0.2,0.3,0.4]\n",
    "c=cumsum(p)\n",
    "for i in range(4):\n",
    "    print 'symbol=%s, probability=%5.3f'%(sym[i],p[i])"
   ]
  },
  {
   "cell_type": "code",
   "execution_count": 36,
   "metadata": {
    "collapsed": true
   },
   "outputs": [],
   "source": [
    "def rand2sym(vec):\n",
    "    \"\"\" Transform an array of random numbers, distributed uniformly in [0,1]\n",
    "    into a sequence of symbols, chosen according to the probabilities defined by c (cumul of p)\"\"\"\n",
    "    ans=[]\n",
    "    counts={i:0 for i in range(4)}\n",
    "    for x in vec:\n",
    "        for i in range(len(c)-1):\n",
    "            if x>=c[i] and x<c[i+1]:\n",
    "                ans.append(sym[i])\n",
    "                counts[i]+=1\n",
    "                break\n",
    "    return ans,counts"
   ]
  },
  {
   "cell_type": "code",
   "execution_count": 40,
   "metadata": {},
   "outputs": [
    {
     "name": "stdout",
     "output_type": "stream",
     "text": [
      "\u001b[44m4\u001b[0m\u001b[44m4\u001b[0m\u001b[42m1\u001b[0m\u001b[44m4\u001b[0m\u001b[41m6\u001b[0m\u001b[43m3\u001b[0m\u001b[43m3\u001b[0m\u001b[44m4\u001b[0m\u001b[43m3\u001b[0m\u001b[44m4\u001b[0m\u001b[41m6\u001b[0m\u001b[44m4\u001b[0m\u001b[44m4\u001b[0m\u001b[43m3\u001b[0m\u001b[43m3\u001b[0m\u001b[43m3\u001b[0m\u001b[44m4\u001b[0m\u001b[44m4\u001b[0m\u001b[43m3\u001b[0m\u001b[42m1\u001b[0m\u001b[44m4\u001b[0m\u001b[44m4\u001b[0m\u001b[42m1\u001b[0m\u001b[42m1\u001b[0m\u001b[42m1\u001b[0m\u001b[44m4\u001b[0m\u001b[44m4\u001b[0m\u001b[41m6\u001b[0m\u001b[42m1\u001b[0m\u001b[42m1\u001b[0m\u001b[43m3\u001b[0m\u001b[43m3\u001b[0m\u001b[42m1\u001b[0m\u001b[44m4\u001b[0m\u001b[41m6\u001b[0m\u001b[44m4\u001b[0m\u001b[43m3\u001b[0m\u001b[43m3\u001b[0m\u001b[44m4\u001b[0m\u001b[44m4\u001b[0m\u001b[44m4\u001b[0m\u001b[43m3\u001b[0m\u001b[43m3\u001b[0m\u001b[44m4\u001b[0m\u001b[44m4\u001b[0m\u001b[44m4\u001b[0m\u001b[44m4\u001b[0m\u001b[44m4\u001b[0m\u001b[43m3\u001b[0m\u001b[42m1\u001b[0m\u001b[44m4\u001b[0m\u001b[44m4\u001b[0m\u001b[44m4\u001b[0m\u001b[44m4\u001b[0m\u001b[43m3\u001b[0m\u001b[42m1\u001b[0m\u001b[44m4\u001b[0m\u001b[44m4\u001b[0m\u001b[43m3\u001b[0m\u001b[41m6\u001b[0m\u001b[44m4\u001b[0m\u001b[43m3\u001b[0m\u001b[42m1\u001b[0m\u001b[42m1\u001b[0m\u001b[44m4\u001b[0m\u001b[44m4\u001b[0m\u001b[44m4\u001b[0m\u001b[41m6\u001b[0m\u001b[44m4\u001b[0m\u001b[44m4\u001b[0m\u001b[43m3\u001b[0m\u001b[43m3\u001b[0m\u001b[42m1\u001b[0m\u001b[43m3\u001b[0m\u001b[43m3\u001b[0m\u001b[43m3\u001b[0m\u001b[44m4\u001b[0m\u001b[43m3\u001b[0m\u001b[41m6\u001b[0m\u001b[41m6\u001b[0m\u001b[44m4\u001b[0m\u001b[44m4\u001b[0m\u001b[42m1\u001b[0m\u001b[41m6\u001b[0m\u001b[41m6\u001b[0m\u001b[43m3\u001b[0m\u001b[43m3\u001b[0m\u001b[43m3\u001b[0m\u001b[43m3\u001b[0m\u001b[43m3\u001b[0m\u001b[41m6\u001b[0m\u001b[44m4\u001b[0m\u001b[44m4\u001b[0m\u001b[43m3\u001b[0m\u001b[42m1\u001b[0m\u001b[43m3\u001b[0m\u001b[44m4\u001b[0m\u001b[44m4\u001b[0m\u001b[43m3\u001b[0m\u001b[42m1\u001b[0m\u001b[44m4\u001b[0m\u001b[42m1\u001b[0m\u001b[44m4\u001b[0m\u001b[43m3\u001b[0m\u001b[44m4\u001b[0m\u001b[43m3\u001b[0m\u001b[43m3\u001b[0m\u001b[43m3\u001b[0m\u001b[44m4\u001b[0m\u001b[44m4\u001b[0m\u001b[44m4\u001b[0m\u001b[41m6\u001b[0m\u001b[44m4\u001b[0m\u001b[42m1\u001b[0m\u001b[44m4\u001b[0m\u001b[43m3\u001b[0m\u001b[42m1\u001b[0m\u001b[44m4\u001b[0m\u001b[44m4\u001b[0m\u001b[44m4\u001b[0m\u001b[42m1\u001b[0m\u001b[43m3\u001b[0m\u001b[42m1\u001b[0m\u001b[42m1\u001b[0m\u001b[41m6\u001b[0m\u001b[44m4\u001b[0m\u001b[43m3\u001b[0m\u001b[43m3\u001b[0m\u001b[42m1\u001b[0m\u001b[43m3\u001b[0m\u001b[44m4\u001b[0m\u001b[43m3\u001b[0m\u001b[42m1\u001b[0m\u001b[44m4\u001b[0m\u001b[43m3\u001b[0m\u001b[44m4\u001b[0m\u001b[43m3\u001b[0m\u001b[44m4\u001b[0m\u001b[44m4\u001b[0m\u001b[44m4\u001b[0m\u001b[44m4\u001b[0m\u001b[44m4\u001b[0m\u001b[44m4\u001b[0m\u001b[42m1\u001b[0m\u001b[44m4\u001b[0m\u001b[43m3\u001b[0m\u001b[43m3\u001b[0m\u001b[44m4\u001b[0m\u001b[41m6\u001b[0m\u001b[42m1\u001b[0m\u001b[42m1\u001b[0m\u001b[41m6\u001b[0m\u001b[44m4\u001b[0m\u001b[43m3\u001b[0m\u001b[44m4\u001b[0m\u001b[41m6\u001b[0m\u001b[43m3\u001b[0m\u001b[44m4\u001b[0m\u001b[43m3\u001b[0m\u001b[44m4\u001b[0m\u001b[44m4\u001b[0m\u001b[42m1\u001b[0m\u001b[43m3\u001b[0m\u001b[42m1\u001b[0m\u001b[44m4\u001b[0m\u001b[44m4\u001b[0m\u001b[44m4\u001b[0m\u001b[43m3\u001b[0m\u001b[44m4\u001b[0m\u001b[43m3\u001b[0m\u001b[42m1\u001b[0m\u001b[43m3\u001b[0m\u001b[43m3\u001b[0m\u001b[44m4\u001b[0m\u001b[44m4\u001b[0m\u001b[44m4\u001b[0m\u001b[41m6\u001b[0m\u001b[43m3\u001b[0m\u001b[41m6\u001b[0m\u001b[43m3\u001b[0m\u001b[42m1\u001b[0m\u001b[43m3\u001b[0m\u001b[44m4\u001b[0m\u001b[43m3\u001b[0m\u001b[44m4\u001b[0m\u001b[44m4\u001b[0m\u001b[42m1\u001b[0m\u001b[44m4\u001b[0m\u001b[44m4\u001b[0m\u001b[44m4\u001b[0m\u001b[44m4\u001b[0m\u001b[43m3\u001b[0m\u001b[44m4\u001b[0m\u001b[44m4\u001b[0m\u001b[44m4\u001b[0m\u001b[43m3\u001b[0m\u001b[41m6\u001b[0m\u001b[44m4\u001b[0m\u001b[44m4\u001b[0m\u001b[42m1\u001b[0m\u001b[44m4\u001b[0m\u001b[41m6\u001b[0m\u001b[43m3\u001b[0m\u001b[44m4\u001b[0m\u001b[42m1\u001b[0m\u001b[42m1\u001b[0m\u001b[43m3\u001b[0m\u001b[41m6\u001b[0m\u001b[43m3\u001b[0m\u001b[44m4\u001b[0m\u001b[44m4\u001b[0m\u001b[44m4\u001b[0m\u001b[44m4\u001b[0m\u001b[44m4\u001b[0m\u001b[44m4\u001b[0m\u001b[43m3\u001b[0m\u001b[44m4\u001b[0m\u001b[42m1\u001b[0m\u001b[44m4\u001b[0m\u001b[43m3\u001b[0m\u001b[44m4\u001b[0m\u001b[44m4\u001b[0m\u001b[43m3\u001b[0m\u001b[44m4\u001b[0m\u001b[43m3\u001b[0m\u001b[44m4\u001b[0m\u001b[44m4\u001b[0m\u001b[41m6\u001b[0m\u001b[43m3\u001b[0m\u001b[44m4\u001b[0m\u001b[41m6\u001b[0m\u001b[44m4\u001b[0m\u001b[43m3\u001b[0m\u001b[44m4\u001b[0m\u001b[43m3\u001b[0m\u001b[44m4\u001b[0m\u001b[42m1\u001b[0m\u001b[43m3\u001b[0m\u001b[42m1\u001b[0m\u001b[44m4\u001b[0m\u001b[44m4\u001b[0m\u001b[42m1\u001b[0m\u001b[43m3\u001b[0m\u001b[43m3\u001b[0m\u001b[42m1\u001b[0m\u001b[44m4\u001b[0m\u001b[43m3\u001b[0m\u001b[41m6\u001b[0m\u001b[41m6\u001b[0m\u001b[44m4\u001b[0m\u001b[44m4\u001b[0m\u001b[42m1\u001b[0m\u001b[41m6\u001b[0m\u001b[44m4\u001b[0m\u001b[44m4\u001b[0m\u001b[43m3\u001b[0m\u001b[44m4\u001b[0m\u001b[41m6\u001b[0m\u001b[43m3\u001b[0m\u001b[43m3\u001b[0m\u001b[42m1\u001b[0m\u001b[42m1\u001b[0m\u001b[44m4\u001b[0m\u001b[44m4\u001b[0m\u001b[41m6\u001b[0m\u001b[44m4\u001b[0m\u001b[42m1\u001b[0m\u001b[44m4\u001b[0m\u001b[41m6\u001b[0m\u001b[44m4\u001b[0m\u001b[43m3\u001b[0m\u001b[42m1\u001b[0m\u001b[43m3\u001b[0m\u001b[42m1\u001b[0m\u001b[43m3\u001b[0m\u001b[44m4\u001b[0m\u001b[44m4\u001b[0m\u001b[42m1\u001b[0m\u001b[44m4\u001b[0m\u001b[41m6\u001b[0m\u001b[43m3\u001b[0m\u001b[44m4\u001b[0m\u001b[43m3\u001b[0m\u001b[44m4\u001b[0m\u001b[41m6\u001b[0m\u001b[44m4\u001b[0m\u001b[43m3\u001b[0m\u001b[41m6\u001b[0m\u001b[43m3\u001b[0m\u001b[44m4\u001b[0m\u001b[44m4\u001b[0m\u001b[43m3\u001b[0m\u001b[44m4\u001b[0m\u001b[44m4\u001b[0m\u001b[42m1\u001b[0m\u001b[44m4\u001b[0m\u001b[41m6\u001b[0m\u001b[44m4\u001b[0m\u001b[41m6\u001b[0m\u001b[42m1\u001b[0m\u001b[41m6\u001b[0m\u001b[44m4\u001b[0m\u001b[44m4\u001b[0m\u001b[44m4\u001b[0m\u001b[44m4\u001b[0m\u001b[42m1\u001b[0m\u001b[41m6\u001b[0m\u001b[43m3\u001b[0m\u001b[44m4\u001b[0m\u001b[44m4\u001b[0m\u001b[43m3\u001b[0m\u001b[43m3\u001b[0m\u001b[42m1\u001b[0m\u001b[42m1\u001b[0m\u001b[43m3\u001b[0m\u001b[44m4\u001b[0m\u001b[44m4\u001b[0m\u001b[42m1\u001b[0m\u001b[43m3\u001b[0m\u001b[43m3\u001b[0m\u001b[41m6\u001b[0m\u001b[42m1\u001b[0m\u001b[42m1\u001b[0m\u001b[43m3\u001b[0m\u001b[43m3\u001b[0m\u001b[44m4\u001b[0m\u001b[44m4\u001b[0m\u001b[43m3\u001b[0m\u001b[43m3\u001b[0m\u001b[44m4\u001b[0m\u001b[44m4\u001b[0m\u001b[43m3\u001b[0m\u001b[41m6\u001b[0m\u001b[44m4\u001b[0m\u001b[44m4\u001b[0m\u001b[44m4\u001b[0m\u001b[41m6\u001b[0m\u001b[43m3\u001b[0m\u001b[43m3\u001b[0m\u001b[43m3\u001b[0m\u001b[42m1\u001b[0m\u001b[43m3\u001b[0m\u001b[43m3\u001b[0m\u001b[42m1\u001b[0m\u001b[43m3\u001b[0m\u001b[44m4\u001b[0m\u001b[43m3\u001b[0m\u001b[44m4\u001b[0m\u001b[44m4\u001b[0m\u001b[43m3\u001b[0m\u001b[42m1\u001b[0m\u001b[43m3\u001b[0m\u001b[42m1\u001b[0m\u001b[44m4\u001b[0m\u001b[44m4\u001b[0m\u001b[44m4\u001b[0m\u001b[43m3\u001b[0m\u001b[44m4\u001b[0m\u001b[43m3\u001b[0m\u001b[43m3\u001b[0m\u001b[44m4\u001b[0m\u001b[43m3\u001b[0m\u001b[44m4\u001b[0m\u001b[42m1\u001b[0m\u001b[43m3\u001b[0m\u001b[43m3\u001b[0m\u001b[43m3\u001b[0m\u001b[43m3\u001b[0m\u001b[42m1\u001b[0m\u001b[44m4\u001b[0m\u001b[42m1\u001b[0m\u001b[43m3\u001b[0m\u001b[43m3\u001b[0m\u001b[44m4\u001b[0m\u001b[44m4\u001b[0m\u001b[44m4\u001b[0m\u001b[44m4\u001b[0m\u001b[42m1\u001b[0m\u001b[42m1\u001b[0m\u001b[42m1\u001b[0m\u001b[44m4\u001b[0m\u001b[43m3\u001b[0m\u001b[44m4\u001b[0m\u001b[41m6\u001b[0m\u001b[42m1\u001b[0m\u001b[44m4\u001b[0m\u001b[42m1\u001b[0m\u001b[42m1\u001b[0m\u001b[44m4\u001b[0m\u001b[43m3\u001b[0m\u001b[41m6\u001b[0m\u001b[44m4\u001b[0m\u001b[44m4\u001b[0m\u001b[43m3\u001b[0m\u001b[43m3\u001b[0m\u001b[43m3\u001b[0m\u001b[41m6\u001b[0m\u001b[44m4\u001b[0m\u001b[41m6\u001b[0m\u001b[42m1\u001b[0m\u001b[43m3\u001b[0m\u001b[44m4\u001b[0m\u001b[44m4\u001b[0m\u001b[44m4\u001b[0m\u001b[44m4\u001b[0m\u001b[44m4\u001b[0m\u001b[43m3\u001b[0m\u001b[43m3\u001b[0m\u001b[44m4\u001b[0m\u001b[44m4\u001b[0m\u001b[44m4\u001b[0m\u001b[42m1\u001b[0m\u001b[43m3\u001b[0m\u001b[43m3\u001b[0m\u001b[43m3\u001b[0m\u001b[41m6\u001b[0m\u001b[44m4\u001b[0m\u001b[44m4\u001b[0m\u001b[44m4\u001b[0m\u001b[41m6\u001b[0m\u001b[41m6\u001b[0m\u001b[44m4\u001b[0m\u001b[43m3\u001b[0m\u001b[42m1\u001b[0m\u001b[43m3\u001b[0m\u001b[44m4\u001b[0m\u001b[44m4\u001b[0m\u001b[43m3\u001b[0m\u001b[41m6\u001b[0m\u001b[43m3\u001b[0m\u001b[43m3\u001b[0m\u001b[42m1\u001b[0m\u001b[43m3\u001b[0m\u001b[42m1\u001b[0m\u001b[44m4\u001b[0m\u001b[44m4\u001b[0m\u001b[41m6\u001b[0m\u001b[42m1\u001b[0m\u001b[43m3\u001b[0m\u001b[44m4\u001b[0m\u001b[43m3\u001b[0m\u001b[41m6\u001b[0m\u001b[42m1\u001b[0m\u001b[44m4\u001b[0m\u001b[42m1\u001b[0m\u001b[41m6\u001b[0m\u001b[41m6\u001b[0m\u001b[42m1\u001b[0m\u001b[42m1\u001b[0m\u001b[42m1\u001b[0m\u001b[42m1\u001b[0m\u001b[44m4\u001b[0m\u001b[42m1\u001b[0m\u001b[44m4\u001b[0m\u001b[44m4\u001b[0m\u001b[44m4\u001b[0m\u001b[43m3\u001b[0m\u001b[43m3\u001b[0m\u001b[44m4\u001b[0m\u001b[43m3\u001b[0m\u001b[42m1\u001b[0m\u001b[41m6\u001b[0m\u001b[43m3\u001b[0m\u001b[44m4\u001b[0m\u001b[42m1\u001b[0m\u001b[44m4\u001b[0m\u001b[44m4\u001b[0m\u001b[44m4\u001b[0m\u001b[43m3\u001b[0m\u001b[41m6\u001b[0m\u001b[43m3\u001b[0m\u001b[42m1\u001b[0m\u001b[42m1\u001b[0m\u001b[44m4\u001b[0m\u001b[41m6\u001b[0m\u001b[43m3\u001b[0m\u001b[41m6\u001b[0m\u001b[44m4\u001b[0m\u001b[43m3\u001b[0m\u001b[44m4\u001b[0m\u001b[43m3\u001b[0m\u001b[43m3\u001b[0m\u001b[44m4\u001b[0m\u001b[42m1\u001b[0m\u001b[43m3\u001b[0m\u001b[43m3\u001b[0m\u001b[43m3\u001b[0m\u001b[42m1\u001b[0m\u001b[42m1\u001b[0m\u001b[42m1\u001b[0m\u001b[41m6\u001b[0m\u001b[44m4\u001b[0m\u001b[44m4\u001b[0m\u001b[43m3\u001b[0m\u001b[44m4\u001b[0m\u001b[44m4\u001b[0m\u001b[41m6\u001b[0m\u001b[43m3\u001b[0m\u001b[42m1\u001b[0m\u001b[43m3\u001b[0m\u001b[43m3\u001b[0m\u001b[44m4\u001b[0m\u001b[43m3\u001b[0m\u001b[43m3\u001b[0m\u001b[44m4\u001b[0m\u001b[42m1\u001b[0m\u001b[44m4\u001b[0m\u001b[43m3\u001b[0m\u001b[42m1\u001b[0m\u001b[44m4\u001b[0m\u001b[44m4\u001b[0m\u001b[42m1\u001b[0m\u001b[43m3\u001b[0m\u001b[44m4\u001b[0m\u001b[43m3\u001b[0m\u001b[42m1\u001b[0m\u001b[41m6\u001b[0m\u001b[44m4\u001b[0m\u001b[44m4\u001b[0m\u001b[44m4\u001b[0m\u001b[44m4\u001b[0m\u001b[43m3\u001b[0m\u001b[44m4\u001b[0m\u001b[42m1\u001b[0m\u001b[42m1\u001b[0m\u001b[41m6\u001b[0m\u001b[41m6\u001b[0m\u001b[43m3\u001b[0m\u001b[42m1\u001b[0m\u001b[42m1\u001b[0m\u001b[41m6\u001b[0m\u001b[43m3\u001b[0m\u001b[44m4\u001b[0m\u001b[43m3\u001b[0m\u001b[44m4\u001b[0m\u001b[41m6\u001b[0m\u001b[43m3\u001b[0m\u001b[44m4\u001b[0m\u001b[44m4\u001b[0m\u001b[43m3\u001b[0m\u001b[44m4\u001b[0m\u001b[44m4\u001b[0m\u001b[44m4\u001b[0m\u001b[42m1\u001b[0m\u001b[44m4\u001b[0m\u001b[44m4\u001b[0m\u001b[44m4\u001b[0m\u001b[44m4\u001b[0m\u001b[42m1\u001b[0m\u001b[42m1\u001b[0m\u001b[42m1\u001b[0m\u001b[41m6\u001b[0m\u001b[42m1\u001b[0m\u001b[44m4\u001b[0m\u001b[44m4\u001b[0m\u001b[44m4\u001b[0m\u001b[44m4\u001b[0m\u001b[43m3\u001b[0m\u001b[44m4\u001b[0m\u001b[43m3\u001b[0m\u001b[42m1\u001b[0m\u001b[44m4\u001b[0m\u001b[44m4\u001b[0m\u001b[44m4\u001b[0m\u001b[42m1\u001b[0m\u001b[44m4\u001b[0m\u001b[42m1\u001b[0m\u001b[44m4\u001b[0m\u001b[42m1\u001b[0m\u001b[44m4\u001b[0m\u001b[44m4\u001b[0m\u001b[43m3\u001b[0m\u001b[44m4\u001b[0m\u001b[44m4\u001b[0m\u001b[44m4\u001b[0m\u001b[44m4\u001b[0m\u001b[44m4\u001b[0m\u001b[43m3\u001b[0m\u001b[43m3\u001b[0m\u001b[44m4\u001b[0m\u001b[43m3\u001b[0m\u001b[44m4\u001b[0m\u001b[44m4\u001b[0m\u001b[44m4\u001b[0m\u001b[43m3\u001b[0m\u001b[43m3\u001b[0m\u001b[43m3\u001b[0m\u001b[44m4\u001b[0m\u001b[44m4\u001b[0m\u001b[43m3\u001b[0m\u001b[41m6\u001b[0m\u001b[43m3\u001b[0m\u001b[44m4\u001b[0m\u001b[43m3\u001b[0m\u001b[44m4\u001b[0m\u001b[44m4\u001b[0m\u001b[44m4\u001b[0m\u001b[44m4\u001b[0m\u001b[43m3\u001b[0m\u001b[43m3\u001b[0m\u001b[44m4\u001b[0m\u001b[42m1\u001b[0m\u001b[42m1\u001b[0m\u001b[43m3\u001b[0m\u001b[42m1\u001b[0m\u001b[41m6\u001b[0m\u001b[43m3\u001b[0m\u001b[44m4\u001b[0m\u001b[42m1\u001b[0m\u001b[44m4\u001b[0m\u001b[44m4\u001b[0m\u001b[43m3\u001b[0m\u001b[44m4\u001b[0m\u001b[42m1\u001b[0m\u001b[44m4\u001b[0m\u001b[42m1\u001b[0m\u001b[44m4\u001b[0m\u001b[43m3\u001b[0m\u001b[43m3\u001b[0m\u001b[43m3\u001b[0m\u001b[44m4\u001b[0m\u001b[43m3\u001b[0m\u001b[42m1\u001b[0m\u001b[44m4\u001b[0m\u001b[41m6\u001b[0m\u001b[42m1\u001b[0m\u001b[42m1\u001b[0m\u001b[44m4\u001b[0m\u001b[42m1\u001b[0m\u001b[44m4\u001b[0m\u001b[42m1\u001b[0m\u001b[41m6\u001b[0m\u001b[41m6\u001b[0m\u001b[44m4\u001b[0m\u001b[43m3\u001b[0m\u001b[42m1\u001b[0m\u001b[44m4\u001b[0m\u001b[44m4\u001b[0m\u001b[44m4\u001b[0m\u001b[44m4\u001b[0m\u001b[44m4\u001b[0m\u001b[44m4\u001b[0m\u001b[44m4\u001b[0m\u001b[42m1\u001b[0m\u001b[41m6\u001b[0m\u001b[42m1\u001b[0m\u001b[43m3\u001b[0m\u001b[44m4\u001b[0m\u001b[43m3\u001b[0m\u001b[43m3\u001b[0m\u001b[44m4\u001b[0m\u001b[44m4\u001b[0m\u001b[44m4\u001b[0m\u001b[42m1\u001b[0m\u001b[44m4\u001b[0m\u001b[44m4\u001b[0m\u001b[43m3\u001b[0m\u001b[42m1\u001b[0m\u001b[42m1\u001b[0m\u001b[44m4\u001b[0m\u001b[44m4\u001b[0m\u001b[42m1\u001b[0m\u001b[41m6\u001b[0m\u001b[42m1\u001b[0m\u001b[43m3\u001b[0m\u001b[44m4\u001b[0m\u001b[44m4\u001b[0m\u001b[44m4\u001b[0m\u001b[43m3\u001b[0m\u001b[42m1\u001b[0m\u001b[44m4\u001b[0m\u001b[43m3\u001b[0m\u001b[43m3\u001b[0m\u001b[43m3\u001b[0m\u001b[43m3\u001b[0m\u001b[42m1\u001b[0m\u001b[42m1\u001b[0m\u001b[44m4\u001b[0m\u001b[43m3\u001b[0m\u001b[44m4\u001b[0m\u001b[41m6\u001b[0m\u001b[41m6\u001b[0m\u001b[44m4\u001b[0m\u001b[44m4\u001b[0m\u001b[44m4\u001b[0m\u001b[43m3\u001b[0m\u001b[42m1\u001b[0m\u001b[43m3\u001b[0m\u001b[43m3\u001b[0m\u001b[43m3\u001b[0m\u001b[44m4\u001b[0m\u001b[44m4\u001b[0m\u001b[44m4\u001b[0m\u001b[43m3\u001b[0m\u001b[42m1\u001b[0m\u001b[42m1\u001b[0m\u001b[44m4\u001b[0m\u001b[44m4\u001b[0m\u001b[43m3\u001b[0m\u001b[43m3\u001b[0m\u001b[43m3\u001b[0m\u001b[44m4\u001b[0m\u001b[42m1\u001b[0m\u001b[41m6\u001b[0m\u001b[44m4\u001b[0m\u001b[43m3\u001b[0m\u001b[43m3\u001b[0m\u001b[43m3\u001b[0m\u001b[43m3\u001b[0m\u001b[44m4\u001b[0m\u001b[43m3\u001b[0m\u001b[43m3\u001b[0m\u001b[44m4\u001b[0m\u001b[41m6\u001b[0m\u001b[42m1\u001b[0m\u001b[42m1\u001b[0m\u001b[43m3\u001b[0m\u001b[43m3\u001b[0m\u001b[44m4\u001b[0m\u001b[44m4\u001b[0m\u001b[42m1\u001b[0m\u001b[44m4\u001b[0m\u001b[42m1\u001b[0m\u001b[43m3\u001b[0m\u001b[42m1\u001b[0m\u001b[42m1\u001b[0m\u001b[43m3\u001b[0m\u001b[41m6\u001b[0m\u001b[41m6\u001b[0m\u001b[43m3\u001b[0m\u001b[43m3\u001b[0m\u001b[43m3\u001b[0m\u001b[44m4\u001b[0m\u001b[43m3\u001b[0m\u001b[44m4\u001b[0m\u001b[44m4\u001b[0m\u001b[42m1\u001b[0m\u001b[43m3\u001b[0m\u001b[42m1\u001b[0m\u001b[44m4\u001b[0m\u001b[44m4\u001b[0m\u001b[44m4\u001b[0m\u001b[44m4\u001b[0m\u001b[44m4\u001b[0m\u001b[44m4\u001b[0m\u001b[41m6\u001b[0m\u001b[42m1\u001b[0m\u001b[43m3\u001b[0m\u001b[43m3\u001b[0m\u001b[43m3\u001b[0m\u001b[44m4\u001b[0m\u001b[41m6\u001b[0m\u001b[44m4\u001b[0m\u001b[43m3\u001b[0m\u001b[44m4\u001b[0m\u001b[42m1\u001b[0m\u001b[43m3\u001b[0m\u001b[41m6\u001b[0m\u001b[44m4\u001b[0m\u001b[44m4\u001b[0m\u001b[44m4\u001b[0m\u001b[42m1\u001b[0m\u001b[44m4\u001b[0m\u001b[43m3\u001b[0m\u001b[44m4\u001b[0m\u001b[43m3\u001b[0m\u001b[41m6\u001b[0m\u001b[44m4\u001b[0m\u001b[43m3\u001b[0m\u001b[43m3\u001b[0m\u001b[42m1\u001b[0m\u001b[44m4\u001b[0m\u001b[42m1\u001b[0m\u001b[42m1\u001b[0m\u001b[44m4\u001b[0m\u001b[44m4\u001b[0m\u001b[43m3\u001b[0m\u001b[42m1\u001b[0m\u001b[42m1\u001b[0m\u001b[43m3\u001b[0m\u001b[43m3\u001b[0m\u001b[43m3\u001b[0m\u001b[43m3\u001b[0m\u001b[43m3\u001b[0m\u001b[42m1\u001b[0m\u001b[43m3\u001b[0m\u001b[43m3\u001b[0m\u001b[41m6\u001b[0m\u001b[42m1\u001b[0m\u001b[43m3\u001b[0m\u001b[43m3\u001b[0m\u001b[44m4\u001b[0m\u001b[44m4\u001b[0m\u001b[44m4\u001b[0m\u001b[42m1\u001b[0m\u001b[44m4\u001b[0m\u001b[42m1\u001b[0m\u001b[43m3\u001b[0m\u001b[44m4\u001b[0m\u001b[42m1\u001b[0m\u001b[43m3\u001b[0m\u001b[42m1\u001b[0m\u001b[44m4\u001b[0m\u001b[43m3\u001b[0m\u001b[43m3\u001b[0m\u001b[44m4\u001b[0m\u001b[44m4\u001b[0m\u001b[44m4\u001b[0m\u001b[43m3\u001b[0m\u001b[43m3\u001b[0m\u001b[44m4\u001b[0m\u001b[44m4\u001b[0m\u001b[43m3\u001b[0m\u001b[43m3\u001b[0m\u001b[43m3\u001b[0m\u001b[44m4\u001b[0m\u001b[43m3\u001b[0m\u001b[41m6\u001b[0m\u001b[44m4\u001b[0m\u001b[43m3\u001b[0m\u001b[43m3\u001b[0m\u001b[43m3\u001b[0m\u001b[41m6\u001b[0m\u001b[44m4\u001b[0m\u001b[41m6\u001b[0m\u001b[44m4\u001b[0m\u001b[44m4\u001b[0m\u001b[42m1\u001b[0m\u001b[42m1\u001b[0m\u001b[43m3\u001b[0m\u001b[44m4\u001b[0m\u001b[42m1\u001b[0m\u001b[42m1\u001b[0m\u001b[44m4\u001b[0m\u001b[44m4\u001b[0m\u001b[43m3\u001b[0m\u001b[42m1\u001b[0m\u001b[44m4\u001b[0m\u001b[43m3\u001b[0m\u001b[43m3\u001b[0m\u001b[42m1\u001b[0m\u001b[42m1\u001b[0m\u001b[42m1\u001b[0m\u001b[42m1\u001b[0m\u001b[42m1\u001b[0m\u001b[44m4\u001b[0m\u001b[43m3\u001b[0m\u001b[42m1\u001b[0m\u001b[44m4\u001b[0m\u001b[41m6\u001b[0m\u001b[44m4\u001b[0m\u001b[43m3\u001b[0m\u001b[44m4\u001b[0m\u001b[43m3\u001b[0m\u001b[41m6\u001b[0m\u001b[41m6\u001b[0m\u001b[44m4\u001b[0m\u001b[43m3\u001b[0m\u001b[43m3\u001b[0m\u001b[41m6\u001b[0m\u001b[44m4\u001b[0m\u001b[42m1\u001b[0m\u001b[43m3\u001b[0m\u001b[44m4\u001b[0m\u001b[44m4\u001b[0m\u001b[44m4\u001b[0m\u001b[43m3\u001b[0m\u001b[44m4\u001b[0m\u001b[44m4\u001b[0m\u001b[42m1\u001b[0m\u001b[42m1\u001b[0m\u001b[42m1\u001b[0m\u001b[44m4\u001b[0m\u001b[42m1\u001b[0m\u001b[41m6\u001b[0m\u001b[44m4\u001b[0m\u001b[44m4\u001b[0m\u001b[43m3\u001b[0m\u001b[43m3\u001b[0m\u001b[44m4\u001b[0m\u001b[42m1\u001b[0m\u001b[43m3\u001b[0m\u001b[41m6\u001b[0m\u001b[44m4\u001b[0m\u001b[44m4\u001b[0m\u001b[43m3\u001b[0m\u001b[43m3\u001b[0m\u001b[42m1\u001b[0m\u001b[43m3\u001b[0m\u001b[41m6\u001b[0m\u001b[42m1\u001b[0m\u001b[43m3\u001b[0m\u001b[42m1\u001b[0m\u001b[43m3\u001b[0m\u001b[42m1\u001b[0m\u001b[44m4\u001b[0m\u001b[44m4\u001b[0m\u001b[42m1\u001b[0m\u001b[42m1\u001b[0m\u001b[41m6\u001b[0m\u001b[43m3\u001b[0m\u001b[41m6\u001b[0m\u001b[42m1\u001b[0m\u001b[42m1\u001b[0m\u001b[41m6\u001b[0m\u001b[44m4\u001b[0m\u001b[43m3\u001b[0m\u001b[43m3\u001b[0m\u001b[44m4\u001b[0m\u001b[43m3\u001b[0m\u001b[43m3\u001b[0m\u001b[43m3\u001b[0m\u001b[42m1\u001b[0m\u001b[41m6\u001b[0m\u001b[44m4\u001b[0m\u001b[44m4\u001b[0m\u001b[42m1\u001b[0m\u001b[44m4\u001b[0m\u001b[43m3\u001b[0m\u001b[44m4\u001b[0m\u001b[44m4\u001b[0m\u001b[43m3\u001b[0m\u001b[44m4\u001b[0m\u001b[44m4\u001b[0m\u001b[42m1\u001b[0m\u001b[43m3\u001b[0m\u001b[43m3\u001b[0m\u001b[44m4\u001b[0m\u001b[42m1\u001b[0m\u001b[44m4\u001b[0m\u001b[44m4\u001b[0m\u001b[42m1\u001b[0m\u001b[44m4\u001b[0m\u001b[42m1\u001b[0m\u001b[41m6\u001b[0m\u001b[43m3\u001b[0m\u001b[43m3\u001b[0m\u001b[43m3\u001b[0m\u001b[44m4\u001b[0m\u001b[41m6\u001b[0m\u001b[44m4\u001b[0m\u001b[43m3\u001b[0m\u001b[43m3\u001b[0m\u001b[42m1\u001b[0m\u001b[44m4\u001b[0m\u001b[41m6\u001b[0m\u001b[42m1\u001b[0m\u001b[42m1\u001b[0m\u001b[43m3\u001b[0m\u001b[44m4\u001b[0m\u001b[44m4\u001b[0m\u001b[41m6\u001b[0m\u001b[44m4\u001b[0m\u001b[42m1\u001b[0m\u001b[43m3\u001b[0m\u001b[44m4\u001b[0m\u001b[44m4\u001b[0m\u001b[44m4\u001b[0m\u001b[43m3\u001b[0m\u001b[44m4\u001b[0m\u001b[43m3\u001b[0m\u001b[44m4\u001b[0m\u001b[41m6\u001b[0m\u001b[44m4\u001b[0m\u001b[43m3\u001b[0m\u001b[44m4\u001b[0m\u001b[42m1\u001b[0m\u001b[44m4\u001b[0m\u001b[43m3\u001b[0m\u001b[44m4\u001b[0m\u001b[43m3\u001b[0m\u001b[44m4\u001b[0m\u001b[44m4\u001b[0m\u001b[43m3\u001b[0m\u001b[43m3\u001b[0m\u001b[43m3\u001b[0m\u001b[43m3\u001b[0m\u001b[44m4\u001b[0m\u001b[43m3\u001b[0m\u001b[44m4\u001b[0m\u001b[44m4\u001b[0m\u001b[43m3\u001b[0m\u001b[43m3\u001b[0m\u001b[43m3\u001b[0m\u001b[41m6\u001b[0m\u001b[44m4\u001b[0m\u001b[42m1\u001b[0m\u001b[42m1\u001b[0m\u001b[43m3\u001b[0m\u001b[43m3\u001b[0m\u001b[44m4\u001b[0m\u001b[44m4\u001b[0m\u001b[44m4\u001b[0m\u001b[41m6\u001b[0m\u001b[44m4\u001b[0m\u001b[43m3\u001b[0m\u001b[42m1\u001b[0m\u001b[44m4\u001b[0m\u001b[41m6\u001b[0m\u001b[44m4\u001b[0m\n",
      "\n",
      "\u001b[41m6\u001b[0m probability=0.10 frequency= 103/1000 = 0.10 \n",
      "\u001b[42m1\u001b[0m probability=0.20 frequency= 194/1000 = 0.19 \n",
      "\u001b[43m3\u001b[0m probability=0.30 frequency= 301/1000 = 0.30 \n",
      "\u001b[44m4\u001b[0m probability=0.40 frequency= 402/1000 = 0.40 \n"
     ]
    }
   ],
   "source": [
    "n=1000\n",
    "R=np.random.rand(n)\n",
    "_syms,counts=rand2sym(R)\n",
    "print ''.join(_syms)\n",
    "#print counts\n",
    "f=[float(y)/n for x,y in counts.items()]\n",
    "print\n",
    "#print 'number of trials (n)=',n\n",
    "for i in range(4):\n",
    "    print '%s probability=%3.2f frequency= %d/%d = %3.2f '%(sym[i],p[i+1],counts.items()[i][1],n,f[i])"
   ]
  },
  {
   "cell_type": "code",
   "execution_count": null,
   "metadata": {
    "collapsed": true
   },
   "outputs": [],
   "source": []
  }
 ],
 "metadata": {
  "kernelspec": {
   "display_name": "Python 2",
   "language": "python",
   "name": "python2"
  },
  "language_info": {
   "codemirror_mode": {
    "name": "ipython",
    "version": 2
   },
   "file_extension": ".py",
   "mimetype": "text/x-python",
   "name": "python",
   "nbconvert_exporter": "python",
   "pygments_lexer": "ipython2",
   "version": "2.7.13"
  },
  "toc": {
   "colors": {
    "hover_highlight": "#DAA520",
    "navigate_num": "#000000",
    "navigate_text": "#333333",
    "running_highlight": "#FF0000",
    "selected_highlight": "#FFD700",
    "sidebar_border": "#EEEEEE",
    "wrapper_background": "#FFFFFF"
   },
   "moveMenuLeft": true,
   "nav_menu": {
    "height": "12px",
    "width": "252px"
   },
   "navigate_menu": true,
   "number_sections": true,
   "sideBar": true,
   "threshold": 4,
   "toc_cell": false,
   "toc_section_display": "block",
   "toc_window_display": false,
   "widenNotebook": false
  }
 },
 "nbformat": 4,
 "nbformat_minor": 2
}
