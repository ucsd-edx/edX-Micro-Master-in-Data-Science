{
 "cells": [
  {
   "cell_type": "markdown",
   "metadata": {},
   "source": [
    "Define the notation $|A|$"
   ]
  },
  {
   "cell_type": "markdown",
   "metadata": {},
   "source": [
    "# Counting\n",
    "\n",
    "## Cartesian Products\n",
    "\n",
    "We'll find the cartesian product of two sets $A$ and $B$ and determine $A\\times B$, first by counting the number of elements in $A\\times B$, then by simply multiplying $|A|$ by $|B|$."
   ]
  },
  {
   "cell_type": "code",
   "execution_count": 1,
   "metadata": {
    "collapsed": true
   },
   "outputs": [],
   "source": [
    "import itertools"
   ]
  },
  {
   "cell_type": "code",
   "execution_count": 2,
   "metadata": {
    "collapsed": true
   },
   "outputs": [],
   "source": [
    "A = {1, 2, 3}\n",
    "B = {4, 5}"
   ]
  },
  {
   "cell_type": "code",
   "execution_count": 1,
   "metadata": {},
   "outputs": [
    {
     "ename": "SyntaxError",
     "evalue": "invalid syntax (<ipython-input-1-d6359106f4d2>, line 3)",
     "output_type": "error",
     "traceback": [
      "\u001b[0;36m  File \u001b[0;32m\"<ipython-input-1-d6359106f4d2>\"\u001b[0;36m, line \u001b[0;32m3\u001b[0m\n\u001b[0;31m    print(\"Ordered pairs in %s x %s:  \" %(A,B), end ='')\u001b[0m\n\u001b[0m                                                    ^\u001b[0m\n\u001b[0;31mSyntaxError\u001b[0m\u001b[0;31m:\u001b[0m invalid syntax\n"
     ]
    }
   ],
   "source": [
    "# Find cartesian product A X B and its size\n",
    "cartesian_product = set([i for i in itertools.product(A, B)])\n",
    "print(\"Ordered pairs in %s x %s:  \" %(A,B), end ='')\n",
    "for i in cartesian_product:\n",
    "    print(i, end = \"  \")\n",
    "print(\"\\n\\nSize = %i\\n\" %len(cartesian_product), sep=\"\")"
   ]
  },
  {
   "cell_type": "code",
   "execution_count": 4,
   "metadata": {},
   "outputs": [
    {
     "name": "stdout",
     "output_type": "stream",
     "text": [
      "6\n"
     ]
    }
   ],
   "source": [
    "# Find |A X B| directly\n",
    "print(len(A)*len(B))"
   ]
  },
  {
   "cell_type": "code",
   "execution_count": 5,
   "metadata": {
    "collapsed": true
   },
   "outputs": [],
   "source": [
    "A = {1, 2, 3}\n",
    "k = 2"
   ]
  },
  {
   "cell_type": "markdown",
   "metadata": {},
   "source": [
    "We now find the size of $A^k$, the $k$-th cartesian power of $A$, first by determining all the elements of the set and then by finding $|A|^k$."
   ]
  },
  {
   "cell_type": "code",
   "execution_count": 6,
   "metadata": {
    "scrolled": false
   },
   "outputs": [
    {
     "name": "stdout",
     "output_type": "stream",
     "text": [
      "Tuples in {1, 2, 3}^2: (1, 2)  (3, 2)  (1, 3)  (3, 3)  (3, 1)  (2, 1)  (2, 3)  (2, 2)  (1, 1)  \n",
      "\n",
      "Size = 9\n"
     ]
    }
   ],
   "source": [
    "# Find k'th cartesian power of A\n",
    "cartesian_product = set([i for i in itertools.product(A, repeat = k)])\n",
    "print(\"Tuples in %s^%i: \" %(A,k), end=\"\")\n",
    "for i in cartesian_product:\n",
    "    print(i, end='  ')\n",
    "print(\"\\n\\nSize = \", len(cartesian_product), sep=\"\")"
   ]
  },
  {
   "cell_type": "code",
   "execution_count": 7,
   "metadata": {},
   "outputs": [
    {
     "name": "stdout",
     "output_type": "stream",
     "text": [
      "9\n"
     ]
    }
   ],
   "source": [
    "# Find |A|^k directly\n",
    "print(len(A)**k)"
   ]
  },
  {
   "cell_type": "markdown",
   "metadata": {},
   "source": [
    "## Permutations\n",
    "We find the number of $k$-permutations of $A$, first by determining the set of permutations and then by simply calculating $\\frac{|A|!}{(|A|-k)!}$. We first treat the special case of $k=|A|$, which is equivalent to finding the number of ways of ordering the elements of $A$."
   ]
  },
  {
   "cell_type": "code",
   "execution_count": 8,
   "metadata": {
    "collapsed": true
   },
   "outputs": [],
   "source": [
    "A = {1, 2, 3}\n",
    "k = 2"
   ]
  },
  {
   "cell_type": "code",
   "execution_count": 9,
   "metadata": {},
   "outputs": [
    {
     "name": "stdout",
     "output_type": "stream",
     "text": [
      "Permutations of {1, 2, 3}:  (3, 1, 2)  (1, 3, 2)  (3, 2, 1)  (2, 3, 1)  (1, 2, 3)  (2, 1, 3)  \n",
      "\n",
      "Size = 6\n"
     ]
    }
   ],
   "source": [
    "# Find all permutations of A and |A!|\n",
    "permute_all = set(itertools.permutations(A))\n",
    "print(\"Permutations of %s:  \" %A, end=\"\")\n",
    "for i in permute_all:\n",
    "    print(i, end='  ')\n",
    "print(\"\\n\\nSize = \", len(permute_all), sep=\"\")"
   ]
  },
  {
   "cell_type": "code",
   "execution_count": 10,
   "metadata": {},
   "outputs": [
    {
     "name": "stdout",
     "output_type": "stream",
     "text": [
      "6\n"
     ]
    }
   ],
   "source": [
    "# Find |A|! directly\n",
    "from math import factorial\n",
    "print(factorial(len(A)))"
   ]
  },
  {
   "cell_type": "code",
   "execution_count": 11,
   "metadata": {
    "collapsed": true
   },
   "outputs": [],
   "source": [
    "A = {1, 2, 3, 4}\n",
    "k = 3"
   ]
  },
  {
   "cell_type": "code",
   "execution_count": 12,
   "metadata": {},
   "outputs": [
    {
     "name": "stdout",
     "output_type": "stream",
     "text": [
      "3-permutations of {1, 2, 3, 4}:  (1, 2, 3)  (1, 2, 4)  (1, 3, 2)  (1, 3, 4)  (1, 4, 2)  (1, 4, 3)  (2, 1, 3)  (2, 1, 4)  (2, 3, 1)  (2, 3, 4)  (2, 4, 1)  (2, 4, 3)  (3, 1, 2)  (3, 1, 4)  (3, 2, 1)  (3, 2, 4)  (3, 4, 1)  (3, 4, 2)  (4, 1, 2)  (4, 1, 3)  (4, 2, 1)  (4, 2, 3)  (4, 3, 1)  (4, 3, 2)  \n",
      "\n",
      "Size = 4!/(4-3)! = 24\n"
     ]
    }
   ],
   "source": [
    "# Print all the k-permutations of A\n",
    "n = len(A)\n",
    "permute_k = list(itertools.permutations(A, k))\n",
    "print(\"%i-permutations of %s:  \" %(k,A), end = \"\")\n",
    "for i in permute_k:\n",
    "    print(i, end = \"  \")\n",
    "print(\"\\n\\nSize = \", n, \"!/(%i-%i)! = \" %(n,k), len(permute_k), sep=\"\")"
   ]
  },
  {
   "cell_type": "code",
   "execution_count": 13,
   "metadata": {},
   "outputs": [
    {
     "name": "stdout",
     "output_type": "stream",
     "text": [
      "24\n"
     ]
    }
   ],
   "source": [
    "# Print |A|!/(|A|-k)! directly\n",
    "print(int(factorial(len(A))/factorial(len(A)-k)))"
   ]
  },
  {
   "cell_type": "markdown",
   "metadata": {},
   "source": [
    "## Combinations\n",
    "We find the number of $k$-combinations of $A$, first by determining the set of combinations and then by simply calculating ${|A|}\\choose{k}$."
   ]
  },
  {
   "cell_type": "code",
   "execution_count": 14,
   "metadata": {
    "collapsed": true
   },
   "outputs": [],
   "source": [
    "from scipy.special import binom          # to calculate the binomial coefficients |A| choose k"
   ]
  },
  {
   "cell_type": "code",
   "execution_count": 15,
   "metadata": {
    "collapsed": true
   },
   "outputs": [],
   "source": [
    "A = {1, 2, 3, 4}\n",
    "k = 2"
   ]
  },
  {
   "cell_type": "code",
   "execution_count": 16,
   "metadata": {
    "scrolled": true
   },
   "outputs": [
    {
     "name": "stdout",
     "output_type": "stream",
     "text": [
      "2-combinations of {1, 2, 3, 4}:  (1, 2)  (1, 3)  (1, 4)  (2, 3)  (2, 4)  (3, 4)  \n",
      "\n",
      "Size = 4!/(2!(4-2)!) = 6\n"
     ]
    }
   ],
   "source": [
    "# Print all the k-combinations of A\n",
    "choose_k = list(itertools.combinations(A,k))\n",
    "print(\"%i-combinations of %s:  \" %(k,A), end = \"\")\n",
    "for i in choose_k:\n",
    "    print(i, end='  ')\n",
    "print(\"\\n\\nSize = %i!/(%i!(%i-%i)!) = \" %(n,k,n,k), len(choose_k), sep=\"\")"
   ]
  },
  {
   "cell_type": "code",
   "execution_count": 17,
   "metadata": {},
   "outputs": [
    {
     "name": "stdout",
     "output_type": "stream",
     "text": [
      "6\n"
     ]
    }
   ],
   "source": [
    "# Print |A|!/(k!(|A|-k)!) directly\n",
    "print(int(factorial(len(A))/(factorial(k)*factorial(len(A)-k))))"
   ]
  },
  {
   "cell_type": "markdown",
   "metadata": {},
   "source": [
    "###### Note: \n",
    "If you need to use sets of characters such as letters of the English alphabet and concatenate the resulting tuples into strings, you will need to use the <i>join()</i> function which is illustrated in the following examples:"
   ]
  },
  {
   "cell_type": "code",
   "execution_count": 18,
   "metadata": {
    "collapsed": true
   },
   "outputs": [],
   "source": [
    "A = {'a', 'b', 'c', 'q'}\n",
    "k = 3"
   ]
  },
  {
   "cell_type": "code",
   "execution_count": 19,
   "metadata": {},
   "outputs": [
    {
     "name": "stdout",
     "output_type": "stream",
     "text": [
      "3-permutations of {'b', 'a', 'q', 'c'}:  baq   bac   bqa   bqc   bca   bcq   abq   abc   aqb   aqc   acb   acq   qba   qbc   qab   qac   qcb   qca   cba   cbq   cab   caq   cqb   cqa   \n",
      "\n",
      "Size = 4!/(4-3)! = 24\n"
     ]
    }
   ],
   "source": [
    "# Print all the k-permutations of S\n",
    "n = len(A)\n",
    "permute_k = list(itertools.permutations(A, k))\n",
    "print(\"%i-permutations of %s:\" %(k,A), end = \"  \")\n",
    "for i in range(0, len(permute_k)):\n",
    "    print(''.join(permute_k[i]), end='   ')\n",
    "print(\"\\n\\nSize = \", n, \"!/(%i-%i)! = \" %(n,k), len(permute_k), sep=\"\")"
   ]
  },
  {
   "cell_type": "code",
   "execution_count": 20,
   "metadata": {},
   "outputs": [
    {
     "name": "stdout",
     "output_type": "stream",
     "text": [
      "24\n"
     ]
    }
   ],
   "source": [
    "# Print |A|!/(|A|-k)! directly\n",
    "print(int(factorial(len(A))/factorial(len(A)-k)))"
   ]
  },
  {
   "cell_type": "code",
   "execution_count": 21,
   "metadata": {
    "collapsed": true
   },
   "outputs": [],
   "source": [
    "A = {'a', 'b', 'c', 'd'}\n",
    "k = 2"
   ]
  },
  {
   "cell_type": "code",
   "execution_count": 22,
   "metadata": {
    "scrolled": true
   },
   "outputs": [
    {
     "name": "stdout",
     "output_type": "stream",
     "text": [
      "2-combinations of {'b', 'a', 'd', 'c'}:\n",
      "\n",
      "ba   bd   bc   ad   ac   dc   \n",
      "\n",
      "Size = 4!/(2!(4-2)!) = 6\n"
     ]
    }
   ],
   "source": [
    "# Print all the k-combinations of A\n",
    "choose_k = list(itertools.combinations(A,k))\n",
    "print(\"%i-combinations of %s:\\n\" %(k,A))\n",
    "for i in range(0, len(choose_k)):\n",
    "    print(''.join(choose_k[i]), end='   ')\n",
    "print(\"\\n\\nSize = %i!/(%i!(%i-%i)!) = \" %(n,k,n,k), len(choose_k), sep=\"\")"
   ]
  },
  {
   "cell_type": "code",
   "execution_count": 23,
   "metadata": {},
   "outputs": [
    {
     "name": "stdout",
     "output_type": "stream",
     "text": [
      "6\n"
     ]
    }
   ],
   "source": [
    "# Print |A|!/(k!(|A|-k)!) directly\n",
    "print(int(factorial(len(A))/(factorial(k)*factorial(len(A)-k))))"
   ]
  }
 ],
 "metadata": {
  "kernelspec": {
   "display_name": "Python 2",
   "language": "python",
   "name": "python2"
  },
  "language_info": {
   "codemirror_mode": {
    "name": "ipython",
    "version": 2
   },
   "file_extension": ".py",
   "mimetype": "text/x-python",
   "name": "python",
   "nbconvert_exporter": "python",
   "pygments_lexer": "ipython2",
   "version": "2.7.13"
  },
  "toc": {
   "colors": {
    "hover_highlight": "#DAA520",
    "navigate_num": "#000000",
    "navigate_text": "#333333",
    "running_highlight": "#FF0000",
    "selected_highlight": "#FFD700",
    "sidebar_border": "#EEEEEE",
    "wrapper_background": "#FFFFFF"
   },
   "moveMenuLeft": true,
   "nav_menu": {
    "height": "48px",
    "width": "252px"
   },
   "navigate_menu": true,
   "number_sections": true,
   "sideBar": true,
   "threshold": 4,
   "toc_cell": false,
   "toc_section_display": "block",
   "toc_window_display": false,
   "widenNotebook": false
  }
 },
 "nbformat": 4,
 "nbformat_minor": 2
}
