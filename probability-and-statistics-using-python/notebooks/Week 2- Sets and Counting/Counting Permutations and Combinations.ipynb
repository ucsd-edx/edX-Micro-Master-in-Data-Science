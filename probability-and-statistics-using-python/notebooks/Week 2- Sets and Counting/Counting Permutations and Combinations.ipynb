{
 "cells": [
  {
   "cell_type": "markdown",
   "metadata": {},
   "source": [
    "# Counting\n",
    "\n",
    "## Cartesian Products\n",
    "\n",
    "We'll find the cartesian product of two sets $A$ and $B$ and determine $A\\times B$, first by counting the number of elements in $A\\times B$, then by simply multiplying $|A|$ by $|B|$, where $|A|$ is defined to be the number of elements in $|A|$"
   ]
  },
  {
   "cell_type": "code",
   "execution_count": 54,
   "metadata": {
    "collapsed": true
   },
   "outputs": [],
   "source": [
    "import itertools\n",
    "import sys"
   ]
  },
  {
   "cell_type": "code",
   "execution_count": 55,
   "metadata": {
    "collapsed": true
   },
   "outputs": [],
   "source": [
    "A = {1, 2, 3}\n",
    "B = {4, 5}"
   ]
  },
  {
   "cell_type": "code",
   "execution_count": 56,
   "metadata": {},
   "outputs": [
    {
     "name": "stdout",
     "output_type": "stream",
     "text": [
      "Ordered pairs in  set([1, 2, 3])  cross  set([4, 5]) :  \n",
      "(1, 4)\n",
      "(1, 5)\n",
      "(2, 5)\n",
      "(3, 4)\n",
      "(2, 4)\n",
      "(3, 5)\n",
      "\n",
      "Size = 6\n"
     ]
    }
   ],
   "source": [
    "# Find cartesian product A X B and its size\n",
    "cartesian_product = set([i for i in itertools.product(A, B)])\n",
    "print \"Ordered pairs in  %s  cross  %s :  \"%( A, B)\n",
    "for i in cartesian_product:\n",
    "    print i\n",
    "print \"\\nSize = %i\" %len(cartesian_product)"
   ]
  },
  {
   "cell_type": "code",
   "execution_count": 57,
   "metadata": {},
   "outputs": [
    {
     "name": "stdout",
     "output_type": "stream",
     "text": [
      "6\n"
     ]
    }
   ],
   "source": [
    "# Find |A X B| directly\n",
    "print(len(A)*len(B))"
   ]
  },
  {
   "cell_type": "code",
   "execution_count": 58,
   "metadata": {
    "collapsed": true
   },
   "outputs": [],
   "source": [
    "A = {1, 2, 3}\n",
    "k = 2"
   ]
  },
  {
   "cell_type": "markdown",
   "metadata": {},
   "source": [
    "We now find the size of $A^k$, the $k$-th cartesian power of $A$, first by determining all the elements of the set and then by finding $|A|^k$."
   ]
  },
  {
   "cell_type": "code",
   "execution_count": 59,
   "metadata": {
    "scrolled": false
   },
   "outputs": [
    {
     "name": "stdout",
     "output_type": "stream",
     "text": [
      "Tuples in set([1, 2, 3])^2: \n",
      "(1, 2)\n",
      "(3, 2)\n",
      "(1, 3)\n",
      "(3, 3)\n",
      "(3, 1)\n",
      "(2, 1)\n",
      "(2, 3)\n",
      "(2, 2)\n",
      "(1, 1)\n",
      "\n",
      "Size =  9\n"
     ]
    }
   ],
   "source": [
    "# Find k'th cartesian power of A\n",
    "cartesian_product = set([i for i in itertools.product(A, repeat = k)])\n",
    "print \"Tuples in %s^%i: \" %(A,k)\n",
    "for i in cartesian_product:\n",
    "    print i \n",
    "print \"\\nSize = \", len(cartesian_product)"
   ]
  },
  {
   "cell_type": "code",
   "execution_count": 60,
   "metadata": {},
   "outputs": [
    {
     "name": "stdout",
     "output_type": "stream",
     "text": [
      "9\n"
     ]
    }
   ],
   "source": [
    "# Find |A|^k directly\n",
    "print len(A)**k"
   ]
  },
  {
   "cell_type": "markdown",
   "metadata": {},
   "source": [
    "## Permutations\n",
    "We find the number of $k$-permutations of $A$, first by determining the set of permutations and then by simply calculating $\\frac{|A|!}{(|A|-k)!}$. We first treat the special case of $k=|A|$, which is equivalent to finding the number of ways of ordering the elements of $A$."
   ]
  },
  {
   "cell_type": "code",
   "execution_count": 61,
   "metadata": {
    "collapsed": true
   },
   "outputs": [],
   "source": [
    "A = {1, 2, 3}\n",
    "k = 2"
   ]
  },
  {
   "cell_type": "code",
   "execution_count": 62,
   "metadata": {},
   "outputs": [
    {
     "name": "stdout",
     "output_type": "stream",
     "text": [
      "Permutations of set([1, 2, 3]):  \n",
      "(1, 3, 2)\n",
      "(3, 2, 1)\n",
      "(2, 1, 3)\n",
      "(3, 1, 2)\n",
      "(1, 2, 3)\n",
      "(2, 3, 1)\n",
      "\n",
      "Size =  6\n"
     ]
    }
   ],
   "source": [
    "# Find all permutations of A and |A!|\n",
    "permute_all = set(itertools.permutations(A))\n",
    "print \"Permutations of %s:  \" % A\n",
    "for i in permute_all:\n",
    "    print i\n",
    "print \"\\nSize = \", len(permute_all)"
   ]
  },
  {
   "cell_type": "code",
   "execution_count": 63,
   "metadata": {},
   "outputs": [
    {
     "name": "stdout",
     "output_type": "stream",
     "text": [
      "6\n"
     ]
    }
   ],
   "source": [
    "# Find |A|! directly\n",
    "from math import factorial\n",
    "print(factorial(len(A)))"
   ]
  },
  {
   "cell_type": "code",
   "execution_count": 64,
   "metadata": {
    "collapsed": true
   },
   "outputs": [],
   "source": [
    "A = {1, 2, 3, 4}\n",
    "k = 3"
   ]
  },
  {
   "cell_type": "code",
   "execution_count": 65,
   "metadata": {},
   "outputs": [
    {
     "name": "stdout",
     "output_type": "stream",
     "text": [
      "3-permutations of set([1, 2, 3, 4]):  \n",
      "(1, 2, 3)\n",
      "(1, 2, 4)\n",
      "(1, 3, 2)\n",
      "(1, 3, 4)\n",
      "(1, 4, 2)\n",
      "(1, 4, 3)\n",
      "(2, 1, 3)\n",
      "(2, 1, 4)\n",
      "(2, 3, 1)\n",
      "(2, 3, 4)\n",
      "(2, 4, 1)\n",
      "(2, 4, 3)\n",
      "(3, 1, 2)\n",
      "(3, 1, 4)\n",
      "(3, 2, 1)\n",
      "(3, 2, 4)\n",
      "(3, 4, 1)\n",
      "(3, 4, 2)\n",
      "(4, 1, 2)\n",
      "(4, 1, 3)\n",
      "(4, 2, 1)\n",
      "(4, 2, 3)\n",
      "(4, 3, 1)\n",
      "(4, 3, 2)\n",
      "\n",
      "Size =  4 !/(4-3)! =  24\n"
     ]
    }
   ],
   "source": [
    "# Print all the k-permutations of A\n",
    "n = len(A)\n",
    "permute_k = list(itertools.permutations(A, k))\n",
    "print \"%i-permutations of %s:  \" %(k,A) \n",
    "for i in permute_k:\n",
    "    print i\n",
    "print \"\\nSize = \", n, \"!/(%i-%i)! = \" %(n,k), len(permute_k)"
   ]
  },
  {
   "cell_type": "code",
   "execution_count": 66,
   "metadata": {},
   "outputs": [
    {
     "name": "stdout",
     "output_type": "stream",
     "text": [
      "24\n"
     ]
    }
   ],
   "source": [
    "# Print |A|!/(|A|-k)! directly\n",
    "print(int(factorial(len(A))/factorial(len(A)-k)))"
   ]
  },
  {
   "cell_type": "markdown",
   "metadata": {},
   "source": [
    "## Combinations\n",
    "We find the number of $k$-combinations of $A$, first by determining the set of combinations and then by simply calculating ${|A|}\\choose{k}$."
   ]
  },
  {
   "cell_type": "code",
   "execution_count": 67,
   "metadata": {
    "collapsed": true
   },
   "outputs": [],
   "source": [
    "from scipy.special import binom          # to calculate the binomial coefficients |A| choose k"
   ]
  },
  {
   "cell_type": "code",
   "execution_count": 68,
   "metadata": {
    "collapsed": true
   },
   "outputs": [],
   "source": [
    "A = {1, 2, 3, 4}\n",
    "k = 2"
   ]
  },
  {
   "cell_type": "code",
   "execution_count": 69,
   "metadata": {
    "scrolled": true
   },
   "outputs": [
    {
     "name": "stdout",
     "output_type": "stream",
     "text": [
      "2-combinations of set([1, 2, 3, 4]):  \n",
      "(1, 2)\n",
      "(1, 3)\n",
      "(1, 4)\n",
      "(2, 3)\n",
      "(2, 4)\n",
      "(3, 4)\n",
      "\n",
      "Size = 4!/(2!(4-2)!) =  6\n"
     ]
    }
   ],
   "source": [
    "# Print all the k-combinations of A\n",
    "choose_k = list(itertools.combinations(A,k))\n",
    "print \"%i-combinations of %s:  \" %(k,A)\n",
    "for i in choose_k:\n",
    "    print i\n",
    "print \"\\nSize = %i!/(%i!(%i-%i)!) = \" %(n,k,n,k), len(choose_k)"
   ]
  },
  {
   "cell_type": "code",
   "execution_count": 70,
   "metadata": {},
   "outputs": [
    {
     "name": "stdout",
     "output_type": "stream",
     "text": [
      "6\n"
     ]
    }
   ],
   "source": [
    "# Print |A|!/(k!(|A|-k)!) directly\n",
    "print(int(factorial(len(A))/(factorial(k)*factorial(len(A)-k))))"
   ]
  },
  {
   "cell_type": "markdown",
   "metadata": {},
   "source": [
    "###### Note: \n",
    "If you need to use sets of characters such as letters of the English alphabet and concatenate the resulting tuples into strings, you will need to use the <i>join()</i> function which is illustrated in the following examples:"
   ]
  },
  {
   "cell_type": "code",
   "execution_count": 71,
   "metadata": {
    "collapsed": true
   },
   "outputs": [],
   "source": [
    "A = {'a', 'b', 'c', 'q'}\n",
    "k = 3"
   ]
  },
  {
   "cell_type": "code",
   "execution_count": 72,
   "metadata": {},
   "outputs": [
    {
     "name": "stdout",
     "output_type": "stream",
     "text": [
      "3-permutations of set(['a', 'q', 'c', 'b']):\n",
      "\n",
      "aqc aqb acq acb abq abc qac qab qca qcb qba qbc caq cab cqa cqb cba cbq baq bac bqa bqc bca bcq \n",
      "\n",
      "Size =  4 !/(4-3)! =  24\n"
     ]
    }
   ],
   "source": [
    "# Print all the k-permutations of S\n",
    "n = len(A)\n",
    "permute_k = list(itertools.permutations(A, k))\n",
    "print \"%i-permutations of %s:\" %(k,A) ;print\n",
    "for i in range(0, len(permute_k)):\n",
    "    sys.stdout.write( ''.join(permute_k[i]) + \" \" )\n",
    "print \"\\n\\nSize = \", n, \"!/(%i-%i)! = \" %(n,k), len(permute_k)"
   ]
  },
  {
   "cell_type": "code",
   "execution_count": 73,
   "metadata": {},
   "outputs": [
    {
     "name": "stdout",
     "output_type": "stream",
     "text": [
      "24\n"
     ]
    }
   ],
   "source": [
    "# Print |A|!/(|A|-k)! directly\n",
    "print int(factorial(len(A))/factorial(len(A)-k))"
   ]
  },
  {
   "cell_type": "code",
   "execution_count": 74,
   "metadata": {
    "collapsed": true
   },
   "outputs": [],
   "source": [
    "A = {'a', 'b', 'c', 'd'}\n",
    "k = 2"
   ]
  },
  {
   "cell_type": "code",
   "execution_count": 75,
   "metadata": {
    "scrolled": true
   },
   "outputs": [
    {
     "name": "stdout",
     "output_type": "stream",
     "text": [
      "2-combinations of set(['a', 'c', 'b', 'd']):\n",
      "\n",
      "ac\n",
      "ab\n",
      "ad\n",
      "cb\n",
      "cd\n",
      "bd\n",
      "\n",
      "Size = 4!/(2!(4-2)!) =  6\n"
     ]
    }
   ],
   "source": [
    "# Print all the k-combinations of A\n",
    "choose_k = list(itertools.combinations(A,k))\n",
    "print \"%i-combinations of %s:\\n\" %(k,A) \n",
    "for i in range(0, len(choose_k)):\n",
    "    print ''.join(choose_k[i])\n",
    "print \"\\nSize = %i!/(%i!(%i-%i)!) = \" %(n,k,n,k), len(choose_k)"
   ]
  },
  {
   "cell_type": "code",
   "execution_count": 76,
   "metadata": {},
   "outputs": [
    {
     "name": "stdout",
     "output_type": "stream",
     "text": [
      "6\n"
     ]
    }
   ],
   "source": [
    "# Print |A|!/(k!(|A|-k)!) directly\n",
    "print(int(factorial(len(A))/(factorial(k)*factorial(len(A)-k))))"
   ]
  },
  {
   "cell_type": "code",
   "execution_count": null,
   "metadata": {
    "collapsed": true
   },
   "outputs": [],
   "source": [
    "\n",
    "\n",
    "\n"
   ]
  }
 ],
 "metadata": {
  "kernelspec": {
   "display_name": "Python 2",
   "language": "python",
   "name": "python2"
  },
  "language_info": {
   "codemirror_mode": {
    "name": "ipython",
    "version": 2
   },
   "file_extension": ".py",
   "mimetype": "text/x-python",
   "name": "python",
   "nbconvert_exporter": "python",
   "pygments_lexer": "ipython2",
   "version": "2.7.13"
  },
  "toc": {
   "colors": {
    "hover_highlight": "#DAA520",
    "navigate_num": "#000000",
    "navigate_text": "#333333",
    "running_highlight": "#FF0000",
    "selected_highlight": "#FFD700",
    "sidebar_border": "#EEEEEE",
    "wrapper_background": "#FFFFFF"
   },
   "moveMenuLeft": true,
   "nav_menu": {
    "height": "48px",
    "width": "252px"
   },
   "navigate_menu": true,
   "number_sections": true,
   "sideBar": true,
   "threshold": 4,
   "toc_cell": false,
   "toc_section_display": "block",
   "toc_window_display": false,
   "widenNotebook": false
  }
 },
 "nbformat": 4,
 "nbformat_minor": 2
}
