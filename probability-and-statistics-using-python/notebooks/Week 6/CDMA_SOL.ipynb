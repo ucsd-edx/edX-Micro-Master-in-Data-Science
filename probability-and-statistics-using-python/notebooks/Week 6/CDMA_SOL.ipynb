{
 "cells": [
  {
   "cell_type": "code",
   "execution_count": 2,
   "metadata": {
    "collapsed": true
   },
   "outputs": [],
   "source": [
    "import numpy as np"
   ]
  },
  {
   "cell_type": "code",
   "execution_count": 3,
   "metadata": {
    "collapsed": true
   },
   "outputs": [],
   "source": [
    "def generate_code(k, n):\n",
    "    code = 2*np.around(np.random.rand(k, n)) - 1\n",
    "    code = code.astype(int)\n",
    "    return code"
   ]
  },
  {
   "cell_type": "code",
   "execution_count": 4,
   "metadata": {},
   "outputs": [
    {
     "name": "stdout",
     "output_type": "stream",
     "text": [
      "[[-1 -1  1 -1]\n",
      " [-1  1  1 -1]\n",
      " [ 1 -1  1 -1]]\n"
     ]
    }
   ],
   "source": [
    "code = generate_code(3, 4)\n",
    "print(code)"
   ]
  },
  {
   "cell_type": "code",
   "execution_count": 5,
   "metadata": {
    "collapsed": true
   },
   "outputs": [],
   "source": [
    "def encode(code, messages):\n",
    "    message_diag = np.diag(messages)\n",
    "    return np.dot(message_diag, code)"
   ]
  },
  {
   "cell_type": "code",
   "execution_count": 6,
   "metadata": {},
   "outputs": [
    {
     "name": "stdout",
     "output_type": "stream",
     "text": [
      "[[-1 -1  1 -1]\n",
      " [ 1 -1 -1  1]\n",
      " [-1  1 -1  1]]\n"
     ]
    }
   ],
   "source": [
    "codewords = encode(code, [1, -1, -1])\n",
    "print(codewords)"
   ]
  },
  {
   "cell_type": "code",
   "execution_count": 7,
   "metadata": {
    "collapsed": true
   },
   "outputs": [],
   "source": [
    "def receive(codewords):\n",
    "    return np.sum(codewords, axis=0)"
   ]
  },
  {
   "cell_type": "code",
   "execution_count": 7,
   "metadata": {},
   "outputs": [
    {
     "name": "stdout",
     "output_type": "stream",
     "text": [
      "[-1  1  1  3]\n"
     ]
    }
   ],
   "source": [
    "y = receive(codewords)\n",
    "print(y)"
   ]
  },
  {
   "cell_type": "code",
   "execution_count": 8,
   "metadata": {
    "collapsed": true
   },
   "outputs": [],
   "source": [
    "def decode(code, y):           # return all the decoded codewords, solution to homework problem\n",
    "    return np.sign(np.dot(y, np.matrix.transpose(code)))"
   ]
  },
  {
   "cell_type": "code",
   "execution_count": 9,
   "metadata": {},
   "outputs": [
    {
     "name": "stdout",
     "output_type": "stream",
     "text": [
      "[ 1 -1  0]\n"
     ]
    }
   ],
   "source": [
    "decoded_messages = decode(code, y)\n",
    "print(decoded_messages)"
   ]
  },
  {
   "cell_type": "code",
   "execution_count": 24,
   "metadata": {
    "collapsed": true
   },
   "outputs": [],
   "source": [
    "def error_probability():      # part of solution\n",
    "    P = []\n",
    "    for m in range(0, 10000):\n",
    "        code = generate_code(50, 100)\n",
    "        messages = np.random.choice([1,-1],50)\n",
    "        codewords = encode(code, messages)\n",
    "        y = receive(codewords)\n",
    "        decoded_messages = decode(code, y)\n",
    "        P_err = np.count_nonzero(decoded_messages - messages)/50\n",
    "        P.append(P_err)\n",
    "    return sum(P)/10000"
   ]
  },
  {
   "cell_type": "code",
   "execution_count": 25,
   "metadata": {},
   "outputs": [
    {
     "data": {
      "text/plain": [
       "0.07857799999999904"
      ]
     },
     "execution_count": 25,
     "metadata": {},
     "output_type": "execute_result"
    }
   ],
   "source": [
    "error_probability()"
   ]
  },
  {
   "cell_type": "code",
   "execution_count": null,
   "metadata": {
    "collapsed": true
   },
   "outputs": [],
   "source": []
  }
 ],
 "metadata": {
  "kernelspec": {
   "display_name": "Python 2",
   "language": "python",
   "name": "python2"
  },
  "language_info": {
   "codemirror_mode": {
    "name": "ipython",
    "version": 2
   },
   "file_extension": ".py",
   "mimetype": "text/x-python",
   "name": "python",
   "nbconvert_exporter": "python",
   "pygments_lexer": "ipython2",
   "version": "2.7.13"
  },
  "toc": {
   "colors": {
    "hover_highlight": "#DAA520",
    "navigate_num": "#000000",
    "navigate_text": "#333333",
    "running_highlight": "#FF0000",
    "selected_highlight": "#FFD700",
    "sidebar_border": "#EEEEEE",
    "wrapper_background": "#FFFFFF"
   },
   "moveMenuLeft": true,
   "nav_menu": {
    "height": "12px",
    "width": "252px"
   },
   "navigate_menu": true,
   "number_sections": true,
   "sideBar": true,
   "threshold": 4,
   "toc_cell": false,
   "toc_section_display": "block",
   "toc_window_display": false,
   "widenNotebook": false
  }
 },
 "nbformat": 4,
 "nbformat_minor": 2
}
