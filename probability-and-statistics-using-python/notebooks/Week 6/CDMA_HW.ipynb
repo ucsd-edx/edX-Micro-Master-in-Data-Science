{
 "cells": [
  {
   "cell_type": "markdown",
   "metadata": {},
   "source": [
    "<font size=\"4\" style=\"color:red;\"> **IMPORTANT: ** When submitting this homework notebook, please modify only cells that start with:</font>\n",
    "\n",
    "```python\n",
    "# modify this cell\n",
    "```"
   ]
  },
  {
   "cell_type": "markdown",
   "metadata": {},
   "source": [
    "## Setup Notebook"
   ]
  },
  {
   "cell_type": "markdown",
   "metadata": {},
   "source": [
    "**Note:** Read the communications notebooks before attempting this homework."
   ]
  },
  {
   "cell_type": "code",
   "execution_count": 1,
   "metadata": {},
   "outputs": [
    {
     "name": "stdout",
     "output_type": "stream",
     "text": [
      "Populating the interactive namespace from numpy and matplotlib\n"
     ]
    }
   ],
   "source": [
    "%pylab inline"
   ]
  },
  {
   "cell_type": "markdown",
   "metadata": {},
   "source": [
    "## Helper Code"
   ]
  },
  {
   "cell_type": "markdown",
   "metadata": {},
   "source": [
    "The following code will be used in generating questions."
   ]
  },
  {
   "cell_type": "code",
   "execution_count": 12,
   "metadata": {
    "collapsed": true
   },
   "outputs": [],
   "source": [
    "def generate_code(k, n):\n",
    "    code = 2*np.around(np.random.rand(k, n)) - 1\n",
    "    code = code.astype(int)\n",
    "    return code\n",
    "\n",
    "def encode(code, messages):\n",
    "    message_diag = np.diag(messages)\n",
    "    return np.dot(message_diag, code)\n",
    "\n",
    "def receive(codewords):\n",
    "    return np.sum(codewords, axis=0)"
   ]
  },
  {
   "cell_type": "markdown",
   "metadata": {},
   "source": [
    "# Problem 1"
   ]
  },
  {
   "cell_type": "markdown",
   "metadata": {},
   "source": [
    "Write a function **decode** that takes a codeword matrix $C$, a received vector $y$, and outputs the decoded message.\n",
    "\n",
    "<font  style=\"color:blue\"> **Code:**</font>\n",
    "```python\n",
    "random.seed(0)\n",
    "code = generate_code(3, 4)\n",
    "print\"generated code:\";print(code)\n",
    "\n",
    "codewords = encode(code, [1, -1, -1])\n",
    "print;print \"code words:\"; print(codewords)\n",
    "\n",
    "message = receive(codewords)\n",
    "print;print \"received message\"; print(message)\n",
    "\n",
    "decoded_message = decode(codewords, message)\n",
    "print; print \"decoded message:\",decoded_message\n",
    "print \"decoded message type: \",type(decoded_message);\n",
    "```\n",
    "\n",
    "\n",
    "<font  style=\"color:magenta\"> **Output**</font>\n",
    "```\n",
    "generated code:\n",
    "[[ 1  1  1  1]\n",
    " [-1  1 -1  1]\n",
    " [ 1 -1  1  1]]\n",
    "\n",
    "code words:\n",
    "[[ 1  1  1  1]\n",
    " [ 1 -1  1 -1]\n",
    " [-1  1 -1 -1]]\n",
    "\n",
    "received message\n",
    "[ 1  1  1 -1]\n",
    "\n",
    "decoded message: [ 1 -1  0]\n",
    "decoded message type:  <type 'numpy.ndarray'>\n",
    "```"
   ]
  },
  {
   "cell_type": "code",
   "execution_count": 14,
   "metadata": {},
   "outputs": [],
   "source": [
    "# modify this cell\n",
    "\n",
    "def decode(C, y):\n",
    "    # input: y is a 1D numpy.ndarray, C is a 2D numpy.ndarray\n",
    "    # output: a numpy array of integers\n",
    "    \n",
    "    ### BEGIN SOLUTION\n",
    "    return np.sign(np.dot(y, np.matrix.transpose(code)))\n",
    "    ### END SOLUTION\n"
   ]
  },
  {
   "cell_type": "code",
   "execution_count": 24,
   "metadata": {},
   "outputs": [
    {
     "ename": "ValueError",
     "evalue": "only 2 non-keyword arguments accepted",
     "output_type": "error",
     "traceback": [
      "\u001b[0;31m---------------------------------------------------------------------------\u001b[0m",
      "\u001b[0;31mValueError\u001b[0m                                Traceback (most recent call last)",
      "\u001b[0;32m<ipython-input-24-5f91a29e76e7>\u001b[0m in \u001b[0;36m<module>\u001b[0;34m()\u001b[0m\n\u001b[1;32m      2\u001b[0m \u001b[0mrandom\u001b[0m\u001b[0;34m.\u001b[0m\u001b[0mseed\u001b[0m\u001b[0;34m(\u001b[0m\u001b[0;36m1\u001b[0m\u001b[0;34m)\u001b[0m\u001b[0;34m\u001b[0m\u001b[0m\n\u001b[1;32m      3\u001b[0m \u001b[0mcode\u001b[0m \u001b[0;34m=\u001b[0m \u001b[0mgenerate_code\u001b[0m\u001b[0;34m(\u001b[0m\u001b[0;36m4\u001b[0m\u001b[0;34m,\u001b[0m \u001b[0;36m5\u001b[0m\u001b[0;34m)\u001b[0m\u001b[0;34m\u001b[0m\u001b[0m\n\u001b[0;32m----> 4\u001b[0;31m \u001b[0mmessage\u001b[0m \u001b[0;34m=\u001b[0m \u001b[0marray\u001b[0m\u001b[0;34m(\u001b[0m\u001b[0;36m1\u001b[0m\u001b[0;34m,\u001b[0m\u001b[0;36m1\u001b[0m\u001b[0;34m,\u001b[0m\u001b[0;34m-\u001b[0m\u001b[0;36m1\u001b[0m\u001b[0;34m,\u001b[0m\u001b[0;34m-\u001b[0m\u001b[0;36m1\u001b[0m\u001b[0;34m,\u001b[0m\u001b[0;36m1\u001b[0m\u001b[0;34m)\u001b[0m\u001b[0;34m\u001b[0m\u001b[0m\n\u001b[0m\u001b[1;32m      5\u001b[0m \u001b[0mdecode\u001b[0m\u001b[0;34m(\u001b[0m\u001b[0mcode\u001b[0m\u001b[0;34m,\u001b[0m \u001b[0mmessage\u001b[0m\u001b[0;34m)\u001b[0m\u001b[0;34m\u001b[0m\u001b[0m\n\u001b[1;32m      6\u001b[0m \u001b[0;34m\u001b[0m\u001b[0m\n",
      "\u001b[0;31mValueError\u001b[0m: only 2 non-keyword arguments accepted"
     ]
    }
   ],
   "source": [
    "# Check Function\n",
    "random.seed(1)\n",
    "code = generate_code(4, 5)\n",
    "message = array(1,1,-1,-1,1)\n",
    "decode(code, message)\n",
    "\n",
    "#assert (# please complete this)\n",
    "\n",
    "### BEGIN HIDDEN TESTS\n",
    "# please complete this\n",
    "### END HIDDEN TESTS"
   ]
  },
  {
   "cell_type": "markdown",
   "metadata": {
    "collapsed": true
   },
   "source": [
    "## Problem 2"
   ]
  },
  {
   "cell_type": "markdown",
   "metadata": {},
   "source": [
    "Write a function, **error_probability** that simulates communication between $50$ senders and $1$ receiver. It generates a $50\\times100$ random codeword matrix $C$ whose entries are i.i.d. uniform over $\\{-1,1\\}$, $50$ i.i.d. random messages uniformly distributed over $\\{-1, 1\\}$, and encodes the messages using the matrix $C$. It then computes the sum of all  encoded messages and stores them as the received codeword vector $y$. It then invokes the function you wrote in Problem 1 above to decode the messages (for every $i$ in $\\{1,2,\\ldots,50\\}$). Finally, it calculates the fraction of wrongly decoded messages (by comparison with the original messages that were sent). The entire sequence of steps must be performed $10,000$ times and the function returns the mean fraction of wrongly decoded messages.\n",
    "\n",
    "<font  style=\"color:blue\"> * **Code:** *</font>\n",
    "```python\n",
    "print(error_probability())\n",
    "```\n",
    "\n",
    "\n",
    "<font  style=\"color:magenta\"> * **Output:** *</font>\n",
    "```\n",
    "0.162\n",
    "<type 'float'>\n",
    "```"
   ]
  },
  {
   "cell_type": "code",
   "execution_count": null,
   "metadata": {
    "collapsed": true
   },
   "outputs": [],
   "source": [
    "# modify this cell\n",
    "\n",
    "def error_probability():\n",
    "    ### BEGIN SOLUTION\n",
    "    P = []\n",
    "    for m in range(0, 10000):\n",
    "        code = generate_code(50, 100)\n",
    "        messages = np.random.choice([1,-1],50)\n",
    "        codewords = encode(code, messages)\n",
    "        y = receive(codewords)\n",
    "        decoded_messages = decode(code, y)\n",
    "        P_err = np.count_nonzero(decoded_messages - messages)/50.0\n",
    "        P.append(P_err)\n",
    "    return sum(P)/10000.0    \n",
    "    ### END SOLUTION\n",
    "\n",
    "# modify this cell"
   ]
  },
  {
   "cell_type": "code",
   "execution_count": null,
   "metadata": {
    "collapsed": true
   },
   "outputs": [],
   "source": [
    "# Check Function\n",
    "\n",
    "assert (# please complete this)\n",
    "\n",
    "### BEGIN HIDDEN TESTS\n",
    "# please complete this\n",
    "### END HIDDEN TESTS"
   ]
  }
 ],
 "metadata": {
  "kernelspec": {
   "display_name": "Python 2",
   "language": "python",
   "name": "python2"
  },
  "language_info": {
   "codemirror_mode": {
    "name": "ipython",
    "version": 2
   },
   "file_extension": ".py",
   "mimetype": "text/x-python",
   "name": "python",
   "nbconvert_exporter": "python",
   "pygments_lexer": "ipython2",
   "version": "2.7.13"
  },
  "toc": {
   "colors": {
    "hover_highlight": "#DAA520",
    "navigate_num": "#000000",
    "navigate_text": "#333333",
    "running_highlight": "#FF0000",
    "selected_highlight": "#FFD700",
    "sidebar_border": "#EEEEEE",
    "wrapper_background": "#FFFFFF"
   },
   "moveMenuLeft": true,
   "nav_menu": {
    "height": "48px",
    "width": "252px"
   },
   "navigate_menu": true,
   "number_sections": true,
   "sideBar": true,
   "threshold": 4,
   "toc_cell": false,
   "toc_section_display": "block",
   "toc_window_display": false,
   "widenNotebook": false
  }
 },
 "nbformat": 4,
 "nbformat_minor": 2
}
