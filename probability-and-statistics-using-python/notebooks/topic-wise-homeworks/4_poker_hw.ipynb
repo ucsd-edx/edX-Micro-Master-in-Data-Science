{
 "cells": [
  {
   "cell_type": "markdown",
   "metadata": {},
   "source": [
    "<font size=\"4\" style=\"color:red;\"> **IMPORTANT: ** When submitting this homework notebook, please modify only the cells that start with:</font>\n",
    "\n",
    "```python\n",
    "# modify this cell\n",
    "```\n",
    "\n",
    "<font style=\"color:red;\"> Do not add any new cells. To test out new code, use the coding **scratchpad** by clicking the triangular icon in the bottom right corner of the screen. (**hotkey:** control-B)  </font>"
   ]
  },
  {
   "cell_type": "markdown",
   "metadata": {},
   "source": [
    "# Permutations and Combinations\n",
    "\n",
    "Read this notebook before attempting the exercises in this section."
   ]
  },
  {
   "cell_type": "markdown",
   "metadata": {},
   "source": [
    "## Problem\n",
    "\n",
    "Write a function **count_hands** that generates (though does not display) all five-card poker hands from a standard 52-card deck, and determines the number of hands\n",
    "\n",
    "<b>a.</b> without constraints\n",
    "\n",
    "<b>b.</b> with all cards of the same suit\n",
    "\n",
    "<b>c.</b> with all 4 suits present\n",
    "\n",
    "<b>d.</b> with 4 distinct ranks present\n",
    "\n",
    "Return a tuple containing the four values in order. Compare your answer to the corresponding homework problem.\n",
    "\n",
    "<font  style=\"color:blue\"> * **Sample run** *</font>\n",
    "```python\n",
    "count_hands()\n",
    "```\n",
    "\n",
    "<font  style=\"color:magenta\"> * **Expected Output (values may differ)** *</font>\n",
    "```python\n",
    "(54000, 6800, 7200, 1300)\n",
    "```"
   ]
  },
  {
   "cell_type": "code",
   "execution_count": 1,
   "metadata": {
    "scrolled": true
   },
   "outputs": [
    {
     "ename": "SyntaxError",
     "evalue": "unexpected EOF while parsing (<ipython-input-1-d5239f7baeab>, line 11)",
     "output_type": "error",
     "traceback": [
      "\u001b[0;36m  File \u001b[0;32m\"<ipython-input-1-d5239f7baeab>\"\u001b[0;36m, line \u001b[0;32m11\u001b[0m\n\u001b[0;31m    # modify this cell\u001b[0m\n\u001b[0m                      ^\u001b[0m\n\u001b[0;31mSyntaxError\u001b[0m\u001b[0;31m:\u001b[0m unexpected EOF while parsing\n"
     ]
    }
   ],
   "source": [
    "# modify this cell\n",
    "\n",
    "def count_hands():\n",
    "    # inputs: no inputs\n",
    "    # output: a tuple of four integers\n",
    "    \n",
    "    ### BEGIN SOLUTION\n",
    "    \n",
    "    ### END SOLUTION\n",
    "\n",
    "# modify this cell"
   ]
  },
  {
   "cell_type": "code",
   "execution_count": null,
   "metadata": {
    "collapsed": true
   },
   "outputs": [],
   "source": [
    "# Check Function\n",
    "\n",
    "assert (# please complete this)\n",
    "\n",
    "### BEGIN HIDDEN TESTS\n",
    "# please complete this\n",
    "### END HIDDEN TESTS"
   ]
  }
 ],
 "metadata": {
  "kernelspec": {
   "display_name": "Python 3",
   "language": "python",
   "name": "python3"
  },
  "language_info": {
   "codemirror_mode": {
    "name": "ipython",
    "version": 3
   },
   "file_extension": ".py",
   "mimetype": "text/x-python",
   "name": "python",
   "nbconvert_exporter": "python",
   "pygments_lexer": "ipython3",
   "version": "3.6.1"
  },
  "toc": {
   "nav_menu": {
    "height": "48px",
    "width": "252px"
   },
   "number_sections": true,
   "sideBar": true,
   "skip_h1_title": false,
   "toc_cell": false,
   "toc_position": {},
   "toc_section_display": "block",
   "toc_window_display": false
  }
 },
 "nbformat": 4,
 "nbformat_minor": 2
}
