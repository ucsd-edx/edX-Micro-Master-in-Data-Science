{
 "cells": [
  {
   "cell_type": "code",
   "execution_count": 1,
   "metadata": {
    "collapsed": true
   },
   "outputs": [],
   "source": [
    "import numpy as np\n",
    "import itertools"
   ]
  },
  {
   "cell_type": "code",
   "execution_count": 2,
   "metadata": {
    "collapsed": true
   },
   "outputs": [],
   "source": [
    "def generate_code(k, n):\n",
    "    code = np.random.randint(2, size=(k,n))\n",
    "    return code"
   ]
  },
  {
   "cell_type": "code",
   "execution_count": 16,
   "metadata": {
    "collapsed": true
   },
   "outputs": [],
   "source": [
    "def hamming_distance(u, v):                 # Solution to problem 1\n",
    "    codeword_sum = np.mod(u+v, 2)\n",
    "    # h = (codeword_sum != 0).sum(1)        # Required to run the remaining cells of this notebook\n",
    "    h = np.count_nonzero(codeword_sum)      # Required only for the solution to problem 1\n",
    "    return np.asarray(h)"
   ]
  },
  {
   "cell_type": "code",
   "execution_count": 17,
   "metadata": {},
   "outputs": [
    {
     "data": {
      "text/plain": [
       "array(3)"
      ]
     },
     "execution_count": 17,
     "metadata": {},
     "output_type": "execute_result"
    }
   ],
   "source": [
    "hamming_distance(np.array([0, 1, 1, 0, 1]),\n",
    "                 np.array([1, 0, 1, 1, 1]))"
   ]
  },
  {
   "cell_type": "code",
   "execution_count": 4,
   "metadata": {},
   "outputs": [
    {
     "data": {
      "text/plain": [
       "numpy.int32"
      ]
     },
     "execution_count": 4,
     "metadata": {},
     "output_type": "execute_result"
    }
   ],
   "source": [
    "code = generate_code(3, 4)\n",
    "type(code[0][0])"
   ]
  },
  {
   "cell_type": "code",
   "execution_count": 5,
   "metadata": {
    "collapsed": true
   },
   "outputs": [],
   "source": [
    "def closeness_probability(k, n):\n",
    "    P = []\n",
    "    for i in range(0, 1000):\n",
    "        code = generate_code(k, n)\n",
    "        choose_2 = list(itertools.combinations(code, 2))\n",
    "        u, v = np.matrix([x[0] for x in choose_2]), np.matrix([x[1] for x in choose_2])\n",
    "        h = hamming_distance(u, v)\n",
    "        P.append(len(h[h<=n/3])/len(h))\n",
    "    return sum(P)/1000"
   ]
  },
  {
   "cell_type": "code",
   "execution_count": 6,
   "metadata": {},
   "outputs": [
    {
     "data": {
      "text/plain": [
       "0.00042122448979592066"
      ]
     },
     "execution_count": 6,
     "metadata": {},
     "output_type": "execute_result"
    }
   ],
   "source": [
    "closeness_probability(50, 100)"
   ]
  },
  {
   "cell_type": "code",
   "execution_count": 9,
   "metadata": {},
   "outputs": [
    {
     "data": {
      "text/plain": [
       "'\\nimport time\\nstart_time = time.time()\\nfor i in range(0, 500):\\n    for j in range(0, 500):\\n        hamming_distance(code[i], code[j])\\nprint(\"--- %s seconds ---\" % (time.time() - start_time))\\n'"
      ]
     },
     "execution_count": 9,
     "metadata": {},
     "output_type": "execute_result"
    }
   ],
   "source": [
    "'''\n",
    "import time\n",
    "start_time = time.time()\n",
    "for i in range(0, 500):\n",
    "    for j in range(0, 500):\n",
    "        hamming_distance(code[i], code[j])\n",
    "print(\"--- %s seconds ---\" % (time.time() - start_time))\n",
    "'''"
   ]
  },
  {
   "cell_type": "code",
   "execution_count": 10,
   "metadata": {},
   "outputs": [
    {
     "data": {
      "text/plain": [
       "'\\nimport time\\nstart_time = time.time()\\nchoose_2 = list(itertools.combinations(code, 2))\\nfor x in choose_2:\\n    ()\\nprint(\"--- %s seconds ---\" % (time.time() - start_time))\\n'"
      ]
     },
     "execution_count": 10,
     "metadata": {},
     "output_type": "execute_result"
    }
   ],
   "source": [
    "'''\n",
    "import time\n",
    "start_time = time.time()\n",
    "choose_2 = list(itertools.combinations(code, 2))\n",
    "for x in choose_2:\n",
    "    ()\n",
    "print(\"--- %s seconds ---\" % (time.time() - start_time))\n",
    "'''"
   ]
  }
 ],
 "metadata": {
  "kernelspec": {
   "display_name": "Python 3",
   "language": "python",
   "name": "python3"
  },
  "language_info": {
   "codemirror_mode": {
    "name": "ipython",
    "version": 3
   },
   "file_extension": ".py",
   "mimetype": "text/x-python",
   "name": "python",
   "nbconvert_exporter": "python",
   "pygments_lexer": "ipython3",
   "version": "3.6.1"
  }
 },
 "nbformat": 4,
 "nbformat_minor": 2
}
