{
 "cells": [
  {
   "cell_type": "markdown",
   "metadata": {},
   "source": [
    "Compute all $k$-compositions of $n$."
   ]
  },
  {
   "cell_type": "code",
   "execution_count": 1,
   "metadata": {
    "collapsed": true
   },
   "outputs": [],
   "source": [
    "def compositions(k, n):\n",
    "    part = set()\n",
    "    if k == n:\n",
    "        part.add((1,)*n)\n",
    "    if k == 1:\n",
    "        part.add((n,))\n",
    "    else:\n",
    "        for x in range(1, n-k+2):\n",
    "            for y in compositions(k-1, n-x):\n",
    "                part.add((x,)+y)\n",
    "    return part"
   ]
  },
  {
   "cell_type": "markdown",
   "metadata": {},
   "source": [
    "Print all the compositions found by <i>compositions()<i>."
   ]
  },
  {
   "cell_type": "code",
   "execution_count": 2,
   "metadata": {
    "collapsed": true
   },
   "outputs": [],
   "source": [
    "def print_compositions(n, k):\n",
    "    for x in compositions(k, n):\n",
    "        for i in range(0, len(x)-1):\n",
    "            print(x[i], end = \" + \")\n",
    "        print(x[len(x)-1])    \n",
    "        # print(\"\\n\")"
   ]
  },
  {
   "cell_type": "code",
   "execution_count": 3,
   "metadata": {
    "collapsed": false
   },
   "outputs": [
    {
     "name": "stdout",
     "output_type": "stream",
     "text": [
      "2 + 2 + 2\n",
      "3 + 1 + 2\n",
      "1 + 3 + 2\n",
      "3 + 2 + 1\n",
      "1 + 4 + 1\n",
      "2 + 3 + 1\n",
      "1 + 2 + 3\n",
      "4 + 1 + 1\n",
      "1 + 1 + 4\n",
      "2 + 1 + 3\n"
     ]
    }
   ],
   "source": [
    "print_compositions(3,6)"
   ]
  },
  {
   "cell_type": "markdown",
   "metadata": {},
   "source": [
    "Create the set of all $k$-compositions of $n$ where for $1\\le i\\le k$, part $i$ is $\\le m_i$"
   ]
  },
  {
   "cell_type": "code",
   "execution_count": 4,
   "metadata": {
    "collapsed": true
   },
   "outputs": [],
   "source": [
    "def constrained_compositions(n, m):\n",
    "    k = len(m)\n",
    "    parts = set()\n",
    "    if k == n:\n",
    "        if 1 <= min(m):\n",
    "            parts.add((1,)*n)\n",
    "    if k == 1:\n",
    "        if n <= m[0]:\n",
    "            parts.add((n,))\n",
    "    else:\n",
    "        for x in range(1, min(n-k+2,m[0]+1)):\n",
    "            for y in constrained_compositions(n-x, m[1:]):\n",
    "                parts.add((x,)+y)\n",
    "    return parts"
   ]
  },
  {
   "cell_type": "markdown",
   "metadata": {},
   "source": [
    "Print the compositions found by <i>constrained_compositions()</i>"
   ]
  },
  {
   "cell_type": "code",
   "execution_count": 5,
   "metadata": {
    "collapsed": true
   },
   "outputs": [],
   "source": [
    "def print_constrained_compositions(n, m):\n",
    "    for x in constrained_compositions(n, m):\n",
    "        for i in range(0, len(x)-1):\n",
    "            print(x[i], end = \" + \")\n",
    "        print(x[len(x)-1])    \n",
    "        # print(\"\\n\")"
   ]
  },
  {
   "cell_type": "code",
   "execution_count": 6,
   "metadata": {
    "collapsed": false
   },
   "outputs": [
    {
     "name": "stdout",
     "output_type": "stream",
     "text": [
      "2 + 1 + 4\n",
      "3 + 2 + 2\n",
      "1 + 2 + 4\n",
      "1 + 1 + 5\n",
      "3 + 1 + 3\n",
      "2 + 2 + 3\n"
     ]
    }
   ],
   "source": [
    "print_constrained_compositions(7, [3, 2, 5])"
   ]
  },
  {
   "cell_type": "code",
   "execution_count": 7,
   "metadata": {
    "collapsed": false
   },
   "outputs": [
    {
     "data": {
      "text/plain": [
       "{(1, 1, 2), (1, 2, 1), (2, 1, 1)}"
      ]
     },
     "execution_count": 7,
     "metadata": {},
     "output_type": "execute_result"
    }
   ],
   "source": [
    "compositions(4,3)"
   ]
  },
  {
   "cell_type": "code",
   "execution_count": 8,
   "metadata": {
    "collapsed": false
   },
   "outputs": [
    {
     "data": {
      "text/plain": [
       "{(1, 1, 5), (1, 2, 4), (2, 1, 4), (2, 2, 3), (3, 1, 3), (3, 2, 2)}"
      ]
     },
     "execution_count": 8,
     "metadata": {},
     "output_type": "execute_result"
    }
   ],
   "source": [
    "constrained_compositions(7, [3, 2, 5])"
   ]
  },
  {
   "cell_type": "code",
   "execution_count": null,
   "metadata": {
    "collapsed": true
   },
   "outputs": [],
   "source": []
  }
 ],
 "metadata": {
  "kernelspec": {
   "display_name": "Python 3",
   "language": "python",
   "name": "python3"
  },
  "language_info": {
   "codemirror_mode": {
    "name": "ipython",
    "version": 3
   },
   "file_extension": ".py",
   "mimetype": "text/x-python",
   "name": "python",
   "nbconvert_exporter": "python",
   "pygments_lexer": "ipython3",
   "version": "3.5.3"
  },
  "toc": {
   "nav_menu": {},
   "number_sections": true,
   "sideBar": true,
   "skip_h1_title": false,
   "toc_cell": false,
   "toc_position": {},
   "toc_section_display": "block",
   "toc_window_display": false
  }
 },
 "nbformat": 4,
 "nbformat_minor": 2
}
