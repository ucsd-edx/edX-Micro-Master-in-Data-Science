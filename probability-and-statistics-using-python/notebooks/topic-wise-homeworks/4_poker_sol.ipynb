{
 "cells": [
  {
   "cell_type": "code",
   "execution_count": 1,
   "metadata": {},
   "outputs": [],
   "source": [
    "def count_hands():\n",
    "    from itertools import product, combinations\n",
    "    Ranks = {1, 2, 3, 4, 5, 6, 7, 8, 9, 10, 'J', 'Q', 'K'}\n",
    "    Suits = {'♢', '♠', '♣', '♡'}\n",
    "    Cards = list(product(Ranks, Suits))\n",
    "    \n",
    "    a = len(list(combinations(Cards, 5)))\n",
    "    \n",
    "    Hands = list(combinations(Cards, 5))\n",
    "    \n",
    "    number_same_suit = 0\n",
    "    for hand in Hands:\n",
    "        same_suit = True\n",
    "        for card in range(1, 5):\n",
    "            if hand[card][1] != hand[0][1]:\n",
    "                same_suit = False\n",
    "        if same_suit == True:\n",
    "            number_same_suit += 1\n",
    "    b = number_same_suit\n",
    "    \n",
    "    number_all_suits = 0\n",
    "    for hand in Hands:\n",
    "        suits = set()\n",
    "        for card in range(1, 5):\n",
    "            suits.add(hand[card][1])\n",
    "        if len(suits) == 4:\n",
    "            number_all_suits += 1\n",
    "    c = number_all_suits\n",
    "    \n",
    "    number_all_ranks = 0\n",
    "    for hand in Hands:\n",
    "        suits = set()\n",
    "        for card in range(1, 5):\n",
    "            suits.add(hand[card][0])\n",
    "        if len(suits) == 4:\n",
    "            number_all_ranks += 1\n",
    "    d = number_all_ranks\n",
    "    return(a, b, c, d)"
   ]
  },
  {
   "cell_type": "code",
   "execution_count": 2,
   "metadata": {},
   "outputs": [
    {
     "data": {
      "text/plain": [
       "(2598960, 5148, 282022, 1592448)"
      ]
     },
     "execution_count": 2,
     "metadata": {},
     "output_type": "execute_result"
    }
   ],
   "source": [
    "count_hands()"
   ]
  }
 ],
 "metadata": {
  "kernelspec": {
   "display_name": "Python 3",
   "language": "python",
   "name": "python3"
  },
  "language_info": {
   "codemirror_mode": {
    "name": "ipython",
    "version": 3
   },
   "file_extension": ".py",
   "mimetype": "text/x-python",
   "name": "python",
   "nbconvert_exporter": "python",
   "pygments_lexer": "ipython3",
   "version": "3.6.1"
  },
  "toc": {
   "nav_menu": {},
   "number_sections": true,
   "sideBar": true,
   "skip_h1_title": false,
   "toc_cell": false,
   "toc_position": {},
   "toc_section_display": "block",
   "toc_window_display": false
  }
 },
 "nbformat": 4,
 "nbformat_minor": 2
}
