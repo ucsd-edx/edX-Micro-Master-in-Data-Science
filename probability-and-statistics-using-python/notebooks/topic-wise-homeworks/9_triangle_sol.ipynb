{
 "cells": [
  {
   "cell_type": "code",
   "execution_count": 2,
   "metadata": {},
   "outputs": [],
   "source": [
    "def P_range(a, b, alpha, beta):\n",
    "    c = 0\n",
    "    if alpha > b or beta < a:\n",
    "            P = 0\n",
    "    else:\n",
    "        if alpha < a:\n",
    "            alpha = a\n",
    "        if beta > b:\n",
    "            beta = b\n",
    "        if alpha>=a and beta<=c:\n",
    "            P = (alpha+beta-2*a) * (beta-alpha) / ((c-a)*(b-a))\n",
    "        if alpha>=a and alpha<=c and beta>=c:\n",
    "            P = 1 - ((alpha-a)**2 + (b-beta)**2) / ((b-a)*(c-a))\n",
    "        if alpha>=c:\n",
    "            P = (2*b-alpha-beta) * (beta-alpha) / ((b-c)*(b-a))\n",
    "    return P"
   ]
  },
  {
   "cell_type": "code",
   "execution_count": 6,
   "metadata": {},
   "outputs": [
    {
     "data": {
      "text/plain": [
       "0.5833333333333333"
      ]
     },
     "execution_count": 6,
     "metadata": {},
     "output_type": "execute_result"
    }
   ],
   "source": [
    "P_range(-2, 4, -1, 2)"
   ]
  }
 ],
 "metadata": {
  "kernelspec": {
   "display_name": "Python 3",
   "language": "python",
   "name": "python3"
  },
  "language_info": {
   "codemirror_mode": {
    "name": "ipython",
    "version": 3
   },
   "file_extension": ".py",
   "mimetype": "text/x-python",
   "name": "python",
   "nbconvert_exporter": "python",
   "pygments_lexer": "ipython3",
   "version": "3.6.1"
  }
 },
 "nbformat": 4,
 "nbformat_minor": 2
}
