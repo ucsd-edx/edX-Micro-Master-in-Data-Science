{
 "cells": [
  {
   "cell_type": "markdown",
   "metadata": {},
   "source": [
    "<font size=\"4\" style=\"color:red;\"> **IMPORTANT: ** When submitting this homework notebook, please modify only the cells that start with:</font>\n",
    "\n",
    "```python\n",
    "# modify this cell\n",
    "```\n",
    "\n",
    "<font style=\"color:red;\"> Do not add any new cells. To test out new code, use the coding **scratchpad** by clicking the triangular icon in the bottom right corner of the screen. (**hotkey:** control-B)  </font>"
   ]
  },
  {
   "cell_type": "markdown",
   "metadata": {},
   "source": [
    "# The Poisson-binomial Distribution\n",
    "In the binomial distribution, $n$ Bernoulli variables $X_1,...,X_n$ are distributed \n",
    "independently $\\sim B(p)$ with the same success probability $p$,\n",
    "and $X=\\sum_{i=1}^n X_i$. We have seen that \n",
    "$$P(X=k)=\\binom nk \\cdot p^k\\cdot \\overline p^{n-k}.$$\n",
    "\n",
    "In the Poisson-binomial distribution, again $n$ Bernoulli variables (sometimes called\n",
    "<i>Poisson trials</i>) are distributed independently, and again $X=\\sum_{i=1}^n X_i$.\n",
    "However, now each $X_i\\sim B(p_i)$ where the $p_i$'s may differ. \n",
    "\n",
    "For the Poisson-binomial distribution, $P(X=k)$ does not have a simple formula, but it can be \n",
    "computed numerically. One way is to determine all $k$-subsets of \n",
    "$\\{1,...,n\\}$, and for each such subset $S$ claculate the\n",
    "probability that $X_i$ is $1$ iff $i\\in S$, and then sum these probabilities. \n",
    "\n",
    "For example, for $[p_1,p_2,p_3]=[0.4, 0.3, 0.8]$, and $k=2$. \n",
    "The $2$-subsets of $\\{1,2,3\\}$ and the corresponding probabilties that $X_i$ is one iff $i$ is in the subset are\n",
    "\n",
    "$$\n",
    "\\{1,2\\}\\quad 0.024\\\\\n",
    "\\{1,3\\}\\quad 0.224\\\\\n",
    "\\{2,3\\}\\quad 0.144\\\\\n",
    "$$\n",
    "hence,\n",
    "$$P(X=k)=0.024+0.224+0.144=0.392.$$"
   ]
  },
  {
   "cell_type": "markdown",
   "metadata": {},
   "source": [
    "## Problem"
   ]
  },
  {
   "cell_type": "markdown",
   "metadata": {},
   "source": [
    "Using the above method , write a function **pmf_sum** that takes a vector $\\boldsymbol p=[p_1, p_2, \\ldots, p_n]$ of length $\\ge 1$ and a natural number $k$, and outputs $P(X=k)$.\n",
    "\n",
    "<font  style=\"color:blue\"> * **Sample run:** *</font>\n",
    "```python\n",
    "pmf_sum([0.4, 0.3, 0.8], 2)\n",
    "```\n",
    "\n",
    "<font  style=\"color:magenta\"> * **Expected Output:** *</font>\n",
    "```\n",
    "0.392\n",
    "```"
   ]
  },
  {
   "cell_type": "code",
   "execution_count": 1,
   "metadata": {
    "collapsed": false,
    "scrolled": true
   },
   "outputs": [
    {
     "ename": "SyntaxError",
     "evalue": "unexpected EOF while parsing (<ipython-input-1-d5239f7baeab>, line 11)",
     "output_type": "error",
     "traceback": [
      "\u001b[0;36m  File \u001b[0;32m\"<ipython-input-1-d5239f7baeab>\"\u001b[0;36m, line \u001b[0;32m11\u001b[0m\n\u001b[0;31m    # modify this cell\u001b[0m\n\u001b[0m                      ^\u001b[0m\n\u001b[0;31mSyntaxError\u001b[0m\u001b[0;31m:\u001b[0m unexpected EOF while parsing\n"
     ]
    }
   ],
   "source": [
    "# modify this cell\n",
    "\n",
    "def pmf_sum(p, k):\n",
    "    # inputs: p is a list of integers and k is an integer\n",
    "    # output: a variable of type 'float'\n",
    "    \n",
    "    ### BEGIN SOLUTION\n",
    "    \n",
    "    ### END SOLUTION\n",
    "\n",
    "# modify this cell"
   ]
  },
  {
   "cell_type": "code",
   "execution_count": null,
   "metadata": {
    "collapsed": true
   },
   "outputs": [],
   "source": [
    "# Check Function\n",
    "\n",
    "assert (# please complete this)\n",
    "\n",
    "### BEGIN HIDDEN TESTS\n",
    "# please complete this\n",
    "### END HIDDEN TESTS"
   ]
  }
 ],
 "metadata": {
  "kernelspec": {
   "display_name": "Python 3",
   "language": "python",
   "name": "python3"
  },
  "language_info": {
   "codemirror_mode": {
    "name": "ipython",
    "version": 3
   },
   "file_extension": ".py",
   "mimetype": "text/x-python",
   "name": "python",
   "nbconvert_exporter": "python",
   "pygments_lexer": "ipython3",
   "version": "3.5.3"
  },
  "toc": {
   "colors": {
    "hover_highlight": "#DAA520",
    "navigate_num": "#000000",
    "navigate_text": "#333333",
    "running_highlight": "#FF0000",
    "selected_highlight": "#FFD700",
    "sidebar_border": "#EEEEEE",
    "wrapper_background": "#FFFFFF"
   },
   "moveMenuLeft": true,
   "nav_menu": {
    "height": "48px",
    "width": "252px"
   },
   "navigate_menu": true,
   "number_sections": true,
   "sideBar": true,
   "threshold": 4,
   "toc_cell": false,
   "toc_section_display": "block",
   "toc_window_display": false,
   "widenNotebook": false
  }
 },
 "nbformat": 4,
 "nbformat_minor": 2
}
