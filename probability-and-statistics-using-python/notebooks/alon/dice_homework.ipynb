{
 "cells": [
  {
   "cell_type": "markdown",
   "metadata": {},
   "source": [
    "<font size=\"4\" style=\"color:red;\"> **IMPORTANT: ** When submitting this homework notebook, please modify only the cells that start with:</font>\n",
    "\n",
    "```python\n",
    "# modify this cell\n",
    "```\n",
    "\n",
    "<font style=\"color:red;\"> Do not add any new cells. To test out new code, use the coding **scratchpad** by clicking the triangular icon in the bottom right corner of the screen. (**hotkey:** control-B)  </font>"
   ]
  },
  {
   "cell_type": "markdown",
   "metadata": {},
   "source": [
    "# Different Dice\n",
    "\n",
    "\n",
    "So far we mostly considered standard 6-faced dice. The following problems explore dice with different number of faces. "
   ]
  },
  {
   "cell_type": "markdown",
   "metadata": {},
   "source": [
    "## Problem 1"
   ]
  },
  {
   "cell_type": "markdown",
   "metadata": {},
   "source": [
    "Suppose that a 6-sided die is rolled $n$ times. Let $X_i$ be the value of the top face at the $i$th roll,\n",
    "and let $X\\triangleq\\max_{1\\le i\\le n} X_i$ be the highest value observed. For example, if $n=3$ and the three\n",
    "rolls are 4, 1, and 4, then $X_1=4, X_2=1, X_3=4$ and $X=4$. \n",
    "\n",
    "To find the distribution of $X$, observe first that $X\\le x$ iff $X_i\\le x$ for all $1\\le i\\le n$,\n",
    "hence $P(X\\le x)=(x/6)^n$. It follows that $P(X=x)=P(X\\le x)-P(X\\le x-1)=(x/6)^n-((x-1)/6)^n$.\n",
    "\n",
    "In this problem we assume that each of the $n$ dice has a potentially different number of faces, denoted $f_i$,\n",
    "and ask you to write a function **P_max** that determines the probability that the highest roll is $x$. **P_max**\n",
    "takes a vector $\\boldsymbol f$ of positive integers, interpreted as the number of faces of each of the dice, and a value $x$ and outputs $P(X=x)$. For example, if $\\boldsymbol f=[2, 5, 7]$, then $P(X=1)=(1/2)\\cdot(1/5)\\cdot(1/7)$, and $P(X=7)=1/7$. \n",
    "\n",
    "<font  style=\"color:blue\"> * **Sample run** *</font>\n",
    "```python\n",
    "P_max([2, 5, 7], 4) \n",
    "```\n",
    "\n",
    "\n",
    "<font  style=\"color:magenta\"> * **Expected Output** *</font>\n",
    "```\n",
    "0.2\n",
    "```"
   ]
  },
  {
   "cell_type": "code",
   "execution_count": 1,
   "metadata": {
    "collapsed": false,
    "scrolled": true
   },
   "outputs": [
    {
     "ename": "SyntaxError",
     "evalue": "unexpected EOF while parsing (<ipython-input-1-d5239f7baeab>, line 11)",
     "output_type": "error",
     "traceback": [
      "\u001b[0;36m  File \u001b[0;32m\"<ipython-input-1-d5239f7baeab>\"\u001b[0;36m, line \u001b[0;32m11\u001b[0m\n\u001b[0;31m    # modify this cell\u001b[0m\n\u001b[0m                      ^\u001b[0m\n\u001b[0;31mSyntaxError\u001b[0m\u001b[0;31m:\u001b[0m unexpected EOF while parsing\n"
     ]
    }
   ],
   "source": [
    "# modify this cell\n",
    "\n",
    "def P_max(f, x_max):\n",
    "    # inputs: m is a list of integers and m_max is an intefer\n",
    "    # output: a variable of type 'float'\n",
    "    \n",
    "    ### BEGIN SOLUTION\n",
    "    \n",
    "    ### END SOLUTION\n",
    "\n",
    "# modify this cell"
   ]
  },
  {
   "cell_type": "code",
   "execution_count": null,
   "metadata": {
    "collapsed": true
   },
   "outputs": [],
   "source": [
    "# Check Function\n",
    "\n",
    "assert (# please complete this)\n",
    "\n",
    "### BEGIN HIDDEN TESTS\n",
    "# please complete this\n",
    "### END HIDDEN TESTS"
   ]
  },
  {
   "cell_type": "markdown",
   "metadata": {
    "collapsed": true
   },
   "source": [
    "## Problem 2"
   ]
  },
  {
   "cell_type": "markdown",
   "metadata": {},
   "source": [
    "Write a function **P_sum** that takes a vector $\\boldsymbol f$ representing as above the number of faces of each die,  and a positive integer $s$, and returns the probability that the sum of the die outcomes is $s$. For example, if $\\boldsymbol f=[3, 4, 5]$ and $s\\le 2$ or $s\\ge 13$, the output should be 0, and if $s=3$ or $s=12$ the output should be $(1/3)\\cdot(1/4)\\cdot(1/5)=1/60$.\n",
    "\n",
    "Hint: You may find the constrained-composition code you wrote for an earlier probelm handy. \n",
    "\n",
    "<font  style=\"color:blue\"> * **Test Code:** *</font>\n",
    "```python\n",
    "P_sum([3, 4, 5], 7)\n",
    "```\n",
    "\n",
    "\n",
    "<font  style=\"color:magenta\"> * **Expected Output (value depends on the inputs):** *</font>\n",
    "```\n",
    "0.1833\n",
    "```"
   ]
  },
  {
   "cell_type": "code",
   "execution_count": null,
   "metadata": {
    "collapsed": true
   },
   "outputs": [],
   "source": [
    "# modify this cell\n",
    "\n",
    "def P_sum(m, s):\n",
    "    # inputs: m is list of integers and s is an integer\n",
    "    # output: a variable of type 'float'\n",
    "    \n",
    "    ### BEGIN SOLUTION\n",
    "    \n",
    "    ### END SOLUTION\n",
    "\n",
    "# modify this cell"
   ]
  },
  {
   "cell_type": "code",
   "execution_count": null,
   "metadata": {
    "collapsed": true
   },
   "outputs": [],
   "source": [
    "# Check Function\n",
    "\n",
    "assert (# please complete this)\n",
    "\n",
    "### BEGIN HIDDEN TESTS\n",
    "# please complete this\n",
    "### END HIDDEN TESTS"
   ]
  }
 ],
 "metadata": {
  "kernelspec": {
   "display_name": "Python 3",
   "language": "python",
   "name": "python3"
  },
  "language_info": {
   "codemirror_mode": {
    "name": "ipython",
    "version": 3
   },
   "file_extension": ".py",
   "mimetype": "text/x-python",
   "name": "python",
   "nbconvert_exporter": "python",
   "pygments_lexer": "ipython3",
   "version": "3.5.3"
  },
  "toc": {
   "colors": {
    "hover_highlight": "#DAA520",
    "navigate_num": "#000000",
    "navigate_text": "#333333",
    "running_highlight": "#FF0000",
    "selected_highlight": "#FFD700",
    "sidebar_border": "#EEEEEE",
    "wrapper_background": "#FFFFFF"
   },
   "moveMenuLeft": true,
   "nav_menu": {
    "height": "48px",
    "width": "252px"
   },
   "navigate_menu": true,
   "number_sections": true,
   "sideBar": true,
   "threshold": 4,
   "toc_cell": false,
   "toc_section_display": "block",
   "toc_window_display": false,
   "widenNotebook": false
  }
 },
 "nbformat": 4,
 "nbformat_minor": 2
}
