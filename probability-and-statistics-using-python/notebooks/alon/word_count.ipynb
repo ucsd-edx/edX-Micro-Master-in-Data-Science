{
 "cells": [
  {
   "cell_type": "code",
   "execution_count": 4,
   "metadata": {},
   "outputs": [
    {
     "name": "stdout",
     "output_type": "stream",
     "text": [
      "['We', 'did', '48', 'copies,', 'in', 'total.', 'How', 'many', 'did', 'you', 'do?']\n"
     ]
    }
   ],
   "source": [
    "s = 'We did 48 copies, in total. How many did you do?'\n",
    "print(s.split())"
   ]
  },
  {
   "cell_type": "code",
   "execution_count": 3,
   "metadata": {
    "collapsed": true
   },
   "outputs": [],
   "source": [
    "import re\n",
    "caps = \"([A-Z])\"\n",
    "prefixes = \"(Mr|St|Mrs|Ms|Dr)[.]\"\n",
    "suffixes = \"(Inc|Ltd|Jr|Sr|Co)\"\n",
    "starters = \"(Mr|Mrs|Ms|Dr|He\\s|She\\s|It\\s|They\\s|Their\\s|Our\\s|We\\s|But\\s|However\\s|That\\s|This\\s|Wherever)\"\n",
    "acronyms = \"([A-Z][.][A-Z][.](?:[A-Z][.])?)\"\n",
    "websites = \"[.](com|net|org|io|gov)\"\n",
    "\n",
    "def split_into_sentences(text):\n",
    "    text = \" \" + text + \"  \"\n",
    "    text = text.replace(\"\\n\",\" \")\n",
    "    text = re.sub(prefixes,\"\\\\1<prd>\",text)\n",
    "    text = re.sub(websites,\"<prd>\\\\1\",text)\n",
    "    if \"Ph.D\" in text: text = text.replace(\"Ph.D.\",\"Ph<prd>D<prd>\")\n",
    "    text = re.sub(\"\\s\" + caps + \"[.] \",\" \\\\1<prd> \",text)\n",
    "    text = re.sub(acronyms+\" \"+starters,\"\\\\1<stop> \\\\2\",text)\n",
    "    text = re.sub(caps + \"[.]\" + caps + \"[.]\" + caps + \"[.]\",\"\\\\1<prd>\\\\2<prd>\\\\3<prd>\",text)\n",
    "    text = re.sub(caps + \"[.]\" + caps + \"[.]\",\"\\\\1<prd>\\\\2<prd>\",text)\n",
    "    text = re.sub(\" \"+suffixes+\"[.] \"+starters,\" \\\\1<stop> \\\\2\",text)\n",
    "    text = re.sub(\" \"+suffixes+\"[.]\",\" \\\\1<prd>\",text)\n",
    "    text = re.sub(\" \" + caps + \"[.]\",\" \\\\1<prd>\",text)\n",
    "    if \"”\" in text: text = text.replace(\".”\",\"”.\")\n",
    "    if \"\\\"\" in text: text = text.replace(\".\\\"\",\"\\\".\")\n",
    "    if \"!\" in text: text = text.replace(\"!\\\"\",\"\\\"!\")\n",
    "    if \"?\" in text: text = text.replace(\"?\\\"\",\"\\\"?\")\n",
    "    text = text.replace(\".\",\".<stop>\")\n",
    "    text = text.replace(\"?\",\"?<stop>\")\n",
    "    text = text.replace(\"!\",\"!<stop>\")\n",
    "    text = text.replace(\"<prd>\",\".\")\n",
    "    sentences = text.split(\"<stop>\")\n",
    "    sentences = sentences[:-1]\n",
    "    sentences = [s.strip() for s in sentences]\n",
    "    return sentences"
   ]
  },
  {
   "cell_type": "code",
   "execution_count": 4,
   "metadata": {
    "collapsed": true
   },
   "outputs": [],
   "source": [
    "with open('paper.txt', 'r') as myfile:\n",
    "    data=myfile.read().replace('\\n', '')"
   ]
  },
  {
   "cell_type": "code",
   "execution_count": 5,
   "metadata": {},
   "outputs": [
    {
     "data": {
      "text/plain": [
       "'The great limnologist George EvelynHutchinson famously asked thequestion, \"why are there so manykinds of animals?\"1. Hutchinson\\'s answerto his own question has become oneof the foundational ideas in ecology, andhas to do with the abundance of \\'regulatingfactors\\' in the environment. However,the ideaâ€™s deceptive simplicity can leadto important misinterpretations, asreported by Ashby et al2 in Nature Ecology& Evolution.Building on a classical theoreticalmodel in which species possess a suiteof traits and the degree of competitionbetween them is governed by traitsimilarity, they show that the waycompetition should vary with trait distancedepends sensitively on whether thedifferent traits introduce new ways of beingregulated. If not â€” and the authors arguethat this case is typical â€” then the numberof trait combinations that can coexist ismuch smaller than the full set ofavailable permutations, leaving manypotential ecological possibilitiesunfilled.Every species is a mind-bogglinglycomplex solution to a unique evolutionaryproblem. But the confusing fact that thereare more than eight million eukaryoticspecies alone3 reveals an apparentcontradiction in our ideas about howsuch diversity could arise in the firstplace. For if take it for granted thatinferior types are discarded via naturalselection, then why are there multiplespecies to begin with, instead of justthe \\'best\\' one?'"
      ]
     },
     "execution_count": 5,
     "metadata": {},
     "output_type": "execute_result"
    }
   ],
   "source": [
    "data"
   ]
  },
  {
   "cell_type": "code",
   "execution_count": 6,
   "metadata": {},
   "outputs": [
    {
     "name": "stdout",
     "output_type": "stream",
     "text": [
      "The great limnologist George EvelynHutchinson famously asked thequestion, \"why are there so manykinds of animals\"? \n",
      "\n",
      "1. \n",
      "\n",
      "Hutchinson's answerto his own question has become oneof the foundational ideas in ecology, andhas to do with the abundance of 'regulatingfactors' in the environment. \n",
      "\n",
      "However,the ideaâ€™s deceptive simplicity can leadto important misinterpretations, asreported by Ashby et al2 in Nature Ecology& Evolution. \n",
      "\n",
      "Building on a classical theoreticalmodel in which species possess a suiteof traits and the degree of competitionbetween them is governed by traitsimilarity, they show that the waycompetition should vary with trait distancedepends sensitively on whether thedifferent traits introduce new ways of beingregulated. \n",
      "\n",
      "If not â€” and the authors arguethat this case is typical â€” then the numberof trait combinations that can coexist ismuch smaller than the full set ofavailable permutations, leaving manypotential ecological possibilitiesunfilled. \n",
      "\n",
      "Every species is a mind-bogglinglycomplex solution to a unique evolutionaryproblem. \n",
      "\n",
      "But the confusing fact that thereare more than eight million eukaryoticspecies alone3 reveals an apparentcontradiction in our ideas about howsuch diversity could arise in the firstplace. \n",
      "\n",
      "For if take it for granted thatinferior types are discarded via naturalselection, then why are there multiplespecies to begin with, instead of justthe 'best' one? \n",
      "\n"
     ]
    }
   ],
   "source": [
    "for s in split_into_sentences(data):\n",
    "    print(s,\"\\n\")"
   ]
  },
  {
   "cell_type": "code",
   "execution_count": 25,
   "metadata": {},
   "outputs": [
    {
     "data": {
      "text/plain": [
       "21.0"
      ]
     },
     "execution_count": 25,
     "metadata": {},
     "output_type": "execute_result"
    }
   ],
   "source": [
    "len(data.split())/len(split_into_sentences(data))"
   ]
  },
  {
   "cell_type": "code",
   "execution_count": null,
   "metadata": {
    "collapsed": true
   },
   "outputs": [],
   "source": []
  }
 ],
 "metadata": {
  "kernelspec": {
   "display_name": "Python 3",
   "language": "python",
   "name": "python3"
  },
  "language_info": {
   "codemirror_mode": {
    "name": "ipython",
    "version": 3
   },
   "file_extension": ".py",
   "mimetype": "text/x-python",
   "name": "python",
   "nbconvert_exporter": "python",
   "pygments_lexer": "ipython3",
   "version": "3.6.1"
  }
 },
 "nbformat": 4,
 "nbformat_minor": 2
}
