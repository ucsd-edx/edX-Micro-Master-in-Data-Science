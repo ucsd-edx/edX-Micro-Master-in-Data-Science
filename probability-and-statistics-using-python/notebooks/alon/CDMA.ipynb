{
 "cells": [
  {
   "cell_type": "code",
   "execution_count": 1,
   "metadata": {
    "collapsed": true
   },
   "outputs": [],
   "source": [
    "import numpy as np"
   ]
  },
  {
   "cell_type": "code",
   "execution_count": 2,
   "metadata": {
    "collapsed": true
   },
   "outputs": [],
   "source": [
    "def generate_code(k, n):\n",
    "    code = 2*np.around(np.random.rand(k, n)) - 1\n",
    "    code = code.astype(int)\n",
    "    return code"
   ]
  },
  {
   "cell_type": "code",
   "execution_count": 3,
   "metadata": {},
   "outputs": [
    {
     "name": "stdout",
     "output_type": "stream",
     "text": [
      "[[ 1  1 -1 -1]\n",
      " [ 1 -1  1  1]\n",
      " [ 1  1 -1  1]]\n"
     ]
    }
   ],
   "source": [
    "code = generate_code(3, 4)\n",
    "print(code)"
   ]
  },
  {
   "cell_type": "code",
   "execution_count": 4,
   "metadata": {
    "collapsed": true
   },
   "outputs": [],
   "source": [
    "def encode(code, messages):\n",
    "    message_diag = np.diag(messages)\n",
    "    return np.dot(message_diag, code)"
   ]
  },
  {
   "cell_type": "code",
   "execution_count": 5,
   "metadata": {},
   "outputs": [
    {
     "name": "stdout",
     "output_type": "stream",
     "text": [
      "[[ 1  1 -1 -1]\n",
      " [-1  1 -1 -1]\n",
      " [-1 -1  1 -1]]\n"
     ]
    }
   ],
   "source": [
    "codewords = encode(code, [1, -1, -1])\n",
    "print(codewords)"
   ]
  },
  {
   "cell_type": "code",
   "execution_count": 6,
   "metadata": {
    "collapsed": true
   },
   "outputs": [],
   "source": [
    "def receive(codewords):\n",
    "    return np.sum(codewords, axis=0)"
   ]
  },
  {
   "cell_type": "code",
   "execution_count": 7,
   "metadata": {},
   "outputs": [
    {
     "name": "stdout",
     "output_type": "stream",
     "text": [
      "[-1  1 -1 -3]\n"
     ]
    }
   ],
   "source": [
    "y = receive(codewords)\n",
    "print(y)"
   ]
  },
  {
   "cell_type": "code",
   "execution_count": 8,
   "metadata": {
    "collapsed": true
   },
   "outputs": [],
   "source": [
    "def decode(y, code):\n",
    "    return np.sign(np.dot(y, np.matrix.transpose(code)))"
   ]
  },
  {
   "cell_type": "code",
   "execution_count": 9,
   "metadata": {},
   "outputs": [
    {
     "name": "stdout",
     "output_type": "stream",
     "text": [
      "[ 1 -1 -1]\n"
     ]
    }
   ],
   "source": [
    "decoded_messages = decode(y, code)\n",
    "print(decoded_messages)"
   ]
  },
  {
   "cell_type": "code",
   "execution_count": 10,
   "metadata": {
    "collapsed": true
   },
   "outputs": [],
   "source": [
    "def simulate(k, n):\n",
    "    code = generate_code(k, n)\n",
    "    messages = np.random.choice([1,-1],k)\n",
    "    codewords = encode(code, messages)\n",
    "    y = receive(codewords)\n",
    "    decoded_messages = decode(y, code)\n",
    "    P_err = np.count_nonzero(decoded_messages - messages)/k\n",
    "    return P_err"
   ]
  },
  {
   "cell_type": "code",
   "execution_count": 11,
   "metadata": {},
   "outputs": [
    {
     "data": {
      "text/plain": [
       "0.14"
      ]
     },
     "execution_count": 11,
     "metadata": {},
     "output_type": "execute_result"
    }
   ],
   "source": [
    "simulate(50, 100)"
   ]
  },
  {
   "cell_type": "code",
   "execution_count": 20,
   "metadata": {},
   "outputs": [
    {
     "data": {
      "text/plain": [
       "0.0786179999999992"
      ]
     },
     "execution_count": 20,
     "metadata": {},
     "output_type": "execute_result"
    }
   ],
   "source": [
    "P = []\n",
    "for m in range(0, 10000):\n",
    "    P.append(simulate(50, 100))\n",
    "sum(P)/10000"
   ]
  },
  {
   "cell_type": "code",
   "execution_count": null,
   "metadata": {
    "collapsed": true
   },
   "outputs": [],
   "source": []
  }
 ],
 "metadata": {
  "kernelspec": {
   "display_name": "Python 3",
   "language": "python",
   "name": "python3"
  },
  "language_info": {
   "codemirror_mode": {
    "name": "ipython",
    "version": 3
   },
   "file_extension": ".py",
   "mimetype": "text/x-python",
   "name": "python",
   "nbconvert_exporter": "python",
   "pygments_lexer": "ipython3",
   "version": "3.6.1"
  }
 },
 "nbformat": 4,
 "nbformat_minor": 2
}
