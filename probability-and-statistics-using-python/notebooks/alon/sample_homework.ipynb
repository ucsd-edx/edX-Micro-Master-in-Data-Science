{
 "cells": [
  {
   "cell_type": "markdown",
   "metadata": {},
   "source": [
    "<font size=\"4\" style=\"color:red;\"> **IMPORTANT: ** When submitting this notebook as homework, make sure you Only modify cells which have the following comment</font>\n",
    "\n",
    "```python\n",
    "# modify this cell\n",
    "```\n",
    "\n",
    "<font style=\"color:red;\"> Do not add any new cells when submitting homework. To test out new code, use the coding **scratchpad** by clicking the triangular icon in the bottom right corner of the screen. (**hotkey:** control-B)  </font>"
   ]
  },
  {
   "cell_type": "markdown",
   "metadata": {},
   "source": [
    "# Import Junk:"
   ]
  },
  {
   "cell_type": "code",
   "execution_count": null,
   "metadata": {
    "collapsed": true
   },
   "outputs": [],
   "source": []
  },
  {
   "cell_type": "code",
   "execution_count": null,
   "metadata": {
    "collapsed": true
   },
   "outputs": [],
   "source": []
  },
  {
   "cell_type": "markdown",
   "metadata": {},
   "source": [
    "# Sets"
   ]
  },
  {
   "cell_type": "markdown",
   "metadata": {},
   "source": [
    "[Read this notebook](http://70.95.166.175:8888/notebooks/SAFETY/probability-and-statistics-using-python/notebooks/Week%209-%20RegressionPCA/1.Linear%20Algebra%20Review.ipynb) \n",
    "before attempting exercises in this section."
   ]
  },
  {
   "cell_type": "markdown",
   "metadata": {},
   "source": [
    "Using\n",
    "$\\vec{u_1}=\\pmatrix{\\frac{1}{\\sqrt{2}}\\  ,\\frac{1}{\\sqrt{2}}}$ \n",
    "and \n",
    "$\\vec{u_2}=\\pmatrix{\\frac{1}{\\sqrt{2}}\\  ,\\frac{-1}{\\sqrt{2}}}$ \n",
    "your task is to write two functions, **project_u1** and **project_u2**. The functions should take $\\vec{v}$ as an input and should then output the projection of $\\vec{v}$ onto the corresponding vector.\n",
    "\n",
    "<font  style=\"color:blue\"> * **Code:** *</font>\n",
    "```python\n",
    "v = np.array([2,1])\n",
    "print v\n",
    "print project_u1(v)\n",
    "print project_u2(v)\n",
    "print type( project_u2(v) )\n",
    "```\n",
    "\n",
    "\n",
    "<font  style=\"color:magenta\"> * **Output:** *</font>\n",
    "```\n",
    "[2 1]\n",
    "[ 1.5  1.5]\n",
    "[ 0.5 -0.5]\n",
    "<type 'numpy.ndarray'>\n",
    "```"
   ]
  },
  {
   "cell_type": "code",
   "execution_count": null,
   "metadata": {
    "collapsed": true
   },
   "outputs": [],
   "source": [
    "# modify this cell\n",
    "\n",
    "def project_u1(v):\n",
    "    # input: v is a 2D numpy.array \n",
    "    # output: return the projection of v onto [1/sqrt(2),1/sqrt(2)]\n",
    "    \n",
    "    ### BEGIN SOLUTION\n",
    "    u1 = np.array([1,1])/2**.5\n",
    "    return u1 * np.dot(v,u1)\n",
    "    ### END SOLUTION\n",
    "\n",
    "# modify this cell"
   ]
  },
  {
   "cell_type": "code",
   "execution_count": null,
   "metadata": {
    "collapsed": true
   },
   "outputs": [],
   "source": [
    "# Check Function\n",
    "\n",
    "v = np.array([0,3])\n",
    "assert type(project_u1(v)) == type(np.array([1.5,1.5]))\n",
    "assert sum(abs( project_u1(v) - np.array([1.5,1.5]) )) < 10**-6\n",
    "\n",
    "\n",
    "### BEGIN HIDDEN TESTS\n",
    "v = np.array([-2,1])\n",
    "assert sum(abs( project_u1(v) - np.array([-0.5, -0.5]) )) < 10**-6\n",
    "assert sum(abs( project_u2(v) - np.array([-1.5,  1.5]) )) < 10**-6\n",
    "### END HIDDEN TESTS"
   ]
  },
  {
   "cell_type": "code",
   "execution_count": null,
   "metadata": {
    "collapsed": true
   },
   "outputs": [],
   "source": []
  },
  {
   "cell_type": "code",
   "execution_count": null,
   "metadata": {
    "collapsed": true
   },
   "outputs": [],
   "source": []
  },
  {
   "cell_type": "code",
   "execution_count": null,
   "metadata": {
    "collapsed": true
   },
   "outputs": [],
   "source": []
  },
  {
   "cell_type": "code",
   "execution_count": null,
   "metadata": {
    "collapsed": true
   },
   "outputs": [],
   "source": []
  }
 ],
 "metadata": {
  "kernelspec": {
   "display_name": "Python 2",
   "language": "python",
   "name": "python2"
  },
  "language_info": {
   "codemirror_mode": {
    "name": "ipython",
    "version": 2
   },
   "file_extension": ".py",
   "mimetype": "text/x-python",
   "name": "python",
   "nbconvert_exporter": "python",
   "pygments_lexer": "ipython2",
   "version": "2.7.13"
  },
  "toc": {
   "colors": {
    "hover_highlight": "#DAA520",
    "navigate_num": "#000000",
    "navigate_text": "#333333",
    "running_highlight": "#FF0000",
    "selected_highlight": "#FFD700",
    "sidebar_border": "#EEEEEE",
    "wrapper_background": "#FFFFFF"
   },
   "moveMenuLeft": true,
   "nav_menu": {
    "height": "48px",
    "width": "252px"
   },
   "navigate_menu": true,
   "number_sections": true,
   "sideBar": true,
   "threshold": 4,
   "toc_cell": false,
   "toc_section_display": "block",
   "toc_window_display": false,
   "widenNotebook": false
  }
 },
 "nbformat": 4,
 "nbformat_minor": 2
}
