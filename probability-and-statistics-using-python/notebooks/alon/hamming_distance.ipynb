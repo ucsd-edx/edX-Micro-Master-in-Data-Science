{
 "cells": [
  {
   "cell_type": "code",
   "execution_count": 1,
   "metadata": {
    "collapsed": true
   },
   "outputs": [],
   "source": [
    "import numpy as np\n",
    "import itertools"
   ]
  },
  {
   "cell_type": "code",
   "execution_count": 2,
   "metadata": {
    "collapsed": true
   },
   "outputs": [],
   "source": [
    "def generate_code(k, n):\n",
    "    code = np.random.randint(2, size=(k,n))\n",
    "    return code"
   ]
  },
  {
   "cell_type": "code",
   "execution_count": 3,
   "metadata": {
    "collapsed": true
   },
   "outputs": [],
   "source": [
    "def hamming_distance(u, v):\n",
    "    codeword_sum = np.mod(u+v, 2)\n",
    "    h = (codeword_sum != 0).sum(1)\n",
    "    return np.asarray(h)"
   ]
  },
  {
   "cell_type": "code",
   "execution_count": 4,
   "metadata": {},
   "outputs": [
    {
     "data": {
      "text/plain": [
       "numpy.int32"
      ]
     },
     "execution_count": 4,
     "metadata": {},
     "output_type": "execute_result"
    }
   ],
   "source": [
    "code = generate_code(3, 4)\n",
    "type(code[0][0])"
   ]
  },
  {
   "cell_type": "code",
   "execution_count": 5,
   "metadata": {
    "collapsed": true
   },
   "outputs": [],
   "source": [
    "def closeness_probability(k, n):\n",
    "    code = generate_code(k, n)\n",
    "    choose_2 = list(itertools.combinations(code, 2))\n",
    "    u, v = np.matrix([x[0] for x in choose_2]), np.matrix([x[1] for x in choose_2])\n",
    "    h = hamming_distance(u, v)\n",
    "    return len(h[h<=n/3])/len(h)"
   ]
  },
  {
   "cell_type": "code",
   "execution_count": 69,
   "metadata": {},
   "outputs": [
    {
     "data": {
      "text/plain": [
       "0.00044571428571428827"
      ]
     },
     "execution_count": 69,
     "metadata": {},
     "output_type": "execute_result"
    }
   ],
   "source": [
    "P = []\n",
    "for i in range(0, 1000):\n",
    "    P.append(closeness_probability(50, 100))\n",
    "sum(P)/1000"
   ]
  },
  {
   "cell_type": "code",
   "execution_count": 7,
   "metadata": {
    "collapsed": true
   },
   "outputs": [],
   "source": [
    "def encode(code, messages):\n",
    "    message_diag = np.diag(messages)\n",
    "    return np.dot(message_diag, code)"
   ]
  },
  {
   "cell_type": "code",
   "execution_count": 8,
   "metadata": {},
   "outputs": [
    {
     "data": {
      "text/plain": [
       "6"
      ]
     },
     "execution_count": 8,
     "metadata": {},
     "output_type": "execute_result"
    }
   ],
   "source": [
    "len(np.mod([2, 0, 0, 1, 2, 1], 2))"
   ]
  },
  {
   "cell_type": "code",
   "execution_count": 9,
   "metadata": {},
   "outputs": [
    {
     "data": {
      "text/plain": [
       "'\\nimport time\\nstart_time = time.time()\\nfor i in range(0, 500):\\n    for j in range(0, 500):\\n        hamming_distance(code[i], code[j])\\nprint(\"--- %s seconds ---\" % (time.time() - start_time))\\n'"
      ]
     },
     "execution_count": 9,
     "metadata": {},
     "output_type": "execute_result"
    }
   ],
   "source": [
    "'''\n",
    "import time\n",
    "start_time = time.time()\n",
    "for i in range(0, 500):\n",
    "    for j in range(0, 500):\n",
    "        hamming_distance(code[i], code[j])\n",
    "print(\"--- %s seconds ---\" % (time.time() - start_time))\n",
    "'''"
   ]
  },
  {
   "cell_type": "code",
   "execution_count": 10,
   "metadata": {},
   "outputs": [
    {
     "data": {
      "text/plain": [
       "'\\nimport time\\nstart_time = time.time()\\nchoose_2 = list(itertools.combinations(code, 2))\\nfor x in choose_2:\\n    ()\\nprint(\"--- %s seconds ---\" % (time.time() - start_time))\\n'"
      ]
     },
     "execution_count": 10,
     "metadata": {},
     "output_type": "execute_result"
    }
   ],
   "source": [
    "'''\n",
    "import time\n",
    "start_time = time.time()\n",
    "choose_2 = list(itertools.combinations(code, 2))\n",
    "for x in choose_2:\n",
    "    ()\n",
    "print(\"--- %s seconds ---\" % (time.time() - start_time))\n",
    "'''"
   ]
  },
  {
   "cell_type": "code",
   "execution_count": 11,
   "metadata": {
    "collapsed": true
   },
   "outputs": [],
   "source": [
    "code = np.matrix(generate_code(500, 1000))"
   ]
  },
  {
   "cell_type": "code",
   "execution_count": 12,
   "metadata": {
    "collapsed": true
   },
   "outputs": [],
   "source": [
    "import math"
   ]
  },
  {
   "cell_type": "code",
   "execution_count": 13,
   "metadata": {},
   "outputs": [
    {
     "data": {
      "text/plain": [
       "0.0006738585313537104"
      ]
     },
     "execution_count": 13,
     "metadata": {},
     "output_type": "execute_result"
    }
   ],
   "source": [
    "1 - math.erf(17/(5*(2**0.5)))"
   ]
  },
  {
   "cell_type": "code",
   "execution_count": 14,
   "metadata": {},
   "outputs": [
    {
     "data": {
      "text/plain": [
       "117.22222222222223"
      ]
     },
     "execution_count": 14,
     "metadata": {},
     "output_type": "execute_result"
    }
   ],
   "source": [
    "8.44/0.072"
   ]
  },
  {
   "cell_type": "code",
   "execution_count": 47,
   "metadata": {},
   "outputs": [
    {
     "name": "stdout",
     "output_type": "stream",
     "text": [
      "0.000436859918456\n"
     ]
    }
   ],
   "source": [
    "from scipy.stats import binom\n",
    "n0 = 100\n",
    "k0 = np.arange(0, 101)\n",
    "P_binom = binom.pmf(k0, n0, 0.5)\n",
    "print(sum(P_binom[0:34]))"
   ]
  },
  {
   "cell_type": "code",
   "execution_count": 16,
   "metadata": {
    "collapsed": true
   },
   "outputs": [],
   "source": [
    "code = np.around(np.random.rand(1000, 1000))"
   ]
  },
  {
   "cell_type": "code",
   "execution_count": 17,
   "metadata": {},
   "outputs": [
    {
     "data": {
      "text/plain": [
       "0.500766"
      ]
     },
     "execution_count": 17,
     "metadata": {},
     "output_type": "execute_result"
    }
   ],
   "source": [
    "np.count_nonzero(code)/len(code)**2"
   ]
  },
  {
   "cell_type": "code",
   "execution_count": 18,
   "metadata": {},
   "outputs": [
    {
     "name": "stdout",
     "output_type": "stream",
     "text": [
      "Code:\n",
      " [[0 0 1 0 0 0]\n",
      " [0 1 0 0 1 1]\n",
      " [0 1 0 0 1 0]\n",
      " [0 0 0 0 0 1]\n",
      " [1 1 1 0 0 1]\n",
      " [0 1 1 1 0 1]]\n",
      "\n",
      "2-combinations:\n",
      " [(array([0, 0, 1, 0, 0, 0]), array([0, 1, 0, 0, 1, 1])), (array([0, 0, 1, 0, 0, 0]), array([0, 1, 0, 0, 1, 0])), (array([0, 0, 1, 0, 0, 0]), array([0, 0, 0, 0, 0, 1])), (array([0, 0, 1, 0, 0, 0]), array([1, 1, 1, 0, 0, 1])), (array([0, 0, 1, 0, 0, 0]), array([0, 1, 1, 1, 0, 1])), (array([0, 1, 0, 0, 1, 1]), array([0, 1, 0, 0, 1, 0])), (array([0, 1, 0, 0, 1, 1]), array([0, 0, 0, 0, 0, 1])), (array([0, 1, 0, 0, 1, 1]), array([1, 1, 1, 0, 0, 1])), (array([0, 1, 0, 0, 1, 1]), array([0, 1, 1, 1, 0, 1])), (array([0, 1, 0, 0, 1, 0]), array([0, 0, 0, 0, 0, 1])), (array([0, 1, 0, 0, 1, 0]), array([1, 1, 1, 0, 0, 1])), (array([0, 1, 0, 0, 1, 0]), array([0, 1, 1, 1, 0, 1])), (array([0, 0, 0, 0, 0, 1]), array([1, 1, 1, 0, 0, 1])), (array([0, 0, 0, 0, 0, 1]), array([0, 1, 1, 1, 0, 1])), (array([1, 1, 1, 0, 0, 1]), array([0, 1, 1, 1, 0, 1]))]\n",
      "\n",
      "u, v\n",
      " [[0 0 1 0 0 0]\n",
      " [0 0 1 0 0 0]\n",
      " [0 0 1 0 0 0]\n",
      " [0 0 1 0 0 0]\n",
      " [0 0 1 0 0 0]\n",
      " [0 1 0 0 1 1]\n",
      " [0 1 0 0 1 1]\n",
      " [0 1 0 0 1 1]\n",
      " [0 1 0 0 1 1]\n",
      " [0 1 0 0 1 0]\n",
      " [0 1 0 0 1 0]\n",
      " [0 1 0 0 1 0]\n",
      " [0 0 0 0 0 1]\n",
      " [0 0 0 0 0 1]\n",
      " [1 1 1 0 0 1]] \n",
      "\n",
      " [[0 1 0 0 1 1]\n",
      " [0 1 0 0 1 0]\n",
      " [0 0 0 0 0 1]\n",
      " [1 1 1 0 0 1]\n",
      " [0 1 1 1 0 1]\n",
      " [0 1 0 0 1 0]\n",
      " [0 0 0 0 0 1]\n",
      " [1 1 1 0 0 1]\n",
      " [0 1 1 1 0 1]\n",
      " [0 0 0 0 0 1]\n",
      " [1 1 1 0 0 1]\n",
      " [0 1 1 1 0 1]\n",
      " [1 1 1 0 0 1]\n",
      " [0 1 1 1 0 1]\n",
      " [0 1 1 1 0 1]]\n",
      "\n",
      "h:\n",
      " [[4 3 2 3 3 1 2 3 3 3 4 4 3 3 2]] <class 'numpy.ndarray'>\n",
      "\n",
      " [2 1 2 2]\n",
      "\n",
      " 0.26666666666666666\n"
     ]
    }
   ],
   "source": [
    "code = generate_code(6, 6)\n",
    "print(\"Code:\\n\", code)\n",
    "choose_2 = list(itertools.combinations(code, 2))\n",
    "print(\"\\n2-combinations:\\n\", choose_2)\n",
    "u, v = np.matrix([x[0] for x in choose_2]), np.matrix([x[1] for x in choose_2])\n",
    "print(\"\\nu, v\\n\", u, \"\\n\\n\", v)\n",
    "h = hamming_distance(u, v)\n",
    "print(\"\\nh:\\n\", np.transpose(h), type(h))\n",
    "print(\"\\n\", (h[h<=6/3]))\n",
    "print(\"\\n\", len(h[h<=6/3])/len(h))"
   ]
  },
  {
   "cell_type": "code",
   "execution_count": 19,
   "metadata": {},
   "outputs": [
    {
     "data": {
      "text/plain": [
       "array([4, 3, 2, 3, 3, 1, 2, 3, 3, 3, 4, 4, 3, 3, 2])"
      ]
     },
     "execution_count": 19,
     "metadata": {},
     "output_type": "execute_result"
    }
   ],
   "source": [
    "b = np.asarray(h) \n",
    "# b = b.reshape(-1, len(b)) \n",
    "b = np.asarray(h).reshape(len(h))\n",
    "b"
   ]
  },
  {
   "cell_type": "code",
   "execution_count": 20,
   "metadata": {},
   "outputs": [
    {
     "ename": "NameError",
     "evalue": "name 'list2d' is not defined",
     "output_type": "error",
     "traceback": [
      "\u001b[1;31m---------------------------------------------------------------------------\u001b[0m",
      "\u001b[1;31mNameError\u001b[0m                                 Traceback (most recent call last)",
      "\u001b[1;32m<ipython-input-20-3af0f454870d>\u001b[0m in \u001b[0;36m<module>\u001b[1;34m()\u001b[0m\n\u001b[1;32m----> 1\u001b[1;33m \u001b[0mprint\u001b[0m\u001b[1;33m(\u001b[0m\u001b[0mlist2d\u001b[0m\u001b[1;33m)\u001b[0m\u001b[1;33m\u001b[0m\u001b[0m\n\u001b[0m",
      "\u001b[1;31mNameError\u001b[0m: name 'list2d' is not defined"
     ]
    }
   ],
   "source": [
    "print(list2d)"
   ]
  },
  {
   "cell_type": "code",
   "execution_count": 21,
   "metadata": {},
   "outputs": [
    {
     "data": {
      "text/plain": [
       "0.26666666666666666"
      ]
     },
     "execution_count": 21,
     "metadata": {},
     "output_type": "execute_result"
    }
   ],
   "source": [
    "4/15"
   ]
  },
  {
   "cell_type": "code",
   "execution_count": null,
   "metadata": {
    "collapsed": true
   },
   "outputs": [],
   "source": []
  }
 ],
 "metadata": {
  "kernelspec": {
   "display_name": "Python 3",
   "language": "python",
   "name": "python3"
  },
  "language_info": {
   "codemirror_mode": {
    "name": "ipython",
    "version": 3
   },
   "file_extension": ".py",
   "mimetype": "text/x-python",
   "name": "python",
   "nbconvert_exporter": "python",
   "pygments_lexer": "ipython3",
   "version": "3.6.1"
  }
 },
 "nbformat": 4,
 "nbformat_minor": 2
}
