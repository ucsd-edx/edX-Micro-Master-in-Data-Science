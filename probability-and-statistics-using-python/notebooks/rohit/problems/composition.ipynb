{
 "cells": [
  {
   "cell_type": "markdown",
   "metadata": {},
   "source": [
    "Compute all $k$-compositions of $n$."
   ]
  },
  {
   "cell_type": "code",
   "execution_count": 1,
   "metadata": {
    "collapsed": true
   },
   "outputs": [],
   "source": [
    "def composition(n, k):\n",
    "    part = set()\n",
    "    if k == n:\n",
    "        part.add((1,)*n)\n",
    "    if k == 1:\n",
    "        part.add((n,))\n",
    "    else:\n",
    "        for x in range(1, n-k+2):\n",
    "            for y in composition(n-x, k-1):\n",
    "                part.add((x,)+y)\n",
    "    return part"
   ]
  },
  {
   "cell_type": "markdown",
   "metadata": {},
   "source": [
    "Print all the compositions found by <i>composition()<i>."
   ]
  },
  {
   "cell_type": "code",
   "execution_count": 6,
   "metadata": {
    "collapsed": true
   },
   "outputs": [],
   "source": [
    "def print_composition(n, k):\n",
    "    for x in composition(n, k):\n",
    "        for i in range(0, len(x)-1):\n",
    "            print(x[i], end = \" + \")\n",
    "        print(x[len(x)-1])    \n",
    "        # print(\"\\n\")"
   ]
  },
  {
   "cell_type": "code",
   "execution_count": 7,
   "metadata": {},
   "outputs": [
    {
     "name": "stdout",
     "output_type": "stream",
     "text": [
      "2 + 2 + 2\n",
      "3 + 1 + 2\n",
      "1 + 3 + 2\n",
      "3 + 2 + 1\n",
      "1 + 4 + 1\n",
      "2 + 3 + 1\n",
      "1 + 2 + 3\n",
      "4 + 1 + 1\n",
      "1 + 1 + 4\n",
      "2 + 1 + 3\n"
     ]
    }
   ],
   "source": [
    "print_composition(6,3)"
   ]
  },
  {
   "cell_type": "markdown",
   "metadata": {},
   "source": [
    "Create the set of all $k$-compositions of $n$ where for $1\\le i\\le k$, part $i$ is $\\le m_i$"
   ]
  },
  {
   "cell_type": "code",
   "execution_count": 3,
   "metadata": {
    "collapsed": true
   },
   "outputs": [],
   "source": [
    "def constrained_composition(n, m):\n",
    "    k = len(m)\n",
    "    parts = set()\n",
    "    if k == n:\n",
    "        if 1 <= min(m):\n",
    "            parts.add((1,)*n)\n",
    "    if k == 1:\n",
    "        if n <= m[0]:\n",
    "            parts.add((n,))\n",
    "    else:\n",
    "        for x in range(1, min(n-k+2,m[0]+1)):\n",
    "            for y in constrained_composition(n-x, m[1:]):\n",
    "                parts.add((x,)+y)\n",
    "    return parts"
   ]
  },
  {
   "cell_type": "markdown",
   "metadata": {},
   "source": [
    "Print the compositions found by <i>constrained_composition()</i>"
   ]
  },
  {
   "cell_type": "code",
   "execution_count": 4,
   "metadata": {
    "collapsed": true
   },
   "outputs": [],
   "source": [
    "def print_constrained_composition(n, m):\n",
    "    for x in constrained_composition(n, m):\n",
    "        for i in range(0, len(x)-1):\n",
    "            print(x[i], end = \" + \")\n",
    "        print(x[len(x)-1])    \n",
    "        # print(\"\\n\")"
   ]
  },
  {
   "cell_type": "code",
   "execution_count": 5,
   "metadata": {},
   "outputs": [
    {
     "name": "stdout",
     "output_type": "stream",
     "text": [
      "2 + 1 + 4\n",
      "3 + 2 + 2\n",
      "1 + 2 + 4\n",
      "1 + 1 + 5\n",
      "3 + 1 + 3\n",
      "2 + 2 + 3\n"
     ]
    }
   ],
   "source": [
    "print_constrained_composition(7, [3, 2, 5])"
   ]
  }
 ],
 "metadata": {
  "kernelspec": {
   "display_name": "Python 3",
   "language": "python",
   "name": "python3"
  },
  "language_info": {
   "codemirror_mode": {
    "name": "ipython",
    "version": 3
   },
   "file_extension": ".py",
   "mimetype": "text/x-python",
   "name": "python",
   "nbconvert_exporter": "python",
   "pygments_lexer": "ipython3",
   "version": "3.6.1"
  }
 },
 "nbformat": 4,
 "nbformat_minor": 2
}
