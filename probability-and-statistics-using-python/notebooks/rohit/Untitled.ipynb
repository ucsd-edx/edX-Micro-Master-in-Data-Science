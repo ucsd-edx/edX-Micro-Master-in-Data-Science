{
 "cells": [
  {
   "cell_type": "code",
   "execution_count": 50,
   "metadata": {
    "collapsed": false
   },
   "outputs": [
    {
     "data": {
      "application/vnd.jupyter.widget-view+json": {
       "model_id": "b4100a8105004d098fabfd2776adba77"
      }
     },
     "metadata": {},
     "output_type": "display_data"
    },
    {
     "data": {
      "text/plain": [
       "<function __main__.plot_markov>"
      ]
     },
     "execution_count": 50,
     "metadata": {},
     "output_type": "execute_result"
    }
   ],
   "source": [
    "# Plots the Markov and Chebyshev bounds as a function of a\n",
    "\n",
    "import numpy as np\n",
    "import matplotlib.pyplot as plt\n",
    "import ipywidgets as widgets\n",
    "\n",
    "def plot_markov(μ, σ):\n",
    "\n",
    "    a_min = μ\n",
    "    a_max = min(μ*20,σ*10)\n",
    "\n",
    "    a = np.linspace(a_min, a_max, 10001)\n",
    "    plt.plot(a, μ/a, 'b', linewidth=3.0, label='$\\mu/a$')\n",
    "\n",
    "    b_min = μ+σ\n",
    "    b = np.linspace(b_min, a_max, 10001)\n",
    "    plt.plot(b, (σ/(b-μ))**2, 'r', linewidth=3.0, label='$(a-\\mu)/\\sigma^2$')\n",
    "    plt.plot([μ,μ],[0,1.1])\n",
    "    plt.plot([μ+σ,μ+σ],[0,1.1],'r')\n",
    "    plt.legend(fontsize = 30)\n",
    "\n",
    "    plt.title('Markov and Chebyshev bounds on $P(X\\geq a)$ for $\\mu=$%0.1f and $\\sigma=$%0.1f' %(μ,σ), fontsize = 20)\n",
    "    plt.grid()\n",
    "  \n",
    "    xticks_array = np.concatenate((np.linspace(μ, np.ceil(a_max/μ)*μ, np.ceil(a_max/μ)), np.array([0, μ+σ])))\n",
    "    #xticks_array=[0,μ+σ]+xticks_array\n",
    "    plt.xticks(xticks_array, fontsize = 16)\n",
    "    plt.yticks(np.linspace(0.2, 1, 5), fontsize = 16)\n",
    "    plt.xlabel('a', fontsize = 20)\n",
    "    plt.ylabel('Probability bounds', fontsize = 20)\n",
    "    plt.gcf().set_size_inches(16,8)\n",
    "    plt.gca().set_xlim([0, a_max])\n",
    "    plt.gca().set_ylim([0,1.1])\n",
    "    plt.show()\n",
    "\n",
    "widgets.interact(plot_markov, μ=widgets.FloatSlider(description = '$\\mu$', min=0.5, max=20, step=0.1, value=8, continuous_update = False), \n",
    "σ=widgets.FloatSlider(description = '$\\sigma$', min=0.5, max=20, step=0.1, value=5, continuous_update = False))\n"
   ]
  },
  {
   "cell_type": "code",
   "execution_count": 30,
   "metadata": {
    "collapsed": false
   },
   "outputs": [
    {
     "data": {
      "text/plain": [
       "array([11, 22, 18,  7,  6,  1,  3,  5])"
      ]
     },
     "execution_count": 30,
     "metadata": {},
     "output_type": "execute_result"
    }
   ],
   "source": [
    "x = np.array([11,22])\n",
    "y = np.array([18,7,6])\n",
    "z = np.array([1,3,5])\n",
    "np.concatenate((x,y,z))"
   ]
  },
  {
   "cell_type": "code",
   "execution_count": 35,
   "metadata": {
    "collapsed": false
   },
   "outputs": [
    {
     "data": {
      "text/plain": [
       "array([1, 2])"
      ]
     },
     "execution_count": 35,
     "metadata": {},
     "output_type": "execute_result"
    }
   ],
   "source": [
    "np.array([1, 2])"
   ]
  },
  {
   "cell_type": "code",
   "execution_count": 37,
   "metadata": {
    "collapsed": false
   },
   "outputs": [
    {
     "data": {
      "text/plain": [
       "array([1, 2, 3, 4])"
      ]
     },
     "execution_count": 37,
     "metadata": {},
     "output_type": "execute_result"
    }
   ],
   "source": [
    "a = np.array([1, 2])\n",
    "b = np.array([3, 4])\n",
    "np.concatenate((a, b))"
   ]
  },
  {
   "cell_type": "code",
   "execution_count": 43,
   "metadata": {
    "collapsed": true
   },
   "outputs": [],
   "source": [
    "a = np.concatenate((np.linspace(1, np.ceil(10/1)*1, 10), np.array([0, 4])))"
   ]
  },
  {
   "cell_type": "code",
   "execution_count": 45,
   "metadata": {
    "collapsed": false
   },
   "outputs": [
    {
     "data": {
      "text/plain": [
       "([<matplotlib.axis.XTick at 0xa651320>,\n",
       "  <matplotlib.axis.XTick at 0x954a048>,\n",
       "  <matplotlib.axis.XTick at 0xaa895f8>,\n",
       "  <matplotlib.axis.XTick at 0x961ba20>],\n",
       " <a list of 4 Text xticklabel objects>)"
      ]
     },
     "execution_count": 45,
     "metadata": {},
     "output_type": "execute_result"
    }
   ],
   "source": [
    "plt.xticks([1, 2, 3, 4])"
   ]
  },
  {
   "cell_type": "code",
   "execution_count": 2,
   "metadata": {
    "collapsed": false
   },
   "outputs": [
    {
     "data": {
      "image/png": "[encoded data removed]",
      "text/plain": [
       "<matplotlib.figure.Figure at 0x10c96b198>"
      ]
     },
     "metadata": {},
     "output_type": "display_data"
    }
   ],
   "source": [
    "%matplotlib inline\n",
    "\n",
    "from matplotlib import pyplot as plt\n",
    "import numpy as np\n",
    "\n",
    "\n",
    "NUM_ROWS = 10\n",
    "NUM_TRIALS = 4000\n",
    "PROB_RIGHT = 0.5\n",
    "\n",
    "\n",
    "# Compute trials\n",
    "went_right = np.random.sample([NUM_TRIALS, NUM_ROWS]) < PROB_RIGHT\n",
    "trials = np.where(went_right, 1, -1)\n",
    "destinations = trials.sum(axis=1)\n",
    "paths = trials.cumsum(axis=1)\n",
    "\n",
    "# Prepare figure\n",
    "fig, (ax_board, ax_dest) = plt.subplots(1, 2)\n",
    "fig.set_size_inches(12, 4)\n",
    "ax_board.set_xlim(-NUM_ROWS, NUM_ROWS)\n",
    "ax_board.axis('off')\n",
    "\n",
    "# Plot pegs\n",
    "pegs_x = np.concatenate([np.linspace(-row, row, num=(row + 1))\n",
    "                        for row in range(NUM_ROWS)])\n",
    "pegs_y = np.repeat(range(NUM_ROWS, 0, -1), range(1, NUM_ROWS + 1))\n",
    "ax_board.scatter(pegs_x, pegs_y)\n",
    "\n",
    "# Plot paths\n",
    "paths_x = np.concatenate((np.zeros((NUM_TRIALS, 1)), paths), axis=1)\n",
    "path_y = np.linspace(NUM_ROWS, 0, num=(NUM_ROWS + 1)) + 0.4\n",
    "ax_board.plot(paths_x.T, path_y,\n",
    "         color=(0, 0.9, 0.3, 3 / NUM_TRIALS),\n",
    "         linewidth=3);\n",
    "\n",
    "# Plot destinations histogram\n",
    "bins = np.arange(-NUM_ROWS, NUM_ROWS + 2, 2)\n",
    "ax_dest.hist(destinations, bins=bins, rwidth=0.9);"
   ]
  },
  {
   "cell_type": "code",
   "execution_count": null,
   "metadata": {
    "collapsed": true
   },
   "outputs": [],
   "source": []
  }
 ],
 "metadata": {
  "kernelspec": {
   "display_name": "Python 3",
   "language": "python",
   "name": "python3"
  },
  "language_info": {
   "codemirror_mode": {
    "name": "ipython",
    "version": 3
   },
   "file_extension": ".py",
   "mimetype": "text/x-python",
   "name": "python",
   "nbconvert_exporter": "python",
   "pygments_lexer": "ipython3",
   "version": "3.5.3"
  }
 },
 "nbformat": 4,
 "nbformat_minor": 2
}
