{
 "cells": [
  {
   "cell_type": "code",
   "execution_count": 1,
   "metadata": {
    "collapsed": true
   },
   "outputs": [],
   "source": [
    "%matplotlib inline"
   ]
  },
  {
   "cell_type": "code",
   "execution_count": 20,
   "metadata": {
    "collapsed": false
   },
   "outputs": [
    {
     "data": {
      "application/vnd.jupyter.widget-view+json": {
       "model_id": "9a6f859403264d9eb3abee3b6aa57203"
      }
     },
     "metadata": {},
     "output_type": "display_data"
    },
    {
     "data": {
      "text/plain": [
       "<function __main__.f>"
      ]
     },
     "execution_count": 20,
     "metadata": {},
     "output_type": "execute_result"
    }
   ],
   "source": [
    "# %load pdf_shade\n",
    "from __future__ import print_function\n",
    "import numpy as np\n",
    "import matplotlib.pyplot as plt\n",
    "from scipy.stats import binom, norm\n",
    "from ipywidgets import interact, interactive, fixed, interact_manual\n",
    "import ipywidgets as widgets\n",
    "import warnings\n",
    "warnings.filterwarnings(\"ignore\")\n",
    "e = np.e\n",
    "pi = np.pi\n",
    "def f(x_range, y_max, shade):\n",
    "    x_min = x_range[0]\n",
    "    x_max = x_range[1]\n",
    "    a = shade[0]\n",
    "    b = shade[1]\n",
    "    x = np.linspace(-100, 100, 10001)\n",
    "    σ = 1**0.5\n",
    "    μ = 0\n",
    "    P_norm = norm.pdf(x, μ, σ)\n",
    "    fig = plt.gcf()\n",
    "    fig.set_size_inches(16,8)\n",
    "    plt.plot(x, P_norm, 'b', linewidth=3.0, label = \"PDF\")\n",
    "    #if CDF == True:\n",
    "      #  CDF_norm = norm.cdf(x, μ, σ)\n",
    "       # plt.plot(x, CDF_norm, 'r', linewidth=3.0, label = \"CDF\")\n",
    "    y0 = (1/(σ*np.sqrt(2*pi)))*np.exp(-((a-μ)**2)/(2*σ**2))\n",
    "    y1 = (1/(σ*np.sqrt(2*pi)))*np.exp(-((b-μ)**2)/(2*σ**2))\n",
    "    plt.plot([a, a], [0, y0], 'm--', linewidth = 2.0, label = '$\\mu\\pm\\sigma$')\n",
    "    plt.plot([b, b], [0, y1], 'm--', linewidth = 2.0)\n",
    "    plt.gca().fill_between(x, P_norm, where = ((x>a) & (x<b)), facecolor='cyan')\n",
    "    axes = plt.gca()\n",
    "   # w = e**α\n",
    "    axes.set_xlim([x_min, x_max])\n",
    "    axes.set_ylim([0,y_max])\n",
    "    #plt.xlabel('Number of Successes')\n",
    "    #plt.ylabel('Probability of Successes')\n",
    "    #print('                   [%0.0f, %0.0f]' %(x_min, x_max))\n",
    "   # plt.xticks([])\n",
    "   # plt.yticks([])\n",
    "    plt.axis('off') # turns off axis\n",
    "#    plt.savefig('name.pdf')\n",
    "    plt.savefig('name.png', transparent=True)\n",
    "    plt.show()\n",
    "\n",
    "interact(f, μ=widgets.FloatSlider(description = '$\\mu$', min=-50, max=50, step=0.1, value=0, continuous_update = False), var=widgets.FloatSlider(description = '$\\sigma^2$', min=0.5, max=30, step=0.1, value=1, continuous_update = False), x_range = widgets.IntRangeSlider(description = \"$[x_{min},  x_{max}]$\",\n",
    "    value=[-5, 5],\n",
    "    min=-10,\n",
    "    max=10,\n",
    "    step=1, continuous_update = False), y_max=widgets.FloatSlider(description = '$y_{max}$', min=0.1, max=1, step=0.1, value=0.5, continuous_update = False), CDF = widgets.ToggleButton(value = False), shade = widgets.FloatRangeSlider(description = \"Shaded region\", value = [-1,1] , min = -5, max = 5, step = 0.2, readout = False))\n",
    "         \n",
    "         #α = widgets.FloatSlider(description = \"Range\", min=0,max=5,step=0.01,value = 1.5, readout=False, continuous_update = False))\n"
   ]
  }
 ],
 "metadata": {
  "celltoolbar": "Raw Cell Format",
  "kernelspec": {
   "display_name": "Python 3",
   "language": "python",
   "name": "python3"
  },
  "language_info": {
   "codemirror_mode": {
    "name": "ipython",
    "version": 3
   },
   "file_extension": ".py",
   "mimetype": "text/x-python",
   "name": "python",
   "nbconvert_exporter": "python",
   "pygments_lexer": "ipython3",
   "version": "3.5.3"
  },
  "widgets": {
   "state": {
    "679e63e5b0704df386125be78e7d9821": {
     "views": [
      {
       "cell_index": 4
      }
     ]
    }
   },
   "version": "1.2.0"
  }
 },
 "nbformat": 4,
 "nbformat_minor": 2
}
