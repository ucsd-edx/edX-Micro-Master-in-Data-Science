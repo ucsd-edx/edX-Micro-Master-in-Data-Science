{
 "cells": [
  {
   "cell_type": "code",
   "execution_count": 1,
   "metadata": {
    "collapsed": true
   },
   "outputs": [],
   "source": [
    "import itertools\n",
    "import mpmath"
   ]
  },
  {
   "cell_type": "code",
   "execution_count": 2,
   "metadata": {
    "collapsed": true
   },
   "outputs": [],
   "source": [
    "S = ['a','b','c']\n",
    "k = 2"
   ]
  },
  {
   "cell_type": "code",
   "execution_count": 3,
   "metadata": {},
   "outputs": [
    {
     "name": "stdout",
     "output_type": "stream",
     "text": [
      "Permutations of ['a', 'b', 'c']:\n",
      "\n",
      "aa   ab   ac   ba   bb   bc   ca   cb   cc   \n",
      "\n",
      "Size: |S|^2 = 9\n"
     ]
    }
   ],
   "source": [
    "# prints the cartesian product\n",
    "cartesian_product = [i for i in itertools.product(S, repeat = k)]\n",
    "print(\"Permutations of %s:\\n\" %S)\n",
    "for i in range(0, len(cartesian_product)):\n",
    "    print(''.join(cartesian_product[i]), end='   ')\n",
    "print(\"\\n\\nSize: |S|^%i = \" %k, len(cartesian_product), sep=\"\")"
   ]
  },
  {
   "cell_type": "code",
   "execution_count": 5,
   "metadata": {},
   "outputs": [
    {
     "name": "stdout",
     "output_type": "stream",
     "text": [
      "Permutations of ['a', 'b', 'c']:\n",
      "\n",
      "abc   acb   bac   bca   cab   cba   \n",
      "\n",
      "Size: 3! = 6\n"
     ]
    }
   ],
   "source": [
    "# prints all the |S|-permutations of S\n",
    "n = len(S)\n",
    "permute_all = list(itertools.permutations(S))\n",
    "print(\"Permutations of %s:\\n\" %S)\n",
    "for i in range(0, len(permute_all)):\n",
    "    print(''.join(permute_all[i]), end='   ')\n",
    "print(\"\\n\\nSize: \", len(S), \"! = \", len(permute_all), sep=\"\")"
   ]
  },
  {
   "cell_type": "code",
   "execution_count": 6,
   "metadata": {},
   "outputs": [
    {
     "name": "stdout",
     "output_type": "stream",
     "text": [
      "2-permutations of ['a', 'b', 'c']:\n",
      "\n",
      "ab   ac   ba   bc   ca   cb   \n",
      "\n",
      "Size: 3!/(3-2)! = 6\n"
     ]
    }
   ],
   "source": [
    "# prints all the k-permutations of S\n",
    "permute_k = list(itertools.permutations(S, k))\n",
    "print(\"%i-permutations of %s:\\n\" %(k,S))\n",
    "for i in range(0, len(permute_k)):\n",
    "    print(''.join(permute_k[i]), end='   ')\n",
    "print(\"\\n\\nSize: \", n, \"!/(%i-%i)! = \" %(n,k), len(permute_k), sep=\"\")"
   ]
  },
  {
   "cell_type": "code",
   "execution_count": 7,
   "metadata": {},
   "outputs": [
    {
     "name": "stdout",
     "output_type": "stream",
     "text": [
      "2-combinations of ['a', 'b', 'c']:\n",
      "\n",
      "ab   ac   bc   \n",
      "\n",
      "Size: 3!/(2!(3-2)!) = 3\n"
     ]
    }
   ],
   "source": [
    "# prints all the k-combinations of S\n",
    "choose_k = list(itertools.combinations(S, k))\n",
    "print(\"%i-combinations of %s:\\n\" %(k,S))\n",
    "for i in range(0, len(choose_k)):\n",
    "    print(''.join(choose_k[i]), end='   ')\n",
    "print(\"\\n\\nSize: %i!/(%i!(%i-%i)!) = \" %(n,k,n,k), len(choose_k), sep=\"\")"
   ]
  },
  {
   "cell_type": "code",
   "execution_count": null,
   "metadata": {
    "collapsed": true
   },
   "outputs": [],
   "source": []
  },
  {
   "cell_type": "code",
   "execution_count": null,
   "metadata": {
    "collapsed": true
   },
   "outputs": [],
   "source": []
  },
  {
   "cell_type": "code",
   "execution_count": null,
   "metadata": {},
   "outputs": [],
   "source": [
    "# print n!\n",
    "print(len(abc), \"! = \",int(mpmath.factorial(len(abc))), sep=\"\")"
   ]
  },
  {
   "cell_type": "code",
   "execution_count": null,
   "metadata": {},
   "outputs": [],
   "source": [
    "print(permute_all[0][0])"
   ]
  },
  {
   "cell_type": "code",
   "execution_count": null,
   "metadata": {
    "collapsed": true
   },
   "outputs": [],
   "source": [
    "t = ('a', 'b')"
   ]
  },
  {
   "cell_type": "code",
   "execution_count": null,
   "metadata": {},
   "outputs": [],
   "source": []
  },
  {
   "cell_type": "code",
   "execution_count": null,
   "metadata": {},
   "outputs": [],
   "source": [
    "tup = ('a', 'b', 'c', 'd', 'g', 'x', 'r', 'e')\n",
    "A = ''.join(tup)"
   ]
  },
  {
   "cell_type": "code",
   "execution_count": null,
   "metadata": {},
   "outputs": [],
   "source": [
    "print(A)"
   ]
  }
 ],
 "metadata": {
  "kernelspec": {
   "display_name": "Python 3",
   "language": "python",
   "name": "python3"
  },
  "language_info": {
   "codemirror_mode": {
    "name": "ipython",
    "version": 3
   },
   "file_extension": ".py",
   "mimetype": "text/x-python",
   "name": "python",
   "nbconvert_exporter": "python",
   "pygments_lexer": "ipython3",
   "version": "3.6.1"
  }
 },
 "nbformat": 4,
 "nbformat_minor": 2
}
