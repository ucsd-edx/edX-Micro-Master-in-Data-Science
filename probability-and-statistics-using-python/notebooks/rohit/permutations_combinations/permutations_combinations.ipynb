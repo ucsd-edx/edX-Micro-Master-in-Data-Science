{
 "cells": [
  {
   "cell_type": "markdown",
   "metadata": {},
   "source": [
    "# Counting\n",
    "\n",
    "## Cartesian Products\n",
    "\n",
    "We'll find the cartesian product of two sets $A$ and $B$ and determine $A\\times B$, first by counting the number of elements in $S\\times T$, then by simply multiplying $|A|$ by $|B|$."
   ]
  },
  {
   "cell_type": "code",
   "execution_count": 1,
   "metadata": {
    "collapsed": true
   },
   "outputs": [],
   "source": [
    "import itertools"
   ]
  },
  {
   "cell_type": "code",
   "execution_count": 2,
   "metadata": {
    "collapsed": true
   },
   "outputs": [],
   "source": [
    "S = {1, 2, 3}\n",
    "T = {4, 5}"
   ]
  },
  {
   "cell_type": "code",
   "execution_count": 3,
   "metadata": {},
   "outputs": [
    {
     "name": "stdout",
     "output_type": "stream",
     "text": [
      "Ordered pairs in {1, 2, 3} x {4, 5}:  (1, 4)  (1, 5)  (2, 5)  (3, 4)  (2, 4)  (3, 5)  \n",
      "\n",
      "Size = 6\n",
      "\n"
     ]
    }
   ],
   "source": [
    "# Find cartesian product S X T and its size\n",
    "cartesian_product = set([i for i in itertools.product(S, T)])\n",
    "print(\"Ordered pairs in %s x %s:  \" %(S,T), end ='')\n",
    "for i in cartesian_product:\n",
    "    print(i, end = \"  \")\n",
    "print(\"\\n\\nSize = %i\\n\" %len(cartesian_product), sep=\"\")"
   ]
  },
  {
   "cell_type": "code",
   "execution_count": 4,
   "metadata": {},
   "outputs": [
    {
     "name": "stdout",
     "output_type": "stream",
     "text": [
      "6\n"
     ]
    }
   ],
   "source": [
    "# Find |S X T| directly\n",
    "print(len(S)*len(T))"
   ]
  },
  {
   "cell_type": "code",
   "execution_count": 5,
   "metadata": {
    "collapsed": true
   },
   "outputs": [],
   "source": [
    "S = {1, 2, 3}\n",
    "k = 2"
   ]
  },
  {
   "cell_type": "code",
   "execution_count": 6,
   "metadata": {
    "scrolled": false
   },
   "outputs": [
    {
     "name": "stdout",
     "output_type": "stream",
     "text": [
      "Tuples in {1, 2, 3}^2: (1, 2)  (3, 2)  (1, 3)  (3, 3)  (3, 1)  (2, 1)  (2, 3)  (2, 2)  (1, 1)  \n",
      "\n",
      "Size = 9\n"
     ]
    }
   ],
   "source": [
    "# Find k'th cartesian power of S\n",
    "cartesian_product = set([i for i in itertools.product(S, repeat = k)])\n",
    "print(\"Tuples in %s^%i: \" %(S,k), end=\"\")\n",
    "for i in cartesian_product:\n",
    "    print(i, end='  ')\n",
    "print(\"\\n\\nSize = \", len(cartesian_product), sep=\"\")"
   ]
  },
  {
   "cell_type": "code",
   "execution_count": 7,
   "metadata": {},
   "outputs": [
    {
     "name": "stdout",
     "output_type": "stream",
     "text": [
      "9\n"
     ]
    }
   ],
   "source": [
    "# Find |S|^k directly\n",
    "print(len(S)**k)"
   ]
  },
  {
   "cell_type": "code",
   "execution_count": 8,
   "metadata": {
    "collapsed": true
   },
   "outputs": [],
   "source": [
    "S = {1, 2, 3}\n",
    "k = 2"
   ]
  },
  {
   "cell_type": "code",
   "execution_count": 9,
   "metadata": {},
   "outputs": [
    {
     "name": "stdout",
     "output_type": "stream",
     "text": [
      "Permutations of {1, 2, 3}:  (3, 1, 2)  (1, 3, 2)  (3, 2, 1)  (2, 3, 1)  (1, 2, 3)  (2, 1, 3)  \n",
      "\n",
      "Size = 6\n"
     ]
    }
   ],
   "source": [
    "# Find all permutations of S and |S!|\n",
    "permute_all = set(itertools.permutations(S))\n",
    "print(\"Permutations of %s:  \" %S, end=\"\")\n",
    "for i in permute_all:\n",
    "    print(i, end='  ')\n",
    "print(\"\\n\\nSize = \", len(permute_all), sep=\"\")"
   ]
  },
  {
   "cell_type": "code",
   "execution_count": 10,
   "metadata": {},
   "outputs": [
    {
     "name": "stdout",
     "output_type": "stream",
     "text": [
      "6\n"
     ]
    }
   ],
   "source": [
    "# Find |S|! directly\n",
    "from math import factorial\n",
    "print(factorial(len(S)))"
   ]
  },
  {
   "cell_type": "code",
   "execution_count": 11,
   "metadata": {
    "collapsed": true
   },
   "outputs": [],
   "source": [
    "S = {1, 2, 3, 4}\n",
    "k = 3"
   ]
  },
  {
   "cell_type": "code",
   "execution_count": 12,
   "metadata": {},
   "outputs": [
    {
     "name": "stdout",
     "output_type": "stream",
     "text": [
      "3-permutations of {1, 2, 3, 4}:  (1, 2, 3)  (1, 2, 4)  (1, 3, 2)  (1, 3, 4)  (1, 4, 2)  (1, 4, 3)  (2, 1, 3)  (2, 1, 4)  (2, 3, 1)  (2, 3, 4)  (2, 4, 1)  (2, 4, 3)  (3, 1, 2)  (3, 1, 4)  (3, 2, 1)  (3, 2, 4)  (3, 4, 1)  (3, 4, 2)  (4, 1, 2)  (4, 1, 3)  (4, 2, 1)  (4, 2, 3)  (4, 3, 1)  (4, 3, 2)  \n",
      "\n",
      "Size = 4!/(4-3)! = 24\n"
     ]
    }
   ],
   "source": [
    "# Print all the k-permutations of S\n",
    "n = len(S)\n",
    "permute_k = list(itertools.permutations(S, k))\n",
    "print(\"%i-permutations of %s:  \" %(k,S), end = \"\")\n",
    "for i in permute_k:\n",
    "    print(i, end = \"  \")\n",
    "print(\"\\n\\nSize = \", n, \"!/(%i-%i)! = \" %(n,k), len(permute_k), sep=\"\")"
   ]
  },
  {
   "cell_type": "code",
   "execution_count": 13,
   "metadata": {},
   "outputs": [
    {
     "name": "stdout",
     "output_type": "stream",
     "text": [
      "24\n"
     ]
    }
   ],
   "source": [
    "# Print |S|!/(|S|-k)! directly\n",
    "print(int(factorial(len(S))/factorial(len(S)-k)))"
   ]
  },
  {
   "cell_type": "code",
   "execution_count": 14,
   "metadata": {
    "collapsed": true
   },
   "outputs": [],
   "source": [
    "from scipy.special import binom"
   ]
  },
  {
   "cell_type": "code",
   "execution_count": 15,
   "metadata": {
    "collapsed": true
   },
   "outputs": [],
   "source": [
    "S = {1, 2, 3, 4}\n",
    "k = 2"
   ]
  },
  {
   "cell_type": "code",
   "execution_count": 16,
   "metadata": {
    "scrolled": true
   },
   "outputs": [
    {
     "name": "stdout",
     "output_type": "stream",
     "text": [
      "2-combinations of {1, 2, 3, 4}:  (1, 2)  (1, 3)  (1, 4)  (2, 3)  (2, 4)  (3, 4)  \n",
      "\n",
      "Size = 4!/(2!(4-2)!) = 6\n"
     ]
    }
   ],
   "source": [
    "# Print all the k-combinations of S\n",
    "choose_k = list(itertools.combinations(S,k))\n",
    "print(\"%i-combinations of %s:  \" %(k,S), end = \"\")\n",
    "for i in choose_k:\n",
    "    print(i, end='  ')\n",
    "print(\"\\n\\nSize = %i!/(%i!(%i-%i)!) = \" %(n,k,n,k), len(choose_k), sep=\"\")"
   ]
  },
  {
   "cell_type": "code",
   "execution_count": 17,
   "metadata": {},
   "outputs": [
    {
     "name": "stdout",
     "output_type": "stream",
     "text": [
      "6\n"
     ]
    }
   ],
   "source": [
    "# Print |S|!/(k!(|S|-k)!) directly\n",
    "print(int(factorial(len(S))/(factorial(k)*factorial(len(S)-k))))"
   ]
  },
  {
   "cell_type": "code",
   "execution_count": 18,
   "metadata": {
    "collapsed": true
   },
   "outputs": [],
   "source": [
    "S = {'a', 'b', 'c'}\n",
    "T = {'d', 'e'}"
   ]
  },
  {
   "cell_type": "code",
   "execution_count": 19,
   "metadata": {},
   "outputs": [
    {
     "name": "stdout",
     "output_type": "stream",
     "text": [
      "Ordered pairs in {'a', 'c', 'b'} x {'d', 'e'}:  ad ae cd ce bd be \n",
      "\n",
      "Size = 6\n",
      "\n"
     ]
    }
   ],
   "source": [
    "# Find cartesian product S X T and its size\n",
    "cartesian_product = [i for i in itertools.product(S, T)]\n",
    "print(\"Ordered pairs in %s x %s:  \" %(S,T), end ='')\n",
    "if isinstance(cartesian_product[0], int):\n",
    "    print(set(cartesian_product))\n",
    "else:\n",
    "    for i in range(0, len(cartesian_product)):\n",
    "        print(''.join(cartesian_product[i]), end=' ')\n",
    "print(\"\\n\\nSize = %i\\n\" %len(cartesian_product), sep=\"\")"
   ]
  },
  {
   "cell_type": "code",
   "execution_count": 20,
   "metadata": {},
   "outputs": [
    {
     "name": "stdout",
     "output_type": "stream",
     "text": [
      "Permutations of {'a', 'c', 'b'}:  acb   abc   cab   cba   bac   bca   \n",
      "\n",
      "Size = 6\n"
     ]
    }
   ],
   "source": [
    "# Find all permutations of S and |S!|\n",
    "permute_all = list(itertools.permutations(S))\n",
    "print(\"Permutations of %s:  \" %S, end=\"\")\n",
    "for i in range(0, len(permute_all)):\n",
    "    print(''.join(permute_all[i]), end='   ')\n",
    "print(\"\\n\\nSize = \", len(permute_all), sep=\"\")"
   ]
  },
  {
   "cell_type": "code",
   "execution_count": 21,
   "metadata": {
    "collapsed": true
   },
   "outputs": [],
   "source": [
    "from math import factorial"
   ]
  },
  {
   "cell_type": "code",
   "execution_count": 22,
   "metadata": {},
   "outputs": [
    {
     "name": "stdout",
     "output_type": "stream",
     "text": [
      "6\n"
     ]
    }
   ],
   "source": [
    "# Find |S|! directly\n",
    "print(factorial(len(S)))"
   ]
  },
  {
   "cell_type": "markdown",
   "metadata": {},
   "source": [
    "If you need to use sets of characters such as letters of the English alphabet and concatenate the resulting tuples into strings, you will need to use the <i>join()</i> function which is illustrated in the following examples:"
   ]
  },
  {
   "cell_type": "code",
   "execution_count": 23,
   "metadata": {
    "collapsed": true
   },
   "outputs": [],
   "source": [
    "S = {'a', 'b', 'c', 'q'}\n",
    "k = 3"
   ]
  },
  {
   "cell_type": "code",
   "execution_count": 24,
   "metadata": {},
   "outputs": [
    {
     "name": "stdout",
     "output_type": "stream",
     "text": [
      "3-permutations of {'a', 'c', 'b', 'q'}:  acb   acq   abc   abq   aqc   aqb   cab   caq   cba   cbq   cqa   cqb   bac   baq   bca   bcq   bqa   bqc   qac   qab   qca   qcb   qba   qbc   \n",
      "\n",
      "Size = 4!/(4-3)! = 24\n"
     ]
    }
   ],
   "source": [
    "# Print all the k-permutations of S\n",
    "n = len(S)\n",
    "permute_k = list(itertools.permutations(S, k))\n",
    "print(\"%i-permutations of %s:\" %(k,S), end = \"  \")\n",
    "for i in range(0, len(permute_k)):\n",
    "    print(''.join(permute_k[i]), end='   ')\n",
    "print(\"\\n\\nSize = \", n, \"!/(%i-%i)! = \" %(n,k), len(permute_k), sep=\"\")"
   ]
  },
  {
   "cell_type": "code",
   "execution_count": 25,
   "metadata": {},
   "outputs": [
    {
     "name": "stdout",
     "output_type": "stream",
     "text": [
      "24\n"
     ]
    }
   ],
   "source": [
    "# Print |S|!/(|S|-k)! directly\n",
    "print(int(factorial(len(S))/factorial(len(S)-k)))"
   ]
  },
  {
   "cell_type": "code",
   "execution_count": 26,
   "metadata": {
    "collapsed": true
   },
   "outputs": [],
   "source": [
    "S = {'a', 'b', 'c', 'd'}\n",
    "k = 2"
   ]
  },
  {
   "cell_type": "code",
   "execution_count": 27,
   "metadata": {
    "scrolled": true
   },
   "outputs": [
    {
     "name": "stdout",
     "output_type": "stream",
     "text": [
      "2-combinations of {'d', 'a', 'c', 'b'}:\n",
      "\n",
      "da   dc   db   ac   ab   cb   \n",
      "\n",
      "Size = 4!/(2!(4-2)!) = 6\n"
     ]
    }
   ],
   "source": [
    "# Print all the k-combinations of S\n",
    "choose_k = list(itertools.combinations(S,k))\n",
    "print(\"%i-combinations of %s:\\n\" %(k,S))\n",
    "for i in range(0, len(choose_k)):\n",
    "    print(''.join(choose_k[i]), end='   ')\n",
    "print(\"\\n\\nSize = %i!/(%i!(%i-%i)!) = \" %(n,k,n,k), len(choose_k), sep=\"\")"
   ]
  },
  {
   "cell_type": "code",
   "execution_count": 28,
   "metadata": {},
   "outputs": [
    {
     "name": "stdout",
     "output_type": "stream",
     "text": [
      "6\n"
     ]
    }
   ],
   "source": [
    "# Print |S|!/(k!(|S|-k)!) directly\n",
    "print(int(factorial(len(S))/(factorial(k)*factorial(len(S)-k))))"
   ]
  }
 ],
 "metadata": {
  "kernelspec": {
   "display_name": "Python 2",
   "language": "python",
   "name": "python2"
  },
  "language_info": {
   "codemirror_mode": {
    "name": "ipython",
    "version": 2
   },
   "file_extension": ".py",
   "mimetype": "text/x-python",
   "name": "python",
   "nbconvert_exporter": "python",
   "pygments_lexer": "ipython2",
   "version": "2.7.13"
  },
  "toc": {
   "colors": {
    "hover_highlight": "#DAA520",
    "navigate_num": "#000000",
    "navigate_text": "#333333",
    "running_highlight": "#FF0000",
    "selected_highlight": "#FFD700",
    "sidebar_border": "#EEEEEE",
    "wrapper_background": "#FFFFFF"
   },
   "moveMenuLeft": true,
   "nav_menu": {
    "height": "49px",
    "width": "252px"
   },
   "navigate_menu": true,
   "number_sections": true,
   "sideBar": true,
   "threshold": 4,
   "toc_cell": false,
   "toc_section_display": "block",
   "toc_window_display": false,
   "widenNotebook": false
  }
 },
 "nbformat": 4,
 "nbformat_minor": 2
}
