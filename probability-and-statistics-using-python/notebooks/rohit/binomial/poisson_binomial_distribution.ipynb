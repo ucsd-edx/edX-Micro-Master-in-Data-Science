{
 "cells": [
  {
   "cell_type": "code",
   "execution_count": 1,
   "metadata": {
    "collapsed": true
   },
   "outputs": [],
   "source": [
    "%matplotlib inline"
   ]
  },
  {
   "cell_type": "code",
   "execution_count": 3,
   "metadata": {},
   "outputs": [
    {
     "name": "stdout",
     "output_type": "stream",
     "text": [
      "0.31\n"
     ]
    }
   ],
   "source": [
    "# %load poisson_binomial_distribution\n",
    "import numpy as np\n",
    "\n",
    "\n",
    "def choose_iter(elements, length):\n",
    "    for i in range(0, len(elements)):\n",
    "        if length == 1:\n",
    "            yield elements[i]\n",
    "        else:\n",
    "            for next in choose_iter(elements[i + 1:len(elements)], length - 1):\n",
    "                yield elements[i] * np.prod(next)\n",
    "\n",
    "\n",
    "def total_prob(probs, k):\n",
    "    return np.sum(choose_iter(probs, k))\n",
    "\n",
    "\n",
    "print(total_prob([0.2, .5, .3], 2))\n"
   ]
  }
 ],
 "metadata": {
  "kernelspec": {
   "display_name": "Python 3",
   "language": "python",
   "name": "python3"
  },
  "language_info": {
   "codemirror_mode": {
    "name": "ipython",
    "version": 3
   },
   "file_extension": ".py",
   "mimetype": "text/x-python",
   "name": "python",
   "nbconvert_exporter": "python",
   "pygments_lexer": "ipython3",
   "version": "3.6.1"
  }
 },
 "nbformat": 4,
 "nbformat_minor": 2
}
