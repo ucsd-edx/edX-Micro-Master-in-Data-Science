{
 "cells": [
  {
   "cell_type": "markdown",
   "metadata": {
    "collapsed": true,
    "slideshow": {
     "slide_type": "slide"
    }
   },
   "source": [
    "# The Binomial Distribution"
   ]
  },
  {
   "cell_type": "markdown",
   "metadata": {
    "slideshow": {
     "slide_type": "slide"
    }
   },
   "source": [
    "This notebook contains a code that plots the probability mass function (PMF) of the binomial distribution with parameters $n$ and $p$, namely $Bin(n,p)$. The code contains interactive sliders that you can use to vary $n$ over the interval $[0,30]$ and $p$ over the interval $[0, 1]$."
   ]
  },
  {
   "cell_type": "code",
   "execution_count": 1,
   "metadata": {
    "collapsed": true,
    "slideshow": {
     "slide_type": "skip"
    }
   },
   "outputs": [],
   "source": [
    "%matplotlib inline"
   ]
  },
  {
   "cell_type": "markdown",
   "metadata": {},
   "source": [
    "Let us now load the required code and analyze it part by part."
   ]
  },
  {
   "cell_type": "code",
   "execution_count": null,
   "metadata": {},
   "outputs": [],
   "source": [
    "# %load plot_pmf.py\n",
    "import numpy as np\n",
    "import matplotlib.pyplot as plt\n",
    "\n",
    "from scipy.stats import binom\n",
    "import ipywidgets as widgets\n",
    "\n",
    "\n",
    "def plot_pmf(n, p):\n",
    "    '''\n",
    "    Plot the probability mass function of Binom(n, p)\n",
    "    '''\n",
    "    k = np.arange(0, n + 1)\n",
    "    P_binom = binom.pmf(k, n, p)\n",
    "    plt.plot(k, P_binom, '-o')\n",
    "    axes = plt.gca()\n",
    "    axes.set_xlim([0, n])\n",
    "    axes.set_ylim([0, 1.1 * max(P_binom)])\n",
    "    plt.title('PMF of Bin(%i, %.2f)' % (n, p))\n",
    "    plt.xlabel('Number of Successes')\n",
    "    plt.ylabel('Probability of Successes')\n",
    "    plt.show()\n",
    "\n",
    "\n",
    "widgets.interact(\n",
    "    plot_pmf,\n",
    "    n=widgets.IntSlider(min=0, max=30, step=1, value=15),\n",
    "    p=widgets.FloatSlider(min=0, max=1, step=0.01, value=0.5))\n"
   ]
  },
  {
   "cell_type": "markdown",
   "metadata": {},
   "source": [
    "The first step is to import the necessary function libraries. In this section, we use numerical functions from <i> numpy</i> for arithmetic computations, plotting functions from <i>matplotlib.pyplot</i> to plot the PMF, the statistical function <i>binom</i> from <i>scipy.stats</i> to generate the PMF and an interactive slider from <i>ipywidgets</i> that enables you to vary the values of $n$ and $p$ in real time. The code imports these libraries one by one."
   ]
  },
  {
   "cell_type": "code",
   "execution_count": 2,
   "metadata": {
    "collapsed": true
   },
   "outputs": [],
   "source": [
    "import numpy as np\n",
    "import matplotlib.pyplot as plt\n",
    "\n",
    "from scipy.stats import binom\n",
    "import ipywidgets as widgets"
   ]
  },
  {
   "cell_type": "markdown",
   "metadata": {},
   "source": [
    "Then a function named <i>plot_pmf</i> is defined. It takes $n$ and $p$ as its input arguments and plots the PMF appropriately."
   ]
  },
  {
   "cell_type": "code",
   "execution_count": 3,
   "metadata": {
    "collapsed": true
   },
   "outputs": [],
   "source": [
    "def plot_pmf(n, p):\n",
    "    '''\n",
    "    Plot the probability mass function of Binom(n, p).\n",
    "    '''\n",
    "    k = np.arange(0, n + 1)\n",
    "    P_binom = binom.pmf(k, n, p)\n",
    "    plt.plot(k, P_binom, '-o')\n",
    "    \n",
    "    '''\n",
    "    The snippet below sets the axes limits and\n",
    "    associated properties of the plot.\n",
    "    '''\n",
    "    axes = plt.gca()\n",
    "    axes.set_xlim([0, n])\n",
    "    axes.set_ylim([0, 1.1 * max(P_binom)])\n",
    "    plt.title('PMF of Bin(%i, %.2f)' % (n, p))\n",
    "    plt.xlabel('Number of Successes')\n",
    "    plt.ylabel('Probability of Successes')\n",
    "    plt.show()"
   ]
  },
  {
   "cell_type": "markdown",
   "metadata": {},
   "source": [
    "The function below defines an interactive slider that enables you to vary $n$ over $[0,30]$ and $p$ over $[0,1]$ and then plot the resulting PMF according to the updated values of both the parameters."
   ]
  },
  {
   "cell_type": "code",
   "execution_count": 4,
   "metadata": {
    "code_folding": [],
    "slideshow": {
     "slide_type": "slide"
    }
   },
   "outputs": [
    {
     "data": {
      "application/vnd.jupyter.widget-view+json": {
       "model_id": "59571a6bf9d24ccfaf6b890e7abd0a7a"
      }
     },
     "metadata": {},
     "output_type": "display_data"
    },
    {
     "data": {
      "text/plain": [
       "<function __main__.plot_pmf>"
      ]
     },
     "execution_count": 4,
     "metadata": {},
     "output_type": "execute_result"
    }
   ],
   "source": [
    "widgets.interact(\n",
    "    plot_pmf,\n",
    "    n=widgets.IntSlider(min=0, max=30, step=1, value=15),\n",
    "    p=widgets.FloatSlider(min=0, max=1, step=0.01, value=0.5))"
   ]
  },
  {
   "cell_type": "code",
   "execution_count": null,
   "metadata": {
    "collapsed": true
   },
   "outputs": [],
   "source": []
  }
 ],
 "metadata": {
  "celltoolbar": "Raw Cell Format",
  "kernelspec": {
   "display_name": "Python 2",
   "language": "python",
   "name": "python2"
  },
  "language_info": {
   "codemirror_mode": {
    "name": "ipython",
    "version": 2
   },
   "file_extension": ".py",
   "mimetype": "text/x-python",
   "name": "python",
   "nbconvert_exporter": "python",
   "pygments_lexer": "ipython2",
   "version": "2.7.13"
  },
  "toc": {
   "colors": {
    "hover_highlight": "#DAA520",
    "navigate_num": "#000000",
    "navigate_text": "#333333",
    "running_highlight": "#FF0000",
    "selected_highlight": "#FFD700",
    "sidebar_border": "#EEEEEE",
    "wrapper_background": "#FFFFFF"
   },
   "moveMenuLeft": true,
   "nav_menu": {
    "height": "30px",
    "width": "252px"
   },
   "navigate_menu": true,
   "number_sections": true,
   "sideBar": true,
   "threshold": 4,
   "toc_cell": false,
   "toc_section_display": "block",
   "toc_window_display": false,
   "widenNotebook": false
  }
 },
 "nbformat": 4,
 "nbformat_minor": 2
}
