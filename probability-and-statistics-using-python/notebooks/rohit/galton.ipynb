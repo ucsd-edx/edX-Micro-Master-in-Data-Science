{
 "cells": [
  {
   "cell_type": "code",
   "execution_count": 2,
   "metadata": {},
   "outputs": [
    {
     "data": {
      "text/plain": [
       "array([1, 2, 3, 4])"
      ]
     },
     "execution_count": 2,
     "metadata": {},
     "output_type": "execute_result"
    }
   ],
   "source": [
    "import numpy as np\n",
    "a = np.array([1, 2])\n",
    "b = np.array([3, 4])\n",
    "np.concatenate((a, b))"
   ]
  },
  {
   "cell_type": "code",
   "execution_count": 3,
   "metadata": {},
   "outputs": [
    {
     "data": {
      "image/png": "[encoded data removed]",
      "text/plain": [
       "<matplotlib.figure.Figure at 0x7fb7fc054550>"
      ]
     },
     "metadata": {},
     "output_type": "display_data"
    }
   ],
   "source": [
    "%matplotlib inline\n",
    "\n",
    "from matplotlib import pyplot as plt\n",
    "import numpy as np\n",
    "\n",
    "\n",
    "NUM_ROWS = 10\n",
    "NUM_TRIALS = 4000\n",
    "PROB_RIGHT = 0.5\n",
    "\n",
    "\n",
    "# Compute trials\n",
    "went_right = np.random.sample([NUM_TRIALS, NUM_ROWS]) < PROB_RIGHT\n",
    "trials = np.where(went_right, 1, -1)\n",
    "destinations = trials.sum(axis=1)\n",
    "paths = trials.cumsum(axis=1)\n",
    "\n",
    "# Prepare figure\n",
    "fig, (ax_board, ax_dest) = plt.subplots(1, 2)\n",
    "fig.set_size_inches(12, 4)\n",
    "ax_board.set_xlim(-NUM_ROWS, NUM_ROWS)\n",
    "ax_board.axis('off')\n",
    "\n",
    "# Plot pegs\n",
    "pegs_x = np.concatenate([np.linspace(-row, row, num=(row + 1))\n",
    "                        for row in range(NUM_ROWS)])\n",
    "pegs_y = np.repeat(range(NUM_ROWS, 0, -1), range(1, NUM_ROWS + 1))\n",
    "ax_board.scatter(pegs_x, pegs_y)\n",
    "\n",
    "# Plot paths\n",
    "paths_x = np.concatenate((np.zeros((NUM_TRIALS, 1)), paths), axis=1)\n",
    "path_y = np.linspace(NUM_ROWS, 0, num=(NUM_ROWS + 1)) + 0.4\n",
    "ax_board.plot(paths_x.T, path_y,\n",
    "         color=(0, 0.9, 0.3, 3 / NUM_TRIALS),\n",
    "         linewidth=3);\n",
    "\n",
    "# Plot destinations histogram\n",
    "bins = np.arange(-NUM_ROWS, NUM_ROWS + 2, 2)\n",
    "ax_dest.hist(destinations, bins=bins, rwidth=0.9);"
   ]
  },
  {
   "cell_type": "code",
   "execution_count": null,
   "metadata": {
    "collapsed": true
   },
   "outputs": [],
   "source": []
  }
 ],
 "metadata": {
  "kernelspec": {
   "display_name": "Python 2",
   "language": "python",
   "name": "python2"
  },
  "language_info": {
   "codemirror_mode": {
    "name": "ipython",
    "version": 2
   },
   "file_extension": ".py",
   "mimetype": "text/x-python",
   "name": "python",
   "nbconvert_exporter": "python",
   "pygments_lexer": "ipython2",
   "version": "2.7.13"
  },
  "toc": {
   "colors": {
    "hover_highlight": "#DAA520",
    "navigate_num": "#000000",
    "navigate_text": "#333333",
    "running_highlight": "#FF0000",
    "selected_highlight": "#FFD700",
    "sidebar_border": "#EEEEEE",
    "wrapper_background": "#FFFFFF"
   },
   "moveMenuLeft": true,
   "nav_menu": {
    "height": "12px",
    "width": "252px"
   },
   "navigate_menu": true,
   "number_sections": true,
   "sideBar": true,
   "threshold": 4,
   "toc_cell": false,
   "toc_section_display": "block",
   "toc_window_display": false,
   "widenNotebook": false
  }
 },
 "nbformat": 4,
 "nbformat_minor": 2
}
