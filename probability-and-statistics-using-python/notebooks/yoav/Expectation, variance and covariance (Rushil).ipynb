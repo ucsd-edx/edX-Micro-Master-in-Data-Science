{
 "cells": [
  {
   "cell_type": "code",
   "execution_count": 1,
   "metadata": {
    "collapsed": false
   },
   "outputs": [
    {
     "name": "stderr",
     "output_type": "stream",
     "text": [
      "/Users/rushil/anaconda2/lib/python2.7/site-packages/matplotlib/font_manager.py:273: UserWarning: Matplotlib is building the font cache using fc-list. This may take a moment.\n",
      "  warnings.warn('Matplotlib is building the font cache using fc-list. This may take a moment.')\n"
     ]
    },
    {
     "name": "stdout",
     "output_type": "stream",
     "text": [
      "Populating the interactive namespace from numpy and matplotlib\n"
     ]
    }
   ],
   "source": [
    "%pylab inline\n",
    "import numpy as np"
   ]
  },
  {
   "cell_type": "markdown",
   "metadata": {},
   "source": [
    "## Compute statistics for a known distribution\n",
    "\n",
    "Requested additions:\n",
    "1. Do the same calcs for a sample.\n",
    "2. Show how to do the calcs without .dot and outer, just standard python (much slower, but ok).\n",
    "3. Add text to explain each step"
   ]
  },
  {
   "cell_type": "markdown",
   "metadata": {},
   "source": [
    "### Defining a joint distribution over two discrete random variables\n",
    "The probabilities are organized in a 2D array, where the columns correspond to values of $x$ and the rows correspond to values of $y$"
   ]
  },
  {
   "cell_type": "code",
   "execution_count": 2,
   "metadata": {
    "collapsed": false
   },
   "outputs": [
    {
     "data": {
      "text/plain": [
       "array([[ 1.,  1.,  2.],\n",
       "       [ 1.,  2.,  1.]])"
      ]
     },
     "execution_count": 2,
     "metadata": {},
     "output_type": "execute_result"
    }
   ],
   "source": [
    "# We start with positive weights that don't sum to 1\n",
    "P=np.array([[1.,1,2],[1,2,1]])\n",
    "P2=copy(P)\n",
    "P"
   ]
  },
  {
   "cell_type": "code",
   "execution_count": 3,
   "metadata": {
    "collapsed": false
   },
   "outputs": [
    {
     "name": "stdout",
     "output_type": "stream",
     "text": [
      "the sum is  8.0\n"
     ]
    },
    {
     "data": {
      "text/plain": [
       "array([[ 0.125,  0.125,  0.25 ],\n",
       "       [ 0.125,  0.25 ,  0.125]])"
      ]
     },
     "execution_count": 3,
     "metadata": {},
     "output_type": "execute_result"
    }
   ],
   "source": [
    "# We then normalize the weights\n",
    "# using Pure Python\n",
    "\n",
    "#Compute the sum\n",
    "s=0\n",
    "for i in range(shape(P)[0]):\n",
    "    for j in range(shape(P)[1]):\n",
    "        s+=P[i,j]\n",
    "print 'the sum is ',s\n",
    "#divide by the sum\n",
    "for i in range(shape(P)[0]):\n",
    "    for j in range(shape(P)[1]):\n",
    "        P[i,j] /= s\n",
    "P"
   ]
  },
  {
   "cell_type": "code",
   "execution_count": 4,
   "metadata": {
    "collapsed": false
   },
   "outputs": [
    {
     "data": {
      "text/plain": [
       "array([[ 0.125,  0.125,  0.25 ],\n",
       "       [ 0.125,  0.25 ,  0.125]])"
      ]
     },
     "execution_count": 4,
     "metadata": {},
     "output_type": "execute_result"
    }
   ],
   "source": [
    "# Using Numpy we can write it in a much shorter way\n",
    "P2/=sum(P2)\n",
    "P2"
   ]
  },
  {
   "cell_type": "code",
   "execution_count": 5,
   "metadata": {
    "collapsed": true
   },
   "outputs": [],
   "source": [
    "# The values that the random variables X and Y take\n",
    "x=np.array([1,2,3])\n",
    "y=np.array([-1,1])"
   ]
  },
  {
   "cell_type": "markdown",
   "metadata": {},
   "source": [
    "#### Computing Marginals\n",
    "The marginal distributions are the probabilities associated with each random variable alone."
   ]
  },
  {
   "cell_type": "code",
   "execution_count": 6,
   "metadata": {
    "collapsed": true
   },
   "outputs": [],
   "source": [
    "# The python way\n",
    "Px=[0]*shape(P)[1]\n",
    "Py=[0]*shape(P)[0]\n",
    "for i in range(shape(P)[0]):\n",
    "    for j in range(shape(P)[1]):\n",
    "        Px"
   ]
  },
  {
   "cell_type": "code",
   "execution_count": 7,
   "metadata": {
    "collapsed": false
   },
   "outputs": [
    {
     "data": {
      "text/plain": [
       "(array([ 0.25 ,  0.375,  0.375]), array([ 0.5,  0.5]))"
      ]
     },
     "execution_count": 7,
     "metadata": {},
     "output_type": "execute_result"
    }
   ],
   "source": [
    "#the numpy way:\n",
    "Px=sum(P,axis=0)\n",
    "Py=sum(P,axis=1)\n",
    "Px,Py"
   ]
  },
  {
   "cell_type": "markdown",
   "metadata": {},
   "source": [
    "### Check whether $x$ and $y$ are independent\n",
    "\n",
    "If X and Y are independent, $P(x,y) = P(x)P(y)$ for all values x and y. We can check this as follows"
   ]
  },
  {
   "cell_type": "code",
   "execution_count": 15,
   "metadata": {
    "collapsed": false
   },
   "outputs": [
    {
     "name": "stdout",
     "output_type": "stream",
     "text": [
      "X and Y are not independent\n"
     ]
    }
   ],
   "source": [
    "#The python way\n",
    "indep = 1\n",
    "for i in range(3):\n",
    "    for j in range(2):\n",
    "        Pxy = P[j,i]\n",
    "        if Pxy != Px[i]*Py[j]:\n",
    "            indep = 0\n",
    "if indep:\n",
    "    print \"X and Y are indepenndent\"\n",
    "else:\n",
    "    print \"X and Y are not independent\""
   ]
  },
  {
   "cell_type": "code",
   "execution_count": 16,
   "metadata": {
    "collapsed": false
   },
   "outputs": [
    {
     "name": "stdout",
     "output_type": "stream",
     "text": [
      "[[ 0.      0.0625 -0.0625]\n",
      " [ 0.     -0.0625  0.0625]]\n",
      "X and Y are not independent\n"
     ]
    }
   ],
   "source": [
    "#In numpy we can write the nested loop above by simply taking the outer products of the two vectors Px and Py. \n",
    "#This gives us a new matrix where the value of the (i,j)th element is the product Px[i]*Py[j]\n",
    "\n",
    "outerprod_diff = np.outer(Px,Py).T - P\n",
    "print outerprod_diff\n",
    "\n",
    "if np.all(outerprod_diff==0):\n",
    "    print \"X and Y are indepenndent\"\n",
    "else:\n",
    "    print \"X and Y are not independent\""
   ]
  },
  {
   "cell_type": "markdown",
   "metadata": {},
   "source": [
    "### Calculating the mean and standard deviation\n",
    "To calculate the mean of $X$ and $Y$ under this distribtion in python, we need to iterate through the values of $x$ and $y$ and plug them into the formuls $E[X] = \\sum_x P(X=x)x$. Similarly for standard deviation.\n"
   ]
  },
  {
   "cell_type": "code",
   "execution_count": 12,
   "metadata": {
    "collapsed": false
   },
   "outputs": [
    {
     "data": {
      "text/plain": [
       "(2.125, 0.0, 0.7806247497997998, 1.0)"
      ]
     },
     "execution_count": 12,
     "metadata": {},
     "output_type": "execute_result"
    }
   ],
   "source": [
    "from math import sqrt\n",
    "#The python way\n",
    "Ex = 0\n",
    "for i in range(3):\n",
    "    Ex+=Px[i]*x[i]\n",
    "Ey = 0\n",
    "for i in range(2):\n",
    "    Ey+=Py[i]*y[i]\n",
    "\n",
    "varx = 0\n",
    "for i in range(3):\n",
    "    varx+=Px[i]*(x[i] - Ex)**2\n",
    "stdx = sqrt(varx)\n",
    "\n",
    "vary = 0\n",
    "for i in range(2):\n",
    "    vary+=Py[i]*(y[i] - Ey)**2\n",
    "stdy = sqrt(vary)\n",
    "\n",
    "Ex,Ey,stdx,stdy"
   ]
  },
  {
   "cell_type": "code",
   "execution_count": 13,
   "metadata": {
    "collapsed": false
   },
   "outputs": [
    {
     "data": {
      "text/plain": [
       "(2.125, 0.0, 0.7806247497997998, 1.0)"
      ]
     },
     "execution_count": 13,
     "metadata": {},
     "output_type": "execute_result"
    }
   ],
   "source": [
    "# In numpy you can use np.dot(A,B) which calculates the pairwise product of elements in A and B\n",
    "# and sums them up\n",
    "\n",
    "Ex=np.dot(Px,x)\n",
    "Ey=np.dot(Py,y)\n",
    "Ex2=np.dot(Px,x**2)\n",
    "Ey2=np.dot(Py,y**2)\n",
    "stdx=sqrt(Ex2-Ex**2)\n",
    "stdy=sqrt(Ey2-Ey**2)\n",
    "Ex,Ey,stdx,stdy\n"
   ]
  },
  {
   "cell_type": "markdown",
   "metadata": {},
   "source": [
    "## Subtracting the mean \n",
    "\n",
    "We can create two new random variables $NX$ and $NY$ by subtracting the means from our original random variables. \n",
    "These variables will have the same standard deviation, but their expected values will now be 0"
   ]
  },
  {
   "cell_type": "code",
   "execution_count": 19,
   "metadata": {
    "collapsed": false
   },
   "outputs": [
    {
     "data": {
      "text/plain": [
       "array([-1.125, -0.125,  0.875])"
      ]
     },
     "execution_count": 19,
     "metadata": {},
     "output_type": "execute_result"
    }
   ],
   "source": [
    "nx=x-Ex\n",
    "nx"
   ]
  },
  {
   "cell_type": "code",
   "execution_count": 20,
   "metadata": {
    "collapsed": false
   },
   "outputs": [
    {
     "data": {
      "text/plain": [
       "array([-1.,  1.])"
      ]
     },
     "execution_count": 20,
     "metadata": {},
     "output_type": "execute_result"
    }
   ],
   "source": [
    "ny=y-Ey\n",
    "ny"
   ]
  },
  {
   "cell_type": "markdown",
   "metadata": {},
   "source": [
    "### Calculate the covariance\n"
   ]
  },
  {
   "cell_type": "code",
   "execution_count": 32,
   "metadata": {
    "collapsed": false
   },
   "outputs": [
    {
     "name": "stdout",
     "output_type": "stream",
     "text": [
      "the covariance is -0.125\n"
     ]
    }
   ],
   "source": [
    "# in python\n",
    "s=0\n",
    "for i in range(len(x)):\n",
    "    for j in range(len(y)):\n",
    "        s+=P[j,i]*nx[i]*ny[j]\n",
    "print 'the covariance is',s #our expected values are now 0 so nothing to subtract"
   ]
  },
  {
   "cell_type": "code",
   "execution_count": 38,
   "metadata": {
    "collapsed": false
   },
   "outputs": [
    {
     "name": "stdout",
     "output_type": "stream",
     "text": [
      " the covariance is -0.125\n"
     ]
    }
   ],
   "source": [
    "# numpy\n",
    "\n",
    "print 'the covariance is', np.dot(P.flatten(), np.outer(ny,nx).flatten())"
   ]
  },
  {
   "cell_type": "markdown",
   "metadata": {},
   "source": [
    "### and the correlation\n"
   ]
  },
  {
   "cell_type": "code",
   "execution_count": 39,
   "metadata": {
    "collapsed": false
   },
   "outputs": [
    {
     "name": "stdout",
     "output_type": "stream",
     "text": [
      "the correlation is -0.160128153805\n"
     ]
    }
   ],
   "source": [
    "print 'the correlation is', np.dot(P.flatten(), np.outer(ny,nx).flatten())/(stdx*stdy)"
   ]
  },
  {
   "cell_type": "markdown",
   "metadata": {},
   "source": [
    "## Empirical statistics\n",
    "\n",
    "If we now draw samples from these distributions, we can see that the emperical statistics, the population mean, population standard deviation and population covariance approach the original values of mean, standard deviation and covariance."
   ]
  },
  {
   "cell_type": "code",
   "execution_count": 50,
   "metadata": {
    "collapsed": false
   },
   "outputs": [
    {
     "name": "stdout",
     "output_type": "stream",
     "text": [
      "Population mean after drawing 2 samples = -0.125\n",
      "Population mean after drawing 10 samples = -0.325\n",
      "Population mean after drawing 100 samples = -0.095\n",
      "Population mean after drawing 100000 samples = 0.0006\n"
     ]
    }
   ],
   "source": [
    "numsamples = [2,10,100,100000]\n",
    "\n",
    "for num in numsamples: \n",
    "    print \"Population mean after drawing {num} samples = {s}\".format(\n",
    "        num = num,\n",
    "        s = np.mean(np.random.choice(nx, num, True, Px))\n",
    "    )"
   ]
  },
  {
   "cell_type": "code",
   "execution_count": 51,
   "metadata": {
    "collapsed": false
   },
   "outputs": [
    {
     "name": "stdout",
     "output_type": "stream",
     "text": [
      "Population std dev after drawing 2 samples = 0.0\n",
      "Population std dev after drawing 10 samples = 0.943398113206\n",
      "Population std dev after drawing 100 samples = 0.778203058334\n",
      "Population std dev after drawing 100000 samples = 0.780405694431\n"
     ]
    }
   ],
   "source": [
    "for num in numsamples: \n",
    "    print \"Population std dev after drawing {num} samples = {s}\".format(\n",
    "        num = num,\n",
    "        s = np.std(np.random.choice(nx, num, True, Px))\n",
    "    )"
   ]
  },
  {
   "cell_type": "code",
   "execution_count": 79,
   "metadata": {
    "collapsed": false
   },
   "outputs": [
    {
     "name": "stdout",
     "output_type": "stream",
     "text": [
      "Population covariance after drawing 2 samples = -1.0\n",
      "Population covariance after drawing 10 samples = -0.288888888889\n",
      "Population covariance after drawing 100 samples = -0.0943434343434\n",
      "Population covariance after drawing 100000 samples = -0.127824318243\n"
     ]
    }
   ],
   "source": [
    "#To calculate the covariance, we will generate samples (x,y) form the joint distribution P\n",
    "#possible samples\n",
    "nxy =  np.array([(i,j) for i in nx for j in ny])\n",
    "for num in numsamples:\n",
    "    samples = np.random.choice(nxy.shape[0], num, True, P.T.flatten()), #choose rows\n",
    "    print \"Population covariance after drawing {num} samples = {s}\".format(\n",
    "        num = num,\n",
    "        s = np.cov(\n",
    "            nxy[samples][:,0],\n",
    "            nxy[samples][:,1]\n",
    "        )[0,1]\n",
    "    )"
   ]
  },
  {
   "cell_type": "markdown",
   "metadata": {},
   "source": []
  },
  {
   "cell_type": "markdown",
   "metadata": {},
   "source": []
  }
 ],
 "metadata": {
  "anaconda-cloud": {},
  "kernelspec": {
   "display_name": "Python [default]",
   "language": "python",
   "name": "python2"
  },
  "language_info": {
   "codemirror_mode": {
    "name": "ipython",
    "version": 2
   },
   "file_extension": ".py",
   "mimetype": "text/x-python",
   "name": "python",
   "nbconvert_exporter": "python",
   "pygments_lexer": "ipython2",
   "version": "2.7.12"
  },
  "toc": {
   "colors": {
    "hover_highlight": "#DAA520",
    "navigate_num": "#000000",
    "navigate_text": "#333333",
    "running_highlight": "#FF0000",
    "selected_highlight": "#FFD700",
    "sidebar_border": "#EEEEEE",
    "wrapper_background": "#FFFFFF"
   },
   "moveMenuLeft": true,
   "nav_menu": {
    "height": "142px",
    "width": "252px"
   },
   "navigate_menu": true,
   "number_sections": true,
   "sideBar": true,
   "threshold": 4,
   "toc_cell": false,
   "toc_section_display": "block",
   "toc_window_display": false,
   "widenNotebook": false
  }
 },
 "nbformat": 4,
 "nbformat_minor": 2
}
