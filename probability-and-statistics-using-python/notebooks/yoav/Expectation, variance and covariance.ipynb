{
 "cells": [
  {
   "cell_type": "code",
   "execution_count": 1,
   "metadata": {},
   "outputs": [
    {
     "name": "stdout",
     "output_type": "stream",
     "text": [
      "Populating the interactive namespace from numpy and matplotlib\n"
     ]
    }
   ],
   "source": [
    "%pylab inline\n",
    "import numpy as np"
   ]
  },
  {
   "cell_type": "markdown",
   "metadata": {},
   "source": [
    "## Compute statistics for a known distribution\n",
    "\n",
    "Requested additions:\n",
    "1. Do the same calcs for a sample.\n",
    "2. Show how to do the calcs without .dot and outer, just standard python (much slower, but ok).\n",
    "3. Add text to explain each step"
   ]
  },
  {
   "cell_type": "markdown",
   "metadata": {},
   "source": [
    "### Defining a joint distribution over two discrete random variables\n",
    "The probabilities are organized in a 2D array, where the columns correspond to values of $x$ and the rows correspond to values of $y$"
   ]
  },
  {
   "cell_type": "code",
   "execution_count": 2,
   "metadata": {},
   "outputs": [
    {
     "data": {
      "text/plain": [
       "array([[ 1.,  1.,  2.],\n",
       "       [ 2.,  2.,  2.]])"
      ]
     },
     "execution_count": 2,
     "metadata": {},
     "output_type": "execute_result"
    }
   ],
   "source": [
    "# We start with positive weights that don't sum to 1\n",
    "P=np.array([[1.,1,2],[2,2,2]])\n",
    "P2=copy(P)\n",
    "P"
   ]
  },
  {
   "cell_type": "code",
   "execution_count": 3,
   "metadata": {},
   "outputs": [
    {
     "name": "stdout",
     "output_type": "stream",
     "text": [
      "the sum is  10.0\n"
     ]
    },
    {
     "data": {
      "text/plain": [
       "array([[ 0.1,  0.1,  0.2],\n",
       "       [ 0.2,  0.2,  0.2]])"
      ]
     },
     "execution_count": 3,
     "metadata": {},
     "output_type": "execute_result"
    }
   ],
   "source": [
    "# We then normalize the weights\n",
    "# using Pure Python\n",
    "\n",
    "#Compute the sum\n",
    "s=0\n",
    "for i in range(shape(P)[0]):\n",
    "    for j in range(shape(P)[1]):\n",
    "        s+=P[i,j]\n",
    "print 'the sum is ',s\n",
    "#divide by the sum\n",
    "for i in range(shape(P)[0]):\n",
    "    for j in range(shape(P)[1]):\n",
    "        P[i,j] /= s\n",
    "P"
   ]
  },
  {
   "cell_type": "code",
   "execution_count": 4,
   "metadata": {},
   "outputs": [
    {
     "data": {
      "text/plain": [
       "array([[ 0.1,  0.1,  0.2],\n",
       "       [ 0.2,  0.2,  0.2]])"
      ]
     },
     "execution_count": 4,
     "metadata": {},
     "output_type": "execute_result"
    }
   ],
   "source": [
    "# Using Numpy we can write it in a much shorter way\n",
    "P2/=sum(P2)\n",
    "P2"
   ]
  },
  {
   "cell_type": "code",
   "execution_count": 5,
   "metadata": {
    "collapsed": true
   },
   "outputs": [],
   "source": [
    "# The values that the random variables x and y take\n",
    "x=np.array([1,2,3])\n",
    "y=np.array([-1,1])"
   ]
  },
  {
   "cell_type": "markdown",
   "metadata": {},
   "source": [
    "#### Computing Marginals\n",
    "The marginal distributions are the probabilities associated with each random variable alone."
   ]
  },
  {
   "cell_type": "code",
   "execution_count": 6,
   "metadata": {},
   "outputs": [
    {
     "data": {
      "text/plain": [
       "([0.30000000000000004, 0.30000000000000004, 0.40000000000000002],\n",
       " [0.40000000000000002, 0.60000000000000009])"
      ]
     },
     "execution_count": 6,
     "metadata": {},
     "output_type": "execute_result"
    }
   ],
   "source": [
    "# The pure python way\n",
    "Px=[0.]*shape(P)[1]\n",
    "Py=[0.]*shape(P)[0]\n",
    "\n",
    "for i in range(len(Px)):\n",
    "    for j in range(len(Py)):\n",
    "        Px[i]+=P[j,i]\n",
    "        Py[j]+=P[j,i]\n",
    "Px,Py"
   ]
  },
  {
   "cell_type": "code",
   "execution_count": 7,
   "metadata": {},
   "outputs": [
    {
     "data": {
      "text/plain": [
       "(array([ 0.3,  0.3,  0.4]), array([ 0.4,  0.6]))"
      ]
     },
     "execution_count": 7,
     "metadata": {},
     "output_type": "execute_result"
    }
   ],
   "source": [
    "#the numpy way:\n",
    "Px=sum(P,axis=0)\n",
    "Py=sum(P,axis=1)\n",
    "Px,Py"
   ]
  },
  {
   "cell_type": "markdown",
   "metadata": {},
   "source": [
    "### Check whether $x$ and $y$ are independent\n",
    "\n",
    "If they are independent then the outer product and P should be equal."
   ]
  },
  {
   "cell_type": "code",
   "execution_count": 8,
   "metadata": {},
   "outputs": [
    {
     "name": "stdout",
     "output_type": "stream",
     "text": [
      "Px[0]*Py[0] != P[0,0] ::::: 0.300*0.400 = 0.120 != 0.100\n",
      "Px[0]*Py[1] != P[1,0] ::::: 0.300*0.600 = 0.180 != 0.200\n",
      "Px[1]*Py[0] != P[0,1] ::::: 0.300*0.400 = 0.120 != 0.100\n",
      "Px[1]*Py[1] != P[1,1] ::::: 0.300*0.600 = 0.180 != 0.200\n",
      "Px[2]*Py[0] != P[0,2] ::::: 0.400*0.400 = 0.160 != 0.200\n",
      "Px[2]*Py[1] != P[1,2] ::::: 0.400*0.600 = 0.240 != 0.200\n"
     ]
    }
   ],
   "source": [
    "# The pure python way\n",
    "for i in range(len(Px)):\n",
    "    for j in range(len(Py)):\n",
    "        if Px[i]*Py[j] != P[j,i]:\n",
    "            print \"Px[%d]*Py[%d] != P[%d,%d] ::::: %5.3f*%5.3f = %5.3f != %5.3f\"%\\\n",
    "                    (i,j,j,i,Px[i],Py[j],Px[i]*Py[j],P[j,i])\n"
   ]
  },
  {
   "cell_type": "code",
   "execution_count": 9,
   "metadata": {},
   "outputs": [
    {
     "data": {
      "text/plain": [
       "array([[ 0.02,  0.02, -0.04],\n",
       "       [-0.02, -0.02,  0.04]])"
      ]
     },
     "execution_count": 9,
     "metadata": {},
     "output_type": "execute_result"
    }
   ],
   "source": [
    "# The numpy way\n",
    "np.outer(Px,Py).T - P"
   ]
  },
  {
   "cell_type": "markdown",
   "metadata": {},
   "source": [
    "### Calculating the mean and standard deviation\n",
    "To calculate the mean of $X$ and $Y$ under this distribtion in python, we need to iterate through the values of $x$ and $y$ and plug them into the formuls $E[X] = \\sum_x P(X=x)x$. Similarly for standard deviation.\n"
   ]
  },
  {
   "cell_type": "markdown",
   "metadata": {},
   "source": [
    "### Computing the covariance"
   ]
  },
  {
   "cell_type": "markdown",
   "metadata": {},
   "source": [
    "### Calculating the mean and standard deviation\n",
    "To calculate the mean of $X$ and $Y$ under this distribtion in python, we need to iterate through the values of $x$ and $y$ and plug them into the formuls $E[X] = \\sum_x P(X=x)x$. Similarly for standard deviation.\n"
   ]
  },
  {
   "cell_type": "code",
   "execution_count": 10,
   "metadata": {},
   "outputs": [
    {
     "data": {
      "text/plain": [
       "(2.1000000000000005,\n",
       " 0.20000000000000007,\n",
       " 0.8306623862918076,\n",
       " 0.9797958971132713)"
      ]
     },
     "execution_count": 10,
     "metadata": {},
     "output_type": "execute_result"
    }
   ],
   "source": [
    "from math import sqrt\n",
    "#The python way\n",
    "Ex = 0\n",
    "for i in range(3):\n",
    "    Ex+=Px[i]*x[i]\n",
    "Ey = 0\n",
    "for i in range(2):\n",
    "    Ey+=Py[i]*y[i]\n",
    "\n",
    "varx = 0\n",
    "for i in range(3):\n",
    "    varx+=Px[i]*(x[i] - Ex)**2\n",
    "stdx = sqrt(varx)\n",
    "\n",
    "vary = 0\n",
    "for i in range(2):\n",
    "    vary+=Py[i]*(y[i] - Ey)**2\n",
    "stdy = sqrt(vary)\n",
    "\n",
    "Ex,Ey,stdx,stdy"
   ]
  },
  {
   "cell_type": "code",
   "execution_count": 11,
   "metadata": {},
   "outputs": [
    {
     "name": "stdout",
     "output_type": "stream",
     "text": [
      "Ex=2.100000,Ey=0.200000,stdx=0.830662,stdy=0.979796\n"
     ]
    }
   ],
   "source": [
    "# In numpy you can use np.dot(A,B) which calculates the pairwise product of elements in A and B\n",
    "# and sums them up\n",
    "Ex=np.dot(Px,x)\n",
    "Ey=np.dot(Py,y)\n",
    "Ex2=np.dot(Px,x**2)\n",
    "Ey2=np.dot(Py,y**2)\n",
    "stdx=sqrt(Ex2-Ex**2)\n",
    "stdy=sqrt(Ey2-Ey**2)\n",
    "print 'Ex=%f,Ey=%f,stdx=%f,stdy=%f'%(Ex,Ey,stdx,stdy)"
   ]
  },
  {
   "cell_type": "markdown",
   "metadata": {},
   "source": [
    "#### Subtract the means"
   ]
  },
  {
   "cell_type": "code",
   "execution_count": 12,
   "metadata": {},
   "outputs": [
    {
     "data": {
      "text/plain": [
       "array([-1.1, -0.1,  0.9])"
      ]
     },
     "execution_count": 12,
     "metadata": {},
     "output_type": "execute_result"
    }
   ],
   "source": [
    "nx=x-Ex\n",
    "nx"
   ]
  },
  {
   "cell_type": "code",
   "execution_count": 13,
   "metadata": {},
   "outputs": [
    {
     "data": {
      "text/plain": [
       "array([-1.2,  0.8])"
      ]
     },
     "execution_count": 13,
     "metadata": {},
     "output_type": "execute_result"
    }
   ],
   "source": [
    "ny=y-Ey\n",
    "ny"
   ]
  },
  {
   "cell_type": "markdown",
   "metadata": {},
   "source": [
    "### Calculate the covariance\n"
   ]
  },
  {
   "cell_type": "code",
   "execution_count": 14,
   "metadata": {},
   "outputs": [
    {
     "name": "stdout",
     "output_type": "stream",
     "text": [
      "the covariance is -0.12\n"
     ]
    }
   ],
   "source": [
    "# in python\n",
    "s=0\n",
    "for i in range(len(x)):\n",
    "    for j in range(len(y)):\n",
    "        s+=P[j,i]*nx[i]*ny[j]\n",
    "print 'the covariance is',s #our expected values are now 0 so nothing to subtract"
   ]
  },
  {
   "cell_type": "code",
   "execution_count": 15,
   "metadata": {},
   "outputs": [
    {
     "name": "stdout",
     "output_type": "stream",
     "text": [
      "the covariance is -0.12\n"
     ]
    }
   ],
   "source": [
    "# numpy\n",
    "\n",
    "print 'the covariance is', np.dot(P.flatten(), np.outer(ny,nx).flatten())"
   ]
  },
  {
   "cell_type": "markdown",
   "metadata": {},
   "source": [
    "### and the correlation\n"
   ]
  },
  {
   "cell_type": "code",
   "execution_count": 16,
   "metadata": {},
   "outputs": [
    {
     "data": {
      "text/plain": [
       "-0.1474419561548973"
      ]
     },
     "execution_count": 16,
     "metadata": {},
     "output_type": "execute_result"
    }
   ],
   "source": [
    "s/(stdx*stdy)"
   ]
  },
  {
   "cell_type": "markdown",
   "metadata": {},
   "source": [
    "## Empirical statistics\n",
    "\n",
    "If we now draw samples from these distributions, we can see that the emperical statistics, the population mean, population standard deviation and population covariance approach the original values of mean, standard deviation and covariance."
   ]
  },
  {
   "cell_type": "code",
   "execution_count": 26,
   "metadata": {},
   "outputs": [
    {
     "data": {
      "text/plain": [
       "(array([1, 2, 3]), array([ 0.3,  0.3,  0.4]))"
      ]
     },
     "execution_count": 26,
     "metadata": {},
     "output_type": "execute_result"
    }
   ],
   "source": [
    "x,Px"
   ]
  },
  {
   "cell_type": "code",
   "execution_count": 28,
   "metadata": {},
   "outputs": [
    {
     "data": {
      "text/plain": [
       "array([1, 3, 1, 1, 1, 2, 1, 3, 1, 2])"
      ]
     },
     "execution_count": 28,
     "metadata": {},
     "output_type": "execute_result"
    }
   ],
   "source": [
    "np.random.choice(x,10,True, Px)"
   ]
  },
  {
   "cell_type": "code",
   "execution_count": 29,
   "metadata": {},
   "outputs": [
    {
     "name": "stdout",
     "output_type": "stream",
     "text": [
      "Population mean after drawing 2 samples = 1.0\n",
      "Population mean after drawing 10 samples = 2.2\n",
      "Population mean after drawing 100 samples = 2.07\n",
      "Population mean after drawing 100000 samples = 2.10171\n"
     ]
    }
   ],
   "source": [
    "numsamples = [2,10,100,100000]\n",
    "\n",
    "for num in numsamples: \n",
    "    print \"Population mean after drawing {num} samples = {s}\".format(\n",
    "        num = num,\n",
    "        s = np.mean(np.random.choice(x, num, True, Px))\n",
    "    )"
   ]
  },
  {
   "cell_type": "code",
   "execution_count": 19,
   "metadata": {},
   "outputs": [
    {
     "name": "stdout",
     "output_type": "stream",
     "text": [
      "Population covariance after drawing 2 samples = 0.0\n",
      "Population covariance after drawing 10 samples = -0.311111111111\n",
      "Population covariance after drawing 100 samples = -0.177777777778\n",
      "Population covariance after drawing 100000 samples = -0.118734094541\n"
     ]
    }
   ],
   "source": [
    "#To calculate the covariance, we will generate samples (x,y) form the joint distribution P\n",
    "#possible samples\n",
    "nxy =  np.array([(i,j) for i in nx for j in ny])\n",
    "for num in numsamples:\n",
    "    samples = np.random.choice(nxy.shape[0], num, True, P.T.flatten()), #choose rows\n",
    "    print \"Population covariance after drawing {num} samples = {s}\".format(\n",
    "        num = num,\n",
    "        s = np.cov(\n",
    "            nxy[samples][:,0],\n",
    "            nxy[samples][:,1]\n",
    "        )[0,1]\n",
    "    )"
   ]
  }
 ],
 "metadata": {
  "kernelspec": {
   "display_name": "Python 2",
   "language": "python",
   "name": "python2"
  },
  "language_info": {
   "codemirror_mode": {
    "name": "ipython",
    "version": 2
   },
   "file_extension": ".py",
   "mimetype": "text/x-python",
   "name": "python",
   "nbconvert_exporter": "python",
   "pygments_lexer": "ipython2",
   "version": "2.7.13"
  },
  "toc": {
   "colors": {
    "hover_highlight": "#DAA520",
    "navigate_num": "#000000",
    "navigate_text": "#333333",
    "running_highlight": "#FF0000",
    "selected_highlight": "#FFD700",
    "sidebar_border": "#EEEEEE",
    "wrapper_background": "#FFFFFF"
   },
   "moveMenuLeft": true,
   "nav_menu": {
    "height": "142px",
    "width": "252px"
   },
   "navigate_menu": true,
   "number_sections": true,
   "sideBar": true,
   "threshold": 4,
   "toc_cell": false,
   "toc_section_display": "block",
   "toc_window_display": false,
   "widenNotebook": false
  }
 },
 "nbformat": 4,
 "nbformat_minor": 2
}
