{
 "cells": [
  {
   "cell_type": "code",
   "execution_count": 2,
   "metadata": {},
   "outputs": [
    {
     "name": "stdout",
     "output_type": "stream",
     "text": [
      "Populating the interactive namespace from numpy and matplotlib\n"
     ]
    }
   ],
   "source": [
    "%pylab inline\n",
    "import numpy as np"
   ]
  },
  {
   "cell_type": "markdown",
   "metadata": {},
   "source": [
    "## Compute statistics for a known distribution\n",
    "\n",
    "Requested additions:\n",
    "1. Do the same calcs for a sample.\n",
    "2. Show how to do the calcs without .dot and outer, just standard python (much slower, but ok).\n",
    "3. Add text to explain each step"
   ]
  },
  {
   "cell_type": "markdown",
   "metadata": {},
   "source": [
    "### Defining a joint distribution over two discrete random variables\n",
    "The probabilities are organized in a 2D array, where the columns correspond to values of $x$ and the rows correspond to values of $y$"
   ]
  },
  {
   "cell_type": "code",
   "execution_count": 50,
   "metadata": {},
   "outputs": [
    {
     "data": {
      "text/plain": [
       "array([[ 1.,  1.,  2.],\n",
       "       [ 2.,  2.,  2.]])"
      ]
     },
     "execution_count": 50,
     "metadata": {},
     "output_type": "execute_result"
    }
   ],
   "source": [
    "# We start with positive weights that don't sum to 1\n",
    "P=np.array([[1.,1,2],[2,2,2]])\n",
    "P2=copy(P)\n",
    "P"
   ]
  },
  {
   "cell_type": "code",
   "execution_count": 51,
   "metadata": {},
   "outputs": [
    {
     "name": "stdout",
     "output_type": "stream",
     "text": [
      "the sum is  10.0\n"
     ]
    },
    {
     "data": {
      "text/plain": [
       "array([[ 0.1,  0.1,  0.2],\n",
       "       [ 0.2,  0.2,  0.2]])"
      ]
     },
     "execution_count": 51,
     "metadata": {},
     "output_type": "execute_result"
    }
   ],
   "source": [
    "# We then normalize the weights\n",
    "# using Pure Python\n",
    "\n",
    "#Compute the sum\n",
    "s=0\n",
    "for i in range(shape(P)[0]):\n",
    "    for j in range(shape(P)[1]):\n",
    "        s+=P[i,j]\n",
    "print 'the sum is ',s\n",
    "#divide by the sum\n",
    "for i in range(shape(P)[0]):\n",
    "    for j in range(shape(P)[1]):\n",
    "        P[i,j] /= s\n",
    "P"
   ]
  },
  {
   "cell_type": "code",
   "execution_count": 52,
   "metadata": {},
   "outputs": [
    {
     "data": {
      "text/plain": [
       "array([[ 0.1,  0.1,  0.2],\n",
       "       [ 0.2,  0.2,  0.2]])"
      ]
     },
     "execution_count": 52,
     "metadata": {},
     "output_type": "execute_result"
    }
   ],
   "source": [
    "# Using Numpy we can write it in a much shorter way\n",
    "P2/=sum(P2)\n",
    "P2"
   ]
  },
  {
   "cell_type": "code",
   "execution_count": 53,
   "metadata": {
    "collapsed": true
   },
   "outputs": [],
   "source": [
    "# The values that the random variables x and y take\n",
    "x=np.array([1,2,3])\n",
    "y=np.array([-1,1])"
   ]
  },
  {
   "cell_type": "markdown",
   "metadata": {},
   "source": [
    "#### Computing Marginals\n",
    "The marginal distributions are the probabilities associated with each random variable alone."
   ]
  },
  {
   "cell_type": "code",
   "execution_count": 54,
   "metadata": {},
   "outputs": [
    {
     "data": {
      "text/plain": [
       "([0.30000000000000004, 0.30000000000000004, 0.40000000000000002],\n",
       " [0.40000000000000002, 0.60000000000000009])"
      ]
     },
     "execution_count": 54,
     "metadata": {},
     "output_type": "execute_result"
    }
   ],
   "source": [
    "# The pure python way\n",
    "Px=[0.]*shape(P)[1]\n",
    "Py=[0.]*shape(P)[0]\n",
    "\n",
    "for i in range(len(Px)):\n",
    "    for j in range(len(Py)):\n",
    "        Px[i]+=P[j,i]\n",
    "        Py[j]+=P[j,i]\n",
    "Px,Py"
   ]
  },
  {
   "cell_type": "code",
   "execution_count": 55,
   "metadata": {},
   "outputs": [
    {
     "data": {
      "text/plain": [
       "(array([ 0.3,  0.3,  0.4]), array([ 0.4,  0.6]))"
      ]
     },
     "execution_count": 55,
     "metadata": {},
     "output_type": "execute_result"
    }
   ],
   "source": [
    "#the numpy way:\n",
    "Px=sum(P,axis=0)\n",
    "Py=sum(P,axis=1)\n",
    "Px,Py"
   ]
  },
  {
   "cell_type": "markdown",
   "metadata": {},
   "source": [
    "### Check whether $x$ and $y$ are independent\n",
    "\n",
    "If they are independent then the outer product and P should be equal."
   ]
  },
  {
   "cell_type": "code",
   "execution_count": 56,
   "metadata": {},
   "outputs": [
    {
     "name": "stdout",
     "output_type": "stream",
     "text": [
      "Px[0]*Py[0] != P[0,0] ::::: 0.300*0.400 = 0.120 != 0.100\n",
      "Px[0]*Py[1] != P[1,0] ::::: 0.300*0.600 = 0.180 != 0.200\n",
      "Px[1]*Py[0] != P[0,1] ::::: 0.300*0.400 = 0.120 != 0.100\n",
      "Px[1]*Py[1] != P[1,1] ::::: 0.300*0.600 = 0.180 != 0.200\n",
      "Px[2]*Py[0] != P[0,2] ::::: 0.400*0.400 = 0.160 != 0.200\n",
      "Px[2]*Py[1] != P[1,2] ::::: 0.400*0.600 = 0.240 != 0.200\n"
     ]
    }
   ],
   "source": [
    "# The pure python way\n",
    "for i in range(len(Px)):\n",
    "    for j in range(len(Py)):\n",
    "        if Px[i]*Py[j] != P[j,i]:\n",
    "            print \"Px[%d]*Py[%d] != P[%d,%d] ::::: %5.3f*%5.3f = %5.3f != %5.3f\"%\\\n",
    "                    (i,j,j,i,Px[i],Py[j],Px[i]*Py[j],P[j,i])\n"
   ]
  },
  {
   "cell_type": "code",
   "execution_count": 57,
   "metadata": {},
   "outputs": [
    {
     "data": {
      "text/plain": [
       "array([[ 0.02,  0.02, -0.04],\n",
       "       [-0.02, -0.02,  0.04]])"
      ]
     },
     "execution_count": 57,
     "metadata": {},
     "output_type": "execute_result"
    }
   ],
   "source": [
    "# The numpy way\n",
    "np.outer(Px,Py).T - P"
   ]
  },
  {
   "cell_type": "markdown",
   "metadata": {},
   "source": [
    "### Computing the covariance\n",
    "#### Compute the means and stds"
   ]
  },
  {
   "cell_type": "code",
   "execution_count": 63,
   "metadata": {},
   "outputs": [
    {
     "name": "stdout",
     "output_type": "stream",
     "text": [
      "Ex=2.100000,Ey=0.200000,stdx=0.830662,stdy=0.979796\n"
     ]
    }
   ],
   "source": [
    "from math import sqrt\n",
    "Ex=np.dot(Px,x)\n",
    "Ey=np.dot(Py,y)\n",
    "Ex2=np.dot(Px,x**2)\n",
    "Ey2=np.dot(Py,y**2)\n",
    "stdx=sqrt(Ex2-Ex**2)\n",
    "stdy=sqrt(Ey2-Ey**2)\n",
    "print 'Ex=%f,Ey=%f,stdx=%f,stdy=%f'%(Ex,Ey,stdx,stdy)"
   ]
  },
  {
   "cell_type": "markdown",
   "metadata": {},
   "source": [
    "#### Subtract the means"
   ]
  },
  {
   "cell_type": "code",
   "execution_count": 64,
   "metadata": {},
   "outputs": [
    {
     "data": {
      "text/plain": [
       "array([-1.1, -0.1,  0.9])"
      ]
     },
     "execution_count": 64,
     "metadata": {},
     "output_type": "execute_result"
    }
   ],
   "source": [
    "nx=x-Ex\n",
    "nx"
   ]
  },
  {
   "cell_type": "code",
   "execution_count": 65,
   "metadata": {},
   "outputs": [
    {
     "data": {
      "text/plain": [
       "array([-1.2,  0.8])"
      ]
     },
     "execution_count": 65,
     "metadata": {},
     "output_type": "execute_result"
    }
   ],
   "source": [
    "ny=y-Ey\n",
    "ny"
   ]
  },
  {
   "cell_type": "markdown",
   "metadata": {},
   "source": [
    "### Calculate the covariance\n"
   ]
  },
  {
   "cell_type": "code",
   "execution_count": 66,
   "metadata": {},
   "outputs": [
    {
     "name": "stdout",
     "output_type": "stream",
     "text": [
      "the covariance is -0.12\n"
     ]
    }
   ],
   "source": [
    "s=0\n",
    "for i in range(len(x)):\n",
    "    for j in range(len(y)):\n",
    "        s+=P[j,i]*nx[i]*ny[j]\n",
    "print 'the covariance is',s"
   ]
  },
  {
   "cell_type": "markdown",
   "metadata": {},
   "source": [
    "### and the correlation\n"
   ]
  },
  {
   "cell_type": "code",
   "execution_count": null,
   "metadata": {
    "collapsed": true
   },
   "outputs": [],
   "source": [
    "s/()"
   ]
  },
  {
   "cell_type": "markdown",
   "metadata": {},
   "source": [
    "## Empirical statistics\n",
    "Repeat the calculation above by sampling from the joint distribution and calculating the emprical expectations, variance and covariance\n",
    "\n",
    "Use sums over the sample, not over the elements of the space."
   ]
  },
  {
   "cell_type": "markdown",
   "metadata": {},
   "source": []
  },
  {
   "cell_type": "markdown",
   "metadata": {},
   "source": []
  }
 ],
 "metadata": {
  "kernelspec": {
   "display_name": "Python 2",
   "language": "python",
   "name": "python2"
  },
  "language_info": {
   "codemirror_mode": {
    "name": "ipython",
    "version": 2
   },
   "file_extension": ".py",
   "mimetype": "text/x-python",
   "name": "python",
   "nbconvert_exporter": "python",
   "pygments_lexer": "ipython2",
   "version": "2.7.13"
  },
  "toc": {
   "colors": {
    "hover_highlight": "#DAA520",
    "navigate_num": "#000000",
    "navigate_text": "#333333",
    "running_highlight": "#FF0000",
    "selected_highlight": "#FFD700",
    "sidebar_border": "#EEEEEE",
    "wrapper_background": "#FFFFFF"
   },
   "moveMenuLeft": true,
   "nav_menu": {
    "height": "142px",
    "width": "252px"
   },
   "navigate_menu": true,
   "number_sections": true,
   "sideBar": true,
   "threshold": 4,
   "toc_cell": false,
   "toc_section_display": "block",
   "toc_window_display": false,
   "widenNotebook": false
  }
 },
 "nbformat": 4,
 "nbformat_minor": 2
}
