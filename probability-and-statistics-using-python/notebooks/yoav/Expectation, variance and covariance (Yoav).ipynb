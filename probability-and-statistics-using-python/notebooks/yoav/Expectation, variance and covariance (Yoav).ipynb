{
 "cells": [
  {
   "cell_type": "code",
   "execution_count": 2,
   "metadata": {},
   "outputs": [
    {
     "name": "stdout",
     "output_type": "stream",
     "text": [
      "Populating the interactive namespace from numpy and matplotlib\n"
     ]
    }
   ],
   "source": [
    "%pylab inline\n",
    "import numpy as np"
   ]
  },
  {
   "cell_type": "markdown",
   "metadata": {},
   "source": [
    "## Compute statistics for a known distribution\n",
    "\n",
    "Requested additions:\n",
    "1. Do the same calcs for a sample.\n",
    "2. Show how to do the calcs without .dot and outer, just standard python (much slower, but ok).\n",
    "3. Add text to explain each step"
   ]
  },
  {
   "cell_type": "markdown",
   "metadata": {},
   "source": [
    "### Defining a joint distribution over two discrete random variables\n",
    "The probabilities are organized in a 2D array, where the columns correspond to values of $x$ and the rows correspond to values of $y$"
   ]
  },
  {
   "cell_type": "code",
   "execution_count": 10,
   "metadata": {},
   "outputs": [
    {
     "data": {
      "text/plain": [
       "array([[ 1.,  1.,  2.],\n",
       "       [ 1.,  2.,  1.]])"
      ]
     },
     "execution_count": 10,
     "metadata": {},
     "output_type": "execute_result"
    }
   ],
   "source": [
    "# We start with positive weights that don't sum to 1\n",
    "P=np.array([[1.,1,2],[1,2,1]])\n",
    "P2=copy(P)\n",
    "P"
   ]
  },
  {
   "cell_type": "code",
   "execution_count": 11,
   "metadata": {},
   "outputs": [
    {
     "name": "stdout",
     "output_type": "stream",
     "text": [
      "the sum is  8.0\n"
     ]
    },
    {
     "data": {
      "text/plain": [
       "array([[ 0.125,  0.125,  0.25 ],\n",
       "       [ 0.125,  0.25 ,  0.125]])"
      ]
     },
     "execution_count": 11,
     "metadata": {},
     "output_type": "execute_result"
    }
   ],
   "source": [
    "# We then normalize the weights\n",
    "# using Pure Python\n",
    "\n",
    "#Compute the sum\n",
    "s=0\n",
    "for i in range(shape(P)[0]):\n",
    "    for j in range(shape(P)[1]):\n",
    "        s+=P[i,j]\n",
    "print 'the sum is ',s\n",
    "#divide by the sum\n",
    "for i in range(shape(P)[0]):\n",
    "    for j in range(shape(P)[1]):\n",
    "        P[i,j] /= s\n",
    "P"
   ]
  },
  {
   "cell_type": "code",
   "execution_count": 13,
   "metadata": {},
   "outputs": [
    {
     "data": {
      "text/plain": [
       "array([[ 0.125,  0.125,  0.25 ],\n",
       "       [ 0.125,  0.25 ,  0.125]])"
      ]
     },
     "execution_count": 13,
     "metadata": {},
     "output_type": "execute_result"
    }
   ],
   "source": [
    "# Using Numpy we can write it in a much shorter way\n",
    "P2/=sum(P2)\n",
    "P2"
   ]
  },
  {
   "cell_type": "code",
   "execution_count": 5,
   "metadata": {
    "collapsed": true
   },
   "outputs": [],
   "source": [
    "# The values that the random variables x and y take\n",
    "x=np.array([1,2,3])\n",
    "y=np.array([-1,1])"
   ]
  },
  {
   "cell_type": "markdown",
   "metadata": {},
   "source": [
    "#### Computing Marginals\n",
    "The marginal distributions are the probabilities associated with each random variable alone."
   ]
  },
  {
   "cell_type": "code",
   "execution_count": 22,
   "metadata": {},
   "outputs": [],
   "source": [
    "# The python way\n",
    "Px=[0]*shape(P)[1]\n",
    "Py=[0]*shape(P)[0]\n",
    "for i in range(shape(P)[0]):\n",
    "    for j in range(shape(P)[1]):\n",
    "        Px"
   ]
  },
  {
   "cell_type": "code",
   "execution_count": 86,
   "metadata": {},
   "outputs": [
    {
     "data": {
      "text/plain": [
       "(array([ 0.25 ,  0.375,  0.375]), array([ 0.5,  0.5]))"
      ]
     },
     "execution_count": 86,
     "metadata": {},
     "output_type": "execute_result"
    }
   ],
   "source": [
    "#the numpy way:\n",
    "Px=sum(P,axis=0)\n",
    "Py=sum(P,axis=1)\n",
    "Px,Py"
   ]
  },
  {
   "cell_type": "markdown",
   "metadata": {},
   "source": [
    "### Check whether $x$ and $y$ are independent\n",
    "\n",
    "If they are independent then the outer product and P should be equal."
   ]
  },
  {
   "cell_type": "code",
   "execution_count": 87,
   "metadata": {},
   "outputs": [
    {
     "data": {
      "text/plain": [
       "array([[ 0.    ,  0.0625, -0.0625],\n",
       "       [ 0.    , -0.0625,  0.0625]])"
      ]
     },
     "execution_count": 87,
     "metadata": {},
     "output_type": "execute_result"
    }
   ],
   "source": [
    "np.outer(Px,Py).T - P"
   ]
  },
  {
   "cell_type": "markdown",
   "metadata": {},
   "source": [
    "### Subtract the means"
   ]
  },
  {
   "cell_type": "code",
   "execution_count": 88,
   "metadata": {},
   "outputs": [
    {
     "data": {
      "text/plain": [
       "(2.125, 0.0, 0.7806247497997998, 1.0)"
      ]
     },
     "execution_count": 88,
     "metadata": {},
     "output_type": "execute_result"
    }
   ],
   "source": [
    "from math import sqrt\n",
    "Ex=np.dot(Px,x)\n",
    "Ey=np.dot(Py,y)\n",
    "Ex2=np.dot(Px,x**2)\n",
    "Ey2=np.dot(Py,y**2)\n",
    "stdx=sqrt(Ex2-Ex**2)\n",
    "stdy=sqrt(Ey2-Ey**2)\n",
    "Ex,Ey,stdx,stdy\n"
   ]
  },
  {
   "cell_type": "code",
   "execution_count": 89,
   "metadata": {},
   "outputs": [
    {
     "data": {
      "text/plain": [
       "array([-1.125, -0.125,  0.875])"
      ]
     },
     "execution_count": 89,
     "metadata": {},
     "output_type": "execute_result"
    }
   ],
   "source": [
    "nx=x-Ex\n",
    "nx"
   ]
  },
  {
   "cell_type": "code",
   "execution_count": 90,
   "metadata": {},
   "outputs": [
    {
     "data": {
      "text/plain": [
       "array([-1.,  1.])"
      ]
     },
     "execution_count": 90,
     "metadata": {},
     "output_type": "execute_result"
    }
   ],
   "source": [
    "ny=y-Ey\n",
    "ny"
   ]
  },
  {
   "cell_type": "markdown",
   "metadata": {},
   "source": [
    "### Calculate the covariance\n"
   ]
  },
  {
   "cell_type": "code",
   "execution_count": 91,
   "metadata": {},
   "outputs": [
    {
     "name": "stdout",
     "output_type": "stream",
     "text": [
      "the covariance is -0.125\n"
     ]
    }
   ],
   "source": [
    "s=0\n",
    "for i in range(len(x)):\n",
    "    for j in range(len(y)):\n",
    "        s+=P[j,i]*nx[i]*ny[j]\n",
    "print 'the covariance is',s"
   ]
  },
  {
   "cell_type": "markdown",
   "metadata": {},
   "source": [
    "### and the correlation\n"
   ]
  },
  {
   "cell_type": "markdown",
   "metadata": {},
   "source": [
    "## Empirical statistics\n",
    "Repeat the calculation above by sampling from the joint distribution and calculating the emprical expectations, variance and covariance\n",
    "\n",
    "Use sums over the sample, not over the elements of the space."
   ]
  },
  {
   "cell_type": "markdown",
   "metadata": {},
   "source": []
  },
  {
   "cell_type": "markdown",
   "metadata": {},
   "source": []
  }
 ],
 "metadata": {
  "kernelspec": {
   "display_name": "Python 2",
   "language": "python",
   "name": "python2"
  },
  "language_info": {
   "codemirror_mode": {
    "name": "ipython",
    "version": 2
   },
   "file_extension": ".py",
   "mimetype": "text/x-python",
   "name": "python",
   "nbconvert_exporter": "python",
   "pygments_lexer": "ipython2",
   "version": "2.7.13"
  },
  "toc": {
   "colors": {
    "hover_highlight": "#DAA520",
    "navigate_num": "#000000",
    "navigate_text": "#333333",
    "running_highlight": "#FF0000",
    "selected_highlight": "#FFD700",
    "sidebar_border": "#EEEEEE",
    "wrapper_background": "#FFFFFF"
   },
   "moveMenuLeft": true,
   "nav_menu": {
    "height": "142px",
    "width": "252px"
   },
   "navigate_menu": true,
   "number_sections": true,
   "sideBar": true,
   "threshold": 4,
   "toc_cell": false,
   "toc_section_display": "block",
   "toc_window_display": false,
   "widenNotebook": false
  }
 },
 "nbformat": 4,
 "nbformat_minor": 2
}
