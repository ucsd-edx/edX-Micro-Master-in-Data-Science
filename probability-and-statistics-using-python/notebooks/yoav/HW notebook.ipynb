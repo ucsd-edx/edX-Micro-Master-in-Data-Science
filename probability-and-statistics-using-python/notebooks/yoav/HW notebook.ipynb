{
 "cells": [
  {
   "cell_type": "markdown",
   "metadata": {},
   "source": [
    "Questions of the form: you are given a data file with columns\n",
    "corresponding to randome variables. Each row is an IID draw from a fixed but unknown distribution.\n",
    "\n",
    "Answer the following questions. For each question answer \"yes\",\"no\" or \"not enough data to decide\"\n",
    "\n",
    "Questions are of the form \n",
    "* E(X) is in [0.9,1.1]\n",
    "* Cov(X,Y) is in [-0.01,+0.01]\n",
    "\n",
    "or \"FInd the variables whose abs(correlation) with X is larger than 0.1 \"\n"
   ]
  },
  {
   "cell_type": "code",
   "execution_count": null,
   "metadata": {
    "collapsed": true
   },
   "outputs": [],
   "source": []
  }
 ],
 "metadata": {
  "kernelspec": {
   "display_name": "Python 2",
   "language": "python",
   "name": "python2"
  },
  "language_info": {
   "codemirror_mode": {
    "name": "ipython",
    "version": 2
   },
   "file_extension": ".py",
   "mimetype": "text/x-python",
   "name": "python",
   "nbconvert_exporter": "python",
   "pygments_lexer": "ipython2",
   "version": "2.7.13"
  },
  "toc": {
   "colors": {
    "hover_highlight": "#DAA520",
    "navigate_num": "#000000",
    "navigate_text": "#333333",
    "running_highlight": "#FF0000",
    "selected_highlight": "#FFD700",
    "sidebar_border": "#EEEEEE",
    "wrapper_background": "#FFFFFF"
   },
   "moveMenuLeft": true,
   "nav_menu": {
    "height": "12px",
    "width": "252px"
   },
   "navigate_menu": true,
   "number_sections": true,
   "sideBar": true,
   "threshold": 4,
   "toc_cell": false,
   "toc_section_display": "block",
   "toc_window_display": false,
   "widenNotebook": false
  }
 },
 "nbformat": 4,
 "nbformat_minor": 2
}
