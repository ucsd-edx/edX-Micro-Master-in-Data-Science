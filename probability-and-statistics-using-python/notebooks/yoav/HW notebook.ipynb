{
 "cells": [
  {
   "cell_type": "markdown",
   "metadata": {},
   "source": [
    "<font size=\"4\" style=\"color:red;\"> **IMPORTANT: ** When submitting this homework notebook, please modify only the cells that start with:</font>\n",
    "\n",
    "```python\n",
    "# modify this cell\n",
    "```"
   ]
  },
  {
   "cell_type": "code",
   "execution_count": 94,
   "metadata": {},
   "outputs": [
    {
     "name": "stdout",
     "output_type": "stream",
     "text": [
      "Populating the interactive namespace from numpy and matplotlib\n"
     ]
    }
   ],
   "source": [
    "%pylab inline\n",
    "import numpy as np"
   ]
  },
  {
   "cell_type": "markdown",
   "metadata": {},
   "source": [
    "## Dealing for Float Variables"
   ]
  },
  {
   "cell_type": "markdown",
   "metadata": {},
   "source": [
    "This is helpful fact that <font color=\"red\">you will need</font> for **Exercise 1**. When checking to see if two floating point numbers are equal, one has to consider that a computer has roundoff error. For instance, consider the example below"
   ]
  },
  {
   "cell_type": "code",
   "execution_count": 95,
   "metadata": {},
   "outputs": [
    {
     "name": "stdout",
     "output_type": "stream",
     "text": [
      "Thse aren't equal becuase according to python .4*.4 is\n"
     ]
    },
    {
     "data": {
      "text/plain": [
       "0.16000000000000003"
      ]
     },
     "execution_count": 95,
     "metadata": {},
     "output_type": "execute_result"
    }
   ],
   "source": [
    ".4 *.4 == .16\n",
    "print \"Thse aren't equal becuase according to python .4*.4 is\"\n",
    ".4*.4"
   ]
  },
  {
   "cell_type": "markdown",
   "metadata": {
    "collapsed": true
   },
   "source": [
    "To get around this you must check wether the absolute distance is less than some really small number"
   ]
  },
  {
   "cell_type": "code",
   "execution_count": 96,
   "metadata": {},
   "outputs": [
    {
     "data": {
      "text/plain": [
       "True"
      ]
     },
     "execution_count": 96,
     "metadata": {},
     "output_type": "execute_result"
    }
   ],
   "source": [
    "# correct way to see if,  .4 *.4 == .16\n",
    "\n",
    "abs(.4 *.4 - .16) < 10**-7"
   ]
  },
  {
   "cell_type": "markdown",
   "metadata": {},
   "source": [
    "# Exercise 1"
   ]
  },
  {
   "cell_type": "markdown",
   "metadata": {},
   "source": [
    "Write a function, **is_independent** that takes in a joint distribution as an `np.array` and determines whether or not the two random variables are independent. **is_independent** should return a boolean variable.\n",
    "\n"
   ]
  },
  {
   "cell_type": "markdown",
   "metadata": {},
   "source": [
    "<font  style=\"color:blue\"> **Code:**</font>\n",
    "```python\n",
    "p_joint = array([[ 0.1,  0.2],\n",
    "                 [ 0.3,  0.4]])\n",
    "print is_independent(p_joint)\n",
    "\n",
    "p_joint = array([[ 0.125 ,  0.0625,  0.0625],\n",
    "                 [ 0.375 ,  0.1875,  0.1875]])\n",
    "print is_independent(p_joint)       \n",
    "```\n",
    "\n",
    "\n",
    "<font  style=\"color:magenta\"> **Output**</font>\n",
    "```\n",
    "False\n",
    "True\n",
    "```"
   ]
  },
  {
   "cell_type": "code",
   "execution_count": 97,
   "metadata": {
    "collapsed": true
   },
   "outputs": [],
   "source": [
    "# modify this cell\n",
    "\n",
    "def is_independent(p_joint):\n",
    "    # inputs: an np.array that represent the joint distribution of 2 random variables\n",
    "    # output: a boolean, True if independent, False otherwise\n",
    "    \n",
    "    ### BEGIN SOLUTION\n",
    "    pX = np.sum(p_joint, axis=0)\n",
    "    pY = np.sum(p_joint, axis=1)\n",
    "    return all(abs(np.outer(pY,pX) - p_joint) < 10**-7)\n",
    "    ### END SOLUTION"
   ]
  },
  {
   "cell_type": "code",
   "execution_count": 98,
   "metadata": {
    "collapsed": true
   },
   "outputs": [],
   "source": [
    "# Check Function\n",
    "p_joint = array([[ 0.16,  0.12,  0.12],\n",
    "                 [ 0.24,  0.18,  0.18]])\n",
    "assert( is_independent(p_joint) == True )\n",
    "\n",
    "p_joint = array([[ 0.15, 0.2,  0.15],\n",
    "                 [ 0.,   0.3,  0.2]])\n",
    "assert( is_independent(p_joint) == False )\n",
    "\n",
    "\n",
    "\n",
    "### BEGIN HIDDEN TESTS\n",
    "p_joint = array([[ 0.06,  0.06,  0.08],\n",
    "                 [ 0.24,  0.24,  0.32]])\n",
    "assert( is_independent(p_joint) == True )\n",
    "### END HIDDEN TESTS"
   ]
  },
  {
   "cell_type": "markdown",
   "metadata": {},
   "source": [
    "# Exercise 2"
   ]
  },
  {
   "cell_type": "markdown",
   "metadata": {},
   "source": [
    "For a given dataset of IID samples from 2 random variables, $X=\\{-1,\\ 1\\}$, $Y=\\{-1,\\ 1\\}$ . Lets us say that the dataset is independent if for the emperical values of $P(X=i)$, $P(Y=j)$, and $P(X=i \\ , \\ Y=j)$ we have:\n",
    "$$\\begin{vmatrix} P(X=i)P(Y=j)-P(X=i \\ , \\ Y=j) \\end{vmatrix} < 0.01 \\ \\  \\forall \\ i , j$$"
   ]
  },
  {
   "cell_type": "markdown",
   "metadata": {
    "collapsed": true
   },
   "source": [
    "Let *data* be an `np.array` of IID values sampled from some $X$ and $Y$. Write a function **is_independent_data** that determines whether or not the two random variables are independent, it should return a boolean variable."
   ]
  },
  {
   "cell_type": "markdown",
   "metadata": {},
   "source": [
    "<font  style=\"color:blue\"> **Code:**</font>\n",
    "```python\n",
    "print \"We'll make 2 datasets from a joint distribution, is it independent?\"\n",
    "p_joint = array([[ 0.08,  0.12],[ 0.32,  0.48]])\n",
    "xy =  np.array([(i,j) for i in [0,1] for j in [0,1]])\n",
    "print is_independent(p_joint)\n",
    "\n",
    "print;print \"We create a small dataset, is it independent?\"\n",
    "random.seed(3)\n",
    "I= random.choice(xy.shape[0], 50, True, p_joint.T.flatten())\n",
    "data = xy[I]\n",
    "print is_independent_data(data)\n",
    "\n",
    "print;print \"We create a big dataset, is that independent?\"\n",
    "random.seed(3)\n",
    "I= random.choice(xy.shape[0], 200, True, p_joint.T.flatten())\n",
    "data = xy[I]  \n",
    "print is_independent_data(data)\n",
    "```\n",
    "\n",
    "\n",
    "<font  style=\"color:magenta\"> **Output**</font>\n",
    "```\n",
    "We'll make 2 datasets from a joint distribution, is it independent?\n",
    "True\n",
    "\n",
    "We create a small dataset, is it independent?\n",
    "False\n",
    "\n",
    "We create a big dataset, is that independent?\n",
    "True\n",
    "```"
   ]
  },
  {
   "cell_type": "code",
   "execution_count": 99,
   "metadata": {
    "collapsed": true
   },
   "outputs": [],
   "source": [
    "# modify this cell\n",
    "\n",
    "def is_independent_data(data):\n",
    "    # inputs: an np.array that represent the joint distribution of 2 random variables\n",
    "    # output: a boolean, True if independent, False otherwise\n",
    "    \n",
    "    ### BEGIN SOLUTION\n",
    "    P = array([[0.,0.],[0.,0.]])\n",
    "    for i in data:\n",
    "        P[i[0],i[1]] += 1\n",
    "    P /= sum(P)\n",
    "\n",
    "    pX = np.sum(P, axis=0)\n",
    "    pY = np.sum(P, axis=1)\n",
    "    return all( abs(np.outer(pY,pX) - P) < 0.01 )\n",
    "    ### END SOLUTION"
   ]
  },
  {
   "cell_type": "code",
   "execution_count": 100,
   "metadata": {},
   "outputs": [],
   "source": [
    "# Check Function\n",
    "\n",
    "p_joint = array([[ 0.12,  0.28],[ 0.18,  0.42]])\n",
    "xy =  np.array([(i,j) for i in [0,1] for j in [0,1]])\n",
    "assert( is_independent(p_joint) == True )\n",
    "\n",
    "random.seed(3)\n",
    "I= random.choice(xy.shape[0], 50, True, p_joint.T.flatten())\n",
    "data = xy[I]\n",
    "assert( is_independent_data(data) == False )\n",
    "\n",
    "random.seed(3)\n",
    "I= random.choice(xy.shape[0], 350, True, p_joint.T.flatten())\n",
    "data = xy[I]  \n",
    "assert( is_independent_data(data) == True )\n",
    "\n",
    "\n",
    "\n",
    "\n",
    "### BEGIN HIDDEN TESTS\n",
    "p_joint = array([[ 0.14,  0.26],[ 0.21,  0.39]])\n",
    "xy =  np.array([(i,j) for i in [0,1] for j in [0,1]])\n",
    "\n",
    "random.seed(3)\n",
    "I= random.choice(xy.shape[0], 20, True, p_joint.T.flatten())\n",
    "data = xy[I]\n",
    "assert( is_independent_data(data) == False )\n",
    "\n",
    "random.seed(3)\n",
    "I= random.choice(xy.shape[0], 300, True, p_joint.T.flatten())\n",
    "data = xy[I]  \n",
    "assert( is_independent_data(data) == True )\n",
    "### END HIDDEN TESTS"
   ]
  },
  {
   "cell_type": "code",
   "execution_count": null,
   "metadata": {
    "collapsed": true
   },
   "outputs": [],
   "source": [
    "\n",
    "\n",
    "\n",
    "\n",
    "\n",
    "\n",
    "\n",
    "\n",
    "\n",
    "\n",
    "\n",
    "\n",
    "\n"
   ]
  }
 ],
 "metadata": {
  "kernelspec": {
   "display_name": "Python 2",
   "language": "python",
   "name": "python2"
  },
  "language_info": {
   "codemirror_mode": {
    "name": "ipython",
    "version": 2
   },
   "file_extension": ".py",
   "mimetype": "text/x-python",
   "name": "python",
   "nbconvert_exporter": "python",
   "pygments_lexer": "ipython2",
   "version": "2.7.13"
  },
  "toc": {
   "colors": {
    "hover_highlight": "#DAA520",
    "navigate_num": "#000000",
    "navigate_text": "#333333",
    "running_highlight": "#FF0000",
    "selected_highlight": "#FFD700",
    "sidebar_border": "#EEEEEE",
    "wrapper_background": "#FFFFFF"
   },
   "moveMenuLeft": true,
   "nav_menu": {
    "height": "12px",
    "width": "252px"
   },
   "navigate_menu": true,
   "number_sections": true,
   "sideBar": true,
   "threshold": 4,
   "toc_cell": false,
   "toc_section_display": "block",
   "toc_window_display": false,
   "widenNotebook": false
  }
 },
 "nbformat": 4,
 "nbformat_minor": 2
}
