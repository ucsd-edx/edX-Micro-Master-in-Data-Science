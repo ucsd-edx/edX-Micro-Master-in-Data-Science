{
 "cells": [
  {
   "cell_type": "markdown",
   "metadata": {},
   "source": [
    "## Freund's Start"
   ]
  },
  {
   "cell_type": "markdown",
   "metadata": {},
   "source": [
    "Questions of the form: you are given a data file with columns\n",
    "corresponding to randome variables. Each row is an IID draw from a fixed but unknown distribution.\n",
    "\n",
    "Answer the following questions. For each question answer \"yes\",\"no\" or \"not enough data to decide\"\n",
    "\n",
    "Questions are of the form \n",
    "* E(X) is in [0.9,1.1]\n",
    "* Cov(X,Y) is in [-0.01,+0.01]\n",
    "\n",
    "or \"FInd the variables whose abs(correlation) with X is larger than 0.1 \"\n"
   ]
  },
  {
   "cell_type": "markdown",
   "metadata": {},
   "source": [
    "## Email"
   ]
  },
  {
   "cell_type": "markdown",
   "metadata": {},
   "source": [
    "\n",
    "I plan to finish the notebook on calculating the mean, std, cov and corr for both the true distribution and a sample.\n",
    "\n",
    "I will then write an outlin for a HW notebook. The type of questions I plan to put there are:\n",
    "\n",
    "You are given data files with samples from a join distribution over two random variables X and Y.\n",
    "\n",
    "Is the mean of X in the range [1.0,1.2] ? How many examples do you need in order to make this decision?\n",
    "\n",
    "Is var of Y ...\n",
    "\n",
    "Are X and Y independent (where independence is defined as that | P(X=i)P(Y=j)-P(X=i and Y=j) | < 0.01 for all i and j\n",
    "\n",
    "Is the covariance of X and Y in [-0.01,+0.01] ...\n",
    "\n",
    "Will you be able to put a few hours tonight into  making these general directions into a HW notebook and put it on edX to be published tomorrow?\n",
    "\n",
    "Again, this is just a heads up. You don't need to do anything right now, just plan for time to work on it this PM."
   ]
  },
  {
   "cell_type": "markdown",
   "metadata": {},
   "source": [
    "<font size=\"4\" style=\"color:red;\"> **IMPORTANT: ** When submitting this homework notebook, please modify only the cells that start with:</font>\n",
    "\n",
    "```python\n",
    "# modify this cell\n",
    "```"
   ]
  },
  {
   "cell_type": "code",
   "execution_count": 2,
   "metadata": {},
   "outputs": [
    {
     "name": "stdout",
     "output_type": "stream",
     "text": [
      "Populating the interactive namespace from numpy and matplotlib\n"
     ]
    }
   ],
   "source": [
    "%pylab inline\n",
    "import numpy as np"
   ]
  },
  {
   "cell_type": "markdown",
   "metadata": {},
   "source": [
    "## Dealing for Float Variables"
   ]
  },
  {
   "cell_type": "markdown",
   "metadata": {},
   "source": [
    "This is helpful fact that <font color=\"red\">you will need</font> for **Exercise 1**. When checking to see if two floating point numbers are equal, one has to consider that a computer has roundoff error. For instance, consider the example below"
   ]
  },
  {
   "cell_type": "code",
   "execution_count": 128,
   "metadata": {},
   "outputs": [
    {
     "name": "stdout",
     "output_type": "stream",
     "text": [
      "Thse aren't equal becuase according to python .4*.4 is\n"
     ]
    },
    {
     "data": {
      "text/plain": [
       "0.16000000000000003"
      ]
     },
     "execution_count": 128,
     "metadata": {},
     "output_type": "execute_result"
    }
   ],
   "source": [
    ".4 *.4 == .16\n",
    "print \"Thse aren't equal becuase according to python .4*.4 is\"\n",
    ".4*.4"
   ]
  },
  {
   "cell_type": "markdown",
   "metadata": {
    "collapsed": true
   },
   "source": [
    "To get around this you must check wether the absolute distance is less than some really small number"
   ]
  },
  {
   "cell_type": "code",
   "execution_count": 129,
   "metadata": {},
   "outputs": [
    {
     "data": {
      "text/plain": [
       "True"
      ]
     },
     "execution_count": 129,
     "metadata": {},
     "output_type": "execute_result"
    }
   ],
   "source": [
    "# correct way to see if,  .4 *.4 == .16\n",
    "\n",
    "abs(.4 *.4 - .16) < 10**-7"
   ]
  },
  {
   "cell_type": "markdown",
   "metadata": {},
   "source": [
    "# Exercise 1"
   ]
  },
  {
   "cell_type": "markdown",
   "metadata": {},
   "source": [
    "Write a function, **is_independent** that takes in a joint distribution as an `np.array` and determines whether or not the two random variables are independent. **is_independent** should return a boolean variable.\n",
    "\n"
   ]
  },
  {
   "cell_type": "markdown",
   "metadata": {},
   "source": [
    "<font  style=\"color:blue\"> **Code:**</font>\n",
    "```python\n",
    "p_joint = array([[ 0.1,  0.2],\n",
    "                 [ 0.3,  0.4]])\n",
    "print is_independent(p_joint)\n",
    "\n",
    "p_joint = array([[ 0.125 ,  0.0625,  0.0625],\n",
    "                 [ 0.375 ,  0.1875,  0.1875]])\n",
    "print is_independent(p_joint)       \n",
    "```\n",
    "\n",
    "\n",
    "<font  style=\"color:magenta\"> **Output**</font>\n",
    "```\n",
    "False\n",
    "True\n",
    "```"
   ]
  },
  {
   "cell_type": "code",
   "execution_count": 130,
   "metadata": {
    "collapsed": true
   },
   "outputs": [],
   "source": [
    "# modify this cell\n",
    "\n",
    "def is_independent(p_joint):\n",
    "    # inputs: an np.array that represent the joint distribution of 2 random variables\n",
    "    # output: a boolean, True if independent, False otherwise\n",
    "    \n",
    "    ### BEGIN SOLUTION\n",
    "    pX = np.sum(p_joint, axis=0)\n",
    "    pY = np.sum(p_joint, axis=1)\n",
    "    return all(abs(np.outer(pY,pX) - p_joint) < 10**-7)\n",
    "    ### END SOLUTION"
   ]
  },
  {
   "cell_type": "code",
   "execution_count": 139,
   "metadata": {},
   "outputs": [],
   "source": [
    "# Check Function\n",
    "p_joint = array([[ 0.16,  0.12,  0.12],\n",
    "                 [ 0.24,  0.18,  0.18]])\n",
    "assert( is_independent(p_joint) == True )\n",
    "\n",
    "p_joint = array([[ 0.15, 0.2,  0.15],\n",
    "                 [ 0.,   0.3,  0.2]])\n",
    "assert( is_independent(p_joint) == False )\n",
    "\n",
    "### BEGIN HIDDEN TESTS\n",
    "p_joint = array([[ 0.06,  0.06,  0.08],\n",
    "                 [ 0.24,  0.24,  0.32]])\n",
    "assert( is_independent(p_joint) == True )\n",
    "### END HIDDEN TESTS"
   ]
  },
  {
   "cell_type": "markdown",
   "metadata": {},
   "source": [
    "# Exercise 2"
   ]
  },
  {
   "cell_type": "markdown",
   "metadata": {
    "collapsed": true
   },
   "source": [
    "Let `data` be an `np.array` of IID values sampled from some distribution. We would like to see if the "
   ]
  },
  {
   "cell_type": "code",
   "execution_count": null,
   "metadata": {
    "collapsed": true
   },
   "outputs": [],
   "source": []
  },
  {
   "cell_type": "code",
   "execution_count": null,
   "metadata": {
    "collapsed": true
   },
   "outputs": [],
   "source": []
  },
  {
   "cell_type": "code",
   "execution_count": null,
   "metadata": {
    "collapsed": true
   },
   "outputs": [],
   "source": []
  },
  {
   "cell_type": "code",
   "execution_count": null,
   "metadata": {
    "collapsed": true
   },
   "outputs": [],
   "source": []
  }
 ],
 "metadata": {
  "kernelspec": {
   "display_name": "Python 2",
   "language": "python",
   "name": "python2"
  },
  "language_info": {
   "codemirror_mode": {
    "name": "ipython",
    "version": 2
   },
   "file_extension": ".py",
   "mimetype": "text/x-python",
   "name": "python",
   "nbconvert_exporter": "python",
   "pygments_lexer": "ipython2",
   "version": "2.7.13"
  },
  "toc": {
   "colors": {
    "hover_highlight": "#DAA520",
    "navigate_num": "#000000",
    "navigate_text": "#333333",
    "running_highlight": "#FF0000",
    "selected_highlight": "#FFD700",
    "sidebar_border": "#EEEEEE",
    "wrapper_background": "#FFFFFF"
   },
   "moveMenuLeft": true,
   "nav_menu": {
    "height": "12px",
    "width": "252px"
   },
   "navigate_menu": true,
   "number_sections": true,
   "sideBar": true,
   "threshold": 4,
   "toc_cell": false,
   "toc_section_display": "block",
   "toc_window_display": false,
   "widenNotebook": false
  }
 },
 "nbformat": 4,
 "nbformat_minor": 2
}
