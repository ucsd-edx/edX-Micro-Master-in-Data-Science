{
 "cells": [
  {
   "cell_type": "markdown",
   "metadata": {},
   "source": [
    "<font size=\"4\" style=\"color:red;\"> **IMPORTANT: ** When submitting this homework notebook, please modify only the cells that start with:</font>\n",
    "\n",
    "```python\n",
    "# modify this cell\n",
    "```"
   ]
  },
  {
   "cell_type": "code",
   "execution_count": 1,
   "metadata": {},
   "outputs": [
    {
     "name": "stdout",
     "output_type": "stream",
     "text": [
      "Populating the interactive namespace from numpy and matplotlib\n"
     ]
    }
   ],
   "source": [
    "%pylab inline\n",
    "import numpy as np\n",
    "from compStat import ComputeStatistics\n",
    "from scipy import stats"
   ]
  },
  {
   "cell_type": "markdown",
   "metadata": {},
   "source": [
    "## Dealing for Float Variables"
   ]
  },
  {
   "cell_type": "markdown",
   "metadata": {},
   "source": [
    "This is helpful fact that <font color=\"red\">you will need</font>. When checking to see if two floating point numbers are equal, one has to consider that a computer has roundoff error. For instance, consider the example below"
   ]
  },
  {
   "cell_type": "code",
   "execution_count": 2,
   "metadata": {},
   "outputs": [
    {
     "name": "stdout",
     "output_type": "stream",
     "text": [
      "False\n",
      "These aren't equal because according to python .4*.4 is\n"
     ]
    },
    {
     "data": {
      "text/plain": [
       "0.16000000000000003"
      ]
     },
     "execution_count": 2,
     "metadata": {},
     "output_type": "execute_result"
    }
   ],
   "source": [
    "print .4 *.4 == .16\n",
    "print \"These aren't equal because according to python .4*.4 is\"\n",
    ".4*.4"
   ]
  },
  {
   "cell_type": "markdown",
   "metadata": {
    "collapsed": true
   },
   "source": [
    "To get around this you must check wether the absolute distance is less than some really small number"
   ]
  },
  {
   "cell_type": "code",
   "execution_count": 3,
   "metadata": {},
   "outputs": [
    {
     "data": {
      "text/plain": [
       "True"
      ]
     },
     "execution_count": 3,
     "metadata": {},
     "output_type": "execute_result"
    }
   ],
   "source": [
    "# correct way to see if,  .4 *.4 == .16\n",
    "abs(.4 *.4 - .16) < 10**-7"
   ]
  },
  {
   "cell_type": "markdown",
   "metadata": {},
   "source": [
    "# Exercise 1"
   ]
  },
  {
   "cell_type": "markdown",
   "metadata": {},
   "source": [
    "Write a function, **is_independent** that takes in a joint distribution as an `np.array` and determines whether or not the two random variables are independent. **is_independent** should return a boolean variable.\n",
    "\n"
   ]
  },
  {
   "cell_type": "markdown",
   "metadata": {},
   "source": [
    "<font  style=\"color:blue\"> **Code:**</font>\n",
    "```python\n",
    "p_joint = array([[ 0.1,  0.2],\n",
    "                 [ 0.3,  0.4]])\n",
    "print is_independent(p_joint)\n",
    "\n",
    "p_joint = array([[ 0.125 ,  0.0625,  0.0625],\n",
    "                 [ 0.375 ,  0.1875,  0.1875]])\n",
    "print is_independent(p_joint)       \n",
    "```\n",
    "\n",
    "\n",
    "<font  style=\"color:magenta\"> **Output**</font>\n",
    "```\n",
    "False\n",
    "True\n",
    "```"
   ]
  },
  {
   "cell_type": "code",
   "execution_count": 4,
   "metadata": {
    "collapsed": true
   },
   "outputs": [],
   "source": [
    "# modify this cell\n",
    "\n",
    "def is_independent(p_joint):\n",
    "    # inputs: an np.array that represent the joint distribution of 2 random variables\n",
    "    # output: a boolean, True if independent, False otherwise\n",
    "    \n",
    "    ### BEGIN SOLUTION\n",
    "    pX = np.sum(p_joint, axis=0)\n",
    "    pY = np.sum(p_joint, axis=1)\n",
    "    return all(abs(np.outer(pY,pX) - p_joint) < 10**-7)\n",
    "    ### END SOLUTION"
   ]
  },
  {
   "cell_type": "code",
   "execution_count": 5,
   "metadata": {
    "collapsed": true
   },
   "outputs": [],
   "source": [
    "# Check Function\n",
    "p_joint = array([[ 0.16,  0.12,  0.12],\n",
    "                 [ 0.24,  0.18,  0.18]])\n",
    "assert( is_independent(p_joint) == True )\n",
    "\n",
    "p_joint = array([[ 0.15, 0.2,  0.15],\n",
    "                 [ 0.,   0.3,  0.2]])\n",
    "assert( is_independent(p_joint) == False )\n",
    "\n",
    "\n",
    "\n",
    "### BEGIN HIDDEN TESTS\n",
    "p_joint = array([[ 0.06,  0.06,  0.08],\n",
    "                 [ 0.24,  0.24,  0.32]])\n",
    "assert( is_independent(p_joint) == True )\n",
    "### END HIDDEN TESTS"
   ]
  },
  {
   "cell_type": "markdown",
   "metadata": {},
   "source": [
    "# Exercise 2"
   ]
  },
  {
   "cell_type": "markdown",
   "metadata": {},
   "source": [
    "For a given dataset of IID samples from 2 random variables, $X=\\{-1,\\ 1\\}$, $Y=\\{-1,\\ 1\\}$ . Lets us say that the dataset is independent if for the emperical values of $P(X=i)$, $P(Y=j)$, and $P(X=i \\ , \\ Y=j)$ we have:\n",
    "\n",
    "$$\\begin{vmatrix} P(X=i)P(Y=j)-P(X=i \\ , \\ Y=j) \\end{vmatrix} < 0.01 \\ \\  \\forall \\ i , j$$"
   ]
  },
  {
   "cell_type": "markdown",
   "metadata": {
    "collapsed": true
   },
   "source": [
    "Let *data* be an `np.array` of IID values sampled from some $X$ and $Y$. Write a function **is_independent_data** that determines whether or not the two random variables are independent, it should return a boolean variable."
   ]
  },
  {
   "cell_type": "markdown",
   "metadata": {},
   "source": [
    "<font  style=\"color:blue\"> **Code:**</font>\n",
    "```python\n",
    "print \"We load data consisting of 300 points from 2 independent variables:\"\n",
    "data= numpy.loadtxt(\"data/data1.csv\", delimiter=',',dtype=int)\n",
    "print data[3:9]\n",
    "print; print \"Is the dataset independent? :\",is_independent_data(data)\n",
    "print \"Is a small piece of the data independent? :\",is_independent_data(data[:50])\n",
    "```\n",
    "\n",
    "\n",
    "<font  style=\"color:magenta\"> **Output**</font>\n",
    "```\n",
    "We load data consisting of 300 points from 2 independent variables:\n",
    "[[1 0]\n",
    " [1 1]\n",
    " [1 1]\n",
    " [0 1]\n",
    " [0 1]\n",
    " [0 0]]\n",
    "\n",
    "Is the dataset independent? : True\n",
    "Is a small piece of the data independent? : False\n",
    "```"
   ]
  },
  {
   "cell_type": "code",
   "execution_count": 6,
   "metadata": {
    "collapsed": true
   },
   "outputs": [],
   "source": [
    "# modify this cell\n",
    "\n",
    "def is_independent_data(data):\n",
    "    # inputs: an np.array that represent the joint distribution of 2 random variables\n",
    "    # output: a boolean, True if independent, False otherwise\n",
    "    \n",
    "    ### BEGIN SOLUTION\n",
    "    P = array([[0.,0.],[0.,0.]])\n",
    "    for i in data:\n",
    "        P[i[0],i[1]] += 1\n",
    "    P /= sum(P)\n",
    "\n",
    "    pX = np.sum(P, axis=0)\n",
    "    pY = np.sum(P, axis=1)\n",
    "    return all( abs(np.outer(pY,pX) - P) < 0.01 )\n",
    "\n",
    "    ## Data Used\n",
    "    #p_joint = array([[ 0.08,  0.12],[ 0.32,  0.48]])\n",
    "    #xy =  np.array([(i,j) for i in [0,1] for j in [0,1]])\n",
    "    #random.seed(3)\n",
    "    #I= random.choice(xy.shape[0], 300, True, p_joint.T.flatten())\n",
    "    #data = xy[I]  \n",
    "    #numpy.savetxt(\"data/data1.csv\", data, delimiter=\",\", fmt='%i')\n",
    "    \n",
    "    #p_joint = array([[ 0.12,  0.28],[ 0.18,  0.42]])\n",
    "    #random.seed(3)\n",
    "    #I= random.choice(xy.shape[0], 300, True, p_joint.T.flatten())\n",
    "    #data = xy[I]  \n",
    "    #numpy.savetxt(\"data/data2.csv\", data, delimiter=\",\", fmt='%i')\n",
    "   \n",
    "    #p_joint = array([[ 0.14,  0.26],[ 0.21,  0.39]])\n",
    "    #xy =  np.array([(i,j) for i in [0,1] for j in [0,1]])\n",
    "    #random.seed(3)\n",
    "    #I= random.choice(xy.shape[0], 300, True, p_joint.T.flatten())\n",
    "    #data = xy[I]  \n",
    "    #numpy.savetxt(\"data/data3.csv\", data, delimiter=\",\", fmt='%i')\n",
    "\n",
    "    ### END SOLUTION"
   ]
  },
  {
   "cell_type": "code",
   "execution_count": 7,
   "metadata": {
    "collapsed": true
   },
   "outputs": [],
   "source": [
    "# Check Function\n",
    "\n",
    "# This dataset also comes from a distribution that is actually independent\n",
    "data= numpy.loadtxt(\"data/data2.csv\", delimiter=',',dtype=int)\n",
    "assert( is_independent_data(data) == True )\n",
    "assert( is_independent_data(data[:50]) == False )\n",
    "\n",
    "\n",
    "### BEGIN HIDDEN TESTS\n",
    "data= numpy.loadtxt(\"data/data3.csv\", delimiter=',',dtype=int)\n",
    "assert( is_independent_data(data) == True )\n",
    "assert( is_independent_data(data[:50]) == False )\n",
    "### END HIDDEN TESTS"
   ]
  },
  {
   "cell_type": "markdown",
   "metadata": {},
   "source": [
    "# Exercise 3"
   ]
  },
  {
   "cell_type": "markdown",
   "metadata": {},
   "source": [
    "Write a function called **around_zero** that takes a dataset and determines if it is mostly between $-1$ and $1$. The data will be a `np.array` of real numbers. We define <font color=\"gray\">\"mostly between\"</font> as follows:\n",
    "\n",
    "$$-1 \\ < \\ E(\\text{data}) - 6\\cdot SD(\\text{data}) \\ < \\ E(\\text{data}) + 6\\cdot SD(\\text{data}) \\  < \\ 1 $$\n",
    "\n"
   ]
  },
  {
   "cell_type": "markdown",
   "metadata": {},
   "source": [
    "<font  style=\"color:blue\"> **Code:**</font>\n",
    "```python\n",
    "data = numpy.loadtxt(\"data/data5.csv\")\n",
    "print stats.describe(data)\n",
    "print \"Is around zero? :\", around_zero(data)\n",
    "\n",
    "data = numpy.loadtxt(\"data/data6.csv\")\n",
    "print;print stats.describe(data)\n",
    "print \"Is around zero? :\",around_zero(data)\n",
    "```\n",
    "\n",
    "\n",
    "<font  style=\"color:magenta\"> **Output**</font>\n",
    "```\n",
    "DescribeResult(nobs=300, minmax=(-0.29157377517927124, 0.28118783750058735), mean=0.0048460958246751944, variance=0.010486796083636146, skewness=0.08982927968775126, kurtosis=-0.04888399087147377)\n",
    "Is around zero? : True\n",
    "\n",
    "DescribeResult(nobs=300, minmax=(-0.87472132553781357, 0.84356351250176209), mean=0.01453828747402558, variance=0.094381164752725302, skewness=0.08982927968775116, kurtosis=-0.04888399087147288)\n",
    "Is around zero? : False\n",
    "```"
   ]
  },
  {
   "cell_type": "code",
   "execution_count": 8,
   "metadata": {
    "collapsed": true
   },
   "outputs": [],
   "source": [
    "# modify this cell\n",
    "\n",
    "def around_zero(data):\n",
    "    # inputs: an np.array datapoints from a single random variable\n",
    "    # output: a boolean, True if data is \"mostly around 0\", False otherwise\n",
    "    \n",
    "    \n",
    "    ### BEGIN HIDDEN TESTS    \n",
    "    \n",
    "    if mean(data)- 6*sqrt(var(data))>-1 and mean(data)+ 6*sqrt(var(data))<1:\n",
    "        return True\n",
    "    else:\n",
    "        return False\n",
    "    \n",
    "    ## Data Used\n",
    "    #random.seed(3)\n",
    "    #data = random.normal(.5,.3,300) \n",
    "    #numpy.savetxt(\"data/data7.csv\", data, delimiter=\",\")\n",
    "\n",
    "    #random.seed(3)\n",
    "    #data= random.normal(.3,.1,300)\n",
    "    #data = numpy.savetxt(\"data/data8.csv\", data, delimiter=\",\")\n",
    "\n",
    "    #random.seed(3)\n",
    "    #data = random.normal(-.3,.1,300) \n",
    "    #numpy.savetxt(\"data/data9.csv\", data, delimiter=\",\")\n",
    "    \n",
    "    ### END HIDDEN TESTS"
   ]
  },
  {
   "cell_type": "code",
   "execution_count": 9,
   "metadata": {},
   "outputs": [],
   "source": [
    "# Check Function\n",
    "\n",
    "data = numpy.loadtxt(\"data/data7.csv\")\n",
    "assert( around_zero(data) == False )\n",
    "\n",
    "data = numpy.loadtxt(\"data/data8.csv\")\n",
    "assert( around_zero(data) == True )\n",
    "\n",
    "### BEGIN HIDDEN TESTS\n",
    "data = numpy.loadtxt(\"data/data9.csv\")\n",
    "assert( around_zero(data) == True )\n",
    "### END HIDDEN TESTS"
   ]
  },
  {
   "cell_type": "code",
   "execution_count": null,
   "metadata": {
    "collapsed": true
   },
   "outputs": [],
   "source": [
    "\n",
    "\n",
    "\n",
    "\n",
    "\n",
    "\n",
    "\n",
    "\n",
    "\n",
    "\n",
    "\n",
    "\n",
    "\n",
    "\n",
    "\n",
    "\n"
   ]
  }
 ],
 "metadata": {
  "kernelspec": {
   "display_name": "Python 2",
   "language": "python",
   "name": "python2"
  },
  "language_info": {
   "codemirror_mode": {
    "name": "ipython",
    "version": 2
   },
   "file_extension": ".py",
   "mimetype": "text/x-python",
   "name": "python",
   "nbconvert_exporter": "python",
   "pygments_lexer": "ipython2",
   "version": "2.7.13"
  },
  "toc": {
   "colors": {
    "hover_highlight": "#DAA520",
    "navigate_num": "#000000",
    "navigate_text": "#333333",
    "running_highlight": "#FF0000",
    "selected_highlight": "#FFD700",
    "sidebar_border": "#EEEEEE",
    "wrapper_background": "#FFFFFF"
   },
   "moveMenuLeft": true,
   "nav_menu": {
    "height": "12px",
    "width": "252px"
   },
   "navigate_menu": true,
   "number_sections": true,
   "sideBar": true,
   "threshold": 4,
   "toc_cell": false,
   "toc_section_display": "block",
   "toc_window_display": false,
   "widenNotebook": false
  }
 },
 "nbformat": 4,
 "nbformat_minor": 2
}
