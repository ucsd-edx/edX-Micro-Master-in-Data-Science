{
 "cells": [
  {
   "cell_type": "markdown",
   "metadata": {},
   "source": [
    "\n",
    "<font size=\"4\" style=\"color:red;\"> **IMPORTANT: ** When submitting this notebook as homework, make sure you Only modify cells which have the following comment</font>\n",
    "\n",
    "```python\n",
    "# modify this cell\n",
    "```\n",
    "\n",
    "<font style=\"color:red;\"> Do not add any new cells when submitting homework. To test out new code, use the coding **scratchpad** by clicking the triangular icon in the bottom right corner of the screen. (**hotkey:** control-B)  </font>\n"
   ]
  },
  {
   "cell_type": "code",
   "execution_count": 5,
   "metadata": {},
   "outputs": [
    {
     "name": "stdout",
     "output_type": "stream",
     "text": [
      "Populating the interactive namespace from numpy and matplotlib\n"
     ]
    },
    {
     "name": "stderr",
     "output_type": "stream",
     "text": [
      "/root/anaconda/lib/python2.7/site-packages/IPython/core/magics/pylab.py:161: UserWarning: pylab import has clobbered these variables: ['cos', 'sqrt', 'sin']\n",
      "`%matplotlib` prevents importing * from pylab and numpy\n",
      "  \"\\n`%matplotlib` prevents importing * from pylab and numpy\"\n"
     ]
    }
   ],
   "source": [
    "%pylab inline\n",
    "from scipy import *\n",
    "from numpy.linalg import norm\n",
    "from math import sqrt,sin,cos\n",
    "import pandas as pd\n",
    "import numpy as np\n",
    "from numpy import arange,array,ones,linalg"
   ]
  },
  {
   "cell_type": "markdown",
   "metadata": {},
   "source": [
    "# Regression"
   ]
  },
  {
   "cell_type": "markdown",
   "metadata": {},
   "source": [
    "[Read this notebook](http://70.95.166.175:8888/notebooks/SAFETY/probability-and-statistics-using-python/notebooks/Week%209-%20RegressionPCA/4.Regression%20I.ipynb) \n",
    "before attempting exercises in this section."
   ]
  },
  {
   "cell_type": "markdown",
   "metadata": {},
   "source": [
    "It is now your turn to try out all of the above code. For this exercise you will measure the relationship between hours studyig and student grades for a simulated (*fake*) dataset. Below is a scatter plot of the data."
   ]
  },
  {
   "cell_type": "code",
   "execution_count": 6,
   "metadata": {},
   "outputs": [
    {
     "name": "stdout",
     "output_type": "stream",
     "text": [
      "(1000, 2)\n"
     ]
    },
    {
     "data": {
      "image/png": "[encoded data removed]",
      "text/plain": [
       "<matplotlib.figure.Figure at 0x7fa730696050>"
      ]
     },
     "metadata": {},
     "output_type": "display_data"
    }
   ],
   "source": [
    "data = pd.read_csv('../data/hw/hw_regression_data.csv')\n",
    "print data.shape\n",
    "data.head()\n",
    "\n",
    "ax= data.plot(kind='scatter',s=1.4,x=\"study_hours\",y=\"grades\",figsize=[10,8]);"
   ]
  },
  {
   "cell_type": "markdown",
   "metadata": {},
   "source": [
    "## Exercise 1: Get Averages\n",
    "\n",
    "Write a function, **get_averages**, that:\n",
    "1. For all data points round the student's study hours to the nearest whole number.\n",
    "2. Compute the mean grade for each rounded whole number of study hours.\n",
    "\n",
    "The function should return a pandas dataframe of the mean grades for each existing rounded whole number. The beginning of the panda dataframe is provided for you below:\n",
    "\n",
    "<font  style=\"color:blue\"> * **Code:** *</font>\n",
    "```python\n",
    "grade_means = get_averages(data)\n",
    "\n",
    "print type( grade_means )\n",
    "print grade_means.shape\n",
    "print grade_means.columns \n",
    "grade_means.head()\n",
    "```\n",
    "\n",
    "<font  style=\"color:magenta\"> * **Output:** *</font>\n",
    "```\n",
    "<class 'pandas.core.frame.DataFrame'>\n",
    "(38, 1)\n",
    "Index([u'grades'], dtype='object')\n",
    "```\n",
    "<img src=\"../data/hw/reg_ex_table.png\"  style=\"width: 190px;\"/>"
   ]
  },
  {
   "cell_type": "code",
   "execution_count": null,
   "metadata": {
    "collapsed": true
   },
   "outputs": [],
   "source": [
    "# modify this cell\n",
    "\n",
    "def get_averages(data):\n",
    "    # input: the HW's dataset\n",
    "    # output: a pandas dataframe yielding the mean grade for each rounded number of study hours\n",
    "    \n",
    "    ### BEGIN SOLUTION\n",
    "    data['round_study_hours']=data['study_hours'].round()\n",
    "    return data.groupby('round_study_hours').mean()[['grades']]\n",
    "    ### END SOLUTION"
   ]
  },
  {
   "cell_type": "code",
   "execution_count": null,
   "metadata": {
    "collapsed": true
   },
   "outputs": [],
   "source": [
    "# check student function\n",
    "grade_means = get_averages(data)\n",
    "\n",
    "assert grade_means.shape == (38, 1)\n",
    "assert str(type(grade_means)) == \"<class 'pandas.core.frame.DataFrame'>\"\n",
    "\n",
    "try: assert grade_means.columns[0] == \"grades\"\n",
    "except: raise ValueError('the column in \"grade_means\" must be named grades')\n",
    "\n",
    "try: assert sum(abs( grade_means.tail()[\"grades\"].values - \\\n",
    "               np.array([ 90.77739,90.02272,92.97258,91.87963,93.48365])    )) < 10**-4\n",
    "except: raise ValueError('some values are incorrect in grade_means')\n",
    " \n",
    "\n",
    "# plot Graph\n",
    "ax= data.plot(kind='scatter',s=1.4,x=\"study_hours\",y=\"grades\",figsize=[10,8]);\n",
    "grade_means.plot(y='grades',style='ro', ax=ax,legend=False)\n",
    "_xlim = xlim()\n",
    "_ylim =ylim()\n",
    "for _x in arange(_xlim[0]+0.5,_xlim[1],1):\n",
    "    plot([_x,_x],[_ylim[0],_ylim[1]],'g')\n",
    "\n",
    "### BEGIN HIDDEN TESTS\n",
    "assert sum(abs( grade_means[\"grades\"][20:30].values - \\\n",
    "        array([64.74628137,65.6715546,65.25890137,68.44169892,67.90134068,70.61057739,69.79446048,  \\\n",
    "               71.09018443,71.72610072,72.67667563,72.63601539])   )) < 5*10**-4\n",
    "### BEGIN HIDDEN TESTS"
   ]
  },
  {
   "cell_type": "markdown",
   "metadata": {},
   "source": [
    "## Exercise 2: Simple Linear Regression\n",
    "\n",
    "Write a function, **do_regression**, that performs linear regression to return \n",
    "$ \\;\n",
    " {\\bf w} = \\begin{pmatrix}\n",
    " w_0\\\\\n",
    " w_1\n",
    " \\end{pmatrix}\n",
    "$\n",
    "for the equation:\n",
    "\n",
    "$$\n",
    "\\text{grades}= w_0 + w_1 \\cdot \\text{study_hours}\n",
    "$$\n",
    "\n",
    "\n",
    "<font  style=\"color:blue\"> * **Code:** *</font>\n",
    "```python\n",
    "w = do_regression(data)\n",
    "print type(w)\n",
    "print w.shape\n",
    "```\n",
    "\n",
    "<font  style=\"color:magenta\"> * **Output:** *</font>\n",
    "```\n",
    "<type 'numpy.ndarray'>\n",
    "(2,)\n",
    "```"
   ]
  },
  {
   "cell_type": "code",
   "execution_count": null,
   "metadata": {
    "collapsed": true
   },
   "outputs": [],
   "source": [
    "# modify this cell\n",
    "\n",
    "def do_regression(data):\n",
    "    # input: the HW's dataset\n",
    "    # output: a numpy array yielding w=(w0,w1) from linear regression\n",
    "    \n",
    "    ### BEGIN SOLUTION\n",
    "    A=np.array(data['study_hours'])\n",
    "    A=np.array([ones(len(A)),A])\n",
    "    y=np.array(data['grades'])\n",
    "    return linalg.lstsq(A.T,y)[0]\n",
    "    ### END SOLUTION"
   ]
  },
  {
   "cell_type": "code",
   "execution_count": null,
   "metadata": {
    "collapsed": true
   },
   "outputs": [],
   "source": [
    "# check student function\n",
    "w1_hw = do_regression(data)\n",
    "assert str(type(w1_hw)) ==  \"<type 'numpy.ndarray'>\"\n",
    "assert w1_hw.shape == (2,)\n",
    "assert abs(w1_hw[0] - 48.0694704904) < 10**-5\n",
    "\n",
    "# plot Means\n",
    "ax= data.plot(kind='scatter',s=1.4,x=\"study_hours\",y=\"grades\",figsize=[10,8]);\n",
    "x0,x1=xlim()\n",
    "ax.plot([x0,x1],[f(x0,w1_hw),f(x1,w1_hw)],'k');\n",
    "\n",
    "### BEGIN HIDDEN TESTS\n",
    "abs(w1_hw[1] - 0.840093766443) < 10**-5\n",
    "### BEGIN HIDDEN TESTS"
   ]
  },
  {
   "cell_type": "markdown",
   "metadata": {},
   "source": [
    "## Exercise 3: Reversed Regression\n",
    "\n",
    "Write a function, **reverse_regression**, that again performs linear regression to return \n",
    "$ \\;\n",
    " {\\bf w} = \\begin{pmatrix}\n",
    " w_0\\\\\n",
    " w_1\n",
    " \\end{pmatrix}\n",
    "$\n",
    "but this time for:\n",
    "\n",
    "$$\n",
    "\\text{study_hours}= w_0 + w_1 \\cdot \\text{grades}\n",
    "$$\n",
    "\n",
    "\n",
    "<font  style=\"color:blue\"> * **Code:** *</font>\n",
    "```python\n",
    "w = reverse_regression(data)\n",
    "print type(w)\n",
    "print w.shape\n",
    "```\n",
    "\n",
    "<font  style=\"color:magenta\"> * **Output:** *</font>\n",
    "```\n",
    "<type 'numpy.ndarray'>\n",
    "(2,)\n",
    "```"
   ]
  },
  {
   "cell_type": "code",
   "execution_count": null,
   "metadata": {
    "collapsed": true
   },
   "outputs": [],
   "source": [
    "# modify this cell\n",
    "\n",
    "def reverse_regression(data):\n",
    "    # input: the HW's dataset\n",
    "    # output: a numpy array yielding w=(w0,w1) for the reversed linear regression\n",
    "    \n",
    "    ### BEGIN SOLUTION\n",
    "    A=np.array(data['grades'])\n",
    "    A=np.array([ones(len(A)),A])\n",
    "    y=np.array(data['study_hours'])\n",
    "    return linalg.lstsq(A.T,y)[0] \n",
    "    ### END SOLUTION"
   ]
  },
  {
   "cell_type": "code",
   "execution_count": null,
   "metadata": {
    "collapsed": true
   },
   "outputs": [],
   "source": [
    "# check answer\n",
    "w2_hw = reverse_regression(data)\n",
    "assert str(type(w2_hw)) ==  \"<type 'numpy.ndarray'>\"\n",
    "assert w2_hw.shape == (2,)\n",
    "assert abs(w2_hw[0] - -31.85141332) < 10**-5\n",
    "\n",
    "# plot graph\n",
    "ax= data.plot(kind='scatter',s=1.4,x=\"study_hours\",y=\"grades\",figsize=[10,8]);\n",
    "x0,x1=xlim()\n",
    "ax.plot([x0,x1],[f(x0,w1_hw),f(x1,w1_hw)],'k');\n",
    "y0,y1=ylim()\n",
    "ax.plot([f(y0,w2_hw),f(y1,w2_hw)],[y0,y1],'r');\n",
    "\n",
    "### BEGIN HIDDEN TESTS\n",
    "abs(w2_hw[1] - 0.86337634) < 10**-5\n",
    "### END HIDDEN TESTS"
   ]
  },
  {
   "cell_type": "markdown",
   "metadata": {},
   "source": [
    "# Regression to the Mean"
   ]
  },
  {
   "cell_type": "markdown",
   "metadata": {},
   "source": [
    "[Read this notebook](http://70.95.166.175:8888/notebooks/SAFETY/probability-and-statistics-using-python/notebooks/Week%209-%20RegressionPCA/4.Regression%20I.ipynb) \n",
    "before attempting exercises in this section."
   ]
  },
  {
   "cell_type": "markdown",
   "metadata": {},
   "source": [
    "## Excercises\n",
    "\n",
    "It is now your turn to do regression on a dataset. Consider $1000$ datapoints with random variables $x$ and $y$ both sampled from a normal (gaussian) distribution:\n",
    "$$ x,y \\text{ ~ } \\mathcal{N}(0,1)  $$\n",
    "\n",
    "Notice that the graph below looks like a blob, with no clear relationship between  $x$ and $y$. This leads intuitively to the idea that $x$ and $y$ are independent from each other. In this particualr case (not always true) this intuition is correct, $x$ and $y$ are mathematically independent variables.\n",
    "\n",
    "If we were to try to perform linear regression on this data (the <font style=\"color:red\">red line</font>), we would find rather boring results:\n",
    "$$ y = 0 + 0 \\cdot x = 0 $$\n",
    "\n",
    "This is due to the fact that $y$ has mean 0 and is independent of $x$. What do you think would happen if we did:\n",
    "$$ y-x = w_0 + w_1 \\cdot x $$\n",
    "\n",
    "Is $y$ independent of $x$? Will the graph look like a blob? Will $y-x = 0 ?$ Lets find out!"
   ]
  },
  {
   "cell_type": "code",
   "execution_count": 9,
   "metadata": {},
   "outputs": [
    {
     "data": {
      "image/png": "[encoded data removed]",
      "text/plain": [
       "<matplotlib.figure.Figure at 0x7fa72df544d0>"
      ]
     },
     "metadata": {},
     "output_type": "display_data"
    }
   ],
   "source": [
    "HW=pd.read_csv('../data/hw/gauss_R2.csv')\n",
    "\n",
    "ax= HW.plot(kind='scatter',s=1.4,x=\"x\",y=\"y\");\n",
    "x0,x1=xlim()\n",
    "ax.plot([x0,x1],[0,0],'r');"
   ]
  },
  {
   "cell_type": "markdown",
   "metadata": {},
   "source": [
    "## Exercise 1: Put $\\;y-x\\;$ in Dataframe\n",
    "\n",
    "This first exercise's goal is to familarize you with the [pandas](http://pandas.pydata.org/pandas-docs/version/0.15.2/tutorials.html) package.\n",
    "\n",
    "Your task is to make a new column on the pandas dataframe `HW` where each element of the new column is equal to $y-x$. Write a function **y_minus_x** that will create the new column, make sure the column's name is \"y-x\" . Notice that the function DOES NOT return any output, this is because the `HW` dataframe will be edited \"in-place\".\n",
    "\n",
    "<font  style=\"color:blue\"> * **Code:** *</font>\n",
    "```python\n",
    "print y_minus_x(HW)\n",
    "print HW.shape\n",
    "print HW.columns\n",
    "HW.head()\n",
    "```\n",
    "\n",
    "<font  style=\"color:magenta\"> * **Output:** *</font>\n",
    "```\n",
    "None\n",
    "(1000, 3)\n",
    "Index([u'x', u'y', u'y-x'], dtype='object')\n",
    "```\n",
    "<img src=\"../data/hw/reg_mean_pic.png\"  style=\"width: 220px;\"/>"
   ]
  },
  {
   "cell_type": "code",
   "execution_count": null,
   "metadata": {
    "collapsed": true
   },
   "outputs": [],
   "source": [
    "def y_minus_x(HW):\n",
    "    # input: the HW's dataset\n",
    "    # output: there is NO OUTPUT\n",
    "    \n",
    "    ### BEGIN SOLUTION\n",
    "    HW[\"y-x\"] = HW[\"y\"] - HW[\"x\"]\n",
    "    ### END SOLUTION"
   ]
  },
  {
   "cell_type": "code",
   "execution_count": null,
   "metadata": {
    "collapsed": true
   },
   "outputs": [],
   "source": [
    "# Check Answer\n",
    "HW=pd.read_csv('../data/hw/gauss_R2.csv')\n",
    "assert y_minus_x(HW) == None \n",
    "assert HW.shape == (1000, 3)\n",
    "assert all( HW.columns.values == array(['x', 'y', 'y-x']) )\n",
    "assert sum(abs( array(HW[\"y-x\"])[0:10] - \\\n",
    "               array([0.36236278,-2.37726552,-0.36501525,0.05449746,-0.27705517,1.80807383,-2.07001209,\n",
    "                      -0.67536514,0.67519959,  0.97277652])   )) < 10**-5\n",
    "\n",
    "# Create Graph\n",
    "ax= HW.plot(kind='scatter',s=1.4,x=\"x\",y=\"y-x\",figsize=[10,8]);\n",
    "\n",
    "### BEGIN HIDDEN TESTS\n",
    "assert sum(abs( array(HW[\"y-x\"])[60:70] - \\\n",
    "                array([-1.46231473, -0.35256032,  0.50213927, -2.98962366, -1.98911633,\n",
    "                       1.19767907, -0.2104474 ,  1.71587283,  1.50967089, -0.37887511])    )) < 10**-5\n",
    "### END HIDDEN TESTS"
   ]
  },
  {
   "cell_type": "markdown",
   "metadata": {},
   "source": [
    "Notice in the graph that there is a clear negative relationship between $y-x$ and $x$. As you might have guessed, $y-x$ and $x$ are NOT independent. \n",
    "\n",
    "We can use linear regression to find the relationship between $y-x$ and $x$ but before we do that, we can derive this mathematicaly. Remember from before, we showed:\n",
    "$$ y = 0 + 0 \\cdot x $$\n",
    "\n",
    "Now, we're doing linear regression to find:\n",
    "$$ \\;\\;\\;\\;\\;\\;y-x = w_0 + w_1 \\cdot x $$\n",
    "$$ \\iff y = w_0 + (1+w_1) \\cdot x $$\n",
    "\n",
    "Comparing the two eqations for $y$, you can deduce that $w_0=0$ and $w_1=-1$ . Now lets see how close our sampled data is to the true equation for the distribution!\n",
    "\n",
    "$\\;$\n",
    "<font style=\"color:red\">*Technical Note:*</font> The derivation is mathematically sound only because $y-x$ is also a gaussian random variable. The sum of two gaussians is a gaussian. Under the laws of linear regression this ensures both the regressors of $y$ and $y-x$ have zero expected error."
   ]
  },
  {
   "cell_type": "markdown",
   "metadata": {},
   "source": [
    "## Exercise 2: Simple Linear Regression\n",
    "\n",
    "Write a function, **do_regression**, that performs linear regression to return \n",
    "$ \\;\n",
    " {\\bf w} = \\begin{pmatrix}\n",
    " w_0\\\\\n",
    " w_1\n",
    " \\end{pmatrix}\n",
    "$\n",
    "for the equation:\n",
    "\n",
    "$$\n",
    "\\text{y-x}= w_0 + w_1 \\cdot \\text{x}\n",
    "$$\n",
    "\n",
    "\n",
    "<font  style=\"color:blue\"> * **Code:** *</font>\n",
    "```python\n",
    "w = do_regression(HW)\n",
    "print type(w)\n",
    "print w.shape\n",
    "```\n",
    "\n",
    "<font  style=\"color:magenta\"> * **Output:** *</font>\n",
    "```\n",
    "<type 'numpy.ndarray'>\n",
    "(2,)\n",
    "```"
   ]
  },
  {
   "cell_type": "code",
   "execution_count": null,
   "metadata": {
    "collapsed": true
   },
   "outputs": [],
   "source": [
    "# modify this cell\n",
    "\n",
    "def do_regression(HW):\n",
    "    # input: the HW's dataset\n",
    "    # output: a numpy array yielding w=(w0,w1) from linear regression\n",
    "    \n",
    "    ### BEGIN SOLUTION\n",
    "    A= array(HW['x'])\n",
    "    A= array([ones(len(A)),A])\n",
    "    y= array(HW['y-x'])\n",
    "    return linalg.lstsq(A.T,y)[0]\n",
    "    ### END SOLUTION"
   ]
  },
  {
   "cell_type": "code",
   "execution_count": null,
   "metadata": {
    "collapsed": true
   },
   "outputs": [],
   "source": [
    "# Check Answer\n",
    "w_hw = do_regression(HW)\n",
    "assert str(type(w_hw)) == \"<type 'numpy.ndarray'>\"\n",
    "assert w_hw.shape == (2,)\n",
    "assert sum(abs(w_hw[0] - 0.02173387)) < 10**-5\n",
    "\n",
    "# Plot Graph\n",
    "print \"LINEAR REGRESSION EQUATION:\"\n",
    "print \"y-x = {:.2f} + {:.2f} x\".format(w_hw[0],w_hw[1])\n",
    "ax= HW.plot(kind='scatter',s=1.4,x=\"x\",y=\"y-x\",figsize=[10,8]);\n",
    "x0,x1=xlim()\n",
    "ax.plot([x0,x1],[f(x0,w_hw),f(x1,w_hw)],'k');\n",
    "\n",
    "### BEGIN HIDDEN TESTS\n",
    "assert sum(abs(w_hw[1] - -1.01071279)) < 10**-5\n",
    "### END HIDDEN TESTS"
   ]
  },
  {
   "cell_type": "code",
   "execution_count": null,
   "metadata": {
    "collapsed": true
   },
   "outputs": [],
   "source": []
  },
  {
   "cell_type": "markdown",
   "metadata": {},
   "source": [
    "# Polynomial regression"
   ]
  },
  {
   "cell_type": "markdown",
   "metadata": {},
   "source": [
    "[Read this notebook](http://70.95.166.175:8888/notebooks/SAFETY/probability-and-statistics-using-python/notebooks/Week%209-%20RegressionPCA/4.Regression%20I.ipynb) \n",
    "before attempting exercises in this section."
   ]
  },
  {
   "cell_type": "markdown",
   "metadata": {},
   "source": [
    "## Excercises\n",
    "\n",
    "So far we have discussed polynomials in a **single** variable. Polynomials can be defined over several variables\n",
    "\n",
    "Write a function that takes as input a two lists of $(x,y,z)$ points, a training set and a test set. The $x$ and $y$ values are drawn uniformly at random from the range $[0,100]$, The $z$ values are generated according to the distribution $y=g(x)+w$ where $g$ is a polynomial function whose degree is at most 10 and $w$ is independent gaussian noise.\n",
    "\n",
    "The function should find the best fit polynomials of degrees 0 to 10 and compute for each degree the training RMS error and the test RMS error.\n",
    "\n",
    "The function should return the polynomial which gives the best fit on the test set. For that polynomial it should return:\n",
    "1. $d$ - The degree of the polinomial.\n",
    "2. A vector of length $d+1$ corresponding to the coefficients $w_i$ of the polynomial, expressed as: $ \\sum_{i=0}^d w_i x^i$\n",
    "3. The RMS error on the training set.\n",
    "4. The RMS error of the test set."
   ]
  },
  {
   "cell_type": "code",
   "execution_count": null,
   "metadata": {
    "collapsed": true
   },
   "outputs": [],
   "source": [
    "def fit_poly(train,test):\n",
    "    \"\"\" take as input a training set and a test set and output the \n",
    "    polynomial that is the best fit.\"\"\"\n",
    "    "
   ]
  },
  {
   "cell_type": "code",
   "execution_count": null,
   "metadata": {
    "collapsed": true
   },
   "outputs": [],
   "source": []
  },
  {
   "cell_type": "code",
   "execution_count": null,
   "metadata": {
    "collapsed": true
   },
   "outputs": [],
   "source": []
  },
  {
   "cell_type": "code",
   "execution_count": null,
   "metadata": {
    "collapsed": true
   },
   "outputs": [],
   "source": []
  },
  {
   "cell_type": "code",
   "execution_count": null,
   "metadata": {
    "collapsed": true
   },
   "outputs": [],
   "source": []
  },
  {
   "cell_type": "code",
   "execution_count": null,
   "metadata": {
    "collapsed": true
   },
   "outputs": [],
   "source": []
  },
  {
   "cell_type": "code",
   "execution_count": null,
   "metadata": {
    "collapsed": true
   },
   "outputs": [],
   "source": []
  },
  {
   "cell_type": "code",
   "execution_count": null,
   "metadata": {
    "collapsed": true
   },
   "outputs": [],
   "source": []
  },
  {
   "cell_type": "code",
   "execution_count": null,
   "metadata": {
    "collapsed": true
   },
   "outputs": [],
   "source": []
  }
 ],
 "metadata": {
  "kernelspec": {
   "display_name": "Python 2",
   "language": "python",
   "name": "python2"
  },
  "language_info": {
   "codemirror_mode": {
    "name": "ipython",
    "version": 2
   },
   "file_extension": ".py",
   "mimetype": "text/x-python",
   "name": "python",
   "nbconvert_exporter": "python",
   "pygments_lexer": "ipython2",
   "version": "2.7.13"
  },
  "toc": {
   "colors": {
    "hover_highlight": "#DAA520",
    "navigate_num": "#000000",
    "navigate_text": "#333333",
    "running_highlight": "#FF0000",
    "selected_highlight": "#FFD700",
    "sidebar_border": "#EEEEEE",
    "wrapper_background": "#FFFFFF"
   },
   "moveMenuLeft": true,
   "nav_menu": {
    "height": "192px",
    "width": "252px"
   },
   "navigate_menu": true,
   "number_sections": true,
   "sideBar": true,
   "threshold": 4,
   "toc_cell": false,
   "toc_section_display": "block",
   "toc_window_display": false,
   "widenNotebook": false
  }
 },
 "nbformat": 4,
 "nbformat_minor": 2
}
