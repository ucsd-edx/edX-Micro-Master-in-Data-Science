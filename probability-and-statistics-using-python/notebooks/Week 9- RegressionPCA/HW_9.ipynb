{
 "cells": [
  {
   "cell_type": "markdown",
   "metadata": {},
   "source": [
    "<font size=\"4\" style=\"color:red;\"> **IMPORTANT: ** When submitting this homework notebook, please modify only the cells that start with:</font>\n",
    "\n",
    "```python\n",
    "# modify this cell\n",
    "```"
   ]
  },
  {
   "cell_type": "markdown",
   "metadata": {},
   "source": [
    "## Setup Notebook"
   ]
  },
  {
   "cell_type": "code",
   "execution_count": 1,
   "metadata": {},
   "outputs": [
    {
     "name": "stdout",
     "output_type": "stream",
     "text": [
      "Populating the interactive namespace from numpy and matplotlib\n",
      "The object 'helper' has been imported into this notebook.\n"
     ]
    }
   ],
   "source": [
    "import numpy as np\n",
    "from scipy import stats\n",
    "%pylab inline\n",
    "%run helper.ipynb"
   ]
  },
  {
   "cell_type": "code",
   "execution_count": 4,
   "metadata": {
    "collapsed": true
   },
   "outputs": [],
   "source": [
    "import ipywidgets as widgets\n",
    "from IPython.display import display\n",
    "from ipywidgets import interact, interactive, fixed, interact_manual,IntSlider "
   ]
  },
  {
   "cell_type": "markdown",
   "metadata": {},
   "source": [
    "## Visualizing a Dataset"
   ]
  },
  {
   "cell_type": "code",
   "execution_count": 5,
   "metadata": {},
   "outputs": [
    {
     "data": {
      "application/vnd.jupyter.widget-view+json": {
       "model_id": "a6ceb57a352c47be87aa1c6be5b46bfc"
      }
     },
     "metadata": {},
     "output_type": "display_data"
    },
    {
     "data": {
      "text/plain": [
       "<function __main__.show_data>"
      ]
     },
     "execution_count": 5,
     "metadata": {},
     "output_type": "execute_result"
    }
   ],
   "source": [
    "interact_manual( helper.show_data, data_num=IntSlider(1,1,3) )"
   ]
  },
  {
   "cell_type": "markdown",
   "metadata": {},
   "source": [
    "## Visualizing Multiple Datasets"
   ]
  },
  {
   "cell_type": "code",
   "execution_count": 7,
   "metadata": {},
   "outputs": [
    {
     "data": {
      "application/vnd.jupyter.widget-view+json": {
       "model_id": "af033f8ea50b4faab6f68144bc55430f"
      }
     },
     "metadata": {},
     "output_type": "display_data"
    },
    {
     "data": {
      "text/plain": [
       "<function __main__.show_two_data>"
      ]
     },
     "execution_count": 7,
     "metadata": {},
     "output_type": "execute_result"
    }
   ],
   "source": [
    "interact_manual( show_two_data, data_num1=IntSlider(1,1,3), data_num2=IntSlider(2,1,3) )"
   ]
  },
  {
   "cell_type": "markdown",
   "metadata": {},
   "source": [
    "## Visualizing Categorical Datasets"
   ]
  },
  {
   "cell_type": "code",
   "execution_count": 9,
   "metadata": {},
   "outputs": [
    {
     "data": {
      "application/vnd.jupyter.widget-view+json": {
       "model_id": "67a928c9c13140358fa4a8d68cc74b09"
      }
     },
     "metadata": {},
     "output_type": "display_data"
    },
    {
     "data": {
      "text/plain": [
       "<function __main__.show_category_data>"
      ]
     },
     "execution_count": 9,
     "metadata": {},
     "output_type": "execute_result"
    }
   ],
   "source": [
    "interact_manual( show_category_data, data_num1=IntSlider(4,4,6), data_num2=IntSlider(5,4,6) )"
   ]
  },
  {
   "cell_type": "markdown",
   "metadata": {},
   "source": [
    "# Exercise 1:"
   ]
  },
  {
   "cell_type": "markdown",
   "metadata": {},
   "source": [
    "In this exercise you will construct a function, **one_ttest**, which performs a <font color=\"blue\">One Sample T-Test</font>. To get a better idea of how the T-Test relates to the distribution of datapoints, we recommend you check out the <font color=\"blue\">\"Visualizing a Dataset\"</font> function shown above for `data1` and `data2`.\n",
    "\n",
    "**one_ttest** should take as it's input the dataset <font color=\"dark-orange\">data</font>, the mean under the null hypothesis <font color=\"dark-orange\">mu</font>, and the p-value cutoff <font color=\"dark-orange\">alpha</font>. The function should return the boolean `True` if we accept the null hypothesis and `False` otherwise. "
   ]
  },
  {
   "cell_type": "markdown",
   "metadata": {},
   "source": [
    "<font  style=\"color:blue\"> **Code:**</font>\n",
    "```python\n",
    "data = numpy.loadtxt(\"data/data1.csv\")\n",
    "\n",
    "print \"Accept null for mu=.5, alpha=.05 : \",       one_ttest(data, .5, .05)\n",
    "print \"Accept null for mu=.0, alpha=.05 : \",       one_ttest(data, .0, .05)\n",
    "print;print \"Accept null for mu=.4, alpha=.05 : \", one_ttest(data, .4, .05)\n",
    "print \"Accept null for mu=.4, alpha=.25 : \",       one_ttest(data, .4, .25)    \n",
    "```\n",
    "\n",
    "\n",
    "<font  style=\"color:magenta\"> **Output**</font>\n",
    "```\n",
    "Accept null for mu=.5, alpha=.05 :  True\n",
    "Accept null for mu=0., alpha=.05 :  False\n",
    "\n",
    "Accept null for mu=0., alpha=.05 :  True\n",
    "Accept null for mu=0., alpha=.25 :  False\n",
    "```"
   ]
  },
  {
   "cell_type": "code",
   "execution_count": null,
   "metadata": {
    "collapsed": true
   },
   "outputs": [],
   "source": [
    "# modify this cell\n",
    "\n",
    "def one_ttest(data, mu, alpha ):\n",
    "    # inputs: data= np.array, mu= float, alpha= float   \n",
    "    # output: a boolean, True if we accept the null, False otherwise\n",
    "    \n",
    "    ### SOLUTION    \n",
    "    return stats.ttest_1samp(data,mu).pvalue >= alpha\n",
    "    \n",
    "    ## Data Used\n",
    "    #random.seed(3)\n",
    "    #data = random.normal(.5,.3,30) \n",
    "    #numpy.savetxt(\"data/data1.csv\", data, delimiter=\",\")\n",
    "    \n",
    "    #random.seed(2)\n",
    "    #data = random.normal(.8,.45,30) \n",
    "    #numpy.savetxt(\"data/data2.csv\", data, delimiter=\",\")\n",
    "    \n",
    "    #random.seed(4)\n",
    "    #data = random.normal(.35,.1,30) \n",
    "    #numpy.savetxt(\"data/data3.csv\", data, delimiter=\",\")\n",
    "\n",
    "    ### END SOLUTION"
   ]
  },
  {
   "cell_type": "code",
   "execution_count": null,
   "metadata": {
    "collapsed": true
   },
   "outputs": [],
   "source": [
    "# Check Function\n",
    "\n",
    "data = numpy.loadtxt(\"data/data2.csv\")\n",
    "\n",
    "assert( one_ttest(data,.8,.05)  )\n",
    "assert( not one_ttest(data,.8,.1)  )\n",
    "assert( one_ttest(data,.5,.05) )\n",
    "assert( not one_ttest(data,.4,.05) )\n",
    "\n",
    "### BEGIN HIDDEN TESTS\n",
    "data = numpy.loadtxt(\"data/data2.csv\")\n",
    "assert( not one_ttest(data,.9,.05)  )\n",
    "assert( one_ttest(data,.7,.5)  )\n",
    "\n",
    "data = numpy.loadtxt(\"data/data1.csv\")\n",
    "assert( not one_ttest(data,.7,.05)  )\n",
    "### END HIDDEN TESTS"
   ]
  },
  {
   "cell_type": "markdown",
   "metadata": {},
   "source": [
    "# Exercise 2:"
   ]
  },
  {
   "cell_type": "markdown",
   "metadata": {},
   "source": [
    "We will now construct a function, **two_ttest**, which performs a <font color=\"blue\">Two sample T-test with common variance</font>. To get a better idea of how the two sample T-Test relates to the two distributions of datapoints, we recommend you check out the <font color=\"blue\">\"Visualizing Multiple Datasets\"</font> section.\n",
    "\n",
    "The inputs of **two_ttest** are the two datasets <font color=\"dark-orange\">data1</font>, <font color=\"dark-orange\">data2</font>, and the p-value cutoff <font color=\"dark-orange\">alpha</font>. The function should return the boolean `True` if we accept the null hypothesis and `False` otherwise. \n"
   ]
  },
  {
   "cell_type": "markdown",
   "metadata": {},
   "source": [
    "<font  style=\"color:blue\"> **Code:**</font>\n",
    "```python\n",
    "data1 = numpy.loadtxt(\"data/data1.csv\")\n",
    "data2 = numpy.loadtxt(\"data/data2.csv\")\n",
    "data3 = numpy.loadtxt(\"data/data3.csv\")\n",
    "\n",
    "print two_ttest( data1,data2, .05)\n",
    "print two_ttest( data1,data3, .05)\n",
    "print two_ttest( data1,data3, .01)\n",
    "```\n",
    "\n",
    "\n",
    "<font  style=\"color:magenta\"> **Output**</font>\n",
    "```\n",
    "False\n",
    "False\n",
    "True\n",
    "```"
   ]
  },
  {
   "cell_type": "code",
   "execution_count": null,
   "metadata": {
    "collapsed": true
   },
   "outputs": [],
   "source": [
    "# modify this cell\n",
    "\n",
    "def two_ttest(data1, data2, alpha ):\n",
    "    # inputs: data1= np.array, data2= np.array, alpha= float   \n",
    "    # output: a boolean, True if we accept the null, False otherwise\n",
    "    \n",
    "    ### SOLUTION    \n",
    "    return stats.ttest_ind(data1, data2).pvalue >= alpha    \n",
    "    ### END SOLUTION"
   ]
  },
  {
   "cell_type": "code",
   "execution_count": null,
   "metadata": {},
   "outputs": [],
   "source": [
    "# Check Function\n",
    "\n",
    "data1 = numpy.loadtxt(\"data/data1.csv\")\n",
    "data2 = numpy.loadtxt(\"data/data2.csv\")\n",
    "\n",
    "assert( not two_ttest( data1,data2, .05) )\n",
    "assert( two_ttest( data1,data2, .04) )\n",
    "\n",
    "### BEGIN HIDDEN TESTS\n",
    "data3 = numpy.loadtxt(\"data/data3.csv\")\n",
    "assert( not two_ttest( data1,data3, .05) )\n",
    "assert( not two_ttest( data2,data3, .01)  )\n",
    "### END HIDDEN TESTS"
   ]
  },
  {
   "cell_type": "markdown",
   "metadata": {},
   "source": [
    "# Exercise 3:"
   ]
  },
  {
   "cell_type": "markdown",
   "metadata": {},
   "source": [
    "We will now construct a function, **two_var_ttest**, which performs a <font color=\"blue\">Two sample T-test with seperate variances</font>. Notice that **two_var_ttest** returns different results than <font color=\"magenta\">two_ttest</font>.\n",
    "\n",
    "The inputs of **two_var_ttest** are datasets <font color=\"dark-orange\">data1</font>, <font color=\"dark-orange\">data2</font>, and the p-value cutoff <font color=\"dark-orange\">alpha</font>. It returns boolean `True` if we accept the null hypothesis and `False` otherwise. \n",
    "\n"
   ]
  },
  {
   "cell_type": "markdown",
   "metadata": {},
   "source": [
    "<font  style=\"color:blue\"> **Code:**</font>\n",
    "```python\n",
    "data1 = numpy.loadtxt(\"data/data1.csv\")\n",
    "data2 = numpy.loadtxt(\"data/data2.csv\")\n",
    "data3 = numpy.loadtxt(\"data/data3.csv\")\n",
    "\n",
    "print two_var_ttest( data1,data2, .05)\n",
    "print two_var_ttest( data1,data3, .05)\n",
    "print two_var_ttest( data1,data3, .01)\n",
    "\n",
    "```\n",
    "\n",
    "\n",
    "<font  style=\"color:magenta\"> **Output**</font>\n",
    "```\n",
    "True\n",
    "True\n",
    "True\n",
    "```"
   ]
  },
  {
   "cell_type": "code",
   "execution_count": null,
   "metadata": {
    "collapsed": true
   },
   "outputs": [],
   "source": [
    "# modify this cell\n",
    "\n",
    "def two_var_ttest(data1, data2, alpha ):\n",
    "    # inputs: data1= np.array, data2= np.array, alpha= float   \n",
    "    # output: a boolean, True if we accept the null, False otherwise\n",
    "    \n",
    "    ### SOLUTION    \n",
    "    return stats.ttest_ind(data1, data2, equal_var=False ).pvalue >= alpha    \n",
    "    ### END SOLUTION"
   ]
  },
  {
   "cell_type": "code",
   "execution_count": null,
   "metadata": {},
   "outputs": [],
   "source": [
    "# Check Function\n",
    "\n",
    "data1 = numpy.loadtxt(\"data/data1.csv\")\n",
    "data2 = numpy.loadtxt(\"data/data2.csv\")\n",
    "\n",
    "assert( two_var_ttest( data1,data2, .05) )\n",
    "assert( not two_var_ttest( data1,data2, .06) )\n",
    "\n",
    "### BEGIN HIDDEN TESTS\n",
    "data3 = numpy.loadtxt(\"data/data3.csv\")\n",
    "assert( two_var_ttest( data1,data3, .05) )\n",
    "assert( not two_var_ttest( data2,data3, .01)  )\n",
    "assert( two_var_ttest( data2,data3, .00001)  )\n",
    "### END HIDDEN TESTS"
   ]
  },
  {
   "cell_type": "markdown",
   "metadata": {},
   "source": [
    "# Exercise 4:"
   ]
  },
  {
   "cell_type": "markdown",
   "metadata": {},
   "source": [
    "Construct a function, **chi_squared_test**, which does a <font color=\"blue\">\n",
    "Chi Squared Test</font> comparing two datasets. Check out the <font color=\"blue\">\"Visualizing Categorical Datasets\"</font> section to view the datasets for this exercise. \n",
    "\n",
    "The inputs of **chi_squared_test** are two categorical datasets <font color=\"dark-orange\">data1</font>, <font color=\"dark-orange\">data2</font>, and the p-value cutoff <font color=\"dark-orange\">alpha</font>. It returns boolean `True` if we accept the null hypothesis and `False` otherwise. \n"
   ]
  },
  {
   "cell_type": "markdown",
   "metadata": {},
   "source": [
    "<font  style=\"color:blue\"> **Code:**</font>\n",
    "```python\n",
    "data1 = numpy.loadtxt(\"data/data1.csv\")\n",
    "data2 = numpy.loadtxt(\"data/data2.csv\")\n",
    "data3 = numpy.loadtxt(\"data/data3.csv\")\n",
    "\n",
    "print two_var_ttest( data1,data2, .05)\n",
    "print two_var_ttest( data1,data3, .05)\n",
    "print two_var_ttest( data1,data3, .01)\n",
    "\n",
    "```\n",
    "\n",
    "\n",
    "<font  style=\"color:magenta\"> **Output**</font>\n",
    "```\n",
    "True\n",
    "True\n",
    "True\n",
    "```"
   ]
  },
  {
   "cell_type": "code",
   "execution_count": null,
   "metadata": {
    "collapsed": true
   },
   "outputs": [],
   "source": [
    "# modify this cell\n",
    "\n",
    "def chi_squared_test(data1, data2, alpha ):\n",
    "    # inputs: data1= np.array, data2= np.array, alpha= float   \n",
    "    # output: a boolean, True if we accept the null, False otherwise\n",
    "    \n",
    "    ### SOLUTION    \n",
    "    unique1, counts1 = numpy.unique(data1, return_counts=True)\n",
    "    unique2, counts2 = numpy.unique(data2, return_counts=True)\n",
    "    return stats.chisquare(counts1, counts2).pvalue >= alpha    \n",
    "    \n",
    "    ## Data Used\n",
    "    #random.seed(3)\n",
    "    #data= np.random.choice([0,1,2], size=30, p=[.15,.5,.35])\n",
    "    #numpy.savetxt(\"data/data4.csv\", data, delimiter=\",\")\n",
    "\n",
    "    #random.seed(3)\n",
    "    #data= np.random.choice([0,1,2], size=30, p=[.3,.4,.3])\n",
    "    #numpy.savetxt(\"data/data5.csv\", data, delimiter=\",\")\n",
    "\n",
    "    #random.seed(6)\n",
    "    #data= np.random.choice([0,1,2], size=30, p=[.3,.4,.3])\n",
    "    #numpy.savetxt(\"data/data6.csv\", data, delimiter=\",\")\n",
    "    \n",
    "    ### END SOLUTION"
   ]
  },
  {
   "cell_type": "code",
   "execution_count": null,
   "metadata": {
    "collapsed": true
   },
   "outputs": [],
   "source": [
    "# Check Function\n",
    "\n",
    "data1 = numpy.loadtxt(\"data/data1.csv\")\n",
    "data2 = numpy.loadtxt(\"data/data2.csv\")\n",
    "\n",
    "assert( two_var_ttest( data1,data2, .05) )\n",
    "assert( not two_var_ttest( data1,data2, .06) )\n",
    "\n",
    "### BEGIN HIDDEN TESTS\n",
    "data3 = numpy.loadtxt(\"data/data3.csv\")\n",
    "assert( two_var_ttest( data1,data3, .05) )\n",
    "assert( not two_var_ttest( data2,data3, .01)  )\n",
    "assert( two_var_ttest( data2,data3, .00001)  )\n",
    "### END HIDDEN TESTS"
   ]
  },
  {
   "cell_type": "code",
   "execution_count": null,
   "metadata": {
    "collapsed": true
   },
   "outputs": [],
   "source": [
    "\n",
    "\n",
    "\n",
    "\n",
    "\n",
    "\n",
    "\n",
    "\n",
    "\n",
    "\n",
    "\n",
    "\n"
   ]
  }
 ],
 "metadata": {
  "kernelspec": {
   "display_name": "Python 2",
   "language": "python",
   "name": "python2"
  },
  "language_info": {
   "codemirror_mode": {
    "name": "ipython",
    "version": 2
   },
   "file_extension": ".py",
   "mimetype": "text/x-python",
   "name": "python",
   "nbconvert_exporter": "python",
   "pygments_lexer": "ipython2",
   "version": "2.7.13"
  },
  "toc": {
   "colors": {
    "hover_highlight": "#DAA520",
    "navigate_num": "#000000",
    "navigate_text": "#333333",
    "running_highlight": "#FF0000",
    "selected_highlight": "#FFD700",
    "sidebar_border": "#EEEEEE",
    "wrapper_background": "#FFFFFF"
   },
   "moveMenuLeft": true,
   "nav_menu": {
    "height": "30px",
    "width": "252px"
   },
   "navigate_menu": true,
   "number_sections": true,
   "sideBar": true,
   "threshold": 4,
   "toc_cell": false,
   "toc_section_display": "block",
   "toc_window_display": false,
   "widenNotebook": false
  }
 },
 "nbformat": 4,
 "nbformat_minor": 2
}
