{
 "cells": [
  {
   "cell_type": "markdown",
   "metadata": {},
   "source": [
    "<font size=\"4\" style=\"color:red;\"> **IMPORTANT: ** When submitting this notebook as homework, make sure you Only modify cells which have the following comment</font>\n",
    "\n",
    "```python\n",
    "# modify this cell\n",
    "```\n",
    "\n",
    "<font style=\"color:red;\"> Do not add any new cells when submitting homework. To test out new code, use the coding **scratchpad** by clicking the triangular icon in the bottom right corner of the screen. (**hotkey:** control-B)  </font>"
   ]
  },
  {
   "cell_type": "code",
   "execution_count": 2,
   "metadata": {},
   "outputs": [
    {
     "name": "stdout",
     "output_type": "stream",
     "text": [
      "Populating the interactive namespace from numpy and matplotlib\n"
     ]
    }
   ],
   "source": [
    "%pylab inline\n",
    "from scipy import *"
   ]
  },
  {
   "cell_type": "markdown",
   "metadata": {},
   "source": [
    "# Linear Algebra Review"
   ]
  },
  {
   "cell_type": "markdown",
   "metadata": {},
   "source": [
    "[Read this notebook](http://70.95.166.175:8888/notebooks/SAFETY/probability-and-statistics-using-python/notebooks/Week%209-%20RegressionPCA/1.Linear%20Algebra%20Review.ipynb) \n",
    "before attempting exercises in this section."
   ]
  },
  {
   "cell_type": "markdown",
   "metadata": {},
   "source": [
    "### Helper Code"
   ]
  },
  {
   "cell_type": "code",
   "execution_count": 36,
   "metadata": {
    "collapsed": true
   },
   "outputs": [],
   "source": [
    "from numpy.linalg import norm\n",
    "from math import sqrt,sin,cos\n",
    "import pandas as pd\n",
    "import numpy as np\n",
    "from numpy import arange,array,ones,linalg"
   ]
  },
  {
   "cell_type": "code",
   "execution_count": 19,
   "metadata": {
    "collapsed": true
   },
   "outputs": [],
   "source": [
    "import matplotlib.pyplot as plt\n",
    "from numpy.linalg import norm\n",
    "text_loc=1.1\n",
    "def plot_arrows(L,scale=4,text_loc=0.2,fontsize=12):\n",
    "    \"\"\" Plot a list of arrows. Each arrow defined by start and end points and a color and optionally text\"\"\"\n",
    "    plt.figure(figsize=[6,6])\n",
    "    plt.xlim([-scale,scale])\n",
    "    plt.ylim([-scale,scale])\n",
    "    ax = plt.axes()\n",
    "    plt.xlabel('1st coord (x)')\n",
    "    plt.ylabel('2nd coord (y)')\n",
    "    #ax.axis('equal')\n",
    "\n",
    "    for A in L:\n",
    "        s,e,c=A[:3]\n",
    "        ax.arrow(s[0], s[1], e[0], e[1], head_width=0.05*scale, head_length=0.1*scale, fc=c, ec=c,length_includes_head=True);\n",
    "        if len(A)==4:\n",
    "            t=A[3]\n",
    "            _loc=1+text_loc/norm(e)\n",
    "            ax.text(_loc*e[0],_loc*e[1],t,fontsize=fontsize)\n",
    "    plt.grid()\n",
    "    return ax\n",
    "zero=np.array([0,0])"
   ]
  },
  {
   "cell_type": "markdown",
   "metadata": {
    "heading_collapsed": true
   },
   "source": [
    "### Excercise 1"
   ]
  },
  {
   "cell_type": "markdown",
   "metadata": {
    "hidden": true
   },
   "source": [
    "Let $\\vec{v} \\in R^2$ be a vector created using numpy. Your task is to write two functions, **project_e1** and **project_e2**. The functions should take $\\vec{v}$ as an input and should then output the projection of $\\vec{v}$ onto the corresponding vector in the standard basis.\n",
    "\n",
    " \n",
    "<font  style=\"color:blue\"> * **Code:** *</font>\n",
    "```python\n",
    "v = np.array([-2,4])\n",
    "print v\n",
    "print project_e1(v)\n",
    "print project_e2(v)\n",
    "print type( project_e2(v) )\n",
    "```\n",
    "\n",
    "\n",
    "<font  style=\"color:magenta\"> * **Output:** *</font>\n",
    "```\n",
    "[-2  4]\n",
    "[-2  0]\n",
    "[0 4]\n",
    "<type 'numpy.ndarray'>\n",
    "```"
   ]
  },
  {
   "cell_type": "markdown",
   "metadata": {
    "hidden": true
   },
   "source": [
    "$x_3$"
   ]
  },
  {
   "cell_type": "code",
   "execution_count": 20,
   "metadata": {
    "collapsed": true,
    "hidden": true
   },
   "outputs": [],
   "source": [
    "# modify this cell\n",
    "\n",
    "def project_e1(v):\n",
    "    # input: v is a 2D numpy.array \n",
    "    # output: return the projection of v onto [1,0]\n",
    "    \n",
    "    ### BEGIN SOLUTION\n",
    "    return np.array([1,0])*np.dot(v,[1,0])\n",
    "    ### END SOLUTION"
   ]
  },
  {
   "cell_type": "code",
   "execution_count": 21,
   "metadata": {
    "collapsed": true,
    "hidden": true
   },
   "outputs": [],
   "source": [
    "# modify this cell\n",
    "\n",
    "def project_e2(v):\n",
    "    # input: v is a 2D numpy.array \n",
    "    # output: return the projection of v onto [0,1]\n",
    "    \n",
    "    ### BEGIN SOLUTION\n",
    "    return np.array([0,1])*np.dot(v,[0,1])\n",
    "    ### END SOLUTION"
   ]
  },
  {
   "cell_type": "code",
   "execution_count": 22,
   "metadata": {
    "hidden": true
   },
   "outputs": [
    {
     "data": {
      "image/png": "[encoded data removed]",
      "text/plain": [
       "<matplotlib.figure.Figure at 0x7f710ece4610>"
      ]
     },
     "metadata": {},
     "output_type": "display_data"
    }
   ],
   "source": [
    "v = np.array([3,2])\n",
    "assert type(project_e1(v)) == type(np.array([3,0]))\n",
    "assert sum(abs( project_e1(v) - np.array([3,0]) )) < 10**-6\n",
    "assert sum(abs( project_e2(v) - np.array([0,2]) )) < 10**-6\n",
    "\n",
    "e1=np.array([1,0])\n",
    "e2=np.array([0,1])\n",
    "p1= project_e1(v)\n",
    "p2= project_e2(v)\n",
    "ax=plot_arrows([[zero,e1,'k','$\\\\vec{e}_1$'],[zero,e2,'k','$\\\\vec{e}_2$'],\\\n",
    "               [zero,v,'b','$\\\\vec{v}$'],\\\n",
    "               [zero,p1,'g',\"$\\\\vec{e}_1(\\\\vec{e}_1\\\\cdot \\\\vec{v})$\"],\\\n",
    "               [zero,p2,'g',\"$\\\\vec{e}_2(\\\\vec{e}_2\\\\cdot \\\\vec{v})$\"]],\\\n",
    "               scale=3.1,text_loc=0.2)\n",
    "ax.plot([v[0],p1[0]],[v[1],p1[1]],'m');\n",
    "ax.plot([v[0],p2[0]],[v[1],p2[1]],'m');\n",
    "\n",
    "### BEGIN HIDDEN TESTS\n",
    "v = np.array([5,-2])\n",
    "assert sum(abs( project_e1(v) - np.array([5,0]) )) < 10**-6\n",
    "assert sum(abs( project_e2(v) - np.array([0,-2]) )) < 10**-6\n",
    "### END HIDDEN TESTS"
   ]
  },
  {
   "cell_type": "markdown",
   "metadata": {},
   "source": [
    "### Excercise 2\n",
    "\n",
    "Below we see that \n",
    "$\\vec{u_1}=\\pmatrix{\\frac{1}{\\sqrt{2}}\\  ,\\frac{1}{\\sqrt{2}}}$ \n",
    "and \n",
    "$\\vec{u_2}=\\pmatrix{\\frac{1}{\\sqrt{2}}\\  ,\\frac{-1}{\\sqrt{2}}}$ \n",
    "also form an orthonormal basis in $R^2$."
   ]
  },
  {
   "cell_type": "code",
   "execution_count": 23,
   "metadata": {},
   "outputs": [
    {
     "data": {
      "text/plain": [
       "<matplotlib.patches.Circle at 0x7f70e4d77650>"
      ]
     },
     "execution_count": 23,
     "metadata": {},
     "output_type": "execute_result"
    },
    {
     "data": {
      "image/png": "[encoded data removed]",
      "text/plain": [
       "<matplotlib.figure.Figure at 0x7f70e4e9d650>"
      ]
     },
     "metadata": {},
     "output_type": "display_data"
    }
   ],
   "source": [
    "e1=np.array([1,0])\n",
    "e2=np.array([0,1])\n",
    "u1=np.array([1,1])/2**.5\n",
    "u2=np.array([1,-1])/2**.5\n",
    "ax=plot_arrows([[zero,e1,'k','$\\\\vec{e}_1$'],[zero,e2,'k','$\\\\vec{e}_2$'],\\\n",
    "                [zero,u1,'g','$\\\\vec{u}_1$'],[zero,u2,'g','$\\\\vec{u}_2$']],\\\n",
    "               scale=1.1,text_loc=0.2)\n",
    "circ=plt.Circle((0, 0), radius=1, edgecolor='b', facecolor='None')\n",
    "ax.add_patch(circ)"
   ]
  },
  {
   "cell_type": "markdown",
   "metadata": {},
   "source": [
    "Using\n",
    "$\\vec{u_1}=\\pmatrix{\\frac{1}{\\sqrt{2}}\\  ,\\frac{1}{\\sqrt{2}}}$ \n",
    "and \n",
    "$\\vec{u_2}=\\pmatrix{\\frac{1}{\\sqrt{2}}\\  ,\\frac{-1}{\\sqrt{2}}}$ \n",
    "your task is to write two functions, **project_u1** and **project_u2**. The functions should take $\\vec{v}$ as an input and should then output the projection of $\\vec{v}$ onto the corresponding vector.\n",
    "\n",
    "<font  style=\"color:blue\"> * **Code:** *</font>\n",
    "```python\n",
    "v = np.array([2,1])\n",
    "print v\n",
    "print project_u1(v)\n",
    "print project_u2(v)\n",
    "print type( project_u2(v) )\n",
    "```\n",
    "\n",
    "\n",
    "<font  style=\"color:magenta\"> * **Output:** *</font>\n",
    "```\n",
    "[2 1]\n",
    "[ 1.5  1.5]\n",
    "[ 0.5 -0.5]\n",
    "<type 'numpy.ndarray'>\n",
    "```"
   ]
  },
  {
   "cell_type": "code",
   "execution_count": 24,
   "metadata": {
    "collapsed": true
   },
   "outputs": [],
   "source": [
    "# modify this cell\n",
    "\n",
    "def project_u1(v):\n",
    "    # input: v is a 2D numpy.array \n",
    "    # output: return the projection of v onto [1/sqrt(2),1/sqrt(2)]\n",
    "    \n",
    "    ### BEGIN SOLUTION\n",
    "    u1 = np.array([1,1])/2**.5\n",
    "    return u1 * np.dot(v,u1)\n",
    "    ### END SOLUTION"
   ]
  },
  {
   "cell_type": "code",
   "execution_count": 25,
   "metadata": {
    "collapsed": true
   },
   "outputs": [],
   "source": [
    "# modify this cell\n",
    "\n",
    "def project_u2(v):\n",
    "    # input: v is a 2D numpy.array \n",
    "    # output: return the projection of v onto [1/sqrt(2),-1/sqrt(2)]\n",
    "    \n",
    "    ### BEGIN SOLUTION\n",
    "    u2 = np.array([1,-1])/2**.5\n",
    "    return u2 * np.dot(v,u2)\n",
    "    ### END SOLUTION"
   ]
  },
  {
   "cell_type": "code",
   "execution_count": 26,
   "metadata": {
    "cell_style": "center"
   },
   "outputs": [
    {
     "data": {
      "image/png": "[encoded data removed]",
      "text/plain": [
       "<matplotlib.figure.Figure at 0x7f70e4b7f450>"
      ]
     },
     "metadata": {},
     "output_type": "display_data"
    }
   ],
   "source": [
    "v = np.array([0,3])\n",
    "assert type(project_u1(v)) == type(np.array([1.5,1.5]))\n",
    "assert sum(abs( project_u1(v) - np.array([1.5,1.5]) )) < 10**-6\n",
    "assert sum(abs( project_u2(v) - np.array([-1.5,1.5]) )) < 10**-6\n",
    "\n",
    "u1=np.array([1,1])/2**.5\n",
    "u2=np.array([1,-1])/2**.5\n",
    "p1= project_u1(v)\n",
    "p2= project_u2(v)\n",
    "ax=plot_arrows([[zero,u1,'k','$\\\\vec{u}_1$'],[zero,u2,'k','$\\\\vec{u}_2$'],\\\n",
    "               [zero,v,'b','$\\\\vec{v}$'],\\\n",
    "               [zero,p1,'g',\"$\\\\vec{u}_1(\\\\vec{u}_1\\\\cdot \\\\vec{v})$\"],\\\n",
    "               [zero,p2,'g',\"$\\\\vec{u}_2(\\\\vec{u}_2\\\\cdot \\\\vec{v})$\"]],\\\n",
    "               scale=3.1,text_loc=0.2)\n",
    "ax.plot([v[0],p1[0]],[v[1],p1[1]],'m');\n",
    "ax.plot([v[0],p2[0]],[v[1],p2[1]],'m');\n",
    "\n",
    "### BEGIN HIDDEN TESTS\n",
    "v = np.array([-2,1])\n",
    "assert sum(abs( project_u1(v) - np.array([-0.5, -0.5]) )) < 10**-6\n",
    "assert sum(abs( project_u2(v) - np.array([-1.5,  1.5]) )) < 10**-6\n",
    "### END HIDDEN TESTS"
   ]
  },
  {
   "cell_type": "markdown",
   "metadata": {},
   "source": [
    "# Matrix Notation and Operations"
   ]
  },
  {
   "cell_type": "markdown",
   "metadata": {},
   "source": [
    "[Read this notebook](http://70.95.166.175:8888/notebooks/SAFETY/probability-and-statistics-using-python/notebooks/Week%209-%20RegressionPCA/1.Linear%20Algebra%20Review.ipynb) \n",
    "before attempting exercises in this section."
   ]
  },
  {
   "cell_type": "code",
   "execution_count": null,
   "metadata": {
    "collapsed": true
   },
   "outputs": [],
   "source": [
    "import pandas as pd\n",
    "import numpy as np\n",
    "from numpy import arange,array,ones,linalg"
   ]
  },
  {
   "cell_type": "markdown",
   "metadata": {},
   "source": [
    "## Excercises\n",
    "\n",
    "1. Write a function that takes as input an array of real numbers $a_1,a_2,\\ldots,a_d$ and outputs a $d \\times d$ \"scaling\" matrix ${\\bf S}$ such that for any row vector ${\\bf v} = [v_1,v_2,\\ldots,v_d]$:\n",
    "$$\n",
    "{\\bf v S} = [a_1 \\times v_1,a_2 \\times v_2,\\ldots,a_d \\times v_d]\n",
    "$$\n",
    "2. Write a function that takes as input an array of real numbers $a_1,a_2,\\ldots,a_d$ and output the\n",
    "**inverse** of ${\\bf S}$, denoted ${\\bf S}^{-1}$\n",
    "3. Orthonormal transformation are also called **rotations**. In [2D](https://en.wikipedia.org/wiki/Rotation_matrix#In_two_dimensions), the rotation has a single rotation angle $\\theta$:\n",
    "$$\n",
    "R(\\theta) = \\begin{bmatrix}\n",
    "\\cos \\theta & -\\sin \\theta \\\\\n",
    "\\sin \\theta & \\cos \\theta \\\\\n",
    "\\end{bmatrix}\n",
    "$$\n",
    "   * Write a function that takes $\\theta$ as it's input and returns the rotation matrix $R(\\theta)$\n",
    "   * Write a function that takes $\\theta$ as it's input and returns the rotation matrix $R^{-1}(\\theta)$. (hint: all you need to do is call the previous function with a different parameter).\n",
    "   * Write a function that takes as input an angle $\\theta$ and a list of points $(x_1,y_1),(x_2,y_2),\\ldots,(x_n,y_n)$, rotates the points using the matrix $R(\\theta)$, plots the line connecting the rotated points, and returns the rotated points themselves."
   ]
  },
  {
   "cell_type": "code",
   "execution_count": 64,
   "metadata": {
    "collapsed": true
   },
   "outputs": [],
   "source": [
    "A = arange(4)+1 "
   ]
  },
  {
   "cell_type": "code",
   "execution_count": 65,
   "metadata": {
    "collapsed": true
   },
   "outputs": [],
   "source": [
    "S = arange(16).reshape(4,4) + 1"
   ]
  },
  {
   "cell_type": "code",
   "execution_count": 66,
   "metadata": {},
   "outputs": [
    {
     "data": {
      "text/plain": [
       "array([[ 1,  2,  3,  4],\n",
       "       [ 5,  6,  7,  8],\n",
       "       [ 9, 10, 11, 12],\n",
       "       [13, 14, 15, 16]])"
      ]
     },
     "execution_count": 66,
     "metadata": {},
     "output_type": "execute_result"
    }
   ],
   "source": [
    "S"
   ]
  },
  {
   "cell_type": "code",
   "execution_count": 68,
   "metadata": {},
   "outputs": [
    {
     "data": {
      "text/plain": [
       "array([1, 2, 3, 4])"
      ]
     },
     "execution_count": 68,
     "metadata": {},
     "output_type": "execute_result"
    }
   ],
   "source": [
    "A"
   ]
  },
  {
   "cell_type": "code",
   "execution_count": null,
   "metadata": {
    "collapsed": true
   },
   "outputs": [],
   "source": []
  },
  {
   "cell_type": "markdown",
   "metadata": {},
   "source": [
    "# Solving a System of Equations"
   ]
  },
  {
   "cell_type": "markdown",
   "metadata": {},
   "source": [
    "[Read this notebook](http://70.95.166.175:8888/notebooks/SAFETY/probability-and-statistics-using-python/notebooks/Week%209-%20RegressionPCA/3.Solving%20a%20system%20of%20Equations.ipynb) \n",
    "before attempting exercises in this section."
   ]
  },
  {
   "cell_type": "markdown",
   "metadata": {},
   "source": [
    "### Homework\n",
    "write a function called `eqn_solution` which gets as input a 1D array `b` with 5 entries and returns the solution for the parameters $(x,y,z,s,t)$ \n",
    "for the following set of equations: \n",
    "$$\n",
    "x+y+z=b[0] \\\\\n",
    "t-y=b[1] \\\\\n",
    "x-z=b[2] \\\\\n",
    "y+z+s=b[3] \\\\\n",
    "t-x=b[4]\n",
    "$$"
   ]
  },
  {
   "cell_type": "code",
   "execution_count": null,
   "metadata": {
    "collapsed": true
   },
   "outputs": [],
   "source": [
    "A=np.array([[1,1,1,0,0],\\\n",
    "            [0,-1,0,0,1],\\\n",
    "            [1,0,-1,0,0],\\\n",
    "            [0,1,1,1,0],\\\n",
    "            [-1,0,0,0,1]])\n",
    "b=np.array([1,1,1,1,1])\n",
    "x,y,z,s,t=solve(A,b)\n",
    "print x+y+z,t-y,x-z,y+z+s,t-x"
   ]
  },
  {
   "cell_type": "code",
   "execution_count": null,
   "metadata": {
    "collapsed": true
   },
   "outputs": [],
   "source": []
  }
 ],
 "metadata": {
  "kernelspec": {
   "display_name": "Python 2",
   "language": "python",
   "name": "python2"
  },
  "language_info": {
   "codemirror_mode": {
    "name": "ipython",
    "version": 2
   },
   "file_extension": ".py",
   "mimetype": "text/x-python",
   "name": "python",
   "nbconvert_exporter": "python",
   "pygments_lexer": "ipython2",
   "version": "2.7.13"
  },
  "toc": {
   "colors": {
    "hover_highlight": "#DAA520",
    "navigate_num": "#000000",
    "navigate_text": "#333333",
    "running_highlight": "#FF0000",
    "selected_highlight": "#FFD700",
    "sidebar_border": "#EEEEEE",
    "wrapper_background": "#FFFFFF"
   },
   "moveMenuLeft": true,
   "nav_menu": {
    "height": "228px",
    "width": "252px"
   },
   "navigate_menu": true,
   "number_sections": true,
   "sideBar": true,
   "threshold": 4,
   "toc_cell": false,
   "toc_section_display": "block",
   "toc_window_display": false,
   "widenNotebook": false
  }
 },
 "nbformat": 4,
 "nbformat_minor": 2
}
