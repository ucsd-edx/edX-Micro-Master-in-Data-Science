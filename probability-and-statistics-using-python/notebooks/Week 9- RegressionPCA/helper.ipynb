{
 "cells": [
  {
   "cell_type": "markdown",
   "metadata": {},
   "source": [
    "<font face=\"Calibri\" size=\"18px\" ><strong> Helper Notebook </strong></font>"
   ]
  },
  {
   "cell_type": "markdown",
   "metadata": {},
   "source": [
    "This ipynb file contains helper functions for visualizing the datasets used in HW_9.ipynb . It is not necessary for you to know how these functions work."
   ]
  },
  {
   "cell_type": "code",
   "execution_count": 1,
   "metadata": {},
   "outputs": [],
   "source": [
    "import matplotlib.pyplot as plt\n",
    "import numpy as np\n",
    "from scipy import stats"
   ]
  },
  {
   "cell_type": "code",
   "execution_count": 6,
   "metadata": {},
   "outputs": [
    {
     "name": "stdout",
     "output_type": "stream",
     "text": [
      "The object 'helper' has been imported into this notebook.\n"
     ]
    }
   ],
   "source": [
    "helper = type('helper', (), {})()\n",
    "print \"The object 'helper' has been imported into this notebook.\""
   ]
  },
  {
   "cell_type": "markdown",
   "metadata": {},
   "source": [
    "# show_data"
   ]
  },
  {
   "cell_type": "code",
   "execution_count": 7,
   "metadata": {
    "collapsed": true
   },
   "outputs": [],
   "source": [
    "def show_data(data_num):\n",
    "    data = numpy.loadtxt(\"data/data\"+str(data_num)+\".csv\")\n",
    "    plt.hist(data)\n",
    "    plt.axvline(data.mean(), color=\"red\" )\n",
    "    print;print \"Data File: \", \"data/data\"+str(data_num)+\".csv\"\n",
    "    print \"Number of Datapoints: \",len(data)\n",
    "    plt.show()\n",
    "    \n",
    "helper.show_data = show_data\n",
    "del show_data"
   ]
  },
  {
   "cell_type": "markdown",
   "metadata": {},
   "source": [
    "# show_two_data"
   ]
  },
  {
   "cell_type": "code",
   "execution_count": 4,
   "metadata": {
    "collapsed": true
   },
   "outputs": [],
   "source": [
    "def show_two_data(data_num1,data_num2 ):\n",
    "    if data_num1 == data_num2: return \"Please Select two Different Datasets\"\n",
    "    \n",
    "    data1 = numpy.loadtxt(\"data/data\"+str(data_num1)+\".csv\")\n",
    "    plt.hist(data1,  alpha=0.5,)\n",
    "    plt.axvline(data1.mean(), color=\"red\" )\n",
    "    \n",
    "    data2 = numpy.loadtxt(\"data/data\"+str(data_num2)+\".csv\")\n",
    "    plt.hist(data2,  alpha=0.5,)\n",
    "    plt.axvline(data2.mean(), color=\"red\" )\n",
    "\n",
    "    print;print \"Data File 1: \", \"data/data\"+str(data_num1)+\".csv\"\n",
    "    print \"Data File 2: \", \"data/data\"+str(data_num2)+\".csv\"\n",
    "    plt.show()\n",
    "\n",
    "helper.show_two_data = show_two_data\n",
    "#del show_two_data"
   ]
  },
  {
   "cell_type": "markdown",
   "metadata": {},
   "source": [
    "# show_category_data"
   ]
  },
  {
   "cell_type": "code",
   "execution_count": 5,
   "metadata": {},
   "outputs": [],
   "source": [
    "def show_category_data(data_num1,data_num2 ):\n",
    "    if data_num1 == data_num2: return \"Please Select two Different Datasets\"\n",
    "    \n",
    "    data2 = numpy.loadtxt(\"data/data\"+str(data_num2)+\".csv\")\n",
    "    plt.hist(data2,  alpha=0.4,)\n",
    "    data1 = numpy.loadtxt(\"data/data\"+str(data_num1)+\".csv\")\n",
    "    plt.hist(data1,  alpha=.4,)\n",
    "\n",
    "    print;print \"Data File 1: \", \"data/data\"+str(data_num1)+\".csv\"\n",
    "    print \"Data File 2: \", \"data/data\"+str(data_num2)+\".csv\"\n",
    "    plt.show()\n",
    "    \n",
    "helper.show_category_data = show_category_data\n",
    "#del show_category_data"
   ]
  },
  {
   "cell_type": "code",
   "execution_count": null,
   "metadata": {
    "collapsed": true
   },
   "outputs": [],
   "source": [
    "\n",
    "\n",
    "\n",
    "\n",
    "\n",
    "\n",
    "\n",
    "\n",
    "\n"
   ]
  }
 ],
 "metadata": {
  "kernelspec": {
   "display_name": "Python 2",
   "language": "python",
   "name": "python2"
  },
  "language_info": {
   "codemirror_mode": {
    "name": "ipython",
    "version": 2
   },
   "file_extension": ".py",
   "mimetype": "text/x-python",
   "name": "python",
   "nbconvert_exporter": "python",
   "pygments_lexer": "ipython2",
   "version": "2.7.13"
  },
  "toc": {
   "colors": {
    "hover_highlight": "#DAA520",
    "navigate_num": "#000000",
    "navigate_text": "#333333",
    "running_highlight": "#FF0000",
    "selected_highlight": "#FFD700",
    "sidebar_border": "#EEEEEE",
    "wrapper_background": "#FFFFFF"
   },
   "moveMenuLeft": true,
   "nav_menu": {
    "height": "66px",
    "width": "252px"
   },
   "navigate_menu": true,
   "number_sections": true,
   "sideBar": true,
   "threshold": 4,
   "toc_cell": false,
   "toc_section_display": "block",
   "toc_window_display": false,
   "widenNotebook": false
  }
 },
 "nbformat": 4,
 "nbformat_minor": 2
}
