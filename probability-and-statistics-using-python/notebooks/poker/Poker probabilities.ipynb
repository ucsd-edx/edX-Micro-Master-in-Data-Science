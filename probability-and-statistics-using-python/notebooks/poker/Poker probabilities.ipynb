{
 "cells": [
  {
   "cell_type": "code",
   "execution_count": 2,
   "metadata": {
    "collapsed": false,
    "deletable": true,
    "editable": true,
    "run_control": {
     "frozen": false,
     "read_only": false
    },
    "scrolled": true
   },
   "outputs": [
    {
     "name": "stdout",
     "output_type": "stream",
     "text": [
      "Populating the interactive namespace from numpy and matplotlib\n"
     ]
    }
   ],
   "source": [
    "%pylab inline"
   ]
  },
  {
   "cell_type": "markdown",
   "metadata": {
    "deletable": true,
    "editable": true,
    "run_control": {
     "frozen": false,
     "read_only": false
    }
   },
   "source": [
    "## Poker cards\n",
    "Poker uses a standard deck consisting of 52 cards. Each card has a rank and a suite.\n",
    "There are 13 ranks and 4 suites\n",
    "\n",
    "To learn more  about poker hands and their probabilities, see here:\n",
    "[poker probabilities](https://en.wikipedia.org/wiki/Poker_probability)"
   ]
  },
  {
   "cell_type": "code",
   "execution_count": 3,
   "metadata": {
    "collapsed": false,
    "deletable": true,
    "editable": true,
    "run_control": {
     "frozen": false,
     "read_only": false
    }
   },
   "outputs": [
    {
     "name": "stdout",
     "output_type": "stream",
     "text": [
      "Number of cards= 52 \n",
      "The first three cards are [('A', 'H'), ('2', 'H'), ('3', 'H')]\n"
     ]
    }
   ],
   "source": [
    "ranks=['A','2','3','4','5','6','7','8','9','10','J','Q','K']\n",
    "suits='HSCD' # Hearts, Spades, Clubs Diamonds\n",
    "cards=[]\n",
    "for s in suits:\n",
    "    for r in ranks:\n",
    "        cards.append((r,s))\n",
    "print 'Number of cards=',len(cards),'\\nThe first three cards are',cards[:3]"
   ]
  },
  {
   "cell_type": "code",
   "execution_count": 39,
   "metadata": {
    "collapsed": false,
    "deletable": true,
    "editable": true,
    "run_control": {
     "frozen": false,
     "read_only": false
    },
    "scrolled": true
   },
   "outputs": [
    {
     "name": "stdout",
     "output_type": "stream",
     "text": [
      "[['J' 'H']\n",
      " ['2' 'S']\n",
      " ['Q' 'C']\n",
      " ['10' 'C']\n",
      " ['J' 'D']]\n"
     ]
    }
   ],
   "source": [
    "hand=random.permutation(cards)[:5]\n",
    "print hand"
   ]
  },
  {
   "cell_type": "markdown",
   "metadata": {},
   "source": [
    "## Computing the probability of \"single pair\"\n",
    "we will compute the probability of two-of-a-kind (= single pair) in two different ways:\n",
    "\n",
    "1. Using a simulation to get approximate answers and\n",
    "2. Using combinatoric to compute an exact answer"
   ]
  },
  {
   "cell_type": "markdown",
   "metadata": {},
   "source": [
    "### Simulation"
   ]
  },
  {
   "cell_type": "code",
   "execution_count": null,
   "metadata": {
    "collapsed": true
   },
   "outputs": [],
   "source": [
    "def two_of_a_kind(hand):\n",
    "    counts=count_by_rank(hand)\n",
    "    return counts[2]==1 and counts[3]==0"
   ]
  },
  {
   "cell_type": "code",
   "execution_count": 40,
   "metadata": {
    "collapsed": true,
    "deletable": true,
    "editable": true,
    "run_control": {
     "frozen": false,
     "read_only": false
    }
   },
   "outputs": [],
   "source": [
    "def count_by_rank(hand):\n",
    "    \"\"\" \n",
    "    Given a hand, compute the number of singles, pairs, triples and 4's\n",
    "    A 'pair' refers to two cards of the same rank.\n",
    "    Input: hand: A list of cards, each card has the form (rank,suit)\n",
    "    Output: a dictionary that maps 1,2,3,4 to the number of ranks with that number of suits.\n",
    "    \"\"\"\n",
    "    D={}\n",
    "    for rank,suit in hand:\n",
    "        if rank not in D:\n",
    "            D[rank]=0\n",
    "        D[rank]+=1\n",
    "    C={i:0 for i in range(1,5)}\n",
    "    for rank,count in D.items():\n",
    "        C[count]+=1\n",
    "    return C\n",
    "\n",
    "hand=[(6,s) for s in suits]+[(7,'H')]\n",
    "print hand\n",
    "count_by_rank(hand)"
   ]
  },
  {
   "cell_type": "code",
   "execution_count": 7,
   "metadata": {
    "collapsed": true,
    "deletable": true,
    "editable": true,
    "run_control": {
     "frozen": false,
     "read_only": false
    }
   },
   "outputs": [],
   "source": [
    "def calc_prob(cond,n=1000,k=100):\n",
    "    P_est=[]\n",
    "    for j in range(k):\n",
    "        hits=0\n",
    "        for i in range(n):\n",
    "            hand=random.permutation(cards)[:5]\n",
    "            hits+=cond(hand)\n",
    "        P_est.append(float(hits)/n)\n",
    "    return P_est\n",
    "\n",
    "H=calc_prob(two_of_a_kind)\n",
    "hist(H);"
   ]
  },
  {
   "cell_type": "markdown",
   "metadata": {},
   "source": [
    "## Using Combinatorics"
   ]
  },
  {
   "cell_type": "code",
   "execution_count": 45,
   "metadata": {
    "collapsed": false,
    "deletable": true,
    "editable": true,
    "run_control": {
     "frozen": false,
     "read_only": false
    }
   },
   "outputs": [],
   "source": [
    "# calculate the probabilities exactly\n",
    "from math import exp,factorial\n",
    "from scipy.special import gammaln"
   ]
  },
  {
   "cell_type": "code",
   "execution_count": 46,
   "metadata": {
    "collapsed": false,
    "deletable": true,
    "editable": true,
    "run_control": {
     "frozen": false,
     "read_only": false
    }
   },
   "outputs": [
    {
     "data": {
      "text/plain": [
       "6"
      ]
     },
     "execution_count": 46,
     "metadata": {},
     "output_type": "execute_result"
    }
   ],
   "source": [
    "def C(n,k):\n",
    "    a=gammaln(n+1)-gammaln(k+1)-gammaln(n-k+1)\n",
    "    return int(round(exp(a)))\n",
    "\n",
    "C(4,2)"
   ]
  },
  {
   "cell_type": "code",
   "execution_count": 48,
   "metadata": {
    "collapsed": false,
    "deletable": true,
    "editable": true,
    "run_control": {
     "frozen": false,
     "read_only": false
    }
   },
   "outputs": [
    {
     "data": {
      "text/plain": [
       "2598960"
      ]
     },
     "execution_count": 48,
     "metadata": {},
     "output_type": "execute_result"
    }
   ],
   "source": [
    "#number of ways to choose 5 cards from a standard deck\n",
    "combination(52,5)"
   ]
  },
  {
   "cell_type": "markdown",
   "metadata": {},
   "source": [
    "### Compute the probability of  two of a kind\n",
    "Order of choices:\n",
    "1. choose the rank of the pair: $13$\n",
    "2. choose the suits of the pair: $C(4,2)=6$\n",
    "3. choose the ranks of the three singles: $C(12,3)$\n",
    "4. choose the suits of the three singles: $4^3$ "
   ]
  },
  {
   "cell_type": "code",
   "execution_count": 25,
   "metadata": {
    "collapsed": false,
    "deletable": true,
    "editable": true,
    "run_control": {
     "frozen": false,
     "read_only": false
    }
   },
   "outputs": [
    {
     "data": {
      "text/plain": [
       "0.4225690276110444"
      ]
     },
     "execution_count": 25,
     "metadata": {},
     "output_type": "execute_result"
    }
   ],
   "source": [
    "((13.*C(4,2))*C(12,3)*4**3)/C(52,5)"
   ]
  },
  {
   "cell_type": "code",
   "execution_count": 8,
   "metadata": {
    "collapsed": false,
    "deletable": true,
    "editable": true,
    "run_control": {
     "frozen": false,
     "read_only": false
    }
   },
   "outputs": [],
   "source": [
    "def four_of_a_kind(hand):\n",
    "    counts=count_by_rank(hand)\n",
    "    return counts[4]==1\n",
    "\n",
    "def three_of_a_kind(hand):\n",
    "    counts=count_by_rank(hand)\n",
    "    return counts[3]==1 and counts[2]==0\n",
    "\n",
    "def full_house(hand):  #a two and a three\n",
    "    counts=count_by_rank(hand)\n",
    "    return counts[2]==1 and counts[3]==1"
   ]
  }
 ],
 "metadata": {
  "anaconda-cloud": {},
  "kernelspec": {
   "display_name": "Python [conda root]",
   "language": "python",
   "name": "conda-root-py"
  },
  "language_info": {
   "codemirror_mode": {
    "name": "ipython",
    "version": 2
   },
   "file_extension": ".py",
   "mimetype": "text/x-python",
   "name": "python",
   "nbconvert_exporter": "python",
   "pygments_lexer": "ipython2",
   "version": "2.7.13"
  },
  "toc": {
   "colors": {
    "hover_highlight": "#DAA520",
    "running_highlight": "#FF0000",
    "selected_highlight": "#FFD700"
   },
   "moveMenuLeft": true,
   "nav_menu": {
    "height": "30px",
    "width": "252px"
   },
   "navigate_menu": true,
   "number_sections": true,
   "sideBar": true,
   "threshold": 4,
   "toc_cell": false,
   "toc_section_display": "block",
   "toc_window_display": false
  }
 },
 "nbformat": 4,
 "nbformat_minor": 2
}
