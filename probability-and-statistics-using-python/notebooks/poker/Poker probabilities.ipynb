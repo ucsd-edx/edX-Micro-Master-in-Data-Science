{
 "cells": [
  {
   "cell_type": "code",
   "execution_count": 3,
   "metadata": {
    "scrolled": true
   },
   "outputs": [
    {
     "name": "stdout",
     "output_type": "stream",
     "text": [
      "Populating the interactive namespace from numpy and matplotlib\n"
     ]
    }
   ],
   "source": [
    "%pylab inline"
   ]
  },
  {
   "cell_type": "markdown",
   "metadata": {},
   "source": [
    "## Poker cards\n",
    "Poker uses a standard deck consisting of 52 cards. Each card has a rank and a suite.\n",
    "There are 13 ranks and 4 suites\n",
    "\n",
    "To learn more  about poker hands and their probabilities, see here:\n",
    "[poker probabilities](https://en.wikipedia.org/wiki/Poker_probability)"
   ]
  },
  {
   "cell_type": "code",
   "execution_count": 4,
   "metadata": {},
   "outputs": [
    {
     "name": "stdout",
     "output_type": "stream",
     "text": [
      "Number of cards= 52 \n",
      "The first three cards are [('1', 'H'), ('2', 'H'), ('3', 'H')]\n"
     ]
    }
   ],
   "source": [
    "n_rank=13\n",
    "n_suit=4\n",
    "n_hand=5\n",
    "ranks=[str(i) for i in range(1,n_rank+1)]\n",
    "all_suits='HSCDABEFGIKLMNOPQRTUVWXYZ'\n",
    "suits=all_suits[:n_suit] # Hearts, Spades, Clubs Diamonds\n",
    "cards=[]\n",
    "for s in suits:\n",
    "    for r in ranks:\n",
    "        cards.append((r,s))\n",
    "print 'Number of cards=',len(cards),'\\nThe first three cards are',cards[:3]"
   ]
  },
  {
   "cell_type": "code",
   "execution_count": 5,
   "metadata": {
    "scrolled": true
   },
   "outputs": [
    {
     "name": "stdout",
     "output_type": "stream",
     "text": [
      "[['5' 'C']\n",
      " ['9' 'S']\n",
      " ['2' 'S']\n",
      " ['5' 'D']\n",
      " ['2' 'D']]\n"
     ]
    }
   ],
   "source": [
    "hand=random.permutation(cards)[:n_hand]\n",
    "print hand"
   ]
  },
  {
   "cell_type": "markdown",
   "metadata": {},
   "source": [
    "## Computing the probability of \"single pair\"\n",
    "we will compute the probability of two-of-a-kind (= single pair) in two different ways:\n",
    "\n",
    "1. Using a simulation to get approximate answers and\n",
    "2. Using combinatoric to compute an exact answer"
   ]
  },
  {
   "cell_type": "markdown",
   "metadata": {},
   "source": [
    "### Simulation"
   ]
  },
  {
   "cell_type": "code",
   "execution_count": 6,
   "metadata": {},
   "outputs": [
    {
     "data": {
      "text/plain": [
       "False"
      ]
     },
     "execution_count": 6,
     "metadata": {},
     "output_type": "execute_result"
    }
   ],
   "source": [
    "1==0 & True"
   ]
  },
  {
   "cell_type": "code",
   "execution_count": 7,
   "metadata": {
    "collapsed": true
   },
   "outputs": [],
   "source": [
    "def two_of_a_kind(hand):\n",
    "    counts=count_by_rank(hand)\n",
    "    flag=(counts[2]==1)  # check two of a kind (single pair)\n",
    "    for key in counts.keys():  # Check that there are not ranks with more than two.\n",
    "        if key>2:\n",
    "            flag &= counts[key]==0 \n",
    "    return flag"
   ]
  },
  {
   "cell_type": "code",
   "execution_count": 8,
   "metadata": {},
   "outputs": [
    {
     "name": "stdout",
     "output_type": "stream",
     "text": [
      "[(6, 'H'), (6, 'S'), (6, 'C'), (6, 'D'), (7, 'H')]\n"
     ]
    },
    {
     "data": {
      "text/plain": [
       "Counter({1: 1, 4: 1})"
      ]
     },
     "execution_count": 8,
     "metadata": {},
     "output_type": "execute_result"
    }
   ],
   "source": [
    "from collections import Counter\n",
    "\n",
    "def count_by_rank(hand):\n",
    "    \"\"\" \n",
    "    Given a hand, compute the number of singles, pairs, triples and 4's\n",
    "    A 'pair' refers to two cards of the same rank.\n",
    "    Input: hand: A list of cards, each card has the form (rank,suit)\n",
    "    Output: a dictionary that maps 1,2,3,4 to the number of ranks with that number of suits.\n",
    "    \"\"\"\n",
    "    D=Counter()\n",
    "    for rank,suit in hand:\n",
    "        D[rank]+=1\n",
    "        C=Counter()\n",
    "    for rank,count in D.items():\n",
    "        C[count]+=1\n",
    "    return C\n",
    "\n",
    "hand=[(6,s) for s in suits]+[(7,'H')]\n",
    "print hand\n",
    "count_by_rank(hand)"
   ]
  },
  {
   "cell_type": "code",
   "execution_count": 9,
   "metadata": {},
   "outputs": [
    {
     "data": {
      "image/png": "[encoded data removed]",
      "text/plain": [
       "<matplotlib.figure.Figure at 0x7f99a0088650>"
      ]
     },
     "metadata": {},
     "output_type": "display_data"
    }
   ],
   "source": [
    "def simulate_prob(cond,n=1000,k=100):\n",
    "    P_est=[]\n",
    "    for j in range(k):\n",
    "        hits=0\n",
    "        for i in range(n):\n",
    "            hand=random.permutation(cards)[:5]\n",
    "            hits+=cond(hand)\n",
    "        P_est.append(float(hits)/n)\n",
    "    return P_est\n",
    "\n",
    "H=simulate_prob(two_of_a_kind)\n",
    "hist(H);"
   ]
  },
  {
   "cell_type": "markdown",
   "metadata": {},
   "source": [
    "## Using Combinatorics"
   ]
  },
  {
   "cell_type": "code",
   "execution_count": 10,
   "metadata": {
    "collapsed": true
   },
   "outputs": [],
   "source": [
    "# calculate the probabilities exactly\n",
    "from math import exp,factorial\n",
    "from scipy.special import gammaln"
   ]
  },
  {
   "cell_type": "code",
   "execution_count": 11,
   "metadata": {},
   "outputs": [
    {
     "data": {
      "text/plain": [
       "6"
      ]
     },
     "execution_count": 11,
     "metadata": {},
     "output_type": "execute_result"
    }
   ],
   "source": [
    "def C(n,k):\n",
    "    a=gammaln(n+1)-gammaln(k+1)-gammaln(n-k+1)\n",
    "    return int(round(exp(a)))\n",
    "\n",
    "C(4,2)"
   ]
  },
  {
   "cell_type": "code",
   "execution_count": 12,
   "metadata": {},
   "outputs": [
    {
     "data": {
      "text/plain": [
       "2598960"
      ]
     },
     "execution_count": 12,
     "metadata": {},
     "output_type": "execute_result"
    }
   ],
   "source": [
    "#number of ways to choose 5 cards from a standard deck\n",
    "C(52,5)"
   ]
  },
  {
   "cell_type": "markdown",
   "metadata": {},
   "source": [
    "### Compute the probability of  two of a kind\n",
    "Order of choices:\n",
    "1. choose the rank of the pair: $13$\n",
    "2. choose the suits of the pair: $C(4,2)=6$\n",
    "3. choose the ranks of the three singles: $C(12,3)$\n",
    "4. choose the suits of the three singles: $4^3$ "
   ]
  },
  {
   "cell_type": "code",
   "execution_count": 13,
   "metadata": {},
   "outputs": [
    {
     "data": {
      "text/plain": [
       "0.4225690276110444"
      ]
     },
     "execution_count": 13,
     "metadata": {},
     "output_type": "execute_result"
    }
   ],
   "source": [
    "((13.*C(4,2))*C(12,3)*4**3)/C(52,5)"
   ]
  },
  {
   "cell_type": "code",
   "execution_count": 14,
   "metadata": {
    "collapsed": true
   },
   "outputs": [],
   "source": [
    "def four_of_a_kind(hand):\n",
    "    counts=count_by_rank(hand)\n",
    "    flag=(counts[4]==1)  # check four of a kind\n",
    "    for key in counts.keys():  # Check that there are no other multiples\n",
    "        if key==2 or key==3 or key>4:\n",
    "            flag &= counts[key]==0 \n",
    "    return flag\n",
    "\n",
    "def three_of_a_kind(hand):\n",
    "    flag=(counts[3]==1)  # check four of a kind\n",
    "    for key in counts.keys():  # Check that there are no other multiples\n",
    "        if key==2 or key>3:\n",
    "            flag &= counts[key]==0 \n",
    "    return flag\n",
    "\n",
    "def full_house(hand):  #a two and a three\n",
    "    counts=count_by_rank(hand)\n",
    "    flag=(counts[2]==1 and counts[3]==1)  # check two of a kind and 3 of a kind\n",
    "    for key in counts.keys():  # Check that there are no other multiples\n",
    "        if key>3:\n",
    "            flag &= counts[key]==0 \n",
    "    return flag\n",
    "    return counts[2]==1 and counts[3]==1"
   ]
  },
  {
   "cell_type": "markdown",
   "metadata": {},
   "source": [
    "### Full House (a 2 and a 3)\n",
    "Order of choices:\n",
    "1. choose the rank of the pair: $13$\n",
    "2. choose the suits of the pair: $C(4,2)=6$\n",
    "3. choose the ranks of the triple: $13-1=12$\n",
    "4. choose the suits of the three singles: $C(4,3)=4$ "
   ]
  },
  {
   "cell_type": "code",
   "execution_count": 15,
   "metadata": {},
   "outputs": [
    {
     "data": {
      "text/plain": [
       "0.0014405762304921968"
      ]
     },
     "execution_count": 15,
     "metadata": {},
     "output_type": "execute_result"
    }
   ],
   "source": [
    "((13.*C(4,2))*12*4)/C(52,5)"
   ]
  },
  {
   "cell_type": "code",
   "execution_count": 16,
   "metadata": {},
   "outputs": [
    {
     "data": {
      "image/png": "[encoded data removed]",
      "text/plain": [
       "<matplotlib.figure.Figure at 0x7f997539c450>"
      ]
     },
     "metadata": {},
     "output_type": "display_data"
    }
   ],
   "source": [
    "H=simulate_prob(full_house,n=10000,k=100)\n",
    "hist(H);"
   ]
  },
  {
   "cell_type": "markdown",
   "metadata": {
    "nbgrader": {
     "grade": false,
     "grade_id": "cell-01febacb542efd95",
     "locked": true,
     "schema_version": 1,
     "solution": false
    }
   },
   "source": [
    "## Homework\n",
    "\n",
    " A flush is a hand in which all of the cards are of the same suit. (note that we do not exclude royal flush and straight flush for this problem).\n",
    " \n",
    "Find the probability of a flush in two ways:\n",
    "1. Write a function called (`flush`) to decide if a hand is a flush and use `simulate_prob(flush)` to perform a monte-carlo simulation.\n",
    "```python\n",
    "def flush(hand):\n",
    "    # Your code should return True if the hand is a flush, False otherwise\n",
    "```\n",
    "2. Write a function `calc_prob_flush()` that computes the probability of a flush."
   ]
  },
  {
   "cell_type": "code",
   "execution_count": 17,
   "metadata": {
    "collapsed": true,
    "nbgrader": {
     "grade": false,
     "grade_id": "cell-164ceda7ec3aac4e",
     "locked": false,
     "schema_version": 1,
     "solution": true
    }
   },
   "outputs": [],
   "source": [
    "def flush(hand):\n",
    "    rank,suit0=hand[0]\n",
    "    for rank,suit1 in hand[1:]:\n",
    "        if suit1 != suit0:\n",
    "            return False\n",
    "    return True"
   ]
  },
  {
   "cell_type": "code",
   "execution_count": 18,
   "metadata": {
    "nbgrader": {
     "grade": true,
     "grade_id": "cell-228368940fb8bc7b",
     "locked": true,
     "points": 10,
     "schema_version": 1,
     "solution": false
    }
   },
   "outputs": [
    {
     "ename": "SyntaxError",
     "evalue": "invalid syntax (<ipython-input-18-05bf96f04d32>, line 1)",
     "output_type": "error",
     "traceback": [
      "\u001b[0;36m  File \u001b[0;32m\"<ipython-input-18-05bf96f04d32>\"\u001b[0;36m, line \u001b[0;32m1\u001b[0m\n\u001b[0;31m    hand=[(str(i) for i in for s in suits]+[(7,'H')]\u001b[0m\n\u001b[0m                             ^\u001b[0m\n\u001b[0;31mSyntaxError\u001b[0m\u001b[0;31m:\u001b[0m invalid syntax\n"
     ]
    }
   ],
   "source": [
    "hand=[(str(i) for i in for s in suits]+[(7,'H')]"
   ]
  },
  {
   "cell_type": "code",
   "execution_count": null,
   "metadata": {
    "collapsed": true
   },
   "outputs": [],
   "source": []
  }
 ],
 "metadata": {
  "anaconda-cloud": {},
  "celltoolbar": "Create Assignment",
  "kernelspec": {
   "display_name": "Python 2",
   "language": "python",
   "name": "python2"
  },
  "language_info": {
   "codemirror_mode": {
    "name": "ipython",
    "version": 2
   },
   "file_extension": ".py",
   "mimetype": "text/x-python",
   "name": "python",
   "nbconvert_exporter": "python",
   "pygments_lexer": "ipython2",
   "version": "2.7.13"
  },
  "toc": {
   "colors": {
    "hover_highlight": "#DAA520",
    "navigate_num": "#000000",
    "navigate_text": "#333333",
    "running_highlight": "#FF0000",
    "selected_highlight": "#FFD700",
    "sidebar_border": "#EEEEEE",
    "wrapper_background": "#FFFFFF"
   },
   "moveMenuLeft": true,
   "nav_menu": {
    "height": "30px",
    "width": "252px"
   },
   "navigate_menu": true,
   "number_sections": true,
   "sideBar": true,
   "threshold": 4,
   "toc_cell": false,
   "toc_section_display": "block",
   "toc_window_display": false,
   "widenNotebook": false
  }
 },
 "nbformat": 4,
 "nbformat_minor": 2
}
