{
 "cells": [
  {
   "cell_type": "code",
   "execution_count": 2,
   "metadata": {
    "collapsed": false,
    "deletable": true,
    "editable": true,
    "run_control": {
     "frozen": false,
     "read_only": false
    },
    "scrolled": true
   },
   "outputs": [
    {
     "name": "stdout",
     "output_type": "stream",
     "text": [
      "Populating the interactive namespace from numpy and matplotlib\n"
     ]
    }
   ],
   "source": [
    "%pylab inline"
   ]
  },
  {
   "cell_type": "markdown",
   "metadata": {
    "deletable": true,
    "editable": true,
    "run_control": {
     "frozen": false,
     "read_only": false
    }
   },
   "source": [
    "## Poker cards\n",
    "Poker uses a standard deck consisting of 52 cards. Each card has a rank and a suite.\n",
    "There are 13 ranks and 4 suites\n",
    "\n",
    "[poker probabilities](https://en.wikipedia.org/wiki/Poker_probability)"
   ]
  },
  {
   "cell_type": "code",
   "execution_count": 3,
   "metadata": {
    "collapsed": false,
    "deletable": true,
    "editable": true,
    "run_control": {
     "frozen": false,
     "read_only": false
    }
   },
   "outputs": [
    {
     "name": "stdout",
     "output_type": "stream",
     "text": [
      "Number of cards= 52 \n",
      "The first three cards are [('A', 'H'), ('2', 'H'), ('3', 'H')]\n"
     ]
    }
   ],
   "source": [
    "ranks=['A','2','3','4','5','6','7','8','9','10','J','Q','K']\n",
    "suits='HSCD' # Hearts, Spades, Clubs Diamonds\n",
    "cards=[]\n",
    "for s in suits:\n",
    "    for r in ranks:\n",
    "        cards.append((r,s))\n",
    "print 'Number of cards=',len(cards),'\\nThe first three cards are',cards[:3]"
   ]
  },
  {
   "cell_type": "code",
   "execution_count": 4,
   "metadata": {
    "collapsed": false,
    "deletable": true,
    "editable": true,
    "run_control": {
     "frozen": false,
     "read_only": false
    }
   },
   "outputs": [
    {
     "name": "stdout",
     "output_type": "stream",
     "text": [
      "[['4' 'S']\n",
      " ['6' 'H']\n",
      " ['6' 'D']\n",
      " ['J' 'C']\n",
      " ['8' 'H']]\n"
     ]
    }
   ],
   "source": [
    "hand=random.permutation(cards)[:5]\n",
    "print hand"
   ]
  },
  {
   "cell_type": "code",
   "execution_count": 5,
   "metadata": {
    "collapsed": true,
    "deletable": true,
    "editable": true,
    "run_control": {
     "frozen": false,
     "read_only": false
    }
   },
   "outputs": [],
   "source": [
    "def count_by_rank(hand):\n",
    "    \"\"\" \n",
    "    Given a hand, compute the number of singles, pairs, triples and 4's\n",
    "    A 'pair' refers to two cards of the same rank.\n",
    "    Input: hand: A list of cards, each card has the form (rank,suit)\n",
    "    Output: a dictionary that maps 1,2,3,4 to the number of ranks with that number of suits.\n",
    "    \"\"\"\n",
    "    D={}\n",
    "    for rank,suit in hand:\n",
    "        if rank not in D:\n",
    "            D[rank]=0\n",
    "        D[rank]+=1\n",
    "    C={i:0 for i in range(1,5)}\n",
    "    for rank,count in D.items():\n",
    "        C[count]+=1\n",
    "    return C"
   ]
  },
  {
   "cell_type": "code",
   "execution_count": 6,
   "metadata": {
    "collapsed": false,
    "deletable": true,
    "editable": true,
    "run_control": {
     "frozen": false,
     "read_only": false
    }
   },
   "outputs": [
    {
     "name": "stdout",
     "output_type": "stream",
     "text": [
      "[(6, 'H'), (6, 'S'), (6, 'C'), (6, 'D'), (7, 'H')]\n"
     ]
    },
    {
     "data": {
      "text/plain": [
       "{1: 1, 2: 0, 3: 0, 4: 1}"
      ]
     },
     "execution_count": 6,
     "metadata": {},
     "output_type": "execute_result"
    }
   ],
   "source": [
    "hand=[(6,s) for s in suits]+[(7,'H')]\n",
    "print hand\n",
    "count_by_rank(hand)"
   ]
  },
  {
   "cell_type": "code",
   "execution_count": 7,
   "metadata": {
    "collapsed": true,
    "deletable": true,
    "editable": true,
    "run_control": {
     "frozen": false,
     "read_only": false
    }
   },
   "outputs": [],
   "source": [
    "def two_of_a_kind(hand):\n",
    "    counts=count_by_rank(hand)\n",
    "    return counts[2]==1 and counts[3]==0"
   ]
  },
  {
   "cell_type": "code",
   "execution_count": 8,
   "metadata": {
    "collapsed": false,
    "deletable": true,
    "editable": true,
    "run_control": {
     "frozen": false,
     "read_only": false
    }
   },
   "outputs": [],
   "source": [
    "def four_of_a_kind(hand):\n",
    "    counts=count_by_rank(hand)\n",
    "    return counts[4]==1"
   ]
  },
  {
   "cell_type": "code",
   "execution_count": 9,
   "metadata": {
    "collapsed": false,
    "deletable": true,
    "editable": true,
    "run_control": {
     "frozen": false,
     "read_only": false
    }
   },
   "outputs": [],
   "source": [
    "def three_of_a_kind(hand):\n",
    "    counts=count_by_rank(hand)\n",
    "    return counts[3]==1 and counts[2]==0"
   ]
  },
  {
   "cell_type": "code",
   "execution_count": 10,
   "metadata": {
    "collapsed": true,
    "deletable": true,
    "editable": true,
    "run_control": {
     "frozen": false,
     "read_only": false
    }
   },
   "outputs": [],
   "source": [
    "def full_house(hand):  #a two and a three\n",
    "    counts=count_by_rank(hand)\n",
    "    return counts[2]==1 and counts[3]==1"
   ]
  },
  {
   "cell_type": "code",
   "execution_count": 11,
   "metadata": {
    "collapsed": false,
    "deletable": true,
    "editable": true,
    "run_control": {
     "frozen": false,
     "read_only": false
    }
   },
   "outputs": [],
   "source": [
    "def calc_prob(cond,n=1000,k=100):\n",
    "    P_est=[]\n",
    "    for j in range(k):\n",
    "        hits=0\n",
    "        for i in range(n):\n",
    "            hand=random.permutation(cards)[:5]\n",
    "            hits+=cond(hand)\n",
    "        P_est.append(float(hits)/n)\n",
    "    return P_est"
   ]
  },
  {
   "cell_type": "code",
   "execution_count": 12,
   "metadata": {
    "collapsed": false,
    "deletable": true,
    "editable": true,
    "run_control": {
     "frozen": false,
     "read_only": false
    }
   },
   "outputs": [
    {
     "data": {
      "image/png": "[encoded data removed]",
      "text/plain": [
       "<matplotlib.figure.Figure at 0x116351d10>"
      ]
     },
     "metadata": {},
     "output_type": "display_data"
    }
   ],
   "source": [
    "H=calc_prob(two_of_a_kind)\n",
    "hist(H);"
   ]
  },
  {
   "cell_type": "code",
   "execution_count": 13,
   "metadata": {
    "collapsed": false,
    "deletable": true,
    "editable": true,
    "run_control": {
     "frozen": false,
     "read_only": false
    }
   },
   "outputs": [],
   "source": [
    "# calculate the probabilities exactly\n",
    "from math import exp,factorial\n",
    "from scipy.special import gammaln"
   ]
  },
  {
   "cell_type": "code",
   "execution_count": 22,
   "metadata": {
    "collapsed": true,
    "deletable": true,
    "editable": true,
    "run_control": {
     "frozen": false,
     "read_only": false
    }
   },
   "outputs": [],
   "source": [
    "def C(n,k):\n",
    "    a=gammaln(n+1)-gammaln(k+1)-gammaln(n-k+1)\n",
    "    return int(round(exp(a)))\n",
    "\n",
    "C(4,2)"
   ]
  },
  {
   "cell_type": "code",
   "execution_count": 18,
   "metadata": {
    "collapsed": false,
    "deletable": true,
    "editable": true,
    "run_control": {
     "frozen": false,
     "read_only": false
    }
   },
   "outputs": [
    {
     "data": {
      "text/plain": [
       "2598960"
      ]
     },
     "execution_count": 18,
     "metadata": {},
     "output_type": "execute_result"
    }
   ],
   "source": [
    "combination(52,5)"
   ]
  },
  {
   "cell_type": "markdown",
   "metadata": {},
   "source": [
    "### Compute the probability of  two of a kind\n",
    "Order of choices:\n",
    "1. choose the rank of the pair: $13$\n",
    "2. choose the suits of the pair: $C(4,2)=6$\n",
    "3. choose the ranks of the three singles: $C(12,3)$\n",
    "4. choose the suits of the three singles: $4^3$ "
   ]
  },
  {
   "cell_type": "code",
   "execution_count": 25,
   "metadata": {
    "collapsed": false,
    "deletable": true,
    "editable": true,
    "run_control": {
     "frozen": false,
     "read_only": false
    }
   },
   "outputs": [
    {
     "data": {
      "text/plain": [
       "0.4225690276110444"
      ]
     },
     "execution_count": 25,
     "metadata": {},
     "output_type": "execute_result"
    }
   ],
   "source": [
    "((13.*C(4,2))*C(12,3)*4**3)/C(52,5)"
   ]
  },
  {
   "cell_type": "code",
   "execution_count": 20,
   "metadata": {
    "collapsed": false,
    "deletable": true,
    "editable": true,
    "run_control": {
     "frozen": false,
     "read_only": false
    }
   },
   "outputs": [
    {
     "data": {
      "text/plain": [
       "102960.0"
      ]
     },
     "execution_count": 20,
     "metadata": {},
     "output_type": "execute_result"
    }
   ],
   "source": []
  },
  {
   "cell_type": "code",
   "execution_count": null,
   "metadata": {
    "collapsed": true
   },
   "outputs": [],
   "source": []
  }
 ],
 "metadata": {
  "anaconda-cloud": {},
  "kernelspec": {
   "display_name": "Python [conda root]",
   "language": "python",
   "name": "conda-root-py"
  },
  "language_info": {
   "codemirror_mode": {
    "name": "ipython",
    "version": 2
   },
   "file_extension": ".py",
   "mimetype": "text/x-python",
   "name": "python",
   "nbconvert_exporter": "python",
   "pygments_lexer": "ipython2",
   "version": "2.7.13"
  },
  "toc": {
   "colors": {
    "hover_highlight": "#DAA520",
    "running_highlight": "#FF0000",
    "selected_highlight": "#FFD700"
   },
   "moveMenuLeft": true,
   "nav_menu": {
    "height": "30px",
    "width": "252px"
   },
   "navigate_menu": true,
   "number_sections": true,
   "sideBar": true,
   "threshold": 4,
   "toc_cell": false,
   "toc_section_display": "block",
   "toc_window_display": false
  }
 },
 "nbformat": 4,
 "nbformat_minor": 2
}
