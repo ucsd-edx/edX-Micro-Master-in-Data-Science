{
 "cells": [
  {
   "cell_type": "markdown",
   "metadata": {},
   "source": [
    "<font size=\"4\" style=\"color:red;\"> **IMPORTANT: ** When submitting this homework notebook, please modify only the cells that start with:</font>\n",
    "\n",
    "```python\n",
    "# modify this cell\n",
    "```\n",
    "\n",
    "<font style=\"color:red;\"> Do not add any new cells. To test out new code, use the coding **scratchpad** by clicking the triangular icon in the bottom right corner of the screen. (**hotkey:** control-B)  </font>"
   ]
  },
  {
   "cell_type": "markdown",
   "metadata": {},
   "source": [
    "# $k$-compositions of a natural number $n$\n",
    "A $k$-composition of a number $n\\in\\mathcal{N}$ is a tuple of $k$ natural numbers $(a_1, a_2,\\ldots, a_k)$ such that $a_1+a_2+\\ldots +a_k=n$."
   ]
  },
  {
   "cell_type": "markdown",
   "metadata": {},
   "source": [
    "## Problem 1"
   ]
  },
  {
   "cell_type": "markdown",
   "metadata": {},
   "source": [
    "Write a function **compositions** that takes two natural numbers $k$ and $n$ as inputs and returns the set of all $k$-compositions of $n$. The output must be a set of tuples, each tuple being a $k$-composition of $n$.\n",
    "\n",
    "<font  style=\"color:blue\"> * **Test Code:** *</font>\n",
    "```python\n",
    "compositions(3, 4)\n",
    "```\n",
    "\n",
    "\n",
    "<font  style=\"color:magenta\"> * **Expected Output (value depends on the inputs):** *</font>\n",
    "```python\n",
    "{(1, 1, 2), (1, 2, 1), (2, 1, 1)}\n",
    "```"
   ]
  },
  {
   "cell_type": "code",
   "execution_count": 1,
   "metadata": {
    "scrolled": true
   },
   "outputs": [
    {
     "ename": "SyntaxError",
     "evalue": "unexpected EOF while parsing (<ipython-input-1-d5239f7baeab>, line 11)",
     "output_type": "error",
     "traceback": [
      "\u001b[0;36m  File \u001b[0;32m\"<ipython-input-1-d5239f7baeab>\"\u001b[0;36m, line \u001b[0;32m11\u001b[0m\n\u001b[0;31m    # modify this cell\u001b[0m\n\u001b[0m                      ^\u001b[0m\n\u001b[0;31mSyntaxError\u001b[0m\u001b[0;31m:\u001b[0m unexpected EOF while parsing\n"
     ]
    }
   ],
   "source": [
    "# modify this cell\n",
    "\n",
    "def compositions(k, n):\n",
    "    # inputs: k and n are of type 'int'\n",
    "    # output: a set of tuples\n",
    "    \n",
    "    ### BEGIN SOLUTION\n",
    "    \n",
    "    ### END SOLUTION\n",
    "\n",
    "# modify this cell"
   ]
  },
  {
   "cell_type": "code",
   "execution_count": null,
   "metadata": {
    "collapsed": true
   },
   "outputs": [],
   "source": [
    "# Check Function\n",
    "\n",
    "assert (# please complete this)\n",
    "\n",
    "### BEGIN HIDDEN TESTS\n",
    "# please complete this\n",
    "### END HIDDEN TESTS"
   ]
  },
  {
   "cell_type": "markdown",
   "metadata": {
    "collapsed": true
   },
   "source": [
    "## Problem 2"
   ]
  },
  {
   "cell_type": "markdown",
   "metadata": {},
   "source": [
    "For a $k$-length vector $\\boldsymbol{m}$ of natural numbers, a $k$-composition of $n$ is said to be an $\\boldsymbol{m}$-constrained $k$-composition if it satisfies the constraints $a_i\\leq m_i$ for $i\\in\\{1, 2, \\ldots, k\\}$. Write a function **constrained_compositions** that takes a natural number $n$ and a vector of natural numbers $\\boldsymbol{m}$ as inputs and returns the set of all $\\boldsymbol m$-constrained $k$-compositions of $n$. Note that $k$ need not be given as an input argument. Like in the previous problem, the output of your function must be a set of tuples. You are allowed to invoke the function **compositions**.\n",
    "\n",
    "<font  style=\"color:blue\"> * **Test Code:** *</font>\n",
    "```python\n",
    "constrained_compositions(7, [3, 2, 5])\n",
    "```\n",
    "\n",
    "\n",
    "<font  style=\"color:magenta\"> * **Expected Output (value depends on the inputs):** *</font>\n",
    "```\n",
    "{(1, 1, 5), (1, 2, 4), (2, 1, 4), (2, 2, 3), (3, 1, 3), (3, 2, 2)}\n",
    "```"
   ]
  },
  {
   "cell_type": "code",
   "execution_count": null,
   "metadata": {
    "collapsed": true
   },
   "outputs": [],
   "source": [
    "# modify this cell\n",
    "\n",
    "def constrained_compositions(n, m):\n",
    "    # inputs: n is of type 'int' and m is a list of integers\n",
    "    # output: a set of tuples\n",
    "    \n",
    "    ### BEGIN SOLUTION\n",
    "    \n",
    "    ### END SOLUTION\n",
    "\n",
    "# modify this cell"
   ]
  },
  {
   "cell_type": "code",
   "execution_count": null,
   "metadata": {
    "collapsed": true
   },
   "outputs": [],
   "source": [
    "# Check Function\n",
    "\n",
    "assert (# please complete this)\n",
    "\n",
    "### BEGIN HIDDEN TESTS\n",
    "# please complete this\n",
    "### END HIDDEN TESTS"
   ]
  }
 ],
 "metadata": {
  "kernelspec": {
   "display_name": "Python 2",
   "language": "python",
   "name": "python2"
  },
  "language_info": {
   "codemirror_mode": {
    "name": "ipython",
    "version": 2
   },
   "file_extension": ".py",
   "mimetype": "text/x-python",
   "name": "python",
   "nbconvert_exporter": "python",
   "pygments_lexer": "ipython2",
   "version": "2.7.13"
  },
  "toc": {
   "colors": {
    "hover_highlight": "#DAA520",
    "navigate_num": "#000000",
    "navigate_text": "#333333",
    "running_highlight": "#FF0000",
    "selected_highlight": "#FFD700",
    "sidebar_border": "#EEEEEE",
    "wrapper_background": "#FFFFFF"
   },
   "moveMenuLeft": true,
   "nav_menu": {
    "height": "48px",
    "width": "252px"
   },
   "navigate_menu": true,
   "number_sections": true,
   "sideBar": true,
   "threshold": 4,
   "toc_cell": false,
   "toc_section_display": "block",
   "toc_window_display": false,
   "widenNotebook": false
  }
 },
 "nbformat": 4,
 "nbformat_minor": 2
}
