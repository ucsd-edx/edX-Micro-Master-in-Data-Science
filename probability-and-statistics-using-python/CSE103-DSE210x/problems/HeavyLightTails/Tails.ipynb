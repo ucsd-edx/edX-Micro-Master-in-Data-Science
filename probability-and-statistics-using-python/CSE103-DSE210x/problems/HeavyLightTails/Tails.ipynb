{
 "cells": [
  {
   "cell_type": "code",
   "execution_count": 1,
   "metadata": {
    "collapsed": false
   },
   "outputs": [
    {
     "name": "stdout",
     "output_type": "stream",
     "text": [
      "Untitled.ipynb      sample_checkbox.imd\r\n"
     ]
    }
   ],
   "source": [
    "!ls"
   ]
  },
  {
   "cell_type": "code",
   "execution_count": null,
   "metadata": {
    "collapsed": true
   },
   "outputs": [],
   "source": []
  },
  {
   "cell_type": "code",
   "execution_count": 1,
   "metadata": {
    "collapsed": false
   },
   "outputs": [
    {
     "name": "stdout",
     "output_type": "stream",
     "text": [
      "Overwriting TailsPosIntegers.imd\n"
     ]
    }
   ],
   "source": [
    "%%writefile TailsPosIntegers.imd\n",
    "### Light and Heavy tails over the positive integers\n",
    "The Random Variable $X$ has a point mass distribution over the natural numbers (the positive integers).\n",
    "In each of the following \n",
    "parts you are given an expression that defines the probability of each integer. The normalizing factor $z$ is \n",
    "a number that ensures that the probability of the whole space is one. \n",
    "\n",
    "Recall that \n",
    "\n",
    "* when summing over the positive integers $\\sum_{i =1}^{\\infty} \\frac{1}{i^\\alpha}$ is infinite if $0<\\alpha \\leq 1$ and is finite for $\\alpha>1$.\n",
    "\n",
    "For each expression, check the true \n",
    "statements. (if the distribution is note well defined, then the expected value and the variance are also undefined.)\n",
    "\n",
    "---\n",
    "\n",
    "1] $$ P(X=i) = 1/(z i^4) $$\n",
    "\n",
    "[x] This is a well defined distribution  \n",
    "[x] The expected value of the distribution is finite.  \n",
    "[ ] The expected value of the distribution is infinite.  \n",
    "[ ] The expected value of the distribution is undefined.  \n",
    "[x] The variance of the distribution is finite.  \n",
    "[ ] The variance of the distribution is infinite.   \n",
    "[ ] The variance of the distribution is undefined.\n",
    "\n",
    "2] $$ P(X=i) = 1/(z i^3) $$\n",
    "\n",
    "[x] This is a well defined distribution  \n",
    "[x] The expected value of the distribution is finite.  \n",
    "[ ] The expected value of the distribution is infinite.  \n",
    "[ ] The expected value of the distribution is undefined.  \n",
    "[ ] The variance of the distribution is finite.  \n",
    "[x] The variance of the distribution is infinite.   \n",
    "[ ] The variance of the distribution is undefined.\n",
    "\n",
    "3] $$ P(X=i) = 1/(z i^2) $$\n",
    "\n",
    "[x] This is a well defined distribution  \n",
    "[ ] The expected value of the distribution is finite.  \n",
    "[x] The expected value of the distribution is infinite.  \n",
    "[ ] The expected value of the distribution is undefined.  \n",
    "[ ] The variance of the distribution is finite.  \n",
    "[x] The variance of the distribution is infinite.   \n",
    "[ ] The variance of the distribution is undefined.\n",
    "\n",
    "4] $$ P(X=i) = 1/(z i) $$\n",
    "\n",
    "[ ] This is a well defined distribution  \n",
    "[ ] The expected value of the distribution is finite.  \n",
    "[ ] The expected value of the distribution is infinite.  \n",
    "[x] The expected value of the distribution is undefined.  \n",
    "[ ] The variance of the distribution is finite.  \n",
    "[ ] The variance of the distribution is infinite.   \n",
    "[x] The variance of the distribution is undefined.\n"
   ]
  },
  {
   "cell_type": "code",
   "execution_count": 2,
   "metadata": {
    "collapsed": false
   },
   "outputs": [
    {
     "name": "stdout",
     "output_type": "stream",
     "text": [
      "Overwriting TailsAllIntegers.imd\n"
     ]
    }
   ],
   "source": [
    "%%writefile TailsAllIntegers.imd\n",
    "### Light and Heavy tails over positive and negative integers\n",
    "\n",
    "The Random Variable $X$ has a point mass distribution over the integers. In each of the following \n",
    "parts you are given an expression that defines the probability of each integer. The normalizing factor $z$ is \n",
    "a number that ensures that the probability of the whole space is one. \n",
    "Recall that \n",
    "\n",
    "* when summing over the positive integers $\\sum_{i =1}^{\\infty} \\frac{1}{i^\\alpha}$ is infinite if $0<\\alpha \\leq 1$ and is finite for $\\alpha>1$.\n",
    "* When summing over all integers (other than zero) $ \\sum_{i \\neq 0} \\frac{1}{i^\\alpha}$ the sum is **undefined** if $0<\\alpha \\leq 1$ and is finite for $\\alpha>1$.\n",
    "\n",
    "For each expression, check the true \n",
    "statements. (if the distribution is note well defined, then the expected value and the variance are also undefined.\n",
    "\n",
    "---\n",
    "\n",
    "$$ P(X=i) = \\begin{cases} \\text{if $i \\neq 0$} & 1/(z |i|^4) \\\\\n",
    "                          \\text{if $i = 0$} & 0 \\end{cases} $$\n",
    "\n",
    "[x] This is a well defined distribution  \n",
    "[x] The expected value of the distribution is finite.  \n",
    "[ ] The expected value of the distribution is infinite.  \n",
    "[ ] The expected value of the distribution is undefined.  \n",
    "[x] The variance of the distribution is finite.  \n",
    "[ ] The variance of the distribution is infinite.     \n",
    "[ ] The variance of the distribution is undefined.  \n",
    "\n",
    "$$ P(X=i) = \\begin{cases} \\text{if $i \\neq 0$} & 1/(z |i|^3) \\\\\n",
    "                          \\text{if $i = 0$} & 0 \\end{cases} $$\n",
    "\n",
    "[x] This is a well defined distribution  \n",
    "[x] The expected value of the distribution is finite.  \n",
    "[ ] The expected value of the distribution is infinite.  \n",
    "[ ] The expected value of the distribution is undefined.  \n",
    "[ ] The variance of the distribution is finite.  \n",
    "[x] The variance of the distribution is infinite.   \n",
    "[ ] The variance of the distribution is undefined.  \n",
    "\n",
    "$$ P(X=i) = \\begin{cases} \\text{if $i \\neq 0$} & 1/(z |i|^2) \\\\\n",
    "                          \\text{if $i = 0$} & 0 \\end{cases} $$\n",
    "\n",
    "[x] This is a well defined distribution  \n",
    "[ ] The expected value of the distribution is finite.  \n",
    "[ ] The expected value of the distribution is infinite.  \n",
    "[x] The expected value of the distribution is undefined.  \n",
    "[ ] The variance of the distribution is finite.  \n",
    "[x] The variance of the distribution is infinite.   \n",
    "[ ] The variance of the distribution is undefined.   \n",
    "\n",
    "$$ P(X=i) = \\begin{cases} \\text{if $i \\neq 0$} & 1/(z |i|) \\\\\n",
    "                          \\text{if $i = 0$} & 0 \\end{cases} $$\n",
    "\n",
    "[ ] This is a well defined distribution  \n",
    "[ ] The expected value of the distribution is finite.  \n",
    "[ ] The expected value of the distribution is infinite.  \n",
    "[x] The expected value of the distribution is undefined.  \n",
    "[ ] The variance of the distribution is finite.  \n",
    "[ ] The variance of the distribution is infinite.   \n",
    "[x] The variance of the distribution is undefined.   "
   ]
  },
  {
   "cell_type": "code",
   "execution_count": null,
   "metadata": {
    "collapsed": true
   },
   "outputs": [],
   "source": []
  }
 ],
 "metadata": {
  "kernelspec": {
   "display_name": "Python 2",
   "language": "python",
   "name": "python2"
  },
  "language_info": {
   "codemirror_mode": {
    "name": "ipython",
    "version": 2
   },
   "file_extension": ".py",
   "mimetype": "text/x-python",
   "name": "python",
   "nbconvert_exporter": "python",
   "pygments_lexer": "ipython2",
   "version": "2.7.12"
  }
 },
 "nbformat": 4,
 "nbformat_minor": 0
}
