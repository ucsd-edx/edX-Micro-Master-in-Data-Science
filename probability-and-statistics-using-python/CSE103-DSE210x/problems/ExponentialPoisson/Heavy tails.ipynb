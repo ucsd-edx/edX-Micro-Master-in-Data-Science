{
 "cells": [
  {
   "cell_type": "code",
   "execution_count": 6,
   "metadata": {
    "collapsed": false
   },
   "outputs": [
    {
     "name": "stdout",
     "output_type": "stream",
     "text": [
      "Overwriting Paretto.imd\n"
     ]
    }
   ],
   "source": [
    "%%writefile Paretto.imd\n",
    "```python\n",
    "# random variables (no need to import random library)\n",
    "import math\n",
    "\n",
    "ans1 = 0\n",
    "mu = 0 \n",
    "a = 0\n",
    "x = 0\n",
    "lambd = 0\n",
    "while (0.002 > ans1) :\n",
    "    mu = random.randrange(50,70,5) / 10.\n",
    "    lambd = 1. / mu\n",
    "    a = random.randrange(9,12,1)\n",
    "    x = lambd * a\n",
    "    ans1 = math.exp(x)\n",
    "    k=random.randrange(3,7,1)\n",
    "\n",
    "# Solutions with variables converted to string\n",
    "# Make sure you name the solution with part id at the end. e.g. 'solution1' will be solution for part 1.\n",
    "solution1 = \"e^{{(-1/{0} * {1})}}\".format(mu,a)\n",
    "solution2 = \"e^{{(-{0})}}*({0}^{{({1})}})/({1}!)\".format(lambd*10.,k)\n",
    "\n",
    "# Group all solutions into a list\n",
    "solutions = [solution1,solution2]\n",
    "\n",
    "```\n",
    "\n",
    "### Time serviced by the  Cashier\n",
    "\n",
    "The manager of a supermarket tracked the amount of time needed\n",
    "for customers to be served by the cashier.  After checking with\n",
    "his statistics professor, he concluded that the checkout times\n",
    "are exponentially distributed with a mean of $\\$mu$ minutes.  What\n",
    "propotion of customers require more than $\\$a$ minutes to check out?\n",
    "\n",
    "\n",
    "* Proportion =\n",
    "\n",
    "[_]\n",
    "\n",
    "* What is the probability that exactly $\\$k$ customers were serviced between 10am and 10:10am ?\n",
    "(Hint, this number has a Poisson distribution).\n",
    "\n",
    "(we count customers whose service **started** between 10am and 10:10am but not customers whose service period started before 10am and ended after 10am)\n",
    "\n",
    "[_]"
   ]
  },
  {
   "cell_type": "code",
   "execution_count": null,
   "metadata": {
    "collapsed": true
   },
   "outputs": [],
   "source": []
  }
 ],
 "metadata": {
  "kernelspec": {
   "display_name": "Python 2",
   "language": "python",
   "name": "python2"
  },
  "language_info": {
   "codemirror_mode": {
    "name": "ipython",
    "version": 2
   },
   "file_extension": ".py",
   "mimetype": "text/x-python",
   "name": "python",
   "nbconvert_exporter": "python",
   "pygments_lexer": "ipython2",
   "version": "2.7.9"
  }
 },
 "nbformat": 4,
 "nbformat_minor": 0
}
