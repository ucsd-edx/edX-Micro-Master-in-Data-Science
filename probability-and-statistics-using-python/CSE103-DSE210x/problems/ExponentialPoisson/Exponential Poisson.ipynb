{
 "cells": [
  {
   "cell_type": "code",
   "execution_count": 61,
   "metadata": {
    "collapsed": false
   },
   "outputs": [
    {
     "name": "stdout",
     "output_type": "stream",
     "text": [
      "Exponential Poisson.ipynb \u001b[31mpoisson_zz.md\u001b[m\u001b[m             \u001b[31mur_pb_9_4.md\u001b[m\u001b[m\r\n",
      "\u001b[31mpoisson_rs.md\u001b[m\u001b[m             \u001b[31mstat212.md\u001b[m\u001b[m\r\n"
     ]
    }
   ],
   "source": [
    "import random\n",
    "!ls"
   ]
  },
  {
   "cell_type": "code",
   "execution_count": 19,
   "metadata": {
    "collapsed": false
   },
   "outputs": [
    {
     "name": "stdout",
     "output_type": "stream",
     "text": [
      "Overwriting poisson_zz.imd\n"
     ]
    }
   ],
   "source": [
    "%%writefile poisson_zz.imd\n",
    "```python\n",
    "# random variables (no need to import random library)\n",
    "x = random.randrange(8,10,1);\n",
    "X = x*x;\n",
    "y = random.randrange(1,5,1);\n",
    "t=random.randrange(1,4,1)\n",
    "lambd = 400./X;\n",
    "\n",
    "for name in ['x','X','y','lambd','t']:\n",
    "    print name,locals()[name]\n",
    "\n",
    "\n",
    "# Solutions with variables converted to string\n",
    "# Make sure you name the solution with part id at the end. e.g. 'solution1' will be solution for part 1.\n",
    "solution1 = \"400/{0}\".format(X)\n",
    "solution2 = \"e^{{(-400/{0})}}*(400/{0})^{{({1})}}/({1}!)\".format(X,y)\n",
    "solution3 = \"({0}*{0})*(e^{{(-400/{1})}}*(400/{1})^{{({2})}}/({2}!))\".format(x,X,y)\n",
    "solution4 = \"1-e^{{(-400/{0}*{1}/24)}}\".format(X,t)\n",
    "\n",
    "# Group all solutions into a list\n",
    "solutions = [solution1, solution2, solution3, solution4]\n",
    "solutions\n",
    "```\n",
    "\n",
    "## Probability of getting hit by a bomb\n",
    "You will be using Poisson and exponential Distributions in this problem. \n",
    "\n",
    "Assume that you live in a city district that is being bombed. The district is divided into $\\$x \\times \\$x$ city blocks of equal area. In other words, the district is divided into $\\$X$ equal area city blocks. \n",
    "\n",
    "Assume that the blocks have equal probability of being hit by each bomb. Therefor the probability of each bomb to hit your block is $1/\\$X$. Finaly suppose that the rate of bombing averages $400$ bombs per day.\n",
    "\n",
    "### Background\n",
    "The random process describing the times that the bombs fall is a Poisson process.\n",
    "\n",
    "This means two things:\n",
    "\n",
    "1. The probability that your block is hit by $\\$k$ bombs in a 24 hour period is:\n",
    "$$\\Pr(X=k) = e^{-\\lambda} \\frac{\\lambda^k}{k!}$$\n",
    "\n",
    "2. The time difference between two consecutive bombs ($\\Delta$) is distributed according to the density function:\n",
    "$$ f(\\Delta) = \\frac{1}{\\lambda} e^{-\\lambda \\Delta} $$\n",
    "and by the cumulative probability distribution:\n",
    "$$ F(\\Delta) = 1-e^{-\\lambda \\Delta}$$\n",
    "\n",
    "### Questions\n",
    "\n",
    "* What is rate parameter $\\lambda$ in the Poisson Distribution that corresponds to bomb landing on your district?\n",
    "\n",
    "[_]\n",
    "\n",
    "* What is the probability that your square will receive exactly $\\$y$ hits in a 24 hour period?\n",
    "\n",
    "[_]\n",
    "\n",
    "* What is the expected number of city blocks that will receive exactly $\\$y$ hits in a 24 hour period?\n",
    "\n",
    "[_]\n",
    "\n",
    "* What is the probability that the time between consecutive hits will be shorter than $\\$t$ hours?\n",
    "\n",
    "[_]"
   ]
  },
  {
   "cell_type": "code",
   "execution_count": 20,
   "metadata": {
    "collapsed": false
   },
   "outputs": [
    {
     "name": "stdout",
     "output_type": "stream",
     "text": [
      "Overwriting poisson_rs.imd\n"
     ]
    }
   ],
   "source": [
    "%%writefile poisson_rs.imd\n",
    "```python\n",
    "# random variables (no need to import random library)\n",
    "\n",
    "k = 0.0+random.randrange(1,2,1);\n",
    "r = 0.0+random.randrange(1,2,1);\n",
    "a = 0.0+random.randrange(800,1200,100);\n",
    "select = 0.0+random.randrange(8,15,1);\n",
    "s = (1.*a)/10;\n",
    "\n",
    "j = 0.0+random.randrange(1,3,1);\n",
    "\n",
    "x = 0.0+random.randrange(12,15,1);\n",
    "y = 0.0+random.randrange(5,6,1);\n",
    "\n",
    "for name in ['k','r','a','select','s','j','x','y']:\n",
    "    print name,locals()[name]\n",
    "\n",
    "\n",
    "# Solutions with variables converted to string\n",
    "# Make sure you name the solution with part id at the end. e.g. 'solution1' will be solution for part 1.\n",
    "solution1 = \"{0}*1/{1}\".format(s,a)\n",
    "solution2 = \"e^{{(-.1)}}*(.1)^{{({0})}}/{0}!\".format(j)\n",
    "solution3 = \"e^{{(-{0}/{0})}}\".format(s)\n",
    "\n",
    "# Group all solutions into a list\n",
    "solutions = [solution1,solution2,solution3]\n",
    "print 'solutions=\\n','\\n'.join([\"%2d: %s\"%(i,solutions[i]) for i in range(len(solutions))])\n",
    "```\n",
    "\n",
    "### Typesetting errors\n",
    "\n",
    "There is a typesetter who, on average, makes one mistake per $\\$a$ words. \n",
    "Assume that he is setting a book with $\\$s$ words to a page. Let $S$ be a random variable corresponding to the number of mistakes that the typesetter makes on a single page.\n",
    "\n",
    "Strictly speaking, the distribution of the mistakes is a binomial distribution, because, the number of mistakes is at most the number of words. However as $\\$a$ and $\\$s$ are large numbers, we can approximate the distribution as a Poisson process.\n",
    "\n",
    "* What is the expected number of mistakes per page? $E(S)=$?\n",
    "\n",
    "[_]\n",
    "\n",
    "* What is the probability that  $S = \\$j$?\n",
    "\n",
    "[_]\n",
    "\n",
    "* What is the probability that the number of words from one mistake to the next is at least $\\$s$?\n",
    "\n",
    "[_]"
   ]
  },
  {
   "cell_type": "code",
   "execution_count": 27,
   "metadata": {
    "collapsed": false
   },
   "outputs": [
    {
     "name": "stdout",
     "output_type": "stream",
     "text": [
      "Overwriting stat212.imd\n"
     ]
    }
   ],
   "source": [
    "%%writefile stat212.imd\n",
    "```python\n",
    "# random variables (no need to import random library)\n",
    "import math\n",
    "\n",
    "ans1 = 0\n",
    "mu = 0 \n",
    "a = 0\n",
    "x = 0\n",
    "lambd = 0\n",
    "while (0.002 > ans1) :\n",
    "    mu = random.randrange(50,70,5) / 10.\n",
    "    lambd = 1. / mu\n",
    "    a = random.randrange(9,12,1)\n",
    "    x = lambd * a\n",
    "    ans1 = math.exp(x)\n",
    "    k=random.randrange(3,7,1)\n",
    "\n",
    "# Solutions with variables converted to string\n",
    "# Make sure you name the solution with part id at the end. e.g. 'solution1' will be solution for part 1.\n",
    "solution1 = \"e^{{(-1/{0} * {1})}}\".format(mu,a)\n",
    "solution2 = \"e^{{(-1/{0}*10)}}*((-1/{0}*10)^{{{1}}})/({1}!)\".format(mu,k)\n",
    "\n",
    "# Group all solutions into a list\n",
    "solutions = [solution1,solution2]\n",
    "\n",
    "```\n",
    "\n",
    "### Time serviced by the  Cashier\n",
    "\n",
    "The manager of a supermarket tracked the amount of time needed for customers to be served by the cashier.  After checking with his statistics professor, he concluded that the checkout times are exponentially distributed with a mean of $\\$mu$ minutes.  What propotion of customers require more than $\\$a$ minutes to check out?\n",
    "\n",
    "* Proportion =\n",
    "\n",
    "[_]\n",
    "\n",
    "* What is the probability that exactly $\\$k$ customers were serviced between 10am and 10:10am ? (Hint, this number has a Poisson distribution).\n",
    "\n",
    "(we count customers whose service **started** between 10am and 10:10am but not customers whose service period started before 10am and ended after 10am)\n",
    "\n",
    "[_]"
   ]
  },
  {
   "cell_type": "code",
   "execution_count": 28,
   "metadata": {
    "collapsed": false
   },
   "outputs": [
    {
     "name": "stdout",
     "output_type": "stream",
     "text": [
      "Overwriting ur_pb_9_4.imd\n"
     ]
    }
   ],
   "source": [
    "%%writefile ur_pb_9_4.imd\n",
    "```python\n",
    "# random variables (no need to import random library)\n",
    "a = random.randrange(10,50,1) / 10\n",
    "b = random.randrange(10,50,1) / 10\n",
    "\n",
    "while (0.5 > abs(a - b)):\n",
    "    b = random.randrange(10,50,1) / 10\n",
    "\n",
    "# Solutions with variables converted to string\n",
    "# Make sure you name the solution with part id at the end. e.g. 'solution1' will be solution for part 1.\n",
    "solution1 = \"(e^{{(-{0})}} + e^{{(-{1}))}}/2\".format(a,b)\n",
    "\n",
    "\n",
    "# Group all solutions into a list\n",
    "solutions = [solution1]\n",
    "\n",
    "```\n",
    "\n",
    "### Two Typists\n",
    "\n",
    "A certain typing agency employs two typists. The average number of errors per article is\n",
    "$\\$a$ when typed by the first typist and $\\$b$ when typed by the second.\n",
    "\n",
    "* If your article is equally likely to be typed by either typist, find the probability\n",
    "that it will have no errors.\n",
    "\n",
    "[_]"
   ]
  },
  {
   "cell_type": "code",
   "execution_count": 74,
   "metadata": {
    "collapsed": false
   },
   "outputs": [],
   "source": [
    "!rm *.md"
   ]
  },
  {
   "cell_type": "code",
   "execution_count": 75,
   "metadata": {
    "collapsed": false
   },
   "outputs": [
    {
     "name": "stdout",
     "output_type": "stream",
     "text": [
      "total 64\r\n",
      "-rw-r--r--  1 yoavfreund  staff  11142 Nov 12 12:04 Exponential Poisson.ipynb\r\n",
      "-rw-r--r--  1 yoavfreund  staff   2830 Nov 12 12:06 Heavy tails.ipynb\r\n",
      "-rw-r--r--  1 yoavfreund  staff   1598 Nov 12 12:07 poisson_rs.imd\r\n",
      "-rw-r--r--  1 yoavfreund  staff   2228 Nov 12 12:07 poisson_zz.imd\r\n",
      "-rw-r--r--  1 yoavfreund  staff   1705 Nov 12 12:07 stat212.imd\r\n",
      "-rw-r--r--  1 yoavfreund  staff    775 Nov 12 12:07 ur_pb_9_4.imd\r\n"
     ]
    }
   ],
   "source": [
    "!ls -l"
   ]
  },
  {
   "cell_type": "code",
   "execution_count": null,
   "metadata": {
    "collapsed": true
   },
   "outputs": [],
   "source": []
  }
 ],
 "metadata": {
  "kernelspec": {
   "display_name": "Python 2",
   "language": "python",
   "name": "python2"
  },
  "language_info": {
   "codemirror_mode": {
    "name": "ipython",
    "version": 2
   },
   "file_extension": ".py",
   "mimetype": "text/x-python",
   "name": "python",
   "nbconvert_exporter": "python",
   "pygments_lexer": "ipython2",
   "version": "2.7.9"
  }
 },
 "nbformat": 4,
 "nbformat_minor": 0
}
