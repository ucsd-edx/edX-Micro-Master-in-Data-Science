{
 "cells": [
  {
   "cell_type": "code",
   "execution_count": 1,
   "metadata": {
    "collapsed": true
   },
   "outputs": [],
   "source": [
    "import pandas as pd\n",
    "import numpy as np"
   ]
  },
  {
   "cell_type": "code",
   "execution_count": 2,
   "metadata": {
    "collapsed": false
   },
   "outputs": [],
   "source": [
    "# Read JSON file into pandas\n",
    "content = pd.read_json(path_or_buf='file://localhost/media/shenting/DATA/cse103/class_content.json')"
   ]
  },
  {
   "cell_type": "code",
   "execution_count": 3,
   "metadata": {
    "collapsed": false,
    "scrolled": true
   },
   "outputs": [
    {
     "data": {
      "text/html": [
       "<div>\n",
       "<table border=\"1\" class=\"dataframe\">\n",
       "  <thead>\n",
       "    <tr style=\"text-align: right;\">\n",
       "      <th></th>\n",
       "      <th>change_log</th>\n",
       "      <th>children</th>\n",
       "      <th>config</th>\n",
       "      <th>created</th>\n",
       "      <th>folders</th>\n",
       "      <th>history</th>\n",
       "      <th>id</th>\n",
       "      <th>no_answer</th>\n",
       "      <th>no_answer_followup</th>\n",
       "      <th>nr</th>\n",
       "      <th>status</th>\n",
       "      <th>tag_good</th>\n",
       "      <th>tag_good_arr</th>\n",
       "      <th>tags</th>\n",
       "      <th>type</th>\n",
       "      <th>unique_views</th>\n",
       "    </tr>\n",
       "  </thead>\n",
       "  <tbody>\n",
       "    <tr>\n",
       "      <th>1341</th>\n",
       "      <td>[{u'data': u'iwu2h03rdxq5wz', u'anon': u'full'...</td>\n",
       "      <td>[{u'folders': [], u'created': u'2016-12-18T03:...</td>\n",
       "      <td>{}</td>\n",
       "      <td>2016-12-18T03:02:06Z</td>\n",
       "      <td>[other]</td>\n",
       "      <td>[{u'content': u'&lt;p&gt;Can the professor or a TA p...</td>\n",
       "      <td>iwu2h03pdo75wy</td>\n",
       "      <td>0</td>\n",
       "      <td>0</td>\n",
       "      <td>1361</td>\n",
       "      <td>active</td>\n",
       "      <td>[]</td>\n",
       "      <td>[]</td>\n",
       "      <td>[other, student]</td>\n",
       "      <td>question</td>\n",
       "      <td>95</td>\n",
       "    </tr>\n",
       "    <tr>\n",
       "      <th>1342</th>\n",
       "      <td>[{u'data': u'iwwo942qt6y5lj', u'anon': u'stud'...</td>\n",
       "      <td>[{u'folders': [], u'created': u'2016-12-19T22:...</td>\n",
       "      <td>{}</td>\n",
       "      <td>2016-12-19T22:47:22Z</td>\n",
       "      <td>[other]</td>\n",
       "      <td>[{u'content': u'&lt;p&gt;Has anyone&amp;#39;s grade chan...</td>\n",
       "      <td>iwwo942mgpu5li</td>\n",
       "      <td>0</td>\n",
       "      <td>0</td>\n",
       "      <td>1362</td>\n",
       "      <td>active</td>\n",
       "      <td>[]</td>\n",
       "      <td>[]</td>\n",
       "      <td>[other, student]</td>\n",
       "      <td>question</td>\n",
       "      <td>77</td>\n",
       "    </tr>\n",
       "    <tr>\n",
       "      <th>1343</th>\n",
       "      <td>[{u'data': u'iwxr6b1wyom1ul', u'anon': u'full'...</td>\n",
       "      <td>[{u'folders': [], u'created': u'2016-12-20T16:...</td>\n",
       "      <td>{}</td>\n",
       "      <td>2016-12-20T16:56:56Z</td>\n",
       "      <td>[logistics]</td>\n",
       "      <td>[{u'content': u'&lt;p&gt;I got an email saying my gr...</td>\n",
       "      <td>iwxr6b1tjve1uk</td>\n",
       "      <td>0</td>\n",
       "      <td>1</td>\n",
       "      <td>1363</td>\n",
       "      <td>active</td>\n",
       "      <td>[]</td>\n",
       "      <td>[]</td>\n",
       "      <td>[logistics, student]</td>\n",
       "      <td>question</td>\n",
       "      <td>55</td>\n",
       "    </tr>\n",
       "    <tr>\n",
       "      <th>1344</th>\n",
       "      <td>[{u'data': u'iwyeek4ni4x13h', u'anon': u'no', ...</td>\n",
       "      <td>[{u'folders': [], u'created': u'2016-12-21T04:...</td>\n",
       "      <td>{u'feed_groups': u'instr_it7pc762z71jl,itbnbhd...</td>\n",
       "      <td>2016-12-21T03:47:12Z</td>\n",
       "      <td>[other]</td>\n",
       "      <td>[{u'content': u'&lt;p&gt;My initial grade was A but ...</td>\n",
       "      <td>iwyeek4j23j13g</td>\n",
       "      <td>0</td>\n",
       "      <td>0</td>\n",
       "      <td>1364</td>\n",
       "      <td>active</td>\n",
       "      <td>[]</td>\n",
       "      <td>[]</td>\n",
       "      <td>[other, student]</td>\n",
       "      <td>question</td>\n",
       "      <td>5</td>\n",
       "    </tr>\n",
       "    <tr>\n",
       "      <th>1345</th>\n",
       "      <td>[{u'data': u'iwyl0k8p1ql4di', u'anon': u'no', ...</td>\n",
       "      <td>[{u'folders': [], u'created': u'2016-12-21T17:...</td>\n",
       "      <td>{u'feed_groups': u'instr_it7pc762z71jl,i0oe1xj...</td>\n",
       "      <td>2016-12-21T06:52:16Z</td>\n",
       "      <td>[other]</td>\n",
       "      <td>[{u'content': u'&lt;p&gt;I should have an A&amp;#43; acc...</td>\n",
       "      <td>iwyl0k8l9cr4dh</td>\n",
       "      <td>0</td>\n",
       "      <td>0</td>\n",
       "      <td>1365</td>\n",
       "      <td>active</td>\n",
       "      <td>[]</td>\n",
       "      <td>[]</td>\n",
       "      <td>[other, student]</td>\n",
       "      <td>question</td>\n",
       "      <td>6</td>\n",
       "    </tr>\n",
       "  </tbody>\n",
       "</table>\n",
       "</div>"
      ],
      "text/plain": [
       "                                             change_log  \\\n",
       "1341  [{u'data': u'iwu2h03rdxq5wz', u'anon': u'full'...   \n",
       "1342  [{u'data': u'iwwo942qt6y5lj', u'anon': u'stud'...   \n",
       "1343  [{u'data': u'iwxr6b1wyom1ul', u'anon': u'full'...   \n",
       "1344  [{u'data': u'iwyeek4ni4x13h', u'anon': u'no', ...   \n",
       "1345  [{u'data': u'iwyl0k8p1ql4di', u'anon': u'no', ...   \n",
       "\n",
       "                                               children  \\\n",
       "1341  [{u'folders': [], u'created': u'2016-12-18T03:...   \n",
       "1342  [{u'folders': [], u'created': u'2016-12-19T22:...   \n",
       "1343  [{u'folders': [], u'created': u'2016-12-20T16:...   \n",
       "1344  [{u'folders': [], u'created': u'2016-12-21T04:...   \n",
       "1345  [{u'folders': [], u'created': u'2016-12-21T17:...   \n",
       "\n",
       "                                                 config               created  \\\n",
       "1341                                                 {}  2016-12-18T03:02:06Z   \n",
       "1342                                                 {}  2016-12-19T22:47:22Z   \n",
       "1343                                                 {}  2016-12-20T16:56:56Z   \n",
       "1344  {u'feed_groups': u'instr_it7pc762z71jl,itbnbhd...  2016-12-21T03:47:12Z   \n",
       "1345  {u'feed_groups': u'instr_it7pc762z71jl,i0oe1xj...  2016-12-21T06:52:16Z   \n",
       "\n",
       "          folders                                            history  \\\n",
       "1341      [other]  [{u'content': u'<p>Can the professor or a TA p...   \n",
       "1342      [other]  [{u'content': u'<p>Has anyone&#39;s grade chan...   \n",
       "1343  [logistics]  [{u'content': u'<p>I got an email saying my gr...   \n",
       "1344      [other]  [{u'content': u'<p>My initial grade was A but ...   \n",
       "1345      [other]  [{u'content': u'<p>I should have an A&#43; acc...   \n",
       "\n",
       "                  id  no_answer  no_answer_followup    nr  status tag_good  \\\n",
       "1341  iwu2h03pdo75wy          0                   0  1361  active       []   \n",
       "1342  iwwo942mgpu5li          0                   0  1362  active       []   \n",
       "1343  iwxr6b1tjve1uk          0                   1  1363  active       []   \n",
       "1344  iwyeek4j23j13g          0                   0  1364  active       []   \n",
       "1345  iwyl0k8l9cr4dh          0                   0  1365  active       []   \n",
       "\n",
       "     tag_good_arr                  tags      type  unique_views  \n",
       "1341           []      [other, student]  question            95  \n",
       "1342           []      [other, student]  question            77  \n",
       "1343           []  [logistics, student]  question            55  \n",
       "1344           []      [other, student]  question             5  \n",
       "1345           []      [other, student]  question             6  "
      ]
     },
     "execution_count": 3,
     "metadata": {},
     "output_type": "execute_result"
    }
   ],
   "source": [
    "content.tail()"
   ]
  },
  {
   "cell_type": "code",
   "execution_count": 4,
   "metadata": {
    "collapsed": false
   },
   "outputs": [
    {
     "data": {
      "text/plain": [
       "1346"
      ]
     },
     "execution_count": 4,
     "metadata": {},
     "output_type": "execute_result"
    }
   ],
   "source": [
    "len(content)"
   ]
  },
  {
   "cell_type": "code",
   "execution_count": 54,
   "metadata": {
    "collapsed": false
   },
   "outputs": [],
   "source": [
    "content = content.set_index('nr')"
   ]
  },
  {
   "cell_type": "code",
   "execution_count": 51,
   "metadata": {
    "collapsed": false
   },
   "outputs": [
    {
     "data": {
      "text/html": [
       "<div>\n",
       "<table border=\"1\" class=\"dataframe\">\n",
       "  <thead>\n",
       "    <tr style=\"text-align: right;\">\n",
       "      <th></th>\n",
       "      <th>anon</th>\n",
       "      <th>content</th>\n",
       "      <th>created</th>\n",
       "      <th>subject</th>\n",
       "      <th>uid</th>\n",
       "    </tr>\n",
       "  </thead>\n",
       "  <tbody>\n",
       "    <tr>\n",
       "      <th>0</th>\n",
       "      <td>no</td>\n",
       "      <td>&lt;p&gt;&lt;/p&gt;&lt;p&gt;Asked to Zhen Zhai on 12/1&lt;/p&gt;\\n&lt;p&gt;&lt;...</td>\n",
       "      <td>2016-12-06T01:08:54Z</td>\n",
       "      <td>POP - Expected Value for Different Alpha Value</td>\n",
       "      <td>iew7cggkescr0</td>\n",
       "    </tr>\n",
       "    <tr>\n",
       "      <th>1</th>\n",
       "      <td>no</td>\n",
       "      <td>&lt;p&gt;&lt;/p&gt;&lt;p&gt;Asked to Zhen Zhai on 12/1&lt;/p&gt;\\n&lt;p&gt;&lt;...</td>\n",
       "      <td>2016-12-04T12:51:03Z</td>\n",
       "      <td>POP - Expected Value for Different Alpha Value</td>\n",
       "      <td>iew7cggkescr0</td>\n",
       "    </tr>\n",
       "  </tbody>\n",
       "</table>\n",
       "</div>"
      ],
      "text/plain": [
       "  anon                                            content  \\\n",
       "0   no  <p></p><p>Asked to Zhen Zhai on 12/1</p>\\n<p><...   \n",
       "1   no  <p></p><p>Asked to Zhen Zhai on 12/1</p>\\n<p><...   \n",
       "\n",
       "                created                                         subject  \\\n",
       "0  2016-12-06T01:08:54Z  POP - Expected Value for Different Alpha Value   \n",
       "1  2016-12-04T12:51:03Z  POP - Expected Value for Different Alpha Value   \n",
       "\n",
       "             uid  \n",
       "0  iew7cggkescr0  \n",
       "1  iew7cggkescr0  "
      ]
     },
     "execution_count": 51,
     "metadata": {},
     "output_type": "execute_result"
    }
   ],
   "source": [
    "pd.io.json.json_normalize(content.ix[1167]['history'])"
   ]
  },
  {
   "cell_type": "code",
   "execution_count": 81,
   "metadata": {
    "collapsed": false
   },
   "outputs": [],
   "source": [
    "good_qn_id = np.loadtxt('Good_questions.csv')\n",
    "#good_qn_id = good_qn_id -1 # Convert to 0-index"
   ]
  },
  {
   "cell_type": "code",
   "execution_count": 82,
   "metadata": {
    "collapsed": false
   },
   "outputs": [
    {
     "data": {
      "text/plain": [
       "array([   38.,    43.,    66.,    90.,   115.,   124.,   133.,   144.,\n",
       "         151.,   152.,   199.,   201.,   202.,   204.,   220.,   238.,\n",
       "         244.,   283.,   315.,   319.,   321.,   322.,   323.,   324.,\n",
       "         329.,   336.,   370.,   373.,   375.,   379.,   394.,   426.,\n",
       "         428.,   467.,   493.,   499.,   500.,   502.,   503.,   532.,\n",
       "         533.,   539.,   543.,   548.,   567.,   603.,   622.,   623.,\n",
       "         644.,   651.,   652.,   672.,   687.,   689.,   699.,   713.,\n",
       "         722.,   726.,   736.,   742.,   764.,   782.,   790.,   793.,\n",
       "         807.,   853.,   881.,   903.,   910.,   913.,   916.,   919.,\n",
       "         953.,   958.,   989.,  1024.,  1029.,  1121.,  1122.,  1132.,\n",
       "        1135.,  1140.,  1145.,  1184.])"
      ]
     },
     "execution_count": 82,
     "metadata": {},
     "output_type": "execute_result"
    }
   ],
   "source": [
    "good_qn_id = np.sort(good_qn_id)\n",
    "good_qn_id"
   ]
  },
  {
   "cell_type": "code",
   "execution_count": 83,
   "metadata": {
    "collapsed": false
   },
   "outputs": [],
   "source": [
    "good_content = content.ix[good_qn_id]"
   ]
  },
  {
   "cell_type": "code",
   "execution_count": 84,
   "metadata": {
    "collapsed": false
   },
   "outputs": [],
   "source": [
    "good_content_text = good_content['history'] # history column contains all the text"
   ]
  },
  {
   "cell_type": "code",
   "execution_count": 85,
   "metadata": {
    "collapsed": false
   },
   "outputs": [
    {
     "data": {
      "text/plain": [
       "nr\n",
       "38      [{u'content': u'<p>Today lecture I have asked ...\n",
       "43      [{u'content': u'<p>What does T represent in th...\n",
       "66      [{u'content': u'<p>POP Question - What is an e...\n",
       "90      [{u'content': u'<p>In section 1.3, there is an...\n",
       "115     [{u'content': u'<p><img src=\"https://d1b10bmlv...\n",
       "124     [{u'content': u'<p>- Asked this question to pr...\n",
       "133     [{u'content': u'<p>POP Task: Asked by Prof to ...\n",
       "144     [{u'content': u'<p>Question: How many coin fli...\n",
       "151     [{u'content': u'<p>During discussion, I wanted...\n",
       "152     [{u'content': u'Class question: When rolling 2...\n",
       "199     [{u'content': u'<p>The original question is: <...\n",
       "201     [{u'content': u'<p>In class on October 10, pro...\n",
       "202     [{u'content': u'<p>Question: Given an list of ...\n",
       "204     [{u'content': u'<p>Question was asked during 1...\n",
       "220     [{u'content': u'<p>In class last night, one of...\n",
       "238     [{u'content': u'<p>Q: </p>\n",
       "<p>Actually this is...\n",
       "244     [{u'content': u'<strong>Question</strong>: Is ...\n",
       "283     [{u'content': u'<p><strong></strong>In class, ...\n",
       "315     [{u'content': u'<p>Original Question: There ar...\n",
       "319     [{u'content': u'<p>Preface: I totally forgot I...\n",
       "321     [{u'content': u'<p>The reason why we should sw...\n",
       "322     [{u'content': u'<p>Question: (Asked in Profess...\n",
       "323     [{u'content': u'<p>In Professor Yoav&#39;s dis...\n",
       "324     [{u'content': u'<p>POP question made to TA dur...\n",
       "329     [{u'content': u'<p>POP question asked during t...\n",
       "336     [{u'content': u'<p>A friend of mine once told ...\n",
       "370     [{u'content': u'<p><strong>Problem</strong></p...\n",
       "373     [{u'content': u'<p>This was from the 5pm discu...\n",
       "375     [{u'content': u'<p><strong>Question:</strong> ...\n",
       "379     [{u'content': u'<p>I asked in the 7:00pm discu...\n",
       "                              ...                        \n",
       "699     [{u'content': u'<p>Asked with tutor Sunil yest...\n",
       "713     [{u'content': u'<p>How to understand the Lambd...\n",
       "722     [{u'content': u'<p><em><em>Asked at the Wednes...\n",
       "726     [{u'content': u'<p><em>Asked during Jigar&#39;...\n",
       "736     [{u'content': u'<p>(Asked in Wed. November 16t...\n",
       "742     [{u'content': u'<p>I was reading the CSE 103 o...\n",
       "764     [{u'content': u'<p><img src=\"https://d1b10bmlv...\n",
       "782     [{u'content': u'<p>I asked this question in Pr...\n",
       "790     [{u'content': u'<p>Asked in Monday 11/21&#39;s...\n",
       "793     [{u'content': u'<p>Asked our TA, Akanksha, aft...\n",
       "807     [{u'content': u'<p>Benford&#39;s Law is an obs...\n",
       "853     [{u'content': u'<p>Discussed 11/22/16 at Sunil...\n",
       "881     [{u'content': u'<em>POP question made to Jigar...\n",
       "903     [{u'content': u'<p>After class on Wednesday, I...\n",
       "910     [{u'content': u'<p>Asked in Jigar and Geovonni...\n",
       "913     [{u'content': u'<p>Confidence intervals contai...\n",
       "916     [{u'content': u'<p>Asked during Akanksha&#39;s...\n",
       "919     [{u'content': u'<p>Asked in Geovonni&#39;s Mon...\n",
       "953     [{u'content': u'<p>Discussed in Shen&#39;s 7pm...\n",
       "958     [{u'content': u'<p>Asked after Wednesday&#39;s...\n",
       "989     [{u'content': u'<p>I asked this question to To...\n",
       "1024    [{u'content': u'<p>Asked in Akanksha&#39;s tut...\n",
       "1029    [{u'content': u'<p>The Covariance of two rando...\n",
       "1121    [{u'content': u'<p><em>Asked at the Wednesday ...\n",
       "1122    [{u'content': u'<p>I asked this question in 1 ...\n",
       "1132    [{u'content': u'<p>Asked in Geovonni&#39;s tut...\n",
       "1135    [{u'content': u'<p></p>\n",
       "<p dir=\"ltr\">Asked Nov...\n",
       "1140    [{u'content': u'<p>Could someone give some hin...\n",
       "1145    [{u'content': u'<p>Asked this question during ...\n",
       "1184    [{u'content': u'<p></p><p>Asked to Zhen Zhai o...\n",
       "Name: history, dtype: object"
      ]
     },
     "execution_count": 85,
     "metadata": {},
     "output_type": "execute_result"
    }
   ],
   "source": [
    "good_content_text"
   ]
  },
  {
   "cell_type": "code",
   "execution_count": 86,
   "metadata": {
    "collapsed": true
   },
   "outputs": [],
   "source": [
    "# The history column contains JSON of all the edit history. \n",
    "# The latest history is always in the first row\n",
    "def extract_json(history_cell):\n",
    "    history = pd.io.json.json_normalize(history_cell)\n",
    "    return history['content'].iloc[0]"
   ]
  },
  {
   "cell_type": "code",
   "execution_count": 87,
   "metadata": {
    "collapsed": false
   },
   "outputs": [],
   "source": [
    "Q_list=list(good_content_text.map(extract_json))\n",
    "import base64"
   ]
  },
  {
   "cell_type": "code",
   "execution_count": 88,
   "metadata": {
    "collapsed": true
   },
   "outputs": [],
   "source": [
    "with open('good_questions2.html','wb') as out:\n",
    "    out.write('<ol>\\n')\n",
    "    for question in Q_list:\n",
    "        out.write('<li>\\n'+question.encode('utf-8')+'\\n</li>\\n')\n",
    "    out.write('</ol>\\n')"
   ]
  },
  {
   "cell_type": "code",
   "execution_count": null,
   "metadata": {
    "collapsed": true
   },
   "outputs": [],
   "source": []
  }
 ],
 "metadata": {
  "kernelspec": {
   "display_name": "Python 2",
   "language": "python",
   "name": "python2"
  },
  "language_info": {
   "codemirror_mode": {
    "name": "ipython",
    "version": 2
   },
   "file_extension": ".py",
   "mimetype": "text/x-python",
   "name": "python",
   "nbconvert_exporter": "python",
   "pygments_lexer": "ipython2",
   "version": "2.7.6"
  }
 },
 "nbformat": 4,
 "nbformat_minor": 0
}
