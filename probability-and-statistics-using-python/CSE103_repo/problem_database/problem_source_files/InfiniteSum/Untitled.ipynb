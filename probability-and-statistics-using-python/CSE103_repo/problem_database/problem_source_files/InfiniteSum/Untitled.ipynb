{
 "cells": [
  {
   "cell_type": "code",
   "execution_count": 1,
   "metadata": {
    "collapsed": false
   },
   "outputs": [
    {
     "name": "stdout",
     "output_type": "stream",
     "text": [
      "Untitled.ipynb matching.imd   random_var.imd\r\n"
     ]
    }
   ],
   "source": [
    "%pwd\n",
    "import random\n",
    "!ls"
   ]
  },
  {
   "cell_type": "code",
   "execution_count": null,
   "metadata": {
    "collapsed": true
   },
   "outputs": [],
   "source": [
    "# %load random_var.imd\n",
    "```python\n",
    "# random variables (no need to import random library)\n",
    "n = random.randrange(3,6,1)\n",
    "k = random.randrange(1,6,2)\n",
    "\n",
    "# Solutions with variables converted to string\n",
    "# Make sure you name the solution with part id at the end. e.g. 'solution1' will be solution for part 1. \n",
    "option1 = ('T', 'F')\n",
    "solution1 = 'F'\n",
    "option2 = ('T', 'F')\n",
    "solution2 = 'T'\n",
    "option3 = ('T', 'F')\n",
    "solution3 = 'T'\n",
    "option4 = ('T', 'F')\n",
    "solution4 = 'F'\n",
    "option5 = ('T', 'F')\n",
    "solution5 = 'T'\n",
    "option6 = ('T', 'F')\n",
    "solution6 = 'F'\n",
    "option7 = ('T', 'F')\n",
    "solution7 = 'F'\n",
    "option8 = ('T', 'F')\n",
    "solution8 = 'F'\n",
    "\n",
    "solutions = [solution1, solution2, solution3, solution4, solution5, solution6, solution7, solution8]\n",
    "\n",
    "```\n",
    "Enter a T or a F in each answer space below to indicate whether the corresponding statement is true or false.\n",
    "\n",
    "* A random variable \\(X\\) defines an event\n",
    "\n",
    "[_choice]\n",
    "\n",
    "* If $X$ is a random variable and $a$ is a constant, $X \\geq a$ defines an event\n",
    "\n",
    "[_choice]\n",
    "\n",
    "* The expected number of points when flipping a fair die is $3.5$\n",
    "\n",
    "[_choice]\n",
    "\n",
    "* $ \\sum_{i=1}^{100} 1/i =\\infty$\n",
    "\n",
    "[_choice]\n",
    "\n",
    "* $ \\sum_{i=1}^{\\infty} 1/i =\\infty $\n",
    "\n",
    "[_choice]\n",
    "\n",
    "* $ \\sum_{i=1}^{\\infty} 1/i^2 =\\infty $\n",
    "\n",
    "[_choice]\n",
    "\n",
    "* The bias of a coin is a random variable\n",
    "\n",
    "[_choice]\n",
    "\n",
    "* The set of pairs of integers is countable\n",
    "\n",
    "[_choice]"
   ]
  },
  {
   "cell_type": "code",
   "execution_count": null,
   "metadata": {
    "collapsed": true
   },
   "outputs": [],
   "source": [
    "# %load matching.imd\n",
    "```python\n",
    "# random variables (no need to import random library)\n",
    "\n",
    "\n",
    "# Solutions with variables converted to string\n",
    "# Make sure you name the solution with part id at the end. e.g. 'solution1' will be solution for part 1. \n",
    "option1 = ('1','6','10','A set that can be mapped to the natural numbers','\\(\\infty\\)')\n",
    "solution1 = '1'\n",
    "option2 = ('1','6','10','A set that can be mapped to the natural numbers','\\(\\infty\\)')\n",
    "solution2 = 'A set that can be mapped to the natural numbers'\n",
    "option3 = ('1','6','10','A set that can be mapped to the natural numbers','\\(\\infty\\)')\n",
    "solution3 = '\\(\\infty\\)'\n",
    "option4 = ('1','6','10','A set that can be mapped to the natural numbers','\\(\\infty\\)')\n",
    "solution4 = '\\(\\infty\\)'\n",
    "option5 = ('1','6','10','A set that can be mapped to the natural numbers','\\(\\infty\\)')\n",
    "solution5 = '6'\n",
    "option6 = ('1','6','10','A set that can be mapped to the natural numbers','\\(\\infty\\)')\n",
    "solution6 = '10'\n",
    "\n",
    "solutions = [solution1, solution2, solution3, solution4, solution5, solution6]\n",
    "```\n",
    "\n",
    "Read the new notes posted on Moodle, titled \"Random variables, Expected values, Infinite Spaces\". Then match each expression with a value or term in the dropdown list below.\n",
    "\n",
    "* If $r=1/2$, $\\sum_{i=1}^{\\infty} r^i = $\n",
    "\n",
    "[_choice]\n",
    "\n",
    "* Which is a countable set\n",
    "\n",
    "[_choice]\n",
    "\n",
    "* $\\sum_{i=1}^{\\infty} \\frac{1}{i}=$\n",
    "\n",
    "[_choice]\n",
    "\n",
    "* If $r=1$, $\\sum_{i=1}^{\\infty} r^i =$\n",
    "\n",
    "[_choice]\n",
    "\n",
    "* If $r=2/3$, $\\sum_{i=1}^{\\infty} i r^i = $\n",
    "\n",
    "[_choice]\n",
    "\n",
    "* Flipping a coin with $P(head)=0.1$, the expected number of flips until the first head is \n",
    "\n",
    "[_choice]\n"
   ]
  },
  {
   "cell_type": "code",
   "execution_count": null,
   "metadata": {
    "collapsed": true
   },
   "outputs": [],
   "source": [
    "# %load matching.imd\n",
    "```python\n",
    "# random variables (no need to import random library)\n",
    "\n",
    "\n",
    "# Solutions with variables converted to string\n",
    "# Make sure you name the solution with part id at the end. e.g. 'solution1' will be solution for part 1. \n",
    "option1 = ('Heavy Tail','Exponential Tail')\n",
    "solution1 = '1'\n",
    "option2 = ('1','6','10','A set that can be mapped to the natural numbers','\\(\\infty\\)')\n",
    "solution2 = 'A set that can be mapped to the natural numbers'\n",
    "option3 = ('1','6','10','A set that can be mapped to the natural numbers','\\(\\infty\\)')\n",
    "solution3 = '\\(\\infty\\)'\n",
    "option4 = ('1','6','10','A set that can be mapped to the natural numbers','\\(\\infty\\)')\n",
    "solution4 = '\\(\\infty\\)'\n",
    "option5 = ('1','6','10','A set that can be mapped to the natural numbers','\\(\\infty\\)')\n",
    "solution5 = '6'\n",
    "option6 = ('1','6','10','A set that can be mapped to the natural numbers','\\(\\infty\\)')\n",
    "solution6 = '10'\n",
    "\n",
    "solutions = [solution1, solution2, solution3, solution4, solution5, solution6]\n",
    "```"
   ]
  },
  {
   "cell_type": "markdown",
   "metadata": {},
   "source": [
    "## Heavy and Light tails\n",
    "\n",
    "Match each expression with a value or term in the dropdown list below.\n",
    "\n",
    "* The normal distribution is:\n",
    "\n",
    "[_choice]\n",
    "\n",
    "* The Pareto distribution is:\n",
    "\n",
    "[_choice]\n",
    "\n",
    "* The Exponential distribution iss:\n",
    "\n",
    "[_choice]\n",
    "\n",
    "* Suppose that $P$ is a distribution over the positive integers such that $P(i) = \\frac{1}{Zi}$, where $Z$ is a normalizing constant. Which of the following is true?\n",
    "* * The distribution $P$ is well defined\n",
    "\n",
    "[_]\n",
    "\n",
    "\n",
    "\n",
    "[_choice]\n",
    "\n",
    "* If $r=2/3$, $\\sum_{i=1}^{\\infty} i r^i = $\n",
    "\n",
    "[_choice]\n",
    "\n",
    "* Flipping a coin with $P(head)=0.1$, the expected number of flips until the first head is \n",
    "\n",
    "[_choice]"
   ]
  },
  {
   "cell_type": "code",
   "execution_count": null,
   "metadata": {
    "collapsed": true
   },
   "outputs": [],
   "source": []
  }
 ],
 "metadata": {
  "kernelspec": {
   "display_name": "Python 2",
   "language": "python",
   "name": "python2"
  },
  "language_info": {
   "codemirror_mode": {
    "name": "ipython",
    "version": 2
   },
   "file_extension": ".py",
   "mimetype": "text/x-python",
   "name": "python",
   "nbconvert_exporter": "python",
   "pygments_lexer": "ipython2",
   "version": "2.7.12"
  }
 },
 "nbformat": 4,
 "nbformat_minor": 0
}
