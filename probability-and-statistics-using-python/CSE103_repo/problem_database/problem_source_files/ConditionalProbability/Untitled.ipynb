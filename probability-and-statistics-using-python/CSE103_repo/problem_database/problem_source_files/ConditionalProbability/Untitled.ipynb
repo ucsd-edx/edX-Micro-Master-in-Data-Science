{
 "cells": [
  {
   "cell_type": "code",
   "execution_count": 74,
   "metadata": {
    "collapsed": false
   },
   "outputs": [
    {
     "data": {
      "text/plain": [
       "[[[0.0, 0.1], [0.1, 0.05]], [[0.0, 0.05], [0.1, 0.1]]]"
      ]
     },
     "execution_count": 74,
     "metadata": {},
     "output_type": "execute_result"
    }
   ],
   "source": [
    "import random\n",
    "P=[]\n",
    "for i in range(2):\n",
    "\tP.append([])\n",
    "\tfor j in range(2):\n",
    "\t   P[i].append([])\n",
    "\t   for k in range(2):\n",
    "\t      P[i][j].append(random.randrange(0,3,1)/20.)\n",
    "#sum([sum(L) for L in P])/100.\n",
    "P"
   ]
  },
  {
   "cell_type": "code",
   "execution_count": 76,
   "metadata": {
    "collapsed": false
   },
   "outputs": [
    {
     "data": {
      "text/plain": [
       "(0.25, 0.35, 0.3, 0.5, 0.2, 0.15, 0.15)"
      ]
     },
     "execution_count": 76,
     "metadata": {},
     "output_type": "execute_result"
    }
   ],
   "source": [
    "pairs=[(0,0),(0,1),(1,0),(1,1)]\n",
    "pa=rnd(sum([P[1][i][j] for i,j in pairs]))\n",
    "pb=rnd(sum([P[i][1][j] for i,j in pairs]))\n",
    "pc=rnd(sum([P[i][j][1] for i,j in pairs]))\n",
    "paub=rnd(sum(P[1][1][i] for i in range(2)))\n",
    "pauc=rnd(sum(P[1][i][1] for i in range(2)))\n",
    "pcub=rnd(sum(P[i][1][1] for i in range(2)))\n",
    "pabc=rnd(sum([sum([sum(L) for L in M]) for M in P]))\n",
    "def rnd(x):\n",
    "    return round(x*100.)/100.\n",
    "pa,pb,pc,pabc,paub,pauc,pcub\n"
   ]
  },
  {
   "cell_type": "code",
   "execution_count": 39,
   "metadata": {
    "collapsed": false
   },
   "outputs": [
    {
     "data": {
      "text/plain": [
       "11"
      ]
     },
     "execution_count": 39,
     "metadata": {},
     "output_type": "execute_result"
    }
   ],
   "source": [
    "sum([sum(L) for L in P])"
   ]
  },
  {
   "cell_type": "code",
   "execution_count": 77,
   "metadata": {
    "collapsed": false
   },
   "outputs": [
    {
     "ename": "TypeError",
     "evalue": "not all arguments converted during string formatting",
     "output_type": "error",
     "traceback": [
      "\u001b[0;31m---------------------------------------------------------------------------\u001b[0m",
      "\u001b[0;31mTypeError\u001b[0m                                 Traceback (most recent call last)",
      "\u001b[0;32m<ipython-input-77-aeceab6b46b4>\u001b[0m in \u001b[0;36m<module>\u001b[0;34m()\u001b[0m\n\u001b[1;32m     20\u001b[0m \u001b[0mpabc\u001b[0m\u001b[0;34m=\u001b[0m\u001b[0mrnd\u001b[0m\u001b[0;34m(\u001b[0m\u001b[0msum\u001b[0m\u001b[0;34m(\u001b[0m\u001b[0;34m[\u001b[0m\u001b[0msum\u001b[0m\u001b[0;34m(\u001b[0m\u001b[0;34m[\u001b[0m\u001b[0msum\u001b[0m\u001b[0;34m(\u001b[0m\u001b[0mL\u001b[0m\u001b[0;34m)\u001b[0m \u001b[0;32mfor\u001b[0m \u001b[0mL\u001b[0m \u001b[0;32min\u001b[0m \u001b[0mM\u001b[0m\u001b[0;34m]\u001b[0m\u001b[0;34m)\u001b[0m \u001b[0;32mfor\u001b[0m \u001b[0mM\u001b[0m \u001b[0;32min\u001b[0m \u001b[0mP\u001b[0m\u001b[0;34m]\u001b[0m\u001b[0;34m)\u001b[0m\u001b[0;34m)\u001b[0m\u001b[0;34m\u001b[0m\u001b[0m\n\u001b[1;32m     21\u001b[0m \u001b[0;34m\u001b[0m\u001b[0m\n\u001b[0;32m---> 22\u001b[0;31m \u001b[0msolution1\u001b[0m \u001b[0;34m=\u001b[0m \u001b[0;34m\"{0}+{1}-{2}\"\u001b[0m\u001b[0;34m%\u001b[0m\u001b[0;34m(\u001b[0m\u001b[0mpa\u001b[0m\u001b[0;34m,\u001b[0m\u001b[0mpb\u001b[0m\u001b[0;34m,\u001b[0m\u001b[0mpaub\u001b[0m\u001b[0;34m)\u001b[0m\u001b[0;34m\u001b[0m\u001b[0m\n\u001b[0m\u001b[1;32m     23\u001b[0m \u001b[0msolution2\u001b[0m \u001b[0;34m=\u001b[0m \u001b[0;34m\"{0}+{1}-{2}\"\u001b[0m\u001b[0;34m%\u001b[0m\u001b[0;34m(\u001b[0m\u001b[0mpb\u001b[0m\u001b[0;34m,\u001b[0m\u001b[0mpc\u001b[0m\u001b[0;34m,\u001b[0m\u001b[0mpbuc\u001b[0m\u001b[0;34m)\u001b[0m\u001b[0;34m\u001b[0m\u001b[0m\n\u001b[1;32m     24\u001b[0m \u001b[0msolution3\u001b[0m \u001b[0;34m=\u001b[0m \u001b[0;34m\"{0}+{1}-{2}\"\u001b[0m\u001b[0;34m%\u001b[0m\u001b[0;34m(\u001b[0m\u001b[0mpa\u001b[0m\u001b[0;34m,\u001b[0m\u001b[0mpc\u001b[0m\u001b[0;34m,\u001b[0m\u001b[0mpauc\u001b[0m\u001b[0;34m)\u001b[0m\u001b[0;34m\u001b[0m\u001b[0m\n",
      "\u001b[0;31mTypeError\u001b[0m: not all arguments converted during string formatting"
     ]
    }
   ],
   "source": [
    "P=[]\n",
    "\n",
    "for i in range(2):\n",
    "\tP.append([])\n",
    "\tfor j in range(2):\n",
    "\t   P[i].append([])\n",
    "\t   for k in range(2):\n",
    "\t      P[i][j].append(random.randrange(0,3,1)/20.)\n",
    "\n",
    "pairs=[(0,0),(0,1),(1,0),(1,1)]\n",
    "def rnd(x):\n",
    "    return round(x*100.)/100.\n",
    "\n",
    "pa=rnd(sum([P[1][i][j] for i,j in pairs]))\n",
    "pb=rnd(sum([P[i][1][j] for i,j in pairs]))\n",
    "pc=rnd(sum([P[i][j][1] for i,j in pairs]))\n",
    "paub=rnd(sum(P[1][1][i] for i in range(2)))\n",
    "pauc=rnd(sum(P[1][i][1] for i in range(2)))\n",
    "pcub=rnd(sum(P[i][1][1] for i in range(2)))\n",
    "pabc=rnd(sum([sum([sum(L) for L in M]) for M in P]))\n",
    "\n",
    "solution1 = \"{0}+{1}-{2}\"%(pa,pb,paub)\n",
    "solution2 = \"{0}+{1}-{2}\"%(pb,pc,pbuc)\n",
    "solution3 = \"{0}+{1}-{2}\"%(pa,pc,pauc)\n",
    "solution4 = \"{0}/{1}\"%(solution1,pb)\n",
    "solution5 = \"{0}/{1}\"%(solution1,pa)\n",
    "solution6 =\"{0}-({1}+{2}+{3})+({4}+{5}+{6})\"%(pabc,pa,pb,pc,solution1,solution2,solution3)\n",
    "solution7 =\"{0}/{1}\"%(solution6,solution2)\n",
    "\n",
    "solutions = [solution1, solution2, solution3, solution4, solution5, solution6, solution7]\n"
   ]
  },
  {
   "cell_type": "code",
   "execution_count": 81,
   "metadata": {
    "collapsed": false
   },
   "outputs": [],
   "source": []
  },
  {
   "cell_type": "code",
   "execution_count": 82,
   "metadata": {
    "collapsed": false
   },
   "outputs": [
    {
     "data": {
      "text/plain": [
       "['0.15+0.2-0.1',\n",
       " '0.2+0.3-0.15',\n",
       " '0.15+0.3-0.1',\n",
       " '(0.15+0.2-0.1)/0.2',\n",
       " '(0.15+0.2-0.1)/0.15',\n",
       " '0.45-(0.15+0.2+0.3)+(0.15+0.2-0.1+0.2+0.3-0.15+0.15+0.3-0.1)',\n",
       " '0.45-(0.15+0.2+0.3)+(0.15+0.2-0.1+0.2+0.3-0.15+0.15+0.3-0.1)/0.2+0.3-0.15']"
      ]
     },
     "execution_count": 82,
     "metadata": {},
     "output_type": "execute_result"
    }
   ],
   "source": [
    "solutions\n"
   ]
  },
  {
   "cell_type": "code",
   "execution_count": 83,
   "metadata": {
    "collapsed": true
   },
   "outputs": [],
   "source": [
    "P=[]\n",
    "\n",
    "for i in range(2):\n",
    "\tP.append([])\n",
    "\tfor j in range(2):\n",
    "\t   P[i].append([])\n",
    "\t   for k in range(2):\n",
    "\t      P[i][j].append(random.randrange(0,3,1)/20.)\n",
    "\n",
    "pairs=[(0,0),(0,1),(1,0),(1,1)]\n",
    "def rnd(x):\n",
    "    return round(x*100.)/100.\n",
    "\n",
    "pa=rnd(sum([P[1][i][j] for i,j in pairs]))\n",
    "pb=rnd(sum([P[i][1][j] for i,j in pairs]))\n",
    "pc=rnd(sum([P[i][j][1] for i,j in pairs]))\n",
    "paib=rnd(sum(P[1][1][i] for i in range(2)))\n",
    "paic=rnd(sum(P[1][i][1] for i in range(2)))\n",
    "pbic=rnd(sum(P[i][1][1] for i in range(2)))\n",
    "pabc=rnd(sum([sum([sum(L) for L in M]) for M in P]))\n",
    "\n",
    "paub=pa+pb-paib\n",
    "pauc=pa+pc-paic\n",
    "pbuc=pb+pc-paic\n",
    "\n",
    "solution1 = \"{0}+{1}-{2}\".format(pa,pb,paub)\n",
    "solution2 = \"{0}+{1}-{2}\".format(pb,pc,pbuc)\n",
    "solution3 = \"{0}+{1}-{2}\".format(pa,pc,pauc)\n",
    "solution4 = \"({0})/{1}\".format(solution1,pb)\n",
    "solution5 = \"({0})/{1}\".format(solution1,pa)\n",
    "solution6 =\"{0}-({1}+{2}+{3})+({4}+{5}+{6})\".format(pabc,pa,pb,pc,solution1,solution2,solution3)\n",
    "solution7 =\"{0}/{1}\".format(solution6,solution2)\n",
    "\n",
    "solutions = [solution1, solution2, solution3, solution4, solution5, solution6, solution7]\n"
   ]
  },
  {
   "cell_type": "code",
   "execution_count": 84,
   "metadata": {
    "collapsed": false
   },
   "outputs": [
    {
     "data": {
      "text/plain": [
       "['0.25+0.15-0.25',\n",
       " '0.15+0.2-0.15',\n",
       " '0.25+0.2-0.25',\n",
       " '(0.25+0.15-0.25)/0.15',\n",
       " '(0.25+0.15-0.25)/0.25',\n",
       " '0.3-(0.25+0.15+0.2)+(0.25+0.15-0.25+0.15+0.2-0.15+0.25+0.2-0.25)',\n",
       " '0.3-(0.25+0.15+0.2)+(0.25+0.15-0.25+0.15+0.2-0.15+0.25+0.2-0.25)/0.15+0.2-0.15']"
      ]
     },
     "execution_count": 84,
     "metadata": {},
     "output_type": "execute_result"
    }
   ],
   "source": [
    "solutions"
   ]
  },
  {
   "cell_type": "code",
   "execution_count": 85,
   "metadata": {
    "collapsed": false
   },
   "outputs": [
    {
     "data": {
      "text/plain": [
       "[[[0.05, 0.0], [0.0, 0.0]], [[0.0, 0.1], [0.05, 0.1]]]"
      ]
     },
     "execution_count": 85,
     "metadata": {},
     "output_type": "execute_result"
    }
   ],
   "source": [
    "P"
   ]
  },
  {
   "cell_type": "code",
   "execution_count": 86,
   "metadata": {
    "collapsed": false
   },
   "outputs": [
    {
     "data": {
      "text/plain": [
       "0.25"
      ]
     },
     "execution_count": 86,
     "metadata": {},
     "output_type": "execute_result"
    }
   ],
   "source": [
    "pauc"
   ]
  },
  {
   "cell_type": "code",
   "execution_count": 88,
   "metadata": {
    "collapsed": false
   },
   "outputs": [
    {
     "data": {
      "text/plain": [
       "(0.2, 0.1, 0.15)"
      ]
     },
     "execution_count": 88,
     "metadata": {},
     "output_type": "execute_result"
    }
   ],
   "source": [
    "paic,pbic,paib"
   ]
  },
  {
   "cell_type": "code",
   "execution_count": null,
   "metadata": {
    "collapsed": true
   },
   "outputs": [],
   "source": []
  }
 ],
 "metadata": {
  "kernelspec": {
   "display_name": "Python 2",
   "language": "python",
   "name": "python2"
  },
  "language_info": {
   "codemirror_mode": {
    "name": "ipython",
    "version": 2
   },
   "file_extension": ".py",
   "mimetype": "text/x-python",
   "name": "python",
   "nbconvert_exporter": "python",
   "pygments_lexer": "ipython2",
   "version": "2.7.12"
  }
 },
 "nbformat": 4,
 "nbformat_minor": 0
}
