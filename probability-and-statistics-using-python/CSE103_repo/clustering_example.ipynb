{
 "cells": [
  {
   "cell_type": "code",
   "execution_count": 1,
   "metadata": {
    "collapsed": false
   },
   "outputs": [],
   "source": [
    "import sys\n",
    "## put your path to \"hint_database\" here\n",
    "sys.path.append(\"TA_repo/hint_database\")\n",
    "from hint_class_helpers.expr_parser import webwork_parser\n",
    "from hint_class_helpers.expr_parser import Eval_parsed\n",
    "from hint_class_helpers import find_matches"
   ]
  },
  {
   "cell_type": "code",
   "execution_count": 2,
   "metadata": {
    "collapsed": false
   },
   "outputs": [
    {
     "data": {
      "text/plain": [
       "([['+', [0, 9]],\n",
       "  [['*', [0, 7]],\n",
       "   [['C', [0, 5]], [['X', [2, 2]], 5], [['X', [4, 4]], 3]],\n",
       "   [['X', [7, 7]], 9]],\n",
       "  [['X', [9, 9]], 8]],\n",
       " {})"
      ]
     },
     "execution_count": 2,
     "metadata": {},
     "output_type": "execute_result"
    }
   ],
   "source": [
    "#### Example of flatten ####\n",
    "parse_tree = webwork_parser.parse_webwork('C(5,3)*9+8')\n",
    "parse_tree"
   ]
  },
  {
   "cell_type": "code",
   "execution_count": 3,
   "metadata": {
    "collapsed": false
   },
   "outputs": [
    {
     "data": {
      "text/plain": [
       "[['+', 98.0, [0, 9], 'R'],\n",
       " [['*', 90.0, [0, 7], 'R.0'],\n",
       "  [['C', 10, [0, 5], 'R.0.0'],\n",
       "   ['X', 5.0, [2, 2], 'R.0.0.0'],\n",
       "   ['X', 3.0, [4, 4], 'R.0.0.1']],\n",
       "  ['X', 9.0, [7, 7], 'R.0.1']],\n",
       " ['X', 8.0, [9, 9], 'R.1']]"
      ]
     },
     "execution_count": 3,
     "metadata": {},
     "output_type": "execute_result"
    }
   ],
   "source": [
    "etree = Eval_parsed.eval_parsed(parse_tree[0])\n",
    "etree"
   ]
  },
  {
   "cell_type": "code",
   "execution_count": 4,
   "metadata": {
    "collapsed": false
   },
   "outputs": [
    {
     "name": "stdout",
     "output_type": "stream",
     "text": [
      "[('R.1', 8.0, '8', '8'), ('R.0.0', 10, 'C(5,3)', 'C(5,3)')]\n"
     ]
    }
   ],
   "source": [
    "#### Example of find_Hits\n",
    "parse_tree = webwork_parser.parse_webwork('C(5,3)*9+8')\n",
    "etree_a = Eval_parsed.eval_parsed(parse_tree[0])\n",
    "parse_tree_b = webwork_parser.parse_webwork('C(5,3)*2+8')\n",
    "etree_b = Eval_parsed.eval_parsed(parse_tree_b[0])\n",
    "p = {'attempt':'C(5,3)*2+8', 'answer':'C(5,3)*9+8', 'att_tree':etree_b, 'ans_tree': etree_a}\n",
    "print find_matches.find_matches(p)"
   ]
  },
  {
   "cell_type": "code",
   "execution_count": 5,
   "metadata": {
    "collapsed": false
   },
   "outputs": [
    {
     "data": {
      "text/plain": [
       "[[2.0, 't', ['X', 2.0, [7, 7], 'R.0.1']],\n",
       " [3.0, 't', ['X', 3.0, [4, 4], 'R.0.0.1']],\n",
       " [5.0, 't', ['X', 5.0, [2, 2], 'R.0.0.0']],\n",
       " [8.0, 't', ['X', 8.0, [9, 9], 'R.1']],\n",
       " [10,\n",
       "  't',\n",
       "  [['C', 10, [0, 5], 'R.0.0'],\n",
       "   ['X', 5.0, [2, 2], 'R.0.0.0'],\n",
       "   ['X', 3.0, [4, 4], 'R.0.0.1']]],\n",
       " [20.0,\n",
       "  't',\n",
       "  [['*', 20.0, [0, 7], 'R.0'],\n",
       "   [['C', 10, [0, 5], 'R.0.0'],\n",
       "    ['X', 5.0, [2, 2], 'R.0.0.0'],\n",
       "    ['X', 3.0, [4, 4], 'R.0.0.1']],\n",
       "   ['X', 2.0, [7, 7], 'R.0.1']]],\n",
       " [28.0,\n",
       "  't',\n",
       "  [['+', 28.0, [0, 9], 'R'],\n",
       "   [['*', 20.0, [0, 7], 'R.0'],\n",
       "    [['C', 10, [0, 5], 'R.0.0'],\n",
       "     ['X', 5.0, [2, 2], 'R.0.0.0'],\n",
       "     ['X', 3.0, [4, 4], 'R.0.0.1']],\n",
       "    ['X', 2.0, [7, 7], 'R.0.1']],\n",
       "   ['X', 8.0, [9, 9], 'R.1']]]]"
      ]
     },
     "execution_count": 5,
     "metadata": {},
     "output_type": "execute_result"
    }
   ],
   "source": [
    "#### Example of flatten\n",
    "attempt=p['attempt']\n",
    "attempt_tree=p['att_tree']\n",
    "attempt_list=find_matches.flatten(attempt_tree,'t')\n",
    "answer=p['answer']\n",
    "answer_tree=p['ans_tree']\n",
    "answer_list=find_matches.flatten(answer_tree,'c')\n",
    "\n",
    "attempt_list"
   ]
  },
  {
   "cell_type": "code",
   "execution_count": 6,
   "metadata": {
    "collapsed": false
   },
   "outputs": [
    {
     "data": {
      "text/plain": [
       "[[2.0, 't', ['X', 2.0, [7, 7], 'R.0.1']],\n",
       " [3.0, 'c', ['X', 3.0, [4, 4], 'R.0.0.1']],\n",
       " [3.0, 't', ['X', 3.0, [4, 4], 'R.0.0.1']],\n",
       " [5.0, 'c', ['X', 5.0, [2, 2], 'R.0.0.0']],\n",
       " [5.0, 't', ['X', 5.0, [2, 2], 'R.0.0.0']],\n",
       " [8.0, 'c', ['X', 8.0, [9, 9], 'R.1']],\n",
       " [8.0, 't', ['X', 8.0, [9, 9], 'R.1']],\n",
       " [9.0, 'c', ['X', 9.0, [7, 7], 'R.0.1']],\n",
       " [10,\n",
       "  'c',\n",
       "  [['C', 10, [0, 5], 'R.0.0'],\n",
       "   ['X', 5.0, [2, 2], 'R.0.0.0'],\n",
       "   ['X', 3.0, [4, 4], 'R.0.0.1']]],\n",
       " [10,\n",
       "  't',\n",
       "  [['C', 10, [0, 5], 'R.0.0'],\n",
       "   ['X', 5.0, [2, 2], 'R.0.0.0'],\n",
       "   ['X', 3.0, [4, 4], 'R.0.0.1']]],\n",
       " [20.0,\n",
       "  't',\n",
       "  [['*', 20.0, [0, 7], 'R.0'],\n",
       "   [['C', 10, [0, 5], 'R.0.0'],\n",
       "    ['X', 5.0, [2, 2], 'R.0.0.0'],\n",
       "    ['X', 3.0, [4, 4], 'R.0.0.1']],\n",
       "   ['X', 2.0, [7, 7], 'R.0.1']]],\n",
       " [28.0,\n",
       "  't',\n",
       "  [['+', 28.0, [0, 9], 'R'],\n",
       "   [['*', 20.0, [0, 7], 'R.0'],\n",
       "    [['C', 10, [0, 5], 'R.0.0'],\n",
       "     ['X', 5.0, [2, 2], 'R.0.0.0'],\n",
       "     ['X', 3.0, [4, 4], 'R.0.0.1']],\n",
       "    ['X', 2.0, [7, 7], 'R.0.1']],\n",
       "   ['X', 8.0, [9, 9], 'R.1']]],\n",
       " [90.0,\n",
       "  'c',\n",
       "  [['*', 90.0, [0, 7], 'R.0'],\n",
       "   [['C', 10, [0, 5], 'R.0.0'],\n",
       "    ['X', 5.0, [2, 2], 'R.0.0.0'],\n",
       "    ['X', 3.0, [4, 4], 'R.0.0.1']],\n",
       "   ['X', 9.0, [7, 7], 'R.0.1']]],\n",
       " [98.0,\n",
       "  'c',\n",
       "  [['+', 98.0, [0, 9], 'R'],\n",
       "   [['*', 90.0, [0, 7], 'R.0'],\n",
       "    [['C', 10, [0, 5], 'R.0.0'],\n",
       "     ['X', 5.0, [2, 2], 'R.0.0.0'],\n",
       "     ['X', 3.0, [4, 4], 'R.0.0.1']],\n",
       "    ['X', 9.0, [7, 7], 'R.0.1']],\n",
       "   ['X', 8.0, [9, 9], 'R.1']]]]"
      ]
     },
     "execution_count": 6,
     "metadata": {},
     "output_type": "execute_result"
    }
   ],
   "source": [
    "#### Example of sorted combined list\n",
    "combined_list=sorted(answer_list+attempt_list,key=lambda x: x[0])\n",
    "combined_list"
   ]
  },
  {
   "cell_type": "code",
   "execution_count": 7,
   "metadata": {
    "collapsed": false
   },
   "outputs": [
    {
     "data": {
      "text/plain": [
       "[([3.0, 'c', ['X', 3.0, [4, 4], 'R.0.0.1']],\n",
       "  [3.0, 't', ['X', 3.0, [4, 4], 'R.0.0.1']]),\n",
       " ([5.0, 'c', ['X', 5.0, [2, 2], 'R.0.0.0']],\n",
       "  [5.0, 't', ['X', 5.0, [2, 2], 'R.0.0.0']]),\n",
       " ([8.0, 'c', ['X', 8.0, [9, 9], 'R.1']],\n",
       "  [8.0, 't', ['X', 8.0, [9, 9], 'R.1']]),\n",
       " ([10,\n",
       "   'c',\n",
       "   [['C', 10, [0, 5], 'R.0.0'],\n",
       "    ['X', 5.0, [2, 2], 'R.0.0.0'],\n",
       "    ['X', 3.0, [4, 4], 'R.0.0.1']]],\n",
       "  [10,\n",
       "   't',\n",
       "   [['C', 10, [0, 5], 'R.0.0'],\n",
       "    ['X', 5.0, [2, 2], 'R.0.0.0'],\n",
       "    ['X', 3.0, [4, 4], 'R.0.0.1']]])]"
      ]
     },
     "execution_count": 7,
     "metadata": {},
     "output_type": "execute_result"
    }
   ],
   "source": [
    "#### Example of find_hits\n",
    "Hits = find_matches.find_Hits(combined_list)\n",
    "Hits"
   ]
  },
  {
   "cell_type": "code",
   "execution_count": 8,
   "metadata": {
    "collapsed": false
   },
   "outputs": [
    {
     "data": {
      "text/plain": [
       "[('R.1', 8.0, '8', '8'), ('R.0.0', 10, 'C(5,3)', 'C(5,3)')]"
      ]
     },
     "execution_count": 8,
     "metadata": {},
     "output_type": "execute_result"
    }
   ],
   "source": [
    "#### Example of find_dominating_hits ####\n",
    "find_matches.find_dominating_hits(Hits,answer,attempt)"
   ]
  },
  {
   "cell_type": "code",
   "execution_count": null,
   "metadata": {
    "collapsed": true
   },
   "outputs": [],
   "source": []
  }
 ],
 "metadata": {
  "kernelspec": {
   "display_name": "Python 2",
   "language": "python",
   "name": "python2"
  },
  "language_info": {
   "codemirror_mode": {
    "name": "ipython",
    "version": 2
   },
   "file_extension": ".py",
   "mimetype": "text/x-python",
   "name": "python",
   "nbconvert_exporter": "python",
   "pygments_lexer": "ipython2",
   "version": "2.7.9"
  }
 },
 "nbformat": 4,
 "nbformat_minor": 0
}
