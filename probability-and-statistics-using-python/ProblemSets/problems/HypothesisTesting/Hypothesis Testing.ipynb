{
 "cells": [
  {
   "cell_type": "code",
   "execution_count": 8,
   "metadata": {
    "collapsed": false
   },
   "outputs": [
    {
     "name": "stdout",
     "output_type": "stream",
     "text": [
      "Chi2.2.md\n",
      "Chi2.3.md\n",
      "Untitled.ipynb\n",
      "gust75.md\n",
      "psychic.md\n"
     ]
    }
   ],
   "source": [
    "files=!ls\n",
    "print '\\n'.join(files)"
   ]
  },
  {
   "cell_type": "code",
   "execution_count": null,
   "metadata": {
    "collapsed": true
   },
   "outputs": [],
   "source": []
  },
  {
   "cell_type": "code",
   "execution_count": 15,
   "metadata": {
    "collapsed": false
   },
   "outputs": [
    {
     "name": "stdout",
     "output_type": "stream",
     "text": [
      "Writing Fish-chi2.imd\n"
     ]
    }
   ],
   "source": [
    "%%writefile Fish-chi2.imd\n",
    "```python\n",
    "# random variables (no need to import random library)\n",
    "\n",
    "# Solutions with variables converted to string\n",
    "# Make sure you name the solution with part id at the end. e.g. 'solution1' will be solution for part 1.\n",
    "solution1 = \"65\"\n",
    "solution2 = \"65*(0.500*(((30.0/65.0)-0.500)/0.500)^2+0.250*(((20.0/65.0)-0.250)/0.250)^2+0.250*(((15.0/65.0)-0.250)/0.250)^2)\"\n",
    "solution3 = \"65*((1/3)*(((30.0/65.0)-(1/3))/(1/3))^2+(1/3)*(((20.0/65.0)-(1/3))/(1/3))^2+(1/3)*(((15.0/65.0)-(1/3))/(1/3))^2)\"\n",
    "\n",
    "# Group all solutions into a list\n",
    "solutions = [solution1, solution2, solution3]\n",
    "```\n",
    "\n",
    "## $\\chi^2$ test I\n",
    "\n",
    "Suppose there are 3 species of fish in the world, we are interested\n",
    "in two fish populations: fish of the pacific ocean and fish of the atlantic ocean.\n",
    "Each one of these populations is characterized by a distribution over the species of fish:\n",
    "The pacific distribution is uniform over the 3  species:\n",
    "$P_p=(1/3,1/3,1/3)$ while in the Atlantic population the first species is twice more common than the other two: $P_a=(1/2,1/4,1/4)$\n",
    "\n",
    "Suppose we are given a  batch of 65 fish whose source is unknown.\n",
    "The number of fish of each species is $30,20,15$.\n",
    "\n",
    "We would like to know whether the the batch of fish is from the Atlantic or the pacific (or neither)\n",
    "\n",
    "One way of formalizing this problem is to consider two alternative hypotheses:\n",
    "\n",
    "* $H_A$ = the batch is from the Atlantic ocean. More technically, the batch was sampled from the distribution $P_a$\n",
    "* $H_P$ = the batch is from the pacific ocean. More technically, the batch was sampled from the distribution $P_b$.\n",
    "\n",
    "The test that we will use is the [$\\chi^2$ test](https://en.wikipedia.org/wiki/Pearson%27s_chi-squared_test).\n",
    "\n",
    "The formula of the $\\chi^2$-statistic is\n",
    "\n",
    "$$\\chi^2 =  N \\sum_{i=1}^n p_i \\left(\\frac{O_i/N - p_i}{p_i}\\right)^2$$\n",
    "\n",
    "Where:\n",
    "* $n$ is the number of species (3 in our case).\n",
    "* $p_i$ is the probability of the $i$th species according to the Null distribution.\n",
    "* $O_i$ is the number of observations of species $i$\n",
    "* $N$ is the total number of observation. $N=\\sum_{i=1}^n O_i$.\n",
    "\n",
    "*What is $N$ in our case?\n",
    "\n",
    "[_]\n",
    "\n",
    "Write expressions for the $\\chi^2$ **statistic** for the two null Hypotheses:\n",
    "\n",
    "* For hypothesis HA ( batch is from Atlantic ocean), $\\chi^2=$\n",
    "\n",
    "[_]\n",
    "\n",
    "* For hypothesis HP ( batch is from pacific ocean), $\\chi^2=$\n",
    "\n",
    "[_]\n",
    "\n",
    "-----\n",
    "\n",
    "Computing the $p$-values associated with the two statistics above we find that:\n",
    "\n",
    "* The $p$-value associated with rejecting the HA hypothesis is 0.5616\n",
    "* The $p$-value associated with rejecting the HP hypothesis is  0.0677\n",
    "\n",
    "Which hypothesis can we reject if we set our confidence level to be $\\alpha=10\\%$ ?  \n",
    "\n",
    "* We can reject the hypothesis that the batch is from the Pacific ocean  \n",
    "\n",
    "[x] Yes   \n",
    "[ ] No  \n",
    "\n",
    "* We can reject the hypothesis that the batch is from the Atlantic ocean  \n",
    "\n",
    "[ ] Yes   \n",
    "[x] No  \n"
   ]
  },
  {
   "cell_type": "code",
   "execution_count": 16,
   "metadata": {
    "collapsed": false
   },
   "outputs": [
    {
     "name": "stdout",
     "output_type": "stream",
     "text": [
      "Writing Cars-chi2.imd\n"
     ]
    }
   ],
   "source": [
    "%%writefile Cars-chi2.imd\n",
    "## $\\chi^2$ test II\n",
    "Suppose that we are counting the number of cars passing a point on the highway during is hour of the day for a year.\n",
    "\n",
    "We have a hypothsis that the distribution of cars during weekend days is significantly different from the distribution of cars during the working days. How do we test this hypothesis?\n",
    "\n",
    "We can use the [$\\chi^2$ test](https://en.wikipedia.org/wiki/Pearson%27s_chi-squared_test) tests whether two samples are drawn from the same distribution, or from different distributions. The **null** hypothesis is that the two samples are drawn from the same distribution, and the **alternative** is that they are drawn from different distributions.\n",
    "\n",
    "To compute the $\\chi^2$-statistic we need to know the **number of degrees of freedom** of the distribution. As there are $24$ hours in the day, there are $24$ probabilities to consider. However, as the probabilities sum to 1, there are only $23$ degrees of freedom.\n",
    "\n",
    "The value of the $\\chi^2$-statistic is non-negative. It is zero if the two samples have the same empirical distribution, and increases the more the distributions differ.\n",
    "\n",
    "Select all of the statements that are correct:\n",
    "\n",
    "[ ] A small value of the $\\chi^2$ statistic justifies **rejecting** the Null Hypothesis  \n",
    "[ ] A small value of the $\\chi^2$ statistic justifies **accepting** the Alternative Hypothesis   \n",
    "[x] A large value of the $\\chi^2$ statistic justifies **rejecting** the Null Hypothesis  \n",
    "[x] A large value of the $\\chi^2$ statistic justifies **accepting** the alternative Hypothesis   \n",
    "[ ] It is possible to reject both the Null and the alternative hypothesis.   \n",
    "[x] It is possible not to reject either the Null nor the alternative hypothesis.   "
   ]
  },
  {
   "cell_type": "code",
   "execution_count": 17,
   "metadata": {
    "collapsed": false
   },
   "outputs": [
    {
     "name": "stdout",
     "output_type": "stream",
     "text": [
      "Overwriting psychic.imd\n"
     ]
    }
   ],
   "source": [
    "%%writefile psychic.imd\n",
    "```python\n",
    "# random variables (no need to import random library)\n",
    "\n",
    "\n",
    "# Solutions with variables converted to string\n",
    "# Make sure you name the solution with part id at the end. e.g. 'solution1' will be solution for part 1.\n",
    "solution1 = \"0.05/sqrt(0.16/200)\"\n",
    "solution2 = \"Q(0.05/sqrt(0.16/200))\"\n",
    "solution3 = \"1\"\n",
    "solution4 = \"0\"\n",
    "\n",
    "# Group all solutions into a list\n",
    "solutions = [solution1, solution2, solution3, solution4]\n",
    "\n",
    "\n",
    "```\n",
    "\n",
    "### Testing a psychic\n",
    "A noted psychic was tested for extrasensory perception. The psychic was presented\n",
    "with 200 cards face down and asked to determine if the card were one of five symbols. We can think of this as 200 independent trials and associate a binary random variable $X_i$ with each trial, where the probability of success is denoted by $p \\doteq P(X_i=1)$. The Null hypothesis is that the Psychic is doing no better than a random guess, in other words $p=1/5$.\n",
    "\n",
    "The expected number of correct guesses is denoted\n",
    "$$S_{200} = \\sum_{i=1}^{200} X_i $$\n",
    "\n",
    "$$ E\\left[ S_{200}\\right] = 200*(1/5)=40$$\n",
    "\n",
    "In our test, the psychic was correct 50 times, in other words, 10 more times than expected. How strong is this as evidence that the psychic is actually able to predict better than chance?\n",
    "\n",
    "As $S_{200}$ is the sum of 200 IID random variables with finite mean and std. We can approximate $S_{200}$ by a normal distribution (using the central limit theorem).\n",
    "\n",
    "* What is the z-score?\n",
    "\n",
    "[_]\n",
    "\n",
    "* What is the p-value for the test statistic? (use the $Q$ function in your answer)\n",
    "\n",
    "[_]\n",
    "\n",
    "* Can you reject at the .05 significance level? (answer 1 for yes or 0 for no)\n",
    "\n",
    "(Recall the values of the $Q$ function: \n",
    "$$Q(1) \\approx 15\\%;\\;\\;\n",
    "Q(2) \\approx 2.5\\%;\\;\\;\n",
    "Q(3) \\approx 0.15\\%;\\;\\;\n",
    "Q(4) \\approx 0.003\\%\n",
    "$$\n",
    "\n",
    "\n",
    "[x] Yes.  \n",
    "[ ] No.\n",
    "\n",
    "* Can you reject at the .01 significance level? (answer 1 for yes or 0 for no) \n",
    "\n",
    "[ ] Yes.  \n",
    "[x] No.\n"
   ]
  },
  {
   "cell_type": "code",
   "execution_count": 21,
   "metadata": {
    "collapsed": false
   },
   "outputs": [
    {
     "name": "stdout",
     "output_type": "stream",
     "text": [
      "-rw-r--r--  1 yoavfreund  staff  2797 Nov 19 17:33 Fish-chi2.imd\r\n",
      "-rw-r--r--  1 yoavfreund  staff  1839 Nov 19 17:34 psychic.imd\r\n",
      "-rw-r--r--  1 yoavfreund  staff  1698 Nov 19 17:34 Cars-chi2.imd\r\n"
     ]
    }
   ],
   "source": [
    "!rm chi2.1.imd chi2.2.imd Fish-chi2-1.imd\n",
    "!ls -lrt *.imd"
   ]
  },
  {
   "cell_type": "code",
   "execution_count": null,
   "metadata": {
    "collapsed": false
   },
   "outputs": [],
   "source": [
    "# %load gust75.md\n",
    "```python\n",
    "# random variables (no need to import random library)\n",
    "\n",
    "# Solutions with variables converted to string\n",
    "# Make sure you name the solution with part id at the end. e.g. 'solution1' will be solution for part 1.\n",
    "solution1 = \"65\"\n",
    "solution2 = \"65*(0.500*(((30.0/65.0)-0.500)/0.500)^2+0.250*(((20.0/65.0)-0.250)/0.250)^2+0.250*(((15.0/65.0)-0.250)/0.250)^2)\"\n",
    "solution3 = \"65*((1/3)*(((30.0/65.0)-(1/3))/(1/3))^2+(1/3)*(((20.0/65.0)-(1/3))/(1/3))^2+(1/3)*(((15.0/65.0)-(1/3))/(1/3))^2)\"\n",
    "\n",
    "# Group all solutions into a list\n",
    "solutions = [solution1, solution2, solution3]\n",
    "\n",
    "\n",
    "```\n",
    "\n",
    "Suppose there are 3 species of fish in the world, we are interested\n",
    "in two fish populations: fish of the pacific ocean and fish of the atlantic ocean.\n",
    "Each one of these populations is characterized by a distribution over the species of fish:\n",
    "The pacific distribution is uniform over the 3  species:\n",
    "\\\\\\[P_p=(1/3,1/3,1/3)\\\\\\] while in the Atlantic population the first species is twice more common than the other two: \\\\\\[P_a=(1/2,1/4,1/4)\\\\\\]\n",
    "\n",
    "Suppose we are given a  batch of 65 fish whose source is unknown.\n",
    "The number of fish of each species is \\\\\\(30,20,15\\\\\\).\n",
    "\n",
    "We would like to know whether the the batch of fish is from the Atlantic or the pacific (or both).\n",
    "\n",
    "One way of formalizing this problem is to consider two Null hypotheses:\n",
    "\n",
    "* HA = the batch is from the Atlantic ocean. More technically, the batch was sampled from the distribution \\\\\\(P_a\\\\\\)\n",
    "* HP = the batch is from the pacific ocean. More technically, the batch was sampled from the distribution \\\\\\(P_b\\\\\\).\n",
    "\n",
    "The test that we will use is the \\\\\\(\\chi^2\\\\\\) test. (https://en.wikipedia.org/wiki/Pearson%27s_chi-squared_test).\n",
    "\n",
    "The \\\\\\(\\chi^2\\\\\\) test statistic is\n",
    "\n",
    "\\\\\\[\\chi^2 =  N \\sum_{i=1}^n p_i \\left(\\frac{O_i/N - p_i}{p_i}\\right)^2\\\\\\]\n",
    "\n",
    "Where:\n",
    "* \\\\\\(n\\\\\\) is the number of species (3 in our case).\n",
    "* \\\\\\(p_i\\\\\\) is the probability of the \\\\\\(i\\\\\\)th species according to the Null distribution.\n",
    "* \\\\\\(O_i\\\\\\) is the number of observations of species \\\\\\(i\\\\\\)\n",
    "* \\\\\\(N\\\\\\) is the total number of observation. \\\\\\(N=\\sum_{i=1}^n O_i\\\\\\).\n",
    "\n",
    "*What is \\\\\\(N\\\\\\) in our case?\n",
    "\n",
    "[_]\n",
    "\n",
    "Write expressions for the \\\\\\(\\chi^2\\\\\\) statistic for the two null Hypotheses:\n",
    "\n",
    "* For hypothesis HA ( batch is from Atlantic ocean), \\\\\\[\\chi^2=\\\\\\]\n",
    "\n",
    "[_]\n",
    "\n",
    "* For hypothesis HP ( batch is from pacific ocean), \\\\\\[\\chi^2=\\\\\\]\n",
    "\n",
    "[_]\n",
    "\n",
    "This question continues with the next problem.\n"
   ]
  },
  {
   "cell_type": "code",
   "execution_count": null,
   "metadata": {
    "collapsed": true
   },
   "outputs": [],
   "source": [
    "# %load Chi2.2.md\n",
    "```python\n",
    "# random variables (no need to import random library)\n",
    "\n",
    "# Solutions with variables converted to string\n",
    "# Make sure you name the solution with part id at the end. e.g. 'solution1' will be solution for part 1.\n",
    "solution1 = \"0\"\n",
    "solution2 = \"0\"\n",
    "solution3 = \"1\"\n",
    "solution4 = \"1\"\n",
    "solution5 = \"1\"\n",
    "\n",
    "# Group all solutions into a list\n",
    "solutions = [solution1, solution2, solution3, solution4, solution5]\n",
    "\n",
    "\n",
    "```\n",
    "\n",
    "To compute the p-value of rejecting the Null hypothesis we need to know the **number of degrees of freedom** of the distribution. As the size of the space is 3 there are three variables defining the distribution: \\\\\\(p_1,p_2,p_3\\\\\\) as these probabilities sum to one there \\\\\\(v=2\\\\\\) degrees of freedom. We then use the CDF for the \\\\\\(\\chi^2\\\\\\) distribution with 2 degrees of freedom to calculate the p-values.\n",
    "\n",
    "Answer the following questions yes (enter 1) or no (enter 0)\n",
    "\n",
    "* A small value of the \\\\\\(\\chi^2\\\\\\) statistic justifies **rejecting** the Null Hypothesis\n",
    "\n",
    "[_]\n",
    "\n",
    "* A small value of the \\\\\\(\\chi^2\\\\\\) statistic justifies **accepting** the Null Hypothesis\n",
    "\n",
    "[_]\n",
    "\n",
    "* A large value of the \\\\\\(\\chi^2\\\\\\) statistic justifies **rejecting** the Null Hypothesis\n",
    "\n",
    "[_]\n",
    "\n",
    "* It is possible to reject both of the Null hypotheses:\n",
    "\n",
    "[_]\n",
    "\n",
    "* It is possible to not reject either of the Null hypotheses:\n",
    "\n",
    "[_]\n"
   ]
  },
  {
   "cell_type": "code",
   "execution_count": null,
   "metadata": {
    "collapsed": true
   },
   "outputs": [],
   "source": [
    "# %load Chi2.3.md\n",
    "```python\n",
    "# random variables (no need to import random library)\n",
    "\n",
    "# Solutions with variables converted to string\n",
    "# Make sure you name the solution with part id at the end. e.g. 'solution1' will be solution for part 1.\n",
    "solution1 = \"1\"\n",
    "solution2 = \"0\"\n",
    "\n",
    "\n",
    "# Group all solutions into a list\n",
    "solutions = [solution1, solution2]\n",
    "\n",
    "\n",
    "```\n",
    "\n",
    "Using the data given in the problem regarding the source of a batch of fish we get the following:\n",
    "\n",
    "* The p-value associated with rejecting the HA hypothesis is 0.5616\n",
    "* The p-value associated with rejecting the HP hypothesis is  0.0677\n",
    "\n",
    "Which hypothesis can we reject if we set our confidence level to be \\\\\\(\\alpha=\\\\\\)10% ?\n",
    "(use 1 for reject, 0 for not reject)\n",
    "\n",
    "* We can reject the hypothesis that the batch is from the Pacific ocean\n",
    "\n",
    "[_]\n",
    "\n",
    "* We can reject the hypothesis that the batch is from the Atlantic ocean\n",
    "\n",
    "[_]\n"
   ]
  },
  {
   "cell_type": "code",
   "execution_count": null,
   "metadata": {
    "collapsed": true
   },
   "outputs": [],
   "source": []
  }
 ],
 "metadata": {
  "kernelspec": {
   "display_name": "Python 2",
   "language": "python",
   "name": "python2"
  },
  "language_info": {
   "codemirror_mode": {
    "name": "ipython",
    "version": 2
   },
   "file_extension": ".py",
   "mimetype": "text/x-python",
   "name": "python",
   "nbconvert_exporter": "python",
   "pygments_lexer": "ipython2",
   "version": "2.7.12"
  }
 },
 "nbformat": 4,
 "nbformat_minor": 0
}
