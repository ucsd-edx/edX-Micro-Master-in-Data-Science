{
 "cells": [
  {
   "cell_type": "code",
   "execution_count": 1,
   "metadata": {
    "collapsed": true
   },
   "outputs": [],
   "source": [
    "# Standard includes\n",
    "%matplotlib inline\n",
    "import numpy as np\n",
    "import matplotlib\n",
    "import matplotlib.pyplot as plt\n",
    "from sklearn import linear_model\n",
    "from sklearn.metrics import mean_squared_error\n",
    "matplotlib.rc('xtick', labelsize=14) \n",
    "matplotlib.rc('ytick', labelsize=14)"
   ]
  },
  {
   "cell_type": "code",
   "execution_count": 2,
   "metadata": {
    "collapsed": true
   },
   "outputs": [],
   "source": [
    "# Now a higher-dimensional data set, but not enough points\n",
    "# Generate synthetic data\n",
    "n = 101\n",
    "d = 100\n",
    "noisestd = 1.0\n",
    "#\n",
    "x = np.matrix(np.random.normal(size=(n,d)))\n",
    "w = np.matrix(np.zeros((d,1)))\n",
    "for i in range(0,10):\n",
    "    w[i] = 1.0\n",
    "e = np.matrix(np.random.normal(size=(n,1)) * noisestd)\n",
    "#\n",
    "y = x * w + e\n",
    "#\n",
    "# Also generate a test set\n",
    "tx = np.matrix(np.random.normal(size=(n,d)))\n",
    "te = np.matrix(np.random.normal(size=(n,1)) * noisestd)\n",
    "#\n",
    "ty = tx * w + te"
   ]
  },
  {
   "cell_type": "code",
   "execution_count": 12,
   "metadata": {},
   "outputs": [
    {
     "data": {
      "text/plain": [
       "12.372237559711175"
      ]
     },
     "execution_count": 12,
     "metadata": {},
     "output_type": "execute_result"
    }
   ],
   "source": [
    "np.var(ty)"
   ]
  },
  {
   "cell_type": "code",
   "execution_count": 4,
   "metadata": {
    "scrolled": true
   },
   "outputs": [
    {
     "name": "stdout",
     "output_type": "stream",
     "text": [
      "('Slope, intercept: ', array([[ -5.52853618e+00,   1.26704008e+00,  -4.31901424e-01,\n",
      "          3.31725884e-03,   2.69288020e+00,   2.26205977e+00,\n",
      "          1.73752428e+00,   4.51496823e+00,   2.72745611e+00,\n",
      "          3.20530459e+00,  -4.32057229e-01,   1.02909995e+00,\n",
      "         -2.89958392e+00,   7.80318659e-01,  -1.12199120e+00,\n",
      "         -3.32010151e-01,  -7.69629041e-01,  -2.31797681e+00,\n",
      "          2.95538636e+00,  -1.22842887e+00,  -3.97132298e-01,\n",
      "          2.53977186e-01,   1.89296425e+00,   1.05887633e+00,\n",
      "         -8.10042486e-02,   2.56009617e-01,   4.02357292e+00,\n",
      "          1.56417472e+00,  -2.36046955e-01,   1.91266005e+00,\n",
      "          2.73729389e+00,   2.78174443e-01,   4.81500190e+00,\n",
      "         -2.55250807e-01,   3.28416527e-01,   2.23016826e+00,\n",
      "         -2.50798798e+00,  -4.41417201e-01,   5.64501874e+00,\n",
      "         -3.45475282e+00,  -4.21234149e+00,   2.39003427e+00,\n",
      "         -3.32089696e-01,  -9.39512360e-01,  -1.90441984e+00,\n",
      "         -1.24951880e+00,   1.55415137e+00,  -9.43683756e-01,\n",
      "          2.21948688e+00,   2.71970283e+00,   3.89051128e+00,\n",
      "         -2.24846061e+00,   2.90083381e+00,  -3.08412466e+00,\n",
      "         -1.32570723e+00,   6.82840987e+00,   9.08924933e-01,\n",
      "         -5.41885464e+00,  -5.67996301e-02,   3.21530722e-02,\n",
      "          1.13930255e+00,   1.28330812e+00,  -3.16312986e+00,\n",
      "          3.72961109e+00,  -3.62889621e+00,  -1.42339903e+00,\n",
      "         -6.16258466e-01,   1.95712985e+00,   2.11050968e+00,\n",
      "         -4.41499189e-02,   9.44797755e-01,   2.35024089e-01,\n",
      "          1.35984839e+00,   1.92098084e+00,  -3.24101709e+00,\n",
      "         -4.07429673e+00,   3.07627432e-01,  -2.79367770e+00,\n",
      "         -1.52575485e+00,   5.31088857e-01,  -5.13547637e-03,\n",
      "         -4.28610346e+00,   1.64637425e+00,   2.07668781e+00,\n",
      "          2.26433806e-01,  -1.21252223e-01,   1.32147241e+00,\n",
      "         -1.83662686e+00,  -1.93469124e+00,   3.91659805e+00,\n",
      "          1.48215772e+00,   2.46241338e+00,  -2.21396876e+00,\n",
      "         -1.07305863e+00,   4.35338337e+00,  -4.58638763e+00,\n",
      "         -1.18787441e+00,  -1.92182641e+00,   3.83295757e+00,\n",
      "         -2.72458412e+00]]), array([ 0.02555691]))\n",
      "Mean squared error on training set: 0.00\n",
      "Mean squared error on test set: 588.28\n"
     ]
    }
   ],
   "source": [
    "# Now regress y on x using least-squares\n",
    "regr = linear_model.LinearRegression()\n",
    "regr.fit(x, y)\n",
    "\n",
    "# Print coefficients\n",
    "print('Slope, intercept: ', regr.coef_, regr.intercept_)\n",
    "\n",
    "# Make predictions using the model and compute squared error\n",
    "y_pred = regr.predict(x)\n",
    "print(\"Mean squared error on training set: %.2f\" % mean_squared_error(y, y_pred))\n",
    "\n",
    "# Make predictions using the model and compute squared error\n",
    "ty_pred = regr.predict(tx)\n",
    "print(\"Mean squared error on test set: %.2f\" % mean_squared_error(ty, ty_pred))"
   ]
  },
  {
   "cell_type": "code",
   "execution_count": 23,
   "metadata": {},
   "outputs": [
    {
     "name": "stdout",
     "output_type": "stream",
     "text": [
      "('Slope, intercept: ', array([[  1.87991523e-01,   7.14063761e-01,   8.84440708e-01,\n",
      "          1.37247155e+00,   8.33902669e-01,   1.82161074e+00,\n",
      "          1.28437674e+00,   8.77802850e-01,   1.46028448e+00,\n",
      "          9.32121222e-01,  -3.86183809e-02,  -1.19841029e-01,\n",
      "         -3.28805027e-01,  -6.27741145e-01,  -5.01693384e-01,\n",
      "         -1.90151464e-01,  -2.33773876e-01,  -7.76942793e-02,\n",
      "         -1.47309246e-01,  -5.31419209e-03,   1.27396412e-01,\n",
      "         -3.48590162e-01,   1.63163858e-01,  -2.27145535e-01,\n",
      "         -3.31099315e-01,   5.27893547e-02,   3.03351200e-01,\n",
      "          2.08888604e-01,   2.61949325e-01,   3.38812173e-01,\n",
      "          4.60034431e-01,  -2.98211740e-01,  -2.03867438e-01,\n",
      "         -9.68371293e-01,   6.79640587e-02,   2.45506167e-01,\n",
      "          1.30994685e-01,  -5.70125420e-02,  -2.22910549e-01,\n",
      "         -4.25785376e-01,  -4.57812585e-01,   3.18188372e-01,\n",
      "         -1.22484173e-01,   5.64568708e-02,  -2.73624797e-01,\n",
      "         -1.88190977e-01,   2.48030660e-01,   1.93110091e-01,\n",
      "          1.20195548e-01,   1.63565344e-01,   7.36057848e-03,\n",
      "         -5.28068132e-01,   8.67680811e-01,  -3.32661711e-01,\n",
      "          7.91333709e-01,   7.84451864e-01,  -1.99767473e-01,\n",
      "         -5.33043610e-01,  -3.99368467e-01,  -1.56486394e-01,\n",
      "         -1.19212878e-02,   2.87718432e-01,   1.45014984e-01,\n",
      "          6.68627834e-02,   2.37004814e-01,   1.75410696e-02,\n",
      "          6.88737996e-01,   4.32712794e-01,   6.72189518e-01,\n",
      "          6.95425575e-01,   2.15170486e-01,  -2.87941274e-01,\n",
      "          6.06459711e-01,   5.68557654e-01,   2.55127752e-01,\n",
      "         -3.53529877e-01,  -1.18810434e-01,   6.77976088e-02,\n",
      "         -2.10505068e-01,   5.73487905e-02,  -3.18530039e-01,\n",
      "         -1.69439348e-01,  -1.97893731e-01,  -3.17221565e-01,\n",
      "          4.46252632e-01,   3.47090847e-01,   2.50127641e-01,\n",
      "          4.57882492e-01,  -3.77665227e-01,   3.56426733e-01,\n",
      "          8.49544539e-01,   2.28549356e-01,   4.24964454e-01,\n",
      "          1.93617719e-01,   6.69139692e-01,  -6.22820290e-01,\n",
      "         -3.90006998e-01,  -9.13095563e-01,   3.50586471e-01,\n",
      "         -1.17677885e-03]]), array([-0.2553121]))\n",
      "Mean squared error on training set: 0.03\n",
      "Mean squared error on test set: 19.26\n"
     ]
    }
   ],
   "source": [
    "# Now regress y on x using ridge regression\n",
    "regr = linear_model.Ridge(alpha=0.1)\n",
    "regr.fit(x, y)\n",
    "\n",
    "# Print coefficients\n",
    "print('Slope, intercept: ', regr.coef_, regr.intercept_)\n",
    "\n",
    "# Make predictions using the model and compute squared error\n",
    "y_pred = regr.predict(x)\n",
    "print(\"Mean squared error on training set: %.2f\" % mean_squared_error(y, y_pred))\n",
    "\n",
    "# Make predictions using the model and compute squared error\n",
    "ty_pred = regr.predict(tx)\n",
    "print(\"Mean squared error on test set: %.2f\" % mean_squared_error(ty, ty_pred))"
   ]
  },
  {
   "cell_type": "code",
   "execution_count": 25,
   "metadata": {},
   "outputs": [
    {
     "name": "stdout",
     "output_type": "stream",
     "text": [
      "('Lambda: ', 1e-05)\n",
      "Mean squared error on training set: 0.00\n",
      "Mean squared error on test set: 585.81\n",
      "('Lambda: ', 0.0001)\n",
      "Mean squared error on training set: 0.00\n",
      "Mean squared error on test set: 564.28\n",
      "('Lambda: ', 0.001)\n",
      "Mean squared error on training set: 0.00\n",
      "Mean squared error on test set: 404.08\n",
      "('Lambda: ', 0.01)\n",
      "Mean squared error on training set: 0.01\n",
      "Mean squared error on test set: 83.48\n",
      "('Lambda: ', 0.1)\n",
      "Mean squared error on training set: 0.03\n",
      "Mean squared error on test set: 19.26\n",
      "('Lambda: ', 1.0)\n",
      "Mean squared error on training set: 0.07\n",
      "Mean squared error on test set: 7.02\n",
      "('Lambda: ', 10.0)\n",
      "Mean squared error on training set: 0.35\n",
      "Mean squared error on test set: 2.84\n",
      "('Lambda: ', 100.0)\n",
      "Mean squared error on training set: 2.40\n",
      "Mean squared error on test set: 5.79\n",
      "('Lambda: ', 1000.0)\n",
      "Mean squared error on training set: 8.19\n",
      "Mean squared error on test set: 10.97\n",
      "('Lambda: ', 10000.0)\n",
      "Mean squared error on training set: 10.83\n",
      "Mean squared error on test set: 12.63\n"
     ]
    }
   ],
   "source": [
    "values = [0.00001, 0.0001, 0.001, 0.01, 0.1, 1.0, 10.0, 100.0, 1000.0, 10000.0]\n",
    "\n",
    "for v in values:\n",
    "    regr = linear_model.Ridge(alpha=v)\n",
    "    regr.fit(x, y)\n",
    "    print (\"Lambda: \", v)\n",
    "\n",
    "    # Make predictions on training set\n",
    "    y_pred = regr.predict(x)\n",
    "    print(\"Mean squared error on training set: %.2f\" % mean_squared_error(y, y_pred))\n",
    "\n",
    "    # Make predictions using the model and compute squared error\n",
    "    ty_pred = regr.predict(tx)\n",
    "    print(\"Mean squared error on test set: %.2f\" % mean_squared_error(ty, ty_pred))\n"
   ]
  },
  {
   "cell_type": "code",
   "execution_count": 31,
   "metadata": {},
   "outputs": [
    {
     "name": "stdout",
     "output_type": "stream",
     "text": [
      "('Slope, intercept: ', array([ 0.71684698,  0.77843527,  0.74401769,  0.77285114,  0.80797283,\n",
      "        0.95866651,  0.66708465,  0.857495  ,  0.89680954,  0.69326906,\n",
      "       -0.        ,  0.        , -0.        , -0.        , -0.        ,\n",
      "        0.        , -0.        ,  0.        , -0.        , -0.        ,\n",
      "        0.        , -0.        ,  0.        ,  0.        , -0.        ,\n",
      "        0.        ,  0.        ,  0.        , -0.        ,  0.        ,\n",
      "        0.        ,  0.        , -0.        ,  0.        ,  0.        ,\n",
      "        0.        ,  0.        ,  0.        , -0.        , -0.        ,\n",
      "       -0.        , -0.        ,  0.        ,  0.        , -0.        ,\n",
      "        0.        ,  0.        ,  0.        , -0.        , -0.        ,\n",
      "       -0.        ,  0.        , -0.        ,  0.        ,  0.        ,\n",
      "       -0.        ,  0.08008983,  0.        ,  0.        , -0.        ,\n",
      "       -0.        ,  0.        ,  0.        , -0.        , -0.        ,\n",
      "        0.        ,  0.        , -0.        , -0.        ,  0.        ,\n",
      "        0.        , -0.01724173,  0.        ,  0.        ,  0.        ,\n",
      "       -0.        ,  0.        , -0.        , -0.        ,  0.        ,\n",
      "        0.        , -0.        ,  0.        , -0.        ,  0.        ,\n",
      "        0.        ,  0.        ,  0.        , -0.        ,  0.        ,\n",
      "       -0.        , -0.        , -0.00297536,  0.        ,  0.        ,\n",
      "       -0.01261446,  0.        , -0.        ,  0.        ,  0.        ]), array([-0.02023814]))\n",
      "Mean squared error on training set: 1.25\n",
      "Mean squared error on test set: 1.87\n"
     ]
    }
   ],
   "source": [
    "# Now regress y on x using Lasso\n",
    "regr = linear_model.Lasso(alpha=0.2)\n",
    "regr.fit(x, y)\n",
    "\n",
    "# Print coefficients\n",
    "print('Slope, intercept: ', regr.coef_, regr.intercept_)\n",
    "\n",
    "# Make predictions using the model and compute squared error\n",
    "y_pred = regr.predict(x)\n",
    "print(\"Mean squared error on training set: %.2f\" % mean_squared_error(y, y_pred))\n",
    "\n",
    "# Make predictions using the model and compute squared error\n",
    "ty_pred = regr.predict(tx)\n",
    "print(\"Mean squared error on test set: %.2f\" % mean_squared_error(ty, ty_pred))"
   ]
  },
  {
   "cell_type": "code",
   "execution_count": 27,
   "metadata": {},
   "outputs": [
    {
     "name": "stdout",
     "output_type": "stream",
     "text": [
      "('Lambda: ', 1e-05)\n",
      "Mean squared error on training set: 0.02\n",
      "Mean squared error on test set: 32.44\n",
      "('Lambda: ', 0.0001)\n",
      "Mean squared error on training set: 0.02\n",
      "Mean squared error on test set: 28.79\n",
      "('Lambda: ', 0.001)\n",
      "Mean squared error on training set: 0.03\n",
      "Mean squared error on test set: 14.82\n",
      "('Lambda: ', 0.01)\n",
      "Mean squared error on training set: 0.15\n",
      "Mean squared error on test set: 3.08\n",
      "('Lambda: ', 0.1)\n",
      "Mean squared error on training set: 0.80\n",
      "Mean squared error on test set: 1.47\n",
      "('Lambda: ', 1.0)\n",
      "Mean squared error on training set: 8.86\n",
      "Mean squared error on test set: 11.07\n",
      "('Lambda: ', 10.0)\n",
      "Mean squared error on training set: 11.24\n",
      "Mean squared error on test set: 12.86\n",
      "('Lambda: ', 100.0)\n",
      "Mean squared error on training set: 11.24\n",
      "Mean squared error on test set: 12.86\n",
      "('Lambda: ', 1000.0)\n",
      "Mean squared error on training set: 11.24\n",
      "Mean squared error on test set: 12.86\n",
      "('Lambda: ', 10000.0)\n",
      "Mean squared error on training set: 11.24\n",
      "Mean squared error on test set: 12.86\n"
     ]
    },
    {
     "name": "stderr",
     "output_type": "stream",
     "text": [
      "/Users/dasgupta314/anaconda/lib/python2.7/site-packages/sklearn/linear_model/coordinate_descent.py:484: ConvergenceWarning: Objective did not converge. You might want to increase the number of iterations. Fitting data with very small alpha may cause precision problems.\n",
      "  ConvergenceWarning)\n"
     ]
    }
   ],
   "source": [
    "values = [0.00001, 0.0001, 0.001, 0.01, 0.1, 1.0, 10.0, 100.0, 1000.0, 10000.0]\n",
    "\n",
    "for v in values:\n",
    "    regr = linear_model.Lasso(alpha=v)\n",
    "    regr.fit(x, y)\n",
    "    print (\"Lambda: \", v)\n",
    "\n",
    "    # Make predictions on training set\n",
    "    y_pred = regr.predict(x)\n",
    "    print(\"Mean squared error on training set: %.2f\" % mean_squared_error(y, y_pred))\n",
    "\n",
    "    # Make predictions using the model and compute squared error\n",
    "    ty_pred = regr.predict(tx)\n",
    "    print(\"Mean squared error on test set: %.2f\" % mean_squared_error(ty, ty_pred))\n",
    "\n"
   ]
  },
  {
   "cell_type": "code",
   "execution_count": null,
   "metadata": {
    "collapsed": true
   },
   "outputs": [],
   "source": []
  }
 ],
 "metadata": {
  "kernelspec": {
   "display_name": "Python 2",
   "language": "python",
   "name": "python2"
  },
  "language_info": {
   "codemirror_mode": {
    "name": "ipython",
    "version": 2
   },
   "file_extension": ".py",
   "mimetype": "text/x-python",
   "name": "python",
   "nbconvert_exporter": "python",
   "pygments_lexer": "ipython2",
   "version": "2.7.13"
  },
  "toc": {
   "colors": {
    "hover_highlight": "#DAA520",
    "navigate_num": "#000000",
    "navigate_text": "#333333",
    "running_highlight": "#FF0000",
    "selected_highlight": "#FFD700",
    "sidebar_border": "#EEEEEE",
    "wrapper_background": "#FFFFFF"
   },
   "moveMenuLeft": true,
   "nav_menu": {
    "height": "12px",
    "width": "252px"
   },
   "navigate_menu": true,
   "number_sections": true,
   "sideBar": true,
   "threshold": 4,
   "toc_cell": false,
   "toc_section_display": "block",
   "toc_window_display": false,
   "widenNotebook": false
  }
 },
 "nbformat": 4,
 "nbformat_minor": 2
}
