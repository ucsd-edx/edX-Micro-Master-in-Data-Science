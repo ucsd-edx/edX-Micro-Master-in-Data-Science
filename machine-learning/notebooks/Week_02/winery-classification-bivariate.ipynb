{
 "cells": [
  {
   "cell_type": "markdown",
   "metadata": {},
   "source": [
    "## Load in the data set"
   ]
  },
  {
   "cell_type": "markdown",
   "metadata": {},
   "source": [
    "(As in the univariate case.) Start by loading in the Wine data set.\n",
    "There are 178 data points, each with 13 features and a label (1,2,3).\n",
    "We will divide these into a training set of 130 points and a test set of 48 points."
   ]
  },
  {
   "cell_type": "code",
   "execution_count": 1,
   "metadata": {
    "collapsed": true
   },
   "outputs": [],
   "source": [
    "# Standard includes\n",
    "%matplotlib inline\n",
    "import numpy as np\n",
    "import matplotlib.pyplot as plt\n",
    "# Useful module for dealing with the Gaussian density\n",
    "from scipy.stats import norm, multivariate_normal \n",
    "# Now load \"wine.data.txt\" data set.\n",
    "# This needs to be in the same directory\n",
    "# 178 lines, each with one point. First value is the label (1,2,3), remaining 13 numbers are features\n",
    "data = np.loadtxt('wine.data.txt', delimiter=',')\n",
    "# Names of features\n",
    "featurenames = ['Alcohol', 'Malic acid', 'Ash', 'Alcalinity of ash','Magnesium', 'Total phenols', \n",
    "                'Flavanoids', 'Nonflavanoid phenols', 'Proanthocyanins', 'Color intensity', 'Hue', \n",
    "                'OD280/OD315 of diluted wines', 'Proline']\n",
    "perm = np.array([  4,  93, 103, 152,  77,  81,  14,  58, 139,  53,  40, 167,  20,\n",
    "        80, 130,  16, 110, 158,  42, 135,   8,  69, 153,  94,  91,  51,\n",
    "       117, 146,  72, 142, 137,  88, 165, 106,  33,  67, 133, 113, 171,\n",
    "       129, 141,  21,  12,  44,   3, 164, 169,  41,   6, 177,  17, 174,\n",
    "       104, 176, 168,  26, 173, 122, 159, 111, 163,  50,  15,  37, 114,\n",
    "         2, 109,  68,  39,  96,  36, 149, 151, 124, 156, 108, 107,  30,\n",
    "        43,  28,  54,  59, 154,  78,  92, 157, 140,  73,  34,  49, 160,\n",
    "       118, 125, 126, 127, 145, 144,   9,  24,  90,  84,  55,  19, 148,\n",
    "        25,  61, 123,   0,  38,  97,  32,  85,  29,  45, 128,  75,  66,\n",
    "        86,  47, 102, 175,  63,  82,  83, 115, 136,  98,  46,  62, 150,\n",
    "       162, 134, 138,  76,  87, 170, 105,  65,  89,  71, 112,  56,  74,\n",
    "       132, 100,  27,  64, 166,  22, 155,  57, 119,  99,   7,  23,  13,\n",
    "       121, 101, 116, 172,  95, 131,  10,  35,  11,  60, 161,   1,  18,\n",
    "       147, 143,  31,  79,  48,   5, 120,  52,  70])\n",
    "# Split 178 instances into training set (x, y) of size 130 and test set (tx, ty) of size 48\n",
    "# Also split apart data and labels\n",
    "# perm = np.random.permutation(178)\n",
    "x = data[perm[0:130],1:14]\n",
    "y = data[perm[0:130],0]\n",
    "tx = data[perm[130:178], 1:14]\n",
    "ty = data[perm[130:178],0]"
   ]
  },
  {
   "cell_type": "code",
   "execution_count": 2,
   "metadata": {
    "collapsed": true
   },
   "outputs": [],
   "source": [
    "# installing packages for interactive graphs\n",
    "import ipywidgets as widgets\n",
    "from IPython.display import display\n",
    "from ipywidgets import interact, interactive, fixed, interact_manual, IntSlider"
   ]
  },
  {
   "cell_type": "markdown",
   "metadata": {},
   "source": [
    "## Look at the distribution of two features from one of the wineries"
   ]
  },
  {
   "cell_type": "markdown",
   "metadata": {},
   "source": [
    "This time we'll use two features: 'Alcohol' (feature #0) and 'Flavanoids' (feature #6). "
   ]
  },
  {
   "cell_type": "code",
   "execution_count": 3,
   "metadata": {
    "collapsed": true
   },
   "outputs": [],
   "source": [
    "# Fit a Gaussian to a data set using the selected features\n",
    "def fit_gaussian(x, features):\n",
    "    mu = np.mean(x[:,features], axis=0)\n",
    "    covar = np.cov(x[:,features], rowvar=0, bias=1)\n",
    "    return mu, covar"
   ]
  },
  {
   "cell_type": "markdown",
   "metadata": {},
   "source": [
    "Fit a Gaussian to label 1, using just these two features. Show the parameters of the Gaussian."
   ]
  },
  {
   "cell_type": "code",
   "execution_count": 4,
   "metadata": {},
   "outputs": [
    {
     "name": "stdout",
     "output_type": "stream",
     "text": [
      "Mean:\n",
      "[ 13.72023256   2.96348837]\n",
      "Covariance matrix:\n",
      "[[ 0.20046739  0.05571779]\n",
      " [ 0.05571779  0.12084132]]\n"
     ]
    }
   ],
   "source": [
    "f1 = 0\n",
    "f2 = 6\n",
    "features = [f1, f2]\n",
    "label = 1\n",
    "mu, covar = fit_gaussian(x[y==label,:], features)\n",
    "print \"Mean:\\n\" + str(mu)\n",
    "print \"Covariance matrix:\\n\" + str(covar)"
   ]
  },
  {
   "cell_type": "markdown",
   "metadata": {},
   "source": [
    "Now display the training points for label 1, restricted to the two selected features.\n",
    "Also show a few contour lines of the Gaussian fit."
   ]
  },
  {
   "cell_type": "code",
   "execution_count": 5,
   "metadata": {},
   "outputs": [
    {
     "data": {
      "application/vnd.jupyter.widget-view+json": {
       "model_id": "fc874e71963f4cafa64ed39ea60998c4"
      }
     },
     "metadata": {},
     "output_type": "display_data"
    }
   ],
   "source": [
    "@interact_manual( f1=IntSlider(0,0,12,1), f2=IntSlider(6,0,12,1), label=IntSlider(1,1,3,1) )\n",
    "def twoFeaturesPlot(f1,f2,label):\n",
    "    # Setting up variables\n",
    "    if f1 == f2: #<-- if f1 == f2 then then we would get an error\n",
    "        print \"Please choose different features for f1 and f2.\"\n",
    "        return  \n",
    "    features = [f1, f2]\n",
    "    mu, covar = fit_gaussian(x[y==label,:], features)\n",
    "    \n",
    "    # Plot the training points along the two selected features\n",
    "    plt.plot(x[y==label,f1], x[y==label,f2], 'ro')\n",
    "    plt.xlabel(featurenames[f1], fontsize=14, color='red')\n",
    "    plt.ylabel(featurenames[f2], fontsize=14, color='red')\n",
    "    # For the plot: obtain limits along the x1-axis and x2-axis\n",
    "    x1_lower = min(x[y==label,f1])\n",
    "    x1_upper = max(x[y==label,f1])\n",
    "    x1_width = x1_upper - x1_lower\n",
    "    x1_lower = x1_lower - 0.2 * x1_width\n",
    "    x1_upper = x1_upper + 0.2 * x1_width\n",
    "    x2_lower = min(x[y==label,f2])\n",
    "    x2_upper = max(x[y==label,f2])\n",
    "    x2_width = x2_upper - x2_lower\n",
    "    x2_lower = x2_lower - 0.2 * x2_width\n",
    "    x2_upper = x2_upper + 0.2 * x2_width\n",
    "    plt.xlim(x1_lower, x1_upper)\n",
    "    plt.ylim(x2_lower, x2_upper)\n",
    "    \n",
    "    # Finally, plot a contour of the Gaussian\n",
    "    res = 200 # resolution\n",
    "    xg = np.linspace(x1_lower, x1_upper, res)\n",
    "    yg = np.linspace(x2_lower, x2_upper, res)\n",
    "    z = np.zeros((res,res))\n",
    "    rv = multivariate_normal(mean=mu, cov=covar)\n",
    "    \n",
    "    for i in range(0,res):\n",
    "        for j in range(0,res):\n",
    "            z[j,i] = rv.logpdf([xg[i], yg[j]]) \n",
    "    sign, logdet = np.linalg.slogdet(covar)\n",
    "    normalizer = -0.5 * (2 * np.log(6.28) + sign * logdet)\n",
    "    for offset in range(0,4):\n",
    "        plt.contour(xg,yg,z, levels=[normalizer - offset], colors='k', linewidths=2.0, linestyles='solid')\n",
    "    # Finally, display\n",
    "    plt.show()"
   ]
  },
  {
   "cell_type": "markdown",
   "metadata": {},
   "source": [
    "### <font color=\"magenta\">*Fast Exercise*</font>"
   ]
  },
  {
   "cell_type": "markdown",
   "metadata": {},
   "source": [
    "Try changing the features and labels in the graph to see how the graph changes. Can you guess what the graph would look like if f1 and f2 were the same feature? Do you think it would look <font color=\"blue\">\"random\"</font>, <font color=\"blue\">\"linear\"</font>, or a <font color=\"blue\">\"single_dot\"</font>?"
   ]
  },
  {
   "cell_type": "markdown",
   "metadata": {},
   "source": [
    "Write a function, **sameFeatureGraph**, that returns the type of graph you believe you would see from plotting the same feature on the x and y axis."
   ]
  },
  {
   "cell_type": "code",
   "execution_count": 6,
   "metadata": {
    "collapsed": true
   },
   "outputs": [],
   "source": [
    "# modify this cell\n",
    "\n",
    "def sameFeatureGraph():\n",
    "    # inputs: no inputs\n",
    "    # output: return either \"random\", \"linear\", or \"single_dot\"\n",
    "    \n",
    "    ### BEGIN SOLUTION\n",
    "    return \"linear\"\n",
    "    ### END SOLUTION"
   ]
  },
  {
   "cell_type": "code",
   "execution_count": 7,
   "metadata": {
    "collapsed": true
   },
   "outputs": [],
   "source": [
    "assert sameFeatureGraph() == \"linear\""
   ]
  },
  {
   "cell_type": "markdown",
   "metadata": {},
   "source": [
    "## Fit a Gaussian to each class"
   ]
  },
  {
   "cell_type": "markdown",
   "metadata": {},
   "source": [
    "Let's define a function that will fit a Gaussian generative model to the three classes."
   ]
  },
  {
   "cell_type": "code",
   "execution_count": 8,
   "metadata": {
    "collapsed": true
   },
   "outputs": [],
   "source": [
    "# Assumes y takes on values 1,2,3\n",
    "def fit_generative_model(x, y, features):\n",
    "    k = 3 # number of classes\n",
    "    d = len(features) # number of features\n",
    "    mu = np.zeros((k+1,d)) # list of means\n",
    "    covar = np.zeros((k+1,d,d)) # list of covariance matrices\n",
    "    pi = np.zeros(k+1) # list of class weights\n",
    "    for label in range(1,k+1):\n",
    "        indices = (y==label)\n",
    "        mu[label,:], covar[label,:,:] = fit_gaussian(x[indices,:], features)\n",
    "        pi[label] = float(sum(indices))/float(len(y))\n",
    "    return mu, covar, pi"
   ]
  },
  {
   "cell_type": "markdown",
   "metadata": {},
   "source": [
    "Call this function on the features 'alcohol' and 'flavanoids'."
   ]
  },
  {
   "cell_type": "code",
   "execution_count": 9,
   "metadata": {
    "collapsed": true
   },
   "outputs": [],
   "source": [
    "f1 = 0 # alcohol\n",
    "f2 = 6 # flavanoids\n",
    "features = [f1,f2] \n",
    "mu, covar, pi = fit_generative_model(x, y, features)"
   ]
  },
  {
   "cell_type": "markdown",
   "metadata": {},
   "source": [
    "Let's look at the means of the three classes"
   ]
  },
  {
   "cell_type": "code",
   "execution_count": 10,
   "metadata": {},
   "outputs": [
    {
     "data": {
      "text/plain": [
       "array([[  0.        ,   0.        ],\n",
       "       [ 13.72023256,   2.96348837],\n",
       "       [ 12.29215686,   2.05254902],\n",
       "       [ 13.15777778,   0.79972222]])"
      ]
     },
     "execution_count": 10,
     "metadata": {},
     "output_type": "execute_result"
    }
   ],
   "source": [
    "mu"
   ]
  },
  {
   "cell_type": "markdown",
   "metadata": {},
   "source": [
    "Next, display the Gaussian distribution for each of the three classes.\n",
    "\n",
    "We start with a little helper function that is used to find the range in which each feature's values lie."
   ]
  },
  {
   "cell_type": "code",
   "execution_count": 11,
   "metadata": {
    "collapsed": true
   },
   "outputs": [],
   "source": [
    "# Find the range within which an array of numbers lie, with a little buffer\n",
    "def find_range(x):\n",
    "    lower = min(x)\n",
    "    upper = max(x)\n",
    "    width = upper - lower\n",
    "    lower = lower - 0.2 * width\n",
    "    upper = upper + 0.2 * width\n",
    "    return lower, upper"
   ]
  },
  {
   "cell_type": "markdown",
   "metadata": {},
   "source": [
    "Now for the main plotting routine."
   ]
  },
  {
   "cell_type": "code",
   "execution_count": 12,
   "metadata": {},
   "outputs": [
    {
     "data": {
      "application/vnd.jupyter.widget-view+json": {
       "model_id": "4a3602a21e49454eb8a2c1aedddd64a3"
      }
     },
     "metadata": {},
     "output_type": "display_data"
    }
   ],
   "source": [
    "@interact_manual( f1=IntSlider(0,0,12,1), f2=IntSlider(6,0,12,1) )\n",
    "def threeGaussiansPlot(f1,f2):\n",
    "    # Setting up variables\n",
    "    if f1 == f2: #<-- if f1 == f2 then then we would get an error\n",
    "        print \"Please choose different features for f1 and f2.\"\n",
    "        return  \n",
    "    features = [f1,f2] \n",
    "    mu, covar, pi = fit_generative_model(x, y, features)\n",
    "    \n",
    "    # Show the Gaussian fit to each class, using features f1,f2\n",
    "    col = ['r', 'k', 'g']\n",
    "    # Find rough ranges along each feature\n",
    "    x1_lower, x1_upper = find_range(x[:,f1])\n",
    "    x2_lower, x2_upper = find_range(x[:,f2])\n",
    "    plt.xlim(x1_lower,x1_upper)\n",
    "    plt.ylim(x2_lower,x2_upper)\n",
    "    # Plot the training points along the two selected features\n",
    "    plt.plot(x[y==1,f1], x[y==1,f2], 'ro')\n",
    "    plt.plot(x[y==2,f1], x[y==2,f2], 'k^')\n",
    "    plt.plot(x[y==3,f1], x[y==3,f2], 'gs')\n",
    "    plt.xlabel(featurenames[f1], fontsize=14, color='red')\n",
    "    plt.ylabel(featurenames[f2], fontsize=14, color='red')\n",
    "    # Now draw a contour line for each label's Gaussian\n",
    "    res = 200\n",
    "    d = float(len(features))\n",
    "    xg = np.linspace(x1_lower,x1_upper,res)\n",
    "    yg = np.linspace(x2_lower,x2_upper,res)\n",
    "    z = np.zeros((res,res))\n",
    "    for label in range(1,4):\n",
    "        gmean = mu[label,:]\n",
    "        gcov = covar[label,:,:]\n",
    "        rv = multivariate_normal(mean=gmean, cov=gcov)\n",
    "        for i in range(0,res):\n",
    "            for j in range(0,res):\n",
    "                 z[j,i] = rv.logpdf([xg[i], yg[j]]) \n",
    "        sign, logdet = np.linalg.slogdet(gcov)\n",
    "        normalizer = -0.5 * (d * np.log(6.28) + sign * logdet)\n",
    "        plt.contour(xg,yg,z,levels=[normalizer - 4.0],colors=col[label-1],linewidths=2.0,linestyles='solid')\n",
    "    # Finally, display\n",
    "    plt.show()"
   ]
  },
  {
   "cell_type": "markdown",
   "metadata": {},
   "source": [
    "### <font color=\"magenta\">*Fast Exercise*</font>"
   ]
  },
  {
   "cell_type": "markdown",
   "metadata": {},
   "source": [
    "Try running the gaussian plots for different features."
   ]
  },
  {
   "cell_type": "markdown",
   "metadata": {},
   "source": [
    "## Prediction time"
   ]
  },
  {
   "cell_type": "markdown",
   "metadata": {},
   "source": [
    "How well we can predict the class (1,2,3) based just on these two features?\n",
    "\n",
    "We start with a testing procedure that is analogous to what we developed in the 1-d case."
   ]
  },
  {
   "cell_type": "code",
   "execution_count": 13,
   "metadata": {},
   "outputs": [
    {
     "data": {
      "application/vnd.jupyter.widget-view+json": {
       "model_id": "ecdd6f6808764cf1858d7b8791ef35e4"
      }
     },
     "metadata": {},
     "output_type": "display_data"
    }
   ],
   "source": [
    "# Now test the performance of a predictor based on a subset of features\n",
    "@interact( f1=IntSlider(0,0,12,1), f2=IntSlider(6,0,12,1) )\n",
    "def test_model(f1, f2):\n",
    "    # Setting up variables\n",
    "    if f1 == f2: #<-- if f1 == f2 then then we would get an error\n",
    "        print \"Please choose different features for f1 and f2.\"\n",
    "        return  \n",
    "    features= [f1,f2]\n",
    "    mu, covar, pi = fit_generative_model(x, y, features)\n",
    "    \n",
    "    k = 3 # Labels 1,2,...,k\n",
    "    nt = len(ty) # Number of test points\n",
    "    score = np.zeros((nt,k+1))\n",
    "    for i in range(0,nt):\n",
    "        for label in range(1,k+1):\n",
    "            score[i,label] = np.log(pi[label]) + \\\n",
    "            multivariate_normal.logpdf(tx[i,features], mean=mu[label,:], cov=covar[label,:,:])\n",
    "    predictions = np.argmax(score[:,1:4], axis=1) + 1\n",
    "    # Finally, tally up score\n",
    "    errors = np.sum(predictions != ty)\n",
    "    print \"Test error using feature(s): \",\n",
    "    for f in features:\n",
    "        print \"'\" + featurenames[f] + \"'\" + \" \",\n",
    "    print\n",
    "    print \"Errors: \" + str(errors) + \"/\" + str(nt)# Now test the performance of a predictor based on a subset of features"
   ]
  },
  {
   "cell_type": "markdown",
   "metadata": {},
   "source": [
    "### <font color=\"magenta\">*Fast Exercise*</font>"
   ]
  },
  {
   "cell_type": "markdown",
   "metadata": {},
   "source": [
    "Look at other pairs of features, and see what kinds of test errors result. Which feature, whe combined with <font color=\"blue\">\"Magnesuim\"</font>, produces the smallest `Test error` ?"
   ]
  },
  {
   "cell_type": "markdown",
   "metadata": {},
   "source": [
    "Write a function, **MagnesiumAndWhat**, that returns the name of the feature to the question above."
   ]
  },
  {
   "cell_type": "code",
   "execution_count": 14,
   "metadata": {
    "collapsed": true
   },
   "outputs": [],
   "source": [
    "# modify this cell\n",
    "\n",
    "def MagnesiumAndWhat():\n",
    "    # inputs: no inputs\n",
    "    # output: return a feature name, like: 'Alcohol', 'Flavanoids', or 'Color intensity'\n",
    "    \n",
    "    ### BEGIN SOLUTION\n",
    "    return \"Flavanoids\"\n",
    "    ### END SOLUTION"
   ]
  },
  {
   "cell_type": "code",
   "execution_count": 15,
   "metadata": {
    "collapsed": true
   },
   "outputs": [],
   "source": [
    "assert MagnesiumAndWhat() == 'Flavanoids'"
   ]
  },
  {
   "cell_type": "markdown",
   "metadata": {
    "collapsed": true
   },
   "source": [
    "## The decision boundary "
   ]
  },
  {
   "cell_type": "markdown",
   "metadata": {},
   "source": [
    "This draws the decision boundary between the three classes, as found above. It takes a few minutes to do all its calculations.\n"
   ]
  },
  {
   "cell_type": "code",
   "execution_count": 16,
   "metadata": {},
   "outputs": [
    {
     "name": "stdout",
     "output_type": "stream",
     "text": [
      "This code is done for f1=0 [Alcohol] and f2=6 [Flavanoids]\n"
     ]
    },
    {
     "data": {
      "image/png": "[encoded data removed]",
      "text/plain": [
       "<matplotlib.figure.Figure at 0x7ff89b605b10>"
      ]
     },
     "metadata": {},
     "output_type": "display_data"
    }
   ],
   "source": [
    "# Setup variables\n",
    "print \"This code is done for f1=0 [Alcohol] and f2=6 [Flavanoids]\"\n",
    "f1, f2 = 0, 6\n",
    "features = [f1,f2] \n",
    "mu, covar, pi = fit_generative_model(x, y, features)\n",
    "x1_lower, x1_upper = find_range(x[:,f1])      #  <--  Finds rough ranges along each feature\n",
    "x2_lower, x2_upper = find_range(x[:,f2])\n",
    "\n",
    "# Plot the decision boundary for a classifier based only on the two selected features\n",
    "delta = 0.005\n",
    "x1 = np.arange(x1_lower,x1_upper,delta)\n",
    "x2 = np.arange(x2_lower,x2_upper,delta)\n",
    "rv1 = multivariate_normal(mean=mu[1,:], cov = covar[1,:,:])\n",
    "rv2 = multivariate_normal(mean=mu[2,:], cov = covar[2,:,:])\n",
    "rv3 = multivariate_normal(mean=mu[3,:], cov = covar[3,:,:])\n",
    "Z1 = np.zeros((len(x1),len(x2)))\n",
    "Z2 = np.zeros((len(x1),len(x2)))\n",
    "Z3 = np.zeros((len(x1),len(x2)))\n",
    "for i in range(0,len(x1)):\n",
    "    for j in range(0,len(x2)):\n",
    "        v1 = np.log(pi[1]) + rv1.logpdf([x1[i],x2[j]])\n",
    "        v2 = np.log(pi[2]) + rv2.logpdf([x1[i],x2[j]])\n",
    "        v3 = np.log(pi[3]) + rv3.logpdf([x1[i],x2[j]])\n",
    "        m = max([v1,v2,v3])\n",
    "        Z1[i,j] = v1 - m\n",
    "        Z2[i,j] = v2 - m\n",
    "        Z3[i,j] = v3 - m\n",
    "plt.plot(x[y==1,f1], x[y==1,f2], 'ro')\n",
    "plt.plot(x[y==2,f1], x[y==2,f2], 'k^')\n",
    "plt.plot(x[y==3,f1], x[y==3,f2], 'gs')\n",
    "plt.xlabel(featurenames[f1], fontsize=14, color='red')\n",
    "plt.ylabel(featurenames[f2], fontsize=14, color='red')\n",
    "plt.contour(x1,x2,Z1.T,[-0.001])\n",
    "plt.contour(x1,x2,Z2.T,[-0.001])\n",
    "plt.contour(x1,x2,Z3.T,[-0.001])\n",
    "plt.xlim([x1_lower,x1_upper])\n",
    "plt.ylim([x2_lower,x2_upper])\n",
    "plt.show()"
   ]
  },
  {
   "cell_type": "markdown",
   "metadata": {},
   "source": [
    "### <font color=\"magenta\">*Fast Exercise*</font>"
   ]
  },
  {
   "cell_type": "markdown",
   "metadata": {},
   "source": [
    "Can you plot the above diagram, but with test data instead of training data? After creating the graph look to see how many errors there are. This should be the same as the test error we calculated earlier."
   ]
  },
  {
   "cell_type": "code",
   "execution_count": 17,
   "metadata": {},
   "outputs": [
    {
     "data": {
      "image/png": "[encoded data removed]",
      "text/plain": [
       "<matplotlib.figure.Figure at 0x7ff899dcce10>"
      ]
     },
     "metadata": {},
     "output_type": "display_data"
    }
   ],
   "source": [
    "### You only need to slightly modify these lines\n",
    "plt.plot(x[y==1,f1], x[y==1,f2], 'ro')\n",
    "plt.plot(x[y==2,f1], x[y==2,f2], 'k^')\n",
    "plt.plot(x[y==3,f1], x[y==3,f2], 'gs')\n",
    "###\n",
    "\n",
    "plt.xlabel(featurenames[f1], fontsize=14, color='red')\n",
    "plt.ylabel(featurenames[f2], fontsize=14, color='red')\n",
    "plt.contour(x1,x2,Z1.T,[-0.001])\n",
    "plt.contour(x1,x2,Z2.T,[-0.001])\n",
    "plt.contour(x1,x2,Z3.T,[-0.001])\n",
    "plt.title(\"Test Data with Boundaries\")\n",
    "plt.xlim([x1_lower,x1_upper])\n",
    "plt.ylim([x2_lower,x2_upper])\n",
    "plt.show()"
   ]
  },
  {
   "cell_type": "markdown",
   "metadata": {},
   "source": [
    "Write the function, **numberWrong**, which returns the number of incorrectly predicted test points."
   ]
  },
  {
   "cell_type": "code",
   "execution_count": 18,
   "metadata": {
    "collapsed": true
   },
   "outputs": [],
   "source": [
    "# modify this cell\n",
    "\n",
    "def numberWrong():\n",
    "    # inputs: no inputs\n",
    "    # output: return an integer\n",
    "    \n",
    "    ### BEGIN SOLUTION\n",
    "    return 4\n",
    "    ### END SOLUTION"
   ]
  },
  {
   "cell_type": "code",
   "execution_count": 19,
   "metadata": {
    "collapsed": true
   },
   "outputs": [],
   "source": [
    "assert numberWrong() == 4"
   ]
  },
  {
   "cell_type": "code",
   "execution_count": null,
   "metadata": {
    "collapsed": true
   },
   "outputs": [],
   "source": [
    "\n",
    "\n",
    "\n",
    "\n",
    "\n",
    "\n",
    "\n"
   ]
  }
 ],
 "metadata": {
  "kernelspec": {
   "display_name": "Python 2",
   "language": "python",
   "name": "python2"
  },
  "language_info": {
   "codemirror_mode": {
    "name": "ipython",
    "version": 2
   },
   "file_extension": ".py",
   "mimetype": "text/x-python",
   "name": "python",
   "nbconvert_exporter": "python",
   "pygments_lexer": "ipython2",
   "version": "2.7.13"
  },
  "toc": {
   "colors": {
    "hover_highlight": "#DAA520",
    "navigate_num": "#000000",
    "navigate_text": "#333333",
    "running_highlight": "#FF0000",
    "selected_highlight": "#FFD700",
    "sidebar_border": "#EEEEEE",
    "wrapper_background": "#FFFFFF"
   },
   "moveMenuLeft": true,
   "nav_menu": {
    "height": "12px",
    "width": "252px"
   },
   "navigate_menu": true,
   "number_sections": true,
   "sideBar": true,
   "threshold": 4,
   "toc_cell": false,
   "toc_section_display": "block",
   "toc_window_display": false,
   "widenNotebook": false
  }
 },
 "nbformat": 4,
 "nbformat_minor": 1
}
