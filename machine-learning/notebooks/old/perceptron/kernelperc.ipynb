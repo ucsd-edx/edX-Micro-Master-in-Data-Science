{
 "cells": [
  {
   "cell_type": "code",
   "execution_count": 2,
   "metadata": {
    "slideshow": {
     "slide_type": "skip"
    }
   },
   "outputs": [
    {
     "name": "stdout",
     "output_type": "stream",
     "text": [
      "data1.txt     data2.txt     data3.txt     data4.txt     separable.txt\r\n"
     ]
    }
   ],
   "source": [
    "!ls data"
   ]
  },
  {
   "cell_type": "code",
   "execution_count": 10,
   "metadata": {
    "slideshow": {
     "slide_type": "skip"
    }
   },
   "outputs": [
    {
     "name": "stdout",
     "output_type": "stream",
     "text": [
      "Populating the interactive namespace from numpy and matplotlib\n"
     ]
    },
    {
     "name": "stderr",
     "output_type": "stream",
     "text": [
      "/Users/yoavfreund/anaconda2/lib/python2.7/site-packages/IPython/core/magics/pylab.py:161: UserWarning: pylab import has clobbered these variables: ['load', 'dot', 'plot']\n",
      "`%matplotlib` prevents importing * from pylab and numpy\n",
      "  \"\\n`%matplotlib` prevents importing * from pylab and numpy\"\n"
     ]
    }
   ],
   "source": [
    "# Runs kernel perceptron on a 2-d data set and displays the results\n",
    "%pylab inline\n",
    "import numpy as np\n",
    "import matplotlib.pyplot as pl"
   ]
  },
  {
   "cell_type": "code",
   "execution_count": 11,
   "metadata": {
    "collapsed": true,
    "slideshow": {
     "slide_type": "skip"
    }
   },
   "outputs": [],
   "source": [
    "def quadk(x,z):\n",
    "    \"\"\" compute quadratic kernel function \"\"\"\n",
    "    tmp = 1.0 + np.dot(x,z)\n",
    "    return tmp*tmp\n",
    "\n",
    "def rbfk(x,z,sigma=1.0):\n",
    "    \"\"\" RBF krnel Function \"\"\"\n",
    "    tmp = np.linalg.norm(x-z)/sigma\n",
    "    return np.exp(-tmp*tmp)\n",
    "\n",
    "def dot(x,y):\n",
    "    return 1.0+np.dot(x,y)"
   ]
  },
  {
   "cell_type": "code",
   "execution_count": 12,
   "metadata": {
    "collapsed": true,
    "slideshow": {
     "slide_type": "skip"
    }
   },
   "outputs": [],
   "source": [
    "def load(datafile):\n",
    "    data = np.loadtxt(datafile)\n",
    "    print 'loaded %s, shape=%s'%(datafile,data.shape)\n",
    "    x = data[:,0:2]\n",
    "    y = data[:,2]\n",
    "    return x,y"
   ]
  },
  {
   "cell_type": "code",
   "execution_count": 13,
   "metadata": {
    "hide_input": true,
    "slideshow": {
     "slide_type": "slide"
    }
   },
   "outputs": [
    {
     "name": "stdout",
     "output_type": "stream",
     "text": [
      "loaded data/separable.txt, shape=(30, 3)\n"
     ]
    },
    {
     "data": {
      "image/png": "[encoded data removed]",
      "text/plain": [
       "<matplotlib.figure.Figure at 0x115ce83d0>"
      ]
     },
     "metadata": {},
     "output_type": "display_data"
    }
   ],
   "source": [
    "# Load in a 2-d data set. Labels are +1/-1 and each line is a single\n",
    "# data point, of the form: x1 x2 y\n",
    "\n",
    "def plot(x,y,title):\n",
    "    xmin = min(x[:,0]) - 1\n",
    "    xmax = max(x[:,0]) + 1\n",
    "    ymin = min(x[:,1]) - 1\n",
    "    ymax = max(x[:,1]) + 1\n",
    "    plt.plot(x[(y==1),0], x[(y==1),1], 'ro')\n",
    "    plt.plot(x[(y==-1),0], x[(y==-1),1], 'k^')\n",
    "    plt.title(title)\n",
    "    plt.xlim(xmin,xmax)\n",
    "    plt.ylim(ymin,ymax)\n",
    "    plt.show()\n",
    "\n",
    "datafile='data/separable.txt'\n",
    "x,y=load(datafile)\n",
    "plot(x,y,datafile)"
   ]
  },
  {
   "cell_type": "code",
   "execution_count": 14,
   "metadata": {
    "slideshow": {
     "slide_type": "skip"
    }
   },
   "outputs": [],
   "source": [
    "def evaluate(alpha,x,y,x0,kernel):\n",
    "    \"\"\" Evaluate an SVM (alpha,x,y) on a new point x0 using a given kernel \"\"\"\n",
    "    value = 0.0\n",
    "    for i in range(len(alpha)):\n",
    "        if alpha[i] > 0:\n",
    "            value = value + alpha[i] * y[i] * kernel(x[i,:],x0)\n",
    "    return np.sign(value)\n",
    "\n",
    "def Train_perceptron(x,y,kernel):\n",
    "    \"\"\" Train a perceptron using input vecctors x, output label y and a kernel\"\"\"\n",
    "    working = True\n",
    "    n=len(y)\n",
    "    alpha = np.zeros(n)\n",
    "    errors=0\n",
    "    _iter=0\n",
    "    examples=0\n",
    "    np.random.seed(None)\n",
    "    while working:\n",
    "        working = False\n",
    "        _iter+=1\n",
    "        I = np.random.permutation(n)\n",
    "        for i in range(n):\n",
    "            examples+=1\n",
    "            j = I[i]\n",
    "            if (evaluate(alpha,x,y,x[j,:],kernel) != y[j]):\n",
    "                working = True\n",
    "                alpha[j] = alpha[j] + 1\n",
    "                errors+=1\n",
    "                yield alpha,j,examples,errors,_iter\n",
    "#Train_perceptron(x,y,quadk)"
   ]
  },
  {
   "cell_type": "code",
   "execution_count": 15,
   "metadata": {
    "slideshow": {
     "slide_type": "skip"
    }
   },
   "outputs": [],
   "source": [
    "def plot_state(x,y,alpha,kernel,title):  \n",
    "    # compute bounding box\n",
    "    xmin = min(x[:,0]) - 1\n",
    "    xmax = max(x[:,0]) + 1\n",
    "    ymin = min(x[:,1]) - 1\n",
    "    ymax = max(x[:,1]) + 1\n",
    "\n",
    "    delta = 0.05\n",
    "    xx, yy = np.meshgrid(np.arange(xmin, xmax, delta), np.arange(ymin, ymax, delta))\n",
    "    grid = np.c_[xx.ravel(), yy.ravel()]\n",
    "    gn, gp = grid.shape\n",
    "    Z = np.zeros(gn)\n",
    "    for i in range(gn):\n",
    "        Z[i] = evaluate(alpha,x,y,grid[i,:],kernel)\n",
    "    fig = plt.figure()\n",
    "    ax = plt.subplot(111)\n",
    "    # Put the result into a color plot\n",
    "    Z = Z.reshape(xx.shape)\n",
    "    plt.pcolormesh(xx, yy, Z, cmap=plt.cm.PRGn, vmin=-3, vmax=3)\n",
    "\n",
    "    # Identify the support vectors\n",
    "    sv = (alpha > 0)\n",
    "    notsv = np.logical_not(sv)\n",
    "\n",
    "    #print 'shapes: x=',x.shape,'y=',y.shape,'notsv=',notsv.shape,'sv=',sv.shape\n",
    "    # Plot also the training points\n",
    "    plt.plot(x[(y==1)*notsv,0], x[(y==1)*notsv,1], 'ro')\n",
    "    plt.plot(x[(y==1)*sv,0], x[(y==1)*sv,1], 'ro', markersize=10)\n",
    "    plt.plot(x[(y==-1)*notsv,0], x[(y==-1)*notsv,1], 'k^')\n",
    "    plt.plot(x[(y==-1)*sv,0], x[(y==-1)*sv,1], 'k^', markersize=10)\n",
    "\n",
    "    plt.xlim(xmin, xmax)\n",
    "    plt.ylim(ymin, ymax)\n",
    "    plt.title(title)\n",
    "    return fig"
   ]
  },
  {
   "cell_type": "code",
   "execution_count": 30,
   "metadata": {
    "slideshow": {
     "slide_type": "skip"
    }
   },
   "outputs": [
    {
     "name": "stdout",
     "output_type": "stream",
     "text": [
      "loaded data/separable.txt, shape=(30, 3)\n"
     ]
    }
   ],
   "source": [
    "x,y=load('data/separable.txt')\n",
    "i=0\n",
    "_err_list=[]\n",
    "_iter_list=[]\n",
    "_plots=[]\n",
    "seq_dir='image_sequence'\n",
    "!rm -rf $seq_dir\n",
    "!mkdir $seq_dir"
   ]
  },
  {
   "cell_type": "code",
   "execution_count": 38,
   "metadata": {
    "collapsed": true,
    "slideshow": {
     "slide_type": "skip"
    }
   },
   "outputs": [
    {
     "name": "stdout",
     "output_type": "stream",
     "text": [
      "50 20 109 45 4 plotting\n",
      "100 20 218 95 8 plotting\n",
      "111 9 244 106 9  \n"
     ]
    },
    {
     "data": {
      "image/png": "[encoded data removed]",
      "text/plain": [
       "<matplotlib.figure.Figure at 0x1182a6110>"
      ]
     },
     "metadata": {},
     "output_type": "display_data"
    },
    {
     "data": {
      "image/png": "[encoded data removed]",
      "text/plain": [
       "<matplotlib.figure.Figure at 0x11bbb3a10>"
      ]
     },
     "metadata": {},
     "output_type": "display_data"
    },
    {
     "data": {
      "image/png": "[encoded data removed]",
      "text/plain": [
       "<matplotlib.figure.Figure at 0x11af952d0>"
      ]
     },
     "metadata": {},
     "output_type": "display_data"
    }
   ],
   "source": [
    "c=1;\n",
    "for alpha,j,examples,errors,_iter in Train_perceptron(x,y,dot):\n",
    "    i+=1\n",
    "    _err_list.append(errors)\n",
    "    _iter_list.append(_iter)\n",
    "    print '\\r',i,j,examples,errors,_iter,\n",
    "    if i%50==0:\n",
    "        fig=plot_state(x,y,alpha,dot,'iteration %d'%examples)\n",
    "        fig.savefig(seq_dir+'/frame%d.png'%c)\n",
    "        print 'plotting'\n",
    "        c+=1\n",
    "  \n",
    "fig=plot_state(x,y,alpha,dot,'FINAL iteration %d'%examples)\n",
    "fig.savefig(seq_dir+'/frame%d.png'%c)\n",
    "#plt.show()\n"
   ]
  },
  {
   "cell_type": "code",
   "execution_count": 57,
   "metadata": {
    "collapsed": true,
    "slideshow": {
     "slide_type": "slide"
    }
   },
   "outputs": [],
   "source": [
    "from IPython.display import Image\n",
    "i=0"
   ]
  },
  {
   "cell_type": "code",
   "execution_count": 60,
   "metadata": {
    "hide_input": true,
    "scrolled": true,
    "slideshow": {
     "slide_type": "subslide"
    }
   },
   "outputs": [
    {
     "data": {
      "image/png": "[encoded data removed]",
      "text/plain": [
       "<IPython.core.display.Image object>"
      ]
     },
     "execution_count": 60,
     "metadata": {},
     "output_type": "execute_result"
    }
   ],
   "source": [
    "i+=1\n",
    "Image(filename=seq_dir+'/frame%d.png'%i)"
   ]
  },
  {
   "cell_type": "code",
   "execution_count": 177,
   "metadata": {
    "slideshow": {
     "slide_type": "skip"
    }
   },
   "outputs": [
    {
     "name": "stdout",
     "output_type": "stream",
     "text": [
      "-rw-r--r--  1 yoavfreund  staff  8482582 Jul 25 22:22 myplot.pkl\r\n"
     ]
    }
   ],
   "source": [
    "!ls -l myplot.pkl"
   ]
  },
  {
   "cell_type": "code",
   "execution_count": 160,
   "metadata": {
    "slideshow": {
     "slide_type": "skip"
    }
   },
   "outputs": [],
   "source": [
    "%matplotlib notebook\n",
    "with open('myplot.pkl','rb') as fid:\n",
    "    ax = pickle.load(fid)\n",
    "plt.show?\n"
   ]
  },
  {
   "cell_type": "code",
   "execution_count": 61,
   "metadata": {
    "slideshow": {
     "slide_type": "slide"
    }
   },
   "outputs": [
    {
     "data": {
      "image/png": "[encoded data removed]",
      "text/plain": [
       "<matplotlib.figure.Figure at 0x11b747950>"
      ]
     },
     "metadata": {},
     "output_type": "display_data"
    }
   ],
   "source": [
    "plt.plot(_err_list)\n",
    "plt.plot(_iter_list)\n",
    "plt.grid()"
   ]
  },
  {
   "cell_type": "code",
   "execution_count": null,
   "metadata": {
    "collapsed": true
   },
   "outputs": [],
   "source": []
  }
 ],
 "metadata": {
  "celltoolbar": "Slideshow",
  "kernelspec": {
   "display_name": "Python 2",
   "language": "python",
   "name": "python2"
  },
  "language_info": {
   "codemirror_mode": {
    "name": "ipython",
    "version": 2
   },
   "file_extension": ".py",
   "mimetype": "text/x-python",
   "name": "python",
   "nbconvert_exporter": "python",
   "pygments_lexer": "ipython2",
   "version": "2.7.13"
  },
  "toc": {
   "colors": {
    "hover_highlight": "#DAA520",
    "navigate_num": "#000000",
    "navigate_text": "#333333",
    "running_highlight": "#FF0000",
    "selected_highlight": "#FFD700",
    "sidebar_border": "#EEEEEE",
    "wrapper_background": "#FFFFFF"
   },
   "moveMenuLeft": true,
   "nav_menu": {
    "height": "12px",
    "width": "252px"
   },
   "navigate_menu": true,
   "number_sections": true,
   "sideBar": true,
   "threshold": 4,
   "toc_cell": false,
   "toc_section_display": "block",
   "toc_window_display": false,
   "widenNotebook": false
  }
 },
 "nbformat": 4,
 "nbformat_minor": 1
}
