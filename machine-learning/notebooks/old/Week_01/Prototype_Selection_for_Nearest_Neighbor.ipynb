{
 "cells": [
  {
   "cell_type": "markdown",
   "metadata": {},
   "source": [
    "# Prototype Selection for Nearest Neighbor"
   ]
  },
  {
   "cell_type": "markdown",
   "metadata": {},
   "source": [
    "One way to speed up nearest neighbor classification is to replace the training set by a carefully chosen\n",
    "subset of *“prototypes”*. We then simply run nearest neighbor on the smaller prototype dataset.\n",
    "\n",
    "In this notebook you will <font color=\"blue\">*create your own strategy*</font> for selecting a prototype dataset on **MNIST**. We will then see how your prototype compares to a randomly selected dataset of the same size."
   ]
  },
  {
   "cell_type": "markdown",
   "metadata": {},
   "source": [
    "# Setup Notebook"
   ]
  },
  {
   "cell_type": "markdown",
   "metadata": {},
   "source": [
    "As usual, we start by importing the required packages and data in order to do the notebook. `MNIST` is imported in the same format as the <font color=\"magenta\">*Predicting via Nearest Neighbors*</font> notebook."
   ]
  },
  {
   "cell_type": "code",
   "execution_count": 1,
   "metadata": {
    "collapsed": true
   },
   "outputs": [],
   "source": [
    "%matplotlib inline\n",
    "import numpy as np\n",
    "import matplotlib.pyplot as plt \n",
    "import time\n",
    "from sklearn.neighbors import BallTree\n",
    "\n",
    "## Load the training set\n",
    "train_data = np.load('MNIST/train_data.npy')\n",
    "train_labels = np.load('MNIST/train_labels.npy')\n",
    "\n",
    "## Load the testing set\n",
    "test_data = np.load('MNIST/test_data.npy')\n",
    "test_labels = np.load('MNIST/test_labels.npy')"
   ]
  },
  {
   "cell_type": "markdown",
   "metadata": {},
   "source": [
    "# Creating a Random Prototype"
   ]
  },
  {
   "cell_type": "markdown",
   "metadata": {},
   "source": [
    "To give you a better idea of how this process works, let's first consider the case where the prototype is randomly selected. Let us select $M<7500$ datapoints at random and observe the quality of the fit."
   ]
  },
  {
   "cell_type": "markdown",
   "metadata": {},
   "source": [
    "The following function, <font color=\"blue\">**rand_prototype**</font>, returns the prototype features and labels for $M$ datapoints."
   ]
  },
  {
   "cell_type": "code",
   "execution_count": 2,
   "metadata": {
    "collapsed": false
   },
   "outputs": [],
   "source": [
    "def rand_prototype(M):\n",
    "    indices = np.random.choice(7500, M, replace=False)\n",
    "    return train_data[indices,:], train_labels[indices] "
   ]
  },
  {
   "cell_type": "markdown",
   "metadata": {},
   "source": [
    "Here is an example of **rand_prototype** in action. The function returns a subset of `train_data` of size $M=1000$ ."
   ]
  },
  {
   "cell_type": "code",
   "execution_count": 3,
   "metadata": {
    "collapsed": false
   },
   "outputs": [
    {
     "name": "stdout",
     "output_type": "stream",
     "text": [
      "Shape of train_data: (7500, 784)\n",
      "Shape of prototype:  (1000, 784)\n"
     ]
    }
   ],
   "source": [
    "example_data, example_labels = rand_prototype(1000)\n",
    "print(\"Shape of train_data:\",train_data.shape)\n",
    "print(\"Shape of prototype: \",example_data.shape)"
   ]
  },
  {
   "cell_type": "markdown",
   "metadata": {},
   "source": [
    "Now lets check the accuracy of the **rand_prototype** function for different values of $M$. Intuitively, a prototype should become more accurate when it uses more datapoints to perform nearest neighbors. Thus we would expect the accuracy of **rand_prototype** to increase as $M$ increases.  \n",
    "\n",
    "The function, <font color=\"blue\">**NN_accuracy**</font>,  computes the test accuracy of using Nearest Neighbors with a specific prototype."
   ]
  },
  {
   "cell_type": "code",
   "execution_count": 4,
   "metadata": {
    "collapsed": false
   },
   "outputs": [],
   "source": [
    "def NN_accuracy(proto_data, proto_labels):\n",
    "    ball_tree = BallTree(proto_data, metric='euclidean')\n",
    "    test_neighbors = np.squeeze(ball_tree.query(test_data, k=1, return_distance=False))\n",
    "    test_fit = proto_labels[test_neighbors]\n",
    "    return sum(test_fit == test_labels)/len(test_fit)\n"
   ]
  },
  {
   "cell_type": "markdown",
   "metadata": {},
   "source": [
    "Here is an example of using **NN_accuracy** to calculate the accuracy of prototypes with different sizes."
   ]
  },
  {
   "cell_type": "code",
   "execution_count": 5,
   "metadata": {
    "collapsed": false
   },
   "outputs": [
    {
     "name": "stdout",
     "output_type": "stream",
     "text": [
      "Prototype Accuracy  for 500 datapoints:\t\t 0.865\n",
      "Prototype Accuracy  for 5000 datapoints:\t 0.949\n"
     ]
    }
   ],
   "source": [
    "proto_data, proto_labels = rand_prototype(500)\n",
    "print(\"Prototype Accuracy  for 500 datapoints:\\t\\t\", NN_accuracy(proto_data, proto_labels) )\n",
    "\n",
    "proto_data, proto_labels = rand_prototype(5000)\n",
    "print(\"Prototype Accuracy  for 5000 datapoints:\\t\", NN_accuracy(proto_data, proto_labels) )"
   ]
  },
  {
   "cell_type": "markdown",
   "metadata": {},
   "source": [
    "The final function, <font color=\"blue\">**check_strategy**</font>, uses `rand_prototype` and `NN_accuracy` to to run multiple trials of the prototype strategy. It then calculates the mean accuracy of the trials."
   ]
  },
  {
   "cell_type": "code",
   "execution_count": 6,
   "metadata": {
    "collapsed": false
   },
   "outputs": [],
   "source": [
    "def check_strategy(fn_strategy, M, rounds=1 ):\n",
    "    acc_list = []\n",
    "    for i in range(rounds):\n",
    "        proto_data, proto_labels = fn_strategy(M)\n",
    "        accuracy = NN_accuracy(proto_data, proto_labels)\n",
    "        acc_list.append(accuracy)\n",
    "    return np.mean(acc_list)\n",
    "    "
   ]
  },
  {
   "cell_type": "markdown",
   "metadata": {},
   "source": [
    "Here is an example showing how the check_strategy funciton works."
   ]
  },
  {
   "cell_type": "code",
   "execution_count": 7,
   "metadata": {
    "collapsed": false
   },
   "outputs": [
    {
     "name": "stdout",
     "output_type": "stream",
     "text": [
      "Mean Accuracy of 5 trial prototypes each of size 1000:  0.8934\n"
     ]
    }
   ],
   "source": [
    "acc = check_strategy(rand_prototype, M=1000, rounds=5)\n",
    "print(\"Mean Accuracy of 5 trial prototypes each of size 1000: \", acc)"
   ]
  },
  {
   "cell_type": "markdown",
   "metadata": {},
   "source": [
    "# Build your Own Prototype"
   ]
  },
  {
   "cell_type": "markdown",
   "metadata": {},
   "source": [
    "It is now time for you to create your own strategy for picking the prototype! \n",
    "\n",
    "Write a function, <font color=\"blue\">**my_prototype**</font>, that creates a prototype of size $M$ using your own strategy. Like the the **rand_prototype** function, your function should take $M$ as its input and should return your prototype's data and labels."
   ]
  },
  {
   "cell_type": "code",
   "execution_count": 8,
   "metadata": {
    "collapsed": true
   },
   "outputs": [],
   "source": [
    "# Modify this Cell\n",
    "\n",
    "def my_prototype(M):\n",
    "    \n",
    "    # \n",
    "    # Write your own function here\n",
    "    #\n",
    "    \n",
    "    return prototype_data, prototype_labels\n"
   ]
  },
  {
   "cell_type": "markdown",
   "metadata": {},
   "source": [
    "# Compare Strategies"
   ]
  },
  {
   "cell_type": "markdown",
   "metadata": {},
   "source": [
    "It's time to put you code to the test! Lets see if it can do better than just randomely selecting a prototype."
   ]
  },
  {
   "cell_type": "code",
   "execution_count": 9,
   "metadata": {
    "collapsed": true
   },
   "outputs": [],
   "source": [
    "import ipywidgets as widgets\n",
    "from IPython.display import display\n",
    "from ipywidgets import interact, interactive, fixed, interact_manual"
   ]
  },
  {
   "cell_type": "markdown",
   "metadata": {},
   "source": [
    "You can use the following widget to see how your code fairs agaisnt the randome strategy by moving the sliders around."
   ]
  },
  {
   "cell_type": "code",
   "execution_count": null,
   "metadata": {
    "collapsed": false
   },
   "outputs": [
    {
     "name": "stdout",
     "output_type": "stream",
     "text": [
      "Comparing your prototype to the random prototype...\n"
     ]
    }
   ],
   "source": [
    "@interact_manual( M=(100,7500,100), rounds=(1,15))\n",
    "def comparison(M,rounds):\n",
    "    print(\"Comparing your prototype to the random prototype...\")\n",
    "    rand_acc = check_strategy(rand_prototype, M, rounds) \n",
    "    my_acc   = check_strategy(  my_prototype, M, rounds) \n",
    "    \n",
    "    print();print(\"Prototype Size:\\t\\t %d\" % (M))\n",
    "    print(\"Number of Trials:\\t %d\" % (rounds))\n",
    "    print(\"Random Prototype Accuracy:\\t %f\" % (rand_acc) )\n",
    "    print(\"Your Prototype Accuracy:\\t %f\" % (my_acc) );print()\n",
    "    if rand_acc>my_acc:\n",
    "        print(\"The RANDOM Prototype Wins!\")\n",
    "    else:\n",
    "        print(\"YOUR Prototype Wins!\")\n",
    "    "
   ]
  },
  {
   "cell_type": "code",
   "execution_count": null,
   "metadata": {
    "collapsed": true
   },
   "outputs": [],
   "source": [
    "\n",
    "\n",
    "\n",
    "\n",
    "\n",
    "\n",
    "\n",
    "\n",
    "\n",
    "\n"
   ]
  }
 ],
 "metadata": {
  "anaconda-cloud": {},
  "kernelspec": {
   "display_name": "Python [conda env:alexnet3.4]",
   "language": "python",
   "name": "conda-env-alexnet3.4-py"
  },
  "language_info": {
   "codemirror_mode": {
    "name": "ipython",
    "version": 3
   },
   "file_extension": ".py",
   "mimetype": "text/x-python",
   "name": "python",
   "nbconvert_exporter": "python",
   "pygments_lexer": "ipython3",
   "version": "3.4.5"
  },
  "toc": {
   "colors": {
    "hover_highlight": "#DAA520",
    "running_highlight": "#FF0000",
    "selected_highlight": "#FFD700"
   },
   "moveMenuLeft": true,
   "nav_menu": {
    "height": "102px",
    "width": "252px"
   },
   "navigate_menu": true,
   "number_sections": true,
   "sideBar": true,
   "threshold": 4,
   "toc_cell": false,
   "toc_section_display": "block",
   "toc_window_display": false,
   "widenNotebook": false
  }
 },
 "nbformat": 4,
 "nbformat_minor": 1
}
