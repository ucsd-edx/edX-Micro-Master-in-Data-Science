{
 "cells": [
  {
   "cell_type": "code",
   "execution_count": 1,
   "metadata": {},
   "outputs": [
    {
     "data": {
      "image/png": "[encoded data removed]",
      "text/plain": [
       "<matplotlib.figure.Figure at 0x110e368d0>"
      ]
     },
     "metadata": {},
     "output_type": "display_data"
    }
   ],
   "source": [
    "# Runs kernel perceptron on a 2-d data set and displays the results\n",
    "%matplotlib inline\n",
    "import numpy as np\n",
    "import matplotlib.pyplot as plt\n",
    "# Load in a 2-d data set. Labels are +1/-1 and each line is a single\n",
    "# data point, of the form: x1 x2 y\n",
    "datafile = 'data1.txt'\n",
    "data = np.loadtxt(datafile)\n",
    "n,p = data.shape\n",
    "x = data[:,0:2]\n",
    "y = data[:,2]\n",
    "# Now display the data for good measure\n",
    "xmin = min(x[:,0]) - 1\n",
    "xmax = max(x[:,0]) + 1\n",
    "ymin = min(x[:,1]) - 1\n",
    "ymax = max(x[:,1]) + 1\n",
    "plt.plot(x[(y==1),0], x[(y==1),1], 'ro')\n",
    "plt.plot(x[(y==-1),0], x[(y==-1),1], 'k^')\n",
    "plt.xlim(xmin,xmax)\n",
    "plt.ylim(ymin,ymax)\n",
    "plt.show()"
   ]
  },
  {
   "cell_type": "code",
   "execution_count": 2,
   "metadata": {},
   "outputs": [],
   "source": [
    "# Quadratic kernel function\n",
    "def quadk(x,z):\n",
    "    tmp = 1.0 + np.dot(x,z)\n",
    "    return tmp*tmp\n",
    "# Evaluate a classifier (alpha,x,y) on a new point x0\n",
    "def evaluate(alpha,x,y,x0):\n",
    "    value = 0.0\n",
    "    for i in range(len(alpha)):\n",
    "        if alpha[i] > 0:\n",
    "            value = value + alpha[i] * y[i] * quadk(x[i,:],x0)\n",
    "    return np.sign(value)\n",
    "# Now train a quadratic kernel perceptron\n",
    "working = True\n",
    "alpha = np.zeros(n)\n",
    "np.random.seed(None)\n",
    "while working:\n",
    "    working = False\n",
    "    I = np.random.permutation(n)\n",
    "    for i in range(n):\n",
    "        j = I[i]\n",
    "        if (evaluate(alpha,x,y,x[j,:]) != y[j]):\n",
    "            working = True\n",
    "            alpha[j] = alpha[j] + 1"
   ]
  },
  {
   "cell_type": "code",
   "execution_count": 5,
   "metadata": {},
   "outputs": [],
   "source": [
    "# RBF kernel function\n",
    "def rbfk(x,z,sigma):\n",
    "    tmp = np.linalg.norm(x-z)/sigma\n",
    "    return np.exp(-tmp*tmp)\n",
    "# Evaluate a classifier (alpha,x,y) on a new point x0\n",
    "def evaluate(alpha,x,y,x0):\n",
    "    value = 0.0\n",
    "    for i in range(len(alpha)):\n",
    "        if alpha[i] > 0:\n",
    "            value = value + alpha[i] * y[i] * rbfk(x[i,:],x0,1.0)\n",
    "    return np.sign(value)\n",
    "# Now train an RBF kernel perceptron\n",
    "working = True\n",
    "alpha = np.zeros(n)\n",
    "np.random.seed(None)\n",
    "while working:\n",
    "    working = False\n",
    "    I = np.random.permutation(n)\n",
    "    for i in range(n):\n",
    "        j = I[i]\n",
    "        if (evaluate(alpha,x,y,x[j,:]) != y[j]):\n",
    "            working = True\n",
    "            alpha[j] = alpha[j] + 1"
   ]
  },
  {
   "cell_type": "code",
   "execution_count": 3,
   "metadata": {},
   "outputs": [
    {
     "data": {
      "image/png": "[encoded data removed]",
      "text/plain": [
       "<matplotlib.figure.Figure at 0x110e24710>"
      ]
     },
     "metadata": {},
     "output_type": "display_data"
    }
   ],
   "source": [
    "delta = 0.05\n",
    "xx, yy = np.meshgrid(np.arange(xmin, xmax, delta), np.arange(ymin, ymax, delta))\n",
    "grid = np.c_[xx.ravel(), yy.ravel()]\n",
    "gn, gp = grid.shape\n",
    "Z = np.zeros(gn)\n",
    "for i in range(gn):\n",
    "    Z[i] = evaluate(alpha,x,y,grid[i,:])\n",
    "\n",
    "# Put the result into a color plot\n",
    "Z = Z.reshape(xx.shape)\n",
    "plt.pcolormesh(xx, yy, Z, cmap=plt.cm.PRGn, vmin=-3, vmax=3)\n",
    "\n",
    "# Identify the support vectors\n",
    "sv = (alpha > 0)\n",
    "notsv = np.logical_not(sv)\n",
    "\n",
    "# Plot also the training points\n",
    "plt.plot(x[(y==1)*notsv,0], x[(y==1)*notsv,1], 'ro')\n",
    "plt.plot(x[(y==1)*sv,0], x[(y==1)*sv,1], 'ro', markersize=10)\n",
    "plt.plot(x[(y==-1)*notsv,0], x[(y==-1)*notsv,1], 'k^')\n",
    "plt.plot(x[(y==-1)*sv,0], x[(y==-1)*sv,1], 'k^', markersize=10)\n",
    "\n",
    "plt.xlim(xmin, xmax)\n",
    "plt.ylim(ymin, ymax)\n",
    "plt.show()"
   ]
  },
  {
   "cell_type": "code",
   "execution_count": null,
   "metadata": {},
   "outputs": [],
   "source": []
  }
 ],
 "metadata": {
  "kernelspec": {
   "display_name": "Python 2",
   "language": "python",
   "name": "python2"
  },
  "language_info": {
   "codemirror_mode": {
    "name": "ipython",
    "version": 2
   },
   "file_extension": ".py",
   "mimetype": "text/x-python",
   "name": "python",
   "nbconvert_exporter": "python",
   "pygments_lexer": "ipython2",
   "version": "2.7.13"
  },
  "toc": {
   "colors": {
    "hover_highlight": "#DAA520",
    "navigate_num": "#000000",
    "navigate_text": "#333333",
    "running_highlight": "#FF0000",
    "selected_highlight": "#FFD700",
    "sidebar_border": "#EEEEEE",
    "wrapper_background": "#FFFFFF"
   },
   "moveMenuLeft": true,
   "nav_menu": {
    "height": "12px",
    "width": "252px"
   },
   "navigate_menu": true,
   "number_sections": true,
   "sideBar": true,
   "threshold": 4,
   "toc_cell": false,
   "toc_section_display": "block",
   "toc_window_display": false,
   "widenNotebook": false
  }
 },
 "nbformat": 4,
 "nbformat_minor": 1
}
