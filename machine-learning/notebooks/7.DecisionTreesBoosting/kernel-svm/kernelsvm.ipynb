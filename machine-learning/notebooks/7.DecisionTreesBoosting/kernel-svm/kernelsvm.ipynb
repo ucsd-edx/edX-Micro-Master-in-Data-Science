{
 "cells": [
  {
   "cell_type": "code",
   "execution_count": 4,
   "metadata": {
    "collapsed": false
   },
   "outputs": [
    {
     "data": {
      "image/png": "[encoded data removed]",
      "text/plain": [
       "<matplotlib.figure.Figure at 0x1055ea710>"
      ]
     },
     "metadata": {},
     "output_type": "display_data"
    }
   ],
   "source": [
    "# Runs kernel SVM on a 2-d data set and displays the results\n",
    "%matplotlib inline\n",
    "import numpy as np\n",
    "import matplotlib.pyplot as plt\n",
    "from sklearn.svm import SVC\n",
    "# Load in a 2-d data set. Labels are +1/-1 and each line is a single\n",
    "# data point, of the form: x1 x2 y\n",
    "datafile = 'data1.txt'\n",
    "data = np.loadtxt(datafile)\n",
    "n,p = data.shape\n",
    "x = data[:,0:2]\n",
    "y = data[:,2]\n",
    "# Now display the data for good measure\n",
    "xmin = min(x[:,0]) - 1\n",
    "xmax = max(x[:,0]) + 1\n",
    "ymin = min(x[:,1]) - 1\n",
    "ymax = max(x[:,1]) + 1\n",
    "plt.plot(x[(y==1),0], x[(y==1),1], 'ro')\n",
    "plt.plot(x[(y==-1),0], x[(y==-1),1], 'k^')\n",
    "plt.xlim(xmin,xmax)\n",
    "plt.ylim(ymin,ymax)\n",
    "plt.show()"
   ]
  },
  {
   "cell_type": "code",
   "execution_count": 5,
   "metadata": {
    "collapsed": false
   },
   "outputs": [],
   "source": [
    "# Now train SVM\n",
    "clf = SVC(kernel='rbf', C=1.0, gamma=0.25)\n",
    "clf.fit(x,y)\n",
    "sv = np.zeros(n,dtype=bool)\n",
    "sv[clf.support_] = True\n",
    "notsv = np.logical_not(sv)"
   ]
  },
  {
   "cell_type": "code",
   "execution_count": 6,
   "metadata": {
    "collapsed": false
   },
   "outputs": [
    {
     "data": {
      "image/png": "[encoded data removed]",
      "text/plain": [
       "<matplotlib.figure.Figure at 0x10fcfb6d0>"
      ]
     },
     "metadata": {},
     "output_type": "display_data"
    }
   ],
   "source": [
    "delta = 0.01\n",
    "xx, yy = np.meshgrid(np.arange(xmin, xmax, delta), np.arange(ymin, ymax, delta))\n",
    "Z = clf.decision_function(np.c_[xx.ravel(), yy.ravel()])\n",
    "for i in range(len(Z)):\n",
    "    Z[i] = min(Z[i],1.0)\n",
    "    Z[i] = max(Z[i],-1.0)\n",
    "    if (Z[i] > 0.0) and (Z[i] < 1.0):\n",
    "        Z[i] = 0.5\n",
    "    if (Z[i] < 0.0) and (Z[i] > -1.0):\n",
    "        Z[i] = -0.5\n",
    "# Put the result into a color plot\n",
    "Z = Z.reshape(xx.shape)\n",
    "plt.pcolormesh(xx, yy, Z, cmap=plt.cm.PRGn, vmin=-2, vmax=2)\n",
    "\n",
    "# Plot also the training points\n",
    "plt.plot(x[(y==1)*notsv,0], x[(y==1)*notsv,1], 'ro')\n",
    "plt.plot(x[(y==1)*sv,0], x[(y==1)*sv,1], 'ro', markersize=10)\n",
    "plt.plot(x[(y==-1)*notsv,0], x[(y==-1)*notsv,1], 'k^')\n",
    "plt.plot(x[(y==-1)*sv,0], x[(y==-1)*sv,1], 'k^', markersize=10)\n",
    "\n",
    "plt.xlim(xmin, xmax)\n",
    "plt.ylim(ymin, ymax)\n",
    "plt.show()"
   ]
  },
  {
   "cell_type": "code",
   "execution_count": null,
   "metadata": {
    "collapsed": false
   },
   "outputs": [],
   "source": []
  }
 ],
 "metadata": {
  "kernelspec": {
   "display_name": "Python 2",
   "language": "python",
   "name": "python2"
  },
  "language_info": {
   "codemirror_mode": {
    "name": "ipython",
    "version": 2
   },
   "file_extension": ".py",
   "mimetype": "text/x-python",
   "name": "python",
   "nbconvert_exporter": "python",
   "pygments_lexer": "ipython2",
   "version": "2.7.13"
  }
 },
 "nbformat": 4,
 "nbformat_minor": 0
}
