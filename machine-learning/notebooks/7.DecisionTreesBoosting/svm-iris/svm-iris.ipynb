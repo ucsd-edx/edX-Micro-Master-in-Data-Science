{
 "cells": [
  {
   "cell_type": "code",
   "execution_count": 2,
   "metadata": {
    "collapsed": true
   },
   "outputs": [],
   "source": [
    "%matplotlib inline\n",
    "import numpy as np\n",
    "from sklearn.svm import SVC\n",
    "import matplotlib.pyplot as plt\n",
    "# Now load IRIS data\n",
    "from sklearn import datasets\n",
    "iris = datasets.load_iris()\n",
    "x = iris.data\n",
    "y = iris.target"
   ]
  },
  {
   "cell_type": "code",
   "execution_count": 59,
   "metadata": {},
   "outputs": [
    {
     "data": {
      "text/plain": [
       "(150, 4)"
      ]
     },
     "execution_count": 59,
     "metadata": {},
     "output_type": "execute_result"
    }
   ],
   "source": [
    "x.shape"
   ]
  },
  {
   "cell_type": "code",
   "execution_count": 87,
   "metadata": {},
   "outputs": [
    {
     "data": {
      "image/png": "[encoded data removed]",
      "text/plain": [
       "<matplotlib.figure.Figure at 0x10a3ee050>"
      ]
     },
     "metadata": {},
     "output_type": "display_data"
    }
   ],
   "source": [
    "# Select two of the three labels\n",
    "y1,y2 = 0,1\n",
    "I1 = (y==y1)\n",
    "I2 = (y==y2)\n",
    "I = I1 + I2\n",
    "n = sum(I)\n",
    "x = x[I,:]\n",
    "y = y[I]\n",
    "# Now select two of the four features and plot them\n",
    "I1 = (y==y1)\n",
    "I2 = (y==y2)\n",
    "f1,f2 = 1,3\n",
    "features = [f1,f2]\n",
    "plt.plot(x[I1,f1], x[I1,f2], 'ro')\n",
    "plt.plot(x[I2,f1], x[I2,f2], 'k^')\n",
    "x_min, x_max = 1.5, 4.5\n",
    "y_min, y_max = 0.0, 2.0\n",
    "plt.xlim(x_min, x_max)\n",
    "plt.ylim(y_min, y_max)\n",
    "plt.show()"
   ]
  },
  {
   "cell_type": "code",
   "execution_count": 97,
   "metadata": {},
   "outputs": [
    {
     "data": {
      "image/png": "[encoded data removed]",
      "text/plain": [
       "<matplotlib.figure.Figure at 0x11a59ba10>"
      ]
     },
     "metadata": {},
     "output_type": "display_data"
    }
   ],
   "source": [
    "# Now train SVM\n",
    "clf = SVC(kernel='linear', C=0.01)\n",
    "clf.fit(x[:,features],y)\n",
    "sv = np.zeros(n,dtype=bool)\n",
    "sv[clf.support_] = True\n",
    "notsv = np.logical_not(sv)\n",
    "# Create mesh for plot\n",
    "delta = 0.005\n",
    "x_min, x_max = 1.5, 4.5\n",
    "y_min, y_max = 0.0, 2.0\n",
    "xx, yy = np.meshgrid(np.arange(x_min, x_max, delta), np.arange(y_min, y_max, delta))\n",
    "Z = clf.decision_function(np.c_[xx.ravel(), yy.ravel()])\n",
    "for i in range(len(Z)):\n",
    "    Z[i] = min(Z[i],1.0)\n",
    "    Z[i] = max(Z[i],-1.0)\n",
    "    if (Z[i] > 0.0) and (Z[i] < 1.0):\n",
    "        Z[i] = 0.5\n",
    "    if (Z[i] < 0.0) and (Z[i] > -1.0):\n",
    "        Z[i] = -0.5\n",
    "# Put the result into a color plot\n",
    "Z = Z.reshape(xx.shape)\n",
    "plt.pcolormesh(xx, yy, Z, cmap=plt.cm.PRGn, vmin=-2, vmax=2)\n",
    "\n",
    "# Plot also the training points\n",
    "plt.plot(x[(y==y1)*notsv,f1], x[(y==y1)*notsv,f2], 'ro')\n",
    "plt.plot(x[(y==y1)*sv,f1], x[(y==y1)*sv,f2], 'ro', markersize=10)\n",
    "plt.plot(x[(y==y2)*notsv,f1], x[(y==y2)*notsv,f2], 'k^')\n",
    "plt.plot(x[(y==y2)*sv,f1], x[(y==y2)*sv,f2], 'k^', markersize=10)\n",
    "#plt.xlabel('Alcohol level', fontsize=14, color='red')\n",
    "#plt.ylabel('Hue', fontsize=14, color='red')\n",
    "\n",
    "plt.xlim(x_min, x_max)\n",
    "plt.ylim(y_min, y_max)\n",
    "plt.show()"
   ]
  },
  {
   "cell_type": "code",
   "execution_count": null,
   "metadata": {
    "collapsed": true
   },
   "outputs": [],
   "source": []
  }
 ],
 "metadata": {
  "kernelspec": {
   "display_name": "Python 2",
   "language": "python",
   "name": "python2"
  },
  "language_info": {
   "codemirror_mode": {
    "name": "ipython",
    "version": 2
   },
   "file_extension": ".py",
   "mimetype": "text/x-python",
   "name": "python",
   "nbconvert_exporter": "python",
   "pygments_lexer": "ipython2",
   "version": "2.7.13"
  },
  "toc": {
   "colors": {
    "hover_highlight": "#DAA520",
    "navigate_num": "#000000",
    "navigate_text": "#333333",
    "running_highlight": "#FF0000",
    "selected_highlight": "#FFD700",
    "sidebar_border": "#EEEEEE",
    "wrapper_background": "#FFFFFF"
   },
   "moveMenuLeft": true,
   "nav_menu": {
    "height": "12px",
    "width": "252px"
   },
   "navigate_menu": true,
   "number_sections": true,
   "sideBar": true,
   "threshold": 4,
   "toc_cell": false,
   "toc_section_display": "block",
   "toc_window_display": false,
   "widenNotebook": false
  }
 },
 "nbformat": 4,
 "nbformat_minor": 1
}
