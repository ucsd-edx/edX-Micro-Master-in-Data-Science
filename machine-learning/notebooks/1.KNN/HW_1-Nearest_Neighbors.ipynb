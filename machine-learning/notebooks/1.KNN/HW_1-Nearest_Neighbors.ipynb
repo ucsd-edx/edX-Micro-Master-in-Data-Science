{
 "cells": [
  {
   "cell_type": "markdown",
   "metadata": {},
   "source": [
    "# Nearest Neighbors Homework"
   ]
  },
  {
   "cell_type": "markdown",
   "metadata": {},
   "source": [
    "In this homework notebook we use **Nearest Neighbors** to classify back injuries for patients in a hospital. For each patient, measurements were taken on the shape and orientation of their pelvis and spine.\n",
    "\n",
    "The data set contains information from **310** patients. For each patient, there are: six measurements (the x) and has label (the y). The label a **3** possible values, `’NO’` (normal), `’DH’` (herniated disk), or `’SL’` (spondilolysthesis). "
   ]
  },
  {
   "cell_type": "markdown",
   "metadata": {},
   "source": [
    "**Note:** Before attempting this homework read the <font color=\"magenta\">*Predicting via Nearest Neighbors*</font> notebook."
   ]
  },
  {
   "cell_type": "markdown",
   "metadata": {},
   "source": [
    "# Setup Notebook"
   ]
  },
  {
   "cell_type": "markdown",
   "metadata": {},
   "source": [
    "We import all necessary packages for the homework. Notice that we do **NOT** import any of the `sklearn` packages. This is because we want you to implement Nearest Neighbors manually, see <font color=\"magenta\">*Predicting via Nearest Neighbors*</font>. \n"
   ]
  },
  {
   "cell_type": "code",
   "execution_count": 1,
   "metadata": {
    "collapsed": true
   },
   "outputs": [],
   "source": [
    "import numpy as np"
   ]
  },
  {
   "cell_type": "markdown",
   "metadata": {},
   "source": [
    "We now download the dataset. We divide the data into a training set of 248 patiens and a separate test set of 62 patients. You will need to use the following variables in the exercises:\n",
    "\n",
    "* **`trainx`** : The training data's features. `trainx` is the data used to predict `trainy`\n",
    "* **`trainy`** : The training data's labels. The data you're trying to predict.\n",
    "* **`testx`** : The test data's features.\n",
    "* **`testy`** : The test data's labels."
   ]
  },
  {
   "cell_type": "markdown",
   "metadata": {},
   "source": [
    "Notice that we code `0. = ’NO’, 1. = ’DH’, 2. = ’SL’` as the outputs for `trainy` and `testy`"
   ]
  },
  {
   "cell_type": "code",
   "execution_count": 2,
   "metadata": {
    "collapsed": true
   },
   "outputs": [],
   "source": [
    "# Load data set and code labels as 0 = ’NO’, 1 = ’DH’, 2 = ’SL’\n",
    "labels = [b'NO', b'DH', b'SL']\n",
    "data = np.loadtxt('column_3C.dat', converters={6: lambda s: labels.index(s)} )\n",
    "\n",
    "# Separate features from labels\n",
    "x = data[:,0:6]\n",
    "y = data[:,6]\n",
    "\n",
    "# Divide into training and test set\n",
    "training_indices = list(range(0,80)) + list(range(100,148)) + list(range(160,280))\n",
    "test_indices = list(range(80,100)) + list(range(148,160)) + list(range(280,310))\n",
    "\n",
    "trainx = x[training_indices,:]\n",
    "trainy = y[training_indices]\n",
    "testx = x[test_indices,:]\n",
    "testy = y[test_indices]"
   ]
  },
  {
   "cell_type": "markdown",
   "metadata": {},
   "source": [
    "# Exercise 1:"
   ]
  },
  {
   "cell_type": "markdown",
   "metadata": {},
   "source": [
    "In this exercise we compute nearest neighbors on on our dataset using the $\\ell_2$ norm ( the *\"euclidean distance\"* ).\n",
    "\n",
    "Write a function, **NN_L2**, which uses `trainx`, `trainy`, and `testx` to compute the nearest neighbors fit of `testy`. For **NN_L2**, the $\\ell_2$ norm should be used as the distance metric."
   ]
  },
  {
   "cell_type": "markdown",
   "metadata": {},
   "source": [
    "\n",
    "<font  style=\"color:blue\"> **Code**</font>\n",
    "```python\n",
    "# test function \n",
    "testy_L2 = NN_L2(trainx, trainy, testx)\n",
    "print( type( testy_L2) )\n",
    "print( len(testy_L2) )\n",
    "print( testy_L2[40:50] )\n",
    "```\n",
    "\n",
    "<font  style=\"color:magenta\"> **Output**</font>\n",
    "```\n",
    "<class 'numpy.ndarray'>\n",
    "62\n",
    "[ 0.  0.  1.  1.  0.  2.  0.  0.  1.  1.]\n",
    "```\n"
   ]
  },
  {
   "cell_type": "code",
   "execution_count": 3,
   "metadata": {
    "collapsed": true
   },
   "outputs": [],
   "source": [
    "# Modify this Cell\n",
    "\n",
    "def NN_L2(trainx, trainy, testx):\n",
    "    # inputs: trainx, trainy, testx <-- as defined above\n",
    "    # output: an np.array of the predicted values for testy \n",
    "    \n",
    "    ### BEGIN SOLUTION\n",
    "    def squared_dist(x,y):\n",
    "        return np.sum(np.square(x-y))\n",
    "\n",
    "    def find_NN(x):\n",
    "        # Compute distances from x to every row in train_data\n",
    "        distances = [squared_dist(x,trainx[i,]) for i in range(len(trainy))]\n",
    "        # Get the index of the smallest distance\n",
    "        return np.argmin(distances)\n",
    "\n",
    "    ## Takes a vector x and returns the class of its nearest neighbor in train_data\n",
    "    def NN_classifier(x):\n",
    "        # Get the index of the the nearest neighbor\n",
    "        index = find_NN(x)\n",
    "        # Return its class\n",
    "        return trainy[index]\n",
    "    \n",
    "    \n",
    "    return np.array([NN_classifier(testx[i,]) for i in range(len(testx))])\n",
    "    ### END SOLUTION"
   ]
  },
  {
   "cell_type": "code",
   "execution_count": 4,
   "metadata": {},
   "outputs": [],
   "source": [
    "# test function \n",
    "\n",
    "testy_L2 = NN_L2(trainx, trainy, testx)\n",
    "\n",
    "assert( type( testy_L2).__name__ == 'ndarray' )\n",
    "assert( len(testy_L2) == 62 ) \n",
    "assert( np.all( testy_L2[30:40] == [ 2.,  2.,  1., 0.,  0., 0.,  0.,  0.,  0.,  0.] )  )\n",
    "\n",
    "### BEGIN HIDDEN TESTS\n",
    "assert( np.all( testy_L2[0:10] == [ 2.,  2.,  2.,  2.,  2.,  2.,  0.,  2.,  2.,  2.] ) )\n",
    "### END HIDDEN TESTS"
   ]
  },
  {
   "cell_type": "markdown",
   "metadata": {},
   "source": [
    "# Exercise 2:"
   ]
  },
  {
   "cell_type": "markdown",
   "metadata": {},
   "source": [
    "We now compute nearest neighbors using the $\\ell_1$ norm ( the *\"Manhattan Distance\"* ).\n",
    "\n",
    "Write a function, **NN_L1**, which again uses `trainx`, `trainy`, and `testx` to compute the nearest neighbors fit of `testy`. For **NN_L1**, the $\\ell_1$ norm should be used as the distance metric.\n",
    "\n",
    "Notice that **NN_1** and **NN_2** produce different fits for the test labels."
   ]
  },
  {
   "cell_type": "markdown",
   "metadata": {},
   "source": [
    "\n",
    "<font  style=\"color:blue\"> **Code**</font>\n",
    "```python\n",
    "# test function \n",
    "testy_L2 = NN_L2(trainx, trainy, testx)\n",
    "testy_L1 = NN_L1(trainx, trainy, testx)\n",
    "\n",
    "print( type( testy_L1) )\n",
    "print( len(testy_L1) )\n",
    "print( testy_L1[40:50] )\n",
    "print( all(testy_L1 == testy_L2) )\n",
    "```\n",
    "\n",
    "<font  style=\"color:magenta\"> **Output**</font>\n",
    "```\n",
    "<class 'numpy.ndarray'>\n",
    "62\n",
    "[ 0.  0.  0.  1.  0.  2.  0.  0.  1.  1.]\n",
    "False\n",
    "```\n"
   ]
  },
  {
   "cell_type": "code",
   "execution_count": 5,
   "metadata": {
    "collapsed": true
   },
   "outputs": [],
   "source": [
    "# Modify this Cell\n",
    "\n",
    "def NN_L1(trainx, trainy, testx):\n",
    "    # inputs: trainx, trainy, testx <-- as defined above\n",
    "    # output: an np.array of the predicted values for testy \n",
    "    \n",
    "    ### BEGIN SOLUTION\n",
    "    def abs_dist(x,y):\n",
    "        return np.sum(np.abs(x-y))\n",
    "\n",
    "    def find_NN(x):\n",
    "        # Compute distances from x to every row in train_data\n",
    "        distances = [abs_dist(x,trainx[i,]) for i in range(len(trainy))]\n",
    "        # Get the index of the smallest distance\n",
    "        return np.argmin(distances)\n",
    "\n",
    "    ## Takes a vector x and returns the class of its nearest neighbor in train_data\n",
    "    def NN_classifier(x):\n",
    "        # Get the index of the the nearest neighbor\n",
    "        index = find_NN(x)\n",
    "        # Return its class\n",
    "        return trainy[index]\n",
    "    \n",
    "    \n",
    "    return np.array([NN_classifier(testx[i,]) for i in range(len(testx))])\n",
    "    ### END SOLUTION"
   ]
  },
  {
   "cell_type": "code",
   "execution_count": 6,
   "metadata": {},
   "outputs": [],
   "source": [
    "testy_L1 = NN_L1(trainx, trainy, testx)\n",
    "testy_L2 = NN_L2(trainx, trainy, testx)\n",
    "\n",
    "assert( type( testy_L1).__name__ == 'ndarray' )\n",
    "assert( len(testy_L1) == 62 ) \n",
    "assert( not all(testy_L1 == testy_L2) )\n",
    "assert( all(testy_L1[20:30]== [ 2.,  2.,  2.,  2.,  2.,  0.,  2.,  2.,  2.,  2.]) )\n",
    "\n",
    "### BEGIN HIDDEN TESTS\n",
    "assert( all( testy_L1[0:10] == [ 2.,  2.,  2.,  2.,  2.,  2.,  2.,  2.,  2.,  2.]) )\n",
    "### END HIDDEN TESTS"
   ]
  },
  {
   "cell_type": "markdown",
   "metadata": {
    "collapsed": true
   },
   "source": [
    "# Exercise 3:"
   ]
  },
  {
   "cell_type": "markdown",
   "metadata": {},
   "source": [
    "Below we see that the $\\ell_1$ and $\\ell_2$ nearest neighbors have different levels of accuracy on the test dataset"
   ]
  },
  {
   "cell_type": "code",
   "execution_count": 7,
   "metadata": {},
   "outputs": [
    {
     "name": "stdout",
     "output_type": "stream",
     "text": [
      "('Accuracy of NN_L1: ', 0)\n",
      "('Accuracy of NN_L2: ', 0)\n"
     ]
    }
   ],
   "source": [
    "def accuracy(testy, testy_fit):\n",
    "    return sum(testy==testy_fit)/len(testy) \n",
    "\n",
    "print(\"Accuracy of NN_L1: \", accuracy(testy,testy_L1) )\n",
    "print(\"Accuracy of NN_L2: \", accuracy(testy,testy_L2) )"
   ]
  },
  {
   "cell_type": "markdown",
   "metadata": {},
   "source": [
    "We will now look deeper into how $\\ell_1$ and $\\ell_2$ nearest neighbots faired at predicting `testy` by constructing the <font color=\"magenta\">*confusion matrix*</font>\n",
    "\n",
    "The confusion matrix is a $3\\times3$ matrix that shows the number of misclassifications for each label. For example, the entry at row DH, column SL, contains the number of test points whose correct label was DH but which were classified as SL.\n",
    "\n",
    "<img style=\"width:200px\" src=\"confusion_matrix.png\">\n",
    "\n",
    "\n"
   ]
  },
  {
   "cell_type": "markdown",
   "metadata": {},
   "source": [
    "Write a function, **confusion**, which given the fitted labels and correct labels for `testy`, computes the confusion matrix. The confusion matrix should be a `np.array` of shape `(3,3)` . "
   ]
  },
  {
   "cell_type": "markdown",
   "metadata": {},
   "source": [
    "<font  style=\"color:blue\"> **Code**</font>\n",
    "```python\n",
    "L2_neo = confusion(testy, testy_L2)  \n",
    "print( type(L2_neo) )\n",
    "print( L2_neo.shape )\n",
    "print( L2_neo )\n",
    "```\n",
    "\n",
    "<font  style=\"color:magenta\"> **Output**</font>\n",
    "```\n",
    "<class 'numpy.ndarray'>\n",
    "(3, 3)\n",
    "[[ 0.  9.  2.]\n",
    " [ 0.  0.  0.]\n",
    " [ 3.  0.  0.]]\n",
    "```\n"
   ]
  },
  {
   "cell_type": "code",
   "execution_count": 8,
   "metadata": {
    "collapsed": true
   },
   "outputs": [],
   "source": [
    "# Modify this cell\n",
    "\n",
    "def confusion(testy,testy_fit):\n",
    "    # inputs: the correct labels, the fitted NN labels \n",
    "    # output: a 3x3 np.array representing the confusion matrix as above\n",
    "    \n",
    "    ### BEGIN SOLUTION\n",
    "    confusion = np.zeros( (3,3) )\n",
    "    for i in range(len(testy)):\n",
    "        if testy[i] != testy_fit[i]:\n",
    "            confusion[ int(testy[i]), int(testy_fit[i]) ] += 1\n",
    "    return confusion\n",
    "    ### END SOLUTION"
   ]
  },
  {
   "cell_type": "code",
   "execution_count": 9,
   "metadata": {
    "collapsed": true
   },
   "outputs": [],
   "source": [
    "# Test Function\n",
    "\n",
    "L1_neo = confusion(testy, testy_L1)  # <-- 'neo' because it's the Matrix\n",
    "assert( type(L1_neo).__name__ == 'ndarray' )\n",
    "assert( L1_neo.shape == (3,3) )\n",
    "assert( np.all(L1_neo == [[ 0.,  8.,  2.],[ 0.,  0.,  0.],[ 1.,  0.,  0.]]) )\n",
    "\n",
    "### BEGIN HIDDEN TESTS\n",
    "L2_neo = confusion(testy, testy_L2)  \n",
    "assert( np.all(L2_neo == [[ 0.,  9.,  2.],[ 0.,  0.,  0.],[ 3.,  0.,  0.]]) )\n",
    "### END HIDDEN TESTS\n"
   ]
  },
  {
   "cell_type": "code",
   "execution_count": null,
   "metadata": {
    "collapsed": true
   },
   "outputs": [],
   "source": [
    "\n",
    "\n",
    "\n",
    "\n",
    "\n",
    "\n",
    "\n",
    "\n",
    "\n",
    "\n",
    "\n",
    "\n"
   ]
  }
 ],
 "metadata": {
  "anaconda-cloud": {},
  "kernelspec": {
   "display_name": "Python 2",
   "language": "python",
   "name": "python2"
  },
  "language_info": {
   "codemirror_mode": {
    "name": "ipython",
    "version": 2
   },
   "file_extension": ".py",
   "mimetype": "text/x-python",
   "name": "python",
   "nbconvert_exporter": "python",
   "pygments_lexer": "ipython2",
   "version": "2.7.13"
  },
  "toc": {
   "colors": {
    "hover_highlight": "#DAA520",
    "navigate_num": "#000000",
    "navigate_text": "#333333",
    "running_highlight": "#FF0000",
    "selected_highlight": "#FFD700",
    "sidebar_border": "#EEEEEE",
    "wrapper_background": "#FFFFFF"
   },
   "moveMenuLeft": true,
   "nav_menu": {
    "height": "102px",
    "width": "252px"
   },
   "navigate_menu": true,
   "number_sections": true,
   "sideBar": true,
   "threshold": 4,
   "toc_cell": false,
   "toc_position": {
    "height": "670px",
    "left": "0px",
    "right": "1145px",
    "top": "106px",
    "width": "212px"
   },
   "toc_section_display": "block",
   "toc_window_display": true,
   "widenNotebook": false
  }
 },
 "nbformat": 4,
 "nbformat_minor": 1
}
