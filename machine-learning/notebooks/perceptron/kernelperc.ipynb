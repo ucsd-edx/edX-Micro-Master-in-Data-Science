{
 "metadata": {
  "name": "",
  "signature": "sha256:fa2b4d8aa7c16824a0cd10512d27764a3cf4b22d059b9e88d670b4c547099a12"
 },
 "nbformat": 3,
 "nbformat_minor": 0,
 "worksheets": [
  {
   "cells": [
    {
     "cell_type": "code",
     "collapsed": false,
     "input": [
      "# Runs kernel perceptron on a 2-d data set and displays the results\n",
      "%matplotlib inline\n",
      "import numpy as np\n",
      "import matplotlib.pyplot as plt\n",
      "# Load in a 2-d data set. Labels are +1/-1 and each line is a single\n",
      "# data point, of the form: x1 x2 y\n",
      "datafile = 'data5.txt'\n",
      "data = np.loadtxt(datafile)\n",
      "n,p = data.shape\n",
      "x = data[:,0:2]\n",
      "y = data[:,2]\n",
      "# Now display the data for good measure\n",
      "xmin = min(x[:,0]) - 1\n",
      "xmax = max(x[:,0]) + 1\n",
      "ymin = min(x[:,1]) - 1\n",
      "ymax = max(x[:,1]) + 1\n",
      "plt.plot(x[(y==1),0], x[(y==1),1], 'ro')\n",
      "plt.plot(x[(y==-1),0], x[(y==-1),1], 'k^')\n",
      "plt.xlim(xmin,xmax)\n",
      "plt.ylim(ymin,ymax)\n",
      "plt.show()"
     ],
     "language": "python",
     "metadata": {},
     "outputs": [
      {
       "metadata": {},
       "output_type": "display_data",
       "png": "[encoded data removed]",
       "text": [
        "<matplotlib.figure.Figure at 0x1084a2710>"
       ]
      }
     ],
     "prompt_number": 2
    },
    {
     "cell_type": "code",
     "collapsed": false,
     "input": [
      "# Quadratic kernel function\n",
      "def quadk(x,z):\n",
      "    tmp = 1.0 + np.dot(x,z)\n",
      "    return tmp*tmp\n",
      "# Evaluate a classifier (alpha,x,y) on a new point x0\n",
      "def evaluate(alpha,x,y,x0):\n",
      "    value = 0.0\n",
      "    for i in range(len(alpha)):\n",
      "        if alpha[i] > 0:\n",
      "            value = value + alpha[i] * y[i] * quadk(x[i,:],x0)\n",
      "    return np.sign(value)\n",
      "# Now train a quadratic kernel perceptron\n",
      "working = True\n",
      "alpha = np.zeros(n)\n",
      "np.random.seed(None)\n",
      "while working:\n",
      "    working = False\n",
      "    I = np.random.permutation(n)\n",
      "    for i in range(n):\n",
      "        j = I[i]\n",
      "        if (evaluate(alpha,x,y,x[j,:]) != y[j]):\n",
      "            working = True\n",
      "            alpha[j] = alpha[j] + 1"
     ],
     "language": "python",
     "metadata": {},
     "outputs": [],
     "prompt_number": 3
    },
    {
     "cell_type": "code",
     "collapsed": false,
     "input": [
      "# RBF kernel function\n",
      "def rbfk(x,z,sigma):\n",
      "    tmp = np.linalg.norm(x-z)/sigma\n",
      "    return np.exp(-tmp*tmp)\n",
      "# Evaluate a classifier (alpha,x,y) on a new point x0\n",
      "def evaluate(alpha,x,y,x0):\n",
      "    value = 0.0\n",
      "    for i in range(len(alpha)):\n",
      "        if alpha[i] > 0:\n",
      "            value = value + alpha[i] * y[i] * rbfk(x[i,:],x0,1.0)\n",
      "    return np.sign(value)\n",
      "# Now train an RBF kernel perceptron\n",
      "working = True\n",
      "alpha = np.zeros(n)\n",
      "np.random.seed(None)\n",
      "while working:\n",
      "    working = False\n",
      "    I = np.random.permutation(n)\n",
      "    for i in range(n):\n",
      "        j = I[i]\n",
      "        if (evaluate(alpha,x,y,x[j,:]) != y[j]):\n",
      "            working = True\n",
      "            alpha[j] = alpha[j] + 1"
     ],
     "language": "python",
     "metadata": {},
     "outputs": [],
     "prompt_number": 5
    },
    {
     "cell_type": "code",
     "collapsed": false,
     "input": [
      "delta = 0.05\n",
      "xx, yy = np.meshgrid(np.arange(xmin, xmax, delta), np.arange(ymin, ymax, delta))\n",
      "grid = np.c_[xx.ravel(), yy.ravel()]\n",
      "gn, gp = grid.shape\n",
      "Z = np.zeros(gn)\n",
      "for i in range(gn):\n",
      "    Z[i] = evaluate(alpha,x,y,grid[i,:])\n",
      "\n",
      "# Put the result into a color plot\n",
      "Z = Z.reshape(xx.shape)\n",
      "plt.pcolormesh(xx, yy, Z, cmap=plt.cm.PRGn, vmin=-3, vmax=3)\n",
      "\n",
      "# Identify the support vectors\n",
      "sv = (alpha > 0)\n",
      "notsv = np.logical_not(sv)\n",
      "\n",
      "# Plot also the training points\n",
      "plt.plot(x[(y==1)*notsv,0], x[(y==1)*notsv,1], 'ro')\n",
      "plt.plot(x[(y==1)*sv,0], x[(y==1)*sv,1], 'ro', markersize=10)\n",
      "plt.plot(x[(y==-1)*notsv,0], x[(y==-1)*notsv,1], 'k^')\n",
      "plt.plot(x[(y==-1)*sv,0], x[(y==-1)*sv,1], 'k^', markersize=10)\n",
      "\n",
      "plt.xlim(xmin, xmax)\n",
      "plt.ylim(ymin, ymax)\n",
      "plt.show()"
     ],
     "language": "python",
     "metadata": {},
     "outputs": [
      {
       "metadata": {},
       "output_type": "display_data",
       "png": "[encoded data removed]",
       "text": [
        "<matplotlib.figure.Figure at 0x108b83c50>"
       ]
      }
     ],
     "prompt_number": 6
    },
    {
     "cell_type": "code",
     "collapsed": false,
     "input": [],
     "language": "python",
     "metadata": {},
     "outputs": []
    }
   ],
   "metadata": {}
  }
 ]
}