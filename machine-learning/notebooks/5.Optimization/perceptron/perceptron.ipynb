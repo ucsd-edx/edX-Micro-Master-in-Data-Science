{
 "cells": [
  {
   "cell_type": "code",
   "execution_count": 39,
   "metadata": {},
   "outputs": [],
   "source": [
    "%matplotlib inline\n",
    "import numpy as np\n",
    "import matplotlib\n",
    "import matplotlib.pyplot as plt\n",
    "matplotlib.rc('xtick', labelsize=14) \n",
    "matplotlib.rc('ytick', labelsize=14)"
   ]
  },
  {
   "cell_type": "code",
   "execution_count": 40,
   "metadata": {},
   "outputs": [
    {
     "data": {
      "image/png": "[encoded data removed]",
      "text/plain": [
       "<matplotlib.figure.Figure at 0x1191de550>"
      ]
     },
     "metadata": {},
     "output_type": "display_data"
    }
   ],
   "source": [
    "# Load in a 2-d data set. Labels are +1/-1 and each line is a single\n",
    "# data point, of the form: x1 x2 y\n",
    "datafile = 'data10.txt'\n",
    "data = np.loadtxt(datafile)\n",
    "n,d = data.shape\n",
    "# Create training set x and labels y\n",
    "# Append a \"1\" feature to each data point (to remove the need for an offset)\n",
    "x = np.ones((n,d))\n",
    "x[:,0:2] = data[:,0:2]\n",
    "y = data[:,2]\n",
    "# Now display the data for good measure\n",
    "xmin = min(x[:,0]) - 1\n",
    "xmax = max(x[:,0]) + 1\n",
    "ymin = min(x[:,1]) - 1\n",
    "ymax = max(x[:,1]) + 1\n",
    "plt.plot(x[(y==1),0], x[(y==1),1], 'ro')\n",
    "plt.plot(x[(y==-1),0], x[(y==-1),1], 'k^')\n",
    "plt.xlim(xmin,xmax)\n",
    "plt.ylim(ymin,ymax)\n",
    "plt.show()"
   ]
  },
  {
   "cell_type": "code",
   "execution_count": 52,
   "metadata": {},
   "outputs": [],
   "source": [
    "def evaluate(w,x):\n",
    "    if np.dot(w,x) > 0:\n",
    "        return 1\n",
    "    if np.dot(w,x) < 0:\n",
    "        return -1\n",
    "    return 0\n",
    "# Perceptron algorithm, given data set (x,y)\n",
    "# Assume all data points have an additional feature \"1\"\n",
    "def train(x,y):\n",
    "    n,d = x.shape\n",
    "    w = np.zeros((d,))\n",
    "    working = True\n",
    "    niters = 0\n",
    "    np.random.seed(None)\n",
    "    while working:\n",
    "        working = False\n",
    "        I = np.random.permutation(n)\n",
    "        for i in range(n):\n",
    "            j = I[i]\n",
    "            if (evaluate(w,x[j,:]) != y[j]):\n",
    "                working = True\n",
    "                w = w + y[j] * x[j,:] \n",
    "        niters = niters + 1\n",
    "    return w, niters"
   ]
  },
  {
   "cell_type": "code",
   "execution_count": 57,
   "metadata": {},
   "outputs": [
    {
     "data": {
      "image/png": "[encoded data removed]",
      "text/plain": [
       "<matplotlib.figure.Figure at 0x119078650>"
      ]
     },
     "metadata": {},
     "output_type": "display_data"
    }
   ],
   "source": [
    "# Train the linear classifier and plot the decision boundary\n",
    "w, niters = train(x,y)\n",
    "#\n",
    "delta = 0.05\n",
    "xx, yy = np.meshgrid(np.arange(xmin, xmax, delta), np.arange(ymin, ymax, delta))\n",
    "grid = np.c_[xx.ravel(), yy.ravel()]\n",
    "gn, gp = grid.shape\n",
    "Z = np.zeros(gn)\n",
    "for i in range(gn):\n",
    "    pt = np.zeros(3)\n",
    "    pt[0] = grid[i,0]\n",
    "    pt[1] = grid[i,1]\n",
    "    pt[2] = 1.0\n",
    "    Z[i] = evaluate(w, pt)\n",
    "\n",
    "# Put the result into a color plot\n",
    "Z = Z.reshape(xx.shape)\n",
    "plt.pcolormesh(xx, yy, Z, cmap=plt.cm.PRGn, vmin=-3, vmax=3)\n",
    "\n",
    "# Plot also the training points\n",
    "plt.plot(x[(y==1),0], x[(y==1),1], 'ro')\n",
    "plt.plot(x[(y==-1),0], x[(y==-1),1], 'k^')\n",
    "plt.title(str(niters)+ \" iterations\", fontsize=14)\n",
    "plt.xlim(xmin, xmax)\n",
    "plt.ylim(ymin, ymax)\n",
    "plt.show()"
   ]
  },
  {
   "cell_type": "code",
   "execution_count": null,
   "metadata": {},
   "outputs": [],
   "source": []
  }
 ],
 "metadata": {
  "kernelspec": {
   "display_name": "Python 2",
   "language": "python",
   "name": "python2"
  },
  "language_info": {
   "codemirror_mode": {
    "name": "ipython",
    "version": 2
   },
   "file_extension": ".py",
   "mimetype": "text/x-python",
   "name": "python",
   "nbconvert_exporter": "python",
   "pygments_lexer": "ipython2",
   "version": "2.7.13"
  },
  "toc": {
   "colors": {
    "hover_highlight": "#DAA520",
    "navigate_num": "#000000",
    "navigate_text": "#333333",
    "running_highlight": "#FF0000",
    "selected_highlight": "#FFD700",
    "sidebar_border": "#EEEEEE",
    "wrapper_background": "#FFFFFF"
   },
   "moveMenuLeft": true,
   "nav_menu": {
    "height": "12px",
    "width": "252px"
   },
   "navigate_menu": true,
   "number_sections": true,
   "sideBar": true,
   "threshold": 4,
   "toc_cell": false,
   "toc_section_display": "block",
   "toc_window_display": false,
   "widenNotebook": false
  }
 },
 "nbformat": 4,
 "nbformat_minor": 1
}
