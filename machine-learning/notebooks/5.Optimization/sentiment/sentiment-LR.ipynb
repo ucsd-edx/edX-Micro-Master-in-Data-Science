{
 "cells": [
  {
   "cell_type": "code",
   "execution_count": 1,
   "metadata": {
    "collapsed": true
   },
   "outputs": [],
   "source": [
    "%matplotlib inline\n",
    "import string\n",
    "import numpy as np\n",
    "import matplotlib\n",
    "import matplotlib.pyplot as plt\n",
    "matplotlib.rc('xtick', labelsize=14) \n",
    "matplotlib.rc('ytick', labelsize=14)"
   ]
  },
  {
   "cell_type": "markdown",
   "metadata": {},
   "source": [
    "## Sentiment Labelled Sentences Data Set \n",
    "\n",
    "This data set consists of 3000 sentences which come from reviews from imdb.com, amazon.com, and yelp.com. The sentences are labeled either '1' for a positive review or '0' for a negative review. We will find it useful to replace the negative review labels with '-1' instead of '0'.\n",
    "\n",
    "To transform this prediction problem into one amenable to linear classification, we will first need to preprocess the text data. The general steps for doing this are:\n",
    "\n",
    "1. Remove punctuation and numbers.\n",
    "2. Transform all words to lower-case.\n",
    "3. Remove _stop words_."
   ]
  },
  {
   "cell_type": "code",
   "execution_count": 2,
   "metadata": {
    "collapsed": true
   },
   "outputs": [],
   "source": [
    "## Read in the data set.\n",
    "with open(\"sentiment_labelled_sentences/full_set.txt\") as f:\n",
    "    content = f.readlines()\n",
    "    \n",
    "## Remove leading and trailing white space\n",
    "content = [x.strip() for x in content]\n",
    "\n",
    "## Separate the sentences from the labels\n",
    "sentences = [x.split(\"\\t\")[0] for x in content]\n",
    "labels = [x.split(\"\\t\")[1] for x in content]\n",
    "\n",
    "## Transform the labels from '0 v.s. 1' to '-1 v.s. 1'\n",
    "y = np.array(labels, dtype='int8')\n",
    "y = 2*y - 1\n",
    "\n",
    "## full_remove takes a string x and a list of characters removal_list \n",
    "## returns x with all the characters in removal_list replaced by ' '\n",
    "def full_remove(x, removal_list):\n",
    "    for w in removal_list:\n",
    "        x = x.replace(w, ' ')\n",
    "    return x\n",
    "\n",
    "## Remove digits\n",
    "digits = [str(x) for x in range(10)]\n",
    "digit_less = [full_remove(x, digits) for x in sentences]\n",
    "\n",
    "## Remove punctuation\n",
    "punc_less = [full_remove(x, list(string.punctuation)) for x in digit_less]\n",
    "\n",
    "## Make everything lower-case\n",
    "sents_lower = [x.lower() for x in punc_less]"
   ]
  },
  {
   "cell_type": "markdown",
   "metadata": {},
   "source": [
    "### Stop words\n",
    "\n",
    "Stop words are words that are filtered out because they are believed to contain no useful information for the task at hand. These usually include articles such as 'a' and 'the', pronouns such as 'i' and 'they', and prepositions such 'to' and 'from'. We have put together a particular set of stop words, but these are by no means comprehensive."
   ]
  },
  {
   "cell_type": "code",
   "execution_count": 3,
   "metadata": {
    "collapsed": true
   },
   "outputs": [],
   "source": [
    "## Define our stop words\n",
    "stop_set = set(['the', 'a', 'an', 'i', 'he', 'she', 'they', 'to', 'of', 'it', 'from'])\n",
    "\n",
    "## Remove stop words\n",
    "sents_split = [x.split() for x in sents_lower]\n",
    "sents_processed = [\" \".join(list(filter(lambda a: a not in stop_set, x))) for x in sents_split]"
   ]
  },
  {
   "cell_type": "code",
   "execution_count": 4,
   "metadata": {},
   "outputs": [
    {
     "data": {
      "text/plain": [
       "['so there is no way for me plug in here in us unless go by converter',\n",
       " 'good case excellent value',\n",
       " 'great for jawbone',\n",
       " 'tied charger for conversations lasting more than minutes major problems',\n",
       " 'mic is great',\n",
       " 'have jiggle plug get line up right get decent volume',\n",
       " 'if you have several dozen or several hundred contacts then imagine fun sending each them one by one',\n",
       " 'if you are razr owner you must have this',\n",
       " 'needless say wasted my money',\n",
       " 'what waste money and time']"
      ]
     },
     "execution_count": 4,
     "metadata": {},
     "output_type": "execute_result"
    }
   ],
   "source": [
    "sents_processed[0:10]"
   ]
  },
  {
   "cell_type": "markdown",
   "metadata": {},
   "source": [
    "### Bag of words\n",
    "\n",
    "In order to use linear classifiers on our data set, we need to transform our textual data into numeric data. The classical way to do this is known as the _bag of words_ representation. \n",
    "\n",
    "In this representation, each word is thought of as corresponding to a number in $\\{1, 2, \\ldots, V \\}$ where $V$ is the size of our vocabulary. And each sentence is represented as a vector $x \\in \\mathbb{R}^V$, where $x_i$ is the number of times that word $i$ occurred in the sentence.\n",
    "\n",
    "To do this transformation, we will make use of the CountVectorizer class in scikit-learn. We will cap the number of features at 4500, meaning a word will make it into our vocabulary only if it is one of the 4500 most common words in our corpus. This is often a useful step as it can weed out spelling mistakes and words which occur too infrequently to be useful.\n",
    "\n",
    "Finally, we will also append a '1' to the end of each vector to allow our linear classifier to learn a bias term."
   ]
  },
  {
   "cell_type": "code",
   "execution_count": 5,
   "metadata": {
    "collapsed": true
   },
   "outputs": [],
   "source": [
    "from sklearn.feature_extraction.text import CountVectorizer\n",
    "\n",
    "## Transform to bag of words representation.\n",
    "vectorizer = CountVectorizer(analyzer = \"word\", tokenizer = None, preprocessor = None, stop_words = None, max_features = 4500)\n",
    "data_features = vectorizer.fit_transform(sents_processed)\n",
    "\n",
    "## Append '1' to the end of each vector.\n",
    "p_mat = data_features.toarray()\n",
    "data_mat = np.ones((p_mat.shape[0], p_mat.shape[1]+1))\n",
    "data_mat[:,:-1] = p_mat"
   ]
  },
  {
   "cell_type": "code",
   "execution_count": 6,
   "metadata": {},
   "outputs": [
    {
     "name": "stdout",
     "output_type": "stream",
     "text": [
      "('train data: ', (2500, 4501))\n",
      "('test data: ', (500, 4501))\n"
     ]
    }
   ],
   "source": [
    "## Split the data into testing and training sets\n",
    "test_inds = np.append(np.random.choice((np.where(y==-1))[0], 250, replace=False), np.random.choice((np.where(y==1))[0], 250, replace=False))\n",
    "train_inds = list(set(range(len(labels))) - set(test_inds))\n",
    "\n",
    "train_data = data_mat[train_inds,]\n",
    "train_labels = y[train_inds]\n",
    "\n",
    "test_data = data_mat[test_inds,]\n",
    "test_labels = y[test_inds]\n",
    "\n",
    "print(\"train data: \", train_data.shape)\n",
    "print(\"test data: \", test_data.shape)"
   ]
  },
  {
   "cell_type": "markdown",
   "metadata": {},
   "source": [
    "## Logistic Regression\n",
    "\n",
    "In logistic regression, we are trying to find a weight vector $w \\in \\mathbb{R}^d$ that minimizes the logistic loss. For a set of examples $(x_1, y_1), \\ldots, (x_n, y_n)$, the empirical logistic loss looks like\n",
    "\n",
    "$$ L(w) = \\sum_{i=1}^n L(w; \\ x_i, y_i).$$\n",
    "\n",
    "where\n",
    "\n",
    "$$ L(w; \\ x, y) = \\log(1 + e^{-y \\ \\langle w, x \\rangle}).$$\n",
    "\n",
    "For each data point $x \\in \\mathbb{R}^d$, we can think of $w$ as assigning a probability to the event that $x$ is positive via the logistic sigmoid:\n",
    "\n",
    "$$ Pr(x \\text{ is positive}; \\ w) = \\sigma(\\langle w, x\\rangle) $$\n",
    "\n",
    "where\n",
    "\n",
    "$$ \\sigma(t) = \\frac{1}{1 + e^{-t}} .$$"
   ]
  },
  {
   "cell_type": "code",
   "execution_count": 7,
   "metadata": {
    "collapsed": true
   },
   "outputs": [],
   "source": [
    "## Logistic sigmoid\n",
    "def sigmoid(w, x):\n",
    "    return 1.0/(1.0 + np.exp(-1.0 * np.dot(w, x)))\n",
    "\n",
    "## Apply logistic sigmoid to all rows in data, classify as positive if probability > 0.5\n",
    "def classify_data(w, data):\n",
    "    preds = np.array([sigmoid(w,data[i,]) for i in range(data.shape[0])])\n",
    "    return preds > 0.5"
   ]
  },
  {
   "cell_type": "markdown",
   "metadata": {},
   "source": [
    "## Stochastic Gradient Descent\n",
    "\n",
    "We now turn to learning the weight vector $w$. We will use a simple but powerful algorithm known as _stochastic gradient descent_ or SGD, which works for any convex loss function. Roughly the algorithm is as follows.\n",
    "\n",
    "* Initialize $w = \\vec{0}$.\n",
    "* Repeat until convergence:\n",
    "     * Shuffle the order of the data.\n",
    "     * For each data point (x_i, y_i):\n",
    "         * Update $w = w + \\eta \\ \\nabla L(w; \\ x_i, y_i)$.\n",
    "\n",
    "Here $eta$ is the _learning rate_. We will simply set it to be some small constant. $\\nabla L(w; \\ x, y)$ is the _gradient_ of the loss function $L(w; \\ x, y)$, i.e. the vector whose $j$-th component is the partial derivative $\\frac{\\partial}{\\partial w_j} L(w; \\ x, y)$. For the logistic loss, these partial derivatives look like the following.\n",
    "\n",
    "$$ \\frac{\\partial}{\\partial w_j} L(w; \\ x, y) = \\frac{-y \\ x_j \\ e^{-y \\langle w, x \\rangle}}{1 + e^{-y \\langle w, x \\rangle}} $$\n",
    "\n",
    "We are now ready to write out sgd for logistic regression."
   ]
  },
  {
   "cell_type": "code",
   "execution_count": 8,
   "metadata": {
    "collapsed": true
   },
   "outputs": [],
   "source": [
    "## Compute gradient on example (x,y)\n",
    "def log_grad(w, x, y):\n",
    "    exp_val = np.exp(-1.0*y*np.dot(w, x))\n",
    "    return (-1.0*y*x*exp_val)/(1 + exp_val)\n",
    "\n",
    "## SGD algorithm\n",
    "def sgd(data, labels, eta=0.1):\n",
    "    dist = 10.0 # Distance will track how much w changes between iterations\n",
    "    w = np.zeros(data.shape[1]) # Initialize w to be zero vector\n",
    "    j = 0\n",
    "    ## `Convergence' for us is when our weight vector w does not change too much after an iteration\n",
    "    loss = []\n",
    "    while(dist > .1): \n",
    "        w_old = w\n",
    "        order = np.random.permutation(len(labels))\n",
    "        for i in order:\n",
    "            grad = log_grad(w, data[i,], labels[i])\n",
    "            w = w - eta*grad\n",
    "        logscore = 0.0\n",
    "        for i in order:\n",
    "            logscore = logscore + np.log(1 + np.exp(-1.0*labels[i]*(np.dot(w,data[i,]))))\n",
    "        loss.append(logscore)\n",
    "        dist = np.linalg.norm(w-w_old)\n",
    "        ## Print out after every 100 iterations to see how convergence looks.\n",
    "        if(j%100 == 0):\n",
    "            print(j, \" : \", dist, logscore)\n",
    "        j += 1\n",
    "    return w, loss"
   ]
  },
  {
   "cell_type": "code",
   "execution_count": 9,
   "metadata": {},
   "outputs": [
    {
     "name": "stdout",
     "output_type": "stream",
     "text": [
      "(0, ' : ', 8.3169192975157866, 1003.5851657910328)\n",
      "(100, ' : ', 0.29700571636180628, 82.398743314228994)\n",
      "(200, ' : ', 0.16069296586299661, 46.508606096860923)\n",
      "(300, ' : ', 0.10812164070179603, 32.910951711541244)\n",
      "('test error: ', 0.152)\n"
     ]
    }
   ],
   "source": [
    "## Run SGD on training data\n",
    "w, loss = sgd(train_data, train_labels)\n",
    "\n",
    "## Get predictions on test_data\n",
    "pred_labels = classify_data(w, test_data)\n",
    "\n",
    "## Compute test error\n",
    "num_errors = np.sum(pred_labels != (test_labels > 0.0))\n",
    "print(\"test error: \", float(num_errors)/len(test_labels))"
   ]
  },
  {
   "cell_type": "code",
   "execution_count": 10,
   "metadata": {
    "collapsed": true
   },
   "outputs": [],
   "source": [
    "pred_labels = np.array([sigmoid(w,test_data[i,])-0.5 for i in range(test_data.shape[0])])"
   ]
  },
  {
   "cell_type": "code",
   "execution_count": 11,
   "metadata": {
    "collapsed": true
   },
   "outputs": [],
   "source": [
    "scores = pred_labels * test_labels\n",
    "I = np.argsort(scores)"
   ]
  },
  {
   "cell_type": "code",
   "execution_count": null,
   "metadata": {},
   "outputs": [],
   "source": []
  },
  {
   "cell_type": "code",
   "execution_count": 12,
   "metadata": {},
   "outputs": [
    {
     "name": "stdout",
     "output_type": "stream",
     "text": [
      "We made the drive all the way from North Scottsdale... and I was not one bit disappointed! 1\n",
      "The pairing of the two devices was so easy it barely took a couple minutes before I started making calls with the voice dialing feature. 1\n",
      "The loudspeaker option is great, the bumpers with the lights is very ... appealing. -1\n",
      "I usually don't like headbands but this one is very lightweight & doesn't mess up my hair. 1\n",
      "I was able to do voice dialing in the car with no problem. 1\n",
      "its a little geeky but i think thats its sex on toast and it rocks and oozes sex right down to its battery embedded sleek stylish leather case. 1\n",
      "I don't think you will be disappointed.   1\n",
      "If you check the director's filmography on this site you will see why this film didn't have a chance.   -1\n",
      "Now the burgers aren't as good, the pizza which used to be amazing is doughy and flavorless. -1\n",
      "Because both ears are occupied, background is not distracting at all. 1\n",
      "Actually, the graphics were good at the time.   1\n",
      "You won't be disappointed. 1\n",
      "I've had this bluetoooth headset for some time now and still not comfortable with the way it fits on the ear. -1\n",
      "Can't upload ringtones from a third party. -1\n",
      "This item worked great, but it broke after 6 months of use. -1\n",
      "Initially the local sites in the film, which was filmed here in Buffalo, intrigued me.   1\n",
      "Still, it was the SETS that got a big \"10\" on my \"oy-vey\" scale.   1\n",
      "Virgin Wireless rocks and so does this cheap little phone! 1\n",
      "Wow, what a bad film.   -1\n",
      "I ended up sliding it on the edge of my pants or back pockets instead. 1\n",
      "To be honest with you, this is unbelievable nonsense and very foolish.   -1\n",
      "The only good thing was our waiter, he was very helpful and kept the bloddy mary's coming. 1\n",
      "I find this inexcusable and so will probably be returning this phone and perhaps changing carriers. -1\n",
      "It actually turned out to be pretty decent as far as B-list horror/suspense films go.   1\n",
      "The battery life is highly unacceptable. -1\n",
      "The new characters weren't all that memorable, and I found myself forgetting who was who.   -1\n",
      "I'm not really sure how Joey's was voted best hot dog in the Valley by readers of Phoenix Magazine. -1\n",
      "I can't see how this movie can be an inspiration to anyone to come out or overcome fear and rejection.   -1\n",
      "I will continue to come here on ladies night andddd date night ... highly recommend this place to anyone who is in the area (; 1\n",
      "Treo and T-Mobile refused to replace it again and forced me to buy another phone without any kind of upgrade discount. -1\n",
      "Your staff spends more time talking to themselves than me. -1\n",
      "It's a great tool for entertainment, communication, and data management.Oh, be sure to use ActiveSync 4.2 for optimal data synchronization results! 1\n",
      "DELETE this film from your mind!   -1\n",
      "The real killer is the volume, and of course it breaking. -1\n",
      "I wasn't really impressed with Strip Steak. -1\n",
      "Not a good bargain. -1\n",
      "but the movie makes a lot of serious mistakes.   -1\n",
      "It also took her forever to bring us the check when we asked for it. -1\n",
      "And the accents are absolutely abysmal!   -1\n",
      "It has all the features I want 1\n",
      "Every element of this story was so over the top, excessively phony and contrived that it was painful to sit through.   -1\n",
      "The picture resolution is far below what other comparably-priced phones are offering today. -1\n",
      "It even has its sweet moments.   1\n",
      "Makes it easier to keep up with my bluetooth when I'm not wearing it. -1\n",
      "Everything stinks.   -1\n",
      "Yes, I am simplifying things here for the sake of brevity, for this really is at the core of the problems with this film - it has too much going on without any real, fulfilling explanation.   -1\n",
      "I'll put this gem up against any movie in terms of screenplay, cinematography, acting, post-production, editing, directing, or any other aspect of film-making.   1\n",
      "It was forced, like everything in this movie.   -1\n",
      "The film gives meaning to the phrase, \"Never in the history of human conflict has so much been owed by so many to so few.   1\n",
      "This case has passed the one year mark and while it shows signs of wear, it is 100% functional. 1\n",
      "And considering the two of us left there very full and happy for about $20, you just can't go wrong. 1\n",
      "there are so many problems i dont know where to start.   -1\n",
      "My boyfriend and I came here for the first time on a recent trip to Vegas and could not have been more pleased with the quality of food and service. 1\n",
      "I kept looking at the time and it had soon become 35 minutes, yet still no food. -1\n",
      "I go to far too many places and I've never seen any restaurant that serves a 1 egg breakfast, especially for $4.00. -1\n",
      "These are the central themes of the film and they are handled ineptly, stereotypically and with no depth of imagination.   -1\n",
      "Unfortunately, 'Cover Girl' is an example of how Hollywood used to exploit women for financial gain.   -1\n",
      "Go rent it.   1\n",
      "much better than the hard plastic cases. 1\n",
      "CONCLUSION: Very filling meals. 1\n",
      "first time there and might just be the last. -1\n",
      "10/10   1\n",
      "I had to purchase a different case. -1\n",
      "The noise shield is incrediable. 1\n",
      "OMG, the food was delicioso! 1\n",
      "Highly recommended for all ages, although the younger set will probably not appreciate some of the more subtle references, they will certainly appreciate one galley scene in particular!   1\n",
      "This is infuriating. -1\n",
      "The film is way too long.   -1\n",
      "The bus boy on the other hand was so rude. -1\n",
      "The plot simply rumbles on like a machine, desperately depending on the addition of new scenes.   -1\n",
      "The feel of the dining room was more college cooking course than high class dining and the service was slow at best. -1\n",
      "Overall I wasn't very impressed with Noca. -1\n",
      "It is very comfortable to wear as well, which is probably the most important aspect about using a case. 1\n",
      "Not good enough for the price. -1\n",
      "My first visit to Hiro was a delight! 1\n",
      "There was absolutely no warmth or charm to these scenes or characters.   -1\n",
      "Just as good as when I had it more than a year ago! 1\n",
      "Bought mainly for the charger, which broke soon after purchasing. -1\n",
      "Everything about this product is wrong.First -1\n",
      "The meat was pretty dry, I had the sliced brisket and pulled pork. -1\n",
      "I recently tried Caballero's and I have been back every week since! 1\n",
      "Not as good as I had hoped. -1\n",
      "They could be used as exemplars for any set designer.   1\n",
      "This is a disgrace. -1\n",
      "This greedy corporation will NEVER see another dime from me! -1\n",
      "The staff was very attentive. 1\n",
      "Protects the phone on all sides. 1\n",
      "I was sitting in my vehicle, with the cradle on my belt, and the headset lost signal. -1\n",
      "This is probably the most irritating show I have ever seen in my entire life.   -1\n",
      "You can't beat that. 1\n",
      "im surprised this is a good quality car charger and there's not much reviews about it. 1\n",
      "Unfortunately, it only set us up for disapppointment with our entrees. -1\n",
      "Restored my phone to like new performance. 1\n",
      "however, my girl was complain that some time the phone doesn't wake up like normal phone does. -1\n",
      "I don't each much pasta, but I love the homemade /hand made pastas and thin pizzas here. 1\n",
      "I'll even say it again  this is torture.   -1\n",
      "There was so much hype over this phone that I assumed it was the best, my mistake. -1\n",
      "Punishment Park is a brilliant piece of cinema.   1\n",
      "The bose noise cancelling is amazing, which is very important for a NYC commuter. 1\n",
      "Highly unprofessional and rude to a loyal patron! -1\n"
     ]
    }
   ],
   "source": [
    "for i in range(0,100):\n",
    "    j = test_inds[I[i]]\n",
    "    print sentences[j], y[j] "
   ]
  },
  {
   "cell_type": "code",
   "execution_count": 13,
   "metadata": {
    "scrolled": true
   },
   "outputs": [
    {
     "data": {
      "image/png": "[encoded data removed]",
      "text/plain": [
       "<matplotlib.figure.Figure at 0x10e251450>"
      ]
     },
     "metadata": {},
     "output_type": "display_data"
    }
   ],
   "source": [
    "# Show how the training loss decreases over iterations (each a full pass over the data)\n",
    "plt.plot(loss, linewidth=2, color='red')\n",
    "plt.xlabel('Iteration', fontsize=14)\n",
    "plt.ylabel('Training loss', fontsize=14)\n",
    "plt.show()"
   ]
  },
  {
   "cell_type": "markdown",
   "metadata": {},
   "source": [
    "### Scikit-learn implementation\n",
    "\n",
    "Scikit-learn has a fast implementation of SGD capable of fitting a linear classifier on logistic loss. Due to the randomness in the algorithm, the weight vectors found in SGD do not always have precisely the same performance."
   ]
  },
  {
   "cell_type": "code",
   "execution_count": 14,
   "metadata": {},
   "outputs": [
    {
     "name": "stdout",
     "output_type": "stream",
     "text": [
      "('sklearn test error: ', 0.174)\n"
     ]
    }
   ],
   "source": [
    "from sklearn.linear_model import SGDClassifier\n",
    "\n",
    "## Fit logistic classifier on training data\n",
    "clf = SGDClassifier(loss=\"log\")\n",
    "clf.fit(train_data, train_labels)\n",
    "\n",
    "## Get predictions on test data\n",
    "preds_sk = clf.predict(test_data)\n",
    "\n",
    "## Compute errors\n",
    "sk_errors = np.sum((preds_sk > 0.0) != (test_labels > 0.0))\n",
    "print(\"sklearn test error: \", float(sk_errors)/len(test_labels))"
   ]
  },
  {
   "cell_type": "markdown",
   "metadata": {},
   "source": [
    "### The margin\n",
    "\n",
    "Because the output of logistic regression on a data point can be viewed as a probability, we might expect our classifier to be more confident on those points for which its prediction is closer to 0 or 1. Thus, we might expect our classifier to do better if we allow it to abstain from classifying a data point if its prediction lies within $\\gamma$ of 0.5. "
   ]
  },
  {
   "cell_type": "code",
   "execution_count": 15,
   "metadata": {
    "collapsed": true
   },
   "outputs": [],
   "source": [
    "## Return error of predictions that lie in intervals [0, 0.5 - gamma) and (0.5 + gamma, 1]\n",
    "def margin_errors(w, test_data, test_labels, gamma):\n",
    "    ## Compute probability on each test point\n",
    "    preds = np.array([sigmoid(w, test_data[i,]) for i in range(test_data.shape[0])])\n",
    "    \n",
    "    ## Find data points for which prediction is at least gamma away from 0.5\n",
    "    margin_inds = np.where((preds > (0.5+gamma)) | (preds < (0.5-gamma)))[0]\n",
    "    \n",
    "    ## Compute error on those data points.\n",
    "    num_errors = np.sum((preds[margin_inds] > 0.5) != (test_labels[margin_inds] > 0.0))\n",
    "    return float(num_errors)/len(margin_inds)"
   ]
  },
  {
   "cell_type": "code",
   "execution_count": 16,
   "metadata": {
    "collapsed": true
   },
   "outputs": [],
   "source": [
    "## Return error of predictions that lie in intervals [0, 0.5 - gamma) and (0.5 + gamma, 1]\n",
    "def margin_percentiles(w, test_data, test_labels, gamma):\n",
    "    ## Compute probability on each test point\n",
    "    preds = np.array([sigmoid(w, test_data[i,]) for i in range(test_data.shape[0])])\n",
    "    \n",
    "    ## Find data points for which prediction is at least gamma away from 0.5\n",
    "    margin_inds = np.where((preds > (0.5+gamma)) | (preds < (0.5-gamma)))[0]\n",
    "    \n",
    "    return float(len(margin_inds))"
   ]
  },
  {
   "cell_type": "code",
   "execution_count": 17,
   "metadata": {},
   "outputs": [
    {
     "data": {
      "image/png": "[encoded data removed]",
      "text/plain": [
       "<matplotlib.figure.Figure at 0x1240d9e10>"
      ]
     },
     "metadata": {},
     "output_type": "display_data"
    }
   ],
   "source": [
    "gammas = np.arange(0,0.5,0.01)\n",
    "f = np.vectorize(lambda g: margin_percentiles(w, test_data, test_labels, g))\n",
    "sz = f(gammas)\n",
    "plt.plot(gammas, f(gammas)/500.0, linewidth=2, color='green')\n",
    "plt.xlabel('Margin', fontsize=14)\n",
    "plt.ylabel('Fraction of points above margin', fontsize=14)\n",
    "plt.show()"
   ]
  },
  {
   "cell_type": "code",
   "execution_count": 18,
   "metadata": {},
   "outputs": [
    {
     "data": {
      "image/png": "[encoded data removed]",
      "text/plain": [
       "<matplotlib.figure.Figure at 0x124a7db90>"
      ]
     },
     "metadata": {},
     "output_type": "display_data"
    }
   ],
   "source": [
    "import matplotlib.pyplot as plt\n",
    "\n",
    "## Create grid of gamma values\n",
    "gammas = np.arange(0, 0.5, 0.01)\n",
    "\n",
    "## Compute margin_errors on test data for each value of g\n",
    "f = np.vectorize(lambda g: margin_errors(w, test_data, test_labels, g))\n",
    "\n",
    "## Plot the result\n",
    "plt.plot(gammas, f(gammas), linewidth=2)\n",
    "plt.ylabel('Error rate', fontsize=14)\n",
    "plt.xlabel('Margin', fontsize=14)\n",
    "plt.show()"
   ]
  },
  {
   "cell_type": "markdown",
   "metadata": {},
   "source": [
    "## Words with large influence\n",
    "\n",
    "Because we are our model is linear, interpreting it is relatively straightforward."
   ]
  },
  {
   "cell_type": "code",
   "execution_count": 19,
   "metadata": {},
   "outputs": [
    {
     "name": "stdout",
     "output_type": "stream",
     "text": [
      "Highly negative words: \n",
      "['disappointment', 'sucked', 'bit', 'stupid', 'poor', 'falls', 'graphics', 'hated', 'missing', 'average', 'appalling', 'doesn', 'dirty', 'garbage', 'buying', 'worst', 'sorry', 'directing', 'dislike', 'lacks', 'disappointing', 'didn', 'fails', 'awful', 'not', 'avoid', 'starter', 'mess', 'unrecommended', 'sucks', 'roasted', 'bland', 'return', 'slow', 'wasn', 'year', 'don', 'overpriced', 'weak', 'annoying', 'difficult', 'hate', 'hours', 'down', 'lame', 'started', 'fair', 'piece', 'crap', 'plan']\n",
      "Highly positive words: \n",
      "['disappoint', 'easily', 'struggle', 'prompt', 'hands', 'joy', 'pleased', 'properly', 'wow', 'bachi', 'mouth', 'soon', 'interesting', 'fast', 'restaurant', 'best', 'recommendation', 'score', 'incredible', 'definitely', 'enjoyed', 'tasty', 'amazing', 'game', 'check', 'love', 'package', 'fantastic', 'wonderful', 'awesome', 'excellent', 'plus', 'works', 'complaints', 'nice', 'delicious', 'perfect', 'predictable', 'believable', 'liked', 'loved', 'soundtrack', 'screamy', 'masculine', 'assure', 'great', 'miss', 'happier']\n"
     ]
    }
   ],
   "source": [
    "## Convert vocabulary into a list:\n",
    "vocab = np.array([z[0] for z in sorted(vectorizer.vocabulary_.items(), key=lambda x:x[1])])\n",
    "\n",
    "## Get indices of sorting w\n",
    "inds = np.argsort(w)\n",
    "\n",
    "## Words with large negative values\n",
    "neg_inds = inds[0:50]\n",
    "print(\"Highly negative words: \")\n",
    "print([str(x) for x in list(vocab[neg_inds])])\n",
    "\n",
    "## Words with large positive values\n",
    "pos_inds = inds[-49:-1]\n",
    "print(\"Highly positive words: \")\n",
    "print([str(x) for x in list(vocab[pos_inds])])"
   ]
  },
  {
   "cell_type": "code",
   "execution_count": null,
   "metadata": {
    "collapsed": true
   },
   "outputs": [],
   "source": []
  }
 ],
 "metadata": {
  "anaconda-cloud": {},
  "kernelspec": {
   "display_name": "Python 2",
   "language": "python",
   "name": "python2"
  },
  "language_info": {
   "codemirror_mode": {
    "name": "ipython",
    "version": 2
   },
   "file_extension": ".py",
   "mimetype": "text/x-python",
   "name": "python",
   "nbconvert_exporter": "python",
   "pygments_lexer": "ipython2",
   "version": "2.7.13"
  },
  "toc": {
   "colors": {
    "hover_highlight": "#DAA520",
    "navigate_num": "#000000",
    "navigate_text": "#333333",
    "running_highlight": "#FF0000",
    "selected_highlight": "#FFD700",
    "sidebar_border": "#EEEEEE",
    "wrapper_background": "#FFFFFF"
   },
   "moveMenuLeft": true,
   "nav_menu": {
    "height": "12px",
    "width": "252px"
   },
   "navigate_menu": true,
   "number_sections": true,
   "sideBar": true,
   "threshold": 4,
   "toc_cell": false,
   "toc_section_display": "block",
   "toc_window_display": false,
   "widenNotebook": false
  }
 },
 "nbformat": 4,
 "nbformat_minor": 1
}
