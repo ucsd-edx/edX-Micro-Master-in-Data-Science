{
 "cells": [
  {
   "cell_type": "markdown",
   "metadata": {},
   "source": [
    "<font face=\"Calibri\" size=\"18px\" ><strong> HW_2 </strong></font>"
   ]
  },
  {
   "cell_type": "markdown",
   "metadata": {},
   "source": [
    "<font size=\"4\" style=\"color:red;\"> **IMPORTANT: ** When submitting this homework notebook, please modify only the cells that start with:</font>\n",
    "\n",
    "```python\n",
    "# modify this cell\n",
    "```"
   ]
  },
  {
   "cell_type": "markdown",
   "metadata": {},
   "source": [
    "## Setup Notebook"
   ]
  },
  {
   "cell_type": "markdown",
   "metadata": {},
   "source": [
    "We import useful packages and load in the dataset"
   ]
  },
  {
   "cell_type": "code",
   "execution_count": 137,
   "metadata": {},
   "outputs": [
    {
     "name": "stdout",
     "output_type": "stream",
     "text": [
      "The object 'helper' has been imported into this notebook.\n"
     ]
    }
   ],
   "source": [
    "%matplotlib inline\n",
    "%run helper.ipynb\n",
    "import numpy as np\n",
    "import matplotlib.pyplot as plt\n",
    "from inspect import getsource\n",
    "from scipy.stats import norm, multivariate_normal # module for dealing with the Gaussians"
   ]
  },
  {
   "cell_type": "code",
   "execution_count": 138,
   "metadata": {
    "collapsed": true
   },
   "outputs": [],
   "source": [
    "# installing packages for interactive graphs\n",
    "import ipywidgets as widgets\n",
    "from IPython.display import display\n",
    "from ipywidgets import interact, interactive, fixed, interact_manual, IntSlider"
   ]
  },
  {
   "cell_type": "markdown",
   "metadata": {},
   "source": [
    "For this HW we will be examining the famouse Fischer's iris dataset. The dataset uses 4 features of a plant to categorize it into one of 3 species $(1,2,3)$ for our purposes."
   ]
  },
  {
   "cell_type": "markdown",
   "metadata": {},
   "source": [
    "We load in the iris test and training data.\n",
    "The dataset consists of 120 training points and 30 test points.\n",
    "There are 4 features and a label with one of the values, (1,2,3).\n",
    "\n",
    "* **x :** an `np.array` of the 120 training points' features.\n",
    "* **y :** an `np.array` of the 120 training labels.\n",
    "* **tx :** an `np.array` of the 30 test points' features.\n",
    "* **ty :** an `np.array` of the 30 test points' labels."
   ]
  },
  {
   "cell_type": "code",
   "execution_count": 139,
   "metadata": {},
   "outputs": [
    {
     "name": "stdout",
     "output_type": "stream",
     "text": [
      "x.shape : (120, 4)\n",
      "tx.shape : (30, 4)\n",
      "y.shape : (120,)\n",
      "ty.shape : (30,)\n",
      "\n",
      "Names of Features:\n",
      "['sepal length (cm)', 'sepal width (cm)', 'petal length (cm)', 'petal width (cm)']\n"
     ]
    }
   ],
   "source": [
    "x,y,tx,ty = helper.hw.x, helper.hw.y, helper.hw.tx, helper.hw.ty\n",
    "print \"x.shape :\",x.shape\n",
    "print \"tx.shape :\",tx.shape\n",
    "print \"y.shape :\",y.shape\n",
    "print \"ty.shape :\",ty.shape\n",
    "\n",
    "featurenames = helper.hw.featurenames\n",
    "print;print \"Names of Features:\"; print featurenames"
   ]
  },
  {
   "cell_type": "markdown",
   "metadata": {},
   "source": [
    "## Examining the Dataset"
   ]
  },
  {
   "cell_type": "markdown",
   "metadata": {},
   "source": [
    "**<font color=\"red\">Important Note: </font>**For each of the following exercise you are **not** expected to write the solutions from scratch. Please read through the functions in the <font color=\"blue\">helper.ipynb</font> notebook and choose the appropriate function for the problem.\n",
    "\n",
    "Here we show how the helper functions can be run on the hw's dataset. Below we graph a histogram of a feature for a given label. Explore the graphs to gain a better understanding of how well the assumption of using a normal distribution holds."
   ]
  },
  {
   "cell_type": "code",
   "execution_count": 140,
   "metadata": {},
   "outputs": [
    {
     "data": {
      "application/vnd.jupyter.widget-view+json": {
       "model_id": "75ef0bec533a4780984ad4945dc687b9"
      }
     },
     "metadata": {},
     "output_type": "display_data"
    },
    {
     "data": {
      "text/plain": [
       "<function __main__.densityPlot>"
      ]
     },
     "execution_count": 140,
     "metadata": {},
     "output_type": "execute_result"
    }
   ],
   "source": [
    "interact_manual( helper.uni.densityPlot, feature=IntSlider(0,0,3), label=IntSlider(1,1,3))"
   ]
  },
  {
   "cell_type": "markdown",
   "metadata": {},
   "source": [
    "We now show the Gaussian distribution for each of the three classes, given two features."
   ]
  },
  {
   "cell_type": "code",
   "execution_count": 143,
   "metadata": {},
   "outputs": [
    {
     "data": {
      "application/vnd.jupyter.widget-view+json": {
       "model_id": "2799a9aa697745608dadd3a4670b4578"
      }
     },
     "metadata": {},
     "output_type": "display_data"
    },
    {
     "data": {
      "text/plain": [
       "<function __main__.threeGaussiansPlot>"
      ]
     },
     "execution_count": 143,
     "metadata": {},
     "output_type": "execute_result"
    }
   ],
   "source": [
    "interact_manual( helper.bi.threeGaussiansPlot, f1=IntSlider(3,0,3,1), f2=IntSlider(2,0,3,1) )"
   ]
  },
  {
   "cell_type": "markdown",
   "metadata": {},
   "source": [
    "# Exercise 1"
   ]
  },
  {
   "cell_type": "markdown",
   "metadata": {},
   "source": [
    "Write a function, **feature_moments**, that returns the mean and variance of a given feature. The function's input is the feature integer, and the output should be the tuple, $($mean, variance$)$\n"
   ]
  },
  {
   "cell_type": "markdown",
   "metadata": {},
   "source": [
    "<font  style=\"color:blue\"> **Code:**</font>\n",
    "```python\n",
    "print feature_moments(0)\n",
    "print feature_moments(1)\n",
    "```\n",
    "\n",
    "\n",
    "<font  style=\"color:magenta\"> **Output**</font>\n",
    "```\n",
    "(5.895833333333333, 0.7207326388888889)\n",
    "(3.0541666666666667, 0.17748263888888888)\n",
    "```"
   ]
  },
  {
   "cell_type": "code",
   "execution_count": 144,
   "metadata": {
    "collapsed": true
   },
   "outputs": [],
   "source": [
    "# modify this cell\n",
    "\n",
    "def feature_moments(feature):\n",
    "    # inputs: an integer representing the feature number\n",
    "    # output: a tuple of floats, (mean, variance)\n",
    "    \n",
    "    ### BEGIN SOLUTION\n",
    "    mean, var = helper.bi.fit_gaussian(x,[feature])\n",
    "    return float(mean), float(var)\n",
    "    ### END SOLUTION"
   ]
  },
  {
   "cell_type": "code",
   "execution_count": 145,
   "metadata": {
    "collapsed": true
   },
   "outputs": [],
   "source": [
    "# Check Function\n",
    "\n",
    "assert( sum(abs(feature_moments(2) - np.array([3.83, 3.0901]) ))   < 10**-7 )\n",
    "\n",
    "### BEGIN HIDDEN TESTS\n",
    "assert( sum(abs(feature_moments(3) - np.array([1.2166666666666666,0.566388888888889]) ))   < 10**-7 )\n",
    "### END HIDDEN TESTS"
   ]
  },
  {
   "cell_type": "markdown",
   "metadata": {},
   "source": [
    "# Exercise 2"
   ]
  },
  {
   "cell_type": "markdown",
   "metadata": {},
   "source": [
    "Write a function, **test_one_feature**, that returns the number of incorrectly guessed test points when predictng the targets with only 1 feature. The function's input is the feature integer, and the output should be the test error rate.\n"
   ]
  },
  {
   "cell_type": "markdown",
   "metadata": {},
   "source": [
    "<font  style=\"color:blue\"> **Code:**</font>\n",
    "```python\n",
    "print test_one_feature(0)\n",
    "print test_one_feature(1)\n",
    "```\n",
    "\n",
    "\n",
    "<font  style=\"color:magenta\"> **Output**</font>\n",
    "```\n",
    "Test error using feature sepal length (cm): 9/30\n",
    "0.3\n",
    "Test error using feature sepal width (cm): 12/30\n",
    "0.4\n",
    "```"
   ]
  },
  {
   "cell_type": "code",
   "execution_count": 146,
   "metadata": {
    "collapsed": true
   },
   "outputs": [],
   "source": [
    "# modify this cell\n",
    "\n",
    "def test_one_feature(feature):\n",
    "    # inputs: an integer representing the feature number\n",
    "    # output: a float representing the error rate\n",
    "    \n",
    "    ### BEGIN SOLUTION\n",
    "    return helper.uni.test_model(feature)\n",
    "    ### END SOLUTION"
   ]
  },
  {
   "cell_type": "code",
   "execution_count": 147,
   "metadata": {},
   "outputs": [
    {
     "name": "stdout",
     "output_type": "stream",
     "text": [
      "Test error using feature petal length (cm): 3/30\n",
      "Test error using feature petal width (cm): 1/30\n"
     ]
    }
   ],
   "source": [
    "# Check Function\n",
    "\n",
    "assert( abs(test_one_feature(2) - 0.1  )   < 10**-7 )\n",
    "\n",
    "### BEGIN HIDDEN TESTS\n",
    "assert( abs(test_one_feature(3) - 1/30.0  )   < 10**-7 )\n",
    "### END HIDDEN TESTS"
   ]
  },
  {
   "cell_type": "markdown",
   "metadata": {},
   "source": [
    "# Exercise 3"
   ]
  },
  {
   "cell_type": "markdown",
   "metadata": {},
   "source": [
    "Write a function, **test_two_features**, that returns the number of incorrectly guessed test points when predictng the targets with two features. The inputs are the feature integers, and the output is the test error rate."
   ]
  },
  {
   "cell_type": "markdown",
   "metadata": {},
   "source": [
    "<font  style=\"color:blue\"> **Code:**</font>\n",
    "```python\n",
    "print test_two_features(0,2)\n",
    "print;print test_two_features(2,3)\n",
    "```\n",
    "\n",
    "\n",
    "<font  style=\"color:magenta\"> **Output**</font>\n",
    "```\n",
    "Test error using feature(s):  'sepal length (cm)'  'petal length (cm)' \n",
    "Errors: 2/30\n",
    "0.0666666666667\n",
    "\n",
    "Test error using feature(s):  'petal length (cm)'  'petal width (cm)' \n",
    "Errors: 0/30\n",
    "0.0\n",
    "```"
   ]
  },
  {
   "cell_type": "code",
   "execution_count": 148,
   "metadata": {
    "collapsed": true
   },
   "outputs": [],
   "source": [
    "# modify this cell\n",
    "\n",
    "def test_two_features(f1, f2):\n",
    "    # inputs: integer representing the feature number\n",
    "    # output: a float representing the error rate\n",
    "    \n",
    "    ### BEGIN SOLUTION\n",
    "    return helper.bi.test_model(f1, f2)\n",
    "    ### END SOLUTION"
   ]
  },
  {
   "cell_type": "code",
   "execution_count": 149,
   "metadata": {},
   "outputs": [
    {
     "name": "stdout",
     "output_type": "stream",
     "text": [
      "Test error using feature(s):  'sepal length (cm)'  'sepal width (cm)' \n",
      "Errors: 9/30\n",
      "Test error using feature(s):  'petal length (cm)'  'sepal width (cm)' \n",
      "Errors: 4/30\n",
      "Test error using feature(s):  'sepal width (cm)'  'petal width (cm)' \n",
      "Errors: 1/30\n"
     ]
    }
   ],
   "source": [
    "# Check Function\n",
    "\n",
    "assert( abs(test_two_features(0,1) - 3/10.0  )   < 10**-7 )\n",
    "assert( abs(test_two_features(2,1) - 4/30.0  )   < 10**-7 )\n",
    "\n",
    "### BEGIN HIDDEN TESTS\n",
    "assert( abs(test_two_features(1,3) - 1/30.0  )   < 10**-7 )\n",
    "### END HIDDEN TESTS"
   ]
  },
  {
   "cell_type": "code",
   "execution_count": null,
   "metadata": {
    "collapsed": true
   },
   "outputs": [],
   "source": [
    "\n",
    "\n",
    "\n",
    "\n",
    "\n",
    "\n",
    "\n",
    "\n",
    "\n",
    "\n",
    "\n",
    "\n",
    "\n",
    "\n"
   ]
  }
 ],
 "metadata": {
  "kernelspec": {
   "display_name": "Python 2",
   "language": "python",
   "name": "python2"
  },
  "language_info": {
   "codemirror_mode": {
    "name": "ipython",
    "version": 2
   },
   "file_extension": ".py",
   "mimetype": "text/x-python",
   "name": "python",
   "nbconvert_exporter": "python",
   "pygments_lexer": "ipython2",
   "version": "2.7.13"
  },
  "toc": {
   "colors": {
    "hover_highlight": "#DAA520",
    "navigate_num": "#000000",
    "navigate_text": "#333333",
    "running_highlight": "#FF0000",
    "selected_highlight": "#FFD700",
    "sidebar_border": "#EEEEEE",
    "wrapper_background": "#FFFFFF"
   },
   "moveMenuLeft": true,
   "nav_menu": {
    "height": "12px",
    "width": "252px"
   },
   "navigate_menu": true,
   "number_sections": true,
   "sideBar": true,
   "threshold": 4,
   "toc_cell": false,
   "toc_section_display": "block",
   "toc_window_display": false,
   "widenNotebook": false
  }
 },
 "nbformat": 4,
 "nbformat_minor": 1
}
