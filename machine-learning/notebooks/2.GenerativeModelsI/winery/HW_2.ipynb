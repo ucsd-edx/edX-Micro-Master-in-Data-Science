{
 "cells": [
  {
   "cell_type": "markdown",
   "metadata": {},
   "source": [
    "<font face=\"Calibri\" size=\"18px\" ><strong> HW_2 </strong></font>"
   ]
  },
  {
   "cell_type": "markdown",
   "metadata": {},
   "source": [
    "<font size=\"4\" style=\"color:red;\"> **IMPORTANT: ** When submitting this homework notebook, please modify only the cells that start with:</font>\n",
    "\n",
    "```python\n",
    "# modify this cell\n",
    "```"
   ]
  },
  {
   "cell_type": "markdown",
   "metadata": {},
   "source": [
    "## Setup Notebook"
   ]
  },
  {
   "cell_type": "markdown",
   "metadata": {},
   "source": [
    "We import useful packages and load in the dataset"
   ]
  },
  {
   "cell_type": "code",
   "execution_count": 58,
   "metadata": {},
   "outputs": [
    {
     "name": "stdout",
     "output_type": "stream",
     "text": [
      "The object 'helper' has been imported into this notebook.\n"
     ]
    }
   ],
   "source": [
    "%matplotlib inline\n",
    "%run helper.ipynb\n",
    "import numpy as np\n",
    "import matplotlib.pyplot as plt\n",
    "from inspect import getsource\n",
    "from scipy.stats import norm, multivariate_normal # module for dealing with the Gaussians"
   ]
  },
  {
   "cell_type": "code",
   "execution_count": 59,
   "metadata": {
    "collapsed": true
   },
   "outputs": [],
   "source": [
    "# installing packages for interactive graphs\n",
    "import ipywidgets as widgets\n",
    "from IPython.display import display\n",
    "from ipywidgets import interact, interactive, fixed, interact_manual, IntSlider"
   ]
  },
  {
   "cell_type": "markdown",
   "metadata": {},
   "source": [
    "For this HW we will be examining the famouse Fischer's iris dataset. The dataset uses 4 features of a plant to categorize it into one of 3 species $[1,2,3]$ for our purposes."
   ]
  },
  {
   "cell_type": "markdown",
   "metadata": {},
   "source": [
    "We load in the iris test and training data.\n",
    "The dataset consists of 130 training points and 48 test points.\n",
    "There are 13 features and a label with one of the values, (0,1,2).\n",
    "\n",
    "* **x :** an `np.array` of the 120 training points' features.\n",
    "* **y :** an `np.array` of the 120 training labels.\n",
    "* **tx :** an `np.array` of the 30 test points' features.\n",
    "* **ty :** an `np.array` of the 30 test points' labels."
   ]
  },
  {
   "cell_type": "code",
   "execution_count": 60,
   "metadata": {},
   "outputs": [
    {
     "name": "stdout",
     "output_type": "stream",
     "text": [
      "x.shape : (120, 4)\n",
      "tx.shape : (30, 4)\n",
      "y.shape : (120,)\n",
      "ty.shape : (30,)\n",
      "\n",
      "Names of Features:\n",
      "['sepal length (cm)', 'sepal width (cm)', 'petal length (cm)', 'petal width (cm)']\n"
     ]
    }
   ],
   "source": [
    "x,y,tx,ty = helper.hw.x, helper.hw.y, helper.hw.tx, helper.hw.ty\n",
    "print \"x.shape :\",x.shape\n",
    "print \"tx.shape :\",tx.shape\n",
    "print \"y.shape :\",y.shape\n",
    "print \"ty.shape :\",ty.shape\n",
    "\n",
    "featurenames = helper.hw.featurenames\n",
    "print;print \"Names of Features:\"; print featurenames"
   ]
  },
  {
   "cell_type": "markdown",
   "metadata": {},
   "source": [
    "## Examining the Dataset"
   ]
  },
  {
   "cell_type": "markdown",
   "metadata": {},
   "source": [
    "**<font color=\"red\">Important Note: </font>**\n",
    "\n",
    "For each of the following exercise you are **not** expected to write the solutions from scratch. Please read through the functions in the <font color=\"blue\">helper.ipynb</font> notebook and choose the appropriate function for the problem.\n",
    "\n",
    "Below we show how the helper functions can be run on the hw's dataset. By plotting some a few graphs of the dataset. Explore these graphs to gain a better understanding of what is the iris dataset."
   ]
  },
  {
   "cell_type": "code",
   "execution_count": 63,
   "metadata": {},
   "outputs": [
    {
     "data": {
      "application/vnd.jupyter.widget-view+json": {
       "model_id": "a97658cb77054c39b88aa34fab5ec4b6"
      }
     },
     "metadata": {},
     "output_type": "display_data"
    },
    {
     "data": {
      "text/plain": [
       "<function __main__.twoFeaturesPlot>"
      ]
     },
     "execution_count": 63,
     "metadata": {},
     "output_type": "execute_result"
    }
   ],
   "source": [
    "interact_manual( helper.bi.twoFeaturesPlot,\n",
    "                f1=IntSlider(0,0,3,1), f2=IntSlider(2,0,3,1), label=IntSlider(1,0,2,1) )"
   ]
  },
  {
   "cell_type": "markdown",
   "metadata": {},
   "source": [
    "# Exercise 1"
   ]
  },
  {
   "cell_type": "markdown",
   "metadata": {},
   "source": [
    "Write a function, **feature_moments**, that returns the mean and variance of a given feature. The function's input is the feature integer, and the output should be the tuple, $($mean, variance$)$\n"
   ]
  },
  {
   "cell_type": "markdown",
   "metadata": {},
   "source": [
    "<font  style=\"color:blue\"> **Code:**</font>\n",
    "```python\n",
    "print feature_moments(0)\n",
    "print feature_moments(1)\n",
    "```\n",
    "\n",
    "\n",
    "<font  style=\"color:magenta\"> **Output**</font>\n",
    "```\n",
    "(5.895833333333333, 0.7207326388888889)\n",
    "(3.0541666666666667, 0.17748263888888888)\n",
    "```"
   ]
  },
  {
   "cell_type": "code",
   "execution_count": 21,
   "metadata": {
    "collapsed": true
   },
   "outputs": [],
   "source": [
    "# modify this cell\n",
    "\n",
    "def feature_moments(feature):\n",
    "    # inputs: an integer representing the feature number\n",
    "    # output: a tuple of floats, (mean, variance)\n",
    "    \n",
    "    ### BEGIN SOLUTION\n",
    "    mean, var = helper.bi.fit_gaussian(x,[feature])\n",
    "    return float(mean), float(var)\n",
    "    ### END SOLUTION"
   ]
  },
  {
   "cell_type": "code",
   "execution_count": 40,
   "metadata": {
    "collapsed": true
   },
   "outputs": [],
   "source": [
    "# Check Function\n",
    "\n",
    "assert( sum(abs(feature_moments(2) - np.array([3.83, 3.0901]) ))   < 10**-7 )\n",
    "\n",
    "### BEGIN HIDDEN TESTS\n",
    "assert( sum(abs(feature_moments(3) - np.array([1.2166666666666666,0.566388888888889]) ))   < 10**-7 )\n",
    "### END HIDDEN TESTS"
   ]
  },
  {
   "cell_type": "markdown",
   "metadata": {},
   "source": [
    "# Exercise 2"
   ]
  },
  {
   "cell_type": "markdown",
   "metadata": {},
   "source": [
    "Write a function, **test_one_feature**, that returns the number of incorrectly guessed test points when predictng the targets with only 1 feature. The function's input is the feature integer, and the output should be the tuple, $($mean, variance$)\n"
   ]
  },
  {
   "cell_type": "markdown",
   "metadata": {},
   "source": [
    "<font  style=\"color:blue\"> **Code:**</font>\n",
    "```python\n",
    "print feature_moments(0)\n",
    "print feature_moments(1)\n",
    "```\n",
    "\n",
    "\n",
    "<font  style=\"color:magenta\"> **Output**</font>\n",
    "```\n",
    "(5.895833333333333, 0.7207326388888889)\n",
    "(3.0541666666666667, 0.17748263888888888)\n",
    "```"
   ]
  },
  {
   "cell_type": "code",
   "execution_count": null,
   "metadata": {
    "collapsed": true
   },
   "outputs": [],
   "source": [
    "# modify this cell\n",
    "\n",
    "def test_one_feature(feature):\n",
    "    # inputs: an integer representing the feature number\n",
    "    # output: a tuple of floats, (mean, variance)\n",
    "    \n",
    "    ### BEGIN SOLUTION\n",
    "    mean, var = helper.bi.fit_gaussian(x,[feature])\n",
    "    return float(mean), float(var)\n",
    "    ### END SOLUTION"
   ]
  },
  {
   "cell_type": "code",
   "execution_count": null,
   "metadata": {
    "collapsed": true
   },
   "outputs": [],
   "source": [
    "# Check Function\n",
    "\n",
    "assert( sum(abs(feature_moments(2) - np.array([3.83, 3.0901]) ))   < 10**-7 )\n",
    "\n",
    "### BEGIN HIDDEN TESTS\n",
    "assert( sum(abs(feature_moments(3) - np.array([1.2166666666666666,0.566388888888889]) ))   < 10**-7 )\n",
    "### END HIDDEN TESTS"
   ]
  },
  {
   "cell_type": "markdown",
   "metadata": {},
   "source": [
    "# Exercise 3"
   ]
  },
  {
   "cell_type": "markdown",
   "metadata": {},
   "source": [
    "Write a function, **test_two_features**, that returns the number of incorrectly guessed test points when predictng the targets with only 1 feature.$"
   ]
  },
  {
   "cell_type": "markdown",
   "metadata": {},
   "source": [
    "<font  style=\"color:blue\"> **Code:**</font>\n",
    "```python\n",
    "print feature_moments(0)\n",
    "print feature_moments(1)\n",
    "```\n",
    "\n",
    "\n",
    "<font  style=\"color:magenta\"> **Output**</font>\n",
    "```\n",
    "(5.895833333333333, 0.7207326388888889)\n",
    "(3.0541666666666667, 0.17748263888888888)\n",
    "```"
   ]
  },
  {
   "cell_type": "code",
   "execution_count": null,
   "metadata": {
    "collapsed": true
   },
   "outputs": [],
   "source": [
    "# modify this cell\n",
    "\n",
    "def feature_moments(feature):\n",
    "    # inputs: an integer representing the feature number\n",
    "    # output: a tuple of floats, (mean, variance)\n",
    "    \n",
    "    ### BEGIN SOLUTION\n",
    "    mean, var = helper.bi.fit_gaussian(x,[feature])\n",
    "    return float(mean), float(var)\n",
    "    ### END SOLUTION"
   ]
  },
  {
   "cell_type": "code",
   "execution_count": null,
   "metadata": {
    "collapsed": true
   },
   "outputs": [],
   "source": [
    "# Check Function\n",
    "\n",
    "assert( sum(abs(feature_moments(2) - np.array([3.83, 3.0901]) ))   < 10**-7 )\n",
    "\n",
    "### BEGIN HIDDEN TESTS\n",
    "assert( sum(abs(feature_moments(3) - np.array([1.2166666666666666,0.566388888888889]) ))   < 10**-7 )\n",
    "### END HIDDEN TESTS"
   ]
  },
  {
   "cell_type": "code",
   "execution_count": 51,
   "metadata": {},
   "outputs": [
    {
     "ename": "TypeError",
     "evalue": "test_model() takes exactly 2 arguments (1 given)",
     "output_type": "error",
     "traceback": [
      "\u001b[0;31m---------------------------------------------------------------------------\u001b[0m",
      "\u001b[0;31mTypeError\u001b[0m                                 Traceback (most recent call last)",
      "\u001b[0;32m<ipython-input-51-9356ab3958f2>\u001b[0m in \u001b[0;36m<module>\u001b[0;34m()\u001b[0m\n\u001b[0;32m----> 1\u001b[0;31m \u001b[0mhelper\u001b[0m\u001b[0;34m.\u001b[0m\u001b[0mbi\u001b[0m\u001b[0;34m.\u001b[0m\u001b[0mtest_model\u001b[0m\u001b[0;34m(\u001b[0m\u001b[0;34m[\u001b[0m\u001b[0;36m0\u001b[0m\u001b[0;34m,\u001b[0m\u001b[0;36m2\u001b[0m\u001b[0;34m]\u001b[0m\u001b[0;34m)\u001b[0m\u001b[0;34m\u001b[0m\u001b[0m\n\u001b[0m",
      "\u001b[0;31mTypeError\u001b[0m: test_model() takes exactly 2 arguments (1 given)"
     ]
    }
   ],
   "source": [
    "helper.bi.test_model([0,2])"
   ]
  },
  {
   "cell_type": "code",
   "execution_count": 55,
   "metadata": {},
   "outputs": [
    {
     "data": {
      "text/plain": [
       "(array([ 0.        ,  1.32093023,  2.04615385,         nan]),\n",
       " array([ 0.        ,  0.03839913,  0.07325444,         nan]),\n",
       " array([ 0.        ,  0.35833333,  0.325     ,  0.        ]))"
      ]
     },
     "execution_count": 55,
     "metadata": {},
     "output_type": "execute_result"
    }
   ],
   "source": [
    "helper.uni.fit_generative_model( 3)"
   ]
  },
  {
   "cell_type": "code",
   "execution_count": null,
   "metadata": {
    "collapsed": true
   },
   "outputs": [],
   "source": [
    "\n",
    "\n",
    "\n",
    "\n",
    "\n",
    "\n",
    "\n",
    "\n",
    "\n",
    "\n"
   ]
  }
 ],
 "metadata": {
  "kernelspec": {
   "display_name": "Python 2",
   "language": "python",
   "name": "python2"
  },
  "language_info": {
   "codemirror_mode": {
    "name": "ipython",
    "version": 2
   },
   "file_extension": ".py",
   "mimetype": "text/x-python",
   "name": "python",
   "nbconvert_exporter": "python",
   "pygments_lexer": "ipython2",
   "version": "2.7.13"
  },
  "toc": {
   "colors": {
    "hover_highlight": "#DAA520",
    "navigate_num": "#000000",
    "navigate_text": "#333333",
    "running_highlight": "#FF0000",
    "selected_highlight": "#FFD700",
    "sidebar_border": "#EEEEEE",
    "wrapper_background": "#FFFFFF"
   },
   "moveMenuLeft": true,
   "nav_menu": {
    "height": "12px",
    "width": "252px"
   },
   "navigate_menu": true,
   "number_sections": true,
   "sideBar": true,
   "threshold": 4,
   "toc_cell": false,
   "toc_section_display": "block",
   "toc_window_display": false,
   "widenNotebook": false
  }
 },
 "nbformat": 4,
 "nbformat_minor": 1
}
