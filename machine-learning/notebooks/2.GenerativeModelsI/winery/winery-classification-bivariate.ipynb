{
 "cells": [
  {
   "cell_type": "markdown",
   "metadata": {},
   "source": [
    "## Load in the data set"
   ]
  },
  {
   "cell_type": "markdown",
   "metadata": {},
   "source": [
    "We import useful packages"
   ]
  },
  {
   "cell_type": "code",
   "execution_count": 1,
   "metadata": {},
   "outputs": [
    {
     "name": "stdout",
     "output_type": "stream",
     "text": [
      "The object 'helper' has been imported into this notebook.\n"
     ]
    }
   ],
   "source": [
    "# Standard includes\n",
    "%matplotlib inline\n",
    "%run helper.ipynb\n",
    "import numpy as np\n",
    "import matplotlib.pyplot as plt\n",
    "from inspect import getsource\n",
    "from scipy.stats import norm, multivariate_normal # module for dealing with the Gaussians"
   ]
  },
  {
   "cell_type": "code",
   "execution_count": 2,
   "metadata": {
    "collapsed": true
   },
   "outputs": [],
   "source": [
    "# installing packages for interactive graphs\n",
    "import ipywidgets as widgets\n",
    "from IPython.display import display\n",
    "from ipywidgets import interact, interactive, fixed, interact_manual, IntSlider"
   ]
  },
  {
   "cell_type": "markdown",
   "metadata": {},
   "source": [
    "We load in the wine test and training datasets.\n",
    "The dataset consists of 130 training points and 48 test points.\n",
    "There are 13 features and a label with one of the values, (1,2,3).\n",
    "\n",
    "* **x :** an `np.array` of the 130 training points' features.\n",
    "* **y :** an `np.array` of the 130 training labels.\n",
    "* **tx :** an `np.array` of the 48 test points' features.\n",
    "* **ty :** an `np.array` of the 48 test points' labels."
   ]
  },
  {
   "cell_type": "code",
   "execution_count": 3,
   "metadata": {},
   "outputs": [
    {
     "name": "stdout",
     "output_type": "stream",
     "text": [
      "x.shape : (130, 13)\n",
      "tx.shape : (48, 13)\n",
      "y.shape : (130,)\n",
      "ty.shape : (48,)\n",
      "\n",
      "Names of Features:\n",
      "['Alcohol', 'Malic acid', 'Ash', 'Alcalinity of ash', 'Magnesium', 'Total phenols', 'Flavanoids', 'Nonflavanoid phenols', 'Proanthocyanins', 'Color intensity', 'Hue', 'OD280/OD315 of diluted wines', 'Proline']\n"
     ]
    }
   ],
   "source": [
    "x,y,tx,ty = helper.x, helper.y, helper.tx, helper.ty\n",
    "print \"x.shape :\",x.shape\n",
    "print \"tx.shape :\",tx.shape\n",
    "print \"y.shape :\",y.shape\n",
    "print \"ty.shape :\",ty.shape\n",
    "\n",
    "featurenames = helper.featurenames\n",
    "print;print \"Names of Features:\"; print featurenames"
   ]
  },
  {
   "cell_type": "markdown",
   "metadata": {},
   "source": [
    "## Look at the distribution of two features from one of the wineries"
   ]
  },
  {
   "cell_type": "markdown",
   "metadata": {},
   "source": [
    "We will be making use of the function helper.bi.fit_gaussian. The function's code is given below."
   ]
  },
  {
   "cell_type": "code",
   "execution_count": 4,
   "metadata": {},
   "outputs": [
    {
     "name": "stdout",
     "output_type": "stream",
     "text": [
      "def fit_gaussian(x, features):\n",
      "    mu = np.mean(x[:,features], axis=0)\n",
      "    covar = np.cov(x[:,features], rowvar=0, bias=1)\n",
      "    return mu, covar\n",
      "\n"
     ]
    }
   ],
   "source": [
    "print getsource( helper.bi.fit_gaussian )"
   ]
  },
  {
   "cell_type": "markdown",
   "metadata": {},
   "source": [
    "This time we'll use two features: 'Alcohol' (feature #0) and 'Flavanoids' (feature #6). \n",
    "\n",
    "Fit a Gaussian to label 1, using just these two features. Show the parameters of the Gaussian."
   ]
  },
  {
   "cell_type": "code",
   "execution_count": 5,
   "metadata": {},
   "outputs": [
    {
     "name": "stdout",
     "output_type": "stream",
     "text": [
      "Mean:\n",
      "[ 13.72023256   2.96348837]\n",
      "Covariance matrix:\n",
      "[[ 0.20046739  0.05571779]\n",
      " [ 0.05571779  0.12084132]]\n"
     ]
    }
   ],
   "source": [
    "f1 = 0\n",
    "f2 = 6\n",
    "features = [f1, f2]\n",
    "label = 1\n",
    "mu, covar = helper.bi.fit_gaussian(x[y==label,:], features)\n",
    "print \"Mean:\\n\" + str(mu)\n",
    "print \"Covariance matrix:\\n\" + str(covar)"
   ]
  },
  {
   "cell_type": "markdown",
   "metadata": {},
   "source": [
    "Now display the training points for label 1, restricted to the two selected features.\n",
    "Also show a few contour lines of the Gaussian fit."
   ]
  },
  {
   "cell_type": "code",
   "execution_count": 6,
   "metadata": {},
   "outputs": [
    {
     "data": {
      "application/vnd.jupyter.widget-view+json": {
       "model_id": "26df681dce4e437ea2cdde7c998937dc"
      }
     },
     "metadata": {},
     "output_type": "display_data"
    },
    {
     "data": {
      "text/plain": [
       "<function __main__.twoFeaturesPlot>"
      ]
     },
     "execution_count": 6,
     "metadata": {},
     "output_type": "execute_result"
    }
   ],
   "source": [
    "interact_manual( helper.bi.twoFeaturesPlot,\n",
    "                f1=IntSlider(0,0,12,1), f2=IntSlider(6,0,12,1), label=IntSlider(1,1,3,1),\n",
    "                )"
   ]
  },
  {
   "cell_type": "markdown",
   "metadata": {},
   "source": [
    "### <font color=\"magenta\">*Fast Exercise*</font>"
   ]
  },
  {
   "cell_type": "markdown",
   "metadata": {},
   "source": [
    "Try changing the features and labels in the graph to see how the graph changes. Can you guess what the graph would look like if f1 and f2 were the same feature? Do you think it would look <font color=\"blue\">\"random\"</font>, <font color=\"blue\">\"linear\"</font>, or a <font color=\"blue\">\"single_dot\"</font>?"
   ]
  },
  {
   "cell_type": "markdown",
   "metadata": {},
   "source": [
    "Write a function, **sameFeatureGraph**, that returns the type of graph you believe you would see from plotting the same feature on the x and y axis."
   ]
  },
  {
   "cell_type": "code",
   "execution_count": 7,
   "metadata": {
    "collapsed": true
   },
   "outputs": [],
   "source": [
    "# modify this cell\n",
    "\n",
    "def sameFeatureGraph():\n",
    "    # inputs: no inputs\n",
    "    # output: return either \"random\", \"linear\", or \"single_dot\"\n",
    "    \n",
    "    ### BEGIN SOLUTION\n",
    "    return \"linear\"\n",
    "    ### END SOLUTION"
   ]
  },
  {
   "cell_type": "code",
   "execution_count": 8,
   "metadata": {
    "collapsed": true
   },
   "outputs": [],
   "source": [
    "assert sameFeatureGraph() == \"linear\""
   ]
  },
  {
   "cell_type": "markdown",
   "metadata": {},
   "source": [
    "## Fit a Gaussian to each class"
   ]
  },
  {
   "cell_type": "markdown",
   "metadata": {},
   "source": [
    "We define a function that fits a Gaussian generative model to the three classes. The code for the function is below."
   ]
  },
  {
   "cell_type": "code",
   "execution_count": 7,
   "metadata": {},
   "outputs": [
    {
     "name": "stdout",
     "output_type": "stream",
     "text": [
      "def fit_generative_model(x, y, features):\n",
      "    k = len(np.unique(y)) # number of classes in y\n",
      "    d = len(features) # number of features\n",
      "    mu = np.zeros((k+1,d)) # list of means\n",
      "    covar = np.zeros((k+1,d,d)) # list of covariance matrices\n",
      "    pi = np.zeros(k+1) # list of class weights\n",
      "    for label in range(1,k+1):\n",
      "        indices = (y==label)\n",
      "        mu[label,:], covar[label,:,:] = helper.bi.fit_gaussian(x[indices,:], features)\n",
      "        pi[label] = float(sum(indices))/float(len(y))\n",
      "    return mu, covar, pi\n",
      "\n"
     ]
    }
   ],
   "source": [
    "print getsource( helper.bi.fit_generative_model )"
   ]
  },
  {
   "cell_type": "markdown",
   "metadata": {},
   "source": [
    "Call this function on the features 'alcohol' and 'flavanoids'."
   ]
  },
  {
   "cell_type": "code",
   "execution_count": 8,
   "metadata": {
    "collapsed": true
   },
   "outputs": [],
   "source": [
    "f1 = 0 # alcohol\n",
    "f2 = 6 # flavanoids\n",
    "features = [f1,f2] \n",
    "mu, covar, pi = helper.bi.fit_generative_model(x, y, features)"
   ]
  },
  {
   "cell_type": "markdown",
   "metadata": {},
   "source": [
    "Let's look at the means of the three classes"
   ]
  },
  {
   "cell_type": "code",
   "execution_count": 9,
   "metadata": {},
   "outputs": [
    {
     "data": {
      "text/plain": [
       "array([[  0.        ,   0.        ],\n",
       "       [ 13.72023256,   2.96348837],\n",
       "       [ 12.29215686,   2.05254902],\n",
       "       [ 13.15777778,   0.79972222]])"
      ]
     },
     "execution_count": 9,
     "metadata": {},
     "output_type": "execute_result"
    }
   ],
   "source": [
    "mu"
   ]
  },
  {
   "cell_type": "markdown",
   "metadata": {},
   "source": [
    "Next, display the Gaussian distribution for each of the three classes."
   ]
  },
  {
   "cell_type": "code",
   "execution_count": 10,
   "metadata": {},
   "outputs": [
    {
     "data": {
      "application/vnd.jupyter.widget-view+json": {
       "model_id": "d0ea0b3fb3ff410ca9cb9a4a8ae97018"
      }
     },
     "metadata": {},
     "output_type": "display_data"
    },
    {
     "data": {
      "text/plain": [
       "<function __main__.threeGaussiansPlot>"
      ]
     },
     "execution_count": 10,
     "metadata": {},
     "output_type": "execute_result"
    }
   ],
   "source": [
    "interact_manual( helper.bi.threeGaussiansPlot, f1=IntSlider(0,0,12,1), f2=IntSlider(6,0,12,1) )"
   ]
  },
  {
   "cell_type": "markdown",
   "metadata": {},
   "source": [
    "### <font color=\"magenta\">*Fast Exercise*</font>"
   ]
  },
  {
   "cell_type": "markdown",
   "metadata": {},
   "source": [
    "Try running the gaussian plots for different features."
   ]
  },
  {
   "cell_type": "markdown",
   "metadata": {},
   "source": [
    "## Prediction time"
   ]
  },
  {
   "cell_type": "markdown",
   "metadata": {},
   "source": [
    "How well we can predict the class (1,2,3) based just on these two features?\n",
    "\n",
    "We start with a testing procedure that is analogous to what we developed in the 1-d case."
   ]
  },
  {
   "cell_type": "code",
   "execution_count": 11,
   "metadata": {},
   "outputs": [
    {
     "data": {
      "application/vnd.jupyter.widget-view+json": {
       "model_id": "c54274e70eb54ff2b3f69403553b4f24"
      }
     },
     "metadata": {},
     "output_type": "display_data"
    },
    {
     "data": {
      "text/plain": [
       "<function __main__.test_model>"
      ]
     },
     "execution_count": 11,
     "metadata": {},
     "output_type": "execute_result"
    }
   ],
   "source": [
    "# Now test the performance of a predictor based on a subset of features\n",
    "interact( helper.bi.test_model, f1=IntSlider(0,0,12,1), f2=IntSlider(6,0,12,1) )"
   ]
  },
  {
   "cell_type": "markdown",
   "metadata": {},
   "source": [
    "### <font color=\"magenta\">*Fast Exercise*</font>"
   ]
  },
  {
   "cell_type": "markdown",
   "metadata": {},
   "source": [
    "Look at other pairs of features, and see what kinds of test errors result. Which feature, whe combined with <font color=\"blue\">\"Magnesuim\"</font>, produces the smallest `Test error` ?"
   ]
  },
  {
   "cell_type": "markdown",
   "metadata": {},
   "source": [
    "Write a function, **MagnesiumAndWhat**, that returns the name of the feature to the question above."
   ]
  },
  {
   "cell_type": "code",
   "execution_count": 14,
   "metadata": {
    "collapsed": true
   },
   "outputs": [],
   "source": [
    "# modify this cell\n",
    "\n",
    "def MagnesiumAndWhat():\n",
    "    # inputs: no inputs\n",
    "    # output: return a feature name, like: 'Alcohol', 'Flavanoids', or 'Color intensity'\n",
    "    \n",
    "    ### BEGIN SOLUTION\n",
    "    return \"Flavanoids\"\n",
    "    ### END SOLUTION"
   ]
  },
  {
   "cell_type": "code",
   "execution_count": 15,
   "metadata": {
    "collapsed": true
   },
   "outputs": [],
   "source": [
    "assert MagnesiumAndWhat() == 'Flavanoids'"
   ]
  },
  {
   "cell_type": "markdown",
   "metadata": {
    "collapsed": true
   },
   "source": [
    "## The decision boundary "
   ]
  },
  {
   "cell_type": "markdown",
   "metadata": {},
   "source": [
    "We now plot the decision boundary between the three classes, as found above. It takes a few minutes to do all its calculations.\n",
    "\n",
    "This code is done for f1=0 [Alcohol] and f2=6 [Flavanoids]"
   ]
  },
  {
   "cell_type": "code",
   "execution_count": 16,
   "metadata": {},
   "outputs": [
    {
     "data": {
      "image/png": "[encoded data removed]",
      "text/plain": [
       "<matplotlib.figure.Figure at 0x7f4291efbd90>"
      ]
     },
     "metadata": {},
     "output_type": "display_data"
    }
   ],
   "source": [
    "helper.bi.plot_boundary(0,6)"
   ]
  },
  {
   "cell_type": "code",
   "execution_count": null,
   "metadata": {
    "collapsed": true
   },
   "outputs": [],
   "source": [
    "\n",
    "\n",
    "\n",
    "\n",
    "\n",
    "\n",
    "\n",
    "\n",
    "\n",
    "\n",
    "\n"
   ]
  }
 ],
 "metadata": {
  "kernelspec": {
   "display_name": "Python 2",
   "language": "python",
   "name": "python2"
  },
  "language_info": {
   "codemirror_mode": {
    "name": "ipython",
    "version": 2
   },
   "file_extension": ".py",
   "mimetype": "text/x-python",
   "name": "python",
   "nbconvert_exporter": "python",
   "pygments_lexer": "ipython2",
   "version": "2.7.13"
  },
  "toc": {
   "colors": {
    "hover_highlight": "#DAA520",
    "navigate_num": "#000000",
    "navigate_text": "#333333",
    "running_highlight": "#FF0000",
    "selected_highlight": "#FFD700",
    "sidebar_border": "#EEEEEE",
    "wrapper_background": "#FFFFFF"
   },
   "moveMenuLeft": true,
   "nav_menu": {
    "height": "12px",
    "width": "252px"
   },
   "navigate_menu": true,
   "number_sections": true,
   "sideBar": true,
   "threshold": 4,
   "toc_cell": false,
   "toc_section_display": "block",
   "toc_window_display": false,
   "widenNotebook": false
  }
 },
 "nbformat": 4,
 "nbformat_minor": 1
}
