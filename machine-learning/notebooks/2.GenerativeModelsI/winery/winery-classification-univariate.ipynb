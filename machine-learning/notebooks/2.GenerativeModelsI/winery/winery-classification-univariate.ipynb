{
 "cells": [
  {
   "cell_type": "markdown",
   "metadata": {},
   "source": [
    "## Load in the data set"
   ]
  },
  {
   "cell_type": "markdown",
   "metadata": {},
   "source": [
    "Start by loading in the Wine data set.\n",
    "There are 178 data points, each with 13 features and a label (1,2,3).\n",
    "We will divide these into a training set of 130 points and a test set of 48 points."
   ]
  },
  {
   "cell_type": "code",
   "execution_count": 1,
   "metadata": {
    "collapsed": true
   },
   "outputs": [],
   "source": [
    "# Standard includes\n",
    "%matplotlib inline\n",
    "import numpy as np\n",
    "import matplotlib.pyplot as plt\n",
    "# Useful module for dealing with the Gaussian density\n",
    "from scipy.stats import norm, multivariate_normal \n",
    "# Now load \"wine.data.txt\" data set.\n",
    "# This needs to be in the same directory\n",
    "# 178 lines, each with one point. First value is the label (1,2,3), remaining 13 numbers are features\n",
    "data = np.loadtxt('wine.data.txt', delimiter=',')\n",
    "# Names of features\n",
    "featurenames = ['Alcohol', 'Malic acid', 'Ash', 'Alcalinity of ash','Magnesium', 'Total phenols', \n",
    "                'Flavanoids', 'Nonflavanoid phenols', 'Proanthocyanins', 'Color intensity', 'Hue', \n",
    "                'OD280/OD315 of diluted wines', 'Proline']"
   ]
  },
  {
   "cell_type": "code",
   "execution_count": 2,
   "metadata": {
    "collapsed": true
   },
   "outputs": [],
   "source": [
    "# installing packages for interactive graphs\n",
    "import ipywidgets as widgets\n",
    "from IPython.display import display\n",
    "from ipywidgets import interact, interactive, fixed, interact_manual, IntSlider"
   ]
  },
  {
   "cell_type": "markdown",
   "metadata": {},
   "source": [
    "Fix a particular \"random\" permutation of the data, and use these to effect the training / test split"
   ]
  },
  {
   "cell_type": "code",
   "execution_count": 3,
   "metadata": {
    "collapsed": true
   },
   "outputs": [],
   "source": [
    "perm = np.array([  4,  93, 103, 152,  77,  81,  14,  58, 139,  53,  40, 167,  20,\n",
    "        80, 130,  16, 110, 158,  42, 135,   8,  69, 153,  94,  91,  51,\n",
    "       117, 146,  72, 142, 137,  88, 165, 106,  33,  67, 133, 113, 171,\n",
    "       129, 141,  21,  12,  44,   3, 164, 169,  41,   6, 177,  17, 174,\n",
    "       104, 176, 168,  26, 173, 122, 159, 111, 163,  50,  15,  37, 114,\n",
    "         2, 109,  68,  39,  96,  36, 149, 151, 124, 156, 108, 107,  30,\n",
    "        43,  28,  54,  59, 154,  78,  92, 157, 140,  73,  34,  49, 160,\n",
    "       118, 125, 126, 127, 145, 144,   9,  24,  90,  84,  55,  19, 148,\n",
    "        25,  61, 123,   0,  38,  97,  32,  85,  29,  45, 128,  75,  66,\n",
    "        86,  47, 102, 175,  63,  82,  83, 115, 136,  98,  46,  62, 150,\n",
    "       162, 134, 138,  76,  87, 170, 105,  65,  89,  71, 112,  56,  74,\n",
    "       132, 100,  27,  64, 166,  22, 155,  57, 119,  99,   7,  23,  13,\n",
    "       121, 101, 116, 172,  95, 131,  10,  35,  11,  60, 161,   1,  18,\n",
    "       147, 143,  31,  79,  48,   5, 120,  52,  70])\n",
    "# Split 178 instances into training set (x, y) of size 130 and test set (tx, ty) of size 48\n",
    "# Also split apart data and labels\n",
    "# perm = np.random.permutation(178)\n",
    "x = data[perm[0:130],1:14]\n",
    "y = data[perm[0:130],0]\n",
    "tx = data[perm[130:178], 1:14]\n",
    "ty = data[perm[130:178],0]"
   ]
  },
  {
   "cell_type": "markdown",
   "metadata": {},
   "source": [
    "Let's see how many training points there are from each class."
   ]
  },
  {
   "cell_type": "code",
   "execution_count": 4,
   "metadata": {},
   "outputs": [
    {
     "data": {
      "text/plain": [
       "(43, 51, 36)"
      ]
     },
     "execution_count": 4,
     "metadata": {},
     "output_type": "execute_result"
    }
   ],
   "source": [
    "sum(y==1), sum(y==2), sum(y==3)"
   ]
  },
  {
   "cell_type": "markdown",
   "metadata": {},
   "source": [
    "### <font color=\"magenta\">*Fast Exercise*</font>"
   ]
  },
  {
   "cell_type": "markdown",
   "metadata": {},
   "source": [
    "Can you see how many test points there are from each class?\n",
    "\n",
    "Write a function, **sumTestClasses**, that, like above, returns a tuple $(\\text{sum}_1,\\, \\text{sum}_2,\\, \\text{sum}_3)$ but this time for the test points."
   ]
  },
  {
   "cell_type": "code",
   "execution_count": 5,
   "metadata": {
    "collapsed": true
   },
   "outputs": [],
   "source": [
    "# modify this cell\n",
    "\n",
    "def sumTestClasses():\n",
    "    # inputs: no inputs, but you should call a variable from x, y, tx, ty\n",
    "    # output: ( sum_1, sum_2, sum_3)\n",
    "    \n",
    "    ### BEGIN SOLUTION\n",
    "    return sum(ty==1), sum(ty==2), sum(ty==3)\n",
    "    ### END SOLUTION"
   ]
  },
  {
   "cell_type": "code",
   "execution_count": 6,
   "metadata": {
    "collapsed": true
   },
   "outputs": [],
   "source": [
    "# Check Function\n",
    "assert sumTestClasses() == (16, 20, 12)"
   ]
  },
  {
   "cell_type": "markdown",
   "metadata": {},
   "source": [
    "## Look at the distribution of a single feature from one of the wineries"
   ]
  },
  {
   "cell_type": "markdown",
   "metadata": {},
   "source": [
    "Now we'll pick just one feature: 'Alcohol'. This is the first feature, that is, number 0.\n",
    "\n",
    "We will display a histogram of this feature's values under class 1. We will also show the Gaussian fit to this distribution."
   ]
  },
  {
   "cell_type": "code",
   "execution_count": 7,
   "metadata": {},
   "outputs": [
    {
     "data": {
      "application/vnd.jupyter.widget-view+json": {
       "model_id": "dc44345418354d06a1a5d33f9d88bd58"
      }
     },
     "metadata": {},
     "output_type": "display_data"
    }
   ],
   "source": [
    "@interact_manual( feature=IntSlider(0,0,12), label=IntSlider(1,1,3))\n",
    "def densityPlot(feature, label):\n",
    "    plt.hist(x[y==label,feature], normed=True)\n",
    "    #\n",
    "    mu = np.mean(x[y==label,feature]) # mean\n",
    "    var = np.var(x[y==label,feature]) # variance\n",
    "    std = np.sqrt(var) # standard deviation\n",
    "    #\n",
    "    x_axis = np.linspace(mu - 3*std, mu + 3*std, 1000)\n",
    "    plt.plot(x_axis, norm.pdf(x_axis,mu,std), 'r', lw=2)\n",
    "    plt.title(\"Winery \"+str(label) )\n",
    "    plt.xlabel(featurenames[feature], fontsize=14, color='red')\n",
    "    plt.ylabel('Density', fontsize=14, color='red')\n",
    "    plt.show()"
   ]
  },
  {
   "cell_type": "markdown",
   "metadata": {},
   "source": [
    "### <font color=\"magenta\">*Fast Exercise*</font>"
   ]
  },
  {
   "cell_type": "markdown",
   "metadata": {},
   "source": [
    "The above cell shows the histogram and Gaussian fit to feature #0 for winery 1. Try looking at the plot for different features and different wineries.\n",
    "\n",
    "The code for plotting the Gaussian density focuses on the region within 3 standard deviations of the mean. Do you see where this happens? Why did we make this choice?"
   ]
  },
  {
   "cell_type": "markdown",
   "metadata": {},
   "source": [
    "Write a function, **hueForTwo**, which returns the tuple, $(\\text{mean}\\,,\\text{var}\\,,\\text{s.d.})$ of feature #11 (*hue*) for winery 2."
   ]
  },
  {
   "cell_type": "code",
   "execution_count": 8,
   "metadata": {
    "collapsed": true
   },
   "outputs": [],
   "source": [
    "# modify this cell\n",
    "\n",
    "def hueForTwo():\n",
    "    # inputs: no inputs, but you should call variables from x, y, tx, ty\n",
    "    # output: ( mean, var, sd)\n",
    "    \n",
    "    ### BEGIN SOLUTION\n",
    "    feature = 11\n",
    "    label = 2\n",
    "    mu = np.mean(x[y==label,feature]) # mean\n",
    "    var = np.var(x[y==label,feature]) # variance\n",
    "    std = np.sqrt(var) # standard deviation\n",
    "    return mu, var, std\n",
    "    ### END SOLUTION"
   ]
  },
  {
   "cell_type": "code",
   "execution_count": 9,
   "metadata": {
    "collapsed": true
   },
   "outputs": [],
   "source": [
    "# Check Function\n",
    "assert sum(abs( hueForTwo() - np.array([2.76411764705, 0.2300477508650, 0.4796329334658]) )) < 10**-5"
   ]
  },
  {
   "cell_type": "markdown",
   "metadata": {},
   "source": [
    "In the cell below, play around with these to see the kinds of distributions you obtain."
   ]
  },
  {
   "cell_type": "markdown",
   "metadata": {},
   "source": [
    "## Fit a Gaussian to each class"
   ]
  },
  {
   "cell_type": "markdown",
   "metadata": {},
   "source": [
    "Let's define a function that will fit a Gaussian generative model to the three classes, restricted to just a single feature."
   ]
  },
  {
   "cell_type": "code",
   "execution_count": 10,
   "metadata": {
    "collapsed": true
   },
   "outputs": [],
   "source": [
    "# Assumes y takes on values 1,2,3\n",
    "def fit_generative_model(x,y, feature):\n",
    "    k = 3 # number of classes\n",
    "    mu = np.zeros(k+1) # list of means\n",
    "    var = np.zeros(k+1) # list of variances\n",
    "    pi = np.zeros(k+1) # list of class weights\n",
    "    for label in range(1,k+1):\n",
    "        indices = (y==label)\n",
    "        mu[label] = np.mean(x[indices,feature])\n",
    "        var[label] = np.var(x[indices,feature])\n",
    "        pi[label] = float(sum(indices))/float(len(y))\n",
    "    return mu, var, pi"
   ]
  },
  {
   "cell_type": "markdown",
   "metadata": {},
   "source": [
    "Call this function on the feature 'alcohol'. Print the class weights as a sanity check."
   ]
  },
  {
   "cell_type": "code",
   "execution_count": 11,
   "metadata": {},
   "outputs": [
    {
     "data": {
      "text/plain": [
       "(0.33076923076923076, 0.3923076923076923, 0.27692307692307694)"
      ]
     },
     "execution_count": 11,
     "metadata": {},
     "output_type": "execute_result"
    }
   ],
   "source": [
    "feature = 0 # 'alcohol'\n",
    "mu, var, pi = fit_generative_model(x, y, feature)\n",
    "pi[1], pi[2], pi[3]"
   ]
  },
  {
   "cell_type": "markdown",
   "metadata": {},
   "source": [
    "Next, display the Gaussian distribution for each of the three classes"
   ]
  },
  {
   "cell_type": "code",
   "execution_count": 12,
   "metadata": {},
   "outputs": [
    {
     "data": {
      "application/vnd.jupyter.widget-view+json": {
       "model_id": "2e680854b81744e3a875afc60d967fae"
      }
     },
     "metadata": {},
     "output_type": "display_data"
    }
   ],
   "source": [
    "@interact_manual( feature=IntSlider(0,0,12) )\n",
    "def gaussians(feature):\n",
    "    mu, var, pi = fit_generative_model(x, y, feature)\n",
    "    pi[1], pi[2], pi[3]\n",
    "\n",
    "    colors = ['r', 'k', 'g']\n",
    "    for label in range(1,4):\n",
    "        m = mu[label]\n",
    "        s = np.sqrt(var[label])\n",
    "        x_axis = np.linspace(m - 3*s, m+3*s, 1000)\n",
    "        plt.plot(x_axis, norm.pdf(x_axis,m,s), colors[label-1], label=\"class \" + str(label))\n",
    "    plt.xlabel(featurenames[feature], fontsize=14, color='red')\n",
    "    plt.ylabel('Density', fontsize=14, color='red')\n",
    "    plt.legend()\n",
    "    plt.show()"
   ]
  },
  {
   "cell_type": "markdown",
   "metadata": {},
   "source": [
    "### <font color=\"magenta\">*Fast Exercise*</font>"
   ]
  },
  {
   "cell_type": "markdown",
   "metadata": {},
   "source": [
    "Use the widget below to check out the class distributions for different features."
   ]
  },
  {
   "cell_type": "markdown",
   "metadata": {},
   "source": [
    "Write a function, **mostIntense**, which returns the number of the class that has the highest (*mean*) color intensity."
   ]
  },
  {
   "cell_type": "code",
   "execution_count": 13,
   "metadata": {
    "collapsed": true
   },
   "outputs": [],
   "source": [
    "# modify this cell\n",
    "\n",
    "def mostIntense():\n",
    "    # inputs: no inputs, use the interactive graphic above to figure out the answer\n",
    "    # output: an integer, either 1, 2, or 3\n",
    "    \n",
    "    ### BEGIN SOLUTION\n",
    "    return 3\n",
    "    ### END SOLUTION"
   ]
  },
  {
   "cell_type": "code",
   "execution_count": 14,
   "metadata": {
    "collapsed": true
   },
   "outputs": [],
   "source": [
    "# Check Function\n",
    "assert mostIntense() == 3"
   ]
  },
  {
   "cell_type": "markdown",
   "metadata": {},
   "source": [
    "## Prediction time"
   ]
  },
  {
   "cell_type": "markdown",
   "metadata": {},
   "source": [
    "How well do you think, we can predict the class (1,2,3) based just on one feature? The code below lets us find this out.\n",
    "\n",
    "Later we will look at larger sets of features as well, so we define a general-purpose routine that returns the test error using *any* subset of features."
   ]
  },
  {
   "cell_type": "markdown",
   "metadata": {},
   "source": [
    "Okay, so let's determine the test error using just the 'Alcohol' feature."
   ]
  },
  {
   "cell_type": "code",
   "execution_count": 15,
   "metadata": {},
   "outputs": [
    {
     "data": {
      "application/vnd.jupyter.widget-view+json": {
       "model_id": "68c546e1aa0f4788b0c35367cd95bf83"
      }
     },
     "metadata": {},
     "output_type": "display_data"
    }
   ],
   "source": [
    "@interact( feature=IntSlider(0,0,12) )\n",
    "def test_model(feature):\n",
    "    mu, var, pi = fit_generative_model(x, y, feature)\n",
    "\n",
    "    k = 3 # Labels 1,2,...,k\n",
    "    nt = len(ty) # Number of test points\n",
    "    score = np.zeros((nt,k+1))\n",
    "    for i in range(0,nt):\n",
    "        for label in range(1,k+1):\n",
    "            score[i,label] = np.log(pi[label]) + \\\n",
    "            norm.logpdf(tx[i,feature], mu[label], np.sqrt(var[label]))\n",
    "    predictions = np.argmax(score[:,1:4], axis=1) + 1\n",
    "    # Finally, tally up score\n",
    "    errors = np.sum(predictions != ty)\n",
    "    print \"Test error using feature \" + featurenames[feature] + \": \" + str(errors) + \"/\" + str(nt)"
   ]
  },
  {
   "cell_type": "markdown",
   "metadata": {},
   "source": [
    "### <font color=\"magenta\">*Fast Exercise*</font>"
   ]
  },
  {
   "cell_type": "markdown",
   "metadata": {},
   "source": [
    "Try checking out the test error for different features. "
   ]
  },
  {
   "cell_type": "markdown",
   "metadata": {
    "collapsed": true
   },
   "source": [
    "Write a function, **featureFacts**, that returns $(\\text{magnesuim_test_error}\\,,\\,\\text{best_feature}\\, ,\\,\\text{worst_feature})$"
   ]
  },
  {
   "cell_type": "code",
   "execution_count": 16,
   "metadata": {
    "collapsed": true
   },
   "outputs": [],
   "source": [
    "# modify this cell\n",
    "\n",
    "def featureFacts():\n",
    "    # inputs: no inputs, use the interactive graphic above to figure out the answer\n",
    "    # output: (float, int, int) as described above\n",
    "    \n",
    "    ### BEGIN SOLUTION\n",
    "    return (0.5208333333, 2 , 6)\n",
    "    ### END SOLUTION"
   ]
  },
  {
   "cell_type": "code",
   "execution_count": 17,
   "metadata": {
    "collapsed": true
   },
   "outputs": [],
   "source": [
    "# Check Function\n",
    "assert sum(abs(featureFacts() - np.array([0.5208333333, 2 , 6]) )) < 10**-5"
   ]
  },
  {
   "cell_type": "code",
   "execution_count": null,
   "metadata": {
    "collapsed": true
   },
   "outputs": [],
   "source": [
    "\n",
    "\n",
    "\n",
    "\n",
    "\n",
    "\n",
    "\n"
   ]
  }
 ],
 "metadata": {
  "kernelspec": {
   "display_name": "Python 2",
   "language": "python",
   "name": "python2"
  },
  "language_info": {
   "codemirror_mode": {
    "name": "ipython",
    "version": 2
   },
   "file_extension": ".py",
   "mimetype": "text/x-python",
   "name": "python",
   "nbconvert_exporter": "python",
   "pygments_lexer": "ipython2",
   "version": "2.7.13"
  },
  "toc": {
   "colors": {
    "hover_highlight": "#DAA520",
    "navigate_num": "#000000",
    "navigate_text": "#333333",
    "running_highlight": "#FF0000",
    "selected_highlight": "#FFD700",
    "sidebar_border": "#EEEEEE",
    "wrapper_background": "#FFFFFF"
   },
   "moveMenuLeft": true,
   "nav_menu": {
    "height": "12px",
    "width": "252px"
   },
   "navigate_menu": true,
   "number_sections": true,
   "sideBar": true,
   "threshold": 4,
   "toc_cell": false,
   "toc_section_display": "block",
   "toc_window_display": false,
   "widenNotebook": false
  }
 },
 "nbformat": 4,
 "nbformat_minor": 1
}
