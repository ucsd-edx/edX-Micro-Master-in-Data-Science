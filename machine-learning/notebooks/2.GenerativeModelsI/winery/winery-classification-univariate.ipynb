{
 "cells": [
  {
   "cell_type": "markdown",
   "metadata": {},
   "source": [
    "## Setup Notebook"
   ]
  },
  {
   "cell_type": "markdown",
   "metadata": {},
   "source": [
    "We import useful packages"
   ]
  },
  {
   "cell_type": "code",
   "execution_count": 25,
   "metadata": {},
   "outputs": [
    {
     "name": "stdout",
     "output_type": "stream",
     "text": [
      "The object 'helper' has been imported into this notebook.\n"
     ]
    }
   ],
   "source": [
    "# Standard includes\n",
    "%matplotlib inline\n",
    "%run helper.ipynb\n",
    "import numpy as np\n",
    "import matplotlib.pyplot as plt\n",
    "from inspect import getsource\n",
    "from scipy.stats import norm, multivariate_normal # module for dealing with the Gaussians"
   ]
  },
  {
   "cell_type": "code",
   "execution_count": 26,
   "metadata": {
    "collapsed": true
   },
   "outputs": [],
   "source": [
    "# installing packages for interactive graphs\n",
    "import ipywidgets as widgets\n",
    "from IPython.display import display\n",
    "from ipywidgets import interact, interactive, fixed, interact_manual, IntSlider"
   ]
  },
  {
   "cell_type": "markdown",
   "metadata": {},
   "source": [
    "We load in the wine test and training datasets.\n",
    "The dataset consists of 130 training points and 48 test points.\n",
    "There are 13 features and a label with one of the values, (1,2,3).\n",
    "\n",
    "* **x:** an `np.array` of the 130 training points' features.\n",
    "* **y:** an `np.array` of the 130 training labels.\n",
    "* **tx:** an `np.array` of the 48 test points' features.\n",
    "* **ty:** an `np.array` of the 48 test points' labels."
   ]
  },
  {
   "cell_type": "code",
   "execution_count": 27,
   "metadata": {},
   "outputs": [
    {
     "name": "stdout",
     "output_type": "stream",
     "text": [
      "x.shape : (130, 13)\n",
      "tx.shape : (48, 13)\n",
      "y.shape : (130,)\n",
      "ty.shape : (48,)\n",
      "\n",
      "Names of Features:\n",
      "['Alcohol', 'Malic acid', 'Ash', 'Alcalinity of ash', 'Magnesium', 'Total phenols', 'Flavanoids', 'Nonflavanoid phenols', 'Proanthocyanins', 'Color intensity', 'Hue', 'OD280/OD315 of diluted wines', 'Proline']\n"
     ]
    }
   ],
   "source": [
    "x,y,tx,ty = helper.x, helper.y, helper.tx, helper.ty\n",
    "print \"x.shape :\",x.shape\n",
    "print \"tx.shape :\",tx.shape\n",
    "print \"y.shape :\",y.shape\n",
    "print \"ty.shape :\",ty.shape\n",
    "\n",
    "featurenames = helper.featurenames\n",
    "print;print \"Names of Features:\"; print featurenames"
   ]
  },
  {
   "cell_type": "markdown",
   "metadata": {},
   "source": [
    "Let's see how many training points there are from each class."
   ]
  },
  {
   "cell_type": "code",
   "execution_count": 28,
   "metadata": {},
   "outputs": [
    {
     "data": {
      "text/plain": [
       "(43, 51, 36)"
      ]
     },
     "execution_count": 28,
     "metadata": {},
     "output_type": "execute_result"
    }
   ],
   "source": [
    "sum(y==1), sum(y==2), sum(y==3)"
   ]
  },
  {
   "cell_type": "markdown",
   "metadata": {},
   "source": [
    "### <font color=\"magenta\">*Fast Exercise*</font>"
   ]
  },
  {
   "cell_type": "markdown",
   "metadata": {},
   "source": [
    "Can you see how many test points there are from each class?\n",
    "\n",
    "Write a function, **sumTestClasses**, that, like above, returns a tuple $(\\text{sum}_1,\\, \\text{sum}_2,\\, \\text{sum}_3)$ but this time for the test points."
   ]
  },
  {
   "cell_type": "code",
   "execution_count": 22,
   "metadata": {
    "collapsed": true
   },
   "outputs": [],
   "source": [
    "# modify this cell\n",
    "\n",
    "def sumTestClasses():\n",
    "    # inputs: no inputs, but you should call a variable from x, y, tx, ty\n",
    "    # output: ( sum_1, sum_2, sum_3)\n",
    "    \n",
    "    ### BEGIN SOLUTION\n",
    "    return sum(ty==1), sum(ty==2), sum(ty==3)\n",
    "    ### END SOLUTION"
   ]
  },
  {
   "cell_type": "code",
   "execution_count": 23,
   "metadata": {
    "collapsed": true
   },
   "outputs": [],
   "source": [
    "# Check Function\n",
    "assert sumTestClasses() == (16, 20, 12)"
   ]
  },
  {
   "cell_type": "markdown",
   "metadata": {},
   "source": [
    "## Look at the distribution of a single feature from one of the wineries"
   ]
  },
  {
   "cell_type": "markdown",
   "metadata": {},
   "source": [
    "Now we'll pick just one feature: 'Alcohol'. This is the first feature, that is, number 0.\n",
    "\n",
    "We will display a histogram of this feature's values under class 1. We will also show the Gaussian fit to this distribution."
   ]
  },
  {
   "cell_type": "code",
   "execution_count": 24,
   "metadata": {},
   "outputs": [
    {
     "data": {
      "application/vnd.jupyter.widget-view+json": {
       "model_id": "abe4e461d6434ed28ba746645f331adc"
      }
     },
     "metadata": {},
     "output_type": "display_data"
    },
    {
     "data": {
      "text/plain": [
       "<function __main__.densityPlot>"
      ]
     },
     "execution_count": 24,
     "metadata": {},
     "output_type": "execute_result"
    }
   ],
   "source": [
    "interact_manual( helper.uni.densityPlot, feature=IntSlider(0,0,12), label=IntSlider(1,1,3))"
   ]
  },
  {
   "cell_type": "markdown",
   "metadata": {},
   "source": [
    "### <font color=\"magenta\">*Fast Exercise*</font>"
   ]
  },
  {
   "cell_type": "markdown",
   "metadata": {},
   "source": [
    "The above cell shows the histogram and Gaussian fit to feature #0 for winery 1. Try looking at the plot for different features and different wineries.\n",
    "\n",
    "The code for plotting the Gaussian density focuses on the region within 3 standard deviations of the mean. Do you see where this happens? Why did we make this choice?\n",
    "\n",
    "** *Hint:* ** Use `np.mean` and `np.var`"
   ]
  },
  {
   "cell_type": "markdown",
   "metadata": {},
   "source": [
    "Write a function, **hueForTwo**, which returns the tuple, $(\\text{mean}\\,,\\text{var}\\,,\\text{s.d.})$ of feature #11 (*hue*) for winery 2."
   ]
  },
  {
   "cell_type": "code",
   "execution_count": 8,
   "metadata": {
    "collapsed": true
   },
   "outputs": [],
   "source": [
    "# modify this cell\n",
    "\n",
    "def hueForTwo():\n",
    "    # inputs: no inputs, but you should call variables from x, y, tx, ty\n",
    "    # output: ( mean, var, sd)\n",
    "    \n",
    "    ### BEGIN SOLUTION\n",
    "    feature = 11\n",
    "    label = 2\n",
    "    mu = np.mean(x[y==label,feature]) # mean\n",
    "    var = np.var(x[y==label,feature]) # variance\n",
    "    std = np.sqrt(var) # standard deviation\n",
    "    return mu, var, std\n",
    "    ### END SOLUTION"
   ]
  },
  {
   "cell_type": "code",
   "execution_count": 9,
   "metadata": {
    "collapsed": true
   },
   "outputs": [],
   "source": [
    "# Check Function\n",
    "assert sum(abs( hueForTwo() - np.array([2.76411764705, 0.2300477508650, 0.4796329334658]) )) < 10**-5"
   ]
  },
  {
   "cell_type": "markdown",
   "metadata": {},
   "source": [
    "## Fit a Gaussian to each class"
   ]
  },
  {
   "cell_type": "markdown",
   "metadata": {},
   "source": [
    "Let's define a function that will fit a Gaussian generative model to the three classes, restricted to just a single feature."
   ]
  },
  {
   "cell_type": "markdown",
   "metadata": {},
   "source": [
    "Call this function on the feature 'alcohol'. Print the class weights as a sanity check."
   ]
  },
  {
   "cell_type": "code",
   "execution_count": 10,
   "metadata": {},
   "outputs": [
    {
     "data": {
      "text/plain": [
       "(0.33076923076923076, 0.3923076923076923, 0.27692307692307694)"
      ]
     },
     "execution_count": 10,
     "metadata": {},
     "output_type": "execute_result"
    }
   ],
   "source": [
    "feature = 0 # 'alcohol'\n",
    "mu, var, pi = helper.uni.fit_generative_model(feature)\n",
    "pi[1], pi[2], pi[3]"
   ]
  },
  {
   "cell_type": "markdown",
   "metadata": {},
   "source": [
    "Next, display the Gaussian distribution for each of the three classes"
   ]
  },
  {
   "cell_type": "code",
   "execution_count": 12,
   "metadata": {},
   "outputs": [
    {
     "data": {
      "application/vnd.jupyter.widget-view+json": {
       "model_id": "5ea5ba20db2c4e3db1234049bbdcff1a"
      }
     },
     "metadata": {},
     "output_type": "display_data"
    },
    {
     "data": {
      "text/plain": [
       "<function __main__.gaussians>"
      ]
     },
     "execution_count": 12,
     "metadata": {},
     "output_type": "execute_result"
    }
   ],
   "source": [
    "interact_manual( helper.uni.gaussians, feature=IntSlider(0,0,12) )\n"
   ]
  },
  {
   "cell_type": "markdown",
   "metadata": {},
   "source": [
    "### <font color=\"magenta\">*Fast Exercise*</font>"
   ]
  },
  {
   "cell_type": "markdown",
   "metadata": {},
   "source": [
    "Use the widget below to check out the class distributions for different features."
   ]
  },
  {
   "cell_type": "markdown",
   "metadata": {},
   "source": [
    "Write a function, **mostIntense**, which returns the number of the class that has the highest (*mean*) color intensity."
   ]
  },
  {
   "cell_type": "code",
   "execution_count": 13,
   "metadata": {
    "collapsed": true
   },
   "outputs": [],
   "source": [
    "# modify this cell\n",
    "\n",
    "def mostIntense():\n",
    "    # inputs: no inputs, use the interactive graphic above to figure out the answer\n",
    "    # output: an integer, either 1, 2, or 3\n",
    "    \n",
    "    ### BEGIN SOLUTION\n",
    "    return 3\n",
    "    ### END SOLUTION"
   ]
  },
  {
   "cell_type": "code",
   "execution_count": 14,
   "metadata": {
    "collapsed": true
   },
   "outputs": [],
   "source": [
    "# Check Function\n",
    "assert mostIntense() == 3"
   ]
  },
  {
   "cell_type": "markdown",
   "metadata": {},
   "source": [
    "## Prediction time"
   ]
  },
  {
   "cell_type": "markdown",
   "metadata": {},
   "source": [
    "How well do you think, we can predict the class (1,2,3) based just on one feature? The code below lets us find this out.\n",
    "\n",
    "Later we will look at larger sets of features as well, so we define a general-purpose routine that returns the test error using *any* subset of features."
   ]
  },
  {
   "cell_type": "markdown",
   "metadata": {},
   "source": [
    "Okay, so let's determine the test error using just the 'Alcohol' feature."
   ]
  },
  {
   "cell_type": "code",
   "execution_count": 15,
   "metadata": {},
   "outputs": [
    {
     "data": {
      "application/vnd.jupyter.widget-view+json": {
       "model_id": "c4329ce80c464cf38dd693fdd0d03646"
      }
     },
     "metadata": {},
     "output_type": "display_data"
    },
    {
     "data": {
      "text/plain": [
       "<function __main__.test_model>"
      ]
     },
     "execution_count": 15,
     "metadata": {},
     "output_type": "execute_result"
    }
   ],
   "source": [
    "interact(helper.uni.test_model, feature=IntSlider(0,0,12) )\n"
   ]
  },
  {
   "cell_type": "markdown",
   "metadata": {},
   "source": [
    "### <font color=\"magenta\">*Fast Exercise*</font>"
   ]
  },
  {
   "cell_type": "markdown",
   "metadata": {},
   "source": [
    "Try checking out the test error for different features. "
   ]
  },
  {
   "cell_type": "markdown",
   "metadata": {
    "collapsed": true
   },
   "source": [
    "Write a function, **featureFacts**, that returns $(\\text{magnesuim_test_error}\\,,\\,\\text{best_feature}\\, ,\\,\\text{worst_feature})$"
   ]
  },
  {
   "cell_type": "code",
   "execution_count": 16,
   "metadata": {
    "collapsed": true
   },
   "outputs": [],
   "source": [
    "# modify this cell\n",
    "\n",
    "def featureFacts():\n",
    "    # inputs: no inputs, use the interactive graphic above to figure out the answer\n",
    "    # output: (float, int, int) as described above\n",
    "    \n",
    "    ### BEGIN SOLUTION\n",
    "    return (0.5208333333, 2 , 6)\n",
    "    ### END SOLUTION"
   ]
  },
  {
   "cell_type": "code",
   "execution_count": 17,
   "metadata": {
    "collapsed": true
   },
   "outputs": [],
   "source": [
    "# Check Function\n",
    "assert sum(abs(featureFacts() - np.array([0.5208333333, 2 , 6]) )) < 10**-5"
   ]
  },
  {
   "cell_type": "code",
   "execution_count": null,
   "metadata": {
    "collapsed": true
   },
   "outputs": [],
   "source": [
    "\n",
    "\n",
    "\n",
    "\n",
    "\n",
    "\n",
    "\n"
   ]
  }
 ],
 "metadata": {
  "kernelspec": {
   "display_name": "Python 2",
   "language": "python",
   "name": "python2"
  },
  "language_info": {
   "codemirror_mode": {
    "name": "ipython",
    "version": 2
   },
   "file_extension": ".py",
   "mimetype": "text/x-python",
   "name": "python",
   "nbconvert_exporter": "python",
   "pygments_lexer": "ipython2",
   "version": "2.7.13"
  },
  "toc": {
   "colors": {
    "hover_highlight": "#DAA520",
    "navigate_num": "#000000",
    "navigate_text": "#333333",
    "running_highlight": "#FF0000",
    "selected_highlight": "#FFD700",
    "sidebar_border": "#EEEEEE",
    "wrapper_background": "#FFFFFF"
   },
   "moveMenuLeft": true,
   "nav_menu": {
    "height": "12px",
    "width": "252px"
   },
   "navigate_menu": true,
   "number_sections": true,
   "sideBar": true,
   "threshold": 4,
   "toc_cell": false,
   "toc_section_display": "block",
   "toc_window_display": false,
   "widenNotebook": false
  }
 },
 "nbformat": 4,
 "nbformat_minor": 1
}
